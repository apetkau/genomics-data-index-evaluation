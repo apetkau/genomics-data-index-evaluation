{
 "cells": [
  {
   "cell_type": "markdown",
   "id": "acfa5482-d626-44d6-b613-863e6911fa98",
   "metadata": {
    "tags": []
   },
   "source": [
    "# 1. Parameters"
   ]
  },
  {
   "cell_type": "code",
   "execution_count": 1,
   "id": "36126d74-a9d8-4431-ba49-767c1fc2ec49",
   "metadata": {
    "tags": [
     "parameters"
    ]
   },
   "outputs": [],
   "source": [
    "# Defaults\n",
    "datasets_root_dir = 'data/datasets'\n",
    "fastq_out_dir = 'data/fastq'\n",
    "ncores=32"
   ]
  },
  {
   "cell_type": "code",
   "execution_count": 2,
   "id": "15e911d7-0ffc-4110-aefe-71bc77e689cd",
   "metadata": {},
   "outputs": [
    {
     "data": {
      "text/plain": [
       "[PosixPath('data/datasets/Campylobacter_jejuni_0810PADBR-1/reads'),\n",
       " PosixPath('data/datasets/Escherichia_coli_1405WAEXK-1/reads'),\n",
       " PosixPath('data/datasets/Listeria_monocytogenes_1408MLGX6-3WGS/reads'),\n",
       " PosixPath('data/datasets/Salmonella_enterica_1203NYJAP-1/reads')]"
      ]
     },
     "execution_count": 2,
     "metadata": {},
     "output_type": "execute_result"
    }
   ],
   "source": [
    "from pathlib import Path\n",
    "import os\n",
    "\n",
    "datasets_root = Path(datasets_root_dir)\n",
    "fastq_out = Path(fastq_out_dir)\n",
    "\n",
    "read_dir_names = ['Campylobacter_jejuni_0810PADBR-1', 'Escherichia_coli_1405WAEXK-1',\n",
    "                 'Listeria_monocytogenes_1408MLGX6-3WGS', 'Salmonella_enterica_1203NYJAP-1']\n",
    "\n",
    "input_reads_paths = [datasets_root / x / 'reads' for x in read_dir_names]\n",
    "\n",
    "if not fastq_out.exists():\n",
    "    os.mkdir(fastq_out)\n",
    "    \n",
    "input_reads_paths"
   ]
  },
  {
   "cell_type": "markdown",
   "id": "rotary-regard",
   "metadata": {},
   "source": [
    "# 2. Fix reads\n",
    "\n",
    "Fix read file names and data so they can be indexed."
   ]
  },
  {
   "cell_type": "code",
   "execution_count": 3,
   "id": "convenient-blackberry",
   "metadata": {},
   "outputs": [],
   "source": [
    "import os\n",
    "\n",
    "# Fix warning about locale unset\n",
    "os.environ['LANG'] = 'en_US.UTF-8'"
   ]
  },
  {
   "cell_type": "markdown",
   "id": "median-belle",
   "metadata": {},
   "source": [
    "Some reads downloaded have different names for each pair:\n",
    "\n",
    "* Pair 1: `@SRR1993270_HWI-D00290:61:HA99HADXX:1:1101:2142:2223_forward/1`\n",
    "* Pair 2: `@SRR1993270_HWI-D00290:61:HA99HADXX:1:1101:2142:2223_reverse/2`\n",
    "\n",
    "In order to run snippy, these paired identifiers need to match (except for the `/1` and `/2` suffix).\n",
    "\n",
    "So, I have to replace them all with something unique, but which matches in each pair of files. I do this by removing the `_forward` and `_reverse` from the identifiers:\n",
    "\n",
    "* Pair 1: `@SRR1993270_HWI-D00290:61:HA99HADXX:1:1101:2142:2223/1`\n",
    "* Pair 2: `@SRR1993270_HWI-D00290:61:HA99HADXX:1:1101:2142:2223/2`"
   ]
  },
  {
   "cell_type": "code",
   "execution_count": 4,
   "id": "remarkable-berry",
   "metadata": {},
   "outputs": [
    {
     "name": "stdout",
     "output_type": "stream",
     "text": [
      "Working on 44 files in data/datasets/Campylobacter_jejuni_0810PADBR-1/reads\n",
      "Working on 18 files in data/datasets/Escherichia_coli_1405WAEXK-1/reads\n",
      "Working on 62 files in data/datasets/Listeria_monocytogenes_1408MLGX6-3WGS/reads\n",
      "Working on 46 files in data/datasets/Salmonella_enterica_1203NYJAP-1/reads\n"
     ]
    }
   ],
   "source": [
    "import glob\n",
    "import os\n",
    "\n",
    "for reads_dir in input_reads_paths:\n",
    "    files = [os.path.basename(f) for f in glob.glob(f'{reads_dir}/*.fastq.gz')]\n",
    "    print(f'Working on {len(files)} files in {reads_dir}')\n",
    "    !parallel -j {ncores} -I% 'gzip -d --stdout {reads_dir}/% | perl scripts/replace-fastq-header.pl | gzip > {fastq_out}/%' \\\n",
    "        ::: {' '.join(files)}"
   ]
  }
 ],
 "metadata": {
  "kernelspec": {
   "display_name": "Python 3 (ipykernel)",
   "language": "python",
   "name": "python3"
  },
  "language_info": {
   "codemirror_mode": {
    "name": "ipython",
    "version": 3
   },
   "file_extension": ".py",
   "mimetype": "text/x-python",
   "name": "python",
   "nbconvert_exporter": "python",
   "pygments_lexer": "ipython3",
   "version": "3.8.12"
  }
 },
 "nbformat": 4,
 "nbformat_minor": 5
}
