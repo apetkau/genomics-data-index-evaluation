{
 "cells": [
  {
   "cell_type": "markdown",
   "id": "7d3667b4-b1f8-4347-96e3-830c25b06740",
   "metadata": {
    "papermill": {
     "duration": 0.019527,
     "end_time": "2022-02-05T22:52:57.991442",
     "exception": false,
     "start_time": "2022-02-05T22:52:57.971915",
     "status": "completed"
    },
    "tags": []
   },
   "source": [
    "# 1. Parameters"
   ]
  },
  {
   "cell_type": "code",
   "execution_count": 1,
   "id": "d4ab0749-b286-4c34-b63c-a854e4952bae",
   "metadata": {
    "execution": {
     "iopub.execute_input": "2022-02-05T22:52:58.024111Z",
     "iopub.status.busy": "2022-02-05T22:52:58.023548Z",
     "iopub.status.idle": "2022-02-05T22:52:58.030181Z",
     "shell.execute_reply": "2022-02-05T22:52:58.029096Z"
    },
    "papermill": {
     "duration": 0.030083,
     "end_time": "2022-02-05T22:52:58.030456",
     "exception": false,
     "start_time": "2022-02-05T22:52:58.000373",
     "status": "completed"
    },
    "tags": [
     "parameters"
    ]
   },
   "outputs": [],
   "source": [
    "from pathlib import Path\n",
    "\n",
    "# Defaults\n",
    "cases_dir = 'cases/full'\n",
    "metadata_file = 'metadata.tsv'\n",
    "iterations = 1\n",
    "mincov = 10\n",
    "ncores = 32\n",
    "\n",
    "reference_files = {\n",
    "    '0810PADBR-1': Path('data/reference/campylobacter/GCA_001879185.2_ASM187918v2_genomic.gbk.gz'),\n",
    "    '1405WAEXK-1': Path('data/reference/ecoli/GCF_000703365.1_Ec2011C-3609_genomic.gbk.gz'),\n",
    "    '1408MLGX6-3WGS': Path('data/reference/listeria/GCF_001047715.2_ASM104771v2_genomic.gbk.gz'),\n",
    "    '1203NYJAP-1 - Tuna Scrape Outbreak': Path('data/reference/salmonella/GCF_000439415.1_ASM43941v1_genomic.gbk.gz'),\n",
    "}\n",
    "    \n",
    "build_tree = True\n",
    "sample_batch_size=10"
   ]
  },
  {
   "cell_type": "code",
   "execution_count": 2,
   "id": "ce5962e4-261c-4210-b39b-47044e28466b",
   "metadata": {
    "execution": {
     "iopub.execute_input": "2022-02-05T22:52:58.065167Z",
     "iopub.status.busy": "2022-02-05T22:52:58.064616Z",
     "iopub.status.idle": "2022-02-05T22:53:00.785670Z",
     "shell.execute_reply": "2022-02-05T22:53:00.786565Z"
    },
    "papermill": {
     "duration": 2.742111,
     "end_time": "2022-02-05T22:53:00.786861",
     "exception": false,
     "start_time": "2022-02-05T22:52:58.044750",
     "status": "completed"
    },
    "tags": []
   },
   "outputs": [
    {
     "data": {
      "text/plain": [
       "{'0810PADBR-1': PosixPath('cases/full/0810PADBR-1_tree.tre'),\n",
       " '1405WAEXK-1': PosixPath('cases/full/1405WAEXK-1_tree.tre'),\n",
       " '1408MLGX6-3WGS': PosixPath('cases/full/1408MLGX6-3WGS_tree.tre'),\n",
       " '1203NYJAP-1 - Tuna Scrape Outbreak': PosixPath('cases/full/1203NYJAP-1_-_Tuna_Scrape_Outbreak_tree.tre')}"
      ]
     },
     "execution_count": 2,
     "metadata": {},
     "output_type": "execute_result"
    }
   ],
   "source": [
    "from pathlib import Path\n",
    "from shutil import rmtree\n",
    "from os import makedirs\n",
    "import imp\n",
    "fp, pathname, description = imp.find_module('gdi_benchmark', ['../../lib'])\n",
    "gdi_benchmark = imp.load_module('gdi_benchmark', fp, pathname, description)\n",
    "\n",
    "cases_dir_path = Path(cases_dir)\n",
    "index_path = cases_dir_path / 'index'\n",
    "\n",
    "if cases_dir_path.exists():\n",
    "    rmtree(cases_dir_path)\n",
    "    \n",
    "if not cases_dir_path.exists():\n",
    "    makedirs(cases_dir_path)\n",
    "\n",
    "case_name = str(cases_dir_path.name)\n",
    "\n",
    "benchmark_path = cases_dir_path / 'index-info.tsv'\n",
    "\n",
    "output_trees = {x: cases_dir_path / f'{x}_tree.tre'.replace(' ', '_') for x in reference_files}\n",
    "output_trees"
   ]
  },
  {
   "cell_type": "markdown",
   "id": "1673d80f-b52a-4b68-b400-355540495e15",
   "metadata": {
    "papermill": {
     "duration": 0.00858,
     "end_time": "2022-02-05T22:53:00.810252",
     "exception": false,
     "start_time": "2022-02-05T22:53:00.801672",
     "status": "completed"
    },
    "tags": []
   },
   "source": [
    "# 2. Create subset inputs"
   ]
  },
  {
   "cell_type": "code",
   "execution_count": 3,
   "id": "4e66adb1-3ef7-45d1-8e46-723dcb9d0c31",
   "metadata": {
    "execution": {
     "iopub.execute_input": "2022-02-05T22:53:00.839074Z",
     "iopub.status.busy": "2022-02-05T22:53:00.837425Z",
     "iopub.status.idle": "2022-02-05T22:53:00.873478Z",
     "shell.execute_reply": "2022-02-05T22:53:00.872521Z"
    },
    "papermill": {
     "duration": 0.056751,
     "end_time": "2022-02-05T22:53:00.873705",
     "exception": false,
     "start_time": "2022-02-05T22:53:00.816954",
     "status": "completed"
    },
    "tags": []
   },
   "outputs": [
    {
     "name": "stdout",
     "output_type": "stream",
     "text": [
      "Wrote dataset=0810PADBR-1 consisting of 22/85 samples to cases/full/0810PADBR-1_input-files-case.tsv\n",
      "Wrote dataset=1405WAEXK-1 consisting of 9/85 samples to cases/full/1405WAEXK-1_input-files-case.tsv\n",
      "Wrote dataset=1408MLGX6-3WGS consisting of 31/85 samples to cases/full/1408MLGX6-3WGS_input-files-case.tsv\n",
      "Wrote dataset=1203NYJAP-1 - Tuna Scrape Outbreak consisting of 23/85 samples to cases/full/1203NYJAP-1_-_Tuna_Scrape_Outbreak_input-files-case.tsv\n"
     ]
    },
    {
     "data": {
      "text/plain": [
       "{'0810PADBR-1': PosixPath('cases/full/0810PADBR-1_input-files-case.tsv'),\n",
       " '1405WAEXK-1': PosixPath('cases/full/1405WAEXK-1_input-files-case.tsv'),\n",
       " '1408MLGX6-3WGS': PosixPath('cases/full/1408MLGX6-3WGS_input-files-case.tsv'),\n",
       " '1203NYJAP-1 - Tuna Scrape Outbreak': PosixPath('cases/full/1203NYJAP-1_-_Tuna_Scrape_Outbreak_input-files-case.tsv')}"
      ]
     },
     "execution_count": 3,
     "metadata": {},
     "output_type": "execute_result"
    }
   ],
   "source": [
    "import pandas as pd\n",
    "from pathlib import Path\n",
    "from typing import Dict\n",
    "\n",
    "metadata_df = pd.read_csv(metadata_file, sep='\\t')\n",
    "\n",
    "def write_subset_input(metadata_df: pd.DataFrame, dataset_name: str) -> Path:\n",
    "    all_input_total = len(metadata_df)\n",
    "    cases_input = cases_dir_path / f'{dataset_name}_input-files-case.tsv'.replace(' ', '_')\n",
    "\n",
    "    input_df = metadata_df.copy().loc[metadata_df['dataSetName'] == dataset_name]\n",
    "    input_df['Sample'] = input_df['strain']\n",
    "    input_df['Assemblies'] = pd.NA\n",
    "    input_df['Reads1'] = input_df['Sample'].apply(lambda x: str((Path('data') / 'fastq' / (x + '_1.fastq.gz')).absolute()))\n",
    "    input_df['Reads2'] = input_df['Sample'].apply(lambda x: str((Path('data') / 'fastq' / (x + '_2.fastq.gz')).absolute()))\n",
    "    input_df = input_df[['Sample', 'Assemblies', 'Reads1', 'Reads2']]\n",
    "\n",
    "    input_df.to_csv(cases_input, sep='\\t', index=False)\n",
    "\n",
    "    subset_input_total = len(input_df)\n",
    "\n",
    "    print(f'Wrote dataset={dataset_name} consisting of {subset_input_total}/{all_input_total} samples to {cases_input}')\n",
    "    \n",
    "    return cases_input\n",
    "\n",
    "cases_inputs = {x: write_subset_input(metadata_df, dataset_name=x) for x in reference_files}\n",
    "cases_inputs"
   ]
  },
  {
   "cell_type": "markdown",
   "id": "f208279e-7558-47fc-9362-da29df92828a",
   "metadata": {
    "papermill": {
     "duration": 0.00854,
     "end_time": "2022-02-05T22:53:00.896298",
     "exception": false,
     "start_time": "2022-02-05T22:53:00.887758",
     "status": "completed"
    },
    "tags": []
   },
   "source": [
    "# 2. Index genomes"
   ]
  },
  {
   "cell_type": "code",
   "execution_count": 4,
   "id": "4e936f7c-2fcd-4188-b0e6-6b3ceb5cdcd2",
   "metadata": {
    "execution": {
     "iopub.execute_input": "2022-02-05T22:53:00.914790Z",
     "iopub.status.busy": "2022-02-05T22:53:00.914414Z",
     "iopub.status.idle": "2022-02-05T22:53:04.283011Z",
     "shell.execute_reply": "2022-02-05T22:53:04.283906Z"
    },
    "papermill": {
     "duration": 3.38149,
     "end_time": "2022-02-05T22:53:04.284225",
     "exception": false,
     "start_time": "2022-02-05T22:53:00.902735",
     "status": "completed"
    },
    "tags": []
   },
   "outputs": [
    {
     "name": "stdout",
     "output_type": "stream",
     "text": [
      "gdi, version 0.5.0\r\n"
     ]
    }
   ],
   "source": [
    "!gdi --version"
   ]
  },
  {
   "cell_type": "markdown",
   "id": "5409ecf8-2158-4361-9d2f-6b1a6c7c63a6",
   "metadata": {
    "papermill": {
     "duration": 0.009655,
     "end_time": "2022-02-05T22:53:04.309805",
     "exception": false,
     "start_time": "2022-02-05T22:53:04.300150",
     "status": "completed"
    },
    "tags": []
   },
   "source": [
    "## 2.1. Index reads"
   ]
  },
  {
   "cell_type": "code",
   "execution_count": 5,
   "id": "3d63e861-733e-46f2-8bce-bd1a2c7c7058",
   "metadata": {
    "execution": {
     "iopub.execute_input": "2022-02-05T22:53:04.333306Z",
     "iopub.status.busy": "2022-02-05T22:53:04.332696Z",
     "iopub.status.idle": "2022-02-06T00:04:08.167671Z",
     "shell.execute_reply": "2022-02-06T00:04:08.168598Z"
    },
    "papermill": {
     "duration": 4263.852294,
     "end_time": "2022-02-06T00:04:08.168934",
     "exception": false,
     "start_time": "2022-02-05T22:53:04.316640",
     "status": "completed"
    },
    "tags": []
   },
   "outputs": [
    {
     "name": "stdout",
     "output_type": "stream",
     "text": [
      "Creating new index: [gdi init cases/full/index]\n"
     ]
    },
    {
     "name": "stdout",
     "output_type": "stream",
     "text": [
      "Creating a new index took 3.69 seconds\n"
     ]
    },
    {
     "name": "stdout",
     "output_type": "stream",
     "text": [
      "\n",
      "Iteration 1 of index/analysis of 22 samples for reference=data/reference/campylobacter/GCA_001879185.2_ASM187918v2_genomic.gbk.gz with 32 cores\n",
      "Removing any extra snakemake directories: []\n",
      "Analysis running: [gdi --project-dir cases/full/index --ncores 32 analysis --use-conda --no-load-data --reference-file data/reference/campylobacter/GCA_001879185.2_ASM187918v2_genomic.gbk.gz --kmer-size 31 --kmer-size 51 --kmer-size 71 --include-kmer --reads-mincov 10 --input-structured-genomes-file cases/full/0810PADBR-1_input-files-case.tsv]\n"
     ]
    },
    {
     "name": "stdout",
     "output_type": "stream",
     "text": [
      "Analysis took 16.85 minutes\n",
      "Index running: [gdi --project-dir cases/full/index --ncores 32 load vcf-kmer --sample-batch-size 10 --reference-file data/reference/campylobacter/GCA_001879185.2_ASM187918v2_genomic.gbk.gz /home/CSCScience.ca/apetkau/workspace/genomics-data-index-evaluation/evaluations/reads/snakemake-assemblies.1644101592.037098/gdi-input.fofn]\n"
     ]
    },
    {
     "name": "stdout",
     "output_type": "stream",
     "text": [
      "Indexing took 0.89 minutes\n",
      "Building tree: [gdi --project-dir cases/full/index --ncores 32 rebuild tree --align-type full --extra-params '--fast -m GTR+F+R4' GCA_001879185.2_ASM187918v2_genomic]\n"
     ]
    },
    {
     "name": "stdout",
     "output_type": "stream",
     "text": [
      "Building tree took 1.88 minutes\n"
     ]
    },
    {
     "name": "stderr",
     "output_type": "stream",
     "text": [
      "A reminder to myself to look for a Python solution for directory sizes (instead of running `du`)\n"
     ]
    },
    {
     "name": "stdout",
     "output_type": "stream",
     "text": [
      "\n",
      "Iteration 1 of index/analysis of 9 samples for reference=data/reference/ecoli/GCF_000703365.1_Ec2011C-3609_genomic.gbk.gz with 32 cores\n",
      "Removing any extra snakemake directories: ['snakemake-assemblies.1644101592.037098']\n"
     ]
    },
    {
     "name": "stdout",
     "output_type": "stream",
     "text": [
      "Analysis running: [gdi --project-dir cases/full/index --ncores 32 analysis --use-conda --no-load-data --reference-file data/reference/ecoli/GCF_000703365.1_Ec2011C-3609_genomic.gbk.gz --kmer-size 31 --kmer-size 51 --kmer-size 71 --include-kmer --reads-mincov 10 --input-structured-genomes-file cases/full/1405WAEXK-1_input-files-case.tsv]\n"
     ]
    },
    {
     "name": "stdout",
     "output_type": "stream",
     "text": [
      "Analysis took 12.22 minutes\n",
      "Index running: [gdi --project-dir cases/full/index --ncores 32 load vcf-kmer --sample-batch-size 10 --reference-file data/reference/ecoli/GCF_000703365.1_Ec2011C-3609_genomic.gbk.gz /home/CSCScience.ca/apetkau/workspace/genomics-data-index-evaluation/evaluations/reads/snakemake-assemblies.1644102775.0772932/gdi-input.fofn]\n"
     ]
    },
    {
     "name": "stdout",
     "output_type": "stream",
     "text": [
      "Indexing took 3.56 minutes\n",
      "Building tree: [gdi --project-dir cases/full/index --ncores 32 rebuild tree --align-type full --extra-params '--fast -m GTR+F+R4' GCF_000703365.1_Ec2011C-3609_genomic]\n"
     ]
    },
    {
     "name": "stdout",
     "output_type": "stream",
     "text": [
      "Building tree took 2.16 minutes\n"
     ]
    },
    {
     "name": "stderr",
     "output_type": "stream",
     "text": [
      "Attempting to set global database_path_translator=<genomics_data_index.storage.model.db.DatabasePathTranslator.DatabasePathTranslator object at 0x7f33cbe70d30> but it is already set\n"
     ]
    },
    {
     "name": "stderr",
     "output_type": "stream",
     "text": [
      "A reminder to myself to look for a Python solution for directory sizes (instead of running `du`)\n"
     ]
    },
    {
     "name": "stdout",
     "output_type": "stream",
     "text": [
      "\n",
      "Iteration 1 of index/analysis of 31 samples for reference=data/reference/listeria/GCF_001047715.2_ASM104771v2_genomic.gbk.gz with 32 cores\n",
      "Removing any extra snakemake directories: ['snakemake-assemblies.1644102775.0772932']\n"
     ]
    },
    {
     "name": "stdout",
     "output_type": "stream",
     "text": [
      "Analysis running: [gdi --project-dir cases/full/index --ncores 32 analysis --use-conda --no-load-data --reference-file data/reference/listeria/GCF_001047715.2_ASM104771v2_genomic.gbk.gz --kmer-size 31 --kmer-size 51 --kmer-size 71 --include-kmer --reads-mincov 10 --input-structured-genomes-file cases/full/1408MLGX6-3WGS_input-files-case.tsv]\n"
     ]
    },
    {
     "name": "stdout",
     "output_type": "stream",
     "text": [
      "Analysis took 12.32 minutes\n",
      "Index running: [gdi --project-dir cases/full/index --ncores 32 load vcf-kmer --sample-batch-size 10 --reference-file data/reference/listeria/GCF_001047715.2_ASM104771v2_genomic.gbk.gz /home/CSCScience.ca/apetkau/workspace/genomics-data-index-evaluation/evaluations/reads/snakemake-assemblies.1644103855.3742/gdi-input.fofn]\n"
     ]
    },
    {
     "name": "stdout",
     "output_type": "stream",
     "text": [
      "Indexing took 1.98 minutes\n",
      "Building tree: [gdi --project-dir cases/full/index --ncores 32 rebuild tree --align-type full --extra-params '--fast -m GTR+F+R4' GCF_001047715.2_ASM104771v2_genomic]\n"
     ]
    },
    {
     "name": "stdout",
     "output_type": "stream",
     "text": [
      "Building tree took 2.10 minutes\n"
     ]
    },
    {
     "name": "stderr",
     "output_type": "stream",
     "text": [
      "Attempting to set global database_path_translator=<genomics_data_index.storage.model.db.DatabasePathTranslator.DatabasePathTranslator object at 0x7f33cbe704c0> but it is already set\n"
     ]
    },
    {
     "name": "stderr",
     "output_type": "stream",
     "text": [
      "A reminder to myself to look for a Python solution for directory sizes (instead of running `du`)\n"
     ]
    },
    {
     "name": "stdout",
     "output_type": "stream",
     "text": [
      "\n",
      "Iteration 1 of index/analysis of 23 samples for reference=data/reference/salmonella/GCF_000439415.1_ASM43941v1_genomic.gbk.gz with 32 cores\n",
      "Removing any extra snakemake directories: ['snakemake-assemblies.1644103855.3742']\n"
     ]
    },
    {
     "name": "stdout",
     "output_type": "stream",
     "text": [
      "Analysis running: [gdi --project-dir cases/full/index --ncores 32 analysis --use-conda --no-load-data --reference-file data/reference/salmonella/GCF_000439415.1_ASM43941v1_genomic.gbk.gz --kmer-size 31 --kmer-size 51 --kmer-size 71 --include-kmer --reads-mincov 10 --input-structured-genomes-file cases/full/1203NYJAP-1_-_Tuna_Scrape_Outbreak_input-files-case.tsv]\n"
     ]
    },
    {
     "name": "stdout",
     "output_type": "stream",
     "text": [
      "Analysis took 9.36 minutes\n",
      "Index running: [gdi --project-dir cases/full/index --ncores 32 load vcf-kmer --sample-batch-size 10 --reference-file data/reference/salmonella/GCF_000439415.1_ASM43941v1_genomic.gbk.gz /home/CSCScience.ca/apetkau/workspace/genomics-data-index-evaluation/evaluations/reads/snakemake-assemblies.1644104844.2645254/gdi-input.fofn]\n"
     ]
    },
    {
     "name": "stdout",
     "output_type": "stream",
     "text": [
      "Indexing took 5.06 minutes\n",
      "Building tree: [gdi --project-dir cases/full/index --ncores 32 rebuild tree --align-type full --extra-params '--fast -m GTR+F+R4' GCF_000439415.1_ASM43941v1_genomic]\n"
     ]
    },
    {
     "name": "stdout",
     "output_type": "stream",
     "text": [
      "Building tree took 2.34 minutes\n"
     ]
    },
    {
     "name": "stderr",
     "output_type": "stream",
     "text": [
      "Attempting to set global database_path_translator=<genomics_data_index.storage.model.db.DatabasePathTranslator.DatabasePathTranslator object at 0x7f33cbb385b0> but it is already set\n"
     ]
    },
    {
     "name": "stderr",
     "output_type": "stream",
     "text": [
      "A reminder to myself to look for a Python solution for directory sizes (instead of running `du`)\n"
     ]
    },
    {
     "name": "stdout",
     "output_type": "stream",
     "text": [
      "***Finished benchmarking, took 71.06 minutes***\n"
     ]
    }
   ],
   "source": [
    "import time\n",
    "\n",
    "start = time.time()\n",
    "benchmarker = gdi_benchmark.IndexBenchmarkerMultiple(index_path=index_path, input_files_files=cases_inputs,\n",
    "                                             reference_files=reference_files, mincov=mincov,\n",
    "                                             build_tree=build_tree,\n",
    "                                             ncores=ncores,\n",
    "                                             sample_batch_size=sample_batch_size)\n",
    "benchmark_df = benchmarker.benchmark(iterations=iterations)\n",
    "end = time.time()\n",
    "print(f'***Finished benchmarking, took {(end - start)/60:0.2f} minutes***')"
   ]
  },
  {
   "cell_type": "code",
   "execution_count": 6,
   "id": "3bcb6da7-0164-47f2-abdd-a4c159da1e3b",
   "metadata": {
    "execution": {
     "iopub.execute_input": "2022-02-06T00:04:08.211080Z",
     "iopub.status.busy": "2022-02-06T00:04:08.210683Z",
     "iopub.status.idle": "2022-02-06T00:04:08.246207Z",
     "shell.execute_reply": "2022-02-06T00:04:08.245412Z"
    },
    "papermill": {
     "duration": 0.05462,
     "end_time": "2022-02-06T00:04:08.246400",
     "exception": false,
     "start_time": "2022-02-06T00:04:08.191780",
     "status": "completed"
    },
    "tags": []
   },
   "outputs": [
    {
     "data": {
      "text/html": [
       "<div>\n",
       "<style scoped>\n",
       "    .dataframe tbody tr th:only-of-type {\n",
       "        vertical-align: middle;\n",
       "    }\n",
       "\n",
       "    .dataframe tbody tr th {\n",
       "        vertical-align: top;\n",
       "    }\n",
       "\n",
       "    .dataframe thead th {\n",
       "        text-align: right;\n",
       "    }\n",
       "</style>\n",
       "<table border=\"1\" class=\"dataframe\">\n",
       "  <thead>\n",
       "    <tr style=\"text-align: right;\">\n",
       "      <th></th>\n",
       "      <th>Name</th>\n",
       "      <th>Iteration</th>\n",
       "      <th>Number samples</th>\n",
       "      <th>Number features (all)</th>\n",
       "      <th>Number features (no unknown)</th>\n",
       "      <th>Number cores</th>\n",
       "      <th>Reference length</th>\n",
       "      <th>Analysis runtime</th>\n",
       "      <th>Analysis memory (max)</th>\n",
       "      <th>Analysis memory (max/process)</th>\n",
       "      <th>Analysis disk uage</th>\n",
       "      <th>Index runtime</th>\n",
       "      <th>Index memory (max)</th>\n",
       "      <th>Index memory (max/process)</th>\n",
       "      <th>Index size</th>\n",
       "      <th>Tree runtime</th>\n",
       "      <th>Tree memory (max)</th>\n",
       "      <th>Tree memory (max/process)</th>\n",
       "      <th>Total runtime</th>\n",
       "      <th>Max memory</th>\n",
       "    </tr>\n",
       "  </thead>\n",
       "  <tbody>\n",
       "    <tr>\n",
       "      <th>0</th>\n",
       "      <td>0810PADBR-1</td>\n",
       "      <td>1</td>\n",
       "      <td>22</td>\n",
       "      <td>45117</td>\n",
       "      <td>1102</td>\n",
       "      <td>32</td>\n",
       "      <td>1634890</td>\n",
       "      <td>1010.53</td>\n",
       "      <td>3.034917e+10</td>\n",
       "      <td>3.428045e+09</td>\n",
       "      <td>1.223181e+10</td>\n",
       "      <td>53.28</td>\n",
       "      <td>1.445659e+10</td>\n",
       "      <td>7.215800e+08</td>\n",
       "      <td>46587904.0</td>\n",
       "      <td>112.69</td>\n",
       "      <td>5.459026e+08</td>\n",
       "      <td>277868544.0</td>\n",
       "      <td>1176.50</td>\n",
       "      <td>3.034917e+10</td>\n",
       "    </tr>\n",
       "    <tr>\n",
       "      <th>0</th>\n",
       "      <td>1405WAEXK-1</td>\n",
       "      <td>1</td>\n",
       "      <td>9</td>\n",
       "      <td>45117</td>\n",
       "      <td>1102</td>\n",
       "      <td>32</td>\n",
       "      <td>5412686</td>\n",
       "      <td>733.13</td>\n",
       "      <td>8.829637e+09</td>\n",
       "      <td>1.683706e+09</td>\n",
       "      <td>6.791918e+09</td>\n",
       "      <td>213.57</td>\n",
       "      <td>9.591161e+09</td>\n",
       "      <td>3.806106e+09</td>\n",
       "      <td>134696960.0</td>\n",
       "      <td>129.33</td>\n",
       "      <td>8.205025e+08</td>\n",
       "      <td>459157504.0</td>\n",
       "      <td>1076.03</td>\n",
       "      <td>9.591161e+09</td>\n",
       "    </tr>\n",
       "    <tr>\n",
       "      <th>0</th>\n",
       "      <td>1408MLGX6-3WGS</td>\n",
       "      <td>1</td>\n",
       "      <td>31</td>\n",
       "      <td>45117</td>\n",
       "      <td>1102</td>\n",
       "      <td>32</td>\n",
       "      <td>2939733</td>\n",
       "      <td>738.92</td>\n",
       "      <td>2.811198e+10</td>\n",
       "      <td>1.928937e+09</td>\n",
       "      <td>1.104385e+10</td>\n",
       "      <td>118.37</td>\n",
       "      <td>1.476735e+10</td>\n",
       "      <td>8.725135e+08</td>\n",
       "      <td>174637056.0</td>\n",
       "      <td>125.89</td>\n",
       "      <td>9.961636e+08</td>\n",
       "      <td>661139456.0</td>\n",
       "      <td>983.18</td>\n",
       "      <td>2.811198e+10</td>\n",
       "    </tr>\n",
       "    <tr>\n",
       "      <th>0</th>\n",
       "      <td>1203NYJAP-1 - Tuna Scrape Outbreak</td>\n",
       "      <td>1</td>\n",
       "      <td>23</td>\n",
       "      <td>45117</td>\n",
       "      <td>1102</td>\n",
       "      <td>32</td>\n",
       "      <td>4808805</td>\n",
       "      <td>561.43</td>\n",
       "      <td>1.988080e+10</td>\n",
       "      <td>1.370276e+09</td>\n",
       "      <td>9.253073e+09</td>\n",
       "      <td>303.50</td>\n",
       "      <td>4.440411e+10</td>\n",
       "      <td>2.959012e+09</td>\n",
       "      <td>251289600.0</td>\n",
       "      <td>140.35</td>\n",
       "      <td>1.336930e+09</td>\n",
       "      <td>870404096.0</td>\n",
       "      <td>1005.28</td>\n",
       "      <td>4.440411e+10</td>\n",
       "    </tr>\n",
       "  </tbody>\n",
       "</table>\n",
       "</div>"
      ],
      "text/plain": [
       "                                 Name  Iteration  Number samples  \\\n",
       "0                         0810PADBR-1          1              22   \n",
       "0                         1405WAEXK-1          1               9   \n",
       "0                      1408MLGX6-3WGS          1              31   \n",
       "0  1203NYJAP-1 - Tuna Scrape Outbreak          1              23   \n",
       "\n",
       "   Number features (all)  Number features (no unknown)  Number cores  \\\n",
       "0                  45117                          1102            32   \n",
       "0                  45117                          1102            32   \n",
       "0                  45117                          1102            32   \n",
       "0                  45117                          1102            32   \n",
       "\n",
       "   Reference length  Analysis runtime  Analysis memory (max)  \\\n",
       "0           1634890           1010.53           3.034917e+10   \n",
       "0           5412686            733.13           8.829637e+09   \n",
       "0           2939733            738.92           2.811198e+10   \n",
       "0           4808805            561.43           1.988080e+10   \n",
       "\n",
       "   Analysis memory (max/process)  Analysis disk uage  Index runtime  \\\n",
       "0                   3.428045e+09        1.223181e+10          53.28   \n",
       "0                   1.683706e+09        6.791918e+09         213.57   \n",
       "0                   1.928937e+09        1.104385e+10         118.37   \n",
       "0                   1.370276e+09        9.253073e+09         303.50   \n",
       "\n",
       "   Index memory (max)  Index memory (max/process)   Index size  Tree runtime  \\\n",
       "0        1.445659e+10                7.215800e+08   46587904.0        112.69   \n",
       "0        9.591161e+09                3.806106e+09  134696960.0        129.33   \n",
       "0        1.476735e+10                8.725135e+08  174637056.0        125.89   \n",
       "0        4.440411e+10                2.959012e+09  251289600.0        140.35   \n",
       "\n",
       "   Tree memory (max)  Tree memory (max/process)  Total runtime    Max memory  \n",
       "0       5.459026e+08                277868544.0        1176.50  3.034917e+10  \n",
       "0       8.205025e+08                459157504.0        1076.03  9.591161e+09  \n",
       "0       9.961636e+08                661139456.0         983.18  2.811198e+10  \n",
       "0       1.336930e+09                870404096.0        1005.28  4.440411e+10  "
      ]
     },
     "execution_count": 6,
     "metadata": {},
     "output_type": "execute_result"
    }
   ],
   "source": [
    "benchmark_df"
   ]
  },
  {
   "cell_type": "code",
   "execution_count": 7,
   "id": "535a9ccc-ab9c-4919-806f-128e1efd2389",
   "metadata": {
    "execution": {
     "iopub.execute_input": "2022-02-06T00:04:08.291660Z",
     "iopub.status.busy": "2022-02-06T00:04:08.291274Z",
     "iopub.status.idle": "2022-02-06T00:04:08.295365Z",
     "shell.execute_reply": "2022-02-06T00:04:08.295058Z"
    },
    "papermill": {
     "duration": 0.024621,
     "end_time": "2022-02-06T00:04:08.295445",
     "exception": false,
     "start_time": "2022-02-06T00:04:08.270824",
     "status": "completed"
    },
    "tags": []
   },
   "outputs": [],
   "source": [
    "benchmark_df.to_csv(benchmark_path, sep='\\t', index=False)"
   ]
  },
  {
   "cell_type": "markdown",
   "id": "6cb7673b-9f85-4c43-b2e2-93538497a196",
   "metadata": {
    "papermill": {
     "duration": 0.011036,
     "end_time": "2022-02-06T00:04:08.320644",
     "exception": false,
     "start_time": "2022-02-06T00:04:08.309608",
     "status": "completed"
    },
    "tags": []
   },
   "source": [
    "# 3. Export trees"
   ]
  },
  {
   "cell_type": "code",
   "execution_count": 8,
   "id": "5280f82c-5434-4391-8c44-b937a7c95bd5",
   "metadata": {
    "execution": {
     "iopub.execute_input": "2022-02-06T00:04:08.369612Z",
     "iopub.status.busy": "2022-02-06T00:04:08.361417Z",
     "iopub.status.idle": "2022-02-06T00:04:21.665282Z",
     "shell.execute_reply": "2022-02-06T00:04:21.666170Z"
    },
    "papermill": {
     "duration": 13.334815,
     "end_time": "2022-02-06T00:04:21.666473",
     "exception": false,
     "start_time": "2022-02-06T00:04:08.331658",
     "status": "completed"
    },
    "tags": []
   },
   "outputs": [],
   "source": [
    "if build_tree:\n",
    "    # Using variables with shell commands in Jupyter isn't working for me so I have to avoid using them\n",
    "    !gdi --project-dir cases/full/index export tree GCA_001879185.2_ASM187918v2_genomic > cases/full/0810PADBR-1_tree.tre\n",
    "    !gdi --project-dir cases/full/index export tree GCF_000703365.1_Ec2011C-3609_genomic > cases/full/1405WAEXK-1_tree.tre\n",
    "    !gdi --project-dir cases/full/index export tree GCF_001047715.2_ASM104771v2_genomic > cases/full/1408MLGX6-3WGS_tree.tre\n",
    "    !gdi --project-dir cases/full/index export tree GCF_000439415.1_ASM43941v1_genomic > cases/full/1203NYJAP-1_-_Tuna_Scrape_Outbreak_tree.tre\n",
    "else:\n",
    "    print(f'build_tree={build_tree} so no trees to export')"
   ]
  },
  {
   "cell_type": "code",
   "execution_count": null,
   "id": "3162d923-834f-45f6-b4cc-653d9a1e1d97",
   "metadata": {
    "papermill": {
     "duration": 0.012809,
     "end_time": "2022-02-06T00:04:21.704413",
     "exception": false,
     "start_time": "2022-02-06T00:04:21.691604",
     "status": "completed"
    },
    "tags": []
   },
   "outputs": [],
   "source": []
  }
 ],
 "metadata": {
  "kernelspec": {
   "display_name": "Python 3 (ipykernel)",
   "language": "python",
   "name": "python3"
  },
  "language_info": {
   "codemirror_mode": {
    "name": "ipython",
    "version": 3
   },
   "file_extension": ".py",
   "mimetype": "text/x-python",
   "name": "python",
   "nbconvert_exporter": "python",
   "pygments_lexer": "ipython3",
   "version": "3.8.12"
  },
  "papermill": {
   "default_parameters": {},
   "duration": 4285.785441,
   "end_time": "2022-02-06T00:04:22.352169",
   "environment_variables": {},
   "exception": null,
   "input_path": "template-3-index-genomes.ipynb",
   "output_path": "3-index-genomes.ipynb",
   "parameters": {},
   "start_time": "2022-02-05T22:52:56.566728",
   "version": "2.3.4"
  }
 },
 "nbformat": 4,
 "nbformat_minor": 5
}