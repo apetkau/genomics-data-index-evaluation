{
 "cells": [
  {
   "cell_type": "markdown",
   "id": "7d3667b4-b1f8-4347-96e3-830c25b06740",
   "metadata": {
    "papermill": {
     "duration": 0.015328,
     "end_time": "2022-02-14T21:27:21.395378",
     "exception": false,
     "start_time": "2022-02-14T21:27:21.380050",
     "status": "completed"
    },
    "tags": []
   },
   "source": [
    "# 1. Parameters"
   ]
  },
  {
   "cell_type": "code",
   "execution_count": 1,
   "id": "d4ab0749-b286-4c34-b63c-a854e4952bae",
   "metadata": {
    "execution": {
     "iopub.execute_input": "2022-02-14T21:27:21.426441Z",
     "iopub.status.busy": "2022-02-14T21:27:21.425925Z",
     "iopub.status.idle": "2022-02-14T21:27:21.430075Z",
     "shell.execute_reply": "2022-02-14T21:27:21.430445Z"
    },
    "papermill": {
     "duration": 0.026578,
     "end_time": "2022-02-14T21:27:21.430648",
     "exception": false,
     "start_time": "2022-02-14T21:27:21.404070",
     "status": "completed"
    },
    "tags": [
     "parameters"
    ]
   },
   "outputs": [],
   "source": [
    "from pathlib import Path\n",
    "\n",
    "# Defaults\n",
    "cases_dir = 'cases/full'\n",
    "metadata_file = 'metadata.tsv'\n",
    "iterations = 3\n",
    "mincov = 10\n",
    "ncores = 4\n",
    "\n",
    "reference_files = {\n",
    "    '0810PADBR-1': Path('data/reference/campylobacter/GCA_001879185.2_ASM187918v2_genomic.gbk.gz'),\n",
    "    '1405WAEXK-1': Path('data/reference/ecoli/GCF_000703365.1_Ec2011C-3609_genomic.gbk.gz'),\n",
    "    '1408MLGX6-3WGS': Path('data/reference/listeria/GCF_001047715.2_ASM104771v2_genomic.gbk.gz'),\n",
    "    '1203NYJAP-1 - Tuna Scrape Outbreak': Path('data/reference/salmonella/GCF_000439415.1_ASM43941v1_genomic.gbk.gz'),\n",
    "}\n",
    "    \n",
    "build_tree = True\n",
    "sample_batch_size=10"
   ]
  },
  {
   "cell_type": "code",
   "execution_count": 2,
   "id": "ce5962e4-261c-4210-b39b-47044e28466b",
   "metadata": {
    "execution": {
     "iopub.execute_input": "2022-02-14T21:27:21.456573Z",
     "iopub.status.busy": "2022-02-14T21:27:21.456048Z",
     "iopub.status.idle": "2022-02-14T21:27:24.339875Z",
     "shell.execute_reply": "2022-02-14T21:27:24.340800Z"
    },
    "papermill": {
     "duration": 2.901505,
     "end_time": "2022-02-14T21:27:24.341096",
     "exception": false,
     "start_time": "2022-02-14T21:27:21.439591",
     "status": "completed"
    },
    "tags": []
   },
   "outputs": [
    {
     "data": {
      "text/plain": [
       "{'0810PADBR-1': PosixPath('cases/full/0810PADBR-1_tree.tre'),\n",
       " '1405WAEXK-1': PosixPath('cases/full/1405WAEXK-1_tree.tre'),\n",
       " '1408MLGX6-3WGS': PosixPath('cases/full/1408MLGX6-3WGS_tree.tre'),\n",
       " '1203NYJAP-1 - Tuna Scrape Outbreak': PosixPath('cases/full/1203NYJAP-1_-_Tuna_Scrape_Outbreak_tree.tre')}"
      ]
     },
     "execution_count": 2,
     "metadata": {},
     "output_type": "execute_result"
    }
   ],
   "source": [
    "from pathlib import Path\n",
    "from shutil import rmtree\n",
    "from os import makedirs\n",
    "import imp\n",
    "fp, pathname, description = imp.find_module('gdi_benchmark', ['../../lib'])\n",
    "gdi_benchmark = imp.load_module('gdi_benchmark', fp, pathname, description)\n",
    "\n",
    "cases_dir_path = Path(cases_dir)\n",
    "index_path = cases_dir_path / 'index'\n",
    "\n",
    "if cases_dir_path.exists():\n",
    "    rmtree(cases_dir_path)\n",
    "    \n",
    "if not cases_dir_path.exists():\n",
    "    makedirs(cases_dir_path)\n",
    "\n",
    "case_name = str(cases_dir_path.name)\n",
    "\n",
    "benchmark_path = cases_dir_path / 'index-info.tsv'\n",
    "\n",
    "output_trees = {x: cases_dir_path / f'{x}_tree.tre'.replace(' ', '_') for x in reference_files}\n",
    "output_trees"
   ]
  },
  {
   "cell_type": "markdown",
   "id": "1673d80f-b52a-4b68-b400-355540495e15",
   "metadata": {
    "papermill": {
     "duration": 0.008847,
     "end_time": "2022-02-14T21:27:24.364832",
     "exception": false,
     "start_time": "2022-02-14T21:27:24.355985",
     "status": "completed"
    },
    "tags": []
   },
   "source": [
    "# 2. Create subset inputs"
   ]
  },
  {
   "cell_type": "code",
   "execution_count": 3,
   "id": "4e66adb1-3ef7-45d1-8e46-723dcb9d0c31",
   "metadata": {
    "execution": {
     "iopub.execute_input": "2022-02-14T21:27:24.393214Z",
     "iopub.status.busy": "2022-02-14T21:27:24.392195Z",
     "iopub.status.idle": "2022-02-14T21:27:24.440121Z",
     "shell.execute_reply": "2022-02-14T21:27:24.439153Z"
    },
    "papermill": {
     "duration": 0.068672,
     "end_time": "2022-02-14T21:27:24.440350",
     "exception": false,
     "start_time": "2022-02-14T21:27:24.371678",
     "status": "completed"
    },
    "tags": []
   },
   "outputs": [
    {
     "name": "stdout",
     "output_type": "stream",
     "text": [
      "Wrote dataset=0810PADBR-1 consisting of 22/85 samples to cases/full/0810PADBR-1_input-files-case.tsv\n",
      "Wrote dataset=1405WAEXK-1 consisting of 9/85 samples to cases/full/1405WAEXK-1_input-files-case.tsv\n",
      "Wrote dataset=1408MLGX6-3WGS consisting of 31/85 samples to cases/full/1408MLGX6-3WGS_input-files-case.tsv\n",
      "Wrote dataset=1203NYJAP-1 - Tuna Scrape Outbreak consisting of 23/85 samples to cases/full/1203NYJAP-1_-_Tuna_Scrape_Outbreak_input-files-case.tsv\n"
     ]
    },
    {
     "data": {
      "text/plain": [
       "{'0810PADBR-1': PosixPath('cases/full/0810PADBR-1_input-files-case.tsv'),\n",
       " '1405WAEXK-1': PosixPath('cases/full/1405WAEXK-1_input-files-case.tsv'),\n",
       " '1408MLGX6-3WGS': PosixPath('cases/full/1408MLGX6-3WGS_input-files-case.tsv'),\n",
       " '1203NYJAP-1 - Tuna Scrape Outbreak': PosixPath('cases/full/1203NYJAP-1_-_Tuna_Scrape_Outbreak_input-files-case.tsv')}"
      ]
     },
     "execution_count": 3,
     "metadata": {},
     "output_type": "execute_result"
    }
   ],
   "source": [
    "import pandas as pd\n",
    "from pathlib import Path\n",
    "from typing import Dict\n",
    "\n",
    "metadata_df = pd.read_csv(metadata_file, sep='\\t')\n",
    "\n",
    "def write_subset_input(metadata_df: pd.DataFrame, dataset_name: str) -> Path:\n",
    "    all_input_total = len(metadata_df)\n",
    "    cases_input = cases_dir_path / f'{dataset_name}_input-files-case.tsv'.replace(' ', '_')\n",
    "\n",
    "    input_df = metadata_df.copy().loc[metadata_df['dataSetName'] == dataset_name]\n",
    "    input_df['Sample'] = input_df['strain']\n",
    "    input_df['Assemblies'] = pd.NA\n",
    "    input_df['Reads1'] = input_df['Sample'].apply(lambda x: str((Path('data') / 'fastq' / (x + '_1.fastq.gz')).absolute()))\n",
    "    input_df['Reads2'] = input_df['Sample'].apply(lambda x: str((Path('data') / 'fastq' / (x + '_2.fastq.gz')).absolute()))\n",
    "    input_df = input_df[['Sample', 'Assemblies', 'Reads1', 'Reads2']]\n",
    "\n",
    "    input_df.to_csv(cases_input, sep='\\t', index=False)\n",
    "\n",
    "    subset_input_total = len(input_df)\n",
    "\n",
    "    print(f'Wrote dataset={dataset_name} consisting of {subset_input_total}/{all_input_total} samples to {cases_input}')\n",
    "    \n",
    "    return cases_input\n",
    "\n",
    "cases_inputs = {x: write_subset_input(metadata_df, dataset_name=x) for x in reference_files}\n",
    "cases_inputs"
   ]
  },
  {
   "cell_type": "markdown",
   "id": "f208279e-7558-47fc-9362-da29df92828a",
   "metadata": {
    "papermill": {
     "duration": 0.009277,
     "end_time": "2022-02-14T21:27:24.464280",
     "exception": false,
     "start_time": "2022-02-14T21:27:24.455003",
     "status": "completed"
    },
    "tags": []
   },
   "source": [
    "# 2. Index genomes"
   ]
  },
  {
   "cell_type": "code",
   "execution_count": 4,
   "id": "4e936f7c-2fcd-4188-b0e6-6b3ceb5cdcd2",
   "metadata": {
    "execution": {
     "iopub.execute_input": "2022-02-14T21:27:24.494206Z",
     "iopub.status.busy": "2022-02-14T21:27:24.482683Z",
     "iopub.status.idle": "2022-02-14T21:27:27.702716Z",
     "shell.execute_reply": "2022-02-14T21:27:27.703617Z"
    },
    "papermill": {
     "duration": 3.233105,
     "end_time": "2022-02-14T21:27:27.703938",
     "exception": false,
     "start_time": "2022-02-14T21:27:24.470833",
     "status": "completed"
    },
    "tags": []
   },
   "outputs": [
    {
     "name": "stdout",
     "output_type": "stream",
     "text": [
      "gdi, version 0.5.0\r\n"
     ]
    }
   ],
   "source": [
    "!gdi --version"
   ]
  },
  {
   "cell_type": "markdown",
   "id": "5409ecf8-2158-4361-9d2f-6b1a6c7c63a6",
   "metadata": {
    "papermill": {
     "duration": 0.009844,
     "end_time": "2022-02-14T21:27:27.730510",
     "exception": false,
     "start_time": "2022-02-14T21:27:27.720666",
     "status": "completed"
    },
    "tags": []
   },
   "source": [
    "## 2.1. Index reads"
   ]
  },
  {
   "cell_type": "code",
   "execution_count": 5,
   "id": "3d63e861-733e-46f2-8bce-bd1a2c7c7058",
   "metadata": {
    "execution": {
     "iopub.execute_input": "2022-02-14T21:27:27.760238Z",
     "iopub.status.busy": "2022-02-14T21:27:27.759073Z",
     "iopub.status.idle": "2022-02-15T04:51:58.546749Z",
     "shell.execute_reply": "2022-02-15T04:51:58.547697Z"
    },
    "papermill": {
     "duration": 26670.810249,
     "end_time": "2022-02-15T04:51:58.548195",
     "exception": false,
     "start_time": "2022-02-14T21:27:27.737946",
     "status": "completed"
    },
    "tags": []
   },
   "outputs": [
    {
     "name": "stdout",
     "output_type": "stream",
     "text": [
      "Creating new index: [gdi init cases/full/index]\n"
     ]
    },
    {
     "name": "stdout",
     "output_type": "stream",
     "text": [
      "Creating a new index took 3.42 seconds\n"
     ]
    },
    {
     "name": "stdout",
     "output_type": "stream",
     "text": [
      "\n",
      "Iteration 1 of index/analysis of 22 samples for reference=data/reference/campylobacter/GCA_001879185.2_ASM187918v2_genomic.gbk.gz with 4 cores\n",
      "Removing any extra snakemake directories: []\n",
      "Analysis running: [gdi --project-dir cases/full/index --ncores 4 analysis --use-conda --no-load-data --reference-file data/reference/campylobacter/GCA_001879185.2_ASM187918v2_genomic.gbk.gz --kmer-size 31 --kmer-size 51 --kmer-size 71 --include-kmer --reads-mincov 10 --input-structured-genomes-file cases/full/0810PADBR-1_input-files-case.tsv]\n"
     ]
    },
    {
     "name": "stdout",
     "output_type": "stream",
     "text": [
      "Analysis took 52.75 minutes\n",
      "Index running: [gdi --project-dir cases/full/index --ncores 4 load vcf-kmer --sample-batch-size 10 --reference-file data/reference/campylobacter/GCA_001879185.2_ASM187918v2_genomic.gbk.gz /home/CSCScience.ca/apetkau/workspace/genomics-data-index-evaluation/evaluations/reads/snakemake-assemblies.1644874055.1494057/gdi-input.fofn]\n"
     ]
    },
    {
     "name": "stdout",
     "output_type": "stream",
     "text": [
      "Indexing took 0.91 minutes\n",
      "Building tree: [gdi --project-dir cases/full/index --ncores 4 rebuild tree --align-type full --extra-params '--fast -m GTR+F+R4' GCA_001879185.2_ASM187918v2_genomic]\n"
     ]
    },
    {
     "name": "stdout",
     "output_type": "stream",
     "text": [
      "Building tree took 0.40 minutes\n"
     ]
    },
    {
     "name": "stderr",
     "output_type": "stream",
     "text": [
      "A reminder to myself to look for a Python solution for directory sizes (instead of running `du`)\n"
     ]
    },
    {
     "name": "stdout",
     "output_type": "stream",
     "text": [
      "\n",
      "Iteration 1 of index/analysis of 9 samples for reference=data/reference/ecoli/GCF_000703365.1_Ec2011C-3609_genomic.gbk.gz with 4 cores\n",
      "Removing any extra snakemake directories: ['snakemake-assemblies.1644874055.1494057']\n"
     ]
    },
    {
     "name": "stdout",
     "output_type": "stream",
     "text": [
      "Analysis running: [gdi --project-dir cases/full/index --ncores 4 analysis --use-conda --no-load-data --reference-file data/reference/ecoli/GCF_000703365.1_Ec2011C-3609_genomic.gbk.gz --kmer-size 31 --kmer-size 51 --kmer-size 71 --include-kmer --reads-mincov 10 --input-structured-genomes-file cases/full/1405WAEXK-1_input-files-case.tsv]\n"
     ]
    },
    {
     "name": "stdout",
     "output_type": "stream",
     "text": [
      "Analysis took 16.57 minutes\n",
      "Index running: [gdi --project-dir cases/full/index --ncores 4 load vcf-kmer --sample-batch-size 10 --reference-file data/reference/ecoli/GCF_000703365.1_Ec2011C-3609_genomic.gbk.gz /home/CSCScience.ca/apetkau/workspace/genomics-data-index-evaluation/evaluations/reads/snakemake-assemblies.1644877303.6433158/gdi-input.fofn]\n"
     ]
    },
    {
     "name": "stdout",
     "output_type": "stream",
     "text": [
      "Indexing took 3.70 minutes\n",
      "Building tree: [gdi --project-dir cases/full/index --ncores 4 rebuild tree --align-type full --extra-params '--fast -m GTR+F+R4' GCF_000703365.1_Ec2011C-3609_genomic]\n"
     ]
    },
    {
     "name": "stdout",
     "output_type": "stream",
     "text": [
      "Building tree took 0.48 minutes\n"
     ]
    },
    {
     "name": "stderr",
     "output_type": "stream",
     "text": [
      "Attempting to set global database_path_translator=<genomics_data_index.storage.model.db.DatabasePathTranslator.DatabasePathTranslator object at 0x7fc065ea7790> but it is already set\n"
     ]
    },
    {
     "name": "stderr",
     "output_type": "stream",
     "text": [
      "A reminder to myself to look for a Python solution for directory sizes (instead of running `du`)\n"
     ]
    },
    {
     "name": "stdout",
     "output_type": "stream",
     "text": [
      "\n",
      "Iteration 1 of index/analysis of 31 samples for reference=data/reference/listeria/GCF_001047715.2_ASM104771v2_genomic.gbk.gz with 4 cores\n",
      "Removing any extra snakemake directories: ['snakemake-assemblies.1644877303.6433158']\n"
     ]
    },
    {
     "name": "stdout",
     "output_type": "stream",
     "text": [
      "Analysis running: [gdi --project-dir cases/full/index --ncores 4 analysis --use-conda --no-load-data --reference-file data/reference/listeria/GCF_001047715.2_ASM104771v2_genomic.gbk.gz --kmer-size 31 --kmer-size 51 --kmer-size 71 --include-kmer --reads-mincov 10 --input-structured-genomes-file cases/full/1408MLGX6-3WGS_input-files-case.tsv]\n"
     ]
    },
    {
     "name": "stdout",
     "output_type": "stream",
     "text": [
      "Analysis took 39.87 minutes\n",
      "Index running: [gdi --project-dir cases/full/index --ncores 4 load vcf-kmer --sample-batch-size 10 --reference-file data/reference/listeria/GCF_001047715.2_ASM104771v2_genomic.gbk.gz /home/CSCScience.ca/apetkau/workspace/genomics-data-index-evaluation/evaluations/reads/snakemake-assemblies.1644878553.4014242/gdi-input.fofn]\n"
     ]
    },
    {
     "name": "stdout",
     "output_type": "stream",
     "text": [
      "Indexing took 1.98 minutes\n",
      "Building tree: [gdi --project-dir cases/full/index --ncores 4 rebuild tree --align-type full --extra-params '--fast -m GTR+F+R4' GCF_001047715.2_ASM104771v2_genomic]\n"
     ]
    },
    {
     "name": "stdout",
     "output_type": "stream",
     "text": [
      "Building tree took 0.56 minutes\n"
     ]
    },
    {
     "name": "stderr",
     "output_type": "stream",
     "text": [
      "Attempting to set global database_path_translator=<genomics_data_index.storage.model.db.DatabasePathTranslator.DatabasePathTranslator object at 0x7fc065674130> but it is already set\n"
     ]
    },
    {
     "name": "stderr",
     "output_type": "stream",
     "text": [
      "A reminder to myself to look for a Python solution for directory sizes (instead of running `du`)\n"
     ]
    },
    {
     "name": "stdout",
     "output_type": "stream",
     "text": [
      "\n",
      "Iteration 1 of index/analysis of 23 samples for reference=data/reference/salmonella/GCF_000439415.1_ASM43941v1_genomic.gbk.gz with 4 cores\n",
      "Removing any extra snakemake directories: ['snakemake-assemblies.1644878553.4014242']\n"
     ]
    },
    {
     "name": "stdout",
     "output_type": "stream",
     "text": [
      "Analysis running: [gdi --project-dir cases/full/index --ncores 4 analysis --use-conda --no-load-data --reference-file data/reference/salmonella/GCF_000439415.1_ASM43941v1_genomic.gbk.gz --kmer-size 31 --kmer-size 51 --kmer-size 71 --include-kmer --reads-mincov 10 --input-structured-genomes-file cases/full/1203NYJAP-1_-_Tuna_Scrape_Outbreak_input-files-case.tsv]\n"
     ]
    },
    {
     "name": "stdout",
     "output_type": "stream",
     "text": [
      "Analysis took 24.91 minutes\n",
      "Index running: [gdi --project-dir cases/full/index --ncores 4 load vcf-kmer --sample-batch-size 10 --reference-file data/reference/salmonella/GCF_000439415.1_ASM43941v1_genomic.gbk.gz /home/CSCScience.ca/apetkau/workspace/genomics-data-index-evaluation/evaluations/reads/snakemake-assemblies.1644881102.8786721/gdi-input.fofn]\n"
     ]
    },
    {
     "name": "stdout",
     "output_type": "stream",
     "text": [
      "Indexing took 5.31 minutes\n",
      "Building tree: [gdi --project-dir cases/full/index --ncores 4 rebuild tree --align-type full --extra-params '--fast -m GTR+F+R4' GCF_000439415.1_ASM43941v1_genomic]\n"
     ]
    },
    {
     "name": "stdout",
     "output_type": "stream",
     "text": [
      "Building tree took 0.63 minutes\n"
     ]
    },
    {
     "name": "stderr",
     "output_type": "stream",
     "text": [
      "Attempting to set global database_path_translator=<genomics_data_index.storage.model.db.DatabasePathTranslator.DatabasePathTranslator object at 0x7fc06560d850> but it is already set\n"
     ]
    },
    {
     "name": "stderr",
     "output_type": "stream",
     "text": [
      "A reminder to myself to look for a Python solution for directory sizes (instead of running `du`)\n"
     ]
    },
    {
     "name": "stdout",
     "output_type": "stream",
     "text": [
      "Removing any existing indexes cases/full/index\n",
      "Creating new index: [gdi init cases/full/index]\n"
     ]
    },
    {
     "name": "stdout",
     "output_type": "stream",
     "text": [
      "Creating a new index took 3.21 seconds\n"
     ]
    },
    {
     "name": "stdout",
     "output_type": "stream",
     "text": [
      "\n",
      "Iteration 2 of index/analysis of 22 samples for reference=data/reference/campylobacter/GCA_001879185.2_ASM187918v2_genomic.gbk.gz with 4 cores\n",
      "Removing any extra snakemake directories: ['snakemake-assemblies.1644881102.8786721']\n"
     ]
    },
    {
     "name": "stdout",
     "output_type": "stream",
     "text": [
      "Analysis running: [gdi --project-dir cases/full/index --ncores 4 analysis --use-conda --no-load-data --reference-file data/reference/campylobacter/GCA_001879185.2_ASM187918v2_genomic.gbk.gz --kmer-size 31 --kmer-size 51 --kmer-size 71 --include-kmer --reads-mincov 10 --input-structured-genomes-file cases/full/0810PADBR-1_input-files-case.tsv]\n"
     ]
    },
    {
     "name": "stdout",
     "output_type": "stream",
     "text": [
      "Analysis took 52.53 minutes\n",
      "Index running: [gdi --project-dir cases/full/index --ncores 4 load vcf-kmer --sample-batch-size 10 --reference-file data/reference/campylobacter/GCA_001879185.2_ASM187918v2_genomic.gbk.gz /home/CSCScience.ca/apetkau/workspace/genomics-data-index-evaluation/evaluations/reads/snakemake-assemblies.1644882960.8741267/gdi-input.fofn]\n"
     ]
    },
    {
     "name": "stdout",
     "output_type": "stream",
     "text": [
      "Indexing took 0.94 minutes\n",
      "Building tree: [gdi --project-dir cases/full/index --ncores 4 rebuild tree --align-type full --extra-params '--fast -m GTR+F+R4' GCA_001879185.2_ASM187918v2_genomic]\n"
     ]
    },
    {
     "name": "stdout",
     "output_type": "stream",
     "text": [
      "Building tree took 0.34 minutes\n"
     ]
    },
    {
     "name": "stderr",
     "output_type": "stream",
     "text": [
      "Attempting to set global database_path_translator=<genomics_data_index.storage.model.db.DatabasePathTranslator.DatabasePathTranslator object at 0x7fc0655e4c40> but it is already set\n"
     ]
    },
    {
     "name": "stderr",
     "output_type": "stream",
     "text": [
      "A reminder to myself to look for a Python solution for directory sizes (instead of running `du`)\n"
     ]
    },
    {
     "name": "stdout",
     "output_type": "stream",
     "text": [
      "\n",
      "Iteration 2 of index/analysis of 9 samples for reference=data/reference/ecoli/GCF_000703365.1_Ec2011C-3609_genomic.gbk.gz with 4 cores\n",
      "Removing any extra snakemake directories: ['snakemake-assemblies.1644882960.8741267']\n"
     ]
    },
    {
     "name": "stdout",
     "output_type": "stream",
     "text": [
      "Analysis running: [gdi --project-dir cases/full/index --ncores 4 analysis --use-conda --no-load-data --reference-file data/reference/ecoli/GCF_000703365.1_Ec2011C-3609_genomic.gbk.gz --kmer-size 31 --kmer-size 51 --kmer-size 71 --include-kmer --reads-mincov 10 --input-structured-genomes-file cases/full/1405WAEXK-1_input-files-case.tsv]\n"
     ]
    },
    {
     "name": "stdout",
     "output_type": "stream",
     "text": [
      "Analysis took 16.39 minutes\n",
      "Index running: [gdi --project-dir cases/full/index --ncores 4 load vcf-kmer --sample-batch-size 10 --reference-file data/reference/ecoli/GCF_000703365.1_Ec2011C-3609_genomic.gbk.gz /home/CSCScience.ca/apetkau/workspace/genomics-data-index-evaluation/evaluations/reads/snakemake-assemblies.1644886194.3391616/gdi-input.fofn]\n"
     ]
    },
    {
     "name": "stdout",
     "output_type": "stream",
     "text": [
      "Indexing took 3.79 minutes\n",
      "Building tree: [gdi --project-dir cases/full/index --ncores 4 rebuild tree --align-type full --extra-params '--fast -m GTR+F+R4' GCF_000703365.1_Ec2011C-3609_genomic]\n"
     ]
    },
    {
     "name": "stdout",
     "output_type": "stream",
     "text": [
      "Building tree took 0.53 minutes\n"
     ]
    },
    {
     "name": "stderr",
     "output_type": "stream",
     "text": [
      "Attempting to set global database_path_translator=<genomics_data_index.storage.model.db.DatabasePathTranslator.DatabasePathTranslator object at 0x7fc06560d880> but it is already set\n"
     ]
    },
    {
     "name": "stderr",
     "output_type": "stream",
     "text": [
      "A reminder to myself to look for a Python solution for directory sizes (instead of running `du`)\n"
     ]
    },
    {
     "name": "stdout",
     "output_type": "stream",
     "text": [
      "\n",
      "Iteration 2 of index/analysis of 31 samples for reference=data/reference/listeria/GCF_001047715.2_ASM104771v2_genomic.gbk.gz with 4 cores\n",
      "Removing any extra snakemake directories: ['snakemake-assemblies.1644886194.3391616']\n"
     ]
    },
    {
     "name": "stdout",
     "output_type": "stream",
     "text": [
      "Analysis running: [gdi --project-dir cases/full/index --ncores 4 analysis --use-conda --no-load-data --reference-file data/reference/listeria/GCF_001047715.2_ASM104771v2_genomic.gbk.gz --kmer-size 31 --kmer-size 51 --kmer-size 71 --include-kmer --reads-mincov 10 --input-structured-genomes-file cases/full/1408MLGX6-3WGS_input-files-case.tsv]\n"
     ]
    },
    {
     "name": "stdout",
     "output_type": "stream",
     "text": [
      "Analysis took 40.10 minutes\n",
      "Index running: [gdi --project-dir cases/full/index --ncores 4 load vcf-kmer --sample-batch-size 10 --reference-file data/reference/listeria/GCF_001047715.2_ASM104771v2_genomic.gbk.gz /home/CSCScience.ca/apetkau/workspace/genomics-data-index-evaluation/evaluations/reads/snakemake-assemblies.1644887440.7081645/gdi-input.fofn]\n"
     ]
    },
    {
     "name": "stdout",
     "output_type": "stream",
     "text": [
      "Indexing took 1.95 minutes\n",
      "Building tree: [gdi --project-dir cases/full/index --ncores 4 rebuild tree --align-type full --extra-params '--fast -m GTR+F+R4' GCF_001047715.2_ASM104771v2_genomic]\n"
     ]
    },
    {
     "name": "stdout",
     "output_type": "stream",
     "text": [
      "Building tree took 0.62 minutes\n"
     ]
    },
    {
     "name": "stderr",
     "output_type": "stream",
     "text": [
      "Attempting to set global database_path_translator=<genomics_data_index.storage.model.db.DatabasePathTranslator.DatabasePathTranslator object at 0x7fc0655e4400> but it is already set\n"
     ]
    },
    {
     "name": "stderr",
     "output_type": "stream",
     "text": [
      "A reminder to myself to look for a Python solution for directory sizes (instead of running `du`)\n"
     ]
    },
    {
     "name": "stdout",
     "output_type": "stream",
     "text": [
      "\n",
      "Iteration 2 of index/analysis of 23 samples for reference=data/reference/salmonella/GCF_000439415.1_ASM43941v1_genomic.gbk.gz with 4 cores\n",
      "Removing any extra snakemake directories: ['snakemake-assemblies.1644887440.7081645']\n"
     ]
    },
    {
     "name": "stdout",
     "output_type": "stream",
     "text": [
      "Analysis running: [gdi --project-dir cases/full/index --ncores 4 analysis --use-conda --no-load-data --reference-file data/reference/salmonella/GCF_000439415.1_ASM43941v1_genomic.gbk.gz --kmer-size 31 --kmer-size 51 --kmer-size 71 --include-kmer --reads-mincov 10 --input-structured-genomes-file cases/full/1203NYJAP-1_-_Tuna_Scrape_Outbreak_input-files-case.tsv]\n"
     ]
    },
    {
     "name": "stdout",
     "output_type": "stream",
     "text": [
      "Analysis took 25.10 minutes\n",
      "Index running: [gdi --project-dir cases/full/index --ncores 4 load vcf-kmer --sample-batch-size 10 --reference-file data/reference/salmonella/GCF_000439415.1_ASM43941v1_genomic.gbk.gz /home/CSCScience.ca/apetkau/workspace/genomics-data-index-evaluation/evaluations/reads/snakemake-assemblies.1644890006.5250392/gdi-input.fofn]\n"
     ]
    },
    {
     "name": "stdout",
     "output_type": "stream",
     "text": [
      "Indexing took 4.88 minutes\n",
      "Building tree: [gdi --project-dir cases/full/index --ncores 4 rebuild tree --align-type full --extra-params '--fast -m GTR+F+R4' GCF_000439415.1_ASM43941v1_genomic]\n"
     ]
    },
    {
     "name": "stdout",
     "output_type": "stream",
     "text": [
      "Building tree took 0.66 minutes\n"
     ]
    },
    {
     "name": "stderr",
     "output_type": "stream",
     "text": [
      "Attempting to set global database_path_translator=<genomics_data_index.storage.model.db.DatabasePathTranslator.DatabasePathTranslator object at 0x7fc065b5d460> but it is already set\n"
     ]
    },
    {
     "name": "stderr",
     "output_type": "stream",
     "text": [
      "A reminder to myself to look for a Python solution for directory sizes (instead of running `du`)\n"
     ]
    },
    {
     "name": "stdout",
     "output_type": "stream",
     "text": [
      "Removing any existing indexes cases/full/index\n",
      "Creating new index: [gdi init cases/full/index]\n"
     ]
    },
    {
     "name": "stdout",
     "output_type": "stream",
     "text": [
      "Creating a new index took 3.40 seconds\n"
     ]
    },
    {
     "name": "stdout",
     "output_type": "stream",
     "text": [
      "\n",
      "Iteration 3 of index/analysis of 22 samples for reference=data/reference/campylobacter/GCA_001879185.2_ASM187918v2_genomic.gbk.gz with 4 cores\n",
      "Removing any extra snakemake directories: ['snakemake-assemblies.1644890006.5250392']\n"
     ]
    },
    {
     "name": "stdout",
     "output_type": "stream",
     "text": [
      "Analysis running: [gdi --project-dir cases/full/index --ncores 4 analysis --use-conda --no-load-data --reference-file data/reference/campylobacter/GCA_001879185.2_ASM187918v2_genomic.gbk.gz --kmer-size 31 --kmer-size 51 --kmer-size 71 --include-kmer --reads-mincov 10 --input-structured-genomes-file cases/full/0810PADBR-1_input-files-case.tsv]\n"
     ]
    },
    {
     "name": "stdout",
     "output_type": "stream",
     "text": [
      "Analysis took 52.30 minutes\n",
      "Index running: [gdi --project-dir cases/full/index --ncores 4 load vcf-kmer --sample-batch-size 10 --reference-file data/reference/campylobacter/GCA_001879185.2_ASM187918v2_genomic.gbk.gz /home/CSCScience.ca/apetkau/workspace/genomics-data-index-evaluation/evaluations/reads/snakemake-assemblies.1644891852.778083/gdi-input.fofn]\n"
     ]
    },
    {
     "name": "stdout",
     "output_type": "stream",
     "text": [
      "Indexing took 0.89 minutes\n",
      "Building tree: [gdi --project-dir cases/full/index --ncores 4 rebuild tree --align-type full --extra-params '--fast -m GTR+F+R4' GCA_001879185.2_ASM187918v2_genomic]\n"
     ]
    },
    {
     "name": "stdout",
     "output_type": "stream",
     "text": [
      "Building tree took 0.37 minutes\n"
     ]
    },
    {
     "name": "stderr",
     "output_type": "stream",
     "text": [
      "Attempting to set global database_path_translator=<genomics_data_index.storage.model.db.DatabasePathTranslator.DatabasePathTranslator object at 0x7fc0655fc7c0> but it is already set\n"
     ]
    },
    {
     "name": "stderr",
     "output_type": "stream",
     "text": [
      "A reminder to myself to look for a Python solution for directory sizes (instead of running `du`)\n"
     ]
    },
    {
     "name": "stdout",
     "output_type": "stream",
     "text": [
      "\n",
      "Iteration 3 of index/analysis of 9 samples for reference=data/reference/ecoli/GCF_000703365.1_Ec2011C-3609_genomic.gbk.gz with 4 cores\n",
      "Removing any extra snakemake directories: ['snakemake-assemblies.1644891852.778083']\n"
     ]
    },
    {
     "name": "stdout",
     "output_type": "stream",
     "text": [
      "Analysis running: [gdi --project-dir cases/full/index --ncores 4 analysis --use-conda --no-load-data --reference-file data/reference/ecoli/GCF_000703365.1_Ec2011C-3609_genomic.gbk.gz --kmer-size 31 --kmer-size 51 --kmer-size 71 --include-kmer --reads-mincov 10 --input-structured-genomes-file cases/full/1405WAEXK-1_input-files-case.tsv]\n"
     ]
    },
    {
     "name": "stdout",
     "output_type": "stream",
     "text": [
      "Analysis took 16.53 minutes\n",
      "Index running: [gdi --project-dir cases/full/index --ncores 4 load vcf-kmer --sample-batch-size 10 --reference-file data/reference/ecoli/GCF_000703365.1_Ec2011C-3609_genomic.gbk.gz /home/CSCScience.ca/apetkau/workspace/genomics-data-index-evaluation/evaluations/reads/snakemake-assemblies.1644895070.8601804/gdi-input.fofn]\n"
     ]
    },
    {
     "name": "stdout",
     "output_type": "stream",
     "text": [
      "Indexing took 3.86 minutes\n",
      "Building tree: [gdi --project-dir cases/full/index --ncores 4 rebuild tree --align-type full --extra-params '--fast -m GTR+F+R4' GCF_000703365.1_Ec2011C-3609_genomic]\n"
     ]
    },
    {
     "name": "stdout",
     "output_type": "stream",
     "text": [
      "Building tree took 0.49 minutes\n"
     ]
    },
    {
     "name": "stderr",
     "output_type": "stream",
     "text": [
      "Attempting to set global database_path_translator=<genomics_data_index.storage.model.db.DatabasePathTranslator.DatabasePathTranslator object at 0x7fc06568c040> but it is already set\n"
     ]
    },
    {
     "name": "stderr",
     "output_type": "stream",
     "text": [
      "A reminder to myself to look for a Python solution for directory sizes (instead of running `du`)\n"
     ]
    },
    {
     "name": "stdout",
     "output_type": "stream",
     "text": [
      "\n",
      "Iteration 3 of index/analysis of 31 samples for reference=data/reference/listeria/GCF_001047715.2_ASM104771v2_genomic.gbk.gz with 4 cores\n",
      "Removing any extra snakemake directories: ['snakemake-assemblies.1644895070.8601804']\n"
     ]
    },
    {
     "name": "stdout",
     "output_type": "stream",
     "text": [
      "Analysis running: [gdi --project-dir cases/full/index --ncores 4 analysis --use-conda --no-load-data --reference-file data/reference/listeria/GCF_001047715.2_ASM104771v2_genomic.gbk.gz --kmer-size 31 --kmer-size 51 --kmer-size 71 --include-kmer --reads-mincov 10 --input-structured-genomes-file cases/full/1408MLGX6-3WGS_input-files-case.tsv]\n"
     ]
    },
    {
     "name": "stdout",
     "output_type": "stream",
     "text": [
      "Analysis took 39.67 minutes\n",
      "Index running: [gdi --project-dir cases/full/index --ncores 4 load vcf-kmer --sample-batch-size 10 --reference-file data/reference/listeria/GCF_001047715.2_ASM104771v2_genomic.gbk.gz /home/CSCScience.ca/apetkau/workspace/genomics-data-index-evaluation/evaluations/reads/snakemake-assemblies.1644896327.3821957/gdi-input.fofn]\n"
     ]
    },
    {
     "name": "stdout",
     "output_type": "stream",
     "text": [
      "Indexing took 1.96 minutes\n",
      "Building tree: [gdi --project-dir cases/full/index --ncores 4 rebuild tree --align-type full --extra-params '--fast -m GTR+F+R4' GCF_001047715.2_ASM104771v2_genomic]\n"
     ]
    },
    {
     "name": "stdout",
     "output_type": "stream",
     "text": [
      "Building tree took 0.63 minutes\n"
     ]
    },
    {
     "name": "stderr",
     "output_type": "stream",
     "text": [
      "Attempting to set global database_path_translator=<genomics_data_index.storage.model.db.DatabasePathTranslator.DatabasePathTranslator object at 0x7fc06560d8e0> but it is already set\n"
     ]
    },
    {
     "name": "stderr",
     "output_type": "stream",
     "text": [
      "A reminder to myself to look for a Python solution for directory sizes (instead of running `du`)\n"
     ]
    },
    {
     "name": "stdout",
     "output_type": "stream",
     "text": [
      "\n",
      "Iteration 3 of index/analysis of 23 samples for reference=data/reference/salmonella/GCF_000439415.1_ASM43941v1_genomic.gbk.gz with 4 cores\n",
      "Removing any extra snakemake directories: ['snakemake-assemblies.1644896327.3821957']\n"
     ]
    },
    {
     "name": "stdout",
     "output_type": "stream",
     "text": [
      "Analysis running: [gdi --project-dir cases/full/index --ncores 4 analysis --use-conda --no-load-data --reference-file data/reference/salmonella/GCF_000439415.1_ASM43941v1_genomic.gbk.gz --kmer-size 31 --kmer-size 51 --kmer-size 71 --include-kmer --reads-mincov 10 --input-structured-genomes-file cases/full/1203NYJAP-1_-_Tuna_Scrape_Outbreak_input-files-case.tsv]\n"
     ]
    },
    {
     "name": "stdout",
     "output_type": "stream",
     "text": [
      "Analysis took 25.30 minutes\n",
      "Index running: [gdi --project-dir cases/full/index --ncores 4 load vcf-kmer --sample-batch-size 10 --reference-file data/reference/salmonella/GCF_000439415.1_ASM43941v1_genomic.gbk.gz /home/CSCScience.ca/apetkau/workspace/genomics-data-index-evaluation/evaluations/reads/snakemake-assemblies.1644898868.0993257/gdi-input.fofn]\n"
     ]
    },
    {
     "name": "stdout",
     "output_type": "stream",
     "text": [
      "Indexing took 4.92 minutes\n",
      "Building tree: [gdi --project-dir cases/full/index --ncores 4 rebuild tree --align-type full --extra-params '--fast -m GTR+F+R4' GCF_000439415.1_ASM43941v1_genomic]\n"
     ]
    },
    {
     "name": "stdout",
     "output_type": "stream",
     "text": [
      "Building tree took 0.66 minutes\n"
     ]
    },
    {
     "name": "stderr",
     "output_type": "stream",
     "text": [
      "Attempting to set global database_path_translator=<genomics_data_index.storage.model.db.DatabasePathTranslator.DatabasePathTranslator object at 0x7fc0655e4580> but it is already set\n"
     ]
    },
    {
     "name": "stderr",
     "output_type": "stream",
     "text": [
      "A reminder to myself to look for a Python solution for directory sizes (instead of running `du`)\n"
     ]
    },
    {
     "name": "stdout",
     "output_type": "stream",
     "text": [
      "***Finished benchmarking, took 444.51 minutes***\n"
     ]
    }
   ],
   "source": [
    "import time\n",
    "\n",
    "start = time.time()\n",
    "benchmarker = gdi_benchmark.IndexBenchmarkerMultiple(index_path=index_path, input_files_files=cases_inputs,\n",
    "                                             reference_files=reference_files, mincov=mincov,\n",
    "                                             build_tree=build_tree,\n",
    "                                             ncores=ncores,\n",
    "                                             sample_batch_size=sample_batch_size)\n",
    "benchmark_df = benchmarker.benchmark(iterations=iterations)\n",
    "end = time.time()\n",
    "print(f'***Finished benchmarking, took {(end - start)/60:0.2f} minutes***')"
   ]
  },
  {
   "cell_type": "code",
   "execution_count": 6,
   "id": "3bcb6da7-0164-47f2-abdd-a4c159da1e3b",
   "metadata": {
    "execution": {
     "iopub.execute_input": "2022-02-15T04:51:58.633957Z",
     "iopub.status.busy": "2022-02-15T04:51:58.612596Z",
     "iopub.status.idle": "2022-02-15T04:51:58.651112Z",
     "shell.execute_reply": "2022-02-15T04:51:58.652037Z"
    },
    "papermill": {
     "duration": 0.071334,
     "end_time": "2022-02-15T04:51:58.652309",
     "exception": false,
     "start_time": "2022-02-15T04:51:58.580975",
     "status": "completed"
    },
    "tags": []
   },
   "outputs": [
    {
     "data": {
      "text/html": [
       "<div>\n",
       "<style scoped>\n",
       "    .dataframe tbody tr th:only-of-type {\n",
       "        vertical-align: middle;\n",
       "    }\n",
       "\n",
       "    .dataframe tbody tr th {\n",
       "        vertical-align: top;\n",
       "    }\n",
       "\n",
       "    .dataframe thead th {\n",
       "        text-align: right;\n",
       "    }\n",
       "</style>\n",
       "<table border=\"1\" class=\"dataframe\">\n",
       "  <thead>\n",
       "    <tr style=\"text-align: right;\">\n",
       "      <th></th>\n",
       "      <th>Name</th>\n",
       "      <th>Iteration</th>\n",
       "      <th>Number samples</th>\n",
       "      <th>Number features (all)</th>\n",
       "      <th>Number features (no unknown)</th>\n",
       "      <th>Number cores</th>\n",
       "      <th>Reference length</th>\n",
       "      <th>Analysis runtime</th>\n",
       "      <th>Analysis memory (max)</th>\n",
       "      <th>Analysis memory (max/process)</th>\n",
       "      <th>Analysis disk uage</th>\n",
       "      <th>Index runtime</th>\n",
       "      <th>Index memory (max)</th>\n",
       "      <th>Index memory (max/process)</th>\n",
       "      <th>Index size</th>\n",
       "      <th>Tree runtime</th>\n",
       "      <th>Tree memory (max)</th>\n",
       "      <th>Tree memory (max/process)</th>\n",
       "      <th>Total runtime</th>\n",
       "      <th>Max memory</th>\n",
       "    </tr>\n",
       "  </thead>\n",
       "  <tbody>\n",
       "    <tr>\n",
       "      <th>0</th>\n",
       "      <td>0810PADBR-1</td>\n",
       "      <td>1</td>\n",
       "      <td>22</td>\n",
       "      <td>45117</td>\n",
       "      <td>1102</td>\n",
       "      <td>4</td>\n",
       "      <td>1634890</td>\n",
       "      <td>3164.56</td>\n",
       "      <td>1.500910e+10</td>\n",
       "      <td>3.427922e+09</td>\n",
       "      <td>1.201235e+10</td>\n",
       "      <td>54.62</td>\n",
       "      <td>2.071814e+09</td>\n",
       "      <td>6.979912e+08</td>\n",
       "      <td>46727168.0</td>\n",
       "      <td>24.00</td>\n",
       "      <td>5.445837e+08</td>\n",
       "      <td>276525056.0</td>\n",
       "      <td>3243.18</td>\n",
       "      <td>1.500910e+10</td>\n",
       "    </tr>\n",
       "    <tr>\n",
       "      <th>0</th>\n",
       "      <td>1405WAEXK-1</td>\n",
       "      <td>1</td>\n",
       "      <td>9</td>\n",
       "      <td>45117</td>\n",
       "      <td>1102</td>\n",
       "      <td>4</td>\n",
       "      <td>5412686</td>\n",
       "      <td>994.01</td>\n",
       "      <td>5.358551e+09</td>\n",
       "      <td>1.683341e+09</td>\n",
       "      <td>6.564405e+09</td>\n",
       "      <td>221.64</td>\n",
       "      <td>3.805688e+09</td>\n",
       "      <td>3.805688e+09</td>\n",
       "      <td>134746112.0</td>\n",
       "      <td>28.95</td>\n",
       "      <td>8.188109e+08</td>\n",
       "      <td>459202560.0</td>\n",
       "      <td>1244.60</td>\n",
       "      <td>5.358551e+09</td>\n",
       "    </tr>\n",
       "    <tr>\n",
       "      <th>0</th>\n",
       "      <td>1408MLGX6-3WGS</td>\n",
       "      <td>1</td>\n",
       "      <td>31</td>\n",
       "      <td>45117</td>\n",
       "      <td>1102</td>\n",
       "      <td>4</td>\n",
       "      <td>2939733</td>\n",
       "      <td>2391.66</td>\n",
       "      <td>1.000337e+10</td>\n",
       "      <td>1.928913e+09</td>\n",
       "      <td>1.081644e+10</td>\n",
       "      <td>118.38</td>\n",
       "      <td>2.557604e+09</td>\n",
       "      <td>9.619333e+08</td>\n",
       "      <td>174039040.0</td>\n",
       "      <td>33.22</td>\n",
       "      <td>9.946153e+08</td>\n",
       "      <td>660717568.0</td>\n",
       "      <td>2543.26</td>\n",
       "      <td>1.000337e+10</td>\n",
       "    </tr>\n",
       "    <tr>\n",
       "      <th>0</th>\n",
       "      <td>1203NYJAP-1 - Tuna Scrape Outbreak</td>\n",
       "      <td>1</td>\n",
       "      <td>23</td>\n",
       "      <td>45117</td>\n",
       "      <td>1102</td>\n",
       "      <td>4</td>\n",
       "      <td>4808805</td>\n",
       "      <td>1494.16</td>\n",
       "      <td>6.852243e+09</td>\n",
       "      <td>1.370481e+09</td>\n",
       "      <td>9.025634e+09</td>\n",
       "      <td>318.30</td>\n",
       "      <td>5.870498e+09</td>\n",
       "      <td>2.774364e+09</td>\n",
       "      <td>251240448.0</td>\n",
       "      <td>37.49</td>\n",
       "      <td>1.334784e+09</td>\n",
       "      <td>869670912.0</td>\n",
       "      <td>1849.95</td>\n",
       "      <td>6.852243e+09</td>\n",
       "    </tr>\n",
       "    <tr>\n",
       "      <th>0</th>\n",
       "      <td>0810PADBR-1</td>\n",
       "      <td>2</td>\n",
       "      <td>22</td>\n",
       "      <td>45117</td>\n",
       "      <td>1102</td>\n",
       "      <td>4</td>\n",
       "      <td>1634890</td>\n",
       "      <td>3151.42</td>\n",
       "      <td>1.531215e+10</td>\n",
       "      <td>3.428192e+09</td>\n",
       "      <td>1.201236e+10</td>\n",
       "      <td>56.23</td>\n",
       "      <td>2.244510e+09</td>\n",
       "      <td>7.115858e+08</td>\n",
       "      <td>46723072.0</td>\n",
       "      <td>20.43</td>\n",
       "      <td>5.445059e+08</td>\n",
       "      <td>276520960.0</td>\n",
       "      <td>3228.08</td>\n",
       "      <td>1.531215e+10</td>\n",
       "    </tr>\n",
       "    <tr>\n",
       "      <th>0</th>\n",
       "      <td>1405WAEXK-1</td>\n",
       "      <td>2</td>\n",
       "      <td>9</td>\n",
       "      <td>45117</td>\n",
       "      <td>1102</td>\n",
       "      <td>4</td>\n",
       "      <td>5412686</td>\n",
       "      <td>982.97</td>\n",
       "      <td>5.382439e+09</td>\n",
       "      <td>1.683649e+09</td>\n",
       "      <td>6.564418e+09</td>\n",
       "      <td>227.07</td>\n",
       "      <td>3.806372e+09</td>\n",
       "      <td>3.806372e+09</td>\n",
       "      <td>134230016.0</td>\n",
       "      <td>31.66</td>\n",
       "      <td>8.181187e+08</td>\n",
       "      <td>458653696.0</td>\n",
       "      <td>1241.70</td>\n",
       "      <td>5.382439e+09</td>\n",
       "    </tr>\n",
       "    <tr>\n",
       "      <th>0</th>\n",
       "      <td>1408MLGX6-3WGS</td>\n",
       "      <td>2</td>\n",
       "      <td>31</td>\n",
       "      <td>45117</td>\n",
       "      <td>1102</td>\n",
       "      <td>4</td>\n",
       "      <td>2939733</td>\n",
       "      <td>2405.54</td>\n",
       "      <td>9.751671e+09</td>\n",
       "      <td>1.928995e+09</td>\n",
       "      <td>1.081650e+10</td>\n",
       "      <td>117.10</td>\n",
       "      <td>2.675294e+09</td>\n",
       "      <td>1.042084e+09</td>\n",
       "      <td>173305856.0</td>\n",
       "      <td>37.04</td>\n",
       "      <td>9.947341e+08</td>\n",
       "      <td>660516864.0</td>\n",
       "      <td>2559.68</td>\n",
       "      <td>9.751671e+09</td>\n",
       "    </tr>\n",
       "    <tr>\n",
       "      <th>0</th>\n",
       "      <td>1203NYJAP-1 - Tuna Scrape Outbreak</td>\n",
       "      <td>2</td>\n",
       "      <td>23</td>\n",
       "      <td>45117</td>\n",
       "      <td>1102</td>\n",
       "      <td>4</td>\n",
       "      <td>4808805</td>\n",
       "      <td>1505.96</td>\n",
       "      <td>6.610252e+09</td>\n",
       "      <td>1.370345e+09</td>\n",
       "      <td>9.025597e+09</td>\n",
       "      <td>292.80</td>\n",
       "      <td>6.125785e+09</td>\n",
       "      <td>2.999583e+09</td>\n",
       "      <td>248102912.0</td>\n",
       "      <td>39.43</td>\n",
       "      <td>1.335644e+09</td>\n",
       "      <td>870047744.0</td>\n",
       "      <td>1838.19</td>\n",
       "      <td>6.610252e+09</td>\n",
       "    </tr>\n",
       "    <tr>\n",
       "      <th>0</th>\n",
       "      <td>0810PADBR-1</td>\n",
       "      <td>3</td>\n",
       "      <td>22</td>\n",
       "      <td>45117</td>\n",
       "      <td>1102</td>\n",
       "      <td>4</td>\n",
       "      <td>1634890</td>\n",
       "      <td>3137.54</td>\n",
       "      <td>1.460082e+10</td>\n",
       "      <td>3.428102e+09</td>\n",
       "      <td>1.201234e+10</td>\n",
       "      <td>53.02</td>\n",
       "      <td>2.265334e+09</td>\n",
       "      <td>7.472660e+08</td>\n",
       "      <td>46706688.0</td>\n",
       "      <td>21.82</td>\n",
       "      <td>5.445878e+08</td>\n",
       "      <td>276344832.0</td>\n",
       "      <td>3212.38</td>\n",
       "      <td>1.460082e+10</td>\n",
       "    </tr>\n",
       "    <tr>\n",
       "      <th>0</th>\n",
       "      <td>1405WAEXK-1</td>\n",
       "      <td>3</td>\n",
       "      <td>9</td>\n",
       "      <td>45117</td>\n",
       "      <td>1102</td>\n",
       "      <td>4</td>\n",
       "      <td>5412686</td>\n",
       "      <td>991.80</td>\n",
       "      <td>5.303386e+09</td>\n",
       "      <td>1.683771e+09</td>\n",
       "      <td>6.564409e+09</td>\n",
       "      <td>231.15</td>\n",
       "      <td>3.806507e+09</td>\n",
       "      <td>3.806507e+09</td>\n",
       "      <td>134623232.0</td>\n",
       "      <td>29.30</td>\n",
       "      <td>8.192573e+08</td>\n",
       "      <td>459137024.0</td>\n",
       "      <td>1252.25</td>\n",
       "      <td>5.303386e+09</td>\n",
       "    </tr>\n",
       "    <tr>\n",
       "      <th>0</th>\n",
       "      <td>1408MLGX6-3WGS</td>\n",
       "      <td>3</td>\n",
       "      <td>31</td>\n",
       "      <td>45117</td>\n",
       "      <td>1102</td>\n",
       "      <td>4</td>\n",
       "      <td>2939733</td>\n",
       "      <td>2379.54</td>\n",
       "      <td>9.633931e+09</td>\n",
       "      <td>1.928872e+09</td>\n",
       "      <td>1.081650e+10</td>\n",
       "      <td>117.40</td>\n",
       "      <td>3.182662e+09</td>\n",
       "      <td>1.138110e+09</td>\n",
       "      <td>174034944.0</td>\n",
       "      <td>37.60</td>\n",
       "      <td>9.940460e+08</td>\n",
       "      <td>660357120.0</td>\n",
       "      <td>2534.54</td>\n",
       "      <td>9.633931e+09</td>\n",
       "    </tr>\n",
       "    <tr>\n",
       "      <th>0</th>\n",
       "      <td>1203NYJAP-1 - Tuna Scrape Outbreak</td>\n",
       "      <td>3</td>\n",
       "      <td>23</td>\n",
       "      <td>45117</td>\n",
       "      <td>1102</td>\n",
       "      <td>4</td>\n",
       "      <td>4808805</td>\n",
       "      <td>1517.62</td>\n",
       "      <td>6.664249e+09</td>\n",
       "      <td>1.370472e+09</td>\n",
       "      <td>9.025647e+09</td>\n",
       "      <td>295.17</td>\n",
       "      <td>6.645703e+09</td>\n",
       "      <td>3.110130e+09</td>\n",
       "      <td>249966592.0</td>\n",
       "      <td>39.20</td>\n",
       "      <td>1.336611e+09</td>\n",
       "      <td>871038976.0</td>\n",
       "      <td>1851.99</td>\n",
       "      <td>6.664249e+09</td>\n",
       "    </tr>\n",
       "  </tbody>\n",
       "</table>\n",
       "</div>"
      ],
      "text/plain": [
       "                                 Name  Iteration  Number samples  \\\n",
       "0                         0810PADBR-1          1              22   \n",
       "0                         1405WAEXK-1          1               9   \n",
       "0                      1408MLGX6-3WGS          1              31   \n",
       "0  1203NYJAP-1 - Tuna Scrape Outbreak          1              23   \n",
       "0                         0810PADBR-1          2              22   \n",
       "0                         1405WAEXK-1          2               9   \n",
       "0                      1408MLGX6-3WGS          2              31   \n",
       "0  1203NYJAP-1 - Tuna Scrape Outbreak          2              23   \n",
       "0                         0810PADBR-1          3              22   \n",
       "0                         1405WAEXK-1          3               9   \n",
       "0                      1408MLGX6-3WGS          3              31   \n",
       "0  1203NYJAP-1 - Tuna Scrape Outbreak          3              23   \n",
       "\n",
       "   Number features (all)  Number features (no unknown)  Number cores  \\\n",
       "0                  45117                          1102             4   \n",
       "0                  45117                          1102             4   \n",
       "0                  45117                          1102             4   \n",
       "0                  45117                          1102             4   \n",
       "0                  45117                          1102             4   \n",
       "0                  45117                          1102             4   \n",
       "0                  45117                          1102             4   \n",
       "0                  45117                          1102             4   \n",
       "0                  45117                          1102             4   \n",
       "0                  45117                          1102             4   \n",
       "0                  45117                          1102             4   \n",
       "0                  45117                          1102             4   \n",
       "\n",
       "   Reference length  Analysis runtime  Analysis memory (max)  \\\n",
       "0           1634890           3164.56           1.500910e+10   \n",
       "0           5412686            994.01           5.358551e+09   \n",
       "0           2939733           2391.66           1.000337e+10   \n",
       "0           4808805           1494.16           6.852243e+09   \n",
       "0           1634890           3151.42           1.531215e+10   \n",
       "0           5412686            982.97           5.382439e+09   \n",
       "0           2939733           2405.54           9.751671e+09   \n",
       "0           4808805           1505.96           6.610252e+09   \n",
       "0           1634890           3137.54           1.460082e+10   \n",
       "0           5412686            991.80           5.303386e+09   \n",
       "0           2939733           2379.54           9.633931e+09   \n",
       "0           4808805           1517.62           6.664249e+09   \n",
       "\n",
       "   Analysis memory (max/process)  Analysis disk uage  Index runtime  \\\n",
       "0                   3.427922e+09        1.201235e+10          54.62   \n",
       "0                   1.683341e+09        6.564405e+09         221.64   \n",
       "0                   1.928913e+09        1.081644e+10         118.38   \n",
       "0                   1.370481e+09        9.025634e+09         318.30   \n",
       "0                   3.428192e+09        1.201236e+10          56.23   \n",
       "0                   1.683649e+09        6.564418e+09         227.07   \n",
       "0                   1.928995e+09        1.081650e+10         117.10   \n",
       "0                   1.370345e+09        9.025597e+09         292.80   \n",
       "0                   3.428102e+09        1.201234e+10          53.02   \n",
       "0                   1.683771e+09        6.564409e+09         231.15   \n",
       "0                   1.928872e+09        1.081650e+10         117.40   \n",
       "0                   1.370472e+09        9.025647e+09         295.17   \n",
       "\n",
       "   Index memory (max)  Index memory (max/process)   Index size  Tree runtime  \\\n",
       "0        2.071814e+09                6.979912e+08   46727168.0         24.00   \n",
       "0        3.805688e+09                3.805688e+09  134746112.0         28.95   \n",
       "0        2.557604e+09                9.619333e+08  174039040.0         33.22   \n",
       "0        5.870498e+09                2.774364e+09  251240448.0         37.49   \n",
       "0        2.244510e+09                7.115858e+08   46723072.0         20.43   \n",
       "0        3.806372e+09                3.806372e+09  134230016.0         31.66   \n",
       "0        2.675294e+09                1.042084e+09  173305856.0         37.04   \n",
       "0        6.125785e+09                2.999583e+09  248102912.0         39.43   \n",
       "0        2.265334e+09                7.472660e+08   46706688.0         21.82   \n",
       "0        3.806507e+09                3.806507e+09  134623232.0         29.30   \n",
       "0        3.182662e+09                1.138110e+09  174034944.0         37.60   \n",
       "0        6.645703e+09                3.110130e+09  249966592.0         39.20   \n",
       "\n",
       "   Tree memory (max)  Tree memory (max/process)  Total runtime    Max memory  \n",
       "0       5.445837e+08                276525056.0        3243.18  1.500910e+10  \n",
       "0       8.188109e+08                459202560.0        1244.60  5.358551e+09  \n",
       "0       9.946153e+08                660717568.0        2543.26  1.000337e+10  \n",
       "0       1.334784e+09                869670912.0        1849.95  6.852243e+09  \n",
       "0       5.445059e+08                276520960.0        3228.08  1.531215e+10  \n",
       "0       8.181187e+08                458653696.0        1241.70  5.382439e+09  \n",
       "0       9.947341e+08                660516864.0        2559.68  9.751671e+09  \n",
       "0       1.335644e+09                870047744.0        1838.19  6.610252e+09  \n",
       "0       5.445878e+08                276344832.0        3212.38  1.460082e+10  \n",
       "0       8.192573e+08                459137024.0        1252.25  5.303386e+09  \n",
       "0       9.940460e+08                660357120.0        2534.54  9.633931e+09  \n",
       "0       1.336611e+09                871038976.0        1851.99  6.664249e+09  "
      ]
     },
     "execution_count": 6,
     "metadata": {},
     "output_type": "execute_result"
    }
   ],
   "source": [
    "benchmark_df"
   ]
  },
  {
   "cell_type": "code",
   "execution_count": 7,
   "id": "535a9ccc-ab9c-4919-806f-128e1efd2389",
   "metadata": {
    "execution": {
     "iopub.execute_input": "2022-02-15T04:51:58.716136Z",
     "iopub.status.busy": "2022-02-15T04:51:58.715722Z",
     "iopub.status.idle": "2022-02-15T04:51:58.718854Z",
     "shell.execute_reply": "2022-02-15T04:51:58.718505Z"
    },
    "papermill": {
     "duration": 0.030602,
     "end_time": "2022-02-15T04:51:58.718939",
     "exception": false,
     "start_time": "2022-02-15T04:51:58.688337",
     "status": "completed"
    },
    "tags": []
   },
   "outputs": [],
   "source": [
    "benchmark_df.to_csv(benchmark_path, sep='\\t', index=False)"
   ]
  },
  {
   "cell_type": "markdown",
   "id": "6cb7673b-9f85-4c43-b2e2-93538497a196",
   "metadata": {
    "papermill": {
     "duration": 0.02275,
     "end_time": "2022-02-15T04:51:58.765898",
     "exception": false,
     "start_time": "2022-02-15T04:51:58.743148",
     "status": "completed"
    },
    "tags": []
   },
   "source": [
    "# 3. Export trees"
   ]
  },
  {
   "cell_type": "code",
   "execution_count": 8,
   "id": "5280f82c-5434-4391-8c44-b937a7c95bd5",
   "metadata": {
    "execution": {
     "iopub.execute_input": "2022-02-15T04:51:58.828105Z",
     "iopub.status.busy": "2022-02-15T04:51:58.827114Z",
     "iopub.status.idle": "2022-02-15T04:52:11.999961Z",
     "shell.execute_reply": "2022-02-15T04:52:12.000978Z"
    },
    "papermill": {
     "duration": 13.214154,
     "end_time": "2022-02-15T04:52:12.001325",
     "exception": false,
     "start_time": "2022-02-15T04:51:58.787171",
     "status": "completed"
    },
    "tags": []
   },
   "outputs": [],
   "source": [
    "if build_tree:\n",
    "    # Using variables with shell commands in Jupyter isn't working for me so I have to avoid using them\n",
    "    !gdi --project-dir cases/full/index export tree GCA_001879185.2_ASM187918v2_genomic > cases/full/0810PADBR-1_tree.tre\n",
    "    !gdi --project-dir cases/full/index export tree GCF_000703365.1_Ec2011C-3609_genomic > cases/full/1405WAEXK-1_tree.tre\n",
    "    !gdi --project-dir cases/full/index export tree GCF_001047715.2_ASM104771v2_genomic > cases/full/1408MLGX6-3WGS_tree.tre\n",
    "    !gdi --project-dir cases/full/index export tree GCF_000439415.1_ASM43941v1_genomic > cases/full/1203NYJAP-1_-_Tuna_Scrape_Outbreak_tree.tre\n",
    "else:\n",
    "    print(f'build_tree={build_tree} so no trees to export')"
   ]
  },
  {
   "cell_type": "code",
   "execution_count": null,
   "id": "3162d923-834f-45f6-b4cc-653d9a1e1d97",
   "metadata": {
    "papermill": {
     "duration": 0.021366,
     "end_time": "2022-02-15T04:52:12.058656",
     "exception": false,
     "start_time": "2022-02-15T04:52:12.037290",
     "status": "completed"
    },
    "tags": []
   },
   "outputs": [],
   "source": []
  }
 ],
 "metadata": {
  "kernelspec": {
   "display_name": "Python 3 (ipykernel)",
   "language": "python",
   "name": "python3"
  },
  "language_info": {
   "codemirror_mode": {
    "name": "ipython",
    "version": 3
   },
   "file_extension": ".py",
   "mimetype": "text/x-python",
   "name": "python",
   "nbconvert_exporter": "python",
   "pygments_lexer": "ipython3",
   "version": "3.8.12"
  },
  "papermill": {
   "default_parameters": {},
   "duration": 26692.679072,
   "end_time": "2022-02-15T04:52:12.653481",
   "environment_variables": {},
   "exception": null,
   "input_path": "template-3-index-genomes.ipynb",
   "output_path": "3-index-genomes.ipynb",
   "parameters": {},
   "start_time": "2022-02-14T21:27:19.974409",
   "version": "2.3.4"
  }
 },
 "nbformat": 4,
 "nbformat_minor": 5
}