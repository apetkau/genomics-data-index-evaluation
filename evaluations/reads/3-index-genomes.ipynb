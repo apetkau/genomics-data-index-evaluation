{
 "cells": [
  {
   "cell_type": "markdown",
   "id": "7d3667b4-b1f8-4347-96e3-830c25b06740",
   "metadata": {
    "papermill": {
     "duration": 0.018032,
     "end_time": "2022-02-28T23:51:14.285080",
     "exception": false,
     "start_time": "2022-02-28T23:51:14.267048",
     "status": "completed"
    },
    "tags": []
   },
   "source": [
    "# 1. Parameters"
   ]
  },
  {
   "cell_type": "code",
   "execution_count": 1,
   "id": "d4ab0749-b286-4c34-b63c-a854e4952bae",
   "metadata": {
    "execution": {
     "iopub.execute_input": "2022-02-28T23:51:14.318214Z",
     "iopub.status.busy": "2022-02-28T23:51:14.310286Z",
     "iopub.status.idle": "2022-02-28T23:51:14.322430Z",
     "shell.execute_reply": "2022-02-28T23:51:14.322833Z"
    },
    "papermill": {
     "duration": 0.028382,
     "end_time": "2022-02-28T23:51:14.323054",
     "exception": false,
     "start_time": "2022-02-28T23:51:14.294672",
     "status": "completed"
    },
    "tags": [
     "parameters"
    ]
   },
   "outputs": [],
   "source": [
    "from pathlib import Path\n",
    "\n",
    "# Defaults\n",
    "cases_dir = 'cases/full'\n",
    "metadata_file = 'metadata.tsv'\n",
    "iterations = 3\n",
    "mincov = 10\n",
    "ncores = 4\n",
    "\n",
    "reference_files = {\n",
    "    '0810PADBR-1': Path('data/reference/campylobacter/GCA_001879185.2_ASM187918v2_genomic.gbk.gz'),\n",
    "    '1405WAEXK-1': Path('data/reference/ecoli/GCF_000703365.1_Ec2011C-3609_genomic.gbk.gz'),\n",
    "    '1408MLGX6-3WGS': Path('data/reference/listeria/GCF_001047715.2_ASM104771v2_genomic.gbk.gz'),\n",
    "    '1203NYJAP-1 - Tuna Scrape Outbreak': Path('data/reference/salmonella/GCF_000439415.1_ASM43941v1_genomic.gbk.gz'),\n",
    "}\n",
    "    \n",
    "build_tree = True\n",
    "sample_batch_size=10"
   ]
  },
  {
   "cell_type": "code",
   "execution_count": 2,
   "id": "ce5962e4-261c-4210-b39b-47044e28466b",
   "metadata": {
    "execution": {
     "iopub.execute_input": "2022-02-28T23:51:14.352681Z",
     "iopub.status.busy": "2022-02-28T23:51:14.352200Z",
     "iopub.status.idle": "2022-02-28T23:51:17.891296Z",
     "shell.execute_reply": "2022-02-28T23:51:17.892209Z"
    },
    "papermill": {
     "duration": 3.558852,
     "end_time": "2022-02-28T23:51:17.892510",
     "exception": false,
     "start_time": "2022-02-28T23:51:14.333658",
     "status": "completed"
    },
    "tags": []
   },
   "outputs": [
    {
     "data": {
      "text/plain": [
       "{'0810PADBR-1': PosixPath('cases/full/0810PADBR-1_tree.tre'),\n",
       " '1405WAEXK-1': PosixPath('cases/full/1405WAEXK-1_tree.tre'),\n",
       " '1408MLGX6-3WGS': PosixPath('cases/full/1408MLGX6-3WGS_tree.tre'),\n",
       " '1203NYJAP-1 - Tuna Scrape Outbreak': PosixPath('cases/full/1203NYJAP-1_-_Tuna_Scrape_Outbreak_tree.tre')}"
      ]
     },
     "execution_count": 2,
     "metadata": {},
     "output_type": "execute_result"
    }
   ],
   "source": [
    "from pathlib import Path\n",
    "from shutil import rmtree\n",
    "from os import makedirs\n",
    "import imp\n",
    "fp, pathname, description = imp.find_module('gdi_benchmark', ['../../lib'])\n",
    "gdi_benchmark = imp.load_module('gdi_benchmark', fp, pathname, description)\n",
    "\n",
    "cases_dir_path = Path(cases_dir)\n",
    "index_path = cases_dir_path / 'index'\n",
    "\n",
    "if cases_dir_path.exists():\n",
    "    rmtree(cases_dir_path)\n",
    "    \n",
    "if not cases_dir_path.exists():\n",
    "    makedirs(cases_dir_path)\n",
    "\n",
    "case_name = str(cases_dir_path.name)\n",
    "\n",
    "benchmark_path = cases_dir_path / 'index-info.tsv'\n",
    "\n",
    "output_trees = {x: cases_dir_path / f'{x}_tree.tre'.replace(' ', '_') for x in reference_files}\n",
    "output_trees"
   ]
  },
  {
   "cell_type": "markdown",
   "id": "1673d80f-b52a-4b68-b400-355540495e15",
   "metadata": {
    "papermill": {
     "duration": 0.01306,
     "end_time": "2022-02-28T23:51:17.925251",
     "exception": false,
     "start_time": "2022-02-28T23:51:17.912191",
     "status": "completed"
    },
    "tags": []
   },
   "source": [
    "# 2. Create subset inputs"
   ]
  },
  {
   "cell_type": "code",
   "execution_count": 3,
   "id": "4e66adb1-3ef7-45d1-8e46-723dcb9d0c31",
   "metadata": {
    "execution": {
     "iopub.execute_input": "2022-02-28T23:51:17.959929Z",
     "iopub.status.busy": "2022-02-28T23:51:17.958742Z",
     "iopub.status.idle": "2022-02-28T23:51:17.990931Z",
     "shell.execute_reply": "2022-02-28T23:51:17.991871Z"
    },
    "papermill": {
     "duration": 0.059273,
     "end_time": "2022-02-28T23:51:17.992226",
     "exception": false,
     "start_time": "2022-02-28T23:51:17.932953",
     "status": "completed"
    },
    "tags": []
   },
   "outputs": [
    {
     "name": "stdout",
     "output_type": "stream",
     "text": [
      "Wrote dataset=0810PADBR-1 consisting of 22/85 samples to cases/full/0810PADBR-1_input-files-case.tsv\n",
      "Wrote dataset=1405WAEXK-1 consisting of 9/85 samples to cases/full/1405WAEXK-1_input-files-case.tsv\n",
      "Wrote dataset=1408MLGX6-3WGS consisting of 31/85 samples to cases/full/1408MLGX6-3WGS_input-files-case.tsv\n",
      "Wrote dataset=1203NYJAP-1 - Tuna Scrape Outbreak consisting of 23/85 samples to cases/full/1203NYJAP-1_-_Tuna_Scrape_Outbreak_input-files-case.tsv\n"
     ]
    },
    {
     "data": {
      "text/plain": [
       "{'0810PADBR-1': PosixPath('cases/full/0810PADBR-1_input-files-case.tsv'),\n",
       " '1405WAEXK-1': PosixPath('cases/full/1405WAEXK-1_input-files-case.tsv'),\n",
       " '1408MLGX6-3WGS': PosixPath('cases/full/1408MLGX6-3WGS_input-files-case.tsv'),\n",
       " '1203NYJAP-1 - Tuna Scrape Outbreak': PosixPath('cases/full/1203NYJAP-1_-_Tuna_Scrape_Outbreak_input-files-case.tsv')}"
      ]
     },
     "execution_count": 3,
     "metadata": {},
     "output_type": "execute_result"
    }
   ],
   "source": [
    "import pandas as pd\n",
    "from pathlib import Path\n",
    "from typing import Dict\n",
    "\n",
    "metadata_df = pd.read_csv(metadata_file, sep='\\t')\n",
    "\n",
    "def write_subset_input(metadata_df: pd.DataFrame, dataset_name: str) -> Path:\n",
    "    all_input_total = len(metadata_df)\n",
    "    cases_input = cases_dir_path / f'{dataset_name}_input-files-case.tsv'.replace(' ', '_')\n",
    "\n",
    "    input_df = metadata_df.copy().loc[metadata_df['dataSetName'] == dataset_name]\n",
    "    input_df['Sample'] = input_df['strain']\n",
    "    input_df['Assemblies'] = pd.NA\n",
    "    input_df['Reads1'] = input_df['Sample'].apply(lambda x: str((Path('data') / 'fastq' / (x + '_1.fastq.gz')).absolute()))\n",
    "    input_df['Reads2'] = input_df['Sample'].apply(lambda x: str((Path('data') / 'fastq' / (x + '_2.fastq.gz')).absolute()))\n",
    "    input_df = input_df[['Sample', 'Assemblies', 'Reads1', 'Reads2']]\n",
    "\n",
    "    input_df.to_csv(cases_input, sep='\\t', index=False)\n",
    "\n",
    "    subset_input_total = len(input_df)\n",
    "\n",
    "    print(f'Wrote dataset={dataset_name} consisting of {subset_input_total}/{all_input_total} samples to {cases_input}')\n",
    "    \n",
    "    return cases_input\n",
    "\n",
    "cases_inputs = {x: write_subset_input(metadata_df, dataset_name=x) for x in reference_files}\n",
    "cases_inputs"
   ]
  },
  {
   "cell_type": "markdown",
   "id": "f208279e-7558-47fc-9362-da29df92828a",
   "metadata": {
    "papermill": {
     "duration": 0.00993,
     "end_time": "2022-02-28T23:51:18.018746",
     "exception": false,
     "start_time": "2022-02-28T23:51:18.008816",
     "status": "completed"
    },
    "tags": []
   },
   "source": [
    "# 2. Index genomes"
   ]
  },
  {
   "cell_type": "code",
   "execution_count": 4,
   "id": "4e936f7c-2fcd-4188-b0e6-6b3ceb5cdcd2",
   "metadata": {
    "execution": {
     "iopub.execute_input": "2022-02-28T23:51:18.041090Z",
     "iopub.status.busy": "2022-02-28T23:51:18.040691Z",
     "iopub.status.idle": "2022-02-28T23:51:21.358263Z",
     "shell.execute_reply": "2022-02-28T23:51:21.359186Z"
    },
    "papermill": {
     "duration": 3.332715,
     "end_time": "2022-02-28T23:51:21.359480",
     "exception": false,
     "start_time": "2022-02-28T23:51:18.026765",
     "status": "completed"
    },
    "tags": []
   },
   "outputs": [
    {
     "name": "stdout",
     "output_type": "stream",
     "text": [
      "gdi, version 0.6.0.dev2\r\n"
     ]
    }
   ],
   "source": [
    "!gdi --version"
   ]
  },
  {
   "cell_type": "markdown",
   "id": "5409ecf8-2158-4361-9d2f-6b1a6c7c63a6",
   "metadata": {
    "papermill": {
     "duration": 0.010239,
     "end_time": "2022-02-28T23:51:21.388220",
     "exception": false,
     "start_time": "2022-02-28T23:51:21.377981",
     "status": "completed"
    },
    "tags": []
   },
   "source": [
    "## 2.1. Index reads"
   ]
  },
  {
   "cell_type": "code",
   "execution_count": 5,
   "id": "3d63e861-733e-46f2-8bce-bd1a2c7c7058",
   "metadata": {
    "execution": {
     "iopub.execute_input": "2022-02-28T23:51:21.414704Z",
     "iopub.status.busy": "2022-02-28T23:51:21.413565Z",
     "iopub.status.idle": "2022-03-01T07:18:55.959904Z",
     "shell.execute_reply": "2022-03-01T07:18:55.958891Z"
    },
    "papermill": {
     "duration": 26854.564612,
     "end_time": "2022-03-01T07:18:55.960266",
     "exception": false,
     "start_time": "2022-02-28T23:51:21.395654",
     "status": "completed"
    },
    "tags": []
   },
   "outputs": [
    {
     "name": "stdout",
     "output_type": "stream",
     "text": [
      "Creating new index: [gdi init cases/full/index]\n"
     ]
    },
    {
     "name": "stdout",
     "output_type": "stream",
     "text": [
      "Creating a new index took 3.33 seconds\n"
     ]
    },
    {
     "name": "stdout",
     "output_type": "stream",
     "text": [
      "\n",
      "Iteration 1 of index/analysis of 22 samples for reference=data/reference/campylobacter/GCA_001879185.2_ASM187918v2_genomic.gbk.gz with 4 cores\n",
      "Removing any extra snakemake directories: []\n",
      "Analysis running: [gdi --project-dir cases/full/index --ncores 4 analysis --use-conda --no-load-data --reference-file data/reference/campylobacter/GCA_001879185.2_ASM187918v2_genomic.gbk.gz --kmer-size 31 --kmer-size 51 --kmer-size 71 --include-kmer --reads-mincov 10 --input-structured-genomes-file cases/full/0810PADBR-1_input-files-case.tsv]\n"
     ]
    },
    {
     "name": "stdout",
     "output_type": "stream",
     "text": [
      "Analysis took 52.95 minutes\n",
      "Index running: [gdi --project-dir cases/full/index --ncores 4 load vcf-kmer --sample-batch-size 10 --reference-file data/reference/campylobacter/GCA_001879185.2_ASM187918v2_genomic.gbk.gz /home/CSCScience.ca/apetkau/workspace/genomics-data-index-evaluation/evaluations/reads/snakemake-assemblies.1646092288.7637947/gdi-input.fofn]\n"
     ]
    },
    {
     "name": "stdout",
     "output_type": "stream",
     "text": [
      "Indexing took 0.95 minutes\n",
      "Building tree: [gdi --project-dir cases/full/index --ncores 4 rebuild tree --align-type full --extra-params '--fast -m GTR+F+R4' GCA_001879185.2_ASM187918v2_genomic]\n"
     ]
    },
    {
     "name": "stdout",
     "output_type": "stream",
     "text": [
      "Building tree took 0.36 minutes\n"
     ]
    },
    {
     "name": "stderr",
     "output_type": "stream",
     "text": [
      "A reminder to myself to look for a Python solution for directory sizes (instead of running `du`)\n"
     ]
    },
    {
     "name": "stdout",
     "output_type": "stream",
     "text": [
      "\n",
      "Iteration 1 of index/analysis of 9 samples for reference=data/reference/ecoli/GCF_000703365.1_Ec2011C-3609_genomic.gbk.gz with 4 cores\n",
      "Removing any extra snakemake directories: ['snakemake-assemblies.1646092288.7637947']\n"
     ]
    },
    {
     "name": "stdout",
     "output_type": "stream",
     "text": [
      "Analysis running: [gdi --project-dir cases/full/index --ncores 4 analysis --use-conda --no-load-data --reference-file data/reference/ecoli/GCF_000703365.1_Ec2011C-3609_genomic.gbk.gz --kmer-size 31 --kmer-size 51 --kmer-size 71 --include-kmer --reads-mincov 10 --input-structured-genomes-file cases/full/1405WAEXK-1_input-files-case.tsv]\n"
     ]
    },
    {
     "name": "stdout",
     "output_type": "stream",
     "text": [
      "Analysis took 16.78 minutes\n",
      "Index running: [gdi --project-dir cases/full/index --ncores 4 load vcf-kmer --sample-batch-size 10 --reference-file data/reference/ecoli/GCF_000703365.1_Ec2011C-3609_genomic.gbk.gz /home/CSCScience.ca/apetkau/workspace/genomics-data-index-evaluation/evaluations/reads/snakemake-assemblies.1646095549.5727108/gdi-input.fofn]\n"
     ]
    },
    {
     "name": "stdout",
     "output_type": "stream",
     "text": [
      "Indexing took 3.63 minutes\n",
      "Building tree: [gdi --project-dir cases/full/index --ncores 4 rebuild tree --align-type full --extra-params '--fast -m GTR+F+R4' GCF_000703365.1_Ec2011C-3609_genomic]\n"
     ]
    },
    {
     "name": "stdout",
     "output_type": "stream",
     "text": [
      "Building tree took 0.52 minutes\n"
     ]
    },
    {
     "name": "stderr",
     "output_type": "stream",
     "text": [
      "Attempting to set global database_path_translator=<genomics_data_index.storage.model.db.DatabasePathTranslator.DatabasePathTranslator object at 0x7f03dc6f33d0> but it is already set\n"
     ]
    },
    {
     "name": "stderr",
     "output_type": "stream",
     "text": [
      "A reminder to myself to look for a Python solution for directory sizes (instead of running `du`)\n"
     ]
    },
    {
     "name": "stdout",
     "output_type": "stream",
     "text": [
      "\n",
      "Iteration 1 of index/analysis of 31 samples for reference=data/reference/listeria/GCF_001047715.2_ASM104771v2_genomic.gbk.gz with 4 cores\n",
      "Removing any extra snakemake directories: ['snakemake-assemblies.1646095549.5727108']\n"
     ]
    },
    {
     "name": "stdout",
     "output_type": "stream",
     "text": [
      "Analysis running: [gdi --project-dir cases/full/index --ncores 4 analysis --use-conda --no-load-data --reference-file data/reference/listeria/GCF_001047715.2_ASM104771v2_genomic.gbk.gz --kmer-size 31 --kmer-size 51 --kmer-size 71 --include-kmer --reads-mincov 10 --input-structured-genomes-file cases/full/1408MLGX6-3WGS_input-files-case.tsv]\n"
     ]
    },
    {
     "name": "stdout",
     "output_type": "stream",
     "text": [
      "Analysis took 39.70 minutes\n",
      "Index running: [gdi --project-dir cases/full/index --ncores 4 load vcf-kmer --sample-batch-size 10 --reference-file data/reference/listeria/GCF_001047715.2_ASM104771v2_genomic.gbk.gz /home/CSCScience.ca/apetkau/workspace/genomics-data-index-evaluation/evaluations/reads/snakemake-assemblies.1646096810.5333679/gdi-input.fofn]\n"
     ]
    },
    {
     "name": "stdout",
     "output_type": "stream",
     "text": [
      "Indexing took 2.02 minutes\n",
      "Building tree: [gdi --project-dir cases/full/index --ncores 4 rebuild tree --align-type full --extra-params '--fast -m GTR+F+R4' GCF_001047715.2_ASM104771v2_genomic]\n"
     ]
    },
    {
     "name": "stdout",
     "output_type": "stream",
     "text": [
      "Building tree took 0.60 minutes\n"
     ]
    },
    {
     "name": "stderr",
     "output_type": "stream",
     "text": [
      "Attempting to set global database_path_translator=<genomics_data_index.storage.model.db.DatabasePathTranslator.DatabasePathTranslator object at 0x7f03bb445d00> but it is already set\n"
     ]
    },
    {
     "name": "stderr",
     "output_type": "stream",
     "text": [
      "A reminder to myself to look for a Python solution for directory sizes (instead of running `du`)\n"
     ]
    },
    {
     "name": "stdout",
     "output_type": "stream",
     "text": [
      "\n",
      "Iteration 1 of index/analysis of 23 samples for reference=data/reference/salmonella/GCF_000439415.1_ASM43941v1_genomic.gbk.gz with 4 cores\n",
      "Removing any extra snakemake directories: ['snakemake-assemblies.1646096810.5333679']\n"
     ]
    },
    {
     "name": "stdout",
     "output_type": "stream",
     "text": [
      "Analysis running: [gdi --project-dir cases/full/index --ncores 4 analysis --use-conda --no-load-data --reference-file data/reference/salmonella/GCF_000439415.1_ASM43941v1_genomic.gbk.gz --kmer-size 31 --kmer-size 51 --kmer-size 71 --include-kmer --reads-mincov 10 --input-structured-genomes-file cases/full/1203NYJAP-1_-_Tuna_Scrape_Outbreak_input-files-case.tsv]\n"
     ]
    },
    {
     "name": "stdout",
     "output_type": "stream",
     "text": [
      "Analysis took 25.46 minutes\n",
      "Index running: [gdi --project-dir cases/full/index --ncores 4 load vcf-kmer --sample-batch-size 10 --reference-file data/reference/salmonella/GCF_000439415.1_ASM43941v1_genomic.gbk.gz /home/CSCScience.ca/apetkau/workspace/genomics-data-index-evaluation/evaluations/reads/snakemake-assemblies.1646099355.5125973/gdi-input.fofn]\n"
     ]
    },
    {
     "name": "stdout",
     "output_type": "stream",
     "text": [
      "Indexing took 4.96 minutes\n",
      "Building tree: [gdi --project-dir cases/full/index --ncores 4 rebuild tree --align-type full --extra-params '--fast -m GTR+F+R4' GCF_000439415.1_ASM43941v1_genomic]\n"
     ]
    },
    {
     "name": "stdout",
     "output_type": "stream",
     "text": [
      "Building tree took 0.68 minutes\n"
     ]
    },
    {
     "name": "stderr",
     "output_type": "stream",
     "text": [
      "Attempting to set global database_path_translator=<genomics_data_index.storage.model.db.DatabasePathTranslator.DatabasePathTranslator object at 0x7f03bb4450d0> but it is already set\n"
     ]
    },
    {
     "name": "stderr",
     "output_type": "stream",
     "text": [
      "A reminder to myself to look for a Python solution for directory sizes (instead of running `du`)\n"
     ]
    },
    {
     "name": "stdout",
     "output_type": "stream",
     "text": [
      "Removing any existing indexes cases/full/index\n",
      "Creating new index: [gdi init cases/full/index]\n"
     ]
    },
    {
     "name": "stdout",
     "output_type": "stream",
     "text": [
      "Creating a new index took 3.10 seconds\n"
     ]
    },
    {
     "name": "stdout",
     "output_type": "stream",
     "text": [
      "\n",
      "Iteration 2 of index/analysis of 22 samples for reference=data/reference/campylobacter/GCA_001879185.2_ASM187918v2_genomic.gbk.gz with 4 cores\n",
      "Removing any extra snakemake directories: ['snakemake-assemblies.1646099355.5125973']\n"
     ]
    },
    {
     "name": "stdout",
     "output_type": "stream",
     "text": [
      "Analysis running: [gdi --project-dir cases/full/index --ncores 4 analysis --use-conda --no-load-data --reference-file data/reference/campylobacter/GCA_001879185.2_ASM187918v2_genomic.gbk.gz --kmer-size 31 --kmer-size 51 --kmer-size 71 --include-kmer --reads-mincov 10 --input-structured-genomes-file cases/full/0810PADBR-1_input-files-case.tsv]\n"
     ]
    },
    {
     "name": "stdout",
     "output_type": "stream",
     "text": [
      "Analysis took 53.07 minutes\n",
      "Index running: [gdi --project-dir cases/full/index --ncores 4 load vcf-kmer --sample-batch-size 10 --reference-file data/reference/campylobacter/GCA_001879185.2_ASM187918v2_genomic.gbk.gz /home/CSCScience.ca/apetkau/workspace/genomics-data-index-evaluation/evaluations/reads/snakemake-assemblies.1646101229.5079792/gdi-input.fofn]\n"
     ]
    },
    {
     "name": "stdout",
     "output_type": "stream",
     "text": [
      "Indexing took 0.90 minutes\n",
      "Building tree: [gdi --project-dir cases/full/index --ncores 4 rebuild tree --align-type full --extra-params '--fast -m GTR+F+R4' GCA_001879185.2_ASM187918v2_genomic]\n"
     ]
    },
    {
     "name": "stdout",
     "output_type": "stream",
     "text": [
      "Building tree took 0.38 minutes\n"
     ]
    },
    {
     "name": "stderr",
     "output_type": "stream",
     "text": [
      "Attempting to set global database_path_translator=<genomics_data_index.storage.model.db.DatabasePathTranslator.DatabasePathTranslator object at 0x7f03dc6f35e0> but it is already set\n"
     ]
    },
    {
     "name": "stderr",
     "output_type": "stream",
     "text": [
      "A reminder to myself to look for a Python solution for directory sizes (instead of running `du`)\n"
     ]
    },
    {
     "name": "stdout",
     "output_type": "stream",
     "text": [
      "\n",
      "Iteration 2 of index/analysis of 9 samples for reference=data/reference/ecoli/GCF_000703365.1_Ec2011C-3609_genomic.gbk.gz with 4 cores\n",
      "Removing any extra snakemake directories: ['snakemake-assemblies.1646101229.5079792']\n"
     ]
    },
    {
     "name": "stdout",
     "output_type": "stream",
     "text": [
      "Analysis running: [gdi --project-dir cases/full/index --ncores 4 analysis --use-conda --no-load-data --reference-file data/reference/ecoli/GCF_000703365.1_Ec2011C-3609_genomic.gbk.gz --kmer-size 31 --kmer-size 51 --kmer-size 71 --include-kmer --reads-mincov 10 --input-structured-genomes-file cases/full/1405WAEXK-1_input-files-case.tsv]\n"
     ]
    },
    {
     "name": "stdout",
     "output_type": "stream",
     "text": [
      "Analysis took 16.78 minutes\n",
      "Index running: [gdi --project-dir cases/full/index --ncores 4 load vcf-kmer --sample-batch-size 10 --reference-file data/reference/ecoli/GCF_000703365.1_Ec2011C-3609_genomic.gbk.gz /home/CSCScience.ca/apetkau/workspace/genomics-data-index-evaluation/evaluations/reads/snakemake-assemblies.1646104495.8424146/gdi-input.fofn]\n"
     ]
    },
    {
     "name": "stdout",
     "output_type": "stream",
     "text": [
      "Indexing took 3.69 minutes\n",
      "Building tree: [gdi --project-dir cases/full/index --ncores 4 rebuild tree --align-type full --extra-params '--fast -m GTR+F+R4' GCF_000703365.1_Ec2011C-3609_genomic]\n"
     ]
    },
    {
     "name": "stdout",
     "output_type": "stream",
     "text": [
      "Building tree took 0.52 minutes\n"
     ]
    },
    {
     "name": "stderr",
     "output_type": "stream",
     "text": [
      "Attempting to set global database_path_translator=<genomics_data_index.storage.model.db.DatabasePathTranslator.DatabasePathTranslator object at 0x7f03bb445d00> but it is already set\n"
     ]
    },
    {
     "name": "stderr",
     "output_type": "stream",
     "text": [
      "A reminder to myself to look for a Python solution for directory sizes (instead of running `du`)\n"
     ]
    },
    {
     "name": "stdout",
     "output_type": "stream",
     "text": [
      "\n",
      "Iteration 2 of index/analysis of 31 samples for reference=data/reference/listeria/GCF_001047715.2_ASM104771v2_genomic.gbk.gz with 4 cores\n",
      "Removing any extra snakemake directories: ['snakemake-assemblies.1646104495.8424146']\n"
     ]
    },
    {
     "name": "stdout",
     "output_type": "stream",
     "text": [
      "Analysis running: [gdi --project-dir cases/full/index --ncores 4 analysis --use-conda --no-load-data --reference-file data/reference/listeria/GCF_001047715.2_ASM104771v2_genomic.gbk.gz --kmer-size 31 --kmer-size 51 --kmer-size 71 --include-kmer --reads-mincov 10 --input-structured-genomes-file cases/full/1408MLGX6-3WGS_input-files-case.tsv]\n"
     ]
    },
    {
     "name": "stdout",
     "output_type": "stream",
     "text": [
      "Analysis took 39.66 minutes\n",
      "Index running: [gdi --project-dir cases/full/index --ncores 4 load vcf-kmer --sample-batch-size 10 --reference-file data/reference/listeria/GCF_001047715.2_ASM104771v2_genomic.gbk.gz /home/CSCScience.ca/apetkau/workspace/genomics-data-index-evaluation/evaluations/reads/snakemake-assemblies.1646105760.7518668/gdi-input.fofn]\n"
     ]
    },
    {
     "name": "stdout",
     "output_type": "stream",
     "text": [
      "Indexing took 1.99 minutes\n",
      "Building tree: [gdi --project-dir cases/full/index --ncores 4 rebuild tree --align-type full --extra-params '--fast -m GTR+F+R4' GCF_001047715.2_ASM104771v2_genomic]\n"
     ]
    },
    {
     "name": "stdout",
     "output_type": "stream",
     "text": [
      "Building tree took 0.59 minutes\n"
     ]
    },
    {
     "name": "stderr",
     "output_type": "stream",
     "text": [
      "Attempting to set global database_path_translator=<genomics_data_index.storage.model.db.DatabasePathTranslator.DatabasePathTranslator object at 0x7f03c3931b20> but it is already set\n"
     ]
    },
    {
     "name": "stderr",
     "output_type": "stream",
     "text": [
      "A reminder to myself to look for a Python solution for directory sizes (instead of running `du`)\n"
     ]
    },
    {
     "name": "stdout",
     "output_type": "stream",
     "text": [
      "\n",
      "Iteration 2 of index/analysis of 23 samples for reference=data/reference/salmonella/GCF_000439415.1_ASM43941v1_genomic.gbk.gz with 4 cores\n",
      "Removing any extra snakemake directories: ['snakemake-assemblies.1646105760.7518668']\n"
     ]
    },
    {
     "name": "stdout",
     "output_type": "stream",
     "text": [
      "Analysis running: [gdi --project-dir cases/full/index --ncores 4 analysis --use-conda --no-load-data --reference-file data/reference/salmonella/GCF_000439415.1_ASM43941v1_genomic.gbk.gz --kmer-size 31 --kmer-size 51 --kmer-size 71 --include-kmer --reads-mincov 10 --input-structured-genomes-file cases/full/1203NYJAP-1_-_Tuna_Scrape_Outbreak_input-files-case.tsv]\n"
     ]
    },
    {
     "name": "stdout",
     "output_type": "stream",
     "text": [
      "Analysis took 25.28 minutes\n",
      "Index running: [gdi --project-dir cases/full/index --ncores 4 load vcf-kmer --sample-batch-size 10 --reference-file data/reference/salmonella/GCF_000439415.1_ASM43941v1_genomic.gbk.gz /home/CSCScience.ca/apetkau/workspace/genomics-data-index-evaluation/evaluations/reads/snakemake-assemblies.1646108300.7351642/gdi-input.fofn]\n"
     ]
    },
    {
     "name": "stdout",
     "output_type": "stream",
     "text": [
      "Indexing took 5.51 minutes\n",
      "Building tree: [gdi --project-dir cases/full/index --ncores 4 rebuild tree --align-type full --extra-params '--fast -m GTR+F+R4' GCF_000439415.1_ASM43941v1_genomic]\n"
     ]
    },
    {
     "name": "stdout",
     "output_type": "stream",
     "text": [
      "Building tree took 0.64 minutes\n"
     ]
    },
    {
     "name": "stderr",
     "output_type": "stream",
     "text": [
      "Attempting to set global database_path_translator=<genomics_data_index.storage.model.db.DatabasePathTranslator.DatabasePathTranslator object at 0x7f03c3cd40a0> but it is already set\n"
     ]
    },
    {
     "name": "stderr",
     "output_type": "stream",
     "text": [
      "A reminder to myself to look for a Python solution for directory sizes (instead of running `du`)\n"
     ]
    },
    {
     "name": "stdout",
     "output_type": "stream",
     "text": [
      "Removing any existing indexes cases/full/index\n",
      "Creating new index: [gdi init cases/full/index]\n"
     ]
    },
    {
     "name": "stdout",
     "output_type": "stream",
     "text": [
      "Creating a new index took 3.32 seconds\n"
     ]
    },
    {
     "name": "stdout",
     "output_type": "stream",
     "text": [
      "\n",
      "Iteration 3 of index/analysis of 22 samples for reference=data/reference/campylobacter/GCA_001879185.2_ASM187918v2_genomic.gbk.gz with 4 cores\n",
      "Removing any extra snakemake directories: ['snakemake-assemblies.1646108300.7351642']\n"
     ]
    },
    {
     "name": "stdout",
     "output_type": "stream",
     "text": [
      "Analysis running: [gdi --project-dir cases/full/index --ncores 4 analysis --use-conda --no-load-data --reference-file data/reference/campylobacter/GCA_001879185.2_ASM187918v2_genomic.gbk.gz --kmer-size 31 --kmer-size 51 --kmer-size 71 --include-kmer --reads-mincov 10 --input-structured-genomes-file cases/full/0810PADBR-1_input-files-case.tsv]\n"
     ]
    },
    {
     "name": "stdout",
     "output_type": "stream",
     "text": [
      "Analysis took 52.87 minutes\n",
      "Index running: [gdi --project-dir cases/full/index --ncores 4 load vcf-kmer --sample-batch-size 10 --reference-file data/reference/campylobacter/GCA_001879185.2_ASM187918v2_genomic.gbk.gz /home/CSCScience.ca/apetkau/workspace/genomics-data-index-evaluation/evaluations/reads/snakemake-assemblies.1646110194.391068/gdi-input.fofn]\n"
     ]
    },
    {
     "name": "stdout",
     "output_type": "stream",
     "text": [
      "Indexing took 0.89 minutes\n",
      "Building tree: [gdi --project-dir cases/full/index --ncores 4 rebuild tree --align-type full --extra-params '--fast -m GTR+F+R4' GCA_001879185.2_ASM187918v2_genomic]\n"
     ]
    },
    {
     "name": "stdout",
     "output_type": "stream",
     "text": [
      "Building tree took 0.32 minutes\n"
     ]
    },
    {
     "name": "stderr",
     "output_type": "stream",
     "text": [
      "Attempting to set global database_path_translator=<genomics_data_index.storage.model.db.DatabasePathTranslator.DatabasePathTranslator object at 0x7f03c3931d00> but it is already set\n"
     ]
    },
    {
     "name": "stderr",
     "output_type": "stream",
     "text": [
      "A reminder to myself to look for a Python solution for directory sizes (instead of running `du`)\n"
     ]
    },
    {
     "name": "stdout",
     "output_type": "stream",
     "text": [
      "\n",
      "Iteration 3 of index/analysis of 9 samples for reference=data/reference/ecoli/GCF_000703365.1_Ec2011C-3609_genomic.gbk.gz with 4 cores\n",
      "Removing any extra snakemake directories: ['snakemake-assemblies.1646110194.391068']\n"
     ]
    },
    {
     "name": "stdout",
     "output_type": "stream",
     "text": [
      "Analysis running: [gdi --project-dir cases/full/index --ncores 4 analysis --use-conda --no-load-data --reference-file data/reference/ecoli/GCF_000703365.1_Ec2011C-3609_genomic.gbk.gz --kmer-size 31 --kmer-size 51 --kmer-size 71 --include-kmer --reads-mincov 10 --input-structured-genomes-file cases/full/1405WAEXK-1_input-files-case.tsv]\n"
     ]
    },
    {
     "name": "stdout",
     "output_type": "stream",
     "text": [
      "Analysis took 16.66 minutes\n",
      "Index running: [gdi --project-dir cases/full/index --ncores 4 load vcf-kmer --sample-batch-size 10 --reference-file data/reference/ecoli/GCF_000703365.1_Ec2011C-3609_genomic.gbk.gz /home/CSCScience.ca/apetkau/workspace/genomics-data-index-evaluation/evaluations/reads/snakemake-assemblies.1646113444.656156/gdi-input.fofn]\n"
     ]
    },
    {
     "name": "stdout",
     "output_type": "stream",
     "text": [
      "Indexing took 3.83 minutes\n",
      "Building tree: [gdi --project-dir cases/full/index --ncores 4 rebuild tree --align-type full --extra-params '--fast -m GTR+F+R4' GCF_000703365.1_Ec2011C-3609_genomic]\n"
     ]
    },
    {
     "name": "stdout",
     "output_type": "stream",
     "text": [
      "Building tree took 0.47 minutes\n"
     ]
    },
    {
     "name": "stderr",
     "output_type": "stream",
     "text": [
      "Attempting to set global database_path_translator=<genomics_data_index.storage.model.db.DatabasePathTranslator.DatabasePathTranslator object at 0x7f03bb4451f0> but it is already set\n"
     ]
    },
    {
     "name": "stderr",
     "output_type": "stream",
     "text": [
      "A reminder to myself to look for a Python solution for directory sizes (instead of running `du`)\n"
     ]
    },
    {
     "name": "stdout",
     "output_type": "stream",
     "text": [
      "\n",
      "Iteration 3 of index/analysis of 31 samples for reference=data/reference/listeria/GCF_001047715.2_ASM104771v2_genomic.gbk.gz with 4 cores\n",
      "Removing any extra snakemake directories: ['snakemake-assemblies.1646113444.656156']\n"
     ]
    },
    {
     "name": "stdout",
     "output_type": "stream",
     "text": [
      "Analysis running: [gdi --project-dir cases/full/index --ncores 4 analysis --use-conda --no-load-data --reference-file data/reference/listeria/GCF_001047715.2_ASM104771v2_genomic.gbk.gz --kmer-size 31 --kmer-size 51 --kmer-size 71 --include-kmer --reads-mincov 10 --input-structured-genomes-file cases/full/1408MLGX6-3WGS_input-files-case.tsv]\n"
     ]
    },
    {
     "name": "stdout",
     "output_type": "stream",
     "text": [
      "Analysis took 40.18 minutes\n",
      "Index running: [gdi --project-dir cases/full/index --ncores 4 load vcf-kmer --sample-batch-size 10 --reference-file data/reference/listeria/GCF_001047715.2_ASM104771v2_genomic.gbk.gz /home/CSCScience.ca/apetkau/workspace/genomics-data-index-evaluation/evaluations/reads/snakemake-assemblies.1646114707.2152638/gdi-input.fofn]\n"
     ]
    },
    {
     "name": "stdout",
     "output_type": "stream",
     "text": [
      "Indexing took 1.98 minutes\n",
      "Building tree: [gdi --project-dir cases/full/index --ncores 4 rebuild tree --align-type full --extra-params '--fast -m GTR+F+R4' GCF_001047715.2_ASM104771v2_genomic]\n"
     ]
    },
    {
     "name": "stdout",
     "output_type": "stream",
     "text": [
      "Building tree took 0.57 minutes\n"
     ]
    },
    {
     "name": "stderr",
     "output_type": "stream",
     "text": [
      "Attempting to set global database_path_translator=<genomics_data_index.storage.model.db.DatabasePathTranslator.DatabasePathTranslator object at 0x7f03aa56b610> but it is already set\n"
     ]
    },
    {
     "name": "stderr",
     "output_type": "stream",
     "text": [
      "A reminder to myself to look for a Python solution for directory sizes (instead of running `du`)\n"
     ]
    },
    {
     "name": "stdout",
     "output_type": "stream",
     "text": [
      "\n",
      "Iteration 3 of index/analysis of 23 samples for reference=data/reference/salmonella/GCF_000439415.1_ASM43941v1_genomic.gbk.gz with 4 cores\n",
      "Removing any extra snakemake directories: ['snakemake-assemblies.1646114707.2152638']\n"
     ]
    },
    {
     "name": "stdout",
     "output_type": "stream",
     "text": [
      "Analysis running: [gdi --project-dir cases/full/index --ncores 4 analysis --use-conda --no-load-data --reference-file data/reference/salmonella/GCF_000439415.1_ASM43941v1_genomic.gbk.gz --kmer-size 31 --kmer-size 51 --kmer-size 71 --include-kmer --reads-mincov 10 --input-structured-genomes-file cases/full/1203NYJAP-1_-_Tuna_Scrape_Outbreak_input-files-case.tsv]\n"
     ]
    },
    {
     "name": "stdout",
     "output_type": "stream",
     "text": [
      "Analysis took 25.38 minutes\n",
      "Index running: [gdi --project-dir cases/full/index --ncores 4 load vcf-kmer --sample-batch-size 10 --reference-file data/reference/salmonella/GCF_000439415.1_ASM43941v1_genomic.gbk.gz /home/CSCScience.ca/apetkau/workspace/genomics-data-index-evaluation/evaluations/reads/snakemake-assemblies.1646117277.333741/gdi-input.fofn]\n"
     ]
    },
    {
     "name": "stdout",
     "output_type": "stream",
     "text": [
      "Indexing took 5.00 minutes\n",
      "Building tree: [gdi --project-dir cases/full/index --ncores 4 rebuild tree --align-type full --extra-params '--fast -m GTR+F+R4' GCF_000439415.1_ASM43941v1_genomic]\n"
     ]
    },
    {
     "name": "stdout",
     "output_type": "stream",
     "text": [
      "Building tree took 0.61 minutes\n"
     ]
    },
    {
     "name": "stderr",
     "output_type": "stream",
     "text": [
      "Attempting to set global database_path_translator=<genomics_data_index.storage.model.db.DatabasePathTranslator.DatabasePathTranslator object at 0x7f03bb445af0> but it is already set\n"
     ]
    },
    {
     "name": "stderr",
     "output_type": "stream",
     "text": [
      "A reminder to myself to look for a Python solution for directory sizes (instead of running `du`)\n"
     ]
    },
    {
     "name": "stdout",
     "output_type": "stream",
     "text": [
      "***Finished benchmarking, took 447.58 minutes***\n"
     ]
    }
   ],
   "source": [
    "import time\n",
    "\n",
    "start = time.time()\n",
    "benchmarker = gdi_benchmark.IndexBenchmarkerMultiple(index_path=index_path, input_files_files=cases_inputs,\n",
    "                                             reference_files=reference_files, mincov=mincov,\n",
    "                                             build_tree=build_tree,\n",
    "                                             ncores=ncores,\n",
    "                                             sample_batch_size=sample_batch_size)\n",
    "benchmark_df = benchmarker.benchmark(iterations=iterations)\n",
    "end = time.time()\n",
    "print(f'***Finished benchmarking, took {(end - start)/60:0.2f} minutes***')"
   ]
  },
  {
   "cell_type": "code",
   "execution_count": 6,
   "id": "3bcb6da7-0164-47f2-abdd-a4c159da1e3b",
   "metadata": {
    "execution": {
     "iopub.execute_input": "2022-03-01T07:18:56.043524Z",
     "iopub.status.busy": "2022-03-01T07:18:56.043053Z",
     "iopub.status.idle": "2022-03-01T07:18:56.081125Z",
     "shell.execute_reply": "2022-03-01T07:18:56.082019Z"
    },
    "papermill": {
     "duration": 0.081561,
     "end_time": "2022-03-01T07:18:56.082282",
     "exception": false,
     "start_time": "2022-03-01T07:18:56.000721",
     "status": "completed"
    },
    "tags": []
   },
   "outputs": [
    {
     "data": {
      "text/html": [
       "<div>\n",
       "<style scoped>\n",
       "    .dataframe tbody tr th:only-of-type {\n",
       "        vertical-align: middle;\n",
       "    }\n",
       "\n",
       "    .dataframe tbody tr th {\n",
       "        vertical-align: top;\n",
       "    }\n",
       "\n",
       "    .dataframe thead th {\n",
       "        text-align: right;\n",
       "    }\n",
       "</style>\n",
       "<table border=\"1\" class=\"dataframe\">\n",
       "  <thead>\n",
       "    <tr style=\"text-align: right;\">\n",
       "      <th></th>\n",
       "      <th>Name</th>\n",
       "      <th>Reference name</th>\n",
       "      <th>Iteration</th>\n",
       "      <th>Number samples</th>\n",
       "      <th>Number features (all)</th>\n",
       "      <th>Number features (no unknown)</th>\n",
       "      <th>Number cores</th>\n",
       "      <th>Reference length</th>\n",
       "      <th>Analysis runtime</th>\n",
       "      <th>Analysis memory (max)</th>\n",
       "      <th>...</th>\n",
       "      <th>Analysis disk uage</th>\n",
       "      <th>Index runtime</th>\n",
       "      <th>Index memory (max)</th>\n",
       "      <th>Index memory (max/process)</th>\n",
       "      <th>Index size</th>\n",
       "      <th>Tree runtime</th>\n",
       "      <th>Tree memory (max)</th>\n",
       "      <th>Tree memory (max/process)</th>\n",
       "      <th>Total runtime</th>\n",
       "      <th>Max memory</th>\n",
       "    </tr>\n",
       "  </thead>\n",
       "  <tbody>\n",
       "    <tr>\n",
       "      <th>0</th>\n",
       "      <td>0810PADBR-1</td>\n",
       "      <td>GCA_001879185.2_ASM187918v2_genomic</td>\n",
       "      <td>1</td>\n",
       "      <td>22</td>\n",
       "      <td>45117</td>\n",
       "      <td>1102</td>\n",
       "      <td>4</td>\n",
       "      <td>1634890</td>\n",
       "      <td>3176.87</td>\n",
       "      <td>1.542143e+10</td>\n",
       "      <td>...</td>\n",
       "      <td>1.200303e+10</td>\n",
       "      <td>56.64</td>\n",
       "      <td>2.140758e+09</td>\n",
       "      <td>7.243448e+08</td>\n",
       "      <td>46620672.0</td>\n",
       "      <td>21.77</td>\n",
       "      <td>5.448172e+08</td>\n",
       "      <td>276758528.0</td>\n",
       "      <td>3255.28</td>\n",
       "      <td>1.542143e+10</td>\n",
       "    </tr>\n",
       "    <tr>\n",
       "      <th>0</th>\n",
       "      <td>1405WAEXK-1</td>\n",
       "      <td>GCF_000703365.1_Ec2011C-3609_genomic</td>\n",
       "      <td>1</td>\n",
       "      <td>9</td>\n",
       "      <td>550816</td>\n",
       "      <td>601</td>\n",
       "      <td>4</td>\n",
       "      <td>5412686</td>\n",
       "      <td>1006.71</td>\n",
       "      <td>5.378331e+09</td>\n",
       "      <td>...</td>\n",
       "      <td>6.555087e+09</td>\n",
       "      <td>217.46</td>\n",
       "      <td>3.763491e+09</td>\n",
       "      <td>3.763491e+09</td>\n",
       "      <td>134238208.0</td>\n",
       "      <td>30.84</td>\n",
       "      <td>8.196547e+08</td>\n",
       "      <td>459227136.0</td>\n",
       "      <td>1255.01</td>\n",
       "      <td>5.378331e+09</td>\n",
       "    </tr>\n",
       "    <tr>\n",
       "      <th>0</th>\n",
       "      <td>1408MLGX6-3WGS</td>\n",
       "      <td>GCF_001047715.2_ASM104771v2_genomic</td>\n",
       "      <td>1</td>\n",
       "      <td>31</td>\n",
       "      <td>142442</td>\n",
       "      <td>170</td>\n",
       "      <td>4</td>\n",
       "      <td>2939733</td>\n",
       "      <td>2381.63</td>\n",
       "      <td>9.849967e+09</td>\n",
       "      <td>...</td>\n",
       "      <td>1.080716e+10</td>\n",
       "      <td>121.06</td>\n",
       "      <td>2.877428e+09</td>\n",
       "      <td>9.822577e+08</td>\n",
       "      <td>173309952.0</td>\n",
       "      <td>36.01</td>\n",
       "      <td>9.941811e+08</td>\n",
       "      <td>659406848.0</td>\n",
       "      <td>2538.70</td>\n",
       "      <td>9.849967e+09</td>\n",
       "    </tr>\n",
       "    <tr>\n",
       "      <th>0</th>\n",
       "      <td>1203NYJAP-1 - Tuna Scrape Outbreak</td>\n",
       "      <td>GCF_000439415.1_ASM43941v1_genomic</td>\n",
       "      <td>1</td>\n",
       "      <td>23</td>\n",
       "      <td>418622</td>\n",
       "      <td>165</td>\n",
       "      <td>4</td>\n",
       "      <td>4808805</td>\n",
       "      <td>1527.03</td>\n",
       "      <td>7.293293e+09</td>\n",
       "      <td>...</td>\n",
       "      <td>9.016316e+09</td>\n",
       "      <td>297.29</td>\n",
       "      <td>5.883326e+09</td>\n",
       "      <td>2.521530e+09</td>\n",
       "      <td>251686912.0</td>\n",
       "      <td>40.82</td>\n",
       "      <td>1.335919e+09</td>\n",
       "      <td>870039552.0</td>\n",
       "      <td>1865.14</td>\n",
       "      <td>7.293293e+09</td>\n",
       "    </tr>\n",
       "    <tr>\n",
       "      <th>0</th>\n",
       "      <td>0810PADBR-1</td>\n",
       "      <td>GCA_001879185.2_ASM187918v2_genomic</td>\n",
       "      <td>2</td>\n",
       "      <td>22</td>\n",
       "      <td>45117</td>\n",
       "      <td>1102</td>\n",
       "      <td>4</td>\n",
       "      <td>1634890</td>\n",
       "      <td>3183.70</td>\n",
       "      <td>1.589219e+10</td>\n",
       "      <td>...</td>\n",
       "      <td>1.200306e+10</td>\n",
       "      <td>53.81</td>\n",
       "      <td>2.125062e+09</td>\n",
       "      <td>7.274988e+08</td>\n",
       "      <td>46510080.0</td>\n",
       "      <td>22.97</td>\n",
       "      <td>5.446164e+08</td>\n",
       "      <td>276623360.0</td>\n",
       "      <td>3260.48</td>\n",
       "      <td>1.589219e+10</td>\n",
       "    </tr>\n",
       "    <tr>\n",
       "      <th>0</th>\n",
       "      <td>1405WAEXK-1</td>\n",
       "      <td>GCF_000703365.1_Ec2011C-3609_genomic</td>\n",
       "      <td>2</td>\n",
       "      <td>9</td>\n",
       "      <td>550816</td>\n",
       "      <td>601</td>\n",
       "      <td>4</td>\n",
       "      <td>5412686</td>\n",
       "      <td>1006.53</td>\n",
       "      <td>5.406507e+09</td>\n",
       "      <td>...</td>\n",
       "      <td>6.555070e+09</td>\n",
       "      <td>221.38</td>\n",
       "      <td>3.767517e+09</td>\n",
       "      <td>3.767517e+09</td>\n",
       "      <td>134508544.0</td>\n",
       "      <td>31.12</td>\n",
       "      <td>8.192778e+08</td>\n",
       "      <td>459132928.0</td>\n",
       "      <td>1259.03</td>\n",
       "      <td>5.406507e+09</td>\n",
       "    </tr>\n",
       "    <tr>\n",
       "      <th>0</th>\n",
       "      <td>1408MLGX6-3WGS</td>\n",
       "      <td>GCF_001047715.2_ASM104771v2_genomic</td>\n",
       "      <td>2</td>\n",
       "      <td>31</td>\n",
       "      <td>142442</td>\n",
       "      <td>170</td>\n",
       "      <td>4</td>\n",
       "      <td>2939733</td>\n",
       "      <td>2379.03</td>\n",
       "      <td>9.583411e+09</td>\n",
       "      <td>...</td>\n",
       "      <td>1.080715e+10</td>\n",
       "      <td>119.33</td>\n",
       "      <td>2.858324e+09</td>\n",
       "      <td>9.640018e+08</td>\n",
       "      <td>174436352.0</td>\n",
       "      <td>35.44</td>\n",
       "      <td>9.943163e+08</td>\n",
       "      <td>659709952.0</td>\n",
       "      <td>2533.80</td>\n",
       "      <td>9.583411e+09</td>\n",
       "    </tr>\n",
       "    <tr>\n",
       "      <th>0</th>\n",
       "      <td>1203NYJAP-1 - Tuna Scrape Outbreak</td>\n",
       "      <td>GCF_000439415.1_ASM43941v1_genomic</td>\n",
       "      <td>2</td>\n",
       "      <td>23</td>\n",
       "      <td>418622</td>\n",
       "      <td>165</td>\n",
       "      <td>4</td>\n",
       "      <td>4808805</td>\n",
       "      <td>1516.36</td>\n",
       "      <td>6.694564e+09</td>\n",
       "      <td>...</td>\n",
       "      <td>9.016316e+09</td>\n",
       "      <td>330.15</td>\n",
       "      <td>6.598312e+09</td>\n",
       "      <td>3.071734e+09</td>\n",
       "      <td>250753024.0</td>\n",
       "      <td>38.17</td>\n",
       "      <td>1.336205e+09</td>\n",
       "      <td>870522880.0</td>\n",
       "      <td>1884.68</td>\n",
       "      <td>6.694564e+09</td>\n",
       "    </tr>\n",
       "    <tr>\n",
       "      <th>0</th>\n",
       "      <td>0810PADBR-1</td>\n",
       "      <td>GCA_001879185.2_ASM187918v2_genomic</td>\n",
       "      <td>3</td>\n",
       "      <td>22</td>\n",
       "      <td>45117</td>\n",
       "      <td>1102</td>\n",
       "      <td>4</td>\n",
       "      <td>1634890</td>\n",
       "      <td>3172.02</td>\n",
       "      <td>1.472430e+10</td>\n",
       "      <td>...</td>\n",
       "      <td>1.200306e+10</td>\n",
       "      <td>53.26</td>\n",
       "      <td>2.122781e+09</td>\n",
       "      <td>7.224975e+08</td>\n",
       "      <td>46473216.0</td>\n",
       "      <td>19.36</td>\n",
       "      <td>5.451489e+08</td>\n",
       "      <td>276709376.0</td>\n",
       "      <td>3244.64</td>\n",
       "      <td>1.472430e+10</td>\n",
       "    </tr>\n",
       "    <tr>\n",
       "      <th>0</th>\n",
       "      <td>1405WAEXK-1</td>\n",
       "      <td>GCF_000703365.1_Ec2011C-3609_genomic</td>\n",
       "      <td>3</td>\n",
       "      <td>9</td>\n",
       "      <td>550816</td>\n",
       "      <td>601</td>\n",
       "      <td>4</td>\n",
       "      <td>5412686</td>\n",
       "      <td>999.35</td>\n",
       "      <td>5.510656e+09</td>\n",
       "      <td>...</td>\n",
       "      <td>6.555070e+09</td>\n",
       "      <td>229.58</td>\n",
       "      <td>3.806822e+09</td>\n",
       "      <td>3.806822e+09</td>\n",
       "      <td>134520832.0</td>\n",
       "      <td>28.18</td>\n",
       "      <td>8.196547e+08</td>\n",
       "      <td>459460608.0</td>\n",
       "      <td>1257.11</td>\n",
       "      <td>5.510656e+09</td>\n",
       "    </tr>\n",
       "    <tr>\n",
       "      <th>0</th>\n",
       "      <td>1408MLGX6-3WGS</td>\n",
       "      <td>GCF_001047715.2_ASM104771v2_genomic</td>\n",
       "      <td>3</td>\n",
       "      <td>31</td>\n",
       "      <td>142442</td>\n",
       "      <td>170</td>\n",
       "      <td>4</td>\n",
       "      <td>2939733</td>\n",
       "      <td>2410.75</td>\n",
       "      <td>9.860563e+09</td>\n",
       "      <td>...</td>\n",
       "      <td>1.080712e+10</td>\n",
       "      <td>118.82</td>\n",
       "      <td>2.678673e+09</td>\n",
       "      <td>9.477612e+08</td>\n",
       "      <td>173596672.0</td>\n",
       "      <td>34.26</td>\n",
       "      <td>9.951232e+08</td>\n",
       "      <td>660127744.0</td>\n",
       "      <td>2563.83</td>\n",
       "      <td>9.860563e+09</td>\n",
       "    </tr>\n",
       "    <tr>\n",
       "      <th>0</th>\n",
       "      <td>1203NYJAP-1 - Tuna Scrape Outbreak</td>\n",
       "      <td>GCF_000439415.1_ASM43941v1_genomic</td>\n",
       "      <td>3</td>\n",
       "      <td>23</td>\n",
       "      <td>418622</td>\n",
       "      <td>165</td>\n",
       "      <td>4</td>\n",
       "      <td>4808805</td>\n",
       "      <td>1522.67</td>\n",
       "      <td>6.675538e+09</td>\n",
       "      <td>...</td>\n",
       "      <td>9.016275e+09</td>\n",
       "      <td>300.09</td>\n",
       "      <td>5.599584e+09</td>\n",
       "      <td>2.612589e+09</td>\n",
       "      <td>252383232.0</td>\n",
       "      <td>36.73</td>\n",
       "      <td>1.337070e+09</td>\n",
       "      <td>870699008.0</td>\n",
       "      <td>1859.49</td>\n",
       "      <td>6.675538e+09</td>\n",
       "    </tr>\n",
       "  </tbody>\n",
       "</table>\n",
       "<p>12 rows × 21 columns</p>\n",
       "</div>"
      ],
      "text/plain": [
       "                                 Name                        Reference name  \\\n",
       "0                         0810PADBR-1   GCA_001879185.2_ASM187918v2_genomic   \n",
       "0                         1405WAEXK-1  GCF_000703365.1_Ec2011C-3609_genomic   \n",
       "0                      1408MLGX6-3WGS   GCF_001047715.2_ASM104771v2_genomic   \n",
       "0  1203NYJAP-1 - Tuna Scrape Outbreak    GCF_000439415.1_ASM43941v1_genomic   \n",
       "0                         0810PADBR-1   GCA_001879185.2_ASM187918v2_genomic   \n",
       "0                         1405WAEXK-1  GCF_000703365.1_Ec2011C-3609_genomic   \n",
       "0                      1408MLGX6-3WGS   GCF_001047715.2_ASM104771v2_genomic   \n",
       "0  1203NYJAP-1 - Tuna Scrape Outbreak    GCF_000439415.1_ASM43941v1_genomic   \n",
       "0                         0810PADBR-1   GCA_001879185.2_ASM187918v2_genomic   \n",
       "0                         1405WAEXK-1  GCF_000703365.1_Ec2011C-3609_genomic   \n",
       "0                      1408MLGX6-3WGS   GCF_001047715.2_ASM104771v2_genomic   \n",
       "0  1203NYJAP-1 - Tuna Scrape Outbreak    GCF_000439415.1_ASM43941v1_genomic   \n",
       "\n",
       "   Iteration  Number samples  Number features (all)  \\\n",
       "0          1              22                  45117   \n",
       "0          1               9                 550816   \n",
       "0          1              31                 142442   \n",
       "0          1              23                 418622   \n",
       "0          2              22                  45117   \n",
       "0          2               9                 550816   \n",
       "0          2              31                 142442   \n",
       "0          2              23                 418622   \n",
       "0          3              22                  45117   \n",
       "0          3               9                 550816   \n",
       "0          3              31                 142442   \n",
       "0          3              23                 418622   \n",
       "\n",
       "   Number features (no unknown)  Number cores  Reference length  \\\n",
       "0                          1102             4           1634890   \n",
       "0                           601             4           5412686   \n",
       "0                           170             4           2939733   \n",
       "0                           165             4           4808805   \n",
       "0                          1102             4           1634890   \n",
       "0                           601             4           5412686   \n",
       "0                           170             4           2939733   \n",
       "0                           165             4           4808805   \n",
       "0                          1102             4           1634890   \n",
       "0                           601             4           5412686   \n",
       "0                           170             4           2939733   \n",
       "0                           165             4           4808805   \n",
       "\n",
       "   Analysis runtime  Analysis memory (max)  ...  Analysis disk uage  \\\n",
       "0           3176.87           1.542143e+10  ...        1.200303e+10   \n",
       "0           1006.71           5.378331e+09  ...        6.555087e+09   \n",
       "0           2381.63           9.849967e+09  ...        1.080716e+10   \n",
       "0           1527.03           7.293293e+09  ...        9.016316e+09   \n",
       "0           3183.70           1.589219e+10  ...        1.200306e+10   \n",
       "0           1006.53           5.406507e+09  ...        6.555070e+09   \n",
       "0           2379.03           9.583411e+09  ...        1.080715e+10   \n",
       "0           1516.36           6.694564e+09  ...        9.016316e+09   \n",
       "0           3172.02           1.472430e+10  ...        1.200306e+10   \n",
       "0            999.35           5.510656e+09  ...        6.555070e+09   \n",
       "0           2410.75           9.860563e+09  ...        1.080712e+10   \n",
       "0           1522.67           6.675538e+09  ...        9.016275e+09   \n",
       "\n",
       "   Index runtime  Index memory (max)  Index memory (max/process)   Index size  \\\n",
       "0          56.64        2.140758e+09                7.243448e+08   46620672.0   \n",
       "0         217.46        3.763491e+09                3.763491e+09  134238208.0   \n",
       "0         121.06        2.877428e+09                9.822577e+08  173309952.0   \n",
       "0         297.29        5.883326e+09                2.521530e+09  251686912.0   \n",
       "0          53.81        2.125062e+09                7.274988e+08   46510080.0   \n",
       "0         221.38        3.767517e+09                3.767517e+09  134508544.0   \n",
       "0         119.33        2.858324e+09                9.640018e+08  174436352.0   \n",
       "0         330.15        6.598312e+09                3.071734e+09  250753024.0   \n",
       "0          53.26        2.122781e+09                7.224975e+08   46473216.0   \n",
       "0         229.58        3.806822e+09                3.806822e+09  134520832.0   \n",
       "0         118.82        2.678673e+09                9.477612e+08  173596672.0   \n",
       "0         300.09        5.599584e+09                2.612589e+09  252383232.0   \n",
       "\n",
       "   Tree runtime  Tree memory (max)  Tree memory (max/process)  Total runtime  \\\n",
       "0         21.77       5.448172e+08                276758528.0        3255.28   \n",
       "0         30.84       8.196547e+08                459227136.0        1255.01   \n",
       "0         36.01       9.941811e+08                659406848.0        2538.70   \n",
       "0         40.82       1.335919e+09                870039552.0        1865.14   \n",
       "0         22.97       5.446164e+08                276623360.0        3260.48   \n",
       "0         31.12       8.192778e+08                459132928.0        1259.03   \n",
       "0         35.44       9.943163e+08                659709952.0        2533.80   \n",
       "0         38.17       1.336205e+09                870522880.0        1884.68   \n",
       "0         19.36       5.451489e+08                276709376.0        3244.64   \n",
       "0         28.18       8.196547e+08                459460608.0        1257.11   \n",
       "0         34.26       9.951232e+08                660127744.0        2563.83   \n",
       "0         36.73       1.337070e+09                870699008.0        1859.49   \n",
       "\n",
       "     Max memory  \n",
       "0  1.542143e+10  \n",
       "0  5.378331e+09  \n",
       "0  9.849967e+09  \n",
       "0  7.293293e+09  \n",
       "0  1.589219e+10  \n",
       "0  5.406507e+09  \n",
       "0  9.583411e+09  \n",
       "0  6.694564e+09  \n",
       "0  1.472430e+10  \n",
       "0  5.510656e+09  \n",
       "0  9.860563e+09  \n",
       "0  6.675538e+09  \n",
       "\n",
       "[12 rows x 21 columns]"
      ]
     },
     "execution_count": 6,
     "metadata": {},
     "output_type": "execute_result"
    }
   ],
   "source": [
    "benchmark_df"
   ]
  },
  {
   "cell_type": "code",
   "execution_count": 7,
   "id": "535a9ccc-ab9c-4919-806f-128e1efd2389",
   "metadata": {
    "execution": {
     "iopub.execute_input": "2022-03-01T07:18:56.160903Z",
     "iopub.status.busy": "2022-03-01T07:18:56.159555Z",
     "iopub.status.idle": "2022-03-01T07:18:56.164505Z",
     "shell.execute_reply": "2022-03-01T07:18:56.164088Z"
    },
    "papermill": {
     "duration": 0.039742,
     "end_time": "2022-03-01T07:18:56.164582",
     "exception": false,
     "start_time": "2022-03-01T07:18:56.124840",
     "status": "completed"
    },
    "tags": []
   },
   "outputs": [],
   "source": [
    "benchmark_df.to_csv(benchmark_path, sep='\\t', index=False)"
   ]
  },
  {
   "cell_type": "markdown",
   "id": "6cb7673b-9f85-4c43-b2e2-93538497a196",
   "metadata": {
    "papermill": {
     "duration": 0.026437,
     "end_time": "2022-03-01T07:18:56.220268",
     "exception": false,
     "start_time": "2022-03-01T07:18:56.193831",
     "status": "completed"
    },
    "tags": []
   },
   "source": [
    "# 3. Export trees"
   ]
  },
  {
   "cell_type": "code",
   "execution_count": 8,
   "id": "5280f82c-5434-4391-8c44-b937a7c95bd5",
   "metadata": {
    "execution": {
     "iopub.execute_input": "2022-03-01T07:18:56.384289Z",
     "iopub.status.busy": "2022-03-01T07:18:56.375971Z",
     "iopub.status.idle": "2022-03-01T07:19:09.933991Z",
     "shell.execute_reply": "2022-03-01T07:19:09.934876Z"
    },
    "papermill": {
     "duration": 13.688704,
     "end_time": "2022-03-01T07:19:09.935183",
     "exception": false,
     "start_time": "2022-03-01T07:18:56.246479",
     "status": "completed"
    },
    "tags": []
   },
   "outputs": [],
   "source": [
    "if build_tree:\n",
    "    # Using variables with shell commands in Jupyter isn't working for me so I have to avoid using them\n",
    "    !gdi --project-dir cases/full/index export tree GCA_001879185.2_ASM187918v2_genomic > cases/full/0810PADBR-1_tree.tre\n",
    "    !gdi --project-dir cases/full/index export tree GCF_000703365.1_Ec2011C-3609_genomic > cases/full/1405WAEXK-1_tree.tre\n",
    "    !gdi --project-dir cases/full/index export tree GCF_001047715.2_ASM104771v2_genomic > cases/full/1408MLGX6-3WGS_tree.tre\n",
    "    !gdi --project-dir cases/full/index export tree GCF_000439415.1_ASM43941v1_genomic > cases/full/1203NYJAP-1_-_Tuna_Scrape_Outbreak_tree.tre\n",
    "else:\n",
    "    print(f'build_tree={build_tree} so no trees to export')"
   ]
  },
  {
   "cell_type": "code",
   "execution_count": null,
   "id": "3162d923-834f-45f6-b4cc-653d9a1e1d97",
   "metadata": {
    "papermill": {
     "duration": 0.045297,
     "end_time": "2022-03-01T07:19:10.023567",
     "exception": false,
     "start_time": "2022-03-01T07:19:09.978270",
     "status": "completed"
    },
    "tags": []
   },
   "outputs": [],
   "source": []
  }
 ],
 "metadata": {
  "kernelspec": {
   "display_name": "Python 3 (ipykernel)",
   "language": "python",
   "name": "python3"
  },
  "language_info": {
   "codemirror_mode": {
    "name": "ipython",
    "version": 3
   },
   "file_extension": ".py",
   "mimetype": "text/x-python",
   "name": "python",
   "nbconvert_exporter": "python",
   "pygments_lexer": "ipython3",
   "version": "3.8.12"
  },
  "papermill": {
   "default_parameters": {},
   "duration": 26878.158755,
   "end_time": "2022-03-01T07:19:10.733567",
   "environment_variables": {},
   "exception": null,
   "input_path": "template-3-index-genomes.ipynb",
   "output_path": "3-index-genomes.ipynb",
   "parameters": {},
   "start_time": "2022-02-28T23:51:12.574812",
   "version": "2.3.4"
  }
 },
 "nbformat": 4,
 "nbformat_minor": 5
}