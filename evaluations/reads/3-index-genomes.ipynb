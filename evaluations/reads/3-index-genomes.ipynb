{
 "cells": [
  {
   "cell_type": "markdown",
   "id": "7d3667b4-b1f8-4347-96e3-830c25b06740",
   "metadata": {
    "papermill": {
     "duration": 0.016857,
     "end_time": "2022-02-27T20:31:49.332057",
     "exception": false,
     "start_time": "2022-02-27T20:31:49.315200",
     "status": "completed"
    },
    "tags": []
   },
   "source": [
    "# 1. Parameters"
   ]
  },
  {
   "cell_type": "code",
   "execution_count": 1,
   "id": "d4ab0749-b286-4c34-b63c-a854e4952bae",
   "metadata": {
    "execution": {
     "iopub.execute_input": "2022-02-27T20:31:49.366204Z",
     "iopub.status.busy": "2022-02-27T20:31:49.365046Z",
     "iopub.status.idle": "2022-02-27T20:31:49.370922Z",
     "shell.execute_reply": "2022-02-27T20:31:49.369865Z"
    },
    "papermill": {
     "duration": 0.02948,
     "end_time": "2022-02-27T20:31:49.371185",
     "exception": false,
     "start_time": "2022-02-27T20:31:49.341705",
     "status": "completed"
    },
    "tags": [
     "parameters"
    ]
   },
   "outputs": [],
   "source": [
    "from pathlib import Path\n",
    "\n",
    "# Defaults\n",
    "cases_dir = 'cases/full'\n",
    "metadata_file = 'metadata.tsv'\n",
    "iterations = 3\n",
    "mincov = 10\n",
    "ncores = 4\n",
    "\n",
    "reference_files = {\n",
    "    '0810PADBR-1': Path('data/reference/campylobacter/GCA_001879185.2_ASM187918v2_genomic.gbk.gz'),\n",
    "    '1405WAEXK-1': Path('data/reference/ecoli/GCF_000703365.1_Ec2011C-3609_genomic.gbk.gz'),\n",
    "    '1408MLGX6-3WGS': Path('data/reference/listeria/GCF_001047715.2_ASM104771v2_genomic.gbk.gz'),\n",
    "    '1203NYJAP-1 - Tuna Scrape Outbreak': Path('data/reference/salmonella/GCF_000439415.1_ASM43941v1_genomic.gbk.gz'),\n",
    "}\n",
    "    \n",
    "build_tree = True\n",
    "sample_batch_size=10"
   ]
  },
  {
   "cell_type": "code",
   "execution_count": 2,
   "id": "ce5962e4-261c-4210-b39b-47044e28466b",
   "metadata": {
    "execution": {
     "iopub.execute_input": "2022-02-27T20:31:49.405190Z",
     "iopub.status.busy": "2022-02-27T20:31:49.404522Z",
     "iopub.status.idle": "2022-02-27T20:31:52.194237Z",
     "shell.execute_reply": "2022-02-27T20:31:52.195144Z"
    },
    "papermill": {
     "duration": 2.809706,
     "end_time": "2022-02-27T20:31:52.195436",
     "exception": false,
     "start_time": "2022-02-27T20:31:49.385730",
     "status": "completed"
    },
    "tags": []
   },
   "outputs": [
    {
     "data": {
      "text/plain": [
       "{'0810PADBR-1': PosixPath('cases/full/0810PADBR-1_tree.tre'),\n",
       " '1405WAEXK-1': PosixPath('cases/full/1405WAEXK-1_tree.tre'),\n",
       " '1408MLGX6-3WGS': PosixPath('cases/full/1408MLGX6-3WGS_tree.tre'),\n",
       " '1203NYJAP-1 - Tuna Scrape Outbreak': PosixPath('cases/full/1203NYJAP-1_-_Tuna_Scrape_Outbreak_tree.tre')}"
      ]
     },
     "execution_count": 2,
     "metadata": {},
     "output_type": "execute_result"
    }
   ],
   "source": [
    "from pathlib import Path\n",
    "from shutil import rmtree\n",
    "from os import makedirs\n",
    "import imp\n",
    "fp, pathname, description = imp.find_module('gdi_benchmark', ['../../lib'])\n",
    "gdi_benchmark = imp.load_module('gdi_benchmark', fp, pathname, description)\n",
    "\n",
    "cases_dir_path = Path(cases_dir)\n",
    "index_path = cases_dir_path / 'index'\n",
    "\n",
    "if cases_dir_path.exists():\n",
    "    rmtree(cases_dir_path)\n",
    "    \n",
    "if not cases_dir_path.exists():\n",
    "    makedirs(cases_dir_path)\n",
    "\n",
    "case_name = str(cases_dir_path.name)\n",
    "\n",
    "benchmark_path = cases_dir_path / 'index-info.tsv'\n",
    "\n",
    "output_trees = {x: cases_dir_path / f'{x}_tree.tre'.replace(' ', '_') for x in reference_files}\n",
    "output_trees"
   ]
  },
  {
   "cell_type": "markdown",
   "id": "1673d80f-b52a-4b68-b400-355540495e15",
   "metadata": {
    "papermill": {
     "duration": 0.008261,
     "end_time": "2022-02-27T20:31:52.217600",
     "exception": false,
     "start_time": "2022-02-27T20:31:52.209339",
     "status": "completed"
    },
    "tags": []
   },
   "source": [
    "# 2. Create subset inputs"
   ]
  },
  {
   "cell_type": "code",
   "execution_count": 3,
   "id": "4e66adb1-3ef7-45d1-8e46-723dcb9d0c31",
   "metadata": {
    "execution": {
     "iopub.execute_input": "2022-02-27T20:31:52.246223Z",
     "iopub.status.busy": "2022-02-27T20:31:52.245061Z",
     "iopub.status.idle": "2022-02-27T20:31:52.278689Z",
     "shell.execute_reply": "2022-02-27T20:31:52.277733Z"
    },
    "papermill": {
     "duration": 0.054658,
     "end_time": "2022-02-27T20:31:52.278908",
     "exception": false,
     "start_time": "2022-02-27T20:31:52.224250",
     "status": "completed"
    },
    "tags": []
   },
   "outputs": [
    {
     "name": "stdout",
     "output_type": "stream",
     "text": [
      "Wrote dataset=0810PADBR-1 consisting of 22/85 samples to cases/full/0810PADBR-1_input-files-case.tsv\n",
      "Wrote dataset=1405WAEXK-1 consisting of 9/85 samples to cases/full/1405WAEXK-1_input-files-case.tsv\n",
      "Wrote dataset=1408MLGX6-3WGS consisting of 31/85 samples to cases/full/1408MLGX6-3WGS_input-files-case.tsv\n",
      "Wrote dataset=1203NYJAP-1 - Tuna Scrape Outbreak consisting of 23/85 samples to cases/full/1203NYJAP-1_-_Tuna_Scrape_Outbreak_input-files-case.tsv\n"
     ]
    },
    {
     "data": {
      "text/plain": [
       "{'0810PADBR-1': PosixPath('cases/full/0810PADBR-1_input-files-case.tsv'),\n",
       " '1405WAEXK-1': PosixPath('cases/full/1405WAEXK-1_input-files-case.tsv'),\n",
       " '1408MLGX6-3WGS': PosixPath('cases/full/1408MLGX6-3WGS_input-files-case.tsv'),\n",
       " '1203NYJAP-1 - Tuna Scrape Outbreak': PosixPath('cases/full/1203NYJAP-1_-_Tuna_Scrape_Outbreak_input-files-case.tsv')}"
      ]
     },
     "execution_count": 3,
     "metadata": {},
     "output_type": "execute_result"
    }
   ],
   "source": [
    "import pandas as pd\n",
    "from pathlib import Path\n",
    "from typing import Dict\n",
    "\n",
    "metadata_df = pd.read_csv(metadata_file, sep='\\t')\n",
    "\n",
    "def write_subset_input(metadata_df: pd.DataFrame, dataset_name: str) -> Path:\n",
    "    all_input_total = len(metadata_df)\n",
    "    cases_input = cases_dir_path / f'{dataset_name}_input-files-case.tsv'.replace(' ', '_')\n",
    "\n",
    "    input_df = metadata_df.copy().loc[metadata_df['dataSetName'] == dataset_name]\n",
    "    input_df['Sample'] = input_df['strain']\n",
    "    input_df['Assemblies'] = pd.NA\n",
    "    input_df['Reads1'] = input_df['Sample'].apply(lambda x: str((Path('data') / 'fastq' / (x + '_1.fastq.gz')).absolute()))\n",
    "    input_df['Reads2'] = input_df['Sample'].apply(lambda x: str((Path('data') / 'fastq' / (x + '_2.fastq.gz')).absolute()))\n",
    "    input_df = input_df[['Sample', 'Assemblies', 'Reads1', 'Reads2']]\n",
    "\n",
    "    input_df.to_csv(cases_input, sep='\\t', index=False)\n",
    "\n",
    "    subset_input_total = len(input_df)\n",
    "\n",
    "    print(f'Wrote dataset={dataset_name} consisting of {subset_input_total}/{all_input_total} samples to {cases_input}')\n",
    "    \n",
    "    return cases_input\n",
    "\n",
    "cases_inputs = {x: write_subset_input(metadata_df, dataset_name=x) for x in reference_files}\n",
    "cases_inputs"
   ]
  },
  {
   "cell_type": "markdown",
   "id": "f208279e-7558-47fc-9362-da29df92828a",
   "metadata": {
    "papermill": {
     "duration": 0.00798,
     "end_time": "2022-02-27T20:31:52.300352",
     "exception": false,
     "start_time": "2022-02-27T20:31:52.292372",
     "status": "completed"
    },
    "tags": []
   },
   "source": [
    "# 2. Index genomes"
   ]
  },
  {
   "cell_type": "code",
   "execution_count": 4,
   "id": "4e936f7c-2fcd-4188-b0e6-6b3ceb5cdcd2",
   "metadata": {
    "execution": {
     "iopub.execute_input": "2022-02-27T20:31:52.317476Z",
     "iopub.status.busy": "2022-02-27T20:31:52.317093Z",
     "iopub.status.idle": "2022-02-27T20:31:55.603213Z",
     "shell.execute_reply": "2022-02-27T20:31:55.604080Z"
    },
    "papermill": {
     "duration": 3.297394,
     "end_time": "2022-02-27T20:31:55.604376",
     "exception": false,
     "start_time": "2022-02-27T20:31:52.306982",
     "status": "completed"
    },
    "tags": []
   },
   "outputs": [
    {
     "name": "stdout",
     "output_type": "stream",
     "text": [
      "gdi, version 0.6.0.dev2\r\n"
     ]
    }
   ],
   "source": [
    "!gdi --version"
   ]
  },
  {
   "cell_type": "markdown",
   "id": "5409ecf8-2158-4361-9d2f-6b1a6c7c63a6",
   "metadata": {
    "papermill": {
     "duration": 0.00989,
     "end_time": "2022-02-27T20:31:55.631286",
     "exception": false,
     "start_time": "2022-02-27T20:31:55.621396",
     "status": "completed"
    },
    "tags": []
   },
   "source": [
    "## 2.1. Index reads"
   ]
  },
  {
   "cell_type": "code",
   "execution_count": 5,
   "id": "3d63e861-733e-46f2-8bce-bd1a2c7c7058",
   "metadata": {
    "execution": {
     "iopub.execute_input": "2022-02-27T20:31:55.655187Z",
     "iopub.status.busy": "2022-02-27T20:31:55.654314Z",
     "iopub.status.idle": "2022-02-28T04:07:19.885294Z",
     "shell.execute_reply": "2022-02-28T04:07:19.886262Z"
    },
    "papermill": {
     "duration": 27324.24789,
     "end_time": "2022-02-28T04:07:19.886732",
     "exception": false,
     "start_time": "2022-02-27T20:31:55.638842",
     "status": "completed"
    },
    "tags": []
   },
   "outputs": [
    {
     "name": "stdout",
     "output_type": "stream",
     "text": [
      "Creating new index: [gdi init cases/full/index]\n"
     ]
    },
    {
     "name": "stdout",
     "output_type": "stream",
     "text": [
      "Creating a new index took 3.31 seconds\n"
     ]
    },
    {
     "name": "stdout",
     "output_type": "stream",
     "text": [
      "\n",
      "Iteration 1 of index/analysis of 22 samples for reference=data/reference/campylobacter/GCA_001879185.2_ASM187918v2_genomic.gbk.gz with 4 cores\n",
      "Removing any extra snakemake directories: []\n",
      "Analysis running: [gdi --project-dir cases/full/index --ncores 4 analysis --use-conda --no-load-data --reference-file data/reference/campylobacter/GCA_001879185.2_ASM187918v2_genomic.gbk.gz --kmer-size 31 --kmer-size 51 --kmer-size 71 --include-kmer --reads-mincov 10 --input-structured-genomes-file cases/full/0810PADBR-1_input-files-case.tsv]\n"
     ]
    },
    {
     "name": "stdout",
     "output_type": "stream",
     "text": [
      "Analysis took 52.78 minutes\n",
      "Index running: [gdi --project-dir cases/full/index --ncores 4 load vcf-kmer --sample-batch-size 10 --reference-file data/reference/campylobacter/GCA_001879185.2_ASM187918v2_genomic.gbk.gz /home/CSCScience.ca/apetkau/workspace/genomics-data-index-evaluation/evaluations/reads/snakemake-assemblies.1645993922.9830651/gdi-input.fofn]\n"
     ]
    },
    {
     "name": "stdout",
     "output_type": "stream",
     "text": [
      "Indexing took 0.91 minutes\n",
      "Building tree: [gdi --project-dir cases/full/index --ncores 4 rebuild tree --align-type full --extra-params '--fast -m GTR+F+R4' GCA_001879185.2_ASM187918v2_genomic]\n"
     ]
    },
    {
     "name": "stdout",
     "output_type": "stream",
     "text": [
      "Building tree took 0.41 minutes\n"
     ]
    },
    {
     "name": "stderr",
     "output_type": "stream",
     "text": [
      "A reminder to myself to look for a Python solution for directory sizes (instead of running `du`)\n"
     ]
    },
    {
     "name": "stdout",
     "output_type": "stream",
     "text": [
      "\n",
      "Iteration 1 of index/analysis of 9 samples for reference=data/reference/ecoli/GCF_000703365.1_Ec2011C-3609_genomic.gbk.gz with 4 cores\n",
      "Removing any extra snakemake directories: ['snakemake-assemblies.1645993922.9830651']\n"
     ]
    },
    {
     "name": "stdout",
     "output_type": "stream",
     "text": [
      "Analysis running: [gdi --project-dir cases/full/index --ncores 4 analysis --use-conda --no-load-data --reference-file data/reference/ecoli/GCF_000703365.1_Ec2011C-3609_genomic.gbk.gz --kmer-size 31 --kmer-size 51 --kmer-size 71 --include-kmer --reads-mincov 10 --input-structured-genomes-file cases/full/1405WAEXK-1_input-files-case.tsv]\n"
     ]
    },
    {
     "name": "stdout",
     "output_type": "stream",
     "text": [
      "Analysis took 16.49 minutes\n",
      "Index running: [gdi --project-dir cases/full/index --ncores 4 load vcf-kmer --sample-batch-size 10 --reference-file data/reference/ecoli/GCF_000703365.1_Ec2011C-3609_genomic.gbk.gz /home/CSCScience.ca/apetkau/workspace/genomics-data-index-evaluation/evaluations/reads/snakemake-assemblies.1645997173.1019926/gdi-input.fofn]\n"
     ]
    },
    {
     "name": "stdout",
     "output_type": "stream",
     "text": [
      "Indexing took 3.61 minutes\n",
      "Building tree: [gdi --project-dir cases/full/index --ncores 4 rebuild tree --align-type full --extra-params '--fast -m GTR+F+R4' GCF_000703365.1_Ec2011C-3609_genomic]\n"
     ]
    },
    {
     "name": "stdout",
     "output_type": "stream",
     "text": [
      "Building tree took 0.52 minutes\n"
     ]
    },
    {
     "name": "stderr",
     "output_type": "stream",
     "text": [
      "Attempting to set global database_path_translator=<genomics_data_index.storage.model.db.DatabasePathTranslator.DatabasePathTranslator object at 0x7f3eedcc1850> but it is already set\n"
     ]
    },
    {
     "name": "stderr",
     "output_type": "stream",
     "text": [
      "A reminder to myself to look for a Python solution for directory sizes (instead of running `du`)\n"
     ]
    },
    {
     "name": "stdout",
     "output_type": "stream",
     "text": [
      "\n",
      "Iteration 1 of index/analysis of 31 samples for reference=data/reference/listeria/GCF_001047715.2_ASM104771v2_genomic.gbk.gz with 4 cores\n",
      "Removing any extra snakemake directories: ['snakemake-assemblies.1645997173.1019926']\n"
     ]
    },
    {
     "name": "stdout",
     "output_type": "stream",
     "text": [
      "Analysis running: [gdi --project-dir cases/full/index --ncores 4 analysis --use-conda --no-load-data --reference-file data/reference/listeria/GCF_001047715.2_ASM104771v2_genomic.gbk.gz --kmer-size 31 --kmer-size 51 --kmer-size 71 --include-kmer --reads-mincov 10 --input-structured-genomes-file cases/full/1408MLGX6-3WGS_input-files-case.tsv]\n"
     ]
    },
    {
     "name": "stdout",
     "output_type": "stream",
     "text": [
      "Analysis took 39.82 minutes\n",
      "Index running: [gdi --project-dir cases/full/index --ncores 4 load vcf-kmer --sample-batch-size 10 --reference-file data/reference/listeria/GCF_001047715.2_ASM104771v2_genomic.gbk.gz /home/CSCScience.ca/apetkau/workspace/genomics-data-index-evaluation/evaluations/reads/snakemake-assemblies.1645998415.0361195/gdi-input.fofn]\n"
     ]
    },
    {
     "name": "stdout",
     "output_type": "stream",
     "text": [
      "Indexing took 2.06 minutes\n",
      "Building tree: [gdi --project-dir cases/full/index --ncores 4 rebuild tree --align-type full --extra-params '--fast -m GTR+F+R4' GCF_001047715.2_ASM104771v2_genomic]\n"
     ]
    },
    {
     "name": "stdout",
     "output_type": "stream",
     "text": [
      "Building tree took 0.57 minutes\n"
     ]
    },
    {
     "name": "stderr",
     "output_type": "stream",
     "text": [
      "Attempting to set global database_path_translator=<genomics_data_index.storage.model.db.DatabasePathTranslator.DatabasePathTranslator object at 0x7f3eedece6a0> but it is already set\n"
     ]
    },
    {
     "name": "stderr",
     "output_type": "stream",
     "text": [
      "A reminder to myself to look for a Python solution for directory sizes (instead of running `du`)\n"
     ]
    },
    {
     "name": "stdout",
     "output_type": "stream",
     "text": [
      "\n",
      "Iteration 1 of index/analysis of 23 samples for reference=data/reference/salmonella/GCF_000439415.1_ASM43941v1_genomic.gbk.gz with 4 cores\n",
      "Removing any extra snakemake directories: ['snakemake-assemblies.1645998415.0361195']\n"
     ]
    },
    {
     "name": "stdout",
     "output_type": "stream",
     "text": [
      "Analysis running: [gdi --project-dir cases/full/index --ncores 4 analysis --use-conda --no-load-data --reference-file data/reference/salmonella/GCF_000439415.1_ASM43941v1_genomic.gbk.gz --kmer-size 31 --kmer-size 51 --kmer-size 71 --include-kmer --reads-mincov 10 --input-structured-genomes-file cases/full/1203NYJAP-1_-_Tuna_Scrape_Outbreak_input-files-case.tsv]\n"
     ]
    },
    {
     "name": "stdout",
     "output_type": "stream",
     "text": [
      "Analysis took 25.30 minutes\n",
      "Index running: [gdi --project-dir cases/full/index --ncores 4 load vcf-kmer --sample-batch-size 10 --reference-file data/reference/salmonella/GCF_000439415.1_ASM43941v1_genomic.gbk.gz /home/CSCScience.ca/apetkau/workspace/genomics-data-index-evaluation/evaluations/reads/snakemake-assemblies.1646000967.2718935/gdi-input.fofn]\n"
     ]
    },
    {
     "name": "stdout",
     "output_type": "stream",
     "text": [
      "Indexing took 5.01 minutes\n",
      "Building tree: [gdi --project-dir cases/full/index --ncores 4 rebuild tree --align-type full --extra-params '--fast -m GTR+F+R4' GCF_000439415.1_ASM43941v1_genomic]\n"
     ]
    },
    {
     "name": "stdout",
     "output_type": "stream",
     "text": [
      "Building tree took 0.64 minutes\n"
     ]
    },
    {
     "name": "stderr",
     "output_type": "stream",
     "text": [
      "Attempting to set global database_path_translator=<genomics_data_index.storage.model.db.DatabasePathTranslator.DatabasePathTranslator object at 0x7f3eedb5e850> but it is already set\n"
     ]
    },
    {
     "name": "stderr",
     "output_type": "stream",
     "text": [
      "A reminder to myself to look for a Python solution for directory sizes (instead of running `du`)\n"
     ]
    },
    {
     "name": "stdout",
     "output_type": "stream",
     "text": [
      "Removing any existing indexes cases/full/index\n",
      "Creating new index: [gdi init cases/full/index]\n"
     ]
    },
    {
     "name": "stdout",
     "output_type": "stream",
     "text": [
      "Creating a new index took 3.36 seconds\n"
     ]
    },
    {
     "name": "stdout",
     "output_type": "stream",
     "text": [
      "\n",
      "Iteration 2 of index/analysis of 22 samples for reference=data/reference/campylobacter/GCA_001879185.2_ASM187918v2_genomic.gbk.gz with 4 cores\n",
      "Removing any extra snakemake directories: ['snakemake-assemblies.1646000967.2718935']\n"
     ]
    },
    {
     "name": "stdout",
     "output_type": "stream",
     "text": [
      "Analysis running: [gdi --project-dir cases/full/index --ncores 4 analysis --use-conda --no-load-data --reference-file data/reference/campylobacter/GCA_001879185.2_ASM187918v2_genomic.gbk.gz --kmer-size 31 --kmer-size 51 --kmer-size 71 --include-kmer --reads-mincov 10 --input-structured-genomes-file cases/full/0810PADBR-1_input-files-case.tsv]\n"
     ]
    },
    {
     "name": "stdout",
     "output_type": "stream",
     "text": [
      "Analysis took 52.65 minutes\n",
      "Index running: [gdi --project-dir cases/full/index --ncores 4 load vcf-kmer --sample-batch-size 10 --reference-file data/reference/campylobacter/GCA_001879185.2_ASM187918v2_genomic.gbk.gz /home/CSCScience.ca/apetkau/workspace/genomics-data-index-evaluation/evaluations/reads/snakemake-assemblies.1646002832.6815674/gdi-input.fofn]\n"
     ]
    },
    {
     "name": "stdout",
     "output_type": "stream",
     "text": [
      "Indexing took 0.95 minutes\n",
      "Building tree: [gdi --project-dir cases/full/index --ncores 4 rebuild tree --align-type full --extra-params '--fast -m GTR+F+R4' GCA_001879185.2_ASM187918v2_genomic]\n"
     ]
    },
    {
     "name": "stdout",
     "output_type": "stream",
     "text": [
      "Building tree took 0.36 minutes\n"
     ]
    },
    {
     "name": "stderr",
     "output_type": "stream",
     "text": [
      "Attempting to set global database_path_translator=<genomics_data_index.storage.model.db.DatabasePathTranslator.DatabasePathTranslator object at 0x7f3eedcc1b80> but it is already set\n"
     ]
    },
    {
     "name": "stderr",
     "output_type": "stream",
     "text": [
      "A reminder to myself to look for a Python solution for directory sizes (instead of running `du`)\n"
     ]
    },
    {
     "name": "stdout",
     "output_type": "stream",
     "text": [
      "\n",
      "Iteration 2 of index/analysis of 9 samples for reference=data/reference/ecoli/GCF_000703365.1_Ec2011C-3609_genomic.gbk.gz with 4 cores\n",
      "Removing any extra snakemake directories: ['snakemake-assemblies.1646002832.6815674']\n"
     ]
    },
    {
     "name": "stdout",
     "output_type": "stream",
     "text": [
      "Analysis running: [gdi --project-dir cases/full/index --ncores 4 analysis --use-conda --no-load-data --reference-file data/reference/ecoli/GCF_000703365.1_Ec2011C-3609_genomic.gbk.gz --kmer-size 31 --kmer-size 51 --kmer-size 71 --include-kmer --reads-mincov 10 --input-structured-genomes-file cases/full/1405WAEXK-1_input-files-case.tsv]\n"
     ]
    },
    {
     "name": "stdout",
     "output_type": "stream",
     "text": [
      "Analysis took 16.54 minutes\n",
      "Index running: [gdi --project-dir cases/full/index --ncores 4 load vcf-kmer --sample-batch-size 10 --reference-file data/reference/ecoli/GCF_000703365.1_Ec2011C-3609_genomic.gbk.gz /home/CSCScience.ca/apetkau/workspace/genomics-data-index-evaluation/evaluations/reads/snakemake-assemblies.1646006074.6336737/gdi-input.fofn]\n"
     ]
    },
    {
     "name": "stdout",
     "output_type": "stream",
     "text": [
      "Indexing took 3.63 minutes\n",
      "Building tree: [gdi --project-dir cases/full/index --ncores 4 rebuild tree --align-type full --extra-params '--fast -m GTR+F+R4' GCF_000703365.1_Ec2011C-3609_genomic]\n"
     ]
    },
    {
     "name": "stdout",
     "output_type": "stream",
     "text": [
      "Building tree took 0.52 minutes\n"
     ]
    },
    {
     "name": "stderr",
     "output_type": "stream",
     "text": [
      "Attempting to set global database_path_translator=<genomics_data_index.storage.model.db.DatabasePathTranslator.DatabasePathTranslator object at 0x7f3eedeced90> but it is already set\n"
     ]
    },
    {
     "name": "stderr",
     "output_type": "stream",
     "text": [
      "A reminder to myself to look for a Python solution for directory sizes (instead of running `du`)\n"
     ]
    },
    {
     "name": "stdout",
     "output_type": "stream",
     "text": [
      "\n",
      "Iteration 2 of index/analysis of 31 samples for reference=data/reference/listeria/GCF_001047715.2_ASM104771v2_genomic.gbk.gz with 4 cores\n",
      "Removing any extra snakemake directories: ['snakemake-assemblies.1646006074.6336737']\n"
     ]
    },
    {
     "name": "stdout",
     "output_type": "stream",
     "text": [
      "Analysis running: [gdi --project-dir cases/full/index --ncores 4 analysis --use-conda --no-load-data --reference-file data/reference/listeria/GCF_001047715.2_ASM104771v2_genomic.gbk.gz --kmer-size 31 --kmer-size 51 --kmer-size 71 --include-kmer --reads-mincov 10 --input-structured-genomes-file cases/full/1408MLGX6-3WGS_input-files-case.tsv]\n"
     ]
    },
    {
     "name": "stdout",
     "output_type": "stream",
     "text": [
      "Analysis took 39.82 minutes\n",
      "Index running: [gdi --project-dir cases/full/index --ncores 4 load vcf-kmer --sample-batch-size 10 --reference-file data/reference/listeria/GCF_001047715.2_ASM104771v2_genomic.gbk.gz /home/CSCScience.ca/apetkau/workspace/genomics-data-index-evaluation/evaluations/reads/snakemake-assemblies.1646007320.4987702/gdi-input.fofn]\n"
     ]
    },
    {
     "name": "stdout",
     "output_type": "stream",
     "text": [
      "Indexing took 1.96 minutes\n",
      "Building tree: [gdi --project-dir cases/full/index --ncores 4 rebuild tree --align-type full --extra-params '--fast -m GTR+F+R4' GCF_001047715.2_ASM104771v2_genomic]\n"
     ]
    },
    {
     "name": "stdout",
     "output_type": "stream",
     "text": [
      "Building tree took 0.61 minutes\n"
     ]
    },
    {
     "name": "stderr",
     "output_type": "stream",
     "text": [
      "Attempting to set global database_path_translator=<genomics_data_index.storage.model.db.DatabasePathTranslator.DatabasePathTranslator object at 0x7f3eed9471c0> but it is already set\n"
     ]
    },
    {
     "name": "stderr",
     "output_type": "stream",
     "text": [
      "A reminder to myself to look for a Python solution for directory sizes (instead of running `du`)\n"
     ]
    },
    {
     "name": "stdout",
     "output_type": "stream",
     "text": [
      "\n",
      "Iteration 2 of index/analysis of 23 samples for reference=data/reference/salmonella/GCF_000439415.1_ASM43941v1_genomic.gbk.gz with 4 cores\n",
      "Removing any extra snakemake directories: ['snakemake-assemblies.1646007320.4987702']\n"
     ]
    },
    {
     "name": "stdout",
     "output_type": "stream",
     "text": [
      "Analysis running: [gdi --project-dir cases/full/index --ncores 4 analysis --use-conda --no-load-data --reference-file data/reference/salmonella/GCF_000439415.1_ASM43941v1_genomic.gbk.gz --kmer-size 31 --kmer-size 51 --kmer-size 71 --include-kmer --reads-mincov 10 --input-structured-genomes-file cases/full/1203NYJAP-1_-_Tuna_Scrape_Outbreak_input-files-case.tsv]\n"
     ]
    },
    {
     "name": "stdout",
     "output_type": "stream",
     "text": [
      "Analysis took 35.04 minutes\n",
      "Index running: [gdi --project-dir cases/full/index --ncores 4 load vcf-kmer --sample-batch-size 10 --reference-file data/reference/salmonella/GCF_000439415.1_ASM43941v1_genomic.gbk.gz /home/CSCScience.ca/apetkau/workspace/genomics-data-index-evaluation/evaluations/reads/snakemake-assemblies.1646009869.4256225/gdi-input.fofn]\n"
     ]
    },
    {
     "name": "stdout",
     "output_type": "stream",
     "text": [
      "Indexing took 5.13 minutes\n",
      "Building tree: [gdi --project-dir cases/full/index --ncores 4 rebuild tree --align-type full --extra-params '--fast -m GTR+F+R4' GCF_000439415.1_ASM43941v1_genomic]\n"
     ]
    },
    {
     "name": "stdout",
     "output_type": "stream",
     "text": [
      "Building tree took 0.63 minutes\n"
     ]
    },
    {
     "name": "stderr",
     "output_type": "stream",
     "text": [
      "Attempting to set global database_path_translator=<genomics_data_index.storage.model.db.DatabasePathTranslator.DatabasePathTranslator object at 0x7f3eedb5e9a0> but it is already set\n"
     ]
    },
    {
     "name": "stderr",
     "output_type": "stream",
     "text": [
      "A reminder to myself to look for a Python solution for directory sizes (instead of running `du`)\n"
     ]
    },
    {
     "name": "stdout",
     "output_type": "stream",
     "text": [
      "Removing any existing indexes cases/full/index\n",
      "Creating new index: [gdi init cases/full/index]\n"
     ]
    },
    {
     "name": "stderr",
     "output_type": "stream",
     "text": [
      "Exception during reset or similar\n",
      "Traceback (most recent call last):\n",
      "  File \"/home/CSCScience.ca/apetkau/miniconda3/envs/gdi-reads/lib/python3.8/site-packages/sqlalchemy/pool/base.py\", line 739, in _finalize_fairy\n",
      "    fairy._reset(pool)\n",
      "  File \"/home/CSCScience.ca/apetkau/miniconda3/envs/gdi-reads/lib/python3.8/site-packages/sqlalchemy/pool/base.py\", line 988, in _reset\n",
      "    pool._dialect.do_rollback(self)\n",
      "  File \"/home/CSCScience.ca/apetkau/miniconda3/envs/gdi-reads/lib/python3.8/site-packages/sqlalchemy/engine/default.py\", line 682, in do_rollback\n",
      "    dbapi_connection.rollback()\n",
      "sqlite3.ProgrammingError: SQLite objects created in a thread can only be used in that same thread. The object was created in thread id 139908965734208 and this is thread id 139908856977152.\n"
     ]
    },
    {
     "name": "stderr",
     "output_type": "stream",
     "text": [
      "Exception closing connection <sqlite3.Connection object at 0x7f3eedc5bc60>\n",
      "Traceback (most recent call last):\n",
      "  File \"/home/CSCScience.ca/apetkau/miniconda3/envs/gdi-reads/lib/python3.8/site-packages/sqlalchemy/pool/base.py\", line 739, in _finalize_fairy\n",
      "    fairy._reset(pool)\n",
      "  File \"/home/CSCScience.ca/apetkau/miniconda3/envs/gdi-reads/lib/python3.8/site-packages/sqlalchemy/pool/base.py\", line 988, in _reset\n",
      "    pool._dialect.do_rollback(self)\n",
      "  File \"/home/CSCScience.ca/apetkau/miniconda3/envs/gdi-reads/lib/python3.8/site-packages/sqlalchemy/engine/default.py\", line 682, in do_rollback\n",
      "    dbapi_connection.rollback()\n",
      "sqlite3.ProgrammingError: SQLite objects created in a thread can only be used in that same thread. The object was created in thread id 139908965734208 and this is thread id 139908856977152.\n",
      "\n",
      "During handling of the above exception, another exception occurred:\n",
      "\n",
      "Traceback (most recent call last):\n",
      "  File \"/home/CSCScience.ca/apetkau/miniconda3/envs/gdi-reads/lib/python3.8/site-packages/sqlalchemy/pool/base.py\", line 247, in _close_connection\n",
      "    self._dialect.do_close(connection)\n",
      "  File \"/home/CSCScience.ca/apetkau/miniconda3/envs/gdi-reads/lib/python3.8/site-packages/sqlalchemy/engine/default.py\", line 688, in do_close\n",
      "    dbapi_connection.close()\n",
      "sqlite3.ProgrammingError: SQLite objects created in a thread can only be used in that same thread. The object was created in thread id 139908965734208 and this is thread id 139908856977152.\n"
     ]
    },
    {
     "name": "stdout",
     "output_type": "stream",
     "text": [
      "Creating a new index took 3.29 seconds\n"
     ]
    },
    {
     "name": "stdout",
     "output_type": "stream",
     "text": [
      "\n",
      "Iteration 3 of index/analysis of 22 samples for reference=data/reference/campylobacter/GCA_001879185.2_ASM187918v2_genomic.gbk.gz with 4 cores\n",
      "Removing any extra snakemake directories: ['snakemake-assemblies.1646009869.4256225']\n"
     ]
    },
    {
     "name": "stdout",
     "output_type": "stream",
     "text": [
      "Analysis running: [gdi --project-dir cases/full/index --ncores 4 analysis --use-conda --no-load-data --reference-file data/reference/campylobacter/GCA_001879185.2_ASM187918v2_genomic.gbk.gz --kmer-size 31 --kmer-size 51 --kmer-size 71 --include-kmer --reads-mincov 10 --input-structured-genomes-file cases/full/0810PADBR-1_input-files-case.tsv]\n"
     ]
    },
    {
     "name": "stdout",
     "output_type": "stream",
     "text": [
      "Analysis took 52.74 minutes\n",
      "Index running: [gdi --project-dir cases/full/index --ncores 4 load vcf-kmer --sample-batch-size 10 --reference-file data/reference/campylobacter/GCA_001879185.2_ASM187918v2_genomic.gbk.gz /home/CSCScience.ca/apetkau/workspace/genomics-data-index-evaluation/evaluations/reads/snakemake-assemblies.1646012325.8808856/gdi-input.fofn]\n"
     ]
    },
    {
     "name": "stdout",
     "output_type": "stream",
     "text": [
      "Indexing took 0.96 minutes\n",
      "Building tree: [gdi --project-dir cases/full/index --ncores 4 rebuild tree --align-type full --extra-params '--fast -m GTR+F+R4' GCA_001879185.2_ASM187918v2_genomic]\n"
     ]
    },
    {
     "name": "stdout",
     "output_type": "stream",
     "text": [
      "Building tree took 0.37 minutes\n"
     ]
    },
    {
     "name": "stderr",
     "output_type": "stream",
     "text": [
      "Attempting to set global database_path_translator=<genomics_data_index.storage.model.db.DatabasePathTranslator.DatabasePathTranslator object at 0x7f3eedeced90> but it is already set\n"
     ]
    },
    {
     "name": "stderr",
     "output_type": "stream",
     "text": [
      "A reminder to myself to look for a Python solution for directory sizes (instead of running `du`)\n"
     ]
    },
    {
     "name": "stdout",
     "output_type": "stream",
     "text": [
      "\n",
      "Iteration 3 of index/analysis of 9 samples for reference=data/reference/ecoli/GCF_000703365.1_Ec2011C-3609_genomic.gbk.gz with 4 cores\n",
      "Removing any extra snakemake directories: ['snakemake-assemblies.1646012325.8808856']\n"
     ]
    },
    {
     "name": "stdout",
     "output_type": "stream",
     "text": [
      "Analysis running: [gdi --project-dir cases/full/index --ncores 4 analysis --use-conda --no-load-data --reference-file data/reference/ecoli/GCF_000703365.1_Ec2011C-3609_genomic.gbk.gz --kmer-size 31 --kmer-size 51 --kmer-size 71 --include-kmer --reads-mincov 10 --input-structured-genomes-file cases/full/1405WAEXK-1_input-files-case.tsv]\n"
     ]
    },
    {
     "name": "stdout",
     "output_type": "stream",
     "text": [
      "Analysis took 16.45 minutes\n",
      "Index running: [gdi --project-dir cases/full/index --ncores 4 load vcf-kmer --sample-batch-size 10 --reference-file data/reference/ecoli/GCF_000703365.1_Ec2011C-3609_genomic.gbk.gz /home/CSCScience.ca/apetkau/workspace/genomics-data-index-evaluation/evaluations/reads/snakemake-assemblies.1646015574.558619/gdi-input.fofn]\n"
     ]
    },
    {
     "name": "stdout",
     "output_type": "stream",
     "text": [
      "Indexing took 3.82 minutes\n",
      "Building tree: [gdi --project-dir cases/full/index --ncores 4 rebuild tree --align-type full --extra-params '--fast -m GTR+F+R4' GCF_000703365.1_Ec2011C-3609_genomic]\n"
     ]
    },
    {
     "name": "stdout",
     "output_type": "stream",
     "text": [
      "Building tree took 0.49 minutes\n"
     ]
    },
    {
     "name": "stderr",
     "output_type": "stream",
     "text": [
      "Attempting to set global database_path_translator=<genomics_data_index.storage.model.db.DatabasePathTranslator.DatabasePathTranslator object at 0x7f3eedcc1310> but it is already set\n"
     ]
    },
    {
     "name": "stderr",
     "output_type": "stream",
     "text": [
      "A reminder to myself to look for a Python solution for directory sizes (instead of running `du`)\n"
     ]
    },
    {
     "name": "stdout",
     "output_type": "stream",
     "text": [
      "\n",
      "Iteration 3 of index/analysis of 31 samples for reference=data/reference/listeria/GCF_001047715.2_ASM104771v2_genomic.gbk.gz with 4 cores\n",
      "Removing any extra snakemake directories: ['snakemake-assemblies.1646015574.558619']\n"
     ]
    },
    {
     "name": "stdout",
     "output_type": "stream",
     "text": [
      "Analysis running: [gdi --project-dir cases/full/index --ncores 4 analysis --use-conda --no-load-data --reference-file data/reference/listeria/GCF_001047715.2_ASM104771v2_genomic.gbk.gz --kmer-size 31 --kmer-size 51 --kmer-size 71 --include-kmer --reads-mincov 10 --input-structured-genomes-file cases/full/1408MLGX6-3WGS_input-files-case.tsv]\n"
     ]
    },
    {
     "name": "stdout",
     "output_type": "stream",
     "text": [
      "Analysis took 39.67 minutes\n",
      "Index running: [gdi --project-dir cases/full/index --ncores 4 load vcf-kmer --sample-batch-size 10 --reference-file data/reference/listeria/GCF_001047715.2_ASM104771v2_genomic.gbk.gz /home/CSCScience.ca/apetkau/workspace/genomics-data-index-evaluation/evaluations/reads/snakemake-assemblies.1646016825.1607347/gdi-input.fofn]\n"
     ]
    },
    {
     "name": "stdout",
     "output_type": "stream",
     "text": [
      "Indexing took 1.95 minutes\n",
      "Building tree: [gdi --project-dir cases/full/index --ncores 4 rebuild tree --align-type full --extra-params '--fast -m GTR+F+R4' GCF_001047715.2_ASM104771v2_genomic]\n"
     ]
    },
    {
     "name": "stdout",
     "output_type": "stream",
     "text": [
      "Building tree took 0.63 minutes\n"
     ]
    },
    {
     "name": "stderr",
     "output_type": "stream",
     "text": [
      "Attempting to set global database_path_translator=<genomics_data_index.storage.model.db.DatabasePathTranslator.DatabasePathTranslator object at 0x7f3eedeceb80> but it is already set\n"
     ]
    },
    {
     "name": "stderr",
     "output_type": "stream",
     "text": [
      "A reminder to myself to look for a Python solution for directory sizes (instead of running `du`)\n"
     ]
    },
    {
     "name": "stdout",
     "output_type": "stream",
     "text": [
      "\n",
      "Iteration 3 of index/analysis of 23 samples for reference=data/reference/salmonella/GCF_000439415.1_ASM43941v1_genomic.gbk.gz with 4 cores\n",
      "Removing any extra snakemake directories: ['snakemake-assemblies.1646016825.1607347']\n"
     ]
    },
    {
     "name": "stdout",
     "output_type": "stream",
     "text": [
      "Analysis running: [gdi --project-dir cases/full/index --ncores 4 analysis --use-conda --no-load-data --reference-file data/reference/salmonella/GCF_000439415.1_ASM43941v1_genomic.gbk.gz --kmer-size 31 --kmer-size 51 --kmer-size 71 --include-kmer --reads-mincov 10 --input-structured-genomes-file cases/full/1203NYJAP-1_-_Tuna_Scrape_Outbreak_input-files-case.tsv]\n"
     ]
    },
    {
     "name": "stdout",
     "output_type": "stream",
     "text": [
      "Analysis took 25.28 minutes\n",
      "Index running: [gdi --project-dir cases/full/index --ncores 4 load vcf-kmer --sample-batch-size 10 --reference-file data/reference/salmonella/GCF_000439415.1_ASM43941v1_genomic.gbk.gz /home/CSCScience.ca/apetkau/workspace/genomics-data-index-evaluation/evaluations/reads/snakemake-assemblies.1646019366.4331553/gdi-input.fofn]\n"
     ]
    },
    {
     "name": "stdout",
     "output_type": "stream",
     "text": [
      "Indexing took 5.31 minutes\n",
      "Building tree: [gdi --project-dir cases/full/index --ncores 4 rebuild tree --align-type full --extra-params '--fast -m GTR+F+R4' GCF_000439415.1_ASM43941v1_genomic]\n"
     ]
    },
    {
     "name": "stdout",
     "output_type": "stream",
     "text": [
      "Building tree took 0.65 minutes\n"
     ]
    },
    {
     "name": "stderr",
     "output_type": "stream",
     "text": [
      "Attempting to set global database_path_translator=<genomics_data_index.storage.model.db.DatabasePathTranslator.DatabasePathTranslator object at 0x7f3eedb5ea60> but it is already set\n"
     ]
    },
    {
     "name": "stderr",
     "output_type": "stream",
     "text": [
      "A reminder to myself to look for a Python solution for directory sizes (instead of running `du`)\n"
     ]
    },
    {
     "name": "stdout",
     "output_type": "stream",
     "text": [
      "***Finished benchmarking, took 455.40 minutes***\n"
     ]
    }
   ],
   "source": [
    "import time\n",
    "\n",
    "start = time.time()\n",
    "benchmarker = gdi_benchmark.IndexBenchmarkerMultiple(index_path=index_path, input_files_files=cases_inputs,\n",
    "                                             reference_files=reference_files, mincov=mincov,\n",
    "                                             build_tree=build_tree,\n",
    "                                             ncores=ncores,\n",
    "                                             sample_batch_size=sample_batch_size)\n",
    "benchmark_df = benchmarker.benchmark(iterations=iterations)\n",
    "end = time.time()\n",
    "print(f'***Finished benchmarking, took {(end - start)/60:0.2f} minutes***')"
   ]
  },
  {
   "cell_type": "code",
   "execution_count": 6,
   "id": "3bcb6da7-0164-47f2-abdd-a4c159da1e3b",
   "metadata": {
    "execution": {
     "iopub.execute_input": "2022-02-28T04:07:20.044040Z",
     "iopub.status.busy": "2022-02-28T04:07:20.025223Z",
     "iopub.status.idle": "2022-02-28T04:07:20.060053Z",
     "shell.execute_reply": "2022-02-28T04:07:20.060997Z"
    },
    "papermill": {
     "duration": 0.14027,
     "end_time": "2022-02-28T04:07:20.061273",
     "exception": false,
     "start_time": "2022-02-28T04:07:19.921003",
     "status": "completed"
    },
    "tags": []
   },
   "outputs": [
    {
     "data": {
      "text/html": [
       "<div>\n",
       "<style scoped>\n",
       "    .dataframe tbody tr th:only-of-type {\n",
       "        vertical-align: middle;\n",
       "    }\n",
       "\n",
       "    .dataframe tbody tr th {\n",
       "        vertical-align: top;\n",
       "    }\n",
       "\n",
       "    .dataframe thead th {\n",
       "        text-align: right;\n",
       "    }\n",
       "</style>\n",
       "<table border=\"1\" class=\"dataframe\">\n",
       "  <thead>\n",
       "    <tr style=\"text-align: right;\">\n",
       "      <th></th>\n",
       "      <th>Name</th>\n",
       "      <th>Reference name</th>\n",
       "      <th>Iteration</th>\n",
       "      <th>Number samples</th>\n",
       "      <th>Number features (all)</th>\n",
       "      <th>Number features (no unknown)</th>\n",
       "      <th>Number cores</th>\n",
       "      <th>Reference length</th>\n",
       "      <th>Analysis runtime</th>\n",
       "      <th>Analysis memory (max)</th>\n",
       "      <th>...</th>\n",
       "      <th>Analysis disk uage</th>\n",
       "      <th>Index runtime</th>\n",
       "      <th>Index memory (max)</th>\n",
       "      <th>Index memory (max/process)</th>\n",
       "      <th>Index size</th>\n",
       "      <th>Tree runtime</th>\n",
       "      <th>Tree memory (max)</th>\n",
       "      <th>Tree memory (max/process)</th>\n",
       "      <th>Total runtime</th>\n",
       "      <th>Max memory</th>\n",
       "    </tr>\n",
       "  </thead>\n",
       "  <tbody>\n",
       "    <tr>\n",
       "      <th>0</th>\n",
       "      <td>0810PADBR-1</td>\n",
       "      <td>GCA_001879185.2_ASM187918v2_genomic</td>\n",
       "      <td>1</td>\n",
       "      <td>22</td>\n",
       "      <td>45117</td>\n",
       "      <td>1102</td>\n",
       "      <td>4</td>\n",
       "      <td>1634890</td>\n",
       "      <td>3166.13</td>\n",
       "      <td>1.558306e+10</td>\n",
       "      <td>...</td>\n",
       "      <td>1.200301e+10</td>\n",
       "      <td>54.20</td>\n",
       "      <td>2.115244e+09</td>\n",
       "      <td>7.189709e+08</td>\n",
       "      <td>46587904.0</td>\n",
       "      <td>24.67</td>\n",
       "      <td>5.446205e+08</td>\n",
       "      <td>276631552.0</td>\n",
       "      <td>3245.00</td>\n",
       "      <td>1.558306e+10</td>\n",
       "    </tr>\n",
       "    <tr>\n",
       "      <th>0</th>\n",
       "      <td>1405WAEXK-1</td>\n",
       "      <td>GCF_000703365.1_Ec2011C-3609_genomic</td>\n",
       "      <td>1</td>\n",
       "      <td>9</td>\n",
       "      <td>550816</td>\n",
       "      <td>601</td>\n",
       "      <td>4</td>\n",
       "      <td>5412686</td>\n",
       "      <td>988.93</td>\n",
       "      <td>5.550060e+09</td>\n",
       "      <td>...</td>\n",
       "      <td>6.555070e+09</td>\n",
       "      <td>216.56</td>\n",
       "      <td>3.802116e+09</td>\n",
       "      <td>3.802116e+09</td>\n",
       "      <td>134742016.0</td>\n",
       "      <td>31.23</td>\n",
       "      <td>8.184218e+08</td>\n",
       "      <td>459071488.0</td>\n",
       "      <td>1236.72</td>\n",
       "      <td>5.550060e+09</td>\n",
       "    </tr>\n",
       "    <tr>\n",
       "      <th>0</th>\n",
       "      <td>1408MLGX6-3WGS</td>\n",
       "      <td>GCF_001047715.2_ASM104771v2_genomic</td>\n",
       "      <td>1</td>\n",
       "      <td>31</td>\n",
       "      <td>142442</td>\n",
       "      <td>170</td>\n",
       "      <td>4</td>\n",
       "      <td>2939733</td>\n",
       "      <td>2388.76</td>\n",
       "      <td>1.005870e+10</td>\n",
       "      <td>...</td>\n",
       "      <td>1.080715e+10</td>\n",
       "      <td>123.25</td>\n",
       "      <td>2.534011e+09</td>\n",
       "      <td>9.588531e+08</td>\n",
       "      <td>174067712.0</td>\n",
       "      <td>34.07</td>\n",
       "      <td>9.945620e+08</td>\n",
       "      <td>660180992.0</td>\n",
       "      <td>2546.08</td>\n",
       "      <td>1.005870e+10</td>\n",
       "    </tr>\n",
       "    <tr>\n",
       "      <th>0</th>\n",
       "      <td>1203NYJAP-1 - Tuna Scrape Outbreak</td>\n",
       "      <td>GCF_000439415.1_ASM43941v1_genomic</td>\n",
       "      <td>1</td>\n",
       "      <td>23</td>\n",
       "      <td>418622</td>\n",
       "      <td>165</td>\n",
       "      <td>4</td>\n",
       "      <td>4808805</td>\n",
       "      <td>1517.54</td>\n",
       "      <td>6.843236e+09</td>\n",
       "      <td>...</td>\n",
       "      <td>9.016287e+09</td>\n",
       "      <td>300.64</td>\n",
       "      <td>5.624377e+09</td>\n",
       "      <td>2.788295e+09</td>\n",
       "      <td>251715584.0</td>\n",
       "      <td>38.29</td>\n",
       "      <td>1.335677e+09</td>\n",
       "      <td>870260736.0</td>\n",
       "      <td>1856.47</td>\n",
       "      <td>6.843236e+09</td>\n",
       "    </tr>\n",
       "    <tr>\n",
       "      <th>0</th>\n",
       "      <td>0810PADBR-1</td>\n",
       "      <td>GCA_001879185.2_ASM187918v2_genomic</td>\n",
       "      <td>2</td>\n",
       "      <td>22</td>\n",
       "      <td>45117</td>\n",
       "      <td>1102</td>\n",
       "      <td>4</td>\n",
       "      <td>1634890</td>\n",
       "      <td>3158.43</td>\n",
       "      <td>1.560137e+10</td>\n",
       "      <td>...</td>\n",
       "      <td>1.200307e+10</td>\n",
       "      <td>56.88</td>\n",
       "      <td>2.290647e+09</td>\n",
       "      <td>7.244390e+08</td>\n",
       "      <td>46682112.0</td>\n",
       "      <td>21.59</td>\n",
       "      <td>5.444198e+08</td>\n",
       "      <td>276242432.0</td>\n",
       "      <td>3236.90</td>\n",
       "      <td>1.560137e+10</td>\n",
       "    </tr>\n",
       "    <tr>\n",
       "      <th>0</th>\n",
       "      <td>1405WAEXK-1</td>\n",
       "      <td>GCF_000703365.1_Ec2011C-3609_genomic</td>\n",
       "      <td>2</td>\n",
       "      <td>9</td>\n",
       "      <td>550816</td>\n",
       "      <td>601</td>\n",
       "      <td>4</td>\n",
       "      <td>5412686</td>\n",
       "      <td>991.97</td>\n",
       "      <td>5.480444e+09</td>\n",
       "      <td>...</td>\n",
       "      <td>6.555058e+09</td>\n",
       "      <td>217.37</td>\n",
       "      <td>3.771884e+09</td>\n",
       "      <td>3.771884e+09</td>\n",
       "      <td>134828032.0</td>\n",
       "      <td>30.81</td>\n",
       "      <td>8.194007e+08</td>\n",
       "      <td>459337728.0</td>\n",
       "      <td>1240.15</td>\n",
       "      <td>5.480444e+09</td>\n",
       "    </tr>\n",
       "    <tr>\n",
       "      <th>0</th>\n",
       "      <td>1408MLGX6-3WGS</td>\n",
       "      <td>GCF_001047715.2_ASM104771v2_genomic</td>\n",
       "      <td>2</td>\n",
       "      <td>31</td>\n",
       "      <td>142442</td>\n",
       "      <td>170</td>\n",
       "      <td>4</td>\n",
       "      <td>2939733</td>\n",
       "      <td>2388.61</td>\n",
       "      <td>9.555489e+09</td>\n",
       "      <td>...</td>\n",
       "      <td>1.080714e+10</td>\n",
       "      <td>117.73</td>\n",
       "      <td>3.185816e+09</td>\n",
       "      <td>1.059996e+09</td>\n",
       "      <td>173850624.0</td>\n",
       "      <td>36.21</td>\n",
       "      <td>9.951846e+08</td>\n",
       "      <td>660570112.0</td>\n",
       "      <td>2542.55</td>\n",
       "      <td>9.555489e+09</td>\n",
       "    </tr>\n",
       "    <tr>\n",
       "      <th>0</th>\n",
       "      <td>1203NYJAP-1 - Tuna Scrape Outbreak</td>\n",
       "      <td>GCF_000439415.1_ASM43941v1_genomic</td>\n",
       "      <td>2</td>\n",
       "      <td>23</td>\n",
       "      <td>418622</td>\n",
       "      <td>165</td>\n",
       "      <td>4</td>\n",
       "      <td>4808805</td>\n",
       "      <td>2102.23</td>\n",
       "      <td>6.751625e+09</td>\n",
       "      <td>...</td>\n",
       "      <td>9.016263e+09</td>\n",
       "      <td>307.78</td>\n",
       "      <td>6.020960e+09</td>\n",
       "      <td>2.700640e+09</td>\n",
       "      <td>252108800.0</td>\n",
       "      <td>37.54</td>\n",
       "      <td>1.335370e+09</td>\n",
       "      <td>870191104.0</td>\n",
       "      <td>2447.55</td>\n",
       "      <td>6.751625e+09</td>\n",
       "    </tr>\n",
       "    <tr>\n",
       "      <th>0</th>\n",
       "      <td>0810PADBR-1</td>\n",
       "      <td>GCA_001879185.2_ASM187918v2_genomic</td>\n",
       "      <td>3</td>\n",
       "      <td>22</td>\n",
       "      <td>45117</td>\n",
       "      <td>1102</td>\n",
       "      <td>4</td>\n",
       "      <td>1634890</td>\n",
       "      <td>3164.05</td>\n",
       "      <td>1.538114e+10</td>\n",
       "      <td>...</td>\n",
       "      <td>1.200303e+10</td>\n",
       "      <td>57.25</td>\n",
       "      <td>2.191090e+09</td>\n",
       "      <td>7.395000e+08</td>\n",
       "      <td>46538752.0</td>\n",
       "      <td>22.05</td>\n",
       "      <td>5.440676e+08</td>\n",
       "      <td>276090880.0</td>\n",
       "      <td>3243.35</td>\n",
       "      <td>1.538114e+10</td>\n",
       "    </tr>\n",
       "    <tr>\n",
       "      <th>0</th>\n",
       "      <td>1405WAEXK-1</td>\n",
       "      <td>GCF_000703365.1_Ec2011C-3609_genomic</td>\n",
       "      <td>3</td>\n",
       "      <td>9</td>\n",
       "      <td>550816</td>\n",
       "      <td>601</td>\n",
       "      <td>4</td>\n",
       "      <td>5412686</td>\n",
       "      <td>986.85</td>\n",
       "      <td>5.426352e+09</td>\n",
       "      <td>...</td>\n",
       "      <td>6.555066e+09</td>\n",
       "      <td>229.27</td>\n",
       "      <td>3.808711e+09</td>\n",
       "      <td>3.808711e+09</td>\n",
       "      <td>134664192.0</td>\n",
       "      <td>29.04</td>\n",
       "      <td>8.182333e+08</td>\n",
       "      <td>459100160.0</td>\n",
       "      <td>1245.16</td>\n",
       "      <td>5.426352e+09</td>\n",
       "    </tr>\n",
       "    <tr>\n",
       "      <th>0</th>\n",
       "      <td>1408MLGX6-3WGS</td>\n",
       "      <td>GCF_001047715.2_ASM104771v2_genomic</td>\n",
       "      <td>3</td>\n",
       "      <td>31</td>\n",
       "      <td>142442</td>\n",
       "      <td>170</td>\n",
       "      <td>4</td>\n",
       "      <td>2939733</td>\n",
       "      <td>2379.77</td>\n",
       "      <td>9.873580e+09</td>\n",
       "      <td>...</td>\n",
       "      <td>1.080720e+10</td>\n",
       "      <td>117.13</td>\n",
       "      <td>2.863772e+09</td>\n",
       "      <td>9.650053e+08</td>\n",
       "      <td>174243840.0</td>\n",
       "      <td>37.96</td>\n",
       "      <td>9.947177e+08</td>\n",
       "      <td>660459520.0</td>\n",
       "      <td>2534.86</td>\n",
       "      <td>9.873580e+09</td>\n",
       "    </tr>\n",
       "    <tr>\n",
       "      <th>0</th>\n",
       "      <td>1203NYJAP-1 - Tuna Scrape Outbreak</td>\n",
       "      <td>GCF_000439415.1_ASM43941v1_genomic</td>\n",
       "      <td>3</td>\n",
       "      <td>23</td>\n",
       "      <td>418622</td>\n",
       "      <td>165</td>\n",
       "      <td>4</td>\n",
       "      <td>4808805</td>\n",
       "      <td>1516.74</td>\n",
       "      <td>6.638596e+09</td>\n",
       "      <td>...</td>\n",
       "      <td>9.016312e+09</td>\n",
       "      <td>318.53</td>\n",
       "      <td>6.116278e+09</td>\n",
       "      <td>2.889777e+09</td>\n",
       "      <td>250564608.0</td>\n",
       "      <td>39.04</td>\n",
       "      <td>1.335419e+09</td>\n",
       "      <td>869838848.0</td>\n",
       "      <td>1874.31</td>\n",
       "      <td>6.638596e+09</td>\n",
       "    </tr>\n",
       "  </tbody>\n",
       "</table>\n",
       "<p>12 rows × 21 columns</p>\n",
       "</div>"
      ],
      "text/plain": [
       "                                 Name                        Reference name  \\\n",
       "0                         0810PADBR-1   GCA_001879185.2_ASM187918v2_genomic   \n",
       "0                         1405WAEXK-1  GCF_000703365.1_Ec2011C-3609_genomic   \n",
       "0                      1408MLGX6-3WGS   GCF_001047715.2_ASM104771v2_genomic   \n",
       "0  1203NYJAP-1 - Tuna Scrape Outbreak    GCF_000439415.1_ASM43941v1_genomic   \n",
       "0                         0810PADBR-1   GCA_001879185.2_ASM187918v2_genomic   \n",
       "0                         1405WAEXK-1  GCF_000703365.1_Ec2011C-3609_genomic   \n",
       "0                      1408MLGX6-3WGS   GCF_001047715.2_ASM104771v2_genomic   \n",
       "0  1203NYJAP-1 - Tuna Scrape Outbreak    GCF_000439415.1_ASM43941v1_genomic   \n",
       "0                         0810PADBR-1   GCA_001879185.2_ASM187918v2_genomic   \n",
       "0                         1405WAEXK-1  GCF_000703365.1_Ec2011C-3609_genomic   \n",
       "0                      1408MLGX6-3WGS   GCF_001047715.2_ASM104771v2_genomic   \n",
       "0  1203NYJAP-1 - Tuna Scrape Outbreak    GCF_000439415.1_ASM43941v1_genomic   \n",
       "\n",
       "   Iteration  Number samples  Number features (all)  \\\n",
       "0          1              22                  45117   \n",
       "0          1               9                 550816   \n",
       "0          1              31                 142442   \n",
       "0          1              23                 418622   \n",
       "0          2              22                  45117   \n",
       "0          2               9                 550816   \n",
       "0          2              31                 142442   \n",
       "0          2              23                 418622   \n",
       "0          3              22                  45117   \n",
       "0          3               9                 550816   \n",
       "0          3              31                 142442   \n",
       "0          3              23                 418622   \n",
       "\n",
       "   Number features (no unknown)  Number cores  Reference length  \\\n",
       "0                          1102             4           1634890   \n",
       "0                           601             4           5412686   \n",
       "0                           170             4           2939733   \n",
       "0                           165             4           4808805   \n",
       "0                          1102             4           1634890   \n",
       "0                           601             4           5412686   \n",
       "0                           170             4           2939733   \n",
       "0                           165             4           4808805   \n",
       "0                          1102             4           1634890   \n",
       "0                           601             4           5412686   \n",
       "0                           170             4           2939733   \n",
       "0                           165             4           4808805   \n",
       "\n",
       "   Analysis runtime  Analysis memory (max)  ...  Analysis disk uage  \\\n",
       "0           3166.13           1.558306e+10  ...        1.200301e+10   \n",
       "0            988.93           5.550060e+09  ...        6.555070e+09   \n",
       "0           2388.76           1.005870e+10  ...        1.080715e+10   \n",
       "0           1517.54           6.843236e+09  ...        9.016287e+09   \n",
       "0           3158.43           1.560137e+10  ...        1.200307e+10   \n",
       "0            991.97           5.480444e+09  ...        6.555058e+09   \n",
       "0           2388.61           9.555489e+09  ...        1.080714e+10   \n",
       "0           2102.23           6.751625e+09  ...        9.016263e+09   \n",
       "0           3164.05           1.538114e+10  ...        1.200303e+10   \n",
       "0            986.85           5.426352e+09  ...        6.555066e+09   \n",
       "0           2379.77           9.873580e+09  ...        1.080720e+10   \n",
       "0           1516.74           6.638596e+09  ...        9.016312e+09   \n",
       "\n",
       "   Index runtime  Index memory (max)  Index memory (max/process)   Index size  \\\n",
       "0          54.20        2.115244e+09                7.189709e+08   46587904.0   \n",
       "0         216.56        3.802116e+09                3.802116e+09  134742016.0   \n",
       "0         123.25        2.534011e+09                9.588531e+08  174067712.0   \n",
       "0         300.64        5.624377e+09                2.788295e+09  251715584.0   \n",
       "0          56.88        2.290647e+09                7.244390e+08   46682112.0   \n",
       "0         217.37        3.771884e+09                3.771884e+09  134828032.0   \n",
       "0         117.73        3.185816e+09                1.059996e+09  173850624.0   \n",
       "0         307.78        6.020960e+09                2.700640e+09  252108800.0   \n",
       "0          57.25        2.191090e+09                7.395000e+08   46538752.0   \n",
       "0         229.27        3.808711e+09                3.808711e+09  134664192.0   \n",
       "0         117.13        2.863772e+09                9.650053e+08  174243840.0   \n",
       "0         318.53        6.116278e+09                2.889777e+09  250564608.0   \n",
       "\n",
       "   Tree runtime  Tree memory (max)  Tree memory (max/process)  Total runtime  \\\n",
       "0         24.67       5.446205e+08                276631552.0        3245.00   \n",
       "0         31.23       8.184218e+08                459071488.0        1236.72   \n",
       "0         34.07       9.945620e+08                660180992.0        2546.08   \n",
       "0         38.29       1.335677e+09                870260736.0        1856.47   \n",
       "0         21.59       5.444198e+08                276242432.0        3236.90   \n",
       "0         30.81       8.194007e+08                459337728.0        1240.15   \n",
       "0         36.21       9.951846e+08                660570112.0        2542.55   \n",
       "0         37.54       1.335370e+09                870191104.0        2447.55   \n",
       "0         22.05       5.440676e+08                276090880.0        3243.35   \n",
       "0         29.04       8.182333e+08                459100160.0        1245.16   \n",
       "0         37.96       9.947177e+08                660459520.0        2534.86   \n",
       "0         39.04       1.335419e+09                869838848.0        1874.31   \n",
       "\n",
       "     Max memory  \n",
       "0  1.558306e+10  \n",
       "0  5.550060e+09  \n",
       "0  1.005870e+10  \n",
       "0  6.843236e+09  \n",
       "0  1.560137e+10  \n",
       "0  5.480444e+09  \n",
       "0  9.555489e+09  \n",
       "0  6.751625e+09  \n",
       "0  1.538114e+10  \n",
       "0  5.426352e+09  \n",
       "0  9.873580e+09  \n",
       "0  6.638596e+09  \n",
       "\n",
       "[12 rows x 21 columns]"
      ]
     },
     "execution_count": 6,
     "metadata": {},
     "output_type": "execute_result"
    }
   ],
   "source": [
    "benchmark_df"
   ]
  },
  {
   "cell_type": "code",
   "execution_count": 7,
   "id": "535a9ccc-ab9c-4919-806f-128e1efd2389",
   "metadata": {
    "execution": {
     "iopub.execute_input": "2022-02-28T04:07:20.126954Z",
     "iopub.status.busy": "2022-02-28T04:07:20.126566Z",
     "iopub.status.idle": "2022-02-28T04:07:20.129800Z",
     "shell.execute_reply": "2022-02-28T04:07:20.130209Z"
    },
    "papermill": {
     "duration": 0.03538,
     "end_time": "2022-02-28T04:07:20.130345",
     "exception": false,
     "start_time": "2022-02-28T04:07:20.094965",
     "status": "completed"
    },
    "tags": []
   },
   "outputs": [],
   "source": [
    "benchmark_df.to_csv(benchmark_path, sep='\\t', index=False)"
   ]
  },
  {
   "cell_type": "markdown",
   "id": "6cb7673b-9f85-4c43-b2e2-93538497a196",
   "metadata": {
    "papermill": {
     "duration": 0.022636,
     "end_time": "2022-02-28T04:07:20.179786",
     "exception": false,
     "start_time": "2022-02-28T04:07:20.157150",
     "status": "completed"
    },
    "tags": []
   },
   "source": [
    "# 3. Export trees"
   ]
  },
  {
   "cell_type": "code",
   "execution_count": 8,
   "id": "5280f82c-5434-4391-8c44-b937a7c95bd5",
   "metadata": {
    "execution": {
     "iopub.execute_input": "2022-02-28T04:07:20.245577Z",
     "iopub.status.busy": "2022-02-28T04:07:20.245057Z",
     "iopub.status.idle": "2022-02-28T04:07:33.652331Z",
     "shell.execute_reply": "2022-02-28T04:07:33.653295Z"
    },
    "papermill": {
     "duration": 13.451144,
     "end_time": "2022-02-28T04:07:33.653593",
     "exception": false,
     "start_time": "2022-02-28T04:07:20.202449",
     "status": "completed"
    },
    "tags": []
   },
   "outputs": [],
   "source": [
    "if build_tree:\n",
    "    # Using variables with shell commands in Jupyter isn't working for me so I have to avoid using them\n",
    "    !gdi --project-dir cases/full/index export tree GCA_001879185.2_ASM187918v2_genomic > cases/full/0810PADBR-1_tree.tre\n",
    "    !gdi --project-dir cases/full/index export tree GCF_000703365.1_Ec2011C-3609_genomic > cases/full/1405WAEXK-1_tree.tre\n",
    "    !gdi --project-dir cases/full/index export tree GCF_001047715.2_ASM104771v2_genomic > cases/full/1408MLGX6-3WGS_tree.tre\n",
    "    !gdi --project-dir cases/full/index export tree GCF_000439415.1_ASM43941v1_genomic > cases/full/1203NYJAP-1_-_Tuna_Scrape_Outbreak_tree.tre\n",
    "else:\n",
    "    print(f'build_tree={build_tree} so no trees to export')"
   ]
  },
  {
   "cell_type": "code",
   "execution_count": null,
   "id": "3162d923-834f-45f6-b4cc-653d9a1e1d97",
   "metadata": {
    "papermill": {
     "duration": 0.021634,
     "end_time": "2022-02-28T04:07:33.711220",
     "exception": false,
     "start_time": "2022-02-28T04:07:33.689586",
     "status": "completed"
    },
    "tags": []
   },
   "outputs": [],
   "source": []
  }
 ],
 "metadata": {
  "kernelspec": {
   "display_name": "Python 3 (ipykernel)",
   "language": "python",
   "name": "python3"
  },
  "language_info": {
   "codemirror_mode": {
    "name": "ipython",
    "version": 3
   },
   "file_extension": ".py",
   "mimetype": "text/x-python",
   "name": "python",
   "nbconvert_exporter": "python",
   "pygments_lexer": "ipython3",
   "version": "3.8.12"
  },
  "papermill": {
   "default_parameters": {},
   "duration": 27346.383917,
   "end_time": "2022-02-28T04:07:34.295517",
   "environment_variables": {},
   "exception": null,
   "input_path": "template-3-index-genomes.ipynb",
   "output_path": "3-index-genomes.ipynb",
   "parameters": {},
   "start_time": "2022-02-27T20:31:47.911600",
   "version": "2.3.4"
  }
 },
 "nbformat": 4,
 "nbformat_minor": 5
}