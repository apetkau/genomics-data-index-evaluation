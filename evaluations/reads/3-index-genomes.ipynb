{
 "cells": [
  {
   "cell_type": "markdown",
   "id": "7d3667b4-b1f8-4347-96e3-830c25b06740",
   "metadata": {
    "papermill": {
     "duration": 0.018148,
     "end_time": "2021-11-25T17:28:47.633445",
     "exception": false,
     "start_time": "2021-11-25T17:28:47.615297",
     "status": "completed"
    },
    "tags": []
   },
   "source": [
    "# 1. Parameters"
   ]
  },
  {
   "cell_type": "code",
   "execution_count": 1,
   "id": "d4ab0749-b286-4c34-b63c-a854e4952bae",
   "metadata": {
    "execution": {
     "iopub.execute_input": "2021-11-25T17:28:47.662662Z",
     "iopub.status.busy": "2021-11-25T17:28:47.655448Z",
     "iopub.status.idle": "2021-11-25T17:28:47.666820Z",
     "shell.execute_reply": "2021-11-25T17:28:47.667400Z"
    },
    "papermill": {
     "duration": 0.026476,
     "end_time": "2021-11-25T17:28:47.667705",
     "exception": false,
     "start_time": "2021-11-25T17:28:47.641229",
     "status": "completed"
    },
    "tags": [
     "parameters"
    ]
   },
   "outputs": [],
   "source": [
    "from pathlib import Path\n",
    "\n",
    "# Defaults\n",
    "cases_dir = 'cases/full'\n",
    "metadata_file = 'metadata.tsv'\n",
    "iterations = 1\n",
    "mincov = 10\n",
    "ncores = 32\n",
    "\n",
    "reference_files = {\n",
    "    '0810PADBR-1': Path('data/reference/campylobacter/GCA_001879185.2_ASM187918v2_genomic.gbk.gz'),\n",
    "    '1405WAEXK-1': Path('data/reference/ecoli/GCF_000703365.1_Ec2011C-3609_genomic.gbk.gz'),\n",
    "    '1408MLGX6-3WGS': Path('data/reference/listeria/GCF_001047715.2_ASM104771v2_genomic.gbk.gz'),\n",
    "    '1203NYJAP-1 - Tuna Scrape Outbreak': Path('data/reference/salmonella/GCF_000439415.1_ASM43941v1_genomic.gbk.gz'),\n",
    "}\n",
    "    \n",
    "build_tree = True\n",
    "sample_batch_size=10"
   ]
  },
  {
   "cell_type": "code",
   "execution_count": 2,
   "id": "ce5962e4-261c-4210-b39b-47044e28466b",
   "metadata": {
    "execution": {
     "iopub.execute_input": "2021-11-25T17:28:47.695033Z",
     "iopub.status.busy": "2021-11-25T17:28:47.694603Z",
     "iopub.status.idle": "2021-11-25T17:28:50.500523Z",
     "shell.execute_reply": "2021-11-25T17:28:50.501434Z"
    },
    "papermill": {
     "duration": 2.823648,
     "end_time": "2021-11-25T17:28:50.501730",
     "exception": false,
     "start_time": "2021-11-25T17:28:47.678082",
     "status": "completed"
    },
    "tags": []
   },
   "outputs": [
    {
     "data": {
      "text/plain": [
       "{'0810PADBR-1': PosixPath('cases/full/0810PADBR-1_tree.tre'),\n",
       " '1405WAEXK-1': PosixPath('cases/full/1405WAEXK-1_tree.tre'),\n",
       " '1408MLGX6-3WGS': PosixPath('cases/full/1408MLGX6-3WGS_tree.tre'),\n",
       " '1203NYJAP-1 - Tuna Scrape Outbreak': PosixPath('cases/full/1203NYJAP-1_-_Tuna_Scrape_Outbreak_tree.tre')}"
      ]
     },
     "execution_count": 2,
     "metadata": {},
     "output_type": "execute_result"
    }
   ],
   "source": [
    "from pathlib import Path\n",
    "from shutil import rmtree\n",
    "from os import makedirs\n",
    "import imp\n",
    "fp, pathname, description = imp.find_module('gdi_benchmark', ['../../lib'])\n",
    "gdi_benchmark = imp.load_module('gdi_benchmark', fp, pathname, description)\n",
    "\n",
    "cases_dir_path = Path(cases_dir)\n",
    "index_path = cases_dir_path / 'index'\n",
    "\n",
    "if cases_dir_path.exists():\n",
    "    rmtree(cases_dir_path)\n",
    "    \n",
    "if not cases_dir_path.exists():\n",
    "    makedirs(cases_dir_path)\n",
    "\n",
    "case_name = str(cases_dir_path.name)\n",
    "\n",
    "benchmark_path = cases_dir_path / 'index-info.tsv'\n",
    "\n",
    "output_trees = {x: cases_dir_path / f'{x}_tree.tre'.replace(' ', '_') for x in reference_files}\n",
    "output_trees"
   ]
  },
  {
   "cell_type": "markdown",
   "id": "1673d80f-b52a-4b68-b400-355540495e15",
   "metadata": {
    "papermill": {
     "duration": 0.007726,
     "end_time": "2021-11-25T17:28:50.522698",
     "exception": false,
     "start_time": "2021-11-25T17:28:50.514972",
     "status": "completed"
    },
    "tags": []
   },
   "source": [
    "# 2. Create subset inputs"
   ]
  },
  {
   "cell_type": "code",
   "execution_count": 3,
   "id": "4e66adb1-3ef7-45d1-8e46-723dcb9d0c31",
   "metadata": {
    "execution": {
     "iopub.execute_input": "2021-11-25T17:28:50.551931Z",
     "iopub.status.busy": "2021-11-25T17:28:50.550780Z",
     "iopub.status.idle": "2021-11-25T17:28:50.585627Z",
     "shell.execute_reply": "2021-11-25T17:28:50.584602Z"
    },
    "papermill": {
     "duration": 0.05684,
     "end_time": "2021-11-25T17:28:50.585857",
     "exception": false,
     "start_time": "2021-11-25T17:28:50.529017",
     "status": "completed"
    },
    "tags": []
   },
   "outputs": [
    {
     "name": "stdout",
     "output_type": "stream",
     "text": [
      "Wrote dataset=0810PADBR-1 consisting of 22/85 samples to cases/full/0810PADBR-1_input-files-case.tsv\n",
      "Wrote dataset=1405WAEXK-1 consisting of 9/85 samples to cases/full/1405WAEXK-1_input-files-case.tsv\n",
      "Wrote dataset=1408MLGX6-3WGS consisting of 31/85 samples to cases/full/1408MLGX6-3WGS_input-files-case.tsv\n",
      "Wrote dataset=1203NYJAP-1 - Tuna Scrape Outbreak consisting of 23/85 samples to cases/full/1203NYJAP-1_-_Tuna_Scrape_Outbreak_input-files-case.tsv\n"
     ]
    },
    {
     "data": {
      "text/plain": [
       "{'0810PADBR-1': PosixPath('cases/full/0810PADBR-1_input-files-case.tsv'),\n",
       " '1405WAEXK-1': PosixPath('cases/full/1405WAEXK-1_input-files-case.tsv'),\n",
       " '1408MLGX6-3WGS': PosixPath('cases/full/1408MLGX6-3WGS_input-files-case.tsv'),\n",
       " '1203NYJAP-1 - Tuna Scrape Outbreak': PosixPath('cases/full/1203NYJAP-1_-_Tuna_Scrape_Outbreak_input-files-case.tsv')}"
      ]
     },
     "execution_count": 3,
     "metadata": {},
     "output_type": "execute_result"
    }
   ],
   "source": [
    "import pandas as pd\n",
    "from pathlib import Path\n",
    "from typing import Dict\n",
    "\n",
    "metadata_df = pd.read_csv(metadata_file, sep='\\t')\n",
    "\n",
    "def write_subset_input(metadata_df: pd.DataFrame, dataset_name: str) -> Path:\n",
    "    all_input_total = len(metadata_df)\n",
    "    cases_input = cases_dir_path / f'{dataset_name}_input-files-case.tsv'.replace(' ', '_')\n",
    "\n",
    "    input_df = metadata_df.copy().loc[metadata_df['dataSetName'] == dataset_name]\n",
    "    input_df['Sample'] = input_df['strain']\n",
    "    input_df['Assemblies'] = pd.NA\n",
    "    input_df['Reads1'] = input_df['Sample'].apply(lambda x: str((Path('data') / 'fastq' / (x + '_1.fastq.gz')).absolute()))\n",
    "    input_df['Reads2'] = input_df['Sample'].apply(lambda x: str((Path('data') / 'fastq' / (x + '_2.fastq.gz')).absolute()))\n",
    "    input_df = input_df[['Sample', 'Assemblies', 'Reads1', 'Reads2']]\n",
    "\n",
    "    input_df.to_csv(cases_input, sep='\\t', index=False)\n",
    "\n",
    "    subset_input_total = len(input_df)\n",
    "\n",
    "    print(f'Wrote dataset={dataset_name} consisting of {subset_input_total}/{all_input_total} samples to {cases_input}')\n",
    "    \n",
    "    return cases_input\n",
    "\n",
    "cases_inputs = {x: write_subset_input(metadata_df, dataset_name=x) for x in reference_files}\n",
    "cases_inputs"
   ]
  },
  {
   "cell_type": "markdown",
   "id": "f208279e-7558-47fc-9362-da29df92828a",
   "metadata": {
    "papermill": {
     "duration": 0.007678,
     "end_time": "2021-11-25T17:28:50.605738",
     "exception": false,
     "start_time": "2021-11-25T17:28:50.598060",
     "status": "completed"
    },
    "tags": []
   },
   "source": [
    "# 2. Index genomes"
   ]
  },
  {
   "cell_type": "code",
   "execution_count": 4,
   "id": "4e936f7c-2fcd-4188-b0e6-6b3ceb5cdcd2",
   "metadata": {
    "execution": {
     "iopub.execute_input": "2021-11-25T17:28:50.623503Z",
     "iopub.status.busy": "2021-11-25T17:28:50.623114Z",
     "iopub.status.idle": "2021-11-25T17:28:53.896916Z",
     "shell.execute_reply": "2021-11-25T17:28:53.897863Z"
    },
    "papermill": {
     "duration": 3.286226,
     "end_time": "2021-11-25T17:28:53.898175",
     "exception": false,
     "start_time": "2021-11-25T17:28:50.611949",
     "status": "completed"
    },
    "tags": []
   },
   "outputs": [
    {
     "name": "stdout",
     "output_type": "stream",
     "text": [
      "gdi, version 0.4.0\r\n"
     ]
    }
   ],
   "source": [
    "!gdi --version"
   ]
  },
  {
   "cell_type": "markdown",
   "id": "5409ecf8-2158-4361-9d2f-6b1a6c7c63a6",
   "metadata": {
    "papermill": {
     "duration": 0.010374,
     "end_time": "2021-11-25T17:28:53.926494",
     "exception": false,
     "start_time": "2021-11-25T17:28:53.916120",
     "status": "completed"
    },
    "tags": []
   },
   "source": [
    "## 2.1. Index reads"
   ]
  },
  {
   "cell_type": "code",
   "execution_count": 5,
   "id": "3d63e861-733e-46f2-8bce-bd1a2c7c7058",
   "metadata": {
    "execution": {
     "iopub.execute_input": "2021-11-25T17:28:53.950710Z",
     "iopub.status.busy": "2021-11-25T17:28:53.950290Z",
     "iopub.status.idle": "2021-11-25T18:36:03.266412Z",
     "shell.execute_reply": "2021-11-25T18:36:03.267338Z"
    },
    "papermill": {
     "duration": 4029.333558,
     "end_time": "2021-11-25T18:36:03.267704",
     "exception": false,
     "start_time": "2021-11-25T17:28:53.934146",
     "status": "completed"
    },
    "tags": []
   },
   "outputs": [
    {
     "name": "stdout",
     "output_type": "stream",
     "text": [
      "Creating new index: [gdi init cases/full/index]\n"
     ]
    },
    {
     "name": "stdout",
     "output_type": "stream",
     "text": [
      "Creating a new index took 3.35 seconds\n"
     ]
    },
    {
     "name": "stdout",
     "output_type": "stream",
     "text": [
      "\n",
      "Iteration 1 of index/analysis of 22 samples for reference=data/reference/campylobacter/GCA_001879185.2_ASM187918v2_genomic.gbk.gz with 32 cores\n",
      "Removing any extra snakemake directories: []\n",
      "Analysis running: [gdi --project-dir cases/full/index --ncores 32 analysis --use-conda --no-load-data --reference-file data/reference/campylobacter/GCA_001879185.2_ASM187918v2_genomic.gbk.gz --kmer-size 31 --kmer-size 51 --kmer-size 71 --include-kmer --reads-mincov 10 --input-structured-genomes-file cases/full/0810PADBR-1_input-files-case.tsv]\n"
     ]
    },
    {
     "name": "stdout",
     "output_type": "stream",
     "text": [
      "Analysis took 15.97 minutes\n",
      "Index running: [gdi --project-dir cases/full/index --ncores 32 load vcf-kmer --sample-batch-size 10 --reference-file data/reference/campylobacter/GCA_001879185.2_ASM187918v2_genomic.gbk.gz /home/CSCScience.ca/apetkau/workspace/genomics-data-index-evaluation/evaluations/reads/snakemake-assemblies.1637861341.2613876/gdi-input.fofn]\n"
     ]
    },
    {
     "name": "stdout",
     "output_type": "stream",
     "text": [
      "Indexing took 0.84 minutes\n",
      "Building tree: [gdi --project-dir cases/full/index --ncores 32 rebuild tree --align-type full --extra-params '--fast -m GTR+F+R4' GCA_001879185.2_ASM187918v2_genomic]\n"
     ]
    },
    {
     "name": "stdout",
     "output_type": "stream",
     "text": [
      "Building tree took 1.40 minutes\n"
     ]
    },
    {
     "name": "stderr",
     "output_type": "stream",
     "text": [
      "A reminder to myself to look for a Python solution for directory sizes (instead of running `du`)\n"
     ]
    },
    {
     "name": "stdout",
     "output_type": "stream",
     "text": [
      "\n",
      "Iteration 1 of index/analysis of 9 samples for reference=data/reference/ecoli/GCF_000703365.1_Ec2011C-3609_genomic.gbk.gz with 32 cores\n",
      "Removing any extra snakemake directories: ['snakemake-assemblies.1637861341.2613876']\n"
     ]
    },
    {
     "name": "stdout",
     "output_type": "stream",
     "text": [
      "Analysis running: [gdi --project-dir cases/full/index --ncores 32 analysis --use-conda --no-load-data --reference-file data/reference/ecoli/GCF_000703365.1_Ec2011C-3609_genomic.gbk.gz --kmer-size 31 --kmer-size 51 --kmer-size 71 --include-kmer --reads-mincov 10 --input-structured-genomes-file cases/full/1405WAEXK-1_input-files-case.tsv]\n"
     ]
    },
    {
     "name": "stdout",
     "output_type": "stream",
     "text": [
      "Analysis took 12.16 minutes\n",
      "Index running: [gdi --project-dir cases/full/index --ncores 32 load vcf-kmer --sample-batch-size 10 --reference-file data/reference/ecoli/GCF_000703365.1_Ec2011C-3609_genomic.gbk.gz /home/CSCScience.ca/apetkau/workspace/genomics-data-index-evaluation/evaluations/reads/snakemake-assemblies.1637862439.101467/gdi-input.fofn]\n"
     ]
    },
    {
     "name": "stdout",
     "output_type": "stream",
     "text": [
      "Indexing took 3.21 minutes\n",
      "Building tree: [gdi --project-dir cases/full/index --ncores 32 rebuild tree --align-type full --extra-params '--fast -m GTR+F+R4' GCF_000703365.1_Ec2011C-3609_genomic]\n"
     ]
    },
    {
     "name": "stdout",
     "output_type": "stream",
     "text": [
      "Building tree took 1.67 minutes\n"
     ]
    },
    {
     "name": "stderr",
     "output_type": "stream",
     "text": [
      "Attempting to set global database_path_translator=<genomics_data_index.storage.model.db.DatabasePathTranslator.DatabasePathTranslator object at 0x7feee975f430> but it is already set\n"
     ]
    },
    {
     "name": "stderr",
     "output_type": "stream",
     "text": [
      "A reminder to myself to look for a Python solution for directory sizes (instead of running `du`)\n"
     ]
    },
    {
     "name": "stdout",
     "output_type": "stream",
     "text": [
      "\n",
      "Iteration 1 of index/analysis of 31 samples for reference=data/reference/listeria/GCF_001047715.2_ASM104771v2_genomic.gbk.gz with 32 cores\n",
      "Removing any extra snakemake directories: ['snakemake-assemblies.1637862439.101467']\n"
     ]
    },
    {
     "name": "stdout",
     "output_type": "stream",
     "text": [
      "Analysis running: [gdi --project-dir cases/full/index --ncores 32 analysis --use-conda --no-load-data --reference-file data/reference/listeria/GCF_001047715.2_ASM104771v2_genomic.gbk.gz --kmer-size 31 --kmer-size 51 --kmer-size 71 --include-kmer --reads-mincov 10 --input-structured-genomes-file cases/full/1408MLGX6-3WGS_input-files-case.tsv]\n"
     ]
    },
    {
     "name": "stdout",
     "output_type": "stream",
     "text": [
      "Analysis took 12.00 minutes\n",
      "Index running: [gdi --project-dir cases/full/index --ncores 32 load vcf-kmer --sample-batch-size 10 --reference-file data/reference/listeria/GCF_001047715.2_ASM104771v2_genomic.gbk.gz /home/CSCScience.ca/apetkau/workspace/genomics-data-index-evaluation/evaluations/reads/snakemake-assemblies.1637863465.4611373/gdi-input.fofn]\n"
     ]
    },
    {
     "name": "stdout",
     "output_type": "stream",
     "text": [
      "Indexing took 1.77 minutes\n",
      "Building tree: [gdi --project-dir cases/full/index --ncores 32 rebuild tree --align-type full --extra-params '--fast -m GTR+F+R4' GCF_001047715.2_ASM104771v2_genomic]\n"
     ]
    },
    {
     "name": "stdout",
     "output_type": "stream",
     "text": [
      "Building tree took 1.72 minutes\n"
     ]
    },
    {
     "name": "stderr",
     "output_type": "stream",
     "text": [
      "Attempting to set global database_path_translator=<genomics_data_index.storage.model.db.DatabasePathTranslator.DatabasePathTranslator object at 0x7feef9bb23a0> but it is already set\n"
     ]
    },
    {
     "name": "stderr",
     "output_type": "stream",
     "text": [
      "A reminder to myself to look for a Python solution for directory sizes (instead of running `du`)\n"
     ]
    },
    {
     "name": "stdout",
     "output_type": "stream",
     "text": [
      "\n",
      "Iteration 1 of index/analysis of 23 samples for reference=data/reference/salmonella/GCF_000439415.1_ASM43941v1_genomic.gbk.gz with 32 cores\n",
      "Removing any extra snakemake directories: ['snakemake-assemblies.1637863465.4611373']\n"
     ]
    },
    {
     "name": "stdout",
     "output_type": "stream",
     "text": [
      "Analysis running: [gdi --project-dir cases/full/index --ncores 32 analysis --use-conda --no-load-data --reference-file data/reference/salmonella/GCF_000439415.1_ASM43941v1_genomic.gbk.gz --kmer-size 31 --kmer-size 51 --kmer-size 71 --include-kmer --reads-mincov 10 --input-structured-genomes-file cases/full/1203NYJAP-1_-_Tuna_Scrape_Outbreak_input-files-case.tsv]\n"
     ]
    },
    {
     "name": "stdout",
     "output_type": "stream",
     "text": [
      "Analysis took 9.28 minutes\n",
      "Index running: [gdi --project-dir cases/full/index --ncores 32 load vcf-kmer --sample-batch-size 10 --reference-file data/reference/salmonella/GCF_000439415.1_ASM43941v1_genomic.gbk.gz /home/CSCScience.ca/apetkau/workspace/genomics-data-index-evaluation/evaluations/reads/snakemake-assemblies.1637864400.131172/gdi-input.fofn]\n"
     ]
    },
    {
     "name": "stdout",
     "output_type": "stream",
     "text": [
      "Indexing took 4.56 minutes\n",
      "Building tree: [gdi --project-dir cases/full/index --ncores 32 rebuild tree --align-type full --extra-params '--fast -m GTR+F+R4' GCF_000439415.1_ASM43941v1_genomic]\n"
     ]
    },
    {
     "name": "stdout",
     "output_type": "stream",
     "text": [
      "Building tree took 2.24 minutes\n"
     ]
    },
    {
     "name": "stderr",
     "output_type": "stream",
     "text": [
      "Attempting to set global database_path_translator=<genomics_data_index.storage.model.db.DatabasePathTranslator.DatabasePathTranslator object at 0x7feee975ce50> but it is already set\n"
     ]
    },
    {
     "name": "stderr",
     "output_type": "stream",
     "text": [
      "A reminder to myself to look for a Python solution for directory sizes (instead of running `du`)\n"
     ]
    },
    {
     "name": "stdout",
     "output_type": "stream",
     "text": [
      "***Finished benchmarking, took 67.16 minutes***\n"
     ]
    }
   ],
   "source": [
    "import time\n",
    "\n",
    "start = time.time()\n",
    "benchmarker = gdi_benchmark.IndexBenchmarkerMultiple(index_path=index_path, input_files_files=cases_inputs,\n",
    "                                             reference_files=reference_files, mincov=mincov,\n",
    "                                             build_tree=build_tree,\n",
    "                                             ncores=ncores,\n",
    "                                             sample_batch_size=sample_batch_size)\n",
    "benchmark_df = benchmarker.benchmark(iterations=iterations)\n",
    "end = time.time()\n",
    "print(f'***Finished benchmarking, took {(end - start)/60:0.2f} minutes***')"
   ]
  },
  {
   "cell_type": "code",
   "execution_count": 6,
   "id": "3bcb6da7-0164-47f2-abdd-a4c159da1e3b",
   "metadata": {
    "execution": {
     "iopub.execute_input": "2021-11-25T18:36:03.314059Z",
     "iopub.status.busy": "2021-11-25T18:36:03.313584Z",
     "iopub.status.idle": "2021-11-25T18:36:03.348192Z",
     "shell.execute_reply": "2021-11-25T18:36:03.349126Z"
    },
    "papermill": {
     "duration": 0.056352,
     "end_time": "2021-11-25T18:36:03.349408",
     "exception": false,
     "start_time": "2021-11-25T18:36:03.293056",
     "status": "completed"
    },
    "tags": []
   },
   "outputs": [
    {
     "data": {
      "text/html": [
       "<div>\n",
       "<style scoped>\n",
       "    .dataframe tbody tr th:only-of-type {\n",
       "        vertical-align: middle;\n",
       "    }\n",
       "\n",
       "    .dataframe tbody tr th {\n",
       "        vertical-align: top;\n",
       "    }\n",
       "\n",
       "    .dataframe thead th {\n",
       "        text-align: right;\n",
       "    }\n",
       "</style>\n",
       "<table border=\"1\" class=\"dataframe\">\n",
       "  <thead>\n",
       "    <tr style=\"text-align: right;\">\n",
       "      <th></th>\n",
       "      <th>Name</th>\n",
       "      <th>Iteration</th>\n",
       "      <th>Number samples</th>\n",
       "      <th>Number features (all)</th>\n",
       "      <th>Number features (no unknown)</th>\n",
       "      <th>Number cores</th>\n",
       "      <th>Reference length</th>\n",
       "      <th>Analysis runtime</th>\n",
       "      <th>Analysis memory (max)</th>\n",
       "      <th>Analysis memory (max/process)</th>\n",
       "      <th>Analysis disk uage</th>\n",
       "      <th>Index runtime</th>\n",
       "      <th>Index memory (max)</th>\n",
       "      <th>Index memory (max/process)</th>\n",
       "      <th>Index size</th>\n",
       "      <th>Tree runtime</th>\n",
       "      <th>Tree memory (max)</th>\n",
       "      <th>Tree memory (max/process)</th>\n",
       "      <th>Total runtime</th>\n",
       "      <th>Max memory</th>\n",
       "    </tr>\n",
       "  </thead>\n",
       "  <tbody>\n",
       "    <tr>\n",
       "      <th>0</th>\n",
       "      <td>0810PADBR-1</td>\n",
       "      <td>1</td>\n",
       "      <td>22</td>\n",
       "      <td>45117</td>\n",
       "      <td>1102</td>\n",
       "      <td>32</td>\n",
       "      <td>1634890</td>\n",
       "      <td>957.72</td>\n",
       "      <td>3.055631e+10</td>\n",
       "      <td>3.428192e+09</td>\n",
       "      <td>1.268349e+10</td>\n",
       "      <td>50.51</td>\n",
       "      <td>1.378968e+10</td>\n",
       "      <td>7.415685e+08</td>\n",
       "      <td>46563328.0</td>\n",
       "      <td>83.64</td>\n",
       "      <td>4.643144e+08</td>\n",
       "      <td>273575936.0</td>\n",
       "      <td>1091.87</td>\n",
       "      <td>3.055631e+10</td>\n",
       "    </tr>\n",
       "    <tr>\n",
       "      <th>0</th>\n",
       "      <td>1405WAEXK-1</td>\n",
       "      <td>1</td>\n",
       "      <td>9</td>\n",
       "      <td>45117</td>\n",
       "      <td>1102</td>\n",
       "      <td>32</td>\n",
       "      <td>5412686</td>\n",
       "      <td>729.15</td>\n",
       "      <td>9.024975e+09</td>\n",
       "      <td>1.683698e+09</td>\n",
       "      <td>7.204246e+09</td>\n",
       "      <td>192.40</td>\n",
       "      <td>9.615065e+09</td>\n",
       "      <td>3.799736e+09</td>\n",
       "      <td>134144000.0</td>\n",
       "      <td>100.17</td>\n",
       "      <td>6.955008e+08</td>\n",
       "      <td>386592768.0</td>\n",
       "      <td>1021.72</td>\n",
       "      <td>9.615065e+09</td>\n",
       "    </tr>\n",
       "    <tr>\n",
       "      <th>0</th>\n",
       "      <td>1408MLGX6-3WGS</td>\n",
       "      <td>1</td>\n",
       "      <td>31</td>\n",
       "      <td>45117</td>\n",
       "      <td>1102</td>\n",
       "      <td>32</td>\n",
       "      <td>2939733</td>\n",
       "      <td>719.94</td>\n",
       "      <td>2.767317e+10</td>\n",
       "      <td>1.928872e+09</td>\n",
       "      <td>1.148398e+10</td>\n",
       "      <td>105.85</td>\n",
       "      <td>1.642866e+10</td>\n",
       "      <td>9.096847e+08</td>\n",
       "      <td>174104576.0</td>\n",
       "      <td>103.04</td>\n",
       "      <td>7.837450e+08</td>\n",
       "      <td>451563520.0</td>\n",
       "      <td>928.83</td>\n",
       "      <td>2.767317e+10</td>\n",
       "    </tr>\n",
       "    <tr>\n",
       "      <th>0</th>\n",
       "      <td>1203NYJAP-1 - Tuna Scrape Outbreak</td>\n",
       "      <td>1</td>\n",
       "      <td>23</td>\n",
       "      <td>45117</td>\n",
       "      <td>1102</td>\n",
       "      <td>32</td>\n",
       "      <td>4808805</td>\n",
       "      <td>556.90</td>\n",
       "      <td>1.958274e+10</td>\n",
       "      <td>1.370522e+09</td>\n",
       "      <td>9.669235e+09</td>\n",
       "      <td>273.20</td>\n",
       "      <td>4.135154e+10</td>\n",
       "      <td>2.854724e+09</td>\n",
       "      <td>249548800.0</td>\n",
       "      <td>134.52</td>\n",
       "      <td>1.042833e+09</td>\n",
       "      <td>579510272.0</td>\n",
       "      <td>964.62</td>\n",
       "      <td>4.135154e+10</td>\n",
       "    </tr>\n",
       "  </tbody>\n",
       "</table>\n",
       "</div>"
      ],
      "text/plain": [
       "                                 Name  Iteration  Number samples  \\\n",
       "0                         0810PADBR-1          1              22   \n",
       "0                         1405WAEXK-1          1               9   \n",
       "0                      1408MLGX6-3WGS          1              31   \n",
       "0  1203NYJAP-1 - Tuna Scrape Outbreak          1              23   \n",
       "\n",
       "   Number features (all)  Number features (no unknown)  Number cores  \\\n",
       "0                  45117                          1102            32   \n",
       "0                  45117                          1102            32   \n",
       "0                  45117                          1102            32   \n",
       "0                  45117                          1102            32   \n",
       "\n",
       "   Reference length  Analysis runtime  Analysis memory (max)  \\\n",
       "0           1634890            957.72           3.055631e+10   \n",
       "0           5412686            729.15           9.024975e+09   \n",
       "0           2939733            719.94           2.767317e+10   \n",
       "0           4808805            556.90           1.958274e+10   \n",
       "\n",
       "   Analysis memory (max/process)  Analysis disk uage  Index runtime  \\\n",
       "0                   3.428192e+09        1.268349e+10          50.51   \n",
       "0                   1.683698e+09        7.204246e+09         192.40   \n",
       "0                   1.928872e+09        1.148398e+10         105.85   \n",
       "0                   1.370522e+09        9.669235e+09         273.20   \n",
       "\n",
       "   Index memory (max)  Index memory (max/process)   Index size  Tree runtime  \\\n",
       "0        1.378968e+10                7.415685e+08   46563328.0         83.64   \n",
       "0        9.615065e+09                3.799736e+09  134144000.0        100.17   \n",
       "0        1.642866e+10                9.096847e+08  174104576.0        103.04   \n",
       "0        4.135154e+10                2.854724e+09  249548800.0        134.52   \n",
       "\n",
       "   Tree memory (max)  Tree memory (max/process)  Total runtime    Max memory  \n",
       "0       4.643144e+08                273575936.0        1091.87  3.055631e+10  \n",
       "0       6.955008e+08                386592768.0        1021.72  9.615065e+09  \n",
       "0       7.837450e+08                451563520.0         928.83  2.767317e+10  \n",
       "0       1.042833e+09                579510272.0         964.62  4.135154e+10  "
      ]
     },
     "execution_count": 6,
     "metadata": {},
     "output_type": "execute_result"
    }
   ],
   "source": [
    "benchmark_df"
   ]
  },
  {
   "cell_type": "code",
   "execution_count": 7,
   "id": "535a9ccc-ab9c-4919-806f-128e1efd2389",
   "metadata": {
    "execution": {
     "iopub.execute_input": "2021-11-25T18:36:03.396200Z",
     "iopub.status.busy": "2021-11-25T18:36:03.395810Z",
     "iopub.status.idle": "2021-11-25T18:36:03.399243Z",
     "shell.execute_reply": "2021-11-25T18:36:03.399536Z"
    },
    "papermill": {
     "duration": 0.024124,
     "end_time": "2021-11-25T18:36:03.399642",
     "exception": false,
     "start_time": "2021-11-25T18:36:03.375518",
     "status": "completed"
    },
    "tags": []
   },
   "outputs": [],
   "source": [
    "benchmark_df.to_csv(benchmark_path, sep='\\t', index=False)"
   ]
  },
  {
   "cell_type": "markdown",
   "id": "6cb7673b-9f85-4c43-b2e2-93538497a196",
   "metadata": {
    "papermill": {
     "duration": 0.011918,
     "end_time": "2021-11-25T18:36:03.426467",
     "exception": false,
     "start_time": "2021-11-25T18:36:03.414549",
     "status": "completed"
    },
    "tags": []
   },
   "source": [
    "# 3. Export trees"
   ]
  },
  {
   "cell_type": "code",
   "execution_count": 8,
   "id": "5280f82c-5434-4391-8c44-b937a7c95bd5",
   "metadata": {
    "execution": {
     "iopub.execute_input": "2021-11-25T18:36:03.475640Z",
     "iopub.status.busy": "2021-11-25T18:36:03.467333Z",
     "iopub.status.idle": "2021-11-25T18:36:16.659362Z",
     "shell.execute_reply": "2021-11-25T18:36:16.660252Z"
    },
    "papermill": {
     "duration": 13.222259,
     "end_time": "2021-11-25T18:36:16.660662",
     "exception": false,
     "start_time": "2021-11-25T18:36:03.438403",
     "status": "completed"
    },
    "tags": []
   },
   "outputs": [],
   "source": [
    "if build_tree:\n",
    "    # Using variables with shell commands in Jupyter isn't working for me so I have to avoid using them\n",
    "    !gdi --project-dir cases/full/index export tree GCA_001879185.2_ASM187918v2_genomic > cases/full/0810PADBR-1_tree.tre\n",
    "    !gdi --project-dir cases/full/index export tree GCF_000703365.1_Ec2011C-3609_genomic > cases/full/1405WAEXK-1_tree.tre\n",
    "    !gdi --project-dir cases/full/index export tree GCF_001047715.2_ASM104771v2_genomic > cases/full/1408MLGX6-3WGS_tree.tre\n",
    "    !gdi --project-dir cases/full/index export tree GCF_000439415.1_ASM43941v1_genomic > cases/full/1203NYJAP-1_-_Tuna_Scrape_Outbreak_tree.tre\n",
    "else:\n",
    "    print(f'build_tree={build_tree} so no trees to export')"
   ]
  },
  {
   "cell_type": "code",
   "execution_count": null,
   "id": "3162d923-834f-45f6-b4cc-653d9a1e1d97",
   "metadata": {
    "papermill": {
     "duration": 0.013089,
     "end_time": "2021-11-25T18:36:16.698382",
     "exception": false,
     "start_time": "2021-11-25T18:36:16.685293",
     "status": "completed"
    },
    "tags": []
   },
   "outputs": [],
   "source": []
  }
 ],
 "metadata": {
  "kernelspec": {
   "display_name": "Python 3 (ipykernel)",
   "language": "python",
   "name": "python3"
  },
  "language_info": {
   "codemirror_mode": {
    "name": "ipython",
    "version": 3
   },
   "file_extension": ".py",
   "mimetype": "text/x-python",
   "name": "python",
   "nbconvert_exporter": "python",
   "pygments_lexer": "ipython3",
   "version": "3.8.12"
  },
  "papermill": {
   "default_parameters": {},
   "duration": 4051.004803,
   "end_time": "2021-11-25T18:36:17.237782",
   "environment_variables": {},
   "exception": null,
   "input_path": "template-3-index-genomes.ipynb",
   "output_path": "3-index-genomes.ipynb",
   "parameters": {},
   "start_time": "2021-11-25T17:28:46.232979",
   "version": "2.3.3"
  }
 },
 "nbformat": 4,
 "nbformat_minor": 5
}