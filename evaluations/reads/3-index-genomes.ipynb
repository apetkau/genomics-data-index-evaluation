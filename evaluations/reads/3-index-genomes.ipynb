{
 "cells": [
  {
   "cell_type": "markdown",
   "id": "7d3667b4-b1f8-4347-96e3-830c25b06740",
   "metadata": {
    "papermill": {
     "duration": 0.017977,
     "end_time": "2022-02-08T21:24:01.803814",
     "exception": false,
     "start_time": "2022-02-08T21:24:01.785837",
     "status": "completed"
    },
    "tags": []
   },
   "source": [
    "# 1. Parameters"
   ]
  },
  {
   "cell_type": "code",
   "execution_count": 1,
   "id": "d4ab0749-b286-4c34-b63c-a854e4952bae",
   "metadata": {
    "execution": {
     "iopub.execute_input": "2022-02-08T21:24:01.834392Z",
     "iopub.status.busy": "2022-02-08T21:24:01.833800Z",
     "iopub.status.idle": "2022-02-08T21:24:01.838920Z",
     "shell.execute_reply": "2022-02-08T21:24:01.839500Z"
    },
    "papermill": {
     "duration": 0.027865,
     "end_time": "2022-02-08T21:24:01.839791",
     "exception": false,
     "start_time": "2022-02-08T21:24:01.811926",
     "status": "completed"
    },
    "tags": [
     "parameters"
    ]
   },
   "outputs": [],
   "source": [
    "from pathlib import Path\n",
    "\n",
    "# Defaults\n",
    "cases_dir = 'cases/full'\n",
    "metadata_file = 'metadata.tsv'\n",
    "iterations = 3\n",
    "mincov = 10\n",
    "ncores = 32\n",
    "\n",
    "reference_files = {\n",
    "    '0810PADBR-1': Path('data/reference/campylobacter/GCA_001879185.2_ASM187918v2_genomic.gbk.gz'),\n",
    "    '1405WAEXK-1': Path('data/reference/ecoli/GCF_000703365.1_Ec2011C-3609_genomic.gbk.gz'),\n",
    "    '1408MLGX6-3WGS': Path('data/reference/listeria/GCF_001047715.2_ASM104771v2_genomic.gbk.gz'),\n",
    "    '1203NYJAP-1 - Tuna Scrape Outbreak': Path('data/reference/salmonella/GCF_000439415.1_ASM43941v1_genomic.gbk.gz'),\n",
    "}\n",
    "    \n",
    "build_tree = True\n",
    "sample_batch_size=10"
   ]
  },
  {
   "cell_type": "code",
   "execution_count": 2,
   "id": "ce5962e4-261c-4210-b39b-47044e28466b",
   "metadata": {
    "execution": {
     "iopub.execute_input": "2022-02-08T21:24:01.869021Z",
     "iopub.status.busy": "2022-02-08T21:24:01.868401Z",
     "iopub.status.idle": "2022-02-08T21:24:05.894495Z",
     "shell.execute_reply": "2022-02-08T21:24:05.895378Z"
    },
    "papermill": {
     "duration": 4.045677,
     "end_time": "2022-02-08T21:24:05.895664",
     "exception": false,
     "start_time": "2022-02-08T21:24:01.849987",
     "status": "completed"
    },
    "tags": []
   },
   "outputs": [
    {
     "data": {
      "text/plain": [
       "{'0810PADBR-1': PosixPath('cases/full/0810PADBR-1_tree.tre'),\n",
       " '1405WAEXK-1': PosixPath('cases/full/1405WAEXK-1_tree.tre'),\n",
       " '1408MLGX6-3WGS': PosixPath('cases/full/1408MLGX6-3WGS_tree.tre'),\n",
       " '1203NYJAP-1 - Tuna Scrape Outbreak': PosixPath('cases/full/1203NYJAP-1_-_Tuna_Scrape_Outbreak_tree.tre')}"
      ]
     },
     "execution_count": 2,
     "metadata": {},
     "output_type": "execute_result"
    }
   ],
   "source": [
    "from pathlib import Path\n",
    "from shutil import rmtree\n",
    "from os import makedirs\n",
    "import imp\n",
    "fp, pathname, description = imp.find_module('gdi_benchmark', ['../../lib'])\n",
    "gdi_benchmark = imp.load_module('gdi_benchmark', fp, pathname, description)\n",
    "\n",
    "cases_dir_path = Path(cases_dir)\n",
    "index_path = cases_dir_path / 'index'\n",
    "\n",
    "if cases_dir_path.exists():\n",
    "    rmtree(cases_dir_path)\n",
    "    \n",
    "if not cases_dir_path.exists():\n",
    "    makedirs(cases_dir_path)\n",
    "\n",
    "case_name = str(cases_dir_path.name)\n",
    "\n",
    "benchmark_path = cases_dir_path / 'index-info.tsv'\n",
    "\n",
    "output_trees = {x: cases_dir_path / f'{x}_tree.tre'.replace(' ', '_') for x in reference_files}\n",
    "output_trees"
   ]
  },
  {
   "cell_type": "markdown",
   "id": "1673d80f-b52a-4b68-b400-355540495e15",
   "metadata": {
    "papermill": {
     "duration": 0.008914,
     "end_time": "2022-02-08T21:24:05.920134",
     "exception": false,
     "start_time": "2022-02-08T21:24:05.911220",
     "status": "completed"
    },
    "tags": []
   },
   "source": [
    "# 2. Create subset inputs"
   ]
  },
  {
   "cell_type": "code",
   "execution_count": 3,
   "id": "4e66adb1-3ef7-45d1-8e46-723dcb9d0c31",
   "metadata": {
    "execution": {
     "iopub.execute_input": "2022-02-08T21:24:05.939971Z",
     "iopub.status.busy": "2022-02-08T21:24:05.939555Z",
     "iopub.status.idle": "2022-02-08T21:24:06.046343Z",
     "shell.execute_reply": "2022-02-08T21:24:06.046762Z"
    },
    "papermill": {
     "duration": 0.120015,
     "end_time": "2022-02-08T21:24:06.046909",
     "exception": false,
     "start_time": "2022-02-08T21:24:05.926894",
     "status": "completed"
    },
    "tags": []
   },
   "outputs": [
    {
     "name": "stdout",
     "output_type": "stream",
     "text": [
      "Wrote dataset=0810PADBR-1 consisting of 22/85 samples to cases/full/0810PADBR-1_input-files-case.tsv\n",
      "Wrote dataset=1405WAEXK-1 consisting of 9/85 samples to cases/full/1405WAEXK-1_input-files-case.tsv\n",
      "Wrote dataset=1408MLGX6-3WGS consisting of 31/85 samples to cases/full/1408MLGX6-3WGS_input-files-case.tsv\n",
      "Wrote dataset=1203NYJAP-1 - Tuna Scrape Outbreak consisting of 23/85 samples to cases/full/1203NYJAP-1_-_Tuna_Scrape_Outbreak_input-files-case.tsv\n"
     ]
    },
    {
     "data": {
      "text/plain": [
       "{'0810PADBR-1': PosixPath('cases/full/0810PADBR-1_input-files-case.tsv'),\n",
       " '1405WAEXK-1': PosixPath('cases/full/1405WAEXK-1_input-files-case.tsv'),\n",
       " '1408MLGX6-3WGS': PosixPath('cases/full/1408MLGX6-3WGS_input-files-case.tsv'),\n",
       " '1203NYJAP-1 - Tuna Scrape Outbreak': PosixPath('cases/full/1203NYJAP-1_-_Tuna_Scrape_Outbreak_input-files-case.tsv')}"
      ]
     },
     "execution_count": 3,
     "metadata": {},
     "output_type": "execute_result"
    }
   ],
   "source": [
    "import pandas as pd\n",
    "from pathlib import Path\n",
    "from typing import Dict\n",
    "\n",
    "metadata_df = pd.read_csv(metadata_file, sep='\\t')\n",
    "\n",
    "def write_subset_input(metadata_df: pd.DataFrame, dataset_name: str) -> Path:\n",
    "    all_input_total = len(metadata_df)\n",
    "    cases_input = cases_dir_path / f'{dataset_name}_input-files-case.tsv'.replace(' ', '_')\n",
    "\n",
    "    input_df = metadata_df.copy().loc[metadata_df['dataSetName'] == dataset_name]\n",
    "    input_df['Sample'] = input_df['strain']\n",
    "    input_df['Assemblies'] = pd.NA\n",
    "    input_df['Reads1'] = input_df['Sample'].apply(lambda x: str((Path('data') / 'fastq' / (x + '_1.fastq.gz')).absolute()))\n",
    "    input_df['Reads2'] = input_df['Sample'].apply(lambda x: str((Path('data') / 'fastq' / (x + '_2.fastq.gz')).absolute()))\n",
    "    input_df = input_df[['Sample', 'Assemblies', 'Reads1', 'Reads2']]\n",
    "\n",
    "    input_df.to_csv(cases_input, sep='\\t', index=False)\n",
    "\n",
    "    subset_input_total = len(input_df)\n",
    "\n",
    "    print(f'Wrote dataset={dataset_name} consisting of {subset_input_total}/{all_input_total} samples to {cases_input}')\n",
    "    \n",
    "    return cases_input\n",
    "\n",
    "cases_inputs = {x: write_subset_input(metadata_df, dataset_name=x) for x in reference_files}\n",
    "cases_inputs"
   ]
  },
  {
   "cell_type": "markdown",
   "id": "f208279e-7558-47fc-9362-da29df92828a",
   "metadata": {
    "papermill": {
     "duration": 0.006802,
     "end_time": "2022-02-08T21:24:06.061481",
     "exception": false,
     "start_time": "2022-02-08T21:24:06.054679",
     "status": "completed"
    },
    "tags": []
   },
   "source": [
    "# 2. Index genomes"
   ]
  },
  {
   "cell_type": "code",
   "execution_count": 4,
   "id": "4e936f7c-2fcd-4188-b0e6-6b3ceb5cdcd2",
   "metadata": {
    "execution": {
     "iopub.execute_input": "2022-02-08T21:24:06.089620Z",
     "iopub.status.busy": "2022-02-08T21:24:06.079360Z",
     "iopub.status.idle": "2022-02-08T21:24:09.407252Z",
     "shell.execute_reply": "2022-02-08T21:24:09.408154Z"
    },
    "papermill": {
     "duration": 3.341001,
     "end_time": "2022-02-08T21:24:09.408507",
     "exception": false,
     "start_time": "2022-02-08T21:24:06.067506",
     "status": "completed"
    },
    "tags": []
   },
   "outputs": [
    {
     "name": "stdout",
     "output_type": "stream",
     "text": [
      "gdi, version 0.5.0\r\n"
     ]
    }
   ],
   "source": [
    "!gdi --version"
   ]
  },
  {
   "cell_type": "markdown",
   "id": "5409ecf8-2158-4361-9d2f-6b1a6c7c63a6",
   "metadata": {
    "papermill": {
     "duration": 0.006423,
     "end_time": "2022-02-08T21:24:09.457152",
     "exception": false,
     "start_time": "2022-02-08T21:24:09.450729",
     "status": "completed"
    },
    "tags": []
   },
   "source": [
    "## 2.1. Index reads"
   ]
  },
  {
   "cell_type": "code",
   "execution_count": 5,
   "id": "3d63e861-733e-46f2-8bce-bd1a2c7c7058",
   "metadata": {
    "execution": {
     "iopub.execute_input": "2022-02-08T21:24:09.479901Z",
     "iopub.status.busy": "2022-02-08T21:24:09.478516Z",
     "iopub.status.idle": "2022-02-09T00:50:20.464223Z",
     "shell.execute_reply": "2022-02-09T00:50:20.463175Z"
    },
    "papermill": {
     "duration": 12371.001368,
     "end_time": "2022-02-09T00:50:20.464600",
     "exception": false,
     "start_time": "2022-02-08T21:24:09.463232",
     "status": "completed"
    },
    "tags": []
   },
   "outputs": [
    {
     "name": "stdout",
     "output_type": "stream",
     "text": [
      "Creating new index: [gdi init cases/full/index]\n"
     ]
    },
    {
     "name": "stdout",
     "output_type": "stream",
     "text": [
      "Creating a new index took 3.32 seconds\n"
     ]
    },
    {
     "name": "stdout",
     "output_type": "stream",
     "text": [
      "\n",
      "Iteration 1 of index/analysis of 22 samples for reference=data/reference/campylobacter/GCA_001879185.2_ASM187918v2_genomic.gbk.gz with 32 cores\n",
      "Removing any extra snakemake directories: []\n",
      "Analysis running: [gdi --project-dir cases/full/index --ncores 32 analysis --use-conda --no-load-data --reference-file data/reference/campylobacter/GCA_001879185.2_ASM187918v2_genomic.gbk.gz --kmer-size 31 --kmer-size 51 --kmer-size 71 --include-kmer --reads-mincov 10 --input-structured-genomes-file cases/full/0810PADBR-1_input-files-case.tsv]\n"
     ]
    },
    {
     "name": "stdout",
     "output_type": "stream",
     "text": [
      "Analysis took 16.15 minutes\n",
      "Index running: [gdi --project-dir cases/full/index --ncores 32 load vcf-kmer --sample-batch-size 10 --reference-file data/reference/campylobacter/GCA_001879185.2_ASM187918v2_genomic.gbk.gz /home/CSCScience.ca/apetkau/workspace/genomics-data-index-evaluation/evaluations/reads/snakemake-assemblies.1644355456.9301004/gdi-input.fofn]\n"
     ]
    },
    {
     "name": "stdout",
     "output_type": "stream",
     "text": [
      "Indexing took 0.88 minutes\n",
      "Building tree: [gdi --project-dir cases/full/index --ncores 32 rebuild tree --align-type full --extra-params '--fast -m GTR+F+R4' GCA_001879185.2_ASM187918v2_genomic]\n"
     ]
    },
    {
     "name": "stdout",
     "output_type": "stream",
     "text": [
      "Building tree took 1.75 minutes\n"
     ]
    },
    {
     "name": "stderr",
     "output_type": "stream",
     "text": [
      "A reminder to myself to look for a Python solution for directory sizes (instead of running `du`)\n"
     ]
    },
    {
     "name": "stdout",
     "output_type": "stream",
     "text": [
      "\n",
      "Iteration 1 of index/analysis of 9 samples for reference=data/reference/ecoli/GCF_000703365.1_Ec2011C-3609_genomic.gbk.gz with 32 cores\n",
      "Removing any extra snakemake directories: ['snakemake-assemblies.1644355456.9301004']\n"
     ]
    },
    {
     "name": "stdout",
     "output_type": "stream",
     "text": [
      "Analysis running: [gdi --project-dir cases/full/index --ncores 32 analysis --use-conda --no-load-data --reference-file data/reference/ecoli/GCF_000703365.1_Ec2011C-3609_genomic.gbk.gz --kmer-size 31 --kmer-size 51 --kmer-size 71 --include-kmer --reads-mincov 10 --input-structured-genomes-file cases/full/1405WAEXK-1_input-files-case.tsv]\n"
     ]
    },
    {
     "name": "stdout",
     "output_type": "stream",
     "text": [
      "Analysis took 12.26 minutes\n",
      "Index running: [gdi --project-dir cases/full/index --ncores 32 load vcf-kmer --sample-batch-size 10 --reference-file data/reference/ecoli/GCF_000703365.1_Ec2011C-3609_genomic.gbk.gz /home/CSCScience.ca/apetkau/workspace/genomics-data-index-evaluation/evaluations/reads/snakemake-assemblies.1644356589.9788718/gdi-input.fofn]\n"
     ]
    },
    {
     "name": "stdout",
     "output_type": "stream",
     "text": [
      "Indexing took 3.61 minutes\n",
      "Building tree: [gdi --project-dir cases/full/index --ncores 32 rebuild tree --align-type full --extra-params '--fast -m GTR+F+R4' GCF_000703365.1_Ec2011C-3609_genomic]\n"
     ]
    },
    {
     "name": "stdout",
     "output_type": "stream",
     "text": [
      "Building tree took 1.61 minutes\n"
     ]
    },
    {
     "name": "stderr",
     "output_type": "stream",
     "text": [
      "Attempting to set global database_path_translator=<genomics_data_index.storage.model.db.DatabasePathTranslator.DatabasePathTranslator object at 0x7f3af2231df0> but it is already set\n"
     ]
    },
    {
     "name": "stderr",
     "output_type": "stream",
     "text": [
      "A reminder to myself to look for a Python solution for directory sizes (instead of running `du`)\n"
     ]
    },
    {
     "name": "stdout",
     "output_type": "stream",
     "text": [
      "\n",
      "Iteration 1 of index/analysis of 31 samples for reference=data/reference/listeria/GCF_001047715.2_ASM104771v2_genomic.gbk.gz with 32 cores\n",
      "Removing any extra snakemake directories: ['snakemake-assemblies.1644356589.9788718']\n"
     ]
    },
    {
     "name": "stdout",
     "output_type": "stream",
     "text": [
      "Analysis running: [gdi --project-dir cases/full/index --ncores 32 analysis --use-conda --no-load-data --reference-file data/reference/listeria/GCF_001047715.2_ASM104771v2_genomic.gbk.gz --kmer-size 31 --kmer-size 51 --kmer-size 71 --include-kmer --reads-mincov 10 --input-structured-genomes-file cases/full/1408MLGX6-3WGS_input-files-case.tsv]\n"
     ]
    },
    {
     "name": "stdout",
     "output_type": "stream",
     "text": [
      "Analysis took 12.39 minutes\n",
      "Index running: [gdi --project-dir cases/full/index --ncores 32 load vcf-kmer --sample-batch-size 10 --reference-file data/reference/listeria/GCF_001047715.2_ASM104771v2_genomic.gbk.gz /home/CSCScience.ca/apetkau/workspace/genomics-data-index-evaluation/evaluations/reads/snakemake-assemblies.1644357647.0070922/gdi-input.fofn]\n"
     ]
    },
    {
     "name": "stdout",
     "output_type": "stream",
     "text": [
      "Indexing took 1.95 minutes\n",
      "Building tree: [gdi --project-dir cases/full/index --ncores 32 rebuild tree --align-type full --extra-params '--fast -m GTR+F+R4' GCF_001047715.2_ASM104771v2_genomic]\n"
     ]
    },
    {
     "name": "stdout",
     "output_type": "stream",
     "text": [
      "Building tree took 2.11 minutes\n"
     ]
    },
    {
     "name": "stderr",
     "output_type": "stream",
     "text": [
      "Attempting to set global database_path_translator=<genomics_data_index.storage.model.db.DatabasePathTranslator.DatabasePathTranslator object at 0x7f3af1df11f0> but it is already set\n"
     ]
    },
    {
     "name": "stderr",
     "output_type": "stream",
     "text": [
      "A reminder to myself to look for a Python solution for directory sizes (instead of running `du`)\n"
     ]
    },
    {
     "name": "stdout",
     "output_type": "stream",
     "text": [
      "\n",
      "Iteration 1 of index/analysis of 23 samples for reference=data/reference/salmonella/GCF_000439415.1_ASM43941v1_genomic.gbk.gz with 32 cores\n",
      "Removing any extra snakemake directories: ['snakemake-assemblies.1644357647.0070922']\n"
     ]
    },
    {
     "name": "stdout",
     "output_type": "stream",
     "text": [
      "Analysis running: [gdi --project-dir cases/full/index --ncores 32 analysis --use-conda --no-load-data --reference-file data/reference/salmonella/GCF_000439415.1_ASM43941v1_genomic.gbk.gz --kmer-size 31 --kmer-size 51 --kmer-size 71 --include-kmer --reads-mincov 10 --input-structured-genomes-file cases/full/1203NYJAP-1_-_Tuna_Scrape_Outbreak_input-files-case.tsv]\n"
     ]
    },
    {
     "name": "stdout",
     "output_type": "stream",
     "text": [
      "Analysis took 9.05 minutes\n",
      "Index running: [gdi --project-dir cases/full/index --ncores 32 load vcf-kmer --sample-batch-size 10 --reference-file data/reference/salmonella/GCF_000439415.1_ASM43941v1_genomic.gbk.gz /home/CSCScience.ca/apetkau/workspace/genomics-data-index-evaluation/evaluations/reads/snakemake-assemblies.1644358638.9349027/gdi-input.fofn]\n"
     ]
    },
    {
     "name": "stdout",
     "output_type": "stream",
     "text": [
      "Indexing took 4.91 minutes\n",
      "Building tree: [gdi --project-dir cases/full/index --ncores 32 rebuild tree --align-type full --extra-params '--fast -m GTR+F+R4' GCF_000439415.1_ASM43941v1_genomic]\n"
     ]
    },
    {
     "name": "stdout",
     "output_type": "stream",
     "text": [
      "Building tree took 2.04 minutes\n"
     ]
    },
    {
     "name": "stderr",
     "output_type": "stream",
     "text": [
      "Attempting to set global database_path_translator=<genomics_data_index.storage.model.db.DatabasePathTranslator.DatabasePathTranslator object at 0x7f3af2120a00> but it is already set\n"
     ]
    },
    {
     "name": "stderr",
     "output_type": "stream",
     "text": [
      "A reminder to myself to look for a Python solution for directory sizes (instead of running `du`)\n"
     ]
    },
    {
     "name": "stdout",
     "output_type": "stream",
     "text": [
      "Removing any existing indexes cases/full/index\n",
      "Creating new index: [gdi init cases/full/index]\n"
     ]
    },
    {
     "name": "stdout",
     "output_type": "stream",
     "text": [
      "Creating a new index took 3.40 seconds\n"
     ]
    },
    {
     "name": "stdout",
     "output_type": "stream",
     "text": [
      "\n",
      "Iteration 2 of index/analysis of 22 samples for reference=data/reference/campylobacter/GCA_001879185.2_ASM187918v2_genomic.gbk.gz with 32 cores\n",
      "Removing any extra snakemake directories: ['snakemake-assemblies.1644358638.9349027']\n"
     ]
    },
    {
     "name": "stdout",
     "output_type": "stream",
     "text": [
      "Analysis running: [gdi --project-dir cases/full/index --ncores 32 analysis --use-conda --no-load-data --reference-file data/reference/campylobacter/GCA_001879185.2_ASM187918v2_genomic.gbk.gz --kmer-size 31 --kmer-size 51 --kmer-size 71 --include-kmer --reads-mincov 10 --input-structured-genomes-file cases/full/0810PADBR-1_input-files-case.tsv]\n"
     ]
    },
    {
     "name": "stdout",
     "output_type": "stream",
     "text": [
      "Analysis took 15.32 minutes\n",
      "Index running: [gdi --project-dir cases/full/index --ncores 32 load vcf-kmer --sample-batch-size 10 --reference-file data/reference/campylobacter/GCA_001879185.2_ASM187918v2_genomic.gbk.gz /home/CSCScience.ca/apetkau/workspace/genomics-data-index-evaluation/evaluations/reads/snakemake-assemblies.1644359606.104131/gdi-input.fofn]\n"
     ]
    },
    {
     "name": "stdout",
     "output_type": "stream",
     "text": [
      "Indexing took 0.86 minutes\n",
      "Building tree: [gdi --project-dir cases/full/index --ncores 32 rebuild tree --align-type full --extra-params '--fast -m GTR+F+R4' GCA_001879185.2_ASM187918v2_genomic]\n"
     ]
    },
    {
     "name": "stdout",
     "output_type": "stream",
     "text": [
      "Building tree took 1.78 minutes\n"
     ]
    },
    {
     "name": "stderr",
     "output_type": "stream",
     "text": [
      "Attempting to set global database_path_translator=<genomics_data_index.storage.model.db.DatabasePathTranslator.DatabasePathTranslator object at 0x7f3af24eb130> but it is already set\n"
     ]
    },
    {
     "name": "stderr",
     "output_type": "stream",
     "text": [
      "A reminder to myself to look for a Python solution for directory sizes (instead of running `du`)\n"
     ]
    },
    {
     "name": "stdout",
     "output_type": "stream",
     "text": [
      "\n",
      "Iteration 2 of index/analysis of 9 samples for reference=data/reference/ecoli/GCF_000703365.1_Ec2011C-3609_genomic.gbk.gz with 32 cores\n",
      "Removing any extra snakemake directories: ['snakemake-assemblies.1644359606.104131']\n"
     ]
    },
    {
     "name": "stdout",
     "output_type": "stream",
     "text": [
      "Analysis running: [gdi --project-dir cases/full/index --ncores 32 analysis --use-conda --no-load-data --reference-file data/reference/ecoli/GCF_000703365.1_Ec2011C-3609_genomic.gbk.gz --kmer-size 31 --kmer-size 51 --kmer-size 71 --include-kmer --reads-mincov 10 --input-structured-genomes-file cases/full/1405WAEXK-1_input-files-case.tsv]\n"
     ]
    },
    {
     "name": "stdout",
     "output_type": "stream",
     "text": [
      "Analysis took 11.98 minutes\n",
      "Index running: [gdi --project-dir cases/full/index --ncores 32 load vcf-kmer --sample-batch-size 10 --reference-file data/reference/ecoli/GCF_000703365.1_Ec2011C-3609_genomic.gbk.gz /home/CSCScience.ca/apetkau/workspace/genomics-data-index-evaluation/evaluations/reads/snakemake-assemblies.1644360688.4343693/gdi-input.fofn]\n"
     ]
    },
    {
     "name": "stdout",
     "output_type": "stream",
     "text": [
      "Indexing took 3.55 minutes\n",
      "Building tree: [gdi --project-dir cases/full/index --ncores 32 rebuild tree --align-type full --extra-params '--fast -m GTR+F+R4' GCF_000703365.1_Ec2011C-3609_genomic]\n"
     ]
    },
    {
     "name": "stdout",
     "output_type": "stream",
     "text": [
      "Building tree took 1.95 minutes\n"
     ]
    },
    {
     "name": "stderr",
     "output_type": "stream",
     "text": [
      "Attempting to set global database_path_translator=<genomics_data_index.storage.model.db.DatabasePathTranslator.DatabasePathTranslator object at 0x7f3af24fbcd0> but it is already set\n"
     ]
    },
    {
     "name": "stderr",
     "output_type": "stream",
     "text": [
      "A reminder to myself to look for a Python solution for directory sizes (instead of running `du`)\n"
     ]
    },
    {
     "name": "stdout",
     "output_type": "stream",
     "text": [
      "\n",
      "Iteration 2 of index/analysis of 31 samples for reference=data/reference/listeria/GCF_001047715.2_ASM104771v2_genomic.gbk.gz with 32 cores\n",
      "Removing any extra snakemake directories: ['snakemake-assemblies.1644360688.4343693']\n"
     ]
    },
    {
     "name": "stdout",
     "output_type": "stream",
     "text": [
      "Analysis running: [gdi --project-dir cases/full/index --ncores 32 analysis --use-conda --no-load-data --reference-file data/reference/listeria/GCF_001047715.2_ASM104771v2_genomic.gbk.gz --kmer-size 31 --kmer-size 51 --kmer-size 71 --include-kmer --reads-mincov 10 --input-structured-genomes-file cases/full/1408MLGX6-3WGS_input-files-case.tsv]\n"
     ]
    },
    {
     "name": "stdout",
     "output_type": "stream",
     "text": [
      "Analysis took 12.49 minutes\n",
      "Index running: [gdi --project-dir cases/full/index --ncores 32 load vcf-kmer --sample-batch-size 10 --reference-file data/reference/listeria/GCF_001047715.2_ASM104771v2_genomic.gbk.gz /home/CSCScience.ca/apetkau/workspace/genomics-data-index-evaluation/evaluations/reads/snakemake-assemblies.1644361741.3132155/gdi-input.fofn]\n"
     ]
    },
    {
     "name": "stdout",
     "output_type": "stream",
     "text": [
      "Indexing took 1.98 minutes\n",
      "Building tree: [gdi --project-dir cases/full/index --ncores 32 rebuild tree --align-type full --extra-params '--fast -m GTR+F+R4' GCF_001047715.2_ASM104771v2_genomic]\n"
     ]
    },
    {
     "name": "stdout",
     "output_type": "stream",
     "text": [
      "Building tree took 2.09 minutes\n"
     ]
    },
    {
     "name": "stderr",
     "output_type": "stream",
     "text": [
      "Attempting to set global database_path_translator=<genomics_data_index.storage.model.db.DatabasePathTranslator.DatabasePathTranslator object at 0x7f3af24e1130> but it is already set\n"
     ]
    },
    {
     "name": "stderr",
     "output_type": "stream",
     "text": [
      "A reminder to myself to look for a Python solution for directory sizes (instead of running `du`)\n"
     ]
    },
    {
     "name": "stdout",
     "output_type": "stream",
     "text": [
      "\n",
      "Iteration 2 of index/analysis of 23 samples for reference=data/reference/salmonella/GCF_000439415.1_ASM43941v1_genomic.gbk.gz with 32 cores\n",
      "Removing any extra snakemake directories: ['snakemake-assemblies.1644361741.3132155']\n"
     ]
    },
    {
     "name": "stdout",
     "output_type": "stream",
     "text": [
      "Analysis running: [gdi --project-dir cases/full/index --ncores 32 analysis --use-conda --no-load-data --reference-file data/reference/salmonella/GCF_000439415.1_ASM43941v1_genomic.gbk.gz --kmer-size 31 --kmer-size 51 --kmer-size 71 --include-kmer --reads-mincov 10 --input-structured-genomes-file cases/full/1203NYJAP-1_-_Tuna_Scrape_Outbreak_input-files-case.tsv]\n"
     ]
    },
    {
     "name": "stdout",
     "output_type": "stream",
     "text": [
      "Analysis took 9.37 minutes\n",
      "Index running: [gdi --project-dir cases/full/index --ncores 32 load vcf-kmer --sample-batch-size 10 --reference-file data/reference/salmonella/GCF_000439415.1_ASM43941v1_genomic.gbk.gz /home/CSCScience.ca/apetkau/workspace/genomics-data-index-evaluation/evaluations/reads/snakemake-assemblies.1644362740.5378377/gdi-input.fofn]\n"
     ]
    },
    {
     "name": "stdout",
     "output_type": "stream",
     "text": [
      "Indexing took 4.95 minutes\n",
      "Building tree: [gdi --project-dir cases/full/index --ncores 32 rebuild tree --align-type full --extra-params '--fast -m GTR+F+R4' GCF_000439415.1_ASM43941v1_genomic]\n"
     ]
    },
    {
     "name": "stdout",
     "output_type": "stream",
     "text": [
      "Building tree took 2.16 minutes\n"
     ]
    },
    {
     "name": "stderr",
     "output_type": "stream",
     "text": [
      "Attempting to set global database_path_translator=<genomics_data_index.storage.model.db.DatabasePathTranslator.DatabasePathTranslator object at 0x7f3af1df12b0> but it is already set\n"
     ]
    },
    {
     "name": "stderr",
     "output_type": "stream",
     "text": [
      "A reminder to myself to look for a Python solution for directory sizes (instead of running `du`)\n"
     ]
    },
    {
     "name": "stdout",
     "output_type": "stream",
     "text": [
      "Removing any existing indexes cases/full/index\n",
      "Creating new index: [gdi init cases/full/index]\n"
     ]
    },
    {
     "name": "stdout",
     "output_type": "stream",
     "text": [
      "Creating a new index took 3.42 seconds\n"
     ]
    },
    {
     "name": "stdout",
     "output_type": "stream",
     "text": [
      "\n",
      "Iteration 3 of index/analysis of 22 samples for reference=data/reference/campylobacter/GCA_001879185.2_ASM187918v2_genomic.gbk.gz with 32 cores\n",
      "Removing any extra snakemake directories: ['snakemake-assemblies.1644362740.5378377']\n"
     ]
    },
    {
     "name": "stdout",
     "output_type": "stream",
     "text": [
      "Analysis running: [gdi --project-dir cases/full/index --ncores 32 analysis --use-conda --no-load-data --reference-file data/reference/campylobacter/GCA_001879185.2_ASM187918v2_genomic.gbk.gz --kmer-size 31 --kmer-size 51 --kmer-size 71 --include-kmer --reads-mincov 10 --input-structured-genomes-file cases/full/0810PADBR-1_input-files-case.tsv]\n"
     ]
    },
    {
     "name": "stdout",
     "output_type": "stream",
     "text": [
      "Analysis took 15.33 minutes\n",
      "Index running: [gdi --project-dir cases/full/index --ncores 32 load vcf-kmer --sample-batch-size 10 --reference-file data/reference/campylobacter/GCA_001879185.2_ASM187918v2_genomic.gbk.gz /home/CSCScience.ca/apetkau/workspace/genomics-data-index-evaluation/evaluations/reads/snakemake-assemblies.1644363736.9374013/gdi-input.fofn]\n"
     ]
    },
    {
     "name": "stdout",
     "output_type": "stream",
     "text": [
      "Indexing took 0.92 minutes\n",
      "Building tree: [gdi --project-dir cases/full/index --ncores 32 rebuild tree --align-type full --extra-params '--fast -m GTR+F+R4' GCA_001879185.2_ASM187918v2_genomic]\n"
     ]
    },
    {
     "name": "stdout",
     "output_type": "stream",
     "text": [
      "Building tree took 1.34 minutes\n"
     ]
    },
    {
     "name": "stderr",
     "output_type": "stream",
     "text": [
      "Attempting to set global database_path_translator=<genomics_data_index.storage.model.db.DatabasePathTranslator.DatabasePathTranslator object at 0x7f3af277da60> but it is already set\n"
     ]
    },
    {
     "name": "stderr",
     "output_type": "stream",
     "text": [
      "A reminder to myself to look for a Python solution for directory sizes (instead of running `du`)\n"
     ]
    },
    {
     "name": "stdout",
     "output_type": "stream",
     "text": [
      "\n",
      "Iteration 3 of index/analysis of 9 samples for reference=data/reference/ecoli/GCF_000703365.1_Ec2011C-3609_genomic.gbk.gz with 32 cores\n",
      "Removing any extra snakemake directories: ['snakemake-assemblies.1644363736.9374013']\n"
     ]
    },
    {
     "name": "stdout",
     "output_type": "stream",
     "text": [
      "Analysis running: [gdi --project-dir cases/full/index --ncores 32 analysis --use-conda --no-load-data --reference-file data/reference/ecoli/GCF_000703365.1_Ec2011C-3609_genomic.gbk.gz --kmer-size 31 --kmer-size 51 --kmer-size 71 --include-kmer --reads-mincov 10 --input-structured-genomes-file cases/full/1405WAEXK-1_input-files-case.tsv]\n"
     ]
    },
    {
     "name": "stdout",
     "output_type": "stream",
     "text": [
      "Analysis took 12.19 minutes\n",
      "Index running: [gdi --project-dir cases/full/index --ncores 32 load vcf-kmer --sample-batch-size 10 --reference-file data/reference/ecoli/GCF_000703365.1_Ec2011C-3609_genomic.gbk.gz /home/CSCScience.ca/apetkau/workspace/genomics-data-index-evaluation/evaluations/reads/snakemake-assemblies.1644364797.6535573/gdi-input.fofn]\n"
     ]
    },
    {
     "name": "stdout",
     "output_type": "stream",
     "text": [
      "Indexing took 3.53 minutes\n",
      "Building tree: [gdi --project-dir cases/full/index --ncores 32 rebuild tree --align-type full --extra-params '--fast -m GTR+F+R4' GCF_000703365.1_Ec2011C-3609_genomic]\n"
     ]
    },
    {
     "name": "stdout",
     "output_type": "stream",
     "text": [
      "Building tree took 1.86 minutes\n"
     ]
    },
    {
     "name": "stderr",
     "output_type": "stream",
     "text": [
      "Attempting to set global database_path_translator=<genomics_data_index.storage.model.db.DatabasePathTranslator.DatabasePathTranslator object at 0x7f3af2120220> but it is already set\n"
     ]
    },
    {
     "name": "stderr",
     "output_type": "stream",
     "text": [
      "A reminder to myself to look for a Python solution for directory sizes (instead of running `du`)\n"
     ]
    },
    {
     "name": "stdout",
     "output_type": "stream",
     "text": [
      "\n",
      "Iteration 3 of index/analysis of 31 samples for reference=data/reference/listeria/GCF_001047715.2_ASM104771v2_genomic.gbk.gz with 32 cores\n",
      "Removing any extra snakemake directories: ['snakemake-assemblies.1644364797.6535573']\n"
     ]
    },
    {
     "name": "stdout",
     "output_type": "stream",
     "text": [
      "Analysis running: [gdi --project-dir cases/full/index --ncores 32 analysis --use-conda --no-load-data --reference-file data/reference/listeria/GCF_001047715.2_ASM104771v2_genomic.gbk.gz --kmer-size 31 --kmer-size 51 --kmer-size 71 --include-kmer --reads-mincov 10 --input-structured-genomes-file cases/full/1408MLGX6-3WGS_input-files-case.tsv]\n"
     ]
    },
    {
     "name": "stdout",
     "output_type": "stream",
     "text": [
      "Analysis took 12.19 minutes\n",
      "Index running: [gdi --project-dir cases/full/index --ncores 32 load vcf-kmer --sample-batch-size 10 --reference-file data/reference/listeria/GCF_001047715.2_ASM104771v2_genomic.gbk.gz /home/CSCScience.ca/apetkau/workspace/genomics-data-index-evaluation/evaluations/reads/snakemake-assemblies.1644365856.8611856/gdi-input.fofn]\n"
     ]
    },
    {
     "name": "stdout",
     "output_type": "stream",
     "text": [
      "Indexing took 1.93 minutes\n",
      "Building tree: [gdi --project-dir cases/full/index --ncores 32 rebuild tree --align-type full --extra-params '--fast -m GTR+F+R4' GCF_001047715.2_ASM104771v2_genomic]\n"
     ]
    },
    {
     "name": "stdout",
     "output_type": "stream",
     "text": [
      "Building tree took 2.42 minutes\n"
     ]
    },
    {
     "name": "stderr",
     "output_type": "stream",
     "text": [
      "Attempting to set global database_path_translator=<genomics_data_index.storage.model.db.DatabasePathTranslator.DatabasePathTranslator object at 0x7f3af2397eb0> but it is already set\n"
     ]
    },
    {
     "name": "stderr",
     "output_type": "stream",
     "text": [
      "A reminder to myself to look for a Python solution for directory sizes (instead of running `du`)\n"
     ]
    },
    {
     "name": "stdout",
     "output_type": "stream",
     "text": [
      "\n",
      "Iteration 3 of index/analysis of 23 samples for reference=data/reference/salmonella/GCF_000439415.1_ASM43941v1_genomic.gbk.gz with 32 cores\n",
      "Removing any extra snakemake directories: ['snakemake-assemblies.1644365856.8611856']\n"
     ]
    },
    {
     "name": "stdout",
     "output_type": "stream",
     "text": [
      "Analysis running: [gdi --project-dir cases/full/index --ncores 32 analysis --use-conda --no-load-data --reference-file data/reference/salmonella/GCF_000439415.1_ASM43941v1_genomic.gbk.gz --kmer-size 31 --kmer-size 51 --kmer-size 71 --include-kmer --reads-mincov 10 --input-structured-genomes-file cases/full/1203NYJAP-1_-_Tuna_Scrape_Outbreak_input-files-case.tsv]\n"
     ]
    },
    {
     "name": "stdout",
     "output_type": "stream",
     "text": [
      "Analysis took 9.43 minutes\n",
      "Index running: [gdi --project-dir cases/full/index --ncores 32 load vcf-kmer --sample-batch-size 10 --reference-file data/reference/salmonella/GCF_000439415.1_ASM43941v1_genomic.gbk.gz /home/CSCScience.ca/apetkau/workspace/genomics-data-index-evaluation/evaluations/reads/snakemake-assemblies.1644366855.186532/gdi-input.fofn]\n"
     ]
    },
    {
     "name": "stdout",
     "output_type": "stream",
     "text": [
      "Indexing took 4.93 minutes\n",
      "Building tree: [gdi --project-dir cases/full/index --ncores 32 rebuild tree --align-type full --extra-params '--fast -m GTR+F+R4' GCF_000439415.1_ASM43941v1_genomic]\n"
     ]
    },
    {
     "name": "stdout",
     "output_type": "stream",
     "text": [
      "Building tree took 1.76 minutes\n"
     ]
    },
    {
     "name": "stderr",
     "output_type": "stream",
     "text": [
      "Attempting to set global database_path_translator=<genomics_data_index.storage.model.db.DatabasePathTranslator.DatabasePathTranslator object at 0x7f3af2397c40> but it is already set\n"
     ]
    },
    {
     "name": "stderr",
     "output_type": "stream",
     "text": [
      "A reminder to myself to look for a Python solution for directory sizes (instead of running `du`)\n"
     ]
    },
    {
     "name": "stdout",
     "output_type": "stream",
     "text": [
      "***Finished benchmarking, took 206.18 minutes***\n"
     ]
    }
   ],
   "source": [
    "import time\n",
    "\n",
    "start = time.time()\n",
    "benchmarker = gdi_benchmark.IndexBenchmarkerMultiple(index_path=index_path, input_files_files=cases_inputs,\n",
    "                                             reference_files=reference_files, mincov=mincov,\n",
    "                                             build_tree=build_tree,\n",
    "                                             ncores=ncores,\n",
    "                                             sample_batch_size=sample_batch_size)\n",
    "benchmark_df = benchmarker.benchmark(iterations=iterations)\n",
    "end = time.time()\n",
    "print(f'***Finished benchmarking, took {(end - start)/60:0.2f} minutes***')"
   ]
  },
  {
   "cell_type": "code",
   "execution_count": 6,
   "id": "3bcb6da7-0164-47f2-abdd-a4c159da1e3b",
   "metadata": {
    "execution": {
     "iopub.execute_input": "2022-02-09T00:50:20.533462Z",
     "iopub.status.busy": "2022-02-09T00:50:20.532265Z",
     "iopub.status.idle": "2022-02-09T00:50:20.570708Z",
     "shell.execute_reply": "2022-02-09T00:50:20.571636Z"
    },
    "papermill": {
     "duration": 0.070652,
     "end_time": "2022-02-09T00:50:20.571927",
     "exception": false,
     "start_time": "2022-02-09T00:50:20.501275",
     "status": "completed"
    },
    "tags": []
   },
   "outputs": [
    {
     "data": {
      "text/html": [
       "<div>\n",
       "<style scoped>\n",
       "    .dataframe tbody tr th:only-of-type {\n",
       "        vertical-align: middle;\n",
       "    }\n",
       "\n",
       "    .dataframe tbody tr th {\n",
       "        vertical-align: top;\n",
       "    }\n",
       "\n",
       "    .dataframe thead th {\n",
       "        text-align: right;\n",
       "    }\n",
       "</style>\n",
       "<table border=\"1\" class=\"dataframe\">\n",
       "  <thead>\n",
       "    <tr style=\"text-align: right;\">\n",
       "      <th></th>\n",
       "      <th>Name</th>\n",
       "      <th>Iteration</th>\n",
       "      <th>Number samples</th>\n",
       "      <th>Number features (all)</th>\n",
       "      <th>Number features (no unknown)</th>\n",
       "      <th>Number cores</th>\n",
       "      <th>Reference length</th>\n",
       "      <th>Analysis runtime</th>\n",
       "      <th>Analysis memory (max)</th>\n",
       "      <th>Analysis memory (max/process)</th>\n",
       "      <th>Analysis disk uage</th>\n",
       "      <th>Index runtime</th>\n",
       "      <th>Index memory (max)</th>\n",
       "      <th>Index memory (max/process)</th>\n",
       "      <th>Index size</th>\n",
       "      <th>Tree runtime</th>\n",
       "      <th>Tree memory (max)</th>\n",
       "      <th>Tree memory (max/process)</th>\n",
       "      <th>Total runtime</th>\n",
       "      <th>Max memory</th>\n",
       "    </tr>\n",
       "  </thead>\n",
       "  <tbody>\n",
       "    <tr>\n",
       "      <th>0</th>\n",
       "      <td>0810PADBR-1</td>\n",
       "      <td>1</td>\n",
       "      <td>22</td>\n",
       "      <td>45117</td>\n",
       "      <td>1102</td>\n",
       "      <td>32</td>\n",
       "      <td>1634890</td>\n",
       "      <td>969.08</td>\n",
       "      <td>3.163837e+10</td>\n",
       "      <td>3.428127e+09</td>\n",
       "      <td>1.201150e+10</td>\n",
       "      <td>52.91</td>\n",
       "      <td>1.235374e+10</td>\n",
       "      <td>7.402291e+08</td>\n",
       "      <td>46665728.0</td>\n",
       "      <td>105.17</td>\n",
       "      <td>5.443912e+08</td>\n",
       "      <td>275349504.0</td>\n",
       "      <td>1127.16</td>\n",
       "      <td>3.163837e+10</td>\n",
       "    </tr>\n",
       "    <tr>\n",
       "      <th>0</th>\n",
       "      <td>1405WAEXK-1</td>\n",
       "      <td>1</td>\n",
       "      <td>9</td>\n",
       "      <td>45117</td>\n",
       "      <td>1102</td>\n",
       "      <td>32</td>\n",
       "      <td>5412686</td>\n",
       "      <td>735.64</td>\n",
       "      <td>9.107980e+09</td>\n",
       "      <td>1.683624e+09</td>\n",
       "      <td>6.563504e+09</td>\n",
       "      <td>216.23</td>\n",
       "      <td>9.673462e+09</td>\n",
       "      <td>3.800670e+09</td>\n",
       "      <td>134737920.0</td>\n",
       "      <td>96.33</td>\n",
       "      <td>8.176353e+08</td>\n",
       "      <td>459063296.0</td>\n",
       "      <td>1048.20</td>\n",
       "      <td>9.673462e+09</td>\n",
       "    </tr>\n",
       "    <tr>\n",
       "      <th>0</th>\n",
       "      <td>1408MLGX6-3WGS</td>\n",
       "      <td>1</td>\n",
       "      <td>31</td>\n",
       "      <td>45117</td>\n",
       "      <td>1102</td>\n",
       "      <td>32</td>\n",
       "      <td>2939733</td>\n",
       "      <td>743.46</td>\n",
       "      <td>2.859383e+10</td>\n",
       "      <td>1.928933e+09</td>\n",
       "      <td>1.081554e+10</td>\n",
       "      <td>116.57</td>\n",
       "      <td>1.680535e+10</td>\n",
       "      <td>9.866117e+08</td>\n",
       "      <td>174526464.0</td>\n",
       "      <td>126.51</td>\n",
       "      <td>9.937183e+08</td>\n",
       "      <td>660197376.0</td>\n",
       "      <td>986.54</td>\n",
       "      <td>2.859383e+10</td>\n",
       "    </tr>\n",
       "    <tr>\n",
       "      <th>0</th>\n",
       "      <td>1203NYJAP-1 - Tuna Scrape Outbreak</td>\n",
       "      <td>1</td>\n",
       "      <td>23</td>\n",
       "      <td>45117</td>\n",
       "      <td>1102</td>\n",
       "      <td>32</td>\n",
       "      <td>4808805</td>\n",
       "      <td>542.71</td>\n",
       "      <td>2.064738e+10</td>\n",
       "      <td>1.370657e+09</td>\n",
       "      <td>9.024676e+09</td>\n",
       "      <td>294.53</td>\n",
       "      <td>4.627037e+10</td>\n",
       "      <td>3.002397e+09</td>\n",
       "      <td>252043264.0</td>\n",
       "      <td>122.26</td>\n",
       "      <td>1.333158e+09</td>\n",
       "      <td>869711872.0</td>\n",
       "      <td>959.50</td>\n",
       "      <td>4.627037e+10</td>\n",
       "    </tr>\n",
       "    <tr>\n",
       "      <th>0</th>\n",
       "      <td>0810PADBR-1</td>\n",
       "      <td>2</td>\n",
       "      <td>22</td>\n",
       "      <td>45117</td>\n",
       "      <td>1102</td>\n",
       "      <td>32</td>\n",
       "      <td>1634890</td>\n",
       "      <td>918.73</td>\n",
       "      <td>3.078411e+10</td>\n",
       "      <td>3.428184e+09</td>\n",
       "      <td>1.201149e+10</td>\n",
       "      <td>51.36</td>\n",
       "      <td>1.377599e+10</td>\n",
       "      <td>7.449108e+08</td>\n",
       "      <td>46403584.0</td>\n",
       "      <td>106.84</td>\n",
       "      <td>5.440922e+08</td>\n",
       "      <td>275890176.0</td>\n",
       "      <td>1076.93</td>\n",
       "      <td>3.078411e+10</td>\n",
       "    </tr>\n",
       "    <tr>\n",
       "      <th>0</th>\n",
       "      <td>1405WAEXK-1</td>\n",
       "      <td>2</td>\n",
       "      <td>9</td>\n",
       "      <td>45117</td>\n",
       "      <td>1102</td>\n",
       "      <td>32</td>\n",
       "      <td>5412686</td>\n",
       "      <td>718.66</td>\n",
       "      <td>8.670171e+09</td>\n",
       "      <td>1.683505e+09</td>\n",
       "      <td>6.563508e+09</td>\n",
       "      <td>212.72</td>\n",
       "      <td>8.914026e+09</td>\n",
       "      <td>3.803709e+09</td>\n",
       "      <td>134504448.0</td>\n",
       "      <td>116.89</td>\n",
       "      <td>8.169308e+08</td>\n",
       "      <td>459284480.0</td>\n",
       "      <td>1048.27</td>\n",
       "      <td>8.914026e+09</td>\n",
       "    </tr>\n",
       "    <tr>\n",
       "      <th>0</th>\n",
       "      <td>1408MLGX6-3WGS</td>\n",
       "      <td>2</td>\n",
       "      <td>31</td>\n",
       "      <td>45117</td>\n",
       "      <td>1102</td>\n",
       "      <td>32</td>\n",
       "      <td>2939733</td>\n",
       "      <td>749.41</td>\n",
       "      <td>2.807024e+10</td>\n",
       "      <td>1.928933e+09</td>\n",
       "      <td>1.081550e+10</td>\n",
       "      <td>118.72</td>\n",
       "      <td>1.680661e+10</td>\n",
       "      <td>1.037353e+09</td>\n",
       "      <td>173465600.0</td>\n",
       "      <td>125.41</td>\n",
       "      <td>9.928786e+08</td>\n",
       "      <td>660254720.0</td>\n",
       "      <td>993.54</td>\n",
       "      <td>2.807024e+10</td>\n",
       "    </tr>\n",
       "    <tr>\n",
       "      <th>0</th>\n",
       "      <td>1203NYJAP-1 - Tuna Scrape Outbreak</td>\n",
       "      <td>2</td>\n",
       "      <td>23</td>\n",
       "      <td>45117</td>\n",
       "      <td>1102</td>\n",
       "      <td>32</td>\n",
       "      <td>4808805</td>\n",
       "      <td>562.04</td>\n",
       "      <td>1.919409e+10</td>\n",
       "      <td>1.370464e+09</td>\n",
       "      <td>9.024688e+09</td>\n",
       "      <td>296.85</td>\n",
       "      <td>3.771182e+10</td>\n",
       "      <td>2.726552e+09</td>\n",
       "      <td>249270272.0</td>\n",
       "      <td>129.44</td>\n",
       "      <td>1.334055e+09</td>\n",
       "      <td>869912576.0</td>\n",
       "      <td>988.33</td>\n",
       "      <td>3.771182e+10</td>\n",
       "    </tr>\n",
       "    <tr>\n",
       "      <th>0</th>\n",
       "      <td>0810PADBR-1</td>\n",
       "      <td>3</td>\n",
       "      <td>22</td>\n",
       "      <td>45117</td>\n",
       "      <td>1102</td>\n",
       "      <td>32</td>\n",
       "      <td>1634890</td>\n",
       "      <td>919.80</td>\n",
       "      <td>3.076841e+10</td>\n",
       "      <td>3.428151e+09</td>\n",
       "      <td>1.201148e+10</td>\n",
       "      <td>55.00</td>\n",
       "      <td>1.507837e+10</td>\n",
       "      <td>7.402127e+08</td>\n",
       "      <td>46637056.0</td>\n",
       "      <td>80.24</td>\n",
       "      <td>5.438095e+08</td>\n",
       "      <td>275492864.0</td>\n",
       "      <td>1055.04</td>\n",
       "      <td>3.076841e+10</td>\n",
       "    </tr>\n",
       "    <tr>\n",
       "      <th>0</th>\n",
       "      <td>1405WAEXK-1</td>\n",
       "      <td>3</td>\n",
       "      <td>9</td>\n",
       "      <td>45117</td>\n",
       "      <td>1102</td>\n",
       "      <td>32</td>\n",
       "      <td>5412686</td>\n",
       "      <td>731.42</td>\n",
       "      <td>8.699195e+09</td>\n",
       "      <td>1.683472e+09</td>\n",
       "      <td>6.563488e+09</td>\n",
       "      <td>211.65</td>\n",
       "      <td>9.736053e+09</td>\n",
       "      <td>3.804434e+09</td>\n",
       "      <td>134230016.0</td>\n",
       "      <td>111.76</td>\n",
       "      <td>8.185774e+08</td>\n",
       "      <td>459481088.0</td>\n",
       "      <td>1054.83</td>\n",
       "      <td>9.736053e+09</td>\n",
       "    </tr>\n",
       "    <tr>\n",
       "      <th>0</th>\n",
       "      <td>1408MLGX6-3WGS</td>\n",
       "      <td>3</td>\n",
       "      <td>31</td>\n",
       "      <td>45117</td>\n",
       "      <td>1102</td>\n",
       "      <td>32</td>\n",
       "      <td>2939733</td>\n",
       "      <td>731.28</td>\n",
       "      <td>2.839228e+10</td>\n",
       "      <td>1.928937e+09</td>\n",
       "      <td>1.081551e+10</td>\n",
       "      <td>115.79</td>\n",
       "      <td>1.650647e+10</td>\n",
       "      <td>9.757164e+08</td>\n",
       "      <td>173694976.0</td>\n",
       "      <td>145.20</td>\n",
       "      <td>9.933414e+08</td>\n",
       "      <td>659890176.0</td>\n",
       "      <td>992.27</td>\n",
       "      <td>2.839228e+10</td>\n",
       "    </tr>\n",
       "    <tr>\n",
       "      <th>0</th>\n",
       "      <td>1203NYJAP-1 - Tuna Scrape Outbreak</td>\n",
       "      <td>3</td>\n",
       "      <td>23</td>\n",
       "      <td>45117</td>\n",
       "      <td>1102</td>\n",
       "      <td>32</td>\n",
       "      <td>4808805</td>\n",
       "      <td>565.91</td>\n",
       "      <td>2.014305e+10</td>\n",
       "      <td>1.370489e+09</td>\n",
       "      <td>9.024639e+09</td>\n",
       "      <td>295.36</td>\n",
       "      <td>3.683536e+10</td>\n",
       "      <td>2.796548e+09</td>\n",
       "      <td>252297216.0</td>\n",
       "      <td>105.75</td>\n",
       "      <td>1.334977e+09</td>\n",
       "      <td>870371328.0</td>\n",
       "      <td>967.02</td>\n",
       "      <td>3.683536e+10</td>\n",
       "    </tr>\n",
       "  </tbody>\n",
       "</table>\n",
       "</div>"
      ],
      "text/plain": [
       "                                 Name  Iteration  Number samples  \\\n",
       "0                         0810PADBR-1          1              22   \n",
       "0                         1405WAEXK-1          1               9   \n",
       "0                      1408MLGX6-3WGS          1              31   \n",
       "0  1203NYJAP-1 - Tuna Scrape Outbreak          1              23   \n",
       "0                         0810PADBR-1          2              22   \n",
       "0                         1405WAEXK-1          2               9   \n",
       "0                      1408MLGX6-3WGS          2              31   \n",
       "0  1203NYJAP-1 - Tuna Scrape Outbreak          2              23   \n",
       "0                         0810PADBR-1          3              22   \n",
       "0                         1405WAEXK-1          3               9   \n",
       "0                      1408MLGX6-3WGS          3              31   \n",
       "0  1203NYJAP-1 - Tuna Scrape Outbreak          3              23   \n",
       "\n",
       "   Number features (all)  Number features (no unknown)  Number cores  \\\n",
       "0                  45117                          1102            32   \n",
       "0                  45117                          1102            32   \n",
       "0                  45117                          1102            32   \n",
       "0                  45117                          1102            32   \n",
       "0                  45117                          1102            32   \n",
       "0                  45117                          1102            32   \n",
       "0                  45117                          1102            32   \n",
       "0                  45117                          1102            32   \n",
       "0                  45117                          1102            32   \n",
       "0                  45117                          1102            32   \n",
       "0                  45117                          1102            32   \n",
       "0                  45117                          1102            32   \n",
       "\n",
       "   Reference length  Analysis runtime  Analysis memory (max)  \\\n",
       "0           1634890            969.08           3.163837e+10   \n",
       "0           5412686            735.64           9.107980e+09   \n",
       "0           2939733            743.46           2.859383e+10   \n",
       "0           4808805            542.71           2.064738e+10   \n",
       "0           1634890            918.73           3.078411e+10   \n",
       "0           5412686            718.66           8.670171e+09   \n",
       "0           2939733            749.41           2.807024e+10   \n",
       "0           4808805            562.04           1.919409e+10   \n",
       "0           1634890            919.80           3.076841e+10   \n",
       "0           5412686            731.42           8.699195e+09   \n",
       "0           2939733            731.28           2.839228e+10   \n",
       "0           4808805            565.91           2.014305e+10   \n",
       "\n",
       "   Analysis memory (max/process)  Analysis disk uage  Index runtime  \\\n",
       "0                   3.428127e+09        1.201150e+10          52.91   \n",
       "0                   1.683624e+09        6.563504e+09         216.23   \n",
       "0                   1.928933e+09        1.081554e+10         116.57   \n",
       "0                   1.370657e+09        9.024676e+09         294.53   \n",
       "0                   3.428184e+09        1.201149e+10          51.36   \n",
       "0                   1.683505e+09        6.563508e+09         212.72   \n",
       "0                   1.928933e+09        1.081550e+10         118.72   \n",
       "0                   1.370464e+09        9.024688e+09         296.85   \n",
       "0                   3.428151e+09        1.201148e+10          55.00   \n",
       "0                   1.683472e+09        6.563488e+09         211.65   \n",
       "0                   1.928937e+09        1.081551e+10         115.79   \n",
       "0                   1.370489e+09        9.024639e+09         295.36   \n",
       "\n",
       "   Index memory (max)  Index memory (max/process)   Index size  Tree runtime  \\\n",
       "0        1.235374e+10                7.402291e+08   46665728.0        105.17   \n",
       "0        9.673462e+09                3.800670e+09  134737920.0         96.33   \n",
       "0        1.680535e+10                9.866117e+08  174526464.0        126.51   \n",
       "0        4.627037e+10                3.002397e+09  252043264.0        122.26   \n",
       "0        1.377599e+10                7.449108e+08   46403584.0        106.84   \n",
       "0        8.914026e+09                3.803709e+09  134504448.0        116.89   \n",
       "0        1.680661e+10                1.037353e+09  173465600.0        125.41   \n",
       "0        3.771182e+10                2.726552e+09  249270272.0        129.44   \n",
       "0        1.507837e+10                7.402127e+08   46637056.0         80.24   \n",
       "0        9.736053e+09                3.804434e+09  134230016.0        111.76   \n",
       "0        1.650647e+10                9.757164e+08  173694976.0        145.20   \n",
       "0        3.683536e+10                2.796548e+09  252297216.0        105.75   \n",
       "\n",
       "   Tree memory (max)  Tree memory (max/process)  Total runtime    Max memory  \n",
       "0       5.443912e+08                275349504.0        1127.16  3.163837e+10  \n",
       "0       8.176353e+08                459063296.0        1048.20  9.673462e+09  \n",
       "0       9.937183e+08                660197376.0         986.54  2.859383e+10  \n",
       "0       1.333158e+09                869711872.0         959.50  4.627037e+10  \n",
       "0       5.440922e+08                275890176.0        1076.93  3.078411e+10  \n",
       "0       8.169308e+08                459284480.0        1048.27  8.914026e+09  \n",
       "0       9.928786e+08                660254720.0         993.54  2.807024e+10  \n",
       "0       1.334055e+09                869912576.0         988.33  3.771182e+10  \n",
       "0       5.438095e+08                275492864.0        1055.04  3.076841e+10  \n",
       "0       8.185774e+08                459481088.0        1054.83  9.736053e+09  \n",
       "0       9.933414e+08                659890176.0         992.27  2.839228e+10  \n",
       "0       1.334977e+09                870371328.0         967.02  3.683536e+10  "
      ]
     },
     "execution_count": 6,
     "metadata": {},
     "output_type": "execute_result"
    }
   ],
   "source": [
    "benchmark_df"
   ]
  },
  {
   "cell_type": "code",
   "execution_count": 7,
   "id": "535a9ccc-ab9c-4919-806f-128e1efd2389",
   "metadata": {
    "execution": {
     "iopub.execute_input": "2022-02-09T00:50:20.639292Z",
     "iopub.status.busy": "2022-02-09T00:50:20.638325Z",
     "iopub.status.idle": "2022-02-09T00:50:20.644374Z",
     "shell.execute_reply": "2022-02-09T00:50:20.644072Z"
    },
    "papermill": {
     "duration": 0.034272,
     "end_time": "2022-02-09T00:50:20.644462",
     "exception": false,
     "start_time": "2022-02-09T00:50:20.610190",
     "status": "completed"
    },
    "tags": []
   },
   "outputs": [],
   "source": [
    "benchmark_df.to_csv(benchmark_path, sep='\\t', index=False)"
   ]
  },
  {
   "cell_type": "markdown",
   "id": "6cb7673b-9f85-4c43-b2e2-93538497a196",
   "metadata": {
    "papermill": {
     "duration": 0.021302,
     "end_time": "2022-02-09T00:50:20.689610",
     "exception": false,
     "start_time": "2022-02-09T00:50:20.668308",
     "status": "completed"
    },
    "tags": []
   },
   "source": [
    "# 3. Export trees"
   ]
  },
  {
   "cell_type": "code",
   "execution_count": 8,
   "id": "5280f82c-5434-4391-8c44-b937a7c95bd5",
   "metadata": {
    "execution": {
     "iopub.execute_input": "2022-02-09T00:50:20.758763Z",
     "iopub.status.busy": "2022-02-09T00:50:20.750057Z",
     "iopub.status.idle": "2022-02-09T00:50:34.170969Z",
     "shell.execute_reply": "2022-02-09T00:50:34.171853Z"
    },
    "papermill": {
     "duration": 13.461251,
     "end_time": "2022-02-09T00:50:34.172194",
     "exception": false,
     "start_time": "2022-02-09T00:50:20.710943",
     "status": "completed"
    },
    "tags": []
   },
   "outputs": [],
   "source": [
    "if build_tree:\n",
    "    # Using variables with shell commands in Jupyter isn't working for me so I have to avoid using them\n",
    "    !gdi --project-dir cases/full/index export tree GCA_001879185.2_ASM187918v2_genomic > cases/full/0810PADBR-1_tree.tre\n",
    "    !gdi --project-dir cases/full/index export tree GCF_000703365.1_Ec2011C-3609_genomic > cases/full/1405WAEXK-1_tree.tre\n",
    "    !gdi --project-dir cases/full/index export tree GCF_001047715.2_ASM104771v2_genomic > cases/full/1408MLGX6-3WGS_tree.tre\n",
    "    !gdi --project-dir cases/full/index export tree GCF_000439415.1_ASM43941v1_genomic > cases/full/1203NYJAP-1_-_Tuna_Scrape_Outbreak_tree.tre\n",
    "else:\n",
    "    print(f'build_tree={build_tree} so no trees to export')"
   ]
  },
  {
   "cell_type": "code",
   "execution_count": null,
   "id": "3162d923-834f-45f6-b4cc-653d9a1e1d97",
   "metadata": {
    "papermill": {
     "duration": 0.035842,
     "end_time": "2022-02-09T00:50:34.251319",
     "exception": false,
     "start_time": "2022-02-09T00:50:34.215477",
     "status": "completed"
    },
    "tags": []
   },
   "outputs": [],
   "source": []
  }
 ],
 "metadata": {
  "kernelspec": {
   "display_name": "Python 3 (ipykernel)",
   "language": "python",
   "name": "python3"
  },
  "language_info": {
   "codemirror_mode": {
    "name": "ipython",
    "version": 3
   },
   "file_extension": ".py",
   "mimetype": "text/x-python",
   "name": "python",
   "nbconvert_exporter": "python",
   "pygments_lexer": "ipython3",
   "version": "3.8.12"
  },
  "papermill": {
   "default_parameters": {},
   "duration": 12394.54905,
   "end_time": "2022-02-09T00:50:34.928839",
   "environment_variables": {},
   "exception": null,
   "input_path": "template-3-index-genomes.ipynb",
   "output_path": "3-index-genomes.ipynb",
   "parameters": {},
   "start_time": "2022-02-08T21:24:00.379789",
   "version": "2.3.4"
  }
 },
 "nbformat": 4,
 "nbformat_minor": 5
}