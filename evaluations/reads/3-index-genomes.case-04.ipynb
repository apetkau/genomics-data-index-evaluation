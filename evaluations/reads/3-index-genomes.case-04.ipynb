{
 "cells": [
  {
   "cell_type": "markdown",
   "id": "7d3667b4-b1f8-4347-96e3-830c25b06740",
   "metadata": {
    "papermill": {
     "duration": 0.020998,
     "end_time": "2022-03-17T21:02:59.449284",
     "exception": false,
     "start_time": "2022-03-17T21:02:59.428286",
     "status": "completed"
    },
    "tags": []
   },
   "source": [
    "# 1. Parameters"
   ]
  },
  {
   "cell_type": "code",
   "execution_count": 1,
   "id": "d4ab0749-b286-4c34-b63c-a854e4952bae",
   "metadata": {
    "execution": {
     "iopub.execute_input": "2022-03-17T21:02:59.481057Z",
     "iopub.status.busy": "2022-03-17T21:02:59.480502Z",
     "iopub.status.idle": "2022-03-17T21:02:59.484530Z",
     "shell.execute_reply": "2022-03-17T21:02:59.484939Z"
    },
    "papermill": {
     "duration": 0.026368,
     "end_time": "2022-03-17T21:02:59.485156",
     "exception": false,
     "start_time": "2022-03-17T21:02:59.458788",
     "status": "completed"
    },
    "tags": [
     "parameters"
    ]
   },
   "outputs": [],
   "source": [
    "# Defaults\n",
    "cases_dir = 'cases/unset'\n",
    "metadata_file = 'metadata.tsv'\n",
    "iterations = 3\n",
    "mincov = 10\n",
    "ncores = 4\n",
    "max_samples_per_organism = 4\n",
    "full_dataset = False\n",
    "single_index = False\n",
    "\n",
    "build_tree = True\n",
    "sample_batch_size=10"
   ]
  },
  {
   "cell_type": "code",
   "execution_count": 2,
   "id": "fa062b3e",
   "metadata": {
    "execution": {
     "iopub.execute_input": "2022-03-17T21:02:59.509981Z",
     "iopub.status.busy": "2022-03-17T21:02:59.509559Z",
     "iopub.status.idle": "2022-03-17T21:02:59.512722Z",
     "shell.execute_reply": "2022-03-17T21:02:59.513025Z"
    },
    "papermill": {
     "duration": 0.016514,
     "end_time": "2022-03-17T21:02:59.513132",
     "exception": false,
     "start_time": "2022-03-17T21:02:59.496618",
     "status": "completed"
    },
    "tags": [
     "injected-parameters"
    ]
   },
   "outputs": [],
   "source": [
    "# Parameters\n",
    "cases_dir = \"cases/case-04\"\n",
    "iterations = 3\n",
    "max_samples_per_organism = 4\n",
    "full_dataset = False\n",
    "single_index = False\n",
    "build_tree = True\n"
   ]
  },
  {
   "cell_type": "code",
   "execution_count": 3,
   "id": "ce5962e4-261c-4210-b39b-47044e28466b",
   "metadata": {
    "execution": {
     "iopub.execute_input": "2022-03-17T21:02:59.539538Z",
     "iopub.status.busy": "2022-03-17T21:02:59.539039Z",
     "iopub.status.idle": "2022-03-17T21:03:02.319982Z",
     "shell.execute_reply": "2022-03-17T21:03:02.320910Z"
    },
    "papermill": {
     "duration": 2.801294,
     "end_time": "2022-03-17T21:03:02.321201",
     "exception": false,
     "start_time": "2022-03-17T21:02:59.519907",
     "status": "completed"
    },
    "tags": []
   },
   "outputs": [
    {
     "data": {
      "text/plain": [
       "{'0810PADBR-1': PosixPath('cases/case-04/0810PADBR-1_tree.tre'),\n",
       " '1405WAEXK-1': PosixPath('cases/case-04/1405WAEXK-1_tree.tre'),\n",
       " '1408MLGX6-3WGS': PosixPath('cases/case-04/1408MLGX6-3WGS_tree.tre'),\n",
       " '1203NYJAP-1 - Tuna Scrape Outbreak': PosixPath('cases/case-04/1203NYJAP-1_-_Tuna_Scrape_Outbreak_tree.tre')}"
      ]
     },
     "execution_count": 3,
     "metadata": {},
     "output_type": "execute_result"
    }
   ],
   "source": [
    "from pathlib import Path\n",
    "from shutil import rmtree\n",
    "from os import makedirs\n",
    "import imp\n",
    "fp, pathname, description = imp.find_module('gdi_benchmark', ['../../lib'])\n",
    "gdi_benchmark = imp.load_module('gdi_benchmark', fp, pathname, description)\n",
    "\n",
    "if full_dataset:\n",
    "    max_samples_per_organism = None\n",
    "\n",
    "reference_files = {\n",
    "    '0810PADBR-1': Path('data/reference/campylobacter/GCA_001879185.2_ASM187918v2_genomic.gbk.gz'),\n",
    "    '1405WAEXK-1': Path('data/reference/ecoli/GCF_000703365.1_Ec2011C-3609_genomic.gbk.gz'),\n",
    "    '1408MLGX6-3WGS': Path('data/reference/listeria/GCF_001047715.2_ASM104771v2_genomic.gbk.gz'),\n",
    "    '1203NYJAP-1 - Tuna Scrape Outbreak': Path('data/reference/salmonella/GCF_000439415.1_ASM43941v1_genomic.gbk.gz'),\n",
    "}\n",
    "\n",
    "cases_dir_path = Path(cases_dir)\n",
    "index_path = cases_dir_path / 'index'\n",
    "\n",
    "if cases_dir_path.exists():\n",
    "    rmtree(cases_dir_path)\n",
    "    \n",
    "if not cases_dir_path.exists():\n",
    "    makedirs(cases_dir_path)\n",
    "\n",
    "case_name = str(cases_dir_path.name)\n",
    "\n",
    "benchmark_path = cases_dir_path / 'index-info.tsv'\n",
    "\n",
    "output_trees = {x: cases_dir_path / f'{x}_tree.tre'.replace(' ', '_') for x in reference_files}\n",
    "output_trees"
   ]
  },
  {
   "cell_type": "markdown",
   "id": "1673d80f-b52a-4b68-b400-355540495e15",
   "metadata": {
    "papermill": {
     "duration": 0.008701,
     "end_time": "2022-03-17T21:03:02.345330",
     "exception": false,
     "start_time": "2022-03-17T21:03:02.336629",
     "status": "completed"
    },
    "tags": []
   },
   "source": [
    "# 2. Create subset inputs"
   ]
  },
  {
   "cell_type": "code",
   "execution_count": 4,
   "id": "4e66adb1-3ef7-45d1-8e46-723dcb9d0c31",
   "metadata": {
    "execution": {
     "iopub.execute_input": "2022-03-17T21:03:02.377121Z",
     "iopub.status.busy": "2022-03-17T21:03:02.376584Z",
     "iopub.status.idle": "2022-03-17T21:03:02.404527Z",
     "shell.execute_reply": "2022-03-17T21:03:02.405285Z"
    },
    "papermill": {
     "duration": 0.053227,
     "end_time": "2022-03-17T21:03:02.405509",
     "exception": false,
     "start_time": "2022-03-17T21:03:02.352282",
     "status": "completed"
    },
    "tags": []
   },
   "outputs": [
    {
     "name": "stdout",
     "output_type": "stream",
     "text": [
      "Wrote dataset=0810PADBR-1 consisting of 4/85 samples to cases/case-04/0810PADBR-1_input-files-case.tsv\n",
      "Wrote dataset=1405WAEXK-1 consisting of 4/85 samples to cases/case-04/1405WAEXK-1_input-files-case.tsv\n",
      "Wrote dataset=1408MLGX6-3WGS consisting of 4/85 samples to cases/case-04/1408MLGX6-3WGS_input-files-case.tsv\n",
      "Wrote dataset=1203NYJAP-1 - Tuna Scrape Outbreak consisting of 4/85 samples to cases/case-04/1203NYJAP-1_-_Tuna_Scrape_Outbreak_input-files-case.tsv\n",
      "{'0810PADBR-1': PosixPath('cases/case-04/0810PADBR-1-results.tsv'), '1405WAEXK-1': PosixPath('cases/case-04/1405WAEXK-1-results.tsv'), '1408MLGX6-3WGS': PosixPath('cases/case-04/1408MLGX6-3WGS-results.tsv'), '1203NYJAP-1 - Tuna Scrape Outbreak': PosixPath('cases/case-04/1203NYJAP-1_-_Tuna_Scrape_Outbreak-results.tsv')}\n",
      "{'0810PADBR-1': PosixPath('cases/case-04/0810PADBR-1-index'), '1405WAEXK-1': PosixPath('cases/case-04/1405WAEXK-1-index'), '1408MLGX6-3WGS': PosixPath('cases/case-04/1408MLGX6-3WGS-index'), '1203NYJAP-1 - Tuna Scrape Outbreak': PosixPath('cases/case-04/1203NYJAP-1_-_Tuna_Scrape_Outbreak-index')}\n"
     ]
    },
    {
     "data": {
      "text/plain": [
       "{'0810PADBR-1': PosixPath('cases/case-04/0810PADBR-1_input-files-case.tsv'),\n",
       " '1405WAEXK-1': PosixPath('cases/case-04/1405WAEXK-1_input-files-case.tsv'),\n",
       " '1408MLGX6-3WGS': PosixPath('cases/case-04/1408MLGX6-3WGS_input-files-case.tsv'),\n",
       " '1203NYJAP-1 - Tuna Scrape Outbreak': PosixPath('cases/case-04/1203NYJAP-1_-_Tuna_Scrape_Outbreak_input-files-case.tsv')}"
      ]
     },
     "execution_count": 4,
     "metadata": {},
     "output_type": "execute_result"
    }
   ],
   "source": [
    "import pandas as pd\n",
    "from pathlib import Path\n",
    "from typing import Dict\n",
    "\n",
    "metadata_df = pd.read_csv(metadata_file, sep='\\t')\n",
    "\n",
    "def write_subset_input(metadata_df: pd.DataFrame, dataset_name: str) -> Path:\n",
    "    all_input_total = len(metadata_df)\n",
    "    cases_input = cases_dir_path / f'{dataset_name}_input-files-case.tsv'.replace(' ', '_')\n",
    "\n",
    "    input_df = metadata_df.copy().loc[metadata_df['dataSetName'] == dataset_name]\n",
    "    \n",
    "    # Subset samples\n",
    "    if not full_dataset:\n",
    "        input_df = input_df.head(max_samples_per_organism)\n",
    "    \n",
    "    input_df['Sample'] = input_df['strain']\n",
    "    input_df['Assemblies'] = pd.NA\n",
    "    input_df['Reads1'] = input_df['Sample'].apply(lambda x: str((Path('data') / 'fastq' / (x + '_1.fastq.gz')).absolute()))\n",
    "    input_df['Reads2'] = input_df['Sample'].apply(lambda x: str((Path('data') / 'fastq' / (x + '_2.fastq.gz')).absolute()))\n",
    "    input_df = input_df[['Sample', 'Assemblies', 'Reads1', 'Reads2']]\n",
    "\n",
    "    input_df.to_csv(cases_input, sep='\\t', index=False)\n",
    "\n",
    "    subset_input_total = len(input_df)\n",
    "\n",
    "    print(f'Wrote dataset={dataset_name} consisting of {subset_input_total}/{all_input_total} samples to {cases_input}')\n",
    "    \n",
    "    return cases_input\n",
    "\n",
    "cases_inputs = {x: write_subset_input(metadata_df, dataset_name=x) for x in reference_files}\n",
    "cases_index = {x: cases_dir_path / f'{x}-index'.replace(' ', '_') for x in cases_inputs}\n",
    "benchmark_outs = {x: cases_dir_path / f'{x}-results.tsv'.replace(' ', '_') for x in cases_inputs}\n",
    "print(benchmark_outs)\n",
    "print(cases_index)\n",
    "cases_inputs"
   ]
  },
  {
   "cell_type": "markdown",
   "id": "f208279e-7558-47fc-9362-da29df92828a",
   "metadata": {
    "papermill": {
     "duration": 0.009642,
     "end_time": "2022-03-17T21:03:02.430273",
     "exception": false,
     "start_time": "2022-03-17T21:03:02.420631",
     "status": "completed"
    },
    "tags": []
   },
   "source": [
    "# 2. Index genomes"
   ]
  },
  {
   "cell_type": "code",
   "execution_count": 5,
   "id": "4e936f7c-2fcd-4188-b0e6-6b3ceb5cdcd2",
   "metadata": {
    "execution": {
     "iopub.execute_input": "2022-03-17T21:03:02.461680Z",
     "iopub.status.busy": "2022-03-17T21:03:02.450119Z",
     "iopub.status.idle": "2022-03-17T21:03:05.714781Z",
     "shell.execute_reply": "2022-03-17T21:03:05.715639Z"
    },
    "papermill": {
     "duration": 3.278617,
     "end_time": "2022-03-17T21:03:05.715932",
     "exception": false,
     "start_time": "2022-03-17T21:03:02.437315",
     "status": "completed"
    },
    "tags": []
   },
   "outputs": [
    {
     "name": "stdout",
     "output_type": "stream",
     "text": [
      "gdi, version 0.6.0.dev2\r\n"
     ]
    }
   ],
   "source": [
    "!gdi --version"
   ]
  },
  {
   "cell_type": "markdown",
   "id": "5409ecf8-2158-4361-9d2f-6b1a6c7c63a6",
   "metadata": {
    "papermill": {
     "duration": 0.01001,
     "end_time": "2022-03-17T21:03:05.747661",
     "exception": false,
     "start_time": "2022-03-17T21:03:05.737651",
     "status": "completed"
    },
    "tags": []
   },
   "source": [
    "## 2.1. Index reads"
   ]
  },
  {
   "cell_type": "code",
   "execution_count": 6,
   "id": "3d63e861-733e-46f2-8bce-bd1a2c7c7058",
   "metadata": {
    "execution": {
     "iopub.execute_input": "2022-03-17T21:03:05.783105Z",
     "iopub.status.busy": "2022-03-17T21:03:05.773230Z",
     "iopub.status.idle": "2022-03-17T23:13:04.698695Z",
     "shell.execute_reply": "2022-03-17T23:13:04.699621Z"
    },
    "papermill": {
     "duration": 7798.945048,
     "end_time": "2022-03-17T23:13:04.700114",
     "exception": false,
     "start_time": "2022-03-17T21:03:05.755066",
     "status": "completed"
    },
    "tags": []
   },
   "outputs": [
    {
     "name": "stdout",
     "output_type": "stream",
     "text": [
      "\n",
      "\n",
      "Handling 0810PADBR-1 as separate index located at cases/case-04/0810PADBR-1-index and reference file data/reference/campylobacter/GCA_001879185.2_ASM187918v2_genomic.gbk.gz and input file cases/case-04/0810PADBR-1_input-files-case.tsv\n",
      "\n"
     ]
    },
    {
     "name": "stdout",
     "output_type": "stream",
     "text": [
      "\n",
      "Iteration 1 of index/analysis of 4 samples with 4 cores\n",
      "Removing any extra snakemake directories: []\n",
      "Creating new index: [gdi init cases/case-04/0810PADBR-1-index]\n"
     ]
    },
    {
     "name": "stdout",
     "output_type": "stream",
     "text": [
      "Creating a new index took 3.40 seconds\n",
      "Analysis running: [gdi --project-dir cases/case-04/0810PADBR-1-index --ncores 4 analysis --use-conda --no-load-data --reference-file data/reference/campylobacter/GCA_001879185.2_ASM187918v2_genomic.gbk.gz --kmer-size 31 --kmer-size 51 --kmer-size 71 --include-kmer --reads-mincov 10 --input-structured-genomes-file cases/case-04/0810PADBR-1_input-files-case.tsv]\n"
     ]
    },
    {
     "name": "stdout",
     "output_type": "stream",
     "text": [
      "Analysis took 13.06 minutes\n",
      "Index running: [gdi --project-dir cases/case-04/0810PADBR-1-index --ncores 4 load vcf-kmer --sample-batch-size 10 --reference-file data/reference/campylobacter/GCA_001879185.2_ASM187918v2_genomic.gbk.gz /home/CSCScience.ca/apetkau/workspace/genomics-data-index-evaluation/evaluations/reads/snakemake-assemblies.1647550993.1139047/gdi-input.fofn]\n"
     ]
    },
    {
     "name": "stdout",
     "output_type": "stream",
     "text": [
      "Indexing took 0.27 minutes\n",
      "Building tree: [gdi --project-dir cases/case-04/0810PADBR-1-index --ncores 4 rebuild tree --align-type full --extra-params '--fast -m GTR+F+R4' GCA_001879185.2_ASM187918v2_genomic]\n"
     ]
    },
    {
     "name": "stdout",
     "output_type": "stream",
     "text": [
      "Building tree took 0.27 minutes\n"
     ]
    },
    {
     "name": "stderr",
     "output_type": "stream",
     "text": [
      "A reminder to myself to look for a Python solution for directory sizes (instead of running `du`)\n"
     ]
    },
    {
     "name": "stdout",
     "output_type": "stream",
     "text": [
      "\n",
      "Iteration 2 of index/analysis of 4 samples with 4 cores\n",
      "Removing any extra snakemake directories: ['snakemake-assemblies.1647550993.1139047']\n"
     ]
    },
    {
     "name": "stdout",
     "output_type": "stream",
     "text": [
      "Removing any existing indexes cases/case-04/0810PADBR-1-index\n",
      "Creating new index: [gdi init cases/case-04/0810PADBR-1-index]\n"
     ]
    },
    {
     "name": "stdout",
     "output_type": "stream",
     "text": [
      "Creating a new index took 3.05 seconds\n",
      "Analysis running: [gdi --project-dir cases/case-04/0810PADBR-1-index --ncores 4 analysis --use-conda --no-load-data --reference-file data/reference/campylobacter/GCA_001879185.2_ASM187918v2_genomic.gbk.gz --kmer-size 31 --kmer-size 51 --kmer-size 71 --include-kmer --reads-mincov 10 --input-structured-genomes-file cases/case-04/0810PADBR-1_input-files-case.tsv]\n"
     ]
    },
    {
     "name": "stdout",
     "output_type": "stream",
     "text": [
      "Analysis took 13.07 minutes\n",
      "Index running: [gdi --project-dir cases/case-04/0810PADBR-1-index --ncores 4 load vcf-kmer --sample-batch-size 10 --reference-file data/reference/campylobacter/GCA_001879185.2_ASM187918v2_genomic.gbk.gz /home/CSCScience.ca/apetkau/workspace/genomics-data-index-evaluation/evaluations/reads/snakemake-assemblies.1647551814.5369325/gdi-input.fofn]\n"
     ]
    },
    {
     "name": "stdout",
     "output_type": "stream",
     "text": [
      "Indexing took 0.27 minutes\n",
      "Building tree: [gdi --project-dir cases/case-04/0810PADBR-1-index --ncores 4 rebuild tree --align-type full --extra-params '--fast -m GTR+F+R4' GCA_001879185.2_ASM187918v2_genomic]\n"
     ]
    },
    {
     "name": "stdout",
     "output_type": "stream",
     "text": [
      "Building tree took 0.30 minutes\n"
     ]
    },
    {
     "name": "stderr",
     "output_type": "stream",
     "text": [
      "Attempting to set global database_path_translator=<genomics_data_index.storage.model.db.DatabasePathTranslator.DatabasePathTranslator object at 0x7f0320513cd0> but it is already set\n"
     ]
    },
    {
     "name": "stderr",
     "output_type": "stream",
     "text": [
      "A reminder to myself to look for a Python solution for directory sizes (instead of running `du`)\n"
     ]
    },
    {
     "name": "stdout",
     "output_type": "stream",
     "text": [
      "\n",
      "Iteration 3 of index/analysis of 4 samples with 4 cores\n",
      "Removing any extra snakemake directories: ['snakemake-assemblies.1647551814.5369325']\n"
     ]
    },
    {
     "name": "stdout",
     "output_type": "stream",
     "text": [
      "Removing any existing indexes cases/case-04/0810PADBR-1-index\n",
      "Creating new index: [gdi init cases/case-04/0810PADBR-1-index]\n"
     ]
    },
    {
     "name": "stdout",
     "output_type": "stream",
     "text": [
      "Creating a new index took 3.10 seconds\n",
      "Analysis running: [gdi --project-dir cases/case-04/0810PADBR-1-index --ncores 4 analysis --use-conda --no-load-data --reference-file data/reference/campylobacter/GCA_001879185.2_ASM187918v2_genomic.gbk.gz --kmer-size 31 --kmer-size 51 --kmer-size 71 --include-kmer --reads-mincov 10 --input-structured-genomes-file cases/case-04/0810PADBR-1_input-files-case.tsv]\n"
     ]
    },
    {
     "name": "stdout",
     "output_type": "stream",
     "text": [
      "Analysis took 13.00 minutes\n",
      "Index running: [gdi --project-dir cases/case-04/0810PADBR-1-index --ncores 4 load vcf-kmer --sample-batch-size 10 --reference-file data/reference/campylobacter/GCA_001879185.2_ASM187918v2_genomic.gbk.gz /home/CSCScience.ca/apetkau/workspace/genomics-data-index-evaluation/evaluations/reads/snakemake-assemblies.1647552639.2405126/gdi-input.fofn]\n"
     ]
    },
    {
     "name": "stdout",
     "output_type": "stream",
     "text": [
      "Indexing took 0.27 minutes\n",
      "Building tree: [gdi --project-dir cases/case-04/0810PADBR-1-index --ncores 4 rebuild tree --align-type full --extra-params '--fast -m GTR+F+R4' GCA_001879185.2_ASM187918v2_genomic]\n"
     ]
    },
    {
     "name": "stdout",
     "output_type": "stream",
     "text": [
      "Building tree took 0.29 minutes\n"
     ]
    },
    {
     "name": "stderr",
     "output_type": "stream",
     "text": [
      "Attempting to set global database_path_translator=<genomics_data_index.storage.model.db.DatabasePathTranslator.DatabasePathTranslator object at 0x7f03200b6f70> but it is already set\n"
     ]
    },
    {
     "name": "stderr",
     "output_type": "stream",
     "text": [
      "A reminder to myself to look for a Python solution for directory sizes (instead of running `du`)\n"
     ]
    },
    {
     "name": "stdout",
     "output_type": "stream",
     "text": [
      "Finished analysis for 0810PADBR-1: writing results to cases/case-04/0810PADBR-1-results.tsv\n",
      "\n",
      "\n",
      "\n",
      "Handling 1405WAEXK-1 as separate index located at cases/case-04/1405WAEXK-1-index and reference file data/reference/ecoli/GCF_000703365.1_Ec2011C-3609_genomic.gbk.gz and input file cases/case-04/1405WAEXK-1_input-files-case.tsv\n",
      "\n"
     ]
    },
    {
     "name": "stdout",
     "output_type": "stream",
     "text": [
      "\n",
      "Iteration 1 of index/analysis of 4 samples with 4 cores\n",
      "Removing any extra snakemake directories: ['snakemake-assemblies.1647552639.2405126']\n"
     ]
    },
    {
     "name": "stdout",
     "output_type": "stream",
     "text": [
      "Creating new index: [gdi init cases/case-04/1405WAEXK-1-index]\n"
     ]
    },
    {
     "name": "stdout",
     "output_type": "stream",
     "text": [
      "Creating a new index took 3.41 seconds\n",
      "Analysis running: [gdi --project-dir cases/case-04/1405WAEXK-1-index --ncores 4 analysis --use-conda --no-load-data --reference-file data/reference/ecoli/GCF_000703365.1_Ec2011C-3609_genomic.gbk.gz --kmer-size 31 --kmer-size 51 --kmer-size 71 --include-kmer --reads-mincov 10 --input-structured-genomes-file cases/case-04/1405WAEXK-1_input-files-case.tsv]\n"
     ]
    },
    {
     "name": "stdout",
     "output_type": "stream",
     "text": [
      "Analysis took 8.27 minutes\n",
      "Index running: [gdi --project-dir cases/case-04/1405WAEXK-1-index --ncores 4 load vcf-kmer --sample-batch-size 10 --reference-file data/reference/ecoli/GCF_000703365.1_Ec2011C-3609_genomic.gbk.gz /home/CSCScience.ca/apetkau/workspace/genomics-data-index-evaluation/evaluations/reads/snakemake-assemblies.1647553459.2471063/gdi-input.fofn]\n"
     ]
    },
    {
     "name": "stdout",
     "output_type": "stream",
     "text": [
      "Indexing took 2.68 minutes\n",
      "Building tree: [gdi --project-dir cases/case-04/1405WAEXK-1-index --ncores 4 rebuild tree --align-type full --extra-params '--fast -m GTR+F+R4' GCF_000703365.1_Ec2011C-3609_genomic]\n"
     ]
    },
    {
     "name": "stdout",
     "output_type": "stream",
     "text": [
      "Building tree took 0.42 minutes\n"
     ]
    },
    {
     "name": "stderr",
     "output_type": "stream",
     "text": [
      "Attempting to set global database_path_translator=<genomics_data_index.storage.model.db.DatabasePathTranslator.DatabasePathTranslator object at 0x7f03202671f0> but it is already set\n"
     ]
    },
    {
     "name": "stderr",
     "output_type": "stream",
     "text": [
      "A reminder to myself to look for a Python solution for directory sizes (instead of running `du`)\n"
     ]
    },
    {
     "name": "stdout",
     "output_type": "stream",
     "text": [
      "\n",
      "Iteration 2 of index/analysis of 4 samples with 4 cores\n",
      "Removing any extra snakemake directories: ['snakemake-assemblies.1647553459.2471063']\n"
     ]
    },
    {
     "name": "stdout",
     "output_type": "stream",
     "text": [
      "Removing any existing indexes cases/case-04/1405WAEXK-1-index\n",
      "Creating new index: [gdi init cases/case-04/1405WAEXK-1-index]\n"
     ]
    },
    {
     "name": "stdout",
     "output_type": "stream",
     "text": [
      "Creating a new index took 3.38 seconds\n",
      "Analysis running: [gdi --project-dir cases/case-04/1405WAEXK-1-index --ncores 4 analysis --use-conda --no-load-data --reference-file data/reference/ecoli/GCF_000703365.1_Ec2011C-3609_genomic.gbk.gz --kmer-size 31 --kmer-size 51 --kmer-size 71 --include-kmer --reads-mincov 10 --input-structured-genomes-file cases/case-04/1405WAEXK-1_input-files-case.tsv]\n"
     ]
    },
    {
     "name": "stdout",
     "output_type": "stream",
     "text": [
      "Analysis took 8.00 minutes\n",
      "Index running: [gdi --project-dir cases/case-04/1405WAEXK-1-index --ncores 4 load vcf-kmer --sample-batch-size 10 --reference-file data/reference/ecoli/GCF_000703365.1_Ec2011C-3609_genomic.gbk.gz /home/CSCScience.ca/apetkau/workspace/genomics-data-index-evaluation/evaluations/reads/snakemake-assemblies.1647554148.2821097/gdi-input.fofn]\n"
     ]
    },
    {
     "name": "stdout",
     "output_type": "stream",
     "text": [
      "Indexing took 2.56 minutes\n",
      "Building tree: [gdi --project-dir cases/case-04/1405WAEXK-1-index --ncores 4 rebuild tree --align-type full --extra-params '--fast -m GTR+F+R4' GCF_000703365.1_Ec2011C-3609_genomic]\n"
     ]
    },
    {
     "name": "stdout",
     "output_type": "stream",
     "text": [
      "Building tree took 0.41 minutes\n"
     ]
    },
    {
     "name": "stderr",
     "output_type": "stream",
     "text": [
      "Attempting to set global database_path_translator=<genomics_data_index.storage.model.db.DatabasePathTranslator.DatabasePathTranslator object at 0x7f03202670a0> but it is already set\n"
     ]
    },
    {
     "name": "stderr",
     "output_type": "stream",
     "text": [
      "A reminder to myself to look for a Python solution for directory sizes (instead of running `du`)\n"
     ]
    },
    {
     "name": "stdout",
     "output_type": "stream",
     "text": [
      "\n",
      "Iteration 3 of index/analysis of 4 samples with 4 cores\n",
      "Removing any extra snakemake directories: ['snakemake-assemblies.1647554148.2821097']\n"
     ]
    },
    {
     "name": "stdout",
     "output_type": "stream",
     "text": [
      "Removing any existing indexes cases/case-04/1405WAEXK-1-index\n",
      "Creating new index: [gdi init cases/case-04/1405WAEXK-1-index]\n"
     ]
    },
    {
     "name": "stdout",
     "output_type": "stream",
     "text": [
      "Creating a new index took 3.41 seconds\n",
      "Analysis running: [gdi --project-dir cases/case-04/1405WAEXK-1-index --ncores 4 analysis --use-conda --no-load-data --reference-file data/reference/ecoli/GCF_000703365.1_Ec2011C-3609_genomic.gbk.gz --kmer-size 31 --kmer-size 51 --kmer-size 71 --include-kmer --reads-mincov 10 --input-structured-genomes-file cases/case-04/1405WAEXK-1_input-files-case.tsv]\n"
     ]
    },
    {
     "name": "stdout",
     "output_type": "stream",
     "text": [
      "Analysis took 8.21 minutes\n",
      "Index running: [gdi --project-dir cases/case-04/1405WAEXK-1-index --ncores 4 load vcf-kmer --sample-batch-size 10 --reference-file data/reference/ecoli/GCF_000703365.1_Ec2011C-3609_genomic.gbk.gz /home/CSCScience.ca/apetkau/workspace/genomics-data-index-evaluation/evaluations/reads/snakemake-assemblies.1647554813.913006/gdi-input.fofn]\n"
     ]
    },
    {
     "name": "stdout",
     "output_type": "stream",
     "text": [
      "Indexing took 2.54 minutes\n",
      "Building tree: [gdi --project-dir cases/case-04/1405WAEXK-1-index --ncores 4 rebuild tree --align-type full --extra-params '--fast -m GTR+F+R4' GCF_000703365.1_Ec2011C-3609_genomic]\n"
     ]
    },
    {
     "name": "stdout",
     "output_type": "stream",
     "text": [
      "Building tree took 0.38 minutes\n"
     ]
    },
    {
     "name": "stderr",
     "output_type": "stream",
     "text": [
      "Attempting to set global database_path_translator=<genomics_data_index.storage.model.db.DatabasePathTranslator.DatabasePathTranslator object at 0x7f0320586d90> but it is already set\n"
     ]
    },
    {
     "name": "stderr",
     "output_type": "stream",
     "text": [
      "A reminder to myself to look for a Python solution for directory sizes (instead of running `du`)\n"
     ]
    },
    {
     "name": "stdout",
     "output_type": "stream",
     "text": [
      "Finished analysis for 1405WAEXK-1: writing results to cases/case-04/1405WAEXK-1-results.tsv\n",
      "\n",
      "\n",
      "\n",
      "Handling 1408MLGX6-3WGS as separate index located at cases/case-04/1408MLGX6-3WGS-index and reference file data/reference/listeria/GCF_001047715.2_ASM104771v2_genomic.gbk.gz and input file cases/case-04/1408MLGX6-3WGS_input-files-case.tsv\n",
      "\n"
     ]
    },
    {
     "name": "stdout",
     "output_type": "stream",
     "text": [
      "\n",
      "Iteration 1 of index/analysis of 4 samples with 4 cores\n",
      "Removing any extra snakemake directories: ['snakemake-assemblies.1647554813.913006']\n"
     ]
    },
    {
     "name": "stdout",
     "output_type": "stream",
     "text": [
      "Creating new index: [gdi init cases/case-04/1408MLGX6-3WGS-index]\n"
     ]
    },
    {
     "name": "stdout",
     "output_type": "stream",
     "text": [
      "Creating a new index took 3.30 seconds\n",
      "Analysis running: [gdi --project-dir cases/case-04/1408MLGX6-3WGS-index --ncores 4 analysis --use-conda --no-load-data --reference-file data/reference/listeria/GCF_001047715.2_ASM104771v2_genomic.gbk.gz --kmer-size 31 --kmer-size 51 --kmer-size 71 --include-kmer --reads-mincov 10 --input-structured-genomes-file cases/case-04/1408MLGX6-3WGS_input-files-case.tsv]\n"
     ]
    },
    {
     "name": "stdout",
     "output_type": "stream",
     "text": [
      "Analysis took 8.77 minutes\n",
      "Index running: [gdi --project-dir cases/case-04/1408MLGX6-3WGS-index --ncores 4 load vcf-kmer --sample-batch-size 10 --reference-file data/reference/listeria/GCF_001047715.2_ASM104771v2_genomic.gbk.gz /home/CSCScience.ca/apetkau/workspace/genomics-data-index-evaluation/evaluations/reads/snakemake-assemblies.1647555488.8888/gdi-input.fofn]\n"
     ]
    },
    {
     "name": "stdout",
     "output_type": "stream",
     "text": [
      "Indexing took 0.48 minutes\n",
      "Building tree: [gdi --project-dir cases/case-04/1408MLGX6-3WGS-index --ncores 4 rebuild tree --align-type full --extra-params '--fast -m GTR+F+R4' GCF_001047715.2_ASM104771v2_genomic]\n"
     ]
    },
    {
     "name": "stdout",
     "output_type": "stream",
     "text": [
      "Building tree took 0.34 minutes\n"
     ]
    },
    {
     "name": "stderr",
     "output_type": "stream",
     "text": [
      "Attempting to set global database_path_translator=<genomics_data_index.storage.model.db.DatabasePathTranslator.DatabasePathTranslator object at 0x7f0320513820> but it is already set\n"
     ]
    },
    {
     "name": "stderr",
     "output_type": "stream",
     "text": [
      "A reminder to myself to look for a Python solution for directory sizes (instead of running `du`)\n"
     ]
    },
    {
     "name": "stdout",
     "output_type": "stream",
     "text": [
      "\n",
      "Iteration 2 of index/analysis of 4 samples with 4 cores\n",
      "Removing any extra snakemake directories: ['snakemake-assemblies.1647555488.8888']\n"
     ]
    },
    {
     "name": "stdout",
     "output_type": "stream",
     "text": [
      "Removing any existing indexes cases/case-04/1408MLGX6-3WGS-index\n",
      "Creating new index: [gdi init cases/case-04/1408MLGX6-3WGS-index]\n"
     ]
    },
    {
     "name": "stdout",
     "output_type": "stream",
     "text": [
      "Creating a new index took 3.05 seconds\n",
      "Analysis running: [gdi --project-dir cases/case-04/1408MLGX6-3WGS-index --ncores 4 analysis --use-conda --no-load-data --reference-file data/reference/listeria/GCF_001047715.2_ASM104771v2_genomic.gbk.gz --kmer-size 31 --kmer-size 51 --kmer-size 71 --include-kmer --reads-mincov 10 --input-structured-genomes-file cases/case-04/1408MLGX6-3WGS_input-files-case.tsv]\n"
     ]
    },
    {
     "name": "stdout",
     "output_type": "stream",
     "text": [
      "Analysis took 8.69 minutes\n",
      "Index running: [gdi --project-dir cases/case-04/1408MLGX6-3WGS-index --ncores 4 load vcf-kmer --sample-batch-size 10 --reference-file data/reference/listeria/GCF_001047715.2_ASM104771v2_genomic.gbk.gz /home/CSCScience.ca/apetkau/workspace/genomics-data-index-evaluation/evaluations/reads/snakemake-assemblies.1647556070.4892788/gdi-input.fofn]\n"
     ]
    },
    {
     "name": "stdout",
     "output_type": "stream",
     "text": [
      "Indexing took 0.46 minutes\n",
      "Building tree: [gdi --project-dir cases/case-04/1408MLGX6-3WGS-index --ncores 4 rebuild tree --align-type full --extra-params '--fast -m GTR+F+R4' GCF_001047715.2_ASM104771v2_genomic]\n"
     ]
    },
    {
     "name": "stdout",
     "output_type": "stream",
     "text": [
      "Building tree took 0.35 minutes\n"
     ]
    },
    {
     "name": "stderr",
     "output_type": "stream",
     "text": [
      "Attempting to set global database_path_translator=<genomics_data_index.storage.model.db.DatabasePathTranslator.DatabasePathTranslator object at 0x7f03205507f0> but it is already set\n"
     ]
    },
    {
     "name": "stderr",
     "output_type": "stream",
     "text": [
      "A reminder to myself to look for a Python solution for directory sizes (instead of running `du`)\n"
     ]
    },
    {
     "name": "stdout",
     "output_type": "stream",
     "text": [
      "\n",
      "Iteration 3 of index/analysis of 4 samples with 4 cores\n",
      "Removing any extra snakemake directories: ['snakemake-assemblies.1647556070.4892788']\n"
     ]
    },
    {
     "name": "stdout",
     "output_type": "stream",
     "text": [
      "Removing any existing indexes cases/case-04/1408MLGX6-3WGS-index\n",
      "Creating new index: [gdi init cases/case-04/1408MLGX6-3WGS-index]\n"
     ]
    },
    {
     "name": "stdout",
     "output_type": "stream",
     "text": [
      "Creating a new index took 3.34 seconds\n",
      "Analysis running: [gdi --project-dir cases/case-04/1408MLGX6-3WGS-index --ncores 4 analysis --use-conda --no-load-data --reference-file data/reference/listeria/GCF_001047715.2_ASM104771v2_genomic.gbk.gz --kmer-size 31 --kmer-size 51 --kmer-size 71 --include-kmer --reads-mincov 10 --input-structured-genomes-file cases/case-04/1408MLGX6-3WGS_input-files-case.tsv]\n"
     ]
    },
    {
     "name": "stdout",
     "output_type": "stream",
     "text": [
      "Analysis took 8.65 minutes\n",
      "Index running: [gdi --project-dir cases/case-04/1408MLGX6-3WGS-index --ncores 4 load vcf-kmer --sample-batch-size 10 --reference-file data/reference/listeria/GCF_001047715.2_ASM104771v2_genomic.gbk.gz /home/CSCScience.ca/apetkau/workspace/genomics-data-index-evaluation/evaluations/reads/snakemake-assemblies.1647556646.0889015/gdi-input.fofn]\n"
     ]
    },
    {
     "name": "stdout",
     "output_type": "stream",
     "text": [
      "Indexing took 0.50 minutes\n",
      "Building tree: [gdi --project-dir cases/case-04/1408MLGX6-3WGS-index --ncores 4 rebuild tree --align-type full --extra-params '--fast -m GTR+F+R4' GCF_001047715.2_ASM104771v2_genomic]\n"
     ]
    },
    {
     "name": "stdout",
     "output_type": "stream",
     "text": [
      "Building tree took 0.36 minutes\n"
     ]
    },
    {
     "name": "stderr",
     "output_type": "stream",
     "text": [
      "Attempting to set global database_path_translator=<genomics_data_index.storage.model.db.DatabasePathTranslator.DatabasePathTranslator object at 0x7f032028bee0> but it is already set\n"
     ]
    },
    {
     "name": "stderr",
     "output_type": "stream",
     "text": [
      "A reminder to myself to look for a Python solution for directory sizes (instead of running `du`)\n"
     ]
    },
    {
     "name": "stdout",
     "output_type": "stream",
     "text": [
      "Finished analysis for 1408MLGX6-3WGS: writing results to cases/case-04/1408MLGX6-3WGS-results.tsv\n",
      "\n",
      "\n",
      "\n",
      "Handling 1203NYJAP-1 - Tuna Scrape Outbreak as separate index located at cases/case-04/1203NYJAP-1_-_Tuna_Scrape_Outbreak-index and reference file data/reference/salmonella/GCF_000439415.1_ASM43941v1_genomic.gbk.gz and input file cases/case-04/1203NYJAP-1_-_Tuna_Scrape_Outbreak_input-files-case.tsv\n",
      "\n"
     ]
    },
    {
     "name": "stdout",
     "output_type": "stream",
     "text": [
      "\n",
      "Iteration 1 of index/analysis of 4 samples with 4 cores\n",
      "Removing any extra snakemake directories: ['snakemake-assemblies.1647556646.0889015']\n"
     ]
    },
    {
     "name": "stdout",
     "output_type": "stream",
     "text": [
      "Creating new index: [gdi init cases/case-04/1203NYJAP-1_-_Tuna_Scrape_Outbreak-index]\n"
     ]
    },
    {
     "name": "stdout",
     "output_type": "stream",
     "text": [
      "Creating a new index took 3.29 seconds\n",
      "Analysis running: [gdi --project-dir cases/case-04/1203NYJAP-1_-_Tuna_Scrape_Outbreak-index --ncores 4 analysis --use-conda --no-load-data --reference-file data/reference/salmonella/GCF_000439415.1_ASM43941v1_genomic.gbk.gz --kmer-size 31 --kmer-size 51 --kmer-size 71 --include-kmer --reads-mincov 10 --input-structured-genomes-file cases/case-04/1203NYJAP-1_-_Tuna_Scrape_Outbreak_input-files-case.tsv]\n"
     ]
    },
    {
     "name": "stdout",
     "output_type": "stream",
     "text": [
      "Analysis took 7.12 minutes\n",
      "Index running: [gdi --project-dir cases/case-04/1203NYJAP-1_-_Tuna_Scrape_Outbreak-index --ncores 4 load vcf-kmer --sample-batch-size 10 --reference-file data/reference/salmonella/GCF_000439415.1_ASM43941v1_genomic.gbk.gz /home/CSCScience.ca/apetkau/workspace/genomics-data-index-evaluation/evaluations/reads/snakemake-assemblies.1647557223.4812922/gdi-input.fofn]\n"
     ]
    },
    {
     "name": "stdout",
     "output_type": "stream",
     "text": [
      "Indexing took 1.03 minutes\n",
      "Building tree: [gdi --project-dir cases/case-04/1203NYJAP-1_-_Tuna_Scrape_Outbreak-index --ncores 4 rebuild tree --align-type full --extra-params '--fast -m GTR+F+R4' GCF_000439415.1_ASM43941v1_genomic]\n"
     ]
    },
    {
     "name": "stdout",
     "output_type": "stream",
     "text": [
      "Building tree took 0.43 minutes\n"
     ]
    },
    {
     "name": "stderr",
     "output_type": "stream",
     "text": [
      "Attempting to set global database_path_translator=<genomics_data_index.storage.model.db.DatabasePathTranslator.DatabasePathTranslator object at 0x7f0328f5fee0> but it is already set\n"
     ]
    },
    {
     "name": "stderr",
     "output_type": "stream",
     "text": [
      "A reminder to myself to look for a Python solution for directory sizes (instead of running `du`)\n"
     ]
    },
    {
     "name": "stdout",
     "output_type": "stream",
     "text": [
      "\n",
      "Iteration 2 of index/analysis of 4 samples with 4 cores\n",
      "Removing any extra snakemake directories: ['snakemake-assemblies.1647557223.4812922']\n"
     ]
    },
    {
     "name": "stdout",
     "output_type": "stream",
     "text": [
      "Removing any existing indexes cases/case-04/1203NYJAP-1_-_Tuna_Scrape_Outbreak-index\n",
      "Creating new index: [gdi init cases/case-04/1203NYJAP-1_-_Tuna_Scrape_Outbreak-index]\n"
     ]
    },
    {
     "name": "stdout",
     "output_type": "stream",
     "text": [
      "Creating a new index took 3.31 seconds\n",
      "Analysis running: [gdi --project-dir cases/case-04/1203NYJAP-1_-_Tuna_Scrape_Outbreak-index --ncores 4 analysis --use-conda --no-load-data --reference-file data/reference/salmonella/GCF_000439415.1_ASM43941v1_genomic.gbk.gz --kmer-size 31 --kmer-size 51 --kmer-size 71 --include-kmer --reads-mincov 10 --input-structured-genomes-file cases/case-04/1203NYJAP-1_-_Tuna_Scrape_Outbreak_input-files-case.tsv]\n"
     ]
    },
    {
     "name": "stdout",
     "output_type": "stream",
     "text": [
      "Analysis took 7.12 minutes\n",
      "Index running: [gdi --project-dir cases/case-04/1203NYJAP-1_-_Tuna_Scrape_Outbreak-index --ncores 4 load vcf-kmer --sample-batch-size 10 --reference-file data/reference/salmonella/GCF_000439415.1_ASM43941v1_genomic.gbk.gz /home/CSCScience.ca/apetkau/workspace/genomics-data-index-evaluation/evaluations/reads/snakemake-assemblies.1647557744.5329094/gdi-input.fofn]\n"
     ]
    },
    {
     "name": "stdout",
     "output_type": "stream",
     "text": [
      "Indexing took 1.09 minutes\n",
      "Building tree: [gdi --project-dir cases/case-04/1203NYJAP-1_-_Tuna_Scrape_Outbreak-index --ncores 4 rebuild tree --align-type full --extra-params '--fast -m GTR+F+R4' GCF_000439415.1_ASM43941v1_genomic]\n"
     ]
    },
    {
     "name": "stdout",
     "output_type": "stream",
     "text": [
      "Building tree took 0.43 minutes\n"
     ]
    },
    {
     "name": "stderr",
     "output_type": "stream",
     "text": [
      "Attempting to set global database_path_translator=<genomics_data_index.storage.model.db.DatabasePathTranslator.DatabasePathTranslator object at 0x7f03200b65b0> but it is already set\n"
     ]
    },
    {
     "name": "stderr",
     "output_type": "stream",
     "text": [
      "A reminder to myself to look for a Python solution for directory sizes (instead of running `du`)\n"
     ]
    },
    {
     "name": "stdout",
     "output_type": "stream",
     "text": [
      "\n",
      "Iteration 3 of index/analysis of 4 samples with 4 cores\n",
      "Removing any extra snakemake directories: ['snakemake-assemblies.1647557744.5329094']\n"
     ]
    },
    {
     "name": "stdout",
     "output_type": "stream",
     "text": [
      "Removing any existing indexes cases/case-04/1203NYJAP-1_-_Tuna_Scrape_Outbreak-index\n",
      "Creating new index: [gdi init cases/case-04/1203NYJAP-1_-_Tuna_Scrape_Outbreak-index]\n"
     ]
    },
    {
     "name": "stdout",
     "output_type": "stream",
     "text": [
      "Creating a new index took 3.40 seconds\n",
      "Analysis running: [gdi --project-dir cases/case-04/1203NYJAP-1_-_Tuna_Scrape_Outbreak-index --ncores 4 analysis --use-conda --no-load-data --reference-file data/reference/salmonella/GCF_000439415.1_ASM43941v1_genomic.gbk.gz --kmer-size 31 --kmer-size 51 --kmer-size 71 --include-kmer --reads-mincov 10 --input-structured-genomes-file cases/case-04/1203NYJAP-1_-_Tuna_Scrape_Outbreak_input-files-case.tsv]\n"
     ]
    },
    {
     "name": "stdout",
     "output_type": "stream",
     "text": [
      "Analysis took 7.16 minutes\n",
      "Index running: [gdi --project-dir cases/case-04/1203NYJAP-1_-_Tuna_Scrape_Outbreak-index --ncores 4 load vcf-kmer --sample-batch-size 10 --reference-file data/reference/salmonella/GCF_000439415.1_ASM43941v1_genomic.gbk.gz /home/CSCScience.ca/apetkau/workspace/genomics-data-index-evaluation/evaluations/reads/snakemake-assemblies.1647558270.0628698/gdi-input.fofn]\n"
     ]
    },
    {
     "name": "stdout",
     "output_type": "stream",
     "text": [
      "Indexing took 1.05 minutes\n",
      "Building tree: [gdi --project-dir cases/case-04/1203NYJAP-1_-_Tuna_Scrape_Outbreak-index --ncores 4 rebuild tree --align-type full --extra-params '--fast -m GTR+F+R4' GCF_000439415.1_ASM43941v1_genomic]\n"
     ]
    },
    {
     "name": "stdout",
     "output_type": "stream",
     "text": [
      "Building tree took 0.41 minutes\n"
     ]
    },
    {
     "name": "stderr",
     "output_type": "stream",
     "text": [
      "Attempting to set global database_path_translator=<genomics_data_index.storage.model.db.DatabasePathTranslator.DatabasePathTranslator object at 0x7f03203143d0> but it is already set\n"
     ]
    },
    {
     "name": "stderr",
     "output_type": "stream",
     "text": [
      "A reminder to myself to look for a Python solution for directory sizes (instead of running `du`)\n"
     ]
    },
    {
     "name": "stdout",
     "output_type": "stream",
     "text": [
      "Finished analysis for 1203NYJAP-1 - Tuna Scrape Outbreak: writing results to cases/case-04/1203NYJAP-1_-_Tuna_Scrape_Outbreak-results.tsv\n",
      "\n",
      "***Finished benchmarking, took 129.98 minutes***\n"
     ]
    }
   ],
   "source": [
    "import time\n",
    "\n",
    "start = time.time()\n",
    "if single_index:\n",
    "    benchmarker = gdi_benchmark.IndexBenchmarkerMultiple(index_path=index_path, input_files_files=cases_inputs,\n",
    "                                                 reference_files=reference_files, mincov=mincov,\n",
    "                                                 build_tree=build_tree,\n",
    "                                                 ncores=ncores,\n",
    "                                                 sample_batch_size=sample_batch_size)\n",
    "    benchmark_df = benchmarker.benchmark(iterations=iterations)\n",
    "    benchmark_df.to_csv(benchmark_path, sep='\\t', index=False)\n",
    "else:\n",
    "    for dataset_name in cases_index:\n",
    "        index_path_organism = cases_index[dataset_name]\n",
    "        reference_file_organism = reference_files[dataset_name]\n",
    "        cases_input_organism = cases_inputs[dataset_name]\n",
    "        out_file = benchmark_outs[dataset_name]\n",
    "        \n",
    "        print(f'\\n\\nHandling {dataset_name} as separate index located at {index_path_organism} '\n",
    "              f'and reference file {reference_file_organism} and input file {cases_input_organism}\\n')\n",
    "        results_handler = gdi_benchmark.BenchmarkResultsHandler(name=f'{case_name}:{dataset_name}')\n",
    "        benchmarker = gdi_benchmark.IndexBenchmarker(benchmark_results_handler=results_handler,\n",
    "                                                     index_path=index_path_organism,\n",
    "                                                     input_files_file=cases_input_organism,\n",
    "                                                     reference_file=reference_file_organism,\n",
    "                                                     mincov=mincov,\n",
    "                                                     build_tree=build_tree,\n",
    "                                                     ncores=ncores,\n",
    "                                                     sample_batch_size=sample_batch_size\n",
    "                                                    )\n",
    "        benchmark_organism_df = benchmarker.benchmark(iterations=iterations)\n",
    "        print(f'Finished analysis for {dataset_name}: writing results to {out_file}\\n')\n",
    "        benchmark_organism_df.to_csv(out_file, sep='\\t')\n",
    "end = time.time()\n",
    "print(f'***Finished benchmarking, took {(end - start)/60:0.2f} minutes***')"
   ]
  },
  {
   "cell_type": "markdown",
   "id": "6cb7673b-9f85-4c43-b2e2-93538497a196",
   "metadata": {
    "papermill": {
     "duration": 0.026543,
     "end_time": "2022-03-17T23:13:04.769053",
     "exception": false,
     "start_time": "2022-03-17T23:13:04.742510",
     "status": "completed"
    },
    "tags": []
   },
   "source": [
    "# 3. Export trees"
   ]
  },
  {
   "cell_type": "code",
   "execution_count": 7,
   "id": "5280f82c-5434-4391-8c44-b937a7c95bd5",
   "metadata": {
    "execution": {
     "iopub.execute_input": "2022-03-17T23:13:04.842512Z",
     "iopub.status.busy": "2022-03-17T23:13:04.841467Z",
     "iopub.status.idle": "2022-03-17T23:13:04.845212Z",
     "shell.execute_reply": "2022-03-17T23:13:04.846104Z"
    },
    "papermill": {
     "duration": 0.050607,
     "end_time": "2022-03-17T23:13:04.846385",
     "exception": false,
     "start_time": "2022-03-17T23:13:04.795778",
     "status": "completed"
    },
    "tags": []
   },
   "outputs": [
    {
     "name": "stdout",
     "output_type": "stream",
     "text": [
      "build_tree=True and single_index=False so no trees to export\n"
     ]
    }
   ],
   "source": [
    "if build_tree and single_index:\n",
    "    # Using variables with shell commands in Jupyter isn't working for me so I have to avoid using them\n",
    "    !gdi --project-dir {index_path} export tree GCA_001879185.2_ASM187918v2_genomic > {cases_dir}/0810PADBR-1_tree.tre\n",
    "    !gdi --project-dir {index_path} export tree GCF_000703365.1_Ec2011C-3609_genomic > {cases_dir}/1405WAEXK-1_tree.tre\n",
    "    !gdi --project-dir {index_path} export tree GCF_001047715.2_ASM104771v2_genomic > {cases_dir}/1408MLGX6-3WGS_tree.tre\n",
    "    !gdi --project-dir {index_path} export tree GCF_000439415.1_ASM43941v1_genomic > {cases_dir}/1203NYJAP-1_-_Tuna_Scrape_Outbreak_tree.tre\n",
    "else:\n",
    "    print(f'build_tree={build_tree} and single_index={single_index} so no trees to export')"
   ]
  },
  {
   "cell_type": "code",
   "execution_count": null,
   "id": "3162d923-834f-45f6-b4cc-653d9a1e1d97",
   "metadata": {
    "papermill": {
     "duration": 0.028347,
     "end_time": "2022-03-17T23:13:04.915443",
     "exception": false,
     "start_time": "2022-03-17T23:13:04.887096",
     "status": "completed"
    },
    "tags": []
   },
   "outputs": [],
   "source": []
  }
 ],
 "metadata": {
  "kernelspec": {
   "display_name": "Python 3 (ipykernel)",
   "language": "python",
   "name": "python3"
  },
  "language_info": {
   "codemirror_mode": {
    "name": "ipython",
    "version": 3
   },
   "file_extension": ".py",
   "mimetype": "text/x-python",
   "name": "python",
   "nbconvert_exporter": "python",
   "pygments_lexer": "ipython3",
   "version": "3.8.12"
  },
  "papermill": {
   "default_parameters": {},
   "duration": 7807.48622,
   "end_time": "2022-03-17T23:13:05.486284",
   "environment_variables": {},
   "exception": null,
   "input_path": "template-3-index-genomes.ipynb",
   "output_path": "3-index-genomes.case-04.ipynb",
   "parameters": {
    "build_tree": true,
    "cases_dir": "cases/case-04",
    "full_dataset": false,
    "iterations": 3,
    "max_samples_per_organism": 4,
    "single_index": false
   },
   "start_time": "2022-03-17T21:02:58.000064",
   "version": "2.3.4"
  }
 },
 "nbformat": 4,
 "nbformat_minor": 5
}