{
 "cells": [
  {
   "cell_type": "markdown",
   "id": "7d3667b4-b1f8-4347-96e3-830c25b06740",
   "metadata": {
    "papermill": {
     "duration": 0.018032,
     "end_time": "2022-02-28T23:51:14.285080",
     "exception": false,
     "start_time": "2022-02-28T23:51:14.267048",
     "status": "completed"
    },
    "tags": []
   },
   "source": [
    "# 1. Parameters"
   ]
  },
  {
   "cell_type": "code",
   "execution_count": null,
   "id": "d4ab0749-b286-4c34-b63c-a854e4952bae",
   "metadata": {
    "papermill": {
     "duration": 0.028382,
     "end_time": "2022-02-28T23:51:14.323054",
     "exception": false,
     "start_time": "2022-02-28T23:51:14.294672",
     "status": "completed"
    },
    "tags": [
     "parameters"
    ]
   },
   "outputs": [],
   "source": [
    "# Defaults\n",
    "cases_dir = 'cases/unset'\n",
    "metadata_file = 'metadata.tsv'\n",
    "iterations = 3\n",
    "mincov = 10\n",
    "ncores = 4\n",
    "max_samples_per_organism = 4\n",
    "full_dataset = False\n",
    "single_index = False\n",
    "\n",
    "build_tree = True\n",
    "sample_batch_size=10"
   ]
  },
  {
   "cell_type": "code",
   "execution_count": null,
   "id": "ce5962e4-261c-4210-b39b-47044e28466b",
   "metadata": {
    "papermill": {
     "duration": 3.558852,
     "end_time": "2022-02-28T23:51:17.892510",
     "exception": false,
     "start_time": "2022-02-28T23:51:14.333658",
     "status": "completed"
    },
    "tags": []
   },
   "outputs": [],
   "source": [
    "from pathlib import Path\n",
    "from shutil import rmtree\n",
    "from os import makedirs\n",
    "import imp\n",
    "fp, pathname, description = imp.find_module('gdi_benchmark', ['../../lib'])\n",
    "gdi_benchmark = imp.load_module('gdi_benchmark', fp, pathname, description)\n",
    "\n",
    "if full_dataset:\n",
    "    max_samples_per_organism = None\n",
    "\n",
    "reference_files = {\n",
    "    '0810PADBR-1': Path('data/reference/campylobacter/GCA_001879185.2_ASM187918v2_genomic.gbk.gz'),\n",
    "    '1405WAEXK-1': Path('data/reference/ecoli/GCF_000703365.1_Ec2011C-3609_genomic.gbk.gz'),\n",
    "    '1408MLGX6-3WGS': Path('data/reference/listeria/GCF_001047715.2_ASM104771v2_genomic.gbk.gz'),\n",
    "    '1203NYJAP-1 - Tuna Scrape Outbreak': Path('data/reference/salmonella/GCF_000439415.1_ASM43941v1_genomic.gbk.gz'),\n",
    "}\n",
    "\n",
    "cases_dir_path = Path(cases_dir)\n",
    "index_path = cases_dir_path / 'index'\n",
    "\n",
    "if cases_dir_path.exists():\n",
    "    rmtree(cases_dir_path)\n",
    "    \n",
    "if not cases_dir_path.exists():\n",
    "    makedirs(cases_dir_path)\n",
    "\n",
    "case_name = str(cases_dir_path.name)\n",
    "\n",
    "benchmark_path = cases_dir_path / 'index-info.tsv'\n",
    "\n",
    "output_trees = {x: cases_dir_path / f'{x}_tree.tre'.replace(' ', '_') for x in reference_files}\n",
    "output_trees"
   ]
  },
  {
   "cell_type": "markdown",
   "id": "1673d80f-b52a-4b68-b400-355540495e15",
   "metadata": {
    "papermill": {
     "duration": 0.01306,
     "end_time": "2022-02-28T23:51:17.925251",
     "exception": false,
     "start_time": "2022-02-28T23:51:17.912191",
     "status": "completed"
    },
    "tags": []
   },
   "source": [
    "# 2. Create subset inputs"
   ]
  },
  {
   "cell_type": "code",
   "execution_count": null,
   "id": "4e66adb1-3ef7-45d1-8e46-723dcb9d0c31",
   "metadata": {
    "papermill": {
     "duration": 0.059273,
     "end_time": "2022-02-28T23:51:17.992226",
     "exception": false,
     "start_time": "2022-02-28T23:51:17.932953",
     "status": "completed"
    },
    "tags": []
   },
   "outputs": [],
   "source": [
    "import pandas as pd\n",
    "from pathlib import Path\n",
    "from typing import Dict\n",
    "\n",
    "metadata_df = pd.read_csv(metadata_file, sep='\\t')\n",
    "\n",
    "def write_subset_input(metadata_df: pd.DataFrame, dataset_name: str) -> Path:\n",
    "    all_input_total = len(metadata_df)\n",
    "    cases_input = cases_dir_path / f'{dataset_name}_input-files-case.tsv'.replace(' ', '_')\n",
    "\n",
    "    input_df = metadata_df.copy().loc[metadata_df['dataSetName'] == dataset_name]\n",
    "    \n",
    "    # Subset samples\n",
    "    if not full_dataset:\n",
    "        input_df = input_df.head(max_samples_per_organism)\n",
    "    \n",
    "    input_df['Sample'] = input_df['strain']\n",
    "    input_df['Assemblies'] = pd.NA\n",
    "    input_df['Reads1'] = input_df['Sample'].apply(lambda x: str((Path('data') / 'fastq' / (x + '_1.fastq.gz')).absolute()))\n",
    "    input_df['Reads2'] = input_df['Sample'].apply(lambda x: str((Path('data') / 'fastq' / (x + '_2.fastq.gz')).absolute()))\n",
    "    input_df = input_df[['Sample', 'Assemblies', 'Reads1', 'Reads2']]\n",
    "\n",
    "    input_df.to_csv(cases_input, sep='\\t', index=False)\n",
    "\n",
    "    subset_input_total = len(input_df)\n",
    "\n",
    "    print(f'Wrote dataset={dataset_name} consisting of {subset_input_total}/{all_input_total} samples to {cases_input}')\n",
    "    \n",
    "    return cases_input\n",
    "\n",
    "cases_inputs = {x: write_subset_input(metadata_df, dataset_name=x) for x in reference_files}\n",
    "cases_index = {x: cases_dir_path / f'{x}-index'.replace(' ', '_') for x in cases_inputs}\n",
    "benchmark_outs = {x: cases_dir_path / f'{x}-results.tsv'.replace(' ', '_') for x in cases_inputs}\n",
    "print(benchmark_outs)\n",
    "print(cases_index)\n",
    "cases_inputs"
   ]
  },
  {
   "cell_type": "markdown",
   "id": "f208279e-7558-47fc-9362-da29df92828a",
   "metadata": {
    "papermill": {
     "duration": 0.00993,
     "end_time": "2022-02-28T23:51:18.018746",
     "exception": false,
     "start_time": "2022-02-28T23:51:18.008816",
     "status": "completed"
    },
    "tags": []
   },
   "source": [
    "# 2. Index genomes"
   ]
  },
  {
   "cell_type": "code",
   "execution_count": null,
   "id": "4e936f7c-2fcd-4188-b0e6-6b3ceb5cdcd2",
   "metadata": {
    "papermill": {
     "duration": 3.332715,
     "end_time": "2022-02-28T23:51:21.359480",
     "exception": false,
     "start_time": "2022-02-28T23:51:18.026765",
     "status": "completed"
    },
    "tags": []
   },
   "outputs": [],
   "source": [
    "!gdi --version"
   ]
  },
  {
   "cell_type": "markdown",
   "id": "5409ecf8-2158-4361-9d2f-6b1a6c7c63a6",
   "metadata": {
    "papermill": {
     "duration": 0.010239,
     "end_time": "2022-02-28T23:51:21.388220",
     "exception": false,
     "start_time": "2022-02-28T23:51:21.377981",
     "status": "completed"
    },
    "tags": []
   },
   "source": [
    "## 2.1. Index reads"
   ]
  },
  {
   "cell_type": "code",
   "execution_count": null,
   "id": "3d63e861-733e-46f2-8bce-bd1a2c7c7058",
   "metadata": {
    "papermill": {
     "duration": 26854.564612,
     "end_time": "2022-03-01T07:18:55.960266",
     "exception": false,
     "start_time": "2022-02-28T23:51:21.395654",
     "status": "completed"
    },
    "tags": []
   },
   "outputs": [],
   "source": [
    "import time\n",
    "\n",
    "start = time.time()\n",
    "if single_index:\n",
    "    benchmarker = gdi_benchmark.IndexBenchmarkerMultiple(index_path=index_path, input_files_files=cases_inputs,\n",
    "                                                 reference_files=reference_files, mincov=mincov,\n",
    "                                                 build_tree=build_tree,\n",
    "                                                 ncores=ncores,\n",
    "                                                 sample_batch_size=sample_batch_size)\n",
    "    benchmark_df = benchmarker.benchmark(iterations=iterations)\n",
    "    benchmark_df.to_csv(benchmark_path, sep='\\t', index=False)\n",
    "else:\n",
    "    for dataset_name in cases_index:\n",
    "        index_path_organism = cases_index[dataset_name]\n",
    "        reference_file_organism = reference_files[dataset_name]\n",
    "        cases_input_organism = cases_inputs[dataset_name]\n",
    "        out_file = benchmark_outs[dataset_name]\n",
    "        \n",
    "        print(f'\\n\\nHandling {dataset_name} as separate index located at {index_path_organism} '\n",
    "              f'and reference file {reference_file_organism} and input file {cases_input_organism}\\n')\n",
    "        results_handler = gdi_benchmark.BenchmarkResultsHandler(name=f'{case_name}:{dataset_name}')\n",
    "        benchmarker = gdi_benchmark.IndexBenchmarker(benchmark_results_handler=results_handler,\n",
    "                                                     index_path=index_path_organism,\n",
    "                                                     input_files_file=cases_input_organism,\n",
    "                                                     reference_file=reference_file_organism,\n",
    "                                                     mincov=mincov,\n",
    "                                                     build_tree=build_tree,\n",
    "                                                     ncores=ncores,\n",
    "                                                     sample_batch_size=sample_batch_size\n",
    "                                                    )\n",
    "        benchmark_organism_df = benchmarker.benchmark(iterations=iterations)\n",
    "        print(f'Finished analysis for {dataset_name}: writing results to {out_file}\\n')\n",
    "        benchmark_organism_df.to_csv(out_file, sep='\\t')\n",
    "end = time.time()\n",
    "print(f'***Finished benchmarking, took {(end - start)/60:0.2f} minutes***')"
   ]
  },
  {
   "cell_type": "markdown",
   "id": "6cb7673b-9f85-4c43-b2e2-93538497a196",
   "metadata": {
    "papermill": {
     "duration": 0.026437,
     "end_time": "2022-03-01T07:18:56.220268",
     "exception": false,
     "start_time": "2022-03-01T07:18:56.193831",
     "status": "completed"
    },
    "tags": []
   },
   "source": [
    "# 3. Export trees"
   ]
  },
  {
   "cell_type": "code",
   "execution_count": null,
   "id": "5280f82c-5434-4391-8c44-b937a7c95bd5",
   "metadata": {
    "papermill": {
     "duration": 13.688704,
     "end_time": "2022-03-01T07:19:09.935183",
     "exception": false,
     "start_time": "2022-03-01T07:18:56.246479",
     "status": "completed"
    },
    "tags": []
   },
   "outputs": [],
   "source": [
    "if build_tree and single_index:\n",
    "    # Using variables with shell commands in Jupyter isn't working for me so I have to avoid using them\n",
    "    !gdi --project-dir {index_path} export tree GCA_001879185.2_ASM187918v2_genomic > {cases_dir}/0810PADBR-1_tree.tre\n",
    "    !gdi --project-dir {index_path} export tree GCF_000703365.1_Ec2011C-3609_genomic > {cases_dir}/1405WAEXK-1_tree.tre\n",
    "    !gdi --project-dir {index_path} export tree GCF_001047715.2_ASM104771v2_genomic > {cases_dir}/1408MLGX6-3WGS_tree.tre\n",
    "    !gdi --project-dir {index_path} export tree GCF_000439415.1_ASM43941v1_genomic > {cases_dir}/1203NYJAP-1_-_Tuna_Scrape_Outbreak_tree.tre\n",
    "else:\n",
    "    print(f'build_tree={build_tree} and single_index={single_index} so no trees to export')"
   ]
  },
  {
   "cell_type": "code",
   "execution_count": null,
   "id": "3162d923-834f-45f6-b4cc-653d9a1e1d97",
   "metadata": {
    "papermill": {
     "duration": 0.045297,
     "end_time": "2022-03-01T07:19:10.023567",
     "exception": false,
     "start_time": "2022-03-01T07:19:09.978270",
     "status": "completed"
    },
    "tags": []
   },
   "outputs": [],
   "source": []
  }
 ],
 "metadata": {
  "kernelspec": {
   "display_name": "Python 3 (ipykernel)",
   "language": "python",
   "name": "python3"
  },
  "language_info": {
   "codemirror_mode": {
    "name": "ipython",
    "version": 3
   },
   "file_extension": ".py",
   "mimetype": "text/x-python",
   "name": "python",
   "nbconvert_exporter": "python",
   "pygments_lexer": "ipython3",
   "version": "3.8.12"
  },
  "papermill": {
   "default_parameters": {},
   "duration": 26878.158755,
   "end_time": "2022-03-01T07:19:10.733567",
   "environment_variables": {},
   "exception": null,
   "input_path": "template-3-index-genomes.ipynb",
   "output_path": "3-index-genomes.ipynb",
   "parameters": {},
   "start_time": "2022-02-28T23:51:12.574812",
   "version": "2.3.4"
  }
 },
 "nbformat": 4,
 "nbformat_minor": 5
}
