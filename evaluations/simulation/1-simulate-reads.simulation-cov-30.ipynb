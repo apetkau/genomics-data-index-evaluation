{
 "cells": [
  {
   "cell_type": "markdown",
   "id": "39afc998-7d9f-4d4e-9147-fb6198f83f2d",
   "metadata": {
    "papermill": {
     "duration": 0.017455,
     "end_time": "2021-08-31T23:39:53.322987",
     "exception": false,
     "start_time": "2021-08-31T23:39:53.305532",
     "status": "completed"
    },
    "tags": []
   },
   "source": [
    "# 1. Parameters"
   ]
  },
  {
   "cell_type": "code",
   "execution_count": 1,
   "id": "8eee723b-55a2-4355-b867-c5e682a9f800",
   "metadata": {
    "execution": {
     "iopub.execute_input": "2021-08-31T23:39:53.508626Z",
     "iopub.status.busy": "2021-08-31T23:39:53.506833Z",
     "iopub.status.idle": "2021-08-31T23:39:53.552357Z",
     "shell.execute_reply": "2021-08-31T23:39:53.550738Z"
    },
    "papermill": {
     "duration": 0.168251,
     "end_time": "2021-08-31T23:39:53.552636",
     "exception": false,
     "start_time": "2021-08-31T23:39:53.384385",
     "status": "completed"
    },
    "tags": [
     "parameters"
    ]
   },
   "outputs": [],
   "source": [
    "# Defaults\n",
    "\n",
    "## Directories\n",
    "simulation_dir <- \"simulations/unset\"\n",
    "reference_file <- \"input/S_HeidelbergSL476.fasta.gz\"\n",
    "initial_tree_file <- \"input/salmonella.tre\"\n",
    "reference_name <- \"NC_011083\"\n",
    "\n",
    "## Simulation parameters\n",
    "sub_lambda <- 1e-2\n",
    "sub_mu <- 1\n",
    "sub_invariant <- 0.9\n",
    "ins_rate <- 1e-4\n",
    "ins_max_length <- 60\n",
    "ins_a <- 1.6\n",
    "del_rate <- 1e-4\n",
    "del_max_length <- 60\n",
    "del_a <- 1.6\n",
    "\n",
    "## Read simulation information\n",
    "read_coverage <- 5\n",
    "read_length <- 250\n",
    "\n",
    "## Other\n",
    "ncores <- 48"
   ]
  },
  {
   "cell_type": "code",
   "execution_count": 2,
   "id": "94b39dc5",
   "metadata": {
    "execution": {
     "iopub.execute_input": "2021-08-31T23:39:53.623332Z",
     "iopub.status.busy": "2021-08-31T23:39:53.584915Z",
     "iopub.status.idle": "2021-08-31T23:39:53.637351Z",
     "shell.execute_reply": "2021-08-31T23:39:53.636217Z"
    },
    "papermill": {
     "duration": 0.067997,
     "end_time": "2021-08-31T23:39:53.637597",
     "exception": false,
     "start_time": "2021-08-31T23:39:53.569600",
     "status": "completed"
    },
    "tags": [
     "injected-parameters"
    ]
   },
   "outputs": [],
   "source": [
    "# Parameters\n",
    "read_coverage = 30\n",
    "mincov = 10\n",
    "simulation_dir = \"simulations/cov-30\"\n",
    "iterations = 3\n"
   ]
  },
  {
   "cell_type": "code",
   "execution_count": 3,
   "id": "845350c4-9369-4350-bcce-504d05f5ff55",
   "metadata": {
    "execution": {
     "iopub.execute_input": "2021-08-31T23:39:53.668845Z",
     "iopub.status.busy": "2021-08-31T23:39:53.666811Z",
     "iopub.status.idle": "2021-08-31T23:39:53.698157Z",
     "shell.execute_reply": "2021-08-31T23:39:53.694123Z"
    },
    "papermill": {
     "duration": 0.045185,
     "end_time": "2021-08-31T23:39:53.698374",
     "exception": false,
     "start_time": "2021-08-31T23:39:53.653189",
     "status": "completed"
    },
    "tags": []
   },
   "outputs": [
    {
     "name": "stdout",
     "output_type": "stream",
     "text": [
      "[1] \"simulations/cov-30/simulated_data\"\n"
     ]
    },
    {
     "name": "stdout",
     "output_type": "stream",
     "text": [
      "[1] \"simulations/cov-30/simulated_data/haplotypes\"\n"
     ]
    }
   ],
   "source": [
    "output_dir <- file.path(simulation_dir, \"simulated_data\")\n",
    "output_vcf_prefix <- file.path(output_dir, \"haplotypes\")\n",
    "reads_data_initial_prefix <- file.path(output_dir, \"reads_initial\", \"data\")\n",
    "print(output_dir)\n",
    "print(output_vcf_prefix)"
   ]
  },
  {
   "cell_type": "markdown",
   "id": "noticed-coating",
   "metadata": {
    "papermill": {
     "duration": 0.009136,
     "end_time": "2021-08-31T23:39:53.724210",
     "exception": false,
     "start_time": "2021-08-31T23:39:53.715074",
     "status": "completed"
    },
    "tags": []
   },
   "source": [
    "# 2. Generate simulated data\n",
    "\n",
    "This simulates *Salmonella* data using a reference genome and a tree."
   ]
  },
  {
   "cell_type": "code",
   "execution_count": 4,
   "id": "bright-polymer",
   "metadata": {
    "execution": {
     "iopub.execute_input": "2021-08-31T23:39:53.744907Z",
     "iopub.status.busy": "2021-08-31T23:39:53.742167Z",
     "iopub.status.idle": "2021-08-31T23:39:53.833838Z",
     "shell.execute_reply": "2021-08-31T23:39:53.833129Z"
    },
    "papermill": {
     "duration": 0.102765,
     "end_time": "2021-08-31T23:39:53.833985",
     "exception": false,
     "start_time": "2021-08-31T23:39:53.731220",
     "status": "completed"
    },
    "tags": []
   },
   "outputs": [
    {
     "data": {
      "text/html": [
       "TRUE"
      ],
      "text/latex": [
       "TRUE"
      ],
      "text/markdown": [
       "TRUE"
      ],
      "text/plain": [
       "[1] TRUE"
      ]
     },
     "metadata": {},
     "output_type": "display_data"
    }
   ],
   "source": [
    "library(jackalope)\n",
    "\n",
    "# Make sure we've complied with openmp\n",
    "jackalope:::using_openmp()"
   ]
  },
  {
   "cell_type": "code",
   "execution_count": 5,
   "id": "chronic-region",
   "metadata": {
    "execution": {
     "iopub.execute_input": "2021-08-31T23:39:53.858682Z",
     "iopub.status.busy": "2021-08-31T23:39:53.856856Z",
     "iopub.status.idle": "2021-08-31T23:39:53.946427Z",
     "shell.execute_reply": "2021-08-31T23:39:53.941143Z"
    },
    "papermill": {
     "duration": 0.101728,
     "end_time": "2021-08-31T23:39:53.946690",
     "exception": false,
     "start_time": "2021-08-31T23:39:53.844962",
     "status": "completed"
    },
    "tags": []
   },
   "outputs": [
    {
     "data": {
      "text/plain": [
       "< Set of 1 chromosomes >\n",
       "# Total size: 4,888,768 bp\n",
       "  name                             chromosome                             length\n",
       "NC_011083  AGAGATTACGTCTGGTTGCAAGAGATCA...ATAACGTGCTGTAATTTTTAAAATAATA   4888768"
      ]
     },
     "metadata": {},
     "output_type": "display_data"
    }
   ],
   "source": [
    "reference <- read_fasta(reference_file)\n",
    "reference$set_names(c(reference_name))\n",
    "reference_len <- 4888768 # I don't know how to programatically get this in R\n",
    "reference"
   ]
  },
  {
   "cell_type": "code",
   "execution_count": 6,
   "id": "documented-helmet",
   "metadata": {
    "execution": {
     "iopub.execute_input": "2021-08-31T23:39:53.982760Z",
     "iopub.status.busy": "2021-08-31T23:39:53.980882Z",
     "iopub.status.idle": "2021-08-31T23:39:54.058921Z",
     "shell.execute_reply": "2021-08-31T23:39:54.058082Z"
    },
    "papermill": {
     "duration": 0.093509,
     "end_time": "2021-08-31T23:39:54.059105",
     "exception": false,
     "start_time": "2021-08-31T23:39:53.965596",
     "status": "completed"
    },
    "tags": []
   },
   "outputs": [
    {
     "data": {
      "text/plain": [
       "\n",
       "Phylogenetic tree with 60 tips and 59 internal nodes.\n",
       "\n",
       "Tip labels:\n",
       "  reference, SH12-013, SH12-014, SH10-015, SH10-014, SH11-002, ...\n",
       "Node labels:\n",
       "  Root, 1.000000, 0.000000, 0.000000, 1.000000, 0.000000, ...\n",
       "\n",
       "Rooted; includes branch lengths."
      ]
     },
     "metadata": {},
     "output_type": "display_data"
    }
   ],
   "source": [
    "library(ape)\n",
    "\n",
    "tree <- read.tree(initial_tree_file)\n",
    "tree <- root(tree, \"reference\", resolve.root=TRUE)\n",
    "tree"
   ]
  },
  {
   "cell_type": "code",
   "execution_count": 7,
   "id": "proved-silver",
   "metadata": {
    "execution": {
     "iopub.execute_input": "2021-08-31T23:39:54.092397Z",
     "iopub.status.busy": "2021-08-31T23:39:54.090837Z",
     "iopub.status.idle": "2021-08-31T23:40:00.978525Z",
     "shell.execute_reply": "2021-08-31T23:40:00.977059Z"
    },
    "papermill": {
     "duration": 6.90201,
     "end_time": "2021-08-31T23:40:00.978788",
     "exception": false,
     "start_time": "2021-08-31T23:39:54.076778",
     "status": "completed"
    },
    "tags": []
   },
   "outputs": [
    {
     "data": {
      "text/plain": [
       "                              << haplotypes object >>\n",
       "# Haplotypes: 60\n",
       "# Mutations: 220,074\n",
       "\n",
       "                          << Reference genome info: >>\n",
       "< Set of 1 chromosomes >\n",
       "# Total size: 4,888,768 bp\n",
       "  name                             chromosome                             length\n",
       "NC_011083  AGAGATTACGTCTGGTTGCAAGAGATCA...ATAACGTGCTGTAATTTTTAAAATAATA   4888768"
      ]
     },
     "metadata": {},
     "output_type": "display_data"
    }
   ],
   "source": [
    "sub <- sub_JC69(lambda = sub_lambda, mu = sub_mu, invariant = sub_invariant)\n",
    "ins <- indels(rate = ins_rate, max_length = ins_max_length, a = ins_a)\n",
    "del <- indels(rate = del_rate, max_length = del_max_length, a = del_a)\n",
    "\n",
    "ref_haplotypes <- create_haplotypes(reference, haps_phylo(tree), sub=sub, ins=ins, del=del)\n",
    "ref_haplotypes"
   ]
  },
  {
   "cell_type": "markdown",
   "id": "535fa02d-c76c-4067-9582-74f3694d16ea",
   "metadata": {
    "papermill": {
     "duration": 0.010563,
     "end_time": "2021-08-31T23:40:01.008592",
     "exception": false,
     "start_time": "2021-08-31T23:40:00.998029",
     "status": "completed"
    },
    "tags": []
   },
   "source": [
    "# 3. Write simulated data"
   ]
  },
  {
   "cell_type": "code",
   "execution_count": 8,
   "id": "smoking-geology",
   "metadata": {
    "execution": {
     "iopub.execute_input": "2021-08-31T23:40:01.034066Z",
     "iopub.status.busy": "2021-08-31T23:40:01.030599Z",
     "iopub.status.idle": "2021-08-31T23:40:01.408411Z",
     "shell.execute_reply": "2021-08-31T23:40:01.407229Z"
    },
    "papermill": {
     "duration": 0.391815,
     "end_time": "2021-08-31T23:40:01.408649",
     "exception": false,
     "start_time": "2021-08-31T23:40:01.016834",
     "status": "completed"
    },
    "tags": []
   },
   "outputs": [],
   "source": [
    "write_vcf(ref_haplotypes, out_prefix=output_vcf_prefix, compress=TRUE)"
   ]
  },
  {
   "cell_type": "code",
   "execution_count": 9,
   "id": "d2657fc5-481e-4b24-bbf8-78c02ee735ce",
   "metadata": {
    "execution": {
     "iopub.execute_input": "2021-08-31T23:40:01.448816Z",
     "iopub.status.busy": "2021-08-31T23:40:01.445704Z",
     "iopub.status.idle": "2021-08-31T23:40:04.852661Z",
     "shell.execute_reply": "2021-08-31T23:40:04.851120Z"
    },
    "papermill": {
     "duration": 3.424576,
     "end_time": "2021-08-31T23:40:04.853130",
     "exception": false,
     "start_time": "2021-08-31T23:40:01.428554",
     "status": "completed"
    },
    "tags": []
   },
   "outputs": [],
   "source": [
    "assemblies_prefix = file.path(output_dir, \"assemblies\", \"data\")\n",
    "\n",
    "write_fasta(ref_haplotypes, out_prefix=assemblies_prefix,\n",
    "            compress=TRUE, n_threads=ncores, overwrite=TRUE)"
   ]
  },
  {
   "cell_type": "code",
   "execution_count": 10,
   "id": "continent-freeze",
   "metadata": {
    "execution": {
     "iopub.execute_input": "2021-08-31T23:40:04.895215Z",
     "iopub.status.busy": "2021-08-31T23:40:04.892048Z",
     "iopub.status.idle": "2021-08-31T23:47:50.833772Z",
     "shell.execute_reply": "2021-08-31T23:47:50.831760Z"
    },
    "papermill": {
     "duration": 465.958675,
     "end_time": "2021-08-31T23:47:50.834413",
     "exception": false,
     "start_time": "2021-08-31T23:40:04.875738",
     "status": "completed"
    },
    "tags": []
   },
   "outputs": [
    {
     "name": "stdout",
     "output_type": "stream",
     "text": [
      "[1] \"Number of reads for coverage 30X and read length 250 over 60 samples with respect to reference with length 4888768: 35199130\"\n"
     ]
    }
   ],
   "source": [
    "n_samples <- length(tree$tip)\n",
    "n_reads <- round((reference$sizes() * read_coverage * n_samples) / read_length)\n",
    "print(sprintf(\"Number of reads for coverage %sX and read length %s over %s samples with respect to reference with length %s: %s\", \n",
    "              read_coverage, read_length, n_samples, reference_len, n_reads))\n",
    "\n",
    "illumina(ref_haplotypes, out_prefix = reads_data_initial_prefix, sep_files=TRUE, n_reads = n_reads,\n",
    "         frag_mean = read_length * 2 + 50, frag_sd = 100,\n",
    "         compress=TRUE, comp_method=\"bgzip\", n_threads=ncores,\n",
    "         paired=TRUE, read_length = read_length)"
   ]
  },
  {
   "cell_type": "code",
   "execution_count": 11,
   "id": "israeli-unknown",
   "metadata": {
    "execution": {
     "iopub.execute_input": "2021-08-31T23:47:50.885817Z",
     "iopub.status.busy": "2021-08-31T23:47:50.870056Z",
     "iopub.status.idle": "2021-08-31T23:47:50.917969Z",
     "shell.execute_reply": "2021-08-31T23:47:50.916726Z"
    },
    "papermill": {
     "duration": 0.061708,
     "end_time": "2021-08-31T23:47:50.918210",
     "exception": false,
     "start_time": "2021-08-31T23:47:50.856502",
     "status": "completed"
    },
    "tags": []
   },
   "outputs": [
    {
     "name": "stdout",
     "output_type": "stream",
     "text": [
      "[1] \"Removing: simulations/cov-30/simulated_data/reads_initial/data_reference_R1.fq.gz\"\n"
     ]
    },
    {
     "name": "stdout",
     "output_type": "stream",
     "text": [
      "[1] \"Removing: simulations/cov-30/simulated_data/reads_initial/data_reference_R2.fq.gz\"\n"
     ]
    }
   ],
   "source": [
    "# Remove the simulated reads for the reference genome since I don't want these in the tree\n",
    "ref1 <- paste(toString(reads_data_initial_prefix), \"_reference_R1.fq.gz\", sep=\"\")\n",
    "ref2 <- paste(toString(reads_data_initial_prefix), \"_reference_R2.fq.gz\", sep=\"\")\n",
    "if (file.exists(ref1)) {\n",
    "    file.remove(ref1)\n",
    "    print(sprintf(\"Removing: %s\", ref1))\n",
    "}\n",
    "if (file.exists(ref2)) {\n",
    "    file.remove(ref2)\n",
    "    print(sprintf(\"Removing: %s\", ref2))\n",
    "}"
   ]
  },
  {
   "cell_type": "code",
   "execution_count": 12,
   "id": "likely-elite",
   "metadata": {
    "execution": {
     "iopub.execute_input": "2021-08-31T23:47:50.956016Z",
     "iopub.status.busy": "2021-08-31T23:47:50.953174Z",
     "iopub.status.idle": "2021-08-31T23:47:50.977270Z",
     "shell.execute_reply": "2021-08-31T23:47:50.975477Z"
    },
    "papermill": {
     "duration": 0.040072,
     "end_time": "2021-08-31T23:47:50.977448",
     "exception": false,
     "start_time": "2021-08-31T23:47:50.937376",
     "status": "completed"
    },
    "tags": []
   },
   "outputs": [
    {
     "name": "stdout",
     "output_type": "stream",
     "text": [
      "[1] \"Removing: simulations/cov-30/simulated_data/assemblies/data__reference.fa.gz\"\n"
     ]
    }
   ],
   "source": [
    "# Remove the new reference assembly genome since I don't need it\n",
    "ref1 <- paste(toString(assemblies_prefix), \"__reference.fa.gz\", sep=\"\")\n",
    "if (file.exists(ref1)) {\n",
    "    file.remove(ref1)\n",
    "    print(sprintf(\"Removing: %s\", ref1))\n",
    "}"
   ]
  },
  {
   "cell_type": "code",
   "execution_count": null,
   "id": "6ab27399-288a-4067-a812-d946410658a5",
   "metadata": {
    "papermill": {
     "duration": 0.010567,
     "end_time": "2021-08-31T23:47:51.005855",
     "exception": false,
     "start_time": "2021-08-31T23:47:50.995288",
     "status": "completed"
    },
    "tags": []
   },
   "outputs": [],
   "source": []
  }
 ],
 "metadata": {
  "kernelspec": {
   "display_name": "R",
   "language": "R",
   "name": "ir"
  },
  "language_info": {
   "codemirror_mode": "r",
   "file_extension": ".r",
   "mimetype": "text/x-r-source",
   "name": "R",
   "pygments_lexer": "r",
   "version": "4.1.1"
  },
  "papermill": {
   "default_parameters": {},
   "duration": 479.255548,
   "end_time": "2021-08-31T23:47:51.431331",
   "environment_variables": {},
   "exception": null,
   "input_path": "template-1-simulate-reads.ipynb",
   "output_path": "1-simulate-reads.simulation-cov-30.ipynb",
   "parameters": {
    "iterations": 3,
    "mincov": 10,
    "read_coverage": 30,
    "simulation_dir": "simulations/cov-30"
   },
   "start_time": "2021-08-31T23:39:52.175783",
   "version": "2.3.3"
  }
 },
 "nbformat": 4,
 "nbformat_minor": 5
}