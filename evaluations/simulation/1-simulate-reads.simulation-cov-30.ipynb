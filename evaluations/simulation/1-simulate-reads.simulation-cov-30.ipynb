{
 "cells": [
  {
   "cell_type": "markdown",
   "id": "39afc998-7d9f-4d4e-9147-fb6198f83f2d",
   "metadata": {
    "papermill": {
     "duration": 0.018506,
     "end_time": "2021-09-02T02:51:33.137046",
     "exception": false,
     "start_time": "2021-09-02T02:51:33.118540",
     "status": "completed"
    },
    "tags": []
   },
   "source": [
    "# 1. Parameters"
   ]
  },
  {
   "cell_type": "code",
   "execution_count": 1,
   "id": "8eee723b-55a2-4355-b867-c5e682a9f800",
   "metadata": {
    "execution": {
     "iopub.execute_input": "2021-09-02T02:51:33.266782Z",
     "iopub.status.busy": "2021-09-02T02:51:33.264932Z",
     "iopub.status.idle": "2021-09-02T02:51:33.314893Z",
     "shell.execute_reply": "2021-09-02T02:51:33.313528Z"
    },
    "papermill": {
     "duration": 0.167948,
     "end_time": "2021-09-02T02:51:33.315172",
     "exception": false,
     "start_time": "2021-09-02T02:51:33.147224",
     "status": "completed"
    },
    "tags": [
     "parameters"
    ]
   },
   "outputs": [],
   "source": [
    "# Defaults\n",
    "\n",
    "## Random seed\n",
    "random_seed <- 25524\n",
    "\n",
    "## Directories\n",
    "simulation_dir <- \"simulations/unset\"\n",
    "reference_file <- \"simulations/reference/reference.fa.gz\"\n",
    "initial_tree_file <- \"input/salmonella.tre\"\n",
    "\n",
    "## Simulation parameters\n",
    "sub_lambda <- 1e-2\n",
    "sub_pi_tcag <- c(0.1, 0.2, 0.3, 0.4)\n",
    "sub_alpha <- 0.2\n",
    "sub_beta <- 0.1\n",
    "sub_mu <- 1\n",
    "sub_invariant <- 0.3\n",
    "ins_rate <- 1e-4\n",
    "ins_max_length <- 60\n",
    "ins_a <- 1.6\n",
    "del_rate <- 1e-4\n",
    "del_max_length <- 60\n",
    "del_a <- 1.6\n",
    "\n",
    "## Read simulation information\n",
    "read_coverage <- 30\n",
    "read_length <- 250\n",
    "\n",
    "## Other\n",
    "ncores <- 48"
   ]
  },
  {
   "cell_type": "code",
   "execution_count": 2,
   "id": "781565a6",
   "metadata": {
    "execution": {
     "iopub.execute_input": "2021-09-02T02:51:33.383631Z",
     "iopub.status.busy": "2021-09-02T02:51:33.344171Z",
     "iopub.status.idle": "2021-09-02T02:51:33.397829Z",
     "shell.execute_reply": "2021-09-02T02:51:33.396411Z"
    },
    "papermill": {
     "duration": 0.06734,
     "end_time": "2021-09-02T02:51:33.398081",
     "exception": false,
     "start_time": "2021-09-02T02:51:33.330741",
     "status": "completed"
    },
    "tags": [
     "injected-parameters"
    ]
   },
   "outputs": [],
   "source": [
    "# Parameters\n",
    "read_coverage = 30\n",
    "mincov = 10\n",
    "simulation_dir = \"simulations/cov-30\"\n",
    "iterations = 3\n"
   ]
  },
  {
   "cell_type": "code",
   "execution_count": 3,
   "id": "845350c4-9369-4350-bcce-504d05f5ff55",
   "metadata": {
    "execution": {
     "iopub.execute_input": "2021-09-02T02:51:33.429293Z",
     "iopub.status.busy": "2021-09-02T02:51:33.426283Z",
     "iopub.status.idle": "2021-09-02T02:51:33.458421Z",
     "shell.execute_reply": "2021-09-02T02:51:33.457329Z"
    },
    "papermill": {
     "duration": 0.04594,
     "end_time": "2021-09-02T02:51:33.458654",
     "exception": false,
     "start_time": "2021-09-02T02:51:33.412714",
     "status": "completed"
    },
    "tags": []
   },
   "outputs": [
    {
     "name": "stdout",
     "output_type": "stream",
     "text": [
      "[1] \"simulations/cov-30/simulated_data\"\n"
     ]
    },
    {
     "name": "stdout",
     "output_type": "stream",
     "text": [
      "[1] \"simulations/cov-30/simulated_data/haplotypes\"\n"
     ]
    }
   ],
   "source": [
    "output_dir <- file.path(simulation_dir, \"simulated_data\")\n",
    "output_vcf_prefix <- file.path(output_dir, \"haplotypes\")\n",
    "reads_data_initial_prefix <- file.path(output_dir, \"reads_initial\", \"data\")\n",
    "set.seed(random_seed)\n",
    "print(output_dir)\n",
    "print(output_vcf_prefix)"
   ]
  },
  {
   "cell_type": "markdown",
   "id": "noticed-coating",
   "metadata": {
    "papermill": {
     "duration": 0.009529,
     "end_time": "2021-09-02T02:51:33.484315",
     "exception": false,
     "start_time": "2021-09-02T02:51:33.474786",
     "status": "completed"
    },
    "tags": []
   },
   "source": [
    "# 2. Generate simulated data\n",
    "\n",
    "This simulates *Salmonella* data using a reference genome and a tree."
   ]
  },
  {
   "cell_type": "code",
   "execution_count": 4,
   "id": "bright-polymer",
   "metadata": {
    "execution": {
     "iopub.execute_input": "2021-09-02T02:51:33.505132Z",
     "iopub.status.busy": "2021-09-02T02:51:33.502294Z",
     "iopub.status.idle": "2021-09-02T02:51:33.595089Z",
     "shell.execute_reply": "2021-09-02T02:51:33.594198Z"
    },
    "papermill": {
     "duration": 0.104347,
     "end_time": "2021-09-02T02:51:33.595241",
     "exception": false,
     "start_time": "2021-09-02T02:51:33.490894",
     "status": "completed"
    },
    "tags": []
   },
   "outputs": [
    {
     "data": {
      "text/html": [
       "TRUE"
      ],
      "text/latex": [
       "TRUE"
      ],
      "text/markdown": [
       "TRUE"
      ],
      "text/plain": [
       "[1] TRUE"
      ]
     },
     "metadata": {},
     "output_type": "display_data"
    }
   ],
   "source": [
    "library(jackalope)\n",
    "\n",
    "# Make sure we've complied with openmp\n",
    "jackalope:::using_openmp()"
   ]
  },
  {
   "cell_type": "code",
   "execution_count": 5,
   "id": "303635b1-41dc-4917-8e90-30832a9acafd",
   "metadata": {
    "execution": {
     "iopub.execute_input": "2021-09-02T02:51:33.624357Z",
     "iopub.status.busy": "2021-09-02T02:51:33.622834Z",
     "iopub.status.idle": "2021-09-02T02:51:33.649237Z",
     "shell.execute_reply": "2021-09-02T02:51:33.648193Z"
    },
    "papermill": {
     "duration": 0.039789,
     "end_time": "2021-09-02T02:51:33.649438",
     "exception": false,
     "start_time": "2021-09-02T02:51:33.609649",
     "status": "completed"
    },
    "tags": []
   },
   "outputs": [
    {
     "data": {
      "text/plain": [
       "< Set of 1 chromosomes >\n",
       "# Total size: 10,834 bp\n",
       "  name                             chromosome                             length\n",
       "chrom0     GTATTGCGAGGGTGGGGGAGTACGGCAG...CAAGAATGCAACCGACTCTGTCGGGACT     10834"
      ]
     },
     "metadata": {},
     "output_type": "display_data"
    }
   ],
   "source": [
    "reference <- read_fasta(reference_file)\n",
    "reference_len <- reference$sizes()\n",
    "reference"
   ]
  },
  {
   "cell_type": "code",
   "execution_count": 6,
   "id": "documented-helmet",
   "metadata": {
    "execution": {
     "iopub.execute_input": "2021-09-02T02:51:33.679046Z",
     "iopub.status.busy": "2021-09-02T02:51:33.677143Z",
     "iopub.status.idle": "2021-09-02T02:51:33.753467Z",
     "shell.execute_reply": "2021-09-02T02:51:33.752532Z"
    },
    "papermill": {
     "duration": 0.089469,
     "end_time": "2021-09-02T02:51:33.753671",
     "exception": false,
     "start_time": "2021-09-02T02:51:33.664202",
     "status": "completed"
    },
    "tags": []
   },
   "outputs": [
    {
     "data": {
      "text/plain": [
       "\n",
       "Phylogenetic tree with 60 tips and 59 internal nodes.\n",
       "\n",
       "Tip labels:\n",
       "  reference, SH12-013, SH12-014, SH10-015, SH10-014, SH11-002, ...\n",
       "Node labels:\n",
       "  Root, 1.000000, 0.000000, 0.000000, 1.000000, 0.000000, ...\n",
       "\n",
       "Rooted; includes branch lengths."
      ]
     },
     "metadata": {},
     "output_type": "display_data"
    }
   ],
   "source": [
    "library(ape)\n",
    "\n",
    "tree <- read.tree(initial_tree_file)\n",
    "tree <- root(tree, \"reference\", resolve.root=TRUE)\n",
    "tree"
   ]
  },
  {
   "cell_type": "code",
   "execution_count": 7,
   "id": "proved-silver",
   "metadata": {
    "execution": {
     "iopub.execute_input": "2021-09-02T02:51:33.786688Z",
     "iopub.status.busy": "2021-09-02T02:51:33.784360Z",
     "iopub.status.idle": "2021-09-02T02:51:33.920653Z",
     "shell.execute_reply": "2021-09-02T02:51:33.919514Z"
    },
    "papermill": {
     "duration": 0.150785,
     "end_time": "2021-09-02T02:51:33.920897",
     "exception": false,
     "start_time": "2021-09-02T02:51:33.770112",
     "status": "completed"
    },
    "tags": []
   },
   "outputs": [
    {
     "data": {
      "text/plain": [
       "                              << haplotypes object >>\n",
       "# Haplotypes: 60\n",
       "# Mutations: 10,109\n",
       "\n",
       "                          << Reference genome info: >>\n",
       "< Set of 1 chromosomes >\n",
       "# Total size: 10,834 bp\n",
       "  name                             chromosome                             length\n",
       "chrom0     GTATTGCGAGGGTGGGGGAGTACGGCAG...CAAGAATGCAACCGACTCTGTCGGGACT     10834"
      ]
     },
     "metadata": {},
     "output_type": "display_data"
    }
   ],
   "source": [
    "sub <- sub_HKY85(pi_tcag = sub_pi_tcag, mu = sub_mu,\n",
    "                 alpha = sub_alpha, beta = sub_beta, gamma_k = 5,\n",
    "                 invariant = sub_invariant)\n",
    "ins <- indels(rate = ins_rate, max_length = ins_max_length, a = ins_a)\n",
    "del <- indels(rate = del_rate, max_length = del_max_length, a = del_a)\n",
    "\n",
    "ref_haplotypes <- create_haplotypes(reference, haps_phylo(tree), sub=sub, ins=ins, del=del)\n",
    "ref_haplotypes"
   ]
  },
  {
   "cell_type": "markdown",
   "id": "535fa02d-c76c-4067-9582-74f3694d16ea",
   "metadata": {
    "papermill": {
     "duration": 0.009703,
     "end_time": "2021-09-02T02:51:33.948310",
     "exception": false,
     "start_time": "2021-09-02T02:51:33.938607",
     "status": "completed"
    },
    "tags": []
   },
   "source": [
    "# 3. Write simulated data"
   ]
  },
  {
   "cell_type": "code",
   "execution_count": 8,
   "id": "smoking-geology",
   "metadata": {
    "execution": {
     "iopub.execute_input": "2021-09-02T02:51:33.972894Z",
     "iopub.status.busy": "2021-09-02T02:51:33.969604Z",
     "iopub.status.idle": "2021-09-02T02:51:34.011202Z",
     "shell.execute_reply": "2021-09-02T02:51:34.010040Z"
    },
    "papermill": {
     "duration": 0.055387,
     "end_time": "2021-09-02T02:51:34.011432",
     "exception": false,
     "start_time": "2021-09-02T02:51:33.956045",
     "status": "completed"
    },
    "tags": []
   },
   "outputs": [],
   "source": [
    "write_vcf(ref_haplotypes, out_prefix=output_vcf_prefix, compress=TRUE)"
   ]
  },
  {
   "cell_type": "code",
   "execution_count": 9,
   "id": "d2657fc5-481e-4b24-bbf8-78c02ee735ce",
   "metadata": {
    "execution": {
     "iopub.execute_input": "2021-09-02T02:51:34.048535Z",
     "iopub.status.busy": "2021-09-02T02:51:34.045774Z",
     "iopub.status.idle": "2021-09-02T02:51:34.130092Z",
     "shell.execute_reply": "2021-09-02T02:51:34.126862Z"
    },
    "papermill": {
     "duration": 0.100776,
     "end_time": "2021-09-02T02:51:34.130336",
     "exception": false,
     "start_time": "2021-09-02T02:51:34.029560",
     "status": "completed"
    },
    "tags": []
   },
   "outputs": [],
   "source": [
    "assemblies_prefix = file.path(output_dir, \"assemblies\", \"data\")\n",
    "\n",
    "write_fasta(ref_haplotypes, out_prefix=assemblies_prefix,\n",
    "            compress=TRUE, n_threads=ncores, overwrite=TRUE)"
   ]
  },
  {
   "cell_type": "code",
   "execution_count": 10,
   "id": "continent-freeze",
   "metadata": {
    "execution": {
     "iopub.execute_input": "2021-09-02T02:51:34.158186Z",
     "iopub.status.busy": "2021-09-02T02:51:34.156671Z",
     "iopub.status.idle": "2021-09-02T02:57:15.333829Z",
     "shell.execute_reply": "2021-09-02T02:57:15.332617Z"
    },
    "papermill": {
     "duration": 341.189742,
     "end_time": "2021-09-02T02:57:15.334081",
     "exception": false,
     "start_time": "2021-09-02T02:51:34.144339",
     "status": "completed"
    },
    "tags": []
   },
   "outputs": [
    {
     "name": "stdout",
     "output_type": "stream",
     "text": [
      "[1] \"Number of reads for coverage 30X and read length 250 over 60 samples with respect to reference with length 10834: 78005\"\n"
     ]
    }
   ],
   "source": [
    "n_samples <- length(tree$tip)\n",
    "n_reads <- round((reference_len * read_coverage * n_samples) / read_length)\n",
    "print(sprintf(\"Number of reads for coverage %sX and read length %s over %s samples with respect to reference with length %s: %s\", \n",
    "              read_coverage, read_length, n_samples, reference_len, n_reads))\n",
    "\n",
    "illumina(ref_haplotypes, out_prefix = reads_data_initial_prefix, sep_files=TRUE, n_reads = n_reads,\n",
    "         frag_mean = read_length * 2 + 50, frag_sd = 100,\n",
    "         compress=TRUE, comp_method=\"bgzip\", n_threads=ncores,\n",
    "         paired=TRUE, read_length = read_length)"
   ]
  },
  {
   "cell_type": "code",
   "execution_count": 11,
   "id": "israeli-unknown",
   "metadata": {
    "execution": {
     "iopub.execute_input": "2021-09-02T02:57:15.370400Z",
     "iopub.status.busy": "2021-09-02T02:57:15.368637Z",
     "iopub.status.idle": "2021-09-02T02:57:15.404591Z",
     "shell.execute_reply": "2021-09-02T02:57:15.403504Z"
    },
    "papermill": {
     "duration": 0.050115,
     "end_time": "2021-09-02T02:57:15.404811",
     "exception": false,
     "start_time": "2021-09-02T02:57:15.354696",
     "status": "completed"
    },
    "tags": []
   },
   "outputs": [
    {
     "name": "stdout",
     "output_type": "stream",
     "text": [
      "[1] \"Removing: simulations/cov-30/simulated_data/reads_initial/data_reference_R1.fq.gz\"\n"
     ]
    },
    {
     "name": "stdout",
     "output_type": "stream",
     "text": [
      "[1] \"Removing: simulations/cov-30/simulated_data/reads_initial/data_reference_R2.fq.gz\"\n"
     ]
    }
   ],
   "source": [
    "# Remove the simulated reads for the reference genome since I don't want these in the tree\n",
    "ref1 <- paste(toString(reads_data_initial_prefix), \"_reference_R1.fq.gz\", sep=\"\")\n",
    "ref2 <- paste(toString(reads_data_initial_prefix), \"_reference_R2.fq.gz\", sep=\"\")\n",
    "if (file.exists(ref1)) {\n",
    "    file.remove(ref1)\n",
    "    print(sprintf(\"Removing: %s\", ref1))\n",
    "}\n",
    "if (file.exists(ref2)) {\n",
    "    file.remove(ref2)\n",
    "    print(sprintf(\"Removing: %s\", ref2))\n",
    "}"
   ]
  },
  {
   "cell_type": "code",
   "execution_count": 12,
   "id": "likely-elite",
   "metadata": {
    "execution": {
     "iopub.execute_input": "2021-09-02T02:57:15.449825Z",
     "iopub.status.busy": "2021-09-02T02:57:15.446765Z",
     "iopub.status.idle": "2021-09-02T02:57:15.471677Z",
     "shell.execute_reply": "2021-09-02T02:57:15.470457Z"
    },
    "papermill": {
     "duration": 0.042306,
     "end_time": "2021-09-02T02:57:15.471959",
     "exception": false,
     "start_time": "2021-09-02T02:57:15.429653",
     "status": "completed"
    },
    "tags": []
   },
   "outputs": [
    {
     "name": "stdout",
     "output_type": "stream",
     "text": [
      "[1] \"Removing: simulations/cov-30/simulated_data/assemblies/data__reference.fa.gz\"\n"
     ]
    }
   ],
   "source": [
    "# Remove the new reference assembly genome since I don't need it\n",
    "ref1 <- paste(toString(assemblies_prefix), \"__reference.fa.gz\", sep=\"\")\n",
    "if (file.exists(ref1)) {\n",
    "    file.remove(ref1)\n",
    "    print(sprintf(\"Removing: %s\", ref1))\n",
    "}"
   ]
  },
  {
   "cell_type": "code",
   "execution_count": null,
   "id": "6ab27399-288a-4067-a812-d946410658a5",
   "metadata": {
    "papermill": {
     "duration": 0.011133,
     "end_time": "2021-09-02T02:57:15.503984",
     "exception": false,
     "start_time": "2021-09-02T02:57:15.492851",
     "status": "completed"
    },
    "tags": []
   },
   "outputs": [],
   "source": []
  }
 ],
 "metadata": {
  "kernelspec": {
   "display_name": "R",
   "language": "R",
   "name": "ir"
  },
  "language_info": {
   "codemirror_mode": "r",
   "file_extension": ".r",
   "mimetype": "text/x-r-source",
   "name": "R",
   "pygments_lexer": "r",
   "version": "4.1.1"
  },
  "papermill": {
   "default_parameters": {},
   "duration": 344.419802,
   "end_time": "2021-09-02T02:57:16.562927",
   "environment_variables": {},
   "exception": null,
   "input_path": "template-1-simulate-reads.ipynb",
   "output_path": "1-simulate-reads.simulation-cov-30.ipynb",
   "parameters": {
    "iterations": 3,
    "mincov": 10,
    "read_coverage": 30,
    "simulation_dir": "simulations/cov-30"
   },
   "start_time": "2021-09-02T02:51:32.143125",
   "version": "2.3.3"
  }
 },
 "nbformat": 4,
 "nbformat_minor": 5
}