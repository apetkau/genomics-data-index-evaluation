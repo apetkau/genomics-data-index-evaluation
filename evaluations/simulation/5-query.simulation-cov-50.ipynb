{
 "cells": [
  {
   "cell_type": "markdown",
   "id": "f1bc3e40-3158-4009-8a9b-371a7d2d2efe",
   "metadata": {
    "papermill": {
     "duration": 0.015447,
     "end_time": "2021-09-02T06:45:43.003345",
     "exception": false,
     "start_time": "2021-09-02T06:45:42.987898",
     "status": "completed"
    },
    "tags": []
   },
   "source": [
    "# 1. Parameters"
   ]
  },
  {
   "cell_type": "code",
   "execution_count": 1,
   "id": "cf8880a6-5194-4ced-be67-c0610a332a31",
   "metadata": {
    "execution": {
     "iopub.execute_input": "2021-09-02T06:45:43.033061Z",
     "iopub.status.busy": "2021-09-02T06:45:43.032518Z",
     "iopub.status.idle": "2021-09-02T06:45:43.036482Z",
     "shell.execute_reply": "2021-09-02T06:45:43.036919Z"
    },
    "papermill": {
     "duration": 0.024702,
     "end_time": "2021-09-02T06:45:43.037146",
     "exception": false,
     "start_time": "2021-09-02T06:45:43.012444",
     "status": "completed"
    },
    "tags": [
     "parameters"
    ]
   },
   "outputs": [],
   "source": [
    "simulation_dir = 'simulations/unset'"
   ]
  },
  {
   "cell_type": "code",
   "execution_count": 2,
   "id": "8ea2e7b1",
   "metadata": {
    "execution": {
     "iopub.execute_input": "2021-09-02T06:45:43.057644Z",
     "iopub.status.busy": "2021-09-02T06:45:43.057221Z",
     "iopub.status.idle": "2021-09-02T06:45:43.060579Z",
     "shell.execute_reply": "2021-09-02T06:45:43.060210Z"
    },
    "papermill": {
     "duration": 0.01621,
     "end_time": "2021-09-02T06:45:43.060672",
     "exception": false,
     "start_time": "2021-09-02T06:45:43.044462",
     "status": "completed"
    },
    "tags": [
     "injected-parameters"
    ]
   },
   "outputs": [],
   "source": [
    "# Parameters\n",
    "read_coverage = 50\n",
    "mincov = 10\n",
    "simulation_dir = \"simulations/cov-50\"\n",
    "iterations = 3\n"
   ]
  },
  {
   "cell_type": "code",
   "execution_count": 3,
   "id": "7e54ac3f-8dff-492e-8096-65a2ed9f5c90",
   "metadata": {
    "execution": {
     "iopub.execute_input": "2021-09-02T06:45:43.081422Z",
     "iopub.status.busy": "2021-09-02T06:45:43.081033Z",
     "iopub.status.idle": "2021-09-02T06:45:43.084237Z",
     "shell.execute_reply": "2021-09-02T06:45:43.084807Z"
    },
    "papermill": {
     "duration": 0.017573,
     "end_time": "2021-09-02T06:45:43.084998",
     "exception": false,
     "start_time": "2021-09-02T06:45:43.067425",
     "status": "completed"
    },
    "tags": []
   },
   "outputs": [],
   "source": [
    "from pathlib import Path\n",
    "\n",
    "simulation_dir_path = Path(simulation_dir)\n",
    "\n",
    "case_name = str(simulation_dir_path.name)\n",
    "index_reads_path = simulation_dir_path / 'index-reads'\n",
    "index_assemblies_path = simulation_dir_path / 'index-assemblies'\n",
    "\n",
    "output_api_reads_path = simulation_dir_path / 'query-reads-api.tsv'\n",
    "output_api_assemblies_path = simulation_dir_path / 'query-assemblies-api.tsv'"
   ]
  },
  {
   "cell_type": "markdown",
   "id": "54537d03-809a-487c-8686-5e1791dc11de",
   "metadata": {
    "papermill": {
     "duration": 0.007403,
     "end_time": "2021-09-02T06:45:43.101364",
     "exception": false,
     "start_time": "2021-09-02T06:45:43.093961",
     "status": "completed"
    },
    "tags": []
   },
   "source": [
    "# 2. Test query command-line"
   ]
  },
  {
   "cell_type": "markdown",
   "id": "163cd729-a654-499a-a5b7-dc0bd78d8128",
   "metadata": {
    "papermill": {
     "duration": 0.005014,
     "end_time": "2021-09-02T06:45:43.111513",
     "exception": false,
     "start_time": "2021-09-02T06:45:43.106499",
     "status": "completed"
    },
    "tags": []
   },
   "source": [
    "# 3. Test query API"
   ]
  },
  {
   "cell_type": "code",
   "execution_count": 4,
   "id": "e347bcfb-4d0c-4fe8-b68c-00de30d924d9",
   "metadata": {
    "execution": {
     "iopub.execute_input": "2021-09-02T06:45:43.159856Z",
     "iopub.status.busy": "2021-09-02T06:45:43.129685Z",
     "iopub.status.idle": "2021-09-02T06:45:45.589905Z",
     "shell.execute_reply": "2021-09-02T06:45:45.588951Z"
    },
    "papermill": {
     "duration": 2.473419,
     "end_time": "2021-09-02T06:45:45.590159",
     "exception": false,
     "start_time": "2021-09-02T06:45:43.116740",
     "status": "completed"
    },
    "tags": []
   },
   "outputs": [],
   "source": [
    "from typing import List\n",
    "import pandas as pd\n",
    "import genomics_data_index.api as gdi\n",
    "\n",
    "def create_timing_df_single_case(timings: List[float], name: str, kind: str,\n",
    "                                number_features: int) -> pd.DataFrame:\n",
    "    iterations = len(timings)\n",
    "    return pd.DataFrame({\n",
    "        'Name': [name]*iterations,\n",
    "        'Kind': [kind]*iterations,\n",
    "        'Number features': [number_features]*iterations,\n",
    "        'Iteration': range(1, iterations + 1),\n",
    "        'Time': timings,\n",
    "    })\n",
    "\n",
    "def create_timing_df(name: str, index_path: Path) -> pd.DataFrame:\n",
    "    db = gdi.GenomicsDataIndex.connect(index_path)\n",
    "    q = db.samples_query(reference_name='reference', universe='mutations')\n",
    "    number_features = len(q.features_summary())\n",
    "    \n",
    "    # features_summary\n",
    "    result = %timeit -r 10 -o q.features_summary()\n",
    "    fs_df = create_timing_df_single_case(result.timings, name=name, kind='features_summary', number_features=number_features)\n",
    "    \n",
    "    # hasa\n",
    "    result = %timeit -r 10 -o q.hasa(\"chrom0:8983:A:C\")\n",
    "    hasa_df = create_timing_df_single_case(result.timings, name=name, kind='hasa', number_features=number_features)\n",
    "    \n",
    "    # isa\n",
    "    result = %timeit -r 10 -o q.isa(\"SH11-001\")\n",
    "    isa_df = create_timing_df_single_case(result.timings, name=name, kind='isa', number_features=number_features)\n",
    "    \n",
    "    # isin distance\n",
    "    result = %timeit -r 10 -o q.isin(\"SH11-001\", kind='distance', distance=20, units='substitutions')\n",
    "    isin_distance_df = create_timing_df_single_case(result.timings, name=name, kind='isin distance', number_features=number_features)\n",
    "    \n",
    "    # isin mrca\n",
    "    result = %timeit -r 10 -o q.isin([\"SH11-001\", \"SH10-001\"], kind='mrca')\n",
    "    isin_mrca_df = create_timing_df_single_case(result.timings, name=name, kind='isin mrca', number_features=number_features)\n",
    "\n",
    "    return pd.concat([fs_df, hasa_df, isa_df, isin_distance_df, isin_mrca_df])"
   ]
  },
  {
   "cell_type": "markdown",
   "id": "f2180ae5-7850-4680-8e9e-45872d56accb",
   "metadata": {
    "papermill": {
     "duration": 0.008215,
     "end_time": "2021-09-02T06:45:45.611082",
     "exception": false,
     "start_time": "2021-09-02T06:45:45.602867",
     "status": "completed"
    },
    "tags": []
   },
   "source": [
    "## 3.1. Test reads"
   ]
  },
  {
   "cell_type": "code",
   "execution_count": 5,
   "id": "04d3a9c7-23a6-4a04-8735-a637c5534ba8",
   "metadata": {
    "execution": {
     "iopub.execute_input": "2021-09-02T06:45:45.632187Z",
     "iopub.status.busy": "2021-09-02T06:45:45.628199Z",
     "iopub.status.idle": "2021-09-02T06:46:16.521503Z",
     "shell.execute_reply": "2021-09-02T06:46:16.520875Z"
    },
    "papermill": {
     "duration": 30.904382,
     "end_time": "2021-09-02T06:46:16.521671",
     "exception": false,
     "start_time": "2021-09-02T06:45:45.617289",
     "status": "completed"
    },
    "tags": []
   },
   "outputs": [
    {
     "name": "stdout",
     "output_type": "stream",
     "text": [
      "52 ms ± 223 µs per loop (mean ± std. dev. of 10 runs, 10 loops each)\n"
     ]
    },
    {
     "name": "stdout",
     "output_type": "stream",
     "text": [
      "974 µs ± 2.97 µs per loop (mean ± std. dev. of 10 runs, 1000 loops each)\n"
     ]
    },
    {
     "name": "stdout",
     "output_type": "stream",
     "text": [
      "385 µs ± 1.2 µs per loop (mean ± std. dev. of 10 runs, 1000 loops each)\n"
     ]
    },
    {
     "name": "stdout",
     "output_type": "stream",
     "text": [
      "2 ms ± 6.65 µs per loop (mean ± std. dev. of 10 runs, 100 loops each)\n"
     ]
    },
    {
     "name": "stdout",
     "output_type": "stream",
     "text": [
      "679 µs ± 10.4 µs per loop (mean ± std. dev. of 10 runs, 1000 loops each)\n"
     ]
    },
    {
     "data": {
      "text/html": [
       "<div>\n",
       "<style scoped>\n",
       "    .dataframe tbody tr th:only-of-type {\n",
       "        vertical-align: middle;\n",
       "    }\n",
       "\n",
       "    .dataframe tbody tr th {\n",
       "        vertical-align: top;\n",
       "    }\n",
       "\n",
       "    .dataframe thead th {\n",
       "        text-align: right;\n",
       "    }\n",
       "</style>\n",
       "<table border=\"1\" class=\"dataframe\">\n",
       "  <thead>\n",
       "    <tr style=\"text-align: right;\">\n",
       "      <th></th>\n",
       "      <th>Name</th>\n",
       "      <th>Kind</th>\n",
       "      <th>Number features</th>\n",
       "      <th>Iteration</th>\n",
       "      <th>Time</th>\n",
       "    </tr>\n",
       "  </thead>\n",
       "  <tbody>\n",
       "    <tr>\n",
       "      <th>0</th>\n",
       "      <td>cov-50 (reads)</td>\n",
       "      <td>features_summary</td>\n",
       "      <td>750</td>\n",
       "      <td>1</td>\n",
       "      <td>0.051866</td>\n",
       "    </tr>\n",
       "    <tr>\n",
       "      <th>1</th>\n",
       "      <td>cov-50 (reads)</td>\n",
       "      <td>features_summary</td>\n",
       "      <td>750</td>\n",
       "      <td>2</td>\n",
       "      <td>0.051970</td>\n",
       "    </tr>\n",
       "    <tr>\n",
       "      <th>2</th>\n",
       "      <td>cov-50 (reads)</td>\n",
       "      <td>features_summary</td>\n",
       "      <td>750</td>\n",
       "      <td>3</td>\n",
       "      <td>0.051855</td>\n",
       "    </tr>\n",
       "    <tr>\n",
       "      <th>3</th>\n",
       "      <td>cov-50 (reads)</td>\n",
       "      <td>features_summary</td>\n",
       "      <td>750</td>\n",
       "      <td>4</td>\n",
       "      <td>0.051882</td>\n",
       "    </tr>\n",
       "    <tr>\n",
       "      <th>4</th>\n",
       "      <td>cov-50 (reads)</td>\n",
       "      <td>features_summary</td>\n",
       "      <td>750</td>\n",
       "      <td>5</td>\n",
       "      <td>0.052103</td>\n",
       "    </tr>\n",
       "  </tbody>\n",
       "</table>\n",
       "</div>"
      ],
      "text/plain": [
       "             Name              Kind  Number features  Iteration      Time\n",
       "0  cov-50 (reads)  features_summary              750          1  0.051866\n",
       "1  cov-50 (reads)  features_summary              750          2  0.051970\n",
       "2  cov-50 (reads)  features_summary              750          3  0.051855\n",
       "3  cov-50 (reads)  features_summary              750          4  0.051882\n",
       "4  cov-50 (reads)  features_summary              750          5  0.052103"
      ]
     },
     "execution_count": 5,
     "metadata": {},
     "output_type": "execute_result"
    }
   ],
   "source": [
    "reads_df = create_timing_df(name=f'{case_name} (reads)', index_path=index_reads_path)\n",
    "reads_df.head(5)"
   ]
  },
  {
   "cell_type": "code",
   "execution_count": 6,
   "id": "09e7fb11-5c83-4983-82b9-4a54fca23b52",
   "metadata": {
    "execution": {
     "iopub.execute_input": "2021-09-02T06:46:16.546162Z",
     "iopub.status.busy": "2021-09-02T06:46:16.545756Z",
     "iopub.status.idle": "2021-09-02T06:46:16.556211Z",
     "shell.execute_reply": "2021-09-02T06:46:16.555284Z"
    },
    "papermill": {
     "duration": 0.025158,
     "end_time": "2021-09-02T06:46:16.556468",
     "exception": false,
     "start_time": "2021-09-02T06:46:16.531310",
     "status": "completed"
    },
    "tags": []
   },
   "outputs": [],
   "source": [
    "reads_df.to_csv(output_api_reads_path, sep='\\t', index=False)"
   ]
  },
  {
   "cell_type": "markdown",
   "id": "2a7874a5-3ecd-4e59-a834-3c27943e4bf0",
   "metadata": {
    "papermill": {
     "duration": 0.009642,
     "end_time": "2021-09-02T06:46:16.581909",
     "exception": false,
     "start_time": "2021-09-02T06:46:16.572267",
     "status": "completed"
    },
    "tags": []
   },
   "source": [
    "## 3.2. Test assemblies"
   ]
  },
  {
   "cell_type": "code",
   "execution_count": 7,
   "id": "76a8327f-fcc7-4ec3-a140-877ed417a510",
   "metadata": {
    "execution": {
     "iopub.execute_input": "2021-09-02T06:46:16.603528Z",
     "iopub.status.busy": "2021-09-02T06:46:16.601182Z",
     "iopub.status.idle": "2021-09-02T06:46:47.455095Z",
     "shell.execute_reply": "2021-09-02T06:46:47.454471Z"
    },
    "papermill": {
     "duration": 30.865974,
     "end_time": "2021-09-02T06:46:47.455260",
     "exception": false,
     "start_time": "2021-09-02T06:46:16.589286",
     "status": "completed"
    },
    "tags": []
   },
   "outputs": [
    {
     "name": "stderr",
     "output_type": "stream",
     "text": [
      "Attempting to set global database_path_translator=<genomics_data_index.storage.model.db.DatabasePathTranslator.DatabasePathTranslator object at 0x7f4438737610> but it is already set\n"
     ]
    },
    {
     "name": "stdout",
     "output_type": "stream",
     "text": [
      "53.4 ms ± 1.01 ms per loop (mean ± std. dev. of 10 runs, 10 loops each)\n"
     ]
    },
    {
     "name": "stdout",
     "output_type": "stream",
     "text": [
      "918 µs ± 1.83 µs per loop (mean ± std. dev. of 10 runs, 1000 loops each)\n"
     ]
    },
    {
     "name": "stdout",
     "output_type": "stream",
     "text": [
      "405 µs ± 6.56 µs per loop (mean ± std. dev. of 10 runs, 1000 loops each)\n"
     ]
    },
    {
     "name": "stdout",
     "output_type": "stream",
     "text": [
      "2.31 ms ± 32.3 µs per loop (mean ± std. dev. of 10 runs, 100 loops each)\n"
     ]
    },
    {
     "name": "stdout",
     "output_type": "stream",
     "text": [
      "671 µs ± 1.23 µs per loop (mean ± std. dev. of 10 runs, 1000 loops each)\n"
     ]
    },
    {
     "data": {
      "text/html": [
       "<div>\n",
       "<style scoped>\n",
       "    .dataframe tbody tr th:only-of-type {\n",
       "        vertical-align: middle;\n",
       "    }\n",
       "\n",
       "    .dataframe tbody tr th {\n",
       "        vertical-align: top;\n",
       "    }\n",
       "\n",
       "    .dataframe thead th {\n",
       "        text-align: right;\n",
       "    }\n",
       "</style>\n",
       "<table border=\"1\" class=\"dataframe\">\n",
       "  <thead>\n",
       "    <tr style=\"text-align: right;\">\n",
       "      <th></th>\n",
       "      <th>Name</th>\n",
       "      <th>Kind</th>\n",
       "      <th>Number features</th>\n",
       "      <th>Iteration</th>\n",
       "      <th>Time</th>\n",
       "    </tr>\n",
       "  </thead>\n",
       "  <tbody>\n",
       "    <tr>\n",
       "      <th>0</th>\n",
       "      <td>cov-50 (assemblies)</td>\n",
       "      <td>features_summary</td>\n",
       "      <td>765</td>\n",
       "      <td>1</td>\n",
       "      <td>0.053362</td>\n",
       "    </tr>\n",
       "    <tr>\n",
       "      <th>1</th>\n",
       "      <td>cov-50 (assemblies)</td>\n",
       "      <td>features_summary</td>\n",
       "      <td>765</td>\n",
       "      <td>2</td>\n",
       "      <td>0.053260</td>\n",
       "    </tr>\n",
       "    <tr>\n",
       "      <th>2</th>\n",
       "      <td>cov-50 (assemblies)</td>\n",
       "      <td>features_summary</td>\n",
       "      <td>765</td>\n",
       "      <td>3</td>\n",
       "      <td>0.053371</td>\n",
       "    </tr>\n",
       "    <tr>\n",
       "      <th>3</th>\n",
       "      <td>cov-50 (assemblies)</td>\n",
       "      <td>features_summary</td>\n",
       "      <td>765</td>\n",
       "      <td>4</td>\n",
       "      <td>0.055017</td>\n",
       "    </tr>\n",
       "    <tr>\n",
       "      <th>4</th>\n",
       "      <td>cov-50 (assemblies)</td>\n",
       "      <td>features_summary</td>\n",
       "      <td>765</td>\n",
       "      <td>5</td>\n",
       "      <td>0.052532</td>\n",
       "    </tr>\n",
       "  </tbody>\n",
       "</table>\n",
       "</div>"
      ],
      "text/plain": [
       "                  Name              Kind  Number features  Iteration      Time\n",
       "0  cov-50 (assemblies)  features_summary              765          1  0.053362\n",
       "1  cov-50 (assemblies)  features_summary              765          2  0.053260\n",
       "2  cov-50 (assemblies)  features_summary              765          3  0.053371\n",
       "3  cov-50 (assemblies)  features_summary              765          4  0.055017\n",
       "4  cov-50 (assemblies)  features_summary              765          5  0.052532"
      ]
     },
     "execution_count": 7,
     "metadata": {},
     "output_type": "execute_result"
    }
   ],
   "source": [
    "assemblies_df = create_timing_df(name=f'{case_name} (assemblies)', index_path=index_assemblies_path)\n",
    "assemblies_df.head(5)"
   ]
  },
  {
   "cell_type": "code",
   "execution_count": 8,
   "id": "aa0b72cc-c7d5-4bac-885b-2f3309739dc9",
   "metadata": {
    "execution": {
     "iopub.execute_input": "2021-09-02T06:46:47.482294Z",
     "iopub.status.busy": "2021-09-02T06:46:47.481890Z",
     "iopub.status.idle": "2021-09-02T06:46:47.487952Z",
     "shell.execute_reply": "2021-09-02T06:46:47.487636Z"
    },
    "papermill": {
     "duration": 0.021653,
     "end_time": "2021-09-02T06:46:47.488039",
     "exception": false,
     "start_time": "2021-09-02T06:46:47.466386",
     "status": "completed"
    },
    "tags": []
   },
   "outputs": [],
   "source": [
    "assemblies_df.to_csv(output_api_assemblies_path, sep='\\t', index=False)"
   ]
  }
 ],
 "metadata": {
  "kernelspec": {
   "display_name": "Python 3 (ipykernel)",
   "language": "python",
   "name": "python3"
  },
  "language_info": {
   "codemirror_mode": {
    "name": "ipython",
    "version": 3
   },
   "file_extension": ".py",
   "mimetype": "text/x-python",
   "name": "python",
   "nbconvert_exporter": "python",
   "pygments_lexer": "ipython3",
   "version": "3.8.10"
  },
  "papermill": {
   "default_parameters": {},
   "duration": 65.816123,
   "end_time": "2021-09-02T06:46:48.008680",
   "environment_variables": {},
   "exception": null,
   "input_path": "template-5-query.ipynb",
   "output_path": "5-query.simulation-cov-50.ipynb",
   "parameters": {
    "iterations": 3,
    "mincov": 10,
    "read_coverage": 50,
    "simulation_dir": "simulations/cov-50"
   },
   "start_time": "2021-09-02T06:45:42.192557",
   "version": "2.3.3"
  }
 },
 "nbformat": 4,
 "nbformat_minor": 5
}