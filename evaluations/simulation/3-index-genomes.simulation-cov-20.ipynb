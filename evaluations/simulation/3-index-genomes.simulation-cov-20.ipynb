{
 "cells": [
  {
   "cell_type": "markdown",
   "id": "7d3667b4-b1f8-4347-96e3-830c25b06740",
   "metadata": {
    "papermill": {
     "duration": 0.019077,
     "end_time": "2021-09-11T21:58:31.852001",
     "exception": false,
     "start_time": "2021-09-11T21:58:31.832924",
     "status": "completed"
    },
    "tags": []
   },
   "source": [
    "# 1. Parameters"
   ]
  },
  {
   "cell_type": "code",
   "execution_count": 1,
   "id": "d4ab0749-b286-4c34-b63c-a854e4952bae",
   "metadata": {
    "execution": {
     "iopub.execute_input": "2021-09-11T21:58:31.884170Z",
     "iopub.status.busy": "2021-09-11T21:58:31.878553Z",
     "iopub.status.idle": "2021-09-11T21:58:31.889701Z",
     "shell.execute_reply": "2021-09-11T21:58:31.888987Z"
    },
    "papermill": {
     "duration": 0.027423,
     "end_time": "2021-09-11T21:58:31.889878",
     "exception": false,
     "start_time": "2021-09-11T21:58:31.862455",
     "status": "completed"
    },
    "tags": [
     "parameters"
    ]
   },
   "outputs": [],
   "source": [
    "# Defaults\n",
    "simulation_dir = 'simulations/unset'\n",
    "reference_file = 'simulations/reference/reference.fa.gz'\n",
    "iterations = 3\n",
    "mincov = 10\n",
    "ncores = 32"
   ]
  },
  {
   "cell_type": "code",
   "execution_count": 2,
   "id": "9f5012c5",
   "metadata": {
    "execution": {
     "iopub.execute_input": "2021-09-11T21:58:31.926581Z",
     "iopub.status.busy": "2021-09-11T21:58:31.926100Z",
     "iopub.status.idle": "2021-09-11T21:58:31.929202Z",
     "shell.execute_reply": "2021-09-11T21:58:31.928736Z"
    },
    "papermill": {
     "duration": 0.0203,
     "end_time": "2021-09-11T21:58:31.929327",
     "exception": false,
     "start_time": "2021-09-11T21:58:31.909027",
     "status": "completed"
    },
    "tags": [
     "injected-parameters"
    ]
   },
   "outputs": [],
   "source": [
    "# Parameters\n",
    "read_coverage = 20\n",
    "mincov = 10\n",
    "simulation_dir = \"simulations/cov-20\"\n",
    "iterations = 3\n",
    "sub_alpha = 0.2\n"
   ]
  },
  {
   "cell_type": "code",
   "execution_count": 3,
   "id": "ce5962e4-261c-4210-b39b-47044e28466b",
   "metadata": {
    "execution": {
     "iopub.execute_input": "2021-09-11T21:58:31.956218Z",
     "iopub.status.busy": "2021-09-11T21:58:31.955378Z",
     "iopub.status.idle": "2021-09-11T21:58:34.094147Z",
     "shell.execute_reply": "2021-09-11T21:58:34.093174Z"
    },
    "papermill": {
     "duration": 2.155663,
     "end_time": "2021-09-11T21:58:34.094379",
     "exception": false,
     "start_time": "2021-09-11T21:58:31.938716",
     "status": "completed"
    },
    "tags": []
   },
   "outputs": [],
   "source": [
    "from pathlib import Path\n",
    "import imp\n",
    "fp, pathname, description = imp.find_module('gdi_benchmark', ['../../lib'])\n",
    "gdi_benchmark = imp.load_module('gdi_benchmark', fp, pathname, description)\n",
    "\n",
    "simulation_dir_path = Path(simulation_dir)\n",
    "\n",
    "case_name = str(simulation_dir_path.name)\n",
    "reads_dir = simulation_dir_path / 'simulated_data' / 'reads'\n",
    "assemblies_dir = simulation_dir_path / 'simulated_data' / 'assemblies'\n",
    "index_reads_path = simulation_dir_path / 'index-reads'\n",
    "index_assemblies_path = simulation_dir_path / 'index-assemblies'\n",
    "output_reads_tree = index_reads_path / 'reads.tre'\n",
    "output_assemblies_tree = index_assemblies_path / 'assemblies.tre'\n",
    "reference_name = Path(reference_file).name.split('.')[0]"
   ]
  },
  {
   "cell_type": "markdown",
   "id": "f208279e-7558-47fc-9362-da29df92828a",
   "metadata": {
    "papermill": {
     "duration": 0.0097,
     "end_time": "2021-09-11T21:58:34.120995",
     "exception": false,
     "start_time": "2021-09-11T21:58:34.111295",
     "status": "completed"
    },
    "tags": []
   },
   "source": [
    "# 2. Index genomes"
   ]
  },
  {
   "cell_type": "code",
   "execution_count": 4,
   "id": "4e936f7c-2fcd-4188-b0e6-6b3ceb5cdcd2",
   "metadata": {
    "execution": {
     "iopub.execute_input": "2021-09-11T21:58:34.142600Z",
     "iopub.status.busy": "2021-09-11T21:58:34.142223Z",
     "iopub.status.idle": "2021-09-11T21:58:36.804330Z",
     "shell.execute_reply": "2021-09-11T21:58:36.805163Z"
    },
    "papermill": {
     "duration": 2.677006,
     "end_time": "2021-09-11T21:58:36.805462",
     "exception": false,
     "start_time": "2021-09-11T21:58:34.128456",
     "status": "completed"
    },
    "tags": []
   },
   "outputs": [
    {
     "name": "stdout",
     "output_type": "stream",
     "text": [
      "gdi, version 0.3.0.dev12\r\n"
     ]
    }
   ],
   "source": [
    "!gdi --version"
   ]
  },
  {
   "cell_type": "markdown",
   "id": "5409ecf8-2158-4361-9d2f-6b1a6c7c63a6",
   "metadata": {
    "papermill": {
     "duration": 0.009509,
     "end_time": "2021-09-11T21:58:36.831487",
     "exception": false,
     "start_time": "2021-09-11T21:58:36.821978",
     "status": "completed"
    },
    "tags": []
   },
   "source": [
    "## 2.1. Index reads"
   ]
  },
  {
   "cell_type": "code",
   "execution_count": 5,
   "id": "b5324f79-913b-4dac-8122-19ad5c0f24b2",
   "metadata": {
    "execution": {
     "iopub.execute_input": "2021-09-11T21:58:36.863173Z",
     "iopub.status.busy": "2021-09-11T21:58:36.862668Z",
     "iopub.status.idle": "2021-09-11T21:58:39.532740Z",
     "shell.execute_reply": "2021-09-11T21:58:39.533586Z"
    },
    "papermill": {
     "duration": 2.695058,
     "end_time": "2021-09-11T21:58:39.533882",
     "exception": false,
     "start_time": "2021-09-11T21:58:36.838824",
     "status": "completed"
    },
    "tags": []
   },
   "outputs": [],
   "source": [
    "input_genomes_file = simulation_dir_path / 'input-reads.tsv'\n",
    "\n",
    "!gdi input --absolute {reads_dir}/*.fq.gz > {input_genomes_file}"
   ]
  },
  {
   "cell_type": "code",
   "execution_count": 6,
   "id": "3d63e861-733e-46f2-8bce-bd1a2c7c7058",
   "metadata": {
    "execution": {
     "iopub.execute_input": "2021-09-11T21:58:39.573779Z",
     "iopub.status.busy": "2021-09-11T21:58:39.570416Z",
     "iopub.status.idle": "2021-09-11T22:09:44.201878Z",
     "shell.execute_reply": "2021-09-11T22:09:44.200702Z"
    },
    "papermill": {
     "duration": 664.651015,
     "end_time": "2021-09-11T22:09:44.202436",
     "exception": false,
     "start_time": "2021-09-11T21:58:39.551421",
     "status": "completed"
    },
    "tags": []
   },
   "outputs": [
    {
     "name": "stdout",
     "output_type": "stream",
     "text": [
      "\n",
      "Iteration 1 of index/analysis of 59 samples with 32 cores\n",
      "Removing any extra snakemake directories: ['snakemake-assemblies.1631397300.6812334']\n"
     ]
    },
    {
     "name": "stdout",
     "output_type": "stream",
     "text": [
      "Creating new index: [gdi init simulations/cov-20/index-reads]\n"
     ]
    },
    {
     "name": "stdout",
     "output_type": "stream",
     "text": [
      "Creating a new index took 2.73 seconds\n",
      "Analysis running: [gdi --project-dir simulations/cov-20/index-reads --ncores 32 analysis --use-conda --no-load-data --reference-file simulations/reference/reference.fa.gz --kmer-size 31 --kmer-size 51 --kmer-size 71 --include-kmer --reads-mincov 10 --input-structured-genomes-file simulations/cov-20/input-reads.tsv]\n"
     ]
    },
    {
     "name": "stdout",
     "output_type": "stream",
     "text": [
      "Analysis took 1.72 minutes\n",
      "Index running: [gdi --project-dir simulations/cov-20/index-reads --ncores 32 load vcf-kmer --reference-file simulations/reference/reference.fa.gz /home/CSCScience.ca/apetkau/workspace/genomics-data-index-evaluation/evaluations/simulation/snakemake-assemblies.1631397526.8410594/gdi-input.fofn]\n"
     ]
    },
    {
     "name": "stdout",
     "output_type": "stream",
     "text": [
      "Indexing took 0.17 minutes\n",
      "Building tree: [gdi --project-dir simulations/cov-20/index-reads --ncores 32 rebuild tree --align-type full --extra-params '--fast -m GTR+F+R4' reference]\n"
     ]
    },
    {
     "name": "stdout",
     "output_type": "stream",
     "text": [
      "Building tree took 1.80 minutes\n"
     ]
    },
    {
     "name": "stderr",
     "output_type": "stream",
     "text": [
      "A reminder to myself to look for a Python solution for directory sizes (instead of running `du`)\n"
     ]
    },
    {
     "name": "stdout",
     "output_type": "stream",
     "text": [
      "\n",
      "Iteration 2 of index/analysis of 59 samples with 32 cores\n",
      "Removing any extra snakemake directories: ['snakemake-assemblies.1631397526.8410594']\n"
     ]
    },
    {
     "name": "stdout",
     "output_type": "stream",
     "text": [
      "Removing any existing indexes simulations/cov-20/index-reads\n",
      "Creating new index: [gdi init simulations/cov-20/index-reads]\n"
     ]
    },
    {
     "name": "stdout",
     "output_type": "stream",
     "text": [
      "Creating a new index took 2.82 seconds\n",
      "Analysis running: [gdi --project-dir simulations/cov-20/index-reads --ncores 32 analysis --use-conda --no-load-data --reference-file simulations/reference/reference.fa.gz --kmer-size 31 --kmer-size 51 --kmer-size 71 --include-kmer --reads-mincov 10 --input-structured-genomes-file simulations/cov-20/input-reads.tsv]\n"
     ]
    },
    {
     "name": "stdout",
     "output_type": "stream",
     "text": [
      "Analysis took 1.76 minutes\n",
      "Index running: [gdi --project-dir simulations/cov-20/index-reads --ncores 32 load vcf-kmer --reference-file simulations/reference/reference.fa.gz /home/CSCScience.ca/apetkau/workspace/genomics-data-index-evaluation/evaluations/simulation/snakemake-assemblies.1631397752.6935508/gdi-input.fofn]\n"
     ]
    },
    {
     "name": "stdout",
     "output_type": "stream",
     "text": [
      "Indexing took 0.16 minutes\n",
      "Building tree: [gdi --project-dir simulations/cov-20/index-reads --ncores 32 rebuild tree --align-type full --extra-params '--fast -m GTR+F+R4' reference]\n"
     ]
    },
    {
     "name": "stdout",
     "output_type": "stream",
     "text": [
      "Building tree took 1.72 minutes\n"
     ]
    },
    {
     "name": "stderr",
     "output_type": "stream",
     "text": [
      "Attempting to set global database_path_translator=<genomics_data_index.storage.model.db.DatabasePathTranslator.DatabasePathTranslator object at 0x7f077c42d7f0> but it is already set\n"
     ]
    },
    {
     "name": "stderr",
     "output_type": "stream",
     "text": [
      "A reminder to myself to look for a Python solution for directory sizes (instead of running `du`)\n"
     ]
    },
    {
     "name": "stdout",
     "output_type": "stream",
     "text": [
      "\n",
      "Iteration 3 of index/analysis of 59 samples with 32 cores\n",
      "Removing any extra snakemake directories: ['snakemake-assemblies.1631397752.6935508']\n"
     ]
    },
    {
     "name": "stdout",
     "output_type": "stream",
     "text": [
      "Removing any existing indexes simulations/cov-20/index-reads\n",
      "Creating new index: [gdi init simulations/cov-20/index-reads]\n"
     ]
    },
    {
     "name": "stdout",
     "output_type": "stream",
     "text": [
      "Creating a new index took 2.82 seconds\n",
      "Analysis running: [gdi --project-dir simulations/cov-20/index-reads --ncores 32 analysis --use-conda --no-load-data --reference-file simulations/reference/reference.fa.gz --kmer-size 31 --kmer-size 51 --kmer-size 71 --include-kmer --reads-mincov 10 --input-structured-genomes-file simulations/cov-20/input-reads.tsv]\n"
     ]
    },
    {
     "name": "stdout",
     "output_type": "stream",
     "text": [
      "Analysis took 1.69 minutes\n",
      "Index running: [gdi --project-dir simulations/cov-20/index-reads --ncores 32 load vcf-kmer --reference-file simulations/reference/reference.fa.gz /home/CSCScience.ca/apetkau/workspace/genomics-data-index-evaluation/evaluations/simulation/snakemake-assemblies.1631397975.4778872/gdi-input.fofn]\n"
     ]
    },
    {
     "name": "stdout",
     "output_type": "stream",
     "text": [
      "Indexing took 0.16 minutes\n",
      "Building tree: [gdi --project-dir simulations/cov-20/index-reads --ncores 32 rebuild tree --align-type full --extra-params '--fast -m GTR+F+R4' reference]\n"
     ]
    },
    {
     "name": "stdout",
     "output_type": "stream",
     "text": [
      "Building tree took 1.67 minutes\n"
     ]
    },
    {
     "name": "stderr",
     "output_type": "stream",
     "text": [
      "Attempting to set global database_path_translator=<genomics_data_index.storage.model.db.DatabasePathTranslator.DatabasePathTranslator object at 0x7f0758a9eca0> but it is already set\n"
     ]
    },
    {
     "name": "stderr",
     "output_type": "stream",
     "text": [
      "A reminder to myself to look for a Python solution for directory sizes (instead of running `du`)\n"
     ]
    }
   ],
   "source": [
    "results_handler = gdi_benchmark.BenchmarkResultsHandler(name=f'{case_name} reads')\n",
    "benchmarker = gdi_benchmark.IndexBenchmarker(benchmark_results_handler=results_handler,\n",
    "                                             index_path=index_reads_path, input_files_file=input_genomes_file,\n",
    "                                             reference_file=reference_file, mincov=mincov, build_tree=True,\n",
    "                                             ncores=ncores)\n",
    "\n",
    "benchmark_df = benchmarker.benchmark(iterations=iterations)"
   ]
  },
  {
   "cell_type": "code",
   "execution_count": 7,
   "id": "3bcb6da7-0164-47f2-abdd-a4c159da1e3b",
   "metadata": {
    "execution": {
     "iopub.execute_input": "2021-09-11T22:09:44.253986Z",
     "iopub.status.busy": "2021-09-11T22:09:44.252899Z",
     "iopub.status.idle": "2021-09-11T22:09:44.279442Z",
     "shell.execute_reply": "2021-09-11T22:09:44.280363Z"
    },
    "papermill": {
     "duration": 0.054622,
     "end_time": "2021-09-11T22:09:44.280629",
     "exception": false,
     "start_time": "2021-09-11T22:09:44.226007",
     "status": "completed"
    },
    "tags": []
   },
   "outputs": [
    {
     "data": {
      "text/html": [
       "<div>\n",
       "<style scoped>\n",
       "    .dataframe tbody tr th:only-of-type {\n",
       "        vertical-align: middle;\n",
       "    }\n",
       "\n",
       "    .dataframe tbody tr th {\n",
       "        vertical-align: top;\n",
       "    }\n",
       "\n",
       "    .dataframe thead th {\n",
       "        text-align: right;\n",
       "    }\n",
       "</style>\n",
       "<table border=\"1\" class=\"dataframe\">\n",
       "  <thead>\n",
       "    <tr style=\"text-align: right;\">\n",
       "      <th></th>\n",
       "      <th>Name</th>\n",
       "      <th>Iteration</th>\n",
       "      <th>Number samples</th>\n",
       "      <th>Number features (all)</th>\n",
       "      <th>Number features (no unknown)</th>\n",
       "      <th>Number cores</th>\n",
       "      <th>Reference length</th>\n",
       "      <th>Analysis runtime</th>\n",
       "      <th>Analysis memory (max)</th>\n",
       "      <th>Analysis memory (max/process)</th>\n",
       "      <th>Analysis disk uage</th>\n",
       "      <th>Index runtime</th>\n",
       "      <th>Index memory (max)</th>\n",
       "      <th>Index memory (max/process)</th>\n",
       "      <th>Index size</th>\n",
       "      <th>Tree runtime</th>\n",
       "      <th>Tree memory (max)</th>\n",
       "      <th>Tree memory (max/process)</th>\n",
       "      <th>Total runtime</th>\n",
       "      <th>Max memory</th>\n",
       "    </tr>\n",
       "  </thead>\n",
       "  <tbody>\n",
       "    <tr>\n",
       "      <th>0</th>\n",
       "      <td>cov-20 reads</td>\n",
       "      <td>1</td>\n",
       "      <td>59</td>\n",
       "      <td>9648</td>\n",
       "      <td>1290</td>\n",
       "      <td>32</td>\n",
       "      <td>19699</td>\n",
       "      <td>103.02</td>\n",
       "      <td>2.801185e+09</td>\n",
       "      <td>389570560.0</td>\n",
       "      <td>3.280613e+09</td>\n",
       "      <td>10.11</td>\n",
       "      <td>6.188880e+09</td>\n",
       "      <td>306163712.0</td>\n",
       "      <td>2551808.0</td>\n",
       "      <td>107.76</td>\n",
       "      <td>281575424.0</td>\n",
       "      <td>223248384.0</td>\n",
       "      <td>220.89</td>\n",
       "      <td>6.188880e+09</td>\n",
       "    </tr>\n",
       "    <tr>\n",
       "      <th>0</th>\n",
       "      <td>cov-20 reads</td>\n",
       "      <td>2</td>\n",
       "      <td>59</td>\n",
       "      <td>9648</td>\n",
       "      <td>1290</td>\n",
       "      <td>32</td>\n",
       "      <td>19699</td>\n",
       "      <td>105.22</td>\n",
       "      <td>2.807194e+09</td>\n",
       "      <td>394289152.0</td>\n",
       "      <td>3.280617e+09</td>\n",
       "      <td>9.33</td>\n",
       "      <td>5.832798e+09</td>\n",
       "      <td>306806784.0</td>\n",
       "      <td>2555904.0</td>\n",
       "      <td>103.36</td>\n",
       "      <td>280387584.0</td>\n",
       "      <td>223059968.0</td>\n",
       "      <td>217.91</td>\n",
       "      <td>5.832798e+09</td>\n",
       "    </tr>\n",
       "    <tr>\n",
       "      <th>0</th>\n",
       "      <td>cov-20 reads</td>\n",
       "      <td>3</td>\n",
       "      <td>59</td>\n",
       "      <td>9648</td>\n",
       "      <td>1290</td>\n",
       "      <td>32</td>\n",
       "      <td>19699</td>\n",
       "      <td>101.48</td>\n",
       "      <td>2.729710e+09</td>\n",
       "      <td>389488640.0</td>\n",
       "      <td>3.280609e+09</td>\n",
       "      <td>9.41</td>\n",
       "      <td>5.815362e+09</td>\n",
       "      <td>306188288.0</td>\n",
       "      <td>2555904.0</td>\n",
       "      <td>99.85</td>\n",
       "      <td>280608768.0</td>\n",
       "      <td>222904320.0</td>\n",
       "      <td>210.74</td>\n",
       "      <td>5.815362e+09</td>\n",
       "    </tr>\n",
       "  </tbody>\n",
       "</table>\n",
       "</div>"
      ],
      "text/plain": [
       "           Name  Iteration  Number samples  Number features (all)  \\\n",
       "0  cov-20 reads          1              59                   9648   \n",
       "0  cov-20 reads          2              59                   9648   \n",
       "0  cov-20 reads          3              59                   9648   \n",
       "\n",
       "   Number features (no unknown)  Number cores  Reference length  \\\n",
       "0                          1290            32             19699   \n",
       "0                          1290            32             19699   \n",
       "0                          1290            32             19699   \n",
       "\n",
       "   Analysis runtime  Analysis memory (max)  Analysis memory (max/process)  \\\n",
       "0            103.02           2.801185e+09                    389570560.0   \n",
       "0            105.22           2.807194e+09                    394289152.0   \n",
       "0            101.48           2.729710e+09                    389488640.0   \n",
       "\n",
       "   Analysis disk uage  Index runtime  Index memory (max)  \\\n",
       "0        3.280613e+09          10.11        6.188880e+09   \n",
       "0        3.280617e+09           9.33        5.832798e+09   \n",
       "0        3.280609e+09           9.41        5.815362e+09   \n",
       "\n",
       "   Index memory (max/process)  Index size  Tree runtime  Tree memory (max)  \\\n",
       "0                 306163712.0   2551808.0        107.76        281575424.0   \n",
       "0                 306806784.0   2555904.0        103.36        280387584.0   \n",
       "0                 306188288.0   2555904.0         99.85        280608768.0   \n",
       "\n",
       "   Tree memory (max/process)  Total runtime    Max memory  \n",
       "0                223248384.0         220.89  6.188880e+09  \n",
       "0                223059968.0         217.91  5.832798e+09  \n",
       "0                222904320.0         210.74  5.815362e+09  "
      ]
     },
     "execution_count": 7,
     "metadata": {},
     "output_type": "execute_result"
    }
   ],
   "source": [
    "benchmark_df"
   ]
  },
  {
   "cell_type": "code",
   "execution_count": 8,
   "id": "535a9ccc-ab9c-4919-806f-128e1efd2389",
   "metadata": {
    "execution": {
     "iopub.execute_input": "2021-09-11T22:09:44.325401Z",
     "iopub.status.busy": "2021-09-11T22:09:44.322479Z",
     "iopub.status.idle": "2021-09-11T22:09:44.328520Z",
     "shell.execute_reply": "2021-09-11T22:09:44.329361Z"
    },
    "papermill": {
     "duration": 0.024068,
     "end_time": "2021-09-11T22:09:44.329630",
     "exception": false,
     "start_time": "2021-09-11T22:09:44.305562",
     "status": "completed"
    },
    "tags": []
   },
   "outputs": [],
   "source": [
    "index_reads_runtime = simulation_dir_path / 'reads-index-info.tsv'\n",
    "benchmark_df.to_csv(index_reads_runtime, sep='\\t', index=False)"
   ]
  },
  {
   "cell_type": "markdown",
   "id": "c331578f-4026-4a9f-a3ba-288814b02ed2",
   "metadata": {
    "papermill": {
     "duration": 0.012336,
     "end_time": "2021-09-11T22:09:44.366991",
     "exception": false,
     "start_time": "2021-09-11T22:09:44.354655",
     "status": "completed"
    },
    "tags": []
   },
   "source": [
    "## 2.2. Index assemblies"
   ]
  },
  {
   "cell_type": "code",
   "execution_count": 9,
   "id": "6e6664f4-94ee-4c45-b1fc-e048b387fa49",
   "metadata": {
    "execution": {
     "iopub.execute_input": "2021-09-11T22:09:44.396966Z",
     "iopub.status.busy": "2021-09-11T22:09:44.395868Z",
     "iopub.status.idle": "2021-09-11T22:09:47.262834Z",
     "shell.execute_reply": "2021-09-11T22:09:47.263748Z"
    },
    "papermill": {
     "duration": 2.886447,
     "end_time": "2021-09-11T22:09:47.264070",
     "exception": false,
     "start_time": "2021-09-11T22:09:44.377623",
     "status": "completed"
    },
    "tags": []
   },
   "outputs": [],
   "source": [
    "input_genomes_file = simulation_dir_path / 'input-assemblies.tsv'\n",
    "\n",
    "!gdi input --absolute {assemblies_dir}/*.fa.gz > {input_genomes_file}"
   ]
  },
  {
   "cell_type": "code",
   "execution_count": 10,
   "id": "0a1e62f3-3b0c-4a90-a7fe-f0bc1094e350",
   "metadata": {
    "execution": {
     "iopub.execute_input": "2021-09-11T22:09:47.311525Z",
     "iopub.status.busy": "2021-09-11T22:09:47.310548Z",
     "iopub.status.idle": "2021-09-11T22:19:12.136133Z",
     "shell.execute_reply": "2021-09-11T22:19:12.135163Z"
    },
    "papermill": {
     "duration": 564.848082,
     "end_time": "2021-09-11T22:19:12.136399",
     "exception": false,
     "start_time": "2021-09-11T22:09:47.288317",
     "status": "completed"
    },
    "tags": []
   },
   "outputs": [
    {
     "name": "stdout",
     "output_type": "stream",
     "text": [
      "\n",
      "Iteration 1 of index/analysis of 59 samples with 32 cores\n",
      "Removing any extra snakemake directories: ['snakemake-assemblies.1631397975.4778872']\n"
     ]
    },
    {
     "name": "stdout",
     "output_type": "stream",
     "text": [
      "Creating new index: [gdi init simulations/cov-20/index-assemblies]\n"
     ]
    },
    {
     "name": "stdout",
     "output_type": "stream",
     "text": [
      "Creating a new index took 2.61 seconds\n",
      "Analysis running: [gdi --project-dir simulations/cov-20/index-assemblies --ncores 32 analysis --use-conda --no-load-data --reference-file simulations/reference/reference.fa.gz --kmer-size 31 --kmer-size 51 --kmer-size 71 --include-kmer --reads-mincov 10 --input-structured-genomes-file simulations/cov-20/input-assemblies.tsv]\n"
     ]
    },
    {
     "name": "stdout",
     "output_type": "stream",
     "text": [
      "Analysis took 1.52 minutes\n",
      "Index running: [gdi --project-dir simulations/cov-20/index-assemblies --ncores 32 load vcf-kmer --reference-file simulations/reference/reference.fa.gz /home/CSCScience.ca/apetkau/workspace/genomics-data-index-evaluation/evaluations/simulation/snakemake-assemblies.1631398194.3202102/gdi-input.fofn]\n"
     ]
    },
    {
     "name": "stdout",
     "output_type": "stream",
     "text": [
      "Indexing took 0.11 minutes\n",
      "Building tree: [gdi --project-dir simulations/cov-20/index-assemblies --ncores 32 rebuild tree --align-type full --extra-params '--fast -m GTR+F+R4' reference]\n"
     ]
    },
    {
     "name": "stdout",
     "output_type": "stream",
     "text": [
      "Building tree took 1.49 minutes\n"
     ]
    },
    {
     "name": "stderr",
     "output_type": "stream",
     "text": [
      "Attempting to set global database_path_translator=<genomics_data_index.storage.model.db.DatabasePathTranslator.DatabasePathTranslator object at 0x7f07588e9fd0> but it is already set\n"
     ]
    },
    {
     "name": "stderr",
     "output_type": "stream",
     "text": [
      "A reminder to myself to look for a Python solution for directory sizes (instead of running `du`)\n"
     ]
    },
    {
     "name": "stdout",
     "output_type": "stream",
     "text": [
      "\n",
      "Iteration 2 of index/analysis of 59 samples with 32 cores\n",
      "Removing any extra snakemake directories: ['snakemake-assemblies.1631398194.3202102']\n"
     ]
    },
    {
     "name": "stdout",
     "output_type": "stream",
     "text": [
      "Removing any existing indexes simulations/cov-20/index-assemblies\n",
      "Creating new index: [gdi init simulations/cov-20/index-assemblies]\n"
     ]
    },
    {
     "name": "stdout",
     "output_type": "stream",
     "text": [
      "Creating a new index took 2.73 seconds\n",
      "Analysis running: [gdi --project-dir simulations/cov-20/index-assemblies --ncores 32 analysis --use-conda --no-load-data --reference-file simulations/reference/reference.fa.gz --kmer-size 31 --kmer-size 51 --kmer-size 71 --include-kmer --reads-mincov 10 --input-structured-genomes-file simulations/cov-20/input-assemblies.tsv]\n"
     ]
    },
    {
     "name": "stdout",
     "output_type": "stream",
     "text": [
      "Analysis took 1.54 minutes\n",
      "Index running: [gdi --project-dir simulations/cov-20/index-assemblies --ncores 32 load vcf-kmer --reference-file simulations/reference/reference.fa.gz /home/CSCScience.ca/apetkau/workspace/genomics-data-index-evaluation/evaluations/simulation/snakemake-assemblies.1631398385.2954223/gdi-input.fofn]\n"
     ]
    },
    {
     "name": "stdout",
     "output_type": "stream",
     "text": [
      "Indexing took 0.11 minutes\n",
      "Building tree: [gdi --project-dir simulations/cov-20/index-assemblies --ncores 32 rebuild tree --align-type full --extra-params '--fast -m GTR+F+R4' reference]\n"
     ]
    },
    {
     "name": "stdout",
     "output_type": "stream",
     "text": [
      "Building tree took 1.48 minutes\n"
     ]
    },
    {
     "name": "stderr",
     "output_type": "stream",
     "text": [
      "Attempting to set global database_path_translator=<genomics_data_index.storage.model.db.DatabasePathTranslator.DatabasePathTranslator object at 0x7f075892d1f0> but it is already set\n"
     ]
    },
    {
     "name": "stderr",
     "output_type": "stream",
     "text": [
      "A reminder to myself to look for a Python solution for directory sizes (instead of running `du`)\n"
     ]
    },
    {
     "name": "stdout",
     "output_type": "stream",
     "text": [
      "\n",
      "Iteration 3 of index/analysis of 59 samples with 32 cores\n",
      "Removing any extra snakemake directories: ['snakemake-assemblies.1631398385.2954223']\n"
     ]
    },
    {
     "name": "stdout",
     "output_type": "stream",
     "text": [
      "Removing any existing indexes simulations/cov-20/index-assemblies\n",
      "Creating new index: [gdi init simulations/cov-20/index-assemblies]\n"
     ]
    },
    {
     "name": "stdout",
     "output_type": "stream",
     "text": [
      "Creating a new index took 2.60 seconds\n",
      "Analysis running: [gdi --project-dir simulations/cov-20/index-assemblies --ncores 32 analysis --use-conda --no-load-data --reference-file simulations/reference/reference.fa.gz --kmer-size 31 --kmer-size 51 --kmer-size 71 --include-kmer --reads-mincov 10 --input-structured-genomes-file simulations/cov-20/input-assemblies.tsv]\n"
     ]
    },
    {
     "name": "stdout",
     "output_type": "stream",
     "text": [
      "Analysis took 1.55 minutes\n",
      "Index running: [gdi --project-dir simulations/cov-20/index-assemblies --ncores 32 load vcf-kmer --reference-file simulations/reference/reference.fa.gz /home/CSCScience.ca/apetkau/workspace/genomics-data-index-evaluation/evaluations/simulation/snakemake-assemblies.1631398577.3718083/gdi-input.fofn]\n"
     ]
    },
    {
     "name": "stdout",
     "output_type": "stream",
     "text": [
      "Indexing took 0.12 minutes\n",
      "Building tree: [gdi --project-dir simulations/cov-20/index-assemblies --ncores 32 rebuild tree --align-type full --extra-params '--fast -m GTR+F+R4' reference]\n"
     ]
    },
    {
     "name": "stdout",
     "output_type": "stream",
     "text": [
      "Building tree took 1.29 minutes\n"
     ]
    },
    {
     "name": "stderr",
     "output_type": "stream",
     "text": [
      "Attempting to set global database_path_translator=<genomics_data_index.storage.model.db.DatabasePathTranslator.DatabasePathTranslator object at 0x7f0758847520> but it is already set\n"
     ]
    },
    {
     "name": "stderr",
     "output_type": "stream",
     "text": [
      "A reminder to myself to look for a Python solution for directory sizes (instead of running `du`)\n"
     ]
    }
   ],
   "source": [
    "results_handler = gdi_benchmark.BenchmarkResultsHandler(name=f'{case_name} assemblies')\n",
    "benchmarker = gdi_benchmark.IndexBenchmarker(benchmark_results_handler=results_handler,\n",
    "                                             index_path=index_assemblies_path, input_files_file=input_genomes_file,\n",
    "                                             reference_file=reference_file, mincov=mincov, build_tree=True,\n",
    "                                             ncores=ncores)\n",
    "\n",
    "benchmark_df = benchmarker.benchmark(iterations=iterations)"
   ]
  },
  {
   "cell_type": "code",
   "execution_count": 11,
   "id": "a6d55a9d-be2f-4851-b66c-04b5ebd597a1",
   "metadata": {
    "execution": {
     "iopub.execute_input": "2021-09-11T22:19:12.215231Z",
     "iopub.status.busy": "2021-09-11T22:19:12.214472Z",
     "iopub.status.idle": "2021-09-11T22:19:12.217362Z",
     "shell.execute_reply": "2021-09-11T22:19:12.217968Z"
    },
    "papermill": {
     "duration": 0.05197,
     "end_time": "2021-09-11T22:19:12.218156",
     "exception": false,
     "start_time": "2021-09-11T22:19:12.166186",
     "status": "completed"
    },
    "tags": []
   },
   "outputs": [
    {
     "data": {
      "text/html": [
       "<div>\n",
       "<style scoped>\n",
       "    .dataframe tbody tr th:only-of-type {\n",
       "        vertical-align: middle;\n",
       "    }\n",
       "\n",
       "    .dataframe tbody tr th {\n",
       "        vertical-align: top;\n",
       "    }\n",
       "\n",
       "    .dataframe thead th {\n",
       "        text-align: right;\n",
       "    }\n",
       "</style>\n",
       "<table border=\"1\" class=\"dataframe\">\n",
       "  <thead>\n",
       "    <tr style=\"text-align: right;\">\n",
       "      <th></th>\n",
       "      <th>Name</th>\n",
       "      <th>Iteration</th>\n",
       "      <th>Number samples</th>\n",
       "      <th>Number features (all)</th>\n",
       "      <th>Number features (no unknown)</th>\n",
       "      <th>Number cores</th>\n",
       "      <th>Reference length</th>\n",
       "      <th>Analysis runtime</th>\n",
       "      <th>Analysis memory (max)</th>\n",
       "      <th>Analysis memory (max/process)</th>\n",
       "      <th>Analysis disk uage</th>\n",
       "      <th>Index runtime</th>\n",
       "      <th>Index memory (max)</th>\n",
       "      <th>Index memory (max/process)</th>\n",
       "      <th>Index size</th>\n",
       "      <th>Tree runtime</th>\n",
       "      <th>Tree memory (max)</th>\n",
       "      <th>Tree memory (max/process)</th>\n",
       "      <th>Total runtime</th>\n",
       "      <th>Max memory</th>\n",
       "    </tr>\n",
       "  </thead>\n",
       "  <tbody>\n",
       "    <tr>\n",
       "      <th>0</th>\n",
       "      <td>cov-20 assemblies</td>\n",
       "      <td>1</td>\n",
       "      <td>59</td>\n",
       "      <td>1350</td>\n",
       "      <td>1350</td>\n",
       "      <td>32</td>\n",
       "      <td>19699</td>\n",
       "      <td>90.92</td>\n",
       "      <td>1.170600e+09</td>\n",
       "      <td>375353344.0</td>\n",
       "      <td>2.084618e+09</td>\n",
       "      <td>6.30</td>\n",
       "      <td>5.765837e+09</td>\n",
       "      <td>241438720.0</td>\n",
       "      <td>1359872.0</td>\n",
       "      <td>89.14</td>\n",
       "      <td>240168960.0</td>\n",
       "      <td>222912512.0</td>\n",
       "      <td>186.36</td>\n",
       "      <td>5.765837e+09</td>\n",
       "    </tr>\n",
       "    <tr>\n",
       "      <th>0</th>\n",
       "      <td>cov-20 assemblies</td>\n",
       "      <td>2</td>\n",
       "      <td>59</td>\n",
       "      <td>1350</td>\n",
       "      <td>1350</td>\n",
       "      <td>32</td>\n",
       "      <td>19699</td>\n",
       "      <td>92.41</td>\n",
       "      <td>1.186378e+09</td>\n",
       "      <td>363450368.0</td>\n",
       "      <td>2.084598e+09</td>\n",
       "      <td>6.35</td>\n",
       "      <td>5.768491e+09</td>\n",
       "      <td>241537024.0</td>\n",
       "      <td>1359872.0</td>\n",
       "      <td>88.84</td>\n",
       "      <td>240324608.0</td>\n",
       "      <td>222973952.0</td>\n",
       "      <td>187.60</td>\n",
       "      <td>5.768491e+09</td>\n",
       "    </tr>\n",
       "    <tr>\n",
       "      <th>0</th>\n",
       "      <td>cov-20 assemblies</td>\n",
       "      <td>3</td>\n",
       "      <td>59</td>\n",
       "      <td>1350</td>\n",
       "      <td>1350</td>\n",
       "      <td>32</td>\n",
       "      <td>19699</td>\n",
       "      <td>92.90</td>\n",
       "      <td>1.260220e+09</td>\n",
       "      <td>377421824.0</td>\n",
       "      <td>2.084606e+09</td>\n",
       "      <td>6.88</td>\n",
       "      <td>5.764915e+09</td>\n",
       "      <td>241864704.0</td>\n",
       "      <td>1355776.0</td>\n",
       "      <td>77.13</td>\n",
       "      <td>238866432.0</td>\n",
       "      <td>222932992.0</td>\n",
       "      <td>176.91</td>\n",
       "      <td>5.764915e+09</td>\n",
       "    </tr>\n",
       "  </tbody>\n",
       "</table>\n",
       "</div>"
      ],
      "text/plain": [
       "                Name  Iteration  Number samples  Number features (all)  \\\n",
       "0  cov-20 assemblies          1              59                   1350   \n",
       "0  cov-20 assemblies          2              59                   1350   \n",
       "0  cov-20 assemblies          3              59                   1350   \n",
       "\n",
       "   Number features (no unknown)  Number cores  Reference length  \\\n",
       "0                          1350            32             19699   \n",
       "0                          1350            32             19699   \n",
       "0                          1350            32             19699   \n",
       "\n",
       "   Analysis runtime  Analysis memory (max)  Analysis memory (max/process)  \\\n",
       "0             90.92           1.170600e+09                    375353344.0   \n",
       "0             92.41           1.186378e+09                    363450368.0   \n",
       "0             92.90           1.260220e+09                    377421824.0   \n",
       "\n",
       "   Analysis disk uage  Index runtime  Index memory (max)  \\\n",
       "0        2.084618e+09           6.30        5.765837e+09   \n",
       "0        2.084598e+09           6.35        5.768491e+09   \n",
       "0        2.084606e+09           6.88        5.764915e+09   \n",
       "\n",
       "   Index memory (max/process)  Index size  Tree runtime  Tree memory (max)  \\\n",
       "0                 241438720.0   1359872.0         89.14        240168960.0   \n",
       "0                 241537024.0   1359872.0         88.84        240324608.0   \n",
       "0                 241864704.0   1355776.0         77.13        238866432.0   \n",
       "\n",
       "   Tree memory (max/process)  Total runtime    Max memory  \n",
       "0                222912512.0         186.36  5.765837e+09  \n",
       "0                222973952.0         187.60  5.768491e+09  \n",
       "0                222932992.0         176.91  5.764915e+09  "
      ]
     },
     "execution_count": 11,
     "metadata": {},
     "output_type": "execute_result"
    }
   ],
   "source": [
    "benchmark_df"
   ]
  },
  {
   "cell_type": "code",
   "execution_count": 12,
   "id": "e1a6d962-50bc-4c8d-a6f2-3a661da706b4",
   "metadata": {
    "execution": {
     "iopub.execute_input": "2021-09-11T22:19:12.271613Z",
     "iopub.status.busy": "2021-09-11T22:19:12.269579Z",
     "iopub.status.idle": "2021-09-11T22:19:12.275191Z",
     "shell.execute_reply": "2021-09-11T22:19:12.274856Z"
    },
    "papermill": {
     "duration": 0.028284,
     "end_time": "2021-09-11T22:19:12.275282",
     "exception": false,
     "start_time": "2021-09-11T22:19:12.246998",
     "status": "completed"
    },
    "tags": []
   },
   "outputs": [],
   "source": [
    "index_assemblies_runtime = simulation_dir_path / 'assemblies-index-info.tsv'\n",
    "benchmark_df.to_csv(index_assemblies_runtime, sep='\\t', index=False)"
   ]
  },
  {
   "cell_type": "markdown",
   "id": "6cb7673b-9f85-4c43-b2e2-93538497a196",
   "metadata": {
    "papermill": {
     "duration": 0.015876,
     "end_time": "2021-09-11T22:19:12.310580",
     "exception": false,
     "start_time": "2021-09-11T22:19:12.294704",
     "status": "completed"
    },
    "tags": []
   },
   "source": [
    "# 3. Export trees"
   ]
  },
  {
   "cell_type": "code",
   "execution_count": 13,
   "id": "5280f82c-5434-4391-8c44-b937a7c95bd5",
   "metadata": {
    "execution": {
     "iopub.execute_input": "2021-09-11T22:19:12.361567Z",
     "iopub.status.busy": "2021-09-11T22:19:12.352083Z",
     "iopub.status.idle": "2021-09-11T22:19:17.736902Z",
     "shell.execute_reply": "2021-09-11T22:19:17.737763Z"
    },
    "papermill": {
     "duration": 5.411598,
     "end_time": "2021-09-11T22:19:17.738079",
     "exception": false,
     "start_time": "2021-09-11T22:19:12.326481",
     "status": "completed"
    },
    "tags": []
   },
   "outputs": [
    {
     "name": "stdout",
     "output_type": "stream",
     "text": [
      "Wrote assemblies tree to simulations/cov-20/index-assemblies/assemblies.tre\n"
     ]
    },
    {
     "name": "stdout",
     "output_type": "stream",
     "text": [
      "Wrote assemblies tree to simulations/cov-20/index-reads/reads.tre\n"
     ]
    }
   ],
   "source": [
    "!gdi --project-dir {index_assemblies_path} export tree {reference_name} > {output_assemblies_tree}\n",
    "print(f'Wrote assemblies tree to {output_assemblies_tree}')\n",
    "\n",
    "!gdi --project-dir {index_reads_path} export tree {reference_name} > {output_reads_tree}\n",
    "print(f'Wrote assemblies tree to {output_reads_tree}')"
   ]
  }
 ],
 "metadata": {
  "kernelspec": {
   "display_name": "Python 3 (ipykernel)",
   "language": "python",
   "name": "python3"
  },
  "language_info": {
   "codemirror_mode": {
    "name": "ipython",
    "version": 3
   },
   "file_extension": ".py",
   "mimetype": "text/x-python",
   "name": "python",
   "nbconvert_exporter": "python",
   "pygments_lexer": "ipython3",
   "version": "3.8.10"
  },
  "papermill": {
   "default_parameters": {},
   "duration": 1247.429951,
   "end_time": "2021-09-11T22:19:18.282142",
   "environment_variables": {},
   "exception": null,
   "input_path": "template-3-index-genomes.ipynb",
   "output_path": "3-index-genomes.simulation-cov-20.ipynb",
   "parameters": {
    "iterations": 3,
    "mincov": 10,
    "read_coverage": 20,
    "simulation_dir": "simulations/cov-20",
    "sub_alpha": 0.2
   },
   "start_time": "2021-09-11T21:58:30.852191",
   "version": "2.3.3"
  }
 },
 "nbformat": 4,
 "nbformat_minor": 5
}