{
 "cells": [
  {
   "cell_type": "markdown",
   "id": "7d3667b4-b1f8-4347-96e3-830c25b06740",
   "metadata": {
    "papermill": {
     "duration": 0.018058,
     "end_time": "2022-03-08T22:32:22.992070",
     "exception": false,
     "start_time": "2022-03-08T22:32:22.974012",
     "status": "completed"
    },
    "tags": []
   },
   "source": [
    "# 1. Parameters"
   ]
  },
  {
   "cell_type": "code",
   "execution_count": 1,
   "id": "d4ab0749-b286-4c34-b63c-a854e4952bae",
   "metadata": {
    "execution": {
     "iopub.execute_input": "2022-03-08T22:32:23.022847Z",
     "iopub.status.busy": "2022-03-08T22:32:23.022320Z",
     "iopub.status.idle": "2022-03-08T22:32:23.027928Z",
     "shell.execute_reply": "2022-03-08T22:32:23.027288Z"
    },
    "papermill": {
     "duration": 0.026791,
     "end_time": "2022-03-08T22:32:23.028099",
     "exception": false,
     "start_time": "2022-03-08T22:32:23.001308",
     "status": "completed"
    },
    "tags": [
     "parameters"
    ]
   },
   "outputs": [],
   "source": [
    "# Defaults\n",
    "simulation_dir = 'simulations/unset'\n",
    "reference_file = 'simulations/reference/reference.fa.gz'\n",
    "iterations = 3\n",
    "mincov = 10\n",
    "ncores = 32"
   ]
  },
  {
   "cell_type": "code",
   "execution_count": 2,
   "id": "c17b2595",
   "metadata": {
    "execution": {
     "iopub.execute_input": "2022-03-08T22:32:23.054304Z",
     "iopub.status.busy": "2022-03-08T22:32:23.053873Z",
     "iopub.status.idle": "2022-03-08T22:32:23.056857Z",
     "shell.execute_reply": "2022-03-08T22:32:23.057194Z"
    },
    "papermill": {
     "duration": 0.017639,
     "end_time": "2022-03-08T22:32:23.057316",
     "exception": false,
     "start_time": "2022-03-08T22:32:23.039677",
     "status": "completed"
    },
    "tags": [
     "injected-parameters"
    ]
   },
   "outputs": [],
   "source": [
    "# Parameters\n",
    "read_coverage = 20\n",
    "mincov = 10\n",
    "simulation_dir = \"simulations/cov-20\"\n",
    "iterations = 3\n",
    "sub_alpha = 0.2\n"
   ]
  },
  {
   "cell_type": "code",
   "execution_count": 3,
   "id": "ce5962e4-261c-4210-b39b-47044e28466b",
   "metadata": {
    "execution": {
     "iopub.execute_input": "2022-03-08T22:32:23.080956Z",
     "iopub.status.busy": "2022-03-08T22:32:23.080390Z",
     "iopub.status.idle": "2022-03-08T22:32:25.848148Z",
     "shell.execute_reply": "2022-03-08T22:32:25.847136Z"
    },
    "papermill": {
     "duration": 2.783162,
     "end_time": "2022-03-08T22:32:25.848396",
     "exception": false,
     "start_time": "2022-03-08T22:32:23.065234",
     "status": "completed"
    },
    "tags": []
   },
   "outputs": [],
   "source": [
    "from pathlib import Path\n",
    "import imp\n",
    "fp, pathname, description = imp.find_module('gdi_benchmark', ['../../lib'])\n",
    "gdi_benchmark = imp.load_module('gdi_benchmark', fp, pathname, description)\n",
    "\n",
    "simulation_dir_path = Path(simulation_dir)\n",
    "\n",
    "case_name = str(simulation_dir_path.name)\n",
    "reads_dir = simulation_dir_path / 'simulated_data' / 'reads'\n",
    "assemblies_dir = simulation_dir_path / 'simulated_data' / 'assemblies'\n",
    "index_reads_path = simulation_dir_path / 'index-reads'\n",
    "index_assemblies_path = simulation_dir_path / 'index-assemblies'\n",
    "output_reads_tree = index_reads_path / 'reads.tre'\n",
    "output_assemblies_tree = index_assemblies_path / 'assemblies.tre'\n",
    "reference_name = Path(reference_file).name.split('.')[0]"
   ]
  },
  {
   "cell_type": "markdown",
   "id": "f208279e-7558-47fc-9362-da29df92828a",
   "metadata": {
    "papermill": {
     "duration": 0.009922,
     "end_time": "2022-03-08T22:32:25.875683",
     "exception": false,
     "start_time": "2022-03-08T22:32:25.865761",
     "status": "completed"
    },
    "tags": []
   },
   "source": [
    "# 2. Index genomes"
   ]
  },
  {
   "cell_type": "code",
   "execution_count": 4,
   "id": "4e936f7c-2fcd-4188-b0e6-6b3ceb5cdcd2",
   "metadata": {
    "execution": {
     "iopub.execute_input": "2022-03-08T22:32:25.904525Z",
     "iopub.status.busy": "2022-03-08T22:32:25.904006Z",
     "iopub.status.idle": "2022-03-08T22:32:29.154319Z",
     "shell.execute_reply": "2022-03-08T22:32:29.155177Z"
    },
    "papermill": {
     "duration": 3.273023,
     "end_time": "2022-03-08T22:32:29.155480",
     "exception": false,
     "start_time": "2022-03-08T22:32:25.882457",
     "status": "completed"
    },
    "tags": []
   },
   "outputs": [
    {
     "name": "stdout",
     "output_type": "stream",
     "text": [
      "gdi, version 0.6.0.dev2\r\n"
     ]
    }
   ],
   "source": [
    "!gdi --version"
   ]
  },
  {
   "cell_type": "markdown",
   "id": "5409ecf8-2158-4361-9d2f-6b1a6c7c63a6",
   "metadata": {
    "papermill": {
     "duration": 0.010122,
     "end_time": "2022-03-08T22:32:29.184260",
     "exception": false,
     "start_time": "2022-03-08T22:32:29.174138",
     "status": "completed"
    },
    "tags": []
   },
   "source": [
    "## 2.1. Index reads"
   ]
  },
  {
   "cell_type": "code",
   "execution_count": 5,
   "id": "b5324f79-913b-4dac-8122-19ad5c0f24b2",
   "metadata": {
    "execution": {
     "iopub.execute_input": "2022-03-08T22:32:29.219261Z",
     "iopub.status.busy": "2022-03-08T22:32:29.218126Z",
     "iopub.status.idle": "2022-03-08T22:32:32.641397Z",
     "shell.execute_reply": "2022-03-08T22:32:32.642299Z"
    },
    "papermill": {
     "duration": 3.450535,
     "end_time": "2022-03-08T22:32:32.642626",
     "exception": false,
     "start_time": "2022-03-08T22:32:29.192091",
     "status": "completed"
    },
    "tags": []
   },
   "outputs": [
    {
     "name": "stdout",
     "output_type": "stream",
     "text": [
      "\u001b[32m2022-03-08 16:32:32\u001b[0m \u001b[1;30mWARNING:\u001b[0m \u001b[33m--skip-existing-samples is enabled but no --project-dir is set. Will not skip existing samples.\u001b[0m\r\n"
     ]
    }
   ],
   "source": [
    "input_genomes_file = simulation_dir_path / 'input-reads.tsv'\n",
    "\n",
    "!gdi input --absolute {reads_dir}/*.fq.gz > {input_genomes_file}"
   ]
  },
  {
   "cell_type": "code",
   "execution_count": 6,
   "id": "3d63e861-733e-46f2-8bce-bd1a2c7c7058",
   "metadata": {
    "execution": {
     "iopub.execute_input": "2022-03-08T22:32:32.688626Z",
     "iopub.status.busy": "2022-03-08T22:32:32.688048Z",
     "iopub.status.idle": "2022-03-08T22:44:28.377195Z",
     "shell.execute_reply": "2022-03-08T22:44:28.375889Z"
    },
    "papermill": {
     "duration": 715.715737,
     "end_time": "2022-03-08T22:44:28.377493",
     "exception": false,
     "start_time": "2022-03-08T22:32:32.661756",
     "status": "completed"
    },
    "tags": []
   },
   "outputs": [
    {
     "name": "stdout",
     "output_type": "stream",
     "text": [
      "\n",
      "Iteration 1 of index/analysis of 59 samples with 32 cores\n",
      "Removing any extra snakemake directories: ['snakemake-assemblies.1646778531.2756615']\n"
     ]
    },
    {
     "name": "stdout",
     "output_type": "stream",
     "text": [
      "Creating new index: [gdi init simulations/cov-20/index-reads]\n"
     ]
    },
    {
     "name": "stdout",
     "output_type": "stream",
     "text": [
      "Creating a new index took 3.11 seconds\n",
      "Analysis running: [gdi --project-dir simulations/cov-20/index-reads --ncores 32 analysis --use-conda --no-load-data --reference-file simulations/reference/reference.fa.gz --kmer-size 31 --kmer-size 51 --kmer-size 71 --include-kmer --reads-mincov 10 --input-structured-genomes-file simulations/cov-20/input-reads.tsv]\n"
     ]
    },
    {
     "name": "stdout",
     "output_type": "stream",
     "text": [
      "Analysis took 1.94 minutes\n",
      "Index running: [gdi --project-dir simulations/cov-20/index-reads --ncores 32 load vcf-kmer --sample-batch-size 2000 --reference-file simulations/reference/reference.fa.gz /home/CSCScience.ca/apetkau/workspace/genomics-data-index-evaluation/evaluations/simulation/snakemake-assemblies.1646778760.490563/gdi-input.fofn]\n"
     ]
    },
    {
     "name": "stdout",
     "output_type": "stream",
     "text": [
      "Indexing took 0.17 minutes\n",
      "Building tree: [gdi --project-dir simulations/cov-20/index-reads --ncores 32 rebuild tree --align-type full --extra-params '--fast -m GTR+F+R4' reference]\n"
     ]
    },
    {
     "name": "stdout",
     "output_type": "stream",
     "text": [
      "Building tree took 1.86 minutes\n"
     ]
    },
    {
     "name": "stderr",
     "output_type": "stream",
     "text": [
      "A reminder to myself to look for a Python solution for directory sizes (instead of running `du`)\n"
     ]
    },
    {
     "name": "stdout",
     "output_type": "stream",
     "text": [
      "\n",
      "Iteration 2 of index/analysis of 59 samples with 32 cores\n",
      "Removing any extra snakemake directories: ['snakemake-assemblies.1646778760.490563']\n"
     ]
    },
    {
     "name": "stdout",
     "output_type": "stream",
     "text": [
      "Removing any existing indexes simulations/cov-20/index-reads\n",
      "Creating new index: [gdi init simulations/cov-20/index-reads]\n"
     ]
    },
    {
     "name": "stdout",
     "output_type": "stream",
     "text": [
      "Creating a new index took 3.08 seconds\n",
      "Analysis running: [gdi --project-dir simulations/cov-20/index-reads --ncores 32 analysis --use-conda --no-load-data --reference-file simulations/reference/reference.fa.gz --kmer-size 31 --kmer-size 51 --kmer-size 71 --include-kmer --reads-mincov 10 --input-structured-genomes-file simulations/cov-20/input-reads.tsv]\n"
     ]
    },
    {
     "name": "stdout",
     "output_type": "stream",
     "text": [
      "Analysis took 2.00 minutes\n",
      "Index running: [gdi --project-dir simulations/cov-20/index-reads --ncores 32 load vcf-kmer --sample-batch-size 2000 --reference-file simulations/reference/reference.fa.gz /home/CSCScience.ca/apetkau/workspace/genomics-data-index-evaluation/evaluations/simulation/snakemake-assemblies.1646779002.9623961/gdi-input.fofn]\n"
     ]
    },
    {
     "name": "stdout",
     "output_type": "stream",
     "text": [
      "Indexing took 0.17 minutes\n",
      "Building tree: [gdi --project-dir simulations/cov-20/index-reads --ncores 32 rebuild tree --align-type full --extra-params '--fast -m GTR+F+R4' reference]\n"
     ]
    },
    {
     "name": "stdout",
     "output_type": "stream",
     "text": [
      "Building tree took 1.79 minutes\n"
     ]
    },
    {
     "name": "stderr",
     "output_type": "stream",
     "text": [
      "Attempting to set global database_path_translator=<genomics_data_index.storage.model.db.DatabasePathTranslator.DatabasePathTranslator object at 0x7f84227b20a0> but it is already set\n"
     ]
    },
    {
     "name": "stderr",
     "output_type": "stream",
     "text": [
      "A reminder to myself to look for a Python solution for directory sizes (instead of running `du`)\n"
     ]
    },
    {
     "name": "stdout",
     "output_type": "stream",
     "text": [
      "\n",
      "Iteration 3 of index/analysis of 59 samples with 32 cores\n",
      "Removing any extra snakemake directories: ['snakemake-assemblies.1646779002.9623961']\n"
     ]
    },
    {
     "name": "stdout",
     "output_type": "stream",
     "text": [
      "Removing any existing indexes simulations/cov-20/index-reads\n",
      "Creating new index: [gdi init simulations/cov-20/index-reads]\n"
     ]
    },
    {
     "name": "stdout",
     "output_type": "stream",
     "text": [
      "Creating a new index took 3.25 seconds\n",
      "Analysis running: [gdi --project-dir simulations/cov-20/index-reads --ncores 32 analysis --use-conda --no-load-data --reference-file simulations/reference/reference.fa.gz --kmer-size 31 --kmer-size 51 --kmer-size 71 --include-kmer --reads-mincov 10 --input-structured-genomes-file simulations/cov-20/input-reads.tsv]\n"
     ]
    },
    {
     "name": "stdout",
     "output_type": "stream",
     "text": [
      "Analysis took 1.97 minutes\n",
      "Index running: [gdi --project-dir simulations/cov-20/index-reads --ncores 32 load vcf-kmer --sample-batch-size 2000 --reference-file simulations/reference/reference.fa.gz /home/CSCScience.ca/apetkau/workspace/genomics-data-index-evaluation/evaluations/simulation/snakemake-assemblies.1646779245.5368168/gdi-input.fofn]\n"
     ]
    },
    {
     "name": "stdout",
     "output_type": "stream",
     "text": [
      "Indexing took 0.17 minutes\n",
      "Building tree: [gdi --project-dir simulations/cov-20/index-reads --ncores 32 rebuild tree --align-type full --extra-params '--fast -m GTR+F+R4' reference]\n"
     ]
    },
    {
     "name": "stdout",
     "output_type": "stream",
     "text": [
      "Building tree took 1.63 minutes\n"
     ]
    },
    {
     "name": "stderr",
     "output_type": "stream",
     "text": [
      "Attempting to set global database_path_translator=<genomics_data_index.storage.model.db.DatabasePathTranslator.DatabasePathTranslator object at 0x7f83dfdbaf10> but it is already set\n"
     ]
    },
    {
     "name": "stderr",
     "output_type": "stream",
     "text": [
      "A reminder to myself to look for a Python solution for directory sizes (instead of running `du`)\n"
     ]
    }
   ],
   "source": [
    "results_handler = gdi_benchmark.BenchmarkResultsHandler(name=f'{case_name} reads')\n",
    "benchmarker = gdi_benchmark.IndexBenchmarker(benchmark_results_handler=results_handler,\n",
    "                                             index_path=index_reads_path, input_files_file=input_genomes_file,\n",
    "                                             reference_file=reference_file, mincov=mincov, build_tree=True,\n",
    "                                             ncores=ncores)\n",
    "\n",
    "benchmark_df = benchmarker.benchmark(iterations=iterations)"
   ]
  },
  {
   "cell_type": "code",
   "execution_count": 7,
   "id": "3bcb6da7-0164-47f2-abdd-a4c159da1e3b",
   "metadata": {
    "execution": {
     "iopub.execute_input": "2022-03-08T22:44:28.422249Z",
     "iopub.status.busy": "2022-03-08T22:44:28.421844Z",
     "iopub.status.idle": "2022-03-08T22:44:28.454718Z",
     "shell.execute_reply": "2022-03-08T22:44:28.455472Z"
    },
    "papermill": {
     "duration": 0.055724,
     "end_time": "2022-03-08T22:44:28.455705",
     "exception": false,
     "start_time": "2022-03-08T22:44:28.399981",
     "status": "completed"
    },
    "tags": []
   },
   "outputs": [
    {
     "data": {
      "text/html": [
       "<div>\n",
       "<style scoped>\n",
       "    .dataframe tbody tr th:only-of-type {\n",
       "        vertical-align: middle;\n",
       "    }\n",
       "\n",
       "    .dataframe tbody tr th {\n",
       "        vertical-align: top;\n",
       "    }\n",
       "\n",
       "    .dataframe thead th {\n",
       "        text-align: right;\n",
       "    }\n",
       "</style>\n",
       "<table border=\"1\" class=\"dataframe\">\n",
       "  <thead>\n",
       "    <tr style=\"text-align: right;\">\n",
       "      <th></th>\n",
       "      <th>Name</th>\n",
       "      <th>Reference name</th>\n",
       "      <th>Iteration</th>\n",
       "      <th>Number samples</th>\n",
       "      <th>Number features (all)</th>\n",
       "      <th>Number features (no unknown)</th>\n",
       "      <th>Number cores</th>\n",
       "      <th>Reference length</th>\n",
       "      <th>Analysis runtime</th>\n",
       "      <th>Analysis memory (max)</th>\n",
       "      <th>...</th>\n",
       "      <th>Analysis disk uage</th>\n",
       "      <th>Index runtime</th>\n",
       "      <th>Index memory (max)</th>\n",
       "      <th>Index memory (max/process)</th>\n",
       "      <th>Index size</th>\n",
       "      <th>Tree runtime</th>\n",
       "      <th>Tree memory (max)</th>\n",
       "      <th>Tree memory (max/process)</th>\n",
       "      <th>Total runtime</th>\n",
       "      <th>Max memory</th>\n",
       "    </tr>\n",
       "  </thead>\n",
       "  <tbody>\n",
       "    <tr>\n",
       "      <th>0</th>\n",
       "      <td>cov-20 reads</td>\n",
       "      <td>reference</td>\n",
       "      <td>1</td>\n",
       "      <td>59</td>\n",
       "      <td>9648</td>\n",
       "      <td>1290</td>\n",
       "      <td>32</td>\n",
       "      <td>19699</td>\n",
       "      <td>116.06</td>\n",
       "      <td>3.033461e+09</td>\n",
       "      <td>...</td>\n",
       "      <td>2.948170e+09</td>\n",
       "      <td>9.81</td>\n",
       "      <td>5.962846e+09</td>\n",
       "      <td>317030400.0</td>\n",
       "      <td>2555904.0</td>\n",
       "      <td>111.45</td>\n",
       "      <td>295628800.0</td>\n",
       "      <td>234397696.0</td>\n",
       "      <td>237.32</td>\n",
       "      <td>5.962846e+09</td>\n",
       "    </tr>\n",
       "    <tr>\n",
       "      <th>0</th>\n",
       "      <td>cov-20 reads</td>\n",
       "      <td>reference</td>\n",
       "      <td>2</td>\n",
       "      <td>59</td>\n",
       "      <td>9648</td>\n",
       "      <td>1290</td>\n",
       "      <td>32</td>\n",
       "      <td>19699</td>\n",
       "      <td>119.76</td>\n",
       "      <td>3.146228e+09</td>\n",
       "      <td>...</td>\n",
       "      <td>2.948178e+09</td>\n",
       "      <td>9.82</td>\n",
       "      <td>5.965418e+09</td>\n",
       "      <td>317972480.0</td>\n",
       "      <td>2551808.0</td>\n",
       "      <td>107.52</td>\n",
       "      <td>296480768.0</td>\n",
       "      <td>234913792.0</td>\n",
       "      <td>237.10</td>\n",
       "      <td>5.965418e+09</td>\n",
       "    </tr>\n",
       "    <tr>\n",
       "      <th>0</th>\n",
       "      <td>cov-20 reads</td>\n",
       "      <td>reference</td>\n",
       "      <td>3</td>\n",
       "      <td>59</td>\n",
       "      <td>9648</td>\n",
       "      <td>1290</td>\n",
       "      <td>32</td>\n",
       "      <td>19699</td>\n",
       "      <td>117.83</td>\n",
       "      <td>3.129971e+09</td>\n",
       "      <td>...</td>\n",
       "      <td>2.948186e+09</td>\n",
       "      <td>9.92</td>\n",
       "      <td>5.963764e+09</td>\n",
       "      <td>317243392.0</td>\n",
       "      <td>2560000.0</td>\n",
       "      <td>97.66</td>\n",
       "      <td>296394752.0</td>\n",
       "      <td>235003904.0</td>\n",
       "      <td>225.41</td>\n",
       "      <td>5.963764e+09</td>\n",
       "    </tr>\n",
       "  </tbody>\n",
       "</table>\n",
       "<p>3 rows × 21 columns</p>\n",
       "</div>"
      ],
      "text/plain": [
       "           Name Reference name  Iteration  Number samples  \\\n",
       "0  cov-20 reads      reference          1              59   \n",
       "0  cov-20 reads      reference          2              59   \n",
       "0  cov-20 reads      reference          3              59   \n",
       "\n",
       "   Number features (all)  Number features (no unknown)  Number cores  \\\n",
       "0                   9648                          1290            32   \n",
       "0                   9648                          1290            32   \n",
       "0                   9648                          1290            32   \n",
       "\n",
       "   Reference length  Analysis runtime  Analysis memory (max)  ...  \\\n",
       "0             19699            116.06           3.033461e+09  ...   \n",
       "0             19699            119.76           3.146228e+09  ...   \n",
       "0             19699            117.83           3.129971e+09  ...   \n",
       "\n",
       "   Analysis disk uage  Index runtime  Index memory (max)  \\\n",
       "0        2.948170e+09           9.81        5.962846e+09   \n",
       "0        2.948178e+09           9.82        5.965418e+09   \n",
       "0        2.948186e+09           9.92        5.963764e+09   \n",
       "\n",
       "   Index memory (max/process)  Index size  Tree runtime  Tree memory (max)  \\\n",
       "0                 317030400.0   2555904.0        111.45        295628800.0   \n",
       "0                 317972480.0   2551808.0        107.52        296480768.0   \n",
       "0                 317243392.0   2560000.0         97.66        296394752.0   \n",
       "\n",
       "   Tree memory (max/process)  Total runtime    Max memory  \n",
       "0                234397696.0         237.32  5.962846e+09  \n",
       "0                234913792.0         237.10  5.965418e+09  \n",
       "0                235003904.0         225.41  5.963764e+09  \n",
       "\n",
       "[3 rows x 21 columns]"
      ]
     },
     "execution_count": 7,
     "metadata": {},
     "output_type": "execute_result"
    }
   ],
   "source": [
    "benchmark_df"
   ]
  },
  {
   "cell_type": "code",
   "execution_count": 8,
   "id": "535a9ccc-ab9c-4919-806f-128e1efd2389",
   "metadata": {
    "execution": {
     "iopub.execute_input": "2022-03-08T22:44:28.497123Z",
     "iopub.status.busy": "2022-03-08T22:44:28.496713Z",
     "iopub.status.idle": "2022-03-08T22:44:28.502101Z",
     "shell.execute_reply": "2022-03-08T22:44:28.501761Z"
    },
    "papermill": {
     "duration": 0.022181,
     "end_time": "2022-03-08T22:44:28.502185",
     "exception": false,
     "start_time": "2022-03-08T22:44:28.480004",
     "status": "completed"
    },
    "tags": []
   },
   "outputs": [],
   "source": [
    "index_reads_runtime = simulation_dir_path / 'reads-index-info.tsv'\n",
    "benchmark_df.to_csv(index_reads_runtime, sep='\\t', index=False)"
   ]
  },
  {
   "cell_type": "markdown",
   "id": "c331578f-4026-4a9f-a3ba-288814b02ed2",
   "metadata": {
    "papermill": {
     "duration": 0.011523,
     "end_time": "2022-03-08T22:44:28.527225",
     "exception": false,
     "start_time": "2022-03-08T22:44:28.515702",
     "status": "completed"
    },
    "tags": []
   },
   "source": [
    "## 2.2. Index assemblies"
   ]
  },
  {
   "cell_type": "code",
   "execution_count": 9,
   "id": "6e6664f4-94ee-4c45-b1fc-e048b387fa49",
   "metadata": {
    "execution": {
     "iopub.execute_input": "2022-03-08T22:44:28.553587Z",
     "iopub.status.busy": "2022-03-08T22:44:28.553185Z",
     "iopub.status.idle": "2022-03-08T22:44:32.018098Z",
     "shell.execute_reply": "2022-03-08T22:44:32.018987Z"
    },
    "papermill": {
     "duration": 3.480626,
     "end_time": "2022-03-08T22:44:32.019300",
     "exception": false,
     "start_time": "2022-03-08T22:44:28.538674",
     "status": "completed"
    },
    "tags": []
   },
   "outputs": [
    {
     "name": "stdout",
     "output_type": "stream",
     "text": [
      "\u001b[32m2022-03-08 16:44:31\u001b[0m \u001b[1;30mWARNING:\u001b[0m \u001b[33m--skip-existing-samples is enabled but no --project-dir is set. Will not skip existing samples.\u001b[0m\r\n"
     ]
    }
   ],
   "source": [
    "input_genomes_file = simulation_dir_path / 'input-assemblies.tsv'\n",
    "\n",
    "!gdi input --absolute {assemblies_dir}/*.fa.gz > {input_genomes_file}"
   ]
  },
  {
   "cell_type": "code",
   "execution_count": 10,
   "id": "0a1e62f3-3b0c-4a90-a7fe-f0bc1094e350",
   "metadata": {
    "execution": {
     "iopub.execute_input": "2022-03-08T22:44:32.070660Z",
     "iopub.status.busy": "2022-03-08T22:44:32.069041Z",
     "iopub.status.idle": "2022-03-08T22:55:31.915081Z",
     "shell.execute_reply": "2022-03-08T22:55:31.914076Z"
    },
    "papermill": {
     "duration": 659.869432,
     "end_time": "2022-03-08T22:55:31.915324",
     "exception": false,
     "start_time": "2022-03-08T22:44:32.045892",
     "status": "completed"
    },
    "tags": []
   },
   "outputs": [
    {
     "name": "stdout",
     "output_type": "stream",
     "text": [
      "\n",
      "Iteration 1 of index/analysis of 59 samples with 32 cores\n",
      "Removing any extra snakemake directories: ['snakemake-assemblies.1646779245.5368168']\n"
     ]
    },
    {
     "name": "stdout",
     "output_type": "stream",
     "text": [
      "Creating new index: [gdi init simulations/cov-20/index-assemblies]\n"
     ]
    },
    {
     "name": "stdout",
     "output_type": "stream",
     "text": [
      "Creating a new index took 3.06 seconds\n",
      "Analysis running: [gdi --project-dir simulations/cov-20/index-assemblies --ncores 32 analysis --use-conda --no-load-data --reference-file simulations/reference/reference.fa.gz --kmer-size 31 --kmer-size 51 --kmer-size 71 --include-kmer --reads-mincov 10 --input-structured-genomes-file simulations/cov-20/input-assemblies.tsv]\n"
     ]
    },
    {
     "name": "stdout",
     "output_type": "stream",
     "text": [
      "Analysis took 1.84 minutes\n",
      "Index running: [gdi --project-dir simulations/cov-20/index-assemblies --ncores 32 load vcf-kmer --sample-batch-size 2000 --reference-file simulations/reference/reference.fa.gz /home/CSCScience.ca/apetkau/workspace/genomics-data-index-evaluation/evaluations/simulation/snakemake-assemblies.1646779479.732618/gdi-input.fofn]\n"
     ]
    },
    {
     "name": "stdout",
     "output_type": "stream",
     "text": [
      "Indexing took 0.12 minutes\n",
      "Building tree: [gdi --project-dir simulations/cov-20/index-assemblies --ncores 32 rebuild tree --align-type full --extra-params '--fast -m GTR+F+R4' reference]\n"
     ]
    },
    {
     "name": "stdout",
     "output_type": "stream",
     "text": [
      "Building tree took 1.50 minutes\n"
     ]
    },
    {
     "name": "stderr",
     "output_type": "stream",
     "text": [
      "Attempting to set global database_path_translator=<genomics_data_index.storage.model.db.DatabasePathTranslator.DatabasePathTranslator object at 0x7f83dfd98bb0> but it is already set\n"
     ]
    },
    {
     "name": "stderr",
     "output_type": "stream",
     "text": [
      "A reminder to myself to look for a Python solution for directory sizes (instead of running `du`)\n"
     ]
    },
    {
     "name": "stdout",
     "output_type": "stream",
     "text": [
      "\n",
      "Iteration 2 of index/analysis of 59 samples with 32 cores\n",
      "Removing any extra snakemake directories: ['snakemake-assemblies.1646779479.732618']\n"
     ]
    },
    {
     "name": "stdout",
     "output_type": "stream",
     "text": [
      "Removing any existing indexes simulations/cov-20/index-assemblies\n",
      "Creating new index: [gdi init simulations/cov-20/index-assemblies]\n"
     ]
    },
    {
     "name": "stdout",
     "output_type": "stream",
     "text": [
      "Creating a new index took 3.24 seconds\n",
      "Analysis running: [gdi --project-dir simulations/cov-20/index-assemblies --ncores 32 analysis --use-conda --no-load-data --reference-file simulations/reference/reference.fa.gz --kmer-size 31 --kmer-size 51 --kmer-size 71 --include-kmer --reads-mincov 10 --input-structured-genomes-file simulations/cov-20/input-assemblies.tsv]\n"
     ]
    },
    {
     "name": "stdout",
     "output_type": "stream",
     "text": [
      "Analysis took 1.92 minutes\n",
      "Index running: [gdi --project-dir simulations/cov-20/index-assemblies --ncores 32 load vcf-kmer --sample-batch-size 2000 --reference-file simulations/reference/reference.fa.gz /home/CSCScience.ca/apetkau/workspace/genomics-data-index-evaluation/evaluations/simulation/snakemake-assemblies.1646779692.484809/gdi-input.fofn]\n"
     ]
    },
    {
     "name": "stdout",
     "output_type": "stream",
     "text": [
      "Indexing took 0.12 minutes\n",
      "Building tree: [gdi --project-dir simulations/cov-20/index-assemblies --ncores 32 rebuild tree --align-type full --extra-params '--fast -m GTR+F+R4' reference]\n"
     ]
    },
    {
     "name": "stdout",
     "output_type": "stream",
     "text": [
      "Building tree took 1.68 minutes\n"
     ]
    },
    {
     "name": "stderr",
     "output_type": "stream",
     "text": [
      "Attempting to set global database_path_translator=<genomics_data_index.storage.model.db.DatabasePathTranslator.DatabasePathTranslator object at 0x7f8420f78df0> but it is already set\n"
     ]
    },
    {
     "name": "stderr",
     "output_type": "stream",
     "text": [
      "A reminder to myself to look for a Python solution for directory sizes (instead of running `du`)\n"
     ]
    },
    {
     "name": "stdout",
     "output_type": "stream",
     "text": [
      "\n",
      "Iteration 3 of index/analysis of 59 samples with 32 cores\n",
      "Removing any extra snakemake directories: ['snakemake-assemblies.1646779692.484809']\n"
     ]
    },
    {
     "name": "stdout",
     "output_type": "stream",
     "text": [
      "Removing any existing indexes simulations/cov-20/index-assemblies\n",
      "Creating new index: [gdi init simulations/cov-20/index-assemblies]\n"
     ]
    },
    {
     "name": "stdout",
     "output_type": "stream",
     "text": [
      "Creating a new index took 3.43 seconds\n",
      "Analysis running: [gdi --project-dir simulations/cov-20/index-assemblies --ncores 32 analysis --use-conda --no-load-data --reference-file simulations/reference/reference.fa.gz --kmer-size 31 --kmer-size 51 --kmer-size 71 --include-kmer --reads-mincov 10 --input-structured-genomes-file simulations/cov-20/input-assemblies.tsv]\n"
     ]
    },
    {
     "name": "stdout",
     "output_type": "stream",
     "text": [
      "Analysis took 1.87 minutes\n",
      "Index running: [gdi --project-dir simulations/cov-20/index-assemblies --ncores 32 load vcf-kmer --sample-batch-size 2000 --reference-file simulations/reference/reference.fa.gz /home/CSCScience.ca/apetkau/workspace/genomics-data-index-evaluation/evaluations/simulation/snakemake-assemblies.1646779921.5523932/gdi-input.fofn]\n"
     ]
    },
    {
     "name": "stdout",
     "output_type": "stream",
     "text": [
      "Indexing took 0.12 minutes\n",
      "Building tree: [gdi --project-dir simulations/cov-20/index-assemblies --ncores 32 rebuild tree --align-type full --extra-params '--fast -m GTR+F+R4' reference]\n"
     ]
    },
    {
     "name": "stdout",
     "output_type": "stream",
     "text": [
      "Building tree took 1.57 minutes\n"
     ]
    },
    {
     "name": "stderr",
     "output_type": "stream",
     "text": [
      "Attempting to set global database_path_translator=<genomics_data_index.storage.model.db.DatabasePathTranslator.DatabasePathTranslator object at 0x7f83dfc66fa0> but it is already set\n"
     ]
    },
    {
     "name": "stderr",
     "output_type": "stream",
     "text": [
      "A reminder to myself to look for a Python solution for directory sizes (instead of running `du`)\n"
     ]
    }
   ],
   "source": [
    "results_handler = gdi_benchmark.BenchmarkResultsHandler(name=f'{case_name} assemblies')\n",
    "benchmarker = gdi_benchmark.IndexBenchmarker(benchmark_results_handler=results_handler,\n",
    "                                             index_path=index_assemblies_path, input_files_file=input_genomes_file,\n",
    "                                             reference_file=reference_file, mincov=mincov, build_tree=True,\n",
    "                                             ncores=ncores)\n",
    "\n",
    "benchmark_df = benchmarker.benchmark(iterations=iterations)"
   ]
  },
  {
   "cell_type": "code",
   "execution_count": 11,
   "id": "a6d55a9d-be2f-4851-b66c-04b5ebd597a1",
   "metadata": {
    "execution": {
     "iopub.execute_input": "2022-03-08T22:55:31.996084Z",
     "iopub.status.busy": "2022-03-08T22:55:31.995381Z",
     "iopub.status.idle": "2022-03-08T22:55:31.998349Z",
     "shell.execute_reply": "2022-03-08T22:55:31.998962Z"
    },
    "papermill": {
     "duration": 0.051381,
     "end_time": "2022-03-08T22:55:31.999141",
     "exception": false,
     "start_time": "2022-03-08T22:55:31.947760",
     "status": "completed"
    },
    "tags": []
   },
   "outputs": [
    {
     "data": {
      "text/html": [
       "<div>\n",
       "<style scoped>\n",
       "    .dataframe tbody tr th:only-of-type {\n",
       "        vertical-align: middle;\n",
       "    }\n",
       "\n",
       "    .dataframe tbody tr th {\n",
       "        vertical-align: top;\n",
       "    }\n",
       "\n",
       "    .dataframe thead th {\n",
       "        text-align: right;\n",
       "    }\n",
       "</style>\n",
       "<table border=\"1\" class=\"dataframe\">\n",
       "  <thead>\n",
       "    <tr style=\"text-align: right;\">\n",
       "      <th></th>\n",
       "      <th>Name</th>\n",
       "      <th>Reference name</th>\n",
       "      <th>Iteration</th>\n",
       "      <th>Number samples</th>\n",
       "      <th>Number features (all)</th>\n",
       "      <th>Number features (no unknown)</th>\n",
       "      <th>Number cores</th>\n",
       "      <th>Reference length</th>\n",
       "      <th>Analysis runtime</th>\n",
       "      <th>Analysis memory (max)</th>\n",
       "      <th>...</th>\n",
       "      <th>Analysis disk uage</th>\n",
       "      <th>Index runtime</th>\n",
       "      <th>Index memory (max)</th>\n",
       "      <th>Index memory (max/process)</th>\n",
       "      <th>Index size</th>\n",
       "      <th>Tree runtime</th>\n",
       "      <th>Tree memory (max)</th>\n",
       "      <th>Tree memory (max/process)</th>\n",
       "      <th>Total runtime</th>\n",
       "      <th>Max memory</th>\n",
       "    </tr>\n",
       "  </thead>\n",
       "  <tbody>\n",
       "    <tr>\n",
       "      <th>0</th>\n",
       "      <td>cov-20 assemblies</td>\n",
       "      <td>reference</td>\n",
       "      <td>1</td>\n",
       "      <td>59</td>\n",
       "      <td>1426</td>\n",
       "      <td>1350</td>\n",
       "      <td>32</td>\n",
       "      <td>19699</td>\n",
       "      <td>110.19</td>\n",
       "      <td>1.219207e+09</td>\n",
       "      <td>...</td>\n",
       "      <td>2.203017e+09</td>\n",
       "      <td>7.22</td>\n",
       "      <td>5.925020e+09</td>\n",
       "      <td>254738432.0</td>\n",
       "      <td>1372160.0</td>\n",
       "      <td>90.05</td>\n",
       "      <td>253755392.0</td>\n",
       "      <td>234352640.0</td>\n",
       "      <td>207.46</td>\n",
       "      <td>5.925020e+09</td>\n",
       "    </tr>\n",
       "    <tr>\n",
       "      <th>0</th>\n",
       "      <td>cov-20 assemblies</td>\n",
       "      <td>reference</td>\n",
       "      <td>2</td>\n",
       "      <td>59</td>\n",
       "      <td>1426</td>\n",
       "      <td>1350</td>\n",
       "      <td>32</td>\n",
       "      <td>19699</td>\n",
       "      <td>115.12</td>\n",
       "      <td>1.323409e+09</td>\n",
       "      <td>...</td>\n",
       "      <td>2.203025e+09</td>\n",
       "      <td>7.30</td>\n",
       "      <td>6.405976e+09</td>\n",
       "      <td>254410752.0</td>\n",
       "      <td>1368064.0</td>\n",
       "      <td>100.91</td>\n",
       "      <td>254230528.0</td>\n",
       "      <td>234516480.0</td>\n",
       "      <td>223.33</td>\n",
       "      <td>6.405976e+09</td>\n",
       "    </tr>\n",
       "    <tr>\n",
       "      <th>0</th>\n",
       "      <td>cov-20 assemblies</td>\n",
       "      <td>reference</td>\n",
       "      <td>3</td>\n",
       "      <td>59</td>\n",
       "      <td>1426</td>\n",
       "      <td>1350</td>\n",
       "      <td>32</td>\n",
       "      <td>19699</td>\n",
       "      <td>111.95</td>\n",
       "      <td>1.333543e+09</td>\n",
       "      <td>...</td>\n",
       "      <td>2.203038e+09</td>\n",
       "      <td>6.93</td>\n",
       "      <td>6.167835e+09</td>\n",
       "      <td>255266816.0</td>\n",
       "      <td>1368064.0</td>\n",
       "      <td>94.06</td>\n",
       "      <td>254226432.0</td>\n",
       "      <td>234364928.0</td>\n",
       "      <td>212.94</td>\n",
       "      <td>6.167835e+09</td>\n",
       "    </tr>\n",
       "  </tbody>\n",
       "</table>\n",
       "<p>3 rows × 21 columns</p>\n",
       "</div>"
      ],
      "text/plain": [
       "                Name Reference name  Iteration  Number samples  \\\n",
       "0  cov-20 assemblies      reference          1              59   \n",
       "0  cov-20 assemblies      reference          2              59   \n",
       "0  cov-20 assemblies      reference          3              59   \n",
       "\n",
       "   Number features (all)  Number features (no unknown)  Number cores  \\\n",
       "0                   1426                          1350            32   \n",
       "0                   1426                          1350            32   \n",
       "0                   1426                          1350            32   \n",
       "\n",
       "   Reference length  Analysis runtime  Analysis memory (max)  ...  \\\n",
       "0             19699            110.19           1.219207e+09  ...   \n",
       "0             19699            115.12           1.323409e+09  ...   \n",
       "0             19699            111.95           1.333543e+09  ...   \n",
       "\n",
       "   Analysis disk uage  Index runtime  Index memory (max)  \\\n",
       "0        2.203017e+09           7.22        5.925020e+09   \n",
       "0        2.203025e+09           7.30        6.405976e+09   \n",
       "0        2.203038e+09           6.93        6.167835e+09   \n",
       "\n",
       "   Index memory (max/process)  Index size  Tree runtime  Tree memory (max)  \\\n",
       "0                 254738432.0   1372160.0         90.05        253755392.0   \n",
       "0                 254410752.0   1368064.0        100.91        254230528.0   \n",
       "0                 255266816.0   1368064.0         94.06        254226432.0   \n",
       "\n",
       "   Tree memory (max/process)  Total runtime    Max memory  \n",
       "0                234352640.0         207.46  5.925020e+09  \n",
       "0                234516480.0         223.33  6.405976e+09  \n",
       "0                234364928.0         212.94  6.167835e+09  \n",
       "\n",
       "[3 rows x 21 columns]"
      ]
     },
     "execution_count": 11,
     "metadata": {},
     "output_type": "execute_result"
    }
   ],
   "source": [
    "benchmark_df"
   ]
  },
  {
   "cell_type": "code",
   "execution_count": 12,
   "id": "e1a6d962-50bc-4c8d-a6f2-3a661da706b4",
   "metadata": {
    "execution": {
     "iopub.execute_input": "2022-03-08T22:55:32.049399Z",
     "iopub.status.busy": "2022-03-08T22:55:32.049003Z",
     "iopub.status.idle": "2022-03-08T22:55:32.053903Z",
     "shell.execute_reply": "2022-03-08T22:55:32.053530Z"
    },
    "papermill": {
     "duration": 0.027646,
     "end_time": "2022-03-08T22:55:32.053994",
     "exception": false,
     "start_time": "2022-03-08T22:55:32.026348",
     "status": "completed"
    },
    "tags": []
   },
   "outputs": [],
   "source": [
    "index_assemblies_runtime = simulation_dir_path / 'assemblies-index-info.tsv'\n",
    "benchmark_df.to_csv(index_assemblies_runtime, sep='\\t', index=False)"
   ]
  },
  {
   "cell_type": "markdown",
   "id": "6cb7673b-9f85-4c43-b2e2-93538497a196",
   "metadata": {
    "papermill": {
     "duration": 0.016875,
     "end_time": "2022-03-08T22:55:32.089982",
     "exception": false,
     "start_time": "2022-03-08T22:55:32.073107",
     "status": "completed"
    },
    "tags": []
   },
   "source": [
    "# 3. Export trees"
   ]
  },
  {
   "cell_type": "code",
   "execution_count": 13,
   "id": "5280f82c-5434-4391-8c44-b937a7c95bd5",
   "metadata": {
    "execution": {
     "iopub.execute_input": "2022-03-08T22:55:32.132698Z",
     "iopub.status.busy": "2022-03-08T22:55:32.132189Z",
     "iopub.status.idle": "2022-03-08T22:55:38.849134Z",
     "shell.execute_reply": "2022-03-08T22:55:38.848071Z"
    },
    "papermill": {
     "duration": 6.742415,
     "end_time": "2022-03-08T22:55:38.849383",
     "exception": false,
     "start_time": "2022-03-08T22:55:32.106968",
     "status": "completed"
    },
    "tags": []
   },
   "outputs": [
    {
     "name": "stdout",
     "output_type": "stream",
     "text": [
      "Wrote assemblies tree to simulations/cov-20/index-assemblies/assemblies.tre\n"
     ]
    },
    {
     "name": "stdout",
     "output_type": "stream",
     "text": [
      "Wrote assemblies tree to simulations/cov-20/index-reads/reads.tre\n"
     ]
    }
   ],
   "source": [
    "!gdi --project-dir {index_assemblies_path} export tree {reference_name} > {output_assemblies_tree}\n",
    "print(f'Wrote assemblies tree to {output_assemblies_tree}')\n",
    "\n",
    "!gdi --project-dir {index_reads_path} export tree {reference_name} > {output_reads_tree}\n",
    "print(f'Wrote assemblies tree to {output_reads_tree}')"
   ]
  }
 ],
 "metadata": {
  "kernelspec": {
   "display_name": "Python 3 (ipykernel)",
   "language": "python",
   "name": "python3"
  },
  "language_info": {
   "codemirror_mode": {
    "name": "ipython",
    "version": 3
   },
   "file_extension": ".py",
   "mimetype": "text/x-python",
   "name": "python",
   "nbconvert_exporter": "python",
   "pygments_lexer": "ipython3",
   "version": "3.8.12"
  },
  "papermill": {
   "default_parameters": {},
   "duration": 1397.941536,
   "end_time": "2022-03-08T22:55:39.507592",
   "environment_variables": {},
   "exception": null,
   "input_path": "template-3-index-genomes.ipynb",
   "output_path": "3-index-genomes.simulation-cov-20.ipynb",
   "parameters": {
    "iterations": 3,
    "mincov": 10,
    "read_coverage": 20,
    "simulation_dir": "simulations/cov-20",
    "sub_alpha": 0.2
   },
   "start_time": "2022-03-08T22:32:21.566056",
   "version": "2.3.4"
  }
 },
 "nbformat": 4,
 "nbformat_minor": 5
}