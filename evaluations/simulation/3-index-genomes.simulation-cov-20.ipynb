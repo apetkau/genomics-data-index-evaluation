{
 "cells": [
  {
   "cell_type": "markdown",
   "id": "7d3667b4-b1f8-4347-96e3-830c25b06740",
   "metadata": {
    "papermill": {
     "duration": 0.017693,
     "end_time": "2021-09-02T03:40:54.240701",
     "exception": false,
     "start_time": "2021-09-02T03:40:54.223008",
     "status": "completed"
    },
    "tags": []
   },
   "source": [
    "# 1. Parameters"
   ]
  },
  {
   "cell_type": "code",
   "execution_count": 1,
   "id": "d4ab0749-b286-4c34-b63c-a854e4952bae",
   "metadata": {
    "execution": {
     "iopub.execute_input": "2021-09-02T03:40:54.271342Z",
     "iopub.status.busy": "2021-09-02T03:40:54.265625Z",
     "iopub.status.idle": "2021-09-02T03:40:54.276964Z",
     "shell.execute_reply": "2021-09-02T03:40:54.276273Z"
    },
    "papermill": {
     "duration": 0.026945,
     "end_time": "2021-09-02T03:40:54.277138",
     "exception": false,
     "start_time": "2021-09-02T03:40:54.250193",
     "status": "completed"
    },
    "tags": [
     "parameters"
    ]
   },
   "outputs": [],
   "source": [
    "# Defaults\n",
    "simulation_dir = 'simulations/unset'\n",
    "reference_file = 'simulations/reference/reference.fa.gz'\n",
    "iterations = 3\n",
    "mincov = 10\n",
    "ncores = 32"
   ]
  },
  {
   "cell_type": "code",
   "execution_count": 2,
   "id": "eb4ecca9",
   "metadata": {
    "execution": {
     "iopub.execute_input": "2021-09-02T03:40:54.303428Z",
     "iopub.status.busy": "2021-09-02T03:40:54.303005Z",
     "iopub.status.idle": "2021-09-02T03:40:54.305898Z",
     "shell.execute_reply": "2021-09-02T03:40:54.306238Z"
    },
    "papermill": {
     "duration": 0.017302,
     "end_time": "2021-09-02T03:40:54.306358",
     "exception": false,
     "start_time": "2021-09-02T03:40:54.289056",
     "status": "completed"
    },
    "tags": [
     "injected-parameters"
    ]
   },
   "outputs": [],
   "source": [
    "# Parameters\n",
    "read_coverage = 20\n",
    "mincov = 10\n",
    "simulation_dir = \"simulations/cov-20\"\n",
    "iterations = 3\n"
   ]
  },
  {
   "cell_type": "code",
   "execution_count": 3,
   "id": "ce5962e4-261c-4210-b39b-47044e28466b",
   "metadata": {
    "execution": {
     "iopub.execute_input": "2021-09-02T03:40:54.330152Z",
     "iopub.status.busy": "2021-09-02T03:40:54.329736Z",
     "iopub.status.idle": "2021-09-02T03:40:56.791764Z",
     "shell.execute_reply": "2021-09-02T03:40:56.790638Z"
    },
    "papermill": {
     "duration": 2.477934,
     "end_time": "2021-09-02T03:40:56.792012",
     "exception": false,
     "start_time": "2021-09-02T03:40:54.314078",
     "status": "completed"
    },
    "tags": []
   },
   "outputs": [],
   "source": [
    "from pathlib import Path\n",
    "import imp\n",
    "fp, pathname, description = imp.find_module('gdi_benchmark', ['../../lib'])\n",
    "gdi_benchmark = imp.load_module('gdi_benchmark', fp, pathname, description)\n",
    "\n",
    "simulation_dir_path = Path(simulation_dir)\n",
    "\n",
    "case_name = str(simulation_dir_path.name)\n",
    "reads_dir = simulation_dir_path / 'simulated_data' / 'reads'\n",
    "assemblies_dir = simulation_dir_path / 'simulated_data' / 'assemblies'\n",
    "index_reads_path = simulation_dir_path / 'index-reads'\n",
    "index_assemblies_path = simulation_dir_path / 'index-assemblies'\n",
    "output_reads_tree = index_reads_path / 'reads.tre'\n",
    "output_assemblies_tree = index_assemblies_path / 'assemblies.tre'\n",
    "reference_name = Path(reference_file).name.split('.')[0]"
   ]
  },
  {
   "cell_type": "markdown",
   "id": "f208279e-7558-47fc-9362-da29df92828a",
   "metadata": {
    "papermill": {
     "duration": 0.009752,
     "end_time": "2021-09-02T03:40:56.818853",
     "exception": false,
     "start_time": "2021-09-02T03:40:56.809101",
     "status": "completed"
    },
    "tags": []
   },
   "source": [
    "# 2. Index genomes"
   ]
  },
  {
   "cell_type": "code",
   "execution_count": 4,
   "id": "4e936f7c-2fcd-4188-b0e6-6b3ceb5cdcd2",
   "metadata": {
    "execution": {
     "iopub.execute_input": "2021-09-02T03:40:56.850668Z",
     "iopub.status.busy": "2021-09-02T03:40:56.841052Z",
     "iopub.status.idle": "2021-09-02T03:40:59.799297Z",
     "shell.execute_reply": "2021-09-02T03:40:59.800213Z"
    },
    "papermill": {
     "duration": 2.974135,
     "end_time": "2021-09-02T03:40:59.800539",
     "exception": false,
     "start_time": "2021-09-02T03:40:56.826404",
     "status": "completed"
    },
    "tags": []
   },
   "outputs": [
    {
     "name": "stdout",
     "output_type": "stream",
     "text": [
      "gdi, version 0.3.0.dev9\r\n"
     ]
    }
   ],
   "source": [
    "!gdi --version"
   ]
  },
  {
   "cell_type": "markdown",
   "id": "5409ecf8-2158-4361-9d2f-6b1a6c7c63a6",
   "metadata": {
    "papermill": {
     "duration": 0.01048,
     "end_time": "2021-09-02T03:40:59.829980",
     "exception": false,
     "start_time": "2021-09-02T03:40:59.819500",
     "status": "completed"
    },
    "tags": []
   },
   "source": [
    "## 2.1. Index reads"
   ]
  },
  {
   "cell_type": "code",
   "execution_count": 5,
   "id": "b5324f79-913b-4dac-8122-19ad5c0f24b2",
   "metadata": {
    "execution": {
     "iopub.execute_input": "2021-09-02T03:40:59.862409Z",
     "iopub.status.busy": "2021-09-02T03:40:59.852759Z",
     "iopub.status.idle": "2021-09-02T03:41:02.870765Z",
     "shell.execute_reply": "2021-09-02T03:41:02.871684Z"
    },
    "papermill": {
     "duration": 3.034139,
     "end_time": "2021-09-02T03:41:02.871994",
     "exception": false,
     "start_time": "2021-09-02T03:40:59.837855",
     "status": "completed"
    },
    "tags": []
   },
   "outputs": [],
   "source": [
    "input_genomes_file = simulation_dir_path / 'input-reads.tsv'\n",
    "\n",
    "!gdi input --absolute {reads_dir}/*.fq.gz > {input_genomes_file}"
   ]
  },
  {
   "cell_type": "code",
   "execution_count": 6,
   "id": "3d63e861-733e-46f2-8bce-bd1a2c7c7058",
   "metadata": {
    "execution": {
     "iopub.execute_input": "2021-09-02T03:41:02.916551Z",
     "iopub.status.busy": "2021-09-02T03:41:02.912607Z",
     "iopub.status.idle": "2021-09-02T03:52:05.949939Z",
     "shell.execute_reply": "2021-09-02T03:52:05.948827Z"
    },
    "papermill": {
     "duration": 663.059598,
     "end_time": "2021-09-02T03:52:05.950371",
     "exception": false,
     "start_time": "2021-09-02T03:41:02.890773",
     "status": "completed"
    },
    "tags": []
   },
   "outputs": [
    {
     "name": "stdout",
     "output_type": "stream",
     "text": [
      "\n",
      "Iteration 1 of index/analysis of 59 samples with 32 cores\n",
      "Removing any extra snakemake directories: ['snakemake-assemblies.1630553854.7604659']\n"
     ]
    },
    {
     "name": "stdout",
     "output_type": "stream",
     "text": [
      "Creating new index: [gdi init simulations/cov-20/index-reads]\n"
     ]
    },
    {
     "name": "stdout",
     "output_type": "stream",
     "text": [
      "Creating a new index took 3.11 seconds\n",
      "Analysis running: [gdi --project-dir simulations/cov-20/index-reads --ncores 32 analysis --use-conda --no-load-data --reference-file simulations/reference/reference.fa.gz --kmer-size 31 --kmer-size 51 --kmer-size 71 --include-kmer --reads-mincov 10 --input-structured-genomes-file simulations/cov-20/input-reads.tsv]\n"
     ]
    },
    {
     "name": "stdout",
     "output_type": "stream",
     "text": [
      "Analysis took 1.68 minutes\n",
      "Index running: [gdi --project-dir simulations/cov-20/index-reads --ncores 32 load vcf --reference-file simulations/reference/reference.fa.gz /home/CSCScience.ca/apetkau/workspace/genomics-data-index-evaluation/evaluations/simulation/snakemake-assemblies.1630554070.017909/gdi-input.fofn]\n"
     ]
    },
    {
     "name": "stdout",
     "output_type": "stream",
     "text": [
      "Indexing took 0.11 minutes\n",
      "Building tree: [gdi --project-dir simulations/cov-20/index-reads --ncores 32 rebuild tree --align-type full --extra-params '--fast -m GTR+F+R4' reference]\n"
     ]
    },
    {
     "name": "stdout",
     "output_type": "stream",
     "text": [
      "Building tree took 1.50 minutes\n"
     ]
    },
    {
     "name": "stderr",
     "output_type": "stream",
     "text": [
      "A reminder to myself to look for a Python solution for directory sizes (instead of running `du`)\n"
     ]
    },
    {
     "name": "stdout",
     "output_type": "stream",
     "text": [
      "\n",
      "Iteration 2 of index/analysis of 59 samples with 32 cores\n",
      "Removing any extra snakemake directories: ['snakemake-assemblies.1630554070.017909']\n"
     ]
    },
    {
     "name": "stdout",
     "output_type": "stream",
     "text": [
      "Removing any existing indexes simulations/cov-20/index-reads\n",
      "Creating new index: [gdi init simulations/cov-20/index-reads]\n"
     ]
    },
    {
     "name": "stdout",
     "output_type": "stream",
     "text": [
      "Creating a new index took 2.84 seconds\n",
      "Analysis running: [gdi --project-dir simulations/cov-20/index-reads --ncores 32 analysis --use-conda --no-load-data --reference-file simulations/reference/reference.fa.gz --kmer-size 31 --kmer-size 51 --kmer-size 71 --include-kmer --reads-mincov 10 --input-structured-genomes-file simulations/cov-20/input-reads.tsv]\n"
     ]
    },
    {
     "name": "stdout",
     "output_type": "stream",
     "text": [
      "Analysis took 1.67 minutes\n",
      "Index running: [gdi --project-dir simulations/cov-20/index-reads --ncores 32 load vcf --reference-file simulations/reference/reference.fa.gz /home/CSCScience.ca/apetkau/workspace/genomics-data-index-evaluation/evaluations/simulation/snakemake-assemblies.1630554272.3568482/gdi-input.fofn]\n"
     ]
    },
    {
     "name": "stdout",
     "output_type": "stream",
     "text": [
      "Indexing took 0.11 minutes\n",
      "Building tree: [gdi --project-dir simulations/cov-20/index-reads --ncores 32 rebuild tree --align-type full --extra-params '--fast -m GTR+F+R4' reference]\n"
     ]
    },
    {
     "name": "stdout",
     "output_type": "stream",
     "text": [
      "Building tree took 1.99 minutes\n"
     ]
    },
    {
     "name": "stderr",
     "output_type": "stream",
     "text": [
      "Attempting to set global database_path_translator=<genomics_data_index.storage.model.db.DatabasePathTranslator.DatabasePathTranslator object at 0x7f71c58a5d90> but it is already set\n"
     ]
    },
    {
     "name": "stderr",
     "output_type": "stream",
     "text": [
      "A reminder to myself to look for a Python solution for directory sizes (instead of running `du`)\n"
     ]
    },
    {
     "name": "stdout",
     "output_type": "stream",
     "text": [
      "\n",
      "Iteration 3 of index/analysis of 59 samples with 32 cores\n",
      "Removing any extra snakemake directories: ['snakemake-assemblies.1630554272.3568482']\n"
     ]
    },
    {
     "name": "stdout",
     "output_type": "stream",
     "text": [
      "Removing any existing indexes simulations/cov-20/index-reads\n",
      "Creating new index: [gdi init simulations/cov-20/index-reads]\n"
     ]
    },
    {
     "name": "stdout",
     "output_type": "stream",
     "text": [
      "Creating a new index took 2.82 seconds\n",
      "Analysis running: [gdi --project-dir simulations/cov-20/index-reads --ncores 32 analysis --use-conda --no-load-data --reference-file simulations/reference/reference.fa.gz --kmer-size 31 --kmer-size 51 --kmer-size 71 --include-kmer --reads-mincov 10 --input-structured-genomes-file simulations/cov-20/input-reads.tsv]\n"
     ]
    },
    {
     "name": "stdout",
     "output_type": "stream",
     "text": [
      "Analysis took 1.66 minutes\n",
      "Index running: [gdi --project-dir simulations/cov-20/index-reads --ncores 32 load vcf --reference-file simulations/reference/reference.fa.gz /home/CSCScience.ca/apetkau/workspace/genomics-data-index-evaluation/evaluations/simulation/snakemake-assemblies.1630554503.1196358/gdi-input.fofn]\n"
     ]
    },
    {
     "name": "stdout",
     "output_type": "stream",
     "text": [
      "Indexing took 0.11 minutes\n",
      "Building tree: [gdi --project-dir simulations/cov-20/index-reads --ncores 32 rebuild tree --align-type full --extra-params '--fast -m GTR+F+R4' reference]\n"
     ]
    },
    {
     "name": "stdout",
     "output_type": "stream",
     "text": [
      "Building tree took 1.99 minutes\n"
     ]
    },
    {
     "name": "stderr",
     "output_type": "stream",
     "text": [
      "Attempting to set global database_path_translator=<genomics_data_index.storage.model.db.DatabasePathTranslator.DatabasePathTranslator object at 0x7f71ce05c850> but it is already set\n"
     ]
    },
    {
     "name": "stderr",
     "output_type": "stream",
     "text": [
      "A reminder to myself to look for a Python solution for directory sizes (instead of running `du`)\n"
     ]
    }
   ],
   "source": [
    "results_handler = gdi_benchmark.BenchmarkResultsHandler(name=f'{case_name} reads')\n",
    "benchmarker = gdi_benchmark.IndexBenchmarker(benchmark_results_handler=results_handler,\n",
    "                                             index_path=index_reads_path, input_files_file=input_genomes_file,\n",
    "                                             reference_file=reference_file, mincov=mincov, build_tree=True,\n",
    "                                             ncores=ncores)\n",
    "\n",
    "benchmark_df = benchmarker.benchmark(iterations=iterations)"
   ]
  },
  {
   "cell_type": "code",
   "execution_count": 7,
   "id": "3bcb6da7-0164-47f2-abdd-a4c159da1e3b",
   "metadata": {
    "execution": {
     "iopub.execute_input": "2021-09-02T03:52:06.013984Z",
     "iopub.status.busy": "2021-09-02T03:52:06.007684Z",
     "iopub.status.idle": "2021-09-02T03:52:06.024810Z",
     "shell.execute_reply": "2021-09-02T03:52:06.025623Z"
    },
    "papermill": {
     "duration": 0.050568,
     "end_time": "2021-09-02T03:52:06.025871",
     "exception": false,
     "start_time": "2021-09-02T03:52:05.975303",
     "status": "completed"
    },
    "tags": []
   },
   "outputs": [
    {
     "data": {
      "text/html": [
       "<div>\n",
       "<style scoped>\n",
       "    .dataframe tbody tr th:only-of-type {\n",
       "        vertical-align: middle;\n",
       "    }\n",
       "\n",
       "    .dataframe tbody tr th {\n",
       "        vertical-align: top;\n",
       "    }\n",
       "\n",
       "    .dataframe thead th {\n",
       "        text-align: right;\n",
       "    }\n",
       "</style>\n",
       "<table border=\"1\" class=\"dataframe\">\n",
       "  <thead>\n",
       "    <tr style=\"text-align: right;\">\n",
       "      <th></th>\n",
       "      <th>Name</th>\n",
       "      <th>Iteration</th>\n",
       "      <th>Number samples</th>\n",
       "      <th>Number cores</th>\n",
       "      <th>Reference length</th>\n",
       "      <th>Analysis runtime</th>\n",
       "      <th>Analysis memory (max)</th>\n",
       "      <th>Analysis memory (max/process)</th>\n",
       "      <th>Analysis disk uage</th>\n",
       "      <th>Index runtime</th>\n",
       "      <th>Index memory (max)</th>\n",
       "      <th>Index memory (max/process)</th>\n",
       "      <th>Index size</th>\n",
       "      <th>Tree runtime</th>\n",
       "      <th>Tree memory (max)</th>\n",
       "      <th>Tree memory (max/process)</th>\n",
       "      <th>Total runtime</th>\n",
       "      <th>Max memory</th>\n",
       "    </tr>\n",
       "  </thead>\n",
       "  <tbody>\n",
       "    <tr>\n",
       "      <th>0</th>\n",
       "      <td>cov-20 reads</td>\n",
       "      <td>1</td>\n",
       "      <td>59</td>\n",
       "      <td>32</td>\n",
       "      <td>10834</td>\n",
       "      <td>100.68</td>\n",
       "      <td>2.657698e+09</td>\n",
       "      <td>400101376.0</td>\n",
       "      <td>3.265098e+09</td>\n",
       "      <td>6.79</td>\n",
       "      <td>5.785629e+09</td>\n",
       "      <td>272101376.0</td>\n",
       "      <td>1839104.0</td>\n",
       "      <td>89.62</td>\n",
       "      <td>263532544.0</td>\n",
       "      <td>224038912.0</td>\n",
       "      <td>197.09</td>\n",
       "      <td>5.785629e+09</td>\n",
       "    </tr>\n",
       "    <tr>\n",
       "      <th>0</th>\n",
       "      <td>cov-20 reads</td>\n",
       "      <td>2</td>\n",
       "      <td>59</td>\n",
       "      <td>32</td>\n",
       "      <td>10834</td>\n",
       "      <td>99.81</td>\n",
       "      <td>2.825097e+09</td>\n",
       "      <td>391503872.0</td>\n",
       "      <td>3.265106e+09</td>\n",
       "      <td>6.79</td>\n",
       "      <td>5.811974e+09</td>\n",
       "      <td>271802368.0</td>\n",
       "      <td>1843200.0</td>\n",
       "      <td>119.27</td>\n",
       "      <td>263659520.0</td>\n",
       "      <td>224002048.0</td>\n",
       "      <td>225.87</td>\n",
       "      <td>5.811974e+09</td>\n",
       "    </tr>\n",
       "    <tr>\n",
       "      <th>0</th>\n",
       "      <td>cov-20 reads</td>\n",
       "      <td>3</td>\n",
       "      <td>59</td>\n",
       "      <td>32</td>\n",
       "      <td>10834</td>\n",
       "      <td>99.34</td>\n",
       "      <td>2.667504e+09</td>\n",
       "      <td>383307776.0</td>\n",
       "      <td>3.265098e+09</td>\n",
       "      <td>6.58</td>\n",
       "      <td>5.797462e+09</td>\n",
       "      <td>271982592.0</td>\n",
       "      <td>1835008.0</td>\n",
       "      <td>119.01</td>\n",
       "      <td>263913472.0</td>\n",
       "      <td>224280576.0</td>\n",
       "      <td>224.93</td>\n",
       "      <td>5.797462e+09</td>\n",
       "    </tr>\n",
       "  </tbody>\n",
       "</table>\n",
       "</div>"
      ],
      "text/plain": [
       "           Name  Iteration  Number samples  Number cores  Reference length  \\\n",
       "0  cov-20 reads          1              59            32             10834   \n",
       "0  cov-20 reads          2              59            32             10834   \n",
       "0  cov-20 reads          3              59            32             10834   \n",
       "\n",
       "   Analysis runtime  Analysis memory (max)  Analysis memory (max/process)  \\\n",
       "0            100.68           2.657698e+09                    400101376.0   \n",
       "0             99.81           2.825097e+09                    391503872.0   \n",
       "0             99.34           2.667504e+09                    383307776.0   \n",
       "\n",
       "   Analysis disk uage  Index runtime  Index memory (max)  \\\n",
       "0        3.265098e+09           6.79        5.785629e+09   \n",
       "0        3.265106e+09           6.79        5.811974e+09   \n",
       "0        3.265098e+09           6.58        5.797462e+09   \n",
       "\n",
       "   Index memory (max/process)  Index size  Tree runtime  Tree memory (max)  \\\n",
       "0                 272101376.0   1839104.0         89.62        263532544.0   \n",
       "0                 271802368.0   1843200.0        119.27        263659520.0   \n",
       "0                 271982592.0   1835008.0        119.01        263913472.0   \n",
       "\n",
       "   Tree memory (max/process)  Total runtime    Max memory  \n",
       "0                224038912.0         197.09  5.785629e+09  \n",
       "0                224002048.0         225.87  5.811974e+09  \n",
       "0                224280576.0         224.93  5.797462e+09  "
      ]
     },
     "execution_count": 7,
     "metadata": {},
     "output_type": "execute_result"
    }
   ],
   "source": [
    "benchmark_df"
   ]
  },
  {
   "cell_type": "code",
   "execution_count": 8,
   "id": "535a9ccc-ab9c-4919-806f-128e1efd2389",
   "metadata": {
    "execution": {
     "iopub.execute_input": "2021-09-02T03:52:06.063903Z",
     "iopub.status.busy": "2021-09-02T03:52:06.063473Z",
     "iopub.status.idle": "2021-09-02T03:52:06.077877Z",
     "shell.execute_reply": "2021-09-02T03:52:06.077454Z"
    },
    "papermill": {
     "duration": 0.031236,
     "end_time": "2021-09-02T03:52:06.077993",
     "exception": false,
     "start_time": "2021-09-02T03:52:06.046757",
     "status": "completed"
    },
    "tags": []
   },
   "outputs": [],
   "source": [
    "index_reads_runtime = simulation_dir_path / 'reads-index-info.tsv'\n",
    "benchmark_df.to_csv(index_reads_runtime, sep='\\t', index=False)"
   ]
  },
  {
   "cell_type": "markdown",
   "id": "c331578f-4026-4a9f-a3ba-288814b02ed2",
   "metadata": {
    "papermill": {
     "duration": 0.011749,
     "end_time": "2021-09-02T03:52:06.106520",
     "exception": false,
     "start_time": "2021-09-02T03:52:06.094771",
     "status": "completed"
    },
    "tags": []
   },
   "source": [
    "## 2.2. Index assemblies"
   ]
  },
  {
   "cell_type": "code",
   "execution_count": 9,
   "id": "6e6664f4-94ee-4c45-b1fc-e048b387fa49",
   "metadata": {
    "execution": {
     "iopub.execute_input": "2021-09-02T03:52:06.145635Z",
     "iopub.status.busy": "2021-09-02T03:52:06.135375Z",
     "iopub.status.idle": "2021-09-02T03:52:09.059213Z",
     "shell.execute_reply": "2021-09-02T03:52:09.058185Z"
    },
    "papermill": {
     "duration": 2.94186,
     "end_time": "2021-09-02T03:52:09.059535",
     "exception": false,
     "start_time": "2021-09-02T03:52:06.117675",
     "status": "completed"
    },
    "tags": []
   },
   "outputs": [],
   "source": [
    "input_genomes_file = simulation_dir_path / 'input-assemblies.tsv'\n",
    "\n",
    "!gdi input --absolute {assemblies_dir}/*.fa.gz > {input_genomes_file}"
   ]
  },
  {
   "cell_type": "code",
   "execution_count": 10,
   "id": "0a1e62f3-3b0c-4a90-a7fe-f0bc1094e350",
   "metadata": {
    "execution": {
     "iopub.execute_input": "2021-09-02T03:52:09.106269Z",
     "iopub.status.busy": "2021-09-02T03:52:09.105842Z",
     "iopub.status.idle": "2021-09-02T04:01:40.383682Z",
     "shell.execute_reply": "2021-09-02T04:01:40.384532Z"
    },
    "papermill": {
     "duration": 571.3003,
     "end_time": "2021-09-02T04:01:40.384834",
     "exception": false,
     "start_time": "2021-09-02T03:52:09.084534",
     "status": "completed"
    },
    "tags": []
   },
   "outputs": [
    {
     "name": "stdout",
     "output_type": "stream",
     "text": [
      "\n",
      "Iteration 1 of index/analysis of 59 samples with 32 cores\n",
      "Removing any extra snakemake directories: ['snakemake-assemblies.1630554503.1196358']\n"
     ]
    },
    {
     "name": "stdout",
     "output_type": "stream",
     "text": [
      "Creating new index: [gdi init simulations/cov-20/index-assemblies]\n"
     ]
    },
    {
     "name": "stdout",
     "output_type": "stream",
     "text": [
      "Creating a new index took 2.97 seconds\n",
      "Analysis running: [gdi --project-dir simulations/cov-20/index-assemblies --ncores 32 analysis --use-conda --no-load-data --reference-file simulations/reference/reference.fa.gz --kmer-size 31 --kmer-size 51 --kmer-size 71 --include-kmer --reads-mincov 10 --input-structured-genomes-file simulations/cov-20/input-assemblies.tsv]\n"
     ]
    },
    {
     "name": "stdout",
     "output_type": "stream",
     "text": [
      "Analysis took 1.53 minutes\n",
      "Index running: [gdi --project-dir simulations/cov-20/index-assemblies --ncores 32 load vcf --reference-file simulations/reference/reference.fa.gz /home/CSCScience.ca/apetkau/workspace/genomics-data-index-evaluation/evaluations/simulation/snakemake-assemblies.1630554736.6371377/gdi-input.fofn]\n"
     ]
    },
    {
     "name": "stdout",
     "output_type": "stream",
     "text": [
      "Indexing took 0.09 minutes\n",
      "Building tree: [gdi --project-dir simulations/cov-20/index-assemblies --ncores 32 rebuild tree --align-type full --extra-params '--fast -m GTR+F+R4' reference]\n"
     ]
    },
    {
     "name": "stdout",
     "output_type": "stream",
     "text": [
      "Building tree took 1.48 minutes\n"
     ]
    },
    {
     "name": "stderr",
     "output_type": "stream",
     "text": [
      "Attempting to set global database_path_translator=<genomics_data_index.storage.model.db.DatabasePathTranslator.DatabasePathTranslator object at 0x7f7210173c10> but it is already set\n"
     ]
    },
    {
     "name": "stderr",
     "output_type": "stream",
     "text": [
      "A reminder to myself to look for a Python solution for directory sizes (instead of running `du`)\n"
     ]
    },
    {
     "name": "stdout",
     "output_type": "stream",
     "text": [
      "\n",
      "Iteration 2 of index/analysis of 59 samples with 32 cores\n",
      "Removing any extra snakemake directories: ['snakemake-assemblies.1630554736.6371377']\n"
     ]
    },
    {
     "name": "stdout",
     "output_type": "stream",
     "text": [
      "Removing any existing indexes simulations/cov-20/index-assemblies\n",
      "Creating new index: [gdi init simulations/cov-20/index-assemblies]\n"
     ]
    },
    {
     "name": "stdout",
     "output_type": "stream",
     "text": [
      "Creating a new index took 2.70 seconds\n",
      "Analysis running: [gdi --project-dir simulations/cov-20/index-assemblies --ncores 32 analysis --use-conda --no-load-data --reference-file simulations/reference/reference.fa.gz --kmer-size 31 --kmer-size 51 --kmer-size 71 --include-kmer --reads-mincov 10 --input-structured-genomes-file simulations/cov-20/input-assemblies.tsv]\n"
     ]
    },
    {
     "name": "stdout",
     "output_type": "stream",
     "text": [
      "Analysis took 1.51 minutes\n",
      "Index running: [gdi --project-dir simulations/cov-20/index-assemblies --ncores 32 load vcf --reference-file simulations/reference/reference.fa.gz /home/CSCScience.ca/apetkau/workspace/genomics-data-index-evaluation/evaluations/simulation/snakemake-assemblies.1630554926.3730695/gdi-input.fofn]\n"
     ]
    },
    {
     "name": "stdout",
     "output_type": "stream",
     "text": [
      "Indexing took 0.09 minutes\n",
      "Building tree: [gdi --project-dir simulations/cov-20/index-assemblies --ncores 32 rebuild tree --align-type full --extra-params '--fast -m GTR+F+R4' reference]\n"
     ]
    },
    {
     "name": "stdout",
     "output_type": "stream",
     "text": [
      "Building tree took 1.48 minutes\n"
     ]
    },
    {
     "name": "stderr",
     "output_type": "stream",
     "text": [
      "Attempting to set global database_path_translator=<genomics_data_index.storage.model.db.DatabasePathTranslator.DatabasePathTranslator object at 0x7f72101737c0> but it is already set\n"
     ]
    },
    {
     "name": "stderr",
     "output_type": "stream",
     "text": [
      "A reminder to myself to look for a Python solution for directory sizes (instead of running `du`)\n"
     ]
    },
    {
     "name": "stdout",
     "output_type": "stream",
     "text": [
      "\n",
      "Iteration 3 of index/analysis of 59 samples with 32 cores\n",
      "Removing any extra snakemake directories: ['snakemake-assemblies.1630554926.3730695']\n"
     ]
    },
    {
     "name": "stdout",
     "output_type": "stream",
     "text": [
      "Removing any existing indexes simulations/cov-20/index-assemblies\n",
      "Creating new index: [gdi init simulations/cov-20/index-assemblies]\n"
     ]
    },
    {
     "name": "stdout",
     "output_type": "stream",
     "text": [
      "Creating a new index took 2.84 seconds\n",
      "Analysis running: [gdi --project-dir simulations/cov-20/index-assemblies --ncores 32 analysis --use-conda --no-load-data --reference-file simulations/reference/reference.fa.gz --kmer-size 31 --kmer-size 51 --kmer-size 71 --include-kmer --reads-mincov 10 --input-structured-genomes-file simulations/cov-20/input-assemblies.tsv]\n"
     ]
    },
    {
     "name": "stdout",
     "output_type": "stream",
     "text": [
      "Analysis took 1.55 minutes\n",
      "Index running: [gdi --project-dir simulations/cov-20/index-assemblies --ncores 32 load vcf --reference-file simulations/reference/reference.fa.gz /home/CSCScience.ca/apetkau/workspace/genomics-data-index-evaluation/evaluations/simulation/snakemake-assemblies.1630555115.3153427/gdi-input.fofn]\n"
     ]
    },
    {
     "name": "stdout",
     "output_type": "stream",
     "text": [
      "Indexing took 0.09 minutes\n",
      "Building tree: [gdi --project-dir simulations/cov-20/index-assemblies --ncores 32 rebuild tree --align-type full --extra-params '--fast -m GTR+F+R4' reference]\n"
     ]
    },
    {
     "name": "stdout",
     "output_type": "stream",
     "text": [
      "Building tree took 1.48 minutes\n"
     ]
    },
    {
     "name": "stderr",
     "output_type": "stream",
     "text": [
      "Attempting to set global database_path_translator=<genomics_data_index.storage.model.db.DatabasePathTranslator.DatabasePathTranslator object at 0x7f6f75a6b3d0> but it is already set\n"
     ]
    },
    {
     "name": "stderr",
     "output_type": "stream",
     "text": [
      "A reminder to myself to look for a Python solution for directory sizes (instead of running `du`)\n"
     ]
    }
   ],
   "source": [
    "results_handler = gdi_benchmark.BenchmarkResultsHandler(name=f'{case_name} assemblies')\n",
    "benchmarker = gdi_benchmark.IndexBenchmarker(benchmark_results_handler=results_handler,\n",
    "                                             index_path=index_assemblies_path, input_files_file=input_genomes_file,\n",
    "                                             reference_file=reference_file, mincov=mincov, build_tree=True,\n",
    "                                             ncores=ncores)\n",
    "\n",
    "benchmark_df = benchmarker.benchmark(iterations=iterations)"
   ]
  },
  {
   "cell_type": "code",
   "execution_count": 11,
   "id": "a6d55a9d-be2f-4851-b66c-04b5ebd597a1",
   "metadata": {
    "execution": {
     "iopub.execute_input": "2021-09-02T04:01:40.453371Z",
     "iopub.status.busy": "2021-09-02T04:01:40.452854Z",
     "iopub.status.idle": "2021-09-02T04:01:40.455627Z",
     "shell.execute_reply": "2021-09-02T04:01:40.456181Z"
    },
    "papermill": {
     "duration": 0.042411,
     "end_time": "2021-09-02T04:01:40.456353",
     "exception": false,
     "start_time": "2021-09-02T04:01:40.413942",
     "status": "completed"
    },
    "tags": []
   },
   "outputs": [
    {
     "data": {
      "text/html": [
       "<div>\n",
       "<style scoped>\n",
       "    .dataframe tbody tr th:only-of-type {\n",
       "        vertical-align: middle;\n",
       "    }\n",
       "\n",
       "    .dataframe tbody tr th {\n",
       "        vertical-align: top;\n",
       "    }\n",
       "\n",
       "    .dataframe thead th {\n",
       "        text-align: right;\n",
       "    }\n",
       "</style>\n",
       "<table border=\"1\" class=\"dataframe\">\n",
       "  <thead>\n",
       "    <tr style=\"text-align: right;\">\n",
       "      <th></th>\n",
       "      <th>Name</th>\n",
       "      <th>Iteration</th>\n",
       "      <th>Number samples</th>\n",
       "      <th>Number cores</th>\n",
       "      <th>Reference length</th>\n",
       "      <th>Analysis runtime</th>\n",
       "      <th>Analysis memory (max)</th>\n",
       "      <th>Analysis memory (max/process)</th>\n",
       "      <th>Analysis disk uage</th>\n",
       "      <th>Index runtime</th>\n",
       "      <th>Index memory (max)</th>\n",
       "      <th>Index memory (max/process)</th>\n",
       "      <th>Index size</th>\n",
       "      <th>Tree runtime</th>\n",
       "      <th>Tree memory (max)</th>\n",
       "      <th>Tree memory (max/process)</th>\n",
       "      <th>Total runtime</th>\n",
       "      <th>Max memory</th>\n",
       "    </tr>\n",
       "  </thead>\n",
       "  <tbody>\n",
       "    <tr>\n",
       "      <th>0</th>\n",
       "      <td>cov-20 assemblies</td>\n",
       "      <td>1</td>\n",
       "      <td>59</td>\n",
       "      <td>32</td>\n",
       "      <td>10834</td>\n",
       "      <td>91.54</td>\n",
       "      <td>1.297506e+09</td>\n",
       "      <td>368082944.0</td>\n",
       "      <td>2.082599e+09</td>\n",
       "      <td>5.07</td>\n",
       "      <td>5.770404e+09</td>\n",
       "      <td>237883392.0</td>\n",
       "      <td>1064960.0</td>\n",
       "      <td>88.80</td>\n",
       "      <td>240889856.0</td>\n",
       "      <td>224014336.0</td>\n",
       "      <td>185.41</td>\n",
       "      <td>5.770404e+09</td>\n",
       "    </tr>\n",
       "    <tr>\n",
       "      <th>0</th>\n",
       "      <td>cov-20 assemblies</td>\n",
       "      <td>2</td>\n",
       "      <td>59</td>\n",
       "      <td>32</td>\n",
       "      <td>10834</td>\n",
       "      <td>90.29</td>\n",
       "      <td>1.229287e+09</td>\n",
       "      <td>361959424.0</td>\n",
       "      <td>2.082607e+09</td>\n",
       "      <td>5.20</td>\n",
       "      <td>5.770789e+09</td>\n",
       "      <td>237543424.0</td>\n",
       "      <td>1064960.0</td>\n",
       "      <td>88.56</td>\n",
       "      <td>241541120.0</td>\n",
       "      <td>224296960.0</td>\n",
       "      <td>184.05</td>\n",
       "      <td>5.770789e+09</td>\n",
       "    </tr>\n",
       "    <tr>\n",
       "      <th>0</th>\n",
       "      <td>cov-20 assemblies</td>\n",
       "      <td>3</td>\n",
       "      <td>59</td>\n",
       "      <td>32</td>\n",
       "      <td>10834</td>\n",
       "      <td>93.10</td>\n",
       "      <td>1.119715e+09</td>\n",
       "      <td>371875840.0</td>\n",
       "      <td>2.082599e+09</td>\n",
       "      <td>5.27</td>\n",
       "      <td>5.777289e+09</td>\n",
       "      <td>238166016.0</td>\n",
       "      <td>1064960.0</td>\n",
       "      <td>88.90</td>\n",
       "      <td>240656384.0</td>\n",
       "      <td>223862784.0</td>\n",
       "      <td>187.27</td>\n",
       "      <td>5.777289e+09</td>\n",
       "    </tr>\n",
       "  </tbody>\n",
       "</table>\n",
       "</div>"
      ],
      "text/plain": [
       "                Name  Iteration  Number samples  Number cores  \\\n",
       "0  cov-20 assemblies          1              59            32   \n",
       "0  cov-20 assemblies          2              59            32   \n",
       "0  cov-20 assemblies          3              59            32   \n",
       "\n",
       "   Reference length  Analysis runtime  Analysis memory (max)  \\\n",
       "0             10834             91.54           1.297506e+09   \n",
       "0             10834             90.29           1.229287e+09   \n",
       "0             10834             93.10           1.119715e+09   \n",
       "\n",
       "   Analysis memory (max/process)  Analysis disk uage  Index runtime  \\\n",
       "0                    368082944.0        2.082599e+09           5.07   \n",
       "0                    361959424.0        2.082607e+09           5.20   \n",
       "0                    371875840.0        2.082599e+09           5.27   \n",
       "\n",
       "   Index memory (max)  Index memory (max/process)  Index size  Tree runtime  \\\n",
       "0        5.770404e+09                 237883392.0   1064960.0         88.80   \n",
       "0        5.770789e+09                 237543424.0   1064960.0         88.56   \n",
       "0        5.777289e+09                 238166016.0   1064960.0         88.90   \n",
       "\n",
       "   Tree memory (max)  Tree memory (max/process)  Total runtime    Max memory  \n",
       "0        240889856.0                224014336.0         185.41  5.770404e+09  \n",
       "0        241541120.0                224296960.0         184.05  5.770789e+09  \n",
       "0        240656384.0                223862784.0         187.27  5.777289e+09  "
      ]
     },
     "execution_count": 11,
     "metadata": {},
     "output_type": "execute_result"
    }
   ],
   "source": [
    "benchmark_df"
   ]
  },
  {
   "cell_type": "code",
   "execution_count": 12,
   "id": "e1a6d962-50bc-4c8d-a6f2-3a661da706b4",
   "metadata": {
    "execution": {
     "iopub.execute_input": "2021-09-02T04:01:40.502446Z",
     "iopub.status.busy": "2021-09-02T04:01:40.500440Z",
     "iopub.status.idle": "2021-09-02T04:01:40.506227Z",
     "shell.execute_reply": "2021-09-02T04:01:40.505811Z"
    },
    "papermill": {
     "duration": 0.028184,
     "end_time": "2021-09-02T04:01:40.506339",
     "exception": false,
     "start_time": "2021-09-02T04:01:40.478155",
     "status": "completed"
    },
    "tags": []
   },
   "outputs": [],
   "source": [
    "index_assemblies_runtime = simulation_dir_path / 'assemblies-index-info.tsv'\n",
    "benchmark_df.to_csv(index_assemblies_runtime, sep='\\t', index=False)"
   ]
  },
  {
   "cell_type": "markdown",
   "id": "6cb7673b-9f85-4c43-b2e2-93538497a196",
   "metadata": {
    "papermill": {
     "duration": 0.015522,
     "end_time": "2021-09-02T04:01:40.541657",
     "exception": false,
     "start_time": "2021-09-02T04:01:40.526135",
     "status": "completed"
    },
    "tags": []
   },
   "source": [
    "# 3. Export trees"
   ]
  },
  {
   "cell_type": "code",
   "execution_count": 13,
   "id": "5280f82c-5434-4391-8c44-b937a7c95bd5",
   "metadata": {
    "execution": {
     "iopub.execute_input": "2021-09-02T04:01:40.582162Z",
     "iopub.status.busy": "2021-09-02T04:01:40.581758Z",
     "iopub.status.idle": "2021-09-02T04:01:46.540267Z",
     "shell.execute_reply": "2021-09-02T04:01:46.541126Z"
    },
    "papermill": {
     "duration": 5.984072,
     "end_time": "2021-09-02T04:01:46.541436",
     "exception": false,
     "start_time": "2021-09-02T04:01:40.557364",
     "status": "completed"
    },
    "tags": []
   },
   "outputs": [
    {
     "name": "stdout",
     "output_type": "stream",
     "text": [
      "Wrote assemblies tree to simulations/cov-20/index-assemblies/assemblies.tre\n"
     ]
    },
    {
     "name": "stdout",
     "output_type": "stream",
     "text": [
      "Wrote assemblies tree to simulations/cov-20/index-reads/reads.tre\n"
     ]
    }
   ],
   "source": [
    "!gdi --project-dir {index_assemblies_path} export tree {reference_name} > {output_assemblies_tree}\n",
    "print(f'Wrote assemblies tree to {output_assemblies_tree}')\n",
    "\n",
    "!gdi --project-dir {index_reads_path} export tree {reference_name} > {output_reads_tree}\n",
    "print(f'Wrote assemblies tree to {output_reads_tree}')"
   ]
  }
 ],
 "metadata": {
  "kernelspec": {
   "display_name": "Python 3 (ipykernel)",
   "language": "python",
   "name": "python3"
  },
  "language_info": {
   "codemirror_mode": {
    "name": "ipython",
    "version": 3
   },
   "file_extension": ".py",
   "mimetype": "text/x-python",
   "name": "python",
   "nbconvert_exporter": "python",
   "pygments_lexer": "ipython3",
   "version": "3.8.10"
  },
  "papermill": {
   "default_parameters": {},
   "duration": 1254.542232,
   "end_time": "2021-09-02T04:01:47.906785",
   "environment_variables": {},
   "exception": null,
   "input_path": "template-3-index-genomes.ipynb",
   "output_path": "3-index-genomes.simulation-cov-20.ipynb",
   "parameters": {
    "iterations": 3,
    "mincov": 10,
    "read_coverage": 20,
    "simulation_dir": "simulations/cov-20"
   },
   "start_time": "2021-09-02T03:40:53.364553",
   "version": "2.3.3"
  }
 },
 "nbformat": 4,
 "nbformat_minor": 5
}