{
 "cells": [
  {
   "cell_type": "markdown",
   "id": "f1bc3e40-3158-4009-8a9b-371a7d2d2efe",
   "metadata": {
    "papermill": {
     "duration": 0.019801,
     "end_time": "2021-09-12T04:13:43.962344",
     "exception": false,
     "start_time": "2021-09-12T04:13:43.942543",
     "status": "completed"
    },
    "tags": []
   },
   "source": [
    "# 1. Parameters"
   ]
  },
  {
   "cell_type": "code",
   "execution_count": 1,
   "id": "cf8880a6-5194-4ced-be67-c0610a332a31",
   "metadata": {
    "execution": {
     "iopub.execute_input": "2021-09-12T04:13:43.994076Z",
     "iopub.status.busy": "2021-09-12T04:13:43.993555Z",
     "iopub.status.idle": "2021-09-12T04:13:43.996860Z",
     "shell.execute_reply": "2021-09-12T04:13:43.997277Z"
    },
    "papermill": {
     "duration": 0.024841,
     "end_time": "2021-09-12T04:13:43.997471",
     "exception": false,
     "start_time": "2021-09-12T04:13:43.972630",
     "status": "completed"
    },
    "tags": [
     "parameters"
    ]
   },
   "outputs": [],
   "source": [
    "simulation_dir = 'simulations/unset'\n",
    "metadata_file = 'input/metadata.tsv.gz'"
   ]
  },
  {
   "cell_type": "code",
   "execution_count": 2,
   "id": "4b33a7fb",
   "metadata": {
    "execution": {
     "iopub.execute_input": "2021-09-12T04:13:44.022806Z",
     "iopub.status.busy": "2021-09-12T04:13:44.022404Z",
     "iopub.status.idle": "2021-09-12T04:13:44.025620Z",
     "shell.execute_reply": "2021-09-12T04:13:44.025279Z"
    },
    "papermill": {
     "duration": 0.017652,
     "end_time": "2021-09-12T04:13:44.025713",
     "exception": false,
     "start_time": "2021-09-12T04:13:44.008061",
     "status": "completed"
    },
    "tags": [
     "injected-parameters"
    ]
   },
   "outputs": [],
   "source": [
    "# Parameters\n",
    "read_coverage = 30\n",
    "mincov = 10\n",
    "simulation_dir = \"simulations/cov-30\"\n",
    "iterations = 3\n",
    "sub_alpha = 0.2\n"
   ]
  },
  {
   "cell_type": "code",
   "execution_count": 3,
   "id": "7e54ac3f-8dff-492e-8096-65a2ed9f5c90",
   "metadata": {
    "execution": {
     "iopub.execute_input": "2021-09-12T04:13:44.051051Z",
     "iopub.status.busy": "2021-09-12T04:13:44.050651Z",
     "iopub.status.idle": "2021-09-12T04:13:46.262731Z",
     "shell.execute_reply": "2021-09-12T04:13:46.261792Z"
    },
    "papermill": {
     "duration": 2.228625,
     "end_time": "2021-09-12T04:13:46.262987",
     "exception": false,
     "start_time": "2021-09-12T04:13:44.034362",
     "status": "completed"
    },
    "tags": []
   },
   "outputs": [],
   "source": [
    "from pathlib import Path\n",
    "import imp\n",
    "fp, pathname, description = imp.find_module('gdi_benchmark', ['../../lib'])\n",
    "gdi_benchmark = imp.load_module('gdi_benchmark', fp, pathname, description)\n",
    "\n",
    "simulation_dir_path = Path(simulation_dir)\n",
    "\n",
    "case_name = str(simulation_dir_path.name)\n",
    "index_reads_path = simulation_dir_path / 'index-reads'\n",
    "index_assemblies_path = simulation_dir_path / 'index-assemblies'\n",
    "\n",
    "output_api_reads_path = simulation_dir_path / 'query-reads-api.tsv'\n",
    "output_api_assemblies_path = simulation_dir_path / 'query-assemblies-api.tsv'\n",
    "output_cli_reads_path = simulation_dir_path / 'query-reads-cli.tsv'\n",
    "output_cli_assemblies_path = simulation_dir_path / 'query-assemblies-cli.tsv'"
   ]
  },
  {
   "cell_type": "markdown",
   "id": "54537d03-809a-487c-8686-5e1791dc11de",
   "metadata": {
    "papermill": {
     "duration": 0.010401,
     "end_time": "2021-09-12T04:13:46.292123",
     "exception": false,
     "start_time": "2021-09-12T04:13:46.281722",
     "status": "completed"
    },
    "tags": []
   },
   "source": [
    "# 2. Benchmark command-line"
   ]
  },
  {
   "cell_type": "code",
   "execution_count": 4,
   "id": "9f4b5122-586c-440f-be52-0b7ab161de46",
   "metadata": {
    "execution": {
     "iopub.execute_input": "2021-09-12T04:13:46.324598Z",
     "iopub.status.busy": "2021-09-12T04:13:46.324058Z",
     "iopub.status.idle": "2021-09-12T04:13:46.326989Z",
     "shell.execute_reply": "2021-09-12T04:13:46.326552Z"
    },
    "papermill": {
     "duration": 0.027411,
     "end_time": "2021-09-12T04:13:46.327099",
     "exception": false,
     "start_time": "2021-09-12T04:13:46.299688",
     "status": "completed"
    },
    "tags": []
   },
   "outputs": [],
   "source": [
    "import pandas as pd\n",
    "import genomics_data_index.api as gdi\n",
    "\n",
    "def benchmark_cli_index(name: str, index_path: Path) -> pd.DataFrame:\n",
    "    db = gdi.GenomicsDataIndex.connect(index_path)\n",
    "    mutations_df = db.mutations_summary(reference_name='reference').sort_values('Count', ascending=False)\n",
    "    top_mutation = mutations_df.iloc[0].name\n",
    "    \n",
    "    if 'chrom' not in top_mutation:\n",
    "        raise Exception(f'Does not exist a single mutation for index {index_path}')\n",
    "    else:\n",
    "        print(f'top_mutation={top_mutation}')\n",
    "        \n",
    "    benchmark_commands = {\n",
    "        'query hasa':               f'gdi --project-dir {index_path} --ncores 1 query \"hasa:{top_mutation}\"',\n",
    "        'query isa':                f'gdi --project-dir {index_path} --ncores 1 query \"isa:SH13-007\"',\n",
    "        'query --summary':          f'gdi --project-dir {index_path} --ncores 1 query --summary',\n",
    "        'query --features-summary': f'gdi --project-dir {index_path} --ncores 1 query --features-summary mutations',\n",
    "        'query isin':               f'gdi --project-dir {index_path} --ncores 1 query --reference-name reference \"isin_100_substitutions:SH13-007\"',\n",
    "        'list samples':             f'gdi --project-dir {index_path} --ncores 1 list samples',\n",
    "    }\n",
    "        \n",
    "    number_samples = db.count_samples()\n",
    "    number_features_no_unknown = db.count_mutations(reference_genome='reference', include_unknown=False)\n",
    "    number_features_all = db.count_mutations(reference_genome='reference', include_unknown=True)\n",
    "    iterations = 10\n",
    "    \n",
    "    benchmarker = gdi_benchmark.QueryBenchmarkHandler()\n",
    "    return benchmarker.benchmark_cli(name=name, kind_commands=benchmark_commands,\n",
    "                                     number_samples=number_samples,\n",
    "                                     number_features_no_unknown=number_features_no_unknown,\n",
    "                                     number_features_all=number_features_all,\n",
    "                                     iterations=iterations)"
   ]
  },
  {
   "cell_type": "markdown",
   "id": "b24cc68e-1765-4570-a41b-b89d19a5e596",
   "metadata": {
    "papermill": {
     "duration": 0.009028,
     "end_time": "2021-09-12T04:13:46.348609",
     "exception": false,
     "start_time": "2021-09-12T04:13:46.339581",
     "status": "completed"
    },
    "tags": []
   },
   "source": [
    "## 2.1. Benchmark reads"
   ]
  },
  {
   "cell_type": "code",
   "execution_count": 5,
   "id": "c339bf1b-f934-4e3a-9796-25374627e237",
   "metadata": {
    "execution": {
     "iopub.execute_input": "2021-09-12T04:13:46.373168Z",
     "iopub.status.busy": "2021-09-12T04:13:46.370567Z",
     "iopub.status.idle": "2021-09-12T04:16:36.604021Z",
     "shell.execute_reply": "2021-09-12T04:16:36.604416Z"
    },
    "papermill": {
     "duration": 170.248181,
     "end_time": "2021-09-12T04:16:36.604553",
     "exception": false,
     "start_time": "2021-09-12T04:13:46.356372",
     "status": "completed"
    },
    "tags": []
   },
   "outputs": [
    {
     "name": "stdout",
     "output_type": "stream",
     "text": [
      "top_mutation=chrom0:8122:A:G\n"
     ]
    },
    {
     "data": {
      "text/html": [
       "<div>\n",
       "<style scoped>\n",
       "    .dataframe tbody tr th:only-of-type {\n",
       "        vertical-align: middle;\n",
       "    }\n",
       "\n",
       "    .dataframe tbody tr th {\n",
       "        vertical-align: top;\n",
       "    }\n",
       "\n",
       "    .dataframe thead th {\n",
       "        text-align: right;\n",
       "    }\n",
       "</style>\n",
       "<table border=\"1\" class=\"dataframe\">\n",
       "  <thead>\n",
       "    <tr style=\"text-align: right;\">\n",
       "      <th></th>\n",
       "      <th>Name</th>\n",
       "      <th>Kind</th>\n",
       "      <th>Iteration</th>\n",
       "      <th>Number samples</th>\n",
       "      <th>Number features (no unknown)</th>\n",
       "      <th>Number features (all)</th>\n",
       "      <th>Runtime</th>\n",
       "      <th>Memory (max)</th>\n",
       "      <th>Mmemory (max/process)</th>\n",
       "    </tr>\n",
       "  </thead>\n",
       "  <tbody>\n",
       "    <tr>\n",
       "      <th>0</th>\n",
       "      <td>cov-30 (reads)</td>\n",
       "      <td>query hasa</td>\n",
       "      <td>1</td>\n",
       "      <td>59</td>\n",
       "      <td>1313</td>\n",
       "      <td>3412</td>\n",
       "      <td>2.63</td>\n",
       "      <td>221175808.0</td>\n",
       "      <td>221175808.0</td>\n",
       "    </tr>\n",
       "    <tr>\n",
       "      <th>0</th>\n",
       "      <td>cov-30 (reads)</td>\n",
       "      <td>query hasa</td>\n",
       "      <td>2</td>\n",
       "      <td>59</td>\n",
       "      <td>1313</td>\n",
       "      <td>3412</td>\n",
       "      <td>2.66</td>\n",
       "      <td>220737536.0</td>\n",
       "      <td>220737536.0</td>\n",
       "    </tr>\n",
       "    <tr>\n",
       "      <th>0</th>\n",
       "      <td>cov-30 (reads)</td>\n",
       "      <td>query hasa</td>\n",
       "      <td>3</td>\n",
       "      <td>59</td>\n",
       "      <td>1313</td>\n",
       "      <td>3412</td>\n",
       "      <td>2.68</td>\n",
       "      <td>220749824.0</td>\n",
       "      <td>220749824.0</td>\n",
       "    </tr>\n",
       "  </tbody>\n",
       "</table>\n",
       "</div>"
      ],
      "text/plain": [
       "             Name        Kind  Iteration  Number samples  \\\n",
       "0  cov-30 (reads)  query hasa          1              59   \n",
       "0  cov-30 (reads)  query hasa          2              59   \n",
       "0  cov-30 (reads)  query hasa          3              59   \n",
       "\n",
       "   Number features (no unknown)  Number features (all)  Runtime  Memory (max)  \\\n",
       "0                          1313                   3412     2.63   221175808.0   \n",
       "0                          1313                   3412     2.66   220737536.0   \n",
       "0                          1313                   3412     2.68   220749824.0   \n",
       "\n",
       "   Mmemory (max/process)  \n",
       "0            221175808.0  \n",
       "0            220737536.0  \n",
       "0            220749824.0  "
      ]
     },
     "execution_count": 5,
     "metadata": {},
     "output_type": "execute_result"
    }
   ],
   "source": [
    "reads_cli_df = benchmark_cli_index(name=f'{case_name} (reads)', index_path=index_reads_path)\n",
    "reads_cli_df.head(3)"
   ]
  },
  {
   "cell_type": "code",
   "execution_count": 6,
   "id": "1b71ed98-d69a-4038-b337-3b8bbf421bf3",
   "metadata": {
    "execution": {
     "iopub.execute_input": "2021-09-12T04:16:36.632102Z",
     "iopub.status.busy": "2021-09-12T04:16:36.631667Z",
     "iopub.status.idle": "2021-09-12T04:16:36.641616Z",
     "shell.execute_reply": "2021-09-12T04:16:36.642005Z"
    },
    "papermill": {
     "duration": 0.026798,
     "end_time": "2021-09-12T04:16:36.642140",
     "exception": false,
     "start_time": "2021-09-12T04:16:36.615342",
     "status": "completed"
    },
    "tags": []
   },
   "outputs": [],
   "source": [
    "reads_cli_df.to_csv(output_cli_reads_path, sep='\\t', index=False)"
   ]
  },
  {
   "cell_type": "markdown",
   "id": "682a9c66-63ce-4896-b877-98674d8085fd",
   "metadata": {
    "papermill": {
     "duration": 0.010069,
     "end_time": "2021-09-12T04:16:36.666578",
     "exception": false,
     "start_time": "2021-09-12T04:16:36.656509",
     "status": "completed"
    },
    "tags": []
   },
   "source": [
    "## 2.1. Benchmark assemblies"
   ]
  },
  {
   "cell_type": "code",
   "execution_count": 7,
   "id": "28e1ef52-86da-4d18-82e6-03c166d656fb",
   "metadata": {
    "execution": {
     "iopub.execute_input": "2021-09-12T04:16:36.692833Z",
     "iopub.status.busy": "2021-09-12T04:16:36.690253Z",
     "iopub.status.idle": "2021-09-12T04:19:27.997786Z",
     "shell.execute_reply": "2021-09-12T04:19:27.998222Z"
    },
    "papermill": {
     "duration": 171.32276,
     "end_time": "2021-09-12T04:19:27.998368",
     "exception": false,
     "start_time": "2021-09-12T04:16:36.675608",
     "status": "completed"
    },
    "tags": []
   },
   "outputs": [
    {
     "name": "stderr",
     "output_type": "stream",
     "text": [
      "Attempting to set global database_path_translator=<genomics_data_index.storage.model.db.DatabasePathTranslator.DatabasePathTranslator object at 0x7f37600ddee0> but it is already set\n"
     ]
    },
    {
     "name": "stdout",
     "output_type": "stream",
     "text": [
      "top_mutation=chrom0:738:G:A\n"
     ]
    },
    {
     "data": {
      "text/html": [
       "<div>\n",
       "<style scoped>\n",
       "    .dataframe tbody tr th:only-of-type {\n",
       "        vertical-align: middle;\n",
       "    }\n",
       "\n",
       "    .dataframe tbody tr th {\n",
       "        vertical-align: top;\n",
       "    }\n",
       "\n",
       "    .dataframe thead th {\n",
       "        text-align: right;\n",
       "    }\n",
       "</style>\n",
       "<table border=\"1\" class=\"dataframe\">\n",
       "  <thead>\n",
       "    <tr style=\"text-align: right;\">\n",
       "      <th></th>\n",
       "      <th>Name</th>\n",
       "      <th>Kind</th>\n",
       "      <th>Iteration</th>\n",
       "      <th>Number samples</th>\n",
       "      <th>Number features (no unknown)</th>\n",
       "      <th>Number features (all)</th>\n",
       "      <th>Runtime</th>\n",
       "      <th>Memory (max)</th>\n",
       "      <th>Mmemory (max/process)</th>\n",
       "    </tr>\n",
       "  </thead>\n",
       "  <tbody>\n",
       "    <tr>\n",
       "      <th>0</th>\n",
       "      <td>cov-30 (reads)</td>\n",
       "      <td>query hasa</td>\n",
       "      <td>1</td>\n",
       "      <td>59</td>\n",
       "      <td>1350</td>\n",
       "      <td>1350</td>\n",
       "      <td>2.62</td>\n",
       "      <td>220725248.0</td>\n",
       "      <td>220725248.0</td>\n",
       "    </tr>\n",
       "    <tr>\n",
       "      <th>0</th>\n",
       "      <td>cov-30 (reads)</td>\n",
       "      <td>query hasa</td>\n",
       "      <td>2</td>\n",
       "      <td>59</td>\n",
       "      <td>1350</td>\n",
       "      <td>1350</td>\n",
       "      <td>2.70</td>\n",
       "      <td>220717056.0</td>\n",
       "      <td>220717056.0</td>\n",
       "    </tr>\n",
       "    <tr>\n",
       "      <th>0</th>\n",
       "      <td>cov-30 (reads)</td>\n",
       "      <td>query hasa</td>\n",
       "      <td>3</td>\n",
       "      <td>59</td>\n",
       "      <td>1350</td>\n",
       "      <td>1350</td>\n",
       "      <td>2.74</td>\n",
       "      <td>220745728.0</td>\n",
       "      <td>220745728.0</td>\n",
       "    </tr>\n",
       "  </tbody>\n",
       "</table>\n",
       "</div>"
      ],
      "text/plain": [
       "             Name        Kind  Iteration  Number samples  \\\n",
       "0  cov-30 (reads)  query hasa          1              59   \n",
       "0  cov-30 (reads)  query hasa          2              59   \n",
       "0  cov-30 (reads)  query hasa          3              59   \n",
       "\n",
       "   Number features (no unknown)  Number features (all)  Runtime  Memory (max)  \\\n",
       "0                          1350                   1350     2.62   220725248.0   \n",
       "0                          1350                   1350     2.70   220717056.0   \n",
       "0                          1350                   1350     2.74   220745728.0   \n",
       "\n",
       "   Mmemory (max/process)  \n",
       "0            220725248.0  \n",
       "0            220717056.0  \n",
       "0            220745728.0  "
      ]
     },
     "execution_count": 7,
     "metadata": {},
     "output_type": "execute_result"
    }
   ],
   "source": [
    "assemblies_cli_df = benchmark_cli_index(name=f'{case_name} (reads)', index_path=index_assemblies_path)\n",
    "assemblies_cli_df.head(3)"
   ]
  },
  {
   "cell_type": "code",
   "execution_count": 8,
   "id": "1c52ddf7-5ee2-4e03-a39c-a2be2658823c",
   "metadata": {
    "execution": {
     "iopub.execute_input": "2021-09-12T04:19:28.028407Z",
     "iopub.status.busy": "2021-09-12T04:19:28.027867Z",
     "iopub.status.idle": "2021-09-12T04:19:28.031578Z",
     "shell.execute_reply": "2021-09-12T04:19:28.031075Z"
    },
    "papermill": {
     "duration": 0.021778,
     "end_time": "2021-09-12T04:19:28.031692",
     "exception": false,
     "start_time": "2021-09-12T04:19:28.009914",
     "status": "completed"
    },
    "tags": []
   },
   "outputs": [],
   "source": [
    "assemblies_cli_df.to_csv(output_cli_assemblies_path, sep='\\t', index=False)"
   ]
  },
  {
   "cell_type": "markdown",
   "id": "163cd729-a654-499a-a5b7-dc0bd78d8128",
   "metadata": {
    "papermill": {
     "duration": 0.010098,
     "end_time": "2021-09-12T04:19:28.054372",
     "exception": false,
     "start_time": "2021-09-12T04:19:28.044274",
     "status": "completed"
    },
    "tags": []
   },
   "source": [
    "# 3. Test query API"
   ]
  },
  {
   "cell_type": "markdown",
   "id": "777dbb2e-330f-4de7-b451-1ca902cc3386",
   "metadata": {
    "papermill": {
     "duration": 0.008966,
     "end_time": "2021-09-12T04:19:28.072455",
     "exception": false,
     "start_time": "2021-09-12T04:19:28.063489",
     "status": "completed"
    },
    "tags": []
   },
   "source": [
    "## 3.1. Load (example) metadata\n",
    "\n",
    "The simulated data is based off of real sample names and a real tree. So I can load up real metadata and attach it to a query (though the mutations and reference genome are all simulated)."
   ]
  },
  {
   "cell_type": "code",
   "execution_count": 9,
   "id": "19e1d02c-7bb7-44ef-a1ce-3d20dc420686",
   "metadata": {
    "execution": {
     "iopub.execute_input": "2021-09-12T04:19:28.102045Z",
     "iopub.status.busy": "2021-09-12T04:19:28.101630Z",
     "iopub.status.idle": "2021-09-12T04:19:28.132949Z",
     "shell.execute_reply": "2021-09-12T04:19:28.133780Z"
    },
    "papermill": {
     "duration": 0.050855,
     "end_time": "2021-09-12T04:19:28.134090",
     "exception": false,
     "start_time": "2021-09-12T04:19:28.083235",
     "status": "completed"
    },
    "tags": []
   },
   "outputs": [
    {
     "data": {
      "text/html": [
       "<div>\n",
       "<style scoped>\n",
       "    .dataframe tbody tr th:only-of-type {\n",
       "        vertical-align: middle;\n",
       "    }\n",
       "\n",
       "    .dataframe tbody tr th {\n",
       "        vertical-align: top;\n",
       "    }\n",
       "\n",
       "    .dataframe thead th {\n",
       "        text-align: right;\n",
       "    }\n",
       "</style>\n",
       "<table border=\"1\" class=\"dataframe\">\n",
       "  <thead>\n",
       "    <tr style=\"text-align: right;\">\n",
       "      <th></th>\n",
       "      <th>Sample Name Orig</th>\n",
       "      <th>Run</th>\n",
       "      <th>Assay Type</th>\n",
       "      <th>AvgSpotLen</th>\n",
       "      <th>Bases</th>\n",
       "      <th>BioProject</th>\n",
       "      <th>BioSample</th>\n",
       "      <th>BioSampleModel</th>\n",
       "      <th>Bytes</th>\n",
       "      <th>Center Name</th>\n",
       "      <th>...</th>\n",
       "      <th>PFGE_SecondaryEnzyme_pattern</th>\n",
       "      <th>Phagetype</th>\n",
       "      <th>Platform</th>\n",
       "      <th>ReleaseDate</th>\n",
       "      <th>Serovar</th>\n",
       "      <th>SRA Study</th>\n",
       "      <th>STRAIN</th>\n",
       "      <th>sub_species</th>\n",
       "      <th>Host_disease</th>\n",
       "      <th>Host</th>\n",
       "    </tr>\n",
       "  </thead>\n",
       "  <tbody>\n",
       "    <tr>\n",
       "      <th>0</th>\n",
       "      <td>SH08-001</td>\n",
       "      <td>SRR3028792</td>\n",
       "      <td>WGS</td>\n",
       "      <td>429</td>\n",
       "      <td>354123684</td>\n",
       "      <td>PRJNA305824</td>\n",
       "      <td>SAMN04334683</td>\n",
       "      <td>Pathogen.cl</td>\n",
       "      <td>197484364</td>\n",
       "      <td>MCGILL UNIVERSITY</td>\n",
       "      <td>...</td>\n",
       "      <td>SHBNI.0001</td>\n",
       "      <td>19</td>\n",
       "      <td>ILLUMINA</td>\n",
       "      <td>2015-12-19T00:00:00Z</td>\n",
       "      <td>Heidelberg</td>\n",
       "      <td>SRP067504</td>\n",
       "      <td>SH08-001</td>\n",
       "      <td>enterica</td>\n",
       "      <td>Salmonella gastroenteritis</td>\n",
       "      <td>Homo sapiens</td>\n",
       "    </tr>\n",
       "    <tr>\n",
       "      <th>1</th>\n",
       "      <td>SH09-29</td>\n",
       "      <td>SRR3028793</td>\n",
       "      <td>WGS</td>\n",
       "      <td>422</td>\n",
       "      <td>519366460</td>\n",
       "      <td>PRJNA305824</td>\n",
       "      <td>SAMN04334684</td>\n",
       "      <td>Pathogen.cl</td>\n",
       "      <td>288691068</td>\n",
       "      <td>MCGILL UNIVERSITY</td>\n",
       "      <td>...</td>\n",
       "      <td>SHBNI.0001</td>\n",
       "      <td>26</td>\n",
       "      <td>ILLUMINA</td>\n",
       "      <td>2015-12-19T00:00:00Z</td>\n",
       "      <td>Heidelberg</td>\n",
       "      <td>SRP067504</td>\n",
       "      <td>SH09-29</td>\n",
       "      <td>enterica</td>\n",
       "      <td>Salmonella gastroenteritis</td>\n",
       "      <td>Homo sapiens</td>\n",
       "    </tr>\n",
       "  </tbody>\n",
       "</table>\n",
       "<p>2 rows × 40 columns</p>\n",
       "</div>"
      ],
      "text/plain": [
       "  Sample Name Orig         Run Assay Type  AvgSpotLen      Bases   BioProject  \\\n",
       "0         SH08-001  SRR3028792        WGS         429  354123684  PRJNA305824   \n",
       "1          SH09-29  SRR3028793        WGS         422  519366460  PRJNA305824   \n",
       "\n",
       "      BioSample BioSampleModel      Bytes        Center Name  ...  \\\n",
       "0  SAMN04334683    Pathogen.cl  197484364  MCGILL UNIVERSITY  ...   \n",
       "1  SAMN04334684    Pathogen.cl  288691068  MCGILL UNIVERSITY  ...   \n",
       "\n",
       "  PFGE_SecondaryEnzyme_pattern Phagetype  Platform           ReleaseDate  \\\n",
       "0                   SHBNI.0001        19  ILLUMINA  2015-12-19T00:00:00Z   \n",
       "1                   SHBNI.0001        26  ILLUMINA  2015-12-19T00:00:00Z   \n",
       "\n",
       "      Serovar  SRA Study    STRAIN sub_species                Host_disease  \\\n",
       "0  Heidelberg  SRP067504  SH08-001    enterica  Salmonella gastroenteritis   \n",
       "1  Heidelberg  SRP067504   SH09-29    enterica  Salmonella gastroenteritis   \n",
       "\n",
       "           Host  \n",
       "0  Homo sapiens  \n",
       "1  Homo sapiens  \n",
       "\n",
       "[2 rows x 40 columns]"
      ]
     },
     "execution_count": 9,
     "metadata": {},
     "output_type": "execute_result"
    }
   ],
   "source": [
    "import pandas as pd\n",
    "\n",
    "metadata_df = pd.read_csv(metadata_file, sep='\\t').rename({'Sample Name': 'Sample Name Orig'}, axis='columns')\n",
    "metadata_df.head(2)"
   ]
  },
  {
   "cell_type": "markdown",
   "id": "6471c107-835d-4dac-812c-951d0527982e",
   "metadata": {
    "papermill": {
     "duration": 0.011287,
     "end_time": "2021-09-12T04:19:28.166236",
     "exception": false,
     "start_time": "2021-09-12T04:19:28.154949",
     "status": "completed"
    },
    "tags": []
   },
   "source": [
    "## 3.2. Define benchmark cases"
   ]
  },
  {
   "cell_type": "code",
   "execution_count": 10,
   "id": "e347bcfb-4d0c-4fe8-b68c-00de30d924d9",
   "metadata": {
    "execution": {
     "iopub.execute_input": "2021-09-12T04:19:28.205843Z",
     "iopub.status.busy": "2021-09-12T04:19:28.194581Z",
     "iopub.status.idle": "2021-09-12T04:19:28.208119Z",
     "shell.execute_reply": "2021-09-12T04:19:28.208503Z"
    },
    "papermill": {
     "duration": 0.032473,
     "end_time": "2021-09-12T04:19:28.208618",
     "exception": false,
     "start_time": "2021-09-12T04:19:28.176145",
     "status": "completed"
    },
    "tags": []
   },
   "outputs": [],
   "source": [
    "from typing import List\n",
    "import genomics_data_index.api as gdi\n",
    "\n",
    "def benchmark_api_index(name: str, index_path: Path) -> pd.DataFrame:\n",
    "    db = gdi.GenomicsDataIndex.connect(index_path)\n",
    "    q_no_join = db.samples_query(reference_name='reference', universe='mutations')\n",
    "    q_join = db.samples_query(reference_name='reference', universe='mutations').join(metadata_df, sample_names_column='Sample Name Orig')\n",
    "    \n",
    "    mutations_df = db.mutations_summary(reference_name='reference').sort_values('Count', ascending=False)\n",
    "    top_mutations = mutations_df.iloc[[0,1]].index.tolist()\n",
    "    \n",
    "    if len(top_mutations) != 2:\n",
    "        raise Exception(f'Does not exist two mutations for index {index_path}')\n",
    "    else:\n",
    "        mutation1 = top_mutations[0]\n",
    "        mutation2 = top_mutations[1]\n",
    "        print(f'mutation1={mutation1}, mutation2={mutation2}')\n",
    "\n",
    "    q = q_join.hasa(mutation1)\n",
    "    r = q_join.hasa(mutation2)\n",
    "    \n",
    "    number_samples = db.count_samples()\n",
    "    number_features_no_unknown = db.count_mutations(reference_genome='reference', include_unknown=False)\n",
    "    number_features_all = db.count_mutations(reference_genome='reference', include_unknown=True)\n",
    "    repeat = 10\n",
    "    \n",
    "    benchmark_cases = {\n",
    "        'db.samples_query':      lambda: db.samples_query(reference_name='reference', universe='mutations'),\n",
    "        'q.join':                lambda: q_no_join.join(metadata_df, sample_names_column='Sample Name Orig'),\n",
    "        'q.features_summary':    lambda: q_join.features_summary(),\n",
    "        'q.features_comparison': lambda: q_join.features_comparison(sample_categories='outbreak_number', categories_kind='dataframe', kind='mutations', unit='proportion'),\n",
    "        'q.hasa':                lambda: q_join.hasa(mutation1),\n",
    "        'q.isa':                 lambda: q_join.isa(\"SH13-007\"),\n",
    "        'q AND r':               lambda: q & r,\n",
    "        'q.toframe':             lambda: q_join.toframe(),\n",
    "        'q.summary':             lambda: q_join.summary(),\n",
    "        'q.isin (distance)':     lambda: q_join.isin(\"SH13-007\", kind='distance', distance=100, units='substitutions'),\n",
    "        'q.isin (mrca)':         lambda: q_join.isin([\"SH13-007\", \"SH12-001\"], kind='mrca'),\n",
    "    }\n",
    "\n",
    "    benchmarker = gdi_benchmark.QueryBenchmarkHandler()\n",
    "    return benchmarker.benchmark_api(name=name, kind_functions=benchmark_cases,\n",
    "                                     number_samples=number_samples,\n",
    "                                     number_features_no_unknown=number_features_no_unknown,\n",
    "                                     number_features_all=number_features_all,\n",
    "                                     repeat=repeat)"
   ]
  },
  {
   "cell_type": "markdown",
   "id": "f2180ae5-7850-4680-8e9e-45872d56accb",
   "metadata": {
    "papermill": {
     "duration": 0.010466,
     "end_time": "2021-09-12T04:19:28.233384",
     "exception": false,
     "start_time": "2021-09-12T04:19:28.222918",
     "status": "completed"
    },
    "tags": []
   },
   "source": [
    "## 3.3. Benchmark reads index"
   ]
  },
  {
   "cell_type": "code",
   "execution_count": 11,
   "id": "04d3a9c7-23a6-4a04-8735-a637c5534ba8",
   "metadata": {
    "execution": {
     "iopub.execute_input": "2021-09-12T04:19:28.258830Z",
     "iopub.status.busy": "2021-09-12T04:19:28.258426Z",
     "iopub.status.idle": "2021-09-12T04:20:11.063523Z",
     "shell.execute_reply": "2021-09-12T04:20:11.063921Z"
    },
    "papermill": {
     "duration": 42.820681,
     "end_time": "2021-09-12T04:20:11.064058",
     "exception": false,
     "start_time": "2021-09-12T04:19:28.243377",
     "status": "completed"
    },
    "tags": []
   },
   "outputs": [
    {
     "name": "stderr",
     "output_type": "stream",
     "text": [
      "Attempting to set global database_path_translator=<genomics_data_index.storage.model.db.DatabasePathTranslator.DatabasePathTranslator object at 0x7f3761154370> but it is already set\n"
     ]
    },
    {
     "name": "stdout",
     "output_type": "stream",
     "text": [
      "mutation1=chrom0:8122:A:G, mutation2=chrom1:8158:G:A\n"
     ]
    },
    {
     "data": {
      "text/html": [
       "<div>\n",
       "<style scoped>\n",
       "    .dataframe tbody tr th:only-of-type {\n",
       "        vertical-align: middle;\n",
       "    }\n",
       "\n",
       "    .dataframe tbody tr th {\n",
       "        vertical-align: top;\n",
       "    }\n",
       "\n",
       "    .dataframe thead th {\n",
       "        text-align: right;\n",
       "    }\n",
       "</style>\n",
       "<table border=\"1\" class=\"dataframe\">\n",
       "  <thead>\n",
       "    <tr style=\"text-align: right;\">\n",
       "      <th></th>\n",
       "      <th>Name</th>\n",
       "      <th>Kind</th>\n",
       "      <th>Number samples</th>\n",
       "      <th>Number features (no unknown)</th>\n",
       "      <th>Number features (all)</th>\n",
       "      <th>Number executions</th>\n",
       "      <th>Iteration</th>\n",
       "      <th>Time</th>\n",
       "    </tr>\n",
       "  </thead>\n",
       "  <tbody>\n",
       "    <tr>\n",
       "      <th>0</th>\n",
       "      <td>cov-30 (reads)</td>\n",
       "      <td>db.samples_query</td>\n",
       "      <td>59</td>\n",
       "      <td>1313</td>\n",
       "      <td>3412</td>\n",
       "      <td>200</td>\n",
       "      <td>1</td>\n",
       "      <td>0.001670</td>\n",
       "    </tr>\n",
       "    <tr>\n",
       "      <th>1</th>\n",
       "      <td>cov-30 (reads)</td>\n",
       "      <td>db.samples_query</td>\n",
       "      <td>59</td>\n",
       "      <td>1313</td>\n",
       "      <td>3412</td>\n",
       "      <td>200</td>\n",
       "      <td>2</td>\n",
       "      <td>0.001674</td>\n",
       "    </tr>\n",
       "    <tr>\n",
       "      <th>2</th>\n",
       "      <td>cov-30 (reads)</td>\n",
       "      <td>db.samples_query</td>\n",
       "      <td>59</td>\n",
       "      <td>1313</td>\n",
       "      <td>3412</td>\n",
       "      <td>200</td>\n",
       "      <td>3</td>\n",
       "      <td>0.001739</td>\n",
       "    </tr>\n",
       "    <tr>\n",
       "      <th>3</th>\n",
       "      <td>cov-30 (reads)</td>\n",
       "      <td>db.samples_query</td>\n",
       "      <td>59</td>\n",
       "      <td>1313</td>\n",
       "      <td>3412</td>\n",
       "      <td>200</td>\n",
       "      <td>4</td>\n",
       "      <td>0.001678</td>\n",
       "    </tr>\n",
       "    <tr>\n",
       "      <th>4</th>\n",
       "      <td>cov-30 (reads)</td>\n",
       "      <td>db.samples_query</td>\n",
       "      <td>59</td>\n",
       "      <td>1313</td>\n",
       "      <td>3412</td>\n",
       "      <td>200</td>\n",
       "      <td>5</td>\n",
       "      <td>0.001681</td>\n",
       "    </tr>\n",
       "  </tbody>\n",
       "</table>\n",
       "</div>"
      ],
      "text/plain": [
       "             Name              Kind  Number samples  \\\n",
       "0  cov-30 (reads)  db.samples_query              59   \n",
       "1  cov-30 (reads)  db.samples_query              59   \n",
       "2  cov-30 (reads)  db.samples_query              59   \n",
       "3  cov-30 (reads)  db.samples_query              59   \n",
       "4  cov-30 (reads)  db.samples_query              59   \n",
       "\n",
       "   Number features (no unknown)  Number features (all)  Number executions  \\\n",
       "0                          1313                   3412                200   \n",
       "1                          1313                   3412                200   \n",
       "2                          1313                   3412                200   \n",
       "3                          1313                   3412                200   \n",
       "4                          1313                   3412                200   \n",
       "\n",
       "   Iteration      Time  \n",
       "0          1  0.001670  \n",
       "1          2  0.001674  \n",
       "2          3  0.001739  \n",
       "3          4  0.001678  \n",
       "4          5  0.001681  "
      ]
     },
     "execution_count": 11,
     "metadata": {},
     "output_type": "execute_result"
    }
   ],
   "source": [
    "reads_df = benchmark_api_index(name=f'{case_name} (reads)', index_path=index_reads_path)\n",
    "reads_df.head(5)"
   ]
  },
  {
   "cell_type": "code",
   "execution_count": 12,
   "id": "09e7fb11-5c83-4983-82b9-4a54fca23b52",
   "metadata": {
    "execution": {
     "iopub.execute_input": "2021-09-12T04:20:11.093536Z",
     "iopub.status.busy": "2021-09-12T04:20:11.093119Z",
     "iopub.status.idle": "2021-09-12T04:20:11.096392Z",
     "shell.execute_reply": "2021-09-12T04:20:11.096046Z"
    },
    "papermill": {
     "duration": 0.020376,
     "end_time": "2021-09-12T04:20:11.096479",
     "exception": false,
     "start_time": "2021-09-12T04:20:11.076103",
     "status": "completed"
    },
    "tags": []
   },
   "outputs": [],
   "source": [
    "reads_df.to_csv(output_api_reads_path, sep='\\t', index=False)"
   ]
  },
  {
   "cell_type": "markdown",
   "id": "2a7874a5-3ecd-4e59-a834-3c27943e4bf0",
   "metadata": {
    "papermill": {
     "duration": 0.010693,
     "end_time": "2021-09-12T04:20:11.118764",
     "exception": false,
     "start_time": "2021-09-12T04:20:11.108071",
     "status": "completed"
    },
    "tags": []
   },
   "source": [
    "## 3.4. Benchmark assemblies index"
   ]
  },
  {
   "cell_type": "code",
   "execution_count": 13,
   "id": "76a8327f-fcc7-4ec3-a140-877ed417a510",
   "metadata": {
    "execution": {
     "iopub.execute_input": "2021-09-12T04:20:11.144333Z",
     "iopub.status.busy": "2021-09-12T04:20:11.143932Z",
     "iopub.status.idle": "2021-09-12T04:20:56.813355Z",
     "shell.execute_reply": "2021-09-12T04:20:56.813754Z"
    },
    "papermill": {
     "duration": 45.68514,
     "end_time": "2021-09-12T04:20:56.813896",
     "exception": false,
     "start_time": "2021-09-12T04:20:11.128756",
     "status": "completed"
    },
    "tags": []
   },
   "outputs": [
    {
     "name": "stderr",
     "output_type": "stream",
     "text": [
      "Attempting to set global database_path_translator=<genomics_data_index.storage.model.db.DatabasePathTranslator.DatabasePathTranslator object at 0x7f37171e5d60> but it is already set\n"
     ]
    },
    {
     "name": "stdout",
     "output_type": "stream",
     "text": [
      "mutation1=chrom0:738:G:A, mutation2=chrom1:6298:T:G\n"
     ]
    },
    {
     "data": {
      "text/html": [
       "<div>\n",
       "<style scoped>\n",
       "    .dataframe tbody tr th:only-of-type {\n",
       "        vertical-align: middle;\n",
       "    }\n",
       "\n",
       "    .dataframe tbody tr th {\n",
       "        vertical-align: top;\n",
       "    }\n",
       "\n",
       "    .dataframe thead th {\n",
       "        text-align: right;\n",
       "    }\n",
       "</style>\n",
       "<table border=\"1\" class=\"dataframe\">\n",
       "  <thead>\n",
       "    <tr style=\"text-align: right;\">\n",
       "      <th></th>\n",
       "      <th>Name</th>\n",
       "      <th>Kind</th>\n",
       "      <th>Number samples</th>\n",
       "      <th>Number features (no unknown)</th>\n",
       "      <th>Number features (all)</th>\n",
       "      <th>Number executions</th>\n",
       "      <th>Iteration</th>\n",
       "      <th>Time</th>\n",
       "    </tr>\n",
       "  </thead>\n",
       "  <tbody>\n",
       "    <tr>\n",
       "      <th>0</th>\n",
       "      <td>cov-30 (assemblies)</td>\n",
       "      <td>db.samples_query</td>\n",
       "      <td>59</td>\n",
       "      <td>1350</td>\n",
       "      <td>1350</td>\n",
       "      <td>200</td>\n",
       "      <td>1</td>\n",
       "      <td>0.001634</td>\n",
       "    </tr>\n",
       "    <tr>\n",
       "      <th>1</th>\n",
       "      <td>cov-30 (assemblies)</td>\n",
       "      <td>db.samples_query</td>\n",
       "      <td>59</td>\n",
       "      <td>1350</td>\n",
       "      <td>1350</td>\n",
       "      <td>200</td>\n",
       "      <td>2</td>\n",
       "      <td>0.001632</td>\n",
       "    </tr>\n",
       "    <tr>\n",
       "      <th>2</th>\n",
       "      <td>cov-30 (assemblies)</td>\n",
       "      <td>db.samples_query</td>\n",
       "      <td>59</td>\n",
       "      <td>1350</td>\n",
       "      <td>1350</td>\n",
       "      <td>200</td>\n",
       "      <td>3</td>\n",
       "      <td>0.001643</td>\n",
       "    </tr>\n",
       "    <tr>\n",
       "      <th>3</th>\n",
       "      <td>cov-30 (assemblies)</td>\n",
       "      <td>db.samples_query</td>\n",
       "      <td>59</td>\n",
       "      <td>1350</td>\n",
       "      <td>1350</td>\n",
       "      <td>200</td>\n",
       "      <td>4</td>\n",
       "      <td>0.001633</td>\n",
       "    </tr>\n",
       "    <tr>\n",
       "      <th>4</th>\n",
       "      <td>cov-30 (assemblies)</td>\n",
       "      <td>db.samples_query</td>\n",
       "      <td>59</td>\n",
       "      <td>1350</td>\n",
       "      <td>1350</td>\n",
       "      <td>200</td>\n",
       "      <td>5</td>\n",
       "      <td>0.001634</td>\n",
       "    </tr>\n",
       "  </tbody>\n",
       "</table>\n",
       "</div>"
      ],
      "text/plain": [
       "                  Name              Kind  Number samples  \\\n",
       "0  cov-30 (assemblies)  db.samples_query              59   \n",
       "1  cov-30 (assemblies)  db.samples_query              59   \n",
       "2  cov-30 (assemblies)  db.samples_query              59   \n",
       "3  cov-30 (assemblies)  db.samples_query              59   \n",
       "4  cov-30 (assemblies)  db.samples_query              59   \n",
       "\n",
       "   Number features (no unknown)  Number features (all)  Number executions  \\\n",
       "0                          1350                   1350                200   \n",
       "1                          1350                   1350                200   \n",
       "2                          1350                   1350                200   \n",
       "3                          1350                   1350                200   \n",
       "4                          1350                   1350                200   \n",
       "\n",
       "   Iteration      Time  \n",
       "0          1  0.001634  \n",
       "1          2  0.001632  \n",
       "2          3  0.001643  \n",
       "3          4  0.001633  \n",
       "4          5  0.001634  "
      ]
     },
     "execution_count": 13,
     "metadata": {},
     "output_type": "execute_result"
    }
   ],
   "source": [
    "assemblies_df = benchmark_api_index(name=f'{case_name} (assemblies)', index_path=index_assemblies_path)\n",
    "assemblies_df.head(5)"
   ]
  },
  {
   "cell_type": "code",
   "execution_count": 14,
   "id": "aa0b72cc-c7d5-4bac-885b-2f3309739dc9",
   "metadata": {
    "execution": {
     "iopub.execute_input": "2021-09-12T04:20:56.848588Z",
     "iopub.status.busy": "2021-09-12T04:20:56.848078Z",
     "iopub.status.idle": "2021-09-12T04:20:56.852307Z",
     "shell.execute_reply": "2021-09-12T04:20:56.851893Z"
    },
    "papermill": {
     "duration": 0.026116,
     "end_time": "2021-09-12T04:20:56.852421",
     "exception": false,
     "start_time": "2021-09-12T04:20:56.826305",
     "status": "completed"
    },
    "tags": []
   },
   "outputs": [],
   "source": [
    "assemblies_df.to_csv(output_api_assemblies_path, sep='\\t', index=False)"
   ]
  }
 ],
 "metadata": {
  "kernelspec": {
   "display_name": "Python 3 (ipykernel)",
   "language": "python",
   "name": "python3"
  },
  "language_info": {
   "codemirror_mode": {
    "name": "ipython",
    "version": 3
   },
   "file_extension": ".py",
   "mimetype": "text/x-python",
   "name": "python",
   "nbconvert_exporter": "python",
   "pygments_lexer": "ipython3",
   "version": "3.8.10"
  },
  "papermill": {
   "default_parameters": {},
   "duration": 435.300671,
   "end_time": "2021-09-12T04:20:58.277304",
   "environment_variables": {},
   "exception": null,
   "input_path": "template-5-query.ipynb",
   "output_path": "5-query.simulation-cov-30.ipynb",
   "parameters": {
    "iterations": 3,
    "mincov": 10,
    "read_coverage": 30,
    "simulation_dir": "simulations/cov-30",
    "sub_alpha": 0.2
   },
   "start_time": "2021-09-12T04:13:42.976633",
   "version": "2.3.3"
  }
 },
 "nbformat": 4,
 "nbformat_minor": 5
}