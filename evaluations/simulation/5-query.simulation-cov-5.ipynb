{
 "cells": [
  {
   "cell_type": "markdown",
   "id": "f1bc3e40-3158-4009-8a9b-371a7d2d2efe",
   "metadata": {
    "papermill": {
     "duration": 0.015838,
     "end_time": "2021-09-02T06:44:30.736553",
     "exception": false,
     "start_time": "2021-09-02T06:44:30.720715",
     "status": "completed"
    },
    "tags": []
   },
   "source": [
    "# 1. Parameters"
   ]
  },
  {
   "cell_type": "code",
   "execution_count": 1,
   "id": "cf8880a6-5194-4ced-be67-c0610a332a31",
   "metadata": {
    "execution": {
     "iopub.execute_input": "2021-09-02T06:44:30.766838Z",
     "iopub.status.busy": "2021-09-02T06:44:30.766323Z",
     "iopub.status.idle": "2021-09-02T06:44:30.772580Z",
     "shell.execute_reply": "2021-09-02T06:44:30.771452Z"
    },
    "papermill": {
     "duration": 0.026558,
     "end_time": "2021-09-02T06:44:30.772849",
     "exception": false,
     "start_time": "2021-09-02T06:44:30.746291",
     "status": "completed"
    },
    "tags": [
     "parameters"
    ]
   },
   "outputs": [],
   "source": [
    "simulation_dir = 'simulations/unset'"
   ]
  },
  {
   "cell_type": "code",
   "execution_count": 2,
   "id": "b2067d4b",
   "metadata": {
    "execution": {
     "iopub.execute_input": "2021-09-02T06:44:30.801028Z",
     "iopub.status.busy": "2021-09-02T06:44:30.800470Z",
     "iopub.status.idle": "2021-09-02T06:44:30.803853Z",
     "shell.execute_reply": "2021-09-02T06:44:30.803385Z"
    },
    "papermill": {
     "duration": 0.017576,
     "end_time": "2021-09-02T06:44:30.803978",
     "exception": false,
     "start_time": "2021-09-02T06:44:30.786402",
     "status": "completed"
    },
    "tags": [
     "injected-parameters"
    ]
   },
   "outputs": [],
   "source": [
    "# Parameters\n",
    "read_coverage = 5\n",
    "mincov = 10\n",
    "simulation_dir = \"simulations/cov-5\"\n",
    "iterations = 3\n"
   ]
  },
  {
   "cell_type": "code",
   "execution_count": 3,
   "id": "7e54ac3f-8dff-492e-8096-65a2ed9f5c90",
   "metadata": {
    "execution": {
     "iopub.execute_input": "2021-09-02T06:44:30.825163Z",
     "iopub.status.busy": "2021-09-02T06:44:30.824749Z",
     "iopub.status.idle": "2021-09-02T06:44:30.827740Z",
     "shell.execute_reply": "2021-09-02T06:44:30.828039Z"
    },
    "papermill": {
     "duration": 0.01728,
     "end_time": "2021-09-02T06:44:30.828146",
     "exception": false,
     "start_time": "2021-09-02T06:44:30.810866",
     "status": "completed"
    },
    "tags": []
   },
   "outputs": [],
   "source": [
    "from pathlib import Path\n",
    "\n",
    "simulation_dir_path = Path(simulation_dir)\n",
    "\n",
    "case_name = str(simulation_dir_path.name)\n",
    "index_reads_path = simulation_dir_path / 'index-reads'\n",
    "index_assemblies_path = simulation_dir_path / 'index-assemblies'\n",
    "\n",
    "output_api_reads_path = simulation_dir_path / 'query-reads-api.tsv'\n",
    "output_api_assemblies_path = simulation_dir_path / 'query-assemblies-api.tsv'"
   ]
  },
  {
   "cell_type": "markdown",
   "id": "54537d03-809a-487c-8686-5e1791dc11de",
   "metadata": {
    "papermill": {
     "duration": 0.006121,
     "end_time": "2021-09-02T06:44:30.840889",
     "exception": false,
     "start_time": "2021-09-02T06:44:30.834768",
     "status": "completed"
    },
    "tags": []
   },
   "source": [
    "# 2. Test query command-line"
   ]
  },
  {
   "cell_type": "markdown",
   "id": "163cd729-a654-499a-a5b7-dc0bd78d8128",
   "metadata": {
    "papermill": {
     "duration": 0.005106,
     "end_time": "2021-09-02T06:44:30.851247",
     "exception": false,
     "start_time": "2021-09-02T06:44:30.846141",
     "status": "completed"
    },
    "tags": []
   },
   "source": [
    "# 3. Test query API"
   ]
  },
  {
   "cell_type": "code",
   "execution_count": 4,
   "id": "e347bcfb-4d0c-4fe8-b68c-00de30d924d9",
   "metadata": {
    "execution": {
     "iopub.execute_input": "2021-09-02T06:44:30.902997Z",
     "iopub.status.busy": "2021-09-02T06:44:30.901045Z",
     "iopub.status.idle": "2021-09-02T06:44:33.303189Z",
     "shell.execute_reply": "2021-09-02T06:44:33.302759Z"
    },
    "papermill": {
     "duration": 2.446986,
     "end_time": "2021-09-02T06:44:33.303305",
     "exception": false,
     "start_time": "2021-09-02T06:44:30.856319",
     "status": "completed"
    },
    "tags": []
   },
   "outputs": [],
   "source": [
    "from typing import List\n",
    "import pandas as pd\n",
    "import genomics_data_index.api as gdi\n",
    "\n",
    "def create_timing_df_single_case(timings: List[float], name: str, kind: str,\n",
    "                                number_features: int) -> pd.DataFrame:\n",
    "    iterations = len(timings)\n",
    "    return pd.DataFrame({\n",
    "        'Name': [name]*iterations,\n",
    "        'Kind': [kind]*iterations,\n",
    "        'Number features': [number_features]*iterations,\n",
    "        'Iteration': range(1, iterations + 1),\n",
    "        'Time': timings,\n",
    "    })\n",
    "\n",
    "def create_timing_df(name: str, index_path: Path) -> pd.DataFrame:\n",
    "    db = gdi.GenomicsDataIndex.connect(index_path)\n",
    "    q = db.samples_query(reference_name='reference', universe='mutations')\n",
    "    number_features = len(q.features_summary())\n",
    "    \n",
    "    # features_summary\n",
    "    result = %timeit -r 10 -o q.features_summary()\n",
    "    fs_df = create_timing_df_single_case(result.timings, name=name, kind='features_summary', number_features=number_features)\n",
    "    \n",
    "    # hasa\n",
    "    result = %timeit -r 10 -o q.hasa(\"chrom0:8983:A:C\")\n",
    "    hasa_df = create_timing_df_single_case(result.timings, name=name, kind='hasa', number_features=number_features)\n",
    "    \n",
    "    # isa\n",
    "    result = %timeit -r 10 -o q.isa(\"SH11-001\")\n",
    "    isa_df = create_timing_df_single_case(result.timings, name=name, kind='isa', number_features=number_features)\n",
    "    \n",
    "    # isin distance\n",
    "    result = %timeit -r 10 -o q.isin(\"SH11-001\", kind='distance', distance=20, units='substitutions')\n",
    "    isin_distance_df = create_timing_df_single_case(result.timings, name=name, kind='isin distance', number_features=number_features)\n",
    "    \n",
    "    # isin mrca\n",
    "    result = %timeit -r 10 -o q.isin([\"SH11-001\", \"SH10-001\"], kind='mrca')\n",
    "    isin_mrca_df = create_timing_df_single_case(result.timings, name=name, kind='isin mrca', number_features=number_features)\n",
    "\n",
    "    return pd.concat([fs_df, hasa_df, isa_df, isin_distance_df, isin_mrca_df])"
   ]
  },
  {
   "cell_type": "markdown",
   "id": "f2180ae5-7850-4680-8e9e-45872d56accb",
   "metadata": {
    "papermill": {
     "duration": 0.005048,
     "end_time": "2021-09-02T06:44:33.313453",
     "exception": false,
     "start_time": "2021-09-02T06:44:33.308405",
     "status": "completed"
    },
    "tags": []
   },
   "source": [
    "## 3.1. Test reads"
   ]
  },
  {
   "cell_type": "code",
   "execution_count": 5,
   "id": "04d3a9c7-23a6-4a04-8735-a637c5534ba8",
   "metadata": {
    "execution": {
     "iopub.execute_input": "2021-09-02T06:44:33.329609Z",
     "iopub.status.busy": "2021-09-02T06:44:33.329215Z",
     "iopub.status.idle": "2021-09-02T06:45:10.938710Z",
     "shell.execute_reply": "2021-09-02T06:45:10.937539Z"
    },
    "papermill": {
     "duration": 37.620552,
     "end_time": "2021-09-02T06:45:10.938988",
     "exception": false,
     "start_time": "2021-09-02T06:44:33.318436",
     "status": "completed"
    },
    "tags": []
   },
   "outputs": [
    {
     "name": "stdout",
     "output_type": "stream",
     "text": [
      "17.2 ms ± 66.7 µs per loop (mean ± std. dev. of 10 runs, 100 loops each)\n"
     ]
    },
    {
     "name": "stdout",
     "output_type": "stream",
     "text": [
      "2.13 ms ± 3.22 µs per loop (mean ± std. dev. of 10 runs, 100 loops each)\n"
     ]
    },
    {
     "name": "stdout",
     "output_type": "stream",
     "text": [
      "384 µs ± 326 ns per loop (mean ± std. dev. of 10 runs, 1000 loops each)\n"
     ]
    },
    {
     "name": "stdout",
     "output_type": "stream",
     "text": [
      "2.49 ms ± 29.7 µs per loop (mean ± std. dev. of 10 runs, 100 loops each)\n"
     ]
    },
    {
     "name": "stdout",
     "output_type": "stream",
     "text": [
      "800 µs ± 283 ns per loop (mean ± std. dev. of 10 runs, 1000 loops each)\n"
     ]
    },
    {
     "data": {
      "text/html": [
       "<div>\n",
       "<style scoped>\n",
       "    .dataframe tbody tr th:only-of-type {\n",
       "        vertical-align: middle;\n",
       "    }\n",
       "\n",
       "    .dataframe tbody tr th {\n",
       "        vertical-align: top;\n",
       "    }\n",
       "\n",
       "    .dataframe thead th {\n",
       "        text-align: right;\n",
       "    }\n",
       "</style>\n",
       "<table border=\"1\" class=\"dataframe\">\n",
       "  <thead>\n",
       "    <tr style=\"text-align: right;\">\n",
       "      <th></th>\n",
       "      <th>Name</th>\n",
       "      <th>Kind</th>\n",
       "      <th>Number features</th>\n",
       "      <th>Iteration</th>\n",
       "      <th>Time</th>\n",
       "    </tr>\n",
       "  </thead>\n",
       "  <tbody>\n",
       "    <tr>\n",
       "      <th>0</th>\n",
       "      <td>cov-5 (reads)</td>\n",
       "      <td>features_summary</td>\n",
       "      <td>159</td>\n",
       "      <td>1</td>\n",
       "      <td>0.017304</td>\n",
       "    </tr>\n",
       "    <tr>\n",
       "      <th>1</th>\n",
       "      <td>cov-5 (reads)</td>\n",
       "      <td>features_summary</td>\n",
       "      <td>159</td>\n",
       "      <td>2</td>\n",
       "      <td>0.017266</td>\n",
       "    </tr>\n",
       "    <tr>\n",
       "      <th>2</th>\n",
       "      <td>cov-5 (reads)</td>\n",
       "      <td>features_summary</td>\n",
       "      <td>159</td>\n",
       "      <td>3</td>\n",
       "      <td>0.017227</td>\n",
       "    </tr>\n",
       "    <tr>\n",
       "      <th>3</th>\n",
       "      <td>cov-5 (reads)</td>\n",
       "      <td>features_summary</td>\n",
       "      <td>159</td>\n",
       "      <td>4</td>\n",
       "      <td>0.017219</td>\n",
       "    </tr>\n",
       "    <tr>\n",
       "      <th>4</th>\n",
       "      <td>cov-5 (reads)</td>\n",
       "      <td>features_summary</td>\n",
       "      <td>159</td>\n",
       "      <td>5</td>\n",
       "      <td>0.017124</td>\n",
       "    </tr>\n",
       "  </tbody>\n",
       "</table>\n",
       "</div>"
      ],
      "text/plain": [
       "            Name              Kind  Number features  Iteration      Time\n",
       "0  cov-5 (reads)  features_summary              159          1  0.017304\n",
       "1  cov-5 (reads)  features_summary              159          2  0.017266\n",
       "2  cov-5 (reads)  features_summary              159          3  0.017227\n",
       "3  cov-5 (reads)  features_summary              159          4  0.017219\n",
       "4  cov-5 (reads)  features_summary              159          5  0.017124"
      ]
     },
     "execution_count": 5,
     "metadata": {},
     "output_type": "execute_result"
    }
   ],
   "source": [
    "reads_df = create_timing_df(name=f'{case_name} (reads)', index_path=index_reads_path)\n",
    "reads_df.head(5)"
   ]
  },
  {
   "cell_type": "code",
   "execution_count": 6,
   "id": "09e7fb11-5c83-4983-82b9-4a54fca23b52",
   "metadata": {
    "execution": {
     "iopub.execute_input": "2021-09-02T06:45:10.972202Z",
     "iopub.status.busy": "2021-09-02T06:45:10.971241Z",
     "iopub.status.idle": "2021-09-02T06:45:10.979856Z",
     "shell.execute_reply": "2021-09-02T06:45:10.980714Z"
    },
    "papermill": {
     "duration": 0.025795,
     "end_time": "2021-09-02T06:45:10.980984",
     "exception": false,
     "start_time": "2021-09-02T06:45:10.955189",
     "status": "completed"
    },
    "tags": []
   },
   "outputs": [],
   "source": [
    "reads_df.to_csv(output_api_reads_path, sep='\\t', index=False)"
   ]
  },
  {
   "cell_type": "markdown",
   "id": "2a7874a5-3ecd-4e59-a834-3c27943e4bf0",
   "metadata": {
    "papermill": {
     "duration": 0.009765,
     "end_time": "2021-09-02T06:45:11.007022",
     "exception": false,
     "start_time": "2021-09-02T06:45:10.997257",
     "status": "completed"
    },
    "tags": []
   },
   "source": [
    "## 3.2. Test assemblies"
   ]
  },
  {
   "cell_type": "code",
   "execution_count": 7,
   "id": "76a8327f-fcc7-4ec3-a140-877ed417a510",
   "metadata": {
    "execution": {
     "iopub.execute_input": "2021-09-02T06:45:11.026028Z",
     "iopub.status.busy": "2021-09-02T06:45:11.025666Z",
     "iopub.status.idle": "2021-09-02T06:45:41.085751Z",
     "shell.execute_reply": "2021-09-02T06:45:41.085137Z"
    },
    "papermill": {
     "duration": 30.072192,
     "end_time": "2021-09-02T06:45:41.085912",
     "exception": false,
     "start_time": "2021-09-02T06:45:11.013720",
     "status": "completed"
    },
    "tags": []
   },
   "outputs": [
    {
     "name": "stderr",
     "output_type": "stream",
     "text": [
      "Attempting to set global database_path_translator=<genomics_data_index.storage.model.db.DatabasePathTranslator.DatabasePathTranslator object at 0x7f666c0f37c0> but it is already set\n"
     ]
    },
    {
     "name": "stdout",
     "output_type": "stream",
     "text": [
      "52.6 ms ± 72.8 µs per loop (mean ± std. dev. of 10 runs, 10 loops each)\n"
     ]
    },
    {
     "name": "stdout",
     "output_type": "stream",
     "text": [
      "891 µs ± 1.99 µs per loop (mean ± std. dev. of 10 runs, 1000 loops each)\n"
     ]
    },
    {
     "name": "stdout",
     "output_type": "stream",
     "text": [
      "384 µs ± 392 ns per loop (mean ± std. dev. of 10 runs, 1000 loops each)\n"
     ]
    },
    {
     "name": "stdout",
     "output_type": "stream",
     "text": [
      "2.26 ms ± 1.32 µs per loop (mean ± std. dev. of 10 runs, 100 loops each)\n"
     ]
    },
    {
     "name": "stdout",
     "output_type": "stream",
     "text": [
      "663 µs ± 1.63 µs per loop (mean ± std. dev. of 10 runs, 1000 loops each)\n"
     ]
    },
    {
     "data": {
      "text/html": [
       "<div>\n",
       "<style scoped>\n",
       "    .dataframe tbody tr th:only-of-type {\n",
       "        vertical-align: middle;\n",
       "    }\n",
       "\n",
       "    .dataframe tbody tr th {\n",
       "        vertical-align: top;\n",
       "    }\n",
       "\n",
       "    .dataframe thead th {\n",
       "        text-align: right;\n",
       "    }\n",
       "</style>\n",
       "<table border=\"1\" class=\"dataframe\">\n",
       "  <thead>\n",
       "    <tr style=\"text-align: right;\">\n",
       "      <th></th>\n",
       "      <th>Name</th>\n",
       "      <th>Kind</th>\n",
       "      <th>Number features</th>\n",
       "      <th>Iteration</th>\n",
       "      <th>Time</th>\n",
       "    </tr>\n",
       "  </thead>\n",
       "  <tbody>\n",
       "    <tr>\n",
       "      <th>0</th>\n",
       "      <td>cov-5 (assemblies)</td>\n",
       "      <td>features_summary</td>\n",
       "      <td>765</td>\n",
       "      <td>1</td>\n",
       "      <td>0.052585</td>\n",
       "    </tr>\n",
       "    <tr>\n",
       "      <th>1</th>\n",
       "      <td>cov-5 (assemblies)</td>\n",
       "      <td>features_summary</td>\n",
       "      <td>765</td>\n",
       "      <td>2</td>\n",
       "      <td>0.052566</td>\n",
       "    </tr>\n",
       "    <tr>\n",
       "      <th>2</th>\n",
       "      <td>cov-5 (assemblies)</td>\n",
       "      <td>features_summary</td>\n",
       "      <td>765</td>\n",
       "      <td>3</td>\n",
       "      <td>0.052661</td>\n",
       "    </tr>\n",
       "    <tr>\n",
       "      <th>3</th>\n",
       "      <td>cov-5 (assemblies)</td>\n",
       "      <td>features_summary</td>\n",
       "      <td>765</td>\n",
       "      <td>4</td>\n",
       "      <td>0.052576</td>\n",
       "    </tr>\n",
       "    <tr>\n",
       "      <th>4</th>\n",
       "      <td>cov-5 (assemblies)</td>\n",
       "      <td>features_summary</td>\n",
       "      <td>765</td>\n",
       "      <td>5</td>\n",
       "      <td>0.052721</td>\n",
       "    </tr>\n",
       "  </tbody>\n",
       "</table>\n",
       "</div>"
      ],
      "text/plain": [
       "                 Name              Kind  Number features  Iteration      Time\n",
       "0  cov-5 (assemblies)  features_summary              765          1  0.052585\n",
       "1  cov-5 (assemblies)  features_summary              765          2  0.052566\n",
       "2  cov-5 (assemblies)  features_summary              765          3  0.052661\n",
       "3  cov-5 (assemblies)  features_summary              765          4  0.052576\n",
       "4  cov-5 (assemblies)  features_summary              765          5  0.052721"
      ]
     },
     "execution_count": 7,
     "metadata": {},
     "output_type": "execute_result"
    }
   ],
   "source": [
    "assemblies_df = create_timing_df(name=f'{case_name} (assemblies)', index_path=index_assemblies_path)\n",
    "assemblies_df.head(5)"
   ]
  },
  {
   "cell_type": "code",
   "execution_count": 8,
   "id": "aa0b72cc-c7d5-4bac-885b-2f3309739dc9",
   "metadata": {
    "execution": {
     "iopub.execute_input": "2021-09-02T06:45:41.113015Z",
     "iopub.status.busy": "2021-09-02T06:45:41.112406Z",
     "iopub.status.idle": "2021-09-02T06:45:41.116298Z",
     "shell.execute_reply": "2021-09-02T06:45:41.115981Z"
    },
    "papermill": {
     "duration": 0.019777,
     "end_time": "2021-09-02T06:45:41.116384",
     "exception": false,
     "start_time": "2021-09-02T06:45:41.096607",
     "status": "completed"
    },
    "tags": []
   },
   "outputs": [],
   "source": [
    "assemblies_df.to_csv(output_api_assemblies_path, sep='\\t', index=False)"
   ]
  }
 ],
 "metadata": {
  "kernelspec": {
   "display_name": "Python 3 (ipykernel)",
   "language": "python",
   "name": "python3"
  },
  "language_info": {
   "codemirror_mode": {
    "name": "ipython",
    "version": 3
   },
   "file_extension": ".py",
   "mimetype": "text/x-python",
   "name": "python",
   "nbconvert_exporter": "python",
   "pygments_lexer": "ipython3",
   "version": "3.8.10"
  },
  "papermill": {
   "default_parameters": {},
   "duration": 71.899308,
   "end_time": "2021-09-02T06:45:41.636901",
   "environment_variables": {},
   "exception": null,
   "input_path": "template-5-query.ipynb",
   "output_path": "5-query.simulation-cov-5.ipynb",
   "parameters": {
    "iterations": 3,
    "mincov": 10,
    "read_coverage": 5,
    "simulation_dir": "simulations/cov-5"
   },
   "start_time": "2021-09-02T06:44:29.737593",
   "version": "2.3.3"
  }
 },
 "nbformat": 4,
 "nbformat_minor": 5
}