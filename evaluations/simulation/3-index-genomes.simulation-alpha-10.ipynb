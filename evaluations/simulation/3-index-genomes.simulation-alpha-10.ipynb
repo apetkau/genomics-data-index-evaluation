{
 "cells": [
  {
   "cell_type": "markdown",
   "id": "7d3667b4-b1f8-4347-96e3-830c25b06740",
   "metadata": {
    "papermill": {
     "duration": 0.017767,
     "end_time": "2021-09-11T20:28:03.503671",
     "exception": false,
     "start_time": "2021-09-11T20:28:03.485904",
     "status": "completed"
    },
    "tags": []
   },
   "source": [
    "# 1. Parameters"
   ]
  },
  {
   "cell_type": "code",
   "execution_count": 1,
   "id": "d4ab0749-b286-4c34-b63c-a854e4952bae",
   "metadata": {
    "execution": {
     "iopub.execute_input": "2021-09-11T20:28:03.534711Z",
     "iopub.status.busy": "2021-09-11T20:28:03.534265Z",
     "iopub.status.idle": "2021-09-11T20:28:03.538843Z",
     "shell.execute_reply": "2021-09-11T20:28:03.539268Z"
    },
    "papermill": {
     "duration": 0.02623,
     "end_time": "2021-09-11T20:28:03.539512",
     "exception": false,
     "start_time": "2021-09-11T20:28:03.513282",
     "status": "completed"
    },
    "tags": [
     "parameters"
    ]
   },
   "outputs": [],
   "source": [
    "# Defaults\n",
    "simulation_dir = 'simulations/unset'\n",
    "reference_file = 'simulations/reference/reference.fa.gz'\n",
    "iterations = 3\n",
    "mincov = 10\n",
    "ncores = 32"
   ]
  },
  {
   "cell_type": "code",
   "execution_count": 2,
   "id": "8d8d36f1",
   "metadata": {
    "execution": {
     "iopub.execute_input": "2021-09-11T20:28:03.563499Z",
     "iopub.status.busy": "2021-09-11T20:28:03.563072Z",
     "iopub.status.idle": "2021-09-11T20:28:03.566634Z",
     "shell.execute_reply": "2021-09-11T20:28:03.566201Z"
    },
    "papermill": {
     "duration": 0.017648,
     "end_time": "2021-09-11T20:28:03.566752",
     "exception": false,
     "start_time": "2021-09-11T20:28:03.549104",
     "status": "completed"
    },
    "tags": [
     "injected-parameters"
    ]
   },
   "outputs": [],
   "source": [
    "# Parameters\n",
    "read_coverage = 30\n",
    "mincov = 10\n",
    "simulation_dir = \"simulations/alpha-10-cov-30\"\n",
    "iterations = 3\n",
    "sub_alpha = 10\n"
   ]
  },
  {
   "cell_type": "code",
   "execution_count": 3,
   "id": "ce5962e4-261c-4210-b39b-47044e28466b",
   "metadata": {
    "execution": {
     "iopub.execute_input": "2021-09-11T20:28:03.591256Z",
     "iopub.status.busy": "2021-09-11T20:28:03.590662Z",
     "iopub.status.idle": "2021-09-11T20:28:05.968455Z",
     "shell.execute_reply": "2021-09-11T20:28:05.967436Z"
    },
    "papermill": {
     "duration": 2.393,
     "end_time": "2021-09-11T20:28:05.968711",
     "exception": false,
     "start_time": "2021-09-11T20:28:03.575711",
     "status": "completed"
    },
    "tags": []
   },
   "outputs": [],
   "source": [
    "from pathlib import Path\n",
    "import imp\n",
    "fp, pathname, description = imp.find_module('gdi_benchmark', ['../../lib'])\n",
    "gdi_benchmark = imp.load_module('gdi_benchmark', fp, pathname, description)\n",
    "\n",
    "simulation_dir_path = Path(simulation_dir)\n",
    "\n",
    "case_name = str(simulation_dir_path.name)\n",
    "reads_dir = simulation_dir_path / 'simulated_data' / 'reads'\n",
    "assemblies_dir = simulation_dir_path / 'simulated_data' / 'assemblies'\n",
    "index_reads_path = simulation_dir_path / 'index-reads'\n",
    "index_assemblies_path = simulation_dir_path / 'index-assemblies'\n",
    "output_reads_tree = index_reads_path / 'reads.tre'\n",
    "output_assemblies_tree = index_assemblies_path / 'assemblies.tre'\n",
    "reference_name = Path(reference_file).name.split('.')[0]"
   ]
  },
  {
   "cell_type": "markdown",
   "id": "f208279e-7558-47fc-9362-da29df92828a",
   "metadata": {
    "papermill": {
     "duration": 0.010422,
     "end_time": "2021-09-11T20:28:05.997670",
     "exception": false,
     "start_time": "2021-09-11T20:28:05.987248",
     "status": "completed"
    },
    "tags": []
   },
   "source": [
    "# 2. Index genomes"
   ]
  },
  {
   "cell_type": "code",
   "execution_count": 4,
   "id": "4e936f7c-2fcd-4188-b0e6-6b3ceb5cdcd2",
   "metadata": {
    "execution": {
     "iopub.execute_input": "2021-09-11T20:28:06.030588Z",
     "iopub.status.busy": "2021-09-11T20:28:06.019922Z",
     "iopub.status.idle": "2021-09-11T20:28:08.810645Z",
     "shell.execute_reply": "2021-09-11T20:28:08.811529Z"
    },
    "papermill": {
     "duration": 2.806416,
     "end_time": "2021-09-11T20:28:08.811862",
     "exception": false,
     "start_time": "2021-09-11T20:28:06.005446",
     "status": "completed"
    },
    "tags": []
   },
   "outputs": [
    {
     "name": "stdout",
     "output_type": "stream",
     "text": [
      "gdi, version 0.3.0.dev12\r\n"
     ]
    }
   ],
   "source": [
    "!gdi --version"
   ]
  },
  {
   "cell_type": "markdown",
   "id": "5409ecf8-2158-4361-9d2f-6b1a6c7c63a6",
   "metadata": {
    "papermill": {
     "duration": 0.009303,
     "end_time": "2021-09-11T20:28:08.838196",
     "exception": false,
     "start_time": "2021-09-11T20:28:08.828893",
     "status": "completed"
    },
    "tags": []
   },
   "source": [
    "## 2.1. Index reads"
   ]
  },
  {
   "cell_type": "code",
   "execution_count": 5,
   "id": "b5324f79-913b-4dac-8122-19ad5c0f24b2",
   "metadata": {
    "execution": {
     "iopub.execute_input": "2021-09-11T20:28:08.871141Z",
     "iopub.status.busy": "2021-09-11T20:28:08.870022Z",
     "iopub.status.idle": "2021-09-11T20:28:11.716246Z",
     "shell.execute_reply": "2021-09-11T20:28:11.717135Z"
    },
    "papermill": {
     "duration": 2.871839,
     "end_time": "2021-09-11T20:28:11.717460",
     "exception": false,
     "start_time": "2021-09-11T20:28:08.845621",
     "status": "completed"
    },
    "tags": []
   },
   "outputs": [],
   "source": [
    "input_genomes_file = simulation_dir_path / 'input-reads.tsv'\n",
    "\n",
    "!gdi input --absolute {reads_dir}/*.fq.gz > {input_genomes_file}"
   ]
  },
  {
   "cell_type": "code",
   "execution_count": 6,
   "id": "3d63e861-733e-46f2-8bce-bd1a2c7c7058",
   "metadata": {
    "execution": {
     "iopub.execute_input": "2021-09-11T20:28:11.761250Z",
     "iopub.status.busy": "2021-09-11T20:28:11.757662Z",
     "iopub.status.idle": "2021-09-11T20:35:54.954564Z",
     "shell.execute_reply": "2021-09-11T20:35:54.955787Z"
    },
    "papermill": {
     "duration": 463.219436,
     "end_time": "2021-09-11T20:35:54.956352",
     "exception": false,
     "start_time": "2021-09-11T20:28:11.736916",
     "status": "completed"
    },
    "tags": []
   },
   "outputs": [
    {
     "name": "stdout",
     "output_type": "stream",
     "text": [
      "\n",
      "Iteration 1 of index/analysis of 59 samples with 32 cores\n",
      "Removing any extra snakemake directories: ['snakemake-assemblies.1631391879.857358']\n"
     ]
    },
    {
     "name": "stdout",
     "output_type": "stream",
     "text": [
      "Creating new index: [gdi init simulations/alpha-10-cov-30/index-reads]\n"
     ]
    },
    {
     "name": "stdout",
     "output_type": "stream",
     "text": [
      "Creating a new index took 2.89 seconds\n",
      "Analysis running: [gdi --project-dir simulations/alpha-10-cov-30/index-reads --ncores 32 analysis --use-conda --no-load-data --reference-file simulations/reference/reference.fa.gz --kmer-size 31 --kmer-size 51 --kmer-size 71 --include-kmer --reads-mincov 10 --input-structured-genomes-file simulations/alpha-10-cov-30/input-reads.tsv]\n"
     ]
    },
    {
     "name": "stdout",
     "output_type": "stream",
     "text": [
      "Analysis took 1.75 minutes\n",
      "Index running: [gdi --project-dir simulations/alpha-10-cov-30/index-reads --ncores 32 load vcf-kmer --reference-file simulations/reference/reference.fa.gz /home/CSCScience.ca/apetkau/workspace/genomics-data-index-evaluation/evaluations/simulation/snakemake-assemblies.1631392098.7421973/gdi-input.fofn]\n"
     ]
    },
    {
     "name": "stdout",
     "output_type": "stream",
     "text": [
      "Indexing took 0.68 minutes\n",
      "Building tree: [gdi --project-dir simulations/alpha-10-cov-30/index-reads --ncores 32 rebuild tree --align-type full --extra-params '--fast -m GTR+F+R4' reference]\n"
     ]
    },
    {
     "name": "stdout",
     "output_type": "stream",
     "text": [
      "Building tree took 0.10 minutes\n"
     ]
    },
    {
     "name": "stderr",
     "output_type": "stream",
     "text": [
      "A reminder to myself to look for a Python solution for directory sizes (instead of running `du`)\n"
     ]
    },
    {
     "name": "stdout",
     "output_type": "stream",
     "text": [
      "\n",
      "Iteration 2 of index/analysis of 59 samples with 32 cores\n",
      "Removing any extra snakemake directories: ['snakemake-assemblies.1631392098.7421973']\n"
     ]
    },
    {
     "name": "stdout",
     "output_type": "stream",
     "text": [
      "Removing any existing indexes simulations/alpha-10-cov-30/index-reads\n",
      "Creating new index: [gdi init simulations/alpha-10-cov-30/index-reads]\n"
     ]
    },
    {
     "name": "stdout",
     "output_type": "stream",
     "text": [
      "Creating a new index took 2.76 seconds\n",
      "Analysis running: [gdi --project-dir simulations/alpha-10-cov-30/index-reads --ncores 32 analysis --use-conda --no-load-data --reference-file simulations/reference/reference.fa.gz --kmer-size 31 --kmer-size 51 --kmer-size 71 --include-kmer --reads-mincov 10 --input-structured-genomes-file simulations/alpha-10-cov-30/input-reads.tsv]\n"
     ]
    },
    {
     "name": "stdout",
     "output_type": "stream",
     "text": [
      "Analysis took 1.73 minutes\n",
      "Index running: [gdi --project-dir simulations/alpha-10-cov-30/index-reads --ncores 32 load vcf-kmer --reference-file simulations/reference/reference.fa.gz /home/CSCScience.ca/apetkau/workspace/genomics-data-index-evaluation/evaluations/simulation/snakemake-assemblies.1631392255.5775547/gdi-input.fofn]\n"
     ]
    },
    {
     "name": "stdout",
     "output_type": "stream",
     "text": [
      "Indexing took 0.63 minutes\n",
      "Building tree: [gdi --project-dir simulations/alpha-10-cov-30/index-reads --ncores 32 rebuild tree --align-type full --extra-params '--fast -m GTR+F+R4' reference]\n"
     ]
    },
    {
     "name": "stdout",
     "output_type": "stream",
     "text": [
      "Building tree took 0.10 minutes\n"
     ]
    },
    {
     "name": "stderr",
     "output_type": "stream",
     "text": [
      "Attempting to set global database_path_translator=<genomics_data_index.storage.model.db.DatabasePathTranslator.DatabasePathTranslator object at 0x7f6d90549220> but it is already set\n"
     ]
    },
    {
     "name": "stderr",
     "output_type": "stream",
     "text": [
      "A reminder to myself to look for a Python solution for directory sizes (instead of running `du`)\n"
     ]
    },
    {
     "name": "stdout",
     "output_type": "stream",
     "text": [
      "\n",
      "Iteration 3 of index/analysis of 59 samples with 32 cores\n",
      "Removing any extra snakemake directories: ['snakemake-assemblies.1631392255.5775547']\n"
     ]
    },
    {
     "name": "stdout",
     "output_type": "stream",
     "text": [
      "Removing any existing indexes simulations/alpha-10-cov-30/index-reads\n",
      "Creating new index: [gdi init simulations/alpha-10-cov-30/index-reads]\n"
     ]
    },
    {
     "name": "stdout",
     "output_type": "stream",
     "text": [
      "Creating a new index took 2.71 seconds\n",
      "Analysis running: [gdi --project-dir simulations/alpha-10-cov-30/index-reads --ncores 32 analysis --use-conda --no-load-data --reference-file simulations/reference/reference.fa.gz --kmer-size 31 --kmer-size 51 --kmer-size 71 --include-kmer --reads-mincov 10 --input-structured-genomes-file simulations/alpha-10-cov-30/input-reads.tsv]\n"
     ]
    },
    {
     "name": "stdout",
     "output_type": "stream",
     "text": [
      "Analysis took 1.75 minutes\n",
      "Index running: [gdi --project-dir simulations/alpha-10-cov-30/index-reads --ncores 32 load vcf-kmer --reference-file simulations/reference/reference.fa.gz /home/CSCScience.ca/apetkau/workspace/genomics-data-index-evaluation/evaluations/simulation/snakemake-assemblies.1631392408.0566015/gdi-input.fofn]\n"
     ]
    },
    {
     "name": "stdout",
     "output_type": "stream",
     "text": [
      "Indexing took 0.64 minutes\n",
      "Building tree: [gdi --project-dir simulations/alpha-10-cov-30/index-reads --ncores 32 rebuild tree --align-type full --extra-params '--fast -m GTR+F+R4' reference]\n"
     ]
    },
    {
     "name": "stdout",
     "output_type": "stream",
     "text": [
      "Building tree took 0.10 minutes\n"
     ]
    },
    {
     "name": "stderr",
     "output_type": "stream",
     "text": [
      "Attempting to set global database_path_translator=<genomics_data_index.storage.model.db.DatabasePathTranslator.DatabasePathTranslator object at 0x7f6d6c9290d0> but it is already set\n"
     ]
    },
    {
     "name": "stderr",
     "output_type": "stream",
     "text": [
      "A reminder to myself to look for a Python solution for directory sizes (instead of running `du`)\n"
     ]
    }
   ],
   "source": [
    "results_handler = gdi_benchmark.BenchmarkResultsHandler(name=f'{case_name} reads')\n",
    "benchmarker = gdi_benchmark.IndexBenchmarker(benchmark_results_handler=results_handler,\n",
    "                                             index_path=index_reads_path, input_files_file=input_genomes_file,\n",
    "                                             reference_file=reference_file, mincov=mincov, build_tree=True,\n",
    "                                             ncores=ncores)\n",
    "\n",
    "benchmark_df = benchmarker.benchmark(iterations=iterations)"
   ]
  },
  {
   "cell_type": "code",
   "execution_count": 7,
   "id": "3bcb6da7-0164-47f2-abdd-a4c159da1e3b",
   "metadata": {
    "execution": {
     "iopub.execute_input": "2021-09-11T20:35:55.005263Z",
     "iopub.status.busy": "2021-09-11T20:35:55.004861Z",
     "iopub.status.idle": "2021-09-11T20:35:55.030901Z",
     "shell.execute_reply": "2021-09-11T20:35:55.031757Z"
    },
    "papermill": {
     "duration": 0.053011,
     "end_time": "2021-09-11T20:35:55.032007",
     "exception": false,
     "start_time": "2021-09-11T20:35:54.978996",
     "status": "completed"
    },
    "tags": []
   },
   "outputs": [
    {
     "data": {
      "text/html": [
       "<div>\n",
       "<style scoped>\n",
       "    .dataframe tbody tr th:only-of-type {\n",
       "        vertical-align: middle;\n",
       "    }\n",
       "\n",
       "    .dataframe tbody tr th {\n",
       "        vertical-align: top;\n",
       "    }\n",
       "\n",
       "    .dataframe thead th {\n",
       "        text-align: right;\n",
       "    }\n",
       "</style>\n",
       "<table border=\"1\" class=\"dataframe\">\n",
       "  <thead>\n",
       "    <tr style=\"text-align: right;\">\n",
       "      <th></th>\n",
       "      <th>Name</th>\n",
       "      <th>Iteration</th>\n",
       "      <th>Number samples</th>\n",
       "      <th>Number features (all)</th>\n",
       "      <th>Number features (no unknown)</th>\n",
       "      <th>Number cores</th>\n",
       "      <th>Reference length</th>\n",
       "      <th>Analysis runtime</th>\n",
       "      <th>Analysis memory (max)</th>\n",
       "      <th>Analysis memory (max/process)</th>\n",
       "      <th>Analysis disk uage</th>\n",
       "      <th>Index runtime</th>\n",
       "      <th>Index memory (max)</th>\n",
       "      <th>Index memory (max/process)</th>\n",
       "      <th>Index size</th>\n",
       "      <th>Tree runtime</th>\n",
       "      <th>Tree memory (max)</th>\n",
       "      <th>Tree memory (max/process)</th>\n",
       "      <th>Total runtime</th>\n",
       "      <th>Max memory</th>\n",
       "    </tr>\n",
       "  </thead>\n",
       "  <tbody>\n",
       "    <tr>\n",
       "      <th>0</th>\n",
       "      <td>alpha-10-cov-30 reads</td>\n",
       "      <td>1</td>\n",
       "      <td>59</td>\n",
       "      <td>21411</td>\n",
       "      <td>1712</td>\n",
       "      <td>32</td>\n",
       "      <td>19699</td>\n",
       "      <td>104.93</td>\n",
       "      <td>2.605109e+09</td>\n",
       "      <td>389206016.0</td>\n",
       "      <td>3.260735e+09</td>\n",
       "      <td>40.66</td>\n",
       "      <td>6.219272e+09</td>\n",
       "      <td>1.286152e+09</td>\n",
       "      <td>3801088.0</td>\n",
       "      <td>6.08</td>\n",
       "      <td>233443328.0</td>\n",
       "      <td>222969856.0</td>\n",
       "      <td>151.67</td>\n",
       "      <td>6.219272e+09</td>\n",
       "    </tr>\n",
       "    <tr>\n",
       "      <th>0</th>\n",
       "      <td>alpha-10-cov-30 reads</td>\n",
       "      <td>2</td>\n",
       "      <td>59</td>\n",
       "      <td>21411</td>\n",
       "      <td>1712</td>\n",
       "      <td>32</td>\n",
       "      <td>19699</td>\n",
       "      <td>103.48</td>\n",
       "      <td>2.547266e+09</td>\n",
       "      <td>391892992.0</td>\n",
       "      <td>3.260740e+09</td>\n",
       "      <td>37.98</td>\n",
       "      <td>6.202515e+09</td>\n",
       "      <td>1.292820e+09</td>\n",
       "      <td>3817472.0</td>\n",
       "      <td>5.96</td>\n",
       "      <td>234033152.0</td>\n",
       "      <td>223555584.0</td>\n",
       "      <td>147.42</td>\n",
       "      <td>6.202515e+09</td>\n",
       "    </tr>\n",
       "    <tr>\n",
       "      <th>0</th>\n",
       "      <td>alpha-10-cov-30 reads</td>\n",
       "      <td>3</td>\n",
       "      <td>59</td>\n",
       "      <td>21411</td>\n",
       "      <td>1712</td>\n",
       "      <td>32</td>\n",
       "      <td>19699</td>\n",
       "      <td>104.67</td>\n",
       "      <td>2.740511e+09</td>\n",
       "      <td>398094336.0</td>\n",
       "      <td>3.260748e+09</td>\n",
       "      <td>38.60</td>\n",
       "      <td>6.177866e+09</td>\n",
       "      <td>1.292534e+09</td>\n",
       "      <td>3809280.0</td>\n",
       "      <td>5.78</td>\n",
       "      <td>233209856.0</td>\n",
       "      <td>222777344.0</td>\n",
       "      <td>149.05</td>\n",
       "      <td>6.177866e+09</td>\n",
       "    </tr>\n",
       "  </tbody>\n",
       "</table>\n",
       "</div>"
      ],
      "text/plain": [
       "                    Name  Iteration  Number samples  Number features (all)  \\\n",
       "0  alpha-10-cov-30 reads          1              59                  21411   \n",
       "0  alpha-10-cov-30 reads          2              59                  21411   \n",
       "0  alpha-10-cov-30 reads          3              59                  21411   \n",
       "\n",
       "   Number features (no unknown)  Number cores  Reference length  \\\n",
       "0                          1712            32             19699   \n",
       "0                          1712            32             19699   \n",
       "0                          1712            32             19699   \n",
       "\n",
       "   Analysis runtime  Analysis memory (max)  Analysis memory (max/process)  \\\n",
       "0            104.93           2.605109e+09                    389206016.0   \n",
       "0            103.48           2.547266e+09                    391892992.0   \n",
       "0            104.67           2.740511e+09                    398094336.0   \n",
       "\n",
       "   Analysis disk uage  Index runtime  Index memory (max)  \\\n",
       "0        3.260735e+09          40.66        6.219272e+09   \n",
       "0        3.260740e+09          37.98        6.202515e+09   \n",
       "0        3.260748e+09          38.60        6.177866e+09   \n",
       "\n",
       "   Index memory (max/process)  Index size  Tree runtime  Tree memory (max)  \\\n",
       "0                1.286152e+09   3801088.0          6.08        233443328.0   \n",
       "0                1.292820e+09   3817472.0          5.96        234033152.0   \n",
       "0                1.292534e+09   3809280.0          5.78        233209856.0   \n",
       "\n",
       "   Tree memory (max/process)  Total runtime    Max memory  \n",
       "0                222969856.0         151.67  6.219272e+09  \n",
       "0                223555584.0         147.42  6.202515e+09  \n",
       "0                222777344.0         149.05  6.177866e+09  "
      ]
     },
     "execution_count": 7,
     "metadata": {},
     "output_type": "execute_result"
    }
   ],
   "source": [
    "benchmark_df"
   ]
  },
  {
   "cell_type": "code",
   "execution_count": 8,
   "id": "535a9ccc-ab9c-4919-806f-128e1efd2389",
   "metadata": {
    "execution": {
     "iopub.execute_input": "2021-09-11T20:35:55.075215Z",
     "iopub.status.busy": "2021-09-11T20:35:55.074831Z",
     "iopub.status.idle": "2021-09-11T20:35:55.082825Z",
     "shell.execute_reply": "2021-09-11T20:35:55.082455Z"
    },
    "papermill": {
     "duration": 0.026646,
     "end_time": "2021-09-11T20:35:55.082921",
     "exception": false,
     "start_time": "2021-09-11T20:35:55.056275",
     "status": "completed"
    },
    "tags": []
   },
   "outputs": [],
   "source": [
    "index_reads_runtime = simulation_dir_path / 'reads-index-info.tsv'\n",
    "benchmark_df.to_csv(index_reads_runtime, sep='\\t', index=False)"
   ]
  },
  {
   "cell_type": "markdown",
   "id": "c331578f-4026-4a9f-a3ba-288814b02ed2",
   "metadata": {
    "papermill": {
     "duration": 0.011867,
     "end_time": "2021-09-11T20:35:55.111045",
     "exception": false,
     "start_time": "2021-09-11T20:35:55.099178",
     "status": "completed"
    },
    "tags": []
   },
   "source": [
    "## 2.2. Index assemblies"
   ]
  },
  {
   "cell_type": "code",
   "execution_count": 9,
   "id": "6e6664f4-94ee-4c45-b1fc-e048b387fa49",
   "metadata": {
    "execution": {
     "iopub.execute_input": "2021-09-11T20:35:55.153457Z",
     "iopub.status.busy": "2021-09-11T20:35:55.140795Z",
     "iopub.status.idle": "2021-09-11T20:35:57.799754Z",
     "shell.execute_reply": "2021-09-11T20:35:57.800630Z"
    },
    "papermill": {
     "duration": 2.678246,
     "end_time": "2021-09-11T20:35:57.800914",
     "exception": false,
     "start_time": "2021-09-11T20:35:55.122668",
     "status": "completed"
    },
    "tags": []
   },
   "outputs": [],
   "source": [
    "input_genomes_file = simulation_dir_path / 'input-assemblies.tsv'\n",
    "\n",
    "!gdi input --absolute {assemblies_dir}/*.fa.gz > {input_genomes_file}"
   ]
  },
  {
   "cell_type": "code",
   "execution_count": 10,
   "id": "0a1e62f3-3b0c-4a90-a7fe-f0bc1094e350",
   "metadata": {
    "execution": {
     "iopub.execute_input": "2021-09-11T20:35:57.851216Z",
     "iopub.status.busy": "2021-09-11T20:35:57.850691Z",
     "iopub.status.idle": "2021-09-11T20:45:06.674693Z",
     "shell.execute_reply": "2021-09-11T20:45:06.673679Z"
    },
    "papermill": {
     "duration": 548.847789,
     "end_time": "2021-09-11T20:45:06.674932",
     "exception": false,
     "start_time": "2021-09-11T20:35:57.827143",
     "status": "completed"
    },
    "tags": []
   },
   "outputs": [
    {
     "name": "stdout",
     "output_type": "stream",
     "text": [
      "\n",
      "Iteration 1 of index/analysis of 59 samples with 32 cores\n",
      "Removing any extra snakemake directories: ['snakemake-assemblies.1631392408.0566015']\n"
     ]
    },
    {
     "name": "stdout",
     "output_type": "stream",
     "text": [
      "Creating new index: [gdi init simulations/alpha-10-cov-30/index-assemblies]\n"
     ]
    },
    {
     "name": "stdout",
     "output_type": "stream",
     "text": [
      "Creating a new index took 2.73 seconds\n",
      "Analysis running: [gdi --project-dir simulations/alpha-10-cov-30/index-assemblies --ncores 32 analysis --use-conda --no-load-data --reference-file simulations/reference/reference.fa.gz --kmer-size 31 --kmer-size 51 --kmer-size 71 --include-kmer --reads-mincov 10 --input-structured-genomes-file simulations/alpha-10-cov-30/input-assemblies.tsv]\n"
     ]
    },
    {
     "name": "stdout",
     "output_type": "stream",
     "text": [
      "Analysis took 1.59 minutes\n",
      "Index running: [gdi --project-dir simulations/alpha-10-cov-30/index-assemblies --ncores 32 load vcf-kmer --reference-file simulations/reference/reference.fa.gz /home/CSCScience.ca/apetkau/workspace/genomics-data-index-evaluation/evaluations/simulation/snakemake-assemblies.1631392564.9868057/gdi-input.fofn]\n"
     ]
    },
    {
     "name": "stdout",
     "output_type": "stream",
     "text": [
      "Indexing took 0.07 minutes\n",
      "Building tree: [gdi --project-dir simulations/alpha-10-cov-30/index-assemblies --ncores 32 rebuild tree --align-type full --extra-params '--fast -m GTR+F+R4' reference]\n"
     ]
    },
    {
     "name": "stdout",
     "output_type": "stream",
     "text": [
      "Building tree took 1.34 minutes\n"
     ]
    },
    {
     "name": "stderr",
     "output_type": "stream",
     "text": [
      "Attempting to set global database_path_translator=<genomics_data_index.storage.model.db.DatabasePathTranslator.DatabasePathTranslator object at 0x7f6d6c85e5b0> but it is already set\n"
     ]
    },
    {
     "name": "stderr",
     "output_type": "stream",
     "text": [
      "A reminder to myself to look for a Python solution for directory sizes (instead of running `du`)\n"
     ]
    },
    {
     "name": "stdout",
     "output_type": "stream",
     "text": [
      "\n",
      "Iteration 2 of index/analysis of 59 samples with 32 cores\n",
      "Removing any extra snakemake directories: ['snakemake-assemblies.1631392564.9868057']\n"
     ]
    },
    {
     "name": "stdout",
     "output_type": "stream",
     "text": [
      "Removing any existing indexes simulations/alpha-10-cov-30/index-assemblies\n",
      "Creating new index: [gdi init simulations/alpha-10-cov-30/index-assemblies]\n"
     ]
    },
    {
     "name": "stdout",
     "output_type": "stream",
     "text": [
      "Creating a new index took 2.91 seconds\n",
      "Analysis running: [gdi --project-dir simulations/alpha-10-cov-30/index-assemblies --ncores 32 analysis --use-conda --no-load-data --reference-file simulations/reference/reference.fa.gz --kmer-size 31 --kmer-size 51 --kmer-size 71 --include-kmer --reads-mincov 10 --input-structured-genomes-file simulations/alpha-10-cov-30/input-assemblies.tsv]\n"
     ]
    },
    {
     "name": "stdout",
     "output_type": "stream",
     "text": [
      "Analysis took 1.57 minutes\n",
      "Index running: [gdi --project-dir simulations/alpha-10-cov-30/index-assemblies --ncores 32 load vcf-kmer --reference-file simulations/reference/reference.fa.gz /home/CSCScience.ca/apetkau/workspace/genomics-data-index-evaluation/evaluations/simulation/snakemake-assemblies.1631392749.5139916/gdi-input.fofn]\n"
     ]
    },
    {
     "name": "stdout",
     "output_type": "stream",
     "text": [
      "Indexing took 0.07 minutes\n",
      "Building tree: [gdi --project-dir simulations/alpha-10-cov-30/index-assemblies --ncores 32 rebuild tree --align-type full --extra-params '--fast -m GTR+F+R4' reference]\n"
     ]
    },
    {
     "name": "stdout",
     "output_type": "stream",
     "text": [
      "Building tree took 1.34 minutes\n"
     ]
    },
    {
     "name": "stderr",
     "output_type": "stream",
     "text": [
      "Attempting to set global database_path_translator=<genomics_data_index.storage.model.db.DatabasePathTranslator.DatabasePathTranslator object at 0x7f6d6c8c4ee0> but it is already set\n"
     ]
    },
    {
     "name": "stderr",
     "output_type": "stream",
     "text": [
      "A reminder to myself to look for a Python solution for directory sizes (instead of running `du`)\n"
     ]
    },
    {
     "name": "stdout",
     "output_type": "stream",
     "text": [
      "\n",
      "Iteration 3 of index/analysis of 59 samples with 32 cores\n",
      "Removing any extra snakemake directories: ['snakemake-assemblies.1631392749.5139916']\n"
     ]
    },
    {
     "name": "stdout",
     "output_type": "stream",
     "text": [
      "Removing any existing indexes simulations/alpha-10-cov-30/index-assemblies\n",
      "Creating new index: [gdi init simulations/alpha-10-cov-30/index-assemblies]\n"
     ]
    },
    {
     "name": "stdout",
     "output_type": "stream",
     "text": [
      "Creating a new index took 2.72 seconds\n",
      "Analysis running: [gdi --project-dir simulations/alpha-10-cov-30/index-assemblies --ncores 32 analysis --use-conda --no-load-data --reference-file simulations/reference/reference.fa.gz --kmer-size 31 --kmer-size 51 --kmer-size 71 --include-kmer --reads-mincov 10 --input-structured-genomes-file simulations/alpha-10-cov-30/input-assemblies.tsv]\n"
     ]
    },
    {
     "name": "stdout",
     "output_type": "stream",
     "text": [
      "Analysis took 1.53 minutes\n",
      "Index running: [gdi --project-dir simulations/alpha-10-cov-30/index-assemblies --ncores 32 load vcf-kmer --reference-file simulations/reference/reference.fa.gz /home/CSCScience.ca/apetkau/workspace/genomics-data-index-evaluation/evaluations/simulation/snakemake-assemblies.1631392932.8627062/gdi-input.fofn]\n"
     ]
    },
    {
     "name": "stdout",
     "output_type": "stream",
     "text": [
      "Indexing took 0.07 minutes\n",
      "Building tree: [gdi --project-dir simulations/alpha-10-cov-30/index-assemblies --ncores 32 rebuild tree --align-type full --extra-params '--fast -m GTR+F+R4' reference]\n"
     ]
    },
    {
     "name": "stdout",
     "output_type": "stream",
     "text": [
      "Building tree took 1.34 minutes\n"
     ]
    },
    {
     "name": "stderr",
     "output_type": "stream",
     "text": [
      "Attempting to set global database_path_translator=<genomics_data_index.storage.model.db.DatabasePathTranslator.DatabasePathTranslator object at 0x7f6d90549ac0> but it is already set\n"
     ]
    },
    {
     "name": "stderr",
     "output_type": "stream",
     "text": [
      "A reminder to myself to look for a Python solution for directory sizes (instead of running `du`)\n"
     ]
    }
   ],
   "source": [
    "results_handler = gdi_benchmark.BenchmarkResultsHandler(name=f'{case_name} assemblies')\n",
    "benchmarker = gdi_benchmark.IndexBenchmarker(benchmark_results_handler=results_handler,\n",
    "                                             index_path=index_assemblies_path, input_files_file=input_genomes_file,\n",
    "                                             reference_file=reference_file, mincov=mincov, build_tree=True,\n",
    "                                             ncores=ncores)\n",
    "\n",
    "benchmark_df = benchmarker.benchmark(iterations=iterations)"
   ]
  },
  {
   "cell_type": "code",
   "execution_count": 11,
   "id": "a6d55a9d-be2f-4851-b66c-04b5ebd597a1",
   "metadata": {
    "execution": {
     "iopub.execute_input": "2021-09-11T20:45:06.757449Z",
     "iopub.status.busy": "2021-09-11T20:45:06.756438Z",
     "iopub.status.idle": "2021-09-11T20:45:06.760321Z",
     "shell.execute_reply": "2021-09-11T20:45:06.761214Z"
    },
    "papermill": {
     "duration": 0.054532,
     "end_time": "2021-09-11T20:45:06.761486",
     "exception": false,
     "start_time": "2021-09-11T20:45:06.706954",
     "status": "completed"
    },
    "tags": []
   },
   "outputs": [
    {
     "data": {
      "text/html": [
       "<div>\n",
       "<style scoped>\n",
       "    .dataframe tbody tr th:only-of-type {\n",
       "        vertical-align: middle;\n",
       "    }\n",
       "\n",
       "    .dataframe tbody tr th {\n",
       "        vertical-align: top;\n",
       "    }\n",
       "\n",
       "    .dataframe thead th {\n",
       "        text-align: right;\n",
       "    }\n",
       "</style>\n",
       "<table border=\"1\" class=\"dataframe\">\n",
       "  <thead>\n",
       "    <tr style=\"text-align: right;\">\n",
       "      <th></th>\n",
       "      <th>Name</th>\n",
       "      <th>Iteration</th>\n",
       "      <th>Number samples</th>\n",
       "      <th>Number features (all)</th>\n",
       "      <th>Number features (no unknown)</th>\n",
       "      <th>Number cores</th>\n",
       "      <th>Reference length</th>\n",
       "      <th>Analysis runtime</th>\n",
       "      <th>Analysis memory (max)</th>\n",
       "      <th>Analysis memory (max/process)</th>\n",
       "      <th>Analysis disk uage</th>\n",
       "      <th>Index runtime</th>\n",
       "      <th>Index memory (max)</th>\n",
       "      <th>Index memory (max/process)</th>\n",
       "      <th>Index size</th>\n",
       "      <th>Tree runtime</th>\n",
       "      <th>Tree memory (max)</th>\n",
       "      <th>Tree memory (max/process)</th>\n",
       "      <th>Total runtime</th>\n",
       "      <th>Max memory</th>\n",
       "    </tr>\n",
       "  </thead>\n",
       "  <tbody>\n",
       "    <tr>\n",
       "      <th>0</th>\n",
       "      <td>alpha-10-cov-30 assemblies</td>\n",
       "      <td>1</td>\n",
       "      <td>59</td>\n",
       "      <td>0</td>\n",
       "      <td>0</td>\n",
       "      <td>32</td>\n",
       "      <td>19699</td>\n",
       "      <td>95.28</td>\n",
       "      <td>1.261216e+09</td>\n",
       "      <td>378241024.0</td>\n",
       "      <td>2.080481e+09</td>\n",
       "      <td>4.29</td>\n",
       "      <td>5.591261e+09</td>\n",
       "      <td>222711808.0</td>\n",
       "      <td>983040.0</td>\n",
       "      <td>80.32</td>\n",
       "      <td>295399424.0</td>\n",
       "      <td>223051776.0</td>\n",
       "      <td>179.89</td>\n",
       "      <td>5.591261e+09</td>\n",
       "    </tr>\n",
       "    <tr>\n",
       "      <th>0</th>\n",
       "      <td>alpha-10-cov-30 assemblies</td>\n",
       "      <td>2</td>\n",
       "      <td>59</td>\n",
       "      <td>0</td>\n",
       "      <td>0</td>\n",
       "      <td>32</td>\n",
       "      <td>19699</td>\n",
       "      <td>94.29</td>\n",
       "      <td>1.166520e+09</td>\n",
       "      <td>374702080.0</td>\n",
       "      <td>2.080489e+09</td>\n",
       "      <td>4.27</td>\n",
       "      <td>5.585445e+09</td>\n",
       "      <td>223076352.0</td>\n",
       "      <td>987136.0</td>\n",
       "      <td>80.28</td>\n",
       "      <td>292085760.0</td>\n",
       "      <td>223023104.0</td>\n",
       "      <td>178.84</td>\n",
       "      <td>5.585445e+09</td>\n",
       "    </tr>\n",
       "    <tr>\n",
       "      <th>0</th>\n",
       "      <td>alpha-10-cov-30 assemblies</td>\n",
       "      <td>3</td>\n",
       "      <td>59</td>\n",
       "      <td>0</td>\n",
       "      <td>0</td>\n",
       "      <td>32</td>\n",
       "      <td>19699</td>\n",
       "      <td>91.51</td>\n",
       "      <td>1.154929e+09</td>\n",
       "      <td>379744256.0</td>\n",
       "      <td>2.080485e+09</td>\n",
       "      <td>4.17</td>\n",
       "      <td>5.588713e+09</td>\n",
       "      <td>223383552.0</td>\n",
       "      <td>983040.0</td>\n",
       "      <td>80.19</td>\n",
       "      <td>291848192.0</td>\n",
       "      <td>222760960.0</td>\n",
       "      <td>175.87</td>\n",
       "      <td>5.588713e+09</td>\n",
       "    </tr>\n",
       "  </tbody>\n",
       "</table>\n",
       "</div>"
      ],
      "text/plain": [
       "                         Name  Iteration  Number samples  \\\n",
       "0  alpha-10-cov-30 assemblies          1              59   \n",
       "0  alpha-10-cov-30 assemblies          2              59   \n",
       "0  alpha-10-cov-30 assemblies          3              59   \n",
       "\n",
       "   Number features (all)  Number features (no unknown)  Number cores  \\\n",
       "0                      0                             0            32   \n",
       "0                      0                             0            32   \n",
       "0                      0                             0            32   \n",
       "\n",
       "   Reference length  Analysis runtime  Analysis memory (max)  \\\n",
       "0             19699             95.28           1.261216e+09   \n",
       "0             19699             94.29           1.166520e+09   \n",
       "0             19699             91.51           1.154929e+09   \n",
       "\n",
       "   Analysis memory (max/process)  Analysis disk uage  Index runtime  \\\n",
       "0                    378241024.0        2.080481e+09           4.29   \n",
       "0                    374702080.0        2.080489e+09           4.27   \n",
       "0                    379744256.0        2.080485e+09           4.17   \n",
       "\n",
       "   Index memory (max)  Index memory (max/process)  Index size  Tree runtime  \\\n",
       "0        5.591261e+09                 222711808.0    983040.0         80.32   \n",
       "0        5.585445e+09                 223076352.0    987136.0         80.28   \n",
       "0        5.588713e+09                 223383552.0    983040.0         80.19   \n",
       "\n",
       "   Tree memory (max)  Tree memory (max/process)  Total runtime    Max memory  \n",
       "0        295399424.0                223051776.0         179.89  5.591261e+09  \n",
       "0        292085760.0                223023104.0         178.84  5.585445e+09  \n",
       "0        291848192.0                222760960.0         175.87  5.588713e+09  "
      ]
     },
     "execution_count": 11,
     "metadata": {},
     "output_type": "execute_result"
    }
   ],
   "source": [
    "benchmark_df"
   ]
  },
  {
   "cell_type": "code",
   "execution_count": 12,
   "id": "e1a6d962-50bc-4c8d-a6f2-3a661da706b4",
   "metadata": {
    "execution": {
     "iopub.execute_input": "2021-09-11T20:45:06.814450Z",
     "iopub.status.busy": "2021-09-11T20:45:06.814012Z",
     "iopub.status.idle": "2021-09-11T20:45:06.817723Z",
     "shell.execute_reply": "2021-09-11T20:45:06.817384Z"
    },
    "papermill": {
     "duration": 0.027778,
     "end_time": "2021-09-11T20:45:06.817806",
     "exception": false,
     "start_time": "2021-09-11T20:45:06.790028",
     "status": "completed"
    },
    "tags": []
   },
   "outputs": [],
   "source": [
    "index_assemblies_runtime = simulation_dir_path / 'assemblies-index-info.tsv'\n",
    "benchmark_df.to_csv(index_assemblies_runtime, sep='\\t', index=False)"
   ]
  },
  {
   "cell_type": "markdown",
   "id": "6cb7673b-9f85-4c43-b2e2-93538497a196",
   "metadata": {
    "papermill": {
     "duration": 0.015716,
     "end_time": "2021-09-11T20:45:06.852624",
     "exception": false,
     "start_time": "2021-09-11T20:45:06.836908",
     "status": "completed"
    },
    "tags": []
   },
   "source": [
    "# 3. Export trees"
   ]
  },
  {
   "cell_type": "code",
   "execution_count": 13,
   "id": "5280f82c-5434-4391-8c44-b937a7c95bd5",
   "metadata": {
    "execution": {
     "iopub.execute_input": "2021-09-11T20:45:06.902786Z",
     "iopub.status.busy": "2021-09-11T20:45:06.893381Z",
     "iopub.status.idle": "2021-09-11T20:45:12.269909Z",
     "shell.execute_reply": "2021-09-11T20:45:12.268944Z"
    },
    "papermill": {
     "duration": 5.401896,
     "end_time": "2021-09-11T20:45:12.270149",
     "exception": false,
     "start_time": "2021-09-11T20:45:06.868253",
     "status": "completed"
    },
    "tags": []
   },
   "outputs": [
    {
     "name": "stdout",
     "output_type": "stream",
     "text": [
      "Wrote assemblies tree to simulations/alpha-10-cov-30/index-assemblies/assemblies.tre\n"
     ]
    },
    {
     "name": "stdout",
     "output_type": "stream",
     "text": [
      "\u001b[32m2021-09-11 15:45:11\u001b[0m \u001b[1;30mERROR:\u001b[0m \u001b[31mreference_genome=[<Reference(id=1, name=reference, length=19699)>] does not have a tree\u001b[0m\r\n"
     ]
    },
    {
     "name": "stdout",
     "output_type": "stream",
     "text": [
      "Wrote assemblies tree to simulations/alpha-10-cov-30/index-reads/reads.tre\n"
     ]
    }
   ],
   "source": [
    "!gdi --project-dir {index_assemblies_path} export tree {reference_name} > {output_assemblies_tree}\n",
    "print(f'Wrote assemblies tree to {output_assemblies_tree}')\n",
    "\n",
    "!gdi --project-dir {index_reads_path} export tree {reference_name} > {output_reads_tree}\n",
    "print(f'Wrote assemblies tree to {output_reads_tree}')"
   ]
  }
 ],
 "metadata": {
  "kernelspec": {
   "display_name": "Python 3 (ipykernel)",
   "language": "python",
   "name": "python3"
  },
  "language_info": {
   "codemirror_mode": {
    "name": "ipython",
    "version": 3
   },
   "file_extension": ".py",
   "mimetype": "text/x-python",
   "name": "python",
   "nbconvert_exporter": "python",
   "pygments_lexer": "ipython3",
   "version": "3.8.10"
  },
  "papermill": {
   "default_parameters": {},
   "duration": 1030.309921,
   "end_time": "2021-09-11T20:45:12.817220",
   "environment_variables": {},
   "exception": null,
   "input_path": "template-3-index-genomes.ipynb",
   "output_path": "3-index-genomes.simulation-alpha-10.ipynb",
   "parameters": {
    "iterations": 3,
    "mincov": 10,
    "read_coverage": 30,
    "simulation_dir": "simulations/alpha-10-cov-30",
    "sub_alpha": 10
   },
   "start_time": "2021-09-11T20:28:02.507299",
   "version": "2.3.3"
  }
 },
 "nbformat": 4,
 "nbformat_minor": 5
}