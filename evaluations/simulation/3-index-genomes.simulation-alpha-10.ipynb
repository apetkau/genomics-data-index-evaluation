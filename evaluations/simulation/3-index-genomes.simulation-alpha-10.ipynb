{
 "cells": [
  {
   "cell_type": "markdown",
   "id": "7d3667b4-b1f8-4347-96e3-830c25b06740",
   "metadata": {
    "papermill": {
     "duration": 0.018322,
     "end_time": "2022-03-08T21:03:28.925174",
     "exception": false,
     "start_time": "2022-03-08T21:03:28.906852",
     "status": "completed"
    },
    "tags": []
   },
   "source": [
    "# 1. Parameters"
   ]
  },
  {
   "cell_type": "code",
   "execution_count": 1,
   "id": "d4ab0749-b286-4c34-b63c-a854e4952bae",
   "metadata": {
    "execution": {
     "iopub.execute_input": "2022-03-08T21:03:28.956696Z",
     "iopub.status.busy": "2022-03-08T21:03:28.956194Z",
     "iopub.status.idle": "2022-03-08T21:03:28.961065Z",
     "shell.execute_reply": "2022-03-08T21:03:28.960393Z"
    },
    "papermill": {
     "duration": 0.026605,
     "end_time": "2022-03-08T21:03:28.961218",
     "exception": false,
     "start_time": "2022-03-08T21:03:28.934613",
     "status": "completed"
    },
    "tags": [
     "parameters"
    ]
   },
   "outputs": [],
   "source": [
    "# Defaults\n",
    "simulation_dir = 'simulations/unset'\n",
    "reference_file = 'simulations/reference/reference.fa.gz'\n",
    "iterations = 3\n",
    "mincov = 10\n",
    "ncores = 32"
   ]
  },
  {
   "cell_type": "code",
   "execution_count": 2,
   "id": "d5fe34d2",
   "metadata": {
    "execution": {
     "iopub.execute_input": "2022-03-08T21:03:28.986796Z",
     "iopub.status.busy": "2022-03-08T21:03:28.986381Z",
     "iopub.status.idle": "2022-03-08T21:03:28.989346Z",
     "shell.execute_reply": "2022-03-08T21:03:28.989763Z"
    },
    "papermill": {
     "duration": 0.017849,
     "end_time": "2022-03-08T21:03:28.989889",
     "exception": false,
     "start_time": "2022-03-08T21:03:28.972040",
     "status": "completed"
    },
    "tags": [
     "injected-parameters"
    ]
   },
   "outputs": [],
   "source": [
    "# Parameters\n",
    "read_coverage = 30\n",
    "mincov = 10\n",
    "simulation_dir = \"simulations/alpha-10-cov-30\"\n",
    "iterations = 3\n",
    "sub_alpha = 10\n"
   ]
  },
  {
   "cell_type": "code",
   "execution_count": 3,
   "id": "ce5962e4-261c-4210-b39b-47044e28466b",
   "metadata": {
    "execution": {
     "iopub.execute_input": "2022-03-08T21:03:29.014807Z",
     "iopub.status.busy": "2022-03-08T21:03:29.014363Z",
     "iopub.status.idle": "2022-03-08T21:03:31.883518Z",
     "shell.execute_reply": "2022-03-08T21:03:31.884410Z"
    },
    "papermill": {
     "duration": 2.886065,
     "end_time": "2022-03-08T21:03:31.884744",
     "exception": false,
     "start_time": "2022-03-08T21:03:28.998679",
     "status": "completed"
    },
    "tags": []
   },
   "outputs": [],
   "source": [
    "from pathlib import Path\n",
    "import imp\n",
    "fp, pathname, description = imp.find_module('gdi_benchmark', ['../../lib'])\n",
    "gdi_benchmark = imp.load_module('gdi_benchmark', fp, pathname, description)\n",
    "\n",
    "simulation_dir_path = Path(simulation_dir)\n",
    "\n",
    "case_name = str(simulation_dir_path.name)\n",
    "reads_dir = simulation_dir_path / 'simulated_data' / 'reads'\n",
    "assemblies_dir = simulation_dir_path / 'simulated_data' / 'assemblies'\n",
    "index_reads_path = simulation_dir_path / 'index-reads'\n",
    "index_assemblies_path = simulation_dir_path / 'index-assemblies'\n",
    "output_reads_tree = index_reads_path / 'reads.tre'\n",
    "output_assemblies_tree = index_assemblies_path / 'assemblies.tre'\n",
    "reference_name = Path(reference_file).name.split('.')[0]"
   ]
  },
  {
   "cell_type": "markdown",
   "id": "f208279e-7558-47fc-9362-da29df92828a",
   "metadata": {
    "papermill": {
     "duration": 0.01036,
     "end_time": "2022-03-08T21:03:31.913484",
     "exception": false,
     "start_time": "2022-03-08T21:03:31.903124",
     "status": "completed"
    },
    "tags": []
   },
   "source": [
    "# 2. Index genomes"
   ]
  },
  {
   "cell_type": "code",
   "execution_count": 4,
   "id": "4e936f7c-2fcd-4188-b0e6-6b3ceb5cdcd2",
   "metadata": {
    "execution": {
     "iopub.execute_input": "2022-03-08T21:03:31.946156Z",
     "iopub.status.busy": "2022-03-08T21:03:31.934714Z",
     "iopub.status.idle": "2022-03-08T21:03:35.282065Z",
     "shell.execute_reply": "2022-03-08T21:03:35.282927Z"
    },
    "papermill": {
     "duration": 3.361888,
     "end_time": "2022-03-08T21:03:35.283222",
     "exception": false,
     "start_time": "2022-03-08T21:03:31.921334",
     "status": "completed"
    },
    "tags": []
   },
   "outputs": [
    {
     "name": "stdout",
     "output_type": "stream",
     "text": [
      "gdi, version 0.6.0.dev2\r\n"
     ]
    }
   ],
   "source": [
    "!gdi --version"
   ]
  },
  {
   "cell_type": "markdown",
   "id": "5409ecf8-2158-4361-9d2f-6b1a6c7c63a6",
   "metadata": {
    "papermill": {
     "duration": 0.010087,
     "end_time": "2022-03-08T21:03:35.310931",
     "exception": false,
     "start_time": "2022-03-08T21:03:35.300844",
     "status": "completed"
    },
    "tags": []
   },
   "source": [
    "## 2.1. Index reads"
   ]
  },
  {
   "cell_type": "code",
   "execution_count": 5,
   "id": "b5324f79-913b-4dac-8122-19ad5c0f24b2",
   "metadata": {
    "execution": {
     "iopub.execute_input": "2022-03-08T21:03:35.335420Z",
     "iopub.status.busy": "2022-03-08T21:03:35.334312Z",
     "iopub.status.idle": "2022-03-08T21:03:38.663787Z",
     "shell.execute_reply": "2022-03-08T21:03:38.664676Z"
    },
    "papermill": {
     "duration": 3.345959,
     "end_time": "2022-03-08T21:03:38.664979",
     "exception": false,
     "start_time": "2022-03-08T21:03:35.319020",
     "status": "completed"
    },
    "tags": []
   },
   "outputs": [
    {
     "name": "stdout",
     "output_type": "stream",
     "text": [
      "\u001b[32m2022-03-08 15:03:38\u001b[0m \u001b[1;30mWARNING:\u001b[0m \u001b[33m--skip-existing-samples is enabled but no --project-dir is set. Will not skip existing samples.\u001b[0m\r\n"
     ]
    }
   ],
   "source": [
    "input_genomes_file = simulation_dir_path / 'input-reads.tsv'\n",
    "\n",
    "!gdi input --absolute {reads_dir}/*.fq.gz > {input_genomes_file}"
   ]
  },
  {
   "cell_type": "code",
   "execution_count": 6,
   "id": "3d63e861-733e-46f2-8bce-bd1a2c7c7058",
   "metadata": {
    "execution": {
     "iopub.execute_input": "2022-03-08T21:03:38.709143Z",
     "iopub.status.busy": "2022-03-08T21:03:38.708464Z",
     "iopub.status.idle": "2022-03-08T21:12:07.514107Z",
     "shell.execute_reply": "2022-03-08T21:12:07.513073Z"
    },
    "papermill": {
     "duration": 508.830641,
     "end_time": "2022-03-08T21:12:07.514452",
     "exception": false,
     "start_time": "2022-03-08T21:03:38.683811",
     "status": "completed"
    },
    "tags": []
   },
   "outputs": [
    {
     "name": "stdout",
     "output_type": "stream",
     "text": [
      "\n",
      "Iteration 1 of index/analysis of 59 samples with 32 cores\n",
      "Removing any extra snakemake directories: ['snakemake-assemblies.1646773267.843922']\n"
     ]
    },
    {
     "name": "stdout",
     "output_type": "stream",
     "text": [
      "Creating new index: [gdi init simulations/alpha-10-cov-30/index-reads]\n"
     ]
    },
    {
     "name": "stdout",
     "output_type": "stream",
     "text": [
      "Creating a new index took 3.37 seconds\n",
      "Analysis running: [gdi --project-dir simulations/alpha-10-cov-30/index-reads --ncores 32 analysis --use-conda --no-load-data --reference-file simulations/reference/reference.fa.gz --kmer-size 31 --kmer-size 51 --kmer-size 71 --include-kmer --reads-mincov 10 --input-structured-genomes-file simulations/alpha-10-cov-30/input-reads.tsv]\n"
     ]
    },
    {
     "name": "stdout",
     "output_type": "stream",
     "text": [
      "Analysis took 1.99 minutes\n",
      "Index running: [gdi --project-dir simulations/alpha-10-cov-30/index-reads --ncores 32 load vcf-kmer --sample-batch-size 2000 --reference-file simulations/reference/reference.fa.gz /home/CSCScience.ca/apetkau/workspace/genomics-data-index-evaluation/evaluations/simulation/snakemake-assemblies.1646773426.7597246/gdi-input.fofn]\n"
     ]
    },
    {
     "name": "stdout",
     "output_type": "stream",
     "text": [
      "Indexing took 0.65 minutes\n",
      "Building tree: [gdi --project-dir simulations/alpha-10-cov-30/index-reads --ncores 32 rebuild tree --align-type full --extra-params '--fast -m GTR+F+R4' reference]\n"
     ]
    },
    {
     "name": "stdout",
     "output_type": "stream",
     "text": [
      "Building tree took 0.12 minutes\n"
     ]
    },
    {
     "name": "stderr",
     "output_type": "stream",
     "text": [
      "A reminder to myself to look for a Python solution for directory sizes (instead of running `du`)\n"
     ]
    },
    {
     "name": "stdout",
     "output_type": "stream",
     "text": [
      "\n",
      "Iteration 2 of index/analysis of 59 samples with 32 cores\n",
      "Removing any extra snakemake directories: ['snakemake-assemblies.1646773426.7597246']\n"
     ]
    },
    {
     "name": "stdout",
     "output_type": "stream",
     "text": [
      "Removing any existing indexes simulations/alpha-10-cov-30/index-reads\n",
      "Creating new index: [gdi init simulations/alpha-10-cov-30/index-reads]\n"
     ]
    },
    {
     "name": "stdout",
     "output_type": "stream",
     "text": [
      "Creating a new index took 3.29 seconds\n",
      "Analysis running: [gdi --project-dir simulations/alpha-10-cov-30/index-reads --ncores 32 analysis --use-conda --no-load-data --reference-file simulations/reference/reference.fa.gz --kmer-size 31 --kmer-size 51 --kmer-size 71 --include-kmer --reads-mincov 10 --input-structured-genomes-file simulations/alpha-10-cov-30/input-reads.tsv]\n"
     ]
    },
    {
     "name": "stdout",
     "output_type": "stream",
     "text": [
      "Analysis took 1.98 minutes\n",
      "Index running: [gdi --project-dir simulations/alpha-10-cov-30/index-reads --ncores 32 load vcf-kmer --sample-batch-size 2000 --reference-file simulations/reference/reference.fa.gz /home/CSCScience.ca/apetkau/workspace/genomics-data-index-evaluation/evaluations/simulation/snakemake-assemblies.1646773597.4991996/gdi-input.fofn]\n"
     ]
    },
    {
     "name": "stdout",
     "output_type": "stream",
     "text": [
      "Indexing took 0.64 minutes\n",
      "Building tree: [gdi --project-dir simulations/alpha-10-cov-30/index-reads --ncores 32 rebuild tree --align-type full --extra-params '--fast -m GTR+F+R4' reference]\n"
     ]
    },
    {
     "name": "stdout",
     "output_type": "stream",
     "text": [
      "Building tree took 0.12 minutes\n"
     ]
    },
    {
     "name": "stderr",
     "output_type": "stream",
     "text": [
      "Attempting to set global database_path_translator=<genomics_data_index.storage.model.db.DatabasePathTranslator.DatabasePathTranslator object at 0x7f05096ba0a0> but it is already set\n"
     ]
    },
    {
     "name": "stderr",
     "output_type": "stream",
     "text": [
      "A reminder to myself to look for a Python solution for directory sizes (instead of running `du`)\n"
     ]
    },
    {
     "name": "stdout",
     "output_type": "stream",
     "text": [
      "\n",
      "Iteration 3 of index/analysis of 59 samples with 32 cores\n",
      "Removing any extra snakemake directories: ['snakemake-assemblies.1646773597.4991996']\n"
     ]
    },
    {
     "name": "stdout",
     "output_type": "stream",
     "text": [
      "Removing any existing indexes simulations/alpha-10-cov-30/index-reads\n",
      "Creating new index: [gdi init simulations/alpha-10-cov-30/index-reads]\n"
     ]
    },
    {
     "name": "stdout",
     "output_type": "stream",
     "text": [
      "Creating a new index took 3.06 seconds\n",
      "Analysis running: [gdi --project-dir simulations/alpha-10-cov-30/index-reads --ncores 32 analysis --use-conda --no-load-data --reference-file simulations/reference/reference.fa.gz --kmer-size 31 --kmer-size 51 --kmer-size 71 --include-kmer --reads-mincov 10 --input-structured-genomes-file simulations/alpha-10-cov-30/input-reads.tsv]\n"
     ]
    },
    {
     "name": "stdout",
     "output_type": "stream",
     "text": [
      "Analysis took 1.97 minutes\n",
      "Index running: [gdi --project-dir simulations/alpha-10-cov-30/index-reads --ncores 32 load vcf-kmer --sample-batch-size 2000 --reference-file simulations/reference/reference.fa.gz /home/CSCScience.ca/apetkau/workspace/genomics-data-index-evaluation/evaluations/simulation/snakemake-assemblies.1646773766.5077698/gdi-input.fofn]\n"
     ]
    },
    {
     "name": "stdout",
     "output_type": "stream",
     "text": [
      "Indexing took 0.65 minutes\n",
      "Building tree: [gdi --project-dir simulations/alpha-10-cov-30/index-reads --ncores 32 rebuild tree --align-type full --extra-params '--fast -m GTR+F+R4' reference]\n"
     ]
    },
    {
     "name": "stdout",
     "output_type": "stream",
     "text": [
      "Building tree took 0.12 minutes\n"
     ]
    },
    {
     "name": "stderr",
     "output_type": "stream",
     "text": [
      "Attempting to set global database_path_translator=<genomics_data_index.storage.model.db.DatabasePathTranslator.DatabasePathTranslator object at 0x7f04d70e4a00> but it is already set\n"
     ]
    },
    {
     "name": "stderr",
     "output_type": "stream",
     "text": [
      "A reminder to myself to look for a Python solution for directory sizes (instead of running `du`)\n"
     ]
    }
   ],
   "source": [
    "results_handler = gdi_benchmark.BenchmarkResultsHandler(name=f'{case_name} reads')\n",
    "benchmarker = gdi_benchmark.IndexBenchmarker(benchmark_results_handler=results_handler,\n",
    "                                             index_path=index_reads_path, input_files_file=input_genomes_file,\n",
    "                                             reference_file=reference_file, mincov=mincov, build_tree=True,\n",
    "                                             ncores=ncores)\n",
    "\n",
    "benchmark_df = benchmarker.benchmark(iterations=iterations)"
   ]
  },
  {
   "cell_type": "code",
   "execution_count": 7,
   "id": "3bcb6da7-0164-47f2-abdd-a4c159da1e3b",
   "metadata": {
    "execution": {
     "iopub.execute_input": "2022-03-08T21:12:07.566102Z",
     "iopub.status.busy": "2022-03-08T21:12:07.565690Z",
     "iopub.status.idle": "2022-03-08T21:12:07.589462Z",
     "shell.execute_reply": "2022-03-08T21:12:07.589848Z"
    },
    "papermill": {
     "duration": 0.050228,
     "end_time": "2022-03-08T21:12:07.589977",
     "exception": false,
     "start_time": "2022-03-08T21:12:07.539749",
     "status": "completed"
    },
    "tags": []
   },
   "outputs": [
    {
     "data": {
      "text/html": [
       "<div>\n",
       "<style scoped>\n",
       "    .dataframe tbody tr th:only-of-type {\n",
       "        vertical-align: middle;\n",
       "    }\n",
       "\n",
       "    .dataframe tbody tr th {\n",
       "        vertical-align: top;\n",
       "    }\n",
       "\n",
       "    .dataframe thead th {\n",
       "        text-align: right;\n",
       "    }\n",
       "</style>\n",
       "<table border=\"1\" class=\"dataframe\">\n",
       "  <thead>\n",
       "    <tr style=\"text-align: right;\">\n",
       "      <th></th>\n",
       "      <th>Name</th>\n",
       "      <th>Reference name</th>\n",
       "      <th>Iteration</th>\n",
       "      <th>Number samples</th>\n",
       "      <th>Number features (all)</th>\n",
       "      <th>Number features (no unknown)</th>\n",
       "      <th>Number cores</th>\n",
       "      <th>Reference length</th>\n",
       "      <th>Analysis runtime</th>\n",
       "      <th>Analysis memory (max)</th>\n",
       "      <th>...</th>\n",
       "      <th>Analysis disk uage</th>\n",
       "      <th>Index runtime</th>\n",
       "      <th>Index memory (max)</th>\n",
       "      <th>Index memory (max/process)</th>\n",
       "      <th>Index size</th>\n",
       "      <th>Tree runtime</th>\n",
       "      <th>Tree memory (max)</th>\n",
       "      <th>Tree memory (max/process)</th>\n",
       "      <th>Total runtime</th>\n",
       "      <th>Max memory</th>\n",
       "    </tr>\n",
       "  </thead>\n",
       "  <tbody>\n",
       "    <tr>\n",
       "      <th>0</th>\n",
       "      <td>alpha-10-cov-30 reads</td>\n",
       "      <td>reference</td>\n",
       "      <td>1</td>\n",
       "      <td>59</td>\n",
       "      <td>21411</td>\n",
       "      <td>1712</td>\n",
       "      <td>32</td>\n",
       "      <td>19699</td>\n",
       "      <td>119.17</td>\n",
       "      <td>2.967532e+09</td>\n",
       "      <td>...</td>\n",
       "      <td>2.928333e+09</td>\n",
       "      <td>39.13</td>\n",
       "      <td>6.322356e+09</td>\n",
       "      <td>1.304093e+09</td>\n",
       "      <td>3801088.0</td>\n",
       "      <td>6.91</td>\n",
       "      <td>246591488.0</td>\n",
       "      <td>234483712.0</td>\n",
       "      <td>165.21</td>\n",
       "      <td>6.322356e+09</td>\n",
       "    </tr>\n",
       "    <tr>\n",
       "      <th>0</th>\n",
       "      <td>alpha-10-cov-30 reads</td>\n",
       "      <td>reference</td>\n",
       "      <td>2</td>\n",
       "      <td>59</td>\n",
       "      <td>21411</td>\n",
       "      <td>1712</td>\n",
       "      <td>32</td>\n",
       "      <td>19699</td>\n",
       "      <td>118.80</td>\n",
       "      <td>2.916671e+09</td>\n",
       "      <td>...</td>\n",
       "      <td>2.928325e+09</td>\n",
       "      <td>38.17</td>\n",
       "      <td>6.328304e+09</td>\n",
       "      <td>1.299395e+09</td>\n",
       "      <td>3805184.0</td>\n",
       "      <td>6.91</td>\n",
       "      <td>245764096.0</td>\n",
       "      <td>233943040.0</td>\n",
       "      <td>163.88</td>\n",
       "      <td>6.328304e+09</td>\n",
       "    </tr>\n",
       "    <tr>\n",
       "      <th>0</th>\n",
       "      <td>alpha-10-cov-30 reads</td>\n",
       "      <td>reference</td>\n",
       "      <td>3</td>\n",
       "      <td>59</td>\n",
       "      <td>21411</td>\n",
       "      <td>1712</td>\n",
       "      <td>32</td>\n",
       "      <td>19699</td>\n",
       "      <td>118.18</td>\n",
       "      <td>2.896396e+09</td>\n",
       "      <td>...</td>\n",
       "      <td>2.928325e+09</td>\n",
       "      <td>38.69</td>\n",
       "      <td>6.337610e+09</td>\n",
       "      <td>1.305383e+09</td>\n",
       "      <td>3809280.0</td>\n",
       "      <td>6.84</td>\n",
       "      <td>246730752.0</td>\n",
       "      <td>234696704.0</td>\n",
       "      <td>163.71</td>\n",
       "      <td>6.337610e+09</td>\n",
       "    </tr>\n",
       "  </tbody>\n",
       "</table>\n",
       "<p>3 rows × 21 columns</p>\n",
       "</div>"
      ],
      "text/plain": [
       "                    Name Reference name  Iteration  Number samples  \\\n",
       "0  alpha-10-cov-30 reads      reference          1              59   \n",
       "0  alpha-10-cov-30 reads      reference          2              59   \n",
       "0  alpha-10-cov-30 reads      reference          3              59   \n",
       "\n",
       "   Number features (all)  Number features (no unknown)  Number cores  \\\n",
       "0                  21411                          1712            32   \n",
       "0                  21411                          1712            32   \n",
       "0                  21411                          1712            32   \n",
       "\n",
       "   Reference length  Analysis runtime  Analysis memory (max)  ...  \\\n",
       "0             19699            119.17           2.967532e+09  ...   \n",
       "0             19699            118.80           2.916671e+09  ...   \n",
       "0             19699            118.18           2.896396e+09  ...   \n",
       "\n",
       "   Analysis disk uage  Index runtime  Index memory (max)  \\\n",
       "0        2.928333e+09          39.13        6.322356e+09   \n",
       "0        2.928325e+09          38.17        6.328304e+09   \n",
       "0        2.928325e+09          38.69        6.337610e+09   \n",
       "\n",
       "   Index memory (max/process)  Index size  Tree runtime  Tree memory (max)  \\\n",
       "0                1.304093e+09   3801088.0          6.91        246591488.0   \n",
       "0                1.299395e+09   3805184.0          6.91        245764096.0   \n",
       "0                1.305383e+09   3809280.0          6.84        246730752.0   \n",
       "\n",
       "   Tree memory (max/process)  Total runtime    Max memory  \n",
       "0                234483712.0         165.21  6.322356e+09  \n",
       "0                233943040.0         163.88  6.328304e+09  \n",
       "0                234696704.0         163.71  6.337610e+09  \n",
       "\n",
       "[3 rows x 21 columns]"
      ]
     },
     "execution_count": 7,
     "metadata": {},
     "output_type": "execute_result"
    }
   ],
   "source": [
    "benchmark_df"
   ]
  },
  {
   "cell_type": "code",
   "execution_count": 8,
   "id": "535a9ccc-ab9c-4919-806f-128e1efd2389",
   "metadata": {
    "execution": {
     "iopub.execute_input": "2022-03-08T21:12:07.620592Z",
     "iopub.status.busy": "2022-03-08T21:12:07.619048Z",
     "iopub.status.idle": "2022-03-08T21:12:07.625570Z",
     "shell.execute_reply": "2022-03-08T21:12:07.625234Z"
    },
    "papermill": {
     "duration": 0.022404,
     "end_time": "2022-03-08T21:12:07.625654",
     "exception": false,
     "start_time": "2022-03-08T21:12:07.603250",
     "status": "completed"
    },
    "tags": []
   },
   "outputs": [],
   "source": [
    "index_reads_runtime = simulation_dir_path / 'reads-index-info.tsv'\n",
    "benchmark_df.to_csv(index_reads_runtime, sep='\\t', index=False)"
   ]
  },
  {
   "cell_type": "markdown",
   "id": "c331578f-4026-4a9f-a3ba-288814b02ed2",
   "metadata": {
    "papermill": {
     "duration": 0.011282,
     "end_time": "2022-03-08T21:12:07.651232",
     "exception": false,
     "start_time": "2022-03-08T21:12:07.639950",
     "status": "completed"
    },
    "tags": []
   },
   "source": [
    "## 2.2. Index assemblies"
   ]
  },
  {
   "cell_type": "code",
   "execution_count": 9,
   "id": "6e6664f4-94ee-4c45-b1fc-e048b387fa49",
   "metadata": {
    "execution": {
     "iopub.execute_input": "2022-03-08T21:12:07.691680Z",
     "iopub.status.busy": "2022-03-08T21:12:07.680362Z",
     "iopub.status.idle": "2022-03-08T21:12:10.992080Z",
     "shell.execute_reply": "2022-03-08T21:12:10.993024Z"
    },
    "papermill": {
     "duration": 3.330817,
     "end_time": "2022-03-08T21:12:10.993368",
     "exception": false,
     "start_time": "2022-03-08T21:12:07.662551",
     "status": "completed"
    },
    "tags": []
   },
   "outputs": [
    {
     "name": "stdout",
     "output_type": "stream",
     "text": [
      "\u001b[32m2022-03-08 15:12:10\u001b[0m \u001b[1;30mWARNING:\u001b[0m \u001b[33m--skip-existing-samples is enabled but no --project-dir is set. Will not skip existing samples.\u001b[0m\r\n"
     ]
    }
   ],
   "source": [
    "input_genomes_file = simulation_dir_path / 'input-assemblies.tsv'\n",
    "\n",
    "!gdi input --absolute {assemblies_dir}/*.fa.gz > {input_genomes_file}"
   ]
  },
  {
   "cell_type": "code",
   "execution_count": 10,
   "id": "0a1e62f3-3b0c-4a90-a7fe-f0bc1094e350",
   "metadata": {
    "execution": {
     "iopub.execute_input": "2022-03-08T21:12:11.042023Z",
     "iopub.status.busy": "2022-03-08T21:12:11.041601Z",
     "iopub.status.idle": "2022-03-08T21:20:31.268762Z",
     "shell.execute_reply": "2022-03-08T21:20:31.267746Z"
    },
    "papermill": {
     "duration": 500.250818,
     "end_time": "2022-03-08T21:20:31.269025",
     "exception": false,
     "start_time": "2022-03-08T21:12:11.018207",
     "status": "completed"
    },
    "tags": []
   },
   "outputs": [
    {
     "name": "stdout",
     "output_type": "stream",
     "text": [
      "\n",
      "Iteration 1 of index/analysis of 59 samples with 32 cores\n",
      "Removing any extra snakemake directories: ['snakemake-assemblies.1646773766.5077698']\n"
     ]
    },
    {
     "name": "stdout",
     "output_type": "stream",
     "text": [
      "Creating new index: [gdi init simulations/alpha-10-cov-30/index-assemblies]\n"
     ]
    },
    {
     "name": "stdout",
     "output_type": "stream",
     "text": [
      "Creating a new index took 3.09 seconds\n",
      "Analysis running: [gdi --project-dir simulations/alpha-10-cov-30/index-assemblies --ncores 32 analysis --use-conda --no-load-data --reference-file simulations/reference/reference.fa.gz --kmer-size 31 --kmer-size 51 --kmer-size 71 --include-kmer --reads-mincov 10 --input-structured-genomes-file simulations/alpha-10-cov-30/input-assemblies.tsv]\n"
     ]
    },
    {
     "name": "stdout",
     "output_type": "stream",
     "text": [
      "Analysis took 1.97 minutes\n",
      "Index running: [gdi --project-dir simulations/alpha-10-cov-30/index-assemblies --ncores 32 load vcf-kmer --sample-batch-size 2000 --reference-file simulations/reference/reference.fa.gz /home/CSCScience.ca/apetkau/workspace/genomics-data-index-evaluation/evaluations/simulation/snakemake-assemblies.1646773938.9240851/gdi-input.fofn]\n"
     ]
    },
    {
     "name": "stdout",
     "output_type": "stream",
     "text": [
      "Indexing took 0.64 minutes\n",
      "Building tree: [gdi --project-dir simulations/alpha-10-cov-30/index-assemblies --ncores 32 rebuild tree --align-type full --extra-params '--fast -m GTR+F+R4' reference]\n"
     ]
    },
    {
     "name": "stdout",
     "output_type": "stream",
     "text": [
      "Building tree took 0.10 minutes\n"
     ]
    },
    {
     "name": "stderr",
     "output_type": "stream",
     "text": [
      "Attempting to set global database_path_translator=<genomics_data_index.storage.model.db.DatabasePathTranslator.DatabasePathTranslator object at 0x7f0508625bb0> but it is already set\n"
     ]
    },
    {
     "name": "stderr",
     "output_type": "stream",
     "text": [
      "A reminder to myself to look for a Python solution for directory sizes (instead of running `du`)\n"
     ]
    },
    {
     "name": "stdout",
     "output_type": "stream",
     "text": [
      "\n",
      "Iteration 2 of index/analysis of 59 samples with 32 cores\n",
      "Removing any extra snakemake directories: ['snakemake-assemblies.1646773938.9240851']\n"
     ]
    },
    {
     "name": "stdout",
     "output_type": "stream",
     "text": [
      "Removing any existing indexes simulations/alpha-10-cov-30/index-assemblies\n",
      "Creating new index: [gdi init simulations/alpha-10-cov-30/index-assemblies]\n"
     ]
    },
    {
     "name": "stdout",
     "output_type": "stream",
     "text": [
      "Creating a new index took 3.31 seconds\n",
      "Analysis running: [gdi --project-dir simulations/alpha-10-cov-30/index-assemblies --ncores 32 analysis --use-conda --no-load-data --reference-file simulations/reference/reference.fa.gz --kmer-size 31 --kmer-size 51 --kmer-size 71 --include-kmer --reads-mincov 10 --input-structured-genomes-file simulations/alpha-10-cov-30/input-assemblies.tsv]\n"
     ]
    },
    {
     "name": "stdout",
     "output_type": "stream",
     "text": [
      "Analysis took 1.95 minutes\n",
      "Index running: [gdi --project-dir simulations/alpha-10-cov-30/index-assemblies --ncores 32 load vcf-kmer --sample-batch-size 2000 --reference-file simulations/reference/reference.fa.gz /home/CSCScience.ca/apetkau/workspace/genomics-data-index-evaluation/evaluations/simulation/snakemake-assemblies.1646774106.7017634/gdi-input.fofn]\n"
     ]
    },
    {
     "name": "stdout",
     "output_type": "stream",
     "text": [
      "Indexing took 0.68 minutes\n",
      "Building tree: [gdi --project-dir simulations/alpha-10-cov-30/index-assemblies --ncores 32 rebuild tree --align-type full --extra-params '--fast -m GTR+F+R4' reference]\n"
     ]
    },
    {
     "name": "stdout",
     "output_type": "stream",
     "text": [
      "Building tree took 0.10 minutes\n"
     ]
    },
    {
     "name": "stderr",
     "output_type": "stream",
     "text": [
      "Attempting to set global database_path_translator=<genomics_data_index.storage.model.db.DatabasePathTranslator.DatabasePathTranslator object at 0x7f04c668bfa0> but it is already set\n"
     ]
    },
    {
     "name": "stderr",
     "output_type": "stream",
     "text": [
      "A reminder to myself to look for a Python solution for directory sizes (instead of running `du`)\n"
     ]
    },
    {
     "name": "stdout",
     "output_type": "stream",
     "text": [
      "\n",
      "Iteration 3 of index/analysis of 59 samples with 32 cores\n",
      "Removing any extra snakemake directories: ['snakemake-assemblies.1646774106.7017634']\n"
     ]
    },
    {
     "name": "stdout",
     "output_type": "stream",
     "text": [
      "Removing any existing indexes simulations/alpha-10-cov-30/index-assemblies\n",
      "Creating new index: [gdi init simulations/alpha-10-cov-30/index-assemblies]\n"
     ]
    },
    {
     "name": "stdout",
     "output_type": "stream",
     "text": [
      "Creating a new index took 3.35 seconds\n",
      "Analysis running: [gdi --project-dir simulations/alpha-10-cov-30/index-assemblies --ncores 32 analysis --use-conda --no-load-data --reference-file simulations/reference/reference.fa.gz --kmer-size 31 --kmer-size 51 --kmer-size 71 --include-kmer --reads-mincov 10 --input-structured-genomes-file simulations/alpha-10-cov-30/input-assemblies.tsv]\n"
     ]
    },
    {
     "name": "stdout",
     "output_type": "stream",
     "text": [
      "Analysis took 1.87 minutes\n",
      "Index running: [gdi --project-dir simulations/alpha-10-cov-30/index-assemblies --ncores 32 load vcf-kmer --sample-batch-size 2000 --reference-file simulations/reference/reference.fa.gz /home/CSCScience.ca/apetkau/workspace/genomics-data-index-evaluation/evaluations/simulation/snakemake-assemblies.1646774275.2533612/gdi-input.fofn]\n"
     ]
    },
    {
     "name": "stdout",
     "output_type": "stream",
     "text": [
      "Indexing took 0.67 minutes\n",
      "Building tree: [gdi --project-dir simulations/alpha-10-cov-30/index-assemblies --ncores 32 rebuild tree --align-type full --extra-params '--fast -m GTR+F+R4' reference]\n"
     ]
    },
    {
     "name": "stdout",
     "output_type": "stream",
     "text": [
      "Building tree took 0.10 minutes\n"
     ]
    },
    {
     "name": "stderr",
     "output_type": "stream",
     "text": [
      "Attempting to set global database_path_translator=<genomics_data_index.storage.model.db.DatabasePathTranslator.DatabasePathTranslator object at 0x7f04c6613dc0> but it is already set\n"
     ]
    },
    {
     "name": "stderr",
     "output_type": "stream",
     "text": [
      "A reminder to myself to look for a Python solution for directory sizes (instead of running `du`)\n"
     ]
    }
   ],
   "source": [
    "results_handler = gdi_benchmark.BenchmarkResultsHandler(name=f'{case_name} assemblies')\n",
    "benchmarker = gdi_benchmark.IndexBenchmarker(benchmark_results_handler=results_handler,\n",
    "                                             index_path=index_assemblies_path, input_files_file=input_genomes_file,\n",
    "                                             reference_file=reference_file, mincov=mincov, build_tree=True,\n",
    "                                             ncores=ncores)\n",
    "\n",
    "benchmark_df = benchmarker.benchmark(iterations=iterations)"
   ]
  },
  {
   "cell_type": "code",
   "execution_count": 11,
   "id": "a6d55a9d-be2f-4851-b66c-04b5ebd597a1",
   "metadata": {
    "execution": {
     "iopub.execute_input": "2022-03-08T21:20:31.349343Z",
     "iopub.status.busy": "2022-03-08T21:20:31.330420Z",
     "iopub.status.idle": "2022-03-08T21:20:31.352316Z",
     "shell.execute_reply": "2022-03-08T21:20:31.353066Z"
    },
    "papermill": {
     "duration": 0.052977,
     "end_time": "2022-03-08T21:20:31.353292",
     "exception": false,
     "start_time": "2022-03-08T21:20:31.300315",
     "status": "completed"
    },
    "tags": []
   },
   "outputs": [
    {
     "data": {
      "text/html": [
       "<div>\n",
       "<style scoped>\n",
       "    .dataframe tbody tr th:only-of-type {\n",
       "        vertical-align: middle;\n",
       "    }\n",
       "\n",
       "    .dataframe tbody tr th {\n",
       "        vertical-align: top;\n",
       "    }\n",
       "\n",
       "    .dataframe thead th {\n",
       "        text-align: right;\n",
       "    }\n",
       "</style>\n",
       "<table border=\"1\" class=\"dataframe\">\n",
       "  <thead>\n",
       "    <tr style=\"text-align: right;\">\n",
       "      <th></th>\n",
       "      <th>Name</th>\n",
       "      <th>Reference name</th>\n",
       "      <th>Iteration</th>\n",
       "      <th>Number samples</th>\n",
       "      <th>Number features (all)</th>\n",
       "      <th>Number features (no unknown)</th>\n",
       "      <th>Number cores</th>\n",
       "      <th>Reference length</th>\n",
       "      <th>Analysis runtime</th>\n",
       "      <th>Analysis memory (max)</th>\n",
       "      <th>...</th>\n",
       "      <th>Analysis disk uage</th>\n",
       "      <th>Index runtime</th>\n",
       "      <th>Index memory (max)</th>\n",
       "      <th>Index memory (max/process)</th>\n",
       "      <th>Index size</th>\n",
       "      <th>Tree runtime</th>\n",
       "      <th>Tree memory (max)</th>\n",
       "      <th>Tree memory (max/process)</th>\n",
       "      <th>Total runtime</th>\n",
       "      <th>Max memory</th>\n",
       "    </tr>\n",
       "  </thead>\n",
       "  <tbody>\n",
       "    <tr>\n",
       "      <th>0</th>\n",
       "      <td>alpha-10-cov-30 assemblies</td>\n",
       "      <td>reference</td>\n",
       "      <td>1</td>\n",
       "      <td>59</td>\n",
       "      <td>19699</td>\n",
       "      <td>0</td>\n",
       "      <td>32</td>\n",
       "      <td>19699</td>\n",
       "      <td>118.12</td>\n",
       "      <td>1.206112e+09</td>\n",
       "      <td>...</td>\n",
       "      <td>2.198925e+09</td>\n",
       "      <td>38.28</td>\n",
       "      <td>6.365295e+09</td>\n",
       "      <td>1.340174e+09</td>\n",
       "      <td>3190784.0</td>\n",
       "      <td>6.07</td>\n",
       "      <td>245137408.0</td>\n",
       "      <td>234938368.0</td>\n",
       "      <td>162.47</td>\n",
       "      <td>6.365295e+09</td>\n",
       "    </tr>\n",
       "    <tr>\n",
       "      <th>0</th>\n",
       "      <td>alpha-10-cov-30 assemblies</td>\n",
       "      <td>reference</td>\n",
       "      <td>2</td>\n",
       "      <td>59</td>\n",
       "      <td>19699</td>\n",
       "      <td>0</td>\n",
       "      <td>32</td>\n",
       "      <td>19699</td>\n",
       "      <td>116.94</td>\n",
       "      <td>1.343312e+09</td>\n",
       "      <td>...</td>\n",
       "      <td>2.198929e+09</td>\n",
       "      <td>40.49</td>\n",
       "      <td>6.344606e+09</td>\n",
       "      <td>1.340359e+09</td>\n",
       "      <td>3186688.0</td>\n",
       "      <td>6.02</td>\n",
       "      <td>243814400.0</td>\n",
       "      <td>233803776.0</td>\n",
       "      <td>163.45</td>\n",
       "      <td>6.344606e+09</td>\n",
       "    </tr>\n",
       "    <tr>\n",
       "      <th>0</th>\n",
       "      <td>alpha-10-cov-30 assemblies</td>\n",
       "      <td>reference</td>\n",
       "      <td>3</td>\n",
       "      <td>59</td>\n",
       "      <td>19699</td>\n",
       "      <td>0</td>\n",
       "      <td>32</td>\n",
       "      <td>19699</td>\n",
       "      <td>112.27</td>\n",
       "      <td>1.402098e+09</td>\n",
       "      <td>...</td>\n",
       "      <td>2.198929e+09</td>\n",
       "      <td>40.18</td>\n",
       "      <td>6.417986e+09</td>\n",
       "      <td>1.340617e+09</td>\n",
       "      <td>3198976.0</td>\n",
       "      <td>5.91</td>\n",
       "      <td>244817920.0</td>\n",
       "      <td>234688512.0</td>\n",
       "      <td>158.36</td>\n",
       "      <td>6.417986e+09</td>\n",
       "    </tr>\n",
       "  </tbody>\n",
       "</table>\n",
       "<p>3 rows × 21 columns</p>\n",
       "</div>"
      ],
      "text/plain": [
       "                         Name Reference name  Iteration  Number samples  \\\n",
       "0  alpha-10-cov-30 assemblies      reference          1              59   \n",
       "0  alpha-10-cov-30 assemblies      reference          2              59   \n",
       "0  alpha-10-cov-30 assemblies      reference          3              59   \n",
       "\n",
       "   Number features (all)  Number features (no unknown)  Number cores  \\\n",
       "0                  19699                             0            32   \n",
       "0                  19699                             0            32   \n",
       "0                  19699                             0            32   \n",
       "\n",
       "   Reference length  Analysis runtime  Analysis memory (max)  ...  \\\n",
       "0             19699            118.12           1.206112e+09  ...   \n",
       "0             19699            116.94           1.343312e+09  ...   \n",
       "0             19699            112.27           1.402098e+09  ...   \n",
       "\n",
       "   Analysis disk uage  Index runtime  Index memory (max)  \\\n",
       "0        2.198925e+09          38.28        6.365295e+09   \n",
       "0        2.198929e+09          40.49        6.344606e+09   \n",
       "0        2.198929e+09          40.18        6.417986e+09   \n",
       "\n",
       "   Index memory (max/process)  Index size  Tree runtime  Tree memory (max)  \\\n",
       "0                1.340174e+09   3190784.0          6.07        245137408.0   \n",
       "0                1.340359e+09   3186688.0          6.02        243814400.0   \n",
       "0                1.340617e+09   3198976.0          5.91        244817920.0   \n",
       "\n",
       "   Tree memory (max/process)  Total runtime    Max memory  \n",
       "0                234938368.0         162.47  6.365295e+09  \n",
       "0                233803776.0         163.45  6.344606e+09  \n",
       "0                234688512.0         158.36  6.417986e+09  \n",
       "\n",
       "[3 rows x 21 columns]"
      ]
     },
     "execution_count": 11,
     "metadata": {},
     "output_type": "execute_result"
    }
   ],
   "source": [
    "benchmark_df"
   ]
  },
  {
   "cell_type": "code",
   "execution_count": 12,
   "id": "e1a6d962-50bc-4c8d-a6f2-3a661da706b4",
   "metadata": {
    "execution": {
     "iopub.execute_input": "2022-03-08T21:20:31.408538Z",
     "iopub.status.busy": "2022-03-08T21:20:31.406332Z",
     "iopub.status.idle": "2022-03-08T21:20:31.411823Z",
     "shell.execute_reply": "2022-03-08T21:20:31.411491Z"
    },
    "papermill": {
     "duration": 0.028469,
     "end_time": "2022-03-08T21:20:31.411912",
     "exception": false,
     "start_time": "2022-03-08T21:20:31.383443",
     "status": "completed"
    },
    "tags": []
   },
   "outputs": [],
   "source": [
    "index_assemblies_runtime = simulation_dir_path / 'assemblies-index-info.tsv'\n",
    "benchmark_df.to_csv(index_assemblies_runtime, sep='\\t', index=False)"
   ]
  },
  {
   "cell_type": "markdown",
   "id": "6cb7673b-9f85-4c43-b2e2-93538497a196",
   "metadata": {
    "papermill": {
     "duration": 0.016862,
     "end_time": "2022-03-08T21:20:31.448000",
     "exception": false,
     "start_time": "2022-03-08T21:20:31.431138",
     "status": "completed"
    },
    "tags": []
   },
   "source": [
    "# 3. Export trees"
   ]
  },
  {
   "cell_type": "code",
   "execution_count": 13,
   "id": "5280f82c-5434-4391-8c44-b937a7c95bd5",
   "metadata": {
    "execution": {
     "iopub.execute_input": "2022-03-08T21:20:31.499224Z",
     "iopub.status.busy": "2022-03-08T21:20:31.490020Z",
     "iopub.status.idle": "2022-03-08T21:20:38.379030Z",
     "shell.execute_reply": "2022-03-08T21:20:38.379891Z"
    },
    "papermill": {
     "duration": 6.915372,
     "end_time": "2022-03-08T21:20:38.380210",
     "exception": false,
     "start_time": "2022-03-08T21:20:31.464838",
     "status": "completed"
    },
    "tags": []
   },
   "outputs": [
    {
     "name": "stdout",
     "output_type": "stream",
     "text": [
      "\u001b[32m2022-03-08 15:20:34\u001b[0m \u001b[1;30mERROR:\u001b[0m \u001b[31mreference_genome=[<Reference(id=1, name=reference, length=19699)>] does not have a tree\u001b[0m\r\n"
     ]
    },
    {
     "name": "stdout",
     "output_type": "stream",
     "text": [
      "Wrote assemblies tree to simulations/alpha-10-cov-30/index-assemblies/assemblies.tre\n"
     ]
    },
    {
     "name": "stdout",
     "output_type": "stream",
     "text": [
      "\u001b[32m2022-03-08 15:20:37\u001b[0m \u001b[1;30mERROR:\u001b[0m \u001b[31mreference_genome=[<Reference(id=1, name=reference, length=19699)>] does not have a tree\u001b[0m\r\n"
     ]
    },
    {
     "name": "stdout",
     "output_type": "stream",
     "text": [
      "Wrote assemblies tree to simulations/alpha-10-cov-30/index-reads/reads.tre\n"
     ]
    }
   ],
   "source": [
    "!gdi --project-dir {index_assemblies_path} export tree {reference_name} > {output_assemblies_tree}\n",
    "print(f'Wrote assemblies tree to {output_assemblies_tree}')\n",
    "\n",
    "!gdi --project-dir {index_reads_path} export tree {reference_name} > {output_reads_tree}\n",
    "print(f'Wrote assemblies tree to {output_reads_tree}')"
   ]
  }
 ],
 "metadata": {
  "kernelspec": {
   "display_name": "Python 3 (ipykernel)",
   "language": "python",
   "name": "python3"
  },
  "language_info": {
   "codemirror_mode": {
    "name": "ipython",
    "version": 3
   },
   "file_extension": ".py",
   "mimetype": "text/x-python",
   "name": "python",
   "nbconvert_exporter": "python",
   "pygments_lexer": "ipython3",
   "version": "3.8.12"
  },
  "papermill": {
   "default_parameters": {},
   "duration": 1031.442827,
   "end_time": "2022-03-08T21:20:38.938940",
   "environment_variables": {},
   "exception": null,
   "input_path": "template-3-index-genomes.ipynb",
   "output_path": "3-index-genomes.simulation-alpha-10.ipynb",
   "parameters": {
    "iterations": 3,
    "mincov": 10,
    "read_coverage": 30,
    "simulation_dir": "simulations/alpha-10-cov-30",
    "sub_alpha": 10
   },
   "start_time": "2022-03-08T21:03:27.496113",
   "version": "2.3.4"
  }
 },
 "nbformat": 4,
 "nbformat_minor": 5
}