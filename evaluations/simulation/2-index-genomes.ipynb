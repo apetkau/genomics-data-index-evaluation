{
 "cells": [
  {
   "cell_type": "markdown",
   "id": "ecf45167-e286-4fca-b564-3625ed5eb452",
   "metadata": {},
   "source": [
    "# 1. Initialize index"
   ]
  },
  {
   "cell_type": "code",
   "execution_count": 1,
   "id": "9402cfbf-8faa-4af5-8af3-9f3439129e7b",
   "metadata": {},
   "outputs": [
    {
     "name": "stdout",
     "output_type": "stream",
     "text": [
      "gdi, version 0.2.0\n",
      "Initializing empty project in [index]\n"
     ]
    }
   ],
   "source": [
    "from pathlib import Path\n",
    "from os import mkdir\n",
    "from shutil import rmtree\n",
    "\n",
    "index_path = Path('index')\n",
    "\n",
    "if index_path.exists():\n",
    "    rmtree(index_path)\n",
    "\n",
    "!gdi --version\n",
    "!gdi init {index_path}"
   ]
  },
  {
   "cell_type": "markdown",
   "id": "f208279e-7558-47fc-9362-da29df92828a",
   "metadata": {},
   "source": [
    "# 2. Index genomes"
   ]
  },
  {
   "cell_type": "code",
   "execution_count": 2,
   "id": "3b5373df-88ea-4336-abf8-d42455f750d6",
   "metadata": {},
   "outputs": [
    {
     "name": "stdout",
     "output_type": "stream",
     "text": [
      "\u001b[32m2021-08-17 16:36:47\u001b[0m \u001b[1;30mINFO:\u001b[0m Automatically structuring 118 input files into assemblies/reads\n",
      "\u001b[32m2021-08-17 16:36:47\u001b[0m \u001b[1;30mINFO:\u001b[0m Processing 59 genomes to identify mutations\n",
      "\u001b[32m2021-08-17 16:36:47\u001b[0m \u001b[1;30mINFO:\u001b[0m Cannot use snpeff for reference file [input/S_HeidelbergSL476.fasta.gz], no snpeff annotations are included\n",
      "\u001b[32m2021-08-17 16:36:47\u001b[0m \u001b[1;30mINFO:\u001b[0m Running Snakemake for rule all\n",
      "\u001b[32m2021-08-17 16:46:05\u001b[0m \u001b[1;30mINFO:\u001b[0m Finished running snakemake.\n",
      "\u001b[32m2021-08-17 16:46:05\u001b[0m \u001b[1;30mINFO:\u001b[0m Indexing processed VCF files defined in [/home/CSCScience.ca/apetkau/workspace/genomics-data-index-evaluation/evaluations/simulation/snakemake-assemblies.1629236207.654072/gdi-input.fofn]\n",
      "\u001b[32m2021-08-17 16:46:05\u001b[0m \u001b[1;30mWARNING:\u001b[0m \u001b[33mAttempting to set global database_path_translator=<genomics_data_index.storage.model.db.DatabasePathTranslator.DatabasePathTranslator object at 0x7fc07ec2f6a0> but it is already set\u001b[0m\n",
      "\u001b[32m2021-08-17 16:46:05\u001b[0m \u001b[1;30mINFO:\u001b[0m Attempting to load reference genome=[input/S_HeidelbergSL476.fasta.gz]\n",
      "\u001b[32m2021-08-17 16:46:06\u001b[0m \u001b[1;30mINFO:\u001b[0m Sample batch 1/1: Stage 1/2 (Insert): Processed 0% (0/59) samples\n",
      "\u001b[32m2021-08-17 16:46:10\u001b[0m \u001b[1;30mINFO:\u001b[0m Sample batch 1/1: Stage 1/2 (Insert): Processed 8% (5/59) samples\n",
      "\u001b[32m2021-08-17 16:46:10\u001b[0m \u001b[1;30mINFO:\u001b[0m Sample batch 1/1: Stage 1/2 (Insert): Processed 17% (10/59) samples\n",
      "\u001b[32m2021-08-17 16:46:10\u001b[0m \u001b[1;30mINFO:\u001b[0m Sample batch 1/1: Stage 1/2 (Insert): Processed 25% (15/59) samples\n",
      "\u001b[32m2021-08-17 16:46:11\u001b[0m \u001b[1;30mINFO:\u001b[0m Sample batch 1/1: Stage 1/2 (Insert): Processed 34% (20/59) samples\n",
      "\u001b[32m2021-08-17 16:46:12\u001b[0m \u001b[1;30mINFO:\u001b[0m Sample batch 1/1: Stage 1/2 (Insert): Processed 42% (25/59) samples\n",
      "\u001b[32m2021-08-17 16:46:13\u001b[0m \u001b[1;30mINFO:\u001b[0m Sample batch 1/1: Stage 1/2 (Insert): Processed 51% (30/59) samples\n",
      "\u001b[32m2021-08-17 16:46:14\u001b[0m \u001b[1;30mINFO:\u001b[0m Sample batch 1/1: Stage 1/2 (Insert): Processed 59% (35/59) samples\n",
      "\u001b[32m2021-08-17 16:46:14\u001b[0m \u001b[1;30mINFO:\u001b[0m Sample batch 1/1: Stage 1/2 (Insert): Processed 68% (40/59) samples\n",
      "\u001b[32m2021-08-17 16:46:14\u001b[0m \u001b[1;30mINFO:\u001b[0m Sample batch 1/1: Stage 1/2 (Insert): Processed 76% (45/59) samples\n",
      "\u001b[32m2021-08-17 16:46:15\u001b[0m \u001b[1;30mINFO:\u001b[0m Sample batch 1/1: Stage 1/2 (Insert): Processed 85% (50/59) samples\n",
      "\u001b[32m2021-08-17 16:46:15\u001b[0m \u001b[1;30mINFO:\u001b[0m Sample batch 1/1: Stage 1/2 (Insert): Processed 93% (55/59) samples\n",
      "\u001b[32m2021-08-17 16:46:15\u001b[0m \u001b[1;30mINFO:\u001b[0m Sample batch 1/1: Stage 1/2 (Insert): Processed 100% (59/59) samples\n",
      "\u001b[32m2021-08-17 16:46:15\u001b[0m \u001b[1;30mINFO:\u001b[0m Finished processing 59 samples\n",
      "\u001b[32m2021-08-17 16:46:15\u001b[0m \u001b[1;30mINFO:\u001b[0m Reading features from 59 samples\n",
      "\u001b[32m2021-08-17 16:46:15\u001b[0m \u001b[1;30mINFO:\u001b[0m Sample batch 1/1: Stage 2/2 (Index): Processed 0% (0/59) samples\n",
      "\u001b[32m2021-08-17 16:46:19\u001b[0m \u001b[1;30mINFO:\u001b[0m Sample batch 1/1: Stage 2/2 (Index): Processed 0% (0/59) samples\n",
      "\u001b[32m2021-08-17 16:46:19\u001b[0m \u001b[1;30mINFO:\u001b[0m Sample batch 1/1: Stage 2/2 (Index): Processed 2% (1/59) samples\n",
      "\u001b[32m2021-08-17 16:46:19\u001b[0m \u001b[1;30mINFO:\u001b[0m Sample batch 1/1: Stage 2/2 (Index): Processed 3% (2/59) samples\n",
      "\u001b[32m2021-08-17 16:46:19\u001b[0m \u001b[1;30mINFO:\u001b[0m Sample batch 1/1: Stage 2/2 (Index): Processed 5% (3/59) samples\n",
      "\u001b[32m2021-08-17 16:46:19\u001b[0m \u001b[1;30mINFO:\u001b[0m Sample batch 1/1: Stage 2/2 (Index): Processed 7% (4/59) samples\n",
      "\u001b[32m2021-08-17 16:46:19\u001b[0m \u001b[1;30mINFO:\u001b[0m Sample batch 1/1: Stage 2/2 (Index): Processed 8% (5/59) samples\n",
      "\u001b[32m2021-08-17 16:46:19\u001b[0m \u001b[1;30mINFO:\u001b[0m Sample batch 1/1: Stage 2/2 (Index): Processed 10% (6/59) samples\n",
      "\u001b[32m2021-08-17 16:46:19\u001b[0m \u001b[1;30mINFO:\u001b[0m Sample batch 1/1: Stage 2/2 (Index): Processed 12% (7/59) samples\n",
      "\u001b[32m2021-08-17 16:46:19\u001b[0m \u001b[1;30mINFO:\u001b[0m Sample batch 1/1: Stage 2/2 (Index): Processed 14% (8/59) samples\n",
      "\u001b[32m2021-08-17 16:46:19\u001b[0m \u001b[1;30mINFO:\u001b[0m Sample batch 1/1: Stage 2/2 (Index): Processed 15% (9/59) samples\n",
      "\u001b[32m2021-08-17 16:46:19\u001b[0m \u001b[1;30mINFO:\u001b[0m Sample batch 1/1: Stage 2/2 (Index): Processed 17% (10/59) samples\n",
      "\u001b[32m2021-08-17 16:46:19\u001b[0m \u001b[1;30mINFO:\u001b[0m Sample batch 1/1: Stage 2/2 (Index): Processed 19% (11/59) samples\n",
      "\u001b[32m2021-08-17 16:46:19\u001b[0m \u001b[1;30mINFO:\u001b[0m Sample batch 1/1: Stage 2/2 (Index): Processed 20% (12/59) samples\n",
      "\u001b[32m2021-08-17 16:46:20\u001b[0m \u001b[1;30mINFO:\u001b[0m Sample batch 1/1: Stage 2/2 (Index): Processed 22% (13/59) samples\n",
      "\u001b[32m2021-08-17 16:46:20\u001b[0m \u001b[1;30mINFO:\u001b[0m Sample batch 1/1: Stage 2/2 (Index): Processed 24% (14/59) samples\n",
      "\u001b[32m2021-08-17 16:46:20\u001b[0m \u001b[1;30mINFO:\u001b[0m Sample batch 1/1: Stage 2/2 (Index): Processed 25% (15/59) samples\n",
      "\u001b[32m2021-08-17 16:46:20\u001b[0m \u001b[1;30mINFO:\u001b[0m Sample batch 1/1: Stage 2/2 (Index): Processed 27% (16/59) samples\n",
      "\u001b[32m2021-08-17 16:46:20\u001b[0m \u001b[1;30mINFO:\u001b[0m Sample batch 1/1: Stage 2/2 (Index): Processed 29% (17/59) samples\n",
      "\u001b[32m2021-08-17 16:46:20\u001b[0m \u001b[1;30mINFO:\u001b[0m Sample batch 1/1: Stage 2/2 (Index): Processed 31% (18/59) samples\n",
      "\u001b[32m2021-08-17 16:46:20\u001b[0m \u001b[1;30mINFO:\u001b[0m Sample batch 1/1: Stage 2/2 (Index): Processed 32% (19/59) samples\n",
      "\u001b[32m2021-08-17 16:46:20\u001b[0m \u001b[1;30mINFO:\u001b[0m Sample batch 1/1: Stage 2/2 (Index): Processed 34% (20/59) samples\n",
      "\u001b[32m2021-08-17 16:46:20\u001b[0m \u001b[1;30mINFO:\u001b[0m Sample batch 1/1: Stage 2/2 (Index): Processed 36% (21/59) samples\n",
      "\u001b[32m2021-08-17 16:46:20\u001b[0m \u001b[1;30mINFO:\u001b[0m Sample batch 1/1: Stage 2/2 (Index): Processed 37% (22/59) samples\n",
      "\u001b[32m2021-08-17 16:46:20\u001b[0m \u001b[1;30mINFO:\u001b[0m Sample batch 1/1: Stage 2/2 (Index): Processed 39% (23/59) samples\n",
      "\u001b[32m2021-08-17 16:46:20\u001b[0m \u001b[1;30mINFO:\u001b[0m Sample batch 1/1: Stage 2/2 (Index): Processed 41% (24/59) samples\n",
      "\u001b[32m2021-08-17 16:46:20\u001b[0m \u001b[1;30mINFO:\u001b[0m Sample batch 1/1: Stage 2/2 (Index): Processed 42% (25/59) samples\n",
      "\u001b[32m2021-08-17 16:46:20\u001b[0m \u001b[1;30mINFO:\u001b[0m Sample batch 1/1: Stage 2/2 (Index): Processed 44% (26/59) samples\n",
      "\u001b[32m2021-08-17 16:46:20\u001b[0m \u001b[1;30mINFO:\u001b[0m Sample batch 1/1: Stage 2/2 (Index): Processed 46% (27/59) samples\n",
      "\u001b[32m2021-08-17 16:46:20\u001b[0m \u001b[1;30mINFO:\u001b[0m Sample batch 1/1: Stage 2/2 (Index): Processed 47% (28/59) samples\n",
      "\u001b[32m2021-08-17 16:46:20\u001b[0m \u001b[1;30mINFO:\u001b[0m Sample batch 1/1: Stage 2/2 (Index): Processed 49% (29/59) samples\n",
      "\u001b[32m2021-08-17 16:46:20\u001b[0m \u001b[1;30mINFO:\u001b[0m Sample batch 1/1: Stage 2/2 (Index): Processed 51% (30/59) samples\n",
      "\u001b[32m2021-08-17 16:46:20\u001b[0m \u001b[1;30mINFO:\u001b[0m Sample batch 1/1: Stage 2/2 (Index): Processed 53% (31/59) samples\n",
      "\u001b[32m2021-08-17 16:46:21\u001b[0m \u001b[1;30mINFO:\u001b[0m Sample batch 1/1: Stage 2/2 (Index): Processed 54% (32/59) samples\n",
      "\u001b[32m2021-08-17 16:46:22\u001b[0m \u001b[1;30mINFO:\u001b[0m Sample batch 1/1: Stage 2/2 (Index): Processed 56% (33/59) samples\n",
      "\u001b[32m2021-08-17 16:46:22\u001b[0m \u001b[1;30mINFO:\u001b[0m Sample batch 1/1: Stage 2/2 (Index): Processed 58% (34/59) samples\n",
      "\u001b[32m2021-08-17 16:46:22\u001b[0m \u001b[1;30mINFO:\u001b[0m Sample batch 1/1: Stage 2/2 (Index): Processed 59% (35/59) samples\n",
      "\u001b[32m2021-08-17 16:46:22\u001b[0m \u001b[1;30mINFO:\u001b[0m Sample batch 1/1: Stage 2/2 (Index): Processed 61% (36/59) samples\n",
      "\u001b[32m2021-08-17 16:46:22\u001b[0m \u001b[1;30mINFO:\u001b[0m Sample batch 1/1: Stage 2/2 (Index): Processed 63% (37/59) samples\n",
      "\u001b[32m2021-08-17 16:46:22\u001b[0m \u001b[1;30mINFO:\u001b[0m Sample batch 1/1: Stage 2/2 (Index): Processed 64% (38/59) samples\n",
      "\u001b[32m2021-08-17 16:46:22\u001b[0m \u001b[1;30mINFO:\u001b[0m Sample batch 1/1: Stage 2/2 (Index): Processed 66% (39/59) samples\n",
      "\u001b[32m2021-08-17 16:46:22\u001b[0m \u001b[1;30mINFO:\u001b[0m Sample batch 1/1: Stage 2/2 (Index): Processed 68% (40/59) samples\n",
      "\u001b[32m2021-08-17 16:46:22\u001b[0m \u001b[1;30mINFO:\u001b[0m Sample batch 1/1: Stage 2/2 (Index): Processed 69% (41/59) samples\n",
      "\u001b[32m2021-08-17 16:46:22\u001b[0m \u001b[1;30mINFO:\u001b[0m Sample batch 1/1: Stage 2/2 (Index): Processed 71% (42/59) samples\n",
      "\u001b[32m2021-08-17 16:46:22\u001b[0m \u001b[1;30mINFO:\u001b[0m Sample batch 1/1: Stage 2/2 (Index): Processed 73% (43/59) samples\n",
      "\u001b[32m2021-08-17 16:46:22\u001b[0m \u001b[1;30mINFO:\u001b[0m Sample batch 1/1: Stage 2/2 (Index): Processed 75% (44/59) samples\n",
      "\u001b[32m2021-08-17 16:46:22\u001b[0m \u001b[1;30mINFO:\u001b[0m Sample batch 1/1: Stage 2/2 (Index): Processed 76% (45/59) samples\n",
      "\u001b[32m2021-08-17 16:46:22\u001b[0m \u001b[1;30mINFO:\u001b[0m Sample batch 1/1: Stage 2/2 (Index): Processed 78% (46/59) samples\n",
      "\u001b[32m2021-08-17 16:46:22\u001b[0m \u001b[1;30mINFO:\u001b[0m Sample batch 1/1: Stage 2/2 (Index): Processed 80% (47/59) samples\n",
      "\u001b[32m2021-08-17 16:46:23\u001b[0m \u001b[1;30mINFO:\u001b[0m Sample batch 1/1: Stage 2/2 (Index): Processed 81% (48/59) samples\n",
      "\u001b[32m2021-08-17 16:46:23\u001b[0m \u001b[1;30mINFO:\u001b[0m Sample batch 1/1: Stage 2/2 (Index): Processed 83% (49/59) samples\n",
      "\u001b[32m2021-08-17 16:46:23\u001b[0m \u001b[1;30mINFO:\u001b[0m Sample batch 1/1: Stage 2/2 (Index): Processed 85% (50/59) samples\n",
      "\u001b[32m2021-08-17 16:46:23\u001b[0m \u001b[1;30mINFO:\u001b[0m Sample batch 1/1: Stage 2/2 (Index): Processed 86% (51/59) samples\n",
      "\u001b[32m2021-08-17 16:46:23\u001b[0m \u001b[1;30mINFO:\u001b[0m Sample batch 1/1: Stage 2/2 (Index): Processed 88% (52/59) samples\n",
      "\u001b[32m2021-08-17 16:46:23\u001b[0m \u001b[1;30mINFO:\u001b[0m Sample batch 1/1: Stage 2/2 (Index): Processed 90% (53/59) samples\n",
      "\u001b[32m2021-08-17 16:46:23\u001b[0m \u001b[1;30mINFO:\u001b[0m Sample batch 1/1: Stage 2/2 (Index): Processed 92% (54/59) samples\n",
      "\u001b[32m2021-08-17 16:46:23\u001b[0m \u001b[1;30mINFO:\u001b[0m Sample batch 1/1: Stage 2/2 (Index): Processed 93% (55/59) samples\n",
      "\u001b[32m2021-08-17 16:46:23\u001b[0m \u001b[1;30mINFO:\u001b[0m Sample batch 1/1: Stage 2/2 (Index): Processed 95% (56/59) samples\n",
      "\u001b[32m2021-08-17 16:46:23\u001b[0m \u001b[1;30mINFO:\u001b[0m Sample batch 1/1: Stage 2/2 (Index): Processed 97% (57/59) samples\n",
      "\u001b[32m2021-08-17 16:46:23\u001b[0m \u001b[1;30mINFO:\u001b[0m Sample batch 1/1: Stage 2/2 (Index): Processed 98% (58/59) samples\n",
      "\u001b[32m2021-08-17 16:46:23\u001b[0m \u001b[1;30mINFO:\u001b[0m Sample batch 1/1: Stage 2/2 (Index): Processed 100% (59/59) samples\n",
      "\u001b[32m2021-08-17 16:46:28\u001b[0m \u001b[1;30mINFO:\u001b[0m Aggregating 4510089 features found in 59 samples\n",
      "\u001b[32m2021-08-17 16:48:58\u001b[0m \u001b[1;30mINFO:\u001b[0m A total of 296758 unique features across 59 samples will be updated. Searching for existing features in the database.\n",
      "\u001b[32m2021-08-17 16:48:59\u001b[0m \u001b[1;30mINFO:\u001b[0m Found 0/296758 features in database which already exist. These features will be updated to map to the new samples.\n",
      "\u001b[32m2021-08-17 16:48:59\u001b[0m \u001b[1;30mINFO:\u001b[0m Updating 0/296758 existing features in database\n",
      "\u001b[32m2021-08-17 16:48:59\u001b[0m \u001b[1;30mINFO:\u001b[0m Saving 296758/296758 new features in database\n",
      "\u001b[32m2021-08-17 16:49:10\u001b[0m \u001b[1;30mINFO:\u001b[0m Finished indexing features from 59 samples\n",
      "\u001b[32m2021-08-17 16:49:11\u001b[0m \u001b[1;30mINFO:\u001b[0m Loaded variants from [/home/CSCScience.ca/apetkau/workspace/genomics-data-index-evaluation/evaluations/simulation/snakemake-assemblies.1629236207.654072/gdi-input.fofn] into database\n",
      "\u001b[32m2021-08-17 16:49:11\u001b[0m \u001b[1;30mINFO:\u001b[0m --clean is enabled so deleting [/home/CSCScience.ca/apetkau/workspace/genomics-data-index-evaluation/evaluations/simulation/snakemake-assemblies.1629236207.654072]\n"
     ]
    }
   ],
   "source": [
    "import glob\n",
    "\n",
    "reads_dir = 'output'\n",
    "reference_file = 'input/S_HeidelbergSL476.fasta.gz'\n",
    "ncores = 32\n",
    "\n",
    "!gdi --project-dir {index_path} --ncores {ncores} analysis \\\n",
    "    --use-conda --reference-file {reference_file} {reads_dir}/*.fq.gz"
   ]
  },
  {
   "cell_type": "markdown",
   "id": "2f257630-ee2e-4a14-8383-5ececd1d9256",
   "metadata": {},
   "source": [
    "# 3. Create phylogenetic tree"
   ]
  },
  {
   "cell_type": "code",
   "execution_count": 5,
   "id": "8926d3ae-c9d1-47fe-94d4-e5fa5922a1eb",
   "metadata": {},
   "outputs": [
    {
     "name": "stdout",
     "output_type": "stream",
     "text": [
      "\u001b[32m2021-08-17 17:05:02\u001b[0m \u001b[1;30mINFO:\u001b[0m Started rebuilding tree for reference genome [S_HeidelbergSL476]\n",
      "\u001b[32m2021-08-17 17:11:57\u001b[0m \u001b[1;30mINFO:\u001b[0m Finished rebuilding tree\n"
     ]
    }
   ],
   "source": [
    "!gdi --project-dir {index_path} --ncores {ncores} rebuild tree \\\n",
    "     --align-type full --extra-params '--fast -m GTR+F+R4' S_HeidelbergSL476"
   ]
  },
  {
   "cell_type": "markdown",
   "id": "f8cf9978-f2e8-4a25-a826-42b1c5fc77a3",
   "metadata": {},
   "source": [
    "## 3.1.1. Export tree for comparison to original tree"
   ]
  },
  {
   "cell_type": "code",
   "execution_count": 7,
   "id": "a41269ad-d90e-4c42-bbbb-94c8075be7e4",
   "metadata": {},
   "outputs": [],
   "source": [
    "from os import mkdir\n",
    "from pathlib import Path\n",
    "    \n",
    "!gdi --project-dir index export tree S_HeidelbergSL476 > index/reads-tree.tre"
   ]
  }
 ],
 "metadata": {
  "kernelspec": {
   "display_name": "Python 3 (ipykernel)",
   "language": "python",
   "name": "python3"
  },
  "language_info": {
   "codemirror_mode": {
    "name": "ipython",
    "version": 3
   },
   "file_extension": ".py",
   "mimetype": "text/x-python",
   "name": "python",
   "nbconvert_exporter": "python",
   "pygments_lexer": "ipython3",
   "version": "3.8.10"
  }
 },
 "nbformat": 4,
 "nbformat_minor": 5
}
