{
 "cells": [
  {
   "cell_type": "markdown",
   "id": "acfa5482-d626-44d6-b613-863e6911fa98",
   "metadata": {
    "papermill": {
     "duration": 0.014045,
     "end_time": "2022-03-09T21:53:47.525374",
     "exception": false,
     "start_time": "2022-03-09T21:53:47.511329",
     "status": "completed"
    },
    "tags": []
   },
   "source": [
    "# 1. Parameters"
   ]
  },
  {
   "cell_type": "code",
   "execution_count": 1,
   "id": "36126d74-a9d8-4431-ba49-767c1fc2ec49",
   "metadata": {
    "execution": {
     "iopub.execute_input": "2022-03-09T21:53:47.555096Z",
     "iopub.status.busy": "2022-03-09T21:53:47.554500Z",
     "iopub.status.idle": "2022-03-09T21:53:47.558954Z",
     "shell.execute_reply": "2022-03-09T21:53:47.558395Z"
    },
    "papermill": {
     "duration": 0.024746,
     "end_time": "2022-03-09T21:53:47.559102",
     "exception": false,
     "start_time": "2022-03-09T21:53:47.534356",
     "status": "completed"
    },
    "tags": [
     "parameters"
    ]
   },
   "outputs": [],
   "source": [
    "# Defaults\n",
    "simulation_dir = 'simulations/unset'\n",
    "ncores = 48"
   ]
  },
  {
   "cell_type": "code",
   "execution_count": 2,
   "id": "36923a15",
   "metadata": {
    "execution": {
     "iopub.execute_input": "2022-03-09T21:53:47.580576Z",
     "iopub.status.busy": "2022-03-09T21:53:47.580007Z",
     "iopub.status.idle": "2022-03-09T21:53:47.582942Z",
     "shell.execute_reply": "2022-03-09T21:53:47.583379Z"
    },
    "papermill": {
     "duration": 0.015805,
     "end_time": "2022-03-09T21:53:47.583529",
     "exception": false,
     "start_time": "2022-03-09T21:53:47.567724",
     "status": "completed"
    },
    "tags": [
     "injected-parameters"
    ]
   },
   "outputs": [],
   "source": [
    "# Parameters\n",
    "read_coverage = 30\n",
    "mincov = 10\n",
    "simulation_dir = \"simulations/alpha-0.1-cov-30\"\n",
    "iterations = 3\n",
    "sub_alpha = 0.1\n"
   ]
  },
  {
   "cell_type": "code",
   "execution_count": 3,
   "id": "15e911d7-0ffc-4110-aefe-71bc77e689cd",
   "metadata": {
    "execution": {
     "iopub.execute_input": "2022-03-09T21:53:47.603144Z",
     "iopub.status.busy": "2022-03-09T21:53:47.602644Z",
     "iopub.status.idle": "2022-03-09T21:53:47.605838Z",
     "shell.execute_reply": "2022-03-09T21:53:47.605412Z"
    },
    "papermill": {
     "duration": 0.015852,
     "end_time": "2022-03-09T21:53:47.605943",
     "exception": false,
     "start_time": "2022-03-09T21:53:47.590091",
     "status": "completed"
    },
    "tags": []
   },
   "outputs": [],
   "source": [
    "from pathlib import Path\n",
    "import os\n",
    "\n",
    "simulation_data_dir = Path(simulation_dir) / 'simulated_data'\n",
    "initial_reads_dir = simulation_data_dir / 'reads_initial'\n",
    "reads_dir = simulation_data_dir / 'reads'\n",
    "assemblies_dir = simulation_data_dir / 'assemblies'\n",
    "\n",
    "if not reads_dir.exists():\n",
    "    os.mkdir(reads_dir)"
   ]
  },
  {
   "cell_type": "markdown",
   "id": "rotary-regard",
   "metadata": {
    "papermill": {
     "duration": 0.005682,
     "end_time": "2022-03-09T21:53:47.617251",
     "exception": false,
     "start_time": "2022-03-09T21:53:47.611569",
     "status": "completed"
    },
    "tags": []
   },
   "source": [
    "# 2. Fix reads\n",
    "\n",
    "Fix read file names and data so they can be indexed."
   ]
  },
  {
   "cell_type": "code",
   "execution_count": 4,
   "id": "convenient-blackberry",
   "metadata": {
    "execution": {
     "iopub.execute_input": "2022-03-09T21:53:47.639408Z",
     "iopub.status.busy": "2022-03-09T21:53:47.633764Z",
     "iopub.status.idle": "2022-03-09T21:53:47.811905Z",
     "shell.execute_reply": "2022-03-09T21:53:47.812789Z"
    },
    "papermill": {
     "duration": 0.190488,
     "end_time": "2022-03-09T21:53:47.813095",
     "exception": false,
     "start_time": "2022-03-09T21:53:47.622607",
     "status": "completed"
    },
    "tags": []
   },
   "outputs": [
    {
     "name": "stdout",
     "output_type": "stream",
     "text": [
      "~/workspace/genomics-data-index-evaluation/evaluations/simulation/simulations/alpha-0.1-cov-30/simulated_data/reads_initial ~/workspace/genomics-data-index-evaluation/evaluations/simulation\r\n"
     ]
    },
    {
     "name": "stdout",
     "output_type": "stream",
     "text": [
      "~/workspace/genomics-data-index-evaluation/evaluations/simulation\r\n"
     ]
    }
   ],
   "source": [
    "import os\n",
    "\n",
    "# Fix warning about locale unset\n",
    "os.environ['LANG'] = 'en_US.UTF-8'\n",
    "\n",
    "!pushd {initial_reads_dir}; prename 's/data_//' *.fq.gz; popd"
   ]
  },
  {
   "cell_type": "markdown",
   "id": "median-belle",
   "metadata": {
    "papermill": {
     "duration": 0.007954,
     "end_time": "2022-03-09T21:53:47.833633",
     "exception": false,
     "start_time": "2022-03-09T21:53:47.825679",
     "status": "completed"
    },
    "tags": []
   },
   "source": [
    "Jackalope produces reads with non-standard identifiers where pairs of reads don't have matching identifiers. For example:\n",
    "\n",
    "* Pair 1: `@SH08-001-NC_011083-3048632-R/1`\n",
    "* Pair 2: `@SH08-001-NC_011083-3048396-F/2`\n",
    "\n",
    "In order to run snippy, these paired identifiers need to match (except for the `/1` and `/2` suffix).\n",
    "\n",
    "So, I have to replace them all with something unique, but which matches in each pair of files. I do this by replacing the position (I think) with the read number (as it appears in the file). So the above identifiers become:\n",
    "\n",
    "* Pair 1: `@SH08-001-NC_011083-1/1`\n",
    "* Pair 2: `@SH08-001-NC_011083-1/2`"
   ]
  },
  {
   "cell_type": "code",
   "execution_count": 5,
   "id": "remarkable-berry",
   "metadata": {
    "execution": {
     "iopub.execute_input": "2022-03-09T21:53:47.854584Z",
     "iopub.status.busy": "2022-03-09T21:53:47.854022Z",
     "iopub.status.idle": "2022-03-09T21:53:48.908877Z",
     "shell.execute_reply": "2022-03-09T21:53:48.909777Z"
    },
    "papermill": {
     "duration": 1.070463,
     "end_time": "2022-03-09T21:53:48.910082",
     "exception": false,
     "start_time": "2022-03-09T21:53:47.839619",
     "status": "completed"
    },
    "tags": []
   },
   "outputs": [],
   "source": [
    "import glob\n",
    "import os\n",
    "\n",
    "files = [os.path.basename(f) for f in glob.glob(f'{initial_reads_dir}/*.fq.gz')]\n",
    "!parallel -j {ncores} -I% 'gzip -d --stdout {initial_reads_dir}/% | perl scripts/replace-fastq-header.pl | gzip > {reads_dir}/%' \\\n",
    "    ::: {' '.join(files)}"
   ]
  },
  {
   "cell_type": "code",
   "execution_count": 6,
   "id": "8318e7a8-1057-4e4f-aaec-fccdec42a75f",
   "metadata": {
    "execution": {
     "iopub.execute_input": "2022-03-09T21:53:48.938906Z",
     "iopub.status.busy": "2022-03-09T21:53:48.938426Z",
     "iopub.status.idle": "2022-03-09T21:53:48.955941Z",
     "shell.execute_reply": "2022-03-09T21:53:48.956813Z"
    },
    "papermill": {
     "duration": 0.033534,
     "end_time": "2022-03-09T21:53:48.957090",
     "exception": false,
     "start_time": "2022-03-09T21:53:48.923556",
     "status": "completed"
    },
    "tags": []
   },
   "outputs": [],
   "source": [
    "import shutil\n",
    "\n",
    "shutil.rmtree(initial_reads_dir)"
   ]
  },
  {
   "cell_type": "markdown",
   "id": "cf630b4f-ed63-4e14-9657-e0aaea0953ab",
   "metadata": {
    "papermill": {
     "duration": 0.009218,
     "end_time": "2022-03-09T21:53:48.980869",
     "exception": false,
     "start_time": "2022-03-09T21:53:48.971651",
     "status": "completed"
    },
    "tags": []
   },
   "source": [
    "# 3. Fix assemblies\n",
    "\n",
    "Fix assembly genome names"
   ]
  },
  {
   "cell_type": "code",
   "execution_count": 7,
   "id": "08fac610-3ab3-4afa-9873-406973041963",
   "metadata": {
    "execution": {
     "iopub.execute_input": "2022-03-09T21:53:49.003877Z",
     "iopub.status.busy": "2022-03-09T21:53:48.999508Z",
     "iopub.status.idle": "2022-03-09T21:53:49.175254Z",
     "shell.execute_reply": "2022-03-09T21:53:49.176104Z"
    },
    "papermill": {
     "duration": 0.189264,
     "end_time": "2022-03-09T21:53:49.176393",
     "exception": false,
     "start_time": "2022-03-09T21:53:48.987129",
     "status": "completed"
    },
    "tags": []
   },
   "outputs": [
    {
     "name": "stdout",
     "output_type": "stream",
     "text": [
      "~/workspace/genomics-data-index-evaluation/evaluations/simulation/simulations/alpha-0.1-cov-30/simulated_data/assemblies ~/workspace/genomics-data-index-evaluation/evaluations/simulation\r\n"
     ]
    },
    {
     "name": "stdout",
     "output_type": "stream",
     "text": [
      "~/workspace/genomics-data-index-evaluation/evaluations/simulation\r\n"
     ]
    }
   ],
   "source": [
    "!pushd {assemblies_dir}; prename 's/data__//' *.fa.gz; popd"
   ]
  }
 ],
 "metadata": {
  "kernelspec": {
   "display_name": "Python 3 (ipykernel)",
   "language": "python",
   "name": "python3"
  },
  "language_info": {
   "codemirror_mode": {
    "name": "ipython",
    "version": 3
   },
   "file_extension": ".py",
   "mimetype": "text/x-python",
   "name": "python",
   "nbconvert_exporter": "python",
   "pygments_lexer": "ipython3",
   "version": "3.8.12"
  },
  "papermill": {
   "default_parameters": {},
   "duration": 3.310248,
   "end_time": "2022-03-09T21:53:49.412204",
   "environment_variables": {},
   "exception": null,
   "input_path": "template-2-fix-simulated-files.ipynb",
   "output_path": "2-fix-simulated-files.simulation-alpha-0.1.ipynb",
   "parameters": {
    "iterations": 3,
    "mincov": 10,
    "read_coverage": 30,
    "simulation_dir": "simulations/alpha-0.1-cov-30",
    "sub_alpha": 0.1
   },
   "start_time": "2022-03-09T21:53:46.101956",
   "version": "2.3.4"
  }
 },
 "nbformat": 4,
 "nbformat_minor": 5
}