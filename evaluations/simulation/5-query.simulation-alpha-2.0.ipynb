{
 "cells": [
  {
   "cell_type": "markdown",
   "id": "f3dc5b32",
   "metadata": {
    "tags": [
     "papermill-error-cell-tag"
    ]
   },
   "source": [
    "<span style=\"color:red; font-family:Helvetica Neue, Helvetica, Arial, sans-serif; font-size:2em;\">An Exception was encountered at '<a href=\"#papermill-error-cell\">In [13]</a>'.</span>"
   ]
  },
  {
   "cell_type": "markdown",
   "id": "f1bc3e40-3158-4009-8a9b-371a7d2d2efe",
   "metadata": {
    "papermill": {
     "duration": 0.021097,
     "end_time": "2022-03-09T16:09:15.293820",
     "exception": false,
     "start_time": "2022-03-09T16:09:15.272723",
     "status": "completed"
    },
    "tags": []
   },
   "source": [
    "# 1. Parameters"
   ]
  },
  {
   "cell_type": "code",
   "execution_count": 1,
   "id": "cf8880a6-5194-4ced-be67-c0610a332a31",
   "metadata": {
    "execution": {
     "iopub.execute_input": "2022-03-09T16:09:15.327764Z",
     "iopub.status.busy": "2022-03-09T16:09:15.326589Z",
     "iopub.status.idle": "2022-03-09T16:09:15.332312Z",
     "shell.execute_reply": "2022-03-09T16:09:15.331246Z"
    },
    "papermill": {
     "duration": 0.028496,
     "end_time": "2022-03-09T16:09:15.332596",
     "exception": false,
     "start_time": "2022-03-09T16:09:15.304100",
     "status": "completed"
    },
    "tags": [
     "parameters"
    ]
   },
   "outputs": [],
   "source": [
    "simulation_dir = 'simulations/unset'\n",
    "metadata_file = 'input/metadata.tsv.gz'"
   ]
  },
  {
   "cell_type": "code",
   "execution_count": 2,
   "id": "5e4a3916",
   "metadata": {
    "execution": {
     "iopub.execute_input": "2022-03-09T16:09:15.369938Z",
     "iopub.status.busy": "2022-03-09T16:09:15.369108Z",
     "iopub.status.idle": "2022-03-09T16:09:15.373058Z",
     "shell.execute_reply": "2022-03-09T16:09:15.372370Z"
    },
    "papermill": {
     "duration": 0.020963,
     "end_time": "2022-03-09T16:09:15.373231",
     "exception": false,
     "start_time": "2022-03-09T16:09:15.352268",
     "status": "completed"
    },
    "tags": [
     "injected-parameters"
    ]
   },
   "outputs": [],
   "source": [
    "# Parameters\n",
    "read_coverage = 30\n",
    "mincov = 10\n",
    "simulation_dir = \"simulations/alpha-2.0-cov-30\"\n",
    "iterations = 3\n",
    "sub_alpha = 2.0\n"
   ]
  },
  {
   "cell_type": "code",
   "execution_count": 3,
   "id": "7e54ac3f-8dff-492e-8096-65a2ed9f5c90",
   "metadata": {
    "execution": {
     "iopub.execute_input": "2022-03-09T16:09:15.408995Z",
     "iopub.status.busy": "2022-03-09T16:09:15.408531Z",
     "iopub.status.idle": "2022-03-09T16:09:18.244466Z",
     "shell.execute_reply": "2022-03-09T16:09:18.243488Z"
    },
    "papermill": {
     "duration": 2.854849,
     "end_time": "2022-03-09T16:09:18.244774",
     "exception": false,
     "start_time": "2022-03-09T16:09:15.389925",
     "status": "completed"
    },
    "tags": []
   },
   "outputs": [],
   "source": [
    "from pathlib import Path\n",
    "import imp\n",
    "fp, pathname, description = imp.find_module('gdi_benchmark', ['../../lib'])\n",
    "gdi_benchmark = imp.load_module('gdi_benchmark', fp, pathname, description)\n",
    "\n",
    "simulation_dir_path = Path(simulation_dir)\n",
    "\n",
    "case_name = str(simulation_dir_path.name)\n",
    "index_reads_path = simulation_dir_path / 'index-reads'\n",
    "index_assemblies_path = simulation_dir_path / 'index-assemblies'\n",
    "\n",
    "output_api_reads_path = simulation_dir_path / 'query-reads-api.tsv'\n",
    "output_api_assemblies_path = simulation_dir_path / 'query-assemblies-api.tsv'\n",
    "output_cli_reads_path = simulation_dir_path / 'query-reads-cli.tsv'\n",
    "output_cli_assemblies_path = simulation_dir_path / 'query-assemblies-cli.tsv'"
   ]
  },
  {
   "cell_type": "markdown",
   "id": "54537d03-809a-487c-8686-5e1791dc11de",
   "metadata": {
    "papermill": {
     "duration": 0.011289,
     "end_time": "2022-03-09T16:09:18.275712",
     "exception": false,
     "start_time": "2022-03-09T16:09:18.264423",
     "status": "completed"
    },
    "tags": []
   },
   "source": [
    "# 2. Benchmark command-line"
   ]
  },
  {
   "cell_type": "code",
   "execution_count": 4,
   "id": "9f4b5122-586c-440f-be52-0b7ab161de46",
   "metadata": {
    "execution": {
     "iopub.execute_input": "2022-03-09T16:09:18.309262Z",
     "iopub.status.busy": "2022-03-09T16:09:18.308060Z",
     "iopub.status.idle": "2022-03-09T16:09:18.310749Z",
     "shell.execute_reply": "2022-03-09T16:09:18.311623Z"
    },
    "papermill": {
     "duration": 0.027726,
     "end_time": "2022-03-09T16:09:18.311882",
     "exception": false,
     "start_time": "2022-03-09T16:09:18.284156",
     "status": "completed"
    },
    "tags": []
   },
   "outputs": [],
   "source": [
    "import pandas as pd\n",
    "import genomics_data_index.api as gdi\n",
    "\n",
    "def benchmark_cli_index(name: str, index_path: Path) -> pd.DataFrame:\n",
    "    db = gdi.GenomicsDataIndex.connect(index_path)\n",
    "    mutations_df = db.mutations_summary(reference_name='reference').sort_values('Count', ascending=False)\n",
    "    top_mutation = mutations_df.iloc[0].name\n",
    "    \n",
    "    if 'chrom' not in top_mutation:\n",
    "        raise Exception(f'Does not exist a single mutation for index {index_path}')\n",
    "    else:\n",
    "        print(f'top_mutation={top_mutation}')\n",
    "        \n",
    "    benchmark_commands = {\n",
    "        'query hasa':               f'gdi --project-dir {index_path} --ncores 1 query \"hasa:{top_mutation}\"',\n",
    "        'query isa':                f'gdi --project-dir {index_path} --ncores 1 query \"isa:SH13-007\"',\n",
    "        'query --summary':          f'gdi --project-dir {index_path} --ncores 1 query --summary',\n",
    "        'query --features-summary': f'gdi --project-dir {index_path} --ncores 1 query --features-summary mutations',\n",
    "        'query isin':               f'gdi --project-dir {index_path} --ncores 1 query --reference-name reference \"isin_100_substitutions:SH13-007\"',\n",
    "        'list samples':             f'gdi --project-dir {index_path} --ncores 1 list samples',\n",
    "    }\n",
    "        \n",
    "    number_samples = db.count_samples()\n",
    "    number_features_no_unknown = db.count_mutations(reference_genome='reference', include_unknown=False)\n",
    "    number_features_all = db.count_mutations(reference_genome='reference', include_unknown=True)\n",
    "    iterations = 10\n",
    "    \n",
    "    benchmarker = gdi_benchmark.QueryBenchmarkHandler()\n",
    "    return benchmarker.benchmark_cli(name=name, kind_commands=benchmark_commands,\n",
    "                                     number_samples=number_samples,\n",
    "                                     number_features_no_unknown=number_features_no_unknown,\n",
    "                                     number_features_all=number_features_all,\n",
    "                                     iterations=iterations)"
   ]
  },
  {
   "cell_type": "markdown",
   "id": "b24cc68e-1765-4570-a41b-b89d19a5e596",
   "metadata": {
    "papermill": {
     "duration": 0.010294,
     "end_time": "2022-03-09T16:09:18.340751",
     "exception": false,
     "start_time": "2022-03-09T16:09:18.330457",
     "status": "completed"
    },
    "tags": []
   },
   "source": [
    "## 2.1. Benchmark reads"
   ]
  },
  {
   "cell_type": "code",
   "execution_count": 5,
   "id": "c339bf1b-f934-4e3a-9796-25374627e237",
   "metadata": {
    "execution": {
     "iopub.execute_input": "2022-03-09T16:09:18.365981Z",
     "iopub.status.busy": "2022-03-09T16:09:18.362410Z",
     "iopub.status.idle": "2022-03-09T16:12:39.968492Z",
     "shell.execute_reply": "2022-03-09T16:12:39.968961Z"
    },
    "papermill": {
     "duration": 201.620611,
     "end_time": "2022-03-09T16:12:39.969310",
     "exception": false,
     "start_time": "2022-03-09T16:09:18.348699",
     "status": "completed"
    },
    "tags": []
   },
   "outputs": [
    {
     "name": "stdout",
     "output_type": "stream",
     "text": [
      "top_mutation=chrom0:1358:A:G\n"
     ]
    },
    {
     "data": {
      "text/html": [
       "<div>\n",
       "<style scoped>\n",
       "    .dataframe tbody tr th:only-of-type {\n",
       "        vertical-align: middle;\n",
       "    }\n",
       "\n",
       "    .dataframe tbody tr th {\n",
       "        vertical-align: top;\n",
       "    }\n",
       "\n",
       "    .dataframe thead th {\n",
       "        text-align: right;\n",
       "    }\n",
       "</style>\n",
       "<table border=\"1\" class=\"dataframe\">\n",
       "  <thead>\n",
       "    <tr style=\"text-align: right;\">\n",
       "      <th></th>\n",
       "      <th>Name</th>\n",
       "      <th>Kind</th>\n",
       "      <th>Iteration</th>\n",
       "      <th>Number samples</th>\n",
       "      <th>Number features (no unknown)</th>\n",
       "      <th>Number features (all)</th>\n",
       "      <th>Runtime</th>\n",
       "      <th>Memory (max)</th>\n",
       "      <th>Mmemory (max/process)</th>\n",
       "    </tr>\n",
       "  </thead>\n",
       "  <tbody>\n",
       "    <tr>\n",
       "      <th>0</th>\n",
       "      <td>alpha-2.0-cov-30 (reads)</td>\n",
       "      <td>query hasa</td>\n",
       "      <td>1</td>\n",
       "      <td>59</td>\n",
       "      <td>5215</td>\n",
       "      <td>8094</td>\n",
       "      <td>3.31</td>\n",
       "      <td>233332736.0</td>\n",
       "      <td>233332736.0</td>\n",
       "    </tr>\n",
       "    <tr>\n",
       "      <th>0</th>\n",
       "      <td>alpha-2.0-cov-30 (reads)</td>\n",
       "      <td>query hasa</td>\n",
       "      <td>2</td>\n",
       "      <td>59</td>\n",
       "      <td>5215</td>\n",
       "      <td>8094</td>\n",
       "      <td>3.02</td>\n",
       "      <td>232685568.0</td>\n",
       "      <td>232685568.0</td>\n",
       "    </tr>\n",
       "    <tr>\n",
       "      <th>0</th>\n",
       "      <td>alpha-2.0-cov-30 (reads)</td>\n",
       "      <td>query hasa</td>\n",
       "      <td>3</td>\n",
       "      <td>59</td>\n",
       "      <td>5215</td>\n",
       "      <td>8094</td>\n",
       "      <td>3.24</td>\n",
       "      <td>232370176.0</td>\n",
       "      <td>232370176.0</td>\n",
       "    </tr>\n",
       "  </tbody>\n",
       "</table>\n",
       "</div>"
      ],
      "text/plain": [
       "                       Name        Kind  Iteration  Number samples  \\\n",
       "0  alpha-2.0-cov-30 (reads)  query hasa          1              59   \n",
       "0  alpha-2.0-cov-30 (reads)  query hasa          2              59   \n",
       "0  alpha-2.0-cov-30 (reads)  query hasa          3              59   \n",
       "\n",
       "   Number features (no unknown)  Number features (all)  Runtime  Memory (max)  \\\n",
       "0                          5215                   8094     3.31   233332736.0   \n",
       "0                          5215                   8094     3.02   232685568.0   \n",
       "0                          5215                   8094     3.24   232370176.0   \n",
       "\n",
       "   Mmemory (max/process)  \n",
       "0            233332736.0  \n",
       "0            232685568.0  \n",
       "0            232370176.0  "
      ]
     },
     "execution_count": 5,
     "metadata": {},
     "output_type": "execute_result"
    }
   ],
   "source": [
    "reads_cli_df = benchmark_cli_index(name=f'{case_name} (reads)', index_path=index_reads_path)\n",
    "reads_cli_df.head(3)"
   ]
  },
  {
   "cell_type": "code",
   "execution_count": 6,
   "id": "1b71ed98-d69a-4038-b337-3b8bbf421bf3",
   "metadata": {
    "execution": {
     "iopub.execute_input": "2022-03-09T16:12:39.997715Z",
     "iopub.status.busy": "2022-03-09T16:12:39.996471Z",
     "iopub.status.idle": "2022-03-09T16:12:40.009490Z",
     "shell.execute_reply": "2022-03-09T16:12:40.010399Z"
    },
    "papermill": {
     "duration": 0.031587,
     "end_time": "2022-03-09T16:12:40.010676",
     "exception": false,
     "start_time": "2022-03-09T16:12:39.979089",
     "status": "completed"
    },
    "tags": []
   },
   "outputs": [],
   "source": [
    "reads_cli_df.to_csv(output_cli_reads_path, sep='\\t', index=False)"
   ]
  },
  {
   "cell_type": "markdown",
   "id": "682a9c66-63ce-4896-b877-98674d8085fd",
   "metadata": {
    "papermill": {
     "duration": 0.011733,
     "end_time": "2022-03-09T16:12:40.044152",
     "exception": false,
     "start_time": "2022-03-09T16:12:40.032419",
     "status": "completed"
    },
    "tags": []
   },
   "source": [
    "## 2.1. Benchmark assemblies"
   ]
  },
  {
   "cell_type": "code",
   "execution_count": 7,
   "id": "28e1ef52-86da-4d18-82e6-03c166d656fb",
   "metadata": {
    "execution": {
     "iopub.execute_input": "2022-03-09T16:12:40.070626Z",
     "iopub.status.busy": "2022-03-09T16:12:40.067312Z",
     "iopub.status.idle": "2022-03-09T16:15:59.847725Z",
     "shell.execute_reply": "2022-03-09T16:15:59.848123Z"
    },
    "papermill": {
     "duration": 199.795548,
     "end_time": "2022-03-09T16:15:59.848286",
     "exception": false,
     "start_time": "2022-03-09T16:12:40.052738",
     "status": "completed"
    },
    "tags": []
   },
   "outputs": [
    {
     "name": "stderr",
     "output_type": "stream",
     "text": [
      "Attempting to set global database_path_translator=<genomics_data_index.storage.model.db.DatabasePathTranslator.DatabasePathTranslator object at 0x7f76bd918700> but it is already set\n"
     ]
    },
    {
     "name": "stdout",
     "output_type": "stream",
     "text": [
      "top_mutation=chrom0:7957:A:G\n"
     ]
    },
    {
     "name": "stderr",
     "output_type": "stream",
     "text": [
      "Exception during reset or similar\n",
      "Traceback (most recent call last):\n",
      "  File \"/home/CSCScience.ca/apetkau/miniconda3/envs/gdi-simulation/lib/python3.8/site-packages/sqlalchemy/pool/base.py\", line 739, in _finalize_fairy\n",
      "    fairy._reset(pool)\n",
      "  File \"/home/CSCScience.ca/apetkau/miniconda3/envs/gdi-simulation/lib/python3.8/site-packages/sqlalchemy/pool/base.py\", line 988, in _reset\n",
      "    pool._dialect.do_rollback(self)\n",
      "  File \"/home/CSCScience.ca/apetkau/miniconda3/envs/gdi-simulation/lib/python3.8/site-packages/sqlalchemy/engine/default.py\", line 682, in do_rollback\n",
      "    dbapi_connection.rollback()\n",
      "sqlite3.ProgrammingError: SQLite objects created in a thread can only be used in that same thread. The object was created in thread id 140156601317184 and this is thread id 140156115871488.\n"
     ]
    },
    {
     "name": "stderr",
     "output_type": "stream",
     "text": [
      "Exception closing connection <sqlite3.Connection object at 0x7f78969a38a0>\n",
      "Traceback (most recent call last):\n",
      "  File \"/home/CSCScience.ca/apetkau/miniconda3/envs/gdi-simulation/lib/python3.8/site-packages/sqlalchemy/pool/base.py\", line 739, in _finalize_fairy\n",
      "    fairy._reset(pool)\n",
      "  File \"/home/CSCScience.ca/apetkau/miniconda3/envs/gdi-simulation/lib/python3.8/site-packages/sqlalchemy/pool/base.py\", line 988, in _reset\n",
      "    pool._dialect.do_rollback(self)\n",
      "  File \"/home/CSCScience.ca/apetkau/miniconda3/envs/gdi-simulation/lib/python3.8/site-packages/sqlalchemy/engine/default.py\", line 682, in do_rollback\n",
      "    dbapi_connection.rollback()\n",
      "sqlite3.ProgrammingError: SQLite objects created in a thread can only be used in that same thread. The object was created in thread id 140156601317184 and this is thread id 140156115871488.\n",
      "\n",
      "During handling of the above exception, another exception occurred:\n",
      "\n",
      "Traceback (most recent call last):\n",
      "  File \"/home/CSCScience.ca/apetkau/miniconda3/envs/gdi-simulation/lib/python3.8/site-packages/sqlalchemy/pool/base.py\", line 247, in _close_connection\n",
      "    self._dialect.do_close(connection)\n",
      "  File \"/home/CSCScience.ca/apetkau/miniconda3/envs/gdi-simulation/lib/python3.8/site-packages/sqlalchemy/engine/default.py\", line 688, in do_close\n",
      "    dbapi_connection.close()\n",
      "sqlite3.ProgrammingError: SQLite objects created in a thread can only be used in that same thread. The object was created in thread id 140156601317184 and this is thread id 140156115871488.\n"
     ]
    },
    {
     "name": "stderr",
     "output_type": "stream",
     "text": [
      "Exception during reset or similar\n",
      "Traceback (most recent call last):\n",
      "  File \"/home/CSCScience.ca/apetkau/miniconda3/envs/gdi-simulation/lib/python3.8/site-packages/sqlalchemy/pool/base.py\", line 739, in _finalize_fairy\n",
      "    fairy._reset(pool)\n",
      "  File \"/home/CSCScience.ca/apetkau/miniconda3/envs/gdi-simulation/lib/python3.8/site-packages/sqlalchemy/pool/base.py\", line 988, in _reset\n",
      "    pool._dialect.do_rollback(self)\n",
      "  File \"/home/CSCScience.ca/apetkau/miniconda3/envs/gdi-simulation/lib/python3.8/site-packages/sqlalchemy/engine/default.py\", line 682, in do_rollback\n",
      "    dbapi_connection.rollback()\n",
      "sqlite3.ProgrammingError: SQLite objects created in a thread can only be used in that same thread. The object was created in thread id 140156601317184 and this is thread id 140156124264192.\n"
     ]
    },
    {
     "name": "stderr",
     "output_type": "stream",
     "text": [
      "Exception closing connection <sqlite3.Connection object at 0x7f78969a38a0>\n",
      "Traceback (most recent call last):\n",
      "  File \"/home/CSCScience.ca/apetkau/miniconda3/envs/gdi-simulation/lib/python3.8/site-packages/sqlalchemy/pool/base.py\", line 739, in _finalize_fairy\n",
      "    fairy._reset(pool)\n",
      "  File \"/home/CSCScience.ca/apetkau/miniconda3/envs/gdi-simulation/lib/python3.8/site-packages/sqlalchemy/pool/base.py\", line 988, in _reset\n",
      "    pool._dialect.do_rollback(self)\n",
      "  File \"/home/CSCScience.ca/apetkau/miniconda3/envs/gdi-simulation/lib/python3.8/site-packages/sqlalchemy/engine/default.py\", line 682, in do_rollback\n",
      "    dbapi_connection.rollback()\n",
      "sqlite3.ProgrammingError: SQLite objects created in a thread can only be used in that same thread. The object was created in thread id 140156601317184 and this is thread id 140156124264192.\n",
      "\n",
      "During handling of the above exception, another exception occurred:\n",
      "\n",
      "Traceback (most recent call last):\n",
      "  File \"/home/CSCScience.ca/apetkau/miniconda3/envs/gdi-simulation/lib/python3.8/site-packages/sqlalchemy/pool/base.py\", line 247, in _close_connection\n",
      "    self._dialect.do_close(connection)\n",
      "  File \"/home/CSCScience.ca/apetkau/miniconda3/envs/gdi-simulation/lib/python3.8/site-packages/sqlalchemy/engine/default.py\", line 688, in do_close\n",
      "    dbapi_connection.close()\n",
      "sqlite3.ProgrammingError: SQLite objects created in a thread can only be used in that same thread. The object was created in thread id 140156601317184 and this is thread id 140156124264192.\n"
     ]
    },
    {
     "name": "stderr",
     "output_type": "stream",
     "text": [
      "Exception during reset or similar\n",
      "Traceback (most recent call last):\n",
      "  File \"/home/CSCScience.ca/apetkau/miniconda3/envs/gdi-simulation/lib/python3.8/site-packages/sqlalchemy/pool/base.py\", line 739, in _finalize_fairy\n",
      "    fairy._reset(pool)\n",
      "  File \"/home/CSCScience.ca/apetkau/miniconda3/envs/gdi-simulation/lib/python3.8/site-packages/sqlalchemy/pool/base.py\", line 988, in _reset\n",
      "    pool._dialect.do_rollback(self)\n",
      "  File \"/home/CSCScience.ca/apetkau/miniconda3/envs/gdi-simulation/lib/python3.8/site-packages/sqlalchemy/engine/default.py\", line 682, in do_rollback\n",
      "    dbapi_connection.rollback()\n",
      "sqlite3.ProgrammingError: SQLite objects created in a thread can only be used in that same thread. The object was created in thread id 140156601317184 and this is thread id 140156124264192.\n"
     ]
    },
    {
     "name": "stderr",
     "output_type": "stream",
     "text": [
      "Exception closing connection <sqlite3.Connection object at 0x7f78969a38a0>\n",
      "Traceback (most recent call last):\n",
      "  File \"/home/CSCScience.ca/apetkau/miniconda3/envs/gdi-simulation/lib/python3.8/site-packages/sqlalchemy/pool/base.py\", line 739, in _finalize_fairy\n",
      "    fairy._reset(pool)\n",
      "  File \"/home/CSCScience.ca/apetkau/miniconda3/envs/gdi-simulation/lib/python3.8/site-packages/sqlalchemy/pool/base.py\", line 988, in _reset\n",
      "    pool._dialect.do_rollback(self)\n",
      "  File \"/home/CSCScience.ca/apetkau/miniconda3/envs/gdi-simulation/lib/python3.8/site-packages/sqlalchemy/engine/default.py\", line 682, in do_rollback\n",
      "    dbapi_connection.rollback()\n",
      "sqlite3.ProgrammingError: SQLite objects created in a thread can only be used in that same thread. The object was created in thread id 140156601317184 and this is thread id 140156124264192.\n",
      "\n",
      "During handling of the above exception, another exception occurred:\n",
      "\n",
      "Traceback (most recent call last):\n",
      "  File \"/home/CSCScience.ca/apetkau/miniconda3/envs/gdi-simulation/lib/python3.8/site-packages/sqlalchemy/pool/base.py\", line 247, in _close_connection\n",
      "    self._dialect.do_close(connection)\n",
      "  File \"/home/CSCScience.ca/apetkau/miniconda3/envs/gdi-simulation/lib/python3.8/site-packages/sqlalchemy/engine/default.py\", line 688, in do_close\n",
      "    dbapi_connection.close()\n",
      "sqlite3.ProgrammingError: SQLite objects created in a thread can only be used in that same thread. The object was created in thread id 140156601317184 and this is thread id 140156124264192.\n"
     ]
    },
    {
     "name": "stderr",
     "output_type": "stream",
     "text": [
      "Exception during reset or similar\n",
      "Traceback (most recent call last):\n",
      "  File \"/home/CSCScience.ca/apetkau/miniconda3/envs/gdi-simulation/lib/python3.8/site-packages/sqlalchemy/pool/base.py\", line 739, in _finalize_fairy\n",
      "    fairy._reset(pool)\n",
      "  File \"/home/CSCScience.ca/apetkau/miniconda3/envs/gdi-simulation/lib/python3.8/site-packages/sqlalchemy/pool/base.py\", line 988, in _reset\n",
      "    pool._dialect.do_rollback(self)\n",
      "  File \"/home/CSCScience.ca/apetkau/miniconda3/envs/gdi-simulation/lib/python3.8/site-packages/sqlalchemy/engine/default.py\", line 682, in do_rollback\n",
      "    dbapi_connection.rollback()\n",
      "sqlite3.ProgrammingError: SQLite objects created in a thread can only be used in that same thread. The object was created in thread id 140156601317184 and this is thread id 140156124264192.\n"
     ]
    },
    {
     "name": "stderr",
     "output_type": "stream",
     "text": [
      "Exception closing connection <sqlite3.Connection object at 0x7f78969a38a0>\n",
      "Traceback (most recent call last):\n",
      "  File \"/home/CSCScience.ca/apetkau/miniconda3/envs/gdi-simulation/lib/python3.8/site-packages/sqlalchemy/pool/base.py\", line 739, in _finalize_fairy\n",
      "    fairy._reset(pool)\n",
      "  File \"/home/CSCScience.ca/apetkau/miniconda3/envs/gdi-simulation/lib/python3.8/site-packages/sqlalchemy/pool/base.py\", line 988, in _reset\n",
      "    pool._dialect.do_rollback(self)\n",
      "  File \"/home/CSCScience.ca/apetkau/miniconda3/envs/gdi-simulation/lib/python3.8/site-packages/sqlalchemy/engine/default.py\", line 682, in do_rollback\n",
      "    dbapi_connection.rollback()\n",
      "sqlite3.ProgrammingError: SQLite objects created in a thread can only be used in that same thread. The object was created in thread id 140156601317184 and this is thread id 140156124264192.\n",
      "\n",
      "During handling of the above exception, another exception occurred:\n",
      "\n",
      "Traceback (most recent call last):\n",
      "  File \"/home/CSCScience.ca/apetkau/miniconda3/envs/gdi-simulation/lib/python3.8/site-packages/sqlalchemy/pool/base.py\", line 247, in _close_connection\n",
      "    self._dialect.do_close(connection)\n",
      "  File \"/home/CSCScience.ca/apetkau/miniconda3/envs/gdi-simulation/lib/python3.8/site-packages/sqlalchemy/engine/default.py\", line 688, in do_close\n",
      "    dbapi_connection.close()\n",
      "sqlite3.ProgrammingError: SQLite objects created in a thread can only be used in that same thread. The object was created in thread id 140156601317184 and this is thread id 140156124264192.\n"
     ]
    },
    {
     "name": "stderr",
     "output_type": "stream",
     "text": [
      "Exception during reset or similar\n",
      "Traceback (most recent call last):\n",
      "  File \"/home/CSCScience.ca/apetkau/miniconda3/envs/gdi-simulation/lib/python3.8/site-packages/sqlalchemy/pool/base.py\", line 739, in _finalize_fairy\n",
      "    fairy._reset(pool)\n",
      "  File \"/home/CSCScience.ca/apetkau/miniconda3/envs/gdi-simulation/lib/python3.8/site-packages/sqlalchemy/pool/base.py\", line 988, in _reset\n",
      "    pool._dialect.do_rollback(self)\n",
      "  File \"/home/CSCScience.ca/apetkau/miniconda3/envs/gdi-simulation/lib/python3.8/site-packages/sqlalchemy/engine/default.py\", line 682, in do_rollback\n",
      "    dbapi_connection.rollback()\n",
      "sqlite3.ProgrammingError: SQLite objects created in a thread can only be used in that same thread. The object was created in thread id 140156601317184 and this is thread id 140156115871488.\n"
     ]
    },
    {
     "name": "stderr",
     "output_type": "stream",
     "text": [
      "Exception closing connection <sqlite3.Connection object at 0x7f78969a38a0>\n",
      "Traceback (most recent call last):\n",
      "  File \"/home/CSCScience.ca/apetkau/miniconda3/envs/gdi-simulation/lib/python3.8/site-packages/sqlalchemy/pool/base.py\", line 739, in _finalize_fairy\n",
      "    fairy._reset(pool)\n",
      "  File \"/home/CSCScience.ca/apetkau/miniconda3/envs/gdi-simulation/lib/python3.8/site-packages/sqlalchemy/pool/base.py\", line 988, in _reset\n",
      "    pool._dialect.do_rollback(self)\n",
      "  File \"/home/CSCScience.ca/apetkau/miniconda3/envs/gdi-simulation/lib/python3.8/site-packages/sqlalchemy/engine/default.py\", line 682, in do_rollback\n",
      "    dbapi_connection.rollback()\n",
      "sqlite3.ProgrammingError: SQLite objects created in a thread can only be used in that same thread. The object was created in thread id 140156601317184 and this is thread id 140156115871488.\n",
      "\n",
      "During handling of the above exception, another exception occurred:\n",
      "\n",
      "Traceback (most recent call last):\n",
      "  File \"/home/CSCScience.ca/apetkau/miniconda3/envs/gdi-simulation/lib/python3.8/site-packages/sqlalchemy/pool/base.py\", line 247, in _close_connection\n",
      "    self._dialect.do_close(connection)\n",
      "  File \"/home/CSCScience.ca/apetkau/miniconda3/envs/gdi-simulation/lib/python3.8/site-packages/sqlalchemy/engine/default.py\", line 688, in do_close\n",
      "    dbapi_connection.close()\n",
      "sqlite3.ProgrammingError: SQLite objects created in a thread can only be used in that same thread. The object was created in thread id 140156601317184 and this is thread id 140156115871488.\n"
     ]
    },
    {
     "data": {
      "text/html": [
       "<div>\n",
       "<style scoped>\n",
       "    .dataframe tbody tr th:only-of-type {\n",
       "        vertical-align: middle;\n",
       "    }\n",
       "\n",
       "    .dataframe tbody tr th {\n",
       "        vertical-align: top;\n",
       "    }\n",
       "\n",
       "    .dataframe thead th {\n",
       "        text-align: right;\n",
       "    }\n",
       "</style>\n",
       "<table border=\"1\" class=\"dataframe\">\n",
       "  <thead>\n",
       "    <tr style=\"text-align: right;\">\n",
       "      <th></th>\n",
       "      <th>Name</th>\n",
       "      <th>Kind</th>\n",
       "      <th>Iteration</th>\n",
       "      <th>Number samples</th>\n",
       "      <th>Number features (no unknown)</th>\n",
       "      <th>Number features (all)</th>\n",
       "      <th>Runtime</th>\n",
       "      <th>Memory (max)</th>\n",
       "      <th>Mmemory (max/process)</th>\n",
       "    </tr>\n",
       "  </thead>\n",
       "  <tbody>\n",
       "    <tr>\n",
       "      <th>0</th>\n",
       "      <td>alpha-2.0-cov-30 (reads)</td>\n",
       "      <td>query hasa</td>\n",
       "      <td>1</td>\n",
       "      <td>59</td>\n",
       "      <td>974</td>\n",
       "      <td>20673</td>\n",
       "      <td>2.99</td>\n",
       "      <td>233893888.0</td>\n",
       "      <td>233893888.0</td>\n",
       "    </tr>\n",
       "    <tr>\n",
       "      <th>0</th>\n",
       "      <td>alpha-2.0-cov-30 (reads)</td>\n",
       "      <td>query hasa</td>\n",
       "      <td>2</td>\n",
       "      <td>59</td>\n",
       "      <td>974</td>\n",
       "      <td>20673</td>\n",
       "      <td>2.98</td>\n",
       "      <td>233324544.0</td>\n",
       "      <td>233324544.0</td>\n",
       "    </tr>\n",
       "    <tr>\n",
       "      <th>0</th>\n",
       "      <td>alpha-2.0-cov-30 (reads)</td>\n",
       "      <td>query hasa</td>\n",
       "      <td>3</td>\n",
       "      <td>59</td>\n",
       "      <td>974</td>\n",
       "      <td>20673</td>\n",
       "      <td>3.26</td>\n",
       "      <td>233549824.0</td>\n",
       "      <td>233549824.0</td>\n",
       "    </tr>\n",
       "  </tbody>\n",
       "</table>\n",
       "</div>"
      ],
      "text/plain": [
       "                       Name        Kind  Iteration  Number samples  \\\n",
       "0  alpha-2.0-cov-30 (reads)  query hasa          1              59   \n",
       "0  alpha-2.0-cov-30 (reads)  query hasa          2              59   \n",
       "0  alpha-2.0-cov-30 (reads)  query hasa          3              59   \n",
       "\n",
       "   Number features (no unknown)  Number features (all)  Runtime  Memory (max)  \\\n",
       "0                           974                  20673     2.99   233893888.0   \n",
       "0                           974                  20673     2.98   233324544.0   \n",
       "0                           974                  20673     3.26   233549824.0   \n",
       "\n",
       "   Mmemory (max/process)  \n",
       "0            233893888.0  \n",
       "0            233324544.0  \n",
       "0            233549824.0  "
      ]
     },
     "execution_count": 7,
     "metadata": {},
     "output_type": "execute_result"
    }
   ],
   "source": [
    "assemblies_cli_df = benchmark_cli_index(name=f'{case_name} (reads)', index_path=index_assemblies_path)\n",
    "assemblies_cli_df.head(3)"
   ]
  },
  {
   "cell_type": "code",
   "execution_count": 8,
   "id": "1c52ddf7-5ee2-4e03-a39c-a2be2658823c",
   "metadata": {
    "execution": {
     "iopub.execute_input": "2022-03-09T16:15:59.884986Z",
     "iopub.status.busy": "2022-03-09T16:15:59.884026Z",
     "iopub.status.idle": "2022-03-09T16:15:59.887969Z",
     "shell.execute_reply": "2022-03-09T16:15:59.887066Z"
    },
    "papermill": {
     "duration": 0.027367,
     "end_time": "2022-03-09T16:15:59.888198",
     "exception": false,
     "start_time": "2022-03-09T16:15:59.860831",
     "status": "completed"
    },
    "tags": []
   },
   "outputs": [],
   "source": [
    "assemblies_cli_df.to_csv(output_cli_assemblies_path, sep='\\t', index=False)"
   ]
  },
  {
   "cell_type": "markdown",
   "id": "163cd729-a654-499a-a5b7-dc0bd78d8128",
   "metadata": {
    "papermill": {
     "duration": 0.011777,
     "end_time": "2022-03-09T16:15:59.923444",
     "exception": false,
     "start_time": "2022-03-09T16:15:59.911667",
     "status": "completed"
    },
    "tags": []
   },
   "source": [
    "# 3. Test query API"
   ]
  },
  {
   "cell_type": "markdown",
   "id": "777dbb2e-330f-4de7-b451-1ca902cc3386",
   "metadata": {
    "papermill": {
     "duration": 0.010803,
     "end_time": "2022-03-09T16:15:59.945197",
     "exception": false,
     "start_time": "2022-03-09T16:15:59.934394",
     "status": "completed"
    },
    "tags": []
   },
   "source": [
    "## 3.1. Load (example) metadata\n",
    "\n",
    "The simulated data is based off of real sample names and a real tree. So I can load up real metadata and attach it to a query (though the mutations and reference genome are all simulated)."
   ]
  },
  {
   "cell_type": "code",
   "execution_count": 9,
   "id": "19e1d02c-7bb7-44ef-a1ce-3d20dc420686",
   "metadata": {
    "execution": {
     "iopub.execute_input": "2022-03-09T16:15:59.977766Z",
     "iopub.status.busy": "2022-03-09T16:15:59.976642Z",
     "iopub.status.idle": "2022-03-09T16:16:00.004946Z",
     "shell.execute_reply": "2022-03-09T16:16:00.005851Z"
    },
    "papermill": {
     "duration": 0.050009,
     "end_time": "2022-03-09T16:16:00.006113",
     "exception": false,
     "start_time": "2022-03-09T16:15:59.956104",
     "status": "completed"
    },
    "tags": []
   },
   "outputs": [
    {
     "data": {
      "text/html": [
       "<div>\n",
       "<style scoped>\n",
       "    .dataframe tbody tr th:only-of-type {\n",
       "        vertical-align: middle;\n",
       "    }\n",
       "\n",
       "    .dataframe tbody tr th {\n",
       "        vertical-align: top;\n",
       "    }\n",
       "\n",
       "    .dataframe thead th {\n",
       "        text-align: right;\n",
       "    }\n",
       "</style>\n",
       "<table border=\"1\" class=\"dataframe\">\n",
       "  <thead>\n",
       "    <tr style=\"text-align: right;\">\n",
       "      <th></th>\n",
       "      <th>Sample Name Orig</th>\n",
       "      <th>Run</th>\n",
       "      <th>Assay Type</th>\n",
       "      <th>AvgSpotLen</th>\n",
       "      <th>Bases</th>\n",
       "      <th>BioProject</th>\n",
       "      <th>BioSample</th>\n",
       "      <th>BioSampleModel</th>\n",
       "      <th>Bytes</th>\n",
       "      <th>Center Name</th>\n",
       "      <th>...</th>\n",
       "      <th>PFGE_SecondaryEnzyme_pattern</th>\n",
       "      <th>Phagetype</th>\n",
       "      <th>Platform</th>\n",
       "      <th>ReleaseDate</th>\n",
       "      <th>Serovar</th>\n",
       "      <th>SRA Study</th>\n",
       "      <th>STRAIN</th>\n",
       "      <th>sub_species</th>\n",
       "      <th>Host_disease</th>\n",
       "      <th>Host</th>\n",
       "    </tr>\n",
       "  </thead>\n",
       "  <tbody>\n",
       "    <tr>\n",
       "      <th>0</th>\n",
       "      <td>SH08-001</td>\n",
       "      <td>SRR3028792</td>\n",
       "      <td>WGS</td>\n",
       "      <td>429</td>\n",
       "      <td>354123684</td>\n",
       "      <td>PRJNA305824</td>\n",
       "      <td>SAMN04334683</td>\n",
       "      <td>Pathogen.cl</td>\n",
       "      <td>197484364</td>\n",
       "      <td>MCGILL UNIVERSITY</td>\n",
       "      <td>...</td>\n",
       "      <td>SHBNI.0001</td>\n",
       "      <td>19</td>\n",
       "      <td>ILLUMINA</td>\n",
       "      <td>2015-12-19T00:00:00Z</td>\n",
       "      <td>Heidelberg</td>\n",
       "      <td>SRP067504</td>\n",
       "      <td>SH08-001</td>\n",
       "      <td>enterica</td>\n",
       "      <td>Salmonella gastroenteritis</td>\n",
       "      <td>Homo sapiens</td>\n",
       "    </tr>\n",
       "    <tr>\n",
       "      <th>1</th>\n",
       "      <td>SH09-29</td>\n",
       "      <td>SRR3028793</td>\n",
       "      <td>WGS</td>\n",
       "      <td>422</td>\n",
       "      <td>519366460</td>\n",
       "      <td>PRJNA305824</td>\n",
       "      <td>SAMN04334684</td>\n",
       "      <td>Pathogen.cl</td>\n",
       "      <td>288691068</td>\n",
       "      <td>MCGILL UNIVERSITY</td>\n",
       "      <td>...</td>\n",
       "      <td>SHBNI.0001</td>\n",
       "      <td>26</td>\n",
       "      <td>ILLUMINA</td>\n",
       "      <td>2015-12-19T00:00:00Z</td>\n",
       "      <td>Heidelberg</td>\n",
       "      <td>SRP067504</td>\n",
       "      <td>SH09-29</td>\n",
       "      <td>enterica</td>\n",
       "      <td>Salmonella gastroenteritis</td>\n",
       "      <td>Homo sapiens</td>\n",
       "    </tr>\n",
       "  </tbody>\n",
       "</table>\n",
       "<p>2 rows × 40 columns</p>\n",
       "</div>"
      ],
      "text/plain": [
       "  Sample Name Orig         Run Assay Type  AvgSpotLen      Bases   BioProject  \\\n",
       "0         SH08-001  SRR3028792        WGS         429  354123684  PRJNA305824   \n",
       "1          SH09-29  SRR3028793        WGS         422  519366460  PRJNA305824   \n",
       "\n",
       "      BioSample BioSampleModel      Bytes        Center Name  ...  \\\n",
       "0  SAMN04334683    Pathogen.cl  197484364  MCGILL UNIVERSITY  ...   \n",
       "1  SAMN04334684    Pathogen.cl  288691068  MCGILL UNIVERSITY  ...   \n",
       "\n",
       "  PFGE_SecondaryEnzyme_pattern Phagetype  Platform           ReleaseDate  \\\n",
       "0                   SHBNI.0001        19  ILLUMINA  2015-12-19T00:00:00Z   \n",
       "1                   SHBNI.0001        26  ILLUMINA  2015-12-19T00:00:00Z   \n",
       "\n",
       "      Serovar  SRA Study    STRAIN sub_species                Host_disease  \\\n",
       "0  Heidelberg  SRP067504  SH08-001    enterica  Salmonella gastroenteritis   \n",
       "1  Heidelberg  SRP067504   SH09-29    enterica  Salmonella gastroenteritis   \n",
       "\n",
       "           Host  \n",
       "0  Homo sapiens  \n",
       "1  Homo sapiens  \n",
       "\n",
       "[2 rows x 40 columns]"
      ]
     },
     "execution_count": 9,
     "metadata": {},
     "output_type": "execute_result"
    }
   ],
   "source": [
    "import pandas as pd\n",
    "\n",
    "metadata_df = pd.read_csv(metadata_file, sep='\\t').rename({'Sample Name': 'Sample Name Orig'}, axis='columns')\n",
    "metadata_df.head(2)"
   ]
  },
  {
   "cell_type": "markdown",
   "id": "6471c107-835d-4dac-812c-951d0527982e",
   "metadata": {
    "papermill": {
     "duration": 0.012685,
     "end_time": "2022-03-09T16:16:00.043253",
     "exception": false,
     "start_time": "2022-03-09T16:16:00.030568",
     "status": "completed"
    },
    "tags": []
   },
   "source": [
    "## 3.2. Define benchmark cases"
   ]
  },
  {
   "cell_type": "code",
   "execution_count": 10,
   "id": "e347bcfb-4d0c-4fe8-b68c-00de30d924d9",
   "metadata": {
    "execution": {
     "iopub.execute_input": "2022-03-09T16:16:00.086667Z",
     "iopub.status.busy": "2022-03-09T16:16:00.069929Z",
     "iopub.status.idle": "2022-03-09T16:16:00.089829Z",
     "shell.execute_reply": "2022-03-09T16:16:00.089205Z"
    },
    "papermill": {
     "duration": 0.03524,
     "end_time": "2022-03-09T16:16:00.089985",
     "exception": false,
     "start_time": "2022-03-09T16:16:00.054745",
     "status": "completed"
    },
    "tags": []
   },
   "outputs": [],
   "source": [
    "from typing import List\n",
    "import genomics_data_index.api as gdi\n",
    "\n",
    "def benchmark_api_index(name: str, index_path: Path) -> pd.DataFrame:\n",
    "    db = gdi.GenomicsDataIndex.connect(index_path)\n",
    "    q_no_join = db.samples_query(reference_name='reference', universe='mutations')\n",
    "    q_join = db.samples_query(reference_name='reference', universe='mutations').join(metadata_df, sample_names_column='Sample Name Orig')\n",
    "    \n",
    "    mutations_df = db.mutations_summary(reference_name='reference').sort_values('Count', ascending=False)\n",
    "    top_mutations = mutations_df.iloc[[0,1]].index.tolist()\n",
    "    \n",
    "    if len(top_mutations) != 2:\n",
    "        raise Exception(f'Does not exist two mutations for index {index_path}')\n",
    "    else:\n",
    "        mutation1 = top_mutations[0]\n",
    "        mutation2 = top_mutations[1]\n",
    "        print(f'mutation1={mutation1}, mutation2={mutation2}')\n",
    "\n",
    "    q = q_join.hasa(mutation1)\n",
    "    r = q_join.hasa(mutation2)\n",
    "    \n",
    "    number_samples = db.count_samples()\n",
    "    number_features_no_unknown = db.count_mutations(reference_genome='reference', include_unknown=False)\n",
    "    number_features_all = db.count_mutations(reference_genome='reference', include_unknown=True)\n",
    "    repeat = 10\n",
    "    \n",
    "    benchmark_cases = {\n",
    "        'db.samples_query':      lambda: db.samples_query(reference_name='reference', universe='mutations'),\n",
    "        'q.join':                lambda: q_no_join.join(metadata_df, sample_names_column='Sample Name Orig'),\n",
    "        'q.features_summary':    lambda: q_join.features_summary(),\n",
    "        'q.features_comparison': lambda: q_join.features_comparison(sample_categories='outbreak_number', categories_kind='dataframe', kind='mutations', unit='proportion'),\n",
    "        'q.hasa':                lambda: q_join.hasa(mutation1),\n",
    "        'q.isa':                 lambda: q_join.isa(\"SH13-007\"),\n",
    "        'q AND r':               lambda: q & r,\n",
    "        'q.toframe':             lambda: q_join.toframe(),\n",
    "        'q.summary':             lambda: q_join.summary(),\n",
    "        'q.isin (distance)':     lambda: q_join.isin(\"SH13-007\", kind='distance', distance=100, units='substitutions'),\n",
    "        'q.isin (mrca)':         lambda: q_join.isin([\"SH13-007\", \"SH12-001\"], kind='mrca'),\n",
    "    }\n",
    "\n",
    "    benchmarker = gdi_benchmark.QueryBenchmarkHandler()\n",
    "    return benchmarker.benchmark_api(name=name, kind_functions=benchmark_cases,\n",
    "                                     number_samples=number_samples,\n",
    "                                     number_features_no_unknown=number_features_no_unknown,\n",
    "                                     number_features_all=number_features_all,\n",
    "                                     repeat=repeat)"
   ]
  },
  {
   "cell_type": "markdown",
   "id": "f2180ae5-7850-4680-8e9e-45872d56accb",
   "metadata": {
    "papermill": {
     "duration": 0.011988,
     "end_time": "2022-03-09T16:16:00.121161",
     "exception": false,
     "start_time": "2022-03-09T16:16:00.109173",
     "status": "completed"
    },
    "tags": []
   },
   "source": [
    "## 3.3. Benchmark reads index"
   ]
  },
  {
   "cell_type": "code",
   "execution_count": 11,
   "id": "04d3a9c7-23a6-4a04-8735-a637c5534ba8",
   "metadata": {
    "execution": {
     "iopub.execute_input": "2022-03-09T16:16:00.150721Z",
     "iopub.status.busy": "2022-03-09T16:16:00.149792Z",
     "iopub.status.idle": "2022-03-09T16:16:43.514538Z",
     "shell.execute_reply": "2022-03-09T16:16:43.514934Z"
    },
    "papermill": {
     "duration": 43.382502,
     "end_time": "2022-03-09T16:16:43.515095",
     "exception": false,
     "start_time": "2022-03-09T16:16:00.132593",
     "status": "completed"
    },
    "tags": []
   },
   "outputs": [
    {
     "name": "stderr",
     "output_type": "stream",
     "text": [
      "Attempting to set global database_path_translator=<genomics_data_index.storage.model.db.DatabasePathTranslator.DatabasePathTranslator object at 0x7f7895d8e970> but it is already set\n"
     ]
    },
    {
     "name": "stdout",
     "output_type": "stream",
     "text": [
      "mutation1=chrom0:1358:A:G, mutation2=chrom1:5655:T:C\n"
     ]
    },
    {
     "data": {
      "text/html": [
       "<div>\n",
       "<style scoped>\n",
       "    .dataframe tbody tr th:only-of-type {\n",
       "        vertical-align: middle;\n",
       "    }\n",
       "\n",
       "    .dataframe tbody tr th {\n",
       "        vertical-align: top;\n",
       "    }\n",
       "\n",
       "    .dataframe thead th {\n",
       "        text-align: right;\n",
       "    }\n",
       "</style>\n",
       "<table border=\"1\" class=\"dataframe\">\n",
       "  <thead>\n",
       "    <tr style=\"text-align: right;\">\n",
       "      <th></th>\n",
       "      <th>Name</th>\n",
       "      <th>Kind</th>\n",
       "      <th>Number samples</th>\n",
       "      <th>Number features (no unknown)</th>\n",
       "      <th>Number features (all)</th>\n",
       "      <th>Number executions</th>\n",
       "      <th>Iteration</th>\n",
       "      <th>Time</th>\n",
       "    </tr>\n",
       "  </thead>\n",
       "  <tbody>\n",
       "    <tr>\n",
       "      <th>0</th>\n",
       "      <td>alpha-2.0-cov-30 (reads)</td>\n",
       "      <td>db.samples_query</td>\n",
       "      <td>59</td>\n",
       "      <td>5215</td>\n",
       "      <td>8094</td>\n",
       "      <td>200</td>\n",
       "      <td>1</td>\n",
       "      <td>0.001705</td>\n",
       "    </tr>\n",
       "    <tr>\n",
       "      <th>1</th>\n",
       "      <td>alpha-2.0-cov-30 (reads)</td>\n",
       "      <td>db.samples_query</td>\n",
       "      <td>59</td>\n",
       "      <td>5215</td>\n",
       "      <td>8094</td>\n",
       "      <td>200</td>\n",
       "      <td>2</td>\n",
       "      <td>0.001696</td>\n",
       "    </tr>\n",
       "    <tr>\n",
       "      <th>2</th>\n",
       "      <td>alpha-2.0-cov-30 (reads)</td>\n",
       "      <td>db.samples_query</td>\n",
       "      <td>59</td>\n",
       "      <td>5215</td>\n",
       "      <td>8094</td>\n",
       "      <td>200</td>\n",
       "      <td>3</td>\n",
       "      <td>0.001696</td>\n",
       "    </tr>\n",
       "    <tr>\n",
       "      <th>3</th>\n",
       "      <td>alpha-2.0-cov-30 (reads)</td>\n",
       "      <td>db.samples_query</td>\n",
       "      <td>59</td>\n",
       "      <td>5215</td>\n",
       "      <td>8094</td>\n",
       "      <td>200</td>\n",
       "      <td>4</td>\n",
       "      <td>0.001696</td>\n",
       "    </tr>\n",
       "    <tr>\n",
       "      <th>4</th>\n",
       "      <td>alpha-2.0-cov-30 (reads)</td>\n",
       "      <td>db.samples_query</td>\n",
       "      <td>59</td>\n",
       "      <td>5215</td>\n",
       "      <td>8094</td>\n",
       "      <td>200</td>\n",
       "      <td>5</td>\n",
       "      <td>0.001688</td>\n",
       "    </tr>\n",
       "  </tbody>\n",
       "</table>\n",
       "</div>"
      ],
      "text/plain": [
       "                       Name              Kind  Number samples  \\\n",
       "0  alpha-2.0-cov-30 (reads)  db.samples_query              59   \n",
       "1  alpha-2.0-cov-30 (reads)  db.samples_query              59   \n",
       "2  alpha-2.0-cov-30 (reads)  db.samples_query              59   \n",
       "3  alpha-2.0-cov-30 (reads)  db.samples_query              59   \n",
       "4  alpha-2.0-cov-30 (reads)  db.samples_query              59   \n",
       "\n",
       "   Number features (no unknown)  Number features (all)  Number executions  \\\n",
       "0                          5215                   8094                200   \n",
       "1                          5215                   8094                200   \n",
       "2                          5215                   8094                200   \n",
       "3                          5215                   8094                200   \n",
       "4                          5215                   8094                200   \n",
       "\n",
       "   Iteration      Time  \n",
       "0          1  0.001705  \n",
       "1          2  0.001696  \n",
       "2          3  0.001696  \n",
       "3          4  0.001696  \n",
       "4          5  0.001688  "
      ]
     },
     "execution_count": 11,
     "metadata": {},
     "output_type": "execute_result"
    }
   ],
   "source": [
    "reads_df = benchmark_api_index(name=f'{case_name} (reads)', index_path=index_reads_path)\n",
    "reads_df.head(5)"
   ]
  },
  {
   "cell_type": "code",
   "execution_count": 12,
   "id": "09e7fb11-5c83-4983-82b9-4a54fca23b52",
   "metadata": {
    "execution": {
     "iopub.execute_input": "2022-03-09T16:16:43.548850Z",
     "iopub.status.busy": "2022-03-09T16:16:43.548451Z",
     "iopub.status.idle": "2022-03-09T16:16:43.551467Z",
     "shell.execute_reply": "2022-03-09T16:16:43.551859Z"
    },
    "papermill": {
     "duration": 0.023345,
     "end_time": "2022-03-09T16:16:43.551988",
     "exception": false,
     "start_time": "2022-03-09T16:16:43.528643",
     "status": "completed"
    },
    "tags": []
   },
   "outputs": [],
   "source": [
    "reads_df.to_csv(output_api_reads_path, sep='\\t', index=False)"
   ]
  },
  {
   "cell_type": "markdown",
   "id": "2a7874a5-3ecd-4e59-a834-3c27943e4bf0",
   "metadata": {
    "papermill": {
     "duration": 0.012747,
     "end_time": "2022-03-09T16:16:43.579752",
     "exception": false,
     "start_time": "2022-03-09T16:16:43.567005",
     "status": "completed"
    },
    "tags": []
   },
   "source": [
    "## 3.4. Benchmark assemblies index"
   ]
  },
  {
   "cell_type": "markdown",
   "id": "3d4da7d3",
   "metadata": {
    "tags": [
     "papermill-error-cell-tag"
    ]
   },
   "source": [
    "<span id=\"papermill-error-cell\" style=\"color:red; font-family:Helvetica Neue, Helvetica, Arial, sans-serif; font-size:2em;\">Execution using papermill encountered an exception here and stopped:</span>"
   ]
  },
  {
   "cell_type": "code",
   "execution_count": 13,
   "id": "76a8327f-fcc7-4ec3-a140-877ed417a510",
   "metadata": {
    "execution": {
     "iopub.execute_input": "2022-03-09T16:16:43.616501Z",
     "iopub.status.busy": "2022-03-09T16:16:43.611480Z",
     "iopub.status.idle": "2022-03-09T16:17:19.539026Z",
     "shell.execute_reply": "2022-03-09T16:17:19.539713Z"
    },
    "papermill": {
     "duration": 35.947377,
     "end_time": "2022-03-09T16:17:19.540143",
     "exception": true,
     "start_time": "2022-03-09T16:16:43.592766",
     "status": "failed"
    },
    "tags": []
   },
   "outputs": [
    {
     "name": "stderr",
     "output_type": "stream",
     "text": [
      "Attempting to set global database_path_translator=<genomics_data_index.storage.model.db.DatabasePathTranslator.DatabasePathTranslator object at 0x7f7895b98eb0> but it is already set\n"
     ]
    },
    {
     "name": "stdout",
     "output_type": "stream",
     "text": [
      "mutation1=chrom0:7957:A:G, mutation2=chrom0:9421:A:G\n"
     ]
    },
    {
     "ename": "Exception",
     "evalue": "units=[substitutions] is not supported. Must be one of ['kmer_jaccard']. For additional distance queries you perhaps need to build or attach a tree to the query.",
     "output_type": "error",
     "traceback": [
      "\u001b[0;31m---------------------------------------------------------------------------\u001b[0m",
      "\u001b[0;31mException\u001b[0m                                 Traceback (most recent call last)",
      "Input \u001b[0;32mIn [13]\u001b[0m, in \u001b[0;36m<module>\u001b[0;34m\u001b[0m\n\u001b[0;32m----> 1\u001b[0m assemblies_df \u001b[38;5;241m=\u001b[39m \u001b[43mbenchmark_api_index\u001b[49m\u001b[43m(\u001b[49m\u001b[43mname\u001b[49m\u001b[38;5;241;43m=\u001b[39;49m\u001b[38;5;124;43mf\u001b[39;49m\u001b[38;5;124;43m'\u001b[39;49m\u001b[38;5;132;43;01m{\u001b[39;49;00m\u001b[43mcase_name\u001b[49m\u001b[38;5;132;43;01m}\u001b[39;49;00m\u001b[38;5;124;43m (assemblies)\u001b[39;49m\u001b[38;5;124;43m'\u001b[39;49m\u001b[43m,\u001b[49m\u001b[43m \u001b[49m\u001b[43mindex_path\u001b[49m\u001b[38;5;241;43m=\u001b[39;49m\u001b[43mindex_assemblies_path\u001b[49m\u001b[43m)\u001b[49m\n\u001b[1;32m      2\u001b[0m assemblies_df\u001b[38;5;241m.\u001b[39mhead(\u001b[38;5;241m5\u001b[39m)\n",
      "Input \u001b[0;32mIn [10]\u001b[0m, in \u001b[0;36mbenchmark_api_index\u001b[0;34m(name, index_path)\u001b[0m\n\u001b[1;32m     27\u001b[0m benchmark_cases \u001b[38;5;241m=\u001b[39m {\n\u001b[1;32m     28\u001b[0m     \u001b[38;5;124m'\u001b[39m\u001b[38;5;124mdb.samples_query\u001b[39m\u001b[38;5;124m'\u001b[39m:      \u001b[38;5;28;01mlambda\u001b[39;00m: db\u001b[38;5;241m.\u001b[39msamples_query(reference_name\u001b[38;5;241m=\u001b[39m\u001b[38;5;124m'\u001b[39m\u001b[38;5;124mreference\u001b[39m\u001b[38;5;124m'\u001b[39m, universe\u001b[38;5;241m=\u001b[39m\u001b[38;5;124m'\u001b[39m\u001b[38;5;124mmutations\u001b[39m\u001b[38;5;124m'\u001b[39m),\n\u001b[1;32m     29\u001b[0m     \u001b[38;5;124m'\u001b[39m\u001b[38;5;124mq.join\u001b[39m\u001b[38;5;124m'\u001b[39m:                \u001b[38;5;28;01mlambda\u001b[39;00m: q_no_join\u001b[38;5;241m.\u001b[39mjoin(metadata_df, sample_names_column\u001b[38;5;241m=\u001b[39m\u001b[38;5;124m'\u001b[39m\u001b[38;5;124mSample Name Orig\u001b[39m\u001b[38;5;124m'\u001b[39m),\n\u001b[0;32m   (...)\u001b[0m\n\u001b[1;32m     38\u001b[0m     \u001b[38;5;124m'\u001b[39m\u001b[38;5;124mq.isin (mrca)\u001b[39m\u001b[38;5;124m'\u001b[39m:         \u001b[38;5;28;01mlambda\u001b[39;00m: q_join\u001b[38;5;241m.\u001b[39misin([\u001b[38;5;124m\"\u001b[39m\u001b[38;5;124mSH13-007\u001b[39m\u001b[38;5;124m\"\u001b[39m, \u001b[38;5;124m\"\u001b[39m\u001b[38;5;124mSH12-001\u001b[39m\u001b[38;5;124m\"\u001b[39m], kind\u001b[38;5;241m=\u001b[39m\u001b[38;5;124m'\u001b[39m\u001b[38;5;124mmrca\u001b[39m\u001b[38;5;124m'\u001b[39m),\n\u001b[1;32m     39\u001b[0m }\n\u001b[1;32m     41\u001b[0m benchmarker \u001b[38;5;241m=\u001b[39m gdi_benchmark\u001b[38;5;241m.\u001b[39mQueryBenchmarkHandler()\n\u001b[0;32m---> 42\u001b[0m \u001b[38;5;28;01mreturn\u001b[39;00m \u001b[43mbenchmarker\u001b[49m\u001b[38;5;241;43m.\u001b[39;49m\u001b[43mbenchmark_api\u001b[49m\u001b[43m(\u001b[49m\u001b[43mname\u001b[49m\u001b[38;5;241;43m=\u001b[39;49m\u001b[43mname\u001b[49m\u001b[43m,\u001b[49m\u001b[43m \u001b[49m\u001b[43mkind_functions\u001b[49m\u001b[38;5;241;43m=\u001b[39;49m\u001b[43mbenchmark_cases\u001b[49m\u001b[43m,\u001b[49m\n\u001b[1;32m     43\u001b[0m \u001b[43m                                 \u001b[49m\u001b[43mnumber_samples\u001b[49m\u001b[38;5;241;43m=\u001b[39;49m\u001b[43mnumber_samples\u001b[49m\u001b[43m,\u001b[49m\n\u001b[1;32m     44\u001b[0m \u001b[43m                                 \u001b[49m\u001b[43mnumber_features_no_unknown\u001b[49m\u001b[38;5;241;43m=\u001b[39;49m\u001b[43mnumber_features_no_unknown\u001b[49m\u001b[43m,\u001b[49m\n\u001b[1;32m     45\u001b[0m \u001b[43m                                 \u001b[49m\u001b[43mnumber_features_all\u001b[49m\u001b[38;5;241;43m=\u001b[39;49m\u001b[43mnumber_features_all\u001b[49m\u001b[43m,\u001b[49m\n\u001b[1;32m     46\u001b[0m \u001b[43m                                 \u001b[49m\u001b[43mrepeat\u001b[49m\u001b[38;5;241;43m=\u001b[39;49m\u001b[43mrepeat\u001b[49m\u001b[43m)\u001b[49m\n",
      "File \u001b[0;32m~/workspace/genomics-data-index-evaluation/evaluations/simulation/../../lib/gdi_benchmark/EvaluationBenchmarker.py:59\u001b[0m, in \u001b[0;36mQueryBenchmarkHandler.benchmark_api\u001b[0;34m(self, name, kind_functions, number_samples, number_features_no_unknown, number_features_all, repeat)\u001b[0m\n\u001b[1;32m     57\u001b[0m func \u001b[38;5;241m=\u001b[39m kind_functions[kind]\n\u001b[1;32m     58\u001b[0m timer \u001b[38;5;241m=\u001b[39m timeit\u001b[38;5;241m.\u001b[39mTimer(func)\n\u001b[0;32m---> 59\u001b[0m number_loops \u001b[38;5;241m=\u001b[39m \u001b[43mtimer\u001b[49m\u001b[38;5;241;43m.\u001b[39;49m\u001b[43mautorange\u001b[49m\u001b[43m(\u001b[49m\u001b[43m)\u001b[49m[\u001b[38;5;241m0\u001b[39m]\n\u001b[1;32m     60\u001b[0m result \u001b[38;5;241m=\u001b[39m timer\u001b[38;5;241m.\u001b[39mrepeat(repeat\u001b[38;5;241m=\u001b[39mrepeat, number\u001b[38;5;241m=\u001b[39mnumber_loops)\n\u001b[1;32m     61\u001b[0m result \u001b[38;5;241m=\u001b[39m \u001b[38;5;28mlist\u001b[39m(\u001b[38;5;28mmap\u001b[39m(\u001b[38;5;28;01mlambda\u001b[39;00m x: x\u001b[38;5;241m/\u001b[39mnumber_loops, result)) \u001b[38;5;66;03m# Convert to time per single execution\u001b[39;00m\n",
      "File \u001b[0;32m~/miniconda3/envs/gdi-simulation/lib/python3.8/timeit.py:223\u001b[0m, in \u001b[0;36mTimer.autorange\u001b[0;34m(self, callback)\u001b[0m\n\u001b[1;32m    221\u001b[0m \u001b[38;5;28;01mfor\u001b[39;00m j \u001b[38;5;129;01min\u001b[39;00m \u001b[38;5;241m1\u001b[39m, \u001b[38;5;241m2\u001b[39m, \u001b[38;5;241m5\u001b[39m:\n\u001b[1;32m    222\u001b[0m     number \u001b[38;5;241m=\u001b[39m i \u001b[38;5;241m*\u001b[39m j\n\u001b[0;32m--> 223\u001b[0m     time_taken \u001b[38;5;241m=\u001b[39m \u001b[38;5;28;43mself\u001b[39;49m\u001b[38;5;241;43m.\u001b[39;49m\u001b[43mtimeit\u001b[49m\u001b[43m(\u001b[49m\u001b[43mnumber\u001b[49m\u001b[43m)\u001b[49m\n\u001b[1;32m    224\u001b[0m     \u001b[38;5;28;01mif\u001b[39;00m callback:\n\u001b[1;32m    225\u001b[0m         callback(number, time_taken)\n",
      "File \u001b[0;32m~/miniconda3/envs/gdi-simulation/lib/python3.8/timeit.py:177\u001b[0m, in \u001b[0;36mTimer.timeit\u001b[0;34m(self, number)\u001b[0m\n\u001b[1;32m    175\u001b[0m gc\u001b[38;5;241m.\u001b[39mdisable()\n\u001b[1;32m    176\u001b[0m \u001b[38;5;28;01mtry\u001b[39;00m:\n\u001b[0;32m--> 177\u001b[0m     timing \u001b[38;5;241m=\u001b[39m \u001b[38;5;28;43mself\u001b[39;49m\u001b[38;5;241;43m.\u001b[39;49m\u001b[43minner\u001b[49m\u001b[43m(\u001b[49m\u001b[43mit\u001b[49m\u001b[43m,\u001b[49m\u001b[43m \u001b[49m\u001b[38;5;28;43mself\u001b[39;49m\u001b[38;5;241;43m.\u001b[39;49m\u001b[43mtimer\u001b[49m\u001b[43m)\u001b[49m\n\u001b[1;32m    178\u001b[0m \u001b[38;5;28;01mfinally\u001b[39;00m:\n\u001b[1;32m    179\u001b[0m     \u001b[38;5;28;01mif\u001b[39;00m gcold:\n",
      "File \u001b[0;32m<timeit-src>:6\u001b[0m, in \u001b[0;36minner\u001b[0;34m(_it, _timer, _stmt)\u001b[0m\n",
      "Input \u001b[0;32mIn [10]\u001b[0m, in \u001b[0;36mbenchmark_api_index.<locals>.<lambda>\u001b[0;34m()\u001b[0m\n\u001b[1;32m     24\u001b[0m number_features_all \u001b[38;5;241m=\u001b[39m db\u001b[38;5;241m.\u001b[39mcount_mutations(reference_genome\u001b[38;5;241m=\u001b[39m\u001b[38;5;124m'\u001b[39m\u001b[38;5;124mreference\u001b[39m\u001b[38;5;124m'\u001b[39m, include_unknown\u001b[38;5;241m=\u001b[39m\u001b[38;5;28;01mTrue\u001b[39;00m)\n\u001b[1;32m     25\u001b[0m repeat \u001b[38;5;241m=\u001b[39m \u001b[38;5;241m10\u001b[39m\n\u001b[1;32m     27\u001b[0m benchmark_cases \u001b[38;5;241m=\u001b[39m {\n\u001b[1;32m     28\u001b[0m     \u001b[38;5;124m'\u001b[39m\u001b[38;5;124mdb.samples_query\u001b[39m\u001b[38;5;124m'\u001b[39m:      \u001b[38;5;28;01mlambda\u001b[39;00m: db\u001b[38;5;241m.\u001b[39msamples_query(reference_name\u001b[38;5;241m=\u001b[39m\u001b[38;5;124m'\u001b[39m\u001b[38;5;124mreference\u001b[39m\u001b[38;5;124m'\u001b[39m, universe\u001b[38;5;241m=\u001b[39m\u001b[38;5;124m'\u001b[39m\u001b[38;5;124mmutations\u001b[39m\u001b[38;5;124m'\u001b[39m),\n\u001b[1;32m     29\u001b[0m     \u001b[38;5;124m'\u001b[39m\u001b[38;5;124mq.join\u001b[39m\u001b[38;5;124m'\u001b[39m:                \u001b[38;5;28;01mlambda\u001b[39;00m: q_no_join\u001b[38;5;241m.\u001b[39mjoin(metadata_df, sample_names_column\u001b[38;5;241m=\u001b[39m\u001b[38;5;124m'\u001b[39m\u001b[38;5;124mSample Name Orig\u001b[39m\u001b[38;5;124m'\u001b[39m),\n\u001b[1;32m     30\u001b[0m     \u001b[38;5;124m'\u001b[39m\u001b[38;5;124mq.features_summary\u001b[39m\u001b[38;5;124m'\u001b[39m:    \u001b[38;5;28;01mlambda\u001b[39;00m: q_join\u001b[38;5;241m.\u001b[39mfeatures_summary(),\n\u001b[1;32m     31\u001b[0m     \u001b[38;5;124m'\u001b[39m\u001b[38;5;124mq.features_comparison\u001b[39m\u001b[38;5;124m'\u001b[39m: \u001b[38;5;28;01mlambda\u001b[39;00m: q_join\u001b[38;5;241m.\u001b[39mfeatures_comparison(sample_categories\u001b[38;5;241m=\u001b[39m\u001b[38;5;124m'\u001b[39m\u001b[38;5;124moutbreak_number\u001b[39m\u001b[38;5;124m'\u001b[39m, categories_kind\u001b[38;5;241m=\u001b[39m\u001b[38;5;124m'\u001b[39m\u001b[38;5;124mdataframe\u001b[39m\u001b[38;5;124m'\u001b[39m, kind\u001b[38;5;241m=\u001b[39m\u001b[38;5;124m'\u001b[39m\u001b[38;5;124mmutations\u001b[39m\u001b[38;5;124m'\u001b[39m, unit\u001b[38;5;241m=\u001b[39m\u001b[38;5;124m'\u001b[39m\u001b[38;5;124mproportion\u001b[39m\u001b[38;5;124m'\u001b[39m),\n\u001b[1;32m     32\u001b[0m     \u001b[38;5;124m'\u001b[39m\u001b[38;5;124mq.hasa\u001b[39m\u001b[38;5;124m'\u001b[39m:                \u001b[38;5;28;01mlambda\u001b[39;00m: q_join\u001b[38;5;241m.\u001b[39mhasa(mutation1),\n\u001b[1;32m     33\u001b[0m     \u001b[38;5;124m'\u001b[39m\u001b[38;5;124mq.isa\u001b[39m\u001b[38;5;124m'\u001b[39m:                 \u001b[38;5;28;01mlambda\u001b[39;00m: q_join\u001b[38;5;241m.\u001b[39misa(\u001b[38;5;124m\"\u001b[39m\u001b[38;5;124mSH13-007\u001b[39m\u001b[38;5;124m\"\u001b[39m),\n\u001b[1;32m     34\u001b[0m     \u001b[38;5;124m'\u001b[39m\u001b[38;5;124mq AND r\u001b[39m\u001b[38;5;124m'\u001b[39m:               \u001b[38;5;28;01mlambda\u001b[39;00m: q \u001b[38;5;241m&\u001b[39m r,\n\u001b[1;32m     35\u001b[0m     \u001b[38;5;124m'\u001b[39m\u001b[38;5;124mq.toframe\u001b[39m\u001b[38;5;124m'\u001b[39m:             \u001b[38;5;28;01mlambda\u001b[39;00m: q_join\u001b[38;5;241m.\u001b[39mtoframe(),\n\u001b[1;32m     36\u001b[0m     \u001b[38;5;124m'\u001b[39m\u001b[38;5;124mq.summary\u001b[39m\u001b[38;5;124m'\u001b[39m:             \u001b[38;5;28;01mlambda\u001b[39;00m: q_join\u001b[38;5;241m.\u001b[39msummary(),\n\u001b[0;32m---> 37\u001b[0m     \u001b[38;5;124m'\u001b[39m\u001b[38;5;124mq.isin (distance)\u001b[39m\u001b[38;5;124m'\u001b[39m:     \u001b[38;5;28;01mlambda\u001b[39;00m: \u001b[43mq_join\u001b[49m\u001b[38;5;241;43m.\u001b[39;49m\u001b[43misin\u001b[49m\u001b[43m(\u001b[49m\u001b[38;5;124;43m\"\u001b[39;49m\u001b[38;5;124;43mSH13-007\u001b[39;49m\u001b[38;5;124;43m\"\u001b[39;49m\u001b[43m,\u001b[49m\u001b[43m \u001b[49m\u001b[43mkind\u001b[49m\u001b[38;5;241;43m=\u001b[39;49m\u001b[38;5;124;43m'\u001b[39;49m\u001b[38;5;124;43mdistance\u001b[39;49m\u001b[38;5;124;43m'\u001b[39;49m\u001b[43m,\u001b[49m\u001b[43m \u001b[49m\u001b[43mdistance\u001b[49m\u001b[38;5;241;43m=\u001b[39;49m\u001b[38;5;241;43m100\u001b[39;49m\u001b[43m,\u001b[49m\u001b[43m \u001b[49m\u001b[43munits\u001b[49m\u001b[38;5;241;43m=\u001b[39;49m\u001b[38;5;124;43m'\u001b[39;49m\u001b[38;5;124;43msubstitutions\u001b[39;49m\u001b[38;5;124;43m'\u001b[39;49m\u001b[43m)\u001b[49m,\n\u001b[1;32m     38\u001b[0m     \u001b[38;5;124m'\u001b[39m\u001b[38;5;124mq.isin (mrca)\u001b[39m\u001b[38;5;124m'\u001b[39m:         \u001b[38;5;28;01mlambda\u001b[39;00m: q_join\u001b[38;5;241m.\u001b[39misin([\u001b[38;5;124m\"\u001b[39m\u001b[38;5;124mSH13-007\u001b[39m\u001b[38;5;124m\"\u001b[39m, \u001b[38;5;124m\"\u001b[39m\u001b[38;5;124mSH12-001\u001b[39m\u001b[38;5;124m\"\u001b[39m], kind\u001b[38;5;241m=\u001b[39m\u001b[38;5;124m'\u001b[39m\u001b[38;5;124mmrca\u001b[39m\u001b[38;5;124m'\u001b[39m),\n\u001b[1;32m     39\u001b[0m }\n\u001b[1;32m     41\u001b[0m benchmarker \u001b[38;5;241m=\u001b[39m gdi_benchmark\u001b[38;5;241m.\u001b[39mQueryBenchmarkHandler()\n\u001b[1;32m     42\u001b[0m \u001b[38;5;28;01mreturn\u001b[39;00m benchmarker\u001b[38;5;241m.\u001b[39mbenchmark_api(name\u001b[38;5;241m=\u001b[39mname, kind_functions\u001b[38;5;241m=\u001b[39mbenchmark_cases,\n\u001b[1;32m     43\u001b[0m                                  number_samples\u001b[38;5;241m=\u001b[39mnumber_samples,\n\u001b[1;32m     44\u001b[0m                                  number_features_no_unknown\u001b[38;5;241m=\u001b[39mnumber_features_no_unknown,\n\u001b[1;32m     45\u001b[0m                                  number_features_all\u001b[38;5;241m=\u001b[39mnumber_features_all,\n\u001b[1;32m     46\u001b[0m                                  repeat\u001b[38;5;241m=\u001b[39mrepeat)\n",
      "File \u001b[0;32m~/miniconda3/envs/gdi-simulation/lib/python3.8/site-packages/genomics_data_index/api/query/impl/WrappedSamplesQuery.py:201\u001b[0m, in \u001b[0;36mWrappedSamplesQuery.isin\u001b[0;34m(self, data, kind, **kwargs)\u001b[0m\n\u001b[1;32m    199\u001b[0m     \u001b[38;5;28;01mreturn\u001b[39;00m \u001b[38;5;28mself\u001b[39m\u001b[38;5;241m.\u001b[39m_isin_internal(data\u001b[38;5;241m=\u001b[39mdata, kind\u001b[38;5;241m=\u001b[39mkind, \u001b[38;5;241m*\u001b[39m\u001b[38;5;241m*\u001b[39mkwargs)\n\u001b[1;32m    200\u001b[0m \u001b[38;5;28;01melse\u001b[39;00m:\n\u001b[0;32m--> 201\u001b[0m     \u001b[38;5;28;01mreturn\u001b[39;00m \u001b[38;5;28mself\u001b[39m\u001b[38;5;241m.\u001b[39m_wrap_create(\u001b[38;5;28;43mself\u001b[39;49m\u001b[38;5;241;43m.\u001b[39;49m\u001b[43m_wrapped_query\u001b[49m\u001b[38;5;241;43m.\u001b[39;49m\u001b[43misin\u001b[49m\u001b[43m(\u001b[49m\u001b[43mdata\u001b[49m\u001b[38;5;241;43m=\u001b[39;49m\u001b[43mdata\u001b[49m\u001b[43m,\u001b[49m\u001b[43m \u001b[49m\u001b[43mkind\u001b[49m\u001b[38;5;241;43m=\u001b[39;49m\u001b[43mkind\u001b[49m\u001b[43m,\u001b[49m\u001b[43m \u001b[49m\u001b[38;5;241;43m*\u001b[39;49m\u001b[38;5;241;43m*\u001b[39;49m\u001b[43mkwargs\u001b[49m\u001b[43m)\u001b[49m)\n",
      "File \u001b[0;32m~/miniconda3/envs/gdi-simulation/lib/python3.8/site-packages/genomics_data_index/api/query/impl/SamplesQueryIndex.py:623\u001b[0m, in \u001b[0;36mSamplesQueryIndex.isin\u001b[0;34m(self, data, kind, **kwargs)\u001b[0m\n\u001b[1;32m    621\u001b[0m     \u001b[38;5;28;01mreturn\u001b[39;00m \u001b[38;5;28mself\u001b[39m\u001b[38;5;241m.\u001b[39m_isin_samples(data\u001b[38;5;241m=\u001b[39mdata, query_message_prefix\u001b[38;5;241m=\u001b[39m\u001b[38;5;124m'\u001b[39m\u001b[38;5;124misin_samples\u001b[39m\u001b[38;5;124m'\u001b[39m)\n\u001b[1;32m    622\u001b[0m \u001b[38;5;28;01melif\u001b[39;00m kind \u001b[38;5;241m==\u001b[39m \u001b[38;5;124m'\u001b[39m\u001b[38;5;124mdistance\u001b[39m\u001b[38;5;124m'\u001b[39m \u001b[38;5;129;01mor\u001b[39;00m kind \u001b[38;5;241m==\u001b[39m \u001b[38;5;124m'\u001b[39m\u001b[38;5;124mdistances\u001b[39m\u001b[38;5;124m'\u001b[39m:\n\u001b[0;32m--> 623\u001b[0m     \u001b[38;5;28;01mreturn\u001b[39;00m \u001b[38;5;28;43mself\u001b[39;49m\u001b[38;5;241;43m.\u001b[39;49m\u001b[43m_within_distance\u001b[49m\u001b[43m(\u001b[49m\u001b[43mdata\u001b[49m\u001b[38;5;241;43m=\u001b[39;49m\u001b[43mdata\u001b[49m\u001b[43m,\u001b[49m\u001b[43m \u001b[49m\u001b[38;5;241;43m*\u001b[39;49m\u001b[38;5;241;43m*\u001b[39;49m\u001b[43mkwargs\u001b[49m\u001b[43m)\u001b[49m\n\u001b[1;32m    624\u001b[0m \u001b[38;5;28;01melse\u001b[39;00m:\n\u001b[1;32m    625\u001b[0m     \u001b[38;5;28;01mraise\u001b[39;00m \u001b[38;5;167;01mException\u001b[39;00m(\u001b[38;5;124mf\u001b[39m\u001b[38;5;124m'\u001b[39m\u001b[38;5;124mkind=[\u001b[39m\u001b[38;5;132;01m{\u001b[39;00mkind\u001b[38;5;132;01m}\u001b[39;00m\u001b[38;5;124m] is not supported. Must be one of \u001b[39m\u001b[38;5;132;01m{\u001b[39;00m\u001b[38;5;28mself\u001b[39m\u001b[38;5;241m.\u001b[39mISIN_TYPES\u001b[38;5;132;01m}\u001b[39;00m\u001b[38;5;124m'\u001b[39m)\n",
      "File \u001b[0;32m~/miniconda3/envs/gdi-simulation/lib/python3.8/site-packages/genomics_data_index/api/query/impl/SamplesQueryIndex.py:558\u001b[0m, in \u001b[0;36mSamplesQueryIndex._within_distance\u001b[0;34m(self, data, distance, units, **kwargs)\u001b[0m\n\u001b[1;32m    556\u001b[0m     \u001b[38;5;28;01mreturn\u001b[39;00m \u001b[38;5;28mself\u001b[39m\u001b[38;5;241m.\u001b[39m_within_kmer_jaccard(data\u001b[38;5;241m=\u001b[39mdata, distance\u001b[38;5;241m=\u001b[39mdistance, \u001b[38;5;241m*\u001b[39m\u001b[38;5;241m*\u001b[39mkwargs)\n\u001b[1;32m    557\u001b[0m \u001b[38;5;28;01melse\u001b[39;00m:\n\u001b[0;32m--> 558\u001b[0m     \u001b[38;5;28;01mraise\u001b[39;00m \u001b[38;5;167;01mException\u001b[39;00m(\u001b[38;5;124mf\u001b[39m\u001b[38;5;124m'\u001b[39m\u001b[38;5;124munits=[\u001b[39m\u001b[38;5;132;01m{\u001b[39;00munits\u001b[38;5;132;01m}\u001b[39;00m\u001b[38;5;124m] is not supported. Must be one of \u001b[39m\u001b[38;5;132;01m{\u001b[39;00m\u001b[38;5;28mself\u001b[39m\u001b[38;5;241m.\u001b[39m_distance_units()\u001b[38;5;132;01m}\u001b[39;00m\u001b[38;5;124m. \u001b[39m\u001b[38;5;124m'\u001b[39m\n\u001b[1;32m    559\u001b[0m                     \u001b[38;5;124mf\u001b[39m\u001b[38;5;124m'\u001b[39m\u001b[38;5;124mFor additional distance queries you perhaps need to build or attach a tree to \u001b[39m\u001b[38;5;124m'\u001b[39m\n\u001b[1;32m    560\u001b[0m                     \u001b[38;5;124mf\u001b[39m\u001b[38;5;124m'\u001b[39m\u001b[38;5;124mthe query.\u001b[39m\u001b[38;5;124m'\u001b[39m)\n",
      "\u001b[0;31mException\u001b[0m: units=[substitutions] is not supported. Must be one of ['kmer_jaccard']. For additional distance queries you perhaps need to build or attach a tree to the query."
     ]
    }
   ],
   "source": [
    "assemblies_df = benchmark_api_index(name=f'{case_name} (assemblies)', index_path=index_assemblies_path)\n",
    "assemblies_df.head(5)"
   ]
  },
  {
   "cell_type": "code",
   "execution_count": null,
   "id": "aa0b72cc-c7d5-4bac-885b-2f3309739dc9",
   "metadata": {
    "papermill": {
     "duration": null,
     "end_time": null,
     "exception": null,
     "start_time": null,
     "status": "pending"
    },
    "tags": []
   },
   "outputs": [],
   "source": [
    "assemblies_df.to_csv(output_api_assemblies_path, sep='\\t', index=False)"
   ]
  }
 ],
 "metadata": {
  "kernelspec": {
   "display_name": "Python 3 (ipykernel)",
   "language": "python",
   "name": "python3"
  },
  "language_info": {
   "codemirror_mode": {
    "name": "ipython",
    "version": 3
   },
   "file_extension": ".py",
   "mimetype": "text/x-python",
   "name": "python",
   "nbconvert_exporter": "python",
   "pygments_lexer": "ipython3",
   "version": "3.8.12"
  },
  "papermill": {
   "default_parameters": {},
   "duration": 486.310288,
   "end_time": "2022-03-09T16:17:20.177186",
   "environment_variables": {},
   "exception": true,
   "input_path": "template-5-query.ipynb",
   "output_path": "5-query.simulation-alpha-2.0.ipynb",
   "parameters": {
    "iterations": 3,
    "mincov": 10,
    "read_coverage": 30,
    "simulation_dir": "simulations/alpha-2.0-cov-30",
    "sub_alpha": 2.0
   },
   "start_time": "2022-03-09T16:09:13.866898",
   "version": "2.3.4"
  }
 },
 "nbformat": 4,
 "nbformat_minor": 5
}