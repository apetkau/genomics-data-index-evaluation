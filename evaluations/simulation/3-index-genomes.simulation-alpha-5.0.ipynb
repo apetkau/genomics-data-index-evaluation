{
 "cells": [
  {
   "cell_type": "markdown",
   "id": "7d3667b4-b1f8-4347-96e3-830c25b06740",
   "metadata": {
    "papermill": {
     "duration": 0.018954,
     "end_time": "2022-03-08T21:42:01.691626",
     "exception": false,
     "start_time": "2022-03-08T21:42:01.672672",
     "status": "completed"
    },
    "tags": []
   },
   "source": [
    "# 1. Parameters"
   ]
  },
  {
   "cell_type": "code",
   "execution_count": 1,
   "id": "d4ab0749-b286-4c34-b63c-a854e4952bae",
   "metadata": {
    "execution": {
     "iopub.execute_input": "2022-03-08T21:42:01.723370Z",
     "iopub.status.busy": "2022-03-08T21:42:01.722821Z",
     "iopub.status.idle": "2022-03-08T21:42:01.728214Z",
     "shell.execute_reply": "2022-03-08T21:42:01.727495Z"
    },
    "papermill": {
     "duration": 0.02694,
     "end_time": "2022-03-08T21:42:01.728389",
     "exception": false,
     "start_time": "2022-03-08T21:42:01.701449",
     "status": "completed"
    },
    "tags": [
     "parameters"
    ]
   },
   "outputs": [],
   "source": [
    "# Defaults\n",
    "simulation_dir = 'simulations/unset'\n",
    "reference_file = 'simulations/reference/reference.fa.gz'\n",
    "iterations = 3\n",
    "mincov = 10\n",
    "ncores = 32"
   ]
  },
  {
   "cell_type": "code",
   "execution_count": 2,
   "id": "115a274c",
   "metadata": {
    "execution": {
     "iopub.execute_input": "2022-03-08T21:42:01.754854Z",
     "iopub.status.busy": "2022-03-08T21:42:01.754440Z",
     "iopub.status.idle": "2022-03-08T21:42:01.757280Z",
     "shell.execute_reply": "2022-03-08T21:42:01.757690Z"
    },
    "papermill": {
     "duration": 0.017564,
     "end_time": "2022-03-08T21:42:01.757817",
     "exception": false,
     "start_time": "2022-03-08T21:42:01.740253",
     "status": "completed"
    },
    "tags": [
     "injected-parameters"
    ]
   },
   "outputs": [],
   "source": [
    "# Parameters\n",
    "read_coverage = 30\n",
    "mincov = 10\n",
    "simulation_dir = \"simulations/alpha-5.0-cov-30\"\n",
    "iterations = 3\n",
    "sub_alpha = 5.0\n"
   ]
  },
  {
   "cell_type": "code",
   "execution_count": 3,
   "id": "ce5962e4-261c-4210-b39b-47044e28466b",
   "metadata": {
    "execution": {
     "iopub.execute_input": "2022-03-08T21:42:01.782660Z",
     "iopub.status.busy": "2022-03-08T21:42:01.781984Z",
     "iopub.status.idle": "2022-03-08T21:42:04.628377Z",
     "shell.execute_reply": "2022-03-08T21:42:04.629293Z"
    },
    "papermill": {
     "duration": 2.862988,
     "end_time": "2022-03-08T21:42:04.629615",
     "exception": false,
     "start_time": "2022-03-08T21:42:01.766627",
     "status": "completed"
    },
    "tags": []
   },
   "outputs": [],
   "source": [
    "from pathlib import Path\n",
    "import imp\n",
    "fp, pathname, description = imp.find_module('gdi_benchmark', ['../../lib'])\n",
    "gdi_benchmark = imp.load_module('gdi_benchmark', fp, pathname, description)\n",
    "\n",
    "simulation_dir_path = Path(simulation_dir)\n",
    "\n",
    "case_name = str(simulation_dir_path.name)\n",
    "reads_dir = simulation_dir_path / 'simulated_data' / 'reads'\n",
    "assemblies_dir = simulation_dir_path / 'simulated_data' / 'assemblies'\n",
    "index_reads_path = simulation_dir_path / 'index-reads'\n",
    "index_assemblies_path = simulation_dir_path / 'index-assemblies'\n",
    "output_reads_tree = index_reads_path / 'reads.tre'\n",
    "output_assemblies_tree = index_assemblies_path / 'assemblies.tre'\n",
    "reference_name = Path(reference_file).name.split('.')[0]"
   ]
  },
  {
   "cell_type": "markdown",
   "id": "f208279e-7558-47fc-9362-da29df92828a",
   "metadata": {
    "papermill": {
     "duration": 0.009012,
     "end_time": "2022-03-08T21:42:04.654422",
     "exception": false,
     "start_time": "2022-03-08T21:42:04.645410",
     "status": "completed"
    },
    "tags": []
   },
   "source": [
    "# 2. Index genomes"
   ]
  },
  {
   "cell_type": "code",
   "execution_count": 4,
   "id": "4e936f7c-2fcd-4188-b0e6-6b3ceb5cdcd2",
   "metadata": {
    "execution": {
     "iopub.execute_input": "2022-03-08T21:42:04.685244Z",
     "iopub.status.busy": "2022-03-08T21:42:04.674828Z",
     "iopub.status.idle": "2022-03-08T21:42:07.927893Z",
     "shell.execute_reply": "2022-03-08T21:42:07.928848Z"
    },
    "papermill": {
     "duration": 3.267694,
     "end_time": "2022-03-08T21:42:07.929188",
     "exception": false,
     "start_time": "2022-03-08T21:42:04.661494",
     "status": "completed"
    },
    "tags": []
   },
   "outputs": [
    {
     "name": "stdout",
     "output_type": "stream",
     "text": [
      "gdi, version 0.6.0.dev2\r\n"
     ]
    }
   ],
   "source": [
    "!gdi --version"
   ]
  },
  {
   "cell_type": "markdown",
   "id": "5409ecf8-2158-4361-9d2f-6b1a6c7c63a6",
   "metadata": {
    "papermill": {
     "duration": 0.010371,
     "end_time": "2022-03-08T21:42:07.958391",
     "exception": false,
     "start_time": "2022-03-08T21:42:07.948020",
     "status": "completed"
    },
    "tags": []
   },
   "source": [
    "## 2.1. Index reads"
   ]
  },
  {
   "cell_type": "code",
   "execution_count": 5,
   "id": "b5324f79-913b-4dac-8122-19ad5c0f24b2",
   "metadata": {
    "execution": {
     "iopub.execute_input": "2022-03-08T21:42:07.989992Z",
     "iopub.status.busy": "2022-03-08T21:42:07.980822Z",
     "iopub.status.idle": "2022-03-08T21:42:11.549163Z",
     "shell.execute_reply": "2022-03-08T21:42:11.550030Z"
    },
    "papermill": {
     "duration": 3.58419,
     "end_time": "2022-03-08T21:42:11.550333",
     "exception": false,
     "start_time": "2022-03-08T21:42:07.966143",
     "status": "completed"
    },
    "tags": []
   },
   "outputs": [
    {
     "name": "stdout",
     "output_type": "stream",
     "text": [
      "\u001b[32m2022-03-08 15:42:10\u001b[0m \u001b[1;30mWARNING:\u001b[0m \u001b[33m--skip-existing-samples is enabled but no --project-dir is set. Will not skip existing samples.\u001b[0m\r\n"
     ]
    }
   ],
   "source": [
    "input_genomes_file = simulation_dir_path / 'input-reads.tsv'\n",
    "\n",
    "!gdi input --absolute {reads_dir}/*.fq.gz > {input_genomes_file}"
   ]
  },
  {
   "cell_type": "code",
   "execution_count": 6,
   "id": "3d63e861-733e-46f2-8bce-bd1a2c7c7058",
   "metadata": {
    "execution": {
     "iopub.execute_input": "2022-03-08T21:42:11.599197Z",
     "iopub.status.busy": "2022-03-08T21:42:11.597955Z",
     "iopub.status.idle": "2022-03-08T21:58:50.648700Z",
     "shell.execute_reply": "2022-03-08T21:58:50.649661Z"
    },
    "papermill": {
     "duration": 999.082248,
     "end_time": "2022-03-08T21:58:50.650109",
     "exception": false,
     "start_time": "2022-03-08T21:42:11.567861",
     "status": "completed"
    },
    "tags": []
   },
   "outputs": [
    {
     "name": "stdout",
     "output_type": "stream",
     "text": [
      "\n",
      "Iteration 1 of index/analysis of 59 samples with 32 cores\n",
      "Removing any extra snakemake directories: ['snakemake-assemblies.1646775558.5957801']\n"
     ]
    },
    {
     "name": "stdout",
     "output_type": "stream",
     "text": [
      "Creating new index: [gdi init simulations/alpha-5.0-cov-30/index-reads]\n"
     ]
    },
    {
     "name": "stdout",
     "output_type": "stream",
     "text": [
      "Creating a new index took 3.33 seconds\n",
      "Analysis running: [gdi --project-dir simulations/alpha-5.0-cov-30/index-reads --ncores 32 analysis --use-conda --no-load-data --reference-file simulations/reference/reference.fa.gz --kmer-size 31 --kmer-size 51 --kmer-size 71 --include-kmer --reads-mincov 10 --input-structured-genomes-file simulations/alpha-5.0-cov-30/input-reads.tsv]\n"
     ]
    },
    {
     "name": "stdout",
     "output_type": "stream",
     "text": [
      "Analysis took 2.08 minutes\n",
      "Index running: [gdi --project-dir simulations/alpha-5.0-cov-30/index-reads --ncores 32 load vcf-kmer --sample-batch-size 2000 --reference-file simulations/reference/reference.fa.gz /home/CSCScience.ca/apetkau/workspace/genomics-data-index-evaluation/evaluations/simulation/snakemake-assemblies.1646775739.7725/gdi-input.fofn]\n"
     ]
    },
    {
     "name": "stdout",
     "output_type": "stream",
     "text": [
      "Indexing took 0.39 minutes\n",
      "Building tree: [gdi --project-dir simulations/alpha-5.0-cov-30/index-reads --ncores 32 rebuild tree --align-type full --extra-params '--fast -m GTR+F+R4' reference]\n"
     ]
    },
    {
     "name": "stdout",
     "output_type": "stream",
     "text": [
      "Building tree took 3.37 minutes\n"
     ]
    },
    {
     "name": "stderr",
     "output_type": "stream",
     "text": [
      "A reminder to myself to look for a Python solution for directory sizes (instead of running `du`)\n"
     ]
    },
    {
     "name": "stdout",
     "output_type": "stream",
     "text": [
      "\n",
      "Iteration 2 of index/analysis of 59 samples with 32 cores\n",
      "Removing any extra snakemake directories: ['snakemake-assemblies.1646775739.7725']\n"
     ]
    },
    {
     "name": "stdout",
     "output_type": "stream",
     "text": [
      "Removing any existing indexes simulations/alpha-5.0-cov-30/index-reads\n",
      "Creating new index: [gdi init simulations/alpha-5.0-cov-30/index-reads]\n"
     ]
    },
    {
     "name": "stdout",
     "output_type": "stream",
     "text": [
      "Creating a new index took 3.50 seconds\n",
      "Analysis running: [gdi --project-dir simulations/alpha-5.0-cov-30/index-reads --ncores 32 analysis --use-conda --no-load-data --reference-file simulations/reference/reference.fa.gz --kmer-size 31 --kmer-size 51 --kmer-size 71 --include-kmer --reads-mincov 10 --input-structured-genomes-file simulations/alpha-5.0-cov-30/input-reads.tsv]\n"
     ]
    },
    {
     "name": "stdout",
     "output_type": "stream",
     "text": [
      "Analysis took 2.11 minutes\n",
      "Index running: [gdi --project-dir simulations/alpha-5.0-cov-30/index-reads --ncores 32 load vcf-kmer --sample-batch-size 2000 --reference-file simulations/reference/reference.fa.gz /home/CSCScience.ca/apetkau/workspace/genomics-data-index-evaluation/evaluations/simulation/snakemake-assemblies.1646776095.7185445/gdi-input.fofn]\n"
     ]
    },
    {
     "name": "stdout",
     "output_type": "stream",
     "text": [
      "Indexing took 0.39 minutes\n",
      "Building tree: [gdi --project-dir simulations/alpha-5.0-cov-30/index-reads --ncores 32 rebuild tree --align-type full --extra-params '--fast -m GTR+F+R4' reference]\n"
     ]
    },
    {
     "name": "stdout",
     "output_type": "stream",
     "text": [
      "Building tree took 2.69 minutes\n"
     ]
    },
    {
     "name": "stderr",
     "output_type": "stream",
     "text": [
      "Attempting to set global database_path_translator=<genomics_data_index.storage.model.db.DatabasePathTranslator.DatabasePathTranslator object at 0x7fad68e026d0> but it is already set\n"
     ]
    },
    {
     "name": "stderr",
     "output_type": "stream",
     "text": [
      "A reminder to myself to look for a Python solution for directory sizes (instead of running `du`)\n"
     ]
    },
    {
     "name": "stdout",
     "output_type": "stream",
     "text": [
      "\n",
      "Iteration 3 of index/analysis of 59 samples with 32 cores\n",
      "Removing any extra snakemake directories: ['snakemake-assemblies.1646776095.7185445']\n"
     ]
    },
    {
     "name": "stdout",
     "output_type": "stream",
     "text": [
      "Removing any existing indexes simulations/alpha-5.0-cov-30/index-reads\n",
      "Creating new index: [gdi init simulations/alpha-5.0-cov-30/index-reads]\n"
     ]
    },
    {
     "name": "stdout",
     "output_type": "stream",
     "text": [
      "Creating a new index took 3.34 seconds\n",
      "Analysis running: [gdi --project-dir simulations/alpha-5.0-cov-30/index-reads --ncores 32 analysis --use-conda --no-load-data --reference-file simulations/reference/reference.fa.gz --kmer-size 31 --kmer-size 51 --kmer-size 71 --include-kmer --reads-mincov 10 --input-structured-genomes-file simulations/alpha-5.0-cov-30/input-reads.tsv]\n"
     ]
    },
    {
     "name": "stdout",
     "output_type": "stream",
     "text": [
      "Analysis took 2.20 minutes\n",
      "Index running: [gdi --project-dir simulations/alpha-5.0-cov-30/index-reads --ncores 32 load vcf-kmer --sample-batch-size 2000 --reference-file simulations/reference/reference.fa.gz /home/CSCScience.ca/apetkau/workspace/genomics-data-index-evaluation/evaluations/simulation/snakemake-assemblies.1646776412.2674246/gdi-input.fofn]\n"
     ]
    },
    {
     "name": "stdout",
     "output_type": "stream",
     "text": [
      "Indexing took 0.40 minutes\n",
      "Building tree: [gdi --project-dir simulations/alpha-5.0-cov-30/index-reads --ncores 32 rebuild tree --align-type full --extra-params '--fast -m GTR+F+R4' reference]\n"
     ]
    },
    {
     "name": "stdout",
     "output_type": "stream",
     "text": [
      "Building tree took 2.76 minutes\n"
     ]
    },
    {
     "name": "stderr",
     "output_type": "stream",
     "text": [
      "Attempting to set global database_path_translator=<genomics_data_index.storage.model.db.DatabasePathTranslator.DatabasePathTranslator object at 0x7faf1af26730> but it is already set\n"
     ]
    },
    {
     "name": "stderr",
     "output_type": "stream",
     "text": [
      "A reminder to myself to look for a Python solution for directory sizes (instead of running `du`)\n"
     ]
    }
   ],
   "source": [
    "results_handler = gdi_benchmark.BenchmarkResultsHandler(name=f'{case_name} reads')\n",
    "benchmarker = gdi_benchmark.IndexBenchmarker(benchmark_results_handler=results_handler,\n",
    "                                             index_path=index_reads_path, input_files_file=input_genomes_file,\n",
    "                                             reference_file=reference_file, mincov=mincov, build_tree=True,\n",
    "                                             ncores=ncores)\n",
    "\n",
    "benchmark_df = benchmarker.benchmark(iterations=iterations)"
   ]
  },
  {
   "cell_type": "code",
   "execution_count": 7,
   "id": "3bcb6da7-0164-47f2-abdd-a4c159da1e3b",
   "metadata": {
    "execution": {
     "iopub.execute_input": "2022-03-08T21:58:50.708129Z",
     "iopub.status.busy": "2022-03-08T21:58:50.707008Z",
     "iopub.status.idle": "2022-03-08T21:58:50.730553Z",
     "shell.execute_reply": "2022-03-08T21:58:50.731465Z"
    },
    "papermill": {
     "duration": 0.056591,
     "end_time": "2022-03-08T21:58:50.731729",
     "exception": false,
     "start_time": "2022-03-08T21:58:50.675138",
     "status": "completed"
    },
    "tags": []
   },
   "outputs": [
    {
     "data": {
      "text/html": [
       "<div>\n",
       "<style scoped>\n",
       "    .dataframe tbody tr th:only-of-type {\n",
       "        vertical-align: middle;\n",
       "    }\n",
       "\n",
       "    .dataframe tbody tr th {\n",
       "        vertical-align: top;\n",
       "    }\n",
       "\n",
       "    .dataframe thead th {\n",
       "        text-align: right;\n",
       "    }\n",
       "</style>\n",
       "<table border=\"1\" class=\"dataframe\">\n",
       "  <thead>\n",
       "    <tr style=\"text-align: right;\">\n",
       "      <th></th>\n",
       "      <th>Name</th>\n",
       "      <th>Reference name</th>\n",
       "      <th>Iteration</th>\n",
       "      <th>Number samples</th>\n",
       "      <th>Number features (all)</th>\n",
       "      <th>Number features (no unknown)</th>\n",
       "      <th>Number cores</th>\n",
       "      <th>Reference length</th>\n",
       "      <th>Analysis runtime</th>\n",
       "      <th>Analysis memory (max)</th>\n",
       "      <th>...</th>\n",
       "      <th>Analysis disk uage</th>\n",
       "      <th>Index runtime</th>\n",
       "      <th>Index memory (max)</th>\n",
       "      <th>Index memory (max/process)</th>\n",
       "      <th>Index size</th>\n",
       "      <th>Tree runtime</th>\n",
       "      <th>Tree memory (max)</th>\n",
       "      <th>Tree memory (max/process)</th>\n",
       "      <th>Total runtime</th>\n",
       "      <th>Max memory</th>\n",
       "    </tr>\n",
       "  </thead>\n",
       "  <tbody>\n",
       "    <tr>\n",
       "      <th>0</th>\n",
       "      <td>alpha-5.0-cov-30 reads</td>\n",
       "      <td>reference</td>\n",
       "      <td>1</td>\n",
       "      <td>59</td>\n",
       "      <td>25970</td>\n",
       "      <td>6693</td>\n",
       "      <td>32</td>\n",
       "      <td>19699</td>\n",
       "      <td>124.52</td>\n",
       "      <td>2.735587e+09</td>\n",
       "      <td>...</td>\n",
       "      <td>2.990612e+09</td>\n",
       "      <td>23.42</td>\n",
       "      <td>6.249366e+09</td>\n",
       "      <td>684683264.0</td>\n",
       "      <td>6148096.0</td>\n",
       "      <td>202.28</td>\n",
       "      <td>384806912.0</td>\n",
       "      <td>234663936.0</td>\n",
       "      <td>350.22</td>\n",
       "      <td>6.249366e+09</td>\n",
       "    </tr>\n",
       "    <tr>\n",
       "      <th>0</th>\n",
       "      <td>alpha-5.0-cov-30 reads</td>\n",
       "      <td>reference</td>\n",
       "      <td>2</td>\n",
       "      <td>59</td>\n",
       "      <td>25970</td>\n",
       "      <td>6693</td>\n",
       "      <td>32</td>\n",
       "      <td>19699</td>\n",
       "      <td>126.57</td>\n",
       "      <td>2.710249e+09</td>\n",
       "      <td>...</td>\n",
       "      <td>2.990670e+09</td>\n",
       "      <td>23.34</td>\n",
       "      <td>6.267458e+09</td>\n",
       "      <td>685191168.0</td>\n",
       "      <td>6115328.0</td>\n",
       "      <td>161.14</td>\n",
       "      <td>386498560.0</td>\n",
       "      <td>234856448.0</td>\n",
       "      <td>311.05</td>\n",
       "      <td>6.267458e+09</td>\n",
       "    </tr>\n",
       "    <tr>\n",
       "      <th>0</th>\n",
       "      <td>alpha-5.0-cov-30 reads</td>\n",
       "      <td>reference</td>\n",
       "      <td>3</td>\n",
       "      <td>59</td>\n",
       "      <td>25970</td>\n",
       "      <td>6693</td>\n",
       "      <td>32</td>\n",
       "      <td>19699</td>\n",
       "      <td>131.94</td>\n",
       "      <td>2.650030e+09</td>\n",
       "      <td>...</td>\n",
       "      <td>2.990670e+09</td>\n",
       "      <td>23.73</td>\n",
       "      <td>6.261314e+09</td>\n",
       "      <td>684154880.0</td>\n",
       "      <td>6148096.0</td>\n",
       "      <td>165.38</td>\n",
       "      <td>385585152.0</td>\n",
       "      <td>235380736.0</td>\n",
       "      <td>321.05</td>\n",
       "      <td>6.261314e+09</td>\n",
       "    </tr>\n",
       "  </tbody>\n",
       "</table>\n",
       "<p>3 rows × 21 columns</p>\n",
       "</div>"
      ],
      "text/plain": [
       "                     Name Reference name  Iteration  Number samples  \\\n",
       "0  alpha-5.0-cov-30 reads      reference          1              59   \n",
       "0  alpha-5.0-cov-30 reads      reference          2              59   \n",
       "0  alpha-5.0-cov-30 reads      reference          3              59   \n",
       "\n",
       "   Number features (all)  Number features (no unknown)  Number cores  \\\n",
       "0                  25970                          6693            32   \n",
       "0                  25970                          6693            32   \n",
       "0                  25970                          6693            32   \n",
       "\n",
       "   Reference length  Analysis runtime  Analysis memory (max)  ...  \\\n",
       "0             19699            124.52           2.735587e+09  ...   \n",
       "0             19699            126.57           2.710249e+09  ...   \n",
       "0             19699            131.94           2.650030e+09  ...   \n",
       "\n",
       "   Analysis disk uage  Index runtime  Index memory (max)  \\\n",
       "0        2.990612e+09          23.42        6.249366e+09   \n",
       "0        2.990670e+09          23.34        6.267458e+09   \n",
       "0        2.990670e+09          23.73        6.261314e+09   \n",
       "\n",
       "   Index memory (max/process)  Index size  Tree runtime  Tree memory (max)  \\\n",
       "0                 684683264.0   6148096.0        202.28        384806912.0   \n",
       "0                 685191168.0   6115328.0        161.14        386498560.0   \n",
       "0                 684154880.0   6148096.0        165.38        385585152.0   \n",
       "\n",
       "   Tree memory (max/process)  Total runtime    Max memory  \n",
       "0                234663936.0         350.22  6.249366e+09  \n",
       "0                234856448.0         311.05  6.267458e+09  \n",
       "0                235380736.0         321.05  6.261314e+09  \n",
       "\n",
       "[3 rows x 21 columns]"
      ]
     },
     "execution_count": 7,
     "metadata": {},
     "output_type": "execute_result"
    }
   ],
   "source": [
    "benchmark_df"
   ]
  },
  {
   "cell_type": "code",
   "execution_count": 8,
   "id": "535a9ccc-ab9c-4919-806f-128e1efd2389",
   "metadata": {
    "execution": {
     "iopub.execute_input": "2022-03-08T21:58:50.775731Z",
     "iopub.status.busy": "2022-03-08T21:58:50.773643Z",
     "iopub.status.idle": "2022-03-08T21:58:50.781253Z",
     "shell.execute_reply": "2022-03-08T21:58:50.781635Z"
    },
    "papermill": {
     "duration": 0.026427,
     "end_time": "2022-03-08T21:58:50.781749",
     "exception": false,
     "start_time": "2022-03-08T21:58:50.755322",
     "status": "completed"
    },
    "tags": []
   },
   "outputs": [],
   "source": [
    "index_reads_runtime = simulation_dir_path / 'reads-index-info.tsv'\n",
    "benchmark_df.to_csv(index_reads_runtime, sep='\\t', index=False)"
   ]
  },
  {
   "cell_type": "markdown",
   "id": "c331578f-4026-4a9f-a3ba-288814b02ed2",
   "metadata": {
    "papermill": {
     "duration": 0.011273,
     "end_time": "2022-03-08T21:58:50.808883",
     "exception": false,
     "start_time": "2022-03-08T21:58:50.797610",
     "status": "completed"
    },
    "tags": []
   },
   "source": [
    "## 2.2. Index assemblies"
   ]
  },
  {
   "cell_type": "code",
   "execution_count": 9,
   "id": "6e6664f4-94ee-4c45-b1fc-e048b387fa49",
   "metadata": {
    "execution": {
     "iopub.execute_input": "2022-03-08T21:58:50.848554Z",
     "iopub.status.busy": "2022-03-08T21:58:50.837897Z",
     "iopub.status.idle": "2022-03-08T21:58:54.382789Z",
     "shell.execute_reply": "2022-03-08T21:58:54.383660Z"
    },
    "papermill": {
     "duration": 3.563735,
     "end_time": "2022-03-08T21:58:54.383951",
     "exception": false,
     "start_time": "2022-03-08T21:58:50.820216",
     "status": "completed"
    },
    "tags": []
   },
   "outputs": [
    {
     "name": "stdout",
     "output_type": "stream",
     "text": [
      "\u001b[32m2022-03-08 15:58:53\u001b[0m \u001b[1;30mWARNING:\u001b[0m \u001b[33m--skip-existing-samples is enabled but no --project-dir is set. Will not skip existing samples.\u001b[0m\r\n"
     ]
    }
   ],
   "source": [
    "input_genomes_file = simulation_dir_path / 'input-assemblies.tsv'\n",
    "\n",
    "!gdi input --absolute {assemblies_dir}/*.fa.gz > {input_genomes_file}"
   ]
  },
  {
   "cell_type": "code",
   "execution_count": 10,
   "id": "0a1e62f3-3b0c-4a90-a7fe-f0bc1094e350",
   "metadata": {
    "execution": {
     "iopub.execute_input": "2022-03-08T21:58:54.432638Z",
     "iopub.status.busy": "2022-03-08T21:58:54.432186Z",
     "iopub.status.idle": "2022-03-08T22:06:55.657110Z",
     "shell.execute_reply": "2022-03-08T22:06:55.656101Z"
    },
    "papermill": {
     "duration": 481.248815,
     "end_time": "2022-03-08T22:06:55.657365",
     "exception": false,
     "start_time": "2022-03-08T21:58:54.408550",
     "status": "completed"
    },
    "tags": []
   },
   "outputs": [
    {
     "name": "stdout",
     "output_type": "stream",
     "text": [
      "\n",
      "Iteration 1 of index/analysis of 59 samples with 32 cores\n",
      "Removing any extra snakemake directories: ['snakemake-assemblies.1646776412.2674246']\n"
     ]
    },
    {
     "name": "stdout",
     "output_type": "stream",
     "text": [
      "Creating new index: [gdi init simulations/alpha-5.0-cov-30/index-assemblies]\n"
     ]
    },
    {
     "name": "stdout",
     "output_type": "stream",
     "text": [
      "Creating a new index took 3.34 seconds\n",
      "Analysis running: [gdi --project-dir simulations/alpha-5.0-cov-30/index-assemblies --ncores 32 analysis --use-conda --no-load-data --reference-file simulations/reference/reference.fa.gz --kmer-size 31 --kmer-size 51 --kmer-size 71 --include-kmer --reads-mincov 10 --input-structured-genomes-file simulations/alpha-5.0-cov-30/input-assemblies.tsv]\n"
     ]
    },
    {
     "name": "stdout",
     "output_type": "stream",
     "text": [
      "Analysis took 2.00 minutes\n",
      "Index running: [gdi --project-dir simulations/alpha-5.0-cov-30/index-assemblies --ncores 32 load vcf-kmer --sample-batch-size 2000 --reference-file simulations/reference/reference.fa.gz /home/CSCScience.ca/apetkau/workspace/genomics-data-index-evaluation/evaluations/simulation/snakemake-assemblies.1646776742.5398116/gdi-input.fofn]\n"
     ]
    },
    {
     "name": "stdout",
     "output_type": "stream",
     "text": [
      "Indexing took 0.64 minutes\n",
      "Building tree: [gdi --project-dir simulations/alpha-5.0-cov-30/index-assemblies --ncores 32 rebuild tree --align-type full --extra-params '--fast -m GTR+F+R4' reference]\n"
     ]
    },
    {
     "name": "stdout",
     "output_type": "stream",
     "text": [
      "Building tree took 0.10 minutes\n"
     ]
    },
    {
     "name": "stderr",
     "output_type": "stream",
     "text": [
      "Attempting to set global database_path_translator=<genomics_data_index.storage.model.db.DatabasePathTranslator.DatabasePathTranslator object at 0x7faf642542e0> but it is already set\n"
     ]
    },
    {
     "name": "stderr",
     "output_type": "stream",
     "text": [
      "A reminder to myself to look for a Python solution for directory sizes (instead of running `du`)\n"
     ]
    },
    {
     "name": "stdout",
     "output_type": "stream",
     "text": [
      "\n",
      "Iteration 2 of index/analysis of 59 samples with 32 cores\n",
      "Removing any extra snakemake directories: ['snakemake-assemblies.1646776742.5398116']\n"
     ]
    },
    {
     "name": "stdout",
     "output_type": "stream",
     "text": [
      "Removing any existing indexes simulations/alpha-5.0-cov-30/index-assemblies\n",
      "Creating new index: [gdi init simulations/alpha-5.0-cov-30/index-assemblies]\n"
     ]
    },
    {
     "name": "stdout",
     "output_type": "stream",
     "text": [
      "Creating a new index took 3.13 seconds\n",
      "Analysis running: [gdi --project-dir simulations/alpha-5.0-cov-30/index-assemblies --ncores 32 analysis --use-conda --no-load-data --reference-file simulations/reference/reference.fa.gz --kmer-size 31 --kmer-size 51 --kmer-size 71 --include-kmer --reads-mincov 10 --input-structured-genomes-file simulations/alpha-5.0-cov-30/input-assemblies.tsv]\n"
     ]
    },
    {
     "name": "stdout",
     "output_type": "stream",
     "text": [
      "Analysis took 1.79 minutes\n",
      "Index running: [gdi --project-dir simulations/alpha-5.0-cov-30/index-assemblies --ncores 32 load vcf-kmer --sample-batch-size 2000 --reference-file simulations/reference/reference.fa.gz /home/CSCScience.ca/apetkau/workspace/genomics-data-index-evaluation/evaluations/simulation/snakemake-assemblies.1646776912.195697/gdi-input.fofn]\n"
     ]
    },
    {
     "name": "stdout",
     "output_type": "stream",
     "text": [
      "Indexing took 0.64 minutes\n",
      "Building tree: [gdi --project-dir simulations/alpha-5.0-cov-30/index-assemblies --ncores 32 rebuild tree --align-type full --extra-params '--fast -m GTR+F+R4' reference]\n"
     ]
    },
    {
     "name": "stdout",
     "output_type": "stream",
     "text": [
      "Building tree took 0.10 minutes\n"
     ]
    },
    {
     "name": "stderr",
     "output_type": "stream",
     "text": [
      "Attempting to set global database_path_translator=<genomics_data_index.storage.model.db.DatabasePathTranslator.DatabasePathTranslator object at 0x7faf1ad9efd0> but it is already set\n"
     ]
    },
    {
     "name": "stderr",
     "output_type": "stream",
     "text": [
      "A reminder to myself to look for a Python solution for directory sizes (instead of running `du`)\n"
     ]
    },
    {
     "name": "stdout",
     "output_type": "stream",
     "text": [
      "\n",
      "Iteration 3 of index/analysis of 59 samples with 32 cores\n",
      "Removing any extra snakemake directories: ['snakemake-assemblies.1646776912.195697']\n"
     ]
    },
    {
     "name": "stdout",
     "output_type": "stream",
     "text": [
      "Removing any existing indexes simulations/alpha-5.0-cov-30/index-assemblies\n",
      "Creating new index: [gdi init simulations/alpha-5.0-cov-30/index-assemblies]\n"
     ]
    },
    {
     "name": "stdout",
     "output_type": "stream",
     "text": [
      "Creating a new index took 3.08 seconds\n",
      "Analysis running: [gdi --project-dir simulations/alpha-5.0-cov-30/index-assemblies --ncores 32 analysis --use-conda --no-load-data --reference-file simulations/reference/reference.fa.gz --kmer-size 31 --kmer-size 51 --kmer-size 71 --include-kmer --reads-mincov 10 --input-structured-genomes-file simulations/alpha-5.0-cov-30/input-assemblies.tsv]\n"
     ]
    },
    {
     "name": "stdout",
     "output_type": "stream",
     "text": [
      "Analysis took 1.77 minutes\n",
      "Index running: [gdi --project-dir simulations/alpha-5.0-cov-30/index-assemblies --ncores 32 load vcf-kmer --sample-batch-size 2000 --reference-file simulations/reference/reference.fa.gz /home/CSCScience.ca/apetkau/workspace/genomics-data-index-evaluation/evaluations/simulation/snakemake-assemblies.1646777068.8399072/gdi-input.fofn]\n"
     ]
    },
    {
     "name": "stdout",
     "output_type": "stream",
     "text": [
      "Indexing took 0.63 minutes\n",
      "Building tree: [gdi --project-dir simulations/alpha-5.0-cov-30/index-assemblies --ncores 32 rebuild tree --align-type full --extra-params '--fast -m GTR+F+R4' reference]\n"
     ]
    },
    {
     "name": "stdout",
     "output_type": "stream",
     "text": [
      "Building tree took 0.10 minutes\n"
     ]
    },
    {
     "name": "stderr",
     "output_type": "stream",
     "text": [
      "Attempting to set global database_path_translator=<genomics_data_index.storage.model.db.DatabasePathTranslator.DatabasePathTranslator object at 0x7faf1af2e7c0> but it is already set\n"
     ]
    },
    {
     "name": "stderr",
     "output_type": "stream",
     "text": [
      "A reminder to myself to look for a Python solution for directory sizes (instead of running `du`)\n"
     ]
    }
   ],
   "source": [
    "results_handler = gdi_benchmark.BenchmarkResultsHandler(name=f'{case_name} assemblies')\n",
    "benchmarker = gdi_benchmark.IndexBenchmarker(benchmark_results_handler=results_handler,\n",
    "                                             index_path=index_assemblies_path, input_files_file=input_genomes_file,\n",
    "                                             reference_file=reference_file, mincov=mincov, build_tree=True,\n",
    "                                             ncores=ncores)\n",
    "\n",
    "benchmark_df = benchmarker.benchmark(iterations=iterations)"
   ]
  },
  {
   "cell_type": "code",
   "execution_count": 11,
   "id": "a6d55a9d-be2f-4851-b66c-04b5ebd597a1",
   "metadata": {
    "execution": {
     "iopub.execute_input": "2022-03-08T22:06:55.733687Z",
     "iopub.status.busy": "2022-03-08T22:06:55.733058Z",
     "iopub.status.idle": "2022-03-08T22:06:55.736937Z",
     "shell.execute_reply": "2022-03-08T22:06:55.736295Z"
    },
    "papermill": {
     "duration": 0.050443,
     "end_time": "2022-03-08T22:06:55.737069",
     "exception": false,
     "start_time": "2022-03-08T22:06:55.686626",
     "status": "completed"
    },
    "tags": []
   },
   "outputs": [
    {
     "data": {
      "text/html": [
       "<div>\n",
       "<style scoped>\n",
       "    .dataframe tbody tr th:only-of-type {\n",
       "        vertical-align: middle;\n",
       "    }\n",
       "\n",
       "    .dataframe tbody tr th {\n",
       "        vertical-align: top;\n",
       "    }\n",
       "\n",
       "    .dataframe thead th {\n",
       "        text-align: right;\n",
       "    }\n",
       "</style>\n",
       "<table border=\"1\" class=\"dataframe\">\n",
       "  <thead>\n",
       "    <tr style=\"text-align: right;\">\n",
       "      <th></th>\n",
       "      <th>Name</th>\n",
       "      <th>Reference name</th>\n",
       "      <th>Iteration</th>\n",
       "      <th>Number samples</th>\n",
       "      <th>Number features (all)</th>\n",
       "      <th>Number features (no unknown)</th>\n",
       "      <th>Number cores</th>\n",
       "      <th>Reference length</th>\n",
       "      <th>Analysis runtime</th>\n",
       "      <th>Analysis memory (max)</th>\n",
       "      <th>...</th>\n",
       "      <th>Analysis disk uage</th>\n",
       "      <th>Index runtime</th>\n",
       "      <th>Index memory (max)</th>\n",
       "      <th>Index memory (max/process)</th>\n",
       "      <th>Index size</th>\n",
       "      <th>Tree runtime</th>\n",
       "      <th>Tree memory (max)</th>\n",
       "      <th>Tree memory (max/process)</th>\n",
       "      <th>Total runtime</th>\n",
       "      <th>Max memory</th>\n",
       "    </tr>\n",
       "  </thead>\n",
       "  <tbody>\n",
       "    <tr>\n",
       "      <th>0</th>\n",
       "      <td>alpha-5.0-cov-30 assemblies</td>\n",
       "      <td>reference</td>\n",
       "      <td>1</td>\n",
       "      <td>59</td>\n",
       "      <td>20695</td>\n",
       "      <td>996</td>\n",
       "      <td>32</td>\n",
       "      <td>19699</td>\n",
       "      <td>119.90</td>\n",
       "      <td>1.361535e+09</td>\n",
       "      <td>...</td>\n",
       "      <td>2.199003e+09</td>\n",
       "      <td>38.44</td>\n",
       "      <td>6.348132e+09</td>\n",
       "      <td>1.317319e+09</td>\n",
       "      <td>3371008.0</td>\n",
       "      <td>6.13</td>\n",
       "      <td>244654080.0</td>\n",
       "      <td>234479616.0</td>\n",
       "      <td>164.47</td>\n",
       "      <td>6.348132e+09</td>\n",
       "    </tr>\n",
       "    <tr>\n",
       "      <th>0</th>\n",
       "      <td>alpha-5.0-cov-30 assemblies</td>\n",
       "      <td>reference</td>\n",
       "      <td>2</td>\n",
       "      <td>59</td>\n",
       "      <td>20695</td>\n",
       "      <td>996</td>\n",
       "      <td>32</td>\n",
       "      <td>19699</td>\n",
       "      <td>107.44</td>\n",
       "      <td>1.277239e+09</td>\n",
       "      <td>...</td>\n",
       "      <td>2.198987e+09</td>\n",
       "      <td>38.31</td>\n",
       "      <td>6.352368e+09</td>\n",
       "      <td>1.312154e+09</td>\n",
       "      <td>3366912.0</td>\n",
       "      <td>5.77</td>\n",
       "      <td>244248576.0</td>\n",
       "      <td>234086400.0</td>\n",
       "      <td>151.52</td>\n",
       "      <td>6.352368e+09</td>\n",
       "    </tr>\n",
       "    <tr>\n",
       "      <th>0</th>\n",
       "      <td>alpha-5.0-cov-30 assemblies</td>\n",
       "      <td>reference</td>\n",
       "      <td>3</td>\n",
       "      <td>59</td>\n",
       "      <td>20695</td>\n",
       "      <td>996</td>\n",
       "      <td>32</td>\n",
       "      <td>19699</td>\n",
       "      <td>106.03</td>\n",
       "      <td>1.206968e+09</td>\n",
       "      <td>...</td>\n",
       "      <td>2.198991e+09</td>\n",
       "      <td>37.59</td>\n",
       "      <td>6.382084e+09</td>\n",
       "      <td>1.316807e+09</td>\n",
       "      <td>3375104.0</td>\n",
       "      <td>5.68</td>\n",
       "      <td>245002240.0</td>\n",
       "      <td>234938368.0</td>\n",
       "      <td>149.30</td>\n",
       "      <td>6.382084e+09</td>\n",
       "    </tr>\n",
       "  </tbody>\n",
       "</table>\n",
       "<p>3 rows × 21 columns</p>\n",
       "</div>"
      ],
      "text/plain": [
       "                          Name Reference name  Iteration  Number samples  \\\n",
       "0  alpha-5.0-cov-30 assemblies      reference          1              59   \n",
       "0  alpha-5.0-cov-30 assemblies      reference          2              59   \n",
       "0  alpha-5.0-cov-30 assemblies      reference          3              59   \n",
       "\n",
       "   Number features (all)  Number features (no unknown)  Number cores  \\\n",
       "0                  20695                           996            32   \n",
       "0                  20695                           996            32   \n",
       "0                  20695                           996            32   \n",
       "\n",
       "   Reference length  Analysis runtime  Analysis memory (max)  ...  \\\n",
       "0             19699            119.90           1.361535e+09  ...   \n",
       "0             19699            107.44           1.277239e+09  ...   \n",
       "0             19699            106.03           1.206968e+09  ...   \n",
       "\n",
       "   Analysis disk uage  Index runtime  Index memory (max)  \\\n",
       "0        2.199003e+09          38.44        6.348132e+09   \n",
       "0        2.198987e+09          38.31        6.352368e+09   \n",
       "0        2.198991e+09          37.59        6.382084e+09   \n",
       "\n",
       "   Index memory (max/process)  Index size  Tree runtime  Tree memory (max)  \\\n",
       "0                1.317319e+09   3371008.0          6.13        244654080.0   \n",
       "0                1.312154e+09   3366912.0          5.77        244248576.0   \n",
       "0                1.316807e+09   3375104.0          5.68        245002240.0   \n",
       "\n",
       "   Tree memory (max/process)  Total runtime    Max memory  \n",
       "0                234479616.0         164.47  6.348132e+09  \n",
       "0                234086400.0         151.52  6.352368e+09  \n",
       "0                234938368.0         149.30  6.382084e+09  \n",
       "\n",
       "[3 rows x 21 columns]"
      ]
     },
     "execution_count": 11,
     "metadata": {},
     "output_type": "execute_result"
    }
   ],
   "source": [
    "benchmark_df"
   ]
  },
  {
   "cell_type": "code",
   "execution_count": 12,
   "id": "e1a6d962-50bc-4c8d-a6f2-3a661da706b4",
   "metadata": {
    "execution": {
     "iopub.execute_input": "2022-03-08T22:06:55.787635Z",
     "iopub.status.busy": "2022-03-08T22:06:55.787115Z",
     "iopub.status.idle": "2022-03-08T22:06:55.789762Z",
     "shell.execute_reply": "2022-03-08T22:06:55.790174Z"
    },
    "papermill": {
     "duration": 0.027504,
     "end_time": "2022-03-08T22:06:55.790295",
     "exception": false,
     "start_time": "2022-03-08T22:06:55.762791",
     "status": "completed"
    },
    "tags": []
   },
   "outputs": [],
   "source": [
    "index_assemblies_runtime = simulation_dir_path / 'assemblies-index-info.tsv'\n",
    "benchmark_df.to_csv(index_assemblies_runtime, sep='\\t', index=False)"
   ]
  },
  {
   "cell_type": "markdown",
   "id": "6cb7673b-9f85-4c43-b2e2-93538497a196",
   "metadata": {
    "papermill": {
     "duration": 0.016075,
     "end_time": "2022-03-08T22:06:55.826234",
     "exception": false,
     "start_time": "2022-03-08T22:06:55.810159",
     "status": "completed"
    },
    "tags": []
   },
   "source": [
    "# 3. Export trees"
   ]
  },
  {
   "cell_type": "code",
   "execution_count": 13,
   "id": "5280f82c-5434-4391-8c44-b937a7c95bd5",
   "metadata": {
    "execution": {
     "iopub.execute_input": "2022-03-08T22:06:55.876818Z",
     "iopub.status.busy": "2022-03-08T22:06:55.866640Z",
     "iopub.status.idle": "2022-03-08T22:07:02.638343Z",
     "shell.execute_reply": "2022-03-08T22:07:02.639211Z"
    },
    "papermill": {
     "duration": 6.797307,
     "end_time": "2022-03-08T22:07:02.639538",
     "exception": false,
     "start_time": "2022-03-08T22:06:55.842231",
     "status": "completed"
    },
    "tags": []
   },
   "outputs": [
    {
     "name": "stdout",
     "output_type": "stream",
     "text": [
      "\u001b[32m2022-03-08 16:06:58\u001b[0m \u001b[1;30mERROR:\u001b[0m \u001b[31mreference_genome=[<Reference(id=1, name=reference, length=19699)>] does not have a tree\u001b[0m\r\n"
     ]
    },
    {
     "name": "stdout",
     "output_type": "stream",
     "text": [
      "Wrote assemblies tree to simulations/alpha-5.0-cov-30/index-assemblies/assemblies.tre\n"
     ]
    },
    {
     "name": "stdout",
     "output_type": "stream",
     "text": [
      "Wrote assemblies tree to simulations/alpha-5.0-cov-30/index-reads/reads.tre\n"
     ]
    }
   ],
   "source": [
    "!gdi --project-dir {index_assemblies_path} export tree {reference_name} > {output_assemblies_tree}\n",
    "print(f'Wrote assemblies tree to {output_assemblies_tree}')\n",
    "\n",
    "!gdi --project-dir {index_reads_path} export tree {reference_name} > {output_reads_tree}\n",
    "print(f'Wrote assemblies tree to {output_reads_tree}')"
   ]
  }
 ],
 "metadata": {
  "kernelspec": {
   "display_name": "Python 3 (ipykernel)",
   "language": "python",
   "name": "python3"
  },
  "language_info": {
   "codemirror_mode": {
    "name": "ipython",
    "version": 3
   },
   "file_extension": ".py",
   "mimetype": "text/x-python",
   "name": "python",
   "nbconvert_exporter": "python",
   "pygments_lexer": "ipython3",
   "version": "3.8.12"
  },
  "papermill": {
   "default_parameters": {},
   "duration": 1502.945169,
   "end_time": "2022-03-08T22:07:03.200366",
   "environment_variables": {},
   "exception": null,
   "input_path": "template-3-index-genomes.ipynb",
   "output_path": "3-index-genomes.simulation-alpha-5.0.ipynb",
   "parameters": {
    "iterations": 3,
    "mincov": 10,
    "read_coverage": 30,
    "simulation_dir": "simulations/alpha-5.0-cov-30",
    "sub_alpha": 5.0
   },
   "start_time": "2022-03-08T21:42:00.255197",
   "version": "2.3.4"
  }
 },
 "nbformat": 4,
 "nbformat_minor": 5
}