{
 "cells": [
  {
   "cell_type": "markdown",
   "id": "7d3667b4-b1f8-4347-96e3-830c25b06740",
   "metadata": {
    "papermill": {
     "duration": 0.017669,
     "end_time": "2021-09-11T21:07:35.449939",
     "exception": false,
     "start_time": "2021-09-11T21:07:35.432270",
     "status": "completed"
    },
    "tags": []
   },
   "source": [
    "# 1. Parameters"
   ]
  },
  {
   "cell_type": "code",
   "execution_count": 1,
   "id": "d4ab0749-b286-4c34-b63c-a854e4952bae",
   "metadata": {
    "execution": {
     "iopub.execute_input": "2021-09-11T21:07:35.480847Z",
     "iopub.status.busy": "2021-09-11T21:07:35.480398Z",
     "iopub.status.idle": "2021-09-11T21:07:35.484995Z",
     "shell.execute_reply": "2021-09-11T21:07:35.485482Z"
    },
    "papermill": {
     "duration": 0.026114,
     "end_time": "2021-09-11T21:07:35.485710",
     "exception": false,
     "start_time": "2021-09-11T21:07:35.459596",
     "status": "completed"
    },
    "tags": [
     "parameters"
    ]
   },
   "outputs": [],
   "source": [
    "# Defaults\n",
    "simulation_dir = 'simulations/unset'\n",
    "reference_file = 'simulations/reference/reference.fa.gz'\n",
    "iterations = 3\n",
    "mincov = 10\n",
    "ncores = 32"
   ]
  },
  {
   "cell_type": "code",
   "execution_count": 2,
   "id": "0607a38d",
   "metadata": {
    "execution": {
     "iopub.execute_input": "2021-09-11T21:07:35.509981Z",
     "iopub.status.busy": "2021-09-11T21:07:35.509616Z",
     "iopub.status.idle": "2021-09-11T21:07:35.512530Z",
     "shell.execute_reply": "2021-09-11T21:07:35.512904Z"
    },
    "papermill": {
     "duration": 0.017077,
     "end_time": "2021-09-11T21:07:35.513026",
     "exception": false,
     "start_time": "2021-09-11T21:07:35.495949",
     "status": "completed"
    },
    "tags": [
     "injected-parameters"
    ]
   },
   "outputs": [],
   "source": [
    "# Parameters\n",
    "read_coverage = 30\n",
    "mincov = 10\n",
    "simulation_dir = \"simulations/alpha-5.0-cov-30\"\n",
    "iterations = 3\n",
    "sub_alpha = 5.0\n"
   ]
  },
  {
   "cell_type": "code",
   "execution_count": 3,
   "id": "ce5962e4-261c-4210-b39b-47044e28466b",
   "metadata": {
    "execution": {
     "iopub.execute_input": "2021-09-11T21:07:35.537595Z",
     "iopub.status.busy": "2021-09-11T21:07:35.537209Z",
     "iopub.status.idle": "2021-09-11T21:07:37.674342Z",
     "shell.execute_reply": "2021-09-11T21:07:37.675272Z"
    },
    "papermill": {
     "duration": 2.153705,
     "end_time": "2021-09-11T21:07:37.675613",
     "exception": false,
     "start_time": "2021-09-11T21:07:35.521908",
     "status": "completed"
    },
    "tags": []
   },
   "outputs": [],
   "source": [
    "from pathlib import Path\n",
    "import imp\n",
    "fp, pathname, description = imp.find_module('gdi_benchmark', ['../../lib'])\n",
    "gdi_benchmark = imp.load_module('gdi_benchmark', fp, pathname, description)\n",
    "\n",
    "simulation_dir_path = Path(simulation_dir)\n",
    "\n",
    "case_name = str(simulation_dir_path.name)\n",
    "reads_dir = simulation_dir_path / 'simulated_data' / 'reads'\n",
    "assemblies_dir = simulation_dir_path / 'simulated_data' / 'assemblies'\n",
    "index_reads_path = simulation_dir_path / 'index-reads'\n",
    "index_assemblies_path = simulation_dir_path / 'index-assemblies'\n",
    "output_reads_tree = index_reads_path / 'reads.tre'\n",
    "output_assemblies_tree = index_assemblies_path / 'assemblies.tre'\n",
    "reference_name = Path(reference_file).name.split('.')[0]"
   ]
  },
  {
   "cell_type": "markdown",
   "id": "f208279e-7558-47fc-9362-da29df92828a",
   "metadata": {
    "papermill": {
     "duration": 0.010603,
     "end_time": "2021-09-11T21:07:37.704679",
     "exception": false,
     "start_time": "2021-09-11T21:07:37.694076",
     "status": "completed"
    },
    "tags": []
   },
   "source": [
    "# 2. Index genomes"
   ]
  },
  {
   "cell_type": "code",
   "execution_count": 4,
   "id": "4e936f7c-2fcd-4188-b0e6-6b3ceb5cdcd2",
   "metadata": {
    "execution": {
     "iopub.execute_input": "2021-09-11T21:07:37.736375Z",
     "iopub.status.busy": "2021-09-11T21:07:37.726306Z",
     "iopub.status.idle": "2021-09-11T21:07:40.404194Z",
     "shell.execute_reply": "2021-09-11T21:07:40.405146Z"
    },
    "papermill": {
     "duration": 2.69312,
     "end_time": "2021-09-11T21:07:40.405447",
     "exception": false,
     "start_time": "2021-09-11T21:07:37.712327",
     "status": "completed"
    },
    "tags": []
   },
   "outputs": [
    {
     "name": "stdout",
     "output_type": "stream",
     "text": [
      "gdi, version 0.3.0.dev12\r\n"
     ]
    }
   ],
   "source": [
    "!gdi --version"
   ]
  },
  {
   "cell_type": "markdown",
   "id": "5409ecf8-2158-4361-9d2f-6b1a6c7c63a6",
   "metadata": {
    "papermill": {
     "duration": 0.010507,
     "end_time": "2021-09-11T21:07:40.434595",
     "exception": false,
     "start_time": "2021-09-11T21:07:40.424088",
     "status": "completed"
    },
    "tags": []
   },
   "source": [
    "## 2.1. Index reads"
   ]
  },
  {
   "cell_type": "code",
   "execution_count": 5,
   "id": "b5324f79-913b-4dac-8122-19ad5c0f24b2",
   "metadata": {
    "execution": {
     "iopub.execute_input": "2021-09-11T21:07:40.457315Z",
     "iopub.status.busy": "2021-09-11T21:07:40.456931Z",
     "iopub.status.idle": "2021-09-11T21:07:43.118070Z",
     "shell.execute_reply": "2021-09-11T21:07:43.119019Z"
    },
    "papermill": {
     "duration": 2.676967,
     "end_time": "2021-09-11T21:07:43.119315",
     "exception": false,
     "start_time": "2021-09-11T21:07:40.442348",
     "status": "completed"
    },
    "tags": []
   },
   "outputs": [],
   "source": [
    "input_genomes_file = simulation_dir_path / 'input-reads.tsv'\n",
    "\n",
    "!gdi input --absolute {reads_dir}/*.fq.gz > {input_genomes_file}"
   ]
  },
  {
   "cell_type": "code",
   "execution_count": 6,
   "id": "3d63e861-733e-46f2-8bce-bd1a2c7c7058",
   "metadata": {
    "execution": {
     "iopub.execute_input": "2021-09-11T21:07:43.155950Z",
     "iopub.status.busy": "2021-09-11T21:07:43.155519Z",
     "iopub.status.idle": "2021-09-11T21:25:10.131997Z",
     "shell.execute_reply": "2021-09-11T21:25:10.132994Z"
    },
    "papermill": {
     "duration": 1046.996967,
     "end_time": "2021-09-11T21:25:10.133760",
     "exception": false,
     "start_time": "2021-09-11T21:07:43.136793",
     "status": "completed"
    },
    "tags": []
   },
   "outputs": [
    {
     "name": "stdout",
     "output_type": "stream",
     "text": [
      "\n",
      "Iteration 1 of index/analysis of 59 samples with 32 cores\n",
      "Removing any extra snakemake directories: ['snakemake-assemblies.1631394256.6614664']\n"
     ]
    },
    {
     "name": "stdout",
     "output_type": "stream",
     "text": [
      "Creating new index: [gdi init simulations/alpha-5.0-cov-30/index-reads]\n"
     ]
    },
    {
     "name": "stdout",
     "output_type": "stream",
     "text": [
      "Creating a new index took 2.83 seconds\n",
      "Analysis running: [gdi --project-dir simulations/alpha-5.0-cov-30/index-reads --ncores 32 analysis --use-conda --no-load-data --reference-file simulations/reference/reference.fa.gz --kmer-size 31 --kmer-size 51 --kmer-size 71 --include-kmer --reads-mincov 10 --input-structured-genomes-file simulations/alpha-5.0-cov-30/input-reads.tsv]\n"
     ]
    },
    {
     "name": "stdout",
     "output_type": "stream",
     "text": [
      "Analysis took 1.81 minutes\n",
      "Index running: [gdi --project-dir simulations/alpha-5.0-cov-30/index-reads --ncores 32 load vcf-kmer --reference-file simulations/reference/reference.fa.gz /home/CSCScience.ca/apetkau/workspace/genomics-data-index-evaluation/evaluations/simulation/snakemake-assemblies.1631394470.6255531/gdi-input.fofn]\n"
     ]
    },
    {
     "name": "stdout",
     "output_type": "stream",
     "text": [
      "Indexing took 0.43 minutes\n",
      "Building tree: [gdi --project-dir simulations/alpha-5.0-cov-30/index-reads --ncores 32 rebuild tree --align-type full --extra-params '--fast -m GTR+F+R4' reference]\n"
     ]
    },
    {
     "name": "stdout",
     "output_type": "stream",
     "text": [
      "Building tree took 3.60 minutes\n"
     ]
    },
    {
     "name": "stderr",
     "output_type": "stream",
     "text": [
      "A reminder to myself to look for a Python solution for directory sizes (instead of running `du`)\n"
     ]
    },
    {
     "name": "stdout",
     "output_type": "stream",
     "text": [
      "\n",
      "Iteration 2 of index/analysis of 59 samples with 32 cores\n",
      "Removing any extra snakemake directories: ['snakemake-assemblies.1631394470.6255531']\n"
     ]
    },
    {
     "name": "stdout",
     "output_type": "stream",
     "text": [
      "Removing any existing indexes simulations/alpha-5.0-cov-30/index-reads\n",
      "Creating new index: [gdi init simulations/alpha-5.0-cov-30/index-reads]\n"
     ]
    },
    {
     "name": "stdout",
     "output_type": "stream",
     "text": [
      "Creating a new index took 2.81 seconds\n",
      "Analysis running: [gdi --project-dir simulations/alpha-5.0-cov-30/index-reads --ncores 32 analysis --use-conda --no-load-data --reference-file simulations/reference/reference.fa.gz --kmer-size 31 --kmer-size 51 --kmer-size 71 --include-kmer --reads-mincov 10 --input-structured-genomes-file simulations/alpha-5.0-cov-30/input-reads.tsv]\n"
     ]
    },
    {
     "name": "stdout",
     "output_type": "stream",
     "text": [
      "Analysis took 1.77 minutes\n",
      "Index running: [gdi --project-dir simulations/alpha-5.0-cov-30/index-reads --ncores 32 load vcf-kmer --reference-file simulations/reference/reference.fa.gz /home/CSCScience.ca/apetkau/workspace/genomics-data-index-evaluation/evaluations/simulation/snakemake-assemblies.1631394825.3469245/gdi-input.fofn]\n"
     ]
    },
    {
     "name": "stdout",
     "output_type": "stream",
     "text": [
      "Indexing took 0.37 minutes\n",
      "Building tree: [gdi --project-dir simulations/alpha-5.0-cov-30/index-reads --ncores 32 rebuild tree --align-type full --extra-params '--fast -m GTR+F+R4' reference]\n"
     ]
    },
    {
     "name": "stdout",
     "output_type": "stream",
     "text": [
      "Building tree took 3.25 minutes\n"
     ]
    },
    {
     "name": "stderr",
     "output_type": "stream",
     "text": [
      "Attempting to set global database_path_translator=<genomics_data_index.storage.model.db.DatabasePathTranslator.DatabasePathTranslator object at 0x7fdaf05f4eb0> but it is already set\n"
     ]
    },
    {
     "name": "stderr",
     "output_type": "stream",
     "text": [
      "A reminder to myself to look for a Python solution for directory sizes (instead of running `du`)\n"
     ]
    },
    {
     "name": "stdout",
     "output_type": "stream",
     "text": [
      "\n",
      "Iteration 3 of index/analysis of 59 samples with 32 cores\n",
      "Removing any extra snakemake directories: ['snakemake-assemblies.1631394825.3469245']\n"
     ]
    },
    {
     "name": "stdout",
     "output_type": "stream",
     "text": [
      "Removing any existing indexes simulations/alpha-5.0-cov-30/index-reads\n",
      "Creating new index: [gdi init simulations/alpha-5.0-cov-30/index-reads]\n"
     ]
    },
    {
     "name": "stdout",
     "output_type": "stream",
     "text": [
      "Creating a new index took 2.62 seconds\n",
      "Analysis running: [gdi --project-dir simulations/alpha-5.0-cov-30/index-reads --ncores 32 analysis --use-conda --no-load-data --reference-file simulations/reference/reference.fa.gz --kmer-size 31 --kmer-size 51 --kmer-size 71 --include-kmer --reads-mincov 10 --input-structured-genomes-file simulations/alpha-5.0-cov-30/input-reads.tsv]\n"
     ]
    },
    {
     "name": "stdout",
     "output_type": "stream",
     "text": [
      "Analysis took 1.76 minutes\n",
      "Index running: [gdi --project-dir simulations/alpha-5.0-cov-30/index-reads --ncores 32 load vcf-kmer --reference-file simulations/reference/reference.fa.gz /home/CSCScience.ca/apetkau/workspace/genomics-data-index-evaluation/evaluations/simulation/snakemake-assemblies.1631395153.528396/gdi-input.fofn]\n"
     ]
    },
    {
     "name": "stdout",
     "output_type": "stream",
     "text": [
      "Indexing took 0.40 minutes\n",
      "Building tree: [gdi --project-dir simulations/alpha-5.0-cov-30/index-reads --ncores 32 rebuild tree --align-type full --extra-params '--fast -m GTR+F+R4' reference]\n"
     ]
    },
    {
     "name": "stdout",
     "output_type": "stream",
     "text": [
      "Building tree took 3.82 minutes\n"
     ]
    },
    {
     "name": "stderr",
     "output_type": "stream",
     "text": [
      "Attempting to set global database_path_translator=<genomics_data_index.storage.model.db.DatabasePathTranslator.DatabasePathTranslator object at 0x7fdacc8b0b80> but it is already set\n"
     ]
    },
    {
     "name": "stderr",
     "output_type": "stream",
     "text": [
      "A reminder to myself to look for a Python solution for directory sizes (instead of running `du`)\n"
     ]
    }
   ],
   "source": [
    "results_handler = gdi_benchmark.BenchmarkResultsHandler(name=f'{case_name} reads')\n",
    "benchmarker = gdi_benchmark.IndexBenchmarker(benchmark_results_handler=results_handler,\n",
    "                                             index_path=index_reads_path, input_files_file=input_genomes_file,\n",
    "                                             reference_file=reference_file, mincov=mincov, build_tree=True,\n",
    "                                             ncores=ncores)\n",
    "\n",
    "benchmark_df = benchmarker.benchmark(iterations=iterations)"
   ]
  },
  {
   "cell_type": "code",
   "execution_count": 7,
   "id": "3bcb6da7-0164-47f2-abdd-a4c159da1e3b",
   "metadata": {
    "execution": {
     "iopub.execute_input": "2021-09-11T21:25:10.203209Z",
     "iopub.status.busy": "2021-09-11T21:25:10.195073Z",
     "iopub.status.idle": "2021-09-11T21:25:10.216620Z",
     "shell.execute_reply": "2021-09-11T21:25:10.217520Z"
    },
    "papermill": {
     "duration": 0.057834,
     "end_time": "2021-09-11T21:25:10.217789",
     "exception": false,
     "start_time": "2021-09-11T21:25:10.159955",
     "status": "completed"
    },
    "tags": []
   },
   "outputs": [
    {
     "data": {
      "text/html": [
       "<div>\n",
       "<style scoped>\n",
       "    .dataframe tbody tr th:only-of-type {\n",
       "        vertical-align: middle;\n",
       "    }\n",
       "\n",
       "    .dataframe tbody tr th {\n",
       "        vertical-align: top;\n",
       "    }\n",
       "\n",
       "    .dataframe thead th {\n",
       "        text-align: right;\n",
       "    }\n",
       "</style>\n",
       "<table border=\"1\" class=\"dataframe\">\n",
       "  <thead>\n",
       "    <tr style=\"text-align: right;\">\n",
       "      <th></th>\n",
       "      <th>Name</th>\n",
       "      <th>Iteration</th>\n",
       "      <th>Number samples</th>\n",
       "      <th>Number features (all)</th>\n",
       "      <th>Number features (no unknown)</th>\n",
       "      <th>Number cores</th>\n",
       "      <th>Reference length</th>\n",
       "      <th>Analysis runtime</th>\n",
       "      <th>Analysis memory (max)</th>\n",
       "      <th>Analysis memory (max/process)</th>\n",
       "      <th>Analysis disk uage</th>\n",
       "      <th>Index runtime</th>\n",
       "      <th>Index memory (max)</th>\n",
       "      <th>Index memory (max/process)</th>\n",
       "      <th>Index size</th>\n",
       "      <th>Tree runtime</th>\n",
       "      <th>Tree memory (max)</th>\n",
       "      <th>Tree memory (max/process)</th>\n",
       "      <th>Total runtime</th>\n",
       "      <th>Max memory</th>\n",
       "    </tr>\n",
       "  </thead>\n",
       "  <tbody>\n",
       "    <tr>\n",
       "      <th>0</th>\n",
       "      <td>alpha-5.0-cov-30 reads</td>\n",
       "      <td>1</td>\n",
       "      <td>59</td>\n",
       "      <td>25970</td>\n",
       "      <td>6693</td>\n",
       "      <td>32</td>\n",
       "      <td>19699</td>\n",
       "      <td>108.36</td>\n",
       "      <td>2.632700e+09</td>\n",
       "      <td>394895360.0</td>\n",
       "      <td>3.323118e+09</td>\n",
       "      <td>25.74</td>\n",
       "      <td>6.107738e+09</td>\n",
       "      <td>677683200.0</td>\n",
       "      <td>6139904.0</td>\n",
       "      <td>215.82</td>\n",
       "      <td>399749120.0</td>\n",
       "      <td>223039488.0</td>\n",
       "      <td>349.92</td>\n",
       "      <td>6.107738e+09</td>\n",
       "    </tr>\n",
       "    <tr>\n",
       "      <th>0</th>\n",
       "      <td>alpha-5.0-cov-30 reads</td>\n",
       "      <td>2</td>\n",
       "      <td>59</td>\n",
       "      <td>25970</td>\n",
       "      <td>6693</td>\n",
       "      <td>32</td>\n",
       "      <td>19699</td>\n",
       "      <td>106.16</td>\n",
       "      <td>2.599932e+09</td>\n",
       "      <td>388464640.0</td>\n",
       "      <td>3.323130e+09</td>\n",
       "      <td>22.39</td>\n",
       "      <td>6.128083e+09</td>\n",
       "      <td>678416384.0</td>\n",
       "      <td>6139904.0</td>\n",
       "      <td>194.61</td>\n",
       "      <td>402321408.0</td>\n",
       "      <td>223232000.0</td>\n",
       "      <td>323.16</td>\n",
       "      <td>6.128083e+09</td>\n",
       "    </tr>\n",
       "    <tr>\n",
       "      <th>0</th>\n",
       "      <td>alpha-5.0-cov-30 reads</td>\n",
       "      <td>3</td>\n",
       "      <td>59</td>\n",
       "      <td>25970</td>\n",
       "      <td>6693</td>\n",
       "      <td>32</td>\n",
       "      <td>19699</td>\n",
       "      <td>105.54</td>\n",
       "      <td>2.614821e+09</td>\n",
       "      <td>383418368.0</td>\n",
       "      <td>3.323105e+09</td>\n",
       "      <td>24.04</td>\n",
       "      <td>6.126580e+09</td>\n",
       "      <td>676630528.0</td>\n",
       "      <td>6148096.0</td>\n",
       "      <td>228.87</td>\n",
       "      <td>399294464.0</td>\n",
       "      <td>222752768.0</td>\n",
       "      <td>358.45</td>\n",
       "      <td>6.126580e+09</td>\n",
       "    </tr>\n",
       "  </tbody>\n",
       "</table>\n",
       "</div>"
      ],
      "text/plain": [
       "                     Name  Iteration  Number samples  Number features (all)  \\\n",
       "0  alpha-5.0-cov-30 reads          1              59                  25970   \n",
       "0  alpha-5.0-cov-30 reads          2              59                  25970   \n",
       "0  alpha-5.0-cov-30 reads          3              59                  25970   \n",
       "\n",
       "   Number features (no unknown)  Number cores  Reference length  \\\n",
       "0                          6693            32             19699   \n",
       "0                          6693            32             19699   \n",
       "0                          6693            32             19699   \n",
       "\n",
       "   Analysis runtime  Analysis memory (max)  Analysis memory (max/process)  \\\n",
       "0            108.36           2.632700e+09                    394895360.0   \n",
       "0            106.16           2.599932e+09                    388464640.0   \n",
       "0            105.54           2.614821e+09                    383418368.0   \n",
       "\n",
       "   Analysis disk uage  Index runtime  Index memory (max)  \\\n",
       "0        3.323118e+09          25.74        6.107738e+09   \n",
       "0        3.323130e+09          22.39        6.128083e+09   \n",
       "0        3.323105e+09          24.04        6.126580e+09   \n",
       "\n",
       "   Index memory (max/process)  Index size  Tree runtime  Tree memory (max)  \\\n",
       "0                 677683200.0   6139904.0        215.82        399749120.0   \n",
       "0                 678416384.0   6139904.0        194.61        402321408.0   \n",
       "0                 676630528.0   6148096.0        228.87        399294464.0   \n",
       "\n",
       "   Tree memory (max/process)  Total runtime    Max memory  \n",
       "0                223039488.0         349.92  6.107738e+09  \n",
       "0                223232000.0         323.16  6.128083e+09  \n",
       "0                222752768.0         358.45  6.126580e+09  "
      ]
     },
     "execution_count": 7,
     "metadata": {},
     "output_type": "execute_result"
    }
   ],
   "source": [
    "benchmark_df"
   ]
  },
  {
   "cell_type": "code",
   "execution_count": 8,
   "id": "535a9ccc-ab9c-4919-806f-128e1efd2389",
   "metadata": {
    "execution": {
     "iopub.execute_input": "2021-09-11T21:25:10.262489Z",
     "iopub.status.busy": "2021-09-11T21:25:10.261069Z",
     "iopub.status.idle": "2021-09-11T21:25:10.269557Z",
     "shell.execute_reply": "2021-09-11T21:25:10.268617Z"
    },
    "papermill": {
     "duration": 0.028196,
     "end_time": "2021-09-11T21:25:10.269781",
     "exception": false,
     "start_time": "2021-09-11T21:25:10.241585",
     "status": "completed"
    },
    "tags": []
   },
   "outputs": [],
   "source": [
    "index_reads_runtime = simulation_dir_path / 'reads-index-info.tsv'\n",
    "benchmark_df.to_csv(index_reads_runtime, sep='\\t', index=False)"
   ]
  },
  {
   "cell_type": "markdown",
   "id": "c331578f-4026-4a9f-a3ba-288814b02ed2",
   "metadata": {
    "papermill": {
     "duration": 0.012132,
     "end_time": "2021-09-11T21:25:10.305247",
     "exception": false,
     "start_time": "2021-09-11T21:25:10.293115",
     "status": "completed"
    },
    "tags": []
   },
   "source": [
    "## 2.2. Index assemblies"
   ]
  },
  {
   "cell_type": "code",
   "execution_count": 9,
   "id": "6e6664f4-94ee-4c45-b1fc-e048b387fa49",
   "metadata": {
    "execution": {
     "iopub.execute_input": "2021-09-11T21:25:10.345314Z",
     "iopub.status.busy": "2021-09-11T21:25:10.334642Z",
     "iopub.status.idle": "2021-09-11T21:25:13.133807Z",
     "shell.execute_reply": "2021-09-11T21:25:13.132820Z"
    },
    "papermill": {
     "duration": 2.817835,
     "end_time": "2021-09-11T21:25:13.134075",
     "exception": false,
     "start_time": "2021-09-11T21:25:10.316240",
     "status": "completed"
    },
    "tags": []
   },
   "outputs": [],
   "source": [
    "input_genomes_file = simulation_dir_path / 'input-assemblies.tsv'\n",
    "\n",
    "!gdi input --absolute {assemblies_dir}/*.fa.gz > {input_genomes_file}"
   ]
  },
  {
   "cell_type": "code",
   "execution_count": 10,
   "id": "0a1e62f3-3b0c-4a90-a7fe-f0bc1094e350",
   "metadata": {
    "execution": {
     "iopub.execute_input": "2021-09-11T21:25:13.185776Z",
     "iopub.status.busy": "2021-09-11T21:25:13.184644Z",
     "iopub.status.idle": "2021-09-11T21:34:58.825573Z",
     "shell.execute_reply": "2021-09-11T21:34:58.824556Z"
    },
    "papermill": {
     "duration": 585.665517,
     "end_time": "2021-09-11T21:34:58.825854",
     "exception": false,
     "start_time": "2021-09-11T21:25:13.160337",
     "status": "completed"
    },
    "tags": []
   },
   "outputs": [
    {
     "name": "stdout",
     "output_type": "stream",
     "text": [
      "\n",
      "Iteration 1 of index/analysis of 59 samples with 32 cores\n",
      "Removing any extra snakemake directories: ['snakemake-assemblies.1631395153.528396']\n"
     ]
    },
    {
     "name": "stdout",
     "output_type": "stream",
     "text": [
      "Creating new index: [gdi init simulations/alpha-5.0-cov-30/index-assemblies]\n"
     ]
    },
    {
     "name": "stdout",
     "output_type": "stream",
     "text": [
      "Creating a new index took 2.92 seconds\n",
      "Analysis running: [gdi --project-dir simulations/alpha-5.0-cov-30/index-assemblies --ncores 32 analysis --use-conda --no-load-data --reference-file simulations/reference/reference.fa.gz --kmer-size 31 --kmer-size 51 --kmer-size 71 --include-kmer --reads-mincov 10 --input-structured-genomes-file simulations/alpha-5.0-cov-30/input-assemblies.tsv]\n"
     ]
    },
    {
     "name": "stdout",
     "output_type": "stream",
     "text": [
      "Analysis took 1.55 minutes\n",
      "Index running: [gdi --project-dir simulations/alpha-5.0-cov-30/index-assemblies --ncores 32 load vcf-kmer --reference-file simulations/reference/reference.fa.gz /home/CSCScience.ca/apetkau/workspace/genomics-data-index-evaluation/evaluations/simulation/snakemake-assemblies.1631395520.1973011/gdi-input.fofn]\n"
     ]
    },
    {
     "name": "stdout",
     "output_type": "stream",
     "text": [
      "Indexing took 0.10 minutes\n",
      "Building tree: [gdi --project-dir simulations/alpha-5.0-cov-30/index-assemblies --ncores 32 rebuild tree --align-type full --extra-params '--fast -m GTR+F+R4' reference]\n"
     ]
    },
    {
     "name": "stdout",
     "output_type": "stream",
     "text": [
      "Building tree took 1.34 minutes\n"
     ]
    },
    {
     "name": "stderr",
     "output_type": "stream",
     "text": [
      "Attempting to set global database_path_translator=<genomics_data_index.storage.model.db.DatabasePathTranslator.DatabasePathTranslator object at 0x7fdacc8d0700> but it is already set\n"
     ]
    },
    {
     "name": "stderr",
     "output_type": "stream",
     "text": [
      "A reminder to myself to look for a Python solution for directory sizes (instead of running `du`)\n"
     ]
    },
    {
     "name": "stdout",
     "output_type": "stream",
     "text": [
      "\n",
      "Iteration 2 of index/analysis of 59 samples with 32 cores\n",
      "Removing any extra snakemake directories: ['snakemake-assemblies.1631395520.1973011']\n"
     ]
    },
    {
     "name": "stdout",
     "output_type": "stream",
     "text": [
      "Removing any existing indexes simulations/alpha-5.0-cov-30/index-assemblies\n",
      "Creating new index: [gdi init simulations/alpha-5.0-cov-30/index-assemblies]\n"
     ]
    },
    {
     "name": "stdout",
     "output_type": "stream",
     "text": [
      "Creating a new index took 2.66 seconds\n",
      "Analysis running: [gdi --project-dir simulations/alpha-5.0-cov-30/index-assemblies --ncores 32 analysis --use-conda --no-load-data --reference-file simulations/reference/reference.fa.gz --kmer-size 31 --kmer-size 51 --kmer-size 71 --include-kmer --reads-mincov 10 --input-structured-genomes-file simulations/alpha-5.0-cov-30/input-assemblies.tsv]\n"
     ]
    },
    {
     "name": "stdout",
     "output_type": "stream",
     "text": [
      "Analysis took 1.52 minutes\n",
      "Index running: [gdi --project-dir simulations/alpha-5.0-cov-30/index-assemblies --ncores 32 load vcf-kmer --reference-file simulations/reference/reference.fa.gz /home/CSCScience.ca/apetkau/workspace/genomics-data-index-evaluation/evaluations/simulation/snakemake-assemblies.1631395703.9208527/gdi-input.fofn]\n"
     ]
    },
    {
     "name": "stdout",
     "output_type": "stream",
     "text": [
      "Indexing took 0.10 minutes\n",
      "Building tree: [gdi --project-dir simulations/alpha-5.0-cov-30/index-assemblies --ncores 32 rebuild tree --align-type full --extra-params '--fast -m GTR+F+R4' reference]\n"
     ]
    },
    {
     "name": "stdout",
     "output_type": "stream",
     "text": [
      "Building tree took 1.65 minutes\n"
     ]
    },
    {
     "name": "stderr",
     "output_type": "stream",
     "text": [
      "Attempting to set global database_path_translator=<genomics_data_index.storage.model.db.DatabasePathTranslator.DatabasePathTranslator object at 0x7fdacc932be0> but it is already set\n"
     ]
    },
    {
     "name": "stderr",
     "output_type": "stream",
     "text": [
      "A reminder to myself to look for a Python solution for directory sizes (instead of running `du`)\n"
     ]
    },
    {
     "name": "stdout",
     "output_type": "stream",
     "text": [
      "\n",
      "Iteration 3 of index/analysis of 59 samples with 32 cores\n",
      "Removing any extra snakemake directories: ['snakemake-assemblies.1631395703.9208527']\n"
     ]
    },
    {
     "name": "stdout",
     "output_type": "stream",
     "text": [
      "Removing any existing indexes simulations/alpha-5.0-cov-30/index-assemblies\n",
      "Creating new index: [gdi init simulations/alpha-5.0-cov-30/index-assemblies]\n"
     ]
    },
    {
     "name": "stdout",
     "output_type": "stream",
     "text": [
      "Creating a new index took 2.58 seconds\n",
      "Analysis running: [gdi --project-dir simulations/alpha-5.0-cov-30/index-assemblies --ncores 32 analysis --use-conda --no-load-data --reference-file simulations/reference/reference.fa.gz --kmer-size 31 --kmer-size 51 --kmer-size 71 --include-kmer --reads-mincov 10 --input-structured-genomes-file simulations/alpha-5.0-cov-30/input-assemblies.tsv]\n"
     ]
    },
    {
     "name": "stdout",
     "output_type": "stream",
     "text": [
      "Analysis took 1.51 minutes\n",
      "Index running: [gdi --project-dir simulations/alpha-5.0-cov-30/index-assemblies --ncores 32 load vcf-kmer --reference-file simulations/reference/reference.fa.gz /home/CSCScience.ca/apetkau/workspace/genomics-data-index-evaluation/evaluations/simulation/snakemake-assemblies.1631395903.956386/gdi-input.fofn]\n"
     ]
    },
    {
     "name": "stdout",
     "output_type": "stream",
     "text": [
      "Indexing took 0.09 minutes\n",
      "Building tree: [gdi --project-dir simulations/alpha-5.0-cov-30/index-assemblies --ncores 32 rebuild tree --align-type full --extra-params '--fast -m GTR+F+R4' reference]\n"
     ]
    },
    {
     "name": "stdout",
     "output_type": "stream",
     "text": [
      "Building tree took 1.68 minutes\n"
     ]
    },
    {
     "name": "stderr",
     "output_type": "stream",
     "text": [
      "Attempting to set global database_path_translator=<genomics_data_index.storage.model.db.DatabasePathTranslator.DatabasePathTranslator object at 0x7fdacc908610> but it is already set\n"
     ]
    },
    {
     "name": "stderr",
     "output_type": "stream",
     "text": [
      "A reminder to myself to look for a Python solution for directory sizes (instead of running `du`)\n"
     ]
    }
   ],
   "source": [
    "results_handler = gdi_benchmark.BenchmarkResultsHandler(name=f'{case_name} assemblies')\n",
    "benchmarker = gdi_benchmark.IndexBenchmarker(benchmark_results_handler=results_handler,\n",
    "                                             index_path=index_assemblies_path, input_files_file=input_genomes_file,\n",
    "                                             reference_file=reference_file, mincov=mincov, build_tree=True,\n",
    "                                             ncores=ncores)\n",
    "\n",
    "benchmark_df = benchmarker.benchmark(iterations=iterations)"
   ]
  },
  {
   "cell_type": "code",
   "execution_count": 11,
   "id": "a6d55a9d-be2f-4851-b66c-04b5ebd597a1",
   "metadata": {
    "execution": {
     "iopub.execute_input": "2021-09-11T21:34:58.905009Z",
     "iopub.status.busy": "2021-09-11T21:34:58.903900Z",
     "iopub.status.idle": "2021-09-11T21:34:58.908134Z",
     "shell.execute_reply": "2021-09-11T21:34:58.909022Z"
    },
    "papermill": {
     "duration": 0.053328,
     "end_time": "2021-09-11T21:34:58.909300",
     "exception": false,
     "start_time": "2021-09-11T21:34:58.855972",
     "status": "completed"
    },
    "tags": []
   },
   "outputs": [
    {
     "data": {
      "text/html": [
       "<div>\n",
       "<style scoped>\n",
       "    .dataframe tbody tr th:only-of-type {\n",
       "        vertical-align: middle;\n",
       "    }\n",
       "\n",
       "    .dataframe tbody tr th {\n",
       "        vertical-align: top;\n",
       "    }\n",
       "\n",
       "    .dataframe thead th {\n",
       "        text-align: right;\n",
       "    }\n",
       "</style>\n",
       "<table border=\"1\" class=\"dataframe\">\n",
       "  <thead>\n",
       "    <tr style=\"text-align: right;\">\n",
       "      <th></th>\n",
       "      <th>Name</th>\n",
       "      <th>Iteration</th>\n",
       "      <th>Number samples</th>\n",
       "      <th>Number features (all)</th>\n",
       "      <th>Number features (no unknown)</th>\n",
       "      <th>Number cores</th>\n",
       "      <th>Reference length</th>\n",
       "      <th>Analysis runtime</th>\n",
       "      <th>Analysis memory (max)</th>\n",
       "      <th>Analysis memory (max/process)</th>\n",
       "      <th>Analysis disk uage</th>\n",
       "      <th>Index runtime</th>\n",
       "      <th>Index memory (max)</th>\n",
       "      <th>Index memory (max/process)</th>\n",
       "      <th>Index size</th>\n",
       "      <th>Tree runtime</th>\n",
       "      <th>Tree memory (max)</th>\n",
       "      <th>Tree memory (max/process)</th>\n",
       "      <th>Total runtime</th>\n",
       "      <th>Max memory</th>\n",
       "    </tr>\n",
       "  </thead>\n",
       "  <tbody>\n",
       "    <tr>\n",
       "      <th>0</th>\n",
       "      <td>alpha-5.0-cov-30 assemblies</td>\n",
       "      <td>1</td>\n",
       "      <td>59</td>\n",
       "      <td>996</td>\n",
       "      <td>996</td>\n",
       "      <td>32</td>\n",
       "      <td>19699</td>\n",
       "      <td>93.15</td>\n",
       "      <td>1.157435e+09</td>\n",
       "      <td>376459264.0</td>\n",
       "      <td>2.080563e+09</td>\n",
       "      <td>5.69</td>\n",
       "      <td>5.597921e+09</td>\n",
       "      <td>228593664.0</td>\n",
       "      <td>1323008.0</td>\n",
       "      <td>80.17</td>\n",
       "      <td>276152320.0</td>\n",
       "      <td>223158272.0</td>\n",
       "      <td>179.01</td>\n",
       "      <td>5.597921e+09</td>\n",
       "    </tr>\n",
       "    <tr>\n",
       "      <th>0</th>\n",
       "      <td>alpha-5.0-cov-30 assemblies</td>\n",
       "      <td>2</td>\n",
       "      <td>59</td>\n",
       "      <td>996</td>\n",
       "      <td>996</td>\n",
       "      <td>32</td>\n",
       "      <td>19699</td>\n",
       "      <td>91.13</td>\n",
       "      <td>1.150689e+09</td>\n",
       "      <td>372527104.0</td>\n",
       "      <td>2.080563e+09</td>\n",
       "      <td>5.88</td>\n",
       "      <td>5.601702e+09</td>\n",
       "      <td>228491264.0</td>\n",
       "      <td>1323008.0</td>\n",
       "      <td>98.69</td>\n",
       "      <td>274432000.0</td>\n",
       "      <td>223309824.0</td>\n",
       "      <td>195.70</td>\n",
       "      <td>5.601702e+09</td>\n",
       "    </tr>\n",
       "    <tr>\n",
       "      <th>0</th>\n",
       "      <td>alpha-5.0-cov-30 assemblies</td>\n",
       "      <td>3</td>\n",
       "      <td>59</td>\n",
       "      <td>996</td>\n",
       "      <td>996</td>\n",
       "      <td>32</td>\n",
       "      <td>19699</td>\n",
       "      <td>90.61</td>\n",
       "      <td>1.209692e+09</td>\n",
       "      <td>379797504.0</td>\n",
       "      <td>2.080551e+09</td>\n",
       "      <td>5.52</td>\n",
       "      <td>5.618180e+09</td>\n",
       "      <td>228462592.0</td>\n",
       "      <td>1323008.0</td>\n",
       "      <td>100.69</td>\n",
       "      <td>275255296.0</td>\n",
       "      <td>223121408.0</td>\n",
       "      <td>196.82</td>\n",
       "      <td>5.618180e+09</td>\n",
       "    </tr>\n",
       "  </tbody>\n",
       "</table>\n",
       "</div>"
      ],
      "text/plain": [
       "                          Name  Iteration  Number samples  \\\n",
       "0  alpha-5.0-cov-30 assemblies          1              59   \n",
       "0  alpha-5.0-cov-30 assemblies          2              59   \n",
       "0  alpha-5.0-cov-30 assemblies          3              59   \n",
       "\n",
       "   Number features (all)  Number features (no unknown)  Number cores  \\\n",
       "0                    996                           996            32   \n",
       "0                    996                           996            32   \n",
       "0                    996                           996            32   \n",
       "\n",
       "   Reference length  Analysis runtime  Analysis memory (max)  \\\n",
       "0             19699             93.15           1.157435e+09   \n",
       "0             19699             91.13           1.150689e+09   \n",
       "0             19699             90.61           1.209692e+09   \n",
       "\n",
       "   Analysis memory (max/process)  Analysis disk uage  Index runtime  \\\n",
       "0                    376459264.0        2.080563e+09           5.69   \n",
       "0                    372527104.0        2.080563e+09           5.88   \n",
       "0                    379797504.0        2.080551e+09           5.52   \n",
       "\n",
       "   Index memory (max)  Index memory (max/process)  Index size  Tree runtime  \\\n",
       "0        5.597921e+09                 228593664.0   1323008.0         80.17   \n",
       "0        5.601702e+09                 228491264.0   1323008.0         98.69   \n",
       "0        5.618180e+09                 228462592.0   1323008.0        100.69   \n",
       "\n",
       "   Tree memory (max)  Tree memory (max/process)  Total runtime    Max memory  \n",
       "0        276152320.0                223158272.0         179.01  5.597921e+09  \n",
       "0        274432000.0                223309824.0         195.70  5.601702e+09  \n",
       "0        275255296.0                223121408.0         196.82  5.618180e+09  "
      ]
     },
     "execution_count": 11,
     "metadata": {},
     "output_type": "execute_result"
    }
   ],
   "source": [
    "benchmark_df"
   ]
  },
  {
   "cell_type": "code",
   "execution_count": 12,
   "id": "e1a6d962-50bc-4c8d-a6f2-3a661da706b4",
   "metadata": {
    "execution": {
     "iopub.execute_input": "2021-09-11T21:34:58.958758Z",
     "iopub.status.busy": "2021-09-11T21:34:58.956253Z",
     "iopub.status.idle": "2021-09-11T21:34:58.961924Z",
     "shell.execute_reply": "2021-09-11T21:34:58.962215Z"
    },
    "papermill": {
     "duration": 0.027655,
     "end_time": "2021-09-11T21:34:58.962317",
     "exception": false,
     "start_time": "2021-09-11T21:34:58.934662",
     "status": "completed"
    },
    "tags": []
   },
   "outputs": [],
   "source": [
    "index_assemblies_runtime = simulation_dir_path / 'assemblies-index-info.tsv'\n",
    "benchmark_df.to_csv(index_assemblies_runtime, sep='\\t', index=False)"
   ]
  },
  {
   "cell_type": "markdown",
   "id": "6cb7673b-9f85-4c43-b2e2-93538497a196",
   "metadata": {
    "papermill": {
     "duration": 0.015341,
     "end_time": "2021-09-11T21:34:58.995542",
     "exception": false,
     "start_time": "2021-09-11T21:34:58.980201",
     "status": "completed"
    },
    "tags": []
   },
   "source": [
    "# 3. Export trees"
   ]
  },
  {
   "cell_type": "code",
   "execution_count": 13,
   "id": "5280f82c-5434-4391-8c44-b937a7c95bd5",
   "metadata": {
    "execution": {
     "iopub.execute_input": "2021-09-11T21:34:59.044227Z",
     "iopub.status.busy": "2021-09-11T21:34:59.035709Z",
     "iopub.status.idle": "2021-09-11T21:35:04.801734Z",
     "shell.execute_reply": "2021-09-11T21:35:04.802590Z"
    },
    "papermill": {
     "duration": 5.792185,
     "end_time": "2021-09-11T21:35:04.802906",
     "exception": false,
     "start_time": "2021-09-11T21:34:59.010721",
     "status": "completed"
    },
    "tags": []
   },
   "outputs": [
    {
     "name": "stdout",
     "output_type": "stream",
     "text": [
      "Wrote assemblies tree to simulations/alpha-5.0-cov-30/index-assemblies/assemblies.tre\n"
     ]
    },
    {
     "name": "stdout",
     "output_type": "stream",
     "text": [
      "Wrote assemblies tree to simulations/alpha-5.0-cov-30/index-reads/reads.tre\n"
     ]
    }
   ],
   "source": [
    "!gdi --project-dir {index_assemblies_path} export tree {reference_name} > {output_assemblies_tree}\n",
    "print(f'Wrote assemblies tree to {output_assemblies_tree}')\n",
    "\n",
    "!gdi --project-dir {index_reads_path} export tree {reference_name} > {output_reads_tree}\n",
    "print(f'Wrote assemblies tree to {output_reads_tree}')"
   ]
  }
 ],
 "metadata": {
  "kernelspec": {
   "display_name": "Python 3 (ipykernel)",
   "language": "python",
   "name": "python3"
  },
  "language_info": {
   "codemirror_mode": {
    "name": "ipython",
    "version": 3
   },
   "file_extension": ".py",
   "mimetype": "text/x-python",
   "name": "python",
   "nbconvert_exporter": "python",
   "pygments_lexer": "ipython3",
   "version": "3.8.10"
  },
  "papermill": {
   "default_parameters": {},
   "duration": 1651.665069,
   "end_time": "2021-09-11T21:35:06.142825",
   "environment_variables": {},
   "exception": null,
   "input_path": "template-3-index-genomes.ipynb",
   "output_path": "3-index-genomes.simulation-alpha-5.0.ipynb",
   "parameters": {
    "iterations": 3,
    "mincov": 10,
    "read_coverage": 30,
    "simulation_dir": "simulations/alpha-5.0-cov-30",
    "sub_alpha": 5.0
   },
   "start_time": "2021-09-11T21:07:34.477756",
   "version": "2.3.3"
  }
 },
 "nbformat": 4,
 "nbformat_minor": 5
}