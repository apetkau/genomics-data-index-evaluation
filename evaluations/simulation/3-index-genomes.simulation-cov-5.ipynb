{
 "cells": [
  {
   "cell_type": "markdown",
   "id": "7d3667b4-b1f8-4347-96e3-830c25b06740",
   "metadata": {
    "papermill": {
     "duration": 0.01884,
     "end_time": "2021-09-11T23:01:33.256733",
     "exception": false,
     "start_time": "2021-09-11T23:01:33.237893",
     "status": "completed"
    },
    "tags": []
   },
   "source": [
    "# 1. Parameters"
   ]
  },
  {
   "cell_type": "code",
   "execution_count": 1,
   "id": "d4ab0749-b286-4c34-b63c-a854e4952bae",
   "metadata": {
    "execution": {
     "iopub.execute_input": "2021-09-11T23:01:33.288898Z",
     "iopub.status.busy": "2021-09-11T23:01:33.288353Z",
     "iopub.status.idle": "2021-09-11T23:01:33.294704Z",
     "shell.execute_reply": "2021-09-11T23:01:33.293646Z"
    },
    "papermill": {
     "duration": 0.027989,
     "end_time": "2021-09-11T23:01:33.294968",
     "exception": false,
     "start_time": "2021-09-11T23:01:33.266979",
     "status": "completed"
    },
    "tags": [
     "parameters"
    ]
   },
   "outputs": [],
   "source": [
    "# Defaults\n",
    "simulation_dir = 'simulations/unset'\n",
    "reference_file = 'simulations/reference/reference.fa.gz'\n",
    "iterations = 3\n",
    "mincov = 10\n",
    "ncores = 32"
   ]
  },
  {
   "cell_type": "code",
   "execution_count": 2,
   "id": "517699ac",
   "metadata": {
    "execution": {
     "iopub.execute_input": "2021-09-11T23:01:33.328055Z",
     "iopub.status.busy": "2021-09-11T23:01:33.327627Z",
     "iopub.status.idle": "2021-09-11T23:01:33.330475Z",
     "shell.execute_reply": "2021-09-11T23:01:33.330783Z"
    },
    "papermill": {
     "duration": 0.018712,
     "end_time": "2021-09-11T23:01:33.330892",
     "exception": false,
     "start_time": "2021-09-11T23:01:33.312180",
     "status": "completed"
    },
    "tags": [
     "injected-parameters"
    ]
   },
   "outputs": [],
   "source": [
    "# Parameters\n",
    "read_coverage = 5\n",
    "mincov = 10\n",
    "simulation_dir = \"simulations/cov-5\"\n",
    "iterations = 3\n",
    "sub_alpha = 0.2\n"
   ]
  },
  {
   "cell_type": "code",
   "execution_count": 3,
   "id": "ce5962e4-261c-4210-b39b-47044e28466b",
   "metadata": {
    "execution": {
     "iopub.execute_input": "2021-09-11T23:01:33.356255Z",
     "iopub.status.busy": "2021-09-11T23:01:33.355797Z",
     "iopub.status.idle": "2021-09-11T23:01:35.770082Z",
     "shell.execute_reply": "2021-09-11T23:01:35.769129Z"
    },
    "papermill": {
     "duration": 2.430721,
     "end_time": "2021-09-11T23:01:35.770335",
     "exception": false,
     "start_time": "2021-09-11T23:01:33.339614",
     "status": "completed"
    },
    "tags": []
   },
   "outputs": [],
   "source": [
    "from pathlib import Path\n",
    "import imp\n",
    "fp, pathname, description = imp.find_module('gdi_benchmark', ['../../lib'])\n",
    "gdi_benchmark = imp.load_module('gdi_benchmark', fp, pathname, description)\n",
    "\n",
    "simulation_dir_path = Path(simulation_dir)\n",
    "\n",
    "case_name = str(simulation_dir_path.name)\n",
    "reads_dir = simulation_dir_path / 'simulated_data' / 'reads'\n",
    "assemblies_dir = simulation_dir_path / 'simulated_data' / 'assemblies'\n",
    "index_reads_path = simulation_dir_path / 'index-reads'\n",
    "index_assemblies_path = simulation_dir_path / 'index-assemblies'\n",
    "output_reads_tree = index_reads_path / 'reads.tre'\n",
    "output_assemblies_tree = index_assemblies_path / 'assemblies.tre'\n",
    "reference_name = Path(reference_file).name.split('.')[0]"
   ]
  },
  {
   "cell_type": "markdown",
   "id": "f208279e-7558-47fc-9362-da29df92828a",
   "metadata": {
    "papermill": {
     "duration": 0.009368,
     "end_time": "2021-09-11T23:01:35.795852",
     "exception": false,
     "start_time": "2021-09-11T23:01:35.786484",
     "status": "completed"
    },
    "tags": []
   },
   "source": [
    "# 2. Index genomes"
   ]
  },
  {
   "cell_type": "code",
   "execution_count": 4,
   "id": "4e936f7c-2fcd-4188-b0e6-6b3ceb5cdcd2",
   "metadata": {
    "execution": {
     "iopub.execute_input": "2021-09-11T23:01:35.828463Z",
     "iopub.status.busy": "2021-09-11T23:01:35.818124Z",
     "iopub.status.idle": "2021-09-11T23:01:38.585790Z",
     "shell.execute_reply": "2021-09-11T23:01:38.586681Z"
    },
    "papermill": {
     "duration": 2.78365,
     "end_time": "2021-09-11T23:01:38.586991",
     "exception": false,
     "start_time": "2021-09-11T23:01:35.803341",
     "status": "completed"
    },
    "tags": []
   },
   "outputs": [
    {
     "name": "stdout",
     "output_type": "stream",
     "text": [
      "gdi, version 0.3.0.dev12\r\n"
     ]
    }
   ],
   "source": [
    "!gdi --version"
   ]
  },
  {
   "cell_type": "markdown",
   "id": "5409ecf8-2158-4361-9d2f-6b1a6c7c63a6",
   "metadata": {
    "papermill": {
     "duration": 0.010405,
     "end_time": "2021-09-11T23:01:38.616074",
     "exception": false,
     "start_time": "2021-09-11T23:01:38.605669",
     "status": "completed"
    },
    "tags": []
   },
   "source": [
    "## 2.1. Index reads"
   ]
  },
  {
   "cell_type": "code",
   "execution_count": 5,
   "id": "b5324f79-913b-4dac-8122-19ad5c0f24b2",
   "metadata": {
    "execution": {
     "iopub.execute_input": "2021-09-11T23:01:38.647863Z",
     "iopub.status.busy": "2021-09-11T23:01:38.647092Z",
     "iopub.status.idle": "2021-09-11T23:01:41.619768Z",
     "shell.execute_reply": "2021-09-11T23:01:41.620653Z"
    },
    "papermill": {
     "duration": 2.997237,
     "end_time": "2021-09-11T23:01:41.620971",
     "exception": false,
     "start_time": "2021-09-11T23:01:38.623734",
     "status": "completed"
    },
    "tags": []
   },
   "outputs": [],
   "source": [
    "input_genomes_file = simulation_dir_path / 'input-reads.tsv'\n",
    "\n",
    "!gdi input --absolute {reads_dir}/*.fq.gz > {input_genomes_file}"
   ]
  },
  {
   "cell_type": "code",
   "execution_count": 6,
   "id": "3d63e861-733e-46f2-8bce-bd1a2c7c7058",
   "metadata": {
    "execution": {
     "iopub.execute_input": "2021-09-11T23:01:41.658937Z",
     "iopub.status.busy": "2021-09-11T23:01:41.657986Z",
     "iopub.status.idle": "2021-09-11T23:14:13.111451Z",
     "shell.execute_reply": "2021-09-11T23:14:13.110352Z"
    },
    "papermill": {
     "duration": 751.473466,
     "end_time": "2021-09-11T23:14:13.111958",
     "exception": false,
     "start_time": "2021-09-11T23:01:41.638492",
     "status": "completed"
    },
    "tags": []
   },
   "outputs": [
    {
     "name": "stdout",
     "output_type": "stream",
     "text": [
      "\n",
      "Iteration 1 of index/analysis of 59 samples with 32 cores\n",
      "Removing any extra snakemake directories: ['snakemake-assemblies.1631401092.1737142']\n"
     ]
    },
    {
     "name": "stdout",
     "output_type": "stream",
     "text": [
      "Creating new index: [gdi init simulations/cov-5/index-reads]\n"
     ]
    },
    {
     "name": "stdout",
     "output_type": "stream",
     "text": [
      "Creating a new index took 2.75 seconds\n",
      "Analysis running: [gdi --project-dir simulations/cov-5/index-reads --ncores 32 analysis --use-conda --no-load-data --reference-file simulations/reference/reference.fa.gz --kmer-size 31 --kmer-size 51 --kmer-size 71 --include-kmer --reads-mincov 10 --input-structured-genomes-file simulations/cov-5/input-reads.tsv]\n"
     ]
    },
    {
     "name": "stdout",
     "output_type": "stream",
     "text": [
      "Analysis took 1.64 minutes\n",
      "Index running: [gdi --project-dir simulations/cov-5/index-reads --ncores 32 load vcf-kmer --reference-file simulations/reference/reference.fa.gz /home/CSCScience.ca/apetkau/workspace/genomics-data-index-evaluation/evaluations/simulation/snakemake-assemblies.1631401308.577603/gdi-input.fofn]\n"
     ]
    },
    {
     "name": "stdout",
     "output_type": "stream",
     "text": [
      "Indexing took 0.59 minutes\n",
      "Building tree: [gdi --project-dir simulations/cov-5/index-reads --ncores 32 rebuild tree --align-type full --extra-params '--fast -m GTR+F+R4' reference]\n"
     ]
    },
    {
     "name": "stdout",
     "output_type": "stream",
     "text": [
      "Building tree took 1.78 minutes\n"
     ]
    },
    {
     "name": "stderr",
     "output_type": "stream",
     "text": [
      "A reminder to myself to look for a Python solution for directory sizes (instead of running `du`)\n"
     ]
    },
    {
     "name": "stdout",
     "output_type": "stream",
     "text": [
      "\n",
      "Iteration 2 of index/analysis of 59 samples with 32 cores\n",
      "Removing any extra snakemake directories: ['snakemake-assemblies.1631401308.577603']\n"
     ]
    },
    {
     "name": "stdout",
     "output_type": "stream",
     "text": [
      "Removing any existing indexes simulations/cov-5/index-reads\n",
      "Creating new index: [gdi init simulations/cov-5/index-reads]\n"
     ]
    },
    {
     "name": "stdout",
     "output_type": "stream",
     "text": [
      "Creating a new index took 2.85 seconds\n",
      "Analysis running: [gdi --project-dir simulations/cov-5/index-reads --ncores 32 analysis --use-conda --no-load-data --reference-file simulations/reference/reference.fa.gz --kmer-size 31 --kmer-size 51 --kmer-size 71 --include-kmer --reads-mincov 10 --input-structured-genomes-file simulations/cov-5/input-reads.tsv]\n"
     ]
    },
    {
     "name": "stdout",
     "output_type": "stream",
     "text": [
      "Analysis took 1.66 minutes\n",
      "Index running: [gdi --project-dir simulations/cov-5/index-reads --ncores 32 load vcf-kmer --reference-file simulations/reference/reference.fa.gz /home/CSCScience.ca/apetkau/workspace/genomics-data-index-evaluation/evaluations/simulation/snakemake-assemblies.1631401553.543521/gdi-input.fofn]\n"
     ]
    },
    {
     "name": "stdout",
     "output_type": "stream",
     "text": [
      "Indexing took 0.61 minutes\n",
      "Building tree: [gdi --project-dir simulations/cov-5/index-reads --ncores 32 rebuild tree --align-type full --extra-params '--fast -m GTR+F+R4' reference]\n"
     ]
    },
    {
     "name": "stdout",
     "output_type": "stream",
     "text": [
      "Building tree took 1.91 minutes\n"
     ]
    },
    {
     "name": "stderr",
     "output_type": "stream",
     "text": [
      "Attempting to set global database_path_translator=<genomics_data_index.storage.model.db.DatabasePathTranslator.DatabasePathTranslator object at 0x7f54f0692610> but it is already set\n"
     ]
    },
    {
     "name": "stderr",
     "output_type": "stream",
     "text": [
      "A reminder to myself to look for a Python solution for directory sizes (instead of running `du`)\n"
     ]
    },
    {
     "name": "stdout",
     "output_type": "stream",
     "text": [
      "\n",
      "Iteration 3 of index/analysis of 59 samples with 32 cores\n",
      "Removing any extra snakemake directories: ['snakemake-assemblies.1631401553.543521']\n"
     ]
    },
    {
     "name": "stdout",
     "output_type": "stream",
     "text": [
      "Removing any existing indexes simulations/cov-5/index-reads\n",
      "Creating new index: [gdi init simulations/cov-5/index-reads]\n"
     ]
    },
    {
     "name": "stdout",
     "output_type": "stream",
     "text": [
      "Creating a new index took 2.76 seconds\n",
      "Analysis running: [gdi --project-dir simulations/cov-5/index-reads --ncores 32 analysis --use-conda --no-load-data --reference-file simulations/reference/reference.fa.gz --kmer-size 31 --kmer-size 51 --kmer-size 71 --include-kmer --reads-mincov 10 --input-structured-genomes-file simulations/cov-5/input-reads.tsv]\n"
     ]
    },
    {
     "name": "stdout",
     "output_type": "stream",
     "text": [
      "Analysis took 1.61 minutes\n",
      "Index running: [gdi --project-dir simulations/cov-5/index-reads --ncores 32 load vcf-kmer --reference-file simulations/reference/reference.fa.gz /home/CSCScience.ca/apetkau/workspace/genomics-data-index-evaluation/evaluations/simulation/snakemake-assemblies.1631401809.505415/gdi-input.fofn]\n"
     ]
    },
    {
     "name": "stdout",
     "output_type": "stream",
     "text": [
      "Indexing took 0.61 minutes\n",
      "Building tree: [gdi --project-dir simulations/cov-5/index-reads --ncores 32 rebuild tree --align-type full --extra-params '--fast -m GTR+F+R4' reference]\n"
     ]
    },
    {
     "name": "stdout",
     "output_type": "stream",
     "text": [
      "Building tree took 1.87 minutes\n"
     ]
    },
    {
     "name": "stderr",
     "output_type": "stream",
     "text": [
      "Attempting to set global database_path_translator=<genomics_data_index.storage.model.db.DatabasePathTranslator.DatabasePathTranslator object at 0x7f5499118700> but it is already set\n"
     ]
    },
    {
     "name": "stderr",
     "output_type": "stream",
     "text": [
      "A reminder to myself to look for a Python solution for directory sizes (instead of running `du`)\n"
     ]
    }
   ],
   "source": [
    "results_handler = gdi_benchmark.BenchmarkResultsHandler(name=f'{case_name} reads')\n",
    "benchmarker = gdi_benchmark.IndexBenchmarker(benchmark_results_handler=results_handler,\n",
    "                                             index_path=index_reads_path, input_files_file=input_genomes_file,\n",
    "                                             reference_file=reference_file, mincov=mincov, build_tree=True,\n",
    "                                             ncores=ncores)\n",
    "\n",
    "benchmark_df = benchmarker.benchmark(iterations=iterations)"
   ]
  },
  {
   "cell_type": "code",
   "execution_count": 7,
   "id": "3bcb6da7-0164-47f2-abdd-a4c159da1e3b",
   "metadata": {
    "execution": {
     "iopub.execute_input": "2021-09-11T23:14:13.161131Z",
     "iopub.status.busy": "2021-09-11T23:14:13.157444Z",
     "iopub.status.idle": "2021-09-11T23:14:13.185390Z",
     "shell.execute_reply": "2021-09-11T23:14:13.184431Z"
    },
    "papermill": {
     "duration": 0.04959,
     "end_time": "2021-09-11T23:14:13.185587",
     "exception": false,
     "start_time": "2021-09-11T23:14:13.135997",
     "status": "completed"
    },
    "tags": []
   },
   "outputs": [
    {
     "data": {
      "text/html": [
       "<div>\n",
       "<style scoped>\n",
       "    .dataframe tbody tr th:only-of-type {\n",
       "        vertical-align: middle;\n",
       "    }\n",
       "\n",
       "    .dataframe tbody tr th {\n",
       "        vertical-align: top;\n",
       "    }\n",
       "\n",
       "    .dataframe thead th {\n",
       "        text-align: right;\n",
       "    }\n",
       "</style>\n",
       "<table border=\"1\" class=\"dataframe\">\n",
       "  <thead>\n",
       "    <tr style=\"text-align: right;\">\n",
       "      <th></th>\n",
       "      <th>Name</th>\n",
       "      <th>Iteration</th>\n",
       "      <th>Number samples</th>\n",
       "      <th>Number features (all)</th>\n",
       "      <th>Number features (no unknown)</th>\n",
       "      <th>Number cores</th>\n",
       "      <th>Reference length</th>\n",
       "      <th>Analysis runtime</th>\n",
       "      <th>Analysis memory (max)</th>\n",
       "      <th>Analysis memory (max/process)</th>\n",
       "      <th>Analysis disk uage</th>\n",
       "      <th>Index runtime</th>\n",
       "      <th>Index memory (max)</th>\n",
       "      <th>Index memory (max/process)</th>\n",
       "      <th>Index size</th>\n",
       "      <th>Tree runtime</th>\n",
       "      <th>Tree memory (max)</th>\n",
       "      <th>Tree memory (max/process)</th>\n",
       "      <th>Total runtime</th>\n",
       "      <th>Max memory</th>\n",
       "    </tr>\n",
       "  </thead>\n",
       "  <tbody>\n",
       "    <tr>\n",
       "      <th>0</th>\n",
       "      <td>cov-5 reads</td>\n",
       "      <td>1</td>\n",
       "      <td>59</td>\n",
       "      <td>19986</td>\n",
       "      <td>287</td>\n",
       "      <td>32</td>\n",
       "      <td>19699</td>\n",
       "      <td>98.25</td>\n",
       "      <td>2.712334e+09</td>\n",
       "      <td>399941632.0</td>\n",
       "      <td>3.252867e+09</td>\n",
       "      <td>35.15</td>\n",
       "      <td>6.217036e+09</td>\n",
       "      <td>1.279803e+09</td>\n",
       "      <td>3371008.0</td>\n",
       "      <td>106.50</td>\n",
       "      <td>286429184.0</td>\n",
       "      <td>223305728.0</td>\n",
       "      <td>239.90</td>\n",
       "      <td>6.217036e+09</td>\n",
       "    </tr>\n",
       "    <tr>\n",
       "      <th>0</th>\n",
       "      <td>cov-5 reads</td>\n",
       "      <td>2</td>\n",
       "      <td>59</td>\n",
       "      <td>19986</td>\n",
       "      <td>287</td>\n",
       "      <td>32</td>\n",
       "      <td>19699</td>\n",
       "      <td>99.38</td>\n",
       "      <td>2.722566e+09</td>\n",
       "      <td>397283328.0</td>\n",
       "      <td>3.252867e+09</td>\n",
       "      <td>36.62</td>\n",
       "      <td>6.171673e+09</td>\n",
       "      <td>1.242145e+09</td>\n",
       "      <td>3358720.0</td>\n",
       "      <td>114.76</td>\n",
       "      <td>287264768.0</td>\n",
       "      <td>223416320.0</td>\n",
       "      <td>250.76</td>\n",
       "      <td>6.171673e+09</td>\n",
       "    </tr>\n",
       "    <tr>\n",
       "      <th>0</th>\n",
       "      <td>cov-5 reads</td>\n",
       "      <td>3</td>\n",
       "      <td>59</td>\n",
       "      <td>19986</td>\n",
       "      <td>287</td>\n",
       "      <td>32</td>\n",
       "      <td>19699</td>\n",
       "      <td>96.71</td>\n",
       "      <td>2.746339e+09</td>\n",
       "      <td>396025856.0</td>\n",
       "      <td>3.252867e+09</td>\n",
       "      <td>36.47</td>\n",
       "      <td>6.192931e+09</td>\n",
       "      <td>1.289101e+09</td>\n",
       "      <td>3362816.0</td>\n",
       "      <td>112.32</td>\n",
       "      <td>287145984.0</td>\n",
       "      <td>223363072.0</td>\n",
       "      <td>245.50</td>\n",
       "      <td>6.192931e+09</td>\n",
       "    </tr>\n",
       "  </tbody>\n",
       "</table>\n",
       "</div>"
      ],
      "text/plain": [
       "          Name  Iteration  Number samples  Number features (all)  \\\n",
       "0  cov-5 reads          1              59                  19986   \n",
       "0  cov-5 reads          2              59                  19986   \n",
       "0  cov-5 reads          3              59                  19986   \n",
       "\n",
       "   Number features (no unknown)  Number cores  Reference length  \\\n",
       "0                           287            32             19699   \n",
       "0                           287            32             19699   \n",
       "0                           287            32             19699   \n",
       "\n",
       "   Analysis runtime  Analysis memory (max)  Analysis memory (max/process)  \\\n",
       "0             98.25           2.712334e+09                    399941632.0   \n",
       "0             99.38           2.722566e+09                    397283328.0   \n",
       "0             96.71           2.746339e+09                    396025856.0   \n",
       "\n",
       "   Analysis disk uage  Index runtime  Index memory (max)  \\\n",
       "0        3.252867e+09          35.15        6.217036e+09   \n",
       "0        3.252867e+09          36.62        6.171673e+09   \n",
       "0        3.252867e+09          36.47        6.192931e+09   \n",
       "\n",
       "   Index memory (max/process)  Index size  Tree runtime  Tree memory (max)  \\\n",
       "0                1.279803e+09   3371008.0        106.50        286429184.0   \n",
       "0                1.242145e+09   3358720.0        114.76        287264768.0   \n",
       "0                1.289101e+09   3362816.0        112.32        287145984.0   \n",
       "\n",
       "   Tree memory (max/process)  Total runtime    Max memory  \n",
       "0                223305728.0         239.90  6.217036e+09  \n",
       "0                223416320.0         250.76  6.171673e+09  \n",
       "0                223363072.0         245.50  6.192931e+09  "
      ]
     },
     "execution_count": 7,
     "metadata": {},
     "output_type": "execute_result"
    }
   ],
   "source": [
    "benchmark_df"
   ]
  },
  {
   "cell_type": "code",
   "execution_count": 8,
   "id": "535a9ccc-ab9c-4919-806f-128e1efd2389",
   "metadata": {
    "execution": {
     "iopub.execute_input": "2021-09-11T23:14:13.224140Z",
     "iopub.status.busy": "2021-09-11T23:14:13.223742Z",
     "iopub.status.idle": "2021-09-11T23:14:13.229196Z",
     "shell.execute_reply": "2021-09-11T23:14:13.228814Z"
    },
    "papermill": {
     "duration": 0.021772,
     "end_time": "2021-09-11T23:14:13.229277",
     "exception": false,
     "start_time": "2021-09-11T23:14:13.207505",
     "status": "completed"
    },
    "tags": []
   },
   "outputs": [],
   "source": [
    "index_reads_runtime = simulation_dir_path / 'reads-index-info.tsv'\n",
    "benchmark_df.to_csv(index_reads_runtime, sep='\\t', index=False)"
   ]
  },
  {
   "cell_type": "markdown",
   "id": "c331578f-4026-4a9f-a3ba-288814b02ed2",
   "metadata": {
    "papermill": {
     "duration": 0.011307,
     "end_time": "2021-09-11T23:14:13.253914",
     "exception": false,
     "start_time": "2021-09-11T23:14:13.242607",
     "status": "completed"
    },
    "tags": []
   },
   "source": [
    "## 2.2. Index assemblies"
   ]
  },
  {
   "cell_type": "code",
   "execution_count": 9,
   "id": "6e6664f4-94ee-4c45-b1fc-e048b387fa49",
   "metadata": {
    "execution": {
     "iopub.execute_input": "2021-09-11T23:14:13.289984Z",
     "iopub.status.busy": "2021-09-11T23:14:13.281692Z",
     "iopub.status.idle": "2021-09-11T23:14:16.128694Z",
     "shell.execute_reply": "2021-09-11T23:14:16.129635Z"
    },
    "papermill": {
     "duration": 2.865485,
     "end_time": "2021-09-11T23:14:16.129970",
     "exception": false,
     "start_time": "2021-09-11T23:14:13.264485",
     "status": "completed"
    },
    "tags": []
   },
   "outputs": [],
   "source": [
    "input_genomes_file = simulation_dir_path / 'input-assemblies.tsv'\n",
    "\n",
    "!gdi input --absolute {assemblies_dir}/*.fa.gz > {input_genomes_file}"
   ]
  },
  {
   "cell_type": "code",
   "execution_count": 10,
   "id": "0a1e62f3-3b0c-4a90-a7fe-f0bc1094e350",
   "metadata": {
    "execution": {
     "iopub.execute_input": "2021-09-11T23:14:16.178937Z",
     "iopub.status.busy": "2021-09-11T23:14:16.177673Z",
     "iopub.status.idle": "2021-09-11T23:23:37.481919Z",
     "shell.execute_reply": "2021-09-11T23:23:37.482856Z"
    },
    "papermill": {
     "duration": 561.32753,
     "end_time": "2021-09-11T23:23:37.483192",
     "exception": false,
     "start_time": "2021-09-11T23:14:16.155662",
     "status": "completed"
    },
    "tags": []
   },
   "outputs": [
    {
     "name": "stdout",
     "output_type": "stream",
     "text": [
      "\n",
      "Iteration 1 of index/analysis of 59 samples with 32 cores\n",
      "Removing any extra snakemake directories: ['snakemake-assemblies.1631401809.505415']\n"
     ]
    },
    {
     "name": "stdout",
     "output_type": "stream",
     "text": [
      "Creating new index: [gdi init simulations/cov-5/index-assemblies]\n"
     ]
    },
    {
     "name": "stdout",
     "output_type": "stream",
     "text": [
      "Creating a new index took 2.79 seconds\n",
      "Analysis running: [gdi --project-dir simulations/cov-5/index-assemblies --ncores 32 analysis --use-conda --no-load-data --reference-file simulations/reference/reference.fa.gz --kmer-size 31 --kmer-size 51 --kmer-size 71 --include-kmer --reads-mincov 10 --input-structured-genomes-file simulations/cov-5/input-assemblies.tsv]\n"
     ]
    },
    {
     "name": "stdout",
     "output_type": "stream",
     "text": [
      "Analysis took 1.52 minutes\n",
      "Index running: [gdi --project-dir simulations/cov-5/index-assemblies --ncores 32 load vcf-kmer --reference-file simulations/reference/reference.fa.gz /home/CSCScience.ca/apetkau/workspace/genomics-data-index-evaluation/evaluations/simulation/snakemake-assemblies.1631402063.1615934/gdi-input.fofn]\n"
     ]
    },
    {
     "name": "stdout",
     "output_type": "stream",
     "text": [
      "Indexing took 0.10 minutes\n",
      "Building tree: [gdi --project-dir simulations/cov-5/index-assemblies --ncores 32 rebuild tree --align-type full --extra-params '--fast -m GTR+F+R4' reference]\n"
     ]
    },
    {
     "name": "stdout",
     "output_type": "stream",
     "text": [
      "Building tree took 1.24 minutes\n"
     ]
    },
    {
     "name": "stderr",
     "output_type": "stream",
     "text": [
      "Attempting to set global database_path_translator=<genomics_data_index.storage.model.db.DatabasePathTranslator.DatabasePathTranslator object at 0x7f5499129820> but it is already set\n"
     ]
    },
    {
     "name": "stderr",
     "output_type": "stream",
     "text": [
      "A reminder to myself to look for a Python solution for directory sizes (instead of running `du`)\n"
     ]
    },
    {
     "name": "stdout",
     "output_type": "stream",
     "text": [
      "\n",
      "Iteration 2 of index/analysis of 59 samples with 32 cores\n",
      "Removing any extra snakemake directories: ['snakemake-assemblies.1631402063.1615934']\n"
     ]
    },
    {
     "name": "stdout",
     "output_type": "stream",
     "text": [
      "Removing any existing indexes simulations/cov-5/index-assemblies\n",
      "Creating new index: [gdi init simulations/cov-5/index-assemblies]\n"
     ]
    },
    {
     "name": "stdout",
     "output_type": "stream",
     "text": [
      "Creating a new index took 2.88 seconds\n",
      "Analysis running: [gdi --project-dir simulations/cov-5/index-assemblies --ncores 32 analysis --use-conda --no-load-data --reference-file simulations/reference/reference.fa.gz --kmer-size 31 --kmer-size 51 --kmer-size 71 --include-kmer --reads-mincov 10 --input-structured-genomes-file simulations/cov-5/input-assemblies.tsv]\n"
     ]
    },
    {
     "name": "stdout",
     "output_type": "stream",
     "text": [
      "Analysis took 1.56 minutes\n",
      "Index running: [gdi --project-dir simulations/cov-5/index-assemblies --ncores 32 load vcf-kmer --reference-file simulations/reference/reference.fa.gz /home/CSCScience.ca/apetkau/workspace/genomics-data-index-evaluation/evaluations/simulation/snakemake-assemblies.1631402239.75663/gdi-input.fofn]\n"
     ]
    },
    {
     "name": "stdout",
     "output_type": "stream",
     "text": [
      "Indexing took 0.11 minutes\n",
      "Building tree: [gdi --project-dir simulations/cov-5/index-assemblies --ncores 32 rebuild tree --align-type full --extra-params '--fast -m GTR+F+R4' reference]\n"
     ]
    },
    {
     "name": "stdout",
     "output_type": "stream",
     "text": [
      "Building tree took 1.41 minutes\n"
     ]
    },
    {
     "name": "stderr",
     "output_type": "stream",
     "text": [
      "Attempting to set global database_path_translator=<genomics_data_index.storage.model.db.DatabasePathTranslator.DatabasePathTranslator object at 0x7f5490fbc460> but it is already set\n"
     ]
    },
    {
     "name": "stderr",
     "output_type": "stream",
     "text": [
      "A reminder to myself to look for a Python solution for directory sizes (instead of running `du`)\n"
     ]
    },
    {
     "name": "stdout",
     "output_type": "stream",
     "text": [
      "\n",
      "Iteration 3 of index/analysis of 59 samples with 32 cores\n",
      "Removing any extra snakemake directories: ['snakemake-assemblies.1631402239.75663']\n"
     ]
    },
    {
     "name": "stdout",
     "output_type": "stream",
     "text": [
      "Removing any existing indexes simulations/cov-5/index-assemblies\n",
      "Creating new index: [gdi init simulations/cov-5/index-assemblies]\n"
     ]
    },
    {
     "name": "stdout",
     "output_type": "stream",
     "text": [
      "Creating a new index took 2.80 seconds\n",
      "Analysis running: [gdi --project-dir simulations/cov-5/index-assemblies --ncores 32 analysis --use-conda --no-load-data --reference-file simulations/reference/reference.fa.gz --kmer-size 31 --kmer-size 51 --kmer-size 71 --include-kmer --reads-mincov 10 --input-structured-genomes-file simulations/cov-5/input-assemblies.tsv]\n"
     ]
    },
    {
     "name": "stdout",
     "output_type": "stream",
     "text": [
      "Analysis took 1.52 minutes\n",
      "Index running: [gdi --project-dir simulations/cov-5/index-assemblies --ncores 32 load vcf-kmer --reference-file simulations/reference/reference.fa.gz /home/CSCScience.ca/apetkau/workspace/genomics-data-index-evaluation/evaluations/simulation/snakemake-assemblies.1631402429.0147269/gdi-input.fofn]\n"
     ]
    },
    {
     "name": "stdout",
     "output_type": "stream",
     "text": [
      "Indexing took 0.10 minutes\n",
      "Building tree: [gdi --project-dir simulations/cov-5/index-assemblies --ncores 32 rebuild tree --align-type full --extra-params '--fast -m GTR+F+R4' reference]\n"
     ]
    },
    {
     "name": "stdout",
     "output_type": "stream",
     "text": [
      "Building tree took 1.56 minutes\n"
     ]
    },
    {
     "name": "stderr",
     "output_type": "stream",
     "text": [
      "Attempting to set global database_path_translator=<genomics_data_index.storage.model.db.DatabasePathTranslator.DatabasePathTranslator object at 0x7f5499074c70> but it is already set\n"
     ]
    },
    {
     "name": "stderr",
     "output_type": "stream",
     "text": [
      "A reminder to myself to look for a Python solution for directory sizes (instead of running `du`)\n"
     ]
    }
   ],
   "source": [
    "results_handler = gdi_benchmark.BenchmarkResultsHandler(name=f'{case_name} assemblies')\n",
    "benchmarker = gdi_benchmark.IndexBenchmarker(benchmark_results_handler=results_handler,\n",
    "                                             index_path=index_assemblies_path, input_files_file=input_genomes_file,\n",
    "                                             reference_file=reference_file, mincov=mincov, build_tree=True,\n",
    "                                             ncores=ncores)\n",
    "\n",
    "benchmark_df = benchmarker.benchmark(iterations=iterations)"
   ]
  },
  {
   "cell_type": "code",
   "execution_count": 11,
   "id": "a6d55a9d-be2f-4851-b66c-04b5ebd597a1",
   "metadata": {
    "execution": {
     "iopub.execute_input": "2021-09-11T23:23:37.560159Z",
     "iopub.status.busy": "2021-09-11T23:23:37.559394Z",
     "iopub.status.idle": "2021-09-11T23:23:37.563615Z",
     "shell.execute_reply": "2021-09-11T23:23:37.562605Z"
    },
    "papermill": {
     "duration": 0.051401,
     "end_time": "2021-09-11T23:23:37.563828",
     "exception": false,
     "start_time": "2021-09-11T23:23:37.512427",
     "status": "completed"
    },
    "tags": []
   },
   "outputs": [
    {
     "data": {
      "text/html": [
       "<div>\n",
       "<style scoped>\n",
       "    .dataframe tbody tr th:only-of-type {\n",
       "        vertical-align: middle;\n",
       "    }\n",
       "\n",
       "    .dataframe tbody tr th {\n",
       "        vertical-align: top;\n",
       "    }\n",
       "\n",
       "    .dataframe thead th {\n",
       "        text-align: right;\n",
       "    }\n",
       "</style>\n",
       "<table border=\"1\" class=\"dataframe\">\n",
       "  <thead>\n",
       "    <tr style=\"text-align: right;\">\n",
       "      <th></th>\n",
       "      <th>Name</th>\n",
       "      <th>Iteration</th>\n",
       "      <th>Number samples</th>\n",
       "      <th>Number features (all)</th>\n",
       "      <th>Number features (no unknown)</th>\n",
       "      <th>Number cores</th>\n",
       "      <th>Reference length</th>\n",
       "      <th>Analysis runtime</th>\n",
       "      <th>Analysis memory (max)</th>\n",
       "      <th>Analysis memory (max/process)</th>\n",
       "      <th>Analysis disk uage</th>\n",
       "      <th>Index runtime</th>\n",
       "      <th>Index memory (max)</th>\n",
       "      <th>Index memory (max/process)</th>\n",
       "      <th>Index size</th>\n",
       "      <th>Tree runtime</th>\n",
       "      <th>Tree memory (max)</th>\n",
       "      <th>Tree memory (max/process)</th>\n",
       "      <th>Total runtime</th>\n",
       "      <th>Max memory</th>\n",
       "    </tr>\n",
       "  </thead>\n",
       "  <tbody>\n",
       "    <tr>\n",
       "      <th>0</th>\n",
       "      <td>cov-5 assemblies</td>\n",
       "      <td>1</td>\n",
       "      <td>59</td>\n",
       "      <td>1350</td>\n",
       "      <td>1350</td>\n",
       "      <td>32</td>\n",
       "      <td>19699</td>\n",
       "      <td>91.13</td>\n",
       "      <td>1.245434e+09</td>\n",
       "      <td>364666880.0</td>\n",
       "      <td>2.084594e+09</td>\n",
       "      <td>6.19</td>\n",
       "      <td>5.766296e+09</td>\n",
       "      <td>241201152.0</td>\n",
       "      <td>1359872.0</td>\n",
       "      <td>74.42</td>\n",
       "      <td>240332800.0</td>\n",
       "      <td>223322112.0</td>\n",
       "      <td>171.74</td>\n",
       "      <td>5.766296e+09</td>\n",
       "    </tr>\n",
       "    <tr>\n",
       "      <th>0</th>\n",
       "      <td>cov-5 assemblies</td>\n",
       "      <td>2</td>\n",
       "      <td>59</td>\n",
       "      <td>1350</td>\n",
       "      <td>1350</td>\n",
       "      <td>32</td>\n",
       "      <td>19699</td>\n",
       "      <td>93.54</td>\n",
       "      <td>1.195659e+09</td>\n",
       "      <td>374345728.0</td>\n",
       "      <td>2.084590e+09</td>\n",
       "      <td>6.24</td>\n",
       "      <td>5.767205e+09</td>\n",
       "      <td>242102272.0</td>\n",
       "      <td>1355776.0</td>\n",
       "      <td>84.61</td>\n",
       "      <td>240300032.0</td>\n",
       "      <td>223068160.0</td>\n",
       "      <td>184.39</td>\n",
       "      <td>5.767205e+09</td>\n",
       "    </tr>\n",
       "    <tr>\n",
       "      <th>0</th>\n",
       "      <td>cov-5 assemblies</td>\n",
       "      <td>3</td>\n",
       "      <td>59</td>\n",
       "      <td>1350</td>\n",
       "      <td>1350</td>\n",
       "      <td>32</td>\n",
       "      <td>19699</td>\n",
       "      <td>91.22</td>\n",
       "      <td>1.196311e+09</td>\n",
       "      <td>374079488.0</td>\n",
       "      <td>2.084602e+09</td>\n",
       "      <td>6.14</td>\n",
       "      <td>5.768770e+09</td>\n",
       "      <td>241946624.0</td>\n",
       "      <td>1355776.0</td>\n",
       "      <td>93.28</td>\n",
       "      <td>240300032.0</td>\n",
       "      <td>222912512.0</td>\n",
       "      <td>190.64</td>\n",
       "      <td>5.768770e+09</td>\n",
       "    </tr>\n",
       "  </tbody>\n",
       "</table>\n",
       "</div>"
      ],
      "text/plain": [
       "               Name  Iteration  Number samples  Number features (all)  \\\n",
       "0  cov-5 assemblies          1              59                   1350   \n",
       "0  cov-5 assemblies          2              59                   1350   \n",
       "0  cov-5 assemblies          3              59                   1350   \n",
       "\n",
       "   Number features (no unknown)  Number cores  Reference length  \\\n",
       "0                          1350            32             19699   \n",
       "0                          1350            32             19699   \n",
       "0                          1350            32             19699   \n",
       "\n",
       "   Analysis runtime  Analysis memory (max)  Analysis memory (max/process)  \\\n",
       "0             91.13           1.245434e+09                    364666880.0   \n",
       "0             93.54           1.195659e+09                    374345728.0   \n",
       "0             91.22           1.196311e+09                    374079488.0   \n",
       "\n",
       "   Analysis disk uage  Index runtime  Index memory (max)  \\\n",
       "0        2.084594e+09           6.19        5.766296e+09   \n",
       "0        2.084590e+09           6.24        5.767205e+09   \n",
       "0        2.084602e+09           6.14        5.768770e+09   \n",
       "\n",
       "   Index memory (max/process)  Index size  Tree runtime  Tree memory (max)  \\\n",
       "0                 241201152.0   1359872.0         74.42        240332800.0   \n",
       "0                 242102272.0   1355776.0         84.61        240300032.0   \n",
       "0                 241946624.0   1355776.0         93.28        240300032.0   \n",
       "\n",
       "   Tree memory (max/process)  Total runtime    Max memory  \n",
       "0                223322112.0         171.74  5.766296e+09  \n",
       "0                223068160.0         184.39  5.767205e+09  \n",
       "0                222912512.0         190.64  5.768770e+09  "
      ]
     },
     "execution_count": 11,
     "metadata": {},
     "output_type": "execute_result"
    }
   ],
   "source": [
    "benchmark_df"
   ]
  },
  {
   "cell_type": "code",
   "execution_count": 12,
   "id": "e1a6d962-50bc-4c8d-a6f2-3a661da706b4",
   "metadata": {
    "execution": {
     "iopub.execute_input": "2021-09-11T23:23:37.615479Z",
     "iopub.status.busy": "2021-09-11T23:23:37.613726Z",
     "iopub.status.idle": "2021-09-11T23:23:37.618857Z",
     "shell.execute_reply": "2021-09-11T23:23:37.619187Z"
    },
    "papermill": {
     "duration": 0.028008,
     "end_time": "2021-09-11T23:23:37.619300",
     "exception": false,
     "start_time": "2021-09-11T23:23:37.591292",
     "status": "completed"
    },
    "tags": []
   },
   "outputs": [],
   "source": [
    "index_assemblies_runtime = simulation_dir_path / 'assemblies-index-info.tsv'\n",
    "benchmark_df.to_csv(index_assemblies_runtime, sep='\\t', index=False)"
   ]
  },
  {
   "cell_type": "markdown",
   "id": "6cb7673b-9f85-4c43-b2e2-93538497a196",
   "metadata": {
    "papermill": {
     "duration": 0.015223,
     "end_time": "2021-09-11T23:23:37.653548",
     "exception": false,
     "start_time": "2021-09-11T23:23:37.638325",
     "status": "completed"
    },
    "tags": []
   },
   "source": [
    "# 3. Export trees"
   ]
  },
  {
   "cell_type": "code",
   "execution_count": 13,
   "id": "5280f82c-5434-4391-8c44-b937a7c95bd5",
   "metadata": {
    "execution": {
     "iopub.execute_input": "2021-09-11T23:23:37.692981Z",
     "iopub.status.busy": "2021-09-11T23:23:37.692065Z",
     "iopub.status.idle": "2021-09-11T23:23:43.389997Z",
     "shell.execute_reply": "2021-09-11T23:23:43.390854Z"
    },
    "papermill": {
     "duration": 5.72255,
     "end_time": "2021-09-11T23:23:43.391171",
     "exception": false,
     "start_time": "2021-09-11T23:23:37.668621",
     "status": "completed"
    },
    "tags": []
   },
   "outputs": [
    {
     "name": "stdout",
     "output_type": "stream",
     "text": [
      "Wrote assemblies tree to simulations/cov-5/index-assemblies/assemblies.tre\n"
     ]
    },
    {
     "name": "stdout",
     "output_type": "stream",
     "text": [
      "Wrote assemblies tree to simulations/cov-5/index-reads/reads.tre\n"
     ]
    }
   ],
   "source": [
    "!gdi --project-dir {index_assemblies_path} export tree {reference_name} > {output_assemblies_tree}\n",
    "print(f'Wrote assemblies tree to {output_assemblies_tree}')\n",
    "\n",
    "!gdi --project-dir {index_reads_path} export tree {reference_name} > {output_reads_tree}\n",
    "print(f'Wrote assemblies tree to {output_reads_tree}')"
   ]
  }
 ],
 "metadata": {
  "kernelspec": {
   "display_name": "Python 3 (ipykernel)",
   "language": "python",
   "name": "python3"
  },
  "language_info": {
   "codemirror_mode": {
    "name": "ipython",
    "version": 3
   },
   "file_extension": ".py",
   "mimetype": "text/x-python",
   "name": "python",
   "nbconvert_exporter": "python",
   "pygments_lexer": "ipython3",
   "version": "3.8.10"
  },
  "papermill": {
   "default_parameters": {},
   "duration": 1331.549126,
   "end_time": "2021-09-11T23:23:43.937662",
   "environment_variables": {},
   "exception": null,
   "input_path": "template-3-index-genomes.ipynb",
   "output_path": "3-index-genomes.simulation-cov-5.ipynb",
   "parameters": {
    "iterations": 3,
    "mincov": 10,
    "read_coverage": 5,
    "simulation_dir": "simulations/cov-5",
    "sub_alpha": 0.2
   },
   "start_time": "2021-09-11T23:01:32.388536",
   "version": "2.3.3"
  }
 },
 "nbformat": 4,
 "nbformat_minor": 5
}