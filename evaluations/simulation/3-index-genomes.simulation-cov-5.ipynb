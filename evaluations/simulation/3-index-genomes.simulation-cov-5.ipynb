{
 "cells": [
  {
   "cell_type": "markdown",
   "id": "7d3667b4-b1f8-4347-96e3-830c25b06740",
   "metadata": {
    "papermill": {
     "duration": 0.021297,
     "end_time": "2021-09-02T04:42:39.339412",
     "exception": false,
     "start_time": "2021-09-02T04:42:39.318115",
     "status": "completed"
    },
    "tags": []
   },
   "source": [
    "# 1. Parameters"
   ]
  },
  {
   "cell_type": "code",
   "execution_count": 1,
   "id": "d4ab0749-b286-4c34-b63c-a854e4952bae",
   "metadata": {
    "execution": {
     "iopub.execute_input": "2021-09-02T04:42:39.377935Z",
     "iopub.status.busy": "2021-09-02T04:42:39.377477Z",
     "iopub.status.idle": "2021-09-02T04:42:39.388748Z",
     "shell.execute_reply": "2021-09-02T04:42:39.389597Z"
    },
    "papermill": {
     "duration": 0.032018,
     "end_time": "2021-09-02T04:42:39.390028",
     "exception": false,
     "start_time": "2021-09-02T04:42:39.358010",
     "status": "completed"
    },
    "tags": [
     "parameters"
    ]
   },
   "outputs": [],
   "source": [
    "# Defaults\n",
    "simulation_dir = 'simulations/unset'\n",
    "reference_file = 'simulations/reference/reference.fa.gz'\n",
    "iterations = 3\n",
    "mincov = 10\n",
    "ncores = 32"
   ]
  },
  {
   "cell_type": "code",
   "execution_count": 2,
   "id": "81181e36",
   "metadata": {
    "execution": {
     "iopub.execute_input": "2021-09-02T04:42:39.421546Z",
     "iopub.status.busy": "2021-09-02T04:42:39.421139Z",
     "iopub.status.idle": "2021-09-02T04:42:39.424143Z",
     "shell.execute_reply": "2021-09-02T04:42:39.424466Z"
    },
    "papermill": {
     "duration": 0.018335,
     "end_time": "2021-09-02T04:42:39.424570",
     "exception": false,
     "start_time": "2021-09-02T04:42:39.406235",
     "status": "completed"
    },
    "tags": [
     "injected-parameters"
    ]
   },
   "outputs": [],
   "source": [
    "# Parameters\n",
    "read_coverage = 5\n",
    "mincov = 10\n",
    "simulation_dir = \"simulations/cov-5\"\n",
    "iterations = 3\n"
   ]
  },
  {
   "cell_type": "code",
   "execution_count": 3,
   "id": "ce5962e4-261c-4210-b39b-47044e28466b",
   "metadata": {
    "execution": {
     "iopub.execute_input": "2021-09-02T04:42:39.448742Z",
     "iopub.status.busy": "2021-09-02T04:42:39.448249Z",
     "iopub.status.idle": "2021-09-02T04:42:41.901430Z",
     "shell.execute_reply": "2021-09-02T04:42:41.900496Z"
    },
    "papermill": {
     "duration": 2.469906,
     "end_time": "2021-09-02T04:42:41.901685",
     "exception": false,
     "start_time": "2021-09-02T04:42:39.431779",
     "status": "completed"
    },
    "tags": []
   },
   "outputs": [],
   "source": [
    "from pathlib import Path\n",
    "import imp\n",
    "fp, pathname, description = imp.find_module('gdi_benchmark', ['../../lib'])\n",
    "gdi_benchmark = imp.load_module('gdi_benchmark', fp, pathname, description)\n",
    "\n",
    "simulation_dir_path = Path(simulation_dir)\n",
    "\n",
    "case_name = str(simulation_dir_path.name)\n",
    "reads_dir = simulation_dir_path / 'simulated_data' / 'reads'\n",
    "assemblies_dir = simulation_dir_path / 'simulated_data' / 'assemblies'\n",
    "index_reads_path = simulation_dir_path / 'index-reads'\n",
    "index_assemblies_path = simulation_dir_path / 'index-assemblies'\n",
    "output_reads_tree = index_reads_path / 'reads.tre'\n",
    "output_assemblies_tree = index_assemblies_path / 'assemblies.tre'\n",
    "reference_name = Path(reference_file).name.split('.')[0]"
   ]
  },
  {
   "cell_type": "markdown",
   "id": "f208279e-7558-47fc-9362-da29df92828a",
   "metadata": {
    "papermill": {
     "duration": 0.009821,
     "end_time": "2021-09-02T04:42:41.928831",
     "exception": false,
     "start_time": "2021-09-02T04:42:41.919010",
     "status": "completed"
    },
    "tags": []
   },
   "source": [
    "# 2. Index genomes"
   ]
  },
  {
   "cell_type": "code",
   "execution_count": 4,
   "id": "4e936f7c-2fcd-4188-b0e6-6b3ceb5cdcd2",
   "metadata": {
    "execution": {
     "iopub.execute_input": "2021-09-02T04:42:41.952436Z",
     "iopub.status.busy": "2021-09-02T04:42:41.952040Z",
     "iopub.status.idle": "2021-09-02T04:42:44.846075Z",
     "shell.execute_reply": "2021-09-02T04:42:44.845162Z"
    },
    "papermill": {
     "duration": 2.909942,
     "end_time": "2021-09-02T04:42:44.846331",
     "exception": false,
     "start_time": "2021-09-02T04:42:41.936389",
     "status": "completed"
    },
    "tags": []
   },
   "outputs": [
    {
     "name": "stdout",
     "output_type": "stream",
     "text": [
      "gdi, version 0.3.0.dev9\r\n"
     ]
    }
   ],
   "source": [
    "!gdi --version"
   ]
  },
  {
   "cell_type": "markdown",
   "id": "5409ecf8-2158-4361-9d2f-6b1a6c7c63a6",
   "metadata": {
    "papermill": {
     "duration": 0.010053,
     "end_time": "2021-09-02T04:42:44.873491",
     "exception": false,
     "start_time": "2021-09-02T04:42:44.863438",
     "status": "completed"
    },
    "tags": []
   },
   "source": [
    "## 2.1. Index reads"
   ]
  },
  {
   "cell_type": "code",
   "execution_count": 5,
   "id": "b5324f79-913b-4dac-8122-19ad5c0f24b2",
   "metadata": {
    "execution": {
     "iopub.execute_input": "2021-09-02T04:42:44.905651Z",
     "iopub.status.busy": "2021-09-02T04:42:44.896057Z",
     "iopub.status.idle": "2021-09-02T04:42:47.840020Z",
     "shell.execute_reply": "2021-09-02T04:42:47.840896Z"
    },
    "papermill": {
     "duration": 2.960682,
     "end_time": "2021-09-02T04:42:47.841216",
     "exception": false,
     "start_time": "2021-09-02T04:42:44.880534",
     "status": "completed"
    },
    "tags": []
   },
   "outputs": [],
   "source": [
    "input_genomes_file = simulation_dir_path / 'input-reads.tsv'\n",
    "\n",
    "!gdi input --absolute {reads_dir}/*.fq.gz > {input_genomes_file}"
   ]
  },
  {
   "cell_type": "code",
   "execution_count": 6,
   "id": "3d63e861-733e-46f2-8bce-bd1a2c7c7058",
   "metadata": {
    "execution": {
     "iopub.execute_input": "2021-09-02T04:42:47.884367Z",
     "iopub.status.busy": "2021-09-02T04:42:47.880959Z",
     "iopub.status.idle": "2021-09-02T04:54:08.660642Z",
     "shell.execute_reply": "2021-09-02T04:54:08.659521Z"
    },
    "papermill": {
     "duration": 680.801113,
     "end_time": "2021-09-02T04:54:08.661156",
     "exception": false,
     "start_time": "2021-09-02T04:42:47.860043",
     "status": "completed"
    },
    "tags": []
   },
   "outputs": [
    {
     "name": "stdout",
     "output_type": "stream",
     "text": [
      "\n",
      "Iteration 1 of index/analysis of 59 samples with 32 cores\n",
      "Removing any extra snakemake directories: ['snakemake-assemblies.1630557587.0519137']\n"
     ]
    },
    {
     "name": "stdout",
     "output_type": "stream",
     "text": [
      "Creating new index: [gdi init simulations/cov-5/index-reads]\n"
     ]
    },
    {
     "name": "stdout",
     "output_type": "stream",
     "text": [
      "Creating a new index took 3.09 seconds\n",
      "Analysis running: [gdi --project-dir simulations/cov-5/index-reads --ncores 32 analysis --use-conda --no-load-data --reference-file simulations/reference/reference.fa.gz --kmer-size 31 --kmer-size 51 --kmer-size 71 --include-kmer --reads-mincov 10 --input-structured-genomes-file simulations/cov-5/input-reads.tsv]\n"
     ]
    },
    {
     "name": "stdout",
     "output_type": "stream",
     "text": [
      "Analysis took 1.66 minutes\n",
      "Index running: [gdi --project-dir simulations/cov-5/index-reads --ncores 32 load vcf --reference-file simulations/reference/reference.fa.gz /home/CSCScience.ca/apetkau/workspace/genomics-data-index-evaluation/evaluations/simulation/snakemake-assemblies.1630557775.1586688/gdi-input.fofn]\n"
     ]
    },
    {
     "name": "stdout",
     "output_type": "stream",
     "text": [
      "Indexing took 0.34 minutes\n",
      "Building tree: [gdi --project-dir simulations/cov-5/index-reads --ncores 32 rebuild tree --align-type full --extra-params '--fast -m GTR+F+R4' reference]\n"
     ]
    },
    {
     "name": "stdout",
     "output_type": "stream",
     "text": [
      "Building tree took 1.54 minutes\n"
     ]
    },
    {
     "name": "stderr",
     "output_type": "stream",
     "text": [
      "A reminder to myself to look for a Python solution for directory sizes (instead of running `du`)\n"
     ]
    },
    {
     "name": "stdout",
     "output_type": "stream",
     "text": [
      "\n",
      "Iteration 2 of index/analysis of 59 samples with 32 cores\n",
      "Removing any extra snakemake directories: ['snakemake-assemblies.1630557775.1586688']\n"
     ]
    },
    {
     "name": "stdout",
     "output_type": "stream",
     "text": [
      "Removing any existing indexes simulations/cov-5/index-reads\n",
      "Creating new index: [gdi init simulations/cov-5/index-reads]\n"
     ]
    },
    {
     "name": "stdout",
     "output_type": "stream",
     "text": [
      "Creating a new index took 2.79 seconds\n",
      "Analysis running: [gdi --project-dir simulations/cov-5/index-reads --ncores 32 analysis --use-conda --no-load-data --reference-file simulations/reference/reference.fa.gz --kmer-size 31 --kmer-size 51 --kmer-size 71 --include-kmer --reads-mincov 10 --input-structured-genomes-file simulations/cov-5/input-reads.tsv]\n"
     ]
    },
    {
     "name": "stdout",
     "output_type": "stream",
     "text": [
      "Analysis took 1.68 minutes\n",
      "Index running: [gdi --project-dir simulations/cov-5/index-reads --ncores 32 load vcf --reference-file simulations/reference/reference.fa.gz /home/CSCScience.ca/apetkau/workspace/genomics-data-index-evaluation/evaluations/simulation/snakemake-assemblies.1630557991.8601813/gdi-input.fofn]\n"
     ]
    },
    {
     "name": "stdout",
     "output_type": "stream",
     "text": [
      "Indexing took 0.34 minutes\n",
      "Building tree: [gdi --project-dir simulations/cov-5/index-reads --ncores 32 rebuild tree --align-type full --extra-params '--fast -m GTR+F+R4' reference]\n"
     ]
    },
    {
     "name": "stdout",
     "output_type": "stream",
     "text": [
      "Building tree took 2.01 minutes\n"
     ]
    },
    {
     "name": "stderr",
     "output_type": "stream",
     "text": [
      "Attempting to set global database_path_translator=<genomics_data_index.storage.model.db.DatabasePathTranslator.DatabasePathTranslator object at 0x7ff02f06cd00> but it is already set\n"
     ]
    },
    {
     "name": "stderr",
     "output_type": "stream",
     "text": [
      "A reminder to myself to look for a Python solution for directory sizes (instead of running `du`)\n"
     ]
    },
    {
     "name": "stdout",
     "output_type": "stream",
     "text": [
      "\n",
      "Iteration 3 of index/analysis of 59 samples with 32 cores\n",
      "Removing any extra snakemake directories: ['snakemake-assemblies.1630557991.8601813']\n"
     ]
    },
    {
     "name": "stdout",
     "output_type": "stream",
     "text": [
      "Removing any existing indexes simulations/cov-5/index-reads\n",
      "Creating new index: [gdi init simulations/cov-5/index-reads]\n"
     ]
    },
    {
     "name": "stdout",
     "output_type": "stream",
     "text": [
      "Creating a new index took 2.89 seconds\n",
      "Analysis running: [gdi --project-dir simulations/cov-5/index-reads --ncores 32 analysis --use-conda --no-load-data --reference-file simulations/reference/reference.fa.gz --kmer-size 31 --kmer-size 51 --kmer-size 71 --include-kmer --reads-mincov 10 --input-structured-genomes-file simulations/cov-5/input-reads.tsv]\n"
     ]
    },
    {
     "name": "stdout",
     "output_type": "stream",
     "text": [
      "Analysis took 1.62 minutes\n",
      "Index running: [gdi --project-dir simulations/cov-5/index-reads --ncores 32 load vcf --reference-file simulations/reference/reference.fa.gz /home/CSCScience.ca/apetkau/workspace/genomics-data-index-evaluation/evaluations/simulation/snakemake-assemblies.1630558238.3215885/gdi-input.fofn]\n"
     ]
    },
    {
     "name": "stdout",
     "output_type": "stream",
     "text": [
      "Indexing took 0.35 minutes\n",
      "Building tree: [gdi --project-dir simulations/cov-5/index-reads --ncores 32 rebuild tree --align-type full --extra-params '--fast -m GTR+F+R4' reference]\n"
     ]
    },
    {
     "name": "stdout",
     "output_type": "stream",
     "text": [
      "Building tree took 1.58 minutes\n"
     ]
    },
    {
     "name": "stderr",
     "output_type": "stream",
     "text": [
      "Attempting to set global database_path_translator=<genomics_data_index.storage.model.db.DatabasePathTranslator.DatabasePathTranslator object at 0x7ff03785a7c0> but it is already set\n"
     ]
    },
    {
     "name": "stderr",
     "output_type": "stream",
     "text": [
      "A reminder to myself to look for a Python solution for directory sizes (instead of running `du`)\n"
     ]
    }
   ],
   "source": [
    "results_handler = gdi_benchmark.BenchmarkResultsHandler(name=f'{case_name} reads')\n",
    "benchmarker = gdi_benchmark.IndexBenchmarker(benchmark_results_handler=results_handler,\n",
    "                                             index_path=index_reads_path, input_files_file=input_genomes_file,\n",
    "                                             reference_file=reference_file, mincov=mincov, build_tree=True,\n",
    "                                             ncores=ncores)\n",
    "\n",
    "benchmark_df = benchmarker.benchmark(iterations=iterations)"
   ]
  },
  {
   "cell_type": "code",
   "execution_count": 7,
   "id": "3bcb6da7-0164-47f2-abdd-a4c159da1e3b",
   "metadata": {
    "execution": {
     "iopub.execute_input": "2021-09-02T04:54:08.714180Z",
     "iopub.status.busy": "2021-09-02T04:54:08.713610Z",
     "iopub.status.idle": "2021-09-02T04:54:08.747253Z",
     "shell.execute_reply": "2021-09-02T04:54:08.748172Z"
    },
    "papermill": {
     "duration": 0.064308,
     "end_time": "2021-09-02T04:54:08.748440",
     "exception": false,
     "start_time": "2021-09-02T04:54:08.684132",
     "status": "completed"
    },
    "tags": []
   },
   "outputs": [
    {
     "data": {
      "text/html": [
       "<div>\n",
       "<style scoped>\n",
       "    .dataframe tbody tr th:only-of-type {\n",
       "        vertical-align: middle;\n",
       "    }\n",
       "\n",
       "    .dataframe tbody tr th {\n",
       "        vertical-align: top;\n",
       "    }\n",
       "\n",
       "    .dataframe thead th {\n",
       "        text-align: right;\n",
       "    }\n",
       "</style>\n",
       "<table border=\"1\" class=\"dataframe\">\n",
       "  <thead>\n",
       "    <tr style=\"text-align: right;\">\n",
       "      <th></th>\n",
       "      <th>Name</th>\n",
       "      <th>Iteration</th>\n",
       "      <th>Number samples</th>\n",
       "      <th>Number cores</th>\n",
       "      <th>Reference length</th>\n",
       "      <th>Analysis runtime</th>\n",
       "      <th>Analysis memory (max)</th>\n",
       "      <th>Analysis memory (max/process)</th>\n",
       "      <th>Analysis disk uage</th>\n",
       "      <th>Index runtime</th>\n",
       "      <th>Index memory (max)</th>\n",
       "      <th>Index memory (max/process)</th>\n",
       "      <th>Index size</th>\n",
       "      <th>Tree runtime</th>\n",
       "      <th>Tree memory (max)</th>\n",
       "      <th>Tree memory (max/process)</th>\n",
       "      <th>Total runtime</th>\n",
       "      <th>Max memory</th>\n",
       "    </tr>\n",
       "  </thead>\n",
       "  <tbody>\n",
       "    <tr>\n",
       "      <th>0</th>\n",
       "      <td>cov-5 reads</td>\n",
       "      <td>1</td>\n",
       "      <td>59</td>\n",
       "      <td>32</td>\n",
       "      <td>10834</td>\n",
       "      <td>99.42</td>\n",
       "      <td>2.784723e+09</td>\n",
       "      <td>389959680.0</td>\n",
       "      <td>3.249123e+09</td>\n",
       "      <td>20.07</td>\n",
       "      <td>6.017671e+09</td>\n",
       "      <td>805515264.0</td>\n",
       "      <td>2166784.0</td>\n",
       "      <td>92.15</td>\n",
       "      <td>287158272.0</td>\n",
       "      <td>223989760.0</td>\n",
       "      <td>211.64</td>\n",
       "      <td>6.017671e+09</td>\n",
       "    </tr>\n",
       "    <tr>\n",
       "      <th>0</th>\n",
       "      <td>cov-5 reads</td>\n",
       "      <td>2</td>\n",
       "      <td>59</td>\n",
       "      <td>32</td>\n",
       "      <td>10834</td>\n",
       "      <td>100.97</td>\n",
       "      <td>2.802766e+09</td>\n",
       "      <td>395599872.0</td>\n",
       "      <td>3.249127e+09</td>\n",
       "      <td>20.34</td>\n",
       "      <td>6.014718e+09</td>\n",
       "      <td>816881664.0</td>\n",
       "      <td>2170880.0</td>\n",
       "      <td>120.26</td>\n",
       "      <td>286437376.0</td>\n",
       "      <td>223916032.0</td>\n",
       "      <td>241.57</td>\n",
       "      <td>6.014718e+09</td>\n",
       "    </tr>\n",
       "    <tr>\n",
       "      <th>0</th>\n",
       "      <td>cov-5 reads</td>\n",
       "      <td>3</td>\n",
       "      <td>59</td>\n",
       "      <td>32</td>\n",
       "      <td>10834</td>\n",
       "      <td>96.93</td>\n",
       "      <td>2.783080e+09</td>\n",
       "      <td>397373440.0</td>\n",
       "      <td>3.249119e+09</td>\n",
       "      <td>20.95</td>\n",
       "      <td>6.013092e+09</td>\n",
       "      <td>811298816.0</td>\n",
       "      <td>2158592.0</td>\n",
       "      <td>94.43</td>\n",
       "      <td>285200384.0</td>\n",
       "      <td>223801344.0</td>\n",
       "      <td>212.31</td>\n",
       "      <td>6.013092e+09</td>\n",
       "    </tr>\n",
       "  </tbody>\n",
       "</table>\n",
       "</div>"
      ],
      "text/plain": [
       "          Name  Iteration  Number samples  Number cores  Reference length  \\\n",
       "0  cov-5 reads          1              59            32             10834   \n",
       "0  cov-5 reads          2              59            32             10834   \n",
       "0  cov-5 reads          3              59            32             10834   \n",
       "\n",
       "   Analysis runtime  Analysis memory (max)  Analysis memory (max/process)  \\\n",
       "0             99.42           2.784723e+09                    389959680.0   \n",
       "0            100.97           2.802766e+09                    395599872.0   \n",
       "0             96.93           2.783080e+09                    397373440.0   \n",
       "\n",
       "   Analysis disk uage  Index runtime  Index memory (max)  \\\n",
       "0        3.249123e+09          20.07        6.017671e+09   \n",
       "0        3.249127e+09          20.34        6.014718e+09   \n",
       "0        3.249119e+09          20.95        6.013092e+09   \n",
       "\n",
       "   Index memory (max/process)  Index size  Tree runtime  Tree memory (max)  \\\n",
       "0                 805515264.0   2166784.0         92.15        287158272.0   \n",
       "0                 816881664.0   2170880.0        120.26        286437376.0   \n",
       "0                 811298816.0   2158592.0         94.43        285200384.0   \n",
       "\n",
       "   Tree memory (max/process)  Total runtime    Max memory  \n",
       "0                223989760.0         211.64  6.017671e+09  \n",
       "0                223916032.0         241.57  6.014718e+09  \n",
       "0                223801344.0         212.31  6.013092e+09  "
      ]
     },
     "execution_count": 7,
     "metadata": {},
     "output_type": "execute_result"
    }
   ],
   "source": [
    "benchmark_df"
   ]
  },
  {
   "cell_type": "code",
   "execution_count": 8,
   "id": "535a9ccc-ab9c-4919-806f-128e1efd2389",
   "metadata": {
    "execution": {
     "iopub.execute_input": "2021-09-02T04:54:08.792883Z",
     "iopub.status.busy": "2021-09-02T04:54:08.792474Z",
     "iopub.status.idle": "2021-09-02T04:54:08.806305Z",
     "shell.execute_reply": "2021-09-02T04:54:08.805871Z"
    },
    "papermill": {
     "duration": 0.032576,
     "end_time": "2021-09-02T04:54:08.806421",
     "exception": false,
     "start_time": "2021-09-02T04:54:08.773845",
     "status": "completed"
    },
    "tags": []
   },
   "outputs": [],
   "source": [
    "index_reads_runtime = simulation_dir_path / 'reads-index-info.tsv'\n",
    "benchmark_df.to_csv(index_reads_runtime, sep='\\t', index=False)"
   ]
  },
  {
   "cell_type": "markdown",
   "id": "c331578f-4026-4a9f-a3ba-288814b02ed2",
   "metadata": {
    "papermill": {
     "duration": 0.011786,
     "end_time": "2021-09-02T04:54:08.835450",
     "exception": false,
     "start_time": "2021-09-02T04:54:08.823664",
     "status": "completed"
    },
    "tags": []
   },
   "source": [
    "## 2.2. Index assemblies"
   ]
  },
  {
   "cell_type": "code",
   "execution_count": 9,
   "id": "6e6664f4-94ee-4c45-b1fc-e048b387fa49",
   "metadata": {
    "execution": {
     "iopub.execute_input": "2021-09-02T04:54:08.874566Z",
     "iopub.status.busy": "2021-09-02T04:54:08.864650Z",
     "iopub.status.idle": "2021-09-02T04:54:11.652412Z",
     "shell.execute_reply": "2021-09-02T04:54:11.653304Z"
    },
    "papermill": {
     "duration": 2.807061,
     "end_time": "2021-09-02T04:54:11.653634",
     "exception": false,
     "start_time": "2021-09-02T04:54:08.846573",
     "status": "completed"
    },
    "tags": []
   },
   "outputs": [],
   "source": [
    "input_genomes_file = simulation_dir_path / 'input-assemblies.tsv'\n",
    "\n",
    "!gdi input --absolute {assemblies_dir}/*.fa.gz > {input_genomes_file}"
   ]
  },
  {
   "cell_type": "code",
   "execution_count": 10,
   "id": "0a1e62f3-3b0c-4a90-a7fe-f0bc1094e350",
   "metadata": {
    "execution": {
     "iopub.execute_input": "2021-09-02T04:54:11.700190Z",
     "iopub.status.busy": "2021-09-02T04:54:11.699426Z",
     "iopub.status.idle": "2021-09-02T05:04:00.635654Z",
     "shell.execute_reply": "2021-09-02T05:04:00.634686Z"
    },
    "papermill": {
     "duration": 588.958372,
     "end_time": "2021-09-02T05:04:00.635907",
     "exception": false,
     "start_time": "2021-09-02T04:54:11.677535",
     "status": "completed"
    },
    "tags": []
   },
   "outputs": [
    {
     "name": "stdout",
     "output_type": "stream",
     "text": [
      "\n",
      "Iteration 1 of index/analysis of 59 samples with 32 cores\n",
      "Removing any extra snakemake directories: ['snakemake-assemblies.1630558238.3215885']\n"
     ]
    },
    {
     "name": "stdout",
     "output_type": "stream",
     "text": [
      "Creating new index: [gdi init simulations/cov-5/index-assemblies]\n"
     ]
    },
    {
     "name": "stdout",
     "output_type": "stream",
     "text": [
      "Creating a new index took 2.89 seconds\n",
      "Analysis running: [gdi --project-dir simulations/cov-5/index-assemblies --ncores 32 analysis --use-conda --no-load-data --reference-file simulations/reference/reference.fa.gz --kmer-size 31 --kmer-size 51 --kmer-size 71 --include-kmer --reads-mincov 10 --input-structured-genomes-file simulations/cov-5/input-assemblies.tsv]\n"
     ]
    },
    {
     "name": "stdout",
     "output_type": "stream",
     "text": [
      "Analysis took 1.58 minutes\n",
      "Index running: [gdi --project-dir simulations/cov-5/index-assemblies --ncores 32 load vcf --reference-file simulations/reference/reference.fa.gz /home/CSCScience.ca/apetkau/workspace/genomics-data-index-evaluation/evaluations/simulation/snakemake-assemblies.1630558458.7555625/gdi-input.fofn]\n"
     ]
    },
    {
     "name": "stdout",
     "output_type": "stream",
     "text": [
      "Indexing took 0.09 minutes\n",
      "Building tree: [gdi --project-dir simulations/cov-5/index-assemblies --ncores 32 rebuild tree --align-type full --extra-params '--fast -m GTR+F+R4' reference]\n"
     ]
    },
    {
     "name": "stdout",
     "output_type": "stream",
     "text": [
      "Building tree took 1.45 minutes\n"
     ]
    },
    {
     "name": "stderr",
     "output_type": "stream",
     "text": [
      "Attempting to set global database_path_translator=<genomics_data_index.storage.model.db.DatabasePathTranslator.DatabasePathTranslator object at 0x7ff0780e93a0> but it is already set\n"
     ]
    },
    {
     "name": "stderr",
     "output_type": "stream",
     "text": [
      "A reminder to myself to look for a Python solution for directory sizes (instead of running `du`)\n"
     ]
    },
    {
     "name": "stdout",
     "output_type": "stream",
     "text": [
      "\n",
      "Iteration 2 of index/analysis of 59 samples with 32 cores\n",
      "Removing any extra snakemake directories: ['snakemake-assemblies.1630558458.7555625']\n"
     ]
    },
    {
     "name": "stdout",
     "output_type": "stream",
     "text": [
      "Removing any existing indexes simulations/cov-5/index-assemblies\n",
      "Creating new index: [gdi init simulations/cov-5/index-assemblies]\n"
     ]
    },
    {
     "name": "stdout",
     "output_type": "stream",
     "text": [
      "Creating a new index took 2.96 seconds\n",
      "Analysis running: [gdi --project-dir simulations/cov-5/index-assemblies --ncores 32 analysis --use-conda --no-load-data --reference-file simulations/reference/reference.fa.gz --kmer-size 31 --kmer-size 51 --kmer-size 71 --include-kmer --reads-mincov 10 --input-structured-genomes-file simulations/cov-5/input-assemblies.tsv]\n"
     ]
    },
    {
     "name": "stdout",
     "output_type": "stream",
     "text": [
      "Analysis took 1.53 minutes\n",
      "Index running: [gdi --project-dir simulations/cov-5/index-assemblies --ncores 32 load vcf --reference-file simulations/reference/reference.fa.gz /home/CSCScience.ca/apetkau/workspace/genomics-data-index-evaluation/evaluations/simulation/snakemake-assemblies.1630558650.6343083/gdi-input.fofn]\n"
     ]
    },
    {
     "name": "stdout",
     "output_type": "stream",
     "text": [
      "Indexing took 0.09 minutes\n",
      "Building tree: [gdi --project-dir simulations/cov-5/index-assemblies --ncores 32 rebuild tree --align-type full --extra-params '--fast -m GTR+F+R4' reference]\n"
     ]
    },
    {
     "name": "stdout",
     "output_type": "stream",
     "text": [
      "Building tree took 1.62 minutes\n"
     ]
    },
    {
     "name": "stderr",
     "output_type": "stream",
     "text": [
      "Attempting to set global database_path_translator=<genomics_data_index.storage.model.db.DatabasePathTranslator.DatabasePathTranslator object at 0x7ff0780d07f0> but it is already set\n"
     ]
    },
    {
     "name": "stderr",
     "output_type": "stream",
     "text": [
      "A reminder to myself to look for a Python solution for directory sizes (instead of running `du`)\n"
     ]
    },
    {
     "name": "stdout",
     "output_type": "stream",
     "text": [
      "\n",
      "Iteration 3 of index/analysis of 59 samples with 32 cores\n",
      "Removing any extra snakemake directories: ['snakemake-assemblies.1630558650.6343083']\n"
     ]
    },
    {
     "name": "stdout",
     "output_type": "stream",
     "text": [
      "Removing any existing indexes simulations/cov-5/index-assemblies\n",
      "Creating new index: [gdi init simulations/cov-5/index-assemblies]\n"
     ]
    },
    {
     "name": "stdout",
     "output_type": "stream",
     "text": [
      "Creating a new index took 2.75 seconds\n",
      "Analysis running: [gdi --project-dir simulations/cov-5/index-assemblies --ncores 32 analysis --use-conda --no-load-data --reference-file simulations/reference/reference.fa.gz --kmer-size 31 --kmer-size 51 --kmer-size 71 --include-kmer --reads-mincov 10 --input-structured-genomes-file simulations/cov-5/input-assemblies.tsv]\n"
     ]
    },
    {
     "name": "stdout",
     "output_type": "stream",
     "text": [
      "Analysis took 1.60 minutes\n",
      "Index running: [gdi --project-dir simulations/cov-5/index-assemblies --ncores 32 load vcf --reference-file simulations/reference/reference.fa.gz /home/CSCScience.ca/apetkau/workspace/genomics-data-index-evaluation/evaluations/simulation/snakemake-assemblies.1630558849.5855603/gdi-input.fofn]\n"
     ]
    },
    {
     "name": "stdout",
     "output_type": "stream",
     "text": [
      "Indexing took 0.10 minutes\n",
      "Building tree: [gdi --project-dir simulations/cov-5/index-assemblies --ncores 32 rebuild tree --align-type full --extra-params '--fast -m GTR+F+R4' reference]\n"
     ]
    },
    {
     "name": "stdout",
     "output_type": "stream",
     "text": [
      "Building tree took 1.54 minutes\n"
     ]
    },
    {
     "name": "stderr",
     "output_type": "stream",
     "text": [
      "Attempting to set global database_path_translator=<genomics_data_index.storage.model.db.DatabasePathTranslator.DatabasePathTranslator object at 0x7ff037820b80> but it is already set\n"
     ]
    },
    {
     "name": "stderr",
     "output_type": "stream",
     "text": [
      "A reminder to myself to look for a Python solution for directory sizes (instead of running `du`)\n"
     ]
    }
   ],
   "source": [
    "results_handler = gdi_benchmark.BenchmarkResultsHandler(name=f'{case_name} assemblies')\n",
    "benchmarker = gdi_benchmark.IndexBenchmarker(benchmark_results_handler=results_handler,\n",
    "                                             index_path=index_assemblies_path, input_files_file=input_genomes_file,\n",
    "                                             reference_file=reference_file, mincov=mincov, build_tree=True,\n",
    "                                             ncores=ncores)\n",
    "\n",
    "benchmark_df = benchmarker.benchmark(iterations=iterations)"
   ]
  },
  {
   "cell_type": "code",
   "execution_count": 11,
   "id": "a6d55a9d-be2f-4851-b66c-04b5ebd597a1",
   "metadata": {
    "execution": {
     "iopub.execute_input": "2021-09-02T05:04:00.717210Z",
     "iopub.status.busy": "2021-09-02T05:04:00.716501Z",
     "iopub.status.idle": "2021-09-02T05:04:00.720216Z",
     "shell.execute_reply": "2021-09-02T05:04:00.719614Z"
    },
    "papermill": {
     "duration": 0.052583,
     "end_time": "2021-09-02T05:04:00.720365",
     "exception": false,
     "start_time": "2021-09-02T05:04:00.667782",
     "status": "completed"
    },
    "tags": []
   },
   "outputs": [
    {
     "data": {
      "text/html": [
       "<div>\n",
       "<style scoped>\n",
       "    .dataframe tbody tr th:only-of-type {\n",
       "        vertical-align: middle;\n",
       "    }\n",
       "\n",
       "    .dataframe tbody tr th {\n",
       "        vertical-align: top;\n",
       "    }\n",
       "\n",
       "    .dataframe thead th {\n",
       "        text-align: right;\n",
       "    }\n",
       "</style>\n",
       "<table border=\"1\" class=\"dataframe\">\n",
       "  <thead>\n",
       "    <tr style=\"text-align: right;\">\n",
       "      <th></th>\n",
       "      <th>Name</th>\n",
       "      <th>Iteration</th>\n",
       "      <th>Number samples</th>\n",
       "      <th>Number cores</th>\n",
       "      <th>Reference length</th>\n",
       "      <th>Analysis runtime</th>\n",
       "      <th>Analysis memory (max)</th>\n",
       "      <th>Analysis memory (max/process)</th>\n",
       "      <th>Analysis disk uage</th>\n",
       "      <th>Index runtime</th>\n",
       "      <th>Index memory (max)</th>\n",
       "      <th>Index memory (max/process)</th>\n",
       "      <th>Index size</th>\n",
       "      <th>Tree runtime</th>\n",
       "      <th>Tree memory (max)</th>\n",
       "      <th>Tree memory (max/process)</th>\n",
       "      <th>Total runtime</th>\n",
       "      <th>Max memory</th>\n",
       "    </tr>\n",
       "  </thead>\n",
       "  <tbody>\n",
       "    <tr>\n",
       "      <th>0</th>\n",
       "      <td>cov-5 assemblies</td>\n",
       "      <td>1</td>\n",
       "      <td>59</td>\n",
       "      <td>32</td>\n",
       "      <td>10834</td>\n",
       "      <td>94.96</td>\n",
       "      <td>1.219449e+09</td>\n",
       "      <td>374239232.0</td>\n",
       "      <td>2.082599e+09</td>\n",
       "      <td>5.23</td>\n",
       "      <td>5.778387e+09</td>\n",
       "      <td>238268416.0</td>\n",
       "      <td>1060864.0</td>\n",
       "      <td>86.98</td>\n",
       "      <td>241152000.0</td>\n",
       "      <td>224022528.0</td>\n",
       "      <td>187.17</td>\n",
       "      <td>5.778387e+09</td>\n",
       "    </tr>\n",
       "    <tr>\n",
       "      <th>0</th>\n",
       "      <td>cov-5 assemblies</td>\n",
       "      <td>2</td>\n",
       "      <td>59</td>\n",
       "      <td>32</td>\n",
       "      <td>10834</td>\n",
       "      <td>91.52</td>\n",
       "      <td>1.168847e+09</td>\n",
       "      <td>364924928.0</td>\n",
       "      <td>2.082595e+09</td>\n",
       "      <td>5.02</td>\n",
       "      <td>5.780570e+09</td>\n",
       "      <td>238161920.0</td>\n",
       "      <td>1060864.0</td>\n",
       "      <td>96.98</td>\n",
       "      <td>241541120.0</td>\n",
       "      <td>223821824.0</td>\n",
       "      <td>193.52</td>\n",
       "      <td>5.780570e+09</td>\n",
       "    </tr>\n",
       "    <tr>\n",
       "      <th>0</th>\n",
       "      <td>cov-5 assemblies</td>\n",
       "      <td>3</td>\n",
       "      <td>59</td>\n",
       "      <td>32</td>\n",
       "      <td>10834</td>\n",
       "      <td>95.62</td>\n",
       "      <td>1.435836e+09</td>\n",
       "      <td>379072512.0</td>\n",
       "      <td>2.082599e+09</td>\n",
       "      <td>5.88</td>\n",
       "      <td>5.796246e+09</td>\n",
       "      <td>238166016.0</td>\n",
       "      <td>1064960.0</td>\n",
       "      <td>92.20</td>\n",
       "      <td>240570368.0</td>\n",
       "      <td>224112640.0</td>\n",
       "      <td>193.70</td>\n",
       "      <td>5.796246e+09</td>\n",
       "    </tr>\n",
       "  </tbody>\n",
       "</table>\n",
       "</div>"
      ],
      "text/plain": [
       "               Name  Iteration  Number samples  Number cores  \\\n",
       "0  cov-5 assemblies          1              59            32   \n",
       "0  cov-5 assemblies          2              59            32   \n",
       "0  cov-5 assemblies          3              59            32   \n",
       "\n",
       "   Reference length  Analysis runtime  Analysis memory (max)  \\\n",
       "0             10834             94.96           1.219449e+09   \n",
       "0             10834             91.52           1.168847e+09   \n",
       "0             10834             95.62           1.435836e+09   \n",
       "\n",
       "   Analysis memory (max/process)  Analysis disk uage  Index runtime  \\\n",
       "0                    374239232.0        2.082599e+09           5.23   \n",
       "0                    364924928.0        2.082595e+09           5.02   \n",
       "0                    379072512.0        2.082599e+09           5.88   \n",
       "\n",
       "   Index memory (max)  Index memory (max/process)  Index size  Tree runtime  \\\n",
       "0        5.778387e+09                 238268416.0   1060864.0         86.98   \n",
       "0        5.780570e+09                 238161920.0   1060864.0         96.98   \n",
       "0        5.796246e+09                 238166016.0   1064960.0         92.20   \n",
       "\n",
       "   Tree memory (max)  Tree memory (max/process)  Total runtime    Max memory  \n",
       "0        241152000.0                224022528.0         187.17  5.778387e+09  \n",
       "0        241541120.0                223821824.0         193.52  5.780570e+09  \n",
       "0        240570368.0                224112640.0         193.70  5.796246e+09  "
      ]
     },
     "execution_count": 11,
     "metadata": {},
     "output_type": "execute_result"
    }
   ],
   "source": [
    "benchmark_df"
   ]
  },
  {
   "cell_type": "code",
   "execution_count": 12,
   "id": "e1a6d962-50bc-4c8d-a6f2-3a661da706b4",
   "metadata": {
    "execution": {
     "iopub.execute_input": "2021-09-02T05:04:00.771716Z",
     "iopub.status.busy": "2021-09-02T05:04:00.771307Z",
     "iopub.status.idle": "2021-09-02T05:04:00.774859Z",
     "shell.execute_reply": "2021-09-02T05:04:00.774441Z"
    },
    "papermill": {
     "duration": 0.028622,
     "end_time": "2021-09-02T05:04:00.774973",
     "exception": false,
     "start_time": "2021-09-02T05:04:00.746351",
     "status": "completed"
    },
    "tags": []
   },
   "outputs": [],
   "source": [
    "index_assemblies_runtime = simulation_dir_path / 'assemblies-index-info.tsv'\n",
    "benchmark_df.to_csv(index_assemblies_runtime, sep='\\t', index=False)"
   ]
  },
  {
   "cell_type": "markdown",
   "id": "6cb7673b-9f85-4c43-b2e2-93538497a196",
   "metadata": {
    "papermill": {
     "duration": 0.015835,
     "end_time": "2021-09-02T05:04:00.810519",
     "exception": false,
     "start_time": "2021-09-02T05:04:00.794684",
     "status": "completed"
    },
    "tags": []
   },
   "source": [
    "# 3. Export trees"
   ]
  },
  {
   "cell_type": "code",
   "execution_count": 13,
   "id": "5280f82c-5434-4391-8c44-b937a7c95bd5",
   "metadata": {
    "execution": {
     "iopub.execute_input": "2021-09-02T05:04:00.858719Z",
     "iopub.status.busy": "2021-09-02T05:04:00.850104Z",
     "iopub.status.idle": "2021-09-02T05:04:06.788789Z",
     "shell.execute_reply": "2021-09-02T05:04:06.789643Z"
    },
    "papermill": {
     "duration": 5.964095,
     "end_time": "2021-09-02T05:04:06.789967",
     "exception": false,
     "start_time": "2021-09-02T05:04:00.825872",
     "status": "completed"
    },
    "tags": []
   },
   "outputs": [
    {
     "name": "stdout",
     "output_type": "stream",
     "text": [
      "Wrote assemblies tree to simulations/cov-5/index-assemblies/assemblies.tre\n"
     ]
    },
    {
     "name": "stdout",
     "output_type": "stream",
     "text": [
      "Wrote assemblies tree to simulations/cov-5/index-reads/reads.tre\n"
     ]
    }
   ],
   "source": [
    "!gdi --project-dir {index_assemblies_path} export tree {reference_name} > {output_assemblies_tree}\n",
    "print(f'Wrote assemblies tree to {output_assemblies_tree}')\n",
    "\n",
    "!gdi --project-dir {index_reads_path} export tree {reference_name} > {output_reads_tree}\n",
    "print(f'Wrote assemblies tree to {output_reads_tree}')"
   ]
  }
 ],
 "metadata": {
  "kernelspec": {
   "display_name": "Python 3 (ipykernel)",
   "language": "python",
   "name": "python3"
  },
  "language_info": {
   "codemirror_mode": {
    "name": "ipython",
    "version": 3
   },
   "file_extension": ".py",
   "mimetype": "text/x-python",
   "name": "python",
   "nbconvert_exporter": "python",
   "pygments_lexer": "ipython3",
   "version": "3.8.10"
  },
  "papermill": {
   "default_parameters": {},
   "duration": 1289.570346,
   "end_time": "2021-09-02T05:04:08.067500",
   "environment_variables": {},
   "exception": null,
   "input_path": "template-3-index-genomes.ipynb",
   "output_path": "3-index-genomes.simulation-cov-5.ipynb",
   "parameters": {
    "iterations": 3,
    "mincov": 10,
    "read_coverage": 5,
    "simulation_dir": "simulations/cov-5"
   },
   "start_time": "2021-09-02T04:42:38.497154",
   "version": "2.3.3"
  }
 },
 "nbformat": 4,
 "nbformat_minor": 5
}