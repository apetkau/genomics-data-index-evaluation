{
 "cells": [
  {
   "cell_type": "markdown",
   "id": "7d3667b4-b1f8-4347-96e3-830c25b06740",
   "metadata": {
    "papermill": {
     "duration": 0.018943,
     "end_time": "2022-03-08T23:40:06.852121",
     "exception": false,
     "start_time": "2022-03-08T23:40:06.833178",
     "status": "completed"
    },
    "tags": []
   },
   "source": [
    "# 1. Parameters"
   ]
  },
  {
   "cell_type": "code",
   "execution_count": 1,
   "id": "d4ab0749-b286-4c34-b63c-a854e4952bae",
   "metadata": {
    "execution": {
     "iopub.execute_input": "2022-03-08T23:40:06.883919Z",
     "iopub.status.busy": "2022-03-08T23:40:06.883365Z",
     "iopub.status.idle": "2022-03-08T23:40:06.888695Z",
     "shell.execute_reply": "2022-03-08T23:40:06.887977Z"
    },
    "papermill": {
     "duration": 0.026949,
     "end_time": "2022-03-08T23:40:06.888876",
     "exception": false,
     "start_time": "2022-03-08T23:40:06.861927",
     "status": "completed"
    },
    "tags": [
     "parameters"
    ]
   },
   "outputs": [],
   "source": [
    "# Defaults\n",
    "simulation_dir = 'simulations/unset'\n",
    "reference_file = 'simulations/reference/reference.fa.gz'\n",
    "iterations = 3\n",
    "mincov = 10\n",
    "ncores = 32"
   ]
  },
  {
   "cell_type": "code",
   "execution_count": 2,
   "id": "3051a9d6",
   "metadata": {
    "execution": {
     "iopub.execute_input": "2022-03-08T23:40:06.916520Z",
     "iopub.status.busy": "2022-03-08T23:40:06.915338Z",
     "iopub.status.idle": "2022-03-08T23:40:06.918067Z",
     "shell.execute_reply": "2022-03-08T23:40:06.918960Z"
    },
    "papermill": {
     "duration": 0.01874,
     "end_time": "2022-03-08T23:40:06.919236",
     "exception": false,
     "start_time": "2022-03-08T23:40:06.900496",
     "status": "completed"
    },
    "tags": [
     "injected-parameters"
    ]
   },
   "outputs": [],
   "source": [
    "# Parameters\n",
    "read_coverage = 5\n",
    "mincov = 10\n",
    "simulation_dir = \"simulations/cov-5\"\n",
    "iterations = 3\n",
    "sub_alpha = 0.2\n"
   ]
  },
  {
   "cell_type": "code",
   "execution_count": 3,
   "id": "ce5962e4-261c-4210-b39b-47044e28466b",
   "metadata": {
    "execution": {
     "iopub.execute_input": "2022-03-08T23:40:06.953457Z",
     "iopub.status.busy": "2022-03-08T23:40:06.953038Z",
     "iopub.status.idle": "2022-03-08T23:40:09.762835Z",
     "shell.execute_reply": "2022-03-08T23:40:09.763709Z"
    },
    "papermill": {
     "duration": 2.828858,
     "end_time": "2022-03-08T23:40:09.764014",
     "exception": false,
     "start_time": "2022-03-08T23:40:06.935156",
     "status": "completed"
    },
    "tags": []
   },
   "outputs": [],
   "source": [
    "from pathlib import Path\n",
    "import imp\n",
    "fp, pathname, description = imp.find_module('gdi_benchmark', ['../../lib'])\n",
    "gdi_benchmark = imp.load_module('gdi_benchmark', fp, pathname, description)\n",
    "\n",
    "simulation_dir_path = Path(simulation_dir)\n",
    "\n",
    "case_name = str(simulation_dir_path.name)\n",
    "reads_dir = simulation_dir_path / 'simulated_data' / 'reads'\n",
    "assemblies_dir = simulation_dir_path / 'simulated_data' / 'assemblies'\n",
    "index_reads_path = simulation_dir_path / 'index-reads'\n",
    "index_assemblies_path = simulation_dir_path / 'index-assemblies'\n",
    "output_reads_tree = index_reads_path / 'reads.tre'\n",
    "output_assemblies_tree = index_assemblies_path / 'assemblies.tre'\n",
    "reference_name = Path(reference_file).name.split('.')[0]"
   ]
  },
  {
   "cell_type": "markdown",
   "id": "f208279e-7558-47fc-9362-da29df92828a",
   "metadata": {
    "papermill": {
     "duration": 0.010291,
     "end_time": "2022-03-08T23:40:09.791892",
     "exception": false,
     "start_time": "2022-03-08T23:40:09.781601",
     "status": "completed"
    },
    "tags": []
   },
   "source": [
    "# 2. Index genomes"
   ]
  },
  {
   "cell_type": "code",
   "execution_count": 4,
   "id": "4e936f7c-2fcd-4188-b0e6-6b3ceb5cdcd2",
   "metadata": {
    "execution": {
     "iopub.execute_input": "2022-03-08T23:40:09.825718Z",
     "iopub.status.busy": "2022-03-08T23:40:09.813175Z",
     "iopub.status.idle": "2022-03-08T23:40:13.117910Z",
     "shell.execute_reply": "2022-03-08T23:40:13.118801Z"
    },
    "papermill": {
     "duration": 3.319587,
     "end_time": "2022-03-08T23:40:13.119116",
     "exception": false,
     "start_time": "2022-03-08T23:40:09.799529",
     "status": "completed"
    },
    "tags": []
   },
   "outputs": [
    {
     "name": "stdout",
     "output_type": "stream",
     "text": [
      "gdi, version 0.6.0.dev2\r\n"
     ]
    }
   ],
   "source": [
    "!gdi --version"
   ]
  },
  {
   "cell_type": "markdown",
   "id": "5409ecf8-2158-4361-9d2f-6b1a6c7c63a6",
   "metadata": {
    "papermill": {
     "duration": 0.010014,
     "end_time": "2022-03-08T23:40:13.147842",
     "exception": false,
     "start_time": "2022-03-08T23:40:13.137828",
     "status": "completed"
    },
    "tags": []
   },
   "source": [
    "## 2.1. Index reads"
   ]
  },
  {
   "cell_type": "code",
   "execution_count": 5,
   "id": "b5324f79-913b-4dac-8122-19ad5c0f24b2",
   "metadata": {
    "execution": {
     "iopub.execute_input": "2022-03-08T23:40:13.170810Z",
     "iopub.status.busy": "2022-03-08T23:40:13.170396Z",
     "iopub.status.idle": "2022-03-08T23:40:16.588885Z",
     "shell.execute_reply": "2022-03-08T23:40:16.589791Z"
    },
    "papermill": {
     "duration": 3.434571,
     "end_time": "2022-03-08T23:40:16.590110",
     "exception": false,
     "start_time": "2022-03-08T23:40:13.155539",
     "status": "completed"
    },
    "tags": []
   },
   "outputs": [
    {
     "name": "stdout",
     "output_type": "stream",
     "text": [
      "\u001b[32m2022-03-08 17:40:16\u001b[0m \u001b[1;30mWARNING:\u001b[0m \u001b[33m--skip-existing-samples is enabled but no --project-dir is set. Will not skip existing samples.\u001b[0m\r\n"
     ]
    }
   ],
   "source": [
    "input_genomes_file = simulation_dir_path / 'input-reads.tsv'\n",
    "\n",
    "!gdi input --absolute {reads_dir}/*.fq.gz > {input_genomes_file}"
   ]
  },
  {
   "cell_type": "code",
   "execution_count": 6,
   "id": "3d63e861-733e-46f2-8bce-bd1a2c7c7058",
   "metadata": {
    "execution": {
     "iopub.execute_input": "2022-03-08T23:40:16.634470Z",
     "iopub.status.busy": "2022-03-08T23:40:16.633935Z",
     "iopub.status.idle": "2022-03-08T23:53:54.960052Z",
     "shell.execute_reply": "2022-03-08T23:53:54.958957Z"
    },
    "papermill": {
     "duration": 818.352489,
     "end_time": "2022-03-08T23:53:54.960341",
     "exception": false,
     "start_time": "2022-03-08T23:40:16.607852",
     "status": "completed"
    },
    "tags": []
   },
   "outputs": [
    {
     "name": "stdout",
     "output_type": "stream",
     "text": [
      "\n",
      "Iteration 1 of index/analysis of 59 samples with 32 cores\n",
      "Removing any extra snakemake directories: ['snakemake-assemblies.1646782603.5506876']\n"
     ]
    },
    {
     "name": "stdout",
     "output_type": "stream",
     "text": [
      "Creating new index: [gdi init simulations/cov-5/index-reads]\n"
     ]
    },
    {
     "name": "stdout",
     "output_type": "stream",
     "text": [
      "Creating a new index took 3.38 seconds\n",
      "Analysis running: [gdi --project-dir simulations/cov-5/index-reads --ncores 32 analysis --use-conda --no-load-data --reference-file simulations/reference/reference.fa.gz --kmer-size 31 --kmer-size 51 --kmer-size 71 --include-kmer --reads-mincov 10 --input-structured-genomes-file simulations/cov-5/input-reads.tsv]\n"
     ]
    },
    {
     "name": "stdout",
     "output_type": "stream",
     "text": [
      "Analysis took 1.88 minutes\n",
      "Index running: [gdi --project-dir simulations/cov-5/index-reads --ncores 32 load vcf-kmer --sample-batch-size 2000 --reference-file simulations/reference/reference.fa.gz /home/CSCScience.ca/apetkau/workspace/genomics-data-index-evaluation/evaluations/simulation/snakemake-assemblies.1646782824.5170467/gdi-input.fofn]\n"
     ]
    },
    {
     "name": "stdout",
     "output_type": "stream",
     "text": [
      "Indexing took 0.63 minutes\n",
      "Building tree: [gdi --project-dir simulations/cov-5/index-reads --ncores 32 rebuild tree --align-type full --extra-params '--fast -m GTR+F+R4' reference]\n"
     ]
    },
    {
     "name": "stdout",
     "output_type": "stream",
     "text": [
      "Building tree took 1.74 minutes\n"
     ]
    },
    {
     "name": "stderr",
     "output_type": "stream",
     "text": [
      "A reminder to myself to look for a Python solution for directory sizes (instead of running `du`)\n"
     ]
    },
    {
     "name": "stdout",
     "output_type": "stream",
     "text": [
      "\n",
      "Iteration 2 of index/analysis of 59 samples with 32 cores\n",
      "Removing any extra snakemake directories: ['snakemake-assemblies.1646782824.5170467']\n"
     ]
    },
    {
     "name": "stdout",
     "output_type": "stream",
     "text": [
      "Removing any existing indexes simulations/cov-5/index-reads\n",
      "Creating new index: [gdi init simulations/cov-5/index-reads]\n"
     ]
    },
    {
     "name": "stdout",
     "output_type": "stream",
     "text": [
      "Creating a new index took 3.36 seconds\n",
      "Analysis running: [gdi --project-dir simulations/cov-5/index-reads --ncores 32 analysis --use-conda --no-load-data --reference-file simulations/reference/reference.fa.gz --kmer-size 31 --kmer-size 51 --kmer-size 71 --include-kmer --reads-mincov 10 --input-structured-genomes-file simulations/cov-5/input-reads.tsv]\n"
     ]
    },
    {
     "name": "stdout",
     "output_type": "stream",
     "text": [
      "Analysis took 1.88 minutes\n",
      "Index running: [gdi --project-dir simulations/cov-5/index-reads --ncores 32 load vcf-kmer --sample-batch-size 2000 --reference-file simulations/reference/reference.fa.gz /home/CSCScience.ca/apetkau/workspace/genomics-data-index-evaluation/evaluations/simulation/snakemake-assemblies.1646783085.0849404/gdi-input.fofn]\n"
     ]
    },
    {
     "name": "stdout",
     "output_type": "stream",
     "text": [
      "Indexing took 0.62 minutes\n",
      "Building tree: [gdi --project-dir simulations/cov-5/index-reads --ncores 32 rebuild tree --align-type full --extra-params '--fast -m GTR+F+R4' reference]\n"
     ]
    },
    {
     "name": "stdout",
     "output_type": "stream",
     "text": [
      "Building tree took 2.02 minutes\n"
     ]
    },
    {
     "name": "stderr",
     "output_type": "stream",
     "text": [
      "Attempting to set global database_path_translator=<genomics_data_index.storage.model.db.DatabasePathTranslator.DatabasePathTranslator object at 0x7f5d4a083e80> but it is already set\n"
     ]
    },
    {
     "name": "stderr",
     "output_type": "stream",
     "text": [
      "A reminder to myself to look for a Python solution for directory sizes (instead of running `du`)\n"
     ]
    },
    {
     "name": "stdout",
     "output_type": "stream",
     "text": [
      "\n",
      "Iteration 3 of index/analysis of 59 samples with 32 cores\n",
      "Removing any extra snakemake directories: ['snakemake-assemblies.1646783085.0849404']\n"
     ]
    },
    {
     "name": "stdout",
     "output_type": "stream",
     "text": [
      "Removing any existing indexes simulations/cov-5/index-reads\n",
      "Creating new index: [gdi init simulations/cov-5/index-reads]\n"
     ]
    },
    {
     "name": "stdout",
     "output_type": "stream",
     "text": [
      "Creating a new index took 3.41 seconds\n",
      "Analysis running: [gdi --project-dir simulations/cov-5/index-reads --ncores 32 analysis --use-conda --no-load-data --reference-file simulations/reference/reference.fa.gz --kmer-size 31 --kmer-size 51 --kmer-size 71 --include-kmer --reads-mincov 10 --input-structured-genomes-file simulations/cov-5/input-reads.tsv]\n"
     ]
    },
    {
     "name": "stdout",
     "output_type": "stream",
     "text": [
      "Analysis took 2.00 minutes\n",
      "Index running: [gdi --project-dir simulations/cov-5/index-reads --ncores 32 load vcf-kmer --sample-batch-size 2000 --reference-file simulations/reference/reference.fa.gz /home/CSCScience.ca/apetkau/workspace/genomics-data-index-evaluation/evaluations/simulation/snakemake-assemblies.1646783361.9865808/gdi-input.fofn]\n"
     ]
    },
    {
     "name": "stdout",
     "output_type": "stream",
     "text": [
      "Indexing took 0.62 minutes\n",
      "Building tree: [gdi --project-dir simulations/cov-5/index-reads --ncores 32 rebuild tree --align-type full --extra-params '--fast -m GTR+F+R4' reference]\n"
     ]
    },
    {
     "name": "stdout",
     "output_type": "stream",
     "text": [
      "Building tree took 1.98 minutes\n"
     ]
    },
    {
     "name": "stderr",
     "output_type": "stream",
     "text": [
      "Attempting to set global database_path_translator=<genomics_data_index.storage.model.db.DatabasePathTranslator.DatabasePathTranslator object at 0x7f5d49f09a00> but it is already set\n"
     ]
    },
    {
     "name": "stderr",
     "output_type": "stream",
     "text": [
      "A reminder to myself to look for a Python solution for directory sizes (instead of running `du`)\n"
     ]
    }
   ],
   "source": [
    "results_handler = gdi_benchmark.BenchmarkResultsHandler(name=f'{case_name} reads')\n",
    "benchmarker = gdi_benchmark.IndexBenchmarker(benchmark_results_handler=results_handler,\n",
    "                                             index_path=index_reads_path, input_files_file=input_genomes_file,\n",
    "                                             reference_file=reference_file, mincov=mincov, build_tree=True,\n",
    "                                             ncores=ncores)\n",
    "\n",
    "benchmark_df = benchmarker.benchmark(iterations=iterations)"
   ]
  },
  {
   "cell_type": "code",
   "execution_count": 7,
   "id": "3bcb6da7-0164-47f2-abdd-a4c159da1e3b",
   "metadata": {
    "execution": {
     "iopub.execute_input": "2022-03-08T23:53:55.014656Z",
     "iopub.status.busy": "2022-03-08T23:53:55.013546Z",
     "iopub.status.idle": "2022-03-08T23:53:55.043906Z",
     "shell.execute_reply": "2022-03-08T23:53:55.044838Z"
    },
    "papermill": {
     "duration": 0.060514,
     "end_time": "2022-03-08T23:53:55.045104",
     "exception": false,
     "start_time": "2022-03-08T23:53:54.984590",
     "status": "completed"
    },
    "tags": []
   },
   "outputs": [
    {
     "data": {
      "text/html": [
       "<div>\n",
       "<style scoped>\n",
       "    .dataframe tbody tr th:only-of-type {\n",
       "        vertical-align: middle;\n",
       "    }\n",
       "\n",
       "    .dataframe tbody tr th {\n",
       "        vertical-align: top;\n",
       "    }\n",
       "\n",
       "    .dataframe thead th {\n",
       "        text-align: right;\n",
       "    }\n",
       "</style>\n",
       "<table border=\"1\" class=\"dataframe\">\n",
       "  <thead>\n",
       "    <tr style=\"text-align: right;\">\n",
       "      <th></th>\n",
       "      <th>Name</th>\n",
       "      <th>Reference name</th>\n",
       "      <th>Iteration</th>\n",
       "      <th>Number samples</th>\n",
       "      <th>Number features (all)</th>\n",
       "      <th>Number features (no unknown)</th>\n",
       "      <th>Number cores</th>\n",
       "      <th>Reference length</th>\n",
       "      <th>Analysis runtime</th>\n",
       "      <th>Analysis memory (max)</th>\n",
       "      <th>...</th>\n",
       "      <th>Analysis disk uage</th>\n",
       "      <th>Index runtime</th>\n",
       "      <th>Index memory (max)</th>\n",
       "      <th>Index memory (max/process)</th>\n",
       "      <th>Index size</th>\n",
       "      <th>Tree runtime</th>\n",
       "      <th>Tree memory (max)</th>\n",
       "      <th>Tree memory (max/process)</th>\n",
       "      <th>Total runtime</th>\n",
       "      <th>Max memory</th>\n",
       "    </tr>\n",
       "  </thead>\n",
       "  <tbody>\n",
       "    <tr>\n",
       "      <th>0</th>\n",
       "      <td>cov-5 reads</td>\n",
       "      <td>reference</td>\n",
       "      <td>1</td>\n",
       "      <td>59</td>\n",
       "      <td>19986</td>\n",
       "      <td>287</td>\n",
       "      <td>32</td>\n",
       "      <td>19699</td>\n",
       "      <td>112.54</td>\n",
       "      <td>2.999796e+09</td>\n",
       "      <td>...</td>\n",
       "      <td>2.920600e+09</td>\n",
       "      <td>37.78</td>\n",
       "      <td>6.345994e+09</td>\n",
       "      <td>1.309807e+09</td>\n",
       "      <td>3371008.0</td>\n",
       "      <td>104.48</td>\n",
       "      <td>292610048.0</td>\n",
       "      <td>234590208.0</td>\n",
       "      <td>254.80</td>\n",
       "      <td>6.345994e+09</td>\n",
       "    </tr>\n",
       "    <tr>\n",
       "      <th>0</th>\n",
       "      <td>cov-5 reads</td>\n",
       "      <td>reference</td>\n",
       "      <td>2</td>\n",
       "      <td>59</td>\n",
       "      <td>19986</td>\n",
       "      <td>287</td>\n",
       "      <td>32</td>\n",
       "      <td>19699</td>\n",
       "      <td>112.73</td>\n",
       "      <td>2.983698e+09</td>\n",
       "      <td>...</td>\n",
       "      <td>2.920600e+09</td>\n",
       "      <td>37.25</td>\n",
       "      <td>6.342521e+09</td>\n",
       "      <td>1.309774e+09</td>\n",
       "      <td>3362816.0</td>\n",
       "      <td>121.27</td>\n",
       "      <td>292184064.0</td>\n",
       "      <td>234496000.0</td>\n",
       "      <td>271.25</td>\n",
       "      <td>6.342521e+09</td>\n",
       "    </tr>\n",
       "    <tr>\n",
       "      <th>0</th>\n",
       "      <td>cov-5 reads</td>\n",
       "      <td>reference</td>\n",
       "      <td>3</td>\n",
       "      <td>59</td>\n",
       "      <td>19986</td>\n",
       "      <td>287</td>\n",
       "      <td>32</td>\n",
       "      <td>19699</td>\n",
       "      <td>119.67</td>\n",
       "      <td>2.951262e+09</td>\n",
       "      <td>...</td>\n",
       "      <td>2.920595e+09</td>\n",
       "      <td>37.16</td>\n",
       "      <td>6.339772e+09</td>\n",
       "      <td>1.313608e+09</td>\n",
       "      <td>3366912.0</td>\n",
       "      <td>118.84</td>\n",
       "      <td>294543360.0</td>\n",
       "      <td>235024384.0</td>\n",
       "      <td>275.67</td>\n",
       "      <td>6.339772e+09</td>\n",
       "    </tr>\n",
       "  </tbody>\n",
       "</table>\n",
       "<p>3 rows × 21 columns</p>\n",
       "</div>"
      ],
      "text/plain": [
       "          Name Reference name  Iteration  Number samples  \\\n",
       "0  cov-5 reads      reference          1              59   \n",
       "0  cov-5 reads      reference          2              59   \n",
       "0  cov-5 reads      reference          3              59   \n",
       "\n",
       "   Number features (all)  Number features (no unknown)  Number cores  \\\n",
       "0                  19986                           287            32   \n",
       "0                  19986                           287            32   \n",
       "0                  19986                           287            32   \n",
       "\n",
       "   Reference length  Analysis runtime  Analysis memory (max)  ...  \\\n",
       "0             19699            112.54           2.999796e+09  ...   \n",
       "0             19699            112.73           2.983698e+09  ...   \n",
       "0             19699            119.67           2.951262e+09  ...   \n",
       "\n",
       "   Analysis disk uage  Index runtime  Index memory (max)  \\\n",
       "0        2.920600e+09          37.78        6.345994e+09   \n",
       "0        2.920600e+09          37.25        6.342521e+09   \n",
       "0        2.920595e+09          37.16        6.339772e+09   \n",
       "\n",
       "   Index memory (max/process)  Index size  Tree runtime  Tree memory (max)  \\\n",
       "0                1.309807e+09   3371008.0        104.48        292610048.0   \n",
       "0                1.309774e+09   3362816.0        121.27        292184064.0   \n",
       "0                1.313608e+09   3366912.0        118.84        294543360.0   \n",
       "\n",
       "   Tree memory (max/process)  Total runtime    Max memory  \n",
       "0                234590208.0         254.80  6.345994e+09  \n",
       "0                234496000.0         271.25  6.342521e+09  \n",
       "0                235024384.0         275.67  6.339772e+09  \n",
       "\n",
       "[3 rows x 21 columns]"
      ]
     },
     "execution_count": 7,
     "metadata": {},
     "output_type": "execute_result"
    }
   ],
   "source": [
    "benchmark_df"
   ]
  },
  {
   "cell_type": "code",
   "execution_count": 8,
   "id": "535a9ccc-ab9c-4919-806f-128e1efd2389",
   "metadata": {
    "execution": {
     "iopub.execute_input": "2022-03-08T23:53:55.090525Z",
     "iopub.status.busy": "2022-03-08T23:53:55.089723Z",
     "iopub.status.idle": "2022-03-08T23:53:55.103946Z",
     "shell.execute_reply": "2022-03-08T23:53:55.102856Z"
    },
    "papermill": {
     "duration": 0.035569,
     "end_time": "2022-03-08T23:53:55.104168",
     "exception": false,
     "start_time": "2022-03-08T23:53:55.068599",
     "status": "completed"
    },
    "tags": []
   },
   "outputs": [],
   "source": [
    "index_reads_runtime = simulation_dir_path / 'reads-index-info.tsv'\n",
    "benchmark_df.to_csv(index_reads_runtime, sep='\\t', index=False)"
   ]
  },
  {
   "cell_type": "markdown",
   "id": "c331578f-4026-4a9f-a3ba-288814b02ed2",
   "metadata": {
    "papermill": {
     "duration": 0.012371,
     "end_time": "2022-03-08T23:53:55.140697",
     "exception": false,
     "start_time": "2022-03-08T23:53:55.128326",
     "status": "completed"
    },
    "tags": []
   },
   "source": [
    "## 2.2. Index assemblies"
   ]
  },
  {
   "cell_type": "code",
   "execution_count": 9,
   "id": "6e6664f4-94ee-4c45-b1fc-e048b387fa49",
   "metadata": {
    "execution": {
     "iopub.execute_input": "2022-03-08T23:53:55.181066Z",
     "iopub.status.busy": "2022-03-08T23:53:55.170634Z",
     "iopub.status.idle": "2022-03-08T23:53:58.494653Z",
     "shell.execute_reply": "2022-03-08T23:53:58.495598Z"
    },
    "papermill": {
     "duration": 3.343946,
     "end_time": "2022-03-08T23:53:58.495887",
     "exception": false,
     "start_time": "2022-03-08T23:53:55.151941",
     "status": "completed"
    },
    "tags": []
   },
   "outputs": [
    {
     "name": "stdout",
     "output_type": "stream",
     "text": [
      "\u001b[32m2022-03-08 17:53:58\u001b[0m \u001b[1;30mWARNING:\u001b[0m \u001b[33m--skip-existing-samples is enabled but no --project-dir is set. Will not skip existing samples.\u001b[0m\r\n"
     ]
    }
   ],
   "source": [
    "input_genomes_file = simulation_dir_path / 'input-assemblies.tsv'\n",
    "\n",
    "!gdi input --absolute {assemblies_dir}/*.fa.gz > {input_genomes_file}"
   ]
  },
  {
   "cell_type": "code",
   "execution_count": 10,
   "id": "0a1e62f3-3b0c-4a90-a7fe-f0bc1094e350",
   "metadata": {
    "execution": {
     "iopub.execute_input": "2022-03-08T23:53:58.545918Z",
     "iopub.status.busy": "2022-03-08T23:53:58.544475Z",
     "iopub.status.idle": "2022-03-09T00:04:55.733654Z",
     "shell.execute_reply": "2022-03-09T00:04:55.734528Z"
    },
    "papermill": {
     "duration": 657.213555,
     "end_time": "2022-03-09T00:04:55.734827",
     "exception": false,
     "start_time": "2022-03-08T23:53:58.521272",
     "status": "completed"
    },
    "tags": []
   },
   "outputs": [
    {
     "name": "stdout",
     "output_type": "stream",
     "text": [
      "\n",
      "Iteration 1 of index/analysis of 59 samples with 32 cores\n",
      "Removing any extra snakemake directories: ['snakemake-assemblies.1646783361.9865808']\n"
     ]
    },
    {
     "name": "stdout",
     "output_type": "stream",
     "text": [
      "Creating new index: [gdi init simulations/cov-5/index-assemblies]\n"
     ]
    },
    {
     "name": "stdout",
     "output_type": "stream",
     "text": [
      "Creating a new index took 3.34 seconds\n",
      "Analysis running: [gdi --project-dir simulations/cov-5/index-assemblies --ncores 32 analysis --use-conda --no-load-data --reference-file simulations/reference/reference.fa.gz --kmer-size 31 --kmer-size 51 --kmer-size 71 --include-kmer --reads-mincov 10 --input-structured-genomes-file simulations/cov-5/input-assemblies.tsv]\n"
     ]
    },
    {
     "name": "stdout",
     "output_type": "stream",
     "text": [
      "Analysis took 2.06 minutes\n",
      "Index running: [gdi --project-dir simulations/cov-5/index-assemblies --ncores 32 load vcf-kmer --sample-batch-size 2000 --reference-file simulations/reference/reference.fa.gz /home/CSCScience.ca/apetkau/workspace/genomics-data-index-evaluation/evaluations/simulation/snakemake-assemblies.1646783646.7746844/gdi-input.fofn]\n"
     ]
    },
    {
     "name": "stdout",
     "output_type": "stream",
     "text": [
      "Indexing took 0.11 minutes\n",
      "Building tree: [gdi --project-dir simulations/cov-5/index-assemblies --ncores 32 rebuild tree --align-type full --extra-params '--fast -m GTR+F+R4' reference]\n"
     ]
    },
    {
     "name": "stdout",
     "output_type": "stream",
     "text": [
      "Building tree took 1.74 minutes\n"
     ]
    },
    {
     "name": "stderr",
     "output_type": "stream",
     "text": [
      "Attempting to set global database_path_translator=<genomics_data_index.storage.model.db.DatabasePathTranslator.DatabasePathTranslator object at 0x7f5d6c5bd490> but it is already set\n"
     ]
    },
    {
     "name": "stderr",
     "output_type": "stream",
     "text": [
      "A reminder to myself to look for a Python solution for directory sizes (instead of running `du`)\n"
     ]
    },
    {
     "name": "stdout",
     "output_type": "stream",
     "text": [
      "\n",
      "Iteration 2 of index/analysis of 59 samples with 32 cores\n",
      "Removing any extra snakemake directories: ['snakemake-assemblies.1646783646.7746844']\n"
     ]
    },
    {
     "name": "stdout",
     "output_type": "stream",
     "text": [
      "Removing any existing indexes simulations/cov-5/index-assemblies\n",
      "Creating new index: [gdi init simulations/cov-5/index-assemblies]\n"
     ]
    },
    {
     "name": "stdout",
     "output_type": "stream",
     "text": [
      "Creating a new index took 3.41 seconds\n",
      "Analysis running: [gdi --project-dir simulations/cov-5/index-assemblies --ncores 32 analysis --use-conda --no-load-data --reference-file simulations/reference/reference.fa.gz --kmer-size 31 --kmer-size 51 --kmer-size 71 --include-kmer --reads-mincov 10 --input-structured-genomes-file simulations/cov-5/input-assemblies.tsv]\n"
     ]
    },
    {
     "name": "stdout",
     "output_type": "stream",
     "text": [
      "Analysis took 1.94 minutes\n",
      "Index running: [gdi --project-dir simulations/cov-5/index-assemblies --ncores 32 load vcf-kmer --sample-batch-size 2000 --reference-file simulations/reference/reference.fa.gz /home/CSCScience.ca/apetkau/workspace/genomics-data-index-evaluation/evaluations/simulation/snakemake-assemblies.1646783886.45367/gdi-input.fofn]\n"
     ]
    },
    {
     "name": "stdout",
     "output_type": "stream",
     "text": [
      "Indexing took 0.11 minutes\n",
      "Building tree: [gdi --project-dir simulations/cov-5/index-assemblies --ncores 32 rebuild tree --align-type full --extra-params '--fast -m GTR+F+R4' reference]\n"
     ]
    },
    {
     "name": "stdout",
     "output_type": "stream",
     "text": [
      "Building tree took 1.48 minutes\n"
     ]
    },
    {
     "name": "stderr",
     "output_type": "stream",
     "text": [
      "Attempting to set global database_path_translator=<genomics_data_index.storage.model.db.DatabasePathTranslator.DatabasePathTranslator object at 0x7f5d49e78c40> but it is already set\n"
     ]
    },
    {
     "name": "stderr",
     "output_type": "stream",
     "text": [
      "A reminder to myself to look for a Python solution for directory sizes (instead of running `du`)\n"
     ]
    },
    {
     "name": "stdout",
     "output_type": "stream",
     "text": [
      "\n",
      "Iteration 3 of index/analysis of 59 samples with 32 cores\n",
      "Removing any extra snakemake directories: ['snakemake-assemblies.1646783886.45367']\n"
     ]
    },
    {
     "name": "stdout",
     "output_type": "stream",
     "text": [
      "Removing any existing indexes simulations/cov-5/index-assemblies\n",
      "Creating new index: [gdi init simulations/cov-5/index-assemblies]\n"
     ]
    },
    {
     "name": "stdout",
     "output_type": "stream",
     "text": [
      "Creating a new index took 3.04 seconds\n",
      "Analysis running: [gdi --project-dir simulations/cov-5/index-assemblies --ncores 32 analysis --use-conda --no-load-data --reference-file simulations/reference/reference.fa.gz --kmer-size 31 --kmer-size 51 --kmer-size 71 --include-kmer --reads-mincov 10 --input-structured-genomes-file simulations/cov-5/input-assemblies.tsv]\n"
     ]
    },
    {
     "name": "stdout",
     "output_type": "stream",
     "text": [
      "Analysis took 1.84 minutes\n",
      "Index running: [gdi --project-dir simulations/cov-5/index-assemblies --ncores 32 load vcf-kmer --sample-batch-size 2000 --reference-file simulations/reference/reference.fa.gz /home/CSCScience.ca/apetkau/workspace/genomics-data-index-evaluation/evaluations/simulation/snakemake-assemblies.1646784103.0735397/gdi-input.fofn]\n"
     ]
    },
    {
     "name": "stdout",
     "output_type": "stream",
     "text": [
      "Indexing took 0.11 minutes\n",
      "Building tree: [gdi --project-dir simulations/cov-5/index-assemblies --ncores 32 rebuild tree --align-type full --extra-params '--fast -m GTR+F+R4' reference]\n"
     ]
    },
    {
     "name": "stdout",
     "output_type": "stream",
     "text": [
      "Building tree took 1.30 minutes\n"
     ]
    },
    {
     "name": "stderr",
     "output_type": "stream",
     "text": [
      "Attempting to set global database_path_translator=<genomics_data_index.storage.model.db.DatabasePathTranslator.DatabasePathTranslator object at 0x7f5d49e319d0> but it is already set\n"
     ]
    },
    {
     "name": "stderr",
     "output_type": "stream",
     "text": [
      "A reminder to myself to look for a Python solution for directory sizes (instead of running `du`)\n"
     ]
    }
   ],
   "source": [
    "results_handler = gdi_benchmark.BenchmarkResultsHandler(name=f'{case_name} assemblies')\n",
    "benchmarker = gdi_benchmark.IndexBenchmarker(benchmark_results_handler=results_handler,\n",
    "                                             index_path=index_assemblies_path, input_files_file=input_genomes_file,\n",
    "                                             reference_file=reference_file, mincov=mincov, build_tree=True,\n",
    "                                             ncores=ncores)\n",
    "\n",
    "benchmark_df = benchmarker.benchmark(iterations=iterations)"
   ]
  },
  {
   "cell_type": "code",
   "execution_count": 11,
   "id": "a6d55a9d-be2f-4851-b66c-04b5ebd597a1",
   "metadata": {
    "execution": {
     "iopub.execute_input": "2022-03-09T00:04:55.816065Z",
     "iopub.status.busy": "2022-03-09T00:04:55.814959Z",
     "iopub.status.idle": "2022-03-09T00:04:55.819492Z",
     "shell.execute_reply": "2022-03-09T00:04:55.820397Z"
    },
    "papermill": {
     "duration": 0.053613,
     "end_time": "2022-03-09T00:04:55.820676",
     "exception": false,
     "start_time": "2022-03-09T00:04:55.767063",
     "status": "completed"
    },
    "tags": []
   },
   "outputs": [
    {
     "data": {
      "text/html": [
       "<div>\n",
       "<style scoped>\n",
       "    .dataframe tbody tr th:only-of-type {\n",
       "        vertical-align: middle;\n",
       "    }\n",
       "\n",
       "    .dataframe tbody tr th {\n",
       "        vertical-align: top;\n",
       "    }\n",
       "\n",
       "    .dataframe thead th {\n",
       "        text-align: right;\n",
       "    }\n",
       "</style>\n",
       "<table border=\"1\" class=\"dataframe\">\n",
       "  <thead>\n",
       "    <tr style=\"text-align: right;\">\n",
       "      <th></th>\n",
       "      <th>Name</th>\n",
       "      <th>Reference name</th>\n",
       "      <th>Iteration</th>\n",
       "      <th>Number samples</th>\n",
       "      <th>Number features (all)</th>\n",
       "      <th>Number features (no unknown)</th>\n",
       "      <th>Number cores</th>\n",
       "      <th>Reference length</th>\n",
       "      <th>Analysis runtime</th>\n",
       "      <th>Analysis memory (max)</th>\n",
       "      <th>...</th>\n",
       "      <th>Analysis disk uage</th>\n",
       "      <th>Index runtime</th>\n",
       "      <th>Index memory (max)</th>\n",
       "      <th>Index memory (max/process)</th>\n",
       "      <th>Index size</th>\n",
       "      <th>Tree runtime</th>\n",
       "      <th>Tree memory (max)</th>\n",
       "      <th>Tree memory (max/process)</th>\n",
       "      <th>Total runtime</th>\n",
       "      <th>Max memory</th>\n",
       "    </tr>\n",
       "  </thead>\n",
       "  <tbody>\n",
       "    <tr>\n",
       "      <th>0</th>\n",
       "      <td>cov-5 assemblies</td>\n",
       "      <td>reference</td>\n",
       "      <td>1</td>\n",
       "      <td>59</td>\n",
       "      <td>1426</td>\n",
       "      <td>1350</td>\n",
       "      <td>32</td>\n",
       "      <td>19699</td>\n",
       "      <td>123.20</td>\n",
       "      <td>1.261277e+09</td>\n",
       "      <td>...</td>\n",
       "      <td>2.203050e+09</td>\n",
       "      <td>6.62</td>\n",
       "      <td>5.920670e+09</td>\n",
       "      <td>255119360.0</td>\n",
       "      <td>1368064.0</td>\n",
       "      <td>104.53</td>\n",
       "      <td>254382080.0</td>\n",
       "      <td>234930176.0</td>\n",
       "      <td>234.35</td>\n",
       "      <td>5.920670e+09</td>\n",
       "    </tr>\n",
       "    <tr>\n",
       "      <th>0</th>\n",
       "      <td>cov-5 assemblies</td>\n",
       "      <td>reference</td>\n",
       "      <td>2</td>\n",
       "      <td>59</td>\n",
       "      <td>1426</td>\n",
       "      <td>1350</td>\n",
       "      <td>32</td>\n",
       "      <td>19699</td>\n",
       "      <td>116.44</td>\n",
       "      <td>1.266082e+09</td>\n",
       "      <td>...</td>\n",
       "      <td>2.203034e+09</td>\n",
       "      <td>6.51</td>\n",
       "      <td>5.918831e+09</td>\n",
       "      <td>254189568.0</td>\n",
       "      <td>1368064.0</td>\n",
       "      <td>88.57</td>\n",
       "      <td>254238720.0</td>\n",
       "      <td>234381312.0</td>\n",
       "      <td>211.52</td>\n",
       "      <td>5.918831e+09</td>\n",
       "    </tr>\n",
       "    <tr>\n",
       "      <th>0</th>\n",
       "      <td>cov-5 assemblies</td>\n",
       "      <td>reference</td>\n",
       "      <td>3</td>\n",
       "      <td>59</td>\n",
       "      <td>1426</td>\n",
       "      <td>1350</td>\n",
       "      <td>32</td>\n",
       "      <td>19699</td>\n",
       "      <td>110.54</td>\n",
       "      <td>1.319924e+09</td>\n",
       "      <td>...</td>\n",
       "      <td>2.203050e+09</td>\n",
       "      <td>6.58</td>\n",
       "      <td>5.929550e+09</td>\n",
       "      <td>254763008.0</td>\n",
       "      <td>1368064.0</td>\n",
       "      <td>78.02</td>\n",
       "      <td>253235200.0</td>\n",
       "      <td>233701376.0</td>\n",
       "      <td>195.14</td>\n",
       "      <td>5.929550e+09</td>\n",
       "    </tr>\n",
       "  </tbody>\n",
       "</table>\n",
       "<p>3 rows × 21 columns</p>\n",
       "</div>"
      ],
      "text/plain": [
       "               Name Reference name  Iteration  Number samples  \\\n",
       "0  cov-5 assemblies      reference          1              59   \n",
       "0  cov-5 assemblies      reference          2              59   \n",
       "0  cov-5 assemblies      reference          3              59   \n",
       "\n",
       "   Number features (all)  Number features (no unknown)  Number cores  \\\n",
       "0                   1426                          1350            32   \n",
       "0                   1426                          1350            32   \n",
       "0                   1426                          1350            32   \n",
       "\n",
       "   Reference length  Analysis runtime  Analysis memory (max)  ...  \\\n",
       "0             19699            123.20           1.261277e+09  ...   \n",
       "0             19699            116.44           1.266082e+09  ...   \n",
       "0             19699            110.54           1.319924e+09  ...   \n",
       "\n",
       "   Analysis disk uage  Index runtime  Index memory (max)  \\\n",
       "0        2.203050e+09           6.62        5.920670e+09   \n",
       "0        2.203034e+09           6.51        5.918831e+09   \n",
       "0        2.203050e+09           6.58        5.929550e+09   \n",
       "\n",
       "   Index memory (max/process)  Index size  Tree runtime  Tree memory (max)  \\\n",
       "0                 255119360.0   1368064.0        104.53        254382080.0   \n",
       "0                 254189568.0   1368064.0         88.57        254238720.0   \n",
       "0                 254763008.0   1368064.0         78.02        253235200.0   \n",
       "\n",
       "   Tree memory (max/process)  Total runtime    Max memory  \n",
       "0                234930176.0         234.35  5.920670e+09  \n",
       "0                234381312.0         211.52  5.918831e+09  \n",
       "0                233701376.0         195.14  5.929550e+09  \n",
       "\n",
       "[3 rows x 21 columns]"
      ]
     },
     "execution_count": 11,
     "metadata": {},
     "output_type": "execute_result"
    }
   ],
   "source": [
    "benchmark_df"
   ]
  },
  {
   "cell_type": "code",
   "execution_count": 12,
   "id": "e1a6d962-50bc-4c8d-a6f2-3a661da706b4",
   "metadata": {
    "execution": {
     "iopub.execute_input": "2022-03-09T00:04:55.874873Z",
     "iopub.status.busy": "2022-03-09T00:04:55.873751Z",
     "iopub.status.idle": "2022-03-09T00:04:55.878293Z",
     "shell.execute_reply": "2022-03-09T00:04:55.877397Z"
    },
    "papermill": {
     "duration": 0.028571,
     "end_time": "2022-03-09T00:04:55.878525",
     "exception": false,
     "start_time": "2022-03-09T00:04:55.849954",
     "status": "completed"
    },
    "tags": []
   },
   "outputs": [],
   "source": [
    "index_assemblies_runtime = simulation_dir_path / 'assemblies-index-info.tsv'\n",
    "benchmark_df.to_csv(index_assemblies_runtime, sep='\\t', index=False)"
   ]
  },
  {
   "cell_type": "markdown",
   "id": "6cb7673b-9f85-4c43-b2e2-93538497a196",
   "metadata": {
    "papermill": {
     "duration": 0.015849,
     "end_time": "2022-03-09T00:04:55.925985",
     "exception": false,
     "start_time": "2022-03-09T00:04:55.910136",
     "status": "completed"
    },
    "tags": []
   },
   "source": [
    "# 3. Export trees"
   ]
  },
  {
   "cell_type": "code",
   "execution_count": 13,
   "id": "5280f82c-5434-4391-8c44-b937a7c95bd5",
   "metadata": {
    "execution": {
     "iopub.execute_input": "2022-03-09T00:04:55.975275Z",
     "iopub.status.busy": "2022-03-09T00:04:55.966721Z",
     "iopub.status.idle": "2022-03-09T00:05:02.924271Z",
     "shell.execute_reply": "2022-03-09T00:05:02.925164Z"
    },
    "papermill": {
     "duration": 6.983704,
     "end_time": "2022-03-09T00:05:02.925470",
     "exception": false,
     "start_time": "2022-03-09T00:04:55.941766",
     "status": "completed"
    },
    "tags": []
   },
   "outputs": [
    {
     "name": "stdout",
     "output_type": "stream",
     "text": [
      "Wrote assemblies tree to simulations/cov-5/index-assemblies/assemblies.tre\n"
     ]
    },
    {
     "name": "stdout",
     "output_type": "stream",
     "text": [
      "Wrote assemblies tree to simulations/cov-5/index-reads/reads.tre\n"
     ]
    }
   ],
   "source": [
    "!gdi --project-dir {index_assemblies_path} export tree {reference_name} > {output_assemblies_tree}\n",
    "print(f'Wrote assemblies tree to {output_assemblies_tree}')\n",
    "\n",
    "!gdi --project-dir {index_reads_path} export tree {reference_name} > {output_reads_tree}\n",
    "print(f'Wrote assemblies tree to {output_reads_tree}')"
   ]
  }
 ],
 "metadata": {
  "kernelspec": {
   "display_name": "Python 3 (ipykernel)",
   "language": "python",
   "name": "python3"
  },
  "language_info": {
   "codemirror_mode": {
    "name": "ipython",
    "version": 3
   },
   "file_extension": ".py",
   "mimetype": "text/x-python",
   "name": "python",
   "nbconvert_exporter": "python",
   "pygments_lexer": "ipython3",
   "version": "3.8.12"
  },
  "papermill": {
   "default_parameters": {},
   "duration": 1498.056588,
   "end_time": "2022-03-09T00:05:03.482921",
   "environment_variables": {},
   "exception": null,
   "input_path": "template-3-index-genomes.ipynb",
   "output_path": "3-index-genomes.simulation-cov-5.ipynb",
   "parameters": {
    "iterations": 3,
    "mincov": 10,
    "read_coverage": 5,
    "simulation_dir": "simulations/cov-5",
    "sub_alpha": 0.2
   },
   "start_time": "2022-03-08T23:40:05.426333",
   "version": "2.3.4"
  }
 },
 "nbformat": 4,
 "nbformat_minor": 5
}