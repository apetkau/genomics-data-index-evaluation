{
 "cells": [
  {
   "cell_type": "markdown",
   "id": "7d3667b4-b1f8-4347-96e3-830c25b06740",
   "metadata": {
    "papermill": {
     "duration": 0.019429,
     "end_time": "2022-03-09T22:17:00.581562",
     "exception": false,
     "start_time": "2022-03-09T22:17:00.562133",
     "status": "completed"
    },
    "tags": []
   },
   "source": [
    "# 1. Parameters"
   ]
  },
  {
   "cell_type": "code",
   "execution_count": 1,
   "id": "d4ab0749-b286-4c34-b63c-a854e4952bae",
   "metadata": {
    "execution": {
     "iopub.execute_input": "2022-03-09T22:17:00.613297Z",
     "iopub.status.busy": "2022-03-09T22:17:00.612779Z",
     "iopub.status.idle": "2022-03-09T22:17:00.616686Z",
     "shell.execute_reply": "2022-03-09T22:17:00.617069Z"
    },
    "papermill": {
     "duration": 0.02539,
     "end_time": "2022-03-09T22:17:00.617282",
     "exception": false,
     "start_time": "2022-03-09T22:17:00.591892",
     "status": "completed"
    },
    "tags": [
     "parameters"
    ]
   },
   "outputs": [],
   "source": [
    "# Defaults\n",
    "simulation_dir = 'simulations/unset'\n",
    "reference_file = 'simulations/reference/reference.fa.gz'\n",
    "iterations = 3\n",
    "mincov = 10\n",
    "ncores = 32"
   ]
  },
  {
   "cell_type": "code",
   "execution_count": 2,
   "id": "c8a0ea81",
   "metadata": {
    "execution": {
     "iopub.execute_input": "2022-03-09T22:17:00.641499Z",
     "iopub.status.busy": "2022-03-09T22:17:00.641091Z",
     "iopub.status.idle": "2022-03-09T22:17:00.644043Z",
     "shell.execute_reply": "2022-03-09T22:17:00.644343Z"
    },
    "papermill": {
     "duration": 0.016499,
     "end_time": "2022-03-09T22:17:00.644449",
     "exception": false,
     "start_time": "2022-03-09T22:17:00.627950",
     "status": "completed"
    },
    "tags": [
     "injected-parameters"
    ]
   },
   "outputs": [],
   "source": [
    "# Parameters\n",
    "read_coverage = 30\n",
    "mincov = 10\n",
    "simulation_dir = \"simulations/alpha-0.1-cov-30\"\n",
    "iterations = 3\n",
    "sub_alpha = 0.1\n"
   ]
  },
  {
   "cell_type": "code",
   "execution_count": 3,
   "id": "ce5962e4-261c-4210-b39b-47044e28466b",
   "metadata": {
    "execution": {
     "iopub.execute_input": "2022-03-09T22:17:00.666940Z",
     "iopub.status.busy": "2022-03-09T22:17:00.666513Z",
     "iopub.status.idle": "2022-03-09T22:17:03.463814Z",
     "shell.execute_reply": "2022-03-09T22:17:03.463401Z"
    },
    "papermill": {
     "duration": 2.81263,
     "end_time": "2022-03-09T22:17:03.463921",
     "exception": false,
     "start_time": "2022-03-09T22:17:00.651291",
     "status": "completed"
    },
    "tags": []
   },
   "outputs": [],
   "source": [
    "from pathlib import Path\n",
    "import imp\n",
    "fp, pathname, description = imp.find_module('gdi_benchmark', ['../../lib'])\n",
    "gdi_benchmark = imp.load_module('gdi_benchmark', fp, pathname, description)\n",
    "\n",
    "simulation_dir_path = Path(simulation_dir)\n",
    "\n",
    "case_name = str(simulation_dir_path.name)\n",
    "reads_dir = simulation_dir_path / 'simulated_data' / 'reads'\n",
    "assemblies_dir = simulation_dir_path / 'simulated_data' / 'assemblies'\n",
    "index_reads_path = simulation_dir_path / 'index-reads'\n",
    "index_assemblies_path = simulation_dir_path / 'index-assemblies'\n",
    "output_reads_tree = index_reads_path / 'reads.tre'\n",
    "output_assemblies_tree = index_assemblies_path / 'assemblies.tre'\n",
    "reference_name = Path(reference_file).name.split('.')[0]"
   ]
  },
  {
   "cell_type": "markdown",
   "id": "f208279e-7558-47fc-9362-da29df92828a",
   "metadata": {
    "papermill": {
     "duration": 0.006585,
     "end_time": "2022-03-09T22:17:03.477407",
     "exception": false,
     "start_time": "2022-03-09T22:17:03.470822",
     "status": "completed"
    },
    "tags": []
   },
   "source": [
    "# 2. Index genomes"
   ]
  },
  {
   "cell_type": "code",
   "execution_count": 4,
   "id": "4e936f7c-2fcd-4188-b0e6-6b3ceb5cdcd2",
   "metadata": {
    "execution": {
     "iopub.execute_input": "2022-03-09T22:17:03.497218Z",
     "iopub.status.busy": "2022-03-09T22:17:03.496814Z",
     "iopub.status.idle": "2022-03-09T22:17:06.776737Z",
     "shell.execute_reply": "2022-03-09T22:17:06.777661Z"
    },
    "papermill": {
     "duration": 3.294098,
     "end_time": "2022-03-09T22:17:06.777979",
     "exception": false,
     "start_time": "2022-03-09T22:17:03.483881",
     "status": "completed"
    },
    "tags": []
   },
   "outputs": [
    {
     "name": "stdout",
     "output_type": "stream",
     "text": [
      "gdi, version 0.6.0.dev2\r\n"
     ]
    }
   ],
   "source": [
    "!gdi --version"
   ]
  },
  {
   "cell_type": "markdown",
   "id": "5409ecf8-2158-4361-9d2f-6b1a6c7c63a6",
   "metadata": {
    "papermill": {
     "duration": 0.009296,
     "end_time": "2022-03-09T22:17:06.804179",
     "exception": false,
     "start_time": "2022-03-09T22:17:06.794883",
     "status": "completed"
    },
    "tags": []
   },
   "source": [
    "## 2.1. Index reads"
   ]
  },
  {
   "cell_type": "code",
   "execution_count": 5,
   "id": "b5324f79-913b-4dac-8122-19ad5c0f24b2",
   "metadata": {
    "execution": {
     "iopub.execute_input": "2022-03-09T22:17:06.838715Z",
     "iopub.status.busy": "2022-03-09T22:17:06.826539Z",
     "iopub.status.idle": "2022-03-09T22:17:10.088627Z",
     "shell.execute_reply": "2022-03-09T22:17:10.089560Z"
    },
    "papermill": {
     "duration": 3.278592,
     "end_time": "2022-03-09T22:17:10.089885",
     "exception": false,
     "start_time": "2022-03-09T22:17:06.811293",
     "status": "completed"
    },
    "tags": []
   },
   "outputs": [
    {
     "name": "stdout",
     "output_type": "stream",
     "text": [
      "\u001b[32m2022-03-09 16:17:09\u001b[0m \u001b[1;30mWARNING:\u001b[0m \u001b[33m--skip-existing-samples is enabled but no --project-dir is set. Will not skip existing samples.\u001b[0m\r\n"
     ]
    }
   ],
   "source": [
    "input_genomes_file = simulation_dir_path / 'input-reads.tsv'\n",
    "\n",
    "!gdi input --absolute {reads_dir}/*.fq.gz > {input_genomes_file}"
   ]
  },
  {
   "cell_type": "code",
   "execution_count": 6,
   "id": "3d63e861-733e-46f2-8bce-bd1a2c7c7058",
   "metadata": {
    "execution": {
     "iopub.execute_input": "2022-03-09T22:17:10.129640Z",
     "iopub.status.busy": "2022-03-09T22:17:10.129230Z",
     "iopub.status.idle": "2022-03-09T22:28:14.580371Z",
     "shell.execute_reply": "2022-03-09T22:28:14.579232Z"
    },
    "papermill": {
     "duration": 664.473404,
     "end_time": "2022-03-09T22:28:14.580771",
     "exception": false,
     "start_time": "2022-03-09T22:17:10.107367",
     "status": "completed"
    },
    "tags": []
   },
   "outputs": [
    {
     "name": "stdout",
     "output_type": "stream",
     "text": [
      "\n",
      "Iteration 1 of index/analysis of 59 samples with 32 cores\n",
      "Removing any extra snakemake directories: ['snakemake-assemblies.1646864021.1822934']\n"
     ]
    },
    {
     "name": "stdout",
     "output_type": "stream",
     "text": [
      "Creating new index: [gdi init simulations/alpha-0.1-cov-30/index-reads]\n"
     ]
    },
    {
     "name": "stdout",
     "output_type": "stream",
     "text": [
      "Creating a new index took 3.34 seconds\n",
      "Analysis running: [gdi --project-dir simulations/alpha-0.1-cov-30/index-reads --ncores 32 analysis --use-conda --no-load-data --reference-file simulations/reference/reference.fa.gz --kmer-size 31 --kmer-size 51 --kmer-size 71 --include-kmer --reads-mincov 10 --input-structured-genomes-file simulations/alpha-0.1-cov-30/input-reads.tsv]\n"
     ]
    },
    {
     "name": "stdout",
     "output_type": "stream",
     "text": [
      "Analysis took 1.81 minutes\n",
      "Index running: [gdi --project-dir simulations/alpha-0.1-cov-30/index-reads --ncores 32 load vcf-kmer --sample-batch-size 2000 --reference-file simulations/reference/reference.fa.gz /home/CSCScience.ca/apetkau/workspace/genomics-data-index-evaluation/evaluations/simulation/snakemake-assemblies.1646864238.2238734/gdi-input.fofn]\n"
     ]
    },
    {
     "name": "stdout",
     "output_type": "stream",
     "text": [
      "Indexing took 0.14 minutes\n",
      "Building tree: [gdi --project-dir simulations/alpha-0.1-cov-30/index-reads --ncores 32 rebuild tree --align-type full --extra-params '--fast -m GTR+F+R4' reference]\n"
     ]
    },
    {
     "name": "stdout",
     "output_type": "stream",
     "text": [
      "Building tree took 1.69 minutes\n"
     ]
    },
    {
     "name": "stderr",
     "output_type": "stream",
     "text": [
      "A reminder to myself to look for a Python solution for directory sizes (instead of running `du`)\n"
     ]
    },
    {
     "name": "stdout",
     "output_type": "stream",
     "text": [
      "\n",
      "Iteration 2 of index/analysis of 59 samples with 32 cores\n",
      "Removing any extra snakemake directories: ['snakemake-assemblies.1646864238.2238734']\n"
     ]
    },
    {
     "name": "stdout",
     "output_type": "stream",
     "text": [
      "Removing any existing indexes simulations/alpha-0.1-cov-30/index-reads\n",
      "Creating new index: [gdi init simulations/alpha-0.1-cov-30/index-reads]\n"
     ]
    },
    {
     "name": "stdout",
     "output_type": "stream",
     "text": [
      "Creating a new index took 3.41 seconds\n",
      "Analysis running: [gdi --project-dir simulations/alpha-0.1-cov-30/index-reads --ncores 32 analysis --use-conda --no-load-data --reference-file simulations/reference/reference.fa.gz --kmer-size 31 --kmer-size 51 --kmer-size 71 --include-kmer --reads-mincov 10 --input-structured-genomes-file simulations/alpha-0.1-cov-30/input-reads.tsv]\n"
     ]
    },
    {
     "name": "stdout",
     "output_type": "stream",
     "text": [
      "Analysis took 1.82 minutes\n",
      "Index running: [gdi --project-dir simulations/alpha-0.1-cov-30/index-reads --ncores 32 load vcf-kmer --sample-batch-size 2000 --reference-file simulations/reference/reference.fa.gz /home/CSCScience.ca/apetkau/workspace/genomics-data-index-evaluation/evaluations/simulation/snakemake-assemblies.1646864461.5871792/gdi-input.fofn]\n"
     ]
    },
    {
     "name": "stdout",
     "output_type": "stream",
     "text": [
      "Indexing took 0.13 minutes\n",
      "Building tree: [gdi --project-dir simulations/alpha-0.1-cov-30/index-reads --ncores 32 rebuild tree --align-type full --extra-params '--fast -m GTR+F+R4' reference]\n"
     ]
    },
    {
     "name": "stdout",
     "output_type": "stream",
     "text": [
      "Building tree took 1.55 minutes\n"
     ]
    },
    {
     "name": "stderr",
     "output_type": "stream",
     "text": [
      "Attempting to set global database_path_translator=<genomics_data_index.storage.model.db.DatabasePathTranslator.DatabasePathTranslator object at 0x7fc6cf8c7ee0> but it is already set\n"
     ]
    },
    {
     "name": "stderr",
     "output_type": "stream",
     "text": [
      "A reminder to myself to look for a Python solution for directory sizes (instead of running `du`)\n"
     ]
    },
    {
     "name": "stdout",
     "output_type": "stream",
     "text": [
      "\n",
      "Iteration 3 of index/analysis of 59 samples with 32 cores\n",
      "Removing any extra snakemake directories: ['snakemake-assemblies.1646864461.5871792']\n"
     ]
    },
    {
     "name": "stdout",
     "output_type": "stream",
     "text": [
      "Removing any existing indexes simulations/alpha-0.1-cov-30/index-reads\n",
      "Creating new index: [gdi init simulations/alpha-0.1-cov-30/index-reads]\n"
     ]
    },
    {
     "name": "stdout",
     "output_type": "stream",
     "text": [
      "Creating a new index took 3.27 seconds\n",
      "Analysis running: [gdi --project-dir simulations/alpha-0.1-cov-30/index-reads --ncores 32 analysis --use-conda --no-load-data --reference-file simulations/reference/reference.fa.gz --kmer-size 31 --kmer-size 51 --kmer-size 71 --include-kmer --reads-mincov 10 --input-structured-genomes-file simulations/alpha-0.1-cov-30/input-reads.tsv]\n"
     ]
    },
    {
     "name": "stdout",
     "output_type": "stream",
     "text": [
      "Analysis took 1.79 minutes\n",
      "Index running: [gdi --project-dir simulations/alpha-0.1-cov-30/index-reads --ncores 32 load vcf-kmer --sample-batch-size 2000 --reference-file simulations/reference/reference.fa.gz /home/CSCScience.ca/apetkau/workspace/genomics-data-index-evaluation/evaluations/simulation/snakemake-assemblies.1646864676.8061628/gdi-input.fofn]\n"
     ]
    },
    {
     "name": "stdout",
     "output_type": "stream",
     "text": [
      "Indexing took 0.13 minutes\n",
      "Building tree: [gdi --project-dir simulations/alpha-0.1-cov-30/index-reads --ncores 32 rebuild tree --align-type full --extra-params '--fast -m GTR+F+R4' reference]\n"
     ]
    },
    {
     "name": "stdout",
     "output_type": "stream",
     "text": [
      "Building tree took 1.76 minutes\n"
     ]
    },
    {
     "name": "stderr",
     "output_type": "stream",
     "text": [
      "Attempting to set global database_path_translator=<genomics_data_index.storage.model.db.DatabasePathTranslator.DatabasePathTranslator object at 0x7fc68d6e1c40> but it is already set\n"
     ]
    },
    {
     "name": "stderr",
     "output_type": "stream",
     "text": [
      "A reminder to myself to look for a Python solution for directory sizes (instead of running `du`)\n"
     ]
    }
   ],
   "source": [
    "results_handler = gdi_benchmark.BenchmarkResultsHandler(name=f'{case_name} reads')\n",
    "benchmarker = gdi_benchmark.IndexBenchmarker(benchmark_results_handler=results_handler,\n",
    "                                             index_path=index_reads_path, input_files_file=input_genomes_file,\n",
    "                                             reference_file=reference_file, mincov=mincov, build_tree=True,\n",
    "                                             ncores=ncores)\n",
    "\n",
    "benchmark_df = benchmarker.benchmark(iterations=iterations)"
   ]
  },
  {
   "cell_type": "code",
   "execution_count": 7,
   "id": "3bcb6da7-0164-47f2-abdd-a4c159da1e3b",
   "metadata": {
    "execution": {
     "iopub.execute_input": "2022-03-09T22:28:14.648242Z",
     "iopub.status.busy": "2022-03-09T22:28:14.640592Z",
     "iopub.status.idle": "2022-03-09T22:28:14.660334Z",
     "shell.execute_reply": "2022-03-09T22:28:14.661181Z"
    },
    "papermill": {
     "duration": 0.055659,
     "end_time": "2022-03-09T22:28:14.661427",
     "exception": false,
     "start_time": "2022-03-09T22:28:14.605768",
     "status": "completed"
    },
    "tags": []
   },
   "outputs": [
    {
     "data": {
      "text/html": [
       "<div>\n",
       "<style scoped>\n",
       "    .dataframe tbody tr th:only-of-type {\n",
       "        vertical-align: middle;\n",
       "    }\n",
       "\n",
       "    .dataframe tbody tr th {\n",
       "        vertical-align: top;\n",
       "    }\n",
       "\n",
       "    .dataframe thead th {\n",
       "        text-align: right;\n",
       "    }\n",
       "</style>\n",
       "<table border=\"1\" class=\"dataframe\">\n",
       "  <thead>\n",
       "    <tr style=\"text-align: right;\">\n",
       "      <th></th>\n",
       "      <th>Name</th>\n",
       "      <th>Reference name</th>\n",
       "      <th>Iteration</th>\n",
       "      <th>Number samples</th>\n",
       "      <th>Number features (all)</th>\n",
       "      <th>Number features (no unknown)</th>\n",
       "      <th>Number cores</th>\n",
       "      <th>Reference length</th>\n",
       "      <th>Analysis runtime</th>\n",
       "      <th>Analysis memory (max)</th>\n",
       "      <th>...</th>\n",
       "      <th>Analysis disk uage</th>\n",
       "      <th>Index runtime</th>\n",
       "      <th>Index memory (max)</th>\n",
       "      <th>Index memory (max/process)</th>\n",
       "      <th>Index size</th>\n",
       "      <th>Tree runtime</th>\n",
       "      <th>Tree memory (max)</th>\n",
       "      <th>Tree memory (max/process)</th>\n",
       "      <th>Total runtime</th>\n",
       "      <th>Max memory</th>\n",
       "    </tr>\n",
       "  </thead>\n",
       "  <tbody>\n",
       "    <tr>\n",
       "      <th>0</th>\n",
       "      <td>alpha-0.1-cov-30 reads</td>\n",
       "      <td>reference</td>\n",
       "      <td>1</td>\n",
       "      <td>59</td>\n",
       "      <td>3062</td>\n",
       "      <td>1003</td>\n",
       "      <td>32</td>\n",
       "      <td>19699</td>\n",
       "      <td>108.46</td>\n",
       "      <td>3.076678e+09</td>\n",
       "      <td>...</td>\n",
       "      <td>2.954240e+09</td>\n",
       "      <td>8.48</td>\n",
       "      <td>5.940204e+09</td>\n",
       "      <td>290095104.0</td>\n",
       "      <td>2093056.0</td>\n",
       "      <td>101.07</td>\n",
       "      <td>272977920.0</td>\n",
       "      <td>234438656.0</td>\n",
       "      <td>218.01</td>\n",
       "      <td>5.940204e+09</td>\n",
       "    </tr>\n",
       "    <tr>\n",
       "      <th>0</th>\n",
       "      <td>alpha-0.1-cov-30 reads</td>\n",
       "      <td>reference</td>\n",
       "      <td>2</td>\n",
       "      <td>59</td>\n",
       "      <td>3062</td>\n",
       "      <td>1003</td>\n",
       "      <td>32</td>\n",
       "      <td>19699</td>\n",
       "      <td>109.07</td>\n",
       "      <td>3.015139e+09</td>\n",
       "      <td>...</td>\n",
       "      <td>2.954236e+09</td>\n",
       "      <td>7.79</td>\n",
       "      <td>5.937459e+09</td>\n",
       "      <td>289914880.0</td>\n",
       "      <td>2093056.0</td>\n",
       "      <td>92.81</td>\n",
       "      <td>272347136.0</td>\n",
       "      <td>233951232.0</td>\n",
       "      <td>209.67</td>\n",
       "      <td>5.937459e+09</td>\n",
       "    </tr>\n",
       "    <tr>\n",
       "      <th>0</th>\n",
       "      <td>alpha-0.1-cov-30 reads</td>\n",
       "      <td>reference</td>\n",
       "      <td>3</td>\n",
       "      <td>59</td>\n",
       "      <td>3062</td>\n",
       "      <td>1003</td>\n",
       "      <td>32</td>\n",
       "      <td>19699</td>\n",
       "      <td>107.17</td>\n",
       "      <td>3.173831e+09</td>\n",
       "      <td>...</td>\n",
       "      <td>2.954228e+09</td>\n",
       "      <td>7.92</td>\n",
       "      <td>5.949641e+09</td>\n",
       "      <td>289619968.0</td>\n",
       "      <td>2088960.0</td>\n",
       "      <td>105.32</td>\n",
       "      <td>272723968.0</td>\n",
       "      <td>234315776.0</td>\n",
       "      <td>220.41</td>\n",
       "      <td>5.949641e+09</td>\n",
       "    </tr>\n",
       "  </tbody>\n",
       "</table>\n",
       "<p>3 rows × 21 columns</p>\n",
       "</div>"
      ],
      "text/plain": [
       "                     Name Reference name  Iteration  Number samples  \\\n",
       "0  alpha-0.1-cov-30 reads      reference          1              59   \n",
       "0  alpha-0.1-cov-30 reads      reference          2              59   \n",
       "0  alpha-0.1-cov-30 reads      reference          3              59   \n",
       "\n",
       "   Number features (all)  Number features (no unknown)  Number cores  \\\n",
       "0                   3062                          1003            32   \n",
       "0                   3062                          1003            32   \n",
       "0                   3062                          1003            32   \n",
       "\n",
       "   Reference length  Analysis runtime  Analysis memory (max)  ...  \\\n",
       "0             19699            108.46           3.076678e+09  ...   \n",
       "0             19699            109.07           3.015139e+09  ...   \n",
       "0             19699            107.17           3.173831e+09  ...   \n",
       "\n",
       "   Analysis disk uage  Index runtime  Index memory (max)  \\\n",
       "0        2.954240e+09           8.48        5.940204e+09   \n",
       "0        2.954236e+09           7.79        5.937459e+09   \n",
       "0        2.954228e+09           7.92        5.949641e+09   \n",
       "\n",
       "   Index memory (max/process)  Index size  Tree runtime  Tree memory (max)  \\\n",
       "0                 290095104.0   2093056.0        101.07        272977920.0   \n",
       "0                 289914880.0   2093056.0         92.81        272347136.0   \n",
       "0                 289619968.0   2088960.0        105.32        272723968.0   \n",
       "\n",
       "   Tree memory (max/process)  Total runtime    Max memory  \n",
       "0                234438656.0         218.01  5.940204e+09  \n",
       "0                233951232.0         209.67  5.937459e+09  \n",
       "0                234315776.0         220.41  5.949641e+09  \n",
       "\n",
       "[3 rows x 21 columns]"
      ]
     },
     "execution_count": 7,
     "metadata": {},
     "output_type": "execute_result"
    }
   ],
   "source": [
    "benchmark_df"
   ]
  },
  {
   "cell_type": "code",
   "execution_count": 8,
   "id": "535a9ccc-ab9c-4919-806f-128e1efd2389",
   "metadata": {
    "execution": {
     "iopub.execute_input": "2022-03-09T22:28:14.705089Z",
     "iopub.status.busy": "2022-03-09T22:28:14.704679Z",
     "iopub.status.idle": "2022-03-09T22:28:14.712892Z",
     "shell.execute_reply": "2022-03-09T22:28:14.712558Z"
    },
    "papermill": {
     "duration": 0.026615,
     "end_time": "2022-03-09T22:28:14.712974",
     "exception": false,
     "start_time": "2022-03-09T22:28:14.686359",
     "status": "completed"
    },
    "tags": []
   },
   "outputs": [],
   "source": [
    "index_reads_runtime = simulation_dir_path / 'reads-index-info.tsv'\n",
    "benchmark_df.to_csv(index_reads_runtime, sep='\\t', index=False)"
   ]
  },
  {
   "cell_type": "markdown",
   "id": "c331578f-4026-4a9f-a3ba-288814b02ed2",
   "metadata": {
    "papermill": {
     "duration": 0.011117,
     "end_time": "2022-03-09T22:28:14.738547",
     "exception": false,
     "start_time": "2022-03-09T22:28:14.727430",
     "status": "completed"
    },
    "tags": []
   },
   "source": [
    "## 2.2. Index assemblies"
   ]
  },
  {
   "cell_type": "code",
   "execution_count": 9,
   "id": "6e6664f4-94ee-4c45-b1fc-e048b387fa49",
   "metadata": {
    "execution": {
     "iopub.execute_input": "2022-03-09T22:28:14.768053Z",
     "iopub.status.busy": "2022-03-09T22:28:14.767653Z",
     "iopub.status.idle": "2022-03-09T22:28:18.116987Z",
     "shell.execute_reply": "2022-03-09T22:28:18.117890Z"
    },
    "papermill": {
     "duration": 3.368508,
     "end_time": "2022-03-09T22:28:18.118198",
     "exception": false,
     "start_time": "2022-03-09T22:28:14.749690",
     "status": "completed"
    },
    "tags": []
   },
   "outputs": [
    {
     "name": "stdout",
     "output_type": "stream",
     "text": [
      "\u001b[32m2022-03-09 16:28:17\u001b[0m \u001b[1;30mWARNING:\u001b[0m \u001b[33m--skip-existing-samples is enabled but no --project-dir is set. Will not skip existing samples.\u001b[0m\r\n"
     ]
    }
   ],
   "source": [
    "input_genomes_file = simulation_dir_path / 'input-assemblies.tsv'\n",
    "\n",
    "!gdi input --absolute {assemblies_dir}/*.fa.gz > {input_genomes_file}"
   ]
  },
  {
   "cell_type": "code",
   "execution_count": 10,
   "id": "0a1e62f3-3b0c-4a90-a7fe-f0bc1094e350",
   "metadata": {
    "execution": {
     "iopub.execute_input": "2022-03-09T22:28:18.167126Z",
     "iopub.status.busy": "2022-03-09T22:28:18.165136Z",
     "iopub.status.idle": "2022-03-09T22:38:07.515743Z",
     "shell.execute_reply": "2022-03-09T22:38:07.514801Z"
    },
    "papermill": {
     "duration": 589.372676,
     "end_time": "2022-03-09T22:38:07.516000",
     "exception": false,
     "start_time": "2022-03-09T22:28:18.143324",
     "status": "completed"
    },
    "tags": []
   },
   "outputs": [
    {
     "name": "stdout",
     "output_type": "stream",
     "text": [
      "\n",
      "Iteration 1 of index/analysis of 59 samples with 32 cores\n",
      "Removing any extra snakemake directories: ['snakemake-assemblies.1646864676.8061628']\n"
     ]
    },
    {
     "name": "stdout",
     "output_type": "stream",
     "text": [
      "Creating new index: [gdi init simulations/alpha-0.1-cov-30/index-assemblies]\n"
     ]
    },
    {
     "name": "stdout",
     "output_type": "stream",
     "text": [
      "Creating a new index took 3.44 seconds\n",
      "Analysis running: [gdi --project-dir simulations/alpha-0.1-cov-30/index-assemblies --ncores 32 analysis --use-conda --no-load-data --reference-file simulations/reference/reference.fa.gz --kmer-size 31 --kmer-size 51 --kmer-size 71 --include-kmer --reads-mincov 10 --input-structured-genomes-file simulations/alpha-0.1-cov-30/input-assemblies.tsv]\n"
     ]
    },
    {
     "name": "stdout",
     "output_type": "stream",
     "text": [
      "Analysis took 1.68 minutes\n",
      "Index running: [gdi --project-dir simulations/alpha-0.1-cov-30/index-assemblies --ncores 32 load vcf-kmer --sample-batch-size 2000 --reference-file simulations/reference/reference.fa.gz /home/CSCScience.ca/apetkau/workspace/genomics-data-index-evaluation/evaluations/simulation/snakemake-assemblies.1646864906.1156614/gdi-input.fofn]\n"
     ]
    },
    {
     "name": "stdout",
     "output_type": "stream",
     "text": [
      "Indexing took 0.11 minutes\n",
      "Building tree: [gdi --project-dir simulations/alpha-0.1-cov-30/index-assemblies --ncores 32 rebuild tree --align-type full --extra-params '--fast -m GTR+F+R4' reference]\n"
     ]
    },
    {
     "name": "stdout",
     "output_type": "stream",
     "text": [
      "Building tree took 1.40 minutes\n"
     ]
    },
    {
     "name": "stderr",
     "output_type": "stream",
     "text": [
      "Attempting to set global database_path_translator=<genomics_data_index.storage.model.db.DatabasePathTranslator.DatabasePathTranslator object at 0x7fc68d6becd0> but it is already set\n"
     ]
    },
    {
     "name": "stderr",
     "output_type": "stream",
     "text": [
      "A reminder to myself to look for a Python solution for directory sizes (instead of running `du`)\n"
     ]
    },
    {
     "name": "stdout",
     "output_type": "stream",
     "text": [
      "\n",
      "Iteration 2 of index/analysis of 59 samples with 32 cores\n",
      "Removing any extra snakemake directories: ['snakemake-assemblies.1646864906.1156614']\n"
     ]
    },
    {
     "name": "stdout",
     "output_type": "stream",
     "text": [
      "Removing any existing indexes simulations/alpha-0.1-cov-30/index-assemblies\n",
      "Creating new index: [gdi init simulations/alpha-0.1-cov-30/index-assemblies]\n"
     ]
    },
    {
     "name": "stdout",
     "output_type": "stream",
     "text": [
      "Creating a new index took 3.07 seconds\n",
      "Analysis running: [gdi --project-dir simulations/alpha-0.1-cov-30/index-assemblies --ncores 32 analysis --use-conda --no-load-data --reference-file simulations/reference/reference.fa.gz --kmer-size 31 --kmer-size 51 --kmer-size 71 --include-kmer --reads-mincov 10 --input-structured-genomes-file simulations/alpha-0.1-cov-30/input-assemblies.tsv]\n"
     ]
    },
    {
     "name": "stdout",
     "output_type": "stream",
     "text": [
      "Analysis took 1.69 minutes\n",
      "Index running: [gdi --project-dir simulations/alpha-0.1-cov-30/index-assemblies --ncores 32 load vcf-kmer --sample-batch-size 2000 --reference-file simulations/reference/reference.fa.gz /home/CSCScience.ca/apetkau/workspace/genomics-data-index-evaluation/evaluations/simulation/snakemake-assemblies.1646865103.0662344/gdi-input.fofn]\n"
     ]
    },
    {
     "name": "stdout",
     "output_type": "stream",
     "text": [
      "Indexing took 0.12 minutes\n",
      "Building tree: [gdi --project-dir simulations/alpha-0.1-cov-30/index-assemblies --ncores 32 rebuild tree --align-type full --extra-params '--fast -m GTR+F+R4' reference]\n"
     ]
    },
    {
     "name": "stdout",
     "output_type": "stream",
     "text": [
      "Building tree took 1.56 minutes\n"
     ]
    },
    {
     "name": "stderr",
     "output_type": "stream",
     "text": [
      "Attempting to set global database_path_translator=<genomics_data_index.storage.model.db.DatabasePathTranslator.DatabasePathTranslator object at 0x7fc6cc033730> but it is already set\n"
     ]
    },
    {
     "name": "stderr",
     "output_type": "stream",
     "text": [
      "A reminder to myself to look for a Python solution for directory sizes (instead of running `du`)\n"
     ]
    },
    {
     "name": "stdout",
     "output_type": "stream",
     "text": [
      "\n",
      "Iteration 3 of index/analysis of 59 samples with 32 cores\n",
      "Removing any extra snakemake directories: ['snakemake-assemblies.1646865103.0662344']\n"
     ]
    },
    {
     "name": "stdout",
     "output_type": "stream",
     "text": [
      "Removing any existing indexes simulations/alpha-0.1-cov-30/index-assemblies\n",
      "Creating new index: [gdi init simulations/alpha-0.1-cov-30/index-assemblies]\n"
     ]
    },
    {
     "name": "stdout",
     "output_type": "stream",
     "text": [
      "Creating a new index took 3.10 seconds\n",
      "Analysis running: [gdi --project-dir simulations/alpha-0.1-cov-30/index-assemblies --ncores 32 analysis --use-conda --no-load-data --reference-file simulations/reference/reference.fa.gz --kmer-size 31 --kmer-size 51 --kmer-size 71 --include-kmer --reads-mincov 10 --input-structured-genomes-file simulations/alpha-0.1-cov-30/input-assemblies.tsv]\n"
     ]
    },
    {
     "name": "stdout",
     "output_type": "stream",
     "text": [
      "Analysis took 1.68 minutes\n",
      "Index running: [gdi --project-dir simulations/alpha-0.1-cov-30/index-assemblies --ncores 32 load vcf-kmer --sample-batch-size 2000 --reference-file simulations/reference/reference.fa.gz /home/CSCScience.ca/apetkau/workspace/genomics-data-index-evaluation/evaluations/simulation/snakemake-assemblies.1646865309.8555653/gdi-input.fofn]\n"
     ]
    },
    {
     "name": "stdout",
     "output_type": "stream",
     "text": [
      "Indexing took 0.11 minutes\n",
      "Building tree: [gdi --project-dir simulations/alpha-0.1-cov-30/index-assemblies --ncores 32 rebuild tree --align-type full --extra-params '--fast -m GTR+F+R4' reference]\n"
     ]
    },
    {
     "name": "stdout",
     "output_type": "stream",
     "text": [
      "Building tree took 1.22 minutes\n"
     ]
    },
    {
     "name": "stderr",
     "output_type": "stream",
     "text": [
      "Attempting to set global database_path_translator=<genomics_data_index.storage.model.db.DatabasePathTranslator.DatabasePathTranslator object at 0x7fc68d61d1f0> but it is already set\n"
     ]
    },
    {
     "name": "stderr",
     "output_type": "stream",
     "text": [
      "A reminder to myself to look for a Python solution for directory sizes (instead of running `du`)\n"
     ]
    }
   ],
   "source": [
    "results_handler = gdi_benchmark.BenchmarkResultsHandler(name=f'{case_name} assemblies')\n",
    "benchmarker = gdi_benchmark.IndexBenchmarker(benchmark_results_handler=results_handler,\n",
    "                                             index_path=index_assemblies_path, input_files_file=input_genomes_file,\n",
    "                                             reference_file=reference_file, mincov=mincov, build_tree=True,\n",
    "                                             ncores=ncores)\n",
    "\n",
    "benchmark_df = benchmarker.benchmark(iterations=iterations)"
   ]
  },
  {
   "cell_type": "code",
   "execution_count": 11,
   "id": "a6d55a9d-be2f-4851-b66c-04b5ebd597a1",
   "metadata": {
    "execution": {
     "iopub.execute_input": "2022-03-09T22:38:07.594130Z",
     "iopub.status.busy": "2022-03-09T22:38:07.593024Z",
     "iopub.status.idle": "2022-03-09T22:38:07.598447Z",
     "shell.execute_reply": "2022-03-09T22:38:07.597554Z"
    },
    "papermill": {
     "duration": 0.052793,
     "end_time": "2022-03-09T22:38:07.598678",
     "exception": false,
     "start_time": "2022-03-09T22:38:07.545885",
     "status": "completed"
    },
    "tags": []
   },
   "outputs": [
    {
     "data": {
      "text/html": [
       "<div>\n",
       "<style scoped>\n",
       "    .dataframe tbody tr th:only-of-type {\n",
       "        vertical-align: middle;\n",
       "    }\n",
       "\n",
       "    .dataframe tbody tr th {\n",
       "        vertical-align: top;\n",
       "    }\n",
       "\n",
       "    .dataframe thead th {\n",
       "        text-align: right;\n",
       "    }\n",
       "</style>\n",
       "<table border=\"1\" class=\"dataframe\">\n",
       "  <thead>\n",
       "    <tr style=\"text-align: right;\">\n",
       "      <th></th>\n",
       "      <th>Name</th>\n",
       "      <th>Reference name</th>\n",
       "      <th>Iteration</th>\n",
       "      <th>Number samples</th>\n",
       "      <th>Number features (all)</th>\n",
       "      <th>Number features (no unknown)</th>\n",
       "      <th>Number cores</th>\n",
       "      <th>Reference length</th>\n",
       "      <th>Analysis runtime</th>\n",
       "      <th>Analysis memory (max)</th>\n",
       "      <th>...</th>\n",
       "      <th>Analysis disk uage</th>\n",
       "      <th>Index runtime</th>\n",
       "      <th>Index memory (max)</th>\n",
       "      <th>Index memory (max/process)</th>\n",
       "      <th>Index size</th>\n",
       "      <th>Tree runtime</th>\n",
       "      <th>Tree memory (max)</th>\n",
       "      <th>Tree memory (max/process)</th>\n",
       "      <th>Total runtime</th>\n",
       "      <th>Max memory</th>\n",
       "    </tr>\n",
       "  </thead>\n",
       "  <tbody>\n",
       "    <tr>\n",
       "      <th>0</th>\n",
       "      <td>alpha-0.1-cov-30 assemblies</td>\n",
       "      <td>reference</td>\n",
       "      <td>1</td>\n",
       "      <td>59</td>\n",
       "      <td>1086</td>\n",
       "      <td>1027</td>\n",
       "      <td>32</td>\n",
       "      <td>19699</td>\n",
       "      <td>100.97</td>\n",
       "      <td>1.219420e+09</td>\n",
       "      <td>...</td>\n",
       "      <td>2.203062e+09</td>\n",
       "      <td>6.58</td>\n",
       "      <td>5.922386e+09</td>\n",
       "      <td>250966016.0</td>\n",
       "      <td>1335296.0</td>\n",
       "      <td>84.04</td>\n",
       "      <td>253333504.0</td>\n",
       "      <td>234295296.0</td>\n",
       "      <td>191.59</td>\n",
       "      <td>5.922386e+09</td>\n",
       "    </tr>\n",
       "    <tr>\n",
       "      <th>0</th>\n",
       "      <td>alpha-0.1-cov-30 assemblies</td>\n",
       "      <td>reference</td>\n",
       "      <td>2</td>\n",
       "      <td>59</td>\n",
       "      <td>1086</td>\n",
       "      <td>1027</td>\n",
       "      <td>32</td>\n",
       "      <td>19699</td>\n",
       "      <td>101.27</td>\n",
       "      <td>1.243857e+09</td>\n",
       "      <td>...</td>\n",
       "      <td>2.203054e+09</td>\n",
       "      <td>6.90</td>\n",
       "      <td>5.919924e+09</td>\n",
       "      <td>250109952.0</td>\n",
       "      <td>1339392.0</td>\n",
       "      <td>93.71</td>\n",
       "      <td>253972480.0</td>\n",
       "      <td>234721280.0</td>\n",
       "      <td>201.88</td>\n",
       "      <td>5.919924e+09</td>\n",
       "    </tr>\n",
       "    <tr>\n",
       "      <th>0</th>\n",
       "      <td>alpha-0.1-cov-30 assemblies</td>\n",
       "      <td>reference</td>\n",
       "      <td>3</td>\n",
       "      <td>59</td>\n",
       "      <td>1086</td>\n",
       "      <td>1027</td>\n",
       "      <td>32</td>\n",
       "      <td>19699</td>\n",
       "      <td>100.48</td>\n",
       "      <td>1.201627e+09</td>\n",
       "      <td>...</td>\n",
       "      <td>2.203058e+09</td>\n",
       "      <td>6.55</td>\n",
       "      <td>5.919896e+09</td>\n",
       "      <td>250966016.0</td>\n",
       "      <td>1331200.0</td>\n",
       "      <td>72.94</td>\n",
       "      <td>253919232.0</td>\n",
       "      <td>234774528.0</td>\n",
       "      <td>179.97</td>\n",
       "      <td>5.919896e+09</td>\n",
       "    </tr>\n",
       "  </tbody>\n",
       "</table>\n",
       "<p>3 rows × 21 columns</p>\n",
       "</div>"
      ],
      "text/plain": [
       "                          Name Reference name  Iteration  Number samples  \\\n",
       "0  alpha-0.1-cov-30 assemblies      reference          1              59   \n",
       "0  alpha-0.1-cov-30 assemblies      reference          2              59   \n",
       "0  alpha-0.1-cov-30 assemblies      reference          3              59   \n",
       "\n",
       "   Number features (all)  Number features (no unknown)  Number cores  \\\n",
       "0                   1086                          1027            32   \n",
       "0                   1086                          1027            32   \n",
       "0                   1086                          1027            32   \n",
       "\n",
       "   Reference length  Analysis runtime  Analysis memory (max)  ...  \\\n",
       "0             19699            100.97           1.219420e+09  ...   \n",
       "0             19699            101.27           1.243857e+09  ...   \n",
       "0             19699            100.48           1.201627e+09  ...   \n",
       "\n",
       "   Analysis disk uage  Index runtime  Index memory (max)  \\\n",
       "0        2.203062e+09           6.58        5.922386e+09   \n",
       "0        2.203054e+09           6.90        5.919924e+09   \n",
       "0        2.203058e+09           6.55        5.919896e+09   \n",
       "\n",
       "   Index memory (max/process)  Index size  Tree runtime  Tree memory (max)  \\\n",
       "0                 250966016.0   1335296.0         84.04        253333504.0   \n",
       "0                 250109952.0   1339392.0         93.71        253972480.0   \n",
       "0                 250966016.0   1331200.0         72.94        253919232.0   \n",
       "\n",
       "   Tree memory (max/process)  Total runtime    Max memory  \n",
       "0                234295296.0         191.59  5.922386e+09  \n",
       "0                234721280.0         201.88  5.919924e+09  \n",
       "0                234774528.0         179.97  5.919896e+09  \n",
       "\n",
       "[3 rows x 21 columns]"
      ]
     },
     "execution_count": 11,
     "metadata": {},
     "output_type": "execute_result"
    }
   ],
   "source": [
    "benchmark_df"
   ]
  },
  {
   "cell_type": "code",
   "execution_count": 12,
   "id": "e1a6d962-50bc-4c8d-a6f2-3a661da706b4",
   "metadata": {
    "execution": {
     "iopub.execute_input": "2022-03-09T22:38:07.650048Z",
     "iopub.status.busy": "2022-03-09T22:38:07.649684Z",
     "iopub.status.idle": "2022-03-09T22:38:07.652601Z",
     "shell.execute_reply": "2022-03-09T22:38:07.652896Z"
    },
    "papermill": {
     "duration": 0.0276,
     "end_time": "2022-03-09T22:38:07.652994",
     "exception": false,
     "start_time": "2022-03-09T22:38:07.625394",
     "status": "completed"
    },
    "tags": []
   },
   "outputs": [],
   "source": [
    "index_assemblies_runtime = simulation_dir_path / 'assemblies-index-info.tsv'\n",
    "benchmark_df.to_csv(index_assemblies_runtime, sep='\\t', index=False)"
   ]
  },
  {
   "cell_type": "markdown",
   "id": "6cb7673b-9f85-4c43-b2e2-93538497a196",
   "metadata": {
    "papermill": {
     "duration": 0.016262,
     "end_time": "2022-03-09T22:38:07.689340",
     "exception": false,
     "start_time": "2022-03-09T22:38:07.673078",
     "status": "completed"
    },
    "tags": []
   },
   "source": [
    "# 3. Export trees"
   ]
  },
  {
   "cell_type": "code",
   "execution_count": 13,
   "id": "5280f82c-5434-4391-8c44-b937a7c95bd5",
   "metadata": {
    "execution": {
     "iopub.execute_input": "2022-03-09T22:38:07.730221Z",
     "iopub.status.busy": "2022-03-09T22:38:07.729837Z",
     "iopub.status.idle": "2022-03-09T22:38:14.485683Z",
     "shell.execute_reply": "2022-03-09T22:38:14.486556Z"
    },
    "papermill": {
     "duration": 6.781556,
     "end_time": "2022-03-09T22:38:14.486897",
     "exception": false,
     "start_time": "2022-03-09T22:38:07.705341",
     "status": "completed"
    },
    "tags": []
   },
   "outputs": [
    {
     "name": "stdout",
     "output_type": "stream",
     "text": [
      "Wrote assemblies tree to simulations/alpha-0.1-cov-30/index-assemblies/assemblies.tre\n"
     ]
    },
    {
     "name": "stdout",
     "output_type": "stream",
     "text": [
      "Wrote assemblies tree to simulations/alpha-0.1-cov-30/index-reads/reads.tre\n"
     ]
    }
   ],
   "source": [
    "!gdi --project-dir {index_assemblies_path} export tree {reference_name} > {output_assemblies_tree}\n",
    "print(f'Wrote assemblies tree to {output_assemblies_tree}')\n",
    "\n",
    "!gdi --project-dir {index_reads_path} export tree {reference_name} > {output_reads_tree}\n",
    "print(f'Wrote assemblies tree to {output_reads_tree}')"
   ]
  }
 ],
 "metadata": {
  "kernelspec": {
   "display_name": "Python 3 (ipykernel)",
   "language": "python",
   "name": "python3"
  },
  "language_info": {
   "codemirror_mode": {
    "name": "ipython",
    "version": 3
   },
   "file_extension": ".py",
   "mimetype": "text/x-python",
   "name": "python",
   "nbconvert_exporter": "python",
   "pygments_lexer": "ipython3",
   "version": "3.8.12"
  },
  "papermill": {
   "default_parameters": {},
   "duration": 1276.091928,
   "end_time": "2022-03-09T22:38:15.245919",
   "environment_variables": {},
   "exception": null,
   "input_path": "template-3-index-genomes.ipynb",
   "output_path": "3-index-genomes.simulation-alpha-0.1.ipynb",
   "parameters": {
    "iterations": 3,
    "mincov": 10,
    "read_coverage": 30,
    "simulation_dir": "simulations/alpha-0.1-cov-30",
    "sub_alpha": 0.1
   },
   "start_time": "2022-03-09T22:16:59.153991",
   "version": "2.3.4"
  }
 },
 "nbformat": 4,
 "nbformat_minor": 5
}