{
 "cells": [
  {
   "cell_type": "markdown",
   "id": "39afc998-7d9f-4d4e-9147-fb6198f83f2d",
   "metadata": {
    "papermill": {
     "duration": 0.019806,
     "end_time": "2021-09-01T00:06:08.572849",
     "exception": false,
     "start_time": "2021-09-01T00:06:08.553043",
     "status": "completed"
    },
    "tags": []
   },
   "source": [
    "# 1. Parameters"
   ]
  },
  {
   "cell_type": "code",
   "execution_count": 1,
   "id": "8eee723b-55a2-4355-b867-c5e682a9f800",
   "metadata": {
    "execution": {
     "iopub.execute_input": "2021-09-01T00:06:08.722168Z",
     "iopub.status.busy": "2021-09-01T00:06:08.720221Z",
     "iopub.status.idle": "2021-09-01T00:06:08.767743Z",
     "shell.execute_reply": "2021-09-01T00:06:08.766077Z"
    },
    "papermill": {
     "duration": 0.185698,
     "end_time": "2021-09-01T00:06:08.768027",
     "exception": false,
     "start_time": "2021-09-01T00:06:08.582329",
     "status": "completed"
    },
    "tags": [
     "parameters"
    ]
   },
   "outputs": [],
   "source": [
    "# Defaults\n",
    "\n",
    "## Directories\n",
    "simulation_dir <- \"simulations/unset\"\n",
    "reference_file <- \"input/S_HeidelbergSL476.fasta.gz\"\n",
    "initial_tree_file <- \"input/salmonella.tre\"\n",
    "reference_name <- \"NC_011083\"\n",
    "\n",
    "## Simulation parameters\n",
    "sub_lambda <- 1e-2\n",
    "sub_mu <- 1\n",
    "sub_invariant <- 0.9\n",
    "ins_rate <- 1e-4\n",
    "ins_max_length <- 60\n",
    "ins_a <- 1.6\n",
    "del_rate <- 1e-4\n",
    "del_max_length <- 60\n",
    "del_a <- 1.6\n",
    "\n",
    "## Read simulation information\n",
    "read_coverage <- 5\n",
    "read_length <- 250\n",
    "\n",
    "## Other\n",
    "ncores <- 48"
   ]
  },
  {
   "cell_type": "code",
   "execution_count": 2,
   "id": "04f737f9",
   "metadata": {
    "execution": {
     "iopub.execute_input": "2021-09-01T00:06:08.837119Z",
     "iopub.status.busy": "2021-09-01T00:06:08.797730Z",
     "iopub.status.idle": "2021-09-01T00:06:08.851022Z",
     "shell.execute_reply": "2021-09-01T00:06:08.849853Z"
    },
    "papermill": {
     "duration": 0.067209,
     "end_time": "2021-09-01T00:06:08.851273",
     "exception": false,
     "start_time": "2021-09-01T00:06:08.784064",
     "status": "completed"
    },
    "tags": [
     "injected-parameters"
    ]
   },
   "outputs": [],
   "source": [
    "# Parameters\n",
    "read_coverage = 50\n",
    "mincov = 10\n",
    "simulation_dir = \"simulations/cov-50\"\n",
    "iterations = 3\n"
   ]
  },
  {
   "cell_type": "code",
   "execution_count": 3,
   "id": "845350c4-9369-4350-bcce-504d05f5ff55",
   "metadata": {
    "execution": {
     "iopub.execute_input": "2021-09-01T00:06:08.882431Z",
     "iopub.status.busy": "2021-09-01T00:06:08.879455Z",
     "iopub.status.idle": "2021-09-01T00:06:08.911982Z",
     "shell.execute_reply": "2021-09-01T00:06:08.906759Z"
    },
    "papermill": {
     "duration": 0.046285,
     "end_time": "2021-09-01T00:06:08.912235",
     "exception": false,
     "start_time": "2021-09-01T00:06:08.865950",
     "status": "completed"
    },
    "tags": []
   },
   "outputs": [
    {
     "name": "stdout",
     "output_type": "stream",
     "text": [
      "[1] \"simulations/cov-50/simulated_data\"\n"
     ]
    },
    {
     "name": "stdout",
     "output_type": "stream",
     "text": [
      "[1] \"simulations/cov-50/simulated_data/haplotypes\"\n"
     ]
    }
   ],
   "source": [
    "output_dir <- file.path(simulation_dir, \"simulated_data\")\n",
    "output_vcf_prefix <- file.path(output_dir, \"haplotypes\")\n",
    "reads_data_initial_prefix <- file.path(output_dir, \"reads_initial\", \"data\")\n",
    "print(output_dir)\n",
    "print(output_vcf_prefix)"
   ]
  },
  {
   "cell_type": "markdown",
   "id": "noticed-coating",
   "metadata": {
    "papermill": {
     "duration": 0.009898,
     "end_time": "2021-09-01T00:06:08.940141",
     "exception": false,
     "start_time": "2021-09-01T00:06:08.930243",
     "status": "completed"
    },
    "tags": []
   },
   "source": [
    "# 2. Generate simulated data\n",
    "\n",
    "This simulates *Salmonella* data using a reference genome and a tree."
   ]
  },
  {
   "cell_type": "code",
   "execution_count": 4,
   "id": "bright-polymer",
   "metadata": {
    "execution": {
     "iopub.execute_input": "2021-09-01T00:06:08.962141Z",
     "iopub.status.busy": "2021-09-01T00:06:08.959199Z",
     "iopub.status.idle": "2021-09-01T00:06:09.058363Z",
     "shell.execute_reply": "2021-09-01T00:06:09.059245Z"
    },
    "papermill": {
     "duration": 0.112658,
     "end_time": "2021-09-01T00:06:09.059567",
     "exception": false,
     "start_time": "2021-09-01T00:06:08.946909",
     "status": "completed"
    },
    "tags": []
   },
   "outputs": [
    {
     "data": {
      "text/html": [
       "TRUE"
      ],
      "text/latex": [
       "TRUE"
      ],
      "text/markdown": [
       "TRUE"
      ],
      "text/plain": [
       "[1] TRUE"
      ]
     },
     "metadata": {},
     "output_type": "display_data"
    }
   ],
   "source": [
    "library(jackalope)\n",
    "\n",
    "# Make sure we've complied with openmp\n",
    "jackalope:::using_openmp()"
   ]
  },
  {
   "cell_type": "code",
   "execution_count": 5,
   "id": "chronic-region",
   "metadata": {
    "execution": {
     "iopub.execute_input": "2021-09-01T00:06:09.093260Z",
     "iopub.status.busy": "2021-09-01T00:06:09.091030Z",
     "iopub.status.idle": "2021-09-01T00:06:09.183041Z",
     "shell.execute_reply": "2021-09-01T00:06:09.175737Z"
    },
    "papermill": {
     "duration": 0.105965,
     "end_time": "2021-09-01T00:06:09.183286",
     "exception": false,
     "start_time": "2021-09-01T00:06:09.077321",
     "status": "completed"
    },
    "tags": []
   },
   "outputs": [
    {
     "data": {
      "text/plain": [
       "< Set of 1 chromosomes >\n",
       "# Total size: 4,888,768 bp\n",
       "  name                             chromosome                             length\n",
       "NC_011083  AGAGATTACGTCTGGTTGCAAGAGATCA...ATAACGTGCTGTAATTTTTAAAATAATA   4888768"
      ]
     },
     "metadata": {},
     "output_type": "display_data"
    }
   ],
   "source": [
    "reference <- read_fasta(reference_file)\n",
    "reference$set_names(c(reference_name))\n",
    "reference_len <- 4888768 # I don't know how to programatically get this in R\n",
    "reference"
   ]
  },
  {
   "cell_type": "code",
   "execution_count": 6,
   "id": "documented-helmet",
   "metadata": {
    "execution": {
     "iopub.execute_input": "2021-09-01T00:06:09.218416Z",
     "iopub.status.busy": "2021-09-01T00:06:09.215976Z",
     "iopub.status.idle": "2021-09-01T00:06:09.324191Z",
     "shell.execute_reply": "2021-09-01T00:06:09.322956Z"
    },
    "papermill": {
     "duration": 0.123822,
     "end_time": "2021-09-01T00:06:09.324443",
     "exception": false,
     "start_time": "2021-09-01T00:06:09.200621",
     "status": "completed"
    },
    "tags": []
   },
   "outputs": [
    {
     "data": {
      "text/plain": [
       "\n",
       "Phylogenetic tree with 60 tips and 59 internal nodes.\n",
       "\n",
       "Tip labels:\n",
       "  reference, SH12-013, SH12-014, SH10-015, SH10-014, SH11-002, ...\n",
       "Node labels:\n",
       "  Root, 1.000000, 0.000000, 0.000000, 1.000000, 0.000000, ...\n",
       "\n",
       "Rooted; includes branch lengths."
      ]
     },
     "metadata": {},
     "output_type": "display_data"
    }
   ],
   "source": [
    "library(ape)\n",
    "\n",
    "tree <- read.tree(initial_tree_file)\n",
    "tree <- root(tree, \"reference\", resolve.root=TRUE)\n",
    "tree"
   ]
  },
  {
   "cell_type": "code",
   "execution_count": 7,
   "id": "proved-silver",
   "metadata": {
    "execution": {
     "iopub.execute_input": "2021-09-01T00:06:09.361045Z",
     "iopub.status.busy": "2021-09-01T00:06:09.358255Z",
     "iopub.status.idle": "2021-09-01T00:06:16.299839Z",
     "shell.execute_reply": "2021-09-01T00:06:16.298463Z"
    },
    "papermill": {
     "duration": 6.957445,
     "end_time": "2021-09-01T00:06:16.300110",
     "exception": false,
     "start_time": "2021-09-01T00:06:09.342665",
     "status": "completed"
    },
    "tags": []
   },
   "outputs": [
    {
     "data": {
      "text/plain": [
       "                              << haplotypes object >>\n",
       "# Haplotypes: 60\n",
       "# Mutations: 225,169\n",
       "\n",
       "                          << Reference genome info: >>\n",
       "< Set of 1 chromosomes >\n",
       "# Total size: 4,888,768 bp\n",
       "  name                             chromosome                             length\n",
       "NC_011083  AGAGATTACGTCTGGTTGCAAGAGATCA...ATAACGTGCTGTAATTTTTAAAATAATA   4888768"
      ]
     },
     "metadata": {},
     "output_type": "display_data"
    }
   ],
   "source": [
    "sub <- sub_JC69(lambda = sub_lambda, mu = sub_mu, invariant = sub_invariant)\n",
    "ins <- indels(rate = ins_rate, max_length = ins_max_length, a = ins_a)\n",
    "del <- indels(rate = del_rate, max_length = del_max_length, a = del_a)\n",
    "\n",
    "ref_haplotypes <- create_haplotypes(reference, haps_phylo(tree), sub=sub, ins=ins, del=del)\n",
    "ref_haplotypes"
   ]
  },
  {
   "cell_type": "markdown",
   "id": "535fa02d-c76c-4067-9582-74f3694d16ea",
   "metadata": {
    "papermill": {
     "duration": 0.010831,
     "end_time": "2021-09-01T00:06:16.331198",
     "exception": false,
     "start_time": "2021-09-01T00:06:16.320367",
     "status": "completed"
    },
    "tags": []
   },
   "source": [
    "# 3. Write simulated data"
   ]
  },
  {
   "cell_type": "code",
   "execution_count": 8,
   "id": "smoking-geology",
   "metadata": {
    "execution": {
     "iopub.execute_input": "2021-09-01T00:06:16.356864Z",
     "iopub.status.busy": "2021-09-01T00:06:16.352798Z",
     "iopub.status.idle": "2021-09-01T00:06:16.737263Z",
     "shell.execute_reply": "2021-09-01T00:06:16.735923Z"
    },
    "papermill": {
     "duration": 0.398207,
     "end_time": "2021-09-01T00:06:16.737493",
     "exception": false,
     "start_time": "2021-09-01T00:06:16.339286",
     "status": "completed"
    },
    "tags": []
   },
   "outputs": [],
   "source": [
    "write_vcf(ref_haplotypes, out_prefix=output_vcf_prefix, compress=TRUE)"
   ]
  },
  {
   "cell_type": "code",
   "execution_count": 9,
   "id": "d2657fc5-481e-4b24-bbf8-78c02ee735ce",
   "metadata": {
    "execution": {
     "iopub.execute_input": "2021-09-01T00:06:16.776746Z",
     "iopub.status.busy": "2021-09-01T00:06:16.774000Z",
     "iopub.status.idle": "2021-09-01T00:06:20.079880Z",
     "shell.execute_reply": "2021-09-01T00:06:20.077421Z"
    },
    "papermill": {
     "duration": 3.322542,
     "end_time": "2021-09-01T00:06:20.080089",
     "exception": false,
     "start_time": "2021-09-01T00:06:16.757547",
     "status": "completed"
    },
    "tags": []
   },
   "outputs": [],
   "source": [
    "assemblies_prefix = file.path(output_dir, \"assemblies\", \"data\")\n",
    "\n",
    "write_fasta(ref_haplotypes, out_prefix=assemblies_prefix,\n",
    "            compress=TRUE, n_threads=ncores, overwrite=TRUE)"
   ]
  },
  {
   "cell_type": "code",
   "execution_count": 10,
   "id": "continent-freeze",
   "metadata": {
    "execution": {
     "iopub.execute_input": "2021-09-01T00:06:20.108263Z",
     "iopub.status.busy": "2021-09-01T00:06:20.106198Z",
     "iopub.status.idle": "2021-09-01T00:15:26.384407Z",
     "shell.execute_reply": "2021-09-01T00:15:26.382495Z"
    },
    "papermill": {
     "duration": 546.290784,
     "end_time": "2021-09-01T00:15:26.384901",
     "exception": false,
     "start_time": "2021-09-01T00:06:20.094117",
     "status": "completed"
    },
    "tags": []
   },
   "outputs": [
    {
     "name": "stdout",
     "output_type": "stream",
     "text": [
      "[1] \"Number of reads for coverage 50X and read length 250 over 60 samples with respect to reference with length 4888768: 58665216\"\n"
     ]
    }
   ],
   "source": [
    "n_samples <- length(tree$tip)\n",
    "n_reads <- round((reference$sizes() * read_coverage * n_samples) / read_length)\n",
    "print(sprintf(\"Number of reads for coverage %sX and read length %s over %s samples with respect to reference with length %s: %s\", \n",
    "              read_coverage, read_length, n_samples, reference_len, n_reads))\n",
    "\n",
    "illumina(ref_haplotypes, out_prefix = reads_data_initial_prefix, sep_files=TRUE, n_reads = n_reads,\n",
    "         frag_mean = read_length * 2 + 50, frag_sd = 100,\n",
    "         compress=TRUE, comp_method=\"bgzip\", n_threads=ncores,\n",
    "         paired=TRUE, read_length = read_length)"
   ]
  },
  {
   "cell_type": "code",
   "execution_count": 11,
   "id": "israeli-unknown",
   "metadata": {
    "execution": {
     "iopub.execute_input": "2021-09-01T00:15:26.433757Z",
     "iopub.status.busy": "2021-09-01T00:15:26.433007Z",
     "iopub.status.idle": "2021-09-01T00:15:26.477334Z",
     "shell.execute_reply": "2021-09-01T00:15:26.476175Z"
    },
    "papermill": {
     "duration": 0.073797,
     "end_time": "2021-09-01T00:15:26.477568",
     "exception": false,
     "start_time": "2021-09-01T00:15:26.403771",
     "status": "completed"
    },
    "tags": []
   },
   "outputs": [
    {
     "name": "stdout",
     "output_type": "stream",
     "text": [
      "[1] \"Removing: simulations/cov-50/simulated_data/reads_initial/data_reference_R1.fq.gz\"\n"
     ]
    },
    {
     "name": "stdout",
     "output_type": "stream",
     "text": [
      "[1] \"Removing: simulations/cov-50/simulated_data/reads_initial/data_reference_R2.fq.gz\"\n"
     ]
    }
   ],
   "source": [
    "# Remove the simulated reads for the reference genome since I don't want these in the tree\n",
    "ref1 <- paste(toString(reads_data_initial_prefix), \"_reference_R1.fq.gz\", sep=\"\")\n",
    "ref2 <- paste(toString(reads_data_initial_prefix), \"_reference_R2.fq.gz\", sep=\"\")\n",
    "if (file.exists(ref1)) {\n",
    "    file.remove(ref1)\n",
    "    print(sprintf(\"Removing: %s\", ref1))\n",
    "}\n",
    "if (file.exists(ref2)) {\n",
    "    file.remove(ref2)\n",
    "    print(sprintf(\"Removing: %s\", ref2))\n",
    "}"
   ]
  },
  {
   "cell_type": "code",
   "execution_count": 12,
   "id": "likely-elite",
   "metadata": {
    "execution": {
     "iopub.execute_input": "2021-09-01T00:15:26.519179Z",
     "iopub.status.busy": "2021-09-01T00:15:26.516181Z",
     "iopub.status.idle": "2021-09-01T00:15:26.539975Z",
     "shell.execute_reply": "2021-09-01T00:15:26.539008Z"
    },
    "papermill": {
     "duration": 0.041283,
     "end_time": "2021-09-01T00:15:26.540105",
     "exception": false,
     "start_time": "2021-09-01T00:15:26.498822",
     "status": "completed"
    },
    "tags": []
   },
   "outputs": [
    {
     "name": "stdout",
     "output_type": "stream",
     "text": [
      "[1] \"Removing: simulations/cov-50/simulated_data/assemblies/data__reference.fa.gz\"\n"
     ]
    }
   ],
   "source": [
    "# Remove the new reference assembly genome since I don't need it\n",
    "ref1 <- paste(toString(assemblies_prefix), \"__reference.fa.gz\", sep=\"\")\n",
    "if (file.exists(ref1)) {\n",
    "    file.remove(ref1)\n",
    "    print(sprintf(\"Removing: %s\", ref1))\n",
    "}"
   ]
  },
  {
   "cell_type": "code",
   "execution_count": null,
   "id": "6ab27399-288a-4067-a812-d946410658a5",
   "metadata": {
    "papermill": {
     "duration": 0.010381,
     "end_time": "2021-09-01T00:15:26.567782",
     "exception": false,
     "start_time": "2021-09-01T00:15:26.557401",
     "status": "completed"
    },
    "tags": []
   },
   "outputs": [],
   "source": []
  }
 ],
 "metadata": {
  "kernelspec": {
   "display_name": "R",
   "language": "R",
   "name": "ir"
  },
  "language_info": {
   "codemirror_mode": "r",
   "file_extension": ".r",
   "mimetype": "text/x-r-source",
   "name": "R",
   "pygments_lexer": "r",
   "version": "4.1.1"
  },
  "papermill": {
   "default_parameters": {},
   "duration": 559.5076,
   "end_time": "2021-09-01T00:15:26.994328",
   "environment_variables": {},
   "exception": null,
   "input_path": "template-1-simulate-reads.ipynb",
   "output_path": "1-simulate-reads.simulation-cov-50.ipynb",
   "parameters": {
    "iterations": 3,
    "mincov": 10,
    "read_coverage": 50,
    "simulation_dir": "simulations/cov-50"
   },
   "start_time": "2021-09-01T00:06:07.486728",
   "version": "2.3.3"
  }
 },
 "nbformat": 4,
 "nbformat_minor": 5
}