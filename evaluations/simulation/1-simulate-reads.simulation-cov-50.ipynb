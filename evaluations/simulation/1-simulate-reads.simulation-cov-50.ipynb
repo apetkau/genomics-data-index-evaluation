{
 "cells": [
  {
   "cell_type": "markdown",
   "id": "39afc998-7d9f-4d4e-9147-fb6198f83f2d",
   "metadata": {
    "papermill": {
     "duration": 0.019037,
     "end_time": "2021-09-02T03:09:38.601723",
     "exception": false,
     "start_time": "2021-09-02T03:09:38.582686",
     "status": "completed"
    },
    "tags": []
   },
   "source": [
    "# 1. Parameters"
   ]
  },
  {
   "cell_type": "code",
   "execution_count": 1,
   "id": "8eee723b-55a2-4355-b867-c5e682a9f800",
   "metadata": {
    "execution": {
     "iopub.execute_input": "2021-09-02T03:09:38.732685Z",
     "iopub.status.busy": "2021-09-02T03:09:38.730941Z",
     "iopub.status.idle": "2021-09-02T03:09:38.780607Z",
     "shell.execute_reply": "2021-09-02T03:09:38.779223Z"
    },
    "papermill": {
     "duration": 0.168584,
     "end_time": "2021-09-02T03:09:38.780883",
     "exception": false,
     "start_time": "2021-09-02T03:09:38.612299",
     "status": "completed"
    },
    "tags": [
     "parameters"
    ]
   },
   "outputs": [],
   "source": [
    "# Defaults\n",
    "\n",
    "## Random seed\n",
    "random_seed <- 25524\n",
    "\n",
    "## Directories\n",
    "simulation_dir <- \"simulations/unset\"\n",
    "reference_file <- \"simulations/reference/reference.fa.gz\"\n",
    "initial_tree_file <- \"input/salmonella.tre\"\n",
    "\n",
    "## Simulation parameters\n",
    "sub_lambda <- 1e-2\n",
    "sub_pi_tcag <- c(0.1, 0.2, 0.3, 0.4)\n",
    "sub_alpha <- 0.2\n",
    "sub_beta <- 0.1\n",
    "sub_mu <- 1\n",
    "sub_invariant <- 0.3\n",
    "ins_rate <- 1e-4\n",
    "ins_max_length <- 60\n",
    "ins_a <- 1.6\n",
    "del_rate <- 1e-4\n",
    "del_max_length <- 60\n",
    "del_a <- 1.6\n",
    "\n",
    "## Read simulation information\n",
    "read_coverage <- 30\n",
    "read_length <- 250\n",
    "\n",
    "## Other\n",
    "ncores <- 48"
   ]
  },
  {
   "cell_type": "code",
   "execution_count": 2,
   "id": "7a14560f",
   "metadata": {
    "execution": {
     "iopub.execute_input": "2021-09-02T03:09:38.848609Z",
     "iopub.status.busy": "2021-09-02T03:09:38.809821Z",
     "iopub.status.idle": "2021-09-02T03:09:38.862504Z",
     "shell.execute_reply": "2021-09-02T03:09:38.861371Z"
    },
    "papermill": {
     "duration": 0.066447,
     "end_time": "2021-09-02T03:09:38.862744",
     "exception": false,
     "start_time": "2021-09-02T03:09:38.796297",
     "status": "completed"
    },
    "tags": [
     "injected-parameters"
    ]
   },
   "outputs": [],
   "source": [
    "# Parameters\n",
    "read_coverage = 50\n",
    "mincov = 10\n",
    "simulation_dir = \"simulations/cov-50\"\n",
    "iterations = 3\n"
   ]
  },
  {
   "cell_type": "code",
   "execution_count": 3,
   "id": "845350c4-9369-4350-bcce-504d05f5ff55",
   "metadata": {
    "execution": {
     "iopub.execute_input": "2021-09-02T03:09:38.892585Z",
     "iopub.status.busy": "2021-09-02T03:09:38.890470Z",
     "iopub.status.idle": "2021-09-02T03:09:38.922001Z",
     "shell.execute_reply": "2021-09-02T03:09:38.920912Z"
    },
    "papermill": {
     "duration": 0.044852,
     "end_time": "2021-09-02T03:09:38.922235",
     "exception": false,
     "start_time": "2021-09-02T03:09:38.877383",
     "status": "completed"
    },
    "tags": []
   },
   "outputs": [
    {
     "name": "stdout",
     "output_type": "stream",
     "text": [
      "[1] \"simulations/cov-50/simulated_data\"\n"
     ]
    },
    {
     "name": "stdout",
     "output_type": "stream",
     "text": [
      "[1] \"simulations/cov-50/simulated_data/haplotypes\"\n"
     ]
    }
   ],
   "source": [
    "output_dir <- file.path(simulation_dir, \"simulated_data\")\n",
    "output_vcf_prefix <- file.path(output_dir, \"haplotypes\")\n",
    "reads_data_initial_prefix <- file.path(output_dir, \"reads_initial\", \"data\")\n",
    "set.seed(random_seed)\n",
    "print(output_dir)\n",
    "print(output_vcf_prefix)"
   ]
  },
  {
   "cell_type": "markdown",
   "id": "noticed-coating",
   "metadata": {
    "papermill": {
     "duration": 0.009268,
     "end_time": "2021-09-02T03:09:38.947606",
     "exception": false,
     "start_time": "2021-09-02T03:09:38.938338",
     "status": "completed"
    },
    "tags": []
   },
   "source": [
    "# 2. Generate simulated data\n",
    "\n",
    "This simulates *Salmonella* data using a reference genome and a tree."
   ]
  },
  {
   "cell_type": "code",
   "execution_count": 4,
   "id": "bright-polymer",
   "metadata": {
    "execution": {
     "iopub.execute_input": "2021-09-02T03:09:38.969082Z",
     "iopub.status.busy": "2021-09-02T03:09:38.966277Z",
     "iopub.status.idle": "2021-09-02T03:09:39.058385Z",
     "shell.execute_reply": "2021-09-02T03:09:39.057267Z"
    },
    "papermill": {
     "duration": 0.1038,
     "end_time": "2021-09-02T03:09:39.058625",
     "exception": false,
     "start_time": "2021-09-02T03:09:38.954825",
     "status": "completed"
    },
    "tags": []
   },
   "outputs": [
    {
     "data": {
      "text/html": [
       "TRUE"
      ],
      "text/latex": [
       "TRUE"
      ],
      "text/markdown": [
       "TRUE"
      ],
      "text/plain": [
       "[1] TRUE"
      ]
     },
     "metadata": {},
     "output_type": "display_data"
    }
   ],
   "source": [
    "library(jackalope)\n",
    "\n",
    "# Make sure we've complied with openmp\n",
    "jackalope:::using_openmp()"
   ]
  },
  {
   "cell_type": "code",
   "execution_count": 5,
   "id": "303635b1-41dc-4917-8e90-30832a9acafd",
   "metadata": {
    "execution": {
     "iopub.execute_input": "2021-09-02T03:09:39.092044Z",
     "iopub.status.busy": "2021-09-02T03:09:39.090225Z",
     "iopub.status.idle": "2021-09-02T03:09:39.123170Z",
     "shell.execute_reply": "2021-09-02T03:09:39.122040Z"
    },
    "papermill": {
     "duration": 0.047225,
     "end_time": "2021-09-02T03:09:39.123409",
     "exception": false,
     "start_time": "2021-09-02T03:09:39.076184",
     "status": "completed"
    },
    "tags": []
   },
   "outputs": [
    {
     "data": {
      "text/plain": [
       "< Set of 1 chromosomes >\n",
       "# Total size: 10,834 bp\n",
       "  name                             chromosome                             length\n",
       "chrom0     GTATTGCGAGGGTGGGGGAGTACGGCAG...CAAGAATGCAACCGACTCTGTCGGGACT     10834"
      ]
     },
     "metadata": {},
     "output_type": "display_data"
    }
   ],
   "source": [
    "reference <- read_fasta(reference_file)\n",
    "reference_len <- reference$sizes()\n",
    "reference"
   ]
  },
  {
   "cell_type": "code",
   "execution_count": 6,
   "id": "documented-helmet",
   "metadata": {
    "execution": {
     "iopub.execute_input": "2021-09-02T03:09:39.156246Z",
     "iopub.status.busy": "2021-09-02T03:09:39.154169Z",
     "iopub.status.idle": "2021-09-02T03:09:39.228719Z",
     "shell.execute_reply": "2021-09-02T03:09:39.227587Z"
    },
    "papermill": {
     "duration": 0.088305,
     "end_time": "2021-09-02T03:09:39.228960",
     "exception": false,
     "start_time": "2021-09-02T03:09:39.140655",
     "status": "completed"
    },
    "tags": []
   },
   "outputs": [
    {
     "data": {
      "text/plain": [
       "\n",
       "Phylogenetic tree with 60 tips and 59 internal nodes.\n",
       "\n",
       "Tip labels:\n",
       "  reference, SH12-013, SH12-014, SH10-015, SH10-014, SH11-002, ...\n",
       "Node labels:\n",
       "  Root, 1.000000, 0.000000, 0.000000, 1.000000, 0.000000, ...\n",
       "\n",
       "Rooted; includes branch lengths."
      ]
     },
     "metadata": {},
     "output_type": "display_data"
    }
   ],
   "source": [
    "library(ape)\n",
    "\n",
    "tree <- read.tree(initial_tree_file)\n",
    "tree <- root(tree, \"reference\", resolve.root=TRUE)\n",
    "tree"
   ]
  },
  {
   "cell_type": "code",
   "execution_count": 7,
   "id": "proved-silver",
   "metadata": {
    "execution": {
     "iopub.execute_input": "2021-09-02T03:09:39.264440Z",
     "iopub.status.busy": "2021-09-02T03:09:39.262166Z",
     "iopub.status.idle": "2021-09-02T03:09:39.400036Z",
     "shell.execute_reply": "2021-09-02T03:09:39.398948Z"
    },
    "papermill": {
     "duration": 0.152997,
     "end_time": "2021-09-02T03:09:39.400182",
     "exception": false,
     "start_time": "2021-09-02T03:09:39.247185",
     "status": "completed"
    },
    "tags": []
   },
   "outputs": [
    {
     "data": {
      "text/plain": [
       "                              << haplotypes object >>\n",
       "# Haplotypes: 60\n",
       "# Mutations: 10,109\n",
       "\n",
       "                          << Reference genome info: >>\n",
       "< Set of 1 chromosomes >\n",
       "# Total size: 10,834 bp\n",
       "  name                             chromosome                             length\n",
       "chrom0     GTATTGCGAGGGTGGGGGAGTACGGCAG...CAAGAATGCAACCGACTCTGTCGGGACT     10834"
      ]
     },
     "metadata": {},
     "output_type": "display_data"
    }
   ],
   "source": [
    "sub <- sub_HKY85(pi_tcag = sub_pi_tcag, mu = sub_mu,\n",
    "                 alpha = sub_alpha, beta = sub_beta, gamma_k = 5,\n",
    "                 invariant = sub_invariant)\n",
    "ins <- indels(rate = ins_rate, max_length = ins_max_length, a = ins_a)\n",
    "del <- indels(rate = del_rate, max_length = del_max_length, a = del_a)\n",
    "\n",
    "ref_haplotypes <- create_haplotypes(reference, haps_phylo(tree), sub=sub, ins=ins, del=del)\n",
    "ref_haplotypes"
   ]
  },
  {
   "cell_type": "markdown",
   "id": "535fa02d-c76c-4067-9582-74f3694d16ea",
   "metadata": {
    "papermill": {
     "duration": 0.009457,
     "end_time": "2021-09-02T03:09:39.423226",
     "exception": false,
     "start_time": "2021-09-02T03:09:39.413769",
     "status": "completed"
    },
    "tags": []
   },
   "source": [
    "# 3. Write simulated data"
   ]
  },
  {
   "cell_type": "code",
   "execution_count": 8,
   "id": "smoking-geology",
   "metadata": {
    "execution": {
     "iopub.execute_input": "2021-09-02T03:09:39.447423Z",
     "iopub.status.busy": "2021-09-02T03:09:39.444290Z",
     "iopub.status.idle": "2021-09-02T03:09:39.486249Z",
     "shell.execute_reply": "2021-09-02T03:09:39.485114Z"
    },
    "papermill": {
     "duration": 0.055367,
     "end_time": "2021-09-02T03:09:39.486483",
     "exception": false,
     "start_time": "2021-09-02T03:09:39.431116",
     "status": "completed"
    },
    "tags": []
   },
   "outputs": [],
   "source": [
    "write_vcf(ref_haplotypes, out_prefix=output_vcf_prefix, compress=TRUE)"
   ]
  },
  {
   "cell_type": "code",
   "execution_count": 9,
   "id": "d2657fc5-481e-4b24-bbf8-78c02ee735ce",
   "metadata": {
    "execution": {
     "iopub.execute_input": "2021-09-02T03:09:39.523834Z",
     "iopub.status.busy": "2021-09-02T03:09:39.520716Z",
     "iopub.status.idle": "2021-09-02T03:09:39.606527Z",
     "shell.execute_reply": "2021-09-02T03:09:39.604011Z"
    },
    "papermill": {
     "duration": 0.102204,
     "end_time": "2021-09-02T03:09:39.606719",
     "exception": false,
     "start_time": "2021-09-02T03:09:39.504515",
     "status": "completed"
    },
    "tags": []
   },
   "outputs": [],
   "source": [
    "assemblies_prefix = file.path(output_dir, \"assemblies\", \"data\")\n",
    "\n",
    "write_fasta(ref_haplotypes, out_prefix=assemblies_prefix,\n",
    "            compress=TRUE, n_threads=ncores, overwrite=TRUE)"
   ]
  },
  {
   "cell_type": "code",
   "execution_count": 10,
   "id": "continent-freeze",
   "metadata": {
    "execution": {
     "iopub.execute_input": "2021-09-02T03:09:39.636693Z",
     "iopub.status.busy": "2021-09-02T03:09:39.633596Z",
     "iopub.status.idle": "2021-09-02T03:15:28.691241Z",
     "shell.execute_reply": "2021-09-02T03:15:28.690048Z"
    },
    "papermill": {
     "duration": 349.071908,
     "end_time": "2021-09-02T03:15:28.691515",
     "exception": false,
     "start_time": "2021-09-02T03:09:39.619607",
     "status": "completed"
    },
    "tags": []
   },
   "outputs": [
    {
     "name": "stdout",
     "output_type": "stream",
     "text": [
      "[1] \"Number of reads for coverage 50X and read length 250 over 60 samples with respect to reference with length 10834: 130008\"\n"
     ]
    }
   ],
   "source": [
    "n_samples <- length(tree$tip)\n",
    "n_reads <- round((reference_len * read_coverage * n_samples) / read_length)\n",
    "print(sprintf(\"Number of reads for coverage %sX and read length %s over %s samples with respect to reference with length %s: %s\", \n",
    "              read_coverage, read_length, n_samples, reference_len, n_reads))\n",
    "\n",
    "illumina(ref_haplotypes, out_prefix = reads_data_initial_prefix, sep_files=TRUE, n_reads = n_reads,\n",
    "         frag_mean = read_length * 2 + 50, frag_sd = 100,\n",
    "         compress=TRUE, comp_method=\"bgzip\", n_threads=ncores,\n",
    "         paired=TRUE, read_length = read_length)"
   ]
  },
  {
   "cell_type": "code",
   "execution_count": 11,
   "id": "israeli-unknown",
   "metadata": {
    "execution": {
     "iopub.execute_input": "2021-09-02T03:15:28.735262Z",
     "iopub.status.busy": "2021-09-02T03:15:28.733894Z",
     "iopub.status.idle": "2021-09-02T03:15:28.778224Z",
     "shell.execute_reply": "2021-09-02T03:15:28.776962Z"
    },
    "papermill": {
     "duration": 0.064985,
     "end_time": "2021-09-02T03:15:28.778524",
     "exception": false,
     "start_time": "2021-09-02T03:15:28.713539",
     "status": "completed"
    },
    "tags": []
   },
   "outputs": [
    {
     "name": "stdout",
     "output_type": "stream",
     "text": [
      "[1] \"Removing: simulations/cov-50/simulated_data/reads_initial/data_reference_R1.fq.gz\"\n"
     ]
    },
    {
     "name": "stdout",
     "output_type": "stream",
     "text": [
      "[1] \"Removing: simulations/cov-50/simulated_data/reads_initial/data_reference_R2.fq.gz\"\n"
     ]
    }
   ],
   "source": [
    "# Remove the simulated reads for the reference genome since I don't want these in the tree\n",
    "ref1 <- paste(toString(reads_data_initial_prefix), \"_reference_R1.fq.gz\", sep=\"\")\n",
    "ref2 <- paste(toString(reads_data_initial_prefix), \"_reference_R2.fq.gz\", sep=\"\")\n",
    "if (file.exists(ref1)) {\n",
    "    file.remove(ref1)\n",
    "    print(sprintf(\"Removing: %s\", ref1))\n",
    "}\n",
    "if (file.exists(ref2)) {\n",
    "    file.remove(ref2)\n",
    "    print(sprintf(\"Removing: %s\", ref2))\n",
    "}"
   ]
  },
  {
   "cell_type": "code",
   "execution_count": 12,
   "id": "likely-elite",
   "metadata": {
    "execution": {
     "iopub.execute_input": "2021-09-02T03:15:28.818412Z",
     "iopub.status.busy": "2021-09-02T03:15:28.814813Z",
     "iopub.status.idle": "2021-09-02T03:15:28.843182Z",
     "shell.execute_reply": "2021-09-02T03:15:28.842052Z"
    },
    "papermill": {
     "duration": 0.045496,
     "end_time": "2021-09-02T03:15:28.843407",
     "exception": false,
     "start_time": "2021-09-02T03:15:28.797911",
     "status": "completed"
    },
    "tags": []
   },
   "outputs": [
    {
     "name": "stdout",
     "output_type": "stream",
     "text": [
      "[1] \"Removing: simulations/cov-50/simulated_data/assemblies/data__reference.fa.gz\"\n"
     ]
    }
   ],
   "source": [
    "# Remove the new reference assembly genome since I don't need it\n",
    "ref1 <- paste(toString(assemblies_prefix), \"__reference.fa.gz\", sep=\"\")\n",
    "if (file.exists(ref1)) {\n",
    "    file.remove(ref1)\n",
    "    print(sprintf(\"Removing: %s\", ref1))\n",
    "}"
   ]
  },
  {
   "cell_type": "code",
   "execution_count": null,
   "id": "6ab27399-288a-4067-a812-d946410658a5",
   "metadata": {
    "papermill": {
     "duration": 0.011605,
     "end_time": "2021-09-02T03:15:28.877396",
     "exception": false,
     "start_time": "2021-09-02T03:15:28.865791",
     "status": "completed"
    },
    "tags": []
   },
   "outputs": [],
   "source": []
  }
 ],
 "metadata": {
  "kernelspec": {
   "display_name": "R",
   "language": "R",
   "name": "ir"
  },
  "language_info": {
   "codemirror_mode": "r",
   "file_extension": ".r",
   "mimetype": "text/x-r-source",
   "name": "R",
   "pygments_lexer": "r",
   "version": "4.1.1"
  },
  "papermill": {
   "default_parameters": {},
   "duration": 352.420351,
   "end_time": "2021-09-02T03:15:30.005554",
   "environment_variables": {},
   "exception": null,
   "input_path": "template-1-simulate-reads.ipynb",
   "output_path": "1-simulate-reads.simulation-cov-50.ipynb",
   "parameters": {
    "iterations": 3,
    "mincov": 10,
    "read_coverage": 50,
    "simulation_dir": "simulations/cov-50"
   },
   "start_time": "2021-09-02T03:09:37.585203",
   "version": "2.3.3"
  }
 },
 "nbformat": 4,
 "nbformat_minor": 5
}