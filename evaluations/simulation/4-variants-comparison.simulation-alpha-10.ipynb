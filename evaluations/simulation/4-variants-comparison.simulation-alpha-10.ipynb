{
 "cells": [
  {
   "cell_type": "markdown",
   "id": "f5db0c94",
   "metadata": {
    "tags": [
     "papermill-error-cell-tag"
    ]
   },
   "source": [
    "<span style=\"color:red; font-family:Helvetica Neue, Helvetica, Arial, sans-serif; font-size:2em;\">An Exception was encountered at '<a href=\"#papermill-error-cell\">In [11]</a>'.</span>"
   ]
  },
  {
   "cell_type": "markdown",
   "id": "2f66aa00-6c01-46a5-8f31-0e579da614b2",
   "metadata": {
    "papermill": {
     "duration": 0.02049,
     "end_time": "2022-03-09T15:41:49.998864",
     "exception": false,
     "start_time": "2022-03-09T15:41:49.978374",
     "status": "completed"
    },
    "tags": []
   },
   "source": [
    "# 1. Parameters"
   ]
  },
  {
   "cell_type": "code",
   "execution_count": 1,
   "id": "f2cfe9b4-3c45-4e2e-9ba2-17f4119f5f6d",
   "metadata": {
    "execution": {
     "iopub.execute_input": "2022-03-09T15:41:50.030680Z",
     "iopub.status.busy": "2022-03-09T15:41:50.030282Z",
     "iopub.status.idle": "2022-03-09T15:41:50.035072Z",
     "shell.execute_reply": "2022-03-09T15:41:50.034594Z"
    },
    "papermill": {
     "duration": 0.025925,
     "end_time": "2022-03-09T15:41:50.035196",
     "exception": false,
     "start_time": "2022-03-09T15:41:50.009271",
     "status": "completed"
    },
    "tags": [
     "parameters"
    ]
   },
   "outputs": [],
   "source": [
    "# Defaults\n",
    "\n",
    "simulation_dir = 'simulations/unset'\n",
    "reference_file = 'simulations/reference/reference.fa.gz'"
   ]
  },
  {
   "cell_type": "code",
   "execution_count": 2,
   "id": "89e68a86",
   "metadata": {
    "execution": {
     "iopub.execute_input": "2022-03-09T15:41:50.059965Z",
     "iopub.status.busy": "2022-03-09T15:41:50.059587Z",
     "iopub.status.idle": "2022-03-09T15:41:50.062869Z",
     "shell.execute_reply": "2022-03-09T15:41:50.063196Z"
    },
    "papermill": {
     "duration": 0.017982,
     "end_time": "2022-03-09T15:41:50.063311",
     "exception": false,
     "start_time": "2022-03-09T15:41:50.045329",
     "status": "completed"
    },
    "tags": [
     "injected-parameters"
    ]
   },
   "outputs": [],
   "source": [
    "# Parameters\n",
    "read_coverage = 30\n",
    "mincov = 10\n",
    "simulation_dir = \"simulations/alpha-10-cov-30\"\n",
    "iterations = 3\n",
    "sub_alpha = 10\n"
   ]
  },
  {
   "cell_type": "code",
   "execution_count": 3,
   "id": "9ddaa924-b1ac-4740-8070-0eaa05b80e96",
   "metadata": {
    "execution": {
     "iopub.execute_input": "2022-03-09T15:41:50.086960Z",
     "iopub.status.busy": "2022-03-09T15:41:50.086586Z",
     "iopub.status.idle": "2022-03-09T15:41:50.089323Z",
     "shell.execute_reply": "2022-03-09T15:41:50.089640Z"
    },
    "papermill": {
     "duration": 0.017847,
     "end_time": "2022-03-09T15:41:50.089737",
     "exception": false,
     "start_time": "2022-03-09T15:41:50.071890",
     "status": "completed"
    },
    "tags": []
   },
   "outputs": [],
   "source": [
    "from pathlib import Path\n",
    "\n",
    "simulation_dir_path = Path(simulation_dir)\n",
    "\n",
    "case_name = str(simulation_dir_path.name)\n",
    "\n",
    "simulation_data_path = simulation_dir_path / 'simulated_data'\n",
    "simulated_variants_file = simulation_data_path / 'haplotypes.vcf.gz'\n",
    "\n",
    "case_name = str(simulation_dir_path.name)\n",
    "index_reads_path = simulation_dir_path / 'index-reads'\n",
    "index_assemblies_path = simulation_dir_path / 'index-assemblies'"
   ]
  },
  {
   "cell_type": "markdown",
   "id": "2b6c7ffd-d5d7-447f-ba62-7ec7d1b0b583",
   "metadata": {
    "papermill": {
     "duration": 0.007956,
     "end_time": "2022-03-09T15:41:50.107474",
     "exception": false,
     "start_time": "2022-03-09T15:41:50.099518",
     "status": "completed"
    },
    "tags": []
   },
   "source": [
    "# 2. Load simulated variants (VCF)"
   ]
  },
  {
   "cell_type": "code",
   "execution_count": 4,
   "id": "e01f3458-fb5e-4fc1-b1f0-69b7a9c9d033",
   "metadata": {
    "execution": {
     "iopub.execute_input": "2022-03-09T15:41:50.129474Z",
     "iopub.status.busy": "2022-03-09T15:41:50.129073Z",
     "iopub.status.idle": "2022-03-09T15:41:53.668050Z",
     "shell.execute_reply": "2022-03-09T15:41:53.668967Z"
    },
    "papermill": {
     "duration": 3.554037,
     "end_time": "2022-03-09T15:41:53.669241",
     "exception": false,
     "start_time": "2022-03-09T15:41:50.115204",
     "status": "completed"
    },
    "tags": []
   },
   "outputs": [
    {
     "data": {
      "text/html": [
       "<div>\n",
       "<style scoped>\n",
       "    .dataframe tbody tr th:only-of-type {\n",
       "        vertical-align: middle;\n",
       "    }\n",
       "\n",
       "    .dataframe tbody tr th {\n",
       "        vertical-align: top;\n",
       "    }\n",
       "\n",
       "    .dataframe thead th {\n",
       "        text-align: right;\n",
       "    }\n",
       "</style>\n",
       "<table border=\"1\" class=\"dataframe\">\n",
       "  <thead>\n",
       "    <tr style=\"text-align: right;\">\n",
       "      <th></th>\n",
       "      <th>CHROM</th>\n",
       "      <th>POS</th>\n",
       "      <th>REF</th>\n",
       "      <th>samples</th>\n",
       "    </tr>\n",
       "  </thead>\n",
       "  <tbody>\n",
       "    <tr>\n",
       "      <th>0</th>\n",
       "      <td>chrom0</td>\n",
       "      <td>1</td>\n",
       "      <td>G</td>\n",
       "      <td>[Call(sample=reference, CallData(GT=0, GQ=4414...</td>\n",
       "    </tr>\n",
       "    <tr>\n",
       "      <th>1</th>\n",
       "      <td>chrom0</td>\n",
       "      <td>2</td>\n",
       "      <td>T</td>\n",
       "      <td>[Call(sample=reference, CallData(GT=0, GQ=4414...</td>\n",
       "    </tr>\n",
       "    <tr>\n",
       "      <th>2</th>\n",
       "      <td>chrom0</td>\n",
       "      <td>5</td>\n",
       "      <td>T</td>\n",
       "      <td>[Call(sample=reference, CallData(GT=0, GQ=4414...</td>\n",
       "    </tr>\n",
       "    <tr>\n",
       "      <th>3</th>\n",
       "      <td>chrom0</td>\n",
       "      <td>8</td>\n",
       "      <td>G</td>\n",
       "      <td>[Call(sample=reference, CallData(GT=0, GQ=4414...</td>\n",
       "    </tr>\n",
       "    <tr>\n",
       "      <th>4</th>\n",
       "      <td>chrom0</td>\n",
       "      <td>9</td>\n",
       "      <td>A</td>\n",
       "      <td>[Call(sample=reference, CallData(GT=0, GQ=4414...</td>\n",
       "    </tr>\n",
       "  </tbody>\n",
       "</table>\n",
       "</div>"
      ],
      "text/plain": [
       "    CHROM  POS REF                                            samples\n",
       "0  chrom0    1   G  [Call(sample=reference, CallData(GT=0, GQ=4414...\n",
       "1  chrom0    2   T  [Call(sample=reference, CallData(GT=0, GQ=4414...\n",
       "2  chrom0    5   T  [Call(sample=reference, CallData(GT=0, GQ=4414...\n",
       "3  chrom0    8   G  [Call(sample=reference, CallData(GT=0, GQ=4414...\n",
       "4  chrom0    9   A  [Call(sample=reference, CallData(GT=0, GQ=4414..."
      ]
     },
     "execution_count": 4,
     "metadata": {},
     "output_type": "execute_result"
    }
   ],
   "source": [
    "import vcf\n",
    "import pandas as pd\n",
    "import time\n",
    "\n",
    "reader = vcf.Reader(filename=str(simulated_variants_file))\n",
    "simulated_df = pd.DataFrame([vars(r) for r in reader])\n",
    "simulated_df = simulated_df[['CHROM', 'POS', 'REF', 'samples']]\n",
    "simulated_df.head(5)"
   ]
  },
  {
   "cell_type": "markdown",
   "id": "f1c95d8a-de3e-4bb4-b13f-0f88e6466925",
   "metadata": {
    "papermill": {
     "duration": 0.010134,
     "end_time": "2022-03-09T15:41:53.697639",
     "exception": false,
     "start_time": "2022-03-09T15:41:53.687505",
     "status": "completed"
    },
    "tags": []
   },
   "source": [
    "## 2.1. Construct sample:variant identifiers"
   ]
  },
  {
   "cell_type": "code",
   "execution_count": 5,
   "id": "bac0a5e7-a844-47bb-9204-3b4711d0c329",
   "metadata": {
    "execution": {
     "iopub.execute_input": "2022-03-09T15:41:53.726853Z",
     "iopub.status.busy": "2022-03-09T15:41:53.725222Z",
     "iopub.status.idle": "2022-03-09T15:41:58.503797Z",
     "shell.execute_reply": "2022-03-09T15:41:58.504723Z"
    },
    "papermill": {
     "duration": 4.799464,
     "end_time": "2022-03-09T15:41:58.504996",
     "exception": false,
     "start_time": "2022-03-09T15:41:53.705532",
     "status": "completed"
    },
    "tags": []
   },
   "outputs": [
    {
     "name": "stdout",
     "output_type": "stream",
     "text": [
      "There are 224483 expected sample/variant pairs like: ['SH12-013:chrom0:1:G:A', 'SH14-012:chrom0:1:G:A', 'SH14-012:chrom0:2:T:C']\n",
      "Took 0.1 minutes\n"
     ]
    }
   ],
   "source": [
    "before = time.time()\n",
    "\n",
    "# Explode dataframe so that we have one row per sample\n",
    "simulated_df_exploded = simulated_df.explode('samples')\n",
    "simulated_df_exploded['SAMPLE'] = simulated_df_exploded['samples'].apply(lambda x: x.sample)\n",
    "\n",
    "# Extrat ALT for each sample\n",
    "simulated_df_exploded['ALT'] = simulated_df_exploded['samples'].apply(lambda x: x.gt_bases)\n",
    "\n",
    "# Only keep mutations/those where REF and ALT are different\n",
    "simulated_df_exploded = simulated_df_exploded[simulated_df_exploded['REF'] != simulated_df_exploded['ALT']]\n",
    "\n",
    "# Create SPDI-like identifier with Sample name for comparison (SAMPLE:CHROM:POS:REF:ALT)\n",
    "simulated_df_exploded['ID'] = simulated_df_exploded.apply(\n",
    "    lambda x: f\"{x['SAMPLE']}:{x['CHROM']}:{x['POS']}:{x['REF']}:{x['ALT']}\", axis='columns')\n",
    "\n",
    "simulated_variants = simulated_df_exploded['ID'].reset_index(drop=True)\n",
    "expected_sample_variants = set(simulated_variants)\n",
    "\n",
    "after = time.time()\n",
    "\n",
    "print(f'There are {len(expected_sample_variants)} expected sample/variant pairs like: '\n",
    "      f'{list(simulated_variants[0:3])}')\n",
    "print(f'Took {(after - before)/60:0.1f} minutes')"
   ]
  },
  {
   "cell_type": "code",
   "execution_count": 6,
   "id": "e3f05c50-a98a-431f-b8c8-a5083738255c",
   "metadata": {
    "execution": {
     "iopub.execute_input": "2022-03-09T15:41:58.556869Z",
     "iopub.status.busy": "2022-03-09T15:41:58.555726Z",
     "iopub.status.idle": "2022-03-09T15:41:58.560211Z",
     "shell.execute_reply": "2022-03-09T15:41:58.561132Z"
    },
    "papermill": {
     "duration": 0.037572,
     "end_time": "2022-03-09T15:41:58.561404",
     "exception": false,
     "start_time": "2022-03-09T15:41:58.523832",
     "status": "completed"
    },
    "tags": []
   },
   "outputs": [
    {
     "data": {
      "text/html": [
       "<div>\n",
       "<style scoped>\n",
       "    .dataframe tbody tr th:only-of-type {\n",
       "        vertical-align: middle;\n",
       "    }\n",
       "\n",
       "    .dataframe tbody tr th {\n",
       "        vertical-align: top;\n",
       "    }\n",
       "\n",
       "    .dataframe thead th {\n",
       "        text-align: right;\n",
       "    }\n",
       "</style>\n",
       "<table border=\"1\" class=\"dataframe\">\n",
       "  <thead>\n",
       "    <tr style=\"text-align: right;\">\n",
       "      <th></th>\n",
       "      <th>CHROM</th>\n",
       "      <th>POS</th>\n",
       "      <th>REF</th>\n",
       "      <th>samples</th>\n",
       "      <th>SAMPLE</th>\n",
       "      <th>ALT</th>\n",
       "      <th>ID</th>\n",
       "    </tr>\n",
       "  </thead>\n",
       "  <tbody>\n",
       "    <tr>\n",
       "      <th>0</th>\n",
       "      <td>chrom0</td>\n",
       "      <td>1</td>\n",
       "      <td>G</td>\n",
       "      <td>Call(sample=SH12-013, CallData(GT=1, GQ=441453))</td>\n",
       "      <td>SH12-013</td>\n",
       "      <td>A</td>\n",
       "      <td>SH12-013:chrom0:1:G:A</td>\n",
       "    </tr>\n",
       "    <tr>\n",
       "      <th>0</th>\n",
       "      <td>chrom0</td>\n",
       "      <td>1</td>\n",
       "      <td>G</td>\n",
       "      <td>Call(sample=SH14-012, CallData(GT=1, GQ=441453))</td>\n",
       "      <td>SH14-012</td>\n",
       "      <td>A</td>\n",
       "      <td>SH14-012:chrom0:1:G:A</td>\n",
       "    </tr>\n",
       "    <tr>\n",
       "      <th>1</th>\n",
       "      <td>chrom0</td>\n",
       "      <td>2</td>\n",
       "      <td>T</td>\n",
       "      <td>Call(sample=SH14-012, CallData(GT=1, GQ=441453))</td>\n",
       "      <td>SH14-012</td>\n",
       "      <td>C</td>\n",
       "      <td>SH14-012:chrom0:2:T:C</td>\n",
       "    </tr>\n",
       "    <tr>\n",
       "      <th>2</th>\n",
       "      <td>chrom0</td>\n",
       "      <td>5</td>\n",
       "      <td>T</td>\n",
       "      <td>Call(sample=SH10-001, CallData(GT=1, GQ=441453))</td>\n",
       "      <td>SH10-001</td>\n",
       "      <td>C</td>\n",
       "      <td>SH10-001:chrom0:5:T:C</td>\n",
       "    </tr>\n",
       "    <tr>\n",
       "      <th>3</th>\n",
       "      <td>chrom0</td>\n",
       "      <td>8</td>\n",
       "      <td>G</td>\n",
       "      <td>Call(sample=SH10-015, CallData(GT=1, GQ=441453))</td>\n",
       "      <td>SH10-015</td>\n",
       "      <td>A</td>\n",
       "      <td>SH10-015:chrom0:8:G:A</td>\n",
       "    </tr>\n",
       "    <tr>\n",
       "      <th>...</th>\n",
       "      <td>...</td>\n",
       "      <td>...</td>\n",
       "      <td>...</td>\n",
       "      <td>...</td>\n",
       "      <td>...</td>\n",
       "      <td>...</td>\n",
       "      <td>...</td>\n",
       "    </tr>\n",
       "    <tr>\n",
       "      <th>9758</th>\n",
       "      <td>chrom1</td>\n",
       "      <td>8865</td>\n",
       "      <td>A</td>\n",
       "      <td>Call(sample=SH14-004, CallData(GT=1, GQ=441453))</td>\n",
       "      <td>SH14-004</td>\n",
       "      <td>G</td>\n",
       "      <td>SH14-004:chrom1:8865:A:G</td>\n",
       "    </tr>\n",
       "    <tr>\n",
       "      <th>9758</th>\n",
       "      <td>chrom1</td>\n",
       "      <td>8865</td>\n",
       "      <td>A</td>\n",
       "      <td>Call(sample=SH14-003, CallData(GT=1, GQ=441453))</td>\n",
       "      <td>SH14-003</td>\n",
       "      <td>G</td>\n",
       "      <td>SH14-003:chrom1:8865:A:G</td>\n",
       "    </tr>\n",
       "    <tr>\n",
       "      <th>9758</th>\n",
       "      <td>chrom1</td>\n",
       "      <td>8865</td>\n",
       "      <td>A</td>\n",
       "      <td>Call(sample=SH14-002, CallData(GT=1, GQ=441453))</td>\n",
       "      <td>SH14-002</td>\n",
       "      <td>G</td>\n",
       "      <td>SH14-002:chrom1:8865:A:G</td>\n",
       "    </tr>\n",
       "    <tr>\n",
       "      <th>9758</th>\n",
       "      <td>chrom1</td>\n",
       "      <td>8865</td>\n",
       "      <td>A</td>\n",
       "      <td>Call(sample=SH14-028, CallData(GT=1, GQ=441453))</td>\n",
       "      <td>SH14-028</td>\n",
       "      <td>G</td>\n",
       "      <td>SH14-028:chrom1:8865:A:G</td>\n",
       "    </tr>\n",
       "    <tr>\n",
       "      <th>9758</th>\n",
       "      <td>chrom1</td>\n",
       "      <td>8865</td>\n",
       "      <td>A</td>\n",
       "      <td>Call(sample=SH12-010, CallData(GT=1, GQ=441453))</td>\n",
       "      <td>SH12-010</td>\n",
       "      <td>G</td>\n",
       "      <td>SH12-010:chrom1:8865:A:G</td>\n",
       "    </tr>\n",
       "  </tbody>\n",
       "</table>\n",
       "<p>224483 rows × 7 columns</p>\n",
       "</div>"
      ],
      "text/plain": [
       "       CHROM   POS REF                                           samples  \\\n",
       "0     chrom0     1   G  Call(sample=SH12-013, CallData(GT=1, GQ=441453))   \n",
       "0     chrom0     1   G  Call(sample=SH14-012, CallData(GT=1, GQ=441453))   \n",
       "1     chrom0     2   T  Call(sample=SH14-012, CallData(GT=1, GQ=441453))   \n",
       "2     chrom0     5   T  Call(sample=SH10-001, CallData(GT=1, GQ=441453))   \n",
       "3     chrom0     8   G  Call(sample=SH10-015, CallData(GT=1, GQ=441453))   \n",
       "...      ...   ...  ..                                               ...   \n",
       "9758  chrom1  8865   A  Call(sample=SH14-004, CallData(GT=1, GQ=441453))   \n",
       "9758  chrom1  8865   A  Call(sample=SH14-003, CallData(GT=1, GQ=441453))   \n",
       "9758  chrom1  8865   A  Call(sample=SH14-002, CallData(GT=1, GQ=441453))   \n",
       "9758  chrom1  8865   A  Call(sample=SH14-028, CallData(GT=1, GQ=441453))   \n",
       "9758  chrom1  8865   A  Call(sample=SH12-010, CallData(GT=1, GQ=441453))   \n",
       "\n",
       "        SAMPLE ALT                        ID  \n",
       "0     SH12-013   A     SH12-013:chrom0:1:G:A  \n",
       "0     SH14-012   A     SH14-012:chrom0:1:G:A  \n",
       "1     SH14-012   C     SH14-012:chrom0:2:T:C  \n",
       "2     SH10-001   C     SH10-001:chrom0:5:T:C  \n",
       "3     SH10-015   A     SH10-015:chrom0:8:G:A  \n",
       "...        ...  ..                       ...  \n",
       "9758  SH14-004   G  SH14-004:chrom1:8865:A:G  \n",
       "9758  SH14-003   G  SH14-003:chrom1:8865:A:G  \n",
       "9758  SH14-002   G  SH14-002:chrom1:8865:A:G  \n",
       "9758  SH14-028   G  SH14-028:chrom1:8865:A:G  \n",
       "9758  SH12-010   G  SH12-010:chrom1:8865:A:G  \n",
       "\n",
       "[224483 rows x 7 columns]"
      ]
     },
     "execution_count": 6,
     "metadata": {},
     "output_type": "execute_result"
    }
   ],
   "source": [
    "simulated_df_exploded"
   ]
  },
  {
   "cell_type": "markdown",
   "id": "85d49181-9782-48b6-bdef-dfa2b19cd6b6",
   "metadata": {
    "papermill": {
     "duration": 0.01133,
     "end_time": "2022-03-09T15:41:58.596429",
     "exception": false,
     "start_time": "2022-03-09T15:41:58.585099",
     "status": "completed"
    },
    "tags": []
   },
   "source": [
    "## 1.2. Load reference genome for use with positive/negative calculations"
   ]
  },
  {
   "cell_type": "code",
   "execution_count": 7,
   "id": "bfaacd7f-746e-452a-9b4b-cb4526424b13",
   "metadata": {
    "execution": {
     "iopub.execute_input": "2022-03-09T15:41:58.624578Z",
     "iopub.status.busy": "2022-03-09T15:41:58.623350Z",
     "iopub.status.idle": "2022-03-09T15:41:58.734886Z",
     "shell.execute_reply": "2022-03-09T15:41:58.735822Z"
    },
    "papermill": {
     "duration": 0.131126,
     "end_time": "2022-03-09T15:41:58.736211",
     "exception": false,
     "start_time": "2022-03-09T15:41:58.605085",
     "status": "completed"
    },
    "tags": []
   },
   "outputs": [
    {
     "name": "stdout",
     "output_type": "stream",
     "text": [
      "Reference length: 10834\n",
      "Number samples: 59\n"
     ]
    }
   ],
   "source": [
    "import gzip\n",
    "from Bio import SeqIO\n",
    "\n",
    "with gzip.open(reference_file, mode='rt') as f:\n",
    "    sequences = list(SeqIO.parse(f, 'fasta'))\n",
    "    reference_length = len(sequences[0])\n",
    "    \n",
    "sample_names = set(simulated_df_exploded.groupby('SAMPLE').agg({'SAMPLE': 'count'}).index)\n",
    "sample_names = sample_names - {'reference'}\n",
    "number_samples = len(sample_names)\n",
    "\n",
    "print(f'Reference length: {reference_length}')\n",
    "print(f'Number samples: {number_samples}')"
   ]
  },
  {
   "cell_type": "markdown",
   "id": "31d39af6-8bcb-416b-ba4c-38c06fc6085e",
   "metadata": {
    "papermill": {
     "duration": 0.0106,
     "end_time": "2022-03-09T15:41:58.765392",
     "exception": false,
     "start_time": "2022-03-09T15:41:58.754792",
     "status": "completed"
    },
    "tags": []
   },
   "source": [
    "# 3. Load detected variants\n",
    "\n",
    "## 3.1. Load from reads index"
   ]
  },
  {
   "cell_type": "code",
   "execution_count": 8,
   "id": "89978058-5e1b-4c20-ba21-fc23daa74dcb",
   "metadata": {
    "execution": {
     "iopub.execute_input": "2022-03-09T15:41:58.796059Z",
     "iopub.status.busy": "2022-03-09T15:41:58.793931Z",
     "iopub.status.idle": "2022-03-09T15:42:05.135481Z",
     "shell.execute_reply": "2022-03-09T15:42:05.136436Z"
    },
    "papermill": {
     "duration": 6.362673,
     "end_time": "2022-03-09T15:42:05.136750",
     "exception": false,
     "start_time": "2022-03-09T15:41:58.774077",
     "status": "completed"
    },
    "tags": []
   },
   "outputs": [
    {
     "name": "stdout",
     "output_type": "stream",
     "text": [
      "There are 3118 actual sample/variant pairs (reads)\n",
      "Took 0.1 minutes\n",
      "Actual variants look like: ['SH12-013:chrom1:8341:G:A', 'SH09-29:chrom1:2621:C:T', 'SH12-009:chrom0:934:G:A', 'SH14-018:chrom1:6496:G:A', 'SH12-013:chrom1:4207:AAA:GAG']\n"
     ]
    }
   ],
   "source": [
    "from typing import Set\n",
    "import genomics_data_index.api as gdi\n",
    "\n",
    "def get_sample_variant_idenifiers(index_dir: Path) -> Set[str]:\n",
    "    db = gdi.GenomicsDataIndex.connect(index_dir)\n",
    "    q = db.samples_query()\n",
    "\n",
    "    actual_sample_variants = set()\n",
    "    for sample in q.tolist():\n",
    "        sample_features = q.isa(sample).features_summary().reset_index()\n",
    "        sample_features_set = set(sample_features['Mutation'].apply(lambda x: f\"{sample}:{x}\"))\n",
    "        actual_sample_variants.update(sample_features_set)\n",
    "    return actual_sample_variants\n",
    "\n",
    "before = time.time()\n",
    "actual_sample_variants_reads = get_sample_variant_idenifiers(index_reads_path)\n",
    "after = time.time()\n",
    "\n",
    "print(f'There are {len(actual_sample_variants_reads)} actual sample/variant pairs (reads)')\n",
    "print(f'Took {(after - before)/60:0.1f} minutes')\n",
    "print(f'Actual variants look like: {list(actual_sample_variants_reads)[0:5]}')"
   ]
  },
  {
   "cell_type": "markdown",
   "id": "4eb6bf76-40f0-449f-8cac-72679f484e8c",
   "metadata": {
    "papermill": {
     "duration": 0.011438,
     "end_time": "2022-03-09T15:42:05.170653",
     "exception": false,
     "start_time": "2022-03-09T15:42:05.159215",
     "status": "completed"
    },
    "tags": []
   },
   "source": [
    "## 2.2. Load from assemblies index"
   ]
  },
  {
   "cell_type": "code",
   "execution_count": 9,
   "id": "b91c4675-1b29-4a1c-b976-ba88a80d2c78",
   "metadata": {
    "execution": {
     "iopub.execute_input": "2022-03-09T15:42:05.199035Z",
     "iopub.status.busy": "2022-03-09T15:42:05.195728Z",
     "iopub.status.idle": "2022-03-09T15:42:05.523317Z",
     "shell.execute_reply": "2022-03-09T15:42:05.524207Z"
    },
    "papermill": {
     "duration": 0.344864,
     "end_time": "2022-03-09T15:42:05.524477",
     "exception": false,
     "start_time": "2022-03-09T15:42:05.179613",
     "status": "completed"
    },
    "tags": []
   },
   "outputs": [
    {
     "name": "stderr",
     "output_type": "stream",
     "text": [
      "Attempting to set global database_path_translator=<genomics_data_index.storage.model.db.DatabasePathTranslator.DatabasePathTranslator object at 0x7f6eafcb1c40> but it is already set\n"
     ]
    },
    {
     "name": "stdout",
     "output_type": "stream",
     "text": [
      "There are 0 actual sample/variant pairs (assemblies)\n",
      "Took 0.0 minutes\n"
     ]
    }
   ],
   "source": [
    "before = time.time()\n",
    "actual_sample_variants_assemblies = get_sample_variant_idenifiers(index_assemblies_path)\n",
    "after = time.time()\n",
    "\n",
    "print(f'There are {len(actual_sample_variants_assemblies)} actual sample/variant pairs (assemblies)')\n",
    "print(f'Took {(after - before)/60:0.1f} minutes')"
   ]
  },
  {
   "cell_type": "markdown",
   "id": "52efd18a-5198-45cc-a092-4dfaba600ca1",
   "metadata": {
    "papermill": {
     "duration": 0.01105,
     "end_time": "2022-03-09T15:42:05.555052",
     "exception": false,
     "start_time": "2022-03-09T15:42:05.544002",
     "status": "completed"
    },
    "tags": []
   },
   "source": [
    "# 3. Compare expected/actual variants\n",
    "\n",
    "## 3.1. Compare with reads index"
   ]
  },
  {
   "cell_type": "code",
   "execution_count": 10,
   "id": "3897d419-cc74-49d0-92d6-371f365f3ff1",
   "metadata": {
    "execution": {
     "iopub.execute_input": "2022-03-09T15:42:05.638731Z",
     "iopub.status.busy": "2022-03-09T15:42:05.588562Z",
     "iopub.status.idle": "2022-03-09T15:42:05.644445Z",
     "shell.execute_reply": "2022-03-09T15:42:05.643449Z"
    },
    "papermill": {
     "duration": 0.079978,
     "end_time": "2022-03-09T15:42:05.644707",
     "exception": false,
     "start_time": "2022-03-09T15:42:05.564729",
     "status": "completed"
    },
    "tags": []
   },
   "outputs": [
    {
     "name": "stdout",
     "output_type": "stream",
     "text": [
      "Sensitivity: 0.0079\n",
      "Specificity: ~1 (not calculated)\n",
      "Precision: 0.5699\n",
      "F1 Score: 0.0156\n"
     ]
    },
    {
     "data": {
      "text/html": [
       "<div>\n",
       "<style scoped>\n",
       "    .dataframe tbody tr th:only-of-type {\n",
       "        vertical-align: middle;\n",
       "    }\n",
       "\n",
       "    .dataframe tbody tr th {\n",
       "        vertical-align: top;\n",
       "    }\n",
       "\n",
       "    .dataframe thead th {\n",
       "        text-align: right;\n",
       "    }\n",
       "</style>\n",
       "<table border=\"1\" class=\"dataframe\">\n",
       "  <thead>\n",
       "    <tr style=\"text-align: right;\">\n",
       "      <th></th>\n",
       "      <th>Name</th>\n",
       "      <th>True Positives</th>\n",
       "      <th>True Negatives</th>\n",
       "      <th>False Positives</th>\n",
       "      <th>False Negatives</th>\n",
       "      <th>Sensitivity</th>\n",
       "      <th>Specificity</th>\n",
       "      <th>Precision</th>\n",
       "      <th>F1 Score</th>\n",
       "    </tr>\n",
       "  </thead>\n",
       "  <tbody>\n",
       "    <tr>\n",
       "      <th>0</th>\n",
       "      <td>alpha-10-cov-30 reads</td>\n",
       "      <td>1777</td>\n",
       "      <td>&lt;NA&gt;</td>\n",
       "      <td>1341</td>\n",
       "      <td>222706</td>\n",
       "      <td>0.007916</td>\n",
       "      <td>~1 (not calculated)</td>\n",
       "      <td>0.569917</td>\n",
       "      <td>0.015615</td>\n",
       "    </tr>\n",
       "  </tbody>\n",
       "</table>\n",
       "</div>"
      ],
      "text/plain": [
       "                    Name  True Positives True Negatives  False Positives  \\\n",
       "0  alpha-10-cov-30 reads            1777           <NA>             1341   \n",
       "\n",
       "   False Negatives  Sensitivity          Specificity  Precision  F1 Score  \n",
       "0           222706     0.007916  ~1 (not calculated)   0.569917  0.015615  "
      ]
     },
     "execution_count": 10,
     "metadata": {},
     "output_type": "execute_result"
    }
   ],
   "source": [
    "def compare_expected_actual(name: str, actual_sample_variants: Set[str]) -> pd.DataFrame:\n",
    "    number_expected = len(expected_sample_variants)\n",
    "    number_actual = len(actual_sample_variants)\n",
    "\n",
    "    true_positives = actual_sample_variants & expected_sample_variants\n",
    "    false_negatives = expected_sample_variants - actual_sample_variants\n",
    "    false_positives = actual_sample_variants - expected_sample_variants\n",
    "    # I cannot get true negatives since I would need to know the total number of negatives (i.e., all possible \n",
    "    #  variants with respect to the reference genome that were not simulated). This would be a finite, but \n",
    "    #  very very large number (and I haven't worked out how to calculate it).\n",
    "    # For example, one negative is Sample:1:A:T, another negative is Sample:1:AG:TT, and so on for the entire \n",
    "    # length of the genome.\n",
    "    # true_negatives = set()\n",
    "\n",
    "    sensitivity = len(true_positives) / (len(true_positives) + len(false_negatives))\n",
    "    precision = len(true_positives) / (len(true_positives) + len(false_positives))\n",
    "    f1_score = 2 * len(true_positives) / (2 * len(true_positives) + len(false_positives) + len(false_negatives))\n",
    "\n",
    "    # Since true_negatives are a very large number, then for all intents and purposes\n",
    "    # specificity will be very very close to 1. So instead of trying to calculate it\n",
    "    # I just call it ~1, but it's also not very useful because of this.\n",
    "    #specificity = len(true_negatives) / (len(true_negatives) + len(false_positives))\n",
    "    specificity = '~1 (not calculated)'\n",
    "\n",
    "    print(f'Sensitivity: {sensitivity:0.4f}')\n",
    "    print(f'Specificity: {specificity}')\n",
    "    print(f'Precision: {precision:0.4f}')\n",
    "    print(f'F1 Score: {f1_score:0.4f}')\n",
    "    \n",
    "    comparison_df = pd.DataFrame([{\n",
    "        'Name': name,\n",
    "        'True Positives': len(true_positives),\n",
    "        'True Negatives': pd.NA,\n",
    "        'False Positives': len(false_positives),\n",
    "        'False Negatives': len(false_negatives),\n",
    "        'Sensitivity': sensitivity,\n",
    "        'Specificity': specificity,\n",
    "        'Precision': precision,\n",
    "        'F1 Score': f1_score,\n",
    "    }])\n",
    "    \n",
    "    data = {\n",
    "        'tp': true_positives,\n",
    "        'fp': false_positives,\n",
    "        'fn': false_negatives\n",
    "    }\n",
    "    \n",
    "    return comparison_df, data\n",
    "    \n",
    "comparison_reads_df, data_reads = compare_expected_actual(name=f'{case_name} reads',\n",
    "                                                          actual_sample_variants=actual_sample_variants_reads)\n",
    "comparison_reads_df"
   ]
  },
  {
   "cell_type": "markdown",
   "id": "d5f3bf59-c828-40e1-9394-f0c40a73dfa6",
   "metadata": {
    "papermill": {
     "duration": 0.011398,
     "end_time": "2022-03-09T15:42:05.677008",
     "exception": false,
     "start_time": "2022-03-09T15:42:05.665610",
     "status": "completed"
    },
    "tags": []
   },
   "source": [
    "## 3.2. Compare with assemblies index"
   ]
  },
  {
   "cell_type": "markdown",
   "id": "8d3e6f88",
   "metadata": {
    "tags": [
     "papermill-error-cell-tag"
    ]
   },
   "source": [
    "<span id=\"papermill-error-cell\" style=\"color:red; font-family:Helvetica Neue, Helvetica, Arial, sans-serif; font-size:2em;\">Execution using papermill encountered an exception here and stopped:</span>"
   ]
  },
  {
   "cell_type": "code",
   "execution_count": 11,
   "id": "341de1ba-a120-471c-97f8-f85537dca10b",
   "metadata": {
    "execution": {
     "iopub.execute_input": "2022-03-09T15:42:05.723840Z",
     "iopub.status.busy": "2022-03-09T15:42:05.722717Z",
     "iopub.status.idle": "2022-03-09T15:42:06.147677Z",
     "shell.execute_reply": "2022-03-09T15:42:06.146608Z"
    },
    "papermill": {
     "duration": 0.461718,
     "end_time": "2022-03-09T15:42:06.148595",
     "exception": true,
     "start_time": "2022-03-09T15:42:05.686877",
     "status": "failed"
    },
    "tags": []
   },
   "outputs": [
    {
     "ename": "ZeroDivisionError",
     "evalue": "division by zero",
     "output_type": "error",
     "traceback": [
      "\u001b[0;31m---------------------------------------------------------------------------\u001b[0m",
      "\u001b[0;31mZeroDivisionError\u001b[0m                         Traceback (most recent call last)",
      "Input \u001b[0;32mIn [11]\u001b[0m, in \u001b[0;36m<module>\u001b[0;34m\u001b[0m\n\u001b[0;32m----> 1\u001b[0m comparison_assemblies_df, data_assemblies \u001b[38;5;241m=\u001b[39m \u001b[43mcompare_expected_actual\u001b[49m\u001b[43m(\u001b[49m\u001b[43mname\u001b[49m\u001b[38;5;241;43m=\u001b[39;49m\u001b[38;5;124;43mf\u001b[39;49m\u001b[38;5;124;43m'\u001b[39;49m\u001b[38;5;132;43;01m{\u001b[39;49;00m\u001b[43mcase_name\u001b[49m\u001b[38;5;132;43;01m}\u001b[39;49;00m\u001b[38;5;124;43m assemblies\u001b[39;49m\u001b[38;5;124;43m'\u001b[39;49m\u001b[43m,\u001b[49m\n\u001b[1;32m      2\u001b[0m \u001b[43m                                                                    \u001b[49m\u001b[43mactual_sample_variants\u001b[49m\u001b[38;5;241;43m=\u001b[39;49m\u001b[43mactual_sample_variants_assemblies\u001b[49m\u001b[43m)\u001b[49m\n\u001b[1;32m      3\u001b[0m comparison_assemblies_df\n",
      "Input \u001b[0;32mIn [10]\u001b[0m, in \u001b[0;36mcompare_expected_actual\u001b[0;34m(name, actual_sample_variants)\u001b[0m\n\u001b[1;32m      8\u001b[0m \u001b[38;5;66;03m# I cannot get true negatives since I would need to know the total number of negatives (i.e., all possible \u001b[39;00m\n\u001b[1;32m      9\u001b[0m \u001b[38;5;66;03m#  variants with respect to the reference genome that were not simulated). This would be a finite, but \u001b[39;00m\n\u001b[1;32m     10\u001b[0m \u001b[38;5;66;03m#  very very large number (and I haven't worked out how to calculate it).\u001b[39;00m\n\u001b[1;32m     11\u001b[0m \u001b[38;5;66;03m# For example, one negative is Sample:1:A:T, another negative is Sample:1:AG:TT, and so on for the entire \u001b[39;00m\n\u001b[1;32m     12\u001b[0m \u001b[38;5;66;03m# length of the genome.\u001b[39;00m\n\u001b[1;32m     13\u001b[0m \u001b[38;5;66;03m# true_negatives = set()\u001b[39;00m\n\u001b[1;32m     15\u001b[0m sensitivity \u001b[38;5;241m=\u001b[39m \u001b[38;5;28mlen\u001b[39m(true_positives) \u001b[38;5;241m/\u001b[39m (\u001b[38;5;28mlen\u001b[39m(true_positives) \u001b[38;5;241m+\u001b[39m \u001b[38;5;28mlen\u001b[39m(false_negatives))\n\u001b[0;32m---> 16\u001b[0m precision \u001b[38;5;241m=\u001b[39m \u001b[38;5;28;43mlen\u001b[39;49m\u001b[43m(\u001b[49m\u001b[43mtrue_positives\u001b[49m\u001b[43m)\u001b[49m\u001b[43m \u001b[49m\u001b[38;5;241;43m/\u001b[39;49m\u001b[43m \u001b[49m\u001b[43m(\u001b[49m\u001b[38;5;28;43mlen\u001b[39;49m\u001b[43m(\u001b[49m\u001b[43mtrue_positives\u001b[49m\u001b[43m)\u001b[49m\u001b[43m \u001b[49m\u001b[38;5;241;43m+\u001b[39;49m\u001b[43m \u001b[49m\u001b[38;5;28;43mlen\u001b[39;49m\u001b[43m(\u001b[49m\u001b[43mfalse_positives\u001b[49m\u001b[43m)\u001b[49m\u001b[43m)\u001b[49m\n\u001b[1;32m     17\u001b[0m f1_score \u001b[38;5;241m=\u001b[39m \u001b[38;5;241m2\u001b[39m \u001b[38;5;241m*\u001b[39m \u001b[38;5;28mlen\u001b[39m(true_positives) \u001b[38;5;241m/\u001b[39m (\u001b[38;5;241m2\u001b[39m \u001b[38;5;241m*\u001b[39m \u001b[38;5;28mlen\u001b[39m(true_positives) \u001b[38;5;241m+\u001b[39m \u001b[38;5;28mlen\u001b[39m(false_positives) \u001b[38;5;241m+\u001b[39m \u001b[38;5;28mlen\u001b[39m(false_negatives))\n\u001b[1;32m     19\u001b[0m \u001b[38;5;66;03m# Since true_negatives are a very large number, then for all intents and purposes\u001b[39;00m\n\u001b[1;32m     20\u001b[0m \u001b[38;5;66;03m# specificity will be very very close to 1. So instead of trying to calculate it\u001b[39;00m\n\u001b[1;32m     21\u001b[0m \u001b[38;5;66;03m# I just call it ~1, but it's also not very useful because of this.\u001b[39;00m\n\u001b[1;32m     22\u001b[0m \u001b[38;5;66;03m#specificity = len(true_negatives) / (len(true_negatives) + len(false_positives))\u001b[39;00m\n",
      "\u001b[0;31mZeroDivisionError\u001b[0m: division by zero"
     ]
    }
   ],
   "source": [
    "comparison_assemblies_df, data_assemblies = compare_expected_actual(name=f'{case_name} assemblies',\n",
    "                                                                    actual_sample_variants=actual_sample_variants_assemblies)\n",
    "comparison_assemblies_df"
   ]
  },
  {
   "cell_type": "markdown",
   "id": "13ddcf68-f5d4-494f-8a13-e9325390b953",
   "metadata": {
    "papermill": {
     "duration": null,
     "end_time": null,
     "exception": null,
     "start_time": null,
     "status": "pending"
    },
    "tags": []
   },
   "source": [
    "## 3.3. Combine results"
   ]
  },
  {
   "cell_type": "code",
   "execution_count": null,
   "id": "17df418e-5244-4000-b9f9-2f35f8ce998f",
   "metadata": {
    "papermill": {
     "duration": null,
     "end_time": null,
     "exception": null,
     "start_time": null,
     "status": "pending"
    },
    "tags": []
   },
   "outputs": [],
   "source": [
    "results_df = pd.concat([comparison_reads_df, comparison_assemblies_df])\n",
    "results_df"
   ]
  },
  {
   "cell_type": "code",
   "execution_count": null,
   "id": "20211251-04f9-4a94-ae10-473c6d52aaf2",
   "metadata": {
    "papermill": {
     "duration": null,
     "end_time": null,
     "exception": null,
     "start_time": null,
     "status": "pending"
    },
    "tags": []
   },
   "outputs": [],
   "source": [
    "results_df_output = simulation_dir_path / 'variants-comparison.tsv'\n",
    "results_df.to_csv(results_df_output, sep='\\t', index=False)"
   ]
  }
 ],
 "metadata": {
  "kernelspec": {
   "display_name": "Python 3 (ipykernel)",
   "language": "python",
   "name": "python3"
  },
  "language_info": {
   "codemirror_mode": {
    "name": "ipython",
    "version": 3
   },
   "file_extension": ".py",
   "mimetype": "text/x-python",
   "name": "python",
   "nbconvert_exporter": "python",
   "pygments_lexer": "ipython3",
   "version": "3.8.12"
  },
  "papermill": {
   "default_parameters": {},
   "duration": 19.121643,
   "end_time": "2022-03-09T15:42:07.694796",
   "environment_variables": {},
   "exception": true,
   "input_path": "template-4-variants-comparison.ipynb",
   "output_path": "4-variants-comparison.simulation-alpha-10.ipynb",
   "parameters": {
    "iterations": 3,
    "mincov": 10,
    "read_coverage": 30,
    "simulation_dir": "simulations/alpha-10-cov-30",
    "sub_alpha": 10
   },
   "start_time": "2022-03-09T15:41:48.573153",
   "version": "2.3.4"
  }
 },
 "nbformat": 4,
 "nbformat_minor": 5
}