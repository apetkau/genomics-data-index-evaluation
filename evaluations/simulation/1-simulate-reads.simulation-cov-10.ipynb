{
 "cells": [
  {
   "cell_type": "markdown",
   "id": "39afc998-7d9f-4d4e-9147-fb6198f83f2d",
   "metadata": {
    "papermill": {
     "duration": 0.017683,
     "end_time": "2021-08-27T18:45:11.818203",
     "exception": false,
     "start_time": "2021-08-27T18:45:11.800520",
     "status": "completed"
    },
    "tags": []
   },
   "source": [
    "# 1. Parameters"
   ]
  },
  {
   "cell_type": "code",
   "execution_count": 1,
   "id": "8eee723b-55a2-4355-b867-c5e682a9f800",
   "metadata": {
    "execution": {
     "iopub.execute_input": "2021-08-27T18:45:11.965784Z",
     "iopub.status.busy": "2021-08-27T18:45:11.963531Z",
     "iopub.status.idle": "2021-08-27T18:45:12.010038Z",
     "shell.execute_reply": "2021-08-27T18:45:12.008748Z"
    },
    "papermill": {
     "duration": 0.182274,
     "end_time": "2021-08-27T18:45:12.010291",
     "exception": false,
     "start_time": "2021-08-27T18:45:11.828017",
     "status": "completed"
    },
    "tags": [
     "parameters"
    ]
   },
   "outputs": [],
   "source": [
    "# Defaults\n",
    "\n",
    "## Directories\n",
    "simulation_dir <- \"simulations/unset\"\n",
    "reference_file <- \"input/S_HeidelbergSL476.fasta.gz\"\n",
    "initial_tree_file <- \"input/salmonella.tre\"\n",
    "reference_name <- \"NC_011083\"\n",
    "\n",
    "## Simulation parameters\n",
    "sub_lambda <- 1e-2\n",
    "sub_mu <- 1\n",
    "sub_invariant <- 0.9\n",
    "ins_rate <- 1e-4\n",
    "ins_max_length <- 60\n",
    "ins_a <- 1.6\n",
    "del_rate <- 1e-4\n",
    "del_max_length <- 60\n",
    "del_a <- 1.6\n",
    "\n",
    "## Read simulation information\n",
    "read_coverage <- 5\n",
    "read_length <- 250\n",
    "\n",
    "## Other\n",
    "ncores <- 48"
   ]
  },
  {
   "cell_type": "code",
   "execution_count": 2,
   "id": "fdabe058",
   "metadata": {
    "execution": {
     "iopub.execute_input": "2021-08-27T18:45:12.086239Z",
     "iopub.status.busy": "2021-08-27T18:45:12.044333Z",
     "iopub.status.idle": "2021-08-27T18:45:12.097400Z",
     "shell.execute_reply": "2021-08-27T18:45:12.096251Z"
    },
    "papermill": {
     "duration": 0.069939,
     "end_time": "2021-08-27T18:45:12.097621",
     "exception": false,
     "start_time": "2021-08-27T18:45:12.027682",
     "status": "completed"
    },
    "tags": [
     "injected-parameters"
    ]
   },
   "outputs": [],
   "source": [
    "# Parameters\n",
    "read_coverage = 10\n",
    "simulation_dir = \"simulations/cov-10\"\n"
   ]
  },
  {
   "cell_type": "code",
   "execution_count": 3,
   "id": "845350c4-9369-4350-bcce-504d05f5ff55",
   "metadata": {
    "execution": {
     "iopub.execute_input": "2021-08-27T18:45:12.131443Z",
     "iopub.status.busy": "2021-08-27T18:45:12.127790Z",
     "iopub.status.idle": "2021-08-27T18:45:12.160284Z",
     "shell.execute_reply": "2021-08-27T18:45:12.159102Z"
    },
    "papermill": {
     "duration": 0.048682,
     "end_time": "2021-08-27T18:45:12.160504",
     "exception": false,
     "start_time": "2021-08-27T18:45:12.111822",
     "status": "completed"
    },
    "tags": []
   },
   "outputs": [
    {
     "name": "stdout",
     "output_type": "stream",
     "text": [
      "[1] \"simulations/cov-10/simulated_data\"\n"
     ]
    },
    {
     "name": "stdout",
     "output_type": "stream",
     "text": [
      "[1] \"simulations/cov-10/simulated_data/haplotypes\"\n"
     ]
    }
   ],
   "source": [
    "output_dir <- file.path(simulation_dir, \"simulated_data\")\n",
    "output_vcf_prefix <- file.path(output_dir, \"haplotypes\")\n",
    "reads_data_initial_prefix <- file.path(output_dir, \"reads_initial\", \"data\")\n",
    "print(output_dir)\n",
    "print(output_vcf_prefix)"
   ]
  },
  {
   "cell_type": "markdown",
   "id": "noticed-coating",
   "metadata": {
    "papermill": {
     "duration": 0.009598,
     "end_time": "2021-08-27T18:45:12.186522",
     "exception": false,
     "start_time": "2021-08-27T18:45:12.176924",
     "status": "completed"
    },
    "tags": []
   },
   "source": [
    "# 2. Generate simulated data\n",
    "\n",
    "This simulates *Salmonella* data using a reference genome and a tree."
   ]
  },
  {
   "cell_type": "code",
   "execution_count": 4,
   "id": "bright-polymer",
   "metadata": {
    "execution": {
     "iopub.execute_input": "2021-08-27T18:45:12.214670Z",
     "iopub.status.busy": "2021-08-27T18:45:12.212051Z",
     "iopub.status.idle": "2021-08-27T18:45:12.307971Z",
     "shell.execute_reply": "2021-08-27T18:45:12.307021Z"
    },
    "papermill": {
     "duration": 0.115041,
     "end_time": "2021-08-27T18:45:12.308192",
     "exception": false,
     "start_time": "2021-08-27T18:45:12.193151",
     "status": "completed"
    },
    "tags": []
   },
   "outputs": [
    {
     "data": {
      "text/html": [
       "TRUE"
      ],
      "text/latex": [
       "TRUE"
      ],
      "text/markdown": [
       "TRUE"
      ],
      "text/plain": [
       "[1] TRUE"
      ]
     },
     "metadata": {},
     "output_type": "display_data"
    }
   ],
   "source": [
    "library(jackalope)\n",
    "\n",
    "# Make sure we've complied with openmp\n",
    "jackalope:::using_openmp()"
   ]
  },
  {
   "cell_type": "code",
   "execution_count": 5,
   "id": "chronic-region",
   "metadata": {
    "execution": {
     "iopub.execute_input": "2021-08-27T18:45:12.342989Z",
     "iopub.status.busy": "2021-08-27T18:45:12.340108Z",
     "iopub.status.idle": "2021-08-27T18:45:12.429076Z",
     "shell.execute_reply": "2021-08-27T18:45:12.427986Z"
    },
    "papermill": {
     "duration": 0.104482,
     "end_time": "2021-08-27T18:45:12.429290",
     "exception": false,
     "start_time": "2021-08-27T18:45:12.324808",
     "status": "completed"
    },
    "tags": []
   },
   "outputs": [
    {
     "data": {
      "text/plain": [
       "< Set of 1 chromosomes >\n",
       "# Total size: 4,888,768 bp\n",
       "  name                             chromosome                             length\n",
       "NC_011083  AGAGATTACGTCTGGTTGCAAGAGATCA...ATAACGTGCTGTAATTTTTAAAATAATA   4888768"
      ]
     },
     "metadata": {},
     "output_type": "display_data"
    }
   ],
   "source": [
    "reference <- read_fasta(reference_file)\n",
    "reference$set_names(c(reference_name))\n",
    "reference_len <- 4888768 # I don't know how to programatically get this in R\n",
    "reference"
   ]
  },
  {
   "cell_type": "code",
   "execution_count": 6,
   "id": "documented-helmet",
   "metadata": {
    "execution": {
     "iopub.execute_input": "2021-08-27T18:45:12.472945Z",
     "iopub.status.busy": "2021-08-27T18:45:12.461491Z",
     "iopub.status.idle": "2021-08-27T18:45:12.544006Z",
     "shell.execute_reply": "2021-08-27T18:45:12.542891Z"
    },
    "papermill": {
     "duration": 0.09822,
     "end_time": "2021-08-27T18:45:12.544224",
     "exception": false,
     "start_time": "2021-08-27T18:45:12.446004",
     "status": "completed"
    },
    "tags": []
   },
   "outputs": [
    {
     "data": {
      "text/plain": [
       "\n",
       "Phylogenetic tree with 60 tips and 59 internal nodes.\n",
       "\n",
       "Tip labels:\n",
       "  reference, SH12-013, SH12-014, SH10-015, SH10-014, SH11-002, ...\n",
       "Node labels:\n",
       "  Root, 1.000000, 0.000000, 0.000000, 1.000000, 0.000000, ...\n",
       "\n",
       "Rooted; includes branch lengths."
      ]
     },
     "metadata": {},
     "output_type": "display_data"
    }
   ],
   "source": [
    "library(ape)\n",
    "\n",
    "tree <- read.tree(initial_tree_file)\n",
    "tree <- root(tree, \"reference\", resolve.root=TRUE)\n",
    "tree"
   ]
  },
  {
   "cell_type": "code",
   "execution_count": 7,
   "id": "proved-silver",
   "metadata": {
    "execution": {
     "iopub.execute_input": "2021-08-27T18:45:12.581595Z",
     "iopub.status.busy": "2021-08-27T18:45:12.578440Z",
     "iopub.status.idle": "2021-08-27T18:45:19.442377Z",
     "shell.execute_reply": "2021-08-27T18:45:19.441152Z"
    },
    "papermill": {
     "duration": 6.880225,
     "end_time": "2021-08-27T18:45:19.442638",
     "exception": false,
     "start_time": "2021-08-27T18:45:12.562413",
     "status": "completed"
    },
    "tags": []
   },
   "outputs": [
    {
     "data": {
      "text/plain": [
       "                              << haplotypes object >>\n",
       "# Haplotypes: 60\n",
       "# Mutations: 224,245\n",
       "\n",
       "                          << Reference genome info: >>\n",
       "< Set of 1 chromosomes >\n",
       "# Total size: 4,888,768 bp\n",
       "  name                             chromosome                             length\n",
       "NC_011083  AGAGATTACGTCTGGTTGCAAGAGATCA...ATAACGTGCTGTAATTTTTAAAATAATA   4888768"
      ]
     },
     "metadata": {},
     "output_type": "display_data"
    }
   ],
   "source": [
    "sub <- sub_JC69(lambda = sub_lambda, mu = sub_mu, invariant = sub_invariant)\n",
    "ins <- indels(rate = ins_rate, max_length = ins_max_length, a = ins_a)\n",
    "del <- indels(rate = del_rate, max_length = del_max_length, a = del_a)\n",
    "\n",
    "ref_haplotypes <- create_haplotypes(reference, haps_phylo(tree), sub=sub, ins=ins, del=del)\n",
    "ref_haplotypes"
   ]
  },
  {
   "cell_type": "markdown",
   "id": "535fa02d-c76c-4067-9582-74f3694d16ea",
   "metadata": {
    "papermill": {
     "duration": 0.010638,
     "end_time": "2021-08-27T18:45:19.472131",
     "exception": false,
     "start_time": "2021-08-27T18:45:19.461493",
     "status": "completed"
    },
    "tags": []
   },
   "source": [
    "# 3. Write simulated data"
   ]
  },
  {
   "cell_type": "code",
   "execution_count": 8,
   "id": "smoking-geology",
   "metadata": {
    "execution": {
     "iopub.execute_input": "2021-08-27T18:45:19.521925Z",
     "iopub.status.busy": "2021-08-27T18:45:19.520430Z",
     "iopub.status.idle": "2021-08-27T18:45:19.892717Z",
     "shell.execute_reply": "2021-08-27T18:45:19.891591Z"
    },
    "papermill": {
     "duration": 0.412702,
     "end_time": "2021-08-27T18:45:19.892953",
     "exception": false,
     "start_time": "2021-08-27T18:45:19.480251",
     "status": "completed"
    },
    "tags": []
   },
   "outputs": [],
   "source": [
    "write_vcf(ref_haplotypes, out_prefix=output_vcf_prefix, compress=TRUE)"
   ]
  },
  {
   "cell_type": "code",
   "execution_count": 9,
   "id": "d2657fc5-481e-4b24-bbf8-78c02ee735ce",
   "metadata": {
    "execution": {
     "iopub.execute_input": "2021-08-27T18:45:19.934058Z",
     "iopub.status.busy": "2021-08-27T18:45:19.930080Z",
     "iopub.status.idle": "2021-08-27T18:45:23.269796Z",
     "shell.execute_reply": "2021-08-27T18:45:23.267895Z"
    },
    "papermill": {
     "duration": 3.358428,
     "end_time": "2021-08-27T18:45:23.269932",
     "exception": false,
     "start_time": "2021-08-27T18:45:19.911504",
     "status": "completed"
    },
    "tags": []
   },
   "outputs": [],
   "source": [
    "assemblies_prefix = file.path(output_dir, \"assemblies\", \"data\")\n",
    "\n",
    "write_fasta(ref_haplotypes, out_prefix=assemblies_prefix,\n",
    "            compress=TRUE, n_threads=ncores, overwrite=TRUE)"
   ]
  },
  {
   "cell_type": "code",
   "execution_count": 10,
   "id": "continent-freeze",
   "metadata": {
    "execution": {
     "iopub.execute_input": "2021-08-27T18:45:23.300918Z",
     "iopub.status.busy": "2021-08-27T18:45:23.296870Z",
     "iopub.status.idle": "2021-08-27T18:52:38.330828Z",
     "shell.execute_reply": "2021-08-27T18:52:38.328811Z"
    },
    "papermill": {
     "duration": 435.049836,
     "end_time": "2021-08-27T18:52:38.331344",
     "exception": false,
     "start_time": "2021-08-27T18:45:23.281508",
     "status": "completed"
    },
    "tags": []
   },
   "outputs": [
    {
     "name": "stdout",
     "output_type": "stream",
     "text": [
      "[1] \"Number of reads for coverage 10X and read length 250 over 60 samples with respect to reference with length 4888768: 11733043\"\n"
     ]
    }
   ],
   "source": [
    "n_samples <- length(tree$tip)\n",
    "n_reads <- round((reference$sizes() * read_coverage * n_samples) / read_length)\n",
    "print(sprintf(\"Number of reads for coverage %sX and read length %s over %s samples with respect to reference with length %s: %s\", \n",
    "              read_coverage, read_length, n_samples, reference_len, n_reads))\n",
    "\n",
    "illumina(ref_haplotypes, out_prefix = reads_data_initial_prefix, sep_files=TRUE, n_reads = n_reads,\n",
    "         frag_mean = read_length * 2 + 50, frag_sd = 100,\n",
    "         compress=TRUE, comp_method=\"bgzip\", n_threads=ncores,\n",
    "         paired=TRUE, read_length = read_length)"
   ]
  },
  {
   "cell_type": "code",
   "execution_count": 11,
   "id": "israeli-unknown",
   "metadata": {
    "execution": {
     "iopub.execute_input": "2021-08-27T18:52:38.364972Z",
     "iopub.status.busy": "2021-08-27T18:52:38.363915Z",
     "iopub.status.idle": "2021-08-27T18:52:38.400803Z",
     "shell.execute_reply": "2021-08-27T18:52:38.399632Z"
    },
    "papermill": {
     "duration": 0.050617,
     "end_time": "2021-08-27T18:52:38.401030",
     "exception": false,
     "start_time": "2021-08-27T18:52:38.350413",
     "status": "completed"
    },
    "tags": []
   },
   "outputs": [
    {
     "name": "stdout",
     "output_type": "stream",
     "text": [
      "[1] \"Removing: simulations/cov-10/simulated_data/reads_initial/data_reference_R1.fq.gz\"\n"
     ]
    },
    {
     "name": "stdout",
     "output_type": "stream",
     "text": [
      "[1] \"Removing: simulations/cov-10/simulated_data/reads_initial/data_reference_R2.fq.gz\"\n"
     ]
    }
   ],
   "source": [
    "# Remove the simulated reads for the reference genome since I don't want these in the tree\n",
    "ref1 <- paste(toString(reads_data_initial_prefix), \"_reference_R1.fq.gz\", sep=\"\")\n",
    "ref2 <- paste(toString(reads_data_initial_prefix), \"_reference_R2.fq.gz\", sep=\"\")\n",
    "if (file.exists(ref1)) {\n",
    "    file.remove(ref1)\n",
    "    print(sprintf(\"Removing: %s\", ref1))\n",
    "}\n",
    "if (file.exists(ref2)) {\n",
    "    file.remove(ref2)\n",
    "    print(sprintf(\"Removing: %s\", ref2))\n",
    "}"
   ]
  },
  {
   "cell_type": "code",
   "execution_count": 12,
   "id": "likely-elite",
   "metadata": {
    "execution": {
     "iopub.execute_input": "2021-08-27T18:52:38.441033Z",
     "iopub.status.busy": "2021-08-27T18:52:38.437949Z",
     "iopub.status.idle": "2021-08-27T18:52:38.461885Z",
     "shell.execute_reply": "2021-08-27T18:52:38.460739Z"
    },
    "papermill": {
     "duration": 0.041737,
     "end_time": "2021-08-27T18:52:38.462104",
     "exception": false,
     "start_time": "2021-08-27T18:52:38.420367",
     "status": "completed"
    },
    "tags": []
   },
   "outputs": [
    {
     "name": "stdout",
     "output_type": "stream",
     "text": [
      "[1] \"Removing: simulations/cov-10/simulated_data/assemblies/data__reference.fa.gz\"\n"
     ]
    }
   ],
   "source": [
    "# Remove the new reference assembly genome since I don't need it\n",
    "ref1 <- paste(toString(assemblies_prefix), \"__reference.fa.gz\", sep=\"\")\n",
    "if (file.exists(ref1)) {\n",
    "    file.remove(ref1)\n",
    "    print(sprintf(\"Removing: %s\", ref1))\n",
    "}"
   ]
  },
  {
   "cell_type": "code",
   "execution_count": null,
   "id": "6ab27399-288a-4067-a812-d946410658a5",
   "metadata": {
    "papermill": {
     "duration": 0.011566,
     "end_time": "2021-08-27T18:52:38.494120",
     "exception": false,
     "start_time": "2021-08-27T18:52:38.482554",
     "status": "completed"
    },
    "tags": []
   },
   "outputs": [],
   "source": []
  }
 ],
 "metadata": {
  "kernelspec": {
   "display_name": "R",
   "language": "R",
   "name": "ir"
  },
  "language_info": {
   "codemirror_mode": "r",
   "file_extension": ".r",
   "mimetype": "text/x-r-source",
   "name": "R",
   "pygments_lexer": "r",
   "version": "4.1.1"
  },
  "papermill": {
   "default_parameters": {},
   "duration": 448.215847,
   "end_time": "2021-08-27T18:52:39.020804",
   "environment_variables": {},
   "exception": null,
   "input_path": "template-1-simulate-reads.ipynb",
   "output_path": "1-simulate-reads.simulation-cov-10.ipynb",
   "parameters": {
    "read_coverage": 10,
    "simulation_dir": "simulations/cov-10"
   },
   "start_time": "2021-08-27T18:45:10.804957",
   "version": "2.3.3"
  }
 },
 "nbformat": 4,
 "nbformat_minor": 5
}