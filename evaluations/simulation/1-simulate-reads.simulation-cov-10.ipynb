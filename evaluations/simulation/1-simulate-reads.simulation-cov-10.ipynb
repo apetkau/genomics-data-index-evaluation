{
 "cells": [
  {
   "cell_type": "markdown",
   "id": "39afc998-7d9f-4d4e-9147-fb6198f83f2d",
   "metadata": {
    "papermill": {
     "duration": 0.017637,
     "end_time": "2021-09-02T02:39:36.508119",
     "exception": false,
     "start_time": "2021-09-02T02:39:36.490482",
     "status": "completed"
    },
    "tags": []
   },
   "source": [
    "# 1. Parameters"
   ]
  },
  {
   "cell_type": "code",
   "execution_count": 1,
   "id": "8eee723b-55a2-4355-b867-c5e682a9f800",
   "metadata": {
    "execution": {
     "iopub.execute_input": "2021-09-02T02:39:36.632937Z",
     "iopub.status.busy": "2021-09-02T02:39:36.631141Z",
     "iopub.status.idle": "2021-09-02T02:39:36.680898Z",
     "shell.execute_reply": "2021-09-02T02:39:36.679520Z"
    },
    "papermill": {
     "duration": 0.163336,
     "end_time": "2021-09-02T02:39:36.681174",
     "exception": false,
     "start_time": "2021-09-02T02:39:36.517838",
     "status": "completed"
    },
    "tags": [
     "parameters"
    ]
   },
   "outputs": [],
   "source": [
    "# Defaults\n",
    "\n",
    "## Random seed\n",
    "random_seed <- 25524\n",
    "\n",
    "## Directories\n",
    "simulation_dir <- \"simulations/unset\"\n",
    "reference_file <- \"simulations/reference/reference.fa.gz\"\n",
    "initial_tree_file <- \"input/salmonella.tre\"\n",
    "\n",
    "## Simulation parameters\n",
    "sub_lambda <- 1e-2\n",
    "sub_pi_tcag <- c(0.1, 0.2, 0.3, 0.4)\n",
    "sub_alpha <- 0.2\n",
    "sub_beta <- 0.1\n",
    "sub_mu <- 1\n",
    "sub_invariant <- 0.3\n",
    "ins_rate <- 1e-4\n",
    "ins_max_length <- 60\n",
    "ins_a <- 1.6\n",
    "del_rate <- 1e-4\n",
    "del_max_length <- 60\n",
    "del_a <- 1.6\n",
    "\n",
    "## Read simulation information\n",
    "read_coverage <- 30\n",
    "read_length <- 250\n",
    "\n",
    "## Other\n",
    "ncores <- 48"
   ]
  },
  {
   "cell_type": "code",
   "execution_count": 2,
   "id": "6ea61232",
   "metadata": {
    "execution": {
     "iopub.execute_input": "2021-09-02T02:39:36.749201Z",
     "iopub.status.busy": "2021-09-02T02:39:36.711573Z",
     "iopub.status.idle": "2021-09-02T02:39:36.763199Z",
     "shell.execute_reply": "2021-09-02T02:39:36.761906Z"
    },
    "papermill": {
     "duration": 0.065616,
     "end_time": "2021-09-02T02:39:36.763440",
     "exception": false,
     "start_time": "2021-09-02T02:39:36.697824",
     "status": "completed"
    },
    "tags": [
     "injected-parameters"
    ]
   },
   "outputs": [],
   "source": [
    "# Parameters\n",
    "read_coverage = 10\n",
    "mincov = 10\n",
    "simulation_dir = \"simulations/cov-10\"\n",
    "iterations = 3\n"
   ]
  },
  {
   "cell_type": "code",
   "execution_count": 3,
   "id": "845350c4-9369-4350-bcce-504d05f5ff55",
   "metadata": {
    "execution": {
     "iopub.execute_input": "2021-09-02T02:39:36.795229Z",
     "iopub.status.busy": "2021-09-02T02:39:36.793079Z",
     "iopub.status.idle": "2021-09-02T02:39:36.824847Z",
     "shell.execute_reply": "2021-09-02T02:39:36.823923Z"
    },
    "papermill": {
     "duration": 0.045719,
     "end_time": "2021-09-02T02:39:36.825063",
     "exception": false,
     "start_time": "2021-09-02T02:39:36.779344",
     "status": "completed"
    },
    "tags": []
   },
   "outputs": [
    {
     "name": "stdout",
     "output_type": "stream",
     "text": [
      "[1] \"simulations/cov-10/simulated_data\"\n"
     ]
    },
    {
     "name": "stdout",
     "output_type": "stream",
     "text": [
      "[1] \"simulations/cov-10/simulated_data/haplotypes\"\n"
     ]
    }
   ],
   "source": [
    "output_dir <- file.path(simulation_dir, \"simulated_data\")\n",
    "output_vcf_prefix <- file.path(output_dir, \"haplotypes\")\n",
    "reads_data_initial_prefix <- file.path(output_dir, \"reads_initial\", \"data\")\n",
    "set.seed(random_seed)\n",
    "print(output_dir)\n",
    "print(output_vcf_prefix)"
   ]
  },
  {
   "cell_type": "markdown",
   "id": "noticed-coating",
   "metadata": {
    "papermill": {
     "duration": 0.009438,
     "end_time": "2021-09-02T02:39:36.850998",
     "exception": false,
     "start_time": "2021-09-02T02:39:36.841560",
     "status": "completed"
    },
    "tags": []
   },
   "source": [
    "# 2. Generate simulated data\n",
    "\n",
    "This simulates *Salmonella* data using a reference genome and a tree."
   ]
  },
  {
   "cell_type": "code",
   "execution_count": 4,
   "id": "bright-polymer",
   "metadata": {
    "execution": {
     "iopub.execute_input": "2021-09-02T02:39:36.872557Z",
     "iopub.status.busy": "2021-09-02T02:39:36.869732Z",
     "iopub.status.idle": "2021-09-02T02:39:36.976350Z",
     "shell.execute_reply": "2021-09-02T02:39:36.975159Z"
    },
    "papermill": {
     "duration": 0.118423,
     "end_time": "2021-09-02T02:39:36.976592",
     "exception": false,
     "start_time": "2021-09-02T02:39:36.858169",
     "status": "completed"
    },
    "tags": []
   },
   "outputs": [
    {
     "data": {
      "text/html": [
       "TRUE"
      ],
      "text/latex": [
       "TRUE"
      ],
      "text/markdown": [
       "TRUE"
      ],
      "text/plain": [
       "[1] TRUE"
      ]
     },
     "metadata": {},
     "output_type": "display_data"
    }
   ],
   "source": [
    "library(jackalope)\n",
    "\n",
    "# Make sure we've complied with openmp\n",
    "jackalope:::using_openmp()"
   ]
  },
  {
   "cell_type": "code",
   "execution_count": 5,
   "id": "303635b1-41dc-4917-8e90-30832a9acafd",
   "metadata": {
    "execution": {
     "iopub.execute_input": "2021-09-02T02:39:37.009192Z",
     "iopub.status.busy": "2021-09-02T02:39:37.006987Z",
     "iopub.status.idle": "2021-09-02T02:39:37.036121Z",
     "shell.execute_reply": "2021-09-02T02:39:37.035292Z"
    },
    "papermill": {
     "duration": 0.042335,
     "end_time": "2021-09-02T02:39:37.036279",
     "exception": false,
     "start_time": "2021-09-02T02:39:36.993944",
     "status": "completed"
    },
    "tags": []
   },
   "outputs": [
    {
     "data": {
      "text/plain": [
       "< Set of 1 chromosomes >\n",
       "# Total size: 10,834 bp\n",
       "  name                             chromosome                             length\n",
       "chrom0     GTATTGCGAGGGTGGGGGAGTACGGCAG...CAAGAATGCAACCGACTCTGTCGGGACT     10834"
      ]
     },
     "metadata": {},
     "output_type": "display_data"
    }
   ],
   "source": [
    "reference <- read_fasta(reference_file)\n",
    "reference_len <- reference$sizes()\n",
    "reference"
   ]
  },
  {
   "cell_type": "code",
   "execution_count": 6,
   "id": "documented-helmet",
   "metadata": {
    "execution": {
     "iopub.execute_input": "2021-09-02T02:39:37.066269Z",
     "iopub.status.busy": "2021-09-02T02:39:37.064713Z",
     "iopub.status.idle": "2021-09-02T02:39:37.141227Z",
     "shell.execute_reply": "2021-09-02T02:39:37.140096Z"
    },
    "papermill": {
     "duration": 0.089812,
     "end_time": "2021-09-02T02:39:37.141466",
     "exception": false,
     "start_time": "2021-09-02T02:39:37.051654",
     "status": "completed"
    },
    "tags": []
   },
   "outputs": [
    {
     "data": {
      "text/plain": [
       "\n",
       "Phylogenetic tree with 60 tips and 59 internal nodes.\n",
       "\n",
       "Tip labels:\n",
       "  reference, SH12-013, SH12-014, SH10-015, SH10-014, SH11-002, ...\n",
       "Node labels:\n",
       "  Root, 1.000000, 0.000000, 0.000000, 1.000000, 0.000000, ...\n",
       "\n",
       "Rooted; includes branch lengths."
      ]
     },
     "metadata": {},
     "output_type": "display_data"
    }
   ],
   "source": [
    "library(ape)\n",
    "\n",
    "tree <- read.tree(initial_tree_file)\n",
    "tree <- root(tree, \"reference\", resolve.root=TRUE)\n",
    "tree"
   ]
  },
  {
   "cell_type": "code",
   "execution_count": 7,
   "id": "proved-silver",
   "metadata": {
    "execution": {
     "iopub.execute_input": "2021-09-02T02:39:37.174787Z",
     "iopub.status.busy": "2021-09-02T02:39:37.172458Z",
     "iopub.status.idle": "2021-09-02T02:39:37.306439Z",
     "shell.execute_reply": "2021-09-02T02:39:37.305513Z"
    },
    "papermill": {
     "duration": 0.148064,
     "end_time": "2021-09-02T02:39:37.306631",
     "exception": false,
     "start_time": "2021-09-02T02:39:37.158567",
     "status": "completed"
    },
    "tags": []
   },
   "outputs": [
    {
     "data": {
      "text/plain": [
       "                              << haplotypes object >>\n",
       "# Haplotypes: 60\n",
       "# Mutations: 10,109\n",
       "\n",
       "                          << Reference genome info: >>\n",
       "< Set of 1 chromosomes >\n",
       "# Total size: 10,834 bp\n",
       "  name                             chromosome                             length\n",
       "chrom0     GTATTGCGAGGGTGGGGGAGTACGGCAG...CAAGAATGCAACCGACTCTGTCGGGACT     10834"
      ]
     },
     "metadata": {},
     "output_type": "display_data"
    }
   ],
   "source": [
    "sub <- sub_HKY85(pi_tcag = sub_pi_tcag, mu = sub_mu,\n",
    "                 alpha = sub_alpha, beta = sub_beta, gamma_k = 5,\n",
    "                 invariant = sub_invariant)\n",
    "ins <- indels(rate = ins_rate, max_length = ins_max_length, a = ins_a)\n",
    "del <- indels(rate = del_rate, max_length = del_max_length, a = del_a)\n",
    "\n",
    "ref_haplotypes <- create_haplotypes(reference, haps_phylo(tree), sub=sub, ins=ins, del=del)\n",
    "ref_haplotypes"
   ]
  },
  {
   "cell_type": "markdown",
   "id": "535fa02d-c76c-4067-9582-74f3694d16ea",
   "metadata": {
    "papermill": {
     "duration": 0.010729,
     "end_time": "2021-09-02T02:39:37.336423",
     "exception": false,
     "start_time": "2021-09-02T02:39:37.325694",
     "status": "completed"
    },
    "tags": []
   },
   "source": [
    "# 3. Write simulated data"
   ]
  },
  {
   "cell_type": "code",
   "execution_count": 8,
   "id": "smoking-geology",
   "metadata": {
    "execution": {
     "iopub.execute_input": "2021-09-02T02:39:37.361575Z",
     "iopub.status.busy": "2021-09-02T02:39:37.358262Z",
     "iopub.status.idle": "2021-09-02T02:39:37.400680Z",
     "shell.execute_reply": "2021-09-02T02:39:37.399560Z"
    },
    "papermill": {
     "duration": 0.056331,
     "end_time": "2021-09-02T02:39:37.400906",
     "exception": false,
     "start_time": "2021-09-02T02:39:37.344575",
     "status": "completed"
    },
    "tags": []
   },
   "outputs": [],
   "source": [
    "write_vcf(ref_haplotypes, out_prefix=output_vcf_prefix, compress=TRUE)"
   ]
  },
  {
   "cell_type": "code",
   "execution_count": 9,
   "id": "d2657fc5-481e-4b24-bbf8-78c02ee735ce",
   "metadata": {
    "execution": {
     "iopub.execute_input": "2021-09-02T02:39:37.437948Z",
     "iopub.status.busy": "2021-09-02T02:39:37.435102Z",
     "iopub.status.idle": "2021-09-02T02:39:37.513547Z",
     "shell.execute_reply": "2021-09-02T02:39:37.510829Z"
    },
    "papermill": {
     "duration": 0.094686,
     "end_time": "2021-09-02T02:39:37.513733",
     "exception": false,
     "start_time": "2021-09-02T02:39:37.419047",
     "status": "completed"
    },
    "tags": []
   },
   "outputs": [],
   "source": [
    "assemblies_prefix = file.path(output_dir, \"assemblies\", \"data\")\n",
    "\n",
    "write_fasta(ref_haplotypes, out_prefix=assemblies_prefix,\n",
    "            compress=TRUE, n_threads=ncores, overwrite=TRUE)"
   ]
  },
  {
   "cell_type": "code",
   "execution_count": 10,
   "id": "continent-freeze",
   "metadata": {
    "execution": {
     "iopub.execute_input": "2021-09-02T02:39:37.546817Z",
     "iopub.status.busy": "2021-09-02T02:39:37.543735Z",
     "iopub.status.idle": "2021-09-02T02:45:27.561692Z",
     "shell.execute_reply": "2021-09-02T02:45:27.560062Z"
    },
    "papermill": {
     "duration": 350.03246,
     "end_time": "2021-09-02T02:45:27.562119",
     "exception": false,
     "start_time": "2021-09-02T02:39:37.529659",
     "status": "completed"
    },
    "tags": []
   },
   "outputs": [
    {
     "name": "stdout",
     "output_type": "stream",
     "text": [
      "[1] \"Number of reads for coverage 10X and read length 250 over 60 samples with respect to reference with length 10834: 26002\"\n"
     ]
    }
   ],
   "source": [
    "n_samples <- length(tree$tip)\n",
    "n_reads <- round((reference_len * read_coverage * n_samples) / read_length)\n",
    "print(sprintf(\"Number of reads for coverage %sX and read length %s over %s samples with respect to reference with length %s: %s\", \n",
    "              read_coverage, read_length, n_samples, reference_len, n_reads))\n",
    "\n",
    "illumina(ref_haplotypes, out_prefix = reads_data_initial_prefix, sep_files=TRUE, n_reads = n_reads,\n",
    "         frag_mean = read_length * 2 + 50, frag_sd = 100,\n",
    "         compress=TRUE, comp_method=\"bgzip\", n_threads=ncores,\n",
    "         paired=TRUE, read_length = read_length)"
   ]
  },
  {
   "cell_type": "code",
   "execution_count": 11,
   "id": "israeli-unknown",
   "metadata": {
    "execution": {
     "iopub.execute_input": "2021-09-02T02:45:27.599778Z",
     "iopub.status.busy": "2021-09-02T02:45:27.597927Z",
     "iopub.status.idle": "2021-09-02T02:45:27.636883Z",
     "shell.execute_reply": "2021-09-02T02:45:27.635865Z"
    },
    "papermill": {
     "duration": 0.0537,
     "end_time": "2021-09-02T02:45:27.637115",
     "exception": false,
     "start_time": "2021-09-02T02:45:27.583415",
     "status": "completed"
    },
    "tags": []
   },
   "outputs": [
    {
     "name": "stdout",
     "output_type": "stream",
     "text": [
      "[1] \"Removing: simulations/cov-10/simulated_data/reads_initial/data_reference_R1.fq.gz\"\n"
     ]
    },
    {
     "name": "stdout",
     "output_type": "stream",
     "text": [
      "[1] \"Removing: simulations/cov-10/simulated_data/reads_initial/data_reference_R2.fq.gz\"\n"
     ]
    }
   ],
   "source": [
    "# Remove the simulated reads for the reference genome since I don't want these in the tree\n",
    "ref1 <- paste(toString(reads_data_initial_prefix), \"_reference_R1.fq.gz\", sep=\"\")\n",
    "ref2 <- paste(toString(reads_data_initial_prefix), \"_reference_R2.fq.gz\", sep=\"\")\n",
    "if (file.exists(ref1)) {\n",
    "    file.remove(ref1)\n",
    "    print(sprintf(\"Removing: %s\", ref1))\n",
    "}\n",
    "if (file.exists(ref2)) {\n",
    "    file.remove(ref2)\n",
    "    print(sprintf(\"Removing: %s\", ref2))\n",
    "}"
   ]
  },
  {
   "cell_type": "code",
   "execution_count": 12,
   "id": "likely-elite",
   "metadata": {
    "execution": {
     "iopub.execute_input": "2021-09-02T02:45:27.675076Z",
     "iopub.status.busy": "2021-09-02T02:45:27.672332Z",
     "iopub.status.idle": "2021-09-02T02:45:27.694405Z",
     "shell.execute_reply": "2021-09-02T02:45:27.693053Z"
    },
    "papermill": {
     "duration": 0.037672,
     "end_time": "2021-09-02T02:45:27.694553",
     "exception": false,
     "start_time": "2021-09-02T02:45:27.656881",
     "status": "completed"
    },
    "tags": []
   },
   "outputs": [
    {
     "name": "stdout",
     "output_type": "stream",
     "text": [
      "[1] \"Removing: simulations/cov-10/simulated_data/assemblies/data__reference.fa.gz\"\n"
     ]
    }
   ],
   "source": [
    "# Remove the new reference assembly genome since I don't need it\n",
    "ref1 <- paste(toString(assemblies_prefix), \"__reference.fa.gz\", sep=\"\")\n",
    "if (file.exists(ref1)) {\n",
    "    file.remove(ref1)\n",
    "    print(sprintf(\"Removing: %s\", ref1))\n",
    "}"
   ]
  },
  {
   "cell_type": "code",
   "execution_count": null,
   "id": "6ab27399-288a-4067-a812-d946410658a5",
   "metadata": {
    "papermill": {
     "duration": 0.010541,
     "end_time": "2021-09-02T02:45:27.723426",
     "exception": false,
     "start_time": "2021-09-02T02:45:27.712885",
     "status": "completed"
    },
    "tags": []
   },
   "outputs": [],
   "source": []
  }
 ],
 "metadata": {
  "kernelspec": {
   "display_name": "R",
   "language": "R",
   "name": "ir"
  },
  "language_info": {
   "codemirror_mode": "r",
   "file_extension": ".r",
   "mimetype": "text/x-r-source",
   "name": "R",
   "pygments_lexer": "r",
   "version": "4.1.1"
  },
  "papermill": {
   "default_parameters": {},
   "duration": 353.449762,
   "end_time": "2021-09-02T02:45:28.940301",
   "environment_variables": {},
   "exception": null,
   "input_path": "template-1-simulate-reads.ipynb",
   "output_path": "1-simulate-reads.simulation-cov-10.ipynb",
   "parameters": {
    "iterations": 3,
    "mincov": 10,
    "read_coverage": 10,
    "simulation_dir": "simulations/cov-10"
   },
   "start_time": "2021-09-02T02:39:35.490539",
   "version": "2.3.3"
  }
 },
 "nbformat": 4,
 "nbformat_minor": 5
}