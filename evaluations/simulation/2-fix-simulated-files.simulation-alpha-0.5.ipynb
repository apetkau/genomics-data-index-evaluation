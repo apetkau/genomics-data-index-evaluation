{
 "cells": [
  {
   "cell_type": "markdown",
   "id": "acfa5482-d626-44d6-b613-863e6911fa98",
   "metadata": {
    "papermill": {
     "duration": 0.0148,
     "end_time": "2021-09-11T18:46:26.259792",
     "exception": false,
     "start_time": "2021-09-11T18:46:26.244992",
     "status": "completed"
    },
    "tags": []
   },
   "source": [
    "# 1. Parameters"
   ]
  },
  {
   "cell_type": "code",
   "execution_count": 1,
   "id": "36126d74-a9d8-4431-ba49-767c1fc2ec49",
   "metadata": {
    "execution": {
     "iopub.execute_input": "2021-09-11T18:46:26.289509Z",
     "iopub.status.busy": "2021-09-11T18:46:26.288872Z",
     "iopub.status.idle": "2021-09-11T18:46:26.293876Z",
     "shell.execute_reply": "2021-09-11T18:46:26.294537Z"
    },
    "papermill": {
     "duration": 0.025771,
     "end_time": "2021-09-11T18:46:26.294863",
     "exception": false,
     "start_time": "2021-09-11T18:46:26.269092",
     "status": "completed"
    },
    "tags": [
     "parameters"
    ]
   },
   "outputs": [],
   "source": [
    "# Defaults\n",
    "simulation_dir = 'simulations/unset'\n",
    "ncores = 48"
   ]
  },
  {
   "cell_type": "code",
   "execution_count": 2,
   "id": "56feb713",
   "metadata": {
    "execution": {
     "iopub.execute_input": "2021-09-11T18:46:26.317862Z",
     "iopub.status.busy": "2021-09-11T18:46:26.317419Z",
     "iopub.status.idle": "2021-09-11T18:46:26.320600Z",
     "shell.execute_reply": "2021-09-11T18:46:26.320222Z"
    },
    "papermill": {
     "duration": 0.016309,
     "end_time": "2021-09-11T18:46:26.320691",
     "exception": false,
     "start_time": "2021-09-11T18:46:26.304382",
     "status": "completed"
    },
    "tags": [
     "injected-parameters"
    ]
   },
   "outputs": [],
   "source": [
    "# Parameters\n",
    "read_coverage = 30\n",
    "mincov = 10\n",
    "simulation_dir = \"simulations/alpha-0.5-cov-30\"\n",
    "iterations = 3\n",
    "sub_alpha = 0.5\n"
   ]
  },
  {
   "cell_type": "code",
   "execution_count": 3,
   "id": "15e911d7-0ffc-4110-aefe-71bc77e689cd",
   "metadata": {
    "execution": {
     "iopub.execute_input": "2021-09-11T18:46:26.340342Z",
     "iopub.status.busy": "2021-09-11T18:46:26.339930Z",
     "iopub.status.idle": "2021-09-11T18:46:26.343695Z",
     "shell.execute_reply": "2021-09-11T18:46:26.343218Z"
    },
    "papermill": {
     "duration": 0.017102,
     "end_time": "2021-09-11T18:46:26.343812",
     "exception": false,
     "start_time": "2021-09-11T18:46:26.326710",
     "status": "completed"
    },
    "tags": []
   },
   "outputs": [],
   "source": [
    "from pathlib import Path\n",
    "import os\n",
    "\n",
    "simulation_data_dir = Path(simulation_dir) / 'simulated_data'\n",
    "initial_reads_dir = simulation_data_dir / 'reads_initial'\n",
    "reads_dir = simulation_data_dir / 'reads'\n",
    "assemblies_dir = simulation_data_dir / 'assemblies'\n",
    "\n",
    "if not reads_dir.exists():\n",
    "    os.mkdir(reads_dir)"
   ]
  },
  {
   "cell_type": "markdown",
   "id": "rotary-regard",
   "metadata": {
    "papermill": {
     "duration": 0.005165,
     "end_time": "2021-09-11T18:46:26.355067",
     "exception": false,
     "start_time": "2021-09-11T18:46:26.349902",
     "status": "completed"
    },
    "tags": []
   },
   "source": [
    "# 2. Fix reads\n",
    "\n",
    "Fix read file names and data so they can be indexed."
   ]
  },
  {
   "cell_type": "code",
   "execution_count": 4,
   "id": "convenient-blackberry",
   "metadata": {
    "execution": {
     "iopub.execute_input": "2021-09-11T18:46:26.377032Z",
     "iopub.status.busy": "2021-09-11T18:46:26.376520Z",
     "iopub.status.idle": "2021-09-11T18:46:26.558565Z",
     "shell.execute_reply": "2021-09-11T18:46:26.559395Z"
    },
    "papermill": {
     "duration": 0.200107,
     "end_time": "2021-09-11T18:46:26.559752",
     "exception": false,
     "start_time": "2021-09-11T18:46:26.359645",
     "status": "completed"
    },
    "tags": []
   },
   "outputs": [
    {
     "name": "stdout",
     "output_type": "stream",
     "text": [
      "~/workspace/genomics-data-index-evaluation/evaluations/simulation/simulations/alpha-0.5-cov-30/simulated_data/reads_initial ~/workspace/genomics-data-index-evaluation/evaluations/simulation\r\n"
     ]
    },
    {
     "name": "stdout",
     "output_type": "stream",
     "text": [
      "~/workspace/genomics-data-index-evaluation/evaluations/simulation\r\n"
     ]
    }
   ],
   "source": [
    "import os\n",
    "\n",
    "# Fix warning about locale unset\n",
    "os.environ['LANG'] = 'en_US.UTF-8'\n",
    "\n",
    "!pushd {initial_reads_dir}; prename 's/data_//' *.fq.gz; popd"
   ]
  },
  {
   "cell_type": "markdown",
   "id": "median-belle",
   "metadata": {
    "papermill": {
     "duration": 0.008928,
     "end_time": "2021-09-11T18:46:26.583364",
     "exception": false,
     "start_time": "2021-09-11T18:46:26.574436",
     "status": "completed"
    },
    "tags": []
   },
   "source": [
    "Jackalope produces reads with non-standard identifiers where pairs of reads don't have matching identifiers. For example:\n",
    "\n",
    "* Pair 1: `@SH08-001-NC_011083-3048632-R/1`\n",
    "* Pair 2: `@SH08-001-NC_011083-3048396-F/2`\n",
    "\n",
    "In order to run snippy, these paired identifiers need to match (except for the `/1` and `/2` suffix).\n",
    "\n",
    "So, I have to replace them all with something unique, but which matches in each pair of files. I do this by replacing the position (I think) with the read number (as it appears in the file). So the above identifiers become:\n",
    "\n",
    "* Pair 1: `@SH08-001-NC_011083-1/1`\n",
    "* Pair 2: `@SH08-001-NC_011083-1/2`"
   ]
  },
  {
   "cell_type": "code",
   "execution_count": 5,
   "id": "remarkable-berry",
   "metadata": {
    "execution": {
     "iopub.execute_input": "2021-09-11T18:46:26.604382Z",
     "iopub.status.busy": "2021-09-11T18:46:26.603999Z",
     "iopub.status.idle": "2021-09-11T18:46:27.643959Z",
     "shell.execute_reply": "2021-09-11T18:46:27.644847Z"
    },
    "papermill": {
     "duration": 1.055524,
     "end_time": "2021-09-11T18:46:27.645149",
     "exception": false,
     "start_time": "2021-09-11T18:46:26.589625",
     "status": "completed"
    },
    "tags": []
   },
   "outputs": [],
   "source": [
    "import glob\n",
    "import os\n",
    "\n",
    "files = [os.path.basename(f) for f in glob.glob(f'{initial_reads_dir}/*.fq.gz')]\n",
    "!parallel -j {ncores} -I% 'gzip -d --stdout {initial_reads_dir}/% | perl scripts/replace-fastq-header.pl | gzip > {reads_dir}/%' \\\n",
    "    ::: {' '.join(files)}"
   ]
  },
  {
   "cell_type": "code",
   "execution_count": 6,
   "id": "8318e7a8-1057-4e4f-aaec-fccdec42a75f",
   "metadata": {
    "execution": {
     "iopub.execute_input": "2021-09-11T18:46:27.672915Z",
     "iopub.status.busy": "2021-09-11T18:46:27.672438Z",
     "iopub.status.idle": "2021-09-11T18:46:27.689229Z",
     "shell.execute_reply": "2021-09-11T18:46:27.689879Z"
    },
    "papermill": {
     "duration": 0.032181,
     "end_time": "2021-09-11T18:46:27.690074",
     "exception": false,
     "start_time": "2021-09-11T18:46:27.657893",
     "status": "completed"
    },
    "tags": []
   },
   "outputs": [],
   "source": [
    "import shutil\n",
    "\n",
    "shutil.rmtree(initial_reads_dir)"
   ]
  },
  {
   "cell_type": "markdown",
   "id": "cf630b4f-ed63-4e14-9657-e0aaea0953ab",
   "metadata": {
    "papermill": {
     "duration": 0.009087,
     "end_time": "2021-09-11T18:46:27.712507",
     "exception": false,
     "start_time": "2021-09-11T18:46:27.703420",
     "status": "completed"
    },
    "tags": []
   },
   "source": [
    "# 3. Fix assemblies\n",
    "\n",
    "Fix assembly genome names"
   ]
  },
  {
   "cell_type": "code",
   "execution_count": 7,
   "id": "08fac610-3ab3-4afa-9873-406973041963",
   "metadata": {
    "execution": {
     "iopub.execute_input": "2021-09-11T18:46:27.735356Z",
     "iopub.status.busy": "2021-09-11T18:46:27.731746Z",
     "iopub.status.idle": "2021-09-11T18:46:27.904622Z",
     "shell.execute_reply": "2021-09-11T18:46:27.905468Z"
    },
    "papermill": {
     "duration": 0.186648,
     "end_time": "2021-09-11T18:46:27.905739",
     "exception": false,
     "start_time": "2021-09-11T18:46:27.719091",
     "status": "completed"
    },
    "tags": []
   },
   "outputs": [
    {
     "name": "stdout",
     "output_type": "stream",
     "text": [
      "~/workspace/genomics-data-index-evaluation/evaluations/simulation/simulations/alpha-0.5-cov-30/simulated_data/assemblies ~/workspace/genomics-data-index-evaluation/evaluations/simulation\r\n"
     ]
    },
    {
     "name": "stdout",
     "output_type": "stream",
     "text": [
      "~/workspace/genomics-data-index-evaluation/evaluations/simulation\r\n"
     ]
    }
   ],
   "source": [
    "!pushd {assemblies_dir}; prename 's/data__//' *.fa.gz; popd"
   ]
  }
 ],
 "metadata": {
  "kernelspec": {
   "display_name": "Python 3 (ipykernel)",
   "language": "python",
   "name": "python3"
  },
  "language_info": {
   "codemirror_mode": {
    "name": "ipython",
    "version": 3
   },
   "file_extension": ".py",
   "mimetype": "text/x-python",
   "name": "python",
   "nbconvert_exporter": "python",
   "pygments_lexer": "ipython3",
   "version": "3.8.10"
  },
  "papermill": {
   "default_parameters": {},
   "duration": 2.639629,
   "end_time": "2021-09-11T18:46:28.029861",
   "environment_variables": {},
   "exception": null,
   "input_path": "template-2-fix-simulated-files.ipynb",
   "output_path": "2-fix-simulated-files.simulation-alpha-0.5.ipynb",
   "parameters": {
    "iterations": 3,
    "mincov": 10,
    "read_coverage": 30,
    "simulation_dir": "simulations/alpha-0.5-cov-30",
    "sub_alpha": 0.5
   },
   "start_time": "2021-09-11T18:46:25.390232",
   "version": "2.3.3"
  }
 },
 "nbformat": 4,
 "nbformat_minor": 5
}