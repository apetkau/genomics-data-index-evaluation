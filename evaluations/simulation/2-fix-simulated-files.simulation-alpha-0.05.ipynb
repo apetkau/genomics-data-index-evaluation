{
 "cells": [
  {
   "cell_type": "markdown",
   "id": "acfa5482-d626-44d6-b613-863e6911fa98",
   "metadata": {
    "papermill": {
     "duration": 0.014621,
     "end_time": "2022-03-09T21:48:21.493473",
     "exception": false,
     "start_time": "2022-03-09T21:48:21.478852",
     "status": "completed"
    },
    "tags": []
   },
   "source": [
    "# 1. Parameters"
   ]
  },
  {
   "cell_type": "code",
   "execution_count": 1,
   "id": "36126d74-a9d8-4431-ba49-767c1fc2ec49",
   "metadata": {
    "execution": {
     "iopub.execute_input": "2022-03-09T21:48:21.521056Z",
     "iopub.status.busy": "2022-03-09T21:48:21.520574Z",
     "iopub.status.idle": "2022-03-09T21:48:21.525048Z",
     "shell.execute_reply": "2022-03-09T21:48:21.524329Z"
    },
    "papermill": {
     "duration": 0.023369,
     "end_time": "2022-03-09T21:48:21.525196",
     "exception": false,
     "start_time": "2022-03-09T21:48:21.501827",
     "status": "completed"
    },
    "tags": [
     "parameters"
    ]
   },
   "outputs": [],
   "source": [
    "# Defaults\n",
    "simulation_dir = 'simulations/unset'\n",
    "ncores = 48"
   ]
  },
  {
   "cell_type": "code",
   "execution_count": 2,
   "id": "da2cdde1",
   "metadata": {
    "execution": {
     "iopub.execute_input": "2022-03-09T21:48:21.544748Z",
     "iopub.status.busy": "2022-03-09T21:48:21.544281Z",
     "iopub.status.idle": "2022-03-09T21:48:21.546903Z",
     "shell.execute_reply": "2022-03-09T21:48:21.547256Z"
    },
    "papermill": {
     "duration": 0.014931,
     "end_time": "2022-03-09T21:48:21.547371",
     "exception": false,
     "start_time": "2022-03-09T21:48:21.532440",
     "status": "completed"
    },
    "tags": [
     "injected-parameters"
    ]
   },
   "outputs": [],
   "source": [
    "# Parameters\n",
    "read_coverage = 30\n",
    "mincov = 10\n",
    "simulation_dir = \"simulations/alpha-0.05-cov-30\"\n",
    "iterations = 3\n",
    "sub_alpha = 0.05\n"
   ]
  },
  {
   "cell_type": "code",
   "execution_count": 3,
   "id": "15e911d7-0ffc-4110-aefe-71bc77e689cd",
   "metadata": {
    "execution": {
     "iopub.execute_input": "2022-03-09T21:48:21.565234Z",
     "iopub.status.busy": "2022-03-09T21:48:21.564726Z",
     "iopub.status.idle": "2022-03-09T21:48:21.568023Z",
     "shell.execute_reply": "2022-03-09T21:48:21.568403Z"
    },
    "papermill": {
     "duration": 0.015911,
     "end_time": "2022-03-09T21:48:21.568530",
     "exception": false,
     "start_time": "2022-03-09T21:48:21.552619",
     "status": "completed"
    },
    "tags": []
   },
   "outputs": [],
   "source": [
    "from pathlib import Path\n",
    "import os\n",
    "\n",
    "simulation_data_dir = Path(simulation_dir) / 'simulated_data'\n",
    "initial_reads_dir = simulation_data_dir / 'reads_initial'\n",
    "reads_dir = simulation_data_dir / 'reads'\n",
    "assemblies_dir = simulation_data_dir / 'assemblies'\n",
    "\n",
    "if not reads_dir.exists():\n",
    "    os.mkdir(reads_dir)"
   ]
  },
  {
   "cell_type": "markdown",
   "id": "rotary-regard",
   "metadata": {
    "papermill": {
     "duration": 0.006563,
     "end_time": "2022-03-09T21:48:21.580759",
     "exception": false,
     "start_time": "2022-03-09T21:48:21.574196",
     "status": "completed"
    },
    "tags": []
   },
   "source": [
    "# 2. Fix reads\n",
    "\n",
    "Fix read file names and data so they can be indexed."
   ]
  },
  {
   "cell_type": "code",
   "execution_count": 4,
   "id": "convenient-blackberry",
   "metadata": {
    "execution": {
     "iopub.execute_input": "2022-03-09T21:48:21.603575Z",
     "iopub.status.busy": "2022-03-09T21:48:21.597570Z",
     "iopub.status.idle": "2022-03-09T21:48:21.784546Z",
     "shell.execute_reply": "2022-03-09T21:48:21.785469Z"
    },
    "papermill": {
     "duration": 0.199571,
     "end_time": "2022-03-09T21:48:21.785761",
     "exception": false,
     "start_time": "2022-03-09T21:48:21.586190",
     "status": "completed"
    },
    "tags": []
   },
   "outputs": [
    {
     "name": "stdout",
     "output_type": "stream",
     "text": [
      "~/workspace/genomics-data-index-evaluation/evaluations/simulation/simulations/alpha-0.05-cov-30/simulated_data/reads_initial ~/workspace/genomics-data-index-evaluation/evaluations/simulation\r\n"
     ]
    },
    {
     "name": "stdout",
     "output_type": "stream",
     "text": [
      "~/workspace/genomics-data-index-evaluation/evaluations/simulation\r\n"
     ]
    }
   ],
   "source": [
    "import os\n",
    "\n",
    "# Fix warning about locale unset\n",
    "os.environ['LANG'] = 'en_US.UTF-8'\n",
    "\n",
    "!pushd {initial_reads_dir}; prename 's/data_//' *.fq.gz; popd"
   ]
  },
  {
   "cell_type": "markdown",
   "id": "median-belle",
   "metadata": {
    "papermill": {
     "duration": 0.008853,
     "end_time": "2022-03-09T21:48:21.808157",
     "exception": false,
     "start_time": "2022-03-09T21:48:21.799304",
     "status": "completed"
    },
    "tags": []
   },
   "source": [
    "Jackalope produces reads with non-standard identifiers where pairs of reads don't have matching identifiers. For example:\n",
    "\n",
    "* Pair 1: `@SH08-001-NC_011083-3048632-R/1`\n",
    "* Pair 2: `@SH08-001-NC_011083-3048396-F/2`\n",
    "\n",
    "In order to run snippy, these paired identifiers need to match (except for the `/1` and `/2` suffix).\n",
    "\n",
    "So, I have to replace them all with something unique, but which matches in each pair of files. I do this by replacing the position (I think) with the read number (as it appears in the file). So the above identifiers become:\n",
    "\n",
    "* Pair 1: `@SH08-001-NC_011083-1/1`\n",
    "* Pair 2: `@SH08-001-NC_011083-1/2`"
   ]
  },
  {
   "cell_type": "code",
   "execution_count": 5,
   "id": "remarkable-berry",
   "metadata": {
    "execution": {
     "iopub.execute_input": "2022-03-09T21:48:21.830522Z",
     "iopub.status.busy": "2022-03-09T21:48:21.829797Z",
     "iopub.status.idle": "2022-03-09T21:48:22.876844Z",
     "shell.execute_reply": "2022-03-09T21:48:22.877775Z"
    },
    "papermill": {
     "duration": 1.062859,
     "end_time": "2022-03-09T21:48:22.878091",
     "exception": false,
     "start_time": "2022-03-09T21:48:21.815232",
     "status": "completed"
    },
    "tags": []
   },
   "outputs": [],
   "source": [
    "import glob\n",
    "import os\n",
    "\n",
    "files = [os.path.basename(f) for f in glob.glob(f'{initial_reads_dir}/*.fq.gz')]\n",
    "!parallel -j {ncores} -I% 'gzip -d --stdout {initial_reads_dir}/% | perl scripts/replace-fastq-header.pl | gzip > {reads_dir}/%' \\\n",
    "    ::: {' '.join(files)}"
   ]
  },
  {
   "cell_type": "code",
   "execution_count": 6,
   "id": "8318e7a8-1057-4e4f-aaec-fccdec42a75f",
   "metadata": {
    "execution": {
     "iopub.execute_input": "2022-03-09T21:48:22.909573Z",
     "iopub.status.busy": "2022-03-09T21:48:22.908738Z",
     "iopub.status.idle": "2022-03-09T21:48:22.927590Z",
     "shell.execute_reply": "2022-03-09T21:48:22.928460Z"
    },
    "papermill": {
     "duration": 0.036219,
     "end_time": "2022-03-09T21:48:22.928768",
     "exception": false,
     "start_time": "2022-03-09T21:48:22.892549",
     "status": "completed"
    },
    "tags": []
   },
   "outputs": [],
   "source": [
    "import shutil\n",
    "\n",
    "shutil.rmtree(initial_reads_dir)"
   ]
  },
  {
   "cell_type": "markdown",
   "id": "cf630b4f-ed63-4e14-9657-e0aaea0953ab",
   "metadata": {
    "papermill": {
     "duration": 0.00954,
     "end_time": "2022-03-09T21:48:22.953412",
     "exception": false,
     "start_time": "2022-03-09T21:48:22.943872",
     "status": "completed"
    },
    "tags": []
   },
   "source": [
    "# 3. Fix assemblies\n",
    "\n",
    "Fix assembly genome names"
   ]
  },
  {
   "cell_type": "code",
   "execution_count": 7,
   "id": "08fac610-3ab3-4afa-9873-406973041963",
   "metadata": {
    "execution": {
     "iopub.execute_input": "2022-03-09T21:48:22.973361Z",
     "iopub.status.busy": "2022-03-09T21:48:22.969026Z",
     "iopub.status.idle": "2022-03-09T21:48:23.152533Z",
     "shell.execute_reply": "2022-03-09T21:48:23.153412Z"
    },
    "papermill": {
     "duration": 0.193649,
     "end_time": "2022-03-09T21:48:23.153706",
     "exception": false,
     "start_time": "2022-03-09T21:48:22.960057",
     "status": "completed"
    },
    "tags": []
   },
   "outputs": [
    {
     "name": "stdout",
     "output_type": "stream",
     "text": [
      "~/workspace/genomics-data-index-evaluation/evaluations/simulation/simulations/alpha-0.05-cov-30/simulated_data/assemblies ~/workspace/genomics-data-index-evaluation/evaluations/simulation\r\n"
     ]
    },
    {
     "name": "stdout",
     "output_type": "stream",
     "text": [
      "~/workspace/genomics-data-index-evaluation/evaluations/simulation\r\n"
     ]
    }
   ],
   "source": [
    "!pushd {assemblies_dir}; prename 's/data__//' *.fa.gz; popd"
   ]
  }
 ],
 "metadata": {
  "kernelspec": {
   "display_name": "Python 3 (ipykernel)",
   "language": "python",
   "name": "python3"
  },
  "language_info": {
   "codemirror_mode": {
    "name": "ipython",
    "version": 3
   },
   "file_extension": ".py",
   "mimetype": "text/x-python",
   "name": "python",
   "nbconvert_exporter": "python",
   "pygments_lexer": "ipython3",
   "version": "3.8.12"
  },
  "papermill": {
   "default_parameters": {},
   "duration": 3.321325,
   "end_time": "2022-03-09T21:48:23.389166",
   "environment_variables": {},
   "exception": null,
   "input_path": "template-2-fix-simulated-files.ipynb",
   "output_path": "2-fix-simulated-files.simulation-alpha-0.05.ipynb",
   "parameters": {
    "iterations": 3,
    "mincov": 10,
    "read_coverage": 30,
    "simulation_dir": "simulations/alpha-0.05-cov-30",
    "sub_alpha": 0.05
   },
   "start_time": "2022-03-09T21:48:20.067841",
   "version": "2.3.4"
  }
 },
 "nbformat": 4,
 "nbformat_minor": 5
}