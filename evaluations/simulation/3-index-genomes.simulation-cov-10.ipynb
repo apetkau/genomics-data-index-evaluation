{
 "cells": [
  {
   "cell_type": "markdown",
   "id": "7d3667b4-b1f8-4347-96e3-830c25b06740",
   "metadata": {
    "papermill": {
     "duration": 0.017302,
     "end_time": "2021-09-02T03:18:45.041031",
     "exception": false,
     "start_time": "2021-09-02T03:18:45.023729",
     "status": "completed"
    },
    "tags": []
   },
   "source": [
    "# 1. Parameters"
   ]
  },
  {
   "cell_type": "code",
   "execution_count": 1,
   "id": "d4ab0749-b286-4c34-b63c-a854e4952bae",
   "metadata": {
    "execution": {
     "iopub.execute_input": "2021-09-02T03:18:45.072116Z",
     "iopub.status.busy": "2021-09-02T03:18:45.071602Z",
     "iopub.status.idle": "2021-09-02T03:18:45.077091Z",
     "shell.execute_reply": "2021-09-02T03:18:45.076443Z"
    },
    "papermill": {
     "duration": 0.026627,
     "end_time": "2021-09-02T03:18:45.077251",
     "exception": false,
     "start_time": "2021-09-02T03:18:45.050624",
     "status": "completed"
    },
    "tags": [
     "parameters"
    ]
   },
   "outputs": [],
   "source": [
    "# Defaults\n",
    "simulation_dir = 'simulations/unset'\n",
    "reference_file = 'simulations/reference/reference.fa.gz'\n",
    "iterations = 3\n",
    "mincov = 10\n",
    "ncores = 32"
   ]
  },
  {
   "cell_type": "code",
   "execution_count": 2,
   "id": "6784d5ad",
   "metadata": {
    "execution": {
     "iopub.execute_input": "2021-09-02T03:18:45.102412Z",
     "iopub.status.busy": "2021-09-02T03:18:45.101978Z",
     "iopub.status.idle": "2021-09-02T03:18:45.104874Z",
     "shell.execute_reply": "2021-09-02T03:18:45.105756Z"
    },
    "papermill": {
     "duration": 0.017991,
     "end_time": "2021-09-02T03:18:45.106025",
     "exception": false,
     "start_time": "2021-09-02T03:18:45.088034",
     "status": "completed"
    },
    "tags": [
     "injected-parameters"
    ]
   },
   "outputs": [],
   "source": [
    "# Parameters\n",
    "read_coverage = 10\n",
    "mincov = 10\n",
    "simulation_dir = \"simulations/cov-10\"\n",
    "iterations = 3\n"
   ]
  },
  {
   "cell_type": "code",
   "execution_count": 3,
   "id": "ce5962e4-261c-4210-b39b-47044e28466b",
   "metadata": {
    "execution": {
     "iopub.execute_input": "2021-09-02T03:18:45.139996Z",
     "iopub.status.busy": "2021-09-02T03:18:45.139083Z",
     "iopub.status.idle": "2021-09-02T03:18:48.200039Z",
     "shell.execute_reply": "2021-09-02T03:18:48.198991Z"
    },
    "papermill": {
     "duration": 3.078709,
     "end_time": "2021-09-02T03:18:48.200314",
     "exception": false,
     "start_time": "2021-09-02T03:18:45.121605",
     "status": "completed"
    },
    "tags": []
   },
   "outputs": [],
   "source": [
    "from pathlib import Path\n",
    "import imp\n",
    "fp, pathname, description = imp.find_module('gdi_benchmark', ['../../lib'])\n",
    "gdi_benchmark = imp.load_module('gdi_benchmark', fp, pathname, description)\n",
    "\n",
    "simulation_dir_path = Path(simulation_dir)\n",
    "\n",
    "case_name = str(simulation_dir_path.name)\n",
    "reads_dir = simulation_dir_path / 'simulated_data' / 'reads'\n",
    "assemblies_dir = simulation_dir_path / 'simulated_data' / 'assemblies'\n",
    "index_reads_path = simulation_dir_path / 'index-reads'\n",
    "index_assemblies_path = simulation_dir_path / 'index-assemblies'\n",
    "output_reads_tree = index_reads_path / 'reads.tre'\n",
    "output_assemblies_tree = index_assemblies_path / 'assemblies.tre'\n",
    "reference_name = Path(reference_file).name.split('.')[0]"
   ]
  },
  {
   "cell_type": "markdown",
   "id": "f208279e-7558-47fc-9362-da29df92828a",
   "metadata": {
    "papermill": {
     "duration": 0.009944,
     "end_time": "2021-09-02T03:18:48.227526",
     "exception": false,
     "start_time": "2021-09-02T03:18:48.217582",
     "status": "completed"
    },
    "tags": []
   },
   "source": [
    "# 2. Index genomes"
   ]
  },
  {
   "cell_type": "code",
   "execution_count": 4,
   "id": "4e936f7c-2fcd-4188-b0e6-6b3ceb5cdcd2",
   "metadata": {
    "execution": {
     "iopub.execute_input": "2021-09-02T03:18:48.259500Z",
     "iopub.status.busy": "2021-09-02T03:18:48.258845Z",
     "iopub.status.idle": "2021-09-02T03:18:51.116640Z",
     "shell.execute_reply": "2021-09-02T03:18:51.117601Z"
    },
    "papermill": {
     "duration": 2.883792,
     "end_time": "2021-09-02T03:18:51.117951",
     "exception": false,
     "start_time": "2021-09-02T03:18:48.234159",
     "status": "completed"
    },
    "tags": []
   },
   "outputs": [
    {
     "name": "stdout",
     "output_type": "stream",
     "text": [
      "gdi, version 0.3.0.dev9\r\n"
     ]
    }
   ],
   "source": [
    "!gdi --version"
   ]
  },
  {
   "cell_type": "markdown",
   "id": "5409ecf8-2158-4361-9d2f-6b1a6c7c63a6",
   "metadata": {
    "papermill": {
     "duration": 0.009445,
     "end_time": "2021-09-02T03:18:51.144659",
     "exception": false,
     "start_time": "2021-09-02T03:18:51.135214",
     "status": "completed"
    },
    "tags": []
   },
   "source": [
    "## 2.1. Index reads"
   ]
  },
  {
   "cell_type": "code",
   "execution_count": 5,
   "id": "b5324f79-913b-4dac-8122-19ad5c0f24b2",
   "metadata": {
    "execution": {
     "iopub.execute_input": "2021-09-02T03:18:51.176290Z",
     "iopub.status.busy": "2021-09-02T03:18:51.166316Z",
     "iopub.status.idle": "2021-09-02T03:18:54.015278Z",
     "shell.execute_reply": "2021-09-02T03:18:54.016240Z"
    },
    "papermill": {
     "duration": 2.864721,
     "end_time": "2021-09-02T03:18:54.016588",
     "exception": false,
     "start_time": "2021-09-02T03:18:51.151867",
     "status": "completed"
    },
    "tags": []
   },
   "outputs": [],
   "source": [
    "input_genomes_file = simulation_dir_path / 'input-reads.tsv'\n",
    "\n",
    "!gdi input --absolute {reads_dir}/*.fq.gz > {input_genomes_file}"
   ]
  },
  {
   "cell_type": "code",
   "execution_count": 6,
   "id": "3d63e861-733e-46f2-8bce-bd1a2c7c7058",
   "metadata": {
    "execution": {
     "iopub.execute_input": "2021-09-02T03:18:54.059000Z",
     "iopub.status.busy": "2021-09-02T03:18:54.058427Z",
     "iopub.status.idle": "2021-09-02T03:31:28.063406Z",
     "shell.execute_reply": "2021-09-02T03:31:28.062305Z"
    },
    "papermill": {
     "duration": 754.029262,
     "end_time": "2021-09-02T03:31:28.063863",
     "exception": false,
     "start_time": "2021-09-02T03:18:54.034601",
     "status": "completed"
    },
    "tags": []
   },
   "outputs": [
    {
     "name": "stdout",
     "output_type": "stream",
     "text": [
      "\n",
      "Iteration 1 of index/analysis of 59 samples with 32 cores\n",
      "Removing any extra snakemake directories: ['snakemake-assemblies.1630527734.9501612']\n"
     ]
    },
    {
     "name": "stdout",
     "output_type": "stream",
     "text": [
      "Creating new index: [gdi init simulations/cov-10/index-reads]\n"
     ]
    },
    {
     "name": "stdout",
     "output_type": "stream",
     "text": [
      "Creating a new index took 3.13 seconds\n",
      "Analysis running: [gdi --project-dir simulations/cov-10/index-reads --ncores 32 analysis --use-conda --no-load-data --reference-file simulations/reference/reference.fa.gz --kmer-size 31 --kmer-size 51 --kmer-size 71 --include-kmer --reads-mincov 10 --input-structured-genomes-file simulations/cov-10/input-reads.tsv]\n"
     ]
    },
    {
     "name": "stdout",
     "output_type": "stream",
     "text": [
      "Analysis took 2.07 minutes\n",
      "Index running: [gdi --project-dir simulations/cov-10/index-reads --ncores 32 load vcf --reference-file simulations/reference/reference.fa.gz /home/CSCScience.ca/apetkau/workspace/genomics-data-index-evaluation/evaluations/simulation/snakemake-assemblies.1630552742.3937898/gdi-input.fofn]\n"
     ]
    },
    {
     "name": "stdout",
     "output_type": "stream",
     "text": [
      "Indexing took 0.24 minutes\n",
      "Building tree: [gdi --project-dir simulations/cov-10/index-reads --ncores 32 rebuild tree --align-type full --extra-params '--fast -m GTR+F+R4' reference]\n"
     ]
    },
    {
     "name": "stdout",
     "output_type": "stream",
     "text": [
      "Building tree took 1.77 minutes\n"
     ]
    },
    {
     "name": "stderr",
     "output_type": "stream",
     "text": [
      "A reminder to myself to look for a Python solution for directory sizes (instead of running `du`)\n"
     ]
    },
    {
     "name": "stdout",
     "output_type": "stream",
     "text": [
      "\n",
      "Iteration 2 of index/analysis of 59 samples with 32 cores\n",
      "Removing any extra snakemake directories: ['snakemake-assemblies.1630552742.3937898']\n"
     ]
    },
    {
     "name": "stdout",
     "output_type": "stream",
     "text": [
      "Removing any existing indexes simulations/cov-10/index-reads\n",
      "Creating new index: [gdi init simulations/cov-10/index-reads]\n"
     ]
    },
    {
     "name": "stdout",
     "output_type": "stream",
     "text": [
      "Creating a new index took 2.96 seconds\n",
      "Analysis running: [gdi --project-dir simulations/cov-10/index-reads --ncores 32 analysis --use-conda --no-load-data --reference-file simulations/reference/reference.fa.gz --kmer-size 31 --kmer-size 51 --kmer-size 71 --include-kmer --reads-mincov 10 --input-structured-genomes-file simulations/cov-10/input-reads.tsv]\n"
     ]
    },
    {
     "name": "stdout",
     "output_type": "stream",
     "text": [
      "Analysis took 1.65 minutes\n",
      "Index running: [gdi --project-dir simulations/cov-10/index-reads --ncores 32 load vcf --reference-file simulations/reference/reference.fa.gz /home/CSCScience.ca/apetkau/workspace/genomics-data-index-evaluation/evaluations/simulation/snakemake-assemblies.1630552991.9921758/gdi-input.fofn]\n"
     ]
    },
    {
     "name": "stdout",
     "output_type": "stream",
     "text": [
      "Indexing took 0.26 minutes\n",
      "Building tree: [gdi --project-dir simulations/cov-10/index-reads --ncores 32 rebuild tree --align-type full --extra-params '--fast -m GTR+F+R4' reference]\n"
     ]
    },
    {
     "name": "stdout",
     "output_type": "stream",
     "text": [
      "Building tree took 2.28 minutes\n"
     ]
    },
    {
     "name": "stderr",
     "output_type": "stream",
     "text": [
      "Attempting to set global database_path_translator=<genomics_data_index.storage.model.db.DatabasePathTranslator.DatabasePathTranslator object at 0x7f724a07c730> but it is already set\n"
     ]
    },
    {
     "name": "stderr",
     "output_type": "stream",
     "text": [
      "A reminder to myself to look for a Python solution for directory sizes (instead of running `du`)\n"
     ]
    },
    {
     "name": "stdout",
     "output_type": "stream",
     "text": [
      "\n",
      "Iteration 3 of index/analysis of 59 samples with 32 cores\n",
      "Removing any extra snakemake directories: ['snakemake-assemblies.1630552991.9921758']\n"
     ]
    },
    {
     "name": "stdout",
     "output_type": "stream",
     "text": [
      "Removing any existing indexes simulations/cov-10/index-reads\n",
      "Creating new index: [gdi init simulations/cov-10/index-reads]\n"
     ]
    },
    {
     "name": "stdout",
     "output_type": "stream",
     "text": [
      "Creating a new index took 2.84 seconds\n",
      "Analysis running: [gdi --project-dir simulations/cov-10/index-reads --ncores 32 analysis --use-conda --no-load-data --reference-file simulations/reference/reference.fa.gz --kmer-size 31 --kmer-size 51 --kmer-size 71 --include-kmer --reads-mincov 10 --input-structured-genomes-file simulations/cov-10/input-reads.tsv]\n"
     ]
    },
    {
     "name": "stdout",
     "output_type": "stream",
     "text": [
      "Analysis took 1.74 minutes\n",
      "Index running: [gdi --project-dir simulations/cov-10/index-reads --ncores 32 load vcf --reference-file simulations/reference/reference.fa.gz /home/CSCScience.ca/apetkau/workspace/genomics-data-index-evaluation/evaluations/simulation/snakemake-assemblies.1630553247.9734695/gdi-input.fofn]\n"
     ]
    },
    {
     "name": "stdout",
     "output_type": "stream",
     "text": [
      "Indexing took 0.25 minutes\n",
      "Building tree: [gdi --project-dir simulations/cov-10/index-reads --ncores 32 rebuild tree --align-type full --extra-params '--fast -m GTR+F+R4' reference]\n"
     ]
    },
    {
     "name": "stdout",
     "output_type": "stream",
     "text": [
      "Building tree took 2.05 minutes\n"
     ]
    },
    {
     "name": "stderr",
     "output_type": "stream",
     "text": [
      "Attempting to set global database_path_translator=<genomics_data_index.storage.model.db.DatabasePathTranslator.DatabasePathTranslator object at 0x7f72418cd6d0> but it is already set\n"
     ]
    },
    {
     "name": "stderr",
     "output_type": "stream",
     "text": [
      "A reminder to myself to look for a Python solution for directory sizes (instead of running `du`)\n"
     ]
    }
   ],
   "source": [
    "results_handler = gdi_benchmark.BenchmarkResultsHandler(name=f'{case_name} reads')\n",
    "benchmarker = gdi_benchmark.IndexBenchmarker(benchmark_results_handler=results_handler,\n",
    "                                             index_path=index_reads_path, input_files_file=input_genomes_file,\n",
    "                                             reference_file=reference_file, mincov=mincov, build_tree=True,\n",
    "                                             ncores=ncores)\n",
    "\n",
    "benchmark_df = benchmarker.benchmark(iterations=iterations)"
   ]
  },
  {
   "cell_type": "code",
   "execution_count": 7,
   "id": "3bcb6da7-0164-47f2-abdd-a4c159da1e3b",
   "metadata": {
    "execution": {
     "iopub.execute_input": "2021-09-02T03:31:28.114683Z",
     "iopub.status.busy": "2021-09-02T03:31:28.109409Z",
     "iopub.status.idle": "2021-09-02T03:31:28.142807Z",
     "shell.execute_reply": "2021-09-02T03:31:28.141849Z"
    },
    "papermill": {
     "duration": 0.055752,
     "end_time": "2021-09-02T03:31:28.143037",
     "exception": false,
     "start_time": "2021-09-02T03:31:28.087285",
     "status": "completed"
    },
    "tags": []
   },
   "outputs": [
    {
     "data": {
      "text/html": [
       "<div>\n",
       "<style scoped>\n",
       "    .dataframe tbody tr th:only-of-type {\n",
       "        vertical-align: middle;\n",
       "    }\n",
       "\n",
       "    .dataframe tbody tr th {\n",
       "        vertical-align: top;\n",
       "    }\n",
       "\n",
       "    .dataframe thead th {\n",
       "        text-align: right;\n",
       "    }\n",
       "</style>\n",
       "<table border=\"1\" class=\"dataframe\">\n",
       "  <thead>\n",
       "    <tr style=\"text-align: right;\">\n",
       "      <th></th>\n",
       "      <th>Name</th>\n",
       "      <th>Iteration</th>\n",
       "      <th>Number samples</th>\n",
       "      <th>Number cores</th>\n",
       "      <th>Reference length</th>\n",
       "      <th>Analysis runtime</th>\n",
       "      <th>Analysis memory (max)</th>\n",
       "      <th>Analysis memory (max/process)</th>\n",
       "      <th>Analysis disk uage</th>\n",
       "      <th>Index runtime</th>\n",
       "      <th>Index memory (max)</th>\n",
       "      <th>Index memory (max/process)</th>\n",
       "      <th>Index size</th>\n",
       "      <th>Tree runtime</th>\n",
       "      <th>Tree memory (max)</th>\n",
       "      <th>Tree memory (max/process)</th>\n",
       "      <th>Total runtime</th>\n",
       "      <th>Max memory</th>\n",
       "    </tr>\n",
       "  </thead>\n",
       "  <tbody>\n",
       "    <tr>\n",
       "      <th>0</th>\n",
       "      <td>cov-10 reads</td>\n",
       "      <td>1</td>\n",
       "      <td>59</td>\n",
       "      <td>32</td>\n",
       "      <td>10834</td>\n",
       "      <td>124.17</td>\n",
       "      <td>2.721911e+09</td>\n",
       "      <td>395726848.0</td>\n",
       "      <td>3.254985e+09</td>\n",
       "      <td>14.17</td>\n",
       "      <td>5.987484e+09</td>\n",
       "      <td>554250240.0</td>\n",
       "      <td>2695168.0</td>\n",
       "      <td>106.24</td>\n",
       "      <td>348872704.0</td>\n",
       "      <td>223760384.0</td>\n",
       "      <td>244.58</td>\n",
       "      <td>5.987484e+09</td>\n",
       "    </tr>\n",
       "    <tr>\n",
       "      <th>0</th>\n",
       "      <td>cov-10 reads</td>\n",
       "      <td>2</td>\n",
       "      <td>59</td>\n",
       "      <td>32</td>\n",
       "      <td>10834</td>\n",
       "      <td>99.03</td>\n",
       "      <td>2.731401e+09</td>\n",
       "      <td>399642624.0</td>\n",
       "      <td>3.254997e+09</td>\n",
       "      <td>15.38</td>\n",
       "      <td>5.990711e+09</td>\n",
       "      <td>546975744.0</td>\n",
       "      <td>2695168.0</td>\n",
       "      <td>136.44</td>\n",
       "      <td>349233152.0</td>\n",
       "      <td>223801344.0</td>\n",
       "      <td>250.85</td>\n",
       "      <td>5.990711e+09</td>\n",
       "    </tr>\n",
       "    <tr>\n",
       "      <th>0</th>\n",
       "      <td>cov-10 reads</td>\n",
       "      <td>3</td>\n",
       "      <td>59</td>\n",
       "      <td>32</td>\n",
       "      <td>10834</td>\n",
       "      <td>104.47</td>\n",
       "      <td>2.644926e+09</td>\n",
       "      <td>390787072.0</td>\n",
       "      <td>3.254985e+09</td>\n",
       "      <td>14.78</td>\n",
       "      <td>5.984522e+09</td>\n",
       "      <td>553512960.0</td>\n",
       "      <td>2682880.0</td>\n",
       "      <td>122.95</td>\n",
       "      <td>349569024.0</td>\n",
       "      <td>224415744.0</td>\n",
       "      <td>242.20</td>\n",
       "      <td>5.984522e+09</td>\n",
       "    </tr>\n",
       "  </tbody>\n",
       "</table>\n",
       "</div>"
      ],
      "text/plain": [
       "           Name  Iteration  Number samples  Number cores  Reference length  \\\n",
       "0  cov-10 reads          1              59            32             10834   \n",
       "0  cov-10 reads          2              59            32             10834   \n",
       "0  cov-10 reads          3              59            32             10834   \n",
       "\n",
       "   Analysis runtime  Analysis memory (max)  Analysis memory (max/process)  \\\n",
       "0            124.17           2.721911e+09                    395726848.0   \n",
       "0             99.03           2.731401e+09                    399642624.0   \n",
       "0            104.47           2.644926e+09                    390787072.0   \n",
       "\n",
       "   Analysis disk uage  Index runtime  Index memory (max)  \\\n",
       "0        3.254985e+09          14.17        5.987484e+09   \n",
       "0        3.254997e+09          15.38        5.990711e+09   \n",
       "0        3.254985e+09          14.78        5.984522e+09   \n",
       "\n",
       "   Index memory (max/process)  Index size  Tree runtime  Tree memory (max)  \\\n",
       "0                 554250240.0   2695168.0        106.24        348872704.0   \n",
       "0                 546975744.0   2695168.0        136.44        349233152.0   \n",
       "0                 553512960.0   2682880.0        122.95        349569024.0   \n",
       "\n",
       "   Tree memory (max/process)  Total runtime    Max memory  \n",
       "0                223760384.0         244.58  5.987484e+09  \n",
       "0                223801344.0         250.85  5.990711e+09  \n",
       "0                224415744.0         242.20  5.984522e+09  "
      ]
     },
     "execution_count": 7,
     "metadata": {},
     "output_type": "execute_result"
    }
   ],
   "source": [
    "benchmark_df"
   ]
  },
  {
   "cell_type": "code",
   "execution_count": 8,
   "id": "535a9ccc-ab9c-4919-806f-128e1efd2389",
   "metadata": {
    "execution": {
     "iopub.execute_input": "2021-09-02T03:31:28.187072Z",
     "iopub.status.busy": "2021-09-02T03:31:28.185951Z",
     "iopub.status.idle": "2021-09-02T03:31:28.200323Z",
     "shell.execute_reply": "2021-09-02T03:31:28.199270Z"
    },
    "papermill": {
     "duration": 0.033583,
     "end_time": "2021-09-02T03:31:28.200557",
     "exception": false,
     "start_time": "2021-09-02T03:31:28.166974",
     "status": "completed"
    },
    "tags": []
   },
   "outputs": [],
   "source": [
    "index_reads_runtime = simulation_dir_path / 'reads-index-info.tsv'\n",
    "benchmark_df.to_csv(index_reads_runtime, sep='\\t', index=False)"
   ]
  },
  {
   "cell_type": "markdown",
   "id": "c331578f-4026-4a9f-a3ba-288814b02ed2",
   "metadata": {
    "papermill": {
     "duration": 0.01318,
     "end_time": "2021-09-02T03:31:28.240080",
     "exception": false,
     "start_time": "2021-09-02T03:31:28.226900",
     "status": "completed"
    },
    "tags": []
   },
   "source": [
    "## 2.2. Index assemblies"
   ]
  },
  {
   "cell_type": "code",
   "execution_count": 9,
   "id": "6e6664f4-94ee-4c45-b1fc-e048b387fa49",
   "metadata": {
    "execution": {
     "iopub.execute_input": "2021-09-02T03:31:28.281117Z",
     "iopub.status.busy": "2021-09-02T03:31:28.279984Z",
     "iopub.status.idle": "2021-09-02T03:31:31.196240Z",
     "shell.execute_reply": "2021-09-02T03:31:31.197127Z"
    },
    "papermill": {
     "duration": 2.94585,
     "end_time": "2021-09-02T03:31:31.197445",
     "exception": false,
     "start_time": "2021-09-02T03:31:28.251595",
     "status": "completed"
    },
    "tags": []
   },
   "outputs": [],
   "source": [
    "input_genomes_file = simulation_dir_path / 'input-assemblies.tsv'\n",
    "\n",
    "!gdi input --absolute {assemblies_dir}/*.fa.gz > {input_genomes_file}"
   ]
  },
  {
   "cell_type": "code",
   "execution_count": 10,
   "id": "0a1e62f3-3b0c-4a90-a7fe-f0bc1094e350",
   "metadata": {
    "execution": {
     "iopub.execute_input": "2021-09-02T03:31:31.244640Z",
     "iopub.status.busy": "2021-09-02T03:31:31.242916Z",
     "iopub.status.idle": "2021-09-02T03:40:45.288782Z",
     "shell.execute_reply": "2021-09-02T03:40:45.287775Z"
    },
    "papermill": {
     "duration": 554.067499,
     "end_time": "2021-09-02T03:40:45.289047",
     "exception": false,
     "start_time": "2021-09-02T03:31:31.221548",
     "status": "completed"
    },
    "tags": []
   },
   "outputs": [
    {
     "name": "stdout",
     "output_type": "stream",
     "text": [
      "\n",
      "Iteration 1 of index/analysis of 59 samples with 32 cores\n",
      "Removing any extra snakemake directories: ['snakemake-assemblies.1630553247.9734695']\n"
     ]
    },
    {
     "name": "stdout",
     "output_type": "stream",
     "text": [
      "Creating new index: [gdi init simulations/cov-10/index-assemblies]\n"
     ]
    },
    {
     "name": "stdout",
     "output_type": "stream",
     "text": [
      "Creating a new index took 2.90 seconds\n",
      "Analysis running: [gdi --project-dir simulations/cov-10/index-assemblies --ncores 32 analysis --use-conda --no-load-data --reference-file simulations/reference/reference.fa.gz --kmer-size 31 --kmer-size 51 --kmer-size 71 --include-kmer --reads-mincov 10 --input-structured-genomes-file simulations/cov-10/input-assemblies.tsv]\n"
     ]
    },
    {
     "name": "stdout",
     "output_type": "stream",
     "text": [
      "Analysis took 1.56 minutes\n",
      "Index running: [gdi --project-dir simulations/cov-10/index-assemblies --ncores 32 load vcf --reference-file simulations/reference/reference.fa.gz /home/CSCScience.ca/apetkau/workspace/genomics-data-index-evaluation/evaluations/simulation/snakemake-assemblies.1630553498.5981784/gdi-input.fofn]\n"
     ]
    },
    {
     "name": "stdout",
     "output_type": "stream",
     "text": [
      "Indexing took 0.09 minutes\n",
      "Building tree: [gdi --project-dir simulations/cov-10/index-assemblies --ncores 32 rebuild tree --align-type full --extra-params '--fast -m GTR+F+R4' reference]\n"
     ]
    },
    {
     "name": "stdout",
     "output_type": "stream",
     "text": [
      "Building tree took 1.32 minutes\n"
     ]
    },
    {
     "name": "stderr",
     "output_type": "stream",
     "text": [
      "Attempting to set global database_path_translator=<genomics_data_index.storage.model.db.DatabasePathTranslator.DatabasePathTranslator object at 0x7f72882e74f0> but it is already set\n"
     ]
    },
    {
     "name": "stderr",
     "output_type": "stream",
     "text": [
      "A reminder to myself to look for a Python solution for directory sizes (instead of running `du`)\n"
     ]
    },
    {
     "name": "stdout",
     "output_type": "stream",
     "text": [
      "\n",
      "Iteration 2 of index/analysis of 59 samples with 32 cores\n",
      "Removing any extra snakemake directories: ['snakemake-assemblies.1630553498.5981784']\n"
     ]
    },
    {
     "name": "stdout",
     "output_type": "stream",
     "text": [
      "Removing any existing indexes simulations/cov-10/index-assemblies\n",
      "Creating new index: [gdi init simulations/cov-10/index-assemblies]\n"
     ]
    },
    {
     "name": "stdout",
     "output_type": "stream",
     "text": [
      "Creating a new index took 2.70 seconds\n",
      "Analysis running: [gdi --project-dir simulations/cov-10/index-assemblies --ncores 32 analysis --use-conda --no-load-data --reference-file simulations/reference/reference.fa.gz --kmer-size 31 --kmer-size 51 --kmer-size 71 --include-kmer --reads-mincov 10 --input-structured-genomes-file simulations/cov-10/input-assemblies.tsv]\n"
     ]
    },
    {
     "name": "stdout",
     "output_type": "stream",
     "text": [
      "Analysis took 1.52 minutes\n",
      "Index running: [gdi --project-dir simulations/cov-10/index-assemblies --ncores 32 load vcf --reference-file simulations/reference/reference.fa.gz /home/CSCScience.ca/apetkau/workspace/genomics-data-index-evaluation/evaluations/simulation/snakemake-assemblies.1630553680.372588/gdi-input.fofn]\n"
     ]
    },
    {
     "name": "stdout",
     "output_type": "stream",
     "text": [
      "Indexing took 0.09 minutes\n",
      "Building tree: [gdi --project-dir simulations/cov-10/index-assemblies --ncores 32 rebuild tree --align-type full --extra-params '--fast -m GTR+F+R4' reference]\n"
     ]
    },
    {
     "name": "stdout",
     "output_type": "stream",
     "text": [
      "Building tree took 1.23 minutes\n"
     ]
    },
    {
     "name": "stderr",
     "output_type": "stream",
     "text": [
      "Attempting to set global database_path_translator=<genomics_data_index.storage.model.db.DatabasePathTranslator.DatabasePathTranslator object at 0x7f7239181fd0> but it is already set\n"
     ]
    },
    {
     "name": "stderr",
     "output_type": "stream",
     "text": [
      "A reminder to myself to look for a Python solution for directory sizes (instead of running `du`)\n"
     ]
    },
    {
     "name": "stdout",
     "output_type": "stream",
     "text": [
      "\n",
      "Iteration 3 of index/analysis of 59 samples with 32 cores\n",
      "Removing any extra snakemake directories: ['snakemake-assemblies.1630553680.372588']\n"
     ]
    },
    {
     "name": "stdout",
     "output_type": "stream",
     "text": [
      "Removing any existing indexes simulations/cov-10/index-assemblies\n",
      "Creating new index: [gdi init simulations/cov-10/index-assemblies]\n"
     ]
    },
    {
     "name": "stdout",
     "output_type": "stream",
     "text": [
      "Creating a new index took 2.68 seconds\n",
      "Analysis running: [gdi --project-dir simulations/cov-10/index-assemblies --ncores 32 analysis --use-conda --no-load-data --reference-file simulations/reference/reference.fa.gz --kmer-size 31 --kmer-size 51 --kmer-size 71 --include-kmer --reads-mincov 10 --input-structured-genomes-file simulations/cov-10/input-assemblies.tsv]\n"
     ]
    },
    {
     "name": "stdout",
     "output_type": "stream",
     "text": [
      "Analysis took 1.52 minutes\n",
      "Index running: [gdi --project-dir simulations/cov-10/index-assemblies --ncores 32 load vcf --reference-file simulations/reference/reference.fa.gz /home/CSCScience.ca/apetkau/workspace/genomics-data-index-evaluation/evaluations/simulation/snakemake-assemblies.1630553854.7604659/gdi-input.fofn]\n"
     ]
    },
    {
     "name": "stdout",
     "output_type": "stream",
     "text": [
      "Indexing took 0.09 minutes\n",
      "Building tree: [gdi --project-dir simulations/cov-10/index-assemblies --ncores 32 rebuild tree --align-type full --extra-params '--fast -m GTR+F+R4' reference]\n"
     ]
    },
    {
     "name": "stdout",
     "output_type": "stream",
     "text": [
      "Building tree took 1.62 minutes\n"
     ]
    },
    {
     "name": "stderr",
     "output_type": "stream",
     "text": [
      "Attempting to set global database_path_translator=<genomics_data_index.storage.model.db.DatabasePathTranslator.DatabasePathTranslator object at 0x7f724183c820> but it is already set\n"
     ]
    },
    {
     "name": "stderr",
     "output_type": "stream",
     "text": [
      "A reminder to myself to look for a Python solution for directory sizes (instead of running `du`)\n"
     ]
    }
   ],
   "source": [
    "results_handler = gdi_benchmark.BenchmarkResultsHandler(name=f'{case_name} assemblies')\n",
    "benchmarker = gdi_benchmark.IndexBenchmarker(benchmark_results_handler=results_handler,\n",
    "                                             index_path=index_assemblies_path, input_files_file=input_genomes_file,\n",
    "                                             reference_file=reference_file, mincov=mincov, build_tree=True,\n",
    "                                             ncores=ncores)\n",
    "\n",
    "benchmark_df = benchmarker.benchmark(iterations=iterations)"
   ]
  },
  {
   "cell_type": "code",
   "execution_count": 11,
   "id": "a6d55a9d-be2f-4851-b66c-04b5ebd597a1",
   "metadata": {
    "execution": {
     "iopub.execute_input": "2021-09-02T03:40:45.369924Z",
     "iopub.status.busy": "2021-09-02T03:40:45.368818Z",
     "iopub.status.idle": "2021-09-02T03:40:45.373061Z",
     "shell.execute_reply": "2021-09-02T03:40:45.373954Z"
    },
    "papermill": {
     "duration": 0.053417,
     "end_time": "2021-09-02T03:40:45.374220",
     "exception": false,
     "start_time": "2021-09-02T03:40:45.320803",
     "status": "completed"
    },
    "tags": []
   },
   "outputs": [
    {
     "data": {
      "text/html": [
       "<div>\n",
       "<style scoped>\n",
       "    .dataframe tbody tr th:only-of-type {\n",
       "        vertical-align: middle;\n",
       "    }\n",
       "\n",
       "    .dataframe tbody tr th {\n",
       "        vertical-align: top;\n",
       "    }\n",
       "\n",
       "    .dataframe thead th {\n",
       "        text-align: right;\n",
       "    }\n",
       "</style>\n",
       "<table border=\"1\" class=\"dataframe\">\n",
       "  <thead>\n",
       "    <tr style=\"text-align: right;\">\n",
       "      <th></th>\n",
       "      <th>Name</th>\n",
       "      <th>Iteration</th>\n",
       "      <th>Number samples</th>\n",
       "      <th>Number cores</th>\n",
       "      <th>Reference length</th>\n",
       "      <th>Analysis runtime</th>\n",
       "      <th>Analysis memory (max)</th>\n",
       "      <th>Analysis memory (max/process)</th>\n",
       "      <th>Analysis disk uage</th>\n",
       "      <th>Index runtime</th>\n",
       "      <th>Index memory (max)</th>\n",
       "      <th>Index memory (max/process)</th>\n",
       "      <th>Index size</th>\n",
       "      <th>Tree runtime</th>\n",
       "      <th>Tree memory (max)</th>\n",
       "      <th>Tree memory (max/process)</th>\n",
       "      <th>Total runtime</th>\n",
       "      <th>Max memory</th>\n",
       "    </tr>\n",
       "  </thead>\n",
       "  <tbody>\n",
       "    <tr>\n",
       "      <th>0</th>\n",
       "      <td>cov-10 assemblies</td>\n",
       "      <td>1</td>\n",
       "      <td>59</td>\n",
       "      <td>32</td>\n",
       "      <td>10834</td>\n",
       "      <td>93.27</td>\n",
       "      <td>1.232249e+09</td>\n",
       "      <td>380784640.0</td>\n",
       "      <td>2.082599e+09</td>\n",
       "      <td>5.23</td>\n",
       "      <td>5.763768e+09</td>\n",
       "      <td>238288896.0</td>\n",
       "      <td>1060864.0</td>\n",
       "      <td>78.88</td>\n",
       "      <td>240570368.0</td>\n",
       "      <td>223973376.0</td>\n",
       "      <td>177.38</td>\n",
       "      <td>5.763768e+09</td>\n",
       "    </tr>\n",
       "    <tr>\n",
       "      <th>0</th>\n",
       "      <td>cov-10 assemblies</td>\n",
       "      <td>2</td>\n",
       "      <td>59</td>\n",
       "      <td>32</td>\n",
       "      <td>10834</td>\n",
       "      <td>90.81</td>\n",
       "      <td>1.188397e+09</td>\n",
       "      <td>369287168.0</td>\n",
       "      <td>2.082574e+09</td>\n",
       "      <td>5.09</td>\n",
       "      <td>5.783773e+09</td>\n",
       "      <td>237760512.0</td>\n",
       "      <td>1064960.0</td>\n",
       "      <td>73.80</td>\n",
       "      <td>240840704.0</td>\n",
       "      <td>223887360.0</td>\n",
       "      <td>169.70</td>\n",
       "      <td>5.783773e+09</td>\n",
       "    </tr>\n",
       "    <tr>\n",
       "      <th>0</th>\n",
       "      <td>cov-10 assemblies</td>\n",
       "      <td>3</td>\n",
       "      <td>59</td>\n",
       "      <td>32</td>\n",
       "      <td>10834</td>\n",
       "      <td>90.80</td>\n",
       "      <td>1.239757e+09</td>\n",
       "      <td>375746560.0</td>\n",
       "      <td>2.082607e+09</td>\n",
       "      <td>5.01</td>\n",
       "      <td>5.780402e+09</td>\n",
       "      <td>237891584.0</td>\n",
       "      <td>1064960.0</td>\n",
       "      <td>96.88</td>\n",
       "      <td>241598464.0</td>\n",
       "      <td>224260096.0</td>\n",
       "      <td>192.69</td>\n",
       "      <td>5.780402e+09</td>\n",
       "    </tr>\n",
       "  </tbody>\n",
       "</table>\n",
       "</div>"
      ],
      "text/plain": [
       "                Name  Iteration  Number samples  Number cores  \\\n",
       "0  cov-10 assemblies          1              59            32   \n",
       "0  cov-10 assemblies          2              59            32   \n",
       "0  cov-10 assemblies          3              59            32   \n",
       "\n",
       "   Reference length  Analysis runtime  Analysis memory (max)  \\\n",
       "0             10834             93.27           1.232249e+09   \n",
       "0             10834             90.81           1.188397e+09   \n",
       "0             10834             90.80           1.239757e+09   \n",
       "\n",
       "   Analysis memory (max/process)  Analysis disk uage  Index runtime  \\\n",
       "0                    380784640.0        2.082599e+09           5.23   \n",
       "0                    369287168.0        2.082574e+09           5.09   \n",
       "0                    375746560.0        2.082607e+09           5.01   \n",
       "\n",
       "   Index memory (max)  Index memory (max/process)  Index size  Tree runtime  \\\n",
       "0        5.763768e+09                 238288896.0   1060864.0         78.88   \n",
       "0        5.783773e+09                 237760512.0   1064960.0         73.80   \n",
       "0        5.780402e+09                 237891584.0   1064960.0         96.88   \n",
       "\n",
       "   Tree memory (max)  Tree memory (max/process)  Total runtime    Max memory  \n",
       "0        240570368.0                223973376.0         177.38  5.763768e+09  \n",
       "0        240840704.0                223887360.0         169.70  5.783773e+09  \n",
       "0        241598464.0                224260096.0         192.69  5.780402e+09  "
      ]
     },
     "execution_count": 11,
     "metadata": {},
     "output_type": "execute_result"
    }
   ],
   "source": [
    "benchmark_df"
   ]
  },
  {
   "cell_type": "code",
   "execution_count": 12,
   "id": "e1a6d962-50bc-4c8d-a6f2-3a661da706b4",
   "metadata": {
    "execution": {
     "iopub.execute_input": "2021-09-02T03:40:45.429502Z",
     "iopub.status.busy": "2021-09-02T03:40:45.428380Z",
     "iopub.status.idle": "2021-09-02T03:40:45.431286Z",
     "shell.execute_reply": "2021-09-02T03:40:45.432199Z"
    },
    "papermill": {
     "duration": 0.028749,
     "end_time": "2021-09-02T03:40:45.432467",
     "exception": false,
     "start_time": "2021-09-02T03:40:45.403718",
     "status": "completed"
    },
    "tags": []
   },
   "outputs": [],
   "source": [
    "index_assemblies_runtime = simulation_dir_path / 'assemblies-index-info.tsv'\n",
    "benchmark_df.to_csv(index_assemblies_runtime, sep='\\t', index=False)"
   ]
  },
  {
   "cell_type": "markdown",
   "id": "6cb7673b-9f85-4c43-b2e2-93538497a196",
   "metadata": {
    "papermill": {
     "duration": 0.015532,
     "end_time": "2021-09-02T03:40:45.479080",
     "exception": false,
     "start_time": "2021-09-02T03:40:45.463548",
     "status": "completed"
    },
    "tags": []
   },
   "source": [
    "# 3. Export trees"
   ]
  },
  {
   "cell_type": "code",
   "execution_count": 13,
   "id": "5280f82c-5434-4391-8c44-b937a7c95bd5",
   "metadata": {
    "execution": {
     "iopub.execute_input": "2021-09-02T03:40:45.520629Z",
     "iopub.status.busy": "2021-09-02T03:40:45.519496Z",
     "iopub.status.idle": "2021-09-02T03:40:51.344146Z",
     "shell.execute_reply": "2021-09-02T03:40:51.345014Z"
    },
    "papermill": {
     "duration": 5.851127,
     "end_time": "2021-09-02T03:40:51.345332",
     "exception": false,
     "start_time": "2021-09-02T03:40:45.494205",
     "status": "completed"
    },
    "tags": []
   },
   "outputs": [
    {
     "name": "stdout",
     "output_type": "stream",
     "text": [
      "Wrote assemblies tree to simulations/cov-10/index-assemblies/assemblies.tre\n"
     ]
    },
    {
     "name": "stdout",
     "output_type": "stream",
     "text": [
      "Wrote assemblies tree to simulations/cov-10/index-reads/reads.tre\n"
     ]
    }
   ],
   "source": [
    "!gdi --project-dir {index_assemblies_path} export tree {reference_name} > {output_assemblies_tree}\n",
    "print(f'Wrote assemblies tree to {output_assemblies_tree}')\n",
    "\n",
    "!gdi --project-dir {index_reads_path} export tree {reference_name} > {output_reads_tree}\n",
    "print(f'Wrote assemblies tree to {output_reads_tree}')"
   ]
  }
 ],
 "metadata": {
  "kernelspec": {
   "display_name": "Python 3 (ipykernel)",
   "language": "python",
   "name": "python3"
  },
  "language_info": {
   "codemirror_mode": {
    "name": "ipython",
    "version": 3
   },
   "file_extension": ".py",
   "mimetype": "text/x-python",
   "name": "python",
   "nbconvert_exporter": "python",
   "pygments_lexer": "ipython3",
   "version": "3.8.10"
  },
  "papermill": {
   "default_parameters": {},
   "duration": 1328.576228,
   "end_time": "2021-09-02T03:40:52.759615",
   "environment_variables": {},
   "exception": null,
   "input_path": "template-3-index-genomes.ipynb",
   "output_path": "3-index-genomes.simulation-cov-10.ipynb",
   "parameters": {
    "iterations": 3,
    "mincov": 10,
    "read_coverage": 10,
    "simulation_dir": "simulations/cov-10"
   },
   "start_time": "2021-09-02T03:18:44.183387",
   "version": "2.3.3"
  }
 },
 "nbformat": 4,
 "nbformat_minor": 5
}