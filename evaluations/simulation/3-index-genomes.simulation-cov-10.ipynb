{
 "cells": [
  {
   "cell_type": "markdown",
   "id": "7d3667b4-b1f8-4347-96e3-830c25b06740",
   "metadata": {
    "papermill": {
     "duration": 0.019219,
     "end_time": "2021-09-11T21:35:07.708045",
     "exception": false,
     "start_time": "2021-09-11T21:35:07.688826",
     "status": "completed"
    },
    "tags": []
   },
   "source": [
    "# 1. Parameters"
   ]
  },
  {
   "cell_type": "code",
   "execution_count": 1,
   "id": "d4ab0749-b286-4c34-b63c-a854e4952bae",
   "metadata": {
    "execution": {
     "iopub.execute_input": "2021-09-11T21:35:07.740712Z",
     "iopub.status.busy": "2021-09-11T21:35:07.740213Z",
     "iopub.status.idle": "2021-09-11T21:35:07.745715Z",
     "shell.execute_reply": "2021-09-11T21:35:07.745244Z"
    },
    "papermill": {
     "duration": 0.027149,
     "end_time": "2021-09-11T21:35:07.745842",
     "exception": false,
     "start_time": "2021-09-11T21:35:07.718693",
     "status": "completed"
    },
    "tags": [
     "parameters"
    ]
   },
   "outputs": [],
   "source": [
    "# Defaults\n",
    "simulation_dir = 'simulations/unset'\n",
    "reference_file = 'simulations/reference/reference.fa.gz'\n",
    "iterations = 3\n",
    "mincov = 10\n",
    "ncores = 32"
   ]
  },
  {
   "cell_type": "code",
   "execution_count": 2,
   "id": "4f0d5ed7",
   "metadata": {
    "execution": {
     "iopub.execute_input": "2021-09-11T21:35:07.770004Z",
     "iopub.status.busy": "2021-09-11T21:35:07.769596Z",
     "iopub.status.idle": "2021-09-11T21:35:07.772357Z",
     "shell.execute_reply": "2021-09-11T21:35:07.772670Z"
    },
    "papermill": {
     "duration": 0.016315,
     "end_time": "2021-09-11T21:35:07.772770",
     "exception": false,
     "start_time": "2021-09-11T21:35:07.756455",
     "status": "completed"
    },
    "tags": [
     "injected-parameters"
    ]
   },
   "outputs": [],
   "source": [
    "# Parameters\n",
    "read_coverage = 10\n",
    "mincov = 10\n",
    "simulation_dir = \"simulations/cov-10\"\n",
    "iterations = 3\n",
    "sub_alpha = 0.2\n"
   ]
  },
  {
   "cell_type": "code",
   "execution_count": 3,
   "id": "ce5962e4-261c-4210-b39b-47044e28466b",
   "metadata": {
    "execution": {
     "iopub.execute_input": "2021-09-11T21:35:07.795124Z",
     "iopub.status.busy": "2021-09-11T21:35:07.794724Z",
     "iopub.status.idle": "2021-09-11T21:35:10.168961Z",
     "shell.execute_reply": "2021-09-11T21:35:10.169841Z"
    },
    "papermill": {
     "duration": 2.390817,
     "end_time": "2021-09-11T21:35:10.170148",
     "exception": false,
     "start_time": "2021-09-11T21:35:07.779331",
     "status": "completed"
    },
    "tags": []
   },
   "outputs": [],
   "source": [
    "from pathlib import Path\n",
    "import imp\n",
    "fp, pathname, description = imp.find_module('gdi_benchmark', ['../../lib'])\n",
    "gdi_benchmark = imp.load_module('gdi_benchmark', fp, pathname, description)\n",
    "\n",
    "simulation_dir_path = Path(simulation_dir)\n",
    "\n",
    "case_name = str(simulation_dir_path.name)\n",
    "reads_dir = simulation_dir_path / 'simulated_data' / 'reads'\n",
    "assemblies_dir = simulation_dir_path / 'simulated_data' / 'assemblies'\n",
    "index_reads_path = simulation_dir_path / 'index-reads'\n",
    "index_assemblies_path = simulation_dir_path / 'index-assemblies'\n",
    "output_reads_tree = index_reads_path / 'reads.tre'\n",
    "output_assemblies_tree = index_assemblies_path / 'assemblies.tre'\n",
    "reference_name = Path(reference_file).name.split('.')[0]"
   ]
  },
  {
   "cell_type": "markdown",
   "id": "f208279e-7558-47fc-9362-da29df92828a",
   "metadata": {
    "papermill": {
     "duration": 0.010428,
     "end_time": "2021-09-11T21:35:10.198446",
     "exception": false,
     "start_time": "2021-09-11T21:35:10.188018",
     "status": "completed"
    },
    "tags": []
   },
   "source": [
    "# 2. Index genomes"
   ]
  },
  {
   "cell_type": "code",
   "execution_count": 4,
   "id": "4e936f7c-2fcd-4188-b0e6-6b3ceb5cdcd2",
   "metadata": {
    "execution": {
     "iopub.execute_input": "2021-09-11T21:35:10.220398Z",
     "iopub.status.busy": "2021-09-11T21:35:10.220000Z",
     "iopub.status.idle": "2021-09-11T21:35:12.983141Z",
     "shell.execute_reply": "2021-09-11T21:35:12.984029Z"
    },
    "papermill": {
     "duration": 2.778298,
     "end_time": "2021-09-11T21:35:12.984330",
     "exception": false,
     "start_time": "2021-09-11T21:35:10.206032",
     "status": "completed"
    },
    "tags": []
   },
   "outputs": [
    {
     "name": "stdout",
     "output_type": "stream",
     "text": [
      "gdi, version 0.3.0.dev12\r\n"
     ]
    }
   ],
   "source": [
    "!gdi --version"
   ]
  },
  {
   "cell_type": "markdown",
   "id": "5409ecf8-2158-4361-9d2f-6b1a6c7c63a6",
   "metadata": {
    "papermill": {
     "duration": 0.010082,
     "end_time": "2021-09-11T21:35:13.012248",
     "exception": false,
     "start_time": "2021-09-11T21:35:13.002166",
     "status": "completed"
    },
    "tags": []
   },
   "source": [
    "## 2.1. Index reads"
   ]
  },
  {
   "cell_type": "code",
   "execution_count": 5,
   "id": "b5324f79-913b-4dac-8122-19ad5c0f24b2",
   "metadata": {
    "execution": {
     "iopub.execute_input": "2021-09-11T21:35:13.046029Z",
     "iopub.status.busy": "2021-09-11T21:35:13.034258Z",
     "iopub.status.idle": "2021-09-11T21:35:15.977556Z",
     "shell.execute_reply": "2021-09-11T21:35:15.978421Z"
    },
    "papermill": {
     "duration": 2.958834,
     "end_time": "2021-09-11T21:35:15.978735",
     "exception": false,
     "start_time": "2021-09-11T21:35:13.019901",
     "status": "completed"
    },
    "tags": []
   },
   "outputs": [],
   "source": [
    "input_genomes_file = simulation_dir_path / 'input-reads.tsv'\n",
    "\n",
    "!gdi input --absolute {reads_dir}/*.fq.gz > {input_genomes_file}"
   ]
  },
  {
   "cell_type": "code",
   "execution_count": 6,
   "id": "3d63e861-733e-46f2-8bce-bd1a2c7c7058",
   "metadata": {
    "execution": {
     "iopub.execute_input": "2021-09-11T21:35:16.020255Z",
     "iopub.status.busy": "2021-09-11T21:35:16.019691Z",
     "iopub.status.idle": "2021-09-11T21:48:22.855368Z",
     "shell.execute_reply": "2021-09-11T21:48:22.854343Z"
    },
    "papermill": {
     "duration": 786.859516,
     "end_time": "2021-09-11T21:48:22.855794",
     "exception": false,
     "start_time": "2021-09-11T21:35:15.996278",
     "status": "completed"
    },
    "tags": []
   },
   "outputs": [
    {
     "name": "stdout",
     "output_type": "stream",
     "text": [
      "\n",
      "Iteration 1 of index/analysis of 59 samples with 32 cores\n",
      "Removing any extra snakemake directories: ['snakemake-assemblies.1631395903.956386']\n"
     ]
    },
    {
     "name": "stdout",
     "output_type": "stream",
     "text": [
      "Creating new index: [gdi init simulations/cov-10/index-reads]\n"
     ]
    },
    {
     "name": "stdout",
     "output_type": "stream",
     "text": [
      "Creating a new index took 2.68 seconds\n",
      "Analysis running: [gdi --project-dir simulations/cov-10/index-reads --ncores 32 analysis --use-conda --no-load-data --reference-file simulations/reference/reference.fa.gz --kmer-size 31 --kmer-size 51 --kmer-size 71 --include-kmer --reads-mincov 10 --input-structured-genomes-file simulations/cov-10/input-reads.tsv]\n"
     ]
    },
    {
     "name": "stdout",
     "output_type": "stream",
     "text": [
      "Analysis took 1.68 minutes\n",
      "Index running: [gdi --project-dir simulations/cov-10/index-reads --ncores 32 load vcf-kmer --reference-file simulations/reference/reference.fa.gz /home/CSCScience.ca/apetkau/workspace/genomics-data-index-evaluation/evaluations/simulation/snakemake-assemblies.1631396123.0324771/gdi-input.fofn]\n"
     ]
    },
    {
     "name": "stdout",
     "output_type": "stream",
     "text": [
      "Indexing took 0.42 minutes\n",
      "Building tree: [gdi --project-dir simulations/cov-10/index-reads --ncores 32 rebuild tree --align-type full --extra-params '--fast -m GTR+F+R4' reference]\n"
     ]
    },
    {
     "name": "stdout",
     "output_type": "stream",
     "text": [
      "Building tree took 1.96 minutes\n"
     ]
    },
    {
     "name": "stderr",
     "output_type": "stream",
     "text": [
      "A reminder to myself to look for a Python solution for directory sizes (instead of running `du`)\n"
     ]
    },
    {
     "name": "stdout",
     "output_type": "stream",
     "text": [
      "\n",
      "Iteration 2 of index/analysis of 59 samples with 32 cores\n",
      "Removing any extra snakemake directories: ['snakemake-assemblies.1631396123.0324771']\n"
     ]
    },
    {
     "name": "stdout",
     "output_type": "stream",
     "text": [
      "Removing any existing indexes simulations/cov-10/index-reads\n",
      "Creating new index: [gdi init simulations/cov-10/index-reads]\n"
     ]
    },
    {
     "name": "stdout",
     "output_type": "stream",
     "text": [
      "Creating a new index took 2.67 seconds\n",
      "Analysis running: [gdi --project-dir simulations/cov-10/index-reads --ncores 32 analysis --use-conda --no-load-data --reference-file simulations/reference/reference.fa.gz --kmer-size 31 --kmer-size 51 --kmer-size 71 --include-kmer --reads-mincov 10 --input-structured-genomes-file simulations/cov-10/input-reads.tsv]\n"
     ]
    },
    {
     "name": "stdout",
     "output_type": "stream",
     "text": [
      "Analysis took 1.73 minutes\n",
      "Index running: [gdi --project-dir simulations/cov-10/index-reads --ncores 32 load vcf-kmer --reference-file simulations/reference/reference.fa.gz /home/CSCScience.ca/apetkau/workspace/genomics-data-index-evaluation/evaluations/simulation/snakemake-assemblies.1631396370.9434898/gdi-input.fofn]\n"
     ]
    },
    {
     "name": "stdout",
     "output_type": "stream",
     "text": [
      "Indexing took 0.42 minutes\n",
      "Building tree: [gdi --project-dir simulations/cov-10/index-reads --ncores 32 rebuild tree --align-type full --extra-params '--fast -m GTR+F+R4' reference]\n"
     ]
    },
    {
     "name": "stdout",
     "output_type": "stream",
     "text": [
      "Building tree took 2.37 minutes\n"
     ]
    },
    {
     "name": "stderr",
     "output_type": "stream",
     "text": [
      "Attempting to set global database_path_translator=<genomics_data_index.storage.model.db.DatabasePathTranslator.DatabasePathTranslator object at 0x7f4836a335b0> but it is already set\n"
     ]
    },
    {
     "name": "stderr",
     "output_type": "stream",
     "text": [
      "A reminder to myself to look for a Python solution for directory sizes (instead of running `du`)\n"
     ]
    },
    {
     "name": "stdout",
     "output_type": "stream",
     "text": [
      "\n",
      "Iteration 3 of index/analysis of 59 samples with 32 cores\n",
      "Removing any extra snakemake directories: ['snakemake-assemblies.1631396370.9434898']\n"
     ]
    },
    {
     "name": "stdout",
     "output_type": "stream",
     "text": [
      "Removing any existing indexes simulations/cov-10/index-reads\n",
      "Creating new index: [gdi init simulations/cov-10/index-reads]\n"
     ]
    },
    {
     "name": "stdout",
     "output_type": "stream",
     "text": [
      "Creating a new index took 2.76 seconds\n",
      "Analysis running: [gdi --project-dir simulations/cov-10/index-reads --ncores 32 analysis --use-conda --no-load-data --reference-file simulations/reference/reference.fa.gz --kmer-size 31 --kmer-size 51 --kmer-size 71 --include-kmer --reads-mincov 10 --input-structured-genomes-file simulations/cov-10/input-reads.tsv]\n"
     ]
    },
    {
     "name": "stdout",
     "output_type": "stream",
     "text": [
      "Analysis took 1.72 minutes\n",
      "Index running: [gdi --project-dir simulations/cov-10/index-reads --ncores 32 load vcf-kmer --reference-file simulations/reference/reference.fa.gz /home/CSCScience.ca/apetkau/workspace/genomics-data-index-evaluation/evaluations/simulation/snakemake-assemblies.1631396646.8603833/gdi-input.fofn]\n"
     ]
    },
    {
     "name": "stdout",
     "output_type": "stream",
     "text": [
      "Indexing took 0.41 minutes\n",
      "Building tree: [gdi --project-dir simulations/cov-10/index-reads --ncores 32 rebuild tree --align-type full --extra-params '--fast -m GTR+F+R4' reference]\n"
     ]
    },
    {
     "name": "stdout",
     "output_type": "stream",
     "text": [
      "Building tree took 2.18 minutes\n"
     ]
    },
    {
     "name": "stderr",
     "output_type": "stream",
     "text": [
      "Attempting to set global database_path_translator=<genomics_data_index.storage.model.db.DatabasePathTranslator.DatabasePathTranslator object at 0x7f483683b2e0> but it is already set\n"
     ]
    },
    {
     "name": "stderr",
     "output_type": "stream",
     "text": [
      "A reminder to myself to look for a Python solution for directory sizes (instead of running `du`)\n"
     ]
    }
   ],
   "source": [
    "results_handler = gdi_benchmark.BenchmarkResultsHandler(name=f'{case_name} reads')\n",
    "benchmarker = gdi_benchmark.IndexBenchmarker(benchmark_results_handler=results_handler,\n",
    "                                             index_path=index_reads_path, input_files_file=input_genomes_file,\n",
    "                                             reference_file=reference_file, mincov=mincov, build_tree=True,\n",
    "                                             ncores=ncores)\n",
    "\n",
    "benchmark_df = benchmarker.benchmark(iterations=iterations)"
   ]
  },
  {
   "cell_type": "code",
   "execution_count": 7,
   "id": "3bcb6da7-0164-47f2-abdd-a4c159da1e3b",
   "metadata": {
    "execution": {
     "iopub.execute_input": "2021-09-11T21:48:22.907229Z",
     "iopub.status.busy": "2021-09-11T21:48:22.906699Z",
     "iopub.status.idle": "2021-09-11T21:48:22.941421Z",
     "shell.execute_reply": "2021-09-11T21:48:22.942307Z"
    },
    "papermill": {
     "duration": 0.063166,
     "end_time": "2021-09-11T21:48:22.942567",
     "exception": false,
     "start_time": "2021-09-11T21:48:22.879401",
     "status": "completed"
    },
    "tags": []
   },
   "outputs": [
    {
     "data": {
      "text/html": [
       "<div>\n",
       "<style scoped>\n",
       "    .dataframe tbody tr th:only-of-type {\n",
       "        vertical-align: middle;\n",
       "    }\n",
       "\n",
       "    .dataframe tbody tr th {\n",
       "        vertical-align: top;\n",
       "    }\n",
       "\n",
       "    .dataframe thead th {\n",
       "        text-align: right;\n",
       "    }\n",
       "</style>\n",
       "<table border=\"1\" class=\"dataframe\">\n",
       "  <thead>\n",
       "    <tr style=\"text-align: right;\">\n",
       "      <th></th>\n",
       "      <th>Name</th>\n",
       "      <th>Iteration</th>\n",
       "      <th>Number samples</th>\n",
       "      <th>Number features (all)</th>\n",
       "      <th>Number features (no unknown)</th>\n",
       "      <th>Number cores</th>\n",
       "      <th>Reference length</th>\n",
       "      <th>Analysis runtime</th>\n",
       "      <th>Analysis memory (max)</th>\n",
       "      <th>Analysis memory (max/process)</th>\n",
       "      <th>Analysis disk uage</th>\n",
       "      <th>Index runtime</th>\n",
       "      <th>Index memory (max)</th>\n",
       "      <th>Index memory (max/process)</th>\n",
       "      <th>Index size</th>\n",
       "      <th>Tree runtime</th>\n",
       "      <th>Tree memory (max)</th>\n",
       "      <th>Tree memory (max/process)</th>\n",
       "      <th>Total runtime</th>\n",
       "      <th>Max memory</th>\n",
       "    </tr>\n",
       "  </thead>\n",
       "  <tbody>\n",
       "    <tr>\n",
       "      <th>0</th>\n",
       "      <td>cov-10 reads</td>\n",
       "      <td>1</td>\n",
       "      <td>59</td>\n",
       "      <td>20614</td>\n",
       "      <td>915</td>\n",
       "      <td>32</td>\n",
       "      <td>19699</td>\n",
       "      <td>100.57</td>\n",
       "      <td>2.612494e+09</td>\n",
       "      <td>396763136.0</td>\n",
       "      <td>3.263693e+09</td>\n",
       "      <td>24.85</td>\n",
       "      <td>6.024147e+09</td>\n",
       "      <td>815632384.0</td>\n",
       "      <td>4489216.0</td>\n",
       "      <td>117.70</td>\n",
       "      <td>438214656.0</td>\n",
       "      <td>223010816.0</td>\n",
       "      <td>243.12</td>\n",
       "      <td>6.024147e+09</td>\n",
       "    </tr>\n",
       "    <tr>\n",
       "      <th>0</th>\n",
       "      <td>cov-10 reads</td>\n",
       "      <td>2</td>\n",
       "      <td>59</td>\n",
       "      <td>20614</td>\n",
       "      <td>915</td>\n",
       "      <td>32</td>\n",
       "      <td>19699</td>\n",
       "      <td>103.73</td>\n",
       "      <td>2.634998e+09</td>\n",
       "      <td>392138752.0</td>\n",
       "      <td>3.263693e+09</td>\n",
       "      <td>25.22</td>\n",
       "      <td>6.031143e+09</td>\n",
       "      <td>814899200.0</td>\n",
       "      <td>4513792.0</td>\n",
       "      <td>141.95</td>\n",
       "      <td>440946688.0</td>\n",
       "      <td>223186944.0</td>\n",
       "      <td>270.90</td>\n",
       "      <td>6.031143e+09</td>\n",
       "    </tr>\n",
       "    <tr>\n",
       "      <th>0</th>\n",
       "      <td>cov-10 reads</td>\n",
       "      <td>3</td>\n",
       "      <td>59</td>\n",
       "      <td>20614</td>\n",
       "      <td>915</td>\n",
       "      <td>32</td>\n",
       "      <td>19699</td>\n",
       "      <td>103.03</td>\n",
       "      <td>2.667524e+09</td>\n",
       "      <td>382586880.0</td>\n",
       "      <td>3.263685e+09</td>\n",
       "      <td>24.47</td>\n",
       "      <td>6.037524e+09</td>\n",
       "      <td>780865536.0</td>\n",
       "      <td>4517888.0</td>\n",
       "      <td>130.46</td>\n",
       "      <td>439336960.0</td>\n",
       "      <td>222920704.0</td>\n",
       "      <td>257.96</td>\n",
       "      <td>6.037524e+09</td>\n",
       "    </tr>\n",
       "  </tbody>\n",
       "</table>\n",
       "</div>"
      ],
      "text/plain": [
       "           Name  Iteration  Number samples  Number features (all)  \\\n",
       "0  cov-10 reads          1              59                  20614   \n",
       "0  cov-10 reads          2              59                  20614   \n",
       "0  cov-10 reads          3              59                  20614   \n",
       "\n",
       "   Number features (no unknown)  Number cores  Reference length  \\\n",
       "0                           915            32             19699   \n",
       "0                           915            32             19699   \n",
       "0                           915            32             19699   \n",
       "\n",
       "   Analysis runtime  Analysis memory (max)  Analysis memory (max/process)  \\\n",
       "0            100.57           2.612494e+09                    396763136.0   \n",
       "0            103.73           2.634998e+09                    392138752.0   \n",
       "0            103.03           2.667524e+09                    382586880.0   \n",
       "\n",
       "   Analysis disk uage  Index runtime  Index memory (max)  \\\n",
       "0        3.263693e+09          24.85        6.024147e+09   \n",
       "0        3.263693e+09          25.22        6.031143e+09   \n",
       "0        3.263685e+09          24.47        6.037524e+09   \n",
       "\n",
       "   Index memory (max/process)  Index size  Tree runtime  Tree memory (max)  \\\n",
       "0                 815632384.0   4489216.0        117.70        438214656.0   \n",
       "0                 814899200.0   4513792.0        141.95        440946688.0   \n",
       "0                 780865536.0   4517888.0        130.46        439336960.0   \n",
       "\n",
       "   Tree memory (max/process)  Total runtime    Max memory  \n",
       "0                223010816.0         243.12  6.024147e+09  \n",
       "0                223186944.0         270.90  6.031143e+09  \n",
       "0                222920704.0         257.96  6.037524e+09  "
      ]
     },
     "execution_count": 7,
     "metadata": {},
     "output_type": "execute_result"
    }
   ],
   "source": [
    "benchmark_df"
   ]
  },
  {
   "cell_type": "code",
   "execution_count": 8,
   "id": "535a9ccc-ab9c-4919-806f-128e1efd2389",
   "metadata": {
    "execution": {
     "iopub.execute_input": "2021-09-11T21:48:22.985586Z",
     "iopub.status.busy": "2021-09-11T21:48:22.985193Z",
     "iopub.status.idle": "2021-09-11T21:48:22.992757Z",
     "shell.execute_reply": "2021-09-11T21:48:22.993071Z"
    },
    "papermill": {
     "duration": 0.026642,
     "end_time": "2021-09-11T21:48:22.993165",
     "exception": false,
     "start_time": "2021-09-11T21:48:22.966523",
     "status": "completed"
    },
    "tags": []
   },
   "outputs": [],
   "source": [
    "index_reads_runtime = simulation_dir_path / 'reads-index-info.tsv'\n",
    "benchmark_df.to_csv(index_reads_runtime, sep='\\t', index=False)"
   ]
  },
  {
   "cell_type": "markdown",
   "id": "c331578f-4026-4a9f-a3ba-288814b02ed2",
   "metadata": {
    "papermill": {
     "duration": 0.012245,
     "end_time": "2021-09-11T21:48:23.019941",
     "exception": false,
     "start_time": "2021-09-11T21:48:23.007696",
     "status": "completed"
    },
    "tags": []
   },
   "source": [
    "## 2.2. Index assemblies"
   ]
  },
  {
   "cell_type": "code",
   "execution_count": 9,
   "id": "6e6664f4-94ee-4c45-b1fc-e048b387fa49",
   "metadata": {
    "execution": {
     "iopub.execute_input": "2021-09-11T21:48:23.059414Z",
     "iopub.status.busy": "2021-09-11T21:48:23.050445Z",
     "iopub.status.idle": "2021-09-11T21:48:25.698066Z",
     "shell.execute_reply": "2021-09-11T21:48:25.698972Z"
    },
    "papermill": {
     "duration": 2.667547,
     "end_time": "2021-09-11T21:48:25.699239",
     "exception": false,
     "start_time": "2021-09-11T21:48:23.031692",
     "status": "completed"
    },
    "tags": []
   },
   "outputs": [],
   "source": [
    "input_genomes_file = simulation_dir_path / 'input-assemblies.tsv'\n",
    "\n",
    "!gdi input --absolute {assemblies_dir}/*.fa.gz > {input_genomes_file}"
   ]
  },
  {
   "cell_type": "code",
   "execution_count": 10,
   "id": "0a1e62f3-3b0c-4a90-a7fe-f0bc1094e350",
   "metadata": {
    "execution": {
     "iopub.execute_input": "2021-09-11T21:48:25.747796Z",
     "iopub.status.busy": "2021-09-11T21:48:25.747340Z",
     "iopub.status.idle": "2021-09-11T21:58:23.422513Z",
     "shell.execute_reply": "2021-09-11T21:58:23.421562Z"
    },
    "papermill": {
     "duration": 597.697391,
     "end_time": "2021-09-11T21:58:23.422766",
     "exception": false,
     "start_time": "2021-09-11T21:48:25.725375",
     "status": "completed"
    },
    "tags": []
   },
   "outputs": [
    {
     "name": "stdout",
     "output_type": "stream",
     "text": [
      "\n",
      "Iteration 1 of index/analysis of 59 samples with 32 cores\n",
      "Removing any extra snakemake directories: ['snakemake-assemblies.1631396646.8603833']\n"
     ]
    },
    {
     "name": "stdout",
     "output_type": "stream",
     "text": [
      "Creating new index: [gdi init simulations/cov-10/index-assemblies]\n"
     ]
    },
    {
     "name": "stdout",
     "output_type": "stream",
     "text": [
      "Creating a new index took 2.77 seconds\n",
      "Analysis running: [gdi --project-dir simulations/cov-10/index-assemblies --ncores 32 analysis --use-conda --no-load-data --reference-file simulations/reference/reference.fa.gz --kmer-size 31 --kmer-size 51 --kmer-size 71 --include-kmer --reads-mincov 10 --input-structured-genomes-file simulations/cov-10/input-assemblies.tsv]\n"
     ]
    },
    {
     "name": "stdout",
     "output_type": "stream",
     "text": [
      "Analysis took 1.58 minutes\n",
      "Index running: [gdi --project-dir simulations/cov-10/index-assemblies --ncores 32 load vcf-kmer --reference-file simulations/reference/reference.fa.gz /home/CSCScience.ca/apetkau/workspace/genomics-data-index-evaluation/evaluations/simulation/snakemake-assemblies.1631396912.8305702/gdi-input.fofn]\n"
     ]
    },
    {
     "name": "stdout",
     "output_type": "stream",
     "text": [
      "Indexing took 0.11 minutes\n",
      "Building tree: [gdi --project-dir simulations/cov-10/index-assemblies --ncores 32 rebuild tree --align-type full --extra-params '--fast -m GTR+F+R4' reference]\n"
     ]
    },
    {
     "name": "stdout",
     "output_type": "stream",
     "text": [
      "Building tree took 1.41 minutes\n"
     ]
    },
    {
     "name": "stderr",
     "output_type": "stream",
     "text": [
      "Attempting to set global database_path_translator=<genomics_data_index.storage.model.db.DatabasePathTranslator.DatabasePathTranslator object at 0x7f4888112520> but it is already set\n"
     ]
    },
    {
     "name": "stderr",
     "output_type": "stream",
     "text": [
      "A reminder to myself to look for a Python solution for directory sizes (instead of running `du`)\n"
     ]
    },
    {
     "name": "stdout",
     "output_type": "stream",
     "text": [
      "\n",
      "Iteration 2 of index/analysis of 59 samples with 32 cores\n",
      "Removing any extra snakemake directories: ['snakemake-assemblies.1631396912.8305702']\n"
     ]
    },
    {
     "name": "stdout",
     "output_type": "stream",
     "text": [
      "Removing any existing indexes simulations/cov-10/index-assemblies\n",
      "Creating new index: [gdi init simulations/cov-10/index-assemblies]\n"
     ]
    },
    {
     "name": "stdout",
     "output_type": "stream",
     "text": [
      "Creating a new index took 2.76 seconds\n",
      "Analysis running: [gdi --project-dir simulations/cov-10/index-assemblies --ncores 32 analysis --use-conda --no-load-data --reference-file simulations/reference/reference.fa.gz --kmer-size 31 --kmer-size 51 --kmer-size 71 --include-kmer --reads-mincov 10 --input-structured-genomes-file simulations/cov-10/input-assemblies.tsv]\n"
     ]
    },
    {
     "name": "stdout",
     "output_type": "stream",
     "text": [
      "Analysis took 1.59 minutes\n",
      "Index running: [gdi --project-dir simulations/cov-10/index-assemblies --ncores 32 load vcf-kmer --reference-file simulations/reference/reference.fa.gz /home/CSCScience.ca/apetkau/workspace/genomics-data-index-evaluation/evaluations/simulation/snakemake-assemblies.1631397103.285945/gdi-input.fofn]\n"
     ]
    },
    {
     "name": "stdout",
     "output_type": "stream",
     "text": [
      "Indexing took 0.11 minutes\n",
      "Building tree: [gdi --project-dir simulations/cov-10/index-assemblies --ncores 32 rebuild tree --align-type full --extra-params '--fast -m GTR+F+R4' reference]\n"
     ]
    },
    {
     "name": "stdout",
     "output_type": "stream",
     "text": [
      "Building tree took 1.52 minutes\n"
     ]
    },
    {
     "name": "stderr",
     "output_type": "stream",
     "text": [
      "Attempting to set global database_path_translator=<genomics_data_index.storage.model.db.DatabasePathTranslator.DatabasePathTranslator object at 0x7f483689bf70> but it is already set\n"
     ]
    },
    {
     "name": "stderr",
     "output_type": "stream",
     "text": [
      "A reminder to myself to look for a Python solution for directory sizes (instead of running `du`)\n"
     ]
    },
    {
     "name": "stdout",
     "output_type": "stream",
     "text": [
      "\n",
      "Iteration 3 of index/analysis of 59 samples with 32 cores\n",
      "Removing any extra snakemake directories: ['snakemake-assemblies.1631397103.285945']\n"
     ]
    },
    {
     "name": "stdout",
     "output_type": "stream",
     "text": [
      "Removing any existing indexes simulations/cov-10/index-assemblies\n",
      "Creating new index: [gdi init simulations/cov-10/index-assemblies]\n"
     ]
    },
    {
     "name": "stdout",
     "output_type": "stream",
     "text": [
      "Creating a new index took 2.76 seconds\n",
      "Analysis running: [gdi --project-dir simulations/cov-10/index-assemblies --ncores 32 analysis --use-conda --no-load-data --reference-file simulations/reference/reference.fa.gz --kmer-size 31 --kmer-size 51 --kmer-size 71 --include-kmer --reads-mincov 10 --input-structured-genomes-file simulations/cov-10/input-assemblies.tsv]\n"
     ]
    },
    {
     "name": "stdout",
     "output_type": "stream",
     "text": [
      "Analysis took 1.82 minutes\n",
      "Index running: [gdi --project-dir simulations/cov-10/index-assemblies --ncores 32 load vcf-kmer --reference-file simulations/reference/reference.fa.gz /home/CSCScience.ca/apetkau/workspace/genomics-data-index-evaluation/evaluations/simulation/snakemake-assemblies.1631397300.6812334/gdi-input.fofn]\n"
     ]
    },
    {
     "name": "stdout",
     "output_type": "stream",
     "text": [
      "Indexing took 0.11 minutes\n",
      "Building tree: [gdi --project-dir simulations/cov-10/index-assemblies --ncores 32 rebuild tree --align-type full --extra-params '--fast -m GTR+F+R4' reference]\n"
     ]
    },
    {
     "name": "stdout",
     "output_type": "stream",
     "text": [
      "Building tree took 1.50 minutes\n"
     ]
    },
    {
     "name": "stderr",
     "output_type": "stream",
     "text": [
      "Attempting to set global database_path_translator=<genomics_data_index.storage.model.db.DatabasePathTranslator.DatabasePathTranslator object at 0x7f48368d5b50> but it is already set\n"
     ]
    },
    {
     "name": "stderr",
     "output_type": "stream",
     "text": [
      "A reminder to myself to look for a Python solution for directory sizes (instead of running `du`)\n"
     ]
    }
   ],
   "source": [
    "results_handler = gdi_benchmark.BenchmarkResultsHandler(name=f'{case_name} assemblies')\n",
    "benchmarker = gdi_benchmark.IndexBenchmarker(benchmark_results_handler=results_handler,\n",
    "                                             index_path=index_assemblies_path, input_files_file=input_genomes_file,\n",
    "                                             reference_file=reference_file, mincov=mincov, build_tree=True,\n",
    "                                             ncores=ncores)\n",
    "\n",
    "benchmark_df = benchmarker.benchmark(iterations=iterations)"
   ]
  },
  {
   "cell_type": "code",
   "execution_count": 11,
   "id": "a6d55a9d-be2f-4851-b66c-04b5ebd597a1",
   "metadata": {
    "execution": {
     "iopub.execute_input": "2021-09-11T21:58:23.504078Z",
     "iopub.status.busy": "2021-09-11T21:58:23.503136Z",
     "iopub.status.idle": "2021-09-11T21:58:23.507212Z",
     "shell.execute_reply": "2021-09-11T21:58:23.508167Z"
    },
    "papermill": {
     "duration": 0.054941,
     "end_time": "2021-09-11T21:58:23.508432",
     "exception": false,
     "start_time": "2021-09-11T21:58:23.453491",
     "status": "completed"
    },
    "tags": []
   },
   "outputs": [
    {
     "data": {
      "text/html": [
       "<div>\n",
       "<style scoped>\n",
       "    .dataframe tbody tr th:only-of-type {\n",
       "        vertical-align: middle;\n",
       "    }\n",
       "\n",
       "    .dataframe tbody tr th {\n",
       "        vertical-align: top;\n",
       "    }\n",
       "\n",
       "    .dataframe thead th {\n",
       "        text-align: right;\n",
       "    }\n",
       "</style>\n",
       "<table border=\"1\" class=\"dataframe\">\n",
       "  <thead>\n",
       "    <tr style=\"text-align: right;\">\n",
       "      <th></th>\n",
       "      <th>Name</th>\n",
       "      <th>Iteration</th>\n",
       "      <th>Number samples</th>\n",
       "      <th>Number features (all)</th>\n",
       "      <th>Number features (no unknown)</th>\n",
       "      <th>Number cores</th>\n",
       "      <th>Reference length</th>\n",
       "      <th>Analysis runtime</th>\n",
       "      <th>Analysis memory (max)</th>\n",
       "      <th>Analysis memory (max/process)</th>\n",
       "      <th>Analysis disk uage</th>\n",
       "      <th>Index runtime</th>\n",
       "      <th>Index memory (max)</th>\n",
       "      <th>Index memory (max/process)</th>\n",
       "      <th>Index size</th>\n",
       "      <th>Tree runtime</th>\n",
       "      <th>Tree memory (max)</th>\n",
       "      <th>Tree memory (max/process)</th>\n",
       "      <th>Total runtime</th>\n",
       "      <th>Max memory</th>\n",
       "    </tr>\n",
       "  </thead>\n",
       "  <tbody>\n",
       "    <tr>\n",
       "      <th>0</th>\n",
       "      <td>cov-10 assemblies</td>\n",
       "      <td>1</td>\n",
       "      <td>59</td>\n",
       "      <td>1350</td>\n",
       "      <td>1350</td>\n",
       "      <td>32</td>\n",
       "      <td>19699</td>\n",
       "      <td>94.68</td>\n",
       "      <td>1.168982e+09</td>\n",
       "      <td>368541696.0</td>\n",
       "      <td>2.084602e+09</td>\n",
       "      <td>6.45</td>\n",
       "      <td>5.774807e+09</td>\n",
       "      <td>241053696.0</td>\n",
       "      <td>1359872.0</td>\n",
       "      <td>84.75</td>\n",
       "      <td>239800320.0</td>\n",
       "      <td>222797824.0</td>\n",
       "      <td>185.88</td>\n",
       "      <td>5.774807e+09</td>\n",
       "    </tr>\n",
       "    <tr>\n",
       "      <th>0</th>\n",
       "      <td>cov-10 assemblies</td>\n",
       "      <td>2</td>\n",
       "      <td>59</td>\n",
       "      <td>1350</td>\n",
       "      <td>1350</td>\n",
       "      <td>32</td>\n",
       "      <td>19699</td>\n",
       "      <td>95.16</td>\n",
       "      <td>1.177960e+09</td>\n",
       "      <td>364175360.0</td>\n",
       "      <td>2.084573e+09</td>\n",
       "      <td>6.41</td>\n",
       "      <td>5.782245e+09</td>\n",
       "      <td>241999872.0</td>\n",
       "      <td>1355776.0</td>\n",
       "      <td>91.21</td>\n",
       "      <td>240467968.0</td>\n",
       "      <td>223080448.0</td>\n",
       "      <td>192.78</td>\n",
       "      <td>5.782245e+09</td>\n",
       "    </tr>\n",
       "    <tr>\n",
       "      <th>0</th>\n",
       "      <td>cov-10 assemblies</td>\n",
       "      <td>3</td>\n",
       "      <td>59</td>\n",
       "      <td>1350</td>\n",
       "      <td>1350</td>\n",
       "      <td>32</td>\n",
       "      <td>19699</td>\n",
       "      <td>108.85</td>\n",
       "      <td>1.153860e+09</td>\n",
       "      <td>361689088.0</td>\n",
       "      <td>2.084598e+09</td>\n",
       "      <td>6.43</td>\n",
       "      <td>5.777338e+09</td>\n",
       "      <td>240508928.0</td>\n",
       "      <td>1355776.0</td>\n",
       "      <td>89.64</td>\n",
       "      <td>239558656.0</td>\n",
       "      <td>222650368.0</td>\n",
       "      <td>204.92</td>\n",
       "      <td>5.777338e+09</td>\n",
       "    </tr>\n",
       "  </tbody>\n",
       "</table>\n",
       "</div>"
      ],
      "text/plain": [
       "                Name  Iteration  Number samples  Number features (all)  \\\n",
       "0  cov-10 assemblies          1              59                   1350   \n",
       "0  cov-10 assemblies          2              59                   1350   \n",
       "0  cov-10 assemblies          3              59                   1350   \n",
       "\n",
       "   Number features (no unknown)  Number cores  Reference length  \\\n",
       "0                          1350            32             19699   \n",
       "0                          1350            32             19699   \n",
       "0                          1350            32             19699   \n",
       "\n",
       "   Analysis runtime  Analysis memory (max)  Analysis memory (max/process)  \\\n",
       "0             94.68           1.168982e+09                    368541696.0   \n",
       "0             95.16           1.177960e+09                    364175360.0   \n",
       "0            108.85           1.153860e+09                    361689088.0   \n",
       "\n",
       "   Analysis disk uage  Index runtime  Index memory (max)  \\\n",
       "0        2.084602e+09           6.45        5.774807e+09   \n",
       "0        2.084573e+09           6.41        5.782245e+09   \n",
       "0        2.084598e+09           6.43        5.777338e+09   \n",
       "\n",
       "   Index memory (max/process)  Index size  Tree runtime  Tree memory (max)  \\\n",
       "0                 241053696.0   1359872.0         84.75        239800320.0   \n",
       "0                 241999872.0   1355776.0         91.21        240467968.0   \n",
       "0                 240508928.0   1355776.0         89.64        239558656.0   \n",
       "\n",
       "   Tree memory (max/process)  Total runtime    Max memory  \n",
       "0                222797824.0         185.88  5.774807e+09  \n",
       "0                223080448.0         192.78  5.782245e+09  \n",
       "0                222650368.0         204.92  5.777338e+09  "
      ]
     },
     "execution_count": 11,
     "metadata": {},
     "output_type": "execute_result"
    }
   ],
   "source": [
    "benchmark_df"
   ]
  },
  {
   "cell_type": "code",
   "execution_count": 12,
   "id": "e1a6d962-50bc-4c8d-a6f2-3a661da706b4",
   "metadata": {
    "execution": {
     "iopub.execute_input": "2021-09-11T21:58:23.561570Z",
     "iopub.status.busy": "2021-09-11T21:58:23.561178Z",
     "iopub.status.idle": "2021-09-11T21:58:23.564833Z",
     "shell.execute_reply": "2021-09-11T21:58:23.564498Z"
    },
    "papermill": {
     "duration": 0.027012,
     "end_time": "2021-09-11T21:58:23.564914",
     "exception": false,
     "start_time": "2021-09-11T21:58:23.537902",
     "status": "completed"
    },
    "tags": []
   },
   "outputs": [],
   "source": [
    "index_assemblies_runtime = simulation_dir_path / 'assemblies-index-info.tsv'\n",
    "benchmark_df.to_csv(index_assemblies_runtime, sep='\\t', index=False)"
   ]
  },
  {
   "cell_type": "markdown",
   "id": "6cb7673b-9f85-4c43-b2e2-93538497a196",
   "metadata": {
    "papermill": {
     "duration": 0.016104,
     "end_time": "2021-09-11T21:58:23.599825",
     "exception": false,
     "start_time": "2021-09-11T21:58:23.583721",
     "status": "completed"
    },
    "tags": []
   },
   "source": [
    "# 3. Export trees"
   ]
  },
  {
   "cell_type": "code",
   "execution_count": 13,
   "id": "5280f82c-5434-4391-8c44-b937a7c95bd5",
   "metadata": {
    "execution": {
     "iopub.execute_input": "2021-09-11T21:58:23.651492Z",
     "iopub.status.busy": "2021-09-11T21:58:23.640826Z",
     "iopub.status.idle": "2021-09-11T21:58:29.044845Z",
     "shell.execute_reply": "2021-09-11T21:58:29.045740Z"
    },
    "papermill": {
     "duration": 5.430262,
     "end_time": "2021-09-11T21:58:29.046009",
     "exception": false,
     "start_time": "2021-09-11T21:58:23.615747",
     "status": "completed"
    },
    "tags": []
   },
   "outputs": [
    {
     "name": "stdout",
     "output_type": "stream",
     "text": [
      "Wrote assemblies tree to simulations/cov-10/index-assemblies/assemblies.tre\n"
     ]
    },
    {
     "name": "stdout",
     "output_type": "stream",
     "text": [
      "Wrote assemblies tree to simulations/cov-10/index-reads/reads.tre\n"
     ]
    }
   ],
   "source": [
    "!gdi --project-dir {index_assemblies_path} export tree {reference_name} > {output_assemblies_tree}\n",
    "print(f'Wrote assemblies tree to {output_assemblies_tree}')\n",
    "\n",
    "!gdi --project-dir {index_reads_path} export tree {reference_name} > {output_reads_tree}\n",
    "print(f'Wrote assemblies tree to {output_reads_tree}')"
   ]
  }
 ],
 "metadata": {
  "kernelspec": {
   "display_name": "Python 3 (ipykernel)",
   "language": "python",
   "name": "python3"
  },
  "language_info": {
   "codemirror_mode": {
    "name": "ipython",
    "version": 3
   },
   "file_extension": ".py",
   "mimetype": "text/x-python",
   "name": "python",
   "nbconvert_exporter": "python",
   "pygments_lexer": "ipython3",
   "version": "3.8.10"
  },
  "papermill": {
   "default_parameters": {},
   "duration": 1403.590651,
   "end_time": "2021-09-11T21:58:30.289080",
   "environment_variables": {},
   "exception": null,
   "input_path": "template-3-index-genomes.ipynb",
   "output_path": "3-index-genomes.simulation-cov-10.ipynb",
   "parameters": {
    "iterations": 3,
    "mincov": 10,
    "read_coverage": 10,
    "simulation_dir": "simulations/cov-10",
    "sub_alpha": 0.2
   },
   "start_time": "2021-09-11T21:35:06.698429",
   "version": "2.3.3"
  }
 },
 "nbformat": 4,
 "nbformat_minor": 5
}