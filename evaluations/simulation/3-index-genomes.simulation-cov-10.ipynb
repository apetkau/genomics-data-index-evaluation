{
 "cells": [
  {
   "cell_type": "markdown",
   "id": "7d3667b4-b1f8-4347-96e3-830c25b06740",
   "metadata": {
    "papermill": {
     "duration": 0.018702,
     "end_time": "2022-03-08T22:07:05.203804",
     "exception": false,
     "start_time": "2022-03-08T22:07:05.185102",
     "status": "completed"
    },
    "tags": []
   },
   "source": [
    "# 1. Parameters"
   ]
  },
  {
   "cell_type": "code",
   "execution_count": 1,
   "id": "d4ab0749-b286-4c34-b63c-a854e4952bae",
   "metadata": {
    "execution": {
     "iopub.execute_input": "2022-03-08T22:07:05.236379Z",
     "iopub.status.busy": "2022-03-08T22:07:05.235231Z",
     "iopub.status.idle": "2022-03-08T22:07:05.240381Z",
     "shell.execute_reply": "2022-03-08T22:07:05.239326Z"
    },
    "papermill": {
     "duration": 0.027169,
     "end_time": "2022-03-08T22:07:05.240666",
     "exception": false,
     "start_time": "2022-03-08T22:07:05.213497",
     "status": "completed"
    },
    "tags": [
     "parameters"
    ]
   },
   "outputs": [],
   "source": [
    "# Defaults\n",
    "simulation_dir = 'simulations/unset'\n",
    "reference_file = 'simulations/reference/reference.fa.gz'\n",
    "iterations = 3\n",
    "mincov = 10\n",
    "ncores = 32"
   ]
  },
  {
   "cell_type": "code",
   "execution_count": 2,
   "id": "ae4012e8",
   "metadata": {
    "execution": {
     "iopub.execute_input": "2022-03-08T22:07:05.273821Z",
     "iopub.status.busy": "2022-03-08T22:07:05.273412Z",
     "iopub.status.idle": "2022-03-08T22:07:05.276403Z",
     "shell.execute_reply": "2022-03-08T22:07:05.276713Z"
    },
    "papermill": {
     "duration": 0.019005,
     "end_time": "2022-03-08T22:07:05.276820",
     "exception": false,
     "start_time": "2022-03-08T22:07:05.257815",
     "status": "completed"
    },
    "tags": [
     "injected-parameters"
    ]
   },
   "outputs": [],
   "source": [
    "# Parameters\n",
    "read_coverage = 10\n",
    "mincov = 10\n",
    "simulation_dir = \"simulations/cov-10\"\n",
    "iterations = 3\n",
    "sub_alpha = 0.2\n"
   ]
  },
  {
   "cell_type": "code",
   "execution_count": 3,
   "id": "ce5962e4-261c-4210-b39b-47044e28466b",
   "metadata": {
    "execution": {
     "iopub.execute_input": "2022-03-08T22:07:05.302271Z",
     "iopub.status.busy": "2022-03-08T22:07:05.301140Z",
     "iopub.status.idle": "2022-03-08T22:07:07.989577Z",
     "shell.execute_reply": "2022-03-08T22:07:07.988477Z"
    },
    "papermill": {
     "duration": 2.704214,
     "end_time": "2022-03-08T22:07:07.989832",
     "exception": false,
     "start_time": "2022-03-08T22:07:05.285618",
     "status": "completed"
    },
    "tags": []
   },
   "outputs": [],
   "source": [
    "from pathlib import Path\n",
    "import imp\n",
    "fp, pathname, description = imp.find_module('gdi_benchmark', ['../../lib'])\n",
    "gdi_benchmark = imp.load_module('gdi_benchmark', fp, pathname, description)\n",
    "\n",
    "simulation_dir_path = Path(simulation_dir)\n",
    "\n",
    "case_name = str(simulation_dir_path.name)\n",
    "reads_dir = simulation_dir_path / 'simulated_data' / 'reads'\n",
    "assemblies_dir = simulation_dir_path / 'simulated_data' / 'assemblies'\n",
    "index_reads_path = simulation_dir_path / 'index-reads'\n",
    "index_assemblies_path = simulation_dir_path / 'index-assemblies'\n",
    "output_reads_tree = index_reads_path / 'reads.tre'\n",
    "output_assemblies_tree = index_assemblies_path / 'assemblies.tre'\n",
    "reference_name = Path(reference_file).name.split('.')[0]"
   ]
  },
  {
   "cell_type": "markdown",
   "id": "f208279e-7558-47fc-9362-da29df92828a",
   "metadata": {
    "papermill": {
     "duration": 0.010385,
     "end_time": "2022-03-08T22:07:08.017941",
     "exception": false,
     "start_time": "2022-03-08T22:07:08.007556",
     "status": "completed"
    },
    "tags": []
   },
   "source": [
    "# 2. Index genomes"
   ]
  },
  {
   "cell_type": "code",
   "execution_count": 4,
   "id": "4e936f7c-2fcd-4188-b0e6-6b3ceb5cdcd2",
   "metadata": {
    "execution": {
     "iopub.execute_input": "2022-03-08T22:07:08.051149Z",
     "iopub.status.busy": "2022-03-08T22:07:08.039409Z",
     "iopub.status.idle": "2022-03-08T22:07:11.252120Z",
     "shell.execute_reply": "2022-03-08T22:07:11.253019Z"
    },
    "papermill": {
     "duration": 3.227751,
     "end_time": "2022-03-08T22:07:11.253331",
     "exception": false,
     "start_time": "2022-03-08T22:07:08.025580",
     "status": "completed"
    },
    "tags": []
   },
   "outputs": [
    {
     "name": "stdout",
     "output_type": "stream",
     "text": [
      "gdi, version 0.6.0.dev2\r\n"
     ]
    }
   ],
   "source": [
    "!gdi --version"
   ]
  },
  {
   "cell_type": "markdown",
   "id": "5409ecf8-2158-4361-9d2f-6b1a6c7c63a6",
   "metadata": {
    "papermill": {
     "duration": 0.010423,
     "end_time": "2022-03-08T22:07:11.282301",
     "exception": false,
     "start_time": "2022-03-08T22:07:11.271878",
     "status": "completed"
    },
    "tags": []
   },
   "source": [
    "## 2.1. Index reads"
   ]
  },
  {
   "cell_type": "code",
   "execution_count": 5,
   "id": "b5324f79-913b-4dac-8122-19ad5c0f24b2",
   "metadata": {
    "execution": {
     "iopub.execute_input": "2022-03-08T22:07:11.317185Z",
     "iopub.status.busy": "2022-03-08T22:07:11.304905Z",
     "iopub.status.idle": "2022-03-08T22:07:14.750774Z",
     "shell.execute_reply": "2022-03-08T22:07:14.749845Z"
    },
    "papermill": {
     "duration": 3.460826,
     "end_time": "2022-03-08T22:07:14.751025",
     "exception": false,
     "start_time": "2022-03-08T22:07:11.290199",
     "status": "completed"
    },
    "tags": []
   },
   "outputs": [
    {
     "name": "stdout",
     "output_type": "stream",
     "text": [
      "\u001b[32m2022-03-08 16:07:14\u001b[0m \u001b[1;30mWARNING:\u001b[0m \u001b[33m--skip-existing-samples is enabled but no --project-dir is set. Will not skip existing samples.\u001b[0m\r\n"
     ]
    }
   ],
   "source": [
    "input_genomes_file = simulation_dir_path / 'input-reads.tsv'\n",
    "\n",
    "!gdi input --absolute {reads_dir}/*.fq.gz > {input_genomes_file}"
   ]
  },
  {
   "cell_type": "code",
   "execution_count": 6,
   "id": "3d63e861-733e-46f2-8bce-bd1a2c7c7058",
   "metadata": {
    "execution": {
     "iopub.execute_input": "2022-03-08T22:07:14.801992Z",
     "iopub.status.busy": "2022-03-08T22:07:14.800681Z",
     "iopub.status.idle": "2022-03-08T22:21:38.320389Z",
     "shell.execute_reply": "2022-03-08T22:21:38.321300Z"
    },
    "papermill": {
     "duration": 863.547311,
     "end_time": "2022-03-08T22:21:38.321760",
     "exception": false,
     "start_time": "2022-03-08T22:07:14.774449",
     "status": "completed"
    },
    "tags": []
   },
   "outputs": [
    {
     "name": "stdout",
     "output_type": "stream",
     "text": [
      "\n",
      "Iteration 1 of index/analysis of 59 samples with 32 cores\n",
      "Removing any extra snakemake directories: ['snakemake-assemblies.1646777068.8399072']\n"
     ]
    },
    {
     "name": "stdout",
     "output_type": "stream",
     "text": [
      "Creating new index: [gdi init simulations/cov-10/index-reads]\n"
     ]
    },
    {
     "name": "stdout",
     "output_type": "stream",
     "text": [
      "Creating a new index took 3.35 seconds\n",
      "Analysis running: [gdi --project-dir simulations/cov-10/index-reads --ncores 32 analysis --use-conda --no-load-data --reference-file simulations/reference/reference.fa.gz --kmer-size 31 --kmer-size 51 --kmer-size 71 --include-kmer --reads-mincov 10 --input-structured-genomes-file simulations/cov-10/input-reads.tsv]\n"
     ]
    },
    {
     "name": "stdout",
     "output_type": "stream",
     "text": [
      "Analysis took 1.83 minutes\n",
      "Index running: [gdi --project-dir simulations/cov-10/index-reads --ncores 32 load vcf-kmer --sample-batch-size 2000 --reference-file simulations/reference/reference.fa.gz /home/CSCScience.ca/apetkau/workspace/genomics-data-index-evaluation/evaluations/simulation/snakemake-assemblies.1646777242.9907553/gdi-input.fofn]\n"
     ]
    },
    {
     "name": "stdout",
     "output_type": "stream",
     "text": [
      "Indexing took 0.42 minutes\n",
      "Building tree: [gdi --project-dir simulations/cov-10/index-reads --ncores 32 rebuild tree --align-type full --extra-params '--fast -m GTR+F+R4' reference]\n"
     ]
    },
    {
     "name": "stdout",
     "output_type": "stream",
     "text": [
      "Building tree took 2.36 minutes\n"
     ]
    },
    {
     "name": "stderr",
     "output_type": "stream",
     "text": [
      "A reminder to myself to look for a Python solution for directory sizes (instead of running `du`)\n"
     ]
    },
    {
     "name": "stdout",
     "output_type": "stream",
     "text": [
      "\n",
      "Iteration 2 of index/analysis of 59 samples with 32 cores\n",
      "Removing any extra snakemake directories: ['snakemake-assemblies.1646777242.9907553']\n"
     ]
    },
    {
     "name": "stdout",
     "output_type": "stream",
     "text": [
      "Removing any existing indexes simulations/cov-10/index-reads\n",
      "Creating new index: [gdi init simulations/cov-10/index-reads]\n"
     ]
    },
    {
     "name": "stdout",
     "output_type": "stream",
     "text": [
      "Creating a new index took 3.30 seconds\n",
      "Analysis running: [gdi --project-dir simulations/cov-10/index-reads --ncores 32 analysis --use-conda --no-load-data --reference-file simulations/reference/reference.fa.gz --kmer-size 31 --kmer-size 51 --kmer-size 71 --include-kmer --reads-mincov 10 --input-structured-genomes-file simulations/cov-10/input-reads.tsv]\n"
     ]
    },
    {
     "name": "stdout",
     "output_type": "stream",
     "text": [
      "Analysis took 1.92 minutes\n",
      "Index running: [gdi --project-dir simulations/cov-10/index-reads --ncores 32 load vcf-kmer --sample-batch-size 2000 --reference-file simulations/reference/reference.fa.gz /home/CSCScience.ca/apetkau/workspace/genomics-data-index-evaluation/evaluations/simulation/snakemake-assemblies.1646777525.2408957/gdi-input.fofn]\n"
     ]
    },
    {
     "name": "stdout",
     "output_type": "stream",
     "text": [
      "Indexing took 0.43 minutes\n",
      "Building tree: [gdi --project-dir simulations/cov-10/index-reads --ncores 32 rebuild tree --align-type full --extra-params '--fast -m GTR+F+R4' reference]\n"
     ]
    },
    {
     "name": "stdout",
     "output_type": "stream",
     "text": [
      "Building tree took 2.39 minutes\n"
     ]
    },
    {
     "name": "stderr",
     "output_type": "stream",
     "text": [
      "Attempting to set global database_path_translator=<genomics_data_index.storage.model.db.DatabasePathTranslator.DatabasePathTranslator object at 0x7f8f90dfb5b0> but it is already set\n"
     ]
    },
    {
     "name": "stderr",
     "output_type": "stream",
     "text": [
      "A reminder to myself to look for a Python solution for directory sizes (instead of running `du`)\n"
     ]
    },
    {
     "name": "stdout",
     "output_type": "stream",
     "text": [
      "\n",
      "Iteration 3 of index/analysis of 59 samples with 32 cores\n",
      "Removing any extra snakemake directories: ['snakemake-assemblies.1646777525.2408957']\n"
     ]
    },
    {
     "name": "stdout",
     "output_type": "stream",
     "text": [
      "Removing any existing indexes simulations/cov-10/index-reads\n",
      "Creating new index: [gdi init simulations/cov-10/index-reads]\n"
     ]
    },
    {
     "name": "stdout",
     "output_type": "stream",
     "text": [
      "Creating a new index took 3.43 seconds\n",
      "Analysis running: [gdi --project-dir simulations/cov-10/index-reads --ncores 32 analysis --use-conda --no-load-data --reference-file simulations/reference/reference.fa.gz --kmer-size 31 --kmer-size 51 --kmer-size 71 --include-kmer --reads-mincov 10 --input-structured-genomes-file simulations/cov-10/input-reads.tsv]\n"
     ]
    },
    {
     "name": "stdout",
     "output_type": "stream",
     "text": [
      "Analysis took 1.95 minutes\n",
      "Index running: [gdi --project-dir simulations/cov-10/index-reads --ncores 32 load vcf-kmer --sample-batch-size 2000 --reference-file simulations/reference/reference.fa.gz /home/CSCScience.ca/apetkau/workspace/genomics-data-index-evaluation/evaluations/simulation/snakemake-assemblies.1646777814.6297288/gdi-input.fofn]\n"
     ]
    },
    {
     "name": "stdout",
     "output_type": "stream",
     "text": [
      "Indexing took 0.42 minutes\n",
      "Building tree: [gdi --project-dir simulations/cov-10/index-reads --ncores 32 rebuild tree --align-type full --extra-params '--fast -m GTR+F+R4' reference]\n"
     ]
    },
    {
     "name": "stdout",
     "output_type": "stream",
     "text": [
      "Building tree took 2.40 minutes\n"
     ]
    },
    {
     "name": "stderr",
     "output_type": "stream",
     "text": [
      "Attempting to set global database_path_translator=<genomics_data_index.storage.model.db.DatabasePathTranslator.DatabasePathTranslator object at 0x7f8f90d90c70> but it is already set\n"
     ]
    },
    {
     "name": "stderr",
     "output_type": "stream",
     "text": [
      "A reminder to myself to look for a Python solution for directory sizes (instead of running `du`)\n"
     ]
    }
   ],
   "source": [
    "results_handler = gdi_benchmark.BenchmarkResultsHandler(name=f'{case_name} reads')\n",
    "benchmarker = gdi_benchmark.IndexBenchmarker(benchmark_results_handler=results_handler,\n",
    "                                             index_path=index_reads_path, input_files_file=input_genomes_file,\n",
    "                                             reference_file=reference_file, mincov=mincov, build_tree=True,\n",
    "                                             ncores=ncores)\n",
    "\n",
    "benchmark_df = benchmarker.benchmark(iterations=iterations)"
   ]
  },
  {
   "cell_type": "code",
   "execution_count": 7,
   "id": "3bcb6da7-0164-47f2-abdd-a4c159da1e3b",
   "metadata": {
    "execution": {
     "iopub.execute_input": "2022-03-08T22:21:38.393030Z",
     "iopub.status.busy": "2022-03-08T22:21:38.380545Z",
     "iopub.status.idle": "2022-03-08T22:21:38.404736Z",
     "shell.execute_reply": "2022-03-08T22:21:38.405640Z"
    },
    "papermill": {
     "duration": 0.057483,
     "end_time": "2022-03-08T22:21:38.405900",
     "exception": false,
     "start_time": "2022-03-08T22:21:38.348417",
     "status": "completed"
    },
    "tags": []
   },
   "outputs": [
    {
     "data": {
      "text/html": [
       "<div>\n",
       "<style scoped>\n",
       "    .dataframe tbody tr th:only-of-type {\n",
       "        vertical-align: middle;\n",
       "    }\n",
       "\n",
       "    .dataframe tbody tr th {\n",
       "        vertical-align: top;\n",
       "    }\n",
       "\n",
       "    .dataframe thead th {\n",
       "        text-align: right;\n",
       "    }\n",
       "</style>\n",
       "<table border=\"1\" class=\"dataframe\">\n",
       "  <thead>\n",
       "    <tr style=\"text-align: right;\">\n",
       "      <th></th>\n",
       "      <th>Name</th>\n",
       "      <th>Reference name</th>\n",
       "      <th>Iteration</th>\n",
       "      <th>Number samples</th>\n",
       "      <th>Number features (all)</th>\n",
       "      <th>Number features (no unknown)</th>\n",
       "      <th>Number cores</th>\n",
       "      <th>Reference length</th>\n",
       "      <th>Analysis runtime</th>\n",
       "      <th>Analysis memory (max)</th>\n",
       "      <th>...</th>\n",
       "      <th>Analysis disk uage</th>\n",
       "      <th>Index runtime</th>\n",
       "      <th>Index memory (max)</th>\n",
       "      <th>Index memory (max/process)</th>\n",
       "      <th>Index size</th>\n",
       "      <th>Tree runtime</th>\n",
       "      <th>Tree memory (max)</th>\n",
       "      <th>Tree memory (max/process)</th>\n",
       "      <th>Total runtime</th>\n",
       "      <th>Max memory</th>\n",
       "    </tr>\n",
       "  </thead>\n",
       "  <tbody>\n",
       "    <tr>\n",
       "      <th>0</th>\n",
       "      <td>cov-10 reads</td>\n",
       "      <td>reference</td>\n",
       "      <td>1</td>\n",
       "      <td>59</td>\n",
       "      <td>20614</td>\n",
       "      <td>915</td>\n",
       "      <td>32</td>\n",
       "      <td>19699</td>\n",
       "      <td>109.79</td>\n",
       "      <td>2.858123e+09</td>\n",
       "      <td>...</td>\n",
       "      <td>2.931315e+09</td>\n",
       "      <td>25.35</td>\n",
       "      <td>6.160540e+09</td>\n",
       "      <td>822480896.0</td>\n",
       "      <td>4505600.0</td>\n",
       "      <td>141.62</td>\n",
       "      <td>415358976.0</td>\n",
       "      <td>235188224.0</td>\n",
       "      <td>276.76</td>\n",
       "      <td>6.160540e+09</td>\n",
       "    </tr>\n",
       "    <tr>\n",
       "      <th>0</th>\n",
       "      <td>cov-10 reads</td>\n",
       "      <td>reference</td>\n",
       "      <td>2</td>\n",
       "      <td>59</td>\n",
       "      <td>20614</td>\n",
       "      <td>915</td>\n",
       "      <td>32</td>\n",
       "      <td>19699</td>\n",
       "      <td>115.37</td>\n",
       "      <td>2.958307e+09</td>\n",
       "      <td>...</td>\n",
       "      <td>2.931323e+09</td>\n",
       "      <td>25.41</td>\n",
       "      <td>6.149718e+09</td>\n",
       "      <td>816738304.0</td>\n",
       "      <td>4501504.0</td>\n",
       "      <td>143.26</td>\n",
       "      <td>415457280.0</td>\n",
       "      <td>234160128.0</td>\n",
       "      <td>284.04</td>\n",
       "      <td>6.149718e+09</td>\n",
       "    </tr>\n",
       "    <tr>\n",
       "      <th>0</th>\n",
       "      <td>cov-10 reads</td>\n",
       "      <td>reference</td>\n",
       "      <td>3</td>\n",
       "      <td>59</td>\n",
       "      <td>20614</td>\n",
       "      <td>915</td>\n",
       "      <td>32</td>\n",
       "      <td>19699</td>\n",
       "      <td>117.17</td>\n",
       "      <td>2.929230e+09</td>\n",
       "      <td>...</td>\n",
       "      <td>2.931323e+09</td>\n",
       "      <td>25.17</td>\n",
       "      <td>6.162469e+09</td>\n",
       "      <td>817119232.0</td>\n",
       "      <td>4501504.0</td>\n",
       "      <td>143.71</td>\n",
       "      <td>419008512.0</td>\n",
       "      <td>234569728.0</td>\n",
       "      <td>286.05</td>\n",
       "      <td>6.162469e+09</td>\n",
       "    </tr>\n",
       "  </tbody>\n",
       "</table>\n",
       "<p>3 rows × 21 columns</p>\n",
       "</div>"
      ],
      "text/plain": [
       "           Name Reference name  Iteration  Number samples  \\\n",
       "0  cov-10 reads      reference          1              59   \n",
       "0  cov-10 reads      reference          2              59   \n",
       "0  cov-10 reads      reference          3              59   \n",
       "\n",
       "   Number features (all)  Number features (no unknown)  Number cores  \\\n",
       "0                  20614                           915            32   \n",
       "0                  20614                           915            32   \n",
       "0                  20614                           915            32   \n",
       "\n",
       "   Reference length  Analysis runtime  Analysis memory (max)  ...  \\\n",
       "0             19699            109.79           2.858123e+09  ...   \n",
       "0             19699            115.37           2.958307e+09  ...   \n",
       "0             19699            117.17           2.929230e+09  ...   \n",
       "\n",
       "   Analysis disk uage  Index runtime  Index memory (max)  \\\n",
       "0        2.931315e+09          25.35        6.160540e+09   \n",
       "0        2.931323e+09          25.41        6.149718e+09   \n",
       "0        2.931323e+09          25.17        6.162469e+09   \n",
       "\n",
       "   Index memory (max/process)  Index size  Tree runtime  Tree memory (max)  \\\n",
       "0                 822480896.0   4505600.0        141.62        415358976.0   \n",
       "0                 816738304.0   4501504.0        143.26        415457280.0   \n",
       "0                 817119232.0   4501504.0        143.71        419008512.0   \n",
       "\n",
       "   Tree memory (max/process)  Total runtime    Max memory  \n",
       "0                235188224.0         276.76  6.160540e+09  \n",
       "0                234160128.0         284.04  6.149718e+09  \n",
       "0                234569728.0         286.05  6.162469e+09  \n",
       "\n",
       "[3 rows x 21 columns]"
      ]
     },
     "execution_count": 7,
     "metadata": {},
     "output_type": "execute_result"
    }
   ],
   "source": [
    "benchmark_df"
   ]
  },
  {
   "cell_type": "code",
   "execution_count": 8,
   "id": "535a9ccc-ab9c-4919-806f-128e1efd2389",
   "metadata": {
    "execution": {
     "iopub.execute_input": "2022-03-08T22:21:38.450219Z",
     "iopub.status.busy": "2022-03-08T22:21:38.449810Z",
     "iopub.status.idle": "2022-03-08T22:21:38.457655Z",
     "shell.execute_reply": "2022-03-08T22:21:38.457329Z"
    },
    "papermill": {
     "duration": 0.026854,
     "end_time": "2022-03-08T22:21:38.457732",
     "exception": false,
     "start_time": "2022-03-08T22:21:38.430878",
     "status": "completed"
    },
    "tags": []
   },
   "outputs": [],
   "source": [
    "index_reads_runtime = simulation_dir_path / 'reads-index-info.tsv'\n",
    "benchmark_df.to_csv(index_reads_runtime, sep='\\t', index=False)"
   ]
  },
  {
   "cell_type": "markdown",
   "id": "c331578f-4026-4a9f-a3ba-288814b02ed2",
   "metadata": {
    "papermill": {
     "duration": 0.011348,
     "end_time": "2022-03-08T22:21:38.483399",
     "exception": false,
     "start_time": "2022-03-08T22:21:38.472051",
     "status": "completed"
    },
    "tags": []
   },
   "source": [
    "## 2.2. Index assemblies"
   ]
  },
  {
   "cell_type": "code",
   "execution_count": 9,
   "id": "6e6664f4-94ee-4c45-b1fc-e048b387fa49",
   "metadata": {
    "execution": {
     "iopub.execute_input": "2022-03-08T22:21:38.523819Z",
     "iopub.status.busy": "2022-03-08T22:21:38.513271Z",
     "iopub.status.idle": "2022-03-08T22:21:41.962117Z",
     "shell.execute_reply": "2022-03-08T22:21:41.963039Z"
    },
    "papermill": {
     "duration": 3.468637,
     "end_time": "2022-03-08T22:21:41.963339",
     "exception": false,
     "start_time": "2022-03-08T22:21:38.494702",
     "status": "completed"
    },
    "tags": []
   },
   "outputs": [
    {
     "name": "stdout",
     "output_type": "stream",
     "text": [
      "\u001b[32m2022-03-08 16:21:41\u001b[0m \u001b[1;30mWARNING:\u001b[0m \u001b[33m--skip-existing-samples is enabled but no --project-dir is set. Will not skip existing samples.\u001b[0m\r\n"
     ]
    }
   ],
   "source": [
    "input_genomes_file = simulation_dir_path / 'input-assemblies.tsv'\n",
    "\n",
    "!gdi input --absolute {assemblies_dir}/*.fa.gz > {input_genomes_file}"
   ]
  },
  {
   "cell_type": "code",
   "execution_count": 10,
   "id": "0a1e62f3-3b0c-4a90-a7fe-f0bc1094e350",
   "metadata": {
    "execution": {
     "iopub.execute_input": "2022-03-08T22:21:42.012302Z",
     "iopub.status.busy": "2022-03-08T22:21:42.011058Z",
     "iopub.status.idle": "2022-03-08T22:32:13.365936Z",
     "shell.execute_reply": "2022-03-08T22:32:13.366791Z"
    },
    "papermill": {
     "duration": 631.378415,
     "end_time": "2022-03-08T22:32:13.367085",
     "exception": false,
     "start_time": "2022-03-08T22:21:41.988670",
     "status": "completed"
    },
    "tags": []
   },
   "outputs": [
    {
     "name": "stdout",
     "output_type": "stream",
     "text": [
      "\n",
      "Iteration 1 of index/analysis of 59 samples with 32 cores\n",
      "Removing any extra snakemake directories: ['snakemake-assemblies.1646777814.6297288']\n"
     ]
    },
    {
     "name": "stdout",
     "output_type": "stream",
     "text": [
      "Creating new index: [gdi init simulations/cov-10/index-assemblies]\n"
     ]
    },
    {
     "name": "stdout",
     "output_type": "stream",
     "text": [
      "Creating a new index took 3.20 seconds\n",
      "Analysis running: [gdi --project-dir simulations/cov-10/index-assemblies --ncores 32 analysis --use-conda --no-load-data --reference-file simulations/reference/reference.fa.gz --kmer-size 31 --kmer-size 51 --kmer-size 71 --include-kmer --reads-mincov 10 --input-structured-genomes-file simulations/cov-10/input-assemblies.tsv]\n"
     ]
    },
    {
     "name": "stdout",
     "output_type": "stream",
     "text": [
      "Analysis took 1.75 minutes\n",
      "Index running: [gdi --project-dir simulations/cov-10/index-assemblies --ncores 32 load vcf-kmer --sample-batch-size 2000 --reference-file simulations/reference/reference.fa.gz /home/CSCScience.ca/apetkau/workspace/genomics-data-index-evaluation/evaluations/simulation/snakemake-assemblies.1646778109.9537148/gdi-input.fofn]\n"
     ]
    },
    {
     "name": "stdout",
     "output_type": "stream",
     "text": [
      "Indexing took 0.11 minutes\n",
      "Building tree: [gdi --project-dir simulations/cov-10/index-assemblies --ncores 32 rebuild tree --align-type full --extra-params '--fast -m GTR+F+R4' reference]\n"
     ]
    },
    {
     "name": "stdout",
     "output_type": "stream",
     "text": [
      "Building tree took 1.34 minutes\n"
     ]
    },
    {
     "name": "stderr",
     "output_type": "stream",
     "text": [
      "Attempting to set global database_path_translator=<genomics_data_index.storage.model.db.DatabasePathTranslator.DatabasePathTranslator object at 0x7f8f917fc100> but it is already set\n"
     ]
    },
    {
     "name": "stderr",
     "output_type": "stream",
     "text": [
      "A reminder to myself to look for a Python solution for directory sizes (instead of running `du`)\n"
     ]
    },
    {
     "name": "stdout",
     "output_type": "stream",
     "text": [
      "\n",
      "Iteration 2 of index/analysis of 59 samples with 32 cores\n",
      "Removing any extra snakemake directories: ['snakemake-assemblies.1646778109.9537148']\n"
     ]
    },
    {
     "name": "stdout",
     "output_type": "stream",
     "text": [
      "Removing any existing indexes simulations/cov-10/index-assemblies\n",
      "Creating new index: [gdi init simulations/cov-10/index-assemblies]\n"
     ]
    },
    {
     "name": "stdout",
     "output_type": "stream",
     "text": [
      "Creating a new index took 3.40 seconds\n",
      "Analysis running: [gdi --project-dir simulations/cov-10/index-assemblies --ncores 32 analysis --use-conda --no-load-data --reference-file simulations/reference/reference.fa.gz --kmer-size 31 --kmer-size 51 --kmer-size 71 --include-kmer --reads-mincov 10 --input-structured-genomes-file simulations/cov-10/input-assemblies.tsv]\n"
     ]
    },
    {
     "name": "stdout",
     "output_type": "stream",
     "text": [
      "Analysis took 2.10 minutes\n",
      "Index running: [gdi --project-dir simulations/cov-10/index-assemblies --ncores 32 load vcf-kmer --sample-batch-size 2000 --reference-file simulations/reference/reference.fa.gz /home/CSCScience.ca/apetkau/workspace/genomics-data-index-evaluation/evaluations/simulation/snakemake-assemblies.1646778306.953035/gdi-input.fofn]\n"
     ]
    },
    {
     "name": "stdout",
     "output_type": "stream",
     "text": [
      "Indexing took 0.12 minutes\n",
      "Building tree: [gdi --project-dir simulations/cov-10/index-assemblies --ncores 32 rebuild tree --align-type full --extra-params '--fast -m GTR+F+R4' reference]\n"
     ]
    },
    {
     "name": "stdout",
     "output_type": "stream",
     "text": [
      "Building tree took 1.44 minutes\n"
     ]
    },
    {
     "name": "stderr",
     "output_type": "stream",
     "text": [
      "Attempting to set global database_path_translator=<genomics_data_index.storage.model.db.DatabasePathTranslator.DatabasePathTranslator object at 0x7f8fb7840460> but it is already set\n"
     ]
    },
    {
     "name": "stderr",
     "output_type": "stream",
     "text": [
      "A reminder to myself to look for a Python solution for directory sizes (instead of running `du`)\n"
     ]
    },
    {
     "name": "stdout",
     "output_type": "stream",
     "text": [
      "\n",
      "Iteration 3 of index/analysis of 59 samples with 32 cores\n",
      "Removing any extra snakemake directories: ['snakemake-assemblies.1646778306.953035']\n"
     ]
    },
    {
     "name": "stdout",
     "output_type": "stream",
     "text": [
      "Removing any existing indexes simulations/cov-10/index-assemblies\n",
      "Creating new index: [gdi init simulations/cov-10/index-assemblies]\n"
     ]
    },
    {
     "name": "stdout",
     "output_type": "stream",
     "text": [
      "Creating a new index took 3.39 seconds\n",
      "Analysis running: [gdi --project-dir simulations/cov-10/index-assemblies --ncores 32 analysis --use-conda --no-load-data --reference-file simulations/reference/reference.fa.gz --kmer-size 31 --kmer-size 51 --kmer-size 71 --include-kmer --reads-mincov 10 --input-structured-genomes-file simulations/cov-10/input-assemblies.tsv]\n"
     ]
    },
    {
     "name": "stdout",
     "output_type": "stream",
     "text": [
      "Analysis took 1.79 minutes\n",
      "Index running: [gdi --project-dir simulations/cov-10/index-assemblies --ncores 32 load vcf-kmer --sample-batch-size 2000 --reference-file simulations/reference/reference.fa.gz /home/CSCScience.ca/apetkau/workspace/genomics-data-index-evaluation/evaluations/simulation/snakemake-assemblies.1646778531.2756615/gdi-input.fofn]\n"
     ]
    },
    {
     "name": "stdout",
     "output_type": "stream",
     "text": [
      "Indexing took 0.12 minutes\n",
      "Building tree: [gdi --project-dir simulations/cov-10/index-assemblies --ncores 32 rebuild tree --align-type full --extra-params '--fast -m GTR+F+R4' reference]\n"
     ]
    },
    {
     "name": "stdout",
     "output_type": "stream",
     "text": [
      "Building tree took 1.51 minutes\n"
     ]
    },
    {
     "name": "stderr",
     "output_type": "stream",
     "text": [
      "Attempting to set global database_path_translator=<genomics_data_index.storage.model.db.DatabasePathTranslator.DatabasePathTranslator object at 0x7f8f90cbeca0> but it is already set\n"
     ]
    },
    {
     "name": "stderr",
     "output_type": "stream",
     "text": [
      "A reminder to myself to look for a Python solution for directory sizes (instead of running `du`)\n"
     ]
    }
   ],
   "source": [
    "results_handler = gdi_benchmark.BenchmarkResultsHandler(name=f'{case_name} assemblies')\n",
    "benchmarker = gdi_benchmark.IndexBenchmarker(benchmark_results_handler=results_handler,\n",
    "                                             index_path=index_assemblies_path, input_files_file=input_genomes_file,\n",
    "                                             reference_file=reference_file, mincov=mincov, build_tree=True,\n",
    "                                             ncores=ncores)\n",
    "\n",
    "benchmark_df = benchmarker.benchmark(iterations=iterations)"
   ]
  },
  {
   "cell_type": "code",
   "execution_count": 11,
   "id": "a6d55a9d-be2f-4851-b66c-04b5ebd597a1",
   "metadata": {
    "execution": {
     "iopub.execute_input": "2022-03-08T22:32:13.444205Z",
     "iopub.status.busy": "2022-03-08T22:32:13.443108Z",
     "iopub.status.idle": "2022-03-08T22:32:13.447651Z",
     "shell.execute_reply": "2022-03-08T22:32:13.448575Z"
    },
    "papermill": {
     "duration": 0.052503,
     "end_time": "2022-03-08T22:32:13.448839",
     "exception": false,
     "start_time": "2022-03-08T22:32:13.396336",
     "status": "completed"
    },
    "tags": []
   },
   "outputs": [
    {
     "data": {
      "text/html": [
       "<div>\n",
       "<style scoped>\n",
       "    .dataframe tbody tr th:only-of-type {\n",
       "        vertical-align: middle;\n",
       "    }\n",
       "\n",
       "    .dataframe tbody tr th {\n",
       "        vertical-align: top;\n",
       "    }\n",
       "\n",
       "    .dataframe thead th {\n",
       "        text-align: right;\n",
       "    }\n",
       "</style>\n",
       "<table border=\"1\" class=\"dataframe\">\n",
       "  <thead>\n",
       "    <tr style=\"text-align: right;\">\n",
       "      <th></th>\n",
       "      <th>Name</th>\n",
       "      <th>Reference name</th>\n",
       "      <th>Iteration</th>\n",
       "      <th>Number samples</th>\n",
       "      <th>Number features (all)</th>\n",
       "      <th>Number features (no unknown)</th>\n",
       "      <th>Number cores</th>\n",
       "      <th>Reference length</th>\n",
       "      <th>Analysis runtime</th>\n",
       "      <th>Analysis memory (max)</th>\n",
       "      <th>...</th>\n",
       "      <th>Analysis disk uage</th>\n",
       "      <th>Index runtime</th>\n",
       "      <th>Index memory (max)</th>\n",
       "      <th>Index memory (max/process)</th>\n",
       "      <th>Index size</th>\n",
       "      <th>Tree runtime</th>\n",
       "      <th>Tree memory (max)</th>\n",
       "      <th>Tree memory (max/process)</th>\n",
       "      <th>Total runtime</th>\n",
       "      <th>Max memory</th>\n",
       "    </tr>\n",
       "  </thead>\n",
       "  <tbody>\n",
       "    <tr>\n",
       "      <th>0</th>\n",
       "      <td>cov-10 assemblies</td>\n",
       "      <td>reference</td>\n",
       "      <td>1</td>\n",
       "      <td>59</td>\n",
       "      <td>1426</td>\n",
       "      <td>1350</td>\n",
       "      <td>32</td>\n",
       "      <td>19699</td>\n",
       "      <td>104.72</td>\n",
       "      <td>1.245696e+09</td>\n",
       "      <td>...</td>\n",
       "      <td>2.203030e+09</td>\n",
       "      <td>6.58</td>\n",
       "      <td>5.923734e+09</td>\n",
       "      <td>254558208.0</td>\n",
       "      <td>1368064.0</td>\n",
       "      <td>80.18</td>\n",
       "      <td>254468096.0</td>\n",
       "      <td>234741760.0</td>\n",
       "      <td>191.48</td>\n",
       "      <td>5.923734e+09</td>\n",
       "    </tr>\n",
       "    <tr>\n",
       "      <th>0</th>\n",
       "      <td>cov-10 assemblies</td>\n",
       "      <td>reference</td>\n",
       "      <td>2</td>\n",
       "      <td>59</td>\n",
       "      <td>1426</td>\n",
       "      <td>1350</td>\n",
       "      <td>32</td>\n",
       "      <td>19699</td>\n",
       "      <td>125.73</td>\n",
       "      <td>1.316266e+09</td>\n",
       "      <td>...</td>\n",
       "      <td>2.203017e+09</td>\n",
       "      <td>7.02</td>\n",
       "      <td>5.924016e+09</td>\n",
       "      <td>254713856.0</td>\n",
       "      <td>1368064.0</td>\n",
       "      <td>86.18</td>\n",
       "      <td>253136896.0</td>\n",
       "      <td>234635264.0</td>\n",
       "      <td>218.93</td>\n",
       "      <td>5.924016e+09</td>\n",
       "    </tr>\n",
       "    <tr>\n",
       "      <th>0</th>\n",
       "      <td>cov-10 assemblies</td>\n",
       "      <td>reference</td>\n",
       "      <td>3</td>\n",
       "      <td>59</td>\n",
       "      <td>1426</td>\n",
       "      <td>1350</td>\n",
       "      <td>32</td>\n",
       "      <td>19699</td>\n",
       "      <td>107.03</td>\n",
       "      <td>1.256866e+09</td>\n",
       "      <td>...</td>\n",
       "      <td>2.203034e+09</td>\n",
       "      <td>7.02</td>\n",
       "      <td>5.919810e+09</td>\n",
       "      <td>254300160.0</td>\n",
       "      <td>1368064.0</td>\n",
       "      <td>90.54</td>\n",
       "      <td>254103552.0</td>\n",
       "      <td>234344448.0</td>\n",
       "      <td>204.59</td>\n",
       "      <td>5.919810e+09</td>\n",
       "    </tr>\n",
       "  </tbody>\n",
       "</table>\n",
       "<p>3 rows × 21 columns</p>\n",
       "</div>"
      ],
      "text/plain": [
       "                Name Reference name  Iteration  Number samples  \\\n",
       "0  cov-10 assemblies      reference          1              59   \n",
       "0  cov-10 assemblies      reference          2              59   \n",
       "0  cov-10 assemblies      reference          3              59   \n",
       "\n",
       "   Number features (all)  Number features (no unknown)  Number cores  \\\n",
       "0                   1426                          1350            32   \n",
       "0                   1426                          1350            32   \n",
       "0                   1426                          1350            32   \n",
       "\n",
       "   Reference length  Analysis runtime  Analysis memory (max)  ...  \\\n",
       "0             19699            104.72           1.245696e+09  ...   \n",
       "0             19699            125.73           1.316266e+09  ...   \n",
       "0             19699            107.03           1.256866e+09  ...   \n",
       "\n",
       "   Analysis disk uage  Index runtime  Index memory (max)  \\\n",
       "0        2.203030e+09           6.58        5.923734e+09   \n",
       "0        2.203017e+09           7.02        5.924016e+09   \n",
       "0        2.203034e+09           7.02        5.919810e+09   \n",
       "\n",
       "   Index memory (max/process)  Index size  Tree runtime  Tree memory (max)  \\\n",
       "0                 254558208.0   1368064.0         80.18        254468096.0   \n",
       "0                 254713856.0   1368064.0         86.18        253136896.0   \n",
       "0                 254300160.0   1368064.0         90.54        254103552.0   \n",
       "\n",
       "   Tree memory (max/process)  Total runtime    Max memory  \n",
       "0                234741760.0         191.48  5.923734e+09  \n",
       "0                234635264.0         218.93  5.924016e+09  \n",
       "0                234344448.0         204.59  5.919810e+09  \n",
       "\n",
       "[3 rows x 21 columns]"
      ]
     },
     "execution_count": 11,
     "metadata": {},
     "output_type": "execute_result"
    }
   ],
   "source": [
    "benchmark_df"
   ]
  },
  {
   "cell_type": "code",
   "execution_count": 12,
   "id": "e1a6d962-50bc-4c8d-a6f2-3a661da706b4",
   "metadata": {
    "execution": {
     "iopub.execute_input": "2022-03-08T22:32:13.502181Z",
     "iopub.status.busy": "2022-03-08T22:32:13.500210Z",
     "iopub.status.idle": "2022-03-08T22:32:13.505127Z",
     "shell.execute_reply": "2022-03-08T22:32:13.505443Z"
    },
    "papermill": {
     "duration": 0.028037,
     "end_time": "2022-03-08T22:32:13.505534",
     "exception": false,
     "start_time": "2022-03-08T22:32:13.477497",
     "status": "completed"
    },
    "tags": []
   },
   "outputs": [],
   "source": [
    "index_assemblies_runtime = simulation_dir_path / 'assemblies-index-info.tsv'\n",
    "benchmark_df.to_csv(index_assemblies_runtime, sep='\\t', index=False)"
   ]
  },
  {
   "cell_type": "markdown",
   "id": "6cb7673b-9f85-4c43-b2e2-93538497a196",
   "metadata": {
    "papermill": {
     "duration": 0.016783,
     "end_time": "2022-03-08T22:32:13.542129",
     "exception": false,
     "start_time": "2022-03-08T22:32:13.525346",
     "status": "completed"
    },
    "tags": []
   },
   "source": [
    "# 3. Export trees"
   ]
  },
  {
   "cell_type": "code",
   "execution_count": 13,
   "id": "5280f82c-5434-4391-8c44-b937a7c95bd5",
   "metadata": {
    "execution": {
     "iopub.execute_input": "2022-03-08T22:32:13.585280Z",
     "iopub.status.busy": "2022-03-08T22:32:13.584879Z",
     "iopub.status.idle": "2022-03-08T22:32:20.412574Z",
     "shell.execute_reply": "2022-03-08T22:32:20.413484Z"
    },
    "papermill": {
     "duration": 6.854735,
     "end_time": "2022-03-08T22:32:20.413774",
     "exception": false,
     "start_time": "2022-03-08T22:32:13.559039",
     "status": "completed"
    },
    "tags": []
   },
   "outputs": [
    {
     "name": "stdout",
     "output_type": "stream",
     "text": [
      "Wrote assemblies tree to simulations/cov-10/index-assemblies/assemblies.tre\n"
     ]
    },
    {
     "name": "stdout",
     "output_type": "stream",
     "text": [
      "Wrote assemblies tree to simulations/cov-10/index-reads/reads.tre\n"
     ]
    }
   ],
   "source": [
    "!gdi --project-dir {index_assemblies_path} export tree {reference_name} > {output_assemblies_tree}\n",
    "print(f'Wrote assemblies tree to {output_assemblies_tree}')\n",
    "\n",
    "!gdi --project-dir {index_reads_path} export tree {reference_name} > {output_reads_tree}\n",
    "print(f'Wrote assemblies tree to {output_reads_tree}')"
   ]
  }
 ],
 "metadata": {
  "kernelspec": {
   "display_name": "Python 3 (ipykernel)",
   "language": "python",
   "name": "python3"
  },
  "language_info": {
   "codemirror_mode": {
    "name": "ipython",
    "version": 3
   },
   "file_extension": ".py",
   "mimetype": "text/x-python",
   "name": "python",
   "nbconvert_exporter": "python",
   "pygments_lexer": "ipython3",
   "version": "3.8.12"
  },
  "papermill": {
   "default_parameters": {},
   "duration": 1517.197403,
   "end_time": "2022-03-08T22:32:20.974786",
   "environment_variables": {},
   "exception": null,
   "input_path": "template-3-index-genomes.ipynb",
   "output_path": "3-index-genomes.simulation-cov-10.ipynb",
   "parameters": {
    "iterations": 3,
    "mincov": 10,
    "read_coverage": 10,
    "simulation_dir": "simulations/cov-10",
    "sub_alpha": 0.2
   },
   "start_time": "2022-03-08T22:07:03.777383",
   "version": "2.3.4"
  }
 },
 "nbformat": 4,
 "nbformat_minor": 5
}