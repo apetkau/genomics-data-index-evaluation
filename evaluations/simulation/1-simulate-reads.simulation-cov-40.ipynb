{
 "cells": [
  {
   "cell_type": "markdown",
   "id": "39afc998-7d9f-4d4e-9147-fb6198f83f2d",
   "metadata": {
    "papermill": {
     "duration": 0.018106,
     "end_time": "2021-08-31T23:49:12.265529",
     "exception": false,
     "start_time": "2021-08-31T23:49:12.247423",
     "status": "completed"
    },
    "tags": []
   },
   "source": [
    "# 1. Parameters"
   ]
  },
  {
   "cell_type": "code",
   "execution_count": 1,
   "id": "8eee723b-55a2-4355-b867-c5e682a9f800",
   "metadata": {
    "execution": {
     "iopub.execute_input": "2021-08-31T23:49:12.409150Z",
     "iopub.status.busy": "2021-08-31T23:49:12.407398Z",
     "iopub.status.idle": "2021-08-31T23:49:12.453522Z",
     "shell.execute_reply": "2021-08-31T23:49:12.452167Z"
    },
    "papermill": {
     "duration": 0.178864,
     "end_time": "2021-08-31T23:49:12.453799",
     "exception": false,
     "start_time": "2021-08-31T23:49:12.274935",
     "status": "completed"
    },
    "tags": [
     "parameters"
    ]
   },
   "outputs": [],
   "source": [
    "# Defaults\n",
    "\n",
    "## Directories\n",
    "simulation_dir <- \"simulations/unset\"\n",
    "reference_file <- \"input/S_HeidelbergSL476.fasta.gz\"\n",
    "initial_tree_file <- \"input/salmonella.tre\"\n",
    "reference_name <- \"NC_011083\"\n",
    "\n",
    "## Simulation parameters\n",
    "sub_lambda <- 1e-2\n",
    "sub_mu <- 1\n",
    "sub_invariant <- 0.9\n",
    "ins_rate <- 1e-4\n",
    "ins_max_length <- 60\n",
    "ins_a <- 1.6\n",
    "del_rate <- 1e-4\n",
    "del_max_length <- 60\n",
    "del_a <- 1.6\n",
    "\n",
    "## Read simulation information\n",
    "read_coverage <- 5\n",
    "read_length <- 250\n",
    "\n",
    "## Other\n",
    "ncores <- 48"
   ]
  },
  {
   "cell_type": "code",
   "execution_count": 2,
   "id": "68625a25",
   "metadata": {
    "execution": {
     "iopub.execute_input": "2021-08-31T23:49:12.521195Z",
     "iopub.status.busy": "2021-08-31T23:49:12.484961Z",
     "iopub.status.idle": "2021-08-31T23:49:12.535287Z",
     "shell.execute_reply": "2021-08-31T23:49:12.534145Z"
    },
    "papermill": {
     "duration": 0.066646,
     "end_time": "2021-08-31T23:49:12.535554",
     "exception": false,
     "start_time": "2021-08-31T23:49:12.468908",
     "status": "completed"
    },
    "tags": [
     "injected-parameters"
    ]
   },
   "outputs": [],
   "source": [
    "# Parameters\n",
    "read_coverage = 40\n",
    "mincov = 10\n",
    "simulation_dir = \"simulations/cov-40\"\n",
    "iterations = 3\n"
   ]
  },
  {
   "cell_type": "code",
   "execution_count": 3,
   "id": "845350c4-9369-4350-bcce-504d05f5ff55",
   "metadata": {
    "execution": {
     "iopub.execute_input": "2021-08-31T23:49:12.568258Z",
     "iopub.status.busy": "2021-08-31T23:49:12.565424Z",
     "iopub.status.idle": "2021-08-31T23:49:12.596044Z",
     "shell.execute_reply": "2021-08-31T23:49:12.590935Z"
    },
    "papermill": {
     "duration": 0.045059,
     "end_time": "2021-08-31T23:49:12.596278",
     "exception": false,
     "start_time": "2021-08-31T23:49:12.551219",
     "status": "completed"
    },
    "tags": []
   },
   "outputs": [
    {
     "name": "stdout",
     "output_type": "stream",
     "text": [
      "[1] \"simulations/cov-40/simulated_data\"\n"
     ]
    },
    {
     "name": "stdout",
     "output_type": "stream",
     "text": [
      "[1] \"simulations/cov-40/simulated_data/haplotypes\"\n"
     ]
    }
   ],
   "source": [
    "output_dir <- file.path(simulation_dir, \"simulated_data\")\n",
    "output_vcf_prefix <- file.path(output_dir, \"haplotypes\")\n",
    "reads_data_initial_prefix <- file.path(output_dir, \"reads_initial\", \"data\")\n",
    "print(output_dir)\n",
    "print(output_vcf_prefix)"
   ]
  },
  {
   "cell_type": "markdown",
   "id": "noticed-coating",
   "metadata": {
    "papermill": {
     "duration": 0.009662,
     "end_time": "2021-08-31T23:49:12.622940",
     "exception": false,
     "start_time": "2021-08-31T23:49:12.613278",
     "status": "completed"
    },
    "tags": []
   },
   "source": [
    "# 2. Generate simulated data\n",
    "\n",
    "This simulates *Salmonella* data using a reference genome and a tree."
   ]
  },
  {
   "cell_type": "code",
   "execution_count": 4,
   "id": "bright-polymer",
   "metadata": {
    "execution": {
     "iopub.execute_input": "2021-08-31T23:49:12.641086Z",
     "iopub.status.busy": "2021-08-31T23:49:12.639262Z",
     "iopub.status.idle": "2021-08-31T23:49:12.731057Z",
     "shell.execute_reply": "2021-08-31T23:49:12.731949Z"
    },
    "papermill": {
     "duration": 0.102961,
     "end_time": "2021-08-31T23:49:12.732253",
     "exception": false,
     "start_time": "2021-08-31T23:49:12.629292",
     "status": "completed"
    },
    "tags": []
   },
   "outputs": [
    {
     "data": {
      "text/html": [
       "TRUE"
      ],
      "text/latex": [
       "TRUE"
      ],
      "text/markdown": [
       "TRUE"
      ],
      "text/plain": [
       "[1] TRUE"
      ]
     },
     "metadata": {},
     "output_type": "display_data"
    }
   ],
   "source": [
    "library(jackalope)\n",
    "\n",
    "# Make sure we've complied with openmp\n",
    "jackalope:::using_openmp()"
   ]
  },
  {
   "cell_type": "code",
   "execution_count": 5,
   "id": "chronic-region",
   "metadata": {
    "execution": {
     "iopub.execute_input": "2021-08-31T23:49:12.765509Z",
     "iopub.status.busy": "2021-08-31T23:49:12.763836Z",
     "iopub.status.idle": "2021-08-31T23:49:12.856617Z",
     "shell.execute_reply": "2021-08-31T23:49:12.849385Z"
    },
    "papermill": {
     "duration": 0.106707,
     "end_time": "2021-08-31T23:49:12.856861",
     "exception": false,
     "start_time": "2021-08-31T23:49:12.750154",
     "status": "completed"
    },
    "tags": []
   },
   "outputs": [
    {
     "data": {
      "text/plain": [
       "< Set of 1 chromosomes >\n",
       "# Total size: 4,888,768 bp\n",
       "  name                             chromosome                             length\n",
       "NC_011083  AGAGATTACGTCTGGTTGCAAGAGATCA...ATAACGTGCTGTAATTTTTAAAATAATA   4888768"
      ]
     },
     "metadata": {},
     "output_type": "display_data"
    }
   ],
   "source": [
    "reference <- read_fasta(reference_file)\n",
    "reference$set_names(c(reference_name))\n",
    "reference_len <- 4888768 # I don't know how to programatically get this in R\n",
    "reference"
   ]
  },
  {
   "cell_type": "code",
   "execution_count": 6,
   "id": "documented-helmet",
   "metadata": {
    "execution": {
     "iopub.execute_input": "2021-08-31T23:49:12.890580Z",
     "iopub.status.busy": "2021-08-31T23:49:12.888362Z",
     "iopub.status.idle": "2021-08-31T23:49:12.990560Z",
     "shell.execute_reply": "2021-08-31T23:49:12.989387Z"
    },
    "papermill": {
     "duration": 0.116748,
     "end_time": "2021-08-31T23:49:12.990718",
     "exception": false,
     "start_time": "2021-08-31T23:49:12.873970",
     "status": "completed"
    },
    "tags": []
   },
   "outputs": [
    {
     "data": {
      "text/plain": [
       "\n",
       "Phylogenetic tree with 60 tips and 59 internal nodes.\n",
       "\n",
       "Tip labels:\n",
       "  reference, SH12-013, SH12-014, SH10-015, SH10-014, SH11-002, ...\n",
       "Node labels:\n",
       "  Root, 1.000000, 0.000000, 0.000000, 1.000000, 0.000000, ...\n",
       "\n",
       "Rooted; includes branch lengths."
      ]
     },
     "metadata": {},
     "output_type": "display_data"
    }
   ],
   "source": [
    "library(ape)\n",
    "\n",
    "tree <- read.tree(initial_tree_file)\n",
    "tree <- root(tree, \"reference\", resolve.root=TRUE)\n",
    "tree"
   ]
  },
  {
   "cell_type": "code",
   "execution_count": 7,
   "id": "proved-silver",
   "metadata": {
    "execution": {
     "iopub.execute_input": "2021-08-31T23:49:13.018563Z",
     "iopub.status.busy": "2021-08-31T23:49:13.016129Z",
     "iopub.status.idle": "2021-08-31T23:49:19.916296Z",
     "shell.execute_reply": "2021-08-31T23:49:19.914775Z"
    },
    "papermill": {
     "duration": 6.913584,
     "end_time": "2021-08-31T23:49:19.916550",
     "exception": false,
     "start_time": "2021-08-31T23:49:13.002966",
     "status": "completed"
    },
    "tags": []
   },
   "outputs": [
    {
     "data": {
      "text/plain": [
       "                              << haplotypes object >>\n",
       "# Haplotypes: 60\n",
       "# Mutations: 220,974\n",
       "\n",
       "                          << Reference genome info: >>\n",
       "< Set of 1 chromosomes >\n",
       "# Total size: 4,888,768 bp\n",
       "  name                             chromosome                             length\n",
       "NC_011083  AGAGATTACGTCTGGTTGCAAGAGATCA...ATAACGTGCTGTAATTTTTAAAATAATA   4888768"
      ]
     },
     "metadata": {},
     "output_type": "display_data"
    }
   ],
   "source": [
    "sub <- sub_JC69(lambda = sub_lambda, mu = sub_mu, invariant = sub_invariant)\n",
    "ins <- indels(rate = ins_rate, max_length = ins_max_length, a = ins_a)\n",
    "del <- indels(rate = del_rate, max_length = del_max_length, a = del_a)\n",
    "\n",
    "ref_haplotypes <- create_haplotypes(reference, haps_phylo(tree), sub=sub, ins=ins, del=del)\n",
    "ref_haplotypes"
   ]
  },
  {
   "cell_type": "markdown",
   "id": "535fa02d-c76c-4067-9582-74f3694d16ea",
   "metadata": {
    "papermill": {
     "duration": 0.053604,
     "end_time": "2021-08-31T23:49:19.989521",
     "exception": false,
     "start_time": "2021-08-31T23:49:19.935917",
     "status": "completed"
    },
    "tags": []
   },
   "source": [
    "# 3. Write simulated data"
   ]
  },
  {
   "cell_type": "code",
   "execution_count": 8,
   "id": "smoking-geology",
   "metadata": {
    "execution": {
     "iopub.execute_input": "2021-08-31T23:49:20.116913Z",
     "iopub.status.busy": "2021-08-31T23:49:20.113708Z",
     "iopub.status.idle": "2021-08-31T23:49:20.490701Z",
     "shell.execute_reply": "2021-08-31T23:49:20.489349Z"
    },
    "papermill": {
     "duration": 0.442803,
     "end_time": "2021-08-31T23:49:20.490937",
     "exception": false,
     "start_time": "2021-08-31T23:49:20.048134",
     "status": "completed"
    },
    "tags": []
   },
   "outputs": [],
   "source": [
    "write_vcf(ref_haplotypes, out_prefix=output_vcf_prefix, compress=TRUE)"
   ]
  },
  {
   "cell_type": "code",
   "execution_count": 9,
   "id": "d2657fc5-481e-4b24-bbf8-78c02ee735ce",
   "metadata": {
    "execution": {
     "iopub.execute_input": "2021-08-31T23:49:20.528957Z",
     "iopub.status.busy": "2021-08-31T23:49:20.526426Z",
     "iopub.status.idle": "2021-08-31T23:49:23.877032Z",
     "shell.execute_reply": "2021-08-31T23:49:23.875492Z"
    },
    "papermill": {
     "duration": 3.366377,
     "end_time": "2021-08-31T23:49:23.877322",
     "exception": false,
     "start_time": "2021-08-31T23:49:20.510945",
     "status": "completed"
    },
    "tags": []
   },
   "outputs": [],
   "source": [
    "assemblies_prefix = file.path(output_dir, \"assemblies\", \"data\")\n",
    "\n",
    "write_fasta(ref_haplotypes, out_prefix=assemblies_prefix,\n",
    "            compress=TRUE, n_threads=ncores, overwrite=TRUE)"
   ]
  },
  {
   "cell_type": "code",
   "execution_count": 10,
   "id": "continent-freeze",
   "metadata": {
    "execution": {
     "iopub.execute_input": "2021-08-31T23:49:23.915097Z",
     "iopub.status.busy": "2021-08-31T23:49:23.912179Z",
     "iopub.status.idle": "2021-08-31T23:57:58.043489Z",
     "shell.execute_reply": "2021-08-31T23:57:58.041583Z"
    },
    "papermill": {
     "duration": 514.146687,
     "end_time": "2021-08-31T23:57:58.043997",
     "exception": false,
     "start_time": "2021-08-31T23:49:23.897310",
     "status": "completed"
    },
    "tags": []
   },
   "outputs": [
    {
     "name": "stdout",
     "output_type": "stream",
     "text": [
      "[1] \"Number of reads for coverage 40X and read length 250 over 60 samples with respect to reference with length 4888768: 46932173\"\n"
     ]
    }
   ],
   "source": [
    "n_samples <- length(tree$tip)\n",
    "n_reads <- round((reference$sizes() * read_coverage * n_samples) / read_length)\n",
    "print(sprintf(\"Number of reads for coverage %sX and read length %s over %s samples with respect to reference with length %s: %s\", \n",
    "              read_coverage, read_length, n_samples, reference_len, n_reads))\n",
    "\n",
    "illumina(ref_haplotypes, out_prefix = reads_data_initial_prefix, sep_files=TRUE, n_reads = n_reads,\n",
    "         frag_mean = read_length * 2 + 50, frag_sd = 100,\n",
    "         compress=TRUE, comp_method=\"bgzip\", n_threads=ncores,\n",
    "         paired=TRUE, read_length = read_length)"
   ]
  },
  {
   "cell_type": "code",
   "execution_count": 11,
   "id": "israeli-unknown",
   "metadata": {
    "execution": {
     "iopub.execute_input": "2021-08-31T23:57:58.090235Z",
     "iopub.status.busy": "2021-08-31T23:57:58.089680Z",
     "iopub.status.idle": "2021-08-31T23:57:58.126562Z",
     "shell.execute_reply": "2021-08-31T23:57:58.125408Z"
    },
    "papermill": {
     "duration": 0.060176,
     "end_time": "2021-08-31T23:57:58.126796",
     "exception": false,
     "start_time": "2021-08-31T23:57:58.066620",
     "status": "completed"
    },
    "tags": []
   },
   "outputs": [
    {
     "name": "stdout",
     "output_type": "stream",
     "text": [
      "[1] \"Removing: simulations/cov-40/simulated_data/reads_initial/data_reference_R1.fq.gz\"\n"
     ]
    },
    {
     "name": "stdout",
     "output_type": "stream",
     "text": [
      "[1] \"Removing: simulations/cov-40/simulated_data/reads_initial/data_reference_R2.fq.gz\"\n"
     ]
    }
   ],
   "source": [
    "# Remove the simulated reads for the reference genome since I don't want these in the tree\n",
    "ref1 <- paste(toString(reads_data_initial_prefix), \"_reference_R1.fq.gz\", sep=\"\")\n",
    "ref2 <- paste(toString(reads_data_initial_prefix), \"_reference_R2.fq.gz\", sep=\"\")\n",
    "if (file.exists(ref1)) {\n",
    "    file.remove(ref1)\n",
    "    print(sprintf(\"Removing: %s\", ref1))\n",
    "}\n",
    "if (file.exists(ref2)) {\n",
    "    file.remove(ref2)\n",
    "    print(sprintf(\"Removing: %s\", ref2))\n",
    "}"
   ]
  },
  {
   "cell_type": "code",
   "execution_count": 12,
   "id": "likely-elite",
   "metadata": {
    "execution": {
     "iopub.execute_input": "2021-08-31T23:57:58.170958Z",
     "iopub.status.busy": "2021-08-31T23:57:58.163211Z",
     "iopub.status.idle": "2021-08-31T23:57:58.186201Z",
     "shell.execute_reply": "2021-08-31T23:57:58.185007Z"
    },
    "papermill": {
     "duration": 0.040085,
     "end_time": "2021-08-31T23:57:58.186424",
     "exception": false,
     "start_time": "2021-08-31T23:57:58.146339",
     "status": "completed"
    },
    "tags": []
   },
   "outputs": [
    {
     "name": "stdout",
     "output_type": "stream",
     "text": [
      "[1] \"Removing: simulations/cov-40/simulated_data/assemblies/data__reference.fa.gz\"\n"
     ]
    }
   ],
   "source": [
    "# Remove the new reference assembly genome since I don't need it\n",
    "ref1 <- paste(toString(assemblies_prefix), \"__reference.fa.gz\", sep=\"\")\n",
    "if (file.exists(ref1)) {\n",
    "    file.remove(ref1)\n",
    "    print(sprintf(\"Removing: %s\", ref1))\n",
    "}"
   ]
  },
  {
   "cell_type": "code",
   "execution_count": null,
   "id": "6ab27399-288a-4067-a812-d946410658a5",
   "metadata": {
    "papermill": {
     "duration": 0.054296,
     "end_time": "2021-08-31T23:57:58.261935",
     "exception": false,
     "start_time": "2021-08-31T23:57:58.207639",
     "status": "completed"
    },
    "tags": []
   },
   "outputs": [],
   "source": []
  }
 ],
 "metadata": {
  "kernelspec": {
   "display_name": "R",
   "language": "R",
   "name": "ir"
  },
  "language_info": {
   "codemirror_mode": "r",
   "file_extension": ".r",
   "mimetype": "text/x-r-source",
   "name": "R",
   "pygments_lexer": "r",
   "version": "4.1.1"
  },
  "papermill": {
   "default_parameters": {},
   "duration": 527.450875,
   "end_time": "2021-08-31T23:57:58.701903",
   "environment_variables": {},
   "exception": null,
   "input_path": "template-1-simulate-reads.ipynb",
   "output_path": "1-simulate-reads.simulation-cov-40.ipynb",
   "parameters": {
    "iterations": 3,
    "mincov": 10,
    "read_coverage": 40,
    "simulation_dir": "simulations/cov-40"
   },
   "start_time": "2021-08-31T23:49:11.251028",
   "version": "2.3.3"
  }
 },
 "nbformat": 4,
 "nbformat_minor": 5
}