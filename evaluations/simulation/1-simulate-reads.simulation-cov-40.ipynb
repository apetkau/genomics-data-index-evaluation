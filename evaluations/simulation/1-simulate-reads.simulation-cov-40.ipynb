{
 "cells": [
  {
   "cell_type": "markdown",
   "id": "39afc998-7d9f-4d4e-9147-fb6198f83f2d",
   "metadata": {
    "papermill": {
     "duration": 0.017788,
     "end_time": "2021-09-02T02:57:21.287941",
     "exception": false,
     "start_time": "2021-09-02T02:57:21.270153",
     "status": "completed"
    },
    "tags": []
   },
   "source": [
    "# 1. Parameters"
   ]
  },
  {
   "cell_type": "code",
   "execution_count": 1,
   "id": "8eee723b-55a2-4355-b867-c5e682a9f800",
   "metadata": {
    "execution": {
     "iopub.execute_input": "2021-09-02T02:57:21.439644Z",
     "iopub.status.busy": "2021-09-02T02:57:21.437719Z",
     "iopub.status.idle": "2021-09-02T02:57:21.489153Z",
     "shell.execute_reply": "2021-09-02T02:57:21.487503Z"
    },
    "papermill": {
     "duration": 0.191639,
     "end_time": "2021-09-02T02:57:21.489438",
     "exception": false,
     "start_time": "2021-09-02T02:57:21.297799",
     "status": "completed"
    },
    "tags": [
     "parameters"
    ]
   },
   "outputs": [],
   "source": [
    "# Defaults\n",
    "\n",
    "## Random seed\n",
    "random_seed <- 25524\n",
    "\n",
    "## Directories\n",
    "simulation_dir <- \"simulations/unset\"\n",
    "reference_file <- \"simulations/reference/reference.fa.gz\"\n",
    "initial_tree_file <- \"input/salmonella.tre\"\n",
    "\n",
    "## Simulation parameters\n",
    "sub_lambda <- 1e-2\n",
    "sub_pi_tcag <- c(0.1, 0.2, 0.3, 0.4)\n",
    "sub_alpha <- 0.2\n",
    "sub_beta <- 0.1\n",
    "sub_mu <- 1\n",
    "sub_invariant <- 0.3\n",
    "ins_rate <- 1e-4\n",
    "ins_max_length <- 60\n",
    "ins_a <- 1.6\n",
    "del_rate <- 1e-4\n",
    "del_max_length <- 60\n",
    "del_a <- 1.6\n",
    "\n",
    "## Read simulation information\n",
    "read_coverage <- 30\n",
    "read_length <- 250\n",
    "\n",
    "## Other\n",
    "ncores <- 48"
   ]
  },
  {
   "cell_type": "code",
   "execution_count": 2,
   "id": "b10b4ec5",
   "metadata": {
    "execution": {
     "iopub.execute_input": "2021-09-02T02:57:21.560436Z",
     "iopub.status.busy": "2021-09-02T02:57:21.521903Z",
     "iopub.status.idle": "2021-09-02T02:57:21.574867Z",
     "shell.execute_reply": "2021-09-02T02:57:21.573734Z"
    },
    "papermill": {
     "duration": 0.068588,
     "end_time": "2021-09-02T02:57:21.575113",
     "exception": false,
     "start_time": "2021-09-02T02:57:21.506525",
     "status": "completed"
    },
    "tags": [
     "injected-parameters"
    ]
   },
   "outputs": [],
   "source": [
    "# Parameters\n",
    "read_coverage = 40\n",
    "mincov = 10\n",
    "simulation_dir = \"simulations/cov-40\"\n",
    "iterations = 3\n"
   ]
  },
  {
   "cell_type": "code",
   "execution_count": 3,
   "id": "845350c4-9369-4350-bcce-504d05f5ff55",
   "metadata": {
    "execution": {
     "iopub.execute_input": "2021-09-02T02:57:21.606309Z",
     "iopub.status.busy": "2021-09-02T02:57:21.604116Z",
     "iopub.status.idle": "2021-09-02T02:57:21.637018Z",
     "shell.execute_reply": "2021-09-02T02:57:21.635926Z"
    },
    "papermill": {
     "duration": 0.046864,
     "end_time": "2021-09-02T02:57:21.637252",
     "exception": false,
     "start_time": "2021-09-02T02:57:21.590388",
     "status": "completed"
    },
    "tags": []
   },
   "outputs": [
    {
     "name": "stdout",
     "output_type": "stream",
     "text": [
      "[1] \"simulations/cov-40/simulated_data\"\n"
     ]
    },
    {
     "name": "stdout",
     "output_type": "stream",
     "text": [
      "[1] \"simulations/cov-40/simulated_data/haplotypes\"\n"
     ]
    }
   ],
   "source": [
    "output_dir <- file.path(simulation_dir, \"simulated_data\")\n",
    "output_vcf_prefix <- file.path(output_dir, \"haplotypes\")\n",
    "reads_data_initial_prefix <- file.path(output_dir, \"reads_initial\", \"data\")\n",
    "set.seed(random_seed)\n",
    "print(output_dir)\n",
    "print(output_vcf_prefix)"
   ]
  },
  {
   "cell_type": "markdown",
   "id": "noticed-coating",
   "metadata": {
    "papermill": {
     "duration": 0.009058,
     "end_time": "2021-09-02T02:57:21.662044",
     "exception": false,
     "start_time": "2021-09-02T02:57:21.652986",
     "status": "completed"
    },
    "tags": []
   },
   "source": [
    "# 2. Generate simulated data\n",
    "\n",
    "This simulates *Salmonella* data using a reference genome and a tree."
   ]
  },
  {
   "cell_type": "code",
   "execution_count": 4,
   "id": "bright-polymer",
   "metadata": {
    "execution": {
     "iopub.execute_input": "2021-09-02T02:57:21.683179Z",
     "iopub.status.busy": "2021-09-02T02:57:21.680223Z",
     "iopub.status.idle": "2021-09-02T02:57:21.789821Z",
     "shell.execute_reply": "2021-09-02T02:57:21.788690Z"
    },
    "papermill": {
     "duration": 0.120997,
     "end_time": "2021-09-02T02:57:21.790064",
     "exception": false,
     "start_time": "2021-09-02T02:57:21.669067",
     "status": "completed"
    },
    "tags": []
   },
   "outputs": [
    {
     "data": {
      "text/html": [
       "TRUE"
      ],
      "text/latex": [
       "TRUE"
      ],
      "text/markdown": [
       "TRUE"
      ],
      "text/plain": [
       "[1] TRUE"
      ]
     },
     "metadata": {},
     "output_type": "display_data"
    }
   ],
   "source": [
    "library(jackalope)\n",
    "\n",
    "# Make sure we've complied with openmp\n",
    "jackalope:::using_openmp()"
   ]
  },
  {
   "cell_type": "code",
   "execution_count": 5,
   "id": "303635b1-41dc-4917-8e90-30832a9acafd",
   "metadata": {
    "execution": {
     "iopub.execute_input": "2021-09-02T02:57:21.824700Z",
     "iopub.status.busy": "2021-09-02T02:57:21.822168Z",
     "iopub.status.idle": "2021-09-02T02:57:21.853126Z",
     "shell.execute_reply": "2021-09-02T02:57:21.852245Z"
    },
    "papermill": {
     "duration": 0.046001,
     "end_time": "2021-09-02T02:57:21.853313",
     "exception": false,
     "start_time": "2021-09-02T02:57:21.807312",
     "status": "completed"
    },
    "tags": []
   },
   "outputs": [
    {
     "data": {
      "text/plain": [
       "< Set of 1 chromosomes >\n",
       "# Total size: 10,834 bp\n",
       "  name                             chromosome                             length\n",
       "chrom0     GTATTGCGAGGGTGGGGGAGTACGGCAG...CAAGAATGCAACCGACTCTGTCGGGACT     10834"
      ]
     },
     "metadata": {},
     "output_type": "display_data"
    }
   ],
   "source": [
    "reference <- read_fasta(reference_file)\n",
    "reference_len <- reference$sizes()\n",
    "reference"
   ]
  },
  {
   "cell_type": "code",
   "execution_count": 6,
   "id": "documented-helmet",
   "metadata": {
    "execution": {
     "iopub.execute_input": "2021-09-02T02:57:21.885292Z",
     "iopub.status.busy": "2021-09-02T02:57:21.883213Z",
     "iopub.status.idle": "2021-09-02T02:57:21.981058Z",
     "shell.execute_reply": "2021-09-02T02:57:21.979843Z"
    },
    "papermill": {
     "duration": 0.112391,
     "end_time": "2021-09-02T02:57:21.981307",
     "exception": false,
     "start_time": "2021-09-02T02:57:21.868916",
     "status": "completed"
    },
    "tags": []
   },
   "outputs": [
    {
     "data": {
      "text/plain": [
       "\n",
       "Phylogenetic tree with 60 tips and 59 internal nodes.\n",
       "\n",
       "Tip labels:\n",
       "  reference, SH12-013, SH12-014, SH10-015, SH10-014, SH11-002, ...\n",
       "Node labels:\n",
       "  Root, 1.000000, 0.000000, 0.000000, 1.000000, 0.000000, ...\n",
       "\n",
       "Rooted; includes branch lengths."
      ]
     },
     "metadata": {},
     "output_type": "display_data"
    }
   ],
   "source": [
    "library(ape)\n",
    "\n",
    "tree <- read.tree(initial_tree_file)\n",
    "tree <- root(tree, \"reference\", resolve.root=TRUE)\n",
    "tree"
   ]
  },
  {
   "cell_type": "code",
   "execution_count": 7,
   "id": "proved-silver",
   "metadata": {
    "execution": {
     "iopub.execute_input": "2021-09-02T02:57:22.017732Z",
     "iopub.status.busy": "2021-09-02T02:57:22.014686Z",
     "iopub.status.idle": "2021-09-02T02:57:22.146825Z",
     "shell.execute_reply": "2021-09-02T02:57:22.145712Z"
    },
    "papermill": {
     "duration": 0.147993,
     "end_time": "2021-09-02T02:57:22.147068",
     "exception": false,
     "start_time": "2021-09-02T02:57:21.999075",
     "status": "completed"
    },
    "tags": []
   },
   "outputs": [
    {
     "data": {
      "text/plain": [
       "                              << haplotypes object >>\n",
       "# Haplotypes: 60\n",
       "# Mutations: 10,109\n",
       "\n",
       "                          << Reference genome info: >>\n",
       "< Set of 1 chromosomes >\n",
       "# Total size: 10,834 bp\n",
       "  name                             chromosome                             length\n",
       "chrom0     GTATTGCGAGGGTGGGGGAGTACGGCAG...CAAGAATGCAACCGACTCTGTCGGGACT     10834"
      ]
     },
     "metadata": {},
     "output_type": "display_data"
    }
   ],
   "source": [
    "sub <- sub_HKY85(pi_tcag = sub_pi_tcag, mu = sub_mu,\n",
    "                 alpha = sub_alpha, beta = sub_beta, gamma_k = 5,\n",
    "                 invariant = sub_invariant)\n",
    "ins <- indels(rate = ins_rate, max_length = ins_max_length, a = ins_a)\n",
    "del <- indels(rate = del_rate, max_length = del_max_length, a = del_a)\n",
    "\n",
    "ref_haplotypes <- create_haplotypes(reference, haps_phylo(tree), sub=sub, ins=ins, del=del)\n",
    "ref_haplotypes"
   ]
  },
  {
   "cell_type": "markdown",
   "id": "535fa02d-c76c-4067-9582-74f3694d16ea",
   "metadata": {
    "papermill": {
     "duration": 0.011556,
     "end_time": "2021-09-02T02:57:22.178387",
     "exception": false,
     "start_time": "2021-09-02T02:57:22.166831",
     "status": "completed"
    },
    "tags": []
   },
   "source": [
    "# 3. Write simulated data"
   ]
  },
  {
   "cell_type": "code",
   "execution_count": 8,
   "id": "smoking-geology",
   "metadata": {
    "execution": {
     "iopub.execute_input": "2021-09-02T02:57:22.203598Z",
     "iopub.status.busy": "2021-09-02T02:57:22.200268Z",
     "iopub.status.idle": "2021-09-02T02:57:22.241865Z",
     "shell.execute_reply": "2021-09-02T02:57:22.240268Z"
    },
    "papermill": {
     "duration": 0.055346,
     "end_time": "2021-09-02T02:57:22.242099",
     "exception": false,
     "start_time": "2021-09-02T02:57:22.186753",
     "status": "completed"
    },
    "tags": []
   },
   "outputs": [],
   "source": [
    "write_vcf(ref_haplotypes, out_prefix=output_vcf_prefix, compress=TRUE)"
   ]
  },
  {
   "cell_type": "code",
   "execution_count": 9,
   "id": "d2657fc5-481e-4b24-bbf8-78c02ee735ce",
   "metadata": {
    "execution": {
     "iopub.execute_input": "2021-09-02T02:57:22.280223Z",
     "iopub.status.busy": "2021-09-02T02:57:22.277134Z",
     "iopub.status.idle": "2021-09-02T02:57:22.371876Z",
     "shell.execute_reply": "2021-09-02T02:57:22.369259Z"
    },
    "papermill": {
     "duration": 0.1115,
     "end_time": "2021-09-02T02:57:22.372086",
     "exception": false,
     "start_time": "2021-09-02T02:57:22.260586",
     "status": "completed"
    },
    "tags": []
   },
   "outputs": [],
   "source": [
    "assemblies_prefix = file.path(output_dir, \"assemblies\", \"data\")\n",
    "\n",
    "write_fasta(ref_haplotypes, out_prefix=assemblies_prefix,\n",
    "            compress=TRUE, n_threads=ncores, overwrite=TRUE)"
   ]
  },
  {
   "cell_type": "code",
   "execution_count": 10,
   "id": "continent-freeze",
   "metadata": {
    "execution": {
     "iopub.execute_input": "2021-09-02T02:57:22.408190Z",
     "iopub.status.busy": "2021-09-02T02:57:22.405183Z",
     "iopub.status.idle": "2021-09-02T03:03:20.594168Z",
     "shell.execute_reply": "2021-09-02T03:03:20.590343Z"
    },
    "papermill": {
     "duration": 358.204836,
     "end_time": "2021-09-02T03:03:20.595536",
     "exception": false,
     "start_time": "2021-09-02T02:57:22.390700",
     "status": "completed"
    },
    "tags": []
   },
   "outputs": [
    {
     "name": "stdout",
     "output_type": "stream",
     "text": [
      "[1] \"Number of reads for coverage 40X and read length 250 over 60 samples with respect to reference with length 10834: 104006\"\n"
     ]
    }
   ],
   "source": [
    "n_samples <- length(tree$tip)\n",
    "n_reads <- round((reference_len * read_coverage * n_samples) / read_length)\n",
    "print(sprintf(\"Number of reads for coverage %sX and read length %s over %s samples with respect to reference with length %s: %s\", \n",
    "              read_coverage, read_length, n_samples, reference_len, n_reads))\n",
    "\n",
    "illumina(ref_haplotypes, out_prefix = reads_data_initial_prefix, sep_files=TRUE, n_reads = n_reads,\n",
    "         frag_mean = read_length * 2 + 50, frag_sd = 100,\n",
    "         compress=TRUE, comp_method=\"bgzip\", n_threads=ncores,\n",
    "         paired=TRUE, read_length = read_length)"
   ]
  },
  {
   "cell_type": "code",
   "execution_count": 11,
   "id": "israeli-unknown",
   "metadata": {
    "execution": {
     "iopub.execute_input": "2021-09-02T03:03:20.633829Z",
     "iopub.status.busy": "2021-09-02T03:03:20.632032Z",
     "iopub.status.idle": "2021-09-02T03:03:20.669880Z",
     "shell.execute_reply": "2021-09-02T03:03:20.668477Z"
    },
    "papermill": {
     "duration": 0.052566,
     "end_time": "2021-09-02T03:03:20.670124",
     "exception": false,
     "start_time": "2021-09-02T03:03:20.617558",
     "status": "completed"
    },
    "tags": []
   },
   "outputs": [
    {
     "name": "stdout",
     "output_type": "stream",
     "text": [
      "[1] \"Removing: simulations/cov-40/simulated_data/reads_initial/data_reference_R1.fq.gz\"\n"
     ]
    },
    {
     "name": "stdout",
     "output_type": "stream",
     "text": [
      "[1] \"Removing: simulations/cov-40/simulated_data/reads_initial/data_reference_R2.fq.gz\"\n"
     ]
    }
   ],
   "source": [
    "# Remove the simulated reads for the reference genome since I don't want these in the tree\n",
    "ref1 <- paste(toString(reads_data_initial_prefix), \"_reference_R1.fq.gz\", sep=\"\")\n",
    "ref2 <- paste(toString(reads_data_initial_prefix), \"_reference_R2.fq.gz\", sep=\"\")\n",
    "if (file.exists(ref1)) {\n",
    "    file.remove(ref1)\n",
    "    print(sprintf(\"Removing: %s\", ref1))\n",
    "}\n",
    "if (file.exists(ref2)) {\n",
    "    file.remove(ref2)\n",
    "    print(sprintf(\"Removing: %s\", ref2))\n",
    "}"
   ]
  },
  {
   "cell_type": "code",
   "execution_count": 12,
   "id": "likely-elite",
   "metadata": {
    "execution": {
     "iopub.execute_input": "2021-09-02T03:03:20.708539Z",
     "iopub.status.busy": "2021-09-02T03:03:20.705901Z",
     "iopub.status.idle": "2021-09-02T03:03:20.733708Z",
     "shell.execute_reply": "2021-09-02T03:03:20.732619Z"
    },
    "papermill": {
     "duration": 0.043918,
     "end_time": "2021-09-02T03:03:20.733844",
     "exception": false,
     "start_time": "2021-09-02T03:03:20.689926",
     "status": "completed"
    },
    "tags": []
   },
   "outputs": [
    {
     "name": "stdout",
     "output_type": "stream",
     "text": [
      "[1] \"Removing: simulations/cov-40/simulated_data/assemblies/data__reference.fa.gz\"\n"
     ]
    }
   ],
   "source": [
    "# Remove the new reference assembly genome since I don't need it\n",
    "ref1 <- paste(toString(assemblies_prefix), \"__reference.fa.gz\", sep=\"\")\n",
    "if (file.exists(ref1)) {\n",
    "    file.remove(ref1)\n",
    "    print(sprintf(\"Removing: %s\", ref1))\n",
    "}"
   ]
  },
  {
   "cell_type": "code",
   "execution_count": null,
   "id": "6ab27399-288a-4067-a812-d946410658a5",
   "metadata": {
    "papermill": {
     "duration": 0.010512,
     "end_time": "2021-09-02T03:03:20.760510",
     "exception": false,
     "start_time": "2021-09-02T03:03:20.749998",
     "status": "completed"
    },
    "tags": []
   },
   "outputs": [],
   "source": []
  }
 ],
 "metadata": {
  "kernelspec": {
   "display_name": "R",
   "language": "R",
   "name": "ir"
  },
  "language_info": {
   "codemirror_mode": "r",
   "file_extension": ".r",
   "mimetype": "text/x-r-source",
   "name": "R",
   "pygments_lexer": "r",
   "version": "4.1.1"
  },
  "papermill": {
   "default_parameters": {},
   "duration": 361.091192,
   "end_time": "2021-09-02T03:03:21.285792",
   "environment_variables": {},
   "exception": null,
   "input_path": "template-1-simulate-reads.ipynb",
   "output_path": "1-simulate-reads.simulation-cov-40.ipynb",
   "parameters": {
    "iterations": 3,
    "mincov": 10,
    "read_coverage": 40,
    "simulation_dir": "simulations/cov-40"
   },
   "start_time": "2021-09-02T02:57:20.194600",
   "version": "2.3.3"
  }
 },
 "nbformat": 4,
 "nbformat_minor": 5
}