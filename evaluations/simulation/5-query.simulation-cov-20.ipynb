{
 "cells": [
  {
   "cell_type": "markdown",
   "id": "f1bc3e40-3158-4009-8a9b-371a7d2d2efe",
   "metadata": {
    "papermill": {
     "duration": 0.020063,
     "end_time": "2021-09-03T21:50:12.663997",
     "exception": false,
     "start_time": "2021-09-03T21:50:12.643934",
     "status": "completed"
    },
    "tags": []
   },
   "source": [
    "# 1. Parameters"
   ]
  },
  {
   "cell_type": "code",
   "execution_count": 1,
   "id": "cf8880a6-5194-4ced-be67-c0610a332a31",
   "metadata": {
    "execution": {
     "iopub.execute_input": "2021-09-03T21:50:12.696538Z",
     "iopub.status.busy": "2021-09-03T21:50:12.691105Z",
     "iopub.status.idle": "2021-09-03T21:50:12.701996Z",
     "shell.execute_reply": "2021-09-03T21:50:12.700880Z"
    },
    "papermill": {
     "duration": 0.027765,
     "end_time": "2021-09-03T21:50:12.702268",
     "exception": false,
     "start_time": "2021-09-03T21:50:12.674503",
     "status": "completed"
    },
    "tags": [
     "parameters"
    ]
   },
   "outputs": [],
   "source": [
    "simulation_dir = 'simulations/unset'\n",
    "metadata_file = 'input/metadata.tsv.gz'"
   ]
  },
  {
   "cell_type": "code",
   "execution_count": 2,
   "id": "dfe52668",
   "metadata": {
    "execution": {
     "iopub.execute_input": "2021-09-03T21:50:12.739102Z",
     "iopub.status.busy": "2021-09-03T21:50:12.738356Z",
     "iopub.status.idle": "2021-09-03T21:50:12.741209Z",
     "shell.execute_reply": "2021-09-03T21:50:12.741787Z"
    },
    "papermill": {
     "duration": 0.02026,
     "end_time": "2021-09-03T21:50:12.741964",
     "exception": false,
     "start_time": "2021-09-03T21:50:12.721704",
     "status": "completed"
    },
    "tags": [
     "injected-parameters"
    ]
   },
   "outputs": [],
   "source": [
    "# Parameters\n",
    "read_coverage = 20\n",
    "mincov = 10\n",
    "simulation_dir = \"simulations/cov-20\"\n",
    "iterations = 3\n"
   ]
  },
  {
   "cell_type": "code",
   "execution_count": 3,
   "id": "7e54ac3f-8dff-492e-8096-65a2ed9f5c90",
   "metadata": {
    "execution": {
     "iopub.execute_input": "2021-09-03T21:50:12.775017Z",
     "iopub.status.busy": "2021-09-03T21:50:12.774590Z",
     "iopub.status.idle": "2021-09-03T21:50:15.119709Z",
     "shell.execute_reply": "2021-09-03T21:50:15.118639Z"
    },
    "papermill": {
     "duration": 2.363585,
     "end_time": "2021-09-03T21:50:15.119972",
     "exception": false,
     "start_time": "2021-09-03T21:50:12.756387",
     "status": "completed"
    },
    "tags": []
   },
   "outputs": [],
   "source": [
    "from pathlib import Path\n",
    "import imp\n",
    "fp, pathname, description = imp.find_module('gdi_benchmark', ['../../lib'])\n",
    "gdi_benchmark = imp.load_module('gdi_benchmark', fp, pathname, description)\n",
    "\n",
    "simulation_dir_path = Path(simulation_dir)\n",
    "\n",
    "case_name = str(simulation_dir_path.name)\n",
    "index_reads_path = simulation_dir_path / 'index-reads'\n",
    "index_assemblies_path = simulation_dir_path / 'index-assemblies'\n",
    "\n",
    "output_api_reads_path = simulation_dir_path / 'query-reads-api.tsv'\n",
    "output_api_assemblies_path = simulation_dir_path / 'query-assemblies-api.tsv'\n",
    "output_cli_reads_path = simulation_dir_path / 'query-reads-cli.tsv'\n",
    "output_cli_assemblies_path = simulation_dir_path / 'query-assemblies-cli.tsv'"
   ]
  },
  {
   "cell_type": "markdown",
   "id": "54537d03-809a-487c-8686-5e1791dc11de",
   "metadata": {
    "papermill": {
     "duration": 0.010409,
     "end_time": "2021-09-03T21:50:15.150133",
     "exception": false,
     "start_time": "2021-09-03T21:50:15.139724",
     "status": "completed"
    },
    "tags": []
   },
   "source": [
    "# 2. Benchmark command-line"
   ]
  },
  {
   "cell_type": "code",
   "execution_count": 4,
   "id": "9f4b5122-586c-440f-be52-0b7ab161de46",
   "metadata": {
    "execution": {
     "iopub.execute_input": "2021-09-03T21:50:15.178290Z",
     "iopub.status.busy": "2021-09-03T21:50:15.175343Z",
     "iopub.status.idle": "2021-09-03T21:50:15.180711Z",
     "shell.execute_reply": "2021-09-03T21:50:15.181088Z"
    },
    "papermill": {
     "duration": 0.02296,
     "end_time": "2021-09-03T21:50:15.181219",
     "exception": false,
     "start_time": "2021-09-03T21:50:15.158259",
     "status": "completed"
    },
    "tags": []
   },
   "outputs": [],
   "source": [
    "import pandas as pd\n",
    "import genomics_data_index.api as gdi\n",
    "\n",
    "def benchmark_cli_index(name: str, index_path: Path) -> pd.DataFrame:\n",
    "    benchmark_commands = {\n",
    "        'query':         f'gdi --project-dir {index_path} --ncores 1 query mutation \"chrom0:8983:A:C\"',\n",
    "        'query summary': f'gdi --project-dir {index_path} --ncores 1 query mutation \"chrom0:8983:A:C\" --summarize',\n",
    "        'list samples':  f'gdi --project-dir {index_path} --ncores 1 list samples',\n",
    "    }\n",
    "    \n",
    "    db = gdi.GenomicsDataIndex.connect(index_path)\n",
    "    number_samples = db.count_samples()\n",
    "    number_features = db.count_mutations(reference_genome='reference', include_unknown=True)\n",
    "    iterations = 10\n",
    "    \n",
    "    benchmarker = gdi_benchmark.QueryBenchmarkHandler()\n",
    "    return benchmarker.benchmark_cli(name=name, kind_commands=benchmark_commands, number_samples=number_samples,\n",
    "                                    number_features=number_features, iterations=iterations)"
   ]
  },
  {
   "cell_type": "markdown",
   "id": "b24cc68e-1765-4570-a41b-b89d19a5e596",
   "metadata": {
    "papermill": {
     "duration": 0.00844,
     "end_time": "2021-09-03T21:50:15.202036",
     "exception": false,
     "start_time": "2021-09-03T21:50:15.193596",
     "status": "completed"
    },
    "tags": []
   },
   "source": [
    "## 2.1. Benchmark reads"
   ]
  },
  {
   "cell_type": "code",
   "execution_count": 5,
   "id": "c339bf1b-f934-4e3a-9796-25374627e237",
   "metadata": {
    "execution": {
     "iopub.execute_input": "2021-09-03T21:50:15.222798Z",
     "iopub.status.busy": "2021-09-03T21:50:15.222416Z",
     "iopub.status.idle": "2021-09-03T21:51:39.956604Z",
     "shell.execute_reply": "2021-09-03T21:51:39.957193Z"
    },
    "papermill": {
     "duration": 84.747459,
     "end_time": "2021-09-03T21:51:39.957408",
     "exception": false,
     "start_time": "2021-09-03T21:50:15.209949",
     "status": "completed"
    },
    "tags": []
   },
   "outputs": [
    {
     "data": {
      "text/html": [
       "<div>\n",
       "<style scoped>\n",
       "    .dataframe tbody tr th:only-of-type {\n",
       "        vertical-align: middle;\n",
       "    }\n",
       "\n",
       "    .dataframe tbody tr th {\n",
       "        vertical-align: top;\n",
       "    }\n",
       "\n",
       "    .dataframe thead th {\n",
       "        text-align: right;\n",
       "    }\n",
       "</style>\n",
       "<table border=\"1\" class=\"dataframe\">\n",
       "  <thead>\n",
       "    <tr style=\"text-align: right;\">\n",
       "      <th></th>\n",
       "      <th>Name</th>\n",
       "      <th>Kind</th>\n",
       "      <th>Iteration</th>\n",
       "      <th>Number samples</th>\n",
       "      <th>Number features</th>\n",
       "      <th>Runtime</th>\n",
       "      <th>Memory (max)</th>\n",
       "      <th>Mmemory (max/process)</th>\n",
       "    </tr>\n",
       "  </thead>\n",
       "  <tbody>\n",
       "    <tr>\n",
       "      <th>0</th>\n",
       "      <td>cov-20 (reads)</td>\n",
       "      <td>query</td>\n",
       "      <td>1</td>\n",
       "      <td>59</td>\n",
       "      <td>5765</td>\n",
       "      <td>2.61</td>\n",
       "      <td>219967488.0</td>\n",
       "      <td>219967488.0</td>\n",
       "    </tr>\n",
       "    <tr>\n",
       "      <th>0</th>\n",
       "      <td>cov-20 (reads)</td>\n",
       "      <td>query</td>\n",
       "      <td>2</td>\n",
       "      <td>59</td>\n",
       "      <td>5765</td>\n",
       "      <td>2.82</td>\n",
       "      <td>220123136.0</td>\n",
       "      <td>220123136.0</td>\n",
       "    </tr>\n",
       "    <tr>\n",
       "      <th>0</th>\n",
       "      <td>cov-20 (reads)</td>\n",
       "      <td>query</td>\n",
       "      <td>3</td>\n",
       "      <td>59</td>\n",
       "      <td>5765</td>\n",
       "      <td>2.86</td>\n",
       "      <td>220266496.0</td>\n",
       "      <td>220266496.0</td>\n",
       "    </tr>\n",
       "  </tbody>\n",
       "</table>\n",
       "</div>"
      ],
      "text/plain": [
       "             Name   Kind  Iteration  Number samples  Number features  Runtime  \\\n",
       "0  cov-20 (reads)  query          1              59             5765     2.61   \n",
       "0  cov-20 (reads)  query          2              59             5765     2.82   \n",
       "0  cov-20 (reads)  query          3              59             5765     2.86   \n",
       "\n",
       "   Memory (max)  Mmemory (max/process)  \n",
       "0   219967488.0            219967488.0  \n",
       "0   220123136.0            220123136.0  \n",
       "0   220266496.0            220266496.0  "
      ]
     },
     "execution_count": 5,
     "metadata": {},
     "output_type": "execute_result"
    }
   ],
   "source": [
    "reads_cli_df = benchmark_cli_index(name=f'{case_name} (reads)', index_path=index_reads_path)\n",
    "reads_cli_df.head(3)"
   ]
  },
  {
   "cell_type": "code",
   "execution_count": 6,
   "id": "1b71ed98-d69a-4038-b337-3b8bbf421bf3",
   "metadata": {
    "execution": {
     "iopub.execute_input": "2021-09-03T21:51:39.985277Z",
     "iopub.status.busy": "2021-09-03T21:51:39.984883Z",
     "iopub.status.idle": "2021-09-03T21:51:39.993957Z",
     "shell.execute_reply": "2021-09-03T21:51:39.993420Z"
    },
    "papermill": {
     "duration": 0.025131,
     "end_time": "2021-09-03T21:51:39.994067",
     "exception": false,
     "start_time": "2021-09-03T21:51:39.968936",
     "status": "completed"
    },
    "tags": []
   },
   "outputs": [],
   "source": [
    "reads_cli_df.to_csv(output_cli_reads_path, sep='\\t', index=False)"
   ]
  },
  {
   "cell_type": "markdown",
   "id": "682a9c66-63ce-4896-b877-98674d8085fd",
   "metadata": {
    "papermill": {
     "duration": 0.009317,
     "end_time": "2021-09-03T21:51:40.015218",
     "exception": false,
     "start_time": "2021-09-03T21:51:40.005901",
     "status": "completed"
    },
    "tags": []
   },
   "source": [
    "## 2.1. Benchmark assemblies"
   ]
  },
  {
   "cell_type": "code",
   "execution_count": 7,
   "id": "28e1ef52-86da-4d18-82e6-03c166d656fb",
   "metadata": {
    "execution": {
     "iopub.execute_input": "2021-09-03T21:51:40.037198Z",
     "iopub.status.busy": "2021-09-03T21:51:40.036811Z",
     "iopub.status.idle": "2021-09-03T21:53:04.672192Z",
     "shell.execute_reply": "2021-09-03T21:53:04.672770Z"
    },
    "papermill": {
     "duration": 84.649768,
     "end_time": "2021-09-03T21:53:04.672982",
     "exception": false,
     "start_time": "2021-09-03T21:51:40.023214",
     "status": "completed"
    },
    "tags": []
   },
   "outputs": [
    {
     "name": "stderr",
     "output_type": "stream",
     "text": [
      "Attempting to set global database_path_translator=<genomics_data_index.storage.model.db.DatabasePathTranslator.DatabasePathTranslator object at 0x7ff68f8c7880> but it is already set\n"
     ]
    },
    {
     "data": {
      "text/html": [
       "<div>\n",
       "<style scoped>\n",
       "    .dataframe tbody tr th:only-of-type {\n",
       "        vertical-align: middle;\n",
       "    }\n",
       "\n",
       "    .dataframe tbody tr th {\n",
       "        vertical-align: top;\n",
       "    }\n",
       "\n",
       "    .dataframe thead th {\n",
       "        text-align: right;\n",
       "    }\n",
       "</style>\n",
       "<table border=\"1\" class=\"dataframe\">\n",
       "  <thead>\n",
       "    <tr style=\"text-align: right;\">\n",
       "      <th></th>\n",
       "      <th>Name</th>\n",
       "      <th>Kind</th>\n",
       "      <th>Iteration</th>\n",
       "      <th>Number samples</th>\n",
       "      <th>Number features</th>\n",
       "      <th>Runtime</th>\n",
       "      <th>Memory (max)</th>\n",
       "      <th>Mmemory (max/process)</th>\n",
       "    </tr>\n",
       "  </thead>\n",
       "  <tbody>\n",
       "    <tr>\n",
       "      <th>0</th>\n",
       "      <td>cov-20 (reads)</td>\n",
       "      <td>query</td>\n",
       "      <td>1</td>\n",
       "      <td>59</td>\n",
       "      <td>816</td>\n",
       "      <td>2.69</td>\n",
       "      <td>219967488.0</td>\n",
       "      <td>219967488.0</td>\n",
       "    </tr>\n",
       "    <tr>\n",
       "      <th>0</th>\n",
       "      <td>cov-20 (reads)</td>\n",
       "      <td>query</td>\n",
       "      <td>2</td>\n",
       "      <td>59</td>\n",
       "      <td>816</td>\n",
       "      <td>2.81</td>\n",
       "      <td>219832320.0</td>\n",
       "      <td>219832320.0</td>\n",
       "    </tr>\n",
       "    <tr>\n",
       "      <th>0</th>\n",
       "      <td>cov-20 (reads)</td>\n",
       "      <td>query</td>\n",
       "      <td>3</td>\n",
       "      <td>59</td>\n",
       "      <td>816</td>\n",
       "      <td>2.76</td>\n",
       "      <td>219619328.0</td>\n",
       "      <td>219619328.0</td>\n",
       "    </tr>\n",
       "  </tbody>\n",
       "</table>\n",
       "</div>"
      ],
      "text/plain": [
       "             Name   Kind  Iteration  Number samples  Number features  Runtime  \\\n",
       "0  cov-20 (reads)  query          1              59              816     2.69   \n",
       "0  cov-20 (reads)  query          2              59              816     2.81   \n",
       "0  cov-20 (reads)  query          3              59              816     2.76   \n",
       "\n",
       "   Memory (max)  Mmemory (max/process)  \n",
       "0   219967488.0            219967488.0  \n",
       "0   219832320.0            219832320.0  \n",
       "0   219619328.0            219619328.0  "
      ]
     },
     "execution_count": 7,
     "metadata": {},
     "output_type": "execute_result"
    }
   ],
   "source": [
    "assemblies_cli_df = benchmark_cli_index(name=f'{case_name} (reads)', index_path=index_assemblies_path)\n",
    "assemblies_cli_df.head(3)"
   ]
  },
  {
   "cell_type": "code",
   "execution_count": 8,
   "id": "1c52ddf7-5ee2-4e03-a39c-a2be2658823c",
   "metadata": {
    "execution": {
     "iopub.execute_input": "2021-09-03T21:53:04.703209Z",
     "iopub.status.busy": "2021-09-03T21:53:04.702804Z",
     "iopub.status.idle": "2021-09-03T21:53:04.706582Z",
     "shell.execute_reply": "2021-09-03T21:53:04.706171Z"
    },
    "papermill": {
     "duration": 0.021974,
     "end_time": "2021-09-03T21:53:04.706696",
     "exception": false,
     "start_time": "2021-09-03T21:53:04.684722",
     "status": "completed"
    },
    "tags": []
   },
   "outputs": [],
   "source": [
    "assemblies_cli_df.to_csv(output_cli_assemblies_path, sep='\\t', index=False)"
   ]
  },
  {
   "cell_type": "markdown",
   "id": "163cd729-a654-499a-a5b7-dc0bd78d8128",
   "metadata": {
    "papermill": {
     "duration": 0.009633,
     "end_time": "2021-09-03T21:53:04.727835",
     "exception": false,
     "start_time": "2021-09-03T21:53:04.718202",
     "status": "completed"
    },
    "tags": []
   },
   "source": [
    "# 3. Test query API"
   ]
  },
  {
   "cell_type": "markdown",
   "id": "777dbb2e-330f-4de7-b451-1ca902cc3386",
   "metadata": {
    "papermill": {
     "duration": 0.008533,
     "end_time": "2021-09-03T21:53:04.745015",
     "exception": false,
     "start_time": "2021-09-03T21:53:04.736482",
     "status": "completed"
    },
    "tags": []
   },
   "source": [
    "## 3.1. Load (example) metadata\n",
    "\n",
    "The simulated data is based off of real sample names and a real tree. So I can load up real metadata and attach it to a query (though the mutations and reference genome are all simulated)."
   ]
  },
  {
   "cell_type": "code",
   "execution_count": 9,
   "id": "19e1d02c-7bb7-44ef-a1ce-3d20dc420686",
   "metadata": {
    "execution": {
     "iopub.execute_input": "2021-09-03T21:53:04.770818Z",
     "iopub.status.busy": "2021-09-03T21:53:04.770426Z",
     "iopub.status.idle": "2021-09-03T21:53:04.804164Z",
     "shell.execute_reply": "2021-09-03T21:53:04.807524Z"
    },
    "papermill": {
     "duration": 0.055064,
     "end_time": "2021-09-03T21:53:04.808637",
     "exception": false,
     "start_time": "2021-09-03T21:53:04.753573",
     "status": "completed"
    },
    "tags": []
   },
   "outputs": [
    {
     "data": {
      "text/html": [
       "<div>\n",
       "<style scoped>\n",
       "    .dataframe tbody tr th:only-of-type {\n",
       "        vertical-align: middle;\n",
       "    }\n",
       "\n",
       "    .dataframe tbody tr th {\n",
       "        vertical-align: top;\n",
       "    }\n",
       "\n",
       "    .dataframe thead th {\n",
       "        text-align: right;\n",
       "    }\n",
       "</style>\n",
       "<table border=\"1\" class=\"dataframe\">\n",
       "  <thead>\n",
       "    <tr style=\"text-align: right;\">\n",
       "      <th></th>\n",
       "      <th>Sample Name Orig</th>\n",
       "      <th>Run</th>\n",
       "      <th>Assay Type</th>\n",
       "      <th>AvgSpotLen</th>\n",
       "      <th>Bases</th>\n",
       "      <th>BioProject</th>\n",
       "      <th>BioSample</th>\n",
       "      <th>BioSampleModel</th>\n",
       "      <th>Bytes</th>\n",
       "      <th>Center Name</th>\n",
       "      <th>...</th>\n",
       "      <th>PFGE_SecondaryEnzyme_pattern</th>\n",
       "      <th>Phagetype</th>\n",
       "      <th>Platform</th>\n",
       "      <th>ReleaseDate</th>\n",
       "      <th>Serovar</th>\n",
       "      <th>SRA Study</th>\n",
       "      <th>STRAIN</th>\n",
       "      <th>sub_species</th>\n",
       "      <th>Host_disease</th>\n",
       "      <th>Host</th>\n",
       "    </tr>\n",
       "  </thead>\n",
       "  <tbody>\n",
       "    <tr>\n",
       "      <th>0</th>\n",
       "      <td>SH08-001</td>\n",
       "      <td>SRR3028792</td>\n",
       "      <td>WGS</td>\n",
       "      <td>429</td>\n",
       "      <td>354123684</td>\n",
       "      <td>PRJNA305824</td>\n",
       "      <td>SAMN04334683</td>\n",
       "      <td>Pathogen.cl</td>\n",
       "      <td>197484364</td>\n",
       "      <td>MCGILL UNIVERSITY</td>\n",
       "      <td>...</td>\n",
       "      <td>SHBNI.0001</td>\n",
       "      <td>19</td>\n",
       "      <td>ILLUMINA</td>\n",
       "      <td>2015-12-19T00:00:00Z</td>\n",
       "      <td>Heidelberg</td>\n",
       "      <td>SRP067504</td>\n",
       "      <td>SH08-001</td>\n",
       "      <td>enterica</td>\n",
       "      <td>Salmonella gastroenteritis</td>\n",
       "      <td>Homo sapiens</td>\n",
       "    </tr>\n",
       "    <tr>\n",
       "      <th>1</th>\n",
       "      <td>SH09-29</td>\n",
       "      <td>SRR3028793</td>\n",
       "      <td>WGS</td>\n",
       "      <td>422</td>\n",
       "      <td>519366460</td>\n",
       "      <td>PRJNA305824</td>\n",
       "      <td>SAMN04334684</td>\n",
       "      <td>Pathogen.cl</td>\n",
       "      <td>288691068</td>\n",
       "      <td>MCGILL UNIVERSITY</td>\n",
       "      <td>...</td>\n",
       "      <td>SHBNI.0001</td>\n",
       "      <td>26</td>\n",
       "      <td>ILLUMINA</td>\n",
       "      <td>2015-12-19T00:00:00Z</td>\n",
       "      <td>Heidelberg</td>\n",
       "      <td>SRP067504</td>\n",
       "      <td>SH09-29</td>\n",
       "      <td>enterica</td>\n",
       "      <td>Salmonella gastroenteritis</td>\n",
       "      <td>Homo sapiens</td>\n",
       "    </tr>\n",
       "  </tbody>\n",
       "</table>\n",
       "<p>2 rows × 40 columns</p>\n",
       "</div>"
      ],
      "text/plain": [
       "  Sample Name Orig         Run Assay Type  AvgSpotLen      Bases   BioProject  \\\n",
       "0         SH08-001  SRR3028792        WGS         429  354123684  PRJNA305824   \n",
       "1          SH09-29  SRR3028793        WGS         422  519366460  PRJNA305824   \n",
       "\n",
       "      BioSample BioSampleModel      Bytes        Center Name  ...  \\\n",
       "0  SAMN04334683    Pathogen.cl  197484364  MCGILL UNIVERSITY  ...   \n",
       "1  SAMN04334684    Pathogen.cl  288691068  MCGILL UNIVERSITY  ...   \n",
       "\n",
       "  PFGE_SecondaryEnzyme_pattern Phagetype  Platform           ReleaseDate  \\\n",
       "0                   SHBNI.0001        19  ILLUMINA  2015-12-19T00:00:00Z   \n",
       "1                   SHBNI.0001        26  ILLUMINA  2015-12-19T00:00:00Z   \n",
       "\n",
       "      Serovar  SRA Study    STRAIN sub_species                Host_disease  \\\n",
       "0  Heidelberg  SRP067504  SH08-001    enterica  Salmonella gastroenteritis   \n",
       "1  Heidelberg  SRP067504   SH09-29    enterica  Salmonella gastroenteritis   \n",
       "\n",
       "           Host  \n",
       "0  Homo sapiens  \n",
       "1  Homo sapiens  \n",
       "\n",
       "[2 rows x 40 columns]"
      ]
     },
     "execution_count": 9,
     "metadata": {},
     "output_type": "execute_result"
    }
   ],
   "source": [
    "import pandas as pd\n",
    "\n",
    "metadata_df = pd.read_csv(metadata_file, sep='\\t').rename({'Sample Name': 'Sample Name Orig'}, axis='columns')\n",
    "metadata_df.head(2)"
   ]
  },
  {
   "cell_type": "markdown",
   "id": "6471c107-835d-4dac-812c-951d0527982e",
   "metadata": {
    "papermill": {
     "duration": 0.009521,
     "end_time": "2021-09-03T21:53:04.836733",
     "exception": false,
     "start_time": "2021-09-03T21:53:04.827212",
     "status": "completed"
    },
    "tags": []
   },
   "source": [
    "## 3.2. Define benchmark cases"
   ]
  },
  {
   "cell_type": "code",
   "execution_count": 10,
   "id": "e347bcfb-4d0c-4fe8-b68c-00de30d924d9",
   "metadata": {
    "execution": {
     "iopub.execute_input": "2021-09-03T21:53:04.873429Z",
     "iopub.status.busy": "2021-09-03T21:53:04.872843Z",
     "iopub.status.idle": "2021-09-03T21:53:04.875620Z",
     "shell.execute_reply": "2021-09-03T21:53:04.876087Z"
    },
    "papermill": {
     "duration": 0.03058,
     "end_time": "2021-09-03T21:53:04.876261",
     "exception": false,
     "start_time": "2021-09-03T21:53:04.845681",
     "status": "completed"
    },
    "tags": []
   },
   "outputs": [],
   "source": [
    "from typing import List\n",
    "import genomics_data_index.api as gdi\n",
    "\n",
    "def benchmark_api_index(name: str, index_path: Path) -> pd.DataFrame:\n",
    "    db = gdi.GenomicsDataIndex.connect(index_path)\n",
    "    q_no_join = db.samples_query(reference_name='reference', universe='mutations')\n",
    "    q_join = db.samples_query(reference_name='reference', universe='mutations').join(metadata_df, sample_names_column='Sample Name Orig')\n",
    "\n",
    "    q = q_join.hasa('chrom0:1211:C:T')\n",
    "    r = q_join.hasa(\"chrom0:8983:A:C\")\n",
    "    \n",
    "    number_samples = db.count_samples()\n",
    "    number_features = db.count_mutations(reference_genome='reference', include_unknown=True)\n",
    "    repeat = 10\n",
    "\n",
    "    benchmark_cases = {\n",
    "        'db.samples_query':      lambda: db.samples_query(reference_name='reference', universe='mutations'),\n",
    "        'q.join':                lambda: q_no_join.join(metadata_df, sample_names_column='Sample Name Orig'),\n",
    "        'q.features_summary':    lambda: q_join.features_summary(),\n",
    "        'q.features_comparison': lambda: q_join.features_comparison(sample_categories='outbreak_number', categories_kind='dataframe', kind='mutations', unit='proportion'),\n",
    "        'q.hasa':                lambda: q_join.hasa(\"chrom0:8983:A:C\"),\n",
    "        'q.isa':                 lambda: q_join.isa(\"SH11-001\"),\n",
    "        'q.isin (distance)':     lambda: q_join.isin(\"SH11-001\", kind='distance', distance=20, units='substitutions'),\n",
    "        'q.isin (mrca)':         lambda: q_join.isin([\"SH11-001\", \"SH10-001\"], kind='mrca'),\n",
    "        'q AND r':               lambda: q & r,\n",
    "        'q.toframe':             lambda: q_join.toframe(),\n",
    "        'q.summary':             lambda: q_join.summary(),\n",
    "    }\n",
    "\n",
    "    benchmarker = gdi_benchmark.QueryBenchmarkHandler()\n",
    "    return benchmarker.benchmark_api(name=name, kind_functions=benchmark_cases,\n",
    "                                       number_samples=number_samples, number_features=number_features,\n",
    "                                       repeat=repeat)"
   ]
  },
  {
   "cell_type": "markdown",
   "id": "f2180ae5-7850-4680-8e9e-45872d56accb",
   "metadata": {
    "papermill": {
     "duration": 0.01024,
     "end_time": "2021-09-03T21:53:04.901125",
     "exception": false,
     "start_time": "2021-09-03T21:53:04.890885",
     "status": "completed"
    },
    "tags": []
   },
   "source": [
    "## 3.3. Benchmark reads index"
   ]
  },
  {
   "cell_type": "code",
   "execution_count": 11,
   "id": "04d3a9c7-23a6-4a04-8735-a637c5534ba8",
   "metadata": {
    "execution": {
     "iopub.execute_input": "2021-09-03T21:53:04.930560Z",
     "iopub.status.busy": "2021-09-03T21:53:04.930071Z",
     "iopub.status.idle": "2021-09-03T21:53:44.015387Z",
     "shell.execute_reply": "2021-09-03T21:53:44.015841Z"
    },
    "papermill": {
     "duration": 39.105509,
     "end_time": "2021-09-03T21:53:44.015982",
     "exception": false,
     "start_time": "2021-09-03T21:53:04.910473",
     "status": "completed"
    },
    "tags": []
   },
   "outputs": [
    {
     "name": "stderr",
     "output_type": "stream",
     "text": [
      "Attempting to set global database_path_translator=<genomics_data_index.storage.model.db.DatabasePathTranslator.DatabasePathTranslator object at 0x7ff83b8b6190> but it is already set\n"
     ]
    },
    {
     "data": {
      "text/html": [
       "<div>\n",
       "<style scoped>\n",
       "    .dataframe tbody tr th:only-of-type {\n",
       "        vertical-align: middle;\n",
       "    }\n",
       "\n",
       "    .dataframe tbody tr th {\n",
       "        vertical-align: top;\n",
       "    }\n",
       "\n",
       "    .dataframe thead th {\n",
       "        text-align: right;\n",
       "    }\n",
       "</style>\n",
       "<table border=\"1\" class=\"dataframe\">\n",
       "  <thead>\n",
       "    <tr style=\"text-align: right;\">\n",
       "      <th></th>\n",
       "      <th>Name</th>\n",
       "      <th>Kind</th>\n",
       "      <th>Number samples</th>\n",
       "      <th>Number features</th>\n",
       "      <th>Number executions</th>\n",
       "      <th>Iteration</th>\n",
       "      <th>Time</th>\n",
       "    </tr>\n",
       "  </thead>\n",
       "  <tbody>\n",
       "    <tr>\n",
       "      <th>0</th>\n",
       "      <td>cov-20 (reads)</td>\n",
       "      <td>db.samples_query</td>\n",
       "      <td>59</td>\n",
       "      <td>5765</td>\n",
       "      <td>200</td>\n",
       "      <td>1</td>\n",
       "      <td>0.001680</td>\n",
       "    </tr>\n",
       "    <tr>\n",
       "      <th>1</th>\n",
       "      <td>cov-20 (reads)</td>\n",
       "      <td>db.samples_query</td>\n",
       "      <td>59</td>\n",
       "      <td>5765</td>\n",
       "      <td>200</td>\n",
       "      <td>2</td>\n",
       "      <td>0.001699</td>\n",
       "    </tr>\n",
       "    <tr>\n",
       "      <th>2</th>\n",
       "      <td>cov-20 (reads)</td>\n",
       "      <td>db.samples_query</td>\n",
       "      <td>59</td>\n",
       "      <td>5765</td>\n",
       "      <td>200</td>\n",
       "      <td>3</td>\n",
       "      <td>0.001666</td>\n",
       "    </tr>\n",
       "    <tr>\n",
       "      <th>3</th>\n",
       "      <td>cov-20 (reads)</td>\n",
       "      <td>db.samples_query</td>\n",
       "      <td>59</td>\n",
       "      <td>5765</td>\n",
       "      <td>200</td>\n",
       "      <td>4</td>\n",
       "      <td>0.001666</td>\n",
       "    </tr>\n",
       "    <tr>\n",
       "      <th>4</th>\n",
       "      <td>cov-20 (reads)</td>\n",
       "      <td>db.samples_query</td>\n",
       "      <td>59</td>\n",
       "      <td>5765</td>\n",
       "      <td>200</td>\n",
       "      <td>5</td>\n",
       "      <td>0.001671</td>\n",
       "    </tr>\n",
       "  </tbody>\n",
       "</table>\n",
       "</div>"
      ],
      "text/plain": [
       "             Name              Kind  Number samples  Number features  \\\n",
       "0  cov-20 (reads)  db.samples_query              59             5765   \n",
       "1  cov-20 (reads)  db.samples_query              59             5765   \n",
       "2  cov-20 (reads)  db.samples_query              59             5765   \n",
       "3  cov-20 (reads)  db.samples_query              59             5765   \n",
       "4  cov-20 (reads)  db.samples_query              59             5765   \n",
       "\n",
       "   Number executions  Iteration      Time  \n",
       "0                200          1  0.001680  \n",
       "1                200          2  0.001699  \n",
       "2                200          3  0.001666  \n",
       "3                200          4  0.001666  \n",
       "4                200          5  0.001671  "
      ]
     },
     "execution_count": 11,
     "metadata": {},
     "output_type": "execute_result"
    }
   ],
   "source": [
    "reads_df = benchmark_api_index(name=f'{case_name} (reads)', index_path=index_reads_path)\n",
    "reads_df.head(5)"
   ]
  },
  {
   "cell_type": "code",
   "execution_count": 12,
   "id": "09e7fb11-5c83-4983-82b9-4a54fca23b52",
   "metadata": {
    "execution": {
     "iopub.execute_input": "2021-09-03T21:53:44.048287Z",
     "iopub.status.busy": "2021-09-03T21:53:44.045454Z",
     "iopub.status.idle": "2021-09-03T21:53:44.052289Z",
     "shell.execute_reply": "2021-09-03T21:53:44.051772Z"
    },
    "papermill": {
     "duration": 0.02444,
     "end_time": "2021-09-03T21:53:44.052396",
     "exception": false,
     "start_time": "2021-09-03T21:53:44.027956",
     "status": "completed"
    },
    "tags": []
   },
   "outputs": [],
   "source": [
    "reads_df.to_csv(output_api_reads_path, sep='\\t', index=False)"
   ]
  },
  {
   "cell_type": "markdown",
   "id": "2a7874a5-3ecd-4e59-a834-3c27943e4bf0",
   "metadata": {
    "papermill": {
     "duration": 0.010897,
     "end_time": "2021-09-03T21:53:44.078690",
     "exception": false,
     "start_time": "2021-09-03T21:53:44.067793",
     "status": "completed"
    },
    "tags": []
   },
   "source": [
    "## 3.4. Benchmark assemblies index"
   ]
  },
  {
   "cell_type": "code",
   "execution_count": 13,
   "id": "76a8327f-fcc7-4ec3-a140-877ed417a510",
   "metadata": {
    "execution": {
     "iopub.execute_input": "2021-09-03T21:53:44.108952Z",
     "iopub.status.busy": "2021-09-03T21:53:44.103773Z",
     "iopub.status.idle": "2021-09-03T21:54:27.011265Z",
     "shell.execute_reply": "2021-09-03T21:54:27.011660Z"
    },
    "papermill": {
     "duration": 42.923554,
     "end_time": "2021-09-03T21:54:27.011803",
     "exception": false,
     "start_time": "2021-09-03T21:53:44.088249",
     "status": "completed"
    },
    "tags": []
   },
   "outputs": [
    {
     "name": "stderr",
     "output_type": "stream",
     "text": [
      "Attempting to set global database_path_translator=<genomics_data_index.storage.model.db.DatabasePathTranslator.DatabasePathTranslator object at 0x7ff84c053c40> but it is already set\n"
     ]
    },
    {
     "data": {
      "text/html": [
       "<div>\n",
       "<style scoped>\n",
       "    .dataframe tbody tr th:only-of-type {\n",
       "        vertical-align: middle;\n",
       "    }\n",
       "\n",
       "    .dataframe tbody tr th {\n",
       "        vertical-align: top;\n",
       "    }\n",
       "\n",
       "    .dataframe thead th {\n",
       "        text-align: right;\n",
       "    }\n",
       "</style>\n",
       "<table border=\"1\" class=\"dataframe\">\n",
       "  <thead>\n",
       "    <tr style=\"text-align: right;\">\n",
       "      <th></th>\n",
       "      <th>Name</th>\n",
       "      <th>Kind</th>\n",
       "      <th>Number samples</th>\n",
       "      <th>Number features</th>\n",
       "      <th>Number executions</th>\n",
       "      <th>Iteration</th>\n",
       "      <th>Time</th>\n",
       "    </tr>\n",
       "  </thead>\n",
       "  <tbody>\n",
       "    <tr>\n",
       "      <th>0</th>\n",
       "      <td>cov-20 (assemblies)</td>\n",
       "      <td>db.samples_query</td>\n",
       "      <td>59</td>\n",
       "      <td>816</td>\n",
       "      <td>200</td>\n",
       "      <td>1</td>\n",
       "      <td>0.001650</td>\n",
       "    </tr>\n",
       "    <tr>\n",
       "      <th>1</th>\n",
       "      <td>cov-20 (assemblies)</td>\n",
       "      <td>db.samples_query</td>\n",
       "      <td>59</td>\n",
       "      <td>816</td>\n",
       "      <td>200</td>\n",
       "      <td>2</td>\n",
       "      <td>0.001661</td>\n",
       "    </tr>\n",
       "    <tr>\n",
       "      <th>2</th>\n",
       "      <td>cov-20 (assemblies)</td>\n",
       "      <td>db.samples_query</td>\n",
       "      <td>59</td>\n",
       "      <td>816</td>\n",
       "      <td>200</td>\n",
       "      <td>3</td>\n",
       "      <td>0.001647</td>\n",
       "    </tr>\n",
       "    <tr>\n",
       "      <th>3</th>\n",
       "      <td>cov-20 (assemblies)</td>\n",
       "      <td>db.samples_query</td>\n",
       "      <td>59</td>\n",
       "      <td>816</td>\n",
       "      <td>200</td>\n",
       "      <td>4</td>\n",
       "      <td>0.001649</td>\n",
       "    </tr>\n",
       "    <tr>\n",
       "      <th>4</th>\n",
       "      <td>cov-20 (assemblies)</td>\n",
       "      <td>db.samples_query</td>\n",
       "      <td>59</td>\n",
       "      <td>816</td>\n",
       "      <td>200</td>\n",
       "      <td>5</td>\n",
       "      <td>0.001689</td>\n",
       "    </tr>\n",
       "  </tbody>\n",
       "</table>\n",
       "</div>"
      ],
      "text/plain": [
       "                  Name              Kind  Number samples  Number features  \\\n",
       "0  cov-20 (assemblies)  db.samples_query              59              816   \n",
       "1  cov-20 (assemblies)  db.samples_query              59              816   \n",
       "2  cov-20 (assemblies)  db.samples_query              59              816   \n",
       "3  cov-20 (assemblies)  db.samples_query              59              816   \n",
       "4  cov-20 (assemblies)  db.samples_query              59              816   \n",
       "\n",
       "   Number executions  Iteration      Time  \n",
       "0                200          1  0.001650  \n",
       "1                200          2  0.001661  \n",
       "2                200          3  0.001647  \n",
       "3                200          4  0.001649  \n",
       "4                200          5  0.001689  "
      ]
     },
     "execution_count": 13,
     "metadata": {},
     "output_type": "execute_result"
    }
   ],
   "source": [
    "assemblies_df = benchmark_api_index(name=f'{case_name} (assemblies)', index_path=index_assemblies_path)\n",
    "assemblies_df.head(5)"
   ]
  },
  {
   "cell_type": "code",
   "execution_count": 14,
   "id": "aa0b72cc-c7d5-4bac-885b-2f3309739dc9",
   "metadata": {
    "execution": {
     "iopub.execute_input": "2021-09-03T21:54:27.044288Z",
     "iopub.status.busy": "2021-09-03T21:54:27.041688Z",
     "iopub.status.idle": "2021-09-03T21:54:27.047963Z",
     "shell.execute_reply": "2021-09-03T21:54:27.048267Z"
    },
    "papermill": {
     "duration": 0.024377,
     "end_time": "2021-09-03T21:54:27.048371",
     "exception": false,
     "start_time": "2021-09-03T21:54:27.023994",
     "status": "completed"
    },
    "tags": []
   },
   "outputs": [],
   "source": [
    "assemblies_df.to_csv(output_api_assemblies_path, sep='\\t', index=False)"
   ]
  }
 ],
 "metadata": {
  "kernelspec": {
   "display_name": "Python 3 (ipykernel)",
   "language": "python",
   "name": "python3"
  },
  "language_info": {
   "codemirror_mode": {
    "name": "ipython",
    "version": 3
   },
   "file_extension": ".py",
   "mimetype": "text/x-python",
   "name": "python",
   "nbconvert_exporter": "python",
   "pygments_lexer": "ipython3",
   "version": "3.8.10"
  },
  "papermill": {
   "default_parameters": {},
   "duration": 255.717944,
   "end_time": "2021-09-03T21:54:27.574592",
   "environment_variables": {},
   "exception": null,
   "input_path": "template-5-query.ipynb",
   "output_path": "5-query.simulation-cov-20.ipynb",
   "parameters": {
    "iterations": 3,
    "mincov": 10,
    "read_coverage": 20,
    "simulation_dir": "simulations/cov-20"
   },
   "start_time": "2021-09-03T21:50:11.856648",
   "version": "2.3.3"
  }
 },
 "nbformat": 4,
 "nbformat_minor": 5
}