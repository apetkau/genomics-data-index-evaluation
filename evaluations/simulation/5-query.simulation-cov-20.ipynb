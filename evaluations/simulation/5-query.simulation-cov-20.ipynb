{
 "cells": [
  {
   "cell_type": "markdown",
   "id": "f1bc3e40-3158-4009-8a9b-371a7d2d2efe",
   "metadata": {
    "papermill": {
     "duration": 0.015949,
     "end_time": "2021-09-02T06:40:58.828845",
     "exception": false,
     "start_time": "2021-09-02T06:40:58.812896",
     "status": "completed"
    },
    "tags": []
   },
   "source": [
    "# 1. Parameters"
   ]
  },
  {
   "cell_type": "code",
   "execution_count": 1,
   "id": "cf8880a6-5194-4ced-be67-c0610a332a31",
   "metadata": {
    "execution": {
     "iopub.execute_input": "2021-09-02T06:40:58.858429Z",
     "iopub.status.busy": "2021-09-02T06:40:58.857893Z",
     "iopub.status.idle": "2021-09-02T06:40:58.862267Z",
     "shell.execute_reply": "2021-09-02T06:40:58.862664Z"
    },
    "papermill": {
     "duration": 0.024764,
     "end_time": "2021-09-02T06:40:58.862888",
     "exception": false,
     "start_time": "2021-09-02T06:40:58.838124",
     "status": "completed"
    },
    "tags": [
     "parameters"
    ]
   },
   "outputs": [],
   "source": [
    "simulation_dir = 'simulations/unset'"
   ]
  },
  {
   "cell_type": "code",
   "execution_count": 2,
   "id": "e2f2105d",
   "metadata": {
    "execution": {
     "iopub.execute_input": "2021-09-02T06:40:58.883185Z",
     "iopub.status.busy": "2021-09-02T06:40:58.882791Z",
     "iopub.status.idle": "2021-09-02T06:40:58.886101Z",
     "shell.execute_reply": "2021-09-02T06:40:58.885771Z"
    },
    "papermill": {
     "duration": 0.016114,
     "end_time": "2021-09-02T06:40:58.886196",
     "exception": false,
     "start_time": "2021-09-02T06:40:58.870082",
     "status": "completed"
    },
    "tags": [
     "injected-parameters"
    ]
   },
   "outputs": [],
   "source": [
    "# Parameters\n",
    "read_coverage = 20\n",
    "mincov = 10\n",
    "simulation_dir = \"simulations/cov-20\"\n",
    "iterations = 3\n"
   ]
  },
  {
   "cell_type": "code",
   "execution_count": 3,
   "id": "7e54ac3f-8dff-492e-8096-65a2ed9f5c90",
   "metadata": {
    "execution": {
     "iopub.execute_input": "2021-09-02T06:40:58.905954Z",
     "iopub.status.busy": "2021-09-02T06:40:58.905563Z",
     "iopub.status.idle": "2021-09-02T06:40:58.909378Z",
     "shell.execute_reply": "2021-09-02T06:40:58.908933Z"
    },
    "papermill": {
     "duration": 0.017032,
     "end_time": "2021-09-02T06:40:58.909487",
     "exception": false,
     "start_time": "2021-09-02T06:40:58.892455",
     "status": "completed"
    },
    "tags": []
   },
   "outputs": [],
   "source": [
    "from pathlib import Path\n",
    "\n",
    "simulation_dir_path = Path(simulation_dir)\n",
    "\n",
    "case_name = str(simulation_dir_path.name)\n",
    "index_reads_path = simulation_dir_path / 'index-reads'\n",
    "index_assemblies_path = simulation_dir_path / 'index-assemblies'\n",
    "\n",
    "output_api_reads_path = simulation_dir_path / 'query-reads-api.tsv'\n",
    "output_api_assemblies_path = simulation_dir_path / 'query-assemblies-api.tsv'"
   ]
  },
  {
   "cell_type": "markdown",
   "id": "54537d03-809a-487c-8686-5e1791dc11de",
   "metadata": {
    "papermill": {
     "duration": 0.005624,
     "end_time": "2021-09-02T06:40:58.921836",
     "exception": false,
     "start_time": "2021-09-02T06:40:58.916212",
     "status": "completed"
    },
    "tags": []
   },
   "source": [
    "# 2. Test query command-line"
   ]
  },
  {
   "cell_type": "markdown",
   "id": "163cd729-a654-499a-a5b7-dc0bd78d8128",
   "metadata": {
    "papermill": {
     "duration": 0.004909,
     "end_time": "2021-09-02T06:40:58.932117",
     "exception": false,
     "start_time": "2021-09-02T06:40:58.927208",
     "status": "completed"
    },
    "tags": []
   },
   "source": [
    "# 3. Test query API"
   ]
  },
  {
   "cell_type": "code",
   "execution_count": 4,
   "id": "e347bcfb-4d0c-4fe8-b68c-00de30d924d9",
   "metadata": {
    "execution": {
     "iopub.execute_input": "2021-09-02T06:40:58.981701Z",
     "iopub.status.busy": "2021-09-02T06:40:58.976640Z",
     "iopub.status.idle": "2021-09-02T06:41:01.389576Z",
     "shell.execute_reply": "2021-09-02T06:41:01.390453Z"
    },
    "papermill": {
     "duration": 2.453603,
     "end_time": "2021-09-02T06:41:01.390779",
     "exception": false,
     "start_time": "2021-09-02T06:40:58.937176",
     "status": "completed"
    },
    "tags": []
   },
   "outputs": [],
   "source": [
    "from typing import List\n",
    "import pandas as pd\n",
    "import genomics_data_index.api as gdi\n",
    "\n",
    "def create_timing_df_single_case(timings: List[float], name: str, kind: str,\n",
    "                                number_features: int) -> pd.DataFrame:\n",
    "    iterations = len(timings)\n",
    "    return pd.DataFrame({\n",
    "        'Name': [name]*iterations,\n",
    "        'Kind': [kind]*iterations,\n",
    "        'Number features': [number_features]*iterations,\n",
    "        'Iteration': range(1, iterations + 1),\n",
    "        'Time': timings,\n",
    "    })\n",
    "\n",
    "def create_timing_df(name: str, index_path: Path) -> pd.DataFrame:\n",
    "    db = gdi.GenomicsDataIndex.connect(index_path)\n",
    "    q = db.samples_query(reference_name='reference', universe='mutations')\n",
    "    number_features = len(q.features_summary())\n",
    "    \n",
    "    # features_summary\n",
    "    result = %timeit -r 10 -o q.features_summary()\n",
    "    fs_df = create_timing_df_single_case(result.timings, name=name, kind='features_summary', number_features=number_features)\n",
    "    \n",
    "    # hasa\n",
    "    result = %timeit -r 10 -o q.hasa(\"chrom0:8983:A:C\")\n",
    "    hasa_df = create_timing_df_single_case(result.timings, name=name, kind='hasa', number_features=number_features)\n",
    "    \n",
    "    # isa\n",
    "    result = %timeit -r 10 -o q.isa(\"SH11-001\")\n",
    "    isa_df = create_timing_df_single_case(result.timings, name=name, kind='isa', number_features=number_features)\n",
    "    \n",
    "    # isin distance\n",
    "    result = %timeit -r 10 -o q.isin(\"SH11-001\", kind='distance', distance=20, units='substitutions')\n",
    "    isin_distance_df = create_timing_df_single_case(result.timings, name=name, kind='isin distance', number_features=number_features)\n",
    "    \n",
    "    # isin mrca\n",
    "    result = %timeit -r 10 -o q.isin([\"SH11-001\", \"SH10-001\"], kind='mrca')\n",
    "    isin_mrca_df = create_timing_df_single_case(result.timings, name=name, kind='isin mrca', number_features=number_features)\n",
    "\n",
    "    return pd.concat([fs_df, hasa_df, isa_df, isin_distance_df, isin_mrca_df])"
   ]
  },
  {
   "cell_type": "markdown",
   "id": "f2180ae5-7850-4680-8e9e-45872d56accb",
   "metadata": {
    "papermill": {
     "duration": 0.009093,
     "end_time": "2021-09-02T06:41:01.414590",
     "exception": false,
     "start_time": "2021-09-02T06:41:01.405497",
     "status": "completed"
    },
    "tags": []
   },
   "source": [
    "## 3.1. Test reads"
   ]
  },
  {
   "cell_type": "code",
   "execution_count": 5,
   "id": "04d3a9c7-23a6-4a04-8735-a637c5534ba8",
   "metadata": {
    "execution": {
     "iopub.execute_input": "2021-09-02T06:41:01.436782Z",
     "iopub.status.busy": "2021-09-02T06:41:01.432752Z",
     "iopub.status.idle": "2021-09-02T06:41:39.195713Z",
     "shell.execute_reply": "2021-09-02T06:41:39.196598Z"
    },
    "papermill": {
     "duration": 37.775929,
     "end_time": "2021-09-02T06:41:39.196887",
     "exception": false,
     "start_time": "2021-09-02T06:41:01.420958",
     "status": "completed"
    },
    "tags": []
   },
   "outputs": [
    {
     "name": "stdout",
     "output_type": "stream",
     "text": [
      "53.9 ms ± 337 µs per loop (mean ± std. dev. of 10 runs, 10 loops each)\n"
     ]
    },
    {
     "name": "stdout",
     "output_type": "stream",
     "text": [
      "1.57 ms ± 2.64 µs per loop (mean ± std. dev. of 10 runs, 1000 loops each)\n"
     ]
    },
    {
     "name": "stdout",
     "output_type": "stream",
     "text": [
      "391 µs ± 2.65 µs per loop (mean ± std. dev. of 10 runs, 1000 loops each)\n"
     ]
    },
    {
     "name": "stdout",
     "output_type": "stream",
     "text": [
      "2.13 ms ± 9.52 µs per loop (mean ± std. dev. of 10 runs, 100 loops each)\n"
     ]
    },
    {
     "name": "stdout",
     "output_type": "stream",
     "text": [
      "667 µs ± 2.26 µs per loop (mean ± std. dev. of 10 runs, 1000 loops each)\n"
     ]
    },
    {
     "data": {
      "text/html": [
       "<div>\n",
       "<style scoped>\n",
       "    .dataframe tbody tr th:only-of-type {\n",
       "        vertical-align: middle;\n",
       "    }\n",
       "\n",
       "    .dataframe tbody tr th {\n",
       "        vertical-align: top;\n",
       "    }\n",
       "\n",
       "    .dataframe thead th {\n",
       "        text-align: right;\n",
       "    }\n",
       "</style>\n",
       "<table border=\"1\" class=\"dataframe\">\n",
       "  <thead>\n",
       "    <tr style=\"text-align: right;\">\n",
       "      <th></th>\n",
       "      <th>Name</th>\n",
       "      <th>Kind</th>\n",
       "      <th>Number features</th>\n",
       "      <th>Iteration</th>\n",
       "      <th>Time</th>\n",
       "    </tr>\n",
       "  </thead>\n",
       "  <tbody>\n",
       "    <tr>\n",
       "      <th>0</th>\n",
       "      <td>cov-20 (reads)</td>\n",
       "      <td>features_summary</td>\n",
       "      <td>731</td>\n",
       "      <td>1</td>\n",
       "      <td>0.053713</td>\n",
       "    </tr>\n",
       "    <tr>\n",
       "      <th>1</th>\n",
       "      <td>cov-20 (reads)</td>\n",
       "      <td>features_summary</td>\n",
       "      <td>731</td>\n",
       "      <td>2</td>\n",
       "      <td>0.053904</td>\n",
       "    </tr>\n",
       "    <tr>\n",
       "      <th>2</th>\n",
       "      <td>cov-20 (reads)</td>\n",
       "      <td>features_summary</td>\n",
       "      <td>731</td>\n",
       "      <td>3</td>\n",
       "      <td>0.053815</td>\n",
       "    </tr>\n",
       "    <tr>\n",
       "      <th>3</th>\n",
       "      <td>cov-20 (reads)</td>\n",
       "      <td>features_summary</td>\n",
       "      <td>731</td>\n",
       "      <td>4</td>\n",
       "      <td>0.054885</td>\n",
       "    </tr>\n",
       "    <tr>\n",
       "      <th>4</th>\n",
       "      <td>cov-20 (reads)</td>\n",
       "      <td>features_summary</td>\n",
       "      <td>731</td>\n",
       "      <td>5</td>\n",
       "      <td>0.053979</td>\n",
       "    </tr>\n",
       "  </tbody>\n",
       "</table>\n",
       "</div>"
      ],
      "text/plain": [
       "             Name              Kind  Number features  Iteration      Time\n",
       "0  cov-20 (reads)  features_summary              731          1  0.053713\n",
       "1  cov-20 (reads)  features_summary              731          2  0.053904\n",
       "2  cov-20 (reads)  features_summary              731          3  0.053815\n",
       "3  cov-20 (reads)  features_summary              731          4  0.054885\n",
       "4  cov-20 (reads)  features_summary              731          5  0.053979"
      ]
     },
     "execution_count": 5,
     "metadata": {},
     "output_type": "execute_result"
    }
   ],
   "source": [
    "reads_df = create_timing_df(name=f'{case_name} (reads)', index_path=index_reads_path)\n",
    "reads_df.head(5)"
   ]
  },
  {
   "cell_type": "code",
   "execution_count": 6,
   "id": "09e7fb11-5c83-4983-82b9-4a54fca23b52",
   "metadata": {
    "execution": {
     "iopub.execute_input": "2021-09-02T06:41:39.227042Z",
     "iopub.status.busy": "2021-09-02T06:41:39.226650Z",
     "iopub.status.idle": "2021-09-02T06:41:39.235449Z",
     "shell.execute_reply": "2021-09-02T06:41:39.234924Z"
    },
    "papermill": {
     "duration": 0.023716,
     "end_time": "2021-09-02T06:41:39.235575",
     "exception": false,
     "start_time": "2021-09-02T06:41:39.211859",
     "status": "completed"
    },
    "tags": []
   },
   "outputs": [],
   "source": [
    "reads_df.to_csv(output_api_reads_path, sep='\\t', index=False)"
   ]
  },
  {
   "cell_type": "markdown",
   "id": "2a7874a5-3ecd-4e59-a834-3c27943e4bf0",
   "metadata": {
    "papermill": {
     "duration": 0.007735,
     "end_time": "2021-09-02T06:41:39.252168",
     "exception": false,
     "start_time": "2021-09-02T06:41:39.244433",
     "status": "completed"
    },
    "tags": []
   },
   "source": [
    "## 3.2. Test assemblies"
   ]
  },
  {
   "cell_type": "code",
   "execution_count": 7,
   "id": "76a8327f-fcc7-4ec3-a140-877ed417a510",
   "metadata": {
    "execution": {
     "iopub.execute_input": "2021-09-02T06:41:39.275858Z",
     "iopub.status.busy": "2021-09-02T06:41:39.270526Z",
     "iopub.status.idle": "2021-09-02T06:42:09.179555Z",
     "shell.execute_reply": "2021-09-02T06:42:09.180441Z"
    },
    "papermill": {
     "duration": 29.921986,
     "end_time": "2021-09-02T06:42:09.180727",
     "exception": false,
     "start_time": "2021-09-02T06:41:39.258741",
     "status": "completed"
    },
    "tags": []
   },
   "outputs": [
    {
     "name": "stderr",
     "output_type": "stream",
     "text": [
      "Attempting to set global database_path_translator=<genomics_data_index.storage.model.db.DatabasePathTranslator.DatabasePathTranslator object at 0x7f758bd11730> but it is already set\n"
     ]
    },
    {
     "name": "stdout",
     "output_type": "stream",
     "text": [
      "53.1 ms ± 127 µs per loop (mean ± std. dev. of 10 runs, 10 loops each)\n"
     ]
    },
    {
     "name": "stdout",
     "output_type": "stream",
     "text": [
      "905 µs ± 2.67 µs per loop (mean ± std. dev. of 10 runs, 1000 loops each)\n"
     ]
    },
    {
     "name": "stdout",
     "output_type": "stream",
     "text": [
      "388 µs ± 1.44 µs per loop (mean ± std. dev. of 10 runs, 1000 loops each)\n"
     ]
    },
    {
     "name": "stdout",
     "output_type": "stream",
     "text": [
      "2.26 ms ± 38.3 µs per loop (mean ± std. dev. of 10 runs, 100 loops each)\n"
     ]
    },
    {
     "name": "stdout",
     "output_type": "stream",
     "text": [
      "626 µs ± 1.41 µs per loop (mean ± std. dev. of 10 runs, 1000 loops each)\n"
     ]
    },
    {
     "data": {
      "text/html": [
       "<div>\n",
       "<style scoped>\n",
       "    .dataframe tbody tr th:only-of-type {\n",
       "        vertical-align: middle;\n",
       "    }\n",
       "\n",
       "    .dataframe tbody tr th {\n",
       "        vertical-align: top;\n",
       "    }\n",
       "\n",
       "    .dataframe thead th {\n",
       "        text-align: right;\n",
       "    }\n",
       "</style>\n",
       "<table border=\"1\" class=\"dataframe\">\n",
       "  <thead>\n",
       "    <tr style=\"text-align: right;\">\n",
       "      <th></th>\n",
       "      <th>Name</th>\n",
       "      <th>Kind</th>\n",
       "      <th>Number features</th>\n",
       "      <th>Iteration</th>\n",
       "      <th>Time</th>\n",
       "    </tr>\n",
       "  </thead>\n",
       "  <tbody>\n",
       "    <tr>\n",
       "      <th>0</th>\n",
       "      <td>cov-20 (assemblies)</td>\n",
       "      <td>features_summary</td>\n",
       "      <td>765</td>\n",
       "      <td>1</td>\n",
       "      <td>0.053387</td>\n",
       "    </tr>\n",
       "    <tr>\n",
       "      <th>1</th>\n",
       "      <td>cov-20 (assemblies)</td>\n",
       "      <td>features_summary</td>\n",
       "      <td>765</td>\n",
       "      <td>2</td>\n",
       "      <td>0.053134</td>\n",
       "    </tr>\n",
       "    <tr>\n",
       "      <th>2</th>\n",
       "      <td>cov-20 (assemblies)</td>\n",
       "      <td>features_summary</td>\n",
       "      <td>765</td>\n",
       "      <td>3</td>\n",
       "      <td>0.053089</td>\n",
       "    </tr>\n",
       "    <tr>\n",
       "      <th>3</th>\n",
       "      <td>cov-20 (assemblies)</td>\n",
       "      <td>features_summary</td>\n",
       "      <td>765</td>\n",
       "      <td>4</td>\n",
       "      <td>0.052937</td>\n",
       "    </tr>\n",
       "    <tr>\n",
       "      <th>4</th>\n",
       "      <td>cov-20 (assemblies)</td>\n",
       "      <td>features_summary</td>\n",
       "      <td>765</td>\n",
       "      <td>5</td>\n",
       "      <td>0.052954</td>\n",
       "    </tr>\n",
       "  </tbody>\n",
       "</table>\n",
       "</div>"
      ],
      "text/plain": [
       "                  Name              Kind  Number features  Iteration      Time\n",
       "0  cov-20 (assemblies)  features_summary              765          1  0.053387\n",
       "1  cov-20 (assemblies)  features_summary              765          2  0.053134\n",
       "2  cov-20 (assemblies)  features_summary              765          3  0.053089\n",
       "3  cov-20 (assemblies)  features_summary              765          4  0.052937\n",
       "4  cov-20 (assemblies)  features_summary              765          5  0.052954"
      ]
     },
     "execution_count": 7,
     "metadata": {},
     "output_type": "execute_result"
    }
   ],
   "source": [
    "assemblies_df = create_timing_df(name=f'{case_name} (assemblies)', index_path=index_assemblies_path)\n",
    "assemblies_df.head(5)"
   ]
  },
  {
   "cell_type": "code",
   "execution_count": 8,
   "id": "aa0b72cc-c7d5-4bac-885b-2f3309739dc9",
   "metadata": {
    "execution": {
     "iopub.execute_input": "2021-09-02T06:42:09.218571Z",
     "iopub.status.busy": "2021-09-02T06:42:09.216878Z",
     "iopub.status.idle": "2021-09-02T06:42:09.222692Z",
     "shell.execute_reply": "2021-09-02T06:42:09.223075Z"
    },
    "papermill": {
     "duration": 0.023425,
     "end_time": "2021-09-02T06:42:09.223206",
     "exception": false,
     "start_time": "2021-09-02T06:42:09.199781",
     "status": "completed"
    },
    "tags": []
   },
   "outputs": [],
   "source": [
    "assemblies_df.to_csv(output_api_assemblies_path, sep='\\t', index=False)"
   ]
  }
 ],
 "metadata": {
  "kernelspec": {
   "display_name": "Python 3 (ipykernel)",
   "language": "python",
   "name": "python3"
  },
  "language_info": {
   "codemirror_mode": {
    "name": "ipython",
    "version": 3
   },
   "file_extension": ".py",
   "mimetype": "text/x-python",
   "name": "python",
   "nbconvert_exporter": "python",
   "pygments_lexer": "ipython3",
   "version": "3.8.10"
  },
  "papermill": {
   "default_parameters": {},
   "duration": 71.76674,
   "end_time": "2021-09-02T06:42:09.744863",
   "environment_variables": {},
   "exception": null,
   "input_path": "template-5-query.ipynb",
   "output_path": "5-query.simulation-cov-20.ipynb",
   "parameters": {
    "iterations": 3,
    "mincov": 10,
    "read_coverage": 20,
    "simulation_dir": "simulations/cov-20"
   },
   "start_time": "2021-09-02T06:40:57.978123",
   "version": "2.3.3"
  }
 },
 "nbformat": 4,
 "nbformat_minor": 5
}