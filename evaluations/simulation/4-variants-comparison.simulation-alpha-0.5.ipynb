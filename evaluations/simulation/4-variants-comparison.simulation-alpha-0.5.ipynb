{
 "cells": [
  {
   "cell_type": "markdown",
   "id": "2f66aa00-6c01-46a5-8f31-0e579da614b2",
   "metadata": {
    "papermill": {
     "duration": 0.021601,
     "end_time": "2022-03-09T15:41:07.999213",
     "exception": false,
     "start_time": "2022-03-09T15:41:07.977612",
     "status": "completed"
    },
    "tags": []
   },
   "source": [
    "# 1. Parameters"
   ]
  },
  {
   "cell_type": "code",
   "execution_count": 1,
   "id": "f2cfe9b4-3c45-4e2e-9ba2-17f4119f5f6d",
   "metadata": {
    "execution": {
     "iopub.execute_input": "2022-03-09T15:41:08.031778Z",
     "iopub.status.busy": "2022-03-09T15:41:08.031351Z",
     "iopub.status.idle": "2022-03-09T15:41:08.035413Z",
     "shell.execute_reply": "2022-03-09T15:41:08.035840Z"
    },
    "papermill": {
     "duration": 0.026104,
     "end_time": "2022-03-09T15:41:08.036066",
     "exception": false,
     "start_time": "2022-03-09T15:41:08.009962",
     "status": "completed"
    },
    "tags": [
     "parameters"
    ]
   },
   "outputs": [],
   "source": [
    "# Defaults\n",
    "\n",
    "simulation_dir = 'simulations/unset'\n",
    "reference_file = 'simulations/reference/reference.fa.gz'"
   ]
  },
  {
   "cell_type": "code",
   "execution_count": 2,
   "id": "248f5c09",
   "metadata": {
    "execution": {
     "iopub.execute_input": "2022-03-09T15:41:08.062645Z",
     "iopub.status.busy": "2022-03-09T15:41:08.062190Z",
     "iopub.status.idle": "2022-03-09T15:41:08.065467Z",
     "shell.execute_reply": "2022-03-09T15:41:08.065105Z"
    },
    "papermill": {
     "duration": 0.018125,
     "end_time": "2022-03-09T15:41:08.065564",
     "exception": false,
     "start_time": "2022-03-09T15:41:08.047439",
     "status": "completed"
    },
    "tags": [
     "injected-parameters"
    ]
   },
   "outputs": [],
   "source": [
    "# Parameters\n",
    "read_coverage = 30\n",
    "mincov = 10\n",
    "simulation_dir = \"simulations/alpha-0.5-cov-30\"\n",
    "iterations = 3\n",
    "sub_alpha = 0.5\n"
   ]
  },
  {
   "cell_type": "code",
   "execution_count": 3,
   "id": "9ddaa924-b1ac-4740-8070-0eaa05b80e96",
   "metadata": {
    "execution": {
     "iopub.execute_input": "2022-03-09T15:41:08.089381Z",
     "iopub.status.busy": "2022-03-09T15:41:08.088955Z",
     "iopub.status.idle": "2022-03-09T15:41:08.091839Z",
     "shell.execute_reply": "2022-03-09T15:41:08.092140Z"
    },
    "papermill": {
     "duration": 0.018319,
     "end_time": "2022-03-09T15:41:08.092244",
     "exception": false,
     "start_time": "2022-03-09T15:41:08.073925",
     "status": "completed"
    },
    "tags": []
   },
   "outputs": [],
   "source": [
    "from pathlib import Path\n",
    "\n",
    "simulation_dir_path = Path(simulation_dir)\n",
    "\n",
    "case_name = str(simulation_dir_path.name)\n",
    "\n",
    "simulation_data_path = simulation_dir_path / 'simulated_data'\n",
    "simulated_variants_file = simulation_data_path / 'haplotypes.vcf.gz'\n",
    "\n",
    "case_name = str(simulation_dir_path.name)\n",
    "index_reads_path = simulation_dir_path / 'index-reads'\n",
    "index_assemblies_path = simulation_dir_path / 'index-assemblies'"
   ]
  },
  {
   "cell_type": "markdown",
   "id": "2b6c7ffd-d5d7-447f-ba62-7ec7d1b0b583",
   "metadata": {
    "papermill": {
     "duration": 0.007547,
     "end_time": "2022-03-09T15:41:08.110718",
     "exception": false,
     "start_time": "2022-03-09T15:41:08.103171",
     "status": "completed"
    },
    "tags": []
   },
   "source": [
    "# 2. Load simulated variants (VCF)"
   ]
  },
  {
   "cell_type": "code",
   "execution_count": 4,
   "id": "e01f3458-fb5e-4fc1-b1f0-69b7a9c9d033",
   "metadata": {
    "execution": {
     "iopub.execute_input": "2022-03-09T15:41:08.133780Z",
     "iopub.status.busy": "2022-03-09T15:41:08.133341Z",
     "iopub.status.idle": "2022-03-09T15:41:09.205549Z",
     "shell.execute_reply": "2022-03-09T15:41:09.206454Z"
    },
    "papermill": {
     "duration": 1.08824,
     "end_time": "2022-03-09T15:41:09.206746",
     "exception": false,
     "start_time": "2022-03-09T15:41:08.118506",
     "status": "completed"
    },
    "tags": []
   },
   "outputs": [
    {
     "data": {
      "text/html": [
       "<div>\n",
       "<style scoped>\n",
       "    .dataframe tbody tr th:only-of-type {\n",
       "        vertical-align: middle;\n",
       "    }\n",
       "\n",
       "    .dataframe tbody tr th {\n",
       "        vertical-align: top;\n",
       "    }\n",
       "\n",
       "    .dataframe thead th {\n",
       "        text-align: right;\n",
       "    }\n",
       "</style>\n",
       "<table border=\"1\" class=\"dataframe\">\n",
       "  <thead>\n",
       "    <tr style=\"text-align: right;\">\n",
       "      <th></th>\n",
       "      <th>CHROM</th>\n",
       "      <th>POS</th>\n",
       "      <th>REF</th>\n",
       "      <th>samples</th>\n",
       "    </tr>\n",
       "  </thead>\n",
       "  <tbody>\n",
       "    <tr>\n",
       "      <th>0</th>\n",
       "      <td>chrom0</td>\n",
       "      <td>10</td>\n",
       "      <td>G</td>\n",
       "      <td>[Call(sample=reference, CallData(GT=0, GQ=4414...</td>\n",
       "    </tr>\n",
       "    <tr>\n",
       "      <th>1</th>\n",
       "      <td>chrom0</td>\n",
       "      <td>29</td>\n",
       "      <td>C</td>\n",
       "      <td>[Call(sample=reference, CallData(GT=0, GQ=4414...</td>\n",
       "    </tr>\n",
       "    <tr>\n",
       "      <th>2</th>\n",
       "      <td>chrom0</td>\n",
       "      <td>31</td>\n",
       "      <td>C</td>\n",
       "      <td>[Call(sample=reference, CallData(GT=0, GQ=4414...</td>\n",
       "    </tr>\n",
       "    <tr>\n",
       "      <th>3</th>\n",
       "      <td>chrom0</td>\n",
       "      <td>42</td>\n",
       "      <td>G</td>\n",
       "      <td>[Call(sample=reference, CallData(GT=0, GQ=4414...</td>\n",
       "    </tr>\n",
       "    <tr>\n",
       "      <th>4</th>\n",
       "      <td>chrom0</td>\n",
       "      <td>43</td>\n",
       "      <td>A</td>\n",
       "      <td>[Call(sample=reference, CallData(GT=0, GQ=4414...</td>\n",
       "    </tr>\n",
       "  </tbody>\n",
       "</table>\n",
       "</div>"
      ],
      "text/plain": [
       "    CHROM  POS REF                                            samples\n",
       "0  chrom0   10   G  [Call(sample=reference, CallData(GT=0, GQ=4414...\n",
       "1  chrom0   29   C  [Call(sample=reference, CallData(GT=0, GQ=4414...\n",
       "2  chrom0   31   C  [Call(sample=reference, CallData(GT=0, GQ=4414...\n",
       "3  chrom0   42   G  [Call(sample=reference, CallData(GT=0, GQ=4414...\n",
       "4  chrom0   43   A  [Call(sample=reference, CallData(GT=0, GQ=4414..."
      ]
     },
     "execution_count": 4,
     "metadata": {},
     "output_type": "execute_result"
    }
   ],
   "source": [
    "import vcf\n",
    "import pandas as pd\n",
    "import time\n",
    "\n",
    "reader = vcf.Reader(filename=str(simulated_variants_file))\n",
    "simulated_df = pd.DataFrame([vars(r) for r in reader])\n",
    "simulated_df = simulated_df[['CHROM', 'POS', 'REF', 'samples']]\n",
    "simulated_df.head(5)"
   ]
  },
  {
   "cell_type": "markdown",
   "id": "f1c95d8a-de3e-4bb4-b13f-0f88e6466925",
   "metadata": {
    "papermill": {
     "duration": 0.010812,
     "end_time": "2022-03-09T15:41:09.236462",
     "exception": false,
     "start_time": "2022-03-09T15:41:09.225650",
     "status": "completed"
    },
    "tags": []
   },
   "source": [
    "## 2.1. Construct sample:variant identifiers"
   ]
  },
  {
   "cell_type": "code",
   "execution_count": 5,
   "id": "bac0a5e7-a844-47bb-9204-3b4711d0c329",
   "metadata": {
    "execution": {
     "iopub.execute_input": "2022-03-09T15:41:09.270344Z",
     "iopub.status.busy": "2022-03-09T15:41:09.262764Z",
     "iopub.status.idle": "2022-03-09T15:41:10.012428Z",
     "shell.execute_reply": "2022-03-09T15:41:10.013370Z"
    },
    "papermill": {
     "duration": 0.768877,
     "end_time": "2022-03-09T15:41:10.013665",
     "exception": false,
     "start_time": "2022-03-09T15:41:09.244788",
     "status": "completed"
    },
    "tags": []
   },
   "outputs": [
    {
     "name": "stdout",
     "output_type": "stream",
     "text": [
      "There are 31258 expected sample/variant pairs like: ['SH10-002:chrom0:10:G:A', 'SH08-001:chrom0:29:C:A', 'SH09-29:chrom0:31:C:A']\n",
      "Took 0.0 minutes\n"
     ]
    }
   ],
   "source": [
    "before = time.time()\n",
    "\n",
    "# Explode dataframe so that we have one row per sample\n",
    "simulated_df_exploded = simulated_df.explode('samples')\n",
    "simulated_df_exploded['SAMPLE'] = simulated_df_exploded['samples'].apply(lambda x: x.sample)\n",
    "\n",
    "# Extrat ALT for each sample\n",
    "simulated_df_exploded['ALT'] = simulated_df_exploded['samples'].apply(lambda x: x.gt_bases)\n",
    "\n",
    "# Only keep mutations/those where REF and ALT are different\n",
    "simulated_df_exploded = simulated_df_exploded[simulated_df_exploded['REF'] != simulated_df_exploded['ALT']]\n",
    "\n",
    "# Create SPDI-like identifier with Sample name for comparison (SAMPLE:CHROM:POS:REF:ALT)\n",
    "simulated_df_exploded['ID'] = simulated_df_exploded.apply(\n",
    "    lambda x: f\"{x['SAMPLE']}:{x['CHROM']}:{x['POS']}:{x['REF']}:{x['ALT']}\", axis='columns')\n",
    "\n",
    "simulated_variants = simulated_df_exploded['ID'].reset_index(drop=True)\n",
    "expected_sample_variants = set(simulated_variants)\n",
    "\n",
    "after = time.time()\n",
    "\n",
    "print(f'There are {len(expected_sample_variants)} expected sample/variant pairs like: '\n",
    "      f'{list(simulated_variants[0:3])}')\n",
    "print(f'Took {(after - before)/60:0.1f} minutes')"
   ]
  },
  {
   "cell_type": "code",
   "execution_count": 6,
   "id": "e3f05c50-a98a-431f-b8c8-a5083738255c",
   "metadata": {
    "execution": {
     "iopub.execute_input": "2022-03-09T15:41:10.066397Z",
     "iopub.status.busy": "2022-03-09T15:41:10.065880Z",
     "iopub.status.idle": "2022-03-09T15:41:10.069636Z",
     "shell.execute_reply": "2022-03-09T15:41:10.070172Z"
    },
    "papermill": {
     "duration": 0.036071,
     "end_time": "2022-03-09T15:41:10.070354",
     "exception": false,
     "start_time": "2022-03-09T15:41:10.034283",
     "status": "completed"
    },
    "tags": []
   },
   "outputs": [
    {
     "data": {
      "text/html": [
       "<div>\n",
       "<style scoped>\n",
       "    .dataframe tbody tr th:only-of-type {\n",
       "        vertical-align: middle;\n",
       "    }\n",
       "\n",
       "    .dataframe tbody tr th {\n",
       "        vertical-align: top;\n",
       "    }\n",
       "\n",
       "    .dataframe thead th {\n",
       "        text-align: right;\n",
       "    }\n",
       "</style>\n",
       "<table border=\"1\" class=\"dataframe\">\n",
       "  <thead>\n",
       "    <tr style=\"text-align: right;\">\n",
       "      <th></th>\n",
       "      <th>CHROM</th>\n",
       "      <th>POS</th>\n",
       "      <th>REF</th>\n",
       "      <th>samples</th>\n",
       "      <th>SAMPLE</th>\n",
       "      <th>ALT</th>\n",
       "      <th>ID</th>\n",
       "    </tr>\n",
       "  </thead>\n",
       "  <tbody>\n",
       "    <tr>\n",
       "      <th>0</th>\n",
       "      <td>chrom0</td>\n",
       "      <td>10</td>\n",
       "      <td>G</td>\n",
       "      <td>Call(sample=SH10-002, CallData(GT=1, GQ=441453))</td>\n",
       "      <td>SH10-002</td>\n",
       "      <td>A</td>\n",
       "      <td>SH10-002:chrom0:10:G:A</td>\n",
       "    </tr>\n",
       "    <tr>\n",
       "      <th>1</th>\n",
       "      <td>chrom0</td>\n",
       "      <td>29</td>\n",
       "      <td>C</td>\n",
       "      <td>Call(sample=SH08-001, CallData(GT=1, GQ=441453))</td>\n",
       "      <td>SH08-001</td>\n",
       "      <td>A</td>\n",
       "      <td>SH08-001:chrom0:29:C:A</td>\n",
       "    </tr>\n",
       "    <tr>\n",
       "      <th>2</th>\n",
       "      <td>chrom0</td>\n",
       "      <td>31</td>\n",
       "      <td>C</td>\n",
       "      <td>Call(sample=SH09-29, CallData(GT=1, GQ=441453))</td>\n",
       "      <td>SH09-29</td>\n",
       "      <td>A</td>\n",
       "      <td>SH09-29:chrom0:31:C:A</td>\n",
       "    </tr>\n",
       "    <tr>\n",
       "      <th>2</th>\n",
       "      <td>chrom0</td>\n",
       "      <td>31</td>\n",
       "      <td>C</td>\n",
       "      <td>Call(sample=SH10-30, CallData(GT=1, GQ=441453))</td>\n",
       "      <td>SH10-30</td>\n",
       "      <td>A</td>\n",
       "      <td>SH10-30:chrom0:31:C:A</td>\n",
       "    </tr>\n",
       "    <tr>\n",
       "      <th>2</th>\n",
       "      <td>chrom0</td>\n",
       "      <td>31</td>\n",
       "      <td>C</td>\n",
       "      <td>Call(sample=SH14-001, CallData(GT=1, GQ=441453))</td>\n",
       "      <td>SH14-001</td>\n",
       "      <td>A</td>\n",
       "      <td>SH14-001:chrom0:31:C:A</td>\n",
       "    </tr>\n",
       "    <tr>\n",
       "      <th>...</th>\n",
       "      <td>...</td>\n",
       "      <td>...</td>\n",
       "      <td>...</td>\n",
       "      <td>...</td>\n",
       "      <td>...</td>\n",
       "      <td>...</td>\n",
       "      <td>...</td>\n",
       "    </tr>\n",
       "    <tr>\n",
       "      <th>2220</th>\n",
       "      <td>chrom1</td>\n",
       "      <td>8862</td>\n",
       "      <td>G</td>\n",
       "      <td>Call(sample=SH12-001, CallData(GT=1, GQ=441453))</td>\n",
       "      <td>SH12-001</td>\n",
       "      <td>A</td>\n",
       "      <td>SH12-001:chrom1:8862:G:A</td>\n",
       "    </tr>\n",
       "    <tr>\n",
       "      <th>2220</th>\n",
       "      <td>chrom1</td>\n",
       "      <td>8862</td>\n",
       "      <td>G</td>\n",
       "      <td>Call(sample=SH12-009, CallData(GT=1, GQ=441453))</td>\n",
       "      <td>SH12-009</td>\n",
       "      <td>A</td>\n",
       "      <td>SH12-009:chrom1:8862:G:A</td>\n",
       "    </tr>\n",
       "    <tr>\n",
       "      <th>2220</th>\n",
       "      <td>chrom1</td>\n",
       "      <td>8862</td>\n",
       "      <td>G</td>\n",
       "      <td>Call(sample=SH12-010, CallData(GT=1, GQ=441453))</td>\n",
       "      <td>SH12-010</td>\n",
       "      <td>A</td>\n",
       "      <td>SH12-010:chrom1:8862:G:A</td>\n",
       "    </tr>\n",
       "    <tr>\n",
       "      <th>2220</th>\n",
       "      <td>chrom1</td>\n",
       "      <td>8862</td>\n",
       "      <td>G</td>\n",
       "      <td>Call(sample=SH12-002, CallData(GT=1, GQ=441453))</td>\n",
       "      <td>SH12-002</td>\n",
       "      <td>A</td>\n",
       "      <td>SH12-002:chrom1:8862:G:A</td>\n",
       "    </tr>\n",
       "    <tr>\n",
       "      <th>2220</th>\n",
       "      <td>chrom1</td>\n",
       "      <td>8862</td>\n",
       "      <td>G</td>\n",
       "      <td>Call(sample=SH12-007, CallData(GT=1, GQ=441453))</td>\n",
       "      <td>SH12-007</td>\n",
       "      <td>A</td>\n",
       "      <td>SH12-007:chrom1:8862:G:A</td>\n",
       "    </tr>\n",
       "  </tbody>\n",
       "</table>\n",
       "<p>31258 rows × 7 columns</p>\n",
       "</div>"
      ],
      "text/plain": [
       "       CHROM   POS REF                                           samples  \\\n",
       "0     chrom0    10   G  Call(sample=SH10-002, CallData(GT=1, GQ=441453))   \n",
       "1     chrom0    29   C  Call(sample=SH08-001, CallData(GT=1, GQ=441453))   \n",
       "2     chrom0    31   C   Call(sample=SH09-29, CallData(GT=1, GQ=441453))   \n",
       "2     chrom0    31   C   Call(sample=SH10-30, CallData(GT=1, GQ=441453))   \n",
       "2     chrom0    31   C  Call(sample=SH14-001, CallData(GT=1, GQ=441453))   \n",
       "...      ...   ...  ..                                               ...   \n",
       "2220  chrom1  8862   G  Call(sample=SH12-001, CallData(GT=1, GQ=441453))   \n",
       "2220  chrom1  8862   G  Call(sample=SH12-009, CallData(GT=1, GQ=441453))   \n",
       "2220  chrom1  8862   G  Call(sample=SH12-010, CallData(GT=1, GQ=441453))   \n",
       "2220  chrom1  8862   G  Call(sample=SH12-002, CallData(GT=1, GQ=441453))   \n",
       "2220  chrom1  8862   G  Call(sample=SH12-007, CallData(GT=1, GQ=441453))   \n",
       "\n",
       "        SAMPLE ALT                        ID  \n",
       "0     SH10-002   A    SH10-002:chrom0:10:G:A  \n",
       "1     SH08-001   A    SH08-001:chrom0:29:C:A  \n",
       "2      SH09-29   A     SH09-29:chrom0:31:C:A  \n",
       "2      SH10-30   A     SH10-30:chrom0:31:C:A  \n",
       "2     SH14-001   A    SH14-001:chrom0:31:C:A  \n",
       "...        ...  ..                       ...  \n",
       "2220  SH12-001   A  SH12-001:chrom1:8862:G:A  \n",
       "2220  SH12-009   A  SH12-009:chrom1:8862:G:A  \n",
       "2220  SH12-010   A  SH12-010:chrom1:8862:G:A  \n",
       "2220  SH12-002   A  SH12-002:chrom1:8862:G:A  \n",
       "2220  SH12-007   A  SH12-007:chrom1:8862:G:A  \n",
       "\n",
       "[31258 rows x 7 columns]"
      ]
     },
     "execution_count": 6,
     "metadata": {},
     "output_type": "execute_result"
    }
   ],
   "source": [
    "simulated_df_exploded"
   ]
  },
  {
   "cell_type": "markdown",
   "id": "85d49181-9782-48b6-bdef-dfa2b19cd6b6",
   "metadata": {
    "papermill": {
     "duration": 0.010756,
     "end_time": "2022-03-09T15:41:10.098396",
     "exception": false,
     "start_time": "2022-03-09T15:41:10.087640",
     "status": "completed"
    },
    "tags": []
   },
   "source": [
    "## 1.2. Load reference genome for use with positive/negative calculations"
   ]
  },
  {
   "cell_type": "code",
   "execution_count": 7,
   "id": "bfaacd7f-746e-452a-9b4b-cb4526424b13",
   "metadata": {
    "execution": {
     "iopub.execute_input": "2022-03-09T15:41:10.125417Z",
     "iopub.status.busy": "2022-03-09T15:41:10.124996Z",
     "iopub.status.idle": "2022-03-09T15:41:10.197429Z",
     "shell.execute_reply": "2022-03-09T15:41:10.198351Z"
    },
    "papermill": {
     "duration": 0.091333,
     "end_time": "2022-03-09T15:41:10.198749",
     "exception": false,
     "start_time": "2022-03-09T15:41:10.107416",
     "status": "completed"
    },
    "tags": []
   },
   "outputs": [
    {
     "name": "stdout",
     "output_type": "stream",
     "text": [
      "Reference length: 10834\n",
      "Number samples: 59\n"
     ]
    }
   ],
   "source": [
    "import gzip\n",
    "from Bio import SeqIO\n",
    "\n",
    "with gzip.open(reference_file, mode='rt') as f:\n",
    "    sequences = list(SeqIO.parse(f, 'fasta'))\n",
    "    reference_length = len(sequences[0])\n",
    "    \n",
    "sample_names = set(simulated_df_exploded.groupby('SAMPLE').agg({'SAMPLE': 'count'}).index)\n",
    "sample_names = sample_names - {'reference'}\n",
    "number_samples = len(sample_names)\n",
    "\n",
    "print(f'Reference length: {reference_length}')\n",
    "print(f'Number samples: {number_samples}')"
   ]
  },
  {
   "cell_type": "markdown",
   "id": "31d39af6-8bcb-416b-ba4c-38c06fc6085e",
   "metadata": {
    "papermill": {
     "duration": 0.010794,
     "end_time": "2022-03-09T15:41:10.229806",
     "exception": false,
     "start_time": "2022-03-09T15:41:10.219012",
     "status": "completed"
    },
    "tags": []
   },
   "source": [
    "# 3. Load detected variants\n",
    "\n",
    "## 3.1. Load from reads index"
   ]
  },
  {
   "cell_type": "code",
   "execution_count": 8,
   "id": "89978058-5e1b-4c20-ba21-fc23daa74dcb",
   "metadata": {
    "execution": {
     "iopub.execute_input": "2022-03-09T15:41:10.257072Z",
     "iopub.status.busy": "2022-03-09T15:41:10.256623Z",
     "iopub.status.idle": "2022-03-09T15:41:17.744553Z",
     "shell.execute_reply": "2022-03-09T15:41:17.745479Z"
    },
    "papermill": {
     "duration": 7.507284,
     "end_time": "2022-03-09T15:41:17.745767",
     "exception": false,
     "start_time": "2022-03-09T15:41:10.238483",
     "status": "completed"
    },
    "tags": []
   },
   "outputs": [
    {
     "name": "stdout",
     "output_type": "stream",
     "text": [
      "There are 26998 actual sample/variant pairs (reads)\n",
      "Took 0.1 minutes\n",
      "Actual variants look like: ['SH14-009:chrom0:9205:AC:GT', 'SH11-002:chrom0:1324:A:G', 'SH14-027:chrom0:4437:T:C', 'SH12-003:chrom0:4122:G:C', 'SH13-004:chrom0:8238:G:A']\n"
     ]
    }
   ],
   "source": [
    "from typing import Set\n",
    "import genomics_data_index.api as gdi\n",
    "\n",
    "def get_sample_variant_idenifiers(index_dir: Path) -> Set[str]:\n",
    "    db = gdi.GenomicsDataIndex.connect(index_dir)\n",
    "    q = db.samples_query()\n",
    "\n",
    "    actual_sample_variants = set()\n",
    "    for sample in q.tolist():\n",
    "        sample_features = q.isa(sample).features_summary().reset_index()\n",
    "        sample_features_set = set(sample_features['Mutation'].apply(lambda x: f\"{sample}:{x}\"))\n",
    "        actual_sample_variants.update(sample_features_set)\n",
    "    return actual_sample_variants\n",
    "\n",
    "before = time.time()\n",
    "actual_sample_variants_reads = get_sample_variant_idenifiers(index_reads_path)\n",
    "after = time.time()\n",
    "\n",
    "print(f'There are {len(actual_sample_variants_reads)} actual sample/variant pairs (reads)')\n",
    "print(f'Took {(after - before)/60:0.1f} minutes')\n",
    "print(f'Actual variants look like: {list(actual_sample_variants_reads)[0:5]}')"
   ]
  },
  {
   "cell_type": "markdown",
   "id": "4eb6bf76-40f0-449f-8cac-72679f484e8c",
   "metadata": {
    "papermill": {
     "duration": 0.011489,
     "end_time": "2022-03-09T15:41:17.777641",
     "exception": false,
     "start_time": "2022-03-09T15:41:17.766152",
     "status": "completed"
    },
    "tags": []
   },
   "source": [
    "## 2.2. Load from assemblies index"
   ]
  },
  {
   "cell_type": "code",
   "execution_count": 9,
   "id": "b91c4675-1b29-4a1c-b976-ba88a80d2c78",
   "metadata": {
    "execution": {
     "iopub.execute_input": "2022-03-09T15:41:17.801735Z",
     "iopub.status.busy": "2022-03-09T15:41:17.799804Z",
     "iopub.status.idle": "2022-03-09T15:41:23.112874Z",
     "shell.execute_reply": "2022-03-09T15:41:23.113777Z"
    },
    "papermill": {
     "duration": 5.327222,
     "end_time": "2022-03-09T15:41:23.114066",
     "exception": false,
     "start_time": "2022-03-09T15:41:17.786844",
     "status": "completed"
    },
    "tags": []
   },
   "outputs": [
    {
     "name": "stderr",
     "output_type": "stream",
     "text": [
      "Attempting to set global database_path_translator=<genomics_data_index.storage.model.db.DatabasePathTranslator.DatabasePathTranslator object at 0x7f258984c0d0> but it is already set\n"
     ]
    },
    {
     "name": "stdout",
     "output_type": "stream",
     "text": [
      "There are 31020 actual sample/variant pairs (assemblies)\n",
      "Took 0.1 minutes\n"
     ]
    }
   ],
   "source": [
    "before = time.time()\n",
    "actual_sample_variants_assemblies = get_sample_variant_idenifiers(index_assemblies_path)\n",
    "after = time.time()\n",
    "\n",
    "print(f'There are {len(actual_sample_variants_assemblies)} actual sample/variant pairs (assemblies)')\n",
    "print(f'Took {(after - before)/60:0.1f} minutes')"
   ]
  },
  {
   "cell_type": "markdown",
   "id": "52efd18a-5198-45cc-a092-4dfaba600ca1",
   "metadata": {
    "papermill": {
     "duration": 0.011174,
     "end_time": "2022-03-09T15:41:23.146638",
     "exception": false,
     "start_time": "2022-03-09T15:41:23.135464",
     "status": "completed"
    },
    "tags": []
   },
   "source": [
    "# 3. Compare expected/actual variants\n",
    "\n",
    "## 3.1. Compare with reads index"
   ]
  },
  {
   "cell_type": "code",
   "execution_count": 10,
   "id": "3897d419-cc74-49d0-92d6-371f365f3ff1",
   "metadata": {
    "execution": {
     "iopub.execute_input": "2022-03-09T15:41:23.204026Z",
     "iopub.status.busy": "2022-03-09T15:41:23.193055Z",
     "iopub.status.idle": "2022-03-09T15:41:23.209820Z",
     "shell.execute_reply": "2022-03-09T15:41:23.208845Z"
    },
    "papermill": {
     "duration": 0.054103,
     "end_time": "2022-03-09T15:41:23.210051",
     "exception": false,
     "start_time": "2022-03-09T15:41:23.155948",
     "status": "completed"
    },
    "tags": []
   },
   "outputs": [
    {
     "name": "stdout",
     "output_type": "stream",
     "text": [
      "Sensitivity: 0.7742\n",
      "Specificity: ~1 (not calculated)\n",
      "Precision: 0.8963\n",
      "F1 Score: 0.8308\n"
     ]
    },
    {
     "data": {
      "text/html": [
       "<div>\n",
       "<style scoped>\n",
       "    .dataframe tbody tr th:only-of-type {\n",
       "        vertical-align: middle;\n",
       "    }\n",
       "\n",
       "    .dataframe tbody tr th {\n",
       "        vertical-align: top;\n",
       "    }\n",
       "\n",
       "    .dataframe thead th {\n",
       "        text-align: right;\n",
       "    }\n",
       "</style>\n",
       "<table border=\"1\" class=\"dataframe\">\n",
       "  <thead>\n",
       "    <tr style=\"text-align: right;\">\n",
       "      <th></th>\n",
       "      <th>Name</th>\n",
       "      <th>True Positives</th>\n",
       "      <th>True Negatives</th>\n",
       "      <th>False Positives</th>\n",
       "      <th>False Negatives</th>\n",
       "      <th>Sensitivity</th>\n",
       "      <th>Specificity</th>\n",
       "      <th>Precision</th>\n",
       "      <th>F1 Score</th>\n",
       "    </tr>\n",
       "  </thead>\n",
       "  <tbody>\n",
       "    <tr>\n",
       "      <th>0</th>\n",
       "      <td>alpha-0.5-cov-30 reads</td>\n",
       "      <td>24199</td>\n",
       "      <td>&lt;NA&gt;</td>\n",
       "      <td>2799</td>\n",
       "      <td>7059</td>\n",
       "      <td>0.77417</td>\n",
       "      <td>~1 (not calculated)</td>\n",
       "      <td>0.896326</td>\n",
       "      <td>0.830781</td>\n",
       "    </tr>\n",
       "  </tbody>\n",
       "</table>\n",
       "</div>"
      ],
      "text/plain": [
       "                     Name  True Positives True Negatives  False Positives  \\\n",
       "0  alpha-0.5-cov-30 reads           24199           <NA>             2799   \n",
       "\n",
       "   False Negatives  Sensitivity          Specificity  Precision  F1 Score  \n",
       "0             7059      0.77417  ~1 (not calculated)   0.896326  0.830781  "
      ]
     },
     "execution_count": 10,
     "metadata": {},
     "output_type": "execute_result"
    }
   ],
   "source": [
    "def compare_expected_actual(name: str, actual_sample_variants: Set[str]) -> pd.DataFrame:\n",
    "    number_expected = len(expected_sample_variants)\n",
    "    number_actual = len(actual_sample_variants)\n",
    "\n",
    "    true_positives = actual_sample_variants & expected_sample_variants\n",
    "    false_negatives = expected_sample_variants - actual_sample_variants\n",
    "    false_positives = actual_sample_variants - expected_sample_variants\n",
    "    # I cannot get true negatives since I would need to know the total number of negatives (i.e., all possible \n",
    "    #  variants with respect to the reference genome that were not simulated). This would be a finite, but \n",
    "    #  very very large number (and I haven't worked out how to calculate it).\n",
    "    # For example, one negative is Sample:1:A:T, another negative is Sample:1:AG:TT, and so on for the entire \n",
    "    # length of the genome.\n",
    "    # true_negatives = set()\n",
    "\n",
    "    sensitivity = len(true_positives) / (len(true_positives) + len(false_negatives))\n",
    "    precision = len(true_positives) / (len(true_positives) + len(false_positives))\n",
    "    f1_score = 2 * len(true_positives) / (2 * len(true_positives) + len(false_positives) + len(false_negatives))\n",
    "\n",
    "    # Since true_negatives are a very large number, then for all intents and purposes\n",
    "    # specificity will be very very close to 1. So instead of trying to calculate it\n",
    "    # I just call it ~1, but it's also not very useful because of this.\n",
    "    #specificity = len(true_negatives) / (len(true_negatives) + len(false_positives))\n",
    "    specificity = '~1 (not calculated)'\n",
    "\n",
    "    print(f'Sensitivity: {sensitivity:0.4f}')\n",
    "    print(f'Specificity: {specificity}')\n",
    "    print(f'Precision: {precision:0.4f}')\n",
    "    print(f'F1 Score: {f1_score:0.4f}')\n",
    "    \n",
    "    comparison_df = pd.DataFrame([{\n",
    "        'Name': name,\n",
    "        'True Positives': len(true_positives),\n",
    "        'True Negatives': pd.NA,\n",
    "        'False Positives': len(false_positives),\n",
    "        'False Negatives': len(false_negatives),\n",
    "        'Sensitivity': sensitivity,\n",
    "        'Specificity': specificity,\n",
    "        'Precision': precision,\n",
    "        'F1 Score': f1_score,\n",
    "    }])\n",
    "    \n",
    "    data = {\n",
    "        'tp': true_positives,\n",
    "        'fp': false_positives,\n",
    "        'fn': false_negatives\n",
    "    }\n",
    "    \n",
    "    return comparison_df, data\n",
    "    \n",
    "comparison_reads_df, data_reads = compare_expected_actual(name=f'{case_name} reads',\n",
    "                                                          actual_sample_variants=actual_sample_variants_reads)\n",
    "comparison_reads_df"
   ]
  },
  {
   "cell_type": "markdown",
   "id": "d5f3bf59-c828-40e1-9394-f0c40a73dfa6",
   "metadata": {
    "papermill": {
     "duration": 0.011149,
     "end_time": "2022-03-09T15:41:23.239673",
     "exception": false,
     "start_time": "2022-03-09T15:41:23.228524",
     "status": "completed"
    },
    "tags": []
   },
   "source": [
    "## 3.2. Compare with assemblies index"
   ]
  },
  {
   "cell_type": "code",
   "execution_count": 11,
   "id": "341de1ba-a120-471c-97f8-f85537dca10b",
   "metadata": {
    "execution": {
     "iopub.execute_input": "2022-03-09T15:41:23.290260Z",
     "iopub.status.busy": "2022-03-09T15:41:23.289520Z",
     "iopub.status.idle": "2022-03-09T15:41:23.293305Z",
     "shell.execute_reply": "2022-03-09T15:41:23.293869Z"
    },
    "papermill": {
     "duration": 0.043981,
     "end_time": "2022-03-09T15:41:23.294053",
     "exception": false,
     "start_time": "2022-03-09T15:41:23.250072",
     "status": "completed"
    },
    "tags": []
   },
   "outputs": [
    {
     "name": "stdout",
     "output_type": "stream",
     "text": [
      "Sensitivity: 0.9924\n",
      "Specificity: ~1 (not calculated)\n",
      "Precision: 1.0000\n",
      "F1 Score: 0.9962\n"
     ]
    },
    {
     "data": {
      "text/html": [
       "<div>\n",
       "<style scoped>\n",
       "    .dataframe tbody tr th:only-of-type {\n",
       "        vertical-align: middle;\n",
       "    }\n",
       "\n",
       "    .dataframe tbody tr th {\n",
       "        vertical-align: top;\n",
       "    }\n",
       "\n",
       "    .dataframe thead th {\n",
       "        text-align: right;\n",
       "    }\n",
       "</style>\n",
       "<table border=\"1\" class=\"dataframe\">\n",
       "  <thead>\n",
       "    <tr style=\"text-align: right;\">\n",
       "      <th></th>\n",
       "      <th>Name</th>\n",
       "      <th>True Positives</th>\n",
       "      <th>True Negatives</th>\n",
       "      <th>False Positives</th>\n",
       "      <th>False Negatives</th>\n",
       "      <th>Sensitivity</th>\n",
       "      <th>Specificity</th>\n",
       "      <th>Precision</th>\n",
       "      <th>F1 Score</th>\n",
       "    </tr>\n",
       "  </thead>\n",
       "  <tbody>\n",
       "    <tr>\n",
       "      <th>0</th>\n",
       "      <td>alpha-0.5-cov-30 assemblies</td>\n",
       "      <td>31020</td>\n",
       "      <td>&lt;NA&gt;</td>\n",
       "      <td>0</td>\n",
       "      <td>238</td>\n",
       "      <td>0.992386</td>\n",
       "      <td>~1 (not calculated)</td>\n",
       "      <td>1.0</td>\n",
       "      <td>0.996178</td>\n",
       "    </tr>\n",
       "  </tbody>\n",
       "</table>\n",
       "</div>"
      ],
      "text/plain": [
       "                          Name  True Positives True Negatives  \\\n",
       "0  alpha-0.5-cov-30 assemblies           31020           <NA>   \n",
       "\n",
       "   False Positives  False Negatives  Sensitivity          Specificity  \\\n",
       "0                0              238     0.992386  ~1 (not calculated)   \n",
       "\n",
       "   Precision  F1 Score  \n",
       "0        1.0  0.996178  "
      ]
     },
     "execution_count": 11,
     "metadata": {},
     "output_type": "execute_result"
    }
   ],
   "source": [
    "comparison_assemblies_df, data_assemblies = compare_expected_actual(name=f'{case_name} assemblies',\n",
    "                                                                    actual_sample_variants=actual_sample_variants_assemblies)\n",
    "comparison_assemblies_df"
   ]
  },
  {
   "cell_type": "markdown",
   "id": "13ddcf68-f5d4-494f-8a13-e9325390b953",
   "metadata": {
    "papermill": {
     "duration": 0.010691,
     "end_time": "2022-03-09T15:41:23.324387",
     "exception": false,
     "start_time": "2022-03-09T15:41:23.313696",
     "status": "completed"
    },
    "tags": []
   },
   "source": [
    "## 3.3. Combine results"
   ]
  },
  {
   "cell_type": "code",
   "execution_count": 12,
   "id": "17df418e-5244-4000-b9f9-2f35f8ce998f",
   "metadata": {
    "execution": {
     "iopub.execute_input": "2022-03-09T15:41:23.363894Z",
     "iopub.status.busy": "2022-03-09T15:41:23.351581Z",
     "iopub.status.idle": "2022-03-09T15:41:23.367829Z",
     "shell.execute_reply": "2022-03-09T15:41:23.368361Z"
    },
    "papermill": {
     "duration": 0.033762,
     "end_time": "2022-03-09T15:41:23.368555",
     "exception": false,
     "start_time": "2022-03-09T15:41:23.334793",
     "status": "completed"
    },
    "tags": []
   },
   "outputs": [
    {
     "data": {
      "text/html": [
       "<div>\n",
       "<style scoped>\n",
       "    .dataframe tbody tr th:only-of-type {\n",
       "        vertical-align: middle;\n",
       "    }\n",
       "\n",
       "    .dataframe tbody tr th {\n",
       "        vertical-align: top;\n",
       "    }\n",
       "\n",
       "    .dataframe thead th {\n",
       "        text-align: right;\n",
       "    }\n",
       "</style>\n",
       "<table border=\"1\" class=\"dataframe\">\n",
       "  <thead>\n",
       "    <tr style=\"text-align: right;\">\n",
       "      <th></th>\n",
       "      <th>Name</th>\n",
       "      <th>True Positives</th>\n",
       "      <th>True Negatives</th>\n",
       "      <th>False Positives</th>\n",
       "      <th>False Negatives</th>\n",
       "      <th>Sensitivity</th>\n",
       "      <th>Specificity</th>\n",
       "      <th>Precision</th>\n",
       "      <th>F1 Score</th>\n",
       "    </tr>\n",
       "  </thead>\n",
       "  <tbody>\n",
       "    <tr>\n",
       "      <th>0</th>\n",
       "      <td>alpha-0.5-cov-30 reads</td>\n",
       "      <td>24199</td>\n",
       "      <td>&lt;NA&gt;</td>\n",
       "      <td>2799</td>\n",
       "      <td>7059</td>\n",
       "      <td>0.774170</td>\n",
       "      <td>~1 (not calculated)</td>\n",
       "      <td>0.896326</td>\n",
       "      <td>0.830781</td>\n",
       "    </tr>\n",
       "    <tr>\n",
       "      <th>0</th>\n",
       "      <td>alpha-0.5-cov-30 assemblies</td>\n",
       "      <td>31020</td>\n",
       "      <td>&lt;NA&gt;</td>\n",
       "      <td>0</td>\n",
       "      <td>238</td>\n",
       "      <td>0.992386</td>\n",
       "      <td>~1 (not calculated)</td>\n",
       "      <td>1.000000</td>\n",
       "      <td>0.996178</td>\n",
       "    </tr>\n",
       "  </tbody>\n",
       "</table>\n",
       "</div>"
      ],
      "text/plain": [
       "                          Name  True Positives True Negatives  \\\n",
       "0       alpha-0.5-cov-30 reads           24199           <NA>   \n",
       "0  alpha-0.5-cov-30 assemblies           31020           <NA>   \n",
       "\n",
       "   False Positives  False Negatives  Sensitivity          Specificity  \\\n",
       "0             2799             7059     0.774170  ~1 (not calculated)   \n",
       "0                0              238     0.992386  ~1 (not calculated)   \n",
       "\n",
       "   Precision  F1 Score  \n",
       "0   0.896326  0.830781  \n",
       "0   1.000000  0.996178  "
      ]
     },
     "execution_count": 12,
     "metadata": {},
     "output_type": "execute_result"
    }
   ],
   "source": [
    "results_df = pd.concat([comparison_reads_df, comparison_assemblies_df])\n",
    "results_df"
   ]
  },
  {
   "cell_type": "code",
   "execution_count": 13,
   "id": "20211251-04f9-4a94-ae10-473c6d52aaf2",
   "metadata": {
    "execution": {
     "iopub.execute_input": "2022-03-09T15:41:23.404727Z",
     "iopub.status.busy": "2022-03-09T15:41:23.403297Z",
     "iopub.status.idle": "2022-03-09T15:41:23.414929Z",
     "shell.execute_reply": "2022-03-09T15:41:23.414459Z"
    },
    "papermill": {
     "duration": 0.028634,
     "end_time": "2022-03-09T15:41:23.415043",
     "exception": false,
     "start_time": "2022-03-09T15:41:23.386409",
     "status": "completed"
    },
    "tags": []
   },
   "outputs": [],
   "source": [
    "results_df_output = simulation_dir_path / 'variants-comparison.tsv'\n",
    "results_df.to_csv(results_df_output, sep='\\t', index=False)"
   ]
  }
 ],
 "metadata": {
  "kernelspec": {
   "display_name": "Python 3 (ipykernel)",
   "language": "python",
   "name": "python3"
  },
  "language_info": {
   "codemirror_mode": {
    "name": "ipython",
    "version": 3
   },
   "file_extension": ".py",
   "mimetype": "text/x-python",
   "name": "python",
   "nbconvert_exporter": "python",
   "pygments_lexer": "ipython3",
   "version": "3.8.12"
  },
  "papermill": {
   "default_parameters": {},
   "duration": 17.486844,
   "end_time": "2022-03-09T15:41:24.058723",
   "environment_variables": {},
   "exception": null,
   "input_path": "template-4-variants-comparison.ipynb",
   "output_path": "4-variants-comparison.simulation-alpha-0.5.ipynb",
   "parameters": {
    "iterations": 3,
    "mincov": 10,
    "read_coverage": 30,
    "simulation_dir": "simulations/alpha-0.5-cov-30",
    "sub_alpha": 0.5
   },
   "start_time": "2022-03-09T15:41:06.571879",
   "version": "2.3.4"
  }
 },
 "nbformat": 4,
 "nbformat_minor": 5
}