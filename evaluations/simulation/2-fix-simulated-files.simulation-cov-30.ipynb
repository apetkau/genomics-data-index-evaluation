{
 "cells": [
  {
   "cell_type": "markdown",
   "id": "acfa5482-d626-44d6-b613-863e6911fa98",
   "metadata": {
    "papermill": {
     "duration": 0.014196,
     "end_time": "2021-09-11T19:25:19.887108",
     "exception": false,
     "start_time": "2021-09-11T19:25:19.872912",
     "status": "completed"
    },
    "tags": []
   },
   "source": [
    "# 1. Parameters"
   ]
  },
  {
   "cell_type": "code",
   "execution_count": 1,
   "id": "36126d74-a9d8-4431-ba49-767c1fc2ec49",
   "metadata": {
    "execution": {
     "iopub.execute_input": "2021-09-11T19:25:19.914640Z",
     "iopub.status.busy": "2021-09-11T19:25:19.914125Z",
     "iopub.status.idle": "2021-09-11T19:25:19.918533Z",
     "shell.execute_reply": "2021-09-11T19:25:19.919067Z"
    },
    "papermill": {
     "duration": 0.023833,
     "end_time": "2021-09-11T19:25:19.919332",
     "exception": false,
     "start_time": "2021-09-11T19:25:19.895499",
     "status": "completed"
    },
    "tags": [
     "parameters"
    ]
   },
   "outputs": [],
   "source": [
    "# Defaults\n",
    "simulation_dir = 'simulations/unset'\n",
    "ncores = 48"
   ]
  },
  {
   "cell_type": "code",
   "execution_count": 2,
   "id": "d2344d47",
   "metadata": {
    "execution": {
     "iopub.execute_input": "2021-09-11T19:25:19.939493Z",
     "iopub.status.busy": "2021-09-11T19:25:19.939013Z",
     "iopub.status.idle": "2021-09-11T19:25:19.941907Z",
     "shell.execute_reply": "2021-09-11T19:25:19.942261Z"
    },
    "papermill": {
     "duration": 0.015017,
     "end_time": "2021-09-11T19:25:19.942379",
     "exception": false,
     "start_time": "2021-09-11T19:25:19.927362",
     "status": "completed"
    },
    "tags": [
     "injected-parameters"
    ]
   },
   "outputs": [],
   "source": [
    "# Parameters\n",
    "read_coverage = 30\n",
    "mincov = 10\n",
    "simulation_dir = \"simulations/cov-30\"\n",
    "iterations = 3\n",
    "sub_alpha = 0.2\n"
   ]
  },
  {
   "cell_type": "code",
   "execution_count": 3,
   "id": "15e911d7-0ffc-4110-aefe-71bc77e689cd",
   "metadata": {
    "execution": {
     "iopub.execute_input": "2021-09-11T19:25:19.960526Z",
     "iopub.status.busy": "2021-09-11T19:25:19.960074Z",
     "iopub.status.idle": "2021-09-11T19:25:19.962753Z",
     "shell.execute_reply": "2021-09-11T19:25:19.963097Z"
    },
    "papermill": {
     "duration": 0.015457,
     "end_time": "2021-09-11T19:25:19.963209",
     "exception": false,
     "start_time": "2021-09-11T19:25:19.947752",
     "status": "completed"
    },
    "tags": []
   },
   "outputs": [],
   "source": [
    "from pathlib import Path\n",
    "import os\n",
    "\n",
    "simulation_data_dir = Path(simulation_dir) / 'simulated_data'\n",
    "initial_reads_dir = simulation_data_dir / 'reads_initial'\n",
    "reads_dir = simulation_data_dir / 'reads'\n",
    "assemblies_dir = simulation_data_dir / 'assemblies'\n",
    "\n",
    "if not reads_dir.exists():\n",
    "    os.mkdir(reads_dir)"
   ]
  },
  {
   "cell_type": "markdown",
   "id": "rotary-regard",
   "metadata": {
    "papermill": {
     "duration": 0.005791,
     "end_time": "2021-09-11T19:25:19.974253",
     "exception": false,
     "start_time": "2021-09-11T19:25:19.968462",
     "status": "completed"
    },
    "tags": []
   },
   "source": [
    "# 2. Fix reads\n",
    "\n",
    "Fix read file names and data so they can be indexed."
   ]
  },
  {
   "cell_type": "code",
   "execution_count": 4,
   "id": "convenient-blackberry",
   "metadata": {
    "execution": {
     "iopub.execute_input": "2021-09-11T19:25:19.990393Z",
     "iopub.status.busy": "2021-09-11T19:25:19.990002Z",
     "iopub.status.idle": "2021-09-11T19:25:20.166931Z",
     "shell.execute_reply": "2021-09-11T19:25:20.167807Z"
    },
    "papermill": {
     "duration": 0.188602,
     "end_time": "2021-09-11T19:25:20.168117",
     "exception": false,
     "start_time": "2021-09-11T19:25:19.979515",
     "status": "completed"
    },
    "tags": []
   },
   "outputs": [
    {
     "name": "stdout",
     "output_type": "stream",
     "text": [
      "~/workspace/genomics-data-index-evaluation/evaluations/simulation/simulations/cov-30/simulated_data/reads_initial ~/workspace/genomics-data-index-evaluation/evaluations/simulation\r\n"
     ]
    },
    {
     "name": "stdout",
     "output_type": "stream",
     "text": [
      "~/workspace/genomics-data-index-evaluation/evaluations/simulation\r\n"
     ]
    }
   ],
   "source": [
    "import os\n",
    "\n",
    "# Fix warning about locale unset\n",
    "os.environ['LANG'] = 'en_US.UTF-8'\n",
    "\n",
    "!pushd {initial_reads_dir}; prename 's/data_//' *.fq.gz; popd"
   ]
  },
  {
   "cell_type": "markdown",
   "id": "median-belle",
   "metadata": {
    "papermill": {
     "duration": 0.008475,
     "end_time": "2021-09-11T19:25:20.189865",
     "exception": false,
     "start_time": "2021-09-11T19:25:20.181390",
     "status": "completed"
    },
    "tags": []
   },
   "source": [
    "Jackalope produces reads with non-standard identifiers where pairs of reads don't have matching identifiers. For example:\n",
    "\n",
    "* Pair 1: `@SH08-001-NC_011083-3048632-R/1`\n",
    "* Pair 2: `@SH08-001-NC_011083-3048396-F/2`\n",
    "\n",
    "In order to run snippy, these paired identifiers need to match (except for the `/1` and `/2` suffix).\n",
    "\n",
    "So, I have to replace them all with something unique, but which matches in each pair of files. I do this by replacing the position (I think) with the read number (as it appears in the file). So the above identifiers become:\n",
    "\n",
    "* Pair 1: `@SH08-001-NC_011083-1/1`\n",
    "* Pair 2: `@SH08-001-NC_011083-1/2`"
   ]
  },
  {
   "cell_type": "code",
   "execution_count": 5,
   "id": "remarkable-berry",
   "metadata": {
    "execution": {
     "iopub.execute_input": "2021-09-11T19:25:20.210810Z",
     "iopub.status.busy": "2021-09-11T19:25:20.210218Z",
     "iopub.status.idle": "2021-09-11T19:25:21.203736Z",
     "shell.execute_reply": "2021-09-11T19:25:21.204699Z"
    },
    "papermill": {
     "duration": 1.009194,
     "end_time": "2021-09-11T19:25:21.205000",
     "exception": false,
     "start_time": "2021-09-11T19:25:20.195806",
     "status": "completed"
    },
    "tags": []
   },
   "outputs": [],
   "source": [
    "import glob\n",
    "import os\n",
    "\n",
    "files = [os.path.basename(f) for f in glob.glob(f'{initial_reads_dir}/*.fq.gz')]\n",
    "!parallel -j {ncores} -I% 'gzip -d --stdout {initial_reads_dir}/% | perl scripts/replace-fastq-header.pl | gzip > {reads_dir}/%' \\\n",
    "    ::: {' '.join(files)}"
   ]
  },
  {
   "cell_type": "code",
   "execution_count": 6,
   "id": "8318e7a8-1057-4e4f-aaec-fccdec42a75f",
   "metadata": {
    "execution": {
     "iopub.execute_input": "2021-09-11T19:25:21.234106Z",
     "iopub.status.busy": "2021-09-11T19:25:21.233618Z",
     "iopub.status.idle": "2021-09-11T19:25:21.250517Z",
     "shell.execute_reply": "2021-09-11T19:25:21.251213Z"
    },
    "papermill": {
     "duration": 0.032174,
     "end_time": "2021-09-11T19:25:21.251428",
     "exception": false,
     "start_time": "2021-09-11T19:25:21.219254",
     "status": "completed"
    },
    "tags": []
   },
   "outputs": [],
   "source": [
    "import shutil\n",
    "\n",
    "shutil.rmtree(initial_reads_dir)"
   ]
  },
  {
   "cell_type": "markdown",
   "id": "cf630b4f-ed63-4e14-9657-e0aaea0953ab",
   "metadata": {
    "papermill": {
     "duration": 0.00857,
     "end_time": "2021-09-11T19:25:21.270949",
     "exception": false,
     "start_time": "2021-09-11T19:25:21.262379",
     "status": "completed"
    },
    "tags": []
   },
   "source": [
    "# 3. Fix assemblies\n",
    "\n",
    "Fix assembly genome names"
   ]
  },
  {
   "cell_type": "code",
   "execution_count": 7,
   "id": "08fac610-3ab3-4afa-9873-406973041963",
   "metadata": {
    "execution": {
     "iopub.execute_input": "2021-09-11T19:25:21.288960Z",
     "iopub.status.busy": "2021-09-11T19:25:21.285342Z",
     "iopub.status.idle": "2021-09-11T19:25:21.465955Z",
     "shell.execute_reply": "2021-09-11T19:25:21.464990Z"
    },
    "papermill": {
     "duration": 0.188573,
     "end_time": "2021-09-11T19:25:21.466193",
     "exception": false,
     "start_time": "2021-09-11T19:25:21.277620",
     "status": "completed"
    },
    "tags": []
   },
   "outputs": [
    {
     "name": "stdout",
     "output_type": "stream",
     "text": [
      "~/workspace/genomics-data-index-evaluation/evaluations/simulation/simulations/cov-30/simulated_data/assemblies ~/workspace/genomics-data-index-evaluation/evaluations/simulation\r\n"
     ]
    },
    {
     "name": "stdout",
     "output_type": "stream",
     "text": [
      "~/workspace/genomics-data-index-evaluation/evaluations/simulation\r\n"
     ]
    }
   ],
   "source": [
    "!pushd {assemblies_dir}; prename 's/data__//' *.fa.gz; popd"
   ]
  }
 ],
 "metadata": {
  "kernelspec": {
   "display_name": "Python 3 (ipykernel)",
   "language": "python",
   "name": "python3"
  },
  "language_info": {
   "codemirror_mode": {
    "name": "ipython",
    "version": 3
   },
   "file_extension": ".py",
   "mimetype": "text/x-python",
   "name": "python",
   "nbconvert_exporter": "python",
   "pygments_lexer": "ipython3",
   "version": "3.8.10"
  },
  "papermill": {
   "default_parameters": {},
   "duration": 2.698688,
   "end_time": "2021-09-11T19:25:21.591784",
   "environment_variables": {},
   "exception": null,
   "input_path": "template-2-fix-simulated-files.ipynb",
   "output_path": "2-fix-simulated-files.simulation-cov-30.ipynb",
   "parameters": {
    "iterations": 3,
    "mincov": 10,
    "read_coverage": 30,
    "simulation_dir": "simulations/cov-30",
    "sub_alpha": 0.2
   },
   "start_time": "2021-09-11T19:25:18.893096",
   "version": "2.3.3"
  }
 },
 "nbformat": 4,
 "nbformat_minor": 5
}