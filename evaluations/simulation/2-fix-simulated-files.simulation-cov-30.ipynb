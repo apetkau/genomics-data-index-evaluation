{
 "cells": [
  {
   "cell_type": "markdown",
   "id": "acfa5482-d626-44d6-b613-863e6911fa98",
   "metadata": {
    "papermill": {
     "duration": 0.01453,
     "end_time": "2021-09-02T02:57:18.068275",
     "exception": false,
     "start_time": "2021-09-02T02:57:18.053745",
     "status": "completed"
    },
    "tags": []
   },
   "source": [
    "# 1. Parameters"
   ]
  },
  {
   "cell_type": "code",
   "execution_count": 1,
   "id": "36126d74-a9d8-4431-ba49-767c1fc2ec49",
   "metadata": {
    "execution": {
     "iopub.execute_input": "2021-09-02T02:57:18.096777Z",
     "iopub.status.busy": "2021-09-02T02:57:18.096258Z",
     "iopub.status.idle": "2021-09-02T02:57:18.101239Z",
     "shell.execute_reply": "2021-09-02T02:57:18.100467Z"
    },
    "papermill": {
     "duration": 0.024589,
     "end_time": "2021-09-02T02:57:18.101401",
     "exception": false,
     "start_time": "2021-09-02T02:57:18.076812",
     "status": "completed"
    },
    "tags": [
     "parameters"
    ]
   },
   "outputs": [],
   "source": [
    "# Defaults\n",
    "simulation_dir = 'simulations/unset'\n",
    "ncores = 48"
   ]
  },
  {
   "cell_type": "code",
   "execution_count": 2,
   "id": "3ee46d76",
   "metadata": {
    "execution": {
     "iopub.execute_input": "2021-09-02T02:57:18.122434Z",
     "iopub.status.busy": "2021-09-02T02:57:18.121966Z",
     "iopub.status.idle": "2021-09-02T02:57:18.125307Z",
     "shell.execute_reply": "2021-09-02T02:57:18.124923Z"
    },
    "papermill": {
     "duration": 0.016366,
     "end_time": "2021-09-02T02:57:18.125407",
     "exception": false,
     "start_time": "2021-09-02T02:57:18.109041",
     "status": "completed"
    },
    "tags": [
     "injected-parameters"
    ]
   },
   "outputs": [],
   "source": [
    "# Parameters\n",
    "read_coverage = 30\n",
    "mincov = 10\n",
    "simulation_dir = \"simulations/cov-30\"\n",
    "iterations = 3\n"
   ]
  },
  {
   "cell_type": "code",
   "execution_count": 3,
   "id": "15e911d7-0ffc-4110-aefe-71bc77e689cd",
   "metadata": {
    "execution": {
     "iopub.execute_input": "2021-09-02T02:57:18.145053Z",
     "iopub.status.busy": "2021-09-02T02:57:18.144651Z",
     "iopub.status.idle": "2021-09-02T02:57:18.148037Z",
     "shell.execute_reply": "2021-09-02T02:57:18.148439Z"
    },
    "papermill": {
     "duration": 0.017384,
     "end_time": "2021-09-02T02:57:18.148575",
     "exception": false,
     "start_time": "2021-09-02T02:57:18.131191",
     "status": "completed"
    },
    "tags": []
   },
   "outputs": [],
   "source": [
    "from pathlib import Path\n",
    "import os\n",
    "\n",
    "simulation_data_dir = Path(simulation_dir) / 'simulated_data'\n",
    "initial_reads_dir = simulation_data_dir / 'reads_initial'\n",
    "reads_dir = simulation_data_dir / 'reads'\n",
    "assemblies_dir = simulation_data_dir / 'assemblies'\n",
    "\n",
    "if not reads_dir.exists():\n",
    "    os.mkdir(reads_dir)"
   ]
  },
  {
   "cell_type": "markdown",
   "id": "rotary-regard",
   "metadata": {
    "papermill": {
     "duration": 0.005285,
     "end_time": "2021-09-02T02:57:18.159735",
     "exception": false,
     "start_time": "2021-09-02T02:57:18.154450",
     "status": "completed"
    },
    "tags": []
   },
   "source": [
    "# 2. Fix reads\n",
    "\n",
    "Fix read file names and data so they can be indexed."
   ]
  },
  {
   "cell_type": "code",
   "execution_count": 4,
   "id": "convenient-blackberry",
   "metadata": {
    "execution": {
     "iopub.execute_input": "2021-09-02T02:57:18.174705Z",
     "iopub.status.busy": "2021-09-02T02:57:18.174312Z",
     "iopub.status.idle": "2021-09-02T02:57:18.352777Z",
     "shell.execute_reply": "2021-09-02T02:57:18.353606Z"
    },
    "papermill": {
     "duration": 0.189928,
     "end_time": "2021-09-02T02:57:18.353902",
     "exception": false,
     "start_time": "2021-09-02T02:57:18.163974",
     "status": "completed"
    },
    "tags": []
   },
   "outputs": [
    {
     "name": "stdout",
     "output_type": "stream",
     "text": [
      "~/workspace/genomics-data-index-evaluation/evaluations/simulation/simulations/cov-30/simulated_data/reads_initial ~/workspace/genomics-data-index-evaluation/evaluations/simulation\r\n"
     ]
    },
    {
     "name": "stdout",
     "output_type": "stream",
     "text": [
      "~/workspace/genomics-data-index-evaluation/evaluations/simulation\r\n"
     ]
    }
   ],
   "source": [
    "import os\n",
    "\n",
    "# Fix warning about locale unset\n",
    "os.environ['LANG'] = 'en_US.UTF-8'\n",
    "\n",
    "!pushd {initial_reads_dir}; prename 's/data_//' *.fq.gz; popd"
   ]
  },
  {
   "cell_type": "markdown",
   "id": "median-belle",
   "metadata": {
    "papermill": {
     "duration": 0.009093,
     "end_time": "2021-09-02T02:57:18.376892",
     "exception": false,
     "start_time": "2021-09-02T02:57:18.367799",
     "status": "completed"
    },
    "tags": []
   },
   "source": [
    "Jackalope produces reads with non-standard identifiers where pairs of reads don't have matching identifiers. For example:\n",
    "\n",
    "* Pair 1: `@SH08-001-NC_011083-3048632-R/1`\n",
    "* Pair 2: `@SH08-001-NC_011083-3048396-F/2`\n",
    "\n",
    "In order to run snippy, these paired identifiers need to match (except for the `/1` and `/2` suffix).\n",
    "\n",
    "So, I have to replace them all with something unique, but which matches in each pair of files. I do this by replacing the position (I think) with the read number (as it appears in the file). So the above identifiers become:\n",
    "\n",
    "* Pair 1: `@SH08-001-NC_011083-1/1`\n",
    "* Pair 2: `@SH08-001-NC_011083-1/2`"
   ]
  },
  {
   "cell_type": "code",
   "execution_count": 5,
   "id": "remarkable-berry",
   "metadata": {
    "execution": {
     "iopub.execute_input": "2021-09-02T02:57:18.397756Z",
     "iopub.status.busy": "2021-09-02T02:57:18.397350Z",
     "iopub.status.idle": "2021-09-02T02:57:19.363767Z",
     "shell.execute_reply": "2021-09-02T02:57:19.364675Z"
    },
    "papermill": {
     "duration": 0.981644,
     "end_time": "2021-09-02T02:57:19.365027",
     "exception": false,
     "start_time": "2021-09-02T02:57:18.383383",
     "status": "completed"
    },
    "tags": []
   },
   "outputs": [],
   "source": [
    "import glob\n",
    "import os\n",
    "\n",
    "files = [os.path.basename(f) for f in glob.glob(f'{initial_reads_dir}/*.fq.gz')]\n",
    "!parallel -j {ncores} -I% 'gzip -d --stdout {initial_reads_dir}/% | perl scripts/replace-fastq-header.pl | gzip > {reads_dir}/%' \\\n",
    "    ::: {' '.join(files)}"
   ]
  },
  {
   "cell_type": "code",
   "execution_count": 6,
   "id": "8318e7a8-1057-4e4f-aaec-fccdec42a75f",
   "metadata": {
    "execution": {
     "iopub.execute_input": "2021-09-02T02:57:19.396123Z",
     "iopub.status.busy": "2021-09-02T02:57:19.395643Z",
     "iopub.status.idle": "2021-09-02T02:57:19.410262Z",
     "shell.execute_reply": "2021-09-02T02:57:19.411099Z"
    },
    "papermill": {
     "duration": 0.031493,
     "end_time": "2021-09-02T02:57:19.411385",
     "exception": false,
     "start_time": "2021-09-02T02:57:19.379892",
     "status": "completed"
    },
    "tags": []
   },
   "outputs": [],
   "source": [
    "import shutil\n",
    "\n",
    "shutil.rmtree(initial_reads_dir)"
   ]
  },
  {
   "cell_type": "markdown",
   "id": "cf630b4f-ed63-4e14-9657-e0aaea0953ab",
   "metadata": {
    "papermill": {
     "duration": 0.008953,
     "end_time": "2021-09-02T02:57:19.433195",
     "exception": false,
     "start_time": "2021-09-02T02:57:19.424242",
     "status": "completed"
    },
    "tags": []
   },
   "source": [
    "# 3. Fix assemblies\n",
    "\n",
    "Fix assembly genome names"
   ]
  },
  {
   "cell_type": "code",
   "execution_count": 7,
   "id": "08fac610-3ab3-4afa-9873-406973041963",
   "metadata": {
    "execution": {
     "iopub.execute_input": "2021-09-02T02:57:19.452493Z",
     "iopub.status.busy": "2021-09-02T02:57:19.451781Z",
     "iopub.status.idle": "2021-09-02T02:57:19.627712Z",
     "shell.execute_reply": "2021-09-02T02:57:19.628570Z"
    },
    "papermill": {
     "duration": 0.188821,
     "end_time": "2021-09-02T02:57:19.628865",
     "exception": false,
     "start_time": "2021-09-02T02:57:19.440044",
     "status": "completed"
    },
    "tags": []
   },
   "outputs": [
    {
     "name": "stdout",
     "output_type": "stream",
     "text": [
      "~/workspace/genomics-data-index-evaluation/evaluations/simulation/simulations/cov-30/simulated_data/assemblies ~/workspace/genomics-data-index-evaluation/evaluations/simulation\r\n"
     ]
    },
    {
     "name": "stdout",
     "output_type": "stream",
     "text": [
      "~/workspace/genomics-data-index-evaluation/evaluations/simulation\r\n"
     ]
    }
   ],
   "source": [
    "!pushd {assemblies_dir}; prename 's/data__//' *.fa.gz; popd"
   ]
  }
 ],
 "metadata": {
  "kernelspec": {
   "display_name": "Python 3 (ipykernel)",
   "language": "python",
   "name": "python3"
  },
  "language_info": {
   "codemirror_mode": {
    "name": "ipython",
    "version": 3
   },
   "file_extension": ".py",
   "mimetype": "text/x-python",
   "name": "python",
   "nbconvert_exporter": "python",
   "pygments_lexer": "ipython3",
   "version": "3.8.10"
  },
  "papermill": {
   "default_parameters": {},
   "duration": 2.681919,
   "end_time": "2021-09-02T02:57:19.753655",
   "environment_variables": {},
   "exception": null,
   "input_path": "template-2-fix-simulated-files.ipynb",
   "output_path": "2-fix-simulated-files.simulation-cov-30.ipynb",
   "parameters": {
    "iterations": 3,
    "mincov": 10,
    "read_coverage": 30,
    "simulation_dir": "simulations/cov-30"
   },
   "start_time": "2021-09-02T02:57:17.071736",
   "version": "2.3.3"
  }
 },
 "nbformat": 4,
 "nbformat_minor": 5
}