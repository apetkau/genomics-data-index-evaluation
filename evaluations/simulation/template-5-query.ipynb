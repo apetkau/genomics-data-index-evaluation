{
 "cells": [
  {
   "cell_type": "markdown",
   "id": "f1bc3e40-3158-4009-8a9b-371a7d2d2efe",
   "metadata": {},
   "source": [
    "# 1. Parameters"
   ]
  },
  {
   "cell_type": "code",
   "execution_count": 1,
   "id": "cf8880a6-5194-4ced-be67-c0610a332a31",
   "metadata": {
    "tags": [
     "parameters"
    ]
   },
   "outputs": [],
   "source": [
    "simulation_dir = 'simulations/unset'"
   ]
  },
  {
   "cell_type": "code",
   "execution_count": 2,
   "id": "7e54ac3f-8dff-492e-8096-65a2ed9f5c90",
   "metadata": {},
   "outputs": [],
   "source": [
    "from pathlib import Path\n",
    "\n",
    "simulation_dir_path = Path(simulation_dir)\n",
    "\n",
    "case_name = str(simulation_dir_path.name)\n",
    "index_reads_path = simulation_dir_path / 'index-reads'\n",
    "index_assemblies_path = simulation_dir_path / 'index-assemblies'\n",
    "\n",
    "output_api_reads_path = simulation_dir_path / 'query-reads-api.tsv'\n",
    "output_api_assemblies_path = simulation_dir_path / 'query-assemblies-api.tsv'"
   ]
  },
  {
   "cell_type": "markdown",
   "id": "54537d03-809a-487c-8686-5e1791dc11de",
   "metadata": {},
   "source": [
    "# 2. Test query command-line"
   ]
  },
  {
   "cell_type": "markdown",
   "id": "163cd729-a654-499a-a5b7-dc0bd78d8128",
   "metadata": {},
   "source": [
    "# 3. Test query API"
   ]
  },
  {
   "cell_type": "code",
   "execution_count": 3,
   "id": "e347bcfb-4d0c-4fe8-b68c-00de30d924d9",
   "metadata": {},
   "outputs": [],
   "source": [
    "from typing import List\n",
    "import pandas as pd\n",
    "import genomics_data_index.api as gdi\n",
    "\n",
    "def create_timing_df_single_case(timings: List[float], name: str, kind: str,\n",
    "                                number_features: int) -> pd.DataFrame:\n",
    "    iterations = len(timings)\n",
    "    return pd.DataFrame({\n",
    "        'Name': [name]*iterations,\n",
    "        'Kind': [kind]*iterations,\n",
    "        'Number features': [number_features]*iterations,\n",
    "        'Iteration': range(1, iterations + 1),\n",
    "        'Time': timings,\n",
    "    })\n",
    "\n",
    "def create_timing_df(name: str, index_path: Path) -> pd.DataFrame:\n",
    "    db = gdi.GenomicsDataIndex.connect(index_path)\n",
    "    q = db.samples_query(reference_name='reference', universe='mutations')\n",
    "    number_features = len(q.features_summary())\n",
    "    \n",
    "    # features_summary\n",
    "    result = %timeit -r 10 -o q.features_summary()\n",
    "    fs_df = create_timing_df_single_case(result.timings, name=name, kind='features_summary', number_features=number_features)\n",
    "    \n",
    "    # hasa\n",
    "    result = %timeit -r 10 -o q.hasa(\"chrom0:8983:A:C\")\n",
    "    hasa_df = create_timing_df_single_case(result.timings, name=name, kind='hasa', number_features=number_features)\n",
    "    \n",
    "    # isa\n",
    "    result = %timeit -r 10 -o q.isa(\"SH11-001\")\n",
    "    isa_df = create_timing_df_single_case(result.timings, name=name, kind='isa', number_features=number_features)\n",
    "    \n",
    "    # isin distance\n",
    "    result = %timeit -r 10 -o q.isin(\"SH11-001\", kind='distance', distance=20, units='substitutions')\n",
    "    isin_distance_df = create_timing_df_single_case(result.timings, name=name, kind='isin distance', number_features=number_features)\n",
    "    \n",
    "    # isin mrca\n",
    "    result = %timeit -r 10 -o q.isin([\"SH11-001\", \"SH10-001\"], kind='mrca')\n",
    "    isin_mrca_df = create_timing_df_single_case(result.timings, name=name, kind='isin mrca', number_features=number_features)\n",
    "\n",
    "    return pd.concat([fs_df, hasa_df, isa_df, isin_distance_df, isin_mrca_df])"
   ]
  },
  {
   "cell_type": "markdown",
   "id": "f2180ae5-7850-4680-8e9e-45872d56accb",
   "metadata": {},
   "source": [
    "## 3.1. Test reads"
   ]
  },
  {
   "cell_type": "code",
   "execution_count": 4,
   "id": "04d3a9c7-23a6-4a04-8735-a637c5534ba8",
   "metadata": {},
   "outputs": [
    {
     "name": "stdout",
     "output_type": "stream",
     "text": [
      "53.8 ms ± 931 µs per loop (mean ± std. dev. of 10 runs, 10 loops each)\n",
      "1.09 ms ± 18.3 µs per loop (mean ± std. dev. of 10 runs, 1000 loops each)\n",
      "400 µs ± 11.7 µs per loop (mean ± std. dev. of 10 runs, 1000 loops each)\n",
      "2.1 ms ± 35.2 µs per loop (mean ± std. dev. of 10 runs, 1000 loops each)\n",
      "710 µs ± 467 ns per loop (mean ± std. dev. of 10 runs, 1000 loops each)\n"
     ]
    },
    {
     "data": {
      "text/html": [
       "<div>\n",
       "<style scoped>\n",
       "    .dataframe tbody tr th:only-of-type {\n",
       "        vertical-align: middle;\n",
       "    }\n",
       "\n",
       "    .dataframe tbody tr th {\n",
       "        vertical-align: top;\n",
       "    }\n",
       "\n",
       "    .dataframe thead th {\n",
       "        text-align: right;\n",
       "    }\n",
       "</style>\n",
       "<table border=\"1\" class=\"dataframe\">\n",
       "  <thead>\n",
       "    <tr style=\"text-align: right;\">\n",
       "      <th></th>\n",
       "      <th>Name</th>\n",
       "      <th>Kind</th>\n",
       "      <th>Number features</th>\n",
       "      <th>Iteration</th>\n",
       "      <th>Time</th>\n",
       "    </tr>\n",
       "  </thead>\n",
       "  <tbody>\n",
       "    <tr>\n",
       "      <th>0</th>\n",
       "      <td>unset (reads)</td>\n",
       "      <td>features_summary</td>\n",
       "      <td>748</td>\n",
       "      <td>1</td>\n",
       "      <td>0.054081</td>\n",
       "    </tr>\n",
       "    <tr>\n",
       "      <th>1</th>\n",
       "      <td>unset (reads)</td>\n",
       "      <td>features_summary</td>\n",
       "      <td>748</td>\n",
       "      <td>2</td>\n",
       "      <td>0.053287</td>\n",
       "    </tr>\n",
       "    <tr>\n",
       "      <th>2</th>\n",
       "      <td>unset (reads)</td>\n",
       "      <td>features_summary</td>\n",
       "      <td>748</td>\n",
       "      <td>3</td>\n",
       "      <td>0.053127</td>\n",
       "    </tr>\n",
       "    <tr>\n",
       "      <th>3</th>\n",
       "      <td>unset (reads)</td>\n",
       "      <td>features_summary</td>\n",
       "      <td>748</td>\n",
       "      <td>4</td>\n",
       "      <td>0.054260</td>\n",
       "    </tr>\n",
       "    <tr>\n",
       "      <th>4</th>\n",
       "      <td>unset (reads)</td>\n",
       "      <td>features_summary</td>\n",
       "      <td>748</td>\n",
       "      <td>5</td>\n",
       "      <td>0.053022</td>\n",
       "    </tr>\n",
       "  </tbody>\n",
       "</table>\n",
       "</div>"
      ],
      "text/plain": [
       "            Name              Kind  Number features  Iteration      Time\n",
       "0  unset (reads)  features_summary              748          1  0.054081\n",
       "1  unset (reads)  features_summary              748          2  0.053287\n",
       "2  unset (reads)  features_summary              748          3  0.053127\n",
       "3  unset (reads)  features_summary              748          4  0.054260\n",
       "4  unset (reads)  features_summary              748          5  0.053022"
      ]
     },
     "execution_count": 4,
     "metadata": {},
     "output_type": "execute_result"
    }
   ],
   "source": [
    "reads_df = create_timing_df(name=f'{case_name} (reads)', index_path=index_reads_path)\n",
    "reads_df.head(5)"
   ]
  },
  {
   "cell_type": "code",
   "execution_count": 5,
   "id": "09e7fb11-5c83-4983-82b9-4a54fca23b52",
   "metadata": {},
   "outputs": [],
   "source": [
    "reads_df.to_csv(output_api_reads_path, sep='\\t', index=False)"
   ]
  },
  {
   "cell_type": "markdown",
   "id": "2a7874a5-3ecd-4e59-a834-3c27943e4bf0",
   "metadata": {},
   "source": [
    "## 3.2. Test assemblies"
   ]
  },
  {
   "cell_type": "code",
   "execution_count": 6,
   "id": "76a8327f-fcc7-4ec3-a140-877ed417a510",
   "metadata": {},
   "outputs": [
    {
     "name": "stderr",
     "output_type": "stream",
     "text": [
      "Attempting to set global database_path_translator=<genomics_data_index.storage.model.db.DatabasePathTranslator.DatabasePathTranslator object at 0x7f1483da7f40> but it is already set\n"
     ]
    },
    {
     "name": "stdout",
     "output_type": "stream",
     "text": [
      "58.7 ms ± 474 µs per loop (mean ± std. dev. of 10 runs, 10 loops each)\n",
      "964 µs ± 1.66 µs per loop (mean ± std. dev. of 10 runs, 1000 loops each)\n",
      "413 µs ± 203 ns per loop (mean ± std. dev. of 10 runs, 1000 loops each)\n",
      "2.4 ms ± 1.09 µs per loop (mean ± std. dev. of 10 runs, 100 loops each)\n",
      "686 µs ± 1.18 µs per loop (mean ± std. dev. of 10 runs, 1000 loops each)\n"
     ]
    },
    {
     "data": {
      "text/html": [
       "<div>\n",
       "<style scoped>\n",
       "    .dataframe tbody tr th:only-of-type {\n",
       "        vertical-align: middle;\n",
       "    }\n",
       "\n",
       "    .dataframe tbody tr th {\n",
       "        vertical-align: top;\n",
       "    }\n",
       "\n",
       "    .dataframe thead th {\n",
       "        text-align: right;\n",
       "    }\n",
       "</style>\n",
       "<table border=\"1\" class=\"dataframe\">\n",
       "  <thead>\n",
       "    <tr style=\"text-align: right;\">\n",
       "      <th></th>\n",
       "      <th>Name</th>\n",
       "      <th>Kind</th>\n",
       "      <th>Number features</th>\n",
       "      <th>Iteration</th>\n",
       "      <th>Time</th>\n",
       "    </tr>\n",
       "  </thead>\n",
       "  <tbody>\n",
       "    <tr>\n",
       "      <th>0</th>\n",
       "      <td>unset (assemblies)</td>\n",
       "      <td>features_summary</td>\n",
       "      <td>765</td>\n",
       "      <td>1</td>\n",
       "      <td>0.057763</td>\n",
       "    </tr>\n",
       "    <tr>\n",
       "      <th>1</th>\n",
       "      <td>unset (assemblies)</td>\n",
       "      <td>features_summary</td>\n",
       "      <td>765</td>\n",
       "      <td>2</td>\n",
       "      <td>0.057889</td>\n",
       "    </tr>\n",
       "    <tr>\n",
       "      <th>2</th>\n",
       "      <td>unset (assemblies)</td>\n",
       "      <td>features_summary</td>\n",
       "      <td>765</td>\n",
       "      <td>3</td>\n",
       "      <td>0.058605</td>\n",
       "    </tr>\n",
       "    <tr>\n",
       "      <th>3</th>\n",
       "      <td>unset (assemblies)</td>\n",
       "      <td>features_summary</td>\n",
       "      <td>765</td>\n",
       "      <td>4</td>\n",
       "      <td>0.058990</td>\n",
       "    </tr>\n",
       "    <tr>\n",
       "      <th>4</th>\n",
       "      <td>unset (assemblies)</td>\n",
       "      <td>features_summary</td>\n",
       "      <td>765</td>\n",
       "      <td>5</td>\n",
       "      <td>0.059021</td>\n",
       "    </tr>\n",
       "  </tbody>\n",
       "</table>\n",
       "</div>"
      ],
      "text/plain": [
       "                 Name              Kind  Number features  Iteration      Time\n",
       "0  unset (assemblies)  features_summary              765          1  0.057763\n",
       "1  unset (assemblies)  features_summary              765          2  0.057889\n",
       "2  unset (assemblies)  features_summary              765          3  0.058605\n",
       "3  unset (assemblies)  features_summary              765          4  0.058990\n",
       "4  unset (assemblies)  features_summary              765          5  0.059021"
      ]
     },
     "execution_count": 6,
     "metadata": {},
     "output_type": "execute_result"
    }
   ],
   "source": [
    "assemblies_df = create_timing_df(name=f'{case_name} (assemblies)', index_path=index_assemblies_path)\n",
    "assemblies_df.head(5)"
   ]
  },
  {
   "cell_type": "code",
   "execution_count": 7,
   "id": "aa0b72cc-c7d5-4bac-885b-2f3309739dc9",
   "metadata": {},
   "outputs": [],
   "source": [
    "assemblies_df.to_csv(output_api_assemblies_path, sep='\\t', index=False)"
   ]
  }
 ],
 "metadata": {
  "kernelspec": {
   "display_name": "Python 3 (ipykernel)",
   "language": "python",
   "name": "python3"
  },
  "language_info": {
   "codemirror_mode": {
    "name": "ipython",
    "version": 3
   },
   "file_extension": ".py",
   "mimetype": "text/x-python",
   "name": "python",
   "nbconvert_exporter": "python",
   "pygments_lexer": "ipython3",
   "version": "3.8.10"
  }
 },
 "nbformat": 4,
 "nbformat_minor": 5
}
