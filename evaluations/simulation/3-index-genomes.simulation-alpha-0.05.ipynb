{
 "cells": [
  {
   "cell_type": "markdown",
   "id": "7d3667b4-b1f8-4347-96e3-830c25b06740",
   "metadata": {
    "papermill": {
     "duration": 0.019003,
     "end_time": "2022-03-09T21:55:28.703248",
     "exception": false,
     "start_time": "2022-03-09T21:55:28.684245",
     "status": "completed"
    },
    "tags": []
   },
   "source": [
    "# 1. Parameters"
   ]
  },
  {
   "cell_type": "code",
   "execution_count": 1,
   "id": "d4ab0749-b286-4c34-b63c-a854e4952bae",
   "metadata": {
    "execution": {
     "iopub.execute_input": "2022-03-09T21:55:28.735033Z",
     "iopub.status.busy": "2022-03-09T21:55:28.734488Z",
     "iopub.status.idle": "2022-03-09T21:55:28.738577Z",
     "shell.execute_reply": "2022-03-09T21:55:28.738978Z"
    },
    "papermill": {
     "duration": 0.02602,
     "end_time": "2022-03-09T21:55:28.739194",
     "exception": false,
     "start_time": "2022-03-09T21:55:28.713174",
     "status": "completed"
    },
    "tags": [
     "parameters"
    ]
   },
   "outputs": [],
   "source": [
    "# Defaults\n",
    "simulation_dir = 'simulations/unset'\n",
    "reference_file = 'simulations/reference/reference.fa.gz'\n",
    "iterations = 3\n",
    "mincov = 10\n",
    "ncores = 32"
   ]
  },
  {
   "cell_type": "code",
   "execution_count": 2,
   "id": "cdc22804",
   "metadata": {
    "execution": {
     "iopub.execute_input": "2022-03-09T21:55:28.763032Z",
     "iopub.status.busy": "2022-03-09T21:55:28.762627Z",
     "iopub.status.idle": "2022-03-09T21:55:28.765580Z",
     "shell.execute_reply": "2022-03-09T21:55:28.765948Z"
    },
    "papermill": {
     "duration": 0.017126,
     "end_time": "2022-03-09T21:55:28.766060",
     "exception": false,
     "start_time": "2022-03-09T21:55:28.748934",
     "status": "completed"
    },
    "tags": [
     "injected-parameters"
    ]
   },
   "outputs": [],
   "source": [
    "# Parameters\n",
    "read_coverage = 30\n",
    "mincov = 10\n",
    "simulation_dir = \"simulations/alpha-0.05-cov-30\"\n",
    "iterations = 3\n",
    "sub_alpha = 0.05\n"
   ]
  },
  {
   "cell_type": "code",
   "execution_count": 3,
   "id": "ce5962e4-261c-4210-b39b-47044e28466b",
   "metadata": {
    "execution": {
     "iopub.execute_input": "2022-03-09T21:55:28.789562Z",
     "iopub.status.busy": "2022-03-09T21:55:28.789138Z",
     "iopub.status.idle": "2022-03-09T21:55:31.576126Z",
     "shell.execute_reply": "2022-03-09T21:55:31.575170Z"
    },
    "papermill": {
     "duration": 2.802305,
     "end_time": "2022-03-09T21:55:31.576374",
     "exception": false,
     "start_time": "2022-03-09T21:55:28.774069",
     "status": "completed"
    },
    "tags": []
   },
   "outputs": [],
   "source": [
    "from pathlib import Path\n",
    "import imp\n",
    "fp, pathname, description = imp.find_module('gdi_benchmark', ['../../lib'])\n",
    "gdi_benchmark = imp.load_module('gdi_benchmark', fp, pathname, description)\n",
    "\n",
    "simulation_dir_path = Path(simulation_dir)\n",
    "\n",
    "case_name = str(simulation_dir_path.name)\n",
    "reads_dir = simulation_dir_path / 'simulated_data' / 'reads'\n",
    "assemblies_dir = simulation_dir_path / 'simulated_data' / 'assemblies'\n",
    "index_reads_path = simulation_dir_path / 'index-reads'\n",
    "index_assemblies_path = simulation_dir_path / 'index-assemblies'\n",
    "output_reads_tree = index_reads_path / 'reads.tre'\n",
    "output_assemblies_tree = index_assemblies_path / 'assemblies.tre'\n",
    "reference_name = Path(reference_file).name.split('.')[0]"
   ]
  },
  {
   "cell_type": "markdown",
   "id": "f208279e-7558-47fc-9362-da29df92828a",
   "metadata": {
    "papermill": {
     "duration": 0.009197,
     "end_time": "2022-03-09T21:55:31.602200",
     "exception": false,
     "start_time": "2022-03-09T21:55:31.593003",
     "status": "completed"
    },
    "tags": []
   },
   "source": [
    "# 2. Index genomes"
   ]
  },
  {
   "cell_type": "code",
   "execution_count": 4,
   "id": "4e936f7c-2fcd-4188-b0e6-6b3ceb5cdcd2",
   "metadata": {
    "execution": {
     "iopub.execute_input": "2022-03-09T21:55:31.633472Z",
     "iopub.status.busy": "2022-03-09T21:55:31.622196Z",
     "iopub.status.idle": "2022-03-09T21:55:34.924354Z",
     "shell.execute_reply": "2022-03-09T21:55:34.925327Z"
    },
    "papermill": {
     "duration": 3.31638,
     "end_time": "2022-03-09T21:55:34.925639",
     "exception": false,
     "start_time": "2022-03-09T21:55:31.609259",
     "status": "completed"
    },
    "tags": []
   },
   "outputs": [
    {
     "name": "stdout",
     "output_type": "stream",
     "text": [
      "gdi, version 0.6.0.dev2\r\n"
     ]
    }
   ],
   "source": [
    "!gdi --version"
   ]
  },
  {
   "cell_type": "markdown",
   "id": "5409ecf8-2158-4361-9d2f-6b1a6c7c63a6",
   "metadata": {
    "papermill": {
     "duration": 0.010104,
     "end_time": "2022-03-09T21:55:34.953952",
     "exception": false,
     "start_time": "2022-03-09T21:55:34.943848",
     "status": "completed"
    },
    "tags": []
   },
   "source": [
    "## 2.1. Index reads"
   ]
  },
  {
   "cell_type": "code",
   "execution_count": 5,
   "id": "b5324f79-913b-4dac-8122-19ad5c0f24b2",
   "metadata": {
    "execution": {
     "iopub.execute_input": "2022-03-09T21:55:34.986957Z",
     "iopub.status.busy": "2022-03-09T21:55:34.976434Z",
     "iopub.status.idle": "2022-03-09T21:55:38.260798Z",
     "shell.execute_reply": "2022-03-09T21:55:38.261684Z"
    },
    "papermill": {
     "duration": 3.300376,
     "end_time": "2022-03-09T21:55:38.262000",
     "exception": false,
     "start_time": "2022-03-09T21:55:34.961624",
     "status": "completed"
    },
    "tags": []
   },
   "outputs": [
    {
     "name": "stdout",
     "output_type": "stream",
     "text": [
      "\u001b[32m2022-03-09 15:55:37\u001b[0m \u001b[1;30mWARNING:\u001b[0m \u001b[33m--skip-existing-samples is enabled but no --project-dir is set. Will not skip existing samples.\u001b[0m\r\n"
     ]
    }
   ],
   "source": [
    "input_genomes_file = simulation_dir_path / 'input-reads.tsv'\n",
    "\n",
    "!gdi input --absolute {reads_dir}/*.fq.gz > {input_genomes_file}"
   ]
  },
  {
   "cell_type": "code",
   "execution_count": 6,
   "id": "3d63e861-733e-46f2-8bce-bd1a2c7c7058",
   "metadata": {
    "execution": {
     "iopub.execute_input": "2022-03-09T21:55:38.303505Z",
     "iopub.status.busy": "2022-03-09T21:55:38.302293Z",
     "iopub.status.idle": "2022-03-09T22:06:49.032107Z",
     "shell.execute_reply": "2022-03-09T22:06:49.030990Z"
    },
    "papermill": {
     "duration": 670.751641,
     "end_time": "2022-03-09T22:06:49.032514",
     "exception": false,
     "start_time": "2022-03-09T21:55:38.280873",
     "status": "completed"
    },
    "tags": []
   },
   "outputs": [
    {
     "name": "stdout",
     "output_type": "stream",
     "text": [
      "\n",
      "Iteration 1 of index/analysis of 59 samples with 32 cores\n",
      "Removing any extra snakemake directories: ['snakemake-assemblies.1646785456.9885266']\n"
     ]
    },
    {
     "name": "stdout",
     "output_type": "stream",
     "text": [
      "Creating new index: [gdi init simulations/alpha-0.05-cov-30/index-reads]\n"
     ]
    },
    {
     "name": "stdout",
     "output_type": "stream",
     "text": [
      "Creating a new index took 3.40 seconds\n",
      "Analysis running: [gdi --project-dir simulations/alpha-0.05-cov-30/index-reads --ncores 32 analysis --use-conda --no-load-data --reference-file simulations/reference/reference.fa.gz --kmer-size 31 --kmer-size 51 --kmer-size 71 --include-kmer --reads-mincov 10 --input-structured-genomes-file simulations/alpha-0.05-cov-30/input-reads.tsv]\n"
     ]
    },
    {
     "name": "stdout",
     "output_type": "stream",
     "text": [
      "Analysis took 2.16 minutes\n",
      "Index running: [gdi --project-dir simulations/alpha-0.05-cov-30/index-reads --ncores 32 load vcf-kmer --sample-batch-size 2000 --reference-file simulations/reference/reference.fa.gz /home/CSCScience.ca/apetkau/workspace/genomics-data-index-evaluation/evaluations/simulation/snakemake-assemblies.1646862946.2074218/gdi-input.fofn]\n"
     ]
    },
    {
     "name": "stdout",
     "output_type": "stream",
     "text": [
      "Indexing took 0.13 minutes\n",
      "Building tree: [gdi --project-dir simulations/alpha-0.05-cov-30/index-reads --ncores 32 rebuild tree --align-type full --extra-params '--fast -m GTR+F+R4' reference]\n"
     ]
    },
    {
     "name": "stdout",
     "output_type": "stream",
     "text": [
      "Building tree took 1.29 minutes\n"
     ]
    },
    {
     "name": "stderr",
     "output_type": "stream",
     "text": [
      "A reminder to myself to look for a Python solution for directory sizes (instead of running `du`)\n"
     ]
    },
    {
     "name": "stdout",
     "output_type": "stream",
     "text": [
      "\n",
      "Iteration 2 of index/analysis of 59 samples with 32 cores\n",
      "Removing any extra snakemake directories: ['snakemake-assemblies.1646862946.2074218']\n"
     ]
    },
    {
     "name": "stdout",
     "output_type": "stream",
     "text": [
      "Removing any existing indexes simulations/alpha-0.05-cov-30/index-reads\n",
      "Creating new index: [gdi init simulations/alpha-0.05-cov-30/index-reads]\n"
     ]
    },
    {
     "name": "stdout",
     "output_type": "stream",
     "text": [
      "Creating a new index took 3.40 seconds\n",
      "Analysis running: [gdi --project-dir simulations/alpha-0.05-cov-30/index-reads --ncores 32 analysis --use-conda --no-load-data --reference-file simulations/reference/reference.fa.gz --kmer-size 31 --kmer-size 51 --kmer-size 71 --include-kmer --reads-mincov 10 --input-structured-genomes-file simulations/alpha-0.05-cov-30/input-reads.tsv]\n"
     ]
    },
    {
     "name": "stdout",
     "output_type": "stream",
     "text": [
      "Analysis took 1.99 minutes\n",
      "Index running: [gdi --project-dir simulations/alpha-0.05-cov-30/index-reads --ncores 32 load vcf-kmer --sample-batch-size 2000 --reference-file simulations/reference/reference.fa.gz /home/CSCScience.ca/apetkau/workspace/genomics-data-index-evaluation/evaluations/simulation/snakemake-assemblies.1646863166.077092/gdi-input.fofn]\n"
     ]
    },
    {
     "name": "stdout",
     "output_type": "stream",
     "text": [
      "Indexing took 0.14 minutes\n",
      "Building tree: [gdi --project-dir simulations/alpha-0.05-cov-30/index-reads --ncores 32 rebuild tree --align-type full --extra-params '--fast -m GTR+F+R4' reference]\n"
     ]
    },
    {
     "name": "stdout",
     "output_type": "stream",
     "text": [
      "Building tree took 1.46 minutes\n"
     ]
    },
    {
     "name": "stderr",
     "output_type": "stream",
     "text": [
      "Attempting to set global database_path_translator=<genomics_data_index.storage.model.db.DatabasePathTranslator.DatabasePathTranslator object at 0x7fbbcf90cc10> but it is already set\n"
     ]
    },
    {
     "name": "stderr",
     "output_type": "stream",
     "text": [
      "A reminder to myself to look for a Python solution for directory sizes (instead of running `du`)\n"
     ]
    },
    {
     "name": "stdout",
     "output_type": "stream",
     "text": [
      "\n",
      "Iteration 3 of index/analysis of 59 samples with 32 cores\n",
      "Removing any extra snakemake directories: ['snakemake-assemblies.1646863166.077092']\n"
     ]
    },
    {
     "name": "stdout",
     "output_type": "stream",
     "text": [
      "Removing any existing indexes simulations/alpha-0.05-cov-30/index-reads\n",
      "Creating new index: [gdi init simulations/alpha-0.05-cov-30/index-reads]\n"
     ]
    },
    {
     "name": "stdout",
     "output_type": "stream",
     "text": [
      "Creating a new index took 3.10 seconds\n",
      "Analysis running: [gdi --project-dir simulations/alpha-0.05-cov-30/index-reads --ncores 32 analysis --use-conda --no-load-data --reference-file simulations/reference/reference.fa.gz --kmer-size 31 --kmer-size 51 --kmer-size 71 --include-kmer --reads-mincov 10 --input-structured-genomes-file simulations/alpha-0.05-cov-30/input-reads.tsv]\n"
     ]
    },
    {
     "name": "stdout",
     "output_type": "stream",
     "text": [
      "Analysis took 1.81 minutes\n",
      "Index running: [gdi --project-dir simulations/alpha-0.05-cov-30/index-reads --ncores 32 load vcf-kmer --sample-batch-size 2000 --reference-file simulations/reference/reference.fa.gz /home/CSCScience.ca/apetkau/workspace/genomics-data-index-evaluation/evaluations/simulation/snakemake-assemblies.1646863386.4242356/gdi-input.fofn]\n"
     ]
    },
    {
     "name": "stdout",
     "output_type": "stream",
     "text": [
      "Indexing took 0.14 minutes\n",
      "Building tree: [gdi --project-dir simulations/alpha-0.05-cov-30/index-reads --ncores 32 rebuild tree --align-type full --extra-params '--fast -m GTR+F+R4' reference]\n"
     ]
    },
    {
     "name": "stdout",
     "output_type": "stream",
     "text": [
      "Building tree took 1.81 minutes\n"
     ]
    },
    {
     "name": "stderr",
     "output_type": "stream",
     "text": [
      "Attempting to set global database_path_translator=<genomics_data_index.storage.model.db.DatabasePathTranslator.DatabasePathTranslator object at 0x7fbbcf900e50> but it is already set\n"
     ]
    },
    {
     "name": "stderr",
     "output_type": "stream",
     "text": [
      "A reminder to myself to look for a Python solution for directory sizes (instead of running `du`)\n"
     ]
    }
   ],
   "source": [
    "results_handler = gdi_benchmark.BenchmarkResultsHandler(name=f'{case_name} reads')\n",
    "benchmarker = gdi_benchmark.IndexBenchmarker(benchmark_results_handler=results_handler,\n",
    "                                             index_path=index_reads_path, input_files_file=input_genomes_file,\n",
    "                                             reference_file=reference_file, mincov=mincov, build_tree=True,\n",
    "                                             ncores=ncores)\n",
    "\n",
    "benchmark_df = benchmarker.benchmark(iterations=iterations)"
   ]
  },
  {
   "cell_type": "code",
   "execution_count": 7,
   "id": "3bcb6da7-0164-47f2-abdd-a4c159da1e3b",
   "metadata": {
    "execution": {
     "iopub.execute_input": "2022-03-09T22:06:49.098534Z",
     "iopub.status.busy": "2022-03-09T22:06:49.085709Z",
     "iopub.status.idle": "2022-03-09T22:06:49.109748Z",
     "shell.execute_reply": "2022-03-09T22:06:49.110494Z"
    },
    "papermill": {
     "duration": 0.05458,
     "end_time": "2022-03-09T22:06:49.110726",
     "exception": false,
     "start_time": "2022-03-09T22:06:49.056146",
     "status": "completed"
    },
    "tags": []
   },
   "outputs": [
    {
     "data": {
      "text/html": [
       "<div>\n",
       "<style scoped>\n",
       "    .dataframe tbody tr th:only-of-type {\n",
       "        vertical-align: middle;\n",
       "    }\n",
       "\n",
       "    .dataframe tbody tr th {\n",
       "        vertical-align: top;\n",
       "    }\n",
       "\n",
       "    .dataframe thead th {\n",
       "        text-align: right;\n",
       "    }\n",
       "</style>\n",
       "<table border=\"1\" class=\"dataframe\">\n",
       "  <thead>\n",
       "    <tr style=\"text-align: right;\">\n",
       "      <th></th>\n",
       "      <th>Name</th>\n",
       "      <th>Reference name</th>\n",
       "      <th>Iteration</th>\n",
       "      <th>Number samples</th>\n",
       "      <th>Number features (all)</th>\n",
       "      <th>Number features (no unknown)</th>\n",
       "      <th>Number cores</th>\n",
       "      <th>Reference length</th>\n",
       "      <th>Analysis runtime</th>\n",
       "      <th>Analysis memory (max)</th>\n",
       "      <th>...</th>\n",
       "      <th>Analysis disk uage</th>\n",
       "      <th>Index runtime</th>\n",
       "      <th>Index memory (max)</th>\n",
       "      <th>Index memory (max/process)</th>\n",
       "      <th>Index size</th>\n",
       "      <th>Tree runtime</th>\n",
       "      <th>Tree memory (max)</th>\n",
       "      <th>Tree memory (max/process)</th>\n",
       "      <th>Total runtime</th>\n",
       "      <th>Max memory</th>\n",
       "    </tr>\n",
       "  </thead>\n",
       "  <tbody>\n",
       "    <tr>\n",
       "      <th>0</th>\n",
       "      <td>alpha-0.05-cov-30 reads</td>\n",
       "      <td>reference</td>\n",
       "      <td>1</td>\n",
       "      <td>59</td>\n",
       "      <td>2858</td>\n",
       "      <td>842</td>\n",
       "      <td>32</td>\n",
       "      <td>19699</td>\n",
       "      <td>129.16</td>\n",
       "      <td>3.021582e+09</td>\n",
       "      <td>...</td>\n",
       "      <td>2.952307e+09</td>\n",
       "      <td>7.96</td>\n",
       "      <td>5.949698e+09</td>\n",
       "      <td>287678464.0</td>\n",
       "      <td>2023424.0</td>\n",
       "      <td>77.02</td>\n",
       "      <td>262873088.0</td>\n",
       "      <td>234360832.0</td>\n",
       "      <td>214.14</td>\n",
       "      <td>5.949698e+09</td>\n",
       "    </tr>\n",
       "    <tr>\n",
       "      <th>0</th>\n",
       "      <td>alpha-0.05-cov-30 reads</td>\n",
       "      <td>reference</td>\n",
       "      <td>2</td>\n",
       "      <td>59</td>\n",
       "      <td>2858</td>\n",
       "      <td>842</td>\n",
       "      <td>32</td>\n",
       "      <td>19699</td>\n",
       "      <td>119.28</td>\n",
       "      <td>3.089129e+09</td>\n",
       "      <td>...</td>\n",
       "      <td>2.952294e+09</td>\n",
       "      <td>8.06</td>\n",
       "      <td>5.945512e+09</td>\n",
       "      <td>287449088.0</td>\n",
       "      <td>2019328.0</td>\n",
       "      <td>87.66</td>\n",
       "      <td>271761408.0</td>\n",
       "      <td>234795008.0</td>\n",
       "      <td>215.00</td>\n",
       "      <td>5.945512e+09</td>\n",
       "    </tr>\n",
       "    <tr>\n",
       "      <th>0</th>\n",
       "      <td>alpha-0.05-cov-30 reads</td>\n",
       "      <td>reference</td>\n",
       "      <td>3</td>\n",
       "      <td>59</td>\n",
       "      <td>2858</td>\n",
       "      <td>842</td>\n",
       "      <td>32</td>\n",
       "      <td>19699</td>\n",
       "      <td>108.66</td>\n",
       "      <td>3.021296e+09</td>\n",
       "      <td>...</td>\n",
       "      <td>2.952303e+09</td>\n",
       "      <td>8.12</td>\n",
       "      <td>5.933679e+09</td>\n",
       "      <td>287141888.0</td>\n",
       "      <td>2023424.0</td>\n",
       "      <td>108.53</td>\n",
       "      <td>272502784.0</td>\n",
       "      <td>234586112.0</td>\n",
       "      <td>225.31</td>\n",
       "      <td>5.933679e+09</td>\n",
       "    </tr>\n",
       "  </tbody>\n",
       "</table>\n",
       "<p>3 rows × 21 columns</p>\n",
       "</div>"
      ],
      "text/plain": [
       "                      Name Reference name  Iteration  Number samples  \\\n",
       "0  alpha-0.05-cov-30 reads      reference          1              59   \n",
       "0  alpha-0.05-cov-30 reads      reference          2              59   \n",
       "0  alpha-0.05-cov-30 reads      reference          3              59   \n",
       "\n",
       "   Number features (all)  Number features (no unknown)  Number cores  \\\n",
       "0                   2858                           842            32   \n",
       "0                   2858                           842            32   \n",
       "0                   2858                           842            32   \n",
       "\n",
       "   Reference length  Analysis runtime  Analysis memory (max)  ...  \\\n",
       "0             19699            129.16           3.021582e+09  ...   \n",
       "0             19699            119.28           3.089129e+09  ...   \n",
       "0             19699            108.66           3.021296e+09  ...   \n",
       "\n",
       "   Analysis disk uage  Index runtime  Index memory (max)  \\\n",
       "0        2.952307e+09           7.96        5.949698e+09   \n",
       "0        2.952294e+09           8.06        5.945512e+09   \n",
       "0        2.952303e+09           8.12        5.933679e+09   \n",
       "\n",
       "   Index memory (max/process)  Index size  Tree runtime  Tree memory (max)  \\\n",
       "0                 287678464.0   2023424.0         77.02        262873088.0   \n",
       "0                 287449088.0   2019328.0         87.66        271761408.0   \n",
       "0                 287141888.0   2023424.0        108.53        272502784.0   \n",
       "\n",
       "   Tree memory (max/process)  Total runtime    Max memory  \n",
       "0                234360832.0         214.14  5.949698e+09  \n",
       "0                234795008.0         215.00  5.945512e+09  \n",
       "0                234586112.0         225.31  5.933679e+09  \n",
       "\n",
       "[3 rows x 21 columns]"
      ]
     },
     "execution_count": 7,
     "metadata": {},
     "output_type": "execute_result"
    }
   ],
   "source": [
    "benchmark_df"
   ]
  },
  {
   "cell_type": "code",
   "execution_count": 8,
   "id": "535a9ccc-ab9c-4919-806f-128e1efd2389",
   "metadata": {
    "execution": {
     "iopub.execute_input": "2022-03-09T22:06:49.153626Z",
     "iopub.status.busy": "2022-03-09T22:06:49.152466Z",
     "iopub.status.idle": "2022-03-09T22:06:49.158405Z",
     "shell.execute_reply": "2022-03-09T22:06:49.158056Z"
    },
    "papermill": {
     "duration": 0.023147,
     "end_time": "2022-03-09T22:06:49.158490",
     "exception": false,
     "start_time": "2022-03-09T22:06:49.135343",
     "status": "completed"
    },
    "tags": []
   },
   "outputs": [],
   "source": [
    "index_reads_runtime = simulation_dir_path / 'reads-index-info.tsv'\n",
    "benchmark_df.to_csv(index_reads_runtime, sep='\\t', index=False)"
   ]
  },
  {
   "cell_type": "markdown",
   "id": "c331578f-4026-4a9f-a3ba-288814b02ed2",
   "metadata": {
    "papermill": {
     "duration": 0.011673,
     "end_time": "2022-03-09T22:06:49.182994",
     "exception": false,
     "start_time": "2022-03-09T22:06:49.171321",
     "status": "completed"
    },
    "tags": []
   },
   "source": [
    "## 2.2. Index assemblies"
   ]
  },
  {
   "cell_type": "code",
   "execution_count": 9,
   "id": "6e6664f4-94ee-4c45-b1fc-e048b387fa49",
   "metadata": {
    "execution": {
     "iopub.execute_input": "2022-03-09T22:06:49.223078Z",
     "iopub.status.busy": "2022-03-09T22:06:49.221805Z",
     "iopub.status.idle": "2022-03-09T22:06:52.511599Z",
     "shell.execute_reply": "2022-03-09T22:06:52.510622Z"
    },
    "papermill": {
     "duration": 3.317382,
     "end_time": "2022-03-09T22:06:52.511864",
     "exception": false,
     "start_time": "2022-03-09T22:06:49.194482",
     "status": "completed"
    },
    "tags": []
   },
   "outputs": [
    {
     "name": "stdout",
     "output_type": "stream",
     "text": [
      "\u001b[32m2022-03-09 16:06:52\u001b[0m \u001b[1;30mWARNING:\u001b[0m \u001b[33m--skip-existing-samples is enabled but no --project-dir is set. Will not skip existing samples.\u001b[0m\r\n"
     ]
    }
   ],
   "source": [
    "input_genomes_file = simulation_dir_path / 'input-assemblies.tsv'\n",
    "\n",
    "!gdi input --absolute {assemblies_dir}/*.fa.gz > {input_genomes_file}"
   ]
  },
  {
   "cell_type": "code",
   "execution_count": 10,
   "id": "0a1e62f3-3b0c-4a90-a7fe-f0bc1094e350",
   "metadata": {
    "execution": {
     "iopub.execute_input": "2022-03-09T22:06:52.563267Z",
     "iopub.status.busy": "2022-03-09T22:06:52.561966Z",
     "iopub.status.idle": "2022-03-09T22:16:51.026201Z",
     "shell.execute_reply": "2022-03-09T22:16:51.025184Z"
    },
    "papermill": {
     "duration": 598.486968,
     "end_time": "2022-03-09T22:16:51.026470",
     "exception": false,
     "start_time": "2022-03-09T22:06:52.539502",
     "status": "completed"
    },
    "tags": []
   },
   "outputs": [
    {
     "name": "stdout",
     "output_type": "stream",
     "text": [
      "\n",
      "Iteration 1 of index/analysis of 59 samples with 32 cores\n",
      "Removing any extra snakemake directories: ['snakemake-assemblies.1646863386.4242356']\n"
     ]
    },
    {
     "name": "stdout",
     "output_type": "stream",
     "text": [
      "Creating new index: [gdi init simulations/alpha-0.05-cov-30/index-assemblies]\n"
     ]
    },
    {
     "name": "stdout",
     "output_type": "stream",
     "text": [
      "Creating a new index took 3.31 seconds\n",
      "Analysis running: [gdi --project-dir simulations/alpha-0.05-cov-30/index-assemblies --ncores 32 analysis --use-conda --no-load-data --reference-file simulations/reference/reference.fa.gz --kmer-size 31 --kmer-size 51 --kmer-size 71 --include-kmer --reads-mincov 10 --input-structured-genomes-file simulations/alpha-0.05-cov-30/input-assemblies.tsv]\n"
     ]
    },
    {
     "name": "stdout",
     "output_type": "stream",
     "text": [
      "Analysis took 1.72 minutes\n",
      "Index running: [gdi --project-dir simulations/alpha-0.05-cov-30/index-assemblies --ncores 32 load vcf-kmer --sample-batch-size 2000 --reference-file simulations/reference/reference.fa.gz /home/CSCScience.ca/apetkau/workspace/genomics-data-index-evaluation/evaluations/simulation/snakemake-assemblies.1646863620.5486267/gdi-input.fofn]\n"
     ]
    },
    {
     "name": "stdout",
     "output_type": "stream",
     "text": [
      "Indexing took 0.12 minutes\n",
      "Building tree: [gdi --project-dir simulations/alpha-0.05-cov-30/index-assemblies --ncores 32 rebuild tree --align-type full --extra-params '--fast -m GTR+F+R4' reference]\n"
     ]
    },
    {
     "name": "stdout",
     "output_type": "stream",
     "text": [
      "Building tree took 1.23 minutes\n"
     ]
    },
    {
     "name": "stderr",
     "output_type": "stream",
     "text": [
      "Attempting to set global database_path_translator=<genomics_data_index.storage.model.db.DatabasePathTranslator.DatabasePathTranslator object at 0x7fba02a82040> but it is already set\n"
     ]
    },
    {
     "name": "stderr",
     "output_type": "stream",
     "text": [
      "A reminder to myself to look for a Python solution for directory sizes (instead of running `du`)\n"
     ]
    },
    {
     "name": "stdout",
     "output_type": "stream",
     "text": [
      "\n",
      "Iteration 2 of index/analysis of 59 samples with 32 cores\n",
      "Removing any extra snakemake directories: ['snakemake-assemblies.1646863620.5486267']\n"
     ]
    },
    {
     "name": "stdout",
     "output_type": "stream",
     "text": [
      "Removing any existing indexes simulations/alpha-0.05-cov-30/index-assemblies\n",
      "Creating new index: [gdi init simulations/alpha-0.05-cov-30/index-assemblies]\n"
     ]
    },
    {
     "name": "stdout",
     "output_type": "stream",
     "text": [
      "Creating a new index took 3.33 seconds\n",
      "Analysis running: [gdi --project-dir simulations/alpha-0.05-cov-30/index-assemblies --ncores 32 analysis --use-conda --no-load-data --reference-file simulations/reference/reference.fa.gz --kmer-size 31 --kmer-size 51 --kmer-size 71 --include-kmer --reads-mincov 10 --input-structured-genomes-file simulations/alpha-0.05-cov-30/input-assemblies.tsv]\n"
     ]
    },
    {
     "name": "stdout",
     "output_type": "stream",
     "text": [
      "Analysis took 1.72 minutes\n",
      "Index running: [gdi --project-dir simulations/alpha-0.05-cov-30/index-assemblies --ncores 32 load vcf-kmer --sample-batch-size 2000 --reference-file simulations/reference/reference.fa.gz /home/CSCScience.ca/apetkau/workspace/genomics-data-index-evaluation/evaluations/simulation/snakemake-assemblies.1646863809.99466/gdi-input.fofn]\n"
     ]
    },
    {
     "name": "stdout",
     "output_type": "stream",
     "text": [
      "Indexing took 0.12 minutes\n",
      "Building tree: [gdi --project-dir simulations/alpha-0.05-cov-30/index-assemblies --ncores 32 rebuild tree --align-type full --extra-params '--fast -m GTR+F+R4' reference]\n"
     ]
    },
    {
     "name": "stdout",
     "output_type": "stream",
     "text": [
      "Building tree took 1.60 minutes\n"
     ]
    },
    {
     "name": "stderr",
     "output_type": "stream",
     "text": [
      "Attempting to set global database_path_translator=<genomics_data_index.storage.model.db.DatabasePathTranslator.DatabasePathTranslator object at 0x7fbbbee39c70> but it is already set\n"
     ]
    },
    {
     "name": "stderr",
     "output_type": "stream",
     "text": [
      "A reminder to myself to look for a Python solution for directory sizes (instead of running `du`)\n"
     ]
    },
    {
     "name": "stdout",
     "output_type": "stream",
     "text": [
      "\n",
      "Iteration 3 of index/analysis of 59 samples with 32 cores\n",
      "Removing any extra snakemake directories: ['snakemake-assemblies.1646863809.99466']\n"
     ]
    },
    {
     "name": "stdout",
     "output_type": "stream",
     "text": [
      "Removing any existing indexes simulations/alpha-0.05-cov-30/index-assemblies\n",
      "Creating new index: [gdi init simulations/alpha-0.05-cov-30/index-assemblies]\n"
     ]
    },
    {
     "name": "stdout",
     "output_type": "stream",
     "text": [
      "Creating a new index took 3.32 seconds\n",
      "Analysis running: [gdi --project-dir simulations/alpha-0.05-cov-30/index-assemblies --ncores 32 analysis --use-conda --no-load-data --reference-file simulations/reference/reference.fa.gz --kmer-size 31 --kmer-size 51 --kmer-size 71 --include-kmer --reads-mincov 10 --input-structured-genomes-file simulations/alpha-0.05-cov-30/input-assemblies.tsv]\n"
     ]
    },
    {
     "name": "stdout",
     "output_type": "stream",
     "text": [
      "Analysis took 1.70 minutes\n",
      "Index running: [gdi --project-dir simulations/alpha-0.05-cov-30/index-assemblies --ncores 32 load vcf-kmer --sample-batch-size 2000 --reference-file simulations/reference/reference.fa.gz /home/CSCScience.ca/apetkau/workspace/genomics-data-index-evaluation/evaluations/simulation/snakemake-assemblies.1646864021.1822934/gdi-input.fofn]\n"
     ]
    },
    {
     "name": "stdout",
     "output_type": "stream",
     "text": [
      "Indexing took 0.11 minutes\n",
      "Building tree: [gdi --project-dir simulations/alpha-0.05-cov-30/index-assemblies --ncores 32 rebuild tree --align-type full --extra-params '--fast -m GTR+F+R4' reference]\n"
     ]
    },
    {
     "name": "stdout",
     "output_type": "stream",
     "text": [
      "Building tree took 1.40 minutes\n"
     ]
    },
    {
     "name": "stderr",
     "output_type": "stream",
     "text": [
      "Attempting to set global database_path_translator=<genomics_data_index.storage.model.db.DatabasePathTranslator.DatabasePathTranslator object at 0x7fbbbeeceb50> but it is already set\n"
     ]
    },
    {
     "name": "stderr",
     "output_type": "stream",
     "text": [
      "A reminder to myself to look for a Python solution for directory sizes (instead of running `du`)\n"
     ]
    }
   ],
   "source": [
    "results_handler = gdi_benchmark.BenchmarkResultsHandler(name=f'{case_name} assemblies')\n",
    "benchmarker = gdi_benchmark.IndexBenchmarker(benchmark_results_handler=results_handler,\n",
    "                                             index_path=index_assemblies_path, input_files_file=input_genomes_file,\n",
    "                                             reference_file=reference_file, mincov=mincov, build_tree=True,\n",
    "                                             ncores=ncores)\n",
    "\n",
    "benchmark_df = benchmarker.benchmark(iterations=iterations)"
   ]
  },
  {
   "cell_type": "code",
   "execution_count": 11,
   "id": "a6d55a9d-be2f-4851-b66c-04b5ebd597a1",
   "metadata": {
    "execution": {
     "iopub.execute_input": "2022-03-09T22:16:51.107699Z",
     "iopub.status.busy": "2022-03-09T22:16:51.106954Z",
     "iopub.status.idle": "2022-03-09T22:16:51.109987Z",
     "shell.execute_reply": "2022-03-09T22:16:51.110582Z"
    },
    "papermill": {
     "duration": 0.05168,
     "end_time": "2022-03-09T22:16:51.110768",
     "exception": false,
     "start_time": "2022-03-09T22:16:51.059088",
     "status": "completed"
    },
    "tags": []
   },
   "outputs": [
    {
     "data": {
      "text/html": [
       "<div>\n",
       "<style scoped>\n",
       "    .dataframe tbody tr th:only-of-type {\n",
       "        vertical-align: middle;\n",
       "    }\n",
       "\n",
       "    .dataframe tbody tr th {\n",
       "        vertical-align: top;\n",
       "    }\n",
       "\n",
       "    .dataframe thead th {\n",
       "        text-align: right;\n",
       "    }\n",
       "</style>\n",
       "<table border=\"1\" class=\"dataframe\">\n",
       "  <thead>\n",
       "    <tr style=\"text-align: right;\">\n",
       "      <th></th>\n",
       "      <th>Name</th>\n",
       "      <th>Reference name</th>\n",
       "      <th>Iteration</th>\n",
       "      <th>Number samples</th>\n",
       "      <th>Number features (all)</th>\n",
       "      <th>Number features (no unknown)</th>\n",
       "      <th>Number cores</th>\n",
       "      <th>Reference length</th>\n",
       "      <th>Analysis runtime</th>\n",
       "      <th>Analysis memory (max)</th>\n",
       "      <th>...</th>\n",
       "      <th>Analysis disk uage</th>\n",
       "      <th>Index runtime</th>\n",
       "      <th>Index memory (max)</th>\n",
       "      <th>Index memory (max/process)</th>\n",
       "      <th>Index size</th>\n",
       "      <th>Tree runtime</th>\n",
       "      <th>Tree memory (max)</th>\n",
       "      <th>Tree memory (max/process)</th>\n",
       "      <th>Total runtime</th>\n",
       "      <th>Max memory</th>\n",
       "    </tr>\n",
       "  </thead>\n",
       "  <tbody>\n",
       "    <tr>\n",
       "      <th>0</th>\n",
       "      <td>alpha-0.05-cov-30 assemblies</td>\n",
       "      <td>reference</td>\n",
       "      <td>1</td>\n",
       "      <td>59</td>\n",
       "      <td>922</td>\n",
       "      <td>863</td>\n",
       "      <td>32</td>\n",
       "      <td>19699</td>\n",
       "      <td>103.11</td>\n",
       "      <td>1.509790e+09</td>\n",
       "      <td>...</td>\n",
       "      <td>2.203058e+09</td>\n",
       "      <td>7.25</td>\n",
       "      <td>5.911888e+09</td>\n",
       "      <td>247762944.0</td>\n",
       "      <td>1314816.0</td>\n",
       "      <td>73.81</td>\n",
       "      <td>254844928.0</td>\n",
       "      <td>234496000.0</td>\n",
       "      <td>184.17</td>\n",
       "      <td>5.911888e+09</td>\n",
       "    </tr>\n",
       "    <tr>\n",
       "      <th>0</th>\n",
       "      <td>alpha-0.05-cov-30 assemblies</td>\n",
       "      <td>reference</td>\n",
       "      <td>2</td>\n",
       "      <td>59</td>\n",
       "      <td>922</td>\n",
       "      <td>863</td>\n",
       "      <td>32</td>\n",
       "      <td>19699</td>\n",
       "      <td>103.09</td>\n",
       "      <td>1.362444e+09</td>\n",
       "      <td>...</td>\n",
       "      <td>2.203046e+09</td>\n",
       "      <td>6.91</td>\n",
       "      <td>5.900706e+09</td>\n",
       "      <td>247042048.0</td>\n",
       "      <td>1318912.0</td>\n",
       "      <td>95.86</td>\n",
       "      <td>255082496.0</td>\n",
       "      <td>235032576.0</td>\n",
       "      <td>205.86</td>\n",
       "      <td>5.900706e+09</td>\n",
       "    </tr>\n",
       "    <tr>\n",
       "      <th>0</th>\n",
       "      <td>alpha-0.05-cov-30 assemblies</td>\n",
       "      <td>reference</td>\n",
       "      <td>3</td>\n",
       "      <td>59</td>\n",
       "      <td>922</td>\n",
       "      <td>863</td>\n",
       "      <td>32</td>\n",
       "      <td>19699</td>\n",
       "      <td>101.63</td>\n",
       "      <td>1.351033e+09</td>\n",
       "      <td>...</td>\n",
       "      <td>2.203058e+09</td>\n",
       "      <td>6.35</td>\n",
       "      <td>5.917368e+09</td>\n",
       "      <td>247894016.0</td>\n",
       "      <td>1314816.0</td>\n",
       "      <td>84.18</td>\n",
       "      <td>254812160.0</td>\n",
       "      <td>234754048.0</td>\n",
       "      <td>192.16</td>\n",
       "      <td>5.917368e+09</td>\n",
       "    </tr>\n",
       "  </tbody>\n",
       "</table>\n",
       "<p>3 rows × 21 columns</p>\n",
       "</div>"
      ],
      "text/plain": [
       "                           Name Reference name  Iteration  Number samples  \\\n",
       "0  alpha-0.05-cov-30 assemblies      reference          1              59   \n",
       "0  alpha-0.05-cov-30 assemblies      reference          2              59   \n",
       "0  alpha-0.05-cov-30 assemblies      reference          3              59   \n",
       "\n",
       "   Number features (all)  Number features (no unknown)  Number cores  \\\n",
       "0                    922                           863            32   \n",
       "0                    922                           863            32   \n",
       "0                    922                           863            32   \n",
       "\n",
       "   Reference length  Analysis runtime  Analysis memory (max)  ...  \\\n",
       "0             19699            103.11           1.509790e+09  ...   \n",
       "0             19699            103.09           1.362444e+09  ...   \n",
       "0             19699            101.63           1.351033e+09  ...   \n",
       "\n",
       "   Analysis disk uage  Index runtime  Index memory (max)  \\\n",
       "0        2.203058e+09           7.25        5.911888e+09   \n",
       "0        2.203046e+09           6.91        5.900706e+09   \n",
       "0        2.203058e+09           6.35        5.917368e+09   \n",
       "\n",
       "   Index memory (max/process)  Index size  Tree runtime  Tree memory (max)  \\\n",
       "0                 247762944.0   1314816.0         73.81        254844928.0   \n",
       "0                 247042048.0   1318912.0         95.86        255082496.0   \n",
       "0                 247894016.0   1314816.0         84.18        254812160.0   \n",
       "\n",
       "   Tree memory (max/process)  Total runtime    Max memory  \n",
       "0                234496000.0         184.17  5.911888e+09  \n",
       "0                235032576.0         205.86  5.900706e+09  \n",
       "0                234754048.0         192.16  5.917368e+09  \n",
       "\n",
       "[3 rows x 21 columns]"
      ]
     },
     "execution_count": 11,
     "metadata": {},
     "output_type": "execute_result"
    }
   ],
   "source": [
    "benchmark_df"
   ]
  },
  {
   "cell_type": "code",
   "execution_count": 12,
   "id": "e1a6d962-50bc-4c8d-a6f2-3a661da706b4",
   "metadata": {
    "execution": {
     "iopub.execute_input": "2022-03-09T22:16:51.163987Z",
     "iopub.status.busy": "2022-03-09T22:16:51.161996Z",
     "iopub.status.idle": "2022-03-09T22:16:51.166676Z",
     "shell.execute_reply": "2022-03-09T22:16:51.166981Z"
    },
    "papermill": {
     "duration": 0.027845,
     "end_time": "2022-03-09T22:16:51.167083",
     "exception": false,
     "start_time": "2022-03-09T22:16:51.139238",
     "status": "completed"
    },
    "tags": []
   },
   "outputs": [],
   "source": [
    "index_assemblies_runtime = simulation_dir_path / 'assemblies-index-info.tsv'\n",
    "benchmark_df.to_csv(index_assemblies_runtime, sep='\\t', index=False)"
   ]
  },
  {
   "cell_type": "markdown",
   "id": "6cb7673b-9f85-4c43-b2e2-93538497a196",
   "metadata": {
    "papermill": {
     "duration": 0.01659,
     "end_time": "2022-03-09T22:16:51.202829",
     "exception": false,
     "start_time": "2022-03-09T22:16:51.186239",
     "status": "completed"
    },
    "tags": []
   },
   "source": [
    "# 3. Export trees"
   ]
  },
  {
   "cell_type": "code",
   "execution_count": 13,
   "id": "5280f82c-5434-4391-8c44-b937a7c95bd5",
   "metadata": {
    "execution": {
     "iopub.execute_input": "2022-03-09T22:16:51.245252Z",
     "iopub.status.busy": "2022-03-09T22:16:51.244811Z",
     "iopub.status.idle": "2022-03-09T22:16:57.852316Z",
     "shell.execute_reply": "2022-03-09T22:16:57.851386Z"
    },
    "papermill": {
     "duration": 6.633029,
     "end_time": "2022-03-09T22:16:57.852598",
     "exception": false,
     "start_time": "2022-03-09T22:16:51.219569",
     "status": "completed"
    },
    "tags": []
   },
   "outputs": [
    {
     "name": "stdout",
     "output_type": "stream",
     "text": [
      "Wrote assemblies tree to simulations/alpha-0.05-cov-30/index-assemblies/assemblies.tre\n"
     ]
    },
    {
     "name": "stdout",
     "output_type": "stream",
     "text": [
      "Wrote assemblies tree to simulations/alpha-0.05-cov-30/index-reads/reads.tre\n"
     ]
    }
   ],
   "source": [
    "!gdi --project-dir {index_assemblies_path} export tree {reference_name} > {output_assemblies_tree}\n",
    "print(f'Wrote assemblies tree to {output_assemblies_tree}')\n",
    "\n",
    "!gdi --project-dir {index_reads_path} export tree {reference_name} > {output_reads_tree}\n",
    "print(f'Wrote assemblies tree to {output_reads_tree}')"
   ]
  }
 ],
 "metadata": {
  "kernelspec": {
   "display_name": "Python 3 (ipykernel)",
   "language": "python",
   "name": "python3"
  },
  "language_info": {
   "codemirror_mode": {
    "name": "ipython",
    "version": 3
   },
   "file_extension": ".py",
   "mimetype": "text/x-python",
   "name": "python",
   "nbconvert_exporter": "python",
   "pygments_lexer": "ipython3",
   "version": "3.8.12"
  },
  "papermill": {
   "default_parameters": {},
   "duration": 1291.331672,
   "end_time": "2022-03-09T22:16:58.610966",
   "environment_variables": {},
   "exception": null,
   "input_path": "template-3-index-genomes.ipynb",
   "output_path": "3-index-genomes.simulation-alpha-0.05.ipynb",
   "parameters": {
    "iterations": 3,
    "mincov": 10,
    "read_coverage": 30,
    "simulation_dir": "simulations/alpha-0.05-cov-30",
    "sub_alpha": 0.05
   },
   "start_time": "2022-03-09T21:55:27.279294",
   "version": "2.3.4"
  }
 },
 "nbformat": 4,
 "nbformat_minor": 5
}