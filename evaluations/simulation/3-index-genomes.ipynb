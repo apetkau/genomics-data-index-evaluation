{
 "cells": [
  {
   "cell_type": "markdown",
   "id": "ecf45167-e286-4fca-b564-3625ed5eb452",
   "metadata": {},
   "source": [
    "# 1. Initialize indexes"
   ]
  },
  {
   "cell_type": "code",
   "execution_count": 1,
   "id": "845c92bd-36bf-4505-9ea3-92d7ed5a5cf9",
   "metadata": {},
   "outputs": [],
   "source": [
    "from pathlib import Path\n",
    "from os import mkdir\n",
    "from shutil import rmtree\n",
    "\n",
    "index_reads_path = Path('index-reads')\n",
    "index_assemblies_path = Path('index-assemblies')"
   ]
  },
  {
   "cell_type": "code",
   "execution_count": 2,
   "id": "9402cfbf-8faa-4af5-8af3-9f3439129e7b",
   "metadata": {},
   "outputs": [
    {
     "name": "stdout",
     "output_type": "stream",
     "text": [
      "gdi, version 0.3.0.dev3\n",
      "Initializing empty project in [index-reads]\n",
      "Initializing empty project in [index-assemblies]\n"
     ]
    }
   ],
   "source": [
    "if index_reads_path.exists():\n",
    "    rmtree(index_reads_path)\n",
    "    \n",
    "if index_assemblies_path.exists():\n",
    "    rmtree(index_assemblies_path)\n",
    "\n",
    "!gdi --version\n",
    "!gdi init {index_reads_path}\n",
    "!gdi init {index_assemblies_path}"
   ]
  },
  {
   "cell_type": "markdown",
   "id": "f208279e-7558-47fc-9362-da29df92828a",
   "metadata": {},
   "source": [
    "# 2. Index genomes\n",
    "\n",
    "## 2.1. Index reads"
   ]
  },
  {
   "cell_type": "code",
   "execution_count": 3,
   "id": "3b5373df-88ea-4336-abf8-d42455f750d6",
   "metadata": {},
   "outputs": [
    {
     "name": "stdout",
     "output_type": "stream",
     "text": [
      "\u001b[32m2021-08-18 13:30:58\u001b[0m \u001b[1;30mINFO:\u001b[0m Automatically structuring 118 input files into assemblies/reads\n",
      "\u001b[32m2021-08-18 13:30:58\u001b[0m \u001b[1;30mINFO:\u001b[0m Processing 59 genomes to identify mutations\n",
      "\u001b[32m2021-08-18 13:30:58\u001b[0m \u001b[1;30mINFO:\u001b[0m Cannot use snpeff for reference file [input/S_HeidelbergSL476.fasta.gz], no snpeff annotations are included\n",
      "\u001b[32m2021-08-18 13:30:58\u001b[0m \u001b[1;30mINFO:\u001b[0m Running Snakemake for rule all\n",
      "\u001b[32m2021-08-18 13:43:02\u001b[0m \u001b[1;30mINFO:\u001b[0m Finished running snakemake.\n",
      "\u001b[32m2021-08-18 13:43:02\u001b[0m \u001b[1;30mINFO:\u001b[0m Indexing processed VCF files defined in [/home/CSCScience.ca/apetkau/workspace/genomics-data-index-evaluation/evaluations/simulation/snakemake-assemblies.1629311458.4737868/gdi-input.fofn]\n",
      "\u001b[32m2021-08-18 13:43:02\u001b[0m \u001b[1;30mWARNING:\u001b[0m \u001b[33mAttempting to set global database_path_translator=<genomics_data_index.storage.model.db.DatabasePathTranslator.DatabasePathTranslator object at 0x7f32a5517d30> but it is already set\u001b[0m\n",
      "\u001b[32m2021-08-18 13:43:02\u001b[0m \u001b[1;30mINFO:\u001b[0m Attempting to load reference genome=[input/S_HeidelbergSL476.fasta.gz]\n",
      "\u001b[32m2021-08-18 13:43:03\u001b[0m \u001b[1;30mINFO:\u001b[0m Sample batch 1/1: Stage 1/2 (Insert): Processed 0% (0/59) samples\n",
      "\u001b[32m2021-08-18 13:43:07\u001b[0m \u001b[1;30mINFO:\u001b[0m Sample batch 1/1: Stage 1/2 (Insert): Processed 8% (5/59) samples\n",
      "\u001b[32m2021-08-18 13:43:09\u001b[0m \u001b[1;30mINFO:\u001b[0m Sample batch 1/1: Stage 1/2 (Insert): Processed 17% (10/59) samples\n",
      "\u001b[32m2021-08-18 13:43:09\u001b[0m \u001b[1;30mINFO:\u001b[0m Sample batch 1/1: Stage 1/2 (Insert): Processed 25% (15/59) samples\n",
      "\u001b[32m2021-08-18 13:43:09\u001b[0m \u001b[1;30mINFO:\u001b[0m Sample batch 1/1: Stage 1/2 (Insert): Processed 34% (20/59) samples\n",
      "\u001b[32m2021-08-18 13:43:09\u001b[0m \u001b[1;30mINFO:\u001b[0m Sample batch 1/1: Stage 1/2 (Insert): Processed 42% (25/59) samples\n",
      "\u001b[32m2021-08-18 13:43:09\u001b[0m \u001b[1;30mINFO:\u001b[0m Sample batch 1/1: Stage 1/2 (Insert): Processed 51% (30/59) samples\n",
      "\u001b[32m2021-08-18 13:43:09\u001b[0m \u001b[1;30mINFO:\u001b[0m Sample batch 1/1: Stage 1/2 (Insert): Processed 59% (35/59) samples\n",
      "\u001b[32m2021-08-18 13:43:09\u001b[0m \u001b[1;30mINFO:\u001b[0m Sample batch 1/1: Stage 1/2 (Insert): Processed 68% (40/59) samples\n",
      "\u001b[32m2021-08-18 13:43:09\u001b[0m \u001b[1;30mINFO:\u001b[0m Sample batch 1/1: Stage 1/2 (Insert): Processed 76% (45/59) samples\n",
      "\u001b[32m2021-08-18 13:43:10\u001b[0m \u001b[1;30mINFO:\u001b[0m Sample batch 1/1: Stage 1/2 (Insert): Processed 85% (50/59) samples\n",
      "\u001b[32m2021-08-18 13:43:11\u001b[0m \u001b[1;30mINFO:\u001b[0m Sample batch 1/1: Stage 1/2 (Insert): Processed 93% (55/59) samples\n",
      "\u001b[32m2021-08-18 13:43:11\u001b[0m \u001b[1;30mINFO:\u001b[0m Sample batch 1/1: Stage 1/2 (Insert): Processed 100% (59/59) samples\n",
      "\u001b[32m2021-08-18 13:43:11\u001b[0m \u001b[1;30mINFO:\u001b[0m Finished processing 59 samples\n",
      "\u001b[32m2021-08-18 13:43:11\u001b[0m \u001b[1;30mINFO:\u001b[0m Reading features from 59 samples\n",
      "\u001b[32m2021-08-18 13:43:11\u001b[0m \u001b[1;30mINFO:\u001b[0m Sample batch 1/1: Stage 2/2 (Index): Processed 0% (0/59) samples\n",
      "\u001b[32m2021-08-18 13:43:15\u001b[0m \u001b[1;30mINFO:\u001b[0m Sample batch 1/1: Stage 2/2 (Index): Processed 0% (0/59) samples\n",
      "\u001b[32m2021-08-18 13:43:15\u001b[0m \u001b[1;30mINFO:\u001b[0m Sample batch 1/1: Stage 2/2 (Index): Processed 2% (1/59) samples\n",
      "\u001b[32m2021-08-18 13:43:15\u001b[0m \u001b[1;30mINFO:\u001b[0m Sample batch 1/1: Stage 2/2 (Index): Processed 3% (2/59) samples\n",
      "\u001b[32m2021-08-18 13:43:16\u001b[0m \u001b[1;30mINFO:\u001b[0m Sample batch 1/1: Stage 2/2 (Index): Processed 5% (3/59) samples\n",
      "\u001b[32m2021-08-18 13:43:16\u001b[0m \u001b[1;30mINFO:\u001b[0m Sample batch 1/1: Stage 2/2 (Index): Processed 7% (4/59) samples\n",
      "\u001b[32m2021-08-18 13:43:16\u001b[0m \u001b[1;30mINFO:\u001b[0m Sample batch 1/1: Stage 2/2 (Index): Processed 8% (5/59) samples\n",
      "\u001b[32m2021-08-18 13:43:16\u001b[0m \u001b[1;30mINFO:\u001b[0m Sample batch 1/1: Stage 2/2 (Index): Processed 10% (6/59) samples\n",
      "\u001b[32m2021-08-18 13:43:16\u001b[0m \u001b[1;30mINFO:\u001b[0m Sample batch 1/1: Stage 2/2 (Index): Processed 12% (7/59) samples\n",
      "\u001b[32m2021-08-18 13:43:16\u001b[0m \u001b[1;30mINFO:\u001b[0m Sample batch 1/1: Stage 2/2 (Index): Processed 14% (8/59) samples\n",
      "\u001b[32m2021-08-18 13:43:16\u001b[0m \u001b[1;30mINFO:\u001b[0m Sample batch 1/1: Stage 2/2 (Index): Processed 15% (9/59) samples\n",
      "\u001b[32m2021-08-18 13:43:16\u001b[0m \u001b[1;30mINFO:\u001b[0m Sample batch 1/1: Stage 2/2 (Index): Processed 17% (10/59) samples\n",
      "\u001b[32m2021-08-18 13:43:16\u001b[0m \u001b[1;30mINFO:\u001b[0m Sample batch 1/1: Stage 2/2 (Index): Processed 19% (11/59) samples\n",
      "\u001b[32m2021-08-18 13:43:16\u001b[0m \u001b[1;30mINFO:\u001b[0m Sample batch 1/1: Stage 2/2 (Index): Processed 20% (12/59) samples\n",
      "\u001b[32m2021-08-18 13:43:16\u001b[0m \u001b[1;30mINFO:\u001b[0m Sample batch 1/1: Stage 2/2 (Index): Processed 22% (13/59) samples\n",
      "\u001b[32m2021-08-18 13:43:16\u001b[0m \u001b[1;30mINFO:\u001b[0m Sample batch 1/1: Stage 2/2 (Index): Processed 24% (14/59) samples\n",
      "\u001b[32m2021-08-18 13:43:16\u001b[0m \u001b[1;30mINFO:\u001b[0m Sample batch 1/1: Stage 2/2 (Index): Processed 25% (15/59) samples\n",
      "\u001b[32m2021-08-18 13:43:16\u001b[0m \u001b[1;30mINFO:\u001b[0m Sample batch 1/1: Stage 2/2 (Index): Processed 27% (16/59) samples\n",
      "\u001b[32m2021-08-18 13:43:16\u001b[0m \u001b[1;30mINFO:\u001b[0m Sample batch 1/1: Stage 2/2 (Index): Processed 29% (17/59) samples\n",
      "\u001b[32m2021-08-18 13:43:16\u001b[0m \u001b[1;30mINFO:\u001b[0m Sample batch 1/1: Stage 2/2 (Index): Processed 31% (18/59) samples\n",
      "\u001b[32m2021-08-18 13:43:17\u001b[0m \u001b[1;30mINFO:\u001b[0m Sample batch 1/1: Stage 2/2 (Index): Processed 32% (19/59) samples\n",
      "\u001b[32m2021-08-18 13:43:17\u001b[0m \u001b[1;30mINFO:\u001b[0m Sample batch 1/1: Stage 2/2 (Index): Processed 34% (20/59) samples\n",
      "\u001b[32m2021-08-18 13:43:17\u001b[0m \u001b[1;30mINFO:\u001b[0m Sample batch 1/1: Stage 2/2 (Index): Processed 36% (21/59) samples\n",
      "\u001b[32m2021-08-18 13:43:17\u001b[0m \u001b[1;30mINFO:\u001b[0m Sample batch 1/1: Stage 2/2 (Index): Processed 37% (22/59) samples\n",
      "\u001b[32m2021-08-18 13:43:17\u001b[0m \u001b[1;30mINFO:\u001b[0m Sample batch 1/1: Stage 2/2 (Index): Processed 39% (23/59) samples\n",
      "\u001b[32m2021-08-18 13:43:17\u001b[0m \u001b[1;30mINFO:\u001b[0m Sample batch 1/1: Stage 2/2 (Index): Processed 41% (24/59) samples\n",
      "\u001b[32m2021-08-18 13:43:17\u001b[0m \u001b[1;30mINFO:\u001b[0m Sample batch 1/1: Stage 2/2 (Index): Processed 42% (25/59) samples\n",
      "\u001b[32m2021-08-18 13:43:17\u001b[0m \u001b[1;30mINFO:\u001b[0m Sample batch 1/1: Stage 2/2 (Index): Processed 44% (26/59) samples\n",
      "\u001b[32m2021-08-18 13:43:17\u001b[0m \u001b[1;30mINFO:\u001b[0m Sample batch 1/1: Stage 2/2 (Index): Processed 46% (27/59) samples\n",
      "\u001b[32m2021-08-18 13:43:17\u001b[0m \u001b[1;30mINFO:\u001b[0m Sample batch 1/1: Stage 2/2 (Index): Processed 47% (28/59) samples\n",
      "\u001b[32m2021-08-18 13:43:17\u001b[0m \u001b[1;30mINFO:\u001b[0m Sample batch 1/1: Stage 2/2 (Index): Processed 49% (29/59) samples\n",
      "\u001b[32m2021-08-18 13:43:17\u001b[0m \u001b[1;30mINFO:\u001b[0m Sample batch 1/1: Stage 2/2 (Index): Processed 51% (30/59) samples\n",
      "\u001b[32m2021-08-18 13:43:17\u001b[0m \u001b[1;30mINFO:\u001b[0m Sample batch 1/1: Stage 2/2 (Index): Processed 53% (31/59) samples\n",
      "\u001b[32m2021-08-18 13:43:17\u001b[0m \u001b[1;30mINFO:\u001b[0m Sample batch 1/1: Stage 2/2 (Index): Processed 54% (32/59) samples\n",
      "\u001b[32m2021-08-18 13:43:17\u001b[0m \u001b[1;30mINFO:\u001b[0m Sample batch 1/1: Stage 2/2 (Index): Processed 56% (33/59) samples\n",
      "\u001b[32m2021-08-18 13:43:17\u001b[0m \u001b[1;30mINFO:\u001b[0m Sample batch 1/1: Stage 2/2 (Index): Processed 58% (34/59) samples\n",
      "\u001b[32m2021-08-18 13:43:17\u001b[0m \u001b[1;30mINFO:\u001b[0m Sample batch 1/1: Stage 2/2 (Index): Processed 59% (35/59) samples\n",
      "\u001b[32m2021-08-18 13:43:17\u001b[0m \u001b[1;30mINFO:\u001b[0m Sample batch 1/1: Stage 2/2 (Index): Processed 61% (36/59) samples\n",
      "\u001b[32m2021-08-18 13:43:17\u001b[0m \u001b[1;30mINFO:\u001b[0m Sample batch 1/1: Stage 2/2 (Index): Processed 63% (37/59) samples\n",
      "\u001b[32m2021-08-18 13:43:17\u001b[0m \u001b[1;30mINFO:\u001b[0m Sample batch 1/1: Stage 2/2 (Index): Processed 64% (38/59) samples\n",
      "\u001b[32m2021-08-18 13:43:17\u001b[0m \u001b[1;30mINFO:\u001b[0m Sample batch 1/1: Stage 2/2 (Index): Processed 66% (39/59) samples\n",
      "\u001b[32m2021-08-18 13:43:17\u001b[0m \u001b[1;30mINFO:\u001b[0m Sample batch 1/1: Stage 2/2 (Index): Processed 68% (40/59) samples\n",
      "\u001b[32m2021-08-18 13:43:17\u001b[0m \u001b[1;30mINFO:\u001b[0m Sample batch 1/1: Stage 2/2 (Index): Processed 69% (41/59) samples\n",
      "\u001b[32m2021-08-18 13:43:17\u001b[0m \u001b[1;30mINFO:\u001b[0m Sample batch 1/1: Stage 2/2 (Index): Processed 71% (42/59) samples\n",
      "\u001b[32m2021-08-18 13:43:17\u001b[0m \u001b[1;30mINFO:\u001b[0m Sample batch 1/1: Stage 2/2 (Index): Processed 73% (43/59) samples\n",
      "\u001b[32m2021-08-18 13:43:17\u001b[0m \u001b[1;30mINFO:\u001b[0m Sample batch 1/1: Stage 2/2 (Index): Processed 75% (44/59) samples\n",
      "\u001b[32m2021-08-18 13:43:18\u001b[0m \u001b[1;30mINFO:\u001b[0m Sample batch 1/1: Stage 2/2 (Index): Processed 76% (45/59) samples\n",
      "\u001b[32m2021-08-18 13:43:18\u001b[0m \u001b[1;30mINFO:\u001b[0m Sample batch 1/1: Stage 2/2 (Index): Processed 78% (46/59) samples\n",
      "\u001b[32m2021-08-18 13:43:18\u001b[0m \u001b[1;30mINFO:\u001b[0m Sample batch 1/1: Stage 2/2 (Index): Processed 80% (47/59) samples\n",
      "\u001b[32m2021-08-18 13:43:18\u001b[0m \u001b[1;30mINFO:\u001b[0m Sample batch 1/1: Stage 2/2 (Index): Processed 81% (48/59) samples\n",
      "\u001b[32m2021-08-18 13:43:18\u001b[0m \u001b[1;30mINFO:\u001b[0m Sample batch 1/1: Stage 2/2 (Index): Processed 83% (49/59) samples\n",
      "\u001b[32m2021-08-18 13:43:18\u001b[0m \u001b[1;30mINFO:\u001b[0m Sample batch 1/1: Stage 2/2 (Index): Processed 85% (50/59) samples\n",
      "\u001b[32m2021-08-18 13:43:18\u001b[0m \u001b[1;30mINFO:\u001b[0m Sample batch 1/1: Stage 2/2 (Index): Processed 86% (51/59) samples\n",
      "\u001b[32m2021-08-18 13:43:18\u001b[0m \u001b[1;30mINFO:\u001b[0m Sample batch 1/1: Stage 2/2 (Index): Processed 88% (52/59) samples\n",
      "\u001b[32m2021-08-18 13:43:18\u001b[0m \u001b[1;30mINFO:\u001b[0m Sample batch 1/1: Stage 2/2 (Index): Processed 90% (53/59) samples\n",
      "\u001b[32m2021-08-18 13:43:18\u001b[0m \u001b[1;30mINFO:\u001b[0m Sample batch 1/1: Stage 2/2 (Index): Processed 92% (54/59) samples\n",
      "\u001b[32m2021-08-18 13:43:19\u001b[0m \u001b[1;30mINFO:\u001b[0m Sample batch 1/1: Stage 2/2 (Index): Processed 93% (55/59) samples\n",
      "\u001b[32m2021-08-18 13:43:19\u001b[0m \u001b[1;30mINFO:\u001b[0m Sample batch 1/1: Stage 2/2 (Index): Processed 95% (56/59) samples\n",
      "\u001b[32m2021-08-18 13:43:19\u001b[0m \u001b[1;30mINFO:\u001b[0m Sample batch 1/1: Stage 2/2 (Index): Processed 97% (57/59) samples\n",
      "\u001b[32m2021-08-18 13:43:19\u001b[0m \u001b[1;30mINFO:\u001b[0m Sample batch 1/1: Stage 2/2 (Index): Processed 98% (58/59) samples\n",
      "\u001b[32m2021-08-18 13:43:19\u001b[0m \u001b[1;30mINFO:\u001b[0m Sample batch 1/1: Stage 2/2 (Index): Processed 100% (59/59) samples\n",
      "\u001b[32m2021-08-18 13:43:21\u001b[0m \u001b[1;30mINFO:\u001b[0m Aggregating 4346590 features found in 59 samples\n",
      "\u001b[32m2021-08-18 13:45:35\u001b[0m \u001b[1;30mINFO:\u001b[0m A total of 286587 unique features across 59 samples will be updated. Searching for existing features in the database.\n",
      "\u001b[32m2021-08-18 13:45:36\u001b[0m \u001b[1;30mINFO:\u001b[0m Found 0/286587 features in database which already exist. These features will be updated to map to the new samples.\n",
      "\u001b[32m2021-08-18 13:45:36\u001b[0m \u001b[1;30mINFO:\u001b[0m Updating 0/286587 existing features in database\n",
      "\u001b[32m2021-08-18 13:45:36\u001b[0m \u001b[1;30mINFO:\u001b[0m Saving 286587/286587 new features in database\n",
      "\u001b[32m2021-08-18 13:45:47\u001b[0m \u001b[1;30mINFO:\u001b[0m Finished indexing features from 59 samples\n",
      "\u001b[32m2021-08-18 13:45:48\u001b[0m \u001b[1;30mINFO:\u001b[0m Loaded variants from [/home/CSCScience.ca/apetkau/workspace/genomics-data-index-evaluation/evaluations/simulation/snakemake-assemblies.1629311458.4737868/gdi-input.fofn] into database\n",
      "\u001b[32m2021-08-18 13:45:48\u001b[0m \u001b[1;30mINFO:\u001b[0m --clean is enabled so deleting [/home/CSCScience.ca/apetkau/workspace/genomics-data-index-evaluation/evaluations/simulation/snakemake-assemblies.1629311458.4737868]\n"
     ]
    }
   ],
   "source": [
    "import glob\n",
    "\n",
    "reads_dir = 'simulated_data/reads'\n",
    "reference_file = 'input/S_HeidelbergSL476.fasta.gz'\n",
    "ncores = 48\n",
    "\n",
    "!gdi --project-dir {index_reads_path} --ncores {ncores} analysis \\\n",
    "    --use-conda --reference-file {reference_file} {reads_dir}/*.fq.gz"
   ]
  },
  {
   "cell_type": "markdown",
   "id": "c331578f-4026-4a9f-a3ba-288814b02ed2",
   "metadata": {},
   "source": [
    "## 2.2. Index assemblies"
   ]
  },
  {
   "cell_type": "code",
   "execution_count": 4,
   "id": "4d5eb692-0782-4d65-80d2-613ffc17edbf",
   "metadata": {},
   "outputs": [
    {
     "name": "stdout",
     "output_type": "stream",
     "text": [
      "\u001b[32m2021-08-18 13:45:54\u001b[0m \u001b[1;30mINFO:\u001b[0m Automatically structuring 59 input files into assemblies/reads\n",
      "\u001b[32m2021-08-18 13:45:54\u001b[0m \u001b[1;30mINFO:\u001b[0m Processing 59 genomes to identify mutations\n",
      "\u001b[32m2021-08-18 13:45:54\u001b[0m \u001b[1;30mINFO:\u001b[0m Cannot use snpeff for reference file [input/S_HeidelbergSL476.fasta.gz], no snpeff annotations are included\n",
      "\u001b[32m2021-08-18 13:45:54\u001b[0m \u001b[1;30mINFO:\u001b[0m Running Snakemake for rule all\n",
      "\u001b[32m2021-08-18 13:47:14\u001b[0m \u001b[1;30mINFO:\u001b[0m Finished running snakemake.\n",
      "\u001b[32m2021-08-18 13:47:14\u001b[0m \u001b[1;30mINFO:\u001b[0m Indexing processed VCF files defined in [/home/CSCScience.ca/apetkau/workspace/genomics-data-index-evaluation/evaluations/simulation/snakemake-assemblies.1629312354.5644708/gdi-input.fofn]\n",
      "\u001b[32m2021-08-18 13:47:14\u001b[0m \u001b[1;30mWARNING:\u001b[0m \u001b[33mAttempting to set global database_path_translator=<genomics_data_index.storage.model.db.DatabasePathTranslator.DatabasePathTranslator object at 0x7f95cd293af0> but it is already set\u001b[0m\n",
      "\u001b[32m2021-08-18 13:47:14\u001b[0m \u001b[1;30mINFO:\u001b[0m Attempting to load reference genome=[input/S_HeidelbergSL476.fasta.gz]\n",
      "\u001b[32m2021-08-18 13:47:15\u001b[0m \u001b[1;30mINFO:\u001b[0m Sample batch 1/1: Stage 1/2 (Insert): Processed 0% (0/59) samples\n",
      "\u001b[32m2021-08-18 13:47:18\u001b[0m \u001b[1;30mINFO:\u001b[0m Sample batch 1/1: Stage 1/2 (Insert): Processed 8% (5/59) samples\n",
      "\u001b[32m2021-08-18 13:47:18\u001b[0m \u001b[1;30mINFO:\u001b[0m Sample batch 1/1: Stage 1/2 (Insert): Processed 17% (10/59) samples\n",
      "\u001b[32m2021-08-18 13:47:18\u001b[0m \u001b[1;30mINFO:\u001b[0m Sample batch 1/1: Stage 1/2 (Insert): Processed 25% (15/59) samples\n",
      "\u001b[32m2021-08-18 13:47:19\u001b[0m \u001b[1;30mINFO:\u001b[0m Sample batch 1/1: Stage 1/2 (Insert): Processed 34% (20/59) samples\n",
      "\u001b[32m2021-08-18 13:47:20\u001b[0m \u001b[1;30mINFO:\u001b[0m Sample batch 1/1: Stage 1/2 (Insert): Processed 42% (25/59) samples\n",
      "\u001b[32m2021-08-18 13:47:20\u001b[0m \u001b[1;30mINFO:\u001b[0m Sample batch 1/1: Stage 1/2 (Insert): Processed 51% (30/59) samples\n",
      "\u001b[32m2021-08-18 13:47:21\u001b[0m \u001b[1;30mINFO:\u001b[0m Sample batch 1/1: Stage 1/2 (Insert): Processed 59% (35/59) samples\n",
      "\u001b[32m2021-08-18 13:47:21\u001b[0m \u001b[1;30mINFO:\u001b[0m Sample batch 1/1: Stage 1/2 (Insert): Processed 68% (40/59) samples\n",
      "\u001b[32m2021-08-18 13:47:21\u001b[0m \u001b[1;30mINFO:\u001b[0m Sample batch 1/1: Stage 1/2 (Insert): Processed 76% (45/59) samples\n",
      "\u001b[32m2021-08-18 13:47:22\u001b[0m \u001b[1;30mINFO:\u001b[0m Sample batch 1/1: Stage 1/2 (Insert): Processed 85% (50/59) samples\n",
      "\u001b[32m2021-08-18 13:47:22\u001b[0m \u001b[1;30mINFO:\u001b[0m Sample batch 1/1: Stage 1/2 (Insert): Processed 93% (55/59) samples\n",
      "\u001b[32m2021-08-18 13:47:22\u001b[0m \u001b[1;30mINFO:\u001b[0m Sample batch 1/1: Stage 1/2 (Insert): Processed 100% (59/59) samples\n",
      "\u001b[32m2021-08-18 13:47:22\u001b[0m \u001b[1;30mINFO:\u001b[0m Finished processing 59 samples\n",
      "\u001b[32m2021-08-18 13:47:22\u001b[0m \u001b[1;30mINFO:\u001b[0m Reading features from 59 samples\n",
      "\u001b[32m2021-08-18 13:47:22\u001b[0m \u001b[1;30mINFO:\u001b[0m Sample batch 1/1: Stage 2/2 (Index): Processed 0% (0/59) samples\n",
      "\u001b[32m2021-08-18 13:47:24\u001b[0m \u001b[1;30mINFO:\u001b[0m Sample batch 1/1: Stage 2/2 (Index): Processed 0% (0/59) samples\n",
      "\u001b[32m2021-08-18 13:47:25\u001b[0m \u001b[1;30mINFO:\u001b[0m Sample batch 1/1: Stage 2/2 (Index): Processed 2% (1/59) samples\n",
      "\u001b[32m2021-08-18 13:47:25\u001b[0m \u001b[1;30mINFO:\u001b[0m Sample batch 1/1: Stage 2/2 (Index): Processed 3% (2/59) samples\n",
      "\u001b[32m2021-08-18 13:47:25\u001b[0m \u001b[1;30mINFO:\u001b[0m Sample batch 1/1: Stage 2/2 (Index): Processed 5% (3/59) samples\n",
      "\u001b[32m2021-08-18 13:47:25\u001b[0m \u001b[1;30mINFO:\u001b[0m Sample batch 1/1: Stage 2/2 (Index): Processed 7% (4/59) samples\n",
      "\u001b[32m2021-08-18 13:47:25\u001b[0m \u001b[1;30mINFO:\u001b[0m Sample batch 1/1: Stage 2/2 (Index): Processed 8% (5/59) samples\n",
      "\u001b[32m2021-08-18 13:47:25\u001b[0m \u001b[1;30mINFO:\u001b[0m Sample batch 1/1: Stage 2/2 (Index): Processed 10% (6/59) samples\n",
      "\u001b[32m2021-08-18 13:47:25\u001b[0m \u001b[1;30mINFO:\u001b[0m Sample batch 1/1: Stage 2/2 (Index): Processed 12% (7/59) samples\n",
      "\u001b[32m2021-08-18 13:47:25\u001b[0m \u001b[1;30mINFO:\u001b[0m Sample batch 1/1: Stage 2/2 (Index): Processed 14% (8/59) samples\n",
      "\u001b[32m2021-08-18 13:47:25\u001b[0m \u001b[1;30mINFO:\u001b[0m Sample batch 1/1: Stage 2/2 (Index): Processed 15% (9/59) samples\n",
      "\u001b[32m2021-08-18 13:47:25\u001b[0m \u001b[1;30mINFO:\u001b[0m Sample batch 1/1: Stage 2/2 (Index): Processed 17% (10/59) samples\n",
      "\u001b[32m2021-08-18 13:47:25\u001b[0m \u001b[1;30mINFO:\u001b[0m Sample batch 1/1: Stage 2/2 (Index): Processed 19% (11/59) samples\n",
      "\u001b[32m2021-08-18 13:47:25\u001b[0m \u001b[1;30mINFO:\u001b[0m Sample batch 1/1: Stage 2/2 (Index): Processed 20% (12/59) samples\n",
      "\u001b[32m2021-08-18 13:47:25\u001b[0m \u001b[1;30mINFO:\u001b[0m Sample batch 1/1: Stage 2/2 (Index): Processed 22% (13/59) samples\n",
      "\u001b[32m2021-08-18 13:47:25\u001b[0m \u001b[1;30mINFO:\u001b[0m Sample batch 1/1: Stage 2/2 (Index): Processed 24% (14/59) samples\n",
      "\u001b[32m2021-08-18 13:47:25\u001b[0m \u001b[1;30mINFO:\u001b[0m Sample batch 1/1: Stage 2/2 (Index): Processed 25% (15/59) samples\n",
      "\u001b[32m2021-08-18 13:47:25\u001b[0m \u001b[1;30mINFO:\u001b[0m Sample batch 1/1: Stage 2/2 (Index): Processed 27% (16/59) samples\n",
      "\u001b[32m2021-08-18 13:47:25\u001b[0m \u001b[1;30mINFO:\u001b[0m Sample batch 1/1: Stage 2/2 (Index): Processed 29% (17/59) samples\n",
      "\u001b[32m2021-08-18 13:47:25\u001b[0m \u001b[1;30mINFO:\u001b[0m Sample batch 1/1: Stage 2/2 (Index): Processed 31% (18/59) samples\n",
      "\u001b[32m2021-08-18 13:47:25\u001b[0m \u001b[1;30mINFO:\u001b[0m Sample batch 1/1: Stage 2/2 (Index): Processed 32% (19/59) samples\n",
      "\u001b[32m2021-08-18 13:47:25\u001b[0m \u001b[1;30mINFO:\u001b[0m Sample batch 1/1: Stage 2/2 (Index): Processed 34% (20/59) samples\n",
      "\u001b[32m2021-08-18 13:47:25\u001b[0m \u001b[1;30mINFO:\u001b[0m Sample batch 1/1: Stage 2/2 (Index): Processed 36% (21/59) samples\n",
      "\u001b[32m2021-08-18 13:47:25\u001b[0m \u001b[1;30mINFO:\u001b[0m Sample batch 1/1: Stage 2/2 (Index): Processed 37% (22/59) samples\n",
      "\u001b[32m2021-08-18 13:47:25\u001b[0m \u001b[1;30mINFO:\u001b[0m Sample batch 1/1: Stage 2/2 (Index): Processed 39% (23/59) samples\n",
      "\u001b[32m2021-08-18 13:47:26\u001b[0m \u001b[1;30mINFO:\u001b[0m Sample batch 1/1: Stage 2/2 (Index): Processed 41% (24/59) samples\n",
      "\u001b[32m2021-08-18 13:47:26\u001b[0m \u001b[1;30mINFO:\u001b[0m Sample batch 1/1: Stage 2/2 (Index): Processed 42% (25/59) samples\n",
      "\u001b[32m2021-08-18 13:47:26\u001b[0m \u001b[1;30mINFO:\u001b[0m Sample batch 1/1: Stage 2/2 (Index): Processed 44% (26/59) samples\n",
      "\u001b[32m2021-08-18 13:47:26\u001b[0m \u001b[1;30mINFO:\u001b[0m Sample batch 1/1: Stage 2/2 (Index): Processed 46% (27/59) samples\n",
      "\u001b[32m2021-08-18 13:47:26\u001b[0m \u001b[1;30mINFO:\u001b[0m Sample batch 1/1: Stage 2/2 (Index): Processed 47% (28/59) samples\n",
      "\u001b[32m2021-08-18 13:47:26\u001b[0m \u001b[1;30mINFO:\u001b[0m Sample batch 1/1: Stage 2/2 (Index): Processed 49% (29/59) samples\n",
      "\u001b[32m2021-08-18 13:47:26\u001b[0m \u001b[1;30mINFO:\u001b[0m Sample batch 1/1: Stage 2/2 (Index): Processed 51% (30/59) samples\n",
      "\u001b[32m2021-08-18 13:47:26\u001b[0m \u001b[1;30mINFO:\u001b[0m Sample batch 1/1: Stage 2/2 (Index): Processed 53% (31/59) samples\n",
      "\u001b[32m2021-08-18 13:47:26\u001b[0m \u001b[1;30mINFO:\u001b[0m Sample batch 1/1: Stage 2/2 (Index): Processed 54% (32/59) samples\n",
      "\u001b[32m2021-08-18 13:47:27\u001b[0m \u001b[1;30mINFO:\u001b[0m Sample batch 1/1: Stage 2/2 (Index): Processed 56% (33/59) samples\n",
      "\u001b[32m2021-08-18 13:47:27\u001b[0m \u001b[1;30mINFO:\u001b[0m Sample batch 1/1: Stage 2/2 (Index): Processed 58% (34/59) samples\n",
      "\u001b[32m2021-08-18 13:47:27\u001b[0m \u001b[1;30mINFO:\u001b[0m Sample batch 1/1: Stage 2/2 (Index): Processed 59% (35/59) samples\n",
      "\u001b[32m2021-08-18 13:47:27\u001b[0m \u001b[1;30mINFO:\u001b[0m Sample batch 1/1: Stage 2/2 (Index): Processed 61% (36/59) samples\n",
      "\u001b[32m2021-08-18 13:47:27\u001b[0m \u001b[1;30mINFO:\u001b[0m Sample batch 1/1: Stage 2/2 (Index): Processed 63% (37/59) samples\n",
      "\u001b[32m2021-08-18 13:47:27\u001b[0m \u001b[1;30mINFO:\u001b[0m Sample batch 1/1: Stage 2/2 (Index): Processed 64% (38/59) samples\n",
      "\u001b[32m2021-08-18 13:47:27\u001b[0m \u001b[1;30mINFO:\u001b[0m Sample batch 1/1: Stage 2/2 (Index): Processed 66% (39/59) samples\n",
      "\u001b[32m2021-08-18 13:47:27\u001b[0m \u001b[1;30mINFO:\u001b[0m Sample batch 1/1: Stage 2/2 (Index): Processed 68% (40/59) samples\n",
      "\u001b[32m2021-08-18 13:47:28\u001b[0m \u001b[1;30mINFO:\u001b[0m Sample batch 1/1: Stage 2/2 (Index): Processed 69% (41/59) samples\n",
      "\u001b[32m2021-08-18 13:47:28\u001b[0m \u001b[1;30mINFO:\u001b[0m Sample batch 1/1: Stage 2/2 (Index): Processed 71% (42/59) samples\n",
      "\u001b[32m2021-08-18 13:47:28\u001b[0m \u001b[1;30mINFO:\u001b[0m Sample batch 1/1: Stage 2/2 (Index): Processed 73% (43/59) samples\n",
      "\u001b[32m2021-08-18 13:47:28\u001b[0m \u001b[1;30mINFO:\u001b[0m Sample batch 1/1: Stage 2/2 (Index): Processed 75% (44/59) samples\n",
      "\u001b[32m2021-08-18 13:47:28\u001b[0m \u001b[1;30mINFO:\u001b[0m Sample batch 1/1: Stage 2/2 (Index): Processed 76% (45/59) samples\n",
      "\u001b[32m2021-08-18 13:47:28\u001b[0m \u001b[1;30mINFO:\u001b[0m Sample batch 1/1: Stage 2/2 (Index): Processed 78% (46/59) samples\n",
      "\u001b[32m2021-08-18 13:47:28\u001b[0m \u001b[1;30mINFO:\u001b[0m Sample batch 1/1: Stage 2/2 (Index): Processed 80% (47/59) samples\n",
      "\u001b[32m2021-08-18 13:47:28\u001b[0m \u001b[1;30mINFO:\u001b[0m Sample batch 1/1: Stage 2/2 (Index): Processed 81% (48/59) samples\n",
      "\u001b[32m2021-08-18 13:47:28\u001b[0m \u001b[1;30mINFO:\u001b[0m Sample batch 1/1: Stage 2/2 (Index): Processed 83% (49/59) samples\n",
      "\u001b[32m2021-08-18 13:47:28\u001b[0m \u001b[1;30mINFO:\u001b[0m Sample batch 1/1: Stage 2/2 (Index): Processed 85% (50/59) samples\n",
      "\u001b[32m2021-08-18 13:47:28\u001b[0m \u001b[1;30mINFO:\u001b[0m Sample batch 1/1: Stage 2/2 (Index): Processed 86% (51/59) samples\n",
      "\u001b[32m2021-08-18 13:47:28\u001b[0m \u001b[1;30mINFO:\u001b[0m Sample batch 1/1: Stage 2/2 (Index): Processed 88% (52/59) samples\n",
      "\u001b[32m2021-08-18 13:47:28\u001b[0m \u001b[1;30mINFO:\u001b[0m Sample batch 1/1: Stage 2/2 (Index): Processed 90% (53/59) samples\n",
      "\u001b[32m2021-08-18 13:47:28\u001b[0m \u001b[1;30mINFO:\u001b[0m Sample batch 1/1: Stage 2/2 (Index): Processed 92% (54/59) samples\n",
      "\u001b[32m2021-08-18 13:47:28\u001b[0m \u001b[1;30mINFO:\u001b[0m Sample batch 1/1: Stage 2/2 (Index): Processed 93% (55/59) samples\n",
      "\u001b[32m2021-08-18 13:47:28\u001b[0m \u001b[1;30mINFO:\u001b[0m Sample batch 1/1: Stage 2/2 (Index): Processed 95% (56/59) samples\n",
      "\u001b[32m2021-08-18 13:47:28\u001b[0m \u001b[1;30mINFO:\u001b[0m Sample batch 1/1: Stage 2/2 (Index): Processed 97% (57/59) samples\n",
      "\u001b[32m2021-08-18 13:47:28\u001b[0m \u001b[1;30mINFO:\u001b[0m Sample batch 1/1: Stage 2/2 (Index): Processed 98% (58/59) samples\n",
      "\u001b[32m2021-08-18 13:47:28\u001b[0m \u001b[1;30mINFO:\u001b[0m Sample batch 1/1: Stage 2/2 (Index): Processed 100% (59/59) samples\n",
      "\u001b[32m2021-08-18 13:47:29\u001b[0m \u001b[1;30mINFO:\u001b[0m Aggregating 1055359 features found in 59 samples\n",
      "\u001b[32m2021-08-18 13:48:03\u001b[0m \u001b[1;30mINFO:\u001b[0m A total of 78949 unique features across 59 samples will be updated. Searching for existing features in the database.\n",
      "\u001b[32m2021-08-18 13:48:03\u001b[0m \u001b[1;30mINFO:\u001b[0m Found 0/78949 features in database which already exist. These features will be updated to map to the new samples.\n",
      "\u001b[32m2021-08-18 13:48:03\u001b[0m \u001b[1;30mINFO:\u001b[0m Updating 0/78949 existing features in database\n",
      "\u001b[32m2021-08-18 13:48:03\u001b[0m \u001b[1;30mINFO:\u001b[0m Saving 78949/78949 new features in database\n",
      "\u001b[32m2021-08-18 13:48:05\u001b[0m \u001b[1;30mINFO:\u001b[0m Finished indexing features from 59 samples\n",
      "\u001b[32m2021-08-18 13:48:06\u001b[0m \u001b[1;30mINFO:\u001b[0m Loaded variants from [/home/CSCScience.ca/apetkau/workspace/genomics-data-index-evaluation/evaluations/simulation/snakemake-assemblies.1629312354.5644708/gdi-input.fofn] into database\n",
      "\u001b[32m2021-08-18 13:48:06\u001b[0m \u001b[1;30mINFO:\u001b[0m --clean is enabled so deleting [/home/CSCScience.ca/apetkau/workspace/genomics-data-index-evaluation/evaluations/simulation/snakemake-assemblies.1629312354.5644708]\n"
     ]
    }
   ],
   "source": [
    "assemblies_dir = 'simulated_data/assemblies'\n",
    "reference_file = 'input/S_HeidelbergSL476.fasta.gz'\n",
    "ncores = 32\n",
    "\n",
    "!gdi --project-dir {index_assemblies_path} --ncores {ncores} analysis \\\n",
    "    --use-conda --reference-file {reference_file} {assemblies_dir}/*.fa.gz"
   ]
  },
  {
   "cell_type": "markdown",
   "id": "2f257630-ee2e-4a14-8383-5ececd1d9256",
   "metadata": {},
   "source": [
    "# 3. Create phylogenetic tree\n",
    "\n",
    "## 3.1. Reads\n",
    "\n",
    "### 3.1.1. Reads with only SNPs"
   ]
  },
  {
   "cell_type": "code",
   "execution_count": 5,
   "id": "8926d3ae-c9d1-47fe-94d4-e5fa5922a1eb",
   "metadata": {},
   "outputs": [
    {
     "name": "stdout",
     "output_type": "stream",
     "text": [
      "\u001b[32m2021-08-18 13:48:09\u001b[0m \u001b[1;30mINFO:\u001b[0m Building build_tree using \"iqtree\" for 0 samples\n",
      "\u001b[32m2021-08-18 13:48:09\u001b[0m \u001b[1;30mINFO:\u001b[0m Started building alignment for 59 samples with include_variants=['SNP']\n",
      "\u001b[32m2021-08-18 13:48:23\u001b[0m \u001b[1;30mINFO:\u001b[0m Finished building alignment for 59 samples. Took 13.53 seconds\n",
      "Wrote tree to [index-reads/reads.snp-tree.tre]\n"
     ]
    }
   ],
   "source": [
    "ncores = 32\n",
    "\n",
    "output_tree = index_reads_path / 'reads.snp-tree.tre'\n",
    "\n",
    "!gdi --project-dir index-reads/ --ncores 32 build tree \\\n",
    "     --align-type full --include-variants SNP \\\n",
    "     --extra-params '--fast -m GTR+F+R4' --output-file {output_tree} --reference-name S_HeidelbergSL476\n",
    "!sed -i.bak -e 's/S_HeidelbergSL476/reference/' {output_tree}"
   ]
  },
  {
   "cell_type": "markdown",
   "id": "8d01e169-f7f0-43f3-90e3-2f8d221b4bbb",
   "metadata": {},
   "source": [
    "### 3.1.2. Reads with SNPs and MNPs"
   ]
  },
  {
   "cell_type": "code",
   "execution_count": 6,
   "id": "6a9b70d9-3341-4940-9cd9-ba7296a409c3",
   "metadata": {},
   "outputs": [
    {
     "name": "stdout",
     "output_type": "stream",
     "text": [
      "\u001b[32m2021-08-18 13:53:38\u001b[0m \u001b[1;30mINFO:\u001b[0m Building build_tree using \"iqtree\" for 0 samples\n",
      "\u001b[32m2021-08-18 13:53:38\u001b[0m \u001b[1;30mINFO:\u001b[0m Started building alignment for 59 samples with include_variants=['SNP', 'MNP']\n",
      "\u001b[32m2021-08-18 13:53:52\u001b[0m \u001b[1;30mINFO:\u001b[0m Finished building alignment for 59 samples. Took 13.56 seconds\n",
      "Wrote tree to [index-reads/reads.snp-mnp-tree.tre]\n"
     ]
    }
   ],
   "source": [
    "ncores = 32\n",
    "\n",
    "output_tree = index_reads_path / 'reads.snp-mnp-tree.tre'\n",
    "\n",
    "!gdi --project-dir index-reads/ --ncores 32 build tree \\\n",
    "     --align-type full --include-variants SNP --include-variants MNP \\\n",
    "     --extra-params '--fast -m GTR+F+R4' --output-file {output_tree} --reference-name S_HeidelbergSL476\n",
    "!sed -i.bak -e 's/S_HeidelbergSL476/reference/' {output_tree}"
   ]
  },
  {
   "cell_type": "markdown",
   "id": "f3b214cd-b402-42f3-8bd4-252ddc82f422",
   "metadata": {},
   "source": [
    "## 3.2. Assemblies\n",
    "\n",
    "### 3.2.1. Assemblies with only SNPs"
   ]
  },
  {
   "cell_type": "code",
   "execution_count": 7,
   "id": "751765f4-98a3-481b-b21f-5c956589eb20",
   "metadata": {},
   "outputs": [
    {
     "name": "stdout",
     "output_type": "stream",
     "text": [
      "\u001b[32m2021-08-18 13:56:48\u001b[0m \u001b[1;30mINFO:\u001b[0m Building build_tree using \"iqtree\" for 0 samples\n",
      "\u001b[32m2021-08-18 13:56:48\u001b[0m \u001b[1;30mINFO:\u001b[0m Started building alignment for 59 samples with include_variants=['SNP']\n",
      "\u001b[32m2021-08-18 13:57:01\u001b[0m \u001b[1;30mINFO:\u001b[0m Finished building alignment for 59 samples. Took 13.22 seconds\n",
      "Wrote tree to [index-assemblies/assemblies.snp-tree.tre]\n"
     ]
    }
   ],
   "source": [
    "ncores = 32\n",
    "\n",
    "output_tree = index_assemblies_path / 'assemblies.snp-tree.tre'\n",
    "\n",
    "!gdi --project-dir index-assemblies/ --ncores 32 build tree \\\n",
    "     --align-type full --include-variants SNP \\\n",
    "     --extra-params '--fast -m GTR+F+R4' --output-file {output_tree} --reference-name S_HeidelbergSL476\n",
    "!sed -i.bak -e 's/S_HeidelbergSL476/reference/' {output_tree}"
   ]
  },
  {
   "cell_type": "markdown",
   "id": "35ad4eed-5bb1-4243-8a8e-66e68c5a71fb",
   "metadata": {},
   "source": [
    "### 3.2.2. Assemblies with SNPs and MNPs"
   ]
  },
  {
   "cell_type": "code",
   "execution_count": 8,
   "id": "915b2558-0292-4672-a465-902d6ffc3daa",
   "metadata": {},
   "outputs": [
    {
     "name": "stdout",
     "output_type": "stream",
     "text": [
      "\u001b[32m2021-08-18 13:58:48\u001b[0m \u001b[1;30mINFO:\u001b[0m Building build_tree using \"iqtree\" for 0 samples\n",
      "\u001b[32m2021-08-18 13:58:48\u001b[0m \u001b[1;30mINFO:\u001b[0m Started building alignment for 59 samples with include_variants=['SNP', 'MNP']\n",
      "\u001b[32m2021-08-18 13:59:01\u001b[0m \u001b[1;30mINFO:\u001b[0m Finished building alignment for 59 samples. Took 13.10 seconds\n",
      "Wrote tree to [index-assemblies/assemblies.snp-mnp-tree.tre]\n"
     ]
    }
   ],
   "source": [
    "ncores = 32\n",
    "\n",
    "output_tree = index_assemblies_path / 'assemblies.snp-mnp-tree.tre'\n",
    "\n",
    "!gdi --project-dir index-assemblies/ --ncores 32 build tree \\\n",
    "     --align-type full --include-variants SNP --include-variants MNP \\\n",
    "     --extra-params '--fast -m GTR+F+R4' --output-file {output_tree} --reference-name S_HeidelbergSL476\n",
    "!sed -i.bak -e 's/S_HeidelbergSL476/reference/' {output_tree}"
   ]
  },
  {
   "cell_type": "markdown",
   "id": "d1f74b95-2e3e-44a2-a48e-877ca66b8389",
   "metadata": {},
   "source": [
    "# 4. Build k-mer based trees\n",
    "\n",
    "## 4.1. Build k-mer reads tree"
   ]
  }
 ],
 "metadata": {
  "kernelspec": {
   "display_name": "Python 3 (ipykernel)",
   "language": "python",
   "name": "python3"
  },
  "language_info": {
   "codemirror_mode": {
    "name": "ipython",
    "version": 3
   },
   "file_extension": ".py",
   "mimetype": "text/x-python",
   "name": "python",
   "nbconvert_exporter": "python",
   "pygments_lexer": "ipython3",
   "version": "3.8.10"
  }
 },
 "nbformat": 4,
 "nbformat_minor": 5
}
