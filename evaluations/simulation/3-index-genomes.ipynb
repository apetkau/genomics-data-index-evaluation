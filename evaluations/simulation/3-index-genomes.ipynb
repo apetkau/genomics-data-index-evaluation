{
 "cells": [
  {
   "cell_type": "markdown",
   "id": "ecf45167-e286-4fca-b564-3625ed5eb452",
   "metadata": {},
   "source": [
    "# 1. Initialize indexes"
   ]
  },
  {
   "cell_type": "code",
   "execution_count": 2,
   "id": "9402cfbf-8faa-4af5-8af3-9f3439129e7b",
   "metadata": {},
   "outputs": [
    {
     "name": "stdout",
     "output_type": "stream",
     "text": [
      "gdi, version 0.2.0\n",
      "Initializing empty project in [index-reads]\n",
      "Initializing empty project in [index-assemblies]\n"
     ]
    }
   ],
   "source": [
    "from pathlib import Path\n",
    "from os import mkdir\n",
    "from shutil import rmtree\n",
    "\n",
    "index_reads_path = Path('index-reads')\n",
    "index_assemblies_path = Path('index-assemblies')\n",
    "\n",
    "if index_reads_path.exists():\n",
    "    rmtree(index_reads_path)\n",
    "    \n",
    "if index_assemblies_path.exists():\n",
    "    rmtree(index_assemblies_path)\n",
    "\n",
    "!gdi --version\n",
    "!gdi init {index_reads_path}\n",
    "!gdi init {index_assemblies_path}"
   ]
  },
  {
   "cell_type": "markdown",
   "id": "f208279e-7558-47fc-9362-da29df92828a",
   "metadata": {},
   "source": [
    "# 2. Index genomes\n",
    "\n",
    "## 2.1. Index reads"
   ]
  },
  {
   "cell_type": "code",
   "execution_count": 3,
   "id": "3b5373df-88ea-4336-abf8-d42455f750d6",
   "metadata": {},
   "outputs": [
    {
     "name": "stdout",
     "output_type": "stream",
     "text": [
      "\u001b[32m2021-08-17 19:25:20\u001b[0m \u001b[1;30mINFO:\u001b[0m Automatically structuring 118 input files into assemblies/reads\n",
      "\u001b[32m2021-08-17 19:25:20\u001b[0m \u001b[1;30mINFO:\u001b[0m Processing 59 genomes to identify mutations\n",
      "\u001b[32m2021-08-17 19:25:20\u001b[0m \u001b[1;30mINFO:\u001b[0m Cannot use snpeff for reference file [input/S_HeidelbergSL476.fasta.gz], no snpeff annotations are included\n",
      "\u001b[32m2021-08-17 19:25:20\u001b[0m \u001b[1;30mINFO:\u001b[0m Running Snakemake for rule all\n",
      "\u001b[32m2021-08-17 19:38:10\u001b[0m \u001b[1;30mINFO:\u001b[0m Finished running snakemake.\n",
      "\u001b[32m2021-08-17 19:38:10\u001b[0m \u001b[1;30mINFO:\u001b[0m Indexing processed VCF files defined in [/home/CSCScience.ca/apetkau/workspace/genomics-data-index-evaluation/evaluations/simulation/snakemake-assemblies.1629246320.477752/gdi-input.fofn]\n",
      "\u001b[32m2021-08-17 19:38:10\u001b[0m \u001b[1;30mWARNING:\u001b[0m \u001b[33mAttempting to set global database_path_translator=<genomics_data_index.storage.model.db.DatabasePathTranslator.DatabasePathTranslator object at 0x7f3bd70b3af0> but it is already set\u001b[0m\n",
      "\u001b[32m2021-08-17 19:38:10\u001b[0m \u001b[1;30mINFO:\u001b[0m Attempting to load reference genome=[input/S_HeidelbergSL476.fasta.gz]\n",
      "\u001b[32m2021-08-17 19:38:11\u001b[0m \u001b[1;30mINFO:\u001b[0m Sample batch 1/1: Stage 1/2 (Insert): Processed 0% (0/59) samples\n",
      "\u001b[32m2021-08-17 19:38:16\u001b[0m \u001b[1;30mINFO:\u001b[0m Sample batch 1/1: Stage 1/2 (Insert): Processed 8% (5/59) samples\n",
      "\u001b[32m2021-08-17 19:38:16\u001b[0m \u001b[1;30mINFO:\u001b[0m Sample batch 1/1: Stage 1/2 (Insert): Processed 17% (10/59) samples\n",
      "\u001b[32m2021-08-17 19:38:17\u001b[0m \u001b[1;30mINFO:\u001b[0m Sample batch 1/1: Stage 1/2 (Insert): Processed 25% (15/59) samples\n",
      "\u001b[32m2021-08-17 19:38:17\u001b[0m \u001b[1;30mINFO:\u001b[0m Sample batch 1/1: Stage 1/2 (Insert): Processed 34% (20/59) samples\n",
      "\u001b[32m2021-08-17 19:38:17\u001b[0m \u001b[1;30mINFO:\u001b[0m Sample batch 1/1: Stage 1/2 (Insert): Processed 42% (25/59) samples\n",
      "\u001b[32m2021-08-17 19:38:17\u001b[0m \u001b[1;30mINFO:\u001b[0m Sample batch 1/1: Stage 1/2 (Insert): Processed 51% (30/59) samples\n",
      "\u001b[32m2021-08-17 19:38:17\u001b[0m \u001b[1;30mINFO:\u001b[0m Sample batch 1/1: Stage 1/2 (Insert): Processed 59% (35/59) samples\n",
      "\u001b[32m2021-08-17 19:38:17\u001b[0m \u001b[1;30mINFO:\u001b[0m Sample batch 1/1: Stage 1/2 (Insert): Processed 68% (40/59) samples\n",
      "\u001b[32m2021-08-17 19:38:17\u001b[0m \u001b[1;30mINFO:\u001b[0m Sample batch 1/1: Stage 1/2 (Insert): Processed 76% (45/59) samples\n",
      "\u001b[32m2021-08-17 19:38:18\u001b[0m \u001b[1;30mINFO:\u001b[0m Sample batch 1/1: Stage 1/2 (Insert): Processed 85% (50/59) samples\n",
      "\u001b[32m2021-08-17 19:38:19\u001b[0m \u001b[1;30mINFO:\u001b[0m Sample batch 1/1: Stage 1/2 (Insert): Processed 93% (55/59) samples\n",
      "\u001b[32m2021-08-17 19:38:19\u001b[0m \u001b[1;30mINFO:\u001b[0m Sample batch 1/1: Stage 1/2 (Insert): Processed 100% (59/59) samples\n",
      "\u001b[32m2021-08-17 19:38:19\u001b[0m \u001b[1;30mINFO:\u001b[0m Finished processing 59 samples\n",
      "\u001b[32m2021-08-17 19:38:19\u001b[0m \u001b[1;30mINFO:\u001b[0m Reading features from 59 samples\n",
      "\u001b[32m2021-08-17 19:38:19\u001b[0m \u001b[1;30mINFO:\u001b[0m Sample batch 1/1: Stage 2/2 (Index): Processed 0% (0/59) samples\n",
      "\u001b[32m2021-08-17 19:38:21\u001b[0m \u001b[1;30mINFO:\u001b[0m Sample batch 1/1: Stage 2/2 (Index): Processed 0% (0/59) samples\n",
      "\u001b[32m2021-08-17 19:38:23\u001b[0m \u001b[1;30mINFO:\u001b[0m Sample batch 1/1: Stage 2/2 (Index): Processed 2% (1/59) samples\n",
      "\u001b[32m2021-08-17 19:38:23\u001b[0m \u001b[1;30mINFO:\u001b[0m Sample batch 1/1: Stage 2/2 (Index): Processed 3% (2/59) samples\n",
      "\u001b[32m2021-08-17 19:38:23\u001b[0m \u001b[1;30mINFO:\u001b[0m Sample batch 1/1: Stage 2/2 (Index): Processed 5% (3/59) samples\n",
      "\u001b[32m2021-08-17 19:38:23\u001b[0m \u001b[1;30mINFO:\u001b[0m Sample batch 1/1: Stage 2/2 (Index): Processed 7% (4/59) samples\n",
      "\u001b[32m2021-08-17 19:38:24\u001b[0m \u001b[1;30mINFO:\u001b[0m Sample batch 1/1: Stage 2/2 (Index): Processed 8% (5/59) samples\n",
      "\u001b[32m2021-08-17 19:38:24\u001b[0m \u001b[1;30mINFO:\u001b[0m Sample batch 1/1: Stage 2/2 (Index): Processed 10% (6/59) samples\n",
      "\u001b[32m2021-08-17 19:38:24\u001b[0m \u001b[1;30mINFO:\u001b[0m Sample batch 1/1: Stage 2/2 (Index): Processed 12% (7/59) samples\n",
      "\u001b[32m2021-08-17 19:38:24\u001b[0m \u001b[1;30mINFO:\u001b[0m Sample batch 1/1: Stage 2/2 (Index): Processed 14% (8/59) samples\n",
      "\u001b[32m2021-08-17 19:38:24\u001b[0m \u001b[1;30mINFO:\u001b[0m Sample batch 1/1: Stage 2/2 (Index): Processed 15% (9/59) samples\n",
      "\u001b[32m2021-08-17 19:38:24\u001b[0m \u001b[1;30mINFO:\u001b[0m Sample batch 1/1: Stage 2/2 (Index): Processed 17% (10/59) samples\n",
      "\u001b[32m2021-08-17 19:38:24\u001b[0m \u001b[1;30mINFO:\u001b[0m Sample batch 1/1: Stage 2/2 (Index): Processed 19% (11/59) samples\n",
      "\u001b[32m2021-08-17 19:38:24\u001b[0m \u001b[1;30mINFO:\u001b[0m Sample batch 1/1: Stage 2/2 (Index): Processed 20% (12/59) samples\n",
      "\u001b[32m2021-08-17 19:38:24\u001b[0m \u001b[1;30mINFO:\u001b[0m Sample batch 1/1: Stage 2/2 (Index): Processed 22% (13/59) samples\n",
      "\u001b[32m2021-08-17 19:38:24\u001b[0m \u001b[1;30mINFO:\u001b[0m Sample batch 1/1: Stage 2/2 (Index): Processed 24% (14/59) samples\n",
      "\u001b[32m2021-08-17 19:38:24\u001b[0m \u001b[1;30mINFO:\u001b[0m Sample batch 1/1: Stage 2/2 (Index): Processed 25% (15/59) samples\n",
      "\u001b[32m2021-08-17 19:38:24\u001b[0m \u001b[1;30mINFO:\u001b[0m Sample batch 1/1: Stage 2/2 (Index): Processed 27% (16/59) samples\n",
      "\u001b[32m2021-08-17 19:38:24\u001b[0m \u001b[1;30mINFO:\u001b[0m Sample batch 1/1: Stage 2/2 (Index): Processed 29% (17/59) samples\n",
      "\u001b[32m2021-08-17 19:38:24\u001b[0m \u001b[1;30mINFO:\u001b[0m Sample batch 1/1: Stage 2/2 (Index): Processed 31% (18/59) samples\n",
      "\u001b[32m2021-08-17 19:38:24\u001b[0m \u001b[1;30mINFO:\u001b[0m Sample batch 1/1: Stage 2/2 (Index): Processed 32% (19/59) samples\n",
      "\u001b[32m2021-08-17 19:38:24\u001b[0m \u001b[1;30mINFO:\u001b[0m Sample batch 1/1: Stage 2/2 (Index): Processed 34% (20/59) samples\n",
      "\u001b[32m2021-08-17 19:38:24\u001b[0m \u001b[1;30mINFO:\u001b[0m Sample batch 1/1: Stage 2/2 (Index): Processed 36% (21/59) samples\n",
      "\u001b[32m2021-08-17 19:38:25\u001b[0m \u001b[1;30mINFO:\u001b[0m Sample batch 1/1: Stage 2/2 (Index): Processed 37% (22/59) samples\n",
      "\u001b[32m2021-08-17 19:38:25\u001b[0m \u001b[1;30mINFO:\u001b[0m Sample batch 1/1: Stage 2/2 (Index): Processed 39% (23/59) samples\n",
      "\u001b[32m2021-08-17 19:38:25\u001b[0m \u001b[1;30mINFO:\u001b[0m Sample batch 1/1: Stage 2/2 (Index): Processed 41% (24/59) samples\n",
      "\u001b[32m2021-08-17 19:38:25\u001b[0m \u001b[1;30mINFO:\u001b[0m Sample batch 1/1: Stage 2/2 (Index): Processed 42% (25/59) samples\n",
      "\u001b[32m2021-08-17 19:38:25\u001b[0m \u001b[1;30mINFO:\u001b[0m Sample batch 1/1: Stage 2/2 (Index): Processed 44% (26/59) samples\n",
      "\u001b[32m2021-08-17 19:38:25\u001b[0m \u001b[1;30mINFO:\u001b[0m Sample batch 1/1: Stage 2/2 (Index): Processed 46% (27/59) samples\n",
      "\u001b[32m2021-08-17 19:38:25\u001b[0m \u001b[1;30mINFO:\u001b[0m Sample batch 1/1: Stage 2/2 (Index): Processed 47% (28/59) samples\n",
      "\u001b[32m2021-08-17 19:38:25\u001b[0m \u001b[1;30mINFO:\u001b[0m Sample batch 1/1: Stage 2/2 (Index): Processed 49% (29/59) samples\n",
      "\u001b[32m2021-08-17 19:38:25\u001b[0m \u001b[1;30mINFO:\u001b[0m Sample batch 1/1: Stage 2/2 (Index): Processed 51% (30/59) samples\n",
      "\u001b[32m2021-08-17 19:38:25\u001b[0m \u001b[1;30mINFO:\u001b[0m Sample batch 1/1: Stage 2/2 (Index): Processed 53% (31/59) samples\n",
      "\u001b[32m2021-08-17 19:38:25\u001b[0m \u001b[1;30mINFO:\u001b[0m Sample batch 1/1: Stage 2/2 (Index): Processed 54% (32/59) samples\n",
      "\u001b[32m2021-08-17 19:38:25\u001b[0m \u001b[1;30mINFO:\u001b[0m Sample batch 1/1: Stage 2/2 (Index): Processed 56% (33/59) samples\n",
      "\u001b[32m2021-08-17 19:38:25\u001b[0m \u001b[1;30mINFO:\u001b[0m Sample batch 1/1: Stage 2/2 (Index): Processed 58% (34/59) samples\n",
      "\u001b[32m2021-08-17 19:38:25\u001b[0m \u001b[1;30mINFO:\u001b[0m Sample batch 1/1: Stage 2/2 (Index): Processed 59% (35/59) samples\n",
      "\u001b[32m2021-08-17 19:38:25\u001b[0m \u001b[1;30mINFO:\u001b[0m Sample batch 1/1: Stage 2/2 (Index): Processed 61% (36/59) samples\n",
      "\u001b[32m2021-08-17 19:38:25\u001b[0m \u001b[1;30mINFO:\u001b[0m Sample batch 1/1: Stage 2/2 (Index): Processed 63% (37/59) samples\n",
      "\u001b[32m2021-08-17 19:38:25\u001b[0m \u001b[1;30mINFO:\u001b[0m Sample batch 1/1: Stage 2/2 (Index): Processed 64% (38/59) samples\n",
      "\u001b[32m2021-08-17 19:38:25\u001b[0m \u001b[1;30mINFO:\u001b[0m Sample batch 1/1: Stage 2/2 (Index): Processed 66% (39/59) samples\n",
      "\u001b[32m2021-08-17 19:38:25\u001b[0m \u001b[1;30mINFO:\u001b[0m Sample batch 1/1: Stage 2/2 (Index): Processed 68% (40/59) samples\n",
      "\u001b[32m2021-08-17 19:38:25\u001b[0m \u001b[1;30mINFO:\u001b[0m Sample batch 1/1: Stage 2/2 (Index): Processed 69% (41/59) samples\n",
      "\u001b[32m2021-08-17 19:38:25\u001b[0m \u001b[1;30mINFO:\u001b[0m Sample batch 1/1: Stage 2/2 (Index): Processed 71% (42/59) samples\n",
      "\u001b[32m2021-08-17 19:38:25\u001b[0m \u001b[1;30mINFO:\u001b[0m Sample batch 1/1: Stage 2/2 (Index): Processed 73% (43/59) samples\n",
      "\u001b[32m2021-08-17 19:38:25\u001b[0m \u001b[1;30mINFO:\u001b[0m Sample batch 1/1: Stage 2/2 (Index): Processed 75% (44/59) samples\n",
      "\u001b[32m2021-08-17 19:38:25\u001b[0m \u001b[1;30mINFO:\u001b[0m Sample batch 1/1: Stage 2/2 (Index): Processed 76% (45/59) samples\n",
      "\u001b[32m2021-08-17 19:38:26\u001b[0m \u001b[1;30mINFO:\u001b[0m Sample batch 1/1: Stage 2/2 (Index): Processed 78% (46/59) samples\n",
      "\u001b[32m2021-08-17 19:38:26\u001b[0m \u001b[1;30mINFO:\u001b[0m Sample batch 1/1: Stage 2/2 (Index): Processed 80% (47/59) samples\n",
      "\u001b[32m2021-08-17 19:38:26\u001b[0m \u001b[1;30mINFO:\u001b[0m Sample batch 1/1: Stage 2/2 (Index): Processed 81% (48/59) samples\n",
      "\u001b[32m2021-08-17 19:38:26\u001b[0m \u001b[1;30mINFO:\u001b[0m Sample batch 1/1: Stage 2/2 (Index): Processed 83% (49/59) samples\n",
      "\u001b[32m2021-08-17 19:38:26\u001b[0m \u001b[1;30mINFO:\u001b[0m Sample batch 1/1: Stage 2/2 (Index): Processed 85% (50/59) samples\n",
      "\u001b[32m2021-08-17 19:38:26\u001b[0m \u001b[1;30mINFO:\u001b[0m Sample batch 1/1: Stage 2/2 (Index): Processed 86% (51/59) samples\n",
      "\u001b[32m2021-08-17 19:38:26\u001b[0m \u001b[1;30mINFO:\u001b[0m Sample batch 1/1: Stage 2/2 (Index): Processed 88% (52/59) samples\n",
      "\u001b[32m2021-08-17 19:38:26\u001b[0m \u001b[1;30mINFO:\u001b[0m Sample batch 1/1: Stage 2/2 (Index): Processed 90% (53/59) samples\n",
      "\u001b[32m2021-08-17 19:38:26\u001b[0m \u001b[1;30mINFO:\u001b[0m Sample batch 1/1: Stage 2/2 (Index): Processed 92% (54/59) samples\n",
      "\u001b[32m2021-08-17 19:38:26\u001b[0m \u001b[1;30mINFO:\u001b[0m Sample batch 1/1: Stage 2/2 (Index): Processed 93% (55/59) samples\n",
      "\u001b[32m2021-08-17 19:38:26\u001b[0m \u001b[1;30mINFO:\u001b[0m Sample batch 1/1: Stage 2/2 (Index): Processed 95% (56/59) samples\n",
      "\u001b[32m2021-08-17 19:38:26\u001b[0m \u001b[1;30mINFO:\u001b[0m Sample batch 1/1: Stage 2/2 (Index): Processed 97% (57/59) samples\n",
      "\u001b[32m2021-08-17 19:38:26\u001b[0m \u001b[1;30mINFO:\u001b[0m Sample batch 1/1: Stage 2/2 (Index): Processed 98% (58/59) samples\n",
      "\u001b[32m2021-08-17 19:38:27\u001b[0m \u001b[1;30mINFO:\u001b[0m Sample batch 1/1: Stage 2/2 (Index): Processed 100% (59/59) samples\n",
      "\u001b[32m2021-08-17 19:38:30\u001b[0m \u001b[1;30mINFO:\u001b[0m Aggregating 4346590 features found in 59 samples\n",
      "\u001b[32m2021-08-17 19:40:48\u001b[0m \u001b[1;30mINFO:\u001b[0m A total of 286587 unique features across 59 samples will be updated. Searching for existing features in the database.\n",
      "\u001b[32m2021-08-17 19:40:49\u001b[0m \u001b[1;30mINFO:\u001b[0m Found 0/286587 features in database which already exist. These features will be updated to map to the new samples.\n",
      "\u001b[32m2021-08-17 19:40:49\u001b[0m \u001b[1;30mINFO:\u001b[0m Updating 0/286587 existing features in database\n",
      "\u001b[32m2021-08-17 19:40:49\u001b[0m \u001b[1;30mINFO:\u001b[0m Saving 286587/286587 new features in database\n",
      "\u001b[32m2021-08-17 19:41:00\u001b[0m \u001b[1;30mINFO:\u001b[0m Finished indexing features from 59 samples\n",
      "\u001b[32m2021-08-17 19:41:01\u001b[0m \u001b[1;30mINFO:\u001b[0m Loaded variants from [/home/CSCScience.ca/apetkau/workspace/genomics-data-index-evaluation/evaluations/simulation/snakemake-assemblies.1629246320.477752/gdi-input.fofn] into database\n",
      "\u001b[32m2021-08-17 19:41:01\u001b[0m \u001b[1;30mINFO:\u001b[0m --clean is enabled so deleting [/home/CSCScience.ca/apetkau/workspace/genomics-data-index-evaluation/evaluations/simulation/snakemake-assemblies.1629246320.477752]\n"
     ]
    }
   ],
   "source": [
    "import glob\n",
    "\n",
    "reads_dir = 'simulated_data/reads'\n",
    "reference_file = 'input/S_HeidelbergSL476.fasta.gz'\n",
    "ncores = 48\n",
    "\n",
    "!gdi --project-dir {index_reads_path} --ncores {ncores} analysis \\\n",
    "    --use-conda --reference-file {reference_file} {reads_dir}/*.fq.gz"
   ]
  },
  {
   "cell_type": "markdown",
   "id": "c331578f-4026-4a9f-a3ba-288814b02ed2",
   "metadata": {},
   "source": [
    "## 2.2. Index assemblies"
   ]
  },
  {
   "cell_type": "code",
   "execution_count": 7,
   "id": "4d5eb692-0782-4d65-80d2-613ffc17edbf",
   "metadata": {},
   "outputs": [
    {
     "name": "stdout",
     "output_type": "stream",
     "text": [
      "\u001b[32m2021-08-17 19:53:38\u001b[0m \u001b[1;30mINFO:\u001b[0m Automatically structuring 59 input files into assemblies/reads\n",
      "\u001b[32m2021-08-17 19:53:38\u001b[0m \u001b[1;30mINFO:\u001b[0m Processing 59 genomes to identify mutations\n",
      "\u001b[32m2021-08-17 19:53:38\u001b[0m \u001b[1;30mINFO:\u001b[0m Cannot use snpeff for reference file [input/S_HeidelbergSL476.fasta.gz], no snpeff annotations are included\n",
      "\u001b[32m2021-08-17 19:53:38\u001b[0m \u001b[1;30mINFO:\u001b[0m Running Snakemake for rule all\n",
      "\u001b[32m2021-08-17 19:56:41\u001b[0m \u001b[1;30mINFO:\u001b[0m Finished running snakemake.\n",
      "\u001b[32m2021-08-17 19:56:41\u001b[0m \u001b[1;30mINFO:\u001b[0m Indexing processed VCF files defined in [/home/CSCScience.ca/apetkau/workspace/genomics-data-index-evaluation/evaluations/simulation/snakemake-assemblies.1629248018.6606922/gdi-input.fofn]\n",
      "\u001b[32m2021-08-17 19:56:41\u001b[0m \u001b[1;30mWARNING:\u001b[0m \u001b[33mAttempting to set global database_path_translator=<genomics_data_index.storage.model.db.DatabasePathTranslator.DatabasePathTranslator object at 0x7f65920b2d60> but it is already set\u001b[0m\n",
      "\u001b[32m2021-08-17 19:56:41\u001b[0m \u001b[1;30mINFO:\u001b[0m Attempting to load reference genome=[input/S_HeidelbergSL476.fasta.gz]\n",
      "\u001b[32m2021-08-17 19:56:42\u001b[0m \u001b[1;30mINFO:\u001b[0m Sample batch 1/1: Stage 1/2 (Insert): Processed 0% (0/59) samples\n",
      "\u001b[32m2021-08-17 19:56:58\u001b[0m \u001b[1;30mINFO:\u001b[0m Sample batch 1/1: Stage 1/2 (Insert): Processed 8% (5/59) samples\n",
      "\u001b[32m2021-08-17 19:56:58\u001b[0m \u001b[1;30mINFO:\u001b[0m Sample batch 1/1: Stage 1/2 (Insert): Processed 17% (10/59) samples\n",
      "\u001b[32m2021-08-17 19:56:58\u001b[0m \u001b[1;30mINFO:\u001b[0m Sample batch 1/1: Stage 1/2 (Insert): Processed 25% (15/59) samples\n",
      "\u001b[32m2021-08-17 19:56:58\u001b[0m \u001b[1;30mINFO:\u001b[0m Sample batch 1/1: Stage 1/2 (Insert): Processed 34% (20/59) samples\n",
      "\u001b[32m2021-08-17 19:56:58\u001b[0m \u001b[1;30mINFO:\u001b[0m Sample batch 1/1: Stage 1/2 (Insert): Processed 42% (25/59) samples\n",
      "\u001b[32m2021-08-17 19:56:58\u001b[0m \u001b[1;30mINFO:\u001b[0m Sample batch 1/1: Stage 1/2 (Insert): Processed 51% (30/59) samples\n",
      "\u001b[32m2021-08-17 19:56:58\u001b[0m \u001b[1;30mINFO:\u001b[0m Sample batch 1/1: Stage 1/2 (Insert): Processed 59% (35/59) samples\n",
      "\u001b[32m2021-08-17 19:56:58\u001b[0m \u001b[1;30mINFO:\u001b[0m Sample batch 1/1: Stage 1/2 (Insert): Processed 68% (40/59) samples\n",
      "\u001b[32m2021-08-17 19:56:58\u001b[0m \u001b[1;30mINFO:\u001b[0m Sample batch 1/1: Stage 1/2 (Insert): Processed 76% (45/59) samples\n",
      "\u001b[32m2021-08-17 19:56:58\u001b[0m \u001b[1;30mINFO:\u001b[0m Sample batch 1/1: Stage 1/2 (Insert): Processed 85% (50/59) samples\n",
      "\u001b[32m2021-08-17 19:56:58\u001b[0m \u001b[1;30mINFO:\u001b[0m Sample batch 1/1: Stage 1/2 (Insert): Processed 93% (55/59) samples\n",
      "\u001b[32m2021-08-17 19:57:04\u001b[0m \u001b[1;30mINFO:\u001b[0m Sample batch 1/1: Stage 1/2 (Insert): Processed 100% (59/59) samples\n",
      "\u001b[32m2021-08-17 19:57:04\u001b[0m \u001b[1;30mINFO:\u001b[0m Finished processing 59 samples\n",
      "\u001b[32m2021-08-17 19:57:04\u001b[0m \u001b[1;30mINFO:\u001b[0m Reading features from 59 samples\n",
      "\u001b[32m2021-08-17 19:57:04\u001b[0m \u001b[1;30mINFO:\u001b[0m Sample batch 1/1: Stage 2/2 (Index): Processed 0% (0/59) samples\n",
      "\u001b[32m2021-08-17 19:57:16\u001b[0m \u001b[1;30mINFO:\u001b[0m Sample batch 1/1: Stage 2/2 (Index): Processed 0% (0/59) samples\n",
      "\u001b[32m2021-08-17 19:57:16\u001b[0m \u001b[1;30mINFO:\u001b[0m Sample batch 1/1: Stage 2/2 (Index): Processed 2% (1/59) samples\n",
      "\u001b[32m2021-08-17 19:57:16\u001b[0m \u001b[1;30mINFO:\u001b[0m Sample batch 1/1: Stage 2/2 (Index): Processed 3% (2/59) samples\n",
      "\u001b[32m2021-08-17 19:57:16\u001b[0m \u001b[1;30mINFO:\u001b[0m Sample batch 1/1: Stage 2/2 (Index): Processed 5% (3/59) samples\n",
      "\u001b[32m2021-08-17 19:57:16\u001b[0m \u001b[1;30mINFO:\u001b[0m Sample batch 1/1: Stage 2/2 (Index): Processed 7% (4/59) samples\n",
      "\u001b[32m2021-08-17 19:57:16\u001b[0m \u001b[1;30mINFO:\u001b[0m Sample batch 1/1: Stage 2/2 (Index): Processed 8% (5/59) samples\n",
      "\u001b[32m2021-08-17 19:57:16\u001b[0m \u001b[1;30mINFO:\u001b[0m Sample batch 1/1: Stage 2/2 (Index): Processed 10% (6/59) samples\n",
      "\u001b[32m2021-08-17 19:57:16\u001b[0m \u001b[1;30mINFO:\u001b[0m Sample batch 1/1: Stage 2/2 (Index): Processed 12% (7/59) samples\n",
      "\u001b[32m2021-08-17 19:57:16\u001b[0m \u001b[1;30mINFO:\u001b[0m Sample batch 1/1: Stage 2/2 (Index): Processed 14% (8/59) samples\n",
      "\u001b[32m2021-08-17 19:57:16\u001b[0m \u001b[1;30mINFO:\u001b[0m Sample batch 1/1: Stage 2/2 (Index): Processed 15% (9/59) samples\n",
      "\u001b[32m2021-08-17 19:57:16\u001b[0m \u001b[1;30mINFO:\u001b[0m Sample batch 1/1: Stage 2/2 (Index): Processed 17% (10/59) samples\n",
      "\u001b[32m2021-08-17 19:57:16\u001b[0m \u001b[1;30mINFO:\u001b[0m Sample batch 1/1: Stage 2/2 (Index): Processed 19% (11/59) samples\n",
      "\u001b[32m2021-08-17 19:57:16\u001b[0m \u001b[1;30mINFO:\u001b[0m Sample batch 1/1: Stage 2/2 (Index): Processed 20% (12/59) samples\n",
      "\u001b[32m2021-08-17 19:57:16\u001b[0m \u001b[1;30mINFO:\u001b[0m Sample batch 1/1: Stage 2/2 (Index): Processed 22% (13/59) samples\n",
      "\u001b[32m2021-08-17 19:57:17\u001b[0m \u001b[1;30mINFO:\u001b[0m Sample batch 1/1: Stage 2/2 (Index): Processed 24% (14/59) samples\n",
      "\u001b[32m2021-08-17 19:57:17\u001b[0m \u001b[1;30mINFO:\u001b[0m Sample batch 1/1: Stage 2/2 (Index): Processed 25% (15/59) samples\n",
      "\u001b[32m2021-08-17 19:57:17\u001b[0m \u001b[1;30mINFO:\u001b[0m Sample batch 1/1: Stage 2/2 (Index): Processed 27% (16/59) samples\n",
      "\u001b[32m2021-08-17 19:57:17\u001b[0m \u001b[1;30mINFO:\u001b[0m Sample batch 1/1: Stage 2/2 (Index): Processed 29% (17/59) samples\n",
      "\u001b[32m2021-08-17 19:57:17\u001b[0m \u001b[1;30mINFO:\u001b[0m Sample batch 1/1: Stage 2/2 (Index): Processed 31% (18/59) samples\n",
      "\u001b[32m2021-08-17 19:57:17\u001b[0m \u001b[1;30mINFO:\u001b[0m Sample batch 1/1: Stage 2/2 (Index): Processed 32% (19/59) samples\n",
      "\u001b[32m2021-08-17 19:57:17\u001b[0m \u001b[1;30mINFO:\u001b[0m Sample batch 1/1: Stage 2/2 (Index): Processed 34% (20/59) samples\n",
      "\u001b[32m2021-08-17 19:57:17\u001b[0m \u001b[1;30mINFO:\u001b[0m Sample batch 1/1: Stage 2/2 (Index): Processed 36% (21/59) samples\n",
      "\u001b[32m2021-08-17 19:57:17\u001b[0m \u001b[1;30mINFO:\u001b[0m Sample batch 1/1: Stage 2/2 (Index): Processed 37% (22/59) samples\n",
      "\u001b[32m2021-08-17 19:57:17\u001b[0m \u001b[1;30mINFO:\u001b[0m Sample batch 1/1: Stage 2/2 (Index): Processed 39% (23/59) samples\n",
      "\u001b[32m2021-08-17 19:57:17\u001b[0m \u001b[1;30mINFO:\u001b[0m Sample batch 1/1: Stage 2/2 (Index): Processed 41% (24/59) samples\n",
      "\u001b[32m2021-08-17 19:57:17\u001b[0m \u001b[1;30mINFO:\u001b[0m Sample batch 1/1: Stage 2/2 (Index): Processed 42% (25/59) samples\n",
      "\u001b[32m2021-08-17 19:57:17\u001b[0m \u001b[1;30mINFO:\u001b[0m Sample batch 1/1: Stage 2/2 (Index): Processed 44% (26/59) samples\n",
      "\u001b[32m2021-08-17 19:57:17\u001b[0m \u001b[1;30mINFO:\u001b[0m Sample batch 1/1: Stage 2/2 (Index): Processed 46% (27/59) samples\n",
      "\u001b[32m2021-08-17 19:57:17\u001b[0m \u001b[1;30mINFO:\u001b[0m Sample batch 1/1: Stage 2/2 (Index): Processed 47% (28/59) samples\n",
      "\u001b[32m2021-08-17 19:57:17\u001b[0m \u001b[1;30mINFO:\u001b[0m Sample batch 1/1: Stage 2/2 (Index): Processed 49% (29/59) samples\n",
      "\u001b[32m2021-08-17 19:57:17\u001b[0m \u001b[1;30mINFO:\u001b[0m Sample batch 1/1: Stage 2/2 (Index): Processed 51% (30/59) samples\n",
      "\u001b[32m2021-08-17 19:57:17\u001b[0m \u001b[1;30mINFO:\u001b[0m Sample batch 1/1: Stage 2/2 (Index): Processed 53% (31/59) samples\n",
      "\u001b[32m2021-08-17 19:57:17\u001b[0m \u001b[1;30mINFO:\u001b[0m Sample batch 1/1: Stage 2/2 (Index): Processed 54% (32/59) samples\n",
      "\u001b[32m2021-08-17 19:57:17\u001b[0m \u001b[1;30mINFO:\u001b[0m Sample batch 1/1: Stage 2/2 (Index): Processed 56% (33/59) samples\n",
      "\u001b[32m2021-08-17 19:57:17\u001b[0m \u001b[1;30mINFO:\u001b[0m Sample batch 1/1: Stage 2/2 (Index): Processed 58% (34/59) samples\n",
      "\u001b[32m2021-08-17 19:57:18\u001b[0m \u001b[1;30mINFO:\u001b[0m Sample batch 1/1: Stage 2/2 (Index): Processed 59% (35/59) samples\n",
      "\u001b[32m2021-08-17 19:57:18\u001b[0m \u001b[1;30mINFO:\u001b[0m Sample batch 1/1: Stage 2/2 (Index): Processed 61% (36/59) samples\n",
      "\u001b[32m2021-08-17 19:57:18\u001b[0m \u001b[1;30mINFO:\u001b[0m Sample batch 1/1: Stage 2/2 (Index): Processed 63% (37/59) samples\n",
      "\u001b[32m2021-08-17 19:57:18\u001b[0m \u001b[1;30mINFO:\u001b[0m Sample batch 1/1: Stage 2/2 (Index): Processed 64% (38/59) samples\n",
      "\u001b[32m2021-08-17 19:57:18\u001b[0m \u001b[1;30mINFO:\u001b[0m Sample batch 1/1: Stage 2/2 (Index): Processed 66% (39/59) samples\n",
      "\u001b[32m2021-08-17 19:57:18\u001b[0m \u001b[1;30mINFO:\u001b[0m Sample batch 1/1: Stage 2/2 (Index): Processed 68% (40/59) samples\n",
      "\u001b[32m2021-08-17 19:57:18\u001b[0m \u001b[1;30mINFO:\u001b[0m Sample batch 1/1: Stage 2/2 (Index): Processed 69% (41/59) samples\n",
      "\u001b[32m2021-08-17 19:57:18\u001b[0m \u001b[1;30mINFO:\u001b[0m Sample batch 1/1: Stage 2/2 (Index): Processed 71% (42/59) samples\n",
      "\u001b[32m2021-08-17 19:57:18\u001b[0m \u001b[1;30mINFO:\u001b[0m Sample batch 1/1: Stage 2/2 (Index): Processed 73% (43/59) samples\n",
      "\u001b[32m2021-08-17 19:57:18\u001b[0m \u001b[1;30mINFO:\u001b[0m Sample batch 1/1: Stage 2/2 (Index): Processed 75% (44/59) samples\n",
      "\u001b[32m2021-08-17 19:57:18\u001b[0m \u001b[1;30mINFO:\u001b[0m Sample batch 1/1: Stage 2/2 (Index): Processed 76% (45/59) samples\n",
      "\u001b[32m2021-08-17 19:57:18\u001b[0m \u001b[1;30mINFO:\u001b[0m Sample batch 1/1: Stage 2/2 (Index): Processed 78% (46/59) samples\n",
      "\u001b[32m2021-08-17 19:57:18\u001b[0m \u001b[1;30mINFO:\u001b[0m Sample batch 1/1: Stage 2/2 (Index): Processed 80% (47/59) samples\n",
      "\u001b[32m2021-08-17 19:57:18\u001b[0m \u001b[1;30mINFO:\u001b[0m Sample batch 1/1: Stage 2/2 (Index): Processed 81% (48/59) samples\n",
      "\u001b[32m2021-08-17 19:57:18\u001b[0m \u001b[1;30mINFO:\u001b[0m Sample batch 1/1: Stage 2/2 (Index): Processed 83% (49/59) samples\n",
      "\u001b[32m2021-08-17 19:57:18\u001b[0m \u001b[1;30mINFO:\u001b[0m Sample batch 1/1: Stage 2/2 (Index): Processed 85% (50/59) samples\n",
      "\u001b[32m2021-08-17 19:57:18\u001b[0m \u001b[1;30mINFO:\u001b[0m Sample batch 1/1: Stage 2/2 (Index): Processed 86% (51/59) samples\n",
      "\u001b[32m2021-08-17 19:57:18\u001b[0m \u001b[1;30mINFO:\u001b[0m Sample batch 1/1: Stage 2/2 (Index): Processed 88% (52/59) samples\n",
      "\u001b[32m2021-08-17 19:57:18\u001b[0m \u001b[1;30mINFO:\u001b[0m Sample batch 1/1: Stage 2/2 (Index): Processed 90% (53/59) samples\n",
      "\u001b[32m2021-08-17 19:57:18\u001b[0m \u001b[1;30mINFO:\u001b[0m Sample batch 1/1: Stage 2/2 (Index): Processed 92% (54/59) samples\n",
      "\u001b[32m2021-08-17 19:57:18\u001b[0m \u001b[1;30mINFO:\u001b[0m Sample batch 1/1: Stage 2/2 (Index): Processed 93% (55/59) samples\n",
      "\u001b[32m2021-08-17 19:57:22\u001b[0m \u001b[1;30mINFO:\u001b[0m Sample batch 1/1: Stage 2/2 (Index): Processed 95% (56/59) samples\n",
      "\u001b[32m2021-08-17 19:57:22\u001b[0m \u001b[1;30mINFO:\u001b[0m Sample batch 1/1: Stage 2/2 (Index): Processed 97% (57/59) samples\n",
      "\u001b[32m2021-08-17 19:57:22\u001b[0m \u001b[1;30mINFO:\u001b[0m Sample batch 1/1: Stage 2/2 (Index): Processed 98% (58/59) samples\n",
      "\u001b[32m2021-08-17 19:57:22\u001b[0m \u001b[1;30mINFO:\u001b[0m Sample batch 1/1: Stage 2/2 (Index): Processed 100% (59/59) samples\n",
      "\u001b[32m2021-08-17 19:57:22\u001b[0m \u001b[1;30mINFO:\u001b[0m Aggregating 1055359 features found in 59 samples\n",
      "\u001b[32m2021-08-17 19:58:01\u001b[0m \u001b[1;30mINFO:\u001b[0m A total of 78949 unique features across 59 samples will be updated. Searching for existing features in the database.\n",
      "\u001b[32m2021-08-17 19:58:01\u001b[0m \u001b[1;30mINFO:\u001b[0m Found 0/78949 features in database which already exist. These features will be updated to map to the new samples.\n",
      "\u001b[32m2021-08-17 19:58:01\u001b[0m \u001b[1;30mINFO:\u001b[0m Updating 0/78949 existing features in database\n",
      "\u001b[32m2021-08-17 19:58:01\u001b[0m \u001b[1;30mINFO:\u001b[0m Saving 78949/78949 new features in database\n",
      "\u001b[32m2021-08-17 19:58:03\u001b[0m \u001b[1;30mINFO:\u001b[0m Finished indexing features from 59 samples\n",
      "\u001b[32m2021-08-17 19:58:03\u001b[0m \u001b[1;30mINFO:\u001b[0m Loaded variants from [/home/CSCScience.ca/apetkau/workspace/genomics-data-index-evaluation/evaluations/simulation/snakemake-assemblies.1629248018.6606922/gdi-input.fofn] into database\n",
      "\u001b[32m2021-08-17 19:58:03\u001b[0m \u001b[1;30mINFO:\u001b[0m --clean is enabled so deleting [/home/CSCScience.ca/apetkau/workspace/genomics-data-index-evaluation/evaluations/simulation/snakemake-assemblies.1629248018.6606922]\n"
     ]
    }
   ],
   "source": [
    "assemblies_dir = 'simulated_data/assemblies'\n",
    "reference_file = 'input/S_HeidelbergSL476.fasta.gz'\n",
    "ncores = 8\n",
    "\n",
    "!gdi --project-dir {index_assemblies_path} --ncores {ncores} analysis \\\n",
    "    --use-conda --reference-file {reference_file} {assemblies_dir}/*.fa.gz"
   ]
  },
  {
   "cell_type": "markdown",
   "id": "2f257630-ee2e-4a14-8383-5ececd1d9256",
   "metadata": {},
   "source": [
    "# 3. Create phylogenetic tree\n",
    "\n",
    "## 3.1. Reads"
   ]
  },
  {
   "cell_type": "code",
   "execution_count": 4,
   "id": "8926d3ae-c9d1-47fe-94d4-e5fa5922a1eb",
   "metadata": {},
   "outputs": [
    {
     "name": "stdout",
     "output_type": "stream",
     "text": [
      "\u001b[32m2021-08-17 19:41:07\u001b[0m \u001b[1;30mINFO:\u001b[0m Started rebuilding tree for reference genome [S_HeidelbergSL476]\n",
      "\u001b[32m2021-08-17 19:46:33\u001b[0m \u001b[1;30mINFO:\u001b[0m Finished rebuilding tree\n"
     ]
    }
   ],
   "source": [
    "ncores = 32\n",
    "\n",
    "!gdi --project-dir {index_reads_path} --ncores {ncores} rebuild tree \\\n",
    "     --align-type full --extra-params '--fast -m GTR+F+R4' S_HeidelbergSL476"
   ]
  },
  {
   "cell_type": "markdown",
   "id": "f3b214cd-b402-42f3-8bd4-252ddc82f422",
   "metadata": {},
   "source": [
    "## 3.2. Assemblies"
   ]
  },
  {
   "cell_type": "code",
   "execution_count": 8,
   "id": "751765f4-98a3-481b-b21f-5c956589eb20",
   "metadata": {},
   "outputs": [
    {
     "name": "stdout",
     "output_type": "stream",
     "text": [
      "\u001b[32m2021-08-17 19:58:07\u001b[0m \u001b[1;30mINFO:\u001b[0m Started rebuilding tree for reference genome [S_HeidelbergSL476]\n",
      "\u001b[32m2021-08-17 20:00:20\u001b[0m \u001b[1;30mINFO:\u001b[0m Finished rebuilding tree\n"
     ]
    }
   ],
   "source": [
    "ncores = 32\n",
    "\n",
    "!gdi --project-dir {index_assemblies_path} --ncores {ncores} rebuild tree \\\n",
    "     --align-type full --extra-params '--fast -m GTR+F+R4' S_HeidelbergSL476"
   ]
  },
  {
   "cell_type": "markdown",
   "id": "f8cf9978-f2e8-4a25-a826-42b1c5fc77a3",
   "metadata": {},
   "source": [
    "# 4. Export tree for comparison to original tree\n",
    "\n",
    "## 4.1. Export reads tree"
   ]
  },
  {
   "cell_type": "code",
   "execution_count": 5,
   "id": "a41269ad-d90e-4c42-bbbb-94c8075be7e4",
   "metadata": {},
   "outputs": [],
   "source": [
    "from os import mkdir\n",
    "from pathlib import Path\n",
    "    \n",
    "!gdi --project-dir index-reads export tree S_HeidelbergSL476 \\\n",
    "    | sed -e 's/S_HeidelbergSL476/reference/' \\\n",
    "    > index-reads/reads-tree.tre"
   ]
  },
  {
   "cell_type": "markdown",
   "id": "2a3c12d3-da26-455b-b992-6000a24d5442",
   "metadata": {},
   "source": [
    "## 4.2. Export assemblies tree"
   ]
  },
  {
   "cell_type": "code",
   "execution_count": 9,
   "id": "91ecc291-fc52-4f3e-b9ca-105c23a5aa99",
   "metadata": {},
   "outputs": [],
   "source": [
    "from os import mkdir\n",
    "from pathlib import Path\n",
    "    \n",
    "!gdi --project-dir index-assemblies export tree S_HeidelbergSL476 \\\n",
    "    | sed -e 's/S_HeidelbergSL476/reference/' \\\n",
    "    > index-assemblies/assemblies-tree.tre"
   ]
  }
 ],
 "metadata": {
  "kernelspec": {
   "display_name": "Python 3 (ipykernel)",
   "language": "python",
   "name": "python3"
  },
  "language_info": {
   "codemirror_mode": {
    "name": "ipython",
    "version": 3
   },
   "file_extension": ".py",
   "mimetype": "text/x-python",
   "name": "python",
   "nbconvert_exporter": "python",
   "pygments_lexer": "ipython3",
   "version": "3.8.10"
  }
 },
 "nbformat": 4,
 "nbformat_minor": 5
}
