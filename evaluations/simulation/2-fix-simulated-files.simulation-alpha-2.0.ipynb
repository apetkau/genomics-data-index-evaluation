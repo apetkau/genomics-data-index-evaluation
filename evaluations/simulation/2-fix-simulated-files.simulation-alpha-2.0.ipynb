{
 "cells": [
  {
   "cell_type": "markdown",
   "id": "acfa5482-d626-44d6-b613-863e6911fa98",
   "metadata": {
    "papermill": {
     "duration": 0.014572,
     "end_time": "2021-09-11T19:02:49.116665",
     "exception": false,
     "start_time": "2021-09-11T19:02:49.102093",
     "status": "completed"
    },
    "tags": []
   },
   "source": [
    "# 1. Parameters"
   ]
  },
  {
   "cell_type": "code",
   "execution_count": 1,
   "id": "36126d74-a9d8-4431-ba49-767c1fc2ec49",
   "metadata": {
    "execution": {
     "iopub.execute_input": "2021-09-11T19:02:49.146140Z",
     "iopub.status.busy": "2021-09-11T19:02:49.145523Z",
     "iopub.status.idle": "2021-09-11T19:02:49.150691Z",
     "shell.execute_reply": "2021-09-11T19:02:49.149883Z"
    },
    "papermill": {
     "duration": 0.025267,
     "end_time": "2021-09-11T19:02:49.150879",
     "exception": false,
     "start_time": "2021-09-11T19:02:49.125612",
     "status": "completed"
    },
    "tags": [
     "parameters"
    ]
   },
   "outputs": [],
   "source": [
    "# Defaults\n",
    "simulation_dir = 'simulations/unset'\n",
    "ncores = 48"
   ]
  },
  {
   "cell_type": "code",
   "execution_count": 2,
   "id": "fc3e6888",
   "metadata": {
    "execution": {
     "iopub.execute_input": "2021-09-11T19:02:49.173147Z",
     "iopub.status.busy": "2021-09-11T19:02:49.172665Z",
     "iopub.status.idle": "2021-09-11T19:02:49.176210Z",
     "shell.execute_reply": "2021-09-11T19:02:49.175801Z"
    },
    "papermill": {
     "duration": 0.016533,
     "end_time": "2021-09-11T19:02:49.176310",
     "exception": false,
     "start_time": "2021-09-11T19:02:49.159777",
     "status": "completed"
    },
    "tags": [
     "injected-parameters"
    ]
   },
   "outputs": [],
   "source": [
    "# Parameters\n",
    "read_coverage = 30\n",
    "mincov = 10\n",
    "simulation_dir = \"simulations/alpha-2.0-cov-30\"\n",
    "iterations = 3\n",
    "sub_alpha = 2.0\n"
   ]
  },
  {
   "cell_type": "code",
   "execution_count": 3,
   "id": "15e911d7-0ffc-4110-aefe-71bc77e689cd",
   "metadata": {
    "execution": {
     "iopub.execute_input": "2021-09-11T19:02:49.197266Z",
     "iopub.status.busy": "2021-09-11T19:02:49.196832Z",
     "iopub.status.idle": "2021-09-11T19:02:49.199727Z",
     "shell.execute_reply": "2021-09-11T19:02:49.200145Z"
    },
    "papermill": {
     "duration": 0.017946,
     "end_time": "2021-09-11T19:02:49.200288",
     "exception": false,
     "start_time": "2021-09-11T19:02:49.182342",
     "status": "completed"
    },
    "tags": []
   },
   "outputs": [],
   "source": [
    "from pathlib import Path\n",
    "import os\n",
    "\n",
    "simulation_data_dir = Path(simulation_dir) / 'simulated_data'\n",
    "initial_reads_dir = simulation_data_dir / 'reads_initial'\n",
    "reads_dir = simulation_data_dir / 'reads'\n",
    "assemblies_dir = simulation_data_dir / 'assemblies'\n",
    "\n",
    "if not reads_dir.exists():\n",
    "    os.mkdir(reads_dir)"
   ]
  },
  {
   "cell_type": "markdown",
   "id": "rotary-regard",
   "metadata": {
    "papermill": {
     "duration": 0.005345,
     "end_time": "2021-09-11T19:02:49.211796",
     "exception": false,
     "start_time": "2021-09-11T19:02:49.206451",
     "status": "completed"
    },
    "tags": []
   },
   "source": [
    "# 2. Fix reads\n",
    "\n",
    "Fix read file names and data so they can be indexed."
   ]
  },
  {
   "cell_type": "code",
   "execution_count": 4,
   "id": "convenient-blackberry",
   "metadata": {
    "execution": {
     "iopub.execute_input": "2021-09-11T19:02:49.234534Z",
     "iopub.status.busy": "2021-09-11T19:02:49.234004Z",
     "iopub.status.idle": "2021-09-11T19:02:49.408579Z",
     "shell.execute_reply": "2021-09-11T19:02:49.409420Z"
    },
    "papermill": {
     "duration": 0.193245,
     "end_time": "2021-09-11T19:02:49.409710",
     "exception": false,
     "start_time": "2021-09-11T19:02:49.216465",
     "status": "completed"
    },
    "tags": []
   },
   "outputs": [
    {
     "name": "stdout",
     "output_type": "stream",
     "text": [
      "~/workspace/genomics-data-index-evaluation/evaluations/simulation/simulations/alpha-2.0-cov-30/simulated_data/reads_initial ~/workspace/genomics-data-index-evaluation/evaluations/simulation\r\n"
     ]
    },
    {
     "name": "stdout",
     "output_type": "stream",
     "text": [
      "~/workspace/genomics-data-index-evaluation/evaluations/simulation\r\n"
     ]
    }
   ],
   "source": [
    "import os\n",
    "\n",
    "# Fix warning about locale unset\n",
    "os.environ['LANG'] = 'en_US.UTF-8'\n",
    "\n",
    "!pushd {initial_reads_dir}; prename 's/data_//' *.fq.gz; popd"
   ]
  },
  {
   "cell_type": "markdown",
   "id": "median-belle",
   "metadata": {
    "papermill": {
     "duration": 0.008732,
     "end_time": "2021-09-11T19:02:49.431585",
     "exception": false,
     "start_time": "2021-09-11T19:02:49.422853",
     "status": "completed"
    },
    "tags": []
   },
   "source": [
    "Jackalope produces reads with non-standard identifiers where pairs of reads don't have matching identifiers. For example:\n",
    "\n",
    "* Pair 1: `@SH08-001-NC_011083-3048632-R/1`\n",
    "* Pair 2: `@SH08-001-NC_011083-3048396-F/2`\n",
    "\n",
    "In order to run snippy, these paired identifiers need to match (except for the `/1` and `/2` suffix).\n",
    "\n",
    "So, I have to replace them all with something unique, but which matches in each pair of files. I do this by replacing the position (I think) with the read number (as it appears in the file). So the above identifiers become:\n",
    "\n",
    "* Pair 1: `@SH08-001-NC_011083-1/1`\n",
    "* Pair 2: `@SH08-001-NC_011083-1/2`"
   ]
  },
  {
   "cell_type": "code",
   "execution_count": 5,
   "id": "remarkable-berry",
   "metadata": {
    "execution": {
     "iopub.execute_input": "2021-09-11T19:02:49.453625Z",
     "iopub.status.busy": "2021-09-11T19:02:49.452497Z",
     "iopub.status.idle": "2021-09-11T19:02:50.468099Z",
     "shell.execute_reply": "2021-09-11T19:02:50.468995Z"
    },
    "papermill": {
     "duration": 1.031779,
     "end_time": "2021-09-11T19:02:50.469295",
     "exception": false,
     "start_time": "2021-09-11T19:02:49.437516",
     "status": "completed"
    },
    "tags": []
   },
   "outputs": [],
   "source": [
    "import glob\n",
    "import os\n",
    "\n",
    "files = [os.path.basename(f) for f in glob.glob(f'{initial_reads_dir}/*.fq.gz')]\n",
    "!parallel -j {ncores} -I% 'gzip -d --stdout {initial_reads_dir}/% | perl scripts/replace-fastq-header.pl | gzip > {reads_dir}/%' \\\n",
    "    ::: {' '.join(files)}"
   ]
  },
  {
   "cell_type": "code",
   "execution_count": 6,
   "id": "8318e7a8-1057-4e4f-aaec-fccdec42a75f",
   "metadata": {
    "execution": {
     "iopub.execute_input": "2021-09-11T19:02:50.497425Z",
     "iopub.status.busy": "2021-09-11T19:02:50.496930Z",
     "iopub.status.idle": "2021-09-11T19:02:50.514766Z",
     "shell.execute_reply": "2021-09-11T19:02:50.515421Z"
    },
    "papermill": {
     "duration": 0.033328,
     "end_time": "2021-09-11T19:02:50.515664",
     "exception": false,
     "start_time": "2021-09-11T19:02:50.482336",
     "status": "completed"
    },
    "tags": []
   },
   "outputs": [],
   "source": [
    "import shutil\n",
    "\n",
    "shutil.rmtree(initial_reads_dir)"
   ]
  },
  {
   "cell_type": "markdown",
   "id": "cf630b4f-ed63-4e14-9657-e0aaea0953ab",
   "metadata": {
    "papermill": {
     "duration": 0.009208,
     "end_time": "2021-09-11T19:02:50.538543",
     "exception": false,
     "start_time": "2021-09-11T19:02:50.529335",
     "status": "completed"
    },
    "tags": []
   },
   "source": [
    "# 3. Fix assemblies\n",
    "\n",
    "Fix assembly genome names"
   ]
  },
  {
   "cell_type": "code",
   "execution_count": 7,
   "id": "08fac610-3ab3-4afa-9873-406973041963",
   "metadata": {
    "execution": {
     "iopub.execute_input": "2021-09-11T19:02:50.561817Z",
     "iopub.status.busy": "2021-09-11T19:02:50.557897Z",
     "iopub.status.idle": "2021-09-11T19:02:50.736794Z",
     "shell.execute_reply": "2021-09-11T19:02:50.737641Z"
    },
    "papermill": {
     "duration": 0.192747,
     "end_time": "2021-09-11T19:02:50.737929",
     "exception": false,
     "start_time": "2021-09-11T19:02:50.545182",
     "status": "completed"
    },
    "tags": []
   },
   "outputs": [
    {
     "name": "stdout",
     "output_type": "stream",
     "text": [
      "~/workspace/genomics-data-index-evaluation/evaluations/simulation/simulations/alpha-2.0-cov-30/simulated_data/assemblies ~/workspace/genomics-data-index-evaluation/evaluations/simulation\r\n"
     ]
    },
    {
     "name": "stdout",
     "output_type": "stream",
     "text": [
      "~/workspace/genomics-data-index-evaluation/evaluations/simulation\r\n"
     ]
    }
   ],
   "source": [
    "!pushd {assemblies_dir}; prename 's/data__//' *.fa.gz; popd"
   ]
  }
 ],
 "metadata": {
  "kernelspec": {
   "display_name": "Python 3 (ipykernel)",
   "language": "python",
   "name": "python3"
  },
  "language_info": {
   "codemirror_mode": {
    "name": "ipython",
    "version": 3
   },
   "file_extension": ".py",
   "mimetype": "text/x-python",
   "name": "python",
   "nbconvert_exporter": "python",
   "pygments_lexer": "ipython3",
   "version": "3.8.10"
  },
  "papermill": {
   "default_parameters": {},
   "duration": 2.73673,
   "end_time": "2021-09-11T19:02:50.862767",
   "environment_variables": {},
   "exception": null,
   "input_path": "template-2-fix-simulated-files.ipynb",
   "output_path": "2-fix-simulated-files.simulation-alpha-2.0.ipynb",
   "parameters": {
    "iterations": 3,
    "mincov": 10,
    "read_coverage": 30,
    "simulation_dir": "simulations/alpha-2.0-cov-30",
    "sub_alpha": 2.0
   },
   "start_time": "2021-09-11T19:02:48.126037",
   "version": "2.3.3"
  }
 },
 "nbformat": 4,
 "nbformat_minor": 5
}