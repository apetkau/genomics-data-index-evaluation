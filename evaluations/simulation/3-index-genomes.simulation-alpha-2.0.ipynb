{
 "cells": [
  {
   "cell_type": "markdown",
   "id": "7d3667b4-b1f8-4347-96e3-830c25b06740",
   "metadata": {
    "papermill": {
     "duration": 0.020121,
     "end_time": "2022-03-08T21:20:40.958245",
     "exception": false,
     "start_time": "2022-03-08T21:20:40.938124",
     "status": "completed"
    },
    "tags": []
   },
   "source": [
    "# 1. Parameters"
   ]
  },
  {
   "cell_type": "code",
   "execution_count": 1,
   "id": "d4ab0749-b286-4c34-b63c-a854e4952bae",
   "metadata": {
    "execution": {
     "iopub.execute_input": "2022-03-08T21:20:40.992460Z",
     "iopub.status.busy": "2022-03-08T21:20:40.991274Z",
     "iopub.status.idle": "2022-03-08T21:20:40.996423Z",
     "shell.execute_reply": "2022-03-08T21:20:40.995281Z"
    },
    "papermill": {
     "duration": 0.027847,
     "end_time": "2022-03-08T21:20:40.996712",
     "exception": false,
     "start_time": "2022-03-08T21:20:40.968865",
     "status": "completed"
    },
    "tags": [
     "parameters"
    ]
   },
   "outputs": [],
   "source": [
    "# Defaults\n",
    "simulation_dir = 'simulations/unset'\n",
    "reference_file = 'simulations/reference/reference.fa.gz'\n",
    "iterations = 3\n",
    "mincov = 10\n",
    "ncores = 32"
   ]
  },
  {
   "cell_type": "code",
   "execution_count": 2,
   "id": "363e46ec",
   "metadata": {
    "execution": {
     "iopub.execute_input": "2022-03-08T21:20:41.029040Z",
     "iopub.status.busy": "2022-03-08T21:20:41.027954Z",
     "iopub.status.idle": "2022-03-08T21:20:41.031800Z",
     "shell.execute_reply": "2022-03-08T21:20:41.030978Z"
    },
    "papermill": {
     "duration": 0.019378,
     "end_time": "2022-03-08T21:20:41.032018",
     "exception": false,
     "start_time": "2022-03-08T21:20:41.012640",
     "status": "completed"
    },
    "tags": [
     "injected-parameters"
    ]
   },
   "outputs": [],
   "source": [
    "# Parameters\n",
    "read_coverage = 30\n",
    "mincov = 10\n",
    "simulation_dir = \"simulations/alpha-2.0-cov-30\"\n",
    "iterations = 3\n",
    "sub_alpha = 2.0\n"
   ]
  },
  {
   "cell_type": "code",
   "execution_count": 3,
   "id": "ce5962e4-261c-4210-b39b-47044e28466b",
   "metadata": {
    "execution": {
     "iopub.execute_input": "2022-03-08T21:20:41.065976Z",
     "iopub.status.busy": "2022-03-08T21:20:41.065572Z",
     "iopub.status.idle": "2022-03-08T21:20:43.818154Z",
     "shell.execute_reply": "2022-03-08T21:20:43.817157Z"
    },
    "papermill": {
     "duration": 2.77142,
     "end_time": "2022-03-08T21:20:43.818420",
     "exception": false,
     "start_time": "2022-03-08T21:20:41.047000",
     "status": "completed"
    },
    "tags": []
   },
   "outputs": [],
   "source": [
    "from pathlib import Path\n",
    "import imp\n",
    "fp, pathname, description = imp.find_module('gdi_benchmark', ['../../lib'])\n",
    "gdi_benchmark = imp.load_module('gdi_benchmark', fp, pathname, description)\n",
    "\n",
    "simulation_dir_path = Path(simulation_dir)\n",
    "\n",
    "case_name = str(simulation_dir_path.name)\n",
    "reads_dir = simulation_dir_path / 'simulated_data' / 'reads'\n",
    "assemblies_dir = simulation_dir_path / 'simulated_data' / 'assemblies'\n",
    "index_reads_path = simulation_dir_path / 'index-reads'\n",
    "index_assemblies_path = simulation_dir_path / 'index-assemblies'\n",
    "output_reads_tree = index_reads_path / 'reads.tre'\n",
    "output_assemblies_tree = index_assemblies_path / 'assemblies.tre'\n",
    "reference_name = Path(reference_file).name.split('.')[0]"
   ]
  },
  {
   "cell_type": "markdown",
   "id": "f208279e-7558-47fc-9362-da29df92828a",
   "metadata": {
    "papermill": {
     "duration": 0.009514,
     "end_time": "2022-03-08T21:20:43.843963",
     "exception": false,
     "start_time": "2022-03-08T21:20:43.834449",
     "status": "completed"
    },
    "tags": []
   },
   "source": [
    "# 2. Index genomes"
   ]
  },
  {
   "cell_type": "code",
   "execution_count": 4,
   "id": "4e936f7c-2fcd-4188-b0e6-6b3ceb5cdcd2",
   "metadata": {
    "execution": {
     "iopub.execute_input": "2022-03-08T21:20:43.862625Z",
     "iopub.status.busy": "2022-03-08T21:20:43.862210Z",
     "iopub.status.idle": "2022-03-08T21:20:47.118223Z",
     "shell.execute_reply": "2022-03-08T21:20:47.119102Z"
    },
    "papermill": {
     "duration": 3.26811,
     "end_time": "2022-03-08T21:20:47.119417",
     "exception": false,
     "start_time": "2022-03-08T21:20:43.851307",
     "status": "completed"
    },
    "tags": []
   },
   "outputs": [
    {
     "name": "stdout",
     "output_type": "stream",
     "text": [
      "gdi, version 0.6.0.dev2\r\n"
     ]
    }
   ],
   "source": [
    "!gdi --version"
   ]
  },
  {
   "cell_type": "markdown",
   "id": "5409ecf8-2158-4361-9d2f-6b1a6c7c63a6",
   "metadata": {
    "papermill": {
     "duration": 0.009937,
     "end_time": "2022-03-08T21:20:47.147202",
     "exception": false,
     "start_time": "2022-03-08T21:20:47.137265",
     "status": "completed"
    },
    "tags": []
   },
   "source": [
    "## 2.1. Index reads"
   ]
  },
  {
   "cell_type": "code",
   "execution_count": 5,
   "id": "b5324f79-913b-4dac-8122-19ad5c0f24b2",
   "metadata": {
    "execution": {
     "iopub.execute_input": "2022-03-08T21:20:47.180988Z",
     "iopub.status.busy": "2022-03-08T21:20:47.180273Z",
     "iopub.status.idle": "2022-03-08T21:20:50.521754Z",
     "shell.execute_reply": "2022-03-08T21:20:50.520823Z"
    },
    "papermill": {
     "duration": 3.366866,
     "end_time": "2022-03-08T21:20:50.522007",
     "exception": false,
     "start_time": "2022-03-08T21:20:47.155141",
     "status": "completed"
    },
    "tags": []
   },
   "outputs": [
    {
     "name": "stdout",
     "output_type": "stream",
     "text": [
      "\u001b[32m2022-03-08 15:20:50\u001b[0m \u001b[1;30mWARNING:\u001b[0m \u001b[33m--skip-existing-samples is enabled but no --project-dir is set. Will not skip existing samples.\u001b[0m\r\n"
     ]
    }
   ],
   "source": [
    "input_genomes_file = simulation_dir_path / 'input-reads.tsv'\n",
    "\n",
    "!gdi input --absolute {reads_dir}/*.fq.gz > {input_genomes_file}"
   ]
  },
  {
   "cell_type": "code",
   "execution_count": 6,
   "id": "3d63e861-733e-46f2-8bce-bd1a2c7c7058",
   "metadata": {
    "execution": {
     "iopub.execute_input": "2022-03-08T21:20:50.569288Z",
     "iopub.status.busy": "2022-03-08T21:20:50.568050Z",
     "iopub.status.idle": "2022-03-08T21:33:38.167178Z",
     "shell.execute_reply": "2022-03-08T21:33:38.166049Z"
    },
    "papermill": {
     "duration": 767.621763,
     "end_time": "2022-03-08T21:33:38.167547",
     "exception": false,
     "start_time": "2022-03-08T21:20:50.545784",
     "status": "completed"
    },
    "tags": []
   },
   "outputs": [
    {
     "name": "stdout",
     "output_type": "stream",
     "text": [
      "\n",
      "Iteration 1 of index/analysis of 59 samples with 32 cores\n",
      "Removing any extra snakemake directories: ['snakemake-assemblies.1646774275.2533612']\n"
     ]
    },
    {
     "name": "stdout",
     "output_type": "stream",
     "text": [
      "Creating new index: [gdi init simulations/alpha-2.0-cov-30/index-reads]\n"
     ]
    },
    {
     "name": "stdout",
     "output_type": "stream",
     "text": [
      "Creating a new index took 3.48 seconds\n",
      "Analysis running: [gdi --project-dir simulations/alpha-2.0-cov-30/index-reads --ncores 32 analysis --use-conda --no-load-data --reference-file simulations/reference/reference.fa.gz --kmer-size 31 --kmer-size 51 --kmer-size 71 --include-kmer --reads-mincov 10 --input-structured-genomes-file simulations/alpha-2.0-cov-30/input-reads.tsv]\n"
     ]
    },
    {
     "name": "stdout",
     "output_type": "stream",
     "text": [
      "Analysis took 2.36 minutes\n",
      "Index running: [gdi --project-dir simulations/alpha-2.0-cov-30/index-reads --ncores 32 load vcf-kmer --sample-batch-size 2000 --reference-file simulations/reference/reference.fa.gz /home/CSCScience.ca/apetkau/workspace/genomics-data-index-evaluation/evaluations/simulation/snakemake-assemblies.1646774458.8272169/gdi-input.fofn]\n"
     ]
    },
    {
     "name": "stdout",
     "output_type": "stream",
     "text": [
      "Indexing took 0.18 minutes\n",
      "Building tree: [gdi --project-dir simulations/alpha-2.0-cov-30/index-reads --ncores 32 rebuild tree --align-type full --extra-params '--fast -m GTR+F+R4' reference]\n"
     ]
    },
    {
     "name": "stdout",
     "output_type": "stream",
     "text": [
      "Building tree took 1.64 minutes\n"
     ]
    },
    {
     "name": "stderr",
     "output_type": "stream",
     "text": [
      "A reminder to myself to look for a Python solution for directory sizes (instead of running `du`)\n"
     ]
    },
    {
     "name": "stdout",
     "output_type": "stream",
     "text": [
      "\n",
      "Iteration 2 of index/analysis of 59 samples with 32 cores\n",
      "Removing any extra snakemake directories: ['snakemake-assemblies.1646774458.8272169']\n"
     ]
    },
    {
     "name": "stdout",
     "output_type": "stream",
     "text": [
      "Removing any existing indexes simulations/alpha-2.0-cov-30/index-reads\n",
      "Creating new index: [gdi init simulations/alpha-2.0-cov-30/index-reads]\n"
     ]
    },
    {
     "name": "stdout",
     "output_type": "stream",
     "text": [
      "Creating a new index took 3.09 seconds\n",
      "Analysis running: [gdi --project-dir simulations/alpha-2.0-cov-30/index-reads --ncores 32 analysis --use-conda --no-load-data --reference-file simulations/reference/reference.fa.gz --kmer-size 31 --kmer-size 51 --kmer-size 71 --include-kmer --reads-mincov 10 --input-structured-genomes-file simulations/alpha-2.0-cov-30/input-reads.tsv]\n"
     ]
    },
    {
     "name": "stdout",
     "output_type": "stream",
     "text": [
      "Analysis took 2.06 minutes\n",
      "Index running: [gdi --project-dir simulations/alpha-2.0-cov-30/index-reads --ncores 32 load vcf-kmer --sample-batch-size 2000 --reference-file simulations/reference/reference.fa.gz /home/CSCScience.ca/apetkau/workspace/genomics-data-index-evaluation/evaluations/simulation/snakemake-assemblies.1646774714.3156195/gdi-input.fofn]\n"
     ]
    },
    {
     "name": "stdout",
     "output_type": "stream",
     "text": [
      "Indexing took 0.19 minutes\n",
      "Building tree: [gdi --project-dir simulations/alpha-2.0-cov-30/index-reads --ncores 32 rebuild tree --align-type full --extra-params '--fast -m GTR+F+R4' reference]\n"
     ]
    },
    {
     "name": "stdout",
     "output_type": "stream",
     "text": [
      "Building tree took 1.90 minutes\n"
     ]
    },
    {
     "name": "stderr",
     "output_type": "stream",
     "text": [
      "Attempting to set global database_path_translator=<genomics_data_index.storage.model.db.DatabasePathTranslator.DatabasePathTranslator object at 0x7fd643852af0> but it is already set\n"
     ]
    },
    {
     "name": "stderr",
     "output_type": "stream",
     "text": [
      "A reminder to myself to look for a Python solution for directory sizes (instead of running `du`)\n"
     ]
    },
    {
     "name": "stdout",
     "output_type": "stream",
     "text": [
      "\n",
      "Iteration 3 of index/analysis of 59 samples with 32 cores\n",
      "Removing any extra snakemake directories: ['snakemake-assemblies.1646774714.3156195']\n"
     ]
    },
    {
     "name": "stdout",
     "output_type": "stream",
     "text": [
      "Removing any existing indexes simulations/alpha-2.0-cov-30/index-reads\n",
      "Creating new index: [gdi init simulations/alpha-2.0-cov-30/index-reads]\n"
     ]
    },
    {
     "name": "stdout",
     "output_type": "stream",
     "text": [
      "Creating a new index took 3.39 seconds\n",
      "Analysis running: [gdi --project-dir simulations/alpha-2.0-cov-30/index-reads --ncores 32 analysis --use-conda --no-load-data --reference-file simulations/reference/reference.fa.gz --kmer-size 31 --kmer-size 51 --kmer-size 71 --include-kmer --reads-mincov 10 --input-structured-genomes-file simulations/alpha-2.0-cov-30/input-reads.tsv]\n"
     ]
    },
    {
     "name": "stdout",
     "output_type": "stream",
     "text": [
      "Analysis took 2.03 minutes\n",
      "Index running: [gdi --project-dir simulations/alpha-2.0-cov-30/index-reads --ncores 32 load vcf-kmer --sample-batch-size 2000 --reference-file simulations/reference/reference.fa.gz /home/CSCScience.ca/apetkau/workspace/genomics-data-index-evaluation/evaluations/simulation/snakemake-assemblies.1646774968.006579/gdi-input.fofn]\n"
     ]
    },
    {
     "name": "stdout",
     "output_type": "stream",
     "text": [
      "Indexing took 0.18 minutes\n",
      "Building tree: [gdi --project-dir simulations/alpha-2.0-cov-30/index-reads --ncores 32 rebuild tree --align-type full --extra-params '--fast -m GTR+F+R4' reference]\n"
     ]
    },
    {
     "name": "stdout",
     "output_type": "stream",
     "text": [
      "Building tree took 2.01 minutes\n"
     ]
    },
    {
     "name": "stderr",
     "output_type": "stream",
     "text": [
      "Attempting to set global database_path_translator=<genomics_data_index.storage.model.db.DatabasePathTranslator.DatabasePathTranslator object at 0x7fd61cdfa9a0> but it is already set\n"
     ]
    },
    {
     "name": "stderr",
     "output_type": "stream",
     "text": [
      "A reminder to myself to look for a Python solution for directory sizes (instead of running `du`)\n"
     ]
    }
   ],
   "source": [
    "results_handler = gdi_benchmark.BenchmarkResultsHandler(name=f'{case_name} reads')\n",
    "benchmarker = gdi_benchmark.IndexBenchmarker(benchmark_results_handler=results_handler,\n",
    "                                             index_path=index_reads_path, input_files_file=input_genomes_file,\n",
    "                                             reference_file=reference_file, mincov=mincov, build_tree=True,\n",
    "                                             ncores=ncores)\n",
    "\n",
    "benchmark_df = benchmarker.benchmark(iterations=iterations)"
   ]
  },
  {
   "cell_type": "code",
   "execution_count": 7,
   "id": "3bcb6da7-0164-47f2-abdd-a4c159da1e3b",
   "metadata": {
    "execution": {
     "iopub.execute_input": "2022-03-08T21:33:38.226302Z",
     "iopub.status.busy": "2022-03-08T21:33:38.216342Z",
     "iopub.status.idle": "2022-03-08T21:33:38.235852Z",
     "shell.execute_reply": "2022-03-08T21:33:38.236597Z"
    },
    "papermill": {
     "duration": 0.045323,
     "end_time": "2022-03-08T21:33:38.236819",
     "exception": false,
     "start_time": "2022-03-08T21:33:38.191496",
     "status": "completed"
    },
    "tags": []
   },
   "outputs": [
    {
     "data": {
      "text/html": [
       "<div>\n",
       "<style scoped>\n",
       "    .dataframe tbody tr th:only-of-type {\n",
       "        vertical-align: middle;\n",
       "    }\n",
       "\n",
       "    .dataframe tbody tr th {\n",
       "        vertical-align: top;\n",
       "    }\n",
       "\n",
       "    .dataframe thead th {\n",
       "        text-align: right;\n",
       "    }\n",
       "</style>\n",
       "<table border=\"1\" class=\"dataframe\">\n",
       "  <thead>\n",
       "    <tr style=\"text-align: right;\">\n",
       "      <th></th>\n",
       "      <th>Name</th>\n",
       "      <th>Reference name</th>\n",
       "      <th>Iteration</th>\n",
       "      <th>Number samples</th>\n",
       "      <th>Number features (all)</th>\n",
       "      <th>Number features (no unknown)</th>\n",
       "      <th>Number cores</th>\n",
       "      <th>Reference length</th>\n",
       "      <th>Analysis runtime</th>\n",
       "      <th>Analysis memory (max)</th>\n",
       "      <th>...</th>\n",
       "      <th>Analysis disk uage</th>\n",
       "      <th>Index runtime</th>\n",
       "      <th>Index memory (max)</th>\n",
       "      <th>Index memory (max/process)</th>\n",
       "      <th>Index size</th>\n",
       "      <th>Tree runtime</th>\n",
       "      <th>Tree memory (max)</th>\n",
       "      <th>Tree memory (max/process)</th>\n",
       "      <th>Total runtime</th>\n",
       "      <th>Max memory</th>\n",
       "    </tr>\n",
       "  </thead>\n",
       "  <tbody>\n",
       "    <tr>\n",
       "      <th>0</th>\n",
       "      <td>alpha-2.0-cov-30 reads</td>\n",
       "      <td>reference</td>\n",
       "      <td>1</td>\n",
       "      <td>59</td>\n",
       "      <td>8094</td>\n",
       "      <td>5215</td>\n",
       "      <td>32</td>\n",
       "      <td>19699</td>\n",
       "      <td>141.27</td>\n",
       "      <td>2.744242e+09</td>\n",
       "      <td>...</td>\n",
       "      <td>3.005997e+09</td>\n",
       "      <td>10.84</td>\n",
       "      <td>6.115582e+09</td>\n",
       "      <td>345812992.0</td>\n",
       "      <td>3915776.0</td>\n",
       "      <td>98.39</td>\n",
       "      <td>295469056.0</td>\n",
       "      <td>234229760.0</td>\n",
       "      <td>250.50</td>\n",
       "      <td>6.115582e+09</td>\n",
       "    </tr>\n",
       "    <tr>\n",
       "      <th>0</th>\n",
       "      <td>alpha-2.0-cov-30 reads</td>\n",
       "      <td>reference</td>\n",
       "      <td>2</td>\n",
       "      <td>59</td>\n",
       "      <td>8094</td>\n",
       "      <td>5215</td>\n",
       "      <td>32</td>\n",
       "      <td>19699</td>\n",
       "      <td>123.33</td>\n",
       "      <td>2.727784e+09</td>\n",
       "      <td>...</td>\n",
       "      <td>3.006001e+09</td>\n",
       "      <td>11.02</td>\n",
       "      <td>6.103871e+09</td>\n",
       "      <td>345575424.0</td>\n",
       "      <td>3919872.0</td>\n",
       "      <td>113.70</td>\n",
       "      <td>296124416.0</td>\n",
       "      <td>234405888.0</td>\n",
       "      <td>248.05</td>\n",
       "      <td>6.103871e+09</td>\n",
       "    </tr>\n",
       "    <tr>\n",
       "      <th>0</th>\n",
       "      <td>alpha-2.0-cov-30 reads</td>\n",
       "      <td>reference</td>\n",
       "      <td>3</td>\n",
       "      <td>59</td>\n",
       "      <td>8094</td>\n",
       "      <td>5215</td>\n",
       "      <td>32</td>\n",
       "      <td>19699</td>\n",
       "      <td>121.53</td>\n",
       "      <td>2.667983e+09</td>\n",
       "      <td>...</td>\n",
       "      <td>3.005985e+09</td>\n",
       "      <td>10.62</td>\n",
       "      <td>6.179250e+09</td>\n",
       "      <td>344678400.0</td>\n",
       "      <td>3903488.0</td>\n",
       "      <td>120.56</td>\n",
       "      <td>295759872.0</td>\n",
       "      <td>234680320.0</td>\n",
       "      <td>252.71</td>\n",
       "      <td>6.179250e+09</td>\n",
       "    </tr>\n",
       "  </tbody>\n",
       "</table>\n",
       "<p>3 rows × 21 columns</p>\n",
       "</div>"
      ],
      "text/plain": [
       "                     Name Reference name  Iteration  Number samples  \\\n",
       "0  alpha-2.0-cov-30 reads      reference          1              59   \n",
       "0  alpha-2.0-cov-30 reads      reference          2              59   \n",
       "0  alpha-2.0-cov-30 reads      reference          3              59   \n",
       "\n",
       "   Number features (all)  Number features (no unknown)  Number cores  \\\n",
       "0                   8094                          5215            32   \n",
       "0                   8094                          5215            32   \n",
       "0                   8094                          5215            32   \n",
       "\n",
       "   Reference length  Analysis runtime  Analysis memory (max)  ...  \\\n",
       "0             19699            141.27           2.744242e+09  ...   \n",
       "0             19699            123.33           2.727784e+09  ...   \n",
       "0             19699            121.53           2.667983e+09  ...   \n",
       "\n",
       "   Analysis disk uage  Index runtime  Index memory (max)  \\\n",
       "0        3.005997e+09          10.84        6.115582e+09   \n",
       "0        3.006001e+09          11.02        6.103871e+09   \n",
       "0        3.005985e+09          10.62        6.179250e+09   \n",
       "\n",
       "   Index memory (max/process)  Index size  Tree runtime  Tree memory (max)  \\\n",
       "0                 345812992.0   3915776.0         98.39        295469056.0   \n",
       "0                 345575424.0   3919872.0        113.70        296124416.0   \n",
       "0                 344678400.0   3903488.0        120.56        295759872.0   \n",
       "\n",
       "   Tree memory (max/process)  Total runtime    Max memory  \n",
       "0                234229760.0         250.50  6.115582e+09  \n",
       "0                234405888.0         248.05  6.103871e+09  \n",
       "0                234680320.0         252.71  6.179250e+09  \n",
       "\n",
       "[3 rows x 21 columns]"
      ]
     },
     "execution_count": 7,
     "metadata": {},
     "output_type": "execute_result"
    }
   ],
   "source": [
    "benchmark_df"
   ]
  },
  {
   "cell_type": "code",
   "execution_count": 8,
   "id": "535a9ccc-ab9c-4919-806f-128e1efd2389",
   "metadata": {
    "execution": {
     "iopub.execute_input": "2022-03-08T21:33:38.274368Z",
     "iopub.status.busy": "2022-03-08T21:33:38.273967Z",
     "iopub.status.idle": "2022-03-08T21:33:38.278052Z",
     "shell.execute_reply": "2022-03-08T21:33:38.278416Z"
    },
    "papermill": {
     "duration": 0.021695,
     "end_time": "2022-03-08T21:33:38.278527",
     "exception": false,
     "start_time": "2022-03-08T21:33:38.256832",
     "status": "completed"
    },
    "tags": []
   },
   "outputs": [],
   "source": [
    "index_reads_runtime = simulation_dir_path / 'reads-index-info.tsv'\n",
    "benchmark_df.to_csv(index_reads_runtime, sep='\\t', index=False)"
   ]
  },
  {
   "cell_type": "markdown",
   "id": "c331578f-4026-4a9f-a3ba-288814b02ed2",
   "metadata": {
    "papermill": {
     "duration": 0.012174,
     "end_time": "2022-03-08T21:33:38.304524",
     "exception": false,
     "start_time": "2022-03-08T21:33:38.292350",
     "status": "completed"
    },
    "tags": []
   },
   "source": [
    "## 2.2. Index assemblies"
   ]
  },
  {
   "cell_type": "code",
   "execution_count": 9,
   "id": "6e6664f4-94ee-4c45-b1fc-e048b387fa49",
   "metadata": {
    "execution": {
     "iopub.execute_input": "2022-03-08T21:33:38.334966Z",
     "iopub.status.busy": "2022-03-08T21:33:38.334561Z",
     "iopub.status.idle": "2022-03-08T21:33:41.902862Z",
     "shell.execute_reply": "2022-03-08T21:33:41.903785Z"
    },
    "papermill": {
     "duration": 3.587723,
     "end_time": "2022-03-08T21:33:41.904105",
     "exception": false,
     "start_time": "2022-03-08T21:33:38.316382",
     "status": "completed"
    },
    "tags": []
   },
   "outputs": [
    {
     "name": "stdout",
     "output_type": "stream",
     "text": [
      "\u001b[32m2022-03-08 15:33:41\u001b[0m \u001b[1;30mWARNING:\u001b[0m \u001b[33m--skip-existing-samples is enabled but no --project-dir is set. Will not skip existing samples.\u001b[0m\r\n"
     ]
    }
   ],
   "source": [
    "input_genomes_file = simulation_dir_path / 'input-assemblies.tsv'\n",
    "\n",
    "!gdi input --absolute {assemblies_dir}/*.fa.gz > {input_genomes_file}"
   ]
  },
  {
   "cell_type": "code",
   "execution_count": 10,
   "id": "0a1e62f3-3b0c-4a90-a7fe-f0bc1094e350",
   "metadata": {
    "execution": {
     "iopub.execute_input": "2022-03-08T21:33:41.956079Z",
     "iopub.status.busy": "2022-03-08T21:33:41.955581Z",
     "iopub.status.idle": "2022-03-08T21:41:52.116245Z",
     "shell.execute_reply": "2022-03-08T21:41:52.115199Z"
    },
    "papermill": {
     "duration": 490.184859,
     "end_time": "2022-03-08T21:41:52.116548",
     "exception": false,
     "start_time": "2022-03-08T21:33:41.931689",
     "status": "completed"
    },
    "tags": []
   },
   "outputs": [
    {
     "name": "stdout",
     "output_type": "stream",
     "text": [
      "\n",
      "Iteration 1 of index/analysis of 59 samples with 32 cores\n",
      "Removing any extra snakemake directories: ['snakemake-assemblies.1646774968.006579']\n"
     ]
    },
    {
     "name": "stdout",
     "output_type": "stream",
     "text": [
      "Creating new index: [gdi init simulations/alpha-2.0-cov-30/index-assemblies]\n"
     ]
    },
    {
     "name": "stdout",
     "output_type": "stream",
     "text": [
      "Creating a new index took 3.56 seconds\n",
      "Analysis running: [gdi --project-dir simulations/alpha-2.0-cov-30/index-assemblies --ncores 32 analysis --use-conda --no-load-data --reference-file simulations/reference/reference.fa.gz --kmer-size 31 --kmer-size 51 --kmer-size 71 --include-kmer --reads-mincov 10 --input-structured-genomes-file simulations/alpha-2.0-cov-30/input-assemblies.tsv]\n"
     ]
    },
    {
     "name": "stdout",
     "output_type": "stream",
     "text": [
      "Analysis took 2.04 minutes\n",
      "Index running: [gdi --project-dir simulations/alpha-2.0-cov-30/index-assemblies --ncores 32 load vcf-kmer --sample-batch-size 2000 --reference-file simulations/reference/reference.fa.gz /home/CSCScience.ca/apetkau/workspace/genomics-data-index-evaluation/evaluations/simulation/snakemake-assemblies.1646775230.277122/gdi-input.fofn]\n"
     ]
    },
    {
     "name": "stdout",
     "output_type": "stream",
     "text": [
      "Indexing took 0.62 minutes\n",
      "Building tree: [gdi --project-dir simulations/alpha-2.0-cov-30/index-assemblies --ncores 32 rebuild tree --align-type full --extra-params '--fast -m GTR+F+R4' reference]\n"
     ]
    },
    {
     "name": "stdout",
     "output_type": "stream",
     "text": [
      "Building tree took 0.10 minutes\n"
     ]
    },
    {
     "name": "stderr",
     "output_type": "stream",
     "text": [
      "Attempting to set global database_path_translator=<genomics_data_index.storage.model.db.DatabasePathTranslator.DatabasePathTranslator object at 0x7fd61cd9fb80> but it is already set\n"
     ]
    },
    {
     "name": "stderr",
     "output_type": "stream",
     "text": [
      "A reminder to myself to look for a Python solution for directory sizes (instead of running `du`)\n"
     ]
    },
    {
     "name": "stdout",
     "output_type": "stream",
     "text": [
      "\n",
      "Iteration 2 of index/analysis of 59 samples with 32 cores\n",
      "Removing any extra snakemake directories: ['snakemake-assemblies.1646775230.277122']\n"
     ]
    },
    {
     "name": "stdout",
     "output_type": "stream",
     "text": [
      "Removing any existing indexes simulations/alpha-2.0-cov-30/index-assemblies\n",
      "Creating new index: [gdi init simulations/alpha-2.0-cov-30/index-assemblies]\n"
     ]
    },
    {
     "name": "stdout",
     "output_type": "stream",
     "text": [
      "Creating a new index took 3.12 seconds\n",
      "Analysis running: [gdi --project-dir simulations/alpha-2.0-cov-30/index-assemblies --ncores 32 analysis --use-conda --no-load-data --reference-file simulations/reference/reference.fa.gz --kmer-size 31 --kmer-size 51 --kmer-size 71 --include-kmer --reads-mincov 10 --input-structured-genomes-file simulations/alpha-2.0-cov-30/input-assemblies.tsv]\n"
     ]
    },
    {
     "name": "stdout",
     "output_type": "stream",
     "text": [
      "Analysis took 1.81 minutes\n",
      "Index running: [gdi --project-dir simulations/alpha-2.0-cov-30/index-assemblies --ncores 32 load vcf-kmer --sample-batch-size 2000 --reference-file simulations/reference/reference.fa.gz /home/CSCScience.ca/apetkau/workspace/genomics-data-index-evaluation/evaluations/simulation/snakemake-assemblies.1646775400.4360535/gdi-input.fofn]\n"
     ]
    },
    {
     "name": "stdout",
     "output_type": "stream",
     "text": [
      "Indexing took 0.64 minutes\n",
      "Building tree: [gdi --project-dir simulations/alpha-2.0-cov-30/index-assemblies --ncores 32 rebuild tree --align-type full --extra-params '--fast -m GTR+F+R4' reference]\n"
     ]
    },
    {
     "name": "stdout",
     "output_type": "stream",
     "text": [
      "Building tree took 0.10 minutes\n"
     ]
    },
    {
     "name": "stderr",
     "output_type": "stream",
     "text": [
      "Attempting to set global database_path_translator=<genomics_data_index.storage.model.db.DatabasePathTranslator.DatabasePathTranslator object at 0x7fd61cd0bdc0> but it is already set\n"
     ]
    },
    {
     "name": "stderr",
     "output_type": "stream",
     "text": [
      "A reminder to myself to look for a Python solution for directory sizes (instead of running `du`)\n"
     ]
    },
    {
     "name": "stdout",
     "output_type": "stream",
     "text": [
      "\n",
      "Iteration 3 of index/analysis of 59 samples with 32 cores\n",
      "Removing any extra snakemake directories: ['snakemake-assemblies.1646775400.4360535']\n"
     ]
    },
    {
     "name": "stdout",
     "output_type": "stream",
     "text": [
      "Removing any existing indexes simulations/alpha-2.0-cov-30/index-assemblies\n",
      "Creating new index: [gdi init simulations/alpha-2.0-cov-30/index-assemblies]\n"
     ]
    },
    {
     "name": "stdout",
     "output_type": "stream",
     "text": [
      "Creating a new index took 3.37 seconds\n",
      "Analysis running: [gdi --project-dir simulations/alpha-2.0-cov-30/index-assemblies --ncores 32 analysis --use-conda --no-load-data --reference-file simulations/reference/reference.fa.gz --kmer-size 31 --kmer-size 51 --kmer-size 71 --include-kmer --reads-mincov 10 --input-structured-genomes-file simulations/alpha-2.0-cov-30/input-assemblies.tsv]\n"
     ]
    },
    {
     "name": "stdout",
     "output_type": "stream",
     "text": [
      "Analysis took 1.86 minutes\n",
      "Index running: [gdi --project-dir simulations/alpha-2.0-cov-30/index-assemblies --ncores 32 load vcf-kmer --sample-batch-size 2000 --reference-file simulations/reference/reference.fa.gz /home/CSCScience.ca/apetkau/workspace/genomics-data-index-evaluation/evaluations/simulation/snakemake-assemblies.1646775558.5957801/gdi-input.fofn]\n"
     ]
    },
    {
     "name": "stdout",
     "output_type": "stream",
     "text": [
      "Indexing took 0.64 minutes\n",
      "Building tree: [gdi --project-dir simulations/alpha-2.0-cov-30/index-assemblies --ncores 32 rebuild tree --align-type full --extra-params '--fast -m GTR+F+R4' reference]\n"
     ]
    },
    {
     "name": "stdout",
     "output_type": "stream",
     "text": [
      "Building tree took 0.10 minutes\n"
     ]
    },
    {
     "name": "stderr",
     "output_type": "stream",
     "text": [
      "Attempting to set global database_path_translator=<genomics_data_index.storage.model.db.DatabasePathTranslator.DatabasePathTranslator object at 0x7fd61cd0bc70> but it is already set\n"
     ]
    },
    {
     "name": "stderr",
     "output_type": "stream",
     "text": [
      "A reminder to myself to look for a Python solution for directory sizes (instead of running `du`)\n"
     ]
    }
   ],
   "source": [
    "results_handler = gdi_benchmark.BenchmarkResultsHandler(name=f'{case_name} assemblies')\n",
    "benchmarker = gdi_benchmark.IndexBenchmarker(benchmark_results_handler=results_handler,\n",
    "                                             index_path=index_assemblies_path, input_files_file=input_genomes_file,\n",
    "                                             reference_file=reference_file, mincov=mincov, build_tree=True,\n",
    "                                             ncores=ncores)\n",
    "\n",
    "benchmark_df = benchmarker.benchmark(iterations=iterations)"
   ]
  },
  {
   "cell_type": "code",
   "execution_count": 11,
   "id": "a6d55a9d-be2f-4851-b66c-04b5ebd597a1",
   "metadata": {
    "execution": {
     "iopub.execute_input": "2022-03-08T21:41:52.189175Z",
     "iopub.status.busy": "2022-03-08T21:41:52.188649Z",
     "iopub.status.idle": "2022-03-08T21:41:52.191591Z",
     "shell.execute_reply": "2022-03-08T21:41:52.191147Z"
    },
    "papermill": {
     "duration": 0.044751,
     "end_time": "2022-03-08T21:41:52.191705",
     "exception": false,
     "start_time": "2022-03-08T21:41:52.146954",
     "status": "completed"
    },
    "tags": []
   },
   "outputs": [
    {
     "data": {
      "text/html": [
       "<div>\n",
       "<style scoped>\n",
       "    .dataframe tbody tr th:only-of-type {\n",
       "        vertical-align: middle;\n",
       "    }\n",
       "\n",
       "    .dataframe tbody tr th {\n",
       "        vertical-align: top;\n",
       "    }\n",
       "\n",
       "    .dataframe thead th {\n",
       "        text-align: right;\n",
       "    }\n",
       "</style>\n",
       "<table border=\"1\" class=\"dataframe\">\n",
       "  <thead>\n",
       "    <tr style=\"text-align: right;\">\n",
       "      <th></th>\n",
       "      <th>Name</th>\n",
       "      <th>Reference name</th>\n",
       "      <th>Iteration</th>\n",
       "      <th>Number samples</th>\n",
       "      <th>Number features (all)</th>\n",
       "      <th>Number features (no unknown)</th>\n",
       "      <th>Number cores</th>\n",
       "      <th>Reference length</th>\n",
       "      <th>Analysis runtime</th>\n",
       "      <th>Analysis memory (max)</th>\n",
       "      <th>...</th>\n",
       "      <th>Analysis disk uage</th>\n",
       "      <th>Index runtime</th>\n",
       "      <th>Index memory (max)</th>\n",
       "      <th>Index memory (max/process)</th>\n",
       "      <th>Index size</th>\n",
       "      <th>Tree runtime</th>\n",
       "      <th>Tree memory (max)</th>\n",
       "      <th>Tree memory (max/process)</th>\n",
       "      <th>Total runtime</th>\n",
       "      <th>Max memory</th>\n",
       "    </tr>\n",
       "  </thead>\n",
       "  <tbody>\n",
       "    <tr>\n",
       "      <th>0</th>\n",
       "      <td>alpha-2.0-cov-30 assemblies</td>\n",
       "      <td>reference</td>\n",
       "      <td>1</td>\n",
       "      <td>59</td>\n",
       "      <td>20673</td>\n",
       "      <td>974</td>\n",
       "      <td>32</td>\n",
       "      <td>19699</td>\n",
       "      <td>122.09</td>\n",
       "      <td>1.417232e+09</td>\n",
       "      <td>...</td>\n",
       "      <td>2.199036e+09</td>\n",
       "      <td>36.92</td>\n",
       "      <td>6.334845e+09</td>\n",
       "      <td>1.294324e+09</td>\n",
       "      <td>3432448.0</td>\n",
       "      <td>5.97</td>\n",
       "      <td>245067776.0</td>\n",
       "      <td>234602496.0</td>\n",
       "      <td>164.98</td>\n",
       "      <td>6.334845e+09</td>\n",
       "    </tr>\n",
       "    <tr>\n",
       "      <th>0</th>\n",
       "      <td>alpha-2.0-cov-30 assemblies</td>\n",
       "      <td>reference</td>\n",
       "      <td>2</td>\n",
       "      <td>59</td>\n",
       "      <td>20673</td>\n",
       "      <td>974</td>\n",
       "      <td>32</td>\n",
       "      <td>19699</td>\n",
       "      <td>108.36</td>\n",
       "      <td>1.389437e+09</td>\n",
       "      <td>...</td>\n",
       "      <td>2.199048e+09</td>\n",
       "      <td>38.52</td>\n",
       "      <td>6.394372e+09</td>\n",
       "      <td>1.311359e+09</td>\n",
       "      <td>3436544.0</td>\n",
       "      <td>6.10</td>\n",
       "      <td>244654080.0</td>\n",
       "      <td>234831872.0</td>\n",
       "      <td>152.98</td>\n",
       "      <td>6.394372e+09</td>\n",
       "    </tr>\n",
       "    <tr>\n",
       "      <th>0</th>\n",
       "      <td>alpha-2.0-cov-30 assemblies</td>\n",
       "      <td>reference</td>\n",
       "      <td>3</td>\n",
       "      <td>59</td>\n",
       "      <td>20673</td>\n",
       "      <td>974</td>\n",
       "      <td>32</td>\n",
       "      <td>19699</td>\n",
       "      <td>111.43</td>\n",
       "      <td>1.136898e+09</td>\n",
       "      <td>...</td>\n",
       "      <td>2.199040e+09</td>\n",
       "      <td>38.47</td>\n",
       "      <td>6.377284e+09</td>\n",
       "      <td>1.279828e+09</td>\n",
       "      <td>3416064.0</td>\n",
       "      <td>6.03</td>\n",
       "      <td>244285440.0</td>\n",
       "      <td>233742336.0</td>\n",
       "      <td>155.93</td>\n",
       "      <td>6.377284e+09</td>\n",
       "    </tr>\n",
       "  </tbody>\n",
       "</table>\n",
       "<p>3 rows × 21 columns</p>\n",
       "</div>"
      ],
      "text/plain": [
       "                          Name Reference name  Iteration  Number samples  \\\n",
       "0  alpha-2.0-cov-30 assemblies      reference          1              59   \n",
       "0  alpha-2.0-cov-30 assemblies      reference          2              59   \n",
       "0  alpha-2.0-cov-30 assemblies      reference          3              59   \n",
       "\n",
       "   Number features (all)  Number features (no unknown)  Number cores  \\\n",
       "0                  20673                           974            32   \n",
       "0                  20673                           974            32   \n",
       "0                  20673                           974            32   \n",
       "\n",
       "   Reference length  Analysis runtime  Analysis memory (max)  ...  \\\n",
       "0             19699            122.09           1.417232e+09  ...   \n",
       "0             19699            108.36           1.389437e+09  ...   \n",
       "0             19699            111.43           1.136898e+09  ...   \n",
       "\n",
       "   Analysis disk uage  Index runtime  Index memory (max)  \\\n",
       "0        2.199036e+09          36.92        6.334845e+09   \n",
       "0        2.199048e+09          38.52        6.394372e+09   \n",
       "0        2.199040e+09          38.47        6.377284e+09   \n",
       "\n",
       "   Index memory (max/process)  Index size  Tree runtime  Tree memory (max)  \\\n",
       "0                1.294324e+09   3432448.0          5.97        245067776.0   \n",
       "0                1.311359e+09   3436544.0          6.10        244654080.0   \n",
       "0                1.279828e+09   3416064.0          6.03        244285440.0   \n",
       "\n",
       "   Tree memory (max/process)  Total runtime    Max memory  \n",
       "0                234602496.0         164.98  6.334845e+09  \n",
       "0                234831872.0         152.98  6.394372e+09  \n",
       "0                233742336.0         155.93  6.377284e+09  \n",
       "\n",
       "[3 rows x 21 columns]"
      ]
     },
     "execution_count": 11,
     "metadata": {},
     "output_type": "execute_result"
    }
   ],
   "source": [
    "benchmark_df"
   ]
  },
  {
   "cell_type": "code",
   "execution_count": 12,
   "id": "e1a6d962-50bc-4c8d-a6f2-3a661da706b4",
   "metadata": {
    "execution": {
     "iopub.execute_input": "2022-03-08T21:41:52.235408Z",
     "iopub.status.busy": "2022-03-08T21:41:52.233740Z",
     "iopub.status.idle": "2022-03-08T21:41:52.238456Z",
     "shell.execute_reply": "2022-03-08T21:41:52.238078Z"
    },
    "papermill": {
     "duration": 0.027323,
     "end_time": "2022-03-08T21:41:52.238570",
     "exception": false,
     "start_time": "2022-03-08T21:41:52.211247",
     "status": "completed"
    },
    "tags": []
   },
   "outputs": [],
   "source": [
    "index_assemblies_runtime = simulation_dir_path / 'assemblies-index-info.tsv'\n",
    "benchmark_df.to_csv(index_assemblies_runtime, sep='\\t', index=False)"
   ]
  },
  {
   "cell_type": "markdown",
   "id": "6cb7673b-9f85-4c43-b2e2-93538497a196",
   "metadata": {
    "papermill": {
     "duration": 0.015977,
     "end_time": "2022-03-08T21:41:52.273848",
     "exception": false,
     "start_time": "2022-03-08T21:41:52.257871",
     "status": "completed"
    },
    "tags": []
   },
   "source": [
    "# 3. Export trees"
   ]
  },
  {
   "cell_type": "code",
   "execution_count": 13,
   "id": "5280f82c-5434-4391-8c44-b937a7c95bd5",
   "metadata": {
    "execution": {
     "iopub.execute_input": "2022-03-08T21:41:52.314426Z",
     "iopub.status.busy": "2022-03-08T21:41:52.314000Z",
     "iopub.status.idle": "2022-03-08T21:41:59.117880Z",
     "shell.execute_reply": "2022-03-08T21:41:59.118757Z"
    },
    "papermill": {
     "duration": 6.829295,
     "end_time": "2022-03-08T21:41:59.119085",
     "exception": false,
     "start_time": "2022-03-08T21:41:52.289790",
     "status": "completed"
    },
    "tags": []
   },
   "outputs": [
    {
     "name": "stdout",
     "output_type": "stream",
     "text": [
      "\u001b[32m2022-03-08 15:41:55\u001b[0m \u001b[1;30mERROR:\u001b[0m \u001b[31mreference_genome=[<Reference(id=1, name=reference, length=19699)>] does not have a tree\u001b[0m\r\n"
     ]
    },
    {
     "name": "stdout",
     "output_type": "stream",
     "text": [
      "Wrote assemblies tree to simulations/alpha-2.0-cov-30/index-assemblies/assemblies.tre\n"
     ]
    },
    {
     "name": "stdout",
     "output_type": "stream",
     "text": [
      "Wrote assemblies tree to simulations/alpha-2.0-cov-30/index-reads/reads.tre\n"
     ]
    }
   ],
   "source": [
    "!gdi --project-dir {index_assemblies_path} export tree {reference_name} > {output_assemblies_tree}\n",
    "print(f'Wrote assemblies tree to {output_assemblies_tree}')\n",
    "\n",
    "!gdi --project-dir {index_reads_path} export tree {reference_name} > {output_reads_tree}\n",
    "print(f'Wrote assemblies tree to {output_reads_tree}')"
   ]
  }
 ],
 "metadata": {
  "kernelspec": {
   "display_name": "Python 3 (ipykernel)",
   "language": "python",
   "name": "python3"
  },
  "language_info": {
   "codemirror_mode": {
    "name": "ipython",
    "version": 3
   },
   "file_extension": ".py",
   "mimetype": "text/x-python",
   "name": "python",
   "nbconvert_exporter": "python",
   "pygments_lexer": "ipython3",
   "version": "3.8.12"
  },
  "papermill": {
   "default_parameters": {},
   "duration": 1280.151463,
   "end_time": "2022-03-08T21:41:59.677153",
   "environment_variables": {},
   "exception": null,
   "input_path": "template-3-index-genomes.ipynb",
   "output_path": "3-index-genomes.simulation-alpha-2.0.ipynb",
   "parameters": {
    "iterations": 3,
    "mincov": 10,
    "read_coverage": 30,
    "simulation_dir": "simulations/alpha-2.0-cov-30",
    "sub_alpha": 2.0
   },
   "start_time": "2022-03-08T21:20:39.525690",
   "version": "2.3.4"
  }
 },
 "nbformat": 4,
 "nbformat_minor": 5
}