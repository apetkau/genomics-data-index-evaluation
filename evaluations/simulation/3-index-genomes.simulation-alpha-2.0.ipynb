{
 "cells": [
  {
   "cell_type": "markdown",
   "id": "7d3667b4-b1f8-4347-96e3-830c25b06740",
   "metadata": {
    "papermill": {
     "duration": 0.017898,
     "end_time": "2021-09-11T20:45:14.386673",
     "exception": false,
     "start_time": "2021-09-11T20:45:14.368775",
     "status": "completed"
    },
    "tags": []
   },
   "source": [
    "# 1. Parameters"
   ]
  },
  {
   "cell_type": "code",
   "execution_count": 1,
   "id": "d4ab0749-b286-4c34-b63c-a854e4952bae",
   "metadata": {
    "execution": {
     "iopub.execute_input": "2021-09-11T20:45:14.417505Z",
     "iopub.status.busy": "2021-09-11T20:45:14.416973Z",
     "iopub.status.idle": "2021-09-11T20:45:14.422537Z",
     "shell.execute_reply": "2021-09-11T20:45:14.421884Z"
    },
    "papermill": {
     "duration": 0.026318,
     "end_time": "2021-09-11T20:45:14.422703",
     "exception": false,
     "start_time": "2021-09-11T20:45:14.396385",
     "status": "completed"
    },
    "tags": [
     "parameters"
    ]
   },
   "outputs": [],
   "source": [
    "# Defaults\n",
    "simulation_dir = 'simulations/unset'\n",
    "reference_file = 'simulations/reference/reference.fa.gz'\n",
    "iterations = 3\n",
    "mincov = 10\n",
    "ncores = 32"
   ]
  },
  {
   "cell_type": "code",
   "execution_count": 2,
   "id": "2a25bb6e",
   "metadata": {
    "execution": {
     "iopub.execute_input": "2021-09-11T20:45:14.448762Z",
     "iopub.status.busy": "2021-09-11T20:45:14.448359Z",
     "iopub.status.idle": "2021-09-11T20:45:14.451579Z",
     "shell.execute_reply": "2021-09-11T20:45:14.451159Z"
    },
    "papermill": {
     "duration": 0.017298,
     "end_time": "2021-09-11T20:45:14.451690",
     "exception": false,
     "start_time": "2021-09-11T20:45:14.434392",
     "status": "completed"
    },
    "tags": [
     "injected-parameters"
    ]
   },
   "outputs": [],
   "source": [
    "# Parameters\n",
    "read_coverage = 30\n",
    "mincov = 10\n",
    "simulation_dir = \"simulations/alpha-2.0-cov-30\"\n",
    "iterations = 3\n",
    "sub_alpha = 2.0\n"
   ]
  },
  {
   "cell_type": "code",
   "execution_count": 3,
   "id": "ce5962e4-261c-4210-b39b-47044e28466b",
   "metadata": {
    "execution": {
     "iopub.execute_input": "2021-09-11T20:45:14.476336Z",
     "iopub.status.busy": "2021-09-11T20:45:14.475940Z",
     "iopub.status.idle": "2021-09-11T20:45:16.700192Z",
     "shell.execute_reply": "2021-09-11T20:45:16.699140Z"
    },
    "papermill": {
     "duration": 2.23982,
     "end_time": "2021-09-11T20:45:16.700442",
     "exception": false,
     "start_time": "2021-09-11T20:45:14.460622",
     "status": "completed"
    },
    "tags": []
   },
   "outputs": [],
   "source": [
    "from pathlib import Path\n",
    "import imp\n",
    "fp, pathname, description = imp.find_module('gdi_benchmark', ['../../lib'])\n",
    "gdi_benchmark = imp.load_module('gdi_benchmark', fp, pathname, description)\n",
    "\n",
    "simulation_dir_path = Path(simulation_dir)\n",
    "\n",
    "case_name = str(simulation_dir_path.name)\n",
    "reads_dir = simulation_dir_path / 'simulated_data' / 'reads'\n",
    "assemblies_dir = simulation_dir_path / 'simulated_data' / 'assemblies'\n",
    "index_reads_path = simulation_dir_path / 'index-reads'\n",
    "index_assemblies_path = simulation_dir_path / 'index-assemblies'\n",
    "output_reads_tree = index_reads_path / 'reads.tre'\n",
    "output_assemblies_tree = index_assemblies_path / 'assemblies.tre'\n",
    "reference_name = Path(reference_file).name.split('.')[0]"
   ]
  },
  {
   "cell_type": "markdown",
   "id": "f208279e-7558-47fc-9362-da29df92828a",
   "metadata": {
    "papermill": {
     "duration": 0.009102,
     "end_time": "2021-09-11T20:45:16.725683",
     "exception": false,
     "start_time": "2021-09-11T20:45:16.716581",
     "status": "completed"
    },
    "tags": []
   },
   "source": [
    "# 2. Index genomes"
   ]
  },
  {
   "cell_type": "code",
   "execution_count": 4,
   "id": "4e936f7c-2fcd-4188-b0e6-6b3ceb5cdcd2",
   "metadata": {
    "execution": {
     "iopub.execute_input": "2021-09-11T20:45:16.758739Z",
     "iopub.status.busy": "2021-09-11T20:45:16.746528Z",
     "iopub.status.idle": "2021-09-11T20:45:19.372808Z",
     "shell.execute_reply": "2021-09-11T20:45:19.371835Z"
    },
    "papermill": {
     "duration": 2.640199,
     "end_time": "2021-09-11T20:45:19.373069",
     "exception": false,
     "start_time": "2021-09-11T20:45:16.732870",
     "status": "completed"
    },
    "tags": []
   },
   "outputs": [
    {
     "name": "stdout",
     "output_type": "stream",
     "text": [
      "gdi, version 0.3.0.dev12\r\n"
     ]
    }
   ],
   "source": [
    "!gdi --version"
   ]
  },
  {
   "cell_type": "markdown",
   "id": "5409ecf8-2158-4361-9d2f-6b1a6c7c63a6",
   "metadata": {
    "papermill": {
     "duration": 0.010824,
     "end_time": "2021-09-11T20:45:19.402402",
     "exception": false,
     "start_time": "2021-09-11T20:45:19.391578",
     "status": "completed"
    },
    "tags": []
   },
   "source": [
    "## 2.1. Index reads"
   ]
  },
  {
   "cell_type": "code",
   "execution_count": 5,
   "id": "b5324f79-913b-4dac-8122-19ad5c0f24b2",
   "metadata": {
    "execution": {
     "iopub.execute_input": "2021-09-11T20:45:19.433649Z",
     "iopub.status.busy": "2021-09-11T20:45:19.432354Z",
     "iopub.status.idle": "2021-09-11T20:45:22.114944Z",
     "shell.execute_reply": "2021-09-11T20:45:22.113965Z"
    },
    "papermill": {
     "duration": 2.704894,
     "end_time": "2021-09-11T20:45:22.115202",
     "exception": false,
     "start_time": "2021-09-11T20:45:19.410308",
     "status": "completed"
    },
    "tags": []
   },
   "outputs": [],
   "source": [
    "input_genomes_file = simulation_dir_path / 'input-reads.tsv'\n",
    "\n",
    "!gdi input --absolute {reads_dir}/*.fq.gz > {input_genomes_file}"
   ]
  },
  {
   "cell_type": "code",
   "execution_count": 6,
   "id": "3d63e861-733e-46f2-8bce-bd1a2c7c7058",
   "metadata": {
    "execution": {
     "iopub.execute_input": "2021-09-11T20:45:22.154084Z",
     "iopub.status.busy": "2021-09-11T20:45:22.153272Z",
     "iopub.status.idle": "2021-09-11T20:57:09.578047Z",
     "shell.execute_reply": "2021-09-11T20:57:09.579033Z"
    },
    "papermill": {
     "duration": 707.445789,
     "end_time": "2021-09-11T20:57:09.579736",
     "exception": false,
     "start_time": "2021-09-11T20:45:22.133947",
     "status": "completed"
    },
    "tags": []
   },
   "outputs": [
    {
     "name": "stdout",
     "output_type": "stream",
     "text": [
      "\n",
      "Iteration 1 of index/analysis of 59 samples with 32 cores\n",
      "Removing any extra snakemake directories: ['snakemake-assemblies.1631392932.8627062']\n"
     ]
    },
    {
     "name": "stdout",
     "output_type": "stream",
     "text": [
      "Creating new index: [gdi init simulations/alpha-2.0-cov-30/index-reads]\n"
     ]
    },
    {
     "name": "stdout",
     "output_type": "stream",
     "text": [
      "Creating a new index took 2.75 seconds\n",
      "Analysis running: [gdi --project-dir simulations/alpha-2.0-cov-30/index-reads --ncores 32 analysis --use-conda --no-load-data --reference-file simulations/reference/reference.fa.gz --kmer-size 31 --kmer-size 51 --kmer-size 71 --include-kmer --reads-mincov 10 --input-structured-genomes-file simulations/alpha-2.0-cov-30/input-reads.tsv]\n"
     ]
    },
    {
     "name": "stdout",
     "output_type": "stream",
     "text": [
      "Analysis took 1.82 minutes\n",
      "Index running: [gdi --project-dir simulations/alpha-2.0-cov-30/index-reads --ncores 32 load vcf-kmer --reference-file simulations/reference/reference.fa.gz /home/CSCScience.ca/apetkau/workspace/genomics-data-index-evaluation/evaluations/simulation/snakemake-assemblies.1631393129.432654/gdi-input.fofn]\n"
     ]
    },
    {
     "name": "stdout",
     "output_type": "stream",
     "text": [
      "Indexing took 0.17 minutes\n",
      "Building tree: [gdi --project-dir simulations/alpha-2.0-cov-30/index-reads --ncores 32 rebuild tree --align-type full --extra-params '--fast -m GTR+F+R4' reference]\n"
     ]
    },
    {
     "name": "stdout",
     "output_type": "stream",
     "text": [
      "Building tree took 1.97 minutes\n"
     ]
    },
    {
     "name": "stderr",
     "output_type": "stream",
     "text": [
      "A reminder to myself to look for a Python solution for directory sizes (instead of running `du`)\n"
     ]
    },
    {
     "name": "stdout",
     "output_type": "stream",
     "text": [
      "\n",
      "Iteration 2 of index/analysis of 59 samples with 32 cores\n",
      "Removing any extra snakemake directories: ['snakemake-assemblies.1631393129.432654']\n"
     ]
    },
    {
     "name": "stdout",
     "output_type": "stream",
     "text": [
      "Removing any existing indexes simulations/alpha-2.0-cov-30/index-reads\n",
      "Creating new index: [gdi init simulations/alpha-2.0-cov-30/index-reads]\n"
     ]
    },
    {
     "name": "stdout",
     "output_type": "stream",
     "text": [
      "Creating a new index took 2.71 seconds\n",
      "Analysis running: [gdi --project-dir simulations/alpha-2.0-cov-30/index-reads --ncores 32 analysis --use-conda --no-load-data --reference-file simulations/reference/reference.fa.gz --kmer-size 31 --kmer-size 51 --kmer-size 71 --include-kmer --reads-mincov 10 --input-structured-genomes-file simulations/alpha-2.0-cov-30/input-reads.tsv]\n"
     ]
    },
    {
     "name": "stdout",
     "output_type": "stream",
     "text": [
      "Analysis took 2.00 minutes\n",
      "Index running: [gdi --project-dir simulations/alpha-2.0-cov-30/index-reads --ncores 32 load vcf-kmer --reference-file simulations/reference/reference.fa.gz /home/CSCScience.ca/apetkau/workspace/genomics-data-index-evaluation/evaluations/simulation/snakemake-assemblies.1631393370.8224642/gdi-input.fofn]\n"
     ]
    },
    {
     "name": "stdout",
     "output_type": "stream",
     "text": [
      "Indexing took 0.17 minutes\n",
      "Building tree: [gdi --project-dir simulations/alpha-2.0-cov-30/index-reads --ncores 32 rebuild tree --align-type full --extra-params '--fast -m GTR+F+R4' reference]\n"
     ]
    },
    {
     "name": "stdout",
     "output_type": "stream",
     "text": [
      "Building tree took 1.77 minutes\n"
     ]
    },
    {
     "name": "stderr",
     "output_type": "stream",
     "text": [
      "Attempting to set global database_path_translator=<genomics_data_index.storage.model.db.DatabasePathTranslator.DatabasePathTranslator object at 0x7f4fba97d8b0> but it is already set\n"
     ]
    },
    {
     "name": "stderr",
     "output_type": "stream",
     "text": [
      "A reminder to myself to look for a Python solution for directory sizes (instead of running `du`)\n"
     ]
    },
    {
     "name": "stdout",
     "output_type": "stream",
     "text": [
      "\n",
      "Iteration 3 of index/analysis of 59 samples with 32 cores\n",
      "Removing any extra snakemake directories: ['snakemake-assemblies.1631393370.8224642']\n"
     ]
    },
    {
     "name": "stdout",
     "output_type": "stream",
     "text": [
      "Removing any existing indexes simulations/alpha-2.0-cov-30/index-reads\n",
      "Creating new index: [gdi init simulations/alpha-2.0-cov-30/index-reads]\n"
     ]
    },
    {
     "name": "stdout",
     "output_type": "stream",
     "text": [
      "Creating a new index took 2.90 seconds\n",
      "Analysis running: [gdi --project-dir simulations/alpha-2.0-cov-30/index-reads --ncores 32 analysis --use-conda --no-load-data --reference-file simulations/reference/reference.fa.gz --kmer-size 31 --kmer-size 51 --kmer-size 71 --include-kmer --reads-mincov 10 --input-structured-genomes-file simulations/alpha-2.0-cov-30/input-reads.tsv]\n"
     ]
    },
    {
     "name": "stdout",
     "output_type": "stream",
     "text": [
      "Analysis took 1.76 minutes\n",
      "Index running: [gdi --project-dir simulations/alpha-2.0-cov-30/index-reads --ncores 32 load vcf-kmer --reference-file simulations/reference/reference.fa.gz /home/CSCScience.ca/apetkau/workspace/genomics-data-index-evaluation/evaluations/simulation/snakemake-assemblies.1631393611.614892/gdi-input.fofn]\n"
     ]
    },
    {
     "name": "stdout",
     "output_type": "stream",
     "text": [
      "Indexing took 0.17 minutes\n",
      "Building tree: [gdi --project-dir simulations/alpha-2.0-cov-30/index-reads --ncores 32 rebuild tree --align-type full --extra-params '--fast -m GTR+F+R4' reference]\n"
     ]
    },
    {
     "name": "stdout",
     "output_type": "stream",
     "text": [
      "Building tree took 1.75 minutes\n"
     ]
    },
    {
     "name": "stderr",
     "output_type": "stream",
     "text": [
      "Attempting to set global database_path_translator=<genomics_data_index.storage.model.db.DatabasePathTranslator.DatabasePathTranslator object at 0x7f5165893bb0> but it is already set\n"
     ]
    },
    {
     "name": "stderr",
     "output_type": "stream",
     "text": [
      "A reminder to myself to look for a Python solution for directory sizes (instead of running `du`)\n"
     ]
    }
   ],
   "source": [
    "results_handler = gdi_benchmark.BenchmarkResultsHandler(name=f'{case_name} reads')\n",
    "benchmarker = gdi_benchmark.IndexBenchmarker(benchmark_results_handler=results_handler,\n",
    "                                             index_path=index_reads_path, input_files_file=input_genomes_file,\n",
    "                                             reference_file=reference_file, mincov=mincov, build_tree=True,\n",
    "                                             ncores=ncores)\n",
    "\n",
    "benchmark_df = benchmarker.benchmark(iterations=iterations)"
   ]
  },
  {
   "cell_type": "code",
   "execution_count": 7,
   "id": "3bcb6da7-0164-47f2-abdd-a4c159da1e3b",
   "metadata": {
    "execution": {
     "iopub.execute_input": "2021-09-11T20:57:09.634912Z",
     "iopub.status.busy": "2021-09-11T20:57:09.631426Z",
     "iopub.status.idle": "2021-09-11T20:57:09.659773Z",
     "shell.execute_reply": "2021-09-11T20:57:09.658741Z"
    },
    "papermill": {
     "duration": 0.056813,
     "end_time": "2021-09-11T20:57:09.659997",
     "exception": false,
     "start_time": "2021-09-11T20:57:09.603184",
     "status": "completed"
    },
    "tags": []
   },
   "outputs": [
    {
     "data": {
      "text/html": [
       "<div>\n",
       "<style scoped>\n",
       "    .dataframe tbody tr th:only-of-type {\n",
       "        vertical-align: middle;\n",
       "    }\n",
       "\n",
       "    .dataframe tbody tr th {\n",
       "        vertical-align: top;\n",
       "    }\n",
       "\n",
       "    .dataframe thead th {\n",
       "        text-align: right;\n",
       "    }\n",
       "</style>\n",
       "<table border=\"1\" class=\"dataframe\">\n",
       "  <thead>\n",
       "    <tr style=\"text-align: right;\">\n",
       "      <th></th>\n",
       "      <th>Name</th>\n",
       "      <th>Iteration</th>\n",
       "      <th>Number samples</th>\n",
       "      <th>Number features (all)</th>\n",
       "      <th>Number features (no unknown)</th>\n",
       "      <th>Number cores</th>\n",
       "      <th>Reference length</th>\n",
       "      <th>Analysis runtime</th>\n",
       "      <th>Analysis memory (max)</th>\n",
       "      <th>Analysis memory (max/process)</th>\n",
       "      <th>Analysis disk uage</th>\n",
       "      <th>Index runtime</th>\n",
       "      <th>Index memory (max)</th>\n",
       "      <th>Index memory (max/process)</th>\n",
       "      <th>Index size</th>\n",
       "      <th>Tree runtime</th>\n",
       "      <th>Tree memory (max)</th>\n",
       "      <th>Tree memory (max/process)</th>\n",
       "      <th>Total runtime</th>\n",
       "      <th>Max memory</th>\n",
       "    </tr>\n",
       "  </thead>\n",
       "  <tbody>\n",
       "    <tr>\n",
       "      <th>0</th>\n",
       "      <td>alpha-2.0-cov-30 reads</td>\n",
       "      <td>1</td>\n",
       "      <td>59</td>\n",
       "      <td>8094</td>\n",
       "      <td>5215</td>\n",
       "      <td>32</td>\n",
       "      <td>19699</td>\n",
       "      <td>108.66</td>\n",
       "      <td>2.613817e+09</td>\n",
       "      <td>385245184.0</td>\n",
       "      <td>3.338531e+09</td>\n",
       "      <td>10.08</td>\n",
       "      <td>5.956567e+09</td>\n",
       "      <td>341086208.0</td>\n",
       "      <td>3903488.0</td>\n",
       "      <td>117.83</td>\n",
       "      <td>279867392.0</td>\n",
       "      <td>222834688.0</td>\n",
       "      <td>236.57</td>\n",
       "      <td>5.956567e+09</td>\n",
       "    </tr>\n",
       "    <tr>\n",
       "      <th>0</th>\n",
       "      <td>alpha-2.0-cov-30 reads</td>\n",
       "      <td>2</td>\n",
       "      <td>59</td>\n",
       "      <td>8094</td>\n",
       "      <td>5215</td>\n",
       "      <td>32</td>\n",
       "      <td>19699</td>\n",
       "      <td>120.09</td>\n",
       "      <td>2.680877e+09</td>\n",
       "      <td>410357760.0</td>\n",
       "      <td>3.338551e+09</td>\n",
       "      <td>9.83</td>\n",
       "      <td>5.935821e+09</td>\n",
       "      <td>334741504.0</td>\n",
       "      <td>3923968.0</td>\n",
       "      <td>105.80</td>\n",
       "      <td>280539136.0</td>\n",
       "      <td>223342592.0</td>\n",
       "      <td>235.72</td>\n",
       "      <td>5.935821e+09</td>\n",
       "    </tr>\n",
       "    <tr>\n",
       "      <th>0</th>\n",
       "      <td>alpha-2.0-cov-30 reads</td>\n",
       "      <td>3</td>\n",
       "      <td>59</td>\n",
       "      <td>8094</td>\n",
       "      <td>5215</td>\n",
       "      <td>32</td>\n",
       "      <td>19699</td>\n",
       "      <td>105.51</td>\n",
       "      <td>2.609136e+09</td>\n",
       "      <td>384245760.0</td>\n",
       "      <td>3.338543e+09</td>\n",
       "      <td>9.83</td>\n",
       "      <td>5.955576e+09</td>\n",
       "      <td>334344192.0</td>\n",
       "      <td>3911680.0</td>\n",
       "      <td>104.67</td>\n",
       "      <td>280477696.0</td>\n",
       "      <td>223186944.0</td>\n",
       "      <td>220.01</td>\n",
       "      <td>5.955576e+09</td>\n",
       "    </tr>\n",
       "  </tbody>\n",
       "</table>\n",
       "</div>"
      ],
      "text/plain": [
       "                     Name  Iteration  Number samples  Number features (all)  \\\n",
       "0  alpha-2.0-cov-30 reads          1              59                   8094   \n",
       "0  alpha-2.0-cov-30 reads          2              59                   8094   \n",
       "0  alpha-2.0-cov-30 reads          3              59                   8094   \n",
       "\n",
       "   Number features (no unknown)  Number cores  Reference length  \\\n",
       "0                          5215            32             19699   \n",
       "0                          5215            32             19699   \n",
       "0                          5215            32             19699   \n",
       "\n",
       "   Analysis runtime  Analysis memory (max)  Analysis memory (max/process)  \\\n",
       "0            108.66           2.613817e+09                    385245184.0   \n",
       "0            120.09           2.680877e+09                    410357760.0   \n",
       "0            105.51           2.609136e+09                    384245760.0   \n",
       "\n",
       "   Analysis disk uage  Index runtime  Index memory (max)  \\\n",
       "0        3.338531e+09          10.08        5.956567e+09   \n",
       "0        3.338551e+09           9.83        5.935821e+09   \n",
       "0        3.338543e+09           9.83        5.955576e+09   \n",
       "\n",
       "   Index memory (max/process)  Index size  Tree runtime  Tree memory (max)  \\\n",
       "0                 341086208.0   3903488.0        117.83        279867392.0   \n",
       "0                 334741504.0   3923968.0        105.80        280539136.0   \n",
       "0                 334344192.0   3911680.0        104.67        280477696.0   \n",
       "\n",
       "   Tree memory (max/process)  Total runtime    Max memory  \n",
       "0                222834688.0         236.57  5.956567e+09  \n",
       "0                223342592.0         235.72  5.935821e+09  \n",
       "0                223186944.0         220.01  5.955576e+09  "
      ]
     },
     "execution_count": 7,
     "metadata": {},
     "output_type": "execute_result"
    }
   ],
   "source": [
    "benchmark_df"
   ]
  },
  {
   "cell_type": "code",
   "execution_count": 8,
   "id": "535a9ccc-ab9c-4919-806f-128e1efd2389",
   "metadata": {
    "execution": {
     "iopub.execute_input": "2021-09-11T20:57:09.701217Z",
     "iopub.status.busy": "2021-09-11T20:57:09.700822Z",
     "iopub.status.idle": "2021-09-11T20:57:09.708322Z",
     "shell.execute_reply": "2021-09-11T20:57:09.708749Z"
    },
    "papermill": {
     "duration": 0.026246,
     "end_time": "2021-09-11T20:57:09.708873",
     "exception": false,
     "start_time": "2021-09-11T20:57:09.682627",
     "status": "completed"
    },
    "tags": []
   },
   "outputs": [],
   "source": [
    "index_reads_runtime = simulation_dir_path / 'reads-index-info.tsv'\n",
    "benchmark_df.to_csv(index_reads_runtime, sep='\\t', index=False)"
   ]
  },
  {
   "cell_type": "markdown",
   "id": "c331578f-4026-4a9f-a3ba-288814b02ed2",
   "metadata": {
    "papermill": {
     "duration": 0.011676,
     "end_time": "2021-09-11T20:57:09.734693",
     "exception": false,
     "start_time": "2021-09-11T20:57:09.723017",
     "status": "completed"
    },
    "tags": []
   },
   "source": [
    "## 2.2. Index assemblies"
   ]
  },
  {
   "cell_type": "code",
   "execution_count": 9,
   "id": "6e6664f4-94ee-4c45-b1fc-e048b387fa49",
   "metadata": {
    "execution": {
     "iopub.execute_input": "2021-09-11T20:57:09.775047Z",
     "iopub.status.busy": "2021-09-11T20:57:09.774530Z",
     "iopub.status.idle": "2021-09-11T20:57:12.397317Z",
     "shell.execute_reply": "2021-09-11T20:57:12.398256Z"
    },
    "papermill": {
     "duration": 2.652518,
     "end_time": "2021-09-11T20:57:12.398545",
     "exception": false,
     "start_time": "2021-09-11T20:57:09.746027",
     "status": "completed"
    },
    "tags": []
   },
   "outputs": [],
   "source": [
    "input_genomes_file = simulation_dir_path / 'input-assemblies.tsv'\n",
    "\n",
    "!gdi input --absolute {assemblies_dir}/*.fa.gz > {input_genomes_file}"
   ]
  },
  {
   "cell_type": "code",
   "execution_count": 10,
   "id": "0a1e62f3-3b0c-4a90-a7fe-f0bc1094e350",
   "metadata": {
    "execution": {
     "iopub.execute_input": "2021-09-11T20:57:12.445941Z",
     "iopub.status.busy": "2021-09-11T20:57:12.444629Z",
     "iopub.status.idle": "2021-09-11T21:07:27.094058Z",
     "shell.execute_reply": "2021-09-11T21:07:27.093066Z"
    },
    "papermill": {
     "duration": 614.672105,
     "end_time": "2021-09-11T21:07:27.094302",
     "exception": false,
     "start_time": "2021-09-11T20:57:12.422197",
     "status": "completed"
    },
    "tags": []
   },
   "outputs": [
    {
     "name": "stdout",
     "output_type": "stream",
     "text": [
      "\n",
      "Iteration 1 of index/analysis of 59 samples with 32 cores\n",
      "Removing any extra snakemake directories: ['snakemake-assemblies.1631393611.614892']\n"
     ]
    },
    {
     "name": "stdout",
     "output_type": "stream",
     "text": [
      "Creating new index: [gdi init simulations/alpha-2.0-cov-30/index-assemblies]\n"
     ]
    },
    {
     "name": "stdout",
     "output_type": "stream",
     "text": [
      "Creating a new index took 2.79 seconds\n",
      "Analysis running: [gdi --project-dir simulations/alpha-2.0-cov-30/index-assemblies --ncores 32 analysis --use-conda --no-load-data --reference-file simulations/reference/reference.fa.gz --kmer-size 31 --kmer-size 51 --kmer-size 71 --include-kmer --reads-mincov 10 --input-structured-genomes-file simulations/alpha-2.0-cov-30/input-assemblies.tsv]\n"
     ]
    },
    {
     "name": "stdout",
     "output_type": "stream",
     "text": [
      "Analysis took 1.56 minutes\n",
      "Index running: [gdi --project-dir simulations/alpha-2.0-cov-30/index-assemblies --ncores 32 load vcf-kmer --reference-file simulations/reference/reference.fa.gz /home/CSCScience.ca/apetkau/workspace/genomics-data-index-evaluation/evaluations/simulation/snakemake-assemblies.1631393839.548917/gdi-input.fofn]\n"
     ]
    },
    {
     "name": "stdout",
     "output_type": "stream",
     "text": [
      "Indexing took 0.10 minutes\n",
      "Building tree: [gdi --project-dir simulations/alpha-2.0-cov-30/index-assemblies --ncores 32 rebuild tree --align-type full --extra-params '--fast -m GTR+F+R4' reference]\n"
     ]
    },
    {
     "name": "stdout",
     "output_type": "stream",
     "text": [
      "Building tree took 1.81 minutes\n"
     ]
    },
    {
     "name": "stderr",
     "output_type": "stream",
     "text": [
      "Attempting to set global database_path_translator=<genomics_data_index.storage.model.db.DatabasePathTranslator.DatabasePathTranslator object at 0x7f51b83cf640> but it is already set\n"
     ]
    },
    {
     "name": "stderr",
     "output_type": "stream",
     "text": [
      "A reminder to myself to look for a Python solution for directory sizes (instead of running `du`)\n"
     ]
    },
    {
     "name": "stdout",
     "output_type": "stream",
     "text": [
      "\n",
      "Iteration 2 of index/analysis of 59 samples with 32 cores\n",
      "Removing any extra snakemake directories: ['snakemake-assemblies.1631393839.548917']\n"
     ]
    },
    {
     "name": "stdout",
     "output_type": "stream",
     "text": [
      "Removing any existing indexes simulations/alpha-2.0-cov-30/index-assemblies\n",
      "Creating new index: [gdi init simulations/alpha-2.0-cov-30/index-assemblies]\n"
     ]
    },
    {
     "name": "stdout",
     "output_type": "stream",
     "text": [
      "Creating a new index took 3.26 seconds\n",
      "Analysis running: [gdi --project-dir simulations/alpha-2.0-cov-30/index-assemblies --ncores 32 analysis --use-conda --no-load-data --reference-file simulations/reference/reference.fa.gz --kmer-size 31 --kmer-size 51 --kmer-size 71 --include-kmer --reads-mincov 10 --input-structured-genomes-file simulations/alpha-2.0-cov-30/input-assemblies.tsv]\n"
     ]
    },
    {
     "name": "stdout",
     "output_type": "stream",
     "text": [
      "Analysis took 1.70 minutes\n",
      "Index running: [gdi --project-dir simulations/alpha-2.0-cov-30/index-assemblies --ncores 32 load vcf-kmer --reference-file simulations/reference/reference.fa.gz /home/CSCScience.ca/apetkau/workspace/genomics-data-index-evaluation/evaluations/simulation/snakemake-assemblies.1631394053.3815854/gdi-input.fofn]\n"
     ]
    },
    {
     "name": "stdout",
     "output_type": "stream",
     "text": [
      "Indexing took 0.10 minutes\n",
      "Building tree: [gdi --project-dir simulations/alpha-2.0-cov-30/index-assemblies --ncores 32 rebuild tree --align-type full --extra-params '--fast -m GTR+F+R4' reference]\n"
     ]
    },
    {
     "name": "stdout",
     "output_type": "stream",
     "text": [
      "Building tree took 1.53 minutes\n"
     ]
    },
    {
     "name": "stderr",
     "output_type": "stream",
     "text": [
      "Attempting to set global database_path_translator=<genomics_data_index.storage.model.db.DatabasePathTranslator.DatabasePathTranslator object at 0x7f516599b460> but it is already set\n"
     ]
    },
    {
     "name": "stderr",
     "output_type": "stream",
     "text": [
      "A reminder to myself to look for a Python solution for directory sizes (instead of running `du`)\n"
     ]
    },
    {
     "name": "stdout",
     "output_type": "stream",
     "text": [
      "\n",
      "Iteration 3 of index/analysis of 59 samples with 32 cores\n",
      "Removing any extra snakemake directories: ['snakemake-assemblies.1631394053.3815854']\n"
     ]
    },
    {
     "name": "stdout",
     "output_type": "stream",
     "text": [
      "Removing any existing indexes simulations/alpha-2.0-cov-30/index-assemblies\n",
      "Creating new index: [gdi init simulations/alpha-2.0-cov-30/index-assemblies]\n"
     ]
    },
    {
     "name": "stdout",
     "output_type": "stream",
     "text": [
      "Creating a new index took 2.74 seconds\n",
      "Analysis running: [gdi --project-dir simulations/alpha-2.0-cov-30/index-assemblies --ncores 32 analysis --use-conda --no-load-data --reference-file simulations/reference/reference.fa.gz --kmer-size 31 --kmer-size 51 --kmer-size 71 --include-kmer --reads-mincov 10 --input-structured-genomes-file simulations/alpha-2.0-cov-30/input-assemblies.tsv]\n"
     ]
    },
    {
     "name": "stdout",
     "output_type": "stream",
     "text": [
      "Analysis took 1.59 minutes\n",
      "Index running: [gdi --project-dir simulations/alpha-2.0-cov-30/index-assemblies --ncores 32 load vcf-kmer --reference-file simulations/reference/reference.fa.gz /home/CSCScience.ca/apetkau/workspace/genomics-data-index-evaluation/evaluations/simulation/snakemake-assemblies.1631394256.6614664/gdi-input.fofn]\n"
     ]
    },
    {
     "name": "stdout",
     "output_type": "stream",
     "text": [
      "Indexing took 0.10 minutes\n",
      "Building tree: [gdi --project-dir simulations/alpha-2.0-cov-30/index-assemblies --ncores 32 rebuild tree --align-type full --extra-params '--fast -m GTR+F+R4' reference]\n"
     ]
    },
    {
     "name": "stdout",
     "output_type": "stream",
     "text": [
      "Building tree took 1.53 minutes\n"
     ]
    },
    {
     "name": "stderr",
     "output_type": "stream",
     "text": [
      "Attempting to set global database_path_translator=<genomics_data_index.storage.model.db.DatabasePathTranslator.DatabasePathTranslator object at 0x7f515d7811f0> but it is already set\n"
     ]
    },
    {
     "name": "stderr",
     "output_type": "stream",
     "text": [
      "A reminder to myself to look for a Python solution for directory sizes (instead of running `du`)\n"
     ]
    }
   ],
   "source": [
    "results_handler = gdi_benchmark.BenchmarkResultsHandler(name=f'{case_name} assemblies')\n",
    "benchmarker = gdi_benchmark.IndexBenchmarker(benchmark_results_handler=results_handler,\n",
    "                                             index_path=index_assemblies_path, input_files_file=input_genomes_file,\n",
    "                                             reference_file=reference_file, mincov=mincov, build_tree=True,\n",
    "                                             ncores=ncores)\n",
    "\n",
    "benchmark_df = benchmarker.benchmark(iterations=iterations)"
   ]
  },
  {
   "cell_type": "code",
   "execution_count": 11,
   "id": "a6d55a9d-be2f-4851-b66c-04b5ebd597a1",
   "metadata": {
    "execution": {
     "iopub.execute_input": "2021-09-11T21:07:27.178194Z",
     "iopub.status.busy": "2021-09-11T21:07:27.177168Z",
     "iopub.status.idle": "2021-09-11T21:07:27.181117Z",
     "shell.execute_reply": "2021-09-11T21:07:27.182011Z"
    },
    "papermill": {
     "duration": 0.056746,
     "end_time": "2021-09-11T21:07:27.182277",
     "exception": false,
     "start_time": "2021-09-11T21:07:27.125531",
     "status": "completed"
    },
    "tags": []
   },
   "outputs": [
    {
     "data": {
      "text/html": [
       "<div>\n",
       "<style scoped>\n",
       "    .dataframe tbody tr th:only-of-type {\n",
       "        vertical-align: middle;\n",
       "    }\n",
       "\n",
       "    .dataframe tbody tr th {\n",
       "        vertical-align: top;\n",
       "    }\n",
       "\n",
       "    .dataframe thead th {\n",
       "        text-align: right;\n",
       "    }\n",
       "</style>\n",
       "<table border=\"1\" class=\"dataframe\">\n",
       "  <thead>\n",
       "    <tr style=\"text-align: right;\">\n",
       "      <th></th>\n",
       "      <th>Name</th>\n",
       "      <th>Iteration</th>\n",
       "      <th>Number samples</th>\n",
       "      <th>Number features (all)</th>\n",
       "      <th>Number features (no unknown)</th>\n",
       "      <th>Number cores</th>\n",
       "      <th>Reference length</th>\n",
       "      <th>Analysis runtime</th>\n",
       "      <th>Analysis memory (max)</th>\n",
       "      <th>Analysis memory (max/process)</th>\n",
       "      <th>Analysis disk uage</th>\n",
       "      <th>Index runtime</th>\n",
       "      <th>Index memory (max)</th>\n",
       "      <th>Index memory (max/process)</th>\n",
       "      <th>Index size</th>\n",
       "      <th>Tree runtime</th>\n",
       "      <th>Tree memory (max)</th>\n",
       "      <th>Tree memory (max/process)</th>\n",
       "      <th>Total runtime</th>\n",
       "      <th>Max memory</th>\n",
       "    </tr>\n",
       "  </thead>\n",
       "  <tbody>\n",
       "    <tr>\n",
       "      <th>0</th>\n",
       "      <td>alpha-2.0-cov-30 assemblies</td>\n",
       "      <td>1</td>\n",
       "      <td>59</td>\n",
       "      <td>974</td>\n",
       "      <td>974</td>\n",
       "      <td>32</td>\n",
       "      <td>19699</td>\n",
       "      <td>93.44</td>\n",
       "      <td>1.281479e+09</td>\n",
       "      <td>375357440.0</td>\n",
       "      <td>2.080596e+09</td>\n",
       "      <td>5.61</td>\n",
       "      <td>5.621387e+09</td>\n",
       "      <td>228225024.0</td>\n",
       "      <td>1318912.0</td>\n",
       "      <td>108.61</td>\n",
       "      <td>245555200.0</td>\n",
       "      <td>223346688.0</td>\n",
       "      <td>207.66</td>\n",
       "      <td>5.621387e+09</td>\n",
       "    </tr>\n",
       "    <tr>\n",
       "      <th>0</th>\n",
       "      <td>alpha-2.0-cov-30 assemblies</td>\n",
       "      <td>2</td>\n",
       "      <td>59</td>\n",
       "      <td>974</td>\n",
       "      <td>974</td>\n",
       "      <td>32</td>\n",
       "      <td>19699</td>\n",
       "      <td>102.06</td>\n",
       "      <td>1.208390e+09</td>\n",
       "      <td>374808576.0</td>\n",
       "      <td>2.080596e+09</td>\n",
       "      <td>5.66</td>\n",
       "      <td>5.619286e+09</td>\n",
       "      <td>228732928.0</td>\n",
       "      <td>1314816.0</td>\n",
       "      <td>91.85</td>\n",
       "      <td>245653504.0</td>\n",
       "      <td>223186944.0</td>\n",
       "      <td>199.57</td>\n",
       "      <td>5.619286e+09</td>\n",
       "    </tr>\n",
       "    <tr>\n",
       "      <th>0</th>\n",
       "      <td>alpha-2.0-cov-30 assemblies</td>\n",
       "      <td>3</td>\n",
       "      <td>59</td>\n",
       "      <td>974</td>\n",
       "      <td>974</td>\n",
       "      <td>32</td>\n",
       "      <td>19699</td>\n",
       "      <td>95.52</td>\n",
       "      <td>1.282003e+09</td>\n",
       "      <td>366837760.0</td>\n",
       "      <td>2.080608e+09</td>\n",
       "      <td>5.63</td>\n",
       "      <td>5.618000e+09</td>\n",
       "      <td>228245504.0</td>\n",
       "      <td>1314816.0</td>\n",
       "      <td>91.46</td>\n",
       "      <td>245587968.0</td>\n",
       "      <td>223383552.0</td>\n",
       "      <td>192.61</td>\n",
       "      <td>5.618000e+09</td>\n",
       "    </tr>\n",
       "  </tbody>\n",
       "</table>\n",
       "</div>"
      ],
      "text/plain": [
       "                          Name  Iteration  Number samples  \\\n",
       "0  alpha-2.0-cov-30 assemblies          1              59   \n",
       "0  alpha-2.0-cov-30 assemblies          2              59   \n",
       "0  alpha-2.0-cov-30 assemblies          3              59   \n",
       "\n",
       "   Number features (all)  Number features (no unknown)  Number cores  \\\n",
       "0                    974                           974            32   \n",
       "0                    974                           974            32   \n",
       "0                    974                           974            32   \n",
       "\n",
       "   Reference length  Analysis runtime  Analysis memory (max)  \\\n",
       "0             19699             93.44           1.281479e+09   \n",
       "0             19699            102.06           1.208390e+09   \n",
       "0             19699             95.52           1.282003e+09   \n",
       "\n",
       "   Analysis memory (max/process)  Analysis disk uage  Index runtime  \\\n",
       "0                    375357440.0        2.080596e+09           5.61   \n",
       "0                    374808576.0        2.080596e+09           5.66   \n",
       "0                    366837760.0        2.080608e+09           5.63   \n",
       "\n",
       "   Index memory (max)  Index memory (max/process)  Index size  Tree runtime  \\\n",
       "0        5.621387e+09                 228225024.0   1318912.0        108.61   \n",
       "0        5.619286e+09                 228732928.0   1314816.0         91.85   \n",
       "0        5.618000e+09                 228245504.0   1314816.0         91.46   \n",
       "\n",
       "   Tree memory (max)  Tree memory (max/process)  Total runtime    Max memory  \n",
       "0        245555200.0                223346688.0         207.66  5.621387e+09  \n",
       "0        245653504.0                223186944.0         199.57  5.619286e+09  \n",
       "0        245587968.0                223383552.0         192.61  5.618000e+09  "
      ]
     },
     "execution_count": 11,
     "metadata": {},
     "output_type": "execute_result"
    }
   ],
   "source": [
    "benchmark_df"
   ]
  },
  {
   "cell_type": "code",
   "execution_count": 12,
   "id": "e1a6d962-50bc-4c8d-a6f2-3a661da706b4",
   "metadata": {
    "execution": {
     "iopub.execute_input": "2021-09-11T21:07:27.234832Z",
     "iopub.status.busy": "2021-09-11T21:07:27.234418Z",
     "iopub.status.idle": "2021-09-11T21:07:27.237375Z",
     "shell.execute_reply": "2021-09-11T21:07:27.237692Z"
    },
    "papermill": {
     "duration": 0.026942,
     "end_time": "2021-09-11T21:07:27.237794",
     "exception": false,
     "start_time": "2021-09-11T21:07:27.210852",
     "status": "completed"
    },
    "tags": []
   },
   "outputs": [],
   "source": [
    "index_assemblies_runtime = simulation_dir_path / 'assemblies-index-info.tsv'\n",
    "benchmark_df.to_csv(index_assemblies_runtime, sep='\\t', index=False)"
   ]
  },
  {
   "cell_type": "markdown",
   "id": "6cb7673b-9f85-4c43-b2e2-93538497a196",
   "metadata": {
    "papermill": {
     "duration": 0.016408,
     "end_time": "2021-09-11T21:07:27.273487",
     "exception": false,
     "start_time": "2021-09-11T21:07:27.257079",
     "status": "completed"
    },
    "tags": []
   },
   "source": [
    "# 3. Export trees"
   ]
  },
  {
   "cell_type": "code",
   "execution_count": 13,
   "id": "5280f82c-5434-4391-8c44-b937a7c95bd5",
   "metadata": {
    "execution": {
     "iopub.execute_input": "2021-09-11T21:07:27.323296Z",
     "iopub.status.busy": "2021-09-11T21:07:27.314426Z",
     "iopub.status.idle": "2021-09-11T21:07:32.742594Z",
     "shell.execute_reply": "2021-09-11T21:07:32.743522Z"
    },
    "papermill": {
     "duration": 5.45453,
     "end_time": "2021-09-11T21:07:32.743820",
     "exception": false,
     "start_time": "2021-09-11T21:07:27.289290",
     "status": "completed"
    },
    "tags": []
   },
   "outputs": [
    {
     "name": "stdout",
     "output_type": "stream",
     "text": [
      "Wrote assemblies tree to simulations/alpha-2.0-cov-30/index-assemblies/assemblies.tre\n"
     ]
    },
    {
     "name": "stdout",
     "output_type": "stream",
     "text": [
      "Wrote assemblies tree to simulations/alpha-2.0-cov-30/index-reads/reads.tre\n"
     ]
    }
   ],
   "source": [
    "!gdi --project-dir {index_assemblies_path} export tree {reference_name} > {output_assemblies_tree}\n",
    "print(f'Wrote assemblies tree to {output_assemblies_tree}')\n",
    "\n",
    "!gdi --project-dir {index_reads_path} export tree {reference_name} > {output_reads_tree}\n",
    "print(f'Wrote assemblies tree to {output_reads_tree}')"
   ]
  }
 ],
 "metadata": {
  "kernelspec": {
   "display_name": "Python 3 (ipykernel)",
   "language": "python",
   "name": "python3"
  },
  "language_info": {
   "codemirror_mode": {
    "name": "ipython",
    "version": 3
   },
   "file_extension": ".py",
   "mimetype": "text/x-python",
   "name": "python",
   "nbconvert_exporter": "python",
   "pygments_lexer": "ipython3",
   "version": "3.8.10"
  },
  "papermill": {
   "default_parameters": {},
   "duration": 1340.563932,
   "end_time": "2021-09-11T21:07:33.948046",
   "environment_variables": {},
   "exception": null,
   "input_path": "template-3-index-genomes.ipynb",
   "output_path": "3-index-genomes.simulation-alpha-2.0.ipynb",
   "parameters": {
    "iterations": 3,
    "mincov": 10,
    "read_coverage": 30,
    "simulation_dir": "simulations/alpha-2.0-cov-30",
    "sub_alpha": 2.0
   },
   "start_time": "2021-09-11T20:45:13.384114",
   "version": "2.3.3"
  }
 },
 "nbformat": 4,
 "nbformat_minor": 5
}