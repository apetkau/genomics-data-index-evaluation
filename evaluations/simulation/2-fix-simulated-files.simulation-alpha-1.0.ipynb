{
 "cells": [
  {
   "cell_type": "markdown",
   "id": "acfa5482-d626-44d6-b613-863e6911fa98",
   "metadata": {
    "papermill": {
     "duration": 0.014055,
     "end_time": "2021-09-11T18:52:00.267751",
     "exception": false,
     "start_time": "2021-09-11T18:52:00.253696",
     "status": "completed"
    },
    "tags": []
   },
   "source": [
    "# 1. Parameters"
   ]
  },
  {
   "cell_type": "code",
   "execution_count": 1,
   "id": "36126d74-a9d8-4431-ba49-767c1fc2ec49",
   "metadata": {
    "execution": {
     "iopub.execute_input": "2021-09-11T18:52:00.295823Z",
     "iopub.status.busy": "2021-09-11T18:52:00.294881Z",
     "iopub.status.idle": "2021-09-11T18:52:00.299491Z",
     "shell.execute_reply": "2021-09-11T18:52:00.298884Z"
    },
    "papermill": {
     "duration": 0.023587,
     "end_time": "2021-09-11T18:52:00.299644",
     "exception": false,
     "start_time": "2021-09-11T18:52:00.276057",
     "status": "completed"
    },
    "tags": [
     "parameters"
    ]
   },
   "outputs": [],
   "source": [
    "# Defaults\n",
    "simulation_dir = 'simulations/unset'\n",
    "ncores = 48"
   ]
  },
  {
   "cell_type": "code",
   "execution_count": 2,
   "id": "0465336e",
   "metadata": {
    "execution": {
     "iopub.execute_input": "2021-09-11T18:52:00.319044Z",
     "iopub.status.busy": "2021-09-11T18:52:00.318547Z",
     "iopub.status.idle": "2021-09-11T18:52:00.321895Z",
     "shell.execute_reply": "2021-09-11T18:52:00.321471Z"
    },
    "papermill": {
     "duration": 0.015215,
     "end_time": "2021-09-11T18:52:00.321998",
     "exception": false,
     "start_time": "2021-09-11T18:52:00.306783",
     "status": "completed"
    },
    "tags": [
     "injected-parameters"
    ]
   },
   "outputs": [],
   "source": [
    "# Parameters\n",
    "read_coverage = 30\n",
    "mincov = 10\n",
    "simulation_dir = \"simulations/alpha-1.0-cov-30\"\n",
    "iterations = 3\n",
    "sub_alpha = 1.0\n"
   ]
  },
  {
   "cell_type": "code",
   "execution_count": 3,
   "id": "15e911d7-0ffc-4110-aefe-71bc77e689cd",
   "metadata": {
    "execution": {
     "iopub.execute_input": "2021-09-11T18:52:00.342922Z",
     "iopub.status.busy": "2021-09-11T18:52:00.342536Z",
     "iopub.status.idle": "2021-09-11T18:52:00.345367Z",
     "shell.execute_reply": "2021-09-11T18:52:00.345665Z"
    },
    "papermill": {
     "duration": 0.018258,
     "end_time": "2021-09-11T18:52:00.345768",
     "exception": false,
     "start_time": "2021-09-11T18:52:00.327510",
     "status": "completed"
    },
    "tags": []
   },
   "outputs": [],
   "source": [
    "from pathlib import Path\n",
    "import os\n",
    "\n",
    "simulation_data_dir = Path(simulation_dir) / 'simulated_data'\n",
    "initial_reads_dir = simulation_data_dir / 'reads_initial'\n",
    "reads_dir = simulation_data_dir / 'reads'\n",
    "assemblies_dir = simulation_data_dir / 'assemblies'\n",
    "\n",
    "if not reads_dir.exists():\n",
    "    os.mkdir(reads_dir)"
   ]
  },
  {
   "cell_type": "markdown",
   "id": "rotary-regard",
   "metadata": {
    "papermill": {
     "duration": 0.005644,
     "end_time": "2021-09-11T18:52:00.357003",
     "exception": false,
     "start_time": "2021-09-11T18:52:00.351359",
     "status": "completed"
    },
    "tags": []
   },
   "source": [
    "# 2. Fix reads\n",
    "\n",
    "Fix read file names and data so they can be indexed."
   ]
  },
  {
   "cell_type": "code",
   "execution_count": 4,
   "id": "convenient-blackberry",
   "metadata": {
    "execution": {
     "iopub.execute_input": "2021-09-11T18:52:00.378176Z",
     "iopub.status.busy": "2021-09-11T18:52:00.372358Z",
     "iopub.status.idle": "2021-09-11T18:52:00.548800Z",
     "shell.execute_reply": "2021-09-11T18:52:00.547908Z"
    },
    "papermill": {
     "duration": 0.187785,
     "end_time": "2021-09-11T18:52:00.549045",
     "exception": false,
     "start_time": "2021-09-11T18:52:00.361260",
     "status": "completed"
    },
    "tags": []
   },
   "outputs": [
    {
     "name": "stdout",
     "output_type": "stream",
     "text": [
      "~/workspace/genomics-data-index-evaluation/evaluations/simulation/simulations/alpha-1.0-cov-30/simulated_data/reads_initial ~/workspace/genomics-data-index-evaluation/evaluations/simulation\r\n"
     ]
    },
    {
     "name": "stdout",
     "output_type": "stream",
     "text": [
      "~/workspace/genomics-data-index-evaluation/evaluations/simulation\r\n"
     ]
    }
   ],
   "source": [
    "import os\n",
    "\n",
    "# Fix warning about locale unset\n",
    "os.environ['LANG'] = 'en_US.UTF-8'\n",
    "\n",
    "!pushd {initial_reads_dir}; prename 's/data_//' *.fq.gz; popd"
   ]
  },
  {
   "cell_type": "markdown",
   "id": "median-belle",
   "metadata": {
    "papermill": {
     "duration": 0.008182,
     "end_time": "2021-09-11T18:52:00.569903",
     "exception": false,
     "start_time": "2021-09-11T18:52:00.561721",
     "status": "completed"
    },
    "tags": []
   },
   "source": [
    "Jackalope produces reads with non-standard identifiers where pairs of reads don't have matching identifiers. For example:\n",
    "\n",
    "* Pair 1: `@SH08-001-NC_011083-3048632-R/1`\n",
    "* Pair 2: `@SH08-001-NC_011083-3048396-F/2`\n",
    "\n",
    "In order to run snippy, these paired identifiers need to match (except for the `/1` and `/2` suffix).\n",
    "\n",
    "So, I have to replace them all with something unique, but which matches in each pair of files. I do this by replacing the position (I think) with the read number (as it appears in the file). So the above identifiers become:\n",
    "\n",
    "* Pair 1: `@SH08-001-NC_011083-1/1`\n",
    "* Pair 2: `@SH08-001-NC_011083-1/2`"
   ]
  },
  {
   "cell_type": "code",
   "execution_count": 5,
   "id": "remarkable-berry",
   "metadata": {
    "execution": {
     "iopub.execute_input": "2021-09-11T18:52:00.590112Z",
     "iopub.status.busy": "2021-09-11T18:52:00.589576Z",
     "iopub.status.idle": "2021-09-11T18:52:01.585574Z",
     "shell.execute_reply": "2021-09-11T18:52:01.584655Z"
    },
    "papermill": {
     "duration": 1.010042,
     "end_time": "2021-09-11T18:52:01.585822",
     "exception": false,
     "start_time": "2021-09-11T18:52:00.575780",
     "status": "completed"
    },
    "tags": []
   },
   "outputs": [],
   "source": [
    "import glob\n",
    "import os\n",
    "\n",
    "files = [os.path.basename(f) for f in glob.glob(f'{initial_reads_dir}/*.fq.gz')]\n",
    "!parallel -j {ncores} -I% 'gzip -d --stdout {initial_reads_dir}/% | perl scripts/replace-fastq-header.pl | gzip > {reads_dir}/%' \\\n",
    "    ::: {' '.join(files)}"
   ]
  },
  {
   "cell_type": "code",
   "execution_count": 6,
   "id": "8318e7a8-1057-4e4f-aaec-fccdec42a75f",
   "metadata": {
    "execution": {
     "iopub.execute_input": "2021-09-11T18:52:01.615341Z",
     "iopub.status.busy": "2021-09-11T18:52:01.614865Z",
     "iopub.status.idle": "2021-09-11T18:52:01.632788Z",
     "shell.execute_reply": "2021-09-11T18:52:01.633476Z"
    },
    "papermill": {
     "duration": 0.033416,
     "end_time": "2021-09-11T18:52:01.633684",
     "exception": false,
     "start_time": "2021-09-11T18:52:01.600268",
     "status": "completed"
    },
    "tags": []
   },
   "outputs": [],
   "source": [
    "import shutil\n",
    "\n",
    "shutil.rmtree(initial_reads_dir)"
   ]
  },
  {
   "cell_type": "markdown",
   "id": "cf630b4f-ed63-4e14-9657-e0aaea0953ab",
   "metadata": {
    "papermill": {
     "duration": 0.009069,
     "end_time": "2021-09-11T18:52:01.656136",
     "exception": false,
     "start_time": "2021-09-11T18:52:01.647067",
     "status": "completed"
    },
    "tags": []
   },
   "source": [
    "# 3. Fix assemblies\n",
    "\n",
    "Fix assembly genome names"
   ]
  },
  {
   "cell_type": "code",
   "execution_count": 7,
   "id": "08fac610-3ab3-4afa-9873-406973041963",
   "metadata": {
    "execution": {
     "iopub.execute_input": "2021-09-11T18:52:01.678772Z",
     "iopub.status.busy": "2021-09-11T18:52:01.675256Z",
     "iopub.status.idle": "2021-09-11T18:52:01.847492Z",
     "shell.execute_reply": "2021-09-11T18:52:01.846572Z"
    },
    "papermill": {
     "duration": 0.184968,
     "end_time": "2021-09-11T18:52:01.847741",
     "exception": false,
     "start_time": "2021-09-11T18:52:01.662773",
     "status": "completed"
    },
    "tags": []
   },
   "outputs": [
    {
     "name": "stdout",
     "output_type": "stream",
     "text": [
      "~/workspace/genomics-data-index-evaluation/evaluations/simulation/simulations/alpha-1.0-cov-30/simulated_data/assemblies ~/workspace/genomics-data-index-evaluation/evaluations/simulation\r\n"
     ]
    },
    {
     "name": "stdout",
     "output_type": "stream",
     "text": [
      "~/workspace/genomics-data-index-evaluation/evaluations/simulation\r\n"
     ]
    }
   ],
   "source": [
    "!pushd {assemblies_dir}; prename 's/data__//' *.fa.gz; popd"
   ]
  }
 ],
 "metadata": {
  "kernelspec": {
   "display_name": "Python 3 (ipykernel)",
   "language": "python",
   "name": "python3"
  },
  "language_info": {
   "codemirror_mode": {
    "name": "ipython",
    "version": 3
   },
   "file_extension": ".py",
   "mimetype": "text/x-python",
   "name": "python",
   "nbconvert_exporter": "python",
   "pygments_lexer": "ipython3",
   "version": "3.8.10"
  },
  "papermill": {
   "default_parameters": {},
   "duration": 2.682009,
   "end_time": "2021-09-11T18:52:01.972313",
   "environment_variables": {},
   "exception": null,
   "input_path": "template-2-fix-simulated-files.ipynb",
   "output_path": "2-fix-simulated-files.simulation-alpha-1.0.ipynb",
   "parameters": {
    "iterations": 3,
    "mincov": 10,
    "read_coverage": 30,
    "simulation_dir": "simulations/alpha-1.0-cov-30",
    "sub_alpha": 1.0
   },
   "start_time": "2021-09-11T18:51:59.290304",
   "version": "2.3.3"
  }
 },
 "nbformat": 4,
 "nbformat_minor": 5
}