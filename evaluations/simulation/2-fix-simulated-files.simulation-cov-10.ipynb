{
 "cells": [
  {
   "cell_type": "markdown",
   "id": "acfa5482-d626-44d6-b613-863e6911fa98",
   "metadata": {
    "papermill": {
     "duration": 0.013505,
     "end_time": "2021-09-02T02:45:30.752210",
     "exception": false,
     "start_time": "2021-09-02T02:45:30.738705",
     "status": "completed"
    },
    "tags": []
   },
   "source": [
    "# 1. Parameters"
   ]
  },
  {
   "cell_type": "code",
   "execution_count": 1,
   "id": "36126d74-a9d8-4431-ba49-767c1fc2ec49",
   "metadata": {
    "execution": {
     "iopub.execute_input": "2021-09-02T02:45:30.780182Z",
     "iopub.status.busy": "2021-09-02T02:45:30.779706Z",
     "iopub.status.idle": "2021-09-02T02:45:30.784219Z",
     "shell.execute_reply": "2021-09-02T02:45:30.784685Z"
    },
    "papermill": {
     "duration": 0.024298,
     "end_time": "2021-09-02T02:45:30.784932",
     "exception": false,
     "start_time": "2021-09-02T02:45:30.760634",
     "status": "completed"
    },
    "tags": [
     "parameters"
    ]
   },
   "outputs": [],
   "source": [
    "# Defaults\n",
    "simulation_dir = 'simulations/unset'\n",
    "ncores = 48"
   ]
  },
  {
   "cell_type": "code",
   "execution_count": 2,
   "id": "603f088a",
   "metadata": {
    "execution": {
     "iopub.execute_input": "2021-09-02T02:45:30.805355Z",
     "iopub.status.busy": "2021-09-02T02:45:30.804890Z",
     "iopub.status.idle": "2021-09-02T02:45:30.807513Z",
     "shell.execute_reply": "2021-09-02T02:45:30.807858Z"
    },
    "papermill": {
     "duration": 0.015947,
     "end_time": "2021-09-02T02:45:30.807980",
     "exception": false,
     "start_time": "2021-09-02T02:45:30.792033",
     "status": "completed"
    },
    "tags": [
     "injected-parameters"
    ]
   },
   "outputs": [],
   "source": [
    "# Parameters\n",
    "read_coverage = 10\n",
    "mincov = 10\n",
    "simulation_dir = \"simulations/cov-10\"\n",
    "iterations = 3\n"
   ]
  },
  {
   "cell_type": "code",
   "execution_count": 3,
   "id": "15e911d7-0ffc-4110-aefe-71bc77e689cd",
   "metadata": {
    "execution": {
     "iopub.execute_input": "2021-09-02T02:45:30.827248Z",
     "iopub.status.busy": "2021-09-02T02:45:30.826841Z",
     "iopub.status.idle": "2021-09-02T02:45:30.830377Z",
     "shell.execute_reply": "2021-09-02T02:45:30.830073Z"
    },
    "papermill": {
     "duration": 0.01702,
     "end_time": "2021-09-02T02:45:30.830463",
     "exception": false,
     "start_time": "2021-09-02T02:45:30.813443",
     "status": "completed"
    },
    "tags": []
   },
   "outputs": [],
   "source": [
    "from pathlib import Path\n",
    "import os\n",
    "\n",
    "simulation_data_dir = Path(simulation_dir) / 'simulated_data'\n",
    "initial_reads_dir = simulation_data_dir / 'reads_initial'\n",
    "reads_dir = simulation_data_dir / 'reads'\n",
    "assemblies_dir = simulation_data_dir / 'assemblies'\n",
    "\n",
    "if not reads_dir.exists():\n",
    "    os.mkdir(reads_dir)"
   ]
  },
  {
   "cell_type": "markdown",
   "id": "rotary-regard",
   "metadata": {
    "papermill": {
     "duration": 0.005489,
     "end_time": "2021-09-02T02:45:30.841205",
     "exception": false,
     "start_time": "2021-09-02T02:45:30.835716",
     "status": "completed"
    },
    "tags": []
   },
   "source": [
    "# 2. Fix reads\n",
    "\n",
    "Fix read file names and data so they can be indexed."
   ]
  },
  {
   "cell_type": "code",
   "execution_count": 4,
   "id": "convenient-blackberry",
   "metadata": {
    "execution": {
     "iopub.execute_input": "2021-09-02T02:45:30.863323Z",
     "iopub.status.busy": "2021-09-02T02:45:30.856419Z",
     "iopub.status.idle": "2021-09-02T02:45:31.051957Z",
     "shell.execute_reply": "2021-09-02T02:45:31.052838Z"
    },
    "papermill": {
     "duration": 0.207526,
     "end_time": "2021-09-02T02:45:31.053155",
     "exception": false,
     "start_time": "2021-09-02T02:45:30.845629",
     "status": "completed"
    },
    "tags": []
   },
   "outputs": [
    {
     "name": "stdout",
     "output_type": "stream",
     "text": [
      "~/workspace/genomics-data-index-evaluation/evaluations/simulation/simulations/cov-10/simulated_data/reads_initial ~/workspace/genomics-data-index-evaluation/evaluations/simulation\r\n"
     ]
    },
    {
     "name": "stdout",
     "output_type": "stream",
     "text": [
      "~/workspace/genomics-data-index-evaluation/evaluations/simulation\r\n"
     ]
    }
   ],
   "source": [
    "import os\n",
    "\n",
    "# Fix warning about locale unset\n",
    "os.environ['LANG'] = 'en_US.UTF-8'\n",
    "\n",
    "!pushd {initial_reads_dir}; prename 's/data_//' *.fq.gz; popd"
   ]
  },
  {
   "cell_type": "markdown",
   "id": "median-belle",
   "metadata": {
    "papermill": {
     "duration": 0.00832,
     "end_time": "2021-09-02T02:45:31.074782",
     "exception": false,
     "start_time": "2021-09-02T02:45:31.066462",
     "status": "completed"
    },
    "tags": []
   },
   "source": [
    "Jackalope produces reads with non-standard identifiers where pairs of reads don't have matching identifiers. For example:\n",
    "\n",
    "* Pair 1: `@SH08-001-NC_011083-3048632-R/1`\n",
    "* Pair 2: `@SH08-001-NC_011083-3048396-F/2`\n",
    "\n",
    "In order to run snippy, these paired identifiers need to match (except for the `/1` and `/2` suffix).\n",
    "\n",
    "So, I have to replace them all with something unique, but which matches in each pair of files. I do this by replacing the position (I think) with the read number (as it appears in the file). So the above identifiers become:\n",
    "\n",
    "* Pair 1: `@SH08-001-NC_011083-1/1`\n",
    "* Pair 2: `@SH08-001-NC_011083-1/2`"
   ]
  },
  {
   "cell_type": "code",
   "execution_count": 5,
   "id": "remarkable-berry",
   "metadata": {
    "execution": {
     "iopub.execute_input": "2021-09-02T02:45:31.097165Z",
     "iopub.status.busy": "2021-09-02T02:45:31.095815Z",
     "iopub.status.idle": "2021-09-02T02:45:32.231433Z",
     "shell.execute_reply": "2021-09-02T02:45:32.230451Z"
    },
    "papermill": {
     "duration": 1.150849,
     "end_time": "2021-09-02T02:45:32.231745",
     "exception": false,
     "start_time": "2021-09-02T02:45:31.080896",
     "status": "completed"
    },
    "tags": []
   },
   "outputs": [],
   "source": [
    "import glob\n",
    "import os\n",
    "\n",
    "files = [os.path.basename(f) for f in glob.glob(f'{initial_reads_dir}/*.fq.gz')]\n",
    "!parallel -j {ncores} -I% 'gzip -d --stdout {initial_reads_dir}/% | perl scripts/replace-fastq-header.pl | gzip > {reads_dir}/%' \\\n",
    "    ::: {' '.join(files)}"
   ]
  },
  {
   "cell_type": "code",
   "execution_count": 6,
   "id": "8318e7a8-1057-4e4f-aaec-fccdec42a75f",
   "metadata": {
    "execution": {
     "iopub.execute_input": "2021-09-02T02:45:32.260760Z",
     "iopub.status.busy": "2021-09-02T02:45:32.260266Z",
     "iopub.status.idle": "2021-09-02T02:45:32.270785Z",
     "shell.execute_reply": "2021-09-02T02:45:32.271658Z"
    },
    "papermill": {
     "duration": 0.026735,
     "end_time": "2021-09-02T02:45:32.271943",
     "exception": false,
     "start_time": "2021-09-02T02:45:32.245208",
     "status": "completed"
    },
    "tags": []
   },
   "outputs": [],
   "source": [
    "import shutil\n",
    "\n",
    "shutil.rmtree(initial_reads_dir)"
   ]
  },
  {
   "cell_type": "markdown",
   "id": "cf630b4f-ed63-4e14-9657-e0aaea0953ab",
   "metadata": {
    "papermill": {
     "duration": 0.013259,
     "end_time": "2021-09-02T02:45:32.298133",
     "exception": false,
     "start_time": "2021-09-02T02:45:32.284874",
     "status": "completed"
    },
    "tags": []
   },
   "source": [
    "# 3. Fix assemblies\n",
    "\n",
    "Fix assembly genome names"
   ]
  },
  {
   "cell_type": "code",
   "execution_count": 7,
   "id": "08fac610-3ab3-4afa-9873-406973041963",
   "metadata": {
    "execution": {
     "iopub.execute_input": "2021-09-02T02:45:32.320735Z",
     "iopub.status.busy": "2021-09-02T02:45:32.317344Z",
     "iopub.status.idle": "2021-09-02T02:45:32.491977Z",
     "shell.execute_reply": "2021-09-02T02:45:32.492930Z"
    },
    "papermill": {
     "duration": 0.189089,
     "end_time": "2021-09-02T02:45:32.493327",
     "exception": false,
     "start_time": "2021-09-02T02:45:32.304238",
     "status": "completed"
    },
    "tags": []
   },
   "outputs": [
    {
     "name": "stdout",
     "output_type": "stream",
     "text": [
      "~/workspace/genomics-data-index-evaluation/evaluations/simulation/simulations/cov-10/simulated_data/assemblies ~/workspace/genomics-data-index-evaluation/evaluations/simulation\r\n"
     ]
    },
    {
     "name": "stdout",
     "output_type": "stream",
     "text": [
      "~/workspace/genomics-data-index-evaluation/evaluations/simulation\r\n"
     ]
    }
   ],
   "source": [
    "!pushd {assemblies_dir}; prename 's/data__//' *.fa.gz; popd"
   ]
  }
 ],
 "metadata": {
  "kernelspec": {
   "display_name": "Python 3 (ipykernel)",
   "language": "python",
   "name": "python3"
  },
  "language_info": {
   "codemirror_mode": {
    "name": "ipython",
    "version": 3
   },
   "file_extension": ".py",
   "mimetype": "text/x-python",
   "name": "python",
   "nbconvert_exporter": "python",
   "pygments_lexer": "ipython3",
   "version": "3.8.10"
  },
  "papermill": {
   "default_parameters": {},
   "duration": 2.933607,
   "end_time": "2021-09-02T02:45:32.620181",
   "environment_variables": {},
   "exception": null,
   "input_path": "template-2-fix-simulated-files.ipynb",
   "output_path": "2-fix-simulated-files.simulation-cov-10.ipynb",
   "parameters": {
    "iterations": 3,
    "mincov": 10,
    "read_coverage": 10,
    "simulation_dir": "simulations/cov-10"
   },
   "start_time": "2021-09-02T02:45:29.686574",
   "version": "2.3.3"
  }
 },
 "nbformat": 4,
 "nbformat_minor": 5
}