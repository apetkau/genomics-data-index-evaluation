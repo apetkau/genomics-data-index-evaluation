{
 "cells": [
  {
   "cell_type": "markdown",
   "id": "acfa5482-d626-44d6-b613-863e6911fa98",
   "metadata": {
    "papermill": {
     "duration": 0.014663,
     "end_time": "2021-09-11T19:14:05.966419",
     "exception": false,
     "start_time": "2021-09-11T19:14:05.951756",
     "status": "completed"
    },
    "tags": []
   },
   "source": [
    "# 1. Parameters"
   ]
  },
  {
   "cell_type": "code",
   "execution_count": 1,
   "id": "36126d74-a9d8-4431-ba49-767c1fc2ec49",
   "metadata": {
    "execution": {
     "iopub.execute_input": "2021-09-11T19:14:05.995641Z",
     "iopub.status.busy": "2021-09-11T19:14:05.995109Z",
     "iopub.status.idle": "2021-09-11T19:14:06.000255Z",
     "shell.execute_reply": "2021-09-11T19:14:05.999631Z"
    },
    "papermill": {
     "duration": 0.025104,
     "end_time": "2021-09-11T19:14:06.000424",
     "exception": false,
     "start_time": "2021-09-11T19:14:05.975320",
     "status": "completed"
    },
    "tags": [
     "parameters"
    ]
   },
   "outputs": [],
   "source": [
    "# Defaults\n",
    "simulation_dir = 'simulations/unset'\n",
    "ncores = 48"
   ]
  },
  {
   "cell_type": "code",
   "execution_count": 2,
   "id": "9b54ec0c",
   "metadata": {
    "execution": {
     "iopub.execute_input": "2021-09-11T19:14:06.020985Z",
     "iopub.status.busy": "2021-09-11T19:14:06.020532Z",
     "iopub.status.idle": "2021-09-11T19:14:06.023363Z",
     "shell.execute_reply": "2021-09-11T19:14:06.023708Z"
    },
    "papermill": {
     "duration": 0.015988,
     "end_time": "2021-09-11T19:14:06.023831",
     "exception": false,
     "start_time": "2021-09-11T19:14:06.007843",
     "status": "completed"
    },
    "tags": [
     "injected-parameters"
    ]
   },
   "outputs": [],
   "source": [
    "# Parameters\n",
    "read_coverage = 10\n",
    "mincov = 10\n",
    "simulation_dir = \"simulations/cov-10\"\n",
    "iterations = 3\n",
    "sub_alpha = 0.2\n"
   ]
  },
  {
   "cell_type": "code",
   "execution_count": 3,
   "id": "15e911d7-0ffc-4110-aefe-71bc77e689cd",
   "metadata": {
    "execution": {
     "iopub.execute_input": "2021-09-11T19:14:06.043173Z",
     "iopub.status.busy": "2021-09-11T19:14:06.042744Z",
     "iopub.status.idle": "2021-09-11T19:14:06.045899Z",
     "shell.execute_reply": "2021-09-11T19:14:06.046208Z"
    },
    "papermill": {
     "duration": 0.016824,
     "end_time": "2021-09-11T19:14:06.046320",
     "exception": false,
     "start_time": "2021-09-11T19:14:06.029496",
     "status": "completed"
    },
    "tags": []
   },
   "outputs": [],
   "source": [
    "from pathlib import Path\n",
    "import os\n",
    "\n",
    "simulation_data_dir = Path(simulation_dir) / 'simulated_data'\n",
    "initial_reads_dir = simulation_data_dir / 'reads_initial'\n",
    "reads_dir = simulation_data_dir / 'reads'\n",
    "assemblies_dir = simulation_data_dir / 'assemblies'\n",
    "\n",
    "if not reads_dir.exists():\n",
    "    os.mkdir(reads_dir)"
   ]
  },
  {
   "cell_type": "markdown",
   "id": "rotary-regard",
   "metadata": {
    "papermill": {
     "duration": 0.005677,
     "end_time": "2021-09-11T19:14:06.058166",
     "exception": false,
     "start_time": "2021-09-11T19:14:06.052489",
     "status": "completed"
    },
    "tags": []
   },
   "source": [
    "# 2. Fix reads\n",
    "\n",
    "Fix read file names and data so they can be indexed."
   ]
  },
  {
   "cell_type": "code",
   "execution_count": 4,
   "id": "convenient-blackberry",
   "metadata": {
    "execution": {
     "iopub.execute_input": "2021-09-11T19:14:06.079571Z",
     "iopub.status.busy": "2021-09-11T19:14:06.074026Z",
     "iopub.status.idle": "2021-09-11T19:14:06.254756Z",
     "shell.execute_reply": "2021-09-11T19:14:06.255622Z"
    },
    "papermill": {
     "duration": 0.193284,
     "end_time": "2021-09-11T19:14:06.255936",
     "exception": false,
     "start_time": "2021-09-11T19:14:06.062652",
     "status": "completed"
    },
    "tags": []
   },
   "outputs": [
    {
     "name": "stdout",
     "output_type": "stream",
     "text": [
      "~/workspace/genomics-data-index-evaluation/evaluations/simulation/simulations/cov-10/simulated_data/reads_initial ~/workspace/genomics-data-index-evaluation/evaluations/simulation\r\n"
     ]
    },
    {
     "name": "stdout",
     "output_type": "stream",
     "text": [
      "~/workspace/genomics-data-index-evaluation/evaluations/simulation\r\n"
     ]
    }
   ],
   "source": [
    "import os\n",
    "\n",
    "# Fix warning about locale unset\n",
    "os.environ['LANG'] = 'en_US.UTF-8'\n",
    "\n",
    "!pushd {initial_reads_dir}; prename 's/data_//' *.fq.gz; popd"
   ]
  },
  {
   "cell_type": "markdown",
   "id": "median-belle",
   "metadata": {
    "papermill": {
     "duration": 0.008855,
     "end_time": "2021-09-11T19:14:06.278842",
     "exception": false,
     "start_time": "2021-09-11T19:14:06.269987",
     "status": "completed"
    },
    "tags": []
   },
   "source": [
    "Jackalope produces reads with non-standard identifiers where pairs of reads don't have matching identifiers. For example:\n",
    "\n",
    "* Pair 1: `@SH08-001-NC_011083-3048632-R/1`\n",
    "* Pair 2: `@SH08-001-NC_011083-3048396-F/2`\n",
    "\n",
    "In order to run snippy, these paired identifiers need to match (except for the `/1` and `/2` suffix).\n",
    "\n",
    "So, I have to replace them all with something unique, but which matches in each pair of files. I do this by replacing the position (I think) with the read number (as it appears in the file). So the above identifiers become:\n",
    "\n",
    "* Pair 1: `@SH08-001-NC_011083-1/1`\n",
    "* Pair 2: `@SH08-001-NC_011083-1/2`"
   ]
  },
  {
   "cell_type": "code",
   "execution_count": 5,
   "id": "remarkable-berry",
   "metadata": {
    "execution": {
     "iopub.execute_input": "2021-09-11T19:14:06.300127Z",
     "iopub.status.busy": "2021-09-11T19:14:06.299542Z",
     "iopub.status.idle": "2021-09-11T19:14:07.362611Z",
     "shell.execute_reply": "2021-09-11T19:14:07.363619Z"
    },
    "papermill": {
     "duration": 1.079119,
     "end_time": "2021-09-11T19:14:07.363959",
     "exception": false,
     "start_time": "2021-09-11T19:14:06.284840",
     "status": "completed"
    },
    "tags": []
   },
   "outputs": [],
   "source": [
    "import glob\n",
    "import os\n",
    "\n",
    "files = [os.path.basename(f) for f in glob.glob(f'{initial_reads_dir}/*.fq.gz')]\n",
    "!parallel -j {ncores} -I% 'gzip -d --stdout {initial_reads_dir}/% | perl scripts/replace-fastq-header.pl | gzip > {reads_dir}/%' \\\n",
    "    ::: {' '.join(files)}"
   ]
  },
  {
   "cell_type": "code",
   "execution_count": 6,
   "id": "8318e7a8-1057-4e4f-aaec-fccdec42a75f",
   "metadata": {
    "execution": {
     "iopub.execute_input": "2021-09-11T19:14:07.394928Z",
     "iopub.status.busy": "2021-09-11T19:14:07.394422Z",
     "iopub.status.idle": "2021-09-11T19:14:07.406765Z",
     "shell.execute_reply": "2021-09-11T19:14:07.406211Z"
    },
    "papermill": {
     "duration": 0.028093,
     "end_time": "2021-09-11T19:14:07.406909",
     "exception": false,
     "start_time": "2021-09-11T19:14:07.378816",
     "status": "completed"
    },
    "tags": []
   },
   "outputs": [],
   "source": [
    "import shutil\n",
    "\n",
    "shutil.rmtree(initial_reads_dir)"
   ]
  },
  {
   "cell_type": "markdown",
   "id": "cf630b4f-ed63-4e14-9657-e0aaea0953ab",
   "metadata": {
    "papermill": {
     "duration": 0.007279,
     "end_time": "2021-09-11T19:14:07.425336",
     "exception": false,
     "start_time": "2021-09-11T19:14:07.418057",
     "status": "completed"
    },
    "tags": []
   },
   "source": [
    "# 3. Fix assemblies\n",
    "\n",
    "Fix assembly genome names"
   ]
  },
  {
   "cell_type": "code",
   "execution_count": 7,
   "id": "08fac610-3ab3-4afa-9873-406973041963",
   "metadata": {
    "execution": {
     "iopub.execute_input": "2021-09-11T19:14:07.447959Z",
     "iopub.status.busy": "2021-09-11T19:14:07.443238Z",
     "iopub.status.idle": "2021-09-11T19:14:07.617279Z",
     "shell.execute_reply": "2021-09-11T19:14:07.618131Z"
    },
    "papermill": {
     "duration": 0.187224,
     "end_time": "2021-09-11T19:14:07.618429",
     "exception": false,
     "start_time": "2021-09-11T19:14:07.431205",
     "status": "completed"
    },
    "tags": []
   },
   "outputs": [
    {
     "name": "stdout",
     "output_type": "stream",
     "text": [
      "~/workspace/genomics-data-index-evaluation/evaluations/simulation/simulations/cov-10/simulated_data/assemblies ~/workspace/genomics-data-index-evaluation/evaluations/simulation\r\n"
     ]
    },
    {
     "name": "stdout",
     "output_type": "stream",
     "text": [
      "~/workspace/genomics-data-index-evaluation/evaluations/simulation\r\n"
     ]
    }
   ],
   "source": [
    "!pushd {assemblies_dir}; prename 's/data__//' *.fa.gz; popd"
   ]
  }
 ],
 "metadata": {
  "kernelspec": {
   "display_name": "Python 3 (ipykernel)",
   "language": "python",
   "name": "python3"
  },
  "language_info": {
   "codemirror_mode": {
    "name": "ipython",
    "version": 3
   },
   "file_extension": ".py",
   "mimetype": "text/x-python",
   "name": "python",
   "nbconvert_exporter": "python",
   "pygments_lexer": "ipython3",
   "version": "3.8.10"
  },
  "papermill": {
   "default_parameters": {},
   "duration": 2.781114,
   "end_time": "2021-09-11T19:14:07.742527",
   "environment_variables": {},
   "exception": null,
   "input_path": "template-2-fix-simulated-files.ipynb",
   "output_path": "2-fix-simulated-files.simulation-cov-10.ipynb",
   "parameters": {
    "iterations": 3,
    "mincov": 10,
    "read_coverage": 10,
    "simulation_dir": "simulations/cov-10",
    "sub_alpha": 0.2
   },
   "start_time": "2021-09-11T19:14:04.961413",
   "version": "2.3.3"
  }
 },
 "nbformat": 4,
 "nbformat_minor": 5
}