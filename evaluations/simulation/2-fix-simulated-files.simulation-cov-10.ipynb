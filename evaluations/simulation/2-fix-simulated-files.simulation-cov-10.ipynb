{
 "cells": [
  {
   "cell_type": "markdown",
   "id": "acfa5482-d626-44d6-b613-863e6911fa98",
   "metadata": {
    "papermill": {
     "duration": 0.014493,
     "end_time": "2021-08-27T18:52:40.290168",
     "exception": false,
     "start_time": "2021-08-27T18:52:40.275675",
     "status": "completed"
    },
    "tags": []
   },
   "source": [
    "# 1. Parameters"
   ]
  },
  {
   "cell_type": "code",
   "execution_count": 1,
   "id": "36126d74-a9d8-4431-ba49-767c1fc2ec49",
   "metadata": {
    "execution": {
     "iopub.execute_input": "2021-08-27T18:52:40.319584Z",
     "iopub.status.busy": "2021-08-27T18:52:40.318948Z",
     "iopub.status.idle": "2021-08-27T18:52:40.323847Z",
     "shell.execute_reply": "2021-08-27T18:52:40.324462Z"
    },
    "papermill": {
     "duration": 0.025525,
     "end_time": "2021-08-27T18:52:40.324772",
     "exception": false,
     "start_time": "2021-08-27T18:52:40.299247",
     "status": "completed"
    },
    "tags": [
     "parameters"
    ]
   },
   "outputs": [],
   "source": [
    "# Defaults\n",
    "simulation_dir = 'simulations/unset'\n",
    "ncores = 48"
   ]
  },
  {
   "cell_type": "code",
   "execution_count": 2,
   "id": "1e22fb04",
   "metadata": {
    "execution": {
     "iopub.execute_input": "2021-08-27T18:52:40.346728Z",
     "iopub.status.busy": "2021-08-27T18:52:40.346271Z",
     "iopub.status.idle": "2021-08-27T18:52:40.348868Z",
     "shell.execute_reply": "2021-08-27T18:52:40.349213Z"
    },
    "papermill": {
     "duration": 0.015444,
     "end_time": "2021-08-27T18:52:40.349326",
     "exception": false,
     "start_time": "2021-08-27T18:52:40.333882",
     "status": "completed"
    },
    "tags": [
     "injected-parameters"
    ]
   },
   "outputs": [],
   "source": [
    "# Parameters\n",
    "read_coverage = 10\n",
    "simulation_dir = \"simulations/cov-10\"\n"
   ]
  },
  {
   "cell_type": "code",
   "execution_count": 3,
   "id": "15e911d7-0ffc-4110-aefe-71bc77e689cd",
   "metadata": {
    "execution": {
     "iopub.execute_input": "2021-08-27T18:52:40.368112Z",
     "iopub.status.busy": "2021-08-27T18:52:40.367680Z",
     "iopub.status.idle": "2021-08-27T18:52:40.371152Z",
     "shell.execute_reply": "2021-08-27T18:52:40.371479Z"
    },
    "papermill": {
     "duration": 0.016982,
     "end_time": "2021-08-27T18:52:40.371592",
     "exception": false,
     "start_time": "2021-08-27T18:52:40.354610",
     "status": "completed"
    },
    "tags": []
   },
   "outputs": [],
   "source": [
    "from pathlib import Path\n",
    "import os\n",
    "\n",
    "simulation_data_dir = Path(simulation_dir) / 'simulated_data'\n",
    "initial_reads_dir = simulation_data_dir / 'reads_initial'\n",
    "reads_dir = simulation_data_dir / 'reads'\n",
    "assemblies_dir = simulation_data_dir / 'assemblies'\n",
    "\n",
    "if not reads_dir.exists():\n",
    "    os.mkdir(reads_dir)"
   ]
  },
  {
   "cell_type": "markdown",
   "id": "rotary-regard",
   "metadata": {
    "papermill": {
     "duration": 0.006061,
     "end_time": "2021-08-27T18:52:40.383391",
     "exception": false,
     "start_time": "2021-08-27T18:52:40.377330",
     "status": "completed"
    },
    "tags": []
   },
   "source": [
    "# 2. Fix reads\n",
    "\n",
    "Fix read file names and data so they can be indexed."
   ]
  },
  {
   "cell_type": "code",
   "execution_count": 4,
   "id": "convenient-blackberry",
   "metadata": {
    "execution": {
     "iopub.execute_input": "2021-08-27T18:52:40.398929Z",
     "iopub.status.busy": "2021-08-27T18:52:40.398516Z",
     "iopub.status.idle": "2021-08-27T18:52:40.578890Z",
     "shell.execute_reply": "2021-08-27T18:52:40.579754Z"
    },
    "papermill": {
     "duration": 0.192164,
     "end_time": "2021-08-27T18:52:40.580042",
     "exception": false,
     "start_time": "2021-08-27T18:52:40.387878",
     "status": "completed"
    },
    "tags": []
   },
   "outputs": [
    {
     "name": "stdout",
     "output_type": "stream",
     "text": [
      "~/workspace/genomics-data-index-evaluation/evaluations/simulation/simulations/cov-10/simulated_data/reads_initial ~/workspace/genomics-data-index-evaluation/evaluations/simulation\r\n"
     ]
    },
    {
     "name": "stdout",
     "output_type": "stream",
     "text": [
      "~/workspace/genomics-data-index-evaluation/evaluations/simulation\r\n"
     ]
    }
   ],
   "source": [
    "import os\n",
    "\n",
    "# Fix warning about locale unset\n",
    "os.environ['LANG'] = 'en_US.UTF-8'\n",
    "\n",
    "!pushd {initial_reads_dir}; prename 's/data_//' *.fq.gz; popd"
   ]
  },
  {
   "cell_type": "markdown",
   "id": "median-belle",
   "metadata": {
    "papermill": {
     "duration": 0.009021,
     "end_time": "2021-08-27T18:52:40.603894",
     "exception": false,
     "start_time": "2021-08-27T18:52:40.594873",
     "status": "completed"
    },
    "tags": []
   },
   "source": [
    "Jackalope produces reads with non-standard identifiers where pairs of reads don't have matching identifiers. For example:\n",
    "\n",
    "* Pair 1: `@SH08-001-NC_011083-3048632-R/1`\n",
    "* Pair 2: `@SH08-001-NC_011083-3048396-F/2`\n",
    "\n",
    "In order to run snippy, these paired identifiers need to match (except for the `/1` and `/2` suffix).\n",
    "\n",
    "So, I have to replace them all with something unique, but which matches in each pair of files. I do this by replacing the position (I think) with the read number (as it appears in the file). So the above identifiers become:\n",
    "\n",
    "* Pair 1: `@SH08-001-NC_011083-1/1`\n",
    "* Pair 2: `@SH08-001-NC_011083-1/2`"
   ]
  },
  {
   "cell_type": "code",
   "execution_count": 5,
   "id": "remarkable-berry",
   "metadata": {
    "execution": {
     "iopub.execute_input": "2021-08-27T18:52:40.624543Z",
     "iopub.status.busy": "2021-08-27T18:52:40.624125Z",
     "iopub.status.idle": "2021-08-27T18:53:06.286354Z",
     "shell.execute_reply": "2021-08-27T18:53:06.287291Z"
    },
    "papermill": {
     "duration": 25.67799,
     "end_time": "2021-08-27T18:53:06.287636",
     "exception": false,
     "start_time": "2021-08-27T18:52:40.609646",
     "status": "completed"
    },
    "tags": []
   },
   "outputs": [],
   "source": [
    "import glob\n",
    "import os\n",
    "\n",
    "files = [os.path.basename(f) for f in glob.glob(f'{initial_reads_dir}/*.fq.gz')]\n",
    "!parallel -j {ncores} -I% 'gzip -d --stdout {initial_reads_dir}/% | perl scripts/replace-fastq-header.pl | gzip > {reads_dir}/%' \\\n",
    "    ::: {' '.join(files)}"
   ]
  },
  {
   "cell_type": "code",
   "execution_count": 6,
   "id": "8318e7a8-1057-4e4f-aaec-fccdec42a75f",
   "metadata": {
    "execution": {
     "iopub.execute_input": "2021-08-27T18:53:06.318676Z",
     "iopub.status.busy": "2021-08-27T18:53:06.318183Z",
     "iopub.status.idle": "2021-08-27T18:53:06.692299Z",
     "shell.execute_reply": "2021-08-27T18:53:06.691262Z"
    },
    "papermill": {
     "duration": 0.389854,
     "end_time": "2021-08-27T18:53:06.692581",
     "exception": false,
     "start_time": "2021-08-27T18:53:06.302727",
     "status": "completed"
    },
    "tags": []
   },
   "outputs": [],
   "source": [
    "import shutil\n",
    "\n",
    "shutil.rmtree(initial_reads_dir)"
   ]
  },
  {
   "cell_type": "markdown",
   "id": "cf630b4f-ed63-4e14-9657-e0aaea0953ab",
   "metadata": {
    "papermill": {
     "duration": 0.008883,
     "end_time": "2021-08-27T18:53:06.715912",
     "exception": false,
     "start_time": "2021-08-27T18:53:06.707029",
     "status": "completed"
    },
    "tags": []
   },
   "source": [
    "# 3. Fix assemblies\n",
    "\n",
    "Fix assembly genome names"
   ]
  },
  {
   "cell_type": "code",
   "execution_count": 7,
   "id": "08fac610-3ab3-4afa-9873-406973041963",
   "metadata": {
    "execution": {
     "iopub.execute_input": "2021-08-27T18:53:06.738658Z",
     "iopub.status.busy": "2021-08-27T18:53:06.734787Z",
     "iopub.status.idle": "2021-08-27T18:53:06.912214Z",
     "shell.execute_reply": "2021-08-27T18:53:06.913058Z"
    },
    "papermill": {
     "duration": 0.190998,
     "end_time": "2021-08-27T18:53:06.913337",
     "exception": false,
     "start_time": "2021-08-27T18:53:06.722339",
     "status": "completed"
    },
    "tags": []
   },
   "outputs": [
    {
     "name": "stdout",
     "output_type": "stream",
     "text": [
      "~/workspace/genomics-data-index-evaluation/evaluations/simulation/simulations/cov-10/simulated_data/assemblies ~/workspace/genomics-data-index-evaluation/evaluations/simulation\r\n"
     ]
    },
    {
     "name": "stdout",
     "output_type": "stream",
     "text": [
      "~/workspace/genomics-data-index-evaluation/evaluations/simulation\r\n"
     ]
    }
   ],
   "source": [
    "!pushd {assemblies_dir}; prename 's/data__//' *.fa.gz; popd"
   ]
  }
 ],
 "metadata": {
  "kernelspec": {
   "display_name": "Python 3 (ipykernel)",
   "language": "python",
   "name": "python3"
  },
  "language_info": {
   "codemirror_mode": {
    "name": "ipython",
    "version": 3
   },
   "file_extension": ".py",
   "mimetype": "text/x-python",
   "name": "python",
   "nbconvert_exporter": "python",
   "pygments_lexer": "ipython3",
   "version": "3.8.10"
  },
  "papermill": {
   "default_parameters": {},
   "duration": 27.630834,
   "end_time": "2021-08-27T18:53:07.138651",
   "environment_variables": {},
   "exception": null,
   "input_path": "template-2-fix-simulated-files.ipynb",
   "output_path": "2-fix-simulated-files.simulation-cov-10.ipynb",
   "parameters": {
    "read_coverage": 10,
    "simulation_dir": "simulations/cov-10"
   },
   "start_time": "2021-08-27T18:52:39.507817",
   "version": "2.3.3"
  }
 },
 "nbformat": 4,
 "nbformat_minor": 5
}