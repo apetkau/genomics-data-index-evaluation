{
 "cells": [
  {
   "cell_type": "markdown",
   "id": "acfa5482-d626-44d6-b613-863e6911fa98",
   "metadata": {
    "papermill": {
     "duration": 0.017427,
     "end_time": "2021-08-31T23:30:51.964688",
     "exception": false,
     "start_time": "2021-08-31T23:30:51.947261",
     "status": "completed"
    },
    "tags": []
   },
   "source": [
    "# 1. Parameters"
   ]
  },
  {
   "cell_type": "code",
   "execution_count": 1,
   "id": "36126d74-a9d8-4431-ba49-767c1fc2ec49",
   "metadata": {
    "execution": {
     "iopub.execute_input": "2021-08-31T23:30:52.001607Z",
     "iopub.status.busy": "2021-08-31T23:30:52.000834Z",
     "iopub.status.idle": "2021-08-31T23:30:52.005794Z",
     "shell.execute_reply": "2021-08-31T23:30:52.006365Z"
    },
    "papermill": {
     "duration": 0.028353,
     "end_time": "2021-08-31T23:30:52.006665",
     "exception": false,
     "start_time": "2021-08-31T23:30:51.978312",
     "status": "completed"
    },
    "tags": [
     "parameters"
    ]
   },
   "outputs": [],
   "source": [
    "# Defaults\n",
    "simulation_dir = 'simulations/unset'\n",
    "ncores = 48"
   ]
  },
  {
   "cell_type": "code",
   "execution_count": 2,
   "id": "283abc73",
   "metadata": {
    "execution": {
     "iopub.execute_input": "2021-08-31T23:30:52.029171Z",
     "iopub.status.busy": "2021-08-31T23:30:52.028636Z",
     "iopub.status.idle": "2021-08-31T23:30:52.031692Z",
     "shell.execute_reply": "2021-08-31T23:30:52.032128Z"
    },
    "papermill": {
     "duration": 0.016434,
     "end_time": "2021-08-31T23:30:52.032281",
     "exception": false,
     "start_time": "2021-08-31T23:30:52.015847",
     "status": "completed"
    },
    "tags": [
     "injected-parameters"
    ]
   },
   "outputs": [],
   "source": [
    "# Parameters\n",
    "read_coverage = 10\n",
    "mincov = 10\n",
    "simulation_dir = \"simulations/cov-10\"\n",
    "iterations = 3\n"
   ]
  },
  {
   "cell_type": "code",
   "execution_count": 3,
   "id": "15e911d7-0ffc-4110-aefe-71bc77e689cd",
   "metadata": {
    "execution": {
     "iopub.execute_input": "2021-08-31T23:30:52.051616Z",
     "iopub.status.busy": "2021-08-31T23:30:52.051037Z",
     "iopub.status.idle": "2021-08-31T23:30:52.054982Z",
     "shell.execute_reply": "2021-08-31T23:30:52.055394Z"
    },
    "papermill": {
     "duration": 0.016816,
     "end_time": "2021-08-31T23:30:52.055554",
     "exception": false,
     "start_time": "2021-08-31T23:30:52.038738",
     "status": "completed"
    },
    "tags": []
   },
   "outputs": [],
   "source": [
    "from pathlib import Path\n",
    "import os\n",
    "\n",
    "simulation_data_dir = Path(simulation_dir) / 'simulated_data'\n",
    "initial_reads_dir = simulation_data_dir / 'reads_initial'\n",
    "reads_dir = simulation_data_dir / 'reads'\n",
    "assemblies_dir = simulation_data_dir / 'assemblies'\n",
    "\n",
    "if not reads_dir.exists():\n",
    "    os.mkdir(reads_dir)"
   ]
  },
  {
   "cell_type": "markdown",
   "id": "rotary-regard",
   "metadata": {
    "papermill": {
     "duration": 0.006141,
     "end_time": "2021-08-31T23:30:52.067828",
     "exception": false,
     "start_time": "2021-08-31T23:30:52.061687",
     "status": "completed"
    },
    "tags": []
   },
   "source": [
    "# 2. Fix reads\n",
    "\n",
    "Fix read file names and data so they can be indexed."
   ]
  },
  {
   "cell_type": "code",
   "execution_count": 4,
   "id": "convenient-blackberry",
   "metadata": {
    "execution": {
     "iopub.execute_input": "2021-08-31T23:30:52.084028Z",
     "iopub.status.busy": "2021-08-31T23:30:52.083610Z",
     "iopub.status.idle": "2021-08-31T23:30:52.323820Z",
     "shell.execute_reply": "2021-08-31T23:30:52.324669Z"
    },
    "papermill": {
     "duration": 0.252037,
     "end_time": "2021-08-31T23:30:52.324980",
     "exception": false,
     "start_time": "2021-08-31T23:30:52.072943",
     "status": "completed"
    },
    "tags": []
   },
   "outputs": [
    {
     "name": "stdout",
     "output_type": "stream",
     "text": [
      "~/workspace/genomics-data-index-evaluation/evaluations/simulation/simulations/cov-10/simulated_data/reads_initial ~/workspace/genomics-data-index-evaluation/evaluations/simulation\r\n"
     ]
    },
    {
     "name": "stdout",
     "output_type": "stream",
     "text": [
      "~/workspace/genomics-data-index-evaluation/evaluations/simulation\r\n"
     ]
    }
   ],
   "source": [
    "import os\n",
    "\n",
    "# Fix warning about locale unset\n",
    "os.environ['LANG'] = 'en_US.UTF-8'\n",
    "\n",
    "!pushd {initial_reads_dir}; prename 's/data_//' *.fq.gz; popd"
   ]
  },
  {
   "cell_type": "markdown",
   "id": "median-belle",
   "metadata": {
    "papermill": {
     "duration": 0.008807,
     "end_time": "2021-08-31T23:30:52.347595",
     "exception": false,
     "start_time": "2021-08-31T23:30:52.338788",
     "status": "completed"
    },
    "tags": []
   },
   "source": [
    "Jackalope produces reads with non-standard identifiers where pairs of reads don't have matching identifiers. For example:\n",
    "\n",
    "* Pair 1: `@SH08-001-NC_011083-3048632-R/1`\n",
    "* Pair 2: `@SH08-001-NC_011083-3048396-F/2`\n",
    "\n",
    "In order to run snippy, these paired identifiers need to match (except for the `/1` and `/2` suffix).\n",
    "\n",
    "So, I have to replace them all with something unique, but which matches in each pair of files. I do this by replacing the position (I think) with the read number (as it appears in the file). So the above identifiers become:\n",
    "\n",
    "* Pair 1: `@SH08-001-NC_011083-1/1`\n",
    "* Pair 2: `@SH08-001-NC_011083-1/2`"
   ]
  },
  {
   "cell_type": "code",
   "execution_count": 5,
   "id": "remarkable-berry",
   "metadata": {
    "execution": {
     "iopub.execute_input": "2021-08-31T23:30:52.368995Z",
     "iopub.status.busy": "2021-08-31T23:30:52.368566Z",
     "iopub.status.idle": "2021-08-31T23:31:18.228482Z",
     "shell.execute_reply": "2021-08-31T23:31:18.229380Z"
    },
    "papermill": {
     "duration": 25.87549,
     "end_time": "2021-08-31T23:31:18.229717",
     "exception": false,
     "start_time": "2021-08-31T23:30:52.354227",
     "status": "completed"
    },
    "tags": []
   },
   "outputs": [],
   "source": [
    "import glob\n",
    "import os\n",
    "\n",
    "files = [os.path.basename(f) for f in glob.glob(f'{initial_reads_dir}/*.fq.gz')]\n",
    "!parallel -j {ncores} -I% 'gzip -d --stdout {initial_reads_dir}/% | perl scripts/replace-fastq-header.pl | gzip > {reads_dir}/%' \\\n",
    "    ::: {' '.join(files)}"
   ]
  },
  {
   "cell_type": "code",
   "execution_count": 6,
   "id": "8318e7a8-1057-4e4f-aaec-fccdec42a75f",
   "metadata": {
    "execution": {
     "iopub.execute_input": "2021-08-31T23:31:18.259863Z",
     "iopub.status.busy": "2021-08-31T23:31:18.258808Z",
     "iopub.status.idle": "2021-08-31T23:31:18.619271Z",
     "shell.execute_reply": "2021-08-31T23:31:18.618339Z"
    },
    "papermill": {
     "duration": 0.376455,
     "end_time": "2021-08-31T23:31:18.619542",
     "exception": false,
     "start_time": "2021-08-31T23:31:18.243087",
     "status": "completed"
    },
    "tags": []
   },
   "outputs": [],
   "source": [
    "import shutil\n",
    "\n",
    "shutil.rmtree(initial_reads_dir)"
   ]
  },
  {
   "cell_type": "markdown",
   "id": "cf630b4f-ed63-4e14-9657-e0aaea0953ab",
   "metadata": {
    "papermill": {
     "duration": 0.008398,
     "end_time": "2021-08-31T23:31:18.640908",
     "exception": false,
     "start_time": "2021-08-31T23:31:18.632510",
     "status": "completed"
    },
    "tags": []
   },
   "source": [
    "# 3. Fix assemblies\n",
    "\n",
    "Fix assembly genome names"
   ]
  },
  {
   "cell_type": "code",
   "execution_count": 7,
   "id": "08fac610-3ab3-4afa-9873-406973041963",
   "metadata": {
    "execution": {
     "iopub.execute_input": "2021-08-31T23:31:18.663088Z",
     "iopub.status.busy": "2021-08-31T23:31:18.659317Z",
     "iopub.status.idle": "2021-08-31T23:31:18.834553Z",
     "shell.execute_reply": "2021-08-31T23:31:18.835404Z"
    },
    "papermill": {
     "duration": 0.188746,
     "end_time": "2021-08-31T23:31:18.835726",
     "exception": false,
     "start_time": "2021-08-31T23:31:18.646980",
     "status": "completed"
    },
    "tags": []
   },
   "outputs": [
    {
     "name": "stdout",
     "output_type": "stream",
     "text": [
      "~/workspace/genomics-data-index-evaluation/evaluations/simulation/simulations/cov-10/simulated_data/assemblies ~/workspace/genomics-data-index-evaluation/evaluations/simulation\r\n"
     ]
    },
    {
     "name": "stdout",
     "output_type": "stream",
     "text": [
      "~/workspace/genomics-data-index-evaluation/evaluations/simulation\r\n"
     ]
    }
   ],
   "source": [
    "!pushd {assemblies_dir}; prename 's/data__//' *.fa.gz; popd"
   ]
  }
 ],
 "metadata": {
  "kernelspec": {
   "display_name": "Python 3 (ipykernel)",
   "language": "python",
   "name": "python3"
  },
  "language_info": {
   "codemirror_mode": {
    "name": "ipython",
    "version": 3
   },
   "file_extension": ".py",
   "mimetype": "text/x-python",
   "name": "python",
   "nbconvert_exporter": "python",
   "pygments_lexer": "ipython3",
   "version": "3.8.10"
  },
  "papermill": {
   "default_parameters": {},
   "duration": 28.117054,
   "end_time": "2021-08-31T23:31:19.061425",
   "environment_variables": {},
   "exception": null,
   "input_path": "template-2-fix-simulated-files.ipynb",
   "output_path": "2-fix-simulated-files.simulation-cov-10.ipynb",
   "parameters": {
    "iterations": 3,
    "mincov": 10,
    "read_coverage": 10,
    "simulation_dir": "simulations/cov-10"
   },
   "start_time": "2021-08-31T23:30:50.944371",
   "version": "2.3.3"
  }
 },
 "nbformat": 4,
 "nbformat_minor": 5
}