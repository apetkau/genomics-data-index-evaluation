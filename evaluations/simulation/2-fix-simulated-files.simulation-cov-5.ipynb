{
 "cells": [
  {
   "cell_type": "markdown",
   "id": "acfa5482-d626-44d6-b613-863e6911fa98",
   "metadata": {
    "papermill": {
     "duration": 0.013536,
     "end_time": "2021-08-27T18:59:50.196878",
     "exception": false,
     "start_time": "2021-08-27T18:59:50.183342",
     "status": "completed"
    },
    "tags": []
   },
   "source": [
    "# 1. Parameters"
   ]
  },
  {
   "cell_type": "code",
   "execution_count": 1,
   "id": "36126d74-a9d8-4431-ba49-767c1fc2ec49",
   "metadata": {
    "execution": {
     "iopub.execute_input": "2021-08-27T18:59:50.226549Z",
     "iopub.status.busy": "2021-08-27T18:59:50.225784Z",
     "iopub.status.idle": "2021-08-27T18:59:50.229999Z",
     "shell.execute_reply": "2021-08-27T18:59:50.229493Z"
    },
    "papermill": {
     "duration": 0.024298,
     "end_time": "2021-08-27T18:59:50.230134",
     "exception": false,
     "start_time": "2021-08-27T18:59:50.205836",
     "status": "completed"
    },
    "tags": [
     "parameters"
    ]
   },
   "outputs": [],
   "source": [
    "# Defaults\n",
    "simulation_dir = 'simulations/unset'\n",
    "ncores = 48"
   ]
  },
  {
   "cell_type": "code",
   "execution_count": 2,
   "id": "f64a573c",
   "metadata": {
    "execution": {
     "iopub.execute_input": "2021-08-27T18:59:50.250169Z",
     "iopub.status.busy": "2021-08-27T18:59:50.249695Z",
     "iopub.status.idle": "2021-08-27T18:59:50.252264Z",
     "shell.execute_reply": "2021-08-27T18:59:50.252632Z"
    },
    "papermill": {
     "duration": 0.015356,
     "end_time": "2021-08-27T18:59:50.252752",
     "exception": false,
     "start_time": "2021-08-27T18:59:50.237396",
     "status": "completed"
    },
    "tags": [
     "injected-parameters"
    ]
   },
   "outputs": [],
   "source": [
    "# Parameters\n",
    "read_coverage = 5\n",
    "simulation_dir = \"simulations/cov-5\"\n"
   ]
  },
  {
   "cell_type": "code",
   "execution_count": 3,
   "id": "15e911d7-0ffc-4110-aefe-71bc77e689cd",
   "metadata": {
    "execution": {
     "iopub.execute_input": "2021-08-27T18:59:50.273174Z",
     "iopub.status.busy": "2021-08-27T18:59:50.272759Z",
     "iopub.status.idle": "2021-08-27T18:59:50.275607Z",
     "shell.execute_reply": "2021-08-27T18:59:50.276026Z"
    },
    "papermill": {
     "duration": 0.016885,
     "end_time": "2021-08-27T18:59:50.276169",
     "exception": false,
     "start_time": "2021-08-27T18:59:50.259284",
     "status": "completed"
    },
    "tags": []
   },
   "outputs": [],
   "source": [
    "from pathlib import Path\n",
    "import os\n",
    "\n",
    "simulation_data_dir = Path(simulation_dir) / 'simulated_data'\n",
    "initial_reads_dir = simulation_data_dir / 'reads_initial'\n",
    "reads_dir = simulation_data_dir / 'reads'\n",
    "assemblies_dir = simulation_data_dir / 'assemblies'\n",
    "\n",
    "if not reads_dir.exists():\n",
    "    os.mkdir(reads_dir)"
   ]
  },
  {
   "cell_type": "markdown",
   "id": "rotary-regard",
   "metadata": {
    "papermill": {
     "duration": 0.005312,
     "end_time": "2021-08-27T18:59:50.287626",
     "exception": false,
     "start_time": "2021-08-27T18:59:50.282314",
     "status": "completed"
    },
    "tags": []
   },
   "source": [
    "# 2. Fix reads\n",
    "\n",
    "Fix read file names and data so they can be indexed."
   ]
  },
  {
   "cell_type": "code",
   "execution_count": 4,
   "id": "convenient-blackberry",
   "metadata": {
    "execution": {
     "iopub.execute_input": "2021-08-27T18:59:50.304164Z",
     "iopub.status.busy": "2021-08-27T18:59:50.303681Z",
     "iopub.status.idle": "2021-08-27T18:59:50.485200Z",
     "shell.execute_reply": "2021-08-27T18:59:50.486079Z"
    },
    "papermill": {
     "duration": 0.193678,
     "end_time": "2021-08-27T18:59:50.486340",
     "exception": false,
     "start_time": "2021-08-27T18:59:50.292662",
     "status": "completed"
    },
    "tags": []
   },
   "outputs": [
    {
     "name": "stdout",
     "output_type": "stream",
     "text": [
      "~/workspace/genomics-data-index-evaluation/evaluations/simulation/simulations/cov-5/simulated_data/reads_initial ~/workspace/genomics-data-index-evaluation/evaluations/simulation\r\n"
     ]
    },
    {
     "name": "stdout",
     "output_type": "stream",
     "text": [
      "~/workspace/genomics-data-index-evaluation/evaluations/simulation\r\n"
     ]
    }
   ],
   "source": [
    "import os\n",
    "\n",
    "# Fix warning about locale unset\n",
    "os.environ['LANG'] = 'en_US.UTF-8'\n",
    "\n",
    "!pushd {initial_reads_dir}; prename 's/data_//' *.fq.gz; popd"
   ]
  },
  {
   "cell_type": "markdown",
   "id": "median-belle",
   "metadata": {
    "papermill": {
     "duration": 0.008358,
     "end_time": "2021-08-27T18:59:50.507723",
     "exception": false,
     "start_time": "2021-08-27T18:59:50.499365",
     "status": "completed"
    },
    "tags": []
   },
   "source": [
    "Jackalope produces reads with non-standard identifiers where pairs of reads don't have matching identifiers. For example:\n",
    "\n",
    "* Pair 1: `@SH08-001-NC_011083-3048632-R/1`\n",
    "* Pair 2: `@SH08-001-NC_011083-3048396-F/2`\n",
    "\n",
    "In order to run snippy, these paired identifiers need to match (except for the `/1` and `/2` suffix).\n",
    "\n",
    "So, I have to replace them all with something unique, but which matches in each pair of files. I do this by replacing the position (I think) with the read number (as it appears in the file). So the above identifiers become:\n",
    "\n",
    "* Pair 1: `@SH08-001-NC_011083-1/1`\n",
    "* Pair 2: `@SH08-001-NC_011083-1/2`"
   ]
  },
  {
   "cell_type": "code",
   "execution_count": 5,
   "id": "remarkable-berry",
   "metadata": {
    "execution": {
     "iopub.execute_input": "2021-08-27T18:59:50.527939Z",
     "iopub.status.busy": "2021-08-27T18:59:50.527484Z",
     "iopub.status.idle": "2021-08-27T19:00:03.755079Z",
     "shell.execute_reply": "2021-08-27T19:00:03.756030Z"
    },
    "papermill": {
     "duration": 13.242416,
     "end_time": "2021-08-27T19:00:03.756360",
     "exception": false,
     "start_time": "2021-08-27T18:59:50.513944",
     "status": "completed"
    },
    "tags": []
   },
   "outputs": [],
   "source": [
    "import glob\n",
    "import os\n",
    "\n",
    "files = [os.path.basename(f) for f in glob.glob(f'{initial_reads_dir}/*.fq.gz')]\n",
    "!parallel -j {ncores} -I% 'gzip -d --stdout {initial_reads_dir}/% | perl scripts/replace-fastq-header.pl | gzip > {reads_dir}/%' \\\n",
    "    ::: {' '.join(files)}"
   ]
  },
  {
   "cell_type": "code",
   "execution_count": 6,
   "id": "8318e7a8-1057-4e4f-aaec-fccdec42a75f",
   "metadata": {
    "execution": {
     "iopub.execute_input": "2021-08-27T19:00:03.784179Z",
     "iopub.status.busy": "2021-08-27T19:00:03.783584Z",
     "iopub.status.idle": "2021-08-27T19:00:03.994004Z",
     "shell.execute_reply": "2021-08-27T19:00:03.993060Z"
    },
    "papermill": {
     "duration": 0.225133,
     "end_time": "2021-08-27T19:00:03.994234",
     "exception": false,
     "start_time": "2021-08-27T19:00:03.769101",
     "status": "completed"
    },
    "tags": []
   },
   "outputs": [],
   "source": [
    "import shutil\n",
    "\n",
    "shutil.rmtree(initial_reads_dir)"
   ]
  },
  {
   "cell_type": "markdown",
   "id": "cf630b4f-ed63-4e14-9657-e0aaea0953ab",
   "metadata": {
    "papermill": {
     "duration": 0.008522,
     "end_time": "2021-08-27T19:00:04.016395",
     "exception": false,
     "start_time": "2021-08-27T19:00:04.007873",
     "status": "completed"
    },
    "tags": []
   },
   "source": [
    "# 3. Fix assemblies\n",
    "\n",
    "Fix assembly genome names"
   ]
  },
  {
   "cell_type": "code",
   "execution_count": 7,
   "id": "08fac610-3ab3-4afa-9873-406973041963",
   "metadata": {
    "execution": {
     "iopub.execute_input": "2021-08-27T19:00:04.038487Z",
     "iopub.status.busy": "2021-08-27T19:00:04.034776Z",
     "iopub.status.idle": "2021-08-27T19:00:04.208889Z",
     "shell.execute_reply": "2021-08-27T19:00:04.209789Z"
    },
    "papermill": {
     "duration": 0.187545,
     "end_time": "2021-08-27T19:00:04.210067",
     "exception": false,
     "start_time": "2021-08-27T19:00:04.022522",
     "status": "completed"
    },
    "tags": []
   },
   "outputs": [
    {
     "name": "stdout",
     "output_type": "stream",
     "text": [
      "~/workspace/genomics-data-index-evaluation/evaluations/simulation/simulations/cov-5/simulated_data/assemblies ~/workspace/genomics-data-index-evaluation/evaluations/simulation\r\n"
     ]
    },
    {
     "name": "stdout",
     "output_type": "stream",
     "text": [
      "~/workspace/genomics-data-index-evaluation/evaluations/simulation\r\n"
     ]
    }
   ],
   "source": [
    "!pushd {assemblies_dir}; prename 's/data__//' *.fa.gz; popd"
   ]
  }
 ],
 "metadata": {
  "kernelspec": {
   "display_name": "Python 3 (ipykernel)",
   "language": "python",
   "name": "python3"
  },
  "language_info": {
   "codemirror_mode": {
    "name": "ipython",
    "version": 3
   },
   "file_extension": ".py",
   "mimetype": "text/x-python",
   "name": "python",
   "nbconvert_exporter": "python",
   "pygments_lexer": "ipython3",
   "version": "3.8.10"
  },
  "papermill": {
   "default_parameters": {},
   "duration": 15.161578,
   "end_time": "2021-08-27T19:00:04.334242",
   "environment_variables": {},
   "exception": null,
   "input_path": "template-2-fix-simulated-files.ipynb",
   "output_path": "2-fix-simulated-files.simulation-cov-5.ipynb",
   "parameters": {
    "read_coverage": 5,
    "simulation_dir": "simulations/cov-5"
   },
   "start_time": "2021-08-27T18:59:49.172664",
   "version": "2.3.3"
  }
 },
 "nbformat": 4,
 "nbformat_minor": 5
}