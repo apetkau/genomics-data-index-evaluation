{
 "cells": [
  {
   "cell_type": "markdown",
   "id": "acfa5482-d626-44d6-b613-863e6911fa98",
   "metadata": {
    "papermill": {
     "duration": 0.01619,
     "end_time": "2021-09-11T19:08:31.849648",
     "exception": false,
     "start_time": "2021-09-11T19:08:31.833458",
     "status": "completed"
    },
    "tags": []
   },
   "source": [
    "# 1. Parameters"
   ]
  },
  {
   "cell_type": "code",
   "execution_count": 1,
   "id": "36126d74-a9d8-4431-ba49-767c1fc2ec49",
   "metadata": {
    "execution": {
     "iopub.execute_input": "2021-09-11T19:08:31.880668Z",
     "iopub.status.busy": "2021-09-11T19:08:31.879895Z",
     "iopub.status.idle": "2021-09-11T19:08:31.884588Z",
     "shell.execute_reply": "2021-09-11T19:08:31.885360Z"
    },
    "papermill": {
     "duration": 0.026665,
     "end_time": "2021-09-11T19:08:31.885757",
     "exception": false,
     "start_time": "2021-09-11T19:08:31.859092",
     "status": "completed"
    },
    "tags": [
     "parameters"
    ]
   },
   "outputs": [],
   "source": [
    "# Defaults\n",
    "simulation_dir = 'simulations/unset'\n",
    "ncores = 48"
   ]
  },
  {
   "cell_type": "code",
   "execution_count": 2,
   "id": "f0301378",
   "metadata": {
    "execution": {
     "iopub.execute_input": "2021-09-11T19:08:31.911175Z",
     "iopub.status.busy": "2021-09-11T19:08:31.910615Z",
     "iopub.status.idle": "2021-09-11T19:08:31.913757Z",
     "shell.execute_reply": "2021-09-11T19:08:31.914300Z"
    },
    "papermill": {
     "duration": 0.017941,
     "end_time": "2021-09-11T19:08:31.914479",
     "exception": false,
     "start_time": "2021-09-11T19:08:31.896538",
     "status": "completed"
    },
    "tags": [
     "injected-parameters"
    ]
   },
   "outputs": [],
   "source": [
    "# Parameters\n",
    "read_coverage = 30\n",
    "mincov = 10\n",
    "simulation_dir = \"simulations/alpha-5.0-cov-30\"\n",
    "iterations = 3\n",
    "sub_alpha = 5.0\n"
   ]
  },
  {
   "cell_type": "code",
   "execution_count": 3,
   "id": "15e911d7-0ffc-4110-aefe-71bc77e689cd",
   "metadata": {
    "execution": {
     "iopub.execute_input": "2021-09-11T19:08:31.937410Z",
     "iopub.status.busy": "2021-09-11T19:08:31.936387Z",
     "iopub.status.idle": "2021-09-11T19:08:31.939848Z",
     "shell.execute_reply": "2021-09-11T19:08:31.940621Z"
    },
    "papermill": {
     "duration": 0.018382,
     "end_time": "2021-09-11T19:08:31.940869",
     "exception": false,
     "start_time": "2021-09-11T19:08:31.922487",
     "status": "completed"
    },
    "tags": []
   },
   "outputs": [],
   "source": [
    "from pathlib import Path\n",
    "import os\n",
    "\n",
    "simulation_data_dir = Path(simulation_dir) / 'simulated_data'\n",
    "initial_reads_dir = simulation_data_dir / 'reads_initial'\n",
    "reads_dir = simulation_data_dir / 'reads'\n",
    "assemblies_dir = simulation_data_dir / 'assemblies'\n",
    "\n",
    "if not reads_dir.exists():\n",
    "    os.mkdir(reads_dir)"
   ]
  },
  {
   "cell_type": "markdown",
   "id": "rotary-regard",
   "metadata": {
    "papermill": {
     "duration": 0.007774,
     "end_time": "2021-09-11T19:08:31.960299",
     "exception": false,
     "start_time": "2021-09-11T19:08:31.952525",
     "status": "completed"
    },
    "tags": []
   },
   "source": [
    "# 2. Fix reads\n",
    "\n",
    "Fix read file names and data so they can be indexed."
   ]
  },
  {
   "cell_type": "code",
   "execution_count": 4,
   "id": "convenient-blackberry",
   "metadata": {
    "execution": {
     "iopub.execute_input": "2021-09-11T19:08:31.985263Z",
     "iopub.status.busy": "2021-09-11T19:08:31.978350Z",
     "iopub.status.idle": "2021-09-11T19:08:32.157749Z",
     "shell.execute_reply": "2021-09-11T19:08:32.156822Z"
    },
    "papermill": {
     "duration": 0.191592,
     "end_time": "2021-09-11T19:08:32.158009",
     "exception": false,
     "start_time": "2021-09-11T19:08:31.966417",
     "status": "completed"
    },
    "tags": []
   },
   "outputs": [
    {
     "name": "stdout",
     "output_type": "stream",
     "text": [
      "~/workspace/genomics-data-index-evaluation/evaluations/simulation/simulations/alpha-5.0-cov-30/simulated_data/reads_initial ~/workspace/genomics-data-index-evaluation/evaluations/simulation\r\n"
     ]
    },
    {
     "name": "stdout",
     "output_type": "stream",
     "text": [
      "~/workspace/genomics-data-index-evaluation/evaluations/simulation\r\n"
     ]
    }
   ],
   "source": [
    "import os\n",
    "\n",
    "# Fix warning about locale unset\n",
    "os.environ['LANG'] = 'en_US.UTF-8'\n",
    "\n",
    "!pushd {initial_reads_dir}; prename 's/data_//' *.fq.gz; popd"
   ]
  },
  {
   "cell_type": "markdown",
   "id": "median-belle",
   "metadata": {
    "papermill": {
     "duration": 0.008666,
     "end_time": "2021-09-11T19:08:32.179274",
     "exception": false,
     "start_time": "2021-09-11T19:08:32.170608",
     "status": "completed"
    },
    "tags": []
   },
   "source": [
    "Jackalope produces reads with non-standard identifiers where pairs of reads don't have matching identifiers. For example:\n",
    "\n",
    "* Pair 1: `@SH08-001-NC_011083-3048632-R/1`\n",
    "* Pair 2: `@SH08-001-NC_011083-3048396-F/2`\n",
    "\n",
    "In order to run snippy, these paired identifiers need to match (except for the `/1` and `/2` suffix).\n",
    "\n",
    "So, I have to replace them all with something unique, but which matches in each pair of files. I do this by replacing the position (I think) with the read number (as it appears in the file). So the above identifiers become:\n",
    "\n",
    "* Pair 1: `@SH08-001-NC_011083-1/1`\n",
    "* Pair 2: `@SH08-001-NC_011083-1/2`"
   ]
  },
  {
   "cell_type": "code",
   "execution_count": 5,
   "id": "remarkable-berry",
   "metadata": {
    "execution": {
     "iopub.execute_input": "2021-09-11T19:08:32.199896Z",
     "iopub.status.busy": "2021-09-11T19:08:32.199440Z",
     "iopub.status.idle": "2021-09-11T19:08:33.186157Z",
     "shell.execute_reply": "2021-09-11T19:08:33.187094Z"
    },
    "papermill": {
     "duration": 1.001503,
     "end_time": "2021-09-11T19:08:33.187446",
     "exception": false,
     "start_time": "2021-09-11T19:08:32.185943",
     "status": "completed"
    },
    "tags": []
   },
   "outputs": [],
   "source": [
    "import glob\n",
    "import os\n",
    "\n",
    "files = [os.path.basename(f) for f in glob.glob(f'{initial_reads_dir}/*.fq.gz')]\n",
    "!parallel -j {ncores} -I% 'gzip -d --stdout {initial_reads_dir}/% | perl scripts/replace-fastq-header.pl | gzip > {reads_dir}/%' \\\n",
    "    ::: {' '.join(files)}"
   ]
  },
  {
   "cell_type": "code",
   "execution_count": 6,
   "id": "8318e7a8-1057-4e4f-aaec-fccdec42a75f",
   "metadata": {
    "execution": {
     "iopub.execute_input": "2021-09-11T19:08:33.216069Z",
     "iopub.status.busy": "2021-09-11T19:08:33.215414Z",
     "iopub.status.idle": "2021-09-11T19:08:33.233266Z",
     "shell.execute_reply": "2021-09-11T19:08:33.233898Z"
    },
    "papermill": {
     "duration": 0.033812,
     "end_time": "2021-09-11T19:08:33.234120",
     "exception": false,
     "start_time": "2021-09-11T19:08:33.200308",
     "status": "completed"
    },
    "tags": []
   },
   "outputs": [],
   "source": [
    "import shutil\n",
    "\n",
    "shutil.rmtree(initial_reads_dir)"
   ]
  },
  {
   "cell_type": "markdown",
   "id": "cf630b4f-ed63-4e14-9657-e0aaea0953ab",
   "metadata": {
    "papermill": {
     "duration": 0.008896,
     "end_time": "2021-09-11T19:08:33.256370",
     "exception": false,
     "start_time": "2021-09-11T19:08:33.247474",
     "status": "completed"
    },
    "tags": []
   },
   "source": [
    "# 3. Fix assemblies\n",
    "\n",
    "Fix assembly genome names"
   ]
  },
  {
   "cell_type": "code",
   "execution_count": 7,
   "id": "08fac610-3ab3-4afa-9873-406973041963",
   "metadata": {
    "execution": {
     "iopub.execute_input": "2021-09-11T19:08:33.280327Z",
     "iopub.status.busy": "2021-09-11T19:08:33.274872Z",
     "iopub.status.idle": "2021-09-11T19:08:33.456263Z",
     "shell.execute_reply": "2021-09-11T19:08:33.455231Z"
    },
    "papermill": {
     "duration": 0.193775,
     "end_time": "2021-09-11T19:08:33.456514",
     "exception": false,
     "start_time": "2021-09-11T19:08:33.262739",
     "status": "completed"
    },
    "tags": []
   },
   "outputs": [
    {
     "name": "stdout",
     "output_type": "stream",
     "text": [
      "~/workspace/genomics-data-index-evaluation/evaluations/simulation/simulations/alpha-5.0-cov-30/simulated_data/assemblies ~/workspace/genomics-data-index-evaluation/evaluations/simulation\r\n"
     ]
    },
    {
     "name": "stdout",
     "output_type": "stream",
     "text": [
      "~/workspace/genomics-data-index-evaluation/evaluations/simulation\r\n"
     ]
    }
   ],
   "source": [
    "!pushd {assemblies_dir}; prename 's/data__//' *.fa.gz; popd"
   ]
  }
 ],
 "metadata": {
  "kernelspec": {
   "display_name": "Python 3 (ipykernel)",
   "language": "python",
   "name": "python3"
  },
  "language_info": {
   "codemirror_mode": {
    "name": "ipython",
    "version": 3
   },
   "file_extension": ".py",
   "mimetype": "text/x-python",
   "name": "python",
   "nbconvert_exporter": "python",
   "pygments_lexer": "ipython3",
   "version": "3.8.10"
  },
  "papermill": {
   "default_parameters": {},
   "duration": 2.730609,
   "end_time": "2021-09-11T19:08:33.581452",
   "environment_variables": {},
   "exception": null,
   "input_path": "template-2-fix-simulated-files.ipynb",
   "output_path": "2-fix-simulated-files.simulation-alpha-5.0.ipynb",
   "parameters": {
    "iterations": 3,
    "mincov": 10,
    "read_coverage": 30,
    "simulation_dir": "simulations/alpha-5.0-cov-30",
    "sub_alpha": 5.0
   },
   "start_time": "2021-09-11T19:08:30.850843",
   "version": "2.3.3"
  }
 },
 "nbformat": 4,
 "nbformat_minor": 5
}