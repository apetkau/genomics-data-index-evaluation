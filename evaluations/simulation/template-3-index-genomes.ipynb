{
 "cells": [
  {
   "cell_type": "markdown",
   "id": "7d3667b4-b1f8-4347-96e3-830c25b06740",
   "metadata": {
    "tags": []
   },
   "source": [
    "# 1. Parameters"
   ]
  },
  {
   "cell_type": "code",
   "execution_count": 1,
   "id": "d4ab0749-b286-4c34-b63c-a854e4952bae",
   "metadata": {
    "tags": [
     "parameters"
    ]
   },
   "outputs": [],
   "source": [
    "# Defaults\n",
    "simulation_dir = 'simulations/unset'\n",
    "reference_file = 'simulations/reference/reference.fa.gz'\n",
    "iterations = 3\n",
    "mincov = 10\n",
    "ncores = 32"
   ]
  },
  {
   "cell_type": "code",
   "execution_count": 2,
   "id": "ce5962e4-261c-4210-b39b-47044e28466b",
   "metadata": {},
   "outputs": [],
   "source": [
    "from pathlib import Path\n",
    "import imp\n",
    "fp, pathname, description = imp.find_module('gdi_benchmark', ['../../lib'])\n",
    "gdi_benchmark = imp.load_module('gdi_benchmark', fp, pathname, description)\n",
    "\n",
    "simulation_dir_path = Path(simulation_dir)\n",
    "\n",
    "case_name = str(simulation_dir_path.name)\n",
    "reads_dir = simulation_dir_path / 'simulated_data' / 'reads'\n",
    "assemblies_dir = simulation_dir_path / 'simulated_data' / 'assemblies'\n",
    "index_reads_path = simulation_dir_path / 'index-reads'\n",
    "index_assemblies_path = simulation_dir_path / 'index-assemblies'\n",
    "output_data_dir = 'output'"
   ]
  },
  {
   "cell_type": "markdown",
   "id": "f208279e-7558-47fc-9362-da29df92828a",
   "metadata": {},
   "source": [
    "# 2. Index genomes"
   ]
  },
  {
   "cell_type": "code",
   "execution_count": 3,
   "id": "4e936f7c-2fcd-4188-b0e6-6b3ceb5cdcd2",
   "metadata": {},
   "outputs": [
    {
     "name": "stdout",
     "output_type": "stream",
     "text": [
      "gdi, version 0.3.0.dev9\n"
     ]
    }
   ],
   "source": [
    "!gdi --version"
   ]
  },
  {
   "cell_type": "markdown",
   "id": "5409ecf8-2158-4361-9d2f-6b1a6c7c63a6",
   "metadata": {},
   "source": [
    "## 2.1. Index reads"
   ]
  },
  {
   "cell_type": "code",
   "execution_count": 4,
   "id": "b5324f79-913b-4dac-8122-19ad5c0f24b2",
   "metadata": {},
   "outputs": [],
   "source": [
    "input_genomes_file = simulation_dir_path / 'input-reads.tsv'\n",
    "\n",
    "!gdi input --absolute {reads_dir}/*.fq.gz > {input_genomes_file}"
   ]
  },
  {
   "cell_type": "code",
   "execution_count": 5,
   "id": "3d63e861-733e-46f2-8bce-bd1a2c7c7058",
   "metadata": {},
   "outputs": [
    {
     "name": "stdout",
     "output_type": "stream",
     "text": [
      "\n",
      "Iteration 1 of index/analysis of 59 samples with 32 cores\n",
      "Removing any extra snakemake directories: ['snakemake-assemblies.1630518475.2789054']\n",
      "Removing any existing indexes simulations/unset/index-reads\n",
      "Creating new index: [gdi init simulations/unset/index-reads]\n",
      "Creating a new index took 2.84 seconds\n",
      "Analysis running: [gdi --project-dir simulations/unset/index-reads --ncores 32 analysis --use-conda --no-load-data --reference-file simulations/reference/reference.fa.gz --kmer-size 31 --kmer-size 51 --kmer-size 71 --include-kmer --reads-mincov 10 --input-structured-genomes-file simulations/unset/input-reads.tsv]\n",
      "Analysis took 1.68 minutes\n",
      "Index running: [gdi --project-dir simulations/unset/index-reads --ncores 32 load vcf --reference-file simulations/reference/reference.fa.gz /home/CSCScience.ca/apetkau/workspace/genomics-data-index-evaluation/evaluations/simulation/snakemake-assemblies.1630518673.2465343/gdi-input.fofn]\n",
      "Indexing took 0.10 minutes\n",
      "Building tree: [gdi --project-dir simulations/unset/index-reads --ncores 32 rebuild tree --align-type full --extra-params '--fast -m GTR+F+R4' --reference-name reference]\n",
      "Building tree took 0.05 minutes\n"
     ]
    },
    {
     "name": "stderr",
     "output_type": "stream",
     "text": [
      "A reminder to myself to look for a Python solution for directory sizes (instead of running `du`)\n"
     ]
    },
    {
     "name": "stdout",
     "output_type": "stream",
     "text": [
      "\n",
      "Iteration 2 of index/analysis of 59 samples with 32 cores\n",
      "Removing any extra snakemake directories: ['snakemake-assemblies.1630518673.2465343']\n",
      "Removing any existing indexes simulations/unset/index-reads\n",
      "Creating new index: [gdi init simulations/unset/index-reads]\n",
      "Creating a new index took 3.05 seconds\n",
      "Analysis running: [gdi --project-dir simulations/unset/index-reads --ncores 32 analysis --use-conda --no-load-data --reference-file simulations/reference/reference.fa.gz --kmer-size 31 --kmer-size 51 --kmer-size 71 --include-kmer --reads-mincov 10 --input-structured-genomes-file simulations/unset/input-reads.tsv]\n",
      "Analysis took 1.69 minutes\n",
      "Index running: [gdi --project-dir simulations/unset/index-reads --ncores 32 load vcf --reference-file simulations/reference/reference.fa.gz /home/CSCScience.ca/apetkau/workspace/genomics-data-index-evaluation/evaluations/simulation/snakemake-assemblies.1630518787.9305496/gdi-input.fofn]\n",
      "Indexing took 0.10 minutes\n",
      "Building tree: [gdi --project-dir simulations/unset/index-reads --ncores 32 rebuild tree --align-type full --extra-params '--fast -m GTR+F+R4' --reference-name reference]\n",
      "Building tree took 0.05 minutes\n"
     ]
    },
    {
     "name": "stderr",
     "output_type": "stream",
     "text": [
      "Attempting to set global database_path_translator=<genomics_data_index.storage.model.db.DatabasePathTranslator.DatabasePathTranslator object at 0x7f9b6cdb8a30> but it is already set\n",
      "A reminder to myself to look for a Python solution for directory sizes (instead of running `du`)\n"
     ]
    },
    {
     "name": "stdout",
     "output_type": "stream",
     "text": [
      "\n",
      "Iteration 3 of index/analysis of 59 samples with 32 cores\n",
      "Removing any extra snakemake directories: ['snakemake-assemblies.1630518787.9305496']\n",
      "Removing any existing indexes simulations/unset/index-reads\n",
      "Creating new index: [gdi init simulations/unset/index-reads]\n",
      "Creating a new index took 2.82 seconds\n",
      "Analysis running: [gdi --project-dir simulations/unset/index-reads --ncores 32 analysis --use-conda --no-load-data --reference-file simulations/reference/reference.fa.gz --kmer-size 31 --kmer-size 51 --kmer-size 71 --include-kmer --reads-mincov 10 --input-structured-genomes-file simulations/unset/input-reads.tsv]\n",
      "Analysis took 1.73 minutes\n",
      "Index running: [gdi --project-dir simulations/unset/index-reads --ncores 32 load vcf --reference-file simulations/reference/reference.fa.gz /home/CSCScience.ca/apetkau/workspace/genomics-data-index-evaluation/evaluations/simulation/snakemake-assemblies.1630518903.2066467/gdi-input.fofn]\n",
      "Indexing took 0.10 minutes\n",
      "Building tree: [gdi --project-dir simulations/unset/index-reads --ncores 32 rebuild tree --align-type full --extra-params '--fast -m GTR+F+R4' --reference-name reference]\n",
      "Building tree took 0.05 minutes\n"
     ]
    },
    {
     "name": "stderr",
     "output_type": "stream",
     "text": [
      "Attempting to set global database_path_translator=<genomics_data_index.storage.model.db.DatabasePathTranslator.DatabasePathTranslator object at 0x7f9b6c891c40> but it is already set\n",
      "A reminder to myself to look for a Python solution for directory sizes (instead of running `du`)\n"
     ]
    }
   ],
   "source": [
    "results_handler = gdi_benchmark.BenchmarkResultsHandler(name=f'{case_name} reads')\n",
    "benchmarker = gdi_benchmark.IndexBenchmarker(benchmark_results_handler=results_handler,\n",
    "                                             index_path=index_reads_path, input_files_file=input_genomes_file,\n",
    "                                             reference_file=reference_file, mincov=mincov, build_tree=True,\n",
    "                                             ncores=ncores)\n",
    "\n",
    "benchmark_df = benchmarker.benchmark(iterations=iterations)"
   ]
  },
  {
   "cell_type": "code",
   "execution_count": 6,
   "id": "3bcb6da7-0164-47f2-abdd-a4c159da1e3b",
   "metadata": {},
   "outputs": [
    {
     "data": {
      "text/html": [
       "<div>\n",
       "<style scoped>\n",
       "    .dataframe tbody tr th:only-of-type {\n",
       "        vertical-align: middle;\n",
       "    }\n",
       "\n",
       "    .dataframe tbody tr th {\n",
       "        vertical-align: top;\n",
       "    }\n",
       "\n",
       "    .dataframe thead th {\n",
       "        text-align: right;\n",
       "    }\n",
       "</style>\n",
       "<table border=\"1\" class=\"dataframe\">\n",
       "  <thead>\n",
       "    <tr style=\"text-align: right;\">\n",
       "      <th></th>\n",
       "      <th>Name</th>\n",
       "      <th>Iteration</th>\n",
       "      <th>Number samples</th>\n",
       "      <th>Number cores</th>\n",
       "      <th>Reference length</th>\n",
       "      <th>Analysis runtime</th>\n",
       "      <th>Analysis memory (max)</th>\n",
       "      <th>Analysis memory (max/process)</th>\n",
       "      <th>Analysis disk uage</th>\n",
       "      <th>Index runtime</th>\n",
       "      <th>Index memory (max)</th>\n",
       "      <th>Index memory (max/process)</th>\n",
       "      <th>Index size</th>\n",
       "      <th>Tree runtime</th>\n",
       "      <th>Tree memory (max)</th>\n",
       "      <th>Tree memory (max/process)</th>\n",
       "      <th>Total runtime</th>\n",
       "      <th>Max memory</th>\n",
       "    </tr>\n",
       "  </thead>\n",
       "  <tbody>\n",
       "    <tr>\n",
       "      <th>0</th>\n",
       "      <td>unset reads</td>\n",
       "      <td>1</td>\n",
       "      <td>59</td>\n",
       "      <td>32</td>\n",
       "      <td>10834</td>\n",
       "      <td>100.82</td>\n",
       "      <td>2.778575e+09</td>\n",
       "      <td>386371584.0</td>\n",
       "      <td>3.270447e+09</td>\n",
       "      <td>5.81</td>\n",
       "      <td>5.790167e+09</td>\n",
       "      <td>258936832.0</td>\n",
       "      <td>1429504.0</td>\n",
       "      <td>2.83</td>\n",
       "      <td>218873856.0</td>\n",
       "      <td>218873856.0</td>\n",
       "      <td>109.46</td>\n",
       "      <td>5.790167e+09</td>\n",
       "    </tr>\n",
       "    <tr>\n",
       "      <th>0</th>\n",
       "      <td>unset reads</td>\n",
       "      <td>2</td>\n",
       "      <td>59</td>\n",
       "      <td>32</td>\n",
       "      <td>10834</td>\n",
       "      <td>101.36</td>\n",
       "      <td>2.812486e+09</td>\n",
       "      <td>391815168.0</td>\n",
       "      <td>3.270447e+09</td>\n",
       "      <td>5.63</td>\n",
       "      <td>5.785166e+09</td>\n",
       "      <td>258347008.0</td>\n",
       "      <td>1433600.0</td>\n",
       "      <td>3.05</td>\n",
       "      <td>218939392.0</td>\n",
       "      <td>218939392.0</td>\n",
       "      <td>110.04</td>\n",
       "      <td>5.785166e+09</td>\n",
       "    </tr>\n",
       "    <tr>\n",
       "      <th>0</th>\n",
       "      <td>unset reads</td>\n",
       "      <td>3</td>\n",
       "      <td>59</td>\n",
       "      <td>32</td>\n",
       "      <td>10834</td>\n",
       "      <td>103.63</td>\n",
       "      <td>2.619900e+09</td>\n",
       "      <td>383447040.0</td>\n",
       "      <td>3.270447e+09</td>\n",
       "      <td>5.60</td>\n",
       "      <td>5.793993e+09</td>\n",
       "      <td>258801664.0</td>\n",
       "      <td>1421312.0</td>\n",
       "      <td>2.98</td>\n",
       "      <td>218488832.0</td>\n",
       "      <td>218488832.0</td>\n",
       "      <td>112.21</td>\n",
       "      <td>5.793993e+09</td>\n",
       "    </tr>\n",
       "  </tbody>\n",
       "</table>\n",
       "</div>"
      ],
      "text/plain": [
       "          Name  Iteration  Number samples  Number cores  Reference length  \\\n",
       "0  unset reads          1              59            32             10834   \n",
       "0  unset reads          2              59            32             10834   \n",
       "0  unset reads          3              59            32             10834   \n",
       "\n",
       "   Analysis runtime  Analysis memory (max)  Analysis memory (max/process)  \\\n",
       "0            100.82           2.778575e+09                    386371584.0   \n",
       "0            101.36           2.812486e+09                    391815168.0   \n",
       "0            103.63           2.619900e+09                    383447040.0   \n",
       "\n",
       "   Analysis disk uage  Index runtime  Index memory (max)  \\\n",
       "0        3.270447e+09           5.81        5.790167e+09   \n",
       "0        3.270447e+09           5.63        5.785166e+09   \n",
       "0        3.270447e+09           5.60        5.793993e+09   \n",
       "\n",
       "   Index memory (max/process)  Index size  Tree runtime  Tree memory (max)  \\\n",
       "0                 258936832.0   1429504.0          2.83        218873856.0   \n",
       "0                 258347008.0   1433600.0          3.05        218939392.0   \n",
       "0                 258801664.0   1421312.0          2.98        218488832.0   \n",
       "\n",
       "   Tree memory (max/process)  Total runtime    Max memory  \n",
       "0                218873856.0         109.46  5.790167e+09  \n",
       "0                218939392.0         110.04  5.785166e+09  \n",
       "0                218488832.0         112.21  5.793993e+09  "
      ]
     },
     "execution_count": 6,
     "metadata": {},
     "output_type": "execute_result"
    }
   ],
   "source": [
    "benchmark_df"
   ]
  },
  {
   "cell_type": "code",
   "execution_count": 7,
   "id": "535a9ccc-ab9c-4919-806f-128e1efd2389",
   "metadata": {},
   "outputs": [],
   "source": [
    "index_reads_runtime = simulation_dir_path / 'reads-index-info.tsv'\n",
    "benchmark_df.to_csv(index_reads_runtime, sep='\\t', index=False)"
   ]
  },
  {
   "cell_type": "markdown",
   "id": "c331578f-4026-4a9f-a3ba-288814b02ed2",
   "metadata": {},
   "source": [
    "## 2.2. Index assemblies"
   ]
  },
  {
   "cell_type": "code",
   "execution_count": 8,
   "id": "6e6664f4-94ee-4c45-b1fc-e048b387fa49",
   "metadata": {},
   "outputs": [],
   "source": [
    "input_genomes_file = simulation_dir_path / 'input-assemblies.tsv'\n",
    "\n",
    "!gdi input --absolute {assemblies_dir}/*.fa.gz > {input_genomes_file}"
   ]
  },
  {
   "cell_type": "code",
   "execution_count": 9,
   "id": "0a1e62f3-3b0c-4a90-a7fe-f0bc1094e350",
   "metadata": {},
   "outputs": [
    {
     "name": "stdout",
     "output_type": "stream",
     "text": [
      "\n",
      "Iteration 1 of index/analysis of 59 samples with 32 cores\n",
      "Removing any extra snakemake directories: ['snakemake-assemblies.1630518903.2066467']\n",
      "Removing any existing indexes simulations/unset/index-assemblies\n",
      "Creating new index: [gdi init simulations/unset/index-assemblies]\n",
      "Creating a new index took 2.87 seconds\n",
      "Analysis running: [gdi --project-dir simulations/unset/index-assemblies --ncores 32 analysis --use-conda --no-load-data --reference-file simulations/reference/reference.fa.gz --kmer-size 31 --kmer-size 51 --kmer-size 71 --include-kmer --reads-mincov 10 --input-structured-genomes-file simulations/unset/input-assemblies.tsv]\n",
      "Analysis took 1.56 minutes\n",
      "Index running: [gdi --project-dir simulations/unset/index-assemblies --ncores 32 load vcf --reference-file simulations/reference/reference.fa.gz /home/CSCScience.ca/apetkau/workspace/genomics-data-index-evaluation/evaluations/simulation/snakemake-assemblies.1630519023.3730545/gdi-input.fofn]\n",
      "Indexing took 0.09 minutes\n",
      "Building tree: [gdi --project-dir simulations/unset/index-assemblies --ncores 32 rebuild tree --align-type full --extra-params '--fast -m GTR+F+R4' --reference-name reference]\n",
      "Building tree took 0.05 minutes\n"
     ]
    },
    {
     "name": "stderr",
     "output_type": "stream",
     "text": [
      "Attempting to set global database_path_translator=<genomics_data_index.storage.model.db.DatabasePathTranslator.DatabasePathTranslator object at 0x7f9b98366700> but it is already set\n",
      "A reminder to myself to look for a Python solution for directory sizes (instead of running `du`)\n"
     ]
    },
    {
     "name": "stdout",
     "output_type": "stream",
     "text": [
      "\n",
      "Iteration 2 of index/analysis of 59 samples with 32 cores\n",
      "Removing any extra snakemake directories: ['snakemake-assemblies.1630519023.3730545']\n",
      "Removing any existing indexes simulations/unset/index-assemblies\n",
      "Creating new index: [gdi init simulations/unset/index-assemblies]\n",
      "Creating a new index took 2.96 seconds\n",
      "Analysis running: [gdi --project-dir simulations/unset/index-assemblies --ncores 32 analysis --use-conda --no-load-data --reference-file simulations/reference/reference.fa.gz --kmer-size 31 --kmer-size 51 --kmer-size 71 --include-kmer --reads-mincov 10 --input-structured-genomes-file simulations/unset/input-assemblies.tsv]\n",
      "Analysis took 1.55 minutes\n",
      "Index running: [gdi --project-dir simulations/unset/index-assemblies --ncores 32 load vcf --reference-file simulations/reference/reference.fa.gz /home/CSCScience.ca/apetkau/workspace/genomics-data-index-evaluation/evaluations/simulation/snakemake-assemblies.1630519129.5817757/gdi-input.fofn]\n",
      "Indexing took 0.09 minutes\n",
      "Building tree: [gdi --project-dir simulations/unset/index-assemblies --ncores 32 rebuild tree --align-type full --extra-params '--fast -m GTR+F+R4' --reference-name reference]\n",
      "Building tree took 0.05 minutes\n"
     ]
    },
    {
     "name": "stderr",
     "output_type": "stream",
     "text": [
      "Attempting to set global database_path_translator=<genomics_data_index.storage.model.db.DatabasePathTranslator.DatabasePathTranslator object at 0x7f9b9836c370> but it is already set\n",
      "A reminder to myself to look for a Python solution for directory sizes (instead of running `du`)\n"
     ]
    },
    {
     "name": "stdout",
     "output_type": "stream",
     "text": [
      "\n",
      "Iteration 3 of index/analysis of 59 samples with 32 cores\n",
      "Removing any extra snakemake directories: ['snakemake-assemblies.1630519129.5817757']\n",
      "Removing any existing indexes simulations/unset/index-assemblies\n",
      "Creating new index: [gdi init simulations/unset/index-assemblies]\n",
      "Creating a new index took 2.83 seconds\n",
      "Analysis running: [gdi --project-dir simulations/unset/index-assemblies --ncores 32 analysis --use-conda --no-load-data --reference-file simulations/reference/reference.fa.gz --kmer-size 31 --kmer-size 51 --kmer-size 71 --include-kmer --reads-mincov 10 --input-structured-genomes-file simulations/unset/input-assemblies.tsv]\n",
      "Analysis took 1.53 minutes\n",
      "Index running: [gdi --project-dir simulations/unset/index-assemblies --ncores 32 load vcf --reference-file simulations/reference/reference.fa.gz /home/CSCScience.ca/apetkau/workspace/genomics-data-index-evaluation/evaluations/simulation/snakemake-assemblies.1630519234.895392/gdi-input.fofn]\n",
      "Indexing took 0.08 minutes\n",
      "Building tree: [gdi --project-dir simulations/unset/index-assemblies --ncores 32 rebuild tree --align-type full --extra-params '--fast -m GTR+F+R4' --reference-name reference]\n",
      "Building tree took 0.05 minutes\n"
     ]
    },
    {
     "name": "stderr",
     "output_type": "stream",
     "text": [
      "Attempting to set global database_path_translator=<genomics_data_index.storage.model.db.DatabasePathTranslator.DatabasePathTranslator object at 0x7f9b37b5e190> but it is already set\n",
      "A reminder to myself to look for a Python solution for directory sizes (instead of running `du`)\n"
     ]
    }
   ],
   "source": [
    "results_handler = gdi_benchmark.BenchmarkResultsHandler(name=f'{case_name} assemblies')\n",
    "benchmarker = gdi_benchmark.IndexBenchmarker(benchmark_results_handler=results_handler,\n",
    "                                             index_path=index_assemblies_path, input_files_file=input_genomes_file,\n",
    "                                             reference_file=reference_file, mincov=mincov, build_tree=True,\n",
    "                                             ncores=ncores)\n",
    "\n",
    "benchmark_df = benchmarker.benchmark(iterations=iterations)"
   ]
  },
  {
   "cell_type": "code",
   "execution_count": 10,
   "id": "a6d55a9d-be2f-4851-b66c-04b5ebd597a1",
   "metadata": {},
   "outputs": [
    {
     "data": {
      "text/html": [
       "<div>\n",
       "<style scoped>\n",
       "    .dataframe tbody tr th:only-of-type {\n",
       "        vertical-align: middle;\n",
       "    }\n",
       "\n",
       "    .dataframe tbody tr th {\n",
       "        vertical-align: top;\n",
       "    }\n",
       "\n",
       "    .dataframe thead th {\n",
       "        text-align: right;\n",
       "    }\n",
       "</style>\n",
       "<table border=\"1\" class=\"dataframe\">\n",
       "  <thead>\n",
       "    <tr style=\"text-align: right;\">\n",
       "      <th></th>\n",
       "      <th>Name</th>\n",
       "      <th>Iteration</th>\n",
       "      <th>Number samples</th>\n",
       "      <th>Number cores</th>\n",
       "      <th>Reference length</th>\n",
       "      <th>Analysis runtime</th>\n",
       "      <th>Analysis memory (max)</th>\n",
       "      <th>Analysis memory (max/process)</th>\n",
       "      <th>Analysis disk uage</th>\n",
       "      <th>Index runtime</th>\n",
       "      <th>Index memory (max)</th>\n",
       "      <th>Index memory (max/process)</th>\n",
       "      <th>Index size</th>\n",
       "      <th>Tree runtime</th>\n",
       "      <th>Tree memory (max)</th>\n",
       "      <th>Tree memory (max/process)</th>\n",
       "      <th>Total runtime</th>\n",
       "      <th>Max memory</th>\n",
       "    </tr>\n",
       "  </thead>\n",
       "  <tbody>\n",
       "    <tr>\n",
       "      <th>0</th>\n",
       "      <td>unset assemblies</td>\n",
       "      <td>1</td>\n",
       "      <td>59</td>\n",
       "      <td>32</td>\n",
       "      <td>10834</td>\n",
       "      <td>93.19</td>\n",
       "      <td>1.213432e+09</td>\n",
       "      <td>373661696.0</td>\n",
       "      <td>2.082591e+09</td>\n",
       "      <td>5.30</td>\n",
       "      <td>5.780230e+09</td>\n",
       "      <td>237645824.0</td>\n",
       "      <td>1064960.0</td>\n",
       "      <td>2.78</td>\n",
       "      <td>218537984.0</td>\n",
       "      <td>218537984.0</td>\n",
       "      <td>101.27</td>\n",
       "      <td>5.780230e+09</td>\n",
       "    </tr>\n",
       "    <tr>\n",
       "      <th>0</th>\n",
       "      <td>unset assemblies</td>\n",
       "      <td>2</td>\n",
       "      <td>59</td>\n",
       "      <td>32</td>\n",
       "      <td>10834</td>\n",
       "      <td>92.77</td>\n",
       "      <td>1.278243e+09</td>\n",
       "      <td>369811456.0</td>\n",
       "      <td>2.082599e+09</td>\n",
       "      <td>5.29</td>\n",
       "      <td>5.780476e+09</td>\n",
       "      <td>238088192.0</td>\n",
       "      <td>1069056.0</td>\n",
       "      <td>2.76</td>\n",
       "      <td>219455488.0</td>\n",
       "      <td>219455488.0</td>\n",
       "      <td>100.82</td>\n",
       "      <td>5.780476e+09</td>\n",
       "    </tr>\n",
       "    <tr>\n",
       "      <th>0</th>\n",
       "      <td>unset assemblies</td>\n",
       "      <td>3</td>\n",
       "      <td>59</td>\n",
       "      <td>32</td>\n",
       "      <td>10834</td>\n",
       "      <td>91.70</td>\n",
       "      <td>1.157829e+09</td>\n",
       "      <td>369258496.0</td>\n",
       "      <td>2.082583e+09</td>\n",
       "      <td>4.95</td>\n",
       "      <td>5.770764e+09</td>\n",
       "      <td>237805568.0</td>\n",
       "      <td>1060864.0</td>\n",
       "      <td>2.68</td>\n",
       "      <td>218931200.0</td>\n",
       "      <td>218931200.0</td>\n",
       "      <td>99.33</td>\n",
       "      <td>5.770764e+09</td>\n",
       "    </tr>\n",
       "  </tbody>\n",
       "</table>\n",
       "</div>"
      ],
      "text/plain": [
       "               Name  Iteration  Number samples  Number cores  \\\n",
       "0  unset assemblies          1              59            32   \n",
       "0  unset assemblies          2              59            32   \n",
       "0  unset assemblies          3              59            32   \n",
       "\n",
       "   Reference length  Analysis runtime  Analysis memory (max)  \\\n",
       "0             10834             93.19           1.213432e+09   \n",
       "0             10834             92.77           1.278243e+09   \n",
       "0             10834             91.70           1.157829e+09   \n",
       "\n",
       "   Analysis memory (max/process)  Analysis disk uage  Index runtime  \\\n",
       "0                    373661696.0        2.082591e+09           5.30   \n",
       "0                    369811456.0        2.082599e+09           5.29   \n",
       "0                    369258496.0        2.082583e+09           4.95   \n",
       "\n",
       "   Index memory (max)  Index memory (max/process)  Index size  Tree runtime  \\\n",
       "0        5.780230e+09                 237645824.0   1064960.0          2.78   \n",
       "0        5.780476e+09                 238088192.0   1069056.0          2.76   \n",
       "0        5.770764e+09                 237805568.0   1060864.0          2.68   \n",
       "\n",
       "   Tree memory (max)  Tree memory (max/process)  Total runtime    Max memory  \n",
       "0        218537984.0                218537984.0         101.27  5.780230e+09  \n",
       "0        219455488.0                219455488.0         100.82  5.780476e+09  \n",
       "0        218931200.0                218931200.0          99.33  5.770764e+09  "
      ]
     },
     "execution_count": 10,
     "metadata": {},
     "output_type": "execute_result"
    }
   ],
   "source": [
    "benchmark_df"
   ]
  },
  {
   "cell_type": "code",
   "execution_count": 11,
   "id": "e1a6d962-50bc-4c8d-a6f2-3a661da706b4",
   "metadata": {},
   "outputs": [],
   "source": [
    "index_assemblies_runtime = simulation_dir_path / 'assemblies-index-info.tsv'\n",
    "benchmark_df.to_csv(index_assemblies_runtime, sep='\\t', index=False)"
   ]
  },
  {
   "cell_type": "code",
   "execution_count": null,
   "id": "d3fdb1a4-fe5d-41ba-a125-12fe88932ed4",
   "metadata": {},
   "outputs": [],
   "source": []
  }
 ],
 "metadata": {
  "kernelspec": {
   "display_name": "Python 3 (ipykernel)",
   "language": "python",
   "name": "python3"
  },
  "language_info": {
   "codemirror_mode": {
    "name": "ipython",
    "version": 3
   },
   "file_extension": ".py",
   "mimetype": "text/x-python",
   "name": "python",
   "nbconvert_exporter": "python",
   "pygments_lexer": "ipython3",
   "version": "3.8.10"
  }
 },
 "nbformat": 4,
 "nbformat_minor": 5
}
