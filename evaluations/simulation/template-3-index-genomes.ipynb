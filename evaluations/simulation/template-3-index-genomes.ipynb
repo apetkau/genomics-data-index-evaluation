{
 "cells": [
  {
   "cell_type": "markdown",
   "id": "7d3667b4-b1f8-4347-96e3-830c25b06740",
   "metadata": {
    "tags": []
   },
   "source": [
    "# 1. Parameters"
   ]
  },
  {
   "cell_type": "code",
   "execution_count": 1,
   "id": "d4ab0749-b286-4c34-b63c-a854e4952bae",
   "metadata": {
    "tags": [
     "parameters"
    ]
   },
   "outputs": [],
   "source": [
    "# Defaults\n",
    "simulation_dir = 'simulations/unset'\n",
    "reference_file = 'simulations/reference/reference.fa.gz'\n",
    "iterations = 3\n",
    "mincov = 10\n",
    "ncores = 32"
   ]
  },
  {
   "cell_type": "code",
   "execution_count": 2,
   "id": "ce5962e4-261c-4210-b39b-47044e28466b",
   "metadata": {},
   "outputs": [],
   "source": [
    "from pathlib import Path\n",
    "import imp\n",
    "fp, pathname, description = imp.find_module('gdi_benchmark', ['../../lib'])\n",
    "gdi_benchmark = imp.load_module('gdi_benchmark', fp, pathname, description)\n",
    "\n",
    "simulation_dir_path = Path(simulation_dir)\n",
    "\n",
    "case_name = str(simulation_dir_path.name)\n",
    "reads_dir = simulation_dir_path / 'simulated_data' / 'reads'\n",
    "assemblies_dir = simulation_dir_path / 'simulated_data' / 'assemblies'\n",
    "index_reads_path = simulation_dir_path / 'index-reads'\n",
    "index_assemblies_path = simulation_dir_path / 'index-assemblies'\n",
    "output_reads_tree = index_reads_path / 'reads.tre'\n",
    "output_assemblies_tree = index_assemblies_path / 'assemblies.tre'\n",
    "reference_name = Path(reference_file).name.split('.')[0]"
   ]
  },
  {
   "cell_type": "markdown",
   "id": "f208279e-7558-47fc-9362-da29df92828a",
   "metadata": {},
   "source": [
    "# 2. Index genomes"
   ]
  },
  {
   "cell_type": "code",
   "execution_count": 3,
   "id": "4e936f7c-2fcd-4188-b0e6-6b3ceb5cdcd2",
   "metadata": {},
   "outputs": [
    {
     "name": "stdout",
     "output_type": "stream",
     "text": [
      "gdi, version 0.3.0.dev9\n"
     ]
    }
   ],
   "source": [
    "!gdi --version"
   ]
  },
  {
   "cell_type": "markdown",
   "id": "5409ecf8-2158-4361-9d2f-6b1a6c7c63a6",
   "metadata": {},
   "source": [
    "## 2.1. Index reads"
   ]
  },
  {
   "cell_type": "code",
   "execution_count": 4,
   "id": "b5324f79-913b-4dac-8122-19ad5c0f24b2",
   "metadata": {},
   "outputs": [],
   "source": [
    "input_genomes_file = simulation_dir_path / 'input-reads.tsv'\n",
    "\n",
    "!gdi input --absolute {reads_dir}/*.fq.gz > {input_genomes_file}"
   ]
  },
  {
   "cell_type": "code",
   "execution_count": 5,
   "id": "3d63e861-733e-46f2-8bce-bd1a2c7c7058",
   "metadata": {},
   "outputs": [
    {
     "name": "stdout",
     "output_type": "stream",
     "text": [
      "\n",
      "Iteration 1 of index/analysis of 59 samples with 32 cores\n",
      "Removing any extra snakemake directories: ['snakemake-assemblies.1630519234.895392']\n",
      "Removing any existing indexes simulations/unset/index-reads\n",
      "Creating new index: [gdi init simulations/unset/index-reads]\n",
      "Creating a new index took 2.93 seconds\n",
      "Analysis running: [gdi --project-dir simulations/unset/index-reads --ncores 32 analysis --use-conda --no-load-data --reference-file simulations/reference/reference.fa.gz --kmer-size 31 --kmer-size 51 --kmer-size 71 --include-kmer --reads-mincov 10 --input-structured-genomes-file simulations/unset/input-reads.tsv]\n",
      "Analysis took 1.97 minutes\n",
      "Index running: [gdi --project-dir simulations/unset/index-reads --ncores 32 load vcf --reference-file simulations/reference/reference.fa.gz /home/CSCScience.ca/apetkau/workspace/genomics-data-index-evaluation/evaluations/simulation/snakemake-assemblies.1630526712.647205/gdi-input.fofn]\n",
      "Indexing took 0.11 minutes\n",
      "Building tree: [gdi --project-dir simulations/unset/index-reads --ncores 32 rebuild tree --align-type full --extra-params '--fast -m GTR+F+R4' reference]\n",
      "Building tree took 1.61 minutes\n"
     ]
    },
    {
     "name": "stderr",
     "output_type": "stream",
     "text": [
      "A reminder to myself to look for a Python solution for directory sizes (instead of running `du`)\n"
     ]
    },
    {
     "name": "stdout",
     "output_type": "stream",
     "text": [
      "\n",
      "Iteration 2 of index/analysis of 59 samples with 32 cores\n",
      "Removing any extra snakemake directories: ['snakemake-assemblies.1630526712.647205']\n",
      "Removing any existing indexes simulations/unset/index-reads\n",
      "Creating new index: [gdi init simulations/unset/index-reads]\n",
      "Creating a new index took 2.87 seconds\n",
      "Analysis running: [gdi --project-dir simulations/unset/index-reads --ncores 32 analysis --use-conda --no-load-data --reference-file simulations/reference/reference.fa.gz --kmer-size 31 --kmer-size 51 --kmer-size 71 --include-kmer --reads-mincov 10 --input-structured-genomes-file simulations/unset/input-reads.tsv]\n",
      "Analysis took 1.75 minutes\n",
      "Index running: [gdi --project-dir simulations/unset/index-reads --ncores 32 load vcf --reference-file simulations/reference/reference.fa.gz /home/CSCScience.ca/apetkau/workspace/genomics-data-index-evaluation/evaluations/simulation/snakemake-assemblies.1630526938.8724523/gdi-input.fofn]\n",
      "Indexing took 0.10 minutes\n",
      "Building tree: [gdi --project-dir simulations/unset/index-reads --ncores 32 rebuild tree --align-type full --extra-params '--fast -m GTR+F+R4' reference]\n",
      "Building tree took 1.42 minutes\n"
     ]
    },
    {
     "name": "stderr",
     "output_type": "stream",
     "text": [
      "Attempting to set global database_path_translator=<genomics_data_index.storage.model.db.DatabasePathTranslator.DatabasePathTranslator object at 0x7f8a2f088e50> but it is already set\n",
      "A reminder to myself to look for a Python solution for directory sizes (instead of running `du`)\n"
     ]
    },
    {
     "name": "stdout",
     "output_type": "stream",
     "text": [
      "\n",
      "Iteration 3 of index/analysis of 59 samples with 32 cores\n",
      "Removing any extra snakemake directories: ['snakemake-assemblies.1630526938.8724523']\n",
      "Removing any existing indexes simulations/unset/index-reads\n",
      "Creating new index: [gdi init simulations/unset/index-reads]\n",
      "Creating a new index took 2.85 seconds\n",
      "Analysis running: [gdi --project-dir simulations/unset/index-reads --ncores 32 analysis --use-conda --no-load-data --reference-file simulations/reference/reference.fa.gz --kmer-size 31 --kmer-size 51 --kmer-size 71 --include-kmer --reads-mincov 10 --input-structured-genomes-file simulations/unset/input-reads.tsv]\n",
      "Analysis took 1.69 minutes\n",
      "Index running: [gdi --project-dir simulations/unset/index-reads --ncores 32 load vcf --reference-file simulations/reference/reference.fa.gz /home/CSCScience.ca/apetkau/workspace/genomics-data-index-evaluation/evaluations/simulation/snakemake-assemblies.1630527139.785993/gdi-input.fofn]\n",
      "Indexing took 0.10 minutes\n",
      "Building tree: [gdi --project-dir simulations/unset/index-reads --ncores 32 rebuild tree --align-type full --extra-params '--fast -m GTR+F+R4' reference]\n",
      "Building tree took 1.78 minutes\n"
     ]
    },
    {
     "name": "stderr",
     "output_type": "stream",
     "text": [
      "Attempting to set global database_path_translator=<genomics_data_index.storage.model.db.DatabasePathTranslator.DatabasePathTranslator object at 0x7f8a2f088e80> but it is already set\n",
      "A reminder to myself to look for a Python solution for directory sizes (instead of running `du`)\n"
     ]
    }
   ],
   "source": [
    "results_handler = gdi_benchmark.BenchmarkResultsHandler(name=f'{case_name} reads')\n",
    "benchmarker = gdi_benchmark.IndexBenchmarker(benchmark_results_handler=results_handler,\n",
    "                                             index_path=index_reads_path, input_files_file=input_genomes_file,\n",
    "                                             reference_file=reference_file, mincov=mincov, build_tree=True,\n",
    "                                             ncores=ncores)\n",
    "\n",
    "benchmark_df = benchmarker.benchmark(iterations=iterations)"
   ]
  },
  {
   "cell_type": "code",
   "execution_count": 6,
   "id": "3bcb6da7-0164-47f2-abdd-a4c159da1e3b",
   "metadata": {},
   "outputs": [
    {
     "data": {
      "text/html": [
       "<div>\n",
       "<style scoped>\n",
       "    .dataframe tbody tr th:only-of-type {\n",
       "        vertical-align: middle;\n",
       "    }\n",
       "\n",
       "    .dataframe tbody tr th {\n",
       "        vertical-align: top;\n",
       "    }\n",
       "\n",
       "    .dataframe thead th {\n",
       "        text-align: right;\n",
       "    }\n",
       "</style>\n",
       "<table border=\"1\" class=\"dataframe\">\n",
       "  <thead>\n",
       "    <tr style=\"text-align: right;\">\n",
       "      <th></th>\n",
       "      <th>Name</th>\n",
       "      <th>Iteration</th>\n",
       "      <th>Number samples</th>\n",
       "      <th>Number cores</th>\n",
       "      <th>Reference length</th>\n",
       "      <th>Analysis runtime</th>\n",
       "      <th>Analysis memory (max)</th>\n",
       "      <th>Analysis memory (max/process)</th>\n",
       "      <th>Analysis disk uage</th>\n",
       "      <th>Index runtime</th>\n",
       "      <th>Index memory (max)</th>\n",
       "      <th>Index memory (max/process)</th>\n",
       "      <th>Index size</th>\n",
       "      <th>Tree runtime</th>\n",
       "      <th>Tree memory (max)</th>\n",
       "      <th>Tree memory (max/process)</th>\n",
       "      <th>Total runtime</th>\n",
       "      <th>Max memory</th>\n",
       "    </tr>\n",
       "  </thead>\n",
       "  <tbody>\n",
       "    <tr>\n",
       "      <th>0</th>\n",
       "      <td>unset reads</td>\n",
       "      <td>1</td>\n",
       "      <td>59</td>\n",
       "      <td>32</td>\n",
       "      <td>10834</td>\n",
       "      <td>118.00</td>\n",
       "      <td>2.777940e+09</td>\n",
       "      <td>400138240.0</td>\n",
       "      <td>3.270439e+09</td>\n",
       "      <td>6.48</td>\n",
       "      <td>5.782909e+09</td>\n",
       "      <td>258179072.0</td>\n",
       "      <td>1425408.0</td>\n",
       "      <td>96.73</td>\n",
       "      <td>250138624.0</td>\n",
       "      <td>223268864.0</td>\n",
       "      <td>221.21</td>\n",
       "      <td>5.782909e+09</td>\n",
       "    </tr>\n",
       "    <tr>\n",
       "      <th>0</th>\n",
       "      <td>unset reads</td>\n",
       "      <td>2</td>\n",
       "      <td>59</td>\n",
       "      <td>32</td>\n",
       "      <td>10834</td>\n",
       "      <td>104.74</td>\n",
       "      <td>2.644685e+09</td>\n",
       "      <td>392278016.0</td>\n",
       "      <td>3.270447e+09</td>\n",
       "      <td>6.07</td>\n",
       "      <td>5.804933e+09</td>\n",
       "      <td>258678784.0</td>\n",
       "      <td>1433600.0</td>\n",
       "      <td>84.93</td>\n",
       "      <td>249937920.0</td>\n",
       "      <td>223731712.0</td>\n",
       "      <td>195.74</td>\n",
       "      <td>5.804933e+09</td>\n",
       "    </tr>\n",
       "    <tr>\n",
       "      <th>0</th>\n",
       "      <td>unset reads</td>\n",
       "      <td>3</td>\n",
       "      <td>59</td>\n",
       "      <td>32</td>\n",
       "      <td>10834</td>\n",
       "      <td>101.57</td>\n",
       "      <td>2.660401e+09</td>\n",
       "      <td>394743808.0</td>\n",
       "      <td>3.270439e+09</td>\n",
       "      <td>5.79</td>\n",
       "      <td>5.791068e+09</td>\n",
       "      <td>259006464.0</td>\n",
       "      <td>1433600.0</td>\n",
       "      <td>106.51</td>\n",
       "      <td>249761792.0</td>\n",
       "      <td>223404032.0</td>\n",
       "      <td>213.87</td>\n",
       "      <td>5.791068e+09</td>\n",
       "    </tr>\n",
       "  </tbody>\n",
       "</table>\n",
       "</div>"
      ],
      "text/plain": [
       "          Name  Iteration  Number samples  Number cores  Reference length  \\\n",
       "0  unset reads          1              59            32             10834   \n",
       "0  unset reads          2              59            32             10834   \n",
       "0  unset reads          3              59            32             10834   \n",
       "\n",
       "   Analysis runtime  Analysis memory (max)  Analysis memory (max/process)  \\\n",
       "0            118.00           2.777940e+09                    400138240.0   \n",
       "0            104.74           2.644685e+09                    392278016.0   \n",
       "0            101.57           2.660401e+09                    394743808.0   \n",
       "\n",
       "   Analysis disk uage  Index runtime  Index memory (max)  \\\n",
       "0        3.270439e+09           6.48        5.782909e+09   \n",
       "0        3.270447e+09           6.07        5.804933e+09   \n",
       "0        3.270439e+09           5.79        5.791068e+09   \n",
       "\n",
       "   Index memory (max/process)  Index size  Tree runtime  Tree memory (max)  \\\n",
       "0                 258179072.0   1425408.0         96.73        250138624.0   \n",
       "0                 258678784.0   1433600.0         84.93        249937920.0   \n",
       "0                 259006464.0   1433600.0        106.51        249761792.0   \n",
       "\n",
       "   Tree memory (max/process)  Total runtime    Max memory  \n",
       "0                223268864.0         221.21  5.782909e+09  \n",
       "0                223731712.0         195.74  5.804933e+09  \n",
       "0                223404032.0         213.87  5.791068e+09  "
      ]
     },
     "execution_count": 6,
     "metadata": {},
     "output_type": "execute_result"
    }
   ],
   "source": [
    "benchmark_df"
   ]
  },
  {
   "cell_type": "code",
   "execution_count": 7,
   "id": "535a9ccc-ab9c-4919-806f-128e1efd2389",
   "metadata": {},
   "outputs": [],
   "source": [
    "index_reads_runtime = simulation_dir_path / 'reads-index-info.tsv'\n",
    "benchmark_df.to_csv(index_reads_runtime, sep='\\t', index=False)"
   ]
  },
  {
   "cell_type": "markdown",
   "id": "c331578f-4026-4a9f-a3ba-288814b02ed2",
   "metadata": {},
   "source": [
    "## 2.2. Index assemblies"
   ]
  },
  {
   "cell_type": "code",
   "execution_count": 8,
   "id": "6e6664f4-94ee-4c45-b1fc-e048b387fa49",
   "metadata": {},
   "outputs": [],
   "source": [
    "input_genomes_file = simulation_dir_path / 'input-assemblies.tsv'\n",
    "\n",
    "!gdi input --absolute {assemblies_dir}/*.fa.gz > {input_genomes_file}"
   ]
  },
  {
   "cell_type": "code",
   "execution_count": 9,
   "id": "0a1e62f3-3b0c-4a90-a7fe-f0bc1094e350",
   "metadata": {},
   "outputs": [
    {
     "name": "stdout",
     "output_type": "stream",
     "text": [
      "\n",
      "Iteration 1 of index/analysis of 59 samples with 32 cores\n",
      "Removing any extra snakemake directories: ['snakemake-assemblies.1630527139.785993']\n",
      "Removing any existing indexes simulations/unset/index-assemblies\n",
      "Creating new index: [gdi init simulations/unset/index-assemblies]\n",
      "Creating a new index took 2.77 seconds\n",
      "Analysis running: [gdi --project-dir simulations/unset/index-assemblies --ncores 32 analysis --use-conda --no-load-data --reference-file simulations/reference/reference.fa.gz --kmer-size 31 --kmer-size 51 --kmer-size 71 --include-kmer --reads-mincov 10 --input-structured-genomes-file simulations/unset/input-assemblies.tsv]\n",
      "Analysis took 1.56 minutes\n",
      "Index running: [gdi --project-dir simulations/unset/index-assemblies --ncores 32 load vcf --reference-file simulations/reference/reference.fa.gz /home/CSCScience.ca/apetkau/workspace/genomics-data-index-evaluation/evaluations/simulation/snakemake-assemblies.1630527361.2770522/gdi-input.fofn]\n",
      "Indexing took 0.09 minutes\n",
      "Building tree: [gdi --project-dir simulations/unset/index-assemblies --ncores 32 rebuild tree --align-type full --extra-params '--fast -m GTR+F+R4' reference]\n",
      "Building tree took 1.38 minutes\n"
     ]
    },
    {
     "name": "stderr",
     "output_type": "stream",
     "text": [
      "Attempting to set global database_path_translator=<genomics_data_index.storage.model.db.DatabasePathTranslator.DatabasePathTranslator object at 0x7f8a1e18c1f0> but it is already set\n",
      "A reminder to myself to look for a Python solution for directory sizes (instead of running `du`)\n"
     ]
    },
    {
     "name": "stdout",
     "output_type": "stream",
     "text": [
      "\n",
      "Iteration 2 of index/analysis of 59 samples with 32 cores\n",
      "Removing any extra snakemake directories: ['snakemake-assemblies.1630527361.2770522']\n",
      "Removing any existing indexes simulations/unset/index-assemblies\n",
      "Creating new index: [gdi init simulations/unset/index-assemblies]\n",
      "Creating a new index took 2.91 seconds\n",
      "Analysis running: [gdi --project-dir simulations/unset/index-assemblies --ncores 32 analysis --use-conda --no-load-data --reference-file simulations/reference/reference.fa.gz --kmer-size 31 --kmer-size 51 --kmer-size 71 --include-kmer --reads-mincov 10 --input-structured-genomes-file simulations/unset/input-assemblies.tsv]\n",
      "Analysis took 1.52 minutes\n",
      "Index running: [gdi --project-dir simulations/unset/index-assemblies --ncores 32 load vcf --reference-file simulations/reference/reference.fa.gz /home/CSCScience.ca/apetkau/workspace/genomics-data-index-evaluation/evaluations/simulation/snakemake-assemblies.1630527547.7826889/gdi-input.fofn]\n",
      "Indexing took 0.09 minutes\n",
      "Building tree: [gdi --project-dir simulations/unset/index-assemblies --ncores 32 rebuild tree --align-type full --extra-params '--fast -m GTR+F+R4' reference]\n",
      "Building tree took 1.44 minutes\n"
     ]
    },
    {
     "name": "stderr",
     "output_type": "stream",
     "text": [
      "Attempting to set global database_path_translator=<genomics_data_index.storage.model.db.DatabasePathTranslator.DatabasePathTranslator object at 0x7f8a740d0be0> but it is already set\n",
      "A reminder to myself to look for a Python solution for directory sizes (instead of running `du`)\n"
     ]
    },
    {
     "name": "stdout",
     "output_type": "stream",
     "text": [
      "\n",
      "Iteration 3 of index/analysis of 59 samples with 32 cores\n",
      "Removing any extra snakemake directories: ['snakemake-assemblies.1630527547.7826889']\n",
      "Removing any existing indexes simulations/unset/index-assemblies\n",
      "Creating new index: [gdi init simulations/unset/index-assemblies]\n",
      "Creating a new index took 2.85 seconds\n",
      "Analysis running: [gdi --project-dir simulations/unset/index-assemblies --ncores 32 analysis --use-conda --no-load-data --reference-file simulations/reference/reference.fa.gz --kmer-size 31 --kmer-size 51 --kmer-size 71 --include-kmer --reads-mincov 10 --input-structured-genomes-file simulations/unset/input-assemblies.tsv]\n",
      "Analysis took 1.56 minutes\n",
      "Index running: [gdi --project-dir simulations/unset/index-assemblies --ncores 32 load vcf --reference-file simulations/reference/reference.fa.gz /home/CSCScience.ca/apetkau/workspace/genomics-data-index-evaluation/evaluations/simulation/snakemake-assemblies.1630527734.9501612/gdi-input.fofn]\n",
      "Indexing took 0.09 minutes\n",
      "Building tree: [gdi --project-dir simulations/unset/index-assemblies --ncores 32 rebuild tree --align-type full --extra-params '--fast -m GTR+F+R4' reference]\n",
      "Building tree took 1.48 minutes\n"
     ]
    },
    {
     "name": "stderr",
     "output_type": "stream",
     "text": [
      "Attempting to set global database_path_translator=<genomics_data_index.storage.model.db.DatabasePathTranslator.DatabasePathTranslator object at 0x7f8a2684adc0> but it is already set\n",
      "A reminder to myself to look for a Python solution for directory sizes (instead of running `du`)\n"
     ]
    }
   ],
   "source": [
    "results_handler = gdi_benchmark.BenchmarkResultsHandler(name=f'{case_name} assemblies')\n",
    "benchmarker = gdi_benchmark.IndexBenchmarker(benchmark_results_handler=results_handler,\n",
    "                                             index_path=index_assemblies_path, input_files_file=input_genomes_file,\n",
    "                                             reference_file=reference_file, mincov=mincov, build_tree=True,\n",
    "                                             ncores=ncores)\n",
    "\n",
    "benchmark_df = benchmarker.benchmark(iterations=iterations)"
   ]
  },
  {
   "cell_type": "code",
   "execution_count": 10,
   "id": "a6d55a9d-be2f-4851-b66c-04b5ebd597a1",
   "metadata": {},
   "outputs": [
    {
     "data": {
      "text/html": [
       "<div>\n",
       "<style scoped>\n",
       "    .dataframe tbody tr th:only-of-type {\n",
       "        vertical-align: middle;\n",
       "    }\n",
       "\n",
       "    .dataframe tbody tr th {\n",
       "        vertical-align: top;\n",
       "    }\n",
       "\n",
       "    .dataframe thead th {\n",
       "        text-align: right;\n",
       "    }\n",
       "</style>\n",
       "<table border=\"1\" class=\"dataframe\">\n",
       "  <thead>\n",
       "    <tr style=\"text-align: right;\">\n",
       "      <th></th>\n",
       "      <th>Name</th>\n",
       "      <th>Iteration</th>\n",
       "      <th>Number samples</th>\n",
       "      <th>Number cores</th>\n",
       "      <th>Reference length</th>\n",
       "      <th>Analysis runtime</th>\n",
       "      <th>Analysis memory (max)</th>\n",
       "      <th>Analysis memory (max/process)</th>\n",
       "      <th>Analysis disk uage</th>\n",
       "      <th>Index runtime</th>\n",
       "      <th>Index memory (max)</th>\n",
       "      <th>Index memory (max/process)</th>\n",
       "      <th>Index size</th>\n",
       "      <th>Tree runtime</th>\n",
       "      <th>Tree memory (max)</th>\n",
       "      <th>Tree memory (max/process)</th>\n",
       "      <th>Total runtime</th>\n",
       "      <th>Max memory</th>\n",
       "    </tr>\n",
       "  </thead>\n",
       "  <tbody>\n",
       "    <tr>\n",
       "      <th>0</th>\n",
       "      <td>unset assemblies</td>\n",
       "      <td>1</td>\n",
       "      <td>59</td>\n",
       "      <td>32</td>\n",
       "      <td>10834</td>\n",
       "      <td>93.76</td>\n",
       "      <td>1.211167e+09</td>\n",
       "      <td>370278400.0</td>\n",
       "      <td>2.082595e+09</td>\n",
       "      <td>5.17</td>\n",
       "      <td>5.779100e+09</td>\n",
       "      <td>238125056.0</td>\n",
       "      <td>1064960.0</td>\n",
       "      <td>82.85</td>\n",
       "      <td>240742400.0</td>\n",
       "      <td>223617024.0</td>\n",
       "      <td>181.78</td>\n",
       "      <td>5.779100e+09</td>\n",
       "    </tr>\n",
       "    <tr>\n",
       "      <th>0</th>\n",
       "      <td>unset assemblies</td>\n",
       "      <td>2</td>\n",
       "      <td>59</td>\n",
       "      <td>32</td>\n",
       "      <td>10834</td>\n",
       "      <td>90.87</td>\n",
       "      <td>1.155748e+09</td>\n",
       "      <td>362246144.0</td>\n",
       "      <td>2.082591e+09</td>\n",
       "      <td>5.22</td>\n",
       "      <td>5.772460e+09</td>\n",
       "      <td>237326336.0</td>\n",
       "      <td>1069056.0</td>\n",
       "      <td>86.31</td>\n",
       "      <td>240992256.0</td>\n",
       "      <td>223879168.0</td>\n",
       "      <td>182.40</td>\n",
       "      <td>5.772460e+09</td>\n",
       "    </tr>\n",
       "    <tr>\n",
       "      <th>0</th>\n",
       "      <td>unset assemblies</td>\n",
       "      <td>3</td>\n",
       "      <td>59</td>\n",
       "      <td>32</td>\n",
       "      <td>10834</td>\n",
       "      <td>93.33</td>\n",
       "      <td>1.210978e+09</td>\n",
       "      <td>381284352.0</td>\n",
       "      <td>2.082595e+09</td>\n",
       "      <td>5.00</td>\n",
       "      <td>5.766971e+09</td>\n",
       "      <td>237223936.0</td>\n",
       "      <td>1060864.0</td>\n",
       "      <td>88.57</td>\n",
       "      <td>241487872.0</td>\n",
       "      <td>223850496.0</td>\n",
       "      <td>186.90</td>\n",
       "      <td>5.766971e+09</td>\n",
       "    </tr>\n",
       "  </tbody>\n",
       "</table>\n",
       "</div>"
      ],
      "text/plain": [
       "               Name  Iteration  Number samples  Number cores  \\\n",
       "0  unset assemblies          1              59            32   \n",
       "0  unset assemblies          2              59            32   \n",
       "0  unset assemblies          3              59            32   \n",
       "\n",
       "   Reference length  Analysis runtime  Analysis memory (max)  \\\n",
       "0             10834             93.76           1.211167e+09   \n",
       "0             10834             90.87           1.155748e+09   \n",
       "0             10834             93.33           1.210978e+09   \n",
       "\n",
       "   Analysis memory (max/process)  Analysis disk uage  Index runtime  \\\n",
       "0                    370278400.0        2.082595e+09           5.17   \n",
       "0                    362246144.0        2.082591e+09           5.22   \n",
       "0                    381284352.0        2.082595e+09           5.00   \n",
       "\n",
       "   Index memory (max)  Index memory (max/process)  Index size  Tree runtime  \\\n",
       "0        5.779100e+09                 238125056.0   1064960.0         82.85   \n",
       "0        5.772460e+09                 237326336.0   1069056.0         86.31   \n",
       "0        5.766971e+09                 237223936.0   1060864.0         88.57   \n",
       "\n",
       "   Tree memory (max)  Tree memory (max/process)  Total runtime    Max memory  \n",
       "0        240742400.0                223617024.0         181.78  5.779100e+09  \n",
       "0        240992256.0                223879168.0         182.40  5.772460e+09  \n",
       "0        241487872.0                223850496.0         186.90  5.766971e+09  "
      ]
     },
     "execution_count": 10,
     "metadata": {},
     "output_type": "execute_result"
    }
   ],
   "source": [
    "benchmark_df"
   ]
  },
  {
   "cell_type": "code",
   "execution_count": 11,
   "id": "e1a6d962-50bc-4c8d-a6f2-3a661da706b4",
   "metadata": {},
   "outputs": [],
   "source": [
    "index_assemblies_runtime = simulation_dir_path / 'assemblies-index-info.tsv'\n",
    "benchmark_df.to_csv(index_assemblies_runtime, sep='\\t', index=False)"
   ]
  },
  {
   "cell_type": "markdown",
   "id": "6cb7673b-9f85-4c43-b2e2-93538497a196",
   "metadata": {},
   "source": [
    "# 3. Export trees"
   ]
  },
  {
   "cell_type": "code",
   "execution_count": 12,
   "id": "5280f82c-5434-4391-8c44-b937a7c95bd5",
   "metadata": {},
   "outputs": [
    {
     "name": "stdout",
     "output_type": "stream",
     "text": [
      "Wrote assemblies tree to simulations/unset/index-assemblies/assemblies.tre\n",
      "Wrote assemblies tree to simulations/unset/index-reads/reads.tre\n"
     ]
    }
   ],
   "source": [
    "!gdi --project-dir {index_assemblies_path} export tree {reference_name} > {output_assemblies_tree}\n",
    "print(f'Wrote assemblies tree to {output_assemblies_tree}')\n",
    "\n",
    "!gdi --project-dir {index_reads_path} export tree {reference_name} > {output_reads_tree}\n",
    "print(f'Wrote assemblies tree to {output_reads_tree}')"
   ]
  }
 ],
 "metadata": {
  "kernelspec": {
   "display_name": "Python 3 (ipykernel)",
   "language": "python",
   "name": "python3"
  },
  "language_info": {
   "codemirror_mode": {
    "name": "ipython",
    "version": 3
   },
   "file_extension": ".py",
   "mimetype": "text/x-python",
   "name": "python",
   "nbconvert_exporter": "python",
   "pygments_lexer": "ipython3",
   "version": "3.8.10"
  }
 },
 "nbformat": 4,
 "nbformat_minor": 5
}
