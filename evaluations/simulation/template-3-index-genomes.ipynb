{
 "cells": [
  {
   "cell_type": "markdown",
   "id": "7d3667b4-b1f8-4347-96e3-830c25b06740",
   "metadata": {
    "tags": []
   },
   "source": [
    "# 1. Parameters"
   ]
  },
  {
   "cell_type": "code",
   "execution_count": 1,
   "id": "d4ab0749-b286-4c34-b63c-a854e4952bae",
   "metadata": {
    "tags": [
     "parameters"
    ]
   },
   "outputs": [],
   "source": [
    "# Defaults\n",
    "simulation_dir = 'simulations/unset'\n",
    "reference_file = 'simulations/reference/reference.fa.gz'\n",
    "iterations = 3\n",
    "mincov = 10\n",
    "ncores = 32"
   ]
  },
  {
   "cell_type": "code",
   "execution_count": 2,
   "id": "ce5962e4-261c-4210-b39b-47044e28466b",
   "metadata": {},
   "outputs": [],
   "source": [
    "from pathlib import Path\n",
    "import imp\n",
    "fp, pathname, description = imp.find_module('gdi_benchmark', ['../../lib'])\n",
    "gdi_benchmark = imp.load_module('gdi_benchmark', fp, pathname, description)\n",
    "\n",
    "simulation_dir_path = Path(simulation_dir)\n",
    "\n",
    "case_name = str(simulation_dir_path.name)\n",
    "reads_dir = simulation_dir_path / 'simulated_data' / 'reads'\n",
    "assemblies_dir = simulation_dir_path / 'simulated_data' / 'assemblies'\n",
    "index_reads_path = simulation_dir_path / 'index-reads'\n",
    "index_assemblies_path = simulation_dir_path / 'index-assemblies'\n",
    "output_reads_tree = index_reads_path / 'reads.tre'\n",
    "output_assemblies_tree = index_assemblies_path / 'assemblies.tre'\n",
    "reference_name = Path(reference_file).name.split('.')[0]"
   ]
  },
  {
   "cell_type": "markdown",
   "id": "f208279e-7558-47fc-9362-da29df92828a",
   "metadata": {},
   "source": [
    "# 2. Index genomes"
   ]
  },
  {
   "cell_type": "code",
   "execution_count": 3,
   "id": "4e936f7c-2fcd-4188-b0e6-6b3ceb5cdcd2",
   "metadata": {},
   "outputs": [
    {
     "name": "stdout",
     "output_type": "stream",
     "text": [
      "gdi, version 0.6.0.dev1\n"
     ]
    }
   ],
   "source": [
    "!gdi --version"
   ]
  },
  {
   "cell_type": "markdown",
   "id": "5409ecf8-2158-4361-9d2f-6b1a6c7c63a6",
   "metadata": {},
   "source": [
    "## 2.1. Index reads"
   ]
  },
  {
   "cell_type": "code",
   "execution_count": 4,
   "id": "b5324f79-913b-4dac-8122-19ad5c0f24b2",
   "metadata": {},
   "outputs": [
    {
     "name": "stdout",
     "output_type": "stream",
     "text": [
      "\u001b[32m2022-02-12 13:11:07\u001b[0m \u001b[1;30mWARNING:\u001b[0m \u001b[33m--skip-existing-samples is enabled but no --project-dir is set. Will not skip existing samples.\u001b[0m\n"
     ]
    }
   ],
   "source": [
    "input_genomes_file = simulation_dir_path / 'input-reads.tsv'\n",
    "\n",
    "!gdi input --absolute {reads_dir}/*.fq.gz > {input_genomes_file}"
   ]
  },
  {
   "cell_type": "code",
   "execution_count": 5,
   "id": "3d63e861-733e-46f2-8bce-bd1a2c7c7058",
   "metadata": {},
   "outputs": [
    {
     "name": "stdout",
     "output_type": "stream",
     "text": [
      "\n",
      "Iteration 1 of index/analysis of 59 samples with 32 cores\n",
      "Removing any extra snakemake directories: []\n",
      "Removing any existing indexes simulations/unset/index-reads\n",
      "Creating new index: [gdi init simulations/unset/index-reads]\n",
      "Creating a new index took 3.40 seconds\n",
      "Analysis running: [gdi --project-dir simulations/unset/index-reads --ncores 32 analysis --use-conda --no-load-data --reference-file simulations/reference/reference.fa.gz --kmer-size 31 --kmer-size 51 --kmer-size 71 --include-kmer --reads-mincov 10 --input-structured-genomes-file simulations/unset/input-reads.tsv]\n",
      "Analysis took 1.84 minutes\n",
      "Index running: [gdi --project-dir simulations/unset/index-reads --ncores 32 load vcf-kmer --sample-batch-size 2000 --reference-file simulations/reference/reference.fa.gz /home/CSCScience.ca/apetkau/workspace/genomics-data-index-evaluation/evaluations/simulation/snakemake-assemblies.1644693074.7769427/gdi-input.fofn]\n",
      "Indexing took 0.44 minutes\n",
      "Building tree: [gdi --project-dir simulations/unset/index-reads --ncores 32 rebuild tree --align-type full --extra-params '--fast -m GTR+F+R4' reference]\n",
      "Building tree took 2.36 minutes\n"
     ]
    },
    {
     "name": "stderr",
     "output_type": "stream",
     "text": [
      "A reminder to myself to look for a Python solution for directory sizes (instead of running `du`)\n"
     ]
    },
    {
     "name": "stdout",
     "output_type": "stream",
     "text": [
      "\n",
      "Iteration 2 of index/analysis of 59 samples with 32 cores\n",
      "Removing any extra snakemake directories: ['snakemake-assemblies.1644693074.7769427']\n",
      "Removing any existing indexes simulations/unset/index-reads\n",
      "Creating new index: [gdi init simulations/unset/index-reads]\n",
      "Creating a new index took 3.13 seconds\n",
      "Analysis running: [gdi --project-dir simulations/unset/index-reads --ncores 32 analysis --use-conda --no-load-data --reference-file simulations/reference/reference.fa.gz --kmer-size 31 --kmer-size 51 --kmer-size 71 --include-kmer --reads-mincov 10 --input-structured-genomes-file simulations/unset/input-reads.tsv]\n",
      "Analysis took 1.84 minutes\n",
      "Index running: [gdi --project-dir simulations/unset/index-reads --ncores 32 load vcf-kmer --sample-batch-size 2000 --reference-file simulations/reference/reference.fa.gz /home/CSCScience.ca/apetkau/workspace/genomics-data-index-evaluation/evaluations/simulation/snakemake-assemblies.1644693358.163927/gdi-input.fofn]\n",
      "Indexing took 0.45 minutes\n",
      "Building tree: [gdi --project-dir simulations/unset/index-reads --ncores 32 rebuild tree --align-type full --extra-params '--fast -m GTR+F+R4' reference]\n",
      "Building tree took 2.38 minutes\n"
     ]
    },
    {
     "name": "stderr",
     "output_type": "stream",
     "text": [
      "Attempting to set global database_path_translator=<genomics_data_index.storage.model.db.DatabasePathTranslator.DatabasePathTranslator object at 0x7fbbd9f92ee0> but it is already set\n",
      "A reminder to myself to look for a Python solution for directory sizes (instead of running `du`)\n"
     ]
    },
    {
     "name": "stdout",
     "output_type": "stream",
     "text": [
      "\n",
      "Iteration 3 of index/analysis of 59 samples with 32 cores\n",
      "Removing any extra snakemake directories: ['snakemake-assemblies.1644693358.163927']\n",
      "Removing any existing indexes simulations/unset/index-reads\n",
      "Creating new index: [gdi init simulations/unset/index-reads]\n",
      "Creating a new index took 3.28 seconds\n",
      "Analysis running: [gdi --project-dir simulations/unset/index-reads --ncores 32 analysis --use-conda --no-load-data --reference-file simulations/reference/reference.fa.gz --kmer-size 31 --kmer-size 51 --kmer-size 71 --include-kmer --reads-mincov 10 --input-structured-genomes-file simulations/unset/input-reads.tsv]\n",
      "Analysis took 1.89 minutes\n",
      "Index running: [gdi --project-dir simulations/unset/index-reads --ncores 32 load vcf-kmer --sample-batch-size 2000 --reference-file simulations/reference/reference.fa.gz /home/CSCScience.ca/apetkau/workspace/genomics-data-index-evaluation/evaluations/simulation/snakemake-assemblies.1644693643.8702247/gdi-input.fofn]\n",
      "Indexing took 0.41 minutes\n",
      "Building tree: [gdi --project-dir simulations/unset/index-reads --ncores 32 rebuild tree --align-type full --extra-params '--fast -m GTR+F+R4' reference]\n",
      "Building tree took 2.68 minutes\n"
     ]
    },
    {
     "name": "stderr",
     "output_type": "stream",
     "text": [
      "Attempting to set global database_path_translator=<genomics_data_index.storage.model.db.DatabasePathTranslator.DatabasePathTranslator object at 0x7fbc004350a0> but it is already set\n",
      "A reminder to myself to look for a Python solution for directory sizes (instead of running `du`)\n"
     ]
    }
   ],
   "source": [
    "results_handler = gdi_benchmark.BenchmarkResultsHandler(name=f'{case_name} reads')\n",
    "benchmarker = gdi_benchmark.IndexBenchmarker(benchmark_results_handler=results_handler,\n",
    "                                             index_path=index_reads_path, input_files_file=input_genomes_file,\n",
    "                                             reference_file=reference_file, mincov=mincov, build_tree=True,\n",
    "                                             ncores=ncores)\n",
    "\n",
    "benchmark_df = benchmarker.benchmark(iterations=iterations)"
   ]
  },
  {
   "cell_type": "code",
   "execution_count": 6,
   "id": "3bcb6da7-0164-47f2-abdd-a4c159da1e3b",
   "metadata": {},
   "outputs": [
    {
     "data": {
      "text/html": [
       "<div>\n",
       "<style scoped>\n",
       "    .dataframe tbody tr th:only-of-type {\n",
       "        vertical-align: middle;\n",
       "    }\n",
       "\n",
       "    .dataframe tbody tr th {\n",
       "        vertical-align: top;\n",
       "    }\n",
       "\n",
       "    .dataframe thead th {\n",
       "        text-align: right;\n",
       "    }\n",
       "</style>\n",
       "<table border=\"1\" class=\"dataframe\">\n",
       "  <thead>\n",
       "    <tr style=\"text-align: right;\">\n",
       "      <th></th>\n",
       "      <th>Name</th>\n",
       "      <th>Iteration</th>\n",
       "      <th>Number samples</th>\n",
       "      <th>Number features (all)</th>\n",
       "      <th>Number features (no unknown)</th>\n",
       "      <th>Number cores</th>\n",
       "      <th>Reference length</th>\n",
       "      <th>Analysis runtime</th>\n",
       "      <th>Analysis memory (max)</th>\n",
       "      <th>Analysis memory (max/process)</th>\n",
       "      <th>Analysis disk uage</th>\n",
       "      <th>Index runtime</th>\n",
       "      <th>Index memory (max)</th>\n",
       "      <th>Index memory (max/process)</th>\n",
       "      <th>Index size</th>\n",
       "      <th>Tree runtime</th>\n",
       "      <th>Tree memory (max)</th>\n",
       "      <th>Tree memory (max/process)</th>\n",
       "      <th>Total runtime</th>\n",
       "      <th>Max memory</th>\n",
       "    </tr>\n",
       "  </thead>\n",
       "  <tbody>\n",
       "    <tr>\n",
       "      <th>0</th>\n",
       "      <td>unset reads</td>\n",
       "      <td>1</td>\n",
       "      <td>59</td>\n",
       "      <td>20614</td>\n",
       "      <td>915</td>\n",
       "      <td>32</td>\n",
       "      <td>19699</td>\n",
       "      <td>110.28</td>\n",
       "      <td>2.997600e+09</td>\n",
       "      <td>418381824.0</td>\n",
       "      <td>2.941657e+09</td>\n",
       "      <td>26.24</td>\n",
       "      <td>6.230634e+09</td>\n",
       "      <td>819326976.0</td>\n",
       "      <td>4501504.0</td>\n",
       "      <td>141.60</td>\n",
       "      <td>419291136.0</td>\n",
       "      <td>236613632.0</td>\n",
       "      <td>278.12</td>\n",
       "      <td>6.230634e+09</td>\n",
       "    </tr>\n",
       "    <tr>\n",
       "      <th>0</th>\n",
       "      <td>unset reads</td>\n",
       "      <td>2</td>\n",
       "      <td>59</td>\n",
       "      <td>20614</td>\n",
       "      <td>915</td>\n",
       "      <td>32</td>\n",
       "      <td>19699</td>\n",
       "      <td>110.36</td>\n",
       "      <td>2.958254e+09</td>\n",
       "      <td>425537536.0</td>\n",
       "      <td>2.941641e+09</td>\n",
       "      <td>26.88</td>\n",
       "      <td>6.231286e+09</td>\n",
       "      <td>827551744.0</td>\n",
       "      <td>4505600.0</td>\n",
       "      <td>142.77</td>\n",
       "      <td>419880960.0</td>\n",
       "      <td>236941312.0</td>\n",
       "      <td>280.01</td>\n",
       "      <td>6.231286e+09</td>\n",
       "    </tr>\n",
       "    <tr>\n",
       "      <th>0</th>\n",
       "      <td>unset reads</td>\n",
       "      <td>3</td>\n",
       "      <td>59</td>\n",
       "      <td>20614</td>\n",
       "      <td>915</td>\n",
       "      <td>32</td>\n",
       "      <td>19699</td>\n",
       "      <td>113.41</td>\n",
       "      <td>3.231707e+09</td>\n",
       "      <td>434724864.0</td>\n",
       "      <td>2.941657e+09</td>\n",
       "      <td>24.40</td>\n",
       "      <td>6.219567e+09</td>\n",
       "      <td>824832000.0</td>\n",
       "      <td>4517888.0</td>\n",
       "      <td>160.62</td>\n",
       "      <td>422064128.0</td>\n",
       "      <td>237195264.0</td>\n",
       "      <td>298.43</td>\n",
       "      <td>6.219567e+09</td>\n",
       "    </tr>\n",
       "  </tbody>\n",
       "</table>\n",
       "</div>"
      ],
      "text/plain": [
       "          Name  Iteration  Number samples  Number features (all)  \\\n",
       "0  unset reads          1              59                  20614   \n",
       "0  unset reads          2              59                  20614   \n",
       "0  unset reads          3              59                  20614   \n",
       "\n",
       "   Number features (no unknown)  Number cores  Reference length  \\\n",
       "0                           915            32             19699   \n",
       "0                           915            32             19699   \n",
       "0                           915            32             19699   \n",
       "\n",
       "   Analysis runtime  Analysis memory (max)  Analysis memory (max/process)  \\\n",
       "0            110.28           2.997600e+09                    418381824.0   \n",
       "0            110.36           2.958254e+09                    425537536.0   \n",
       "0            113.41           3.231707e+09                    434724864.0   \n",
       "\n",
       "   Analysis disk uage  Index runtime  Index memory (max)  \\\n",
       "0        2.941657e+09          26.24        6.230634e+09   \n",
       "0        2.941641e+09          26.88        6.231286e+09   \n",
       "0        2.941657e+09          24.40        6.219567e+09   \n",
       "\n",
       "   Index memory (max/process)  Index size  Tree runtime  Tree memory (max)  \\\n",
       "0                 819326976.0   4501504.0        141.60        419291136.0   \n",
       "0                 827551744.0   4505600.0        142.77        419880960.0   \n",
       "0                 824832000.0   4517888.0        160.62        422064128.0   \n",
       "\n",
       "   Tree memory (max/process)  Total runtime    Max memory  \n",
       "0                236613632.0         278.12  6.230634e+09  \n",
       "0                236941312.0         280.01  6.231286e+09  \n",
       "0                237195264.0         298.43  6.219567e+09  "
      ]
     },
     "execution_count": 6,
     "metadata": {},
     "output_type": "execute_result"
    }
   ],
   "source": [
    "benchmark_df"
   ]
  },
  {
   "cell_type": "code",
   "execution_count": 7,
   "id": "535a9ccc-ab9c-4919-806f-128e1efd2389",
   "metadata": {},
   "outputs": [],
   "source": [
    "index_reads_runtime = simulation_dir_path / 'reads-index-info.tsv'\n",
    "benchmark_df.to_csv(index_reads_runtime, sep='\\t', index=False)"
   ]
  },
  {
   "cell_type": "markdown",
   "id": "c331578f-4026-4a9f-a3ba-288814b02ed2",
   "metadata": {},
   "source": [
    "## 2.2. Index assemblies"
   ]
  },
  {
   "cell_type": "code",
   "execution_count": 8,
   "id": "6e6664f4-94ee-4c45-b1fc-e048b387fa49",
   "metadata": {},
   "outputs": [
    {
     "name": "stdout",
     "output_type": "stream",
     "text": [
      "\u001b[32m2022-02-12 13:25:42\u001b[0m \u001b[1;30mWARNING:\u001b[0m \u001b[33m--skip-existing-samples is enabled but no --project-dir is set. Will not skip existing samples.\u001b[0m\n"
     ]
    }
   ],
   "source": [
    "input_genomes_file = simulation_dir_path / 'input-assemblies.tsv'\n",
    "\n",
    "!gdi input --absolute {assemblies_dir}/*.fa.gz > {input_genomes_file}"
   ]
  },
  {
   "cell_type": "code",
   "execution_count": 9,
   "id": "0a1e62f3-3b0c-4a90-a7fe-f0bc1094e350",
   "metadata": {},
   "outputs": [
    {
     "name": "stdout",
     "output_type": "stream",
     "text": [
      "\n",
      "Iteration 1 of index/analysis of 59 samples with 32 cores\n",
      "Removing any extra snakemake directories: ['snakemake-assemblies.1644693643.8702247']\n",
      "Removing any existing indexes simulations/unset/index-assemblies\n",
      "Creating new index: [gdi init simulations/unset/index-assemblies]\n",
      "Creating a new index took 3.33 seconds\n",
      "Analysis running: [gdi --project-dir simulations/unset/index-assemblies --ncores 32 analysis --use-conda --no-load-data --reference-file simulations/reference/reference.fa.gz --kmer-size 31 --kmer-size 51 --kmer-size 71 --include-kmer --reads-mincov 10 --input-structured-genomes-file simulations/unset/input-assemblies.tsv]\n",
      "Analysis took 1.82 minutes\n",
      "Index running: [gdi --project-dir simulations/unset/index-assemblies --ncores 32 load vcf-kmer --sample-batch-size 2000 --reference-file simulations/reference/reference.fa.gz /home/CSCScience.ca/apetkau/workspace/genomics-data-index-evaluation/evaluations/simulation/snakemake-assemblies.1644693951.4711497/gdi-input.fofn]\n",
      "Indexing took 0.11 minutes\n",
      "Building tree: [gdi --project-dir simulations/unset/index-assemblies --ncores 32 rebuild tree --align-type full --extra-params '--fast -m GTR+F+R4' reference]\n",
      "Building tree took 1.43 minutes\n"
     ]
    },
    {
     "name": "stderr",
     "output_type": "stream",
     "text": [
      "Attempting to set global database_path_translator=<genomics_data_index.storage.model.db.DatabasePathTranslator.DatabasePathTranslator object at 0x7fbbd9e44ac0> but it is already set\n",
      "A reminder to myself to look for a Python solution for directory sizes (instead of running `du`)\n"
     ]
    },
    {
     "name": "stdout",
     "output_type": "stream",
     "text": [
      "\n",
      "Iteration 2 of index/analysis of 59 samples with 32 cores\n",
      "Removing any extra snakemake directories: ['snakemake-assemblies.1644693951.4711497']\n",
      "Removing any existing indexes simulations/unset/index-assemblies\n",
      "Creating new index: [gdi init simulations/unset/index-assemblies]\n",
      "Creating a new index took 3.28 seconds\n",
      "Analysis running: [gdi --project-dir simulations/unset/index-assemblies --ncores 32 analysis --use-conda --no-load-data --reference-file simulations/reference/reference.fa.gz --kmer-size 31 --kmer-size 51 --kmer-size 71 --include-kmer --reads-mincov 10 --input-structured-genomes-file simulations/unset/input-assemblies.tsv]\n",
      "Analysis took 1.74 minutes\n",
      "Index running: [gdi --project-dir simulations/unset/index-assemblies --ncores 32 load vcf-kmer --sample-batch-size 2000 --reference-file simulations/reference/reference.fa.gz /home/CSCScience.ca/apetkau/workspace/genomics-data-index-evaluation/evaluations/simulation/snakemake-assemblies.1644694157.5871377/gdi-input.fofn]\n",
      "Indexing took 0.15 minutes\n",
      "Building tree: [gdi --project-dir simulations/unset/index-assemblies --ncores 32 rebuild tree --align-type full --extra-params '--fast -m GTR+F+R4' reference]\n",
      "Building tree took 1.56 minutes\n"
     ]
    },
    {
     "name": "stderr",
     "output_type": "stream",
     "text": [
      "Attempting to set global database_path_translator=<genomics_data_index.storage.model.db.DatabasePathTranslator.DatabasePathTranslator object at 0x7fbbd9e04a30> but it is already set\n",
      "A reminder to myself to look for a Python solution for directory sizes (instead of running `du`)\n"
     ]
    },
    {
     "name": "stdout",
     "output_type": "stream",
     "text": [
      "\n",
      "Iteration 3 of index/analysis of 59 samples with 32 cores\n",
      "Removing any extra snakemake directories: ['snakemake-assemblies.1644694157.5871377']\n",
      "Removing any existing indexes simulations/unset/index-assemblies\n",
      "Creating new index: [gdi init simulations/unset/index-assemblies]\n",
      "Creating a new index took 3.24 seconds\n",
      "Analysis running: [gdi --project-dir simulations/unset/index-assemblies --ncores 32 analysis --use-conda --no-load-data --reference-file simulations/reference/reference.fa.gz --kmer-size 31 --kmer-size 51 --kmer-size 71 --include-kmer --reads-mincov 10 --input-structured-genomes-file simulations/unset/input-assemblies.tsv]\n",
      "Analysis took 1.76 minutes\n",
      "Index running: [gdi --project-dir simulations/unset/index-assemblies --ncores 32 load vcf-kmer --sample-batch-size 2000 --reference-file simulations/reference/reference.fa.gz /home/CSCScience.ca/apetkau/workspace/genomics-data-index-evaluation/evaluations/simulation/snakemake-assemblies.1644694369.3573744/gdi-input.fofn]\n",
      "Indexing took 0.12 minutes\n",
      "Building tree: [gdi --project-dir simulations/unset/index-assemblies --ncores 32 rebuild tree --align-type full --extra-params '--fast -m GTR+F+R4' reference]\n",
      "Building tree took 1.52 minutes\n"
     ]
    },
    {
     "name": "stderr",
     "output_type": "stream",
     "text": [
      "Attempting to set global database_path_translator=<genomics_data_index.storage.model.db.DatabasePathTranslator.DatabasePathTranslator object at 0x7fbbd9e9eeb0> but it is already set\n",
      "A reminder to myself to look for a Python solution for directory sizes (instead of running `du`)\n"
     ]
    }
   ],
   "source": [
    "results_handler = gdi_benchmark.BenchmarkResultsHandler(name=f'{case_name} assemblies')\n",
    "benchmarker = gdi_benchmark.IndexBenchmarker(benchmark_results_handler=results_handler,\n",
    "                                             index_path=index_assemblies_path, input_files_file=input_genomes_file,\n",
    "                                             reference_file=reference_file, mincov=mincov, build_tree=True,\n",
    "                                             ncores=ncores)\n",
    "\n",
    "benchmark_df = benchmarker.benchmark(iterations=iterations)"
   ]
  },
  {
   "cell_type": "code",
   "execution_count": 10,
   "id": "a6d55a9d-be2f-4851-b66c-04b5ebd597a1",
   "metadata": {},
   "outputs": [
    {
     "data": {
      "text/html": [
       "<div>\n",
       "<style scoped>\n",
       "    .dataframe tbody tr th:only-of-type {\n",
       "        vertical-align: middle;\n",
       "    }\n",
       "\n",
       "    .dataframe tbody tr th {\n",
       "        vertical-align: top;\n",
       "    }\n",
       "\n",
       "    .dataframe thead th {\n",
       "        text-align: right;\n",
       "    }\n",
       "</style>\n",
       "<table border=\"1\" class=\"dataframe\">\n",
       "  <thead>\n",
       "    <tr style=\"text-align: right;\">\n",
       "      <th></th>\n",
       "      <th>Name</th>\n",
       "      <th>Iteration</th>\n",
       "      <th>Number samples</th>\n",
       "      <th>Number features (all)</th>\n",
       "      <th>Number features (no unknown)</th>\n",
       "      <th>Number cores</th>\n",
       "      <th>Reference length</th>\n",
       "      <th>Analysis runtime</th>\n",
       "      <th>Analysis memory (max)</th>\n",
       "      <th>Analysis memory (max/process)</th>\n",
       "      <th>Analysis disk uage</th>\n",
       "      <th>Index runtime</th>\n",
       "      <th>Index memory (max)</th>\n",
       "      <th>Index memory (max/process)</th>\n",
       "      <th>Index size</th>\n",
       "      <th>Tree runtime</th>\n",
       "      <th>Tree memory (max)</th>\n",
       "      <th>Tree memory (max/process)</th>\n",
       "      <th>Total runtime</th>\n",
       "      <th>Max memory</th>\n",
       "    </tr>\n",
       "  </thead>\n",
       "  <tbody>\n",
       "    <tr>\n",
       "      <th>0</th>\n",
       "      <td>unset assemblies</td>\n",
       "      <td>1</td>\n",
       "      <td>59</td>\n",
       "      <td>1426</td>\n",
       "      <td>1350</td>\n",
       "      <td>32</td>\n",
       "      <td>19699</td>\n",
       "      <td>108.78</td>\n",
       "      <td>1.273750e+09</td>\n",
       "      <td>394366976.0</td>\n",
       "      <td>2.288542e+09</td>\n",
       "      <td>6.44</td>\n",
       "      <td>5.973938e+09</td>\n",
       "      <td>256786432.0</td>\n",
       "      <td>1368064.0</td>\n",
       "      <td>85.68</td>\n",
       "      <td>256176128.0</td>\n",
       "      <td>236257280.0</td>\n",
       "      <td>200.90</td>\n",
       "      <td>5.973938e+09</td>\n",
       "    </tr>\n",
       "    <tr>\n",
       "      <th>0</th>\n",
       "      <td>unset assemblies</td>\n",
       "      <td>2</td>\n",
       "      <td>59</td>\n",
       "      <td>1426</td>\n",
       "      <td>1350</td>\n",
       "      <td>32</td>\n",
       "      <td>19699</td>\n",
       "      <td>104.54</td>\n",
       "      <td>1.316303e+09</td>\n",
       "      <td>403267584.0</td>\n",
       "      <td>2.288529e+09</td>\n",
       "      <td>8.80</td>\n",
       "      <td>5.960356e+09</td>\n",
       "      <td>257077248.0</td>\n",
       "      <td>1368064.0</td>\n",
       "      <td>93.33</td>\n",
       "      <td>257351680.0</td>\n",
       "      <td>237092864.0</td>\n",
       "      <td>206.67</td>\n",
       "      <td>5.960356e+09</td>\n",
       "    </tr>\n",
       "    <tr>\n",
       "      <th>0</th>\n",
       "      <td>unset assemblies</td>\n",
       "      <td>3</td>\n",
       "      <td>59</td>\n",
       "      <td>1426</td>\n",
       "      <td>1350</td>\n",
       "      <td>32</td>\n",
       "      <td>19699</td>\n",
       "      <td>105.72</td>\n",
       "      <td>1.327182e+09</td>\n",
       "      <td>393744384.0</td>\n",
       "      <td>2.288525e+09</td>\n",
       "      <td>6.89</td>\n",
       "      <td>5.961458e+09</td>\n",
       "      <td>257376256.0</td>\n",
       "      <td>1372160.0</td>\n",
       "      <td>91.09</td>\n",
       "      <td>256598016.0</td>\n",
       "      <td>236474368.0</td>\n",
       "      <td>203.70</td>\n",
       "      <td>5.961458e+09</td>\n",
       "    </tr>\n",
       "  </tbody>\n",
       "</table>\n",
       "</div>"
      ],
      "text/plain": [
       "               Name  Iteration  Number samples  Number features (all)  \\\n",
       "0  unset assemblies          1              59                   1426   \n",
       "0  unset assemblies          2              59                   1426   \n",
       "0  unset assemblies          3              59                   1426   \n",
       "\n",
       "   Number features (no unknown)  Number cores  Reference length  \\\n",
       "0                          1350            32             19699   \n",
       "0                          1350            32             19699   \n",
       "0                          1350            32             19699   \n",
       "\n",
       "   Analysis runtime  Analysis memory (max)  Analysis memory (max/process)  \\\n",
       "0            108.78           1.273750e+09                    394366976.0   \n",
       "0            104.54           1.316303e+09                    403267584.0   \n",
       "0            105.72           1.327182e+09                    393744384.0   \n",
       "\n",
       "   Analysis disk uage  Index runtime  Index memory (max)  \\\n",
       "0        2.288542e+09           6.44        5.973938e+09   \n",
       "0        2.288529e+09           8.80        5.960356e+09   \n",
       "0        2.288525e+09           6.89        5.961458e+09   \n",
       "\n",
       "   Index memory (max/process)  Index size  Tree runtime  Tree memory (max)  \\\n",
       "0                 256786432.0   1368064.0         85.68        256176128.0   \n",
       "0                 257077248.0   1368064.0         93.33        257351680.0   \n",
       "0                 257376256.0   1372160.0         91.09        256598016.0   \n",
       "\n",
       "   Tree memory (max/process)  Total runtime    Max memory  \n",
       "0                236257280.0         200.90  5.973938e+09  \n",
       "0                237092864.0         206.67  5.960356e+09  \n",
       "0                236474368.0         203.70  5.961458e+09  "
      ]
     },
     "execution_count": 10,
     "metadata": {},
     "output_type": "execute_result"
    }
   ],
   "source": [
    "benchmark_df"
   ]
  },
  {
   "cell_type": "code",
   "execution_count": 11,
   "id": "e1a6d962-50bc-4c8d-a6f2-3a661da706b4",
   "metadata": {},
   "outputs": [],
   "source": [
    "index_assemblies_runtime = simulation_dir_path / 'assemblies-index-info.tsv'\n",
    "benchmark_df.to_csv(index_assemblies_runtime, sep='\\t', index=False)"
   ]
  },
  {
   "cell_type": "markdown",
   "id": "6cb7673b-9f85-4c43-b2e2-93538497a196",
   "metadata": {},
   "source": [
    "# 3. Export trees"
   ]
  },
  {
   "cell_type": "code",
   "execution_count": 12,
   "id": "5280f82c-5434-4391-8c44-b937a7c95bd5",
   "metadata": {},
   "outputs": [
    {
     "name": "stdout",
     "output_type": "stream",
     "text": [
      "Wrote assemblies tree to simulations/unset/index-assemblies/assemblies.tre\n",
      "Wrote assemblies tree to simulations/unset/index-reads/reads.tre\n"
     ]
    }
   ],
   "source": [
    "!gdi --project-dir {index_assemblies_path} export tree {reference_name} > {output_assemblies_tree}\n",
    "print(f'Wrote assemblies tree to {output_assemblies_tree}')\n",
    "\n",
    "!gdi --project-dir {index_reads_path} export tree {reference_name} > {output_reads_tree}\n",
    "print(f'Wrote assemblies tree to {output_reads_tree}')"
   ]
  }
 ],
 "metadata": {
  "kernelspec": {
   "display_name": "Python 3 (ipykernel)",
   "language": "python",
   "name": "python3"
  },
  "language_info": {
   "codemirror_mode": {
    "name": "ipython",
    "version": 3
   },
   "file_extension": ".py",
   "mimetype": "text/x-python",
   "name": "python",
   "nbconvert_exporter": "python",
   "pygments_lexer": "ipython3",
   "version": "3.8.12"
  }
 },
 "nbformat": 4,
 "nbformat_minor": 5
}
