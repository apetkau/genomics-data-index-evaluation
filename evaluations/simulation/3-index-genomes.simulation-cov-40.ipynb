{
 "cells": [
  {
   "cell_type": "markdown",
   "id": "7d3667b4-b1f8-4347-96e3-830c25b06740",
   "metadata": {
    "papermill": {
     "duration": 0.018553,
     "end_time": "2021-09-02T04:21:35.929655",
     "exception": false,
     "start_time": "2021-09-02T04:21:35.911102",
     "status": "completed"
    },
    "tags": []
   },
   "source": [
    "# 1. Parameters"
   ]
  },
  {
   "cell_type": "code",
   "execution_count": 1,
   "id": "d4ab0749-b286-4c34-b63c-a854e4952bae",
   "metadata": {
    "execution": {
     "iopub.execute_input": "2021-09-02T04:21:35.961685Z",
     "iopub.status.busy": "2021-09-02T04:21:35.961145Z",
     "iopub.status.idle": "2021-09-02T04:21:35.966763Z",
     "shell.execute_reply": "2021-09-02T04:21:35.966049Z"
    },
    "papermill": {
     "duration": 0.027211,
     "end_time": "2021-09-02T04:21:35.966932",
     "exception": false,
     "start_time": "2021-09-02T04:21:35.939721",
     "status": "completed"
    },
    "tags": [
     "parameters"
    ]
   },
   "outputs": [],
   "source": [
    "# Defaults\n",
    "simulation_dir = 'simulations/unset'\n",
    "reference_file = 'simulations/reference/reference.fa.gz'\n",
    "iterations = 3\n",
    "mincov = 10\n",
    "ncores = 32"
   ]
  },
  {
   "cell_type": "code",
   "execution_count": 2,
   "id": "93157ee0",
   "metadata": {
    "execution": {
     "iopub.execute_input": "2021-09-02T04:21:35.993025Z",
     "iopub.status.busy": "2021-09-02T04:21:35.992605Z",
     "iopub.status.idle": "2021-09-02T04:21:35.995645Z",
     "shell.execute_reply": "2021-09-02T04:21:35.996027Z"
    },
    "papermill": {
     "duration": 0.01762,
     "end_time": "2021-09-02T04:21:35.996164",
     "exception": false,
     "start_time": "2021-09-02T04:21:35.978544",
     "status": "completed"
    },
    "tags": [
     "injected-parameters"
    ]
   },
   "outputs": [],
   "source": [
    "# Parameters\n",
    "read_coverage = 40\n",
    "mincov = 10\n",
    "simulation_dir = \"simulations/cov-40\"\n",
    "iterations = 3\n"
   ]
  },
  {
   "cell_type": "code",
   "execution_count": 3,
   "id": "ce5962e4-261c-4210-b39b-47044e28466b",
   "metadata": {
    "execution": {
     "iopub.execute_input": "2021-09-02T04:21:36.020850Z",
     "iopub.status.busy": "2021-09-02T04:21:36.020427Z",
     "iopub.status.idle": "2021-09-02T04:21:38.490268Z",
     "shell.execute_reply": "2021-09-02T04:21:38.491146Z"
    },
    "papermill": {
     "duration": 2.486747,
     "end_time": "2021-09-02T04:21:38.491494",
     "exception": false,
     "start_time": "2021-09-02T04:21:36.004747",
     "status": "completed"
    },
    "tags": []
   },
   "outputs": [],
   "source": [
    "from pathlib import Path\n",
    "import imp\n",
    "fp, pathname, description = imp.find_module('gdi_benchmark', ['../../lib'])\n",
    "gdi_benchmark = imp.load_module('gdi_benchmark', fp, pathname, description)\n",
    "\n",
    "simulation_dir_path = Path(simulation_dir)\n",
    "\n",
    "case_name = str(simulation_dir_path.name)\n",
    "reads_dir = simulation_dir_path / 'simulated_data' / 'reads'\n",
    "assemblies_dir = simulation_dir_path / 'simulated_data' / 'assemblies'\n",
    "index_reads_path = simulation_dir_path / 'index-reads'\n",
    "index_assemblies_path = simulation_dir_path / 'index-assemblies'\n",
    "output_reads_tree = index_reads_path / 'reads.tre'\n",
    "output_assemblies_tree = index_assemblies_path / 'assemblies.tre'\n",
    "reference_name = Path(reference_file).name.split('.')[0]"
   ]
  },
  {
   "cell_type": "markdown",
   "id": "f208279e-7558-47fc-9362-da29df92828a",
   "metadata": {
    "papermill": {
     "duration": 0.009609,
     "end_time": "2021-09-02T04:21:38.518036",
     "exception": false,
     "start_time": "2021-09-02T04:21:38.508427",
     "status": "completed"
    },
    "tags": []
   },
   "source": [
    "# 2. Index genomes"
   ]
  },
  {
   "cell_type": "code",
   "execution_count": 4,
   "id": "4e936f7c-2fcd-4188-b0e6-6b3ceb5cdcd2",
   "metadata": {
    "execution": {
     "iopub.execute_input": "2021-09-02T04:21:38.540146Z",
     "iopub.status.busy": "2021-09-02T04:21:38.539746Z",
     "iopub.status.idle": "2021-09-02T04:21:41.493514Z",
     "shell.execute_reply": "2021-09-02T04:21:41.494362Z"
    },
    "papermill": {
     "duration": 2.969347,
     "end_time": "2021-09-02T04:21:41.494683",
     "exception": false,
     "start_time": "2021-09-02T04:21:38.525336",
     "status": "completed"
    },
    "tags": []
   },
   "outputs": [
    {
     "name": "stdout",
     "output_type": "stream",
     "text": [
      "gdi, version 0.3.0.dev9\r\n"
     ]
    }
   ],
   "source": [
    "!gdi --version"
   ]
  },
  {
   "cell_type": "markdown",
   "id": "5409ecf8-2158-4361-9d2f-6b1a6c7c63a6",
   "metadata": {
    "papermill": {
     "duration": 0.009498,
     "end_time": "2021-09-02T04:21:41.521138",
     "exception": false,
     "start_time": "2021-09-02T04:21:41.511640",
     "status": "completed"
    },
    "tags": []
   },
   "source": [
    "## 2.1. Index reads"
   ]
  },
  {
   "cell_type": "code",
   "execution_count": 5,
   "id": "b5324f79-913b-4dac-8122-19ad5c0f24b2",
   "metadata": {
    "execution": {
     "iopub.execute_input": "2021-09-02T04:21:41.554109Z",
     "iopub.status.busy": "2021-09-02T04:21:41.543631Z",
     "iopub.status.idle": "2021-09-02T04:21:44.447643Z",
     "shell.execute_reply": "2021-09-02T04:21:44.448555Z"
    },
    "papermill": {
     "duration": 2.920176,
     "end_time": "2021-09-02T04:21:44.448900",
     "exception": false,
     "start_time": "2021-09-02T04:21:41.528724",
     "status": "completed"
    },
    "tags": []
   },
   "outputs": [],
   "source": [
    "input_genomes_file = simulation_dir_path / 'input-reads.tsv'\n",
    "\n",
    "!gdi input --absolute {reads_dir}/*.fq.gz > {input_genomes_file}"
   ]
  },
  {
   "cell_type": "code",
   "execution_count": 6,
   "id": "3d63e861-733e-46f2-8bce-bd1a2c7c7058",
   "metadata": {
    "execution": {
     "iopub.execute_input": "2021-09-02T04:21:44.490241Z",
     "iopub.status.busy": "2021-09-02T04:21:44.486775Z",
     "iopub.status.idle": "2021-09-02T04:32:46.229052Z",
     "shell.execute_reply": "2021-09-02T04:32:46.230105Z"
    },
    "papermill": {
     "duration": 661.764047,
     "end_time": "2021-09-02T04:32:46.230917",
     "exception": false,
     "start_time": "2021-09-02T04:21:44.466870",
     "status": "completed"
    },
    "tags": []
   },
   "outputs": [
    {
     "name": "stdout",
     "output_type": "stream",
     "text": [
      "\n",
      "Iteration 1 of index/analysis of 59 samples with 32 cores\n",
      "Removing any extra snakemake directories: ['snakemake-assemblies.1630556322.9467545']\n"
     ]
    },
    {
     "name": "stdout",
     "output_type": "stream",
     "text": [
      "Creating new index: [gdi init simulations/cov-40/index-reads]\n"
     ]
    },
    {
     "name": "stdout",
     "output_type": "stream",
     "text": [
      "Creating a new index took 2.97 seconds\n",
      "Analysis running: [gdi --project-dir simulations/cov-40/index-reads --ncores 32 analysis --use-conda --no-load-data --reference-file simulations/reference/reference.fa.gz --kmer-size 31 --kmer-size 51 --kmer-size 71 --include-kmer --reads-mincov 10 --input-structured-genomes-file simulations/cov-40/input-reads.tsv]\n"
     ]
    },
    {
     "name": "stdout",
     "output_type": "stream",
     "text": [
      "Analysis took 1.88 minutes\n",
      "Index running: [gdi --project-dir simulations/cov-40/index-reads --ncores 32 load vcf --reference-file simulations/reference/reference.fa.gz /home/CSCScience.ca/apetkau/workspace/genomics-data-index-evaluation/evaluations/simulation/snakemake-assemblies.1630556511.5494769/gdi-input.fofn]\n"
     ]
    },
    {
     "name": "stdout",
     "output_type": "stream",
     "text": [
      "Indexing took 0.10 minutes\n",
      "Building tree: [gdi --project-dir simulations/cov-40/index-reads --ncores 32 rebuild tree --align-type full --extra-params '--fast -m GTR+F+R4' reference]\n"
     ]
    },
    {
     "name": "stdout",
     "output_type": "stream",
     "text": [
      "Building tree took 1.76 minutes\n"
     ]
    },
    {
     "name": "stderr",
     "output_type": "stream",
     "text": [
      "A reminder to myself to look for a Python solution for directory sizes (instead of running `du`)\n"
     ]
    },
    {
     "name": "stdout",
     "output_type": "stream",
     "text": [
      "\n",
      "Iteration 2 of index/analysis of 59 samples with 32 cores\n",
      "Removing any extra snakemake directories: ['snakemake-assemblies.1630556511.5494769']\n"
     ]
    },
    {
     "name": "stdout",
     "output_type": "stream",
     "text": [
      "Removing any existing indexes simulations/cov-40/index-reads\n",
      "Creating new index: [gdi init simulations/cov-40/index-reads]\n"
     ]
    },
    {
     "name": "stdout",
     "output_type": "stream",
     "text": [
      "Creating a new index took 2.84 seconds\n",
      "Analysis running: [gdi --project-dir simulations/cov-40/index-reads --ncores 32 analysis --use-conda --no-load-data --reference-file simulations/reference/reference.fa.gz --kmer-size 31 --kmer-size 51 --kmer-size 71 --include-kmer --reads-mincov 10 --input-structured-genomes-file simulations/cov-40/input-reads.tsv]\n"
     ]
    },
    {
     "name": "stdout",
     "output_type": "stream",
     "text": [
      "Analysis took 1.73 minutes\n",
      "Index running: [gdi --project-dir simulations/cov-40/index-reads --ncores 32 load vcf --reference-file simulations/reference/reference.fa.gz /home/CSCScience.ca/apetkau/workspace/genomics-data-index-evaluation/evaluations/simulation/snakemake-assemblies.1630556740.5353267/gdi-input.fofn]\n"
     ]
    },
    {
     "name": "stdout",
     "output_type": "stream",
     "text": [
      "Indexing took 0.10 minutes\n",
      "Building tree: [gdi --project-dir simulations/cov-40/index-reads --ncores 32 rebuild tree --align-type full --extra-params '--fast -m GTR+F+R4' reference]\n"
     ]
    },
    {
     "name": "stdout",
     "output_type": "stream",
     "text": [
      "Building tree took 1.60 minutes\n"
     ]
    },
    {
     "name": "stderr",
     "output_type": "stream",
     "text": [
      "Attempting to set global database_path_translator=<genomics_data_index.storage.model.db.DatabasePathTranslator.DatabasePathTranslator object at 0x7f2989058a90> but it is already set\n"
     ]
    },
    {
     "name": "stderr",
     "output_type": "stream",
     "text": [
      "A reminder to myself to look for a Python solution for directory sizes (instead of running `du`)\n"
     ]
    },
    {
     "name": "stdout",
     "output_type": "stream",
     "text": [
      "\n",
      "Iteration 3 of index/analysis of 59 samples with 32 cores\n",
      "Removing any extra snakemake directories: ['snakemake-assemblies.1630556740.5353267']\n"
     ]
    },
    {
     "name": "stdout",
     "output_type": "stream",
     "text": [
      "Removing any existing indexes simulations/cov-40/index-reads\n",
      "Creating new index: [gdi init simulations/cov-40/index-reads]\n"
     ]
    },
    {
     "name": "stdout",
     "output_type": "stream",
     "text": [
      "Creating a new index took 2.93 seconds\n",
      "Analysis running: [gdi --project-dir simulations/cov-40/index-reads --ncores 32 analysis --use-conda --no-load-data --reference-file simulations/reference/reference.fa.gz --kmer-size 31 --kmer-size 51 --kmer-size 71 --include-kmer --reads-mincov 10 --input-structured-genomes-file simulations/cov-40/input-reads.tsv]\n"
     ]
    },
    {
     "name": "stdout",
     "output_type": "stream",
     "text": [
      "Analysis took 1.72 minutes\n",
      "Index running: [gdi --project-dir simulations/cov-40/index-reads --ncores 32 load vcf --reference-file simulations/reference/reference.fa.gz /home/CSCScience.ca/apetkau/workspace/genomics-data-index-evaluation/evaluations/simulation/snakemake-assemblies.1630556951.1773498/gdi-input.fofn]\n"
     ]
    },
    {
     "name": "stdout",
     "output_type": "stream",
     "text": [
      "Indexing took 0.10 minutes\n",
      "Building tree: [gdi --project-dir simulations/cov-40/index-reads --ncores 32 rebuild tree --align-type full --extra-params '--fast -m GTR+F+R4' reference]\n"
     ]
    },
    {
     "name": "stdout",
     "output_type": "stream",
     "text": [
      "Building tree took 1.80 minutes\n"
     ]
    },
    {
     "name": "stderr",
     "output_type": "stream",
     "text": [
      "Attempting to set global database_path_translator=<genomics_data_index.storage.model.db.DatabasePathTranslator.DatabasePathTranslator object at 0x7f29890589d0> but it is already set\n"
     ]
    },
    {
     "name": "stderr",
     "output_type": "stream",
     "text": [
      "A reminder to myself to look for a Python solution for directory sizes (instead of running `du`)\n"
     ]
    }
   ],
   "source": [
    "results_handler = gdi_benchmark.BenchmarkResultsHandler(name=f'{case_name} reads')\n",
    "benchmarker = gdi_benchmark.IndexBenchmarker(benchmark_results_handler=results_handler,\n",
    "                                             index_path=index_reads_path, input_files_file=input_genomes_file,\n",
    "                                             reference_file=reference_file, mincov=mincov, build_tree=True,\n",
    "                                             ncores=ncores)\n",
    "\n",
    "benchmark_df = benchmarker.benchmark(iterations=iterations)"
   ]
  },
  {
   "cell_type": "code",
   "execution_count": 7,
   "id": "3bcb6da7-0164-47f2-abdd-a4c159da1e3b",
   "metadata": {
    "execution": {
     "iopub.execute_input": "2021-09-02T04:32:46.281459Z",
     "iopub.status.busy": "2021-09-02T04:32:46.280909Z",
     "iopub.status.idle": "2021-09-02T04:32:46.314999Z",
     "shell.execute_reply": "2021-09-02T04:32:46.314159Z"
    },
    "papermill": {
     "duration": 0.061252,
     "end_time": "2021-09-02T04:32:46.315196",
     "exception": false,
     "start_time": "2021-09-02T04:32:46.253944",
     "status": "completed"
    },
    "tags": []
   },
   "outputs": [
    {
     "data": {
      "text/html": [
       "<div>\n",
       "<style scoped>\n",
       "    .dataframe tbody tr th:only-of-type {\n",
       "        vertical-align: middle;\n",
       "    }\n",
       "\n",
       "    .dataframe tbody tr th {\n",
       "        vertical-align: top;\n",
       "    }\n",
       "\n",
       "    .dataframe thead th {\n",
       "        text-align: right;\n",
       "    }\n",
       "</style>\n",
       "<table border=\"1\" class=\"dataframe\">\n",
       "  <thead>\n",
       "    <tr style=\"text-align: right;\">\n",
       "      <th></th>\n",
       "      <th>Name</th>\n",
       "      <th>Iteration</th>\n",
       "      <th>Number samples</th>\n",
       "      <th>Number cores</th>\n",
       "      <th>Reference length</th>\n",
       "      <th>Analysis runtime</th>\n",
       "      <th>Analysis memory (max)</th>\n",
       "      <th>Analysis memory (max/process)</th>\n",
       "      <th>Analysis disk uage</th>\n",
       "      <th>Index runtime</th>\n",
       "      <th>Index memory (max)</th>\n",
       "      <th>Index memory (max/process)</th>\n",
       "      <th>Index size</th>\n",
       "      <th>Tree runtime</th>\n",
       "      <th>Tree memory (max)</th>\n",
       "      <th>Tree memory (max/process)</th>\n",
       "      <th>Total runtime</th>\n",
       "      <th>Max memory</th>\n",
       "    </tr>\n",
       "  </thead>\n",
       "  <tbody>\n",
       "    <tr>\n",
       "      <th>0</th>\n",
       "      <td>cov-40 reads</td>\n",
       "      <td>1</td>\n",
       "      <td>59</td>\n",
       "      <td>32</td>\n",
       "      <td>10834</td>\n",
       "      <td>112.40</td>\n",
       "      <td>2.814693e+09</td>\n",
       "      <td>391114752.0</td>\n",
       "      <td>3.275383e+09</td>\n",
       "      <td>5.66</td>\n",
       "      <td>5.793759e+09</td>\n",
       "      <td>252964864.0</td>\n",
       "      <td>1388544.0</td>\n",
       "      <td>105.74</td>\n",
       "      <td>248967168.0</td>\n",
       "      <td>224653312.0</td>\n",
       "      <td>223.80</td>\n",
       "      <td>5.793759e+09</td>\n",
       "    </tr>\n",
       "    <tr>\n",
       "      <th>0</th>\n",
       "      <td>cov-40 reads</td>\n",
       "      <td>2</td>\n",
       "      <td>59</td>\n",
       "      <td>32</td>\n",
       "      <td>10834</td>\n",
       "      <td>103.76</td>\n",
       "      <td>2.751033e+09</td>\n",
       "      <td>389410816.0</td>\n",
       "      <td>3.275391e+09</td>\n",
       "      <td>6.13</td>\n",
       "      <td>5.787464e+09</td>\n",
       "      <td>252764160.0</td>\n",
       "      <td>1380352.0</td>\n",
       "      <td>95.64</td>\n",
       "      <td>248524800.0</td>\n",
       "      <td>224452608.0</td>\n",
       "      <td>205.53</td>\n",
       "      <td>5.787464e+09</td>\n",
       "    </tr>\n",
       "    <tr>\n",
       "      <th>0</th>\n",
       "      <td>cov-40 reads</td>\n",
       "      <td>3</td>\n",
       "      <td>59</td>\n",
       "      <td>32</td>\n",
       "      <td>10834</td>\n",
       "      <td>103.14</td>\n",
       "      <td>2.789437e+09</td>\n",
       "      <td>387268608.0</td>\n",
       "      <td>3.275387e+09</td>\n",
       "      <td>5.97</td>\n",
       "      <td>5.776622e+09</td>\n",
       "      <td>253177856.0</td>\n",
       "      <td>1388544.0</td>\n",
       "      <td>108.10</td>\n",
       "      <td>248578048.0</td>\n",
       "      <td>224165888.0</td>\n",
       "      <td>217.21</td>\n",
       "      <td>5.776622e+09</td>\n",
       "    </tr>\n",
       "  </tbody>\n",
       "</table>\n",
       "</div>"
      ],
      "text/plain": [
       "           Name  Iteration  Number samples  Number cores  Reference length  \\\n",
       "0  cov-40 reads          1              59            32             10834   \n",
       "0  cov-40 reads          2              59            32             10834   \n",
       "0  cov-40 reads          3              59            32             10834   \n",
       "\n",
       "   Analysis runtime  Analysis memory (max)  Analysis memory (max/process)  \\\n",
       "0            112.40           2.814693e+09                    391114752.0   \n",
       "0            103.76           2.751033e+09                    389410816.0   \n",
       "0            103.14           2.789437e+09                    387268608.0   \n",
       "\n",
       "   Analysis disk uage  Index runtime  Index memory (max)  \\\n",
       "0        3.275383e+09           5.66        5.793759e+09   \n",
       "0        3.275391e+09           6.13        5.787464e+09   \n",
       "0        3.275387e+09           5.97        5.776622e+09   \n",
       "\n",
       "   Index memory (max/process)  Index size  Tree runtime  Tree memory (max)  \\\n",
       "0                 252964864.0   1388544.0        105.74        248967168.0   \n",
       "0                 252764160.0   1380352.0         95.64        248524800.0   \n",
       "0                 253177856.0   1388544.0        108.10        248578048.0   \n",
       "\n",
       "   Tree memory (max/process)  Total runtime    Max memory  \n",
       "0                224653312.0         223.80  5.793759e+09  \n",
       "0                224452608.0         205.53  5.787464e+09  \n",
       "0                224165888.0         217.21  5.776622e+09  "
      ]
     },
     "execution_count": 7,
     "metadata": {},
     "output_type": "execute_result"
    }
   ],
   "source": [
    "benchmark_df"
   ]
  },
  {
   "cell_type": "code",
   "execution_count": 8,
   "id": "535a9ccc-ab9c-4919-806f-128e1efd2389",
   "metadata": {
    "execution": {
     "iopub.execute_input": "2021-09-02T04:32:46.354684Z",
     "iopub.status.busy": "2021-09-02T04:32:46.354256Z",
     "iopub.status.idle": "2021-09-02T04:32:46.368045Z",
     "shell.execute_reply": "2021-09-02T04:32:46.367586Z"
    },
    "papermill": {
     "duration": 0.032153,
     "end_time": "2021-09-02T04:32:46.368149",
     "exception": false,
     "start_time": "2021-09-02T04:32:46.335996",
     "status": "completed"
    },
    "tags": []
   },
   "outputs": [],
   "source": [
    "index_reads_runtime = simulation_dir_path / 'reads-index-info.tsv'\n",
    "benchmark_df.to_csv(index_reads_runtime, sep='\\t', index=False)"
   ]
  },
  {
   "cell_type": "markdown",
   "id": "c331578f-4026-4a9f-a3ba-288814b02ed2",
   "metadata": {
    "papermill": {
     "duration": 0.011844,
     "end_time": "2021-09-02T04:32:46.396487",
     "exception": false,
     "start_time": "2021-09-02T04:32:46.384643",
     "status": "completed"
    },
    "tags": []
   },
   "source": [
    "## 2.2. Index assemblies"
   ]
  },
  {
   "cell_type": "code",
   "execution_count": 9,
   "id": "6e6664f4-94ee-4c45-b1fc-e048b387fa49",
   "metadata": {
    "execution": {
     "iopub.execute_input": "2021-09-02T04:32:46.434209Z",
     "iopub.status.busy": "2021-09-02T04:32:46.433679Z",
     "iopub.status.idle": "2021-09-02T04:32:49.383724Z",
     "shell.execute_reply": "2021-09-02T04:32:49.384673Z"
    },
    "papermill": {
     "duration": 2.977449,
     "end_time": "2021-09-02T04:32:49.384968",
     "exception": false,
     "start_time": "2021-09-02T04:32:46.407519",
     "status": "completed"
    },
    "tags": []
   },
   "outputs": [],
   "source": [
    "input_genomes_file = simulation_dir_path / 'input-assemblies.tsv'\n",
    "\n",
    "!gdi input --absolute {assemblies_dir}/*.fa.gz > {input_genomes_file}"
   ]
  },
  {
   "cell_type": "code",
   "execution_count": 10,
   "id": "0a1e62f3-3b0c-4a90-a7fe-f0bc1094e350",
   "metadata": {
    "execution": {
     "iopub.execute_input": "2021-09-02T04:32:49.432910Z",
     "iopub.status.busy": "2021-09-02T04:32:49.432058Z",
     "iopub.status.idle": "2021-09-02T04:42:31.236164Z",
     "shell.execute_reply": "2021-09-02T04:42:31.237089Z"
    },
    "papermill": {
     "duration": 581.828774,
     "end_time": "2021-09-02T04:42:31.237401",
     "exception": false,
     "start_time": "2021-09-02T04:32:49.408627",
     "status": "completed"
    },
    "tags": []
   },
   "outputs": [
    {
     "name": "stdout",
     "output_type": "stream",
     "text": [
      "\n",
      "Iteration 1 of index/analysis of 59 samples with 32 cores\n",
      "Removing any extra snakemake directories: ['snakemake-assemblies.1630556951.1773498']\n"
     ]
    },
    {
     "name": "stdout",
     "output_type": "stream",
     "text": [
      "Creating new index: [gdi init simulations/cov-40/index-assemblies]\n"
     ]
    },
    {
     "name": "stdout",
     "output_type": "stream",
     "text": [
      "Creating a new index took 2.79 seconds\n",
      "Analysis running: [gdi --project-dir simulations/cov-40/index-assemblies --ncores 32 analysis --use-conda --no-load-data --reference-file simulations/reference/reference.fa.gz --kmer-size 31 --kmer-size 51 --kmer-size 71 --include-kmer --reads-mincov 10 --input-structured-genomes-file simulations/cov-40/input-assemblies.tsv]\n"
     ]
    },
    {
     "name": "stdout",
     "output_type": "stream",
     "text": [
      "Analysis took 1.76 minutes\n",
      "Index running: [gdi --project-dir simulations/cov-40/index-assemblies --ncores 32 load vcf --reference-file simulations/reference/reference.fa.gz /home/CSCScience.ca/apetkau/workspace/genomics-data-index-evaluation/evaluations/simulation/snakemake-assemblies.1630557176.5513864/gdi-input.fofn]\n"
     ]
    },
    {
     "name": "stdout",
     "output_type": "stream",
     "text": [
      "Indexing took 0.09 minutes\n",
      "Building tree: [gdi --project-dir simulations/cov-40/index-assemblies --ncores 32 rebuild tree --align-type full --extra-params '--fast -m GTR+F+R4' reference]\n"
     ]
    },
    {
     "name": "stdout",
     "output_type": "stream",
     "text": [
      "Building tree took 1.93 minutes\n"
     ]
    },
    {
     "name": "stderr",
     "output_type": "stream",
     "text": [
      "Attempting to set global database_path_translator=<genomics_data_index.storage.model.db.DatabasePathTranslator.DatabasePathTranslator object at 0x7f296fb24cd0> but it is already set\n"
     ]
    },
    {
     "name": "stderr",
     "output_type": "stream",
     "text": [
      "A reminder to myself to look for a Python solution for directory sizes (instead of running `du`)\n"
     ]
    },
    {
     "name": "stdout",
     "output_type": "stream",
     "text": [
      "\n",
      "Iteration 2 of index/analysis of 59 samples with 32 cores\n",
      "Removing any extra snakemake directories: ['snakemake-assemblies.1630557176.5513864']\n"
     ]
    },
    {
     "name": "stdout",
     "output_type": "stream",
     "text": [
      "Removing any existing indexes simulations/cov-40/index-assemblies\n",
      "Creating new index: [gdi init simulations/cov-40/index-assemblies]\n"
     ]
    },
    {
     "name": "stdout",
     "output_type": "stream",
     "text": [
      "Creating a new index took 2.96 seconds\n",
      "Analysis running: [gdi --project-dir simulations/cov-40/index-assemblies --ncores 32 analysis --use-conda --no-load-data --reference-file simulations/reference/reference.fa.gz --kmer-size 31 --kmer-size 51 --kmer-size 71 --include-kmer --reads-mincov 10 --input-structured-genomes-file simulations/cov-40/input-assemblies.tsv]\n"
     ]
    },
    {
     "name": "stdout",
     "output_type": "stream",
     "text": [
      "Analysis took 1.51 minutes\n",
      "Index running: [gdi --project-dir simulations/cov-40/index-assemblies --ncores 32 load vcf --reference-file simulations/reference/reference.fa.gz /home/CSCScience.ca/apetkau/workspace/genomics-data-index-evaluation/evaluations/simulation/snakemake-assemblies.1630557408.100519/gdi-input.fofn]\n"
     ]
    },
    {
     "name": "stdout",
     "output_type": "stream",
     "text": [
      "Indexing took 0.08 minutes\n",
      "Building tree: [gdi --project-dir simulations/cov-40/index-assemblies --ncores 32 rebuild tree --align-type full --extra-params '--fast -m GTR+F+R4' reference]\n"
     ]
    },
    {
     "name": "stdout",
     "output_type": "stream",
     "text": [
      "Building tree took 1.32 minutes\n"
     ]
    },
    {
     "name": "stderr",
     "output_type": "stream",
     "text": [
      "Attempting to set global database_path_translator=<genomics_data_index.storage.model.db.DatabasePathTranslator.DatabasePathTranslator object at 0x7f296faf6f40> but it is already set\n"
     ]
    },
    {
     "name": "stderr",
     "output_type": "stream",
     "text": [
      "A reminder to myself to look for a Python solution for directory sizes (instead of running `du`)\n"
     ]
    },
    {
     "name": "stdout",
     "output_type": "stream",
     "text": [
      "\n",
      "Iteration 3 of index/analysis of 59 samples with 32 cores\n",
      "Removing any extra snakemake directories: ['snakemake-assemblies.1630557408.100519']\n"
     ]
    },
    {
     "name": "stdout",
     "output_type": "stream",
     "text": [
      "Removing any existing indexes simulations/cov-40/index-assemblies\n",
      "Creating new index: [gdi init simulations/cov-40/index-assemblies]\n"
     ]
    },
    {
     "name": "stdout",
     "output_type": "stream",
     "text": [
      "Creating a new index took 2.79 seconds\n",
      "Analysis running: [gdi --project-dir simulations/cov-40/index-assemblies --ncores 32 analysis --use-conda --no-load-data --reference-file simulations/reference/reference.fa.gz --kmer-size 31 --kmer-size 51 --kmer-size 71 --include-kmer --reads-mincov 10 --input-structured-genomes-file simulations/cov-40/input-assemblies.tsv]\n"
     ]
    },
    {
     "name": "stdout",
     "output_type": "stream",
     "text": [
      "Analysis took 1.50 minutes\n",
      "Index running: [gdi --project-dir simulations/cov-40/index-assemblies --ncores 32 load vcf --reference-file simulations/reference/reference.fa.gz /home/CSCScience.ca/apetkau/workspace/genomics-data-index-evaluation/evaluations/simulation/snakemake-assemblies.1630557587.0519137/gdi-input.fofn]\n"
     ]
    },
    {
     "name": "stdout",
     "output_type": "stream",
     "text": [
      "Indexing took 0.09 minutes\n",
      "Building tree: [gdi --project-dir simulations/cov-40/index-assemblies --ncores 32 rebuild tree --align-type full --extra-params '--fast -m GTR+F+R4' reference]\n"
     ]
    },
    {
     "name": "stdout",
     "output_type": "stream",
     "text": [
      "Building tree took 1.19 minutes\n"
     ]
    },
    {
     "name": "stderr",
     "output_type": "stream",
     "text": [
      "Attempting to set global database_path_translator=<genomics_data_index.storage.model.db.DatabasePathTranslator.DatabasePathTranslator object at 0x7f296fb484f0> but it is already set\n"
     ]
    },
    {
     "name": "stderr",
     "output_type": "stream",
     "text": [
      "A reminder to myself to look for a Python solution for directory sizes (instead of running `du`)\n"
     ]
    }
   ],
   "source": [
    "results_handler = gdi_benchmark.BenchmarkResultsHandler(name=f'{case_name} assemblies')\n",
    "benchmarker = gdi_benchmark.IndexBenchmarker(benchmark_results_handler=results_handler,\n",
    "                                             index_path=index_assemblies_path, input_files_file=input_genomes_file,\n",
    "                                             reference_file=reference_file, mincov=mincov, build_tree=True,\n",
    "                                             ncores=ncores)\n",
    "\n",
    "benchmark_df = benchmarker.benchmark(iterations=iterations)"
   ]
  },
  {
   "cell_type": "code",
   "execution_count": 11,
   "id": "a6d55a9d-be2f-4851-b66c-04b5ebd597a1",
   "metadata": {
    "execution": {
     "iopub.execute_input": "2021-09-02T04:42:31.316479Z",
     "iopub.status.busy": "2021-09-02T04:42:31.315334Z",
     "iopub.status.idle": "2021-09-02T04:42:31.319603Z",
     "shell.execute_reply": "2021-09-02T04:42:31.320515Z"
    },
    "papermill": {
     "duration": 0.053904,
     "end_time": "2021-09-02T04:42:31.320783",
     "exception": false,
     "start_time": "2021-09-02T04:42:31.266879",
     "status": "completed"
    },
    "tags": []
   },
   "outputs": [
    {
     "data": {
      "text/html": [
       "<div>\n",
       "<style scoped>\n",
       "    .dataframe tbody tr th:only-of-type {\n",
       "        vertical-align: middle;\n",
       "    }\n",
       "\n",
       "    .dataframe tbody tr th {\n",
       "        vertical-align: top;\n",
       "    }\n",
       "\n",
       "    .dataframe thead th {\n",
       "        text-align: right;\n",
       "    }\n",
       "</style>\n",
       "<table border=\"1\" class=\"dataframe\">\n",
       "  <thead>\n",
       "    <tr style=\"text-align: right;\">\n",
       "      <th></th>\n",
       "      <th>Name</th>\n",
       "      <th>Iteration</th>\n",
       "      <th>Number samples</th>\n",
       "      <th>Number cores</th>\n",
       "      <th>Reference length</th>\n",
       "      <th>Analysis runtime</th>\n",
       "      <th>Analysis memory (max)</th>\n",
       "      <th>Analysis memory (max/process)</th>\n",
       "      <th>Analysis disk uage</th>\n",
       "      <th>Index runtime</th>\n",
       "      <th>Index memory (max)</th>\n",
       "      <th>Index memory (max/process)</th>\n",
       "      <th>Index size</th>\n",
       "      <th>Tree runtime</th>\n",
       "      <th>Tree memory (max)</th>\n",
       "      <th>Tree memory (max/process)</th>\n",
       "      <th>Total runtime</th>\n",
       "      <th>Max memory</th>\n",
       "    </tr>\n",
       "  </thead>\n",
       "  <tbody>\n",
       "    <tr>\n",
       "      <th>0</th>\n",
       "      <td>cov-40 assemblies</td>\n",
       "      <td>1</td>\n",
       "      <td>59</td>\n",
       "      <td>32</td>\n",
       "      <td>10834</td>\n",
       "      <td>105.21</td>\n",
       "      <td>1.162084e+09</td>\n",
       "      <td>371728384.0</td>\n",
       "      <td>2.082595e+09</td>\n",
       "      <td>5.49</td>\n",
       "      <td>5.781357e+09</td>\n",
       "      <td>238096384.0</td>\n",
       "      <td>1064960.0</td>\n",
       "      <td>115.83</td>\n",
       "      <td>241332224.0</td>\n",
       "      <td>224571392.0</td>\n",
       "      <td>226.53</td>\n",
       "      <td>5.781357e+09</td>\n",
       "    </tr>\n",
       "    <tr>\n",
       "      <th>0</th>\n",
       "      <td>cov-40 assemblies</td>\n",
       "      <td>2</td>\n",
       "      <td>59</td>\n",
       "      <td>32</td>\n",
       "      <td>10834</td>\n",
       "      <td>90.26</td>\n",
       "      <td>1.231266e+09</td>\n",
       "      <td>373301248.0</td>\n",
       "      <td>2.082578e+09</td>\n",
       "      <td>4.97</td>\n",
       "      <td>5.777179e+09</td>\n",
       "      <td>237686784.0</td>\n",
       "      <td>1064960.0</td>\n",
       "      <td>78.96</td>\n",
       "      <td>241168384.0</td>\n",
       "      <td>224358400.0</td>\n",
       "      <td>174.19</td>\n",
       "      <td>5.777179e+09</td>\n",
       "    </tr>\n",
       "    <tr>\n",
       "      <th>0</th>\n",
       "      <td>cov-40 assemblies</td>\n",
       "      <td>3</td>\n",
       "      <td>59</td>\n",
       "      <td>32</td>\n",
       "      <td>10834</td>\n",
       "      <td>89.65</td>\n",
       "      <td>1.226842e+09</td>\n",
       "      <td>364515328.0</td>\n",
       "      <td>2.082595e+09</td>\n",
       "      <td>5.50</td>\n",
       "      <td>5.769433e+09</td>\n",
       "      <td>238313472.0</td>\n",
       "      <td>1060864.0</td>\n",
       "      <td>71.32</td>\n",
       "      <td>241623040.0</td>\n",
       "      <td>224358400.0</td>\n",
       "      <td>166.47</td>\n",
       "      <td>5.769433e+09</td>\n",
       "    </tr>\n",
       "  </tbody>\n",
       "</table>\n",
       "</div>"
      ],
      "text/plain": [
       "                Name  Iteration  Number samples  Number cores  \\\n",
       "0  cov-40 assemblies          1              59            32   \n",
       "0  cov-40 assemblies          2              59            32   \n",
       "0  cov-40 assemblies          3              59            32   \n",
       "\n",
       "   Reference length  Analysis runtime  Analysis memory (max)  \\\n",
       "0             10834            105.21           1.162084e+09   \n",
       "0             10834             90.26           1.231266e+09   \n",
       "0             10834             89.65           1.226842e+09   \n",
       "\n",
       "   Analysis memory (max/process)  Analysis disk uage  Index runtime  \\\n",
       "0                    371728384.0        2.082595e+09           5.49   \n",
       "0                    373301248.0        2.082578e+09           4.97   \n",
       "0                    364515328.0        2.082595e+09           5.50   \n",
       "\n",
       "   Index memory (max)  Index memory (max/process)  Index size  Tree runtime  \\\n",
       "0        5.781357e+09                 238096384.0   1064960.0        115.83   \n",
       "0        5.777179e+09                 237686784.0   1064960.0         78.96   \n",
       "0        5.769433e+09                 238313472.0   1060864.0         71.32   \n",
       "\n",
       "   Tree memory (max)  Tree memory (max/process)  Total runtime    Max memory  \n",
       "0        241332224.0                224571392.0         226.53  5.781357e+09  \n",
       "0        241168384.0                224358400.0         174.19  5.777179e+09  \n",
       "0        241623040.0                224358400.0         166.47  5.769433e+09  "
      ]
     },
     "execution_count": 11,
     "metadata": {},
     "output_type": "execute_result"
    }
   ],
   "source": [
    "benchmark_df"
   ]
  },
  {
   "cell_type": "code",
   "execution_count": 12,
   "id": "e1a6d962-50bc-4c8d-a6f2-3a661da706b4",
   "metadata": {
    "execution": {
     "iopub.execute_input": "2021-09-02T04:42:31.373630Z",
     "iopub.status.busy": "2021-09-02T04:42:31.372522Z",
     "iopub.status.idle": "2021-09-02T04:42:31.375785Z",
     "shell.execute_reply": "2021-09-02T04:42:31.376640Z"
    },
    "papermill": {
     "duration": 0.028705,
     "end_time": "2021-09-02T04:42:31.376909",
     "exception": false,
     "start_time": "2021-09-02T04:42:31.348204",
     "status": "completed"
    },
    "tags": []
   },
   "outputs": [],
   "source": [
    "index_assemblies_runtime = simulation_dir_path / 'assemblies-index-info.tsv'\n",
    "benchmark_df.to_csv(index_assemblies_runtime, sep='\\t', index=False)"
   ]
  },
  {
   "cell_type": "markdown",
   "id": "6cb7673b-9f85-4c43-b2e2-93538497a196",
   "metadata": {
    "papermill": {
     "duration": 0.015432,
     "end_time": "2021-09-02T04:42:31.422734",
     "exception": false,
     "start_time": "2021-09-02T04:42:31.407302",
     "status": "completed"
    },
    "tags": []
   },
   "source": [
    "# 3. Export trees"
   ]
  },
  {
   "cell_type": "code",
   "execution_count": 13,
   "id": "5280f82c-5434-4391-8c44-b937a7c95bd5",
   "metadata": {
    "execution": {
     "iopub.execute_input": "2021-09-02T04:42:31.472210Z",
     "iopub.status.busy": "2021-09-02T04:42:31.463742Z",
     "iopub.status.idle": "2021-09-02T04:42:37.361891Z",
     "shell.execute_reply": "2021-09-02T04:42:37.362738Z"
    },
    "papermill": {
     "duration": 5.925122,
     "end_time": "2021-09-02T04:42:37.363048",
     "exception": false,
     "start_time": "2021-09-02T04:42:31.437926",
     "status": "completed"
    },
    "tags": []
   },
   "outputs": [
    {
     "name": "stdout",
     "output_type": "stream",
     "text": [
      "Wrote assemblies tree to simulations/cov-40/index-assemblies/assemblies.tre\n"
     ]
    },
    {
     "name": "stdout",
     "output_type": "stream",
     "text": [
      "Wrote assemblies tree to simulations/cov-40/index-reads/reads.tre\n"
     ]
    }
   ],
   "source": [
    "!gdi --project-dir {index_assemblies_path} export tree {reference_name} > {output_assemblies_tree}\n",
    "print(f'Wrote assemblies tree to {output_assemblies_tree}')\n",
    "\n",
    "!gdi --project-dir {index_reads_path} export tree {reference_name} > {output_reads_tree}\n",
    "print(f'Wrote assemblies tree to {output_reads_tree}')"
   ]
  }
 ],
 "metadata": {
  "kernelspec": {
   "display_name": "Python 3 (ipykernel)",
   "language": "python",
   "name": "python3"
  },
  "language_info": {
   "codemirror_mode": {
    "name": "ipython",
    "version": 3
   },
   "file_extension": ".py",
   "mimetype": "text/x-python",
   "name": "python",
   "nbconvert_exporter": "python",
   "pygments_lexer": "ipython3",
   "version": "3.8.10"
  },
  "papermill": {
   "default_parameters": {},
   "duration": 1262.981913,
   "end_time": "2021-09-02T04:42:37.907591",
   "environment_variables": {},
   "exception": null,
   "input_path": "template-3-index-genomes.ipynb",
   "output_path": "3-index-genomes.simulation-cov-40.ipynb",
   "parameters": {
    "iterations": 3,
    "mincov": 10,
    "read_coverage": 40,
    "simulation_dir": "simulations/cov-40"
   },
   "start_time": "2021-09-02T04:21:34.925678",
   "version": "2.3.3"
  }
 },
 "nbformat": 4,
 "nbformat_minor": 5
}