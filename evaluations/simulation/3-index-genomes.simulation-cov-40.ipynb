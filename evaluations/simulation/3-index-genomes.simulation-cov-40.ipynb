{
 "cells": [
  {
   "cell_type": "markdown",
   "id": "7d3667b4-b1f8-4347-96e3-830c25b06740",
   "metadata": {
    "papermill": {
     "duration": 0.018456,
     "end_time": "2021-09-11T22:40:39.807045",
     "exception": false,
     "start_time": "2021-09-11T22:40:39.788589",
     "status": "completed"
    },
    "tags": []
   },
   "source": [
    "# 1. Parameters"
   ]
  },
  {
   "cell_type": "code",
   "execution_count": 1,
   "id": "d4ab0749-b286-4c34-b63c-a854e4952bae",
   "metadata": {
    "execution": {
     "iopub.execute_input": "2021-09-11T22:40:39.837364Z",
     "iopub.status.busy": "2021-09-11T22:40:39.836955Z",
     "iopub.status.idle": "2021-09-11T22:40:39.841691Z",
     "shell.execute_reply": "2021-09-11T22:40:39.841180Z"
    },
    "papermill": {
     "duration": 0.024651,
     "end_time": "2021-09-11T22:40:39.841821",
     "exception": false,
     "start_time": "2021-09-11T22:40:39.817170",
     "status": "completed"
    },
    "tags": [
     "parameters"
    ]
   },
   "outputs": [],
   "source": [
    "# Defaults\n",
    "simulation_dir = 'simulations/unset'\n",
    "reference_file = 'simulations/reference/reference.fa.gz'\n",
    "iterations = 3\n",
    "mincov = 10\n",
    "ncores = 32"
   ]
  },
  {
   "cell_type": "code",
   "execution_count": 2,
   "id": "2d141704",
   "metadata": {
    "execution": {
     "iopub.execute_input": "2021-09-11T22:40:39.865063Z",
     "iopub.status.busy": "2021-09-11T22:40:39.864661Z",
     "iopub.status.idle": "2021-09-11T22:40:39.867367Z",
     "shell.execute_reply": "2021-09-11T22:40:39.867663Z"
    },
    "papermill": {
     "duration": 0.016886,
     "end_time": "2021-09-11T22:40:39.867765",
     "exception": false,
     "start_time": "2021-09-11T22:40:39.850879",
     "status": "completed"
    },
    "tags": [
     "injected-parameters"
    ]
   },
   "outputs": [],
   "source": [
    "# Parameters\n",
    "read_coverage = 40\n",
    "mincov = 10\n",
    "simulation_dir = \"simulations/cov-40\"\n",
    "iterations = 3\n",
    "sub_alpha = 0.2\n"
   ]
  },
  {
   "cell_type": "code",
   "execution_count": 3,
   "id": "ce5962e4-261c-4210-b39b-47044e28466b",
   "metadata": {
    "execution": {
     "iopub.execute_input": "2021-09-11T22:40:39.892185Z",
     "iopub.status.busy": "2021-09-11T22:40:39.891766Z",
     "iopub.status.idle": "2021-09-11T22:40:42.150959Z",
     "shell.execute_reply": "2021-09-11T22:40:42.149995Z"
    },
    "papermill": {
     "duration": 2.274721,
     "end_time": "2021-09-11T22:40:42.151221",
     "exception": false,
     "start_time": "2021-09-11T22:40:39.876500",
     "status": "completed"
    },
    "tags": []
   },
   "outputs": [],
   "source": [
    "from pathlib import Path\n",
    "import imp\n",
    "fp, pathname, description = imp.find_module('gdi_benchmark', ['../../lib'])\n",
    "gdi_benchmark = imp.load_module('gdi_benchmark', fp, pathname, description)\n",
    "\n",
    "simulation_dir_path = Path(simulation_dir)\n",
    "\n",
    "case_name = str(simulation_dir_path.name)\n",
    "reads_dir = simulation_dir_path / 'simulated_data' / 'reads'\n",
    "assemblies_dir = simulation_dir_path / 'simulated_data' / 'assemblies'\n",
    "index_reads_path = simulation_dir_path / 'index-reads'\n",
    "index_assemblies_path = simulation_dir_path / 'index-assemblies'\n",
    "output_reads_tree = index_reads_path / 'reads.tre'\n",
    "output_assemblies_tree = index_assemblies_path / 'assemblies.tre'\n",
    "reference_name = Path(reference_file).name.split('.')[0]"
   ]
  },
  {
   "cell_type": "markdown",
   "id": "f208279e-7558-47fc-9362-da29df92828a",
   "metadata": {
    "papermill": {
     "duration": 0.010272,
     "end_time": "2021-09-11T22:40:42.179538",
     "exception": false,
     "start_time": "2021-09-11T22:40:42.169266",
     "status": "completed"
    },
    "tags": []
   },
   "source": [
    "# 2. Index genomes"
   ]
  },
  {
   "cell_type": "code",
   "execution_count": 4,
   "id": "4e936f7c-2fcd-4188-b0e6-6b3ceb5cdcd2",
   "metadata": {
    "execution": {
     "iopub.execute_input": "2021-09-11T22:40:42.210966Z",
     "iopub.status.busy": "2021-09-11T22:40:42.209898Z",
     "iopub.status.idle": "2021-09-11T22:40:44.837062Z",
     "shell.execute_reply": "2021-09-11T22:40:44.837949Z"
    },
    "papermill": {
     "duration": 2.651018,
     "end_time": "2021-09-11T22:40:44.838278",
     "exception": false,
     "start_time": "2021-09-11T22:40:42.187260",
     "status": "completed"
    },
    "tags": []
   },
   "outputs": [
    {
     "name": "stdout",
     "output_type": "stream",
     "text": [
      "gdi, version 0.3.0.dev12\r\n"
     ]
    }
   ],
   "source": [
    "!gdi --version"
   ]
  },
  {
   "cell_type": "markdown",
   "id": "5409ecf8-2158-4361-9d2f-6b1a6c7c63a6",
   "metadata": {
    "papermill": {
     "duration": 0.010233,
     "end_time": "2021-09-11T22:40:44.866089",
     "exception": false,
     "start_time": "2021-09-11T22:40:44.855856",
     "status": "completed"
    },
    "tags": []
   },
   "source": [
    "## 2.1. Index reads"
   ]
  },
  {
   "cell_type": "code",
   "execution_count": 5,
   "id": "b5324f79-913b-4dac-8122-19ad5c0f24b2",
   "metadata": {
    "execution": {
     "iopub.execute_input": "2021-09-11T22:40:44.887857Z",
     "iopub.status.busy": "2021-09-11T22:40:44.887384Z",
     "iopub.status.idle": "2021-09-11T22:40:47.573375Z",
     "shell.execute_reply": "2021-09-11T22:40:47.574324Z"
    },
    "papermill": {
     "duration": 2.701741,
     "end_time": "2021-09-11T22:40:47.574641",
     "exception": false,
     "start_time": "2021-09-11T22:40:44.872900",
     "status": "completed"
    },
    "tags": []
   },
   "outputs": [],
   "source": [
    "input_genomes_file = simulation_dir_path / 'input-reads.tsv'\n",
    "\n",
    "!gdi input --absolute {reads_dir}/*.fq.gz > {input_genomes_file}"
   ]
  },
  {
   "cell_type": "code",
   "execution_count": 6,
   "id": "3d63e861-733e-46f2-8bce-bd1a2c7c7058",
   "metadata": {
    "execution": {
     "iopub.execute_input": "2021-09-11T22:40:47.614664Z",
     "iopub.status.busy": "2021-09-11T22:40:47.614255Z",
     "iopub.status.idle": "2021-09-11T22:51:19.914674Z",
     "shell.execute_reply": "2021-09-11T22:51:19.913525Z"
    },
    "papermill": {
     "duration": 632.32289,
     "end_time": "2021-09-11T22:51:19.915205",
     "exception": false,
     "start_time": "2021-09-11T22:40:47.592315",
     "status": "completed"
    },
    "tags": []
   },
   "outputs": [
    {
     "name": "stdout",
     "output_type": "stream",
     "text": [
      "\n",
      "Iteration 1 of index/analysis of 59 samples with 32 cores\n",
      "Removing any extra snakemake directories: ['snakemake-assemblies.1631399839.280497']\n"
     ]
    },
    {
     "name": "stdout",
     "output_type": "stream",
     "text": [
      "Creating new index: [gdi init simulations/cov-40/index-reads]\n"
     ]
    },
    {
     "name": "stdout",
     "output_type": "stream",
     "text": [
      "Creating a new index took 2.64 seconds\n",
      "Analysis running: [gdi --project-dir simulations/cov-40/index-reads --ncores 32 analysis --use-conda --no-load-data --reference-file simulations/reference/reference.fa.gz --kmer-size 31 --kmer-size 51 --kmer-size 71 --include-kmer --reads-mincov 10 --input-structured-genomes-file simulations/cov-40/input-reads.tsv]\n"
     ]
    },
    {
     "name": "stdout",
     "output_type": "stream",
     "text": [
      "Analysis took 1.75 minutes\n",
      "Index running: [gdi --project-dir simulations/cov-40/index-reads --ncores 32 load vcf-kmer --reference-file simulations/reference/reference.fa.gz /home/CSCScience.ca/apetkau/workspace/genomics-data-index-evaluation/evaluations/simulation/snakemake-assemblies.1631400054.7670827/gdi-input.fofn]\n"
     ]
    },
    {
     "name": "stdout",
     "output_type": "stream",
     "text": [
      "Indexing took 0.13 minutes\n",
      "Building tree: [gdi --project-dir simulations/cov-40/index-reads --ncores 32 rebuild tree --align-type full --extra-params '--fast -m GTR+F+R4' reference]\n"
     ]
    },
    {
     "name": "stdout",
     "output_type": "stream",
     "text": [
      "Building tree took 1.56 minutes\n"
     ]
    },
    {
     "name": "stderr",
     "output_type": "stream",
     "text": [
      "A reminder to myself to look for a Python solution for directory sizes (instead of running `du`)\n"
     ]
    },
    {
     "name": "stdout",
     "output_type": "stream",
     "text": [
      "\n",
      "Iteration 2 of index/analysis of 59 samples with 32 cores\n",
      "Removing any extra snakemake directories: ['snakemake-assemblies.1631400054.7670827']\n"
     ]
    },
    {
     "name": "stdout",
     "output_type": "stream",
     "text": [
      "Removing any existing indexes simulations/cov-40/index-reads\n",
      "Creating new index: [gdi init simulations/cov-40/index-reads]\n"
     ]
    },
    {
     "name": "stdout",
     "output_type": "stream",
     "text": [
      "Creating a new index took 2.70 seconds\n",
      "Analysis running: [gdi --project-dir simulations/cov-40/index-reads --ncores 32 analysis --use-conda --no-load-data --reference-file simulations/reference/reference.fa.gz --kmer-size 31 --kmer-size 51 --kmer-size 71 --include-kmer --reads-mincov 10 --input-structured-genomes-file simulations/cov-40/input-reads.tsv]\n"
     ]
    },
    {
     "name": "stdout",
     "output_type": "stream",
     "text": [
      "Analysis took 1.70 minutes\n",
      "Index running: [gdi --project-dir simulations/cov-40/index-reads --ncores 32 load vcf-kmer --reference-file simulations/reference/reference.fa.gz /home/CSCScience.ca/apetkau/workspace/genomics-data-index-evaluation/evaluations/simulation/snakemake-assemblies.1631400264.827018/gdi-input.fofn]\n"
     ]
    },
    {
     "name": "stdout",
     "output_type": "stream",
     "text": [
      "Indexing took 0.12 minutes\n",
      "Building tree: [gdi --project-dir simulations/cov-40/index-reads --ncores 32 rebuild tree --align-type full --extra-params '--fast -m GTR+F+R4' reference]\n"
     ]
    },
    {
     "name": "stdout",
     "output_type": "stream",
     "text": [
      "Building tree took 1.57 minutes\n"
     ]
    },
    {
     "name": "stderr",
     "output_type": "stream",
     "text": [
      "Attempting to set global database_path_translator=<genomics_data_index.storage.model.db.DatabasePathTranslator.DatabasePathTranslator object at 0x7faec8135a30> but it is already set\n"
     ]
    },
    {
     "name": "stderr",
     "output_type": "stream",
     "text": [
      "A reminder to myself to look for a Python solution for directory sizes (instead of running `du`)\n"
     ]
    },
    {
     "name": "stdout",
     "output_type": "stream",
     "text": [
      "\n",
      "Iteration 3 of index/analysis of 59 samples with 32 cores\n",
      "Removing any extra snakemake directories: ['snakemake-assemblies.1631400264.827018']\n"
     ]
    },
    {
     "name": "stdout",
     "output_type": "stream",
     "text": [
      "Removing any existing indexes simulations/cov-40/index-reads\n",
      "Creating new index: [gdi init simulations/cov-40/index-reads]\n"
     ]
    },
    {
     "name": "stdout",
     "output_type": "stream",
     "text": [
      "Creating a new index took 2.68 seconds\n",
      "Analysis running: [gdi --project-dir simulations/cov-40/index-reads --ncores 32 analysis --use-conda --no-load-data --reference-file simulations/reference/reference.fa.gz --kmer-size 31 --kmer-size 51 --kmer-size 71 --include-kmer --reads-mincov 10 --input-structured-genomes-file simulations/cov-40/input-reads.tsv]\n"
     ]
    },
    {
     "name": "stdout",
     "output_type": "stream",
     "text": [
      "Analysis took 1.76 minutes\n",
      "Index running: [gdi --project-dir simulations/cov-40/index-reads --ncores 32 load vcf-kmer --reference-file simulations/reference/reference.fa.gz /home/CSCScience.ca/apetkau/workspace/genomics-data-index-evaluation/evaluations/simulation/snakemake-assemblies.1631400473.3101196/gdi-input.fofn]\n"
     ]
    },
    {
     "name": "stdout",
     "output_type": "stream",
     "text": [
      "Indexing took 0.12 minutes\n",
      "Building tree: [gdi --project-dir simulations/cov-40/index-reads --ncores 32 rebuild tree --align-type full --extra-params '--fast -m GTR+F+R4' reference]\n"
     ]
    },
    {
     "name": "stdout",
     "output_type": "stream",
     "text": [
      "Building tree took 1.60 minutes\n"
     ]
    },
    {
     "name": "stderr",
     "output_type": "stream",
     "text": [
      "Attempting to set global database_path_translator=<genomics_data_index.storage.model.db.DatabasePathTranslator.DatabasePathTranslator object at 0x7faec808a490> but it is already set\n"
     ]
    },
    {
     "name": "stderr",
     "output_type": "stream",
     "text": [
      "A reminder to myself to look for a Python solution for directory sizes (instead of running `du`)\n"
     ]
    }
   ],
   "source": [
    "results_handler = gdi_benchmark.BenchmarkResultsHandler(name=f'{case_name} reads')\n",
    "benchmarker = gdi_benchmark.IndexBenchmarker(benchmark_results_handler=results_handler,\n",
    "                                             index_path=index_reads_path, input_files_file=input_genomes_file,\n",
    "                                             reference_file=reference_file, mincov=mincov, build_tree=True,\n",
    "                                             ncores=ncores)\n",
    "\n",
    "benchmark_df = benchmarker.benchmark(iterations=iterations)"
   ]
  },
  {
   "cell_type": "code",
   "execution_count": 7,
   "id": "3bcb6da7-0164-47f2-abdd-a4c159da1e3b",
   "metadata": {
    "execution": {
     "iopub.execute_input": "2021-09-11T22:51:19.971008Z",
     "iopub.status.busy": "2021-09-11T22:51:19.963013Z",
     "iopub.status.idle": "2021-09-11T22:51:19.988762Z",
     "shell.execute_reply": "2021-09-11T22:51:19.989507Z"
    },
    "papermill": {
     "duration": 0.052289,
     "end_time": "2021-09-11T22:51:19.989739",
     "exception": false,
     "start_time": "2021-09-11T22:51:19.937450",
     "status": "completed"
    },
    "tags": []
   },
   "outputs": [
    {
     "data": {
      "text/html": [
       "<div>\n",
       "<style scoped>\n",
       "    .dataframe tbody tr th:only-of-type {\n",
       "        vertical-align: middle;\n",
       "    }\n",
       "\n",
       "    .dataframe tbody tr th {\n",
       "        vertical-align: top;\n",
       "    }\n",
       "\n",
       "    .dataframe thead th {\n",
       "        text-align: right;\n",
       "    }\n",
       "</style>\n",
       "<table border=\"1\" class=\"dataframe\">\n",
       "  <thead>\n",
       "    <tr style=\"text-align: right;\">\n",
       "      <th></th>\n",
       "      <th>Name</th>\n",
       "      <th>Iteration</th>\n",
       "      <th>Number samples</th>\n",
       "      <th>Number features (all)</th>\n",
       "      <th>Number features (no unknown)</th>\n",
       "      <th>Number cores</th>\n",
       "      <th>Reference length</th>\n",
       "      <th>Analysis runtime</th>\n",
       "      <th>Analysis memory (max)</th>\n",
       "      <th>Analysis memory (max/process)</th>\n",
       "      <th>Analysis disk uage</th>\n",
       "      <th>Index runtime</th>\n",
       "      <th>Index memory (max)</th>\n",
       "      <th>Index memory (max/process)</th>\n",
       "      <th>Index size</th>\n",
       "      <th>Tree runtime</th>\n",
       "      <th>Tree memory (max)</th>\n",
       "      <th>Tree memory (max/process)</th>\n",
       "      <th>Total runtime</th>\n",
       "      <th>Max memory</th>\n",
       "    </tr>\n",
       "  </thead>\n",
       "  <tbody>\n",
       "    <tr>\n",
       "      <th>0</th>\n",
       "      <td>cov-40 reads</td>\n",
       "      <td>1</td>\n",
       "      <td>59</td>\n",
       "      <td>2859</td>\n",
       "      <td>1321</td>\n",
       "      <td>32</td>\n",
       "      <td>19699</td>\n",
       "      <td>104.35</td>\n",
       "      <td>2.759533e+09</td>\n",
       "      <td>400556032.0</td>\n",
       "      <td>3.299594e+09</td>\n",
       "      <td>7.41</td>\n",
       "      <td>5.801243e+09</td>\n",
       "      <td>269320192.0</td>\n",
       "      <td>2138112.0</td>\n",
       "      <td>93.54</td>\n",
       "      <td>253947904.0</td>\n",
       "      <td>222937088.0</td>\n",
       "      <td>205.30</td>\n",
       "      <td>5.801243e+09</td>\n",
       "    </tr>\n",
       "    <tr>\n",
       "      <th>0</th>\n",
       "      <td>cov-40 reads</td>\n",
       "      <td>2</td>\n",
       "      <td>59</td>\n",
       "      <td>2859</td>\n",
       "      <td>1321</td>\n",
       "      <td>32</td>\n",
       "      <td>19699</td>\n",
       "      <td>102.18</td>\n",
       "      <td>2.615190e+09</td>\n",
       "      <td>386134016.0</td>\n",
       "      <td>3.299590e+09</td>\n",
       "      <td>7.18</td>\n",
       "      <td>5.787558e+09</td>\n",
       "      <td>269082624.0</td>\n",
       "      <td>2146304.0</td>\n",
       "      <td>94.27</td>\n",
       "      <td>254582784.0</td>\n",
       "      <td>223100928.0</td>\n",
       "      <td>203.63</td>\n",
       "      <td>5.787558e+09</td>\n",
       "    </tr>\n",
       "    <tr>\n",
       "      <th>0</th>\n",
       "      <td>cov-40 reads</td>\n",
       "      <td>3</td>\n",
       "      <td>59</td>\n",
       "      <td>2859</td>\n",
       "      <td>1321</td>\n",
       "      <td>32</td>\n",
       "      <td>19699</td>\n",
       "      <td>105.54</td>\n",
       "      <td>2.537189e+09</td>\n",
       "      <td>398733312.0</td>\n",
       "      <td>3.299602e+09</td>\n",
       "      <td>7.26</td>\n",
       "      <td>5.795549e+09</td>\n",
       "      <td>269258752.0</td>\n",
       "      <td>2134016.0</td>\n",
       "      <td>95.89</td>\n",
       "      <td>253972480.0</td>\n",
       "      <td>222851072.0</td>\n",
       "      <td>208.69</td>\n",
       "      <td>5.795549e+09</td>\n",
       "    </tr>\n",
       "  </tbody>\n",
       "</table>\n",
       "</div>"
      ],
      "text/plain": [
       "           Name  Iteration  Number samples  Number features (all)  \\\n",
       "0  cov-40 reads          1              59                   2859   \n",
       "0  cov-40 reads          2              59                   2859   \n",
       "0  cov-40 reads          3              59                   2859   \n",
       "\n",
       "   Number features (no unknown)  Number cores  Reference length  \\\n",
       "0                          1321            32             19699   \n",
       "0                          1321            32             19699   \n",
       "0                          1321            32             19699   \n",
       "\n",
       "   Analysis runtime  Analysis memory (max)  Analysis memory (max/process)  \\\n",
       "0            104.35           2.759533e+09                    400556032.0   \n",
       "0            102.18           2.615190e+09                    386134016.0   \n",
       "0            105.54           2.537189e+09                    398733312.0   \n",
       "\n",
       "   Analysis disk uage  Index runtime  Index memory (max)  \\\n",
       "0        3.299594e+09           7.41        5.801243e+09   \n",
       "0        3.299590e+09           7.18        5.787558e+09   \n",
       "0        3.299602e+09           7.26        5.795549e+09   \n",
       "\n",
       "   Index memory (max/process)  Index size  Tree runtime  Tree memory (max)  \\\n",
       "0                 269320192.0   2138112.0         93.54        253947904.0   \n",
       "0                 269082624.0   2146304.0         94.27        254582784.0   \n",
       "0                 269258752.0   2134016.0         95.89        253972480.0   \n",
       "\n",
       "   Tree memory (max/process)  Total runtime    Max memory  \n",
       "0                222937088.0         205.30  5.801243e+09  \n",
       "0                223100928.0         203.63  5.787558e+09  \n",
       "0                222851072.0         208.69  5.795549e+09  "
      ]
     },
     "execution_count": 7,
     "metadata": {},
     "output_type": "execute_result"
    }
   ],
   "source": [
    "benchmark_df"
   ]
  },
  {
   "cell_type": "code",
   "execution_count": 8,
   "id": "535a9ccc-ab9c-4919-806f-128e1efd2389",
   "metadata": {
    "execution": {
     "iopub.execute_input": "2021-09-11T22:51:20.030110Z",
     "iopub.status.busy": "2021-09-11T22:51:20.029702Z",
     "iopub.status.idle": "2021-09-11T22:51:20.037113Z",
     "shell.execute_reply": "2021-09-11T22:51:20.037504Z"
    },
    "papermill": {
     "duration": 0.025929,
     "end_time": "2021-09-11T22:51:20.037638",
     "exception": false,
     "start_time": "2021-09-11T22:51:20.011709",
     "status": "completed"
    },
    "tags": []
   },
   "outputs": [],
   "source": [
    "index_reads_runtime = simulation_dir_path / 'reads-index-info.tsv'\n",
    "benchmark_df.to_csv(index_reads_runtime, sep='\\t', index=False)"
   ]
  },
  {
   "cell_type": "markdown",
   "id": "c331578f-4026-4a9f-a3ba-288814b02ed2",
   "metadata": {
    "papermill": {
     "duration": 0.011381,
     "end_time": "2021-09-11T22:51:20.064207",
     "exception": false,
     "start_time": "2021-09-11T22:51:20.052826",
     "status": "completed"
    },
    "tags": []
   },
   "source": [
    "## 2.2. Index assemblies"
   ]
  },
  {
   "cell_type": "code",
   "execution_count": 9,
   "id": "6e6664f4-94ee-4c45-b1fc-e048b387fa49",
   "metadata": {
    "execution": {
     "iopub.execute_input": "2021-09-11T22:51:20.103578Z",
     "iopub.status.busy": "2021-09-11T22:51:20.103014Z",
     "iopub.status.idle": "2021-09-11T22:51:22.767490Z",
     "shell.execute_reply": "2021-09-11T22:51:22.768378Z"
    },
    "papermill": {
     "duration": 2.693448,
     "end_time": "2021-09-11T22:51:22.768692",
     "exception": false,
     "start_time": "2021-09-11T22:51:20.075244",
     "status": "completed"
    },
    "tags": []
   },
   "outputs": [],
   "source": [
    "input_genomes_file = simulation_dir_path / 'input-assemblies.tsv'\n",
    "\n",
    "!gdi input --absolute {assemblies_dir}/*.fa.gz > {input_genomes_file}"
   ]
  },
  {
   "cell_type": "code",
   "execution_count": 10,
   "id": "0a1e62f3-3b0c-4a90-a7fe-f0bc1094e350",
   "metadata": {
    "execution": {
     "iopub.execute_input": "2021-09-11T22:51:22.817925Z",
     "iopub.status.busy": "2021-09-11T22:51:22.817394Z",
     "iopub.status.idle": "2021-09-11T23:01:25.052490Z",
     "shell.execute_reply": "2021-09-11T23:01:25.053423Z"
    },
    "papermill": {
     "duration": 602.258895,
     "end_time": "2021-09-11T23:01:25.053758",
     "exception": false,
     "start_time": "2021-09-11T22:51:22.794863",
     "status": "completed"
    },
    "tags": []
   },
   "outputs": [
    {
     "name": "stdout",
     "output_type": "stream",
     "text": [
      "\n",
      "Iteration 1 of index/analysis of 59 samples with 32 cores\n",
      "Removing any extra snakemake directories: ['snakemake-assemblies.1631400473.3101196']\n"
     ]
    },
    {
     "name": "stdout",
     "output_type": "stream",
     "text": [
      "Creating new index: [gdi init simulations/cov-40/index-assemblies]\n"
     ]
    },
    {
     "name": "stdout",
     "output_type": "stream",
     "text": [
      "Creating a new index took 2.82 seconds\n",
      "Analysis running: [gdi --project-dir simulations/cov-40/index-assemblies --ncores 32 analysis --use-conda --no-load-data --reference-file simulations/reference/reference.fa.gz --kmer-size 31 --kmer-size 51 --kmer-size 71 --include-kmer --reads-mincov 10 --input-structured-genomes-file simulations/cov-40/input-assemblies.tsv]\n"
     ]
    },
    {
     "name": "stdout",
     "output_type": "stream",
     "text": [
      "Analysis took 1.54 minutes\n",
      "Index running: [gdi --project-dir simulations/cov-40/index-assemblies --ncores 32 load vcf-kmer --reference-file simulations/reference/reference.fa.gz /home/CSCScience.ca/apetkau/workspace/genomics-data-index-evaluation/evaluations/simulation/snakemake-assemblies.1631400689.8985736/gdi-input.fofn]\n"
     ]
    },
    {
     "name": "stdout",
     "output_type": "stream",
     "text": [
      "Indexing took 0.11 minutes\n",
      "Building tree: [gdi --project-dir simulations/cov-40/index-assemblies --ncores 32 rebuild tree --align-type full --extra-params '--fast -m GTR+F+R4' reference]\n"
     ]
    },
    {
     "name": "stdout",
     "output_type": "stream",
     "text": [
      "Building tree took 1.60 minutes\n"
     ]
    },
    {
     "name": "stderr",
     "output_type": "stream",
     "text": [
      "Attempting to set global database_path_translator=<genomics_data_index.storage.model.db.DatabasePathTranslator.DatabasePathTranslator object at 0x7faed0827bb0> but it is already set\n"
     ]
    },
    {
     "name": "stderr",
     "output_type": "stream",
     "text": [
      "A reminder to myself to look for a Python solution for directory sizes (instead of running `du`)\n"
     ]
    },
    {
     "name": "stdout",
     "output_type": "stream",
     "text": [
      "\n",
      "Iteration 2 of index/analysis of 59 samples with 32 cores\n",
      "Removing any extra snakemake directories: ['snakemake-assemblies.1631400689.8985736']\n"
     ]
    },
    {
     "name": "stdout",
     "output_type": "stream",
     "text": [
      "Removing any existing indexes simulations/cov-40/index-assemblies\n",
      "Creating new index: [gdi init simulations/cov-40/index-assemblies]\n"
     ]
    },
    {
     "name": "stdout",
     "output_type": "stream",
     "text": [
      "Creating a new index took 2.75 seconds\n",
      "Analysis running: [gdi --project-dir simulations/cov-40/index-assemblies --ncores 32 analysis --use-conda --no-load-data --reference-file simulations/reference/reference.fa.gz --kmer-size 31 --kmer-size 51 --kmer-size 71 --include-kmer --reads-mincov 10 --input-structured-genomes-file simulations/cov-40/input-assemblies.tsv]\n"
     ]
    },
    {
     "name": "stdout",
     "output_type": "stream",
     "text": [
      "Analysis took 1.51 minutes\n",
      "Index running: [gdi --project-dir simulations/cov-40/index-assemblies --ncores 32 load vcf-kmer --reference-file simulations/reference/reference.fa.gz /home/CSCScience.ca/apetkau/workspace/genomics-data-index-evaluation/evaluations/simulation/snakemake-assemblies.1631400888.8960304/gdi-input.fofn]\n"
     ]
    },
    {
     "name": "stdout",
     "output_type": "stream",
     "text": [
      "Indexing took 0.11 minutes\n",
      "Building tree: [gdi --project-dir simulations/cov-40/index-assemblies --ncores 32 rebuild tree --align-type full --extra-params '--fast -m GTR+F+R4' reference]\n"
     ]
    },
    {
     "name": "stdout",
     "output_type": "stream",
     "text": [
      "Building tree took 1.70 minutes\n"
     ]
    },
    {
     "name": "stderr",
     "output_type": "stream",
     "text": [
      "Attempting to set global database_path_translator=<genomics_data_index.storage.model.db.DatabasePathTranslator.DatabasePathTranslator object at 0x7faebffba580> but it is already set\n"
     ]
    },
    {
     "name": "stderr",
     "output_type": "stream",
     "text": [
      "A reminder to myself to look for a Python solution for directory sizes (instead of running `du`)\n"
     ]
    },
    {
     "name": "stdout",
     "output_type": "stream",
     "text": [
      "\n",
      "Iteration 3 of index/analysis of 59 samples with 32 cores\n",
      "Removing any extra snakemake directories: ['snakemake-assemblies.1631400888.8960304']\n"
     ]
    },
    {
     "name": "stdout",
     "output_type": "stream",
     "text": [
      "Removing any existing indexes simulations/cov-40/index-assemblies\n",
      "Creating new index: [gdi init simulations/cov-40/index-assemblies]\n"
     ]
    },
    {
     "name": "stdout",
     "output_type": "stream",
     "text": [
      "Creating a new index took 2.68 seconds\n",
      "Analysis running: [gdi --project-dir simulations/cov-40/index-assemblies --ncores 32 analysis --use-conda --no-load-data --reference-file simulations/reference/reference.fa.gz --kmer-size 31 --kmer-size 51 --kmer-size 71 --include-kmer --reads-mincov 10 --input-structured-genomes-file simulations/cov-40/input-assemblies.tsv]\n"
     ]
    },
    {
     "name": "stdout",
     "output_type": "stream",
     "text": [
      "Analysis took 1.74 minutes\n",
      "Index running: [gdi --project-dir simulations/cov-40/index-assemblies --ncores 32 load vcf-kmer --reference-file simulations/reference/reference.fa.gz /home/CSCScience.ca/apetkau/workspace/genomics-data-index-evaluation/evaluations/simulation/snakemake-assemblies.1631401092.1737142/gdi-input.fofn]\n"
     ]
    },
    {
     "name": "stdout",
     "output_type": "stream",
     "text": [
      "Indexing took 0.12 minutes\n",
      "Building tree: [gdi --project-dir simulations/cov-40/index-assemblies --ncores 32 rebuild tree --align-type full --extra-params '--fast -m GTR+F+R4' reference]\n"
     ]
    },
    {
     "name": "stdout",
     "output_type": "stream",
     "text": [
      "Building tree took 1.39 minutes\n"
     ]
    },
    {
     "name": "stderr",
     "output_type": "stream",
     "text": [
      "Attempting to set global database_path_translator=<genomics_data_index.storage.model.db.DatabasePathTranslator.DatabasePathTranslator object at 0x7faec808afd0> but it is already set\n"
     ]
    },
    {
     "name": "stderr",
     "output_type": "stream",
     "text": [
      "A reminder to myself to look for a Python solution for directory sizes (instead of running `du`)\n"
     ]
    }
   ],
   "source": [
    "results_handler = gdi_benchmark.BenchmarkResultsHandler(name=f'{case_name} assemblies')\n",
    "benchmarker = gdi_benchmark.IndexBenchmarker(benchmark_results_handler=results_handler,\n",
    "                                             index_path=index_assemblies_path, input_files_file=input_genomes_file,\n",
    "                                             reference_file=reference_file, mincov=mincov, build_tree=True,\n",
    "                                             ncores=ncores)\n",
    "\n",
    "benchmark_df = benchmarker.benchmark(iterations=iterations)"
   ]
  },
  {
   "cell_type": "code",
   "execution_count": 11,
   "id": "a6d55a9d-be2f-4851-b66c-04b5ebd597a1",
   "metadata": {
    "execution": {
     "iopub.execute_input": "2021-09-11T23:01:25.133733Z",
     "iopub.status.busy": "2021-09-11T23:01:25.124557Z",
     "iopub.status.idle": "2021-09-11T23:01:25.137966Z",
     "shell.execute_reply": "2021-09-11T23:01:25.138836Z"
    },
    "papermill": {
     "duration": 0.05366,
     "end_time": "2021-09-11T23:01:25.139129",
     "exception": false,
     "start_time": "2021-09-11T23:01:25.085469",
     "status": "completed"
    },
    "tags": []
   },
   "outputs": [
    {
     "data": {
      "text/html": [
       "<div>\n",
       "<style scoped>\n",
       "    .dataframe tbody tr th:only-of-type {\n",
       "        vertical-align: middle;\n",
       "    }\n",
       "\n",
       "    .dataframe tbody tr th {\n",
       "        vertical-align: top;\n",
       "    }\n",
       "\n",
       "    .dataframe thead th {\n",
       "        text-align: right;\n",
       "    }\n",
       "</style>\n",
       "<table border=\"1\" class=\"dataframe\">\n",
       "  <thead>\n",
       "    <tr style=\"text-align: right;\">\n",
       "      <th></th>\n",
       "      <th>Name</th>\n",
       "      <th>Iteration</th>\n",
       "      <th>Number samples</th>\n",
       "      <th>Number features (all)</th>\n",
       "      <th>Number features (no unknown)</th>\n",
       "      <th>Number cores</th>\n",
       "      <th>Reference length</th>\n",
       "      <th>Analysis runtime</th>\n",
       "      <th>Analysis memory (max)</th>\n",
       "      <th>Analysis memory (max/process)</th>\n",
       "      <th>Analysis disk uage</th>\n",
       "      <th>Index runtime</th>\n",
       "      <th>Index memory (max)</th>\n",
       "      <th>Index memory (max/process)</th>\n",
       "      <th>Index size</th>\n",
       "      <th>Tree runtime</th>\n",
       "      <th>Tree memory (max)</th>\n",
       "      <th>Tree memory (max/process)</th>\n",
       "      <th>Total runtime</th>\n",
       "      <th>Max memory</th>\n",
       "    </tr>\n",
       "  </thead>\n",
       "  <tbody>\n",
       "    <tr>\n",
       "      <th>0</th>\n",
       "      <td>cov-40 assemblies</td>\n",
       "      <td>1</td>\n",
       "      <td>59</td>\n",
       "      <td>1350</td>\n",
       "      <td>1350</td>\n",
       "      <td>32</td>\n",
       "      <td>19699</td>\n",
       "      <td>92.18</td>\n",
       "      <td>1.242280e+09</td>\n",
       "      <td>370761728.0</td>\n",
       "      <td>2.084598e+09</td>\n",
       "      <td>6.52</td>\n",
       "      <td>5.768692e+09</td>\n",
       "      <td>241262592.0</td>\n",
       "      <td>1359872.0</td>\n",
       "      <td>95.69</td>\n",
       "      <td>240549888.0</td>\n",
       "      <td>223551488.0</td>\n",
       "      <td>194.39</td>\n",
       "      <td>5.768692e+09</td>\n",
       "    </tr>\n",
       "    <tr>\n",
       "      <th>0</th>\n",
       "      <td>cov-40 assemblies</td>\n",
       "      <td>2</td>\n",
       "      <td>59</td>\n",
       "      <td>1350</td>\n",
       "      <td>1350</td>\n",
       "      <td>32</td>\n",
       "      <td>19699</td>\n",
       "      <td>90.49</td>\n",
       "      <td>1.356468e+09</td>\n",
       "      <td>374579200.0</td>\n",
       "      <td>2.084598e+09</td>\n",
       "      <td>6.31</td>\n",
       "      <td>5.762974e+09</td>\n",
       "      <td>241393664.0</td>\n",
       "      <td>1355776.0</td>\n",
       "      <td>101.96</td>\n",
       "      <td>240562176.0</td>\n",
       "      <td>223485952.0</td>\n",
       "      <td>198.76</td>\n",
       "      <td>5.762974e+09</td>\n",
       "    </tr>\n",
       "    <tr>\n",
       "      <th>0</th>\n",
       "      <td>cov-40 assemblies</td>\n",
       "      <td>3</td>\n",
       "      <td>59</td>\n",
       "      <td>1350</td>\n",
       "      <td>1350</td>\n",
       "      <td>32</td>\n",
       "      <td>19699</td>\n",
       "      <td>104.58</td>\n",
       "      <td>1.347215e+09</td>\n",
       "      <td>379428864.0</td>\n",
       "      <td>2.084598e+09</td>\n",
       "      <td>6.84</td>\n",
       "      <td>5.768376e+09</td>\n",
       "      <td>241324032.0</td>\n",
       "      <td>1359872.0</td>\n",
       "      <td>83.54</td>\n",
       "      <td>240357376.0</td>\n",
       "      <td>223244288.0</td>\n",
       "      <td>194.96</td>\n",
       "      <td>5.768376e+09</td>\n",
       "    </tr>\n",
       "  </tbody>\n",
       "</table>\n",
       "</div>"
      ],
      "text/plain": [
       "                Name  Iteration  Number samples  Number features (all)  \\\n",
       "0  cov-40 assemblies          1              59                   1350   \n",
       "0  cov-40 assemblies          2              59                   1350   \n",
       "0  cov-40 assemblies          3              59                   1350   \n",
       "\n",
       "   Number features (no unknown)  Number cores  Reference length  \\\n",
       "0                          1350            32             19699   \n",
       "0                          1350            32             19699   \n",
       "0                          1350            32             19699   \n",
       "\n",
       "   Analysis runtime  Analysis memory (max)  Analysis memory (max/process)  \\\n",
       "0             92.18           1.242280e+09                    370761728.0   \n",
       "0             90.49           1.356468e+09                    374579200.0   \n",
       "0            104.58           1.347215e+09                    379428864.0   \n",
       "\n",
       "   Analysis disk uage  Index runtime  Index memory (max)  \\\n",
       "0        2.084598e+09           6.52        5.768692e+09   \n",
       "0        2.084598e+09           6.31        5.762974e+09   \n",
       "0        2.084598e+09           6.84        5.768376e+09   \n",
       "\n",
       "   Index memory (max/process)  Index size  Tree runtime  Tree memory (max)  \\\n",
       "0                 241262592.0   1359872.0         95.69        240549888.0   \n",
       "0                 241393664.0   1355776.0        101.96        240562176.0   \n",
       "0                 241324032.0   1359872.0         83.54        240357376.0   \n",
       "\n",
       "   Tree memory (max/process)  Total runtime    Max memory  \n",
       "0                223551488.0         194.39  5.768692e+09  \n",
       "0                223485952.0         198.76  5.762974e+09  \n",
       "0                223244288.0         194.96  5.768376e+09  "
      ]
     },
     "execution_count": 11,
     "metadata": {},
     "output_type": "execute_result"
    }
   ],
   "source": [
    "benchmark_df"
   ]
  },
  {
   "cell_type": "code",
   "execution_count": 12,
   "id": "e1a6d962-50bc-4c8d-a6f2-3a661da706b4",
   "metadata": {
    "execution": {
     "iopub.execute_input": "2021-09-11T23:01:25.192898Z",
     "iopub.status.busy": "2021-09-11T23:01:25.191081Z",
     "iopub.status.idle": "2021-09-11T23:01:25.196921Z",
     "shell.execute_reply": "2021-09-11T23:01:25.197775Z"
    },
    "papermill": {
     "duration": 0.029959,
     "end_time": "2021-09-11T23:01:25.198061",
     "exception": false,
     "start_time": "2021-09-11T23:01:25.168102",
     "status": "completed"
    },
    "tags": []
   },
   "outputs": [],
   "source": [
    "index_assemblies_runtime = simulation_dir_path / 'assemblies-index-info.tsv'\n",
    "benchmark_df.to_csv(index_assemblies_runtime, sep='\\t', index=False)"
   ]
  },
  {
   "cell_type": "markdown",
   "id": "6cb7673b-9f85-4c43-b2e2-93538497a196",
   "metadata": {
    "papermill": {
     "duration": 0.015723,
     "end_time": "2021-09-11T23:01:25.244125",
     "exception": false,
     "start_time": "2021-09-11T23:01:25.228402",
     "status": "completed"
    },
    "tags": []
   },
   "source": [
    "# 3. Export trees"
   ]
  },
  {
   "cell_type": "code",
   "execution_count": 13,
   "id": "5280f82c-5434-4391-8c44-b937a7c95bd5",
   "metadata": {
    "execution": {
     "iopub.execute_input": "2021-09-11T23:01:25.295169Z",
     "iopub.status.busy": "2021-09-11T23:01:25.294030Z",
     "iopub.status.idle": "2021-09-11T23:01:31.107180Z",
     "shell.execute_reply": "2021-09-11T23:01:31.108084Z"
    },
    "papermill": {
     "duration": 5.849056,
     "end_time": "2021-09-11T23:01:31.108405",
     "exception": false,
     "start_time": "2021-09-11T23:01:25.259349",
     "status": "completed"
    },
    "tags": []
   },
   "outputs": [
    {
     "name": "stdout",
     "output_type": "stream",
     "text": [
      "Wrote assemblies tree to simulations/cov-40/index-assemblies/assemblies.tre\n"
     ]
    },
    {
     "name": "stdout",
     "output_type": "stream",
     "text": [
      "Wrote assemblies tree to simulations/cov-40/index-reads/reads.tre\n"
     ]
    }
   ],
   "source": [
    "!gdi --project-dir {index_assemblies_path} export tree {reference_name} > {output_assemblies_tree}\n",
    "print(f'Wrote assemblies tree to {output_assemblies_tree}')\n",
    "\n",
    "!gdi --project-dir {index_reads_path} export tree {reference_name} > {output_reads_tree}\n",
    "print(f'Wrote assemblies tree to {output_reads_tree}')"
   ]
  }
 ],
 "metadata": {
  "kernelspec": {
   "display_name": "Python 3 (ipykernel)",
   "language": "python",
   "name": "python3"
  },
  "language_info": {
   "codemirror_mode": {
    "name": "ipython",
    "version": 3
   },
   "file_extension": ".py",
   "mimetype": "text/x-python",
   "name": "python",
   "nbconvert_exporter": "python",
   "pygments_lexer": "ipython3",
   "version": "3.8.10"
  },
  "papermill": {
   "default_parameters": {},
   "duration": 1253.046368,
   "end_time": "2021-09-11T23:01:31.853859",
   "environment_variables": {},
   "exception": null,
   "input_path": "template-3-index-genomes.ipynb",
   "output_path": "3-index-genomes.simulation-cov-40.ipynb",
   "parameters": {
    "iterations": 3,
    "mincov": 10,
    "read_coverage": 40,
    "simulation_dir": "simulations/cov-40",
    "sub_alpha": 0.2
   },
   "start_time": "2021-09-11T22:40:38.807491",
   "version": "2.3.3"
  }
 },
 "nbformat": 4,
 "nbformat_minor": 5
}