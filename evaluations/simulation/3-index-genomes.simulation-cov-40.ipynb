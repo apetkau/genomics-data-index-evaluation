{
 "cells": [
  {
   "cell_type": "markdown",
   "id": "7d3667b4-b1f8-4347-96e3-830c25b06740",
   "metadata": {
    "papermill": {
     "duration": 0.019978,
     "end_time": "2022-03-08T23:17:36.234576",
     "exception": false,
     "start_time": "2022-03-08T23:17:36.214598",
     "status": "completed"
    },
    "tags": []
   },
   "source": [
    "# 1. Parameters"
   ]
  },
  {
   "cell_type": "code",
   "execution_count": 1,
   "id": "d4ab0749-b286-4c34-b63c-a854e4952bae",
   "metadata": {
    "execution": {
     "iopub.execute_input": "2022-03-08T23:17:36.267069Z",
     "iopub.status.busy": "2022-03-08T23:17:36.266520Z",
     "iopub.status.idle": "2022-03-08T23:17:36.271078Z",
     "shell.execute_reply": "2022-03-08T23:17:36.271627Z"
    },
    "papermill": {
     "duration": 0.027012,
     "end_time": "2022-03-08T23:17:36.271917",
     "exception": false,
     "start_time": "2022-03-08T23:17:36.244905",
     "status": "completed"
    },
    "tags": [
     "parameters"
    ]
   },
   "outputs": [],
   "source": [
    "# Defaults\n",
    "simulation_dir = 'simulations/unset'\n",
    "reference_file = 'simulations/reference/reference.fa.gz'\n",
    "iterations = 3\n",
    "mincov = 10\n",
    "ncores = 32"
   ]
  },
  {
   "cell_type": "code",
   "execution_count": 2,
   "id": "51711628",
   "metadata": {
    "execution": {
     "iopub.execute_input": "2022-03-08T23:17:36.298058Z",
     "iopub.status.busy": "2022-03-08T23:17:36.297645Z",
     "iopub.status.idle": "2022-03-08T23:17:36.300258Z",
     "shell.execute_reply": "2022-03-08T23:17:36.300621Z"
    },
    "papermill": {
     "duration": 0.017194,
     "end_time": "2022-03-08T23:17:36.300766",
     "exception": false,
     "start_time": "2022-03-08T23:17:36.283572",
     "status": "completed"
    },
    "tags": [
     "injected-parameters"
    ]
   },
   "outputs": [],
   "source": [
    "# Parameters\n",
    "read_coverage = 40\n",
    "mincov = 10\n",
    "simulation_dir = \"simulations/cov-40\"\n",
    "iterations = 3\n",
    "sub_alpha = 0.2\n"
   ]
  },
  {
   "cell_type": "code",
   "execution_count": 3,
   "id": "ce5962e4-261c-4210-b39b-47044e28466b",
   "metadata": {
    "execution": {
     "iopub.execute_input": "2022-03-08T23:17:36.326024Z",
     "iopub.status.busy": "2022-03-08T23:17:36.325607Z",
     "iopub.status.idle": "2022-03-08T23:17:39.117817Z",
     "shell.execute_reply": "2022-03-08T23:17:39.116863Z"
    },
    "papermill": {
     "duration": 2.807667,
     "end_time": "2022-03-08T23:17:39.118076",
     "exception": false,
     "start_time": "2022-03-08T23:17:36.310409",
     "status": "completed"
    },
    "tags": []
   },
   "outputs": [],
   "source": [
    "from pathlib import Path\n",
    "import imp\n",
    "fp, pathname, description = imp.find_module('gdi_benchmark', ['../../lib'])\n",
    "gdi_benchmark = imp.load_module('gdi_benchmark', fp, pathname, description)\n",
    "\n",
    "simulation_dir_path = Path(simulation_dir)\n",
    "\n",
    "case_name = str(simulation_dir_path.name)\n",
    "reads_dir = simulation_dir_path / 'simulated_data' / 'reads'\n",
    "assemblies_dir = simulation_dir_path / 'simulated_data' / 'assemblies'\n",
    "index_reads_path = simulation_dir_path / 'index-reads'\n",
    "index_assemblies_path = simulation_dir_path / 'index-assemblies'\n",
    "output_reads_tree = index_reads_path / 'reads.tre'\n",
    "output_assemblies_tree = index_assemblies_path / 'assemblies.tre'\n",
    "reference_name = Path(reference_file).name.split('.')[0]"
   ]
  },
  {
   "cell_type": "markdown",
   "id": "f208279e-7558-47fc-9362-da29df92828a",
   "metadata": {
    "papermill": {
     "duration": 0.009955,
     "end_time": "2022-03-08T23:17:39.145528",
     "exception": false,
     "start_time": "2022-03-08T23:17:39.135573",
     "status": "completed"
    },
    "tags": []
   },
   "source": [
    "# 2. Index genomes"
   ]
  },
  {
   "cell_type": "code",
   "execution_count": 4,
   "id": "4e936f7c-2fcd-4188-b0e6-6b3ceb5cdcd2",
   "metadata": {
    "execution": {
     "iopub.execute_input": "2022-03-08T23:17:39.177536Z",
     "iopub.status.busy": "2022-03-08T23:17:39.166194Z",
     "iopub.status.idle": "2022-03-08T23:17:42.447950Z",
     "shell.execute_reply": "2022-03-08T23:17:42.448894Z"
    },
    "papermill": {
     "duration": 3.296075,
     "end_time": "2022-03-08T23:17:42.449247",
     "exception": false,
     "start_time": "2022-03-08T23:17:39.153172",
     "status": "completed"
    },
    "tags": []
   },
   "outputs": [
    {
     "name": "stdout",
     "output_type": "stream",
     "text": [
      "gdi, version 0.6.0.dev2\r\n"
     ]
    }
   ],
   "source": [
    "!gdi --version"
   ]
  },
  {
   "cell_type": "markdown",
   "id": "5409ecf8-2158-4361-9d2f-6b1a6c7c63a6",
   "metadata": {
    "papermill": {
     "duration": 0.010002,
     "end_time": "2022-03-08T23:17:42.477207",
     "exception": false,
     "start_time": "2022-03-08T23:17:42.467205",
     "status": "completed"
    },
    "tags": []
   },
   "source": [
    "## 2.1. Index reads"
   ]
  },
  {
   "cell_type": "code",
   "execution_count": 5,
   "id": "b5324f79-913b-4dac-8122-19ad5c0f24b2",
   "metadata": {
    "execution": {
     "iopub.execute_input": "2022-03-08T23:17:42.509888Z",
     "iopub.status.busy": "2022-03-08T23:17:42.500604Z",
     "iopub.status.idle": "2022-03-08T23:17:45.845259Z",
     "shell.execute_reply": "2022-03-08T23:17:45.846117Z"
    },
    "papermill": {
     "duration": 3.362108,
     "end_time": "2022-03-08T23:17:45.846437",
     "exception": false,
     "start_time": "2022-03-08T23:17:42.484329",
     "status": "completed"
    },
    "tags": []
   },
   "outputs": [
    {
     "name": "stdout",
     "output_type": "stream",
     "text": [
      "\u001b[32m2022-03-08 17:17:45\u001b[0m \u001b[1;30mWARNING:\u001b[0m \u001b[33m--skip-existing-samples is enabled but no --project-dir is set. Will not skip existing samples.\u001b[0m\r\n"
     ]
    }
   ],
   "source": [
    "input_genomes_file = simulation_dir_path / 'input-reads.tsv'\n",
    "\n",
    "!gdi input --absolute {reads_dir}/*.fq.gz > {input_genomes_file}"
   ]
  },
  {
   "cell_type": "code",
   "execution_count": 6,
   "id": "3d63e861-733e-46f2-8bce-bd1a2c7c7058",
   "metadata": {
    "execution": {
     "iopub.execute_input": "2022-03-08T23:17:45.890113Z",
     "iopub.status.busy": "2022-03-08T23:17:45.889068Z",
     "iopub.status.idle": "2022-03-08T23:29:42.118426Z",
     "shell.execute_reply": "2022-03-08T23:29:42.119406Z"
    },
    "papermill": {
     "duration": 716.254026,
     "end_time": "2022-03-08T23:29:42.120085",
     "exception": false,
     "start_time": "2022-03-08T23:17:45.866059",
     "status": "completed"
    },
    "tags": []
   },
   "outputs": [
    {
     "name": "stdout",
     "output_type": "stream",
     "text": [
      "\n",
      "Iteration 1 of index/analysis of 59 samples with 32 cores\n",
      "Removing any extra snakemake directories: ['snakemake-assemblies.1646781247.1173432']\n"
     ]
    },
    {
     "name": "stdout",
     "output_type": "stream",
     "text": [
      "Creating new index: [gdi init simulations/cov-40/index-reads]\n"
     ]
    },
    {
     "name": "stdout",
     "output_type": "stream",
     "text": [
      "Creating a new index took 3.23 seconds\n",
      "Analysis running: [gdi --project-dir simulations/cov-40/index-reads --ncores 32 analysis --use-conda --no-load-data --reference-file simulations/reference/reference.fa.gz --kmer-size 31 --kmer-size 51 --kmer-size 71 --include-kmer --reads-mincov 10 --input-structured-genomes-file simulations/cov-40/input-reads.tsv]\n"
     ]
    },
    {
     "name": "stdout",
     "output_type": "stream",
     "text": [
      "Analysis took 1.94 minutes\n",
      "Index running: [gdi --project-dir simulations/cov-40/index-reads --ncores 32 load vcf-kmer --sample-batch-size 2000 --reference-file simulations/reference/reference.fa.gz /home/CSCScience.ca/apetkau/workspace/genomics-data-index-evaluation/evaluations/simulation/snakemake-assemblies.1646781473.826742/gdi-input.fofn]\n"
     ]
    },
    {
     "name": "stdout",
     "output_type": "stream",
     "text": [
      "Indexing took 0.12 minutes\n",
      "Building tree: [gdi --project-dir simulations/cov-40/index-reads --ncores 32 rebuild tree --align-type full --extra-params '--fast -m GTR+F+R4' reference]\n"
     ]
    },
    {
     "name": "stdout",
     "output_type": "stream",
     "text": [
      "Building tree took 1.86 minutes\n"
     ]
    },
    {
     "name": "stderr",
     "output_type": "stream",
     "text": [
      "A reminder to myself to look for a Python solution for directory sizes (instead of running `du`)\n"
     ]
    },
    {
     "name": "stdout",
     "output_type": "stream",
     "text": [
      "\n",
      "Iteration 2 of index/analysis of 59 samples with 32 cores\n",
      "Removing any extra snakemake directories: ['snakemake-assemblies.1646781473.826742']\n"
     ]
    },
    {
     "name": "stdout",
     "output_type": "stream",
     "text": [
      "Removing any existing indexes simulations/cov-40/index-reads\n",
      "Creating new index: [gdi init simulations/cov-40/index-reads]\n"
     ]
    },
    {
     "name": "stdout",
     "output_type": "stream",
     "text": [
      "Creating a new index took 3.35 seconds\n",
      "Analysis running: [gdi --project-dir simulations/cov-40/index-reads --ncores 32 analysis --use-conda --no-load-data --reference-file simulations/reference/reference.fa.gz --kmer-size 31 --kmer-size 51 --kmer-size 71 --include-kmer --reads-mincov 10 --input-structured-genomes-file simulations/cov-40/input-reads.tsv]\n"
     ]
    },
    {
     "name": "stdout",
     "output_type": "stream",
     "text": [
      "Analysis took 1.97 minutes\n",
      "Index running: [gdi --project-dir simulations/cov-40/index-reads --ncores 32 load vcf-kmer --sample-batch-size 2000 --reference-file simulations/reference/reference.fa.gz /home/CSCScience.ca/apetkau/workspace/genomics-data-index-evaluation/evaluations/simulation/snakemake-assemblies.1646781713.7539525/gdi-input.fofn]\n"
     ]
    },
    {
     "name": "stdout",
     "output_type": "stream",
     "text": [
      "Indexing took 0.14 minutes\n",
      "Building tree: [gdi --project-dir simulations/cov-40/index-reads --ncores 32 rebuild tree --align-type full --extra-params '--fast -m GTR+F+R4' reference]\n"
     ]
    },
    {
     "name": "stdout",
     "output_type": "stream",
     "text": [
      "Building tree took 1.71 minutes\n"
     ]
    },
    {
     "name": "stderr",
     "output_type": "stream",
     "text": [
      "Attempting to set global database_path_translator=<genomics_data_index.storage.model.db.DatabasePathTranslator.DatabasePathTranslator object at 0x7f2efb17b190> but it is already set\n"
     ]
    },
    {
     "name": "stderr",
     "output_type": "stream",
     "text": [
      "A reminder to myself to look for a Python solution for directory sizes (instead of running `du`)\n"
     ]
    },
    {
     "name": "stdout",
     "output_type": "stream",
     "text": [
      "\n",
      "Iteration 3 of index/analysis of 59 samples with 32 cores\n",
      "Removing any extra snakemake directories: ['snakemake-assemblies.1646781713.7539525']\n"
     ]
    },
    {
     "name": "stdout",
     "output_type": "stream",
     "text": [
      "Removing any existing indexes simulations/cov-40/index-reads\n",
      "Creating new index: [gdi init simulations/cov-40/index-reads]\n"
     ]
    },
    {
     "name": "stdout",
     "output_type": "stream",
     "text": [
      "Creating a new index took 3.36 seconds\n",
      "Analysis running: [gdi --project-dir simulations/cov-40/index-reads --ncores 32 analysis --use-conda --no-load-data --reference-file simulations/reference/reference.fa.gz --kmer-size 31 --kmer-size 51 --kmer-size 71 --include-kmer --reads-mincov 10 --input-structured-genomes-file simulations/cov-40/input-reads.tsv]\n"
     ]
    },
    {
     "name": "stdout",
     "output_type": "stream",
     "text": [
      "Analysis took 1.99 minutes\n",
      "Index running: [gdi --project-dir simulations/cov-40/index-reads --ncores 32 load vcf-kmer --sample-batch-size 2000 --reference-file simulations/reference/reference.fa.gz /home/CSCScience.ca/apetkau/workspace/genomics-data-index-evaluation/evaluations/simulation/snakemake-assemblies.1646781947.3958309/gdi-input.fofn]\n"
     ]
    },
    {
     "name": "stdout",
     "output_type": "stream",
     "text": [
      "Indexing took 0.14 minutes\n",
      "Building tree: [gdi --project-dir simulations/cov-40/index-reads --ncores 32 rebuild tree --align-type full --extra-params '--fast -m GTR+F+R4' reference]\n"
     ]
    },
    {
     "name": "stdout",
     "output_type": "stream",
     "text": [
      "Building tree took 1.83 minutes\n"
     ]
    },
    {
     "name": "stderr",
     "output_type": "stream",
     "text": [
      "Attempting to set global database_path_translator=<genomics_data_index.storage.model.db.DatabasePathTranslator.DatabasePathTranslator object at 0x7f2ee271c0a0> but it is already set\n"
     ]
    },
    {
     "name": "stderr",
     "output_type": "stream",
     "text": [
      "A reminder to myself to look for a Python solution for directory sizes (instead of running `du`)\n"
     ]
    }
   ],
   "source": [
    "results_handler = gdi_benchmark.BenchmarkResultsHandler(name=f'{case_name} reads')\n",
    "benchmarker = gdi_benchmark.IndexBenchmarker(benchmark_results_handler=results_handler,\n",
    "                                             index_path=index_reads_path, input_files_file=input_genomes_file,\n",
    "                                             reference_file=reference_file, mincov=mincov, build_tree=True,\n",
    "                                             ncores=ncores)\n",
    "\n",
    "benchmark_df = benchmarker.benchmark(iterations=iterations)"
   ]
  },
  {
   "cell_type": "code",
   "execution_count": 7,
   "id": "3bcb6da7-0164-47f2-abdd-a4c159da1e3b",
   "metadata": {
    "execution": {
     "iopub.execute_input": "2022-03-08T23:29:42.188043Z",
     "iopub.status.busy": "2022-03-08T23:29:42.175323Z",
     "iopub.status.idle": "2022-03-08T23:29:42.199209Z",
     "shell.execute_reply": "2022-03-08T23:29:42.200114Z"
    },
    "papermill": {
     "duration": 0.055147,
     "end_time": "2022-03-08T23:29:42.200380",
     "exception": false,
     "start_time": "2022-03-08T23:29:42.145233",
     "status": "completed"
    },
    "tags": []
   },
   "outputs": [
    {
     "data": {
      "text/html": [
       "<div>\n",
       "<style scoped>\n",
       "    .dataframe tbody tr th:only-of-type {\n",
       "        vertical-align: middle;\n",
       "    }\n",
       "\n",
       "    .dataframe tbody tr th {\n",
       "        vertical-align: top;\n",
       "    }\n",
       "\n",
       "    .dataframe thead th {\n",
       "        text-align: right;\n",
       "    }\n",
       "</style>\n",
       "<table border=\"1\" class=\"dataframe\">\n",
       "  <thead>\n",
       "    <tr style=\"text-align: right;\">\n",
       "      <th></th>\n",
       "      <th>Name</th>\n",
       "      <th>Reference name</th>\n",
       "      <th>Iteration</th>\n",
       "      <th>Number samples</th>\n",
       "      <th>Number features (all)</th>\n",
       "      <th>Number features (no unknown)</th>\n",
       "      <th>Number cores</th>\n",
       "      <th>Reference length</th>\n",
       "      <th>Analysis runtime</th>\n",
       "      <th>Analysis memory (max)</th>\n",
       "      <th>...</th>\n",
       "      <th>Analysis disk uage</th>\n",
       "      <th>Index runtime</th>\n",
       "      <th>Index memory (max)</th>\n",
       "      <th>Index memory (max/process)</th>\n",
       "      <th>Index size</th>\n",
       "      <th>Tree runtime</th>\n",
       "      <th>Tree memory (max)</th>\n",
       "      <th>Tree memory (max/process)</th>\n",
       "      <th>Total runtime</th>\n",
       "      <th>Max memory</th>\n",
       "    </tr>\n",
       "  </thead>\n",
       "  <tbody>\n",
       "    <tr>\n",
       "      <th>0</th>\n",
       "      <td>cov-40 reads</td>\n",
       "      <td>reference</td>\n",
       "      <td>1</td>\n",
       "      <td>59</td>\n",
       "      <td>2859</td>\n",
       "      <td>1321</td>\n",
       "      <td>32</td>\n",
       "      <td>19699</td>\n",
       "      <td>116.11</td>\n",
       "      <td>2.733343e+09</td>\n",
       "      <td>...</td>\n",
       "      <td>2.966974e+09</td>\n",
       "      <td>7.23</td>\n",
       "      <td>5.943038e+09</td>\n",
       "      <td>285962240.0</td>\n",
       "      <td>2138112.0</td>\n",
       "      <td>111.20</td>\n",
       "      <td>269803520.0</td>\n",
       "      <td>234307584.0</td>\n",
       "      <td>234.54</td>\n",
       "      <td>5.943038e+09</td>\n",
       "    </tr>\n",
       "    <tr>\n",
       "      <th>0</th>\n",
       "      <td>cov-40 reads</td>\n",
       "      <td>reference</td>\n",
       "      <td>2</td>\n",
       "      <td>59</td>\n",
       "      <td>2859</td>\n",
       "      <td>1321</td>\n",
       "      <td>32</td>\n",
       "      <td>19699</td>\n",
       "      <td>117.81</td>\n",
       "      <td>2.646430e+09</td>\n",
       "      <td>...</td>\n",
       "      <td>2.966983e+09</td>\n",
       "      <td>8.00</td>\n",
       "      <td>5.939270e+09</td>\n",
       "      <td>286851072.0</td>\n",
       "      <td>2138112.0</td>\n",
       "      <td>102.34</td>\n",
       "      <td>269631488.0</td>\n",
       "      <td>234475520.0</td>\n",
       "      <td>228.15</td>\n",
       "      <td>5.939270e+09</td>\n",
       "    </tr>\n",
       "    <tr>\n",
       "      <th>0</th>\n",
       "      <td>cov-40 reads</td>\n",
       "      <td>reference</td>\n",
       "      <td>3</td>\n",
       "      <td>59</td>\n",
       "      <td>2859</td>\n",
       "      <td>1321</td>\n",
       "      <td>32</td>\n",
       "      <td>19699</td>\n",
       "      <td>119.45</td>\n",
       "      <td>2.878190e+09</td>\n",
       "      <td>...</td>\n",
       "      <td>2.966987e+09</td>\n",
       "      <td>8.17</td>\n",
       "      <td>6.046212e+09</td>\n",
       "      <td>287805440.0</td>\n",
       "      <td>2138112.0</td>\n",
       "      <td>109.72</td>\n",
       "      <td>270094336.0</td>\n",
       "      <td>234700800.0</td>\n",
       "      <td>237.34</td>\n",
       "      <td>6.046212e+09</td>\n",
       "    </tr>\n",
       "  </tbody>\n",
       "</table>\n",
       "<p>3 rows × 21 columns</p>\n",
       "</div>"
      ],
      "text/plain": [
       "           Name Reference name  Iteration  Number samples  \\\n",
       "0  cov-40 reads      reference          1              59   \n",
       "0  cov-40 reads      reference          2              59   \n",
       "0  cov-40 reads      reference          3              59   \n",
       "\n",
       "   Number features (all)  Number features (no unknown)  Number cores  \\\n",
       "0                   2859                          1321            32   \n",
       "0                   2859                          1321            32   \n",
       "0                   2859                          1321            32   \n",
       "\n",
       "   Reference length  Analysis runtime  Analysis memory (max)  ...  \\\n",
       "0             19699            116.11           2.733343e+09  ...   \n",
       "0             19699            117.81           2.646430e+09  ...   \n",
       "0             19699            119.45           2.878190e+09  ...   \n",
       "\n",
       "   Analysis disk uage  Index runtime  Index memory (max)  \\\n",
       "0        2.966974e+09           7.23        5.943038e+09   \n",
       "0        2.966983e+09           8.00        5.939270e+09   \n",
       "0        2.966987e+09           8.17        6.046212e+09   \n",
       "\n",
       "   Index memory (max/process)  Index size  Tree runtime  Tree memory (max)  \\\n",
       "0                 285962240.0   2138112.0        111.20        269803520.0   \n",
       "0                 286851072.0   2138112.0        102.34        269631488.0   \n",
       "0                 287805440.0   2138112.0        109.72        270094336.0   \n",
       "\n",
       "   Tree memory (max/process)  Total runtime    Max memory  \n",
       "0                234307584.0         234.54  5.943038e+09  \n",
       "0                234475520.0         228.15  5.939270e+09  \n",
       "0                234700800.0         237.34  6.046212e+09  \n",
       "\n",
       "[3 rows x 21 columns]"
      ]
     },
     "execution_count": 7,
     "metadata": {},
     "output_type": "execute_result"
    }
   ],
   "source": [
    "benchmark_df"
   ]
  },
  {
   "cell_type": "code",
   "execution_count": 8,
   "id": "535a9ccc-ab9c-4919-806f-128e1efd2389",
   "metadata": {
    "execution": {
     "iopub.execute_input": "2022-03-08T23:29:42.246440Z",
     "iopub.status.busy": "2022-03-08T23:29:42.245311Z",
     "iopub.status.idle": "2022-03-08T23:29:42.252564Z",
     "shell.execute_reply": "2022-03-08T23:29:42.253413Z"
    },
    "papermill": {
     "duration": 0.028032,
     "end_time": "2022-03-08T23:29:42.253689",
     "exception": false,
     "start_time": "2022-03-08T23:29:42.225657",
     "status": "completed"
    },
    "tags": []
   },
   "outputs": [],
   "source": [
    "index_reads_runtime = simulation_dir_path / 'reads-index-info.tsv'\n",
    "benchmark_df.to_csv(index_reads_runtime, sep='\\t', index=False)"
   ]
  },
  {
   "cell_type": "markdown",
   "id": "c331578f-4026-4a9f-a3ba-288814b02ed2",
   "metadata": {
    "papermill": {
     "duration": 0.012595,
     "end_time": "2022-03-08T23:29:42.290645",
     "exception": false,
     "start_time": "2022-03-08T23:29:42.278050",
     "status": "completed"
    },
    "tags": []
   },
   "source": [
    "## 2.2. Index assemblies"
   ]
  },
  {
   "cell_type": "code",
   "execution_count": 9,
   "id": "6e6664f4-94ee-4c45-b1fc-e048b387fa49",
   "metadata": {
    "execution": {
     "iopub.execute_input": "2022-03-08T23:29:42.331792Z",
     "iopub.status.busy": "2022-03-08T23:29:42.320336Z",
     "iopub.status.idle": "2022-03-08T23:29:45.706491Z",
     "shell.execute_reply": "2022-03-08T23:29:45.707353Z"
    },
    "papermill": {
     "duration": 3.405786,
     "end_time": "2022-03-08T23:29:45.707657",
     "exception": false,
     "start_time": "2022-03-08T23:29:42.301871",
     "status": "completed"
    },
    "tags": []
   },
   "outputs": [
    {
     "name": "stdout",
     "output_type": "stream",
     "text": [
      "\u001b[32m2022-03-08 17:29:45\u001b[0m \u001b[1;30mWARNING:\u001b[0m \u001b[33m--skip-existing-samples is enabled but no --project-dir is set. Will not skip existing samples.\u001b[0m\r\n"
     ]
    }
   ],
   "source": [
    "input_genomes_file = simulation_dir_path / 'input-assemblies.tsv'\n",
    "\n",
    "!gdi input --absolute {assemblies_dir}/*.fa.gz > {input_genomes_file}"
   ]
  },
  {
   "cell_type": "code",
   "execution_count": 10,
   "id": "0a1e62f3-3b0c-4a90-a7fe-f0bc1094e350",
   "metadata": {
    "execution": {
     "iopub.execute_input": "2022-03-08T23:29:45.756316Z",
     "iopub.status.busy": "2022-03-08T23:29:45.755421Z",
     "iopub.status.idle": "2022-03-08T23:39:57.081917Z",
     "shell.execute_reply": "2022-03-08T23:39:57.080973Z"
    },
    "papermill": {
     "duration": 611.349171,
     "end_time": "2022-03-08T23:39:57.082180",
     "exception": false,
     "start_time": "2022-03-08T23:29:45.733009",
     "status": "completed"
    },
    "tags": []
   },
   "outputs": [
    {
     "name": "stdout",
     "output_type": "stream",
     "text": [
      "\n",
      "Iteration 1 of index/analysis of 59 samples with 32 cores\n",
      "Removing any extra snakemake directories: ['snakemake-assemblies.1646781947.3958309']\n"
     ]
    },
    {
     "name": "stdout",
     "output_type": "stream",
     "text": [
      "Creating new index: [gdi init simulations/cov-40/index-assemblies]\n"
     ]
    },
    {
     "name": "stdout",
     "output_type": "stream",
     "text": [
      "Creating a new index took 3.04 seconds\n",
      "Analysis running: [gdi --project-dir simulations/cov-40/index-assemblies --ncores 32 analysis --use-conda --no-load-data --reference-file simulations/reference/reference.fa.gz --kmer-size 31 --kmer-size 51 --kmer-size 71 --include-kmer --reads-mincov 10 --input-structured-genomes-file simulations/cov-40/input-assemblies.tsv]\n"
     ]
    },
    {
     "name": "stdout",
     "output_type": "stream",
     "text": [
      "Analysis took 1.87 minutes\n",
      "Index running: [gdi --project-dir simulations/cov-40/index-assemblies --ncores 32 load vcf-kmer --sample-batch-size 2000 --reference-file simulations/reference/reference.fa.gz /home/CSCScience.ca/apetkau/workspace/genomics-data-index-evaluation/evaluations/simulation/snakemake-assemblies.1646782193.2810986/gdi-input.fofn]\n"
     ]
    },
    {
     "name": "stdout",
     "output_type": "stream",
     "text": [
      "Indexing took 0.11 minutes\n",
      "Building tree: [gdi --project-dir simulations/cov-40/index-assemblies --ncores 32 rebuild tree --align-type full --extra-params '--fast -m GTR+F+R4' reference]\n"
     ]
    },
    {
     "name": "stdout",
     "output_type": "stream",
     "text": [
      "Building tree took 1.50 minutes\n"
     ]
    },
    {
     "name": "stderr",
     "output_type": "stream",
     "text": [
      "Attempting to set global database_path_translator=<genomics_data_index.storage.model.db.DatabasePathTranslator.DatabasePathTranslator object at 0x7f2ee26f0ca0> but it is already set\n"
     ]
    },
    {
     "name": "stderr",
     "output_type": "stream",
     "text": [
      "A reminder to myself to look for a Python solution for directory sizes (instead of running `du`)\n"
     ]
    },
    {
     "name": "stdout",
     "output_type": "stream",
     "text": [
      "\n",
      "Iteration 2 of index/analysis of 59 samples with 32 cores\n",
      "Removing any extra snakemake directories: ['snakemake-assemblies.1646782193.2810986']\n"
     ]
    },
    {
     "name": "stdout",
     "output_type": "stream",
     "text": [
      "Removing any existing indexes simulations/cov-40/index-assemblies\n",
      "Creating new index: [gdi init simulations/cov-40/index-assemblies]\n"
     ]
    },
    {
     "name": "stdout",
     "output_type": "stream",
     "text": [
      "Creating a new index took 3.10 seconds\n",
      "Analysis running: [gdi --project-dir simulations/cov-40/index-assemblies --ncores 32 analysis --use-conda --no-load-data --reference-file simulations/reference/reference.fa.gz --kmer-size 31 --kmer-size 51 --kmer-size 71 --include-kmer --reads-mincov 10 --input-structured-genomes-file simulations/cov-40/input-assemblies.tsv]\n"
     ]
    },
    {
     "name": "stdout",
     "output_type": "stream",
     "text": [
      "Analysis took 1.77 minutes\n",
      "Index running: [gdi --project-dir simulations/cov-40/index-assemblies --ncores 32 load vcf-kmer --sample-batch-size 2000 --reference-file simulations/reference/reference.fa.gz /home/CSCScience.ca/apetkau/workspace/genomics-data-index-evaluation/evaluations/simulation/snakemake-assemblies.1646782407.5907707/gdi-input.fofn]\n"
     ]
    },
    {
     "name": "stdout",
     "output_type": "stream",
     "text": [
      "Indexing took 0.11 minutes\n",
      "Building tree: [gdi --project-dir simulations/cov-40/index-assemblies --ncores 32 rebuild tree --align-type full --extra-params '--fast -m GTR+F+R4' reference]\n"
     ]
    },
    {
     "name": "stdout",
     "output_type": "stream",
     "text": [
      "Building tree took 1.31 minutes\n"
     ]
    },
    {
     "name": "stderr",
     "output_type": "stream",
     "text": [
      "Attempting to set global database_path_translator=<genomics_data_index.storage.model.db.DatabasePathTranslator.DatabasePathTranslator object at 0x7f2ee260ddf0> but it is already set\n"
     ]
    },
    {
     "name": "stderr",
     "output_type": "stream",
     "text": [
      "A reminder to myself to look for a Python solution for directory sizes (instead of running `du`)\n"
     ]
    },
    {
     "name": "stdout",
     "output_type": "stream",
     "text": [
      "\n",
      "Iteration 3 of index/analysis of 59 samples with 32 cores\n",
      "Removing any extra snakemake directories: ['snakemake-assemblies.1646782407.5907707']\n"
     ]
    },
    {
     "name": "stdout",
     "output_type": "stream",
     "text": [
      "Removing any existing indexes simulations/cov-40/index-assemblies\n",
      "Creating new index: [gdi init simulations/cov-40/index-assemblies]\n"
     ]
    },
    {
     "name": "stdout",
     "output_type": "stream",
     "text": [
      "Creating a new index took 3.32 seconds\n",
      "Analysis running: [gdi --project-dir simulations/cov-40/index-assemblies --ncores 32 analysis --use-conda --no-load-data --reference-file simulations/reference/reference.fa.gz --kmer-size 31 --kmer-size 51 --kmer-size 71 --include-kmer --reads-mincov 10 --input-structured-genomes-file simulations/cov-40/input-assemblies.tsv]\n"
     ]
    },
    {
     "name": "stdout",
     "output_type": "stream",
     "text": [
      "Analysis took 1.85 minutes\n",
      "Index running: [gdi --project-dir simulations/cov-40/index-assemblies --ncores 32 load vcf-kmer --sample-batch-size 2000 --reference-file simulations/reference/reference.fa.gz /home/CSCScience.ca/apetkau/workspace/genomics-data-index-evaluation/evaluations/simulation/snakemake-assemblies.1646782603.5506876/gdi-input.fofn]\n"
     ]
    },
    {
     "name": "stdout",
     "output_type": "stream",
     "text": [
      "Indexing took 0.11 minutes\n",
      "Building tree: [gdi --project-dir simulations/cov-40/index-assemblies --ncores 32 rebuild tree --align-type full --extra-params '--fast -m GTR+F+R4' reference]\n"
     ]
    },
    {
     "name": "stdout",
     "output_type": "stream",
     "text": [
      "Building tree took 1.32 minutes\n"
     ]
    },
    {
     "name": "stderr",
     "output_type": "stream",
     "text": [
      "Attempting to set global database_path_translator=<genomics_data_index.storage.model.db.DatabasePathTranslator.DatabasePathTranslator object at 0x7f2ee2552460> but it is already set\n"
     ]
    },
    {
     "name": "stderr",
     "output_type": "stream",
     "text": [
      "A reminder to myself to look for a Python solution for directory sizes (instead of running `du`)\n"
     ]
    }
   ],
   "source": [
    "results_handler = gdi_benchmark.BenchmarkResultsHandler(name=f'{case_name} assemblies')\n",
    "benchmarker = gdi_benchmark.IndexBenchmarker(benchmark_results_handler=results_handler,\n",
    "                                             index_path=index_assemblies_path, input_files_file=input_genomes_file,\n",
    "                                             reference_file=reference_file, mincov=mincov, build_tree=True,\n",
    "                                             ncores=ncores)\n",
    "\n",
    "benchmark_df = benchmarker.benchmark(iterations=iterations)"
   ]
  },
  {
   "cell_type": "code",
   "execution_count": 11,
   "id": "a6d55a9d-be2f-4851-b66c-04b5ebd597a1",
   "metadata": {
    "execution": {
     "iopub.execute_input": "2022-03-08T23:39:57.163452Z",
     "iopub.status.busy": "2022-03-08T23:39:57.162937Z",
     "iopub.status.idle": "2022-03-08T23:39:57.166881Z",
     "shell.execute_reply": "2022-03-08T23:39:57.167413Z"
    },
    "papermill": {
     "duration": 0.05441,
     "end_time": "2022-03-08T23:39:57.167591",
     "exception": false,
     "start_time": "2022-03-08T23:39:57.113181",
     "status": "completed"
    },
    "tags": []
   },
   "outputs": [
    {
     "data": {
      "text/html": [
       "<div>\n",
       "<style scoped>\n",
       "    .dataframe tbody tr th:only-of-type {\n",
       "        vertical-align: middle;\n",
       "    }\n",
       "\n",
       "    .dataframe tbody tr th {\n",
       "        vertical-align: top;\n",
       "    }\n",
       "\n",
       "    .dataframe thead th {\n",
       "        text-align: right;\n",
       "    }\n",
       "</style>\n",
       "<table border=\"1\" class=\"dataframe\">\n",
       "  <thead>\n",
       "    <tr style=\"text-align: right;\">\n",
       "      <th></th>\n",
       "      <th>Name</th>\n",
       "      <th>Reference name</th>\n",
       "      <th>Iteration</th>\n",
       "      <th>Number samples</th>\n",
       "      <th>Number features (all)</th>\n",
       "      <th>Number features (no unknown)</th>\n",
       "      <th>Number cores</th>\n",
       "      <th>Reference length</th>\n",
       "      <th>Analysis runtime</th>\n",
       "      <th>Analysis memory (max)</th>\n",
       "      <th>...</th>\n",
       "      <th>Analysis disk uage</th>\n",
       "      <th>Index runtime</th>\n",
       "      <th>Index memory (max)</th>\n",
       "      <th>Index memory (max/process)</th>\n",
       "      <th>Index size</th>\n",
       "      <th>Tree runtime</th>\n",
       "      <th>Tree memory (max)</th>\n",
       "      <th>Tree memory (max/process)</th>\n",
       "      <th>Total runtime</th>\n",
       "      <th>Max memory</th>\n",
       "    </tr>\n",
       "  </thead>\n",
       "  <tbody>\n",
       "    <tr>\n",
       "      <th>0</th>\n",
       "      <td>cov-40 assemblies</td>\n",
       "      <td>reference</td>\n",
       "      <td>1</td>\n",
       "      <td>59</td>\n",
       "      <td>1426</td>\n",
       "      <td>1350</td>\n",
       "      <td>32</td>\n",
       "      <td>19699</td>\n",
       "      <td>112.36</td>\n",
       "      <td>1.391346e+09</td>\n",
       "      <td>...</td>\n",
       "      <td>2.203030e+09</td>\n",
       "      <td>6.60</td>\n",
       "      <td>5.928772e+09</td>\n",
       "      <td>254836736.0</td>\n",
       "      <td>1368064.0</td>\n",
       "      <td>89.99</td>\n",
       "      <td>254218240.0</td>\n",
       "      <td>234328064.0</td>\n",
       "      <td>208.95</td>\n",
       "      <td>5.928772e+09</td>\n",
       "    </tr>\n",
       "    <tr>\n",
       "      <th>0</th>\n",
       "      <td>cov-40 assemblies</td>\n",
       "      <td>reference</td>\n",
       "      <td>2</td>\n",
       "      <td>59</td>\n",
       "      <td>1426</td>\n",
       "      <td>1350</td>\n",
       "      <td>32</td>\n",
       "      <td>19699</td>\n",
       "      <td>105.88</td>\n",
       "      <td>1.278243e+09</td>\n",
       "      <td>...</td>\n",
       "      <td>2.203025e+09</td>\n",
       "      <td>6.55</td>\n",
       "      <td>5.937988e+09</td>\n",
       "      <td>255098880.0</td>\n",
       "      <td>1368064.0</td>\n",
       "      <td>78.47</td>\n",
       "      <td>253390848.0</td>\n",
       "      <td>234827776.0</td>\n",
       "      <td>190.90</td>\n",
       "      <td>5.937988e+09</td>\n",
       "    </tr>\n",
       "    <tr>\n",
       "      <th>0</th>\n",
       "      <td>cov-40 assemblies</td>\n",
       "      <td>reference</td>\n",
       "      <td>3</td>\n",
       "      <td>59</td>\n",
       "      <td>1426</td>\n",
       "      <td>1350</td>\n",
       "      <td>32</td>\n",
       "      <td>19699</td>\n",
       "      <td>110.58</td>\n",
       "      <td>1.148809e+09</td>\n",
       "      <td>...</td>\n",
       "      <td>2.203030e+09</td>\n",
       "      <td>6.22</td>\n",
       "      <td>5.926068e+09</td>\n",
       "      <td>255008768.0</td>\n",
       "      <td>1363968.0</td>\n",
       "      <td>78.95</td>\n",
       "      <td>254078976.0</td>\n",
       "      <td>234295296.0</td>\n",
       "      <td>195.75</td>\n",
       "      <td>5.926068e+09</td>\n",
       "    </tr>\n",
       "  </tbody>\n",
       "</table>\n",
       "<p>3 rows × 21 columns</p>\n",
       "</div>"
      ],
      "text/plain": [
       "                Name Reference name  Iteration  Number samples  \\\n",
       "0  cov-40 assemblies      reference          1              59   \n",
       "0  cov-40 assemblies      reference          2              59   \n",
       "0  cov-40 assemblies      reference          3              59   \n",
       "\n",
       "   Number features (all)  Number features (no unknown)  Number cores  \\\n",
       "0                   1426                          1350            32   \n",
       "0                   1426                          1350            32   \n",
       "0                   1426                          1350            32   \n",
       "\n",
       "   Reference length  Analysis runtime  Analysis memory (max)  ...  \\\n",
       "0             19699            112.36           1.391346e+09  ...   \n",
       "0             19699            105.88           1.278243e+09  ...   \n",
       "0             19699            110.58           1.148809e+09  ...   \n",
       "\n",
       "   Analysis disk uage  Index runtime  Index memory (max)  \\\n",
       "0        2.203030e+09           6.60        5.928772e+09   \n",
       "0        2.203025e+09           6.55        5.937988e+09   \n",
       "0        2.203030e+09           6.22        5.926068e+09   \n",
       "\n",
       "   Index memory (max/process)  Index size  Tree runtime  Tree memory (max)  \\\n",
       "0                 254836736.0   1368064.0         89.99        254218240.0   \n",
       "0                 255098880.0   1368064.0         78.47        253390848.0   \n",
       "0                 255008768.0   1363968.0         78.95        254078976.0   \n",
       "\n",
       "   Tree memory (max/process)  Total runtime    Max memory  \n",
       "0                234328064.0         208.95  5.928772e+09  \n",
       "0                234827776.0         190.90  5.937988e+09  \n",
       "0                234295296.0         195.75  5.926068e+09  \n",
       "\n",
       "[3 rows x 21 columns]"
      ]
     },
     "execution_count": 11,
     "metadata": {},
     "output_type": "execute_result"
    }
   ],
   "source": [
    "benchmark_df"
   ]
  },
  {
   "cell_type": "code",
   "execution_count": 12,
   "id": "e1a6d962-50bc-4c8d-a6f2-3a661da706b4",
   "metadata": {
    "execution": {
     "iopub.execute_input": "2022-03-08T23:39:57.214726Z",
     "iopub.status.busy": "2022-03-08T23:39:57.213262Z",
     "iopub.status.idle": "2022-03-08T23:39:57.218422Z",
     "shell.execute_reply": "2022-03-08T23:39:57.218824Z"
    },
    "papermill": {
     "duration": 0.027325,
     "end_time": "2022-03-08T23:39:57.218957",
     "exception": false,
     "start_time": "2022-03-08T23:39:57.191632",
     "status": "completed"
    },
    "tags": []
   },
   "outputs": [],
   "source": [
    "index_assemblies_runtime = simulation_dir_path / 'assemblies-index-info.tsv'\n",
    "benchmark_df.to_csv(index_assemblies_runtime, sep='\\t', index=False)"
   ]
  },
  {
   "cell_type": "markdown",
   "id": "6cb7673b-9f85-4c43-b2e2-93538497a196",
   "metadata": {
    "papermill": {
     "duration": 0.015842,
     "end_time": "2022-03-08T23:39:57.255816",
     "exception": false,
     "start_time": "2022-03-08T23:39:57.239974",
     "status": "completed"
    },
    "tags": []
   },
   "source": [
    "# 3. Export trees"
   ]
  },
  {
   "cell_type": "code",
   "execution_count": 13,
   "id": "5280f82c-5434-4391-8c44-b937a7c95bd5",
   "metadata": {
    "execution": {
     "iopub.execute_input": "2022-03-08T23:39:57.305686Z",
     "iopub.status.busy": "2022-03-08T23:39:57.296139Z",
     "iopub.status.idle": "2022-03-08T23:40:04.074212Z",
     "shell.execute_reply": "2022-03-08T23:40:04.075075Z"
    },
    "papermill": {
     "duration": 6.803672,
     "end_time": "2022-03-08T23:40:04.075388",
     "exception": false,
     "start_time": "2022-03-08T23:39:57.271716",
     "status": "completed"
    },
    "tags": []
   },
   "outputs": [
    {
     "name": "stdout",
     "output_type": "stream",
     "text": [
      "Wrote assemblies tree to simulations/cov-40/index-assemblies/assemblies.tre\n"
     ]
    },
    {
     "name": "stdout",
     "output_type": "stream",
     "text": [
      "Wrote assemblies tree to simulations/cov-40/index-reads/reads.tre\n"
     ]
    }
   ],
   "source": [
    "!gdi --project-dir {index_assemblies_path} export tree {reference_name} > {output_assemblies_tree}\n",
    "print(f'Wrote assemblies tree to {output_assemblies_tree}')\n",
    "\n",
    "!gdi --project-dir {index_reads_path} export tree {reference_name} > {output_reads_tree}\n",
    "print(f'Wrote assemblies tree to {output_reads_tree}')"
   ]
  }
 ],
 "metadata": {
  "kernelspec": {
   "display_name": "Python 3 (ipykernel)",
   "language": "python",
   "name": "python3"
  },
  "language_info": {
   "codemirror_mode": {
    "name": "ipython",
    "version": 3
   },
   "file_extension": ".py",
   "mimetype": "text/x-python",
   "name": "python",
   "nbconvert_exporter": "python",
   "pygments_lexer": "ipython3",
   "version": "3.8.12"
  },
  "papermill": {
   "default_parameters": {},
   "duration": 1350.026687,
   "end_time": "2022-03-08T23:40:04.834896",
   "environment_variables": {},
   "exception": null,
   "input_path": "template-3-index-genomes.ipynb",
   "output_path": "3-index-genomes.simulation-cov-40.ipynb",
   "parameters": {
    "iterations": 3,
    "mincov": 10,
    "read_coverage": 40,
    "simulation_dir": "simulations/cov-40",
    "sub_alpha": 0.2
   },
   "start_time": "2022-03-08T23:17:34.808209",
   "version": "2.3.4"
  }
 },
 "nbformat": 4,
 "nbformat_minor": 5
}