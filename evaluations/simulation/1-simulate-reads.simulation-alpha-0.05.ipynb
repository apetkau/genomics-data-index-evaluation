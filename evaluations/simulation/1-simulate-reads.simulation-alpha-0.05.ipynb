{
 "cells": [
  {
   "cell_type": "markdown",
   "id": "39afc998-7d9f-4d4e-9147-fb6198f83f2d",
   "metadata": {
    "papermill": {
     "duration": 0.018862,
     "end_time": "2022-03-09T21:42:55.084212",
     "exception": false,
     "start_time": "2022-03-09T21:42:55.065350",
     "status": "completed"
    },
    "tags": []
   },
   "source": [
    "# 1. Parameters"
   ]
  },
  {
   "cell_type": "code",
   "execution_count": 1,
   "id": "8eee723b-55a2-4355-b867-c5e682a9f800",
   "metadata": {
    "execution": {
     "iopub.execute_input": "2022-03-09T21:42:55.148504Z",
     "iopub.status.busy": "2022-03-09T21:42:55.145274Z",
     "iopub.status.idle": "2022-03-09T21:42:55.202612Z",
     "shell.execute_reply": "2022-03-09T21:42:55.201339Z"
    },
    "papermill": {
     "duration": 0.108472,
     "end_time": "2022-03-09T21:42:55.202863",
     "exception": false,
     "start_time": "2022-03-09T21:42:55.094391",
     "status": "completed"
    },
    "tags": [
     "parameters"
    ]
   },
   "outputs": [],
   "source": [
    "# Defaults\n",
    "\n",
    "## Random seed\n",
    "random_seed <- 25524\n",
    "\n",
    "## Directories\n",
    "simulation_dir <- \"simulations/unset\"\n",
    "reference_file <- \"simulations/reference/reference.fa.gz\"\n",
    "initial_tree_file <- \"input/salmonella.tre\"\n",
    "\n",
    "## Simulation parameters\n",
    "sub_lambda <- 1e-2\n",
    "sub_pi_tcag <- c(0.1, 0.2, 0.3, 0.4)\n",
    "sub_alpha <- 0.2\n",
    "sub_beta <- sub_alpha/2\n",
    "sub_mu <- 1\n",
    "sub_invariant <- 0.3\n",
    "ins_rate <- 1e-4\n",
    "ins_max_length <- 60\n",
    "ins_a <- 1.6\n",
    "del_rate <- 1e-4\n",
    "del_max_length <- 60\n",
    "del_a <- 1.6\n",
    "\n",
    "## Read simulation information\n",
    "read_coverage <- 30\n",
    "read_length <- 250\n",
    "\n",
    "## Other\n",
    "ncores <- 48"
   ]
  },
  {
   "cell_type": "code",
   "execution_count": 2,
   "id": "409a7fb9",
   "metadata": {
    "execution": {
     "iopub.execute_input": "2022-03-09T21:42:55.279393Z",
     "iopub.status.busy": "2022-03-09T21:42:55.234523Z",
     "iopub.status.idle": "2022-03-09T21:42:55.293448Z",
     "shell.execute_reply": "2022-03-09T21:42:55.292303Z"
    },
    "papermill": {
     "duration": 0.075434,
     "end_time": "2022-03-09T21:42:55.293672",
     "exception": false,
     "start_time": "2022-03-09T21:42:55.218238",
     "status": "completed"
    },
    "tags": [
     "injected-parameters"
    ]
   },
   "outputs": [],
   "source": [
    "# Parameters\n",
    "read_coverage = 30\n",
    "mincov = 10\n",
    "simulation_dir = \"simulations/alpha-0.05-cov-30\"\n",
    "iterations = 3\n",
    "sub_alpha = 0.05\n"
   ]
  },
  {
   "cell_type": "code",
   "execution_count": 3,
   "id": "845350c4-9369-4350-bcce-504d05f5ff55",
   "metadata": {
    "execution": {
     "iopub.execute_input": "2022-03-09T21:42:55.327535Z",
     "iopub.status.busy": "2022-03-09T21:42:55.324385Z",
     "iopub.status.idle": "2022-03-09T21:42:55.354048Z",
     "shell.execute_reply": "2022-03-09T21:42:55.352938Z"
    },
    "papermill": {
     "duration": 0.045325,
     "end_time": "2022-03-09T21:42:55.354272",
     "exception": false,
     "start_time": "2022-03-09T21:42:55.308947",
     "status": "completed"
    },
    "tags": []
   },
   "outputs": [
    {
     "name": "stdout",
     "output_type": "stream",
     "text": [
      "[1] \"simulations/alpha-0.05-cov-30/simulated_data\"\n"
     ]
    },
    {
     "name": "stdout",
     "output_type": "stream",
     "text": [
      "[1] \"simulations/alpha-0.05-cov-30/simulated_data/haplotypes\"\n"
     ]
    }
   ],
   "source": [
    "output_dir <- file.path(simulation_dir, \"simulated_data\")\n",
    "output_vcf_prefix <- file.path(output_dir, \"haplotypes\")\n",
    "reads_data_initial_prefix <- file.path(output_dir, \"reads_initial\", \"data\")\n",
    "set.seed(random_seed)\n",
    "print(output_dir)\n",
    "print(output_vcf_prefix)"
   ]
  },
  {
   "cell_type": "markdown",
   "id": "noticed-coating",
   "metadata": {
    "papermill": {
     "duration": 0.009244,
     "end_time": "2022-03-09T21:42:55.379433",
     "exception": false,
     "start_time": "2022-03-09T21:42:55.370189",
     "status": "completed"
    },
    "tags": []
   },
   "source": [
    "# 2. Generate simulated data\n",
    "\n",
    "This simulates *Salmonella* data using a reference genome and a tree."
   ]
  },
  {
   "cell_type": "code",
   "execution_count": 4,
   "id": "bright-polymer",
   "metadata": {
    "execution": {
     "iopub.execute_input": "2022-03-09T21:42:55.402274Z",
     "iopub.status.busy": "2022-03-09T21:42:55.399108Z",
     "iopub.status.idle": "2022-03-09T21:42:55.517261Z",
     "shell.execute_reply": "2022-03-09T21:42:55.515988Z"
    },
    "papermill": {
     "duration": 0.130574,
     "end_time": "2022-03-09T21:42:55.517488",
     "exception": false,
     "start_time": "2022-03-09T21:42:55.386914",
     "status": "completed"
    },
    "tags": []
   },
   "outputs": [
    {
     "data": {
      "text/html": [
       "TRUE"
      ],
      "text/latex": [
       "TRUE"
      ],
      "text/markdown": [
       "TRUE"
      ],
      "text/plain": [
       "[1] TRUE"
      ]
     },
     "metadata": {},
     "output_type": "display_data"
    }
   ],
   "source": [
    "library(jackalope)\n",
    "\n",
    "# Make sure we've complied with openmp\n",
    "jackalope:::using_openmp()"
   ]
  },
  {
   "cell_type": "code",
   "execution_count": 5,
   "id": "303635b1-41dc-4917-8e90-30832a9acafd",
   "metadata": {
    "execution": {
     "iopub.execute_input": "2022-03-09T21:42:55.560772Z",
     "iopub.status.busy": "2022-03-09T21:42:55.555938Z",
     "iopub.status.idle": "2022-03-09T21:42:55.591603Z",
     "shell.execute_reply": "2022-03-09T21:42:55.590408Z"
    },
    "papermill": {
     "duration": 0.056633,
     "end_time": "2022-03-09T21:42:55.591829",
     "exception": false,
     "start_time": "2022-03-09T21:42:55.535196",
     "status": "completed"
    },
    "tags": []
   },
   "outputs": [
    {
     "data": {
      "text/plain": [
       "< Set of 2 chromosomes >\n",
       "# Total size: 19,699 bp\n",
       "  name                             chromosome                             length\n",
       "chrom0     GTATTGCGAGGGTGGGGGAGTACGGCAG...CAAGAATGCAACCGACTCTGTCGGGACT     10834\n",
       "chrom1     CACCTCGAGCAGATCCTAGTTTGCGCGA...TGCGAATTTATCGCCTAATCCAATGTTA      8865"
      ]
     },
     "metadata": {},
     "output_type": "display_data"
    }
   ],
   "source": [
    "reference <- read_fasta(reference_file)\n",
    "reference_len <- sum(reference$sizes())\n",
    "reference"
   ]
  },
  {
   "cell_type": "code",
   "execution_count": 6,
   "id": "documented-helmet",
   "metadata": {
    "execution": {
     "iopub.execute_input": "2022-03-09T21:42:55.631839Z",
     "iopub.status.busy": "2022-03-09T21:42:55.628219Z",
     "iopub.status.idle": "2022-03-09T21:42:55.725992Z",
     "shell.execute_reply": "2022-03-09T21:42:55.724890Z"
    },
    "papermill": {
     "duration": 0.115538,
     "end_time": "2022-03-09T21:42:55.726218",
     "exception": false,
     "start_time": "2022-03-09T21:42:55.610680",
     "status": "completed"
    },
    "tags": []
   },
   "outputs": [
    {
     "data": {
      "text/plain": [
       "\n",
       "Phylogenetic tree with 60 tips and 59 internal nodes.\n",
       "\n",
       "Tip labels:\n",
       "  reference, SH12-013, SH12-014, SH10-015, SH10-014, SH11-002, ...\n",
       "Node labels:\n",
       "  Root, 1.000000, 0.000000, 0.000000, 1.000000, 0.000000, ...\n",
       "\n",
       "Rooted; includes branch lengths."
      ]
     },
     "metadata": {},
     "output_type": "display_data"
    }
   ],
   "source": [
    "library(ape)\n",
    "\n",
    "tree <- read.tree(initial_tree_file)\n",
    "tree <- root(tree, \"reference\", resolve.root=TRUE)\n",
    "tree"
   ]
  },
  {
   "cell_type": "code",
   "execution_count": 7,
   "id": "proved-silver",
   "metadata": {
    "execution": {
     "iopub.execute_input": "2022-03-09T21:42:55.764094Z",
     "iopub.status.busy": "2022-03-09T21:42:55.760621Z",
     "iopub.status.idle": "2022-03-09T21:42:55.951205Z",
     "shell.execute_reply": "2022-03-09T21:42:55.950118Z"
    },
    "papermill": {
     "duration": 0.207314,
     "end_time": "2022-03-09T21:42:55.951429",
     "exception": false,
     "start_time": "2022-03-09T21:42:55.744115",
     "status": "completed"
    },
    "tags": []
   },
   "outputs": [
    {
     "data": {
      "text/plain": [
       "                              << haplotypes object >>\n",
       "# Haplotypes: 60\n",
       "# Mutations: 10,629\n",
       "\n",
       "                          << Reference genome info: >>\n",
       "< Set of 2 chromosomes >\n",
       "# Total size: 19,699 bp\n",
       "  name                             chromosome                             length\n",
       "chrom0     GTATTGCGAGGGTGGGGGAGTACGGCAG...CAAGAATGCAACCGACTCTGTCGGGACT     10834\n",
       "chrom1     CACCTCGAGCAGATCCTAGTTTGCGCGA...TGCGAATTTATCGCCTAATCCAATGTTA      8865"
      ]
     },
     "metadata": {},
     "output_type": "display_data"
    }
   ],
   "source": [
    "sub <- sub_HKY85(pi_tcag = sub_pi_tcag, mu = sub_mu,\n",
    "                 alpha = sub_alpha, beta = sub_beta, gamma_shape=1, gamma_k = 5,\n",
    "                 invariant = sub_invariant)\n",
    "ins <- indels(rate = ins_rate, max_length = ins_max_length, a = ins_a)\n",
    "del <- indels(rate = del_rate, max_length = del_max_length, a = del_a)\n",
    "\n",
    "ref_haplotypes <- create_haplotypes(reference, haps_phylo(tree), sub=sub, ins=ins, del=del)\n",
    "ref_haplotypes"
   ]
  },
  {
   "cell_type": "markdown",
   "id": "535fa02d-c76c-4067-9582-74f3694d16ea",
   "metadata": {
    "papermill": {
     "duration": 0.009836,
     "end_time": "2022-03-09T21:42:55.978695",
     "exception": false,
     "start_time": "2022-03-09T21:42:55.968859",
     "status": "completed"
    },
    "tags": []
   },
   "source": [
    "# 3. Write simulated data"
   ]
  },
  {
   "cell_type": "code",
   "execution_count": 8,
   "id": "smoking-geology",
   "metadata": {
    "execution": {
     "iopub.execute_input": "2022-03-09T21:42:56.002968Z",
     "iopub.status.busy": "2022-03-09T21:42:56.000050Z",
     "iopub.status.idle": "2022-03-09T21:42:56.042378Z",
     "shell.execute_reply": "2022-03-09T21:42:56.041273Z"
    },
    "papermill": {
     "duration": 0.056132,
     "end_time": "2022-03-09T21:42:56.042597",
     "exception": false,
     "start_time": "2022-03-09T21:42:55.986465",
     "status": "completed"
    },
    "tags": []
   },
   "outputs": [],
   "source": [
    "write_vcf(ref_haplotypes, out_prefix=output_vcf_prefix, compress=TRUE)"
   ]
  },
  {
   "cell_type": "code",
   "execution_count": 9,
   "id": "d2657fc5-481e-4b24-bbf8-78c02ee735ce",
   "metadata": {
    "execution": {
     "iopub.execute_input": "2022-03-09T21:42:56.082644Z",
     "iopub.status.busy": "2022-03-09T21:42:56.079685Z",
     "iopub.status.idle": "2022-03-09T21:42:56.174056Z",
     "shell.execute_reply": "2022-03-09T21:42:56.172752Z"
    },
    "papermill": {
     "duration": 0.111881,
     "end_time": "2022-03-09T21:42:56.174291",
     "exception": false,
     "start_time": "2022-03-09T21:42:56.062410",
     "status": "completed"
    },
    "tags": []
   },
   "outputs": [],
   "source": [
    "assemblies_prefix = file.path(output_dir, \"assemblies\", \"data\")\n",
    "\n",
    "write_fasta(ref_haplotypes, out_prefix=assemblies_prefix,\n",
    "            compress=TRUE, n_threads=ncores, overwrite=TRUE)"
   ]
  },
  {
   "cell_type": "code",
   "execution_count": 10,
   "id": "continent-freeze",
   "metadata": {
    "execution": {
     "iopub.execute_input": "2022-03-09T21:42:56.213322Z",
     "iopub.status.busy": "2022-03-09T21:42:56.211200Z",
     "iopub.status.idle": "2022-03-09T21:48:18.977427Z",
     "shell.execute_reply": "2022-03-09T21:48:18.975506Z"
    },
    "papermill": {
     "duration": 322.782773,
     "end_time": "2022-03-09T21:48:18.977929",
     "exception": false,
     "start_time": "2022-03-09T21:42:56.195156",
     "status": "completed"
    },
    "tags": []
   },
   "outputs": [
    {
     "name": "stdout",
     "output_type": "stream",
     "text": [
      "[1] \"Number of reads for coverage 30X and read length 250 over 60 samples with respect to reference with length 19699: 141833\"\n"
     ]
    }
   ],
   "source": [
    "n_samples <- length(tree$tip)\n",
    "n_reads <- round((reference_len * read_coverage * n_samples) / read_length)\n",
    "print(sprintf(\"Number of reads for coverage %sX and read length %s over %s samples with respect to reference with length %s: %s\", \n",
    "              read_coverage, read_length, n_samples, reference_len, n_reads))\n",
    "\n",
    "illumina(ref_haplotypes, out_prefix = reads_data_initial_prefix, sep_files=TRUE, n_reads = n_reads,\n",
    "         frag_mean = read_length * 2 + 50, frag_sd = 100,\n",
    "         compress=TRUE, comp_method=\"bgzip\", n_threads=ncores,\n",
    "         paired=TRUE, read_length = read_length)"
   ]
  },
  {
   "cell_type": "code",
   "execution_count": 11,
   "id": "israeli-unknown",
   "metadata": {
    "execution": {
     "iopub.execute_input": "2022-03-09T21:48:19.014921Z",
     "iopub.status.busy": "2022-03-09T21:48:19.012858Z",
     "iopub.status.idle": "2022-03-09T21:48:19.056041Z",
     "shell.execute_reply": "2022-03-09T21:48:19.055007Z"
    },
    "papermill": {
     "duration": 0.057229,
     "end_time": "2022-03-09T21:48:19.056242",
     "exception": false,
     "start_time": "2022-03-09T21:48:18.999013",
     "status": "completed"
    },
    "tags": []
   },
   "outputs": [
    {
     "name": "stdout",
     "output_type": "stream",
     "text": [
      "[1] \"Removing: simulations/alpha-0.05-cov-30/simulated_data/reads_initial/data_reference_R1.fq.gz\"\n"
     ]
    },
    {
     "name": "stdout",
     "output_type": "stream",
     "text": [
      "[1] \"Removing: simulations/alpha-0.05-cov-30/simulated_data/reads_initial/data_reference_R2.fq.gz\"\n"
     ]
    }
   ],
   "source": [
    "# Remove the simulated reads for the reference genome since I don't want these in the tree\n",
    "ref1 <- paste(toString(reads_data_initial_prefix), \"_reference_R1.fq.gz\", sep=\"\")\n",
    "ref2 <- paste(toString(reads_data_initial_prefix), \"_reference_R2.fq.gz\", sep=\"\")\n",
    "if (file.exists(ref1)) {\n",
    "    file.remove(ref1)\n",
    "    print(sprintf(\"Removing: %s\", ref1))\n",
    "}\n",
    "if (file.exists(ref2)) {\n",
    "    file.remove(ref2)\n",
    "    print(sprintf(\"Removing: %s\", ref2))\n",
    "}"
   ]
  },
  {
   "cell_type": "code",
   "execution_count": 12,
   "id": "likely-elite",
   "metadata": {
    "execution": {
     "iopub.execute_input": "2022-03-09T21:48:19.092036Z",
     "iopub.status.busy": "2022-03-09T21:48:19.089488Z",
     "iopub.status.idle": "2022-03-09T21:48:19.114074Z",
     "shell.execute_reply": "2022-03-09T21:48:19.112184Z"
    },
    "papermill": {
     "duration": 0.040009,
     "end_time": "2022-03-09T21:48:19.114269",
     "exception": false,
     "start_time": "2022-03-09T21:48:19.074260",
     "status": "completed"
    },
    "tags": []
   },
   "outputs": [
    {
     "name": "stdout",
     "output_type": "stream",
     "text": [
      "[1] \"Removing: simulations/alpha-0.05-cov-30/simulated_data/assemblies/data__reference.fa.gz\"\n"
     ]
    }
   ],
   "source": [
    "# Remove the new reference assembly genome since I don't need it\n",
    "ref1 <- paste(toString(assemblies_prefix), \"__reference.fa.gz\", sep=\"\")\n",
    "if (file.exists(ref1)) {\n",
    "    file.remove(ref1)\n",
    "    print(sprintf(\"Removing: %s\", ref1))\n",
    "}"
   ]
  },
  {
   "cell_type": "code",
   "execution_count": null,
   "id": "6ab27399-288a-4067-a812-d946410658a5",
   "metadata": {
    "papermill": {
     "duration": 0.010903,
     "end_time": "2022-03-09T21:48:19.143835",
     "exception": false,
     "start_time": "2022-03-09T21:48:19.132932",
     "status": "completed"
    },
    "tags": []
   },
   "outputs": [],
   "source": []
  }
 ],
 "metadata": {
  "kernelspec": {
   "display_name": "R",
   "language": "R",
   "name": "ir"
  },
  "language_info": {
   "codemirror_mode": "r",
   "file_extension": ".r",
   "mimetype": "text/x-r-source",
   "name": "R",
   "pygments_lexer": "r",
   "version": "4.1.2"
  },
  "papermill": {
   "default_parameters": {},
   "duration": 325.738263,
   "end_time": "2022-03-09T21:48:19.580968",
   "environment_variables": {},
   "exception": null,
   "input_path": "template-1-simulate-reads.ipynb",
   "output_path": "1-simulate-reads.simulation-alpha-0.05.ipynb",
   "parameters": {
    "iterations": 3,
    "mincov": 10,
    "read_coverage": 30,
    "simulation_dir": "simulations/alpha-0.05-cov-30",
    "sub_alpha": 0.05
   },
   "start_time": "2022-03-09T21:42:53.842705",
   "version": "2.3.4"
  }
 },
 "nbformat": 4,
 "nbformat_minor": 5
}