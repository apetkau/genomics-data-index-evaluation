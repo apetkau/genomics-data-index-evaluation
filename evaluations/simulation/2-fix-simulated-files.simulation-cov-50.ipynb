{
 "cells": [
  {
   "cell_type": "markdown",
   "id": "acfa5482-d626-44d6-b613-863e6911fa98",
   "metadata": {
    "papermill": {
     "duration": 0.013924,
     "end_time": "2021-09-02T03:15:31.467877",
     "exception": false,
     "start_time": "2021-09-02T03:15:31.453953",
     "status": "completed"
    },
    "tags": []
   },
   "source": [
    "# 1. Parameters"
   ]
  },
  {
   "cell_type": "code",
   "execution_count": 1,
   "id": "36126d74-a9d8-4431-ba49-767c1fc2ec49",
   "metadata": {
    "execution": {
     "iopub.execute_input": "2021-09-02T03:15:31.496201Z",
     "iopub.status.busy": "2021-09-02T03:15:31.495734Z",
     "iopub.status.idle": "2021-09-02T03:15:31.500545Z",
     "shell.execute_reply": "2021-09-02T03:15:31.499965Z"
    },
    "papermill": {
     "duration": 0.024259,
     "end_time": "2021-09-02T03:15:31.500695",
     "exception": false,
     "start_time": "2021-09-02T03:15:31.476436",
     "status": "completed"
    },
    "tags": [
     "parameters"
    ]
   },
   "outputs": [],
   "source": [
    "# Defaults\n",
    "simulation_dir = 'simulations/unset'\n",
    "ncores = 48"
   ]
  },
  {
   "cell_type": "code",
   "execution_count": 2,
   "id": "f01e39af",
   "metadata": {
    "execution": {
     "iopub.execute_input": "2021-09-02T03:15:31.520168Z",
     "iopub.status.busy": "2021-09-02T03:15:31.519687Z",
     "iopub.status.idle": "2021-09-02T03:15:31.523014Z",
     "shell.execute_reply": "2021-09-02T03:15:31.522615Z"
    },
    "papermill": {
     "duration": 0.015501,
     "end_time": "2021-09-02T03:15:31.523113",
     "exception": false,
     "start_time": "2021-09-02T03:15:31.507612",
     "status": "completed"
    },
    "tags": [
     "injected-parameters"
    ]
   },
   "outputs": [],
   "source": [
    "# Parameters\n",
    "read_coverage = 50\n",
    "mincov = 10\n",
    "simulation_dir = \"simulations/cov-50\"\n",
    "iterations = 3\n"
   ]
  },
  {
   "cell_type": "code",
   "execution_count": 3,
   "id": "15e911d7-0ffc-4110-aefe-71bc77e689cd",
   "metadata": {
    "execution": {
     "iopub.execute_input": "2021-09-02T03:15:31.542427Z",
     "iopub.status.busy": "2021-09-02T03:15:31.542001Z",
     "iopub.status.idle": "2021-09-02T03:15:31.544792Z",
     "shell.execute_reply": "2021-09-02T03:15:31.545121Z"
    },
    "papermill": {
     "duration": 0.016623,
     "end_time": "2021-09-02T03:15:31.545227",
     "exception": false,
     "start_time": "2021-09-02T03:15:31.528604",
     "status": "completed"
    },
    "tags": []
   },
   "outputs": [],
   "source": [
    "from pathlib import Path\n",
    "import os\n",
    "\n",
    "simulation_data_dir = Path(simulation_dir) / 'simulated_data'\n",
    "initial_reads_dir = simulation_data_dir / 'reads_initial'\n",
    "reads_dir = simulation_data_dir / 'reads'\n",
    "assemblies_dir = simulation_data_dir / 'assemblies'\n",
    "\n",
    "if not reads_dir.exists():\n",
    "    os.mkdir(reads_dir)"
   ]
  },
  {
   "cell_type": "markdown",
   "id": "rotary-regard",
   "metadata": {
    "papermill": {
     "duration": 0.006096,
     "end_time": "2021-09-02T03:15:31.557014",
     "exception": false,
     "start_time": "2021-09-02T03:15:31.550918",
     "status": "completed"
    },
    "tags": []
   },
   "source": [
    "# 2. Fix reads\n",
    "\n",
    "Fix read file names and data so they can be indexed."
   ]
  },
  {
   "cell_type": "code",
   "execution_count": 4,
   "id": "convenient-blackberry",
   "metadata": {
    "execution": {
     "iopub.execute_input": "2021-09-02T03:15:31.577498Z",
     "iopub.status.busy": "2021-09-02T03:15:31.572001Z",
     "iopub.status.idle": "2021-09-02T03:15:31.748030Z",
     "shell.execute_reply": "2021-09-02T03:15:31.748861Z"
    },
    "papermill": {
     "duration": 0.187847,
     "end_time": "2021-09-02T03:15:31.749141",
     "exception": false,
     "start_time": "2021-09-02T03:15:31.561294",
     "status": "completed"
    },
    "tags": []
   },
   "outputs": [
    {
     "name": "stdout",
     "output_type": "stream",
     "text": [
      "~/workspace/genomics-data-index-evaluation/evaluations/simulation/simulations/cov-50/simulated_data/reads_initial ~/workspace/genomics-data-index-evaluation/evaluations/simulation\r\n"
     ]
    },
    {
     "name": "stdout",
     "output_type": "stream",
     "text": [
      "~/workspace/genomics-data-index-evaluation/evaluations/simulation\r\n"
     ]
    }
   ],
   "source": [
    "import os\n",
    "\n",
    "# Fix warning about locale unset\n",
    "os.environ['LANG'] = 'en_US.UTF-8'\n",
    "\n",
    "!pushd {initial_reads_dir}; prename 's/data_//' *.fq.gz; popd"
   ]
  },
  {
   "cell_type": "markdown",
   "id": "median-belle",
   "metadata": {
    "papermill": {
     "duration": 0.008166,
     "end_time": "2021-09-02T03:15:31.770178",
     "exception": false,
     "start_time": "2021-09-02T03:15:31.762012",
     "status": "completed"
    },
    "tags": []
   },
   "source": [
    "Jackalope produces reads with non-standard identifiers where pairs of reads don't have matching identifiers. For example:\n",
    "\n",
    "* Pair 1: `@SH08-001-NC_011083-3048632-R/1`\n",
    "* Pair 2: `@SH08-001-NC_011083-3048396-F/2`\n",
    "\n",
    "In order to run snippy, these paired identifiers need to match (except for the `/1` and `/2` suffix).\n",
    "\n",
    "So, I have to replace them all with something unique, but which matches in each pair of files. I do this by replacing the position (I think) with the read number (as it appears in the file). So the above identifiers become:\n",
    "\n",
    "* Pair 1: `@SH08-001-NC_011083-1/1`\n",
    "* Pair 2: `@SH08-001-NC_011083-1/2`"
   ]
  },
  {
   "cell_type": "code",
   "execution_count": 5,
   "id": "remarkable-berry",
   "metadata": {
    "execution": {
     "iopub.execute_input": "2021-09-02T03:15:31.790389Z",
     "iopub.status.busy": "2021-09-02T03:15:31.789860Z",
     "iopub.status.idle": "2021-09-02T03:15:32.834138Z",
     "shell.execute_reply": "2021-09-02T03:15:32.835031Z"
    },
    "papermill": {
     "duration": 1.059209,
     "end_time": "2021-09-02T03:15:32.835366",
     "exception": false,
     "start_time": "2021-09-02T03:15:31.776157",
     "status": "completed"
    },
    "tags": []
   },
   "outputs": [],
   "source": [
    "import glob\n",
    "import os\n",
    "\n",
    "files = [os.path.basename(f) for f in glob.glob(f'{initial_reads_dir}/*.fq.gz')]\n",
    "!parallel -j {ncores} -I% 'gzip -d --stdout {initial_reads_dir}/% | perl scripts/replace-fastq-header.pl | gzip > {reads_dir}/%' \\\n",
    "    ::: {' '.join(files)}"
   ]
  },
  {
   "cell_type": "code",
   "execution_count": 6,
   "id": "8318e7a8-1057-4e4f-aaec-fccdec42a75f",
   "metadata": {
    "execution": {
     "iopub.execute_input": "2021-09-02T03:15:32.864954Z",
     "iopub.status.busy": "2021-09-02T03:15:32.864468Z",
     "iopub.status.idle": "2021-09-02T03:15:32.882492Z",
     "shell.execute_reply": "2021-09-02T03:15:32.881797Z"
    },
    "papermill": {
     "duration": 0.033178,
     "end_time": "2021-09-02T03:15:32.882680",
     "exception": false,
     "start_time": "2021-09-02T03:15:32.849502",
     "status": "completed"
    },
    "tags": []
   },
   "outputs": [],
   "source": [
    "import shutil\n",
    "\n",
    "shutil.rmtree(initial_reads_dir)"
   ]
  },
  {
   "cell_type": "markdown",
   "id": "cf630b4f-ed63-4e14-9657-e0aaea0953ab",
   "metadata": {
    "papermill": {
     "duration": 0.009406,
     "end_time": "2021-09-02T03:15:32.905281",
     "exception": false,
     "start_time": "2021-09-02T03:15:32.895875",
     "status": "completed"
    },
    "tags": []
   },
   "source": [
    "# 3. Fix assemblies\n",
    "\n",
    "Fix assembly genome names"
   ]
  },
  {
   "cell_type": "code",
   "execution_count": 7,
   "id": "08fac610-3ab3-4afa-9873-406973041963",
   "metadata": {
    "execution": {
     "iopub.execute_input": "2021-09-02T03:15:32.928623Z",
     "iopub.status.busy": "2021-09-02T03:15:32.924955Z",
     "iopub.status.idle": "2021-09-02T03:15:33.102992Z",
     "shell.execute_reply": "2021-09-02T03:15:33.103868Z"
    },
    "papermill": {
     "duration": 0.191971,
     "end_time": "2021-09-02T03:15:33.104161",
     "exception": false,
     "start_time": "2021-09-02T03:15:32.912190",
     "status": "completed"
    },
    "tags": []
   },
   "outputs": [
    {
     "name": "stdout",
     "output_type": "stream",
     "text": [
      "~/workspace/genomics-data-index-evaluation/evaluations/simulation/simulations/cov-50/simulated_data/assemblies ~/workspace/genomics-data-index-evaluation/evaluations/simulation\r\n"
     ]
    },
    {
     "name": "stdout",
     "output_type": "stream",
     "text": [
      "~/workspace/genomics-data-index-evaluation/evaluations/simulation\r\n"
     ]
    }
   ],
   "source": [
    "!pushd {assemblies_dir}; prename 's/data__//' *.fa.gz; popd"
   ]
  }
 ],
 "metadata": {
  "kernelspec": {
   "display_name": "Python 3 (ipykernel)",
   "language": "python",
   "name": "python3"
  },
  "language_info": {
   "codemirror_mode": {
    "name": "ipython",
    "version": 3
   },
   "file_extension": ".py",
   "mimetype": "text/x-python",
   "name": "python",
   "nbconvert_exporter": "python",
   "pygments_lexer": "ipython3",
   "version": "3.8.10"
  },
  "papermill": {
   "default_parameters": {},
   "duration": 2.737456,
   "end_time": "2021-09-02T03:15:33.230201",
   "environment_variables": {},
   "exception": null,
   "input_path": "template-2-fix-simulated-files.ipynb",
   "output_path": "2-fix-simulated-files.simulation-cov-50.ipynb",
   "parameters": {
    "iterations": 3,
    "mincov": 10,
    "read_coverage": 50,
    "simulation_dir": "simulations/cov-50"
   },
   "start_time": "2021-09-02T03:15:30.492745",
   "version": "2.3.3"
  }
 },
 "nbformat": 4,
 "nbformat_minor": 5
}