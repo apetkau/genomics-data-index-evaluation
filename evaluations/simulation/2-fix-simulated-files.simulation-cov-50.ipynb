{
 "cells": [
  {
   "cell_type": "markdown",
   "id": "acfa5482-d626-44d6-b613-863e6911fa98",
   "metadata": {
    "papermill": {
     "duration": 0.013991,
     "end_time": "2021-09-01T00:15:28.326364",
     "exception": false,
     "start_time": "2021-09-01T00:15:28.312373",
     "status": "completed"
    },
    "tags": []
   },
   "source": [
    "# 1. Parameters"
   ]
  },
  {
   "cell_type": "code",
   "execution_count": 1,
   "id": "36126d74-a9d8-4431-ba49-767c1fc2ec49",
   "metadata": {
    "execution": {
     "iopub.execute_input": "2021-09-01T00:15:28.356547Z",
     "iopub.status.busy": "2021-09-01T00:15:28.355911Z",
     "iopub.status.idle": "2021-09-01T00:15:28.362201Z",
     "shell.execute_reply": "2021-09-01T00:15:28.361423Z"
    },
    "papermill": {
     "duration": 0.026808,
     "end_time": "2021-09-01T00:15:28.362397",
     "exception": false,
     "start_time": "2021-09-01T00:15:28.335589",
     "status": "completed"
    },
    "tags": [
     "parameters"
    ]
   },
   "outputs": [],
   "source": [
    "# Defaults\n",
    "simulation_dir = 'simulations/unset'\n",
    "ncores = 48"
   ]
  },
  {
   "cell_type": "code",
   "execution_count": 2,
   "id": "a515fc63",
   "metadata": {
    "execution": {
     "iopub.execute_input": "2021-09-01T00:15:28.384012Z",
     "iopub.status.busy": "2021-09-01T00:15:28.383537Z",
     "iopub.status.idle": "2021-09-01T00:15:28.386699Z",
     "shell.execute_reply": "2021-09-01T00:15:28.387068Z"
    },
    "papermill": {
     "duration": 0.015815,
     "end_time": "2021-09-01T00:15:28.387184",
     "exception": false,
     "start_time": "2021-09-01T00:15:28.371369",
     "status": "completed"
    },
    "tags": [
     "injected-parameters"
    ]
   },
   "outputs": [],
   "source": [
    "# Parameters\n",
    "read_coverage = 50\n",
    "mincov = 10\n",
    "simulation_dir = \"simulations/cov-50\"\n",
    "iterations = 3\n"
   ]
  },
  {
   "cell_type": "code",
   "execution_count": 3,
   "id": "15e911d7-0ffc-4110-aefe-71bc77e689cd",
   "metadata": {
    "execution": {
     "iopub.execute_input": "2021-09-01T00:15:28.406035Z",
     "iopub.status.busy": "2021-09-01T00:15:28.405622Z",
     "iopub.status.idle": "2021-09-01T00:15:28.408615Z",
     "shell.execute_reply": "2021-09-01T00:15:28.408940Z"
    },
    "papermill": {
     "duration": 0.016333,
     "end_time": "2021-09-01T00:15:28.409043",
     "exception": false,
     "start_time": "2021-09-01T00:15:28.392710",
     "status": "completed"
    },
    "tags": []
   },
   "outputs": [],
   "source": [
    "from pathlib import Path\n",
    "import os\n",
    "\n",
    "simulation_data_dir = Path(simulation_dir) / 'simulated_data'\n",
    "initial_reads_dir = simulation_data_dir / 'reads_initial'\n",
    "reads_dir = simulation_data_dir / 'reads'\n",
    "assemblies_dir = simulation_data_dir / 'assemblies'\n",
    "\n",
    "if not reads_dir.exists():\n",
    "    os.mkdir(reads_dir)"
   ]
  },
  {
   "cell_type": "markdown",
   "id": "rotary-regard",
   "metadata": {
    "papermill": {
     "duration": 0.005846,
     "end_time": "2021-09-01T00:15:28.420372",
     "exception": false,
     "start_time": "2021-09-01T00:15:28.414526",
     "status": "completed"
    },
    "tags": []
   },
   "source": [
    "# 2. Fix reads\n",
    "\n",
    "Fix read file names and data so they can be indexed."
   ]
  },
  {
   "cell_type": "code",
   "execution_count": 4,
   "id": "convenient-blackberry",
   "metadata": {
    "execution": {
     "iopub.execute_input": "2021-09-01T00:15:28.442631Z",
     "iopub.status.busy": "2021-09-01T00:15:28.435259Z",
     "iopub.status.idle": "2021-09-01T00:15:28.615347Z",
     "shell.execute_reply": "2021-09-01T00:15:28.616277Z"
    },
    "papermill": {
     "duration": 0.191703,
     "end_time": "2021-09-01T00:15:28.616597",
     "exception": false,
     "start_time": "2021-09-01T00:15:28.424894",
     "status": "completed"
    },
    "tags": []
   },
   "outputs": [
    {
     "name": "stdout",
     "output_type": "stream",
     "text": [
      "~/workspace/genomics-data-index-evaluation/evaluations/simulation/simulations/cov-50/simulated_data/reads_initial ~/workspace/genomics-data-index-evaluation/evaluations/simulation\r\n"
     ]
    },
    {
     "name": "stdout",
     "output_type": "stream",
     "text": [
      "~/workspace/genomics-data-index-evaluation/evaluations/simulation\r\n"
     ]
    }
   ],
   "source": [
    "import os\n",
    "\n",
    "# Fix warning about locale unset\n",
    "os.environ['LANG'] = 'en_US.UTF-8'\n",
    "\n",
    "!pushd {initial_reads_dir}; prename 's/data_//' *.fq.gz; popd"
   ]
  },
  {
   "cell_type": "markdown",
   "id": "median-belle",
   "metadata": {
    "papermill": {
     "duration": 0.008579,
     "end_time": "2021-09-01T00:15:28.640080",
     "exception": false,
     "start_time": "2021-09-01T00:15:28.631501",
     "status": "completed"
    },
    "tags": []
   },
   "source": [
    "Jackalope produces reads with non-standard identifiers where pairs of reads don't have matching identifiers. For example:\n",
    "\n",
    "* Pair 1: `@SH08-001-NC_011083-3048632-R/1`\n",
    "* Pair 2: `@SH08-001-NC_011083-3048396-F/2`\n",
    "\n",
    "In order to run snippy, these paired identifiers need to match (except for the `/1` and `/2` suffix).\n",
    "\n",
    "So, I have to replace them all with something unique, but which matches in each pair of files. I do this by replacing the position (I think) with the read number (as it appears in the file). So the above identifiers become:\n",
    "\n",
    "* Pair 1: `@SH08-001-NC_011083-1/1`\n",
    "* Pair 2: `@SH08-001-NC_011083-1/2`"
   ]
  },
  {
   "cell_type": "code",
   "execution_count": 5,
   "id": "remarkable-berry",
   "metadata": {
    "execution": {
     "iopub.execute_input": "2021-09-01T00:15:28.661339Z",
     "iopub.status.busy": "2021-09-01T00:15:28.660932Z",
     "iopub.status.idle": "2021-09-01T00:17:34.890267Z",
     "shell.execute_reply": "2021-09-01T00:17:34.891180Z"
    },
    "papermill": {
     "duration": 126.245351,
     "end_time": "2021-09-01T00:17:34.891584",
     "exception": false,
     "start_time": "2021-09-01T00:15:28.646233",
     "status": "completed"
    },
    "tags": []
   },
   "outputs": [],
   "source": [
    "import glob\n",
    "import os\n",
    "\n",
    "files = [os.path.basename(f) for f in glob.glob(f'{initial_reads_dir}/*.fq.gz')]\n",
    "!parallel -j {ncores} -I% 'gzip -d --stdout {initial_reads_dir}/% | perl scripts/replace-fastq-header.pl | gzip > {reads_dir}/%' \\\n",
    "    ::: {' '.join(files)}"
   ]
  },
  {
   "cell_type": "code",
   "execution_count": 6,
   "id": "8318e7a8-1057-4e4f-aaec-fccdec42a75f",
   "metadata": {
    "execution": {
     "iopub.execute_input": "2021-09-01T00:17:34.927083Z",
     "iopub.status.busy": "2021-09-01T00:17:34.925899Z",
     "iopub.status.idle": "2021-09-01T00:17:36.451313Z",
     "shell.execute_reply": "2021-09-01T00:17:36.450420Z"
    },
    "papermill": {
     "duration": 1.545297,
     "end_time": "2021-09-01T00:17:36.451568",
     "exception": false,
     "start_time": "2021-09-01T00:17:34.906271",
     "status": "completed"
    },
    "tags": []
   },
   "outputs": [],
   "source": [
    "import shutil\n",
    "\n",
    "shutil.rmtree(initial_reads_dir)"
   ]
  },
  {
   "cell_type": "markdown",
   "id": "cf630b4f-ed63-4e14-9657-e0aaea0953ab",
   "metadata": {
    "papermill": {
     "duration": 0.008888,
     "end_time": "2021-09-01T00:17:36.474916",
     "exception": false,
     "start_time": "2021-09-01T00:17:36.466028",
     "status": "completed"
    },
    "tags": []
   },
   "source": [
    "# 3. Fix assemblies\n",
    "\n",
    "Fix assembly genome names"
   ]
  },
  {
   "cell_type": "code",
   "execution_count": 7,
   "id": "08fac610-3ab3-4afa-9873-406973041963",
   "metadata": {
    "execution": {
     "iopub.execute_input": "2021-09-01T00:17:36.499303Z",
     "iopub.status.busy": "2021-09-01T00:17:36.495351Z",
     "iopub.status.idle": "2021-09-01T00:17:36.671768Z",
     "shell.execute_reply": "2021-09-01T00:17:36.672631Z"
    },
    "papermill": {
     "duration": 0.19179,
     "end_time": "2021-09-01T00:17:36.672921",
     "exception": false,
     "start_time": "2021-09-01T00:17:36.481131",
     "status": "completed"
    },
    "tags": []
   },
   "outputs": [
    {
     "name": "stdout",
     "output_type": "stream",
     "text": [
      "~/workspace/genomics-data-index-evaluation/evaluations/simulation/simulations/cov-50/simulated_data/assemblies ~/workspace/genomics-data-index-evaluation/evaluations/simulation\r\n"
     ]
    },
    {
     "name": "stdout",
     "output_type": "stream",
     "text": [
      "~/workspace/genomics-data-index-evaluation/evaluations/simulation\r\n"
     ]
    }
   ],
   "source": [
    "!pushd {assemblies_dir}; prename 's/data__//' *.fa.gz; popd"
   ]
  }
 ],
 "metadata": {
  "kernelspec": {
   "display_name": "Python 3 (ipykernel)",
   "language": "python",
   "name": "python3"
  },
  "language_info": {
   "codemirror_mode": {
    "name": "ipython",
    "version": 3
   },
   "file_extension": ".py",
   "mimetype": "text/x-python",
   "name": "python",
   "nbconvert_exporter": "python",
   "pygments_lexer": "ipython3",
   "version": "3.8.10"
  },
  "papermill": {
   "default_parameters": {},
   "duration": 129.432402,
   "end_time": "2021-09-01T00:17:36.898936",
   "environment_variables": {},
   "exception": null,
   "input_path": "template-2-fix-simulated-files.ipynb",
   "output_path": "2-fix-simulated-files.simulation-cov-50.ipynb",
   "parameters": {
    "iterations": 3,
    "mincov": 10,
    "read_coverage": 50,
    "simulation_dir": "simulations/cov-50"
   },
   "start_time": "2021-09-01T00:15:27.466534",
   "version": "2.3.3"
  }
 },
 "nbformat": 4,
 "nbformat_minor": 5
}