{
 "cells": [
  {
   "cell_type": "markdown",
   "id": "7d3667b4-b1f8-4347-96e3-830c25b06740",
   "metadata": {
    "papermill": {
     "duration": 0.019305,
     "end_time": "2022-03-08T20:43:15.264584",
     "exception": false,
     "start_time": "2022-03-08T20:43:15.245279",
     "status": "completed"
    },
    "tags": []
   },
   "source": [
    "# 1. Parameters"
   ]
  },
  {
   "cell_type": "code",
   "execution_count": 1,
   "id": "d4ab0749-b286-4c34-b63c-a854e4952bae",
   "metadata": {
    "execution": {
     "iopub.execute_input": "2022-03-08T20:43:15.297398Z",
     "iopub.status.busy": "2022-03-08T20:43:15.296655Z",
     "iopub.status.idle": "2022-03-08T20:43:15.302190Z",
     "shell.execute_reply": "2022-03-08T20:43:15.301288Z"
    },
    "papermill": {
     "duration": 0.02794,
     "end_time": "2022-03-08T20:43:15.302417",
     "exception": false,
     "start_time": "2022-03-08T20:43:15.274477",
     "status": "completed"
    },
    "tags": [
     "parameters"
    ]
   },
   "outputs": [],
   "source": [
    "# Defaults\n",
    "simulation_dir = 'simulations/unset'\n",
    "reference_file = 'simulations/reference/reference.fa.gz'\n",
    "iterations = 3\n",
    "mincov = 10\n",
    "ncores = 32"
   ]
  },
  {
   "cell_type": "code",
   "execution_count": 2,
   "id": "c1952df6",
   "metadata": {
    "execution": {
     "iopub.execute_input": "2022-03-08T20:43:15.332749Z",
     "iopub.status.busy": "2022-03-08T20:43:15.332304Z",
     "iopub.status.idle": "2022-03-08T20:43:15.335314Z",
     "shell.execute_reply": "2022-03-08T20:43:15.335621Z"
    },
    "papermill": {
     "duration": 0.018474,
     "end_time": "2022-03-08T20:43:15.335733",
     "exception": false,
     "start_time": "2022-03-08T20:43:15.317259",
     "status": "completed"
    },
    "tags": [
     "injected-parameters"
    ]
   },
   "outputs": [],
   "source": [
    "# Parameters\n",
    "read_coverage = 30\n",
    "mincov = 10\n",
    "simulation_dir = \"simulations/alpha-1.0-cov-30\"\n",
    "iterations = 3\n",
    "sub_alpha = 1.0\n"
   ]
  },
  {
   "cell_type": "code",
   "execution_count": 3,
   "id": "ce5962e4-261c-4210-b39b-47044e28466b",
   "metadata": {
    "execution": {
     "iopub.execute_input": "2022-03-08T20:43:15.360685Z",
     "iopub.status.busy": "2022-03-08T20:43:15.360118Z",
     "iopub.status.idle": "2022-03-08T20:43:18.199297Z",
     "shell.execute_reply": "2022-03-08T20:43:18.198332Z"
    },
    "papermill": {
     "duration": 2.856141,
     "end_time": "2022-03-08T20:43:18.199554",
     "exception": false,
     "start_time": "2022-03-08T20:43:15.343413",
     "status": "completed"
    },
    "tags": []
   },
   "outputs": [],
   "source": [
    "from pathlib import Path\n",
    "import imp\n",
    "fp, pathname, description = imp.find_module('gdi_benchmark', ['../../lib'])\n",
    "gdi_benchmark = imp.load_module('gdi_benchmark', fp, pathname, description)\n",
    "\n",
    "simulation_dir_path = Path(simulation_dir)\n",
    "\n",
    "case_name = str(simulation_dir_path.name)\n",
    "reads_dir = simulation_dir_path / 'simulated_data' / 'reads'\n",
    "assemblies_dir = simulation_dir_path / 'simulated_data' / 'assemblies'\n",
    "index_reads_path = simulation_dir_path / 'index-reads'\n",
    "index_assemblies_path = simulation_dir_path / 'index-assemblies'\n",
    "output_reads_tree = index_reads_path / 'reads.tre'\n",
    "output_assemblies_tree = index_assemblies_path / 'assemblies.tre'\n",
    "reference_name = Path(reference_file).name.split('.')[0]"
   ]
  },
  {
   "cell_type": "markdown",
   "id": "f208279e-7558-47fc-9362-da29df92828a",
   "metadata": {
    "papermill": {
     "duration": 0.009834,
     "end_time": "2022-03-08T20:43:18.226428",
     "exception": false,
     "start_time": "2022-03-08T20:43:18.216594",
     "status": "completed"
    },
    "tags": []
   },
   "source": [
    "# 2. Index genomes"
   ]
  },
  {
   "cell_type": "code",
   "execution_count": 4,
   "id": "4e936f7c-2fcd-4188-b0e6-6b3ceb5cdcd2",
   "metadata": {
    "execution": {
     "iopub.execute_input": "2022-03-08T20:43:18.246919Z",
     "iopub.status.busy": "2022-03-08T20:43:18.246521Z",
     "iopub.status.idle": "2022-03-08T20:43:21.509557Z",
     "shell.execute_reply": "2022-03-08T20:43:21.510486Z"
    },
    "papermill": {
     "duration": 3.276868,
     "end_time": "2022-03-08T20:43:21.510779",
     "exception": false,
     "start_time": "2022-03-08T20:43:18.233911",
     "status": "completed"
    },
    "tags": []
   },
   "outputs": [
    {
     "name": "stdout",
     "output_type": "stream",
     "text": [
      "gdi, version 0.6.0.dev2\r\n"
     ]
    }
   ],
   "source": [
    "!gdi --version"
   ]
  },
  {
   "cell_type": "markdown",
   "id": "5409ecf8-2158-4361-9d2f-6b1a6c7c63a6",
   "metadata": {
    "papermill": {
     "duration": 0.010275,
     "end_time": "2022-03-08T20:43:21.539948",
     "exception": false,
     "start_time": "2022-03-08T20:43:21.529673",
     "status": "completed"
    },
    "tags": []
   },
   "source": [
    "## 2.1. Index reads"
   ]
  },
  {
   "cell_type": "code",
   "execution_count": 5,
   "id": "b5324f79-913b-4dac-8122-19ad5c0f24b2",
   "metadata": {
    "execution": {
     "iopub.execute_input": "2022-03-08T20:43:21.573505Z",
     "iopub.status.busy": "2022-03-08T20:43:21.563137Z",
     "iopub.status.idle": "2022-03-08T20:43:25.113723Z",
     "shell.execute_reply": "2022-03-08T20:43:25.114619Z"
    },
    "papermill": {
     "duration": 3.567005,
     "end_time": "2022-03-08T20:43:25.114945",
     "exception": false,
     "start_time": "2022-03-08T20:43:21.547940",
     "status": "completed"
    },
    "tags": []
   },
   "outputs": [
    {
     "name": "stdout",
     "output_type": "stream",
     "text": [
      "\u001b[32m2022-03-08 14:43:24\u001b[0m \u001b[1;30mWARNING:\u001b[0m \u001b[33m--skip-existing-samples is enabled but no --project-dir is set. Will not skip existing samples.\u001b[0m\r\n"
     ]
    }
   ],
   "source": [
    "input_genomes_file = simulation_dir_path / 'input-reads.tsv'\n",
    "\n",
    "!gdi input --absolute {reads_dir}/*.fq.gz > {input_genomes_file}"
   ]
  },
  {
   "cell_type": "code",
   "execution_count": 6,
   "id": "3d63e861-733e-46f2-8bce-bd1a2c7c7058",
   "metadata": {
    "execution": {
     "iopub.execute_input": "2022-03-08T20:43:25.160253Z",
     "iopub.status.busy": "2022-03-08T20:43:25.158096Z",
     "iopub.status.idle": "2022-03-08T20:56:10.483644Z",
     "shell.execute_reply": "2022-03-08T20:56:10.482665Z"
    },
    "papermill": {
     "duration": 765.346062,
     "end_time": "2022-03-08T20:56:10.483937",
     "exception": false,
     "start_time": "2022-03-08T20:43:25.137875",
     "status": "completed"
    },
    "tags": []
   },
   "outputs": [
    {
     "name": "stdout",
     "output_type": "stream",
     "text": [
      "\n",
      "Iteration 1 of index/analysis of 59 samples with 32 cores\n",
      "Removing any extra snakemake directories: ['snakemake-assemblies.1646771955.4134176']\n"
     ]
    },
    {
     "name": "stdout",
     "output_type": "stream",
     "text": [
      "Creating new index: [gdi init simulations/alpha-1.0-cov-30/index-reads]\n"
     ]
    },
    {
     "name": "stdout",
     "output_type": "stream",
     "text": [
      "Creating a new index took 3.53 seconds\n",
      "Analysis running: [gdi --project-dir simulations/alpha-1.0-cov-30/index-reads --ncores 32 analysis --use-conda --no-load-data --reference-file simulations/reference/reference.fa.gz --kmer-size 31 --kmer-size 51 --kmer-size 71 --include-kmer --reads-mincov 10 --input-structured-genomes-file simulations/alpha-1.0-cov-30/input-reads.tsv]\n"
     ]
    },
    {
     "name": "stdout",
     "output_type": "stream",
     "text": [
      "Analysis took 2.01 minutes\n",
      "Index running: [gdi --project-dir simulations/alpha-1.0-cov-30/index-reads --ncores 32 load vcf-kmer --sample-batch-size 2000 --reference-file simulations/reference/reference.fa.gz /home/CSCScience.ca/apetkau/workspace/genomics-data-index-evaluation/evaluations/simulation/snakemake-assemblies.1646772213.4816306/gdi-input.fofn]\n"
     ]
    },
    {
     "name": "stdout",
     "output_type": "stream",
     "text": [
      "Indexing took 0.17 minutes\n",
      "Building tree: [gdi --project-dir simulations/alpha-1.0-cov-30/index-reads --ncores 32 rebuild tree --align-type full --extra-params '--fast -m GTR+F+R4' reference]\n"
     ]
    },
    {
     "name": "stdout",
     "output_type": "stream",
     "text": [
      "Building tree took 1.89 minutes\n"
     ]
    },
    {
     "name": "stderr",
     "output_type": "stream",
     "text": [
      "A reminder to myself to look for a Python solution for directory sizes (instead of running `du`)\n"
     ]
    },
    {
     "name": "stdout",
     "output_type": "stream",
     "text": [
      "\n",
      "Iteration 2 of index/analysis of 59 samples with 32 cores\n",
      "Removing any extra snakemake directories: ['snakemake-assemblies.1646772213.4816306']\n"
     ]
    },
    {
     "name": "stdout",
     "output_type": "stream",
     "text": [
      "Removing any existing indexes simulations/alpha-1.0-cov-30/index-reads\n",
      "Creating new index: [gdi init simulations/alpha-1.0-cov-30/index-reads]\n"
     ]
    },
    {
     "name": "stdout",
     "output_type": "stream",
     "text": [
      "Creating a new index took 3.34 seconds\n",
      "Analysis running: [gdi --project-dir simulations/alpha-1.0-cov-30/index-reads --ncores 32 analysis --use-conda --no-load-data --reference-file simulations/reference/reference.fa.gz --kmer-size 31 --kmer-size 51 --kmer-size 71 --include-kmer --reads-mincov 10 --input-structured-genomes-file simulations/alpha-1.0-cov-30/input-reads.tsv]\n"
     ]
    },
    {
     "name": "stdout",
     "output_type": "stream",
     "text": [
      "Analysis took 1.99 minutes\n",
      "Index running: [gdi --project-dir simulations/alpha-1.0-cov-30/index-reads --ncores 32 load vcf-kmer --sample-batch-size 2000 --reference-file simulations/reference/reference.fa.gz /home/CSCScience.ca/apetkau/workspace/genomics-data-index-evaluation/evaluations/simulation/snakemake-assemblies.1646772463.1542895/gdi-input.fofn]\n"
     ]
    },
    {
     "name": "stdout",
     "output_type": "stream",
     "text": [
      "Indexing took 0.17 minutes\n",
      "Building tree: [gdi --project-dir simulations/alpha-1.0-cov-30/index-reads --ncores 32 rebuild tree --align-type full --extra-params '--fast -m GTR+F+R4' reference]\n"
     ]
    },
    {
     "name": "stdout",
     "output_type": "stream",
     "text": [
      "Building tree took 1.92 minutes\n"
     ]
    },
    {
     "name": "stderr",
     "output_type": "stream",
     "text": [
      "Attempting to set global database_path_translator=<genomics_data_index.storage.model.db.DatabasePathTranslator.DatabasePathTranslator object at 0x7f5d5f215c70> but it is already set\n"
     ]
    },
    {
     "name": "stderr",
     "output_type": "stream",
     "text": [
      "A reminder to myself to look for a Python solution for directory sizes (instead of running `du`)\n"
     ]
    },
    {
     "name": "stdout",
     "output_type": "stream",
     "text": [
      "\n",
      "Iteration 3 of index/analysis of 59 samples with 32 cores\n",
      "Removing any extra snakemake directories: ['snakemake-assemblies.1646772463.1542895']\n"
     ]
    },
    {
     "name": "stdout",
     "output_type": "stream",
     "text": [
      "Removing any existing indexes simulations/alpha-1.0-cov-30/index-reads\n",
      "Creating new index: [gdi init simulations/alpha-1.0-cov-30/index-reads]\n"
     ]
    },
    {
     "name": "stdout",
     "output_type": "stream",
     "text": [
      "Creating a new index took 3.32 seconds\n",
      "Analysis running: [gdi --project-dir simulations/alpha-1.0-cov-30/index-reads --ncores 32 analysis --use-conda --no-load-data --reference-file simulations/reference/reference.fa.gz --kmer-size 31 --kmer-size 51 --kmer-size 71 --include-kmer --reads-mincov 10 --input-structured-genomes-file simulations/alpha-1.0-cov-30/input-reads.tsv]\n"
     ]
    },
    {
     "name": "stdout",
     "output_type": "stream",
     "text": [
      "Analysis took 2.07 minutes\n",
      "Index running: [gdi --project-dir simulations/alpha-1.0-cov-30/index-reads --ncores 32 load vcf-kmer --sample-batch-size 2000 --reference-file simulations/reference/reference.fa.gz /home/CSCScience.ca/apetkau/workspace/genomics-data-index-evaluation/evaluations/simulation/snakemake-assemblies.1646772712.9821587/gdi-input.fofn]\n"
     ]
    },
    {
     "name": "stdout",
     "output_type": "stream",
     "text": [
      "Indexing took 0.17 minutes\n",
      "Building tree: [gdi --project-dir simulations/alpha-1.0-cov-30/index-reads --ncores 32 rebuild tree --align-type full --extra-params '--fast -m GTR+F+R4' reference]\n"
     ]
    },
    {
     "name": "stdout",
     "output_type": "stream",
     "text": [
      "Building tree took 2.10 minutes\n"
     ]
    },
    {
     "name": "stderr",
     "output_type": "stream",
     "text": [
      "Attempting to set global database_path_translator=<genomics_data_index.storage.model.db.DatabasePathTranslator.DatabasePathTranslator object at 0x7f5d1e69ca00> but it is already set\n"
     ]
    },
    {
     "name": "stderr",
     "output_type": "stream",
     "text": [
      "A reminder to myself to look for a Python solution for directory sizes (instead of running `du`)\n"
     ]
    }
   ],
   "source": [
    "results_handler = gdi_benchmark.BenchmarkResultsHandler(name=f'{case_name} reads')\n",
    "benchmarker = gdi_benchmark.IndexBenchmarker(benchmark_results_handler=results_handler,\n",
    "                                             index_path=index_reads_path, input_files_file=input_genomes_file,\n",
    "                                             reference_file=reference_file, mincov=mincov, build_tree=True,\n",
    "                                             ncores=ncores)\n",
    "\n",
    "benchmark_df = benchmarker.benchmark(iterations=iterations)"
   ]
  },
  {
   "cell_type": "code",
   "execution_count": 7,
   "id": "3bcb6da7-0164-47f2-abdd-a4c159da1e3b",
   "metadata": {
    "execution": {
     "iopub.execute_input": "2022-03-08T20:56:10.535235Z",
     "iopub.status.busy": "2022-03-08T20:56:10.534128Z",
     "iopub.status.idle": "2022-03-08T20:56:10.558368Z",
     "shell.execute_reply": "2022-03-08T20:56:10.559266Z"
    },
    "papermill": {
     "duration": 0.053144,
     "end_time": "2022-03-08T20:56:10.559524",
     "exception": false,
     "start_time": "2022-03-08T20:56:10.506380",
     "status": "completed"
    },
    "tags": []
   },
   "outputs": [
    {
     "data": {
      "text/html": [
       "<div>\n",
       "<style scoped>\n",
       "    .dataframe tbody tr th:only-of-type {\n",
       "        vertical-align: middle;\n",
       "    }\n",
       "\n",
       "    .dataframe tbody tr th {\n",
       "        vertical-align: top;\n",
       "    }\n",
       "\n",
       "    .dataframe thead th {\n",
       "        text-align: right;\n",
       "    }\n",
       "</style>\n",
       "<table border=\"1\" class=\"dataframe\">\n",
       "  <thead>\n",
       "    <tr style=\"text-align: right;\">\n",
       "      <th></th>\n",
       "      <th>Name</th>\n",
       "      <th>Reference name</th>\n",
       "      <th>Iteration</th>\n",
       "      <th>Number samples</th>\n",
       "      <th>Number features (all)</th>\n",
       "      <th>Number features (no unknown)</th>\n",
       "      <th>Number cores</th>\n",
       "      <th>Reference length</th>\n",
       "      <th>Analysis runtime</th>\n",
       "      <th>Analysis memory (max)</th>\n",
       "      <th>...</th>\n",
       "      <th>Analysis disk uage</th>\n",
       "      <th>Index runtime</th>\n",
       "      <th>Index memory (max)</th>\n",
       "      <th>Index memory (max/process)</th>\n",
       "      <th>Index size</th>\n",
       "      <th>Tree runtime</th>\n",
       "      <th>Tree memory (max)</th>\n",
       "      <th>Tree memory (max/process)</th>\n",
       "      <th>Total runtime</th>\n",
       "      <th>Max memory</th>\n",
       "    </tr>\n",
       "  </thead>\n",
       "  <tbody>\n",
       "    <tr>\n",
       "      <th>0</th>\n",
       "      <td>alpha-1.0-cov-30 reads</td>\n",
       "      <td>reference</td>\n",
       "      <td>1</td>\n",
       "      <td>59</td>\n",
       "      <td>5753</td>\n",
       "      <td>3388</td>\n",
       "      <td>32</td>\n",
       "      <td>19699</td>\n",
       "      <td>120.62</td>\n",
       "      <td>2.679648e+09</td>\n",
       "      <td>...</td>\n",
       "      <td>2.986447e+09</td>\n",
       "      <td>10.13</td>\n",
       "      <td>6.035612e+09</td>\n",
       "      <td>318558208.0</td>\n",
       "      <td>3137536.0</td>\n",
       "      <td>113.53</td>\n",
       "      <td>283095040.0</td>\n",
       "      <td>234217472.0</td>\n",
       "      <td>244.28</td>\n",
       "      <td>6.035612e+09</td>\n",
       "    </tr>\n",
       "    <tr>\n",
       "      <th>0</th>\n",
       "      <td>alpha-1.0-cov-30 reads</td>\n",
       "      <td>reference</td>\n",
       "      <td>2</td>\n",
       "      <td>59</td>\n",
       "      <td>5753</td>\n",
       "      <td>3388</td>\n",
       "      <td>32</td>\n",
       "      <td>19699</td>\n",
       "      <td>119.37</td>\n",
       "      <td>2.685141e+09</td>\n",
       "      <td>...</td>\n",
       "      <td>2.986451e+09</td>\n",
       "      <td>9.86</td>\n",
       "      <td>6.050075e+09</td>\n",
       "      <td>319131648.0</td>\n",
       "      <td>3137536.0</td>\n",
       "      <td>115.02</td>\n",
       "      <td>283504640.0</td>\n",
       "      <td>234741760.0</td>\n",
       "      <td>244.25</td>\n",
       "      <td>6.050075e+09</td>\n",
       "    </tr>\n",
       "    <tr>\n",
       "      <th>0</th>\n",
       "      <td>alpha-1.0-cov-30 reads</td>\n",
       "      <td>reference</td>\n",
       "      <td>3</td>\n",
       "      <td>59</td>\n",
       "      <td>5753</td>\n",
       "      <td>3388</td>\n",
       "      <td>32</td>\n",
       "      <td>19699</td>\n",
       "      <td>124.37</td>\n",
       "      <td>2.610356e+09</td>\n",
       "      <td>...</td>\n",
       "      <td>2.986447e+09</td>\n",
       "      <td>9.89</td>\n",
       "      <td>6.052069e+09</td>\n",
       "      <td>318713856.0</td>\n",
       "      <td>3141632.0</td>\n",
       "      <td>126.03</td>\n",
       "      <td>282886144.0</td>\n",
       "      <td>234442752.0</td>\n",
       "      <td>260.29</td>\n",
       "      <td>6.052069e+09</td>\n",
       "    </tr>\n",
       "  </tbody>\n",
       "</table>\n",
       "<p>3 rows × 21 columns</p>\n",
       "</div>"
      ],
      "text/plain": [
       "                     Name Reference name  Iteration  Number samples  \\\n",
       "0  alpha-1.0-cov-30 reads      reference          1              59   \n",
       "0  alpha-1.0-cov-30 reads      reference          2              59   \n",
       "0  alpha-1.0-cov-30 reads      reference          3              59   \n",
       "\n",
       "   Number features (all)  Number features (no unknown)  Number cores  \\\n",
       "0                   5753                          3388            32   \n",
       "0                   5753                          3388            32   \n",
       "0                   5753                          3388            32   \n",
       "\n",
       "   Reference length  Analysis runtime  Analysis memory (max)  ...  \\\n",
       "0             19699            120.62           2.679648e+09  ...   \n",
       "0             19699            119.37           2.685141e+09  ...   \n",
       "0             19699            124.37           2.610356e+09  ...   \n",
       "\n",
       "   Analysis disk uage  Index runtime  Index memory (max)  \\\n",
       "0        2.986447e+09          10.13        6.035612e+09   \n",
       "0        2.986451e+09           9.86        6.050075e+09   \n",
       "0        2.986447e+09           9.89        6.052069e+09   \n",
       "\n",
       "   Index memory (max/process)  Index size  Tree runtime  Tree memory (max)  \\\n",
       "0                 318558208.0   3137536.0        113.53        283095040.0   \n",
       "0                 319131648.0   3137536.0        115.02        283504640.0   \n",
       "0                 318713856.0   3141632.0        126.03        282886144.0   \n",
       "\n",
       "   Tree memory (max/process)  Total runtime    Max memory  \n",
       "0                234217472.0         244.28  6.035612e+09  \n",
       "0                234741760.0         244.25  6.050075e+09  \n",
       "0                234442752.0         260.29  6.052069e+09  \n",
       "\n",
       "[3 rows x 21 columns]"
      ]
     },
     "execution_count": 7,
     "metadata": {},
     "output_type": "execute_result"
    }
   ],
   "source": [
    "benchmark_df"
   ]
  },
  {
   "cell_type": "code",
   "execution_count": 8,
   "id": "535a9ccc-ab9c-4919-806f-128e1efd2389",
   "metadata": {
    "execution": {
     "iopub.execute_input": "2022-03-08T20:56:10.602999Z",
     "iopub.status.busy": "2022-03-08T20:56:10.602601Z",
     "iopub.status.idle": "2022-03-08T20:56:10.609464Z",
     "shell.execute_reply": "2022-03-08T20:56:10.609812Z"
    },
    "papermill": {
     "duration": 0.02568,
     "end_time": "2022-03-08T20:56:10.609916",
     "exception": false,
     "start_time": "2022-03-08T20:56:10.584236",
     "status": "completed"
    },
    "tags": []
   },
   "outputs": [],
   "source": [
    "index_reads_runtime = simulation_dir_path / 'reads-index-info.tsv'\n",
    "benchmark_df.to_csv(index_reads_runtime, sep='\\t', index=False)"
   ]
  },
  {
   "cell_type": "markdown",
   "id": "c331578f-4026-4a9f-a3ba-288814b02ed2",
   "metadata": {
    "papermill": {
     "duration": 0.011725,
     "end_time": "2022-03-08T20:56:10.637114",
     "exception": false,
     "start_time": "2022-03-08T20:56:10.625389",
     "status": "completed"
    },
    "tags": []
   },
   "source": [
    "## 2.2. Index assemblies"
   ]
  },
  {
   "cell_type": "code",
   "execution_count": 9,
   "id": "6e6664f4-94ee-4c45-b1fc-e048b387fa49",
   "metadata": {
    "execution": {
     "iopub.execute_input": "2022-03-08T20:56:10.677374Z",
     "iopub.status.busy": "2022-03-08T20:56:10.668497Z",
     "iopub.status.idle": "2022-03-08T20:56:14.023618Z",
     "shell.execute_reply": "2022-03-08T20:56:14.024526Z"
    },
    "papermill": {
     "duration": 3.375389,
     "end_time": "2022-03-08T20:56:14.024844",
     "exception": false,
     "start_time": "2022-03-08T20:56:10.649455",
     "status": "completed"
    },
    "tags": []
   },
   "outputs": [
    {
     "name": "stdout",
     "output_type": "stream",
     "text": [
      "\u001b[32m2022-03-08 14:56:13\u001b[0m \u001b[1;30mWARNING:\u001b[0m \u001b[33m--skip-existing-samples is enabled but no --project-dir is set. Will not skip existing samples.\u001b[0m\r\n"
     ]
    }
   ],
   "source": [
    "input_genomes_file = simulation_dir_path / 'input-assemblies.tsv'\n",
    "\n",
    "!gdi input --absolute {assemblies_dir}/*.fa.gz > {input_genomes_file}"
   ]
  },
  {
   "cell_type": "code",
   "execution_count": 10,
   "id": "0a1e62f3-3b0c-4a90-a7fe-f0bc1094e350",
   "metadata": {
    "execution": {
     "iopub.execute_input": "2022-03-08T20:56:14.076577Z",
     "iopub.status.busy": "2022-03-08T20:56:14.075601Z",
     "iopub.status.idle": "2022-03-08T21:03:19.030016Z",
     "shell.execute_reply": "2022-03-08T21:03:19.029055Z"
    },
    "papermill": {
     "duration": 424.979067,
     "end_time": "2022-03-08T21:03:19.030279",
     "exception": false,
     "start_time": "2022-03-08T20:56:14.051212",
     "status": "completed"
    },
    "tags": []
   },
   "outputs": [
    {
     "name": "stdout",
     "output_type": "stream",
     "text": [
      "\n",
      "Iteration 1 of index/analysis of 59 samples with 32 cores\n",
      "Removing any extra snakemake directories: ['snakemake-assemblies.1646772712.9821587']\n"
     ]
    },
    {
     "name": "stdout",
     "output_type": "stream",
     "text": [
      "Creating new index: [gdi init simulations/alpha-1.0-cov-30/index-assemblies]\n"
     ]
    },
    {
     "name": "stdout",
     "output_type": "stream",
     "text": [
      "Creating a new index took 3.36 seconds\n",
      "Analysis running: [gdi --project-dir simulations/alpha-1.0-cov-30/index-assemblies --ncores 32 analysis --use-conda --no-load-data --reference-file simulations/reference/reference.fa.gz --kmer-size 31 --kmer-size 51 --kmer-size 71 --include-kmer --reads-mincov 10 --input-structured-genomes-file simulations/alpha-1.0-cov-30/input-assemblies.tsv]\n"
     ]
    },
    {
     "name": "stdout",
     "output_type": "stream",
     "text": [
      "Analysis took 1.94 minutes\n",
      "Index running: [gdi --project-dir simulations/alpha-1.0-cov-30/index-assemblies --ncores 32 load vcf-kmer --sample-batch-size 2000 --reference-file simulations/reference/reference.fa.gz /home/CSCScience.ca/apetkau/workspace/genomics-data-index-evaluation/evaluations/simulation/snakemake-assemblies.1646772982.1663227/gdi-input.fofn]\n"
     ]
    },
    {
     "name": "stdout",
     "output_type": "stream",
     "text": [
      "Indexing took 0.24 minutes\n",
      "Building tree: [gdi --project-dir simulations/alpha-1.0-cov-30/index-assemblies --ncores 32 rebuild tree --align-type full --extra-params '--fast -m GTR+F+R4' reference]\n"
     ]
    },
    {
     "name": "stdout",
     "output_type": "stream",
     "text": [
      "Building tree took 0.13 minutes\n"
     ]
    },
    {
     "name": "stderr",
     "output_type": "stream",
     "text": [
      "Attempting to set global database_path_translator=<genomics_data_index.storage.model.db.DatabasePathTranslator.DatabasePathTranslator object at 0x7f5d1e6ae2e0> but it is already set\n"
     ]
    },
    {
     "name": "stderr",
     "output_type": "stream",
     "text": [
      "A reminder to myself to look for a Python solution for directory sizes (instead of running `du`)\n"
     ]
    },
    {
     "name": "stdout",
     "output_type": "stream",
     "text": [
      "\n",
      "Iteration 2 of index/analysis of 59 samples with 32 cores\n",
      "Removing any extra snakemake directories: ['snakemake-assemblies.1646772982.1663227']\n"
     ]
    },
    {
     "name": "stdout",
     "output_type": "stream",
     "text": [
      "Removing any existing indexes simulations/alpha-1.0-cov-30/index-assemblies\n",
      "Creating new index: [gdi init simulations/alpha-1.0-cov-30/index-assemblies]\n"
     ]
    },
    {
     "name": "stdout",
     "output_type": "stream",
     "text": [
      "Creating a new index took 3.38 seconds\n",
      "Analysis running: [gdi --project-dir simulations/alpha-1.0-cov-30/index-assemblies --ncores 32 analysis --use-conda --no-load-data --reference-file simulations/reference/reference.fa.gz --kmer-size 31 --kmer-size 51 --kmer-size 71 --include-kmer --reads-mincov 10 --input-structured-genomes-file simulations/alpha-1.0-cov-30/input-assemblies.tsv]\n"
     ]
    },
    {
     "name": "stdout",
     "output_type": "stream",
     "text": [
      "Analysis took 1.92 minutes\n",
      "Index running: [gdi --project-dir simulations/alpha-1.0-cov-30/index-assemblies --ncores 32 load vcf-kmer --sample-batch-size 2000 --reference-file simulations/reference/reference.fa.gz /home/CSCScience.ca/apetkau/workspace/genomics-data-index-evaluation/evaluations/simulation/snakemake-assemblies.1646773125.956094/gdi-input.fofn]\n"
     ]
    },
    {
     "name": "stdout",
     "output_type": "stream",
     "text": [
      "Indexing took 0.23 minutes\n",
      "Building tree: [gdi --project-dir simulations/alpha-1.0-cov-30/index-assemblies --ncores 32 rebuild tree --align-type full --extra-params '--fast -m GTR+F+R4' reference]\n"
     ]
    },
    {
     "name": "stdout",
     "output_type": "stream",
     "text": [
      "Building tree took 0.13 minutes\n"
     ]
    },
    {
     "name": "stderr",
     "output_type": "stream",
     "text": [
      "Attempting to set global database_path_translator=<genomics_data_index.storage.model.db.DatabasePathTranslator.DatabasePathTranslator object at 0x7f5d1e610f70> but it is already set\n"
     ]
    },
    {
     "name": "stderr",
     "output_type": "stream",
     "text": [
      "A reminder to myself to look for a Python solution for directory sizes (instead of running `du`)\n"
     ]
    },
    {
     "name": "stdout",
     "output_type": "stream",
     "text": [
      "\n",
      "Iteration 3 of index/analysis of 59 samples with 32 cores\n",
      "Removing any extra snakemake directories: ['snakemake-assemblies.1646773125.956094']\n"
     ]
    },
    {
     "name": "stdout",
     "output_type": "stream",
     "text": [
      "Removing any existing indexes simulations/alpha-1.0-cov-30/index-assemblies\n",
      "Creating new index: [gdi init simulations/alpha-1.0-cov-30/index-assemblies]\n"
     ]
    },
    {
     "name": "stdout",
     "output_type": "stream",
     "text": [
      "Creating a new index took 3.08 seconds\n",
      "Analysis running: [gdi --project-dir simulations/alpha-1.0-cov-30/index-assemblies --ncores 32 analysis --use-conda --no-load-data --reference-file simulations/reference/reference.fa.gz --kmer-size 31 --kmer-size 51 --kmer-size 71 --include-kmer --reads-mincov 10 --input-structured-genomes-file simulations/alpha-1.0-cov-30/input-assemblies.tsv]\n"
     ]
    },
    {
     "name": "stdout",
     "output_type": "stream",
     "text": [
      "Analysis took 1.87 minutes\n",
      "Index running: [gdi --project-dir simulations/alpha-1.0-cov-30/index-assemblies --ncores 32 load vcf-kmer --sample-batch-size 2000 --reference-file simulations/reference/reference.fa.gz /home/CSCScience.ca/apetkau/workspace/genomics-data-index-evaluation/evaluations/simulation/snakemake-assemblies.1646773267.843922/gdi-input.fofn]\n"
     ]
    },
    {
     "name": "stdout",
     "output_type": "stream",
     "text": [
      "Indexing took 0.24 minutes\n",
      "Building tree: [gdi --project-dir simulations/alpha-1.0-cov-30/index-assemblies --ncores 32 rebuild tree --align-type full --extra-params '--fast -m GTR+F+R4' reference]\n"
     ]
    },
    {
     "name": "stdout",
     "output_type": "stream",
     "text": [
      "Building tree took 0.13 minutes\n"
     ]
    },
    {
     "name": "stderr",
     "output_type": "stream",
     "text": [
      "Attempting to set global database_path_translator=<genomics_data_index.storage.model.db.DatabasePathTranslator.DatabasePathTranslator object at 0x7f5d1e69cd90> but it is already set\n"
     ]
    },
    {
     "name": "stderr",
     "output_type": "stream",
     "text": [
      "A reminder to myself to look for a Python solution for directory sizes (instead of running `du`)\n"
     ]
    }
   ],
   "source": [
    "results_handler = gdi_benchmark.BenchmarkResultsHandler(name=f'{case_name} assemblies')\n",
    "benchmarker = gdi_benchmark.IndexBenchmarker(benchmark_results_handler=results_handler,\n",
    "                                             index_path=index_assemblies_path, input_files_file=input_genomes_file,\n",
    "                                             reference_file=reference_file, mincov=mincov, build_tree=True,\n",
    "                                             ncores=ncores)\n",
    "\n",
    "benchmark_df = benchmarker.benchmark(iterations=iterations)"
   ]
  },
  {
   "cell_type": "code",
   "execution_count": 11,
   "id": "a6d55a9d-be2f-4851-b66c-04b5ebd597a1",
   "metadata": {
    "execution": {
     "iopub.execute_input": "2022-03-08T21:03:19.110185Z",
     "iopub.status.busy": "2022-03-08T21:03:19.090877Z",
     "iopub.status.idle": "2022-03-08T21:03:19.113973Z",
     "shell.execute_reply": "2022-03-08T21:03:19.113194Z"
    },
    "papermill": {
     "duration": 0.052051,
     "end_time": "2022-03-08T21:03:19.114199",
     "exception": false,
     "start_time": "2022-03-08T21:03:19.062148",
     "status": "completed"
    },
    "tags": []
   },
   "outputs": [
    {
     "data": {
      "text/html": [
       "<div>\n",
       "<style scoped>\n",
       "    .dataframe tbody tr th:only-of-type {\n",
       "        vertical-align: middle;\n",
       "    }\n",
       "\n",
       "    .dataframe tbody tr th {\n",
       "        vertical-align: top;\n",
       "    }\n",
       "\n",
       "    .dataframe thead th {\n",
       "        text-align: right;\n",
       "    }\n",
       "</style>\n",
       "<table border=\"1\" class=\"dataframe\">\n",
       "  <thead>\n",
       "    <tr style=\"text-align: right;\">\n",
       "      <th></th>\n",
       "      <th>Name</th>\n",
       "      <th>Reference name</th>\n",
       "      <th>Iteration</th>\n",
       "      <th>Number samples</th>\n",
       "      <th>Number features (all)</th>\n",
       "      <th>Number features (no unknown)</th>\n",
       "      <th>Number cores</th>\n",
       "      <th>Reference length</th>\n",
       "      <th>Analysis runtime</th>\n",
       "      <th>Analysis memory (max)</th>\n",
       "      <th>...</th>\n",
       "      <th>Analysis disk uage</th>\n",
       "      <th>Index runtime</th>\n",
       "      <th>Index memory (max)</th>\n",
       "      <th>Index memory (max/process)</th>\n",
       "      <th>Index size</th>\n",
       "      <th>Tree runtime</th>\n",
       "      <th>Tree memory (max)</th>\n",
       "      <th>Tree memory (max/process)</th>\n",
       "      <th>Total runtime</th>\n",
       "      <th>Max memory</th>\n",
       "    </tr>\n",
       "  </thead>\n",
       "  <tbody>\n",
       "    <tr>\n",
       "      <th>0</th>\n",
       "      <td>alpha-1.0-cov-30 assemblies</td>\n",
       "      <td>reference</td>\n",
       "      <td>1</td>\n",
       "      <td>59</td>\n",
       "      <td>22855</td>\n",
       "      <td>3156</td>\n",
       "      <td>32</td>\n",
       "      <td>19699</td>\n",
       "      <td>116.10</td>\n",
       "      <td>1.314152e+09</td>\n",
       "      <td>...</td>\n",
       "      <td>2.203156e+09</td>\n",
       "      <td>14.36</td>\n",
       "      <td>6.050181e+09</td>\n",
       "      <td>373972992.0</td>\n",
       "      <td>3842048.0</td>\n",
       "      <td>7.69</td>\n",
       "      <td>245387264.0</td>\n",
       "      <td>234569728.0</td>\n",
       "      <td>138.15</td>\n",
       "      <td>6.050181e+09</td>\n",
       "    </tr>\n",
       "    <tr>\n",
       "      <th>0</th>\n",
       "      <td>alpha-1.0-cov-30 assemblies</td>\n",
       "      <td>reference</td>\n",
       "      <td>2</td>\n",
       "      <td>59</td>\n",
       "      <td>22855</td>\n",
       "      <td>3156</td>\n",
       "      <td>32</td>\n",
       "      <td>19699</td>\n",
       "      <td>115.23</td>\n",
       "      <td>1.303347e+09</td>\n",
       "      <td>...</td>\n",
       "      <td>2.203144e+09</td>\n",
       "      <td>13.84</td>\n",
       "      <td>6.076887e+09</td>\n",
       "      <td>370630656.0</td>\n",
       "      <td>3829760.0</td>\n",
       "      <td>7.79</td>\n",
       "      <td>245727232.0</td>\n",
       "      <td>234909696.0</td>\n",
       "      <td>136.86</td>\n",
       "      <td>6.076887e+09</td>\n",
       "    </tr>\n",
       "    <tr>\n",
       "      <th>0</th>\n",
       "      <td>alpha-1.0-cov-30 assemblies</td>\n",
       "      <td>reference</td>\n",
       "      <td>3</td>\n",
       "      <td>59</td>\n",
       "      <td>22855</td>\n",
       "      <td>3156</td>\n",
       "      <td>32</td>\n",
       "      <td>19699</td>\n",
       "      <td>112.19</td>\n",
       "      <td>1.267831e+09</td>\n",
       "      <td>...</td>\n",
       "      <td>2.203144e+09</td>\n",
       "      <td>13.99</td>\n",
       "      <td>6.059651e+09</td>\n",
       "      <td>370233344.0</td>\n",
       "      <td>3842048.0</td>\n",
       "      <td>7.50</td>\n",
       "      <td>245219328.0</td>\n",
       "      <td>234455040.0</td>\n",
       "      <td>133.68</td>\n",
       "      <td>6.059651e+09</td>\n",
       "    </tr>\n",
       "  </tbody>\n",
       "</table>\n",
       "<p>3 rows × 21 columns</p>\n",
       "</div>"
      ],
      "text/plain": [
       "                          Name Reference name  Iteration  Number samples  \\\n",
       "0  alpha-1.0-cov-30 assemblies      reference          1              59   \n",
       "0  alpha-1.0-cov-30 assemblies      reference          2              59   \n",
       "0  alpha-1.0-cov-30 assemblies      reference          3              59   \n",
       "\n",
       "   Number features (all)  Number features (no unknown)  Number cores  \\\n",
       "0                  22855                          3156            32   \n",
       "0                  22855                          3156            32   \n",
       "0                  22855                          3156            32   \n",
       "\n",
       "   Reference length  Analysis runtime  Analysis memory (max)  ...  \\\n",
       "0             19699            116.10           1.314152e+09  ...   \n",
       "0             19699            115.23           1.303347e+09  ...   \n",
       "0             19699            112.19           1.267831e+09  ...   \n",
       "\n",
       "   Analysis disk uage  Index runtime  Index memory (max)  \\\n",
       "0        2.203156e+09          14.36        6.050181e+09   \n",
       "0        2.203144e+09          13.84        6.076887e+09   \n",
       "0        2.203144e+09          13.99        6.059651e+09   \n",
       "\n",
       "   Index memory (max/process)  Index size  Tree runtime  Tree memory (max)  \\\n",
       "0                 373972992.0   3842048.0          7.69        245387264.0   \n",
       "0                 370630656.0   3829760.0          7.79        245727232.0   \n",
       "0                 370233344.0   3842048.0          7.50        245219328.0   \n",
       "\n",
       "   Tree memory (max/process)  Total runtime    Max memory  \n",
       "0                234569728.0         138.15  6.050181e+09  \n",
       "0                234909696.0         136.86  6.076887e+09  \n",
       "0                234455040.0         133.68  6.059651e+09  \n",
       "\n",
       "[3 rows x 21 columns]"
      ]
     },
     "execution_count": 11,
     "metadata": {},
     "output_type": "execute_result"
    }
   ],
   "source": [
    "benchmark_df"
   ]
  },
  {
   "cell_type": "code",
   "execution_count": 12,
   "id": "e1a6d962-50bc-4c8d-a6f2-3a661da706b4",
   "metadata": {
    "execution": {
     "iopub.execute_input": "2022-03-08T21:03:19.166641Z",
     "iopub.status.busy": "2022-03-08T21:03:19.166238Z",
     "iopub.status.idle": "2022-03-08T21:03:19.171448Z",
     "shell.execute_reply": "2022-03-08T21:03:19.171139Z"
    },
    "papermill": {
     "duration": 0.027773,
     "end_time": "2022-03-08T21:03:19.171527",
     "exception": false,
     "start_time": "2022-03-08T21:03:19.143754",
     "status": "completed"
    },
    "tags": []
   },
   "outputs": [],
   "source": [
    "index_assemblies_runtime = simulation_dir_path / 'assemblies-index-info.tsv'\n",
    "benchmark_df.to_csv(index_assemblies_runtime, sep='\\t', index=False)"
   ]
  },
  {
   "cell_type": "markdown",
   "id": "6cb7673b-9f85-4c43-b2e2-93538497a196",
   "metadata": {
    "papermill": {
     "duration": 0.015879,
     "end_time": "2022-03-08T21:03:19.205639",
     "exception": false,
     "start_time": "2022-03-08T21:03:19.189760",
     "status": "completed"
    },
    "tags": []
   },
   "source": [
    "# 3. Export trees"
   ]
  },
  {
   "cell_type": "code",
   "execution_count": 13,
   "id": "5280f82c-5434-4391-8c44-b937a7c95bd5",
   "metadata": {
    "execution": {
     "iopub.execute_input": "2022-03-08T21:03:19.246270Z",
     "iopub.status.busy": "2022-03-08T21:03:19.245749Z",
     "iopub.status.idle": "2022-03-08T21:03:26.255944Z",
     "shell.execute_reply": "2022-03-08T21:03:26.256828Z"
    },
    "papermill": {
     "duration": 7.03558,
     "end_time": "2022-03-08T21:03:26.257140",
     "exception": false,
     "start_time": "2022-03-08T21:03:19.221560",
     "status": "completed"
    },
    "tags": []
   },
   "outputs": [
    {
     "name": "stdout",
     "output_type": "stream",
     "text": [
      "\u001b[32m2022-03-08 15:03:22\u001b[0m \u001b[1;30mERROR:\u001b[0m \u001b[31mreference_genome=[<Reference(id=1, name=reference, length=19699)>] does not have a tree\u001b[0m\r\n"
     ]
    },
    {
     "name": "stdout",
     "output_type": "stream",
     "text": [
      "Wrote assemblies tree to simulations/alpha-1.0-cov-30/index-assemblies/assemblies.tre\n"
     ]
    },
    {
     "name": "stdout",
     "output_type": "stream",
     "text": [
      "Wrote assemblies tree to simulations/alpha-1.0-cov-30/index-reads/reads.tre\n"
     ]
    }
   ],
   "source": [
    "!gdi --project-dir {index_assemblies_path} export tree {reference_name} > {output_assemblies_tree}\n",
    "print(f'Wrote assemblies tree to {output_assemblies_tree}')\n",
    "\n",
    "!gdi --project-dir {index_reads_path} export tree {reference_name} > {output_reads_tree}\n",
    "print(f'Wrote assemblies tree to {output_reads_tree}')"
   ]
  }
 ],
 "metadata": {
  "kernelspec": {
   "display_name": "Python 3 (ipykernel)",
   "language": "python",
   "name": "python3"
  },
  "language_info": {
   "codemirror_mode": {
    "name": "ipython",
    "version": 3
   },
   "file_extension": ".py",
   "mimetype": "text/x-python",
   "name": "python",
   "nbconvert_exporter": "python",
   "pygments_lexer": "ipython3",
   "version": "3.8.12"
  },
  "papermill": {
   "default_parameters": {},
   "duration": 1213.088698,
   "end_time": "2022-03-08T21:03:26.917082",
   "environment_variables": {},
   "exception": null,
   "input_path": "template-3-index-genomes.ipynb",
   "output_path": "3-index-genomes.simulation-alpha-1.0.ipynb",
   "parameters": {
    "iterations": 3,
    "mincov": 10,
    "read_coverage": 30,
    "simulation_dir": "simulations/alpha-1.0-cov-30",
    "sub_alpha": 1.0
   },
   "start_time": "2022-03-08T20:43:13.828384",
   "version": "2.3.4"
  }
 },
 "nbformat": 4,
 "nbformat_minor": 5
}