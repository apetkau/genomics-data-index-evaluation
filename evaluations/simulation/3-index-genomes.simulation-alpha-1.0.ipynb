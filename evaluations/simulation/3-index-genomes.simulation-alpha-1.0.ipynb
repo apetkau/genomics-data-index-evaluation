{
 "cells": [
  {
   "cell_type": "markdown",
   "id": "7d3667b4-b1f8-4347-96e3-830c25b06740",
   "metadata": {
    "papermill": {
     "duration": 0.017427,
     "end_time": "2021-09-11T20:06:50.303156",
     "exception": false,
     "start_time": "2021-09-11T20:06:50.285729",
     "status": "completed"
    },
    "tags": []
   },
   "source": [
    "# 1. Parameters"
   ]
  },
  {
   "cell_type": "code",
   "execution_count": 1,
   "id": "d4ab0749-b286-4c34-b63c-a854e4952bae",
   "metadata": {
    "execution": {
     "iopub.execute_input": "2021-09-11T20:06:50.333591Z",
     "iopub.status.busy": "2021-09-11T20:06:50.332895Z",
     "iopub.status.idle": "2021-09-11T20:06:50.340076Z",
     "shell.execute_reply": "2021-09-11T20:06:50.338985Z"
    },
    "papermill": {
     "duration": 0.027564,
     "end_time": "2021-09-11T20:06:50.340351",
     "exception": false,
     "start_time": "2021-09-11T20:06:50.312787",
     "status": "completed"
    },
    "tags": [
     "parameters"
    ]
   },
   "outputs": [],
   "source": [
    "# Defaults\n",
    "simulation_dir = 'simulations/unset'\n",
    "reference_file = 'simulations/reference/reference.fa.gz'\n",
    "iterations = 3\n",
    "mincov = 10\n",
    "ncores = 32"
   ]
  },
  {
   "cell_type": "code",
   "execution_count": 2,
   "id": "72f68542",
   "metadata": {
    "execution": {
     "iopub.execute_input": "2021-09-11T20:06:50.373616Z",
     "iopub.status.busy": "2021-09-11T20:06:50.373194Z",
     "iopub.status.idle": "2021-09-11T20:06:50.376887Z",
     "shell.execute_reply": "2021-09-11T20:06:50.377744Z"
    },
    "papermill": {
     "duration": 0.020386,
     "end_time": "2021-09-11T20:06:50.378014",
     "exception": false,
     "start_time": "2021-09-11T20:06:50.357628",
     "status": "completed"
    },
    "tags": [
     "injected-parameters"
    ]
   },
   "outputs": [],
   "source": [
    "# Parameters\n",
    "read_coverage = 30\n",
    "mincov = 10\n",
    "simulation_dir = \"simulations/alpha-1.0-cov-30\"\n",
    "iterations = 3\n",
    "sub_alpha = 1.0\n"
   ]
  },
  {
   "cell_type": "code",
   "execution_count": 3,
   "id": "ce5962e4-261c-4210-b39b-47044e28466b",
   "metadata": {
    "execution": {
     "iopub.execute_input": "2021-09-11T20:06:50.412090Z",
     "iopub.status.busy": "2021-09-11T20:06:50.411627Z",
     "iopub.status.idle": "2021-09-11T20:06:52.777035Z",
     "shell.execute_reply": "2021-09-11T20:06:52.776040Z"
    },
    "papermill": {
     "duration": 2.383716,
     "end_time": "2021-09-11T20:06:52.777279",
     "exception": false,
     "start_time": "2021-09-11T20:06:50.393563",
     "status": "completed"
    },
    "tags": []
   },
   "outputs": [],
   "source": [
    "from pathlib import Path\n",
    "import imp\n",
    "fp, pathname, description = imp.find_module('gdi_benchmark', ['../../lib'])\n",
    "gdi_benchmark = imp.load_module('gdi_benchmark', fp, pathname, description)\n",
    "\n",
    "simulation_dir_path = Path(simulation_dir)\n",
    "\n",
    "case_name = str(simulation_dir_path.name)\n",
    "reads_dir = simulation_dir_path / 'simulated_data' / 'reads'\n",
    "assemblies_dir = simulation_dir_path / 'simulated_data' / 'assemblies'\n",
    "index_reads_path = simulation_dir_path / 'index-reads'\n",
    "index_assemblies_path = simulation_dir_path / 'index-assemblies'\n",
    "output_reads_tree = index_reads_path / 'reads.tre'\n",
    "output_assemblies_tree = index_assemblies_path / 'assemblies.tre'\n",
    "reference_name = Path(reference_file).name.split('.')[0]"
   ]
  },
  {
   "cell_type": "markdown",
   "id": "f208279e-7558-47fc-9362-da29df92828a",
   "metadata": {
    "papermill": {
     "duration": 0.009695,
     "end_time": "2021-09-11T20:06:52.803994",
     "exception": false,
     "start_time": "2021-09-11T20:06:52.794299",
     "status": "completed"
    },
    "tags": []
   },
   "source": [
    "# 2. Index genomes"
   ]
  },
  {
   "cell_type": "code",
   "execution_count": 4,
   "id": "4e936f7c-2fcd-4188-b0e6-6b3ceb5cdcd2",
   "metadata": {
    "execution": {
     "iopub.execute_input": "2021-09-11T20:06:52.825589Z",
     "iopub.status.busy": "2021-09-11T20:06:52.825078Z",
     "iopub.status.idle": "2021-09-11T20:06:55.625108Z",
     "shell.execute_reply": "2021-09-11T20:06:55.626003Z"
    },
    "papermill": {
     "duration": 2.81576,
     "end_time": "2021-09-11T20:06:55.626329",
     "exception": false,
     "start_time": "2021-09-11T20:06:52.810569",
     "status": "completed"
    },
    "tags": []
   },
   "outputs": [
    {
     "name": "stdout",
     "output_type": "stream",
     "text": [
      "gdi, version 0.3.0.dev12\r\n"
     ]
    }
   ],
   "source": [
    "!gdi --version"
   ]
  },
  {
   "cell_type": "markdown",
   "id": "5409ecf8-2158-4361-9d2f-6b1a6c7c63a6",
   "metadata": {
    "papermill": {
     "duration": 0.009735,
     "end_time": "2021-09-11T20:06:55.652929",
     "exception": false,
     "start_time": "2021-09-11T20:06:55.643194",
     "status": "completed"
    },
    "tags": []
   },
   "source": [
    "## 2.1. Index reads"
   ]
  },
  {
   "cell_type": "code",
   "execution_count": 5,
   "id": "b5324f79-913b-4dac-8122-19ad5c0f24b2",
   "metadata": {
    "execution": {
     "iopub.execute_input": "2021-09-11T20:06:55.684271Z",
     "iopub.status.busy": "2021-09-11T20:06:55.675109Z",
     "iopub.status.idle": "2021-09-11T20:06:58.547026Z",
     "shell.execute_reply": "2021-09-11T20:06:58.547943Z"
    },
    "papermill": {
     "duration": 2.887952,
     "end_time": "2021-09-11T20:06:58.548249",
     "exception": false,
     "start_time": "2021-09-11T20:06:55.660297",
     "status": "completed"
    },
    "tags": []
   },
   "outputs": [],
   "source": [
    "input_genomes_file = simulation_dir_path / 'input-reads.tsv'\n",
    "\n",
    "!gdi input --absolute {reads_dir}/*.fq.gz > {input_genomes_file}"
   ]
  },
  {
   "cell_type": "code",
   "execution_count": 6,
   "id": "3d63e861-733e-46f2-8bce-bd1a2c7c7058",
   "metadata": {
    "execution": {
     "iopub.execute_input": "2021-09-11T20:06:58.590310Z",
     "iopub.status.busy": "2021-09-11T20:06:58.589787Z",
     "iopub.status.idle": "2021-09-11T20:17:41.194160Z",
     "shell.execute_reply": "2021-09-11T20:17:41.193017Z"
    },
    "papermill": {
     "duration": 642.628349,
     "end_time": "2021-09-11T20:17:41.194662",
     "exception": false,
     "start_time": "2021-09-11T20:06:58.566313",
     "status": "completed"
    },
    "tags": []
   },
   "outputs": [
    {
     "name": "stdout",
     "output_type": "stream",
     "text": [
      "\n",
      "Iteration 1 of index/analysis of 59 samples with 32 cores\n",
      "Removing any extra snakemake directories: ['snakemake-assemblies.1631390603.832119']\n"
     ]
    },
    {
     "name": "stdout",
     "output_type": "stream",
     "text": [
      "Creating new index: [gdi init simulations/alpha-1.0-cov-30/index-reads]\n"
     ]
    },
    {
     "name": "stdout",
     "output_type": "stream",
     "text": [
      "Creating a new index took 2.79 seconds\n",
      "Analysis running: [gdi --project-dir simulations/alpha-1.0-cov-30/index-reads --ncores 32 analysis --use-conda --no-load-data --reference-file simulations/reference/reference.fa.gz --kmer-size 31 --kmer-size 51 --kmer-size 71 --include-kmer --reads-mincov 10 --input-structured-genomes-file simulations/alpha-1.0-cov-30/input-reads.tsv]\n"
     ]
    },
    {
     "name": "stdout",
     "output_type": "stream",
     "text": [
      "Analysis took 1.78 minutes\n",
      "Index running: [gdi --project-dir simulations/alpha-1.0-cov-30/index-reads --ncores 32 load vcf-kmer --reference-file simulations/reference/reference.fa.gz /home/CSCScience.ca/apetkau/workspace/genomics-data-index-evaluation/evaluations/simulation/snakemake-assemblies.1631390825.5455968/gdi-input.fofn]\n"
     ]
    },
    {
     "name": "stdout",
     "output_type": "stream",
     "text": [
      "Indexing took 0.14 minutes\n",
      "Building tree: [gdi --project-dir simulations/alpha-1.0-cov-30/index-reads --ncores 32 rebuild tree --align-type full --extra-params '--fast -m GTR+F+R4' reference]\n"
     ]
    },
    {
     "name": "stdout",
     "output_type": "stream",
     "text": [
      "Building tree took 1.61 minutes\n"
     ]
    },
    {
     "name": "stderr",
     "output_type": "stream",
     "text": [
      "A reminder to myself to look for a Python solution for directory sizes (instead of running `du`)\n"
     ]
    },
    {
     "name": "stdout",
     "output_type": "stream",
     "text": [
      "\n",
      "Iteration 2 of index/analysis of 59 samples with 32 cores\n",
      "Removing any extra snakemake directories: ['snakemake-assemblies.1631390825.5455968']\n"
     ]
    },
    {
     "name": "stdout",
     "output_type": "stream",
     "text": [
      "Removing any existing indexes simulations/alpha-1.0-cov-30/index-reads\n",
      "Creating new index: [gdi init simulations/alpha-1.0-cov-30/index-reads]\n"
     ]
    },
    {
     "name": "stdout",
     "output_type": "stream",
     "text": [
      "Creating a new index took 2.62 seconds\n",
      "Analysis running: [gdi --project-dir simulations/alpha-1.0-cov-30/index-reads --ncores 32 analysis --use-conda --no-load-data --reference-file simulations/reference/reference.fa.gz --kmer-size 31 --kmer-size 51 --kmer-size 71 --include-kmer --reads-mincov 10 --input-structured-genomes-file simulations/alpha-1.0-cov-30/input-reads.tsv]\n"
     ]
    },
    {
     "name": "stdout",
     "output_type": "stream",
     "text": [
      "Analysis took 1.77 minutes\n",
      "Index running: [gdi --project-dir simulations/alpha-1.0-cov-30/index-reads --ncores 32 load vcf-kmer --reference-file simulations/reference/reference.fa.gz /home/CSCScience.ca/apetkau/workspace/genomics-data-index-evaluation/evaluations/simulation/snakemake-assemblies.1631391041.8546717/gdi-input.fofn]\n"
     ]
    },
    {
     "name": "stdout",
     "output_type": "stream",
     "text": [
      "Indexing took 0.16 minutes\n",
      "Building tree: [gdi --project-dir simulations/alpha-1.0-cov-30/index-reads --ncores 32 rebuild tree --align-type full --extra-params '--fast -m GTR+F+R4' reference]\n"
     ]
    },
    {
     "name": "stdout",
     "output_type": "stream",
     "text": [
      "Building tree took 1.50 minutes\n"
     ]
    },
    {
     "name": "stderr",
     "output_type": "stream",
     "text": [
      "Attempting to set global database_path_translator=<genomics_data_index.storage.model.db.DatabasePathTranslator.DatabasePathTranslator object at 0x7f598b09f3a0> but it is already set\n"
     ]
    },
    {
     "name": "stderr",
     "output_type": "stream",
     "text": [
      "A reminder to myself to look for a Python solution for directory sizes (instead of running `du`)\n"
     ]
    },
    {
     "name": "stdout",
     "output_type": "stream",
     "text": [
      "\n",
      "Iteration 3 of index/analysis of 59 samples with 32 cores\n",
      "Removing any extra snakemake directories: ['snakemake-assemblies.1631391041.8546717']\n"
     ]
    },
    {
     "name": "stdout",
     "output_type": "stream",
     "text": [
      "Removing any existing indexes simulations/alpha-1.0-cov-30/index-reads\n",
      "Creating new index: [gdi init simulations/alpha-1.0-cov-30/index-reads]\n"
     ]
    },
    {
     "name": "stdout",
     "output_type": "stream",
     "text": [
      "Creating a new index took 2.76 seconds\n",
      "Analysis running: [gdi --project-dir simulations/alpha-1.0-cov-30/index-reads --ncores 32 analysis --use-conda --no-load-data --reference-file simulations/reference/reference.fa.gz --kmer-size 31 --kmer-size 51 --kmer-size 71 --include-kmer --reads-mincov 10 --input-structured-genomes-file simulations/alpha-1.0-cov-30/input-reads.tsv]\n"
     ]
    },
    {
     "name": "stdout",
     "output_type": "stream",
     "text": [
      "Analysis took 1.76 minutes\n",
      "Index running: [gdi --project-dir simulations/alpha-1.0-cov-30/index-reads --ncores 32 load vcf-kmer --reference-file simulations/reference/reference.fa.gz /home/CSCScience.ca/apetkau/workspace/genomics-data-index-evaluation/evaluations/simulation/snakemake-assemblies.1631391252.6357214/gdi-input.fofn]\n"
     ]
    },
    {
     "name": "stdout",
     "output_type": "stream",
     "text": [
      "Indexing took 0.16 minutes\n",
      "Building tree: [gdi --project-dir simulations/alpha-1.0-cov-30/index-reads --ncores 32 rebuild tree --align-type full --extra-params '--fast -m GTR+F+R4' reference]\n"
     ]
    },
    {
     "name": "stdout",
     "output_type": "stream",
     "text": [
      "Building tree took 1.59 minutes\n"
     ]
    },
    {
     "name": "stderr",
     "output_type": "stream",
     "text": [
      "Attempting to set global database_path_translator=<genomics_data_index.storage.model.db.DatabasePathTranslator.DatabasePathTranslator object at 0x7f598b038730> but it is already set\n"
     ]
    },
    {
     "name": "stderr",
     "output_type": "stream",
     "text": [
      "A reminder to myself to look for a Python solution for directory sizes (instead of running `du`)\n"
     ]
    }
   ],
   "source": [
    "results_handler = gdi_benchmark.BenchmarkResultsHandler(name=f'{case_name} reads')\n",
    "benchmarker = gdi_benchmark.IndexBenchmarker(benchmark_results_handler=results_handler,\n",
    "                                             index_path=index_reads_path, input_files_file=input_genomes_file,\n",
    "                                             reference_file=reference_file, mincov=mincov, build_tree=True,\n",
    "                                             ncores=ncores)\n",
    "\n",
    "benchmark_df = benchmarker.benchmark(iterations=iterations)"
   ]
  },
  {
   "cell_type": "code",
   "execution_count": 7,
   "id": "3bcb6da7-0164-47f2-abdd-a4c159da1e3b",
   "metadata": {
    "execution": {
     "iopub.execute_input": "2021-09-11T20:17:41.259317Z",
     "iopub.status.busy": "2021-09-11T20:17:41.247110Z",
     "iopub.status.idle": "2021-09-11T20:17:41.271238Z",
     "shell.execute_reply": "2021-09-11T20:17:41.272160Z"
    },
    "papermill": {
     "duration": 0.054738,
     "end_time": "2021-09-11T20:17:41.272427",
     "exception": false,
     "start_time": "2021-09-11T20:17:41.217689",
     "status": "completed"
    },
    "tags": []
   },
   "outputs": [
    {
     "data": {
      "text/html": [
       "<div>\n",
       "<style scoped>\n",
       "    .dataframe tbody tr th:only-of-type {\n",
       "        vertical-align: middle;\n",
       "    }\n",
       "\n",
       "    .dataframe tbody tr th {\n",
       "        vertical-align: top;\n",
       "    }\n",
       "\n",
       "    .dataframe thead th {\n",
       "        text-align: right;\n",
       "    }\n",
       "</style>\n",
       "<table border=\"1\" class=\"dataframe\">\n",
       "  <thead>\n",
       "    <tr style=\"text-align: right;\">\n",
       "      <th></th>\n",
       "      <th>Name</th>\n",
       "      <th>Iteration</th>\n",
       "      <th>Number samples</th>\n",
       "      <th>Number features (all)</th>\n",
       "      <th>Number features (no unknown)</th>\n",
       "      <th>Number cores</th>\n",
       "      <th>Reference length</th>\n",
       "      <th>Analysis runtime</th>\n",
       "      <th>Analysis memory (max)</th>\n",
       "      <th>Analysis memory (max/process)</th>\n",
       "      <th>Analysis disk uage</th>\n",
       "      <th>Index runtime</th>\n",
       "      <th>Index memory (max)</th>\n",
       "      <th>Index memory (max/process)</th>\n",
       "      <th>Index size</th>\n",
       "      <th>Tree runtime</th>\n",
       "      <th>Tree memory (max)</th>\n",
       "      <th>Tree memory (max/process)</th>\n",
       "      <th>Total runtime</th>\n",
       "      <th>Max memory</th>\n",
       "    </tr>\n",
       "  </thead>\n",
       "  <tbody>\n",
       "    <tr>\n",
       "      <th>0</th>\n",
       "      <td>alpha-1.0-cov-30 reads</td>\n",
       "      <td>1</td>\n",
       "      <td>59</td>\n",
       "      <td>5753</td>\n",
       "      <td>3388</td>\n",
       "      <td>32</td>\n",
       "      <td>19699</td>\n",
       "      <td>106.37</td>\n",
       "      <td>2.631217e+09</td>\n",
       "      <td>396111872.0</td>\n",
       "      <td>3.318956e+09</td>\n",
       "      <td>8.57</td>\n",
       "      <td>5.893292e+09</td>\n",
       "      <td>307609600.0</td>\n",
       "      <td>3149824.0</td>\n",
       "      <td>96.51</td>\n",
       "      <td>267337728.0</td>\n",
       "      <td>222511104.0</td>\n",
       "      <td>211.45</td>\n",
       "      <td>5.893292e+09</td>\n",
       "    </tr>\n",
       "    <tr>\n",
       "      <th>0</th>\n",
       "      <td>alpha-1.0-cov-30 reads</td>\n",
       "      <td>2</td>\n",
       "      <td>59</td>\n",
       "      <td>5753</td>\n",
       "      <td>3388</td>\n",
       "      <td>32</td>\n",
       "      <td>19699</td>\n",
       "      <td>106.34</td>\n",
       "      <td>2.552353e+09</td>\n",
       "      <td>393019392.0</td>\n",
       "      <td>3.318956e+09</td>\n",
       "      <td>9.22</td>\n",
       "      <td>5.882225e+09</td>\n",
       "      <td>307695616.0</td>\n",
       "      <td>3145728.0</td>\n",
       "      <td>90.13</td>\n",
       "      <td>267816960.0</td>\n",
       "      <td>222961664.0</td>\n",
       "      <td>205.69</td>\n",
       "      <td>5.882225e+09</td>\n",
       "    </tr>\n",
       "    <tr>\n",
       "      <th>0</th>\n",
       "      <td>alpha-1.0-cov-30 reads</td>\n",
       "      <td>3</td>\n",
       "      <td>59</td>\n",
       "      <td>5753</td>\n",
       "      <td>3388</td>\n",
       "      <td>32</td>\n",
       "      <td>19699</td>\n",
       "      <td>105.77</td>\n",
       "      <td>2.590339e+09</td>\n",
       "      <td>399327232.0</td>\n",
       "      <td>3.318952e+09</td>\n",
       "      <td>9.56</td>\n",
       "      <td>5.898457e+09</td>\n",
       "      <td>307511296.0</td>\n",
       "      <td>3137536.0</td>\n",
       "      <td>95.37</td>\n",
       "      <td>268914688.0</td>\n",
       "      <td>223232000.0</td>\n",
       "      <td>210.70</td>\n",
       "      <td>5.898457e+09</td>\n",
       "    </tr>\n",
       "  </tbody>\n",
       "</table>\n",
       "</div>"
      ],
      "text/plain": [
       "                     Name  Iteration  Number samples  Number features (all)  \\\n",
       "0  alpha-1.0-cov-30 reads          1              59                   5753   \n",
       "0  alpha-1.0-cov-30 reads          2              59                   5753   \n",
       "0  alpha-1.0-cov-30 reads          3              59                   5753   \n",
       "\n",
       "   Number features (no unknown)  Number cores  Reference length  \\\n",
       "0                          3388            32             19699   \n",
       "0                          3388            32             19699   \n",
       "0                          3388            32             19699   \n",
       "\n",
       "   Analysis runtime  Analysis memory (max)  Analysis memory (max/process)  \\\n",
       "0            106.37           2.631217e+09                    396111872.0   \n",
       "0            106.34           2.552353e+09                    393019392.0   \n",
       "0            105.77           2.590339e+09                    399327232.0   \n",
       "\n",
       "   Analysis disk uage  Index runtime  Index memory (max)  \\\n",
       "0        3.318956e+09           8.57        5.893292e+09   \n",
       "0        3.318956e+09           9.22        5.882225e+09   \n",
       "0        3.318952e+09           9.56        5.898457e+09   \n",
       "\n",
       "   Index memory (max/process)  Index size  Tree runtime  Tree memory (max)  \\\n",
       "0                 307609600.0   3149824.0         96.51        267337728.0   \n",
       "0                 307695616.0   3145728.0         90.13        267816960.0   \n",
       "0                 307511296.0   3137536.0         95.37        268914688.0   \n",
       "\n",
       "   Tree memory (max/process)  Total runtime    Max memory  \n",
       "0                222511104.0         211.45  5.893292e+09  \n",
       "0                222961664.0         205.69  5.882225e+09  \n",
       "0                223232000.0         210.70  5.898457e+09  "
      ]
     },
     "execution_count": 7,
     "metadata": {},
     "output_type": "execute_result"
    }
   ],
   "source": [
    "benchmark_df"
   ]
  },
  {
   "cell_type": "code",
   "execution_count": 8,
   "id": "535a9ccc-ab9c-4919-806f-128e1efd2389",
   "metadata": {
    "execution": {
     "iopub.execute_input": "2021-09-11T20:17:41.316719Z",
     "iopub.status.busy": "2021-09-11T20:17:41.315603Z",
     "iopub.status.idle": "2021-09-11T20:17:41.320460Z",
     "shell.execute_reply": "2021-09-11T20:17:41.321303Z"
    },
    "papermill": {
     "duration": 0.024803,
     "end_time": "2021-09-11T20:17:41.321569",
     "exception": false,
     "start_time": "2021-09-11T20:17:41.296766",
     "status": "completed"
    },
    "tags": []
   },
   "outputs": [],
   "source": [
    "index_reads_runtime = simulation_dir_path / 'reads-index-info.tsv'\n",
    "benchmark_df.to_csv(index_reads_runtime, sep='\\t', index=False)"
   ]
  },
  {
   "cell_type": "markdown",
   "id": "c331578f-4026-4a9f-a3ba-288814b02ed2",
   "metadata": {
    "papermill": {
     "duration": 0.012301,
     "end_time": "2021-09-11T20:17:41.357231",
     "exception": false,
     "start_time": "2021-09-11T20:17:41.344930",
     "status": "completed"
    },
    "tags": []
   },
   "source": [
    "## 2.2. Index assemblies"
   ]
  },
  {
   "cell_type": "code",
   "execution_count": 9,
   "id": "6e6664f4-94ee-4c45-b1fc-e048b387fa49",
   "metadata": {
    "execution": {
     "iopub.execute_input": "2021-09-11T20:17:41.396529Z",
     "iopub.status.busy": "2021-09-11T20:17:41.395360Z",
     "iopub.status.idle": "2021-09-11T20:17:44.188397Z",
     "shell.execute_reply": "2021-09-11T20:17:44.187364Z"
    },
    "papermill": {
     "duration": 2.820082,
     "end_time": "2021-09-11T20:17:44.188666",
     "exception": false,
     "start_time": "2021-09-11T20:17:41.368584",
     "status": "completed"
    },
    "tags": []
   },
   "outputs": [],
   "source": [
    "input_genomes_file = simulation_dir_path / 'input-assemblies.tsv'\n",
    "\n",
    "!gdi input --absolute {assemblies_dir}/*.fa.gz > {input_genomes_file}"
   ]
  },
  {
   "cell_type": "code",
   "execution_count": 10,
   "id": "0a1e62f3-3b0c-4a90-a7fe-f0bc1094e350",
   "metadata": {
    "execution": {
     "iopub.execute_input": "2021-09-11T20:17:44.235481Z",
     "iopub.status.busy": "2021-09-11T20:17:44.235081Z",
     "iopub.status.idle": "2021-09-11T20:27:54.782833Z",
     "shell.execute_reply": "2021-09-11T20:27:54.783724Z"
    },
    "papermill": {
     "duration": 610.572371,
     "end_time": "2021-09-11T20:27:54.784049",
     "exception": false,
     "start_time": "2021-09-11T20:17:44.211678",
     "status": "completed"
    },
    "tags": []
   },
   "outputs": [
    {
     "name": "stdout",
     "output_type": "stream",
     "text": [
      "\n",
      "Iteration 1 of index/analysis of 59 samples with 32 cores\n",
      "Removing any extra snakemake directories: ['snakemake-assemblies.1631391252.6357214']\n"
     ]
    },
    {
     "name": "stdout",
     "output_type": "stream",
     "text": [
      "Creating new index: [gdi init simulations/alpha-1.0-cov-30/index-assemblies]\n"
     ]
    },
    {
     "name": "stdout",
     "output_type": "stream",
     "text": [
      "Creating a new index took 2.84 seconds\n",
      "Analysis running: [gdi --project-dir simulations/alpha-1.0-cov-30/index-assemblies --ncores 32 analysis --use-conda --no-load-data --reference-file simulations/reference/reference.fa.gz --kmer-size 31 --kmer-size 51 --kmer-size 71 --include-kmer --reads-mincov 10 --input-structured-genomes-file simulations/alpha-1.0-cov-30/input-assemblies.tsv]\n"
     ]
    },
    {
     "name": "stdout",
     "output_type": "stream",
     "text": [
      "Analysis took 1.57 minutes\n",
      "Index running: [gdi --project-dir simulations/alpha-1.0-cov-30/index-assemblies --ncores 32 load vcf-kmer --reference-file simulations/reference/reference.fa.gz /home/CSCScience.ca/apetkau/workspace/genomics-data-index-evaluation/evaluations/simulation/snakemake-assemblies.1631391471.6622965/gdi-input.fofn]\n"
     ]
    },
    {
     "name": "stdout",
     "output_type": "stream",
     "text": [
      "Indexing took 0.14 minutes\n",
      "Building tree: [gdi --project-dir simulations/alpha-1.0-cov-30/index-assemblies --ncores 32 rebuild tree --align-type full --extra-params '--fast -m GTR+F+R4' reference]\n"
     ]
    },
    {
     "name": "stdout",
     "output_type": "stream",
     "text": [
      "Building tree took 1.64 minutes\n"
     ]
    },
    {
     "name": "stderr",
     "output_type": "stream",
     "text": [
      "Attempting to set global database_path_translator=<genomics_data_index.storage.model.db.DatabasePathTranslator.DatabasePathTranslator object at 0x7f599b83e7f0> but it is already set\n"
     ]
    },
    {
     "name": "stderr",
     "output_type": "stream",
     "text": [
      "A reminder to myself to look for a Python solution for directory sizes (instead of running `du`)\n"
     ]
    },
    {
     "name": "stdout",
     "output_type": "stream",
     "text": [
      "\n",
      "Iteration 2 of index/analysis of 59 samples with 32 cores\n",
      "Removing any extra snakemake directories: ['snakemake-assemblies.1631391471.6622965']\n"
     ]
    },
    {
     "name": "stdout",
     "output_type": "stream",
     "text": [
      "Removing any existing indexes simulations/alpha-1.0-cov-30/index-assemblies\n",
      "Creating new index: [gdi init simulations/alpha-1.0-cov-30/index-assemblies]\n"
     ]
    },
    {
     "name": "stdout",
     "output_type": "stream",
     "text": [
      "Creating a new index took 2.62 seconds\n",
      "Analysis running: [gdi --project-dir simulations/alpha-1.0-cov-30/index-assemblies --ncores 32 analysis --use-conda --no-load-data --reference-file simulations/reference/reference.fa.gz --kmer-size 31 --kmer-size 51 --kmer-size 71 --include-kmer --reads-mincov 10 --input-structured-genomes-file simulations/alpha-1.0-cov-30/input-assemblies.tsv]\n"
     ]
    },
    {
     "name": "stdout",
     "output_type": "stream",
     "text": [
      "Analysis took 1.57 minutes\n",
      "Index running: [gdi --project-dir simulations/alpha-1.0-cov-30/index-assemblies --ncores 32 load vcf-kmer --reference-file simulations/reference/reference.fa.gz /home/CSCScience.ca/apetkau/workspace/genomics-data-index-evaluation/evaluations/simulation/snakemake-assemblies.1631391676.6235027/gdi-input.fofn]\n"
     ]
    },
    {
     "name": "stdout",
     "output_type": "stream",
     "text": [
      "Indexing took 0.13 minutes\n",
      "Building tree: [gdi --project-dir simulations/alpha-1.0-cov-30/index-assemblies --ncores 32 rebuild tree --align-type full --extra-params '--fast -m GTR+F+R4' reference]\n"
     ]
    },
    {
     "name": "stdout",
     "output_type": "stream",
     "text": [
      "Building tree took 1.61 minutes\n"
     ]
    },
    {
     "name": "stderr",
     "output_type": "stream",
     "text": [
      "Attempting to set global database_path_translator=<genomics_data_index.storage.model.db.DatabasePathTranslator.DatabasePathTranslator object at 0x7f5982fb7c40> but it is already set\n"
     ]
    },
    {
     "name": "stderr",
     "output_type": "stream",
     "text": [
      "A reminder to myself to look for a Python solution for directory sizes (instead of running `du`)\n"
     ]
    },
    {
     "name": "stdout",
     "output_type": "stream",
     "text": [
      "\n",
      "Iteration 3 of index/analysis of 59 samples with 32 cores\n",
      "Removing any extra snakemake directories: ['snakemake-assemblies.1631391676.6235027']\n"
     ]
    },
    {
     "name": "stdout",
     "output_type": "stream",
     "text": [
      "Removing any existing indexes simulations/alpha-1.0-cov-30/index-assemblies\n",
      "Creating new index: [gdi init simulations/alpha-1.0-cov-30/index-assemblies]\n"
     ]
    },
    {
     "name": "stdout",
     "output_type": "stream",
     "text": [
      "Creating a new index took 2.62 seconds\n",
      "Analysis running: [gdi --project-dir simulations/alpha-1.0-cov-30/index-assemblies --ncores 32 analysis --use-conda --no-load-data --reference-file simulations/reference/reference.fa.gz --kmer-size 31 --kmer-size 51 --kmer-size 71 --include-kmer --reads-mincov 10 --input-structured-genomes-file simulations/alpha-1.0-cov-30/input-assemblies.tsv]\n"
     ]
    },
    {
     "name": "stdout",
     "output_type": "stream",
     "text": [
      "Analysis took 1.53 minutes\n",
      "Index running: [gdi --project-dir simulations/alpha-1.0-cov-30/index-assemblies --ncores 32 load vcf-kmer --reference-file simulations/reference/reference.fa.gz /home/CSCScience.ca/apetkau/workspace/genomics-data-index-evaluation/evaluations/simulation/snakemake-assemblies.1631391879.857358/gdi-input.fofn]\n"
     ]
    },
    {
     "name": "stdout",
     "output_type": "stream",
     "text": [
      "Indexing took 0.13 minutes\n",
      "Building tree: [gdi --project-dir simulations/alpha-1.0-cov-30/index-assemblies --ncores 32 rebuild tree --align-type full --extra-params '--fast -m GTR+F+R4' reference]\n"
     ]
    },
    {
     "name": "stdout",
     "output_type": "stream",
     "text": [
      "Building tree took 1.62 minutes\n"
     ]
    },
    {
     "name": "stderr",
     "output_type": "stream",
     "text": [
      "Attempting to set global database_path_translator=<genomics_data_index.storage.model.db.DatabasePathTranslator.DatabasePathTranslator object at 0x7f5982fb70a0> but it is already set\n"
     ]
    },
    {
     "name": "stderr",
     "output_type": "stream",
     "text": [
      "A reminder to myself to look for a Python solution for directory sizes (instead of running `du`)\n"
     ]
    }
   ],
   "source": [
    "results_handler = gdi_benchmark.BenchmarkResultsHandler(name=f'{case_name} assemblies')\n",
    "benchmarker = gdi_benchmark.IndexBenchmarker(benchmark_results_handler=results_handler,\n",
    "                                             index_path=index_assemblies_path, input_files_file=input_genomes_file,\n",
    "                                             reference_file=reference_file, mincov=mincov, build_tree=True,\n",
    "                                             ncores=ncores)\n",
    "\n",
    "benchmark_df = benchmarker.benchmark(iterations=iterations)"
   ]
  },
  {
   "cell_type": "code",
   "execution_count": 11,
   "id": "a6d55a9d-be2f-4851-b66c-04b5ebd597a1",
   "metadata": {
    "execution": {
     "iopub.execute_input": "2021-09-11T20:27:54.858660Z",
     "iopub.status.busy": "2021-09-11T20:27:54.848920Z",
     "iopub.status.idle": "2021-09-11T20:27:54.863004Z",
     "shell.execute_reply": "2021-09-11T20:27:54.863884Z"
    },
    "papermill": {
     "duration": 0.051508,
     "end_time": "2021-09-11T20:27:54.864157",
     "exception": false,
     "start_time": "2021-09-11T20:27:54.812649",
     "status": "completed"
    },
    "tags": []
   },
   "outputs": [
    {
     "data": {
      "text/html": [
       "<div>\n",
       "<style scoped>\n",
       "    .dataframe tbody tr th:only-of-type {\n",
       "        vertical-align: middle;\n",
       "    }\n",
       "\n",
       "    .dataframe tbody tr th {\n",
       "        vertical-align: top;\n",
       "    }\n",
       "\n",
       "    .dataframe thead th {\n",
       "        text-align: right;\n",
       "    }\n",
       "</style>\n",
       "<table border=\"1\" class=\"dataframe\">\n",
       "  <thead>\n",
       "    <tr style=\"text-align: right;\">\n",
       "      <th></th>\n",
       "      <th>Name</th>\n",
       "      <th>Iteration</th>\n",
       "      <th>Number samples</th>\n",
       "      <th>Number features (all)</th>\n",
       "      <th>Number features (no unknown)</th>\n",
       "      <th>Number cores</th>\n",
       "      <th>Reference length</th>\n",
       "      <th>Analysis runtime</th>\n",
       "      <th>Analysis memory (max)</th>\n",
       "      <th>Analysis memory (max/process)</th>\n",
       "      <th>Analysis disk uage</th>\n",
       "      <th>Index runtime</th>\n",
       "      <th>Index memory (max)</th>\n",
       "      <th>Index memory (max/process)</th>\n",
       "      <th>Index size</th>\n",
       "      <th>Tree runtime</th>\n",
       "      <th>Tree memory (max)</th>\n",
       "      <th>Tree memory (max/process)</th>\n",
       "      <th>Total runtime</th>\n",
       "      <th>Max memory</th>\n",
       "    </tr>\n",
       "  </thead>\n",
       "  <tbody>\n",
       "    <tr>\n",
       "      <th>0</th>\n",
       "      <td>alpha-1.0-cov-30 assemblies</td>\n",
       "      <td>1</td>\n",
       "      <td>59</td>\n",
       "      <td>3156</td>\n",
       "      <td>3156</td>\n",
       "      <td>32</td>\n",
       "      <td>19699</td>\n",
       "      <td>93.90</td>\n",
       "      <td>1.228067e+09</td>\n",
       "      <td>376897536.0</td>\n",
       "      <td>2.084729e+09</td>\n",
       "      <td>8.21</td>\n",
       "      <td>5.881983e+09</td>\n",
       "      <td>274391040.0</td>\n",
       "      <td>1781760.0</td>\n",
       "      <td>98.45</td>\n",
       "      <td>241254400.0</td>\n",
       "      <td>223059968.0</td>\n",
       "      <td>200.56</td>\n",
       "      <td>5.881983e+09</td>\n",
       "    </tr>\n",
       "    <tr>\n",
       "      <th>0</th>\n",
       "      <td>alpha-1.0-cov-30 assemblies</td>\n",
       "      <td>2</td>\n",
       "      <td>59</td>\n",
       "      <td>3156</td>\n",
       "      <td>3156</td>\n",
       "      <td>32</td>\n",
       "      <td>19699</td>\n",
       "      <td>94.33</td>\n",
       "      <td>1.259106e+09</td>\n",
       "      <td>371367936.0</td>\n",
       "      <td>2.084729e+09</td>\n",
       "      <td>7.89</td>\n",
       "      <td>5.881262e+09</td>\n",
       "      <td>276111360.0</td>\n",
       "      <td>1781760.0</td>\n",
       "      <td>96.50</td>\n",
       "      <td>241541120.0</td>\n",
       "      <td>223195136.0</td>\n",
       "      <td>198.72</td>\n",
       "      <td>5.881262e+09</td>\n",
       "    </tr>\n",
       "    <tr>\n",
       "      <th>0</th>\n",
       "      <td>alpha-1.0-cov-30 assemblies</td>\n",
       "      <td>3</td>\n",
       "      <td>59</td>\n",
       "      <td>3156</td>\n",
       "      <td>3156</td>\n",
       "      <td>32</td>\n",
       "      <td>19699</td>\n",
       "      <td>91.93</td>\n",
       "      <td>1.137971e+09</td>\n",
       "      <td>369631232.0</td>\n",
       "      <td>2.084717e+09</td>\n",
       "      <td>7.81</td>\n",
       "      <td>5.874684e+09</td>\n",
       "      <td>276176896.0</td>\n",
       "      <td>1769472.0</td>\n",
       "      <td>97.31</td>\n",
       "      <td>241033216.0</td>\n",
       "      <td>222932992.0</td>\n",
       "      <td>197.05</td>\n",
       "      <td>5.874684e+09</td>\n",
       "    </tr>\n",
       "  </tbody>\n",
       "</table>\n",
       "</div>"
      ],
      "text/plain": [
       "                          Name  Iteration  Number samples  \\\n",
       "0  alpha-1.0-cov-30 assemblies          1              59   \n",
       "0  alpha-1.0-cov-30 assemblies          2              59   \n",
       "0  alpha-1.0-cov-30 assemblies          3              59   \n",
       "\n",
       "   Number features (all)  Number features (no unknown)  Number cores  \\\n",
       "0                   3156                          3156            32   \n",
       "0                   3156                          3156            32   \n",
       "0                   3156                          3156            32   \n",
       "\n",
       "   Reference length  Analysis runtime  Analysis memory (max)  \\\n",
       "0             19699             93.90           1.228067e+09   \n",
       "0             19699             94.33           1.259106e+09   \n",
       "0             19699             91.93           1.137971e+09   \n",
       "\n",
       "   Analysis memory (max/process)  Analysis disk uage  Index runtime  \\\n",
       "0                    376897536.0        2.084729e+09           8.21   \n",
       "0                    371367936.0        2.084729e+09           7.89   \n",
       "0                    369631232.0        2.084717e+09           7.81   \n",
       "\n",
       "   Index memory (max)  Index memory (max/process)  Index size  Tree runtime  \\\n",
       "0        5.881983e+09                 274391040.0   1781760.0         98.45   \n",
       "0        5.881262e+09                 276111360.0   1781760.0         96.50   \n",
       "0        5.874684e+09                 276176896.0   1769472.0         97.31   \n",
       "\n",
       "   Tree memory (max)  Tree memory (max/process)  Total runtime    Max memory  \n",
       "0        241254400.0                223059968.0         200.56  5.881983e+09  \n",
       "0        241541120.0                223195136.0         198.72  5.881262e+09  \n",
       "0        241033216.0                222932992.0         197.05  5.874684e+09  "
      ]
     },
     "execution_count": 11,
     "metadata": {},
     "output_type": "execute_result"
    }
   ],
   "source": [
    "benchmark_df"
   ]
  },
  {
   "cell_type": "code",
   "execution_count": 12,
   "id": "e1a6d962-50bc-4c8d-a6f2-3a661da706b4",
   "metadata": {
    "execution": {
     "iopub.execute_input": "2021-09-11T20:27:54.917051Z",
     "iopub.status.busy": "2021-09-11T20:27:54.916351Z",
     "iopub.status.idle": "2021-09-11T20:27:54.920073Z",
     "shell.execute_reply": "2021-09-11T20:27:54.920608Z"
    },
    "papermill": {
     "duration": 0.027799,
     "end_time": "2021-09-11T20:27:54.920780",
     "exception": false,
     "start_time": "2021-09-11T20:27:54.892981",
     "status": "completed"
    },
    "tags": []
   },
   "outputs": [],
   "source": [
    "index_assemblies_runtime = simulation_dir_path / 'assemblies-index-info.tsv'\n",
    "benchmark_df.to_csv(index_assemblies_runtime, sep='\\t', index=False)"
   ]
  },
  {
   "cell_type": "markdown",
   "id": "6cb7673b-9f85-4c43-b2e2-93538497a196",
   "metadata": {
    "papermill": {
     "duration": 0.015481,
     "end_time": "2021-09-11T20:27:54.963169",
     "exception": false,
     "start_time": "2021-09-11T20:27:54.947688",
     "status": "completed"
    },
    "tags": []
   },
   "source": [
    "# 3. Export trees"
   ]
  },
  {
   "cell_type": "code",
   "execution_count": 13,
   "id": "5280f82c-5434-4391-8c44-b937a7c95bd5",
   "metadata": {
    "execution": {
     "iopub.execute_input": "2021-09-11T20:27:55.014555Z",
     "iopub.status.busy": "2021-09-11T20:27:55.002928Z",
     "iopub.status.idle": "2021-09-11T20:28:00.655327Z",
     "shell.execute_reply": "2021-09-11T20:28:00.656211Z"
    },
    "papermill": {
     "duration": 5.678002,
     "end_time": "2021-09-11T20:28:00.656533",
     "exception": false,
     "start_time": "2021-09-11T20:27:54.978531",
     "status": "completed"
    },
    "tags": []
   },
   "outputs": [
    {
     "name": "stdout",
     "output_type": "stream",
     "text": [
      "Wrote assemblies tree to simulations/alpha-1.0-cov-30/index-assemblies/assemblies.tre\n"
     ]
    },
    {
     "name": "stdout",
     "output_type": "stream",
     "text": [
      "Wrote assemblies tree to simulations/alpha-1.0-cov-30/index-reads/reads.tre\n"
     ]
    }
   ],
   "source": [
    "!gdi --project-dir {index_assemblies_path} export tree {reference_name} > {output_assemblies_tree}\n",
    "print(f'Wrote assemblies tree to {output_assemblies_tree}')\n",
    "\n",
    "!gdi --project-dir {index_reads_path} export tree {reference_name} > {output_reads_tree}\n",
    "print(f'Wrote assemblies tree to {output_reads_tree}')"
   ]
  }
 ],
 "metadata": {
  "kernelspec": {
   "display_name": "Python 3 (ipykernel)",
   "language": "python",
   "name": "python3"
  },
  "language_info": {
   "codemirror_mode": {
    "name": "ipython",
    "version": 3
   },
   "file_extension": ".py",
   "mimetype": "text/x-python",
   "name": "python",
   "nbconvert_exporter": "python",
   "pygments_lexer": "ipython3",
   "version": "3.8.10"
  },
  "papermill": {
   "default_parameters": {},
   "duration": 1272.552985,
   "end_time": "2021-09-11T20:28:01.982979",
   "environment_variables": {},
   "exception": null,
   "input_path": "template-3-index-genomes.ipynb",
   "output_path": "3-index-genomes.simulation-alpha-1.0.ipynb",
   "parameters": {
    "iterations": 3,
    "mincov": 10,
    "read_coverage": 30,
    "simulation_dir": "simulations/alpha-1.0-cov-30",
    "sub_alpha": 1.0
   },
   "start_time": "2021-09-11T20:06:49.429994",
   "version": "2.3.3"
  }
 },
 "nbformat": 4,
 "nbformat_minor": 5
}