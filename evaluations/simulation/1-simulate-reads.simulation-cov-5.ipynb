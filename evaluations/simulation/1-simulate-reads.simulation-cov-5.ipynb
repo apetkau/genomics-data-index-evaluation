{
 "cells": [
  {
   "cell_type": "markdown",
   "id": "39afc998-7d9f-4d4e-9147-fb6198f83f2d",
   "metadata": {
    "papermill": {
     "duration": 0.018402,
     "end_time": "2021-08-27T18:53:08.540324",
     "exception": false,
     "start_time": "2021-08-27T18:53:08.521922",
     "status": "completed"
    },
    "tags": []
   },
   "source": [
    "# 1. Parameters"
   ]
  },
  {
   "cell_type": "code",
   "execution_count": 1,
   "id": "8eee723b-55a2-4355-b867-c5e682a9f800",
   "metadata": {
    "execution": {
     "iopub.execute_input": "2021-08-27T18:53:08.689287Z",
     "iopub.status.busy": "2021-08-27T18:53:08.687522Z",
     "iopub.status.idle": "2021-08-27T18:53:08.734218Z",
     "shell.execute_reply": "2021-08-27T18:53:08.732855Z"
    },
    "papermill": {
     "duration": 0.183917,
     "end_time": "2021-08-27T18:53:08.734489",
     "exception": false,
     "start_time": "2021-08-27T18:53:08.550572",
     "status": "completed"
    },
    "tags": [
     "parameters"
    ]
   },
   "outputs": [],
   "source": [
    "# Defaults\n",
    "\n",
    "## Directories\n",
    "simulation_dir <- \"simulations/unset\"\n",
    "reference_file <- \"input/S_HeidelbergSL476.fasta.gz\"\n",
    "initial_tree_file <- \"input/salmonella.tre\"\n",
    "reference_name <- \"NC_011083\"\n",
    "\n",
    "## Simulation parameters\n",
    "sub_lambda <- 1e-2\n",
    "sub_mu <- 1\n",
    "sub_invariant <- 0.9\n",
    "ins_rate <- 1e-4\n",
    "ins_max_length <- 60\n",
    "ins_a <- 1.6\n",
    "del_rate <- 1e-4\n",
    "del_max_length <- 60\n",
    "del_a <- 1.6\n",
    "\n",
    "## Read simulation information\n",
    "read_coverage <- 5\n",
    "read_length <- 250\n",
    "\n",
    "## Other\n",
    "ncores <- 48"
   ]
  },
  {
   "cell_type": "code",
   "execution_count": 2,
   "id": "e0630279",
   "metadata": {
    "execution": {
     "iopub.execute_input": "2021-08-27T18:53:08.806877Z",
     "iopub.status.busy": "2021-08-27T18:53:08.766790Z",
     "iopub.status.idle": "2021-08-27T18:53:08.818036Z",
     "shell.execute_reply": "2021-08-27T18:53:08.816898Z"
    },
    "papermill": {
     "duration": 0.066241,
     "end_time": "2021-08-27T18:53:08.818285",
     "exception": false,
     "start_time": "2021-08-27T18:53:08.752044",
     "status": "completed"
    },
    "tags": [
     "injected-parameters"
    ]
   },
   "outputs": [],
   "source": [
    "# Parameters\n",
    "read_coverage = 5\n",
    "simulation_dir = \"simulations/cov-5\"\n"
   ]
  },
  {
   "cell_type": "code",
   "execution_count": 3,
   "id": "845350c4-9369-4350-bcce-504d05f5ff55",
   "metadata": {
    "execution": {
     "iopub.execute_input": "2021-08-27T18:53:08.850744Z",
     "iopub.status.busy": "2021-08-27T18:53:08.848201Z",
     "iopub.status.idle": "2021-08-27T18:53:08.877763Z",
     "shell.execute_reply": "2021-08-27T18:53:08.876580Z"
    },
    "papermill": {
     "duration": 0.043675,
     "end_time": "2021-08-27T18:53:08.877956",
     "exception": false,
     "start_time": "2021-08-27T18:53:08.834281",
     "status": "completed"
    },
    "tags": []
   },
   "outputs": [
    {
     "name": "stdout",
     "output_type": "stream",
     "text": [
      "[1] \"simulations/cov-5/simulated_data\"\n"
     ]
    },
    {
     "name": "stdout",
     "output_type": "stream",
     "text": [
      "[1] \"simulations/cov-5/simulated_data/haplotypes\"\n"
     ]
    }
   ],
   "source": [
    "output_dir <- file.path(simulation_dir, \"simulated_data\")\n",
    "output_vcf_prefix <- file.path(output_dir, \"haplotypes\")\n",
    "reads_data_initial_prefix <- file.path(output_dir, \"reads_initial\", \"data\")\n",
    "print(output_dir)\n",
    "print(output_vcf_prefix)"
   ]
  },
  {
   "cell_type": "markdown",
   "id": "noticed-coating",
   "metadata": {
    "papermill": {
     "duration": 0.009404,
     "end_time": "2021-08-27T18:53:08.903298",
     "exception": false,
     "start_time": "2021-08-27T18:53:08.893894",
     "status": "completed"
    },
    "tags": []
   },
   "source": [
    "# 2. Generate simulated data\n",
    "\n",
    "This simulates *Salmonella* data using a reference genome and a tree."
   ]
  },
  {
   "cell_type": "code",
   "execution_count": 4,
   "id": "bright-polymer",
   "metadata": {
    "execution": {
     "iopub.execute_input": "2021-08-27T18:53:08.930891Z",
     "iopub.status.busy": "2021-08-27T18:53:08.928213Z",
     "iopub.status.idle": "2021-08-27T18:53:09.020625Z",
     "shell.execute_reply": "2021-08-27T18:53:09.019619Z"
    },
    "papermill": {
     "duration": 0.110265,
     "end_time": "2021-08-27T18:53:09.020865",
     "exception": false,
     "start_time": "2021-08-27T18:53:08.910600",
     "status": "completed"
    },
    "tags": []
   },
   "outputs": [
    {
     "data": {
      "text/html": [
       "TRUE"
      ],
      "text/latex": [
       "TRUE"
      ],
      "text/markdown": [
       "TRUE"
      ],
      "text/plain": [
       "[1] TRUE"
      ]
     },
     "metadata": {},
     "output_type": "display_data"
    }
   ],
   "source": [
    "library(jackalope)\n",
    "\n",
    "# Make sure we've complied with openmp\n",
    "jackalope:::using_openmp()"
   ]
  },
  {
   "cell_type": "code",
   "execution_count": 5,
   "id": "chronic-region",
   "metadata": {
    "execution": {
     "iopub.execute_input": "2021-08-27T18:53:09.053516Z",
     "iopub.status.busy": "2021-08-27T18:53:09.051124Z",
     "iopub.status.idle": "2021-08-27T18:53:09.137023Z",
     "shell.execute_reply": "2021-08-27T18:53:09.135904Z"
    },
    "papermill": {
     "duration": 0.09964,
     "end_time": "2021-08-27T18:53:09.137269",
     "exception": false,
     "start_time": "2021-08-27T18:53:09.037629",
     "status": "completed"
    },
    "tags": []
   },
   "outputs": [
    {
     "data": {
      "text/plain": [
       "< Set of 1 chromosomes >\n",
       "# Total size: 4,888,768 bp\n",
       "  name                             chromosome                             length\n",
       "NC_011083  AGAGATTACGTCTGGTTGCAAGAGATCA...ATAACGTGCTGTAATTTTTAAAATAATA   4888768"
      ]
     },
     "metadata": {},
     "output_type": "display_data"
    }
   ],
   "source": [
    "reference <- read_fasta(reference_file)\n",
    "reference$set_names(c(reference_name))\n",
    "reference_len <- 4888768 # I don't know how to programatically get this in R\n",
    "reference"
   ]
  },
  {
   "cell_type": "code",
   "execution_count": 6,
   "id": "documented-helmet",
   "metadata": {
    "execution": {
     "iopub.execute_input": "2021-08-27T18:53:09.180864Z",
     "iopub.status.busy": "2021-08-27T18:53:09.169783Z",
     "iopub.status.idle": "2021-08-27T18:53:09.282777Z",
     "shell.execute_reply": "2021-08-27T18:53:09.281568Z"
    },
    "papermill": {
     "duration": 0.127948,
     "end_time": "2021-08-27T18:53:09.283036",
     "exception": false,
     "start_time": "2021-08-27T18:53:09.155088",
     "status": "completed"
    },
    "tags": []
   },
   "outputs": [
    {
     "data": {
      "text/plain": [
       "\n",
       "Phylogenetic tree with 60 tips and 59 internal nodes.\n",
       "\n",
       "Tip labels:\n",
       "  reference, SH12-013, SH12-014, SH10-015, SH10-014, SH11-002, ...\n",
       "Node labels:\n",
       "  Root, 1.000000, 0.000000, 0.000000, 1.000000, 0.000000, ...\n",
       "\n",
       "Rooted; includes branch lengths."
      ]
     },
     "metadata": {},
     "output_type": "display_data"
    }
   ],
   "source": [
    "library(ape)\n",
    "\n",
    "tree <- read.tree(initial_tree_file)\n",
    "tree <- root(tree, \"reference\", resolve.root=TRUE)\n",
    "tree"
   ]
  },
  {
   "cell_type": "code",
   "execution_count": 7,
   "id": "proved-silver",
   "metadata": {
    "execution": {
     "iopub.execute_input": "2021-08-27T18:53:09.318571Z",
     "iopub.status.busy": "2021-08-27T18:53:09.315744Z",
     "iopub.status.idle": "2021-08-27T18:53:16.889784Z",
     "shell.execute_reply": "2021-08-27T18:53:16.888563Z"
    },
    "papermill": {
     "duration": 7.589152,
     "end_time": "2021-08-27T18:53:16.890040",
     "exception": false,
     "start_time": "2021-08-27T18:53:09.300888",
     "status": "completed"
    },
    "tags": []
   },
   "outputs": [
    {
     "data": {
      "text/plain": [
       "                              << haplotypes object >>\n",
       "# Haplotypes: 60\n",
       "# Mutations: 220,377\n",
       "\n",
       "                          << Reference genome info: >>\n",
       "< Set of 1 chromosomes >\n",
       "# Total size: 4,888,768 bp\n",
       "  name                             chromosome                             length\n",
       "NC_011083  AGAGATTACGTCTGGTTGCAAGAGATCA...ATAACGTGCTGTAATTTTTAAAATAATA   4888768"
      ]
     },
     "metadata": {},
     "output_type": "display_data"
    }
   ],
   "source": [
    "sub <- sub_JC69(lambda = sub_lambda, mu = sub_mu, invariant = sub_invariant)\n",
    "ins <- indels(rate = ins_rate, max_length = ins_max_length, a = ins_a)\n",
    "del <- indels(rate = del_rate, max_length = del_max_length, a = del_a)\n",
    "\n",
    "ref_haplotypes <- create_haplotypes(reference, haps_phylo(tree), sub=sub, ins=ins, del=del)\n",
    "ref_haplotypes"
   ]
  },
  {
   "cell_type": "markdown",
   "id": "535fa02d-c76c-4067-9582-74f3694d16ea",
   "metadata": {
    "papermill": {
     "duration": 0.010261,
     "end_time": "2021-08-27T18:53:16.918832",
     "exception": false,
     "start_time": "2021-08-27T18:53:16.908571",
     "status": "completed"
    },
    "tags": []
   },
   "source": [
    "# 3. Write simulated data"
   ]
  },
  {
   "cell_type": "code",
   "execution_count": 8,
   "id": "smoking-geology",
   "metadata": {
    "execution": {
     "iopub.execute_input": "2021-08-27T18:53:16.940762Z",
     "iopub.status.busy": "2021-08-27T18:53:16.938615Z",
     "iopub.status.idle": "2021-08-27T18:53:17.332745Z",
     "shell.execute_reply": "2021-08-27T18:53:17.331604Z"
    },
    "papermill": {
     "duration": 0.406223,
     "end_time": "2021-08-27T18:53:17.332981",
     "exception": false,
     "start_time": "2021-08-27T18:53:16.926758",
     "status": "completed"
    },
    "tags": []
   },
   "outputs": [],
   "source": [
    "write_vcf(ref_haplotypes, out_prefix=output_vcf_prefix, compress=TRUE)"
   ]
  },
  {
   "cell_type": "code",
   "execution_count": 9,
   "id": "d2657fc5-481e-4b24-bbf8-78c02ee735ce",
   "metadata": {
    "execution": {
     "iopub.execute_input": "2021-08-27T18:53:17.373459Z",
     "iopub.status.busy": "2021-08-27T18:53:17.370087Z",
     "iopub.status.idle": "2021-08-27T18:53:20.674551Z",
     "shell.execute_reply": "2021-08-27T18:53:20.672203Z"
    },
    "papermill": {
     "duration": 3.322999,
     "end_time": "2021-08-27T18:53:20.674872",
     "exception": false,
     "start_time": "2021-08-27T18:53:17.351873",
     "status": "completed"
    },
    "tags": []
   },
   "outputs": [],
   "source": [
    "assemblies_prefix = file.path(output_dir, \"assemblies\", \"data\")\n",
    "\n",
    "write_fasta(ref_haplotypes, out_prefix=assemblies_prefix,\n",
    "            compress=TRUE, n_threads=ncores, overwrite=TRUE)"
   ]
  },
  {
   "cell_type": "code",
   "execution_count": 10,
   "id": "continent-freeze",
   "metadata": {
    "execution": {
     "iopub.execute_input": "2021-08-27T18:53:20.709052Z",
     "iopub.status.busy": "2021-08-27T18:53:20.706362Z",
     "iopub.status.idle": "2021-08-27T18:59:47.998807Z",
     "shell.execute_reply": "2021-08-27T18:59:47.997441Z"
    },
    "papermill": {
     "duration": 387.305948,
     "end_time": "2021-08-27T18:59:47.999060",
     "exception": false,
     "start_time": "2021-08-27T18:53:20.693112",
     "status": "completed"
    },
    "tags": []
   },
   "outputs": [
    {
     "name": "stdout",
     "output_type": "stream",
     "text": [
      "[1] \"Number of reads for coverage 5X and read length 250 over 60 samples with respect to reference with length 4888768: 5866522\"\n"
     ]
    }
   ],
   "source": [
    "n_samples <- length(tree$tip)\n",
    "n_reads <- round((reference$sizes() * read_coverage * n_samples) / read_length)\n",
    "print(sprintf(\"Number of reads for coverage %sX and read length %s over %s samples with respect to reference with length %s: %s\", \n",
    "              read_coverage, read_length, n_samples, reference_len, n_reads))\n",
    "\n",
    "illumina(ref_haplotypes, out_prefix = reads_data_initial_prefix, sep_files=TRUE, n_reads = n_reads,\n",
    "         frag_mean = read_length * 2 + 50, frag_sd = 100,\n",
    "         compress=TRUE, comp_method=\"bgzip\", n_threads=ncores,\n",
    "         paired=TRUE, read_length = read_length)"
   ]
  },
  {
   "cell_type": "code",
   "execution_count": 11,
   "id": "israeli-unknown",
   "metadata": {
    "execution": {
     "iopub.execute_input": "2021-08-27T18:59:48.038317Z",
     "iopub.status.busy": "2021-08-27T18:59:48.036904Z",
     "iopub.status.idle": "2021-08-27T18:59:48.077296Z",
     "shell.execute_reply": "2021-08-27T18:59:48.076051Z"
    },
    "papermill": {
     "duration": 0.058703,
     "end_time": "2021-08-27T18:59:48.077595",
     "exception": false,
     "start_time": "2021-08-27T18:59:48.018892",
     "status": "completed"
    },
    "tags": []
   },
   "outputs": [
    {
     "name": "stdout",
     "output_type": "stream",
     "text": [
      "[1] \"Removing: simulations/cov-5/simulated_data/reads_initial/data_reference_R1.fq.gz\"\n"
     ]
    },
    {
     "name": "stdout",
     "output_type": "stream",
     "text": [
      "[1] \"Removing: simulations/cov-5/simulated_data/reads_initial/data_reference_R2.fq.gz\"\n"
     ]
    }
   ],
   "source": [
    "# Remove the simulated reads for the reference genome since I don't want these in the tree\n",
    "ref1 <- paste(toString(reads_data_initial_prefix), \"_reference_R1.fq.gz\", sep=\"\")\n",
    "ref2 <- paste(toString(reads_data_initial_prefix), \"_reference_R2.fq.gz\", sep=\"\")\n",
    "if (file.exists(ref1)) {\n",
    "    file.remove(ref1)\n",
    "    print(sprintf(\"Removing: %s\", ref1))\n",
    "}\n",
    "if (file.exists(ref2)) {\n",
    "    file.remove(ref2)\n",
    "    print(sprintf(\"Removing: %s\", ref2))\n",
    "}"
   ]
  },
  {
   "cell_type": "code",
   "execution_count": 12,
   "id": "likely-elite",
   "metadata": {
    "execution": {
     "iopub.execute_input": "2021-08-27T18:59:48.115728Z",
     "iopub.status.busy": "2021-08-27T18:59:48.112874Z",
     "iopub.status.idle": "2021-08-27T18:59:48.134578Z",
     "shell.execute_reply": "2021-08-27T18:59:48.133674Z"
    },
    "papermill": {
     "duration": 0.037294,
     "end_time": "2021-08-27T18:59:48.134726",
     "exception": false,
     "start_time": "2021-08-27T18:59:48.097432",
     "status": "completed"
    },
    "tags": []
   },
   "outputs": [
    {
     "name": "stdout",
     "output_type": "stream",
     "text": [
      "[1] \"Removing: simulations/cov-5/simulated_data/assemblies/data__reference.fa.gz\"\n"
     ]
    }
   ],
   "source": [
    "# Remove the new reference assembly genome since I don't need it\n",
    "ref1 <- paste(toString(assemblies_prefix), \"__reference.fa.gz\", sep=\"\")\n",
    "if (file.exists(ref1)) {\n",
    "    file.remove(ref1)\n",
    "    print(sprintf(\"Removing: %s\", ref1))\n",
    "}"
   ]
  },
  {
   "cell_type": "code",
   "execution_count": null,
   "id": "6ab27399-288a-4067-a812-d946410658a5",
   "metadata": {
    "papermill": {
     "duration": 0.010413,
     "end_time": "2021-08-27T18:59:48.160890",
     "exception": false,
     "start_time": "2021-08-27T18:59:48.150477",
     "status": "completed"
    },
    "tags": []
   },
   "outputs": [],
   "source": []
  }
 ],
 "metadata": {
  "kernelspec": {
   "display_name": "R",
   "language": "R",
   "name": "ir"
  },
  "language_info": {
   "codemirror_mode": "r",
   "file_extension": ".r",
   "mimetype": "text/x-r-source",
   "name": "R",
   "pygments_lexer": "r",
   "version": "4.1.1"
  },
  "papermill": {
   "default_parameters": {},
   "duration": 401.139843,
   "end_time": "2021-08-27T18:59:48.687427",
   "environment_variables": {},
   "exception": null,
   "input_path": "template-1-simulate-reads.ipynb",
   "output_path": "1-simulate-reads.simulation-cov-5.ipynb",
   "parameters": {
    "read_coverage": 5,
    "simulation_dir": "simulations/cov-5"
   },
   "start_time": "2021-08-27T18:53:07.547584",
   "version": "2.3.3"
  }
 },
 "nbformat": 4,
 "nbformat_minor": 5
}