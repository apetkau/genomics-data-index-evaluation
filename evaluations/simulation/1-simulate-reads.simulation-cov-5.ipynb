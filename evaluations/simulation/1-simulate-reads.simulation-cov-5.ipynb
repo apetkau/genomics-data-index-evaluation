{
 "cells": [
  {
   "cell_type": "markdown",
   "id": "39afc998-7d9f-4d4e-9147-fb6198f83f2d",
   "metadata": {
    "papermill": {
     "duration": 0.017455,
     "end_time": "2021-09-02T03:03:25.924736",
     "exception": false,
     "start_time": "2021-09-02T03:03:25.907281",
     "status": "completed"
    },
    "tags": []
   },
   "source": [
    "# 1. Parameters"
   ]
  },
  {
   "cell_type": "code",
   "execution_count": 1,
   "id": "8eee723b-55a2-4355-b867-c5e682a9f800",
   "metadata": {
    "execution": {
     "iopub.execute_input": "2021-09-02T03:03:26.054145Z",
     "iopub.status.busy": "2021-09-02T03:03:26.051917Z",
     "iopub.status.idle": "2021-09-02T03:03:26.101905Z",
     "shell.execute_reply": "2021-09-02T03:03:26.100645Z"
    },
    "papermill": {
     "duration": 0.167477,
     "end_time": "2021-09-02T03:03:26.102155",
     "exception": false,
     "start_time": "2021-09-02T03:03:25.934678",
     "status": "completed"
    },
    "tags": [
     "parameters"
    ]
   },
   "outputs": [],
   "source": [
    "# Defaults\n",
    "\n",
    "## Random seed\n",
    "random_seed <- 25524\n",
    "\n",
    "## Directories\n",
    "simulation_dir <- \"simulations/unset\"\n",
    "reference_file <- \"simulations/reference/reference.fa.gz\"\n",
    "initial_tree_file <- \"input/salmonella.tre\"\n",
    "\n",
    "## Simulation parameters\n",
    "sub_lambda <- 1e-2\n",
    "sub_pi_tcag <- c(0.1, 0.2, 0.3, 0.4)\n",
    "sub_alpha <- 0.2\n",
    "sub_beta <- 0.1\n",
    "sub_mu <- 1\n",
    "sub_invariant <- 0.3\n",
    "ins_rate <- 1e-4\n",
    "ins_max_length <- 60\n",
    "ins_a <- 1.6\n",
    "del_rate <- 1e-4\n",
    "del_max_length <- 60\n",
    "del_a <- 1.6\n",
    "\n",
    "## Read simulation information\n",
    "read_coverage <- 30\n",
    "read_length <- 250\n",
    "\n",
    "## Other\n",
    "ncores <- 48"
   ]
  },
  {
   "cell_type": "code",
   "execution_count": 2,
   "id": "450a2b7c",
   "metadata": {
    "execution": {
     "iopub.execute_input": "2021-09-02T03:03:26.176955Z",
     "iopub.status.busy": "2021-09-02T03:03:26.136240Z",
     "iopub.status.idle": "2021-09-02T03:03:26.191182Z",
     "shell.execute_reply": "2021-09-02T03:03:26.189853Z"
    },
    "papermill": {
     "duration": 0.07228,
     "end_time": "2021-09-02T03:03:26.191407",
     "exception": false,
     "start_time": "2021-09-02T03:03:26.119127",
     "status": "completed"
    },
    "tags": [
     "injected-parameters"
    ]
   },
   "outputs": [],
   "source": [
    "# Parameters\n",
    "read_coverage = 5\n",
    "mincov = 10\n",
    "simulation_dir = \"simulations/cov-5\"\n",
    "iterations = 3\n"
   ]
  },
  {
   "cell_type": "code",
   "execution_count": 3,
   "id": "845350c4-9369-4350-bcce-504d05f5ff55",
   "metadata": {
    "execution": {
     "iopub.execute_input": "2021-09-02T03:03:26.226871Z",
     "iopub.status.busy": "2021-09-02T03:03:26.223115Z",
     "iopub.status.idle": "2021-09-02T03:03:26.259531Z",
     "shell.execute_reply": "2021-09-02T03:03:26.258417Z"
    },
    "papermill": {
     "duration": 0.053018,
     "end_time": "2021-09-02T03:03:26.259754",
     "exception": false,
     "start_time": "2021-09-02T03:03:26.206736",
     "status": "completed"
    },
    "tags": []
   },
   "outputs": [
    {
     "name": "stdout",
     "output_type": "stream",
     "text": [
      "[1] \"simulations/cov-5/simulated_data\"\n"
     ]
    },
    {
     "name": "stdout",
     "output_type": "stream",
     "text": [
      "[1] \"simulations/cov-5/simulated_data/haplotypes\"\n"
     ]
    }
   ],
   "source": [
    "output_dir <- file.path(simulation_dir, \"simulated_data\")\n",
    "output_vcf_prefix <- file.path(output_dir, \"haplotypes\")\n",
    "reads_data_initial_prefix <- file.path(output_dir, \"reads_initial\", \"data\")\n",
    "set.seed(random_seed)\n",
    "print(output_dir)\n",
    "print(output_vcf_prefix)"
   ]
  },
  {
   "cell_type": "markdown",
   "id": "noticed-coating",
   "metadata": {
    "papermill": {
     "duration": 0.009332,
     "end_time": "2021-09-02T03:03:26.284921",
     "exception": false,
     "start_time": "2021-09-02T03:03:26.275589",
     "status": "completed"
    },
    "tags": []
   },
   "source": [
    "# 2. Generate simulated data\n",
    "\n",
    "This simulates *Salmonella* data using a reference genome and a tree."
   ]
  },
  {
   "cell_type": "code",
   "execution_count": 4,
   "id": "bright-polymer",
   "metadata": {
    "execution": {
     "iopub.execute_input": "2021-09-02T03:03:26.306906Z",
     "iopub.status.busy": "2021-09-02T03:03:26.303916Z",
     "iopub.status.idle": "2021-09-02T03:03:26.400689Z",
     "shell.execute_reply": "2021-09-02T03:03:26.399574Z"
    },
    "papermill": {
     "duration": 0.108784,
     "end_time": "2021-09-02T03:03:26.400910",
     "exception": false,
     "start_time": "2021-09-02T03:03:26.292126",
     "status": "completed"
    },
    "tags": []
   },
   "outputs": [
    {
     "data": {
      "text/html": [
       "TRUE"
      ],
      "text/latex": [
       "TRUE"
      ],
      "text/markdown": [
       "TRUE"
      ],
      "text/plain": [
       "[1] TRUE"
      ]
     },
     "metadata": {},
     "output_type": "display_data"
    }
   ],
   "source": [
    "library(jackalope)\n",
    "\n",
    "# Make sure we've complied with openmp\n",
    "jackalope:::using_openmp()"
   ]
  },
  {
   "cell_type": "code",
   "execution_count": 5,
   "id": "303635b1-41dc-4917-8e90-30832a9acafd",
   "metadata": {
    "execution": {
     "iopub.execute_input": "2021-09-02T03:03:26.435661Z",
     "iopub.status.busy": "2021-09-02T03:03:26.432725Z",
     "iopub.status.idle": "2021-09-02T03:03:26.466642Z",
     "shell.execute_reply": "2021-09-02T03:03:26.465531Z"
    },
    "papermill": {
     "duration": 0.049525,
     "end_time": "2021-09-02T03:03:26.466868",
     "exception": false,
     "start_time": "2021-09-02T03:03:26.417343",
     "status": "completed"
    },
    "tags": []
   },
   "outputs": [
    {
     "data": {
      "text/plain": [
       "< Set of 1 chromosomes >\n",
       "# Total size: 10,834 bp\n",
       "  name                             chromosome                             length\n",
       "chrom0     GTATTGCGAGGGTGGGGGAGTACGGCAG...CAAGAATGCAACCGACTCTGTCGGGACT     10834"
      ]
     },
     "metadata": {},
     "output_type": "display_data"
    }
   ],
   "source": [
    "reference <- read_fasta(reference_file)\n",
    "reference_len <- reference$sizes()\n",
    "reference"
   ]
  },
  {
   "cell_type": "code",
   "execution_count": 6,
   "id": "documented-helmet",
   "metadata": {
    "execution": {
     "iopub.execute_input": "2021-09-02T03:03:26.503343Z",
     "iopub.status.busy": "2021-09-02T03:03:26.500426Z",
     "iopub.status.idle": "2021-09-02T03:03:26.578600Z",
     "shell.execute_reply": "2021-09-02T03:03:26.577511Z"
    },
    "papermill": {
     "duration": 0.094403,
     "end_time": "2021-09-02T03:03:26.578818",
     "exception": false,
     "start_time": "2021-09-02T03:03:26.484415",
     "status": "completed"
    },
    "tags": []
   },
   "outputs": [
    {
     "data": {
      "text/plain": [
       "\n",
       "Phylogenetic tree with 60 tips and 59 internal nodes.\n",
       "\n",
       "Tip labels:\n",
       "  reference, SH12-013, SH12-014, SH10-015, SH10-014, SH11-002, ...\n",
       "Node labels:\n",
       "  Root, 1.000000, 0.000000, 0.000000, 1.000000, 0.000000, ...\n",
       "\n",
       "Rooted; includes branch lengths."
      ]
     },
     "metadata": {},
     "output_type": "display_data"
    }
   ],
   "source": [
    "library(ape)\n",
    "\n",
    "tree <- read.tree(initial_tree_file)\n",
    "tree <- root(tree, \"reference\", resolve.root=TRUE)\n",
    "tree"
   ]
  },
  {
   "cell_type": "code",
   "execution_count": 7,
   "id": "proved-silver",
   "metadata": {
    "execution": {
     "iopub.execute_input": "2021-09-02T03:03:26.617207Z",
     "iopub.status.busy": "2021-09-02T03:03:26.614208Z",
     "iopub.status.idle": "2021-09-02T03:03:26.752727Z",
     "shell.execute_reply": "2021-09-02T03:03:26.751629Z"
    },
    "papermill": {
     "duration": 0.155122,
     "end_time": "2021-09-02T03:03:26.752946",
     "exception": false,
     "start_time": "2021-09-02T03:03:26.597824",
     "status": "completed"
    },
    "tags": []
   },
   "outputs": [
    {
     "data": {
      "text/plain": [
       "                              << haplotypes object >>\n",
       "# Haplotypes: 60\n",
       "# Mutations: 10,109\n",
       "\n",
       "                          << Reference genome info: >>\n",
       "< Set of 1 chromosomes >\n",
       "# Total size: 10,834 bp\n",
       "  name                             chromosome                             length\n",
       "chrom0     GTATTGCGAGGGTGGGGGAGTACGGCAG...CAAGAATGCAACCGACTCTGTCGGGACT     10834"
      ]
     },
     "metadata": {},
     "output_type": "display_data"
    }
   ],
   "source": [
    "sub <- sub_HKY85(pi_tcag = sub_pi_tcag, mu = sub_mu,\n",
    "                 alpha = sub_alpha, beta = sub_beta, gamma_k = 5,\n",
    "                 invariant = sub_invariant)\n",
    "ins <- indels(rate = ins_rate, max_length = ins_max_length, a = ins_a)\n",
    "del <- indels(rate = del_rate, max_length = del_max_length, a = del_a)\n",
    "\n",
    "ref_haplotypes <- create_haplotypes(reference, haps_phylo(tree), sub=sub, ins=ins, del=del)\n",
    "ref_haplotypes"
   ]
  },
  {
   "cell_type": "markdown",
   "id": "535fa02d-c76c-4067-9582-74f3694d16ea",
   "metadata": {
    "papermill": {
     "duration": 0.010356,
     "end_time": "2021-09-02T03:03:26.781138",
     "exception": false,
     "start_time": "2021-09-02T03:03:26.770782",
     "status": "completed"
    },
    "tags": []
   },
   "source": [
    "# 3. Write simulated data"
   ]
  },
  {
   "cell_type": "code",
   "execution_count": 8,
   "id": "smoking-geology",
   "metadata": {
    "execution": {
     "iopub.execute_input": "2021-09-02T03:03:26.805922Z",
     "iopub.status.busy": "2021-09-02T03:03:26.802430Z",
     "iopub.status.idle": "2021-09-02T03:03:26.841114Z",
     "shell.execute_reply": "2021-09-02T03:03:26.839995Z"
    },
    "papermill": {
     "duration": 0.052546,
     "end_time": "2021-09-02T03:03:26.841337",
     "exception": false,
     "start_time": "2021-09-02T03:03:26.788791",
     "status": "completed"
    },
    "tags": []
   },
   "outputs": [],
   "source": [
    "write_vcf(ref_haplotypes, out_prefix=output_vcf_prefix, compress=TRUE)"
   ]
  },
  {
   "cell_type": "code",
   "execution_count": 9,
   "id": "d2657fc5-481e-4b24-bbf8-78c02ee735ce",
   "metadata": {
    "execution": {
     "iopub.execute_input": "2021-09-02T03:03:26.882057Z",
     "iopub.status.busy": "2021-09-02T03:03:26.878808Z",
     "iopub.status.idle": "2021-09-02T03:03:26.967743Z",
     "shell.execute_reply": "2021-09-02T03:03:26.964163Z"
    },
    "papermill": {
     "duration": 0.10746,
     "end_time": "2021-09-02T03:03:26.967900",
     "exception": false,
     "start_time": "2021-09-02T03:03:26.860440",
     "status": "completed"
    },
    "tags": []
   },
   "outputs": [],
   "source": [
    "assemblies_prefix = file.path(output_dir, \"assemblies\", \"data\")\n",
    "\n",
    "write_fasta(ref_haplotypes, out_prefix=assemblies_prefix,\n",
    "            compress=TRUE, n_threads=ncores, overwrite=TRUE)"
   ]
  },
  {
   "cell_type": "code",
   "execution_count": 10,
   "id": "continent-freeze",
   "metadata": {
    "execution": {
     "iopub.execute_input": "2021-09-02T03:03:26.994756Z",
     "iopub.status.busy": "2021-09-02T03:03:26.992902Z",
     "iopub.status.idle": "2021-09-02T03:09:33.294878Z",
     "shell.execute_reply": "2021-09-02T03:09:33.292898Z"
    },
    "papermill": {
     "duration": 366.31359,
     "end_time": "2021-09-02T03:09:33.295211",
     "exception": false,
     "start_time": "2021-09-02T03:03:26.981621",
     "status": "completed"
    },
    "tags": []
   },
   "outputs": [
    {
     "name": "stdout",
     "output_type": "stream",
     "text": [
      "[1] \"Number of reads for coverage 5X and read length 250 over 60 samples with respect to reference with length 10834: 13001\"\n"
     ]
    }
   ],
   "source": [
    "n_samples <- length(tree$tip)\n",
    "n_reads <- round((reference_len * read_coverage * n_samples) / read_length)\n",
    "print(sprintf(\"Number of reads for coverage %sX and read length %s over %s samples with respect to reference with length %s: %s\", \n",
    "              read_coverage, read_length, n_samples, reference_len, n_reads))\n",
    "\n",
    "illumina(ref_haplotypes, out_prefix = reads_data_initial_prefix, sep_files=TRUE, n_reads = n_reads,\n",
    "         frag_mean = read_length * 2 + 50, frag_sd = 100,\n",
    "         compress=TRUE, comp_method=\"bgzip\", n_threads=ncores,\n",
    "         paired=TRUE, read_length = read_length)"
   ]
  },
  {
   "cell_type": "code",
   "execution_count": 11,
   "id": "israeli-unknown",
   "metadata": {
    "execution": {
     "iopub.execute_input": "2021-09-02T03:09:33.338463Z",
     "iopub.status.busy": "2021-09-02T03:09:33.336491Z",
     "iopub.status.idle": "2021-09-02T03:09:33.381644Z",
     "shell.execute_reply": "2021-09-02T03:09:33.380126Z"
    },
    "papermill": {
     "duration": 0.059286,
     "end_time": "2021-09-02T03:09:33.381972",
     "exception": false,
     "start_time": "2021-09-02T03:09:33.322686",
     "status": "completed"
    },
    "tags": []
   },
   "outputs": [
    {
     "name": "stdout",
     "output_type": "stream",
     "text": [
      "[1] \"Removing: simulations/cov-5/simulated_data/reads_initial/data_reference_R1.fq.gz\"\n"
     ]
    },
    {
     "name": "stdout",
     "output_type": "stream",
     "text": [
      "[1] \"Removing: simulations/cov-5/simulated_data/reads_initial/data_reference_R2.fq.gz\"\n"
     ]
    }
   ],
   "source": [
    "# Remove the simulated reads for the reference genome since I don't want these in the tree\n",
    "ref1 <- paste(toString(reads_data_initial_prefix), \"_reference_R1.fq.gz\", sep=\"\")\n",
    "ref2 <- paste(toString(reads_data_initial_prefix), \"_reference_R2.fq.gz\", sep=\"\")\n",
    "if (file.exists(ref1)) {\n",
    "    file.remove(ref1)\n",
    "    print(sprintf(\"Removing: %s\", ref1))\n",
    "}\n",
    "if (file.exists(ref2)) {\n",
    "    file.remove(ref2)\n",
    "    print(sprintf(\"Removing: %s\", ref2))\n",
    "}"
   ]
  },
  {
   "cell_type": "code",
   "execution_count": 12,
   "id": "likely-elite",
   "metadata": {
    "execution": {
     "iopub.execute_input": "2021-09-02T03:09:33.419714Z",
     "iopub.status.busy": "2021-09-02T03:09:33.416728Z",
     "iopub.status.idle": "2021-09-02T03:09:33.441767Z",
     "shell.execute_reply": "2021-09-02T03:09:33.440507Z"
    },
    "papermill": {
     "duration": 0.040888,
     "end_time": "2021-09-02T03:09:33.441935",
     "exception": false,
     "start_time": "2021-09-02T03:09:33.401047",
     "status": "completed"
    },
    "tags": []
   },
   "outputs": [
    {
     "name": "stdout",
     "output_type": "stream",
     "text": [
      "[1] \"Removing: simulations/cov-5/simulated_data/assemblies/data__reference.fa.gz\"\n"
     ]
    }
   ],
   "source": [
    "# Remove the new reference assembly genome since I don't need it\n",
    "ref1 <- paste(toString(assemblies_prefix), \"__reference.fa.gz\", sep=\"\")\n",
    "if (file.exists(ref1)) {\n",
    "    file.remove(ref1)\n",
    "    print(sprintf(\"Removing: %s\", ref1))\n",
    "}"
   ]
  },
  {
   "cell_type": "code",
   "execution_count": null,
   "id": "6ab27399-288a-4067-a812-d946410658a5",
   "metadata": {
    "papermill": {
     "duration": 0.010232,
     "end_time": "2021-09-02T03:09:33.468616",
     "exception": false,
     "start_time": "2021-09-02T03:09:33.458384",
     "status": "completed"
    },
    "tags": []
   },
   "outputs": [],
   "source": []
  }
 ],
 "metadata": {
  "kernelspec": {
   "display_name": "R",
   "language": "R",
   "name": "ir"
  },
  "language_info": {
   "codemirror_mode": "r",
   "file_extension": ".r",
   "mimetype": "text/x-r-source",
   "name": "R",
   "pygments_lexer": "r",
   "version": "4.1.1"
  },
  "papermill": {
   "default_parameters": {},
   "duration": 368.958462,
   "end_time": "2021-09-02T03:09:33.893753",
   "environment_variables": {},
   "exception": null,
   "input_path": "template-1-simulate-reads.ipynb",
   "output_path": "1-simulate-reads.simulation-cov-5.ipynb",
   "parameters": {
    "iterations": 3,
    "mincov": 10,
    "read_coverage": 5,
    "simulation_dir": "simulations/cov-5"
   },
   "start_time": "2021-09-02T03:03:24.935291",
   "version": "2.3.3"
  }
 },
 "nbformat": 4,
 "nbformat_minor": 5
}