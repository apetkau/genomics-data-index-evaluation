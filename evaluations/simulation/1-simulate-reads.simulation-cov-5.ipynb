{
 "cells": [
  {
   "cell_type": "markdown",
   "id": "39afc998-7d9f-4d4e-9147-fb6198f83f2d",
   "metadata": {
    "papermill": {
     "duration": 0.018036,
     "end_time": "2021-09-11T19:30:54.919761",
     "exception": false,
     "start_time": "2021-09-11T19:30:54.901725",
     "status": "completed"
    },
    "tags": []
   },
   "source": [
    "# 1. Parameters"
   ]
  },
  {
   "cell_type": "code",
   "execution_count": 1,
   "id": "8eee723b-55a2-4355-b867-c5e682a9f800",
   "metadata": {
    "execution": {
     "iopub.execute_input": "2021-09-11T19:30:55.084588Z",
     "iopub.status.busy": "2021-09-11T19:30:55.082634Z",
     "iopub.status.idle": "2021-09-11T19:30:55.135439Z",
     "shell.execute_reply": "2021-09-11T19:30:55.133788Z"
    },
    "papermill": {
     "duration": 0.206042,
     "end_time": "2021-09-11T19:30:55.135756",
     "exception": false,
     "start_time": "2021-09-11T19:30:54.929714",
     "status": "completed"
    },
    "tags": [
     "parameters"
    ]
   },
   "outputs": [],
   "source": [
    "# Defaults\n",
    "\n",
    "## Random seed\n",
    "random_seed <- 25524\n",
    "\n",
    "## Directories\n",
    "simulation_dir <- \"simulations/unset\"\n",
    "reference_file <- \"simulations/reference/reference.fa.gz\"\n",
    "initial_tree_file <- \"input/salmonella.tre\"\n",
    "\n",
    "## Simulation parameters\n",
    "sub_lambda <- 1e-2\n",
    "sub_pi_tcag <- c(0.1, 0.2, 0.3, 0.4)\n",
    "sub_alpha <- 0.2\n",
    "sub_beta <- sub_alpha/2\n",
    "sub_mu <- 1\n",
    "sub_invariant <- 0.3\n",
    "ins_rate <- 1e-4\n",
    "ins_max_length <- 60\n",
    "ins_a <- 1.6\n",
    "del_rate <- 1e-4\n",
    "del_max_length <- 60\n",
    "del_a <- 1.6\n",
    "\n",
    "## Read simulation information\n",
    "read_coverage <- 30\n",
    "read_length <- 250\n",
    "\n",
    "## Other\n",
    "ncores <- 48"
   ]
  },
  {
   "cell_type": "code",
   "execution_count": 2,
   "id": "474056a7",
   "metadata": {
    "execution": {
     "iopub.execute_input": "2021-09-11T19:30:55.203824Z",
     "iopub.status.busy": "2021-09-11T19:30:55.167410Z",
     "iopub.status.idle": "2021-09-11T19:30:55.219959Z",
     "shell.execute_reply": "2021-09-11T19:30:55.218680Z"
    },
    "papermill": {
     "duration": 0.067643,
     "end_time": "2021-09-11T19:30:55.220230",
     "exception": false,
     "start_time": "2021-09-11T19:30:55.152587",
     "status": "completed"
    },
    "tags": [
     "injected-parameters"
    ]
   },
   "outputs": [],
   "source": [
    "# Parameters\n",
    "read_coverage = 5\n",
    "mincov = 10\n",
    "simulation_dir = \"simulations/cov-5\"\n",
    "iterations = 3\n",
    "sub_alpha = 0.2\n"
   ]
  },
  {
   "cell_type": "code",
   "execution_count": 3,
   "id": "845350c4-9369-4350-bcce-504d05f5ff55",
   "metadata": {
    "execution": {
     "iopub.execute_input": "2021-09-11T19:30:55.254859Z",
     "iopub.status.busy": "2021-09-11T19:30:55.252207Z",
     "iopub.status.idle": "2021-09-11T19:30:55.288945Z",
     "shell.execute_reply": "2021-09-11T19:30:55.287806Z"
    },
    "papermill": {
     "duration": 0.051975,
     "end_time": "2021-09-11T19:30:55.289196",
     "exception": false,
     "start_time": "2021-09-11T19:30:55.237221",
     "status": "completed"
    },
    "tags": []
   },
   "outputs": [
    {
     "name": "stdout",
     "output_type": "stream",
     "text": [
      "[1] \"simulations/cov-5/simulated_data\"\n"
     ]
    },
    {
     "name": "stdout",
     "output_type": "stream",
     "text": [
      "[1] \"simulations/cov-5/simulated_data/haplotypes\"\n"
     ]
    }
   ],
   "source": [
    "output_dir <- file.path(simulation_dir, \"simulated_data\")\n",
    "output_vcf_prefix <- file.path(output_dir, \"haplotypes\")\n",
    "reads_data_initial_prefix <- file.path(output_dir, \"reads_initial\", \"data\")\n",
    "set.seed(random_seed)\n",
    "print(output_dir)\n",
    "print(output_vcf_prefix)"
   ]
  },
  {
   "cell_type": "markdown",
   "id": "noticed-coating",
   "metadata": {
    "papermill": {
     "duration": 0.009691,
     "end_time": "2021-09-11T19:30:55.315090",
     "exception": false,
     "start_time": "2021-09-11T19:30:55.305399",
     "status": "completed"
    },
    "tags": []
   },
   "source": [
    "# 2. Generate simulated data\n",
    "\n",
    "This simulates *Salmonella* data using a reference genome and a tree."
   ]
  },
  {
   "cell_type": "code",
   "execution_count": 4,
   "id": "bright-polymer",
   "metadata": {
    "execution": {
     "iopub.execute_input": "2021-09-11T19:30:55.336662Z",
     "iopub.status.busy": "2021-09-11T19:30:55.333762Z",
     "iopub.status.idle": "2021-09-11T19:30:55.432843Z",
     "shell.execute_reply": "2021-09-11T19:30:55.431787Z"
    },
    "papermill": {
     "duration": 0.111255,
     "end_time": "2021-09-11T19:30:55.433077",
     "exception": false,
     "start_time": "2021-09-11T19:30:55.321822",
     "status": "completed"
    },
    "tags": []
   },
   "outputs": [
    {
     "data": {
      "text/html": [
       "TRUE"
      ],
      "text/latex": [
       "TRUE"
      ],
      "text/markdown": [
       "TRUE"
      ],
      "text/plain": [
       "[1] TRUE"
      ]
     },
     "metadata": {},
     "output_type": "display_data"
    }
   ],
   "source": [
    "library(jackalope)\n",
    "\n",
    "# Make sure we've complied with openmp\n",
    "jackalope:::using_openmp()"
   ]
  },
  {
   "cell_type": "code",
   "execution_count": 5,
   "id": "303635b1-41dc-4917-8e90-30832a9acafd",
   "metadata": {
    "execution": {
     "iopub.execute_input": "2021-09-11T19:30:55.467471Z",
     "iopub.status.busy": "2021-09-11T19:30:55.465637Z",
     "iopub.status.idle": "2021-09-11T19:30:55.496600Z",
     "shell.execute_reply": "2021-09-11T19:30:55.495428Z"
    },
    "papermill": {
     "duration": 0.04535,
     "end_time": "2021-09-11T19:30:55.496830",
     "exception": false,
     "start_time": "2021-09-11T19:30:55.451480",
     "status": "completed"
    },
    "tags": []
   },
   "outputs": [
    {
     "data": {
      "text/plain": [
       "< Set of 2 chromosomes >\n",
       "# Total size: 19,699 bp\n",
       "  name                             chromosome                             length\n",
       "chrom0     GTATTGCGAGGGTGGGGGAGTACGGCAG...CAAGAATGCAACCGACTCTGTCGGGACT     10834\n",
       "chrom1     CACCTCGAGCAGATCCTAGTTTGCGCGA...TGCGAATTTATCGCCTAATCCAATGTTA      8865"
      ]
     },
     "metadata": {},
     "output_type": "display_data"
    }
   ],
   "source": [
    "reference <- read_fasta(reference_file)\n",
    "reference_len <- sum(reference$sizes())\n",
    "reference"
   ]
  },
  {
   "cell_type": "code",
   "execution_count": 6,
   "id": "documented-helmet",
   "metadata": {
    "execution": {
     "iopub.execute_input": "2021-09-11T19:30:55.529424Z",
     "iopub.status.busy": "2021-09-11T19:30:55.526991Z",
     "iopub.status.idle": "2021-09-11T19:30:55.606332Z",
     "shell.execute_reply": "2021-09-11T19:30:55.605184Z"
    },
    "papermill": {
     "duration": 0.093456,
     "end_time": "2021-09-11T19:30:55.606587",
     "exception": false,
     "start_time": "2021-09-11T19:30:55.513131",
     "status": "completed"
    },
    "tags": []
   },
   "outputs": [
    {
     "data": {
      "text/plain": [
       "\n",
       "Phylogenetic tree with 60 tips and 59 internal nodes.\n",
       "\n",
       "Tip labels:\n",
       "  reference, SH12-013, SH12-014, SH10-015, SH10-014, SH11-002, ...\n",
       "Node labels:\n",
       "  Root, 1.000000, 0.000000, 0.000000, 1.000000, 0.000000, ...\n",
       "\n",
       "Rooted; includes branch lengths."
      ]
     },
     "metadata": {},
     "output_type": "display_data"
    }
   ],
   "source": [
    "library(ape)\n",
    "\n",
    "tree <- read.tree(initial_tree_file)\n",
    "tree <- root(tree, \"reference\", resolve.root=TRUE)\n",
    "tree"
   ]
  },
  {
   "cell_type": "code",
   "execution_count": 7,
   "id": "proved-silver",
   "metadata": {
    "execution": {
     "iopub.execute_input": "2021-09-11T19:30:55.650523Z",
     "iopub.status.busy": "2021-09-11T19:30:55.638729Z",
     "iopub.status.idle": "2021-09-11T19:30:55.863671Z",
     "shell.execute_reply": "2021-09-11T19:30:55.862144Z"
    },
    "papermill": {
     "duration": 0.238843,
     "end_time": "2021-09-11T19:30:55.863937",
     "exception": false,
     "start_time": "2021-09-11T19:30:55.625094",
     "status": "completed"
    },
    "tags": []
   },
   "outputs": [
    {
     "data": {
      "text/plain": [
       "                              << haplotypes object >>\n",
       "# Haplotypes: 60\n",
       "# Mutations: 16,932\n",
       "\n",
       "                          << Reference genome info: >>\n",
       "< Set of 2 chromosomes >\n",
       "# Total size: 19,699 bp\n",
       "  name                             chromosome                             length\n",
       "chrom0     GTATTGCGAGGGTGGGGGAGTACGGCAG...CAAGAATGCAACCGACTCTGTCGGGACT     10834\n",
       "chrom1     CACCTCGAGCAGATCCTAGTTTGCGCGA...TGCGAATTTATCGCCTAATCCAATGTTA      8865"
      ]
     },
     "metadata": {},
     "output_type": "display_data"
    }
   ],
   "source": [
    "sub <- sub_HKY85(pi_tcag = sub_pi_tcag, mu = sub_mu,\n",
    "                 alpha = sub_alpha, beta = sub_beta, gamma_shape=1, gamma_k = 5,\n",
    "                 invariant = sub_invariant)\n",
    "ins <- indels(rate = ins_rate, max_length = ins_max_length, a = ins_a)\n",
    "del <- indels(rate = del_rate, max_length = del_max_length, a = del_a)\n",
    "\n",
    "ref_haplotypes <- create_haplotypes(reference, haps_phylo(tree), sub=sub, ins=ins, del=del)\n",
    "ref_haplotypes"
   ]
  },
  {
   "cell_type": "markdown",
   "id": "535fa02d-c76c-4067-9582-74f3694d16ea",
   "metadata": {
    "papermill": {
     "duration": 0.010829,
     "end_time": "2021-09-11T19:30:55.893544",
     "exception": false,
     "start_time": "2021-09-11T19:30:55.882715",
     "status": "completed"
    },
    "tags": []
   },
   "source": [
    "# 3. Write simulated data"
   ]
  },
  {
   "cell_type": "code",
   "execution_count": 8,
   "id": "smoking-geology",
   "metadata": {
    "execution": {
     "iopub.execute_input": "2021-09-11T19:30:55.920780Z",
     "iopub.status.busy": "2021-09-11T19:30:55.917110Z",
     "iopub.status.idle": "2021-09-11T19:30:55.971021Z",
     "shell.execute_reply": "2021-09-11T19:30:55.969731Z"
    },
    "papermill": {
     "duration": 0.069169,
     "end_time": "2021-09-11T19:30:55.971267",
     "exception": false,
     "start_time": "2021-09-11T19:30:55.902098",
     "status": "completed"
    },
    "tags": []
   },
   "outputs": [],
   "source": [
    "write_vcf(ref_haplotypes, out_prefix=output_vcf_prefix, compress=TRUE)"
   ]
  },
  {
   "cell_type": "code",
   "execution_count": 9,
   "id": "d2657fc5-481e-4b24-bbf8-78c02ee735ce",
   "metadata": {
    "execution": {
     "iopub.execute_input": "2021-09-11T19:30:56.009311Z",
     "iopub.status.busy": "2021-09-11T19:30:56.006736Z",
     "iopub.status.idle": "2021-09-11T19:30:56.122706Z",
     "shell.execute_reply": "2021-09-11T19:30:56.120068Z"
    },
    "papermill": {
     "duration": 0.132996,
     "end_time": "2021-09-11T19:30:56.122943",
     "exception": false,
     "start_time": "2021-09-11T19:30:55.989947",
     "status": "completed"
    },
    "tags": []
   },
   "outputs": [],
   "source": [
    "assemblies_prefix = file.path(output_dir, \"assemblies\", \"data\")\n",
    "\n",
    "write_fasta(ref_haplotypes, out_prefix=assemblies_prefix,\n",
    "            compress=TRUE, n_threads=ncores, overwrite=TRUE)"
   ]
  },
  {
   "cell_type": "code",
   "execution_count": 10,
   "id": "continent-freeze",
   "metadata": {
    "execution": {
     "iopub.execute_input": "2021-09-11T19:30:56.156166Z",
     "iopub.status.busy": "2021-09-11T19:30:56.154771Z",
     "iopub.status.idle": "2021-09-11T19:36:20.764980Z",
     "shell.execute_reply": "2021-09-11T19:36:20.763759Z"
    },
    "papermill": {
     "duration": 324.622584,
     "end_time": "2021-09-11T19:36:20.765250",
     "exception": false,
     "start_time": "2021-09-11T19:30:56.142666",
     "status": "completed"
    },
    "tags": []
   },
   "outputs": [
    {
     "name": "stdout",
     "output_type": "stream",
     "text": [
      "[1] \"Number of reads for coverage 5X and read length 250 over 60 samples with respect to reference with length 19699: 23639\"\n"
     ]
    }
   ],
   "source": [
    "n_samples <- length(tree$tip)\n",
    "n_reads <- round((reference_len * read_coverage * n_samples) / read_length)\n",
    "print(sprintf(\"Number of reads for coverage %sX and read length %s over %s samples with respect to reference with length %s: %s\", \n",
    "              read_coverage, read_length, n_samples, reference_len, n_reads))\n",
    "\n",
    "illumina(ref_haplotypes, out_prefix = reads_data_initial_prefix, sep_files=TRUE, n_reads = n_reads,\n",
    "         frag_mean = read_length * 2 + 50, frag_sd = 100,\n",
    "         compress=TRUE, comp_method=\"bgzip\", n_threads=ncores,\n",
    "         paired=TRUE, read_length = read_length)"
   ]
  },
  {
   "cell_type": "code",
   "execution_count": 11,
   "id": "israeli-unknown",
   "metadata": {
    "execution": {
     "iopub.execute_input": "2021-09-11T19:36:20.806154Z",
     "iopub.status.busy": "2021-09-11T19:36:20.804902Z",
     "iopub.status.idle": "2021-09-11T19:36:20.843273Z",
     "shell.execute_reply": "2021-09-11T19:36:20.842045Z"
    },
    "papermill": {
     "duration": 0.052816,
     "end_time": "2021-09-11T19:36:20.843571",
     "exception": false,
     "start_time": "2021-09-11T19:36:20.790755",
     "status": "completed"
    },
    "tags": []
   },
   "outputs": [
    {
     "name": "stdout",
     "output_type": "stream",
     "text": [
      "[1] \"Removing: simulations/cov-5/simulated_data/reads_initial/data_reference_R1.fq.gz\"\n"
     ]
    },
    {
     "name": "stdout",
     "output_type": "stream",
     "text": [
      "[1] \"Removing: simulations/cov-5/simulated_data/reads_initial/data_reference_R2.fq.gz\"\n"
     ]
    }
   ],
   "source": [
    "# Remove the simulated reads for the reference genome since I don't want these in the tree\n",
    "ref1 <- paste(toString(reads_data_initial_prefix), \"_reference_R1.fq.gz\", sep=\"\")\n",
    "ref2 <- paste(toString(reads_data_initial_prefix), \"_reference_R2.fq.gz\", sep=\"\")\n",
    "if (file.exists(ref1)) {\n",
    "    file.remove(ref1)\n",
    "    print(sprintf(\"Removing: %s\", ref1))\n",
    "}\n",
    "if (file.exists(ref2)) {\n",
    "    file.remove(ref2)\n",
    "    print(sprintf(\"Removing: %s\", ref2))\n",
    "}"
   ]
  },
  {
   "cell_type": "code",
   "execution_count": 12,
   "id": "likely-elite",
   "metadata": {
    "execution": {
     "iopub.execute_input": "2021-09-11T19:36:20.882626Z",
     "iopub.status.busy": "2021-09-11T19:36:20.879447Z",
     "iopub.status.idle": "2021-09-11T19:36:20.902293Z",
     "shell.execute_reply": "2021-09-11T19:36:20.901042Z"
    },
    "papermill": {
     "duration": 0.039882,
     "end_time": "2021-09-11T19:36:20.902526",
     "exception": false,
     "start_time": "2021-09-11T19:36:20.862644",
     "status": "completed"
    },
    "tags": []
   },
   "outputs": [
    {
     "name": "stdout",
     "output_type": "stream",
     "text": [
      "[1] \"Removing: simulations/cov-5/simulated_data/assemblies/data__reference.fa.gz\"\n"
     ]
    }
   ],
   "source": [
    "# Remove the new reference assembly genome since I don't need it\n",
    "ref1 <- paste(toString(assemblies_prefix), \"__reference.fa.gz\", sep=\"\")\n",
    "if (file.exists(ref1)) {\n",
    "    file.remove(ref1)\n",
    "    print(sprintf(\"Removing: %s\", ref1))\n",
    "}"
   ]
  },
  {
   "cell_type": "code",
   "execution_count": null,
   "id": "6ab27399-288a-4067-a812-d946410658a5",
   "metadata": {
    "papermill": {
     "duration": 0.011803,
     "end_time": "2021-09-11T19:36:20.935591",
     "exception": false,
     "start_time": "2021-09-11T19:36:20.923788",
     "status": "completed"
    },
    "tags": []
   },
   "outputs": [],
   "source": []
  }
 ],
 "metadata": {
  "kernelspec": {
   "display_name": "R",
   "language": "R",
   "name": "ir"
  },
  "language_info": {
   "codemirror_mode": "r",
   "file_extension": ".r",
   "mimetype": "text/x-r-source",
   "name": "R",
   "pygments_lexer": "r",
   "version": "4.1.1"
  },
  "papermill": {
   "default_parameters": {},
   "duration": 328.433657,
   "end_time": "2021-09-11T19:36:22.346659",
   "environment_variables": {},
   "exception": null,
   "input_path": "template-1-simulate-reads.ipynb",
   "output_path": "1-simulate-reads.simulation-cov-5.ipynb",
   "parameters": {
    "iterations": 3,
    "mincov": 10,
    "read_coverage": 5,
    "simulation_dir": "simulations/cov-5",
    "sub_alpha": 0.2
   },
   "start_time": "2021-09-11T19:30:53.913002",
   "version": "2.3.3"
  }
 },
 "nbformat": 4,
 "nbformat_minor": 5
}