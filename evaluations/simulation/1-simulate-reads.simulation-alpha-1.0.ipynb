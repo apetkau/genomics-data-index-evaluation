{
 "cells": [
  {
   "cell_type": "markdown",
   "id": "39afc998-7d9f-4d4e-9147-fb6198f83f2d",
   "metadata": {
    "papermill": {
     "duration": 0.018138,
     "end_time": "2021-09-11T18:46:29.442910",
     "exception": false,
     "start_time": "2021-09-11T18:46:29.424772",
     "status": "completed"
    },
    "tags": []
   },
   "source": [
    "# 1. Parameters"
   ]
  },
  {
   "cell_type": "code",
   "execution_count": 1,
   "id": "8eee723b-55a2-4355-b867-c5e682a9f800",
   "metadata": {
    "execution": {
     "iopub.execute_input": "2021-09-11T18:46:29.599054Z",
     "iopub.status.busy": "2021-09-11T18:46:29.596525Z",
     "iopub.status.idle": "2021-09-11T18:46:29.652118Z",
     "shell.execute_reply": "2021-09-11T18:46:29.650621Z"
    },
    "papermill": {
     "duration": 0.199456,
     "end_time": "2021-09-11T18:46:29.652374",
     "exception": false,
     "start_time": "2021-09-11T18:46:29.452918",
     "status": "completed"
    },
    "tags": [
     "parameters"
    ]
   },
   "outputs": [],
   "source": [
    "# Defaults\n",
    "\n",
    "## Random seed\n",
    "random_seed <- 25524\n",
    "\n",
    "## Directories\n",
    "simulation_dir <- \"simulations/unset\"\n",
    "reference_file <- \"simulations/reference/reference.fa.gz\"\n",
    "initial_tree_file <- \"input/salmonella.tre\"\n",
    "\n",
    "## Simulation parameters\n",
    "sub_lambda <- 1e-2\n",
    "sub_pi_tcag <- c(0.1, 0.2, 0.3, 0.4)\n",
    "sub_alpha <- 0.2\n",
    "sub_beta <- sub_alpha/2\n",
    "sub_mu <- 1\n",
    "sub_invariant <- 0.3\n",
    "ins_rate <- 1e-4\n",
    "ins_max_length <- 60\n",
    "ins_a <- 1.6\n",
    "del_rate <- 1e-4\n",
    "del_max_length <- 60\n",
    "del_a <- 1.6\n",
    "\n",
    "## Read simulation information\n",
    "read_coverage <- 30\n",
    "read_length <- 250\n",
    "\n",
    "## Other\n",
    "ncores <- 48"
   ]
  },
  {
   "cell_type": "code",
   "execution_count": 2,
   "id": "46855e19",
   "metadata": {
    "execution": {
     "iopub.execute_input": "2021-09-11T18:46:29.729912Z",
     "iopub.status.busy": "2021-09-11T18:46:29.682534Z",
     "iopub.status.idle": "2021-09-11T18:46:29.746556Z",
     "shell.execute_reply": "2021-09-11T18:46:29.745356Z"
    },
    "papermill": {
     "duration": 0.078949,
     "end_time": "2021-09-11T18:46:29.746804",
     "exception": false,
     "start_time": "2021-09-11T18:46:29.667855",
     "status": "completed"
    },
    "tags": [
     "injected-parameters"
    ]
   },
   "outputs": [],
   "source": [
    "# Parameters\n",
    "read_coverage = 30\n",
    "mincov = 10\n",
    "simulation_dir = \"simulations/alpha-1.0-cov-30\"\n",
    "iterations = 3\n",
    "sub_alpha = 1.0\n"
   ]
  },
  {
   "cell_type": "code",
   "execution_count": 3,
   "id": "845350c4-9369-4350-bcce-504d05f5ff55",
   "metadata": {
    "execution": {
     "iopub.execute_input": "2021-09-11T18:46:29.783004Z",
     "iopub.status.busy": "2021-09-11T18:46:29.779839Z",
     "iopub.status.idle": "2021-09-11T18:46:29.813651Z",
     "shell.execute_reply": "2021-09-11T18:46:29.812553Z"
    },
    "papermill": {
     "duration": 0.04926,
     "end_time": "2021-09-11T18:46:29.813879",
     "exception": false,
     "start_time": "2021-09-11T18:46:29.764619",
     "status": "completed"
    },
    "tags": []
   },
   "outputs": [
    {
     "name": "stdout",
     "output_type": "stream",
     "text": [
      "[1] \"simulations/alpha-1.0-cov-30/simulated_data\"\n",
      "[1] \"simulations/alpha-1.0-cov-30/simulated_data/haplotypes\"\n"
     ]
    }
   ],
   "source": [
    "output_dir <- file.path(simulation_dir, \"simulated_data\")\n",
    "output_vcf_prefix <- file.path(output_dir, \"haplotypes\")\n",
    "reads_data_initial_prefix <- file.path(output_dir, \"reads_initial\", \"data\")\n",
    "set.seed(random_seed)\n",
    "print(output_dir)\n",
    "print(output_vcf_prefix)"
   ]
  },
  {
   "cell_type": "markdown",
   "id": "noticed-coating",
   "metadata": {
    "papermill": {
     "duration": 0.009665,
     "end_time": "2021-09-11T18:46:29.839867",
     "exception": false,
     "start_time": "2021-09-11T18:46:29.830202",
     "status": "completed"
    },
    "tags": []
   },
   "source": [
    "# 2. Generate simulated data\n",
    "\n",
    "This simulates *Salmonella* data using a reference genome and a tree."
   ]
  },
  {
   "cell_type": "code",
   "execution_count": 4,
   "id": "bright-polymer",
   "metadata": {
    "execution": {
     "iopub.execute_input": "2021-09-11T18:46:29.861503Z",
     "iopub.status.busy": "2021-09-11T18:46:29.858621Z",
     "iopub.status.idle": "2021-09-11T18:46:29.958016Z",
     "shell.execute_reply": "2021-09-11T18:46:29.956911Z"
    },
    "papermill": {
     "duration": 0.111329,
     "end_time": "2021-09-11T18:46:29.958247",
     "exception": false,
     "start_time": "2021-09-11T18:46:29.846918",
     "status": "completed"
    },
    "tags": []
   },
   "outputs": [
    {
     "data": {
      "text/html": [
       "TRUE"
      ],
      "text/latex": [
       "TRUE"
      ],
      "text/markdown": [
       "TRUE"
      ],
      "text/plain": [
       "[1] TRUE"
      ]
     },
     "metadata": {},
     "output_type": "display_data"
    }
   ],
   "source": [
    "library(jackalope)\n",
    "\n",
    "# Make sure we've complied with openmp\n",
    "jackalope:::using_openmp()"
   ]
  },
  {
   "cell_type": "code",
   "execution_count": 5,
   "id": "303635b1-41dc-4917-8e90-30832a9acafd",
   "metadata": {
    "execution": {
     "iopub.execute_input": "2021-09-11T18:46:29.992289Z",
     "iopub.status.busy": "2021-09-11T18:46:29.989884Z",
     "iopub.status.idle": "2021-09-11T18:46:30.021912Z",
     "shell.execute_reply": "2021-09-11T18:46:30.021006Z"
    },
    "papermill": {
     "duration": 0.047139,
     "end_time": "2021-09-11T18:46:30.022104",
     "exception": false,
     "start_time": "2021-09-11T18:46:29.974965",
     "status": "completed"
    },
    "tags": []
   },
   "outputs": [
    {
     "data": {
      "text/plain": [
       "< Set of 2 chromosomes >\n",
       "# Total size: 19,699 bp\n",
       "  name                             chromosome                             length\n",
       "chrom0     GTATTGCGAGGGTGGGGGAGTACGGCAG...CAAGAATGCAACCGACTCTGTCGGGACT     10834\n",
       "chrom1     CACCTCGAGCAGATCCTAGTTTGCGCGA...TGCGAATTTATCGCCTAATCCAATGTTA      8865"
      ]
     },
     "metadata": {},
     "output_type": "display_data"
    }
   ],
   "source": [
    "reference <- read_fasta(reference_file)\n",
    "reference_len <- sum(reference$sizes())\n",
    "reference"
   ]
  },
  {
   "cell_type": "code",
   "execution_count": 6,
   "id": "documented-helmet",
   "metadata": {
    "execution": {
     "iopub.execute_input": "2021-09-11T18:46:30.056095Z",
     "iopub.status.busy": "2021-09-11T18:46:30.053826Z",
     "iopub.status.idle": "2021-09-11T18:46:30.132945Z",
     "shell.execute_reply": "2021-09-11T18:46:30.131845Z"
    },
    "papermill": {
     "duration": 0.093541,
     "end_time": "2021-09-11T18:46:30.133178",
     "exception": false,
     "start_time": "2021-09-11T18:46:30.039637",
     "status": "completed"
    },
    "tags": []
   },
   "outputs": [
    {
     "data": {
      "text/plain": [
       "\n",
       "Phylogenetic tree with 60 tips and 59 internal nodes.\n",
       "\n",
       "Tip labels:\n",
       "  reference, SH12-013, SH12-014, SH10-015, SH10-014, SH11-002, ...\n",
       "Node labels:\n",
       "  Root, 1.000000, 0.000000, 0.000000, 1.000000, 0.000000, ...\n",
       "\n",
       "Rooted; includes branch lengths."
      ]
     },
     "metadata": {},
     "output_type": "display_data"
    }
   ],
   "source": [
    "library(ape)\n",
    "\n",
    "tree <- read.tree(initial_tree_file)\n",
    "tree <- root(tree, \"reference\", resolve.root=TRUE)\n",
    "tree"
   ]
  },
  {
   "cell_type": "code",
   "execution_count": 7,
   "id": "proved-silver",
   "metadata": {
    "execution": {
     "iopub.execute_input": "2021-09-11T18:46:30.168829Z",
     "iopub.status.busy": "2021-09-11T18:46:30.166356Z",
     "iopub.status.idle": "2021-09-11T18:46:30.378086Z",
     "shell.execute_reply": "2021-09-11T18:46:30.376980Z"
    },
    "papermill": {
     "duration": 0.226633,
     "end_time": "2021-09-11T18:46:30.378319",
     "exception": false,
     "start_time": "2021-09-11T18:46:30.151686",
     "status": "completed"
    },
    "tags": []
   },
   "outputs": [
    {
     "data": {
      "text/plain": [
       "                              << haplotypes object >>\n",
       "# Haplotypes: 60\n",
       "# Mutations: 52,250\n",
       "\n",
       "                          << Reference genome info: >>\n",
       "< Set of 2 chromosomes >\n",
       "# Total size: 19,699 bp\n",
       "  name                             chromosome                             length\n",
       "chrom0     GTATTGCGAGGGTGGGGGAGTACGGCAG...CAAGAATGCAACCGACTCTGTCGGGACT     10834\n",
       "chrom1     CACCTCGAGCAGATCCTAGTTTGCGCGA...TGCGAATTTATCGCCTAATCCAATGTTA      8865"
      ]
     },
     "metadata": {},
     "output_type": "display_data"
    }
   ],
   "source": [
    "sub <- sub_HKY85(pi_tcag = sub_pi_tcag, mu = sub_mu,\n",
    "                 alpha = sub_alpha, beta = sub_beta, gamma_shape=1, gamma_k = 5,\n",
    "                 invariant = sub_invariant)\n",
    "ins <- indels(rate = ins_rate, max_length = ins_max_length, a = ins_a)\n",
    "del <- indels(rate = del_rate, max_length = del_max_length, a = del_a)\n",
    "\n",
    "ref_haplotypes <- create_haplotypes(reference, haps_phylo(tree), sub=sub, ins=ins, del=del)\n",
    "ref_haplotypes"
   ]
  },
  {
   "cell_type": "markdown",
   "id": "535fa02d-c76c-4067-9582-74f3694d16ea",
   "metadata": {
    "papermill": {
     "duration": 0.009789,
     "end_time": "2021-09-11T18:46:30.405612",
     "exception": false,
     "start_time": "2021-09-11T18:46:30.395823",
     "status": "completed"
    },
    "tags": []
   },
   "source": [
    "# 3. Write simulated data"
   ]
  },
  {
   "cell_type": "code",
   "execution_count": 8,
   "id": "smoking-geology",
   "metadata": {
    "execution": {
     "iopub.execute_input": "2021-09-11T18:46:30.430399Z",
     "iopub.status.busy": "2021-09-11T18:46:30.427157Z",
     "iopub.status.idle": "2021-09-11T18:46:30.527224Z",
     "shell.execute_reply": "2021-09-11T18:46:30.526015Z"
    },
    "papermill": {
     "duration": 0.114181,
     "end_time": "2021-09-11T18:46:30.527475",
     "exception": false,
     "start_time": "2021-09-11T18:46:30.413294",
     "status": "completed"
    },
    "tags": []
   },
   "outputs": [],
   "source": [
    "write_vcf(ref_haplotypes, out_prefix=output_vcf_prefix, compress=TRUE)"
   ]
  },
  {
   "cell_type": "code",
   "execution_count": 9,
   "id": "d2657fc5-481e-4b24-bbf8-78c02ee735ce",
   "metadata": {
    "execution": {
     "iopub.execute_input": "2021-09-11T18:46:30.567824Z",
     "iopub.status.busy": "2021-09-11T18:46:30.564536Z",
     "iopub.status.idle": "2021-09-11T18:46:30.896959Z",
     "shell.execute_reply": "2021-09-11T18:46:30.893485Z"
    },
    "papermill": {
     "duration": 0.350947,
     "end_time": "2021-09-11T18:46:30.897140",
     "exception": false,
     "start_time": "2021-09-11T18:46:30.546193",
     "status": "completed"
    },
    "tags": []
   },
   "outputs": [],
   "source": [
    "assemblies_prefix = file.path(output_dir, \"assemblies\", \"data\")\n",
    "\n",
    "write_fasta(ref_haplotypes, out_prefix=assemblies_prefix,\n",
    "            compress=TRUE, n_threads=ncores, overwrite=TRUE)"
   ]
  },
  {
   "cell_type": "code",
   "execution_count": 10,
   "id": "continent-freeze",
   "metadata": {
    "execution": {
     "iopub.execute_input": "2021-09-11T18:46:30.926285Z",
     "iopub.status.busy": "2021-09-11T18:46:30.923863Z",
     "iopub.status.idle": "2021-09-11T18:51:57.379153Z",
     "shell.execute_reply": "2021-09-11T18:51:57.377914Z"
    },
    "papermill": {
     "duration": 326.469634,
     "end_time": "2021-09-11T18:51:57.379400",
     "exception": false,
     "start_time": "2021-09-11T18:46:30.909766",
     "status": "completed"
    },
    "tags": []
   },
   "outputs": [
    {
     "name": "stdout",
     "output_type": "stream",
     "text": [
      "[1] \"Number of reads for coverage 30X and read length 250 over 60 samples with respect to reference with length 19699: 141833\"\n"
     ]
    }
   ],
   "source": [
    "n_samples <- length(tree$tip)\n",
    "n_reads <- round((reference_len * read_coverage * n_samples) / read_length)\n",
    "print(sprintf(\"Number of reads for coverage %sX and read length %s over %s samples with respect to reference with length %s: %s\", \n",
    "              read_coverage, read_length, n_samples, reference_len, n_reads))\n",
    "\n",
    "illumina(ref_haplotypes, out_prefix = reads_data_initial_prefix, sep_files=TRUE, n_reads = n_reads,\n",
    "         frag_mean = read_length * 2 + 50, frag_sd = 100,\n",
    "         compress=TRUE, comp_method=\"bgzip\", n_threads=ncores,\n",
    "         paired=TRUE, read_length = read_length)"
   ]
  },
  {
   "cell_type": "code",
   "execution_count": 11,
   "id": "israeli-unknown",
   "metadata": {
    "execution": {
     "iopub.execute_input": "2021-09-11T18:51:57.419656Z",
     "iopub.status.busy": "2021-09-11T18:51:57.417519Z",
     "iopub.status.idle": "2021-09-11T18:51:57.457832Z",
     "shell.execute_reply": "2021-09-11T18:51:57.456592Z"
    },
    "papermill": {
     "duration": 0.056411,
     "end_time": "2021-09-11T18:51:57.458054",
     "exception": false,
     "start_time": "2021-09-11T18:51:57.401643",
     "status": "completed"
    },
    "tags": []
   },
   "outputs": [
    {
     "name": "stdout",
     "output_type": "stream",
     "text": [
      "[1] \"Removing: simulations/alpha-1.0-cov-30/simulated_data/reads_initial/data_reference_R1.fq.gz\"\n",
      "[1] \"Removing: simulations/alpha-1.0-cov-30/simulated_data/reads_initial/data_reference_R2.fq.gz\"\n"
     ]
    }
   ],
   "source": [
    "# Remove the simulated reads for the reference genome since I don't want these in the tree\n",
    "ref1 <- paste(toString(reads_data_initial_prefix), \"_reference_R1.fq.gz\", sep=\"\")\n",
    "ref2 <- paste(toString(reads_data_initial_prefix), \"_reference_R2.fq.gz\", sep=\"\")\n",
    "if (file.exists(ref1)) {\n",
    "    file.remove(ref1)\n",
    "    print(sprintf(\"Removing: %s\", ref1))\n",
    "}\n",
    "if (file.exists(ref2)) {\n",
    "    file.remove(ref2)\n",
    "    print(sprintf(\"Removing: %s\", ref2))\n",
    "}"
   ]
  },
  {
   "cell_type": "code",
   "execution_count": 12,
   "id": "likely-elite",
   "metadata": {
    "execution": {
     "iopub.execute_input": "2021-09-11T18:51:57.502704Z",
     "iopub.status.busy": "2021-09-11T18:51:57.500397Z",
     "iopub.status.idle": "2021-09-11T18:51:57.522143Z",
     "shell.execute_reply": "2021-09-11T18:51:57.521214Z"
    },
    "papermill": {
     "duration": 0.045129,
     "end_time": "2021-09-11T18:51:57.522398",
     "exception": false,
     "start_time": "2021-09-11T18:51:57.477269",
     "status": "completed"
    },
    "tags": []
   },
   "outputs": [
    {
     "name": "stdout",
     "output_type": "stream",
     "text": [
      "[1] \"Removing: simulations/alpha-1.0-cov-30/simulated_data/assemblies/data__reference.fa.gz\"\n"
     ]
    }
   ],
   "source": [
    "# Remove the new reference assembly genome since I don't need it\n",
    "ref1 <- paste(toString(assemblies_prefix), \"__reference.fa.gz\", sep=\"\")\n",
    "if (file.exists(ref1)) {\n",
    "    file.remove(ref1)\n",
    "    print(sprintf(\"Removing: %s\", ref1))\n",
    "}"
   ]
  },
  {
   "cell_type": "code",
   "execution_count": null,
   "id": "6ab27399-288a-4067-a812-d946410658a5",
   "metadata": {
    "papermill": {
     "duration": 0.01004,
     "end_time": "2021-09-11T18:51:57.550372",
     "exception": false,
     "start_time": "2021-09-11T18:51:57.540332",
     "status": "completed"
    },
    "tags": []
   },
   "outputs": [],
   "source": []
  }
 ],
 "metadata": {
  "kernelspec": {
   "display_name": "R",
   "language": "R",
   "name": "ir"
  },
  "language_info": {
   "codemirror_mode": "r",
   "file_extension": ".r",
   "mimetype": "text/x-r-source",
   "name": "R",
   "pygments_lexer": "r",
   "version": "4.1.2"
  },
  "papermill": {
   "default_parameters": {},
   "duration": 330.362106,
   "end_time": "2021-09-11T18:51:58.803639",
   "environment_variables": {},
   "exception": null,
   "input_path": "template-1-simulate-reads.ipynb",
   "output_path": "1-simulate-reads.simulation-alpha-1.0.ipynb",
   "parameters": {
    "iterations": 3,
    "mincov": 10,
    "read_coverage": 30,
    "simulation_dir": "simulations/alpha-1.0-cov-30",
    "sub_alpha": 1
   },
   "start_time": "2021-09-11T18:46:28.441533",
   "version": "2.3.3"
  }
 },
 "nbformat": 4,
 "nbformat_minor": 5
}
