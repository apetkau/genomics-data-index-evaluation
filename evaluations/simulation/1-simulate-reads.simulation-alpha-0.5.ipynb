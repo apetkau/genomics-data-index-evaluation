{
 "cells": [
  {
   "cell_type": "markdown",
   "id": "39afc998-7d9f-4d4e-9147-fb6198f83f2d",
   "metadata": {
    "papermill": {
     "duration": 0.018313,
     "end_time": "2021-09-11T18:40:55.445965",
     "exception": false,
     "start_time": "2021-09-11T18:40:55.427652",
     "status": "completed"
    },
    "tags": []
   },
   "source": [
    "# 1. Parameters"
   ]
  },
  {
   "cell_type": "code",
   "execution_count": 1,
   "id": "8eee723b-55a2-4355-b867-c5e682a9f800",
   "metadata": {
    "execution": {
     "iopub.execute_input": "2021-09-11T18:40:55.568839Z",
     "iopub.status.busy": "2021-09-11T18:40:55.567023Z",
     "iopub.status.idle": "2021-09-11T18:40:55.616925Z",
     "shell.execute_reply": "2021-09-11T18:40:55.615594Z"
    },
    "papermill": {
     "duration": 0.161105,
     "end_time": "2021-09-11T18:40:55.617196",
     "exception": false,
     "start_time": "2021-09-11T18:40:55.456091",
     "status": "completed"
    },
    "tags": [
     "parameters"
    ]
   },
   "outputs": [],
   "source": [
    "# Defaults\n",
    "\n",
    "## Random seed\n",
    "random_seed <- 25524\n",
    "\n",
    "## Directories\n",
    "simulation_dir <- \"simulations/unset\"\n",
    "reference_file <- \"simulations/reference/reference.fa.gz\"\n",
    "initial_tree_file <- \"input/salmonella.tre\"\n",
    "\n",
    "## Simulation parameters\n",
    "sub_lambda <- 1e-2\n",
    "sub_pi_tcag <- c(0.1, 0.2, 0.3, 0.4)\n",
    "sub_alpha <- 0.2\n",
    "sub_beta <- sub_alpha/2\n",
    "sub_mu <- 1\n",
    "sub_invariant <- 0.3\n",
    "ins_rate <- 1e-4\n",
    "ins_max_length <- 60\n",
    "ins_a <- 1.6\n",
    "del_rate <- 1e-4\n",
    "del_max_length <- 60\n",
    "del_a <- 1.6\n",
    "\n",
    "## Read simulation information\n",
    "read_coverage <- 30\n",
    "read_length <- 250\n",
    "\n",
    "## Other\n",
    "ncores <- 48"
   ]
  },
  {
   "cell_type": "code",
   "execution_count": 2,
   "id": "be88a116",
   "metadata": {
    "execution": {
     "iopub.execute_input": "2021-09-11T18:40:55.687964Z",
     "iopub.status.busy": "2021-09-11T18:40:55.649267Z",
     "iopub.status.idle": "2021-09-11T18:40:55.703669Z",
     "shell.execute_reply": "2021-09-11T18:40:55.702252Z"
    },
    "papermill": {
     "duration": 0.07054,
     "end_time": "2021-09-11T18:40:55.703910",
     "exception": false,
     "start_time": "2021-09-11T18:40:55.633370",
     "status": "completed"
    },
    "tags": [
     "injected-parameters"
    ]
   },
   "outputs": [],
   "source": [
    "# Parameters\n",
    "read_coverage = 30\n",
    "mincov = 10\n",
    "simulation_dir = \"simulations/alpha-0.5-cov-30\"\n",
    "iterations = 3\n",
    "sub_alpha = 0.5\n"
   ]
  },
  {
   "cell_type": "code",
   "execution_count": 3,
   "id": "845350c4-9369-4350-bcce-504d05f5ff55",
   "metadata": {
    "execution": {
     "iopub.execute_input": "2021-09-11T18:40:55.735790Z",
     "iopub.status.busy": "2021-09-11T18:40:55.733394Z",
     "iopub.status.idle": "2021-09-11T18:40:55.765400Z",
     "shell.execute_reply": "2021-09-11T18:40:55.764434Z"
    },
    "papermill": {
     "duration": 0.046334,
     "end_time": "2021-09-11T18:40:55.765629",
     "exception": false,
     "start_time": "2021-09-11T18:40:55.719295",
     "status": "completed"
    },
    "tags": []
   },
   "outputs": [
    {
     "name": "stdout",
     "output_type": "stream",
     "text": [
      "[1] \"simulations/alpha-0.5-cov-30/simulated_data\"\n"
     ]
    },
    {
     "name": "stdout",
     "output_type": "stream",
     "text": [
      "[1] \"simulations/alpha-0.5-cov-30/simulated_data/haplotypes\"\n"
     ]
    }
   ],
   "source": [
    "output_dir <- file.path(simulation_dir, \"simulated_data\")\n",
    "output_vcf_prefix <- file.path(output_dir, \"haplotypes\")\n",
    "reads_data_initial_prefix <- file.path(output_dir, \"reads_initial\", \"data\")\n",
    "set.seed(random_seed)\n",
    "print(output_dir)\n",
    "print(output_vcf_prefix)"
   ]
  },
  {
   "cell_type": "markdown",
   "id": "noticed-coating",
   "metadata": {
    "papermill": {
     "duration": 0.009186,
     "end_time": "2021-09-11T18:40:55.790924",
     "exception": false,
     "start_time": "2021-09-11T18:40:55.781738",
     "status": "completed"
    },
    "tags": []
   },
   "source": [
    "# 2. Generate simulated data\n",
    "\n",
    "This simulates *Salmonella* data using a reference genome and a tree."
   ]
  },
  {
   "cell_type": "code",
   "execution_count": 4,
   "id": "bright-polymer",
   "metadata": {
    "execution": {
     "iopub.execute_input": "2021-09-11T18:40:55.812660Z",
     "iopub.status.busy": "2021-09-11T18:40:55.809915Z",
     "iopub.status.idle": "2021-09-11T18:40:55.903231Z",
     "shell.execute_reply": "2021-09-11T18:40:55.902125Z"
    },
    "papermill": {
     "duration": 0.105356,
     "end_time": "2021-09-11T18:40:55.903481",
     "exception": false,
     "start_time": "2021-09-11T18:40:55.798125",
     "status": "completed"
    },
    "tags": []
   },
   "outputs": [
    {
     "data": {
      "text/html": [
       "TRUE"
      ],
      "text/latex": [
       "TRUE"
      ],
      "text/markdown": [
       "TRUE"
      ],
      "text/plain": [
       "[1] TRUE"
      ]
     },
     "metadata": {},
     "output_type": "display_data"
    }
   ],
   "source": [
    "library(jackalope)\n",
    "\n",
    "# Make sure we've complied with openmp\n",
    "jackalope:::using_openmp()"
   ]
  },
  {
   "cell_type": "code",
   "execution_count": 5,
   "id": "303635b1-41dc-4917-8e90-30832a9acafd",
   "metadata": {
    "execution": {
     "iopub.execute_input": "2021-09-11T18:40:55.937679Z",
     "iopub.status.busy": "2021-09-11T18:40:55.935757Z",
     "iopub.status.idle": "2021-09-11T18:40:55.965553Z",
     "shell.execute_reply": "2021-09-11T18:40:55.964686Z"
    },
    "papermill": {
     "duration": 0.044129,
     "end_time": "2021-09-11T18:40:55.965709",
     "exception": false,
     "start_time": "2021-09-11T18:40:55.921580",
     "status": "completed"
    },
    "tags": []
   },
   "outputs": [
    {
     "data": {
      "text/plain": [
       "< Set of 2 chromosomes >\n",
       "# Total size: 19,699 bp\n",
       "  name                             chromosome                             length\n",
       "chrom0     GTATTGCGAGGGTGGGGGAGTACGGCAG...CAAGAATGCAACCGACTCTGTCGGGACT     10834\n",
       "chrom1     CACCTCGAGCAGATCCTAGTTTGCGCGA...TGCGAATTTATCGCCTAATCCAATGTTA      8865"
      ]
     },
     "metadata": {},
     "output_type": "display_data"
    }
   ],
   "source": [
    "reference <- read_fasta(reference_file)\n",
    "reference_len <- sum(reference$sizes())\n",
    "reference"
   ]
  },
  {
   "cell_type": "code",
   "execution_count": 6,
   "id": "documented-helmet",
   "metadata": {
    "execution": {
     "iopub.execute_input": "2021-09-11T18:40:55.997901Z",
     "iopub.status.busy": "2021-09-11T18:40:55.995854Z",
     "iopub.status.idle": "2021-09-11T18:40:56.074935Z",
     "shell.execute_reply": "2021-09-11T18:40:56.073836Z"
    },
    "papermill": {
     "duration": 0.093182,
     "end_time": "2021-09-11T18:40:56.075170",
     "exception": false,
     "start_time": "2021-09-11T18:40:55.981988",
     "status": "completed"
    },
    "tags": []
   },
   "outputs": [
    {
     "data": {
      "text/plain": [
       "\n",
       "Phylogenetic tree with 60 tips and 59 internal nodes.\n",
       "\n",
       "Tip labels:\n",
       "  reference, SH12-013, SH12-014, SH10-015, SH10-014, SH11-002, ...\n",
       "Node labels:\n",
       "  Root, 1.000000, 0.000000, 0.000000, 1.000000, 0.000000, ...\n",
       "\n",
       "Rooted; includes branch lengths."
      ]
     },
     "metadata": {},
     "output_type": "display_data"
    }
   ],
   "source": [
    "library(ape)\n",
    "\n",
    "tree <- read.tree(initial_tree_file)\n",
    "tree <- root(tree, \"reference\", resolve.root=TRUE)\n",
    "tree"
   ]
  },
  {
   "cell_type": "code",
   "execution_count": 7,
   "id": "proved-silver",
   "metadata": {
    "execution": {
     "iopub.execute_input": "2021-09-11T18:40:56.112125Z",
     "iopub.status.busy": "2021-09-11T18:40:56.109443Z",
     "iopub.status.idle": "2021-09-11T18:40:56.303105Z",
     "shell.execute_reply": "2021-09-11T18:40:56.301758Z"
    },
    "papermill": {
     "duration": 0.208903,
     "end_time": "2021-09-11T18:40:56.303341",
     "exception": false,
     "start_time": "2021-09-11T18:40:56.094438",
     "status": "completed"
    },
    "tags": []
   },
   "outputs": [
    {
     "data": {
      "text/plain": [
       "                              << haplotypes object >>\n",
       "# Haplotypes: 60\n",
       "# Mutations: 31,269\n",
       "\n",
       "                          << Reference genome info: >>\n",
       "< Set of 2 chromosomes >\n",
       "# Total size: 19,699 bp\n",
       "  name                             chromosome                             length\n",
       "chrom0     GTATTGCGAGGGTGGGGGAGTACGGCAG...CAAGAATGCAACCGACTCTGTCGGGACT     10834\n",
       "chrom1     CACCTCGAGCAGATCCTAGTTTGCGCGA...TGCGAATTTATCGCCTAATCCAATGTTA      8865"
      ]
     },
     "metadata": {},
     "output_type": "display_data"
    }
   ],
   "source": [
    "sub <- sub_HKY85(pi_tcag = sub_pi_tcag, mu = sub_mu,\n",
    "                 alpha = sub_alpha, beta = sub_beta, gamma_shape=1, gamma_k = 5,\n",
    "                 invariant = sub_invariant)\n",
    "ins <- indels(rate = ins_rate, max_length = ins_max_length, a = ins_a)\n",
    "del <- indels(rate = del_rate, max_length = del_max_length, a = del_a)\n",
    "\n",
    "ref_haplotypes <- create_haplotypes(reference, haps_phylo(tree), sub=sub, ins=ins, del=del)\n",
    "ref_haplotypes"
   ]
  },
  {
   "cell_type": "markdown",
   "id": "535fa02d-c76c-4067-9582-74f3694d16ea",
   "metadata": {
    "papermill": {
     "duration": 0.010144,
     "end_time": "2021-09-11T18:40:56.330848",
     "exception": false,
     "start_time": "2021-09-11T18:40:56.320704",
     "status": "completed"
    },
    "tags": []
   },
   "source": [
    "# 3. Write simulated data"
   ]
  },
  {
   "cell_type": "code",
   "execution_count": 8,
   "id": "smoking-geology",
   "metadata": {
    "execution": {
     "iopub.execute_input": "2021-09-11T18:40:56.356223Z",
     "iopub.status.busy": "2021-09-11T18:40:56.352689Z",
     "iopub.status.idle": "2021-09-11T18:40:56.423975Z",
     "shell.execute_reply": "2021-09-11T18:40:56.422808Z"
    },
    "papermill": {
     "duration": 0.085755,
     "end_time": "2021-09-11T18:40:56.424202",
     "exception": false,
     "start_time": "2021-09-11T18:40:56.338447",
     "status": "completed"
    },
    "tags": []
   },
   "outputs": [],
   "source": [
    "write_vcf(ref_haplotypes, out_prefix=output_vcf_prefix, compress=TRUE)"
   ]
  },
  {
   "cell_type": "code",
   "execution_count": 9,
   "id": "d2657fc5-481e-4b24-bbf8-78c02ee735ce",
   "metadata": {
    "execution": {
     "iopub.execute_input": "2021-09-11T18:40:56.466053Z",
     "iopub.status.busy": "2021-09-11T18:40:56.462514Z",
     "iopub.status.idle": "2021-09-11T18:40:56.641649Z",
     "shell.execute_reply": "2021-09-11T18:40:56.637907Z"
    },
    "papermill": {
     "duration": 0.197778,
     "end_time": "2021-09-11T18:40:56.641902",
     "exception": false,
     "start_time": "2021-09-11T18:40:56.444124",
     "status": "completed"
    },
    "tags": []
   },
   "outputs": [],
   "source": [
    "assemblies_prefix = file.path(output_dir, \"assemblies\", \"data\")\n",
    "\n",
    "write_fasta(ref_haplotypes, out_prefix=assemblies_prefix,\n",
    "            compress=TRUE, n_threads=ncores, overwrite=TRUE)"
   ]
  },
  {
   "cell_type": "code",
   "execution_count": 10,
   "id": "continent-freeze",
   "metadata": {
    "execution": {
     "iopub.execute_input": "2021-09-11T18:40:56.670129Z",
     "iopub.status.busy": "2021-09-11T18:40:56.668398Z",
     "iopub.status.idle": "2021-09-11T18:46:23.359130Z",
     "shell.execute_reply": "2021-09-11T18:46:23.357930Z"
    },
    "papermill": {
     "duration": 326.703415,
     "end_time": "2021-09-11T18:46:23.359384",
     "exception": false,
     "start_time": "2021-09-11T18:40:56.655969",
     "status": "completed"
    },
    "tags": []
   },
   "outputs": [
    {
     "name": "stdout",
     "output_type": "stream",
     "text": [
      "[1] \"Number of reads for coverage 30X and read length 250 over 60 samples with respect to reference with length 19699: 141833\"\n"
     ]
    }
   ],
   "source": [
    "n_samples <- length(tree$tip)\n",
    "n_reads <- round((reference_len * read_coverage * n_samples) / read_length)\n",
    "print(sprintf(\"Number of reads for coverage %sX and read length %s over %s samples with respect to reference with length %s: %s\", \n",
    "              read_coverage, read_length, n_samples, reference_len, n_reads))\n",
    "\n",
    "illumina(ref_haplotypes, out_prefix = reads_data_initial_prefix, sep_files=TRUE, n_reads = n_reads,\n",
    "         frag_mean = read_length * 2 + 50, frag_sd = 100,\n",
    "         compress=TRUE, comp_method=\"bgzip\", n_threads=ncores,\n",
    "         paired=TRUE, read_length = read_length)"
   ]
  },
  {
   "cell_type": "code",
   "execution_count": 11,
   "id": "israeli-unknown",
   "metadata": {
    "execution": {
     "iopub.execute_input": "2021-09-11T18:46:23.399048Z",
     "iopub.status.busy": "2021-09-11T18:46:23.397009Z",
     "iopub.status.idle": "2021-09-11T18:46:23.435099Z",
     "shell.execute_reply": "2021-09-11T18:46:23.434012Z"
    },
    "papermill": {
     "duration": 0.054358,
     "end_time": "2021-09-11T18:46:23.435331",
     "exception": false,
     "start_time": "2021-09-11T18:46:23.380973",
     "status": "completed"
    },
    "tags": []
   },
   "outputs": [
    {
     "name": "stdout",
     "output_type": "stream",
     "text": [
      "[1] \"Removing: simulations/alpha-0.5-cov-30/simulated_data/reads_initial/data_reference_R1.fq.gz\"\n"
     ]
    },
    {
     "name": "stdout",
     "output_type": "stream",
     "text": [
      "[1] \"Removing: simulations/alpha-0.5-cov-30/simulated_data/reads_initial/data_reference_R2.fq.gz\"\n"
     ]
    }
   ],
   "source": [
    "# Remove the simulated reads for the reference genome since I don't want these in the tree\n",
    "ref1 <- paste(toString(reads_data_initial_prefix), \"_reference_R1.fq.gz\", sep=\"\")\n",
    "ref2 <- paste(toString(reads_data_initial_prefix), \"_reference_R2.fq.gz\", sep=\"\")\n",
    "if (file.exists(ref1)) {\n",
    "    file.remove(ref1)\n",
    "    print(sprintf(\"Removing: %s\", ref1))\n",
    "}\n",
    "if (file.exists(ref2)) {\n",
    "    file.remove(ref2)\n",
    "    print(sprintf(\"Removing: %s\", ref2))\n",
    "}"
   ]
  },
  {
   "cell_type": "code",
   "execution_count": 12,
   "id": "likely-elite",
   "metadata": {
    "execution": {
     "iopub.execute_input": "2021-09-11T18:46:23.476112Z",
     "iopub.status.busy": "2021-09-11T18:46:23.473166Z",
     "iopub.status.idle": "2021-09-11T18:46:23.497521Z",
     "shell.execute_reply": "2021-09-11T18:46:23.496427Z"
    },
    "papermill": {
     "duration": 0.040914,
     "end_time": "2021-09-11T18:46:23.497714",
     "exception": false,
     "start_time": "2021-09-11T18:46:23.456800",
     "status": "completed"
    },
    "tags": []
   },
   "outputs": [
    {
     "name": "stdout",
     "output_type": "stream",
     "text": [
      "[1] \"Removing: simulations/alpha-0.5-cov-30/simulated_data/assemblies/data__reference.fa.gz\"\n"
     ]
    }
   ],
   "source": [
    "# Remove the new reference assembly genome since I don't need it\n",
    "ref1 <- paste(toString(assemblies_prefix), \"__reference.fa.gz\", sep=\"\")\n",
    "if (file.exists(ref1)) {\n",
    "    file.remove(ref1)\n",
    "    print(sprintf(\"Removing: %s\", ref1))\n",
    "}"
   ]
  },
  {
   "cell_type": "code",
   "execution_count": null,
   "id": "6ab27399-288a-4067-a812-d946410658a5",
   "metadata": {
    "papermill": {
     "duration": 0.010352,
     "end_time": "2021-09-11T18:46:23.525462",
     "exception": false,
     "start_time": "2021-09-11T18:46:23.515110",
     "status": "completed"
    },
    "tags": []
   },
   "outputs": [],
   "source": []
  }
 ],
 "metadata": {
  "kernelspec": {
   "display_name": "R",
   "language": "R",
   "name": "ir"
  },
  "language_info": {
   "codemirror_mode": "r",
   "file_extension": ".r",
   "mimetype": "text/x-r-source",
   "name": "R",
   "pygments_lexer": "r",
   "version": "4.1.1"
  },
  "papermill": {
   "default_parameters": {},
   "duration": 330.420106,
   "end_time": "2021-09-11T18:46:24.862549",
   "environment_variables": {},
   "exception": null,
   "input_path": "template-1-simulate-reads.ipynb",
   "output_path": "1-simulate-reads.simulation-alpha-0.5.ipynb",
   "parameters": {
    "iterations": 3,
    "mincov": 10,
    "read_coverage": 30,
    "simulation_dir": "simulations/alpha-0.5-cov-30",
    "sub_alpha": 0.5
   },
   "start_time": "2021-09-11T18:40:54.442443",
   "version": "2.3.3"
  }
 },
 "nbformat": 4,
 "nbformat_minor": 5
}