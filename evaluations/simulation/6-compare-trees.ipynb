{
 "cells": [
  {
   "cell_type": "markdown",
   "metadata": {},
   "source": [
    "# 1. Parameters"
   ]
  },
  {
   "cell_type": "code",
   "execution_count": 1,
   "metadata": {
    "tags": []
   },
   "outputs": [],
   "source": [
    "simulation_dir <- \"simulations\"\n",
    "\n",
    "coverage_cases <- c(5, 10, 20, 30, 40, 50)\n",
    "coverage_paths <- sapply(coverage_cases, function(x){file.path(simulation_dir, sprintf(\"cov-%s\", x))})\n",
    "coverage_read_trees <- sapply(coverage_paths, function(x){file.path(x, \"index-reads\", \"reads.tre\")})\n",
    "coverage_assembly_trees <- sapply(coverage_paths, function(x){file.path(x, \"index-assemblies\", \"assemblies.tre\")})\n",
    "\n",
    "names(coverage_read_trees) <- coverage_cases\n",
    "names(coverage_assembly_trees) <- coverage_cases\n",
    "\n",
    "initial_tree_file <- \"input/salmonella.tre\"\n",
    "trees_table_file <- file.path(simulation_dir, \"tree-comparisons.tsv\")"
   ]
  },
  {
   "cell_type": "markdown",
   "metadata": {},
   "source": [
    "# 2. Compare trees\n",
    "\n",
    "## 2.1. Load trees"
   ]
  },
  {
   "cell_type": "code",
   "execution_count": 2,
   "metadata": {},
   "outputs": [],
   "source": [
    "library(ape)\n",
    "\n",
    "read_and_root_tree <- function(file, keep.multi) {\n",
    "    tree <- ape::read.tree(file=file, keep.multi=keep.multi)\n",
    "    tree <- ape::root(tree, \"reference\", resolve.root=TRUE)\n",
    "    \n",
    "    return(tree)\n",
    "}\n",
    "\n",
    "t_orig <- read_and_root_tree(file=initial_tree_file, keep.multi=FALSE)\n",
    "\n",
    "t_reads <- lapply(coverage_read_trees, function(x){read_and_root_tree(file=x, keep.multi=TRUE)})\n",
    "t_reads <- do.call(c, unlist(t_reads, recursive=FALSE))\n",
    "t_assemblies <- lapply(coverage_assembly_trees, function(x){read_and_root_tree(file=x, keep.multi=TRUE)})\n",
    "t_assemblies <- do.call(c, unlist(t_assemblies, recursive=FALSE))"
   ]
  },
  {
   "cell_type": "markdown",
   "metadata": {},
   "source": [
    "## 2.2. Distances between trees"
   ]
  },
  {
   "cell_type": "code",
   "execution_count": 3,
   "metadata": {},
   "outputs": [
    {
     "name": "stderr",
     "output_type": "stream",
     "text": [
      "Loading required package: ade4\n",
      "\n",
      "code for methods in class “Rcpp_SpExtent” was not checked for suspicious field assignments (recommended package ‘codetools’ not available?)\n",
      "\n",
      "code for methods in class “Rcpp_SpExtent” was not checked for suspicious field assignments (recommended package ‘codetools’ not available?)\n",
      "\n",
      "code for methods in class “Rcpp_SpPoly” was not checked for suspicious field assignments (recommended package ‘codetools’ not available?)\n",
      "\n",
      "code for methods in class “Rcpp_SpPoly” was not checked for suspicious field assignments (recommended package ‘codetools’ not available?)\n",
      "\n",
      "code for methods in class “Rcpp_SpPolyPart” was not checked for suspicious field assignments (recommended package ‘codetools’ not available?)\n",
      "\n",
      "code for methods in class “Rcpp_SpPolyPart” was not checked for suspicious field assignments (recommended package ‘codetools’ not available?)\n",
      "\n",
      "code for methods in class “Rcpp_SpPolygons” was not checked for suspicious field assignments (recommended package ‘codetools’ not available?)\n",
      "\n",
      "code for methods in class “Rcpp_SpPolygons” was not checked for suspicious field assignments (recommended package ‘codetools’ not available?)\n",
      "\n",
      "Creating a generic function for ‘toJSON’ from package ‘jsonlite’ in package ‘googleVis’\n",
      "\n",
      "Registered S3 method overwritten by 'spdep':\n",
      "  method   from\n",
      "  plot.mst ape \n",
      "\n",
      "Registered S3 methods overwritten by 'adegraphics':\n",
      "  method         from\n",
      "  biplot.dudi    ade4\n",
      "  kplot.foucart  ade4\n",
      "  kplot.mcoa     ade4\n",
      "  kplot.mfa      ade4\n",
      "  kplot.pta      ade4\n",
      "  kplot.sepan    ade4\n",
      "  kplot.statis   ade4\n",
      "  scatter.coa    ade4\n",
      "  scatter.dudi   ade4\n",
      "  scatter.nipals ade4\n",
      "  scatter.pco    ade4\n",
      "  score.acm      ade4\n",
      "  score.mix      ade4\n",
      "  score.pca      ade4\n",
      "  screeplot.dudi ade4\n",
      "\n",
      "code for methods in class “Rcpp_Fitch” was not checked for suspicious field assignments (recommended package ‘codetools’ not available?)\n",
      "\n",
      "code for methods in class “Rcpp_Fitch” was not checked for suspicious field assignments (recommended package ‘codetools’ not available?)\n",
      "\n"
     ]
    },
    {
     "data": {
      "text/html": [
       "<table class=\"dataframe\">\n",
       "<caption>A data.frame: 12 × 5</caption>\n",
       "<thead>\n",
       "\t<tr><th scope=col>Types</th><th scope=col>Coverage</th><th scope=col>RFN_Distance</th><th scope=col>wRFN_Distance</th><th scope=col>KC_Distance</th></tr>\n",
       "\t<tr><th scope=col>&lt;chr&gt;</th><th scope=col>&lt;dbl&gt;</th><th scope=col>&lt;dbl&gt;</th><th scope=col>&lt;dbl&gt;</th><th scope=col>&lt;dbl&gt;</th></tr>\n",
       "</thead>\n",
       "<tbody>\n",
       "\t<tr><td>reads   </td><td> 5</td><td>0.9655172</td><td>0.9655172</td><td>249.91242</td></tr>\n",
       "\t<tr><td>reads   </td><td>10</td><td>0.7241379</td><td>0.7241379</td><td> 79.78536</td></tr>\n",
       "\t<tr><td>reads   </td><td>20</td><td>0.6724138</td><td>0.6724138</td><td> 86.85927</td></tr>\n",
       "\t<tr><td>reads   </td><td>30</td><td>0.7758621</td><td>0.7758621</td><td> 86.04379</td></tr>\n",
       "\t<tr><td>reads   </td><td>40</td><td>0.7586207</td><td>0.7586207</td><td>101.09099</td></tr>\n",
       "\t<tr><td>reads   </td><td>50</td><td>0.7758621</td><td>0.7758621</td><td> 94.77731</td></tr>\n",
       "\t<tr><td>assembly</td><td> 5</td><td>0.6724138</td><td>0.6724138</td><td> 74.55910</td></tr>\n",
       "\t<tr><td>assembly</td><td>10</td><td>0.7068966</td><td>0.7068966</td><td> 71.47704</td></tr>\n",
       "\t<tr><td>assembly</td><td>20</td><td>0.7241379</td><td>0.7241379</td><td> 77.11151</td></tr>\n",
       "\t<tr><td>assembly</td><td>30</td><td>0.7068966</td><td>0.7068966</td><td> 62.74741</td></tr>\n",
       "\t<tr><td>assembly</td><td>40</td><td>0.7241379</td><td>0.7241379</td><td> 76.74432</td></tr>\n",
       "\t<tr><td>assembly</td><td>50</td><td>0.6896552</td><td>0.6896552</td><td> 73.80558</td></tr>\n",
       "</tbody>\n",
       "</table>\n"
      ],
      "text/latex": [
       "A data.frame: 12 × 5\n",
       "\\begin{tabular}{lllll}\n",
       " Types & Coverage & RFN\\_Distance & wRFN\\_Distance & KC\\_Distance\\\\\n",
       " <chr> & <dbl> & <dbl> & <dbl> & <dbl>\\\\\n",
       "\\hline\n",
       "\t reads    &  5 & 0.9655172 & 0.9655172 & 249.91242\\\\\n",
       "\t reads    & 10 & 0.7241379 & 0.7241379 &  79.78536\\\\\n",
       "\t reads    & 20 & 0.6724138 & 0.6724138 &  86.85927\\\\\n",
       "\t reads    & 30 & 0.7758621 & 0.7758621 &  86.04379\\\\\n",
       "\t reads    & 40 & 0.7586207 & 0.7586207 & 101.09099\\\\\n",
       "\t reads    & 50 & 0.7758621 & 0.7758621 &  94.77731\\\\\n",
       "\t assembly &  5 & 0.6724138 & 0.6724138 &  74.55910\\\\\n",
       "\t assembly & 10 & 0.7068966 & 0.7068966 &  71.47704\\\\\n",
       "\t assembly & 20 & 0.7241379 & 0.7241379 &  77.11151\\\\\n",
       "\t assembly & 30 & 0.7068966 & 0.7068966 &  62.74741\\\\\n",
       "\t assembly & 40 & 0.7241379 & 0.7241379 &  76.74432\\\\\n",
       "\t assembly & 50 & 0.6896552 & 0.6896552 &  73.80558\\\\\n",
       "\\end{tabular}\n"
      ],
      "text/markdown": [
       "\n",
       "A data.frame: 12 × 5\n",
       "\n",
       "| Types &lt;chr&gt; | Coverage &lt;dbl&gt; | RFN_Distance &lt;dbl&gt; | wRFN_Distance &lt;dbl&gt; | KC_Distance &lt;dbl&gt; |\n",
       "|---|---|---|---|---|\n",
       "| reads    |  5 | 0.9655172 | 0.9655172 | 249.91242 |\n",
       "| reads    | 10 | 0.7241379 | 0.7241379 |  79.78536 |\n",
       "| reads    | 20 | 0.6724138 | 0.6724138 |  86.85927 |\n",
       "| reads    | 30 | 0.7758621 | 0.7758621 |  86.04379 |\n",
       "| reads    | 40 | 0.7586207 | 0.7586207 | 101.09099 |\n",
       "| reads    | 50 | 0.7758621 | 0.7758621 |  94.77731 |\n",
       "| assembly |  5 | 0.6724138 | 0.6724138 |  74.55910 |\n",
       "| assembly | 10 | 0.7068966 | 0.7068966 |  71.47704 |\n",
       "| assembly | 20 | 0.7241379 | 0.7241379 |  77.11151 |\n",
       "| assembly | 30 | 0.7068966 | 0.7068966 |  62.74741 |\n",
       "| assembly | 40 | 0.7241379 | 0.7241379 |  76.74432 |\n",
       "| assembly | 50 | 0.6896552 | 0.6896552 |  73.80558 |\n",
       "\n"
      ],
      "text/plain": [
       "   Types    Coverage RFN_Distance wRFN_Distance KC_Distance\n",
       "1  reads     5       0.9655172    0.9655172     249.91242  \n",
       "2  reads    10       0.7241379    0.7241379      79.78536  \n",
       "3  reads    20       0.6724138    0.6724138      86.85927  \n",
       "4  reads    30       0.7758621    0.7758621      86.04379  \n",
       "5  reads    40       0.7586207    0.7586207     101.09099  \n",
       "6  reads    50       0.7758621    0.7758621      94.77731  \n",
       "7  assembly  5       0.6724138    0.6724138      74.55910  \n",
       "8  assembly 10       0.7068966    0.7068966      71.47704  \n",
       "9  assembly 20       0.7241379    0.7241379      77.11151  \n",
       "10 assembly 30       0.7068966    0.7068966      62.74741  \n",
       "11 assembly 40       0.7241379    0.7241379      76.74432  \n",
       "12 assembly 50       0.6896552    0.6896552      73.80558  "
      ]
     },
     "metadata": {},
     "output_type": "display_data"
    }
   ],
   "source": [
    "library(treespace)\n",
    "\n",
    "reference_other_distances <- function(reference_tree, other_trees, dist_func) {\n",
    "    distances <- c()\n",
    "    labels <- names(other_trees)\n",
    "    for(label in labels) {\n",
    "        tree <- other_trees[[label]]\n",
    "        distance <- dist_func(reference_tree, tree, normalize=TRUE, rooted=TRUE)\n",
    "        distances <- c(distances, distance)\n",
    "    }\n",
    "    \n",
    "    return(distances)\n",
    "}\n",
    "\n",
    "tree_distances_reference <- function(reference_tree, read_trees, assembly_trees, label_name) {\n",
    "    types <- c(rep(\"reads\", each=length(read_trees)), rep(\"assembly\", each=length(assembly_trees)))\n",
    "    labels <- c(names(read_trees), names(assembly_trees))\n",
    "    lambda <- 0.5\n",
    "    distances = c(treespace::refTreeDist(reference_tree, read_trees, lambda=lambda),\n",
    "                 treespace::refTreeDist(reference_tree, assembly_trees, lambda=lambda))\n",
    "    \n",
    "    rfn_distance_reads <- reference_other_distances(t_orig, read_trees, phangorn::RF.dist)\n",
    "    rfn_distance_assemblies <- reference_other_distances(t_orig, assembly_trees, phangorn::RF.dist)\n",
    "    rfn_distances <- c(rfn_distance_reads, rfn_distance_assemblies)\n",
    "    \n",
    "    wrfn_distance_reads <- reference_other_distances(t_orig, read_trees, phangorn::wRF.dist)\n",
    "    wrfn_distance_assemblies <- reference_other_distances(t_orig, assembly_trees, phangorn::wRF.dist)\n",
    "    wrfn_distances <- c(rfn_distance_reads, rfn_distance_assemblies)\n",
    "    \n",
    "    df <- data.frame(\n",
    "               Types = types,\n",
    "               Coverage = labels,\n",
    "               RFN_Distance = rfn_distances,\n",
    "               wRFN_Distance = wrfn_distances,\n",
    "               KC_Distance = distances)\n",
    "    \n",
    "    return(df)\n",
    "}\n",
    "\n",
    "tree_distances_df <- tree_distances_reference(t_orig, t_reads, t_assemblies, \"Coverage\")\n",
    "tree_distances_df[\"Coverage\"] <- as.numeric(tree_distances_df$Coverage)\n",
    "tree_distances_df"
   ]
  },
  {
   "cell_type": "code",
   "execution_count": 4,
   "metadata": {},
   "outputs": [],
   "source": [
    "write.table(tree_distances_df, trees_table_file, append = FALSE, sep = \"\\t\", dec = \".\",\n",
    "            row.names = FALSE, col.names = TRUE)"
   ]
  },
  {
   "cell_type": "markdown",
   "metadata": {},
   "source": [
    "# 3. Visualize trees"
   ]
  },
  {
   "cell_type": "code",
   "execution_count": 5,
   "metadata": {},
   "outputs": [
    {
     "data": {
      "text/html": [
       "<style>\n",
       ".list-inline {list-style: none; margin:0; padding: 0}\n",
       ".list-inline>li {display: inline-block}\n",
       ".list-inline>li:not(:last-child)::after {content: \"\\00b7\"; padding: 0 .5ex}\n",
       "</style>\n",
       "<ol class=list-inline><li>'5'</li><li>'10'</li><li>'20'</li><li>'30'</li><li>'40'</li><li>'50'</li></ol>\n"
      ],
      "text/latex": [
       "\\begin{enumerate*}\n",
       "\\item '5'\n",
       "\\item '10'\n",
       "\\item '20'\n",
       "\\item '30'\n",
       "\\item '40'\n",
       "\\item '50'\n",
       "\\end{enumerate*}\n"
      ],
      "text/markdown": [
       "1. '5'\n",
       "2. '10'\n",
       "3. '20'\n",
       "4. '30'\n",
       "5. '40'\n",
       "6. '50'\n",
       "\n",
       "\n"
      ],
      "text/plain": [
       "[1] \"5\"  \"10\" \"20\" \"30\" \"40\" \"50\""
      ]
     },
     "metadata": {},
     "output_type": "display_data"
    }
   ],
   "source": [
    "names(t_reads)"
   ]
  },
  {
   "cell_type": "code",
   "execution_count": 6,
   "metadata": {},
   "outputs": [
    {
     "name": "stderr",
     "output_type": "stream",
     "text": [
      "Loading required package: maps\n",
      "\n"
     ]
    },
    {
     "name": "stdout",
     "output_type": "stream",
     "text": [
      "Rotating nodes to optimize matching...\n",
      "Done.\n"
     ]
    },
    {
     "data": {
      "text/html": [
       "<strong>png:</strong> 2"
      ],
      "text/latex": [
       "\\textbf{png:} 2"
      ],
      "text/markdown": [
       "**png:** 2"
      ],
      "text/plain": [
       "png \n",
       "  2 "
      ]
     },
     "metadata": {},
     "output_type": "display_data"
    }
   ],
   "source": [
    "library(phytools)\n",
    "\n",
    "cov <- \"20\"\n",
    "rfn_distance <- tree_distances_df[tree_distances_df[\"Coverage\"] == strtoi(cov) & tree_distances_df[\"Types\"] == \"reads\", \"RFN_Distance\"]\n",
    "kc_distance <- tree_distances_df[tree_distances_df[\"Coverage\"] == strtoi(cov) & tree_distances_df[\"Types\"] == \"reads\", \"KC_Distance\"]\n",
    "\n",
    "pdf(file = \"figures/original-reads-tree-20.pdf\")\n",
    "options(repr.plot.width=8, repr.plot.height=10)\n",
    "par(mar = c(1,1,5,1), oma=c(1,2,3,2))\n",
    "plot(phytools::cophylo(t_orig, t_reads[[cov]], rotate=TRUE),\n",
    "     fsize=0.5, scale.bar=c(0.1,0.01),\n",
    "     link.type=\"curved\", link.col=\"#777777\", link.lwd=1.5, link.lty=1)\n",
    "title(main=sprintf(\"Comparison of original tree to tree constructed from reads\\n (cov=%s, NRF=%0.2f, KC=%0.1f)\",\n",
    "                   cov, rfn_distance, kc_distance), outer=TRUE)\n",
    "mtext(\"Original tree\", side=2, cex=1.3)\n",
    "mtext(\"Constructed tree (reads)\", side=4, cex=1.3)\n",
    "\n",
    "dev.off()"
   ]
  },
  {
   "cell_type": "code",
   "execution_count": 7,
   "metadata": {},
   "outputs": [
    {
     "name": "stdout",
     "output_type": "stream",
     "text": [
      "Rotating nodes to optimize matching...\n",
      "Done.\n"
     ]
    },
    {
     "data": {
      "text/html": [
       "<strong>png:</strong> 2"
      ],
      "text/latex": [
       "\\textbf{png:} 2"
      ],
      "text/markdown": [
       "**png:** 2"
      ],
      "text/plain": [
       "png \n",
       "  2 "
      ]
     },
     "metadata": {},
     "output_type": "display_data"
    }
   ],
   "source": [
    "# There is no applicable coverage value for assemblies, but I did re-build the assemblies trees\n",
    "# For every coverage value for the reads. So I'm just picking the best-scoring (NRF) tree\n",
    "cov <- \"5\"\n",
    "\n",
    "rfn_distance <- tree_distances_df[tree_distances_df[\"Coverage\"] == strtoi(cov) & tree_distances_df[\"Types\"] == \"assembly\", \"RFN_Distance\"]\n",
    "kc_distance <- tree_distances_df[tree_distances_df[\"Coverage\"] == strtoi(cov) & tree_distances_df[\"Types\"] == \"assembly\", \"KC_Distance\"]\n",
    "\n",
    "pdf(file = \"figures/original-assemblies-tree.pdf\")\n",
    "options(repr.plot.width=8, repr.plot.height=10)\n",
    "par(mar = c(1,1,5,1), oma=c(1,2,3,2))\n",
    "plot(phytools::cophylo(t_orig, t_assemblies[[cov]], rotate=TRUE),\n",
    "     fsize=0.5, scale.bar=c(0.1,0.01), link.lty=1,\n",
    "     link.type=\"curved\", link.col=\"#777777\", link.lwd=1.5)\n",
    "title(main=sprintf(\"Comparison of original tree to tree constructed from an assembly\\n (NRF=%0.2f, KC=%0.1f)\",\n",
    "                   rfn_distance, kc_distance), outer=TRUE)\n",
    "mtext(\"Original tree\", side=2, cex=1.3)\n",
    "mtext(\"Constructed tree (assembly)\", side=4, cex=1.3)\n",
    "\n",
    "dev.off()"
   ]
  }
 ],
 "metadata": {
  "kernelspec": {
   "display_name": "R",
   "language": "R",
   "name": "ir"
  },
  "language_info": {
   "codemirror_mode": "r",
   "file_extension": ".r",
   "mimetype": "text/x-r-source",
   "name": "R",
   "pygments_lexer": "r",
   "version": "4.1.1"
  }
 },
 "nbformat": 4,
 "nbformat_minor": 4
}
