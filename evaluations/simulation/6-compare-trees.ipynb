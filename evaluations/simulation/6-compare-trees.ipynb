{
 "cells": [
  {
   "cell_type": "markdown",
   "metadata": {},
   "source": [
    "# 1. Parameters"
   ]
  },
  {
   "cell_type": "code",
   "execution_count": 1,
   "metadata": {
    "tags": []
   },
   "outputs": [],
   "source": [
    "simulation_dir <- \"simulations\"\n",
    "\n",
    "simulation_dirs <- list.files(pattern='^(cov|alpha)', simulation_dir)\n",
    "\n",
    "# Remove this case since it failed to build trees\n",
    "simulation_dirs <- simulation_dirs[sapply(simulation_dirs, function(x){x != 'alpha-10-cov-30'})]\n",
    "\n",
    "simulation_paths <- sapply(simulation_dirs, function(x){file.path(simulation_dir, x)})\n",
    "simulation_read_trees <- sapply(simulation_paths, function(x){file.path(x, \"index-reads\", \"reads.tre\")})\n",
    "simulation_assembly_trees <- sapply(simulation_paths, function(x){file.path(x, \"index-assemblies\", \"assemblies.tre\")})\n",
    "\n",
    "names(simulation_read_trees) <- simulation_dirs\n",
    "names(simulation_assembly_trees) <- simulation_dirs\n",
    "\n",
    "initial_tree_file <- \"input/salmonella.tre\"\n",
    "trees_table_file <- file.path(simulation_dir, \"tree-comparisons.tsv\")"
   ]
  },
  {
   "cell_type": "code",
   "execution_count": 2,
   "metadata": {},
   "outputs": [
    {
     "data": {
      "text/html": [
       "<style>\n",
       ".dl-inline {width: auto; margin:0; padding: 0}\n",
       ".dl-inline>dt, .dl-inline>dd {float: none; width: auto; display: inline-block}\n",
       ".dl-inline>dt::after {content: \":\\0020\"; padding-right: .5ex}\n",
       ".dl-inline>dt:not(:first-of-type) {padding-left: .5ex}\n",
       "</style><dl class=dl-inline><dt>alpha-0.5-cov-30</dt><dd>'simulations/alpha-0.5-cov-30/index-reads/reads.tre'</dd><dt>alpha-1.0-cov-30</dt><dd>'simulations/alpha-1.0-cov-30/index-reads/reads.tre'</dd><dt>alpha-2.0-cov-30</dt><dd>'simulations/alpha-2.0-cov-30/index-reads/reads.tre'</dd><dt>alpha-5.0-cov-30</dt><dd>'simulations/alpha-5.0-cov-30/index-reads/reads.tre'</dd><dt>cov-10</dt><dd>'simulations/cov-10/index-reads/reads.tre'</dd><dt>cov-20</dt><dd>'simulations/cov-20/index-reads/reads.tre'</dd><dt>cov-30</dt><dd>'simulations/cov-30/index-reads/reads.tre'</dd><dt>cov-40</dt><dd>'simulations/cov-40/index-reads/reads.tre'</dd><dt>cov-5</dt><dd>'simulations/cov-5/index-reads/reads.tre'</dd><dt>cov-50</dt><dd>'simulations/cov-50/index-reads/reads.tre'</dd></dl>\n"
      ],
      "text/latex": [
       "\\begin{description*}\n",
       "\\item[alpha-0.5-cov-30] 'simulations/alpha-0.5-cov-30/index-reads/reads.tre'\n",
       "\\item[alpha-1.0-cov-30] 'simulations/alpha-1.0-cov-30/index-reads/reads.tre'\n",
       "\\item[alpha-2.0-cov-30] 'simulations/alpha-2.0-cov-30/index-reads/reads.tre'\n",
       "\\item[alpha-5.0-cov-30] 'simulations/alpha-5.0-cov-30/index-reads/reads.tre'\n",
       "\\item[cov-10] 'simulations/cov-10/index-reads/reads.tre'\n",
       "\\item[cov-20] 'simulations/cov-20/index-reads/reads.tre'\n",
       "\\item[cov-30] 'simulations/cov-30/index-reads/reads.tre'\n",
       "\\item[cov-40] 'simulations/cov-40/index-reads/reads.tre'\n",
       "\\item[cov-5] 'simulations/cov-5/index-reads/reads.tre'\n",
       "\\item[cov-50] 'simulations/cov-50/index-reads/reads.tre'\n",
       "\\end{description*}\n"
      ],
      "text/markdown": [
       "alpha-0.5-cov-30\n",
       ":   'simulations/alpha-0.5-cov-30/index-reads/reads.tre'alpha-1.0-cov-30\n",
       ":   'simulations/alpha-1.0-cov-30/index-reads/reads.tre'alpha-2.0-cov-30\n",
       ":   'simulations/alpha-2.0-cov-30/index-reads/reads.tre'alpha-5.0-cov-30\n",
       ":   'simulations/alpha-5.0-cov-30/index-reads/reads.tre'cov-10\n",
       ":   'simulations/cov-10/index-reads/reads.tre'cov-20\n",
       ":   'simulations/cov-20/index-reads/reads.tre'cov-30\n",
       ":   'simulations/cov-30/index-reads/reads.tre'cov-40\n",
       ":   'simulations/cov-40/index-reads/reads.tre'cov-5\n",
       ":   'simulations/cov-5/index-reads/reads.tre'cov-50\n",
       ":   'simulations/cov-50/index-reads/reads.tre'\n",
       "\n"
      ],
      "text/plain": [
       "                                    alpha-0.5-cov-30 \n",
       "\"simulations/alpha-0.5-cov-30/index-reads/reads.tre\" \n",
       "                                    alpha-1.0-cov-30 \n",
       "\"simulations/alpha-1.0-cov-30/index-reads/reads.tre\" \n",
       "                                    alpha-2.0-cov-30 \n",
       "\"simulations/alpha-2.0-cov-30/index-reads/reads.tre\" \n",
       "                                    alpha-5.0-cov-30 \n",
       "\"simulations/alpha-5.0-cov-30/index-reads/reads.tre\" \n",
       "                                              cov-10 \n",
       "          \"simulations/cov-10/index-reads/reads.tre\" \n",
       "                                              cov-20 \n",
       "          \"simulations/cov-20/index-reads/reads.tre\" \n",
       "                                              cov-30 \n",
       "          \"simulations/cov-30/index-reads/reads.tre\" \n",
       "                                              cov-40 \n",
       "          \"simulations/cov-40/index-reads/reads.tre\" \n",
       "                                               cov-5 \n",
       "           \"simulations/cov-5/index-reads/reads.tre\" \n",
       "                                              cov-50 \n",
       "          \"simulations/cov-50/index-reads/reads.tre\" "
      ]
     },
     "metadata": {},
     "output_type": "display_data"
    }
   ],
   "source": [
    "simulation_read_trees"
   ]
  },
  {
   "cell_type": "markdown",
   "metadata": {},
   "source": [
    "# 2. Compare trees\n",
    "\n",
    "## 2.1. Load trees"
   ]
  },
  {
   "cell_type": "code",
   "execution_count": 3,
   "metadata": {},
   "outputs": [],
   "source": [
    "library(ape)\n",
    "\n",
    "read_and_root_tree <- function(file, keep.multi) {\n",
    "    tree <- ape::read.tree(file=file, keep.multi=keep.multi)\n",
    "    tree <- ape::root(tree, \"reference\", resolve.root=TRUE)\n",
    "    \n",
    "    return(tree)\n",
    "}\n",
    "\n",
    "t_orig <- read_and_root_tree(file=initial_tree_file, keep.multi=FALSE)\n",
    "\n",
    "t_reads <- lapply(simulation_read_trees, function(x){read_and_root_tree(file=x, keep.multi=TRUE)})\n",
    "t_reads <- do.call(c, unlist(t_reads, recursive=FALSE))\n",
    "t_assemblies <- lapply(simulation_assembly_trees, function(x){read_and_root_tree(file=x, keep.multi=TRUE)})\n",
    "t_assemblies <- do.call(c, unlist(t_assemblies, recursive=FALSE))"
   ]
  },
  {
   "cell_type": "markdown",
   "metadata": {},
   "source": [
    "## 2.2. Distances between trees"
   ]
  },
  {
   "cell_type": "code",
   "execution_count": 4,
   "metadata": {},
   "outputs": [
    {
     "name": "stderr",
     "output_type": "stream",
     "text": [
      "Loading required package: ade4\n",
      "\n",
      "code for methods in class “Rcpp_SpExtent” was not checked for suspicious field assignments (recommended package ‘codetools’ not available?)\n",
      "\n",
      "code for methods in class “Rcpp_SpExtent” was not checked for suspicious field assignments (recommended package ‘codetools’ not available?)\n",
      "\n",
      "code for methods in class “Rcpp_SpPoly” was not checked for suspicious field assignments (recommended package ‘codetools’ not available?)\n",
      "\n",
      "code for methods in class “Rcpp_SpPoly” was not checked for suspicious field assignments (recommended package ‘codetools’ not available?)\n",
      "\n",
      "code for methods in class “Rcpp_SpPolyPart” was not checked for suspicious field assignments (recommended package ‘codetools’ not available?)\n",
      "\n",
      "code for methods in class “Rcpp_SpPolyPart” was not checked for suspicious field assignments (recommended package ‘codetools’ not available?)\n",
      "\n",
      "code for methods in class “Rcpp_SpPolygons” was not checked for suspicious field assignments (recommended package ‘codetools’ not available?)\n",
      "\n",
      "code for methods in class “Rcpp_SpPolygons” was not checked for suspicious field assignments (recommended package ‘codetools’ not available?)\n",
      "\n",
      "Creating a generic function for ‘toJSON’ from package ‘jsonlite’ in package ‘googleVis’\n",
      "\n",
      "Registered S3 method overwritten by 'spdep':\n",
      "  method   from\n",
      "  plot.mst ape \n",
      "\n",
      "Registered S3 methods overwritten by 'adegraphics':\n",
      "  method         from\n",
      "  biplot.dudi    ade4\n",
      "  kplot.foucart  ade4\n",
      "  kplot.mcoa     ade4\n",
      "  kplot.mfa      ade4\n",
      "  kplot.pta      ade4\n",
      "  kplot.sepan    ade4\n",
      "  kplot.statis   ade4\n",
      "  scatter.coa    ade4\n",
      "  scatter.dudi   ade4\n",
      "  scatter.nipals ade4\n",
      "  scatter.pco    ade4\n",
      "  score.acm      ade4\n",
      "  score.mix      ade4\n",
      "  score.pca      ade4\n",
      "  screeplot.dudi ade4\n",
      "\n",
      "code for methods in class “Rcpp_Fitch” was not checked for suspicious field assignments (recommended package ‘codetools’ not available?)\n",
      "\n",
      "code for methods in class “Rcpp_Fitch” was not checked for suspicious field assignments (recommended package ‘codetools’ not available?)\n",
      "\n"
     ]
    },
    {
     "data": {
      "text/html": [
       "<table class=\"dataframe\">\n",
       "<caption>A data.frame: 20 × 5</caption>\n",
       "<thead>\n",
       "\t<tr><th scope=col>Type</th><th scope=col>Simulation</th><th scope=col>RFN_Distance</th><th scope=col>wRFN_Distance</th><th scope=col>KC_Distance</th></tr>\n",
       "\t<tr><th scope=col>&lt;chr&gt;</th><th scope=col>&lt;chr&gt;</th><th scope=col>&lt;dbl&gt;</th><th scope=col>&lt;dbl&gt;</th><th scope=col>&lt;dbl&gt;</th></tr>\n",
       "</thead>\n",
       "<tbody>\n",
       "\t<tr><td>reads   </td><td>alpha-0.5-cov-30</td><td>0.7241379</td><td>0.7241379</td><td> 82.28627</td></tr>\n",
       "\t<tr><td>reads   </td><td>alpha-1.0-cov-30</td><td>0.7413793</td><td>0.7413793</td><td> 86.40740</td></tr>\n",
       "\t<tr><td>reads   </td><td>alpha-2.0-cov-30</td><td>0.7586207</td><td>0.7586207</td><td> 71.60713</td></tr>\n",
       "\t<tr><td>reads   </td><td>alpha-5.0-cov-30</td><td>0.7413793</td><td>0.7413793</td><td> 85.31720</td></tr>\n",
       "\t<tr><td>reads   </td><td>cov-10          </td><td>0.7931034</td><td>0.7931034</td><td> 79.86547</td></tr>\n",
       "\t<tr><td>reads   </td><td>cov-20          </td><td>0.7413793</td><td>0.7413793</td><td> 83.07946</td></tr>\n",
       "\t<tr><td>reads   </td><td>cov-30          </td><td>0.7413793</td><td>0.7413793</td><td> 72.87955</td></tr>\n",
       "\t<tr><td>reads   </td><td>cov-40          </td><td>0.7413793</td><td>0.7413793</td><td> 92.04510</td></tr>\n",
       "\t<tr><td>reads   </td><td>cov-5           </td><td>0.9827586</td><td>0.9827586</td><td>144.96241</td></tr>\n",
       "\t<tr><td>reads   </td><td>cov-50          </td><td>0.7241379</td><td>0.7241379</td><td> 74.60191</td></tr>\n",
       "\t<tr><td>assembly</td><td>alpha-0.5-cov-30</td><td>0.7241379</td><td>0.7241379</td><td> 69.27142</td></tr>\n",
       "\t<tr><td>assembly</td><td>alpha-1.0-cov-30</td><td>0.7931034</td><td>0.7931034</td><td> 78.40766</td></tr>\n",
       "\t<tr><td>assembly</td><td>alpha-2.0-cov-30</td><td>0.9827586</td><td>0.9827586</td><td>190.39840</td></tr>\n",
       "\t<tr><td>assembly</td><td>alpha-5.0-cov-30</td><td>0.9827586</td><td>0.9827586</td><td>184.35175</td></tr>\n",
       "\t<tr><td>assembly</td><td>cov-10          </td><td>0.7586207</td><td>0.7586207</td><td> 68.29656</td></tr>\n",
       "\t<tr><td>assembly</td><td>cov-20          </td><td>0.6896552</td><td>0.6896552</td><td> 70.47171</td></tr>\n",
       "\t<tr><td>assembly</td><td>cov-30          </td><td>0.7068966</td><td>0.7068966</td><td> 73.23278</td></tr>\n",
       "\t<tr><td>assembly</td><td>cov-40          </td><td>0.7241379</td><td>0.7241379</td><td> 77.22222</td></tr>\n",
       "\t<tr><td>assembly</td><td>cov-5           </td><td>0.7068966</td><td>0.7068966</td><td> 69.51009</td></tr>\n",
       "\t<tr><td>assembly</td><td>cov-50          </td><td>0.7068966</td><td>0.7068966</td><td> 67.44297</td></tr>\n",
       "</tbody>\n",
       "</table>\n"
      ],
      "text/latex": [
       "A data.frame: 20 × 5\n",
       "\\begin{tabular}{lllll}\n",
       " Type & Simulation & RFN\\_Distance & wRFN\\_Distance & KC\\_Distance\\\\\n",
       " <chr> & <chr> & <dbl> & <dbl> & <dbl>\\\\\n",
       "\\hline\n",
       "\t reads    & alpha-0.5-cov-30 & 0.7241379 & 0.7241379 &  82.28627\\\\\n",
       "\t reads    & alpha-1.0-cov-30 & 0.7413793 & 0.7413793 &  86.40740\\\\\n",
       "\t reads    & alpha-2.0-cov-30 & 0.7586207 & 0.7586207 &  71.60713\\\\\n",
       "\t reads    & alpha-5.0-cov-30 & 0.7413793 & 0.7413793 &  85.31720\\\\\n",
       "\t reads    & cov-10           & 0.7931034 & 0.7931034 &  79.86547\\\\\n",
       "\t reads    & cov-20           & 0.7413793 & 0.7413793 &  83.07946\\\\\n",
       "\t reads    & cov-30           & 0.7413793 & 0.7413793 &  72.87955\\\\\n",
       "\t reads    & cov-40           & 0.7413793 & 0.7413793 &  92.04510\\\\\n",
       "\t reads    & cov-5            & 0.9827586 & 0.9827586 & 144.96241\\\\\n",
       "\t reads    & cov-50           & 0.7241379 & 0.7241379 &  74.60191\\\\\n",
       "\t assembly & alpha-0.5-cov-30 & 0.7241379 & 0.7241379 &  69.27142\\\\\n",
       "\t assembly & alpha-1.0-cov-30 & 0.7931034 & 0.7931034 &  78.40766\\\\\n",
       "\t assembly & alpha-2.0-cov-30 & 0.9827586 & 0.9827586 & 190.39840\\\\\n",
       "\t assembly & alpha-5.0-cov-30 & 0.9827586 & 0.9827586 & 184.35175\\\\\n",
       "\t assembly & cov-10           & 0.7586207 & 0.7586207 &  68.29656\\\\\n",
       "\t assembly & cov-20           & 0.6896552 & 0.6896552 &  70.47171\\\\\n",
       "\t assembly & cov-30           & 0.7068966 & 0.7068966 &  73.23278\\\\\n",
       "\t assembly & cov-40           & 0.7241379 & 0.7241379 &  77.22222\\\\\n",
       "\t assembly & cov-5            & 0.7068966 & 0.7068966 &  69.51009\\\\\n",
       "\t assembly & cov-50           & 0.7068966 & 0.7068966 &  67.44297\\\\\n",
       "\\end{tabular}\n"
      ],
      "text/markdown": [
       "\n",
       "A data.frame: 20 × 5\n",
       "\n",
       "| Type &lt;chr&gt; | Simulation &lt;chr&gt; | RFN_Distance &lt;dbl&gt; | wRFN_Distance &lt;dbl&gt; | KC_Distance &lt;dbl&gt; |\n",
       "|---|---|---|---|---|\n",
       "| reads    | alpha-0.5-cov-30 | 0.7241379 | 0.7241379 |  82.28627 |\n",
       "| reads    | alpha-1.0-cov-30 | 0.7413793 | 0.7413793 |  86.40740 |\n",
       "| reads    | alpha-2.0-cov-30 | 0.7586207 | 0.7586207 |  71.60713 |\n",
       "| reads    | alpha-5.0-cov-30 | 0.7413793 | 0.7413793 |  85.31720 |\n",
       "| reads    | cov-10           | 0.7931034 | 0.7931034 |  79.86547 |\n",
       "| reads    | cov-20           | 0.7413793 | 0.7413793 |  83.07946 |\n",
       "| reads    | cov-30           | 0.7413793 | 0.7413793 |  72.87955 |\n",
       "| reads    | cov-40           | 0.7413793 | 0.7413793 |  92.04510 |\n",
       "| reads    | cov-5            | 0.9827586 | 0.9827586 | 144.96241 |\n",
       "| reads    | cov-50           | 0.7241379 | 0.7241379 |  74.60191 |\n",
       "| assembly | alpha-0.5-cov-30 | 0.7241379 | 0.7241379 |  69.27142 |\n",
       "| assembly | alpha-1.0-cov-30 | 0.7931034 | 0.7931034 |  78.40766 |\n",
       "| assembly | alpha-2.0-cov-30 | 0.9827586 | 0.9827586 | 190.39840 |\n",
       "| assembly | alpha-5.0-cov-30 | 0.9827586 | 0.9827586 | 184.35175 |\n",
       "| assembly | cov-10           | 0.7586207 | 0.7586207 |  68.29656 |\n",
       "| assembly | cov-20           | 0.6896552 | 0.6896552 |  70.47171 |\n",
       "| assembly | cov-30           | 0.7068966 | 0.7068966 |  73.23278 |\n",
       "| assembly | cov-40           | 0.7241379 | 0.7241379 |  77.22222 |\n",
       "| assembly | cov-5            | 0.7068966 | 0.7068966 |  69.51009 |\n",
       "| assembly | cov-50           | 0.7068966 | 0.7068966 |  67.44297 |\n",
       "\n"
      ],
      "text/plain": [
       "   Type     Simulation       RFN_Distance wRFN_Distance KC_Distance\n",
       "1  reads    alpha-0.5-cov-30 0.7241379    0.7241379      82.28627  \n",
       "2  reads    alpha-1.0-cov-30 0.7413793    0.7413793      86.40740  \n",
       "3  reads    alpha-2.0-cov-30 0.7586207    0.7586207      71.60713  \n",
       "4  reads    alpha-5.0-cov-30 0.7413793    0.7413793      85.31720  \n",
       "5  reads    cov-10           0.7931034    0.7931034      79.86547  \n",
       "6  reads    cov-20           0.7413793    0.7413793      83.07946  \n",
       "7  reads    cov-30           0.7413793    0.7413793      72.87955  \n",
       "8  reads    cov-40           0.7413793    0.7413793      92.04510  \n",
       "9  reads    cov-5            0.9827586    0.9827586     144.96241  \n",
       "10 reads    cov-50           0.7241379    0.7241379      74.60191  \n",
       "11 assembly alpha-0.5-cov-30 0.7241379    0.7241379      69.27142  \n",
       "12 assembly alpha-1.0-cov-30 0.7931034    0.7931034      78.40766  \n",
       "13 assembly alpha-2.0-cov-30 0.9827586    0.9827586     190.39840  \n",
       "14 assembly alpha-5.0-cov-30 0.9827586    0.9827586     184.35175  \n",
       "15 assembly cov-10           0.7586207    0.7586207      68.29656  \n",
       "16 assembly cov-20           0.6896552    0.6896552      70.47171  \n",
       "17 assembly cov-30           0.7068966    0.7068966      73.23278  \n",
       "18 assembly cov-40           0.7241379    0.7241379      77.22222  \n",
       "19 assembly cov-5            0.7068966    0.7068966      69.51009  \n",
       "20 assembly cov-50           0.7068966    0.7068966      67.44297  "
      ]
     },
     "metadata": {},
     "output_type": "display_data"
    }
   ],
   "source": [
    "library(treespace)\n",
    "\n",
    "reference_other_distances <- function(reference_tree, other_trees, dist_func) {\n",
    "    distances <- c()\n",
    "    labels <- names(other_trees)\n",
    "    for(label in labels) {\n",
    "        tree <- other_trees[[label]]\n",
    "        distance <- dist_func(reference_tree, tree, normalize=TRUE, rooted=TRUE)\n",
    "        distances <- c(distances, distance)\n",
    "    }\n",
    "    \n",
    "    return(distances)\n",
    "}\n",
    "\n",
    "tree_distances_reference <- function(reference_tree, read_trees, assembly_trees) {\n",
    "    types <- c(rep(\"reads\", each=length(read_trees)), rep(\"assembly\", each=length(assembly_trees)))\n",
    "    labels <- c(names(read_trees), names(assembly_trees))\n",
    "    lambda <- 0.5\n",
    "    distances = c(treespace::refTreeDist(reference_tree, read_trees, lambda=lambda),\n",
    "                 treespace::refTreeDist(reference_tree, assembly_trees, lambda=lambda))\n",
    "    \n",
    "    rfn_distance_reads <- reference_other_distances(t_orig, read_trees, phangorn::RF.dist)\n",
    "    rfn_distance_assemblies <- reference_other_distances(t_orig, assembly_trees, phangorn::RF.dist)\n",
    "    rfn_distances <- c(rfn_distance_reads, rfn_distance_assemblies)\n",
    "    \n",
    "    wrfn_distance_reads <- reference_other_distances(t_orig, read_trees, phangorn::wRF.dist)\n",
    "    wrfn_distance_assemblies <- reference_other_distances(t_orig, assembly_trees, phangorn::wRF.dist)\n",
    "    wrfn_distances <- c(rfn_distance_reads, rfn_distance_assemblies)\n",
    "    \n",
    "    df <- data.frame(\n",
    "               Type = types,\n",
    "               Simulation = labels,\n",
    "               RFN_Distance = rfn_distances,\n",
    "               wRFN_Distance = wrfn_distances,\n",
    "               KC_Distance = distances)\n",
    "    \n",
    "    return(df)\n",
    "}\n",
    "\n",
    "tree_distances_df <- tree_distances_reference(t_orig, t_reads, t_assemblies)\n",
    "# tree_distances_df[\"Coverage\"] <- as.numeric(tree_distances_df$Coverage)\n",
    "tree_distances_df"
   ]
  },
  {
   "cell_type": "code",
   "execution_count": 5,
   "metadata": {},
   "outputs": [],
   "source": [
    "write.table(tree_distances_df, trees_table_file, append = FALSE, sep = \"\\t\", dec = \".\",\n",
    "            row.names = FALSE, col.names = TRUE)"
   ]
  },
  {
   "cell_type": "markdown",
   "metadata": {},
   "source": [
    "# 3. Visualize trees"
   ]
  },
  {
   "cell_type": "code",
   "execution_count": 6,
   "metadata": {},
   "outputs": [
    {
     "data": {
      "text/html": [
       "<style>\n",
       ".list-inline {list-style: none; margin:0; padding: 0}\n",
       ".list-inline>li {display: inline-block}\n",
       ".list-inline>li:not(:last-child)::after {content: \"\\00b7\"; padding: 0 .5ex}\n",
       "</style>\n",
       "<ol class=list-inline><li>'alpha-0.5-cov-30'</li><li>'alpha-1.0-cov-30'</li><li>'alpha-2.0-cov-30'</li><li>'alpha-5.0-cov-30'</li><li>'cov-10'</li><li>'cov-20'</li><li>'cov-30'</li><li>'cov-40'</li><li>'cov-5'</li><li>'cov-50'</li></ol>\n"
      ],
      "text/latex": [
       "\\begin{enumerate*}\n",
       "\\item 'alpha-0.5-cov-30'\n",
       "\\item 'alpha-1.0-cov-30'\n",
       "\\item 'alpha-2.0-cov-30'\n",
       "\\item 'alpha-5.0-cov-30'\n",
       "\\item 'cov-10'\n",
       "\\item 'cov-20'\n",
       "\\item 'cov-30'\n",
       "\\item 'cov-40'\n",
       "\\item 'cov-5'\n",
       "\\item 'cov-50'\n",
       "\\end{enumerate*}\n"
      ],
      "text/markdown": [
       "1. 'alpha-0.5-cov-30'\n",
       "2. 'alpha-1.0-cov-30'\n",
       "3. 'alpha-2.0-cov-30'\n",
       "4. 'alpha-5.0-cov-30'\n",
       "5. 'cov-10'\n",
       "6. 'cov-20'\n",
       "7. 'cov-30'\n",
       "8. 'cov-40'\n",
       "9. 'cov-5'\n",
       "10. 'cov-50'\n",
       "\n",
       "\n"
      ],
      "text/plain": [
       " [1] \"alpha-0.5-cov-30\" \"alpha-1.0-cov-30\" \"alpha-2.0-cov-30\" \"alpha-5.0-cov-30\"\n",
       " [5] \"cov-10\"           \"cov-20\"           \"cov-30\"           \"cov-40\"          \n",
       " [9] \"cov-5\"            \"cov-50\"          "
      ]
     },
     "metadata": {},
     "output_type": "display_data"
    }
   ],
   "source": [
    "names(t_reads)"
   ]
  },
  {
   "cell_type": "code",
   "execution_count": 7,
   "metadata": {},
   "outputs": [
    {
     "name": "stderr",
     "output_type": "stream",
     "text": [
      "Loading required package: maps\n",
      "\n"
     ]
    },
    {
     "name": "stdout",
     "output_type": "stream",
     "text": [
      "Rotating nodes to optimize matching...\n",
      "Done.\n"
     ]
    },
    {
     "data": {
      "text/html": [
       "<strong>png:</strong> 2"
      ],
      "text/latex": [
       "\\textbf{png:} 2"
      ],
      "text/markdown": [
       "**png:** 2"
      ],
      "text/plain": [
       "png \n",
       "  2 "
      ]
     },
     "metadata": {},
     "output_type": "display_data"
    }
   ],
   "source": [
    "library(phytools)\n",
    "\n",
    "simulation <- \"cov-30\"\n",
    "label <- sprintf(\"cov=30, alpha=0.2\")\n",
    "rfn_distance <- tree_distances_df[tree_distances_df[\"Simulation\"] == simulation & tree_distances_df[\"Type\"] == \"reads\", \"RFN_Distance\"]\n",
    "kc_distance <- tree_distances_df[tree_distances_df[\"Simulation\"] == simulation & tree_distances_df[\"Type\"] == \"reads\", \"KC_Distance\"]\n",
    "\n",
    "pdf(file = sprintf(\"figures/original-reads-tree-%s.pdf\", label))\n",
    "options(repr.plot.width=8, repr.plot.height=10)\n",
    "par(mar = c(1,1,5,1), oma=c(1,2,3,2))\n",
    "plot(phytools::cophylo(t_orig, t_reads[[simulation]], rotate=TRUE),\n",
    "     fsize=0.5, scale.bar=c(0.1,0.01),\n",
    "     link.type=\"curved\", link.col=\"#777777\", link.lwd=1.5, link.lty=1)\n",
    "title(main=sprintf(\"Comparison of original tree to tree constructed from reads\\n (%s, NRF=%0.2f, KC=%0.1f)\",\n",
    "                   label, rfn_distance, kc_distance), outer=TRUE)\n",
    "mtext(\"Original tree\", side=2, cex=1.3)\n",
    "mtext(sprintf(\"Constructed tree (reads, %s)\", label), side=4, cex=1.3)\n",
    "\n",
    "dev.off()"
   ]
  },
  {
   "cell_type": "code",
   "execution_count": 8,
   "metadata": {},
   "outputs": [
    {
     "name": "stdout",
     "output_type": "stream",
     "text": [
      "Rotating nodes to optimize matching...\n",
      "Done.\n"
     ]
    },
    {
     "data": {
      "text/html": [
       "<strong>png:</strong> 2"
      ],
      "text/latex": [
       "\\textbf{png:} 2"
      ],
      "text/markdown": [
       "**png:** 2"
      ],
      "text/plain": [
       "png \n",
       "  2 "
      ]
     },
     "metadata": {},
     "output_type": "display_data"
    }
   ],
   "source": [
    "# There is no applicable coverage value for assemblies, but I did re-build the assemblies trees\n",
    "# For every coverage value for the reads. So I'm just picking the best-scoring (NRF) tree\n",
    "simulation <- \"cov-5\"\n",
    "label <- sprintf(\"alpha=0.2\")\n",
    "\n",
    "rfn_distance <- tree_distances_df[tree_distances_df[\"Simulation\"] == simulation & tree_distances_df[\"Type\"] == \"assembly\", \"RFN_Distance\"]\n",
    "kc_distance <- tree_distances_df[tree_distances_df[\"Simulation\"] == simulation & tree_distances_df[\"Type\"] == \"assembly\", \"KC_Distance\"]\n",
    "\n",
    "pdf(file = sprintf(\"figures/original-assemblies-tree-%s.pdf\", label))\n",
    "options(repr.plot.width=8, repr.plot.height=10)\n",
    "par(mar = c(1,1,5,1), oma=c(1,2,3,2))\n",
    "plot(phytools::cophylo(t_orig, t_assemblies[[simulation]], rotate=TRUE),\n",
    "     fsize=0.5, scale.bar=c(0.1,0.01), link.lty=1,\n",
    "     link.type=\"curved\", link.col=\"#777777\", link.lwd=1.5)\n",
    "title(main=sprintf(\"Comparison of original tree to tree constructed from an assembly\\n (%s, NRF=%0.2f, KC=%0.1f)\",\n",
    "                   label, rfn_distance, kc_distance), outer=TRUE)\n",
    "mtext(\"Original tree\", side=2, cex=1.3)\n",
    "mtext(sprintf(\"Constructed tree (assembly, %s)\", label), side=4, cex=1.3)\n",
    "\n",
    "dev.off()"
   ]
  },
  {
   "cell_type": "code",
   "execution_count": 9,
   "metadata": {},
   "outputs": [
    {
     "name": "stdout",
     "output_type": "stream",
     "text": [
      "Rotating nodes to optimize matching...\n",
      "Done.\n"
     ]
    },
    {
     "data": {
      "text/html": [
       "<strong>png:</strong> 2"
      ],
      "text/latex": [
       "\\textbf{png:} 2"
      ],
      "text/markdown": [
       "**png:** 2"
      ],
      "text/plain": [
       "png \n",
       "  2 "
      ]
     },
     "metadata": {},
     "output_type": "display_data"
    }
   ],
   "source": [
    "simulation <- \"alpha-5.0-cov-30\"\n",
    "label <- sprintf(\"cov=30, alpha=5.0\")\n",
    "rfn_distance <- tree_distances_df[tree_distances_df[\"Simulation\"] == simulation & tree_distances_df[\"Type\"] == \"reads\", \"RFN_Distance\"]\n",
    "kc_distance <- tree_distances_df[tree_distances_df[\"Simulation\"] == simulation & tree_distances_df[\"Type\"] == \"reads\", \"KC_Distance\"]\n",
    "\n",
    "pdf(file = sprintf(\"figures/original-reads-tree-%s.pdf\", label))\n",
    "options(repr.plot.width=8, repr.plot.height=10)\n",
    "par(mar = c(1,1,5,1), oma=c(1,2,3,2))\n",
    "plot(phytools::cophylo(t_orig, t_reads[[simulation]], rotate=TRUE),\n",
    "     fsize=0.5, scale.bar=c(0.1,0.01),\n",
    "     link.type=\"curved\", link.col=\"#777777\", link.lwd=1.5, link.lty=1)\n",
    "title(main=sprintf(\"Comparison of original tree to tree constructed from reads\\n (%s, NRF=%0.2f, KC=%0.1f)\",\n",
    "                   label, rfn_distance, kc_distance), outer=TRUE)\n",
    "mtext(\"Original tree\", side=2, cex=1.3)\n",
    "mtext(sprintf(\"Constructed tree (reads, %s)\", label), side=4, cex=1.3)\n",
    "\n",
    "dev.off()"
   ]
  }
 ],
 "metadata": {
  "kernelspec": {
   "display_name": "R",
   "language": "R",
   "name": "ir"
  },
  "language_info": {
   "codemirror_mode": "r",
   "file_extension": ".r",
   "mimetype": "text/x-r-source",
   "name": "R",
   "pygments_lexer": "r",
   "version": "4.1.1"
  }
 },
 "nbformat": 4,
 "nbformat_minor": 4
}
