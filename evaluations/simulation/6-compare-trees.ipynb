{
 "cells": [
  {
   "cell_type": "markdown",
   "metadata": {},
   "source": [
    "# 1. Parameters"
   ]
  },
  {
   "cell_type": "code",
   "execution_count": 1,
   "metadata": {
    "tags": []
   },
   "outputs": [],
   "source": [
    "simulation_dir <- \"simulations\"\n",
    "\n",
    "coverage_cases <- c(5, 10, 20, 30, 40, 50)\n",
    "coverage_paths <- sapply(coverage_cases, function(x){file.path(simulation_dir, sprintf(\"cov-%s\", x))})\n",
    "coverage_read_trees <- sapply(coverage_paths, function(x){file.path(x, \"index-reads\", \"reads.tre\")})\n",
    "coverage_assembly_trees <- sapply(coverage_paths, function(x){file.path(x, \"index-assemblies\", \"assemblies.tre\")})\n",
    "\n",
    "names(coverage_read_trees) <- coverage_cases\n",
    "names(coverage_assembly_trees) <- coverage_cases\n",
    "\n",
    "initial_tree_file <- \"input/salmonella.tre\"\n",
    "trees_table_file <- file.path(simulation_dir, \"tree-comparisons.tsv\")"
   ]
  },
  {
   "cell_type": "markdown",
   "metadata": {},
   "source": [
    "# 2. Compare trees\n",
    "\n",
    "## 2.1. Load trees"
   ]
  },
  {
   "cell_type": "code",
   "execution_count": 2,
   "metadata": {},
   "outputs": [],
   "source": [
    "library(ape)\n",
    "\n",
    "read_and_root_tree <- function(file, keep.multi) {\n",
    "    tree <- ape::read.tree(file=file, keep.multi=keep.multi)\n",
    "    tree <- ape::root(tree, \"reference\", resolve.root=TRUE)\n",
    "    \n",
    "    return(tree)\n",
    "}\n",
    "\n",
    "t_orig <- read_and_root_tree(file=initial_tree_file, keep.multi=FALSE)\n",
    "\n",
    "t_reads <- lapply(coverage_read_trees, function(x){read_and_root_tree(file=x, keep.multi=TRUE)})\n",
    "t_reads <- do.call(c, unlist(t_reads, recursive=FALSE))\n",
    "t_assemblies <- lapply(coverage_assembly_trees, function(x){read_and_root_tree(file=x, keep.multi=TRUE)})\n",
    "t_assemblies <- do.call(c, unlist(t_assemblies, recursive=FALSE))"
   ]
  },
  {
   "cell_type": "markdown",
   "metadata": {},
   "source": [
    "## 2.2. Distances between trees"
   ]
  },
  {
   "cell_type": "code",
   "execution_count": 3,
   "metadata": {},
   "outputs": [
    {
     "name": "stderr",
     "output_type": "stream",
     "text": [
      "Loading required package: ade4\n",
      "\n",
      "code for methods in class “Rcpp_SpExtent” was not checked for suspicious field assignments (recommended package ‘codetools’ not available?)\n",
      "\n",
      "code for methods in class “Rcpp_SpExtent” was not checked for suspicious field assignments (recommended package ‘codetools’ not available?)\n",
      "\n",
      "code for methods in class “Rcpp_SpPoly” was not checked for suspicious field assignments (recommended package ‘codetools’ not available?)\n",
      "\n",
      "code for methods in class “Rcpp_SpPoly” was not checked for suspicious field assignments (recommended package ‘codetools’ not available?)\n",
      "\n",
      "code for methods in class “Rcpp_SpPolyPart” was not checked for suspicious field assignments (recommended package ‘codetools’ not available?)\n",
      "\n",
      "code for methods in class “Rcpp_SpPolyPart” was not checked for suspicious field assignments (recommended package ‘codetools’ not available?)\n",
      "\n",
      "code for methods in class “Rcpp_SpPolygons” was not checked for suspicious field assignments (recommended package ‘codetools’ not available?)\n",
      "\n",
      "code for methods in class “Rcpp_SpPolygons” was not checked for suspicious field assignments (recommended package ‘codetools’ not available?)\n",
      "\n",
      "Creating a generic function for ‘toJSON’ from package ‘jsonlite’ in package ‘googleVis’\n",
      "\n",
      "Registered S3 method overwritten by 'spdep':\n",
      "  method   from\n",
      "  plot.mst ape \n",
      "\n",
      "Registered S3 methods overwritten by 'adegraphics':\n",
      "  method         from\n",
      "  biplot.dudi    ade4\n",
      "  kplot.foucart  ade4\n",
      "  kplot.mcoa     ade4\n",
      "  kplot.mfa      ade4\n",
      "  kplot.pta      ade4\n",
      "  kplot.sepan    ade4\n",
      "  kplot.statis   ade4\n",
      "  scatter.coa    ade4\n",
      "  scatter.dudi   ade4\n",
      "  scatter.nipals ade4\n",
      "  scatter.pco    ade4\n",
      "  score.acm      ade4\n",
      "  score.mix      ade4\n",
      "  score.pca      ade4\n",
      "  screeplot.dudi ade4\n",
      "\n",
      "code for methods in class “Rcpp_Fitch” was not checked for suspicious field assignments (recommended package ‘codetools’ not available?)\n",
      "\n",
      "code for methods in class “Rcpp_Fitch” was not checked for suspicious field assignments (recommended package ‘codetools’ not available?)\n",
      "\n"
     ]
    },
    {
     "data": {
      "text/html": [
       "<table class=\"dataframe\">\n",
       "<caption>A data.frame: 12 × 4</caption>\n",
       "<thead>\n",
       "\t<tr><th scope=col>Types</th><th scope=col>Coverage</th><th scope=col>RF_Distance</th><th scope=col>KC_Distance</th></tr>\n",
       "\t<tr><th scope=col>&lt;chr&gt;</th><th scope=col>&lt;dbl&gt;</th><th scope=col>&lt;dbl&gt;</th><th scope=col>&lt;dbl&gt;</th></tr>\n",
       "</thead>\n",
       "<tbody>\n",
       "\t<tr><td>reads   </td><td> 5</td><td>112</td><td>249.91242</td></tr>\n",
       "\t<tr><td>reads   </td><td>10</td><td> 84</td><td> 79.78536</td></tr>\n",
       "\t<tr><td>reads   </td><td>20</td><td> 78</td><td> 86.85927</td></tr>\n",
       "\t<tr><td>reads   </td><td>30</td><td> 90</td><td> 86.04379</td></tr>\n",
       "\t<tr><td>reads   </td><td>40</td><td> 88</td><td>101.09099</td></tr>\n",
       "\t<tr><td>reads   </td><td>50</td><td> 90</td><td> 94.77731</td></tr>\n",
       "\t<tr><td>assembly</td><td> 5</td><td> 78</td><td> 74.55910</td></tr>\n",
       "\t<tr><td>assembly</td><td>10</td><td> 82</td><td> 71.47704</td></tr>\n",
       "\t<tr><td>assembly</td><td>20</td><td> 84</td><td> 77.11151</td></tr>\n",
       "\t<tr><td>assembly</td><td>30</td><td> 82</td><td> 62.74741</td></tr>\n",
       "\t<tr><td>assembly</td><td>40</td><td> 84</td><td> 76.74432</td></tr>\n",
       "\t<tr><td>assembly</td><td>50</td><td> 80</td><td> 73.80558</td></tr>\n",
       "</tbody>\n",
       "</table>\n"
      ],
      "text/latex": [
       "A data.frame: 12 × 4\n",
       "\\begin{tabular}{llll}\n",
       " Types & Coverage & RF\\_Distance & KC\\_Distance\\\\\n",
       " <chr> & <dbl> & <dbl> & <dbl>\\\\\n",
       "\\hline\n",
       "\t reads    &  5 & 112 & 249.91242\\\\\n",
       "\t reads    & 10 &  84 &  79.78536\\\\\n",
       "\t reads    & 20 &  78 &  86.85927\\\\\n",
       "\t reads    & 30 &  90 &  86.04379\\\\\n",
       "\t reads    & 40 &  88 & 101.09099\\\\\n",
       "\t reads    & 50 &  90 &  94.77731\\\\\n",
       "\t assembly &  5 &  78 &  74.55910\\\\\n",
       "\t assembly & 10 &  82 &  71.47704\\\\\n",
       "\t assembly & 20 &  84 &  77.11151\\\\\n",
       "\t assembly & 30 &  82 &  62.74741\\\\\n",
       "\t assembly & 40 &  84 &  76.74432\\\\\n",
       "\t assembly & 50 &  80 &  73.80558\\\\\n",
       "\\end{tabular}\n"
      ],
      "text/markdown": [
       "\n",
       "A data.frame: 12 × 4\n",
       "\n",
       "| Types &lt;chr&gt; | Coverage &lt;dbl&gt; | RF_Distance &lt;dbl&gt; | KC_Distance &lt;dbl&gt; |\n",
       "|---|---|---|---|\n",
       "| reads    |  5 | 112 | 249.91242 |\n",
       "| reads    | 10 |  84 |  79.78536 |\n",
       "| reads    | 20 |  78 |  86.85927 |\n",
       "| reads    | 30 |  90 |  86.04379 |\n",
       "| reads    | 40 |  88 | 101.09099 |\n",
       "| reads    | 50 |  90 |  94.77731 |\n",
       "| assembly |  5 |  78 |  74.55910 |\n",
       "| assembly | 10 |  82 |  71.47704 |\n",
       "| assembly | 20 |  84 |  77.11151 |\n",
       "| assembly | 30 |  82 |  62.74741 |\n",
       "| assembly | 40 |  84 |  76.74432 |\n",
       "| assembly | 50 |  80 |  73.80558 |\n",
       "\n"
      ],
      "text/plain": [
       "   Types    Coverage RF_Distance KC_Distance\n",
       "1  reads     5       112         249.91242  \n",
       "2  reads    10        84          79.78536  \n",
       "3  reads    20        78          86.85927  \n",
       "4  reads    30        90          86.04379  \n",
       "5  reads    40        88         101.09099  \n",
       "6  reads    50        90          94.77731  \n",
       "7  assembly  5        78          74.55910  \n",
       "8  assembly 10        82          71.47704  \n",
       "9  assembly 20        84          77.11151  \n",
       "10 assembly 30        82          62.74741  \n",
       "11 assembly 40        84          76.74432  \n",
       "12 assembly 50        80          73.80558  "
      ]
     },
     "metadata": {},
     "output_type": "display_data"
    }
   ],
   "source": [
    "library(treespace)\n",
    "\n",
    "reference_other_distances <- function(reference_tree, other_trees) {\n",
    "    rf_distances <- c()\n",
    "    bs_distances <- c()\n",
    "    labels <- names(other_trees)\n",
    "    for(label in labels) {\n",
    "        tree <- other_trees[[label]]\n",
    "        other_distances <- phangorn::treedist(reference_tree, tree)\n",
    "        rf_distances <- c(rf_distances, other_distances[\"symmetric.difference\"])\n",
    "    }\n",
    "    \n",
    "    return(rf_distances)\n",
    "}\n",
    "\n",
    "tree_distances_reference <- function(reference_tree, read_trees, assembly_trees, label_name) {\n",
    "    types <- c(rep(\"reads\", each=length(read_trees)), rep(\"assembly\", each=length(assembly_trees)))\n",
    "    labels <- c(names(read_trees), names(assembly_trees))\n",
    "    lambda <- 0.5\n",
    "    distances = c(treespace::refTreeDist(reference_tree, read_trees, lambda=lambda),\n",
    "                 treespace::refTreeDist(reference_tree, assembly_trees, lambda=lambda))\n",
    "    other_distances_reads <- reference_other_distances(t_orig, read_trees)\n",
    "    other_distances_assemblies <- reference_other_distances(t_orig, assembly_trees)\n",
    "    rf_distances <- c(other_distances_reads, other_distances_assemblies)\n",
    "    df <- data.frame(\n",
    "               Types = types,\n",
    "               Coverage = labels,\n",
    "               RF_Distance = rf_distances,\n",
    "               KC_Distance = distances)\n",
    "    \n",
    "    return(df)\n",
    "}\n",
    "\n",
    "tree_distances_df <- tree_distances_reference(t_orig, t_reads, t_assemblies, \"Coverage\")\n",
    "tree_distances_df[\"Coverage\"] <- as.numeric(tree_distances_df$Coverage)\n",
    "tree_distances_df"
   ]
  },
  {
   "cell_type": "code",
   "execution_count": 4,
   "metadata": {},
   "outputs": [],
   "source": [
    "write.table(tree_distances_df, trees_table_file, append = FALSE, sep = \"\\t\", dec = \".\",\n",
    "            row.names = FALSE, col.names = TRUE)"
   ]
  },
  {
   "cell_type": "markdown",
   "metadata": {},
   "source": [
    "# 3. Visualize trees"
   ]
  },
  {
   "cell_type": "code",
   "execution_count": null,
   "metadata": {},
   "outputs": [],
   "source": []
  }
 ],
 "metadata": {
  "kernelspec": {
   "display_name": "R",
   "language": "R",
   "name": "ir"
  },
  "language_info": {
   "codemirror_mode": "r",
   "file_extension": ".r",
   "mimetype": "text/x-r-source",
   "name": "R",
   "pygments_lexer": "r",
   "version": "4.1.1"
  }
 },
 "nbformat": 4,
 "nbformat_minor": 4
}
