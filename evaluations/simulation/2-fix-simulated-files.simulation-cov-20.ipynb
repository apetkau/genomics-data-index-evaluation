{
 "cells": [
  {
   "cell_type": "markdown",
   "id": "acfa5482-d626-44d6-b613-863e6911fa98",
   "metadata": {
    "papermill": {
     "duration": 0.014768,
     "end_time": "2021-09-02T02:51:29.825993",
     "exception": false,
     "start_time": "2021-09-02T02:51:29.811225",
     "status": "completed"
    },
    "tags": []
   },
   "source": [
    "# 1. Parameters"
   ]
  },
  {
   "cell_type": "code",
   "execution_count": 1,
   "id": "36126d74-a9d8-4431-ba49-767c1fc2ec49",
   "metadata": {
    "execution": {
     "iopub.execute_input": "2021-09-02T02:51:29.856440Z",
     "iopub.status.busy": "2021-09-02T02:51:29.855868Z",
     "iopub.status.idle": "2021-09-02T02:51:29.860301Z",
     "shell.execute_reply": "2021-09-02T02:51:29.860895Z"
    },
    "papermill": {
     "duration": 0.025855,
     "end_time": "2021-09-02T02:51:29.861197",
     "exception": false,
     "start_time": "2021-09-02T02:51:29.835342",
     "status": "completed"
    },
    "tags": [
     "parameters"
    ]
   },
   "outputs": [],
   "source": [
    "# Defaults\n",
    "simulation_dir = 'simulations/unset'\n",
    "ncores = 48"
   ]
  },
  {
   "cell_type": "code",
   "execution_count": 2,
   "id": "82c5b26a",
   "metadata": {
    "execution": {
     "iopub.execute_input": "2021-09-02T02:51:29.883300Z",
     "iopub.status.busy": "2021-09-02T02:51:29.882845Z",
     "iopub.status.idle": "2021-09-02T02:51:29.885758Z",
     "shell.execute_reply": "2021-09-02T02:51:29.886095Z"
    },
    "papermill": {
     "duration": 0.016347,
     "end_time": "2021-09-02T02:51:29.886219",
     "exception": false,
     "start_time": "2021-09-02T02:51:29.869872",
     "status": "completed"
    },
    "tags": [
     "injected-parameters"
    ]
   },
   "outputs": [],
   "source": [
    "# Parameters\n",
    "read_coverage = 20\n",
    "mincov = 10\n",
    "simulation_dir = \"simulations/cov-20\"\n",
    "iterations = 3\n"
   ]
  },
  {
   "cell_type": "code",
   "execution_count": 3,
   "id": "15e911d7-0ffc-4110-aefe-71bc77e689cd",
   "metadata": {
    "execution": {
     "iopub.execute_input": "2021-09-02T02:51:29.906652Z",
     "iopub.status.busy": "2021-09-02T02:51:29.906233Z",
     "iopub.status.idle": "2021-09-02T02:51:29.909329Z",
     "shell.execute_reply": "2021-09-02T02:51:29.909749Z"
    },
    "papermill": {
     "duration": 0.017315,
     "end_time": "2021-09-02T02:51:29.909892",
     "exception": false,
     "start_time": "2021-09-02T02:51:29.892577",
     "status": "completed"
    },
    "tags": []
   },
   "outputs": [],
   "source": [
    "from pathlib import Path\n",
    "import os\n",
    "\n",
    "simulation_data_dir = Path(simulation_dir) / 'simulated_data'\n",
    "initial_reads_dir = simulation_data_dir / 'reads_initial'\n",
    "reads_dir = simulation_data_dir / 'reads'\n",
    "assemblies_dir = simulation_data_dir / 'assemblies'\n",
    "\n",
    "if not reads_dir.exists():\n",
    "    os.mkdir(reads_dir)"
   ]
  },
  {
   "cell_type": "markdown",
   "id": "rotary-regard",
   "metadata": {
    "papermill": {
     "duration": 0.005292,
     "end_time": "2021-09-02T02:51:29.921474",
     "exception": false,
     "start_time": "2021-09-02T02:51:29.916182",
     "status": "completed"
    },
    "tags": []
   },
   "source": [
    "# 2. Fix reads\n",
    "\n",
    "Fix read file names and data so they can be indexed."
   ]
  },
  {
   "cell_type": "code",
   "execution_count": 4,
   "id": "convenient-blackberry",
   "metadata": {
    "execution": {
     "iopub.execute_input": "2021-09-02T02:51:29.943226Z",
     "iopub.status.busy": "2021-09-02T02:51:29.937703Z",
     "iopub.status.idle": "2021-09-02T02:51:30.118645Z",
     "shell.execute_reply": "2021-09-02T02:51:30.119510Z"
    },
    "papermill": {
     "duration": 0.193379,
     "end_time": "2021-09-02T02:51:30.119817",
     "exception": false,
     "start_time": "2021-09-02T02:51:29.926438",
     "status": "completed"
    },
    "tags": []
   },
   "outputs": [
    {
     "name": "stdout",
     "output_type": "stream",
     "text": [
      "~/workspace/genomics-data-index-evaluation/evaluations/simulation/simulations/cov-20/simulated_data/reads_initial ~/workspace/genomics-data-index-evaluation/evaluations/simulation\r\n"
     ]
    },
    {
     "name": "stdout",
     "output_type": "stream",
     "text": [
      "~/workspace/genomics-data-index-evaluation/evaluations/simulation\r\n"
     ]
    }
   ],
   "source": [
    "import os\n",
    "\n",
    "# Fix warning about locale unset\n",
    "os.environ['LANG'] = 'en_US.UTF-8'\n",
    "\n",
    "!pushd {initial_reads_dir}; prename 's/data_//' *.fq.gz; popd"
   ]
  },
  {
   "cell_type": "markdown",
   "id": "median-belle",
   "metadata": {
    "papermill": {
     "duration": 0.008423,
     "end_time": "2021-09-02T02:51:30.141480",
     "exception": false,
     "start_time": "2021-09-02T02:51:30.133057",
     "status": "completed"
    },
    "tags": []
   },
   "source": [
    "Jackalope produces reads with non-standard identifiers where pairs of reads don't have matching identifiers. For example:\n",
    "\n",
    "* Pair 1: `@SH08-001-NC_011083-3048632-R/1`\n",
    "* Pair 2: `@SH08-001-NC_011083-3048396-F/2`\n",
    "\n",
    "In order to run snippy, these paired identifiers need to match (except for the `/1` and `/2` suffix).\n",
    "\n",
    "So, I have to replace them all with something unique, but which matches in each pair of files. I do this by replacing the position (I think) with the read number (as it appears in the file). So the above identifiers become:\n",
    "\n",
    "* Pair 1: `@SH08-001-NC_011083-1/1`\n",
    "* Pair 2: `@SH08-001-NC_011083-1/2`"
   ]
  },
  {
   "cell_type": "code",
   "execution_count": 5,
   "id": "remarkable-berry",
   "metadata": {
    "execution": {
     "iopub.execute_input": "2021-09-02T02:51:30.163791Z",
     "iopub.status.busy": "2021-09-02T02:51:30.162624Z",
     "iopub.status.idle": "2021-09-02T02:51:31.218596Z",
     "shell.execute_reply": "2021-09-02T02:51:31.219558Z"
    },
    "papermill": {
     "duration": 1.072327,
     "end_time": "2021-09-02T02:51:31.219886",
     "exception": false,
     "start_time": "2021-09-02T02:51:30.147559",
     "status": "completed"
    },
    "tags": []
   },
   "outputs": [],
   "source": [
    "import glob\n",
    "import os\n",
    "\n",
    "files = [os.path.basename(f) for f in glob.glob(f'{initial_reads_dir}/*.fq.gz')]\n",
    "!parallel -j {ncores} -I% 'gzip -d --stdout {initial_reads_dir}/% | perl scripts/replace-fastq-header.pl | gzip > {reads_dir}/%' \\\n",
    "    ::: {' '.join(files)}"
   ]
  },
  {
   "cell_type": "code",
   "execution_count": 6,
   "id": "8318e7a8-1057-4e4f-aaec-fccdec42a75f",
   "metadata": {
    "execution": {
     "iopub.execute_input": "2021-09-02T02:51:31.249630Z",
     "iopub.status.busy": "2021-09-02T02:51:31.249134Z",
     "iopub.status.idle": "2021-09-02T02:51:31.261899Z",
     "shell.execute_reply": "2021-09-02T02:51:31.262549Z"
    },
    "papermill": {
     "duration": 0.02923,
     "end_time": "2021-09-02T02:51:31.262773",
     "exception": false,
     "start_time": "2021-09-02T02:51:31.233543",
     "status": "completed"
    },
    "tags": []
   },
   "outputs": [],
   "source": [
    "import shutil\n",
    "\n",
    "shutil.rmtree(initial_reads_dir)"
   ]
  },
  {
   "cell_type": "markdown",
   "id": "cf630b4f-ed63-4e14-9657-e0aaea0953ab",
   "metadata": {
    "papermill": {
     "duration": 0.008343,
     "end_time": "2021-09-02T02:51:31.281858",
     "exception": false,
     "start_time": "2021-09-02T02:51:31.273515",
     "status": "completed"
    },
    "tags": []
   },
   "source": [
    "# 3. Fix assemblies\n",
    "\n",
    "Fix assembly genome names"
   ]
  },
  {
   "cell_type": "code",
   "execution_count": 7,
   "id": "08fac610-3ab3-4afa-9873-406973041963",
   "metadata": {
    "execution": {
     "iopub.execute_input": "2021-09-02T02:51:31.301827Z",
     "iopub.status.busy": "2021-09-02T02:51:31.300711Z",
     "iopub.status.idle": "2021-09-02T02:51:31.477912Z",
     "shell.execute_reply": "2021-09-02T02:51:31.478761Z"
    },
    "papermill": {
     "duration": 0.190908,
     "end_time": "2021-09-02T02:51:31.479061",
     "exception": false,
     "start_time": "2021-09-02T02:51:31.288153",
     "status": "completed"
    },
    "tags": []
   },
   "outputs": [
    {
     "name": "stdout",
     "output_type": "stream",
     "text": [
      "~/workspace/genomics-data-index-evaluation/evaluations/simulation/simulations/cov-20/simulated_data/assemblies ~/workspace/genomics-data-index-evaluation/evaluations/simulation\r\n"
     ]
    },
    {
     "name": "stdout",
     "output_type": "stream",
     "text": [
      "~/workspace/genomics-data-index-evaluation/evaluations/simulation\r\n"
     ]
    }
   ],
   "source": [
    "!pushd {assemblies_dir}; prename 's/data__//' *.fa.gz; popd"
   ]
  }
 ],
 "metadata": {
  "kernelspec": {
   "display_name": "Python 3 (ipykernel)",
   "language": "python",
   "name": "python3"
  },
  "language_info": {
   "codemirror_mode": {
    "name": "ipython",
    "version": 3
   },
   "file_extension": ".py",
   "mimetype": "text/x-python",
   "name": "python",
   "nbconvert_exporter": "python",
   "pygments_lexer": "ipython3",
   "version": "3.8.10"
  },
  "papermill": {
   "default_parameters": {},
   "duration": 2.870842,
   "end_time": "2021-09-02T02:51:31.704671",
   "environment_variables": {},
   "exception": null,
   "input_path": "template-2-fix-simulated-files.ipynb",
   "output_path": "2-fix-simulated-files.simulation-cov-20.ipynb",
   "parameters": {
    "iterations": 3,
    "mincov": 10,
    "read_coverage": 20,
    "simulation_dir": "simulations/cov-20"
   },
   "start_time": "2021-09-02T02:51:28.833829",
   "version": "2.3.3"
  }
 },
 "nbformat": 4,
 "nbformat_minor": 5
}