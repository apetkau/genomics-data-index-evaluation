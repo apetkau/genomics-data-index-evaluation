{
 "cells": [
  {
   "cell_type": "markdown",
   "id": "acfa5482-d626-44d6-b613-863e6911fa98",
   "metadata": {
    "papermill": {
     "duration": 0.014138,
     "end_time": "2021-08-31T23:38:58.467155",
     "exception": false,
     "start_time": "2021-08-31T23:38:58.453017",
     "status": "completed"
    },
    "tags": []
   },
   "source": [
    "# 1. Parameters"
   ]
  },
  {
   "cell_type": "code",
   "execution_count": 1,
   "id": "36126d74-a9d8-4431-ba49-767c1fc2ec49",
   "metadata": {
    "execution": {
     "iopub.execute_input": "2021-08-31T23:38:58.497288Z",
     "iopub.status.busy": "2021-08-31T23:38:58.496651Z",
     "iopub.status.idle": "2021-08-31T23:38:58.501728Z",
     "shell.execute_reply": "2021-08-31T23:38:58.502541Z"
    },
    "papermill": {
     "duration": 0.026461,
     "end_time": "2021-08-31T23:38:58.502935",
     "exception": false,
     "start_time": "2021-08-31T23:38:58.476474",
     "status": "completed"
    },
    "tags": [
     "parameters"
    ]
   },
   "outputs": [],
   "source": [
    "# Defaults\n",
    "simulation_dir = 'simulations/unset'\n",
    "ncores = 48"
   ]
  },
  {
   "cell_type": "code",
   "execution_count": 2,
   "id": "da4a391d",
   "metadata": {
    "execution": {
     "iopub.execute_input": "2021-08-31T23:38:58.524009Z",
     "iopub.status.busy": "2021-08-31T23:38:58.523540Z",
     "iopub.status.idle": "2021-08-31T23:38:58.527081Z",
     "shell.execute_reply": "2021-08-31T23:38:58.526708Z"
    },
    "papermill": {
     "duration": 0.01508,
     "end_time": "2021-08-31T23:38:58.527184",
     "exception": false,
     "start_time": "2021-08-31T23:38:58.512104",
     "status": "completed"
    },
    "tags": [
     "injected-parameters"
    ]
   },
   "outputs": [],
   "source": [
    "# Parameters\n",
    "read_coverage = 20\n",
    "mincov = 10\n",
    "simulation_dir = \"simulations/cov-20\"\n",
    "iterations = 3\n"
   ]
  },
  {
   "cell_type": "code",
   "execution_count": 3,
   "id": "15e911d7-0ffc-4110-aefe-71bc77e689cd",
   "metadata": {
    "execution": {
     "iopub.execute_input": "2021-08-31T23:38:58.544722Z",
     "iopub.status.busy": "2021-08-31T23:38:58.544261Z",
     "iopub.status.idle": "2021-08-31T23:38:58.547714Z",
     "shell.execute_reply": "2021-08-31T23:38:58.548055Z"
    },
    "papermill": {
     "duration": 0.015882,
     "end_time": "2021-08-31T23:38:58.548171",
     "exception": false,
     "start_time": "2021-08-31T23:38:58.532289",
     "status": "completed"
    },
    "tags": []
   },
   "outputs": [],
   "source": [
    "from pathlib import Path\n",
    "import os\n",
    "\n",
    "simulation_data_dir = Path(simulation_dir) / 'simulated_data'\n",
    "initial_reads_dir = simulation_data_dir / 'reads_initial'\n",
    "reads_dir = simulation_data_dir / 'reads'\n",
    "assemblies_dir = simulation_data_dir / 'assemblies'\n",
    "\n",
    "if not reads_dir.exists():\n",
    "    os.mkdir(reads_dir)"
   ]
  },
  {
   "cell_type": "markdown",
   "id": "rotary-regard",
   "metadata": {
    "papermill": {
     "duration": 0.00646,
     "end_time": "2021-08-31T23:38:58.560201",
     "exception": false,
     "start_time": "2021-08-31T23:38:58.553741",
     "status": "completed"
    },
    "tags": []
   },
   "source": [
    "# 2. Fix reads\n",
    "\n",
    "Fix read file names and data so they can be indexed."
   ]
  },
  {
   "cell_type": "code",
   "execution_count": 4,
   "id": "convenient-blackberry",
   "metadata": {
    "execution": {
     "iopub.execute_input": "2021-08-31T23:38:58.576052Z",
     "iopub.status.busy": "2021-08-31T23:38:58.575636Z",
     "iopub.status.idle": "2021-08-31T23:38:58.753865Z",
     "shell.execute_reply": "2021-08-31T23:38:58.754708Z"
    },
    "papermill": {
     "duration": 0.189903,
     "end_time": "2021-08-31T23:38:58.754995",
     "exception": false,
     "start_time": "2021-08-31T23:38:58.565092",
     "status": "completed"
    },
    "tags": []
   },
   "outputs": [
    {
     "name": "stdout",
     "output_type": "stream",
     "text": [
      "~/workspace/genomics-data-index-evaluation/evaluations/simulation/simulations/cov-20/simulated_data/reads_initial ~/workspace/genomics-data-index-evaluation/evaluations/simulation\r\n"
     ]
    },
    {
     "name": "stdout",
     "output_type": "stream",
     "text": [
      "~/workspace/genomics-data-index-evaluation/evaluations/simulation\r\n"
     ]
    }
   ],
   "source": [
    "import os\n",
    "\n",
    "# Fix warning about locale unset\n",
    "os.environ['LANG'] = 'en_US.UTF-8'\n",
    "\n",
    "!pushd {initial_reads_dir}; prename 's/data_//' *.fq.gz; popd"
   ]
  },
  {
   "cell_type": "markdown",
   "id": "median-belle",
   "metadata": {
    "papermill": {
     "duration": 0.008105,
     "end_time": "2021-08-31T23:38:58.776047",
     "exception": false,
     "start_time": "2021-08-31T23:38:58.767942",
     "status": "completed"
    },
    "tags": []
   },
   "source": [
    "Jackalope produces reads with non-standard identifiers where pairs of reads don't have matching identifiers. For example:\n",
    "\n",
    "* Pair 1: `@SH08-001-NC_011083-3048632-R/1`\n",
    "* Pair 2: `@SH08-001-NC_011083-3048396-F/2`\n",
    "\n",
    "In order to run snippy, these paired identifiers need to match (except for the `/1` and `/2` suffix).\n",
    "\n",
    "So, I have to replace them all with something unique, but which matches in each pair of files. I do this by replacing the position (I think) with the read number (as it appears in the file). So the above identifiers become:\n",
    "\n",
    "* Pair 1: `@SH08-001-NC_011083-1/1`\n",
    "* Pair 2: `@SH08-001-NC_011083-1/2`"
   ]
  },
  {
   "cell_type": "code",
   "execution_count": 5,
   "id": "remarkable-berry",
   "metadata": {
    "execution": {
     "iopub.execute_input": "2021-08-31T23:38:58.797806Z",
     "iopub.status.busy": "2021-08-31T23:38:58.796655Z",
     "iopub.status.idle": "2021-08-31T23:39:49.449716Z",
     "shell.execute_reply": "2021-08-31T23:39:49.450613Z"
    },
    "papermill": {
     "duration": 50.668586,
     "end_time": "2021-08-31T23:39:49.450943",
     "exception": false,
     "start_time": "2021-08-31T23:38:58.782357",
     "status": "completed"
    },
    "tags": []
   },
   "outputs": [],
   "source": [
    "import glob\n",
    "import os\n",
    "\n",
    "files = [os.path.basename(f) for f in glob.glob(f'{initial_reads_dir}/*.fq.gz')]\n",
    "!parallel -j {ncores} -I% 'gzip -d --stdout {initial_reads_dir}/% | perl scripts/replace-fastq-header.pl | gzip > {reads_dir}/%' \\\n",
    "    ::: {' '.join(files)}"
   ]
  },
  {
   "cell_type": "code",
   "execution_count": 6,
   "id": "8318e7a8-1057-4e4f-aaec-fccdec42a75f",
   "metadata": {
    "execution": {
     "iopub.execute_input": "2021-08-31T23:39:49.505255Z",
     "iopub.status.busy": "2021-08-31T23:39:49.504110Z",
     "iopub.status.idle": "2021-08-31T23:39:50.159522Z",
     "shell.execute_reply": "2021-08-31T23:39:50.158446Z"
    },
    "papermill": {
     "duration": 0.694949,
     "end_time": "2021-08-31T23:39:50.159786",
     "exception": false,
     "start_time": "2021-08-31T23:39:49.464837",
     "status": "completed"
    },
    "tags": []
   },
   "outputs": [],
   "source": [
    "import shutil\n",
    "\n",
    "shutil.rmtree(initial_reads_dir)"
   ]
  },
  {
   "cell_type": "markdown",
   "id": "cf630b4f-ed63-4e14-9657-e0aaea0953ab",
   "metadata": {
    "papermill": {
     "duration": 0.050272,
     "end_time": "2021-08-31T23:39:50.224861",
     "exception": false,
     "start_time": "2021-08-31T23:39:50.174589",
     "status": "completed"
    },
    "tags": []
   },
   "source": [
    "# 3. Fix assemblies\n",
    "\n",
    "Fix assembly genome names"
   ]
  },
  {
   "cell_type": "code",
   "execution_count": 7,
   "id": "08fac610-3ab3-4afa-9873-406973041963",
   "metadata": {
    "execution": {
     "iopub.execute_input": "2021-08-31T23:39:50.359439Z",
     "iopub.status.busy": "2021-08-31T23:39:50.355723Z",
     "iopub.status.idle": "2021-08-31T23:39:50.533684Z",
     "shell.execute_reply": "2021-08-31T23:39:50.532740Z"
    },
    "papermill": {
     "duration": 0.250463,
     "end_time": "2021-08-31T23:39:50.533946",
     "exception": false,
     "start_time": "2021-08-31T23:39:50.283483",
     "status": "completed"
    },
    "tags": []
   },
   "outputs": [
    {
     "name": "stdout",
     "output_type": "stream",
     "text": [
      "~/workspace/genomics-data-index-evaluation/evaluations/simulation/simulations/cov-20/simulated_data/assemblies ~/workspace/genomics-data-index-evaluation/evaluations/simulation\r\n"
     ]
    },
    {
     "name": "stdout",
     "output_type": "stream",
     "text": [
      "~/workspace/genomics-data-index-evaluation/evaluations/simulation\r\n"
     ]
    }
   ],
   "source": [
    "!pushd {assemblies_dir}; prename 's/data__//' *.fa.gz; popd"
   ]
  }
 ],
 "metadata": {
  "kernelspec": {
   "display_name": "Python 3 (ipykernel)",
   "language": "python",
   "name": "python3"
  },
  "language_info": {
   "codemirror_mode": {
    "name": "ipython",
    "version": 3
   },
   "file_extension": ".py",
   "mimetype": "text/x-python",
   "name": "python",
   "nbconvert_exporter": "python",
   "pygments_lexer": "ipython3",
   "version": "3.8.10"
  },
  "papermill": {
   "default_parameters": {},
   "duration": 54.205095,
   "end_time": "2021-08-31T23:39:51.676115",
   "environment_variables": {},
   "exception": null,
   "input_path": "template-2-fix-simulated-files.ipynb",
   "output_path": "2-fix-simulated-files.simulation-cov-20.ipynb",
   "parameters": {
    "iterations": 3,
    "mincov": 10,
    "read_coverage": 20,
    "simulation_dir": "simulations/cov-20"
   },
   "start_time": "2021-08-31T23:38:57.471020",
   "version": "2.3.3"
  }
 },
 "nbformat": 4,
 "nbformat_minor": 5
}