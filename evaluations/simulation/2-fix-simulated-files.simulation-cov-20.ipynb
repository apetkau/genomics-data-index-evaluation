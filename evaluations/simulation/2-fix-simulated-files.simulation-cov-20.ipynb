{
 "cells": [
  {
   "cell_type": "markdown",
   "id": "acfa5482-d626-44d6-b613-863e6911fa98",
   "metadata": {
    "papermill": {
     "duration": 0.017374,
     "end_time": "2021-09-11T19:19:41.929651",
     "exception": false,
     "start_time": "2021-09-11T19:19:41.912277",
     "status": "completed"
    },
    "tags": []
   },
   "source": [
    "# 1. Parameters"
   ]
  },
  {
   "cell_type": "code",
   "execution_count": 1,
   "id": "36126d74-a9d8-4431-ba49-767c1fc2ec49",
   "metadata": {
    "execution": {
     "iopub.execute_input": "2021-09-11T19:19:41.961745Z",
     "iopub.status.busy": "2021-09-11T19:19:41.961070Z",
     "iopub.status.idle": "2021-09-11T19:19:41.965388Z",
     "shell.execute_reply": "2021-09-11T19:19:41.964632Z"
    },
    "papermill": {
     "duration": 0.025703,
     "end_time": "2021-09-11T19:19:41.965548",
     "exception": false,
     "start_time": "2021-09-11T19:19:41.939845",
     "status": "completed"
    },
    "tags": [
     "parameters"
    ]
   },
   "outputs": [],
   "source": [
    "# Defaults\n",
    "simulation_dir = 'simulations/unset'\n",
    "ncores = 48"
   ]
  },
  {
   "cell_type": "code",
   "execution_count": 2,
   "id": "2dc00b18",
   "metadata": {
    "execution": {
     "iopub.execute_input": "2021-09-11T19:19:41.987313Z",
     "iopub.status.busy": "2021-09-11T19:19:41.986829Z",
     "iopub.status.idle": "2021-09-11T19:19:41.990261Z",
     "shell.execute_reply": "2021-09-11T19:19:41.989709Z"
    },
    "papermill": {
     "duration": 0.017096,
     "end_time": "2021-09-11T19:19:41.990398",
     "exception": false,
     "start_time": "2021-09-11T19:19:41.973302",
     "status": "completed"
    },
    "tags": [
     "injected-parameters"
    ]
   },
   "outputs": [],
   "source": [
    "# Parameters\n",
    "read_coverage = 20\n",
    "mincov = 10\n",
    "simulation_dir = \"simulations/cov-20\"\n",
    "iterations = 3\n",
    "sub_alpha = 0.2\n"
   ]
  },
  {
   "cell_type": "code",
   "execution_count": 3,
   "id": "15e911d7-0ffc-4110-aefe-71bc77e689cd",
   "metadata": {
    "execution": {
     "iopub.execute_input": "2021-09-11T19:19:42.010191Z",
     "iopub.status.busy": "2021-09-11T19:19:42.009597Z",
     "iopub.status.idle": "2021-09-11T19:19:42.013584Z",
     "shell.execute_reply": "2021-09-11T19:19:42.014021Z"
    },
    "papermill": {
     "duration": 0.016694,
     "end_time": "2021-09-11T19:19:42.014170",
     "exception": false,
     "start_time": "2021-09-11T19:19:41.997476",
     "status": "completed"
    },
    "tags": []
   },
   "outputs": [],
   "source": [
    "from pathlib import Path\n",
    "import os\n",
    "\n",
    "simulation_data_dir = Path(simulation_dir) / 'simulated_data'\n",
    "initial_reads_dir = simulation_data_dir / 'reads_initial'\n",
    "reads_dir = simulation_data_dir / 'reads'\n",
    "assemblies_dir = simulation_data_dir / 'assemblies'\n",
    "\n",
    "if not reads_dir.exists():\n",
    "    os.mkdir(reads_dir)"
   ]
  },
  {
   "cell_type": "markdown",
   "id": "rotary-regard",
   "metadata": {
    "papermill": {
     "duration": 0.005873,
     "end_time": "2021-09-11T19:19:42.026397",
     "exception": false,
     "start_time": "2021-09-11T19:19:42.020524",
     "status": "completed"
    },
    "tags": []
   },
   "source": [
    "# 2. Fix reads\n",
    "\n",
    "Fix read file names and data so they can be indexed."
   ]
  },
  {
   "cell_type": "code",
   "execution_count": 4,
   "id": "convenient-blackberry",
   "metadata": {
    "execution": {
     "iopub.execute_input": "2021-09-11T19:19:42.050367Z",
     "iopub.status.busy": "2021-09-11T19:19:42.042438Z",
     "iopub.status.idle": "2021-09-11T19:19:42.222076Z",
     "shell.execute_reply": "2021-09-11T19:19:42.221154Z"
    },
    "papermill": {
     "duration": 0.190766,
     "end_time": "2021-09-11T19:19:42.222328",
     "exception": false,
     "start_time": "2021-09-11T19:19:42.031562",
     "status": "completed"
    },
    "tags": []
   },
   "outputs": [
    {
     "name": "stdout",
     "output_type": "stream",
     "text": [
      "~/workspace/genomics-data-index-evaluation/evaluations/simulation/simulations/cov-20/simulated_data/reads_initial ~/workspace/genomics-data-index-evaluation/evaluations/simulation\r\n"
     ]
    },
    {
     "name": "stdout",
     "output_type": "stream",
     "text": [
      "~/workspace/genomics-data-index-evaluation/evaluations/simulation\r\n"
     ]
    }
   ],
   "source": [
    "import os\n",
    "\n",
    "# Fix warning about locale unset\n",
    "os.environ['LANG'] = 'en_US.UTF-8'\n",
    "\n",
    "!pushd {initial_reads_dir}; prename 's/data_//' *.fq.gz; popd"
   ]
  },
  {
   "cell_type": "markdown",
   "id": "median-belle",
   "metadata": {
    "papermill": {
     "duration": 0.007948,
     "end_time": "2021-09-11T19:19:42.242903",
     "exception": false,
     "start_time": "2021-09-11T19:19:42.234955",
     "status": "completed"
    },
    "tags": []
   },
   "source": [
    "Jackalope produces reads with non-standard identifiers where pairs of reads don't have matching identifiers. For example:\n",
    "\n",
    "* Pair 1: `@SH08-001-NC_011083-3048632-R/1`\n",
    "* Pair 2: `@SH08-001-NC_011083-3048396-F/2`\n",
    "\n",
    "In order to run snippy, these paired identifiers need to match (except for the `/1` and `/2` suffix).\n",
    "\n",
    "So, I have to replace them all with something unique, but which matches in each pair of files. I do this by replacing the position (I think) with the read number (as it appears in the file). So the above identifiers become:\n",
    "\n",
    "* Pair 1: `@SH08-001-NC_011083-1/1`\n",
    "* Pair 2: `@SH08-001-NC_011083-1/2`"
   ]
  },
  {
   "cell_type": "code",
   "execution_count": 5,
   "id": "remarkable-berry",
   "metadata": {
    "execution": {
     "iopub.execute_input": "2021-09-11T19:19:42.264302Z",
     "iopub.status.busy": "2021-09-11T19:19:42.263136Z",
     "iopub.status.idle": "2021-09-11T19:19:43.273564Z",
     "shell.execute_reply": "2021-09-11T19:19:43.274494Z"
    },
    "papermill": {
     "duration": 1.025983,
     "end_time": "2021-09-11T19:19:43.274827",
     "exception": false,
     "start_time": "2021-09-11T19:19:42.248844",
     "status": "completed"
    },
    "tags": []
   },
   "outputs": [],
   "source": [
    "import glob\n",
    "import os\n",
    "\n",
    "files = [os.path.basename(f) for f in glob.glob(f'{initial_reads_dir}/*.fq.gz')]\n",
    "!parallel -j {ncores} -I% 'gzip -d --stdout {initial_reads_dir}/% | perl scripts/replace-fastq-header.pl | gzip > {reads_dir}/%' \\\n",
    "    ::: {' '.join(files)}"
   ]
  },
  {
   "cell_type": "code",
   "execution_count": 6,
   "id": "8318e7a8-1057-4e4f-aaec-fccdec42a75f",
   "metadata": {
    "execution": {
     "iopub.execute_input": "2021-09-11T19:19:43.306554Z",
     "iopub.status.busy": "2021-09-11T19:19:43.306049Z",
     "iopub.status.idle": "2021-09-11T19:19:43.321342Z",
     "shell.execute_reply": "2021-09-11T19:19:43.322252Z"
    },
    "papermill": {
     "duration": 0.032601,
     "end_time": "2021-09-11T19:19:43.322533",
     "exception": false,
     "start_time": "2021-09-11T19:19:43.289932",
     "status": "completed"
    },
    "tags": []
   },
   "outputs": [],
   "source": [
    "import shutil\n",
    "\n",
    "shutil.rmtree(initial_reads_dir)"
   ]
  },
  {
   "cell_type": "markdown",
   "id": "cf630b4f-ed63-4e14-9657-e0aaea0953ab",
   "metadata": {
    "papermill": {
     "duration": 0.008949,
     "end_time": "2021-09-11T19:19:43.344529",
     "exception": false,
     "start_time": "2021-09-11T19:19:43.335580",
     "status": "completed"
    },
    "tags": []
   },
   "source": [
    "# 3. Fix assemblies\n",
    "\n",
    "Fix assembly genome names"
   ]
  },
  {
   "cell_type": "code",
   "execution_count": 7,
   "id": "08fac610-3ab3-4afa-9873-406973041963",
   "metadata": {
    "execution": {
     "iopub.execute_input": "2021-09-11T19:19:43.369024Z",
     "iopub.status.busy": "2021-09-11T19:19:43.363905Z",
     "iopub.status.idle": "2021-09-11T19:19:43.540303Z",
     "shell.execute_reply": "2021-09-11T19:19:43.541167Z"
    },
    "papermill": {
     "duration": 0.189936,
     "end_time": "2021-09-11T19:19:43.541487",
     "exception": false,
     "start_time": "2021-09-11T19:19:43.351551",
     "status": "completed"
    },
    "tags": []
   },
   "outputs": [
    {
     "name": "stdout",
     "output_type": "stream",
     "text": [
      "~/workspace/genomics-data-index-evaluation/evaluations/simulation/simulations/cov-20/simulated_data/assemblies ~/workspace/genomics-data-index-evaluation/evaluations/simulation\r\n"
     ]
    },
    {
     "name": "stdout",
     "output_type": "stream",
     "text": [
      "~/workspace/genomics-data-index-evaluation/evaluations/simulation\r\n"
     ]
    }
   ],
   "source": [
    "!pushd {assemblies_dir}; prename 's/data__//' *.fa.gz; popd"
   ]
  }
 ],
 "metadata": {
  "kernelspec": {
   "display_name": "Python 3 (ipykernel)",
   "language": "python",
   "name": "python3"
  },
  "language_info": {
   "codemirror_mode": {
    "name": "ipython",
    "version": 3
   },
   "file_extension": ".py",
   "mimetype": "text/x-python",
   "name": "python",
   "nbconvert_exporter": "python",
   "pygments_lexer": "ipython3",
   "version": "3.8.10"
  },
  "papermill": {
   "default_parameters": {},
   "duration": 2.544426,
   "end_time": "2021-09-11T19:19:43.665639",
   "environment_variables": {},
   "exception": null,
   "input_path": "template-2-fix-simulated-files.ipynb",
   "output_path": "2-fix-simulated-files.simulation-cov-20.ipynb",
   "parameters": {
    "iterations": 3,
    "mincov": 10,
    "read_coverage": 20,
    "simulation_dir": "simulations/cov-20",
    "sub_alpha": 0.2
   },
   "start_time": "2021-09-11T19:19:41.121213",
   "version": "2.3.3"
  }
 },
 "nbformat": 4,
 "nbformat_minor": 5
}