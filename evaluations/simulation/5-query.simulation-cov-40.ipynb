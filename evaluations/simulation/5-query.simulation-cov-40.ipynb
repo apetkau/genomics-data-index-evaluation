{
 "cells": [
  {
   "cell_type": "markdown",
   "id": "f1bc3e40-3158-4009-8a9b-371a7d2d2efe",
   "metadata": {
    "papermill": {
     "duration": 0.016247,
     "end_time": "2021-09-02T06:43:17.778415",
     "exception": false,
     "start_time": "2021-09-02T06:43:17.762168",
     "status": "completed"
    },
    "tags": []
   },
   "source": [
    "# 1. Parameters"
   ]
  },
  {
   "cell_type": "code",
   "execution_count": 1,
   "id": "cf8880a6-5194-4ced-be67-c0610a332a31",
   "metadata": {
    "execution": {
     "iopub.execute_input": "2021-09-02T06:43:17.808396Z",
     "iopub.status.busy": "2021-09-02T06:43:17.807807Z",
     "iopub.status.idle": "2021-09-02T06:43:17.812623Z",
     "shell.execute_reply": "2021-09-02T06:43:17.812053Z"
    },
    "papermill": {
     "duration": 0.024652,
     "end_time": "2021-09-02T06:43:17.812764",
     "exception": false,
     "start_time": "2021-09-02T06:43:17.788112",
     "status": "completed"
    },
    "tags": [
     "parameters"
    ]
   },
   "outputs": [],
   "source": [
    "simulation_dir = 'simulations/unset'"
   ]
  },
  {
   "cell_type": "code",
   "execution_count": 2,
   "id": "071cd6fa",
   "metadata": {
    "execution": {
     "iopub.execute_input": "2021-09-02T06:43:17.832701Z",
     "iopub.status.busy": "2021-09-02T06:43:17.832274Z",
     "iopub.status.idle": "2021-09-02T06:43:17.835420Z",
     "shell.execute_reply": "2021-09-02T06:43:17.835761Z"
    },
    "papermill": {
     "duration": 0.015686,
     "end_time": "2021-09-02T06:43:17.835865",
     "exception": false,
     "start_time": "2021-09-02T06:43:17.820179",
     "status": "completed"
    },
    "tags": [
     "injected-parameters"
    ]
   },
   "outputs": [],
   "source": [
    "# Parameters\n",
    "read_coverage = 40\n",
    "mincov = 10\n",
    "simulation_dir = \"simulations/cov-40\"\n",
    "iterations = 3\n"
   ]
  },
  {
   "cell_type": "code",
   "execution_count": 3,
   "id": "7e54ac3f-8dff-492e-8096-65a2ed9f5c90",
   "metadata": {
    "execution": {
     "iopub.execute_input": "2021-09-02T06:43:17.856017Z",
     "iopub.status.busy": "2021-09-02T06:43:17.855602Z",
     "iopub.status.idle": "2021-09-02T06:43:17.858747Z",
     "shell.execute_reply": "2021-09-02T06:43:17.859173Z"
    },
    "papermill": {
     "duration": 0.017525,
     "end_time": "2021-09-02T06:43:17.859302",
     "exception": false,
     "start_time": "2021-09-02T06:43:17.841777",
     "status": "completed"
    },
    "tags": []
   },
   "outputs": [],
   "source": [
    "from pathlib import Path\n",
    "\n",
    "simulation_dir_path = Path(simulation_dir)\n",
    "\n",
    "case_name = str(simulation_dir_path.name)\n",
    "index_reads_path = simulation_dir_path / 'index-reads'\n",
    "index_assemblies_path = simulation_dir_path / 'index-assemblies'\n",
    "\n",
    "output_api_reads_path = simulation_dir_path / 'query-reads-api.tsv'\n",
    "output_api_assemblies_path = simulation_dir_path / 'query-assemblies-api.tsv'"
   ]
  },
  {
   "cell_type": "markdown",
   "id": "54537d03-809a-487c-8686-5e1791dc11de",
   "metadata": {
    "papermill": {
     "duration": 0.005668,
     "end_time": "2021-09-02T06:43:17.871744",
     "exception": false,
     "start_time": "2021-09-02T06:43:17.866076",
     "status": "completed"
    },
    "tags": []
   },
   "source": [
    "# 2. Test query command-line"
   ]
  },
  {
   "cell_type": "markdown",
   "id": "163cd729-a654-499a-a5b7-dc0bd78d8128",
   "metadata": {
    "papermill": {
     "duration": 0.005027,
     "end_time": "2021-09-02T06:43:17.881843",
     "exception": false,
     "start_time": "2021-09-02T06:43:17.876816",
     "status": "completed"
    },
    "tags": []
   },
   "source": [
    "# 3. Test query API"
   ]
  },
  {
   "cell_type": "code",
   "execution_count": 4,
   "id": "e347bcfb-4d0c-4fe8-b68c-00de30d924d9",
   "metadata": {
    "execution": {
     "iopub.execute_input": "2021-09-02T06:43:17.932522Z",
     "iopub.status.busy": "2021-09-02T06:43:17.931563Z",
     "iopub.status.idle": "2021-09-02T06:43:20.342249Z",
     "shell.execute_reply": "2021-09-02T06:43:20.341268Z"
    },
    "papermill": {
     "duration": 2.455485,
     "end_time": "2021-09-02T06:43:20.342511",
     "exception": false,
     "start_time": "2021-09-02T06:43:17.887026",
     "status": "completed"
    },
    "tags": []
   },
   "outputs": [],
   "source": [
    "from typing import List\n",
    "import pandas as pd\n",
    "import genomics_data_index.api as gdi\n",
    "\n",
    "def create_timing_df_single_case(timings: List[float], name: str, kind: str,\n",
    "                                number_features: int) -> pd.DataFrame:\n",
    "    iterations = len(timings)\n",
    "    return pd.DataFrame({\n",
    "        'Name': [name]*iterations,\n",
    "        'Kind': [kind]*iterations,\n",
    "        'Number features': [number_features]*iterations,\n",
    "        'Iteration': range(1, iterations + 1),\n",
    "        'Time': timings,\n",
    "    })\n",
    "\n",
    "def create_timing_df(name: str, index_path: Path) -> pd.DataFrame:\n",
    "    db = gdi.GenomicsDataIndex.connect(index_path)\n",
    "    q = db.samples_query(reference_name='reference', universe='mutations')\n",
    "    number_features = len(q.features_summary())\n",
    "    \n",
    "    # features_summary\n",
    "    result = %timeit -r 10 -o q.features_summary()\n",
    "    fs_df = create_timing_df_single_case(result.timings, name=name, kind='features_summary', number_features=number_features)\n",
    "    \n",
    "    # hasa\n",
    "    result = %timeit -r 10 -o q.hasa(\"chrom0:8983:A:C\")\n",
    "    hasa_df = create_timing_df_single_case(result.timings, name=name, kind='hasa', number_features=number_features)\n",
    "    \n",
    "    # isa\n",
    "    result = %timeit -r 10 -o q.isa(\"SH11-001\")\n",
    "    isa_df = create_timing_df_single_case(result.timings, name=name, kind='isa', number_features=number_features)\n",
    "    \n",
    "    # isin distance\n",
    "    result = %timeit -r 10 -o q.isin(\"SH11-001\", kind='distance', distance=20, units='substitutions')\n",
    "    isin_distance_df = create_timing_df_single_case(result.timings, name=name, kind='isin distance', number_features=number_features)\n",
    "    \n",
    "    # isin mrca\n",
    "    result = %timeit -r 10 -o q.isin([\"SH11-001\", \"SH10-001\"], kind='mrca')\n",
    "    isin_mrca_df = create_timing_df_single_case(result.timings, name=name, kind='isin mrca', number_features=number_features)\n",
    "\n",
    "    return pd.concat([fs_df, hasa_df, isa_df, isin_distance_df, isin_mrca_df])"
   ]
  },
  {
   "cell_type": "markdown",
   "id": "f2180ae5-7850-4680-8e9e-45872d56accb",
   "metadata": {
    "papermill": {
     "duration": 0.009534,
     "end_time": "2021-09-02T06:43:20.367418",
     "exception": false,
     "start_time": "2021-09-02T06:43:20.357884",
     "status": "completed"
    },
    "tags": []
   },
   "source": [
    "## 3.1. Test reads"
   ]
  },
  {
   "cell_type": "code",
   "execution_count": 5,
   "id": "04d3a9c7-23a6-4a04-8735-a637c5534ba8",
   "metadata": {
    "execution": {
     "iopub.execute_input": "2021-09-02T06:43:20.386968Z",
     "iopub.status.busy": "2021-09-02T06:43:20.386582Z",
     "iopub.status.idle": "2021-09-02T06:43:54.692748Z",
     "shell.execute_reply": "2021-09-02T06:43:54.692086Z"
    },
    "papermill": {
     "duration": 34.319183,
     "end_time": "2021-09-02T06:43:54.692917",
     "exception": false,
     "start_time": "2021-09-02T06:43:20.373734",
     "status": "completed"
    },
    "tags": []
   },
   "outputs": [
    {
     "name": "stdout",
     "output_type": "stream",
     "text": [
      "72.7 ms ± 1.45 ms per loop (mean ± std. dev. of 10 runs, 10 loops each)\n"
     ]
    },
    {
     "name": "stdout",
     "output_type": "stream",
     "text": [
      "1.06 ms ± 9.55 µs per loop (mean ± std. dev. of 10 runs, 1000 loops each)\n"
     ]
    },
    {
     "name": "stdout",
     "output_type": "stream",
     "text": [
      "397 µs ± 2.06 µs per loop (mean ± std. dev. of 10 runs, 1000 loops each)\n"
     ]
    },
    {
     "name": "stdout",
     "output_type": "stream",
     "text": [
      "2.12 ms ± 21.8 µs per loop (mean ± std. dev. of 10 runs, 100 loops each)\n"
     ]
    },
    {
     "name": "stdout",
     "output_type": "stream",
     "text": [
      "673 µs ± 2.75 µs per loop (mean ± std. dev. of 10 runs, 1000 loops each)\n"
     ]
    },
    {
     "data": {
      "text/html": [
       "<div>\n",
       "<style scoped>\n",
       "    .dataframe tbody tr th:only-of-type {\n",
       "        vertical-align: middle;\n",
       "    }\n",
       "\n",
       "    .dataframe tbody tr th {\n",
       "        vertical-align: top;\n",
       "    }\n",
       "\n",
       "    .dataframe thead th {\n",
       "        text-align: right;\n",
       "    }\n",
       "</style>\n",
       "<table border=\"1\" class=\"dataframe\">\n",
       "  <thead>\n",
       "    <tr style=\"text-align: right;\">\n",
       "      <th></th>\n",
       "      <th>Name</th>\n",
       "      <th>Kind</th>\n",
       "      <th>Number features</th>\n",
       "      <th>Iteration</th>\n",
       "      <th>Time</th>\n",
       "    </tr>\n",
       "  </thead>\n",
       "  <tbody>\n",
       "    <tr>\n",
       "      <th>0</th>\n",
       "      <td>cov-40 (reads)</td>\n",
       "      <td>features_summary</td>\n",
       "      <td>751</td>\n",
       "      <td>1</td>\n",
       "      <td>0.072091</td>\n",
       "    </tr>\n",
       "    <tr>\n",
       "      <th>1</th>\n",
       "      <td>cov-40 (reads)</td>\n",
       "      <td>features_summary</td>\n",
       "      <td>751</td>\n",
       "      <td>2</td>\n",
       "      <td>0.071351</td>\n",
       "    </tr>\n",
       "    <tr>\n",
       "      <th>2</th>\n",
       "      <td>cov-40 (reads)</td>\n",
       "      <td>features_summary</td>\n",
       "      <td>751</td>\n",
       "      <td>3</td>\n",
       "      <td>0.071599</td>\n",
       "    </tr>\n",
       "    <tr>\n",
       "      <th>3</th>\n",
       "      <td>cov-40 (reads)</td>\n",
       "      <td>features_summary</td>\n",
       "      <td>751</td>\n",
       "      <td>4</td>\n",
       "      <td>0.072342</td>\n",
       "    </tr>\n",
       "    <tr>\n",
       "      <th>4</th>\n",
       "      <td>cov-40 (reads)</td>\n",
       "      <td>features_summary</td>\n",
       "      <td>751</td>\n",
       "      <td>5</td>\n",
       "      <td>0.072885</td>\n",
       "    </tr>\n",
       "  </tbody>\n",
       "</table>\n",
       "</div>"
      ],
      "text/plain": [
       "             Name              Kind  Number features  Iteration      Time\n",
       "0  cov-40 (reads)  features_summary              751          1  0.072091\n",
       "1  cov-40 (reads)  features_summary              751          2  0.071351\n",
       "2  cov-40 (reads)  features_summary              751          3  0.071599\n",
       "3  cov-40 (reads)  features_summary              751          4  0.072342\n",
       "4  cov-40 (reads)  features_summary              751          5  0.072885"
      ]
     },
     "execution_count": 5,
     "metadata": {},
     "output_type": "execute_result"
    }
   ],
   "source": [
    "reads_df = create_timing_df(name=f'{case_name} (reads)', index_path=index_reads_path)\n",
    "reads_df.head(5)"
   ]
  },
  {
   "cell_type": "code",
   "execution_count": 6,
   "id": "09e7fb11-5c83-4983-82b9-4a54fca23b52",
   "metadata": {
    "execution": {
     "iopub.execute_input": "2021-09-02T06:43:54.718794Z",
     "iopub.status.busy": "2021-09-02T06:43:54.717677Z",
     "iopub.status.idle": "2021-09-02T06:43:54.725339Z",
     "shell.execute_reply": "2021-09-02T06:43:54.726176Z"
    },
    "papermill": {
     "duration": 0.023307,
     "end_time": "2021-09-02T06:43:54.726449",
     "exception": false,
     "start_time": "2021-09-02T06:43:54.703142",
     "status": "completed"
    },
    "tags": []
   },
   "outputs": [],
   "source": [
    "reads_df.to_csv(output_api_reads_path, sep='\\t', index=False)"
   ]
  },
  {
   "cell_type": "markdown",
   "id": "2a7874a5-3ecd-4e59-a834-3c27943e4bf0",
   "metadata": {
    "papermill": {
     "duration": 0.009892,
     "end_time": "2021-09-02T06:43:54.752897",
     "exception": false,
     "start_time": "2021-09-02T06:43:54.743005",
     "status": "completed"
    },
    "tags": []
   },
   "source": [
    "## 3.2. Test assemblies"
   ]
  },
  {
   "cell_type": "code",
   "execution_count": 7,
   "id": "76a8327f-fcc7-4ec3-a140-877ed417a510",
   "metadata": {
    "execution": {
     "iopub.execute_input": "2021-09-02T06:43:54.772990Z",
     "iopub.status.busy": "2021-09-02T06:43:54.772630Z",
     "iopub.status.idle": "2021-09-02T06:44:27.632687Z",
     "shell.execute_reply": "2021-09-02T06:44:27.632064Z"
    },
    "papermill": {
     "duration": 32.8724,
     "end_time": "2021-09-02T06:44:27.632849",
     "exception": false,
     "start_time": "2021-09-02T06:43:54.760449",
     "status": "completed"
    },
    "tags": []
   },
   "outputs": [
    {
     "name": "stderr",
     "output_type": "stream",
     "text": [
      "Attempting to set global database_path_translator=<genomics_data_index.storage.model.db.DatabasePathTranslator.DatabasePathTranslator object at 0x7f45be871730> but it is already set\n"
     ]
    },
    {
     "name": "stdout",
     "output_type": "stream",
     "text": [
      "72.7 ms ± 526 µs per loop (mean ± std. dev. of 10 runs, 10 loops each)\n"
     ]
    },
    {
     "name": "stdout",
     "output_type": "stream",
     "text": [
      "945 µs ± 9.94 µs per loop (mean ± std. dev. of 10 runs, 1000 loops each)\n"
     ]
    },
    {
     "name": "stdout",
     "output_type": "stream",
     "text": [
      "398 µs ± 573 ns per loop (mean ± std. dev. of 10 runs, 1000 loops each)\n"
     ]
    },
    {
     "name": "stdout",
     "output_type": "stream",
     "text": [
      "2.35 ms ± 13.3 µs per loop (mean ± std. dev. of 10 runs, 100 loops each)\n"
     ]
    },
    {
     "name": "stdout",
     "output_type": "stream",
     "text": [
      "635 µs ± 2.85 µs per loop (mean ± std. dev. of 10 runs, 1000 loops each)\n"
     ]
    },
    {
     "data": {
      "text/html": [
       "<div>\n",
       "<style scoped>\n",
       "    .dataframe tbody tr th:only-of-type {\n",
       "        vertical-align: middle;\n",
       "    }\n",
       "\n",
       "    .dataframe tbody tr th {\n",
       "        vertical-align: top;\n",
       "    }\n",
       "\n",
       "    .dataframe thead th {\n",
       "        text-align: right;\n",
       "    }\n",
       "</style>\n",
       "<table border=\"1\" class=\"dataframe\">\n",
       "  <thead>\n",
       "    <tr style=\"text-align: right;\">\n",
       "      <th></th>\n",
       "      <th>Name</th>\n",
       "      <th>Kind</th>\n",
       "      <th>Number features</th>\n",
       "      <th>Iteration</th>\n",
       "      <th>Time</th>\n",
       "    </tr>\n",
       "  </thead>\n",
       "  <tbody>\n",
       "    <tr>\n",
       "      <th>0</th>\n",
       "      <td>cov-40 (assemblies)</td>\n",
       "      <td>features_summary</td>\n",
       "      <td>765</td>\n",
       "      <td>1</td>\n",
       "      <td>0.072920</td>\n",
       "    </tr>\n",
       "    <tr>\n",
       "      <th>1</th>\n",
       "      <td>cov-40 (assemblies)</td>\n",
       "      <td>features_summary</td>\n",
       "      <td>765</td>\n",
       "      <td>2</td>\n",
       "      <td>0.074043</td>\n",
       "    </tr>\n",
       "    <tr>\n",
       "      <th>2</th>\n",
       "      <td>cov-40 (assemblies)</td>\n",
       "      <td>features_summary</td>\n",
       "      <td>765</td>\n",
       "      <td>3</td>\n",
       "      <td>0.072308</td>\n",
       "    </tr>\n",
       "    <tr>\n",
       "      <th>3</th>\n",
       "      <td>cov-40 (assemblies)</td>\n",
       "      <td>features_summary</td>\n",
       "      <td>765</td>\n",
       "      <td>4</td>\n",
       "      <td>0.072240</td>\n",
       "    </tr>\n",
       "    <tr>\n",
       "      <th>4</th>\n",
       "      <td>cov-40 (assemblies)</td>\n",
       "      <td>features_summary</td>\n",
       "      <td>765</td>\n",
       "      <td>5</td>\n",
       "      <td>0.072368</td>\n",
       "    </tr>\n",
       "  </tbody>\n",
       "</table>\n",
       "</div>"
      ],
      "text/plain": [
       "                  Name              Kind  Number features  Iteration      Time\n",
       "0  cov-40 (assemblies)  features_summary              765          1  0.072920\n",
       "1  cov-40 (assemblies)  features_summary              765          2  0.074043\n",
       "2  cov-40 (assemblies)  features_summary              765          3  0.072308\n",
       "3  cov-40 (assemblies)  features_summary              765          4  0.072240\n",
       "4  cov-40 (assemblies)  features_summary              765          5  0.072368"
      ]
     },
     "execution_count": 7,
     "metadata": {},
     "output_type": "execute_result"
    }
   ],
   "source": [
    "assemblies_df = create_timing_df(name=f'{case_name} (assemblies)', index_path=index_assemblies_path)\n",
    "assemblies_df.head(5)"
   ]
  },
  {
   "cell_type": "code",
   "execution_count": 8,
   "id": "aa0b72cc-c7d5-4bac-885b-2f3309739dc9",
   "metadata": {
    "execution": {
     "iopub.execute_input": "2021-09-02T06:44:27.662544Z",
     "iopub.status.busy": "2021-09-02T06:44:27.659960Z",
     "iopub.status.idle": "2021-09-02T06:44:27.666308Z",
     "shell.execute_reply": "2021-09-02T06:44:27.665421Z"
    },
    "papermill": {
     "duration": 0.023031,
     "end_time": "2021-09-02T06:44:27.666538",
     "exception": false,
     "start_time": "2021-09-02T06:44:27.643507",
     "status": "completed"
    },
    "tags": []
   },
   "outputs": [],
   "source": [
    "assemblies_df.to_csv(output_api_assemblies_path, sep='\\t', index=False)"
   ]
  }
 ],
 "metadata": {
  "kernelspec": {
   "display_name": "Python 3 (ipykernel)",
   "language": "python",
   "name": "python3"
  },
  "language_info": {
   "codemirror_mode": {
    "name": "ipython",
    "version": 3
   },
   "file_extension": ".py",
   "mimetype": "text/x-python",
   "name": "python",
   "nbconvert_exporter": "python",
   "pygments_lexer": "ipython3",
   "version": "3.8.10"
  },
  "papermill": {
   "default_parameters": {},
   "duration": 72.206904,
   "end_time": "2021-09-02T06:44:29.187486",
   "environment_variables": {},
   "exception": null,
   "input_path": "template-5-query.ipynb",
   "output_path": "5-query.simulation-cov-40.ipynb",
   "parameters": {
    "iterations": 3,
    "mincov": 10,
    "read_coverage": 40,
    "simulation_dir": "simulations/cov-40"
   },
   "start_time": "2021-09-02T06:43:16.980582",
   "version": "2.3.3"
  }
 },
 "nbformat": 4,
 "nbformat_minor": 5
}