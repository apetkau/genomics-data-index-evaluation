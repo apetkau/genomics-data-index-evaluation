{
 "cells": [
  {
   "cell_type": "markdown",
   "id": "f1bc3e40-3158-4009-8a9b-371a7d2d2efe",
   "metadata": {
    "papermill": {
     "duration": 0.020609,
     "end_time": "2021-09-03T21:58:43.852857",
     "exception": false,
     "start_time": "2021-09-03T21:58:43.832248",
     "status": "completed"
    },
    "tags": []
   },
   "source": [
    "# 1. Parameters"
   ]
  },
  {
   "cell_type": "code",
   "execution_count": 1,
   "id": "cf8880a6-5194-4ced-be67-c0610a332a31",
   "metadata": {
    "execution": {
     "iopub.execute_input": "2021-09-03T21:58:43.885724Z",
     "iopub.status.busy": "2021-09-03T21:58:43.885223Z",
     "iopub.status.idle": "2021-09-03T21:58:43.889001Z",
     "shell.execute_reply": "2021-09-03T21:58:43.889401Z"
    },
    "papermill": {
     "duration": 0.025975,
     "end_time": "2021-09-03T21:58:43.889609",
     "exception": false,
     "start_time": "2021-09-03T21:58:43.863634",
     "status": "completed"
    },
    "tags": [
     "parameters"
    ]
   },
   "outputs": [],
   "source": [
    "simulation_dir = 'simulations/unset'\n",
    "metadata_file = 'input/metadata.tsv.gz'"
   ]
  },
  {
   "cell_type": "code",
   "execution_count": 2,
   "id": "773209e7",
   "metadata": {
    "execution": {
     "iopub.execute_input": "2021-09-03T21:58:43.914688Z",
     "iopub.status.busy": "2021-09-03T21:58:43.914254Z",
     "iopub.status.idle": "2021-09-03T21:58:43.917420Z",
     "shell.execute_reply": "2021-09-03T21:58:43.917731Z"
    },
    "papermill": {
     "duration": 0.017713,
     "end_time": "2021-09-03T21:58:43.917837",
     "exception": false,
     "start_time": "2021-09-03T21:58:43.900124",
     "status": "completed"
    },
    "tags": [
     "injected-parameters"
    ]
   },
   "outputs": [],
   "source": [
    "# Parameters\n",
    "read_coverage = 40\n",
    "mincov = 10\n",
    "simulation_dir = \"simulations/cov-40\"\n",
    "iterations = 3\n"
   ]
  },
  {
   "cell_type": "code",
   "execution_count": 3,
   "id": "7e54ac3f-8dff-492e-8096-65a2ed9f5c90",
   "metadata": {
    "execution": {
     "iopub.execute_input": "2021-09-03T21:58:43.941989Z",
     "iopub.status.busy": "2021-09-03T21:58:43.941576Z",
     "iopub.status.idle": "2021-09-03T21:58:46.303972Z",
     "shell.execute_reply": "2021-09-03T21:58:46.302924Z"
    },
    "papermill": {
     "duration": 2.378371,
     "end_time": "2021-09-03T21:58:46.304224",
     "exception": false,
     "start_time": "2021-09-03T21:58:43.925853",
     "status": "completed"
    },
    "tags": []
   },
   "outputs": [],
   "source": [
    "from pathlib import Path\n",
    "import imp\n",
    "fp, pathname, description = imp.find_module('gdi_benchmark', ['../../lib'])\n",
    "gdi_benchmark = imp.load_module('gdi_benchmark', fp, pathname, description)\n",
    "\n",
    "simulation_dir_path = Path(simulation_dir)\n",
    "\n",
    "case_name = str(simulation_dir_path.name)\n",
    "index_reads_path = simulation_dir_path / 'index-reads'\n",
    "index_assemblies_path = simulation_dir_path / 'index-assemblies'\n",
    "\n",
    "output_api_reads_path = simulation_dir_path / 'query-reads-api.tsv'\n",
    "output_api_assemblies_path = simulation_dir_path / 'query-assemblies-api.tsv'\n",
    "output_cli_reads_path = simulation_dir_path / 'query-reads-cli.tsv'\n",
    "output_cli_assemblies_path = simulation_dir_path / 'query-assemblies-cli.tsv'"
   ]
  },
  {
   "cell_type": "markdown",
   "id": "54537d03-809a-487c-8686-5e1791dc11de",
   "metadata": {
    "papermill": {
     "duration": 0.010443,
     "end_time": "2021-09-03T21:58:46.333568",
     "exception": false,
     "start_time": "2021-09-03T21:58:46.323125",
     "status": "completed"
    },
    "tags": []
   },
   "source": [
    "# 2. Benchmark command-line"
   ]
  },
  {
   "cell_type": "code",
   "execution_count": 4,
   "id": "9f4b5122-586c-440f-be52-0b7ab161de46",
   "metadata": {
    "execution": {
     "iopub.execute_input": "2021-09-03T21:58:46.360772Z",
     "iopub.status.busy": "2021-09-03T21:58:46.360337Z",
     "iopub.status.idle": "2021-09-03T21:58:46.363551Z",
     "shell.execute_reply": "2021-09-03T21:58:46.364010Z"
    },
    "papermill": {
     "duration": 0.022985,
     "end_time": "2021-09-03T21:58:46.364155",
     "exception": false,
     "start_time": "2021-09-03T21:58:46.341170",
     "status": "completed"
    },
    "tags": []
   },
   "outputs": [],
   "source": [
    "import pandas as pd\n",
    "import genomics_data_index.api as gdi\n",
    "\n",
    "def benchmark_cli_index(name: str, index_path: Path) -> pd.DataFrame:\n",
    "    benchmark_commands = {\n",
    "        'query':         f'gdi --project-dir {index_path} --ncores 1 query mutation \"chrom0:8983:A:C\"',\n",
    "        'query summary': f'gdi --project-dir {index_path} --ncores 1 query mutation \"chrom0:8983:A:C\" --summarize',\n",
    "        'list samples':  f'gdi --project-dir {index_path} --ncores 1 list samples',\n",
    "    }\n",
    "    \n",
    "    db = gdi.GenomicsDataIndex.connect(index_path)\n",
    "    number_samples = db.count_samples()\n",
    "    number_features = db.count_mutations(reference_genome='reference', include_unknown=True)\n",
    "    iterations = 10\n",
    "    \n",
    "    benchmarker = gdi_benchmark.QueryBenchmarkHandler()\n",
    "    return benchmarker.benchmark_cli(name=name, kind_commands=benchmark_commands, number_samples=number_samples,\n",
    "                                    number_features=number_features, iterations=iterations)"
   ]
  },
  {
   "cell_type": "markdown",
   "id": "b24cc68e-1765-4570-a41b-b89d19a5e596",
   "metadata": {
    "papermill": {
     "duration": 0.009124,
     "end_time": "2021-09-03T21:58:46.384505",
     "exception": false,
     "start_time": "2021-09-03T21:58:46.375381",
     "status": "completed"
    },
    "tags": []
   },
   "source": [
    "## 2.1. Benchmark reads"
   ]
  },
  {
   "cell_type": "code",
   "execution_count": 5,
   "id": "c339bf1b-f934-4e3a-9796-25374627e237",
   "metadata": {
    "execution": {
     "iopub.execute_input": "2021-09-03T21:58:46.405229Z",
     "iopub.status.busy": "2021-09-03T21:58:46.404806Z",
     "iopub.status.idle": "2021-09-03T22:00:10.124300Z",
     "shell.execute_reply": "2021-09-03T22:00:10.124891Z"
    },
    "papermill": {
     "duration": 83.732815,
     "end_time": "2021-09-03T22:00:10.125058",
     "exception": false,
     "start_time": "2021-09-03T21:58:46.392243",
     "status": "completed"
    },
    "tags": []
   },
   "outputs": [
    {
     "data": {
      "text/html": [
       "<div>\n",
       "<style scoped>\n",
       "    .dataframe tbody tr th:only-of-type {\n",
       "        vertical-align: middle;\n",
       "    }\n",
       "\n",
       "    .dataframe tbody tr th {\n",
       "        vertical-align: top;\n",
       "    }\n",
       "\n",
       "    .dataframe thead th {\n",
       "        text-align: right;\n",
       "    }\n",
       "</style>\n",
       "<table border=\"1\" class=\"dataframe\">\n",
       "  <thead>\n",
       "    <tr style=\"text-align: right;\">\n",
       "      <th></th>\n",
       "      <th>Name</th>\n",
       "      <th>Kind</th>\n",
       "      <th>Iteration</th>\n",
       "      <th>Number samples</th>\n",
       "      <th>Number features</th>\n",
       "      <th>Runtime</th>\n",
       "      <th>Memory (max)</th>\n",
       "      <th>Mmemory (max/process)</th>\n",
       "    </tr>\n",
       "  </thead>\n",
       "  <tbody>\n",
       "    <tr>\n",
       "      <th>0</th>\n",
       "      <td>cov-40 (reads)</td>\n",
       "      <td>query</td>\n",
       "      <td>1</td>\n",
       "      <td>59</td>\n",
       "      <td>1525</td>\n",
       "      <td>2.74</td>\n",
       "      <td>219639808.0</td>\n",
       "      <td>219639808.0</td>\n",
       "    </tr>\n",
       "    <tr>\n",
       "      <th>0</th>\n",
       "      <td>cov-40 (reads)</td>\n",
       "      <td>query</td>\n",
       "      <td>2</td>\n",
       "      <td>59</td>\n",
       "      <td>1525</td>\n",
       "      <td>2.70</td>\n",
       "      <td>219615232.0</td>\n",
       "      <td>219615232.0</td>\n",
       "    </tr>\n",
       "    <tr>\n",
       "      <th>0</th>\n",
       "      <td>cov-40 (reads)</td>\n",
       "      <td>query</td>\n",
       "      <td>3</td>\n",
       "      <td>59</td>\n",
       "      <td>1525</td>\n",
       "      <td>2.78</td>\n",
       "      <td>219357184.0</td>\n",
       "      <td>219357184.0</td>\n",
       "    </tr>\n",
       "  </tbody>\n",
       "</table>\n",
       "</div>"
      ],
      "text/plain": [
       "             Name   Kind  Iteration  Number samples  Number features  Runtime  \\\n",
       "0  cov-40 (reads)  query          1              59             1525     2.74   \n",
       "0  cov-40 (reads)  query          2              59             1525     2.70   \n",
       "0  cov-40 (reads)  query          3              59             1525     2.78   \n",
       "\n",
       "   Memory (max)  Mmemory (max/process)  \n",
       "0   219639808.0            219639808.0  \n",
       "0   219615232.0            219615232.0  \n",
       "0   219357184.0            219357184.0  "
      ]
     },
     "execution_count": 5,
     "metadata": {},
     "output_type": "execute_result"
    }
   ],
   "source": [
    "reads_cli_df = benchmark_cli_index(name=f'{case_name} (reads)', index_path=index_reads_path)\n",
    "reads_cli_df.head(3)"
   ]
  },
  {
   "cell_type": "code",
   "execution_count": 6,
   "id": "1b71ed98-d69a-4038-b337-3b8bbf421bf3",
   "metadata": {
    "execution": {
     "iopub.execute_input": "2021-09-03T22:00:10.152362Z",
     "iopub.status.busy": "2021-09-03T22:00:10.151961Z",
     "iopub.status.idle": "2021-09-03T22:00:10.159621Z",
     "shell.execute_reply": "2021-09-03T22:00:10.160043Z"
    },
    "papermill": {
     "duration": 0.024438,
     "end_time": "2021-09-03T22:00:10.160177",
     "exception": false,
     "start_time": "2021-09-03T22:00:10.135739",
     "status": "completed"
    },
    "tags": []
   },
   "outputs": [],
   "source": [
    "reads_cli_df.to_csv(output_cli_reads_path, sep='\\t', index=False)"
   ]
  },
  {
   "cell_type": "markdown",
   "id": "682a9c66-63ce-4896-b877-98674d8085fd",
   "metadata": {
    "papermill": {
     "duration": 0.009958,
     "end_time": "2021-09-03T22:00:10.182723",
     "exception": false,
     "start_time": "2021-09-03T22:00:10.172765",
     "status": "completed"
    },
    "tags": []
   },
   "source": [
    "## 2.1. Benchmark assemblies"
   ]
  },
  {
   "cell_type": "code",
   "execution_count": 7,
   "id": "28e1ef52-86da-4d18-82e6-03c166d656fb",
   "metadata": {
    "execution": {
     "iopub.execute_input": "2021-09-03T22:00:10.203085Z",
     "iopub.status.busy": "2021-09-03T22:00:10.202690Z",
     "iopub.status.idle": "2021-09-03T22:01:33.770287Z",
     "shell.execute_reply": "2021-09-03T22:01:33.770831Z"
    },
    "papermill": {
     "duration": 83.579917,
     "end_time": "2021-09-03T22:01:33.771040",
     "exception": false,
     "start_time": "2021-09-03T22:00:10.191123",
     "status": "completed"
    },
    "tags": []
   },
   "outputs": [
    {
     "name": "stderr",
     "output_type": "stream",
     "text": [
      "Attempting to set global database_path_translator=<genomics_data_index.storage.model.db.DatabasePathTranslator.DatabasePathTranslator object at 0x7f3e7306f280> but it is already set\n"
     ]
    },
    {
     "data": {
      "text/html": [
       "<div>\n",
       "<style scoped>\n",
       "    .dataframe tbody tr th:only-of-type {\n",
       "        vertical-align: middle;\n",
       "    }\n",
       "\n",
       "    .dataframe tbody tr th {\n",
       "        vertical-align: top;\n",
       "    }\n",
       "\n",
       "    .dataframe thead th {\n",
       "        text-align: right;\n",
       "    }\n",
       "</style>\n",
       "<table border=\"1\" class=\"dataframe\">\n",
       "  <thead>\n",
       "    <tr style=\"text-align: right;\">\n",
       "      <th></th>\n",
       "      <th>Name</th>\n",
       "      <th>Kind</th>\n",
       "      <th>Iteration</th>\n",
       "      <th>Number samples</th>\n",
       "      <th>Number features</th>\n",
       "      <th>Runtime</th>\n",
       "      <th>Memory (max)</th>\n",
       "      <th>Mmemory (max/process)</th>\n",
       "    </tr>\n",
       "  </thead>\n",
       "  <tbody>\n",
       "    <tr>\n",
       "      <th>0</th>\n",
       "      <td>cov-40 (reads)</td>\n",
       "      <td>query</td>\n",
       "      <td>1</td>\n",
       "      <td>59</td>\n",
       "      <td>816</td>\n",
       "      <td>2.81</td>\n",
       "      <td>219541504.0</td>\n",
       "      <td>219541504.0</td>\n",
       "    </tr>\n",
       "    <tr>\n",
       "      <th>0</th>\n",
       "      <td>cov-40 (reads)</td>\n",
       "      <td>query</td>\n",
       "      <td>2</td>\n",
       "      <td>59</td>\n",
       "      <td>816</td>\n",
       "      <td>2.71</td>\n",
       "      <td>220069888.0</td>\n",
       "      <td>220069888.0</td>\n",
       "    </tr>\n",
       "    <tr>\n",
       "      <th>0</th>\n",
       "      <td>cov-40 (reads)</td>\n",
       "      <td>query</td>\n",
       "      <td>3</td>\n",
       "      <td>59</td>\n",
       "      <td>816</td>\n",
       "      <td>2.72</td>\n",
       "      <td>220168192.0</td>\n",
       "      <td>220168192.0</td>\n",
       "    </tr>\n",
       "  </tbody>\n",
       "</table>\n",
       "</div>"
      ],
      "text/plain": [
       "             Name   Kind  Iteration  Number samples  Number features  Runtime  \\\n",
       "0  cov-40 (reads)  query          1              59              816     2.81   \n",
       "0  cov-40 (reads)  query          2              59              816     2.71   \n",
       "0  cov-40 (reads)  query          3              59              816     2.72   \n",
       "\n",
       "   Memory (max)  Mmemory (max/process)  \n",
       "0   219541504.0            219541504.0  \n",
       "0   220069888.0            220069888.0  \n",
       "0   220168192.0            220168192.0  "
      ]
     },
     "execution_count": 7,
     "metadata": {},
     "output_type": "execute_result"
    }
   ],
   "source": [
    "assemblies_cli_df = benchmark_cli_index(name=f'{case_name} (reads)', index_path=index_assemblies_path)\n",
    "assemblies_cli_df.head(3)"
   ]
  },
  {
   "cell_type": "code",
   "execution_count": 8,
   "id": "1c52ddf7-5ee2-4e03-a39c-a2be2658823c",
   "metadata": {
    "execution": {
     "iopub.execute_input": "2021-09-03T22:01:33.798930Z",
     "iopub.status.busy": "2021-09-03T22:01:33.798411Z",
     "iopub.status.idle": "2021-09-03T22:01:33.802353Z",
     "shell.execute_reply": "2021-09-03T22:01:33.802649Z"
    },
    "papermill": {
     "duration": 0.020145,
     "end_time": "2021-09-03T22:01:33.802750",
     "exception": false,
     "start_time": "2021-09-03T22:01:33.782605",
     "status": "completed"
    },
    "tags": []
   },
   "outputs": [],
   "source": [
    "assemblies_cli_df.to_csv(output_cli_assemblies_path, sep='\\t', index=False)"
   ]
  },
  {
   "cell_type": "markdown",
   "id": "163cd729-a654-499a-a5b7-dc0bd78d8128",
   "metadata": {
    "papermill": {
     "duration": 0.008784,
     "end_time": "2021-09-03T22:01:33.823284",
     "exception": false,
     "start_time": "2021-09-03T22:01:33.814500",
     "status": "completed"
    },
    "tags": []
   },
   "source": [
    "# 3. Test query API"
   ]
  },
  {
   "cell_type": "markdown",
   "id": "777dbb2e-330f-4de7-b451-1ca902cc3386",
   "metadata": {
    "papermill": {
     "duration": 0.00876,
     "end_time": "2021-09-03T22:01:33.840823",
     "exception": false,
     "start_time": "2021-09-03T22:01:33.832063",
     "status": "completed"
    },
    "tags": []
   },
   "source": [
    "## 3.1. Load (example) metadata\n",
    "\n",
    "The simulated data is based off of real sample names and a real tree. So I can load up real metadata and attach it to a query (though the mutations and reference genome are all simulated)."
   ]
  },
  {
   "cell_type": "code",
   "execution_count": 9,
   "id": "19e1d02c-7bb7-44ef-a1ce-3d20dc420686",
   "metadata": {
    "execution": {
     "iopub.execute_input": "2021-09-03T22:01:33.866143Z",
     "iopub.status.busy": "2021-09-03T22:01:33.865674Z",
     "iopub.status.idle": "2021-09-03T22:01:33.897319Z",
     "shell.execute_reply": "2021-09-03T22:01:33.898201Z"
    },
    "papermill": {
     "duration": 0.04897,
     "end_time": "2021-09-03T22:01:33.898477",
     "exception": false,
     "start_time": "2021-09-03T22:01:33.849507",
     "status": "completed"
    },
    "tags": []
   },
   "outputs": [
    {
     "data": {
      "text/html": [
       "<div>\n",
       "<style scoped>\n",
       "    .dataframe tbody tr th:only-of-type {\n",
       "        vertical-align: middle;\n",
       "    }\n",
       "\n",
       "    .dataframe tbody tr th {\n",
       "        vertical-align: top;\n",
       "    }\n",
       "\n",
       "    .dataframe thead th {\n",
       "        text-align: right;\n",
       "    }\n",
       "</style>\n",
       "<table border=\"1\" class=\"dataframe\">\n",
       "  <thead>\n",
       "    <tr style=\"text-align: right;\">\n",
       "      <th></th>\n",
       "      <th>Sample Name Orig</th>\n",
       "      <th>Run</th>\n",
       "      <th>Assay Type</th>\n",
       "      <th>AvgSpotLen</th>\n",
       "      <th>Bases</th>\n",
       "      <th>BioProject</th>\n",
       "      <th>BioSample</th>\n",
       "      <th>BioSampleModel</th>\n",
       "      <th>Bytes</th>\n",
       "      <th>Center Name</th>\n",
       "      <th>...</th>\n",
       "      <th>PFGE_SecondaryEnzyme_pattern</th>\n",
       "      <th>Phagetype</th>\n",
       "      <th>Platform</th>\n",
       "      <th>ReleaseDate</th>\n",
       "      <th>Serovar</th>\n",
       "      <th>SRA Study</th>\n",
       "      <th>STRAIN</th>\n",
       "      <th>sub_species</th>\n",
       "      <th>Host_disease</th>\n",
       "      <th>Host</th>\n",
       "    </tr>\n",
       "  </thead>\n",
       "  <tbody>\n",
       "    <tr>\n",
       "      <th>0</th>\n",
       "      <td>SH08-001</td>\n",
       "      <td>SRR3028792</td>\n",
       "      <td>WGS</td>\n",
       "      <td>429</td>\n",
       "      <td>354123684</td>\n",
       "      <td>PRJNA305824</td>\n",
       "      <td>SAMN04334683</td>\n",
       "      <td>Pathogen.cl</td>\n",
       "      <td>197484364</td>\n",
       "      <td>MCGILL UNIVERSITY</td>\n",
       "      <td>...</td>\n",
       "      <td>SHBNI.0001</td>\n",
       "      <td>19</td>\n",
       "      <td>ILLUMINA</td>\n",
       "      <td>2015-12-19T00:00:00Z</td>\n",
       "      <td>Heidelberg</td>\n",
       "      <td>SRP067504</td>\n",
       "      <td>SH08-001</td>\n",
       "      <td>enterica</td>\n",
       "      <td>Salmonella gastroenteritis</td>\n",
       "      <td>Homo sapiens</td>\n",
       "    </tr>\n",
       "    <tr>\n",
       "      <th>1</th>\n",
       "      <td>SH09-29</td>\n",
       "      <td>SRR3028793</td>\n",
       "      <td>WGS</td>\n",
       "      <td>422</td>\n",
       "      <td>519366460</td>\n",
       "      <td>PRJNA305824</td>\n",
       "      <td>SAMN04334684</td>\n",
       "      <td>Pathogen.cl</td>\n",
       "      <td>288691068</td>\n",
       "      <td>MCGILL UNIVERSITY</td>\n",
       "      <td>...</td>\n",
       "      <td>SHBNI.0001</td>\n",
       "      <td>26</td>\n",
       "      <td>ILLUMINA</td>\n",
       "      <td>2015-12-19T00:00:00Z</td>\n",
       "      <td>Heidelberg</td>\n",
       "      <td>SRP067504</td>\n",
       "      <td>SH09-29</td>\n",
       "      <td>enterica</td>\n",
       "      <td>Salmonella gastroenteritis</td>\n",
       "      <td>Homo sapiens</td>\n",
       "    </tr>\n",
       "  </tbody>\n",
       "</table>\n",
       "<p>2 rows × 40 columns</p>\n",
       "</div>"
      ],
      "text/plain": [
       "  Sample Name Orig         Run Assay Type  AvgSpotLen      Bases   BioProject  \\\n",
       "0         SH08-001  SRR3028792        WGS         429  354123684  PRJNA305824   \n",
       "1          SH09-29  SRR3028793        WGS         422  519366460  PRJNA305824   \n",
       "\n",
       "      BioSample BioSampleModel      Bytes        Center Name  ...  \\\n",
       "0  SAMN04334683    Pathogen.cl  197484364  MCGILL UNIVERSITY  ...   \n",
       "1  SAMN04334684    Pathogen.cl  288691068  MCGILL UNIVERSITY  ...   \n",
       "\n",
       "  PFGE_SecondaryEnzyme_pattern Phagetype  Platform           ReleaseDate  \\\n",
       "0                   SHBNI.0001        19  ILLUMINA  2015-12-19T00:00:00Z   \n",
       "1                   SHBNI.0001        26  ILLUMINA  2015-12-19T00:00:00Z   \n",
       "\n",
       "      Serovar  SRA Study    STRAIN sub_species                Host_disease  \\\n",
       "0  Heidelberg  SRP067504  SH08-001    enterica  Salmonella gastroenteritis   \n",
       "1  Heidelberg  SRP067504   SH09-29    enterica  Salmonella gastroenteritis   \n",
       "\n",
       "           Host  \n",
       "0  Homo sapiens  \n",
       "1  Homo sapiens  \n",
       "\n",
       "[2 rows x 40 columns]"
      ]
     },
     "execution_count": 9,
     "metadata": {},
     "output_type": "execute_result"
    }
   ],
   "source": [
    "import pandas as pd\n",
    "\n",
    "metadata_df = pd.read_csv(metadata_file, sep='\\t').rename({'Sample Name': 'Sample Name Orig'}, axis='columns')\n",
    "metadata_df.head(2)"
   ]
  },
  {
   "cell_type": "markdown",
   "id": "6471c107-835d-4dac-812c-951d0527982e",
   "metadata": {
    "papermill": {
     "duration": 0.01617,
     "end_time": "2021-09-03T22:01:33.934464",
     "exception": false,
     "start_time": "2021-09-03T22:01:33.918294",
     "status": "completed"
    },
    "tags": []
   },
   "source": [
    "## 3.2. Define benchmark cases"
   ]
  },
  {
   "cell_type": "code",
   "execution_count": 10,
   "id": "e347bcfb-4d0c-4fe8-b68c-00de30d924d9",
   "metadata": {
    "execution": {
     "iopub.execute_input": "2021-09-03T22:01:33.973048Z",
     "iopub.status.busy": "2021-09-03T22:01:33.972454Z",
     "iopub.status.idle": "2021-09-03T22:01:33.975757Z",
     "shell.execute_reply": "2021-09-03T22:01:33.975109Z"
    },
    "papermill": {
     "duration": 0.031458,
     "end_time": "2021-09-03T22:01:33.975948",
     "exception": false,
     "start_time": "2021-09-03T22:01:33.944490",
     "status": "completed"
    },
    "tags": []
   },
   "outputs": [],
   "source": [
    "from typing import List\n",
    "import genomics_data_index.api as gdi\n",
    "\n",
    "def benchmark_api_index(name: str, index_path: Path) -> pd.DataFrame:\n",
    "    db = gdi.GenomicsDataIndex.connect(index_path)\n",
    "    q_no_join = db.samples_query(reference_name='reference', universe='mutations')\n",
    "    q_join = db.samples_query(reference_name='reference', universe='mutations').join(metadata_df, sample_names_column='Sample Name Orig')\n",
    "\n",
    "    q = q_join.hasa('chrom0:1211:C:T')\n",
    "    r = q_join.hasa(\"chrom0:8983:A:C\")\n",
    "    \n",
    "    number_samples = db.count_samples()\n",
    "    number_features = db.count_mutations(reference_genome='reference', include_unknown=True)\n",
    "    repeat = 10\n",
    "\n",
    "    benchmark_cases = {\n",
    "        'db.samples_query':      lambda: db.samples_query(reference_name='reference', universe='mutations'),\n",
    "        'q.join':                lambda: q_no_join.join(metadata_df, sample_names_column='Sample Name Orig'),\n",
    "        'q.features_summary':    lambda: q_join.features_summary(),\n",
    "        'q.features_comparison': lambda: q_join.features_comparison(sample_categories='outbreak_number', categories_kind='dataframe', kind='mutations', unit='proportion'),\n",
    "        'q.hasa':                lambda: q_join.hasa(\"chrom0:8983:A:C\"),\n",
    "        'q.isa':                 lambda: q_join.isa(\"SH11-001\"),\n",
    "        'q.isin (distance)':     lambda: q_join.isin(\"SH11-001\", kind='distance', distance=20, units='substitutions'),\n",
    "        'q.isin (mrca)':         lambda: q_join.isin([\"SH11-001\", \"SH10-001\"], kind='mrca'),\n",
    "        'q AND r':               lambda: q & r,\n",
    "        'q.toframe':             lambda: q_join.toframe(),\n",
    "        'q.summary':             lambda: q_join.summary(),\n",
    "    }\n",
    "\n",
    "    benchmarker = gdi_benchmark.QueryBenchmarkHandler()\n",
    "    return benchmarker.benchmark_api(name=name, kind_functions=benchmark_cases,\n",
    "                                       number_samples=number_samples, number_features=number_features,\n",
    "                                       repeat=repeat)"
   ]
  },
  {
   "cell_type": "markdown",
   "id": "f2180ae5-7850-4680-8e9e-45872d56accb",
   "metadata": {
    "papermill": {
     "duration": 0.010223,
     "end_time": "2021-09-03T22:01:34.000864",
     "exception": false,
     "start_time": "2021-09-03T22:01:33.990641",
     "status": "completed"
    },
    "tags": []
   },
   "source": [
    "## 3.3. Benchmark reads index"
   ]
  },
  {
   "cell_type": "code",
   "execution_count": 11,
   "id": "04d3a9c7-23a6-4a04-8735-a637c5534ba8",
   "metadata": {
    "execution": {
     "iopub.execute_input": "2021-09-03T22:01:34.025297Z",
     "iopub.status.busy": "2021-09-03T22:01:34.024858Z",
     "iopub.status.idle": "2021-09-03T22:02:15.637863Z",
     "shell.execute_reply": "2021-09-03T22:02:15.638393Z"
    },
    "papermill": {
     "duration": 41.628171,
     "end_time": "2021-09-03T22:02:15.638567",
     "exception": false,
     "start_time": "2021-09-03T22:01:34.010396",
     "status": "completed"
    },
    "tags": []
   },
   "outputs": [
    {
     "name": "stderr",
     "output_type": "stream",
     "text": [
      "Attempting to set global database_path_translator=<genomics_data_index.storage.model.db.DatabasePathTranslator.DatabasePathTranslator object at 0x7f3e4d366550> but it is already set\n"
     ]
    },
    {
     "data": {
      "text/html": [
       "<div>\n",
       "<style scoped>\n",
       "    .dataframe tbody tr th:only-of-type {\n",
       "        vertical-align: middle;\n",
       "    }\n",
       "\n",
       "    .dataframe tbody tr th {\n",
       "        vertical-align: top;\n",
       "    }\n",
       "\n",
       "    .dataframe thead th {\n",
       "        text-align: right;\n",
       "    }\n",
       "</style>\n",
       "<table border=\"1\" class=\"dataframe\">\n",
       "  <thead>\n",
       "    <tr style=\"text-align: right;\">\n",
       "      <th></th>\n",
       "      <th>Name</th>\n",
       "      <th>Kind</th>\n",
       "      <th>Number samples</th>\n",
       "      <th>Number features</th>\n",
       "      <th>Number executions</th>\n",
       "      <th>Iteration</th>\n",
       "      <th>Time</th>\n",
       "    </tr>\n",
       "  </thead>\n",
       "  <tbody>\n",
       "    <tr>\n",
       "      <th>0</th>\n",
       "      <td>cov-40 (reads)</td>\n",
       "      <td>db.samples_query</td>\n",
       "      <td>59</td>\n",
       "      <td>1525</td>\n",
       "      <td>200</td>\n",
       "      <td>1</td>\n",
       "      <td>0.001679</td>\n",
       "    </tr>\n",
       "    <tr>\n",
       "      <th>1</th>\n",
       "      <td>cov-40 (reads)</td>\n",
       "      <td>db.samples_query</td>\n",
       "      <td>59</td>\n",
       "      <td>1525</td>\n",
       "      <td>200</td>\n",
       "      <td>2</td>\n",
       "      <td>0.001662</td>\n",
       "    </tr>\n",
       "    <tr>\n",
       "      <th>2</th>\n",
       "      <td>cov-40 (reads)</td>\n",
       "      <td>db.samples_query</td>\n",
       "      <td>59</td>\n",
       "      <td>1525</td>\n",
       "      <td>200</td>\n",
       "      <td>3</td>\n",
       "      <td>0.001651</td>\n",
       "    </tr>\n",
       "    <tr>\n",
       "      <th>3</th>\n",
       "      <td>cov-40 (reads)</td>\n",
       "      <td>db.samples_query</td>\n",
       "      <td>59</td>\n",
       "      <td>1525</td>\n",
       "      <td>200</td>\n",
       "      <td>4</td>\n",
       "      <td>0.001639</td>\n",
       "    </tr>\n",
       "    <tr>\n",
       "      <th>4</th>\n",
       "      <td>cov-40 (reads)</td>\n",
       "      <td>db.samples_query</td>\n",
       "      <td>59</td>\n",
       "      <td>1525</td>\n",
       "      <td>200</td>\n",
       "      <td>5</td>\n",
       "      <td>0.001638</td>\n",
       "    </tr>\n",
       "  </tbody>\n",
       "</table>\n",
       "</div>"
      ],
      "text/plain": [
       "             Name              Kind  Number samples  Number features  \\\n",
       "0  cov-40 (reads)  db.samples_query              59             1525   \n",
       "1  cov-40 (reads)  db.samples_query              59             1525   \n",
       "2  cov-40 (reads)  db.samples_query              59             1525   \n",
       "3  cov-40 (reads)  db.samples_query              59             1525   \n",
       "4  cov-40 (reads)  db.samples_query              59             1525   \n",
       "\n",
       "   Number executions  Iteration      Time  \n",
       "0                200          1  0.001679  \n",
       "1                200          2  0.001662  \n",
       "2                200          3  0.001651  \n",
       "3                200          4  0.001639  \n",
       "4                200          5  0.001638  "
      ]
     },
     "execution_count": 11,
     "metadata": {},
     "output_type": "execute_result"
    }
   ],
   "source": [
    "reads_df = benchmark_api_index(name=f'{case_name} (reads)', index_path=index_reads_path)\n",
    "reads_df.head(5)"
   ]
  },
  {
   "cell_type": "code",
   "execution_count": 12,
   "id": "09e7fb11-5c83-4983-82b9-4a54fca23b52",
   "metadata": {
    "execution": {
     "iopub.execute_input": "2021-09-03T22:02:15.670375Z",
     "iopub.status.busy": "2021-09-03T22:02:15.667890Z",
     "iopub.status.idle": "2021-09-03T22:02:15.674004Z",
     "shell.execute_reply": "2021-09-03T22:02:15.673578Z"
    },
    "papermill": {
     "duration": 0.023433,
     "end_time": "2021-09-03T22:02:15.674116",
     "exception": false,
     "start_time": "2021-09-03T22:02:15.650683",
     "status": "completed"
    },
    "tags": []
   },
   "outputs": [],
   "source": [
    "reads_df.to_csv(output_api_reads_path, sep='\\t', index=False)"
   ]
  },
  {
   "cell_type": "markdown",
   "id": "2a7874a5-3ecd-4e59-a834-3c27943e4bf0",
   "metadata": {
    "papermill": {
     "duration": 0.01077,
     "end_time": "2021-09-03T22:02:15.698051",
     "exception": false,
     "start_time": "2021-09-03T22:02:15.687281",
     "status": "completed"
    },
    "tags": []
   },
   "source": [
    "## 3.4. Benchmark assemblies index"
   ]
  },
  {
   "cell_type": "code",
   "execution_count": 13,
   "id": "76a8327f-fcc7-4ec3-a140-877ed417a510",
   "metadata": {
    "execution": {
     "iopub.execute_input": "2021-09-03T22:02:15.728594Z",
     "iopub.status.busy": "2021-09-03T22:02:15.723812Z",
     "iopub.status.idle": "2021-09-03T22:02:57.937847Z",
     "shell.execute_reply": "2021-09-03T22:02:57.938221Z"
    },
    "papermill": {
     "duration": 42.230235,
     "end_time": "2021-09-03T22:02:57.938352",
     "exception": false,
     "start_time": "2021-09-03T22:02:15.708117",
     "status": "completed"
    },
    "tags": []
   },
   "outputs": [
    {
     "name": "stderr",
     "output_type": "stream",
     "text": [
      "Attempting to set global database_path_translator=<genomics_data_index.storage.model.db.DatabasePathTranslator.DatabasePathTranslator object at 0x7f3e4d119c10> but it is already set\n"
     ]
    },
    {
     "data": {
      "text/html": [
       "<div>\n",
       "<style scoped>\n",
       "    .dataframe tbody tr th:only-of-type {\n",
       "        vertical-align: middle;\n",
       "    }\n",
       "\n",
       "    .dataframe tbody tr th {\n",
       "        vertical-align: top;\n",
       "    }\n",
       "\n",
       "    .dataframe thead th {\n",
       "        text-align: right;\n",
       "    }\n",
       "</style>\n",
       "<table border=\"1\" class=\"dataframe\">\n",
       "  <thead>\n",
       "    <tr style=\"text-align: right;\">\n",
       "      <th></th>\n",
       "      <th>Name</th>\n",
       "      <th>Kind</th>\n",
       "      <th>Number samples</th>\n",
       "      <th>Number features</th>\n",
       "      <th>Number executions</th>\n",
       "      <th>Iteration</th>\n",
       "      <th>Time</th>\n",
       "    </tr>\n",
       "  </thead>\n",
       "  <tbody>\n",
       "    <tr>\n",
       "      <th>0</th>\n",
       "      <td>cov-40 (assemblies)</td>\n",
       "      <td>db.samples_query</td>\n",
       "      <td>59</td>\n",
       "      <td>816</td>\n",
       "      <td>200</td>\n",
       "      <td>1</td>\n",
       "      <td>0.001624</td>\n",
       "    </tr>\n",
       "    <tr>\n",
       "      <th>1</th>\n",
       "      <td>cov-40 (assemblies)</td>\n",
       "      <td>db.samples_query</td>\n",
       "      <td>59</td>\n",
       "      <td>816</td>\n",
       "      <td>200</td>\n",
       "      <td>2</td>\n",
       "      <td>0.001624</td>\n",
       "    </tr>\n",
       "    <tr>\n",
       "      <th>2</th>\n",
       "      <td>cov-40 (assemblies)</td>\n",
       "      <td>db.samples_query</td>\n",
       "      <td>59</td>\n",
       "      <td>816</td>\n",
       "      <td>200</td>\n",
       "      <td>3</td>\n",
       "      <td>0.001655</td>\n",
       "    </tr>\n",
       "    <tr>\n",
       "      <th>3</th>\n",
       "      <td>cov-40 (assemblies)</td>\n",
       "      <td>db.samples_query</td>\n",
       "      <td>59</td>\n",
       "      <td>816</td>\n",
       "      <td>200</td>\n",
       "      <td>4</td>\n",
       "      <td>0.001663</td>\n",
       "    </tr>\n",
       "    <tr>\n",
       "      <th>4</th>\n",
       "      <td>cov-40 (assemblies)</td>\n",
       "      <td>db.samples_query</td>\n",
       "      <td>59</td>\n",
       "      <td>816</td>\n",
       "      <td>200</td>\n",
       "      <td>5</td>\n",
       "      <td>0.001654</td>\n",
       "    </tr>\n",
       "  </tbody>\n",
       "</table>\n",
       "</div>"
      ],
      "text/plain": [
       "                  Name              Kind  Number samples  Number features  \\\n",
       "0  cov-40 (assemblies)  db.samples_query              59              816   \n",
       "1  cov-40 (assemblies)  db.samples_query              59              816   \n",
       "2  cov-40 (assemblies)  db.samples_query              59              816   \n",
       "3  cov-40 (assemblies)  db.samples_query              59              816   \n",
       "4  cov-40 (assemblies)  db.samples_query              59              816   \n",
       "\n",
       "   Number executions  Iteration      Time  \n",
       "0                200          1  0.001624  \n",
       "1                200          2  0.001624  \n",
       "2                200          3  0.001655  \n",
       "3                200          4  0.001663  \n",
       "4                200          5  0.001654  "
      ]
     },
     "execution_count": 13,
     "metadata": {},
     "output_type": "execute_result"
    }
   ],
   "source": [
    "assemblies_df = benchmark_api_index(name=f'{case_name} (assemblies)', index_path=index_assemblies_path)\n",
    "assemblies_df.head(5)"
   ]
  },
  {
   "cell_type": "code",
   "execution_count": 14,
   "id": "aa0b72cc-c7d5-4bac-885b-2f3309739dc9",
   "metadata": {
    "execution": {
     "iopub.execute_input": "2021-09-03T22:02:57.970342Z",
     "iopub.status.busy": "2021-09-03T22:02:57.968557Z",
     "iopub.status.idle": "2021-09-03T22:02:57.974851Z",
     "shell.execute_reply": "2021-09-03T22:02:57.974503Z"
    },
    "papermill": {
     "duration": 0.024222,
     "end_time": "2021-09-03T22:02:57.974939",
     "exception": false,
     "start_time": "2021-09-03T22:02:57.950717",
     "status": "completed"
    },
    "tags": []
   },
   "outputs": [],
   "source": [
    "assemblies_df.to_csv(output_api_assemblies_path, sep='\\t', index=False)"
   ]
  }
 ],
 "metadata": {
  "kernelspec": {
   "display_name": "Python 3 (ipykernel)",
   "language": "python",
   "name": "python3"
  },
  "language_info": {
   "codemirror_mode": {
    "name": "ipython",
    "version": 3
   },
   "file_extension": ".py",
   "mimetype": "text/x-python",
   "name": "python",
   "nbconvert_exporter": "python",
   "pygments_lexer": "ipython3",
   "version": "3.8.10"
  },
  "papermill": {
   "default_parameters": {},
   "duration": 255.642039,
   "end_time": "2021-09-03T22:02:58.501571",
   "environment_variables": {},
   "exception": null,
   "input_path": "template-5-query.ipynb",
   "output_path": "5-query.simulation-cov-40.ipynb",
   "parameters": {
    "iterations": 3,
    "mincov": 10,
    "read_coverage": 40,
    "simulation_dir": "simulations/cov-40"
   },
   "start_time": "2021-09-03T21:58:42.859532",
   "version": "2.3.3"
  }
 },
 "nbformat": 4,
 "nbformat_minor": 5
}