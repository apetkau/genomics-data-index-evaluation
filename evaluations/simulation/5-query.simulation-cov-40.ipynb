{
 "cells": [
  {
   "cell_type": "markdown",
   "id": "f1bc3e40-3158-4009-8a9b-371a7d2d2efe",
   "metadata": {
    "papermill": {
     "duration": 0.022035,
     "end_time": "2022-03-09T16:50:04.517294",
     "exception": false,
     "start_time": "2022-03-09T16:50:04.495259",
     "status": "completed"
    },
    "tags": []
   },
   "source": [
    "# 1. Parameters"
   ]
  },
  {
   "cell_type": "code",
   "execution_count": 1,
   "id": "cf8880a6-5194-4ced-be67-c0610a332a31",
   "metadata": {
    "execution": {
     "iopub.execute_input": "2022-03-09T16:50:04.550681Z",
     "iopub.status.busy": "2022-03-09T16:50:04.545241Z",
     "iopub.status.idle": "2022-03-09T16:50:04.556202Z",
     "shell.execute_reply": "2022-03-09T16:50:04.555508Z"
    },
    "papermill": {
     "duration": 0.028002,
     "end_time": "2022-03-09T16:50:04.556376",
     "exception": false,
     "start_time": "2022-03-09T16:50:04.528374",
     "status": "completed"
    },
    "tags": [
     "parameters"
    ]
   },
   "outputs": [],
   "source": [
    "simulation_dir = 'simulations/unset'\n",
    "metadata_file = 'input/metadata.tsv.gz'"
   ]
  },
  {
   "cell_type": "code",
   "execution_count": 2,
   "id": "94bb9bd2",
   "metadata": {
    "execution": {
     "iopub.execute_input": "2022-03-09T16:50:04.585339Z",
     "iopub.status.busy": "2022-03-09T16:50:04.584914Z",
     "iopub.status.idle": "2022-03-09T16:50:04.588037Z",
     "shell.execute_reply": "2022-03-09T16:50:04.588345Z"
    },
    "papermill": {
     "duration": 0.018402,
     "end_time": "2022-03-09T16:50:04.588451",
     "exception": false,
     "start_time": "2022-03-09T16:50:04.570049",
     "status": "completed"
    },
    "tags": [
     "injected-parameters"
    ]
   },
   "outputs": [],
   "source": [
    "# Parameters\n",
    "read_coverage = 40\n",
    "mincov = 10\n",
    "simulation_dir = \"simulations/cov-40\"\n",
    "iterations = 3\n",
    "sub_alpha = 0.2\n"
   ]
  },
  {
   "cell_type": "code",
   "execution_count": 3,
   "id": "7e54ac3f-8dff-492e-8096-65a2ed9f5c90",
   "metadata": {
    "execution": {
     "iopub.execute_input": "2022-03-09T16:50:04.613367Z",
     "iopub.status.busy": "2022-03-09T16:50:04.612952Z",
     "iopub.status.idle": "2022-03-09T16:50:07.341729Z",
     "shell.execute_reply": "2022-03-09T16:50:07.342614Z"
    },
    "papermill": {
     "duration": 2.746271,
     "end_time": "2022-03-09T16:50:07.342919",
     "exception": false,
     "start_time": "2022-03-09T16:50:04.596648",
     "status": "completed"
    },
    "tags": []
   },
   "outputs": [],
   "source": [
    "from pathlib import Path\n",
    "import imp\n",
    "fp, pathname, description = imp.find_module('gdi_benchmark', ['../../lib'])\n",
    "gdi_benchmark = imp.load_module('gdi_benchmark', fp, pathname, description)\n",
    "\n",
    "simulation_dir_path = Path(simulation_dir)\n",
    "\n",
    "case_name = str(simulation_dir_path.name)\n",
    "index_reads_path = simulation_dir_path / 'index-reads'\n",
    "index_assemblies_path = simulation_dir_path / 'index-assemblies'\n",
    "\n",
    "output_api_reads_path = simulation_dir_path / 'query-reads-api.tsv'\n",
    "output_api_assemblies_path = simulation_dir_path / 'query-assemblies-api.tsv'\n",
    "output_cli_reads_path = simulation_dir_path / 'query-reads-cli.tsv'\n",
    "output_cli_assemblies_path = simulation_dir_path / 'query-assemblies-cli.tsv'"
   ]
  },
  {
   "cell_type": "markdown",
   "id": "54537d03-809a-487c-8686-5e1791dc11de",
   "metadata": {
    "papermill": {
     "duration": 0.010495,
     "end_time": "2022-03-09T16:50:07.373312",
     "exception": false,
     "start_time": "2022-03-09T16:50:07.362817",
     "status": "completed"
    },
    "tags": []
   },
   "source": [
    "# 2. Benchmark command-line"
   ]
  },
  {
   "cell_type": "code",
   "execution_count": 4,
   "id": "9f4b5122-586c-440f-be52-0b7ab161de46",
   "metadata": {
    "execution": {
     "iopub.execute_input": "2022-03-09T16:50:07.403534Z",
     "iopub.status.busy": "2022-03-09T16:50:07.403139Z",
     "iopub.status.idle": "2022-03-09T16:50:07.405365Z",
     "shell.execute_reply": "2022-03-09T16:50:07.405824Z"
    },
    "papermill": {
     "duration": 0.024599,
     "end_time": "2022-03-09T16:50:07.405946",
     "exception": false,
     "start_time": "2022-03-09T16:50:07.381347",
     "status": "completed"
    },
    "tags": []
   },
   "outputs": [],
   "source": [
    "import pandas as pd\n",
    "import genomics_data_index.api as gdi\n",
    "\n",
    "def benchmark_cli_index(name: str, index_path: Path) -> pd.DataFrame:\n",
    "    db = gdi.GenomicsDataIndex.connect(index_path)\n",
    "    mutations_df = db.mutations_summary(reference_name='reference').sort_values('Count', ascending=False)\n",
    "    top_mutation = mutations_df.iloc[0].name\n",
    "    \n",
    "    if 'chrom' not in top_mutation:\n",
    "        raise Exception(f'Does not exist a single mutation for index {index_path}')\n",
    "    else:\n",
    "        print(f'top_mutation={top_mutation}')\n",
    "        \n",
    "    benchmark_commands = {\n",
    "        'query hasa':               f'gdi --project-dir {index_path} --ncores 1 query \"hasa:{top_mutation}\"',\n",
    "        'query isa':                f'gdi --project-dir {index_path} --ncores 1 query \"isa:SH13-007\"',\n",
    "        'query --summary':          f'gdi --project-dir {index_path} --ncores 1 query --summary',\n",
    "        'query --features-summary': f'gdi --project-dir {index_path} --ncores 1 query --features-summary mutations',\n",
    "        'query isin':               f'gdi --project-dir {index_path} --ncores 1 query --reference-name reference \"isin_100_substitutions:SH13-007\"',\n",
    "        'list samples':             f'gdi --project-dir {index_path} --ncores 1 list samples',\n",
    "    }\n",
    "        \n",
    "    number_samples = db.count_samples()\n",
    "    number_features_no_unknown = db.count_mutations(reference_genome='reference', include_unknown=False)\n",
    "    number_features_all = db.count_mutations(reference_genome='reference', include_unknown=True)\n",
    "    iterations = 10\n",
    "    \n",
    "    benchmarker = gdi_benchmark.QueryBenchmarkHandler()\n",
    "    return benchmarker.benchmark_cli(name=name, kind_commands=benchmark_commands,\n",
    "                                     number_samples=number_samples,\n",
    "                                     number_features_no_unknown=number_features_no_unknown,\n",
    "                                     number_features_all=number_features_all,\n",
    "                                     iterations=iterations)"
   ]
  },
  {
   "cell_type": "markdown",
   "id": "b24cc68e-1765-4570-a41b-b89d19a5e596",
   "metadata": {
    "papermill": {
     "duration": 0.008382,
     "end_time": "2022-03-09T16:50:07.424494",
     "exception": false,
     "start_time": "2022-03-09T16:50:07.416112",
     "status": "completed"
    },
    "tags": []
   },
   "source": [
    "## 2.1. Benchmark reads"
   ]
  },
  {
   "cell_type": "code",
   "execution_count": 5,
   "id": "c339bf1b-f934-4e3a-9796-25374627e237",
   "metadata": {
    "execution": {
     "iopub.execute_input": "2022-03-09T16:50:07.449209Z",
     "iopub.status.busy": "2022-03-09T16:50:07.448818Z",
     "iopub.status.idle": "2022-03-09T16:53:33.497806Z",
     "shell.execute_reply": "2022-03-09T16:53:33.498220Z"
    },
    "papermill": {
     "duration": 206.066052,
     "end_time": "2022-03-09T16:53:33.498450",
     "exception": false,
     "start_time": "2022-03-09T16:50:07.432398",
     "status": "completed"
    },
    "tags": []
   },
   "outputs": [
    {
     "name": "stdout",
     "output_type": "stream",
     "text": [
      "top_mutation=chrom1:304:C:T\n"
     ]
    },
    {
     "data": {
      "text/html": [
       "<div>\n",
       "<style scoped>\n",
       "    .dataframe tbody tr th:only-of-type {\n",
       "        vertical-align: middle;\n",
       "    }\n",
       "\n",
       "    .dataframe tbody tr th {\n",
       "        vertical-align: top;\n",
       "    }\n",
       "\n",
       "    .dataframe thead th {\n",
       "        text-align: right;\n",
       "    }\n",
       "</style>\n",
       "<table border=\"1\" class=\"dataframe\">\n",
       "  <thead>\n",
       "    <tr style=\"text-align: right;\">\n",
       "      <th></th>\n",
       "      <th>Name</th>\n",
       "      <th>Kind</th>\n",
       "      <th>Iteration</th>\n",
       "      <th>Number samples</th>\n",
       "      <th>Number features (no unknown)</th>\n",
       "      <th>Number features (all)</th>\n",
       "      <th>Runtime</th>\n",
       "      <th>Memory (max)</th>\n",
       "      <th>Mmemory (max/process)</th>\n",
       "    </tr>\n",
       "  </thead>\n",
       "  <tbody>\n",
       "    <tr>\n",
       "      <th>0</th>\n",
       "      <td>cov-40 (reads)</td>\n",
       "      <td>query hasa</td>\n",
       "      <td>1</td>\n",
       "      <td>59</td>\n",
       "      <td>1321</td>\n",
       "      <td>2859</td>\n",
       "      <td>3.26</td>\n",
       "      <td>232652800.0</td>\n",
       "      <td>232652800.0</td>\n",
       "    </tr>\n",
       "    <tr>\n",
       "      <th>0</th>\n",
       "      <td>cov-40 (reads)</td>\n",
       "      <td>query hasa</td>\n",
       "      <td>2</td>\n",
       "      <td>59</td>\n",
       "      <td>1321</td>\n",
       "      <td>2859</td>\n",
       "      <td>3.25</td>\n",
       "      <td>232673280.0</td>\n",
       "      <td>232673280.0</td>\n",
       "    </tr>\n",
       "    <tr>\n",
       "      <th>0</th>\n",
       "      <td>cov-40 (reads)</td>\n",
       "      <td>query hasa</td>\n",
       "      <td>3</td>\n",
       "      <td>59</td>\n",
       "      <td>1321</td>\n",
       "      <td>2859</td>\n",
       "      <td>3.39</td>\n",
       "      <td>232341504.0</td>\n",
       "      <td>232341504.0</td>\n",
       "    </tr>\n",
       "  </tbody>\n",
       "</table>\n",
       "</div>"
      ],
      "text/plain": [
       "             Name        Kind  Iteration  Number samples  \\\n",
       "0  cov-40 (reads)  query hasa          1              59   \n",
       "0  cov-40 (reads)  query hasa          2              59   \n",
       "0  cov-40 (reads)  query hasa          3              59   \n",
       "\n",
       "   Number features (no unknown)  Number features (all)  Runtime  Memory (max)  \\\n",
       "0                          1321                   2859     3.26   232652800.0   \n",
       "0                          1321                   2859     3.25   232673280.0   \n",
       "0                          1321                   2859     3.39   232341504.0   \n",
       "\n",
       "   Mmemory (max/process)  \n",
       "0            232652800.0  \n",
       "0            232673280.0  \n",
       "0            232341504.0  "
      ]
     },
     "execution_count": 5,
     "metadata": {},
     "output_type": "execute_result"
    }
   ],
   "source": [
    "reads_cli_df = benchmark_cli_index(name=f'{case_name} (reads)', index_path=index_reads_path)\n",
    "reads_cli_df.head(3)"
   ]
  },
  {
   "cell_type": "code",
   "execution_count": 6,
   "id": "1b71ed98-d69a-4038-b337-3b8bbf421bf3",
   "metadata": {
    "execution": {
     "iopub.execute_input": "2022-03-09T16:53:33.528276Z",
     "iopub.status.busy": "2022-03-09T16:53:33.525992Z",
     "iopub.status.idle": "2022-03-09T16:53:33.537760Z",
     "shell.execute_reply": "2022-03-09T16:53:33.536824Z"
    },
    "papermill": {
     "duration": 0.029155,
     "end_time": "2022-03-09T16:53:33.537994",
     "exception": false,
     "start_time": "2022-03-09T16:53:33.508839",
     "status": "completed"
    },
    "tags": []
   },
   "outputs": [],
   "source": [
    "reads_cli_df.to_csv(output_cli_reads_path, sep='\\t', index=False)"
   ]
  },
  {
   "cell_type": "markdown",
   "id": "682a9c66-63ce-4896-b877-98674d8085fd",
   "metadata": {
    "papermill": {
     "duration": 0.010586,
     "end_time": "2022-03-09T16:53:33.567953",
     "exception": false,
     "start_time": "2022-03-09T16:53:33.557367",
     "status": "completed"
    },
    "tags": []
   },
   "source": [
    "## 2.1. Benchmark assemblies"
   ]
  },
  {
   "cell_type": "code",
   "execution_count": 7,
   "id": "28e1ef52-86da-4d18-82e6-03c166d656fb",
   "metadata": {
    "execution": {
     "iopub.execute_input": "2022-03-09T16:53:33.593232Z",
     "iopub.status.busy": "2022-03-09T16:53:33.590249Z",
     "iopub.status.idle": "2022-03-09T16:57:00.247495Z",
     "shell.execute_reply": "2022-03-09T16:57:00.248049Z"
    },
    "papermill": {
     "duration": 206.671805,
     "end_time": "2022-03-09T16:57:00.248249",
     "exception": false,
     "start_time": "2022-03-09T16:53:33.576444",
     "status": "completed"
    },
    "tags": []
   },
   "outputs": [
    {
     "name": "stderr",
     "output_type": "stream",
     "text": [
      "Attempting to set global database_path_translator=<genomics_data_index.storage.model.db.DatabasePathTranslator.DatabasePathTranslator object at 0x7f1c629a9670> but it is already set\n"
     ]
    },
    {
     "name": "stdout",
     "output_type": "stream",
     "text": [
      "top_mutation=chrom0:738:G:A\n"
     ]
    },
    {
     "data": {
      "text/html": [
       "<div>\n",
       "<style scoped>\n",
       "    .dataframe tbody tr th:only-of-type {\n",
       "        vertical-align: middle;\n",
       "    }\n",
       "\n",
       "    .dataframe tbody tr th {\n",
       "        vertical-align: top;\n",
       "    }\n",
       "\n",
       "    .dataframe thead th {\n",
       "        text-align: right;\n",
       "    }\n",
       "</style>\n",
       "<table border=\"1\" class=\"dataframe\">\n",
       "  <thead>\n",
       "    <tr style=\"text-align: right;\">\n",
       "      <th></th>\n",
       "      <th>Name</th>\n",
       "      <th>Kind</th>\n",
       "      <th>Iteration</th>\n",
       "      <th>Number samples</th>\n",
       "      <th>Number features (no unknown)</th>\n",
       "      <th>Number features (all)</th>\n",
       "      <th>Runtime</th>\n",
       "      <th>Memory (max)</th>\n",
       "      <th>Mmemory (max/process)</th>\n",
       "    </tr>\n",
       "  </thead>\n",
       "  <tbody>\n",
       "    <tr>\n",
       "      <th>0</th>\n",
       "      <td>cov-40 (reads)</td>\n",
       "      <td>query hasa</td>\n",
       "      <td>1</td>\n",
       "      <td>59</td>\n",
       "      <td>1350</td>\n",
       "      <td>1426</td>\n",
       "      <td>3.04</td>\n",
       "      <td>232120320.0</td>\n",
       "      <td>232120320.0</td>\n",
       "    </tr>\n",
       "    <tr>\n",
       "      <th>0</th>\n",
       "      <td>cov-40 (reads)</td>\n",
       "      <td>query hasa</td>\n",
       "      <td>2</td>\n",
       "      <td>59</td>\n",
       "      <td>1350</td>\n",
       "      <td>1426</td>\n",
       "      <td>3.35</td>\n",
       "      <td>232288256.0</td>\n",
       "      <td>232288256.0</td>\n",
       "    </tr>\n",
       "    <tr>\n",
       "      <th>0</th>\n",
       "      <td>cov-40 (reads)</td>\n",
       "      <td>query hasa</td>\n",
       "      <td>3</td>\n",
       "      <td>59</td>\n",
       "      <td>1350</td>\n",
       "      <td>1426</td>\n",
       "      <td>3.52</td>\n",
       "      <td>232411136.0</td>\n",
       "      <td>232411136.0</td>\n",
       "    </tr>\n",
       "  </tbody>\n",
       "</table>\n",
       "</div>"
      ],
      "text/plain": [
       "             Name        Kind  Iteration  Number samples  \\\n",
       "0  cov-40 (reads)  query hasa          1              59   \n",
       "0  cov-40 (reads)  query hasa          2              59   \n",
       "0  cov-40 (reads)  query hasa          3              59   \n",
       "\n",
       "   Number features (no unknown)  Number features (all)  Runtime  Memory (max)  \\\n",
       "0                          1350                   1426     3.04   232120320.0   \n",
       "0                          1350                   1426     3.35   232288256.0   \n",
       "0                          1350                   1426     3.52   232411136.0   \n",
       "\n",
       "   Mmemory (max/process)  \n",
       "0            232120320.0  \n",
       "0            232288256.0  \n",
       "0            232411136.0  "
      ]
     },
     "execution_count": 7,
     "metadata": {},
     "output_type": "execute_result"
    }
   ],
   "source": [
    "assemblies_cli_df = benchmark_cli_index(name=f'{case_name} (reads)', index_path=index_assemblies_path)\n",
    "assemblies_cli_df.head(3)"
   ]
  },
  {
   "cell_type": "code",
   "execution_count": 8,
   "id": "1c52ddf7-5ee2-4e03-a39c-a2be2658823c",
   "metadata": {
    "execution": {
     "iopub.execute_input": "2022-03-09T16:57:00.281708Z",
     "iopub.status.busy": "2022-03-09T16:57:00.281228Z",
     "iopub.status.idle": "2022-03-09T16:57:00.284190Z",
     "shell.execute_reply": "2022-03-09T16:57:00.283798Z"
    },
    "papermill": {
     "duration": 0.024303,
     "end_time": "2022-03-09T16:57:00.284293",
     "exception": false,
     "start_time": "2022-03-09T16:57:00.259990",
     "status": "completed"
    },
    "tags": []
   },
   "outputs": [],
   "source": [
    "assemblies_cli_df.to_csv(output_cli_assemblies_path, sep='\\t', index=False)"
   ]
  },
  {
   "cell_type": "markdown",
   "id": "163cd729-a654-499a-a5b7-dc0bd78d8128",
   "metadata": {
    "papermill": {
     "duration": 0.009786,
     "end_time": "2022-03-09T16:57:00.305698",
     "exception": false,
     "start_time": "2022-03-09T16:57:00.295912",
     "status": "completed"
    },
    "tags": []
   },
   "source": [
    "# 3. Test query API"
   ]
  },
  {
   "cell_type": "markdown",
   "id": "777dbb2e-330f-4de7-b451-1ca902cc3386",
   "metadata": {
    "papermill": {
     "duration": 0.009099,
     "end_time": "2022-03-09T16:57:00.324049",
     "exception": false,
     "start_time": "2022-03-09T16:57:00.314950",
     "status": "completed"
    },
    "tags": []
   },
   "source": [
    "## 3.1. Load (example) metadata\n",
    "\n",
    "The simulated data is based off of real sample names and a real tree. So I can load up real metadata and attach it to a query (though the mutations and reference genome are all simulated)."
   ]
  },
  {
   "cell_type": "code",
   "execution_count": 9,
   "id": "19e1d02c-7bb7-44ef-a1ce-3d20dc420686",
   "metadata": {
    "execution": {
     "iopub.execute_input": "2022-03-09T16:57:00.353445Z",
     "iopub.status.busy": "2022-03-09T16:57:00.352067Z",
     "iopub.status.idle": "2022-03-09T16:57:00.384507Z",
     "shell.execute_reply": "2022-03-09T16:57:00.385412Z"
    },
    "papermill": {
     "duration": 0.052445,
     "end_time": "2022-03-09T16:57:00.385674",
     "exception": false,
     "start_time": "2022-03-09T16:57:00.333229",
     "status": "completed"
    },
    "tags": []
   },
   "outputs": [
    {
     "data": {
      "text/html": [
       "<div>\n",
       "<style scoped>\n",
       "    .dataframe tbody tr th:only-of-type {\n",
       "        vertical-align: middle;\n",
       "    }\n",
       "\n",
       "    .dataframe tbody tr th {\n",
       "        vertical-align: top;\n",
       "    }\n",
       "\n",
       "    .dataframe thead th {\n",
       "        text-align: right;\n",
       "    }\n",
       "</style>\n",
       "<table border=\"1\" class=\"dataframe\">\n",
       "  <thead>\n",
       "    <tr style=\"text-align: right;\">\n",
       "      <th></th>\n",
       "      <th>Sample Name Orig</th>\n",
       "      <th>Run</th>\n",
       "      <th>Assay Type</th>\n",
       "      <th>AvgSpotLen</th>\n",
       "      <th>Bases</th>\n",
       "      <th>BioProject</th>\n",
       "      <th>BioSample</th>\n",
       "      <th>BioSampleModel</th>\n",
       "      <th>Bytes</th>\n",
       "      <th>Center Name</th>\n",
       "      <th>...</th>\n",
       "      <th>PFGE_SecondaryEnzyme_pattern</th>\n",
       "      <th>Phagetype</th>\n",
       "      <th>Platform</th>\n",
       "      <th>ReleaseDate</th>\n",
       "      <th>Serovar</th>\n",
       "      <th>SRA Study</th>\n",
       "      <th>STRAIN</th>\n",
       "      <th>sub_species</th>\n",
       "      <th>Host_disease</th>\n",
       "      <th>Host</th>\n",
       "    </tr>\n",
       "  </thead>\n",
       "  <tbody>\n",
       "    <tr>\n",
       "      <th>0</th>\n",
       "      <td>SH08-001</td>\n",
       "      <td>SRR3028792</td>\n",
       "      <td>WGS</td>\n",
       "      <td>429</td>\n",
       "      <td>354123684</td>\n",
       "      <td>PRJNA305824</td>\n",
       "      <td>SAMN04334683</td>\n",
       "      <td>Pathogen.cl</td>\n",
       "      <td>197484364</td>\n",
       "      <td>MCGILL UNIVERSITY</td>\n",
       "      <td>...</td>\n",
       "      <td>SHBNI.0001</td>\n",
       "      <td>19</td>\n",
       "      <td>ILLUMINA</td>\n",
       "      <td>2015-12-19T00:00:00Z</td>\n",
       "      <td>Heidelberg</td>\n",
       "      <td>SRP067504</td>\n",
       "      <td>SH08-001</td>\n",
       "      <td>enterica</td>\n",
       "      <td>Salmonella gastroenteritis</td>\n",
       "      <td>Homo sapiens</td>\n",
       "    </tr>\n",
       "    <tr>\n",
       "      <th>1</th>\n",
       "      <td>SH09-29</td>\n",
       "      <td>SRR3028793</td>\n",
       "      <td>WGS</td>\n",
       "      <td>422</td>\n",
       "      <td>519366460</td>\n",
       "      <td>PRJNA305824</td>\n",
       "      <td>SAMN04334684</td>\n",
       "      <td>Pathogen.cl</td>\n",
       "      <td>288691068</td>\n",
       "      <td>MCGILL UNIVERSITY</td>\n",
       "      <td>...</td>\n",
       "      <td>SHBNI.0001</td>\n",
       "      <td>26</td>\n",
       "      <td>ILLUMINA</td>\n",
       "      <td>2015-12-19T00:00:00Z</td>\n",
       "      <td>Heidelberg</td>\n",
       "      <td>SRP067504</td>\n",
       "      <td>SH09-29</td>\n",
       "      <td>enterica</td>\n",
       "      <td>Salmonella gastroenteritis</td>\n",
       "      <td>Homo sapiens</td>\n",
       "    </tr>\n",
       "  </tbody>\n",
       "</table>\n",
       "<p>2 rows × 40 columns</p>\n",
       "</div>"
      ],
      "text/plain": [
       "  Sample Name Orig         Run Assay Type  AvgSpotLen      Bases   BioProject  \\\n",
       "0         SH08-001  SRR3028792        WGS         429  354123684  PRJNA305824   \n",
       "1          SH09-29  SRR3028793        WGS         422  519366460  PRJNA305824   \n",
       "\n",
       "      BioSample BioSampleModel      Bytes        Center Name  ...  \\\n",
       "0  SAMN04334683    Pathogen.cl  197484364  MCGILL UNIVERSITY  ...   \n",
       "1  SAMN04334684    Pathogen.cl  288691068  MCGILL UNIVERSITY  ...   \n",
       "\n",
       "  PFGE_SecondaryEnzyme_pattern Phagetype  Platform           ReleaseDate  \\\n",
       "0                   SHBNI.0001        19  ILLUMINA  2015-12-19T00:00:00Z   \n",
       "1                   SHBNI.0001        26  ILLUMINA  2015-12-19T00:00:00Z   \n",
       "\n",
       "      Serovar  SRA Study    STRAIN sub_species                Host_disease  \\\n",
       "0  Heidelberg  SRP067504  SH08-001    enterica  Salmonella gastroenteritis   \n",
       "1  Heidelberg  SRP067504   SH09-29    enterica  Salmonella gastroenteritis   \n",
       "\n",
       "           Host  \n",
       "0  Homo sapiens  \n",
       "1  Homo sapiens  \n",
       "\n",
       "[2 rows x 40 columns]"
      ]
     },
     "execution_count": 9,
     "metadata": {},
     "output_type": "execute_result"
    }
   ],
   "source": [
    "import pandas as pd\n",
    "\n",
    "metadata_df = pd.read_csv(metadata_file, sep='\\t').rename({'Sample Name': 'Sample Name Orig'}, axis='columns')\n",
    "metadata_df.head(2)"
   ]
  },
  {
   "cell_type": "markdown",
   "id": "6471c107-835d-4dac-812c-951d0527982e",
   "metadata": {
    "papermill": {
     "duration": 0.011322,
     "end_time": "2022-03-09T16:57:00.418343",
     "exception": false,
     "start_time": "2022-03-09T16:57:00.407021",
     "status": "completed"
    },
    "tags": []
   },
   "source": [
    "## 3.2. Define benchmark cases"
   ]
  },
  {
   "cell_type": "code",
   "execution_count": 10,
   "id": "e347bcfb-4d0c-4fe8-b68c-00de30d924d9",
   "metadata": {
    "execution": {
     "iopub.execute_input": "2022-03-09T16:57:00.461494Z",
     "iopub.status.busy": "2022-03-09T16:57:00.460267Z",
     "iopub.status.idle": "2022-03-09T16:57:00.463138Z",
     "shell.execute_reply": "2022-03-09T16:57:00.464029Z"
    },
    "papermill": {
     "duration": 0.0362,
     "end_time": "2022-03-09T16:57:00.464292",
     "exception": false,
     "start_time": "2022-03-09T16:57:00.428092",
     "status": "completed"
    },
    "tags": []
   },
   "outputs": [],
   "source": [
    "from typing import List\n",
    "import genomics_data_index.api as gdi\n",
    "\n",
    "def benchmark_api_index(name: str, index_path: Path) -> pd.DataFrame:\n",
    "    db = gdi.GenomicsDataIndex.connect(index_path)\n",
    "    q_no_join = db.samples_query(reference_name='reference', universe='mutations')\n",
    "    q_join = db.samples_query(reference_name='reference', universe='mutations').join(metadata_df, sample_names_column='Sample Name Orig')\n",
    "    \n",
    "    mutations_df = db.mutations_summary(reference_name='reference').sort_values('Count', ascending=False)\n",
    "    top_mutations = mutations_df.iloc[[0,1]].index.tolist()\n",
    "    \n",
    "    if len(top_mutations) != 2:\n",
    "        raise Exception(f'Does not exist two mutations for index {index_path}')\n",
    "    else:\n",
    "        mutation1 = top_mutations[0]\n",
    "        mutation2 = top_mutations[1]\n",
    "        print(f'mutation1={mutation1}, mutation2={mutation2}')\n",
    "\n",
    "    q = q_join.hasa(mutation1)\n",
    "    r = q_join.hasa(mutation2)\n",
    "    \n",
    "    number_samples = db.count_samples()\n",
    "    number_features_no_unknown = db.count_mutations(reference_genome='reference', include_unknown=False)\n",
    "    number_features_all = db.count_mutations(reference_genome='reference', include_unknown=True)\n",
    "    repeat = 10\n",
    "    \n",
    "    benchmark_cases = {\n",
    "        'db.samples_query':      lambda: db.samples_query(reference_name='reference', universe='mutations'),\n",
    "        'q.join':                lambda: q_no_join.join(metadata_df, sample_names_column='Sample Name Orig'),\n",
    "        'q.features_summary':    lambda: q_join.features_summary(),\n",
    "        'q.features_comparison': lambda: q_join.features_comparison(sample_categories='outbreak_number', categories_kind='dataframe', kind='mutations', unit='proportion'),\n",
    "        'q.hasa':                lambda: q_join.hasa(mutation1),\n",
    "        'q.isa':                 lambda: q_join.isa(\"SH13-007\"),\n",
    "        'q AND r':               lambda: q & r,\n",
    "        'q.toframe':             lambda: q_join.toframe(),\n",
    "        'q.summary':             lambda: q_join.summary(),\n",
    "        'q.isin (distance)':     lambda: q_join.isin(\"SH13-007\", kind='distance', distance=100, units='substitutions'),\n",
    "        'q.isin (mrca)':         lambda: q_join.isin([\"SH13-007\", \"SH12-001\"], kind='mrca'),\n",
    "    }\n",
    "\n",
    "    benchmarker = gdi_benchmark.QueryBenchmarkHandler()\n",
    "    return benchmarker.benchmark_api(name=name, kind_functions=benchmark_cases,\n",
    "                                     number_samples=number_samples,\n",
    "                                     number_features_no_unknown=number_features_no_unknown,\n",
    "                                     number_features_all=number_features_all,\n",
    "                                     repeat=repeat)"
   ]
  },
  {
   "cell_type": "markdown",
   "id": "f2180ae5-7850-4680-8e9e-45872d56accb",
   "metadata": {
    "papermill": {
     "duration": 0.011151,
     "end_time": "2022-03-09T16:57:00.496281",
     "exception": false,
     "start_time": "2022-03-09T16:57:00.485130",
     "status": "completed"
    },
    "tags": []
   },
   "source": [
    "## 3.3. Benchmark reads index"
   ]
  },
  {
   "cell_type": "code",
   "execution_count": 11,
   "id": "04d3a9c7-23a6-4a04-8735-a637c5534ba8",
   "metadata": {
    "execution": {
     "iopub.execute_input": "2022-03-09T16:57:00.532008Z",
     "iopub.status.busy": "2022-03-09T16:57:00.530893Z",
     "iopub.status.idle": "2022-03-09T16:57:42.179638Z",
     "shell.execute_reply": "2022-03-09T16:57:42.180035Z"
    },
    "papermill": {
     "duration": 41.674187,
     "end_time": "2022-03-09T16:57:42.180184",
     "exception": false,
     "start_time": "2022-03-09T16:57:00.505997",
     "status": "completed"
    },
    "tags": []
   },
   "outputs": [
    {
     "name": "stderr",
     "output_type": "stream",
     "text": [
      "Attempting to set global database_path_translator=<genomics_data_index.storage.model.db.DatabasePathTranslator.DatabasePathTranslator object at 0x7f1e1f642e50> but it is already set\n"
     ]
    },
    {
     "name": "stdout",
     "output_type": "stream",
     "text": [
      "mutation1=chrom1:304:C:T, mutation2=chrom1:6469:C:A\n"
     ]
    },
    {
     "data": {
      "text/html": [
       "<div>\n",
       "<style scoped>\n",
       "    .dataframe tbody tr th:only-of-type {\n",
       "        vertical-align: middle;\n",
       "    }\n",
       "\n",
       "    .dataframe tbody tr th {\n",
       "        vertical-align: top;\n",
       "    }\n",
       "\n",
       "    .dataframe thead th {\n",
       "        text-align: right;\n",
       "    }\n",
       "</style>\n",
       "<table border=\"1\" class=\"dataframe\">\n",
       "  <thead>\n",
       "    <tr style=\"text-align: right;\">\n",
       "      <th></th>\n",
       "      <th>Name</th>\n",
       "      <th>Kind</th>\n",
       "      <th>Number samples</th>\n",
       "      <th>Number features (no unknown)</th>\n",
       "      <th>Number features (all)</th>\n",
       "      <th>Number executions</th>\n",
       "      <th>Iteration</th>\n",
       "      <th>Time</th>\n",
       "    </tr>\n",
       "  </thead>\n",
       "  <tbody>\n",
       "    <tr>\n",
       "      <th>0</th>\n",
       "      <td>cov-40 (reads)</td>\n",
       "      <td>db.samples_query</td>\n",
       "      <td>59</td>\n",
       "      <td>1321</td>\n",
       "      <td>2859</td>\n",
       "      <td>200</td>\n",
       "      <td>1</td>\n",
       "      <td>0.001726</td>\n",
       "    </tr>\n",
       "    <tr>\n",
       "      <th>1</th>\n",
       "      <td>cov-40 (reads)</td>\n",
       "      <td>db.samples_query</td>\n",
       "      <td>59</td>\n",
       "      <td>1321</td>\n",
       "      <td>2859</td>\n",
       "      <td>200</td>\n",
       "      <td>2</td>\n",
       "      <td>0.001714</td>\n",
       "    </tr>\n",
       "    <tr>\n",
       "      <th>2</th>\n",
       "      <td>cov-40 (reads)</td>\n",
       "      <td>db.samples_query</td>\n",
       "      <td>59</td>\n",
       "      <td>1321</td>\n",
       "      <td>2859</td>\n",
       "      <td>200</td>\n",
       "      <td>3</td>\n",
       "      <td>0.001755</td>\n",
       "    </tr>\n",
       "    <tr>\n",
       "      <th>3</th>\n",
       "      <td>cov-40 (reads)</td>\n",
       "      <td>db.samples_query</td>\n",
       "      <td>59</td>\n",
       "      <td>1321</td>\n",
       "      <td>2859</td>\n",
       "      <td>200</td>\n",
       "      <td>4</td>\n",
       "      <td>0.001701</td>\n",
       "    </tr>\n",
       "    <tr>\n",
       "      <th>4</th>\n",
       "      <td>cov-40 (reads)</td>\n",
       "      <td>db.samples_query</td>\n",
       "      <td>59</td>\n",
       "      <td>1321</td>\n",
       "      <td>2859</td>\n",
       "      <td>200</td>\n",
       "      <td>5</td>\n",
       "      <td>0.001713</td>\n",
       "    </tr>\n",
       "  </tbody>\n",
       "</table>\n",
       "</div>"
      ],
      "text/plain": [
       "             Name              Kind  Number samples  \\\n",
       "0  cov-40 (reads)  db.samples_query              59   \n",
       "1  cov-40 (reads)  db.samples_query              59   \n",
       "2  cov-40 (reads)  db.samples_query              59   \n",
       "3  cov-40 (reads)  db.samples_query              59   \n",
       "4  cov-40 (reads)  db.samples_query              59   \n",
       "\n",
       "   Number features (no unknown)  Number features (all)  Number executions  \\\n",
       "0                          1321                   2859                200   \n",
       "1                          1321                   2859                200   \n",
       "2                          1321                   2859                200   \n",
       "3                          1321                   2859                200   \n",
       "4                          1321                   2859                200   \n",
       "\n",
       "   Iteration      Time  \n",
       "0          1  0.001726  \n",
       "1          2  0.001714  \n",
       "2          3  0.001755  \n",
       "3          4  0.001701  \n",
       "4          5  0.001713  "
      ]
     },
     "execution_count": 11,
     "metadata": {},
     "output_type": "execute_result"
    }
   ],
   "source": [
    "reads_df = benchmark_api_index(name=f'{case_name} (reads)', index_path=index_reads_path)\n",
    "reads_df.head(5)"
   ]
  },
  {
   "cell_type": "code",
   "execution_count": 12,
   "id": "09e7fb11-5c83-4983-82b9-4a54fca23b52",
   "metadata": {
    "execution": {
     "iopub.execute_input": "2022-03-09T16:57:42.215861Z",
     "iopub.status.busy": "2022-03-09T16:57:42.213413Z",
     "iopub.status.idle": "2022-03-09T16:57:42.219818Z",
     "shell.execute_reply": "2022-03-09T16:57:42.218911Z"
    },
    "papermill": {
     "duration": 0.027795,
     "end_time": "2022-03-09T16:57:42.220044",
     "exception": false,
     "start_time": "2022-03-09T16:57:42.192249",
     "status": "completed"
    },
    "tags": []
   },
   "outputs": [],
   "source": [
    "reads_df.to_csv(output_api_reads_path, sep='\\t', index=False)"
   ]
  },
  {
   "cell_type": "markdown",
   "id": "2a7874a5-3ecd-4e59-a834-3c27943e4bf0",
   "metadata": {
    "papermill": {
     "duration": 0.011939,
     "end_time": "2022-03-09T16:57:42.254875",
     "exception": false,
     "start_time": "2022-03-09T16:57:42.242936",
     "status": "completed"
    },
    "tags": []
   },
   "source": [
    "## 3.4. Benchmark assemblies index"
   ]
  },
  {
   "cell_type": "code",
   "execution_count": 13,
   "id": "76a8327f-fcc7-4ec3-a140-877ed417a510",
   "metadata": {
    "execution": {
     "iopub.execute_input": "2022-03-09T16:57:42.285735Z",
     "iopub.status.busy": "2022-03-09T16:57:42.281557Z",
     "iopub.status.idle": "2022-03-09T16:58:23.806974Z",
     "shell.execute_reply": "2022-03-09T16:58:23.807376Z"
    },
    "papermill": {
     "duration": 41.54204,
     "end_time": "2022-03-09T16:58:23.807516",
     "exception": false,
     "start_time": "2022-03-09T16:57:42.265476",
     "status": "completed"
    },
    "tags": []
   },
   "outputs": [
    {
     "name": "stderr",
     "output_type": "stream",
     "text": [
      "Attempting to set global database_path_translator=<genomics_data_index.storage.model.db.DatabasePathTranslator.DatabasePathTranslator object at 0x7f1e1f642d90> but it is already set\n"
     ]
    },
    {
     "name": "stdout",
     "output_type": "stream",
     "text": [
      "mutation1=chrom0:738:G:A, mutation2=chrom1:6083:A:T\n"
     ]
    },
    {
     "data": {
      "text/html": [
       "<div>\n",
       "<style scoped>\n",
       "    .dataframe tbody tr th:only-of-type {\n",
       "        vertical-align: middle;\n",
       "    }\n",
       "\n",
       "    .dataframe tbody tr th {\n",
       "        vertical-align: top;\n",
       "    }\n",
       "\n",
       "    .dataframe thead th {\n",
       "        text-align: right;\n",
       "    }\n",
       "</style>\n",
       "<table border=\"1\" class=\"dataframe\">\n",
       "  <thead>\n",
       "    <tr style=\"text-align: right;\">\n",
       "      <th></th>\n",
       "      <th>Name</th>\n",
       "      <th>Kind</th>\n",
       "      <th>Number samples</th>\n",
       "      <th>Number features (no unknown)</th>\n",
       "      <th>Number features (all)</th>\n",
       "      <th>Number executions</th>\n",
       "      <th>Iteration</th>\n",
       "      <th>Time</th>\n",
       "    </tr>\n",
       "  </thead>\n",
       "  <tbody>\n",
       "    <tr>\n",
       "      <th>0</th>\n",
       "      <td>cov-40 (assemblies)</td>\n",
       "      <td>db.samples_query</td>\n",
       "      <td>59</td>\n",
       "      <td>1350</td>\n",
       "      <td>1426</td>\n",
       "      <td>200</td>\n",
       "      <td>1</td>\n",
       "      <td>0.001686</td>\n",
       "    </tr>\n",
       "    <tr>\n",
       "      <th>1</th>\n",
       "      <td>cov-40 (assemblies)</td>\n",
       "      <td>db.samples_query</td>\n",
       "      <td>59</td>\n",
       "      <td>1350</td>\n",
       "      <td>1426</td>\n",
       "      <td>200</td>\n",
       "      <td>2</td>\n",
       "      <td>0.001674</td>\n",
       "    </tr>\n",
       "    <tr>\n",
       "      <th>2</th>\n",
       "      <td>cov-40 (assemblies)</td>\n",
       "      <td>db.samples_query</td>\n",
       "      <td>59</td>\n",
       "      <td>1350</td>\n",
       "      <td>1426</td>\n",
       "      <td>200</td>\n",
       "      <td>3</td>\n",
       "      <td>0.001674</td>\n",
       "    </tr>\n",
       "    <tr>\n",
       "      <th>3</th>\n",
       "      <td>cov-40 (assemblies)</td>\n",
       "      <td>db.samples_query</td>\n",
       "      <td>59</td>\n",
       "      <td>1350</td>\n",
       "      <td>1426</td>\n",
       "      <td>200</td>\n",
       "      <td>4</td>\n",
       "      <td>0.001700</td>\n",
       "    </tr>\n",
       "    <tr>\n",
       "      <th>4</th>\n",
       "      <td>cov-40 (assemblies)</td>\n",
       "      <td>db.samples_query</td>\n",
       "      <td>59</td>\n",
       "      <td>1350</td>\n",
       "      <td>1426</td>\n",
       "      <td>200</td>\n",
       "      <td>5</td>\n",
       "      <td>0.001675</td>\n",
       "    </tr>\n",
       "  </tbody>\n",
       "</table>\n",
       "</div>"
      ],
      "text/plain": [
       "                  Name              Kind  Number samples  \\\n",
       "0  cov-40 (assemblies)  db.samples_query              59   \n",
       "1  cov-40 (assemblies)  db.samples_query              59   \n",
       "2  cov-40 (assemblies)  db.samples_query              59   \n",
       "3  cov-40 (assemblies)  db.samples_query              59   \n",
       "4  cov-40 (assemblies)  db.samples_query              59   \n",
       "\n",
       "   Number features (no unknown)  Number features (all)  Number executions  \\\n",
       "0                          1350                   1426                200   \n",
       "1                          1350                   1426                200   \n",
       "2                          1350                   1426                200   \n",
       "3                          1350                   1426                200   \n",
       "4                          1350                   1426                200   \n",
       "\n",
       "   Iteration      Time  \n",
       "0          1  0.001686  \n",
       "1          2  0.001674  \n",
       "2          3  0.001674  \n",
       "3          4  0.001700  \n",
       "4          5  0.001675  "
      ]
     },
     "execution_count": 13,
     "metadata": {},
     "output_type": "execute_result"
    }
   ],
   "source": [
    "assemblies_df = benchmark_api_index(name=f'{case_name} (assemblies)', index_path=index_assemblies_path)\n",
    "assemblies_df.head(5)"
   ]
  },
  {
   "cell_type": "code",
   "execution_count": 14,
   "id": "aa0b72cc-c7d5-4bac-885b-2f3309739dc9",
   "metadata": {
    "execution": {
     "iopub.execute_input": "2022-03-09T16:58:23.841843Z",
     "iopub.status.busy": "2022-03-09T16:58:23.841039Z",
     "iopub.status.idle": "2022-03-09T16:58:23.844869Z",
     "shell.execute_reply": "2022-03-09T16:58:23.845731Z"
    },
    "papermill": {
     "duration": 0.025988,
     "end_time": "2022-03-09T16:58:23.846001",
     "exception": false,
     "start_time": "2022-03-09T16:58:23.820013",
     "status": "completed"
    },
    "tags": []
   },
   "outputs": [],
   "source": [
    "assemblies_df.to_csv(output_api_assemblies_path, sep='\\t', index=False)"
   ]
  }
 ],
 "metadata": {
  "kernelspec": {
   "display_name": "Python 3 (ipykernel)",
   "language": "python",
   "name": "python3"
  },
  "language_info": {
   "codemirror_mode": {
    "name": "ipython",
    "version": 3
   },
   "file_extension": ".py",
   "mimetype": "text/x-python",
   "name": "python",
   "nbconvert_exporter": "python",
   "pygments_lexer": "ipython3",
   "version": "3.8.12"
  },
  "papermill": {
   "default_parameters": {},
   "duration": 501.408432,
   "end_time": "2022-03-09T16:58:24.495832",
   "environment_variables": {},
   "exception": null,
   "input_path": "template-5-query.ipynb",
   "output_path": "5-query.simulation-cov-40.ipynb",
   "parameters": {
    "iterations": 3,
    "mincov": 10,
    "read_coverage": 40,
    "simulation_dir": "simulations/cov-40",
    "sub_alpha": 0.2
   },
   "start_time": "2022-03-09T16:50:03.087400",
   "version": "2.3.4"
  }
 },
 "nbformat": 4,
 "nbformat_minor": 5
}