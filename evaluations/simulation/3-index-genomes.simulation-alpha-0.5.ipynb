{
 "cells": [
  {
   "cell_type": "markdown",
   "id": "7d3667b4-b1f8-4347-96e3-830c25b06740",
   "metadata": {
    "papermill": {
     "duration": 0.018735,
     "end_time": "2021-09-11T19:45:19.388390",
     "exception": false,
     "start_time": "2021-09-11T19:45:19.369655",
     "status": "completed"
    },
    "tags": []
   },
   "source": [
    "# 1. Parameters"
   ]
  },
  {
   "cell_type": "code",
   "execution_count": 1,
   "id": "d4ab0749-b286-4c34-b63c-a854e4952bae",
   "metadata": {
    "execution": {
     "iopub.execute_input": "2021-09-11T19:45:19.420965Z",
     "iopub.status.busy": "2021-09-11T19:45:19.420420Z",
     "iopub.status.idle": "2021-09-11T19:45:19.425494Z",
     "shell.execute_reply": "2021-09-11T19:45:19.426031Z"
    },
    "papermill": {
     "duration": 0.027752,
     "end_time": "2021-09-11T19:45:19.426315",
     "exception": false,
     "start_time": "2021-09-11T19:45:19.398563",
     "status": "completed"
    },
    "tags": [
     "parameters"
    ]
   },
   "outputs": [],
   "source": [
    "# Defaults\n",
    "simulation_dir = 'simulations/unset'\n",
    "reference_file = 'simulations/reference/reference.fa.gz'\n",
    "iterations = 3\n",
    "mincov = 10\n",
    "ncores = 32"
   ]
  },
  {
   "cell_type": "code",
   "execution_count": 2,
   "id": "9715af85",
   "metadata": {
    "execution": {
     "iopub.execute_input": "2021-09-11T19:45:19.453452Z",
     "iopub.status.busy": "2021-09-11T19:45:19.452979Z",
     "iopub.status.idle": "2021-09-11T19:45:19.456041Z",
     "shell.execute_reply": "2021-09-11T19:45:19.456404Z"
    },
    "papermill": {
     "duration": 0.018132,
     "end_time": "2021-09-11T19:45:19.456529",
     "exception": false,
     "start_time": "2021-09-11T19:45:19.438397",
     "status": "completed"
    },
    "tags": [
     "injected-parameters"
    ]
   },
   "outputs": [],
   "source": [
    "# Parameters\n",
    "read_coverage = 30\n",
    "mincov = 10\n",
    "simulation_dir = \"simulations/alpha-0.5-cov-30\"\n",
    "iterations = 3\n",
    "sub_alpha = 0.5\n"
   ]
  },
  {
   "cell_type": "code",
   "execution_count": 3,
   "id": "ce5962e4-261c-4210-b39b-47044e28466b",
   "metadata": {
    "execution": {
     "iopub.execute_input": "2021-09-11T19:45:19.480315Z",
     "iopub.status.busy": "2021-09-11T19:45:19.479677Z",
     "iopub.status.idle": "2021-09-11T19:45:21.840716Z",
     "shell.execute_reply": "2021-09-11T19:45:21.839763Z"
    },
    "papermill": {
     "duration": 2.376233,
     "end_time": "2021-09-11T19:45:21.840968",
     "exception": false,
     "start_time": "2021-09-11T19:45:19.464735",
     "status": "completed"
    },
    "tags": []
   },
   "outputs": [],
   "source": [
    "from pathlib import Path\n",
    "import imp\n",
    "fp, pathname, description = imp.find_module('gdi_benchmark', ['../../lib'])\n",
    "gdi_benchmark = imp.load_module('gdi_benchmark', fp, pathname, description)\n",
    "\n",
    "simulation_dir_path = Path(simulation_dir)\n",
    "\n",
    "case_name = str(simulation_dir_path.name)\n",
    "reads_dir = simulation_dir_path / 'simulated_data' / 'reads'\n",
    "assemblies_dir = simulation_dir_path / 'simulated_data' / 'assemblies'\n",
    "index_reads_path = simulation_dir_path / 'index-reads'\n",
    "index_assemblies_path = simulation_dir_path / 'index-assemblies'\n",
    "output_reads_tree = index_reads_path / 'reads.tre'\n",
    "output_assemblies_tree = index_assemblies_path / 'assemblies.tre'\n",
    "reference_name = Path(reference_file).name.split('.')[0]"
   ]
  },
  {
   "cell_type": "markdown",
   "id": "f208279e-7558-47fc-9362-da29df92828a",
   "metadata": {
    "papermill": {
     "duration": 0.009144,
     "end_time": "2021-09-11T19:45:21.866479",
     "exception": false,
     "start_time": "2021-09-11T19:45:21.857335",
     "status": "completed"
    },
    "tags": []
   },
   "source": [
    "# 2. Index genomes"
   ]
  },
  {
   "cell_type": "code",
   "execution_count": 4,
   "id": "4e936f7c-2fcd-4188-b0e6-6b3ceb5cdcd2",
   "metadata": {
    "execution": {
     "iopub.execute_input": "2021-09-11T19:45:21.897582Z",
     "iopub.status.busy": "2021-09-11T19:45:21.897041Z",
     "iopub.status.idle": "2021-09-11T19:45:24.670174Z",
     "shell.execute_reply": "2021-09-11T19:45:24.671027Z"
    },
    "papermill": {
     "duration": 2.797558,
     "end_time": "2021-09-11T19:45:24.671331",
     "exception": false,
     "start_time": "2021-09-11T19:45:21.873773",
     "status": "completed"
    },
    "tags": []
   },
   "outputs": [
    {
     "name": "stdout",
     "output_type": "stream",
     "text": [
      "gdi, version 0.3.0.dev12\r\n"
     ]
    }
   ],
   "source": [
    "!gdi --version"
   ]
  },
  {
   "cell_type": "markdown",
   "id": "5409ecf8-2158-4361-9d2f-6b1a6c7c63a6",
   "metadata": {
    "papermill": {
     "duration": 0.009795,
     "end_time": "2021-09-11T19:45:24.698517",
     "exception": false,
     "start_time": "2021-09-11T19:45:24.688722",
     "status": "completed"
    },
    "tags": []
   },
   "source": [
    "## 2.1. Index reads"
   ]
  },
  {
   "cell_type": "code",
   "execution_count": 5,
   "id": "b5324f79-913b-4dac-8122-19ad5c0f24b2",
   "metadata": {
    "execution": {
     "iopub.execute_input": "2021-09-11T19:45:24.729989Z",
     "iopub.status.busy": "2021-09-11T19:45:24.719605Z",
     "iopub.status.idle": "2021-09-11T19:45:27.591993Z",
     "shell.execute_reply": "2021-09-11T19:45:27.592882Z"
    },
    "papermill": {
     "duration": 2.887318,
     "end_time": "2021-09-11T19:45:27.593208",
     "exception": false,
     "start_time": "2021-09-11T19:45:24.705890",
     "status": "completed"
    },
    "tags": []
   },
   "outputs": [],
   "source": [
    "input_genomes_file = simulation_dir_path / 'input-reads.tsv'\n",
    "\n",
    "!gdi input --absolute {reads_dir}/*.fq.gz > {input_genomes_file}"
   ]
  },
  {
   "cell_type": "code",
   "execution_count": 6,
   "id": "3d63e861-733e-46f2-8bce-bd1a2c7c7058",
   "metadata": {
    "execution": {
     "iopub.execute_input": "2021-09-11T19:45:27.634578Z",
     "iopub.status.busy": "2021-09-11T19:45:27.631119Z",
     "iopub.status.idle": "2021-09-11T19:56:48.280619Z",
     "shell.execute_reply": "2021-09-11T19:56:48.279520Z"
    },
    "papermill": {
     "duration": 680.669432,
     "end_time": "2021-09-11T19:56:48.281010",
     "exception": false,
     "start_time": "2021-09-11T19:45:27.611578",
     "status": "completed"
    },
    "tags": []
   },
   "outputs": [
    {
     "name": "stdout",
     "output_type": "stream",
     "text": [
      "\n",
      "Iteration 1 of index/analysis of 59 samples with 32 cores\n",
      "Removing any extra snakemake directories: []\n",
      "Creating new index: [gdi init simulations/alpha-0.5-cov-30/index-reads]\n"
     ]
    },
    {
     "name": "stdout",
     "output_type": "stream",
     "text": [
      "Creating a new index took 2.93 seconds\n",
      "Analysis running: [gdi --project-dir simulations/alpha-0.5-cov-30/index-reads --ncores 32 analysis --use-conda --no-load-data --reference-file simulations/reference/reference.fa.gz --kmer-size 31 --kmer-size 51 --kmer-size 71 --include-kmer --reads-mincov 10 --input-structured-genomes-file simulations/alpha-0.5-cov-30/input-reads.tsv]\n"
     ]
    },
    {
     "name": "stdout",
     "output_type": "stream",
     "text": [
      "Analysis took 2.10 minutes\n",
      "Index running: [gdi --project-dir simulations/alpha-0.5-cov-30/index-reads --ncores 32 load vcf-kmer --reference-file simulations/reference/reference.fa.gz /home/CSCScience.ca/apetkau/workspace/genomics-data-index-evaluation/evaluations/simulation/snakemake-assemblies.1631389533.4266193/gdi-input.fofn]\n"
     ]
    },
    {
     "name": "stdout",
     "output_type": "stream",
     "text": [
      "Indexing took 0.14 minutes\n",
      "Building tree: [gdi --project-dir simulations/alpha-0.5-cov-30/index-reads --ncores 32 rebuild tree --align-type full --extra-params '--fast -m GTR+F+R4' reference]\n"
     ]
    },
    {
     "name": "stdout",
     "output_type": "stream",
     "text": [
      "Building tree took 1.83 minutes\n"
     ]
    },
    {
     "name": "stderr",
     "output_type": "stream",
     "text": [
      "A reminder to myself to look for a Python solution for directory sizes (instead of running `du`)\n"
     ]
    },
    {
     "name": "stdout",
     "output_type": "stream",
     "text": [
      "\n",
      "Iteration 2 of index/analysis of 59 samples with 32 cores\n",
      "Removing any extra snakemake directories: ['snakemake-assemblies.1631389533.4266193']\n"
     ]
    },
    {
     "name": "stdout",
     "output_type": "stream",
     "text": [
      "Removing any existing indexes simulations/alpha-0.5-cov-30/index-reads\n",
      "Creating new index: [gdi init simulations/alpha-0.5-cov-30/index-reads]\n"
     ]
    },
    {
     "name": "stdout",
     "output_type": "stream",
     "text": [
      "Creating a new index took 2.85 seconds\n",
      "Analysis running: [gdi --project-dir simulations/alpha-0.5-cov-30/index-reads --ncores 32 analysis --use-conda --no-load-data --reference-file simulations/reference/reference.fa.gz --kmer-size 31 --kmer-size 51 --kmer-size 71 --include-kmer --reads-mincov 10 --input-structured-genomes-file simulations/alpha-0.5-cov-30/input-reads.tsv]\n"
     ]
    },
    {
     "name": "stdout",
     "output_type": "stream",
     "text": [
      "Analysis took 1.75 minutes\n",
      "Index running: [gdi --project-dir simulations/alpha-0.5-cov-30/index-reads --ncores 32 load vcf-kmer --reference-file simulations/reference/reference.fa.gz /home/CSCScience.ca/apetkau/workspace/genomics-data-index-evaluation/evaluations/simulation/snakemake-assemblies.1631389782.2923117/gdi-input.fofn]\n"
     ]
    },
    {
     "name": "stdout",
     "output_type": "stream",
     "text": [
      "Indexing took 0.13 minutes\n",
      "Building tree: [gdi --project-dir simulations/alpha-0.5-cov-30/index-reads --ncores 32 rebuild tree --align-type full --extra-params '--fast -m GTR+F+R4' reference]\n"
     ]
    },
    {
     "name": "stdout",
     "output_type": "stream",
     "text": [
      "Building tree took 1.68 minutes\n"
     ]
    },
    {
     "name": "stderr",
     "output_type": "stream",
     "text": [
      "Attempting to set global database_path_translator=<genomics_data_index.storage.model.db.DatabasePathTranslator.DatabasePathTranslator object at 0x7ff12c3fbd30> but it is already set\n"
     ]
    },
    {
     "name": "stderr",
     "output_type": "stream",
     "text": [
      "A reminder to myself to look for a Python solution for directory sizes (instead of running `du`)\n"
     ]
    },
    {
     "name": "stdout",
     "output_type": "stream",
     "text": [
      "\n",
      "Iteration 3 of index/analysis of 59 samples with 32 cores\n",
      "Removing any extra snakemake directories: ['snakemake-assemblies.1631389782.2923117']\n"
     ]
    },
    {
     "name": "stdout",
     "output_type": "stream",
     "text": [
      "Removing any existing indexes simulations/alpha-0.5-cov-30/index-reads\n",
      "Creating new index: [gdi init simulations/alpha-0.5-cov-30/index-reads]\n"
     ]
    },
    {
     "name": "stdout",
     "output_type": "stream",
     "text": [
      "Creating a new index took 2.59 seconds\n",
      "Analysis running: [gdi --project-dir simulations/alpha-0.5-cov-30/index-reads --ncores 32 analysis --use-conda --no-load-data --reference-file simulations/reference/reference.fa.gz --kmer-size 31 --kmer-size 51 --kmer-size 71 --include-kmer --reads-mincov 10 --input-structured-genomes-file simulations/alpha-0.5-cov-30/input-reads.tsv]\n"
     ]
    },
    {
     "name": "stdout",
     "output_type": "stream",
     "text": [
      "Analysis took 1.70 minutes\n",
      "Index running: [gdi --project-dir simulations/alpha-0.5-cov-30/index-reads --ncores 32 load vcf-kmer --reference-file simulations/reference/reference.fa.gz /home/CSCScience.ca/apetkau/workspace/genomics-data-index-evaluation/evaluations/simulation/snakemake-assemblies.1631390000.4381294/gdi-input.fofn]\n"
     ]
    },
    {
     "name": "stdout",
     "output_type": "stream",
     "text": [
      "Indexing took 0.14 minutes\n",
      "Building tree: [gdi --project-dir simulations/alpha-0.5-cov-30/index-reads --ncores 32 rebuild tree --align-type full --extra-params '--fast -m GTR+F+R4' reference]\n"
     ]
    },
    {
     "name": "stdout",
     "output_type": "stream",
     "text": [
      "Building tree took 1.67 minutes\n"
     ]
    },
    {
     "name": "stderr",
     "output_type": "stream",
     "text": [
      "Attempting to set global database_path_translator=<genomics_data_index.storage.model.db.DatabasePathTranslator.DatabasePathTranslator object at 0x7ff0d9962ee0> but it is already set\n"
     ]
    },
    {
     "name": "stderr",
     "output_type": "stream",
     "text": [
      "A reminder to myself to look for a Python solution for directory sizes (instead of running `du`)\n"
     ]
    }
   ],
   "source": [
    "results_handler = gdi_benchmark.BenchmarkResultsHandler(name=f'{case_name} reads')\n",
    "benchmarker = gdi_benchmark.IndexBenchmarker(benchmark_results_handler=results_handler,\n",
    "                                             index_path=index_reads_path, input_files_file=input_genomes_file,\n",
    "                                             reference_file=reference_file, mincov=mincov, build_tree=True,\n",
    "                                             ncores=ncores)\n",
    "\n",
    "benchmark_df = benchmarker.benchmark(iterations=iterations)"
   ]
  },
  {
   "cell_type": "code",
   "execution_count": 7,
   "id": "3bcb6da7-0164-47f2-abdd-a4c159da1e3b",
   "metadata": {
    "execution": {
     "iopub.execute_input": "2021-09-11T19:56:48.332945Z",
     "iopub.status.busy": "2021-09-11T19:56:48.332420Z",
     "iopub.status.idle": "2021-09-11T19:56:48.359824Z",
     "shell.execute_reply": "2021-09-11T19:56:48.359058Z"
    },
    "papermill": {
     "duration": 0.054124,
     "end_time": "2021-09-11T19:56:48.360025",
     "exception": false,
     "start_time": "2021-09-11T19:56:48.305901",
     "status": "completed"
    },
    "tags": []
   },
   "outputs": [
    {
     "data": {
      "text/html": [
       "<div>\n",
       "<style scoped>\n",
       "    .dataframe tbody tr th:only-of-type {\n",
       "        vertical-align: middle;\n",
       "    }\n",
       "\n",
       "    .dataframe tbody tr th {\n",
       "        vertical-align: top;\n",
       "    }\n",
       "\n",
       "    .dataframe thead th {\n",
       "        text-align: right;\n",
       "    }\n",
       "</style>\n",
       "<table border=\"1\" class=\"dataframe\">\n",
       "  <thead>\n",
       "    <tr style=\"text-align: right;\">\n",
       "      <th></th>\n",
       "      <th>Name</th>\n",
       "      <th>Iteration</th>\n",
       "      <th>Number samples</th>\n",
       "      <th>Number features (all)</th>\n",
       "      <th>Number features (no unknown)</th>\n",
       "      <th>Number cores</th>\n",
       "      <th>Reference length</th>\n",
       "      <th>Analysis runtime</th>\n",
       "      <th>Analysis memory (max)</th>\n",
       "      <th>Analysis memory (max/process)</th>\n",
       "      <th>Analysis disk uage</th>\n",
       "      <th>Index runtime</th>\n",
       "      <th>Index memory (max)</th>\n",
       "      <th>Index memory (max/process)</th>\n",
       "      <th>Index size</th>\n",
       "      <th>Tree runtime</th>\n",
       "      <th>Tree memory (max)</th>\n",
       "      <th>Tree memory (max/process)</th>\n",
       "      <th>Total runtime</th>\n",
       "      <th>Max memory</th>\n",
       "    </tr>\n",
       "  </thead>\n",
       "  <tbody>\n",
       "    <tr>\n",
       "      <th>0</th>\n",
       "      <td>alpha-0.5-cov-30 reads</td>\n",
       "      <td>1</td>\n",
       "      <td>59</td>\n",
       "      <td>4462</td>\n",
       "      <td>2168</td>\n",
       "      <td>32</td>\n",
       "      <td>19699</td>\n",
       "      <td>125.85</td>\n",
       "      <td>2.668659e+09</td>\n",
       "      <td>394375168.0</td>\n",
       "      <td>3.303088e+09</td>\n",
       "      <td>8.12</td>\n",
       "      <td>5.809979e+09</td>\n",
       "      <td>290533376.0</td>\n",
       "      <td>2678784.0</td>\n",
       "      <td>109.70</td>\n",
       "      <td>261222400.0</td>\n",
       "      <td>222740480.0</td>\n",
       "      <td>243.67</td>\n",
       "      <td>5.809979e+09</td>\n",
       "    </tr>\n",
       "    <tr>\n",
       "      <th>0</th>\n",
       "      <td>alpha-0.5-cov-30 reads</td>\n",
       "      <td>2</td>\n",
       "      <td>59</td>\n",
       "      <td>4462</td>\n",
       "      <td>2168</td>\n",
       "      <td>32</td>\n",
       "      <td>19699</td>\n",
       "      <td>105.02</td>\n",
       "      <td>2.697171e+09</td>\n",
       "      <td>385716224.0</td>\n",
       "      <td>3.303105e+09</td>\n",
       "      <td>7.73</td>\n",
       "      <td>5.821202e+09</td>\n",
       "      <td>290889728.0</td>\n",
       "      <td>2678784.0</td>\n",
       "      <td>100.77</td>\n",
       "      <td>261804032.0</td>\n",
       "      <td>223105024.0</td>\n",
       "      <td>213.52</td>\n",
       "      <td>5.821202e+09</td>\n",
       "    </tr>\n",
       "    <tr>\n",
       "      <th>0</th>\n",
       "      <td>alpha-0.5-cov-30 reads</td>\n",
       "      <td>3</td>\n",
       "      <td>59</td>\n",
       "      <td>4462</td>\n",
       "      <td>2168</td>\n",
       "      <td>32</td>\n",
       "      <td>19699</td>\n",
       "      <td>101.60</td>\n",
       "      <td>2.456666e+09</td>\n",
       "      <td>391593984.0</td>\n",
       "      <td>3.303105e+09</td>\n",
       "      <td>8.22</td>\n",
       "      <td>5.822681e+09</td>\n",
       "      <td>291368960.0</td>\n",
       "      <td>2678784.0</td>\n",
       "      <td>99.93</td>\n",
       "      <td>261754880.0</td>\n",
       "      <td>223051776.0</td>\n",
       "      <td>209.75</td>\n",
       "      <td>5.822681e+09</td>\n",
       "    </tr>\n",
       "  </tbody>\n",
       "</table>\n",
       "</div>"
      ],
      "text/plain": [
       "                     Name  Iteration  Number samples  Number features (all)  \\\n",
       "0  alpha-0.5-cov-30 reads          1              59                   4462   \n",
       "0  alpha-0.5-cov-30 reads          2              59                   4462   \n",
       "0  alpha-0.5-cov-30 reads          3              59                   4462   \n",
       "\n",
       "   Number features (no unknown)  Number cores  Reference length  \\\n",
       "0                          2168            32             19699   \n",
       "0                          2168            32             19699   \n",
       "0                          2168            32             19699   \n",
       "\n",
       "   Analysis runtime  Analysis memory (max)  Analysis memory (max/process)  \\\n",
       "0            125.85           2.668659e+09                    394375168.0   \n",
       "0            105.02           2.697171e+09                    385716224.0   \n",
       "0            101.60           2.456666e+09                    391593984.0   \n",
       "\n",
       "   Analysis disk uage  Index runtime  Index memory (max)  \\\n",
       "0        3.303088e+09           8.12        5.809979e+09   \n",
       "0        3.303105e+09           7.73        5.821202e+09   \n",
       "0        3.303105e+09           8.22        5.822681e+09   \n",
       "\n",
       "   Index memory (max/process)  Index size  Tree runtime  Tree memory (max)  \\\n",
       "0                 290533376.0   2678784.0        109.70        261222400.0   \n",
       "0                 290889728.0   2678784.0        100.77        261804032.0   \n",
       "0                 291368960.0   2678784.0         99.93        261754880.0   \n",
       "\n",
       "   Tree memory (max/process)  Total runtime    Max memory  \n",
       "0                222740480.0         243.67  5.809979e+09  \n",
       "0                223105024.0         213.52  5.821202e+09  \n",
       "0                223051776.0         209.75  5.822681e+09  "
      ]
     },
     "execution_count": 7,
     "metadata": {},
     "output_type": "execute_result"
    }
   ],
   "source": [
    "benchmark_df"
   ]
  },
  {
   "cell_type": "code",
   "execution_count": 8,
   "id": "535a9ccc-ab9c-4919-806f-128e1efd2389",
   "metadata": {
    "execution": {
     "iopub.execute_input": "2021-09-11T19:56:48.397732Z",
     "iopub.status.busy": "2021-09-11T19:56:48.397305Z",
     "iopub.status.idle": "2021-09-11T19:56:48.404148Z",
     "shell.execute_reply": "2021-09-11T19:56:48.404496Z"
    },
    "papermill": {
     "duration": 0.024578,
     "end_time": "2021-09-11T19:56:48.404602",
     "exception": false,
     "start_time": "2021-09-11T19:56:48.380024",
     "status": "completed"
    },
    "tags": []
   },
   "outputs": [],
   "source": [
    "index_reads_runtime = simulation_dir_path / 'reads-index-info.tsv'\n",
    "benchmark_df.to_csv(index_reads_runtime, sep='\\t', index=False)"
   ]
  },
  {
   "cell_type": "markdown",
   "id": "c331578f-4026-4a9f-a3ba-288814b02ed2",
   "metadata": {
    "papermill": {
     "duration": 0.011374,
     "end_time": "2021-09-11T19:56:48.431124",
     "exception": false,
     "start_time": "2021-09-11T19:56:48.419750",
     "status": "completed"
    },
    "tags": []
   },
   "source": [
    "## 2.2. Index assemblies"
   ]
  },
  {
   "cell_type": "code",
   "execution_count": 9,
   "id": "6e6664f4-94ee-4c45-b1fc-e048b387fa49",
   "metadata": {
    "execution": {
     "iopub.execute_input": "2021-09-11T19:56:48.469466Z",
     "iopub.status.busy": "2021-09-11T19:56:48.460653Z",
     "iopub.status.idle": "2021-09-11T19:56:51.279310Z",
     "shell.execute_reply": "2021-09-11T19:56:51.278286Z"
    },
    "papermill": {
     "duration": 2.837065,
     "end_time": "2021-09-11T19:56:51.279606",
     "exception": false,
     "start_time": "2021-09-11T19:56:48.442541",
     "status": "completed"
    },
    "tags": []
   },
   "outputs": [],
   "source": [
    "input_genomes_file = simulation_dir_path / 'input-assemblies.tsv'\n",
    "\n",
    "!gdi input --absolute {assemblies_dir}/*.fa.gz > {input_genomes_file}"
   ]
  },
  {
   "cell_type": "code",
   "execution_count": 10,
   "id": "0a1e62f3-3b0c-4a90-a7fe-f0bc1094e350",
   "metadata": {
    "execution": {
     "iopub.execute_input": "2021-09-11T19:56:51.322293Z",
     "iopub.status.busy": "2021-09-11T19:56:51.321622Z",
     "iopub.status.idle": "2021-09-11T20:06:42.705799Z",
     "shell.execute_reply": "2021-09-11T20:06:42.706695Z"
    },
    "papermill": {
     "duration": 591.40359,
     "end_time": "2021-09-11T20:06:42.706976",
     "exception": false,
     "start_time": "2021-09-11T19:56:51.303386",
     "status": "completed"
    },
    "tags": []
   },
   "outputs": [
    {
     "name": "stdout",
     "output_type": "stream",
     "text": [
      "\n",
      "Iteration 1 of index/analysis of 59 samples with 32 cores\n",
      "Removing any extra snakemake directories: ['snakemake-assemblies.1631390000.4381294']\n"
     ]
    },
    {
     "name": "stdout",
     "output_type": "stream",
     "text": [
      "Creating new index: [gdi init simulations/alpha-0.5-cov-30/index-assemblies]\n"
     ]
    },
    {
     "name": "stdout",
     "output_type": "stream",
     "text": [
      "Creating a new index took 2.84 seconds\n",
      "Analysis running: [gdi --project-dir simulations/alpha-0.5-cov-30/index-assemblies --ncores 32 analysis --use-conda --no-load-data --reference-file simulations/reference/reference.fa.gz --kmer-size 31 --kmer-size 51 --kmer-size 71 --include-kmer --reads-mincov 10 --input-structured-genomes-file simulations/alpha-0.5-cov-30/input-assemblies.tsv]\n"
     ]
    },
    {
     "name": "stdout",
     "output_type": "stream",
     "text": [
      "Analysis took 1.54 minutes\n",
      "Index running: [gdi --project-dir simulations/alpha-0.5-cov-30/index-assemblies --ncores 32 load vcf-kmer --reference-file simulations/reference/reference.fa.gz /home/CSCScience.ca/apetkau/workspace/genomics-data-index-evaluation/evaluations/simulation/snakemake-assemblies.1631390218.4584317/gdi-input.fofn]\n"
     ]
    },
    {
     "name": "stdout",
     "output_type": "stream",
     "text": [
      "Indexing took 0.12 minutes\n",
      "Building tree: [gdi --project-dir simulations/alpha-0.5-cov-30/index-assemblies --ncores 32 rebuild tree --align-type full --extra-params '--fast -m GTR+F+R4' reference]\n"
     ]
    },
    {
     "name": "stdout",
     "output_type": "stream",
     "text": [
      "Building tree took 1.42 minutes\n"
     ]
    },
    {
     "name": "stderr",
     "output_type": "stream",
     "text": [
      "Attempting to set global database_path_translator=<genomics_data_index.storage.model.db.DatabasePathTranslator.DatabasePathTranslator object at 0x7ff0da3a3940> but it is already set\n"
     ]
    },
    {
     "name": "stderr",
     "output_type": "stream",
     "text": [
      "A reminder to myself to look for a Python solution for directory sizes (instead of running `du`)\n"
     ]
    },
    {
     "name": "stdout",
     "output_type": "stream",
     "text": [
      "\n",
      "Iteration 2 of index/analysis of 59 samples with 32 cores\n",
      "Removing any extra snakemake directories: ['snakemake-assemblies.1631390218.4584317']\n"
     ]
    },
    {
     "name": "stdout",
     "output_type": "stream",
     "text": [
      "Removing any existing indexes simulations/alpha-0.5-cov-30/index-assemblies\n",
      "Creating new index: [gdi init simulations/alpha-0.5-cov-30/index-assemblies]\n"
     ]
    },
    {
     "name": "stdout",
     "output_type": "stream",
     "text": [
      "Creating a new index took 2.76 seconds\n",
      "Analysis running: [gdi --project-dir simulations/alpha-0.5-cov-30/index-assemblies --ncores 32 analysis --use-conda --no-load-data --reference-file simulations/reference/reference.fa.gz --kmer-size 31 --kmer-size 51 --kmer-size 71 --include-kmer --reads-mincov 10 --input-structured-genomes-file simulations/alpha-0.5-cov-30/input-assemblies.tsv]\n"
     ]
    },
    {
     "name": "stdout",
     "output_type": "stream",
     "text": [
      "Analysis took 1.58 minutes\n",
      "Index running: [gdi --project-dir simulations/alpha-0.5-cov-30/index-assemblies --ncores 32 load vcf-kmer --reference-file simulations/reference/reference.fa.gz /home/CSCScience.ca/apetkau/workspace/genomics-data-index-evaluation/evaluations/simulation/snakemake-assemblies.1631390407.7995796/gdi-input.fofn]\n"
     ]
    },
    {
     "name": "stdout",
     "output_type": "stream",
     "text": [
      "Indexing took 0.13 minutes\n",
      "Building tree: [gdi --project-dir simulations/alpha-0.5-cov-30/index-assemblies --ncores 32 rebuild tree --align-type full --extra-params '--fast -m GTR+F+R4' reference]\n"
     ]
    },
    {
     "name": "stdout",
     "output_type": "stream",
     "text": [
      "Building tree took 1.49 minutes\n"
     ]
    },
    {
     "name": "stderr",
     "output_type": "stream",
     "text": [
      "Attempting to set global database_path_translator=<genomics_data_index.storage.model.db.DatabasePathTranslator.DatabasePathTranslator object at 0x7ff0d98df490> but it is already set\n"
     ]
    },
    {
     "name": "stderr",
     "output_type": "stream",
     "text": [
      "A reminder to myself to look for a Python solution for directory sizes (instead of running `du`)\n"
     ]
    },
    {
     "name": "stdout",
     "output_type": "stream",
     "text": [
      "\n",
      "Iteration 3 of index/analysis of 59 samples with 32 cores\n",
      "Removing any extra snakemake directories: ['snakemake-assemblies.1631390407.7995796']\n"
     ]
    },
    {
     "name": "stdout",
     "output_type": "stream",
     "text": [
      "Removing any existing indexes simulations/alpha-0.5-cov-30/index-assemblies\n",
      "Creating new index: [gdi init simulations/alpha-0.5-cov-30/index-assemblies]\n"
     ]
    },
    {
     "name": "stdout",
     "output_type": "stream",
     "text": [
      "Creating a new index took 2.79 seconds\n",
      "Analysis running: [gdi --project-dir simulations/alpha-0.5-cov-30/index-assemblies --ncores 32 analysis --use-conda --no-load-data --reference-file simulations/reference/reference.fa.gz --kmer-size 31 --kmer-size 51 --kmer-size 71 --include-kmer --reads-mincov 10 --input-structured-genomes-file simulations/alpha-0.5-cov-30/input-assemblies.tsv]\n"
     ]
    },
    {
     "name": "stdout",
     "output_type": "stream",
     "text": [
      "Analysis took 1.56 minutes\n",
      "Index running: [gdi --project-dir simulations/alpha-0.5-cov-30/index-assemblies --ncores 32 load vcf-kmer --reference-file simulations/reference/reference.fa.gz /home/CSCScience.ca/apetkau/workspace/genomics-data-index-evaluation/evaluations/simulation/snakemake-assemblies.1631390603.832119/gdi-input.fofn]\n"
     ]
    },
    {
     "name": "stdout",
     "output_type": "stream",
     "text": [
      "Indexing took 0.13 minutes\n",
      "Building tree: [gdi --project-dir simulations/alpha-0.5-cov-30/index-assemblies --ncores 32 rebuild tree --align-type full --extra-params '--fast -m GTR+F+R4' reference]\n"
     ]
    },
    {
     "name": "stdout",
     "output_type": "stream",
     "text": [
      "Building tree took 1.67 minutes\n"
     ]
    },
    {
     "name": "stderr",
     "output_type": "stream",
     "text": [
      "Attempting to set global database_path_translator=<genomics_data_index.storage.model.db.DatabasePathTranslator.DatabasePathTranslator object at 0x7ff0d17d8fd0> but it is already set\n"
     ]
    },
    {
     "name": "stderr",
     "output_type": "stream",
     "text": [
      "A reminder to myself to look for a Python solution for directory sizes (instead of running `du`)\n"
     ]
    }
   ],
   "source": [
    "results_handler = gdi_benchmark.BenchmarkResultsHandler(name=f'{case_name} assemblies')\n",
    "benchmarker = gdi_benchmark.IndexBenchmarker(benchmark_results_handler=results_handler,\n",
    "                                             index_path=index_assemblies_path, input_files_file=input_genomes_file,\n",
    "                                             reference_file=reference_file, mincov=mincov, build_tree=True,\n",
    "                                             ncores=ncores)\n",
    "\n",
    "benchmark_df = benchmarker.benchmark(iterations=iterations)"
   ]
  },
  {
   "cell_type": "code",
   "execution_count": 11,
   "id": "a6d55a9d-be2f-4851-b66c-04b5ebd597a1",
   "metadata": {
    "execution": {
     "iopub.execute_input": "2021-09-11T20:06:42.787477Z",
     "iopub.status.busy": "2021-09-11T20:06:42.786611Z",
     "iopub.status.idle": "2021-09-11T20:06:42.791573Z",
     "shell.execute_reply": "2021-09-11T20:06:42.790707Z"
    },
    "papermill": {
     "duration": 0.053807,
     "end_time": "2021-09-11T20:06:42.791787",
     "exception": false,
     "start_time": "2021-09-11T20:06:42.737980",
     "status": "completed"
    },
    "tags": []
   },
   "outputs": [
    {
     "data": {
      "text/html": [
       "<div>\n",
       "<style scoped>\n",
       "    .dataframe tbody tr th:only-of-type {\n",
       "        vertical-align: middle;\n",
       "    }\n",
       "\n",
       "    .dataframe tbody tr th {\n",
       "        vertical-align: top;\n",
       "    }\n",
       "\n",
       "    .dataframe thead th {\n",
       "        text-align: right;\n",
       "    }\n",
       "</style>\n",
       "<table border=\"1\" class=\"dataframe\">\n",
       "  <thead>\n",
       "    <tr style=\"text-align: right;\">\n",
       "      <th></th>\n",
       "      <th>Name</th>\n",
       "      <th>Iteration</th>\n",
       "      <th>Number samples</th>\n",
       "      <th>Number features (all)</th>\n",
       "      <th>Number features (no unknown)</th>\n",
       "      <th>Number cores</th>\n",
       "      <th>Reference length</th>\n",
       "      <th>Analysis runtime</th>\n",
       "      <th>Analysis memory (max)</th>\n",
       "      <th>Analysis memory (max/process)</th>\n",
       "      <th>Analysis disk uage</th>\n",
       "      <th>Index runtime</th>\n",
       "      <th>Index memory (max)</th>\n",
       "      <th>Index memory (max/process)</th>\n",
       "      <th>Index size</th>\n",
       "      <th>Tree runtime</th>\n",
       "      <th>Tree memory (max)</th>\n",
       "      <th>Tree memory (max/process)</th>\n",
       "      <th>Total runtime</th>\n",
       "      <th>Max memory</th>\n",
       "    </tr>\n",
       "  </thead>\n",
       "  <tbody>\n",
       "    <tr>\n",
       "      <th>0</th>\n",
       "      <td>alpha-0.5-cov-30 assemblies</td>\n",
       "      <td>1</td>\n",
       "      <td>59</td>\n",
       "      <td>2221</td>\n",
       "      <td>2221</td>\n",
       "      <td>32</td>\n",
       "      <td>19699</td>\n",
       "      <td>92.31</td>\n",
       "      <td>1.373561e+09</td>\n",
       "      <td>380080128.0</td>\n",
       "      <td>2.084635e+09</td>\n",
       "      <td>7.14</td>\n",
       "      <td>5.808984e+09</td>\n",
       "      <td>258875392.0</td>\n",
       "      <td>1503232.0</td>\n",
       "      <td>85.18</td>\n",
       "      <td>239722496.0</td>\n",
       "      <td>223035392.0</td>\n",
       "      <td>184.63</td>\n",
       "      <td>5.808984e+09</td>\n",
       "    </tr>\n",
       "    <tr>\n",
       "      <th>0</th>\n",
       "      <td>alpha-0.5-cov-30 assemblies</td>\n",
       "      <td>2</td>\n",
       "      <td>59</td>\n",
       "      <td>2221</td>\n",
       "      <td>2221</td>\n",
       "      <td>32</td>\n",
       "      <td>19699</td>\n",
       "      <td>94.75</td>\n",
       "      <td>1.191604e+09</td>\n",
       "      <td>374145024.0</td>\n",
       "      <td>2.084639e+09</td>\n",
       "      <td>7.43</td>\n",
       "      <td>5.800448e+09</td>\n",
       "      <td>258015232.0</td>\n",
       "      <td>1499136.0</td>\n",
       "      <td>89.26</td>\n",
       "      <td>240496640.0</td>\n",
       "      <td>223199232.0</td>\n",
       "      <td>191.44</td>\n",
       "      <td>5.800448e+09</td>\n",
       "    </tr>\n",
       "    <tr>\n",
       "      <th>0</th>\n",
       "      <td>alpha-0.5-cov-30 assemblies</td>\n",
       "      <td>3</td>\n",
       "      <td>59</td>\n",
       "      <td>2221</td>\n",
       "      <td>2221</td>\n",
       "      <td>32</td>\n",
       "      <td>19699</td>\n",
       "      <td>93.76</td>\n",
       "      <td>1.317315e+09</td>\n",
       "      <td>375664640.0</td>\n",
       "      <td>2.084639e+09</td>\n",
       "      <td>7.41</td>\n",
       "      <td>5.815210e+09</td>\n",
       "      <td>258932736.0</td>\n",
       "      <td>1495040.0</td>\n",
       "      <td>99.80</td>\n",
       "      <td>240009216.0</td>\n",
       "      <td>222748672.0</td>\n",
       "      <td>200.97</td>\n",
       "      <td>5.815210e+09</td>\n",
       "    </tr>\n",
       "  </tbody>\n",
       "</table>\n",
       "</div>"
      ],
      "text/plain": [
       "                          Name  Iteration  Number samples  \\\n",
       "0  alpha-0.5-cov-30 assemblies          1              59   \n",
       "0  alpha-0.5-cov-30 assemblies          2              59   \n",
       "0  alpha-0.5-cov-30 assemblies          3              59   \n",
       "\n",
       "   Number features (all)  Number features (no unknown)  Number cores  \\\n",
       "0                   2221                          2221            32   \n",
       "0                   2221                          2221            32   \n",
       "0                   2221                          2221            32   \n",
       "\n",
       "   Reference length  Analysis runtime  Analysis memory (max)  \\\n",
       "0             19699             92.31           1.373561e+09   \n",
       "0             19699             94.75           1.191604e+09   \n",
       "0             19699             93.76           1.317315e+09   \n",
       "\n",
       "   Analysis memory (max/process)  Analysis disk uage  Index runtime  \\\n",
       "0                    380080128.0        2.084635e+09           7.14   \n",
       "0                    374145024.0        2.084639e+09           7.43   \n",
       "0                    375664640.0        2.084639e+09           7.41   \n",
       "\n",
       "   Index memory (max)  Index memory (max/process)  Index size  Tree runtime  \\\n",
       "0        5.808984e+09                 258875392.0   1503232.0         85.18   \n",
       "0        5.800448e+09                 258015232.0   1499136.0         89.26   \n",
       "0        5.815210e+09                 258932736.0   1495040.0         99.80   \n",
       "\n",
       "   Tree memory (max)  Tree memory (max/process)  Total runtime    Max memory  \n",
       "0        239722496.0                223035392.0         184.63  5.808984e+09  \n",
       "0        240496640.0                223199232.0         191.44  5.800448e+09  \n",
       "0        240009216.0                222748672.0         200.97  5.815210e+09  "
      ]
     },
     "execution_count": 11,
     "metadata": {},
     "output_type": "execute_result"
    }
   ],
   "source": [
    "benchmark_df"
   ]
  },
  {
   "cell_type": "code",
   "execution_count": 12,
   "id": "e1a6d962-50bc-4c8d-a6f2-3a661da706b4",
   "metadata": {
    "execution": {
     "iopub.execute_input": "2021-09-11T20:06:42.846404Z",
     "iopub.status.busy": "2021-09-11T20:06:42.843954Z",
     "iopub.status.idle": "2021-09-11T20:06:42.849323Z",
     "shell.execute_reply": "2021-09-11T20:06:42.849620Z"
    },
    "papermill": {
     "duration": 0.028726,
     "end_time": "2021-09-11T20:06:42.849719",
     "exception": false,
     "start_time": "2021-09-11T20:06:42.820993",
     "status": "completed"
    },
    "tags": []
   },
   "outputs": [],
   "source": [
    "index_assemblies_runtime = simulation_dir_path / 'assemblies-index-info.tsv'\n",
    "benchmark_df.to_csv(index_assemblies_runtime, sep='\\t', index=False)"
   ]
  },
  {
   "cell_type": "markdown",
   "id": "6cb7673b-9f85-4c43-b2e2-93538497a196",
   "metadata": {
    "papermill": {
     "duration": 0.016234,
     "end_time": "2021-09-11T20:06:42.884843",
     "exception": false,
     "start_time": "2021-09-11T20:06:42.868609",
     "status": "completed"
    },
    "tags": []
   },
   "source": [
    "# 3. Export trees"
   ]
  },
  {
   "cell_type": "code",
   "execution_count": 13,
   "id": "5280f82c-5434-4391-8c44-b937a7c95bd5",
   "metadata": {
    "execution": {
     "iopub.execute_input": "2021-09-11T20:06:42.936619Z",
     "iopub.status.busy": "2021-09-11T20:06:42.926631Z",
     "iopub.status.idle": "2021-09-11T20:06:48.264583Z",
     "shell.execute_reply": "2021-09-11T20:06:48.265420Z"
    },
    "papermill": {
     "duration": 5.364573,
     "end_time": "2021-09-11T20:06:48.265701",
     "exception": false,
     "start_time": "2021-09-11T20:06:42.901128",
     "status": "completed"
    },
    "tags": []
   },
   "outputs": [
    {
     "name": "stdout",
     "output_type": "stream",
     "text": [
      "Wrote assemblies tree to simulations/alpha-0.5-cov-30/index-assemblies/assemblies.tre\n"
     ]
    },
    {
     "name": "stdout",
     "output_type": "stream",
     "text": [
      "Wrote assemblies tree to simulations/alpha-0.5-cov-30/index-reads/reads.tre\n"
     ]
    }
   ],
   "source": [
    "!gdi --project-dir {index_assemblies_path} export tree {reference_name} > {output_assemblies_tree}\n",
    "print(f'Wrote assemblies tree to {output_assemblies_tree}')\n",
    "\n",
    "!gdi --project-dir {index_reads_path} export tree {reference_name} > {output_reads_tree}\n",
    "print(f'Wrote assemblies tree to {output_reads_tree}')"
   ]
  }
 ],
 "metadata": {
  "kernelspec": {
   "display_name": "Python 3 (ipykernel)",
   "language": "python",
   "name": "python3"
  },
  "language_info": {
   "codemirror_mode": {
    "name": "ipython",
    "version": 3
   },
   "file_extension": ".py",
   "mimetype": "text/x-python",
   "name": "python",
   "nbconvert_exporter": "python",
   "pygments_lexer": "ipython3",
   "version": "3.8.10"
  },
  "papermill": {
   "default_parameters": {},
   "duration": 1290.53875,
   "end_time": "2021-09-11T20:06:48.909985",
   "environment_variables": {},
   "exception": null,
   "input_path": "template-3-index-genomes.ipynb",
   "output_path": "3-index-genomes.simulation-alpha-0.5.ipynb",
   "parameters": {
    "iterations": 3,
    "mincov": 10,
    "read_coverage": 30,
    "simulation_dir": "simulations/alpha-0.5-cov-30",
    "sub_alpha": 0.5
   },
   "start_time": "2021-09-11T19:45:18.371235",
   "version": "2.3.3"
  }
 },
 "nbformat": 4,
 "nbformat_minor": 5
}