{
 "cells": [
  {
   "cell_type": "markdown",
   "id": "7d3667b4-b1f8-4347-96e3-830c25b06740",
   "metadata": {
    "papermill": {
     "duration": 0.0181,
     "end_time": "2022-03-08T20:19:13.095673",
     "exception": false,
     "start_time": "2022-03-08T20:19:13.077573",
     "status": "completed"
    },
    "tags": []
   },
   "source": [
    "# 1. Parameters"
   ]
  },
  {
   "cell_type": "code",
   "execution_count": 1,
   "id": "d4ab0749-b286-4c34-b63c-a854e4952bae",
   "metadata": {
    "execution": {
     "iopub.execute_input": "2022-03-08T20:19:13.127115Z",
     "iopub.status.busy": "2022-03-08T20:19:13.126603Z",
     "iopub.status.idle": "2022-03-08T20:19:13.132910Z",
     "shell.execute_reply": "2022-03-08T20:19:13.131751Z"
    },
    "papermill": {
     "duration": 0.027775,
     "end_time": "2022-03-08T20:19:13.133165",
     "exception": false,
     "start_time": "2022-03-08T20:19:13.105390",
     "status": "completed"
    },
    "tags": [
     "parameters"
    ]
   },
   "outputs": [],
   "source": [
    "# Defaults\n",
    "simulation_dir = 'simulations/unset'\n",
    "reference_file = 'simulations/reference/reference.fa.gz'\n",
    "iterations = 3\n",
    "mincov = 10\n",
    "ncores = 32"
   ]
  },
  {
   "cell_type": "code",
   "execution_count": 2,
   "id": "3d0a9ee5",
   "metadata": {
    "execution": {
     "iopub.execute_input": "2022-03-08T20:19:13.167170Z",
     "iopub.status.busy": "2022-03-08T20:19:13.166717Z",
     "iopub.status.idle": "2022-03-08T20:19:13.169507Z",
     "shell.execute_reply": "2022-03-08T20:19:13.169866Z"
    },
    "papermill": {
     "duration": 0.019212,
     "end_time": "2022-03-08T20:19:13.169979",
     "exception": false,
     "start_time": "2022-03-08T20:19:13.150767",
     "status": "completed"
    },
    "tags": [
     "injected-parameters"
    ]
   },
   "outputs": [],
   "source": [
    "# Parameters\n",
    "read_coverage = 30\n",
    "mincov = 10\n",
    "simulation_dir = \"simulations/alpha-0.5-cov-30\"\n",
    "iterations = 3\n",
    "sub_alpha = 0.5\n"
   ]
  },
  {
   "cell_type": "code",
   "execution_count": 3,
   "id": "ce5962e4-261c-4210-b39b-47044e28466b",
   "metadata": {
    "execution": {
     "iopub.execute_input": "2022-03-08T20:19:13.196186Z",
     "iopub.status.busy": "2022-03-08T20:19:13.195755Z",
     "iopub.status.idle": "2022-03-08T20:19:15.975087Z",
     "shell.execute_reply": "2022-03-08T20:19:15.974065Z"
    },
    "papermill": {
     "duration": 2.795269,
     "end_time": "2022-03-08T20:19:15.975329",
     "exception": false,
     "start_time": "2022-03-08T20:19:13.180060",
     "status": "completed"
    },
    "tags": []
   },
   "outputs": [],
   "source": [
    "from pathlib import Path\n",
    "import imp\n",
    "fp, pathname, description = imp.find_module('gdi_benchmark', ['../../lib'])\n",
    "gdi_benchmark = imp.load_module('gdi_benchmark', fp, pathname, description)\n",
    "\n",
    "simulation_dir_path = Path(simulation_dir)\n",
    "\n",
    "case_name = str(simulation_dir_path.name)\n",
    "reads_dir = simulation_dir_path / 'simulated_data' / 'reads'\n",
    "assemblies_dir = simulation_dir_path / 'simulated_data' / 'assemblies'\n",
    "index_reads_path = simulation_dir_path / 'index-reads'\n",
    "index_assemblies_path = simulation_dir_path / 'index-assemblies'\n",
    "output_reads_tree = index_reads_path / 'reads.tre'\n",
    "output_assemblies_tree = index_assemblies_path / 'assemblies.tre'\n",
    "reference_name = Path(reference_file).name.split('.')[0]"
   ]
  },
  {
   "cell_type": "markdown",
   "id": "f208279e-7558-47fc-9362-da29df92828a",
   "metadata": {
    "papermill": {
     "duration": 0.010621,
     "end_time": "2022-03-08T20:19:16.004531",
     "exception": false,
     "start_time": "2022-03-08T20:19:15.993910",
     "status": "completed"
    },
    "tags": []
   },
   "source": [
    "# 2. Index genomes"
   ]
  },
  {
   "cell_type": "code",
   "execution_count": 4,
   "id": "4e936f7c-2fcd-4188-b0e6-6b3ceb5cdcd2",
   "metadata": {
    "execution": {
     "iopub.execute_input": "2022-03-08T20:19:16.026190Z",
     "iopub.status.busy": "2022-03-08T20:19:16.025790Z",
     "iopub.status.idle": "2022-03-08T20:19:19.561033Z",
     "shell.execute_reply": "2022-03-08T20:19:19.561900Z"
    },
    "papermill": {
     "duration": 3.549686,
     "end_time": "2022-03-08T20:19:19.562195",
     "exception": false,
     "start_time": "2022-03-08T20:19:16.012509",
     "status": "completed"
    },
    "tags": []
   },
   "outputs": [
    {
     "name": "stdout",
     "output_type": "stream",
     "text": [
      "gdi, version 0.6.0.dev2\r\n"
     ]
    }
   ],
   "source": [
    "!gdi --version"
   ]
  },
  {
   "cell_type": "markdown",
   "id": "5409ecf8-2158-4361-9d2f-6b1a6c7c63a6",
   "metadata": {
    "papermill": {
     "duration": 0.010015,
     "end_time": "2022-03-08T20:19:19.590256",
     "exception": false,
     "start_time": "2022-03-08T20:19:19.580241",
     "status": "completed"
    },
    "tags": []
   },
   "source": [
    "## 2.1. Index reads"
   ]
  },
  {
   "cell_type": "code",
   "execution_count": 5,
   "id": "b5324f79-913b-4dac-8122-19ad5c0f24b2",
   "metadata": {
    "execution": {
     "iopub.execute_input": "2022-03-08T20:19:19.625980Z",
     "iopub.status.busy": "2022-03-08T20:19:19.624840Z",
     "iopub.status.idle": "2022-03-08T20:19:23.202495Z",
     "shell.execute_reply": "2022-03-08T20:19:23.203361Z"
    },
    "papermill": {
     "duration": 3.605726,
     "end_time": "2022-03-08T20:19:23.203653",
     "exception": false,
     "start_time": "2022-03-08T20:19:19.597927",
     "status": "completed"
    },
    "tags": []
   },
   "outputs": [
    {
     "name": "stdout",
     "output_type": "stream",
     "text": [
      "\u001b[32m2022-03-08 14:19:22\u001b[0m \u001b[1;30mWARNING:\u001b[0m \u001b[33m--skip-existing-samples is enabled but no --project-dir is set. Will not skip existing samples.\u001b[0m\r\n"
     ]
    }
   ],
   "source": [
    "input_genomes_file = simulation_dir_path / 'input-reads.tsv'\n",
    "\n",
    "!gdi input --absolute {reads_dir}/*.fq.gz > {input_genomes_file}"
   ]
  },
  {
   "cell_type": "code",
   "execution_count": 6,
   "id": "3d63e861-733e-46f2-8bce-bd1a2c7c7058",
   "metadata": {
    "execution": {
     "iopub.execute_input": "2022-03-08T20:19:23.250866Z",
     "iopub.status.busy": "2022-03-08T20:19:23.248645Z",
     "iopub.status.idle": "2022-03-08T20:32:13.070416Z",
     "shell.execute_reply": "2022-03-08T20:32:13.069414Z"
    },
    "papermill": {
     "duration": 769.843396,
     "end_time": "2022-03-08T20:32:13.070704",
     "exception": false,
     "start_time": "2022-03-08T20:19:23.227308",
     "status": "completed"
    },
    "tags": []
   },
   "outputs": [
    {
     "name": "stdout",
     "output_type": "stream",
     "text": [
      "\n",
      "Iteration 1 of index/analysis of 59 samples with 32 cores\n",
      "Removing any extra snakemake directories: []\n",
      "Creating new index: [gdi init simulations/alpha-0.5-cov-30/index-reads]\n"
     ]
    },
    {
     "name": "stdout",
     "output_type": "stream",
     "text": [
      "Creating a new index took 3.37 seconds\n",
      "Analysis running: [gdi --project-dir simulations/alpha-0.5-cov-30/index-reads --ncores 32 analysis --use-conda --no-load-data --reference-file simulations/reference/reference.fa.gz --kmer-size 31 --kmer-size 51 --kmer-size 71 --include-kmer --reads-mincov 10 --input-structured-genomes-file simulations/alpha-0.5-cov-30/input-reads.tsv]\n"
     ]
    },
    {
     "name": "stdout",
     "output_type": "stream",
     "text": [
      "Analysis took 2.58 minutes\n",
      "Index running: [gdi --project-dir simulations/alpha-0.5-cov-30/index-reads --ncores 32 load vcf-kmer --sample-batch-size 2000 --reference-file simulations/reference/reference.fa.gz /home/CSCScience.ca/apetkau/workspace/genomics-data-index-evaluation/evaluations/simulation/snakemake-assemblies.1646770770.1233692/gdi-input.fofn]\n"
     ]
    },
    {
     "name": "stdout",
     "output_type": "stream",
     "text": [
      "Indexing took 0.15 minutes\n",
      "Building tree: [gdi --project-dir simulations/alpha-0.5-cov-30/index-reads --ncores 32 rebuild tree --align-type full --extra-params '--fast -m GTR+F+R4' reference]\n"
     ]
    },
    {
     "name": "stdout",
     "output_type": "stream",
     "text": [
      "Building tree took 1.74 minutes\n"
     ]
    },
    {
     "name": "stderr",
     "output_type": "stream",
     "text": [
      "A reminder to myself to look for a Python solution for directory sizes (instead of running `du`)\n"
     ]
    },
    {
     "name": "stdout",
     "output_type": "stream",
     "text": [
      "\n",
      "Iteration 2 of index/analysis of 59 samples with 32 cores\n",
      "Removing any extra snakemake directories: ['snakemake-assemblies.1646770770.1233692']\n"
     ]
    },
    {
     "name": "stdout",
     "output_type": "stream",
     "text": [
      "Removing any existing indexes simulations/alpha-0.5-cov-30/index-reads\n",
      "Creating new index: [gdi init simulations/alpha-0.5-cov-30/index-reads]\n"
     ]
    },
    {
     "name": "stdout",
     "output_type": "stream",
     "text": [
      "Creating a new index took 3.24 seconds\n",
      "Analysis running: [gdi --project-dir simulations/alpha-0.5-cov-30/index-reads --ncores 32 analysis --use-conda --no-load-data --reference-file simulations/reference/reference.fa.gz --kmer-size 31 --kmer-size 51 --kmer-size 71 --include-kmer --reads-mincov 10 --input-structured-genomes-file simulations/alpha-0.5-cov-30/input-reads.tsv]\n"
     ]
    },
    {
     "name": "stdout",
     "output_type": "stream",
     "text": [
      "Analysis took 2.17 minutes\n",
      "Index running: [gdi --project-dir simulations/alpha-0.5-cov-30/index-reads --ncores 32 load vcf-kmer --sample-batch-size 2000 --reference-file simulations/reference/reference.fa.gz /home/CSCScience.ca/apetkau/workspace/genomics-data-index-evaluation/evaluations/simulation/snakemake-assemblies.1646771043.370603/gdi-input.fofn]\n"
     ]
    },
    {
     "name": "stdout",
     "output_type": "stream",
     "text": [
      "Indexing took 0.15 minutes\n",
      "Building tree: [gdi --project-dir simulations/alpha-0.5-cov-30/index-reads --ncores 32 rebuild tree --align-type full --extra-params '--fast -m GTR+F+R4' reference]\n"
     ]
    },
    {
     "name": "stdout",
     "output_type": "stream",
     "text": [
      "Building tree took 1.90 minutes\n"
     ]
    },
    {
     "name": "stderr",
     "output_type": "stream",
     "text": [
      "Attempting to set global database_path_translator=<genomics_data_index.storage.model.db.DatabasePathTranslator.DatabasePathTranslator object at 0x7f41b3125ac0> but it is already set\n"
     ]
    },
    {
     "name": "stderr",
     "output_type": "stream",
     "text": [
      "A reminder to myself to look for a Python solution for directory sizes (instead of running `du`)\n"
     ]
    },
    {
     "name": "stdout",
     "output_type": "stream",
     "text": [
      "\n",
      "Iteration 3 of index/analysis of 59 samples with 32 cores\n",
      "Removing any extra snakemake directories: ['snakemake-assemblies.1646771043.370603']\n"
     ]
    },
    {
     "name": "stdout",
     "output_type": "stream",
     "text": [
      "Removing any existing indexes simulations/alpha-0.5-cov-30/index-reads\n",
      "Creating new index: [gdi init simulations/alpha-0.5-cov-30/index-reads]\n"
     ]
    },
    {
     "name": "stdout",
     "output_type": "stream",
     "text": [
      "Creating a new index took 3.11 seconds\n",
      "Analysis running: [gdi --project-dir simulations/alpha-0.5-cov-30/index-reads --ncores 32 analysis --use-conda --no-load-data --reference-file simulations/reference/reference.fa.gz --kmer-size 31 --kmer-size 51 --kmer-size 71 --include-kmer --reads-mincov 10 --input-structured-genomes-file simulations/alpha-0.5-cov-30/input-reads.tsv]\n"
     ]
    },
    {
     "name": "stdout",
     "output_type": "stream",
     "text": [
      "Analysis took 2.08 minutes\n",
      "Index running: [gdi --project-dir simulations/alpha-0.5-cov-30/index-reads --ncores 32 load vcf-kmer --sample-batch-size 2000 --reference-file simulations/reference/reference.fa.gz /home/CSCScience.ca/apetkau/workspace/genomics-data-index-evaluation/evaluations/simulation/snakemake-assemblies.1646771301.2573142/gdi-input.fofn]\n"
     ]
    },
    {
     "name": "stdout",
     "output_type": "stream",
     "text": [
      "Indexing took 0.16 minutes\n",
      "Building tree: [gdi --project-dir simulations/alpha-0.5-cov-30/index-reads --ncores 32 rebuild tree --align-type full --extra-params '--fast -m GTR+F+R4' reference]\n"
     ]
    },
    {
     "name": "stdout",
     "output_type": "stream",
     "text": [
      "Building tree took 1.67 minutes\n"
     ]
    },
    {
     "name": "stderr",
     "output_type": "stream",
     "text": [
      "Attempting to set global database_path_translator=<genomics_data_index.storage.model.db.DatabasePathTranslator.DatabasePathTranslator object at 0x7f419a6fce20> but it is already set\n"
     ]
    },
    {
     "name": "stderr",
     "output_type": "stream",
     "text": [
      "A reminder to myself to look for a Python solution for directory sizes (instead of running `du`)\n"
     ]
    }
   ],
   "source": [
    "results_handler = gdi_benchmark.BenchmarkResultsHandler(name=f'{case_name} reads')\n",
    "benchmarker = gdi_benchmark.IndexBenchmarker(benchmark_results_handler=results_handler,\n",
    "                                             index_path=index_reads_path, input_files_file=input_genomes_file,\n",
    "                                             reference_file=reference_file, mincov=mincov, build_tree=True,\n",
    "                                             ncores=ncores)\n",
    "\n",
    "benchmark_df = benchmarker.benchmark(iterations=iterations)"
   ]
  },
  {
   "cell_type": "code",
   "execution_count": 7,
   "id": "3bcb6da7-0164-47f2-abdd-a4c159da1e3b",
   "metadata": {
    "execution": {
     "iopub.execute_input": "2022-03-08T20:32:13.120771Z",
     "iopub.status.busy": "2022-03-08T20:32:13.120272Z",
     "iopub.status.idle": "2022-03-08T20:32:13.142293Z",
     "shell.execute_reply": "2022-03-08T20:32:13.141718Z"
    },
    "papermill": {
     "duration": 0.048664,
     "end_time": "2022-03-08T20:32:13.142425",
     "exception": false,
     "start_time": "2022-03-08T20:32:13.093761",
     "status": "completed"
    },
    "tags": []
   },
   "outputs": [
    {
     "data": {
      "text/html": [
       "<div>\n",
       "<style scoped>\n",
       "    .dataframe tbody tr th:only-of-type {\n",
       "        vertical-align: middle;\n",
       "    }\n",
       "\n",
       "    .dataframe tbody tr th {\n",
       "        vertical-align: top;\n",
       "    }\n",
       "\n",
       "    .dataframe thead th {\n",
       "        text-align: right;\n",
       "    }\n",
       "</style>\n",
       "<table border=\"1\" class=\"dataframe\">\n",
       "  <thead>\n",
       "    <tr style=\"text-align: right;\">\n",
       "      <th></th>\n",
       "      <th>Name</th>\n",
       "      <th>Reference name</th>\n",
       "      <th>Iteration</th>\n",
       "      <th>Number samples</th>\n",
       "      <th>Number features (all)</th>\n",
       "      <th>Number features (no unknown)</th>\n",
       "      <th>Number cores</th>\n",
       "      <th>Reference length</th>\n",
       "      <th>Analysis runtime</th>\n",
       "      <th>Analysis memory (max)</th>\n",
       "      <th>...</th>\n",
       "      <th>Analysis disk uage</th>\n",
       "      <th>Index runtime</th>\n",
       "      <th>Index memory (max)</th>\n",
       "      <th>Index memory (max/process)</th>\n",
       "      <th>Index size</th>\n",
       "      <th>Tree runtime</th>\n",
       "      <th>Tree memory (max)</th>\n",
       "      <th>Tree memory (max/process)</th>\n",
       "      <th>Total runtime</th>\n",
       "      <th>Max memory</th>\n",
       "    </tr>\n",
       "  </thead>\n",
       "  <tbody>\n",
       "    <tr>\n",
       "      <th>0</th>\n",
       "      <td>alpha-0.5-cov-30 reads</td>\n",
       "      <td>reference</td>\n",
       "      <td>1</td>\n",
       "      <td>59</td>\n",
       "      <td>4462</td>\n",
       "      <td>2168</td>\n",
       "      <td>32</td>\n",
       "      <td>19699</td>\n",
       "      <td>154.44</td>\n",
       "      <td>2.392060e+09</td>\n",
       "      <td>...</td>\n",
       "      <td>2.970440e+09</td>\n",
       "      <td>9.02</td>\n",
       "      <td>5.974831e+09</td>\n",
       "      <td>302485504.0</td>\n",
       "      <td>2674688.0</td>\n",
       "      <td>104.45</td>\n",
       "      <td>276508672.0</td>\n",
       "      <td>233897984.0</td>\n",
       "      <td>267.91</td>\n",
       "      <td>5.974831e+09</td>\n",
       "    </tr>\n",
       "    <tr>\n",
       "      <th>0</th>\n",
       "      <td>alpha-0.5-cov-30 reads</td>\n",
       "      <td>reference</td>\n",
       "      <td>2</td>\n",
       "      <td>59</td>\n",
       "      <td>4462</td>\n",
       "      <td>2168</td>\n",
       "      <td>32</td>\n",
       "      <td>19699</td>\n",
       "      <td>129.96</td>\n",
       "      <td>2.719162e+09</td>\n",
       "      <td>...</td>\n",
       "      <td>2.970436e+09</td>\n",
       "      <td>8.69</td>\n",
       "      <td>5.981331e+09</td>\n",
       "      <td>302522368.0</td>\n",
       "      <td>2678784.0</td>\n",
       "      <td>114.16</td>\n",
       "      <td>277880832.0</td>\n",
       "      <td>234885120.0</td>\n",
       "      <td>252.81</td>\n",
       "      <td>5.981331e+09</td>\n",
       "    </tr>\n",
       "    <tr>\n",
       "      <th>0</th>\n",
       "      <td>alpha-0.5-cov-30 reads</td>\n",
       "      <td>reference</td>\n",
       "      <td>3</td>\n",
       "      <td>59</td>\n",
       "      <td>4462</td>\n",
       "      <td>2168</td>\n",
       "      <td>32</td>\n",
       "      <td>19699</td>\n",
       "      <td>124.96</td>\n",
       "      <td>2.801869e+09</td>\n",
       "      <td>...</td>\n",
       "      <td>2.970440e+09</td>\n",
       "      <td>9.30</td>\n",
       "      <td>5.964804e+09</td>\n",
       "      <td>302706688.0</td>\n",
       "      <td>2674688.0</td>\n",
       "      <td>100.03</td>\n",
       "      <td>276615168.0</td>\n",
       "      <td>234491904.0</td>\n",
       "      <td>234.29</td>\n",
       "      <td>5.964804e+09</td>\n",
       "    </tr>\n",
       "  </tbody>\n",
       "</table>\n",
       "<p>3 rows × 21 columns</p>\n",
       "</div>"
      ],
      "text/plain": [
       "                     Name Reference name  Iteration  Number samples  \\\n",
       "0  alpha-0.5-cov-30 reads      reference          1              59   \n",
       "0  alpha-0.5-cov-30 reads      reference          2              59   \n",
       "0  alpha-0.5-cov-30 reads      reference          3              59   \n",
       "\n",
       "   Number features (all)  Number features (no unknown)  Number cores  \\\n",
       "0                   4462                          2168            32   \n",
       "0                   4462                          2168            32   \n",
       "0                   4462                          2168            32   \n",
       "\n",
       "   Reference length  Analysis runtime  Analysis memory (max)  ...  \\\n",
       "0             19699            154.44           2.392060e+09  ...   \n",
       "0             19699            129.96           2.719162e+09  ...   \n",
       "0             19699            124.96           2.801869e+09  ...   \n",
       "\n",
       "   Analysis disk uage  Index runtime  Index memory (max)  \\\n",
       "0        2.970440e+09           9.02        5.974831e+09   \n",
       "0        2.970436e+09           8.69        5.981331e+09   \n",
       "0        2.970440e+09           9.30        5.964804e+09   \n",
       "\n",
       "   Index memory (max/process)  Index size  Tree runtime  Tree memory (max)  \\\n",
       "0                 302485504.0   2674688.0        104.45        276508672.0   \n",
       "0                 302522368.0   2678784.0        114.16        277880832.0   \n",
       "0                 302706688.0   2674688.0        100.03        276615168.0   \n",
       "\n",
       "   Tree memory (max/process)  Total runtime    Max memory  \n",
       "0                233897984.0         267.91  5.974831e+09  \n",
       "0                234885120.0         252.81  5.981331e+09  \n",
       "0                234491904.0         234.29  5.964804e+09  \n",
       "\n",
       "[3 rows x 21 columns]"
      ]
     },
     "execution_count": 7,
     "metadata": {},
     "output_type": "execute_result"
    }
   ],
   "source": [
    "benchmark_df"
   ]
  },
  {
   "cell_type": "code",
   "execution_count": 8,
   "id": "535a9ccc-ab9c-4919-806f-128e1efd2389",
   "metadata": {
    "execution": {
     "iopub.execute_input": "2022-03-08T20:32:13.175387Z",
     "iopub.status.busy": "2022-03-08T20:32:13.174980Z",
     "iopub.status.idle": "2022-03-08T20:32:13.181218Z",
     "shell.execute_reply": "2022-03-08T20:32:13.180795Z"
    },
    "papermill": {
     "duration": 0.022538,
     "end_time": "2022-03-08T20:32:13.181328",
     "exception": false,
     "start_time": "2022-03-08T20:32:13.158790",
     "status": "completed"
    },
    "tags": []
   },
   "outputs": [],
   "source": [
    "index_reads_runtime = simulation_dir_path / 'reads-index-info.tsv'\n",
    "benchmark_df.to_csv(index_reads_runtime, sep='\\t', index=False)"
   ]
  },
  {
   "cell_type": "markdown",
   "id": "c331578f-4026-4a9f-a3ba-288814b02ed2",
   "metadata": {
    "papermill": {
     "duration": 0.011397,
     "end_time": "2022-03-08T20:32:13.206745",
     "exception": false,
     "start_time": "2022-03-08T20:32:13.195348",
     "status": "completed"
    },
    "tags": []
   },
   "source": [
    "## 2.2. Index assemblies"
   ]
  },
  {
   "cell_type": "code",
   "execution_count": 9,
   "id": "6e6664f4-94ee-4c45-b1fc-e048b387fa49",
   "metadata": {
    "execution": {
     "iopub.execute_input": "2022-03-08T20:32:13.244255Z",
     "iopub.status.busy": "2022-03-08T20:32:13.235862Z",
     "iopub.status.idle": "2022-03-08T20:32:16.748191Z",
     "shell.execute_reply": "2022-03-08T20:32:16.749084Z"
    },
    "papermill": {
     "duration": 3.531446,
     "end_time": "2022-03-08T20:32:16.749383",
     "exception": false,
     "start_time": "2022-03-08T20:32:13.217937",
     "status": "completed"
    },
    "tags": []
   },
   "outputs": [
    {
     "name": "stdout",
     "output_type": "stream",
     "text": [
      "\u001b[32m2022-03-08 14:32:16\u001b[0m \u001b[1;30mWARNING:\u001b[0m \u001b[33m--skip-existing-samples is enabled but no --project-dir is set. Will not skip existing samples.\u001b[0m\r\n"
     ]
    }
   ],
   "source": [
    "input_genomes_file = simulation_dir_path / 'input-assemblies.tsv'\n",
    "\n",
    "!gdi input --absolute {assemblies_dir}/*.fa.gz > {input_genomes_file}"
   ]
  },
  {
   "cell_type": "code",
   "execution_count": 10,
   "id": "0a1e62f3-3b0c-4a90-a7fe-f0bc1094e350",
   "metadata": {
    "execution": {
     "iopub.execute_input": "2022-03-08T20:32:16.799688Z",
     "iopub.status.busy": "2022-03-08T20:32:16.799225Z",
     "iopub.status.idle": "2022-03-08T20:43:05.894401Z",
     "shell.execute_reply": "2022-03-08T20:43:05.893442Z"
    },
    "papermill": {
     "duration": 649.118785,
     "end_time": "2022-03-08T20:43:05.894656",
     "exception": false,
     "start_time": "2022-03-08T20:32:16.775871",
     "status": "completed"
    },
    "tags": []
   },
   "outputs": [
    {
     "name": "stdout",
     "output_type": "stream",
     "text": [
      "\n",
      "Iteration 1 of index/analysis of 59 samples with 32 cores\n",
      "Removing any extra snakemake directories: ['snakemake-assemblies.1646771301.2573142']\n"
     ]
    },
    {
     "name": "stdout",
     "output_type": "stream",
     "text": [
      "Creating new index: [gdi init simulations/alpha-0.5-cov-30/index-assemblies]\n"
     ]
    },
    {
     "name": "stdout",
     "output_type": "stream",
     "text": [
      "Creating a new index took 3.52 seconds\n",
      "Analysis running: [gdi --project-dir simulations/alpha-0.5-cov-30/index-assemblies --ncores 32 analysis --use-conda --no-load-data --reference-file simulations/reference/reference.fa.gz --kmer-size 31 --kmer-size 51 --kmer-size 71 --include-kmer --reads-mincov 10 --input-structured-genomes-file simulations/alpha-0.5-cov-30/input-assemblies.tsv]\n"
     ]
    },
    {
     "name": "stdout",
     "output_type": "stream",
     "text": [
      "Analysis took 1.83 minutes\n",
      "Index running: [gdi --project-dir simulations/alpha-0.5-cov-30/index-assemblies --ncores 32 load vcf-kmer --sample-batch-size 2000 --reference-file simulations/reference/reference.fa.gz /home/CSCScience.ca/apetkau/workspace/genomics-data-index-evaluation/evaluations/simulation/snakemake-assemblies.1646771544.9400203/gdi-input.fofn]\n"
     ]
    },
    {
     "name": "stdout",
     "output_type": "stream",
     "text": [
      "Indexing took 0.13 minutes\n",
      "Building tree: [gdi --project-dir simulations/alpha-0.5-cov-30/index-assemblies --ncores 32 rebuild tree --align-type full --extra-params '--fast -m GTR+F+R4' reference]\n"
     ]
    },
    {
     "name": "stdout",
     "output_type": "stream",
     "text": [
      "Building tree took 1.25 minutes\n"
     ]
    },
    {
     "name": "stderr",
     "output_type": "stream",
     "text": [
      "Attempting to set global database_path_translator=<genomics_data_index.storage.model.db.DatabasePathTranslator.DatabasePathTranslator object at 0x7f419a72e6d0> but it is already set\n"
     ]
    },
    {
     "name": "stderr",
     "output_type": "stream",
     "text": [
      "A reminder to myself to look for a Python solution for directory sizes (instead of running `du`)\n"
     ]
    },
    {
     "name": "stdout",
     "output_type": "stream",
     "text": [
      "\n",
      "Iteration 2 of index/analysis of 59 samples with 32 cores\n",
      "Removing any extra snakemake directories: ['snakemake-assemblies.1646771544.9400203']\n"
     ]
    },
    {
     "name": "stdout",
     "output_type": "stream",
     "text": [
      "Removing any existing indexes simulations/alpha-0.5-cov-30/index-assemblies\n",
      "Creating new index: [gdi init simulations/alpha-0.5-cov-30/index-assemblies]\n"
     ]
    },
    {
     "name": "stdout",
     "output_type": "stream",
     "text": [
      "Creating a new index took 3.07 seconds\n",
      "Analysis running: [gdi --project-dir simulations/alpha-0.5-cov-30/index-assemblies --ncores 32 analysis --use-conda --no-load-data --reference-file simulations/reference/reference.fa.gz --kmer-size 31 --kmer-size 51 --kmer-size 71 --include-kmer --reads-mincov 10 --input-structured-genomes-file simulations/alpha-0.5-cov-30/input-assemblies.tsv]\n"
     ]
    },
    {
     "name": "stdout",
     "output_type": "stream",
     "text": [
      "Analysis took 2.01 minutes\n",
      "Index running: [gdi --project-dir simulations/alpha-0.5-cov-30/index-assemblies --ncores 32 load vcf-kmer --sample-batch-size 2000 --reference-file simulations/reference/reference.fa.gz /home/CSCScience.ca/apetkau/workspace/genomics-data-index-evaluation/evaluations/simulation/snakemake-assemblies.1646771741.9008965/gdi-input.fofn]\n"
     ]
    },
    {
     "name": "stdout",
     "output_type": "stream",
     "text": [
      "Indexing took 0.12 minutes\n",
      "Building tree: [gdi --project-dir simulations/alpha-0.5-cov-30/index-assemblies --ncores 32 rebuild tree --align-type full --extra-params '--fast -m GTR+F+R4' reference]\n"
     ]
    },
    {
     "name": "stdout",
     "output_type": "stream",
     "text": [
      "Building tree took 1.35 minutes\n"
     ]
    },
    {
     "name": "stderr",
     "output_type": "stream",
     "text": [
      "Attempting to set global database_path_translator=<genomics_data_index.storage.model.db.DatabasePathTranslator.DatabasePathTranslator object at 0x7f419a626a60> but it is already set\n"
     ]
    },
    {
     "name": "stderr",
     "output_type": "stream",
     "text": [
      "A reminder to myself to look for a Python solution for directory sizes (instead of running `du`)\n"
     ]
    },
    {
     "name": "stdout",
     "output_type": "stream",
     "text": [
      "\n",
      "Iteration 3 of index/analysis of 59 samples with 32 cores\n",
      "Removing any extra snakemake directories: ['snakemake-assemblies.1646771741.9008965']\n"
     ]
    },
    {
     "name": "stdout",
     "output_type": "stream",
     "text": [
      "Removing any existing indexes simulations/alpha-0.5-cov-30/index-assemblies\n",
      "Creating new index: [gdi init simulations/alpha-0.5-cov-30/index-assemblies]\n"
     ]
    },
    {
     "name": "stdout",
     "output_type": "stream",
     "text": [
      "Creating a new index took 3.12 seconds\n",
      "Analysis running: [gdi --project-dir simulations/alpha-0.5-cov-30/index-assemblies --ncores 32 analysis --use-conda --no-load-data --reference-file simulations/reference/reference.fa.gz --kmer-size 31 --kmer-size 51 --kmer-size 71 --include-kmer --reads-mincov 10 --input-structured-genomes-file simulations/alpha-0.5-cov-30/input-assemblies.tsv]\n"
     ]
    },
    {
     "name": "stdout",
     "output_type": "stream",
     "text": [
      "Analysis took 1.90 minutes\n",
      "Index running: [gdi --project-dir simulations/alpha-0.5-cov-30/index-assemblies --ncores 32 load vcf-kmer --sample-batch-size 2000 --reference-file simulations/reference/reference.fa.gz /home/CSCScience.ca/apetkau/workspace/genomics-data-index-evaluation/evaluations/simulation/snakemake-assemblies.1646771955.4134176/gdi-input.fofn]\n"
     ]
    },
    {
     "name": "stdout",
     "output_type": "stream",
     "text": [
      "Indexing took 0.13 minutes\n",
      "Building tree: [gdi --project-dir simulations/alpha-0.5-cov-30/index-assemblies --ncores 32 rebuild tree --align-type full --extra-params '--fast -m GTR+F+R4' reference]\n"
     ]
    },
    {
     "name": "stdout",
     "output_type": "stream",
     "text": [
      "Building tree took 1.87 minutes\n"
     ]
    },
    {
     "name": "stderr",
     "output_type": "stream",
     "text": [
      "Attempting to set global database_path_translator=<genomics_data_index.storage.model.db.DatabasePathTranslator.DatabasePathTranslator object at 0x7f419a5d0ee0> but it is already set\n"
     ]
    },
    {
     "name": "stderr",
     "output_type": "stream",
     "text": [
      "A reminder to myself to look for a Python solution for directory sizes (instead of running `du`)\n"
     ]
    }
   ],
   "source": [
    "results_handler = gdi_benchmark.BenchmarkResultsHandler(name=f'{case_name} assemblies')\n",
    "benchmarker = gdi_benchmark.IndexBenchmarker(benchmark_results_handler=results_handler,\n",
    "                                             index_path=index_assemblies_path, input_files_file=input_genomes_file,\n",
    "                                             reference_file=reference_file, mincov=mincov, build_tree=True,\n",
    "                                             ncores=ncores)\n",
    "\n",
    "benchmark_df = benchmarker.benchmark(iterations=iterations)"
   ]
  },
  {
   "cell_type": "code",
   "execution_count": 11,
   "id": "a6d55a9d-be2f-4851-b66c-04b5ebd597a1",
   "metadata": {
    "execution": {
     "iopub.execute_input": "2022-03-08T20:43:05.970805Z",
     "iopub.status.busy": "2022-03-08T20:43:05.969682Z",
     "iopub.status.idle": "2022-03-08T20:43:05.974237Z",
     "shell.execute_reply": "2022-03-08T20:43:05.975138Z"
    },
    "papermill": {
     "duration": 0.052073,
     "end_time": "2022-03-08T20:43:05.975411",
     "exception": false,
     "start_time": "2022-03-08T20:43:05.923338",
     "status": "completed"
    },
    "tags": []
   },
   "outputs": [
    {
     "data": {
      "text/html": [
       "<div>\n",
       "<style scoped>\n",
       "    .dataframe tbody tr th:only-of-type {\n",
       "        vertical-align: middle;\n",
       "    }\n",
       "\n",
       "    .dataframe tbody tr th {\n",
       "        vertical-align: top;\n",
       "    }\n",
       "\n",
       "    .dataframe thead th {\n",
       "        text-align: right;\n",
       "    }\n",
       "</style>\n",
       "<table border=\"1\" class=\"dataframe\">\n",
       "  <thead>\n",
       "    <tr style=\"text-align: right;\">\n",
       "      <th></th>\n",
       "      <th>Name</th>\n",
       "      <th>Reference name</th>\n",
       "      <th>Iteration</th>\n",
       "      <th>Number samples</th>\n",
       "      <th>Number features (all)</th>\n",
       "      <th>Number features (no unknown)</th>\n",
       "      <th>Number cores</th>\n",
       "      <th>Reference length</th>\n",
       "      <th>Analysis runtime</th>\n",
       "      <th>Analysis memory (max)</th>\n",
       "      <th>...</th>\n",
       "      <th>Analysis disk uage</th>\n",
       "      <th>Index runtime</th>\n",
       "      <th>Index memory (max)</th>\n",
       "      <th>Index memory (max/process)</th>\n",
       "      <th>Index size</th>\n",
       "      <th>Tree runtime</th>\n",
       "      <th>Tree memory (max)</th>\n",
       "      <th>Tree memory (max/process)</th>\n",
       "      <th>Total runtime</th>\n",
       "      <th>Max memory</th>\n",
       "    </tr>\n",
       "  </thead>\n",
       "  <tbody>\n",
       "    <tr>\n",
       "      <th>0</th>\n",
       "      <td>alpha-0.5-cov-30 assemblies</td>\n",
       "      <td>reference</td>\n",
       "      <td>1</td>\n",
       "      <td>59</td>\n",
       "      <td>2337</td>\n",
       "      <td>2222</td>\n",
       "      <td>32</td>\n",
       "      <td>19699</td>\n",
       "      <td>109.39</td>\n",
       "      <td>1.311080e+09</td>\n",
       "      <td>...</td>\n",
       "      <td>2.203083e+09</td>\n",
       "      <td>7.71</td>\n",
       "      <td>5.991031e+09</td>\n",
       "      <td>272039936.0</td>\n",
       "      <td>1507328.0</td>\n",
       "      <td>74.61</td>\n",
       "      <td>254992384.0</td>\n",
       "      <td>234897408.0</td>\n",
       "      <td>191.71</td>\n",
       "      <td>5.991031e+09</td>\n",
       "    </tr>\n",
       "    <tr>\n",
       "      <th>0</th>\n",
       "      <td>alpha-0.5-cov-30 assemblies</td>\n",
       "      <td>reference</td>\n",
       "      <td>2</td>\n",
       "      <td>59</td>\n",
       "      <td>2337</td>\n",
       "      <td>2222</td>\n",
       "      <td>32</td>\n",
       "      <td>19699</td>\n",
       "      <td>120.40</td>\n",
       "      <td>1.317388e+09</td>\n",
       "      <td>...</td>\n",
       "      <td>2.203083e+09</td>\n",
       "      <td>7.25</td>\n",
       "      <td>5.979214e+09</td>\n",
       "      <td>272457728.0</td>\n",
       "      <td>1503232.0</td>\n",
       "      <td>80.74</td>\n",
       "      <td>254619648.0</td>\n",
       "      <td>234557440.0</td>\n",
       "      <td>208.39</td>\n",
       "      <td>5.979214e+09</td>\n",
       "    </tr>\n",
       "    <tr>\n",
       "      <th>0</th>\n",
       "      <td>alpha-0.5-cov-30 assemblies</td>\n",
       "      <td>reference</td>\n",
       "      <td>3</td>\n",
       "      <td>59</td>\n",
       "      <td>2337</td>\n",
       "      <td>2222</td>\n",
       "      <td>32</td>\n",
       "      <td>19699</td>\n",
       "      <td>113.60</td>\n",
       "      <td>1.201017e+09</td>\n",
       "      <td>...</td>\n",
       "      <td>2.203083e+09</td>\n",
       "      <td>7.65</td>\n",
       "      <td>5.981336e+09</td>\n",
       "      <td>272072704.0</td>\n",
       "      <td>1503232.0</td>\n",
       "      <td>111.81</td>\n",
       "      <td>254349312.0</td>\n",
       "      <td>233947136.0</td>\n",
       "      <td>233.06</td>\n",
       "      <td>5.981336e+09</td>\n",
       "    </tr>\n",
       "  </tbody>\n",
       "</table>\n",
       "<p>3 rows × 21 columns</p>\n",
       "</div>"
      ],
      "text/plain": [
       "                          Name Reference name  Iteration  Number samples  \\\n",
       "0  alpha-0.5-cov-30 assemblies      reference          1              59   \n",
       "0  alpha-0.5-cov-30 assemblies      reference          2              59   \n",
       "0  alpha-0.5-cov-30 assemblies      reference          3              59   \n",
       "\n",
       "   Number features (all)  Number features (no unknown)  Number cores  \\\n",
       "0                   2337                          2222            32   \n",
       "0                   2337                          2222            32   \n",
       "0                   2337                          2222            32   \n",
       "\n",
       "   Reference length  Analysis runtime  Analysis memory (max)  ...  \\\n",
       "0             19699            109.39           1.311080e+09  ...   \n",
       "0             19699            120.40           1.317388e+09  ...   \n",
       "0             19699            113.60           1.201017e+09  ...   \n",
       "\n",
       "   Analysis disk uage  Index runtime  Index memory (max)  \\\n",
       "0        2.203083e+09           7.71        5.991031e+09   \n",
       "0        2.203083e+09           7.25        5.979214e+09   \n",
       "0        2.203083e+09           7.65        5.981336e+09   \n",
       "\n",
       "   Index memory (max/process)  Index size  Tree runtime  Tree memory (max)  \\\n",
       "0                 272039936.0   1507328.0         74.61        254992384.0   \n",
       "0                 272457728.0   1503232.0         80.74        254619648.0   \n",
       "0                 272072704.0   1503232.0        111.81        254349312.0   \n",
       "\n",
       "   Tree memory (max/process)  Total runtime    Max memory  \n",
       "0                234897408.0         191.71  5.991031e+09  \n",
       "0                234557440.0         208.39  5.979214e+09  \n",
       "0                233947136.0         233.06  5.981336e+09  \n",
       "\n",
       "[3 rows x 21 columns]"
      ]
     },
     "execution_count": 11,
     "metadata": {},
     "output_type": "execute_result"
    }
   ],
   "source": [
    "benchmark_df"
   ]
  },
  {
   "cell_type": "code",
   "execution_count": 12,
   "id": "e1a6d962-50bc-4c8d-a6f2-3a661da706b4",
   "metadata": {
    "execution": {
     "iopub.execute_input": "2022-03-08T20:43:06.027709Z",
     "iopub.status.busy": "2022-03-08T20:43:06.026377Z",
     "iopub.status.idle": "2022-03-08T20:43:06.030704Z",
     "shell.execute_reply": "2022-03-08T20:43:06.030997Z"
    },
    "papermill": {
     "duration": 0.027181,
     "end_time": "2022-03-08T20:43:06.031096",
     "exception": false,
     "start_time": "2022-03-08T20:43:06.003915",
     "status": "completed"
    },
    "tags": []
   },
   "outputs": [],
   "source": [
    "index_assemblies_runtime = simulation_dir_path / 'assemblies-index-info.tsv'\n",
    "benchmark_df.to_csv(index_assemblies_runtime, sep='\\t', index=False)"
   ]
  },
  {
   "cell_type": "markdown",
   "id": "6cb7673b-9f85-4c43-b2e2-93538497a196",
   "metadata": {
    "papermill": {
     "duration": 0.016248,
     "end_time": "2022-03-08T20:43:06.066729",
     "exception": false,
     "start_time": "2022-03-08T20:43:06.050481",
     "status": "completed"
    },
    "tags": []
   },
   "source": [
    "# 3. Export trees"
   ]
  },
  {
   "cell_type": "code",
   "execution_count": 13,
   "id": "5280f82c-5434-4391-8c44-b937a7c95bd5",
   "metadata": {
    "execution": {
     "iopub.execute_input": "2022-03-08T20:43:06.107618Z",
     "iopub.status.busy": "2022-03-08T20:43:06.107203Z",
     "iopub.status.idle": "2022-03-08T20:43:12.712389Z",
     "shell.execute_reply": "2022-03-08T20:43:12.713280Z"
    },
    "papermill": {
     "duration": 6.630946,
     "end_time": "2022-03-08T20:43:12.713596",
     "exception": false,
     "start_time": "2022-03-08T20:43:06.082650",
     "status": "completed"
    },
    "tags": []
   },
   "outputs": [
    {
     "name": "stdout",
     "output_type": "stream",
     "text": [
      "Wrote assemblies tree to simulations/alpha-0.5-cov-30/index-assemblies/assemblies.tre\n"
     ]
    },
    {
     "name": "stdout",
     "output_type": "stream",
     "text": [
      "Wrote assemblies tree to simulations/alpha-0.5-cov-30/index-reads/reads.tre\n"
     ]
    }
   ],
   "source": [
    "!gdi --project-dir {index_assemblies_path} export tree {reference_name} > {output_assemblies_tree}\n",
    "print(f'Wrote assemblies tree to {output_assemblies_tree}')\n",
    "\n",
    "!gdi --project-dir {index_reads_path} export tree {reference_name} > {output_reads_tree}\n",
    "print(f'Wrote assemblies tree to {output_reads_tree}')"
   ]
  }
 ],
 "metadata": {
  "kernelspec": {
   "display_name": "Python 3 (ipykernel)",
   "language": "python",
   "name": "python3"
  },
  "language_info": {
   "codemirror_mode": {
    "name": "ipython",
    "version": 3
   },
   "file_extension": ".py",
   "mimetype": "text/x-python",
   "name": "python",
   "nbconvert_exporter": "python",
   "pygments_lexer": "ipython3",
   "version": "3.8.12"
  },
  "papermill": {
   "default_parameters": {},
   "duration": 1441.601756,
   "end_time": "2022-03-08T20:43:13.270277",
   "environment_variables": {},
   "exception": null,
   "input_path": "template-3-index-genomes.ipynb",
   "output_path": "3-index-genomes.simulation-alpha-0.5.ipynb",
   "parameters": {
    "iterations": 3,
    "mincov": 10,
    "read_coverage": 30,
    "simulation_dir": "simulations/alpha-0.5-cov-30",
    "sub_alpha": 0.5
   },
   "start_time": "2022-03-08T20:19:11.668521",
   "version": "2.3.4"
  }
 },
 "nbformat": 4,
 "nbformat_minor": 5
}