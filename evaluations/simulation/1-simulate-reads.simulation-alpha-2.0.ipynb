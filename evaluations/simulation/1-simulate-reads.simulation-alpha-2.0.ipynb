{
 "cells": [
  {
   "cell_type": "markdown",
   "id": "39afc998-7d9f-4d4e-9147-fb6198f83f2d",
   "metadata": {
    "papermill": {
     "duration": 0.018668,
     "end_time": "2021-09-11T18:57:27.286602",
     "exception": false,
     "start_time": "2021-09-11T18:57:27.267934",
     "status": "completed"
    },
    "tags": []
   },
   "source": [
    "# 1. Parameters"
   ]
  },
  {
   "cell_type": "code",
   "execution_count": 1,
   "id": "8eee723b-55a2-4355-b867-c5e682a9f800",
   "metadata": {
    "execution": {
     "iopub.execute_input": "2021-09-11T18:57:27.408474Z",
     "iopub.status.busy": "2021-09-11T18:57:27.406645Z",
     "iopub.status.idle": "2021-09-11T18:57:27.455969Z",
     "shell.execute_reply": "2021-09-11T18:57:27.454609Z"
    },
    "papermill": {
     "duration": 0.15919,
     "end_time": "2021-09-11T18:57:27.456231",
     "exception": false,
     "start_time": "2021-09-11T18:57:27.297041",
     "status": "completed"
    },
    "tags": [
     "parameters"
    ]
   },
   "outputs": [],
   "source": [
    "# Defaults\n",
    "\n",
    "## Random seed\n",
    "random_seed <- 25524\n",
    "\n",
    "## Directories\n",
    "simulation_dir <- \"simulations/unset\"\n",
    "reference_file <- \"simulations/reference/reference.fa.gz\"\n",
    "initial_tree_file <- \"input/salmonella.tre\"\n",
    "\n",
    "## Simulation parameters\n",
    "sub_lambda <- 1e-2\n",
    "sub_pi_tcag <- c(0.1, 0.2, 0.3, 0.4)\n",
    "sub_alpha <- 0.2\n",
    "sub_beta <- sub_alpha/2\n",
    "sub_mu <- 1\n",
    "sub_invariant <- 0.3\n",
    "ins_rate <- 1e-4\n",
    "ins_max_length <- 60\n",
    "ins_a <- 1.6\n",
    "del_rate <- 1e-4\n",
    "del_max_length <- 60\n",
    "del_a <- 1.6\n",
    "\n",
    "## Read simulation information\n",
    "read_coverage <- 30\n",
    "read_length <- 250\n",
    "\n",
    "## Other\n",
    "ncores <- 48"
   ]
  },
  {
   "cell_type": "code",
   "execution_count": 2,
   "id": "2ad41056",
   "metadata": {
    "execution": {
     "iopub.execute_input": "2021-09-11T18:57:27.522151Z",
     "iopub.status.busy": "2021-09-11T18:57:27.484492Z",
     "iopub.status.idle": "2021-09-11T18:57:27.537568Z",
     "shell.execute_reply": "2021-09-11T18:57:27.536176Z"
    },
    "papermill": {
     "duration": 0.066267,
     "end_time": "2021-09-11T18:57:27.537803",
     "exception": false,
     "start_time": "2021-09-11T18:57:27.471536",
     "status": "completed"
    },
    "tags": [
     "injected-parameters"
    ]
   },
   "outputs": [],
   "source": [
    "# Parameters\n",
    "read_coverage = 30\n",
    "mincov = 10\n",
    "simulation_dir = \"simulations/alpha-2.0-cov-30\"\n",
    "iterations = 3\n",
    "sub_alpha = 2.0\n"
   ]
  },
  {
   "cell_type": "code",
   "execution_count": 3,
   "id": "845350c4-9369-4350-bcce-504d05f5ff55",
   "metadata": {
    "execution": {
     "iopub.execute_input": "2021-09-11T18:57:27.569497Z",
     "iopub.status.busy": "2021-09-11T18:57:27.566612Z",
     "iopub.status.idle": "2021-09-11T18:57:27.598593Z",
     "shell.execute_reply": "2021-09-11T18:57:27.597500Z"
    },
    "papermill": {
     "duration": 0.046108,
     "end_time": "2021-09-11T18:57:27.598819",
     "exception": false,
     "start_time": "2021-09-11T18:57:27.552711",
     "status": "completed"
    },
    "tags": []
   },
   "outputs": [
    {
     "name": "stdout",
     "output_type": "stream",
     "text": [
      "[1] \"simulations/alpha-2.0-cov-30/simulated_data\"\n"
     ]
    },
    {
     "name": "stdout",
     "output_type": "stream",
     "text": [
      "[1] \"simulations/alpha-2.0-cov-30/simulated_data/haplotypes\"\n"
     ]
    }
   ],
   "source": [
    "output_dir <- file.path(simulation_dir, \"simulated_data\")\n",
    "output_vcf_prefix <- file.path(output_dir, \"haplotypes\")\n",
    "reads_data_initial_prefix <- file.path(output_dir, \"reads_initial\", \"data\")\n",
    "set.seed(random_seed)\n",
    "print(output_dir)\n",
    "print(output_vcf_prefix)"
   ]
  },
  {
   "cell_type": "markdown",
   "id": "noticed-coating",
   "metadata": {
    "papermill": {
     "duration": 0.009851,
     "end_time": "2021-09-11T18:57:27.625741",
     "exception": false,
     "start_time": "2021-09-11T18:57:27.615890",
     "status": "completed"
    },
    "tags": []
   },
   "source": [
    "# 2. Generate simulated data\n",
    "\n",
    "This simulates *Salmonella* data using a reference genome and a tree."
   ]
  },
  {
   "cell_type": "code",
   "execution_count": 4,
   "id": "bright-polymer",
   "metadata": {
    "execution": {
     "iopub.execute_input": "2021-09-11T18:57:27.647060Z",
     "iopub.status.busy": "2021-09-11T18:57:27.644087Z",
     "iopub.status.idle": "2021-09-11T18:57:27.740965Z",
     "shell.execute_reply": "2021-09-11T18:57:27.739851Z"
    },
    "papermill": {
     "duration": 0.108747,
     "end_time": "2021-09-11T18:57:27.741200",
     "exception": false,
     "start_time": "2021-09-11T18:57:27.632453",
     "status": "completed"
    },
    "tags": []
   },
   "outputs": [
    {
     "data": {
      "text/html": [
       "TRUE"
      ],
      "text/latex": [
       "TRUE"
      ],
      "text/markdown": [
       "TRUE"
      ],
      "text/plain": [
       "[1] TRUE"
      ]
     },
     "metadata": {},
     "output_type": "display_data"
    }
   ],
   "source": [
    "library(jackalope)\n",
    "\n",
    "# Make sure we've complied with openmp\n",
    "jackalope:::using_openmp()"
   ]
  },
  {
   "cell_type": "code",
   "execution_count": 5,
   "id": "303635b1-41dc-4917-8e90-30832a9acafd",
   "metadata": {
    "execution": {
     "iopub.execute_input": "2021-09-11T18:57:27.772680Z",
     "iopub.status.busy": "2021-09-11T18:57:27.770346Z",
     "iopub.status.idle": "2021-09-11T18:57:27.798869Z",
     "shell.execute_reply": "2021-09-11T18:57:27.797785Z"
    },
    "papermill": {
     "duration": 0.041954,
     "end_time": "2021-09-11T18:57:27.799058",
     "exception": false,
     "start_time": "2021-09-11T18:57:27.757104",
     "status": "completed"
    },
    "tags": []
   },
   "outputs": [
    {
     "data": {
      "text/plain": [
       "< Set of 2 chromosomes >\n",
       "# Total size: 19,699 bp\n",
       "  name                             chromosome                             length\n",
       "chrom0     GTATTGCGAGGGTGGGGGAGTACGGCAG...CAAGAATGCAACCGACTCTGTCGGGACT     10834\n",
       "chrom1     CACCTCGAGCAGATCCTAGTTTGCGCGA...TGCGAATTTATCGCCTAATCCAATGTTA      8865"
      ]
     },
     "metadata": {},
     "output_type": "display_data"
    }
   ],
   "source": [
    "reference <- read_fasta(reference_file)\n",
    "reference_len <- sum(reference$sizes())\n",
    "reference"
   ]
  },
  {
   "cell_type": "code",
   "execution_count": 6,
   "id": "documented-helmet",
   "metadata": {
    "execution": {
     "iopub.execute_input": "2021-09-11T18:57:27.828131Z",
     "iopub.status.busy": "2021-09-11T18:57:27.826486Z",
     "iopub.status.idle": "2021-09-11T18:57:27.903488Z",
     "shell.execute_reply": "2021-09-11T18:57:27.902364Z"
    },
    "papermill": {
     "duration": 0.090043,
     "end_time": "2021-09-11T18:57:27.903722",
     "exception": false,
     "start_time": "2021-09-11T18:57:27.813679",
     "status": "completed"
    },
    "tags": []
   },
   "outputs": [
    {
     "data": {
      "text/plain": [
       "\n",
       "Phylogenetic tree with 60 tips and 59 internal nodes.\n",
       "\n",
       "Tip labels:\n",
       "  reference, SH12-013, SH12-014, SH10-015, SH10-014, SH11-002, ...\n",
       "Node labels:\n",
       "  Root, 1.000000, 0.000000, 0.000000, 1.000000, 0.000000, ...\n",
       "\n",
       "Rooted; includes branch lengths."
      ]
     },
     "metadata": {},
     "output_type": "display_data"
    }
   ],
   "source": [
    "library(ape)\n",
    "\n",
    "tree <- read.tree(initial_tree_file)\n",
    "tree <- root(tree, \"reference\", resolve.root=TRUE)\n",
    "tree"
   ]
  },
  {
   "cell_type": "code",
   "execution_count": 7,
   "id": "proved-silver",
   "metadata": {
    "execution": {
     "iopub.execute_input": "2021-09-11T18:57:27.940368Z",
     "iopub.status.busy": "2021-09-11T18:57:27.937575Z",
     "iopub.status.idle": "2021-09-11T18:57:28.140701Z",
     "shell.execute_reply": "2021-09-11T18:57:28.139423Z"
    },
    "papermill": {
     "duration": 0.218753,
     "end_time": "2021-09-11T18:57:28.140932",
     "exception": false,
     "start_time": "2021-09-11T18:57:27.922179",
     "status": "completed"
    },
    "tags": []
   },
   "outputs": [
    {
     "data": {
      "text/plain": [
       "                              << haplotypes object >>\n",
       "# Haplotypes: 60\n",
       "# Mutations: 84,916\n",
       "\n",
       "                          << Reference genome info: >>\n",
       "< Set of 2 chromosomes >\n",
       "# Total size: 19,699 bp\n",
       "  name                             chromosome                             length\n",
       "chrom0     GTATTGCGAGGGTGGGGGAGTACGGCAG...CAAGAATGCAACCGACTCTGTCGGGACT     10834\n",
       "chrom1     CACCTCGAGCAGATCCTAGTTTGCGCGA...TGCGAATTTATCGCCTAATCCAATGTTA      8865"
      ]
     },
     "metadata": {},
     "output_type": "display_data"
    }
   ],
   "source": [
    "sub <- sub_HKY85(pi_tcag = sub_pi_tcag, mu = sub_mu,\n",
    "                 alpha = sub_alpha, beta = sub_beta, gamma_shape=1, gamma_k = 5,\n",
    "                 invariant = sub_invariant)\n",
    "ins <- indels(rate = ins_rate, max_length = ins_max_length, a = ins_a)\n",
    "del <- indels(rate = del_rate, max_length = del_max_length, a = del_a)\n",
    "\n",
    "ref_haplotypes <- create_haplotypes(reference, haps_phylo(tree), sub=sub, ins=ins, del=del)\n",
    "ref_haplotypes"
   ]
  },
  {
   "cell_type": "markdown",
   "id": "535fa02d-c76c-4067-9582-74f3694d16ea",
   "metadata": {
    "papermill": {
     "duration": 0.01009,
     "end_time": "2021-09-11T18:57:28.169287",
     "exception": false,
     "start_time": "2021-09-11T18:57:28.159197",
     "status": "completed"
    },
    "tags": []
   },
   "source": [
    "# 3. Write simulated data"
   ]
  },
  {
   "cell_type": "code",
   "execution_count": 8,
   "id": "smoking-geology",
   "metadata": {
    "execution": {
     "iopub.execute_input": "2021-09-11T18:57:28.194936Z",
     "iopub.status.busy": "2021-09-11T18:57:28.191289Z",
     "iopub.status.idle": "2021-09-11T18:57:28.330353Z",
     "shell.execute_reply": "2021-09-11T18:57:28.329190Z"
    },
    "papermill": {
     "duration": 0.153493,
     "end_time": "2021-09-11T18:57:28.330584",
     "exception": false,
     "start_time": "2021-09-11T18:57:28.177091",
     "status": "completed"
    },
    "tags": []
   },
   "outputs": [],
   "source": [
    "write_vcf(ref_haplotypes, out_prefix=output_vcf_prefix, compress=TRUE)"
   ]
  },
  {
   "cell_type": "code",
   "execution_count": 9,
   "id": "d2657fc5-481e-4b24-bbf8-78c02ee735ce",
   "metadata": {
    "execution": {
     "iopub.execute_input": "2021-09-11T18:57:28.369869Z",
     "iopub.status.busy": "2021-09-11T18:57:28.366877Z",
     "iopub.status.idle": "2021-09-11T18:57:28.775606Z",
     "shell.execute_reply": "2021-09-11T18:57:28.773269Z"
    },
    "papermill": {
     "duration": 0.426175,
     "end_time": "2021-09-11T18:57:28.775739",
     "exception": false,
     "start_time": "2021-09-11T18:57:28.349564",
     "status": "completed"
    },
    "tags": []
   },
   "outputs": [],
   "source": [
    "assemblies_prefix = file.path(output_dir, \"assemblies\", \"data\")\n",
    "\n",
    "write_fasta(ref_haplotypes, out_prefix=assemblies_prefix,\n",
    "            compress=TRUE, n_threads=ncores, overwrite=TRUE)"
   ]
  },
  {
   "cell_type": "code",
   "execution_count": 10,
   "id": "continent-freeze",
   "metadata": {
    "execution": {
     "iopub.execute_input": "2021-09-11T18:57:28.801282Z",
     "iopub.status.busy": "2021-09-11T18:57:28.799434Z",
     "iopub.status.idle": "2021-09-11T19:02:46.183680Z",
     "shell.execute_reply": "2021-09-11T19:02:46.182465Z"
    },
    "papermill": {
     "duration": 317.39663,
     "end_time": "2021-09-11T19:02:46.183921",
     "exception": false,
     "start_time": "2021-09-11T18:57:28.787291",
     "status": "completed"
    },
    "tags": []
   },
   "outputs": [
    {
     "name": "stdout",
     "output_type": "stream",
     "text": [
      "[1] \"Number of reads for coverage 30X and read length 250 over 60 samples with respect to reference with length 19699: 141833\"\n"
     ]
    }
   ],
   "source": [
    "n_samples <- length(tree$tip)\n",
    "n_reads <- round((reference_len * read_coverage * n_samples) / read_length)\n",
    "print(sprintf(\"Number of reads for coverage %sX and read length %s over %s samples with respect to reference with length %s: %s\", \n",
    "              read_coverage, read_length, n_samples, reference_len, n_reads))\n",
    "\n",
    "illumina(ref_haplotypes, out_prefix = reads_data_initial_prefix, sep_files=TRUE, n_reads = n_reads,\n",
    "         frag_mean = read_length * 2 + 50, frag_sd = 100,\n",
    "         compress=TRUE, comp_method=\"bgzip\", n_threads=ncores,\n",
    "         paired=TRUE, read_length = read_length)"
   ]
  },
  {
   "cell_type": "code",
   "execution_count": 11,
   "id": "israeli-unknown",
   "metadata": {
    "execution": {
     "iopub.execute_input": "2021-09-11T19:02:46.233299Z",
     "iopub.status.busy": "2021-09-11T19:02:46.230627Z",
     "iopub.status.idle": "2021-09-11T19:02:46.271715Z",
     "shell.execute_reply": "2021-09-11T19:02:46.270589Z"
    },
    "papermill": {
     "duration": 0.066818,
     "end_time": "2021-09-11T19:02:46.271950",
     "exception": false,
     "start_time": "2021-09-11T19:02:46.205132",
     "status": "completed"
    },
    "tags": []
   },
   "outputs": [
    {
     "name": "stdout",
     "output_type": "stream",
     "text": [
      "[1] \"Removing: simulations/alpha-2.0-cov-30/simulated_data/reads_initial/data_reference_R1.fq.gz\"\n"
     ]
    },
    {
     "name": "stdout",
     "output_type": "stream",
     "text": [
      "[1] \"Removing: simulations/alpha-2.0-cov-30/simulated_data/reads_initial/data_reference_R2.fq.gz\"\n"
     ]
    }
   ],
   "source": [
    "# Remove the simulated reads for the reference genome since I don't want these in the tree\n",
    "ref1 <- paste(toString(reads_data_initial_prefix), \"_reference_R1.fq.gz\", sep=\"\")\n",
    "ref2 <- paste(toString(reads_data_initial_prefix), \"_reference_R2.fq.gz\", sep=\"\")\n",
    "if (file.exists(ref1)) {\n",
    "    file.remove(ref1)\n",
    "    print(sprintf(\"Removing: %s\", ref1))\n",
    "}\n",
    "if (file.exists(ref2)) {\n",
    "    file.remove(ref2)\n",
    "    print(sprintf(\"Removing: %s\", ref2))\n",
    "}"
   ]
  },
  {
   "cell_type": "code",
   "execution_count": 12,
   "id": "likely-elite",
   "metadata": {
    "execution": {
     "iopub.execute_input": "2021-09-11T19:02:46.314255Z",
     "iopub.status.busy": "2021-09-11T19:02:46.311291Z",
     "iopub.status.idle": "2021-09-11T19:02:46.333719Z",
     "shell.execute_reply": "2021-09-11T19:02:46.332450Z"
    },
    "papermill": {
     "duration": 0.039472,
     "end_time": "2021-09-11T19:02:46.333913",
     "exception": false,
     "start_time": "2021-09-11T19:02:46.294441",
     "status": "completed"
    },
    "tags": []
   },
   "outputs": [
    {
     "name": "stdout",
     "output_type": "stream",
     "text": [
      "[1] \"Removing: simulations/alpha-2.0-cov-30/simulated_data/assemblies/data__reference.fa.gz\"\n"
     ]
    }
   ],
   "source": [
    "# Remove the new reference assembly genome since I don't need it\n",
    "ref1 <- paste(toString(assemblies_prefix), \"__reference.fa.gz\", sep=\"\")\n",
    "if (file.exists(ref1)) {\n",
    "    file.remove(ref1)\n",
    "    print(sprintf(\"Removing: %s\", ref1))\n",
    "}"
   ]
  },
  {
   "cell_type": "code",
   "execution_count": null,
   "id": "6ab27399-288a-4067-a812-d946410658a5",
   "metadata": {
    "papermill": {
     "duration": 0.011139,
     "end_time": "2021-09-11T19:02:46.364123",
     "exception": false,
     "start_time": "2021-09-11T19:02:46.352984",
     "status": "completed"
    },
    "tags": []
   },
   "outputs": [],
   "source": []
  }
 ],
 "metadata": {
  "kernelspec": {
   "display_name": "R",
   "language": "R",
   "name": "ir"
  },
  "language_info": {
   "codemirror_mode": "r",
   "file_extension": ".r",
   "mimetype": "text/x-r-source",
   "name": "R",
   "pygments_lexer": "r",
   "version": "4.1.1"
  },
  "papermill": {
   "default_parameters": {},
   "duration": 321.380682,
   "end_time": "2021-09-11T19:02:47.663799",
   "environment_variables": {},
   "exception": null,
   "input_path": "template-1-simulate-reads.ipynb",
   "output_path": "1-simulate-reads.simulation-alpha-2.0.ipynb",
   "parameters": {
    "iterations": 3,
    "mincov": 10,
    "read_coverage": 30,
    "simulation_dir": "simulations/alpha-2.0-cov-30",
    "sub_alpha": 2.0
   },
   "start_time": "2021-09-11T18:57:26.283117",
   "version": "2.3.3"
  }
 },
 "nbformat": 4,
 "nbformat_minor": 5
}