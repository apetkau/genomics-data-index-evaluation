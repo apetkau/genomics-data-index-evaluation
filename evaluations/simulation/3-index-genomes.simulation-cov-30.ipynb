{
 "cells": [
  {
   "cell_type": "markdown",
   "id": "7d3667b4-b1f8-4347-96e3-830c25b06740",
   "metadata": {
    "papermill": {
     "duration": 0.019725,
     "end_time": "2021-09-02T04:01:49.251560",
     "exception": false,
     "start_time": "2021-09-02T04:01:49.231835",
     "status": "completed"
    },
    "tags": []
   },
   "source": [
    "# 1. Parameters"
   ]
  },
  {
   "cell_type": "code",
   "execution_count": 1,
   "id": "d4ab0749-b286-4c34-b63c-a854e4952bae",
   "metadata": {
    "execution": {
     "iopub.execute_input": "2021-09-02T04:01:49.284695Z",
     "iopub.status.busy": "2021-09-02T04:01:49.284155Z",
     "iopub.status.idle": "2021-09-02T04:01:49.289102Z",
     "shell.execute_reply": "2021-09-02T04:01:49.289643Z"
    },
    "papermill": {
     "duration": 0.027558,
     "end_time": "2021-09-02T04:01:49.289925",
     "exception": false,
     "start_time": "2021-09-02T04:01:49.262367",
     "status": "completed"
    },
    "tags": [
     "parameters"
    ]
   },
   "outputs": [],
   "source": [
    "# Defaults\n",
    "simulation_dir = 'simulations/unset'\n",
    "reference_file = 'simulations/reference/reference.fa.gz'\n",
    "iterations = 3\n",
    "mincov = 10\n",
    "ncores = 32"
   ]
  },
  {
   "cell_type": "code",
   "execution_count": 2,
   "id": "b00de4b0",
   "metadata": {
    "execution": {
     "iopub.execute_input": "2021-09-02T04:01:49.314811Z",
     "iopub.status.busy": "2021-09-02T04:01:49.314388Z",
     "iopub.status.idle": "2021-09-02T04:01:49.317766Z",
     "shell.execute_reply": "2021-09-02T04:01:49.318055Z"
    },
    "papermill": {
     "duration": 0.016917,
     "end_time": "2021-09-02T04:01:49.318164",
     "exception": false,
     "start_time": "2021-09-02T04:01:49.301247",
     "status": "completed"
    },
    "tags": [
     "injected-parameters"
    ]
   },
   "outputs": [],
   "source": [
    "# Parameters\n",
    "read_coverage = 30\n",
    "mincov = 10\n",
    "simulation_dir = \"simulations/cov-30\"\n",
    "iterations = 3\n"
   ]
  },
  {
   "cell_type": "code",
   "execution_count": 3,
   "id": "ce5962e4-261c-4210-b39b-47044e28466b",
   "metadata": {
    "execution": {
     "iopub.execute_input": "2021-09-02T04:01:49.343171Z",
     "iopub.status.busy": "2021-09-02T04:01:49.342134Z",
     "iopub.status.idle": "2021-09-02T04:01:51.764323Z",
     "shell.execute_reply": "2021-09-02T04:01:51.765241Z"
    },
    "papermill": {
     "duration": 2.438903,
     "end_time": "2021-09-02T04:01:51.765555",
     "exception": false,
     "start_time": "2021-09-02T04:01:49.326652",
     "status": "completed"
    },
    "tags": []
   },
   "outputs": [],
   "source": [
    "from pathlib import Path\n",
    "import imp\n",
    "fp, pathname, description = imp.find_module('gdi_benchmark', ['../../lib'])\n",
    "gdi_benchmark = imp.load_module('gdi_benchmark', fp, pathname, description)\n",
    "\n",
    "simulation_dir_path = Path(simulation_dir)\n",
    "\n",
    "case_name = str(simulation_dir_path.name)\n",
    "reads_dir = simulation_dir_path / 'simulated_data' / 'reads'\n",
    "assemblies_dir = simulation_dir_path / 'simulated_data' / 'assemblies'\n",
    "index_reads_path = simulation_dir_path / 'index-reads'\n",
    "index_assemblies_path = simulation_dir_path / 'index-assemblies'\n",
    "output_reads_tree = index_reads_path / 'reads.tre'\n",
    "output_assemblies_tree = index_assemblies_path / 'assemblies.tre'\n",
    "reference_name = Path(reference_file).name.split('.')[0]"
   ]
  },
  {
   "cell_type": "markdown",
   "id": "f208279e-7558-47fc-9362-da29df92828a",
   "metadata": {
    "papermill": {
     "duration": 0.009987,
     "end_time": "2021-09-02T04:01:51.792785",
     "exception": false,
     "start_time": "2021-09-02T04:01:51.782798",
     "status": "completed"
    },
    "tags": []
   },
   "source": [
    "# 2. Index genomes"
   ]
  },
  {
   "cell_type": "code",
   "execution_count": 4,
   "id": "4e936f7c-2fcd-4188-b0e6-6b3ceb5cdcd2",
   "metadata": {
    "execution": {
     "iopub.execute_input": "2021-09-02T04:01:51.825583Z",
     "iopub.status.busy": "2021-09-02T04:01:51.815746Z",
     "iopub.status.idle": "2021-09-02T04:01:54.695091Z",
     "shell.execute_reply": "2021-09-02T04:01:54.694122Z"
    },
    "papermill": {
     "duration": 2.895222,
     "end_time": "2021-09-02T04:01:54.695344",
     "exception": false,
     "start_time": "2021-09-02T04:01:51.800122",
     "status": "completed"
    },
    "tags": []
   },
   "outputs": [
    {
     "name": "stdout",
     "output_type": "stream",
     "text": [
      "gdi, version 0.3.0.dev9\r\n"
     ]
    }
   ],
   "source": [
    "!gdi --version"
   ]
  },
  {
   "cell_type": "markdown",
   "id": "5409ecf8-2158-4361-9d2f-6b1a6c7c63a6",
   "metadata": {
    "papermill": {
     "duration": 0.010443,
     "end_time": "2021-09-02T04:01:54.724212",
     "exception": false,
     "start_time": "2021-09-02T04:01:54.713769",
     "status": "completed"
    },
    "tags": []
   },
   "source": [
    "## 2.1. Index reads"
   ]
  },
  {
   "cell_type": "code",
   "execution_count": 5,
   "id": "b5324f79-913b-4dac-8122-19ad5c0f24b2",
   "metadata": {
    "execution": {
     "iopub.execute_input": "2021-09-02T04:01:54.757475Z",
     "iopub.status.busy": "2021-09-02T04:01:54.746803Z",
     "iopub.status.idle": "2021-09-02T04:01:57.618902Z",
     "shell.execute_reply": "2021-09-02T04:01:57.619836Z"
    },
    "papermill": {
     "duration": 2.888378,
     "end_time": "2021-09-02T04:01:57.620186",
     "exception": false,
     "start_time": "2021-09-02T04:01:54.731808",
     "status": "completed"
    },
    "tags": []
   },
   "outputs": [],
   "source": [
    "input_genomes_file = simulation_dir_path / 'input-reads.tsv'\n",
    "\n",
    "!gdi input --absolute {reads_dir}/*.fq.gz > {input_genomes_file}"
   ]
  },
  {
   "cell_type": "code",
   "execution_count": 6,
   "id": "3d63e861-733e-46f2-8bce-bd1a2c7c7058",
   "metadata": {
    "execution": {
     "iopub.execute_input": "2021-09-02T04:01:57.660613Z",
     "iopub.status.busy": "2021-09-02T04:01:57.657054Z",
     "iopub.status.idle": "2021-09-02T04:12:17.593581Z",
     "shell.execute_reply": "2021-09-02T04:12:17.594615Z"
    },
    "papermill": {
     "duration": 619.958018,
     "end_time": "2021-09-02T04:12:17.595314",
     "exception": false,
     "start_time": "2021-09-02T04:01:57.637296",
     "status": "completed"
    },
    "tags": []
   },
   "outputs": [
    {
     "name": "stdout",
     "output_type": "stream",
     "text": [
      "\n",
      "Iteration 1 of index/analysis of 59 samples with 32 cores\n",
      "Removing any extra snakemake directories: ['snakemake-assemblies.1630555115.3153427']\n"
     ]
    },
    {
     "name": "stdout",
     "output_type": "stream",
     "text": [
      "Creating new index: [gdi init simulations/cov-30/index-reads]\n"
     ]
    },
    {
     "name": "stdout",
     "output_type": "stream",
     "text": [
      "Creating a new index took 3.09 seconds\n",
      "Analysis running: [gdi --project-dir simulations/cov-30/index-reads --ncores 32 analysis --use-conda --no-load-data --reference-file simulations/reference/reference.fa.gz --kmer-size 31 --kmer-size 51 --kmer-size 71 --include-kmer --reads-mincov 10 --input-structured-genomes-file simulations/cov-30/input-reads.tsv]\n"
     ]
    },
    {
     "name": "stdout",
     "output_type": "stream",
     "text": [
      "Analysis took 1.70 minutes\n",
      "Index running: [gdi --project-dir simulations/cov-30/index-reads --ncores 32 load vcf --reference-file simulations/reference/reference.fa.gz /home/CSCScience.ca/apetkau/workspace/genomics-data-index-evaluation/evaluations/simulation/snakemake-assemblies.1630555325.066137/gdi-input.fofn]\n"
     ]
    },
    {
     "name": "stdout",
     "output_type": "stream",
     "text": [
      "Indexing took 0.10 minutes\n",
      "Building tree: [gdi --project-dir simulations/cov-30/index-reads --ncores 32 rebuild tree --align-type full --extra-params '--fast -m GTR+F+R4' reference]\n"
     ]
    },
    {
     "name": "stdout",
     "output_type": "stream",
     "text": [
      "Building tree took 1.47 minutes\n"
     ]
    },
    {
     "name": "stderr",
     "output_type": "stream",
     "text": [
      "A reminder to myself to look for a Python solution for directory sizes (instead of running `du`)\n"
     ]
    },
    {
     "name": "stdout",
     "output_type": "stream",
     "text": [
      "\n",
      "Iteration 2 of index/analysis of 59 samples with 32 cores\n",
      "Removing any extra snakemake directories: ['snakemake-assemblies.1630555325.066137']\n"
     ]
    },
    {
     "name": "stdout",
     "output_type": "stream",
     "text": [
      "Removing any existing indexes simulations/cov-30/index-reads\n",
      "Creating new index: [gdi init simulations/cov-30/index-reads]\n"
     ]
    },
    {
     "name": "stdout",
     "output_type": "stream",
     "text": [
      "Creating a new index took 2.88 seconds\n",
      "Analysis running: [gdi --project-dir simulations/cov-30/index-reads --ncores 32 analysis --use-conda --no-load-data --reference-file simulations/reference/reference.fa.gz --kmer-size 31 --kmer-size 51 --kmer-size 71 --include-kmer --reads-mincov 10 --input-structured-genomes-file simulations/cov-30/input-reads.tsv]\n"
     ]
    },
    {
     "name": "stdout",
     "output_type": "stream",
     "text": [
      "Analysis took 1.65 minutes\n",
      "Index running: [gdi --project-dir simulations/cov-30/index-reads --ncores 32 load vcf --reference-file simulations/reference/reference.fa.gz /home/CSCScience.ca/apetkau/workspace/genomics-data-index-evaluation/evaluations/simulation/snakemake-assemblies.1630555526.1215417/gdi-input.fofn]\n"
     ]
    },
    {
     "name": "stdout",
     "output_type": "stream",
     "text": [
      "Indexing took 0.11 minutes\n",
      "Building tree: [gdi --project-dir simulations/cov-30/index-reads --ncores 32 rebuild tree --align-type full --extra-params '--fast -m GTR+F+R4' reference]\n"
     ]
    },
    {
     "name": "stdout",
     "output_type": "stream",
     "text": [
      "Building tree took 1.91 minutes\n"
     ]
    },
    {
     "name": "stderr",
     "output_type": "stream",
     "text": [
      "Attempting to set global database_path_translator=<genomics_data_index.storage.model.db.DatabasePathTranslator.DatabasePathTranslator object at 0x7f7bf53b4f10> but it is already set\n"
     ]
    },
    {
     "name": "stderr",
     "output_type": "stream",
     "text": [
      "A reminder to myself to look for a Python solution for directory sizes (instead of running `du`)\n"
     ]
    },
    {
     "name": "stdout",
     "output_type": "stream",
     "text": [
      "\n",
      "Iteration 3 of index/analysis of 59 samples with 32 cores\n",
      "Removing any extra snakemake directories: ['snakemake-assemblies.1630555526.1215417']\n"
     ]
    },
    {
     "name": "stdout",
     "output_type": "stream",
     "text": [
      "Removing any existing indexes simulations/cov-30/index-reads\n",
      "Creating new index: [gdi init simulations/cov-30/index-reads]\n"
     ]
    },
    {
     "name": "stdout",
     "output_type": "stream",
     "text": [
      "Creating a new index took 2.84 seconds\n",
      "Analysis running: [gdi --project-dir simulations/cov-30/index-reads --ncores 32 analysis --use-conda --no-load-data --reference-file simulations/reference/reference.fa.gz --kmer-size 31 --kmer-size 51 --kmer-size 71 --include-kmer --reads-mincov 10 --input-structured-genomes-file simulations/cov-30/input-reads.tsv]\n"
     ]
    },
    {
     "name": "stdout",
     "output_type": "stream",
     "text": [
      "Analysis took 1.65 minutes\n",
      "Index running: [gdi --project-dir simulations/cov-30/index-reads --ncores 32 load vcf --reference-file simulations/reference/reference.fa.gz /home/CSCScience.ca/apetkau/workspace/genomics-data-index-evaluation/evaluations/simulation/snakemake-assemblies.1630555750.63989/gdi-input.fofn]\n"
     ]
    },
    {
     "name": "stdout",
     "output_type": "stream",
     "text": [
      "Indexing took 0.10 minutes\n",
      "Building tree: [gdi --project-dir simulations/cov-30/index-reads --ncores 32 rebuild tree --align-type full --extra-params '--fast -m GTR+F+R4' reference]\n"
     ]
    },
    {
     "name": "stdout",
     "output_type": "stream",
     "text": [
      "Building tree took 1.40 minutes\n"
     ]
    },
    {
     "name": "stderr",
     "output_type": "stream",
     "text": [
      "Attempting to set global database_path_translator=<genomics_data_index.storage.model.db.DatabasePathTranslator.DatabasePathTranslator object at 0x7f7c5073d3a0> but it is already set\n"
     ]
    },
    {
     "name": "stderr",
     "output_type": "stream",
     "text": [
      "A reminder to myself to look for a Python solution for directory sizes (instead of running `du`)\n"
     ]
    }
   ],
   "source": [
    "results_handler = gdi_benchmark.BenchmarkResultsHandler(name=f'{case_name} reads')\n",
    "benchmarker = gdi_benchmark.IndexBenchmarker(benchmark_results_handler=results_handler,\n",
    "                                             index_path=index_reads_path, input_files_file=input_genomes_file,\n",
    "                                             reference_file=reference_file, mincov=mincov, build_tree=True,\n",
    "                                             ncores=ncores)\n",
    "\n",
    "benchmark_df = benchmarker.benchmark(iterations=iterations)"
   ]
  },
  {
   "cell_type": "code",
   "execution_count": 7,
   "id": "3bcb6da7-0164-47f2-abdd-a4c159da1e3b",
   "metadata": {
    "execution": {
     "iopub.execute_input": "2021-09-02T04:12:17.648971Z",
     "iopub.status.busy": "2021-09-02T04:12:17.648401Z",
     "iopub.status.idle": "2021-09-02T04:12:17.675894Z",
     "shell.execute_reply": "2021-09-02T04:12:17.676819Z"
    },
    "papermill": {
     "duration": 0.05597,
     "end_time": "2021-09-02T04:12:17.677108",
     "exception": false,
     "start_time": "2021-09-02T04:12:17.621138",
     "status": "completed"
    },
    "tags": []
   },
   "outputs": [
    {
     "data": {
      "text/html": [
       "<div>\n",
       "<style scoped>\n",
       "    .dataframe tbody tr th:only-of-type {\n",
       "        vertical-align: middle;\n",
       "    }\n",
       "\n",
       "    .dataframe tbody tr th {\n",
       "        vertical-align: top;\n",
       "    }\n",
       "\n",
       "    .dataframe thead th {\n",
       "        text-align: right;\n",
       "    }\n",
       "</style>\n",
       "<table border=\"1\" class=\"dataframe\">\n",
       "  <thead>\n",
       "    <tr style=\"text-align: right;\">\n",
       "      <th></th>\n",
       "      <th>Name</th>\n",
       "      <th>Iteration</th>\n",
       "      <th>Number samples</th>\n",
       "      <th>Number cores</th>\n",
       "      <th>Reference length</th>\n",
       "      <th>Analysis runtime</th>\n",
       "      <th>Analysis memory (max)</th>\n",
       "      <th>Analysis memory (max/process)</th>\n",
       "      <th>Analysis disk uage</th>\n",
       "      <th>Index runtime</th>\n",
       "      <th>Index memory (max)</th>\n",
       "      <th>Index memory (max/process)</th>\n",
       "      <th>Index size</th>\n",
       "      <th>Tree runtime</th>\n",
       "      <th>Tree memory (max)</th>\n",
       "      <th>Tree memory (max/process)</th>\n",
       "      <th>Total runtime</th>\n",
       "      <th>Max memory</th>\n",
       "    </tr>\n",
       "  </thead>\n",
       "  <tbody>\n",
       "    <tr>\n",
       "      <th>0</th>\n",
       "      <td>cov-30 reads</td>\n",
       "      <td>1</td>\n",
       "      <td>59</td>\n",
       "      <td>32</td>\n",
       "      <td>10834</td>\n",
       "      <td>101.77</td>\n",
       "      <td>2.779406e+09</td>\n",
       "      <td>388820992.0</td>\n",
       "      <td>3.270443e+09</td>\n",
       "      <td>5.81</td>\n",
       "      <td>5.779202e+09</td>\n",
       "      <td>258723840.0</td>\n",
       "      <td>1429504.0</td>\n",
       "      <td>88.32</td>\n",
       "      <td>250105856.0</td>\n",
       "      <td>223522816.0</td>\n",
       "      <td>195.90</td>\n",
       "      <td>5.779202e+09</td>\n",
       "    </tr>\n",
       "    <tr>\n",
       "      <th>0</th>\n",
       "      <td>cov-30 reads</td>\n",
       "      <td>2</td>\n",
       "      <td>59</td>\n",
       "      <td>32</td>\n",
       "      <td>10834</td>\n",
       "      <td>98.97</td>\n",
       "      <td>2.715464e+09</td>\n",
       "      <td>387792896.0</td>\n",
       "      <td>3.270451e+09</td>\n",
       "      <td>6.29</td>\n",
       "      <td>5.793722e+09</td>\n",
       "      <td>258818048.0</td>\n",
       "      <td>1429504.0</td>\n",
       "      <td>114.25</td>\n",
       "      <td>250454016.0</td>\n",
       "      <td>223887360.0</td>\n",
       "      <td>219.51</td>\n",
       "      <td>5.793722e+09</td>\n",
       "    </tr>\n",
       "    <tr>\n",
       "      <th>0</th>\n",
       "      <td>cov-30 reads</td>\n",
       "      <td>3</td>\n",
       "      <td>59</td>\n",
       "      <td>32</td>\n",
       "      <td>10834</td>\n",
       "      <td>99.02</td>\n",
       "      <td>2.723135e+09</td>\n",
       "      <td>385204224.0</td>\n",
       "      <td>3.270431e+09</td>\n",
       "      <td>5.97</td>\n",
       "      <td>5.780050e+09</td>\n",
       "      <td>259440640.0</td>\n",
       "      <td>1433600.0</td>\n",
       "      <td>84.12</td>\n",
       "      <td>250601472.0</td>\n",
       "      <td>224215040.0</td>\n",
       "      <td>189.11</td>\n",
       "      <td>5.780050e+09</td>\n",
       "    </tr>\n",
       "  </tbody>\n",
       "</table>\n",
       "</div>"
      ],
      "text/plain": [
       "           Name  Iteration  Number samples  Number cores  Reference length  \\\n",
       "0  cov-30 reads          1              59            32             10834   \n",
       "0  cov-30 reads          2              59            32             10834   \n",
       "0  cov-30 reads          3              59            32             10834   \n",
       "\n",
       "   Analysis runtime  Analysis memory (max)  Analysis memory (max/process)  \\\n",
       "0            101.77           2.779406e+09                    388820992.0   \n",
       "0             98.97           2.715464e+09                    387792896.0   \n",
       "0             99.02           2.723135e+09                    385204224.0   \n",
       "\n",
       "   Analysis disk uage  Index runtime  Index memory (max)  \\\n",
       "0        3.270443e+09           5.81        5.779202e+09   \n",
       "0        3.270451e+09           6.29        5.793722e+09   \n",
       "0        3.270431e+09           5.97        5.780050e+09   \n",
       "\n",
       "   Index memory (max/process)  Index size  Tree runtime  Tree memory (max)  \\\n",
       "0                 258723840.0   1429504.0         88.32        250105856.0   \n",
       "0                 258818048.0   1429504.0        114.25        250454016.0   \n",
       "0                 259440640.0   1433600.0         84.12        250601472.0   \n",
       "\n",
       "   Tree memory (max/process)  Total runtime    Max memory  \n",
       "0                223522816.0         195.90  5.779202e+09  \n",
       "0                223887360.0         219.51  5.793722e+09  \n",
       "0                224215040.0         189.11  5.780050e+09  "
      ]
     },
     "execution_count": 7,
     "metadata": {},
     "output_type": "execute_result"
    }
   ],
   "source": [
    "benchmark_df"
   ]
  },
  {
   "cell_type": "code",
   "execution_count": 8,
   "id": "535a9ccc-ab9c-4919-806f-128e1efd2389",
   "metadata": {
    "execution": {
     "iopub.execute_input": "2021-09-02T04:12:17.720841Z",
     "iopub.status.busy": "2021-09-02T04:12:17.720421Z",
     "iopub.status.idle": "2021-09-02T04:12:17.727978Z",
     "shell.execute_reply": "2021-09-02T04:12:17.728322Z"
    },
    "papermill": {
     "duration": 0.026332,
     "end_time": "2021-09-02T04:12:17.728446",
     "exception": false,
     "start_time": "2021-09-02T04:12:17.702114",
     "status": "completed"
    },
    "tags": []
   },
   "outputs": [],
   "source": [
    "index_reads_runtime = simulation_dir_path / 'reads-index-info.tsv'\n",
    "benchmark_df.to_csv(index_reads_runtime, sep='\\t', index=False)"
   ]
  },
  {
   "cell_type": "markdown",
   "id": "c331578f-4026-4a9f-a3ba-288814b02ed2",
   "metadata": {
    "papermill": {
     "duration": 0.011986,
     "end_time": "2021-09-02T04:12:17.756181",
     "exception": false,
     "start_time": "2021-09-02T04:12:17.744195",
     "status": "completed"
    },
    "tags": []
   },
   "source": [
    "## 2.2. Index assemblies"
   ]
  },
  {
   "cell_type": "code",
   "execution_count": 9,
   "id": "6e6664f4-94ee-4c45-b1fc-e048b387fa49",
   "metadata": {
    "execution": {
     "iopub.execute_input": "2021-09-02T04:12:17.795229Z",
     "iopub.status.busy": "2021-09-02T04:12:17.786605Z",
     "iopub.status.idle": "2021-09-02T04:12:20.710895Z",
     "shell.execute_reply": "2021-09-02T04:12:20.711893Z"
    },
    "papermill": {
     "duration": 2.944165,
     "end_time": "2021-09-02T04:12:20.712210",
     "exception": false,
     "start_time": "2021-09-02T04:12:17.768045",
     "status": "completed"
    },
    "tags": []
   },
   "outputs": [],
   "source": [
    "input_genomes_file = simulation_dir_path / 'input-assemblies.tsv'\n",
    "\n",
    "!gdi input --absolute {assemblies_dir}/*.fa.gz > {input_genomes_file}"
   ]
  },
  {
   "cell_type": "code",
   "execution_count": 10,
   "id": "0a1e62f3-3b0c-4a90-a7fe-f0bc1094e350",
   "metadata": {
    "execution": {
     "iopub.execute_input": "2021-09-02T04:12:20.763239Z",
     "iopub.status.busy": "2021-09-02T04:12:20.762559Z",
     "iopub.status.idle": "2021-09-02T04:21:27.822996Z",
     "shell.execute_reply": "2021-09-02T04:21:27.822070Z"
    },
    "papermill": {
     "duration": 547.086005,
     "end_time": "2021-09-02T04:21:27.823249",
     "exception": false,
     "start_time": "2021-09-02T04:12:20.737244",
     "status": "completed"
    },
    "tags": []
   },
   "outputs": [
    {
     "name": "stdout",
     "output_type": "stream",
     "text": [
      "\n",
      "Iteration 1 of index/analysis of 59 samples with 32 cores\n",
      "Removing any extra snakemake directories: ['snakemake-assemblies.1630555750.63989']\n"
     ]
    },
    {
     "name": "stdout",
     "output_type": "stream",
     "text": [
      "Creating new index: [gdi init simulations/cov-30/index-assemblies]\n"
     ]
    },
    {
     "name": "stdout",
     "output_type": "stream",
     "text": [
      "Creating a new index took 2.89 seconds\n",
      "Analysis running: [gdi --project-dir simulations/cov-30/index-assemblies --ncores 32 analysis --use-conda --no-load-data --reference-file simulations/reference/reference.fa.gz --kmer-size 31 --kmer-size 51 --kmer-size 71 --include-kmer --reads-mincov 10 --input-structured-genomes-file simulations/cov-30/input-assemblies.tsv]\n"
     ]
    },
    {
     "name": "stdout",
     "output_type": "stream",
     "text": [
      "Analysis took 1.51 minutes\n",
      "Index running: [gdi --project-dir simulations/cov-30/index-assemblies --ncores 32 load vcf --reference-file simulations/reference/reference.fa.gz /home/CSCScience.ca/apetkau/workspace/genomics-data-index-evaluation/evaluations/simulation/snakemake-assemblies.1630555948.0304615/gdi-input.fofn]\n"
     ]
    },
    {
     "name": "stdout",
     "output_type": "stream",
     "text": [
      "Indexing took 0.08 minutes\n",
      "Building tree: [gdi --project-dir simulations/cov-30/index-assemblies --ncores 32 rebuild tree --align-type full --extra-params '--fast -m GTR+F+R4' reference]\n"
     ]
    },
    {
     "name": "stdout",
     "output_type": "stream",
     "text": [
      "Building tree took 1.57 minutes\n"
     ]
    },
    {
     "name": "stderr",
     "output_type": "stream",
     "text": [
      "Attempting to set global database_path_translator=<genomics_data_index.storage.model.db.DatabasePathTranslator.DatabasePathTranslator object at 0x7f7bf5316a90> but it is already set\n"
     ]
    },
    {
     "name": "stderr",
     "output_type": "stream",
     "text": [
      "A reminder to myself to look for a Python solution for directory sizes (instead of running `du`)\n"
     ]
    },
    {
     "name": "stdout",
     "output_type": "stream",
     "text": [
      "\n",
      "Iteration 2 of index/analysis of 59 samples with 32 cores\n",
      "Removing any extra snakemake directories: ['snakemake-assemblies.1630555948.0304615']\n"
     ]
    },
    {
     "name": "stdout",
     "output_type": "stream",
     "text": [
      "Removing any existing indexes simulations/cov-30/index-assemblies\n",
      "Creating new index: [gdi init simulations/cov-30/index-assemblies]\n"
     ]
    },
    {
     "name": "stdout",
     "output_type": "stream",
     "text": [
      "Creating a new index took 2.88 seconds\n",
      "Analysis running: [gdi --project-dir simulations/cov-30/index-assemblies --ncores 32 analysis --use-conda --no-load-data --reference-file simulations/reference/reference.fa.gz --kmer-size 31 --kmer-size 51 --kmer-size 71 --include-kmer --reads-mincov 10 --input-structured-genomes-file simulations/cov-30/input-assemblies.tsv]\n"
     ]
    },
    {
     "name": "stdout",
     "output_type": "stream",
     "text": [
      "Analysis took 1.53 minutes\n",
      "Index running: [gdi --project-dir simulations/cov-30/index-assemblies --ncores 32 load vcf --reference-file simulations/reference/reference.fa.gz /home/CSCScience.ca/apetkau/workspace/genomics-data-index-evaluation/evaluations/simulation/snakemake-assemblies.1630556142.1434772/gdi-input.fofn]\n"
     ]
    },
    {
     "name": "stdout",
     "output_type": "stream",
     "text": [
      "Indexing took 0.09 minutes\n",
      "Building tree: [gdi --project-dir simulations/cov-30/index-assemblies --ncores 32 rebuild tree --align-type full --extra-params '--fast -m GTR+F+R4' reference]\n"
     ]
    },
    {
     "name": "stdout",
     "output_type": "stream",
     "text": [
      "Building tree took 1.33 minutes\n"
     ]
    },
    {
     "name": "stderr",
     "output_type": "stream",
     "text": [
      "Attempting to set global database_path_translator=<genomics_data_index.storage.model.db.DatabasePathTranslator.DatabasePathTranslator object at 0x7f7bf5316040> but it is already set\n"
     ]
    },
    {
     "name": "stderr",
     "output_type": "stream",
     "text": [
      "A reminder to myself to look for a Python solution for directory sizes (instead of running `du`)\n"
     ]
    },
    {
     "name": "stdout",
     "output_type": "stream",
     "text": [
      "\n",
      "Iteration 3 of index/analysis of 59 samples with 32 cores\n",
      "Removing any extra snakemake directories: ['snakemake-assemblies.1630556142.1434772']\n"
     ]
    },
    {
     "name": "stdout",
     "output_type": "stream",
     "text": [
      "Removing any existing indexes simulations/cov-30/index-assemblies\n",
      "Creating new index: [gdi init simulations/cov-30/index-assemblies]\n"
     ]
    },
    {
     "name": "stdout",
     "output_type": "stream",
     "text": [
      "Creating a new index took 2.89 seconds\n",
      "Analysis running: [gdi --project-dir simulations/cov-30/index-assemblies --ncores 32 analysis --use-conda --no-load-data --reference-file simulations/reference/reference.fa.gz --kmer-size 31 --kmer-size 51 --kmer-size 71 --include-kmer --reads-mincov 10 --input-structured-genomes-file simulations/cov-30/input-assemblies.tsv]\n"
     ]
    },
    {
     "name": "stdout",
     "output_type": "stream",
     "text": [
      "Analysis took 1.50 minutes\n",
      "Index running: [gdi --project-dir simulations/cov-30/index-assemblies --ncores 32 load vcf --reference-file simulations/reference/reference.fa.gz /home/CSCScience.ca/apetkau/workspace/genomics-data-index-evaluation/evaluations/simulation/snakemake-assemblies.1630556322.9467545/gdi-input.fofn]\n"
     ]
    },
    {
     "name": "stdout",
     "output_type": "stream",
     "text": [
      "Indexing took 0.09 minutes\n",
      "Building tree: [gdi --project-dir simulations/cov-30/index-assemblies --ncores 32 rebuild tree --align-type full --extra-params '--fast -m GTR+F+R4' reference]\n"
     ]
    },
    {
     "name": "stdout",
     "output_type": "stream",
     "text": [
      "Building tree took 1.20 minutes\n"
     ]
    },
    {
     "name": "stderr",
     "output_type": "stream",
     "text": [
      "Attempting to set global database_path_translator=<genomics_data_index.storage.model.db.DatabasePathTranslator.DatabasePathTranslator object at 0x7f7c5073d3a0> but it is already set\n"
     ]
    },
    {
     "name": "stderr",
     "output_type": "stream",
     "text": [
      "A reminder to myself to look for a Python solution for directory sizes (instead of running `du`)\n"
     ]
    }
   ],
   "source": [
    "results_handler = gdi_benchmark.BenchmarkResultsHandler(name=f'{case_name} assemblies')\n",
    "benchmarker = gdi_benchmark.IndexBenchmarker(benchmark_results_handler=results_handler,\n",
    "                                             index_path=index_assemblies_path, input_files_file=input_genomes_file,\n",
    "                                             reference_file=reference_file, mincov=mincov, build_tree=True,\n",
    "                                             ncores=ncores)\n",
    "\n",
    "benchmark_df = benchmarker.benchmark(iterations=iterations)"
   ]
  },
  {
   "cell_type": "code",
   "execution_count": 11,
   "id": "a6d55a9d-be2f-4851-b66c-04b5ebd597a1",
   "metadata": {
    "execution": {
     "iopub.execute_input": "2021-09-02T04:21:27.902926Z",
     "iopub.status.busy": "2021-09-02T04:21:27.902229Z",
     "iopub.status.idle": "2021-09-02T04:21:27.905862Z",
     "shell.execute_reply": "2021-09-02T04:21:27.905271Z"
    },
    "papermill": {
     "duration": 0.052247,
     "end_time": "2021-09-02T04:21:27.906008",
     "exception": false,
     "start_time": "2021-09-02T04:21:27.853761",
     "status": "completed"
    },
    "tags": []
   },
   "outputs": [
    {
     "data": {
      "text/html": [
       "<div>\n",
       "<style scoped>\n",
       "    .dataframe tbody tr th:only-of-type {\n",
       "        vertical-align: middle;\n",
       "    }\n",
       "\n",
       "    .dataframe tbody tr th {\n",
       "        vertical-align: top;\n",
       "    }\n",
       "\n",
       "    .dataframe thead th {\n",
       "        text-align: right;\n",
       "    }\n",
       "</style>\n",
       "<table border=\"1\" class=\"dataframe\">\n",
       "  <thead>\n",
       "    <tr style=\"text-align: right;\">\n",
       "      <th></th>\n",
       "      <th>Name</th>\n",
       "      <th>Iteration</th>\n",
       "      <th>Number samples</th>\n",
       "      <th>Number cores</th>\n",
       "      <th>Reference length</th>\n",
       "      <th>Analysis runtime</th>\n",
       "      <th>Analysis memory (max)</th>\n",
       "      <th>Analysis memory (max/process)</th>\n",
       "      <th>Analysis disk uage</th>\n",
       "      <th>Index runtime</th>\n",
       "      <th>Index memory (max)</th>\n",
       "      <th>Index memory (max/process)</th>\n",
       "      <th>Index size</th>\n",
       "      <th>Tree runtime</th>\n",
       "      <th>Tree memory (max)</th>\n",
       "      <th>Tree memory (max/process)</th>\n",
       "      <th>Total runtime</th>\n",
       "      <th>Max memory</th>\n",
       "    </tr>\n",
       "  </thead>\n",
       "  <tbody>\n",
       "    <tr>\n",
       "      <th>0</th>\n",
       "      <td>cov-30 assemblies</td>\n",
       "      <td>1</td>\n",
       "      <td>59</td>\n",
       "      <td>32</td>\n",
       "      <td>10834</td>\n",
       "      <td>90.37</td>\n",
       "      <td>1.214665e+09</td>\n",
       "      <td>377958400.0</td>\n",
       "      <td>2.082599e+09</td>\n",
       "      <td>4.80</td>\n",
       "      <td>5.779538e+09</td>\n",
       "      <td>238112768.0</td>\n",
       "      <td>1069056.0</td>\n",
       "      <td>94.21</td>\n",
       "      <td>241328128.0</td>\n",
       "      <td>224346112.0</td>\n",
       "      <td>189.38</td>\n",
       "      <td>5.779538e+09</td>\n",
       "    </tr>\n",
       "    <tr>\n",
       "      <th>0</th>\n",
       "      <td>cov-30 assemblies</td>\n",
       "      <td>2</td>\n",
       "      <td>59</td>\n",
       "      <td>32</td>\n",
       "      <td>10834</td>\n",
       "      <td>91.39</td>\n",
       "      <td>1.217360e+09</td>\n",
       "      <td>380788736.0</td>\n",
       "      <td>2.082595e+09</td>\n",
       "      <td>5.01</td>\n",
       "      <td>5.781225e+09</td>\n",
       "      <td>237809664.0</td>\n",
       "      <td>1069056.0</td>\n",
       "      <td>79.43</td>\n",
       "      <td>241070080.0</td>\n",
       "      <td>224325632.0</td>\n",
       "      <td>175.83</td>\n",
       "      <td>5.781225e+09</td>\n",
       "    </tr>\n",
       "    <tr>\n",
       "      <th>0</th>\n",
       "      <td>cov-30 assemblies</td>\n",
       "      <td>3</td>\n",
       "      <td>59</td>\n",
       "      <td>32</td>\n",
       "      <td>10834</td>\n",
       "      <td>90.17</td>\n",
       "      <td>1.193251e+09</td>\n",
       "      <td>377647104.0</td>\n",
       "      <td>2.082591e+09</td>\n",
       "      <td>5.18</td>\n",
       "      <td>5.787181e+09</td>\n",
       "      <td>238239744.0</td>\n",
       "      <td>1064960.0</td>\n",
       "      <td>71.84</td>\n",
       "      <td>240459776.0</td>\n",
       "      <td>223711232.0</td>\n",
       "      <td>167.19</td>\n",
       "      <td>5.787181e+09</td>\n",
       "    </tr>\n",
       "  </tbody>\n",
       "</table>\n",
       "</div>"
      ],
      "text/plain": [
       "                Name  Iteration  Number samples  Number cores  \\\n",
       "0  cov-30 assemblies          1              59            32   \n",
       "0  cov-30 assemblies          2              59            32   \n",
       "0  cov-30 assemblies          3              59            32   \n",
       "\n",
       "   Reference length  Analysis runtime  Analysis memory (max)  \\\n",
       "0             10834             90.37           1.214665e+09   \n",
       "0             10834             91.39           1.217360e+09   \n",
       "0             10834             90.17           1.193251e+09   \n",
       "\n",
       "   Analysis memory (max/process)  Analysis disk uage  Index runtime  \\\n",
       "0                    377958400.0        2.082599e+09           4.80   \n",
       "0                    380788736.0        2.082595e+09           5.01   \n",
       "0                    377647104.0        2.082591e+09           5.18   \n",
       "\n",
       "   Index memory (max)  Index memory (max/process)  Index size  Tree runtime  \\\n",
       "0        5.779538e+09                 238112768.0   1069056.0         94.21   \n",
       "0        5.781225e+09                 237809664.0   1069056.0         79.43   \n",
       "0        5.787181e+09                 238239744.0   1064960.0         71.84   \n",
       "\n",
       "   Tree memory (max)  Tree memory (max/process)  Total runtime    Max memory  \n",
       "0        241328128.0                224346112.0         189.38  5.779538e+09  \n",
       "0        241070080.0                224325632.0         175.83  5.781225e+09  \n",
       "0        240459776.0                223711232.0         167.19  5.787181e+09  "
      ]
     },
     "execution_count": 11,
     "metadata": {},
     "output_type": "execute_result"
    }
   ],
   "source": [
    "benchmark_df"
   ]
  },
  {
   "cell_type": "code",
   "execution_count": 12,
   "id": "e1a6d962-50bc-4c8d-a6f2-3a661da706b4",
   "metadata": {
    "execution": {
     "iopub.execute_input": "2021-09-02T04:21:27.954952Z",
     "iopub.status.busy": "2021-09-02T04:21:27.954553Z",
     "iopub.status.idle": "2021-09-02T04:21:27.960470Z",
     "shell.execute_reply": "2021-09-02T04:21:27.960059Z"
    },
    "papermill": {
     "duration": 0.02796,
     "end_time": "2021-09-02T04:21:27.960581",
     "exception": false,
     "start_time": "2021-09-02T04:21:27.932621",
     "status": "completed"
    },
    "tags": []
   },
   "outputs": [],
   "source": [
    "index_assemblies_runtime = simulation_dir_path / 'assemblies-index-info.tsv'\n",
    "benchmark_df.to_csv(index_assemblies_runtime, sep='\\t', index=False)"
   ]
  },
  {
   "cell_type": "markdown",
   "id": "6cb7673b-9f85-4c43-b2e2-93538497a196",
   "metadata": {
    "papermill": {
     "duration": 0.015506,
     "end_time": "2021-09-02T04:21:27.996266",
     "exception": false,
     "start_time": "2021-09-02T04:21:27.980760",
     "status": "completed"
    },
    "tags": []
   },
   "source": [
    "# 3. Export trees"
   ]
  },
  {
   "cell_type": "code",
   "execution_count": 13,
   "id": "5280f82c-5434-4391-8c44-b937a7c95bd5",
   "metadata": {
    "execution": {
     "iopub.execute_input": "2021-09-02T04:21:28.044546Z",
     "iopub.status.busy": "2021-09-02T04:21:28.036056Z",
     "iopub.status.idle": "2021-09-02T04:21:33.846584Z",
     "shell.execute_reply": "2021-09-02T04:21:33.847430Z"
    },
    "papermill": {
     "duration": 5.835863,
     "end_time": "2021-09-02T04:21:33.847757",
     "exception": false,
     "start_time": "2021-09-02T04:21:28.011894",
     "status": "completed"
    },
    "tags": []
   },
   "outputs": [
    {
     "name": "stdout",
     "output_type": "stream",
     "text": [
      "Wrote assemblies tree to simulations/cov-30/index-assemblies/assemblies.tre\n"
     ]
    },
    {
     "name": "stdout",
     "output_type": "stream",
     "text": [
      "Wrote assemblies tree to simulations/cov-30/index-reads/reads.tre\n"
     ]
    }
   ],
   "source": [
    "!gdi --project-dir {index_assemblies_path} export tree {reference_name} > {output_assemblies_tree}\n",
    "print(f'Wrote assemblies tree to {output_assemblies_tree}')\n",
    "\n",
    "!gdi --project-dir {index_reads_path} export tree {reference_name} > {output_reads_tree}\n",
    "print(f'Wrote assemblies tree to {output_reads_tree}')"
   ]
  }
 ],
 "metadata": {
  "kernelspec": {
   "display_name": "Python 3 (ipykernel)",
   "language": "python",
   "name": "python3"
  },
  "language_info": {
   "codemirror_mode": {
    "name": "ipython",
    "version": 3
   },
   "file_extension": ".py",
   "mimetype": "text/x-python",
   "name": "python",
   "nbconvert_exporter": "python",
   "pygments_lexer": "ipython3",
   "version": "3.8.10"
  },
  "papermill": {
   "default_parameters": {},
   "duration": 1185.944711,
   "end_time": "2021-09-02T04:21:34.393330",
   "environment_variables": {},
   "exception": null,
   "input_path": "template-3-index-genomes.ipynb",
   "output_path": "3-index-genomes.simulation-cov-30.ipynb",
   "parameters": {
    "iterations": 3,
    "mincov": 10,
    "read_coverage": 30,
    "simulation_dir": "simulations/cov-30"
   },
   "start_time": "2021-09-02T04:01:48.448619",
   "version": "2.3.3"
  }
 },
 "nbformat": 4,
 "nbformat_minor": 5
}