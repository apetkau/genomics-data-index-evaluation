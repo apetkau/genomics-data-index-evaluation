{
 "cells": [
  {
   "cell_type": "markdown",
   "id": "acfa5482-d626-44d6-b613-863e6911fa98",
   "metadata": {
    "papermill": {
     "duration": 0.013858,
     "end_time": "2021-09-11T18:57:24.185884",
     "exception": false,
     "start_time": "2021-09-11T18:57:24.172026",
     "status": "completed"
    },
    "tags": []
   },
   "source": [
    "# 1. Parameters"
   ]
  },
  {
   "cell_type": "code",
   "execution_count": 1,
   "id": "36126d74-a9d8-4431-ba49-767c1fc2ec49",
   "metadata": {
    "execution": {
     "iopub.execute_input": "2021-09-11T18:57:24.216871Z",
     "iopub.status.busy": "2021-09-11T18:57:24.215726Z",
     "iopub.status.idle": "2021-09-11T18:57:24.218970Z",
     "shell.execute_reply": "2021-09-11T18:57:24.219837Z"
    },
    "papermill": {
     "duration": 0.025035,
     "end_time": "2021-09-11T18:57:24.220253",
     "exception": false,
     "start_time": "2021-09-11T18:57:24.195218",
     "status": "completed"
    },
    "tags": [
     "parameters"
    ]
   },
   "outputs": [],
   "source": [
    "# Defaults\n",
    "simulation_dir = 'simulations/unset'\n",
    "ncores = 48"
   ]
  },
  {
   "cell_type": "code",
   "execution_count": 2,
   "id": "c575844a",
   "metadata": {
    "execution": {
     "iopub.execute_input": "2021-09-11T18:57:24.245887Z",
     "iopub.status.busy": "2021-09-11T18:57:24.245413Z",
     "iopub.status.idle": "2021-09-11T18:57:24.248436Z",
     "shell.execute_reply": "2021-09-11T18:57:24.248063Z"
    },
    "papermill": {
     "duration": 0.016549,
     "end_time": "2021-09-11T18:57:24.248539",
     "exception": false,
     "start_time": "2021-09-11T18:57:24.231990",
     "status": "completed"
    },
    "tags": [
     "injected-parameters"
    ]
   },
   "outputs": [],
   "source": [
    "# Parameters\n",
    "read_coverage = 30\n",
    "mincov = 10\n",
    "simulation_dir = \"simulations/alpha-10-cov-30\"\n",
    "iterations = 3\n",
    "sub_alpha = 10\n"
   ]
  },
  {
   "cell_type": "code",
   "execution_count": 3,
   "id": "15e911d7-0ffc-4110-aefe-71bc77e689cd",
   "metadata": {
    "execution": {
     "iopub.execute_input": "2021-09-11T18:57:24.268941Z",
     "iopub.status.busy": "2021-09-11T18:57:24.268530Z",
     "iopub.status.idle": "2021-09-11T18:57:24.271247Z",
     "shell.execute_reply": "2021-09-11T18:57:24.271661Z"
    },
    "papermill": {
     "duration": 0.016715,
     "end_time": "2021-09-11T18:57:24.271795",
     "exception": false,
     "start_time": "2021-09-11T18:57:24.255080",
     "status": "completed"
    },
    "tags": []
   },
   "outputs": [],
   "source": [
    "from pathlib import Path\n",
    "import os\n",
    "\n",
    "simulation_data_dir = Path(simulation_dir) / 'simulated_data'\n",
    "initial_reads_dir = simulation_data_dir / 'reads_initial'\n",
    "reads_dir = simulation_data_dir / 'reads'\n",
    "assemblies_dir = simulation_data_dir / 'assemblies'\n",
    "\n",
    "if not reads_dir.exists():\n",
    "    os.mkdir(reads_dir)"
   ]
  },
  {
   "cell_type": "markdown",
   "id": "rotary-regard",
   "metadata": {
    "papermill": {
     "duration": 0.005337,
     "end_time": "2021-09-11T18:57:24.283177",
     "exception": false,
     "start_time": "2021-09-11T18:57:24.277840",
     "status": "completed"
    },
    "tags": []
   },
   "source": [
    "# 2. Fix reads\n",
    "\n",
    "Fix read file names and data so they can be indexed."
   ]
  },
  {
   "cell_type": "code",
   "execution_count": 4,
   "id": "convenient-blackberry",
   "metadata": {
    "execution": {
     "iopub.execute_input": "2021-09-11T18:57:24.303959Z",
     "iopub.status.busy": "2021-09-11T18:57:24.298787Z",
     "iopub.status.idle": "2021-09-11T18:57:24.476495Z",
     "shell.execute_reply": "2021-09-11T18:57:24.475601Z"
    },
    "papermill": {
     "duration": 0.189104,
     "end_time": "2021-09-11T18:57:24.476736",
     "exception": false,
     "start_time": "2021-09-11T18:57:24.287632",
     "status": "completed"
    },
    "tags": []
   },
   "outputs": [
    {
     "name": "stdout",
     "output_type": "stream",
     "text": [
      "~/workspace/genomics-data-index-evaluation/evaluations/simulation/simulations/alpha-10-cov-30/simulated_data/reads_initial ~/workspace/genomics-data-index-evaluation/evaluations/simulation\r\n"
     ]
    },
    {
     "name": "stdout",
     "output_type": "stream",
     "text": [
      "~/workspace/genomics-data-index-evaluation/evaluations/simulation\r\n"
     ]
    }
   ],
   "source": [
    "import os\n",
    "\n",
    "# Fix warning about locale unset\n",
    "os.environ['LANG'] = 'en_US.UTF-8'\n",
    "\n",
    "!pushd {initial_reads_dir}; prename 's/data_//' *.fq.gz; popd"
   ]
  },
  {
   "cell_type": "markdown",
   "id": "median-belle",
   "metadata": {
    "papermill": {
     "duration": 0.009223,
     "end_time": "2021-09-11T18:57:24.499704",
     "exception": false,
     "start_time": "2021-09-11T18:57:24.490481",
     "status": "completed"
    },
    "tags": []
   },
   "source": [
    "Jackalope produces reads with non-standard identifiers where pairs of reads don't have matching identifiers. For example:\n",
    "\n",
    "* Pair 1: `@SH08-001-NC_011083-3048632-R/1`\n",
    "* Pair 2: `@SH08-001-NC_011083-3048396-F/2`\n",
    "\n",
    "In order to run snippy, these paired identifiers need to match (except for the `/1` and `/2` suffix).\n",
    "\n",
    "So, I have to replace them all with something unique, but which matches in each pair of files. I do this by replacing the position (I think) with the read number (as it appears in the file). So the above identifiers become:\n",
    "\n",
    "* Pair 1: `@SH08-001-NC_011083-1/1`\n",
    "* Pair 2: `@SH08-001-NC_011083-1/2`"
   ]
  },
  {
   "cell_type": "code",
   "execution_count": 5,
   "id": "remarkable-berry",
   "metadata": {
    "execution": {
     "iopub.execute_input": "2021-09-11T18:57:24.520668Z",
     "iopub.status.busy": "2021-09-11T18:57:24.520269Z",
     "iopub.status.idle": "2021-09-11T18:57:25.497941Z",
     "shell.execute_reply": "2021-09-11T18:57:25.498811Z"
    },
    "papermill": {
     "duration": 0.992754,
     "end_time": "2021-09-11T18:57:25.499120",
     "exception": false,
     "start_time": "2021-09-11T18:57:24.506366",
     "status": "completed"
    },
    "tags": []
   },
   "outputs": [],
   "source": [
    "import glob\n",
    "import os\n",
    "\n",
    "files = [os.path.basename(f) for f in glob.glob(f'{initial_reads_dir}/*.fq.gz')]\n",
    "!parallel -j {ncores} -I% 'gzip -d --stdout {initial_reads_dir}/% | perl scripts/replace-fastq-header.pl | gzip > {reads_dir}/%' \\\n",
    "    ::: {' '.join(files)}"
   ]
  },
  {
   "cell_type": "code",
   "execution_count": 6,
   "id": "8318e7a8-1057-4e4f-aaec-fccdec42a75f",
   "metadata": {
    "execution": {
     "iopub.execute_input": "2021-09-11T18:57:25.528544Z",
     "iopub.status.busy": "2021-09-11T18:57:25.528073Z",
     "iopub.status.idle": "2021-09-11T18:57:25.546016Z",
     "shell.execute_reply": "2021-09-11T18:57:25.546656Z"
    },
    "papermill": {
     "duration": 0.033651,
     "end_time": "2021-09-11T18:57:25.546873",
     "exception": false,
     "start_time": "2021-09-11T18:57:25.513222",
     "status": "completed"
    },
    "tags": []
   },
   "outputs": [],
   "source": [
    "import shutil\n",
    "\n",
    "shutil.rmtree(initial_reads_dir)"
   ]
  },
  {
   "cell_type": "markdown",
   "id": "cf630b4f-ed63-4e14-9657-e0aaea0953ab",
   "metadata": {
    "papermill": {
     "duration": 0.009417,
     "end_time": "2021-09-11T18:57:25.569495",
     "exception": false,
     "start_time": "2021-09-11T18:57:25.560078",
     "status": "completed"
    },
    "tags": []
   },
   "source": [
    "# 3. Fix assemblies\n",
    "\n",
    "Fix assembly genome names"
   ]
  },
  {
   "cell_type": "code",
   "execution_count": 7,
   "id": "08fac610-3ab3-4afa-9873-406973041963",
   "metadata": {
    "execution": {
     "iopub.execute_input": "2021-09-11T18:57:25.588800Z",
     "iopub.status.busy": "2021-09-11T18:57:25.588421Z",
     "iopub.status.idle": "2021-09-11T18:57:25.761126Z",
     "shell.execute_reply": "2021-09-11T18:57:25.760233Z"
    },
    "papermill": {
     "duration": 0.185186,
     "end_time": "2021-09-11T18:57:25.761371",
     "exception": false,
     "start_time": "2021-09-11T18:57:25.576185",
     "status": "completed"
    },
    "tags": []
   },
   "outputs": [
    {
     "name": "stdout",
     "output_type": "stream",
     "text": [
      "~/workspace/genomics-data-index-evaluation/evaluations/simulation/simulations/alpha-10-cov-30/simulated_data/assemblies ~/workspace/genomics-data-index-evaluation/evaluations/simulation\r\n"
     ]
    },
    {
     "name": "stdout",
     "output_type": "stream",
     "text": [
      "~/workspace/genomics-data-index-evaluation/evaluations/simulation\r\n"
     ]
    }
   ],
   "source": [
    "!pushd {assemblies_dir}; prename 's/data__//' *.fa.gz; popd"
   ]
  }
 ],
 "metadata": {
  "kernelspec": {
   "display_name": "Python 3 (ipykernel)",
   "language": "python",
   "name": "python3"
  },
  "language_info": {
   "codemirror_mode": {
    "name": "ipython",
    "version": 3
   },
   "file_extension": ".py",
   "mimetype": "text/x-python",
   "name": "python",
   "nbconvert_exporter": "python",
   "pygments_lexer": "ipython3",
   "version": "3.8.10"
  },
  "papermill": {
   "default_parameters": {},
   "duration": 2.694012,
   "end_time": "2021-09-11T18:57:25.885397",
   "environment_variables": {},
   "exception": null,
   "input_path": "template-2-fix-simulated-files.ipynb",
   "output_path": "2-fix-simulated-files.simulation-alpha-10.ipynb",
   "parameters": {
    "iterations": 3,
    "mincov": 10,
    "read_coverage": 30,
    "simulation_dir": "simulations/alpha-10-cov-30",
    "sub_alpha": 10
   },
   "start_time": "2021-09-11T18:57:23.191385",
   "version": "2.3.3"
  }
 },
 "nbformat": 4,
 "nbformat_minor": 5
}