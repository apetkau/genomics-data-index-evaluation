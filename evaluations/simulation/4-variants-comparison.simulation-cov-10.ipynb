{
 "cells": [
  {
   "cell_type": "markdown",
   "id": "2f66aa00-6c01-46a5-8f31-0e579da614b2",
   "metadata": {
    "papermill": {
     "duration": 0.021423,
     "end_time": "2021-09-02T05:44:21.215073",
     "exception": false,
     "start_time": "2021-09-02T05:44:21.193650",
     "status": "completed"
    },
    "tags": []
   },
   "source": [
    "# 1. Parameters"
   ]
  },
  {
   "cell_type": "code",
   "execution_count": 1,
   "id": "f2cfe9b4-3c45-4e2e-9ba2-17f4119f5f6d",
   "metadata": {
    "execution": {
     "iopub.execute_input": "2021-09-02T05:44:21.249621Z",
     "iopub.status.busy": "2021-09-02T05:44:21.248480Z",
     "iopub.status.idle": "2021-09-02T05:44:21.252131Z",
     "shell.execute_reply": "2021-09-02T05:44:21.251321Z"
    },
    "papermill": {
     "duration": 0.025943,
     "end_time": "2021-09-02T05:44:21.252322",
     "exception": false,
     "start_time": "2021-09-02T05:44:21.226379",
     "status": "completed"
    },
    "tags": [
     "parameters"
    ]
   },
   "outputs": [],
   "source": [
    "# Defaults\n",
    "\n",
    "simulation_dir = 'simulations/unset'\n",
    "reference_file = 'simulations/reference/reference.fa.gz'"
   ]
  },
  {
   "cell_type": "code",
   "execution_count": 2,
   "id": "10c674fc",
   "metadata": {
    "execution": {
     "iopub.execute_input": "2021-09-02T05:44:21.280732Z",
     "iopub.status.busy": "2021-09-02T05:44:21.280312Z",
     "iopub.status.idle": "2021-09-02T05:44:21.283333Z",
     "shell.execute_reply": "2021-09-02T05:44:21.283686Z"
    },
    "papermill": {
     "duration": 0.017682,
     "end_time": "2021-09-02T05:44:21.283806",
     "exception": false,
     "start_time": "2021-09-02T05:44:21.266124",
     "status": "completed"
    },
    "tags": [
     "injected-parameters"
    ]
   },
   "outputs": [],
   "source": [
    "# Parameters\n",
    "read_coverage = 10\n",
    "mincov = 10\n",
    "simulation_dir = \"simulations/cov-10\"\n",
    "iterations = 3\n"
   ]
  },
  {
   "cell_type": "code",
   "execution_count": 3,
   "id": "9ddaa924-b1ac-4740-8070-0eaa05b80e96",
   "metadata": {
    "execution": {
     "iopub.execute_input": "2021-09-02T05:44:21.307694Z",
     "iopub.status.busy": "2021-09-02T05:44:21.307265Z",
     "iopub.status.idle": "2021-09-02T05:44:21.310006Z",
     "shell.execute_reply": "2021-09-02T05:44:21.310305Z"
    },
    "papermill": {
     "duration": 0.017894,
     "end_time": "2021-09-02T05:44:21.310409",
     "exception": false,
     "start_time": "2021-09-02T05:44:21.292515",
     "status": "completed"
    },
    "tags": []
   },
   "outputs": [],
   "source": [
    "from pathlib import Path\n",
    "\n",
    "simulation_dir_path = Path(simulation_dir)\n",
    "\n",
    "case_name = str(simulation_dir_path.name)\n",
    "\n",
    "simulation_data_path = simulation_dir_path / 'simulated_data'\n",
    "simulated_variants_file = simulation_data_path / 'haplotypes.vcf.gz'\n",
    "\n",
    "case_name = str(simulation_dir_path.name)\n",
    "index_reads_path = simulation_dir_path / 'index-reads'\n",
    "index_assemblies_path = simulation_dir_path / 'index-assemblies'"
   ]
  },
  {
   "cell_type": "markdown",
   "id": "2b6c7ffd-d5d7-447f-ba62-7ec7d1b0b583",
   "metadata": {
    "papermill": {
     "duration": 0.007982,
     "end_time": "2021-09-02T05:44:21.328363",
     "exception": false,
     "start_time": "2021-09-02T05:44:21.320381",
     "status": "completed"
    },
    "tags": []
   },
   "source": [
    "# 2. Load simulated variants (VCF)"
   ]
  },
  {
   "cell_type": "code",
   "execution_count": 4,
   "id": "e01f3458-fb5e-4fc1-b1f0-69b7a9c9d033",
   "metadata": {
    "execution": {
     "iopub.execute_input": "2021-09-02T05:44:21.351004Z",
     "iopub.status.busy": "2021-09-02T05:44:21.350604Z",
     "iopub.status.idle": "2021-09-02T05:44:21.928164Z",
     "shell.execute_reply": "2021-09-02T05:44:21.929054Z"
    },
    "papermill": {
     "duration": 0.593132,
     "end_time": "2021-09-02T05:44:21.929348",
     "exception": false,
     "start_time": "2021-09-02T05:44:21.336216",
     "status": "completed"
    },
    "tags": []
   },
   "outputs": [
    {
     "data": {
      "text/html": [
       "<div>\n",
       "<style scoped>\n",
       "    .dataframe tbody tr th:only-of-type {\n",
       "        vertical-align: middle;\n",
       "    }\n",
       "\n",
       "    .dataframe tbody tr th {\n",
       "        vertical-align: top;\n",
       "    }\n",
       "\n",
       "    .dataframe thead th {\n",
       "        text-align: right;\n",
       "    }\n",
       "</style>\n",
       "<table border=\"1\" class=\"dataframe\">\n",
       "  <thead>\n",
       "    <tr style=\"text-align: right;\">\n",
       "      <th></th>\n",
       "      <th>CHROM</th>\n",
       "      <th>POS</th>\n",
       "      <th>REF</th>\n",
       "      <th>samples</th>\n",
       "    </tr>\n",
       "  </thead>\n",
       "  <tbody>\n",
       "    <tr>\n",
       "      <th>0</th>\n",
       "      <td>chrom0</td>\n",
       "      <td>12</td>\n",
       "      <td>G</td>\n",
       "      <td>[Call(sample=reference, CallData(GT=0, GQ=4414...</td>\n",
       "    </tr>\n",
       "    <tr>\n",
       "      <th>1</th>\n",
       "      <td>chrom0</td>\n",
       "      <td>13</td>\n",
       "      <td>T</td>\n",
       "      <td>[Call(sample=reference, CallData(GT=0, GQ=4414...</td>\n",
       "    </tr>\n",
       "    <tr>\n",
       "      <th>2</th>\n",
       "      <td>chrom0</td>\n",
       "      <td>38</td>\n",
       "      <td>C</td>\n",
       "      <td>[Call(sample=reference, CallData(GT=0, GQ=4414...</td>\n",
       "    </tr>\n",
       "    <tr>\n",
       "      <th>3</th>\n",
       "      <td>chrom0</td>\n",
       "      <td>42</td>\n",
       "      <td>G</td>\n",
       "      <td>[Call(sample=reference, CallData(GT=0, GQ=4414...</td>\n",
       "    </tr>\n",
       "    <tr>\n",
       "      <th>4</th>\n",
       "      <td>chrom0</td>\n",
       "      <td>54</td>\n",
       "      <td>T</td>\n",
       "      <td>[Call(sample=reference, CallData(GT=0, GQ=4414...</td>\n",
       "    </tr>\n",
       "  </tbody>\n",
       "</table>\n",
       "</div>"
      ],
      "text/plain": [
       "    CHROM  POS REF                                            samples\n",
       "0  chrom0   12   G  [Call(sample=reference, CallData(GT=0, GQ=4414...\n",
       "1  chrom0   13   T  [Call(sample=reference, CallData(GT=0, GQ=4414...\n",
       "2  chrom0   38   C  [Call(sample=reference, CallData(GT=0, GQ=4414...\n",
       "3  chrom0   42   G  [Call(sample=reference, CallData(GT=0, GQ=4414...\n",
       "4  chrom0   54   T  [Call(sample=reference, CallData(GT=0, GQ=4414..."
      ]
     },
     "execution_count": 4,
     "metadata": {},
     "output_type": "execute_result"
    }
   ],
   "source": [
    "import vcf\n",
    "import pandas as pd\n",
    "import time\n",
    "\n",
    "reader = vcf.Reader(filename=str(simulated_variants_file))\n",
    "simulated_df = pd.DataFrame([vars(r) for r in reader])\n",
    "simulated_df = simulated_df[['CHROM', 'POS', 'REF', 'samples']]\n",
    "simulated_df.head(5)"
   ]
  },
  {
   "cell_type": "markdown",
   "id": "f1c95d8a-de3e-4bb4-b13f-0f88e6466925",
   "metadata": {
    "papermill": {
     "duration": 0.009996,
     "end_time": "2021-09-02T05:44:21.956998",
     "exception": false,
     "start_time": "2021-09-02T05:44:21.947002",
     "status": "completed"
    },
    "tags": []
   },
   "source": [
    "## 2.1. Construct sample:variant identifiers"
   ]
  },
  {
   "cell_type": "code",
   "execution_count": 5,
   "id": "bac0a5e7-a844-47bb-9204-3b4711d0c329",
   "metadata": {
    "execution": {
     "iopub.execute_input": "2021-09-02T05:44:21.988977Z",
     "iopub.status.busy": "2021-09-02T05:44:21.985060Z",
     "iopub.status.idle": "2021-09-02T05:44:22.240929Z",
     "shell.execute_reply": "2021-09-02T05:44:22.241817Z"
    },
    "papermill": {
     "duration": 0.277615,
     "end_time": "2021-09-02T05:44:22.242108",
     "exception": false,
     "start_time": "2021-09-02T05:44:21.964493",
     "status": "completed"
    },
    "tags": []
   },
   "outputs": [
    {
     "name": "stdout",
     "output_type": "stream",
     "text": [
      "There are 10109 expected sample/variant pairs like: ['SH08-001:chrom0:12:G:A', 'SH09-29:chrom0:13:T:A', 'SH10-30:chrom0:13:T:A']\n",
      "Took 0.0 minutes\n"
     ]
    }
   ],
   "source": [
    "before = time.time()\n",
    "\n",
    "# Explode dataframe so that we have one row per sample\n",
    "simulated_df_exploded = simulated_df.explode('samples')\n",
    "simulated_df_exploded['SAMPLE'] = simulated_df_exploded['samples'].apply(lambda x: x.sample)\n",
    "\n",
    "# Extrat ALT for each sample\n",
    "simulated_df_exploded['ALT'] = simulated_df_exploded['samples'].apply(lambda x: x.gt_bases)\n",
    "\n",
    "# Only keep mutations/those where REF and ALT are different\n",
    "simulated_df_exploded = simulated_df_exploded[simulated_df_exploded['REF'] != simulated_df_exploded['ALT']]\n",
    "\n",
    "# Create SPDI-like identifier with Sample name for comparison (SAMPLE:CHROM:POS:REF:ALT)\n",
    "simulated_df_exploded['ID'] = simulated_df_exploded.apply(\n",
    "    lambda x: f\"{x['SAMPLE']}:{x['CHROM']}:{x['POS']}:{x['REF']}:{x['ALT']}\", axis='columns')\n",
    "\n",
    "simulated_variants = simulated_df_exploded['ID'].reset_index(drop=True)\n",
    "expected_sample_variants = set(simulated_variants)\n",
    "\n",
    "after = time.time()\n",
    "\n",
    "print(f'There are {len(expected_sample_variants)} expected sample/variant pairs like: '\n",
    "      f'{list(simulated_variants[0:3])}')\n",
    "print(f'Took {(after - before)/60:0.1f} minutes')"
   ]
  },
  {
   "cell_type": "code",
   "execution_count": 6,
   "id": "e3f05c50-a98a-431f-b8c8-a5083738255c",
   "metadata": {
    "execution": {
     "iopub.execute_input": "2021-09-02T05:44:22.293086Z",
     "iopub.status.busy": "2021-09-02T05:44:22.292386Z",
     "iopub.status.idle": "2021-09-02T05:44:22.295491Z",
     "shell.execute_reply": "2021-09-02T05:44:22.296074Z"
    },
    "papermill": {
     "duration": 0.036047,
     "end_time": "2021-09-02T05:44:22.296247",
     "exception": false,
     "start_time": "2021-09-02T05:44:22.260200",
     "status": "completed"
    },
    "tags": []
   },
   "outputs": [
    {
     "data": {
      "text/html": [
       "<div>\n",
       "<style scoped>\n",
       "    .dataframe tbody tr th:only-of-type {\n",
       "        vertical-align: middle;\n",
       "    }\n",
       "\n",
       "    .dataframe tbody tr th {\n",
       "        vertical-align: top;\n",
       "    }\n",
       "\n",
       "    .dataframe thead th {\n",
       "        text-align: right;\n",
       "    }\n",
       "</style>\n",
       "<table border=\"1\" class=\"dataframe\">\n",
       "  <thead>\n",
       "    <tr style=\"text-align: right;\">\n",
       "      <th></th>\n",
       "      <th>CHROM</th>\n",
       "      <th>POS</th>\n",
       "      <th>REF</th>\n",
       "      <th>samples</th>\n",
       "      <th>SAMPLE</th>\n",
       "      <th>ALT</th>\n",
       "      <th>ID</th>\n",
       "    </tr>\n",
       "  </thead>\n",
       "  <tbody>\n",
       "    <tr>\n",
       "      <th>0</th>\n",
       "      <td>chrom0</td>\n",
       "      <td>12</td>\n",
       "      <td>G</td>\n",
       "      <td>Call(sample=SH08-001, CallData(GT=1, GQ=441453))</td>\n",
       "      <td>SH08-001</td>\n",
       "      <td>A</td>\n",
       "      <td>SH08-001:chrom0:12:G:A</td>\n",
       "    </tr>\n",
       "    <tr>\n",
       "      <th>1</th>\n",
       "      <td>chrom0</td>\n",
       "      <td>13</td>\n",
       "      <td>T</td>\n",
       "      <td>Call(sample=SH09-29, CallData(GT=1, GQ=441453))</td>\n",
       "      <td>SH09-29</td>\n",
       "      <td>A</td>\n",
       "      <td>SH09-29:chrom0:13:T:A</td>\n",
       "    </tr>\n",
       "    <tr>\n",
       "      <th>1</th>\n",
       "      <td>chrom0</td>\n",
       "      <td>13</td>\n",
       "      <td>T</td>\n",
       "      <td>Call(sample=SH10-30, CallData(GT=1, GQ=441453))</td>\n",
       "      <td>SH10-30</td>\n",
       "      <td>A</td>\n",
       "      <td>SH10-30:chrom0:13:T:A</td>\n",
       "    </tr>\n",
       "    <tr>\n",
       "      <th>1</th>\n",
       "      <td>chrom0</td>\n",
       "      <td>13</td>\n",
       "      <td>T</td>\n",
       "      <td>Call(sample=SH14-001, CallData(GT=1, GQ=441453))</td>\n",
       "      <td>SH14-001</td>\n",
       "      <td>A</td>\n",
       "      <td>SH14-001:chrom0:13:T:A</td>\n",
       "    </tr>\n",
       "    <tr>\n",
       "      <th>1</th>\n",
       "      <td>chrom0</td>\n",
       "      <td>13</td>\n",
       "      <td>T</td>\n",
       "      <td>Call(sample=SH14-010, CallData(GT=1, GQ=441453))</td>\n",
       "      <td>SH14-010</td>\n",
       "      <td>A</td>\n",
       "      <td>SH14-010:chrom0:13:T:A</td>\n",
       "    </tr>\n",
       "    <tr>\n",
       "      <th>...</th>\n",
       "      <td>...</td>\n",
       "      <td>...</td>\n",
       "      <td>...</td>\n",
       "      <td>...</td>\n",
       "      <td>...</td>\n",
       "      <td>...</td>\n",
       "      <td>...</td>\n",
       "    </tr>\n",
       "    <tr>\n",
       "      <th>794</th>\n",
       "      <td>chrom0</td>\n",
       "      <td>10803</td>\n",
       "      <td>G</td>\n",
       "      <td>Call(sample=SH12-002, CallData(GT=1, GQ=441453))</td>\n",
       "      <td>SH12-002</td>\n",
       "      <td>A</td>\n",
       "      <td>SH12-002:chrom0:10803:G:A</td>\n",
       "    </tr>\n",
       "    <tr>\n",
       "      <th>794</th>\n",
       "      <td>chrom0</td>\n",
       "      <td>10803</td>\n",
       "      <td>G</td>\n",
       "      <td>Call(sample=SH12-007, CallData(GT=1, GQ=441453))</td>\n",
       "      <td>SH12-007</td>\n",
       "      <td>A</td>\n",
       "      <td>SH12-007:chrom0:10803:G:A</td>\n",
       "    </tr>\n",
       "    <tr>\n",
       "      <th>795</th>\n",
       "      <td>chrom0</td>\n",
       "      <td>10816</td>\n",
       "      <td>A</td>\n",
       "      <td>Call(sample=SH10-002, CallData(GT=1, GQ=441453))</td>\n",
       "      <td>SH10-002</td>\n",
       "      <td>T</td>\n",
       "      <td>SH10-002:chrom0:10816:A:T</td>\n",
       "    </tr>\n",
       "    <tr>\n",
       "      <th>796</th>\n",
       "      <td>chrom0</td>\n",
       "      <td>10821</td>\n",
       "      <td>A</td>\n",
       "      <td>Call(sample=SH12-011, CallData(GT=1, GQ=441453))</td>\n",
       "      <td>SH12-011</td>\n",
       "      <td>G</td>\n",
       "      <td>SH12-011:chrom0:10821:A:G</td>\n",
       "    </tr>\n",
       "    <tr>\n",
       "      <th>797</th>\n",
       "      <td>chrom0</td>\n",
       "      <td>10830</td>\n",
       "      <td>G</td>\n",
       "      <td>Call(sample=SH12-014, CallData(GT=1, GQ=441453))</td>\n",
       "      <td>SH12-014</td>\n",
       "      <td>A</td>\n",
       "      <td>SH12-014:chrom0:10830:G:A</td>\n",
       "    </tr>\n",
       "  </tbody>\n",
       "</table>\n",
       "<p>10109 rows × 7 columns</p>\n",
       "</div>"
      ],
      "text/plain": [
       "      CHROM    POS REF                                           samples  \\\n",
       "0    chrom0     12   G  Call(sample=SH08-001, CallData(GT=1, GQ=441453))   \n",
       "1    chrom0     13   T   Call(sample=SH09-29, CallData(GT=1, GQ=441453))   \n",
       "1    chrom0     13   T   Call(sample=SH10-30, CallData(GT=1, GQ=441453))   \n",
       "1    chrom0     13   T  Call(sample=SH14-001, CallData(GT=1, GQ=441453))   \n",
       "1    chrom0     13   T  Call(sample=SH14-010, CallData(GT=1, GQ=441453))   \n",
       "..      ...    ...  ..                                               ...   \n",
       "794  chrom0  10803   G  Call(sample=SH12-002, CallData(GT=1, GQ=441453))   \n",
       "794  chrom0  10803   G  Call(sample=SH12-007, CallData(GT=1, GQ=441453))   \n",
       "795  chrom0  10816   A  Call(sample=SH10-002, CallData(GT=1, GQ=441453))   \n",
       "796  chrom0  10821   A  Call(sample=SH12-011, CallData(GT=1, GQ=441453))   \n",
       "797  chrom0  10830   G  Call(sample=SH12-014, CallData(GT=1, GQ=441453))   \n",
       "\n",
       "       SAMPLE ALT                         ID  \n",
       "0    SH08-001   A     SH08-001:chrom0:12:G:A  \n",
       "1     SH09-29   A      SH09-29:chrom0:13:T:A  \n",
       "1     SH10-30   A      SH10-30:chrom0:13:T:A  \n",
       "1    SH14-001   A     SH14-001:chrom0:13:T:A  \n",
       "1    SH14-010   A     SH14-010:chrom0:13:T:A  \n",
       "..        ...  ..                        ...  \n",
       "794  SH12-002   A  SH12-002:chrom0:10803:G:A  \n",
       "794  SH12-007   A  SH12-007:chrom0:10803:G:A  \n",
       "795  SH10-002   T  SH10-002:chrom0:10816:A:T  \n",
       "796  SH12-011   G  SH12-011:chrom0:10821:A:G  \n",
       "797  SH12-014   A  SH12-014:chrom0:10830:G:A  \n",
       "\n",
       "[10109 rows x 7 columns]"
      ]
     },
     "execution_count": 6,
     "metadata": {},
     "output_type": "execute_result"
    }
   ],
   "source": [
    "simulated_df_exploded"
   ]
  },
  {
   "cell_type": "markdown",
   "id": "85d49181-9782-48b6-bdef-dfa2b19cd6b6",
   "metadata": {
    "papermill": {
     "duration": 0.010024,
     "end_time": "2021-09-02T05:44:22.322454",
     "exception": false,
     "start_time": "2021-09-02T05:44:22.312430",
     "status": "completed"
    },
    "tags": []
   },
   "source": [
    "## 1.2. Load reference genome for use with positive/negative calculations"
   ]
  },
  {
   "cell_type": "code",
   "execution_count": 7,
   "id": "bfaacd7f-746e-452a-9b4b-cb4526424b13",
   "metadata": {
    "execution": {
     "iopub.execute_input": "2021-09-02T05:44:22.347890Z",
     "iopub.status.busy": "2021-09-02T05:44:22.347484Z",
     "iopub.status.idle": "2021-09-02T05:44:22.417564Z",
     "shell.execute_reply": "2021-09-02T05:44:22.418307Z"
    },
    "papermill": {
     "duration": 0.087862,
     "end_time": "2021-09-02T05:44:22.418538",
     "exception": false,
     "start_time": "2021-09-02T05:44:22.330676",
     "status": "completed"
    },
    "tags": []
   },
   "outputs": [
    {
     "name": "stdout",
     "output_type": "stream",
     "text": [
      "Reference length: 10834\n",
      "Number samples: 59\n"
     ]
    }
   ],
   "source": [
    "import gzip\n",
    "from Bio import SeqIO\n",
    "\n",
    "with gzip.open(reference_file, mode='rt') as f:\n",
    "    sequences = list(SeqIO.parse(f, 'fasta'))\n",
    "    reference_length = len(sequences[0])\n",
    "    \n",
    "sample_names = set(simulated_df_exploded.groupby('SAMPLE').agg({'SAMPLE': 'count'}).index)\n",
    "sample_names = sample_names - {'reference'}\n",
    "number_samples = len(sample_names)\n",
    "\n",
    "print(f'Reference length: {reference_length}')\n",
    "print(f'Number samples: {number_samples}')"
   ]
  },
  {
   "cell_type": "markdown",
   "id": "31d39af6-8bcb-416b-ba4c-38c06fc6085e",
   "metadata": {
    "papermill": {
     "duration": 0.011206,
     "end_time": "2021-09-02T05:44:22.450907",
     "exception": false,
     "start_time": "2021-09-02T05:44:22.439701",
     "status": "completed"
    },
    "tags": []
   },
   "source": [
    "# 3. Load detected variants\n",
    "\n",
    "## 3.1. Load from reads index"
   ]
  },
  {
   "cell_type": "code",
   "execution_count": 8,
   "id": "89978058-5e1b-4c20-ba21-fc23daa74dcb",
   "metadata": {
    "execution": {
     "iopub.execute_input": "2021-09-02T05:44:22.478790Z",
     "iopub.status.busy": "2021-09-02T05:44:22.478391Z",
     "iopub.status.idle": "2021-09-02T05:44:26.083007Z",
     "shell.execute_reply": "2021-09-02T05:44:26.083926Z"
    },
    "papermill": {
     "duration": 3.624912,
     "end_time": "2021-09-02T05:44:26.084216",
     "exception": false,
     "start_time": "2021-09-02T05:44:22.459304",
     "status": "completed"
    },
    "tags": []
   },
   "outputs": [
    {
     "name": "stdout",
     "output_type": "stream",
     "text": [
      "There are 4122 actual sample/variant pairs (reads)\n",
      "Took 0.0 minutes\n",
      "Actual variants look like: ['SH13-007:chrom0:8562:C:A', 'SH14-011:chrom0:7807:C:T', 'SH14-010:chrom0:6973:ATGC:GTGA', 'SH12-006:chrom0:7237:T:C', 'SH12-007:chrom0:667:G:A']\n"
     ]
    }
   ],
   "source": [
    "from typing import Set\n",
    "import genomics_data_index.api as gdi\n",
    "\n",
    "def get_sample_variant_idenifiers(index_dir: Path) -> Set[str]:\n",
    "    db = gdi.GenomicsDataIndex.connect(index_dir)\n",
    "    q = db.samples_query()\n",
    "\n",
    "    actual_sample_variants = set()\n",
    "    for sample in q.tolist():\n",
    "        sample_features = q.isa(sample).features_summary().reset_index()\n",
    "        sample_features_set = set(sample_features['Mutation'].apply(lambda x: f\"{sample}:{x}\"))\n",
    "        actual_sample_variants.update(sample_features_set)\n",
    "    return actual_sample_variants\n",
    "\n",
    "before = time.time()\n",
    "actual_sample_variants_reads = get_sample_variant_idenifiers(index_reads_path)\n",
    "after = time.time()\n",
    "\n",
    "print(f'There are {len(actual_sample_variants_reads)} actual sample/variant pairs (reads)')\n",
    "print(f'Took {(after - before)/60:0.1f} minutes')\n",
    "print(f'Actual variants look like: {list(actual_sample_variants_reads)[0:5]}')"
   ]
  },
  {
   "cell_type": "markdown",
   "id": "4eb6bf76-40f0-449f-8cac-72679f484e8c",
   "metadata": {
    "papermill": {
     "duration": 0.010896,
     "end_time": "2021-09-02T05:44:26.117823",
     "exception": false,
     "start_time": "2021-09-02T05:44:26.106927",
     "status": "completed"
    },
    "tags": []
   },
   "source": [
    "## 2.2. Load from assemblies index"
   ]
  },
  {
   "cell_type": "code",
   "execution_count": 9,
   "id": "b91c4675-1b29-4a1c-b976-ba88a80d2c78",
   "metadata": {
    "execution": {
     "iopub.execute_input": "2021-09-02T05:44:26.143633Z",
     "iopub.status.busy": "2021-09-02T05:44:26.143202Z",
     "iopub.status.idle": "2021-09-02T05:44:28.166728Z",
     "shell.execute_reply": "2021-09-02T05:44:28.167640Z"
    },
    "papermill": {
     "duration": 2.041246,
     "end_time": "2021-09-02T05:44:28.167925",
     "exception": false,
     "start_time": "2021-09-02T05:44:26.126679",
     "status": "completed"
    },
    "tags": []
   },
   "outputs": [
    {
     "name": "stderr",
     "output_type": "stream",
     "text": [
      "Attempting to set global database_path_translator=<genomics_data_index.storage.model.db.DatabasePathTranslator.DatabasePathTranslator object at 0x7faff472ddf0> but it is already set\n"
     ]
    },
    {
     "name": "stdout",
     "output_type": "stream",
     "text": [
      "There are 10026 actual sample/variant pairs (assemblies)\n",
      "Took 0.0 minutes\n"
     ]
    }
   ],
   "source": [
    "before = time.time()\n",
    "actual_sample_variants_assemblies = get_sample_variant_idenifiers(index_assemblies_path)\n",
    "after = time.time()\n",
    "\n",
    "print(f'There are {len(actual_sample_variants_assemblies)} actual sample/variant pairs (assemblies)')\n",
    "print(f'Took {(after - before)/60:0.1f} minutes')"
   ]
  },
  {
   "cell_type": "markdown",
   "id": "52efd18a-5198-45cc-a092-4dfaba600ca1",
   "metadata": {
    "papermill": {
     "duration": 0.011355,
     "end_time": "2021-09-02T05:44:28.206592",
     "exception": false,
     "start_time": "2021-09-02T05:44:28.195237",
     "status": "completed"
    },
    "tags": []
   },
   "source": [
    "# 3. Compare expected/actual variants\n",
    "\n",
    "## 3.1. Compare with reads index"
   ]
  },
  {
   "cell_type": "code",
   "execution_count": 10,
   "id": "3897d419-cc74-49d0-92d6-371f365f3ff1",
   "metadata": {
    "execution": {
     "iopub.execute_input": "2021-09-02T05:44:28.258017Z",
     "iopub.status.busy": "2021-09-02T05:44:28.257169Z",
     "iopub.status.idle": "2021-09-02T05:44:28.261157Z",
     "shell.execute_reply": "2021-09-02T05:44:28.261892Z"
    },
    "papermill": {
     "duration": 0.046321,
     "end_time": "2021-09-02T05:44:28.262231",
     "exception": false,
     "start_time": "2021-09-02T05:44:28.215910",
     "status": "completed"
    },
    "tags": []
   },
   "outputs": [
    {
     "name": "stdout",
     "output_type": "stream",
     "text": [
      "Sensitivity: 0.3790\n",
      "Specificity: ~1 (not calculated)\n",
      "Precision: 0.9294\n",
      "F1 Score: 0.5384\n"
     ]
    },
    {
     "data": {
      "text/html": [
       "<div>\n",
       "<style scoped>\n",
       "    .dataframe tbody tr th:only-of-type {\n",
       "        vertical-align: middle;\n",
       "    }\n",
       "\n",
       "    .dataframe tbody tr th {\n",
       "        vertical-align: top;\n",
       "    }\n",
       "\n",
       "    .dataframe thead th {\n",
       "        text-align: right;\n",
       "    }\n",
       "</style>\n",
       "<table border=\"1\" class=\"dataframe\">\n",
       "  <thead>\n",
       "    <tr style=\"text-align: right;\">\n",
       "      <th></th>\n",
       "      <th>Name</th>\n",
       "      <th>True Positives</th>\n",
       "      <th>True Negatives</th>\n",
       "      <th>False Positives</th>\n",
       "      <th>False Negatives</th>\n",
       "      <th>Sensitivity</th>\n",
       "      <th>Specificity</th>\n",
       "      <th>Precision</th>\n",
       "      <th>F1 Score</th>\n",
       "    </tr>\n",
       "  </thead>\n",
       "  <tbody>\n",
       "    <tr>\n",
       "      <th>0</th>\n",
       "      <td>cov-10 reads</td>\n",
       "      <td>3831</td>\n",
       "      <td>&lt;NA&gt;</td>\n",
       "      <td>291</td>\n",
       "      <td>6278</td>\n",
       "      <td>0.378969</td>\n",
       "      <td>~1 (not calculated)</td>\n",
       "      <td>0.929403</td>\n",
       "      <td>0.538402</td>\n",
       "    </tr>\n",
       "  </tbody>\n",
       "</table>\n",
       "</div>"
      ],
      "text/plain": [
       "           Name  True Positives True Negatives  False Positives  \\\n",
       "0  cov-10 reads            3831           <NA>              291   \n",
       "\n",
       "   False Negatives  Sensitivity          Specificity  Precision  F1 Score  \n",
       "0             6278     0.378969  ~1 (not calculated)   0.929403  0.538402  "
      ]
     },
     "execution_count": 10,
     "metadata": {},
     "output_type": "execute_result"
    }
   ],
   "source": [
    "def compare_expected_actual(name: str, actual_sample_variants: Set[str]) -> pd.DataFrame:\n",
    "    number_expected = len(expected_sample_variants)\n",
    "    number_actual = len(actual_sample_variants)\n",
    "\n",
    "    true_positives = actual_sample_variants & expected_sample_variants\n",
    "    false_negatives = expected_sample_variants - actual_sample_variants\n",
    "    false_positives = actual_sample_variants - expected_sample_variants\n",
    "    # I cannot get true negatives since I would need to know the total number of negatives (i.e., all possible \n",
    "    #  variants with respect to the reference genome that were not simulated). This would be a finite, but \n",
    "    #  very very large number (and I haven't worked out how to calculate it).\n",
    "    # For example, one negative is Sample:1:A:T, another negative is Sample:1:AG:TT, and so on for the entire \n",
    "    # length of the genome.\n",
    "    # true_negatives = set()\n",
    "\n",
    "    sensitivity = len(true_positives) / (len(true_positives) + len(false_negatives))\n",
    "    precision = len(true_positives) / (len(true_positives) + len(false_positives))\n",
    "    f1_score = 2 * len(true_positives) / (2 * len(true_positives) + len(false_positives) + len(false_negatives))\n",
    "\n",
    "    # Since true_negatives are a very large number, then for all intents and purposes\n",
    "    # specificity will be very very close to 1. So instead of trying to calculate it\n",
    "    # I just call it ~1, but it's also not very useful because of this.\n",
    "    #specificity = len(true_negatives) / (len(true_negatives) + len(false_positives))\n",
    "    specificity = '~1 (not calculated)'\n",
    "\n",
    "    print(f'Sensitivity: {sensitivity:0.4f}')\n",
    "    print(f'Specificity: {specificity}')\n",
    "    print(f'Precision: {precision:0.4f}')\n",
    "    print(f'F1 Score: {f1_score:0.4f}')\n",
    "    \n",
    "    comparison_df = pd.DataFrame([{\n",
    "        'Name': name,\n",
    "        'True Positives': len(true_positives),\n",
    "        'True Negatives': pd.NA,\n",
    "        'False Positives': len(false_positives),\n",
    "        'False Negatives': len(false_negatives),\n",
    "        'Sensitivity': sensitivity,\n",
    "        'Specificity': specificity,\n",
    "        'Precision': precision,\n",
    "        'F1 Score': f1_score,\n",
    "    }])\n",
    "    \n",
    "    data = {\n",
    "        'tp': true_positives,\n",
    "        'fp': false_positives,\n",
    "        'fn': false_negatives\n",
    "    }\n",
    "    \n",
    "    return comparison_df, data\n",
    "    \n",
    "comparison_reads_df, data_reads = compare_expected_actual(name=f'{case_name} reads',\n",
    "                                                          actual_sample_variants=actual_sample_variants_reads)\n",
    "comparison_reads_df"
   ]
  },
  {
   "cell_type": "markdown",
   "id": "d5f3bf59-c828-40e1-9394-f0c40a73dfa6",
   "metadata": {
    "papermill": {
     "duration": 0.011149,
     "end_time": "2021-09-02T05:44:28.294016",
     "exception": false,
     "start_time": "2021-09-02T05:44:28.282867",
     "status": "completed"
    },
    "tags": []
   },
   "source": [
    "## 3.2. Compare with assemblies index"
   ]
  },
  {
   "cell_type": "code",
   "execution_count": 11,
   "id": "341de1ba-a120-471c-97f8-f85537dca10b",
   "metadata": {
    "execution": {
     "iopub.execute_input": "2021-09-02T05:44:28.337130Z",
     "iopub.status.busy": "2021-09-02T05:44:28.324072Z",
     "iopub.status.idle": "2021-09-02T05:44:28.341686Z",
     "shell.execute_reply": "2021-09-02T05:44:28.342330Z"
    },
    "papermill": {
     "duration": 0.03843,
     "end_time": "2021-09-02T05:44:28.342563",
     "exception": false,
     "start_time": "2021-09-02T05:44:28.304133",
     "status": "completed"
    },
    "tags": []
   },
   "outputs": [
    {
     "name": "stdout",
     "output_type": "stream",
     "text": [
      "Sensitivity: 0.9918\n",
      "Specificity: ~1 (not calculated)\n",
      "Precision: 1.0000\n",
      "F1 Score: 0.9959\n"
     ]
    },
    {
     "data": {
      "text/html": [
       "<div>\n",
       "<style scoped>\n",
       "    .dataframe tbody tr th:only-of-type {\n",
       "        vertical-align: middle;\n",
       "    }\n",
       "\n",
       "    .dataframe tbody tr th {\n",
       "        vertical-align: top;\n",
       "    }\n",
       "\n",
       "    .dataframe thead th {\n",
       "        text-align: right;\n",
       "    }\n",
       "</style>\n",
       "<table border=\"1\" class=\"dataframe\">\n",
       "  <thead>\n",
       "    <tr style=\"text-align: right;\">\n",
       "      <th></th>\n",
       "      <th>Name</th>\n",
       "      <th>True Positives</th>\n",
       "      <th>True Negatives</th>\n",
       "      <th>False Positives</th>\n",
       "      <th>False Negatives</th>\n",
       "      <th>Sensitivity</th>\n",
       "      <th>Specificity</th>\n",
       "      <th>Precision</th>\n",
       "      <th>F1 Score</th>\n",
       "    </tr>\n",
       "  </thead>\n",
       "  <tbody>\n",
       "    <tr>\n",
       "      <th>0</th>\n",
       "      <td>cov-10 assemblies</td>\n",
       "      <td>10026</td>\n",
       "      <td>&lt;NA&gt;</td>\n",
       "      <td>0</td>\n",
       "      <td>83</td>\n",
       "      <td>0.991789</td>\n",
       "      <td>~1 (not calculated)</td>\n",
       "      <td>1.0</td>\n",
       "      <td>0.995878</td>\n",
       "    </tr>\n",
       "  </tbody>\n",
       "</table>\n",
       "</div>"
      ],
      "text/plain": [
       "                Name  True Positives True Negatives  False Positives  \\\n",
       "0  cov-10 assemblies           10026           <NA>                0   \n",
       "\n",
       "   False Negatives  Sensitivity          Specificity  Precision  F1 Score  \n",
       "0               83     0.991789  ~1 (not calculated)        1.0  0.995878  "
      ]
     },
     "execution_count": 11,
     "metadata": {},
     "output_type": "execute_result"
    }
   ],
   "source": [
    "comparison_assemblies_df, data_assemblies = compare_expected_actual(name=f'{case_name} assemblies',\n",
    "                                                                    actual_sample_variants=actual_sample_variants_assemblies)\n",
    "comparison_assemblies_df"
   ]
  },
  {
   "cell_type": "markdown",
   "id": "13ddcf68-f5d4-494f-8a13-e9325390b953",
   "metadata": {
    "papermill": {
     "duration": 0.010801,
     "end_time": "2021-09-02T05:44:28.373353",
     "exception": false,
     "start_time": "2021-09-02T05:44:28.362552",
     "status": "completed"
    },
    "tags": []
   },
   "source": [
    "## 3.3. Combine results"
   ]
  },
  {
   "cell_type": "code",
   "execution_count": 12,
   "id": "17df418e-5244-4000-b9f9-2f35f8ce998f",
   "metadata": {
    "execution": {
     "iopub.execute_input": "2021-09-02T05:44:28.414789Z",
     "iopub.status.busy": "2021-09-02T05:44:28.414076Z",
     "iopub.status.idle": "2021-09-02T05:44:28.417622Z",
     "shell.execute_reply": "2021-09-02T05:44:28.416918Z"
    },
    "papermill": {
     "duration": 0.034462,
     "end_time": "2021-09-02T05:44:28.417762",
     "exception": false,
     "start_time": "2021-09-02T05:44:28.383300",
     "status": "completed"
    },
    "tags": []
   },
   "outputs": [
    {
     "data": {
      "text/html": [
       "<div>\n",
       "<style scoped>\n",
       "    .dataframe tbody tr th:only-of-type {\n",
       "        vertical-align: middle;\n",
       "    }\n",
       "\n",
       "    .dataframe tbody tr th {\n",
       "        vertical-align: top;\n",
       "    }\n",
       "\n",
       "    .dataframe thead th {\n",
       "        text-align: right;\n",
       "    }\n",
       "</style>\n",
       "<table border=\"1\" class=\"dataframe\">\n",
       "  <thead>\n",
       "    <tr style=\"text-align: right;\">\n",
       "      <th></th>\n",
       "      <th>Name</th>\n",
       "      <th>True Positives</th>\n",
       "      <th>True Negatives</th>\n",
       "      <th>False Positives</th>\n",
       "      <th>False Negatives</th>\n",
       "      <th>Sensitivity</th>\n",
       "      <th>Specificity</th>\n",
       "      <th>Precision</th>\n",
       "      <th>F1 Score</th>\n",
       "    </tr>\n",
       "  </thead>\n",
       "  <tbody>\n",
       "    <tr>\n",
       "      <th>0</th>\n",
       "      <td>cov-10 reads</td>\n",
       "      <td>3831</td>\n",
       "      <td>&lt;NA&gt;</td>\n",
       "      <td>291</td>\n",
       "      <td>6278</td>\n",
       "      <td>0.378969</td>\n",
       "      <td>~1 (not calculated)</td>\n",
       "      <td>0.929403</td>\n",
       "      <td>0.538402</td>\n",
       "    </tr>\n",
       "    <tr>\n",
       "      <th>0</th>\n",
       "      <td>cov-10 assemblies</td>\n",
       "      <td>10026</td>\n",
       "      <td>&lt;NA&gt;</td>\n",
       "      <td>0</td>\n",
       "      <td>83</td>\n",
       "      <td>0.991789</td>\n",
       "      <td>~1 (not calculated)</td>\n",
       "      <td>1.000000</td>\n",
       "      <td>0.995878</td>\n",
       "    </tr>\n",
       "  </tbody>\n",
       "</table>\n",
       "</div>"
      ],
      "text/plain": [
       "                Name  True Positives True Negatives  False Positives  \\\n",
       "0       cov-10 reads            3831           <NA>              291   \n",
       "0  cov-10 assemblies           10026           <NA>                0   \n",
       "\n",
       "   False Negatives  Sensitivity          Specificity  Precision  F1 Score  \n",
       "0             6278     0.378969  ~1 (not calculated)   0.929403  0.538402  \n",
       "0               83     0.991789  ~1 (not calculated)   1.000000  0.995878  "
      ]
     },
     "execution_count": 12,
     "metadata": {},
     "output_type": "execute_result"
    }
   ],
   "source": [
    "results_df = pd.concat([comparison_reads_df, comparison_assemblies_df])\n",
    "results_df"
   ]
  },
  {
   "cell_type": "code",
   "execution_count": 13,
   "id": "20211251-04f9-4a94-ae10-473c6d52aaf2",
   "metadata": {
    "execution": {
     "iopub.execute_input": "2021-09-02T05:44:28.452294Z",
     "iopub.status.busy": "2021-09-02T05:44:28.451889Z",
     "iopub.status.idle": "2021-09-02T05:44:28.460860Z",
     "shell.execute_reply": "2021-09-02T05:44:28.460402Z"
    },
    "papermill": {
     "duration": 0.025891,
     "end_time": "2021-09-02T05:44:28.460955",
     "exception": false,
     "start_time": "2021-09-02T05:44:28.435064",
     "status": "completed"
    },
    "tags": []
   },
   "outputs": [],
   "source": [
    "results_df_output = simulation_dir_path / 'variants-comparison.tsv'\n",
    "results_df.to_csv(results_df_output, sep='\\t', index=False)"
   ]
  }
 ],
 "metadata": {
  "kernelspec": {
   "display_name": "Python 3 (ipykernel)",
   "language": "python",
   "name": "python3"
  },
  "language_info": {
   "codemirror_mode": {
    "name": "ipython",
    "version": 3
   },
   "file_extension": ".py",
   "mimetype": "text/x-python",
   "name": "python",
   "nbconvert_exporter": "python",
   "pygments_lexer": "ipython3",
   "version": "3.8.10"
  },
  "papermill": {
   "default_parameters": {},
   "duration": 8.652058,
   "end_time": "2021-09-02T05:44:28.988534",
   "environment_variables": {},
   "exception": null,
   "input_path": "template-4-variants-comparison.ipynb",
   "output_path": "4-variants-comparison.simulation-cov-10.ipynb",
   "parameters": {
    "iterations": 3,
    "mincov": 10,
    "read_coverage": 10,
    "simulation_dir": "simulations/cov-10"
   },
   "start_time": "2021-09-02T05:44:20.336476",
   "version": "2.3.3"
  }
 },
 "nbformat": 4,
 "nbformat_minor": 5
}