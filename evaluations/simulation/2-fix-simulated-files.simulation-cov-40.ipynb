{
 "cells": [
  {
   "cell_type": "markdown",
   "id": "acfa5482-d626-44d6-b613-863e6911fa98",
   "metadata": {
    "papermill": {
     "duration": 0.014283,
     "end_time": "2021-08-31T23:58:00.173191",
     "exception": false,
     "start_time": "2021-08-31T23:58:00.158908",
     "status": "completed"
    },
    "tags": []
   },
   "source": [
    "# 1. Parameters"
   ]
  },
  {
   "cell_type": "code",
   "execution_count": 1,
   "id": "36126d74-a9d8-4431-ba49-767c1fc2ec49",
   "metadata": {
    "execution": {
     "iopub.execute_input": "2021-08-31T23:58:00.201137Z",
     "iopub.status.busy": "2021-08-31T23:58:00.200632Z",
     "iopub.status.idle": "2021-08-31T23:58:00.206278Z",
     "shell.execute_reply": "2021-08-31T23:58:00.205666Z"
    },
    "papermill": {
     "duration": 0.024642,
     "end_time": "2021-08-31T23:58:00.206438",
     "exception": false,
     "start_time": "2021-08-31T23:58:00.181796",
     "status": "completed"
    },
    "tags": [
     "parameters"
    ]
   },
   "outputs": [],
   "source": [
    "# Defaults\n",
    "simulation_dir = 'simulations/unset'\n",
    "ncores = 48"
   ]
  },
  {
   "cell_type": "code",
   "execution_count": 2,
   "id": "f4711020",
   "metadata": {
    "execution": {
     "iopub.execute_input": "2021-08-31T23:58:00.226629Z",
     "iopub.status.busy": "2021-08-31T23:58:00.226149Z",
     "iopub.status.idle": "2021-08-31T23:58:00.228947Z",
     "shell.execute_reply": "2021-08-31T23:58:00.229317Z"
    },
    "papermill": {
     "duration": 0.015672,
     "end_time": "2021-08-31T23:58:00.229435",
     "exception": false,
     "start_time": "2021-08-31T23:58:00.213763",
     "status": "completed"
    },
    "tags": [
     "injected-parameters"
    ]
   },
   "outputs": [],
   "source": [
    "# Parameters\n",
    "read_coverage = 40\n",
    "mincov = 10\n",
    "simulation_dir = \"simulations/cov-40\"\n",
    "iterations = 3\n"
   ]
  },
  {
   "cell_type": "code",
   "execution_count": 3,
   "id": "15e911d7-0ffc-4110-aefe-71bc77e689cd",
   "metadata": {
    "execution": {
     "iopub.execute_input": "2021-08-31T23:58:00.248421Z",
     "iopub.status.busy": "2021-08-31T23:58:00.247976Z",
     "iopub.status.idle": "2021-08-31T23:58:00.250899Z",
     "shell.execute_reply": "2021-08-31T23:58:00.251228Z"
    },
    "papermill": {
     "duration": 0.016603,
     "end_time": "2021-08-31T23:58:00.251343",
     "exception": false,
     "start_time": "2021-08-31T23:58:00.234740",
     "status": "completed"
    },
    "tags": []
   },
   "outputs": [],
   "source": [
    "from pathlib import Path\n",
    "import os\n",
    "\n",
    "simulation_data_dir = Path(simulation_dir) / 'simulated_data'\n",
    "initial_reads_dir = simulation_data_dir / 'reads_initial'\n",
    "reads_dir = simulation_data_dir / 'reads'\n",
    "assemblies_dir = simulation_data_dir / 'assemblies'\n",
    "\n",
    "if not reads_dir.exists():\n",
    "    os.mkdir(reads_dir)"
   ]
  },
  {
   "cell_type": "markdown",
   "id": "rotary-regard",
   "metadata": {
    "papermill": {
     "duration": 0.006395,
     "end_time": "2021-08-31T23:58:00.263634",
     "exception": false,
     "start_time": "2021-08-31T23:58:00.257239",
     "status": "completed"
    },
    "tags": []
   },
   "source": [
    "# 2. Fix reads\n",
    "\n",
    "Fix read file names and data so they can be indexed."
   ]
  },
  {
   "cell_type": "code",
   "execution_count": 4,
   "id": "convenient-blackberry",
   "metadata": {
    "execution": {
     "iopub.execute_input": "2021-08-31T23:58:00.285055Z",
     "iopub.status.busy": "2021-08-31T23:58:00.279276Z",
     "iopub.status.idle": "2021-08-31T23:58:00.458162Z",
     "shell.execute_reply": "2021-08-31T23:58:00.459013Z"
    },
    "papermill": {
     "duration": 0.191143,
     "end_time": "2021-08-31T23:58:00.459317",
     "exception": false,
     "start_time": "2021-08-31T23:58:00.268174",
     "status": "completed"
    },
    "tags": []
   },
   "outputs": [
    {
     "name": "stdout",
     "output_type": "stream",
     "text": [
      "~/workspace/genomics-data-index-evaluation/evaluations/simulation/simulations/cov-40/simulated_data/reads_initial ~/workspace/genomics-data-index-evaluation/evaluations/simulation\r\n"
     ]
    },
    {
     "name": "stdout",
     "output_type": "stream",
     "text": [
      "~/workspace/genomics-data-index-evaluation/evaluations/simulation\r\n"
     ]
    }
   ],
   "source": [
    "import os\n",
    "\n",
    "# Fix warning about locale unset\n",
    "os.environ['LANG'] = 'en_US.UTF-8'\n",
    "\n",
    "!pushd {initial_reads_dir}; prename 's/data_//' *.fq.gz; popd"
   ]
  },
  {
   "cell_type": "markdown",
   "id": "median-belle",
   "metadata": {
    "papermill": {
     "duration": 0.00891,
     "end_time": "2021-08-31T23:58:00.482894",
     "exception": false,
     "start_time": "2021-08-31T23:58:00.473984",
     "status": "completed"
    },
    "tags": []
   },
   "source": [
    "Jackalope produces reads with non-standard identifiers where pairs of reads don't have matching identifiers. For example:\n",
    "\n",
    "* Pair 1: `@SH08-001-NC_011083-3048632-R/1`\n",
    "* Pair 2: `@SH08-001-NC_011083-3048396-F/2`\n",
    "\n",
    "In order to run snippy, these paired identifiers need to match (except for the `/1` and `/2` suffix).\n",
    "\n",
    "So, I have to replace them all with something unique, but which matches in each pair of files. I do this by replacing the position (I think) with the read number (as it appears in the file). So the above identifiers become:\n",
    "\n",
    "* Pair 1: `@SH08-001-NC_011083-1/1`\n",
    "* Pair 2: `@SH08-001-NC_011083-1/2`"
   ]
  },
  {
   "cell_type": "code",
   "execution_count": 5,
   "id": "remarkable-berry",
   "metadata": {
    "execution": {
     "iopub.execute_input": "2021-08-31T23:58:00.504757Z",
     "iopub.status.busy": "2021-08-31T23:58:00.504333Z",
     "iopub.status.idle": "2021-08-31T23:59:42.030613Z",
     "shell.execute_reply": "2021-08-31T23:59:42.031620Z"
    },
    "papermill": {
     "duration": 101.542523,
     "end_time": "2021-08-31T23:59:42.031939",
     "exception": false,
     "start_time": "2021-08-31T23:58:00.489416",
     "status": "completed"
    },
    "tags": []
   },
   "outputs": [],
   "source": [
    "import glob\n",
    "import os\n",
    "\n",
    "files = [os.path.basename(f) for f in glob.glob(f'{initial_reads_dir}/*.fq.gz')]\n",
    "!parallel -j {ncores} -I% 'gzip -d --stdout {initial_reads_dir}/% | perl scripts/replace-fastq-header.pl | gzip > {reads_dir}/%' \\\n",
    "    ::: {' '.join(files)}"
   ]
  },
  {
   "cell_type": "code",
   "execution_count": 6,
   "id": "8318e7a8-1057-4e4f-aaec-fccdec42a75f",
   "metadata": {
    "execution": {
     "iopub.execute_input": "2021-08-31T23:59:42.118139Z",
     "iopub.status.busy": "2021-08-31T23:59:42.116966Z",
     "iopub.status.idle": "2021-08-31T23:59:43.473840Z",
     "shell.execute_reply": "2021-08-31T23:59:43.474208Z"
    },
    "papermill": {
     "duration": 1.427881,
     "end_time": "2021-08-31T23:59:43.474368",
     "exception": false,
     "start_time": "2021-08-31T23:59:42.046487",
     "status": "completed"
    },
    "tags": []
   },
   "outputs": [],
   "source": [
    "import shutil\n",
    "\n",
    "shutil.rmtree(initial_reads_dir)"
   ]
  },
  {
   "cell_type": "markdown",
   "id": "cf630b4f-ed63-4e14-9657-e0aaea0953ab",
   "metadata": {
    "papermill": {
     "duration": 0.059651,
     "end_time": "2021-08-31T23:59:43.539511",
     "exception": false,
     "start_time": "2021-08-31T23:59:43.479860",
     "status": "completed"
    },
    "tags": []
   },
   "source": [
    "# 3. Fix assemblies\n",
    "\n",
    "Fix assembly genome names"
   ]
  },
  {
   "cell_type": "code",
   "execution_count": 7,
   "id": "08fac610-3ab3-4afa-9873-406973041963",
   "metadata": {
    "execution": {
     "iopub.execute_input": "2021-08-31T23:59:43.643145Z",
     "iopub.status.busy": "2021-08-31T23:59:43.638418Z",
     "iopub.status.idle": "2021-08-31T23:59:43.814065Z",
     "shell.execute_reply": "2021-08-31T23:59:43.813065Z"
    },
    "papermill": {
     "duration": 0.21472,
     "end_time": "2021-08-31T23:59:43.814308",
     "exception": false,
     "start_time": "2021-08-31T23:59:43.599588",
     "status": "completed"
    },
    "tags": []
   },
   "outputs": [
    {
     "name": "stdout",
     "output_type": "stream",
     "text": [
      "~/workspace/genomics-data-index-evaluation/evaluations/simulation/simulations/cov-40/simulated_data/assemblies ~/workspace/genomics-data-index-evaluation/evaluations/simulation\r\n"
     ]
    },
    {
     "name": "stdout",
     "output_type": "stream",
     "text": [
      "~/workspace/genomics-data-index-evaluation/evaluations/simulation\r\n"
     ]
    }
   ],
   "source": [
    "!pushd {assemblies_dir}; prename 's/data__//' *.fa.gz; popd"
   ]
  }
 ],
 "metadata": {
  "kernelspec": {
   "display_name": "Python 3 (ipykernel)",
   "language": "python",
   "name": "python3"
  },
  "language_info": {
   "codemirror_mode": {
    "name": "ipython",
    "version": 3
   },
   "file_extension": ".py",
   "mimetype": "text/x-python",
   "name": "python",
   "nbconvert_exporter": "python",
   "pygments_lexer": "ipython3",
   "version": "3.8.10"
  },
  "papermill": {
   "default_parameters": {},
   "duration": 104.861461,
   "end_time": "2021-08-31T23:59:44.039553",
   "environment_variables": {},
   "exception": null,
   "input_path": "template-2-fix-simulated-files.ipynb",
   "output_path": "2-fix-simulated-files.simulation-cov-40.ipynb",
   "parameters": {
    "iterations": 3,
    "mincov": 10,
    "read_coverage": 40,
    "simulation_dir": "simulations/cov-40"
   },
   "start_time": "2021-08-31T23:57:59.178092",
   "version": "2.3.3"
  }
 },
 "nbformat": 4,
 "nbformat_minor": 5
}