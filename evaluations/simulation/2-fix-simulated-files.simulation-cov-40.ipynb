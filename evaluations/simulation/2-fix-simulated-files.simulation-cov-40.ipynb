{
 "cells": [
  {
   "cell_type": "markdown",
   "id": "acfa5482-d626-44d6-b613-863e6911fa98",
   "metadata": {
    "papermill": {
     "duration": 0.013759,
     "end_time": "2021-09-02T03:03:22.739070",
     "exception": false,
     "start_time": "2021-09-02T03:03:22.725311",
     "status": "completed"
    },
    "tags": []
   },
   "source": [
    "# 1. Parameters"
   ]
  },
  {
   "cell_type": "code",
   "execution_count": 1,
   "id": "36126d74-a9d8-4431-ba49-767c1fc2ec49",
   "metadata": {
    "execution": {
     "iopub.execute_input": "2021-09-02T03:03:22.768876Z",
     "iopub.status.busy": "2021-09-02T03:03:22.768259Z",
     "iopub.status.idle": "2021-09-02T03:03:22.773249Z",
     "shell.execute_reply": "2021-09-02T03:03:22.773863Z"
    },
    "papermill": {
     "duration": 0.025999,
     "end_time": "2021-09-02T03:03:22.774185",
     "exception": false,
     "start_time": "2021-09-02T03:03:22.748186",
     "status": "completed"
    },
    "tags": [
     "parameters"
    ]
   },
   "outputs": [],
   "source": [
    "# Defaults\n",
    "simulation_dir = 'simulations/unset'\n",
    "ncores = 48"
   ]
  },
  {
   "cell_type": "code",
   "execution_count": 2,
   "id": "d2fc1aee",
   "metadata": {
    "execution": {
     "iopub.execute_input": "2021-09-02T03:03:22.795248Z",
     "iopub.status.busy": "2021-09-02T03:03:22.794773Z",
     "iopub.status.idle": "2021-09-02T03:03:22.797555Z",
     "shell.execute_reply": "2021-09-02T03:03:22.797905Z"
    },
    "papermill": {
     "duration": 0.014803,
     "end_time": "2021-09-02T03:03:22.798029",
     "exception": false,
     "start_time": "2021-09-02T03:03:22.783226",
     "status": "completed"
    },
    "tags": [
     "injected-parameters"
    ]
   },
   "outputs": [],
   "source": [
    "# Parameters\n",
    "read_coverage = 40\n",
    "mincov = 10\n",
    "simulation_dir = \"simulations/cov-40\"\n",
    "iterations = 3\n"
   ]
  },
  {
   "cell_type": "code",
   "execution_count": 3,
   "id": "15e911d7-0ffc-4110-aefe-71bc77e689cd",
   "metadata": {
    "execution": {
     "iopub.execute_input": "2021-09-02T03:03:22.822325Z",
     "iopub.status.busy": "2021-09-02T03:03:22.816053Z",
     "iopub.status.idle": "2021-09-02T03:03:22.825115Z",
     "shell.execute_reply": "2021-09-02T03:03:22.825718Z"
    },
    "papermill": {
     "duration": 0.022799,
     "end_time": "2021-09-02T03:03:22.825912",
     "exception": false,
     "start_time": "2021-09-02T03:03:22.803113",
     "status": "completed"
    },
    "tags": []
   },
   "outputs": [],
   "source": [
    "from pathlib import Path\n",
    "import os\n",
    "\n",
    "simulation_data_dir = Path(simulation_dir) / 'simulated_data'\n",
    "initial_reads_dir = simulation_data_dir / 'reads_initial'\n",
    "reads_dir = simulation_data_dir / 'reads'\n",
    "assemblies_dir = simulation_data_dir / 'assemblies'\n",
    "\n",
    "if not reads_dir.exists():\n",
    "    os.mkdir(reads_dir)"
   ]
  },
  {
   "cell_type": "markdown",
   "id": "rotary-regard",
   "metadata": {
    "papermill": {
     "duration": 0.007144,
     "end_time": "2021-09-02T03:03:22.841405",
     "exception": false,
     "start_time": "2021-09-02T03:03:22.834261",
     "status": "completed"
    },
    "tags": []
   },
   "source": [
    "# 2. Fix reads\n",
    "\n",
    "Fix read file names and data so they can be indexed."
   ]
  },
  {
   "cell_type": "code",
   "execution_count": 4,
   "id": "convenient-blackberry",
   "metadata": {
    "execution": {
     "iopub.execute_input": "2021-09-02T03:03:22.864914Z",
     "iopub.status.busy": "2021-09-02T03:03:22.858984Z",
     "iopub.status.idle": "2021-09-02T03:03:23.041416Z",
     "shell.execute_reply": "2021-09-02T03:03:23.042241Z"
    },
    "papermill": {
     "duration": 0.195773,
     "end_time": "2021-09-02T03:03:23.042533",
     "exception": false,
     "start_time": "2021-09-02T03:03:22.846760",
     "status": "completed"
    },
    "tags": []
   },
   "outputs": [
    {
     "name": "stdout",
     "output_type": "stream",
     "text": [
      "~/workspace/genomics-data-index-evaluation/evaluations/simulation/simulations/cov-40/simulated_data/reads_initial ~/workspace/genomics-data-index-evaluation/evaluations/simulation\r\n"
     ]
    },
    {
     "name": "stdout",
     "output_type": "stream",
     "text": [
      "~/workspace/genomics-data-index-evaluation/evaluations/simulation\r\n"
     ]
    }
   ],
   "source": [
    "import os\n",
    "\n",
    "# Fix warning about locale unset\n",
    "os.environ['LANG'] = 'en_US.UTF-8'\n",
    "\n",
    "!pushd {initial_reads_dir}; prename 's/data_//' *.fq.gz; popd"
   ]
  },
  {
   "cell_type": "markdown",
   "id": "median-belle",
   "metadata": {
    "papermill": {
     "duration": 0.008758,
     "end_time": "2021-09-02T03:03:23.065035",
     "exception": false,
     "start_time": "2021-09-02T03:03:23.056277",
     "status": "completed"
    },
    "tags": []
   },
   "source": [
    "Jackalope produces reads with non-standard identifiers where pairs of reads don't have matching identifiers. For example:\n",
    "\n",
    "* Pair 1: `@SH08-001-NC_011083-3048632-R/1`\n",
    "* Pair 2: `@SH08-001-NC_011083-3048396-F/2`\n",
    "\n",
    "In order to run snippy, these paired identifiers need to match (except for the `/1` and `/2` suffix).\n",
    "\n",
    "So, I have to replace them all with something unique, but which matches in each pair of files. I do this by replacing the position (I think) with the read number (as it appears in the file). So the above identifiers become:\n",
    "\n",
    "* Pair 1: `@SH08-001-NC_011083-1/1`\n",
    "* Pair 2: `@SH08-001-NC_011083-1/2`"
   ]
  },
  {
   "cell_type": "code",
   "execution_count": 5,
   "id": "remarkable-berry",
   "metadata": {
    "execution": {
     "iopub.execute_input": "2021-09-02T03:03:23.086840Z",
     "iopub.status.busy": "2021-09-02T03:03:23.085723Z",
     "iopub.status.idle": "2021-09-02T03:03:24.132424Z",
     "shell.execute_reply": "2021-09-02T03:03:24.131365Z"
    },
    "papermill": {
     "duration": 1.061708,
     "end_time": "2021-09-02T03:03:24.132677",
     "exception": false,
     "start_time": "2021-09-02T03:03:23.070969",
     "status": "completed"
    },
    "tags": []
   },
   "outputs": [],
   "source": [
    "import glob\n",
    "import os\n",
    "\n",
    "files = [os.path.basename(f) for f in glob.glob(f'{initial_reads_dir}/*.fq.gz')]\n",
    "!parallel -j {ncores} -I% 'gzip -d --stdout {initial_reads_dir}/% | perl scripts/replace-fastq-header.pl | gzip > {reads_dir}/%' \\\n",
    "    ::: {' '.join(files)}"
   ]
  },
  {
   "cell_type": "code",
   "execution_count": 6,
   "id": "8318e7a8-1057-4e4f-aaec-fccdec42a75f",
   "metadata": {
    "execution": {
     "iopub.execute_input": "2021-09-02T03:03:24.162143Z",
     "iopub.status.busy": "2021-09-02T03:03:24.161660Z",
     "iopub.status.idle": "2021-09-02T03:03:24.176900Z",
     "shell.execute_reply": "2021-09-02T03:03:24.177736Z"
    },
    "papermill": {
     "duration": 0.03161,
     "end_time": "2021-09-02T03:03:24.178016",
     "exception": false,
     "start_time": "2021-09-02T03:03:24.146406",
     "status": "completed"
    },
    "tags": []
   },
   "outputs": [],
   "source": [
    "import shutil\n",
    "\n",
    "shutil.rmtree(initial_reads_dir)"
   ]
  },
  {
   "cell_type": "markdown",
   "id": "cf630b4f-ed63-4e14-9657-e0aaea0953ab",
   "metadata": {
    "papermill": {
     "duration": 0.009269,
     "end_time": "2021-09-02T03:03:24.200341",
     "exception": false,
     "start_time": "2021-09-02T03:03:24.191072",
     "status": "completed"
    },
    "tags": []
   },
   "source": [
    "# 3. Fix assemblies\n",
    "\n",
    "Fix assembly genome names"
   ]
  },
  {
   "cell_type": "code",
   "execution_count": 7,
   "id": "08fac610-3ab3-4afa-9873-406973041963",
   "metadata": {
    "execution": {
     "iopub.execute_input": "2021-09-02T03:03:24.223576Z",
     "iopub.status.busy": "2021-09-02T03:03:24.219941Z",
     "iopub.status.idle": "2021-09-02T03:03:24.394167Z",
     "shell.execute_reply": "2021-09-02T03:03:24.395016Z"
    },
    "papermill": {
     "duration": 0.187948,
     "end_time": "2021-09-02T03:03:24.395303",
     "exception": false,
     "start_time": "2021-09-02T03:03:24.207355",
     "status": "completed"
    },
    "tags": []
   },
   "outputs": [
    {
     "name": "stdout",
     "output_type": "stream",
     "text": [
      "~/workspace/genomics-data-index-evaluation/evaluations/simulation/simulations/cov-40/simulated_data/assemblies ~/workspace/genomics-data-index-evaluation/evaluations/simulation\r\n"
     ]
    },
    {
     "name": "stdout",
     "output_type": "stream",
     "text": [
      "~/workspace/genomics-data-index-evaluation/evaluations/simulation\r\n"
     ]
    }
   ],
   "source": [
    "!pushd {assemblies_dir}; prename 's/data__//' *.fa.gz; popd"
   ]
  }
 ],
 "metadata": {
  "kernelspec": {
   "display_name": "Python 3 (ipykernel)",
   "language": "python",
   "name": "python3"
  },
  "language_info": {
   "codemirror_mode": {
    "name": "ipython",
    "version": 3
   },
   "file_extension": ".py",
   "mimetype": "text/x-python",
   "name": "python",
   "nbconvert_exporter": "python",
   "pygments_lexer": "ipython3",
   "version": "3.8.10"
  },
  "papermill": {
   "default_parameters": {},
   "duration": 2.752813,
   "end_time": "2021-09-02T03:03:24.519733",
   "environment_variables": {},
   "exception": null,
   "input_path": "template-2-fix-simulated-files.ipynb",
   "output_path": "2-fix-simulated-files.simulation-cov-40.ipynb",
   "parameters": {
    "iterations": 3,
    "mincov": 10,
    "read_coverage": 40,
    "simulation_dir": "simulations/cov-40"
   },
   "start_time": "2021-09-02T03:03:21.766920",
   "version": "2.3.3"
  }
 },
 "nbformat": 4,
 "nbformat_minor": 5
}