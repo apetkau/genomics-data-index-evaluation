{
 "cells": [
  {
   "cell_type": "markdown",
   "id": "2f66aa00-6c01-46a5-8f31-0e579da614b2",
   "metadata": {
    "papermill": {
     "duration": 0.021628,
     "end_time": "2021-09-12T00:09:18.232256",
     "exception": false,
     "start_time": "2021-09-12T00:09:18.210628",
     "status": "completed"
    },
    "tags": []
   },
   "source": [
    "# 1. Parameters"
   ]
  },
  {
   "cell_type": "code",
   "execution_count": 1,
   "id": "f2cfe9b4-3c45-4e2e-9ba2-17f4119f5f6d",
   "metadata": {
    "execution": {
     "iopub.execute_input": "2021-09-12T00:09:18.265342Z",
     "iopub.status.busy": "2021-09-12T00:09:18.264956Z",
     "iopub.status.idle": "2021-09-12T00:09:18.270123Z",
     "shell.execute_reply": "2021-09-12T00:09:18.270494Z"
    },
    "papermill": {
     "duration": 0.027191,
     "end_time": "2021-09-12T00:09:18.270693",
     "exception": false,
     "start_time": "2021-09-12T00:09:18.243502",
     "status": "completed"
    },
    "tags": [
     "parameters"
    ]
   },
   "outputs": [],
   "source": [
    "# Defaults\n",
    "\n",
    "simulation_dir = 'simulations/unset'\n",
    "reference_file = 'simulations/reference/reference.fa.gz'"
   ]
  },
  {
   "cell_type": "code",
   "execution_count": 2,
   "id": "afda6574",
   "metadata": {
    "execution": {
     "iopub.execute_input": "2021-09-12T00:09:18.295978Z",
     "iopub.status.busy": "2021-09-12T00:09:18.295523Z",
     "iopub.status.idle": "2021-09-12T00:09:18.298980Z",
     "shell.execute_reply": "2021-09-12T00:09:18.298601Z"
    },
    "papermill": {
     "duration": 0.018081,
     "end_time": "2021-09-12T00:09:18.299083",
     "exception": false,
     "start_time": "2021-09-12T00:09:18.281002",
     "status": "completed"
    },
    "tags": [
     "injected-parameters"
    ]
   },
   "outputs": [],
   "source": [
    "# Parameters\n",
    "read_coverage = 30\n",
    "mincov = 10\n",
    "simulation_dir = \"simulations/alpha-5.0-cov-30\"\n",
    "iterations = 3\n",
    "sub_alpha = 5.0\n"
   ]
  },
  {
   "cell_type": "code",
   "execution_count": 3,
   "id": "9ddaa924-b1ac-4740-8070-0eaa05b80e96",
   "metadata": {
    "execution": {
     "iopub.execute_input": "2021-09-12T00:09:18.323400Z",
     "iopub.status.busy": "2021-09-12T00:09:18.323006Z",
     "iopub.status.idle": "2021-09-12T00:09:18.325801Z",
     "shell.execute_reply": "2021-09-12T00:09:18.326143Z"
    },
    "papermill": {
     "duration": 0.018284,
     "end_time": "2021-09-12T00:09:18.326273",
     "exception": false,
     "start_time": "2021-09-12T00:09:18.307989",
     "status": "completed"
    },
    "tags": []
   },
   "outputs": [],
   "source": [
    "from pathlib import Path\n",
    "\n",
    "simulation_dir_path = Path(simulation_dir)\n",
    "\n",
    "case_name = str(simulation_dir_path.name)\n",
    "\n",
    "simulation_data_path = simulation_dir_path / 'simulated_data'\n",
    "simulated_variants_file = simulation_data_path / 'haplotypes.vcf.gz'\n",
    "\n",
    "case_name = str(simulation_dir_path.name)\n",
    "index_reads_path = simulation_dir_path / 'index-reads'\n",
    "index_assemblies_path = simulation_dir_path / 'index-assemblies'"
   ]
  },
  {
   "cell_type": "markdown",
   "id": "2b6c7ffd-d5d7-447f-ba62-7ec7d1b0b583",
   "metadata": {
    "papermill": {
     "duration": 0.00772,
     "end_time": "2021-09-12T00:09:18.344445",
     "exception": false,
     "start_time": "2021-09-12T00:09:18.336725",
     "status": "completed"
    },
    "tags": []
   },
   "source": [
    "# 2. Load simulated variants (VCF)"
   ]
  },
  {
   "cell_type": "code",
   "execution_count": 4,
   "id": "e01f3458-fb5e-4fc1-b1f0-69b7a9c9d033",
   "metadata": {
    "execution": {
     "iopub.execute_input": "2021-09-12T00:09:18.368923Z",
     "iopub.status.busy": "2021-09-12T00:09:18.367792Z",
     "iopub.status.idle": "2021-09-12T00:09:21.114637Z",
     "shell.execute_reply": "2021-09-12T00:09:21.115558Z"
    },
    "papermill": {
     "duration": 2.763517,
     "end_time": "2021-09-12T00:09:21.115865",
     "exception": false,
     "start_time": "2021-09-12T00:09:18.352348",
     "status": "completed"
    },
    "tags": []
   },
   "outputs": [
    {
     "data": {
      "text/html": [
       "<div>\n",
       "<style scoped>\n",
       "    .dataframe tbody tr th:only-of-type {\n",
       "        vertical-align: middle;\n",
       "    }\n",
       "\n",
       "    .dataframe tbody tr th {\n",
       "        vertical-align: top;\n",
       "    }\n",
       "\n",
       "    .dataframe thead th {\n",
       "        text-align: right;\n",
       "    }\n",
       "</style>\n",
       "<table border=\"1\" class=\"dataframe\">\n",
       "  <thead>\n",
       "    <tr style=\"text-align: right;\">\n",
       "      <th></th>\n",
       "      <th>CHROM</th>\n",
       "      <th>POS</th>\n",
       "      <th>REF</th>\n",
       "      <th>samples</th>\n",
       "    </tr>\n",
       "  </thead>\n",
       "  <tbody>\n",
       "    <tr>\n",
       "      <th>0</th>\n",
       "      <td>chrom0</td>\n",
       "      <td>8</td>\n",
       "      <td>G</td>\n",
       "      <td>[Call(sample=reference, CallData(GT=0, GQ=4414...</td>\n",
       "    </tr>\n",
       "    <tr>\n",
       "      <th>1</th>\n",
       "      <td>chrom0</td>\n",
       "      <td>9</td>\n",
       "      <td>A</td>\n",
       "      <td>[Call(sample=reference, CallData(GT=0, GQ=4414...</td>\n",
       "    </tr>\n",
       "    <tr>\n",
       "      <th>2</th>\n",
       "      <td>chrom0</td>\n",
       "      <td>10</td>\n",
       "      <td>G</td>\n",
       "      <td>[Call(sample=reference, CallData(GT=0, GQ=4414...</td>\n",
       "    </tr>\n",
       "    <tr>\n",
       "      <th>3</th>\n",
       "      <td>chrom0</td>\n",
       "      <td>12</td>\n",
       "      <td>G</td>\n",
       "      <td>[Call(sample=reference, CallData(GT=0, GQ=4414...</td>\n",
       "    </tr>\n",
       "    <tr>\n",
       "      <th>4</th>\n",
       "      <td>chrom0</td>\n",
       "      <td>18</td>\n",
       "      <td>G</td>\n",
       "      <td>[Call(sample=reference, CallData(GT=0, GQ=4414...</td>\n",
       "    </tr>\n",
       "  </tbody>\n",
       "</table>\n",
       "</div>"
      ],
      "text/plain": [
       "    CHROM  POS REF                                            samples\n",
       "0  chrom0    8   G  [Call(sample=reference, CallData(GT=0, GQ=4414...\n",
       "1  chrom0    9   A  [Call(sample=reference, CallData(GT=0, GQ=4414...\n",
       "2  chrom0   10   G  [Call(sample=reference, CallData(GT=0, GQ=4414...\n",
       "3  chrom0   12   G  [Call(sample=reference, CallData(GT=0, GQ=4414...\n",
       "4  chrom0   18   G  [Call(sample=reference, CallData(GT=0, GQ=4414..."
      ]
     },
     "execution_count": 4,
     "metadata": {},
     "output_type": "execute_result"
    }
   ],
   "source": [
    "import vcf\n",
    "import pandas as pd\n",
    "import time\n",
    "\n",
    "reader = vcf.Reader(filename=str(simulated_variants_file))\n",
    "simulated_df = pd.DataFrame([vars(r) for r in reader])\n",
    "simulated_df = simulated_df[['CHROM', 'POS', 'REF', 'samples']]\n",
    "simulated_df.head(5)"
   ]
  },
  {
   "cell_type": "markdown",
   "id": "f1c95d8a-de3e-4bb4-b13f-0f88e6466925",
   "metadata": {
    "papermill": {
     "duration": 0.009977,
     "end_time": "2021-09-12T00:09:21.143425",
     "exception": false,
     "start_time": "2021-09-12T00:09:21.133448",
     "status": "completed"
    },
    "tags": []
   },
   "source": [
    "## 2.1. Construct sample:variant identifiers"
   ]
  },
  {
   "cell_type": "code",
   "execution_count": 5,
   "id": "bac0a5e7-a844-47bb-9204-3b4711d0c329",
   "metadata": {
    "execution": {
     "iopub.execute_input": "2021-09-12T00:09:21.192574Z",
     "iopub.status.busy": "2021-09-12T00:09:21.172196Z",
     "iopub.status.idle": "2021-09-12T00:09:24.317231Z",
     "shell.execute_reply": "2021-09-12T00:09:24.316257Z"
    },
    "papermill": {
     "duration": 3.16643,
     "end_time": "2021-09-12T00:09:24.317483",
     "exception": false,
     "start_time": "2021-09-12T00:09:21.151053",
     "status": "completed"
    },
    "tags": []
   },
   "outputs": [
    {
     "name": "stdout",
     "output_type": "stream",
     "text": [
      "There are 156230 expected sample/variant pairs like: ['SH10-015:chrom0:8:G:A', 'SH10-014:chrom0:8:G:A', 'SH11-002:chrom0:8:G:A']\n",
      "Took 0.1 minutes\n"
     ]
    }
   ],
   "source": [
    "before = time.time()\n",
    "\n",
    "# Explode dataframe so that we have one row per sample\n",
    "simulated_df_exploded = simulated_df.explode('samples')\n",
    "simulated_df_exploded['SAMPLE'] = simulated_df_exploded['samples'].apply(lambda x: x.sample)\n",
    "\n",
    "# Extrat ALT for each sample\n",
    "simulated_df_exploded['ALT'] = simulated_df_exploded['samples'].apply(lambda x: x.gt_bases)\n",
    "\n",
    "# Only keep mutations/those where REF and ALT are different\n",
    "simulated_df_exploded = simulated_df_exploded[simulated_df_exploded['REF'] != simulated_df_exploded['ALT']]\n",
    "\n",
    "# Create SPDI-like identifier with Sample name for comparison (SAMPLE:CHROM:POS:REF:ALT)\n",
    "simulated_df_exploded['ID'] = simulated_df_exploded.apply(\n",
    "    lambda x: f\"{x['SAMPLE']}:{x['CHROM']}:{x['POS']}:{x['REF']}:{x['ALT']}\", axis='columns')\n",
    "\n",
    "simulated_variants = simulated_df_exploded['ID'].reset_index(drop=True)\n",
    "expected_sample_variants = set(simulated_variants)\n",
    "\n",
    "after = time.time()\n",
    "\n",
    "print(f'There are {len(expected_sample_variants)} expected sample/variant pairs like: '\n",
    "      f'{list(simulated_variants[0:3])}')\n",
    "print(f'Took {(after - before)/60:0.1f} minutes')"
   ]
  },
  {
   "cell_type": "code",
   "execution_count": 6,
   "id": "e3f05c50-a98a-431f-b8c8-a5083738255c",
   "metadata": {
    "execution": {
     "iopub.execute_input": "2021-09-12T00:09:24.368428Z",
     "iopub.status.busy": "2021-09-12T00:09:24.367717Z",
     "iopub.status.idle": "2021-09-12T00:09:24.371671Z",
     "shell.execute_reply": "2021-09-12T00:09:24.371048Z"
    },
    "papermill": {
     "duration": 0.034888,
     "end_time": "2021-09-12T00:09:24.371822",
     "exception": false,
     "start_time": "2021-09-12T00:09:24.336934",
     "status": "completed"
    },
    "tags": []
   },
   "outputs": [
    {
     "data": {
      "text/html": [
       "<div>\n",
       "<style scoped>\n",
       "    .dataframe tbody tr th:only-of-type {\n",
       "        vertical-align: middle;\n",
       "    }\n",
       "\n",
       "    .dataframe tbody tr th {\n",
       "        vertical-align: top;\n",
       "    }\n",
       "\n",
       "    .dataframe thead th {\n",
       "        text-align: right;\n",
       "    }\n",
       "</style>\n",
       "<table border=\"1\" class=\"dataframe\">\n",
       "  <thead>\n",
       "    <tr style=\"text-align: right;\">\n",
       "      <th></th>\n",
       "      <th>CHROM</th>\n",
       "      <th>POS</th>\n",
       "      <th>REF</th>\n",
       "      <th>samples</th>\n",
       "      <th>SAMPLE</th>\n",
       "      <th>ALT</th>\n",
       "      <th>ID</th>\n",
       "    </tr>\n",
       "  </thead>\n",
       "  <tbody>\n",
       "    <tr>\n",
       "      <th>0</th>\n",
       "      <td>chrom0</td>\n",
       "      <td>8</td>\n",
       "      <td>G</td>\n",
       "      <td>Call(sample=SH10-015, CallData(GT=1, GQ=441453))</td>\n",
       "      <td>SH10-015</td>\n",
       "      <td>A</td>\n",
       "      <td>SH10-015:chrom0:8:G:A</td>\n",
       "    </tr>\n",
       "    <tr>\n",
       "      <th>0</th>\n",
       "      <td>chrom0</td>\n",
       "      <td>8</td>\n",
       "      <td>G</td>\n",
       "      <td>Call(sample=SH10-014, CallData(GT=1, GQ=441453))</td>\n",
       "      <td>SH10-014</td>\n",
       "      <td>A</td>\n",
       "      <td>SH10-014:chrom0:8:G:A</td>\n",
       "    </tr>\n",
       "    <tr>\n",
       "      <th>0</th>\n",
       "      <td>chrom0</td>\n",
       "      <td>8</td>\n",
       "      <td>G</td>\n",
       "      <td>Call(sample=SH11-002, CallData(GT=1, GQ=441453))</td>\n",
       "      <td>SH11-002</td>\n",
       "      <td>A</td>\n",
       "      <td>SH11-002:chrom0:8:G:A</td>\n",
       "    </tr>\n",
       "    <tr>\n",
       "      <th>0</th>\n",
       "      <td>chrom0</td>\n",
       "      <td>8</td>\n",
       "      <td>G</td>\n",
       "      <td>Call(sample=SH13-006, CallData(GT=1, GQ=441453))</td>\n",
       "      <td>SH13-006</td>\n",
       "      <td>A</td>\n",
       "      <td>SH13-006:chrom0:8:G:A</td>\n",
       "    </tr>\n",
       "    <tr>\n",
       "      <th>0</th>\n",
       "      <td>chrom0</td>\n",
       "      <td>8</td>\n",
       "      <td>G</td>\n",
       "      <td>Call(sample=SH13-005, CallData(GT=1, GQ=441453))</td>\n",
       "      <td>SH13-005</td>\n",
       "      <td>A</td>\n",
       "      <td>SH13-005:chrom0:8:G:A</td>\n",
       "    </tr>\n",
       "    <tr>\n",
       "      <th>...</th>\n",
       "      <td>...</td>\n",
       "      <td>...</td>\n",
       "      <td>...</td>\n",
       "      <td>...</td>\n",
       "      <td>...</td>\n",
       "      <td>...</td>\n",
       "      <td>...</td>\n",
       "    </tr>\n",
       "    <tr>\n",
       "      <th>7754</th>\n",
       "      <td>chrom1</td>\n",
       "      <td>8865</td>\n",
       "      <td>A</td>\n",
       "      <td>Call(sample=SH14-005, CallData(GT=1, GQ=441453))</td>\n",
       "      <td>SH14-005</td>\n",
       "      <td>G</td>\n",
       "      <td>SH14-005:chrom1:8865:A:G</td>\n",
       "    </tr>\n",
       "    <tr>\n",
       "      <th>7754</th>\n",
       "      <td>chrom1</td>\n",
       "      <td>8865</td>\n",
       "      <td>A</td>\n",
       "      <td>Call(sample=SH14-004, CallData(GT=1, GQ=441453))</td>\n",
       "      <td>SH14-004</td>\n",
       "      <td>G</td>\n",
       "      <td>SH14-004:chrom1:8865:A:G</td>\n",
       "    </tr>\n",
       "    <tr>\n",
       "      <th>7754</th>\n",
       "      <td>chrom1</td>\n",
       "      <td>8865</td>\n",
       "      <td>A</td>\n",
       "      <td>Call(sample=SH14-003, CallData(GT=1, GQ=441453))</td>\n",
       "      <td>SH14-003</td>\n",
       "      <td>G</td>\n",
       "      <td>SH14-003:chrom1:8865:A:G</td>\n",
       "    </tr>\n",
       "    <tr>\n",
       "      <th>7754</th>\n",
       "      <td>chrom1</td>\n",
       "      <td>8865</td>\n",
       "      <td>A</td>\n",
       "      <td>Call(sample=SH14-002, CallData(GT=1, GQ=441453))</td>\n",
       "      <td>SH14-002</td>\n",
       "      <td>G</td>\n",
       "      <td>SH14-002:chrom1:8865:A:G</td>\n",
       "    </tr>\n",
       "    <tr>\n",
       "      <th>7754</th>\n",
       "      <td>chrom1</td>\n",
       "      <td>8865</td>\n",
       "      <td>A</td>\n",
       "      <td>Call(sample=SH14-028, CallData(GT=1, GQ=441453))</td>\n",
       "      <td>SH14-028</td>\n",
       "      <td>G</td>\n",
       "      <td>SH14-028:chrom1:8865:A:G</td>\n",
       "    </tr>\n",
       "  </tbody>\n",
       "</table>\n",
       "<p>156230 rows × 7 columns</p>\n",
       "</div>"
      ],
      "text/plain": [
       "       CHROM   POS REF                                           samples  \\\n",
       "0     chrom0     8   G  Call(sample=SH10-015, CallData(GT=1, GQ=441453))   \n",
       "0     chrom0     8   G  Call(sample=SH10-014, CallData(GT=1, GQ=441453))   \n",
       "0     chrom0     8   G  Call(sample=SH11-002, CallData(GT=1, GQ=441453))   \n",
       "0     chrom0     8   G  Call(sample=SH13-006, CallData(GT=1, GQ=441453))   \n",
       "0     chrom0     8   G  Call(sample=SH13-005, CallData(GT=1, GQ=441453))   \n",
       "...      ...   ...  ..                                               ...   \n",
       "7754  chrom1  8865   A  Call(sample=SH14-005, CallData(GT=1, GQ=441453))   \n",
       "7754  chrom1  8865   A  Call(sample=SH14-004, CallData(GT=1, GQ=441453))   \n",
       "7754  chrom1  8865   A  Call(sample=SH14-003, CallData(GT=1, GQ=441453))   \n",
       "7754  chrom1  8865   A  Call(sample=SH14-002, CallData(GT=1, GQ=441453))   \n",
       "7754  chrom1  8865   A  Call(sample=SH14-028, CallData(GT=1, GQ=441453))   \n",
       "\n",
       "        SAMPLE ALT                        ID  \n",
       "0     SH10-015   A     SH10-015:chrom0:8:G:A  \n",
       "0     SH10-014   A     SH10-014:chrom0:8:G:A  \n",
       "0     SH11-002   A     SH11-002:chrom0:8:G:A  \n",
       "0     SH13-006   A     SH13-006:chrom0:8:G:A  \n",
       "0     SH13-005   A     SH13-005:chrom0:8:G:A  \n",
       "...        ...  ..                       ...  \n",
       "7754  SH14-005   G  SH14-005:chrom1:8865:A:G  \n",
       "7754  SH14-004   G  SH14-004:chrom1:8865:A:G  \n",
       "7754  SH14-003   G  SH14-003:chrom1:8865:A:G  \n",
       "7754  SH14-002   G  SH14-002:chrom1:8865:A:G  \n",
       "7754  SH14-028   G  SH14-028:chrom1:8865:A:G  \n",
       "\n",
       "[156230 rows x 7 columns]"
      ]
     },
     "execution_count": 6,
     "metadata": {},
     "output_type": "execute_result"
    }
   ],
   "source": [
    "simulated_df_exploded"
   ]
  },
  {
   "cell_type": "markdown",
   "id": "85d49181-9782-48b6-bdef-dfa2b19cd6b6",
   "metadata": {
    "papermill": {
     "duration": 0.009763,
     "end_time": "2021-09-12T00:09:24.396688",
     "exception": false,
     "start_time": "2021-09-12T00:09:24.386925",
     "status": "completed"
    },
    "tags": []
   },
   "source": [
    "## 1.2. Load reference genome for use with positive/negative calculations"
   ]
  },
  {
   "cell_type": "code",
   "execution_count": 7,
   "id": "bfaacd7f-746e-452a-9b4b-cb4526424b13",
   "metadata": {
    "execution": {
     "iopub.execute_input": "2021-09-12T00:09:24.422345Z",
     "iopub.status.busy": "2021-09-12T00:09:24.421951Z",
     "iopub.status.idle": "2021-09-12T00:09:24.515821Z",
     "shell.execute_reply": "2021-09-12T00:09:24.514831Z"
    },
    "papermill": {
     "duration": 0.111,
     "end_time": "2021-09-12T00:09:24.516076",
     "exception": false,
     "start_time": "2021-09-12T00:09:24.405076",
     "status": "completed"
    },
    "tags": []
   },
   "outputs": [
    {
     "name": "stdout",
     "output_type": "stream",
     "text": [
      "Reference length: 10834\n",
      "Number samples: 59\n"
     ]
    }
   ],
   "source": [
    "import gzip\n",
    "from Bio import SeqIO\n",
    "\n",
    "with gzip.open(reference_file, mode='rt') as f:\n",
    "    sequences = list(SeqIO.parse(f, 'fasta'))\n",
    "    reference_length = len(sequences[0])\n",
    "    \n",
    "sample_names = set(simulated_df_exploded.groupby('SAMPLE').agg({'SAMPLE': 'count'}).index)\n",
    "sample_names = sample_names - {'reference'}\n",
    "number_samples = len(sample_names)\n",
    "\n",
    "print(f'Reference length: {reference_length}')\n",
    "print(f'Number samples: {number_samples}')"
   ]
  },
  {
   "cell_type": "markdown",
   "id": "31d39af6-8bcb-416b-ba4c-38c06fc6085e",
   "metadata": {
    "papermill": {
     "duration": 0.01113,
     "end_time": "2021-09-12T00:09:24.549027",
     "exception": false,
     "start_time": "2021-09-12T00:09:24.537897",
     "status": "completed"
    },
    "tags": []
   },
   "source": [
    "# 3. Load detected variants\n",
    "\n",
    "## 3.1. Load from reads index"
   ]
  },
  {
   "cell_type": "code",
   "execution_count": 8,
   "id": "89978058-5e1b-4c20-ba21-fc23daa74dcb",
   "metadata": {
    "execution": {
     "iopub.execute_input": "2021-09-12T00:09:24.577532Z",
     "iopub.status.busy": "2021-09-12T00:09:24.577134Z",
     "iopub.status.idle": "2021-09-12T00:09:41.706381Z",
     "shell.execute_reply": "2021-09-12T00:09:41.707238Z"
    },
    "papermill": {
     "duration": 17.149867,
     "end_time": "2021-09-12T00:09:41.707576",
     "exception": false,
     "start_time": "2021-09-12T00:09:24.557709",
     "status": "completed"
    },
    "tags": []
   },
   "outputs": [
    {
     "name": "stdout",
     "output_type": "stream",
     "text": [
      "There are 53529 actual sample/variant pairs (reads)\n",
      "Took 0.2 minutes\n",
      "Actual variants look like: ['SH12-002:chrom1:8217:GTTA:ATTG', 'SH12-010:chrom0:2696:ACGGC:GCGGT', 'SH14-015:chrom1:7828:C:T', 'SH14-020:chrom1:3963:G:A', 'SH14-010:chrom1:6690:C:T']\n"
     ]
    }
   ],
   "source": [
    "from typing import Set\n",
    "import genomics_data_index.api as gdi\n",
    "\n",
    "def get_sample_variant_idenifiers(index_dir: Path) -> Set[str]:\n",
    "    db = gdi.GenomicsDataIndex.connect(index_dir)\n",
    "    q = db.samples_query()\n",
    "\n",
    "    actual_sample_variants = set()\n",
    "    for sample in q.tolist():\n",
    "        sample_features = q.isa(sample).features_summary().reset_index()\n",
    "        sample_features_set = set(sample_features['Mutation'].apply(lambda x: f\"{sample}:{x}\"))\n",
    "        actual_sample_variants.update(sample_features_set)\n",
    "    return actual_sample_variants\n",
    "\n",
    "before = time.time()\n",
    "actual_sample_variants_reads = get_sample_variant_idenifiers(index_reads_path)\n",
    "after = time.time()\n",
    "\n",
    "print(f'There are {len(actual_sample_variants_reads)} actual sample/variant pairs (reads)')\n",
    "print(f'Took {(after - before)/60:0.1f} minutes')\n",
    "print(f'Actual variants look like: {list(actual_sample_variants_reads)[0:5]}')"
   ]
  },
  {
   "cell_type": "markdown",
   "id": "4eb6bf76-40f0-449f-8cac-72679f484e8c",
   "metadata": {
    "papermill": {
     "duration": 0.01118,
     "end_time": "2021-09-12T00:09:41.739511",
     "exception": false,
     "start_time": "2021-09-12T00:09:41.728331",
     "status": "completed"
    },
    "tags": []
   },
   "source": [
    "## 2.2. Load from assemblies index"
   ]
  },
  {
   "cell_type": "code",
   "execution_count": 9,
   "id": "b91c4675-1b29-4a1c-b976-ba88a80d2c78",
   "metadata": {
    "execution": {
     "iopub.execute_input": "2021-09-12T00:09:41.764549Z",
     "iopub.status.busy": "2021-09-12T00:09:41.764135Z",
     "iopub.status.idle": "2021-09-12T00:09:43.586390Z",
     "shell.execute_reply": "2021-09-12T00:09:43.587281Z"
    },
    "papermill": {
     "duration": 1.839007,
     "end_time": "2021-09-12T00:09:43.587606",
     "exception": false,
     "start_time": "2021-09-12T00:09:41.748599",
     "status": "completed"
    },
    "tags": []
   },
   "outputs": [
    {
     "name": "stderr",
     "output_type": "stream",
     "text": [
      "Attempting to set global database_path_translator=<genomics_data_index.storage.model.db.DatabasePathTranslator.DatabasePathTranslator object at 0x7f229c2910d0> but it is already set\n"
     ]
    },
    {
     "name": "stdout",
     "output_type": "stream",
     "text": [
      "There are 996 actual sample/variant pairs (assemblies)\n",
      "Took 0.0 minutes\n"
     ]
    }
   ],
   "source": [
    "before = time.time()\n",
    "actual_sample_variants_assemblies = get_sample_variant_idenifiers(index_assemblies_path)\n",
    "after = time.time()\n",
    "\n",
    "print(f'There are {len(actual_sample_variants_assemblies)} actual sample/variant pairs (assemblies)')\n",
    "print(f'Took {(after - before)/60:0.1f} minutes')"
   ]
  },
  {
   "cell_type": "markdown",
   "id": "52efd18a-5198-45cc-a092-4dfaba600ca1",
   "metadata": {
    "papermill": {
     "duration": 0.011133,
     "end_time": "2021-09-12T00:09:43.619445",
     "exception": false,
     "start_time": "2021-09-12T00:09:43.608312",
     "status": "completed"
    },
    "tags": []
   },
   "source": [
    "# 3. Compare expected/actual variants\n",
    "\n",
    "## 3.1. Compare with reads index"
   ]
  },
  {
   "cell_type": "code",
   "execution_count": 10,
   "id": "3897d419-cc74-49d0-92d6-371f365f3ff1",
   "metadata": {
    "execution": {
     "iopub.execute_input": "2021-09-12T00:09:43.707398Z",
     "iopub.status.busy": "2021-09-12T00:09:43.668572Z",
     "iopub.status.idle": "2021-09-12T00:09:43.711546Z",
     "shell.execute_reply": "2021-09-12T00:09:43.712322Z"
    },
    "papermill": {
     "duration": 0.079056,
     "end_time": "2021-09-12T00:09:43.712703",
     "exception": false,
     "start_time": "2021-09-12T00:09:43.633647",
     "status": "completed"
    },
    "tags": []
   },
   "outputs": [
    {
     "name": "stdout",
     "output_type": "stream",
     "text": [
      "Sensitivity: 0.2021\n",
      "Specificity: ~1 (not calculated)\n",
      "Precision: 0.5898\n",
      "F1 Score: 0.3010\n"
     ]
    },
    {
     "data": {
      "text/html": [
       "<div>\n",
       "<style scoped>\n",
       "    .dataframe tbody tr th:only-of-type {\n",
       "        vertical-align: middle;\n",
       "    }\n",
       "\n",
       "    .dataframe tbody tr th {\n",
       "        vertical-align: top;\n",
       "    }\n",
       "\n",
       "    .dataframe thead th {\n",
       "        text-align: right;\n",
       "    }\n",
       "</style>\n",
       "<table border=\"1\" class=\"dataframe\">\n",
       "  <thead>\n",
       "    <tr style=\"text-align: right;\">\n",
       "      <th></th>\n",
       "      <th>Name</th>\n",
       "      <th>True Positives</th>\n",
       "      <th>True Negatives</th>\n",
       "      <th>False Positives</th>\n",
       "      <th>False Negatives</th>\n",
       "      <th>Sensitivity</th>\n",
       "      <th>Specificity</th>\n",
       "      <th>Precision</th>\n",
       "      <th>F1 Score</th>\n",
       "    </tr>\n",
       "  </thead>\n",
       "  <tbody>\n",
       "    <tr>\n",
       "      <th>0</th>\n",
       "      <td>alpha-5.0-cov-30 reads</td>\n",
       "      <td>31570</td>\n",
       "      <td>&lt;NA&gt;</td>\n",
       "      <td>21959</td>\n",
       "      <td>124660</td>\n",
       "      <td>0.202074</td>\n",
       "      <td>~1 (not calculated)</td>\n",
       "      <td>0.589774</td>\n",
       "      <td>0.301012</td>\n",
       "    </tr>\n",
       "  </tbody>\n",
       "</table>\n",
       "</div>"
      ],
      "text/plain": [
       "                     Name  True Positives True Negatives  False Positives  \\\n",
       "0  alpha-5.0-cov-30 reads           31570           <NA>            21959   \n",
       "\n",
       "   False Negatives  Sensitivity          Specificity  Precision  F1 Score  \n",
       "0           124660     0.202074  ~1 (not calculated)   0.589774  0.301012  "
      ]
     },
     "execution_count": 10,
     "metadata": {},
     "output_type": "execute_result"
    }
   ],
   "source": [
    "def compare_expected_actual(name: str, actual_sample_variants: Set[str]) -> pd.DataFrame:\n",
    "    number_expected = len(expected_sample_variants)\n",
    "    number_actual = len(actual_sample_variants)\n",
    "\n",
    "    true_positives = actual_sample_variants & expected_sample_variants\n",
    "    false_negatives = expected_sample_variants - actual_sample_variants\n",
    "    false_positives = actual_sample_variants - expected_sample_variants\n",
    "    # I cannot get true negatives since I would need to know the total number of negatives (i.e., all possible \n",
    "    #  variants with respect to the reference genome that were not simulated). This would be a finite, but \n",
    "    #  very very large number (and I haven't worked out how to calculate it).\n",
    "    # For example, one negative is Sample:1:A:T, another negative is Sample:1:AG:TT, and so on for the entire \n",
    "    # length of the genome.\n",
    "    # true_negatives = set()\n",
    "\n",
    "    sensitivity = len(true_positives) / (len(true_positives) + len(false_negatives))\n",
    "    precision = len(true_positives) / (len(true_positives) + len(false_positives))\n",
    "    f1_score = 2 * len(true_positives) / (2 * len(true_positives) + len(false_positives) + len(false_negatives))\n",
    "\n",
    "    # Since true_negatives are a very large number, then for all intents and purposes\n",
    "    # specificity will be very very close to 1. So instead of trying to calculate it\n",
    "    # I just call it ~1, but it's also not very useful because of this.\n",
    "    #specificity = len(true_negatives) / (len(true_negatives) + len(false_positives))\n",
    "    specificity = '~1 (not calculated)'\n",
    "\n",
    "    print(f'Sensitivity: {sensitivity:0.4f}')\n",
    "    print(f'Specificity: {specificity}')\n",
    "    print(f'Precision: {precision:0.4f}')\n",
    "    print(f'F1 Score: {f1_score:0.4f}')\n",
    "    \n",
    "    comparison_df = pd.DataFrame([{\n",
    "        'Name': name,\n",
    "        'True Positives': len(true_positives),\n",
    "        'True Negatives': pd.NA,\n",
    "        'False Positives': len(false_positives),\n",
    "        'False Negatives': len(false_negatives),\n",
    "        'Sensitivity': sensitivity,\n",
    "        'Specificity': specificity,\n",
    "        'Precision': precision,\n",
    "        'F1 Score': f1_score,\n",
    "    }])\n",
    "    \n",
    "    data = {\n",
    "        'tp': true_positives,\n",
    "        'fp': false_positives,\n",
    "        'fn': false_negatives\n",
    "    }\n",
    "    \n",
    "    return comparison_df, data\n",
    "    \n",
    "comparison_reads_df, data_reads = compare_expected_actual(name=f'{case_name} reads',\n",
    "                                                          actual_sample_variants=actual_sample_variants_reads)\n",
    "comparison_reads_df"
   ]
  },
  {
   "cell_type": "markdown",
   "id": "d5f3bf59-c828-40e1-9394-f0c40a73dfa6",
   "metadata": {
    "papermill": {
     "duration": 0.011112,
     "end_time": "2021-09-12T00:09:43.742376",
     "exception": false,
     "start_time": "2021-09-12T00:09:43.731264",
     "status": "completed"
    },
    "tags": []
   },
   "source": [
    "## 3.2. Compare with assemblies index"
   ]
  },
  {
   "cell_type": "code",
   "execution_count": 11,
   "id": "341de1ba-a120-471c-97f8-f85537dca10b",
   "metadata": {
    "execution": {
     "iopub.execute_input": "2021-09-12T00:09:43.792242Z",
     "iopub.status.busy": "2021-09-12T00:09:43.783018Z",
     "iopub.status.idle": "2021-09-12T00:09:43.797514Z",
     "shell.execute_reply": "2021-09-12T00:09:43.796826Z"
    },
    "papermill": {
     "duration": 0.045838,
     "end_time": "2021-09-12T00:09:43.797733",
     "exception": false,
     "start_time": "2021-09-12T00:09:43.751895",
     "status": "completed"
    },
    "tags": []
   },
   "outputs": [
    {
     "name": "stdout",
     "output_type": "stream",
     "text": [
      "Sensitivity: 0.0064\n",
      "Specificity: ~1 (not calculated)\n",
      "Precision: 1.0000\n",
      "F1 Score: 0.0127\n"
     ]
    },
    {
     "data": {
      "text/html": [
       "<div>\n",
       "<style scoped>\n",
       "    .dataframe tbody tr th:only-of-type {\n",
       "        vertical-align: middle;\n",
       "    }\n",
       "\n",
       "    .dataframe tbody tr th {\n",
       "        vertical-align: top;\n",
       "    }\n",
       "\n",
       "    .dataframe thead th {\n",
       "        text-align: right;\n",
       "    }\n",
       "</style>\n",
       "<table border=\"1\" class=\"dataframe\">\n",
       "  <thead>\n",
       "    <tr style=\"text-align: right;\">\n",
       "      <th></th>\n",
       "      <th>Name</th>\n",
       "      <th>True Positives</th>\n",
       "      <th>True Negatives</th>\n",
       "      <th>False Positives</th>\n",
       "      <th>False Negatives</th>\n",
       "      <th>Sensitivity</th>\n",
       "      <th>Specificity</th>\n",
       "      <th>Precision</th>\n",
       "      <th>F1 Score</th>\n",
       "    </tr>\n",
       "  </thead>\n",
       "  <tbody>\n",
       "    <tr>\n",
       "      <th>0</th>\n",
       "      <td>alpha-5.0-cov-30 assemblies</td>\n",
       "      <td>996</td>\n",
       "      <td>&lt;NA&gt;</td>\n",
       "      <td>0</td>\n",
       "      <td>155234</td>\n",
       "      <td>0.006375</td>\n",
       "      <td>~1 (not calculated)</td>\n",
       "      <td>1.0</td>\n",
       "      <td>0.01267</td>\n",
       "    </tr>\n",
       "  </tbody>\n",
       "</table>\n",
       "</div>"
      ],
      "text/plain": [
       "                          Name  True Positives True Negatives  \\\n",
       "0  alpha-5.0-cov-30 assemblies             996           <NA>   \n",
       "\n",
       "   False Positives  False Negatives  Sensitivity          Specificity  \\\n",
       "0                0           155234     0.006375  ~1 (not calculated)   \n",
       "\n",
       "   Precision  F1 Score  \n",
       "0        1.0   0.01267  "
      ]
     },
     "execution_count": 11,
     "metadata": {},
     "output_type": "execute_result"
    }
   ],
   "source": [
    "comparison_assemblies_df, data_assemblies = compare_expected_actual(name=f'{case_name} assemblies',\n",
    "                                                                    actual_sample_variants=actual_sample_variants_assemblies)\n",
    "comparison_assemblies_df"
   ]
  },
  {
   "cell_type": "markdown",
   "id": "13ddcf68-f5d4-494f-8a13-e9325390b953",
   "metadata": {
    "papermill": {
     "duration": 0.011652,
     "end_time": "2021-09-12T00:09:43.830927",
     "exception": false,
     "start_time": "2021-09-12T00:09:43.819275",
     "status": "completed"
    },
    "tags": []
   },
   "source": [
    "## 3.3. Combine results"
   ]
  },
  {
   "cell_type": "code",
   "execution_count": 12,
   "id": "17df418e-5244-4000-b9f9-2f35f8ce998f",
   "metadata": {
    "execution": {
     "iopub.execute_input": "2021-09-12T00:09:43.873640Z",
     "iopub.status.busy": "2021-09-12T00:09:43.873058Z",
     "iopub.status.idle": "2021-09-12T00:09:43.877321Z",
     "shell.execute_reply": "2021-09-12T00:09:43.876867Z"
    },
    "papermill": {
     "duration": 0.03605,
     "end_time": "2021-09-12T00:09:43.877443",
     "exception": false,
     "start_time": "2021-09-12T00:09:43.841393",
     "status": "completed"
    },
    "tags": []
   },
   "outputs": [
    {
     "data": {
      "text/html": [
       "<div>\n",
       "<style scoped>\n",
       "    .dataframe tbody tr th:only-of-type {\n",
       "        vertical-align: middle;\n",
       "    }\n",
       "\n",
       "    .dataframe tbody tr th {\n",
       "        vertical-align: top;\n",
       "    }\n",
       "\n",
       "    .dataframe thead th {\n",
       "        text-align: right;\n",
       "    }\n",
       "</style>\n",
       "<table border=\"1\" class=\"dataframe\">\n",
       "  <thead>\n",
       "    <tr style=\"text-align: right;\">\n",
       "      <th></th>\n",
       "      <th>Name</th>\n",
       "      <th>True Positives</th>\n",
       "      <th>True Negatives</th>\n",
       "      <th>False Positives</th>\n",
       "      <th>False Negatives</th>\n",
       "      <th>Sensitivity</th>\n",
       "      <th>Specificity</th>\n",
       "      <th>Precision</th>\n",
       "      <th>F1 Score</th>\n",
       "    </tr>\n",
       "  </thead>\n",
       "  <tbody>\n",
       "    <tr>\n",
       "      <th>0</th>\n",
       "      <td>alpha-5.0-cov-30 reads</td>\n",
       "      <td>31570</td>\n",
       "      <td>&lt;NA&gt;</td>\n",
       "      <td>21959</td>\n",
       "      <td>124660</td>\n",
       "      <td>0.202074</td>\n",
       "      <td>~1 (not calculated)</td>\n",
       "      <td>0.589774</td>\n",
       "      <td>0.301012</td>\n",
       "    </tr>\n",
       "    <tr>\n",
       "      <th>0</th>\n",
       "      <td>alpha-5.0-cov-30 assemblies</td>\n",
       "      <td>996</td>\n",
       "      <td>&lt;NA&gt;</td>\n",
       "      <td>0</td>\n",
       "      <td>155234</td>\n",
       "      <td>0.006375</td>\n",
       "      <td>~1 (not calculated)</td>\n",
       "      <td>1.000000</td>\n",
       "      <td>0.012670</td>\n",
       "    </tr>\n",
       "  </tbody>\n",
       "</table>\n",
       "</div>"
      ],
      "text/plain": [
       "                          Name  True Positives True Negatives  \\\n",
       "0       alpha-5.0-cov-30 reads           31570           <NA>   \n",
       "0  alpha-5.0-cov-30 assemblies             996           <NA>   \n",
       "\n",
       "   False Positives  False Negatives  Sensitivity          Specificity  \\\n",
       "0            21959           124660     0.202074  ~1 (not calculated)   \n",
       "0                0           155234     0.006375  ~1 (not calculated)   \n",
       "\n",
       "   Precision  F1 Score  \n",
       "0   0.589774  0.301012  \n",
       "0   1.000000  0.012670  "
      ]
     },
     "execution_count": 12,
     "metadata": {},
     "output_type": "execute_result"
    }
   ],
   "source": [
    "results_df = pd.concat([comparison_reads_df, comparison_assemblies_df])\n",
    "results_df"
   ]
  },
  {
   "cell_type": "code",
   "execution_count": 13,
   "id": "20211251-04f9-4a94-ae10-473c6d52aaf2",
   "metadata": {
    "execution": {
     "iopub.execute_input": "2021-09-12T00:09:43.912561Z",
     "iopub.status.busy": "2021-09-12T00:09:43.912176Z",
     "iopub.status.idle": "2021-09-12T00:09:43.934916Z",
     "shell.execute_reply": "2021-09-12T00:09:43.934292Z"
    },
    "papermill": {
     "duration": 0.039351,
     "end_time": "2021-09-12T00:09:43.935064",
     "exception": false,
     "start_time": "2021-09-12T00:09:43.895713",
     "status": "completed"
    },
    "tags": []
   },
   "outputs": [],
   "source": [
    "results_df_output = simulation_dir_path / 'variants-comparison.tsv'\n",
    "results_df.to_csv(results_df_output, sep='\\t', index=False)"
   ]
  }
 ],
 "metadata": {
  "kernelspec": {
   "display_name": "Python 3 (ipykernel)",
   "language": "python",
   "name": "python3"
  },
  "language_info": {
   "codemirror_mode": {
    "name": "ipython",
    "version": 3
   },
   "file_extension": ".py",
   "mimetype": "text/x-python",
   "name": "python",
   "nbconvert_exporter": "python",
   "pygments_lexer": "ipython3",
   "version": "3.8.10"
  },
  "papermill": {
   "default_parameters": {},
   "duration": 28.221508,
   "end_time": "2021-09-12T00:09:45.432364",
   "environment_variables": {},
   "exception": null,
   "input_path": "template-4-variants-comparison.ipynb",
   "output_path": "4-variants-comparison.simulation-alpha-5.0.ipynb",
   "parameters": {
    "iterations": 3,
    "mincov": 10,
    "read_coverage": 30,
    "simulation_dir": "simulations/alpha-5.0-cov-30",
    "sub_alpha": 5.0
   },
   "start_time": "2021-09-12T00:09:17.210856",
   "version": "2.3.3"
  }
 },
 "nbformat": 4,
 "nbformat_minor": 5
}