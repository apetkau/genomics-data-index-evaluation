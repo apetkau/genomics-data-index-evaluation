{
 "cells": [
  {
   "cell_type": "markdown",
   "id": "2f66aa00-6c01-46a5-8f31-0e579da614b2",
   "metadata": {
    "papermill": {
     "duration": 0.021606,
     "end_time": "2022-03-09T15:41:26.015652",
     "exception": false,
     "start_time": "2022-03-09T15:41:25.994046",
     "status": "completed"
    },
    "tags": []
   },
   "source": [
    "# 1. Parameters"
   ]
  },
  {
   "cell_type": "code",
   "execution_count": 1,
   "id": "f2cfe9b4-3c45-4e2e-9ba2-17f4119f5f6d",
   "metadata": {
    "execution": {
     "iopub.execute_input": "2022-03-09T15:41:26.048418Z",
     "iopub.status.busy": "2022-03-09T15:41:26.043186Z",
     "iopub.status.idle": "2022-03-09T15:41:26.053145Z",
     "shell.execute_reply": "2022-03-09T15:41:26.052166Z"
    },
    "papermill": {
     "duration": 0.026977,
     "end_time": "2022-03-09T15:41:26.053365",
     "exception": false,
     "start_time": "2022-03-09T15:41:26.026388",
     "status": "completed"
    },
    "tags": [
     "parameters"
    ]
   },
   "outputs": [],
   "source": [
    "# Defaults\n",
    "\n",
    "simulation_dir = 'simulations/unset'\n",
    "reference_file = 'simulations/reference/reference.fa.gz'"
   ]
  },
  {
   "cell_type": "code",
   "execution_count": 2,
   "id": "f33097c3",
   "metadata": {
    "execution": {
     "iopub.execute_input": "2022-03-09T15:41:26.086259Z",
     "iopub.status.busy": "2022-03-09T15:41:26.085869Z",
     "iopub.status.idle": "2022-03-09T15:41:26.088990Z",
     "shell.execute_reply": "2022-03-09T15:41:26.089570Z"
    },
    "papermill": {
     "duration": 0.019593,
     "end_time": "2022-03-09T15:41:26.089756",
     "exception": false,
     "start_time": "2022-03-09T15:41:26.070163",
     "status": "completed"
    },
    "tags": [
     "injected-parameters"
    ]
   },
   "outputs": [],
   "source": [
    "# Parameters\n",
    "read_coverage = 30\n",
    "mincov = 10\n",
    "simulation_dir = \"simulations/alpha-1.0-cov-30\"\n",
    "iterations = 3\n",
    "sub_alpha = 1.0\n"
   ]
  },
  {
   "cell_type": "code",
   "execution_count": 3,
   "id": "9ddaa924-b1ac-4740-8070-0eaa05b80e96",
   "metadata": {
    "execution": {
     "iopub.execute_input": "2022-03-09T15:41:26.121135Z",
     "iopub.status.busy": "2022-03-09T15:41:26.119975Z",
     "iopub.status.idle": "2022-03-09T15:41:26.122676Z",
     "shell.execute_reply": "2022-03-09T15:41:26.123559Z"
    },
    "papermill": {
     "duration": 0.020712,
     "end_time": "2022-03-09T15:41:26.123816",
     "exception": false,
     "start_time": "2022-03-09T15:41:26.103104",
     "status": "completed"
    },
    "tags": []
   },
   "outputs": [],
   "source": [
    "from pathlib import Path\n",
    "\n",
    "simulation_dir_path = Path(simulation_dir)\n",
    "\n",
    "case_name = str(simulation_dir_path.name)\n",
    "\n",
    "simulation_data_path = simulation_dir_path / 'simulated_data'\n",
    "simulated_variants_file = simulation_data_path / 'haplotypes.vcf.gz'\n",
    "\n",
    "case_name = str(simulation_dir_path.name)\n",
    "index_reads_path = simulation_dir_path / 'index-reads'\n",
    "index_assemblies_path = simulation_dir_path / 'index-assemblies'"
   ]
  },
  {
   "cell_type": "markdown",
   "id": "2b6c7ffd-d5d7-447f-ba62-7ec7d1b0b583",
   "metadata": {
    "papermill": {
     "duration": 0.010214,
     "end_time": "2022-03-09T15:41:26.151570",
     "exception": false,
     "start_time": "2022-03-09T15:41:26.141356",
     "status": "completed"
    },
    "tags": []
   },
   "source": [
    "# 2. Load simulated variants (VCF)"
   ]
  },
  {
   "cell_type": "code",
   "execution_count": 4,
   "id": "e01f3458-fb5e-4fc1-b1f0-69b7a9c9d033",
   "metadata": {
    "execution": {
     "iopub.execute_input": "2022-03-09T15:41:26.175004Z",
     "iopub.status.busy": "2022-03-09T15:41:26.174131Z",
     "iopub.status.idle": "2022-03-09T15:41:27.643791Z",
     "shell.execute_reply": "2022-03-09T15:41:27.644829Z"
    },
    "papermill": {
     "duration": 1.485707,
     "end_time": "2022-03-09T15:41:27.645154",
     "exception": false,
     "start_time": "2022-03-09T15:41:26.159447",
     "status": "completed"
    },
    "tags": []
   },
   "outputs": [
    {
     "data": {
      "text/html": [
       "<div>\n",
       "<style scoped>\n",
       "    .dataframe tbody tr th:only-of-type {\n",
       "        vertical-align: middle;\n",
       "    }\n",
       "\n",
       "    .dataframe tbody tr th {\n",
       "        vertical-align: top;\n",
       "    }\n",
       "\n",
       "    .dataframe thead th {\n",
       "        text-align: right;\n",
       "    }\n",
       "</style>\n",
       "<table border=\"1\" class=\"dataframe\">\n",
       "  <thead>\n",
       "    <tr style=\"text-align: right;\">\n",
       "      <th></th>\n",
       "      <th>CHROM</th>\n",
       "      <th>POS</th>\n",
       "      <th>REF</th>\n",
       "      <th>samples</th>\n",
       "    </tr>\n",
       "  </thead>\n",
       "  <tbody>\n",
       "    <tr>\n",
       "      <th>0</th>\n",
       "      <td>chrom0</td>\n",
       "      <td>7</td>\n",
       "      <td>C</td>\n",
       "      <td>[Call(sample=reference, CallData(GT=0, GQ=4414...</td>\n",
       "    </tr>\n",
       "    <tr>\n",
       "      <th>1</th>\n",
       "      <td>chrom0</td>\n",
       "      <td>14</td>\n",
       "      <td>G</td>\n",
       "      <td>[Call(sample=reference, CallData(GT=0, GQ=4414...</td>\n",
       "    </tr>\n",
       "    <tr>\n",
       "      <th>2</th>\n",
       "      <td>chrom0</td>\n",
       "      <td>22</td>\n",
       "      <td>A</td>\n",
       "      <td>[Call(sample=reference, CallData(GT=0, GQ=4414...</td>\n",
       "    </tr>\n",
       "    <tr>\n",
       "      <th>3</th>\n",
       "      <td>chrom0</td>\n",
       "      <td>27</td>\n",
       "      <td>A</td>\n",
       "      <td>[Call(sample=reference, CallData(GT=0, GQ=4414...</td>\n",
       "    </tr>\n",
       "    <tr>\n",
       "      <th>4</th>\n",
       "      <td>chrom0</td>\n",
       "      <td>42</td>\n",
       "      <td>G</td>\n",
       "      <td>[Call(sample=reference, CallData(GT=0, GQ=4414...</td>\n",
       "    </tr>\n",
       "  </tbody>\n",
       "</table>\n",
       "</div>"
      ],
      "text/plain": [
       "    CHROM  POS REF                                            samples\n",
       "0  chrom0    7   C  [Call(sample=reference, CallData(GT=0, GQ=4414...\n",
       "1  chrom0   14   G  [Call(sample=reference, CallData(GT=0, GQ=4414...\n",
       "2  chrom0   22   A  [Call(sample=reference, CallData(GT=0, GQ=4414...\n",
       "3  chrom0   27   A  [Call(sample=reference, CallData(GT=0, GQ=4414...\n",
       "4  chrom0   42   G  [Call(sample=reference, CallData(GT=0, GQ=4414..."
      ]
     },
     "execution_count": 4,
     "metadata": {},
     "output_type": "execute_result"
    }
   ],
   "source": [
    "import vcf\n",
    "import pandas as pd\n",
    "import time\n",
    "\n",
    "reader = vcf.Reader(filename=str(simulated_variants_file))\n",
    "simulated_df = pd.DataFrame([vars(r) for r in reader])\n",
    "simulated_df = simulated_df[['CHROM', 'POS', 'REF', 'samples']]\n",
    "simulated_df.head(5)"
   ]
  },
  {
   "cell_type": "markdown",
   "id": "f1c95d8a-de3e-4bb4-b13f-0f88e6466925",
   "metadata": {
    "papermill": {
     "duration": 0.010727,
     "end_time": "2022-03-09T15:41:27.676972",
     "exception": false,
     "start_time": "2022-03-09T15:41:27.666245",
     "status": "completed"
    },
    "tags": []
   },
   "source": [
    "## 2.1. Construct sample:variant identifiers"
   ]
  },
  {
   "cell_type": "code",
   "execution_count": 5,
   "id": "bac0a5e7-a844-47bb-9204-3b4711d0c329",
   "metadata": {
    "execution": {
     "iopub.execute_input": "2022-03-09T15:41:27.720665Z",
     "iopub.status.busy": "2022-03-09T15:41:27.719890Z",
     "iopub.status.idle": "2022-03-09T15:41:28.902347Z",
     "shell.execute_reply": "2022-03-09T15:41:28.903245Z"
    },
    "papermill": {
     "duration": 1.21806,
     "end_time": "2022-03-09T15:41:28.903544",
     "exception": false,
     "start_time": "2022-03-09T15:41:27.685484",
     "status": "completed"
    },
    "tags": []
   },
   "outputs": [
    {
     "name": "stdout",
     "output_type": "stream",
     "text": [
      "There are 52250 expected sample/variant pairs like: ['SH09-29:chrom0:7:C:A', 'SH10-30:chrom0:7:C:A', 'SH14-001:chrom0:7:C:A']\n",
      "Took 0.0 minutes\n"
     ]
    }
   ],
   "source": [
    "before = time.time()\n",
    "\n",
    "# Explode dataframe so that we have one row per sample\n",
    "simulated_df_exploded = simulated_df.explode('samples')\n",
    "simulated_df_exploded['SAMPLE'] = simulated_df_exploded['samples'].apply(lambda x: x.sample)\n",
    "\n",
    "# Extrat ALT for each sample\n",
    "simulated_df_exploded['ALT'] = simulated_df_exploded['samples'].apply(lambda x: x.gt_bases)\n",
    "\n",
    "# Only keep mutations/those where REF and ALT are different\n",
    "simulated_df_exploded = simulated_df_exploded[simulated_df_exploded['REF'] != simulated_df_exploded['ALT']]\n",
    "\n",
    "# Create SPDI-like identifier with Sample name for comparison (SAMPLE:CHROM:POS:REF:ALT)\n",
    "simulated_df_exploded['ID'] = simulated_df_exploded.apply(\n",
    "    lambda x: f\"{x['SAMPLE']}:{x['CHROM']}:{x['POS']}:{x['REF']}:{x['ALT']}\", axis='columns')\n",
    "\n",
    "simulated_variants = simulated_df_exploded['ID'].reset_index(drop=True)\n",
    "expected_sample_variants = set(simulated_variants)\n",
    "\n",
    "after = time.time()\n",
    "\n",
    "print(f'There are {len(expected_sample_variants)} expected sample/variant pairs like: '\n",
    "      f'{list(simulated_variants[0:3])}')\n",
    "print(f'Took {(after - before)/60:0.1f} minutes')"
   ]
  },
  {
   "cell_type": "code",
   "execution_count": 6,
   "id": "e3f05c50-a98a-431f-b8c8-a5083738255c",
   "metadata": {
    "execution": {
     "iopub.execute_input": "2022-03-09T15:41:28.966060Z",
     "iopub.status.busy": "2022-03-09T15:41:28.965499Z",
     "iopub.status.idle": "2022-03-09T15:41:28.968277Z",
     "shell.execute_reply": "2022-03-09T15:41:28.968847Z"
    },
    "papermill": {
     "duration": 0.041308,
     "end_time": "2022-03-09T15:41:28.969101",
     "exception": false,
     "start_time": "2022-03-09T15:41:28.927793",
     "status": "completed"
    },
    "tags": []
   },
   "outputs": [
    {
     "data": {
      "text/html": [
       "<div>\n",
       "<style scoped>\n",
       "    .dataframe tbody tr th:only-of-type {\n",
       "        vertical-align: middle;\n",
       "    }\n",
       "\n",
       "    .dataframe tbody tr th {\n",
       "        vertical-align: top;\n",
       "    }\n",
       "\n",
       "    .dataframe thead th {\n",
       "        text-align: right;\n",
       "    }\n",
       "</style>\n",
       "<table border=\"1\" class=\"dataframe\">\n",
       "  <thead>\n",
       "    <tr style=\"text-align: right;\">\n",
       "      <th></th>\n",
       "      <th>CHROM</th>\n",
       "      <th>POS</th>\n",
       "      <th>REF</th>\n",
       "      <th>samples</th>\n",
       "      <th>SAMPLE</th>\n",
       "      <th>ALT</th>\n",
       "      <th>ID</th>\n",
       "    </tr>\n",
       "  </thead>\n",
       "  <tbody>\n",
       "    <tr>\n",
       "      <th>0</th>\n",
       "      <td>chrom0</td>\n",
       "      <td>7</td>\n",
       "      <td>C</td>\n",
       "      <td>Call(sample=SH09-29, CallData(GT=1, GQ=441453))</td>\n",
       "      <td>SH09-29</td>\n",
       "      <td>A</td>\n",
       "      <td>SH09-29:chrom0:7:C:A</td>\n",
       "    </tr>\n",
       "    <tr>\n",
       "      <th>0</th>\n",
       "      <td>chrom0</td>\n",
       "      <td>7</td>\n",
       "      <td>C</td>\n",
       "      <td>Call(sample=SH10-30, CallData(GT=1, GQ=441453))</td>\n",
       "      <td>SH10-30</td>\n",
       "      <td>A</td>\n",
       "      <td>SH10-30:chrom0:7:C:A</td>\n",
       "    </tr>\n",
       "    <tr>\n",
       "      <th>0</th>\n",
       "      <td>chrom0</td>\n",
       "      <td>7</td>\n",
       "      <td>C</td>\n",
       "      <td>Call(sample=SH14-001, CallData(GT=1, GQ=441453))</td>\n",
       "      <td>SH14-001</td>\n",
       "      <td>A</td>\n",
       "      <td>SH14-001:chrom0:7:C:A</td>\n",
       "    </tr>\n",
       "    <tr>\n",
       "      <th>0</th>\n",
       "      <td>chrom0</td>\n",
       "      <td>7</td>\n",
       "      <td>C</td>\n",
       "      <td>Call(sample=SH14-010, CallData(GT=1, GQ=441453))</td>\n",
       "      <td>SH14-010</td>\n",
       "      <td>A</td>\n",
       "      <td>SH14-010:chrom0:7:C:A</td>\n",
       "    </tr>\n",
       "    <tr>\n",
       "      <th>0</th>\n",
       "      <td>chrom0</td>\n",
       "      <td>7</td>\n",
       "      <td>C</td>\n",
       "      <td>Call(sample=SH14-017, CallData(GT=1, GQ=441453))</td>\n",
       "      <td>SH14-017</td>\n",
       "      <td>A</td>\n",
       "      <td>SH14-017:chrom0:7:C:A</td>\n",
       "    </tr>\n",
       "    <tr>\n",
       "      <th>...</th>\n",
       "      <td>...</td>\n",
       "      <td>...</td>\n",
       "      <td>...</td>\n",
       "      <td>...</td>\n",
       "      <td>...</td>\n",
       "      <td>...</td>\n",
       "      <td>...</td>\n",
       "    </tr>\n",
       "    <tr>\n",
       "      <th>3409</th>\n",
       "      <td>chrom1</td>\n",
       "      <td>8865</td>\n",
       "      <td>A</td>\n",
       "      <td>Call(sample=SH13-002, CallData(GT=1, GQ=441453))</td>\n",
       "      <td>SH13-002</td>\n",
       "      <td>G</td>\n",
       "      <td>SH13-002:chrom1:8865:A:G</td>\n",
       "    </tr>\n",
       "    <tr>\n",
       "      <th>3409</th>\n",
       "      <td>chrom1</td>\n",
       "      <td>8865</td>\n",
       "      <td>A</td>\n",
       "      <td>Call(sample=SH13-001, CallData(GT=1, GQ=441453))</td>\n",
       "      <td>SH13-001</td>\n",
       "      <td>G</td>\n",
       "      <td>SH13-001:chrom1:8865:A:G</td>\n",
       "    </tr>\n",
       "    <tr>\n",
       "      <th>3409</th>\n",
       "      <td>chrom1</td>\n",
       "      <td>8865</td>\n",
       "      <td>A</td>\n",
       "      <td>Call(sample=SH13-007, CallData(GT=1, GQ=441453))</td>\n",
       "      <td>SH13-007</td>\n",
       "      <td>G</td>\n",
       "      <td>SH13-007:chrom1:8865:A:G</td>\n",
       "    </tr>\n",
       "    <tr>\n",
       "      <th>3409</th>\n",
       "      <td>chrom1</td>\n",
       "      <td>8865</td>\n",
       "      <td>A</td>\n",
       "      <td>Call(sample=SH13-008, CallData(GT=1, GQ=441453))</td>\n",
       "      <td>SH13-008</td>\n",
       "      <td>G</td>\n",
       "      <td>SH13-008:chrom1:8865:A:G</td>\n",
       "    </tr>\n",
       "    <tr>\n",
       "      <th>3409</th>\n",
       "      <td>chrom1</td>\n",
       "      <td>8865</td>\n",
       "      <td>A</td>\n",
       "      <td>Call(sample=SH13-004, CallData(GT=1, GQ=441453))</td>\n",
       "      <td>SH13-004</td>\n",
       "      <td>G</td>\n",
       "      <td>SH13-004:chrom1:8865:A:G</td>\n",
       "    </tr>\n",
       "  </tbody>\n",
       "</table>\n",
       "<p>52250 rows × 7 columns</p>\n",
       "</div>"
      ],
      "text/plain": [
       "       CHROM   POS REF                                           samples  \\\n",
       "0     chrom0     7   C   Call(sample=SH09-29, CallData(GT=1, GQ=441453))   \n",
       "0     chrom0     7   C   Call(sample=SH10-30, CallData(GT=1, GQ=441453))   \n",
       "0     chrom0     7   C  Call(sample=SH14-001, CallData(GT=1, GQ=441453))   \n",
       "0     chrom0     7   C  Call(sample=SH14-010, CallData(GT=1, GQ=441453))   \n",
       "0     chrom0     7   C  Call(sample=SH14-017, CallData(GT=1, GQ=441453))   \n",
       "...      ...   ...  ..                                               ...   \n",
       "3409  chrom1  8865   A  Call(sample=SH13-002, CallData(GT=1, GQ=441453))   \n",
       "3409  chrom1  8865   A  Call(sample=SH13-001, CallData(GT=1, GQ=441453))   \n",
       "3409  chrom1  8865   A  Call(sample=SH13-007, CallData(GT=1, GQ=441453))   \n",
       "3409  chrom1  8865   A  Call(sample=SH13-008, CallData(GT=1, GQ=441453))   \n",
       "3409  chrom1  8865   A  Call(sample=SH13-004, CallData(GT=1, GQ=441453))   \n",
       "\n",
       "        SAMPLE ALT                        ID  \n",
       "0      SH09-29   A      SH09-29:chrom0:7:C:A  \n",
       "0      SH10-30   A      SH10-30:chrom0:7:C:A  \n",
       "0     SH14-001   A     SH14-001:chrom0:7:C:A  \n",
       "0     SH14-010   A     SH14-010:chrom0:7:C:A  \n",
       "0     SH14-017   A     SH14-017:chrom0:7:C:A  \n",
       "...        ...  ..                       ...  \n",
       "3409  SH13-002   G  SH13-002:chrom1:8865:A:G  \n",
       "3409  SH13-001   G  SH13-001:chrom1:8865:A:G  \n",
       "3409  SH13-007   G  SH13-007:chrom1:8865:A:G  \n",
       "3409  SH13-008   G  SH13-008:chrom1:8865:A:G  \n",
       "3409  SH13-004   G  SH13-004:chrom1:8865:A:G  \n",
       "\n",
       "[52250 rows x 7 columns]"
      ]
     },
     "execution_count": 6,
     "metadata": {},
     "output_type": "execute_result"
    }
   ],
   "source": [
    "simulated_df_exploded"
   ]
  },
  {
   "cell_type": "markdown",
   "id": "85d49181-9782-48b6-bdef-dfa2b19cd6b6",
   "metadata": {
    "papermill": {
     "duration": 0.009348,
     "end_time": "2022-03-09T15:41:28.991032",
     "exception": false,
     "start_time": "2022-03-09T15:41:28.981684",
     "status": "completed"
    },
    "tags": []
   },
   "source": [
    "## 1.2. Load reference genome for use with positive/negative calculations"
   ]
  },
  {
   "cell_type": "code",
   "execution_count": 7,
   "id": "bfaacd7f-746e-452a-9b4b-cb4526424b13",
   "metadata": {
    "execution": {
     "iopub.execute_input": "2022-03-09T15:41:29.018419Z",
     "iopub.status.busy": "2022-03-09T15:41:29.017827Z",
     "iopub.status.idle": "2022-03-09T15:41:29.096123Z",
     "shell.execute_reply": "2022-03-09T15:41:29.097080Z"
    },
    "papermill": {
     "duration": 0.0972,
     "end_time": "2022-03-09T15:41:29.097357",
     "exception": false,
     "start_time": "2022-03-09T15:41:29.000157",
     "status": "completed"
    },
    "tags": []
   },
   "outputs": [
    {
     "name": "stdout",
     "output_type": "stream",
     "text": [
      "Reference length: 10834\n",
      "Number samples: 59\n"
     ]
    }
   ],
   "source": [
    "import gzip\n",
    "from Bio import SeqIO\n",
    "\n",
    "with gzip.open(reference_file, mode='rt') as f:\n",
    "    sequences = list(SeqIO.parse(f, 'fasta'))\n",
    "    reference_length = len(sequences[0])\n",
    "    \n",
    "sample_names = set(simulated_df_exploded.groupby('SAMPLE').agg({'SAMPLE': 'count'}).index)\n",
    "sample_names = sample_names - {'reference'}\n",
    "number_samples = len(sample_names)\n",
    "\n",
    "print(f'Reference length: {reference_length}')\n",
    "print(f'Number samples: {number_samples}')"
   ]
  },
  {
   "cell_type": "markdown",
   "id": "31d39af6-8bcb-416b-ba4c-38c06fc6085e",
   "metadata": {
    "papermill": {
     "duration": 0.010896,
     "end_time": "2022-03-09T15:41:29.129847",
     "exception": false,
     "start_time": "2022-03-09T15:41:29.118951",
     "status": "completed"
    },
    "tags": []
   },
   "source": [
    "# 3. Load detected variants\n",
    "\n",
    "## 3.1. Load from reads index"
   ]
  },
  {
   "cell_type": "code",
   "execution_count": 8,
   "id": "89978058-5e1b-4c20-ba21-fc23daa74dcb",
   "metadata": {
    "execution": {
     "iopub.execute_input": "2022-03-09T15:41:29.156226Z",
     "iopub.status.busy": "2022-03-09T15:41:29.155826Z",
     "iopub.status.idle": "2022-03-09T15:41:39.046667Z",
     "shell.execute_reply": "2022-03-09T15:41:39.047555Z"
    },
    "papermill": {
     "duration": 9.909113,
     "end_time": "2022-03-09T15:41:39.047860",
     "exception": false,
     "start_time": "2022-03-09T15:41:29.138747",
     "status": "completed"
    },
    "tags": []
   },
   "outputs": [
    {
     "name": "stdout",
     "output_type": "stream",
     "text": [
      "There are 41800 actual sample/variant pairs (reads)\n",
      "Took 0.1 minutes\n",
      "Actual variants look like: ['SH12-014:chrom1:5799:G:A', 'SH12-005:chrom0:3521:A:G', 'SH14-005:chrom0:2839:T:C', 'SH13-005:chrom1:6546:G:A', 'SH14-016:chrom0:6024:A:G']\n"
     ]
    }
   ],
   "source": [
    "from typing import Set\n",
    "import genomics_data_index.api as gdi\n",
    "\n",
    "def get_sample_variant_idenifiers(index_dir: Path) -> Set[str]:\n",
    "    db = gdi.GenomicsDataIndex.connect(index_dir)\n",
    "    q = db.samples_query()\n",
    "\n",
    "    actual_sample_variants = set()\n",
    "    for sample in q.tolist():\n",
    "        sample_features = q.isa(sample).features_summary().reset_index()\n",
    "        sample_features_set = set(sample_features['Mutation'].apply(lambda x: f\"{sample}:{x}\"))\n",
    "        actual_sample_variants.update(sample_features_set)\n",
    "    return actual_sample_variants\n",
    "\n",
    "before = time.time()\n",
    "actual_sample_variants_reads = get_sample_variant_idenifiers(index_reads_path)\n",
    "after = time.time()\n",
    "\n",
    "print(f'There are {len(actual_sample_variants_reads)} actual sample/variant pairs (reads)')\n",
    "print(f'Took {(after - before)/60:0.1f} minutes')\n",
    "print(f'Actual variants look like: {list(actual_sample_variants_reads)[0:5]}')"
   ]
  },
  {
   "cell_type": "markdown",
   "id": "4eb6bf76-40f0-449f-8cac-72679f484e8c",
   "metadata": {
    "papermill": {
     "duration": 0.011349,
     "end_time": "2022-03-09T15:41:39.081671",
     "exception": false,
     "start_time": "2022-03-09T15:41:39.070322",
     "status": "completed"
    },
    "tags": []
   },
   "source": [
    "## 2.2. Load from assemblies index"
   ]
  },
  {
   "cell_type": "code",
   "execution_count": 9,
   "id": "b91c4675-1b29-4a1c-b976-ba88a80d2c78",
   "metadata": {
    "execution": {
     "iopub.execute_input": "2022-03-09T15:41:39.106899Z",
     "iopub.status.busy": "2022-03-09T15:41:39.106494Z",
     "iopub.status.idle": "2022-03-09T15:41:46.963809Z",
     "shell.execute_reply": "2022-03-09T15:41:46.964723Z"
    },
    "papermill": {
     "duration": 7.874264,
     "end_time": "2022-03-09T15:41:46.965036",
     "exception": false,
     "start_time": "2022-03-09T15:41:39.090772",
     "status": "completed"
    },
    "tags": []
   },
   "outputs": [
    {
     "name": "stderr",
     "output_type": "stream",
     "text": [
      "Attempting to set global database_path_translator=<genomics_data_index.storage.model.db.DatabasePathTranslator.DatabasePathTranslator object at 0x7f2595935e80> but it is already set\n"
     ]
    },
    {
     "name": "stdout",
     "output_type": "stream",
     "text": [
      "There are 49552 actual sample/variant pairs (assemblies)\n",
      "Took 0.1 minutes\n"
     ]
    }
   ],
   "source": [
    "before = time.time()\n",
    "actual_sample_variants_assemblies = get_sample_variant_idenifiers(index_assemblies_path)\n",
    "after = time.time()\n",
    "\n",
    "print(f'There are {len(actual_sample_variants_assemblies)} actual sample/variant pairs (assemblies)')\n",
    "print(f'Took {(after - before)/60:0.1f} minutes')"
   ]
  },
  {
   "cell_type": "markdown",
   "id": "52efd18a-5198-45cc-a092-4dfaba600ca1",
   "metadata": {
    "papermill": {
     "duration": 0.010922,
     "end_time": "2022-03-09T15:41:46.995684",
     "exception": false,
     "start_time": "2022-03-09T15:41:46.984762",
     "status": "completed"
    },
    "tags": []
   },
   "source": [
    "# 3. Compare expected/actual variants\n",
    "\n",
    "## 3.1. Compare with reads index"
   ]
  },
  {
   "cell_type": "code",
   "execution_count": 10,
   "id": "3897d419-cc74-49d0-92d6-371f365f3ff1",
   "metadata": {
    "execution": {
     "iopub.execute_input": "2022-03-09T15:41:47.055079Z",
     "iopub.status.busy": "2022-03-09T15:41:47.053904Z",
     "iopub.status.idle": "2022-03-09T15:41:47.060714Z",
     "shell.execute_reply": "2022-03-09T15:41:47.059739Z"
    },
    "papermill": {
     "duration": 0.055717,
     "end_time": "2022-03-09T15:41:47.060944",
     "exception": false,
     "start_time": "2022-03-09T15:41:47.005227",
     "status": "completed"
    },
    "tags": []
   },
   "outputs": [
    {
     "name": "stdout",
     "output_type": "stream",
     "text": [
      "Sensitivity: 0.6626\n",
      "Specificity: ~1 (not calculated)\n",
      "Precision: 0.8283\n",
      "F1 Score: 0.7362\n"
     ]
    },
    {
     "data": {
      "text/html": [
       "<div>\n",
       "<style scoped>\n",
       "    .dataframe tbody tr th:only-of-type {\n",
       "        vertical-align: middle;\n",
       "    }\n",
       "\n",
       "    .dataframe tbody tr th {\n",
       "        vertical-align: top;\n",
       "    }\n",
       "\n",
       "    .dataframe thead th {\n",
       "        text-align: right;\n",
       "    }\n",
       "</style>\n",
       "<table border=\"1\" class=\"dataframe\">\n",
       "  <thead>\n",
       "    <tr style=\"text-align: right;\">\n",
       "      <th></th>\n",
       "      <th>Name</th>\n",
       "      <th>True Positives</th>\n",
       "      <th>True Negatives</th>\n",
       "      <th>False Positives</th>\n",
       "      <th>False Negatives</th>\n",
       "      <th>Sensitivity</th>\n",
       "      <th>Specificity</th>\n",
       "      <th>Precision</th>\n",
       "      <th>F1 Score</th>\n",
       "    </tr>\n",
       "  </thead>\n",
       "  <tbody>\n",
       "    <tr>\n",
       "      <th>0</th>\n",
       "      <td>alpha-1.0-cov-30 reads</td>\n",
       "      <td>34621</td>\n",
       "      <td>&lt;NA&gt;</td>\n",
       "      <td>7179</td>\n",
       "      <td>17629</td>\n",
       "      <td>0.662603</td>\n",
       "      <td>~1 (not calculated)</td>\n",
       "      <td>0.828254</td>\n",
       "      <td>0.736225</td>\n",
       "    </tr>\n",
       "  </tbody>\n",
       "</table>\n",
       "</div>"
      ],
      "text/plain": [
       "                     Name  True Positives True Negatives  False Positives  \\\n",
       "0  alpha-1.0-cov-30 reads           34621           <NA>             7179   \n",
       "\n",
       "   False Negatives  Sensitivity          Specificity  Precision  F1 Score  \n",
       "0            17629     0.662603  ~1 (not calculated)   0.828254  0.736225  "
      ]
     },
     "execution_count": 10,
     "metadata": {},
     "output_type": "execute_result"
    }
   ],
   "source": [
    "def compare_expected_actual(name: str, actual_sample_variants: Set[str]) -> pd.DataFrame:\n",
    "    number_expected = len(expected_sample_variants)\n",
    "    number_actual = len(actual_sample_variants)\n",
    "\n",
    "    true_positives = actual_sample_variants & expected_sample_variants\n",
    "    false_negatives = expected_sample_variants - actual_sample_variants\n",
    "    false_positives = actual_sample_variants - expected_sample_variants\n",
    "    # I cannot get true negatives since I would need to know the total number of negatives (i.e., all possible \n",
    "    #  variants with respect to the reference genome that were not simulated). This would be a finite, but \n",
    "    #  very very large number (and I haven't worked out how to calculate it).\n",
    "    # For example, one negative is Sample:1:A:T, another negative is Sample:1:AG:TT, and so on for the entire \n",
    "    # length of the genome.\n",
    "    # true_negatives = set()\n",
    "\n",
    "    sensitivity = len(true_positives) / (len(true_positives) + len(false_negatives))\n",
    "    precision = len(true_positives) / (len(true_positives) + len(false_positives))\n",
    "    f1_score = 2 * len(true_positives) / (2 * len(true_positives) + len(false_positives) + len(false_negatives))\n",
    "\n",
    "    # Since true_negatives are a very large number, then for all intents and purposes\n",
    "    # specificity will be very very close to 1. So instead of trying to calculate it\n",
    "    # I just call it ~1, but it's also not very useful because of this.\n",
    "    #specificity = len(true_negatives) / (len(true_negatives) + len(false_positives))\n",
    "    specificity = '~1 (not calculated)'\n",
    "\n",
    "    print(f'Sensitivity: {sensitivity:0.4f}')\n",
    "    print(f'Specificity: {specificity}')\n",
    "    print(f'Precision: {precision:0.4f}')\n",
    "    print(f'F1 Score: {f1_score:0.4f}')\n",
    "    \n",
    "    comparison_df = pd.DataFrame([{\n",
    "        'Name': name,\n",
    "        'True Positives': len(true_positives),\n",
    "        'True Negatives': pd.NA,\n",
    "        'False Positives': len(false_positives),\n",
    "        'False Negatives': len(false_negatives),\n",
    "        'Sensitivity': sensitivity,\n",
    "        'Specificity': specificity,\n",
    "        'Precision': precision,\n",
    "        'F1 Score': f1_score,\n",
    "    }])\n",
    "    \n",
    "    data = {\n",
    "        'tp': true_positives,\n",
    "        'fp': false_positives,\n",
    "        'fn': false_negatives\n",
    "    }\n",
    "    \n",
    "    return comparison_df, data\n",
    "    \n",
    "comparison_reads_df, data_reads = compare_expected_actual(name=f'{case_name} reads',\n",
    "                                                          actual_sample_variants=actual_sample_variants_reads)\n",
    "comparison_reads_df"
   ]
  },
  {
   "cell_type": "markdown",
   "id": "d5f3bf59-c828-40e1-9394-f0c40a73dfa6",
   "metadata": {
    "papermill": {
     "duration": 0.011139,
     "end_time": "2022-03-09T15:41:47.092385",
     "exception": false,
     "start_time": "2022-03-09T15:41:47.081246",
     "status": "completed"
    },
    "tags": []
   },
   "source": [
    "## 3.2. Compare with assemblies index"
   ]
  },
  {
   "cell_type": "code",
   "execution_count": 11,
   "id": "341de1ba-a120-471c-97f8-f85537dca10b",
   "metadata": {
    "execution": {
     "iopub.execute_input": "2022-03-09T15:41:47.148336Z",
     "iopub.status.busy": "2022-03-09T15:41:47.147215Z",
     "iopub.status.idle": "2022-03-09T15:41:47.153956Z",
     "shell.execute_reply": "2022-03-09T15:41:47.153007Z"
    },
    "papermill": {
     "duration": 0.051889,
     "end_time": "2022-03-09T15:41:47.154181",
     "exception": false,
     "start_time": "2022-03-09T15:41:47.102292",
     "status": "completed"
    },
    "tags": []
   },
   "outputs": [
    {
     "name": "stdout",
     "output_type": "stream",
     "text": [
      "Sensitivity: 0.9484\n",
      "Specificity: ~1 (not calculated)\n",
      "Precision: 1.0000\n",
      "F1 Score: 0.9735\n"
     ]
    },
    {
     "data": {
      "text/html": [
       "<div>\n",
       "<style scoped>\n",
       "    .dataframe tbody tr th:only-of-type {\n",
       "        vertical-align: middle;\n",
       "    }\n",
       "\n",
       "    .dataframe tbody tr th {\n",
       "        vertical-align: top;\n",
       "    }\n",
       "\n",
       "    .dataframe thead th {\n",
       "        text-align: right;\n",
       "    }\n",
       "</style>\n",
       "<table border=\"1\" class=\"dataframe\">\n",
       "  <thead>\n",
       "    <tr style=\"text-align: right;\">\n",
       "      <th></th>\n",
       "      <th>Name</th>\n",
       "      <th>True Positives</th>\n",
       "      <th>True Negatives</th>\n",
       "      <th>False Positives</th>\n",
       "      <th>False Negatives</th>\n",
       "      <th>Sensitivity</th>\n",
       "      <th>Specificity</th>\n",
       "      <th>Precision</th>\n",
       "      <th>F1 Score</th>\n",
       "    </tr>\n",
       "  </thead>\n",
       "  <tbody>\n",
       "    <tr>\n",
       "      <th>0</th>\n",
       "      <td>alpha-1.0-cov-30 assemblies</td>\n",
       "      <td>49552</td>\n",
       "      <td>&lt;NA&gt;</td>\n",
       "      <td>0</td>\n",
       "      <td>2698</td>\n",
       "      <td>0.948364</td>\n",
       "      <td>~1 (not calculated)</td>\n",
       "      <td>1.0</td>\n",
       "      <td>0.973498</td>\n",
       "    </tr>\n",
       "  </tbody>\n",
       "</table>\n",
       "</div>"
      ],
      "text/plain": [
       "                          Name  True Positives True Negatives  \\\n",
       "0  alpha-1.0-cov-30 assemblies           49552           <NA>   \n",
       "\n",
       "   False Positives  False Negatives  Sensitivity          Specificity  \\\n",
       "0                0             2698     0.948364  ~1 (not calculated)   \n",
       "\n",
       "   Precision  F1 Score  \n",
       "0        1.0  0.973498  "
      ]
     },
     "execution_count": 11,
     "metadata": {},
     "output_type": "execute_result"
    }
   ],
   "source": [
    "comparison_assemblies_df, data_assemblies = compare_expected_actual(name=f'{case_name} assemblies',\n",
    "                                                                    actual_sample_variants=actual_sample_variants_assemblies)\n",
    "comparison_assemblies_df"
   ]
  },
  {
   "cell_type": "markdown",
   "id": "13ddcf68-f5d4-494f-8a13-e9325390b953",
   "metadata": {
    "papermill": {
     "duration": 0.011723,
     "end_time": "2022-03-09T15:41:47.187688",
     "exception": false,
     "start_time": "2022-03-09T15:41:47.175965",
     "status": "completed"
    },
    "tags": []
   },
   "source": [
    "## 3.3. Combine results"
   ]
  },
  {
   "cell_type": "code",
   "execution_count": 12,
   "id": "17df418e-5244-4000-b9f9-2f35f8ce998f",
   "metadata": {
    "execution": {
     "iopub.execute_input": "2022-03-09T15:41:47.228127Z",
     "iopub.status.busy": "2022-03-09T15:41:47.227009Z",
     "iopub.status.idle": "2022-03-09T15:41:47.231290Z",
     "shell.execute_reply": "2022-03-09T15:41:47.232183Z"
    },
    "papermill": {
     "duration": 0.03453,
     "end_time": "2022-03-09T15:41:47.232441",
     "exception": false,
     "start_time": "2022-03-09T15:41:47.197911",
     "status": "completed"
    },
    "tags": []
   },
   "outputs": [
    {
     "data": {
      "text/html": [
       "<div>\n",
       "<style scoped>\n",
       "    .dataframe tbody tr th:only-of-type {\n",
       "        vertical-align: middle;\n",
       "    }\n",
       "\n",
       "    .dataframe tbody tr th {\n",
       "        vertical-align: top;\n",
       "    }\n",
       "\n",
       "    .dataframe thead th {\n",
       "        text-align: right;\n",
       "    }\n",
       "</style>\n",
       "<table border=\"1\" class=\"dataframe\">\n",
       "  <thead>\n",
       "    <tr style=\"text-align: right;\">\n",
       "      <th></th>\n",
       "      <th>Name</th>\n",
       "      <th>True Positives</th>\n",
       "      <th>True Negatives</th>\n",
       "      <th>False Positives</th>\n",
       "      <th>False Negatives</th>\n",
       "      <th>Sensitivity</th>\n",
       "      <th>Specificity</th>\n",
       "      <th>Precision</th>\n",
       "      <th>F1 Score</th>\n",
       "    </tr>\n",
       "  </thead>\n",
       "  <tbody>\n",
       "    <tr>\n",
       "      <th>0</th>\n",
       "      <td>alpha-1.0-cov-30 reads</td>\n",
       "      <td>34621</td>\n",
       "      <td>&lt;NA&gt;</td>\n",
       "      <td>7179</td>\n",
       "      <td>17629</td>\n",
       "      <td>0.662603</td>\n",
       "      <td>~1 (not calculated)</td>\n",
       "      <td>0.828254</td>\n",
       "      <td>0.736225</td>\n",
       "    </tr>\n",
       "    <tr>\n",
       "      <th>0</th>\n",
       "      <td>alpha-1.0-cov-30 assemblies</td>\n",
       "      <td>49552</td>\n",
       "      <td>&lt;NA&gt;</td>\n",
       "      <td>0</td>\n",
       "      <td>2698</td>\n",
       "      <td>0.948364</td>\n",
       "      <td>~1 (not calculated)</td>\n",
       "      <td>1.000000</td>\n",
       "      <td>0.973498</td>\n",
       "    </tr>\n",
       "  </tbody>\n",
       "</table>\n",
       "</div>"
      ],
      "text/plain": [
       "                          Name  True Positives True Negatives  \\\n",
       "0       alpha-1.0-cov-30 reads           34621           <NA>   \n",
       "0  alpha-1.0-cov-30 assemblies           49552           <NA>   \n",
       "\n",
       "   False Positives  False Negatives  Sensitivity          Specificity  \\\n",
       "0             7179            17629     0.662603  ~1 (not calculated)   \n",
       "0                0             2698     0.948364  ~1 (not calculated)   \n",
       "\n",
       "   Precision  F1 Score  \n",
       "0   0.828254  0.736225  \n",
       "0   1.000000  0.973498  "
      ]
     },
     "execution_count": 12,
     "metadata": {},
     "output_type": "execute_result"
    }
   ],
   "source": [
    "results_df = pd.concat([comparison_reads_df, comparison_assemblies_df])\n",
    "results_df"
   ]
  },
  {
   "cell_type": "code",
   "execution_count": 13,
   "id": "20211251-04f9-4a94-ae10-473c6d52aaf2",
   "metadata": {
    "execution": {
     "iopub.execute_input": "2022-03-09T15:41:47.276006Z",
     "iopub.status.busy": "2022-03-09T15:41:47.275610Z",
     "iopub.status.idle": "2022-03-09T15:41:47.289263Z",
     "shell.execute_reply": "2022-03-09T15:41:47.290106Z"
    },
    "papermill": {
     "duration": 0.031672,
     "end_time": "2022-03-09T15:41:47.290407",
     "exception": false,
     "start_time": "2022-03-09T15:41:47.258735",
     "status": "completed"
    },
    "tags": []
   },
   "outputs": [],
   "source": [
    "results_df_output = simulation_dir_path / 'variants-comparison.tsv'\n",
    "results_df.to_csv(results_df_output, sep='\\t', index=False)"
   ]
  }
 ],
 "metadata": {
  "kernelspec": {
   "display_name": "Python 3 (ipykernel)",
   "language": "python",
   "name": "python3"
  },
  "language_info": {
   "codemirror_mode": {
    "name": "ipython",
    "version": 3
   },
   "file_extension": ".py",
   "mimetype": "text/x-python",
   "name": "python",
   "nbconvert_exporter": "python",
   "pygments_lexer": "ipython3",
   "version": "3.8.12"
  },
  "papermill": {
   "default_parameters": {},
   "duration": 23.45331,
   "end_time": "2022-03-09T15:41:48.038969",
   "environment_variables": {},
   "exception": null,
   "input_path": "template-4-variants-comparison.ipynb",
   "output_path": "4-variants-comparison.simulation-alpha-1.0.ipynb",
   "parameters": {
    "iterations": 3,
    "mincov": 10,
    "read_coverage": 30,
    "simulation_dir": "simulations/alpha-1.0-cov-30",
    "sub_alpha": 1.0
   },
   "start_time": "2022-03-09T15:41:24.585659",
   "version": "2.3.4"
  }
 },
 "nbformat": 4,
 "nbformat_minor": 5
}