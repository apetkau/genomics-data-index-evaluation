{
 "cells": [
  {
   "cell_type": "markdown",
   "id": "7d3667b4-b1f8-4347-96e3-830c25b06740",
   "metadata": {
    "papermill": {
     "duration": 0.018834,
     "end_time": "2021-09-02T05:04:09.541139",
     "exception": false,
     "start_time": "2021-09-02T05:04:09.522305",
     "status": "completed"
    },
    "tags": []
   },
   "source": [
    "# 1. Parameters"
   ]
  },
  {
   "cell_type": "code",
   "execution_count": 1,
   "id": "d4ab0749-b286-4c34-b63c-a854e4952bae",
   "metadata": {
    "execution": {
     "iopub.execute_input": "2021-09-02T05:04:09.573238Z",
     "iopub.status.busy": "2021-09-02T05:04:09.572691Z",
     "iopub.status.idle": "2021-09-02T05:04:09.578180Z",
     "shell.execute_reply": "2021-09-02T05:04:09.579021Z"
    },
    "papermill": {
     "duration": 0.028214,
     "end_time": "2021-09-02T05:04:09.579439",
     "exception": false,
     "start_time": "2021-09-02T05:04:09.551225",
     "status": "completed"
    },
    "tags": [
     "parameters"
    ]
   },
   "outputs": [],
   "source": [
    "# Defaults\n",
    "simulation_dir = 'simulations/unset'\n",
    "reference_file = 'simulations/reference/reference.fa.gz'\n",
    "iterations = 3\n",
    "mincov = 10\n",
    "ncores = 32"
   ]
  },
  {
   "cell_type": "code",
   "execution_count": 2,
   "id": "c0058447",
   "metadata": {
    "execution": {
     "iopub.execute_input": "2021-09-02T05:04:09.612880Z",
     "iopub.status.busy": "2021-09-02T05:04:09.612472Z",
     "iopub.status.idle": "2021-09-02T05:04:09.615572Z",
     "shell.execute_reply": "2021-09-02T05:04:09.615870Z"
    },
    "papermill": {
     "duration": 0.019016,
     "end_time": "2021-09-02T05:04:09.615978",
     "exception": false,
     "start_time": "2021-09-02T05:04:09.596962",
     "status": "completed"
    },
    "tags": [
     "injected-parameters"
    ]
   },
   "outputs": [],
   "source": [
    "# Parameters\n",
    "read_coverage = 50\n",
    "mincov = 10\n",
    "simulation_dir = \"simulations/cov-50\"\n",
    "iterations = 3\n"
   ]
  },
  {
   "cell_type": "code",
   "execution_count": 3,
   "id": "ce5962e4-261c-4210-b39b-47044e28466b",
   "metadata": {
    "execution": {
     "iopub.execute_input": "2021-09-02T05:04:09.641036Z",
     "iopub.status.busy": "2021-09-02T05:04:09.640617Z",
     "iopub.status.idle": "2021-09-02T05:04:12.085097Z",
     "shell.execute_reply": "2021-09-02T05:04:12.084094Z"
    },
    "papermill": {
     "duration": 2.460691,
     "end_time": "2021-09-02T05:04:12.085346",
     "exception": false,
     "start_time": "2021-09-02T05:04:09.624655",
     "status": "completed"
    },
    "tags": []
   },
   "outputs": [],
   "source": [
    "from pathlib import Path\n",
    "import imp\n",
    "fp, pathname, description = imp.find_module('gdi_benchmark', ['../../lib'])\n",
    "gdi_benchmark = imp.load_module('gdi_benchmark', fp, pathname, description)\n",
    "\n",
    "simulation_dir_path = Path(simulation_dir)\n",
    "\n",
    "case_name = str(simulation_dir_path.name)\n",
    "reads_dir = simulation_dir_path / 'simulated_data' / 'reads'\n",
    "assemblies_dir = simulation_dir_path / 'simulated_data' / 'assemblies'\n",
    "index_reads_path = simulation_dir_path / 'index-reads'\n",
    "index_assemblies_path = simulation_dir_path / 'index-assemblies'\n",
    "output_reads_tree = index_reads_path / 'reads.tre'\n",
    "output_assemblies_tree = index_assemblies_path / 'assemblies.tre'\n",
    "reference_name = Path(reference_file).name.split('.')[0]"
   ]
  },
  {
   "cell_type": "markdown",
   "id": "f208279e-7558-47fc-9362-da29df92828a",
   "metadata": {
    "papermill": {
     "duration": 0.009275,
     "end_time": "2021-09-02T05:04:12.111069",
     "exception": false,
     "start_time": "2021-09-02T05:04:12.101794",
     "status": "completed"
    },
    "tags": []
   },
   "source": [
    "# 2. Index genomes"
   ]
  },
  {
   "cell_type": "code",
   "execution_count": 4,
   "id": "4e936f7c-2fcd-4188-b0e6-6b3ceb5cdcd2",
   "metadata": {
    "execution": {
     "iopub.execute_input": "2021-09-02T05:04:12.141735Z",
     "iopub.status.busy": "2021-09-02T05:04:12.133827Z",
     "iopub.status.idle": "2021-09-02T05:04:15.037920Z",
     "shell.execute_reply": "2021-09-02T05:04:15.038756Z"
    },
    "papermill": {
     "duration": 2.920698,
     "end_time": "2021-09-02T05:04:15.039059",
     "exception": false,
     "start_time": "2021-09-02T05:04:12.118361",
     "status": "completed"
    },
    "tags": []
   },
   "outputs": [
    {
     "name": "stdout",
     "output_type": "stream",
     "text": [
      "gdi, version 0.3.0.dev9\r\n"
     ]
    }
   ],
   "source": [
    "!gdi --version"
   ]
  },
  {
   "cell_type": "markdown",
   "id": "5409ecf8-2158-4361-9d2f-6b1a6c7c63a6",
   "metadata": {
    "papermill": {
     "duration": 0.010491,
     "end_time": "2021-09-02T05:04:15.068108",
     "exception": false,
     "start_time": "2021-09-02T05:04:15.057617",
     "status": "completed"
    },
    "tags": []
   },
   "source": [
    "## 2.1. Index reads"
   ]
  },
  {
   "cell_type": "code",
   "execution_count": 5,
   "id": "b5324f79-913b-4dac-8122-19ad5c0f24b2",
   "metadata": {
    "execution": {
     "iopub.execute_input": "2021-09-02T05:04:15.103534Z",
     "iopub.status.busy": "2021-09-02T05:04:15.102406Z",
     "iopub.status.idle": "2021-09-02T05:04:17.997205Z",
     "shell.execute_reply": "2021-09-02T05:04:17.998088Z"
    },
    "papermill": {
     "duration": 2.92271,
     "end_time": "2021-09-02T05:04:17.998419",
     "exception": false,
     "start_time": "2021-09-02T05:04:15.075709",
     "status": "completed"
    },
    "tags": []
   },
   "outputs": [],
   "source": [
    "input_genomes_file = simulation_dir_path / 'input-reads.tsv'\n",
    "\n",
    "!gdi input --absolute {reads_dir}/*.fq.gz > {input_genomes_file}"
   ]
  },
  {
   "cell_type": "code",
   "execution_count": 6,
   "id": "3d63e861-733e-46f2-8bce-bd1a2c7c7058",
   "metadata": {
    "execution": {
     "iopub.execute_input": "2021-09-02T05:04:18.036776Z",
     "iopub.status.busy": "2021-09-02T05:04:18.036340Z",
     "iopub.status.idle": "2021-09-02T05:18:00.668920Z",
     "shell.execute_reply": "2021-09-02T05:18:00.669961Z"
    },
    "papermill": {
     "duration": 822.654368,
     "end_time": "2021-09-02T05:18:00.670653",
     "exception": false,
     "start_time": "2021-09-02T05:04:18.016285",
     "status": "completed"
    },
    "tags": []
   },
   "outputs": [
    {
     "name": "stdout",
     "output_type": "stream",
     "text": [
      "\n",
      "Iteration 1 of index/analysis of 59 samples with 32 cores\n",
      "Removing any extra snakemake directories: ['snakemake-assemblies.1630558849.5855603']\n"
     ]
    },
    {
     "name": "stdout",
     "output_type": "stream",
     "text": [
      "Creating new index: [gdi init simulations/cov-50/index-reads]\n"
     ]
    },
    {
     "name": "stdout",
     "output_type": "stream",
     "text": [
      "Creating a new index took 3.06 seconds\n",
      "Analysis running: [gdi --project-dir simulations/cov-50/index-reads --ncores 32 analysis --use-conda --no-load-data --reference-file simulations/reference/reference.fa.gz --kmer-size 31 --kmer-size 51 --kmer-size 71 --include-kmer --reads-mincov 10 --input-structured-genomes-file simulations/cov-50/input-reads.tsv]\n"
     ]
    },
    {
     "name": "stdout",
     "output_type": "stream",
     "text": [
      "Analysis took 1.96 minutes\n",
      "Index running: [gdi --project-dir simulations/cov-50/index-reads --ncores 32 load vcf --reference-file simulations/reference/reference.fa.gz /home/CSCScience.ca/apetkau/workspace/genomics-data-index-evaluation/evaluations/simulation/snakemake-assemblies.1630559064.9845376/gdi-input.fofn]\n"
     ]
    },
    {
     "name": "stdout",
     "output_type": "stream",
     "text": [
      "Indexing took 0.10 minutes\n",
      "Building tree: [gdi --project-dir simulations/cov-50/index-reads --ncores 32 rebuild tree --align-type full --extra-params '--fast -m GTR+F+R4' reference]\n"
     ]
    },
    {
     "name": "stdout",
     "output_type": "stream",
     "text": [
      "Building tree took 1.61 minutes\n"
     ]
    },
    {
     "name": "stderr",
     "output_type": "stream",
     "text": [
      "A reminder to myself to look for a Python solution for directory sizes (instead of running `du`)\n"
     ]
    },
    {
     "name": "stdout",
     "output_type": "stream",
     "text": [
      "\n",
      "Iteration 2 of index/analysis of 59 samples with 32 cores\n",
      "Removing any extra snakemake directories: ['snakemake-assemblies.1630559064.9845376']\n"
     ]
    },
    {
     "name": "stdout",
     "output_type": "stream",
     "text": [
      "Removing any existing indexes simulations/cov-50/index-reads\n",
      "Creating new index: [gdi init simulations/cov-50/index-reads]\n"
     ]
    },
    {
     "name": "stdout",
     "output_type": "stream",
     "text": [
      "Creating a new index took 2.86 seconds\n",
      "Analysis running: [gdi --project-dir simulations/cov-50/index-reads --ncores 32 analysis --use-conda --no-load-data --reference-file simulations/reference/reference.fa.gz --kmer-size 31 --kmer-size 51 --kmer-size 71 --include-kmer --reads-mincov 10 --input-structured-genomes-file simulations/cov-50/input-reads.tsv]\n"
     ]
    },
    {
     "name": "stdout",
     "output_type": "stream",
     "text": [
      "Analysis took 3.32 minutes\n",
      "Index running: [gdi --project-dir simulations/cov-50/index-reads --ncores 32 load vcf --reference-file simulations/reference/reference.fa.gz /home/CSCScience.ca/apetkau/workspace/genomics-data-index-evaluation/evaluations/simulation/snakemake-assemblies.1630559289.8922362/gdi-input.fofn]\n"
     ]
    },
    {
     "name": "stdout",
     "output_type": "stream",
     "text": [
      "Indexing took 0.24 minutes\n",
      "Building tree: [gdi --project-dir simulations/cov-50/index-reads --ncores 32 rebuild tree --align-type full --extra-params '--fast -m GTR+F+R4' reference]\n"
     ]
    },
    {
     "name": "stdout",
     "output_type": "stream",
     "text": [
      "Building tree took 1.56 minutes\n"
     ]
    },
    {
     "name": "stderr",
     "output_type": "stream",
     "text": [
      "Attempting to set global database_path_translator=<genomics_data_index.storage.model.db.DatabasePathTranslator.DatabasePathTranslator object at 0x7f4fa4863790> but it is already set\n"
     ]
    },
    {
     "name": "stderr",
     "output_type": "stream",
     "text": [
      "A reminder to myself to look for a Python solution for directory sizes (instead of running `du`)\n"
     ]
    },
    {
     "name": "stdout",
     "output_type": "stream",
     "text": [
      "\n",
      "Iteration 3 of index/analysis of 59 samples with 32 cores\n",
      "Removing any extra snakemake directories: ['snakemake-assemblies.1630559289.8922362']\n"
     ]
    },
    {
     "name": "stdout",
     "output_type": "stream",
     "text": [
      "Removing any existing indexes simulations/cov-50/index-reads\n",
      "Creating new index: [gdi init simulations/cov-50/index-reads]\n"
     ]
    },
    {
     "name": "stdout",
     "output_type": "stream",
     "text": [
      "Creating a new index took 7.96 seconds\n",
      "Analysis running: [gdi --project-dir simulations/cov-50/index-reads --ncores 32 analysis --use-conda --no-load-data --reference-file simulations/reference/reference.fa.gz --kmer-size 31 --kmer-size 51 --kmer-size 71 --include-kmer --reads-mincov 10 --input-structured-genomes-file simulations/cov-50/input-reads.tsv]\n"
     ]
    },
    {
     "name": "stdout",
     "output_type": "stream",
     "text": [
      "Analysis took 2.98 minutes\n",
      "Index running: [gdi --project-dir simulations/cov-50/index-reads --ncores 32 load vcf --reference-file simulations/reference/reference.fa.gz /home/CSCScience.ca/apetkau/workspace/genomics-data-index-evaluation/evaluations/simulation/snakemake-assemblies.1630559618.8732162/gdi-input.fofn]\n"
     ]
    },
    {
     "name": "stdout",
     "output_type": "stream",
     "text": [
      "Indexing took 0.11 minutes\n",
      "Building tree: [gdi --project-dir simulations/cov-50/index-reads --ncores 32 rebuild tree --align-type full --extra-params '--fast -m GTR+F+R4' reference]\n"
     ]
    },
    {
     "name": "stdout",
     "output_type": "stream",
     "text": [
      "Building tree took 1.44 minutes\n"
     ]
    },
    {
     "name": "stderr",
     "output_type": "stream",
     "text": [
      "Attempting to set global database_path_translator=<genomics_data_index.storage.model.db.DatabasePathTranslator.DatabasePathTranslator object at 0x7f4fa484b9a0> but it is already set\n"
     ]
    },
    {
     "name": "stderr",
     "output_type": "stream",
     "text": [
      "A reminder to myself to look for a Python solution for directory sizes (instead of running `du`)\n"
     ]
    }
   ],
   "source": [
    "results_handler = gdi_benchmark.BenchmarkResultsHandler(name=f'{case_name} reads')\n",
    "benchmarker = gdi_benchmark.IndexBenchmarker(benchmark_results_handler=results_handler,\n",
    "                                             index_path=index_reads_path, input_files_file=input_genomes_file,\n",
    "                                             reference_file=reference_file, mincov=mincov, build_tree=True,\n",
    "                                             ncores=ncores)\n",
    "\n",
    "benchmark_df = benchmarker.benchmark(iterations=iterations)"
   ]
  },
  {
   "cell_type": "code",
   "execution_count": 7,
   "id": "3bcb6da7-0164-47f2-abdd-a4c159da1e3b",
   "metadata": {
    "execution": {
     "iopub.execute_input": "2021-09-02T05:18:00.724615Z",
     "iopub.status.busy": "2021-09-02T05:18:00.723911Z",
     "iopub.status.idle": "2021-09-02T05:18:00.759055Z",
     "shell.execute_reply": "2021-09-02T05:18:00.758115Z"
    },
    "papermill": {
     "duration": 0.062952,
     "end_time": "2021-09-02T05:18:00.759279",
     "exception": false,
     "start_time": "2021-09-02T05:18:00.696327",
     "status": "completed"
    },
    "tags": []
   },
   "outputs": [
    {
     "data": {
      "text/html": [
       "<div>\n",
       "<style scoped>\n",
       "    .dataframe tbody tr th:only-of-type {\n",
       "        vertical-align: middle;\n",
       "    }\n",
       "\n",
       "    .dataframe tbody tr th {\n",
       "        vertical-align: top;\n",
       "    }\n",
       "\n",
       "    .dataframe thead th {\n",
       "        text-align: right;\n",
       "    }\n",
       "</style>\n",
       "<table border=\"1\" class=\"dataframe\">\n",
       "  <thead>\n",
       "    <tr style=\"text-align: right;\">\n",
       "      <th></th>\n",
       "      <th>Name</th>\n",
       "      <th>Iteration</th>\n",
       "      <th>Number samples</th>\n",
       "      <th>Number cores</th>\n",
       "      <th>Reference length</th>\n",
       "      <th>Analysis runtime</th>\n",
       "      <th>Analysis memory (max)</th>\n",
       "      <th>Analysis memory (max/process)</th>\n",
       "      <th>Analysis disk uage</th>\n",
       "      <th>Index runtime</th>\n",
       "      <th>Index memory (max)</th>\n",
       "      <th>Index memory (max/process)</th>\n",
       "      <th>Index size</th>\n",
       "      <th>Tree runtime</th>\n",
       "      <th>Tree memory (max)</th>\n",
       "      <th>Tree memory (max/process)</th>\n",
       "      <th>Total runtime</th>\n",
       "      <th>Max memory</th>\n",
       "    </tr>\n",
       "  </thead>\n",
       "  <tbody>\n",
       "    <tr>\n",
       "      <th>0</th>\n",
       "      <td>cov-50 reads</td>\n",
       "      <td>1</td>\n",
       "      <td>59</td>\n",
       "      <td>32</td>\n",
       "      <td>10834</td>\n",
       "      <td>117.17</td>\n",
       "      <td>2.580496e+09</td>\n",
       "      <td>401199104.0</td>\n",
       "      <td>3.280318e+09</td>\n",
       "      <td>5.63</td>\n",
       "      <td>5.793243e+09</td>\n",
       "      <td>246599680.0</td>\n",
       "      <td>1355776.0</td>\n",
       "      <td>96.54</td>\n",
       "      <td>247078912.0</td>\n",
       "      <td>224485376.0</td>\n",
       "      <td>219.34</td>\n",
       "      <td>5.793243e+09</td>\n",
       "    </tr>\n",
       "    <tr>\n",
       "      <th>0</th>\n",
       "      <td>cov-50 reads</td>\n",
       "      <td>2</td>\n",
       "      <td>59</td>\n",
       "      <td>32</td>\n",
       "      <td>10834</td>\n",
       "      <td>199.21</td>\n",
       "      <td>2.868658e+09</td>\n",
       "      <td>395423744.0</td>\n",
       "      <td>3.280310e+09</td>\n",
       "      <td>14.44</td>\n",
       "      <td>5.794681e+09</td>\n",
       "      <td>249737216.0</td>\n",
       "      <td>1355776.0</td>\n",
       "      <td>93.56</td>\n",
       "      <td>380342272.0</td>\n",
       "      <td>224165888.0</td>\n",
       "      <td>307.21</td>\n",
       "      <td>5.794681e+09</td>\n",
       "    </tr>\n",
       "    <tr>\n",
       "      <th>0</th>\n",
       "      <td>cov-50 reads</td>\n",
       "      <td>3</td>\n",
       "      <td>59</td>\n",
       "      <td>32</td>\n",
       "      <td>10834</td>\n",
       "      <td>178.80</td>\n",
       "      <td>2.753331e+09</td>\n",
       "      <td>397819904.0</td>\n",
       "      <td>3.280314e+09</td>\n",
       "      <td>6.23</td>\n",
       "      <td>5.789995e+09</td>\n",
       "      <td>248995840.0</td>\n",
       "      <td>1359872.0</td>\n",
       "      <td>86.32</td>\n",
       "      <td>245772288.0</td>\n",
       "      <td>223592448.0</td>\n",
       "      <td>271.35</td>\n",
       "      <td>5.789995e+09</td>\n",
       "    </tr>\n",
       "  </tbody>\n",
       "</table>\n",
       "</div>"
      ],
      "text/plain": [
       "           Name  Iteration  Number samples  Number cores  Reference length  \\\n",
       "0  cov-50 reads          1              59            32             10834   \n",
       "0  cov-50 reads          2              59            32             10834   \n",
       "0  cov-50 reads          3              59            32             10834   \n",
       "\n",
       "   Analysis runtime  Analysis memory (max)  Analysis memory (max/process)  \\\n",
       "0            117.17           2.580496e+09                    401199104.0   \n",
       "0            199.21           2.868658e+09                    395423744.0   \n",
       "0            178.80           2.753331e+09                    397819904.0   \n",
       "\n",
       "   Analysis disk uage  Index runtime  Index memory (max)  \\\n",
       "0        3.280318e+09           5.63        5.793243e+09   \n",
       "0        3.280310e+09          14.44        5.794681e+09   \n",
       "0        3.280314e+09           6.23        5.789995e+09   \n",
       "\n",
       "   Index memory (max/process)  Index size  Tree runtime  Tree memory (max)  \\\n",
       "0                 246599680.0   1355776.0         96.54        247078912.0   \n",
       "0                 249737216.0   1355776.0         93.56        380342272.0   \n",
       "0                 248995840.0   1359872.0         86.32        245772288.0   \n",
       "\n",
       "   Tree memory (max/process)  Total runtime    Max memory  \n",
       "0                224485376.0         219.34  5.793243e+09  \n",
       "0                224165888.0         307.21  5.794681e+09  \n",
       "0                223592448.0         271.35  5.789995e+09  "
      ]
     },
     "execution_count": 7,
     "metadata": {},
     "output_type": "execute_result"
    }
   ],
   "source": [
    "benchmark_df"
   ]
  },
  {
   "cell_type": "code",
   "execution_count": 8,
   "id": "535a9ccc-ab9c-4919-806f-128e1efd2389",
   "metadata": {
    "execution": {
     "iopub.execute_input": "2021-09-02T05:18:00.803343Z",
     "iopub.status.busy": "2021-09-02T05:18:00.801253Z",
     "iopub.status.idle": "2021-09-02T05:18:00.816851Z",
     "shell.execute_reply": "2021-09-02T05:18:00.815837Z"
    },
    "papermill": {
     "duration": 0.035447,
     "end_time": "2021-09-02T05:18:00.817074",
     "exception": false,
     "start_time": "2021-09-02T05:18:00.781627",
     "status": "completed"
    },
    "tags": []
   },
   "outputs": [],
   "source": [
    "index_reads_runtime = simulation_dir_path / 'reads-index-info.tsv'\n",
    "benchmark_df.to_csv(index_reads_runtime, sep='\\t', index=False)"
   ]
  },
  {
   "cell_type": "markdown",
   "id": "c331578f-4026-4a9f-a3ba-288814b02ed2",
   "metadata": {
    "papermill": {
     "duration": 0.012498,
     "end_time": "2021-09-02T05:18:00.852709",
     "exception": false,
     "start_time": "2021-09-02T05:18:00.840211",
     "status": "completed"
    },
    "tags": []
   },
   "source": [
    "## 2.2. Index assemblies"
   ]
  },
  {
   "cell_type": "code",
   "execution_count": 9,
   "id": "6e6664f4-94ee-4c45-b1fc-e048b387fa49",
   "metadata": {
    "execution": {
     "iopub.execute_input": "2021-09-02T05:18:00.894400Z",
     "iopub.status.busy": "2021-09-02T05:18:00.883185Z",
     "iopub.status.idle": "2021-09-02T05:18:03.757061Z",
     "shell.execute_reply": "2021-09-02T05:18:03.757944Z"
    },
    "papermill": {
     "duration": 2.894164,
     "end_time": "2021-09-02T05:18:03.758288",
     "exception": false,
     "start_time": "2021-09-02T05:18:00.864124",
     "status": "completed"
    },
    "tags": []
   },
   "outputs": [],
   "source": [
    "input_genomes_file = simulation_dir_path / 'input-assemblies.tsv'\n",
    "\n",
    "!gdi input --absolute {assemblies_dir}/*.fa.gz > {input_genomes_file}"
   ]
  },
  {
   "cell_type": "code",
   "execution_count": 10,
   "id": "0a1e62f3-3b0c-4a90-a7fe-f0bc1094e350",
   "metadata": {
    "execution": {
     "iopub.execute_input": "2021-09-02T05:18:03.808361Z",
     "iopub.status.busy": "2021-09-02T05:18:03.807935Z",
     "iopub.status.idle": "2021-09-02T05:27:39.816846Z",
     "shell.execute_reply": "2021-09-02T05:27:39.815939Z"
    },
    "papermill": {
     "duration": 576.032414,
     "end_time": "2021-09-02T05:27:39.817099",
     "exception": false,
     "start_time": "2021-09-02T05:18:03.784685",
     "status": "completed"
    },
    "tags": []
   },
   "outputs": [
    {
     "name": "stdout",
     "output_type": "stream",
     "text": [
      "\n",
      "Iteration 1 of index/analysis of 59 samples with 32 cores\n",
      "Removing any extra snakemake directories: ['snakemake-assemblies.1630559618.8732162']\n"
     ]
    },
    {
     "name": "stdout",
     "output_type": "stream",
     "text": [
      "Creating new index: [gdi init simulations/cov-50/index-assemblies]\n"
     ]
    },
    {
     "name": "stdout",
     "output_type": "stream",
     "text": [
      "Creating a new index took 2.88 seconds\n",
      "Analysis running: [gdi --project-dir simulations/cov-50/index-assemblies --ncores 32 analysis --use-conda --no-load-data --reference-file simulations/reference/reference.fa.gz --kmer-size 31 --kmer-size 51 --kmer-size 71 --include-kmer --reads-mincov 10 --input-structured-genomes-file simulations/cov-50/input-assemblies.tsv]\n"
     ]
    },
    {
     "name": "stdout",
     "output_type": "stream",
     "text": [
      "Analysis took 1.58 minutes\n",
      "Index running: [gdi --project-dir simulations/cov-50/index-assemblies --ncores 32 load vcf --reference-file simulations/reference/reference.fa.gz /home/CSCScience.ca/apetkau/workspace/genomics-data-index-evaluation/evaluations/simulation/snakemake-assemblies.1630559891.0702865/gdi-input.fofn]\n"
     ]
    },
    {
     "name": "stdout",
     "output_type": "stream",
     "text": [
      "Indexing took 0.09 minutes\n",
      "Building tree: [gdi --project-dir simulations/cov-50/index-assemblies --ncores 32 rebuild tree --align-type full --extra-params '--fast -m GTR+F+R4' reference]\n"
     ]
    },
    {
     "name": "stdout",
     "output_type": "stream",
     "text": [
      "Building tree took 1.56 minutes\n"
     ]
    },
    {
     "name": "stderr",
     "output_type": "stream",
     "text": [
      "Attempting to set global database_path_translator=<genomics_data_index.storage.model.db.DatabasePathTranslator.DatabasePathTranslator object at 0x7f4f77162dc0> but it is already set\n"
     ]
    },
    {
     "name": "stderr",
     "output_type": "stream",
     "text": [
      "A reminder to myself to look for a Python solution for directory sizes (instead of running `du`)\n"
     ]
    },
    {
     "name": "stdout",
     "output_type": "stream",
     "text": [
      "\n",
      "Iteration 2 of index/analysis of 59 samples with 32 cores\n",
      "Removing any extra snakemake directories: ['snakemake-assemblies.1630559891.0702865']\n"
     ]
    },
    {
     "name": "stdout",
     "output_type": "stream",
     "text": [
      "Removing any existing indexes simulations/cov-50/index-assemblies\n",
      "Creating new index: [gdi init simulations/cov-50/index-assemblies]\n"
     ]
    },
    {
     "name": "stdout",
     "output_type": "stream",
     "text": [
      "Creating a new index took 2.87 seconds\n",
      "Analysis running: [gdi --project-dir simulations/cov-50/index-assemblies --ncores 32 analysis --use-conda --no-load-data --reference-file simulations/reference/reference.fa.gz --kmer-size 31 --kmer-size 51 --kmer-size 71 --include-kmer --reads-mincov 10 --input-structured-genomes-file simulations/cov-50/input-assemblies.tsv]\n"
     ]
    },
    {
     "name": "stdout",
     "output_type": "stream",
     "text": [
      "Analysis took 1.51 minutes\n",
      "Index running: [gdi --project-dir simulations/cov-50/index-assemblies --ncores 32 load vcf --reference-file simulations/reference/reference.fa.gz /home/CSCScience.ca/apetkau/workspace/genomics-data-index-evaluation/evaluations/simulation/snakemake-assemblies.1630560089.1347675/gdi-input.fofn]\n"
     ]
    },
    {
     "name": "stdout",
     "output_type": "stream",
     "text": [
      "Indexing took 0.09 minutes\n",
      "Building tree: [gdi --project-dir simulations/cov-50/index-assemblies --ncores 32 rebuild tree --align-type full --extra-params '--fast -m GTR+F+R4' reference]\n"
     ]
    },
    {
     "name": "stdout",
     "output_type": "stream",
     "text": [
      "Building tree took 1.34 minutes\n"
     ]
    },
    {
     "name": "stderr",
     "output_type": "stream",
     "text": [
      "Attempting to set global database_path_translator=<genomics_data_index.storage.model.db.DatabasePathTranslator.DatabasePathTranslator object at 0x7f4fc8686370> but it is already set\n"
     ]
    },
    {
     "name": "stderr",
     "output_type": "stream",
     "text": [
      "A reminder to myself to look for a Python solution for directory sizes (instead of running `du`)\n"
     ]
    },
    {
     "name": "stdout",
     "output_type": "stream",
     "text": [
      "\n",
      "Iteration 3 of index/analysis of 59 samples with 32 cores\n",
      "Removing any extra snakemake directories: ['snakemake-assemblies.1630560089.1347675']\n"
     ]
    },
    {
     "name": "stdout",
     "output_type": "stream",
     "text": [
      "Removing any existing indexes simulations/cov-50/index-assemblies\n",
      "Creating new index: [gdi init simulations/cov-50/index-assemblies]\n"
     ]
    },
    {
     "name": "stdout",
     "output_type": "stream",
     "text": [
      "Creating a new index took 2.97 seconds\n",
      "Analysis running: [gdi --project-dir simulations/cov-50/index-assemblies --ncores 32 analysis --use-conda --no-load-data --reference-file simulations/reference/reference.fa.gz --kmer-size 31 --kmer-size 51 --kmer-size 71 --include-kmer --reads-mincov 10 --input-structured-genomes-file simulations/cov-50/input-assemblies.tsv]\n"
     ]
    },
    {
     "name": "stdout",
     "output_type": "stream",
     "text": [
      "Analysis took 1.52 minutes\n",
      "Index running: [gdi --project-dir simulations/cov-50/index-assemblies --ncores 32 load vcf --reference-file simulations/reference/reference.fa.gz /home/CSCScience.ca/apetkau/workspace/genomics-data-index-evaluation/evaluations/simulation/snakemake-assemblies.1630560270.072022/gdi-input.fofn]\n"
     ]
    },
    {
     "name": "stdout",
     "output_type": "stream",
     "text": [
      "Indexing took 0.09 minutes\n",
      "Building tree: [gdi --project-dir simulations/cov-50/index-assemblies --ncores 32 rebuild tree --align-type full --extra-params '--fast -m GTR+F+R4' reference]\n"
     ]
    },
    {
     "name": "stdout",
     "output_type": "stream",
     "text": [
      "Building tree took 1.59 minutes\n"
     ]
    },
    {
     "name": "stderr",
     "output_type": "stream",
     "text": [
      "Attempting to set global database_path_translator=<genomics_data_index.storage.model.db.DatabasePathTranslator.DatabasePathTranslator object at 0x7f4f77188df0> but it is already set\n"
     ]
    },
    {
     "name": "stderr",
     "output_type": "stream",
     "text": [
      "A reminder to myself to look for a Python solution for directory sizes (instead of running `du`)\n"
     ]
    }
   ],
   "source": [
    "results_handler = gdi_benchmark.BenchmarkResultsHandler(name=f'{case_name} assemblies')\n",
    "benchmarker = gdi_benchmark.IndexBenchmarker(benchmark_results_handler=results_handler,\n",
    "                                             index_path=index_assemblies_path, input_files_file=input_genomes_file,\n",
    "                                             reference_file=reference_file, mincov=mincov, build_tree=True,\n",
    "                                             ncores=ncores)\n",
    "\n",
    "benchmark_df = benchmarker.benchmark(iterations=iterations)"
   ]
  },
  {
   "cell_type": "code",
   "execution_count": 11,
   "id": "a6d55a9d-be2f-4851-b66c-04b5ebd597a1",
   "metadata": {
    "execution": {
     "iopub.execute_input": "2021-09-02T05:27:39.897950Z",
     "iopub.status.busy": "2021-09-02T05:27:39.896006Z",
     "iopub.status.idle": "2021-09-02T05:27:39.901346Z",
     "shell.execute_reply": "2021-09-02T05:27:39.900572Z"
    },
    "papermill": {
     "duration": 0.053272,
     "end_time": "2021-09-02T05:27:39.901564",
     "exception": false,
     "start_time": "2021-09-02T05:27:39.848292",
     "status": "completed"
    },
    "tags": []
   },
   "outputs": [
    {
     "data": {
      "text/html": [
       "<div>\n",
       "<style scoped>\n",
       "    .dataframe tbody tr th:only-of-type {\n",
       "        vertical-align: middle;\n",
       "    }\n",
       "\n",
       "    .dataframe tbody tr th {\n",
       "        vertical-align: top;\n",
       "    }\n",
       "\n",
       "    .dataframe thead th {\n",
       "        text-align: right;\n",
       "    }\n",
       "</style>\n",
       "<table border=\"1\" class=\"dataframe\">\n",
       "  <thead>\n",
       "    <tr style=\"text-align: right;\">\n",
       "      <th></th>\n",
       "      <th>Name</th>\n",
       "      <th>Iteration</th>\n",
       "      <th>Number samples</th>\n",
       "      <th>Number cores</th>\n",
       "      <th>Reference length</th>\n",
       "      <th>Analysis runtime</th>\n",
       "      <th>Analysis memory (max)</th>\n",
       "      <th>Analysis memory (max/process)</th>\n",
       "      <th>Analysis disk uage</th>\n",
       "      <th>Index runtime</th>\n",
       "      <th>Index memory (max)</th>\n",
       "      <th>Index memory (max/process)</th>\n",
       "      <th>Index size</th>\n",
       "      <th>Tree runtime</th>\n",
       "      <th>Tree memory (max)</th>\n",
       "      <th>Tree memory (max/process)</th>\n",
       "      <th>Total runtime</th>\n",
       "      <th>Max memory</th>\n",
       "    </tr>\n",
       "  </thead>\n",
       "  <tbody>\n",
       "    <tr>\n",
       "      <th>0</th>\n",
       "      <td>cov-50 assemblies</td>\n",
       "      <td>1</td>\n",
       "      <td>59</td>\n",
       "      <td>32</td>\n",
       "      <td>10834</td>\n",
       "      <td>94.90</td>\n",
       "      <td>1.173053e+09</td>\n",
       "      <td>379752448.0</td>\n",
       "      <td>2.082599e+09</td>\n",
       "      <td>5.08</td>\n",
       "      <td>5.782835e+09</td>\n",
       "      <td>237694976.0</td>\n",
       "      <td>1064960.0</td>\n",
       "      <td>93.64</td>\n",
       "      <td>242106368.0</td>\n",
       "      <td>224083968.0</td>\n",
       "      <td>193.62</td>\n",
       "      <td>5.782835e+09</td>\n",
       "    </tr>\n",
       "    <tr>\n",
       "      <th>0</th>\n",
       "      <td>cov-50 assemblies</td>\n",
       "      <td>2</td>\n",
       "      <td>59</td>\n",
       "      <td>32</td>\n",
       "      <td>10834</td>\n",
       "      <td>90.23</td>\n",
       "      <td>1.290027e+09</td>\n",
       "      <td>365555712.0</td>\n",
       "      <td>2.082603e+09</td>\n",
       "      <td>5.44</td>\n",
       "      <td>5.781643e+09</td>\n",
       "      <td>237776896.0</td>\n",
       "      <td>1064960.0</td>\n",
       "      <td>80.51</td>\n",
       "      <td>240832512.0</td>\n",
       "      <td>223670272.0</td>\n",
       "      <td>176.18</td>\n",
       "      <td>5.781643e+09</td>\n",
       "    </tr>\n",
       "    <tr>\n",
       "      <th>0</th>\n",
       "      <td>cov-50 assemblies</td>\n",
       "      <td>3</td>\n",
       "      <td>59</td>\n",
       "      <td>32</td>\n",
       "      <td>10834</td>\n",
       "      <td>90.92</td>\n",
       "      <td>1.194877e+09</td>\n",
       "      <td>374603776.0</td>\n",
       "      <td>2.082578e+09</td>\n",
       "      <td>5.47</td>\n",
       "      <td>5.786108e+09</td>\n",
       "      <td>238034944.0</td>\n",
       "      <td>1064960.0</td>\n",
       "      <td>95.43</td>\n",
       "      <td>240508928.0</td>\n",
       "      <td>223723520.0</td>\n",
       "      <td>191.82</td>\n",
       "      <td>5.786108e+09</td>\n",
       "    </tr>\n",
       "  </tbody>\n",
       "</table>\n",
       "</div>"
      ],
      "text/plain": [
       "                Name  Iteration  Number samples  Number cores  \\\n",
       "0  cov-50 assemblies          1              59            32   \n",
       "0  cov-50 assemblies          2              59            32   \n",
       "0  cov-50 assemblies          3              59            32   \n",
       "\n",
       "   Reference length  Analysis runtime  Analysis memory (max)  \\\n",
       "0             10834             94.90           1.173053e+09   \n",
       "0             10834             90.23           1.290027e+09   \n",
       "0             10834             90.92           1.194877e+09   \n",
       "\n",
       "   Analysis memory (max/process)  Analysis disk uage  Index runtime  \\\n",
       "0                    379752448.0        2.082599e+09           5.08   \n",
       "0                    365555712.0        2.082603e+09           5.44   \n",
       "0                    374603776.0        2.082578e+09           5.47   \n",
       "\n",
       "   Index memory (max)  Index memory (max/process)  Index size  Tree runtime  \\\n",
       "0        5.782835e+09                 237694976.0   1064960.0         93.64   \n",
       "0        5.781643e+09                 237776896.0   1064960.0         80.51   \n",
       "0        5.786108e+09                 238034944.0   1064960.0         95.43   \n",
       "\n",
       "   Tree memory (max)  Tree memory (max/process)  Total runtime    Max memory  \n",
       "0        242106368.0                224083968.0         193.62  5.782835e+09  \n",
       "0        240832512.0                223670272.0         176.18  5.781643e+09  \n",
       "0        240508928.0                223723520.0         191.82  5.786108e+09  "
      ]
     },
     "execution_count": 11,
     "metadata": {},
     "output_type": "execute_result"
    }
   ],
   "source": [
    "benchmark_df"
   ]
  },
  {
   "cell_type": "code",
   "execution_count": 12,
   "id": "e1a6d962-50bc-4c8d-a6f2-3a661da706b4",
   "metadata": {
    "execution": {
     "iopub.execute_input": "2021-09-02T05:27:39.954527Z",
     "iopub.status.busy": "2021-09-02T05:27:39.954091Z",
     "iopub.status.idle": "2021-09-02T05:27:39.957973Z",
     "shell.execute_reply": "2021-09-02T05:27:39.958305Z"
    },
    "papermill": {
     "duration": 0.027818,
     "end_time": "2021-09-02T05:27:39.958413",
     "exception": false,
     "start_time": "2021-09-02T05:27:39.930595",
     "status": "completed"
    },
    "tags": []
   },
   "outputs": [],
   "source": [
    "index_assemblies_runtime = simulation_dir_path / 'assemblies-index-info.tsv'\n",
    "benchmark_df.to_csv(index_assemblies_runtime, sep='\\t', index=False)"
   ]
  },
  {
   "cell_type": "markdown",
   "id": "6cb7673b-9f85-4c43-b2e2-93538497a196",
   "metadata": {
    "papermill": {
     "duration": 0.015594,
     "end_time": "2021-09-02T05:27:39.994703",
     "exception": false,
     "start_time": "2021-09-02T05:27:39.979109",
     "status": "completed"
    },
    "tags": []
   },
   "source": [
    "# 3. Export trees"
   ]
  },
  {
   "cell_type": "code",
   "execution_count": 13,
   "id": "5280f82c-5434-4391-8c44-b937a7c95bd5",
   "metadata": {
    "execution": {
     "iopub.execute_input": "2021-09-02T05:27:40.044610Z",
     "iopub.status.busy": "2021-09-02T05:27:40.035313Z",
     "iopub.status.idle": "2021-09-02T05:27:45.750940Z",
     "shell.execute_reply": "2021-09-02T05:27:45.751998Z"
    },
    "papermill": {
     "duration": 5.742118,
     "end_time": "2021-09-02T05:27:45.752298",
     "exception": false,
     "start_time": "2021-09-02T05:27:40.010180",
     "status": "completed"
    },
    "tags": []
   },
   "outputs": [
    {
     "name": "stdout",
     "output_type": "stream",
     "text": [
      "Wrote assemblies tree to simulations/cov-50/index-assemblies/assemblies.tre\n"
     ]
    },
    {
     "name": "stdout",
     "output_type": "stream",
     "text": [
      "Wrote assemblies tree to simulations/cov-50/index-reads/reads.tre\n"
     ]
    }
   ],
   "source": [
    "!gdi --project-dir {index_assemblies_path} export tree {reference_name} > {output_assemblies_tree}\n",
    "print(f'Wrote assemblies tree to {output_assemblies_tree}')\n",
    "\n",
    "!gdi --project-dir {index_reads_path} export tree {reference_name} > {output_reads_tree}\n",
    "print(f'Wrote assemblies tree to {output_reads_tree}')"
   ]
  }
 ],
 "metadata": {
  "kernelspec": {
   "display_name": "Python 3 (ipykernel)",
   "language": "python",
   "name": "python3"
  },
  "language_info": {
   "codemirror_mode": {
    "name": "ipython",
    "version": 3
   },
   "file_extension": ".py",
   "mimetype": "text/x-python",
   "name": "python",
   "nbconvert_exporter": "python",
   "pygments_lexer": "ipython3",
   "version": "3.8.10"
  },
  "papermill": {
   "default_parameters": {},
   "duration": 1418.5918,
   "end_time": "2021-09-02T05:27:47.257068",
   "environment_variables": {},
   "exception": null,
   "input_path": "template-3-index-genomes.ipynb",
   "output_path": "3-index-genomes.simulation-cov-50.ipynb",
   "parameters": {
    "iterations": 3,
    "mincov": 10,
    "read_coverage": 50,
    "simulation_dir": "simulations/cov-50"
   },
   "start_time": "2021-09-02T05:04:08.665268",
   "version": "2.3.3"
  }
 },
 "nbformat": 4,
 "nbformat_minor": 5
}