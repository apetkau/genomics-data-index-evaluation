{
 "cells": [
  {
   "cell_type": "markdown",
   "id": "7d3667b4-b1f8-4347-96e3-830c25b06740",
   "metadata": {
    "papermill": {
     "duration": 0.018582,
     "end_time": "2021-09-11T23:23:45.294703",
     "exception": false,
     "start_time": "2021-09-11T23:23:45.276121",
     "status": "completed"
    },
    "tags": []
   },
   "source": [
    "# 1. Parameters"
   ]
  },
  {
   "cell_type": "code",
   "execution_count": 1,
   "id": "d4ab0749-b286-4c34-b63c-a854e4952bae",
   "metadata": {
    "execution": {
     "iopub.execute_input": "2021-09-11T23:23:45.321084Z",
     "iopub.status.busy": "2021-09-11T23:23:45.320271Z",
     "iopub.status.idle": "2021-09-11T23:23:45.324415Z",
     "shell.execute_reply": "2021-09-11T23:23:45.323924Z"
    },
    "papermill": {
     "duration": 0.019649,
     "end_time": "2021-09-11T23:23:45.324542",
     "exception": false,
     "start_time": "2021-09-11T23:23:45.304893",
     "status": "completed"
    },
    "tags": [
     "parameters"
    ]
   },
   "outputs": [],
   "source": [
    "# Defaults\n",
    "simulation_dir = 'simulations/unset'\n",
    "reference_file = 'simulations/reference/reference.fa.gz'\n",
    "iterations = 3\n",
    "mincov = 10\n",
    "ncores = 32"
   ]
  },
  {
   "cell_type": "code",
   "execution_count": 2,
   "id": "351df5a3",
   "metadata": {
    "execution": {
     "iopub.execute_input": "2021-09-11T23:23:45.347843Z",
     "iopub.status.busy": "2021-09-11T23:23:45.347428Z",
     "iopub.status.idle": "2021-09-11T23:23:45.350503Z",
     "shell.execute_reply": "2021-09-11T23:23:45.350878Z"
    },
    "papermill": {
     "duration": 0.01735,
     "end_time": "2021-09-11T23:23:45.351004",
     "exception": false,
     "start_time": "2021-09-11T23:23:45.333654",
     "status": "completed"
    },
    "tags": [
     "injected-parameters"
    ]
   },
   "outputs": [],
   "source": [
    "# Parameters\n",
    "read_coverage = 50\n",
    "mincov = 10\n",
    "simulation_dir = \"simulations/cov-50\"\n",
    "iterations = 3\n",
    "sub_alpha = 0.2\n"
   ]
  },
  {
   "cell_type": "code",
   "execution_count": 3,
   "id": "ce5962e4-261c-4210-b39b-47044e28466b",
   "metadata": {
    "execution": {
     "iopub.execute_input": "2021-09-11T23:23:45.375976Z",
     "iopub.status.busy": "2021-09-11T23:23:45.375564Z",
     "iopub.status.idle": "2021-09-11T23:23:47.768251Z",
     "shell.execute_reply": "2021-09-11T23:23:47.767262Z"
    },
    "papermill": {
     "duration": 2.408892,
     "end_time": "2021-09-11T23:23:47.768507",
     "exception": false,
     "start_time": "2021-09-11T23:23:45.359615",
     "status": "completed"
    },
    "tags": []
   },
   "outputs": [],
   "source": [
    "from pathlib import Path\n",
    "import imp\n",
    "fp, pathname, description = imp.find_module('gdi_benchmark', ['../../lib'])\n",
    "gdi_benchmark = imp.load_module('gdi_benchmark', fp, pathname, description)\n",
    "\n",
    "simulation_dir_path = Path(simulation_dir)\n",
    "\n",
    "case_name = str(simulation_dir_path.name)\n",
    "reads_dir = simulation_dir_path / 'simulated_data' / 'reads'\n",
    "assemblies_dir = simulation_dir_path / 'simulated_data' / 'assemblies'\n",
    "index_reads_path = simulation_dir_path / 'index-reads'\n",
    "index_assemblies_path = simulation_dir_path / 'index-assemblies'\n",
    "output_reads_tree = index_reads_path / 'reads.tre'\n",
    "output_assemblies_tree = index_assemblies_path / 'assemblies.tre'\n",
    "reference_name = Path(reference_file).name.split('.')[0]"
   ]
  },
  {
   "cell_type": "markdown",
   "id": "f208279e-7558-47fc-9362-da29df92828a",
   "metadata": {
    "papermill": {
     "duration": 0.00908,
     "end_time": "2021-09-11T23:23:47.793615",
     "exception": false,
     "start_time": "2021-09-11T23:23:47.784535",
     "status": "completed"
    },
    "tags": []
   },
   "source": [
    "# 2. Index genomes"
   ]
  },
  {
   "cell_type": "code",
   "execution_count": 4,
   "id": "4e936f7c-2fcd-4188-b0e6-6b3ceb5cdcd2",
   "metadata": {
    "execution": {
     "iopub.execute_input": "2021-09-11T23:23:47.824059Z",
     "iopub.status.busy": "2021-09-11T23:23:47.822922Z",
     "iopub.status.idle": "2021-09-11T23:23:50.636955Z",
     "shell.execute_reply": "2021-09-11T23:23:50.637865Z"
    },
    "papermill": {
     "duration": 2.83749,
     "end_time": "2021-09-11T23:23:50.638190",
     "exception": false,
     "start_time": "2021-09-11T23:23:47.800700",
     "status": "completed"
    },
    "tags": []
   },
   "outputs": [
    {
     "name": "stdout",
     "output_type": "stream",
     "text": [
      "gdi, version 0.3.0.dev12\r\n"
     ]
    }
   ],
   "source": [
    "!gdi --version"
   ]
  },
  {
   "cell_type": "markdown",
   "id": "5409ecf8-2158-4361-9d2f-6b1a6c7c63a6",
   "metadata": {
    "papermill": {
     "duration": 0.009806,
     "end_time": "2021-09-11T23:23:50.665442",
     "exception": false,
     "start_time": "2021-09-11T23:23:50.655636",
     "status": "completed"
    },
    "tags": []
   },
   "source": [
    "## 2.1. Index reads"
   ]
  },
  {
   "cell_type": "code",
   "execution_count": 5,
   "id": "b5324f79-913b-4dac-8122-19ad5c0f24b2",
   "metadata": {
    "execution": {
     "iopub.execute_input": "2021-09-11T23:23:50.697715Z",
     "iopub.status.busy": "2021-09-11T23:23:50.687945Z",
     "iopub.status.idle": "2021-09-11T23:23:53.502876Z",
     "shell.execute_reply": "2021-09-11T23:23:53.503802Z"
    },
    "papermill": {
     "duration": 2.831309,
     "end_time": "2021-09-11T23:23:53.504119",
     "exception": false,
     "start_time": "2021-09-11T23:23:50.672810",
     "status": "completed"
    },
    "tags": []
   },
   "outputs": [],
   "source": [
    "input_genomes_file = simulation_dir_path / 'input-reads.tsv'\n",
    "\n",
    "!gdi input --absolute {reads_dir}/*.fq.gz > {input_genomes_file}"
   ]
  },
  {
   "cell_type": "code",
   "execution_count": 6,
   "id": "3d63e861-733e-46f2-8bce-bd1a2c7c7058",
   "metadata": {
    "execution": {
     "iopub.execute_input": "2021-09-11T23:23:53.547124Z",
     "iopub.status.busy": "2021-09-11T23:23:53.543493Z",
     "iopub.status.idle": "2021-09-11T23:34:37.012452Z",
     "shell.execute_reply": "2021-09-11T23:34:37.013448Z"
    },
    "papermill": {
     "duration": 643.490926,
     "end_time": "2021-09-11T23:34:37.014184",
     "exception": false,
     "start_time": "2021-09-11T23:23:53.523258",
     "status": "completed"
    },
    "tags": []
   },
   "outputs": [
    {
     "name": "stdout",
     "output_type": "stream",
     "text": [
      "\n",
      "Iteration 1 of index/analysis of 59 samples with 32 cores\n",
      "Removing any extra snakemake directories: ['snakemake-assemblies.1631402429.0147269']\n"
     ]
    },
    {
     "name": "stdout",
     "output_type": "stream",
     "text": [
      "Creating new index: [gdi init simulations/cov-50/index-reads]\n"
     ]
    },
    {
     "name": "stdout",
     "output_type": "stream",
     "text": [
      "Creating a new index took 2.74 seconds\n",
      "Analysis running: [gdi --project-dir simulations/cov-50/index-reads --ncores 32 analysis --use-conda --no-load-data --reference-file simulations/reference/reference.fa.gz --kmer-size 31 --kmer-size 51 --kmer-size 71 --include-kmer --reads-mincov 10 --input-structured-genomes-file simulations/cov-50/input-reads.tsv]\n"
     ]
    },
    {
     "name": "stdout",
     "output_type": "stream",
     "text": [
      "Analysis took 1.70 minutes\n",
      "Index running: [gdi --project-dir simulations/cov-50/index-reads --ncores 32 load vcf-kmer --reference-file simulations/reference/reference.fa.gz /home/CSCScience.ca/apetkau/workspace/genomics-data-index-evaluation/evaluations/simulation/snakemake-assemblies.1631402640.6234865/gdi-input.fofn]\n"
     ]
    },
    {
     "name": "stdout",
     "output_type": "stream",
     "text": [
      "Indexing took 0.12 minutes\n",
      "Building tree: [gdi --project-dir simulations/cov-50/index-reads --ncores 32 rebuild tree --align-type full --extra-params '--fast -m GTR+F+R4' reference]\n"
     ]
    },
    {
     "name": "stdout",
     "output_type": "stream",
     "text": [
      "Building tree took 1.48 minutes\n"
     ]
    },
    {
     "name": "stderr",
     "output_type": "stream",
     "text": [
      "A reminder to myself to look for a Python solution for directory sizes (instead of running `du`)\n"
     ]
    },
    {
     "name": "stdout",
     "output_type": "stream",
     "text": [
      "\n",
      "Iteration 2 of index/analysis of 59 samples with 32 cores\n",
      "Removing any extra snakemake directories: ['snakemake-assemblies.1631402640.6234865']\n"
     ]
    },
    {
     "name": "stdout",
     "output_type": "stream",
     "text": [
      "Removing any existing indexes simulations/cov-50/index-reads\n",
      "Creating new index: [gdi init simulations/cov-50/index-reads]\n"
     ]
    },
    {
     "name": "stdout",
     "output_type": "stream",
     "text": [
      "Creating a new index took 2.78 seconds\n",
      "Analysis running: [gdi --project-dir simulations/cov-50/index-reads --ncores 32 analysis --use-conda --no-load-data --reference-file simulations/reference/reference.fa.gz --kmer-size 31 --kmer-size 51 --kmer-size 71 --include-kmer --reads-mincov 10 --input-structured-genomes-file simulations/cov-50/input-reads.tsv]\n"
     ]
    },
    {
     "name": "stdout",
     "output_type": "stream",
     "text": [
      "Analysis took 1.75 minutes\n",
      "Index running: [gdi --project-dir simulations/cov-50/index-reads --ncores 32 load vcf-kmer --reference-file simulations/reference/reference.fa.gz /home/CSCScience.ca/apetkau/workspace/genomics-data-index-evaluation/evaluations/simulation/snakemake-assemblies.1631402843.2150207/gdi-input.fofn]\n"
     ]
    },
    {
     "name": "stdout",
     "output_type": "stream",
     "text": [
      "Indexing took 0.12 minutes\n",
      "Building tree: [gdi --project-dir simulations/cov-50/index-reads --ncores 32 rebuild tree --align-type full --extra-params '--fast -m GTR+F+R4' reference]\n"
     ]
    },
    {
     "name": "stdout",
     "output_type": "stream",
     "text": [
      "Building tree took 1.71 minutes\n"
     ]
    },
    {
     "name": "stderr",
     "output_type": "stream",
     "text": [
      "Attempting to set global database_path_translator=<genomics_data_index.storage.model.db.DatabasePathTranslator.DatabasePathTranslator object at 0x7fc0410d0b20> but it is already set\n"
     ]
    },
    {
     "name": "stderr",
     "output_type": "stream",
     "text": [
      "A reminder to myself to look for a Python solution for directory sizes (instead of running `du`)\n"
     ]
    },
    {
     "name": "stdout",
     "output_type": "stream",
     "text": [
      "\n",
      "Iteration 3 of index/analysis of 59 samples with 32 cores\n",
      "Removing any extra snakemake directories: ['snakemake-assemblies.1631402843.2150207']\n"
     ]
    },
    {
     "name": "stdout",
     "output_type": "stream",
     "text": [
      "Removing any existing indexes simulations/cov-50/index-reads\n",
      "Creating new index: [gdi init simulations/cov-50/index-reads]\n"
     ]
    },
    {
     "name": "stdout",
     "output_type": "stream",
     "text": [
      "Creating a new index took 2.57 seconds\n",
      "Analysis running: [gdi --project-dir simulations/cov-50/index-reads --ncores 32 analysis --use-conda --no-load-data --reference-file simulations/reference/reference.fa.gz --kmer-size 31 --kmer-size 51 --kmer-size 71 --include-kmer --reads-mincov 10 --input-structured-genomes-file simulations/cov-50/input-reads.tsv]\n"
     ]
    },
    {
     "name": "stdout",
     "output_type": "stream",
     "text": [
      "Analysis took 1.72 minutes\n",
      "Index running: [gdi --project-dir simulations/cov-50/index-reads --ncores 32 load vcf-kmer --reference-file simulations/reference/reference.fa.gz /home/CSCScience.ca/apetkau/workspace/genomics-data-index-evaluation/evaluations/simulation/snakemake-assemblies.1631403062.076192/gdi-input.fofn]\n"
     ]
    },
    {
     "name": "stdout",
     "output_type": "stream",
     "text": [
      "Indexing took 0.12 minutes\n",
      "Building tree: [gdi --project-dir simulations/cov-50/index-reads --ncores 32 rebuild tree --align-type full --extra-params '--fast -m GTR+F+R4' reference]\n"
     ]
    },
    {
     "name": "stdout",
     "output_type": "stream",
     "text": [
      "Building tree took 1.78 minutes\n"
     ]
    },
    {
     "name": "stderr",
     "output_type": "stream",
     "text": [
      "Attempting to set global database_path_translator=<genomics_data_index.storage.model.db.DatabasePathTranslator.DatabasePathTranslator object at 0x7fc04104daf0> but it is already set\n"
     ]
    },
    {
     "name": "stderr",
     "output_type": "stream",
     "text": [
      "A reminder to myself to look for a Python solution for directory sizes (instead of running `du`)\n"
     ]
    }
   ],
   "source": [
    "results_handler = gdi_benchmark.BenchmarkResultsHandler(name=f'{case_name} reads')\n",
    "benchmarker = gdi_benchmark.IndexBenchmarker(benchmark_results_handler=results_handler,\n",
    "                                             index_path=index_reads_path, input_files_file=input_genomes_file,\n",
    "                                             reference_file=reference_file, mincov=mincov, build_tree=True,\n",
    "                                             ncores=ncores)\n",
    "\n",
    "benchmark_df = benchmarker.benchmark(iterations=iterations)"
   ]
  },
  {
   "cell_type": "code",
   "execution_count": 7,
   "id": "3bcb6da7-0164-47f2-abdd-a4c159da1e3b",
   "metadata": {
    "execution": {
     "iopub.execute_input": "2021-09-11T23:34:37.083838Z",
     "iopub.status.busy": "2021-09-11T23:34:37.069221Z",
     "iopub.status.idle": "2021-09-11T23:34:37.097664Z",
     "shell.execute_reply": "2021-09-11T23:34:37.096707Z"
    },
    "papermill": {
     "duration": 0.059714,
     "end_time": "2021-09-11T23:34:37.097895",
     "exception": false,
     "start_time": "2021-09-11T23:34:37.038181",
     "status": "completed"
    },
    "tags": []
   },
   "outputs": [
    {
     "data": {
      "text/html": [
       "<div>\n",
       "<style scoped>\n",
       "    .dataframe tbody tr th:only-of-type {\n",
       "        vertical-align: middle;\n",
       "    }\n",
       "\n",
       "    .dataframe tbody tr th {\n",
       "        vertical-align: top;\n",
       "    }\n",
       "\n",
       "    .dataframe thead th {\n",
       "        text-align: right;\n",
       "    }\n",
       "</style>\n",
       "<table border=\"1\" class=\"dataframe\">\n",
       "  <thead>\n",
       "    <tr style=\"text-align: right;\">\n",
       "      <th></th>\n",
       "      <th>Name</th>\n",
       "      <th>Iteration</th>\n",
       "      <th>Number samples</th>\n",
       "      <th>Number features (all)</th>\n",
       "      <th>Number features (no unknown)</th>\n",
       "      <th>Number cores</th>\n",
       "      <th>Reference length</th>\n",
       "      <th>Analysis runtime</th>\n",
       "      <th>Analysis memory (max)</th>\n",
       "      <th>Analysis memory (max/process)</th>\n",
       "      <th>Analysis disk uage</th>\n",
       "      <th>Index runtime</th>\n",
       "      <th>Index memory (max)</th>\n",
       "      <th>Index memory (max/process)</th>\n",
       "      <th>Index size</th>\n",
       "      <th>Tree runtime</th>\n",
       "      <th>Tree memory (max)</th>\n",
       "      <th>Tree memory (max/process)</th>\n",
       "      <th>Total runtime</th>\n",
       "      <th>Max memory</th>\n",
       "    </tr>\n",
       "  </thead>\n",
       "  <tbody>\n",
       "    <tr>\n",
       "      <th>0</th>\n",
       "      <td>cov-50 reads</td>\n",
       "      <td>1</td>\n",
       "      <td>59</td>\n",
       "      <td>2314</td>\n",
       "      <td>1326</td>\n",
       "      <td>32</td>\n",
       "      <td>19699</td>\n",
       "      <td>102.10</td>\n",
       "      <td>2.577445e+09</td>\n",
       "      <td>397434880.0</td>\n",
       "      <td>3.308347e+09</td>\n",
       "      <td>6.94</td>\n",
       "      <td>5.789184e+09</td>\n",
       "      <td>266985472.0</td>\n",
       "      <td>2084864.0</td>\n",
       "      <td>88.72</td>\n",
       "      <td>251572224.0</td>\n",
       "      <td>222760960.0</td>\n",
       "      <td>197.76</td>\n",
       "      <td>5.789184e+09</td>\n",
       "    </tr>\n",
       "    <tr>\n",
       "      <th>0</th>\n",
       "      <td>cov-50 reads</td>\n",
       "      <td>2</td>\n",
       "      <td>59</td>\n",
       "      <td>2314</td>\n",
       "      <td>1326</td>\n",
       "      <td>32</td>\n",
       "      <td>19699</td>\n",
       "      <td>104.65</td>\n",
       "      <td>2.549654e+09</td>\n",
       "      <td>392560640.0</td>\n",
       "      <td>3.308339e+09</td>\n",
       "      <td>7.00</td>\n",
       "      <td>5.787582e+09</td>\n",
       "      <td>267595776.0</td>\n",
       "      <td>2088960.0</td>\n",
       "      <td>102.44</td>\n",
       "      <td>251670528.0</td>\n",
       "      <td>222937088.0</td>\n",
       "      <td>214.09</td>\n",
       "      <td>5.787582e+09</td>\n",
       "    </tr>\n",
       "    <tr>\n",
       "      <th>0</th>\n",
       "      <td>cov-50 reads</td>\n",
       "      <td>3</td>\n",
       "      <td>59</td>\n",
       "      <td>2314</td>\n",
       "      <td>1326</td>\n",
       "      <td>32</td>\n",
       "      <td>19699</td>\n",
       "      <td>103.00</td>\n",
       "      <td>2.536288e+09</td>\n",
       "      <td>398966784.0</td>\n",
       "      <td>3.308347e+09</td>\n",
       "      <td>7.05</td>\n",
       "      <td>5.785571e+09</td>\n",
       "      <td>267132928.0</td>\n",
       "      <td>2093056.0</td>\n",
       "      <td>106.90</td>\n",
       "      <td>251871232.0</td>\n",
       "      <td>223277056.0</td>\n",
       "      <td>216.95</td>\n",
       "      <td>5.785571e+09</td>\n",
       "    </tr>\n",
       "  </tbody>\n",
       "</table>\n",
       "</div>"
      ],
      "text/plain": [
       "           Name  Iteration  Number samples  Number features (all)  \\\n",
       "0  cov-50 reads          1              59                   2314   \n",
       "0  cov-50 reads          2              59                   2314   \n",
       "0  cov-50 reads          3              59                   2314   \n",
       "\n",
       "   Number features (no unknown)  Number cores  Reference length  \\\n",
       "0                          1326            32             19699   \n",
       "0                          1326            32             19699   \n",
       "0                          1326            32             19699   \n",
       "\n",
       "   Analysis runtime  Analysis memory (max)  Analysis memory (max/process)  \\\n",
       "0            102.10           2.577445e+09                    397434880.0   \n",
       "0            104.65           2.549654e+09                    392560640.0   \n",
       "0            103.00           2.536288e+09                    398966784.0   \n",
       "\n",
       "   Analysis disk uage  Index runtime  Index memory (max)  \\\n",
       "0        3.308347e+09           6.94        5.789184e+09   \n",
       "0        3.308339e+09           7.00        5.787582e+09   \n",
       "0        3.308347e+09           7.05        5.785571e+09   \n",
       "\n",
       "   Index memory (max/process)  Index size  Tree runtime  Tree memory (max)  \\\n",
       "0                 266985472.0   2084864.0         88.72        251572224.0   \n",
       "0                 267595776.0   2088960.0        102.44        251670528.0   \n",
       "0                 267132928.0   2093056.0        106.90        251871232.0   \n",
       "\n",
       "   Tree memory (max/process)  Total runtime    Max memory  \n",
       "0                222760960.0         197.76  5.789184e+09  \n",
       "0                222937088.0         214.09  5.787582e+09  \n",
       "0                223277056.0         216.95  5.785571e+09  "
      ]
     },
     "execution_count": 7,
     "metadata": {},
     "output_type": "execute_result"
    }
   ],
   "source": [
    "benchmark_df"
   ]
  },
  {
   "cell_type": "code",
   "execution_count": 8,
   "id": "535a9ccc-ab9c-4919-806f-128e1efd2389",
   "metadata": {
    "execution": {
     "iopub.execute_input": "2021-09-11T23:34:37.142034Z",
     "iopub.status.busy": "2021-09-11T23:34:37.140182Z",
     "iopub.status.idle": "2021-09-11T23:34:37.148702Z",
     "shell.execute_reply": "2021-09-11T23:34:37.148273Z"
    },
    "papermill": {
     "duration": 0.027406,
     "end_time": "2021-09-11T23:34:37.148817",
     "exception": false,
     "start_time": "2021-09-11T23:34:37.121411",
     "status": "completed"
    },
    "tags": []
   },
   "outputs": [],
   "source": [
    "index_reads_runtime = simulation_dir_path / 'reads-index-info.tsv'\n",
    "benchmark_df.to_csv(index_reads_runtime, sep='\\t', index=False)"
   ]
  },
  {
   "cell_type": "markdown",
   "id": "c331578f-4026-4a9f-a3ba-288814b02ed2",
   "metadata": {
    "papermill": {
     "duration": 0.011099,
     "end_time": "2021-09-11T23:34:37.175415",
     "exception": false,
     "start_time": "2021-09-11T23:34:37.164316",
     "status": "completed"
    },
    "tags": []
   },
   "source": [
    "## 2.2. Index assemblies"
   ]
  },
  {
   "cell_type": "code",
   "execution_count": 9,
   "id": "6e6664f4-94ee-4c45-b1fc-e048b387fa49",
   "metadata": {
    "execution": {
     "iopub.execute_input": "2021-09-11T23:34:37.213350Z",
     "iopub.status.busy": "2021-09-11T23:34:37.205135Z",
     "iopub.status.idle": "2021-09-11T23:34:40.003250Z",
     "shell.execute_reply": "2021-09-11T23:34:40.002169Z"
    },
    "papermill": {
     "duration": 2.817102,
     "end_time": "2021-09-11T23:34:40.003592",
     "exception": false,
     "start_time": "2021-09-11T23:34:37.186490",
     "status": "completed"
    },
    "tags": []
   },
   "outputs": [],
   "source": [
    "input_genomes_file = simulation_dir_path / 'input-assemblies.tsv'\n",
    "\n",
    "!gdi input --absolute {assemblies_dir}/*.fa.gz > {input_genomes_file}"
   ]
  },
  {
   "cell_type": "code",
   "execution_count": 10,
   "id": "0a1e62f3-3b0c-4a90-a7fe-f0bc1094e350",
   "metadata": {
    "execution": {
     "iopub.execute_input": "2021-09-11T23:34:40.054667Z",
     "iopub.status.busy": "2021-09-11T23:34:40.054260Z",
     "iopub.status.idle": "2021-09-11T23:44:26.271748Z",
     "shell.execute_reply": "2021-09-11T23:44:26.272614Z"
    },
    "papermill": {
     "duration": 586.242952,
     "end_time": "2021-09-11T23:44:26.272945",
     "exception": false,
     "start_time": "2021-09-11T23:34:40.029993",
     "status": "completed"
    },
    "tags": []
   },
   "outputs": [
    {
     "name": "stdout",
     "output_type": "stream",
     "text": [
      "\n",
      "Iteration 1 of index/analysis of 59 samples with 32 cores\n",
      "Removing any extra snakemake directories: ['snakemake-assemblies.1631403062.076192']\n"
     ]
    },
    {
     "name": "stdout",
     "output_type": "stream",
     "text": [
      "Creating new index: [gdi init simulations/cov-50/index-assemblies]\n"
     ]
    },
    {
     "name": "stdout",
     "output_type": "stream",
     "text": [
      "Creating a new index took 2.79 seconds\n",
      "Analysis running: [gdi --project-dir simulations/cov-50/index-assemblies --ncores 32 analysis --use-conda --no-load-data --reference-file simulations/reference/reference.fa.gz --kmer-size 31 --kmer-size 51 --kmer-size 71 --include-kmer --reads-mincov 10 --input-structured-genomes-file simulations/cov-50/input-assemblies.tsv]\n"
     ]
    },
    {
     "name": "stdout",
     "output_type": "stream",
     "text": [
      "Analysis took 1.51 minutes\n",
      "Index running: [gdi --project-dir simulations/cov-50/index-assemblies --ncores 32 load vcf-kmer --reference-file simulations/reference/reference.fa.gz /home/CSCScience.ca/apetkau/workspace/genomics-data-index-evaluation/evaluations/simulation/snakemake-assemblies.1631403287.1738367/gdi-input.fofn]\n"
     ]
    },
    {
     "name": "stdout",
     "output_type": "stream",
     "text": [
      "Indexing took 0.11 minutes\n",
      "Building tree: [gdi --project-dir simulations/cov-50/index-assemblies --ncores 32 rebuild tree --align-type full --extra-params '--fast -m GTR+F+R4' reference]\n"
     ]
    },
    {
     "name": "stdout",
     "output_type": "stream",
     "text": [
      "Building tree took 1.71 minutes\n"
     ]
    },
    {
     "name": "stderr",
     "output_type": "stream",
     "text": [
      "Attempting to set global database_path_translator=<genomics_data_index.storage.model.db.DatabasePathTranslator.DatabasePathTranslator object at 0x7fc0410e7c70> but it is already set\n"
     ]
    },
    {
     "name": "stderr",
     "output_type": "stream",
     "text": [
      "A reminder to myself to look for a Python solution for directory sizes (instead of running `du`)\n"
     ]
    },
    {
     "name": "stdout",
     "output_type": "stream",
     "text": [
      "\n",
      "Iteration 2 of index/analysis of 59 samples with 32 cores\n",
      "Removing any extra snakemake directories: ['snakemake-assemblies.1631403287.1738367']\n"
     ]
    },
    {
     "name": "stdout",
     "output_type": "stream",
     "text": [
      "Removing any existing indexes simulations/cov-50/index-assemblies\n",
      "Creating new index: [gdi init simulations/cov-50/index-assemblies]\n"
     ]
    },
    {
     "name": "stdout",
     "output_type": "stream",
     "text": [
      "Creating a new index took 2.91 seconds\n",
      "Analysis running: [gdi --project-dir simulations/cov-50/index-assemblies --ncores 32 analysis --use-conda --no-load-data --reference-file simulations/reference/reference.fa.gz --kmer-size 31 --kmer-size 51 --kmer-size 71 --include-kmer --reads-mincov 10 --input-structured-genomes-file simulations/cov-50/input-assemblies.tsv]\n"
     ]
    },
    {
     "name": "stdout",
     "output_type": "stream",
     "text": [
      "Analysis took 1.59 minutes\n",
      "Index running: [gdi --project-dir simulations/cov-50/index-assemblies --ncores 32 load vcf-kmer --reference-file simulations/reference/reference.fa.gz /home/CSCScience.ca/apetkau/workspace/genomics-data-index-evaluation/evaluations/simulation/snakemake-assemblies.1631403491.1573045/gdi-input.fofn]\n"
     ]
    },
    {
     "name": "stdout",
     "output_type": "stream",
     "text": [
      "Indexing took 0.10 minutes\n",
      "Building tree: [gdi --project-dir simulations/cov-50/index-assemblies --ncores 32 rebuild tree --align-type full --extra-params '--fast -m GTR+F+R4' reference]\n"
     ]
    },
    {
     "name": "stdout",
     "output_type": "stream",
     "text": [
      "Building tree took 1.64 minutes\n"
     ]
    },
    {
     "name": "stderr",
     "output_type": "stream",
     "text": [
      "Attempting to set global database_path_translator=<genomics_data_index.storage.model.db.DatabasePathTranslator.DatabasePathTranslator object at 0x7fc0410e7ca0> but it is already set\n"
     ]
    },
    {
     "name": "stderr",
     "output_type": "stream",
     "text": [
      "A reminder to myself to look for a Python solution for directory sizes (instead of running `du`)\n"
     ]
    },
    {
     "name": "stdout",
     "output_type": "stream",
     "text": [
      "\n",
      "Iteration 3 of index/analysis of 59 samples with 32 cores\n",
      "Removing any extra snakemake directories: ['snakemake-assemblies.1631403491.1573045']\n"
     ]
    },
    {
     "name": "stdout",
     "output_type": "stream",
     "text": [
      "Removing any existing indexes simulations/cov-50/index-assemblies\n",
      "Creating new index: [gdi init simulations/cov-50/index-assemblies]\n"
     ]
    },
    {
     "name": "stdout",
     "output_type": "stream",
     "text": [
      "Creating a new index took 2.76 seconds\n",
      "Analysis running: [gdi --project-dir simulations/cov-50/index-assemblies --ncores 32 analysis --use-conda --no-load-data --reference-file simulations/reference/reference.fa.gz --kmer-size 31 --kmer-size 51 --kmer-size 71 --include-kmer --reads-mincov 10 --input-structured-genomes-file simulations/cov-50/input-assemblies.tsv]\n"
     ]
    },
    {
     "name": "stdout",
     "output_type": "stream",
     "text": [
      "Analysis took 1.51 minutes\n",
      "Index running: [gdi --project-dir simulations/cov-50/index-assemblies --ncores 32 load vcf-kmer --reference-file simulations/reference/reference.fa.gz /home/CSCScience.ca/apetkau/workspace/genomics-data-index-evaluation/evaluations/simulation/snakemake-assemblies.1631403695.5641382/gdi-input.fofn]\n"
     ]
    },
    {
     "name": "stdout",
     "output_type": "stream",
     "text": [
      "Indexing took 0.11 minutes\n",
      "Building tree: [gdi --project-dir simulations/cov-50/index-assemblies --ncores 32 rebuild tree --align-type full --extra-params '--fast -m GTR+F+R4' reference]\n"
     ]
    },
    {
     "name": "stdout",
     "output_type": "stream",
     "text": [
      "Building tree took 1.27 minutes\n"
     ]
    },
    {
     "name": "stderr",
     "output_type": "stream",
     "text": [
      "Attempting to set global database_path_translator=<genomics_data_index.storage.model.db.DatabasePathTranslator.DatabasePathTranslator object at 0x7fc049ba1b50> but it is already set\n"
     ]
    },
    {
     "name": "stderr",
     "output_type": "stream",
     "text": [
      "A reminder to myself to look for a Python solution for directory sizes (instead of running `du`)\n"
     ]
    }
   ],
   "source": [
    "results_handler = gdi_benchmark.BenchmarkResultsHandler(name=f'{case_name} assemblies')\n",
    "benchmarker = gdi_benchmark.IndexBenchmarker(benchmark_results_handler=results_handler,\n",
    "                                             index_path=index_assemblies_path, input_files_file=input_genomes_file,\n",
    "                                             reference_file=reference_file, mincov=mincov, build_tree=True,\n",
    "                                             ncores=ncores)\n",
    "\n",
    "benchmark_df = benchmarker.benchmark(iterations=iterations)"
   ]
  },
  {
   "cell_type": "code",
   "execution_count": 11,
   "id": "a6d55a9d-be2f-4851-b66c-04b5ebd597a1",
   "metadata": {
    "execution": {
     "iopub.execute_input": "2021-09-11T23:44:26.353026Z",
     "iopub.status.busy": "2021-09-11T23:44:26.341796Z",
     "iopub.status.idle": "2021-09-11T23:44:26.358241Z",
     "shell.execute_reply": "2021-09-11T23:44:26.357363Z"
    },
    "papermill": {
     "duration": 0.054747,
     "end_time": "2021-09-11T23:44:26.358446",
     "exception": false,
     "start_time": "2021-09-11T23:44:26.303699",
     "status": "completed"
    },
    "tags": []
   },
   "outputs": [
    {
     "data": {
      "text/html": [
       "<div>\n",
       "<style scoped>\n",
       "    .dataframe tbody tr th:only-of-type {\n",
       "        vertical-align: middle;\n",
       "    }\n",
       "\n",
       "    .dataframe tbody tr th {\n",
       "        vertical-align: top;\n",
       "    }\n",
       "\n",
       "    .dataframe thead th {\n",
       "        text-align: right;\n",
       "    }\n",
       "</style>\n",
       "<table border=\"1\" class=\"dataframe\">\n",
       "  <thead>\n",
       "    <tr style=\"text-align: right;\">\n",
       "      <th></th>\n",
       "      <th>Name</th>\n",
       "      <th>Iteration</th>\n",
       "      <th>Number samples</th>\n",
       "      <th>Number features (all)</th>\n",
       "      <th>Number features (no unknown)</th>\n",
       "      <th>Number cores</th>\n",
       "      <th>Reference length</th>\n",
       "      <th>Analysis runtime</th>\n",
       "      <th>Analysis memory (max)</th>\n",
       "      <th>Analysis memory (max/process)</th>\n",
       "      <th>Analysis disk uage</th>\n",
       "      <th>Index runtime</th>\n",
       "      <th>Index memory (max)</th>\n",
       "      <th>Index memory (max/process)</th>\n",
       "      <th>Index size</th>\n",
       "      <th>Tree runtime</th>\n",
       "      <th>Tree memory (max)</th>\n",
       "      <th>Tree memory (max/process)</th>\n",
       "      <th>Total runtime</th>\n",
       "      <th>Max memory</th>\n",
       "    </tr>\n",
       "  </thead>\n",
       "  <tbody>\n",
       "    <tr>\n",
       "      <th>0</th>\n",
       "      <td>cov-50 assemblies</td>\n",
       "      <td>1</td>\n",
       "      <td>59</td>\n",
       "      <td>1350</td>\n",
       "      <td>1350</td>\n",
       "      <td>32</td>\n",
       "      <td>19699</td>\n",
       "      <td>90.19</td>\n",
       "      <td>1.147531e+09</td>\n",
       "      <td>365211648.0</td>\n",
       "      <td>2.084602e+09</td>\n",
       "      <td>6.42</td>\n",
       "      <td>5.775438e+09</td>\n",
       "      <td>241274880.0</td>\n",
       "      <td>1351680.0</td>\n",
       "      <td>102.54</td>\n",
       "      <td>240119808.0</td>\n",
       "      <td>222949376.0</td>\n",
       "      <td>199.15</td>\n",
       "      <td>5.775438e+09</td>\n",
       "    </tr>\n",
       "    <tr>\n",
       "      <th>0</th>\n",
       "      <td>cov-50 assemblies</td>\n",
       "      <td>2</td>\n",
       "      <td>59</td>\n",
       "      <td>1350</td>\n",
       "      <td>1350</td>\n",
       "      <td>32</td>\n",
       "      <td>19699</td>\n",
       "      <td>95.36</td>\n",
       "      <td>1.286865e+09</td>\n",
       "      <td>368476160.0</td>\n",
       "      <td>2.084594e+09</td>\n",
       "      <td>6.12</td>\n",
       "      <td>5.772788e+09</td>\n",
       "      <td>241238016.0</td>\n",
       "      <td>1359872.0</td>\n",
       "      <td>98.50</td>\n",
       "      <td>239169536.0</td>\n",
       "      <td>223248384.0</td>\n",
       "      <td>199.98</td>\n",
       "      <td>5.772788e+09</td>\n",
       "    </tr>\n",
       "    <tr>\n",
       "      <th>0</th>\n",
       "      <td>cov-50 assemblies</td>\n",
       "      <td>3</td>\n",
       "      <td>59</td>\n",
       "      <td>1350</td>\n",
       "      <td>1350</td>\n",
       "      <td>32</td>\n",
       "      <td>19699</td>\n",
       "      <td>90.23</td>\n",
       "      <td>1.218273e+09</td>\n",
       "      <td>364904448.0</td>\n",
       "      <td>2.084598e+09</td>\n",
       "      <td>6.32</td>\n",
       "      <td>5.766668e+09</td>\n",
       "      <td>241405952.0</td>\n",
       "      <td>1355776.0</td>\n",
       "      <td>76.09</td>\n",
       "      <td>240177152.0</td>\n",
       "      <td>222846976.0</td>\n",
       "      <td>172.64</td>\n",
       "      <td>5.766668e+09</td>\n",
       "    </tr>\n",
       "  </tbody>\n",
       "</table>\n",
       "</div>"
      ],
      "text/plain": [
       "                Name  Iteration  Number samples  Number features (all)  \\\n",
       "0  cov-50 assemblies          1              59                   1350   \n",
       "0  cov-50 assemblies          2              59                   1350   \n",
       "0  cov-50 assemblies          3              59                   1350   \n",
       "\n",
       "   Number features (no unknown)  Number cores  Reference length  \\\n",
       "0                          1350            32             19699   \n",
       "0                          1350            32             19699   \n",
       "0                          1350            32             19699   \n",
       "\n",
       "   Analysis runtime  Analysis memory (max)  Analysis memory (max/process)  \\\n",
       "0             90.19           1.147531e+09                    365211648.0   \n",
       "0             95.36           1.286865e+09                    368476160.0   \n",
       "0             90.23           1.218273e+09                    364904448.0   \n",
       "\n",
       "   Analysis disk uage  Index runtime  Index memory (max)  \\\n",
       "0        2.084602e+09           6.42        5.775438e+09   \n",
       "0        2.084594e+09           6.12        5.772788e+09   \n",
       "0        2.084598e+09           6.32        5.766668e+09   \n",
       "\n",
       "   Index memory (max/process)  Index size  Tree runtime  Tree memory (max)  \\\n",
       "0                 241274880.0   1351680.0        102.54        240119808.0   \n",
       "0                 241238016.0   1359872.0         98.50        239169536.0   \n",
       "0                 241405952.0   1355776.0         76.09        240177152.0   \n",
       "\n",
       "   Tree memory (max/process)  Total runtime    Max memory  \n",
       "0                222949376.0         199.15  5.775438e+09  \n",
       "0                223248384.0         199.98  5.772788e+09  \n",
       "0                222846976.0         172.64  5.766668e+09  "
      ]
     },
     "execution_count": 11,
     "metadata": {},
     "output_type": "execute_result"
    }
   ],
   "source": [
    "benchmark_df"
   ]
  },
  {
   "cell_type": "code",
   "execution_count": 12,
   "id": "e1a6d962-50bc-4c8d-a6f2-3a661da706b4",
   "metadata": {
    "execution": {
     "iopub.execute_input": "2021-09-11T23:44:26.413133Z",
     "iopub.status.busy": "2021-09-11T23:44:26.412738Z",
     "iopub.status.idle": "2021-09-11T23:44:26.415985Z",
     "shell.execute_reply": "2021-09-11T23:44:26.416281Z"
    },
    "papermill": {
     "duration": 0.028614,
     "end_time": "2021-09-11T23:44:26.416377",
     "exception": false,
     "start_time": "2021-09-11T23:44:26.387763",
     "status": "completed"
    },
    "tags": []
   },
   "outputs": [],
   "source": [
    "index_assemblies_runtime = simulation_dir_path / 'assemblies-index-info.tsv'\n",
    "benchmark_df.to_csv(index_assemblies_runtime, sep='\\t', index=False)"
   ]
  },
  {
   "cell_type": "markdown",
   "id": "6cb7673b-9f85-4c43-b2e2-93538497a196",
   "metadata": {
    "papermill": {
     "duration": 0.015918,
     "end_time": "2021-09-11T23:44:26.451178",
     "exception": false,
     "start_time": "2021-09-11T23:44:26.435260",
     "status": "completed"
    },
    "tags": []
   },
   "source": [
    "# 3. Export trees"
   ]
  },
  {
   "cell_type": "code",
   "execution_count": 13,
   "id": "5280f82c-5434-4391-8c44-b937a7c95bd5",
   "metadata": {
    "execution": {
     "iopub.execute_input": "2021-09-11T23:44:26.500540Z",
     "iopub.status.busy": "2021-09-11T23:44:26.491068Z",
     "iopub.status.idle": "2021-09-11T23:44:32.264522Z",
     "shell.execute_reply": "2021-09-11T23:44:32.265370Z"
    },
    "papermill": {
     "duration": 5.799068,
     "end_time": "2021-09-11T23:44:32.265700",
     "exception": false,
     "start_time": "2021-09-11T23:44:26.466632",
     "status": "completed"
    },
    "tags": []
   },
   "outputs": [
    {
     "name": "stdout",
     "output_type": "stream",
     "text": [
      "Wrote assemblies tree to simulations/cov-50/index-assemblies/assemblies.tre\n"
     ]
    },
    {
     "name": "stdout",
     "output_type": "stream",
     "text": [
      "Wrote assemblies tree to simulations/cov-50/index-reads/reads.tre\n"
     ]
    }
   ],
   "source": [
    "!gdi --project-dir {index_assemblies_path} export tree {reference_name} > {output_assemblies_tree}\n",
    "print(f'Wrote assemblies tree to {output_assemblies_tree}')\n",
    "\n",
    "!gdi --project-dir {index_reads_path} export tree {reference_name} > {output_reads_tree}\n",
    "print(f'Wrote assemblies tree to {output_reads_tree}')"
   ]
  }
 ],
 "metadata": {
  "kernelspec": {
   "display_name": "Python 3 (ipykernel)",
   "language": "python",
   "name": "python3"
  },
  "language_info": {
   "codemirror_mode": {
    "name": "ipython",
    "version": 3
   },
   "file_extension": ".py",
   "mimetype": "text/x-python",
   "name": "python",
   "nbconvert_exporter": "python",
   "pygments_lexer": "ipython3",
   "version": "3.8.10"
  },
  "papermill": {
   "default_parameters": {},
   "duration": 1248.415995,
   "end_time": "2021-09-11T23:44:32.914134",
   "environment_variables": {},
   "exception": null,
   "input_path": "template-3-index-genomes.ipynb",
   "output_path": "3-index-genomes.simulation-cov-50.ipynb",
   "parameters": {
    "iterations": 3,
    "mincov": 10,
    "read_coverage": 50,
    "simulation_dir": "simulations/cov-50",
    "sub_alpha": 0.2
   },
   "start_time": "2021-09-11T23:23:44.498139",
   "version": "2.3.3"
  }
 },
 "nbformat": 4,
 "nbformat_minor": 5
}