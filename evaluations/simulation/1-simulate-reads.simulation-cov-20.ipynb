{
 "cells": [
  {
   "cell_type": "markdown",
   "id": "39afc998-7d9f-4d4e-9147-fb6198f83f2d",
   "metadata": {
    "papermill": {
     "duration": 0.016789,
     "end_time": "2021-09-02T02:45:34.055900",
     "exception": false,
     "start_time": "2021-09-02T02:45:34.039111",
     "status": "completed"
    },
    "tags": []
   },
   "source": [
    "# 1. Parameters"
   ]
  },
  {
   "cell_type": "code",
   "execution_count": 1,
   "id": "8eee723b-55a2-4355-b867-c5e682a9f800",
   "metadata": {
    "execution": {
     "iopub.execute_input": "2021-09-02T02:45:34.181388Z",
     "iopub.status.busy": "2021-09-02T02:45:34.178982Z",
     "iopub.status.idle": "2021-09-02T02:45:34.244819Z",
     "shell.execute_reply": "2021-09-02T02:45:34.243564Z"
    },
    "papermill": {
     "duration": 0.180039,
     "end_time": "2021-09-02T02:45:34.245069",
     "exception": false,
     "start_time": "2021-09-02T02:45:34.065030",
     "status": "completed"
    },
    "tags": [
     "parameters"
    ]
   },
   "outputs": [],
   "source": [
    "# Defaults\n",
    "\n",
    "## Random seed\n",
    "random_seed <- 25524\n",
    "\n",
    "## Directories\n",
    "simulation_dir <- \"simulations/unset\"\n",
    "reference_file <- \"simulations/reference/reference.fa.gz\"\n",
    "initial_tree_file <- \"input/salmonella.tre\"\n",
    "\n",
    "## Simulation parameters\n",
    "sub_lambda <- 1e-2\n",
    "sub_pi_tcag <- c(0.1, 0.2, 0.3, 0.4)\n",
    "sub_alpha <- 0.2\n",
    "sub_beta <- 0.1\n",
    "sub_mu <- 1\n",
    "sub_invariant <- 0.3\n",
    "ins_rate <- 1e-4\n",
    "ins_max_length <- 60\n",
    "ins_a <- 1.6\n",
    "del_rate <- 1e-4\n",
    "del_max_length <- 60\n",
    "del_a <- 1.6\n",
    "\n",
    "## Read simulation information\n",
    "read_coverage <- 30\n",
    "read_length <- 250\n",
    "\n",
    "## Other\n",
    "ncores <- 48"
   ]
  },
  {
   "cell_type": "code",
   "execution_count": 2,
   "id": "58765821",
   "metadata": {
    "execution": {
     "iopub.execute_input": "2021-09-02T02:45:34.319047Z",
     "iopub.status.busy": "2021-09-02T02:45:34.279080Z",
     "iopub.status.idle": "2021-09-02T02:45:34.333278Z",
     "shell.execute_reply": "2021-09-02T02:45:34.331926Z"
    },
    "papermill": {
     "duration": 0.071343,
     "end_time": "2021-09-02T02:45:34.333505",
     "exception": false,
     "start_time": "2021-09-02T02:45:34.262162",
     "status": "completed"
    },
    "tags": [
     "injected-parameters"
    ]
   },
   "outputs": [],
   "source": [
    "# Parameters\n",
    "read_coverage = 20\n",
    "mincov = 10\n",
    "simulation_dir = \"simulations/cov-20\"\n",
    "iterations = 3\n"
   ]
  },
  {
   "cell_type": "code",
   "execution_count": 3,
   "id": "845350c4-9369-4350-bcce-504d05f5ff55",
   "metadata": {
    "execution": {
     "iopub.execute_input": "2021-09-02T02:45:34.367905Z",
     "iopub.status.busy": "2021-09-02T02:45:34.364208Z",
     "iopub.status.idle": "2021-09-02T02:45:34.397367Z",
     "shell.execute_reply": "2021-09-02T02:45:34.396287Z"
    },
    "papermill": {
     "duration": 0.049396,
     "end_time": "2021-09-02T02:45:34.397589",
     "exception": false,
     "start_time": "2021-09-02T02:45:34.348193",
     "status": "completed"
    },
    "tags": []
   },
   "outputs": [
    {
     "name": "stdout",
     "output_type": "stream",
     "text": [
      "[1] \"simulations/cov-20/simulated_data\"\n"
     ]
    },
    {
     "name": "stdout",
     "output_type": "stream",
     "text": [
      "[1] \"simulations/cov-20/simulated_data/haplotypes\"\n"
     ]
    }
   ],
   "source": [
    "output_dir <- file.path(simulation_dir, \"simulated_data\")\n",
    "output_vcf_prefix <- file.path(output_dir, \"haplotypes\")\n",
    "reads_data_initial_prefix <- file.path(output_dir, \"reads_initial\", \"data\")\n",
    "set.seed(random_seed)\n",
    "print(output_dir)\n",
    "print(output_vcf_prefix)"
   ]
  },
  {
   "cell_type": "markdown",
   "id": "noticed-coating",
   "metadata": {
    "papermill": {
     "duration": 0.009371,
     "end_time": "2021-09-02T02:45:34.422352",
     "exception": false,
     "start_time": "2021-09-02T02:45:34.412981",
     "status": "completed"
    },
    "tags": []
   },
   "source": [
    "# 2. Generate simulated data\n",
    "\n",
    "This simulates *Salmonella* data using a reference genome and a tree."
   ]
  },
  {
   "cell_type": "code",
   "execution_count": 4,
   "id": "bright-polymer",
   "metadata": {
    "execution": {
     "iopub.execute_input": "2021-09-02T02:45:34.444061Z",
     "iopub.status.busy": "2021-09-02T02:45:34.440763Z",
     "iopub.status.idle": "2021-09-02T02:45:34.557376Z",
     "shell.execute_reply": "2021-09-02T02:45:34.556103Z"
    },
    "papermill": {
     "duration": 0.128764,
     "end_time": "2021-09-02T02:45:34.557601",
     "exception": false,
     "start_time": "2021-09-02T02:45:34.428837",
     "status": "completed"
    },
    "tags": []
   },
   "outputs": [
    {
     "data": {
      "text/html": [
       "TRUE"
      ],
      "text/latex": [
       "TRUE"
      ],
      "text/markdown": [
       "TRUE"
      ],
      "text/plain": [
       "[1] TRUE"
      ]
     },
     "metadata": {},
     "output_type": "display_data"
    }
   ],
   "source": [
    "library(jackalope)\n",
    "\n",
    "# Make sure we've complied with openmp\n",
    "jackalope:::using_openmp()"
   ]
  },
  {
   "cell_type": "code",
   "execution_count": 5,
   "id": "303635b1-41dc-4917-8e90-30832a9acafd",
   "metadata": {
    "execution": {
     "iopub.execute_input": "2021-09-02T02:45:34.592996Z",
     "iopub.status.busy": "2021-09-02T02:45:34.590006Z",
     "iopub.status.idle": "2021-09-02T02:45:34.622642Z",
     "shell.execute_reply": "2021-09-02T02:45:34.621540Z"
    },
    "papermill": {
     "duration": 0.048425,
     "end_time": "2021-09-02T02:45:34.622864",
     "exception": false,
     "start_time": "2021-09-02T02:45:34.574439",
     "status": "completed"
    },
    "tags": []
   },
   "outputs": [
    {
     "data": {
      "text/plain": [
       "< Set of 1 chromosomes >\n",
       "# Total size: 10,834 bp\n",
       "  name                             chromosome                             length\n",
       "chrom0     GTATTGCGAGGGTGGGGGAGTACGGCAG...CAAGAATGCAACCGACTCTGTCGGGACT     10834"
      ]
     },
     "metadata": {},
     "output_type": "display_data"
    }
   ],
   "source": [
    "reference <- read_fasta(reference_file)\n",
    "reference_len <- reference$sizes()\n",
    "reference"
   ]
  },
  {
   "cell_type": "code",
   "execution_count": 6,
   "id": "documented-helmet",
   "metadata": {
    "execution": {
     "iopub.execute_input": "2021-09-02T02:45:34.659394Z",
     "iopub.status.busy": "2021-09-02T02:45:34.656521Z",
     "iopub.status.idle": "2021-09-02T02:45:34.753328Z",
     "shell.execute_reply": "2021-09-02T02:45:34.752242Z"
    },
    "papermill": {
     "duration": 0.113143,
     "end_time": "2021-09-02T02:45:34.753554",
     "exception": false,
     "start_time": "2021-09-02T02:45:34.640411",
     "status": "completed"
    },
    "tags": []
   },
   "outputs": [
    {
     "data": {
      "text/plain": [
       "\n",
       "Phylogenetic tree with 60 tips and 59 internal nodes.\n",
       "\n",
       "Tip labels:\n",
       "  reference, SH12-013, SH12-014, SH10-015, SH10-014, SH11-002, ...\n",
       "Node labels:\n",
       "  Root, 1.000000, 0.000000, 0.000000, 1.000000, 0.000000, ...\n",
       "\n",
       "Rooted; includes branch lengths."
      ]
     },
     "metadata": {},
     "output_type": "display_data"
    }
   ],
   "source": [
    "library(ape)\n",
    "\n",
    "tree <- read.tree(initial_tree_file)\n",
    "tree <- root(tree, \"reference\", resolve.root=TRUE)\n",
    "tree"
   ]
  },
  {
   "cell_type": "code",
   "execution_count": 7,
   "id": "proved-silver",
   "metadata": {
    "execution": {
     "iopub.execute_input": "2021-09-02T02:45:34.790743Z",
     "iopub.status.busy": "2021-09-02T02:45:34.787653Z",
     "iopub.status.idle": "2021-09-02T02:45:34.917455Z",
     "shell.execute_reply": "2021-09-02T02:45:34.916351Z"
    },
    "papermill": {
     "duration": 0.145983,
     "end_time": "2021-09-02T02:45:34.917687",
     "exception": false,
     "start_time": "2021-09-02T02:45:34.771704",
     "status": "completed"
    },
    "tags": []
   },
   "outputs": [
    {
     "data": {
      "text/plain": [
       "                              << haplotypes object >>\n",
       "# Haplotypes: 60\n",
       "# Mutations: 10,109\n",
       "\n",
       "                          << Reference genome info: >>\n",
       "< Set of 1 chromosomes >\n",
       "# Total size: 10,834 bp\n",
       "  name                             chromosome                             length\n",
       "chrom0     GTATTGCGAGGGTGGGGGAGTACGGCAG...CAAGAATGCAACCGACTCTGTCGGGACT     10834"
      ]
     },
     "metadata": {},
     "output_type": "display_data"
    }
   ],
   "source": [
    "sub <- sub_HKY85(pi_tcag = sub_pi_tcag, mu = sub_mu,\n",
    "                 alpha = sub_alpha, beta = sub_beta, gamma_k = 5,\n",
    "                 invariant = sub_invariant)\n",
    "ins <- indels(rate = ins_rate, max_length = ins_max_length, a = ins_a)\n",
    "del <- indels(rate = del_rate, max_length = del_max_length, a = del_a)\n",
    "\n",
    "ref_haplotypes <- create_haplotypes(reference, haps_phylo(tree), sub=sub, ins=ins, del=del)\n",
    "ref_haplotypes"
   ]
  },
  {
   "cell_type": "markdown",
   "id": "535fa02d-c76c-4067-9582-74f3694d16ea",
   "metadata": {
    "papermill": {
     "duration": 0.009705,
     "end_time": "2021-09-02T02:45:34.945411",
     "exception": false,
     "start_time": "2021-09-02T02:45:34.935706",
     "status": "completed"
    },
    "tags": []
   },
   "source": [
    "# 3. Write simulated data"
   ]
  },
  {
   "cell_type": "code",
   "execution_count": 8,
   "id": "smoking-geology",
   "metadata": {
    "execution": {
     "iopub.execute_input": "2021-09-02T02:45:34.969249Z",
     "iopub.status.busy": "2021-09-02T02:45:34.966379Z",
     "iopub.status.idle": "2021-09-02T02:45:35.004363Z",
     "shell.execute_reply": "2021-09-02T02:45:35.003226Z"
    },
    "papermill": {
     "duration": 0.051754,
     "end_time": "2021-09-02T02:45:35.004587",
     "exception": false,
     "start_time": "2021-09-02T02:45:34.952833",
     "status": "completed"
    },
    "tags": []
   },
   "outputs": [],
   "source": [
    "write_vcf(ref_haplotypes, out_prefix=output_vcf_prefix, compress=TRUE)"
   ]
  },
  {
   "cell_type": "code",
   "execution_count": 9,
   "id": "d2657fc5-481e-4b24-bbf8-78c02ee735ce",
   "metadata": {
    "execution": {
     "iopub.execute_input": "2021-09-02T02:45:35.043758Z",
     "iopub.status.busy": "2021-09-02T02:45:35.041074Z",
     "iopub.status.idle": "2021-09-02T02:45:35.144027Z",
     "shell.execute_reply": "2021-09-02T02:45:35.141061Z"
    },
    "papermill": {
     "duration": 0.12071,
     "end_time": "2021-09-02T02:45:35.144192",
     "exception": false,
     "start_time": "2021-09-02T02:45:35.023482",
     "status": "completed"
    },
    "tags": []
   },
   "outputs": [],
   "source": [
    "assemblies_prefix = file.path(output_dir, \"assemblies\", \"data\")\n",
    "\n",
    "write_fasta(ref_haplotypes, out_prefix=assemblies_prefix,\n",
    "            compress=TRUE, n_threads=ncores, overwrite=TRUE)"
   ]
  },
  {
   "cell_type": "code",
   "execution_count": 10,
   "id": "continent-freeze",
   "metadata": {
    "execution": {
     "iopub.execute_input": "2021-09-02T02:45:35.170513Z",
     "iopub.status.busy": "2021-09-02T02:45:35.169556Z",
     "iopub.status.idle": "2021-09-02T02:51:27.650231Z",
     "shell.execute_reply": "2021-09-02T02:51:27.649026Z"
    },
    "papermill": {
     "duration": 352.49271,
     "end_time": "2021-09-02T02:51:27.650485",
     "exception": false,
     "start_time": "2021-09-02T02:45:35.157775",
     "status": "completed"
    },
    "tags": []
   },
   "outputs": [
    {
     "name": "stdout",
     "output_type": "stream",
     "text": [
      "[1] \"Number of reads for coverage 20X and read length 250 over 60 samples with respect to reference with length 10834: 52003\"\n"
     ]
    }
   ],
   "source": [
    "n_samples <- length(tree$tip)\n",
    "n_reads <- round((reference_len * read_coverage * n_samples) / read_length)\n",
    "print(sprintf(\"Number of reads for coverage %sX and read length %s over %s samples with respect to reference with length %s: %s\", \n",
    "              read_coverage, read_length, n_samples, reference_len, n_reads))\n",
    "\n",
    "illumina(ref_haplotypes, out_prefix = reads_data_initial_prefix, sep_files=TRUE, n_reads = n_reads,\n",
    "         frag_mean = read_length * 2 + 50, frag_sd = 100,\n",
    "         compress=TRUE, comp_method=\"bgzip\", n_threads=ncores,\n",
    "         paired=TRUE, read_length = read_length)"
   ]
  },
  {
   "cell_type": "code",
   "execution_count": 11,
   "id": "israeli-unknown",
   "metadata": {
    "execution": {
     "iopub.execute_input": "2021-09-02T02:51:27.693523Z",
     "iopub.status.busy": "2021-09-02T02:51:27.691680Z",
     "iopub.status.idle": "2021-09-02T02:51:27.730469Z",
     "shell.execute_reply": "2021-09-02T02:51:27.729232Z"
    },
    "papermill": {
     "duration": 0.053177,
     "end_time": "2021-09-02T02:51:27.730756",
     "exception": false,
     "start_time": "2021-09-02T02:51:27.677579",
     "status": "completed"
    },
    "tags": []
   },
   "outputs": [
    {
     "name": "stdout",
     "output_type": "stream",
     "text": [
      "[1] \"Removing: simulations/cov-20/simulated_data/reads_initial/data_reference_R1.fq.gz\"\n"
     ]
    },
    {
     "name": "stdout",
     "output_type": "stream",
     "text": [
      "[1] \"Removing: simulations/cov-20/simulated_data/reads_initial/data_reference_R2.fq.gz\"\n"
     ]
    }
   ],
   "source": [
    "# Remove the simulated reads for the reference genome since I don't want these in the tree\n",
    "ref1 <- paste(toString(reads_data_initial_prefix), \"_reference_R1.fq.gz\", sep=\"\")\n",
    "ref2 <- paste(toString(reads_data_initial_prefix), \"_reference_R2.fq.gz\", sep=\"\")\n",
    "if (file.exists(ref1)) {\n",
    "    file.remove(ref1)\n",
    "    print(sprintf(\"Removing: %s\", ref1))\n",
    "}\n",
    "if (file.exists(ref2)) {\n",
    "    file.remove(ref2)\n",
    "    print(sprintf(\"Removing: %s\", ref2))\n",
    "}"
   ]
  },
  {
   "cell_type": "code",
   "execution_count": 12,
   "id": "likely-elite",
   "metadata": {
    "execution": {
     "iopub.execute_input": "2021-09-02T02:51:27.771358Z",
     "iopub.status.busy": "2021-09-02T02:51:27.768303Z",
     "iopub.status.idle": "2021-09-02T02:51:27.790521Z",
     "shell.execute_reply": "2021-09-02T02:51:27.789323Z"
    },
    "papermill": {
     "duration": 0.038578,
     "end_time": "2021-09-02T02:51:27.790749",
     "exception": false,
     "start_time": "2021-09-02T02:51:27.752171",
     "status": "completed"
    },
    "tags": []
   },
   "outputs": [
    {
     "name": "stdout",
     "output_type": "stream",
     "text": [
      "[1] \"Removing: simulations/cov-20/simulated_data/assemblies/data__reference.fa.gz\"\n"
     ]
    }
   ],
   "source": [
    "# Remove the new reference assembly genome since I don't need it\n",
    "ref1 <- paste(toString(assemblies_prefix), \"__reference.fa.gz\", sep=\"\")\n",
    "if (file.exists(ref1)) {\n",
    "    file.remove(ref1)\n",
    "    print(sprintf(\"Removing: %s\", ref1))\n",
    "}"
   ]
  },
  {
   "cell_type": "code",
   "execution_count": null,
   "id": "6ab27399-288a-4067-a812-d946410658a5",
   "metadata": {
    "papermill": {
     "duration": 0.011511,
     "end_time": "2021-09-02T02:51:27.824212",
     "exception": false,
     "start_time": "2021-09-02T02:51:27.812701",
     "status": "completed"
    },
    "tags": []
   },
   "outputs": [],
   "source": []
  }
 ],
 "metadata": {
  "kernelspec": {
   "display_name": "R",
   "language": "R",
   "name": "ir"
  },
  "language_info": {
   "codemirror_mode": "r",
   "file_extension": ".r",
   "mimetype": "text/x-r-source",
   "name": "R",
   "pygments_lexer": "r",
   "version": "4.1.1"
  },
  "papermill": {
   "default_parameters": {},
   "duration": 355.300847,
   "end_time": "2021-09-02T02:51:28.350711",
   "environment_variables": {},
   "exception": null,
   "input_path": "template-1-simulate-reads.ipynb",
   "output_path": "1-simulate-reads.simulation-cov-20.ipynb",
   "parameters": {
    "iterations": 3,
    "mincov": 10,
    "read_coverage": 20,
    "simulation_dir": "simulations/cov-20"
   },
   "start_time": "2021-09-02T02:45:33.049864",
   "version": "2.3.3"
  }
 },
 "nbformat": 4,
 "nbformat_minor": 5
}