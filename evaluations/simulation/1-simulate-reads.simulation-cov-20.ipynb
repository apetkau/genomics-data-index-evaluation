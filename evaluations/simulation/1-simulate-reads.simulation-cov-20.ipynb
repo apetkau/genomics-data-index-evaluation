{
 "cells": [
  {
   "cell_type": "markdown",
   "id": "39afc998-7d9f-4d4e-9147-fb6198f83f2d",
   "metadata": {
    "papermill": {
     "duration": 0.018904,
     "end_time": "2021-09-11T19:14:09.174227",
     "exception": false,
     "start_time": "2021-09-11T19:14:09.155323",
     "status": "completed"
    },
    "tags": []
   },
   "source": [
    "# 1. Parameters"
   ]
  },
  {
   "cell_type": "code",
   "execution_count": 1,
   "id": "8eee723b-55a2-4355-b867-c5e682a9f800",
   "metadata": {
    "execution": {
     "iopub.execute_input": "2021-09-11T19:14:09.302347Z",
     "iopub.status.busy": "2021-09-11T19:14:09.300580Z",
     "iopub.status.idle": "2021-09-11T19:14:09.350255Z",
     "shell.execute_reply": "2021-09-11T19:14:09.348843Z"
    },
    "papermill": {
     "duration": 0.165863,
     "end_time": "2021-09-11T19:14:09.350547",
     "exception": false,
     "start_time": "2021-09-11T19:14:09.184684",
     "status": "completed"
    },
    "tags": [
     "parameters"
    ]
   },
   "outputs": [],
   "source": [
    "# Defaults\n",
    "\n",
    "## Random seed\n",
    "random_seed <- 25524\n",
    "\n",
    "## Directories\n",
    "simulation_dir <- \"simulations/unset\"\n",
    "reference_file <- \"simulations/reference/reference.fa.gz\"\n",
    "initial_tree_file <- \"input/salmonella.tre\"\n",
    "\n",
    "## Simulation parameters\n",
    "sub_lambda <- 1e-2\n",
    "sub_pi_tcag <- c(0.1, 0.2, 0.3, 0.4)\n",
    "sub_alpha <- 0.2\n",
    "sub_beta <- sub_alpha/2\n",
    "sub_mu <- 1\n",
    "sub_invariant <- 0.3\n",
    "ins_rate <- 1e-4\n",
    "ins_max_length <- 60\n",
    "ins_a <- 1.6\n",
    "del_rate <- 1e-4\n",
    "del_max_length <- 60\n",
    "del_a <- 1.6\n",
    "\n",
    "## Read simulation information\n",
    "read_coverage <- 30\n",
    "read_length <- 250\n",
    "\n",
    "## Other\n",
    "ncores <- 48"
   ]
  },
  {
   "cell_type": "code",
   "execution_count": 2,
   "id": "21de3f97",
   "metadata": {
    "execution": {
     "iopub.execute_input": "2021-09-11T19:14:09.418978Z",
     "iopub.status.busy": "2021-09-11T19:14:09.381003Z",
     "iopub.status.idle": "2021-09-11T19:14:09.434842Z",
     "shell.execute_reply": "2021-09-11T19:14:09.433392Z"
    },
    "papermill": {
     "duration": 0.067823,
     "end_time": "2021-09-11T19:14:09.435107",
     "exception": false,
     "start_time": "2021-09-11T19:14:09.367284",
     "status": "completed"
    },
    "tags": [
     "injected-parameters"
    ]
   },
   "outputs": [],
   "source": [
    "# Parameters\n",
    "read_coverage = 20\n",
    "mincov = 10\n",
    "simulation_dir = \"simulations/cov-20\"\n",
    "iterations = 3\n",
    "sub_alpha = 0.2\n"
   ]
  },
  {
   "cell_type": "code",
   "execution_count": 3,
   "id": "845350c4-9369-4350-bcce-504d05f5ff55",
   "metadata": {
    "execution": {
     "iopub.execute_input": "2021-09-11T19:14:09.469144Z",
     "iopub.status.busy": "2021-09-11T19:14:09.466257Z",
     "iopub.status.idle": "2021-09-11T19:14:09.495063Z",
     "shell.execute_reply": "2021-09-11T19:14:09.494099Z"
    },
    "papermill": {
     "duration": 0.043938,
     "end_time": "2021-09-11T19:14:09.495268",
     "exception": false,
     "start_time": "2021-09-11T19:14:09.451330",
     "status": "completed"
    },
    "tags": []
   },
   "outputs": [
    {
     "name": "stdout",
     "output_type": "stream",
     "text": [
      "[1] \"simulations/cov-20/simulated_data\"\n"
     ]
    },
    {
     "name": "stdout",
     "output_type": "stream",
     "text": [
      "[1] \"simulations/cov-20/simulated_data/haplotypes\"\n"
     ]
    }
   ],
   "source": [
    "output_dir <- file.path(simulation_dir, \"simulated_data\")\n",
    "output_vcf_prefix <- file.path(output_dir, \"haplotypes\")\n",
    "reads_data_initial_prefix <- file.path(output_dir, \"reads_initial\", \"data\")\n",
    "set.seed(random_seed)\n",
    "print(output_dir)\n",
    "print(output_vcf_prefix)"
   ]
  },
  {
   "cell_type": "markdown",
   "id": "noticed-coating",
   "metadata": {
    "papermill": {
     "duration": 0.00951,
     "end_time": "2021-09-11T19:14:09.519538",
     "exception": false,
     "start_time": "2021-09-11T19:14:09.510028",
     "status": "completed"
    },
    "tags": []
   },
   "source": [
    "# 2. Generate simulated data\n",
    "\n",
    "This simulates *Salmonella* data using a reference genome and a tree."
   ]
  },
  {
   "cell_type": "code",
   "execution_count": 4,
   "id": "bright-polymer",
   "metadata": {
    "execution": {
     "iopub.execute_input": "2021-09-11T19:14:09.541401Z",
     "iopub.status.busy": "2021-09-11T19:14:09.538574Z",
     "iopub.status.idle": "2021-09-11T19:14:09.634516Z",
     "shell.execute_reply": "2021-09-11T19:14:09.633361Z"
    },
    "papermill": {
     "duration": 0.107889,
     "end_time": "2021-09-11T19:14:09.634767",
     "exception": false,
     "start_time": "2021-09-11T19:14:09.526878",
     "status": "completed"
    },
    "tags": []
   },
   "outputs": [
    {
     "data": {
      "text/html": [
       "TRUE"
      ],
      "text/latex": [
       "TRUE"
      ],
      "text/markdown": [
       "TRUE"
      ],
      "text/plain": [
       "[1] TRUE"
      ]
     },
     "metadata": {},
     "output_type": "display_data"
    }
   ],
   "source": [
    "library(jackalope)\n",
    "\n",
    "# Make sure we've complied with openmp\n",
    "jackalope:::using_openmp()"
   ]
  },
  {
   "cell_type": "code",
   "execution_count": 5,
   "id": "303635b1-41dc-4917-8e90-30832a9acafd",
   "metadata": {
    "execution": {
     "iopub.execute_input": "2021-09-11T19:14:09.668165Z",
     "iopub.status.busy": "2021-09-11T19:14:09.665761Z",
     "iopub.status.idle": "2021-09-11T19:14:09.694232Z",
     "shell.execute_reply": "2021-09-11T19:14:09.693279Z"
    },
    "papermill": {
     "duration": 0.042454,
     "end_time": "2021-09-11T19:14:09.694441",
     "exception": false,
     "start_time": "2021-09-11T19:14:09.651987",
     "status": "completed"
    },
    "tags": []
   },
   "outputs": [
    {
     "data": {
      "text/plain": [
       "< Set of 2 chromosomes >\n",
       "# Total size: 19,699 bp\n",
       "  name                             chromosome                             length\n",
       "chrom0     GTATTGCGAGGGTGGGGGAGTACGGCAG...CAAGAATGCAACCGACTCTGTCGGGACT     10834\n",
       "chrom1     CACCTCGAGCAGATCCTAGTTTGCGCGA...TGCGAATTTATCGCCTAATCCAATGTTA      8865"
      ]
     },
     "metadata": {},
     "output_type": "display_data"
    }
   ],
   "source": [
    "reference <- read_fasta(reference_file)\n",
    "reference_len <- sum(reference$sizes())\n",
    "reference"
   ]
  },
  {
   "cell_type": "code",
   "execution_count": 6,
   "id": "documented-helmet",
   "metadata": {
    "execution": {
     "iopub.execute_input": "2021-09-11T19:14:09.724345Z",
     "iopub.status.busy": "2021-09-11T19:14:09.722682Z",
     "iopub.status.idle": "2021-09-11T19:14:09.800107Z",
     "shell.execute_reply": "2021-09-11T19:14:09.798945Z"
    },
    "papermill": {
     "duration": 0.09071,
     "end_time": "2021-09-11T19:14:09.800356",
     "exception": false,
     "start_time": "2021-09-11T19:14:09.709646",
     "status": "completed"
    },
    "tags": []
   },
   "outputs": [
    {
     "data": {
      "text/plain": [
       "\n",
       "Phylogenetic tree with 60 tips and 59 internal nodes.\n",
       "\n",
       "Tip labels:\n",
       "  reference, SH12-013, SH12-014, SH10-015, SH10-014, SH11-002, ...\n",
       "Node labels:\n",
       "  Root, 1.000000, 0.000000, 0.000000, 1.000000, 0.000000, ...\n",
       "\n",
       "Rooted; includes branch lengths."
      ]
     },
     "metadata": {},
     "output_type": "display_data"
    }
   ],
   "source": [
    "library(ape)\n",
    "\n",
    "tree <- read.tree(initial_tree_file)\n",
    "tree <- root(tree, \"reference\", resolve.root=TRUE)\n",
    "tree"
   ]
  },
  {
   "cell_type": "code",
   "execution_count": 7,
   "id": "proved-silver",
   "metadata": {
    "execution": {
     "iopub.execute_input": "2021-09-11T19:14:09.838213Z",
     "iopub.status.busy": "2021-09-11T19:14:09.835374Z",
     "iopub.status.idle": "2021-09-11T19:14:10.028957Z",
     "shell.execute_reply": "2021-09-11T19:14:10.027694Z"
    },
    "papermill": {
     "duration": 0.209885,
     "end_time": "2021-09-11T19:14:10.029212",
     "exception": false,
     "start_time": "2021-09-11T19:14:09.819327",
     "status": "completed"
    },
    "tags": []
   },
   "outputs": [
    {
     "data": {
      "text/plain": [
       "                              << haplotypes object >>\n",
       "# Haplotypes: 60\n",
       "# Mutations: 16,932\n",
       "\n",
       "                          << Reference genome info: >>\n",
       "< Set of 2 chromosomes >\n",
       "# Total size: 19,699 bp\n",
       "  name                             chromosome                             length\n",
       "chrom0     GTATTGCGAGGGTGGGGGAGTACGGCAG...CAAGAATGCAACCGACTCTGTCGGGACT     10834\n",
       "chrom1     CACCTCGAGCAGATCCTAGTTTGCGCGA...TGCGAATTTATCGCCTAATCCAATGTTA      8865"
      ]
     },
     "metadata": {},
     "output_type": "display_data"
    }
   ],
   "source": [
    "sub <- sub_HKY85(pi_tcag = sub_pi_tcag, mu = sub_mu,\n",
    "                 alpha = sub_alpha, beta = sub_beta, gamma_shape=1, gamma_k = 5,\n",
    "                 invariant = sub_invariant)\n",
    "ins <- indels(rate = ins_rate, max_length = ins_max_length, a = ins_a)\n",
    "del <- indels(rate = del_rate, max_length = del_max_length, a = del_a)\n",
    "\n",
    "ref_haplotypes <- create_haplotypes(reference, haps_phylo(tree), sub=sub, ins=ins, del=del)\n",
    "ref_haplotypes"
   ]
  },
  {
   "cell_type": "markdown",
   "id": "535fa02d-c76c-4067-9582-74f3694d16ea",
   "metadata": {
    "papermill": {
     "duration": 0.010192,
     "end_time": "2021-09-11T19:14:10.058085",
     "exception": false,
     "start_time": "2021-09-11T19:14:10.047893",
     "status": "completed"
    },
    "tags": []
   },
   "source": [
    "# 3. Write simulated data"
   ]
  },
  {
   "cell_type": "code",
   "execution_count": 8,
   "id": "smoking-geology",
   "metadata": {
    "execution": {
     "iopub.execute_input": "2021-09-11T19:14:10.084341Z",
     "iopub.status.busy": "2021-09-11T19:14:10.080739Z",
     "iopub.status.idle": "2021-09-11T19:14:10.132599Z",
     "shell.execute_reply": "2021-09-11T19:14:10.131362Z"
    },
    "papermill": {
     "duration": 0.06671,
     "end_time": "2021-09-11T19:14:10.132754",
     "exception": false,
     "start_time": "2021-09-11T19:14:10.066044",
     "status": "completed"
    },
    "tags": []
   },
   "outputs": [],
   "source": [
    "write_vcf(ref_haplotypes, out_prefix=output_vcf_prefix, compress=TRUE)"
   ]
  },
  {
   "cell_type": "code",
   "execution_count": 9,
   "id": "d2657fc5-481e-4b24-bbf8-78c02ee735ce",
   "metadata": {
    "execution": {
     "iopub.execute_input": "2021-09-11T19:14:10.169396Z",
     "iopub.status.busy": "2021-09-11T19:14:10.166491Z",
     "iopub.status.idle": "2021-09-11T19:14:10.263022Z",
     "shell.execute_reply": "2021-09-11T19:14:10.261784Z"
    },
    "papermill": {
     "duration": 0.11388,
     "end_time": "2021-09-11T19:14:10.263269",
     "exception": false,
     "start_time": "2021-09-11T19:14:10.149389",
     "status": "completed"
    },
    "tags": []
   },
   "outputs": [],
   "source": [
    "assemblies_prefix = file.path(output_dir, \"assemblies\", \"data\")\n",
    "\n",
    "write_fasta(ref_haplotypes, out_prefix=assemblies_prefix,\n",
    "            compress=TRUE, n_threads=ncores, overwrite=TRUE)"
   ]
  },
  {
   "cell_type": "code",
   "execution_count": 10,
   "id": "continent-freeze",
   "metadata": {
    "execution": {
     "iopub.execute_input": "2021-09-11T19:14:10.297193Z",
     "iopub.status.busy": "2021-09-11T19:14:10.295266Z",
     "iopub.status.idle": "2021-09-11T19:19:39.289851Z",
     "shell.execute_reply": "2021-09-11T19:19:39.288617Z"
    },
    "papermill": {
     "duration": 329.007998,
     "end_time": "2021-09-11T19:19:39.290110",
     "exception": false,
     "start_time": "2021-09-11T19:14:10.282112",
     "status": "completed"
    },
    "tags": []
   },
   "outputs": [
    {
     "name": "stdout",
     "output_type": "stream",
     "text": [
      "[1] \"Number of reads for coverage 20X and read length 250 over 60 samples with respect to reference with length 19699: 94555\"\n"
     ]
    }
   ],
   "source": [
    "n_samples <- length(tree$tip)\n",
    "n_reads <- round((reference_len * read_coverage * n_samples) / read_length)\n",
    "print(sprintf(\"Number of reads for coverage %sX and read length %s over %s samples with respect to reference with length %s: %s\", \n",
    "              read_coverage, read_length, n_samples, reference_len, n_reads))\n",
    "\n",
    "illumina(ref_haplotypes, out_prefix = reads_data_initial_prefix, sep_files=TRUE, n_reads = n_reads,\n",
    "         frag_mean = read_length * 2 + 50, frag_sd = 100,\n",
    "         compress=TRUE, comp_method=\"bgzip\", n_threads=ncores,\n",
    "         paired=TRUE, read_length = read_length)"
   ]
  },
  {
   "cell_type": "code",
   "execution_count": 11,
   "id": "israeli-unknown",
   "metadata": {
    "execution": {
     "iopub.execute_input": "2021-09-11T19:19:39.331308Z",
     "iopub.status.busy": "2021-09-11T19:19:39.329826Z",
     "iopub.status.idle": "2021-09-11T19:19:39.366681Z",
     "shell.execute_reply": "2021-09-11T19:19:39.365410Z"
    },
    "papermill": {
     "duration": 0.055862,
     "end_time": "2021-09-11T19:19:39.366967",
     "exception": false,
     "start_time": "2021-09-11T19:19:39.311105",
     "status": "completed"
    },
    "tags": []
   },
   "outputs": [
    {
     "name": "stdout",
     "output_type": "stream",
     "text": [
      "[1] \"Removing: simulations/cov-20/simulated_data/reads_initial/data_reference_R1.fq.gz\"\n"
     ]
    },
    {
     "name": "stdout",
     "output_type": "stream",
     "text": [
      "[1] \"Removing: simulations/cov-20/simulated_data/reads_initial/data_reference_R2.fq.gz\"\n"
     ]
    }
   ],
   "source": [
    "# Remove the simulated reads for the reference genome since I don't want these in the tree\n",
    "ref1 <- paste(toString(reads_data_initial_prefix), \"_reference_R1.fq.gz\", sep=\"\")\n",
    "ref2 <- paste(toString(reads_data_initial_prefix), \"_reference_R2.fq.gz\", sep=\"\")\n",
    "if (file.exists(ref1)) {\n",
    "    file.remove(ref1)\n",
    "    print(sprintf(\"Removing: %s\", ref1))\n",
    "}\n",
    "if (file.exists(ref2)) {\n",
    "    file.remove(ref2)\n",
    "    print(sprintf(\"Removing: %s\", ref2))\n",
    "}"
   ]
  },
  {
   "cell_type": "code",
   "execution_count": 12,
   "id": "likely-elite",
   "metadata": {
    "execution": {
     "iopub.execute_input": "2021-09-11T19:19:39.404662Z",
     "iopub.status.busy": "2021-09-11T19:19:39.402039Z",
     "iopub.status.idle": "2021-09-11T19:19:39.425039Z",
     "shell.execute_reply": "2021-09-11T19:19:39.423247Z"
    },
    "papermill": {
     "duration": 0.038588,
     "end_time": "2021-09-11T19:19:39.425184",
     "exception": false,
     "start_time": "2021-09-11T19:19:39.386596",
     "status": "completed"
    },
    "tags": []
   },
   "outputs": [
    {
     "name": "stdout",
     "output_type": "stream",
     "text": [
      "[1] \"Removing: simulations/cov-20/simulated_data/assemblies/data__reference.fa.gz\"\n"
     ]
    }
   ],
   "source": [
    "# Remove the new reference assembly genome since I don't need it\n",
    "ref1 <- paste(toString(assemblies_prefix), \"__reference.fa.gz\", sep=\"\")\n",
    "if (file.exists(ref1)) {\n",
    "    file.remove(ref1)\n",
    "    print(sprintf(\"Removing: %s\", ref1))\n",
    "}"
   ]
  },
  {
   "cell_type": "code",
   "execution_count": null,
   "id": "6ab27399-288a-4067-a812-d946410658a5",
   "metadata": {
    "papermill": {
     "duration": 0.010447,
     "end_time": "2021-09-11T19:19:39.453026",
     "exception": false,
     "start_time": "2021-09-11T19:19:39.442579",
     "status": "completed"
    },
    "tags": []
   },
   "outputs": [],
   "source": []
  }
 ],
 "metadata": {
  "kernelspec": {
   "display_name": "R",
   "language": "R",
   "name": "ir"
  },
  "language_info": {
   "codemirror_mode": "r",
   "file_extension": ".r",
   "mimetype": "text/x-r-source",
   "name": "R",
   "pygments_lexer": "r",
   "version": "4.1.1"
  },
  "papermill": {
   "default_parameters": {},
   "duration": 332.43858,
   "end_time": "2021-09-11T19:19:40.617294",
   "environment_variables": {},
   "exception": null,
   "input_path": "template-1-simulate-reads.ipynb",
   "output_path": "1-simulate-reads.simulation-cov-20.ipynb",
   "parameters": {
    "iterations": 3,
    "mincov": 10,
    "read_coverage": 20,
    "simulation_dir": "simulations/cov-20",
    "sub_alpha": 0.2
   },
   "start_time": "2021-09-11T19:14:08.178714",
   "version": "2.3.3"
  }
 },
 "nbformat": 4,
 "nbformat_minor": 5
}