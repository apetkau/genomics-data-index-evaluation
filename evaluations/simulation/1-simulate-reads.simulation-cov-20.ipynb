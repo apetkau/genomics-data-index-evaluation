{
 "cells": [
  {
   "cell_type": "markdown",
   "id": "39afc998-7d9f-4d4e-9147-fb6198f83f2d",
   "metadata": {
    "papermill": {
     "duration": 0.018442,
     "end_time": "2021-08-31T23:31:20.487981",
     "exception": false,
     "start_time": "2021-08-31T23:31:20.469539",
     "status": "completed"
    },
    "tags": []
   },
   "source": [
    "# 1. Parameters"
   ]
  },
  {
   "cell_type": "code",
   "execution_count": 1,
   "id": "8eee723b-55a2-4355-b867-c5e682a9f800",
   "metadata": {
    "execution": {
     "iopub.execute_input": "2021-08-31T23:31:20.615813Z",
     "iopub.status.busy": "2021-08-31T23:31:20.613523Z",
     "iopub.status.idle": "2021-08-31T23:31:20.658792Z",
     "shell.execute_reply": "2021-08-31T23:31:20.657550Z"
    },
    "papermill": {
     "duration": 0.160588,
     "end_time": "2021-08-31T23:31:20.659040",
     "exception": false,
     "start_time": "2021-08-31T23:31:20.498452",
     "status": "completed"
    },
    "tags": [
     "parameters"
    ]
   },
   "outputs": [],
   "source": [
    "# Defaults\n",
    "\n",
    "## Directories\n",
    "simulation_dir <- \"simulations/unset\"\n",
    "reference_file <- \"input/S_HeidelbergSL476.fasta.gz\"\n",
    "initial_tree_file <- \"input/salmonella.tre\"\n",
    "reference_name <- \"NC_011083\"\n",
    "\n",
    "## Simulation parameters\n",
    "sub_lambda <- 1e-2\n",
    "sub_mu <- 1\n",
    "sub_invariant <- 0.9\n",
    "ins_rate <- 1e-4\n",
    "ins_max_length <- 60\n",
    "ins_a <- 1.6\n",
    "del_rate <- 1e-4\n",
    "del_max_length <- 60\n",
    "del_a <- 1.6\n",
    "\n",
    "## Read simulation information\n",
    "read_coverage <- 5\n",
    "read_length <- 250\n",
    "\n",
    "## Other\n",
    "ncores <- 48"
   ]
  },
  {
   "cell_type": "code",
   "execution_count": 2,
   "id": "21f7836a",
   "metadata": {
    "execution": {
     "iopub.execute_input": "2021-08-31T23:31:20.730533Z",
     "iopub.status.busy": "2021-08-31T23:31:20.690867Z",
     "iopub.status.idle": "2021-08-31T23:31:20.744857Z",
     "shell.execute_reply": "2021-08-31T23:31:20.743378Z"
    },
    "papermill": {
     "duration": 0.070336,
     "end_time": "2021-08-31T23:31:20.745079",
     "exception": false,
     "start_time": "2021-08-31T23:31:20.674743",
     "status": "completed"
    },
    "tags": [
     "injected-parameters"
    ]
   },
   "outputs": [],
   "source": [
    "# Parameters\n",
    "read_coverage = 20\n",
    "mincov = 10\n",
    "simulation_dir = \"simulations/cov-20\"\n",
    "iterations = 3\n"
   ]
  },
  {
   "cell_type": "code",
   "execution_count": 3,
   "id": "845350c4-9369-4350-bcce-504d05f5ff55",
   "metadata": {
    "execution": {
     "iopub.execute_input": "2021-08-31T23:31:20.783206Z",
     "iopub.status.busy": "2021-08-31T23:31:20.779164Z",
     "iopub.status.idle": "2021-08-31T23:31:20.812631Z",
     "shell.execute_reply": "2021-08-31T23:31:20.808590Z"
    },
    "papermill": {
     "duration": 0.050537,
     "end_time": "2021-08-31T23:31:20.812861",
     "exception": false,
     "start_time": "2021-08-31T23:31:20.762324",
     "status": "completed"
    },
    "tags": []
   },
   "outputs": [
    {
     "name": "stdout",
     "output_type": "stream",
     "text": [
      "[1] \"simulations/cov-20/simulated_data\"\n"
     ]
    },
    {
     "name": "stdout",
     "output_type": "stream",
     "text": [
      "[1] \"simulations/cov-20/simulated_data/haplotypes\"\n"
     ]
    }
   ],
   "source": [
    "output_dir <- file.path(simulation_dir, \"simulated_data\")\n",
    "output_vcf_prefix <- file.path(output_dir, \"haplotypes\")\n",
    "reads_data_initial_prefix <- file.path(output_dir, \"reads_initial\", \"data\")\n",
    "print(output_dir)\n",
    "print(output_vcf_prefix)"
   ]
  },
  {
   "cell_type": "markdown",
   "id": "noticed-coating",
   "metadata": {
    "papermill": {
     "duration": 0.010445,
     "end_time": "2021-08-31T23:31:20.841234",
     "exception": false,
     "start_time": "2021-08-31T23:31:20.830789",
     "status": "completed"
    },
    "tags": []
   },
   "source": [
    "# 2. Generate simulated data\n",
    "\n",
    "This simulates *Salmonella* data using a reference genome and a tree."
   ]
  },
  {
   "cell_type": "code",
   "execution_count": 4,
   "id": "bright-polymer",
   "metadata": {
    "execution": {
     "iopub.execute_input": "2021-08-31T23:31:20.863932Z",
     "iopub.status.busy": "2021-08-31T23:31:20.861050Z",
     "iopub.status.idle": "2021-08-31T23:31:20.957052Z",
     "shell.execute_reply": "2021-08-31T23:31:20.956113Z"
    },
    "papermill": {
     "duration": 0.108798,
     "end_time": "2021-08-31T23:31:20.957271",
     "exception": false,
     "start_time": "2021-08-31T23:31:20.848473",
     "status": "completed"
    },
    "tags": []
   },
   "outputs": [
    {
     "data": {
      "text/html": [
       "TRUE"
      ],
      "text/latex": [
       "TRUE"
      ],
      "text/markdown": [
       "TRUE"
      ],
      "text/plain": [
       "[1] TRUE"
      ]
     },
     "metadata": {},
     "output_type": "display_data"
    }
   ],
   "source": [
    "library(jackalope)\n",
    "\n",
    "# Make sure we've complied with openmp\n",
    "jackalope:::using_openmp()"
   ]
  },
  {
   "cell_type": "code",
   "execution_count": 5,
   "id": "chronic-region",
   "metadata": {
    "execution": {
     "iopub.execute_input": "2021-08-31T23:31:20.993413Z",
     "iopub.status.busy": "2021-08-31T23:31:20.989951Z",
     "iopub.status.idle": "2021-08-31T23:31:21.082403Z",
     "shell.execute_reply": "2021-08-31T23:31:21.076939Z"
    },
    "papermill": {
     "duration": 0.108274,
     "end_time": "2021-08-31T23:31:21.082633",
     "exception": false,
     "start_time": "2021-08-31T23:31:20.974359",
     "status": "completed"
    },
    "tags": []
   },
   "outputs": [
    {
     "data": {
      "text/plain": [
       "< Set of 1 chromosomes >\n",
       "# Total size: 4,888,768 bp\n",
       "  name                             chromosome                             length\n",
       "NC_011083  AGAGATTACGTCTGGTTGCAAGAGATCA...ATAACGTGCTGTAATTTTTAAAATAATA   4888768"
      ]
     },
     "metadata": {},
     "output_type": "display_data"
    }
   ],
   "source": [
    "reference <- read_fasta(reference_file)\n",
    "reference$set_names(c(reference_name))\n",
    "reference_len <- 4888768 # I don't know how to programatically get this in R\n",
    "reference"
   ]
  },
  {
   "cell_type": "code",
   "execution_count": 6,
   "id": "documented-helmet",
   "metadata": {
    "execution": {
     "iopub.execute_input": "2021-08-31T23:31:21.118337Z",
     "iopub.status.busy": "2021-08-31T23:31:21.115418Z",
     "iopub.status.idle": "2021-08-31T23:31:21.195687Z",
     "shell.execute_reply": "2021-08-31T23:31:21.194574Z"
    },
    "papermill": {
     "duration": 0.096144,
     "end_time": "2021-08-31T23:31:21.195904",
     "exception": false,
     "start_time": "2021-08-31T23:31:21.099760",
     "status": "completed"
    },
    "tags": []
   },
   "outputs": [
    {
     "data": {
      "text/plain": [
       "\n",
       "Phylogenetic tree with 60 tips and 59 internal nodes.\n",
       "\n",
       "Tip labels:\n",
       "  reference, SH12-013, SH12-014, SH10-015, SH10-014, SH11-002, ...\n",
       "Node labels:\n",
       "  Root, 1.000000, 0.000000, 0.000000, 1.000000, 0.000000, ...\n",
       "\n",
       "Rooted; includes branch lengths."
      ]
     },
     "metadata": {},
     "output_type": "display_data"
    }
   ],
   "source": [
    "library(ape)\n",
    "\n",
    "tree <- read.tree(initial_tree_file)\n",
    "tree <- root(tree, \"reference\", resolve.root=TRUE)\n",
    "tree"
   ]
  },
  {
   "cell_type": "code",
   "execution_count": 7,
   "id": "proved-silver",
   "metadata": {
    "execution": {
     "iopub.execute_input": "2021-08-31T23:31:21.240237Z",
     "iopub.status.busy": "2021-08-31T23:31:21.236629Z",
     "iopub.status.idle": "2021-08-31T23:31:28.150858Z",
     "shell.execute_reply": "2021-08-31T23:31:28.149703Z"
    },
    "papermill": {
     "duration": 6.938178,
     "end_time": "2021-08-31T23:31:28.151135",
     "exception": false,
     "start_time": "2021-08-31T23:31:21.212957",
     "status": "completed"
    },
    "tags": []
   },
   "outputs": [
    {
     "data": {
      "text/plain": [
       "                              << haplotypes object >>\n",
       "# Haplotypes: 60\n",
       "# Mutations: 224,232\n",
       "\n",
       "                          << Reference genome info: >>\n",
       "< Set of 1 chromosomes >\n",
       "# Total size: 4,888,768 bp\n",
       "  name                             chromosome                             length\n",
       "NC_011083  AGAGATTACGTCTGGTTGCAAGAGATCA...ATAACGTGCTGTAATTTTTAAAATAATA   4888768"
      ]
     },
     "metadata": {},
     "output_type": "display_data"
    }
   ],
   "source": [
    "sub <- sub_JC69(lambda = sub_lambda, mu = sub_mu, invariant = sub_invariant)\n",
    "ins <- indels(rate = ins_rate, max_length = ins_max_length, a = ins_a)\n",
    "del <- indels(rate = del_rate, max_length = del_max_length, a = del_a)\n",
    "\n",
    "ref_haplotypes <- create_haplotypes(reference, haps_phylo(tree), sub=sub, ins=ins, del=del)\n",
    "ref_haplotypes"
   ]
  },
  {
   "cell_type": "markdown",
   "id": "535fa02d-c76c-4067-9582-74f3694d16ea",
   "metadata": {
    "papermill": {
     "duration": 0.010412,
     "end_time": "2021-08-31T23:31:28.180804",
     "exception": false,
     "start_time": "2021-08-31T23:31:28.170392",
     "status": "completed"
    },
    "tags": []
   },
   "source": [
    "# 3. Write simulated data"
   ]
  },
  {
   "cell_type": "code",
   "execution_count": 8,
   "id": "smoking-geology",
   "metadata": {
    "execution": {
     "iopub.execute_input": "2021-08-31T23:31:28.205642Z",
     "iopub.status.busy": "2021-08-31T23:31:28.202252Z",
     "iopub.status.idle": "2021-08-31T23:31:28.580801Z",
     "shell.execute_reply": "2021-08-31T23:31:28.579648Z"
    },
    "papermill": {
     "duration": 0.392614,
     "end_time": "2021-08-31T23:31:28.581031",
     "exception": false,
     "start_time": "2021-08-31T23:31:28.188417",
     "status": "completed"
    },
    "tags": []
   },
   "outputs": [],
   "source": [
    "write_vcf(ref_haplotypes, out_prefix=output_vcf_prefix, compress=TRUE)"
   ]
  },
  {
   "cell_type": "code",
   "execution_count": 9,
   "id": "d2657fc5-481e-4b24-bbf8-78c02ee735ce",
   "metadata": {
    "execution": {
     "iopub.execute_input": "2021-08-31T23:31:28.617838Z",
     "iopub.status.busy": "2021-08-31T23:31:28.615984Z",
     "iopub.status.idle": "2021-08-31T23:31:32.007394Z",
     "shell.execute_reply": "2021-08-31T23:31:32.004886Z"
    },
    "papermill": {
     "duration": 3.407155,
     "end_time": "2021-08-31T23:31:32.007606",
     "exception": false,
     "start_time": "2021-08-31T23:31:28.600451",
     "status": "completed"
    },
    "tags": []
   },
   "outputs": [],
   "source": [
    "assemblies_prefix = file.path(output_dir, \"assemblies\", \"data\")\n",
    "\n",
    "write_fasta(ref_haplotypes, out_prefix=assemblies_prefix,\n",
    "            compress=TRUE, n_threads=ncores, overwrite=TRUE)"
   ]
  },
  {
   "cell_type": "code",
   "execution_count": 10,
   "id": "continent-freeze",
   "metadata": {
    "execution": {
     "iopub.execute_input": "2021-08-31T23:31:32.034114Z",
     "iopub.status.busy": "2021-08-31T23:31:32.032118Z",
     "iopub.status.idle": "2021-08-31T23:38:55.789014Z",
     "shell.execute_reply": "2021-08-31T23:38:55.787023Z"
    },
    "papermill": {
     "duration": 443.769519,
     "end_time": "2021-08-31T23:38:55.789683",
     "exception": false,
     "start_time": "2021-08-31T23:31:32.020164",
     "status": "completed"
    },
    "tags": []
   },
   "outputs": [
    {
     "name": "stdout",
     "output_type": "stream",
     "text": [
      "[1] \"Number of reads for coverage 20X and read length 250 over 60 samples with respect to reference with length 4888768: 23466086\"\n"
     ]
    }
   ],
   "source": [
    "n_samples <- length(tree$tip)\n",
    "n_reads <- round((reference$sizes() * read_coverage * n_samples) / read_length)\n",
    "print(sprintf(\"Number of reads for coverage %sX and read length %s over %s samples with respect to reference with length %s: %s\", \n",
    "              read_coverage, read_length, n_samples, reference_len, n_reads))\n",
    "\n",
    "illumina(ref_haplotypes, out_prefix = reads_data_initial_prefix, sep_files=TRUE, n_reads = n_reads,\n",
    "         frag_mean = read_length * 2 + 50, frag_sd = 100,\n",
    "         compress=TRUE, comp_method=\"bgzip\", n_threads=ncores,\n",
    "         paired=TRUE, read_length = read_length)"
   ]
  },
  {
   "cell_type": "code",
   "execution_count": 11,
   "id": "israeli-unknown",
   "metadata": {
    "execution": {
     "iopub.execute_input": "2021-08-31T23:38:55.827021Z",
     "iopub.status.busy": "2021-08-31T23:38:55.825290Z",
     "iopub.status.idle": "2021-08-31T23:38:55.869644Z",
     "shell.execute_reply": "2021-08-31T23:38:55.868472Z"
    },
    "papermill": {
     "duration": 0.058621,
     "end_time": "2021-08-31T23:38:55.869868",
     "exception": false,
     "start_time": "2021-08-31T23:38:55.811247",
     "status": "completed"
    },
    "tags": []
   },
   "outputs": [
    {
     "name": "stdout",
     "output_type": "stream",
     "text": [
      "[1] \"Removing: simulations/cov-20/simulated_data/reads_initial/data_reference_R1.fq.gz\"\n"
     ]
    },
    {
     "name": "stdout",
     "output_type": "stream",
     "text": [
      "[1] \"Removing: simulations/cov-20/simulated_data/reads_initial/data_reference_R2.fq.gz\"\n"
     ]
    }
   ],
   "source": [
    "# Remove the simulated reads for the reference genome since I don't want these in the tree\n",
    "ref1 <- paste(toString(reads_data_initial_prefix), \"_reference_R1.fq.gz\", sep=\"\")\n",
    "ref2 <- paste(toString(reads_data_initial_prefix), \"_reference_R2.fq.gz\", sep=\"\")\n",
    "if (file.exists(ref1)) {\n",
    "    file.remove(ref1)\n",
    "    print(sprintf(\"Removing: %s\", ref1))\n",
    "}\n",
    "if (file.exists(ref2)) {\n",
    "    file.remove(ref2)\n",
    "    print(sprintf(\"Removing: %s\", ref2))\n",
    "}"
   ]
  },
  {
   "cell_type": "code",
   "execution_count": 12,
   "id": "likely-elite",
   "metadata": {
    "execution": {
     "iopub.execute_input": "2021-08-31T23:38:55.908836Z",
     "iopub.status.busy": "2021-08-31T23:38:55.905711Z",
     "iopub.status.idle": "2021-08-31T23:38:55.927595Z",
     "shell.execute_reply": "2021-08-31T23:38:55.926500Z"
    },
    "papermill": {
     "duration": 0.038409,
     "end_time": "2021-08-31T23:38:55.927736",
     "exception": false,
     "start_time": "2021-08-31T23:38:55.889327",
     "status": "completed"
    },
    "tags": []
   },
   "outputs": [
    {
     "name": "stdout",
     "output_type": "stream",
     "text": [
      "[1] \"Removing: simulations/cov-20/simulated_data/assemblies/data__reference.fa.gz\"\n"
     ]
    }
   ],
   "source": [
    "# Remove the new reference assembly genome since I don't need it\n",
    "ref1 <- paste(toString(assemblies_prefix), \"__reference.fa.gz\", sep=\"\")\n",
    "if (file.exists(ref1)) {\n",
    "    file.remove(ref1)\n",
    "    print(sprintf(\"Removing: %s\", ref1))\n",
    "}"
   ]
  },
  {
   "cell_type": "code",
   "execution_count": null,
   "id": "6ab27399-288a-4067-a812-d946410658a5",
   "metadata": {
    "papermill": {
     "duration": 0.010745,
     "end_time": "2021-08-31T23:38:55.956834",
     "exception": false,
     "start_time": "2021-08-31T23:38:55.946089",
     "status": "completed"
    },
    "tags": []
   },
   "outputs": [],
   "source": []
  }
 ],
 "metadata": {
  "kernelspec": {
   "display_name": "R",
   "language": "R",
   "name": "ir"
  },
  "language_info": {
   "codemirror_mode": "r",
   "file_extension": ".r",
   "mimetype": "text/x-r-source",
   "name": "R",
   "pygments_lexer": "r",
   "version": "4.1.1"
  },
  "papermill": {
   "default_parameters": {},
   "duration": 457.492354,
   "end_time": "2021-08-31T23:38:56.974062",
   "environment_variables": {},
   "exception": null,
   "input_path": "template-1-simulate-reads.ipynb",
   "output_path": "1-simulate-reads.simulation-cov-20.ipynb",
   "parameters": {
    "iterations": 3,
    "mincov": 10,
    "read_coverage": 20,
    "simulation_dir": "simulations/cov-20"
   },
   "start_time": "2021-08-31T23:31:19.481708",
   "version": "2.3.3"
  }
 },
 "nbformat": 4,
 "nbformat_minor": 5
}