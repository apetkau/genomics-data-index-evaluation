{
 "cells": [
  {
   "cell_type": "markdown",
   "id": "7d3667b4-b1f8-4347-96e3-830c25b06740",
   "metadata": {
    "papermill": {
     "duration": 0.017113,
     "end_time": "2021-09-08T19:41:51.038543",
     "exception": false,
     "start_time": "2021-09-08T19:41:51.021430",
     "status": "completed"
    },
    "tags": []
   },
   "source": [
    "# 1. Parameters"
   ]
  },
  {
   "cell_type": "code",
   "execution_count": 1,
   "id": "d4ab0749-b286-4c34-b63c-a854e4952bae",
   "metadata": {
    "execution": {
     "iopub.execute_input": "2021-09-08T19:41:51.070108Z",
     "iopub.status.busy": "2021-09-08T19:41:51.069559Z",
     "iopub.status.idle": "2021-09-08T19:41:51.074672Z",
     "shell.execute_reply": "2021-09-08T19:41:51.074148Z"
    },
    "papermill": {
     "duration": 0.026111,
     "end_time": "2021-09-08T19:41:51.074810",
     "exception": false,
     "start_time": "2021-09-08T19:41:51.048699",
     "status": "completed"
    },
    "tags": [
     "parameters"
    ]
   },
   "outputs": [],
   "source": [
    "# Defaults\n",
    "cases_dir = 'cases/unset'\n",
    "reference_file = 'references/NC_045512.gbk.gz'\n",
    "input_files_all = 'input/input-files.tsv'\n",
    "iterations = 3\n",
    "mincov = 10\n",
    "ncores = 32\n",
    "number_samples = 10\n",
    "build_tree = False"
   ]
  },
  {
   "cell_type": "code",
   "execution_count": 2,
   "id": "19888d3d",
   "metadata": {
    "execution": {
     "iopub.execute_input": "2021-09-08T19:41:51.097302Z",
     "iopub.status.busy": "2021-09-08T19:41:51.096814Z",
     "iopub.status.idle": "2021-09-08T19:41:51.099814Z",
     "shell.execute_reply": "2021-09-08T19:41:51.100199Z"
    },
    "papermill": {
     "duration": 0.016595,
     "end_time": "2021-09-08T19:41:51.100334",
     "exception": false,
     "start_time": "2021-09-08T19:41:51.083739",
     "status": "completed"
    },
    "tags": [
     "injected-parameters"
    ]
   },
   "outputs": [],
   "source": [
    "# Parameters\n",
    "cases_dir = \"cases/case-20\"\n",
    "iterations = 3\n",
    "number_samples = 20\n",
    "build_tree = True\n"
   ]
  },
  {
   "cell_type": "code",
   "execution_count": 3,
   "id": "ce5962e4-261c-4210-b39b-47044e28466b",
   "metadata": {
    "execution": {
     "iopub.execute_input": "2021-09-08T19:41:51.125300Z",
     "iopub.status.busy": "2021-09-08T19:41:51.124869Z",
     "iopub.status.idle": "2021-09-08T19:41:53.593266Z",
     "shell.execute_reply": "2021-09-08T19:41:53.592225Z"
    },
    "papermill": {
     "duration": 2.486366,
     "end_time": "2021-09-08T19:41:53.593519",
     "exception": false,
     "start_time": "2021-09-08T19:41:51.107153",
     "status": "completed"
    },
    "tags": []
   },
   "outputs": [],
   "source": [
    "from pathlib import Path\n",
    "from shutil import rmtree\n",
    "from os import makedirs\n",
    "import imp\n",
    "fp, pathname, description = imp.find_module('gdi_benchmark', ['../../lib'])\n",
    "gdi_benchmark = imp.load_module('gdi_benchmark', fp, pathname, description)\n",
    "\n",
    "cases_dir_path = Path(cases_dir)\n",
    "\n",
    "if cases_dir_path.exists():\n",
    "    rmtree(cases_dir_path)\n",
    "    \n",
    "if not cases_dir_path.exists():\n",
    "    makedirs(cases_dir_path)\n",
    "\n",
    "input_files_all = Path(input_files_all)\n",
    "reference_file = Path(reference_file)\n",
    "\n",
    "case_name = str(cases_dir_path.name)\n",
    "reference_name = reference_file.name.split('.')[0]\n",
    "\n",
    "cases_input = cases_dir_path / 'input-files-case.tsv'\n",
    "index_path = cases_dir_path / 'index'\n",
    "benchmark_path = cases_dir_path / 'index-info.tsv'\n",
    "output_tree = cases_dir_path / 'tree.tre'"
   ]
  },
  {
   "cell_type": "markdown",
   "id": "1673d80f-b52a-4b68-b400-355540495e15",
   "metadata": {
    "papermill": {
     "duration": 0.009232,
     "end_time": "2021-09-08T19:41:53.618100",
     "exception": false,
     "start_time": "2021-09-08T19:41:53.608868",
     "status": "completed"
    },
    "tags": []
   },
   "source": [
    "# 2. Create subset input"
   ]
  },
  {
   "cell_type": "code",
   "execution_count": 4,
   "id": "4e66adb1-3ef7-45d1-8e46-723dcb9d0c31",
   "metadata": {
    "execution": {
     "iopub.execute_input": "2021-09-08T19:41:53.639534Z",
     "iopub.status.busy": "2021-09-08T19:41:53.639061Z",
     "iopub.status.idle": "2021-09-08T19:41:53.868252Z",
     "shell.execute_reply": "2021-09-08T19:41:53.869160Z"
    },
    "papermill": {
     "duration": 0.244796,
     "end_time": "2021-09-08T19:41:53.869470",
     "exception": false,
     "start_time": "2021-09-08T19:41:53.624674",
     "status": "completed"
    },
    "tags": []
   },
   "outputs": [
    {
     "name": "stdout",
     "output_type": "stream",
     "text": [
      "Wrote 20/100000 samples to cases/case-20/input-files-case.tsv\n"
     ]
    }
   ],
   "source": [
    "import pandas as pd\n",
    "\n",
    "all_input_df = pd.read_csv(input_files_all, sep='\\t')\n",
    "all_input_total = len(all_input_df)\n",
    "\n",
    "subset_input_df = all_input_df.head(number_samples)\n",
    "subset_input_total = len(subset_input_df)\n",
    "\n",
    "subset_input_df.to_csv(cases_input, sep='\\t', index=False)\n",
    "\n",
    "print(f'Wrote {subset_input_total}/{all_input_total} samples to {cases_input}')"
   ]
  },
  {
   "cell_type": "markdown",
   "id": "f208279e-7558-47fc-9362-da29df92828a",
   "metadata": {
    "papermill": {
     "duration": 0.00843,
     "end_time": "2021-09-08T19:41:53.892510",
     "exception": false,
     "start_time": "2021-09-08T19:41:53.884080",
     "status": "completed"
    },
    "tags": []
   },
   "source": [
    "# 2. Index genomes"
   ]
  },
  {
   "cell_type": "code",
   "execution_count": 5,
   "id": "4e936f7c-2fcd-4188-b0e6-6b3ceb5cdcd2",
   "metadata": {
    "execution": {
     "iopub.execute_input": "2021-09-08T19:41:53.921908Z",
     "iopub.status.busy": "2021-09-08T19:41:53.910595Z",
     "iopub.status.idle": "2021-09-08T19:41:56.727824Z",
     "shell.execute_reply": "2021-09-08T19:41:56.728676Z"
    },
    "papermill": {
     "duration": 2.829768,
     "end_time": "2021-09-08T19:41:56.728986",
     "exception": false,
     "start_time": "2021-09-08T19:41:53.899218",
     "status": "completed"
    },
    "tags": []
   },
   "outputs": [
    {
     "name": "stdout",
     "output_type": "stream",
     "text": [
      "gdi, version 0.3.0.dev12\r\n"
     ]
    }
   ],
   "source": [
    "!gdi --version"
   ]
  },
  {
   "cell_type": "markdown",
   "id": "5409ecf8-2158-4361-9d2f-6b1a6c7c63a6",
   "metadata": {
    "papermill": {
     "duration": 0.008728,
     "end_time": "2021-09-08T19:41:56.752179",
     "exception": false,
     "start_time": "2021-09-08T19:41:56.743451",
     "status": "completed"
    },
    "tags": []
   },
   "source": [
    "## 2.1. Index reads"
   ]
  },
  {
   "cell_type": "code",
   "execution_count": 6,
   "id": "3d63e861-733e-46f2-8bce-bd1a2c7c7058",
   "metadata": {
    "execution": {
     "iopub.execute_input": "2021-09-08T19:41:56.775652Z",
     "iopub.status.busy": "2021-09-08T19:41:56.774741Z",
     "iopub.status.idle": "2021-09-08T19:55:26.290970Z",
     "shell.execute_reply": "2021-09-08T19:55:26.291978Z"
    },
    "papermill": {
     "duration": 809.533529,
     "end_time": "2021-09-08T19:55:26.292586",
     "exception": false,
     "start_time": "2021-09-08T19:41:56.759057",
     "status": "completed"
    },
    "tags": []
   },
   "outputs": [
    {
     "name": "stdout",
     "output_type": "stream",
     "text": [
      "\n",
      "Iteration 1 of index/analysis of 20 samples with 32 cores\n",
      "Removing any extra snakemake directories: ['snakemake-assemblies.1631129881.0288386']\n"
     ]
    },
    {
     "name": "stdout",
     "output_type": "stream",
     "text": [
      "Creating new index: [gdi init cases/case-20/index]\n"
     ]
    },
    {
     "name": "stdout",
     "output_type": "stream",
     "text": [
      "Creating a new index took 2.82 seconds\n",
      "Analysis running: [gdi --project-dir cases/case-20/index --ncores 32 analysis --use-conda --no-load-data --reference-file references/NC_045512.gbk.gz --kmer-size 31 --kmer-size 51 --kmer-size 71 --include-kmer --reads-mincov 10 --input-structured-genomes-file cases/case-20/input-files-case.tsv]\n"
     ]
    },
    {
     "name": "stdout",
     "output_type": "stream",
     "text": [
      "Analysis took 2.29 minutes\n",
      "Index running: [gdi --project-dir cases/case-20/index --ncores 32 load vcf-kmer --reference-file references/NC_045512.gbk.gz /home/CSCScience.ca/apetkau/workspace/genomics-data-index-evaluation/evaluations/sars-cov-2/snakemake-assemblies.1631130124.139808/gdi-input.fofn]\n"
     ]
    },
    {
     "name": "stdout",
     "output_type": "stream",
     "text": [
      "Indexing took 0.11 minutes\n",
      "Building tree: [gdi --project-dir cases/case-20/index --ncores 32 rebuild tree --align-type full --extra-params '--fast -m GTR+F+R4' NC_045512]\n"
     ]
    },
    {
     "name": "stdout",
     "output_type": "stream",
     "text": [
      "Building tree took 1.90 minutes\n"
     ]
    },
    {
     "name": "stderr",
     "output_type": "stream",
     "text": [
      "A reminder to myself to look for a Python solution for directory sizes (instead of running `du`)\n"
     ]
    },
    {
     "name": "stdout",
     "output_type": "stream",
     "text": [
      "\n",
      "Iteration 2 of index/analysis of 20 samples with 32 cores\n",
      "Removing any extra snakemake directories: ['snakemake-assemblies.1631130124.139808']\n"
     ]
    },
    {
     "name": "stdout",
     "output_type": "stream",
     "text": [
      "Removing any existing indexes cases/case-20/index\n",
      "Creating new index: [gdi init cases/case-20/index]\n"
     ]
    },
    {
     "name": "stdout",
     "output_type": "stream",
     "text": [
      "Creating a new index took 2.70 seconds\n",
      "Analysis running: [gdi --project-dir cases/case-20/index --ncores 32 analysis --use-conda --no-load-data --reference-file references/NC_045512.gbk.gz --kmer-size 31 --kmer-size 51 --kmer-size 71 --include-kmer --reads-mincov 10 --input-structured-genomes-file cases/case-20/input-files-case.tsv]\n"
     ]
    },
    {
     "name": "stdout",
     "output_type": "stream",
     "text": [
      "Analysis took 2.61 minutes\n",
      "Index running: [gdi --project-dir cases/case-20/index --ncores 32 load vcf-kmer --reference-file references/NC_045512.gbk.gz /home/CSCScience.ca/apetkau/workspace/genomics-data-index-evaluation/evaluations/sars-cov-2/snakemake-assemblies.1631130387.6327033/gdi-input.fofn]\n"
     ]
    },
    {
     "name": "stdout",
     "output_type": "stream",
     "text": [
      "Indexing took 0.12 minutes\n",
      "Building tree: [gdi --project-dir cases/case-20/index --ncores 32 rebuild tree --align-type full --extra-params '--fast -m GTR+F+R4' NC_045512]\n"
     ]
    },
    {
     "name": "stdout",
     "output_type": "stream",
     "text": [
      "Building tree took 1.97 minutes\n"
     ]
    },
    {
     "name": "stderr",
     "output_type": "stream",
     "text": [
      "Attempting to set global database_path_translator=<genomics_data_index.storage.model.db.DatabasePathTranslator.DatabasePathTranslator object at 0x7ff1401657c0> but it is already set\n"
     ]
    },
    {
     "name": "stderr",
     "output_type": "stream",
     "text": [
      "A reminder to myself to look for a Python solution for directory sizes (instead of running `du`)\n"
     ]
    },
    {
     "name": "stdout",
     "output_type": "stream",
     "text": [
      "\n",
      "Iteration 3 of index/analysis of 20 samples with 32 cores\n",
      "Removing any extra snakemake directories: ['snakemake-assemblies.1631130387.6327033']\n"
     ]
    },
    {
     "name": "stdout",
     "output_type": "stream",
     "text": [
      "Removing any existing indexes cases/case-20/index\n",
      "Creating new index: [gdi init cases/case-20/index]\n"
     ]
    },
    {
     "name": "stdout",
     "output_type": "stream",
     "text": [
      "Creating a new index took 2.74 seconds\n",
      "Analysis running: [gdi --project-dir cases/case-20/index --ncores 32 analysis --use-conda --no-load-data --reference-file references/NC_045512.gbk.gz --kmer-size 31 --kmer-size 51 --kmer-size 71 --include-kmer --reads-mincov 10 --input-structured-genomes-file cases/case-20/input-files-case.tsv]\n"
     ]
    },
    {
     "name": "stdout",
     "output_type": "stream",
     "text": [
      "Analysis took 2.31 minutes\n",
      "Index running: [gdi --project-dir cases/case-20/index --ncores 32 load vcf-kmer --reference-file references/NC_045512.gbk.gz /home/CSCScience.ca/apetkau/workspace/genomics-data-index-evaluation/evaluations/sars-cov-2/snakemake-assemblies.1631130674.5467927/gdi-input.fofn]\n"
     ]
    },
    {
     "name": "stdout",
     "output_type": "stream",
     "text": [
      "Indexing took 0.12 minutes\n",
      "Building tree: [gdi --project-dir cases/case-20/index --ncores 32 rebuild tree --align-type full --extra-params '--fast -m GTR+F+R4' NC_045512]\n"
     ]
    },
    {
     "name": "stdout",
     "output_type": "stream",
     "text": [
      "Building tree took 1.80 minutes\n"
     ]
    },
    {
     "name": "stderr",
     "output_type": "stream",
     "text": [
      "Attempting to set global database_path_translator=<genomics_data_index.storage.model.db.DatabasePathTranslator.DatabasePathTranslator object at 0x7ff0eea76b80> but it is already set\n"
     ]
    },
    {
     "name": "stderr",
     "output_type": "stream",
     "text": [
      "A reminder to myself to look for a Python solution for directory sizes (instead of running `du`)\n"
     ]
    }
   ],
   "source": [
    "results_handler = gdi_benchmark.BenchmarkResultsHandler(name=case_name)\n",
    "benchmarker = gdi_benchmark.IndexBenchmarker(benchmark_results_handler=results_handler,\n",
    "                                             index_path=index_path, input_files_file=cases_input,\n",
    "                                             reference_file=reference_file, mincov=mincov,\n",
    "                                             build_tree=build_tree,\n",
    "                                             ncores=ncores)\n",
    "\n",
    "benchmark_df = benchmarker.benchmark(iterations=iterations)"
   ]
  },
  {
   "cell_type": "code",
   "execution_count": 7,
   "id": "3bcb6da7-0164-47f2-abdd-a4c159da1e3b",
   "metadata": {
    "execution": {
     "iopub.execute_input": "2021-09-08T19:55:26.357677Z",
     "iopub.status.busy": "2021-09-08T19:55:26.356548Z",
     "iopub.status.idle": "2021-09-08T19:55:26.370160Z",
     "shell.execute_reply": "2021-09-08T19:55:26.371068Z"
    },
    "papermill": {
     "duration": 0.056296,
     "end_time": "2021-09-08T19:55:26.371337",
     "exception": false,
     "start_time": "2021-09-08T19:55:26.315041",
     "status": "completed"
    },
    "tags": []
   },
   "outputs": [
    {
     "data": {
      "text/html": [
       "<div>\n",
       "<style scoped>\n",
       "    .dataframe tbody tr th:only-of-type {\n",
       "        vertical-align: middle;\n",
       "    }\n",
       "\n",
       "    .dataframe tbody tr th {\n",
       "        vertical-align: top;\n",
       "    }\n",
       "\n",
       "    .dataframe thead th {\n",
       "        text-align: right;\n",
       "    }\n",
       "</style>\n",
       "<table border=\"1\" class=\"dataframe\">\n",
       "  <thead>\n",
       "    <tr style=\"text-align: right;\">\n",
       "      <th></th>\n",
       "      <th>Name</th>\n",
       "      <th>Iteration</th>\n",
       "      <th>Number samples</th>\n",
       "      <th>Number features (all)</th>\n",
       "      <th>Number features (no unknown)</th>\n",
       "      <th>Number cores</th>\n",
       "      <th>Reference length</th>\n",
       "      <th>Analysis runtime</th>\n",
       "      <th>Analysis memory (max)</th>\n",
       "      <th>Analysis memory (max/process)</th>\n",
       "      <th>Analysis disk uage</th>\n",
       "      <th>Index runtime</th>\n",
       "      <th>Index memory (max)</th>\n",
       "      <th>Index memory (max/process)</th>\n",
       "      <th>Index size</th>\n",
       "      <th>Tree runtime</th>\n",
       "      <th>Tree memory (max)</th>\n",
       "      <th>Tree memory (max/process)</th>\n",
       "      <th>Total runtime</th>\n",
       "      <th>Max memory</th>\n",
       "    </tr>\n",
       "  </thead>\n",
       "  <tbody>\n",
       "    <tr>\n",
       "      <th>0</th>\n",
       "      <td>case-20</td>\n",
       "      <td>1</td>\n",
       "      <td>20</td>\n",
       "      <td>11560</td>\n",
       "      <td>61</td>\n",
       "      <td>32</td>\n",
       "      <td>29903</td>\n",
       "      <td>137.43</td>\n",
       "      <td>1.815732e+09</td>\n",
       "      <td>366129152.0</td>\n",
       "      <td>3.453374e+09</td>\n",
       "      <td>6.60</td>\n",
       "      <td>5.498565e+09</td>\n",
       "      <td>271831040.0</td>\n",
       "      <td>1957888.0</td>\n",
       "      <td>114.02</td>\n",
       "      <td>241582080.0</td>\n",
       "      <td>220491776.0</td>\n",
       "      <td>258.05</td>\n",
       "      <td>5.498565e+09</td>\n",
       "    </tr>\n",
       "    <tr>\n",
       "      <th>0</th>\n",
       "      <td>case-20</td>\n",
       "      <td>2</td>\n",
       "      <td>20</td>\n",
       "      <td>11560</td>\n",
       "      <td>61</td>\n",
       "      <td>32</td>\n",
       "      <td>29903</td>\n",
       "      <td>156.56</td>\n",
       "      <td>1.670365e+09</td>\n",
       "      <td>371167232.0</td>\n",
       "      <td>3.453395e+09</td>\n",
       "      <td>6.83</td>\n",
       "      <td>5.496709e+09</td>\n",
       "      <td>267173888.0</td>\n",
       "      <td>1961984.0</td>\n",
       "      <td>118.27</td>\n",
       "      <td>240123904.0</td>\n",
       "      <td>220340224.0</td>\n",
       "      <td>281.66</td>\n",
       "      <td>5.496709e+09</td>\n",
       "    </tr>\n",
       "    <tr>\n",
       "      <th>0</th>\n",
       "      <td>case-20</td>\n",
       "      <td>3</td>\n",
       "      <td>20</td>\n",
       "      <td>11560</td>\n",
       "      <td>61</td>\n",
       "      <td>32</td>\n",
       "      <td>29903</td>\n",
       "      <td>138.69</td>\n",
       "      <td>1.735946e+09</td>\n",
       "      <td>377712640.0</td>\n",
       "      <td>3.453395e+09</td>\n",
       "      <td>6.91</td>\n",
       "      <td>5.498388e+09</td>\n",
       "      <td>271179776.0</td>\n",
       "      <td>1957888.0</td>\n",
       "      <td>108.09</td>\n",
       "      <td>241041408.0</td>\n",
       "      <td>220770304.0</td>\n",
       "      <td>253.69</td>\n",
       "      <td>5.498388e+09</td>\n",
       "    </tr>\n",
       "  </tbody>\n",
       "</table>\n",
       "</div>"
      ],
      "text/plain": [
       "      Name  Iteration  Number samples  Number features (all)  \\\n",
       "0  case-20          1              20                  11560   \n",
       "0  case-20          2              20                  11560   \n",
       "0  case-20          3              20                  11560   \n",
       "\n",
       "   Number features (no unknown)  Number cores  Reference length  \\\n",
       "0                            61            32             29903   \n",
       "0                            61            32             29903   \n",
       "0                            61            32             29903   \n",
       "\n",
       "   Analysis runtime  Analysis memory (max)  Analysis memory (max/process)  \\\n",
       "0            137.43           1.815732e+09                    366129152.0   \n",
       "0            156.56           1.670365e+09                    371167232.0   \n",
       "0            138.69           1.735946e+09                    377712640.0   \n",
       "\n",
       "   Analysis disk uage  Index runtime  Index memory (max)  \\\n",
       "0        3.453374e+09           6.60        5.498565e+09   \n",
       "0        3.453395e+09           6.83        5.496709e+09   \n",
       "0        3.453395e+09           6.91        5.498388e+09   \n",
       "\n",
       "   Index memory (max/process)  Index size  Tree runtime  Tree memory (max)  \\\n",
       "0                 271831040.0   1957888.0        114.02        241582080.0   \n",
       "0                 267173888.0   1961984.0        118.27        240123904.0   \n",
       "0                 271179776.0   1957888.0        108.09        241041408.0   \n",
       "\n",
       "   Tree memory (max/process)  Total runtime    Max memory  \n",
       "0                220491776.0         258.05  5.498565e+09  \n",
       "0                220340224.0         281.66  5.496709e+09  \n",
       "0                220770304.0         253.69  5.498388e+09  "
      ]
     },
     "execution_count": 7,
     "metadata": {},
     "output_type": "execute_result"
    }
   ],
   "source": [
    "benchmark_df"
   ]
  },
  {
   "cell_type": "code",
   "execution_count": 8,
   "id": "535a9ccc-ab9c-4919-806f-128e1efd2389",
   "metadata": {
    "execution": {
     "iopub.execute_input": "2021-09-08T19:55:26.412044Z",
     "iopub.status.busy": "2021-09-08T19:55:26.409212Z",
     "iopub.status.idle": "2021-09-08T19:55:26.415693Z",
     "shell.execute_reply": "2021-09-08T19:55:26.416548Z"
    },
    "papermill": {
     "duration": 0.024675,
     "end_time": "2021-09-08T19:55:26.416824",
     "exception": false,
     "start_time": "2021-09-08T19:55:26.392149",
     "status": "completed"
    },
    "tags": []
   },
   "outputs": [],
   "source": [
    "benchmark_df.to_csv(benchmark_path, sep='\\t', index=False)"
   ]
  },
  {
   "cell_type": "markdown",
   "id": "6cb7673b-9f85-4c43-b2e2-93538497a196",
   "metadata": {
    "papermill": {
     "duration": 0.01194,
     "end_time": "2021-09-08T19:55:26.452476",
     "exception": false,
     "start_time": "2021-09-08T19:55:26.440536",
     "status": "completed"
    },
    "tags": []
   },
   "source": [
    "# 3. Export trees"
   ]
  },
  {
   "cell_type": "code",
   "execution_count": 9,
   "id": "5280f82c-5434-4391-8c44-b937a7c95bd5",
   "metadata": {
    "execution": {
     "iopub.execute_input": "2021-09-08T19:55:26.496544Z",
     "iopub.status.busy": "2021-09-08T19:55:26.494226Z",
     "iopub.status.idle": "2021-09-08T19:55:29.528948Z",
     "shell.execute_reply": "2021-09-08T19:55:29.529818Z"
    },
    "papermill": {
     "duration": 3.067979,
     "end_time": "2021-09-08T19:55:29.530117",
     "exception": false,
     "start_time": "2021-09-08T19:55:26.462138",
     "status": "completed"
    },
    "tags": []
   },
   "outputs": [
    {
     "name": "stdout",
     "output_type": "stream",
     "text": [
      "Wrote tree to cases/case-20/tree.tre\n"
     ]
    }
   ],
   "source": [
    "if build_tree:\n",
    "    !gdi --project-dir {index_path} export tree {reference_name} > {output_tree}\n",
    "    print(f'Wrote tree to {output_tree}')\n",
    "else:\n",
    "    print(f'build_tree={build_tree} so no tree to export')"
   ]
  }
 ],
 "metadata": {
  "kernelspec": {
   "display_name": "Python 3 (ipykernel)",
   "language": "python",
   "name": "python3"
  },
  "language_info": {
   "codemirror_mode": {
    "name": "ipython",
    "version": 3
   },
   "file_extension": ".py",
   "mimetype": "text/x-python",
   "name": "python",
   "nbconvert_exporter": "python",
   "pygments_lexer": "ipython3",
   "version": "3.8.10"
  },
  "papermill": {
   "default_parameters": {},
   "duration": 819.840497,
   "end_time": "2021-09-08T19:55:30.067554",
   "environment_variables": {},
   "exception": null,
   "input_path": "template-3-index-genomes.ipynb",
   "output_path": "3-index-genomes.case-20.ipynb",
   "parameters": {
    "build_tree": true,
    "cases_dir": "cases/case-20",
    "iterations": 3,
    "number_samples": 20
   },
   "start_time": "2021-09-08T19:41:50.227057",
   "version": "2.3.3"
  }
 },
 "nbformat": 4,
 "nbformat_minor": 5
}