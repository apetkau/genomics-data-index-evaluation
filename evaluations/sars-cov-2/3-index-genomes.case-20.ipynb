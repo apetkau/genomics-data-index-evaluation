{
 "cells": [
  {
   "cell_type": "markdown",
   "id": "7d3667b4-b1f8-4347-96e3-830c25b06740",
   "metadata": {
    "papermill": {
     "duration": 0.015874,
     "end_time": "2021-09-07T18:49:32.696120",
     "exception": false,
     "start_time": "2021-09-07T18:49:32.680246",
     "status": "completed"
    },
    "tags": []
   },
   "source": [
    "# 1. Parameters"
   ]
  },
  {
   "cell_type": "code",
   "execution_count": 1,
   "id": "d4ab0749-b286-4c34-b63c-a854e4952bae",
   "metadata": {
    "execution": {
     "iopub.execute_input": "2021-09-07T18:49:32.726071Z",
     "iopub.status.busy": "2021-09-07T18:49:32.725548Z",
     "iopub.status.idle": "2021-09-07T18:49:32.729482Z",
     "shell.execute_reply": "2021-09-07T18:49:32.728973Z"
    },
    "papermill": {
     "duration": 0.024118,
     "end_time": "2021-09-07T18:49:32.729601",
     "exception": false,
     "start_time": "2021-09-07T18:49:32.705483",
     "status": "completed"
    },
    "tags": [
     "parameters"
    ]
   },
   "outputs": [],
   "source": [
    "# Defaults\n",
    "cases_dir = 'cases/unset'\n",
    "reference_file = 'references/NC_045512.gbk.gz'\n",
    "input_files_all = 'input/input-files.tsv'\n",
    "iterations = 3\n",
    "mincov = 10\n",
    "ncores = 32\n",
    "number_samples = 10"
   ]
  },
  {
   "cell_type": "code",
   "execution_count": 2,
   "id": "b3a82b82",
   "metadata": {
    "execution": {
     "iopub.execute_input": "2021-09-07T18:49:32.749727Z",
     "iopub.status.busy": "2021-09-07T18:49:32.749329Z",
     "iopub.status.idle": "2021-09-07T18:49:32.752293Z",
     "shell.execute_reply": "2021-09-07T18:49:32.751977Z"
    },
    "papermill": {
     "duration": 0.015406,
     "end_time": "2021-09-07T18:49:32.752375",
     "exception": false,
     "start_time": "2021-09-07T18:49:32.736969",
     "status": "completed"
    },
    "tags": [
     "injected-parameters"
    ]
   },
   "outputs": [],
   "source": [
    "# Parameters\n",
    "cases_dir = \"cases/case-20\"\n",
    "iterations = 3\n",
    "number_samples = 20\n"
   ]
  },
  {
   "cell_type": "code",
   "execution_count": 3,
   "id": "ce5962e4-261c-4210-b39b-47044e28466b",
   "metadata": {
    "execution": {
     "iopub.execute_input": "2021-09-07T18:49:32.776260Z",
     "iopub.status.busy": "2021-09-07T18:49:32.775715Z",
     "iopub.status.idle": "2021-09-07T18:49:35.043248Z",
     "shell.execute_reply": "2021-09-07T18:49:35.042313Z"
    },
    "papermill": {
     "duration": 2.284791,
     "end_time": "2021-09-07T18:49:35.043550",
     "exception": false,
     "start_time": "2021-09-07T18:49:32.758759",
     "status": "completed"
    },
    "tags": []
   },
   "outputs": [],
   "source": [
    "from pathlib import Path\n",
    "from shutil import rmtree\n",
    "from os import makedirs\n",
    "import imp\n",
    "fp, pathname, description = imp.find_module('gdi_benchmark', ['../../lib'])\n",
    "gdi_benchmark = imp.load_module('gdi_benchmark', fp, pathname, description)\n",
    "\n",
    "cases_dir_path = Path(cases_dir)\n",
    "\n",
    "if cases_dir_path.exists():\n",
    "    rmtree(cases_dir_path)\n",
    "    \n",
    "if not cases_dir_path.exists():\n",
    "    makedirs(cases_dir_path)\n",
    "\n",
    "input_files_all = Path(input_files_all)\n",
    "reference_file = Path(reference_file)\n",
    "\n",
    "case_name = str(cases_dir_path.name)\n",
    "reference_name = reference_file.name.split('.')[0]\n",
    "\n",
    "cases_input = cases_dir_path / 'input-files-case.tsv'\n",
    "index_path = cases_dir_path / 'index'\n",
    "benchmark_path = cases_dir_path / 'index-info.tsv'\n",
    "output_tree = cases_dir_path / 'tree.tre'"
   ]
  },
  {
   "cell_type": "markdown",
   "id": "1673d80f-b52a-4b68-b400-355540495e15",
   "metadata": {
    "papermill": {
     "duration": 0.009205,
     "end_time": "2021-09-07T18:49:35.066147",
     "exception": false,
     "start_time": "2021-09-07T18:49:35.056942",
     "status": "completed"
    },
    "tags": []
   },
   "source": [
    "# 2. Create subset input"
   ]
  },
  {
   "cell_type": "code",
   "execution_count": 4,
   "id": "4e66adb1-3ef7-45d1-8e46-723dcb9d0c31",
   "metadata": {
    "execution": {
     "iopub.execute_input": "2021-09-07T18:49:35.087364Z",
     "iopub.status.busy": "2021-09-07T18:49:35.086945Z",
     "iopub.status.idle": "2021-09-07T18:49:35.125797Z",
     "shell.execute_reply": "2021-09-07T18:49:35.126669Z"
    },
    "papermill": {
     "duration": 0.054348,
     "end_time": "2021-09-07T18:49:35.126945",
     "exception": false,
     "start_time": "2021-09-07T18:49:35.072597",
     "status": "completed"
    },
    "tags": []
   },
   "outputs": [
    {
     "name": "stdout",
     "output_type": "stream",
     "text": [
      "Wrote 20/10000 samples to cases/case-20/input-files-case.tsv\n"
     ]
    }
   ],
   "source": [
    "import pandas as pd\n",
    "\n",
    "all_input_df = pd.read_csv(input_files_all, sep='\\t')\n",
    "all_input_total = len(all_input_df)\n",
    "\n",
    "subset_input_df = all_input_df.head(number_samples)\n",
    "subset_input_total = len(subset_input_df)\n",
    "\n",
    "subset_input_df.to_csv(cases_input, sep='\\t', index=False)\n",
    "\n",
    "print(f'Wrote {subset_input_total}/{all_input_total} samples to {cases_input}')"
   ]
  },
  {
   "cell_type": "markdown",
   "id": "f208279e-7558-47fc-9362-da29df92828a",
   "metadata": {
    "papermill": {
     "duration": 0.009252,
     "end_time": "2021-09-07T18:49:35.151175",
     "exception": false,
     "start_time": "2021-09-07T18:49:35.141923",
     "status": "completed"
    },
    "tags": []
   },
   "source": [
    "# 2. Index genomes"
   ]
  },
  {
   "cell_type": "code",
   "execution_count": 5,
   "id": "4e936f7c-2fcd-4188-b0e6-6b3ceb5cdcd2",
   "metadata": {
    "execution": {
     "iopub.execute_input": "2021-09-07T18:49:35.182216Z",
     "iopub.status.busy": "2021-09-07T18:49:35.169554Z",
     "iopub.status.idle": "2021-09-07T18:49:37.916552Z",
     "shell.execute_reply": "2021-09-07T18:49:37.915627Z"
    },
    "papermill": {
     "duration": 2.758991,
     "end_time": "2021-09-07T18:49:37.916804",
     "exception": false,
     "start_time": "2021-09-07T18:49:35.157813",
     "status": "completed"
    },
    "tags": []
   },
   "outputs": [
    {
     "name": "stdout",
     "output_type": "stream",
     "text": [
      "gdi, version 0.3.0.dev10\r\n"
     ]
    }
   ],
   "source": [
    "!gdi --version"
   ]
  },
  {
   "cell_type": "markdown",
   "id": "5409ecf8-2158-4361-9d2f-6b1a6c7c63a6",
   "metadata": {
    "papermill": {
     "duration": 0.010304,
     "end_time": "2021-09-07T18:49:37.942797",
     "exception": false,
     "start_time": "2021-09-07T18:49:37.932493",
     "status": "completed"
    },
    "tags": []
   },
   "source": [
    "## 2.1. Index reads"
   ]
  },
  {
   "cell_type": "code",
   "execution_count": 6,
   "id": "3d63e861-733e-46f2-8bce-bd1a2c7c7058",
   "metadata": {
    "execution": {
     "iopub.execute_input": "2021-09-07T18:49:37.965848Z",
     "iopub.status.busy": "2021-09-07T18:49:37.963972Z",
     "iopub.status.idle": "2021-09-07T19:04:22.550891Z",
     "shell.execute_reply": "2021-09-07T19:04:22.551925Z"
    },
    "papermill": {
     "duration": 884.602622,
     "end_time": "2021-09-07T19:04:22.552403",
     "exception": false,
     "start_time": "2021-09-07T18:49:37.949781",
     "status": "completed"
    },
    "tags": []
   },
   "outputs": [
    {
     "name": "stdout",
     "output_type": "stream",
     "text": [
      "\n",
      "Iteration 1 of index/analysis of 20 samples with 32 cores\n",
      "Removing any extra snakemake directories: ['snakemake-assemblies.1631040307.1789904']\n"
     ]
    },
    {
     "name": "stdout",
     "output_type": "stream",
     "text": [
      "Creating new index: [gdi init cases/case-20/index]\n"
     ]
    },
    {
     "name": "stdout",
     "output_type": "stream",
     "text": [
      "Creating a new index took 2.82 seconds\n",
      "Analysis running: [gdi --project-dir cases/case-20/index --ncores 32 analysis --use-conda --no-load-data --reference-file references/NC_045512.gbk.gz --kmer-size 31 --kmer-size 51 --kmer-size 71 --include-kmer --reads-mincov 10 --input-structured-genomes-file cases/case-20/input-files-case.tsv]\n"
     ]
    },
    {
     "name": "stdout",
     "output_type": "stream",
     "text": [
      "Analysis took 2.62 minutes\n",
      "Index running: [gdi --project-dir cases/case-20/index --ncores 32 load vcf-kmer --reference-file references/NC_045512.gbk.gz /home/CSCScience.ca/apetkau/workspace/genomics-data-index-evaluation/evaluations/sars-cov-2/snakemake-assemblies.1631040585.7486072/gdi-input.fofn]\n"
     ]
    },
    {
     "name": "stdout",
     "output_type": "stream",
     "text": [
      "Indexing took 0.11 minutes\n",
      "Building tree: [gdi --project-dir cases/case-20/index --ncores 32 rebuild tree --align-type full --extra-params '--fast -m GTR+F+R4' NC_045512]\n"
     ]
    },
    {
     "name": "stdout",
     "output_type": "stream",
     "text": [
      "Building tree took 2.31 minutes\n"
     ]
    },
    {
     "name": "stderr",
     "output_type": "stream",
     "text": [
      "A reminder to myself to look for a Python solution for directory sizes (instead of running `du`)\n"
     ]
    },
    {
     "name": "stdout",
     "output_type": "stream",
     "text": [
      "\n",
      "Iteration 2 of index/analysis of 20 samples with 32 cores\n",
      "Removing any extra snakemake directories: ['snakemake-assemblies.1631040585.7486072']\n"
     ]
    },
    {
     "name": "stdout",
     "output_type": "stream",
     "text": [
      "Removing any existing indexes cases/case-20/index\n",
      "Creating new index: [gdi init cases/case-20/index]\n"
     ]
    },
    {
     "name": "stdout",
     "output_type": "stream",
     "text": [
      "Creating a new index took 2.75 seconds\n",
      "Analysis running: [gdi --project-dir cases/case-20/index --ncores 32 analysis --use-conda --no-load-data --reference-file references/NC_045512.gbk.gz --kmer-size 31 --kmer-size 51 --kmer-size 71 --include-kmer --reads-mincov 10 --input-structured-genomes-file cases/case-20/input-files-case.tsv]\n"
     ]
    },
    {
     "name": "stdout",
     "output_type": "stream",
     "text": [
      "Analysis took 2.39 minutes\n",
      "Index running: [gdi --project-dir cases/case-20/index --ncores 32 load vcf-kmer --reference-file references/NC_045512.gbk.gz /home/CSCScience.ca/apetkau/workspace/genomics-data-index-evaluation/evaluations/sars-cov-2/snakemake-assemblies.1631040892.8644059/gdi-input.fofn]\n"
     ]
    },
    {
     "name": "stdout",
     "output_type": "stream",
     "text": [
      "Indexing took 0.11 minutes\n",
      "Building tree: [gdi --project-dir cases/case-20/index --ncores 32 rebuild tree --align-type full --extra-params '--fast -m GTR+F+R4' NC_045512]\n"
     ]
    },
    {
     "name": "stdout",
     "output_type": "stream",
     "text": [
      "Building tree took 2.37 minutes\n"
     ]
    },
    {
     "name": "stderr",
     "output_type": "stream",
     "text": [
      "Attempting to set global database_path_translator=<genomics_data_index.storage.model.db.DatabasePathTranslator.DatabasePathTranslator object at 0x7fb0aac63910> but it is already set\n"
     ]
    },
    {
     "name": "stderr",
     "output_type": "stream",
     "text": [
      "A reminder to myself to look for a Python solution for directory sizes (instead of running `du`)\n"
     ]
    },
    {
     "name": "stdout",
     "output_type": "stream",
     "text": [
      "\n",
      "Iteration 3 of index/analysis of 20 samples with 32 cores\n",
      "Removing any extra snakemake directories: ['snakemake-assemblies.1631040892.8644059']\n"
     ]
    },
    {
     "name": "stdout",
     "output_type": "stream",
     "text": [
      "Removing any existing indexes cases/case-20/index\n",
      "Creating new index: [gdi init cases/case-20/index]\n"
     ]
    },
    {
     "name": "stdout",
     "output_type": "stream",
     "text": [
      "Creating a new index took 2.88 seconds\n",
      "Analysis running: [gdi --project-dir cases/case-20/index --ncores 32 analysis --use-conda --no-load-data --reference-file references/NC_045512.gbk.gz --kmer-size 31 --kmer-size 51 --kmer-size 71 --include-kmer --reads-mincov 10 --input-structured-genomes-file cases/case-20/input-files-case.tsv]\n"
     ]
    },
    {
     "name": "stdout",
     "output_type": "stream",
     "text": [
      "Analysis took 2.40 minutes\n",
      "Index running: [gdi --project-dir cases/case-20/index --ncores 32 load vcf-kmer --reference-file references/NC_045512.gbk.gz /home/CSCScience.ca/apetkau/workspace/genomics-data-index-evaluation/evaluations/sars-cov-2/snakemake-assemblies.1631041190.2197192/gdi-input.fofn]\n"
     ]
    },
    {
     "name": "stdout",
     "output_type": "stream",
     "text": [
      "Indexing took 0.11 minutes\n",
      "Building tree: [gdi --project-dir cases/case-20/index --ncores 32 rebuild tree --align-type full --extra-params '--fast -m GTR+F+R4' NC_045512]\n"
     ]
    },
    {
     "name": "stdout",
     "output_type": "stream",
     "text": [
      "Building tree took 2.07 minutes\n"
     ]
    },
    {
     "name": "stderr",
     "output_type": "stream",
     "text": [
      "Attempting to set global database_path_translator=<genomics_data_index.storage.model.db.DatabasePathTranslator.DatabasePathTranslator object at 0x7fb0aac63370> but it is already set\n"
     ]
    },
    {
     "name": "stderr",
     "output_type": "stream",
     "text": [
      "A reminder to myself to look for a Python solution for directory sizes (instead of running `du`)\n"
     ]
    }
   ],
   "source": [
    "results_handler = gdi_benchmark.BenchmarkResultsHandler(name=case_name)\n",
    "benchmarker = gdi_benchmark.IndexBenchmarker(benchmark_results_handler=results_handler,\n",
    "                                             index_path=index_path, input_files_file=cases_input,\n",
    "                                             reference_file=reference_file, mincov=mincov, build_tree=True,\n",
    "                                             ncores=ncores)\n",
    "\n",
    "benchmark_df = benchmarker.benchmark(iterations=iterations)"
   ]
  },
  {
   "cell_type": "code",
   "execution_count": 7,
   "id": "3bcb6da7-0164-47f2-abdd-a4c159da1e3b",
   "metadata": {
    "execution": {
     "iopub.execute_input": "2021-09-07T19:04:22.606665Z",
     "iopub.status.busy": "2021-09-07T19:04:22.605487Z",
     "iopub.status.idle": "2021-09-07T19:04:22.629375Z",
     "shell.execute_reply": "2021-09-07T19:04:22.630298Z"
    },
    "papermill": {
     "duration": 0.054381,
     "end_time": "2021-09-07T19:04:22.630571",
     "exception": false,
     "start_time": "2021-09-07T19:04:22.576190",
     "status": "completed"
    },
    "tags": []
   },
   "outputs": [
    {
     "data": {
      "text/html": [
       "<div>\n",
       "<style scoped>\n",
       "    .dataframe tbody tr th:only-of-type {\n",
       "        vertical-align: middle;\n",
       "    }\n",
       "\n",
       "    .dataframe tbody tr th {\n",
       "        vertical-align: top;\n",
       "    }\n",
       "\n",
       "    .dataframe thead th {\n",
       "        text-align: right;\n",
       "    }\n",
       "</style>\n",
       "<table border=\"1\" class=\"dataframe\">\n",
       "  <thead>\n",
       "    <tr style=\"text-align: right;\">\n",
       "      <th></th>\n",
       "      <th>Name</th>\n",
       "      <th>Iteration</th>\n",
       "      <th>Number samples</th>\n",
       "      <th>Number cores</th>\n",
       "      <th>Reference length</th>\n",
       "      <th>Analysis runtime</th>\n",
       "      <th>Analysis memory (max)</th>\n",
       "      <th>Analysis memory (max/process)</th>\n",
       "      <th>Analysis disk uage</th>\n",
       "      <th>Index runtime</th>\n",
       "      <th>Index memory (max)</th>\n",
       "      <th>Index memory (max/process)</th>\n",
       "      <th>Index size</th>\n",
       "      <th>Tree runtime</th>\n",
       "      <th>Tree memory (max)</th>\n",
       "      <th>Tree memory (max/process)</th>\n",
       "      <th>Total runtime</th>\n",
       "      <th>Max memory</th>\n",
       "    </tr>\n",
       "  </thead>\n",
       "  <tbody>\n",
       "    <tr>\n",
       "      <th>0</th>\n",
       "      <td>case-20</td>\n",
       "      <td>1</td>\n",
       "      <td>20</td>\n",
       "      <td>32</td>\n",
       "      <td>29903</td>\n",
       "      <td>157.04</td>\n",
       "      <td>1.836638e+09</td>\n",
       "      <td>371351552.0</td>\n",
       "      <td>3.453874e+09</td>\n",
       "      <td>6.61</td>\n",
       "      <td>5.499896e+09</td>\n",
       "      <td>270114816.0</td>\n",
       "      <td>1900544.0</td>\n",
       "      <td>138.22</td>\n",
       "      <td>239587328.0</td>\n",
       "      <td>220999680.0</td>\n",
       "      <td>301.87</td>\n",
       "      <td>5.499896e+09</td>\n",
       "    </tr>\n",
       "    <tr>\n",
       "      <th>0</th>\n",
       "      <td>case-20</td>\n",
       "      <td>2</td>\n",
       "      <td>20</td>\n",
       "      <td>32</td>\n",
       "      <td>29903</td>\n",
       "      <td>143.33</td>\n",
       "      <td>1.843306e+09</td>\n",
       "      <td>379293696.0</td>\n",
       "      <td>3.453870e+09</td>\n",
       "      <td>6.55</td>\n",
       "      <td>5.504295e+09</td>\n",
       "      <td>265396224.0</td>\n",
       "      <td>1900544.0</td>\n",
       "      <td>142.04</td>\n",
       "      <td>239251456.0</td>\n",
       "      <td>220606464.0</td>\n",
       "      <td>291.92</td>\n",
       "      <td>5.504295e+09</td>\n",
       "    </tr>\n",
       "    <tr>\n",
       "      <th>0</th>\n",
       "      <td>case-20</td>\n",
       "      <td>3</td>\n",
       "      <td>20</td>\n",
       "      <td>32</td>\n",
       "      <td>29903</td>\n",
       "      <td>143.79</td>\n",
       "      <td>1.880625e+09</td>\n",
       "      <td>374943744.0</td>\n",
       "      <td>3.453870e+09</td>\n",
       "      <td>6.73</td>\n",
       "      <td>5.506724e+09</td>\n",
       "      <td>266047488.0</td>\n",
       "      <td>1900544.0</td>\n",
       "      <td>123.82</td>\n",
       "      <td>240214016.0</td>\n",
       "      <td>220995584.0</td>\n",
       "      <td>274.34</td>\n",
       "      <td>5.506724e+09</td>\n",
       "    </tr>\n",
       "  </tbody>\n",
       "</table>\n",
       "</div>"
      ],
      "text/plain": [
       "      Name  Iteration  Number samples  Number cores  Reference length  \\\n",
       "0  case-20          1              20            32             29903   \n",
       "0  case-20          2              20            32             29903   \n",
       "0  case-20          3              20            32             29903   \n",
       "\n",
       "   Analysis runtime  Analysis memory (max)  Analysis memory (max/process)  \\\n",
       "0            157.04           1.836638e+09                    371351552.0   \n",
       "0            143.33           1.843306e+09                    379293696.0   \n",
       "0            143.79           1.880625e+09                    374943744.0   \n",
       "\n",
       "   Analysis disk uage  Index runtime  Index memory (max)  \\\n",
       "0        3.453874e+09           6.61        5.499896e+09   \n",
       "0        3.453870e+09           6.55        5.504295e+09   \n",
       "0        3.453870e+09           6.73        5.506724e+09   \n",
       "\n",
       "   Index memory (max/process)  Index size  Tree runtime  Tree memory (max)  \\\n",
       "0                 270114816.0   1900544.0        138.22        239587328.0   \n",
       "0                 265396224.0   1900544.0        142.04        239251456.0   \n",
       "0                 266047488.0   1900544.0        123.82        240214016.0   \n",
       "\n",
       "   Tree memory (max/process)  Total runtime    Max memory  \n",
       "0                220999680.0         301.87  5.499896e+09  \n",
       "0                220606464.0         291.92  5.504295e+09  \n",
       "0                220995584.0         274.34  5.506724e+09  "
      ]
     },
     "execution_count": 7,
     "metadata": {},
     "output_type": "execute_result"
    }
   ],
   "source": [
    "benchmark_df"
   ]
  },
  {
   "cell_type": "code",
   "execution_count": 8,
   "id": "535a9ccc-ab9c-4919-806f-128e1efd2389",
   "metadata": {
    "execution": {
     "iopub.execute_input": "2021-09-07T19:04:22.673692Z",
     "iopub.status.busy": "2021-09-07T19:04:22.672551Z",
     "iopub.status.idle": "2021-09-07T19:04:22.676635Z",
     "shell.execute_reply": "2021-09-07T19:04:22.677498Z"
    },
    "papermill": {
     "duration": 0.025755,
     "end_time": "2021-09-07T19:04:22.677796",
     "exception": false,
     "start_time": "2021-09-07T19:04:22.652041",
     "status": "completed"
    },
    "tags": []
   },
   "outputs": [],
   "source": [
    "benchmark_df.to_csv(benchmark_path, sep='\\t', index=False)"
   ]
  },
  {
   "cell_type": "markdown",
   "id": "6cb7673b-9f85-4c43-b2e2-93538497a196",
   "metadata": {
    "papermill": {
     "duration": 0.012157,
     "end_time": "2021-09-07T19:04:22.713690",
     "exception": false,
     "start_time": "2021-09-07T19:04:22.701533",
     "status": "completed"
    },
    "tags": []
   },
   "source": [
    "# 3. Export trees"
   ]
  },
  {
   "cell_type": "code",
   "execution_count": 9,
   "id": "5280f82c-5434-4391-8c44-b937a7c95bd5",
   "metadata": {
    "execution": {
     "iopub.execute_input": "2021-09-07T19:04:22.743589Z",
     "iopub.status.busy": "2021-09-07T19:04:22.742417Z",
     "iopub.status.idle": "2021-09-07T19:04:25.694881Z",
     "shell.execute_reply": "2021-09-07T19:04:25.695796Z"
    },
    "papermill": {
     "duration": 2.971781,
     "end_time": "2021-09-07T19:04:25.696116",
     "exception": false,
     "start_time": "2021-09-07T19:04:22.724335",
     "status": "completed"
    },
    "tags": []
   },
   "outputs": [
    {
     "name": "stdout",
     "output_type": "stream",
     "text": [
      "Wrote tree to cases/case-20/tree.tre\n"
     ]
    }
   ],
   "source": [
    "!gdi --project-dir {index_path} export tree {reference_name} > {output_tree}\n",
    "print(f'Wrote tree to {output_tree}')"
   ]
  }
 ],
 "metadata": {
  "kernelspec": {
   "display_name": "Python 3 (ipykernel)",
   "language": "python",
   "name": "python3"
  },
  "language_info": {
   "codemirror_mode": {
    "name": "ipython",
    "version": 3
   },
   "file_extension": ".py",
   "mimetype": "text/x-python",
   "name": "python",
   "nbconvert_exporter": "python",
   "pygments_lexer": "ipython3",
   "version": "3.8.10"
  },
  "papermill": {
   "default_parameters": {},
   "duration": 895.439356,
   "end_time": "2021-09-07T19:04:27.141870",
   "environment_variables": {},
   "exception": null,
   "input_path": "template-3-index-genomes.ipynb",
   "output_path": "3-index-genomes.case-20.ipynb",
   "parameters": {
    "cases_dir": "cases/case-20",
    "iterations": 3,
    "number_samples": 20
   },
   "start_time": "2021-09-07T18:49:31.702514",
   "version": "2.3.3"
  }
 },
 "nbformat": 4,
 "nbformat_minor": 5
}