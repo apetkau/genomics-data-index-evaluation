{
 "cells": [
  {
   "cell_type": "markdown",
   "id": "7d3667b4-b1f8-4347-96e3-830c25b06740",
   "metadata": {
    "papermill": {
     "duration": 0.016271,
     "end_time": "2021-09-08T02:44:24.178684",
     "exception": false,
     "start_time": "2021-09-08T02:44:24.162413",
     "status": "completed"
    },
    "tags": []
   },
   "source": [
    "# 1. Parameters"
   ]
  },
  {
   "cell_type": "code",
   "execution_count": 1,
   "id": "d4ab0749-b286-4c34-b63c-a854e4952bae",
   "metadata": {
    "execution": {
     "iopub.execute_input": "2021-09-08T02:44:24.209081Z",
     "iopub.status.busy": "2021-09-08T02:44:24.208554Z",
     "iopub.status.idle": "2021-09-08T02:44:24.212912Z",
     "shell.execute_reply": "2021-09-08T02:44:24.212341Z"
    },
    "papermill": {
     "duration": 0.024568,
     "end_time": "2021-09-08T02:44:24.213031",
     "exception": false,
     "start_time": "2021-09-08T02:44:24.188463",
     "status": "completed"
    },
    "tags": [
     "parameters"
    ]
   },
   "outputs": [],
   "source": [
    "# Defaults\n",
    "cases_dir = 'cases/unset'\n",
    "reference_file = 'references/NC_045512.gbk.gz'\n",
    "input_files_all = 'input/input-files.tsv'\n",
    "iterations = 3\n",
    "mincov = 10\n",
    "ncores = 32\n",
    "number_samples = 10"
   ]
  },
  {
   "cell_type": "code",
   "execution_count": 2,
   "id": "6de02945",
   "metadata": {
    "execution": {
     "iopub.execute_input": "2021-09-08T02:44:24.232976Z",
     "iopub.status.busy": "2021-09-08T02:44:24.232594Z",
     "iopub.status.idle": "2021-09-08T02:44:24.235354Z",
     "shell.execute_reply": "2021-09-08T02:44:24.235649Z"
    },
    "papermill": {
     "duration": 0.015478,
     "end_time": "2021-09-08T02:44:24.235740",
     "exception": false,
     "start_time": "2021-09-08T02:44:24.220262",
     "status": "completed"
    },
    "tags": [
     "injected-parameters"
    ]
   },
   "outputs": [],
   "source": [
    "# Parameters\n",
    "cases_dir = \"cases/case-20\"\n",
    "iterations = 3\n",
    "number_samples = 20\n"
   ]
  },
  {
   "cell_type": "code",
   "execution_count": 3,
   "id": "ce5962e4-261c-4210-b39b-47044e28466b",
   "metadata": {
    "execution": {
     "iopub.execute_input": "2021-09-08T02:44:24.259320Z",
     "iopub.status.busy": "2021-09-08T02:44:24.258794Z",
     "iopub.status.idle": "2021-09-08T02:44:26.482184Z",
     "shell.execute_reply": "2021-09-08T02:44:26.481189Z"
    },
    "papermill": {
     "duration": 2.241066,
     "end_time": "2021-09-08T02:44:26.482422",
     "exception": false,
     "start_time": "2021-09-08T02:44:24.241356",
     "status": "completed"
    },
    "tags": []
   },
   "outputs": [],
   "source": [
    "from pathlib import Path\n",
    "from shutil import rmtree\n",
    "from os import makedirs\n",
    "import imp\n",
    "fp, pathname, description = imp.find_module('gdi_benchmark', ['../../lib'])\n",
    "gdi_benchmark = imp.load_module('gdi_benchmark', fp, pathname, description)\n",
    "\n",
    "cases_dir_path = Path(cases_dir)\n",
    "\n",
    "if cases_dir_path.exists():\n",
    "    rmtree(cases_dir_path)\n",
    "    \n",
    "if not cases_dir_path.exists():\n",
    "    makedirs(cases_dir_path)\n",
    "\n",
    "input_files_all = Path(input_files_all)\n",
    "reference_file = Path(reference_file)\n",
    "\n",
    "case_name = str(cases_dir_path.name)\n",
    "reference_name = reference_file.name.split('.')[0]\n",
    "\n",
    "cases_input = cases_dir_path / 'input-files-case.tsv'\n",
    "index_path = cases_dir_path / 'index'\n",
    "benchmark_path = cases_dir_path / 'index-info.tsv'\n",
    "output_tree = cases_dir_path / 'tree.tre'"
   ]
  },
  {
   "cell_type": "markdown",
   "id": "1673d80f-b52a-4b68-b400-355540495e15",
   "metadata": {
    "papermill": {
     "duration": 0.009188,
     "end_time": "2021-09-08T02:44:26.506913",
     "exception": false,
     "start_time": "2021-09-08T02:44:26.497725",
     "status": "completed"
    },
    "tags": []
   },
   "source": [
    "# 2. Create subset input"
   ]
  },
  {
   "cell_type": "code",
   "execution_count": 4,
   "id": "4e66adb1-3ef7-45d1-8e46-723dcb9d0c31",
   "metadata": {
    "execution": {
     "iopub.execute_input": "2021-09-08T02:44:26.528281Z",
     "iopub.status.busy": "2021-09-08T02:44:26.527787Z",
     "iopub.status.idle": "2021-09-08T02:44:26.579846Z",
     "shell.execute_reply": "2021-09-08T02:44:26.580734Z"
    },
    "papermill": {
     "duration": 0.067532,
     "end_time": "2021-09-08T02:44:26.581015",
     "exception": false,
     "start_time": "2021-09-08T02:44:26.513483",
     "status": "completed"
    },
    "tags": []
   },
   "outputs": [
    {
     "name": "stdout",
     "output_type": "stream",
     "text": [
      "Wrote 20/10000 samples to cases/case-20/input-files-case.tsv\n"
     ]
    }
   ],
   "source": [
    "import pandas as pd\n",
    "\n",
    "all_input_df = pd.read_csv(input_files_all, sep='\\t')\n",
    "all_input_total = len(all_input_df)\n",
    "\n",
    "subset_input_df = all_input_df.head(number_samples)\n",
    "subset_input_total = len(subset_input_df)\n",
    "\n",
    "subset_input_df.to_csv(cases_input, sep='\\t', index=False)\n",
    "\n",
    "print(f'Wrote {subset_input_total}/{all_input_total} samples to {cases_input}')"
   ]
  },
  {
   "cell_type": "markdown",
   "id": "f208279e-7558-47fc-9362-da29df92828a",
   "metadata": {
    "papermill": {
     "duration": 0.009192,
     "end_time": "2021-09-08T02:44:26.604636",
     "exception": false,
     "start_time": "2021-09-08T02:44:26.595444",
     "status": "completed"
    },
    "tags": []
   },
   "source": [
    "# 2. Index genomes"
   ]
  },
  {
   "cell_type": "code",
   "execution_count": 5,
   "id": "4e936f7c-2fcd-4188-b0e6-6b3ceb5cdcd2",
   "metadata": {
    "execution": {
     "iopub.execute_input": "2021-09-08T02:44:26.634761Z",
     "iopub.status.busy": "2021-09-08T02:44:26.623309Z",
     "iopub.status.idle": "2021-09-08T02:44:29.251249Z",
     "shell.execute_reply": "2021-09-08T02:44:29.252190Z"
    },
    "papermill": {
     "duration": 2.641123,
     "end_time": "2021-09-08T02:44:29.252501",
     "exception": false,
     "start_time": "2021-09-08T02:44:26.611378",
     "status": "completed"
    },
    "tags": []
   },
   "outputs": [
    {
     "name": "stdout",
     "output_type": "stream",
     "text": [
      "gdi, version 0.3.0.dev11\r\n"
     ]
    }
   ],
   "source": [
    "!gdi --version"
   ]
  },
  {
   "cell_type": "markdown",
   "id": "5409ecf8-2158-4361-9d2f-6b1a6c7c63a6",
   "metadata": {
    "papermill": {
     "duration": 0.009461,
     "end_time": "2021-09-08T02:44:29.277584",
     "exception": false,
     "start_time": "2021-09-08T02:44:29.268123",
     "status": "completed"
    },
    "tags": []
   },
   "source": [
    "## 2.1. Index reads"
   ]
  },
  {
   "cell_type": "code",
   "execution_count": 6,
   "id": "3d63e861-733e-46f2-8bce-bd1a2c7c7058",
   "metadata": {
    "execution": {
     "iopub.execute_input": "2021-09-08T02:44:29.303770Z",
     "iopub.status.busy": "2021-09-08T02:44:29.303319Z",
     "iopub.status.idle": "2021-09-08T02:58:02.249445Z",
     "shell.execute_reply": "2021-09-08T02:58:02.248424Z"
    },
    "papermill": {
     "duration": 812.965181,
     "end_time": "2021-09-08T02:58:02.249802",
     "exception": false,
     "start_time": "2021-09-08T02:44:29.284621",
     "status": "completed"
    },
    "tags": []
   },
   "outputs": [
    {
     "name": "stdout",
     "output_type": "stream",
     "text": [
      "\n",
      "Iteration 1 of index/analysis of 20 samples with 32 cores\n",
      "Removing any extra snakemake directories: ['snakemake-assemblies.1631068823.1274123']\n"
     ]
    },
    {
     "name": "stdout",
     "output_type": "stream",
     "text": [
      "Creating new index: [gdi init cases/case-20/index]\n"
     ]
    },
    {
     "name": "stdout",
     "output_type": "stream",
     "text": [
      "Creating a new index took 2.80 seconds\n",
      "Analysis running: [gdi --project-dir cases/case-20/index --ncores 32 analysis --use-conda --no-load-data --reference-file references/NC_045512.gbk.gz --kmer-size 31 --kmer-size 51 --kmer-size 71 --include-kmer --reads-mincov 10 --input-structured-genomes-file cases/case-20/input-files-case.tsv]\n"
     ]
    },
    {
     "name": "stdout",
     "output_type": "stream",
     "text": [
      "Analysis took 2.37 minutes\n",
      "Index running: [gdi --project-dir cases/case-20/index --ncores 32 load vcf-kmer --reference-file references/NC_045512.gbk.gz /home/CSCScience.ca/apetkau/workspace/genomics-data-index-evaluation/evaluations/sars-cov-2/snakemake-assemblies.1631069077.1274207/gdi-input.fofn]\n"
     ]
    },
    {
     "name": "stdout",
     "output_type": "stream",
     "text": [
      "Indexing took 0.08 minutes\n",
      "Building tree: [gdi --project-dir cases/case-20/index --ncores 32 rebuild tree --align-type full --extra-params '--fast -m GTR+F+R4' NC_045512]\n"
     ]
    },
    {
     "name": "stdout",
     "output_type": "stream",
     "text": [
      "Building tree took 1.81 minutes\n"
     ]
    },
    {
     "name": "stderr",
     "output_type": "stream",
     "text": [
      "A reminder to myself to look for a Python solution for directory sizes (instead of running `du`)\n"
     ]
    },
    {
     "name": "stdout",
     "output_type": "stream",
     "text": [
      "\n",
      "Iteration 2 of index/analysis of 20 samples with 32 cores\n",
      "Removing any extra snakemake directories: ['snakemake-assemblies.1631069077.1274207']\n"
     ]
    },
    {
     "name": "stdout",
     "output_type": "stream",
     "text": [
      "Removing any existing indexes cases/case-20/index\n",
      "Creating new index: [gdi init cases/case-20/index]\n"
     ]
    },
    {
     "name": "stdout",
     "output_type": "stream",
     "text": [
      "Creating a new index took 2.72 seconds\n",
      "Analysis running: [gdi --project-dir cases/case-20/index --ncores 32 analysis --use-conda --no-load-data --reference-file references/NC_045512.gbk.gz --kmer-size 31 --kmer-size 51 --kmer-size 71 --include-kmer --reads-mincov 10 --input-structured-genomes-file cases/case-20/input-files-case.tsv]\n"
     ]
    },
    {
     "name": "stdout",
     "output_type": "stream",
     "text": [
      "Analysis took 2.39 minutes\n",
      "Index running: [gdi --project-dir cases/case-20/index --ncores 32 load vcf-kmer --reference-file references/NC_045512.gbk.gz /home/CSCScience.ca/apetkau/workspace/genomics-data-index-evaluation/evaluations/sars-cov-2/snakemake-assemblies.1631069337.2202823/gdi-input.fofn]\n"
     ]
    },
    {
     "name": "stdout",
     "output_type": "stream",
     "text": [
      "Indexing took 0.08 minutes\n",
      "Building tree: [gdi --project-dir cases/case-20/index --ncores 32 rebuild tree --align-type full --extra-params '--fast -m GTR+F+R4' NC_045512]\n"
     ]
    },
    {
     "name": "stdout",
     "output_type": "stream",
     "text": [
      "Building tree took 2.06 minutes\n"
     ]
    },
    {
     "name": "stderr",
     "output_type": "stream",
     "text": [
      "Attempting to set global database_path_translator=<genomics_data_index.storage.model.db.DatabasePathTranslator.DatabasePathTranslator object at 0x7fc377ef6850> but it is already set\n"
     ]
    },
    {
     "name": "stderr",
     "output_type": "stream",
     "text": [
      "A reminder to myself to look for a Python solution for directory sizes (instead of running `du`)\n"
     ]
    },
    {
     "name": "stdout",
     "output_type": "stream",
     "text": [
      "\n",
      "Iteration 3 of index/analysis of 20 samples with 32 cores\n",
      "Removing any extra snakemake directories: ['snakemake-assemblies.1631069337.2202823']\n"
     ]
    },
    {
     "name": "stdout",
     "output_type": "stream",
     "text": [
      "Removing any existing indexes cases/case-20/index\n",
      "Creating new index: [gdi init cases/case-20/index]\n"
     ]
    },
    {
     "name": "stdout",
     "output_type": "stream",
     "text": [
      "Creating a new index took 2.90 seconds\n",
      "Analysis running: [gdi --project-dir cases/case-20/index --ncores 32 analysis --use-conda --no-load-data --reference-file references/NC_045512.gbk.gz --kmer-size 31 --kmer-size 51 --kmer-size 71 --include-kmer --reads-mincov 10 --input-structured-genomes-file cases/case-20/input-files-case.tsv]\n"
     ]
    },
    {
     "name": "stdout",
     "output_type": "stream",
     "text": [
      "Analysis took 2.35 minutes\n",
      "Index running: [gdi --project-dir cases/case-20/index --ncores 32 load vcf-kmer --reference-file references/NC_045512.gbk.gz /home/CSCScience.ca/apetkau/workspace/genomics-data-index-evaluation/evaluations/sars-cov-2/snakemake-assemblies.1631069614.3597667/gdi-input.fofn]\n"
     ]
    },
    {
     "name": "stdout",
     "output_type": "stream",
     "text": [
      "Indexing took 0.08 minutes\n",
      "Building tree: [gdi --project-dir cases/case-20/index --ncores 32 rebuild tree --align-type full --extra-params '--fast -m GTR+F+R4' NC_045512]\n"
     ]
    },
    {
     "name": "stdout",
     "output_type": "stream",
     "text": [
      "Building tree took 2.07 minutes\n"
     ]
    },
    {
     "name": "stderr",
     "output_type": "stream",
     "text": [
      "Attempting to set global database_path_translator=<genomics_data_index.storage.model.db.DatabasePathTranslator.DatabasePathTranslator object at 0x7fc377df85e0> but it is already set\n"
     ]
    },
    {
     "name": "stderr",
     "output_type": "stream",
     "text": [
      "A reminder to myself to look for a Python solution for directory sizes (instead of running `du`)\n"
     ]
    }
   ],
   "source": [
    "results_handler = gdi_benchmark.BenchmarkResultsHandler(name=case_name)\n",
    "benchmarker = gdi_benchmark.IndexBenchmarker(benchmark_results_handler=results_handler,\n",
    "                                             index_path=index_path, input_files_file=cases_input,\n",
    "                                             reference_file=reference_file, mincov=mincov, build_tree=True,\n",
    "                                             ncores=ncores)\n",
    "\n",
    "benchmark_df = benchmarker.benchmark(iterations=iterations)"
   ]
  },
  {
   "cell_type": "code",
   "execution_count": 7,
   "id": "3bcb6da7-0164-47f2-abdd-a4c159da1e3b",
   "metadata": {
    "execution": {
     "iopub.execute_input": "2021-09-08T02:58:02.298330Z",
     "iopub.status.busy": "2021-09-08T02:58:02.296154Z",
     "iopub.status.idle": "2021-09-08T02:58:02.324213Z",
     "shell.execute_reply": "2021-09-08T02:58:02.325097Z"
    },
    "papermill": {
     "duration": 0.054165,
     "end_time": "2021-09-08T02:58:02.325361",
     "exception": false,
     "start_time": "2021-09-08T02:58:02.271196",
     "status": "completed"
    },
    "tags": []
   },
   "outputs": [
    {
     "data": {
      "text/html": [
       "<div>\n",
       "<style scoped>\n",
       "    .dataframe tbody tr th:only-of-type {\n",
       "        vertical-align: middle;\n",
       "    }\n",
       "\n",
       "    .dataframe tbody tr th {\n",
       "        vertical-align: top;\n",
       "    }\n",
       "\n",
       "    .dataframe thead th {\n",
       "        text-align: right;\n",
       "    }\n",
       "</style>\n",
       "<table border=\"1\" class=\"dataframe\">\n",
       "  <thead>\n",
       "    <tr style=\"text-align: right;\">\n",
       "      <th></th>\n",
       "      <th>Name</th>\n",
       "      <th>Iteration</th>\n",
       "      <th>Number samples</th>\n",
       "      <th>Number features (all)</th>\n",
       "      <th>Number features (no unknown)</th>\n",
       "      <th>Number cores</th>\n",
       "      <th>Reference length</th>\n",
       "      <th>Analysis runtime</th>\n",
       "      <th>Analysis memory (max)</th>\n",
       "      <th>Analysis memory (max/process)</th>\n",
       "      <th>Analysis disk uage</th>\n",
       "      <th>Index runtime</th>\n",
       "      <th>Index memory (max)</th>\n",
       "      <th>Index memory (max/process)</th>\n",
       "      <th>Index size</th>\n",
       "      <th>Tree runtime</th>\n",
       "      <th>Tree memory (max)</th>\n",
       "      <th>Tree memory (max/process)</th>\n",
       "      <th>Total runtime</th>\n",
       "      <th>Max memory</th>\n",
       "    </tr>\n",
       "  </thead>\n",
       "  <tbody>\n",
       "    <tr>\n",
       "      <th>0</th>\n",
       "      <td>case-20</td>\n",
       "      <td>1</td>\n",
       "      <td>20</td>\n",
       "      <td>1580</td>\n",
       "      <td>131</td>\n",
       "      <td>32</td>\n",
       "      <td>29903</td>\n",
       "      <td>141.90</td>\n",
       "      <td>1.844453e+09</td>\n",
       "      <td>371617792.0</td>\n",
       "      <td>3.453444e+09</td>\n",
       "      <td>4.52</td>\n",
       "      <td>5.504639e+09</td>\n",
       "      <td>230592512.0</td>\n",
       "      <td>778240.0</td>\n",
       "      <td>108.40</td>\n",
       "      <td>240336896.0</td>\n",
       "      <td>220803072.0</td>\n",
       "      <td>254.82</td>\n",
       "      <td>5.504639e+09</td>\n",
       "    </tr>\n",
       "    <tr>\n",
       "      <th>0</th>\n",
       "      <td>case-20</td>\n",
       "      <td>2</td>\n",
       "      <td>20</td>\n",
       "      <td>1580</td>\n",
       "      <td>131</td>\n",
       "      <td>32</td>\n",
       "      <td>29903</td>\n",
       "      <td>143.17</td>\n",
       "      <td>1.917329e+09</td>\n",
       "      <td>379027456.0</td>\n",
       "      <td>3.453432e+09</td>\n",
       "      <td>4.73</td>\n",
       "      <td>5.498573e+09</td>\n",
       "      <td>230690816.0</td>\n",
       "      <td>778240.0</td>\n",
       "      <td>123.61</td>\n",
       "      <td>241094656.0</td>\n",
       "      <td>221392896.0</td>\n",
       "      <td>271.51</td>\n",
       "      <td>5.498573e+09</td>\n",
       "    </tr>\n",
       "    <tr>\n",
       "      <th>0</th>\n",
       "      <td>case-20</td>\n",
       "      <td>3</td>\n",
       "      <td>20</td>\n",
       "      <td>1580</td>\n",
       "      <td>131</td>\n",
       "      <td>32</td>\n",
       "      <td>29903</td>\n",
       "      <td>141.15</td>\n",
       "      <td>1.680019e+09</td>\n",
       "      <td>379088896.0</td>\n",
       "      <td>3.453436e+09</td>\n",
       "      <td>4.59</td>\n",
       "      <td>5.495702e+09</td>\n",
       "      <td>230752256.0</td>\n",
       "      <td>778240.0</td>\n",
       "      <td>124.21</td>\n",
       "      <td>240033792.0</td>\n",
       "      <td>220618752.0</td>\n",
       "      <td>269.95</td>\n",
       "      <td>5.495702e+09</td>\n",
       "    </tr>\n",
       "  </tbody>\n",
       "</table>\n",
       "</div>"
      ],
      "text/plain": [
       "      Name  Iteration  Number samples  Number features (all)  \\\n",
       "0  case-20          1              20                   1580   \n",
       "0  case-20          2              20                   1580   \n",
       "0  case-20          3              20                   1580   \n",
       "\n",
       "   Number features (no unknown)  Number cores  Reference length  \\\n",
       "0                           131            32             29903   \n",
       "0                           131            32             29903   \n",
       "0                           131            32             29903   \n",
       "\n",
       "   Analysis runtime  Analysis memory (max)  Analysis memory (max/process)  \\\n",
       "0            141.90           1.844453e+09                    371617792.0   \n",
       "0            143.17           1.917329e+09                    379027456.0   \n",
       "0            141.15           1.680019e+09                    379088896.0   \n",
       "\n",
       "   Analysis disk uage  Index runtime  Index memory (max)  \\\n",
       "0        3.453444e+09           4.52        5.504639e+09   \n",
       "0        3.453432e+09           4.73        5.498573e+09   \n",
       "0        3.453436e+09           4.59        5.495702e+09   \n",
       "\n",
       "   Index memory (max/process)  Index size  Tree runtime  Tree memory (max)  \\\n",
       "0                 230592512.0    778240.0        108.40        240336896.0   \n",
       "0                 230690816.0    778240.0        123.61        241094656.0   \n",
       "0                 230752256.0    778240.0        124.21        240033792.0   \n",
       "\n",
       "   Tree memory (max/process)  Total runtime    Max memory  \n",
       "0                220803072.0         254.82  5.504639e+09  \n",
       "0                221392896.0         271.51  5.498573e+09  \n",
       "0                220618752.0         269.95  5.495702e+09  "
      ]
     },
     "execution_count": 7,
     "metadata": {},
     "output_type": "execute_result"
    }
   ],
   "source": [
    "benchmark_df"
   ]
  },
  {
   "cell_type": "code",
   "execution_count": 8,
   "id": "535a9ccc-ab9c-4919-806f-128e1efd2389",
   "metadata": {
    "execution": {
     "iopub.execute_input": "2021-09-08T02:58:02.369057Z",
     "iopub.status.busy": "2021-09-08T02:58:02.368665Z",
     "iopub.status.idle": "2021-09-08T02:58:02.371794Z",
     "shell.execute_reply": "2021-09-08T02:58:02.372175Z"
    },
    "papermill": {
     "duration": 0.023806,
     "end_time": "2021-09-08T02:58:02.372301",
     "exception": false,
     "start_time": "2021-09-08T02:58:02.348495",
     "status": "completed"
    },
    "tags": []
   },
   "outputs": [],
   "source": [
    "benchmark_df.to_csv(benchmark_path, sep='\\t', index=False)"
   ]
  },
  {
   "cell_type": "markdown",
   "id": "6cb7673b-9f85-4c43-b2e2-93538497a196",
   "metadata": {
    "papermill": {
     "duration": 0.010732,
     "end_time": "2021-09-08T02:58:02.395957",
     "exception": false,
     "start_time": "2021-09-08T02:58:02.385225",
     "status": "completed"
    },
    "tags": []
   },
   "source": [
    "# 3. Export trees"
   ]
  },
  {
   "cell_type": "code",
   "execution_count": 9,
   "id": "5280f82c-5434-4391-8c44-b937a7c95bd5",
   "metadata": {
    "execution": {
     "iopub.execute_input": "2021-09-08T02:58:02.432464Z",
     "iopub.status.busy": "2021-09-08T02:58:02.431924Z",
     "iopub.status.idle": "2021-09-08T02:58:05.200395Z",
     "shell.execute_reply": "2021-09-08T02:58:05.199483Z"
    },
    "papermill": {
     "duration": 2.79462,
     "end_time": "2021-09-08T02:58:05.200643",
     "exception": false,
     "start_time": "2021-09-08T02:58:02.406023",
     "status": "completed"
    },
    "tags": []
   },
   "outputs": [
    {
     "name": "stdout",
     "output_type": "stream",
     "text": [
      "Wrote tree to cases/case-20/tree.tre\n"
     ]
    }
   ],
   "source": [
    "!gdi --project-dir {index_path} export tree {reference_name} > {output_tree}\n",
    "print(f'Wrote tree to {output_tree}')"
   ]
  }
 ],
 "metadata": {
  "kernelspec": {
   "display_name": "Python 3 (ipykernel)",
   "language": "python",
   "name": "python3"
  },
  "language_info": {
   "codemirror_mode": {
    "name": "ipython",
    "version": 3
   },
   "file_extension": ".py",
   "mimetype": "text/x-python",
   "name": "python",
   "nbconvert_exporter": "python",
   "pygments_lexer": "ipython3",
   "version": "3.8.10"
  },
  "papermill": {
   "default_parameters": {},
   "duration": 823.418207,
   "end_time": "2021-09-08T02:58:06.729265",
   "environment_variables": {},
   "exception": null,
   "input_path": "template-3-index-genomes.ipynb",
   "output_path": "3-index-genomes.case-20.ipynb",
   "parameters": {
    "cases_dir": "cases/case-20",
    "iterations": 3,
    "number_samples": 20
   },
   "start_time": "2021-09-08T02:44:23.311058",
   "version": "2.3.3"
  }
 },
 "nbformat": 4,
 "nbformat_minor": 5
}