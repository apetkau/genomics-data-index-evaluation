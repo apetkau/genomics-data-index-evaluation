{
 "cells": [
  {
   "cell_type": "markdown",
   "id": "7d3667b4-b1f8-4347-96e3-830c25b06740",
   "metadata": {
    "papermill": {
     "duration": 0.015672,
     "end_time": "2022-03-10T17:49:24.076765",
     "exception": false,
     "start_time": "2022-03-10T17:49:24.061093",
     "status": "completed"
    },
    "tags": []
   },
   "source": [
    "# 1. Parameters"
   ]
  },
  {
   "cell_type": "code",
   "execution_count": 1,
   "id": "d4ab0749-b286-4c34-b63c-a854e4952bae",
   "metadata": {
    "execution": {
     "iopub.execute_input": "2022-03-10T17:49:24.107418Z",
     "iopub.status.busy": "2022-03-10T17:49:24.106861Z",
     "iopub.status.idle": "2022-03-10T17:49:24.112345Z",
     "shell.execute_reply": "2022-03-10T17:49:24.111644Z"
    },
    "papermill": {
     "duration": 0.02656,
     "end_time": "2022-03-10T17:49:24.112540",
     "exception": false,
     "start_time": "2022-03-10T17:49:24.085980",
     "status": "completed"
    },
    "tags": [
     "parameters"
    ]
   },
   "outputs": [],
   "source": [
    "# Defaults\n",
    "cases_dir = 'cases/unset'\n",
    "reference_file = 'references/NC_045512.gbk.gz'\n",
    "input_files_all = 'input/input-files.tsv'\n",
    "iterations = 3\n",
    "mincov = 10\n",
    "ncores = 32\n",
    "number_samples = 10\n",
    "build_tree = False\n",
    "sample_batch_size=2000"
   ]
  },
  {
   "cell_type": "code",
   "execution_count": 2,
   "id": "e475f9d3",
   "metadata": {
    "execution": {
     "iopub.execute_input": "2022-03-10T17:49:24.136134Z",
     "iopub.status.busy": "2022-03-10T17:49:24.135718Z",
     "iopub.status.idle": "2022-03-10T17:49:24.138563Z",
     "shell.execute_reply": "2022-03-10T17:49:24.138870Z"
    },
    "papermill": {
     "duration": 0.01666,
     "end_time": "2022-03-10T17:49:24.138982",
     "exception": false,
     "start_time": "2022-03-10T17:49:24.122322",
     "status": "completed"
    },
    "tags": [
     "injected-parameters"
    ]
   },
   "outputs": [],
   "source": [
    "# Parameters\n",
    "cases_dir = \"cases/case-20\"\n",
    "iterations = 3\n",
    "number_samples = 20\n",
    "build_tree = True\n"
   ]
  },
  {
   "cell_type": "code",
   "execution_count": 3,
   "id": "ce5962e4-261c-4210-b39b-47044e28466b",
   "metadata": {
    "execution": {
     "iopub.execute_input": "2022-03-10T17:49:24.163626Z",
     "iopub.status.busy": "2022-03-10T17:49:24.163074Z",
     "iopub.status.idle": "2022-03-10T17:49:26.556379Z",
     "shell.execute_reply": "2022-03-10T17:49:26.557347Z"
    },
    "papermill": {
     "duration": 2.41143,
     "end_time": "2022-03-10T17:49:26.557659",
     "exception": false,
     "start_time": "2022-03-10T17:49:24.146229",
     "status": "completed"
    },
    "tags": []
   },
   "outputs": [],
   "source": [
    "from pathlib import Path\n",
    "from shutil import rmtree\n",
    "from os import makedirs\n",
    "import imp\n",
    "fp, pathname, description = imp.find_module('gdi_benchmark', ['../../lib'])\n",
    "gdi_benchmark = imp.load_module('gdi_benchmark', fp, pathname, description)\n",
    "\n",
    "cases_dir_path = Path(cases_dir)\n",
    "\n",
    "if cases_dir_path.exists():\n",
    "    rmtree(cases_dir_path)\n",
    "    \n",
    "if not cases_dir_path.exists():\n",
    "    makedirs(cases_dir_path)\n",
    "\n",
    "input_files_all = Path(input_files_all)\n",
    "reference_file = Path(reference_file)\n",
    "\n",
    "case_name = str(cases_dir_path.name)\n",
    "reference_name = reference_file.name.split('.')[0]\n",
    "\n",
    "cases_input = cases_dir_path / 'input-files-case.tsv'\n",
    "index_path = cases_dir_path / 'index'\n",
    "benchmark_path = cases_dir_path / 'index-info.tsv'\n",
    "output_tree = cases_dir_path / 'tree.tre'"
   ]
  },
  {
   "cell_type": "markdown",
   "id": "1673d80f-b52a-4b68-b400-355540495e15",
   "metadata": {
    "papermill": {
     "duration": 0.008711,
     "end_time": "2022-03-10T17:49:26.580775",
     "exception": false,
     "start_time": "2022-03-10T17:49:26.572064",
     "status": "completed"
    },
    "tags": []
   },
   "source": [
    "# 2. Create subset input"
   ]
  },
  {
   "cell_type": "code",
   "execution_count": 4,
   "id": "4e66adb1-3ef7-45d1-8e46-723dcb9d0c31",
   "metadata": {
    "execution": {
     "iopub.execute_input": "2022-03-10T17:49:26.603348Z",
     "iopub.status.busy": "2022-03-10T17:49:26.602218Z",
     "iopub.status.idle": "2022-03-10T17:49:26.821742Z",
     "shell.execute_reply": "2022-03-10T17:49:26.820781Z"
    },
    "papermill": {
     "duration": 0.234499,
     "end_time": "2022-03-10T17:49:26.821961",
     "exception": false,
     "start_time": "2022-03-10T17:49:26.587462",
     "status": "completed"
    },
    "tags": []
   },
   "outputs": [
    {
     "name": "stdout",
     "output_type": "stream",
     "text": [
      "Wrote 20/100000 samples to cases/case-20/input-files-case.tsv\n"
     ]
    }
   ],
   "source": [
    "import pandas as pd\n",
    "\n",
    "all_input_df = pd.read_csv(input_files_all, sep='\\t')\n",
    "all_input_total = len(all_input_df)\n",
    "\n",
    "subset_input_df = all_input_df.head(number_samples)\n",
    "subset_input_total = len(subset_input_df)\n",
    "\n",
    "subset_input_df.to_csv(cases_input, sep='\\t', index=False)\n",
    "\n",
    "print(f'Wrote {subset_input_total}/{all_input_total} samples to {cases_input}')"
   ]
  },
  {
   "cell_type": "markdown",
   "id": "f208279e-7558-47fc-9362-da29df92828a",
   "metadata": {
    "papermill": {
     "duration": 0.00878,
     "end_time": "2022-03-10T17:49:26.845186",
     "exception": false,
     "start_time": "2022-03-10T17:49:26.836406",
     "status": "completed"
    },
    "tags": []
   },
   "source": [
    "# 2. Index genomes"
   ]
  },
  {
   "cell_type": "code",
   "execution_count": 5,
   "id": "4e936f7c-2fcd-4188-b0e6-6b3ceb5cdcd2",
   "metadata": {
    "execution": {
     "iopub.execute_input": "2022-03-10T17:49:26.876030Z",
     "iopub.status.busy": "2022-03-10T17:49:26.863846Z",
     "iopub.status.idle": "2022-03-10T17:49:29.680141Z",
     "shell.execute_reply": "2022-03-10T17:49:29.681062Z"
    },
    "papermill": {
     "duration": 2.829443,
     "end_time": "2022-03-10T17:49:29.681367",
     "exception": false,
     "start_time": "2022-03-10T17:49:26.851924",
     "status": "completed"
    },
    "tags": []
   },
   "outputs": [
    {
     "name": "stdout",
     "output_type": "stream",
     "text": [
      "gdi, version 0.6.0.dev2\r\n"
     ]
    }
   ],
   "source": [
    "!gdi --version"
   ]
  },
  {
   "cell_type": "markdown",
   "id": "5409ecf8-2158-4361-9d2f-6b1a6c7c63a6",
   "metadata": {
    "papermill": {
     "duration": 0.009249,
     "end_time": "2022-03-10T17:49:29.705759",
     "exception": false,
     "start_time": "2022-03-10T17:49:29.696510",
     "status": "completed"
    },
    "tags": []
   },
   "source": [
    "## 2.1. Index reads"
   ]
  },
  {
   "cell_type": "code",
   "execution_count": 6,
   "id": "3d63e861-733e-46f2-8bce-bd1a2c7c7058",
   "metadata": {
    "execution": {
     "iopub.execute_input": "2022-03-10T17:49:29.730623Z",
     "iopub.status.busy": "2022-03-10T17:49:29.727811Z",
     "iopub.status.idle": "2022-03-10T18:03:25.747814Z",
     "shell.execute_reply": "2022-03-10T18:03:25.746719Z"
    },
    "papermill": {
     "duration": 836.035303,
     "end_time": "2022-03-10T18:03:25.748201",
     "exception": false,
     "start_time": "2022-03-10T17:49:29.712898",
     "status": "completed"
    },
    "tags": []
   },
   "outputs": [
    {
     "name": "stdout",
     "output_type": "stream",
     "text": [
      "\n",
      "Iteration 1 of index/analysis of 20 samples with 32 cores\n",
      "Removing any extra snakemake directories: ['snakemake-assemblies.1646934310.185383']\n"
     ]
    },
    {
     "name": "stdout",
     "output_type": "stream",
     "text": [
      "Creating new index: [gdi init cases/case-20/index]\n"
     ]
    },
    {
     "name": "stdout",
     "output_type": "stream",
     "text": [
      "Creating a new index took 2.79 seconds\n",
      "Analysis running: [gdi --project-dir cases/case-20/index --ncores 32 analysis --use-conda --no-load-data --reference-file references/NC_045512.gbk.gz --kmer-size 31 --kmer-size 51 --kmer-size 71 --include-kmer --reads-mincov 10 --input-structured-genomes-file cases/case-20/input-files-case.tsv]\n"
     ]
    },
    {
     "name": "stdout",
     "output_type": "stream",
     "text": [
      "Analysis took 2.51 minutes\n",
      "Index running: [gdi --project-dir cases/case-20/index --ncores 32 load vcf-kmer --sample-batch-size 2000 --reference-file references/NC_045512.gbk.gz /home/CSCScience.ca/apetkau/workspace/genomics-data-index-evaluation/evaluations/sars-cov-2/snakemake-assemblies.1646934577.4334624/gdi-input.fofn]\n"
     ]
    },
    {
     "name": "stdout",
     "output_type": "stream",
     "text": [
      "Indexing took 0.11 minutes\n",
      "Building tree: [gdi --project-dir cases/case-20/index --ncores 32 rebuild tree --align-type full --extra-params '--fast -m GTR+F+R4' NC_045512]\n"
     ]
    },
    {
     "name": "stdout",
     "output_type": "stream",
     "text": [
      "Building tree took 1.79 minutes\n"
     ]
    },
    {
     "name": "stderr",
     "output_type": "stream",
     "text": [
      "A reminder to myself to look for a Python solution for directory sizes (instead of running `du`)\n"
     ]
    },
    {
     "name": "stdout",
     "output_type": "stream",
     "text": [
      "\n",
      "Iteration 2 of index/analysis of 20 samples with 32 cores\n",
      "Removing any extra snakemake directories: ['snakemake-assemblies.1646934577.4334624']\n"
     ]
    },
    {
     "name": "stdout",
     "output_type": "stream",
     "text": [
      "Removing any existing indexes cases/case-20/index\n",
      "Creating new index: [gdi init cases/case-20/index]\n"
     ]
    },
    {
     "name": "stdout",
     "output_type": "stream",
     "text": [
      "Creating a new index took 2.90 seconds\n",
      "Analysis running: [gdi --project-dir cases/case-20/index --ncores 32 analysis --use-conda --no-load-data --reference-file references/NC_045512.gbk.gz --kmer-size 31 --kmer-size 51 --kmer-size 71 --include-kmer --reads-mincov 10 --input-structured-genomes-file cases/case-20/input-files-case.tsv]\n"
     ]
    },
    {
     "name": "stdout",
     "output_type": "stream",
     "text": [
      "Analysis took 2.52 minutes\n",
      "Index running: [gdi --project-dir cases/case-20/index --ncores 32 load vcf-kmer --sample-batch-size 2000 --reference-file references/NC_045512.gbk.gz /home/CSCScience.ca/apetkau/workspace/genomics-data-index-evaluation/evaluations/sars-cov-2/snakemake-assemblies.1646934847.304125/gdi-input.fofn]\n"
     ]
    },
    {
     "name": "stdout",
     "output_type": "stream",
     "text": [
      "Indexing took 0.11 minutes\n",
      "Building tree: [gdi --project-dir cases/case-20/index --ncores 32 rebuild tree --align-type full --extra-params '--fast -m GTR+F+R4' NC_045512]\n"
     ]
    },
    {
     "name": "stdout",
     "output_type": "stream",
     "text": [
      "Building tree took 1.78 minutes\n"
     ]
    },
    {
     "name": "stderr",
     "output_type": "stream",
     "text": [
      "Attempting to set global database_path_translator=<genomics_data_index.storage.model.db.DatabasePathTranslator.DatabasePathTranslator object at 0x7f467cb85fd0> but it is already set\n"
     ]
    },
    {
     "name": "stderr",
     "output_type": "stream",
     "text": [
      "A reminder to myself to look for a Python solution for directory sizes (instead of running `du`)\n"
     ]
    },
    {
     "name": "stdout",
     "output_type": "stream",
     "text": [
      "\n",
      "Iteration 3 of index/analysis of 20 samples with 32 cores\n",
      "Removing any extra snakemake directories: ['snakemake-assemblies.1646934847.304125']\n"
     ]
    },
    {
     "name": "stdout",
     "output_type": "stream",
     "text": [
      "Removing any existing indexes cases/case-20/index\n",
      "Creating new index: [gdi init cases/case-20/index]\n"
     ]
    },
    {
     "name": "stdout",
     "output_type": "stream",
     "text": [
      "Creating a new index took 2.61 seconds\n",
      "Analysis running: [gdi --project-dir cases/case-20/index --ncores 32 analysis --use-conda --no-load-data --reference-file references/NC_045512.gbk.gz --kmer-size 31 --kmer-size 51 --kmer-size 71 --include-kmer --reads-mincov 10 --input-structured-genomes-file cases/case-20/input-files-case.tsv]\n"
     ]
    },
    {
     "name": "stdout",
     "output_type": "stream",
     "text": [
      "Analysis took 2.68 minutes\n",
      "Index running: [gdi --project-dir cases/case-20/index --ncores 32 load vcf-kmer --sample-batch-size 2000 --reference-file references/NC_045512.gbk.gz /home/CSCScience.ca/apetkau/workspace/genomics-data-index-evaluation/evaluations/sars-cov-2/snakemake-assemblies.1646935117.5294967/gdi-input.fofn]\n"
     ]
    },
    {
     "name": "stdout",
     "output_type": "stream",
     "text": [
      "Indexing took 0.12 minutes\n",
      "Building tree: [gdi --project-dir cases/case-20/index --ncores 32 rebuild tree --align-type full --extra-params '--fast -m GTR+F+R4' NC_045512]\n"
     ]
    },
    {
     "name": "stdout",
     "output_type": "stream",
     "text": [
      "Building tree took 2.05 minutes\n"
     ]
    },
    {
     "name": "stderr",
     "output_type": "stream",
     "text": [
      "Attempting to set global database_path_translator=<genomics_data_index.storage.model.db.DatabasePathTranslator.DatabasePathTranslator object at 0x7f467cb53fa0> but it is already set\n"
     ]
    },
    {
     "name": "stderr",
     "output_type": "stream",
     "text": [
      "A reminder to myself to look for a Python solution for directory sizes (instead of running `du`)\n"
     ]
    }
   ],
   "source": [
    "results_handler = gdi_benchmark.BenchmarkResultsHandler(name=case_name)\n",
    "benchmarker = gdi_benchmark.IndexBenchmarker(benchmark_results_handler=results_handler,\n",
    "                                             index_path=index_path, input_files_file=cases_input,\n",
    "                                             reference_file=reference_file, mincov=mincov,\n",
    "                                             build_tree=build_tree,\n",
    "                                             ncores=ncores,\n",
    "                                             sample_batch_size=sample_batch_size)\n",
    "\n",
    "benchmark_df = benchmarker.benchmark(iterations=iterations)"
   ]
  },
  {
   "cell_type": "code",
   "execution_count": 7,
   "id": "3bcb6da7-0164-47f2-abdd-a4c159da1e3b",
   "metadata": {
    "execution": {
     "iopub.execute_input": "2022-03-10T18:03:25.802218Z",
     "iopub.status.busy": "2022-03-10T18:03:25.801087Z",
     "iopub.status.idle": "2022-03-10T18:03:25.828757Z",
     "shell.execute_reply": "2022-03-10T18:03:25.829676Z"
    },
    "papermill": {
     "duration": 0.059534,
     "end_time": "2022-03-10T18:03:25.829947",
     "exception": false,
     "start_time": "2022-03-10T18:03:25.770413",
     "status": "completed"
    },
    "tags": []
   },
   "outputs": [
    {
     "data": {
      "text/html": [
       "<div>\n",
       "<style scoped>\n",
       "    .dataframe tbody tr th:only-of-type {\n",
       "        vertical-align: middle;\n",
       "    }\n",
       "\n",
       "    .dataframe tbody tr th {\n",
       "        vertical-align: top;\n",
       "    }\n",
       "\n",
       "    .dataframe thead th {\n",
       "        text-align: right;\n",
       "    }\n",
       "</style>\n",
       "<table border=\"1\" class=\"dataframe\">\n",
       "  <thead>\n",
       "    <tr style=\"text-align: right;\">\n",
       "      <th></th>\n",
       "      <th>Name</th>\n",
       "      <th>Reference name</th>\n",
       "      <th>Iteration</th>\n",
       "      <th>Number samples</th>\n",
       "      <th>Number features (all)</th>\n",
       "      <th>Number features (no unknown)</th>\n",
       "      <th>Number cores</th>\n",
       "      <th>Reference length</th>\n",
       "      <th>Analysis runtime</th>\n",
       "      <th>Analysis memory (max)</th>\n",
       "      <th>...</th>\n",
       "      <th>Analysis disk uage</th>\n",
       "      <th>Index runtime</th>\n",
       "      <th>Index memory (max)</th>\n",
       "      <th>Index memory (max/process)</th>\n",
       "      <th>Index size</th>\n",
       "      <th>Tree runtime</th>\n",
       "      <th>Tree memory (max)</th>\n",
       "      <th>Tree memory (max/process)</th>\n",
       "      <th>Total runtime</th>\n",
       "      <th>Max memory</th>\n",
       "    </tr>\n",
       "  </thead>\n",
       "  <tbody>\n",
       "    <tr>\n",
       "      <th>0</th>\n",
       "      <td>case-20</td>\n",
       "      <td>NC_045512</td>\n",
       "      <td>1</td>\n",
       "      <td>20</td>\n",
       "      <td>11560</td>\n",
       "      <td>61</td>\n",
       "      <td>32</td>\n",
       "      <td>29903</td>\n",
       "      <td>150.40</td>\n",
       "      <td>1.601839e+09</td>\n",
       "      <td>...</td>\n",
       "      <td>3.686392e+09</td>\n",
       "      <td>6.57</td>\n",
       "      <td>5.540147e+09</td>\n",
       "      <td>273526784.0</td>\n",
       "      <td>1957888.0</td>\n",
       "      <td>107.29</td>\n",
       "      <td>243322880.0</td>\n",
       "      <td>222175232.0</td>\n",
       "      <td>264.26</td>\n",
       "      <td>5.540147e+09</td>\n",
       "    </tr>\n",
       "    <tr>\n",
       "      <th>0</th>\n",
       "      <td>case-20</td>\n",
       "      <td>NC_045512</td>\n",
       "      <td>2</td>\n",
       "      <td>20</td>\n",
       "      <td>11560</td>\n",
       "      <td>61</td>\n",
       "      <td>32</td>\n",
       "      <td>29903</td>\n",
       "      <td>151.23</td>\n",
       "      <td>1.677283e+09</td>\n",
       "      <td>...</td>\n",
       "      <td>3.686367e+09</td>\n",
       "      <td>6.76</td>\n",
       "      <td>5.536125e+09</td>\n",
       "      <td>273903616.0</td>\n",
       "      <td>1966080.0</td>\n",
       "      <td>106.86</td>\n",
       "      <td>243453952.0</td>\n",
       "      <td>222339072.0</td>\n",
       "      <td>264.85</td>\n",
       "      <td>5.536125e+09</td>\n",
       "    </tr>\n",
       "    <tr>\n",
       "      <th>0</th>\n",
       "      <td>case-20</td>\n",
       "      <td>NC_045512</td>\n",
       "      <td>3</td>\n",
       "      <td>20</td>\n",
       "      <td>11560</td>\n",
       "      <td>61</td>\n",
       "      <td>32</td>\n",
       "      <td>29903</td>\n",
       "      <td>160.70</td>\n",
       "      <td>1.823449e+09</td>\n",
       "      <td>...</td>\n",
       "      <td>3.686380e+09</td>\n",
       "      <td>6.96</td>\n",
       "      <td>5.545247e+09</td>\n",
       "      <td>269643776.0</td>\n",
       "      <td>1966080.0</td>\n",
       "      <td>122.64</td>\n",
       "      <td>243171328.0</td>\n",
       "      <td>222343168.0</td>\n",
       "      <td>290.30</td>\n",
       "      <td>5.545247e+09</td>\n",
       "    </tr>\n",
       "  </tbody>\n",
       "</table>\n",
       "<p>3 rows × 21 columns</p>\n",
       "</div>"
      ],
      "text/plain": [
       "      Name Reference name  Iteration  Number samples  Number features (all)  \\\n",
       "0  case-20      NC_045512          1              20                  11560   \n",
       "0  case-20      NC_045512          2              20                  11560   \n",
       "0  case-20      NC_045512          3              20                  11560   \n",
       "\n",
       "   Number features (no unknown)  Number cores  Reference length  \\\n",
       "0                            61            32             29903   \n",
       "0                            61            32             29903   \n",
       "0                            61            32             29903   \n",
       "\n",
       "   Analysis runtime  Analysis memory (max)  ...  Analysis disk uage  \\\n",
       "0            150.40           1.601839e+09  ...        3.686392e+09   \n",
       "0            151.23           1.677283e+09  ...        3.686367e+09   \n",
       "0            160.70           1.823449e+09  ...        3.686380e+09   \n",
       "\n",
       "   Index runtime  Index memory (max)  Index memory (max/process)  Index size  \\\n",
       "0           6.57        5.540147e+09                 273526784.0   1957888.0   \n",
       "0           6.76        5.536125e+09                 273903616.0   1966080.0   \n",
       "0           6.96        5.545247e+09                 269643776.0   1966080.0   \n",
       "\n",
       "   Tree runtime  Tree memory (max)  Tree memory (max/process)  Total runtime  \\\n",
       "0        107.29        243322880.0                222175232.0         264.26   \n",
       "0        106.86        243453952.0                222339072.0         264.85   \n",
       "0        122.64        243171328.0                222343168.0         290.30   \n",
       "\n",
       "     Max memory  \n",
       "0  5.540147e+09  \n",
       "0  5.536125e+09  \n",
       "0  5.545247e+09  \n",
       "\n",
       "[3 rows x 21 columns]"
      ]
     },
     "execution_count": 7,
     "metadata": {},
     "output_type": "execute_result"
    }
   ],
   "source": [
    "benchmark_df"
   ]
  },
  {
   "cell_type": "code",
   "execution_count": 8,
   "id": "535a9ccc-ab9c-4919-806f-128e1efd2389",
   "metadata": {
    "execution": {
     "iopub.execute_input": "2022-03-10T18:03:25.869925Z",
     "iopub.status.busy": "2022-03-10T18:03:25.868885Z",
     "iopub.status.idle": "2022-03-10T18:03:25.874124Z",
     "shell.execute_reply": "2022-03-10T18:03:25.874958Z"
    },
    "papermill": {
     "duration": 0.02481,
     "end_time": "2022-03-10T18:03:25.875203",
     "exception": false,
     "start_time": "2022-03-10T18:03:25.850393",
     "status": "completed"
    },
    "tags": []
   },
   "outputs": [],
   "source": [
    "benchmark_df.to_csv(benchmark_path, sep='\\t', index=False)"
   ]
  },
  {
   "cell_type": "markdown",
   "id": "6cb7673b-9f85-4c43-b2e2-93538497a196",
   "metadata": {
    "papermill": {
     "duration": 0.011965,
     "end_time": "2022-03-10T18:03:25.910310",
     "exception": false,
     "start_time": "2022-03-10T18:03:25.898345",
     "status": "completed"
    },
    "tags": []
   },
   "source": [
    "# 3. Export trees"
   ]
  },
  {
   "cell_type": "code",
   "execution_count": 9,
   "id": "5280f82c-5434-4391-8c44-b937a7c95bd5",
   "metadata": {
    "execution": {
     "iopub.execute_input": "2022-03-10T18:03:25.950807Z",
     "iopub.status.busy": "2022-03-10T18:03:25.939082Z",
     "iopub.status.idle": "2022-03-10T18:03:28.742514Z",
     "shell.execute_reply": "2022-03-10T18:03:28.743376Z"
    },
    "papermill": {
     "duration": 2.823126,
     "end_time": "2022-03-10T18:03:28.743686",
     "exception": false,
     "start_time": "2022-03-10T18:03:25.920560",
     "status": "completed"
    },
    "tags": []
   },
   "outputs": [
    {
     "name": "stdout",
     "output_type": "stream",
     "text": [
      "Wrote tree to cases/case-20/tree.tre\n"
     ]
    }
   ],
   "source": [
    "if build_tree:\n",
    "    !gdi --project-dir {index_path} export tree {reference_name} > {output_tree}\n",
    "    print(f'Wrote tree to {output_tree}')\n",
    "else:\n",
    "    print(f'build_tree={build_tree} so no tree to export')"
   ]
  }
 ],
 "metadata": {
  "kernelspec": {
   "display_name": "Python 3 (ipykernel)",
   "language": "python",
   "name": "python3"
  },
  "language_info": {
   "codemirror_mode": {
    "name": "ipython",
    "version": 3
   },
   "file_extension": ".py",
   "mimetype": "text/x-python",
   "name": "python",
   "nbconvert_exporter": "python",
   "pygments_lexer": "ipython3",
   "version": "3.8.12"
  },
  "papermill": {
   "default_parameters": {},
   "duration": 846.677404,
   "end_time": "2022-03-10T18:03:29.383099",
   "environment_variables": {},
   "exception": null,
   "input_path": "template-3-index-genomes.ipynb",
   "output_path": "3-index-genomes.case-20.ipynb",
   "parameters": {
    "build_tree": true,
    "cases_dir": "cases/case-20",
    "iterations": 3,
    "number_samples": 20
   },
   "start_time": "2022-03-10T17:49:22.705695",
   "version": "2.3.3"
  }
 },
 "nbformat": 4,
 "nbformat_minor": 5
}