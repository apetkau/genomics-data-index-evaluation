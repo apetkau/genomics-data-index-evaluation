{
 "cells": [
  {
   "cell_type": "markdown",
   "id": "7d3667b4-b1f8-4347-96e3-830c25b06740",
   "metadata": {
    "papermill": {
     "duration": 0.015228,
     "end_time": "2021-09-09T00:16:00.818389",
     "exception": false,
     "start_time": "2021-09-09T00:16:00.803161",
     "status": "completed"
    },
    "tags": []
   },
   "source": [
    "# 1. Parameters"
   ]
  },
  {
   "cell_type": "code",
   "execution_count": 1,
   "id": "d4ab0749-b286-4c34-b63c-a854e4952bae",
   "metadata": {
    "execution": {
     "iopub.execute_input": "2021-09-09T00:16:00.848019Z",
     "iopub.status.busy": "2021-09-09T00:16:00.842382Z",
     "iopub.status.idle": "2021-09-09T00:16:00.853090Z",
     "shell.execute_reply": "2021-09-09T00:16:00.852505Z"
    },
    "papermill": {
     "duration": 0.025957,
     "end_time": "2021-09-09T00:16:00.853223",
     "exception": false,
     "start_time": "2021-09-09T00:16:00.827266",
     "status": "completed"
    },
    "tags": [
     "parameters"
    ]
   },
   "outputs": [],
   "source": [
    "# Defaults\n",
    "cases_dir = 'cases/unset'\n",
    "reference_file = 'references/NC_045512.gbk.gz'\n",
    "input_files_all = 'input/input-files.tsv'\n",
    "iterations = 3\n",
    "mincov = 10\n",
    "ncores = 32\n",
    "number_samples = 10\n",
    "build_tree = False"
   ]
  },
  {
   "cell_type": "code",
   "execution_count": 2,
   "id": "2bc3e387",
   "metadata": {
    "execution": {
     "iopub.execute_input": "2021-09-09T00:16:00.875530Z",
     "iopub.status.busy": "2021-09-09T00:16:00.875063Z",
     "iopub.status.idle": "2021-09-09T00:16:00.877983Z",
     "shell.execute_reply": "2021-09-09T00:16:00.878318Z"
    },
    "papermill": {
     "duration": 0.015442,
     "end_time": "2021-09-09T00:16:00.878438",
     "exception": false,
     "start_time": "2021-09-09T00:16:00.862996",
     "status": "completed"
    },
    "tags": [
     "injected-parameters"
    ]
   },
   "outputs": [],
   "source": [
    "# Parameters\n",
    "cases_dir = \"cases/case-10000\"\n",
    "iterations = 3\n",
    "number_samples = 10000\n",
    "build_tree = False\n"
   ]
  },
  {
   "cell_type": "code",
   "execution_count": 3,
   "id": "ce5962e4-261c-4210-b39b-47044e28466b",
   "metadata": {
    "execution": {
     "iopub.execute_input": "2021-09-09T00:16:00.901715Z",
     "iopub.status.busy": "2021-09-09T00:16:00.901281Z",
     "iopub.status.idle": "2021-09-09T00:16:03.544667Z",
     "shell.execute_reply": "2021-09-09T00:16:03.543705Z"
    },
    "papermill": {
     "duration": 2.660663,
     "end_time": "2021-09-09T00:16:03.544939",
     "exception": false,
     "start_time": "2021-09-09T00:16:00.884276",
     "status": "completed"
    },
    "tags": []
   },
   "outputs": [],
   "source": [
    "from pathlib import Path\n",
    "from shutil import rmtree\n",
    "from os import makedirs\n",
    "import imp\n",
    "fp, pathname, description = imp.find_module('gdi_benchmark', ['../../lib'])\n",
    "gdi_benchmark = imp.load_module('gdi_benchmark', fp, pathname, description)\n",
    "\n",
    "cases_dir_path = Path(cases_dir)\n",
    "\n",
    "if cases_dir_path.exists():\n",
    "    rmtree(cases_dir_path)\n",
    "    \n",
    "if not cases_dir_path.exists():\n",
    "    makedirs(cases_dir_path)\n",
    "\n",
    "input_files_all = Path(input_files_all)\n",
    "reference_file = Path(reference_file)\n",
    "\n",
    "case_name = str(cases_dir_path.name)\n",
    "reference_name = reference_file.name.split('.')[0]\n",
    "\n",
    "cases_input = cases_dir_path / 'input-files-case.tsv'\n",
    "index_path = cases_dir_path / 'index'\n",
    "benchmark_path = cases_dir_path / 'index-info.tsv'\n",
    "output_tree = cases_dir_path / 'tree.tre'"
   ]
  },
  {
   "cell_type": "markdown",
   "id": "1673d80f-b52a-4b68-b400-355540495e15",
   "metadata": {
    "papermill": {
     "duration": 0.008713,
     "end_time": "2021-09-09T00:16:03.568338",
     "exception": false,
     "start_time": "2021-09-09T00:16:03.559625",
     "status": "completed"
    },
    "tags": []
   },
   "source": [
    "# 2. Create subset input"
   ]
  },
  {
   "cell_type": "code",
   "execution_count": 4,
   "id": "4e66adb1-3ef7-45d1-8e46-723dcb9d0c31",
   "metadata": {
    "execution": {
     "iopub.execute_input": "2021-09-09T00:16:03.590329Z",
     "iopub.status.busy": "2021-09-09T00:16:03.589203Z",
     "iopub.status.idle": "2021-09-09T00:16:03.875725Z",
     "shell.execute_reply": "2021-09-09T00:16:03.876625Z"
    },
    "papermill": {
     "duration": 0.301932,
     "end_time": "2021-09-09T00:16:03.876883",
     "exception": false,
     "start_time": "2021-09-09T00:16:03.574951",
     "status": "completed"
    },
    "tags": []
   },
   "outputs": [
    {
     "name": "stdout",
     "output_type": "stream",
     "text": [
      "Wrote 10000/100000 samples to cases/case-10000/input-files-case.tsv\n"
     ]
    }
   ],
   "source": [
    "import pandas as pd\n",
    "\n",
    "all_input_df = pd.read_csv(input_files_all, sep='\\t')\n",
    "all_input_total = len(all_input_df)\n",
    "\n",
    "subset_input_df = all_input_df.head(number_samples)\n",
    "subset_input_total = len(subset_input_df)\n",
    "\n",
    "subset_input_df.to_csv(cases_input, sep='\\t', index=False)\n",
    "\n",
    "print(f'Wrote {subset_input_total}/{all_input_total} samples to {cases_input}')"
   ]
  },
  {
   "cell_type": "markdown",
   "id": "f208279e-7558-47fc-9362-da29df92828a",
   "metadata": {
    "papermill": {
     "duration": 0.008978,
     "end_time": "2021-09-09T00:16:03.900942",
     "exception": false,
     "start_time": "2021-09-09T00:16:03.891964",
     "status": "completed"
    },
    "tags": []
   },
   "source": [
    "# 2. Index genomes"
   ]
  },
  {
   "cell_type": "code",
   "execution_count": 5,
   "id": "4e936f7c-2fcd-4188-b0e6-6b3ceb5cdcd2",
   "metadata": {
    "execution": {
     "iopub.execute_input": "2021-09-09T00:16:03.931639Z",
     "iopub.status.busy": "2021-09-09T00:16:03.919778Z",
     "iopub.status.idle": "2021-09-09T00:16:06.683815Z",
     "shell.execute_reply": "2021-09-09T00:16:06.684717Z"
    },
    "papermill": {
     "duration": 2.77738,
     "end_time": "2021-09-09T00:16:06.685043",
     "exception": false,
     "start_time": "2021-09-09T00:16:03.907663",
     "status": "completed"
    },
    "tags": []
   },
   "outputs": [
    {
     "name": "stdout",
     "output_type": "stream",
     "text": [
      "gdi, version 0.3.0.dev12\r\n"
     ]
    }
   ],
   "source": [
    "!gdi --version"
   ]
  },
  {
   "cell_type": "markdown",
   "id": "5409ecf8-2158-4361-9d2f-6b1a6c7c63a6",
   "metadata": {
    "papermill": {
     "duration": 0.009913,
     "end_time": "2021-09-09T00:16:06.711587",
     "exception": false,
     "start_time": "2021-09-09T00:16:06.701674",
     "status": "completed"
    },
    "tags": []
   },
   "source": [
    "## 2.1. Index reads"
   ]
  },
  {
   "cell_type": "code",
   "execution_count": 6,
   "id": "3d63e861-733e-46f2-8bce-bd1a2c7c7058",
   "metadata": {
    "execution": {
     "iopub.execute_input": "2021-09-09T00:16:06.734453Z",
     "iopub.status.busy": "2021-09-09T00:16:06.734034Z",
     "iopub.status.idle": "2021-09-09T04:01:57.424581Z",
     "shell.execute_reply": "2021-09-09T04:01:57.425540Z"
    },
    "papermill": {
     "duration": 13550.707363,
     "end_time": "2021-09-09T04:01:57.426300",
     "exception": false,
     "start_time": "2021-09-09T00:16:06.718937",
     "status": "completed"
    },
    "tags": []
   },
   "outputs": [
    {
     "name": "stdout",
     "output_type": "stream",
     "text": [
      "\n",
      "Iteration 1 of index/analysis of 10000 samples with 32 cores\n",
      "Removing any extra snakemake directories: ['snakemake-assemblies.1631144413.2631283']\n"
     ]
    },
    {
     "name": "stdout",
     "output_type": "stream",
     "text": [
      "Creating new index: [gdi init cases/case-10000/index]\n"
     ]
    },
    {
     "name": "stdout",
     "output_type": "stream",
     "text": [
      "Creating a new index took 2.95 seconds\n",
      "Analysis running: [gdi --project-dir cases/case-10000/index --ncores 32 analysis --use-conda --no-load-data --reference-file references/NC_045512.gbk.gz --kmer-size 31 --kmer-size 51 --kmer-size 71 --include-kmer --reads-mincov 10 --input-structured-genomes-file cases/case-10000/input-files-case.tsv]\n"
     ]
    },
    {
     "name": "stdout",
     "output_type": "stream",
     "text": [
      "Analysis took 65.52 minutes\n",
      "Index running: [gdi --project-dir cases/case-10000/index --ncores 32 load vcf-kmer --reference-file references/NC_045512.gbk.gz /home/CSCScience.ca/apetkau/workspace/genomics-data-index-evaluation/evaluations/sars-cov-2/snakemake-assemblies.1631146576.0301778/gdi-input.fofn]\n"
     ]
    },
    {
     "name": "stdout",
     "output_type": "stream",
     "text": [
      "Indexing took 9.55 minutes\n"
     ]
    },
    {
     "name": "stderr",
     "output_type": "stream",
     "text": [
      "A reminder to myself to look for a Python solution for directory sizes (instead of running `du`)\n"
     ]
    },
    {
     "name": "stdout",
     "output_type": "stream",
     "text": [
      "\n",
      "Iteration 2 of index/analysis of 10000 samples with 32 cores\n",
      "Removing any extra snakemake directories: ['snakemake-assemblies.1631146576.0301778']\n"
     ]
    },
    {
     "name": "stdout",
     "output_type": "stream",
     "text": [
      "Removing any existing indexes cases/case-10000/index\n"
     ]
    },
    {
     "name": "stdout",
     "output_type": "stream",
     "text": [
      "Creating new index: [gdi init cases/case-10000/index]\n"
     ]
    },
    {
     "name": "stdout",
     "output_type": "stream",
     "text": [
      "Creating a new index took 3.29 seconds\n",
      "Analysis running: [gdi --project-dir cases/case-10000/index --ncores 32 analysis --use-conda --no-load-data --reference-file references/NC_045512.gbk.gz --kmer-size 31 --kmer-size 51 --kmer-size 71 --include-kmer --reads-mincov 10 --input-structured-genomes-file cases/case-10000/input-files-case.tsv]\n"
     ]
    },
    {
     "name": "stdout",
     "output_type": "stream",
     "text": [
      "Analysis took 65.13 minutes\n",
      "Index running: [gdi --project-dir cases/case-10000/index --ncores 32 load vcf-kmer --reference-file references/NC_045512.gbk.gz /home/CSCScience.ca/apetkau/workspace/genomics-data-index-evaluation/evaluations/sars-cov-2/snakemake-assemblies.1631151091.7633598/gdi-input.fofn]\n"
     ]
    },
    {
     "name": "stdout",
     "output_type": "stream",
     "text": [
      "Indexing took 9.48 minutes\n"
     ]
    },
    {
     "name": "stderr",
     "output_type": "stream",
     "text": [
      "Attempting to set global database_path_translator=<genomics_data_index.storage.model.db.DatabasePathTranslator.DatabasePathTranslator object at 0x7f608946c130> but it is already set\n"
     ]
    },
    {
     "name": "stderr",
     "output_type": "stream",
     "text": [
      "A reminder to myself to look for a Python solution for directory sizes (instead of running `du`)\n"
     ]
    },
    {
     "name": "stdout",
     "output_type": "stream",
     "text": [
      "\n",
      "Iteration 3 of index/analysis of 10000 samples with 32 cores\n",
      "Removing any extra snakemake directories: ['snakemake-assemblies.1631151091.7633598']\n"
     ]
    },
    {
     "name": "stdout",
     "output_type": "stream",
     "text": [
      "Removing any existing indexes cases/case-10000/index\n"
     ]
    },
    {
     "name": "stdout",
     "output_type": "stream",
     "text": [
      "Creating new index: [gdi init cases/case-10000/index]\n"
     ]
    },
    {
     "name": "stdout",
     "output_type": "stream",
     "text": [
      "Creating a new index took 3.47 seconds\n",
      "Analysis running: [gdi --project-dir cases/case-10000/index --ncores 32 analysis --use-conda --no-load-data --reference-file references/NC_045512.gbk.gz --kmer-size 31 --kmer-size 51 --kmer-size 71 --include-kmer --reads-mincov 10 --input-structured-genomes-file cases/case-10000/input-files-case.tsv]\n"
     ]
    },
    {
     "name": "stdout",
     "output_type": "stream",
     "text": [
      "Analysis took 65.05 minutes\n",
      "Index running: [gdi --project-dir cases/case-10000/index --ncores 32 load vcf-kmer --reference-file references/NC_045512.gbk.gz /home/CSCScience.ca/apetkau/workspace/genomics-data-index-evaluation/evaluations/sars-cov-2/snakemake-assemblies.1631155580.1447754/gdi-input.fofn]\n"
     ]
    },
    {
     "name": "stdout",
     "output_type": "stream",
     "text": [
      "Indexing took 10.58 minutes\n"
     ]
    },
    {
     "name": "stderr",
     "output_type": "stream",
     "text": [
      "Attempting to set global database_path_translator=<genomics_data_index.storage.model.db.DatabasePathTranslator.DatabasePathTranslator object at 0x7f602e5a05e0> but it is already set\n"
     ]
    },
    {
     "name": "stderr",
     "output_type": "stream",
     "text": [
      "A reminder to myself to look for a Python solution for directory sizes (instead of running `du`)\n"
     ]
    }
   ],
   "source": [
    "results_handler = gdi_benchmark.BenchmarkResultsHandler(name=case_name)\n",
    "benchmarker = gdi_benchmark.IndexBenchmarker(benchmark_results_handler=results_handler,\n",
    "                                             index_path=index_path, input_files_file=cases_input,\n",
    "                                             reference_file=reference_file, mincov=mincov,\n",
    "                                             build_tree=build_tree,\n",
    "                                             ncores=ncores)\n",
    "\n",
    "benchmark_df = benchmarker.benchmark(iterations=iterations)"
   ]
  },
  {
   "cell_type": "code",
   "execution_count": 7,
   "id": "3bcb6da7-0164-47f2-abdd-a4c159da1e3b",
   "metadata": {
    "execution": {
     "iopub.execute_input": "2021-09-09T04:01:57.477813Z",
     "iopub.status.busy": "2021-09-09T04:01:57.475330Z",
     "iopub.status.idle": "2021-09-09T04:01:57.503255Z",
     "shell.execute_reply": "2021-09-09T04:01:57.504244Z"
    },
    "papermill": {
     "duration": 0.056261,
     "end_time": "2021-09-09T04:01:57.504528",
     "exception": false,
     "start_time": "2021-09-09T04:01:57.448267",
     "status": "completed"
    },
    "tags": []
   },
   "outputs": [
    {
     "data": {
      "text/html": [
       "<div>\n",
       "<style scoped>\n",
       "    .dataframe tbody tr th:only-of-type {\n",
       "        vertical-align: middle;\n",
       "    }\n",
       "\n",
       "    .dataframe tbody tr th {\n",
       "        vertical-align: top;\n",
       "    }\n",
       "\n",
       "    .dataframe thead th {\n",
       "        text-align: right;\n",
       "    }\n",
       "</style>\n",
       "<table border=\"1\" class=\"dataframe\">\n",
       "  <thead>\n",
       "    <tr style=\"text-align: right;\">\n",
       "      <th></th>\n",
       "      <th>Name</th>\n",
       "      <th>Iteration</th>\n",
       "      <th>Number samples</th>\n",
       "      <th>Number features (all)</th>\n",
       "      <th>Number features (no unknown)</th>\n",
       "      <th>Number cores</th>\n",
       "      <th>Reference length</th>\n",
       "      <th>Analysis runtime</th>\n",
       "      <th>Analysis memory (max)</th>\n",
       "      <th>Analysis memory (max/process)</th>\n",
       "      <th>Analysis disk uage</th>\n",
       "      <th>Index runtime</th>\n",
       "      <th>Index memory (max)</th>\n",
       "      <th>Index memory (max/process)</th>\n",
       "      <th>Index size</th>\n",
       "      <th>Tree runtime</th>\n",
       "      <th>Tree memory (max)</th>\n",
       "      <th>Tree memory (max/process)</th>\n",
       "      <th>Total runtime</th>\n",
       "      <th>Max memory</th>\n",
       "    </tr>\n",
       "  </thead>\n",
       "  <tbody>\n",
       "    <tr>\n",
       "      <th>0</th>\n",
       "      <td>case-10000</td>\n",
       "      <td>1</td>\n",
       "      <td>10000</td>\n",
       "      <td>39068</td>\n",
       "      <td>9165</td>\n",
       "      <td>32</td>\n",
       "      <td>29903</td>\n",
       "      <td>3903.0</td>\n",
       "      <td>1.729049e+09</td>\n",
       "      <td>992948224.0</td>\n",
       "      <td>5.303734e+09</td>\n",
       "      <td>572.59</td>\n",
       "      <td>2.563288e+10</td>\n",
       "      <td>1.553396e+09</td>\n",
       "      <td>183656448.0</td>\n",
       "      <td>&lt;NA&gt;</td>\n",
       "      <td>&lt;NA&gt;</td>\n",
       "      <td>&lt;NA&gt;</td>\n",
       "      <td>4475.59</td>\n",
       "      <td>2.563288e+10</td>\n",
       "    </tr>\n",
       "    <tr>\n",
       "      <th>0</th>\n",
       "      <td>case-10000</td>\n",
       "      <td>2</td>\n",
       "      <td>10000</td>\n",
       "      <td>39068</td>\n",
       "      <td>9165</td>\n",
       "      <td>32</td>\n",
       "      <td>29903</td>\n",
       "      <td>3900.0</td>\n",
       "      <td>1.683640e+09</td>\n",
       "      <td>992825344.0</td>\n",
       "      <td>5.303484e+09</td>\n",
       "      <td>568.69</td>\n",
       "      <td>2.958048e+10</td>\n",
       "      <td>1.547645e+09</td>\n",
       "      <td>183664640.0</td>\n",
       "      <td>&lt;NA&gt;</td>\n",
       "      <td>&lt;NA&gt;</td>\n",
       "      <td>&lt;NA&gt;</td>\n",
       "      <td>4468.69</td>\n",
       "      <td>2.958048e+10</td>\n",
       "    </tr>\n",
       "    <tr>\n",
       "      <th>0</th>\n",
       "      <td>case-10000</td>\n",
       "      <td>3</td>\n",
       "      <td>10000</td>\n",
       "      <td>39068</td>\n",
       "      <td>9165</td>\n",
       "      <td>32</td>\n",
       "      <td>29903</td>\n",
       "      <td>3900.0</td>\n",
       "      <td>1.579672e+09</td>\n",
       "      <td>992739328.0</td>\n",
       "      <td>5.303521e+09</td>\n",
       "      <td>634.87</td>\n",
       "      <td>2.924358e+10</td>\n",
       "      <td>1.555427e+09</td>\n",
       "      <td>183652352.0</td>\n",
       "      <td>&lt;NA&gt;</td>\n",
       "      <td>&lt;NA&gt;</td>\n",
       "      <td>&lt;NA&gt;</td>\n",
       "      <td>4534.87</td>\n",
       "      <td>2.924358e+10</td>\n",
       "    </tr>\n",
       "  </tbody>\n",
       "</table>\n",
       "</div>"
      ],
      "text/plain": [
       "         Name  Iteration  Number samples  Number features (all)  \\\n",
       "0  case-10000          1           10000                  39068   \n",
       "0  case-10000          2           10000                  39068   \n",
       "0  case-10000          3           10000                  39068   \n",
       "\n",
       "   Number features (no unknown)  Number cores  Reference length  \\\n",
       "0                          9165            32             29903   \n",
       "0                          9165            32             29903   \n",
       "0                          9165            32             29903   \n",
       "\n",
       "   Analysis runtime  Analysis memory (max)  Analysis memory (max/process)  \\\n",
       "0            3903.0           1.729049e+09                    992948224.0   \n",
       "0            3900.0           1.683640e+09                    992825344.0   \n",
       "0            3900.0           1.579672e+09                    992739328.0   \n",
       "\n",
       "   Analysis disk uage  Index runtime  Index memory (max)  \\\n",
       "0        5.303734e+09         572.59        2.563288e+10   \n",
       "0        5.303484e+09         568.69        2.958048e+10   \n",
       "0        5.303521e+09         634.87        2.924358e+10   \n",
       "\n",
       "   Index memory (max/process)   Index size Tree runtime Tree memory (max)  \\\n",
       "0                1.553396e+09  183656448.0         <NA>              <NA>   \n",
       "0                1.547645e+09  183664640.0         <NA>              <NA>   \n",
       "0                1.555427e+09  183652352.0         <NA>              <NA>   \n",
       "\n",
       "  Tree memory (max/process)  Total runtime    Max memory  \n",
       "0                      <NA>        4475.59  2.563288e+10  \n",
       "0                      <NA>        4468.69  2.958048e+10  \n",
       "0                      <NA>        4534.87  2.924358e+10  "
      ]
     },
     "execution_count": 7,
     "metadata": {},
     "output_type": "execute_result"
    }
   ],
   "source": [
    "benchmark_df"
   ]
  },
  {
   "cell_type": "code",
   "execution_count": 8,
   "id": "535a9ccc-ab9c-4919-806f-128e1efd2389",
   "metadata": {
    "execution": {
     "iopub.execute_input": "2021-09-09T04:01:57.545766Z",
     "iopub.status.busy": "2021-09-09T04:01:57.545356Z",
     "iopub.status.idle": "2021-09-09T04:01:57.553336Z",
     "shell.execute_reply": "2021-09-09T04:01:57.552253Z"
    },
    "papermill": {
     "duration": 0.026093,
     "end_time": "2021-09-09T04:01:57.553616",
     "exception": false,
     "start_time": "2021-09-09T04:01:57.527523",
     "status": "completed"
    },
    "tags": []
   },
   "outputs": [],
   "source": [
    "benchmark_df.to_csv(benchmark_path, sep='\\t', index=False)"
   ]
  },
  {
   "cell_type": "markdown",
   "id": "6cb7673b-9f85-4c43-b2e2-93538497a196",
   "metadata": {
    "papermill": {
     "duration": 0.012796,
     "end_time": "2021-09-09T04:01:57.591335",
     "exception": false,
     "start_time": "2021-09-09T04:01:57.578539",
     "status": "completed"
    },
    "tags": []
   },
   "source": [
    "# 3. Export trees"
   ]
  },
  {
   "cell_type": "code",
   "execution_count": 9,
   "id": "5280f82c-5434-4391-8c44-b937a7c95bd5",
   "metadata": {
    "execution": {
     "iopub.execute_input": "2021-09-09T04:01:57.619054Z",
     "iopub.status.busy": "2021-09-09T04:01:57.618573Z",
     "iopub.status.idle": "2021-09-09T04:01:57.622594Z",
     "shell.execute_reply": "2021-09-09T04:01:57.622208Z"
    },
    "papermill": {
     "duration": 0.021194,
     "end_time": "2021-09-09T04:01:57.622698",
     "exception": false,
     "start_time": "2021-09-09T04:01:57.601504",
     "status": "completed"
    },
    "tags": []
   },
   "outputs": [
    {
     "name": "stdout",
     "output_type": "stream",
     "text": [
      "build_tree=False so no tree to export\n"
     ]
    }
   ],
   "source": [
    "if build_tree:\n",
    "    !gdi --project-dir {index_path} export tree {reference_name} > {output_tree}\n",
    "    print(f'Wrote tree to {output_tree}')\n",
    "else:\n",
    "    print(f'build_tree={build_tree} so no tree to export')"
   ]
  }
 ],
 "metadata": {
  "kernelspec": {
   "display_name": "Python 3 (ipykernel)",
   "language": "python",
   "name": "python3"
  },
  "language_info": {
   "codemirror_mode": {
    "name": "ipython",
    "version": 3
   },
   "file_extension": ".py",
   "mimetype": "text/x-python",
   "name": "python",
   "nbconvert_exporter": "python",
   "pygments_lexer": "ipython3",
   "version": "3.8.10"
  },
  "papermill": {
   "default_parameters": {},
   "duration": 13558.139417,
   "end_time": "2021-09-09T04:01:58.146364",
   "environment_variables": {},
   "exception": null,
   "input_path": "template-3-index-genomes.ipynb",
   "output_path": "3-index-genomes.case-10000.ipynb",
   "parameters": {
    "build_tree": false,
    "cases_dir": "cases/case-10000",
    "iterations": 3,
    "number_samples": 10000
   },
   "start_time": "2021-09-09T00:16:00.006947",
   "version": "2.3.3"
  }
 },
 "nbformat": 4,
 "nbformat_minor": 5
}