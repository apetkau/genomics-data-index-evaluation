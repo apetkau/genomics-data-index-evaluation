{
 "cells": [
  {
   "cell_type": "markdown",
   "id": "7d3667b4-b1f8-4347-96e3-830c25b06740",
   "metadata": {
    "papermill": {
     "duration": 0.017233,
     "end_time": "2022-03-10T22:21:50.190160",
     "exception": false,
     "start_time": "2022-03-10T22:21:50.172927",
     "status": "completed"
    },
    "tags": []
   },
   "source": [
    "# 1. Parameters"
   ]
  },
  {
   "cell_type": "code",
   "execution_count": 1,
   "id": "d4ab0749-b286-4c34-b63c-a854e4952bae",
   "metadata": {
    "execution": {
     "iopub.execute_input": "2022-03-10T22:21:50.221789Z",
     "iopub.status.busy": "2022-03-10T22:21:50.210127Z",
     "iopub.status.idle": "2022-03-10T22:21:50.226158Z",
     "shell.execute_reply": "2022-03-10T22:21:50.225609Z"
    },
    "papermill": {
     "duration": 0.026305,
     "end_time": "2022-03-10T22:21:50.226289",
     "exception": false,
     "start_time": "2022-03-10T22:21:50.199984",
     "status": "completed"
    },
    "tags": [
     "parameters"
    ]
   },
   "outputs": [],
   "source": [
    "# Defaults\n",
    "cases_dir = 'cases/unset'\n",
    "reference_file = 'references/NC_045512.gbk.gz'\n",
    "input_files_all = 'input/input-files.tsv'\n",
    "iterations = 3\n",
    "mincov = 10\n",
    "ncores = 32\n",
    "number_samples = 10\n",
    "build_tree = False\n",
    "sample_batch_size=2000"
   ]
  },
  {
   "cell_type": "code",
   "execution_count": 2,
   "id": "078257e7",
   "metadata": {
    "execution": {
     "iopub.execute_input": "2022-03-10T22:21:50.249587Z",
     "iopub.status.busy": "2022-03-10T22:21:50.249093Z",
     "iopub.status.idle": "2022-03-10T22:21:50.252000Z",
     "shell.execute_reply": "2022-03-10T22:21:50.252414Z"
    },
    "papermill": {
     "duration": 0.017204,
     "end_time": "2022-03-10T22:21:50.252572",
     "exception": false,
     "start_time": "2022-03-10T22:21:50.235368",
     "status": "completed"
    },
    "tags": [
     "injected-parameters"
    ]
   },
   "outputs": [],
   "source": [
    "# Parameters\n",
    "cases_dir = \"cases/case-10000\"\n",
    "iterations = 3\n",
    "number_samples = 10000\n",
    "build_tree = False\n"
   ]
  },
  {
   "cell_type": "code",
   "execution_count": 3,
   "id": "ce5962e4-261c-4210-b39b-47044e28466b",
   "metadata": {
    "execution": {
     "iopub.execute_input": "2022-03-10T22:21:50.276116Z",
     "iopub.status.busy": "2022-03-10T22:21:50.273525Z",
     "iopub.status.idle": "2022-03-10T22:21:53.285846Z",
     "shell.execute_reply": "2022-03-10T22:21:53.284871Z"
    },
    "papermill": {
     "duration": 3.026264,
     "end_time": "2022-03-10T22:21:53.286093",
     "exception": false,
     "start_time": "2022-03-10T22:21:50.259829",
     "status": "completed"
    },
    "tags": []
   },
   "outputs": [],
   "source": [
    "from pathlib import Path\n",
    "from shutil import rmtree\n",
    "from os import makedirs\n",
    "import imp\n",
    "fp, pathname, description = imp.find_module('gdi_benchmark', ['../../lib'])\n",
    "gdi_benchmark = imp.load_module('gdi_benchmark', fp, pathname, description)\n",
    "\n",
    "cases_dir_path = Path(cases_dir)\n",
    "\n",
    "if cases_dir_path.exists():\n",
    "    rmtree(cases_dir_path)\n",
    "    \n",
    "if not cases_dir_path.exists():\n",
    "    makedirs(cases_dir_path)\n",
    "\n",
    "input_files_all = Path(input_files_all)\n",
    "reference_file = Path(reference_file)\n",
    "\n",
    "case_name = str(cases_dir_path.name)\n",
    "reference_name = reference_file.name.split('.')[0]\n",
    "\n",
    "cases_input = cases_dir_path / 'input-files-case.tsv'\n",
    "index_path = cases_dir_path / 'index'\n",
    "benchmark_path = cases_dir_path / 'index-info.tsv'\n",
    "output_tree = cases_dir_path / 'tree.tre'"
   ]
  },
  {
   "cell_type": "markdown",
   "id": "1673d80f-b52a-4b68-b400-355540495e15",
   "metadata": {
    "papermill": {
     "duration": 0.008881,
     "end_time": "2022-03-10T22:21:53.309261",
     "exception": false,
     "start_time": "2022-03-10T22:21:53.300380",
     "status": "completed"
    },
    "tags": []
   },
   "source": [
    "# 2. Create subset input"
   ]
  },
  {
   "cell_type": "code",
   "execution_count": 4,
   "id": "4e66adb1-3ef7-45d1-8e46-723dcb9d0c31",
   "metadata": {
    "execution": {
     "iopub.execute_input": "2022-03-10T22:21:53.330659Z",
     "iopub.status.busy": "2022-03-10T22:21:53.330274Z",
     "iopub.status.idle": "2022-03-10T22:21:53.588033Z",
     "shell.execute_reply": "2022-03-10T22:21:53.588957Z"
    },
    "papermill": {
     "duration": 0.27335,
     "end_time": "2022-03-10T22:21:53.589254",
     "exception": false,
     "start_time": "2022-03-10T22:21:53.315904",
     "status": "completed"
    },
    "tags": []
   },
   "outputs": [
    {
     "name": "stdout",
     "output_type": "stream",
     "text": [
      "Wrote 10000/100000 samples to cases/case-10000/input-files-case.tsv\n"
     ]
    }
   ],
   "source": [
    "import pandas as pd\n",
    "\n",
    "all_input_df = pd.read_csv(input_files_all, sep='\\t')\n",
    "all_input_total = len(all_input_df)\n",
    "\n",
    "subset_input_df = all_input_df.head(number_samples)\n",
    "subset_input_total = len(subset_input_df)\n",
    "\n",
    "subset_input_df.to_csv(cases_input, sep='\\t', index=False)\n",
    "\n",
    "print(f'Wrote {subset_input_total}/{all_input_total} samples to {cases_input}')"
   ]
  },
  {
   "cell_type": "markdown",
   "id": "f208279e-7558-47fc-9362-da29df92828a",
   "metadata": {
    "papermill": {
     "duration": 0.008132,
     "end_time": "2022-03-10T22:21:53.610747",
     "exception": false,
     "start_time": "2022-03-10T22:21:53.602615",
     "status": "completed"
    },
    "tags": []
   },
   "source": [
    "# 2. Index genomes"
   ]
  },
  {
   "cell_type": "code",
   "execution_count": 5,
   "id": "4e936f7c-2fcd-4188-b0e6-6b3ceb5cdcd2",
   "metadata": {
    "execution": {
     "iopub.execute_input": "2022-03-10T22:21:53.641085Z",
     "iopub.status.busy": "2022-03-10T22:21:53.640548Z",
     "iopub.status.idle": "2022-03-10T22:21:56.358416Z",
     "shell.execute_reply": "2022-03-10T22:21:56.359288Z"
    },
    "papermill": {
     "duration": 2.74232,
     "end_time": "2022-03-10T22:21:56.359598",
     "exception": false,
     "start_time": "2022-03-10T22:21:53.617278",
     "status": "completed"
    },
    "tags": []
   },
   "outputs": [
    {
     "name": "stdout",
     "output_type": "stream",
     "text": [
      "gdi, version 0.6.0.dev2\r\n"
     ]
    }
   ],
   "source": [
    "!gdi --version"
   ]
  },
  {
   "cell_type": "markdown",
   "id": "5409ecf8-2158-4361-9d2f-6b1a6c7c63a6",
   "metadata": {
    "papermill": {
     "duration": 0.010388,
     "end_time": "2022-03-10T22:21:56.387283",
     "exception": false,
     "start_time": "2022-03-10T22:21:56.376895",
     "status": "completed"
    },
    "tags": []
   },
   "source": [
    "## 2.1. Index reads"
   ]
  },
  {
   "cell_type": "code",
   "execution_count": 6,
   "id": "3d63e861-733e-46f2-8bce-bd1a2c7c7058",
   "metadata": {
    "execution": {
     "iopub.execute_input": "2022-03-10T22:21:56.413780Z",
     "iopub.status.busy": "2022-03-10T22:21:56.413392Z",
     "iopub.status.idle": "2022-03-11T02:09:13.419625Z",
     "shell.execute_reply": "2022-03-11T02:09:13.418633Z"
    },
    "papermill": {
     "duration": 13637.025238,
     "end_time": "2022-03-11T02:09:13.419895",
     "exception": false,
     "start_time": "2022-03-10T22:21:56.394657",
     "status": "completed"
    },
    "tags": []
   },
   "outputs": [
    {
     "name": "stdout",
     "output_type": "stream",
     "text": [
      "\n",
      "Iteration 1 of index/analysis of 10000 samples with 32 cores\n",
      "Removing any extra snakemake directories: ['snakemake-assemblies.1646948713.2419434']\n"
     ]
    },
    {
     "name": "stdout",
     "output_type": "stream",
     "text": [
      "Creating new index: [gdi init cases/case-10000/index]\n"
     ]
    },
    {
     "name": "stdout",
     "output_type": "stream",
     "text": [
      "Creating a new index took 2.95 seconds\n",
      "Analysis running: [gdi --project-dir cases/case-10000/index --ncores 32 analysis --use-conda --no-load-data --reference-file references/NC_045512.gbk.gz --kmer-size 31 --kmer-size 51 --kmer-size 71 --include-kmer --reads-mincov 10 --input-structured-genomes-file cases/case-10000/input-files-case.tsv]\n"
     ]
    },
    {
     "name": "stdout",
     "output_type": "stream",
     "text": [
      "Analysis took 65.28 minutes\n",
      "Index running: [gdi --project-dir cases/case-10000/index --ncores 32 load vcf-kmer --sample-batch-size 2000 --reference-file references/NC_045512.gbk.gz /home/CSCScience.ca/apetkau/workspace/genomics-data-index-evaluation/evaluations/sars-cov-2/snakemake-assemblies.1646950926.5886977/gdi-input.fofn]\n"
     ]
    },
    {
     "name": "stdout",
     "output_type": "stream",
     "text": [
      "Indexing took 10.24 minutes\n"
     ]
    },
    {
     "name": "stderr",
     "output_type": "stream",
     "text": [
      "A reminder to myself to look for a Python solution for directory sizes (instead of running `du`)\n"
     ]
    },
    {
     "name": "stdout",
     "output_type": "stream",
     "text": [
      "\n",
      "Iteration 2 of index/analysis of 10000 samples with 32 cores\n",
      "Removing any extra snakemake directories: ['snakemake-assemblies.1646950926.5886977']\n"
     ]
    },
    {
     "name": "stdout",
     "output_type": "stream",
     "text": [
      "Removing any existing indexes cases/case-10000/index\n"
     ]
    },
    {
     "name": "stdout",
     "output_type": "stream",
     "text": [
      "Creating new index: [gdi init cases/case-10000/index]\n"
     ]
    },
    {
     "name": "stdout",
     "output_type": "stream",
     "text": [
      "Creating a new index took 2.65 seconds\n",
      "Analysis running: [gdi --project-dir cases/case-10000/index --ncores 32 analysis --use-conda --no-load-data --reference-file references/NC_045512.gbk.gz --kmer-size 31 --kmer-size 51 --kmer-size 71 --include-kmer --reads-mincov 10 --input-structured-genomes-file cases/case-10000/input-files-case.tsv]\n"
     ]
    },
    {
     "name": "stdout",
     "output_type": "stream",
     "text": [
      "Analysis took 65.12 minutes\n",
      "Index running: [gdi --project-dir cases/case-10000/index --ncores 32 load vcf-kmer --sample-batch-size 2000 --reference-file references/NC_045512.gbk.gz /home/CSCScience.ca/apetkau/workspace/genomics-data-index-evaluation/evaluations/sars-cov-2/snakemake-assemblies.1646955469.5471532/gdi-input.fofn]\n"
     ]
    },
    {
     "name": "stdout",
     "output_type": "stream",
     "text": [
      "Indexing took 10.52 minutes\n"
     ]
    },
    {
     "name": "stderr",
     "output_type": "stream",
     "text": [
      "Attempting to set global database_path_translator=<genomics_data_index.storage.model.db.DatabasePathTranslator.DatabasePathTranslator object at 0x7f1efc339eb0> but it is already set\n"
     ]
    },
    {
     "name": "stderr",
     "output_type": "stream",
     "text": [
      "A reminder to myself to look for a Python solution for directory sizes (instead of running `du`)\n"
     ]
    },
    {
     "name": "stdout",
     "output_type": "stream",
     "text": [
      "\n",
      "Iteration 3 of index/analysis of 10000 samples with 32 cores\n",
      "Removing any extra snakemake directories: ['snakemake-assemblies.1646955469.5471532']\n"
     ]
    },
    {
     "name": "stdout",
     "output_type": "stream",
     "text": [
      "Removing any existing indexes cases/case-10000/index\n"
     ]
    },
    {
     "name": "stdout",
     "output_type": "stream",
     "text": [
      "Creating new index: [gdi init cases/case-10000/index]\n"
     ]
    },
    {
     "name": "stdout",
     "output_type": "stream",
     "text": [
      "Creating a new index took 3.26 seconds\n",
      "Analysis running: [gdi --project-dir cases/case-10000/index --ncores 32 analysis --use-conda --no-load-data --reference-file references/NC_045512.gbk.gz --kmer-size 31 --kmer-size 51 --kmer-size 71 --include-kmer --reads-mincov 10 --input-structured-genomes-file cases/case-10000/input-files-case.tsv]\n"
     ]
    },
    {
     "name": "stdout",
     "output_type": "stream",
     "text": [
      "Analysis took 64.88 minutes\n",
      "Index running: [gdi --project-dir cases/case-10000/index --ncores 32 load vcf-kmer --sample-batch-size 2000 --reference-file references/NC_045512.gbk.gz /home/CSCScience.ca/apetkau/workspace/genomics-data-index-evaluation/evaluations/sars-cov-2/snakemake-assemblies.1646960020.5148413/gdi-input.fofn]\n"
     ]
    },
    {
     "name": "stdout",
     "output_type": "stream",
     "text": [
      "Indexing took 10.69 minutes\n"
     ]
    },
    {
     "name": "stderr",
     "output_type": "stream",
     "text": [
      "Attempting to set global database_path_translator=<genomics_data_index.storage.model.db.DatabasePathTranslator.DatabasePathTranslator object at 0x7f1e88942730> but it is already set\n"
     ]
    },
    {
     "name": "stderr",
     "output_type": "stream",
     "text": [
      "A reminder to myself to look for a Python solution for directory sizes (instead of running `du`)\n"
     ]
    }
   ],
   "source": [
    "results_handler = gdi_benchmark.BenchmarkResultsHandler(name=case_name)\n",
    "benchmarker = gdi_benchmark.IndexBenchmarker(benchmark_results_handler=results_handler,\n",
    "                                             index_path=index_path, input_files_file=cases_input,\n",
    "                                             reference_file=reference_file, mincov=mincov,\n",
    "                                             build_tree=build_tree,\n",
    "                                             ncores=ncores,\n",
    "                                             sample_batch_size=sample_batch_size)\n",
    "\n",
    "benchmark_df = benchmarker.benchmark(iterations=iterations)"
   ]
  },
  {
   "cell_type": "code",
   "execution_count": 7,
   "id": "3bcb6da7-0164-47f2-abdd-a4c159da1e3b",
   "metadata": {
    "execution": {
     "iopub.execute_input": "2022-03-11T02:09:13.469413Z",
     "iopub.status.busy": "2022-03-11T02:09:13.468869Z",
     "iopub.status.idle": "2022-03-11T02:09:13.490572Z",
     "shell.execute_reply": "2022-03-11T02:09:13.491392Z"
    },
    "papermill": {
     "duration": 0.048358,
     "end_time": "2022-03-11T02:09:13.491647",
     "exception": false,
     "start_time": "2022-03-11T02:09:13.443289",
     "status": "completed"
    },
    "tags": []
   },
   "outputs": [
    {
     "data": {
      "text/html": [
       "<div>\n",
       "<style scoped>\n",
       "    .dataframe tbody tr th:only-of-type {\n",
       "        vertical-align: middle;\n",
       "    }\n",
       "\n",
       "    .dataframe tbody tr th {\n",
       "        vertical-align: top;\n",
       "    }\n",
       "\n",
       "    .dataframe thead th {\n",
       "        text-align: right;\n",
       "    }\n",
       "</style>\n",
       "<table border=\"1\" class=\"dataframe\">\n",
       "  <thead>\n",
       "    <tr style=\"text-align: right;\">\n",
       "      <th></th>\n",
       "      <th>Name</th>\n",
       "      <th>Reference name</th>\n",
       "      <th>Iteration</th>\n",
       "      <th>Number samples</th>\n",
       "      <th>Number features (all)</th>\n",
       "      <th>Number features (no unknown)</th>\n",
       "      <th>Number cores</th>\n",
       "      <th>Reference length</th>\n",
       "      <th>Analysis runtime</th>\n",
       "      <th>Analysis memory (max)</th>\n",
       "      <th>...</th>\n",
       "      <th>Analysis disk uage</th>\n",
       "      <th>Index runtime</th>\n",
       "      <th>Index memory (max)</th>\n",
       "      <th>Index memory (max/process)</th>\n",
       "      <th>Index size</th>\n",
       "      <th>Tree runtime</th>\n",
       "      <th>Tree memory (max)</th>\n",
       "      <th>Tree memory (max/process)</th>\n",
       "      <th>Total runtime</th>\n",
       "      <th>Max memory</th>\n",
       "    </tr>\n",
       "  </thead>\n",
       "  <tbody>\n",
       "    <tr>\n",
       "      <th>0</th>\n",
       "      <td>case-10000</td>\n",
       "      <td>NC_045512</td>\n",
       "      <td>1</td>\n",
       "      <td>10000</td>\n",
       "      <td>39089</td>\n",
       "      <td>9186</td>\n",
       "      <td>32</td>\n",
       "      <td>29903</td>\n",
       "      <td>3901.0</td>\n",
       "      <td>1.832620e+09</td>\n",
       "      <td>...</td>\n",
       "      <td>5.646361e+09</td>\n",
       "      <td>614.08</td>\n",
       "      <td>3.077923e+10</td>\n",
       "      <td>1.685012e+09</td>\n",
       "      <td>183599104.0</td>\n",
       "      <td>&lt;NA&gt;</td>\n",
       "      <td>&lt;NA&gt;</td>\n",
       "      <td>&lt;NA&gt;</td>\n",
       "      <td>4515.08</td>\n",
       "      <td>3.077923e+10</td>\n",
       "    </tr>\n",
       "    <tr>\n",
       "      <th>0</th>\n",
       "      <td>case-10000</td>\n",
       "      <td>NC_045512</td>\n",
       "      <td>2</td>\n",
       "      <td>10000</td>\n",
       "      <td>39089</td>\n",
       "      <td>9186</td>\n",
       "      <td>32</td>\n",
       "      <td>29903</td>\n",
       "      <td>3900.0</td>\n",
       "      <td>1.693688e+09</td>\n",
       "      <td>...</td>\n",
       "      <td>5.646279e+09</td>\n",
       "      <td>631.01</td>\n",
       "      <td>2.898383e+10</td>\n",
       "      <td>1.564439e+09</td>\n",
       "      <td>183652352.0</td>\n",
       "      <td>&lt;NA&gt;</td>\n",
       "      <td>&lt;NA&gt;</td>\n",
       "      <td>&lt;NA&gt;</td>\n",
       "      <td>4531.01</td>\n",
       "      <td>2.898383e+10</td>\n",
       "    </tr>\n",
       "    <tr>\n",
       "      <th>0</th>\n",
       "      <td>case-10000</td>\n",
       "      <td>NC_045512</td>\n",
       "      <td>3</td>\n",
       "      <td>10000</td>\n",
       "      <td>39089</td>\n",
       "      <td>9186</td>\n",
       "      <td>32</td>\n",
       "      <td>29903</td>\n",
       "      <td>3845.0</td>\n",
       "      <td>1.576227e+09</td>\n",
       "      <td>...</td>\n",
       "      <td>5.646184e+09</td>\n",
       "      <td>641.01</td>\n",
       "      <td>2.994445e+10</td>\n",
       "      <td>1.691652e+09</td>\n",
       "      <td>183705600.0</td>\n",
       "      <td>&lt;NA&gt;</td>\n",
       "      <td>&lt;NA&gt;</td>\n",
       "      <td>&lt;NA&gt;</td>\n",
       "      <td>4486.01</td>\n",
       "      <td>2.994445e+10</td>\n",
       "    </tr>\n",
       "  </tbody>\n",
       "</table>\n",
       "<p>3 rows × 21 columns</p>\n",
       "</div>"
      ],
      "text/plain": [
       "         Name Reference name  Iteration  Number samples  \\\n",
       "0  case-10000      NC_045512          1           10000   \n",
       "0  case-10000      NC_045512          2           10000   \n",
       "0  case-10000      NC_045512          3           10000   \n",
       "\n",
       "   Number features (all)  Number features (no unknown)  Number cores  \\\n",
       "0                  39089                          9186            32   \n",
       "0                  39089                          9186            32   \n",
       "0                  39089                          9186            32   \n",
       "\n",
       "   Reference length  Analysis runtime  Analysis memory (max)  ...  \\\n",
       "0             29903            3901.0           1.832620e+09  ...   \n",
       "0             29903            3900.0           1.693688e+09  ...   \n",
       "0             29903            3845.0           1.576227e+09  ...   \n",
       "\n",
       "   Analysis disk uage  Index runtime  Index memory (max)  \\\n",
       "0        5.646361e+09         614.08        3.077923e+10   \n",
       "0        5.646279e+09         631.01        2.898383e+10   \n",
       "0        5.646184e+09         641.01        2.994445e+10   \n",
       "\n",
       "   Index memory (max/process)   Index size  Tree runtime Tree memory (max)  \\\n",
       "0                1.685012e+09  183599104.0          <NA>              <NA>   \n",
       "0                1.564439e+09  183652352.0          <NA>              <NA>   \n",
       "0                1.691652e+09  183705600.0          <NA>              <NA>   \n",
       "\n",
       "  Tree memory (max/process) Total runtime    Max memory  \n",
       "0                      <NA>       4515.08  3.077923e+10  \n",
       "0                      <NA>       4531.01  2.898383e+10  \n",
       "0                      <NA>       4486.01  2.994445e+10  \n",
       "\n",
       "[3 rows x 21 columns]"
      ]
     },
     "execution_count": 7,
     "metadata": {},
     "output_type": "execute_result"
    }
   ],
   "source": [
    "benchmark_df"
   ]
  },
  {
   "cell_type": "code",
   "execution_count": 8,
   "id": "535a9ccc-ab9c-4919-806f-128e1efd2389",
   "metadata": {
    "execution": {
     "iopub.execute_input": "2022-03-11T02:09:13.530503Z",
     "iopub.status.busy": "2022-03-11T02:09:13.530097Z",
     "iopub.status.idle": "2022-03-11T02:09:13.533752Z",
     "shell.execute_reply": "2022-03-11T02:09:13.534073Z"
    },
    "papermill": {
     "duration": 0.022395,
     "end_time": "2022-03-11T02:09:13.534170",
     "exception": false,
     "start_time": "2022-03-11T02:09:13.511775",
     "status": "completed"
    },
    "tags": []
   },
   "outputs": [],
   "source": [
    "benchmark_df.to_csv(benchmark_path, sep='\\t', index=False)"
   ]
  },
  {
   "cell_type": "markdown",
   "id": "6cb7673b-9f85-4c43-b2e2-93538497a196",
   "metadata": {
    "papermill": {
     "duration": 0.010232,
     "end_time": "2022-03-11T02:09:13.557664",
     "exception": false,
     "start_time": "2022-03-11T02:09:13.547432",
     "status": "completed"
    },
    "tags": []
   },
   "source": [
    "# 3. Export trees"
   ]
  },
  {
   "cell_type": "code",
   "execution_count": 9,
   "id": "5280f82c-5434-4391-8c44-b937a7c95bd5",
   "metadata": {
    "execution": {
     "iopub.execute_input": "2022-03-11T02:09:13.585865Z",
     "iopub.status.busy": "2022-03-11T02:09:13.585428Z",
     "iopub.status.idle": "2022-03-11T02:09:13.589273Z",
     "shell.execute_reply": "2022-03-11T02:09:13.589711Z"
    },
    "papermill": {
     "duration": 0.021626,
     "end_time": "2022-03-11T02:09:13.589840",
     "exception": false,
     "start_time": "2022-03-11T02:09:13.568214",
     "status": "completed"
    },
    "tags": []
   },
   "outputs": [
    {
     "name": "stdout",
     "output_type": "stream",
     "text": [
      "build_tree=False so no tree to export\n"
     ]
    }
   ],
   "source": [
    "if build_tree:\n",
    "    !gdi --project-dir {index_path} export tree {reference_name} > {output_tree}\n",
    "    print(f'Wrote tree to {output_tree}')\n",
    "else:\n",
    "    print(f'build_tree={build_tree} so no tree to export')"
   ]
  }
 ],
 "metadata": {
  "kernelspec": {
   "display_name": "Python 3 (ipykernel)",
   "language": "python",
   "name": "python3"
  },
  "language_info": {
   "codemirror_mode": {
    "name": "ipython",
    "version": 3
   },
   "file_extension": ".py",
   "mimetype": "text/x-python",
   "name": "python",
   "nbconvert_exporter": "python",
   "pygments_lexer": "ipython3",
   "version": "3.8.12"
  },
  "papermill": {
   "default_parameters": {},
   "duration": 13645.303188,
   "end_time": "2022-03-11T02:09:14.142534",
   "environment_variables": {},
   "exception": null,
   "input_path": "template-3-index-genomes.ipynb",
   "output_path": "3-index-genomes.case-10000.ipynb",
   "parameters": {
    "build_tree": false,
    "cases_dir": "cases/case-10000",
    "iterations": 3,
    "number_samples": 10000
   },
   "start_time": "2022-03-10T22:21:48.839346",
   "version": "2.3.3"
  }
 },
 "nbformat": 4,
 "nbformat_minor": 5
}