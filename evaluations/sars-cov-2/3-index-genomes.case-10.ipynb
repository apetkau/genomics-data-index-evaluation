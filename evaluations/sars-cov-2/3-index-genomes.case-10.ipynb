{
 "cells": [
  {
   "cell_type": "markdown",
   "id": "7d3667b4-b1f8-4347-96e3-830c25b06740",
   "metadata": {
    "papermill": {
     "duration": 0.015636,
     "end_time": "2021-09-08T02:31:41.357325",
     "exception": false,
     "start_time": "2021-09-08T02:31:41.341689",
     "status": "completed"
    },
    "tags": []
   },
   "source": [
    "# 1. Parameters"
   ]
  },
  {
   "cell_type": "code",
   "execution_count": 1,
   "id": "d4ab0749-b286-4c34-b63c-a854e4952bae",
   "metadata": {
    "execution": {
     "iopub.execute_input": "2021-09-08T02:31:41.387107Z",
     "iopub.status.busy": "2021-09-08T02:31:41.386575Z",
     "iopub.status.idle": "2021-09-08T02:31:41.390265Z",
     "shell.execute_reply": "2021-09-08T02:31:41.390661Z"
    },
    "papermill": {
     "duration": 0.024273,
     "end_time": "2021-09-08T02:31:41.390858",
     "exception": false,
     "start_time": "2021-09-08T02:31:41.366585",
     "status": "completed"
    },
    "tags": [
     "parameters"
    ]
   },
   "outputs": [],
   "source": [
    "# Defaults\n",
    "cases_dir = 'cases/unset'\n",
    "reference_file = 'references/NC_045512.gbk.gz'\n",
    "input_files_all = 'input/input-files.tsv'\n",
    "iterations = 3\n",
    "mincov = 10\n",
    "ncores = 32\n",
    "number_samples = 10"
   ]
  },
  {
   "cell_type": "code",
   "execution_count": 2,
   "id": "4a33d426",
   "metadata": {
    "execution": {
     "iopub.execute_input": "2021-09-08T02:31:41.411541Z",
     "iopub.status.busy": "2021-09-08T02:31:41.411128Z",
     "iopub.status.idle": "2021-09-08T02:31:41.413856Z",
     "shell.execute_reply": "2021-09-08T02:31:41.414154Z"
    },
    "papermill": {
     "duration": 0.015651,
     "end_time": "2021-09-08T02:31:41.414254",
     "exception": false,
     "start_time": "2021-09-08T02:31:41.398603",
     "status": "completed"
    },
    "tags": [
     "injected-parameters"
    ]
   },
   "outputs": [],
   "source": [
    "# Parameters\n",
    "cases_dir = \"cases/case-10\"\n",
    "iterations = 3\n",
    "number_samples = 10\n"
   ]
  },
  {
   "cell_type": "code",
   "execution_count": 3,
   "id": "ce5962e4-261c-4210-b39b-47044e28466b",
   "metadata": {
    "execution": {
     "iopub.execute_input": "2021-09-08T02:31:41.438560Z",
     "iopub.status.busy": "2021-09-08T02:31:41.437997Z",
     "iopub.status.idle": "2021-09-08T02:31:44.102649Z",
     "shell.execute_reply": "2021-09-08T02:31:44.101305Z"
    },
    "papermill": {
     "duration": 2.681504,
     "end_time": "2021-09-08T02:31:44.102898",
     "exception": false,
     "start_time": "2021-09-08T02:31:41.421394",
     "status": "completed"
    },
    "tags": []
   },
   "outputs": [],
   "source": [
    "from pathlib import Path\n",
    "from shutil import rmtree\n",
    "from os import makedirs\n",
    "import imp\n",
    "fp, pathname, description = imp.find_module('gdi_benchmark', ['../../lib'])\n",
    "gdi_benchmark = imp.load_module('gdi_benchmark', fp, pathname, description)\n",
    "\n",
    "cases_dir_path = Path(cases_dir)\n",
    "\n",
    "if cases_dir_path.exists():\n",
    "    rmtree(cases_dir_path)\n",
    "    \n",
    "if not cases_dir_path.exists():\n",
    "    makedirs(cases_dir_path)\n",
    "\n",
    "input_files_all = Path(input_files_all)\n",
    "reference_file = Path(reference_file)\n",
    "\n",
    "case_name = str(cases_dir_path.name)\n",
    "reference_name = reference_file.name.split('.')[0]\n",
    "\n",
    "cases_input = cases_dir_path / 'input-files-case.tsv'\n",
    "index_path = cases_dir_path / 'index'\n",
    "benchmark_path = cases_dir_path / 'index-info.tsv'\n",
    "output_tree = cases_dir_path / 'tree.tre'"
   ]
  },
  {
   "cell_type": "markdown",
   "id": "1673d80f-b52a-4b68-b400-355540495e15",
   "metadata": {
    "papermill": {
     "duration": 0.008448,
     "end_time": "2021-09-08T02:31:44.127883",
     "exception": false,
     "start_time": "2021-09-08T02:31:44.119435",
     "status": "completed"
    },
    "tags": []
   },
   "source": [
    "# 2. Create subset input"
   ]
  },
  {
   "cell_type": "code",
   "execution_count": 4,
   "id": "4e66adb1-3ef7-45d1-8e46-723dcb9d0c31",
   "metadata": {
    "execution": {
     "iopub.execute_input": "2021-09-08T02:31:44.149402Z",
     "iopub.status.busy": "2021-09-08T02:31:44.148160Z",
     "iopub.status.idle": "2021-09-08T02:31:44.189213Z",
     "shell.execute_reply": "2021-09-08T02:31:44.190124Z"
    },
    "papermill": {
     "duration": 0.055977,
     "end_time": "2021-09-08T02:31:44.190406",
     "exception": false,
     "start_time": "2021-09-08T02:31:44.134429",
     "status": "completed"
    },
    "tags": []
   },
   "outputs": [
    {
     "name": "stdout",
     "output_type": "stream",
     "text": [
      "Wrote 10/10000 samples to cases/case-10/input-files-case.tsv\n"
     ]
    }
   ],
   "source": [
    "import pandas as pd\n",
    "\n",
    "all_input_df = pd.read_csv(input_files_all, sep='\\t')\n",
    "all_input_total = len(all_input_df)\n",
    "\n",
    "subset_input_df = all_input_df.head(number_samples)\n",
    "subset_input_total = len(subset_input_df)\n",
    "\n",
    "subset_input_df.to_csv(cases_input, sep='\\t', index=False)\n",
    "\n",
    "print(f'Wrote {subset_input_total}/{all_input_total} samples to {cases_input}')"
   ]
  },
  {
   "cell_type": "markdown",
   "id": "f208279e-7558-47fc-9362-da29df92828a",
   "metadata": {
    "papermill": {
     "duration": 0.008938,
     "end_time": "2021-09-08T02:31:44.213880",
     "exception": false,
     "start_time": "2021-09-08T02:31:44.204942",
     "status": "completed"
    },
    "tags": []
   },
   "source": [
    "# 2. Index genomes"
   ]
  },
  {
   "cell_type": "code",
   "execution_count": 5,
   "id": "4e936f7c-2fcd-4188-b0e6-6b3ceb5cdcd2",
   "metadata": {
    "execution": {
     "iopub.execute_input": "2021-09-08T02:31:44.241707Z",
     "iopub.status.busy": "2021-09-08T02:31:44.232333Z",
     "iopub.status.idle": "2021-09-08T02:31:47.119501Z",
     "shell.execute_reply": "2021-09-08T02:31:47.120447Z"
    },
    "papermill": {
     "duration": 2.900216,
     "end_time": "2021-09-08T02:31:47.120741",
     "exception": false,
     "start_time": "2021-09-08T02:31:44.220525",
     "status": "completed"
    },
    "tags": []
   },
   "outputs": [
    {
     "name": "stdout",
     "output_type": "stream",
     "text": [
      "gdi, version 0.3.0.dev11\r\n"
     ]
    }
   ],
   "source": [
    "!gdi --version"
   ]
  },
  {
   "cell_type": "markdown",
   "id": "5409ecf8-2158-4361-9d2f-6b1a6c7c63a6",
   "metadata": {
    "papermill": {
     "duration": 0.009163,
     "end_time": "2021-09-08T02:31:47.144060",
     "exception": false,
     "start_time": "2021-09-08T02:31:47.134897",
     "status": "completed"
    },
    "tags": []
   },
   "source": [
    "## 2.1. Index reads"
   ]
  },
  {
   "cell_type": "code",
   "execution_count": 6,
   "id": "3d63e861-733e-46f2-8bce-bd1a2c7c7058",
   "metadata": {
    "execution": {
     "iopub.execute_input": "2021-09-08T02:31:47.169527Z",
     "iopub.status.busy": "2021-09-08T02:31:47.165588Z",
     "iopub.status.idle": "2021-09-08T02:44:18.423417Z",
     "shell.execute_reply": "2021-09-08T02:44:18.422317Z"
    },
    "papermill": {
     "duration": 751.272623,
     "end_time": "2021-09-08T02:44:18.423795",
     "exception": false,
     "start_time": "2021-09-08T02:31:47.151172",
     "status": "completed"
    },
    "tags": []
   },
   "outputs": [
    {
     "name": "stdout",
     "output_type": "stream",
     "text": [
      "\n",
      "Iteration 1 of index/analysis of 10 samples with 32 cores\n",
      "Removing any extra snakemake directories: []\n",
      "Creating new index: [gdi init cases/case-10/index]\n"
     ]
    },
    {
     "name": "stdout",
     "output_type": "stream",
     "text": [
      "Creating a new index took 3.29 seconds\n",
      "Analysis running: [gdi --project-dir cases/case-10/index --ncores 32 analysis --use-conda --no-load-data --reference-file references/NC_045512.gbk.gz --kmer-size 31 --kmer-size 51 --kmer-size 71 --include-kmer --reads-mincov 10 --input-structured-genomes-file cases/case-10/input-files-case.tsv]\n"
     ]
    },
    {
     "name": "stdout",
     "output_type": "stream",
     "text": [
      "Analysis took 2.47 minutes\n",
      "Index running: [gdi --project-dir cases/case-10/index --ncores 32 load vcf-kmer --reference-file references/NC_045512.gbk.gz /home/CSCScience.ca/apetkau/workspace/genomics-data-index-evaluation/evaluations/sars-cov-2/snakemake-assemblies.1631068313.7485611/gdi-input.fofn]\n"
     ]
    },
    {
     "name": "stdout",
     "output_type": "stream",
     "text": [
      "Indexing took 0.08 minutes\n",
      "Building tree: [gdi --project-dir cases/case-10/index --ncores 32 rebuild tree --align-type full --extra-params '--fast -m GTR+F+R4' NC_045512]\n"
     ]
    },
    {
     "name": "stdout",
     "output_type": "stream",
     "text": [
      "Building tree took 1.74 minutes\n"
     ]
    },
    {
     "name": "stderr",
     "output_type": "stream",
     "text": [
      "A reminder to myself to look for a Python solution for directory sizes (instead of running `du`)\n"
     ]
    },
    {
     "name": "stdout",
     "output_type": "stream",
     "text": [
      "\n",
      "Iteration 2 of index/analysis of 10 samples with 32 cores\n",
      "Removing any extra snakemake directories: ['snakemake-assemblies.1631068313.7485611']\n"
     ]
    },
    {
     "name": "stdout",
     "output_type": "stream",
     "text": [
      "Removing any existing indexes cases/case-10/index\n",
      "Creating new index: [gdi init cases/case-10/index]\n"
     ]
    },
    {
     "name": "stdout",
     "output_type": "stream",
     "text": [
      "Creating a new index took 2.83 seconds\n",
      "Analysis running: [gdi --project-dir cases/case-10/index --ncores 32 analysis --use-conda --no-load-data --reference-file references/NC_045512.gbk.gz --kmer-size 31 --kmer-size 51 --kmer-size 71 --include-kmer --reads-mincov 10 --input-structured-genomes-file cases/case-10/input-files-case.tsv]\n"
     ]
    },
    {
     "name": "stdout",
     "output_type": "stream",
     "text": [
      "Analysis took 2.35 minutes\n",
      "Index running: [gdi --project-dir cases/case-10/index --ncores 32 load vcf-kmer --reference-file references/NC_045512.gbk.gz /home/CSCScience.ca/apetkau/workspace/genomics-data-index-evaluation/evaluations/sars-cov-2/snakemake-assemblies.1631068576.223081/gdi-input.fofn]\n"
     ]
    },
    {
     "name": "stdout",
     "output_type": "stream",
     "text": [
      "Indexing took 0.07 minutes\n",
      "Building tree: [gdi --project-dir cases/case-10/index --ncores 32 rebuild tree --align-type full --extra-params '--fast -m GTR+F+R4' NC_045512]\n"
     ]
    },
    {
     "name": "stdout",
     "output_type": "stream",
     "text": [
      "Building tree took 1.61 minutes\n"
     ]
    },
    {
     "name": "stderr",
     "output_type": "stream",
     "text": [
      "Attempting to set global database_path_translator=<genomics_data_index.storage.model.db.DatabasePathTranslator.DatabasePathTranslator object at 0x7fd82126cac0> but it is already set\n"
     ]
    },
    {
     "name": "stderr",
     "output_type": "stream",
     "text": [
      "A reminder to myself to look for a Python solution for directory sizes (instead of running `du`)\n"
     ]
    },
    {
     "name": "stdout",
     "output_type": "stream",
     "text": [
      "\n",
      "Iteration 3 of index/analysis of 10 samples with 32 cores\n",
      "Removing any extra snakemake directories: ['snakemake-assemblies.1631068576.223081']\n"
     ]
    },
    {
     "name": "stdout",
     "output_type": "stream",
     "text": [
      "Removing any existing indexes cases/case-10/index\n",
      "Creating new index: [gdi init cases/case-10/index]\n"
     ]
    },
    {
     "name": "stdout",
     "output_type": "stream",
     "text": [
      "Creating a new index took 2.72 seconds\n",
      "Analysis running: [gdi --project-dir cases/case-10/index --ncores 32 analysis --use-conda --no-load-data --reference-file references/NC_045512.gbk.gz --kmer-size 31 --kmer-size 51 --kmer-size 71 --include-kmer --reads-mincov 10 --input-structured-genomes-file cases/case-10/input-files-case.tsv]\n"
     ]
    },
    {
     "name": "stdout",
     "output_type": "stream",
     "text": [
      "Analysis took 2.38 minutes\n",
      "Index running: [gdi --project-dir cases/case-10/index --ncores 32 load vcf-kmer --reference-file references/NC_045512.gbk.gz /home/CSCScience.ca/apetkau/workspace/genomics-data-index-evaluation/evaluations/sars-cov-2/snakemake-assemblies.1631068823.1274123/gdi-input.fofn]\n"
     ]
    },
    {
     "name": "stdout",
     "output_type": "stream",
     "text": [
      "Indexing took 0.07 minutes\n",
      "Building tree: [gdi --project-dir cases/case-10/index --ncores 32 rebuild tree --align-type full --extra-params '--fast -m GTR+F+R4' NC_045512]\n"
     ]
    },
    {
     "name": "stdout",
     "output_type": "stream",
     "text": [
      "Building tree took 1.51 minutes\n"
     ]
    },
    {
     "name": "stderr",
     "output_type": "stream",
     "text": [
      "Attempting to set global database_path_translator=<genomics_data_index.storage.model.db.DatabasePathTranslator.DatabasePathTranslator object at 0x7fd8212d52e0> but it is already set\n"
     ]
    },
    {
     "name": "stderr",
     "output_type": "stream",
     "text": [
      "A reminder to myself to look for a Python solution for directory sizes (instead of running `du`)\n"
     ]
    }
   ],
   "source": [
    "results_handler = gdi_benchmark.BenchmarkResultsHandler(name=case_name)\n",
    "benchmarker = gdi_benchmark.IndexBenchmarker(benchmark_results_handler=results_handler,\n",
    "                                             index_path=index_path, input_files_file=cases_input,\n",
    "                                             reference_file=reference_file, mincov=mincov, build_tree=True,\n",
    "                                             ncores=ncores)\n",
    "\n",
    "benchmark_df = benchmarker.benchmark(iterations=iterations)"
   ]
  },
  {
   "cell_type": "code",
   "execution_count": 7,
   "id": "3bcb6da7-0164-47f2-abdd-a4c159da1e3b",
   "metadata": {
    "execution": {
     "iopub.execute_input": "2021-09-08T02:44:18.473215Z",
     "iopub.status.busy": "2021-09-08T02:44:18.472651Z",
     "iopub.status.idle": "2021-09-08T02:44:18.505172Z",
     "shell.execute_reply": "2021-09-08T02:44:18.506078Z"
    },
    "papermill": {
     "duration": 0.059647,
     "end_time": "2021-09-08T02:44:18.506347",
     "exception": false,
     "start_time": "2021-09-08T02:44:18.446700",
     "status": "completed"
    },
    "tags": []
   },
   "outputs": [
    {
     "data": {
      "text/html": [
       "<div>\n",
       "<style scoped>\n",
       "    .dataframe tbody tr th:only-of-type {\n",
       "        vertical-align: middle;\n",
       "    }\n",
       "\n",
       "    .dataframe tbody tr th {\n",
       "        vertical-align: top;\n",
       "    }\n",
       "\n",
       "    .dataframe thead th {\n",
       "        text-align: right;\n",
       "    }\n",
       "</style>\n",
       "<table border=\"1\" class=\"dataframe\">\n",
       "  <thead>\n",
       "    <tr style=\"text-align: right;\">\n",
       "      <th></th>\n",
       "      <th>Name</th>\n",
       "      <th>Iteration</th>\n",
       "      <th>Number samples</th>\n",
       "      <th>Number features (all)</th>\n",
       "      <th>Number features (no unknown)</th>\n",
       "      <th>Number cores</th>\n",
       "      <th>Reference length</th>\n",
       "      <th>Analysis runtime</th>\n",
       "      <th>Analysis memory (max)</th>\n",
       "      <th>Analysis memory (max/process)</th>\n",
       "      <th>Analysis disk uage</th>\n",
       "      <th>Index runtime</th>\n",
       "      <th>Index memory (max)</th>\n",
       "      <th>Index memory (max/process)</th>\n",
       "      <th>Index size</th>\n",
       "      <th>Tree runtime</th>\n",
       "      <th>Tree memory (max)</th>\n",
       "      <th>Tree memory (max/process)</th>\n",
       "      <th>Total runtime</th>\n",
       "      <th>Max memory</th>\n",
       "    </tr>\n",
       "  </thead>\n",
       "  <tbody>\n",
       "    <tr>\n",
       "      <th>0</th>\n",
       "      <td>case-10</td>\n",
       "      <td>1</td>\n",
       "      <td>10</td>\n",
       "      <td>1436</td>\n",
       "      <td>89</td>\n",
       "      <td>32</td>\n",
       "      <td>29903</td>\n",
       "      <td>148.10</td>\n",
       "      <td>1.336492e+09</td>\n",
       "      <td>372428800.0</td>\n",
       "      <td>3.451580e+09</td>\n",
       "      <td>4.66</td>\n",
       "      <td>5.397004e+09</td>\n",
       "      <td>229097472.0</td>\n",
       "      <td>593920.0</td>\n",
       "      <td>104.55</td>\n",
       "      <td>245444608.0</td>\n",
       "      <td>220684288.0</td>\n",
       "      <td>257.31</td>\n",
       "      <td>5.397004e+09</td>\n",
       "    </tr>\n",
       "    <tr>\n",
       "      <th>0</th>\n",
       "      <td>case-10</td>\n",
       "      <td>2</td>\n",
       "      <td>10</td>\n",
       "      <td>1436</td>\n",
       "      <td>89</td>\n",
       "      <td>32</td>\n",
       "      <td>29903</td>\n",
       "      <td>141.13</td>\n",
       "      <td>1.312379e+09</td>\n",
       "      <td>371302400.0</td>\n",
       "      <td>3.451568e+09</td>\n",
       "      <td>4.24</td>\n",
       "      <td>5.393117e+09</td>\n",
       "      <td>229429248.0</td>\n",
       "      <td>589824.0</td>\n",
       "      <td>96.21</td>\n",
       "      <td>246124544.0</td>\n",
       "      <td>220372992.0</td>\n",
       "      <td>241.58</td>\n",
       "      <td>5.393117e+09</td>\n",
       "    </tr>\n",
       "    <tr>\n",
       "      <th>0</th>\n",
       "      <td>case-10</td>\n",
       "      <td>3</td>\n",
       "      <td>10</td>\n",
       "      <td>1436</td>\n",
       "      <td>89</td>\n",
       "      <td>32</td>\n",
       "      <td>29903</td>\n",
       "      <td>142.78</td>\n",
       "      <td>1.320149e+09</td>\n",
       "      <td>375214080.0</td>\n",
       "      <td>3.451580e+09</td>\n",
       "      <td>4.22</td>\n",
       "      <td>5.397164e+09</td>\n",
       "      <td>229404672.0</td>\n",
       "      <td>593920.0</td>\n",
       "      <td>90.34</td>\n",
       "      <td>245694464.0</td>\n",
       "      <td>220446720.0</td>\n",
       "      <td>237.34</td>\n",
       "      <td>5.397164e+09</td>\n",
       "    </tr>\n",
       "  </tbody>\n",
       "</table>\n",
       "</div>"
      ],
      "text/plain": [
       "      Name  Iteration  Number samples  Number features (all)  \\\n",
       "0  case-10          1              10                   1436   \n",
       "0  case-10          2              10                   1436   \n",
       "0  case-10          3              10                   1436   \n",
       "\n",
       "   Number features (no unknown)  Number cores  Reference length  \\\n",
       "0                            89            32             29903   \n",
       "0                            89            32             29903   \n",
       "0                            89            32             29903   \n",
       "\n",
       "   Analysis runtime  Analysis memory (max)  Analysis memory (max/process)  \\\n",
       "0            148.10           1.336492e+09                    372428800.0   \n",
       "0            141.13           1.312379e+09                    371302400.0   \n",
       "0            142.78           1.320149e+09                    375214080.0   \n",
       "\n",
       "   Analysis disk uage  Index runtime  Index memory (max)  \\\n",
       "0        3.451580e+09           4.66        5.397004e+09   \n",
       "0        3.451568e+09           4.24        5.393117e+09   \n",
       "0        3.451580e+09           4.22        5.397164e+09   \n",
       "\n",
       "   Index memory (max/process)  Index size  Tree runtime  Tree memory (max)  \\\n",
       "0                 229097472.0    593920.0        104.55        245444608.0   \n",
       "0                 229429248.0    589824.0         96.21        246124544.0   \n",
       "0                 229404672.0    593920.0         90.34        245694464.0   \n",
       "\n",
       "   Tree memory (max/process)  Total runtime    Max memory  \n",
       "0                220684288.0         257.31  5.397004e+09  \n",
       "0                220372992.0         241.58  5.393117e+09  \n",
       "0                220446720.0         237.34  5.397164e+09  "
      ]
     },
     "execution_count": 7,
     "metadata": {},
     "output_type": "execute_result"
    }
   ],
   "source": [
    "benchmark_df"
   ]
  },
  {
   "cell_type": "code",
   "execution_count": 8,
   "id": "535a9ccc-ab9c-4919-806f-128e1efd2389",
   "metadata": {
    "execution": {
     "iopub.execute_input": "2021-09-08T02:44:18.547120Z",
     "iopub.status.busy": "2021-09-08T02:44:18.544974Z",
     "iopub.status.idle": "2021-09-08T02:44:18.550664Z",
     "shell.execute_reply": "2021-09-08T02:44:18.550177Z"
    },
    "papermill": {
     "duration": 0.022737,
     "end_time": "2021-09-08T02:44:18.550764",
     "exception": false,
     "start_time": "2021-09-08T02:44:18.528027",
     "status": "completed"
    },
    "tags": []
   },
   "outputs": [],
   "source": [
    "benchmark_df.to_csv(benchmark_path, sep='\\t', index=False)"
   ]
  },
  {
   "cell_type": "markdown",
   "id": "6cb7673b-9f85-4c43-b2e2-93538497a196",
   "metadata": {
    "papermill": {
     "duration": 0.010404,
     "end_time": "2021-09-08T02:44:18.573986",
     "exception": false,
     "start_time": "2021-09-08T02:44:18.563582",
     "status": "completed"
    },
    "tags": []
   },
   "source": [
    "# 3. Export trees"
   ]
  },
  {
   "cell_type": "code",
   "execution_count": 9,
   "id": "5280f82c-5434-4391-8c44-b937a7c95bd5",
   "metadata": {
    "execution": {
     "iopub.execute_input": "2021-09-08T02:44:18.611658Z",
     "iopub.status.busy": "2021-09-08T02:44:18.610059Z",
     "iopub.status.idle": "2021-09-08T02:44:21.380811Z",
     "shell.execute_reply": "2021-09-08T02:44:21.381727Z"
    },
    "papermill": {
     "duration": 2.798227,
     "end_time": "2021-09-08T02:44:21.382021",
     "exception": false,
     "start_time": "2021-09-08T02:44:18.583794",
     "status": "completed"
    },
    "tags": []
   },
   "outputs": [
    {
     "name": "stdout",
     "output_type": "stream",
     "text": [
      "Wrote tree to cases/case-10/tree.tre\n"
     ]
    }
   ],
   "source": [
    "!gdi --project-dir {index_path} export tree {reference_name} > {output_tree}\n",
    "print(f'Wrote tree to {output_tree}')"
   ]
  }
 ],
 "metadata": {
  "kernelspec": {
   "display_name": "Python 3 (ipykernel)",
   "language": "python",
   "name": "python3"
  },
  "language_info": {
   "codemirror_mode": {
    "name": "ipython",
    "version": 3
   },
   "file_extension": ".py",
   "mimetype": "text/x-python",
   "name": "python",
   "nbconvert_exporter": "python",
   "pygments_lexer": "ipython3",
   "version": "3.8.10"
  },
  "papermill": {
   "default_parameters": {},
   "duration": 762.381452,
   "end_time": "2021-09-08T02:44:22.760464",
   "environment_variables": {},
   "exception": null,
   "input_path": "template-3-index-genomes.ipynb",
   "output_path": "3-index-genomes.case-10.ipynb",
   "parameters": {
    "cases_dir": "cases/case-10",
    "iterations": 3,
    "number_samples": 10
   },
   "start_time": "2021-09-08T02:31:40.379012",
   "version": "2.3.3"
  }
 },
 "nbformat": 4,
 "nbformat_minor": 5
}