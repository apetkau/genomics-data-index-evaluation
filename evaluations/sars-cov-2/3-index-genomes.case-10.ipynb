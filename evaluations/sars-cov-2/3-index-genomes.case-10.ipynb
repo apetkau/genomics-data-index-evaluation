{
 "cells": [
  {
   "cell_type": "markdown",
   "id": "7d3667b4-b1f8-4347-96e3-830c25b06740",
   "metadata": {
    "papermill": {
     "duration": 0.016013,
     "end_time": "2021-09-08T19:29:54.314404",
     "exception": false,
     "start_time": "2021-09-08T19:29:54.298391",
     "status": "completed"
    },
    "tags": []
   },
   "source": [
    "# 1. Parameters"
   ]
  },
  {
   "cell_type": "code",
   "execution_count": 1,
   "id": "d4ab0749-b286-4c34-b63c-a854e4952bae",
   "metadata": {
    "execution": {
     "iopub.execute_input": "2021-09-08T19:29:54.345158Z",
     "iopub.status.busy": "2021-09-08T19:29:54.344636Z",
     "iopub.status.idle": "2021-09-08T19:29:54.349341Z",
     "shell.execute_reply": "2021-09-08T19:29:54.348747Z"
    },
    "papermill": {
     "duration": 0.025494,
     "end_time": "2021-09-08T19:29:54.349462",
     "exception": false,
     "start_time": "2021-09-08T19:29:54.323968",
     "status": "completed"
    },
    "tags": [
     "parameters"
    ]
   },
   "outputs": [],
   "source": [
    "# Defaults\n",
    "cases_dir = 'cases/unset'\n",
    "reference_file = 'references/NC_045512.gbk.gz'\n",
    "input_files_all = 'input/input-files.tsv'\n",
    "iterations = 3\n",
    "mincov = 10\n",
    "ncores = 32\n",
    "number_samples = 10\n",
    "build_tree = False"
   ]
  },
  {
   "cell_type": "code",
   "execution_count": 2,
   "id": "debe270c",
   "metadata": {
    "execution": {
     "iopub.execute_input": "2021-09-08T19:29:54.370665Z",
     "iopub.status.busy": "2021-09-08T19:29:54.370252Z",
     "iopub.status.idle": "2021-09-08T19:29:54.372955Z",
     "shell.execute_reply": "2021-09-08T19:29:54.373256Z"
    },
    "papermill": {
     "duration": 0.016057,
     "end_time": "2021-09-08T19:29:54.373356",
     "exception": false,
     "start_time": "2021-09-08T19:29:54.357299",
     "status": "completed"
    },
    "tags": [
     "injected-parameters"
    ]
   },
   "outputs": [],
   "source": [
    "# Parameters\n",
    "cases_dir = \"cases/case-10\"\n",
    "iterations = 3\n",
    "number_samples = 10\n",
    "build_tree = True\n"
   ]
  },
  {
   "cell_type": "code",
   "execution_count": 3,
   "id": "ce5962e4-261c-4210-b39b-47044e28466b",
   "metadata": {
    "execution": {
     "iopub.execute_input": "2021-09-08T19:29:54.398685Z",
     "iopub.status.busy": "2021-09-08T19:29:54.398194Z",
     "iopub.status.idle": "2021-09-08T19:29:56.602746Z",
     "shell.execute_reply": "2021-09-08T19:29:56.603652Z"
    },
    "papermill": {
     "duration": 2.223405,
     "end_time": "2021-09-08T19:29:56.603969",
     "exception": false,
     "start_time": "2021-09-08T19:29:54.380564",
     "status": "completed"
    },
    "tags": []
   },
   "outputs": [],
   "source": [
    "from pathlib import Path\n",
    "from shutil import rmtree\n",
    "from os import makedirs\n",
    "import imp\n",
    "fp, pathname, description = imp.find_module('gdi_benchmark', ['../../lib'])\n",
    "gdi_benchmark = imp.load_module('gdi_benchmark', fp, pathname, description)\n",
    "\n",
    "cases_dir_path = Path(cases_dir)\n",
    "\n",
    "if cases_dir_path.exists():\n",
    "    rmtree(cases_dir_path)\n",
    "    \n",
    "if not cases_dir_path.exists():\n",
    "    makedirs(cases_dir_path)\n",
    "\n",
    "input_files_all = Path(input_files_all)\n",
    "reference_file = Path(reference_file)\n",
    "\n",
    "case_name = str(cases_dir_path.name)\n",
    "reference_name = reference_file.name.split('.')[0]\n",
    "\n",
    "cases_input = cases_dir_path / 'input-files-case.tsv'\n",
    "index_path = cases_dir_path / 'index'\n",
    "benchmark_path = cases_dir_path / 'index-info.tsv'\n",
    "output_tree = cases_dir_path / 'tree.tre'"
   ]
  },
  {
   "cell_type": "markdown",
   "id": "1673d80f-b52a-4b68-b400-355540495e15",
   "metadata": {
    "papermill": {
     "duration": 0.009414,
     "end_time": "2021-09-08T19:29:56.629150",
     "exception": false,
     "start_time": "2021-09-08T19:29:56.619736",
     "status": "completed"
    },
    "tags": []
   },
   "source": [
    "# 2. Create subset input"
   ]
  },
  {
   "cell_type": "code",
   "execution_count": 4,
   "id": "4e66adb1-3ef7-45d1-8e46-723dcb9d0c31",
   "metadata": {
    "execution": {
     "iopub.execute_input": "2021-09-08T19:29:56.651938Z",
     "iopub.status.busy": "2021-09-08T19:29:56.650789Z",
     "iopub.status.idle": "2021-09-08T19:29:56.880958Z",
     "shell.execute_reply": "2021-09-08T19:29:56.881843Z"
    },
    "papermill": {
     "duration": 0.24641,
     "end_time": "2021-09-08T19:29:56.882118",
     "exception": false,
     "start_time": "2021-09-08T19:29:56.635708",
     "status": "completed"
    },
    "tags": []
   },
   "outputs": [
    {
     "name": "stdout",
     "output_type": "stream",
     "text": [
      "Wrote 10/100000 samples to cases/case-10/input-files-case.tsv\n"
     ]
    }
   ],
   "source": [
    "import pandas as pd\n",
    "\n",
    "all_input_df = pd.read_csv(input_files_all, sep='\\t')\n",
    "all_input_total = len(all_input_df)\n",
    "\n",
    "subset_input_df = all_input_df.head(number_samples)\n",
    "subset_input_total = len(subset_input_df)\n",
    "\n",
    "subset_input_df.to_csv(cases_input, sep='\\t', index=False)\n",
    "\n",
    "print(f'Wrote {subset_input_total}/{all_input_total} samples to {cases_input}')"
   ]
  },
  {
   "cell_type": "markdown",
   "id": "f208279e-7558-47fc-9362-da29df92828a",
   "metadata": {
    "papermill": {
     "duration": 0.008349,
     "end_time": "2021-09-08T19:29:56.904398",
     "exception": false,
     "start_time": "2021-09-08T19:29:56.896049",
     "status": "completed"
    },
    "tags": []
   },
   "source": [
    "# 2. Index genomes"
   ]
  },
  {
   "cell_type": "code",
   "execution_count": 5,
   "id": "4e936f7c-2fcd-4188-b0e6-6b3ceb5cdcd2",
   "metadata": {
    "execution": {
     "iopub.execute_input": "2021-09-08T19:29:56.934203Z",
     "iopub.status.busy": "2021-09-08T19:29:56.921961Z",
     "iopub.status.idle": "2021-09-08T19:29:59.567067Z",
     "shell.execute_reply": "2021-09-08T19:29:59.567948Z"
    },
    "papermill": {
     "duration": 2.657314,
     "end_time": "2021-09-08T19:29:59.568269",
     "exception": false,
     "start_time": "2021-09-08T19:29:56.910955",
     "status": "completed"
    },
    "tags": []
   },
   "outputs": [
    {
     "name": "stdout",
     "output_type": "stream",
     "text": [
      "gdi, version 0.3.0.dev12\r\n"
     ]
    }
   ],
   "source": [
    "!gdi --version"
   ]
  },
  {
   "cell_type": "markdown",
   "id": "5409ecf8-2158-4361-9d2f-6b1a6c7c63a6",
   "metadata": {
    "papermill": {
     "duration": 0.008801,
     "end_time": "2021-09-08T19:29:59.592694",
     "exception": false,
     "start_time": "2021-09-08T19:29:59.583893",
     "status": "completed"
    },
    "tags": []
   },
   "source": [
    "## 2.1. Index reads"
   ]
  },
  {
   "cell_type": "code",
   "execution_count": 6,
   "id": "3d63e861-733e-46f2-8bce-bd1a2c7c7058",
   "metadata": {
    "execution": {
     "iopub.execute_input": "2021-09-08T19:29:59.618651Z",
     "iopub.status.busy": "2021-09-08T19:29:59.614821Z",
     "iopub.status.idle": "2021-09-08T19:41:45.169464Z",
     "shell.execute_reply": "2021-09-08T19:41:45.168453Z"
    },
    "papermill": {
     "duration": 705.57024,
     "end_time": "2021-09-08T19:41:45.169819",
     "exception": false,
     "start_time": "2021-09-08T19:29:59.599579",
     "status": "completed"
    },
    "tags": []
   },
   "outputs": [
    {
     "name": "stdout",
     "output_type": "stream",
     "text": [
      "\n",
      "Iteration 1 of index/analysis of 10 samples with 32 cores\n",
      "Removing any extra snakemake directories: ['snakemake-assemblies.1631129028.5130913']\n"
     ]
    },
    {
     "name": "stdout",
     "output_type": "stream",
     "text": [
      "Creating new index: [gdi init cases/case-10/index]\n"
     ]
    },
    {
     "name": "stdout",
     "output_type": "stream",
     "text": [
      "Creating a new index took 2.74 seconds\n",
      "Analysis running: [gdi --project-dir cases/case-10/index --ncores 32 analysis --use-conda --no-load-data --reference-file references/NC_045512.gbk.gz --kmer-size 31 --kmer-size 51 --kmer-size 71 --include-kmer --reads-mincov 10 --input-structured-genomes-file cases/case-10/input-files-case.tsv]\n"
     ]
    },
    {
     "name": "stdout",
     "output_type": "stream",
     "text": [
      "Analysis took 2.33 minutes\n",
      "Index running: [gdi --project-dir cases/case-10/index --ncores 32 load vcf-kmer --reference-file references/NC_045512.gbk.gz /home/CSCScience.ca/apetkau/workspace/genomics-data-index-evaluation/evaluations/sars-cov-2/snakemake-assemblies.1631129407.0410612/gdi-input.fofn]\n"
     ]
    },
    {
     "name": "stdout",
     "output_type": "stream",
     "text": [
      "Indexing took 0.08 minutes\n",
      "Building tree: [gdi --project-dir cases/case-10/index --ncores 32 rebuild tree --align-type full --extra-params '--fast -m GTR+F+R4' NC_045512]\n"
     ]
    },
    {
     "name": "stdout",
     "output_type": "stream",
     "text": [
      "Building tree took 1.54 minutes\n"
     ]
    },
    {
     "name": "stderr",
     "output_type": "stream",
     "text": [
      "A reminder to myself to look for a Python solution for directory sizes (instead of running `du`)\n"
     ]
    },
    {
     "name": "stdout",
     "output_type": "stream",
     "text": [
      "\n",
      "Iteration 2 of index/analysis of 10 samples with 32 cores\n",
      "Removing any extra snakemake directories: ['snakemake-assemblies.1631129407.0410612']\n"
     ]
    },
    {
     "name": "stdout",
     "output_type": "stream",
     "text": [
      "Removing any existing indexes cases/case-10/index\n",
      "Creating new index: [gdi init cases/case-10/index]\n"
     ]
    },
    {
     "name": "stdout",
     "output_type": "stream",
     "text": [
      "Creating a new index took 2.62 seconds\n",
      "Analysis running: [gdi --project-dir cases/case-10/index --ncores 32 analysis --use-conda --no-load-data --reference-file references/NC_045512.gbk.gz --kmer-size 31 --kmer-size 51 --kmer-size 71 --include-kmer --reads-mincov 10 --input-structured-genomes-file cases/case-10/input-files-case.tsv]\n"
     ]
    },
    {
     "name": "stdout",
     "output_type": "stream",
     "text": [
      "Analysis took 2.31 minutes\n",
      "Index running: [gdi --project-dir cases/case-10/index --ncores 32 load vcf-kmer --reference-file references/NC_045512.gbk.gz /home/CSCScience.ca/apetkau/workspace/genomics-data-index-evaluation/evaluations/sars-cov-2/snakemake-assemblies.1631129649.6455257/gdi-input.fofn]\n"
     ]
    },
    {
     "name": "stdout",
     "output_type": "stream",
     "text": [
      "Indexing took 0.08 minutes\n",
      "Building tree: [gdi --project-dir cases/case-10/index --ncores 32 rebuild tree --align-type full --extra-params '--fast -m GTR+F+R4' NC_045512]\n"
     ]
    },
    {
     "name": "stdout",
     "output_type": "stream",
     "text": [
      "Building tree took 1.38 minutes\n"
     ]
    },
    {
     "name": "stderr",
     "output_type": "stream",
     "text": [
      "Attempting to set global database_path_translator=<genomics_data_index.storage.model.db.DatabasePathTranslator.DatabasePathTranslator object at 0x7faea8210e50> but it is already set\n"
     ]
    },
    {
     "name": "stderr",
     "output_type": "stream",
     "text": [
      "A reminder to myself to look for a Python solution for directory sizes (instead of running `du`)\n"
     ]
    },
    {
     "name": "stdout",
     "output_type": "stream",
     "text": [
      "\n",
      "Iteration 3 of index/analysis of 10 samples with 32 cores\n",
      "Removing any extra snakemake directories: ['snakemake-assemblies.1631129649.6455257']\n"
     ]
    },
    {
     "name": "stdout",
     "output_type": "stream",
     "text": [
      "Removing any existing indexes cases/case-10/index\n",
      "Creating new index: [gdi init cases/case-10/index]\n"
     ]
    },
    {
     "name": "stdout",
     "output_type": "stream",
     "text": [
      "Creating a new index took 2.84 seconds\n",
      "Analysis running: [gdi --project-dir cases/case-10/index --ncores 32 analysis --use-conda --no-load-data --reference-file references/NC_045512.gbk.gz --kmer-size 31 --kmer-size 51 --kmer-size 71 --include-kmer --reads-mincov 10 --input-structured-genomes-file cases/case-10/input-files-case.tsv]\n"
     ]
    },
    {
     "name": "stdout",
     "output_type": "stream",
     "text": [
      "Analysis took 2.33 minutes\n",
      "Index running: [gdi --project-dir cases/case-10/index --ncores 32 load vcf-kmer --reference-file references/NC_045512.gbk.gz /home/CSCScience.ca/apetkau/workspace/genomics-data-index-evaluation/evaluations/sars-cov-2/snakemake-assemblies.1631129881.0288386/gdi-input.fofn]\n"
     ]
    },
    {
     "name": "stdout",
     "output_type": "stream",
     "text": [
      "Indexing took 0.08 minutes\n",
      "Building tree: [gdi --project-dir cases/case-10/index --ncores 32 rebuild tree --align-type full --extra-params '--fast -m GTR+F+R4' NC_045512]\n"
     ]
    },
    {
     "name": "stdout",
     "output_type": "stream",
     "text": [
      "Building tree took 1.37 minutes\n"
     ]
    },
    {
     "name": "stderr",
     "output_type": "stream",
     "text": [
      "Attempting to set global database_path_translator=<genomics_data_index.storage.model.db.DatabasePathTranslator.DatabasePathTranslator object at 0x7fae4fa82ac0> but it is already set\n"
     ]
    },
    {
     "name": "stderr",
     "output_type": "stream",
     "text": [
      "A reminder to myself to look for a Python solution for directory sizes (instead of running `du`)\n"
     ]
    }
   ],
   "source": [
    "results_handler = gdi_benchmark.BenchmarkResultsHandler(name=case_name)\n",
    "benchmarker = gdi_benchmark.IndexBenchmarker(benchmark_results_handler=results_handler,\n",
    "                                             index_path=index_path, input_files_file=cases_input,\n",
    "                                             reference_file=reference_file, mincov=mincov,\n",
    "                                             build_tree=build_tree,\n",
    "                                             ncores=ncores)\n",
    "\n",
    "benchmark_df = benchmarker.benchmark(iterations=iterations)"
   ]
  },
  {
   "cell_type": "code",
   "execution_count": 7,
   "id": "3bcb6da7-0164-47f2-abdd-a4c159da1e3b",
   "metadata": {
    "execution": {
     "iopub.execute_input": "2021-09-08T19:41:45.233104Z",
     "iopub.status.busy": "2021-09-08T19:41:45.219159Z",
     "iopub.status.idle": "2021-09-08T19:41:45.245853Z",
     "shell.execute_reply": "2021-09-08T19:41:45.246703Z"
    },
    "papermill": {
     "duration": 0.053604,
     "end_time": "2021-09-08T19:41:45.246974",
     "exception": false,
     "start_time": "2021-09-08T19:41:45.193370",
     "status": "completed"
    },
    "tags": []
   },
   "outputs": [
    {
     "data": {
      "text/html": [
       "<div>\n",
       "<style scoped>\n",
       "    .dataframe tbody tr th:only-of-type {\n",
       "        vertical-align: middle;\n",
       "    }\n",
       "\n",
       "    .dataframe tbody tr th {\n",
       "        vertical-align: top;\n",
       "    }\n",
       "\n",
       "    .dataframe thead th {\n",
       "        text-align: right;\n",
       "    }\n",
       "</style>\n",
       "<table border=\"1\" class=\"dataframe\">\n",
       "  <thead>\n",
       "    <tr style=\"text-align: right;\">\n",
       "      <th></th>\n",
       "      <th>Name</th>\n",
       "      <th>Iteration</th>\n",
       "      <th>Number samples</th>\n",
       "      <th>Number features (all)</th>\n",
       "      <th>Number features (no unknown)</th>\n",
       "      <th>Number cores</th>\n",
       "      <th>Reference length</th>\n",
       "      <th>Analysis runtime</th>\n",
       "      <th>Analysis memory (max)</th>\n",
       "      <th>Analysis memory (max/process)</th>\n",
       "      <th>Analysis disk uage</th>\n",
       "      <th>Index runtime</th>\n",
       "      <th>Index memory (max)</th>\n",
       "      <th>Index memory (max/process)</th>\n",
       "      <th>Index size</th>\n",
       "      <th>Tree runtime</th>\n",
       "      <th>Tree memory (max)</th>\n",
       "      <th>Tree memory (max/process)</th>\n",
       "      <th>Total runtime</th>\n",
       "      <th>Max memory</th>\n",
       "    </tr>\n",
       "  </thead>\n",
       "  <tbody>\n",
       "    <tr>\n",
       "      <th>0</th>\n",
       "      <td>case-10</td>\n",
       "      <td>1</td>\n",
       "      <td>10</td>\n",
       "      <td>2900</td>\n",
       "      <td>44</td>\n",
       "      <td>32</td>\n",
       "      <td>29903</td>\n",
       "      <td>139.78</td>\n",
       "      <td>1.429692e+09</td>\n",
       "      <td>377692160.0</td>\n",
       "      <td>3.451580e+09</td>\n",
       "      <td>4.87</td>\n",
       "      <td>5.391446e+09</td>\n",
       "      <td>234856448.0</td>\n",
       "      <td>761856.0</td>\n",
       "      <td>92.58</td>\n",
       "      <td>249139200.0</td>\n",
       "      <td>219570176.0</td>\n",
       "      <td>237.23</td>\n",
       "      <td>5.391446e+09</td>\n",
       "    </tr>\n",
       "    <tr>\n",
       "      <th>0</th>\n",
       "      <td>case-10</td>\n",
       "      <td>2</td>\n",
       "      <td>10</td>\n",
       "      <td>2900</td>\n",
       "      <td>44</td>\n",
       "      <td>32</td>\n",
       "      <td>29903</td>\n",
       "      <td>138.50</td>\n",
       "      <td>1.448071e+09</td>\n",
       "      <td>368533504.0</td>\n",
       "      <td>3.451580e+09</td>\n",
       "      <td>4.69</td>\n",
       "      <td>5.393736e+09</td>\n",
       "      <td>235270144.0</td>\n",
       "      <td>757760.0</td>\n",
       "      <td>82.70</td>\n",
       "      <td>249458688.0</td>\n",
       "      <td>220327936.0</td>\n",
       "      <td>225.89</td>\n",
       "      <td>5.393736e+09</td>\n",
       "    </tr>\n",
       "    <tr>\n",
       "      <th>0</th>\n",
       "      <td>case-10</td>\n",
       "      <td>3</td>\n",
       "      <td>10</td>\n",
       "      <td>2900</td>\n",
       "      <td>44</td>\n",
       "      <td>32</td>\n",
       "      <td>29903</td>\n",
       "      <td>139.58</td>\n",
       "      <td>1.444766e+09</td>\n",
       "      <td>380194816.0</td>\n",
       "      <td>3.451580e+09</td>\n",
       "      <td>4.51</td>\n",
       "      <td>5.389349e+09</td>\n",
       "      <td>234606592.0</td>\n",
       "      <td>761856.0</td>\n",
       "      <td>82.05</td>\n",
       "      <td>248881152.0</td>\n",
       "      <td>219791360.0</td>\n",
       "      <td>226.14</td>\n",
       "      <td>5.389349e+09</td>\n",
       "    </tr>\n",
       "  </tbody>\n",
       "</table>\n",
       "</div>"
      ],
      "text/plain": [
       "      Name  Iteration  Number samples  Number features (all)  \\\n",
       "0  case-10          1              10                   2900   \n",
       "0  case-10          2              10                   2900   \n",
       "0  case-10          3              10                   2900   \n",
       "\n",
       "   Number features (no unknown)  Number cores  Reference length  \\\n",
       "0                            44            32             29903   \n",
       "0                            44            32             29903   \n",
       "0                            44            32             29903   \n",
       "\n",
       "   Analysis runtime  Analysis memory (max)  Analysis memory (max/process)  \\\n",
       "0            139.78           1.429692e+09                    377692160.0   \n",
       "0            138.50           1.448071e+09                    368533504.0   \n",
       "0            139.58           1.444766e+09                    380194816.0   \n",
       "\n",
       "   Analysis disk uage  Index runtime  Index memory (max)  \\\n",
       "0        3.451580e+09           4.87        5.391446e+09   \n",
       "0        3.451580e+09           4.69        5.393736e+09   \n",
       "0        3.451580e+09           4.51        5.389349e+09   \n",
       "\n",
       "   Index memory (max/process)  Index size  Tree runtime  Tree memory (max)  \\\n",
       "0                 234856448.0    761856.0         92.58        249139200.0   \n",
       "0                 235270144.0    757760.0         82.70        249458688.0   \n",
       "0                 234606592.0    761856.0         82.05        248881152.0   \n",
       "\n",
       "   Tree memory (max/process)  Total runtime    Max memory  \n",
       "0                219570176.0         237.23  5.391446e+09  \n",
       "0                220327936.0         225.89  5.393736e+09  \n",
       "0                219791360.0         226.14  5.389349e+09  "
      ]
     },
     "execution_count": 7,
     "metadata": {},
     "output_type": "execute_result"
    }
   ],
   "source": [
    "benchmark_df"
   ]
  },
  {
   "cell_type": "code",
   "execution_count": 8,
   "id": "535a9ccc-ab9c-4919-806f-128e1efd2389",
   "metadata": {
    "execution": {
     "iopub.execute_input": "2021-09-08T19:41:45.286266Z",
     "iopub.status.busy": "2021-09-08T19:41:45.285856Z",
     "iopub.status.idle": "2021-09-08T19:41:45.289503Z",
     "shell.execute_reply": "2021-09-08T19:41:45.289143Z"
    },
    "papermill": {
     "duration": 0.021102,
     "end_time": "2021-09-08T19:41:45.289598",
     "exception": false,
     "start_time": "2021-09-08T19:41:45.268496",
     "status": "completed"
    },
    "tags": []
   },
   "outputs": [],
   "source": [
    "benchmark_df.to_csv(benchmark_path, sep='\\t', index=False)"
   ]
  },
  {
   "cell_type": "markdown",
   "id": "6cb7673b-9f85-4c43-b2e2-93538497a196",
   "metadata": {
    "papermill": {
     "duration": 0.010056,
     "end_time": "2021-09-08T19:41:45.310964",
     "exception": false,
     "start_time": "2021-09-08T19:41:45.300908",
     "status": "completed"
    },
    "tags": []
   },
   "source": [
    "# 3. Export trees"
   ]
  },
  {
   "cell_type": "code",
   "execution_count": 9,
   "id": "5280f82c-5434-4391-8c44-b937a7c95bd5",
   "metadata": {
    "execution": {
     "iopub.execute_input": "2021-09-08T19:41:45.347131Z",
     "iopub.status.busy": "2021-09-08T19:41:45.338186Z",
     "iopub.status.idle": "2021-09-08T19:41:48.234219Z",
     "shell.execute_reply": "2021-09-08T19:41:48.235133Z"
    },
    "papermill": {
     "duration": 2.914586,
     "end_time": "2021-09-08T19:41:48.235429",
     "exception": false,
     "start_time": "2021-09-08T19:41:45.320843",
     "status": "completed"
    },
    "tags": []
   },
   "outputs": [
    {
     "name": "stdout",
     "output_type": "stream",
     "text": [
      "Wrote tree to cases/case-10/tree.tre\n"
     ]
    }
   ],
   "source": [
    "if build_tree:\n",
    "    !gdi --project-dir {index_path} export tree {reference_name} > {output_tree}\n",
    "    print(f'Wrote tree to {output_tree}')\n",
    "else:\n",
    "    print(f'build_tree={build_tree} so no tree to export')"
   ]
  }
 ],
 "metadata": {
  "kernelspec": {
   "display_name": "Python 3 (ipykernel)",
   "language": "python",
   "name": "python3"
  },
  "language_info": {
   "codemirror_mode": {
    "name": "ipython",
    "version": 3
   },
   "file_extension": ".py",
   "mimetype": "text/x-python",
   "name": "python",
   "nbconvert_exporter": "python",
   "pygments_lexer": "ipython3",
   "version": "3.8.10"
  },
  "papermill": {
   "default_parameters": {},
   "duration": 716.386896,
   "end_time": "2021-09-08T19:41:49.691046",
   "environment_variables": {},
   "exception": null,
   "input_path": "template-3-index-genomes.ipynb",
   "output_path": "3-index-genomes.case-10.ipynb",
   "parameters": {
    "build_tree": true,
    "cases_dir": "cases/case-10",
    "iterations": 3,
    "number_samples": 10
   },
   "start_time": "2021-09-08T19:29:53.304150",
   "version": "2.3.3"
  }
 },
 "nbformat": 4,
 "nbformat_minor": 5
}