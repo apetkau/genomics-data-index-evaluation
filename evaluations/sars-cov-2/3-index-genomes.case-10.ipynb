{
 "cells": [
  {
   "cell_type": "markdown",
   "id": "7d3667b4-b1f8-4347-96e3-830c25b06740",
   "metadata": {
    "papermill": {
     "duration": 0.017151,
     "end_time": "2021-09-07T18:36:39.887671",
     "exception": false,
     "start_time": "2021-09-07T18:36:39.870520",
     "status": "completed"
    },
    "tags": []
   },
   "source": [
    "# 1. Parameters"
   ]
  },
  {
   "cell_type": "code",
   "execution_count": 1,
   "id": "d4ab0749-b286-4c34-b63c-a854e4952bae",
   "metadata": {
    "execution": {
     "iopub.execute_input": "2021-09-07T18:36:39.918327Z",
     "iopub.status.busy": "2021-09-07T18:36:39.917802Z",
     "iopub.status.idle": "2021-09-07T18:36:39.922778Z",
     "shell.execute_reply": "2021-09-07T18:36:39.922293Z"
    },
    "papermill": {
     "duration": 0.025247,
     "end_time": "2021-09-07T18:36:39.922903",
     "exception": false,
     "start_time": "2021-09-07T18:36:39.897656",
     "status": "completed"
    },
    "tags": [
     "parameters"
    ]
   },
   "outputs": [],
   "source": [
    "# Defaults\n",
    "cases_dir = 'cases/unset'\n",
    "reference_file = 'references/NC_045512.gbk.gz'\n",
    "input_files_all = 'input/input-files.tsv'\n",
    "iterations = 3\n",
    "mincov = 10\n",
    "ncores = 32\n",
    "number_samples = 10"
   ]
  },
  {
   "cell_type": "code",
   "execution_count": 2,
   "id": "ea130202",
   "metadata": {
    "execution": {
     "iopub.execute_input": "2021-09-07T18:36:39.943178Z",
     "iopub.status.busy": "2021-09-07T18:36:39.942790Z",
     "iopub.status.idle": "2021-09-07T18:36:39.945750Z",
     "shell.execute_reply": "2021-09-07T18:36:39.945427Z"
    },
    "papermill": {
     "duration": 0.015532,
     "end_time": "2021-09-07T18:36:39.945831",
     "exception": false,
     "start_time": "2021-09-07T18:36:39.930299",
     "status": "completed"
    },
    "tags": [
     "injected-parameters"
    ]
   },
   "outputs": [],
   "source": [
    "# Parameters\n",
    "cases_dir = \"cases/case-10\"\n",
    "iterations = 3\n",
    "number_samples = 10\n"
   ]
  },
  {
   "cell_type": "code",
   "execution_count": 3,
   "id": "ce5962e4-261c-4210-b39b-47044e28466b",
   "metadata": {
    "execution": {
     "iopub.execute_input": "2021-09-07T18:36:39.969766Z",
     "iopub.status.busy": "2021-09-07T18:36:39.969245Z",
     "iopub.status.idle": "2021-09-07T18:36:42.365986Z",
     "shell.execute_reply": "2021-09-07T18:36:42.366834Z"
    },
    "papermill": {
     "duration": 2.415083,
     "end_time": "2021-09-07T18:36:42.367127",
     "exception": false,
     "start_time": "2021-09-07T18:36:39.952044",
     "status": "completed"
    },
    "tags": []
   },
   "outputs": [],
   "source": [
    "from pathlib import Path\n",
    "from shutil import rmtree\n",
    "from os import makedirs\n",
    "import imp\n",
    "fp, pathname, description = imp.find_module('gdi_benchmark', ['../../lib'])\n",
    "gdi_benchmark = imp.load_module('gdi_benchmark', fp, pathname, description)\n",
    "\n",
    "cases_dir_path = Path(cases_dir)\n",
    "\n",
    "if cases_dir_path.exists():\n",
    "    rmtree(cases_dir_path)\n",
    "    \n",
    "if not cases_dir_path.exists():\n",
    "    makedirs(cases_dir_path)\n",
    "\n",
    "input_files_all = Path(input_files_all)\n",
    "reference_file = Path(reference_file)\n",
    "\n",
    "case_name = str(cases_dir_path.name)\n",
    "reference_name = reference_file.name.split('.')[0]\n",
    "\n",
    "cases_input = cases_dir_path / 'input-files-case.tsv'\n",
    "index_path = cases_dir_path / 'index'\n",
    "benchmark_path = cases_dir_path / 'index-info.tsv'\n",
    "output_tree = cases_dir_path / 'tree.tre'"
   ]
  },
  {
   "cell_type": "markdown",
   "id": "1673d80f-b52a-4b68-b400-355540495e15",
   "metadata": {
    "papermill": {
     "duration": 0.009435,
     "end_time": "2021-09-07T18:36:42.390313",
     "exception": false,
     "start_time": "2021-09-07T18:36:42.380878",
     "status": "completed"
    },
    "tags": []
   },
   "source": [
    "# 2. Create subset input"
   ]
  },
  {
   "cell_type": "code",
   "execution_count": 4,
   "id": "4e66adb1-3ef7-45d1-8e46-723dcb9d0c31",
   "metadata": {
    "execution": {
     "iopub.execute_input": "2021-09-07T18:36:42.410875Z",
     "iopub.status.busy": "2021-09-07T18:36:42.410397Z",
     "iopub.status.idle": "2021-09-07T18:36:42.451616Z",
     "shell.execute_reply": "2021-09-07T18:36:42.450672Z"
    },
    "papermill": {
     "duration": 0.05489,
     "end_time": "2021-09-07T18:36:42.451837",
     "exception": false,
     "start_time": "2021-09-07T18:36:42.396947",
     "status": "completed"
    },
    "tags": []
   },
   "outputs": [
    {
     "name": "stdout",
     "output_type": "stream",
     "text": [
      "Wrote 10/10000 samples to cases/case-10/input-files-case.tsv\n"
     ]
    }
   ],
   "source": [
    "import pandas as pd\n",
    "\n",
    "all_input_df = pd.read_csv(input_files_all, sep='\\t')\n",
    "all_input_total = len(all_input_df)\n",
    "\n",
    "subset_input_df = all_input_df.head(number_samples)\n",
    "subset_input_total = len(subset_input_df)\n",
    "\n",
    "subset_input_df.to_csv(cases_input, sep='\\t', index=False)\n",
    "\n",
    "print(f'Wrote {subset_input_total}/{all_input_total} samples to {cases_input}')"
   ]
  },
  {
   "cell_type": "markdown",
   "id": "f208279e-7558-47fc-9362-da29df92828a",
   "metadata": {
    "papermill": {
     "duration": 0.009389,
     "end_time": "2021-09-07T18:36:42.476233",
     "exception": false,
     "start_time": "2021-09-07T18:36:42.466844",
     "status": "completed"
    },
    "tags": []
   },
   "source": [
    "# 2. Index genomes"
   ]
  },
  {
   "cell_type": "code",
   "execution_count": 5,
   "id": "4e936f7c-2fcd-4188-b0e6-6b3ceb5cdcd2",
   "metadata": {
    "execution": {
     "iopub.execute_input": "2021-09-07T18:36:42.495061Z",
     "iopub.status.busy": "2021-09-07T18:36:42.494670Z",
     "iopub.status.idle": "2021-09-07T18:36:45.417174Z",
     "shell.execute_reply": "2021-09-07T18:36:45.418047Z"
    },
    "papermill": {
     "duration": 2.935655,
     "end_time": "2021-09-07T18:36:45.418372",
     "exception": false,
     "start_time": "2021-09-07T18:36:42.482717",
     "status": "completed"
    },
    "tags": []
   },
   "outputs": [
    {
     "name": "stdout",
     "output_type": "stream",
     "text": [
      "gdi, version 0.3.0.dev10\r\n"
     ]
    }
   ],
   "source": [
    "!gdi --version"
   ]
  },
  {
   "cell_type": "markdown",
   "id": "5409ecf8-2158-4361-9d2f-6b1a6c7c63a6",
   "metadata": {
    "papermill": {
     "duration": 0.008855,
     "end_time": "2021-09-07T18:36:45.441606",
     "exception": false,
     "start_time": "2021-09-07T18:36:45.432751",
     "status": "completed"
    },
    "tags": []
   },
   "source": [
    "## 2.1. Index reads"
   ]
  },
  {
   "cell_type": "code",
   "execution_count": 6,
   "id": "3d63e861-733e-46f2-8bce-bd1a2c7c7058",
   "metadata": {
    "execution": {
     "iopub.execute_input": "2021-09-07T18:36:45.467146Z",
     "iopub.status.busy": "2021-09-07T18:36:45.463994Z",
     "iopub.status.idle": "2021-09-07T18:49:27.517449Z",
     "shell.execute_reply": "2021-09-07T18:49:27.516413Z"
    },
    "papermill": {
     "duration": 762.069016,
     "end_time": "2021-09-07T18:49:27.517805",
     "exception": false,
     "start_time": "2021-09-07T18:36:45.448789",
     "status": "completed"
    },
    "tags": []
   },
   "outputs": [
    {
     "name": "stdout",
     "output_type": "stream",
     "text": [
      "\n",
      "Iteration 1 of index/analysis of 10 samples with 32 cores\n",
      "Removing any extra snakemake directories: ['snakemake-assemblies.1631039496.0183494']\n"
     ]
    },
    {
     "name": "stdout",
     "output_type": "stream",
     "text": [
      "Creating new index: [gdi init cases/case-10/index]\n"
     ]
    },
    {
     "name": "stdout",
     "output_type": "stream",
     "text": [
      "Creating a new index took 3.02 seconds\n",
      "Analysis running: [gdi --project-dir cases/case-10/index --ncores 32 analysis --use-conda --no-load-data --reference-file references/NC_045512.gbk.gz --kmer-size 31 --kmer-size 51 --kmer-size 71 --include-kmer --reads-mincov 10 --input-structured-genomes-file cases/case-10/input-files-case.tsv]\n"
     ]
    },
    {
     "name": "stdout",
     "output_type": "stream",
     "text": [
      "Analysis took 2.38 minutes\n",
      "Index running: [gdi --project-dir cases/case-10/index --ncores 32 load vcf-kmer --reference-file references/NC_045512.gbk.gz /home/CSCScience.ca/apetkau/workspace/genomics-data-index-evaluation/evaluations/sars-cov-2/snakemake-assemblies.1631039813.78303/gdi-input.fofn]\n"
     ]
    },
    {
     "name": "stdout",
     "output_type": "stream",
     "text": [
      "Indexing took 0.08 minutes\n",
      "Building tree: [gdi --project-dir cases/case-10/index --ncores 32 rebuild tree --align-type full --extra-params '--fast -m GTR+F+R4' NC_045512]\n"
     ]
    },
    {
     "name": "stdout",
     "output_type": "stream",
     "text": [
      "Building tree took 1.58 minutes\n"
     ]
    },
    {
     "name": "stderr",
     "output_type": "stream",
     "text": [
      "A reminder to myself to look for a Python solution for directory sizes (instead of running `du`)\n"
     ]
    },
    {
     "name": "stdout",
     "output_type": "stream",
     "text": [
      "\n",
      "Iteration 2 of index/analysis of 10 samples with 32 cores\n",
      "Removing any extra snakemake directories: ['snakemake-assemblies.1631039813.78303']\n"
     ]
    },
    {
     "name": "stdout",
     "output_type": "stream",
     "text": [
      "Removing any existing indexes cases/case-10/index\n",
      "Creating new index: [gdi init cases/case-10/index]\n"
     ]
    },
    {
     "name": "stdout",
     "output_type": "stream",
     "text": [
      "Creating a new index took 3.02 seconds\n",
      "Analysis running: [gdi --project-dir cases/case-10/index --ncores 32 analysis --use-conda --no-load-data --reference-file references/NC_045512.gbk.gz --kmer-size 31 --kmer-size 51 --kmer-size 71 --include-kmer --reads-mincov 10 --input-structured-genomes-file cases/case-10/input-files-case.tsv]\n"
     ]
    },
    {
     "name": "stdout",
     "output_type": "stream",
     "text": [
      "Analysis took 2.37 minutes\n",
      "Index running: [gdi --project-dir cases/case-10/index --ncores 32 load vcf-kmer --reference-file references/NC_045512.gbk.gz /home/CSCScience.ca/apetkau/workspace/genomics-data-index-evaluation/evaluations/sars-cov-2/snakemake-assemblies.1631040061.1545906/gdi-input.fofn]\n"
     ]
    },
    {
     "name": "stdout",
     "output_type": "stream",
     "text": [
      "Indexing took 0.08 minutes\n",
      "Building tree: [gdi --project-dir cases/case-10/index --ncores 32 rebuild tree --align-type full --extra-params '--fast -m GTR+F+R4' NC_045512]\n"
     ]
    },
    {
     "name": "stdout",
     "output_type": "stream",
     "text": [
      "Building tree took 1.57 minutes\n"
     ]
    },
    {
     "name": "stderr",
     "output_type": "stream",
     "text": [
      "Attempting to set global database_path_translator=<genomics_data_index.storage.model.db.DatabasePathTranslator.DatabasePathTranslator object at 0x7f6c08b180d0> but it is already set\n"
     ]
    },
    {
     "name": "stderr",
     "output_type": "stream",
     "text": [
      "A reminder to myself to look for a Python solution for directory sizes (instead of running `du`)\n"
     ]
    },
    {
     "name": "stdout",
     "output_type": "stream",
     "text": [
      "\n",
      "Iteration 3 of index/analysis of 10 samples with 32 cores\n",
      "Removing any extra snakemake directories: ['snakemake-assemblies.1631040061.1545906']\n"
     ]
    },
    {
     "name": "stdout",
     "output_type": "stream",
     "text": [
      "Removing any existing indexes cases/case-10/index\n",
      "Creating new index: [gdi init cases/case-10/index]\n"
     ]
    },
    {
     "name": "stdout",
     "output_type": "stream",
     "text": [
      "Creating a new index took 2.82 seconds\n",
      "Analysis running: [gdi --project-dir cases/case-10/index --ncores 32 analysis --use-conda --no-load-data --reference-file references/NC_045512.gbk.gz --kmer-size 31 --kmer-size 51 --kmer-size 71 --include-kmer --reads-mincov 10 --input-structured-genomes-file cases/case-10/input-files-case.tsv]\n"
     ]
    },
    {
     "name": "stdout",
     "output_type": "stream",
     "text": [
      "Analysis took 2.38 minutes\n",
      "Index running: [gdi --project-dir cases/case-10/index --ncores 32 load vcf-kmer --reference-file references/NC_045512.gbk.gz /home/CSCScience.ca/apetkau/workspace/genomics-data-index-evaluation/evaluations/sars-cov-2/snakemake-assemblies.1631040307.1789904/gdi-input.fofn]\n"
     ]
    },
    {
     "name": "stdout",
     "output_type": "stream",
     "text": [
      "Indexing took 0.08 minutes\n",
      "Building tree: [gdi --project-dir cases/case-10/index --ncores 32 rebuild tree --align-type full --extra-params '--fast -m GTR+F+R4' NC_045512]\n"
     ]
    },
    {
     "name": "stdout",
     "output_type": "stream",
     "text": [
      "Building tree took 1.92 minutes\n"
     ]
    },
    {
     "name": "stderr",
     "output_type": "stream",
     "text": [
      "Attempting to set global database_path_translator=<genomics_data_index.storage.model.db.DatabasePathTranslator.DatabasePathTranslator object at 0x7f6c2210b700> but it is already set\n"
     ]
    },
    {
     "name": "stderr",
     "output_type": "stream",
     "text": [
      "A reminder to myself to look for a Python solution for directory sizes (instead of running `du`)\n"
     ]
    }
   ],
   "source": [
    "results_handler = gdi_benchmark.BenchmarkResultsHandler(name=case_name)\n",
    "benchmarker = gdi_benchmark.IndexBenchmarker(benchmark_results_handler=results_handler,\n",
    "                                             index_path=index_path, input_files_file=cases_input,\n",
    "                                             reference_file=reference_file, mincov=mincov, build_tree=True,\n",
    "                                             ncores=ncores)\n",
    "\n",
    "benchmark_df = benchmarker.benchmark(iterations=iterations)"
   ]
  },
  {
   "cell_type": "code",
   "execution_count": 7,
   "id": "3bcb6da7-0164-47f2-abdd-a4c159da1e3b",
   "metadata": {
    "execution": {
     "iopub.execute_input": "2021-09-07T18:49:27.568179Z",
     "iopub.status.busy": "2021-09-07T18:49:27.567617Z",
     "iopub.status.idle": "2021-09-07T18:49:27.596298Z",
     "shell.execute_reply": "2021-09-07T18:49:27.597201Z"
    },
    "papermill": {
     "duration": 0.05746,
     "end_time": "2021-09-07T18:49:27.597481",
     "exception": false,
     "start_time": "2021-09-07T18:49:27.540021",
     "status": "completed"
    },
    "tags": []
   },
   "outputs": [
    {
     "data": {
      "text/html": [
       "<div>\n",
       "<style scoped>\n",
       "    .dataframe tbody tr th:only-of-type {\n",
       "        vertical-align: middle;\n",
       "    }\n",
       "\n",
       "    .dataframe tbody tr th {\n",
       "        vertical-align: top;\n",
       "    }\n",
       "\n",
       "    .dataframe thead th {\n",
       "        text-align: right;\n",
       "    }\n",
       "</style>\n",
       "<table border=\"1\" class=\"dataframe\">\n",
       "  <thead>\n",
       "    <tr style=\"text-align: right;\">\n",
       "      <th></th>\n",
       "      <th>Name</th>\n",
       "      <th>Iteration</th>\n",
       "      <th>Number samples</th>\n",
       "      <th>Number cores</th>\n",
       "      <th>Reference length</th>\n",
       "      <th>Analysis runtime</th>\n",
       "      <th>Analysis memory (max)</th>\n",
       "      <th>Analysis memory (max/process)</th>\n",
       "      <th>Analysis disk uage</th>\n",
       "      <th>Index runtime</th>\n",
       "      <th>Index memory (max)</th>\n",
       "      <th>Index memory (max/process)</th>\n",
       "      <th>Index size</th>\n",
       "      <th>Tree runtime</th>\n",
       "      <th>Tree memory (max)</th>\n",
       "      <th>Tree memory (max/process)</th>\n",
       "      <th>Total runtime</th>\n",
       "      <th>Max memory</th>\n",
       "    </tr>\n",
       "  </thead>\n",
       "  <tbody>\n",
       "    <tr>\n",
       "      <th>0</th>\n",
       "      <td>case-10</td>\n",
       "      <td>1</td>\n",
       "      <td>10</td>\n",
       "      <td>32</td>\n",
       "      <td>29903</td>\n",
       "      <td>142.47</td>\n",
       "      <td>1.397400e+09</td>\n",
       "      <td>378494976.0</td>\n",
       "      <td>3.452023e+09</td>\n",
       "      <td>4.69</td>\n",
       "      <td>5.395530e+09</td>\n",
       "      <td>234131456.0</td>\n",
       "      <td>733184.0</td>\n",
       "      <td>94.98</td>\n",
       "      <td>243421184.0</td>\n",
       "      <td>220405760.0</td>\n",
       "      <td>242.14</td>\n",
       "      <td>5.395530e+09</td>\n",
       "    </tr>\n",
       "    <tr>\n",
       "      <th>0</th>\n",
       "      <td>case-10</td>\n",
       "      <td>2</td>\n",
       "      <td>10</td>\n",
       "      <td>32</td>\n",
       "      <td>29903</td>\n",
       "      <td>141.78</td>\n",
       "      <td>1.360519e+09</td>\n",
       "      <td>378294272.0</td>\n",
       "      <td>3.452047e+09</td>\n",
       "      <td>4.94</td>\n",
       "      <td>5.395407e+09</td>\n",
       "      <td>234168320.0</td>\n",
       "      <td>733184.0</td>\n",
       "      <td>93.93</td>\n",
       "      <td>243847168.0</td>\n",
       "      <td>220221440.0</td>\n",
       "      <td>240.65</td>\n",
       "      <td>5.395407e+09</td>\n",
       "    </tr>\n",
       "    <tr>\n",
       "      <th>0</th>\n",
       "      <td>case-10</td>\n",
       "      <td>3</td>\n",
       "      <td>10</td>\n",
       "      <td>32</td>\n",
       "      <td>29903</td>\n",
       "      <td>142.60</td>\n",
       "      <td>1.387725e+09</td>\n",
       "      <td>377995264.0</td>\n",
       "      <td>3.452047e+09</td>\n",
       "      <td>4.58</td>\n",
       "      <td>5.395202e+09</td>\n",
       "      <td>233971712.0</td>\n",
       "      <td>733184.0</td>\n",
       "      <td>115.20</td>\n",
       "      <td>244326400.0</td>\n",
       "      <td>220803072.0</td>\n",
       "      <td>262.38</td>\n",
       "      <td>5.395202e+09</td>\n",
       "    </tr>\n",
       "  </tbody>\n",
       "</table>\n",
       "</div>"
      ],
      "text/plain": [
       "      Name  Iteration  Number samples  Number cores  Reference length  \\\n",
       "0  case-10          1              10            32             29903   \n",
       "0  case-10          2              10            32             29903   \n",
       "0  case-10          3              10            32             29903   \n",
       "\n",
       "   Analysis runtime  Analysis memory (max)  Analysis memory (max/process)  \\\n",
       "0            142.47           1.397400e+09                    378494976.0   \n",
       "0            141.78           1.360519e+09                    378294272.0   \n",
       "0            142.60           1.387725e+09                    377995264.0   \n",
       "\n",
       "   Analysis disk uage  Index runtime  Index memory (max)  \\\n",
       "0        3.452023e+09           4.69        5.395530e+09   \n",
       "0        3.452047e+09           4.94        5.395407e+09   \n",
       "0        3.452047e+09           4.58        5.395202e+09   \n",
       "\n",
       "   Index memory (max/process)  Index size  Tree runtime  Tree memory (max)  \\\n",
       "0                 234131456.0    733184.0         94.98        243421184.0   \n",
       "0                 234168320.0    733184.0         93.93        243847168.0   \n",
       "0                 233971712.0    733184.0        115.20        244326400.0   \n",
       "\n",
       "   Tree memory (max/process)  Total runtime    Max memory  \n",
       "0                220405760.0         242.14  5.395530e+09  \n",
       "0                220221440.0         240.65  5.395407e+09  \n",
       "0                220803072.0         262.38  5.395202e+09  "
      ]
     },
     "execution_count": 7,
     "metadata": {},
     "output_type": "execute_result"
    }
   ],
   "source": [
    "benchmark_df"
   ]
  },
  {
   "cell_type": "code",
   "execution_count": 8,
   "id": "535a9ccc-ab9c-4919-806f-128e1efd2389",
   "metadata": {
    "execution": {
     "iopub.execute_input": "2021-09-07T18:49:27.640456Z",
     "iopub.status.busy": "2021-09-07T18:49:27.637918Z",
     "iopub.status.idle": "2021-09-07T18:49:27.643575Z",
     "shell.execute_reply": "2021-09-07T18:49:27.643174Z"
    },
    "papermill": {
     "duration": 0.02346,
     "end_time": "2021-09-07T18:49:27.643684",
     "exception": false,
     "start_time": "2021-09-07T18:49:27.620224",
     "status": "completed"
    },
    "tags": []
   },
   "outputs": [],
   "source": [
    "benchmark_df.to_csv(benchmark_path, sep='\\t', index=False)"
   ]
  },
  {
   "cell_type": "markdown",
   "id": "6cb7673b-9f85-4c43-b2e2-93538497a196",
   "metadata": {
    "papermill": {
     "duration": 0.010602,
     "end_time": "2021-09-07T18:49:27.667347",
     "exception": false,
     "start_time": "2021-09-07T18:49:27.656745",
     "status": "completed"
    },
    "tags": []
   },
   "source": [
    "# 3. Export trees"
   ]
  },
  {
   "cell_type": "code",
   "execution_count": 9,
   "id": "5280f82c-5434-4391-8c44-b937a7c95bd5",
   "metadata": {
    "execution": {
     "iopub.execute_input": "2021-09-07T18:49:27.702751Z",
     "iopub.status.busy": "2021-09-07T18:49:27.693980Z",
     "iopub.status.idle": "2021-09-07T18:49:30.576109Z",
     "shell.execute_reply": "2021-09-07T18:49:30.575180Z"
    },
    "papermill": {
     "duration": 2.89898,
     "end_time": "2021-09-07T18:49:30.576356",
     "exception": false,
     "start_time": "2021-09-07T18:49:27.677376",
     "status": "completed"
    },
    "tags": []
   },
   "outputs": [
    {
     "name": "stdout",
     "output_type": "stream",
     "text": [
      "Wrote tree to cases/case-10/tree.tre\n"
     ]
    }
   ],
   "source": [
    "!gdi --project-dir {index_path} export tree {reference_name} > {output_tree}\n",
    "print(f'Wrote tree to {output_tree}')"
   ]
  }
 ],
 "metadata": {
  "kernelspec": {
   "display_name": "Python 3 (ipykernel)",
   "language": "python",
   "name": "python3"
  },
  "language_info": {
   "codemirror_mode": {
    "name": "ipython",
    "version": 3
   },
   "file_extension": ".py",
   "mimetype": "text/x-python",
   "name": "python",
   "nbconvert_exporter": "python",
   "pygments_lexer": "ipython3",
   "version": "3.8.10"
  },
  "papermill": {
   "default_parameters": {},
   "duration": 772.31787,
   "end_time": "2021-09-07T18:49:31.213169",
   "environment_variables": {},
   "exception": null,
   "input_path": "template-3-index-genomes.ipynb",
   "output_path": "3-index-genomes.case-10.ipynb",
   "parameters": {
    "cases_dir": "cases/case-10",
    "iterations": 3,
    "number_samples": 10
   },
   "start_time": "2021-09-07T18:36:38.895299",
   "version": "2.3.3"
  }
 },
 "nbformat": 4,
 "nbformat_minor": 5
}