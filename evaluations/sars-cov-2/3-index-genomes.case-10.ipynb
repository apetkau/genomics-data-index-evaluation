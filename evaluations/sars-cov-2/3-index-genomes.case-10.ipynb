{
 "cells": [
  {
   "cell_type": "markdown",
   "id": "7d3667b4-b1f8-4347-96e3-830c25b06740",
   "metadata": {
    "papermill": {
     "duration": 0.015783,
     "end_time": "2022-03-10T17:36:32.181883",
     "exception": false,
     "start_time": "2022-03-10T17:36:32.166100",
     "status": "completed"
    },
    "tags": []
   },
   "source": [
    "# 1. Parameters"
   ]
  },
  {
   "cell_type": "code",
   "execution_count": 1,
   "id": "d4ab0749-b286-4c34-b63c-a854e4952bae",
   "metadata": {
    "execution": {
     "iopub.execute_input": "2022-03-10T17:36:32.212099Z",
     "iopub.status.busy": "2022-03-10T17:36:32.211533Z",
     "iopub.status.idle": "2022-03-10T17:36:32.218121Z",
     "shell.execute_reply": "2022-03-10T17:36:32.216954Z"
    },
    "papermill": {
     "duration": 0.027411,
     "end_time": "2022-03-10T17:36:32.218385",
     "exception": false,
     "start_time": "2022-03-10T17:36:32.190974",
     "status": "completed"
    },
    "tags": [
     "parameters"
    ]
   },
   "outputs": [],
   "source": [
    "# Defaults\n",
    "cases_dir = 'cases/unset'\n",
    "reference_file = 'references/NC_045512.gbk.gz'\n",
    "input_files_all = 'input/input-files.tsv'\n",
    "iterations = 3\n",
    "mincov = 10\n",
    "ncores = 32\n",
    "number_samples = 10\n",
    "build_tree = False\n",
    "sample_batch_size=2000"
   ]
  },
  {
   "cell_type": "code",
   "execution_count": 2,
   "id": "c7efe16a",
   "metadata": {
    "execution": {
     "iopub.execute_input": "2022-03-10T17:36:32.246992Z",
     "iopub.status.busy": "2022-03-10T17:36:32.246452Z",
     "iopub.status.idle": "2022-03-10T17:36:32.249307Z",
     "shell.execute_reply": "2022-03-10T17:36:32.249722Z"
    },
    "papermill": {
     "duration": 0.017378,
     "end_time": "2022-03-10T17:36:32.249852",
     "exception": false,
     "start_time": "2022-03-10T17:36:32.232474",
     "status": "completed"
    },
    "tags": [
     "injected-parameters"
    ]
   },
   "outputs": [],
   "source": [
    "# Parameters\n",
    "cases_dir = \"cases/case-10\"\n",
    "iterations = 3\n",
    "number_samples = 10\n",
    "build_tree = True\n"
   ]
  },
  {
   "cell_type": "code",
   "execution_count": 3,
   "id": "ce5962e4-261c-4210-b39b-47044e28466b",
   "metadata": {
    "execution": {
     "iopub.execute_input": "2022-03-10T17:36:32.273677Z",
     "iopub.status.busy": "2022-03-10T17:36:32.273244Z",
     "iopub.status.idle": "2022-03-10T17:36:34.692333Z",
     "shell.execute_reply": "2022-03-10T17:36:34.693293Z"
    },
    "papermill": {
     "duration": 2.436788,
     "end_time": "2022-03-10T17:36:34.693627",
     "exception": false,
     "start_time": "2022-03-10T17:36:32.256839",
     "status": "completed"
    },
    "tags": []
   },
   "outputs": [],
   "source": [
    "from pathlib import Path\n",
    "from shutil import rmtree\n",
    "from os import makedirs\n",
    "import imp\n",
    "fp, pathname, description = imp.find_module('gdi_benchmark', ['../../lib'])\n",
    "gdi_benchmark = imp.load_module('gdi_benchmark', fp, pathname, description)\n",
    "\n",
    "cases_dir_path = Path(cases_dir)\n",
    "\n",
    "if cases_dir_path.exists():\n",
    "    rmtree(cases_dir_path)\n",
    "    \n",
    "if not cases_dir_path.exists():\n",
    "    makedirs(cases_dir_path)\n",
    "\n",
    "input_files_all = Path(input_files_all)\n",
    "reference_file = Path(reference_file)\n",
    "\n",
    "case_name = str(cases_dir_path.name)\n",
    "reference_name = reference_file.name.split('.')[0]\n",
    "\n",
    "cases_input = cases_dir_path / 'input-files-case.tsv'\n",
    "index_path = cases_dir_path / 'index'\n",
    "benchmark_path = cases_dir_path / 'index-info.tsv'\n",
    "output_tree = cases_dir_path / 'tree.tre'"
   ]
  },
  {
   "cell_type": "markdown",
   "id": "1673d80f-b52a-4b68-b400-355540495e15",
   "metadata": {
    "papermill": {
     "duration": 0.008967,
     "end_time": "2022-03-10T17:36:34.717021",
     "exception": false,
     "start_time": "2022-03-10T17:36:34.708054",
     "status": "completed"
    },
    "tags": []
   },
   "source": [
    "# 2. Create subset input"
   ]
  },
  {
   "cell_type": "code",
   "execution_count": 4,
   "id": "4e66adb1-3ef7-45d1-8e46-723dcb9d0c31",
   "metadata": {
    "execution": {
     "iopub.execute_input": "2022-03-10T17:36:34.738454Z",
     "iopub.status.busy": "2022-03-10T17:36:34.738027Z",
     "iopub.status.idle": "2022-03-10T17:36:34.957371Z",
     "shell.execute_reply": "2022-03-10T17:36:34.958287Z"
    },
    "papermill": {
     "duration": 0.234532,
     "end_time": "2022-03-10T17:36:34.958598",
     "exception": false,
     "start_time": "2022-03-10T17:36:34.724066",
     "status": "completed"
    },
    "tags": []
   },
   "outputs": [
    {
     "name": "stdout",
     "output_type": "stream",
     "text": [
      "Wrote 10/100000 samples to cases/case-10/input-files-case.tsv\n"
     ]
    }
   ],
   "source": [
    "import pandas as pd\n",
    "\n",
    "all_input_df = pd.read_csv(input_files_all, sep='\\t')\n",
    "all_input_total = len(all_input_df)\n",
    "\n",
    "subset_input_df = all_input_df.head(number_samples)\n",
    "subset_input_total = len(subset_input_df)\n",
    "\n",
    "subset_input_df.to_csv(cases_input, sep='\\t', index=False)\n",
    "\n",
    "print(f'Wrote {subset_input_total}/{all_input_total} samples to {cases_input}')"
   ]
  },
  {
   "cell_type": "markdown",
   "id": "f208279e-7558-47fc-9362-da29df92828a",
   "metadata": {
    "papermill": {
     "duration": 0.007747,
     "end_time": "2022-03-10T17:36:34.980490",
     "exception": false,
     "start_time": "2022-03-10T17:36:34.972743",
     "status": "completed"
    },
    "tags": []
   },
   "source": [
    "# 2. Index genomes"
   ]
  },
  {
   "cell_type": "code",
   "execution_count": 5,
   "id": "4e936f7c-2fcd-4188-b0e6-6b3ceb5cdcd2",
   "metadata": {
    "execution": {
     "iopub.execute_input": "2022-03-10T17:36:35.008830Z",
     "iopub.status.busy": "2022-03-10T17:36:34.997873Z",
     "iopub.status.idle": "2022-03-10T17:36:37.755525Z",
     "shell.execute_reply": "2022-03-10T17:36:37.756434Z"
    },
    "papermill": {
     "duration": 2.769869,
     "end_time": "2022-03-10T17:36:37.756818",
     "exception": false,
     "start_time": "2022-03-10T17:36:34.986949",
     "status": "completed"
    },
    "tags": []
   },
   "outputs": [
    {
     "name": "stdout",
     "output_type": "stream",
     "text": [
      "gdi, version 0.6.0.dev2\r\n"
     ]
    }
   ],
   "source": [
    "!gdi --version"
   ]
  },
  {
   "cell_type": "markdown",
   "id": "5409ecf8-2158-4361-9d2f-6b1a6c7c63a6",
   "metadata": {
    "papermill": {
     "duration": 0.008782,
     "end_time": "2022-03-10T17:36:37.780256",
     "exception": false,
     "start_time": "2022-03-10T17:36:37.771474",
     "status": "completed"
    },
    "tags": []
   },
   "source": [
    "## 2.1. Index reads"
   ]
  },
  {
   "cell_type": "code",
   "execution_count": 6,
   "id": "3d63e861-733e-46f2-8bce-bd1a2c7c7058",
   "metadata": {
    "execution": {
     "iopub.execute_input": "2022-03-10T17:36:37.813731Z",
     "iopub.status.busy": "2022-03-10T17:36:37.812340Z",
     "iopub.status.idle": "2022-03-10T17:49:18.406792Z",
     "shell.execute_reply": "2022-03-10T17:49:18.405743Z"
    },
    "papermill": {
     "duration": 760.620101,
     "end_time": "2022-03-10T17:49:18.407163",
     "exception": false,
     "start_time": "2022-03-10T17:36:37.787062",
     "status": "completed"
    },
    "tags": []
   },
   "outputs": [
    {
     "name": "stdout",
     "output_type": "stream",
     "text": [
      "\n",
      "Iteration 1 of index/analysis of 10 samples with 32 cores\n",
      "Removing any extra snakemake directories: ['snakemake-assemblies.1646933109.2518868']\n"
     ]
    },
    {
     "name": "stdout",
     "output_type": "stream",
     "text": [
      "Creating new index: [gdi init cases/case-10/index]\n"
     ]
    },
    {
     "name": "stdout",
     "output_type": "stream",
     "text": [
      "Creating a new index took 2.58 seconds\n",
      "Analysis running: [gdi --project-dir cases/case-10/index --ncores 32 analysis --use-conda --no-load-data --reference-file references/NC_045512.gbk.gz --kmer-size 31 --kmer-size 51 --kmer-size 71 --include-kmer --reads-mincov 10 --input-structured-genomes-file cases/case-10/input-files-case.tsv]\n"
     ]
    },
    {
     "name": "stdout",
     "output_type": "stream",
     "text": [
      "Analysis took 2.59 minutes\n",
      "Index running: [gdi --project-dir cases/case-10/index --ncores 32 load vcf-kmer --sample-batch-size 2000 --reference-file references/NC_045512.gbk.gz /home/CSCScience.ca/apetkau/workspace/genomics-data-index-evaluation/evaluations/sars-cov-2/snakemake-assemblies.1646933805.009051/gdi-input.fofn]\n"
     ]
    },
    {
     "name": "stdout",
     "output_type": "stream",
     "text": [
      "Indexing took 0.08 minutes\n",
      "Building tree: [gdi --project-dir cases/case-10/index --ncores 32 rebuild tree --align-type full --extra-params '--fast -m GTR+F+R4' NC_045512]\n"
     ]
    },
    {
     "name": "stdout",
     "output_type": "stream",
     "text": [
      "Building tree took 1.58 minutes\n"
     ]
    },
    {
     "name": "stderr",
     "output_type": "stream",
     "text": [
      "A reminder to myself to look for a Python solution for directory sizes (instead of running `du`)\n"
     ]
    },
    {
     "name": "stdout",
     "output_type": "stream",
     "text": [
      "\n",
      "Iteration 2 of index/analysis of 10 samples with 32 cores\n",
      "Removing any extra snakemake directories: ['snakemake-assemblies.1646933805.009051']\n"
     ]
    },
    {
     "name": "stdout",
     "output_type": "stream",
     "text": [
      "Removing any existing indexes cases/case-10/index\n",
      "Creating new index: [gdi init cases/case-10/index]\n"
     ]
    },
    {
     "name": "stdout",
     "output_type": "stream",
     "text": [
      "Creating a new index took 2.81 seconds\n",
      "Analysis running: [gdi --project-dir cases/case-10/index --ncores 32 analysis --use-conda --no-load-data --reference-file references/NC_045512.gbk.gz --kmer-size 31 --kmer-size 51 --kmer-size 71 --include-kmer --reads-mincov 10 --input-structured-genomes-file cases/case-10/input-files-case.tsv]\n"
     ]
    },
    {
     "name": "stdout",
     "output_type": "stream",
     "text": [
      "Analysis took 2.52 minutes\n",
      "Index running: [gdi --project-dir cases/case-10/index --ncores 32 load vcf-kmer --sample-batch-size 2000 --reference-file references/NC_045512.gbk.gz /home/CSCScience.ca/apetkau/workspace/genomics-data-index-evaluation/evaluations/sars-cov-2/snakemake-assemblies.1646934064.9768727/gdi-input.fofn]\n"
     ]
    },
    {
     "name": "stdout",
     "output_type": "stream",
     "text": [
      "Indexing took 0.08 minutes\n",
      "Building tree: [gdi --project-dir cases/case-10/index --ncores 32 rebuild tree --align-type full --extra-params '--fast -m GTR+F+R4' NC_045512]\n"
     ]
    },
    {
     "name": "stdout",
     "output_type": "stream",
     "text": [
      "Building tree took 1.40 minutes\n"
     ]
    },
    {
     "name": "stderr",
     "output_type": "stream",
     "text": [
      "Attempting to set global database_path_translator=<genomics_data_index.storage.model.db.DatabasePathTranslator.DatabasePathTranslator object at 0x7fec5855a040> but it is already set\n"
     ]
    },
    {
     "name": "stderr",
     "output_type": "stream",
     "text": [
      "A reminder to myself to look for a Python solution for directory sizes (instead of running `du`)\n"
     ]
    },
    {
     "name": "stdout",
     "output_type": "stream",
     "text": [
      "\n",
      "Iteration 3 of index/analysis of 10 samples with 32 cores\n",
      "Removing any extra snakemake directories: ['snakemake-assemblies.1646934064.9768727']\n"
     ]
    },
    {
     "name": "stdout",
     "output_type": "stream",
     "text": [
      "Removing any existing indexes cases/case-10/index\n",
      "Creating new index: [gdi init cases/case-10/index]\n"
     ]
    },
    {
     "name": "stdout",
     "output_type": "stream",
     "text": [
      "Creating a new index took 2.90 seconds\n",
      "Analysis running: [gdi --project-dir cases/case-10/index --ncores 32 analysis --use-conda --no-load-data --reference-file references/NC_045512.gbk.gz --kmer-size 31 --kmer-size 51 --kmer-size 71 --include-kmer --reads-mincov 10 --input-structured-genomes-file cases/case-10/input-files-case.tsv]\n"
     ]
    },
    {
     "name": "stdout",
     "output_type": "stream",
     "text": [
      "Analysis took 2.49 minutes\n",
      "Index running: [gdi --project-dir cases/case-10/index --ncores 32 load vcf-kmer --sample-batch-size 2000 --reference-file references/NC_045512.gbk.gz /home/CSCScience.ca/apetkau/workspace/genomics-data-index-evaluation/evaluations/sars-cov-2/snakemake-assemblies.1646934310.185383/gdi-input.fofn]\n"
     ]
    },
    {
     "name": "stdout",
     "output_type": "stream",
     "text": [
      "Indexing took 0.08 minutes\n",
      "Building tree: [gdi --project-dir cases/case-10/index --ncores 32 rebuild tree --align-type full --extra-params '--fast -m GTR+F+R4' NC_045512]\n"
     ]
    },
    {
     "name": "stdout",
     "output_type": "stream",
     "text": [
      "Building tree took 1.60 minutes\n"
     ]
    },
    {
     "name": "stderr",
     "output_type": "stream",
     "text": [
      "Attempting to set global database_path_translator=<genomics_data_index.storage.model.db.DatabasePathTranslator.DatabasePathTranslator object at 0x7fec056bd4c0> but it is already set\n"
     ]
    },
    {
     "name": "stderr",
     "output_type": "stream",
     "text": [
      "A reminder to myself to look for a Python solution for directory sizes (instead of running `du`)\n"
     ]
    }
   ],
   "source": [
    "results_handler = gdi_benchmark.BenchmarkResultsHandler(name=case_name)\n",
    "benchmarker = gdi_benchmark.IndexBenchmarker(benchmark_results_handler=results_handler,\n",
    "                                             index_path=index_path, input_files_file=cases_input,\n",
    "                                             reference_file=reference_file, mincov=mincov,\n",
    "                                             build_tree=build_tree,\n",
    "                                             ncores=ncores,\n",
    "                                             sample_batch_size=sample_batch_size)\n",
    "\n",
    "benchmark_df = benchmarker.benchmark(iterations=iterations)"
   ]
  },
  {
   "cell_type": "code",
   "execution_count": 7,
   "id": "3bcb6da7-0164-47f2-abdd-a4c159da1e3b",
   "metadata": {
    "execution": {
     "iopub.execute_input": "2022-03-10T17:49:18.452258Z",
     "iopub.status.busy": "2022-03-10T17:49:18.450414Z",
     "iopub.status.idle": "2022-03-10T17:49:18.473308Z",
     "shell.execute_reply": "2022-03-10T17:49:18.473920Z"
    },
    "papermill": {
     "duration": 0.045887,
     "end_time": "2022-03-10T17:49:18.474104",
     "exception": false,
     "start_time": "2022-03-10T17:49:18.428217",
     "status": "completed"
    },
    "tags": []
   },
   "outputs": [
    {
     "data": {
      "text/html": [
       "<div>\n",
       "<style scoped>\n",
       "    .dataframe tbody tr th:only-of-type {\n",
       "        vertical-align: middle;\n",
       "    }\n",
       "\n",
       "    .dataframe tbody tr th {\n",
       "        vertical-align: top;\n",
       "    }\n",
       "\n",
       "    .dataframe thead th {\n",
       "        text-align: right;\n",
       "    }\n",
       "</style>\n",
       "<table border=\"1\" class=\"dataframe\">\n",
       "  <thead>\n",
       "    <tr style=\"text-align: right;\">\n",
       "      <th></th>\n",
       "      <th>Name</th>\n",
       "      <th>Reference name</th>\n",
       "      <th>Iteration</th>\n",
       "      <th>Number samples</th>\n",
       "      <th>Number features (all)</th>\n",
       "      <th>Number features (no unknown)</th>\n",
       "      <th>Number cores</th>\n",
       "      <th>Reference length</th>\n",
       "      <th>Analysis runtime</th>\n",
       "      <th>Analysis memory (max)</th>\n",
       "      <th>...</th>\n",
       "      <th>Analysis disk uage</th>\n",
       "      <th>Index runtime</th>\n",
       "      <th>Index memory (max)</th>\n",
       "      <th>Index memory (max/process)</th>\n",
       "      <th>Index size</th>\n",
       "      <th>Tree runtime</th>\n",
       "      <th>Tree memory (max)</th>\n",
       "      <th>Tree memory (max/process)</th>\n",
       "      <th>Total runtime</th>\n",
       "      <th>Max memory</th>\n",
       "    </tr>\n",
       "  </thead>\n",
       "  <tbody>\n",
       "    <tr>\n",
       "      <th>0</th>\n",
       "      <td>case-10</td>\n",
       "      <td>NC_045512</td>\n",
       "      <td>1</td>\n",
       "      <td>10</td>\n",
       "      <td>2900</td>\n",
       "      <td>44</td>\n",
       "      <td>32</td>\n",
       "      <td>29903</td>\n",
       "      <td>154.95</td>\n",
       "      <td>1.393578e+09</td>\n",
       "      <td>...</td>\n",
       "      <td>3.684430e+09</td>\n",
       "      <td>4.67</td>\n",
       "      <td>5.421670e+09</td>\n",
       "      <td>236605440.0</td>\n",
       "      <td>757760.0</td>\n",
       "      <td>94.39</td>\n",
       "      <td>251297792.0</td>\n",
       "      <td>221229056.0</td>\n",
       "      <td>254.01</td>\n",
       "      <td>5.421670e+09</td>\n",
       "    </tr>\n",
       "    <tr>\n",
       "      <th>0</th>\n",
       "      <td>case-10</td>\n",
       "      <td>NC_045512</td>\n",
       "      <td>2</td>\n",
       "      <td>10</td>\n",
       "      <td>2900</td>\n",
       "      <td>44</td>\n",
       "      <td>32</td>\n",
       "      <td>29903</td>\n",
       "      <td>151.19</td>\n",
       "      <td>1.383870e+09</td>\n",
       "      <td>...</td>\n",
       "      <td>3.684446e+09</td>\n",
       "      <td>4.61</td>\n",
       "      <td>5.418443e+09</td>\n",
       "      <td>236941312.0</td>\n",
       "      <td>761856.0</td>\n",
       "      <td>84.07</td>\n",
       "      <td>249954304.0</td>\n",
       "      <td>221487104.0</td>\n",
       "      <td>239.87</td>\n",
       "      <td>5.418443e+09</td>\n",
       "    </tr>\n",
       "    <tr>\n",
       "      <th>0</th>\n",
       "      <td>case-10</td>\n",
       "      <td>NC_045512</td>\n",
       "      <td>3</td>\n",
       "      <td>10</td>\n",
       "      <td>2900</td>\n",
       "      <td>44</td>\n",
       "      <td>32</td>\n",
       "      <td>29903</td>\n",
       "      <td>149.23</td>\n",
       "      <td>1.430385e+09</td>\n",
       "      <td>...</td>\n",
       "      <td>3.684430e+09</td>\n",
       "      <td>4.72</td>\n",
       "      <td>5.416673e+09</td>\n",
       "      <td>236781568.0</td>\n",
       "      <td>761856.0</td>\n",
       "      <td>96.14</td>\n",
       "      <td>251609088.0</td>\n",
       "      <td>221868032.0</td>\n",
       "      <td>250.09</td>\n",
       "      <td>5.416673e+09</td>\n",
       "    </tr>\n",
       "  </tbody>\n",
       "</table>\n",
       "<p>3 rows × 21 columns</p>\n",
       "</div>"
      ],
      "text/plain": [
       "      Name Reference name  Iteration  Number samples  Number features (all)  \\\n",
       "0  case-10      NC_045512          1              10                   2900   \n",
       "0  case-10      NC_045512          2              10                   2900   \n",
       "0  case-10      NC_045512          3              10                   2900   \n",
       "\n",
       "   Number features (no unknown)  Number cores  Reference length  \\\n",
       "0                            44            32             29903   \n",
       "0                            44            32             29903   \n",
       "0                            44            32             29903   \n",
       "\n",
       "   Analysis runtime  Analysis memory (max)  ...  Analysis disk uage  \\\n",
       "0            154.95           1.393578e+09  ...        3.684430e+09   \n",
       "0            151.19           1.383870e+09  ...        3.684446e+09   \n",
       "0            149.23           1.430385e+09  ...        3.684430e+09   \n",
       "\n",
       "   Index runtime  Index memory (max)  Index memory (max/process)  Index size  \\\n",
       "0           4.67        5.421670e+09                 236605440.0    757760.0   \n",
       "0           4.61        5.418443e+09                 236941312.0    761856.0   \n",
       "0           4.72        5.416673e+09                 236781568.0    761856.0   \n",
       "\n",
       "   Tree runtime  Tree memory (max)  Tree memory (max/process)  Total runtime  \\\n",
       "0         94.39        251297792.0                221229056.0         254.01   \n",
       "0         84.07        249954304.0                221487104.0         239.87   \n",
       "0         96.14        251609088.0                221868032.0         250.09   \n",
       "\n",
       "     Max memory  \n",
       "0  5.421670e+09  \n",
       "0  5.418443e+09  \n",
       "0  5.416673e+09  \n",
       "\n",
       "[3 rows x 21 columns]"
      ]
     },
     "execution_count": 7,
     "metadata": {},
     "output_type": "execute_result"
    }
   ],
   "source": [
    "benchmark_df"
   ]
  },
  {
   "cell_type": "code",
   "execution_count": 8,
   "id": "535a9ccc-ab9c-4919-806f-128e1efd2389",
   "metadata": {
    "execution": {
     "iopub.execute_input": "2022-03-10T17:49:18.515058Z",
     "iopub.status.busy": "2022-03-10T17:49:18.514659Z",
     "iopub.status.idle": "2022-03-10T17:49:18.518671Z",
     "shell.execute_reply": "2022-03-10T17:49:18.518247Z"
    },
    "papermill": {
     "duration": 0.023186,
     "end_time": "2022-03-10T17:49:18.518781",
     "exception": false,
     "start_time": "2022-03-10T17:49:18.495595",
     "status": "completed"
    },
    "tags": []
   },
   "outputs": [],
   "source": [
    "benchmark_df.to_csv(benchmark_path, sep='\\t', index=False)"
   ]
  },
  {
   "cell_type": "markdown",
   "id": "6cb7673b-9f85-4c43-b2e2-93538497a196",
   "metadata": {
    "papermill": {
     "duration": 0.010854,
     "end_time": "2022-03-10T17:49:18.543022",
     "exception": false,
     "start_time": "2022-03-10T17:49:18.532168",
     "status": "completed"
    },
    "tags": []
   },
   "source": [
    "# 3. Export trees"
   ]
  },
  {
   "cell_type": "code",
   "execution_count": 9,
   "id": "5280f82c-5434-4391-8c44-b937a7c95bd5",
   "metadata": {
    "execution": {
     "iopub.execute_input": "2022-03-10T17:49:18.582083Z",
     "iopub.status.busy": "2022-03-10T17:49:18.580057Z",
     "iopub.status.idle": "2022-03-10T17:49:21.504819Z",
     "shell.execute_reply": "2022-03-10T17:49:21.505686Z"
    },
    "papermill": {
     "duration": 2.952275,
     "end_time": "2022-03-10T17:49:21.505999",
     "exception": false,
     "start_time": "2022-03-10T17:49:18.553724",
     "status": "completed"
    },
    "tags": []
   },
   "outputs": [
    {
     "name": "stdout",
     "output_type": "stream",
     "text": [
      "Wrote tree to cases/case-10/tree.tre\n"
     ]
    }
   ],
   "source": [
    "if build_tree:\n",
    "    !gdi --project-dir {index_path} export tree {reference_name} > {output_tree}\n",
    "    print(f'Wrote tree to {output_tree}')\n",
    "else:\n",
    "    print(f'build_tree={build_tree} so no tree to export')"
   ]
  }
 ],
 "metadata": {
  "kernelspec": {
   "display_name": "Python 3 (ipykernel)",
   "language": "python",
   "name": "python3"
  },
  "language_info": {
   "codemirror_mode": {
    "name": "ipython",
    "version": 3
   },
   "file_extension": ".py",
   "mimetype": "text/x-python",
   "name": "python",
   "nbconvert_exporter": "python",
   "pygments_lexer": "ipython3",
   "version": "3.8.12"
  },
  "papermill": {
   "default_parameters": {},
   "duration": 771.334375,
   "end_time": "2022-03-10T17:49:22.146362",
   "environment_variables": {},
   "exception": null,
   "input_path": "template-3-index-genomes.ipynb",
   "output_path": "3-index-genomes.case-10.ipynb",
   "parameters": {
    "build_tree": true,
    "cases_dir": "cases/case-10",
    "iterations": 3,
    "number_samples": 10
   },
   "start_time": "2022-03-10T17:36:30.811987",
   "version": "2.3.3"
  }
 },
 "nbformat": 4,
 "nbformat_minor": 5
}