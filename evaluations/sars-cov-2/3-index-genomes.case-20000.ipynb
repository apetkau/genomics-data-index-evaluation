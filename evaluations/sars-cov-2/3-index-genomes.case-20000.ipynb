{
 "cells": [
  {
   "cell_type": "markdown",
   "id": "7d3667b4-b1f8-4347-96e3-830c25b06740",
   "metadata": {
    "papermill": {
     "duration": 0.015432,
     "end_time": "2021-09-09T04:01:59.577367",
     "exception": false,
     "start_time": "2021-09-09T04:01:59.561935",
     "status": "completed"
    },
    "tags": []
   },
   "source": [
    "# 1. Parameters"
   ]
  },
  {
   "cell_type": "code",
   "execution_count": 1,
   "id": "d4ab0749-b286-4c34-b63c-a854e4952bae",
   "metadata": {
    "execution": {
     "iopub.execute_input": "2021-09-09T04:01:59.609232Z",
     "iopub.status.busy": "2021-09-09T04:01:59.608081Z",
     "iopub.status.idle": "2021-09-09T04:01:59.612925Z",
     "shell.execute_reply": "2021-09-09T04:01:59.613785Z"
    },
    "papermill": {
     "duration": 0.027908,
     "end_time": "2021-09-09T04:01:59.614200",
     "exception": false,
     "start_time": "2021-09-09T04:01:59.586292",
     "status": "completed"
    },
    "tags": [
     "parameters"
    ]
   },
   "outputs": [],
   "source": [
    "# Defaults\n",
    "cases_dir = 'cases/unset'\n",
    "reference_file = 'references/NC_045512.gbk.gz'\n",
    "input_files_all = 'input/input-files.tsv'\n",
    "iterations = 3\n",
    "mincov = 10\n",
    "ncores = 32\n",
    "number_samples = 10\n",
    "build_tree = False"
   ]
  },
  {
   "cell_type": "code",
   "execution_count": 2,
   "id": "3abddfe3",
   "metadata": {
    "execution": {
     "iopub.execute_input": "2021-09-09T04:01:59.642630Z",
     "iopub.status.busy": "2021-09-09T04:01:59.642130Z",
     "iopub.status.idle": "2021-09-09T04:01:59.645704Z",
     "shell.execute_reply": "2021-09-09T04:01:59.646118Z"
    },
    "papermill": {
     "duration": 0.018136,
     "end_time": "2021-09-09T04:01:59.646264",
     "exception": false,
     "start_time": "2021-09-09T04:01:59.628128",
     "status": "completed"
    },
    "tags": [
     "injected-parameters"
    ]
   },
   "outputs": [],
   "source": [
    "# Parameters\n",
    "cases_dir = \"cases/case-20000\"\n",
    "iterations = 3\n",
    "number_samples = 20000\n",
    "build_tree = False\n"
   ]
  },
  {
   "cell_type": "code",
   "execution_count": 3,
   "id": "ce5962e4-261c-4210-b39b-47044e28466b",
   "metadata": {
    "execution": {
     "iopub.execute_input": "2021-09-09T04:01:59.687648Z",
     "iopub.status.busy": "2021-09-09T04:01:59.686650Z",
     "iopub.status.idle": "2021-09-09T04:02:02.164235Z",
     "shell.execute_reply": "2021-09-09T04:02:02.163226Z"
    },
    "papermill": {
     "duration": 2.50566,
     "end_time": "2021-09-09T04:02:02.164495",
     "exception": false,
     "start_time": "2021-09-09T04:01:59.658835",
     "status": "completed"
    },
    "tags": []
   },
   "outputs": [],
   "source": [
    "from pathlib import Path\n",
    "from shutil import rmtree\n",
    "from os import makedirs\n",
    "import imp\n",
    "fp, pathname, description = imp.find_module('gdi_benchmark', ['../../lib'])\n",
    "gdi_benchmark = imp.load_module('gdi_benchmark', fp, pathname, description)\n",
    "\n",
    "cases_dir_path = Path(cases_dir)\n",
    "\n",
    "if cases_dir_path.exists():\n",
    "    rmtree(cases_dir_path)\n",
    "    \n",
    "if not cases_dir_path.exists():\n",
    "    makedirs(cases_dir_path)\n",
    "\n",
    "input_files_all = Path(input_files_all)\n",
    "reference_file = Path(reference_file)\n",
    "\n",
    "case_name = str(cases_dir_path.name)\n",
    "reference_name = reference_file.name.split('.')[0]\n",
    "\n",
    "cases_input = cases_dir_path / 'input-files-case.tsv'\n",
    "index_path = cases_dir_path / 'index'\n",
    "benchmark_path = cases_dir_path / 'index-info.tsv'\n",
    "output_tree = cases_dir_path / 'tree.tre'"
   ]
  },
  {
   "cell_type": "markdown",
   "id": "1673d80f-b52a-4b68-b400-355540495e15",
   "metadata": {
    "papermill": {
     "duration": 0.009054,
     "end_time": "2021-09-09T04:02:02.188013",
     "exception": false,
     "start_time": "2021-09-09T04:02:02.178959",
     "status": "completed"
    },
    "tags": []
   },
   "source": [
    "# 2. Create subset input"
   ]
  },
  {
   "cell_type": "code",
   "execution_count": 4,
   "id": "4e66adb1-3ef7-45d1-8e46-723dcb9d0c31",
   "metadata": {
    "execution": {
     "iopub.execute_input": "2021-09-09T04:02:02.209052Z",
     "iopub.status.busy": "2021-09-09T04:02:02.208641Z",
     "iopub.status.idle": "2021-09-09T04:02:02.556804Z",
     "shell.execute_reply": "2021-09-09T04:02:02.557698Z"
    },
    "papermill": {
     "duration": 0.363399,
     "end_time": "2021-09-09T04:02:02.558000",
     "exception": false,
     "start_time": "2021-09-09T04:02:02.194601",
     "status": "completed"
    },
    "tags": []
   },
   "outputs": [
    {
     "name": "stdout",
     "output_type": "stream",
     "text": [
      "Wrote 20000/100000 samples to cases/case-20000/input-files-case.tsv\n"
     ]
    }
   ],
   "source": [
    "import pandas as pd\n",
    "\n",
    "all_input_df = pd.read_csv(input_files_all, sep='\\t')\n",
    "all_input_total = len(all_input_df)\n",
    "\n",
    "subset_input_df = all_input_df.head(number_samples)\n",
    "subset_input_total = len(subset_input_df)\n",
    "\n",
    "subset_input_df.to_csv(cases_input, sep='\\t', index=False)\n",
    "\n",
    "print(f'Wrote {subset_input_total}/{all_input_total} samples to {cases_input}')"
   ]
  },
  {
   "cell_type": "markdown",
   "id": "f208279e-7558-47fc-9362-da29df92828a",
   "metadata": {
    "papermill": {
     "duration": 0.007979,
     "end_time": "2021-09-09T04:02:02.579449",
     "exception": false,
     "start_time": "2021-09-09T04:02:02.571470",
     "status": "completed"
    },
    "tags": []
   },
   "source": [
    "# 2. Index genomes"
   ]
  },
  {
   "cell_type": "code",
   "execution_count": 5,
   "id": "4e936f7c-2fcd-4188-b0e6-6b3ceb5cdcd2",
   "metadata": {
    "execution": {
     "iopub.execute_input": "2021-09-09T04:02:02.608220Z",
     "iopub.status.busy": "2021-09-09T04:02:02.607689Z",
     "iopub.status.idle": "2021-09-09T04:02:05.543193Z",
     "shell.execute_reply": "2021-09-09T04:02:05.544135Z"
    },
    "papermill": {
     "duration": 2.958601,
     "end_time": "2021-09-09T04:02:05.544450",
     "exception": false,
     "start_time": "2021-09-09T04:02:02.585849",
     "status": "completed"
    },
    "tags": []
   },
   "outputs": [
    {
     "name": "stdout",
     "output_type": "stream",
     "text": [
      "gdi, version 0.3.0.dev12\r\n"
     ]
    }
   ],
   "source": [
    "!gdi --version"
   ]
  },
  {
   "cell_type": "markdown",
   "id": "5409ecf8-2158-4361-9d2f-6b1a6c7c63a6",
   "metadata": {
    "papermill": {
     "duration": 0.00916,
     "end_time": "2021-09-09T04:02:05.569079",
     "exception": false,
     "start_time": "2021-09-09T04:02:05.559919",
     "status": "completed"
    },
    "tags": []
   },
   "source": [
    "## 2.1. Index reads"
   ]
  },
  {
   "cell_type": "code",
   "execution_count": 6,
   "id": "3d63e861-733e-46f2-8bce-bd1a2c7c7058",
   "metadata": {
    "execution": {
     "iopub.execute_input": "2021-09-09T04:02:05.594953Z",
     "iopub.status.busy": "2021-09-09T04:02:05.591112Z",
     "iopub.status.idle": "2021-09-09T11:42:00.499957Z",
     "shell.execute_reply": "2021-09-09T11:42:00.498780Z"
    },
    "papermill": {
     "duration": 27594.924,
     "end_time": "2021-09-09T11:42:00.500317",
     "exception": false,
     "start_time": "2021-09-09T04:02:05.576317",
     "status": "completed"
    },
    "tags": []
   },
   "outputs": [
    {
     "name": "stdout",
     "output_type": "stream",
     "text": [
      "\n",
      "Iteration 1 of index/analysis of 20000 samples with 32 cores\n",
      "Removing any extra snakemake directories: ['snakemake-assemblies.1631155580.1447754']\n"
     ]
    },
    {
     "name": "stdout",
     "output_type": "stream",
     "text": [
      "Creating new index: [gdi init cases/case-20000/index]\n"
     ]
    },
    {
     "name": "stdout",
     "output_type": "stream",
     "text": [
      "Creating a new index took 2.82 seconds\n",
      "Analysis running: [gdi --project-dir cases/case-20000/index --ncores 32 analysis --use-conda --no-load-data --reference-file references/NC_045512.gbk.gz --kmer-size 31 --kmer-size 51 --kmer-size 71 --include-kmer --reads-mincov 10 --input-structured-genomes-file cases/case-20000/input-files-case.tsv]\n"
     ]
    },
    {
     "name": "stdout",
     "output_type": "stream",
     "text": [
      "Analysis took 129.94 minutes\n",
      "Index running: [gdi --project-dir cases/case-20000/index --ncores 32 load vcf-kmer --reference-file references/NC_045512.gbk.gz /home/CSCScience.ca/apetkau/workspace/genomics-data-index-evaluation/evaluations/sars-cov-2/snakemake-assemblies.1631160136.7038777/gdi-input.fofn]\n"
     ]
    },
    {
     "name": "stdout",
     "output_type": "stream",
     "text": [
      "Indexing took 22.00 minutes\n"
     ]
    },
    {
     "name": "stderr",
     "output_type": "stream",
     "text": [
      "A reminder to myself to look for a Python solution for directory sizes (instead of running `du`)\n"
     ]
    },
    {
     "name": "stdout",
     "output_type": "stream",
     "text": [
      "\n",
      "Iteration 2 of index/analysis of 20000 samples with 32 cores\n",
      "Removing any extra snakemake directories: ['snakemake-assemblies.1631160136.7038777']\n"
     ]
    },
    {
     "name": "stdout",
     "output_type": "stream",
     "text": [
      "Removing any existing indexes cases/case-20000/index\n"
     ]
    },
    {
     "name": "stdout",
     "output_type": "stream",
     "text": [
      "Creating new index: [gdi init cases/case-20000/index]\n"
     ]
    },
    {
     "name": "stdout",
     "output_type": "stream",
     "text": [
      "Creating a new index took 3.83 seconds\n",
      "Analysis running: [gdi --project-dir cases/case-20000/index --ncores 32 analysis --use-conda --no-load-data --reference-file references/NC_045512.gbk.gz --kmer-size 31 --kmer-size 51 --kmer-size 71 --include-kmer --reads-mincov 10 --input-structured-genomes-file cases/case-20000/input-files-case.tsv]\n"
     ]
    },
    {
     "name": "stdout",
     "output_type": "stream",
     "text": [
      "Analysis took 131.52 minutes\n",
      "Index running: [gdi --project-dir cases/case-20000/index --ncores 32 load vcf-kmer --reference-file references/NC_045512.gbk.gz /home/CSCScience.ca/apetkau/workspace/genomics-data-index-evaluation/evaluations/sars-cov-2/snakemake-assemblies.1631169272.0559695/gdi-input.fofn]\n"
     ]
    },
    {
     "name": "stdout",
     "output_type": "stream",
     "text": [
      "Indexing took 23.37 minutes\n"
     ]
    },
    {
     "name": "stderr",
     "output_type": "stream",
     "text": [
      "Attempting to set global database_path_translator=<genomics_data_index.storage.model.db.DatabasePathTranslator.DatabasePathTranslator object at 0x7f41a8ac5490> but it is already set\n"
     ]
    },
    {
     "name": "stderr",
     "output_type": "stream",
     "text": [
      "A reminder to myself to look for a Python solution for directory sizes (instead of running `du`)\n"
     ]
    },
    {
     "name": "stdout",
     "output_type": "stream",
     "text": [
      "\n",
      "Iteration 3 of index/analysis of 20000 samples with 32 cores\n",
      "Removing any extra snakemake directories: ['snakemake-assemblies.1631169272.0559695']\n"
     ]
    },
    {
     "name": "stdout",
     "output_type": "stream",
     "text": [
      "Removing any existing indexes cases/case-20000/index\n"
     ]
    },
    {
     "name": "stdout",
     "output_type": "stream",
     "text": [
      "Creating new index: [gdi init cases/case-20000/index]\n"
     ]
    },
    {
     "name": "stdout",
     "output_type": "stream",
     "text": [
      "Creating a new index took 3.23 seconds\n",
      "Analysis running: [gdi --project-dir cases/case-20000/index --ncores 32 analysis --use-conda --no-load-data --reference-file references/NC_045512.gbk.gz --kmer-size 31 --kmer-size 51 --kmer-size 71 --include-kmer --reads-mincov 10 --input-structured-genomes-file cases/case-20000/input-files-case.tsv]\n"
     ]
    },
    {
     "name": "stdout",
     "output_type": "stream",
     "text": [
      "Analysis took 129.88 minutes\n",
      "Index running: [gdi --project-dir cases/case-20000/index --ncores 32 load vcf-kmer --reference-file references/NC_045512.gbk.gz /home/CSCScience.ca/apetkau/workspace/genomics-data-index-evaluation/evaluations/sars-cov-2/snakemake-assemblies.1631178584.174109/gdi-input.fofn]\n"
     ]
    },
    {
     "name": "stdout",
     "output_type": "stream",
     "text": [
      "Indexing took 22.35 minutes\n"
     ]
    },
    {
     "name": "stderr",
     "output_type": "stream",
     "text": [
      "Attempting to set global database_path_translator=<genomics_data_index.storage.model.db.DatabasePathTranslator.DatabasePathTranslator object at 0x7f41a8ac5f10> but it is already set\n"
     ]
    },
    {
     "name": "stderr",
     "output_type": "stream",
     "text": [
      "A reminder to myself to look for a Python solution for directory sizes (instead of running `du`)\n"
     ]
    }
   ],
   "source": [
    "results_handler = gdi_benchmark.BenchmarkResultsHandler(name=case_name)\n",
    "benchmarker = gdi_benchmark.IndexBenchmarker(benchmark_results_handler=results_handler,\n",
    "                                             index_path=index_path, input_files_file=cases_input,\n",
    "                                             reference_file=reference_file, mincov=mincov,\n",
    "                                             build_tree=build_tree,\n",
    "                                             ncores=ncores)\n",
    "\n",
    "benchmark_df = benchmarker.benchmark(iterations=iterations)"
   ]
  },
  {
   "cell_type": "code",
   "execution_count": 7,
   "id": "3bcb6da7-0164-47f2-abdd-a4c159da1e3b",
   "metadata": {
    "execution": {
     "iopub.execute_input": "2021-09-09T11:42:00.546519Z",
     "iopub.status.busy": "2021-09-09T11:42:00.546054Z",
     "iopub.status.idle": "2021-09-09T11:42:00.576549Z",
     "shell.execute_reply": "2021-09-09T11:42:00.577470Z"
    },
    "papermill": {
     "duration": 0.055867,
     "end_time": "2021-09-09T11:42:00.577739",
     "exception": false,
     "start_time": "2021-09-09T11:42:00.521872",
     "status": "completed"
    },
    "tags": []
   },
   "outputs": [
    {
     "data": {
      "text/html": [
       "<div>\n",
       "<style scoped>\n",
       "    .dataframe tbody tr th:only-of-type {\n",
       "        vertical-align: middle;\n",
       "    }\n",
       "\n",
       "    .dataframe tbody tr th {\n",
       "        vertical-align: top;\n",
       "    }\n",
       "\n",
       "    .dataframe thead th {\n",
       "        text-align: right;\n",
       "    }\n",
       "</style>\n",
       "<table border=\"1\" class=\"dataframe\">\n",
       "  <thead>\n",
       "    <tr style=\"text-align: right;\">\n",
       "      <th></th>\n",
       "      <th>Name</th>\n",
       "      <th>Iteration</th>\n",
       "      <th>Number samples</th>\n",
       "      <th>Number features (all)</th>\n",
       "      <th>Number features (no unknown)</th>\n",
       "      <th>Number cores</th>\n",
       "      <th>Reference length</th>\n",
       "      <th>Analysis runtime</th>\n",
       "      <th>Analysis memory (max)</th>\n",
       "      <th>Analysis memory (max/process)</th>\n",
       "      <th>Analysis disk uage</th>\n",
       "      <th>Index runtime</th>\n",
       "      <th>Index memory (max)</th>\n",
       "      <th>Index memory (max/process)</th>\n",
       "      <th>Index size</th>\n",
       "      <th>Tree runtime</th>\n",
       "      <th>Tree memory (max)</th>\n",
       "      <th>Tree memory (max/process)</th>\n",
       "      <th>Total runtime</th>\n",
       "      <th>Max memory</th>\n",
       "    </tr>\n",
       "  </thead>\n",
       "  <tbody>\n",
       "    <tr>\n",
       "      <th>0</th>\n",
       "      <td>case-20000</td>\n",
       "      <td>1</td>\n",
       "      <td>20000</td>\n",
       "      <td>45667</td>\n",
       "      <td>15764</td>\n",
       "      <td>32</td>\n",
       "      <td>29903</td>\n",
       "      <td>7745.0</td>\n",
       "      <td>2.200769e+09</td>\n",
       "      <td>1.908646e+09</td>\n",
       "      <td>7.170032e+09</td>\n",
       "      <td>1319.83</td>\n",
       "      <td>3.614233e+10</td>\n",
       "      <td>2.383262e+09</td>\n",
       "      <td>365797376.0</td>\n",
       "      <td>&lt;NA&gt;</td>\n",
       "      <td>&lt;NA&gt;</td>\n",
       "      <td>&lt;NA&gt;</td>\n",
       "      <td>9064.83</td>\n",
       "      <td>3.614233e+10</td>\n",
       "    </tr>\n",
       "    <tr>\n",
       "      <th>0</th>\n",
       "      <td>case-20000</td>\n",
       "      <td>2</td>\n",
       "      <td>20000</td>\n",
       "      <td>45667</td>\n",
       "      <td>15764</td>\n",
       "      <td>32</td>\n",
       "      <td>29903</td>\n",
       "      <td>7863.0</td>\n",
       "      <td>2.199781e+09</td>\n",
       "      <td>1.908212e+09</td>\n",
       "      <td>7.169950e+09</td>\n",
       "      <td>1402.24</td>\n",
       "      <td>3.612909e+10</td>\n",
       "      <td>2.401157e+09</td>\n",
       "      <td>366092288.0</td>\n",
       "      <td>&lt;NA&gt;</td>\n",
       "      <td>&lt;NA&gt;</td>\n",
       "      <td>&lt;NA&gt;</td>\n",
       "      <td>9265.24</td>\n",
       "      <td>3.612909e+10</td>\n",
       "    </tr>\n",
       "    <tr>\n",
       "      <th>0</th>\n",
       "      <td>case-20000</td>\n",
       "      <td>3</td>\n",
       "      <td>20000</td>\n",
       "      <td>45667</td>\n",
       "      <td>15764</td>\n",
       "      <td>32</td>\n",
       "      <td>29903</td>\n",
       "      <td>7745.0</td>\n",
       "      <td>2.201899e+09</td>\n",
       "      <td>1.908556e+09</td>\n",
       "      <td>7.169745e+09</td>\n",
       "      <td>1341.05</td>\n",
       "      <td>3.469868e+10</td>\n",
       "      <td>2.359579e+09</td>\n",
       "      <td>366034944.0</td>\n",
       "      <td>&lt;NA&gt;</td>\n",
       "      <td>&lt;NA&gt;</td>\n",
       "      <td>&lt;NA&gt;</td>\n",
       "      <td>9086.05</td>\n",
       "      <td>3.469868e+10</td>\n",
       "    </tr>\n",
       "  </tbody>\n",
       "</table>\n",
       "</div>"
      ],
      "text/plain": [
       "         Name  Iteration  Number samples  Number features (all)  \\\n",
       "0  case-20000          1           20000                  45667   \n",
       "0  case-20000          2           20000                  45667   \n",
       "0  case-20000          3           20000                  45667   \n",
       "\n",
       "   Number features (no unknown)  Number cores  Reference length  \\\n",
       "0                         15764            32             29903   \n",
       "0                         15764            32             29903   \n",
       "0                         15764            32             29903   \n",
       "\n",
       "   Analysis runtime  Analysis memory (max)  Analysis memory (max/process)  \\\n",
       "0            7745.0           2.200769e+09                   1.908646e+09   \n",
       "0            7863.0           2.199781e+09                   1.908212e+09   \n",
       "0            7745.0           2.201899e+09                   1.908556e+09   \n",
       "\n",
       "   Analysis disk uage  Index runtime  Index memory (max)  \\\n",
       "0        7.170032e+09        1319.83        3.614233e+10   \n",
       "0        7.169950e+09        1402.24        3.612909e+10   \n",
       "0        7.169745e+09        1341.05        3.469868e+10   \n",
       "\n",
       "   Index memory (max/process)   Index size Tree runtime Tree memory (max)  \\\n",
       "0                2.383262e+09  365797376.0         <NA>              <NA>   \n",
       "0                2.401157e+09  366092288.0         <NA>              <NA>   \n",
       "0                2.359579e+09  366034944.0         <NA>              <NA>   \n",
       "\n",
       "  Tree memory (max/process)  Total runtime    Max memory  \n",
       "0                      <NA>        9064.83  3.614233e+10  \n",
       "0                      <NA>        9265.24  3.612909e+10  \n",
       "0                      <NA>        9086.05  3.469868e+10  "
      ]
     },
     "execution_count": 7,
     "metadata": {},
     "output_type": "execute_result"
    }
   ],
   "source": [
    "benchmark_df"
   ]
  },
  {
   "cell_type": "code",
   "execution_count": 8,
   "id": "535a9ccc-ab9c-4919-806f-128e1efd2389",
   "metadata": {
    "execution": {
     "iopub.execute_input": "2021-09-09T11:42:00.617198Z",
     "iopub.status.busy": "2021-09-09T11:42:00.616804Z",
     "iopub.status.idle": "2021-09-09T11:42:00.622964Z",
     "shell.execute_reply": "2021-09-09T11:42:00.622543Z"
    },
    "papermill": {
     "duration": 0.023262,
     "end_time": "2021-09-09T11:42:00.623071",
     "exception": false,
     "start_time": "2021-09-09T11:42:00.599809",
     "status": "completed"
    },
    "tags": []
   },
   "outputs": [],
   "source": [
    "benchmark_df.to_csv(benchmark_path, sep='\\t', index=False)"
   ]
  },
  {
   "cell_type": "markdown",
   "id": "6cb7673b-9f85-4c43-b2e2-93538497a196",
   "metadata": {
    "papermill": {
     "duration": 0.011061,
     "end_time": "2021-09-09T11:42:00.647973",
     "exception": false,
     "start_time": "2021-09-09T11:42:00.636912",
     "status": "completed"
    },
    "tags": []
   },
   "source": [
    "# 3. Export trees"
   ]
  },
  {
   "cell_type": "code",
   "execution_count": 9,
   "id": "5280f82c-5434-4391-8c44-b937a7c95bd5",
   "metadata": {
    "execution": {
     "iopub.execute_input": "2021-09-09T11:42:00.675243Z",
     "iopub.status.busy": "2021-09-09T11:42:00.674847Z",
     "iopub.status.idle": "2021-09-09T11:42:00.678865Z",
     "shell.execute_reply": "2021-09-09T11:42:00.679188Z"
    },
    "papermill": {
     "duration": 0.021258,
     "end_time": "2021-09-09T11:42:00.679313",
     "exception": false,
     "start_time": "2021-09-09T11:42:00.658055",
     "status": "completed"
    },
    "tags": []
   },
   "outputs": [
    {
     "name": "stdout",
     "output_type": "stream",
     "text": [
      "build_tree=False so no tree to export\n"
     ]
    }
   ],
   "source": [
    "if build_tree:\n",
    "    !gdi --project-dir {index_path} export tree {reference_name} > {output_tree}\n",
    "    print(f'Wrote tree to {output_tree}')\n",
    "else:\n",
    "    print(f'build_tree={build_tree} so no tree to export')"
   ]
  }
 ],
 "metadata": {
  "kernelspec": {
   "display_name": "Python 3 (ipykernel)",
   "language": "python",
   "name": "python3"
  },
  "language_info": {
   "codemirror_mode": {
    "name": "ipython",
    "version": 3
   },
   "file_extension": ".py",
   "mimetype": "text/x-python",
   "name": "python",
   "nbconvert_exporter": "python",
   "pygments_lexer": "ipython3",
   "version": "3.8.10"
  },
  "papermill": {
   "default_parameters": {},
   "duration": 27602.456786,
   "end_time": "2021-09-09T11:42:01.203872",
   "environment_variables": {},
   "exception": null,
   "input_path": "template-3-index-genomes.ipynb",
   "output_path": "3-index-genomes.case-20000.ipynb",
   "parameters": {
    "build_tree": false,
    "cases_dir": "cases/case-20000",
    "iterations": 3,
    "number_samples": 20000
   },
   "start_time": "2021-09-09T04:01:58.747086",
   "version": "2.3.3"
  }
 },
 "nbformat": 4,
 "nbformat_minor": 5
}