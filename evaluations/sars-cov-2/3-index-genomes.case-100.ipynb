{
 "cells": [
  {
   "cell_type": "markdown",
   "id": "7d3667b4-b1f8-4347-96e3-830c25b06740",
   "metadata": {
    "papermill": {
     "duration": 0.015209,
     "end_time": "2022-03-10T18:26:30.596198",
     "exception": false,
     "start_time": "2022-03-10T18:26:30.580989",
     "status": "completed"
    },
    "tags": []
   },
   "source": [
    "# 1. Parameters"
   ]
  },
  {
   "cell_type": "code",
   "execution_count": 1,
   "id": "d4ab0749-b286-4c34-b63c-a854e4952bae",
   "metadata": {
    "execution": {
     "iopub.execute_input": "2022-03-10T18:26:30.627394Z",
     "iopub.status.busy": "2022-03-10T18:26:30.626844Z",
     "iopub.status.idle": "2022-03-10T18:26:30.631684Z",
     "shell.execute_reply": "2022-03-10T18:26:30.632232Z"
    },
    "papermill": {
     "duration": 0.027442,
     "end_time": "2022-03-10T18:26:30.632536",
     "exception": false,
     "start_time": "2022-03-10T18:26:30.605094",
     "status": "completed"
    },
    "tags": [
     "parameters"
    ]
   },
   "outputs": [],
   "source": [
    "# Defaults\n",
    "cases_dir = 'cases/unset'\n",
    "reference_file = 'references/NC_045512.gbk.gz'\n",
    "input_files_all = 'input/input-files.tsv'\n",
    "iterations = 3\n",
    "mincov = 10\n",
    "ncores = 32\n",
    "number_samples = 10\n",
    "build_tree = False\n",
    "sample_batch_size=2000"
   ]
  },
  {
   "cell_type": "code",
   "execution_count": 2,
   "id": "a609370e",
   "metadata": {
    "execution": {
     "iopub.execute_input": "2022-03-10T18:26:30.654781Z",
     "iopub.status.busy": "2022-03-10T18:26:30.654372Z",
     "iopub.status.idle": "2022-03-10T18:26:30.657041Z",
     "shell.execute_reply": "2022-03-10T18:26:30.657350Z"
    },
    "papermill": {
     "duration": 0.015144,
     "end_time": "2022-03-10T18:26:30.657456",
     "exception": false,
     "start_time": "2022-03-10T18:26:30.642312",
     "status": "completed"
    },
    "tags": [
     "injected-parameters"
    ]
   },
   "outputs": [],
   "source": [
    "# Parameters\n",
    "cases_dir = \"cases/case-100\"\n",
    "iterations = 3\n",
    "number_samples = 100\n",
    "build_tree = True\n"
   ]
  },
  {
   "cell_type": "code",
   "execution_count": 3,
   "id": "ce5962e4-261c-4210-b39b-47044e28466b",
   "metadata": {
    "execution": {
     "iopub.execute_input": "2022-03-10T18:26:30.679864Z",
     "iopub.status.busy": "2022-03-10T18:26:30.677144Z",
     "iopub.status.idle": "2022-03-10T18:26:33.025386Z",
     "shell.execute_reply": "2022-03-10T18:26:33.026266Z"
    },
    "papermill": {
     "duration": 2.363435,
     "end_time": "2022-03-10T18:26:33.026578",
     "exception": false,
     "start_time": "2022-03-10T18:26:30.663143",
     "status": "completed"
    },
    "tags": []
   },
   "outputs": [],
   "source": [
    "from pathlib import Path\n",
    "from shutil import rmtree\n",
    "from os import makedirs\n",
    "import imp\n",
    "fp, pathname, description = imp.find_module('gdi_benchmark', ['../../lib'])\n",
    "gdi_benchmark = imp.load_module('gdi_benchmark', fp, pathname, description)\n",
    "\n",
    "cases_dir_path = Path(cases_dir)\n",
    "\n",
    "if cases_dir_path.exists():\n",
    "    rmtree(cases_dir_path)\n",
    "    \n",
    "if not cases_dir_path.exists():\n",
    "    makedirs(cases_dir_path)\n",
    "\n",
    "input_files_all = Path(input_files_all)\n",
    "reference_file = Path(reference_file)\n",
    "\n",
    "case_name = str(cases_dir_path.name)\n",
    "reference_name = reference_file.name.split('.')[0]\n",
    "\n",
    "cases_input = cases_dir_path / 'input-files-case.tsv'\n",
    "index_path = cases_dir_path / 'index'\n",
    "benchmark_path = cases_dir_path / 'index-info.tsv'\n",
    "output_tree = cases_dir_path / 'tree.tre'"
   ]
  },
  {
   "cell_type": "markdown",
   "id": "1673d80f-b52a-4b68-b400-355540495e15",
   "metadata": {
    "papermill": {
     "duration": 0.009348,
     "end_time": "2022-03-10T18:26:33.050716",
     "exception": false,
     "start_time": "2022-03-10T18:26:33.041368",
     "status": "completed"
    },
    "tags": []
   },
   "source": [
    "# 2. Create subset input"
   ]
  },
  {
   "cell_type": "code",
   "execution_count": 4,
   "id": "4e66adb1-3ef7-45d1-8e46-723dcb9d0c31",
   "metadata": {
    "execution": {
     "iopub.execute_input": "2022-03-10T18:26:33.072183Z",
     "iopub.status.busy": "2022-03-10T18:26:33.071698Z",
     "iopub.status.idle": "2022-03-10T18:26:33.291900Z",
     "shell.execute_reply": "2022-03-10T18:26:33.292820Z"
    },
    "papermill": {
     "duration": 0.235747,
     "end_time": "2022-03-10T18:26:33.293118",
     "exception": false,
     "start_time": "2022-03-10T18:26:33.057371",
     "status": "completed"
    },
    "tags": []
   },
   "outputs": [
    {
     "name": "stdout",
     "output_type": "stream",
     "text": [
      "Wrote 100/100000 samples to cases/case-100/input-files-case.tsv\n"
     ]
    }
   ],
   "source": [
    "import pandas as pd\n",
    "\n",
    "all_input_df = pd.read_csv(input_files_all, sep='\\t')\n",
    "all_input_total = len(all_input_df)\n",
    "\n",
    "subset_input_df = all_input_df.head(number_samples)\n",
    "subset_input_total = len(subset_input_df)\n",
    "\n",
    "subset_input_df.to_csv(cases_input, sep='\\t', index=False)\n",
    "\n",
    "print(f'Wrote {subset_input_total}/{all_input_total} samples to {cases_input}')"
   ]
  },
  {
   "cell_type": "markdown",
   "id": "f208279e-7558-47fc-9362-da29df92828a",
   "metadata": {
    "papermill": {
     "duration": 0.00836,
     "end_time": "2022-03-10T18:26:33.315517",
     "exception": false,
     "start_time": "2022-03-10T18:26:33.307157",
     "status": "completed"
    },
    "tags": []
   },
   "source": [
    "# 2. Index genomes"
   ]
  },
  {
   "cell_type": "code",
   "execution_count": 5,
   "id": "4e936f7c-2fcd-4188-b0e6-6b3ceb5cdcd2",
   "metadata": {
    "execution": {
     "iopub.execute_input": "2022-03-10T18:26:33.345099Z",
     "iopub.status.busy": "2022-03-10T18:26:33.332994Z",
     "iopub.status.idle": "2022-03-10T18:26:36.145537Z",
     "shell.execute_reply": "2022-03-10T18:26:36.146516Z"
    },
    "papermill": {
     "duration": 2.824569,
     "end_time": "2022-03-10T18:26:36.146830",
     "exception": false,
     "start_time": "2022-03-10T18:26:33.322261",
     "status": "completed"
    },
    "tags": []
   },
   "outputs": [
    {
     "name": "stdout",
     "output_type": "stream",
     "text": [
      "gdi, version 0.6.0.dev2\r\n"
     ]
    }
   ],
   "source": [
    "!gdi --version"
   ]
  },
  {
   "cell_type": "markdown",
   "id": "5409ecf8-2158-4361-9d2f-6b1a6c7c63a6",
   "metadata": {
    "papermill": {
     "duration": 0.00993,
     "end_time": "2022-03-10T18:26:36.173679",
     "exception": false,
     "start_time": "2022-03-10T18:26:36.163749",
     "status": "completed"
    },
    "tags": []
   },
   "source": [
    "## 2.1. Index reads"
   ]
  },
  {
   "cell_type": "code",
   "execution_count": 6,
   "id": "3d63e861-733e-46f2-8bce-bd1a2c7c7058",
   "metadata": {
    "execution": {
     "iopub.execute_input": "2022-03-10T18:26:36.198931Z",
     "iopub.status.busy": "2022-03-10T18:26:36.198505Z",
     "iopub.status.idle": "2022-03-10T19:19:18.806063Z",
     "shell.execute_reply": "2022-03-10T19:19:18.804959Z"
    },
    "papermill": {
     "duration": 3162.625306,
     "end_time": "2022-03-10T19:19:18.806439",
     "exception": false,
     "start_time": "2022-03-10T18:26:36.181133",
     "status": "completed"
    },
    "tags": []
   },
   "outputs": [
    {
     "name": "stdout",
     "output_type": "stream",
     "text": [
      "\n",
      "Iteration 1 of index/analysis of 100 samples with 32 cores\n",
      "Removing any extra snakemake directories: ['snakemake-assemblies.1646936399.0579898']\n"
     ]
    },
    {
     "name": "stdout",
     "output_type": "stream",
     "text": [
      "Creating new index: [gdi init cases/case-100/index]\n"
     ]
    },
    {
     "name": "stdout",
     "output_type": "stream",
     "text": [
      "Creating a new index took 2.79 seconds\n",
      "Analysis running: [gdi --project-dir cases/case-100/index --ncores 32 analysis --use-conda --no-load-data --reference-file references/NC_045512.gbk.gz --kmer-size 31 --kmer-size 51 --kmer-size 71 --include-kmer --reads-mincov 10 --input-structured-genomes-file cases/case-100/input-files-case.tsv]\n"
     ]
    },
    {
     "name": "stdout",
     "output_type": "stream",
     "text": [
      "Analysis took 3.04 minutes\n",
      "Index running: [gdi --project-dir cases/case-100/index --ncores 32 load vcf-kmer --sample-batch-size 2000 --reference-file references/NC_045512.gbk.gz /home/CSCScience.ca/apetkau/workspace/genomics-data-index-evaluation/evaluations/sars-cov-2/snakemake-assemblies.1646936803.781608/gdi-input.fofn]\n"
     ]
    },
    {
     "name": "stdout",
     "output_type": "stream",
     "text": [
      "Indexing took 0.19 minutes\n",
      "Building tree: [gdi --project-dir cases/case-100/index --ncores 32 rebuild tree --align-type full --extra-params '--fast -m GTR+F+R4' NC_045512]\n"
     ]
    },
    {
     "name": "stdout",
     "output_type": "stream",
     "text": [
      "Building tree took 16.16 minutes\n"
     ]
    },
    {
     "name": "stderr",
     "output_type": "stream",
     "text": [
      "A reminder to myself to look for a Python solution for directory sizes (instead of running `du`)\n"
     ]
    },
    {
     "name": "stdout",
     "output_type": "stream",
     "text": [
      "\n",
      "Iteration 2 of index/analysis of 100 samples with 32 cores\n",
      "Removing any extra snakemake directories: ['snakemake-assemblies.1646936803.781608']\n"
     ]
    },
    {
     "name": "stdout",
     "output_type": "stream",
     "text": [
      "Removing any existing indexes cases/case-100/index\n",
      "Creating new index: [gdi init cases/case-100/index]\n"
     ]
    },
    {
     "name": "stdout",
     "output_type": "stream",
     "text": [
      "Creating a new index took 2.57 seconds\n",
      "Analysis running: [gdi --project-dir cases/case-100/index --ncores 32 analysis --use-conda --no-load-data --reference-file references/NC_045512.gbk.gz --kmer-size 31 --kmer-size 51 --kmer-size 71 --include-kmer --reads-mincov 10 --input-structured-genomes-file cases/case-100/input-files-case.tsv]\n"
     ]
    },
    {
     "name": "stdout",
     "output_type": "stream",
     "text": [
      "Analysis took 2.86 minutes\n",
      "Index running: [gdi --project-dir cases/case-100/index --ncores 32 load vcf-kmer --sample-batch-size 2000 --reference-file references/NC_045512.gbk.gz /home/CSCScience.ca/apetkau/workspace/genomics-data-index-evaluation/evaluations/sars-cov-2/snakemake-assemblies.1646937971.8502078/gdi-input.fofn]\n"
     ]
    },
    {
     "name": "stdout",
     "output_type": "stream",
     "text": [
      "Indexing took 0.19 minutes\n",
      "Building tree: [gdi --project-dir cases/case-100/index --ncores 32 rebuild tree --align-type full --extra-params '--fast -m GTR+F+R4' NC_045512]\n"
     ]
    },
    {
     "name": "stdout",
     "output_type": "stream",
     "text": [
      "Building tree took 14.19 minutes\n"
     ]
    },
    {
     "name": "stderr",
     "output_type": "stream",
     "text": [
      "Attempting to set global database_path_translator=<genomics_data_index.storage.model.db.DatabasePathTranslator.DatabasePathTranslator object at 0x7fc2c040a130> but it is already set\n"
     ]
    },
    {
     "name": "stderr",
     "output_type": "stream",
     "text": [
      "A reminder to myself to look for a Python solution for directory sizes (instead of running `du`)\n"
     ]
    },
    {
     "name": "stdout",
     "output_type": "stream",
     "text": [
      "\n",
      "Iteration 3 of index/analysis of 100 samples with 32 cores\n",
      "Removing any extra snakemake directories: ['snakemake-assemblies.1646937971.8502078']\n"
     ]
    },
    {
     "name": "stdout",
     "output_type": "stream",
     "text": [
      "Removing any existing indexes cases/case-100/index\n",
      "Creating new index: [gdi init cases/case-100/index]\n"
     ]
    },
    {
     "name": "stdout",
     "output_type": "stream",
     "text": [
      "Creating a new index took 2.87 seconds\n",
      "Analysis running: [gdi --project-dir cases/case-100/index --ncores 32 analysis --use-conda --no-load-data --reference-file references/NC_045512.gbk.gz --kmer-size 31 --kmer-size 51 --kmer-size 71 --include-kmer --reads-mincov 10 --input-structured-genomes-file cases/case-100/input-files-case.tsv]\n"
     ]
    },
    {
     "name": "stdout",
     "output_type": "stream",
     "text": [
      "Analysis took 2.78 minutes\n",
      "Index running: [gdi --project-dir cases/case-100/index --ncores 32 load vcf-kmer --sample-batch-size 2000 --reference-file references/NC_045512.gbk.gz /home/CSCScience.ca/apetkau/workspace/genomics-data-index-evaluation/evaluations/sars-cov-2/snakemake-assemblies.1646939011.2272263/gdi-input.fofn]\n"
     ]
    },
    {
     "name": "stdout",
     "output_type": "stream",
     "text": [
      "Indexing took 0.18 minutes\n",
      "Building tree: [gdi --project-dir cases/case-100/index --ncores 32 rebuild tree --align-type full --extra-params '--fast -m GTR+F+R4' NC_045512]\n"
     ]
    },
    {
     "name": "stdout",
     "output_type": "stream",
     "text": [
      "Building tree took 12.87 minutes\n"
     ]
    },
    {
     "name": "stderr",
     "output_type": "stream",
     "text": [
      "Attempting to set global database_path_translator=<genomics_data_index.storage.model.db.DatabasePathTranslator.DatabasePathTranslator object at 0x7fc29d0f5d00> but it is already set\n"
     ]
    },
    {
     "name": "stderr",
     "output_type": "stream",
     "text": [
      "A reminder to myself to look for a Python solution for directory sizes (instead of running `du`)\n"
     ]
    }
   ],
   "source": [
    "results_handler = gdi_benchmark.BenchmarkResultsHandler(name=case_name)\n",
    "benchmarker = gdi_benchmark.IndexBenchmarker(benchmark_results_handler=results_handler,\n",
    "                                             index_path=index_path, input_files_file=cases_input,\n",
    "                                             reference_file=reference_file, mincov=mincov,\n",
    "                                             build_tree=build_tree,\n",
    "                                             ncores=ncores,\n",
    "                                             sample_batch_size=sample_batch_size)\n",
    "\n",
    "benchmark_df = benchmarker.benchmark(iterations=iterations)"
   ]
  },
  {
   "cell_type": "code",
   "execution_count": 7,
   "id": "3bcb6da7-0164-47f2-abdd-a4c159da1e3b",
   "metadata": {
    "execution": {
     "iopub.execute_input": "2022-03-10T19:19:18.859870Z",
     "iopub.status.busy": "2022-03-10T19:19:18.859340Z",
     "iopub.status.idle": "2022-03-10T19:19:18.885415Z",
     "shell.execute_reply": "2022-03-10T19:19:18.886318Z"
    },
    "papermill": {
     "duration": 0.05663,
     "end_time": "2022-03-10T19:19:18.886590",
     "exception": false,
     "start_time": "2022-03-10T19:19:18.829960",
     "status": "completed"
    },
    "tags": []
   },
   "outputs": [
    {
     "data": {
      "text/html": [
       "<div>\n",
       "<style scoped>\n",
       "    .dataframe tbody tr th:only-of-type {\n",
       "        vertical-align: middle;\n",
       "    }\n",
       "\n",
       "    .dataframe tbody tr th {\n",
       "        vertical-align: top;\n",
       "    }\n",
       "\n",
       "    .dataframe thead th {\n",
       "        text-align: right;\n",
       "    }\n",
       "</style>\n",
       "<table border=\"1\" class=\"dataframe\">\n",
       "  <thead>\n",
       "    <tr style=\"text-align: right;\">\n",
       "      <th></th>\n",
       "      <th>Name</th>\n",
       "      <th>Reference name</th>\n",
       "      <th>Iteration</th>\n",
       "      <th>Number samples</th>\n",
       "      <th>Number features (all)</th>\n",
       "      <th>Number features (no unknown)</th>\n",
       "      <th>Number cores</th>\n",
       "      <th>Reference length</th>\n",
       "      <th>Analysis runtime</th>\n",
       "      <th>Analysis memory (max)</th>\n",
       "      <th>...</th>\n",
       "      <th>Analysis disk uage</th>\n",
       "      <th>Index runtime</th>\n",
       "      <th>Index memory (max)</th>\n",
       "      <th>Index memory (max/process)</th>\n",
       "      <th>Index size</th>\n",
       "      <th>Tree runtime</th>\n",
       "      <th>Tree memory (max)</th>\n",
       "      <th>Tree memory (max/process)</th>\n",
       "      <th>Total runtime</th>\n",
       "      <th>Max memory</th>\n",
       "    </tr>\n",
       "  </thead>\n",
       "  <tbody>\n",
       "    <tr>\n",
       "      <th>0</th>\n",
       "      <td>case-100</td>\n",
       "      <td>NC_045512</td>\n",
       "      <td>1</td>\n",
       "      <td>100</td>\n",
       "      <td>16351</td>\n",
       "      <td>374</td>\n",
       "      <td>32</td>\n",
       "      <td>29903</td>\n",
       "      <td>181.96</td>\n",
       "      <td>2.156261e+09</td>\n",
       "      <td>...</td>\n",
       "      <td>3.702071e+09</td>\n",
       "      <td>11.16</td>\n",
       "      <td>5.812109e+09</td>\n",
       "      <td>305737728.0</td>\n",
       "      <td>3948544.0</td>\n",
       "      <td>969.55</td>\n",
       "      <td>260771840.0</td>\n",
       "      <td>224681984.0</td>\n",
       "      <td>1162.67</td>\n",
       "      <td>5.812109e+09</td>\n",
       "    </tr>\n",
       "    <tr>\n",
       "      <th>0</th>\n",
       "      <td>case-100</td>\n",
       "      <td>NC_045512</td>\n",
       "      <td>2</td>\n",
       "      <td>100</td>\n",
       "      <td>16351</td>\n",
       "      <td>374</td>\n",
       "      <td>32</td>\n",
       "      <td>29903</td>\n",
       "      <td>171.34</td>\n",
       "      <td>1.523466e+09</td>\n",
       "      <td>...</td>\n",
       "      <td>3.702092e+09</td>\n",
       "      <td>11.15</td>\n",
       "      <td>5.812474e+09</td>\n",
       "      <td>304857088.0</td>\n",
       "      <td>3948544.0</td>\n",
       "      <td>851.03</td>\n",
       "      <td>260653056.0</td>\n",
       "      <td>225083392.0</td>\n",
       "      <td>1033.52</td>\n",
       "      <td>5.812474e+09</td>\n",
       "    </tr>\n",
       "    <tr>\n",
       "      <th>0</th>\n",
       "      <td>case-100</td>\n",
       "      <td>NC_045512</td>\n",
       "      <td>3</td>\n",
       "      <td>100</td>\n",
       "      <td>16351</td>\n",
       "      <td>374</td>\n",
       "      <td>32</td>\n",
       "      <td>29903</td>\n",
       "      <td>166.79</td>\n",
       "      <td>1.912377e+09</td>\n",
       "      <td>...</td>\n",
       "      <td>3.702100e+09</td>\n",
       "      <td>10.77</td>\n",
       "      <td>5.814776e+09</td>\n",
       "      <td>305958912.0</td>\n",
       "      <td>3952640.0</td>\n",
       "      <td>771.91</td>\n",
       "      <td>272039936.0</td>\n",
       "      <td>225132544.0</td>\n",
       "      <td>949.47</td>\n",
       "      <td>5.814776e+09</td>\n",
       "    </tr>\n",
       "  </tbody>\n",
       "</table>\n",
       "<p>3 rows × 21 columns</p>\n",
       "</div>"
      ],
      "text/plain": [
       "       Name Reference name  Iteration  Number samples  Number features (all)  \\\n",
       "0  case-100      NC_045512          1             100                  16351   \n",
       "0  case-100      NC_045512          2             100                  16351   \n",
       "0  case-100      NC_045512          3             100                  16351   \n",
       "\n",
       "   Number features (no unknown)  Number cores  Reference length  \\\n",
       "0                           374            32             29903   \n",
       "0                           374            32             29903   \n",
       "0                           374            32             29903   \n",
       "\n",
       "   Analysis runtime  Analysis memory (max)  ...  Analysis disk uage  \\\n",
       "0            181.96           2.156261e+09  ...        3.702071e+09   \n",
       "0            171.34           1.523466e+09  ...        3.702092e+09   \n",
       "0            166.79           1.912377e+09  ...        3.702100e+09   \n",
       "\n",
       "   Index runtime  Index memory (max)  Index memory (max/process)  Index size  \\\n",
       "0          11.16        5.812109e+09                 305737728.0   3948544.0   \n",
       "0          11.15        5.812474e+09                 304857088.0   3948544.0   \n",
       "0          10.77        5.814776e+09                 305958912.0   3952640.0   \n",
       "\n",
       "   Tree runtime  Tree memory (max)  Tree memory (max/process)  Total runtime  \\\n",
       "0        969.55        260771840.0                224681984.0        1162.67   \n",
       "0        851.03        260653056.0                225083392.0        1033.52   \n",
       "0        771.91        272039936.0                225132544.0         949.47   \n",
       "\n",
       "     Max memory  \n",
       "0  5.812109e+09  \n",
       "0  5.812474e+09  \n",
       "0  5.814776e+09  \n",
       "\n",
       "[3 rows x 21 columns]"
      ]
     },
     "execution_count": 7,
     "metadata": {},
     "output_type": "execute_result"
    }
   ],
   "source": [
    "benchmark_df"
   ]
  },
  {
   "cell_type": "code",
   "execution_count": 8,
   "id": "535a9ccc-ab9c-4919-806f-128e1efd2389",
   "metadata": {
    "execution": {
     "iopub.execute_input": "2022-03-10T19:19:18.922154Z",
     "iopub.status.busy": "2022-03-10T19:19:18.921767Z",
     "iopub.status.idle": "2022-03-10T19:19:18.926254Z",
     "shell.execute_reply": "2022-03-10T19:19:18.925942Z"
    },
    "papermill": {
     "duration": 0.020104,
     "end_time": "2022-03-10T19:19:18.926338",
     "exception": false,
     "start_time": "2022-03-10T19:19:18.906234",
     "status": "completed"
    },
    "tags": []
   },
   "outputs": [],
   "source": [
    "benchmark_df.to_csv(benchmark_path, sep='\\t', index=False)"
   ]
  },
  {
   "cell_type": "markdown",
   "id": "6cb7673b-9f85-4c43-b2e2-93538497a196",
   "metadata": {
    "papermill": {
     "duration": 0.010108,
     "end_time": "2022-03-10T19:19:18.946916",
     "exception": false,
     "start_time": "2022-03-10T19:19:18.936808",
     "status": "completed"
    },
    "tags": []
   },
   "source": [
    "# 3. Export trees"
   ]
  },
  {
   "cell_type": "code",
   "execution_count": 9,
   "id": "5280f82c-5434-4391-8c44-b937a7c95bd5",
   "metadata": {
    "execution": {
     "iopub.execute_input": "2022-03-10T19:19:18.974627Z",
     "iopub.status.busy": "2022-03-10T19:19:18.969787Z",
     "iopub.status.idle": "2022-03-10T19:19:21.829520Z",
     "shell.execute_reply": "2022-03-10T19:19:21.830385Z"
    },
    "papermill": {
     "duration": 2.873633,
     "end_time": "2022-03-10T19:19:21.830696",
     "exception": false,
     "start_time": "2022-03-10T19:19:18.957063",
     "status": "completed"
    },
    "tags": []
   },
   "outputs": [
    {
     "name": "stdout",
     "output_type": "stream",
     "text": [
      "Wrote tree to cases/case-100/tree.tre\n"
     ]
    }
   ],
   "source": [
    "if build_tree:\n",
    "    !gdi --project-dir {index_path} export tree {reference_name} > {output_tree}\n",
    "    print(f'Wrote tree to {output_tree}')\n",
    "else:\n",
    "    print(f'build_tree={build_tree} so no tree to export')"
   ]
  }
 ],
 "metadata": {
  "kernelspec": {
   "display_name": "Python 3 (ipykernel)",
   "language": "python",
   "name": "python3"
  },
  "language_info": {
   "codemirror_mode": {
    "name": "ipython",
    "version": 3
   },
   "file_extension": ".py",
   "mimetype": "text/x-python",
   "name": "python",
   "nbconvert_exporter": "python",
   "pygments_lexer": "ipython3",
   "version": "3.8.12"
  },
  "papermill": {
   "default_parameters": {},
   "duration": 3173.128484,
   "end_time": "2022-03-10T19:19:22.376901",
   "environment_variables": {},
   "exception": null,
   "input_path": "template-3-index-genomes.ipynb",
   "output_path": "3-index-genomes.case-100.ipynb",
   "parameters": {
    "build_tree": true,
    "cases_dir": "cases/case-100",
    "iterations": 3,
    "number_samples": 100
   },
   "start_time": "2022-03-10T18:26:29.248417",
   "version": "2.3.3"
  }
 },
 "nbformat": 4,
 "nbformat_minor": 5
}