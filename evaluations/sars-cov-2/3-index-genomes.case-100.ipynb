{
 "cells": [
  {
   "cell_type": "markdown",
   "id": "7d3667b4-b1f8-4347-96e3-830c25b06740",
   "metadata": {
    "papermill": {
     "duration": 0.016866,
     "end_time": "2021-09-08T03:19:22.153671",
     "exception": false,
     "start_time": "2021-09-08T03:19:22.136805",
     "status": "completed"
    },
    "tags": []
   },
   "source": [
    "# 1. Parameters"
   ]
  },
  {
   "cell_type": "code",
   "execution_count": 1,
   "id": "d4ab0749-b286-4c34-b63c-a854e4952bae",
   "metadata": {
    "execution": {
     "iopub.execute_input": "2021-09-08T03:19:22.184857Z",
     "iopub.status.busy": "2021-09-08T03:19:22.184269Z",
     "iopub.status.idle": "2021-09-08T03:19:22.189609Z",
     "shell.execute_reply": "2021-09-08T03:19:22.188942Z"
    },
    "papermill": {
     "duration": 0.026084,
     "end_time": "2021-09-08T03:19:22.189742",
     "exception": false,
     "start_time": "2021-09-08T03:19:22.163658",
     "status": "completed"
    },
    "tags": [
     "parameters"
    ]
   },
   "outputs": [],
   "source": [
    "# Defaults\n",
    "cases_dir = 'cases/unset'\n",
    "reference_file = 'references/NC_045512.gbk.gz'\n",
    "input_files_all = 'input/input-files.tsv'\n",
    "iterations = 3\n",
    "mincov = 10\n",
    "ncores = 32\n",
    "number_samples = 10"
   ]
  },
  {
   "cell_type": "code",
   "execution_count": 2,
   "id": "07677f14",
   "metadata": {
    "execution": {
     "iopub.execute_input": "2021-09-08T03:19:22.212584Z",
     "iopub.status.busy": "2021-09-08T03:19:22.212078Z",
     "iopub.status.idle": "2021-09-08T03:19:22.214708Z",
     "shell.execute_reply": "2021-09-08T03:19:22.215104Z"
    },
    "papermill": {
     "duration": 0.01623,
     "end_time": "2021-09-08T03:19:22.215229",
     "exception": false,
     "start_time": "2021-09-08T03:19:22.198999",
     "status": "completed"
    },
    "tags": [
     "injected-parameters"
    ]
   },
   "outputs": [],
   "source": [
    "# Parameters\n",
    "cases_dir = \"cases/case-100\"\n",
    "iterations = 3\n",
    "number_samples = 100\n"
   ]
  },
  {
   "cell_type": "code",
   "execution_count": 3,
   "id": "ce5962e4-261c-4210-b39b-47044e28466b",
   "metadata": {
    "execution": {
     "iopub.execute_input": "2021-09-08T03:19:22.239231Z",
     "iopub.status.busy": "2021-09-08T03:19:22.236405Z",
     "iopub.status.idle": "2021-09-08T03:19:24.720988Z",
     "shell.execute_reply": "2021-09-08T03:19:24.720000Z"
    },
    "papermill": {
     "duration": 2.499397,
     "end_time": "2021-09-08T03:19:24.721229",
     "exception": false,
     "start_time": "2021-09-08T03:19:22.221832",
     "status": "completed"
    },
    "tags": []
   },
   "outputs": [],
   "source": [
    "from pathlib import Path\n",
    "from shutil import rmtree\n",
    "from os import makedirs\n",
    "import imp\n",
    "fp, pathname, description = imp.find_module('gdi_benchmark', ['../../lib'])\n",
    "gdi_benchmark = imp.load_module('gdi_benchmark', fp, pathname, description)\n",
    "\n",
    "cases_dir_path = Path(cases_dir)\n",
    "\n",
    "if cases_dir_path.exists():\n",
    "    rmtree(cases_dir_path)\n",
    "    \n",
    "if not cases_dir_path.exists():\n",
    "    makedirs(cases_dir_path)\n",
    "\n",
    "input_files_all = Path(input_files_all)\n",
    "reference_file = Path(reference_file)\n",
    "\n",
    "case_name = str(cases_dir_path.name)\n",
    "reference_name = reference_file.name.split('.')[0]\n",
    "\n",
    "cases_input = cases_dir_path / 'input-files-case.tsv'\n",
    "index_path = cases_dir_path / 'index'\n",
    "benchmark_path = cases_dir_path / 'index-info.tsv'\n",
    "output_tree = cases_dir_path / 'tree.tre'"
   ]
  },
  {
   "cell_type": "markdown",
   "id": "1673d80f-b52a-4b68-b400-355540495e15",
   "metadata": {
    "papermill": {
     "duration": 0.00823,
     "end_time": "2021-09-08T03:19:24.743284",
     "exception": false,
     "start_time": "2021-09-08T03:19:24.735054",
     "status": "completed"
    },
    "tags": []
   },
   "source": [
    "# 2. Create subset input"
   ]
  },
  {
   "cell_type": "code",
   "execution_count": 4,
   "id": "4e66adb1-3ef7-45d1-8e46-723dcb9d0c31",
   "metadata": {
    "execution": {
     "iopub.execute_input": "2021-09-08T03:19:24.764576Z",
     "iopub.status.busy": "2021-09-08T03:19:24.763416Z",
     "iopub.status.idle": "2021-09-08T03:19:24.809366Z",
     "shell.execute_reply": "2021-09-08T03:19:24.810260Z"
    },
    "papermill": {
     "duration": 0.06061,
     "end_time": "2021-09-08T03:19:24.810521",
     "exception": false,
     "start_time": "2021-09-08T03:19:24.749911",
     "status": "completed"
    },
    "tags": []
   },
   "outputs": [
    {
     "name": "stdout",
     "output_type": "stream",
     "text": [
      "Wrote 100/10000 samples to cases/case-100/input-files-case.tsv\n"
     ]
    }
   ],
   "source": [
    "import pandas as pd\n",
    "\n",
    "all_input_df = pd.read_csv(input_files_all, sep='\\t')\n",
    "all_input_total = len(all_input_df)\n",
    "\n",
    "subset_input_df = all_input_df.head(number_samples)\n",
    "subset_input_total = len(subset_input_df)\n",
    "\n",
    "subset_input_df.to_csv(cases_input, sep='\\t', index=False)\n",
    "\n",
    "print(f'Wrote {subset_input_total}/{all_input_total} samples to {cases_input}')"
   ]
  },
  {
   "cell_type": "markdown",
   "id": "f208279e-7558-47fc-9362-da29df92828a",
   "metadata": {
    "papermill": {
     "duration": 0.009049,
     "end_time": "2021-09-08T03:19:24.834040",
     "exception": false,
     "start_time": "2021-09-08T03:19:24.824991",
     "status": "completed"
    },
    "tags": []
   },
   "source": [
    "# 2. Index genomes"
   ]
  },
  {
   "cell_type": "code",
   "execution_count": 5,
   "id": "4e936f7c-2fcd-4188-b0e6-6b3ceb5cdcd2",
   "metadata": {
    "execution": {
     "iopub.execute_input": "2021-09-08T03:19:24.863843Z",
     "iopub.status.busy": "2021-09-08T03:19:24.852354Z",
     "iopub.status.idle": "2021-09-08T03:19:27.665153Z",
     "shell.execute_reply": "2021-09-08T03:19:27.666090Z"
    },
    "papermill": {
     "duration": 2.825241,
     "end_time": "2021-09-08T03:19:27.666401",
     "exception": false,
     "start_time": "2021-09-08T03:19:24.841160",
     "status": "completed"
    },
    "tags": []
   },
   "outputs": [
    {
     "name": "stdout",
     "output_type": "stream",
     "text": [
      "gdi, version 0.3.0.dev11\r\n"
     ]
    }
   ],
   "source": [
    "!gdi --version"
   ]
  },
  {
   "cell_type": "markdown",
   "id": "5409ecf8-2158-4361-9d2f-6b1a6c7c63a6",
   "metadata": {
    "papermill": {
     "duration": 0.010215,
     "end_time": "2021-09-08T03:19:27.693306",
     "exception": false,
     "start_time": "2021-09-08T03:19:27.683091",
     "status": "completed"
    },
    "tags": []
   },
   "source": [
    "## 2.1. Index reads"
   ]
  },
  {
   "cell_type": "code",
   "execution_count": 6,
   "id": "3d63e861-733e-46f2-8bce-bd1a2c7c7058",
   "metadata": {
    "execution": {
     "iopub.execute_input": "2021-09-08T03:19:27.716307Z",
     "iopub.status.busy": "2021-09-08T03:19:27.715882Z",
     "iopub.status.idle": "2021-09-08T04:15:56.887901Z",
     "shell.execute_reply": "2021-09-08T04:15:56.887329Z"
    },
    "papermill": {
     "duration": 3389.18724,
     "end_time": "2021-09-08T04:15:56.888151",
     "exception": false,
     "start_time": "2021-09-08T03:19:27.700911",
     "status": "completed"
    },
    "tags": []
   },
   "outputs": [
    {
     "name": "stdout",
     "output_type": "stream",
     "text": [
      "\n",
      "Iteration 1 of index/analysis of 100 samples with 32 cores\n",
      "Removing any extra snakemake directories: ['snakemake-assemblies.1631070699.3527076']\n"
     ]
    },
    {
     "name": "stdout",
     "output_type": "stream",
     "text": [
      "Creating new index: [gdi init cases/case-100/index]\n"
     ]
    },
    {
     "name": "stdout",
     "output_type": "stream",
     "text": [
      "Creating a new index took 2.76 seconds\n",
      "Analysis running: [gdi --project-dir cases/case-100/index --ncores 32 analysis --use-conda --no-load-data --reference-file references/NC_045512.gbk.gz --kmer-size 31 --kmer-size 51 --kmer-size 71 --include-kmer --reads-mincov 10 --input-structured-genomes-file cases/case-100/input-files-case.tsv]\n"
     ]
    },
    {
     "name": "stdout",
     "output_type": "stream",
     "text": [
      "Analysis took 2.68 minutes\n",
      "Index running: [gdi --project-dir cases/case-100/index --ncores 32 load vcf-kmer --reference-file references/NC_045512.gbk.gz /home/CSCScience.ca/apetkau/workspace/genomics-data-index-evaluation/evaluations/sars-cov-2/snakemake-assemblies.1631071175.2822504/gdi-input.fofn]\n"
     ]
    },
    {
     "name": "stdout",
     "output_type": "stream",
     "text": [
      "Indexing took 0.16 minutes\n",
      "Building tree: [gdi --project-dir cases/case-100/index --ncores 32 rebuild tree --align-type full --extra-params '--fast -m GTR+F+R4' NC_045512]\n"
     ]
    },
    {
     "name": "stdout",
     "output_type": "stream",
     "text": [
      "Building tree took 16.82 minutes\n"
     ]
    },
    {
     "name": "stderr",
     "output_type": "stream",
     "text": [
      "A reminder to myself to look for a Python solution for directory sizes (instead of running `du`)\n"
     ]
    },
    {
     "name": "stdout",
     "output_type": "stream",
     "text": [
      "\n",
      "Iteration 2 of index/analysis of 100 samples with 32 cores\n",
      "Removing any extra snakemake directories: ['snakemake-assemblies.1631071175.2822504']\n"
     ]
    },
    {
     "name": "stdout",
     "output_type": "stream",
     "text": [
      "Removing any existing indexes cases/case-100/index\n",
      "Creating new index: [gdi init cases/case-100/index]\n"
     ]
    },
    {
     "name": "stdout",
     "output_type": "stream",
     "text": [
      "Creating a new index took 2.77 seconds\n",
      "Analysis running: [gdi --project-dir cases/case-100/index --ncores 32 analysis --use-conda --no-load-data --reference-file references/NC_045512.gbk.gz --kmer-size 31 --kmer-size 51 --kmer-size 71 --include-kmer --reads-mincov 10 --input-structured-genomes-file cases/case-100/input-files-case.tsv]\n"
     ]
    },
    {
     "name": "stdout",
     "output_type": "stream",
     "text": [
      "Analysis took 2.83 minutes\n",
      "Index running: [gdi --project-dir cases/case-100/index --ncores 32 load vcf-kmer --reference-file references/NC_045512.gbk.gz /home/CSCScience.ca/apetkau/workspace/genomics-data-index-evaluation/evaluations/sars-cov-2/snakemake-assemblies.1631072360.1355898/gdi-input.fofn]\n"
     ]
    },
    {
     "name": "stdout",
     "output_type": "stream",
     "text": [
      "Indexing took 0.17 minutes\n",
      "Building tree: [gdi --project-dir cases/case-100/index --ncores 32 rebuild tree --align-type full --extra-params '--fast -m GTR+F+R4' NC_045512]\n"
     ]
    },
    {
     "name": "stdout",
     "output_type": "stream",
     "text": [
      "Building tree took 15.88 minutes\n"
     ]
    },
    {
     "name": "stderr",
     "output_type": "stream",
     "text": [
      "Attempting to set global database_path_translator=<genomics_data_index.storage.model.db.DatabasePathTranslator.DatabasePathTranslator object at 0x7f4f8c846ca0> but it is already set\n"
     ]
    },
    {
     "name": "stderr",
     "output_type": "stream",
     "text": [
      "A reminder to myself to look for a Python solution for directory sizes (instead of running `du`)\n"
     ]
    },
    {
     "name": "stdout",
     "output_type": "stream",
     "text": [
      "\n",
      "Iteration 3 of index/analysis of 100 samples with 32 cores\n",
      "Removing any extra snakemake directories: ['snakemake-assemblies.1631072360.1355898']\n"
     ]
    },
    {
     "name": "stdout",
     "output_type": "stream",
     "text": [
      "Removing any existing indexes cases/case-100/index\n",
      "Creating new index: [gdi init cases/case-100/index]\n"
     ]
    },
    {
     "name": "stdout",
     "output_type": "stream",
     "text": [
      "Creating a new index took 2.70 seconds\n",
      "Analysis running: [gdi --project-dir cases/case-100/index --ncores 32 analysis --use-conda --no-load-data --reference-file references/NC_045512.gbk.gz --kmer-size 31 --kmer-size 51 --kmer-size 71 --include-kmer --reads-mincov 10 --input-structured-genomes-file cases/case-100/input-files-case.tsv]\n"
     ]
    },
    {
     "name": "stdout",
     "output_type": "stream",
     "text": [
      "Analysis took 2.81 minutes\n",
      "Index running: [gdi --project-dir cases/case-100/index --ncores 32 load vcf-kmer --reference-file references/NC_045512.gbk.gz /home/CSCScience.ca/apetkau/workspace/genomics-data-index-evaluation/evaluations/sars-cov-2/snakemake-assemblies.1631073497.3653932/gdi-input.fofn]\n"
     ]
    },
    {
     "name": "stdout",
     "output_type": "stream",
     "text": [
      "Indexing took 0.16 minutes\n",
      "Building tree: [gdi --project-dir cases/case-100/index --ncores 32 rebuild tree --align-type full --extra-params '--fast -m GTR+F+R4' NC_045512]\n"
     ]
    },
    {
     "name": "stdout",
     "output_type": "stream",
     "text": [
      "Building tree took 14.72 minutes\n"
     ]
    },
    {
     "name": "stderr",
     "output_type": "stream",
     "text": [
      "Attempting to set global database_path_translator=<genomics_data_index.storage.model.db.DatabasePathTranslator.DatabasePathTranslator object at 0x7f4f8cb2d970> but it is already set\n"
     ]
    },
    {
     "name": "stderr",
     "output_type": "stream",
     "text": [
      "A reminder to myself to look for a Python solution for directory sizes (instead of running `du`)\n"
     ]
    }
   ],
   "source": [
    "results_handler = gdi_benchmark.BenchmarkResultsHandler(name=case_name)\n",
    "benchmarker = gdi_benchmark.IndexBenchmarker(benchmark_results_handler=results_handler,\n",
    "                                             index_path=index_path, input_files_file=cases_input,\n",
    "                                             reference_file=reference_file, mincov=mincov, build_tree=True,\n",
    "                                             ncores=ncores)\n",
    "\n",
    "benchmark_df = benchmarker.benchmark(iterations=iterations)"
   ]
  },
  {
   "cell_type": "code",
   "execution_count": 7,
   "id": "3bcb6da7-0164-47f2-abdd-a4c159da1e3b",
   "metadata": {
    "execution": {
     "iopub.execute_input": "2021-09-08T04:15:56.916504Z",
     "iopub.status.busy": "2021-09-08T04:15:56.915777Z",
     "iopub.status.idle": "2021-09-08T04:15:56.932402Z",
     "shell.execute_reply": "2021-09-08T04:15:56.932709Z"
    },
    "papermill": {
     "duration": 0.033871,
     "end_time": "2021-09-08T04:15:56.932821",
     "exception": false,
     "start_time": "2021-09-08T04:15:56.898950",
     "status": "completed"
    },
    "tags": []
   },
   "outputs": [
    {
     "data": {
      "text/html": [
       "<div>\n",
       "<style scoped>\n",
       "    .dataframe tbody tr th:only-of-type {\n",
       "        vertical-align: middle;\n",
       "    }\n",
       "\n",
       "    .dataframe tbody tr th {\n",
       "        vertical-align: top;\n",
       "    }\n",
       "\n",
       "    .dataframe thead th {\n",
       "        text-align: right;\n",
       "    }\n",
       "</style>\n",
       "<table border=\"1\" class=\"dataframe\">\n",
       "  <thead>\n",
       "    <tr style=\"text-align: right;\">\n",
       "      <th></th>\n",
       "      <th>Name</th>\n",
       "      <th>Iteration</th>\n",
       "      <th>Number samples</th>\n",
       "      <th>Number features (all)</th>\n",
       "      <th>Number features (no unknown)</th>\n",
       "      <th>Number cores</th>\n",
       "      <th>Reference length</th>\n",
       "      <th>Analysis runtime</th>\n",
       "      <th>Analysis memory (max)</th>\n",
       "      <th>Analysis memory (max/process)</th>\n",
       "      <th>Analysis disk uage</th>\n",
       "      <th>Index runtime</th>\n",
       "      <th>Index memory (max)</th>\n",
       "      <th>Index memory (max/process)</th>\n",
       "      <th>Index size</th>\n",
       "      <th>Tree runtime</th>\n",
       "      <th>Tree memory (max)</th>\n",
       "      <th>Tree memory (max/process)</th>\n",
       "      <th>Total runtime</th>\n",
       "      <th>Max memory</th>\n",
       "    </tr>\n",
       "  </thead>\n",
       "  <tbody>\n",
       "    <tr>\n",
       "      <th>0</th>\n",
       "      <td>case-100</td>\n",
       "      <td>1</td>\n",
       "      <td>100</td>\n",
       "      <td>9536</td>\n",
       "      <td>370</td>\n",
       "      <td>32</td>\n",
       "      <td>29903</td>\n",
       "      <td>160.75</td>\n",
       "      <td>2.008007e+09</td>\n",
       "      <td>379326464.0</td>\n",
       "      <td>3.468198e+09</td>\n",
       "      <td>9.74</td>\n",
       "      <td>5.672206e+09</td>\n",
       "      <td>273653760.0</td>\n",
       "      <td>3133440.0</td>\n",
       "      <td>1008.89</td>\n",
       "      <td>257634304.0</td>\n",
       "      <td>223555584.0</td>\n",
       "      <td>1179.38</td>\n",
       "      <td>5.672206e+09</td>\n",
       "    </tr>\n",
       "    <tr>\n",
       "      <th>0</th>\n",
       "      <td>case-100</td>\n",
       "      <td>2</td>\n",
       "      <td>100</td>\n",
       "      <td>9536</td>\n",
       "      <td>370</td>\n",
       "      <td>32</td>\n",
       "      <td>29903</td>\n",
       "      <td>169.56</td>\n",
       "      <td>2.008392e+09</td>\n",
       "      <td>378568704.0</td>\n",
       "      <td>3.468202e+09</td>\n",
       "      <td>9.93</td>\n",
       "      <td>5.673087e+09</td>\n",
       "      <td>274235392.0</td>\n",
       "      <td>3129344.0</td>\n",
       "      <td>952.31</td>\n",
       "      <td>258207744.0</td>\n",
       "      <td>223973376.0</td>\n",
       "      <td>1131.80</td>\n",
       "      <td>5.673087e+09</td>\n",
       "    </tr>\n",
       "    <tr>\n",
       "      <th>0</th>\n",
       "      <td>case-100</td>\n",
       "      <td>3</td>\n",
       "      <td>100</td>\n",
       "      <td>9536</td>\n",
       "      <td>370</td>\n",
       "      <td>32</td>\n",
       "      <td>29903</td>\n",
       "      <td>168.68</td>\n",
       "      <td>1.379824e+09</td>\n",
       "      <td>378552320.0</td>\n",
       "      <td>3.468202e+09</td>\n",
       "      <td>9.59</td>\n",
       "      <td>5.662966e+09</td>\n",
       "      <td>273465344.0</td>\n",
       "      <td>3133440.0</td>\n",
       "      <td>883.13</td>\n",
       "      <td>251228160.0</td>\n",
       "      <td>223842304.0</td>\n",
       "      <td>1061.40</td>\n",
       "      <td>5.662966e+09</td>\n",
       "    </tr>\n",
       "  </tbody>\n",
       "</table>\n",
       "</div>"
      ],
      "text/plain": [
       "       Name  Iteration  Number samples  Number features (all)  \\\n",
       "0  case-100          1             100                   9536   \n",
       "0  case-100          2             100                   9536   \n",
       "0  case-100          3             100                   9536   \n",
       "\n",
       "   Number features (no unknown)  Number cores  Reference length  \\\n",
       "0                           370            32             29903   \n",
       "0                           370            32             29903   \n",
       "0                           370            32             29903   \n",
       "\n",
       "   Analysis runtime  Analysis memory (max)  Analysis memory (max/process)  \\\n",
       "0            160.75           2.008007e+09                    379326464.0   \n",
       "0            169.56           2.008392e+09                    378568704.0   \n",
       "0            168.68           1.379824e+09                    378552320.0   \n",
       "\n",
       "   Analysis disk uage  Index runtime  Index memory (max)  \\\n",
       "0        3.468198e+09           9.74        5.672206e+09   \n",
       "0        3.468202e+09           9.93        5.673087e+09   \n",
       "0        3.468202e+09           9.59        5.662966e+09   \n",
       "\n",
       "   Index memory (max/process)  Index size  Tree runtime  Tree memory (max)  \\\n",
       "0                 273653760.0   3133440.0       1008.89        257634304.0   \n",
       "0                 274235392.0   3129344.0        952.31        258207744.0   \n",
       "0                 273465344.0   3133440.0        883.13        251228160.0   \n",
       "\n",
       "   Tree memory (max/process)  Total runtime    Max memory  \n",
       "0                223555584.0        1179.38  5.672206e+09  \n",
       "0                223973376.0        1131.80  5.673087e+09  \n",
       "0                223842304.0        1061.40  5.662966e+09  "
      ]
     },
     "execution_count": 7,
     "metadata": {},
     "output_type": "execute_result"
    }
   ],
   "source": [
    "benchmark_df"
   ]
  },
  {
   "cell_type": "code",
   "execution_count": 8,
   "id": "535a9ccc-ab9c-4919-806f-128e1efd2389",
   "metadata": {
    "execution": {
     "iopub.execute_input": "2021-09-08T04:15:56.956867Z",
     "iopub.status.busy": "2021-09-08T04:15:56.956442Z",
     "iopub.status.idle": "2021-09-08T04:15:56.959216Z",
     "shell.execute_reply": "2021-09-08T04:15:56.958898Z"
    },
    "papermill": {
     "duration": 0.016375,
     "end_time": "2021-09-08T04:15:56.959296",
     "exception": false,
     "start_time": "2021-09-08T04:15:56.942921",
     "status": "completed"
    },
    "tags": []
   },
   "outputs": [],
   "source": [
    "benchmark_df.to_csv(benchmark_path, sep='\\t', index=False)"
   ]
  },
  {
   "cell_type": "markdown",
   "id": "6cb7673b-9f85-4c43-b2e2-93538497a196",
   "metadata": {
    "papermill": {
     "duration": 0.01011,
     "end_time": "2021-09-08T04:15:56.979613",
     "exception": false,
     "start_time": "2021-09-08T04:15:56.969503",
     "status": "completed"
    },
    "tags": []
   },
   "source": [
    "# 3. Export trees"
   ]
  },
  {
   "cell_type": "code",
   "execution_count": 9,
   "id": "5280f82c-5434-4391-8c44-b937a7c95bd5",
   "metadata": {
    "execution": {
     "iopub.execute_input": "2021-09-08T04:15:57.008363Z",
     "iopub.status.busy": "2021-09-08T04:15:57.002692Z",
     "iopub.status.idle": "2021-09-08T04:15:59.907495Z",
     "shell.execute_reply": "2021-09-08T04:15:59.908376Z"
    },
    "papermill": {
     "duration": 2.919054,
     "end_time": "2021-09-08T04:15:59.908708",
     "exception": false,
     "start_time": "2021-09-08T04:15:56.989654",
     "status": "completed"
    },
    "tags": []
   },
   "outputs": [
    {
     "name": "stdout",
     "output_type": "stream",
     "text": [
      "Wrote tree to cases/case-100/tree.tre\n"
     ]
    }
   ],
   "source": [
    "!gdi --project-dir {index_path} export tree {reference_name} > {output_tree}\n",
    "print(f'Wrote tree to {output_tree}')"
   ]
  }
 ],
 "metadata": {
  "kernelspec": {
   "display_name": "Python 3 (ipykernel)",
   "language": "python",
   "name": "python3"
  },
  "language_info": {
   "codemirror_mode": {
    "name": "ipython",
    "version": 3
   },
   "file_extension": ".py",
   "mimetype": "text/x-python",
   "name": "python",
   "nbconvert_exporter": "python",
   "pygments_lexer": "ipython3",
   "version": "3.8.10"
  },
  "papermill": {
   "default_parameters": {},
   "duration": 3399.860739,
   "end_time": "2021-09-08T04:16:01.147505",
   "environment_variables": {},
   "exception": null,
   "input_path": "template-3-index-genomes.ipynb",
   "output_path": "3-index-genomes.case-100.ipynb",
   "parameters": {
    "cases_dir": "cases/case-100",
    "iterations": 3,
    "number_samples": 100
   },
   "start_time": "2021-09-08T03:19:21.286766",
   "version": "2.3.3"
  }
 },
 "nbformat": 4,
 "nbformat_minor": 5
}