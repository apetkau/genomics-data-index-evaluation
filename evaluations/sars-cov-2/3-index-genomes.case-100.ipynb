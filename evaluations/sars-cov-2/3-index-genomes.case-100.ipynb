{
 "cells": [
  {
   "cell_type": "markdown",
   "id": "7d3667b4-b1f8-4347-96e3-830c25b06740",
   "metadata": {
    "papermill": {
     "duration": 0.017374,
     "end_time": "2021-09-07T20:48:50.208696",
     "exception": false,
     "start_time": "2021-09-07T20:48:50.191322",
     "status": "completed"
    },
    "tags": []
   },
   "source": [
    "# 1. Parameters"
   ]
  },
  {
   "cell_type": "code",
   "execution_count": 1,
   "id": "d4ab0749-b286-4c34-b63c-a854e4952bae",
   "metadata": {
    "execution": {
     "iopub.execute_input": "2021-09-07T20:48:50.236069Z",
     "iopub.status.busy": "2021-09-07T20:48:50.235276Z",
     "iopub.status.idle": "2021-09-07T20:48:50.239152Z",
     "shell.execute_reply": "2021-09-07T20:48:50.240053Z"
    },
    "papermill": {
     "duration": 0.022027,
     "end_time": "2021-09-07T20:48:50.240491",
     "exception": false,
     "start_time": "2021-09-07T20:48:50.218464",
     "status": "completed"
    },
    "tags": [
     "parameters"
    ]
   },
   "outputs": [],
   "source": [
    "# Defaults\n",
    "cases_dir = 'cases/unset'\n",
    "reference_file = 'references/NC_045512.gbk.gz'\n",
    "input_files_all = 'input/input-files.tsv'\n",
    "iterations = 3\n",
    "mincov = 10\n",
    "ncores = 32\n",
    "number_samples = 10"
   ]
  },
  {
   "cell_type": "code",
   "execution_count": 2,
   "id": "79366d5b",
   "metadata": {
    "execution": {
     "iopub.execute_input": "2021-09-07T20:48:50.269715Z",
     "iopub.status.busy": "2021-09-07T20:48:50.268671Z",
     "iopub.status.idle": "2021-09-07T20:48:50.271990Z",
     "shell.execute_reply": "2021-09-07T20:48:50.272775Z"
    },
    "papermill": {
     "duration": 0.018563,
     "end_time": "2021-09-07T20:48:50.273037",
     "exception": false,
     "start_time": "2021-09-07T20:48:50.254474",
     "status": "completed"
    },
    "tags": [
     "injected-parameters"
    ]
   },
   "outputs": [],
   "source": [
    "# Parameters\n",
    "cases_dir = \"cases/case-100\"\n",
    "iterations = 3\n",
    "number_samples = 100\n"
   ]
  },
  {
   "cell_type": "code",
   "execution_count": 3,
   "id": "ce5962e4-261c-4210-b39b-47044e28466b",
   "metadata": {
    "execution": {
     "iopub.execute_input": "2021-09-07T20:48:50.305239Z",
     "iopub.status.busy": "2021-09-07T20:48:50.304055Z",
     "iopub.status.idle": "2021-09-07T20:48:52.799503Z",
     "shell.execute_reply": "2021-09-07T20:48:52.798502Z"
    },
    "papermill": {
     "duration": 2.514739,
     "end_time": "2021-09-07T20:48:52.799769",
     "exception": false,
     "start_time": "2021-09-07T20:48:50.285030",
     "status": "completed"
    },
    "tags": []
   },
   "outputs": [],
   "source": [
    "from pathlib import Path\n",
    "from shutil import rmtree\n",
    "from os import makedirs\n",
    "import imp\n",
    "fp, pathname, description = imp.find_module('gdi_benchmark', ['../../lib'])\n",
    "gdi_benchmark = imp.load_module('gdi_benchmark', fp, pathname, description)\n",
    "\n",
    "cases_dir_path = Path(cases_dir)\n",
    "\n",
    "if cases_dir_path.exists():\n",
    "    rmtree(cases_dir_path)\n",
    "    \n",
    "if not cases_dir_path.exists():\n",
    "    makedirs(cases_dir_path)\n",
    "\n",
    "input_files_all = Path(input_files_all)\n",
    "reference_file = Path(reference_file)\n",
    "\n",
    "case_name = str(cases_dir_path.name)\n",
    "reference_name = reference_file.name.split('.')[0]\n",
    "\n",
    "cases_input = cases_dir_path / 'input-files-case.tsv'\n",
    "index_path = cases_dir_path / 'index'\n",
    "benchmark_path = cases_dir_path / 'index-info.tsv'\n",
    "output_tree = cases_dir_path / 'tree.tre'"
   ]
  },
  {
   "cell_type": "markdown",
   "id": "1673d80f-b52a-4b68-b400-355540495e15",
   "metadata": {
    "papermill": {
     "duration": 0.010573,
     "end_time": "2021-09-07T20:48:52.825560",
     "exception": false,
     "start_time": "2021-09-07T20:48:52.814987",
     "status": "completed"
    },
    "tags": []
   },
   "source": [
    "# 2. Create subset input"
   ]
  },
  {
   "cell_type": "code",
   "execution_count": 4,
   "id": "4e66adb1-3ef7-45d1-8e46-723dcb9d0c31",
   "metadata": {
    "execution": {
     "iopub.execute_input": "2021-09-07T20:48:52.847548Z",
     "iopub.status.busy": "2021-09-07T20:48:52.847041Z",
     "iopub.status.idle": "2021-09-07T20:48:52.890438Z",
     "shell.execute_reply": "2021-09-07T20:48:52.891135Z"
    },
    "papermill": {
     "duration": 0.059674,
     "end_time": "2021-09-07T20:48:52.891364",
     "exception": false,
     "start_time": "2021-09-07T20:48:52.831690",
     "status": "completed"
    },
    "tags": []
   },
   "outputs": [
    {
     "name": "stdout",
     "output_type": "stream",
     "text": [
      "Wrote 100/10000 samples to cases/case-100/input-files-case.tsv\n"
     ]
    }
   ],
   "source": [
    "import pandas as pd\n",
    "\n",
    "all_input_df = pd.read_csv(input_files_all, sep='\\t')\n",
    "all_input_total = len(all_input_df)\n",
    "\n",
    "subset_input_df = all_input_df.head(number_samples)\n",
    "subset_input_total = len(subset_input_df)\n",
    "\n",
    "subset_input_df.to_csv(cases_input, sep='\\t', index=False)\n",
    "\n",
    "print(f'Wrote {subset_input_total}/{all_input_total} samples to {cases_input}')"
   ]
  },
  {
   "cell_type": "markdown",
   "id": "f208279e-7558-47fc-9362-da29df92828a",
   "metadata": {
    "papermill": {
     "duration": 0.008345,
     "end_time": "2021-09-07T20:48:52.912000",
     "exception": false,
     "start_time": "2021-09-07T20:48:52.903655",
     "status": "completed"
    },
    "tags": []
   },
   "source": [
    "# 2. Index genomes"
   ]
  },
  {
   "cell_type": "code",
   "execution_count": 5,
   "id": "4e936f7c-2fcd-4188-b0e6-6b3ceb5cdcd2",
   "metadata": {
    "execution": {
     "iopub.execute_input": "2021-09-07T20:48:52.929866Z",
     "iopub.status.busy": "2021-09-07T20:48:52.929305Z",
     "iopub.status.idle": "2021-09-07T20:48:55.739832Z",
     "shell.execute_reply": "2021-09-07T20:48:55.740719Z"
    },
    "papermill": {
     "duration": 2.822376,
     "end_time": "2021-09-07T20:48:55.741043",
     "exception": false,
     "start_time": "2021-09-07T20:48:52.918667",
     "status": "completed"
    },
    "tags": []
   },
   "outputs": [
    {
     "name": "stdout",
     "output_type": "stream",
     "text": [
      "gdi, version 0.3.0.dev11\r\n"
     ]
    }
   ],
   "source": [
    "!gdi --version"
   ]
  },
  {
   "cell_type": "markdown",
   "id": "5409ecf8-2158-4361-9d2f-6b1a6c7c63a6",
   "metadata": {
    "papermill": {
     "duration": 0.010109,
     "end_time": "2021-09-07T20:48:55.767074",
     "exception": false,
     "start_time": "2021-09-07T20:48:55.756965",
     "status": "completed"
    },
    "tags": []
   },
   "source": [
    "## 2.1. Index reads"
   ]
  },
  {
   "cell_type": "code",
   "execution_count": 6,
   "id": "3d63e861-733e-46f2-8bce-bd1a2c7c7058",
   "metadata": {
    "execution": {
     "iopub.execute_input": "2021-09-07T20:48:55.794218Z",
     "iopub.status.busy": "2021-09-07T20:48:55.790399Z",
     "iopub.status.idle": "2021-09-07T21:39:25.747196Z",
     "shell.execute_reply": "2021-09-07T21:39:25.748258Z"
    },
    "papermill": {
     "duration": 3029.974907,
     "end_time": "2021-09-07T21:39:25.748994",
     "exception": false,
     "start_time": "2021-09-07T20:48:55.774087",
     "status": "completed"
    },
    "tags": []
   },
   "outputs": [
    {
     "name": "stdout",
     "output_type": "stream",
     "text": [
      "\n",
      "Iteration 1 of index/analysis of 100 samples with 32 cores\n",
      "Removing any extra snakemake directories: ['snakemake-assemblies.1631042448.082973']\n"
     ]
    },
    {
     "name": "stdout",
     "output_type": "stream",
     "text": [
      "Creating new index: [gdi init cases/case-100/index]\n"
     ]
    },
    {
     "name": "stdout",
     "output_type": "stream",
     "text": [
      "Creating a new index took 2.78 seconds\n",
      "Analysis running: [gdi --project-dir cases/case-100/index --ncores 32 analysis --use-conda --no-load-data --reference-file references/NC_045512.gbk.gz --kmer-size 31 --kmer-size 51 --kmer-size 71 --include-kmer --reads-mincov 10 --input-structured-genomes-file cases/case-100/input-files-case.tsv]\n"
     ]
    },
    {
     "name": "stdout",
     "output_type": "stream",
     "text": [
      "Analysis took 2.89 minutes\n",
      "Index running: [gdi --project-dir cases/case-100/index --ncores 32 load vcf-kmer --reference-file references/NC_045512.gbk.gz /home/CSCScience.ca/apetkau/workspace/genomics-data-index-evaluation/evaluations/sars-cov-2/snakemake-assemblies.1631047743.230326/gdi-input.fofn]\n"
     ]
    },
    {
     "name": "stdout",
     "output_type": "stream",
     "text": [
      "Indexing took 0.23 minutes\n",
      "Building tree: [gdi --project-dir cases/case-100/index --ncores 32 rebuild tree --align-type full --extra-params '--fast -m GTR+F+R4' NC_045512]\n"
     ]
    },
    {
     "name": "stdout",
     "output_type": "stream",
     "text": [
      "Building tree took 12.93 minutes\n"
     ]
    },
    {
     "name": "stderr",
     "output_type": "stream",
     "text": [
      "A reminder to myself to look for a Python solution for directory sizes (instead of running `du`)\n"
     ]
    },
    {
     "name": "stdout",
     "output_type": "stream",
     "text": [
      "\n",
      "Iteration 2 of index/analysis of 100 samples with 32 cores\n",
      "Removing any extra snakemake directories: ['snakemake-assemblies.1631047743.230326']\n"
     ]
    },
    {
     "name": "stdout",
     "output_type": "stream",
     "text": [
      "Removing any existing indexes cases/case-100/index\n",
      "Creating new index: [gdi init cases/case-100/index]\n"
     ]
    },
    {
     "name": "stdout",
     "output_type": "stream",
     "text": [
      "Creating a new index took 2.96 seconds\n",
      "Analysis running: [gdi --project-dir cases/case-100/index --ncores 32 analysis --use-conda --no-load-data --reference-file references/NC_045512.gbk.gz --kmer-size 31 --kmer-size 51 --kmer-size 71 --include-kmer --reads-mincov 10 --input-structured-genomes-file cases/case-100/input-files-case.tsv]\n"
     ]
    },
    {
     "name": "stdout",
     "output_type": "stream",
     "text": [
      "Analysis took 2.67 minutes\n",
      "Index running: [gdi --project-dir cases/case-100/index --ncores 32 load vcf-kmer --reference-file references/NC_045512.gbk.gz /home/CSCScience.ca/apetkau/workspace/genomics-data-index-evaluation/evaluations/sars-cov-2/snakemake-assemblies.1631048711.0771027/gdi-input.fofn]\n"
     ]
    },
    {
     "name": "stdout",
     "output_type": "stream",
     "text": [
      "Indexing took 0.22 minutes\n",
      "Building tree: [gdi --project-dir cases/case-100/index --ncores 32 rebuild tree --align-type full --extra-params '--fast -m GTR+F+R4' NC_045512]\n"
     ]
    },
    {
     "name": "stdout",
     "output_type": "stream",
     "text": [
      "Building tree took 11.78 minutes\n"
     ]
    },
    {
     "name": "stderr",
     "output_type": "stream",
     "text": [
      "Attempting to set global database_path_translator=<genomics_data_index.storage.model.db.DatabasePathTranslator.DatabasePathTranslator object at 0x7faceb845760> but it is already set\n"
     ]
    },
    {
     "name": "stderr",
     "output_type": "stream",
     "text": [
      "A reminder to myself to look for a Python solution for directory sizes (instead of running `du`)\n"
     ]
    },
    {
     "name": "stdout",
     "output_type": "stream",
     "text": [
      "\n",
      "Iteration 3 of index/analysis of 100 samples with 32 cores\n",
      "Removing any extra snakemake directories: ['snakemake-assemblies.1631048711.0771027']\n"
     ]
    },
    {
     "name": "stdout",
     "output_type": "stream",
     "text": [
      "Removing any existing indexes cases/case-100/index\n",
      "Creating new index: [gdi init cases/case-100/index]\n"
     ]
    },
    {
     "name": "stdout",
     "output_type": "stream",
     "text": [
      "Creating a new index took 2.83 seconds\n",
      "Analysis running: [gdi --project-dir cases/case-100/index --ncores 32 analysis --use-conda --no-load-data --reference-file references/NC_045512.gbk.gz --kmer-size 31 --kmer-size 51 --kmer-size 71 --include-kmer --reads-mincov 10 --input-structured-genomes-file cases/case-100/input-files-case.tsv]\n"
     ]
    },
    {
     "name": "stdout",
     "output_type": "stream",
     "text": [
      "Analysis took 2.71 minutes\n",
      "Index running: [gdi --project-dir cases/case-100/index --ncores 32 load vcf-kmer --reference-file references/NC_045512.gbk.gz /home/CSCScience.ca/apetkau/workspace/genomics-data-index-evaluation/evaluations/sars-cov-2/snakemake-assemblies.1631049596.0610228/gdi-input.fofn]\n"
     ]
    },
    {
     "name": "stdout",
     "output_type": "stream",
     "text": [
      "Indexing took 0.23 minutes\n",
      "Building tree: [gdi --project-dir cases/case-100/index --ncores 32 rebuild tree --align-type full --extra-params '--fast -m GTR+F+R4' NC_045512]\n"
     ]
    },
    {
     "name": "stdout",
     "output_type": "stream",
     "text": [
      "Building tree took 16.59 minutes\n"
     ]
    },
    {
     "name": "stderr",
     "output_type": "stream",
     "text": [
      "Attempting to set global database_path_translator=<genomics_data_index.storage.model.db.DatabasePathTranslator.DatabasePathTranslator object at 0x7face30aa1f0> but it is already set\n"
     ]
    },
    {
     "name": "stderr",
     "output_type": "stream",
     "text": [
      "A reminder to myself to look for a Python solution for directory sizes (instead of running `du`)\n"
     ]
    }
   ],
   "source": [
    "results_handler = gdi_benchmark.BenchmarkResultsHandler(name=case_name)\n",
    "benchmarker = gdi_benchmark.IndexBenchmarker(benchmark_results_handler=results_handler,\n",
    "                                             index_path=index_path, input_files_file=cases_input,\n",
    "                                             reference_file=reference_file, mincov=mincov, build_tree=True,\n",
    "                                             ncores=ncores)\n",
    "\n",
    "benchmark_df = benchmarker.benchmark(iterations=iterations)"
   ]
  },
  {
   "cell_type": "code",
   "execution_count": 7,
   "id": "3bcb6da7-0164-47f2-abdd-a4c159da1e3b",
   "metadata": {
    "execution": {
     "iopub.execute_input": "2021-09-07T21:39:25.793517Z",
     "iopub.status.busy": "2021-09-07T21:39:25.793102Z",
     "iopub.status.idle": "2021-09-07T21:39:25.826943Z",
     "shell.execute_reply": "2021-09-07T21:39:25.827801Z"
    },
    "papermill": {
     "duration": 0.057059,
     "end_time": "2021-09-07T21:39:25.828081",
     "exception": false,
     "start_time": "2021-09-07T21:39:25.771022",
     "status": "completed"
    },
    "tags": []
   },
   "outputs": [
    {
     "data": {
      "text/html": [
       "<div>\n",
       "<style scoped>\n",
       "    .dataframe tbody tr th:only-of-type {\n",
       "        vertical-align: middle;\n",
       "    }\n",
       "\n",
       "    .dataframe tbody tr th {\n",
       "        vertical-align: top;\n",
       "    }\n",
       "\n",
       "    .dataframe thead th {\n",
       "        text-align: right;\n",
       "    }\n",
       "</style>\n",
       "<table border=\"1\" class=\"dataframe\">\n",
       "  <thead>\n",
       "    <tr style=\"text-align: right;\">\n",
       "      <th></th>\n",
       "      <th>Name</th>\n",
       "      <th>Iteration</th>\n",
       "      <th>Number samples</th>\n",
       "      <th>Number cores</th>\n",
       "      <th>Reference length</th>\n",
       "      <th>Analysis runtime</th>\n",
       "      <th>Analysis memory (max)</th>\n",
       "      <th>Analysis memory (max/process)</th>\n",
       "      <th>Analysis disk uage</th>\n",
       "      <th>Index runtime</th>\n",
       "      <th>Index memory (max)</th>\n",
       "      <th>Index memory (max/process)</th>\n",
       "      <th>Index size</th>\n",
       "      <th>Tree runtime</th>\n",
       "      <th>Tree memory (max)</th>\n",
       "      <th>Tree memory (max/process)</th>\n",
       "      <th>Total runtime</th>\n",
       "      <th>Max memory</th>\n",
       "    </tr>\n",
       "  </thead>\n",
       "  <tbody>\n",
       "    <tr>\n",
       "      <th>0</th>\n",
       "      <td>case-100</td>\n",
       "      <td>1</td>\n",
       "      <td>100</td>\n",
       "      <td>32</td>\n",
       "      <td>29903</td>\n",
       "      <td>173.45</td>\n",
       "      <td>1.872327e+09</td>\n",
       "      <td>380014592.0</td>\n",
       "      <td>3.468452e+09</td>\n",
       "      <td>13.46</td>\n",
       "      <td>5.702365e+09</td>\n",
       "      <td>356081664.0</td>\n",
       "      <td>4837376.0</td>\n",
       "      <td>775.32</td>\n",
       "      <td>263868416.0</td>\n",
       "      <td>224194560.0</td>\n",
       "      <td>962.23</td>\n",
       "      <td>5.702365e+09</td>\n",
       "    </tr>\n",
       "    <tr>\n",
       "      <th>0</th>\n",
       "      <td>case-100</td>\n",
       "      <td>2</td>\n",
       "      <td>100</td>\n",
       "      <td>32</td>\n",
       "      <td>29903</td>\n",
       "      <td>159.88</td>\n",
       "      <td>1.456910e+09</td>\n",
       "      <td>376217600.0</td>\n",
       "      <td>3.468460e+09</td>\n",
       "      <td>13.04</td>\n",
       "      <td>5.700866e+09</td>\n",
       "      <td>352477184.0</td>\n",
       "      <td>4866048.0</td>\n",
       "      <td>706.48</td>\n",
       "      <td>264916992.0</td>\n",
       "      <td>223780864.0</td>\n",
       "      <td>879.40</td>\n",
       "      <td>5.700866e+09</td>\n",
       "    </tr>\n",
       "    <tr>\n",
       "      <th>0</th>\n",
       "      <td>case-100</td>\n",
       "      <td>3</td>\n",
       "      <td>100</td>\n",
       "      <td>32</td>\n",
       "      <td>29903</td>\n",
       "      <td>162.50</td>\n",
       "      <td>2.231546e+09</td>\n",
       "      <td>375881728.0</td>\n",
       "      <td>3.468472e+09</td>\n",
       "      <td>13.97</td>\n",
       "      <td>5.699174e+09</td>\n",
       "      <td>356904960.0</td>\n",
       "      <td>4857856.0</td>\n",
       "      <td>995.12</td>\n",
       "      <td>262860800.0</td>\n",
       "      <td>223473664.0</td>\n",
       "      <td>1171.59</td>\n",
       "      <td>5.699174e+09</td>\n",
       "    </tr>\n",
       "  </tbody>\n",
       "</table>\n",
       "</div>"
      ],
      "text/plain": [
       "       Name  Iteration  Number samples  Number cores  Reference length  \\\n",
       "0  case-100          1             100            32             29903   \n",
       "0  case-100          2             100            32             29903   \n",
       "0  case-100          3             100            32             29903   \n",
       "\n",
       "   Analysis runtime  Analysis memory (max)  Analysis memory (max/process)  \\\n",
       "0            173.45           1.872327e+09                    380014592.0   \n",
       "0            159.88           1.456910e+09                    376217600.0   \n",
       "0            162.50           2.231546e+09                    375881728.0   \n",
       "\n",
       "   Analysis disk uage  Index runtime  Index memory (max)  \\\n",
       "0        3.468452e+09          13.46        5.702365e+09   \n",
       "0        3.468460e+09          13.04        5.700866e+09   \n",
       "0        3.468472e+09          13.97        5.699174e+09   \n",
       "\n",
       "   Index memory (max/process)  Index size  Tree runtime  Tree memory (max)  \\\n",
       "0                 356081664.0   4837376.0        775.32        263868416.0   \n",
       "0                 352477184.0   4866048.0        706.48        264916992.0   \n",
       "0                 356904960.0   4857856.0        995.12        262860800.0   \n",
       "\n",
       "   Tree memory (max/process)  Total runtime    Max memory  \n",
       "0                224194560.0         962.23  5.702365e+09  \n",
       "0                223780864.0         879.40  5.700866e+09  \n",
       "0                223473664.0        1171.59  5.699174e+09  "
      ]
     },
     "execution_count": 7,
     "metadata": {},
     "output_type": "execute_result"
    }
   ],
   "source": [
    "benchmark_df"
   ]
  },
  {
   "cell_type": "code",
   "execution_count": 8,
   "id": "535a9ccc-ab9c-4919-806f-128e1efd2389",
   "metadata": {
    "execution": {
     "iopub.execute_input": "2021-09-07T21:39:25.867765Z",
     "iopub.status.busy": "2021-09-07T21:39:25.867341Z",
     "iopub.status.idle": "2021-09-07T21:39:25.870682Z",
     "shell.execute_reply": "2021-09-07T21:39:25.870326Z"
    },
    "papermill": {
     "duration": 0.020714,
     "end_time": "2021-09-07T21:39:25.870779",
     "exception": false,
     "start_time": "2021-09-07T21:39:25.850065",
     "status": "completed"
    },
    "tags": []
   },
   "outputs": [],
   "source": [
    "benchmark_df.to_csv(benchmark_path, sep='\\t', index=False)"
   ]
  },
  {
   "cell_type": "markdown",
   "id": "6cb7673b-9f85-4c43-b2e2-93538497a196",
   "metadata": {
    "papermill": {
     "duration": 0.010177,
     "end_time": "2021-09-07T21:39:25.892381",
     "exception": false,
     "start_time": "2021-09-07T21:39:25.882204",
     "status": "completed"
    },
    "tags": []
   },
   "source": [
    "# 3. Export trees"
   ]
  },
  {
   "cell_type": "code",
   "execution_count": 9,
   "id": "5280f82c-5434-4391-8c44-b937a7c95bd5",
   "metadata": {
    "execution": {
     "iopub.execute_input": "2021-09-07T21:39:25.919751Z",
     "iopub.status.busy": "2021-09-07T21:39:25.919299Z",
     "iopub.status.idle": "2021-09-07T21:39:28.886347Z",
     "shell.execute_reply": "2021-09-07T21:39:28.887257Z"
    },
    "papermill": {
     "duration": 2.985246,
     "end_time": "2021-09-07T21:39:28.887576",
     "exception": false,
     "start_time": "2021-09-07T21:39:25.902330",
     "status": "completed"
    },
    "tags": []
   },
   "outputs": [
    {
     "name": "stdout",
     "output_type": "stream",
     "text": [
      "Wrote tree to cases/case-100/tree.tre\n"
     ]
    }
   ],
   "source": [
    "!gdi --project-dir {index_path} export tree {reference_name} > {output_tree}\n",
    "print(f'Wrote tree to {output_tree}')"
   ]
  }
 ],
 "metadata": {
  "kernelspec": {
   "display_name": "Python 3 (ipykernel)",
   "language": "python",
   "name": "python3"
  },
  "language_info": {
   "codemirror_mode": {
    "name": "ipython",
    "version": 3
   },
   "file_extension": ".py",
   "mimetype": "text/x-python",
   "name": "python",
   "nbconvert_exporter": "python",
   "pygments_lexer": "ipython3",
   "version": "3.8.10"
  },
  "papermill": {
   "default_parameters": {},
   "duration": 3040.704695,
   "end_time": "2021-09-07T21:39:30.123014",
   "environment_variables": {},
   "exception": null,
   "input_path": "template-3-index-genomes.ipynb",
   "output_path": "3-index-genomes.case-100.ipynb",
   "parameters": {
    "cases_dir": "cases/case-100",
    "iterations": 3,
    "number_samples": 100
   },
   "start_time": "2021-09-07T20:48:49.418319",
   "version": "2.3.3"
  }
 },
 "nbformat": 4,
 "nbformat_minor": 5
}