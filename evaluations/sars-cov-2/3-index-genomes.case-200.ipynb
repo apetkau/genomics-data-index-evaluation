{
 "cells": [
  {
   "cell_type": "markdown",
   "id": "7d3667b4-b1f8-4347-96e3-830c25b06740",
   "metadata": {
    "papermill": {
     "duration": 0.017364,
     "end_time": "2021-09-07T21:39:31.568868",
     "exception": false,
     "start_time": "2021-09-07T21:39:31.551504",
     "status": "completed"
    },
    "tags": []
   },
   "source": [
    "# 1. Parameters"
   ]
  },
  {
   "cell_type": "code",
   "execution_count": 1,
   "id": "d4ab0749-b286-4c34-b63c-a854e4952bae",
   "metadata": {
    "execution": {
     "iopub.execute_input": "2021-09-07T21:39:31.600436Z",
     "iopub.status.busy": "2021-09-07T21:39:31.599883Z",
     "iopub.status.idle": "2021-09-07T21:39:31.604935Z",
     "shell.execute_reply": "2021-09-07T21:39:31.605777Z"
    },
    "papermill": {
     "duration": 0.027227,
     "end_time": "2021-09-07T21:39:31.606192",
     "exception": false,
     "start_time": "2021-09-07T21:39:31.578965",
     "status": "completed"
    },
    "tags": [
     "parameters"
    ]
   },
   "outputs": [],
   "source": [
    "# Defaults\n",
    "cases_dir = 'cases/unset'\n",
    "reference_file = 'references/NC_045512.gbk.gz'\n",
    "input_files_all = 'input/input-files.tsv'\n",
    "iterations = 3\n",
    "mincov = 10\n",
    "ncores = 32\n",
    "number_samples = 10"
   ]
  },
  {
   "cell_type": "code",
   "execution_count": 2,
   "id": "884af533",
   "metadata": {
    "execution": {
     "iopub.execute_input": "2021-09-07T21:39:31.635803Z",
     "iopub.status.busy": "2021-09-07T21:39:31.635281Z",
     "iopub.status.idle": "2021-09-07T21:39:31.638342Z",
     "shell.execute_reply": "2021-09-07T21:39:31.638702Z"
    },
    "papermill": {
     "duration": 0.017978,
     "end_time": "2021-09-07T21:39:31.638871",
     "exception": false,
     "start_time": "2021-09-07T21:39:31.620893",
     "status": "completed"
    },
    "tags": [
     "injected-parameters"
    ]
   },
   "outputs": [],
   "source": [
    "# Parameters\n",
    "cases_dir = \"cases/case-200\"\n",
    "iterations = 3\n",
    "number_samples = 200\n"
   ]
  },
  {
   "cell_type": "code",
   "execution_count": 3,
   "id": "ce5962e4-261c-4210-b39b-47044e28466b",
   "metadata": {
    "execution": {
     "iopub.execute_input": "2021-09-07T21:39:31.664661Z",
     "iopub.status.busy": "2021-09-07T21:39:31.664200Z",
     "iopub.status.idle": "2021-09-07T21:39:34.171690Z",
     "shell.execute_reply": "2021-09-07T21:39:34.172585Z"
    },
    "papermill": {
     "duration": 2.52529,
     "end_time": "2021-09-07T21:39:34.172913",
     "exception": false,
     "start_time": "2021-09-07T21:39:31.647623",
     "status": "completed"
    },
    "tags": []
   },
   "outputs": [],
   "source": [
    "from pathlib import Path\n",
    "from shutil import rmtree\n",
    "from os import makedirs\n",
    "import imp\n",
    "fp, pathname, description = imp.find_module('gdi_benchmark', ['../../lib'])\n",
    "gdi_benchmark = imp.load_module('gdi_benchmark', fp, pathname, description)\n",
    "\n",
    "cases_dir_path = Path(cases_dir)\n",
    "\n",
    "if cases_dir_path.exists():\n",
    "    rmtree(cases_dir_path)\n",
    "    \n",
    "if not cases_dir_path.exists():\n",
    "    makedirs(cases_dir_path)\n",
    "\n",
    "input_files_all = Path(input_files_all)\n",
    "reference_file = Path(reference_file)\n",
    "\n",
    "case_name = str(cases_dir_path.name)\n",
    "reference_name = reference_file.name.split('.')[0]\n",
    "\n",
    "cases_input = cases_dir_path / 'input-files-case.tsv'\n",
    "index_path = cases_dir_path / 'index'\n",
    "benchmark_path = cases_dir_path / 'index-info.tsv'\n",
    "output_tree = cases_dir_path / 'tree.tre'"
   ]
  },
  {
   "cell_type": "markdown",
   "id": "1673d80f-b52a-4b68-b400-355540495e15",
   "metadata": {
    "papermill": {
     "duration": 0.008359,
     "end_time": "2021-09-07T21:39:34.196863",
     "exception": false,
     "start_time": "2021-09-07T21:39:34.188504",
     "status": "completed"
    },
    "tags": []
   },
   "source": [
    "# 2. Create subset input"
   ]
  },
  {
   "cell_type": "code",
   "execution_count": 4,
   "id": "4e66adb1-3ef7-45d1-8e46-723dcb9d0c31",
   "metadata": {
    "execution": {
     "iopub.execute_input": "2021-09-07T21:39:34.219058Z",
     "iopub.status.busy": "2021-09-07T21:39:34.217960Z",
     "iopub.status.idle": "2021-09-07T21:39:34.266107Z",
     "shell.execute_reply": "2021-09-07T21:39:34.266983Z"
    },
    "papermill": {
     "duration": 0.063716,
     "end_time": "2021-09-07T21:39:34.267250",
     "exception": false,
     "start_time": "2021-09-07T21:39:34.203534",
     "status": "completed"
    },
    "tags": []
   },
   "outputs": [
    {
     "name": "stdout",
     "output_type": "stream",
     "text": [
      "Wrote 200/10000 samples to cases/case-200/input-files-case.tsv\n"
     ]
    }
   ],
   "source": [
    "import pandas as pd\n",
    "\n",
    "all_input_df = pd.read_csv(input_files_all, sep='\\t')\n",
    "all_input_total = len(all_input_df)\n",
    "\n",
    "subset_input_df = all_input_df.head(number_samples)\n",
    "subset_input_total = len(subset_input_df)\n",
    "\n",
    "subset_input_df.to_csv(cases_input, sep='\\t', index=False)\n",
    "\n",
    "print(f'Wrote {subset_input_total}/{all_input_total} samples to {cases_input}')"
   ]
  },
  {
   "cell_type": "markdown",
   "id": "f208279e-7558-47fc-9362-da29df92828a",
   "metadata": {
    "papermill": {
     "duration": 0.008736,
     "end_time": "2021-09-07T21:39:34.290008",
     "exception": false,
     "start_time": "2021-09-07T21:39:34.281272",
     "status": "completed"
    },
    "tags": []
   },
   "source": [
    "# 2. Index genomes"
   ]
  },
  {
   "cell_type": "code",
   "execution_count": 5,
   "id": "4e936f7c-2fcd-4188-b0e6-6b3ceb5cdcd2",
   "metadata": {
    "execution": {
     "iopub.execute_input": "2021-09-07T21:39:34.308605Z",
     "iopub.status.busy": "2021-09-07T21:39:34.308229Z",
     "iopub.status.idle": "2021-09-07T21:39:37.091789Z",
     "shell.execute_reply": "2021-09-07T21:39:37.092642Z"
    },
    "papermill": {
     "duration": 2.79616,
     "end_time": "2021-09-07T21:39:37.092954",
     "exception": false,
     "start_time": "2021-09-07T21:39:34.296794",
     "status": "completed"
    },
    "tags": []
   },
   "outputs": [
    {
     "name": "stdout",
     "output_type": "stream",
     "text": [
      "gdi, version 0.3.0.dev11\r\n"
     ]
    }
   ],
   "source": [
    "!gdi --version"
   ]
  },
  {
   "cell_type": "markdown",
   "id": "5409ecf8-2158-4361-9d2f-6b1a6c7c63a6",
   "metadata": {
    "papermill": {
     "duration": 0.009109,
     "end_time": "2021-09-07T21:39:37.116961",
     "exception": false,
     "start_time": "2021-09-07T21:39:37.107852",
     "status": "completed"
    },
    "tags": []
   },
   "source": [
    "## 2.1. Index reads"
   ]
  },
  {
   "cell_type": "code",
   "execution_count": 6,
   "id": "3d63e861-733e-46f2-8bce-bd1a2c7c7058",
   "metadata": {
    "execution": {
     "iopub.execute_input": "2021-09-07T21:39:37.145092Z",
     "iopub.status.busy": "2021-09-07T21:39:37.143968Z",
     "iopub.status.idle": "2021-09-07T21:51:00.833601Z",
     "shell.execute_reply": "2021-09-07T21:51:00.834583Z"
    },
    "papermill": {
     "duration": 683.71075,
     "end_time": "2021-09-07T21:51:00.835241",
     "exception": false,
     "start_time": "2021-09-07T21:39:37.124491",
     "status": "completed"
    },
    "tags": []
   },
   "outputs": [
    {
     "name": "stdout",
     "output_type": "stream",
     "text": [
      "\n",
      "Iteration 1 of index/analysis of 200 samples with 32 cores\n",
      "Removing any extra snakemake directories: ['snakemake-assemblies.1631049596.0610228']\n"
     ]
    },
    {
     "name": "stdout",
     "output_type": "stream",
     "text": [
      "Creating new index: [gdi init cases/case-200/index]\n"
     ]
    },
    {
     "name": "stdout",
     "output_type": "stream",
     "text": [
      "Creating a new index took 2.80 seconds\n",
      "Analysis running: [gdi --project-dir cases/case-200/index --ncores 32 analysis --use-conda --no-load-data --reference-file references/NC_045512.gbk.gz --kmer-size 31 --kmer-size 51 --kmer-size 71 --include-kmer --reads-mincov 10 --input-structured-genomes-file cases/case-200/input-files-case.tsv]\n"
     ]
    },
    {
     "name": "stdout",
     "output_type": "stream",
     "text": [
      "Analysis took 3.34 minutes\n",
      "Index running: [gdi --project-dir cases/case-200/index --ncores 32 load vcf-kmer --reference-file references/NC_045512.gbk.gz /home/CSCScience.ca/apetkau/workspace/genomics-data-index-evaluation/evaluations/sars-cov-2/snakemake-assemblies.1631050784.6039207/gdi-input.fofn]\n"
     ]
    },
    {
     "name": "stdout",
     "output_type": "stream",
     "text": [
      "Indexing took 0.35 minutes\n",
      "Building tree: [gdi --project-dir cases/case-200/index --ncores 32 rebuild tree --align-type full --extra-params '--fast -m GTR+F+R4' NC_045512]\n"
     ]
    },
    {
     "name": "stdout",
     "output_type": "stream",
     "text": [
      "Building tree took 0.19 minutes\n"
     ]
    },
    {
     "name": "stderr",
     "output_type": "stream",
     "text": [
      "A reminder to myself to look for a Python solution for directory sizes (instead of running `du`)\n"
     ]
    },
    {
     "name": "stdout",
     "output_type": "stream",
     "text": [
      "\n",
      "Iteration 2 of index/analysis of 200 samples with 32 cores\n",
      "Removing any extra snakemake directories: ['snakemake-assemblies.1631050784.6039207']\n"
     ]
    },
    {
     "name": "stdout",
     "output_type": "stream",
     "text": [
      "Removing any existing indexes cases/case-200/index\n",
      "Creating new index: [gdi init cases/case-200/index]\n"
     ]
    },
    {
     "name": "stdout",
     "output_type": "stream",
     "text": [
      "Creating a new index took 2.76 seconds\n",
      "Analysis running: [gdi --project-dir cases/case-200/index --ncores 32 analysis --use-conda --no-load-data --reference-file references/NC_045512.gbk.gz --kmer-size 31 --kmer-size 51 --kmer-size 71 --include-kmer --reads-mincov 10 --input-structured-genomes-file cases/case-200/input-files-case.tsv]\n"
     ]
    },
    {
     "name": "stdout",
     "output_type": "stream",
     "text": [
      "Analysis took 3.07 minutes\n",
      "Index running: [gdi --project-dir cases/case-200/index --ncores 32 load vcf-kmer --reference-file references/NC_045512.gbk.gz /home/CSCScience.ca/apetkau/workspace/genomics-data-index-evaluation/evaluations/sars-cov-2/snakemake-assemblies.1631051022.2842855/gdi-input.fofn]\n"
     ]
    },
    {
     "name": "stdout",
     "output_type": "stream",
     "text": [
      "Indexing took 0.36 minutes\n",
      "Building tree: [gdi --project-dir cases/case-200/index --ncores 32 rebuild tree --align-type full --extra-params '--fast -m GTR+F+R4' NC_045512]\n"
     ]
    },
    {
     "name": "stdout",
     "output_type": "stream",
     "text": [
      "Building tree took 0.18 minutes\n"
     ]
    },
    {
     "name": "stderr",
     "output_type": "stream",
     "text": [
      "Attempting to set global database_path_translator=<genomics_data_index.storage.model.db.DatabasePathTranslator.DatabasePathTranslator object at 0x7f020b8cdd30> but it is already set\n"
     ]
    },
    {
     "name": "stderr",
     "output_type": "stream",
     "text": [
      "A reminder to myself to look for a Python solution for directory sizes (instead of running `du`)\n"
     ]
    },
    {
     "name": "stdout",
     "output_type": "stream",
     "text": [
      "\n",
      "Iteration 3 of index/analysis of 200 samples with 32 cores\n",
      "Removing any extra snakemake directories: ['snakemake-assemblies.1631051022.2842855']\n"
     ]
    },
    {
     "name": "stdout",
     "output_type": "stream",
     "text": [
      "Removing any existing indexes cases/case-200/index\n",
      "Creating new index: [gdi init cases/case-200/index]\n"
     ]
    },
    {
     "name": "stdout",
     "output_type": "stream",
     "text": [
      "Creating a new index took 2.72 seconds\n",
      "Analysis running: [gdi --project-dir cases/case-200/index --ncores 32 analysis --use-conda --no-load-data --reference-file references/NC_045512.gbk.gz --kmer-size 31 --kmer-size 51 --kmer-size 71 --include-kmer --reads-mincov 10 --input-structured-genomes-file cases/case-200/input-files-case.tsv]\n"
     ]
    },
    {
     "name": "stdout",
     "output_type": "stream",
     "text": [
      "Analysis took 3.11 minutes\n",
      "Index running: [gdi --project-dir cases/case-200/index --ncores 32 load vcf-kmer --reference-file references/NC_045512.gbk.gz /home/CSCScience.ca/apetkau/workspace/genomics-data-index-evaluation/evaluations/sars-cov-2/snakemake-assemblies.1631051244.0899754/gdi-input.fofn]\n"
     ]
    },
    {
     "name": "stdout",
     "output_type": "stream",
     "text": [
      "Indexing took 0.35 minutes\n",
      "Building tree: [gdi --project-dir cases/case-200/index --ncores 32 rebuild tree --align-type full --extra-params '--fast -m GTR+F+R4' NC_045512]\n"
     ]
    },
    {
     "name": "stdout",
     "output_type": "stream",
     "text": [
      "Building tree took 0.19 minutes\n"
     ]
    },
    {
     "name": "stderr",
     "output_type": "stream",
     "text": [
      "Attempting to set global database_path_translator=<genomics_data_index.storage.model.db.DatabasePathTranslator.DatabasePathTranslator object at 0x7f020b8cddc0> but it is already set\n"
     ]
    },
    {
     "name": "stderr",
     "output_type": "stream",
     "text": [
      "A reminder to myself to look for a Python solution for directory sizes (instead of running `du`)\n"
     ]
    }
   ],
   "source": [
    "results_handler = gdi_benchmark.BenchmarkResultsHandler(name=case_name)\n",
    "benchmarker = gdi_benchmark.IndexBenchmarker(benchmark_results_handler=results_handler,\n",
    "                                             index_path=index_path, input_files_file=cases_input,\n",
    "                                             reference_file=reference_file, mincov=mincov, build_tree=True,\n",
    "                                             ncores=ncores)\n",
    "\n",
    "benchmark_df = benchmarker.benchmark(iterations=iterations)"
   ]
  },
  {
   "cell_type": "code",
   "execution_count": 7,
   "id": "3bcb6da7-0164-47f2-abdd-a4c159da1e3b",
   "metadata": {
    "execution": {
     "iopub.execute_input": "2021-09-07T21:51:00.886245Z",
     "iopub.status.busy": "2021-09-07T21:51:00.885614Z",
     "iopub.status.idle": "2021-09-07T21:51:00.911747Z",
     "shell.execute_reply": "2021-09-07T21:51:00.912653Z"
    },
    "papermill": {
     "duration": 0.056194,
     "end_time": "2021-09-07T21:51:00.912928",
     "exception": false,
     "start_time": "2021-09-07T21:51:00.856734",
     "status": "completed"
    },
    "tags": []
   },
   "outputs": [
    {
     "data": {
      "text/html": [
       "<div>\n",
       "<style scoped>\n",
       "    .dataframe tbody tr th:only-of-type {\n",
       "        vertical-align: middle;\n",
       "    }\n",
       "\n",
       "    .dataframe tbody tr th {\n",
       "        vertical-align: top;\n",
       "    }\n",
       "\n",
       "    .dataframe thead th {\n",
       "        text-align: right;\n",
       "    }\n",
       "</style>\n",
       "<table border=\"1\" class=\"dataframe\">\n",
       "  <thead>\n",
       "    <tr style=\"text-align: right;\">\n",
       "      <th></th>\n",
       "      <th>Name</th>\n",
       "      <th>Iteration</th>\n",
       "      <th>Number samples</th>\n",
       "      <th>Number cores</th>\n",
       "      <th>Reference length</th>\n",
       "      <th>Analysis runtime</th>\n",
       "      <th>Analysis memory (max)</th>\n",
       "      <th>Analysis memory (max/process)</th>\n",
       "      <th>Analysis disk uage</th>\n",
       "      <th>Index runtime</th>\n",
       "      <th>Index memory (max)</th>\n",
       "      <th>Index memory (max/process)</th>\n",
       "      <th>Index size</th>\n",
       "      <th>Tree runtime</th>\n",
       "      <th>Tree memory (max)</th>\n",
       "      <th>Tree memory (max/process)</th>\n",
       "      <th>Total runtime</th>\n",
       "      <th>Max memory</th>\n",
       "    </tr>\n",
       "  </thead>\n",
       "  <tbody>\n",
       "    <tr>\n",
       "      <th>0</th>\n",
       "      <td>case-200</td>\n",
       "      <td>1</td>\n",
       "      <td>200</td>\n",
       "      <td>32</td>\n",
       "      <td>29903</td>\n",
       "      <td>200.00</td>\n",
       "      <td>2.414604e+09</td>\n",
       "      <td>375320576.0</td>\n",
       "      <td>3.486863e+09</td>\n",
       "      <td>20.77</td>\n",
       "      <td>5.776327e+09</td>\n",
       "      <td>409100288.0</td>\n",
       "      <td>7610368.0</td>\n",
       "      <td>11.43</td>\n",
       "      <td>244224000.0</td>\n",
       "      <td>227864576.0</td>\n",
       "      <td>232.20</td>\n",
       "      <td>5.776327e+09</td>\n",
       "    </tr>\n",
       "    <tr>\n",
       "      <th>0</th>\n",
       "      <td>case-200</td>\n",
       "      <td>2</td>\n",
       "      <td>200</td>\n",
       "      <td>32</td>\n",
       "      <td>29903</td>\n",
       "      <td>184.02</td>\n",
       "      <td>1.267614e+09</td>\n",
       "      <td>374833152.0</td>\n",
       "      <td>3.486888e+09</td>\n",
       "      <td>21.42</td>\n",
       "      <td>5.782479e+09</td>\n",
       "      <td>416366592.0</td>\n",
       "      <td>7573504.0</td>\n",
       "      <td>10.86</td>\n",
       "      <td>243654656.0</td>\n",
       "      <td>227241984.0</td>\n",
       "      <td>216.30</td>\n",
       "      <td>5.782479e+09</td>\n",
       "    </tr>\n",
       "    <tr>\n",
       "      <th>0</th>\n",
       "      <td>case-200</td>\n",
       "      <td>3</td>\n",
       "      <td>200</td>\n",
       "      <td>32</td>\n",
       "      <td>29903</td>\n",
       "      <td>186.76</td>\n",
       "      <td>2.698912e+09</td>\n",
       "      <td>379047936.0</td>\n",
       "      <td>3.486880e+09</td>\n",
       "      <td>20.75</td>\n",
       "      <td>5.770121e+09</td>\n",
       "      <td>418934784.0</td>\n",
       "      <td>7598080.0</td>\n",
       "      <td>11.43</td>\n",
       "      <td>245862400.0</td>\n",
       "      <td>227061760.0</td>\n",
       "      <td>218.94</td>\n",
       "      <td>5.770121e+09</td>\n",
       "    </tr>\n",
       "  </tbody>\n",
       "</table>\n",
       "</div>"
      ],
      "text/plain": [
       "       Name  Iteration  Number samples  Number cores  Reference length  \\\n",
       "0  case-200          1             200            32             29903   \n",
       "0  case-200          2             200            32             29903   \n",
       "0  case-200          3             200            32             29903   \n",
       "\n",
       "   Analysis runtime  Analysis memory (max)  Analysis memory (max/process)  \\\n",
       "0            200.00           2.414604e+09                    375320576.0   \n",
       "0            184.02           1.267614e+09                    374833152.0   \n",
       "0            186.76           2.698912e+09                    379047936.0   \n",
       "\n",
       "   Analysis disk uage  Index runtime  Index memory (max)  \\\n",
       "0        3.486863e+09          20.77        5.776327e+09   \n",
       "0        3.486888e+09          21.42        5.782479e+09   \n",
       "0        3.486880e+09          20.75        5.770121e+09   \n",
       "\n",
       "   Index memory (max/process)  Index size  Tree runtime  Tree memory (max)  \\\n",
       "0                 409100288.0   7610368.0         11.43        244224000.0   \n",
       "0                 416366592.0   7573504.0         10.86        243654656.0   \n",
       "0                 418934784.0   7598080.0         11.43        245862400.0   \n",
       "\n",
       "   Tree memory (max/process)  Total runtime    Max memory  \n",
       "0                227864576.0         232.20  5.776327e+09  \n",
       "0                227241984.0         216.30  5.782479e+09  \n",
       "0                227061760.0         218.94  5.770121e+09  "
      ]
     },
     "execution_count": 7,
     "metadata": {},
     "output_type": "execute_result"
    }
   ],
   "source": [
    "benchmark_df"
   ]
  },
  {
   "cell_type": "code",
   "execution_count": 8,
   "id": "535a9ccc-ab9c-4919-806f-128e1efd2389",
   "metadata": {
    "execution": {
     "iopub.execute_input": "2021-09-07T21:51:00.956212Z",
     "iopub.status.busy": "2021-09-07T21:51:00.955670Z",
     "iopub.status.idle": "2021-09-07T21:51:00.959662Z",
     "shell.execute_reply": "2021-09-07T21:51:00.959213Z"
    },
    "papermill": {
     "duration": 0.02381,
     "end_time": "2021-09-07T21:51:00.959777",
     "exception": false,
     "start_time": "2021-09-07T21:51:00.935967",
     "status": "completed"
    },
    "tags": []
   },
   "outputs": [],
   "source": [
    "benchmark_df.to_csv(benchmark_path, sep='\\t', index=False)"
   ]
  },
  {
   "cell_type": "markdown",
   "id": "6cb7673b-9f85-4c43-b2e2-93538497a196",
   "metadata": {
    "papermill": {
     "duration": 0.01035,
     "end_time": "2021-09-07T21:51:00.984664",
     "exception": false,
     "start_time": "2021-09-07T21:51:00.974314",
     "status": "completed"
    },
    "tags": []
   },
   "source": [
    "# 3. Export trees"
   ]
  },
  {
   "cell_type": "code",
   "execution_count": 9,
   "id": "5280f82c-5434-4391-8c44-b937a7c95bd5",
   "metadata": {
    "execution": {
     "iopub.execute_input": "2021-09-07T21:51:01.021437Z",
     "iopub.status.busy": "2021-09-07T21:51:01.011908Z",
     "iopub.status.idle": "2021-09-07T21:51:03.708468Z",
     "shell.execute_reply": "2021-09-07T21:51:03.707541Z"
    },
    "papermill": {
     "duration": 2.713944,
     "end_time": "2021-09-07T21:51:03.708711",
     "exception": false,
     "start_time": "2021-09-07T21:51:00.994767",
     "status": "completed"
    },
    "tags": []
   },
   "outputs": [
    {
     "name": "stdout",
     "output_type": "stream",
     "text": [
      "\u001b[32m2021-09-07 16:51:03\u001b[0m \u001b[1;30mERROR:\u001b[0m \u001b[31mreference_genome=[<Reference(id=1, name=NC_045512, length=29903)>] does not have a tree\u001b[0m\r\n"
     ]
    },
    {
     "name": "stdout",
     "output_type": "stream",
     "text": [
      "Wrote tree to cases/case-200/tree.tre\n"
     ]
    }
   ],
   "source": [
    "!gdi --project-dir {index_path} export tree {reference_name} > {output_tree}\n",
    "print(f'Wrote tree to {output_tree}')"
   ]
  }
 ],
 "metadata": {
  "kernelspec": {
   "display_name": "Python 3 (ipykernel)",
   "language": "python",
   "name": "python3"
  },
  "language_info": {
   "codemirror_mode": {
    "name": "ipython",
    "version": 3
   },
   "file_extension": ".py",
   "mimetype": "text/x-python",
   "name": "python",
   "nbconvert_exporter": "python",
   "pygments_lexer": "ipython3",
   "version": "3.8.10"
  },
  "papermill": {
   "default_parameters": {},
   "duration": 694.394899,
   "end_time": "2021-09-07T21:51:05.090562",
   "environment_variables": {},
   "exception": null,
   "input_path": "template-3-index-genomes.ipynb",
   "output_path": "3-index-genomes.case-200.ipynb",
   "parameters": {
    "cases_dir": "cases/case-200",
    "iterations": 3,
    "number_samples": 200
   },
   "start_time": "2021-09-07T21:39:30.695663",
   "version": "2.3.3"
  }
 },
 "nbformat": 4,
 "nbformat_minor": 5
}