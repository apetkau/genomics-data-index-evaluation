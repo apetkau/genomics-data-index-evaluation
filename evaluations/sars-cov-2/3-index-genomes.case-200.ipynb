{
 "cells": [
  {
   "cell_type": "markdown",
   "id": "7d3667b4-b1f8-4347-96e3-830c25b06740",
   "metadata": {
    "papermill": {
     "duration": 0.01606,
     "end_time": "2021-09-08T04:16:02.489494",
     "exception": false,
     "start_time": "2021-09-08T04:16:02.473434",
     "status": "completed"
    },
    "tags": []
   },
   "source": [
    "# 1. Parameters"
   ]
  },
  {
   "cell_type": "code",
   "execution_count": 1,
   "id": "d4ab0749-b286-4c34-b63c-a854e4952bae",
   "metadata": {
    "execution": {
     "iopub.execute_input": "2021-09-08T04:16:02.519882Z",
     "iopub.status.busy": "2021-09-08T04:16:02.519349Z",
     "iopub.status.idle": "2021-09-08T04:16:02.523899Z",
     "shell.execute_reply": "2021-09-08T04:16:02.523370Z"
    },
    "papermill": {
     "duration": 0.024962,
     "end_time": "2021-09-08T04:16:02.524028",
     "exception": false,
     "start_time": "2021-09-08T04:16:02.499066",
     "status": "completed"
    },
    "tags": [
     "parameters"
    ]
   },
   "outputs": [],
   "source": [
    "# Defaults\n",
    "cases_dir = 'cases/unset'\n",
    "reference_file = 'references/NC_045512.gbk.gz'\n",
    "input_files_all = 'input/input-files.tsv'\n",
    "iterations = 3\n",
    "mincov = 10\n",
    "ncores = 32\n",
    "number_samples = 10"
   ]
  },
  {
   "cell_type": "code",
   "execution_count": 2,
   "id": "2641e155",
   "metadata": {
    "execution": {
     "iopub.execute_input": "2021-09-08T04:16:02.544954Z",
     "iopub.status.busy": "2021-09-08T04:16:02.544525Z",
     "iopub.status.idle": "2021-09-08T04:16:02.547872Z",
     "shell.execute_reply": "2021-09-08T04:16:02.547525Z"
    },
    "papermill": {
     "duration": 0.016164,
     "end_time": "2021-09-08T04:16:02.547990",
     "exception": false,
     "start_time": "2021-09-08T04:16:02.531826",
     "status": "completed"
    },
    "tags": [
     "injected-parameters"
    ]
   },
   "outputs": [],
   "source": [
    "# Parameters\n",
    "cases_dir = \"cases/case-200\"\n",
    "iterations = 3\n",
    "number_samples = 200\n"
   ]
  },
  {
   "cell_type": "code",
   "execution_count": 3,
   "id": "ce5962e4-261c-4210-b39b-47044e28466b",
   "metadata": {
    "execution": {
     "iopub.execute_input": "2021-09-08T04:16:02.570461Z",
     "iopub.status.busy": "2021-09-08T04:16:02.564516Z",
     "iopub.status.idle": "2021-09-08T04:16:05.095193Z",
     "shell.execute_reply": "2021-09-08T04:16:05.094253Z"
    },
    "papermill": {
     "duration": 2.540057,
     "end_time": "2021-09-08T04:16:05.095452",
     "exception": false,
     "start_time": "2021-09-08T04:16:02.555395",
     "status": "completed"
    },
    "tags": []
   },
   "outputs": [],
   "source": [
    "from pathlib import Path\n",
    "from shutil import rmtree\n",
    "from os import makedirs\n",
    "import imp\n",
    "fp, pathname, description = imp.find_module('gdi_benchmark', ['../../lib'])\n",
    "gdi_benchmark = imp.load_module('gdi_benchmark', fp, pathname, description)\n",
    "\n",
    "cases_dir_path = Path(cases_dir)\n",
    "\n",
    "if cases_dir_path.exists():\n",
    "    rmtree(cases_dir_path)\n",
    "    \n",
    "if not cases_dir_path.exists():\n",
    "    makedirs(cases_dir_path)\n",
    "\n",
    "input_files_all = Path(input_files_all)\n",
    "reference_file = Path(reference_file)\n",
    "\n",
    "case_name = str(cases_dir_path.name)\n",
    "reference_name = reference_file.name.split('.')[0]\n",
    "\n",
    "cases_input = cases_dir_path / 'input-files-case.tsv'\n",
    "index_path = cases_dir_path / 'index'\n",
    "benchmark_path = cases_dir_path / 'index-info.tsv'\n",
    "output_tree = cases_dir_path / 'tree.tre'"
   ]
  },
  {
   "cell_type": "markdown",
   "id": "1673d80f-b52a-4b68-b400-355540495e15",
   "metadata": {
    "papermill": {
     "duration": 0.008128,
     "end_time": "2021-09-08T04:16:05.119069",
     "exception": false,
     "start_time": "2021-09-08T04:16:05.110941",
     "status": "completed"
    },
    "tags": []
   },
   "source": [
    "# 2. Create subset input"
   ]
  },
  {
   "cell_type": "code",
   "execution_count": 4,
   "id": "4e66adb1-3ef7-45d1-8e46-723dcb9d0c31",
   "metadata": {
    "execution": {
     "iopub.execute_input": "2021-09-08T04:16:05.139340Z",
     "iopub.status.busy": "2021-09-08T04:16:05.138224Z",
     "iopub.status.idle": "2021-09-08T04:16:05.174181Z",
     "shell.execute_reply": "2021-09-08T04:16:05.175054Z"
    },
    "papermill": {
     "duration": 0.049979,
     "end_time": "2021-09-08T04:16:05.175316",
     "exception": false,
     "start_time": "2021-09-08T04:16:05.125337",
     "status": "completed"
    },
    "tags": []
   },
   "outputs": [
    {
     "name": "stdout",
     "output_type": "stream",
     "text": [
      "Wrote 200/10000 samples to cases/case-200/input-files-case.tsv\n"
     ]
    }
   ],
   "source": [
    "import pandas as pd\n",
    "\n",
    "all_input_df = pd.read_csv(input_files_all, sep='\\t')\n",
    "all_input_total = len(all_input_df)\n",
    "\n",
    "subset_input_df = all_input_df.head(number_samples)\n",
    "subset_input_total = len(subset_input_df)\n",
    "\n",
    "subset_input_df.to_csv(cases_input, sep='\\t', index=False)\n",
    "\n",
    "print(f'Wrote {subset_input_total}/{all_input_total} samples to {cases_input}')"
   ]
  },
  {
   "cell_type": "markdown",
   "id": "f208279e-7558-47fc-9362-da29df92828a",
   "metadata": {
    "papermill": {
     "duration": 0.009233,
     "end_time": "2021-09-08T04:16:05.199173",
     "exception": false,
     "start_time": "2021-09-08T04:16:05.189940",
     "status": "completed"
    },
    "tags": []
   },
   "source": [
    "# 2. Index genomes"
   ]
  },
  {
   "cell_type": "code",
   "execution_count": 5,
   "id": "4e936f7c-2fcd-4188-b0e6-6b3ceb5cdcd2",
   "metadata": {
    "execution": {
     "iopub.execute_input": "2021-09-08T04:16:05.218900Z",
     "iopub.status.busy": "2021-09-08T04:16:05.217815Z",
     "iopub.status.idle": "2021-09-08T04:16:08.020994Z",
     "shell.execute_reply": "2021-09-08T04:16:08.021898Z"
    },
    "papermill": {
     "duration": 2.816269,
     "end_time": "2021-09-08T04:16:08.022249",
     "exception": false,
     "start_time": "2021-09-08T04:16:05.205980",
     "status": "completed"
    },
    "tags": []
   },
   "outputs": [
    {
     "name": "stdout",
     "output_type": "stream",
     "text": [
      "gdi, version 0.3.0.dev11\r\n"
     ]
    }
   ],
   "source": [
    "!gdi --version"
   ]
  },
  {
   "cell_type": "markdown",
   "id": "5409ecf8-2158-4361-9d2f-6b1a6c7c63a6",
   "metadata": {
    "papermill": {
     "duration": 0.009242,
     "end_time": "2021-09-08T04:16:08.046955",
     "exception": false,
     "start_time": "2021-09-08T04:16:08.037713",
     "status": "completed"
    },
    "tags": []
   },
   "source": [
    "## 2.1. Index reads"
   ]
  },
  {
   "cell_type": "code",
   "execution_count": 6,
   "id": "3d63e861-733e-46f2-8bce-bd1a2c7c7058",
   "metadata": {
    "execution": {
     "iopub.execute_input": "2021-09-08T04:16:08.072399Z",
     "iopub.status.busy": "2021-09-08T04:16:08.068510Z",
     "iopub.status.idle": "2021-09-08T07:20:55.902418Z",
     "shell.execute_reply": "2021-09-08T07:20:55.901247Z"
    },
    "papermill": {
     "duration": 11087.849496,
     "end_time": "2021-09-08T07:20:55.902871",
     "exception": false,
     "start_time": "2021-09-08T04:16:08.053375",
     "status": "completed"
    },
    "tags": []
   },
   "outputs": [
    {
     "name": "stdout",
     "output_type": "stream",
     "text": [
      "\n",
      "Iteration 1 of index/analysis of 200 samples with 32 cores\n",
      "Removing any extra snakemake directories: ['snakemake-assemblies.1631073497.3653932']\n"
     ]
    },
    {
     "name": "stdout",
     "output_type": "stream",
     "text": [
      "Creating new index: [gdi init cases/case-200/index]\n"
     ]
    },
    {
     "name": "stdout",
     "output_type": "stream",
     "text": [
      "Creating a new index took 2.89 seconds\n",
      "Analysis running: [gdi --project-dir cases/case-200/index --ncores 32 analysis --use-conda --no-load-data --reference-file references/NC_045512.gbk.gz --kmer-size 31 --kmer-size 51 --kmer-size 71 --include-kmer --reads-mincov 10 --input-structured-genomes-file cases/case-200/input-files-case.tsv]\n"
     ]
    },
    {
     "name": "stdout",
     "output_type": "stream",
     "text": [
      "Analysis took 3.13 minutes\n",
      "Index running: [gdi --project-dir cases/case-200/index --ncores 32 load vcf-kmer --reference-file references/NC_045512.gbk.gz /home/CSCScience.ca/apetkau/workspace/genomics-data-index-evaluation/evaluations/sars-cov-2/snakemake-assemblies.1631074575.8234556/gdi-input.fofn]\n"
     ]
    },
    {
     "name": "stdout",
     "output_type": "stream",
     "text": [
      "Indexing took 0.26 minutes\n",
      "Building tree: [gdi --project-dir cases/case-200/index --ncores 32 rebuild tree --align-type full --extra-params '--fast -m GTR+F+R4' NC_045512]\n"
     ]
    },
    {
     "name": "stdout",
     "output_type": "stream",
     "text": [
      "Building tree took 62.08 minutes\n"
     ]
    },
    {
     "name": "stderr",
     "output_type": "stream",
     "text": [
      "A reminder to myself to look for a Python solution for directory sizes (instead of running `du`)\n"
     ]
    },
    {
     "name": "stdout",
     "output_type": "stream",
     "text": [
      "\n",
      "Iteration 2 of index/analysis of 200 samples with 32 cores\n",
      "Removing any extra snakemake directories: ['snakemake-assemblies.1631074575.8234556']\n"
     ]
    },
    {
     "name": "stdout",
     "output_type": "stream",
     "text": [
      "Removing any existing indexes cases/case-200/index\n",
      "Creating new index: [gdi init cases/case-200/index]\n"
     ]
    },
    {
     "name": "stdout",
     "output_type": "stream",
     "text": [
      "Creating a new index took 3.27 seconds\n",
      "Analysis running: [gdi --project-dir cases/case-200/index --ncores 32 analysis --use-conda --no-load-data --reference-file references/NC_045512.gbk.gz --kmer-size 31 --kmer-size 51 --kmer-size 71 --include-kmer --reads-mincov 10 --input-structured-genomes-file cases/case-200/input-files-case.tsv]\n"
     ]
    },
    {
     "name": "stdout",
     "output_type": "stream",
     "text": [
      "Analysis took 3.17 minutes\n",
      "Index running: [gdi --project-dir cases/case-200/index --ncores 32 load vcf-kmer --reference-file references/NC_045512.gbk.gz /home/CSCScience.ca/apetkau/workspace/genomics-data-index-evaluation/evaluations/sars-cov-2/snakemake-assemblies.1631078509.4616594/gdi-input.fofn]\n"
     ]
    },
    {
     "name": "stdout",
     "output_type": "stream",
     "text": [
      "Indexing took 0.25 minutes\n",
      "Building tree: [gdi --project-dir cases/case-200/index --ncores 32 rebuild tree --align-type full --extra-params '--fast -m GTR+F+R4' NC_045512]\n"
     ]
    },
    {
     "name": "stdout",
     "output_type": "stream",
     "text": [
      "Building tree took 63.22 minutes\n"
     ]
    },
    {
     "name": "stderr",
     "output_type": "stream",
     "text": [
      "Attempting to set global database_path_translator=<genomics_data_index.storage.model.db.DatabasePathTranslator.DatabasePathTranslator object at 0x7fa9bc3ad5e0> but it is already set\n"
     ]
    },
    {
     "name": "stderr",
     "output_type": "stream",
     "text": [
      "A reminder to myself to look for a Python solution for directory sizes (instead of running `du`)\n"
     ]
    },
    {
     "name": "stdout",
     "output_type": "stream",
     "text": [
      "\n",
      "Iteration 3 of index/analysis of 200 samples with 32 cores\n",
      "Removing any extra snakemake directories: ['snakemake-assemblies.1631078509.4616594']\n"
     ]
    },
    {
     "name": "stdout",
     "output_type": "stream",
     "text": [
      "Removing any existing indexes cases/case-200/index\n",
      "Creating new index: [gdi init cases/case-200/index]\n"
     ]
    },
    {
     "name": "stdout",
     "output_type": "stream",
     "text": [
      "Creating a new index took 2.61 seconds\n",
      "Analysis running: [gdi --project-dir cases/case-200/index --ncores 32 analysis --use-conda --no-load-data --reference-file references/NC_045512.gbk.gz --kmer-size 31 --kmer-size 51 --kmer-size 71 --include-kmer --reads-mincov 10 --input-structured-genomes-file cases/case-200/input-files-case.tsv]\n"
     ]
    },
    {
     "name": "stdout",
     "output_type": "stream",
     "text": [
      "Analysis took 3.27 minutes\n",
      "Index running: [gdi --project-dir cases/case-200/index --ncores 32 load vcf-kmer --reference-file references/NC_045512.gbk.gz /home/CSCScience.ca/apetkau/workspace/genomics-data-index-evaluation/evaluations/sars-cov-2/snakemake-assemblies.1631082512.3220916/gdi-input.fofn]\n"
     ]
    },
    {
     "name": "stdout",
     "output_type": "stream",
     "text": [
      "Indexing took 0.25 minutes\n",
      "Building tree: [gdi --project-dir cases/case-200/index --ncores 32 rebuild tree --align-type full --extra-params '--fast -m GTR+F+R4' NC_045512]\n"
     ]
    },
    {
     "name": "stdout",
     "output_type": "stream",
     "text": [
      "Building tree took 48.91 minutes\n"
     ]
    },
    {
     "name": "stderr",
     "output_type": "stream",
     "text": [
      "Attempting to set global database_path_translator=<genomics_data_index.storage.model.db.DatabasePathTranslator.DatabasePathTranslator object at 0x7fa9bc2e7940> but it is already set\n"
     ]
    },
    {
     "name": "stderr",
     "output_type": "stream",
     "text": [
      "A reminder to myself to look for a Python solution for directory sizes (instead of running `du`)\n"
     ]
    }
   ],
   "source": [
    "results_handler = gdi_benchmark.BenchmarkResultsHandler(name=case_name)\n",
    "benchmarker = gdi_benchmark.IndexBenchmarker(benchmark_results_handler=results_handler,\n",
    "                                             index_path=index_path, input_files_file=cases_input,\n",
    "                                             reference_file=reference_file, mincov=mincov, build_tree=True,\n",
    "                                             ncores=ncores)\n",
    "\n",
    "benchmark_df = benchmarker.benchmark(iterations=iterations)"
   ]
  },
  {
   "cell_type": "code",
   "execution_count": 7,
   "id": "3bcb6da7-0164-47f2-abdd-a4c159da1e3b",
   "metadata": {
    "execution": {
     "iopub.execute_input": "2021-09-08T07:20:55.954292Z",
     "iopub.status.busy": "2021-09-08T07:20:55.953163Z",
     "iopub.status.idle": "2021-09-08T07:20:55.985985Z",
     "shell.execute_reply": "2021-09-08T07:20:55.986877Z"
    },
    "papermill": {
     "duration": 0.060641,
     "end_time": "2021-09-08T07:20:55.987153",
     "exception": false,
     "start_time": "2021-09-08T07:20:55.926512",
     "status": "completed"
    },
    "tags": []
   },
   "outputs": [
    {
     "data": {
      "text/html": [
       "<div>\n",
       "<style scoped>\n",
       "    .dataframe tbody tr th:only-of-type {\n",
       "        vertical-align: middle;\n",
       "    }\n",
       "\n",
       "    .dataframe tbody tr th {\n",
       "        vertical-align: top;\n",
       "    }\n",
       "\n",
       "    .dataframe thead th {\n",
       "        text-align: right;\n",
       "    }\n",
       "</style>\n",
       "<table border=\"1\" class=\"dataframe\">\n",
       "  <thead>\n",
       "    <tr style=\"text-align: right;\">\n",
       "      <th></th>\n",
       "      <th>Name</th>\n",
       "      <th>Iteration</th>\n",
       "      <th>Number samples</th>\n",
       "      <th>Number features (all)</th>\n",
       "      <th>Number features (no unknown)</th>\n",
       "      <th>Number cores</th>\n",
       "      <th>Reference length</th>\n",
       "      <th>Analysis runtime</th>\n",
       "      <th>Analysis memory (max)</th>\n",
       "      <th>Analysis memory (max/process)</th>\n",
       "      <th>Analysis disk uage</th>\n",
       "      <th>Index runtime</th>\n",
       "      <th>Index memory (max)</th>\n",
       "      <th>Index memory (max/process)</th>\n",
       "      <th>Index size</th>\n",
       "      <th>Tree runtime</th>\n",
       "      <th>Tree memory (max)</th>\n",
       "      <th>Tree memory (max/process)</th>\n",
       "      <th>Total runtime</th>\n",
       "      <th>Max memory</th>\n",
       "    </tr>\n",
       "  </thead>\n",
       "  <tbody>\n",
       "    <tr>\n",
       "      <th>0</th>\n",
       "      <td>case-200</td>\n",
       "      <td>1</td>\n",
       "      <td>200</td>\n",
       "      <td>14301</td>\n",
       "      <td>549</td>\n",
       "      <td>32</td>\n",
       "      <td>29903</td>\n",
       "      <td>187.77</td>\n",
       "      <td>1.182872e+09</td>\n",
       "      <td>371519488.0</td>\n",
       "      <td>3.486761e+09</td>\n",
       "      <td>15.26</td>\n",
       "      <td>5.717885e+09</td>\n",
       "      <td>316936192.0</td>\n",
       "      <td>5496832.0</td>\n",
       "      <td>3720.00</td>\n",
       "      <td>302231552.0</td>\n",
       "      <td>227401728.0</td>\n",
       "      <td>3923.03</td>\n",
       "      <td>5.717885e+09</td>\n",
       "    </tr>\n",
       "    <tr>\n",
       "      <th>0</th>\n",
       "      <td>case-200</td>\n",
       "      <td>2</td>\n",
       "      <td>200</td>\n",
       "      <td>14301</td>\n",
       "      <td>549</td>\n",
       "      <td>32</td>\n",
       "      <td>29903</td>\n",
       "      <td>189.92</td>\n",
       "      <td>1.269178e+09</td>\n",
       "      <td>379707392.0</td>\n",
       "      <td>3.486749e+09</td>\n",
       "      <td>14.75</td>\n",
       "      <td>5.713908e+09</td>\n",
       "      <td>316235776.0</td>\n",
       "      <td>5492736.0</td>\n",
       "      <td>3781.00</td>\n",
       "      <td>302735360.0</td>\n",
       "      <td>227663872.0</td>\n",
       "      <td>3985.67</td>\n",
       "      <td>5.713908e+09</td>\n",
       "    </tr>\n",
       "    <tr>\n",
       "      <th>0</th>\n",
       "      <td>case-200</td>\n",
       "      <td>3</td>\n",
       "      <td>200</td>\n",
       "      <td>14301</td>\n",
       "      <td>549</td>\n",
       "      <td>32</td>\n",
       "      <td>29903</td>\n",
       "      <td>195.88</td>\n",
       "      <td>1.552396e+09</td>\n",
       "      <td>373956608.0</td>\n",
       "      <td>3.486753e+09</td>\n",
       "      <td>15.11</td>\n",
       "      <td>5.714952e+09</td>\n",
       "      <td>316665856.0</td>\n",
       "      <td>5476352.0</td>\n",
       "      <td>2934.22</td>\n",
       "      <td>302444544.0</td>\n",
       "      <td>227508224.0</td>\n",
       "      <td>3145.21</td>\n",
       "      <td>5.714952e+09</td>\n",
       "    </tr>\n",
       "  </tbody>\n",
       "</table>\n",
       "</div>"
      ],
      "text/plain": [
       "       Name  Iteration  Number samples  Number features (all)  \\\n",
       "0  case-200          1             200                  14301   \n",
       "0  case-200          2             200                  14301   \n",
       "0  case-200          3             200                  14301   \n",
       "\n",
       "   Number features (no unknown)  Number cores  Reference length  \\\n",
       "0                           549            32             29903   \n",
       "0                           549            32             29903   \n",
       "0                           549            32             29903   \n",
       "\n",
       "   Analysis runtime  Analysis memory (max)  Analysis memory (max/process)  \\\n",
       "0            187.77           1.182872e+09                    371519488.0   \n",
       "0            189.92           1.269178e+09                    379707392.0   \n",
       "0            195.88           1.552396e+09                    373956608.0   \n",
       "\n",
       "   Analysis disk uage  Index runtime  Index memory (max)  \\\n",
       "0        3.486761e+09          15.26        5.717885e+09   \n",
       "0        3.486749e+09          14.75        5.713908e+09   \n",
       "0        3.486753e+09          15.11        5.714952e+09   \n",
       "\n",
       "   Index memory (max/process)  Index size  Tree runtime  Tree memory (max)  \\\n",
       "0                 316936192.0   5496832.0       3720.00        302231552.0   \n",
       "0                 316235776.0   5492736.0       3781.00        302735360.0   \n",
       "0                 316665856.0   5476352.0       2934.22        302444544.0   \n",
       "\n",
       "   Tree memory (max/process)  Total runtime    Max memory  \n",
       "0                227401728.0        3923.03  5.717885e+09  \n",
       "0                227663872.0        3985.67  5.713908e+09  \n",
       "0                227508224.0        3145.21  5.714952e+09  "
      ]
     },
     "execution_count": 7,
     "metadata": {},
     "output_type": "execute_result"
    }
   ],
   "source": [
    "benchmark_df"
   ]
  },
  {
   "cell_type": "code",
   "execution_count": 8,
   "id": "535a9ccc-ab9c-4919-806f-128e1efd2389",
   "metadata": {
    "execution": {
     "iopub.execute_input": "2021-09-08T07:20:56.030363Z",
     "iopub.status.busy": "2021-09-08T07:20:56.028975Z",
     "iopub.status.idle": "2021-09-08T07:20:56.033558Z",
     "shell.execute_reply": "2021-09-08T07:20:56.033962Z"
    },
    "papermill": {
     "duration": 0.024229,
     "end_time": "2021-09-08T07:20:56.034108",
     "exception": false,
     "start_time": "2021-09-08T07:20:56.009879",
     "status": "completed"
    },
    "tags": []
   },
   "outputs": [],
   "source": [
    "benchmark_df.to_csv(benchmark_path, sep='\\t', index=False)"
   ]
  },
  {
   "cell_type": "markdown",
   "id": "6cb7673b-9f85-4c43-b2e2-93538497a196",
   "metadata": {
    "papermill": {
     "duration": 0.010132,
     "end_time": "2021-09-08T07:20:56.059010",
     "exception": false,
     "start_time": "2021-09-08T07:20:56.048878",
     "status": "completed"
    },
    "tags": []
   },
   "source": [
    "# 3. Export trees"
   ]
  },
  {
   "cell_type": "code",
   "execution_count": 9,
   "id": "5280f82c-5434-4391-8c44-b937a7c95bd5",
   "metadata": {
    "execution": {
     "iopub.execute_input": "2021-09-08T07:20:56.085852Z",
     "iopub.status.busy": "2021-09-08T07:20:56.085456Z",
     "iopub.status.idle": "2021-09-08T07:20:58.839655Z",
     "shell.execute_reply": "2021-09-08T07:20:58.840490Z"
    },
    "papermill": {
     "duration": 2.771748,
     "end_time": "2021-09-08T07:20:58.840801",
     "exception": false,
     "start_time": "2021-09-08T07:20:56.069053",
     "status": "completed"
    },
    "tags": []
   },
   "outputs": [
    {
     "name": "stdout",
     "output_type": "stream",
     "text": [
      "Wrote tree to cases/case-200/tree.tre\n"
     ]
    }
   ],
   "source": [
    "!gdi --project-dir {index_path} export tree {reference_name} > {output_tree}\n",
    "print(f'Wrote tree to {output_tree}')"
   ]
  }
 ],
 "metadata": {
  "kernelspec": {
   "display_name": "Python 3 (ipykernel)",
   "language": "python",
   "name": "python3"
  },
  "language_info": {
   "codemirror_mode": {
    "name": "ipython",
    "version": 3
   },
   "file_extension": ".py",
   "mimetype": "text/x-python",
   "name": "python",
   "nbconvert_exporter": "python",
   "pygments_lexer": "ipython3",
   "version": "3.8.10"
  },
  "papermill": {
   "default_parameters": {},
   "duration": 11098.527103,
   "end_time": "2021-09-08T07:21:00.223195",
   "environment_variables": {},
   "exception": null,
   "input_path": "template-3-index-genomes.ipynb",
   "output_path": "3-index-genomes.case-200.ipynb",
   "parameters": {
    "cases_dir": "cases/case-200",
    "iterations": 3,
    "number_samples": 200
   },
   "start_time": "2021-09-08T04:16:01.696092",
   "version": "2.3.3"
  }
 },
 "nbformat": 4,
 "nbformat_minor": 5
}