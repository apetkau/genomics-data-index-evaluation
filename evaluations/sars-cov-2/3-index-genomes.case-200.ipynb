{
 "cells": [
  {
   "cell_type": "markdown",
   "id": "7d3667b4-b1f8-4347-96e3-830c25b06740",
   "metadata": {
    "papermill": {
     "duration": 0.014765,
     "end_time": "2021-09-09T15:16:45.930551",
     "exception": false,
     "start_time": "2021-09-09T15:16:45.915786",
     "status": "completed"
    },
    "tags": []
   },
   "source": [
    "# 1. Parameters"
   ]
  },
  {
   "cell_type": "code",
   "execution_count": 1,
   "id": "d4ab0749-b286-4c34-b63c-a854e4952bae",
   "metadata": {
    "execution": {
     "iopub.execute_input": "2021-09-09T15:16:45.960914Z",
     "iopub.status.busy": "2021-09-09T15:16:45.960377Z",
     "iopub.status.idle": "2021-09-09T15:16:45.965695Z",
     "shell.execute_reply": "2021-09-09T15:16:45.965138Z"
    },
    "papermill": {
     "duration": 0.02631,
     "end_time": "2021-09-09T15:16:45.965819",
     "exception": false,
     "start_time": "2021-09-09T15:16:45.939509",
     "status": "completed"
    },
    "tags": [
     "parameters"
    ]
   },
   "outputs": [],
   "source": [
    "# Defaults\n",
    "cases_dir = 'cases/unset'\n",
    "reference_file = 'references/NC_045512.gbk.gz'\n",
    "input_files_all = 'input/input-files.tsv'\n",
    "iterations = 3\n",
    "mincov = 10\n",
    "ncores = 32\n",
    "number_samples = 10\n",
    "build_tree = False"
   ]
  },
  {
   "cell_type": "code",
   "execution_count": 2,
   "id": "cef5dd5f",
   "metadata": {
    "execution": {
     "iopub.execute_input": "2021-09-09T15:16:45.987882Z",
     "iopub.status.busy": "2021-09-09T15:16:45.987443Z",
     "iopub.status.idle": "2021-09-09T15:16:45.990881Z",
     "shell.execute_reply": "2021-09-09T15:16:45.990546Z"
    },
    "papermill": {
     "duration": 0.015428,
     "end_time": "2021-09-09T15:16:45.990974",
     "exception": false,
     "start_time": "2021-09-09T15:16:45.975546",
     "status": "completed"
    },
    "tags": [
     "injected-parameters"
    ]
   },
   "outputs": [],
   "source": [
    "# Parameters\n",
    "cases_dir = \"cases/case-200\"\n",
    "iterations = 3\n",
    "number_samples = 200\n",
    "build_tree = True\n"
   ]
  },
  {
   "cell_type": "code",
   "execution_count": 3,
   "id": "ce5962e4-261c-4210-b39b-47044e28466b",
   "metadata": {
    "execution": {
     "iopub.execute_input": "2021-09-09T15:16:46.013873Z",
     "iopub.status.busy": "2021-09-09T15:16:46.013444Z",
     "iopub.status.idle": "2021-09-09T15:16:48.805315Z",
     "shell.execute_reply": "2021-09-09T15:16:48.804363Z"
    },
    "papermill": {
     "duration": 2.809086,
     "end_time": "2021-09-09T15:16:48.805566",
     "exception": false,
     "start_time": "2021-09-09T15:16:45.996480",
     "status": "completed"
    },
    "tags": []
   },
   "outputs": [],
   "source": [
    "from pathlib import Path\n",
    "from shutil import rmtree\n",
    "from os import makedirs\n",
    "import imp\n",
    "fp, pathname, description = imp.find_module('gdi_benchmark', ['../../lib'])\n",
    "gdi_benchmark = imp.load_module('gdi_benchmark', fp, pathname, description)\n",
    "\n",
    "cases_dir_path = Path(cases_dir)\n",
    "\n",
    "if cases_dir_path.exists():\n",
    "    rmtree(cases_dir_path)\n",
    "    \n",
    "if not cases_dir_path.exists():\n",
    "    makedirs(cases_dir_path)\n",
    "\n",
    "input_files_all = Path(input_files_all)\n",
    "reference_file = Path(reference_file)\n",
    "\n",
    "case_name = str(cases_dir_path.name)\n",
    "reference_name = reference_file.name.split('.')[0]\n",
    "\n",
    "cases_input = cases_dir_path / 'input-files-case.tsv'\n",
    "index_path = cases_dir_path / 'index'\n",
    "benchmark_path = cases_dir_path / 'index-info.tsv'\n",
    "output_tree = cases_dir_path / 'tree.tre'"
   ]
  },
  {
   "cell_type": "markdown",
   "id": "1673d80f-b52a-4b68-b400-355540495e15",
   "metadata": {
    "papermill": {
     "duration": 0.00875,
     "end_time": "2021-09-09T15:16:48.828677",
     "exception": false,
     "start_time": "2021-09-09T15:16:48.819927",
     "status": "completed"
    },
    "tags": []
   },
   "source": [
    "# 2. Create subset input"
   ]
  },
  {
   "cell_type": "code",
   "execution_count": 4,
   "id": "4e66adb1-3ef7-45d1-8e46-723dcb9d0c31",
   "metadata": {
    "execution": {
     "iopub.execute_input": "2021-09-09T15:16:48.849659Z",
     "iopub.status.busy": "2021-09-09T15:16:48.843870Z",
     "iopub.status.idle": "2021-09-09T15:16:49.092464Z",
     "shell.execute_reply": "2021-09-09T15:16:49.093340Z"
    },
    "papermill": {
     "duration": 0.258497,
     "end_time": "2021-09-09T15:16:49.093626",
     "exception": false,
     "start_time": "2021-09-09T15:16:48.835129",
     "status": "completed"
    },
    "tags": []
   },
   "outputs": [
    {
     "name": "stdout",
     "output_type": "stream",
     "text": [
      "Wrote 200/100000 samples to cases/case-200/input-files-case.tsv\n"
     ]
    }
   ],
   "source": [
    "import pandas as pd\n",
    "\n",
    "all_input_df = pd.read_csv(input_files_all, sep='\\t')\n",
    "all_input_total = len(all_input_df)\n",
    "\n",
    "subset_input_df = all_input_df.head(number_samples)\n",
    "subset_input_total = len(subset_input_df)\n",
    "\n",
    "subset_input_df.to_csv(cases_input, sep='\\t', index=False)\n",
    "\n",
    "print(f'Wrote {subset_input_total}/{all_input_total} samples to {cases_input}')"
   ]
  },
  {
   "cell_type": "markdown",
   "id": "f208279e-7558-47fc-9362-da29df92828a",
   "metadata": {
    "papermill": {
     "duration": 0.008342,
     "end_time": "2021-09-09T15:16:49.116596",
     "exception": false,
     "start_time": "2021-09-09T15:16:49.108254",
     "status": "completed"
    },
    "tags": []
   },
   "source": [
    "# 2. Index genomes"
   ]
  },
  {
   "cell_type": "code",
   "execution_count": 5,
   "id": "4e936f7c-2fcd-4188-b0e6-6b3ceb5cdcd2",
   "metadata": {
    "execution": {
     "iopub.execute_input": "2021-09-09T15:16:49.145084Z",
     "iopub.status.busy": "2021-09-09T15:16:49.134437Z",
     "iopub.status.idle": "2021-09-09T15:16:52.026557Z",
     "shell.execute_reply": "2021-09-09T15:16:52.027396Z"
    },
    "papermill": {
     "duration": 2.904964,
     "end_time": "2021-09-09T15:16:52.027732",
     "exception": false,
     "start_time": "2021-09-09T15:16:49.122768",
     "status": "completed"
    },
    "tags": []
   },
   "outputs": [
    {
     "name": "stdout",
     "output_type": "stream",
     "text": [
      "gdi, version 0.3.0.dev12\r\n"
     ]
    }
   ],
   "source": [
    "!gdi --version"
   ]
  },
  {
   "cell_type": "markdown",
   "id": "5409ecf8-2158-4361-9d2f-6b1a6c7c63a6",
   "metadata": {
    "papermill": {
     "duration": 0.009199,
     "end_time": "2021-09-09T15:16:52.052464",
     "exception": false,
     "start_time": "2021-09-09T15:16:52.043265",
     "status": "completed"
    },
    "tags": []
   },
   "source": [
    "## 2.1. Index reads"
   ]
  },
  {
   "cell_type": "code",
   "execution_count": 6,
   "id": "3d63e861-733e-46f2-8bce-bd1a2c7c7058",
   "metadata": {
    "execution": {
     "iopub.execute_input": "2021-09-09T15:16:52.075943Z",
     "iopub.status.busy": "2021-09-09T15:16:52.074878Z",
     "iopub.status.idle": "2021-09-09T18:34:02.484390Z",
     "shell.execute_reply": "2021-09-09T18:34:02.485288Z"
    },
    "papermill": {
     "duration": 11830.426114,
     "end_time": "2021-09-09T18:34:02.485793",
     "exception": false,
     "start_time": "2021-09-09T15:16:52.059679",
     "status": "completed"
    },
    "tags": []
   },
   "outputs": [
    {
     "name": "stdout",
     "output_type": "stream",
     "text": [
      "\n",
      "Iteration 1 of index/analysis of 200 samples with 32 cores\n",
      "Removing any extra snakemake directories: ['snakemake-assemblies.1631187744.8564174']\n"
     ]
    },
    {
     "name": "stdout",
     "output_type": "stream",
     "text": [
      "Creating new index: [gdi init cases/case-200/index]\n"
     ]
    },
    {
     "name": "stdout",
     "output_type": "stream",
     "text": [
      "Creating a new index took 3.43 seconds\n",
      "Analysis running: [gdi --project-dir cases/case-200/index --ncores 32 analysis --use-conda --no-load-data --reference-file references/NC_045512.gbk.gz --kmer-size 31 --kmer-size 51 --kmer-size 71 --include-kmer --reads-mincov 10 --input-structured-genomes-file cases/case-200/input-files-case.tsv]\n"
     ]
    },
    {
     "name": "stdout",
     "output_type": "stream",
     "text": [
      "Analysis took 3.46 minutes\n",
      "Index running: [gdi --project-dir cases/case-200/index --ncores 32 load vcf-kmer --reference-file references/NC_045512.gbk.gz /home/CSCScience.ca/apetkau/workspace/genomics-data-index-evaluation/evaluations/sars-cov-2/snakemake-assemblies.1631200639.3001618/gdi-input.fofn]\n"
     ]
    },
    {
     "name": "stdout",
     "output_type": "stream",
     "text": [
      "Indexing took 0.28 minutes\n",
      "Building tree: [gdi --project-dir cases/case-200/index --ncores 32 rebuild tree --align-type full --extra-params '--fast -m GTR+F+R4' NC_045512]\n"
     ]
    },
    {
     "name": "stdout",
     "output_type": "stream",
     "text": [
      "Building tree took 54.73 minutes\n"
     ]
    },
    {
     "name": "stderr",
     "output_type": "stream",
     "text": [
      "A reminder to myself to look for a Python solution for directory sizes (instead of running `du`)\n"
     ]
    },
    {
     "name": "stdout",
     "output_type": "stream",
     "text": [
      "\n",
      "Iteration 2 of index/analysis of 200 samples with 32 cores\n",
      "Removing any extra snakemake directories: ['snakemake-assemblies.1631200639.3001618']\n"
     ]
    },
    {
     "name": "stdout",
     "output_type": "stream",
     "text": [
      "Removing any existing indexes cases/case-200/index\n",
      "Creating new index: [gdi init cases/case-200/index]\n"
     ]
    },
    {
     "name": "stdout",
     "output_type": "stream",
     "text": [
      "Creating a new index took 3.18 seconds\n",
      "Analysis running: [gdi --project-dir cases/case-200/index --ncores 32 analysis --use-conda --no-load-data --reference-file references/NC_045512.gbk.gz --kmer-size 31 --kmer-size 51 --kmer-size 71 --include-kmer --reads-mincov 10 --input-structured-genomes-file cases/case-200/input-files-case.tsv]\n"
     ]
    },
    {
     "name": "stdout",
     "output_type": "stream",
     "text": [
      "Analysis took 3.42 minutes\n",
      "Index running: [gdi --project-dir cases/case-200/index --ncores 32 load vcf-kmer --reference-file references/NC_045512.gbk.gz /home/CSCScience.ca/apetkau/workspace/genomics-data-index-evaluation/evaluations/sars-cov-2/snakemake-assemblies.1631204153.2839918/gdi-input.fofn]\n"
     ]
    },
    {
     "name": "stdout",
     "output_type": "stream",
     "text": [
      "Indexing took 0.27 minutes\n",
      "Building tree: [gdi --project-dir cases/case-200/index --ncores 32 rebuild tree --align-type full --extra-params '--fast -m GTR+F+R4' NC_045512]\n"
     ]
    },
    {
     "name": "stdout",
     "output_type": "stream",
     "text": [
      "Building tree took 65.22 minutes\n"
     ]
    },
    {
     "name": "stderr",
     "output_type": "stream",
     "text": [
      "Attempting to set global database_path_translator=<genomics_data_index.storage.model.db.DatabasePathTranslator.DatabasePathTranslator object at 0x7f245255a850> but it is already set\n"
     ]
    },
    {
     "name": "stderr",
     "output_type": "stream",
     "text": [
      "A reminder to myself to look for a Python solution for directory sizes (instead of running `du`)\n"
     ]
    },
    {
     "name": "stdout",
     "output_type": "stream",
     "text": [
      "\n",
      "Iteration 3 of index/analysis of 200 samples with 32 cores\n",
      "Removing any extra snakemake directories: ['snakemake-assemblies.1631204153.2839918']\n"
     ]
    },
    {
     "name": "stdout",
     "output_type": "stream",
     "text": [
      "Removing any existing indexes cases/case-200/index\n",
      "Creating new index: [gdi init cases/case-200/index]\n"
     ]
    },
    {
     "name": "stdout",
     "output_type": "stream",
     "text": [
      "Creating a new index took 2.96 seconds\n",
      "Analysis running: [gdi --project-dir cases/case-200/index --ncores 32 analysis --use-conda --no-load-data --reference-file references/NC_045512.gbk.gz --kmer-size 31 --kmer-size 51 --kmer-size 71 --include-kmer --reads-mincov 10 --input-structured-genomes-file cases/case-200/input-files-case.tsv]\n"
     ]
    },
    {
     "name": "stdout",
     "output_type": "stream",
     "text": [
      "Analysis took 3.38 minutes\n",
      "Index running: [gdi --project-dir cases/case-200/index --ncores 32 load vcf-kmer --reference-file references/NC_045512.gbk.gz /home/CSCScience.ca/apetkau/workspace/genomics-data-index-evaluation/evaluations/sars-cov-2/snakemake-assemblies.1631208292.8445542/gdi-input.fofn]\n"
     ]
    },
    {
     "name": "stdout",
     "output_type": "stream",
     "text": [
      "Indexing took 0.26 minutes\n",
      "Building tree: [gdi --project-dir cases/case-200/index --ncores 32 rebuild tree --align-type full --extra-params '--fast -m GTR+F+R4' NC_045512]\n"
     ]
    },
    {
     "name": "stdout",
     "output_type": "stream",
     "text": [
      "Building tree took 65.56 minutes\n"
     ]
    },
    {
     "name": "stderr",
     "output_type": "stream",
     "text": [
      "Attempting to set global database_path_translator=<genomics_data_index.storage.model.db.DatabasePathTranslator.DatabasePathTranslator object at 0x7f245aa6cd30> but it is already set\n"
     ]
    },
    {
     "name": "stderr",
     "output_type": "stream",
     "text": [
      "A reminder to myself to look for a Python solution for directory sizes (instead of running `du`)\n"
     ]
    }
   ],
   "source": [
    "results_handler = gdi_benchmark.BenchmarkResultsHandler(name=case_name)\n",
    "benchmarker = gdi_benchmark.IndexBenchmarker(benchmark_results_handler=results_handler,\n",
    "                                             index_path=index_path, input_files_file=cases_input,\n",
    "                                             reference_file=reference_file, mincov=mincov,\n",
    "                                             build_tree=build_tree,\n",
    "                                             ncores=ncores)\n",
    "\n",
    "benchmark_df = benchmarker.benchmark(iterations=iterations)"
   ]
  },
  {
   "cell_type": "code",
   "execution_count": 7,
   "id": "3bcb6da7-0164-47f2-abdd-a4c159da1e3b",
   "metadata": {
    "execution": {
     "iopub.execute_input": "2021-09-09T18:34:02.549598Z",
     "iopub.status.busy": "2021-09-09T18:34:02.535372Z",
     "iopub.status.idle": "2021-09-09T18:34:02.562570Z",
     "shell.execute_reply": "2021-09-09T18:34:02.563488Z"
    },
    "papermill": {
     "duration": 0.05441,
     "end_time": "2021-09-09T18:34:02.563755",
     "exception": false,
     "start_time": "2021-09-09T18:34:02.509345",
     "status": "completed"
    },
    "tags": []
   },
   "outputs": [
    {
     "data": {
      "text/html": [
       "<div>\n",
       "<style scoped>\n",
       "    .dataframe tbody tr th:only-of-type {\n",
       "        vertical-align: middle;\n",
       "    }\n",
       "\n",
       "    .dataframe tbody tr th {\n",
       "        vertical-align: top;\n",
       "    }\n",
       "\n",
       "    .dataframe thead th {\n",
       "        text-align: right;\n",
       "    }\n",
       "</style>\n",
       "<table border=\"1\" class=\"dataframe\">\n",
       "  <thead>\n",
       "    <tr style=\"text-align: right;\">\n",
       "      <th></th>\n",
       "      <th>Name</th>\n",
       "      <th>Iteration</th>\n",
       "      <th>Number samples</th>\n",
       "      <th>Number features (all)</th>\n",
       "      <th>Number features (no unknown)</th>\n",
       "      <th>Number cores</th>\n",
       "      <th>Reference length</th>\n",
       "      <th>Analysis runtime</th>\n",
       "      <th>Analysis memory (max)</th>\n",
       "      <th>Analysis memory (max/process)</th>\n",
       "      <th>Analysis disk uage</th>\n",
       "      <th>Index runtime</th>\n",
       "      <th>Index memory (max)</th>\n",
       "      <th>Index memory (max/process)</th>\n",
       "      <th>Index size</th>\n",
       "      <th>Tree runtime</th>\n",
       "      <th>Tree memory (max)</th>\n",
       "      <th>Tree memory (max/process)</th>\n",
       "      <th>Total runtime</th>\n",
       "      <th>Max memory</th>\n",
       "    </tr>\n",
       "  </thead>\n",
       "  <tbody>\n",
       "    <tr>\n",
       "      <th>0</th>\n",
       "      <td>case-200</td>\n",
       "      <td>1</td>\n",
       "      <td>200</td>\n",
       "      <td>19476</td>\n",
       "      <td>639</td>\n",
       "      <td>32</td>\n",
       "      <td>29903</td>\n",
       "      <td>207.63</td>\n",
       "      <td>1.620275e+09</td>\n",
       "      <td>377466880.0</td>\n",
       "      <td>3.486777e+09</td>\n",
       "      <td>16.88</td>\n",
       "      <td>5.754376e+09</td>\n",
       "      <td>328499200.0</td>\n",
       "      <td>6094848.0</td>\n",
       "      <td>3283.12</td>\n",
       "      <td>320462848.0</td>\n",
       "      <td>226562048.0</td>\n",
       "      <td>3507.63</td>\n",
       "      <td>5.754376e+09</td>\n",
       "    </tr>\n",
       "    <tr>\n",
       "      <th>0</th>\n",
       "      <td>case-200</td>\n",
       "      <td>2</td>\n",
       "      <td>200</td>\n",
       "      <td>19476</td>\n",
       "      <td>639</td>\n",
       "      <td>32</td>\n",
       "      <td>29903</td>\n",
       "      <td>205.18</td>\n",
       "      <td>2.350715e+09</td>\n",
       "      <td>376160256.0</td>\n",
       "      <td>3.486781e+09</td>\n",
       "      <td>15.97</td>\n",
       "      <td>5.706424e+09</td>\n",
       "      <td>328876032.0</td>\n",
       "      <td>6094848.0</td>\n",
       "      <td>3901.00</td>\n",
       "      <td>320765952.0</td>\n",
       "      <td>226562048.0</td>\n",
       "      <td>4122.15</td>\n",
       "      <td>5.706424e+09</td>\n",
       "    </tr>\n",
       "    <tr>\n",
       "      <th>0</th>\n",
       "      <td>case-200</td>\n",
       "      <td>3</td>\n",
       "      <td>200</td>\n",
       "      <td>19476</td>\n",
       "      <td>639</td>\n",
       "      <td>32</td>\n",
       "      <td>29903</td>\n",
       "      <td>202.43</td>\n",
       "      <td>1.967960e+09</td>\n",
       "      <td>380801024.0</td>\n",
       "      <td>3.486786e+09</td>\n",
       "      <td>15.77</td>\n",
       "      <td>5.717668e+09</td>\n",
       "      <td>329539584.0</td>\n",
       "      <td>6074368.0</td>\n",
       "      <td>3903.00</td>\n",
       "      <td>321376256.0</td>\n",
       "      <td>226615296.0</td>\n",
       "      <td>4121.20</td>\n",
       "      <td>5.717668e+09</td>\n",
       "    </tr>\n",
       "  </tbody>\n",
       "</table>\n",
       "</div>"
      ],
      "text/plain": [
       "       Name  Iteration  Number samples  Number features (all)  \\\n",
       "0  case-200          1             200                  19476   \n",
       "0  case-200          2             200                  19476   \n",
       "0  case-200          3             200                  19476   \n",
       "\n",
       "   Number features (no unknown)  Number cores  Reference length  \\\n",
       "0                           639            32             29903   \n",
       "0                           639            32             29903   \n",
       "0                           639            32             29903   \n",
       "\n",
       "   Analysis runtime  Analysis memory (max)  Analysis memory (max/process)  \\\n",
       "0            207.63           1.620275e+09                    377466880.0   \n",
       "0            205.18           2.350715e+09                    376160256.0   \n",
       "0            202.43           1.967960e+09                    380801024.0   \n",
       "\n",
       "   Analysis disk uage  Index runtime  Index memory (max)  \\\n",
       "0        3.486777e+09          16.88        5.754376e+09   \n",
       "0        3.486781e+09          15.97        5.706424e+09   \n",
       "0        3.486786e+09          15.77        5.717668e+09   \n",
       "\n",
       "   Index memory (max/process)  Index size  Tree runtime  Tree memory (max)  \\\n",
       "0                 328499200.0   6094848.0       3283.12        320462848.0   \n",
       "0                 328876032.0   6094848.0       3901.00        320765952.0   \n",
       "0                 329539584.0   6074368.0       3903.00        321376256.0   \n",
       "\n",
       "   Tree memory (max/process)  Total runtime    Max memory  \n",
       "0                226562048.0        3507.63  5.754376e+09  \n",
       "0                226562048.0        4122.15  5.706424e+09  \n",
       "0                226615296.0        4121.20  5.717668e+09  "
      ]
     },
     "execution_count": 7,
     "metadata": {},
     "output_type": "execute_result"
    }
   ],
   "source": [
    "benchmark_df"
   ]
  },
  {
   "cell_type": "code",
   "execution_count": 8,
   "id": "535a9ccc-ab9c-4919-806f-128e1efd2389",
   "metadata": {
    "execution": {
     "iopub.execute_input": "2021-09-09T18:34:02.602108Z",
     "iopub.status.busy": "2021-09-09T18:34:02.600872Z",
     "iopub.status.idle": "2021-09-09T18:34:02.605983Z",
     "shell.execute_reply": "2021-09-09T18:34:02.606304Z"
    },
    "papermill": {
     "duration": 0.022095,
     "end_time": "2021-09-09T18:34:02.606414",
     "exception": false,
     "start_time": "2021-09-09T18:34:02.584319",
     "status": "completed"
    },
    "tags": []
   },
   "outputs": [],
   "source": [
    "benchmark_df.to_csv(benchmark_path, sep='\\t', index=False)"
   ]
  },
  {
   "cell_type": "markdown",
   "id": "6cb7673b-9f85-4c43-b2e2-93538497a196",
   "metadata": {
    "papermill": {
     "duration": 0.01097,
     "end_time": "2021-09-09T18:34:02.629335",
     "exception": false,
     "start_time": "2021-09-09T18:34:02.618365",
     "status": "completed"
    },
    "tags": []
   },
   "source": [
    "# 3. Export trees"
   ]
  },
  {
   "cell_type": "code",
   "execution_count": 9,
   "id": "5280f82c-5434-4391-8c44-b937a7c95bd5",
   "metadata": {
    "execution": {
     "iopub.execute_input": "2021-09-09T18:34:02.666503Z",
     "iopub.status.busy": "2021-09-09T18:34:02.657016Z",
     "iopub.status.idle": "2021-09-09T18:34:05.449330Z",
     "shell.execute_reply": "2021-09-09T18:34:05.448424Z"
    },
    "papermill": {
     "duration": 2.810363,
     "end_time": "2021-09-09T18:34:05.449578",
     "exception": false,
     "start_time": "2021-09-09T18:34:02.639215",
     "status": "completed"
    },
    "tags": []
   },
   "outputs": [
    {
     "name": "stdout",
     "output_type": "stream",
     "text": [
      "Wrote tree to cases/case-200/tree.tre\n"
     ]
    }
   ],
   "source": [
    "if build_tree:\n",
    "    !gdi --project-dir {index_path} export tree {reference_name} > {output_tree}\n",
    "    print(f'Wrote tree to {output_tree}')\n",
    "else:\n",
    "    print(f'build_tree={build_tree} so no tree to export')"
   ]
  }
 ],
 "metadata": {
  "kernelspec": {
   "display_name": "Python 3 (ipykernel)",
   "language": "python",
   "name": "python3"
  },
  "language_info": {
   "codemirror_mode": {
    "name": "ipython",
    "version": 3
   },
   "file_extension": ".py",
   "mimetype": "text/x-python",
   "name": "python",
   "nbconvert_exporter": "python",
   "pygments_lexer": "ipython3",
   "version": "3.8.10"
  },
  "papermill": {
   "default_parameters": {},
   "duration": 11841.973014,
   "end_time": "2021-09-09T18:34:06.928383",
   "environment_variables": {},
   "exception": null,
   "input_path": "template-3-index-genomes.ipynb",
   "output_path": "3-index-genomes.case-200.ipynb",
   "parameters": {
    "build_tree": true,
    "cases_dir": "cases/case-200",
    "iterations": 3,
    "number_samples": 200
   },
   "start_time": "2021-09-09T15:16:44.955369",
   "version": "2.3.3"
  }
 },
 "nbformat": 4,
 "nbformat_minor": 5
}