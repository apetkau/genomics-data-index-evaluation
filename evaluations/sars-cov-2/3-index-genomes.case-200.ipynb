{
 "cells": [
  {
   "cell_type": "markdown",
   "id": "7d3667b4-b1f8-4347-96e3-830c25b06740",
   "metadata": {
    "papermill": {
     "duration": 0.015579,
     "end_time": "2022-03-11T09:49:45.391780",
     "exception": false,
     "start_time": "2022-03-11T09:49:45.376201",
     "status": "completed"
    },
    "tags": []
   },
   "source": [
    "# 1. Parameters"
   ]
  },
  {
   "cell_type": "code",
   "execution_count": 1,
   "id": "d4ab0749-b286-4c34-b63c-a854e4952bae",
   "metadata": {
    "execution": {
     "iopub.execute_input": "2022-03-11T09:49:45.422278Z",
     "iopub.status.busy": "2022-03-11T09:49:45.421738Z",
     "iopub.status.idle": "2022-03-11T09:49:45.426700Z",
     "shell.execute_reply": "2022-03-11T09:49:45.426182Z"
    },
    "papermill": {
     "duration": 0.026195,
     "end_time": "2022-03-11T09:49:45.426834",
     "exception": false,
     "start_time": "2022-03-11T09:49:45.400639",
     "status": "completed"
    },
    "tags": [
     "parameters"
    ]
   },
   "outputs": [],
   "source": [
    "# Defaults\n",
    "cases_dir = 'cases/unset'\n",
    "reference_file = 'references/NC_045512.gbk.gz'\n",
    "input_files_all = 'input/input-files.tsv'\n",
    "iterations = 3\n",
    "mincov = 10\n",
    "ncores = 32\n",
    "number_samples = 10\n",
    "build_tree = False\n",
    "sample_batch_size=2000"
   ]
  },
  {
   "cell_type": "code",
   "execution_count": 2,
   "id": "08116329",
   "metadata": {
    "execution": {
     "iopub.execute_input": "2022-03-11T09:49:45.449622Z",
     "iopub.status.busy": "2022-03-11T09:49:45.449157Z",
     "iopub.status.idle": "2022-03-11T09:49:45.451911Z",
     "shell.execute_reply": "2022-03-11T09:49:45.452257Z"
    },
    "papermill": {
     "duration": 0.015557,
     "end_time": "2022-03-11T09:49:45.452375",
     "exception": false,
     "start_time": "2022-03-11T09:49:45.436818",
     "status": "completed"
    },
    "tags": [
     "injected-parameters"
    ]
   },
   "outputs": [],
   "source": [
    "# Parameters\n",
    "cases_dir = \"cases/case-200\"\n",
    "iterations = 3\n",
    "number_samples = 200\n",
    "build_tree = True\n"
   ]
  },
  {
   "cell_type": "code",
   "execution_count": 3,
   "id": "ce5962e4-261c-4210-b39b-47044e28466b",
   "metadata": {
    "execution": {
     "iopub.execute_input": "2022-03-11T09:49:45.474569Z",
     "iopub.status.busy": "2022-03-11T09:49:45.474107Z",
     "iopub.status.idle": "2022-03-11T09:49:48.388502Z",
     "shell.execute_reply": "2022-03-11T09:49:48.387462Z"
    },
    "papermill": {
     "duration": 2.930044,
     "end_time": "2022-03-11T09:49:48.388753",
     "exception": false,
     "start_time": "2022-03-11T09:49:45.458709",
     "status": "completed"
    },
    "tags": []
   },
   "outputs": [],
   "source": [
    "from pathlib import Path\n",
    "from shutil import rmtree\n",
    "from os import makedirs\n",
    "import imp\n",
    "fp, pathname, description = imp.find_module('gdi_benchmark', ['../../lib'])\n",
    "gdi_benchmark = imp.load_module('gdi_benchmark', fp, pathname, description)\n",
    "\n",
    "cases_dir_path = Path(cases_dir)\n",
    "\n",
    "if cases_dir_path.exists():\n",
    "    rmtree(cases_dir_path)\n",
    "    \n",
    "if not cases_dir_path.exists():\n",
    "    makedirs(cases_dir_path)\n",
    "\n",
    "input_files_all = Path(input_files_all)\n",
    "reference_file = Path(reference_file)\n",
    "\n",
    "case_name = str(cases_dir_path.name)\n",
    "reference_name = reference_file.name.split('.')[0]\n",
    "\n",
    "cases_input = cases_dir_path / 'input-files-case.tsv'\n",
    "index_path = cases_dir_path / 'index'\n",
    "benchmark_path = cases_dir_path / 'index-info.tsv'\n",
    "output_tree = cases_dir_path / 'tree.tre'"
   ]
  },
  {
   "cell_type": "markdown",
   "id": "1673d80f-b52a-4b68-b400-355540495e15",
   "metadata": {
    "papermill": {
     "duration": 0.00887,
     "end_time": "2022-03-11T09:49:48.412001",
     "exception": false,
     "start_time": "2022-03-11T09:49:48.403131",
     "status": "completed"
    },
    "tags": []
   },
   "source": [
    "# 2. Create subset input"
   ]
  },
  {
   "cell_type": "code",
   "execution_count": 4,
   "id": "4e66adb1-3ef7-45d1-8e46-723dcb9d0c31",
   "metadata": {
    "execution": {
     "iopub.execute_input": "2022-03-11T09:49:48.433831Z",
     "iopub.status.busy": "2022-03-11T09:49:48.433417Z",
     "iopub.status.idle": "2022-03-11T09:49:48.707661Z",
     "shell.execute_reply": "2022-03-11T09:49:48.708574Z"
    },
    "papermill": {
     "duration": 0.290128,
     "end_time": "2022-03-11T09:49:48.708876",
     "exception": false,
     "start_time": "2022-03-11T09:49:48.418748",
     "status": "completed"
    },
    "tags": []
   },
   "outputs": [
    {
     "name": "stdout",
     "output_type": "stream",
     "text": [
      "Wrote 200/100000 samples to cases/case-200/input-files-case.tsv\n"
     ]
    }
   ],
   "source": [
    "import pandas as pd\n",
    "\n",
    "all_input_df = pd.read_csv(input_files_all, sep='\\t')\n",
    "all_input_total = len(all_input_df)\n",
    "\n",
    "subset_input_df = all_input_df.head(number_samples)\n",
    "subset_input_total = len(subset_input_df)\n",
    "\n",
    "subset_input_df.to_csv(cases_input, sep='\\t', index=False)\n",
    "\n",
    "print(f'Wrote {subset_input_total}/{all_input_total} samples to {cases_input}')"
   ]
  },
  {
   "cell_type": "markdown",
   "id": "f208279e-7558-47fc-9362-da29df92828a",
   "metadata": {
    "papermill": {
     "duration": 0.00946,
     "end_time": "2022-03-11T09:49:48.733841",
     "exception": false,
     "start_time": "2022-03-11T09:49:48.724381",
     "status": "completed"
    },
    "tags": []
   },
   "source": [
    "# 2. Index genomes"
   ]
  },
  {
   "cell_type": "code",
   "execution_count": 5,
   "id": "4e936f7c-2fcd-4188-b0e6-6b3ceb5cdcd2",
   "metadata": {
    "execution": {
     "iopub.execute_input": "2022-03-11T09:49:48.753051Z",
     "iopub.status.busy": "2022-03-11T09:49:48.752626Z",
     "iopub.status.idle": "2022-03-11T09:49:51.586279Z",
     "shell.execute_reply": "2022-03-11T09:49:51.587154Z"
    },
    "papermill": {
     "duration": 2.846847,
     "end_time": "2022-03-11T09:49:51.587485",
     "exception": false,
     "start_time": "2022-03-11T09:49:48.740638",
     "status": "completed"
    },
    "tags": []
   },
   "outputs": [
    {
     "name": "stdout",
     "output_type": "stream",
     "text": [
      "gdi, version 0.6.0.dev2\r\n"
     ]
    }
   ],
   "source": [
    "!gdi --version"
   ]
  },
  {
   "cell_type": "markdown",
   "id": "5409ecf8-2158-4361-9d2f-6b1a6c7c63a6",
   "metadata": {
    "papermill": {
     "duration": 0.010253,
     "end_time": "2022-03-11T09:49:51.615090",
     "exception": false,
     "start_time": "2022-03-11T09:49:51.604837",
     "status": "completed"
    },
    "tags": []
   },
   "source": [
    "## 2.1. Index reads"
   ]
  },
  {
   "cell_type": "code",
   "execution_count": 6,
   "id": "3d63e861-733e-46f2-8bce-bd1a2c7c7058",
   "metadata": {
    "execution": {
     "iopub.execute_input": "2022-03-11T09:49:51.642209Z",
     "iopub.status.busy": "2022-03-11T09:49:51.641184Z",
     "iopub.status.idle": "2022-03-11T12:33:20.595942Z",
     "shell.execute_reply": "2022-03-11T12:33:20.594799Z"
    },
    "papermill": {
     "duration": 9808.973673,
     "end_time": "2022-03-11T12:33:20.596453",
     "exception": false,
     "start_time": "2022-03-11T09:49:51.622780",
     "status": "completed"
    },
    "tags": []
   },
   "outputs": [
    {
     "name": "stdout",
     "output_type": "stream",
     "text": [
      "\n",
      "Iteration 1 of index/analysis of 200 samples with 32 cores\n",
      "Removing any extra snakemake directories: ['snakemake-assemblies.1646982984.1068096']\n"
     ]
    },
    {
     "name": "stdout",
     "output_type": "stream",
     "text": [
      "Creating new index: [gdi init cases/case-200/index]\n"
     ]
    },
    {
     "name": "stdout",
     "output_type": "stream",
     "text": [
      "Creating a new index took 3.03 seconds\n",
      "Analysis running: [gdi --project-dir cases/case-200/index --ncores 32 analysis --use-conda --no-load-data --reference-file references/NC_045512.gbk.gz --kmer-size 31 --kmer-size 51 --kmer-size 71 --include-kmer --reads-mincov 10 --input-structured-genomes-file cases/case-200/input-files-case.tsv]\n"
     ]
    },
    {
     "name": "stdout",
     "output_type": "stream",
     "text": [
      "Analysis took 3.68 minutes\n",
      "Index running: [gdi --project-dir cases/case-200/index --ncores 32 load vcf-kmer --sample-batch-size 2000 --reference-file references/NC_045512.gbk.gz /home/CSCScience.ca/apetkau/workspace/genomics-data-index-evaluation/evaluations/sars-cov-2/snakemake-assemblies.1646992207.4432878/gdi-input.fofn]\n"
     ]
    },
    {
     "name": "stdout",
     "output_type": "stream",
     "text": [
      "Indexing took 0.28 minutes\n",
      "Building tree: [gdi --project-dir cases/case-200/index --ncores 32 rebuild tree --align-type full --extra-params '--fast -m GTR+F+R4' NC_045512]\n"
     ]
    },
    {
     "name": "stdout",
     "output_type": "stream",
     "text": [
      "Building tree took 53.46 minutes\n"
     ]
    },
    {
     "name": "stderr",
     "output_type": "stream",
     "text": [
      "A reminder to myself to look for a Python solution for directory sizes (instead of running `du`)\n"
     ]
    },
    {
     "name": "stdout",
     "output_type": "stream",
     "text": [
      "\n",
      "Iteration 2 of index/analysis of 200 samples with 32 cores\n",
      "Removing any extra snakemake directories: ['snakemake-assemblies.1646992207.4432878']\n"
     ]
    },
    {
     "name": "stdout",
     "output_type": "stream",
     "text": [
      "Removing any existing indexes cases/case-200/index\n",
      "Creating new index: [gdi init cases/case-200/index]\n"
     ]
    },
    {
     "name": "stdout",
     "output_type": "stream",
     "text": [
      "Creating a new index took 2.91 seconds\n",
      "Analysis running: [gdi --project-dir cases/case-200/index --ncores 32 analysis --use-conda --no-load-data --reference-file references/NC_045512.gbk.gz --kmer-size 31 --kmer-size 51 --kmer-size 71 --include-kmer --reads-mincov 10 --input-structured-genomes-file cases/case-200/input-files-case.tsv]\n"
     ]
    },
    {
     "name": "stdout",
     "output_type": "stream",
     "text": [
      "Analysis took 3.52 minutes\n",
      "Index running: [gdi --project-dir cases/case-200/index --ncores 32 load vcf-kmer --sample-batch-size 2000 --reference-file references/NC_045512.gbk.gz /home/CSCScience.ca/apetkau/workspace/genomics-data-index-evaluation/evaluations/sars-cov-2/snakemake-assemblies.1646995658.3788667/gdi-input.fofn]\n"
     ]
    },
    {
     "name": "stdout",
     "output_type": "stream",
     "text": [
      "Indexing took 0.26 minutes\n",
      "Building tree: [gdi --project-dir cases/case-200/index --ncores 32 rebuild tree --align-type full --extra-params '--fast -m GTR+F+R4' NC_045512]\n"
     ]
    },
    {
     "name": "stdout",
     "output_type": "stream",
     "text": [
      "Building tree took 50.00 minutes\n"
     ]
    },
    {
     "name": "stderr",
     "output_type": "stream",
     "text": [
      "Attempting to set global database_path_translator=<genomics_data_index.storage.model.db.DatabasePathTranslator.DatabasePathTranslator object at 0x7f3b5b368670> but it is already set\n"
     ]
    },
    {
     "name": "stderr",
     "output_type": "stream",
     "text": [
      "A reminder to myself to look for a Python solution for directory sizes (instead of running `du`)\n"
     ]
    },
    {
     "name": "stdout",
     "output_type": "stream",
     "text": [
      "\n",
      "Iteration 3 of index/analysis of 200 samples with 32 cores\n",
      "Removing any extra snakemake directories: ['snakemake-assemblies.1646995658.3788667']\n"
     ]
    },
    {
     "name": "stdout",
     "output_type": "stream",
     "text": [
      "Removing any existing indexes cases/case-200/index\n",
      "Creating new index: [gdi init cases/case-200/index]\n"
     ]
    },
    {
     "name": "stdout",
     "output_type": "stream",
     "text": [
      "Creating a new index took 2.64 seconds\n",
      "Analysis running: [gdi --project-dir cases/case-200/index --ncores 32 analysis --use-conda --no-load-data --reference-file references/NC_045512.gbk.gz --kmer-size 31 --kmer-size 51 --kmer-size 71 --include-kmer --reads-mincov 10 --input-structured-genomes-file cases/case-200/input-files-case.tsv]\n"
     ]
    },
    {
     "name": "stdout",
     "output_type": "stream",
     "text": [
      "Analysis took 3.30 minutes\n",
      "Index running: [gdi --project-dir cases/case-200/index --ncores 32 load vcf-kmer --sample-batch-size 2000 --reference-file references/NC_045512.gbk.gz /home/CSCScience.ca/apetkau/workspace/genomics-data-index-evaluation/evaluations/sars-cov-2/snakemake-assemblies.1646998890.2827504/gdi-input.fofn]\n"
     ]
    },
    {
     "name": "stdout",
     "output_type": "stream",
     "text": [
      "Indexing took 0.26 minutes\n",
      "Building tree: [gdi --project-dir cases/case-200/index --ncores 32 rebuild tree --align-type full --extra-params '--fast -m GTR+F+R4' NC_045512]\n"
     ]
    },
    {
     "name": "stdout",
     "output_type": "stream",
     "text": [
      "Building tree took 48.31 minutes\n"
     ]
    },
    {
     "name": "stderr",
     "output_type": "stream",
     "text": [
      "Attempting to set global database_path_translator=<genomics_data_index.storage.model.db.DatabasePathTranslator.DatabasePathTranslator object at 0x7f3b5b1fd640> but it is already set\n"
     ]
    },
    {
     "name": "stderr",
     "output_type": "stream",
     "text": [
      "A reminder to myself to look for a Python solution for directory sizes (instead of running `du`)\n"
     ]
    }
   ],
   "source": [
    "results_handler = gdi_benchmark.BenchmarkResultsHandler(name=case_name)\n",
    "benchmarker = gdi_benchmark.IndexBenchmarker(benchmark_results_handler=results_handler,\n",
    "                                             index_path=index_path, input_files_file=cases_input,\n",
    "                                             reference_file=reference_file, mincov=mincov,\n",
    "                                             build_tree=build_tree,\n",
    "                                             ncores=ncores,\n",
    "                                             sample_batch_size=sample_batch_size)\n",
    "\n",
    "benchmark_df = benchmarker.benchmark(iterations=iterations)"
   ]
  },
  {
   "cell_type": "code",
   "execution_count": 7,
   "id": "3bcb6da7-0164-47f2-abdd-a4c159da1e3b",
   "metadata": {
    "execution": {
     "iopub.execute_input": "2022-03-11T12:33:20.654745Z",
     "iopub.status.busy": "2022-03-11T12:33:20.654115Z",
     "iopub.status.idle": "2022-03-11T12:33:20.665456Z",
     "shell.execute_reply": "2022-03-11T12:33:20.666147Z"
    },
    "papermill": {
     "duration": 0.047087,
     "end_time": "2022-03-11T12:33:20.666359",
     "exception": false,
     "start_time": "2022-03-11T12:33:20.619272",
     "status": "completed"
    },
    "tags": []
   },
   "outputs": [
    {
     "data": {
      "text/html": [
       "<div>\n",
       "<style scoped>\n",
       "    .dataframe tbody tr th:only-of-type {\n",
       "        vertical-align: middle;\n",
       "    }\n",
       "\n",
       "    .dataframe tbody tr th {\n",
       "        vertical-align: top;\n",
       "    }\n",
       "\n",
       "    .dataframe thead th {\n",
       "        text-align: right;\n",
       "    }\n",
       "</style>\n",
       "<table border=\"1\" class=\"dataframe\">\n",
       "  <thead>\n",
       "    <tr style=\"text-align: right;\">\n",
       "      <th></th>\n",
       "      <th>Name</th>\n",
       "      <th>Reference name</th>\n",
       "      <th>Iteration</th>\n",
       "      <th>Number samples</th>\n",
       "      <th>Number features (all)</th>\n",
       "      <th>Number features (no unknown)</th>\n",
       "      <th>Number cores</th>\n",
       "      <th>Reference length</th>\n",
       "      <th>Analysis runtime</th>\n",
       "      <th>Analysis memory (max)</th>\n",
       "      <th>...</th>\n",
       "      <th>Analysis disk uage</th>\n",
       "      <th>Index runtime</th>\n",
       "      <th>Index memory (max)</th>\n",
       "      <th>Index memory (max/process)</th>\n",
       "      <th>Index size</th>\n",
       "      <th>Tree runtime</th>\n",
       "      <th>Tree memory (max)</th>\n",
       "      <th>Tree memory (max/process)</th>\n",
       "      <th>Total runtime</th>\n",
       "      <th>Max memory</th>\n",
       "    </tr>\n",
       "  </thead>\n",
       "  <tbody>\n",
       "    <tr>\n",
       "      <th>0</th>\n",
       "      <td>case-200</td>\n",
       "      <td>NC_045512</td>\n",
       "      <td>1</td>\n",
       "      <td>200</td>\n",
       "      <td>19477</td>\n",
       "      <td>640</td>\n",
       "      <td>32</td>\n",
       "      <td>29903</td>\n",
       "      <td>220.84</td>\n",
       "      <td>1.595105e+09</td>\n",
       "      <td>...</td>\n",
       "      <td>3.720192e+09</td>\n",
       "      <td>16.98</td>\n",
       "      <td>5.742600e+09</td>\n",
       "      <td>331476992.0</td>\n",
       "      <td>6082560.0</td>\n",
       "      <td>3207.12</td>\n",
       "      <td>322609152.0</td>\n",
       "      <td>228462592.0</td>\n",
       "      <td>3444.94</td>\n",
       "      <td>5.742600e+09</td>\n",
       "    </tr>\n",
       "    <tr>\n",
       "      <th>0</th>\n",
       "      <td>case-200</td>\n",
       "      <td>NC_045512</td>\n",
       "      <td>2</td>\n",
       "      <td>200</td>\n",
       "      <td>19477</td>\n",
       "      <td>640</td>\n",
       "      <td>32</td>\n",
       "      <td>29903</td>\n",
       "      <td>211.22</td>\n",
       "      <td>1.628615e+09</td>\n",
       "      <td>...</td>\n",
       "      <td>3.720196e+09</td>\n",
       "      <td>15.61</td>\n",
       "      <td>5.747229e+09</td>\n",
       "      <td>331845632.0</td>\n",
       "      <td>6082560.0</td>\n",
       "      <td>2999.56</td>\n",
       "      <td>322895872.0</td>\n",
       "      <td>228278272.0</td>\n",
       "      <td>3226.39</td>\n",
       "      <td>5.747229e+09</td>\n",
       "    </tr>\n",
       "    <tr>\n",
       "      <th>0</th>\n",
       "      <td>case-200</td>\n",
       "      <td>NC_045512</td>\n",
       "      <td>3</td>\n",
       "      <td>200</td>\n",
       "      <td>19477</td>\n",
       "      <td>640</td>\n",
       "      <td>32</td>\n",
       "      <td>29903</td>\n",
       "      <td>198.00</td>\n",
       "      <td>1.332355e+09</td>\n",
       "      <td>...</td>\n",
       "      <td>3.720184e+09</td>\n",
       "      <td>15.74</td>\n",
       "      <td>5.743817e+09</td>\n",
       "      <td>332742656.0</td>\n",
       "      <td>6094848.0</td>\n",
       "      <td>2898.05</td>\n",
       "      <td>326635520.0</td>\n",
       "      <td>228323328.0</td>\n",
       "      <td>3111.79</td>\n",
       "      <td>5.743817e+09</td>\n",
       "    </tr>\n",
       "  </tbody>\n",
       "</table>\n",
       "<p>3 rows × 21 columns</p>\n",
       "</div>"
      ],
      "text/plain": [
       "       Name Reference name  Iteration  Number samples  Number features (all)  \\\n",
       "0  case-200      NC_045512          1             200                  19477   \n",
       "0  case-200      NC_045512          2             200                  19477   \n",
       "0  case-200      NC_045512          3             200                  19477   \n",
       "\n",
       "   Number features (no unknown)  Number cores  Reference length  \\\n",
       "0                           640            32             29903   \n",
       "0                           640            32             29903   \n",
       "0                           640            32             29903   \n",
       "\n",
       "   Analysis runtime  Analysis memory (max)  ...  Analysis disk uage  \\\n",
       "0            220.84           1.595105e+09  ...        3.720192e+09   \n",
       "0            211.22           1.628615e+09  ...        3.720196e+09   \n",
       "0            198.00           1.332355e+09  ...        3.720184e+09   \n",
       "\n",
       "   Index runtime  Index memory (max)  Index memory (max/process)  Index size  \\\n",
       "0          16.98        5.742600e+09                 331476992.0   6082560.0   \n",
       "0          15.61        5.747229e+09                 331845632.0   6082560.0   \n",
       "0          15.74        5.743817e+09                 332742656.0   6094848.0   \n",
       "\n",
       "   Tree runtime  Tree memory (max)  Tree memory (max/process)  Total runtime  \\\n",
       "0       3207.12        322609152.0                228462592.0        3444.94   \n",
       "0       2999.56        322895872.0                228278272.0        3226.39   \n",
       "0       2898.05        326635520.0                228323328.0        3111.79   \n",
       "\n",
       "     Max memory  \n",
       "0  5.742600e+09  \n",
       "0  5.747229e+09  \n",
       "0  5.743817e+09  \n",
       "\n",
       "[3 rows x 21 columns]"
      ]
     },
     "execution_count": 7,
     "metadata": {},
     "output_type": "execute_result"
    }
   ],
   "source": [
    "benchmark_df"
   ]
  },
  {
   "cell_type": "code",
   "execution_count": 8,
   "id": "535a9ccc-ab9c-4919-806f-128e1efd2389",
   "metadata": {
    "execution": {
     "iopub.execute_input": "2022-03-11T12:33:20.700338Z",
     "iopub.status.busy": "2022-03-11T12:33:20.699940Z",
     "iopub.status.idle": "2022-03-11T12:33:20.702855Z",
     "shell.execute_reply": "2022-03-11T12:33:20.703242Z"
    },
    "papermill": {
     "duration": 0.019356,
     "end_time": "2022-03-11T12:33:20.703374",
     "exception": false,
     "start_time": "2022-03-11T12:33:20.684018",
     "status": "completed"
    },
    "tags": []
   },
   "outputs": [],
   "source": [
    "benchmark_df.to_csv(benchmark_path, sep='\\t', index=False)"
   ]
  },
  {
   "cell_type": "markdown",
   "id": "6cb7673b-9f85-4c43-b2e2-93538497a196",
   "metadata": {
    "papermill": {
     "duration": 0.01034,
     "end_time": "2022-03-11T12:33:20.727271",
     "exception": false,
     "start_time": "2022-03-11T12:33:20.716931",
     "status": "completed"
    },
    "tags": []
   },
   "source": [
    "# 3. Export trees"
   ]
  },
  {
   "cell_type": "code",
   "execution_count": 9,
   "id": "5280f82c-5434-4391-8c44-b937a7c95bd5",
   "metadata": {
    "execution": {
     "iopub.execute_input": "2022-03-11T12:33:20.755506Z",
     "iopub.status.busy": "2022-03-11T12:33:20.755050Z",
     "iopub.status.idle": "2022-03-11T12:33:23.606631Z",
     "shell.execute_reply": "2022-03-11T12:33:23.607482Z"
    },
    "papermill": {
     "duration": 2.87021,
     "end_time": "2022-03-11T12:33:23.607790",
     "exception": false,
     "start_time": "2022-03-11T12:33:20.737580",
     "status": "completed"
    },
    "tags": []
   },
   "outputs": [
    {
     "name": "stdout",
     "output_type": "stream",
     "text": [
      "Wrote tree to cases/case-200/tree.tre\n"
     ]
    }
   ],
   "source": [
    "if build_tree:\n",
    "    !gdi --project-dir {index_path} export tree {reference_name} > {output_tree}\n",
    "    print(f'Wrote tree to {output_tree}')\n",
    "else:\n",
    "    print(f'build_tree={build_tree} so no tree to export')"
   ]
  }
 ],
 "metadata": {
  "kernelspec": {
   "display_name": "Python 3 (ipykernel)",
   "language": "python",
   "name": "python3"
  },
  "language_info": {
   "codemirror_mode": {
    "name": "ipython",
    "version": 3
   },
   "file_extension": ".py",
   "mimetype": "text/x-python",
   "name": "python",
   "nbconvert_exporter": "python",
   "pygments_lexer": "ipython3",
   "version": "3.8.12"
  },
  "papermill": {
   "default_parameters": {},
   "duration": 9820.361946,
   "end_time": "2022-03-11T12:33:24.271483",
   "environment_variables": {},
   "exception": null,
   "input_path": "template-3-index-genomes.ipynb",
   "output_path": "3-index-genomes.case-200.ipynb",
   "parameters": {
    "build_tree": true,
    "cases_dir": "cases/case-200",
    "iterations": 3,
    "number_samples": 200
   },
   "start_time": "2022-03-11T09:49:43.909537",
   "version": "2.3.3"
  }
 },
 "nbformat": 4,
 "nbformat_minor": 5
}