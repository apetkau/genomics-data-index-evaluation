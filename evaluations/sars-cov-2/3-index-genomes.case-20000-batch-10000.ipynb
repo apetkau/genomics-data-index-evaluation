{
 "cells": [
  {
   "cell_type": "markdown",
   "id": "7d3667b4-b1f8-4347-96e3-830c25b06740",
   "metadata": {
    "papermill": {
     "duration": 0.015252,
     "end_time": "2022-03-13T05:02:11.660341",
     "exception": false,
     "start_time": "2022-03-13T05:02:11.645089",
     "status": "completed"
    },
    "tags": []
   },
   "source": [
    "# 1. Parameters"
   ]
  },
  {
   "cell_type": "code",
   "execution_count": 1,
   "id": "d4ab0749-b286-4c34-b63c-a854e4952bae",
   "metadata": {
    "execution": {
     "iopub.execute_input": "2022-03-13T05:02:11.691841Z",
     "iopub.status.busy": "2022-03-13T05:02:11.690687Z",
     "iopub.status.idle": "2022-03-13T05:02:11.696112Z",
     "shell.execute_reply": "2022-03-13T05:02:11.695047Z"
    },
    "papermill": {
     "duration": 0.027299,
     "end_time": "2022-03-13T05:02:11.696373",
     "exception": false,
     "start_time": "2022-03-13T05:02:11.669074",
     "status": "completed"
    },
    "tags": [
     "parameters"
    ]
   },
   "outputs": [],
   "source": [
    "# Defaults\n",
    "cases_dir = 'cases/unset'\n",
    "reference_file = 'references/NC_045512.gbk.gz'\n",
    "input_files_all = 'input/input-files.tsv'\n",
    "iterations = 3\n",
    "mincov = 10\n",
    "ncores = 32\n",
    "number_samples = 10\n",
    "build_tree = False\n",
    "sample_batch_size=2000"
   ]
  },
  {
   "cell_type": "code",
   "execution_count": 2,
   "id": "1a15dc1b",
   "metadata": {
    "execution": {
     "iopub.execute_input": "2022-03-13T05:02:11.725071Z",
     "iopub.status.busy": "2022-03-13T05:02:11.724582Z",
     "iopub.status.idle": "2022-03-13T05:02:11.727582Z",
     "shell.execute_reply": "2022-03-13T05:02:11.728056Z"
    },
    "papermill": {
     "duration": 0.017812,
     "end_time": "2022-03-13T05:02:11.728209",
     "exception": false,
     "start_time": "2022-03-13T05:02:11.710397",
     "status": "completed"
    },
    "tags": [
     "injected-parameters"
    ]
   },
   "outputs": [],
   "source": [
    "# Parameters\n",
    "cases_dir = \"cases/case-20000-batch-10000\"\n",
    "iterations = 3\n",
    "number_samples = 20000\n",
    "sample_batch_size = 10000\n",
    "build_tree = False\n"
   ]
  },
  {
   "cell_type": "code",
   "execution_count": 3,
   "id": "ce5962e4-261c-4210-b39b-47044e28466b",
   "metadata": {
    "execution": {
     "iopub.execute_input": "2022-03-13T05:02:11.754725Z",
     "iopub.status.busy": "2022-03-13T05:02:11.753763Z",
     "iopub.status.idle": "2022-03-13T05:02:14.187117Z",
     "shell.execute_reply": "2022-03-13T05:02:14.186147Z"
    },
    "papermill": {
     "duration": 2.450588,
     "end_time": "2022-03-13T05:02:14.187373",
     "exception": false,
     "start_time": "2022-03-13T05:02:11.736785",
     "status": "completed"
    },
    "tags": []
   },
   "outputs": [],
   "source": [
    "from pathlib import Path\n",
    "from shutil import rmtree\n",
    "from os import makedirs\n",
    "import imp\n",
    "fp, pathname, description = imp.find_module('gdi_benchmark', ['../../lib'])\n",
    "gdi_benchmark = imp.load_module('gdi_benchmark', fp, pathname, description)\n",
    "\n",
    "cases_dir_path = Path(cases_dir)\n",
    "\n",
    "if cases_dir_path.exists():\n",
    "    rmtree(cases_dir_path)\n",
    "    \n",
    "if not cases_dir_path.exists():\n",
    "    makedirs(cases_dir_path)\n",
    "\n",
    "input_files_all = Path(input_files_all)\n",
    "reference_file = Path(reference_file)\n",
    "\n",
    "case_name = str(cases_dir_path.name)\n",
    "reference_name = reference_file.name.split('.')[0]\n",
    "\n",
    "cases_input = cases_dir_path / 'input-files-case.tsv'\n",
    "index_path = cases_dir_path / 'index'\n",
    "benchmark_path = cases_dir_path / 'index-info.tsv'\n",
    "output_tree = cases_dir_path / 'tree.tre'"
   ]
  },
  {
   "cell_type": "markdown",
   "id": "1673d80f-b52a-4b68-b400-355540495e15",
   "metadata": {
    "papermill": {
     "duration": 0.008465,
     "end_time": "2022-03-13T05:02:14.209396",
     "exception": false,
     "start_time": "2022-03-13T05:02:14.200931",
     "status": "completed"
    },
    "tags": []
   },
   "source": [
    "# 2. Create subset input"
   ]
  },
  {
   "cell_type": "code",
   "execution_count": 4,
   "id": "4e66adb1-3ef7-45d1-8e46-723dcb9d0c31",
   "metadata": {
    "execution": {
     "iopub.execute_input": "2022-03-13T05:02:14.230342Z",
     "iopub.status.busy": "2022-03-13T05:02:14.229934Z",
     "iopub.status.idle": "2022-03-13T05:02:14.524991Z",
     "shell.execute_reply": "2022-03-13T05:02:14.525909Z"
    },
    "papermill": {
     "duration": 0.310109,
     "end_time": "2022-03-13T05:02:14.526209",
     "exception": false,
     "start_time": "2022-03-13T05:02:14.216100",
     "status": "completed"
    },
    "tags": []
   },
   "outputs": [
    {
     "name": "stdout",
     "output_type": "stream",
     "text": [
      "Wrote 20000/100000 samples to cases/case-20000-batch-10000/input-files-case.tsv\n"
     ]
    }
   ],
   "source": [
    "import pandas as pd\n",
    "\n",
    "all_input_df = pd.read_csv(input_files_all, sep='\\t')\n",
    "all_input_total = len(all_input_df)\n",
    "\n",
    "subset_input_df = all_input_df.head(number_samples)\n",
    "subset_input_total = len(subset_input_df)\n",
    "\n",
    "subset_input_df.to_csv(cases_input, sep='\\t', index=False)\n",
    "\n",
    "print(f'Wrote {subset_input_total}/{all_input_total} samples to {cases_input}')"
   ]
  },
  {
   "cell_type": "markdown",
   "id": "f208279e-7558-47fc-9362-da29df92828a",
   "metadata": {
    "papermill": {
     "duration": 0.009275,
     "end_time": "2022-03-13T05:02:14.551051",
     "exception": false,
     "start_time": "2022-03-13T05:02:14.541776",
     "status": "completed"
    },
    "tags": []
   },
   "source": [
    "# 2. Index genomes"
   ]
  },
  {
   "cell_type": "code",
   "execution_count": 5,
   "id": "4e936f7c-2fcd-4188-b0e6-6b3ceb5cdcd2",
   "metadata": {
    "execution": {
     "iopub.execute_input": "2022-03-13T05:02:14.570183Z",
     "iopub.status.busy": "2022-03-13T05:02:14.569781Z",
     "iopub.status.idle": "2022-03-13T05:02:17.542072Z",
     "shell.execute_reply": "2022-03-13T05:02:17.542935Z"
    },
    "papermill": {
     "duration": 2.985207,
     "end_time": "2022-03-13T05:02:17.543258",
     "exception": false,
     "start_time": "2022-03-13T05:02:14.558051",
     "status": "completed"
    },
    "tags": []
   },
   "outputs": [
    {
     "name": "stdout",
     "output_type": "stream",
     "text": [
      "gdi, version 0.6.0.dev2\r\n"
     ]
    }
   ],
   "source": [
    "!gdi --version"
   ]
  },
  {
   "cell_type": "markdown",
   "id": "5409ecf8-2158-4361-9d2f-6b1a6c7c63a6",
   "metadata": {
    "papermill": {
     "duration": 0.009504,
     "end_time": "2022-03-13T05:02:17.568703",
     "exception": false,
     "start_time": "2022-03-13T05:02:17.559199",
     "status": "completed"
    },
    "tags": []
   },
   "source": [
    "## 2.1. Index reads"
   ]
  },
  {
   "cell_type": "code",
   "execution_count": 6,
   "id": "3d63e861-733e-46f2-8bce-bd1a2c7c7058",
   "metadata": {
    "execution": {
     "iopub.execute_input": "2022-03-13T05:02:17.594410Z",
     "iopub.status.busy": "2022-03-13T05:02:17.593867Z",
     "iopub.status.idle": "2022-03-13T12:41:14.154694Z",
     "shell.execute_reply": "2022-03-13T12:41:14.153635Z"
    },
    "papermill": {
     "duration": 27536.5792,
     "end_time": "2022-03-13T12:41:14.154980",
     "exception": false,
     "start_time": "2022-03-13T05:02:17.575780",
     "status": "completed"
    },
    "tags": []
   },
   "outputs": [
    {
     "name": "stdout",
     "output_type": "stream",
     "text": [
      "\n",
      "Iteration 1 of index/analysis of 20000 samples with 32 cores\n",
      "Removing any extra snakemake directories: ['snakemake-assemblies.1647143189.3880825']\n"
     ]
    },
    {
     "name": "stdout",
     "output_type": "stream",
     "text": [
      "Creating new index: [gdi init cases/case-20000-batch-10000/index]\n"
     ]
    },
    {
     "name": "stdout",
     "output_type": "stream",
     "text": [
      "Creating a new index took 2.72 seconds\n",
      "Analysis running: [gdi --project-dir cases/case-20000-batch-10000/index --ncores 32 analysis --use-conda --no-load-data --reference-file references/NC_045512.gbk.gz --kmer-size 31 --kmer-size 51 --kmer-size 71 --include-kmer --reads-mincov 10 --input-structured-genomes-file cases/case-20000-batch-10000/input-files-case.tsv]\n"
     ]
    },
    {
     "name": "stdout",
     "output_type": "stream",
     "text": [
      "Analysis took 131.51 minutes\n",
      "Index running: [gdi --project-dir cases/case-20000-batch-10000/index --ncores 32 load vcf-kmer --sample-batch-size 10000 --reference-file references/NC_045512.gbk.gz /home/CSCScience.ca/apetkau/workspace/genomics-data-index-evaluation/evaluations/sars-cov-2/snakemake-assemblies.1647147749.9391987/gdi-input.fofn]\n"
     ]
    },
    {
     "name": "stdout",
     "output_type": "stream",
     "text": [
      "Indexing took 21.85 minutes\n"
     ]
    },
    {
     "name": "stderr",
     "output_type": "stream",
     "text": [
      "A reminder to myself to look for a Python solution for directory sizes (instead of running `du`)\n"
     ]
    },
    {
     "name": "stdout",
     "output_type": "stream",
     "text": [
      "\n",
      "Iteration 2 of index/analysis of 20000 samples with 32 cores\n",
      "Removing any extra snakemake directories: ['snakemake-assemblies.1647147749.9391987']\n"
     ]
    },
    {
     "name": "stdout",
     "output_type": "stream",
     "text": [
      "Removing any existing indexes cases/case-20000-batch-10000/index\n"
     ]
    },
    {
     "name": "stdout",
     "output_type": "stream",
     "text": [
      "Creating new index: [gdi init cases/case-20000-batch-10000/index]\n"
     ]
    },
    {
     "name": "stdout",
     "output_type": "stream",
     "text": [
      "Creating a new index took 3.14 seconds\n",
      "Analysis running: [gdi --project-dir cases/case-20000-batch-10000/index --ncores 32 analysis --use-conda --no-load-data --reference-file references/NC_045512.gbk.gz --kmer-size 31 --kmer-size 51 --kmer-size 71 --include-kmer --reads-mincov 10 --input-structured-genomes-file cases/case-20000-batch-10000/input-files-case.tsv]\n"
     ]
    },
    {
     "name": "stdout",
     "output_type": "stream",
     "text": [
      "Analysis took 131.23 minutes\n",
      "Index running: [gdi --project-dir cases/case-20000-batch-10000/index --ncores 32 load vcf-kmer --sample-batch-size 10000 --reference-file references/NC_045512.gbk.gz /home/CSCScience.ca/apetkau/workspace/genomics-data-index-evaluation/evaluations/sars-cov-2/snakemake-assemblies.1647156969.7442951/gdi-input.fofn]\n"
     ]
    },
    {
     "name": "stdout",
     "output_type": "stream",
     "text": [
      "Indexing took 21.40 minutes\n"
     ]
    },
    {
     "name": "stderr",
     "output_type": "stream",
     "text": [
      "Attempting to set global database_path_translator=<genomics_data_index.storage.model.db.DatabasePathTranslator.DatabasePathTranslator object at 0x7fb85f313490> but it is already set\n"
     ]
    },
    {
     "name": "stderr",
     "output_type": "stream",
     "text": [
      "A reminder to myself to look for a Python solution for directory sizes (instead of running `du`)\n"
     ]
    },
    {
     "name": "stdout",
     "output_type": "stream",
     "text": [
      "\n",
      "Iteration 3 of index/analysis of 20000 samples with 32 cores\n",
      "Removing any extra snakemake directories: ['snakemake-assemblies.1647156969.7442951']\n"
     ]
    },
    {
     "name": "stdout",
     "output_type": "stream",
     "text": [
      "Removing any existing indexes cases/case-20000-batch-10000/index\n"
     ]
    },
    {
     "name": "stdout",
     "output_type": "stream",
     "text": [
      "Creating new index: [gdi init cases/case-20000-batch-10000/index]\n"
     ]
    },
    {
     "name": "stdout",
     "output_type": "stream",
     "text": [
      "Creating a new index took 2.94 seconds\n",
      "Analysis running: [gdi --project-dir cases/case-20000-batch-10000/index --ncores 32 analysis --use-conda --no-load-data --reference-file references/NC_045512.gbk.gz --kmer-size 31 --kmer-size 51 --kmer-size 71 --include-kmer --reads-mincov 10 --input-structured-genomes-file cases/case-20000-batch-10000/input-files-case.tsv]\n"
     ]
    },
    {
     "name": "stdout",
     "output_type": "stream",
     "text": [
      "Analysis took 130.74 minutes\n",
      "Index running: [gdi --project-dir cases/case-20000-batch-10000/index --ncores 32 load vcf-kmer --sample-batch-size 10000 --reference-file references/NC_045512.gbk.gz /home/CSCScience.ca/apetkau/workspace/genomics-data-index-evaluation/evaluations/sars-cov-2/snakemake-assemblies.1647166148.1412282/gdi-input.fofn]\n"
     ]
    },
    {
     "name": "stdout",
     "output_type": "stream",
     "text": [
      "Indexing took 21.35 minutes\n"
     ]
    },
    {
     "name": "stderr",
     "output_type": "stream",
     "text": [
      "Attempting to set global database_path_translator=<genomics_data_index.storage.model.db.DatabasePathTranslator.DatabasePathTranslator object at 0x7fb85f3b1f70> but it is already set\n"
     ]
    },
    {
     "name": "stderr",
     "output_type": "stream",
     "text": [
      "A reminder to myself to look for a Python solution for directory sizes (instead of running `du`)\n"
     ]
    }
   ],
   "source": [
    "results_handler = gdi_benchmark.BenchmarkResultsHandler(name=case_name)\n",
    "benchmarker = gdi_benchmark.IndexBenchmarker(benchmark_results_handler=results_handler,\n",
    "                                             index_path=index_path, input_files_file=cases_input,\n",
    "                                             reference_file=reference_file, mincov=mincov,\n",
    "                                             build_tree=build_tree,\n",
    "                                             ncores=ncores,\n",
    "                                             sample_batch_size=sample_batch_size)\n",
    "\n",
    "benchmark_df = benchmarker.benchmark(iterations=iterations)"
   ]
  },
  {
   "cell_type": "code",
   "execution_count": 7,
   "id": "3bcb6da7-0164-47f2-abdd-a4c159da1e3b",
   "metadata": {
    "execution": {
     "iopub.execute_input": "2022-03-13T12:41:14.207875Z",
     "iopub.status.busy": "2022-03-13T12:41:14.199802Z",
     "iopub.status.idle": "2022-03-13T12:41:14.233510Z",
     "shell.execute_reply": "2022-03-13T12:41:14.234413Z"
    },
    "papermill": {
     "duration": 0.056715,
     "end_time": "2022-03-13T12:41:14.234684",
     "exception": false,
     "start_time": "2022-03-13T12:41:14.177969",
     "status": "completed"
    },
    "tags": []
   },
   "outputs": [
    {
     "data": {
      "text/html": [
       "<div>\n",
       "<style scoped>\n",
       "    .dataframe tbody tr th:only-of-type {\n",
       "        vertical-align: middle;\n",
       "    }\n",
       "\n",
       "    .dataframe tbody tr th {\n",
       "        vertical-align: top;\n",
       "    }\n",
       "\n",
       "    .dataframe thead th {\n",
       "        text-align: right;\n",
       "    }\n",
       "</style>\n",
       "<table border=\"1\" class=\"dataframe\">\n",
       "  <thead>\n",
       "    <tr style=\"text-align: right;\">\n",
       "      <th></th>\n",
       "      <th>Name</th>\n",
       "      <th>Reference name</th>\n",
       "      <th>Iteration</th>\n",
       "      <th>Number samples</th>\n",
       "      <th>Number features (all)</th>\n",
       "      <th>Number features (no unknown)</th>\n",
       "      <th>Number cores</th>\n",
       "      <th>Reference length</th>\n",
       "      <th>Analysis runtime</th>\n",
       "      <th>Analysis memory (max)</th>\n",
       "      <th>...</th>\n",
       "      <th>Analysis disk uage</th>\n",
       "      <th>Index runtime</th>\n",
       "      <th>Index memory (max)</th>\n",
       "      <th>Index memory (max/process)</th>\n",
       "      <th>Index size</th>\n",
       "      <th>Tree runtime</th>\n",
       "      <th>Tree memory (max)</th>\n",
       "      <th>Tree memory (max/process)</th>\n",
       "      <th>Total runtime</th>\n",
       "      <th>Max memory</th>\n",
       "    </tr>\n",
       "  </thead>\n",
       "  <tbody>\n",
       "    <tr>\n",
       "      <th>0</th>\n",
       "      <td>case-20000-batch-10000</td>\n",
       "      <td>NC_045512</td>\n",
       "      <td>1</td>\n",
       "      <td>20000</td>\n",
       "      <td>45709</td>\n",
       "      <td>15806</td>\n",
       "      <td>32</td>\n",
       "      <td>29903</td>\n",
       "      <td>7863.0</td>\n",
       "      <td>2.195382e+09</td>\n",
       "      <td>...</td>\n",
       "      <td>7.630844e+09</td>\n",
       "      <td>1310.77</td>\n",
       "      <td>4.524934e+10</td>\n",
       "      <td>6.687433e+09</td>\n",
       "      <td>365490176.0</td>\n",
       "      <td>&lt;NA&gt;</td>\n",
       "      <td>&lt;NA&gt;</td>\n",
       "      <td>&lt;NA&gt;</td>\n",
       "      <td>9173.77</td>\n",
       "      <td>4.524934e+10</td>\n",
       "    </tr>\n",
       "    <tr>\n",
       "      <th>0</th>\n",
       "      <td>case-20000-batch-10000</td>\n",
       "      <td>NC_045512</td>\n",
       "      <td>2</td>\n",
       "      <td>20000</td>\n",
       "      <td>45709</td>\n",
       "      <td>15806</td>\n",
       "      <td>32</td>\n",
       "      <td>29903</td>\n",
       "      <td>7861.0</td>\n",
       "      <td>2.198274e+09</td>\n",
       "      <td>...</td>\n",
       "      <td>7.630979e+09</td>\n",
       "      <td>1283.89</td>\n",
       "      <td>4.526721e+10</td>\n",
       "      <td>6.649192e+09</td>\n",
       "      <td>365502464.0</td>\n",
       "      <td>&lt;NA&gt;</td>\n",
       "      <td>&lt;NA&gt;</td>\n",
       "      <td>&lt;NA&gt;</td>\n",
       "      <td>9144.89</td>\n",
       "      <td>4.526721e+10</td>\n",
       "    </tr>\n",
       "    <tr>\n",
       "      <th>0</th>\n",
       "      <td>case-20000-batch-10000</td>\n",
       "      <td>NC_045512</td>\n",
       "      <td>3</td>\n",
       "      <td>20000</td>\n",
       "      <td>45709</td>\n",
       "      <td>15806</td>\n",
       "      <td>32</td>\n",
       "      <td>29903</td>\n",
       "      <td>7804.0</td>\n",
       "      <td>2.198643e+09</td>\n",
       "      <td>...</td>\n",
       "      <td>7.630967e+09</td>\n",
       "      <td>1280.52</td>\n",
       "      <td>4.479304e+10</td>\n",
       "      <td>6.112080e+09</td>\n",
       "      <td>365551616.0</td>\n",
       "      <td>&lt;NA&gt;</td>\n",
       "      <td>&lt;NA&gt;</td>\n",
       "      <td>&lt;NA&gt;</td>\n",
       "      <td>9084.52</td>\n",
       "      <td>4.479304e+10</td>\n",
       "    </tr>\n",
       "  </tbody>\n",
       "</table>\n",
       "<p>3 rows × 21 columns</p>\n",
       "</div>"
      ],
      "text/plain": [
       "                     Name Reference name  Iteration  Number samples  \\\n",
       "0  case-20000-batch-10000      NC_045512          1           20000   \n",
       "0  case-20000-batch-10000      NC_045512          2           20000   \n",
       "0  case-20000-batch-10000      NC_045512          3           20000   \n",
       "\n",
       "   Number features (all)  Number features (no unknown)  Number cores  \\\n",
       "0                  45709                         15806            32   \n",
       "0                  45709                         15806            32   \n",
       "0                  45709                         15806            32   \n",
       "\n",
       "   Reference length  Analysis runtime  Analysis memory (max)  ...  \\\n",
       "0             29903            7863.0           2.195382e+09  ...   \n",
       "0             29903            7861.0           2.198274e+09  ...   \n",
       "0             29903            7804.0           2.198643e+09  ...   \n",
       "\n",
       "   Analysis disk uage  Index runtime  Index memory (max)  \\\n",
       "0        7.630844e+09        1310.77        4.524934e+10   \n",
       "0        7.630979e+09        1283.89        4.526721e+10   \n",
       "0        7.630967e+09        1280.52        4.479304e+10   \n",
       "\n",
       "   Index memory (max/process)   Index size  Tree runtime Tree memory (max)  \\\n",
       "0                6.687433e+09  365490176.0          <NA>              <NA>   \n",
       "0                6.649192e+09  365502464.0          <NA>              <NA>   \n",
       "0                6.112080e+09  365551616.0          <NA>              <NA>   \n",
       "\n",
       "  Tree memory (max/process) Total runtime    Max memory  \n",
       "0                      <NA>       9173.77  4.524934e+10  \n",
       "0                      <NA>       9144.89  4.526721e+10  \n",
       "0                      <NA>       9084.52  4.479304e+10  \n",
       "\n",
       "[3 rows x 21 columns]"
      ]
     },
     "execution_count": 7,
     "metadata": {},
     "output_type": "execute_result"
    }
   ],
   "source": [
    "benchmark_df"
   ]
  },
  {
   "cell_type": "code",
   "execution_count": 8,
   "id": "535a9ccc-ab9c-4919-806f-128e1efd2389",
   "metadata": {
    "execution": {
     "iopub.execute_input": "2022-03-13T12:41:14.273666Z",
     "iopub.status.busy": "2022-03-13T12:41:14.273265Z",
     "iopub.status.idle": "2022-03-13T12:41:14.276744Z",
     "shell.execute_reply": "2022-03-13T12:41:14.276408Z"
    },
    "papermill": {
     "duration": 0.022068,
     "end_time": "2022-03-13T12:41:14.276831",
     "exception": false,
     "start_time": "2022-03-13T12:41:14.254763",
     "status": "completed"
    },
    "tags": []
   },
   "outputs": [],
   "source": [
    "benchmark_df.to_csv(benchmark_path, sep='\\t', index=False)"
   ]
  },
  {
   "cell_type": "markdown",
   "id": "6cb7673b-9f85-4c43-b2e2-93538497a196",
   "metadata": {
    "papermill": {
     "duration": 0.010533,
     "end_time": "2022-03-13T12:41:14.298954",
     "exception": false,
     "start_time": "2022-03-13T12:41:14.288421",
     "status": "completed"
    },
    "tags": []
   },
   "source": [
    "# 3. Export trees"
   ]
  },
  {
   "cell_type": "code",
   "execution_count": 9,
   "id": "5280f82c-5434-4391-8c44-b937a7c95bd5",
   "metadata": {
    "execution": {
     "iopub.execute_input": "2022-03-13T12:41:14.326456Z",
     "iopub.status.busy": "2022-03-13T12:41:14.326041Z",
     "iopub.status.idle": "2022-03-13T12:41:14.329968Z",
     "shell.execute_reply": "2022-03-13T12:41:14.330270Z"
    },
    "papermill": {
     "duration": 0.021118,
     "end_time": "2022-03-13T12:41:14.330366",
     "exception": false,
     "start_time": "2022-03-13T12:41:14.309248",
     "status": "completed"
    },
    "tags": []
   },
   "outputs": [
    {
     "name": "stdout",
     "output_type": "stream",
     "text": [
      "build_tree=False so no tree to export\n"
     ]
    }
   ],
   "source": [
    "if build_tree:\n",
    "    !gdi --project-dir {index_path} export tree {reference_name} > {output_tree}\n",
    "    print(f'Wrote tree to {output_tree}')\n",
    "else:\n",
    "    print(f'build_tree={build_tree} so no tree to export')"
   ]
  }
 ],
 "metadata": {
  "kernelspec": {
   "display_name": "Python 3 (ipykernel)",
   "language": "python",
   "name": "python3"
  },
  "language_info": {
   "codemirror_mode": {
    "name": "ipython",
    "version": 3
   },
   "file_extension": ".py",
   "mimetype": "text/x-python",
   "name": "python",
   "nbconvert_exporter": "python",
   "pygments_lexer": "ipython3",
   "version": "3.8.12"
  },
  "papermill": {
   "default_parameters": {},
   "duration": 27544.604708,
   "end_time": "2022-03-13T12:41:15.001554",
   "environment_variables": {},
   "exception": null,
   "input_path": "template-3-index-genomes.ipynb",
   "output_path": "3-index-genomes.case-20000-batch-10000.ipynb",
   "parameters": {
    "build_tree": false,
    "cases_dir": "cases/case-20000-batch-10000",
    "iterations": 3,
    "number_samples": 20000,
    "sample_batch_size": 10000
   },
   "start_time": "2022-03-13T05:02:10.396846",
   "version": "2.3.3"
  }
 },
 "nbformat": 4,
 "nbformat_minor": 5
}