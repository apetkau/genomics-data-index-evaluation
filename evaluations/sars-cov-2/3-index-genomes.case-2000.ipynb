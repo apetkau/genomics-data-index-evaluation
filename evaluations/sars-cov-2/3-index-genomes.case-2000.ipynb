{
 "cells": [
  {
   "cell_type": "markdown",
   "id": "7d3667b4-b1f8-4347-96e3-830c25b06740",
   "metadata": {
    "papermill": {
     "duration": 0.017266,
     "end_time": "2021-09-08T21:40:45.113673",
     "exception": false,
     "start_time": "2021-09-08T21:40:45.096407",
     "status": "completed"
    },
    "tags": []
   },
   "source": [
    "# 1. Parameters"
   ]
  },
  {
   "cell_type": "code",
   "execution_count": 1,
   "id": "d4ab0749-b286-4c34-b63c-a854e4952bae",
   "metadata": {
    "execution": {
     "iopub.execute_input": "2021-09-08T21:40:45.145090Z",
     "iopub.status.busy": "2021-09-08T21:40:45.144562Z",
     "iopub.status.idle": "2021-09-08T21:40:45.148996Z",
     "shell.execute_reply": "2021-09-08T21:40:45.148453Z"
    },
    "papermill": {
     "duration": 0.025431,
     "end_time": "2021-09-08T21:40:45.149124",
     "exception": false,
     "start_time": "2021-09-08T21:40:45.123693",
     "status": "completed"
    },
    "tags": [
     "parameters"
    ]
   },
   "outputs": [],
   "source": [
    "# Defaults\n",
    "cases_dir = 'cases/unset'\n",
    "reference_file = 'references/NC_045512.gbk.gz'\n",
    "input_files_all = 'input/input-files.tsv'\n",
    "iterations = 3\n",
    "mincov = 10\n",
    "ncores = 32\n",
    "number_samples = 10\n",
    "build_tree = False"
   ]
  },
  {
   "cell_type": "code",
   "execution_count": 2,
   "id": "38624cf6",
   "metadata": {
    "execution": {
     "iopub.execute_input": "2021-09-08T21:40:45.169858Z",
     "iopub.status.busy": "2021-09-08T21:40:45.169444Z",
     "iopub.status.idle": "2021-09-08T21:40:45.172162Z",
     "shell.execute_reply": "2021-09-08T21:40:45.172496Z"
    },
    "papermill": {
     "duration": 0.016131,
     "end_time": "2021-09-08T21:40:45.172616",
     "exception": false,
     "start_time": "2021-09-08T21:40:45.156485",
     "status": "completed"
    },
    "tags": [
     "injected-parameters"
    ]
   },
   "outputs": [],
   "source": [
    "# Parameters\n",
    "cases_dir = \"cases/case-2000\"\n",
    "iterations = 3\n",
    "number_samples = 2000\n",
    "build_tree = False\n"
   ]
  },
  {
   "cell_type": "code",
   "execution_count": 3,
   "id": "ce5962e4-261c-4210-b39b-47044e28466b",
   "metadata": {
    "execution": {
     "iopub.execute_input": "2021-09-08T21:40:45.197888Z",
     "iopub.status.busy": "2021-09-08T21:40:45.197408Z",
     "iopub.status.idle": "2021-09-08T21:40:47.685202Z",
     "shell.execute_reply": "2021-09-08T21:40:47.684190Z"
    },
    "papermill": {
     "duration": 2.506138,
     "end_time": "2021-09-08T21:40:47.685452",
     "exception": false,
     "start_time": "2021-09-08T21:40:45.179314",
     "status": "completed"
    },
    "tags": []
   },
   "outputs": [],
   "source": [
    "from pathlib import Path\n",
    "from shutil import rmtree\n",
    "from os import makedirs\n",
    "import imp\n",
    "fp, pathname, description = imp.find_module('gdi_benchmark', ['../../lib'])\n",
    "gdi_benchmark = imp.load_module('gdi_benchmark', fp, pathname, description)\n",
    "\n",
    "cases_dir_path = Path(cases_dir)\n",
    "\n",
    "if cases_dir_path.exists():\n",
    "    rmtree(cases_dir_path)\n",
    "    \n",
    "if not cases_dir_path.exists():\n",
    "    makedirs(cases_dir_path)\n",
    "\n",
    "input_files_all = Path(input_files_all)\n",
    "reference_file = Path(reference_file)\n",
    "\n",
    "case_name = str(cases_dir_path.name)\n",
    "reference_name = reference_file.name.split('.')[0]\n",
    "\n",
    "cases_input = cases_dir_path / 'input-files-case.tsv'\n",
    "index_path = cases_dir_path / 'index'\n",
    "benchmark_path = cases_dir_path / 'index-info.tsv'\n",
    "output_tree = cases_dir_path / 'tree.tre'"
   ]
  },
  {
   "cell_type": "markdown",
   "id": "1673d80f-b52a-4b68-b400-355540495e15",
   "metadata": {
    "papermill": {
     "duration": 0.008412,
     "end_time": "2021-09-08T21:40:47.707451",
     "exception": false,
     "start_time": "2021-09-08T21:40:47.699039",
     "status": "completed"
    },
    "tags": []
   },
   "source": [
    "# 2. Create subset input"
   ]
  },
  {
   "cell_type": "code",
   "execution_count": 4,
   "id": "4e66adb1-3ef7-45d1-8e46-723dcb9d0c31",
   "metadata": {
    "execution": {
     "iopub.execute_input": "2021-09-08T21:40:47.728607Z",
     "iopub.status.busy": "2021-09-08T21:40:47.727724Z",
     "iopub.status.idle": "2021-09-08T21:40:47.955774Z",
     "shell.execute_reply": "2021-09-08T21:40:47.956674Z"
    },
    "papermill": {
     "duration": 0.242803,
     "end_time": "2021-09-08T21:40:47.956970",
     "exception": false,
     "start_time": "2021-09-08T21:40:47.714167",
     "status": "completed"
    },
    "tags": []
   },
   "outputs": [
    {
     "name": "stdout",
     "output_type": "stream",
     "text": [
      "Wrote 2000/100000 samples to cases/case-2000/input-files-case.tsv\n"
     ]
    }
   ],
   "source": [
    "import pandas as pd\n",
    "\n",
    "all_input_df = pd.read_csv(input_files_all, sep='\\t')\n",
    "all_input_total = len(all_input_df)\n",
    "\n",
    "subset_input_df = all_input_df.head(number_samples)\n",
    "subset_input_total = len(subset_input_df)\n",
    "\n",
    "subset_input_df.to_csv(cases_input, sep='\\t', index=False)\n",
    "\n",
    "print(f'Wrote {subset_input_total}/{all_input_total} samples to {cases_input}')"
   ]
  },
  {
   "cell_type": "markdown",
   "id": "f208279e-7558-47fc-9362-da29df92828a",
   "metadata": {
    "papermill": {
     "duration": 0.008449,
     "end_time": "2021-09-08T21:40:47.979480",
     "exception": false,
     "start_time": "2021-09-08T21:40:47.971031",
     "status": "completed"
    },
    "tags": []
   },
   "source": [
    "# 2. Index genomes"
   ]
  },
  {
   "cell_type": "code",
   "execution_count": 5,
   "id": "4e936f7c-2fcd-4188-b0e6-6b3ceb5cdcd2",
   "metadata": {
    "execution": {
     "iopub.execute_input": "2021-09-08T21:40:48.008485Z",
     "iopub.status.busy": "2021-09-08T21:40:47.997524Z",
     "iopub.status.idle": "2021-09-08T21:40:50.868414Z",
     "shell.execute_reply": "2021-09-08T21:40:50.869365Z"
    },
    "papermill": {
     "duration": 2.88351,
     "end_time": "2021-09-08T21:40:50.869704",
     "exception": false,
     "start_time": "2021-09-08T21:40:47.986194",
     "status": "completed"
    },
    "tags": []
   },
   "outputs": [
    {
     "name": "stdout",
     "output_type": "stream",
     "text": [
      "gdi, version 0.3.0.dev12\r\n"
     ]
    }
   ],
   "source": [
    "!gdi --version"
   ]
  },
  {
   "cell_type": "markdown",
   "id": "5409ecf8-2158-4361-9d2f-6b1a6c7c63a6",
   "metadata": {
    "papermill": {
     "duration": 0.009635,
     "end_time": "2021-09-08T21:40:50.895851",
     "exception": false,
     "start_time": "2021-09-08T21:40:50.886216",
     "status": "completed"
    },
    "tags": []
   },
   "source": [
    "## 2.1. Index reads"
   ]
  },
  {
   "cell_type": "code",
   "execution_count": 6,
   "id": "3d63e861-733e-46f2-8bce-bd1a2c7c7058",
   "metadata": {
    "execution": {
     "iopub.execute_input": "2021-09-08T21:40:50.921938Z",
     "iopub.status.busy": "2021-09-08T21:40:50.918111Z",
     "iopub.status.idle": "2021-09-08T22:28:14.395664Z",
     "shell.execute_reply": "2021-09-08T22:28:14.394540Z"
    },
    "papermill": {
     "duration": 2843.493471,
     "end_time": "2021-09-08T22:28:14.396054",
     "exception": false,
     "start_time": "2021-09-08T21:40:50.902583",
     "status": "completed"
    },
    "tags": []
   },
   "outputs": [
    {
     "name": "stdout",
     "output_type": "stream",
     "text": [
      "\n",
      "Iteration 1 of index/analysis of 2000 samples with 32 cores\n",
      "Removing any extra snakemake directories: ['snakemake-assemblies.1631136766.0272033']\n"
     ]
    },
    {
     "name": "stdout",
     "output_type": "stream",
     "text": [
      "Creating new index: [gdi init cases/case-2000/index]\n"
     ]
    },
    {
     "name": "stdout",
     "output_type": "stream",
     "text": [
      "Creating a new index took 2.86 seconds\n",
      "Analysis running: [gdi --project-dir cases/case-2000/index --ncores 32 analysis --use-conda --no-load-data --reference-file references/NC_045512.gbk.gz --kmer-size 31 --kmer-size 51 --kmer-size 71 --include-kmer --reads-mincov 10 --input-structured-genomes-file cases/case-2000/input-files-case.tsv]\n"
     ]
    },
    {
     "name": "stdout",
     "output_type": "stream",
     "text": [
      "Analysis took 13.64 minutes\n",
      "Index running: [gdi --project-dir cases/case-2000/index --ncores 32 load vcf-kmer --reference-file references/NC_045512.gbk.gz /home/CSCScience.ca/apetkau/workspace/genomics-data-index-evaluation/evaluations/sars-cov-2/snakemake-assemblies.1631137259.037606/gdi-input.fofn]\n"
     ]
    },
    {
     "name": "stdout",
     "output_type": "stream",
     "text": [
      "Indexing took 1.88 minutes\n"
     ]
    },
    {
     "name": "stderr",
     "output_type": "stream",
     "text": [
      "A reminder to myself to look for a Python solution for directory sizes (instead of running `du`)\n"
     ]
    },
    {
     "name": "stdout",
     "output_type": "stream",
     "text": [
      "\n",
      "Iteration 2 of index/analysis of 2000 samples with 32 cores\n",
      "Removing any extra snakemake directories: ['snakemake-assemblies.1631137259.037606']\n"
     ]
    },
    {
     "name": "stdout",
     "output_type": "stream",
     "text": [
      "Removing any existing indexes cases/case-2000/index\n",
      "Creating new index: [gdi init cases/case-2000/index]\n"
     ]
    },
    {
     "name": "stdout",
     "output_type": "stream",
     "text": [
      "Creating a new index took 2.85 seconds\n",
      "Analysis running: [gdi --project-dir cases/case-2000/index --ncores 32 analysis --use-conda --no-load-data --reference-file references/NC_045512.gbk.gz --kmer-size 31 --kmer-size 51 --kmer-size 71 --include-kmer --reads-mincov 10 --input-structured-genomes-file cases/case-2000/input-files-case.tsv]\n"
     ]
    },
    {
     "name": "stdout",
     "output_type": "stream",
     "text": [
      "Analysis took 13.70 minutes\n",
      "Index running: [gdi --project-dir cases/case-2000/index --ncores 32 load vcf-kmer --reference-file references/NC_045512.gbk.gz /home/CSCScience.ca/apetkau/workspace/genomics-data-index-evaluation/evaluations/sars-cov-2/snakemake-assemblies.1631138196.801616/gdi-input.fofn]\n"
     ]
    },
    {
     "name": "stdout",
     "output_type": "stream",
     "text": [
      "Indexing took 1.81 minutes\n"
     ]
    },
    {
     "name": "stderr",
     "output_type": "stream",
     "text": [
      "Attempting to set global database_path_translator=<genomics_data_index.storage.model.db.DatabasePathTranslator.DatabasePathTranslator object at 0x7fd730ac2850> but it is already set\n"
     ]
    },
    {
     "name": "stderr",
     "output_type": "stream",
     "text": [
      "A reminder to myself to look for a Python solution for directory sizes (instead of running `du`)\n"
     ]
    },
    {
     "name": "stdout",
     "output_type": "stream",
     "text": [
      "\n",
      "Iteration 3 of index/analysis of 2000 samples with 32 cores\n",
      "Removing any extra snakemake directories: ['snakemake-assemblies.1631138196.801616']\n"
     ]
    },
    {
     "name": "stdout",
     "output_type": "stream",
     "text": [
      "Removing any existing indexes cases/case-2000/index\n",
      "Creating new index: [gdi init cases/case-2000/index]\n"
     ]
    },
    {
     "name": "stdout",
     "output_type": "stream",
     "text": [
      "Creating a new index took 2.94 seconds\n",
      "Analysis running: [gdi --project-dir cases/case-2000/index --ncores 32 analysis --use-conda --no-load-data --reference-file references/NC_045512.gbk.gz --kmer-size 31 --kmer-size 51 --kmer-size 71 --include-kmer --reads-mincov 10 --input-structured-genomes-file cases/case-2000/input-files-case.tsv]\n"
     ]
    },
    {
     "name": "stdout",
     "output_type": "stream",
     "text": [
      "Analysis took 14.20 minutes\n",
      "Index running: [gdi --project-dir cases/case-2000/index --ncores 32 load vcf-kmer --reference-file references/NC_045512.gbk.gz /home/CSCScience.ca/apetkau/workspace/genomics-data-index-evaluation/evaluations/sars-cov-2/snakemake-assemblies.1631139134.099089/gdi-input.fofn]\n"
     ]
    },
    {
     "name": "stdout",
     "output_type": "stream",
     "text": [
      "Indexing took 1.84 minutes\n"
     ]
    },
    {
     "name": "stderr",
     "output_type": "stream",
     "text": [
      "Attempting to set global database_path_translator=<genomics_data_index.storage.model.db.DatabasePathTranslator.DatabasePathTranslator object at 0x7fd730a9b730> but it is already set\n"
     ]
    },
    {
     "name": "stderr",
     "output_type": "stream",
     "text": [
      "A reminder to myself to look for a Python solution for directory sizes (instead of running `du`)\n"
     ]
    }
   ],
   "source": [
    "results_handler = gdi_benchmark.BenchmarkResultsHandler(name=case_name)\n",
    "benchmarker = gdi_benchmark.IndexBenchmarker(benchmark_results_handler=results_handler,\n",
    "                                             index_path=index_path, input_files_file=cases_input,\n",
    "                                             reference_file=reference_file, mincov=mincov,\n",
    "                                             build_tree=build_tree,\n",
    "                                             ncores=ncores)\n",
    "\n",
    "benchmark_df = benchmarker.benchmark(iterations=iterations)"
   ]
  },
  {
   "cell_type": "code",
   "execution_count": 7,
   "id": "3bcb6da7-0164-47f2-abdd-a4c159da1e3b",
   "metadata": {
    "execution": {
     "iopub.execute_input": "2021-09-08T22:28:14.453397Z",
     "iopub.status.busy": "2021-09-08T22:28:14.440311Z",
     "iopub.status.idle": "2021-09-08T22:28:14.466441Z",
     "shell.execute_reply": "2021-09-08T22:28:14.467314Z"
    },
    "papermill": {
     "duration": 0.050415,
     "end_time": "2021-09-08T22:28:14.467661",
     "exception": false,
     "start_time": "2021-09-08T22:28:14.417246",
     "status": "completed"
    },
    "tags": []
   },
   "outputs": [
    {
     "data": {
      "text/html": [
       "<div>\n",
       "<style scoped>\n",
       "    .dataframe tbody tr th:only-of-type {\n",
       "        vertical-align: middle;\n",
       "    }\n",
       "\n",
       "    .dataframe tbody tr th {\n",
       "        vertical-align: top;\n",
       "    }\n",
       "\n",
       "    .dataframe thead th {\n",
       "        text-align: right;\n",
       "    }\n",
       "</style>\n",
       "<table border=\"1\" class=\"dataframe\">\n",
       "  <thead>\n",
       "    <tr style=\"text-align: right;\">\n",
       "      <th></th>\n",
       "      <th>Name</th>\n",
       "      <th>Iteration</th>\n",
       "      <th>Number samples</th>\n",
       "      <th>Number features (all)</th>\n",
       "      <th>Number features (no unknown)</th>\n",
       "      <th>Number cores</th>\n",
       "      <th>Reference length</th>\n",
       "      <th>Analysis runtime</th>\n",
       "      <th>Analysis memory (max)</th>\n",
       "      <th>Analysis memory (max/process)</th>\n",
       "      <th>Analysis disk uage</th>\n",
       "      <th>Index runtime</th>\n",
       "      <th>Index memory (max)</th>\n",
       "      <th>Index memory (max/process)</th>\n",
       "      <th>Index size</th>\n",
       "      <th>Tree runtime</th>\n",
       "      <th>Tree memory (max)</th>\n",
       "      <th>Tree memory (max/process)</th>\n",
       "      <th>Total runtime</th>\n",
       "      <th>Max memory</th>\n",
       "    </tr>\n",
       "  </thead>\n",
       "  <tbody>\n",
       "    <tr>\n",
       "      <th>0</th>\n",
       "      <td>case-2000</td>\n",
       "      <td>1</td>\n",
       "      <td>2000</td>\n",
       "      <td>32480</td>\n",
       "      <td>2647</td>\n",
       "      <td>32</td>\n",
       "      <td>29903</td>\n",
       "      <td>818.24</td>\n",
       "      <td>1.237631e+09</td>\n",
       "      <td>376492032.0</td>\n",
       "      <td>3.819454e+09</td>\n",
       "      <td>112.89</td>\n",
       "      <td>6.545101e+09</td>\n",
       "      <td>1.210376e+09</td>\n",
       "      <td>39817216.0</td>\n",
       "      <td>&lt;NA&gt;</td>\n",
       "      <td>&lt;NA&gt;</td>\n",
       "      <td>&lt;NA&gt;</td>\n",
       "      <td>931.13</td>\n",
       "      <td>6.545101e+09</td>\n",
       "    </tr>\n",
       "    <tr>\n",
       "      <th>0</th>\n",
       "      <td>case-2000</td>\n",
       "      <td>2</td>\n",
       "      <td>2000</td>\n",
       "      <td>32480</td>\n",
       "      <td>2647</td>\n",
       "      <td>32</td>\n",
       "      <td>29903</td>\n",
       "      <td>821.87</td>\n",
       "      <td>1.209139e+09</td>\n",
       "      <td>376950784.0</td>\n",
       "      <td>3.819467e+09</td>\n",
       "      <td>108.68</td>\n",
       "      <td>6.569763e+09</td>\n",
       "      <td>1.214439e+09</td>\n",
       "      <td>39862272.0</td>\n",
       "      <td>&lt;NA&gt;</td>\n",
       "      <td>&lt;NA&gt;</td>\n",
       "      <td>&lt;NA&gt;</td>\n",
       "      <td>930.55</td>\n",
       "      <td>6.569763e+09</td>\n",
       "    </tr>\n",
       "    <tr>\n",
       "      <th>0</th>\n",
       "      <td>case-2000</td>\n",
       "      <td>3</td>\n",
       "      <td>2000</td>\n",
       "      <td>32480</td>\n",
       "      <td>2647</td>\n",
       "      <td>32</td>\n",
       "      <td>29903</td>\n",
       "      <td>851.90</td>\n",
       "      <td>1.280934e+09</td>\n",
       "      <td>376176640.0</td>\n",
       "      <td>3.819438e+09</td>\n",
       "      <td>110.37</td>\n",
       "      <td>6.561657e+09</td>\n",
       "      <td>1.209029e+09</td>\n",
       "      <td>39862272.0</td>\n",
       "      <td>&lt;NA&gt;</td>\n",
       "      <td>&lt;NA&gt;</td>\n",
       "      <td>&lt;NA&gt;</td>\n",
       "      <td>962.27</td>\n",
       "      <td>6.561657e+09</td>\n",
       "    </tr>\n",
       "  </tbody>\n",
       "</table>\n",
       "</div>"
      ],
      "text/plain": [
       "        Name  Iteration  Number samples  Number features (all)  \\\n",
       "0  case-2000          1            2000                  32480   \n",
       "0  case-2000          2            2000                  32480   \n",
       "0  case-2000          3            2000                  32480   \n",
       "\n",
       "   Number features (no unknown)  Number cores  Reference length  \\\n",
       "0                          2647            32             29903   \n",
       "0                          2647            32             29903   \n",
       "0                          2647            32             29903   \n",
       "\n",
       "   Analysis runtime  Analysis memory (max)  Analysis memory (max/process)  \\\n",
       "0            818.24           1.237631e+09                    376492032.0   \n",
       "0            821.87           1.209139e+09                    376950784.0   \n",
       "0            851.90           1.280934e+09                    376176640.0   \n",
       "\n",
       "   Analysis disk uage  Index runtime  Index memory (max)  \\\n",
       "0        3.819454e+09         112.89        6.545101e+09   \n",
       "0        3.819467e+09         108.68        6.569763e+09   \n",
       "0        3.819438e+09         110.37        6.561657e+09   \n",
       "\n",
       "   Index memory (max/process)  Index size Tree runtime Tree memory (max)  \\\n",
       "0                1.210376e+09  39817216.0         <NA>              <NA>   \n",
       "0                1.214439e+09  39862272.0         <NA>              <NA>   \n",
       "0                1.209029e+09  39862272.0         <NA>              <NA>   \n",
       "\n",
       "  Tree memory (max/process)  Total runtime    Max memory  \n",
       "0                      <NA>         931.13  6.545101e+09  \n",
       "0                      <NA>         930.55  6.569763e+09  \n",
       "0                      <NA>         962.27  6.561657e+09  "
      ]
     },
     "execution_count": 7,
     "metadata": {},
     "output_type": "execute_result"
    }
   ],
   "source": [
    "benchmark_df"
   ]
  },
  {
   "cell_type": "code",
   "execution_count": 8,
   "id": "535a9ccc-ab9c-4919-806f-128e1efd2389",
   "metadata": {
    "execution": {
     "iopub.execute_input": "2021-09-08T22:28:14.508262Z",
     "iopub.status.busy": "2021-09-08T22:28:14.507735Z",
     "iopub.status.idle": "2021-09-08T22:28:14.511327Z",
     "shell.execute_reply": "2021-09-08T22:28:14.510845Z"
    },
    "papermill": {
     "duration": 0.022428,
     "end_time": "2021-09-08T22:28:14.511454",
     "exception": false,
     "start_time": "2021-09-08T22:28:14.489026",
     "status": "completed"
    },
    "tags": []
   },
   "outputs": [],
   "source": [
    "benchmark_df.to_csv(benchmark_path, sep='\\t', index=False)"
   ]
  },
  {
   "cell_type": "markdown",
   "id": "6cb7673b-9f85-4c43-b2e2-93538497a196",
   "metadata": {
    "papermill": {
     "duration": 0.010596,
     "end_time": "2021-09-08T22:28:14.534715",
     "exception": false,
     "start_time": "2021-09-08T22:28:14.524119",
     "status": "completed"
    },
    "tags": []
   },
   "source": [
    "# 3. Export trees"
   ]
  },
  {
   "cell_type": "code",
   "execution_count": 9,
   "id": "5280f82c-5434-4391-8c44-b937a7c95bd5",
   "metadata": {
    "execution": {
     "iopub.execute_input": "2021-09-08T22:28:14.563572Z",
     "iopub.status.busy": "2021-09-08T22:28:14.563119Z",
     "iopub.status.idle": "2021-09-08T22:28:14.566947Z",
     "shell.execute_reply": "2021-09-08T22:28:14.567246Z"
    },
    "papermill": {
     "duration": 0.022601,
     "end_time": "2021-09-08T22:28:14.567378",
     "exception": false,
     "start_time": "2021-09-08T22:28:14.544777",
     "status": "completed"
    },
    "tags": []
   },
   "outputs": [
    {
     "name": "stdout",
     "output_type": "stream",
     "text": [
      "build_tree=False so no tree to export\n"
     ]
    }
   ],
   "source": [
    "if build_tree:\n",
    "    !gdi --project-dir {index_path} export tree {reference_name} > {output_tree}\n",
    "    print(f'Wrote tree to {output_tree}')\n",
    "else:\n",
    "    print(f'build_tree={build_tree} so no tree to export')"
   ]
  }
 ],
 "metadata": {
  "kernelspec": {
   "display_name": "Python 3 (ipykernel)",
   "language": "python",
   "name": "python3"
  },
  "language_info": {
   "codemirror_mode": {
    "name": "ipython",
    "version": 3
   },
   "file_extension": ".py",
   "mimetype": "text/x-python",
   "name": "python",
   "nbconvert_exporter": "python",
   "pygments_lexer": "ipython3",
   "version": "3.8.10"
  },
  "papermill": {
   "default_parameters": {},
   "duration": 2851.913561,
   "end_time": "2021-09-08T22:28:16.052910",
   "environment_variables": {},
   "exception": null,
   "input_path": "template-3-index-genomes.ipynb",
   "output_path": "3-index-genomes.case-2000.ipynb",
   "parameters": {
    "build_tree": false,
    "cases_dir": "cases/case-2000",
    "iterations": 3,
    "number_samples": 2000
   },
   "start_time": "2021-09-08T21:40:44.139349",
   "version": "2.3.3"
  }
 },
 "nbformat": 4,
 "nbformat_minor": 5
}