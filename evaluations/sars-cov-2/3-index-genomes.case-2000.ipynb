{
 "cells": [
  {
   "cell_type": "markdown",
   "id": "7d3667b4-b1f8-4347-96e3-830c25b06740",
   "metadata": {
    "papermill": {
     "duration": 0.016126,
     "end_time": "2022-03-10T19:44:43.379795",
     "exception": false,
     "start_time": "2022-03-10T19:44:43.363669",
     "status": "completed"
    },
    "tags": []
   },
   "source": [
    "# 1. Parameters"
   ]
  },
  {
   "cell_type": "code",
   "execution_count": 1,
   "id": "d4ab0749-b286-4c34-b63c-a854e4952bae",
   "metadata": {
    "execution": {
     "iopub.execute_input": "2022-03-10T19:44:43.411937Z",
     "iopub.status.busy": "2022-03-10T19:44:43.410780Z",
     "iopub.status.idle": "2022-03-10T19:44:43.415757Z",
     "shell.execute_reply": "2022-03-10T19:44:43.416656Z"
    },
    "papermill": {
     "duration": 0.028117,
     "end_time": "2022-03-10T19:44:43.417098",
     "exception": false,
     "start_time": "2022-03-10T19:44:43.388981",
     "status": "completed"
    },
    "tags": [
     "parameters"
    ]
   },
   "outputs": [],
   "source": [
    "# Defaults\n",
    "cases_dir = 'cases/unset'\n",
    "reference_file = 'references/NC_045512.gbk.gz'\n",
    "input_files_all = 'input/input-files.tsv'\n",
    "iterations = 3\n",
    "mincov = 10\n",
    "ncores = 32\n",
    "number_samples = 10\n",
    "build_tree = False\n",
    "sample_batch_size=2000"
   ]
  },
  {
   "cell_type": "code",
   "execution_count": 2,
   "id": "d07b6ac0",
   "metadata": {
    "execution": {
     "iopub.execute_input": "2022-03-10T19:44:43.446409Z",
     "iopub.status.busy": "2022-03-10T19:44:43.445921Z",
     "iopub.status.idle": "2022-03-10T19:44:43.449076Z",
     "shell.execute_reply": "2022-03-10T19:44:43.449433Z"
    },
    "papermill": {
     "duration": 0.017794,
     "end_time": "2022-03-10T19:44:43.449564",
     "exception": false,
     "start_time": "2022-03-10T19:44:43.431770",
     "status": "completed"
    },
    "tags": [
     "injected-parameters"
    ]
   },
   "outputs": [],
   "source": [
    "# Parameters\n",
    "cases_dir = \"cases/case-2000\"\n",
    "iterations = 3\n",
    "number_samples = 2000\n",
    "build_tree = False\n"
   ]
  },
  {
   "cell_type": "code",
   "execution_count": 3,
   "id": "ce5962e4-261c-4210-b39b-47044e28466b",
   "metadata": {
    "execution": {
     "iopub.execute_input": "2022-03-10T19:44:43.476715Z",
     "iopub.status.busy": "2022-03-10T19:44:43.475520Z",
     "iopub.status.idle": "2022-03-10T19:44:46.078396Z",
     "shell.execute_reply": "2022-03-10T19:44:46.077356Z"
    },
    "papermill": {
     "duration": 2.622072,
     "end_time": "2022-03-10T19:44:46.078684",
     "exception": false,
     "start_time": "2022-03-10T19:44:43.456612",
     "status": "completed"
    },
    "tags": []
   },
   "outputs": [],
   "source": [
    "from pathlib import Path\n",
    "from shutil import rmtree\n",
    "from os import makedirs\n",
    "import imp\n",
    "fp, pathname, description = imp.find_module('gdi_benchmark', ['../../lib'])\n",
    "gdi_benchmark = imp.load_module('gdi_benchmark', fp, pathname, description)\n",
    "\n",
    "cases_dir_path = Path(cases_dir)\n",
    "\n",
    "if cases_dir_path.exists():\n",
    "    rmtree(cases_dir_path)\n",
    "    \n",
    "if not cases_dir_path.exists():\n",
    "    makedirs(cases_dir_path)\n",
    "\n",
    "input_files_all = Path(input_files_all)\n",
    "reference_file = Path(reference_file)\n",
    "\n",
    "case_name = str(cases_dir_path.name)\n",
    "reference_name = reference_file.name.split('.')[0]\n",
    "\n",
    "cases_input = cases_dir_path / 'input-files-case.tsv'\n",
    "index_path = cases_dir_path / 'index'\n",
    "benchmark_path = cases_dir_path / 'index-info.tsv'\n",
    "output_tree = cases_dir_path / 'tree.tre'"
   ]
  },
  {
   "cell_type": "markdown",
   "id": "1673d80f-b52a-4b68-b400-355540495e15",
   "metadata": {
    "papermill": {
     "duration": 0.00908,
     "end_time": "2022-03-10T19:44:46.104054",
     "exception": false,
     "start_time": "2022-03-10T19:44:46.094974",
     "status": "completed"
    },
    "tags": []
   },
   "source": [
    "# 2. Create subset input"
   ]
  },
  {
   "cell_type": "code",
   "execution_count": 4,
   "id": "4e66adb1-3ef7-45d1-8e46-723dcb9d0c31",
   "metadata": {
    "execution": {
     "iopub.execute_input": "2022-03-10T19:44:46.125831Z",
     "iopub.status.busy": "2022-03-10T19:44:46.125302Z",
     "iopub.status.idle": "2022-03-10T19:44:46.355054Z",
     "shell.execute_reply": "2022-03-10T19:44:46.355957Z"
    },
    "papermill": {
     "duration": 0.245435,
     "end_time": "2022-03-10T19:44:46.356277",
     "exception": false,
     "start_time": "2022-03-10T19:44:46.110842",
     "status": "completed"
    },
    "tags": []
   },
   "outputs": [
    {
     "name": "stdout",
     "output_type": "stream",
     "text": [
      "Wrote 2000/100000 samples to cases/case-2000/input-files-case.tsv\n"
     ]
    }
   ],
   "source": [
    "import pandas as pd\n",
    "\n",
    "all_input_df = pd.read_csv(input_files_all, sep='\\t')\n",
    "all_input_total = len(all_input_df)\n",
    "\n",
    "subset_input_df = all_input_df.head(number_samples)\n",
    "subset_input_total = len(subset_input_df)\n",
    "\n",
    "subset_input_df.to_csv(cases_input, sep='\\t', index=False)\n",
    "\n",
    "print(f'Wrote {subset_input_total}/{all_input_total} samples to {cases_input}')"
   ]
  },
  {
   "cell_type": "markdown",
   "id": "f208279e-7558-47fc-9362-da29df92828a",
   "metadata": {
    "papermill": {
     "duration": 0.008313,
     "end_time": "2022-03-10T19:44:46.378564",
     "exception": false,
     "start_time": "2022-03-10T19:44:46.370251",
     "status": "completed"
    },
    "tags": []
   },
   "source": [
    "# 2. Index genomes"
   ]
  },
  {
   "cell_type": "code",
   "execution_count": 5,
   "id": "4e936f7c-2fcd-4188-b0e6-6b3ceb5cdcd2",
   "metadata": {
    "execution": {
     "iopub.execute_input": "2022-03-10T19:44:46.409878Z",
     "iopub.status.busy": "2022-03-10T19:44:46.407741Z",
     "iopub.status.idle": "2022-03-10T19:44:49.209225Z",
     "shell.execute_reply": "2022-03-10T19:44:49.210229Z"
    },
    "papermill": {
     "duration": 2.825349,
     "end_time": "2022-03-10T19:44:49.210579",
     "exception": false,
     "start_time": "2022-03-10T19:44:46.385230",
     "status": "completed"
    },
    "tags": []
   },
   "outputs": [
    {
     "name": "stdout",
     "output_type": "stream",
     "text": [
      "gdi, version 0.6.0.dev2\r\n"
     ]
    }
   ],
   "source": [
    "!gdi --version"
   ]
  },
  {
   "cell_type": "markdown",
   "id": "5409ecf8-2158-4361-9d2f-6b1a6c7c63a6",
   "metadata": {
    "papermill": {
     "duration": 0.009958,
     "end_time": "2022-03-10T19:44:49.237489",
     "exception": false,
     "start_time": "2022-03-10T19:44:49.227531",
     "status": "completed"
    },
    "tags": []
   },
   "source": [
    "## 2.1. Index reads"
   ]
  },
  {
   "cell_type": "code",
   "execution_count": 6,
   "id": "3d63e861-733e-46f2-8bce-bd1a2c7c7058",
   "metadata": {
    "execution": {
     "iopub.execute_input": "2022-03-10T19:44:49.264740Z",
     "iopub.status.busy": "2022-03-10T19:44:49.262459Z",
     "iopub.status.idle": "2022-03-10T20:31:38.841185Z",
     "shell.execute_reply": "2022-03-10T20:31:38.839999Z"
    },
    "papermill": {
     "duration": 2809.596769,
     "end_time": "2022-03-10T20:31:38.841656",
     "exception": false,
     "start_time": "2022-03-10T19:44:49.244887",
     "status": "completed"
    },
    "tags": []
   },
   "outputs": [
    {
     "name": "stdout",
     "output_type": "stream",
     "text": [
      "\n",
      "Iteration 1 of index/analysis of 2000 samples with 32 cores\n",
      "Removing any extra snakemake directories: ['snakemake-assemblies.1646940989.737094']\n"
     ]
    },
    {
     "name": "stdout",
     "output_type": "stream",
     "text": [
      "Creating new index: [gdi init cases/case-2000/index]\n"
     ]
    },
    {
     "name": "stdout",
     "output_type": "stream",
     "text": [
      "Creating a new index took 2.73 seconds\n",
      "Analysis running: [gdi --project-dir cases/case-2000/index --ncores 32 analysis --use-conda --no-load-data --reference-file references/NC_045512.gbk.gz --kmer-size 31 --kmer-size 51 --kmer-size 71 --include-kmer --reads-mincov 10 --input-structured-genomes-file cases/case-2000/input-files-case.tsv]\n"
     ]
    },
    {
     "name": "stdout",
     "output_type": "stream",
     "text": [
      "Analysis took 13.58 minutes\n",
      "Index running: [gdi --project-dir cases/case-2000/index --ncores 32 load vcf-kmer --sample-batch-size 2000 --reference-file references/NC_045512.gbk.gz /home/CSCScience.ca/apetkau/workspace/genomics-data-index-evaluation/evaluations/sars-cov-2/snakemake-assemblies.1646941497.423095/gdi-input.fofn]\n"
     ]
    },
    {
     "name": "stdout",
     "output_type": "stream",
     "text": [
      "Indexing took 1.81 minutes\n"
     ]
    },
    {
     "name": "stderr",
     "output_type": "stream",
     "text": [
      "A reminder to myself to look for a Python solution for directory sizes (instead of running `du`)\n"
     ]
    },
    {
     "name": "stdout",
     "output_type": "stream",
     "text": [
      "\n",
      "Iteration 2 of index/analysis of 2000 samples with 32 cores\n",
      "Removing any extra snakemake directories: ['snakemake-assemblies.1646941497.423095']\n"
     ]
    },
    {
     "name": "stdout",
     "output_type": "stream",
     "text": [
      "Removing any existing indexes cases/case-2000/index\n",
      "Creating new index: [gdi init cases/case-2000/index]\n"
     ]
    },
    {
     "name": "stdout",
     "output_type": "stream",
     "text": [
      "Creating a new index took 2.75 seconds\n",
      "Analysis running: [gdi --project-dir cases/case-2000/index --ncores 32 analysis --use-conda --no-load-data --reference-file references/NC_045512.gbk.gz --kmer-size 31 --kmer-size 51 --kmer-size 71 --include-kmer --reads-mincov 10 --input-structured-genomes-file cases/case-2000/input-files-case.tsv]\n"
     ]
    },
    {
     "name": "stdout",
     "output_type": "stream",
     "text": [
      "Analysis took 13.65 minutes\n",
      "Index running: [gdi --project-dir cases/case-2000/index --ncores 32 load vcf-kmer --sample-batch-size 2000 --reference-file references/NC_045512.gbk.gz /home/CSCScience.ca/apetkau/workspace/genomics-data-index-evaluation/evaluations/sars-cov-2/snakemake-assemblies.1646942427.0995066/gdi-input.fofn]\n"
     ]
    },
    {
     "name": "stdout",
     "output_type": "stream",
     "text": [
      "Indexing took 1.79 minutes\n"
     ]
    },
    {
     "name": "stderr",
     "output_type": "stream",
     "text": [
      "Attempting to set global database_path_translator=<genomics_data_index.storage.model.db.DatabasePathTranslator.DatabasePathTranslator object at 0x7f4daf373e20> but it is already set\n"
     ]
    },
    {
     "name": "stderr",
     "output_type": "stream",
     "text": [
      "A reminder to myself to look for a Python solution for directory sizes (instead of running `du`)\n"
     ]
    },
    {
     "name": "stdout",
     "output_type": "stream",
     "text": [
      "\n",
      "Iteration 3 of index/analysis of 2000 samples with 32 cores\n",
      "Removing any extra snakemake directories: ['snakemake-assemblies.1646942427.0995066']\n"
     ]
    },
    {
     "name": "stdout",
     "output_type": "stream",
     "text": [
      "Removing any existing indexes cases/case-2000/index\n",
      "Creating new index: [gdi init cases/case-2000/index]\n"
     ]
    },
    {
     "name": "stdout",
     "output_type": "stream",
     "text": [
      "Creating a new index took 2.81 seconds\n",
      "Analysis running: [gdi --project-dir cases/case-2000/index --ncores 32 analysis --use-conda --no-load-data --reference-file references/NC_045512.gbk.gz --kmer-size 31 --kmer-size 51 --kmer-size 71 --include-kmer --reads-mincov 10 --input-structured-genomes-file cases/case-2000/input-files-case.tsv]\n"
     ]
    },
    {
     "name": "stdout",
     "output_type": "stream",
     "text": [
      "Analysis took 13.82 minutes\n",
      "Index running: [gdi --project-dir cases/case-2000/index --ncores 32 load vcf-kmer --sample-batch-size 2000 --reference-file references/NC_045512.gbk.gz /home/CSCScience.ca/apetkau/workspace/genomics-data-index-evaluation/evaluations/sars-cov-2/snakemake-assemblies.1646943360.0455632/gdi-input.fofn]\n"
     ]
    },
    {
     "name": "stdout",
     "output_type": "stream",
     "text": [
      "Indexing took 1.86 minutes\n"
     ]
    },
    {
     "name": "stderr",
     "output_type": "stream",
     "text": [
      "Attempting to set global database_path_translator=<genomics_data_index.storage.model.db.DatabasePathTranslator.DatabasePathTranslator object at 0x7f4e086e2ee0> but it is already set\n"
     ]
    },
    {
     "name": "stderr",
     "output_type": "stream",
     "text": [
      "A reminder to myself to look for a Python solution for directory sizes (instead of running `du`)\n"
     ]
    }
   ],
   "source": [
    "results_handler = gdi_benchmark.BenchmarkResultsHandler(name=case_name)\n",
    "benchmarker = gdi_benchmark.IndexBenchmarker(benchmark_results_handler=results_handler,\n",
    "                                             index_path=index_path, input_files_file=cases_input,\n",
    "                                             reference_file=reference_file, mincov=mincov,\n",
    "                                             build_tree=build_tree,\n",
    "                                             ncores=ncores,\n",
    "                                             sample_batch_size=sample_batch_size)\n",
    "\n",
    "benchmark_df = benchmarker.benchmark(iterations=iterations)"
   ]
  },
  {
   "cell_type": "code",
   "execution_count": 7,
   "id": "3bcb6da7-0164-47f2-abdd-a4c159da1e3b",
   "metadata": {
    "execution": {
     "iopub.execute_input": "2022-03-10T20:31:38.890714Z",
     "iopub.status.busy": "2022-03-10T20:31:38.890076Z",
     "iopub.status.idle": "2022-03-10T20:31:38.915471Z",
     "shell.execute_reply": "2022-03-10T20:31:38.916384Z"
    },
    "papermill": {
     "duration": 0.054823,
     "end_time": "2022-03-10T20:31:38.916686",
     "exception": false,
     "start_time": "2022-03-10T20:31:38.861863",
     "status": "completed"
    },
    "tags": []
   },
   "outputs": [
    {
     "data": {
      "text/html": [
       "<div>\n",
       "<style scoped>\n",
       "    .dataframe tbody tr th:only-of-type {\n",
       "        vertical-align: middle;\n",
       "    }\n",
       "\n",
       "    .dataframe tbody tr th {\n",
       "        vertical-align: top;\n",
       "    }\n",
       "\n",
       "    .dataframe thead th {\n",
       "        text-align: right;\n",
       "    }\n",
       "</style>\n",
       "<table border=\"1\" class=\"dataframe\">\n",
       "  <thead>\n",
       "    <tr style=\"text-align: right;\">\n",
       "      <th></th>\n",
       "      <th>Name</th>\n",
       "      <th>Reference name</th>\n",
       "      <th>Iteration</th>\n",
       "      <th>Number samples</th>\n",
       "      <th>Number features (all)</th>\n",
       "      <th>Number features (no unknown)</th>\n",
       "      <th>Number cores</th>\n",
       "      <th>Reference length</th>\n",
       "      <th>Analysis runtime</th>\n",
       "      <th>Analysis memory (max)</th>\n",
       "      <th>...</th>\n",
       "      <th>Analysis disk uage</th>\n",
       "      <th>Index runtime</th>\n",
       "      <th>Index memory (max)</th>\n",
       "      <th>Index memory (max/process)</th>\n",
       "      <th>Index size</th>\n",
       "      <th>Tree runtime</th>\n",
       "      <th>Tree memory (max)</th>\n",
       "      <th>Tree memory (max/process)</th>\n",
       "      <th>Total runtime</th>\n",
       "      <th>Max memory</th>\n",
       "    </tr>\n",
       "  </thead>\n",
       "  <tbody>\n",
       "    <tr>\n",
       "      <th>0</th>\n",
       "      <td>case-2000</td>\n",
       "      <td>NC_045512</td>\n",
       "      <td>1</td>\n",
       "      <td>2000</td>\n",
       "      <td>32489</td>\n",
       "      <td>2656</td>\n",
       "      <td>32</td>\n",
       "      <td>29903</td>\n",
       "      <td>814.78</td>\n",
       "      <td>1.225314e+09</td>\n",
       "      <td>...</td>\n",
       "      <td>4.072436e+09</td>\n",
       "      <td>108.19</td>\n",
       "      <td>6.592557e+09</td>\n",
       "      <td>1.206456e+09</td>\n",
       "      <td>39878656.0</td>\n",
       "      <td>&lt;NA&gt;</td>\n",
       "      <td>&lt;NA&gt;</td>\n",
       "      <td>&lt;NA&gt;</td>\n",
       "      <td>922.97</td>\n",
       "      <td>6.592557e+09</td>\n",
       "    </tr>\n",
       "    <tr>\n",
       "      <th>0</th>\n",
       "      <td>case-2000</td>\n",
       "      <td>NC_045512</td>\n",
       "      <td>2</td>\n",
       "      <td>2000</td>\n",
       "      <td>32489</td>\n",
       "      <td>2656</td>\n",
       "      <td>32</td>\n",
       "      <td>29903</td>\n",
       "      <td>818.81</td>\n",
       "      <td>1.233916e+09</td>\n",
       "      <td>...</td>\n",
       "      <td>4.072546e+09</td>\n",
       "      <td>107.57</td>\n",
       "      <td>6.605730e+09</td>\n",
       "      <td>1.208795e+09</td>\n",
       "      <td>39890944.0</td>\n",
       "      <td>&lt;NA&gt;</td>\n",
       "      <td>&lt;NA&gt;</td>\n",
       "      <td>&lt;NA&gt;</td>\n",
       "      <td>926.38</td>\n",
       "      <td>6.605730e+09</td>\n",
       "    </tr>\n",
       "    <tr>\n",
       "      <th>0</th>\n",
       "      <td>case-2000</td>\n",
       "      <td>NC_045512</td>\n",
       "      <td>3</td>\n",
       "      <td>2000</td>\n",
       "      <td>32489</td>\n",
       "      <td>2656</td>\n",
       "      <td>32</td>\n",
       "      <td>29903</td>\n",
       "      <td>829.26</td>\n",
       "      <td>1.265463e+09</td>\n",
       "      <td>...</td>\n",
       "      <td>4.071080e+09</td>\n",
       "      <td>111.41</td>\n",
       "      <td>6.603358e+09</td>\n",
       "      <td>1.218068e+09</td>\n",
       "      <td>39862272.0</td>\n",
       "      <td>&lt;NA&gt;</td>\n",
       "      <td>&lt;NA&gt;</td>\n",
       "      <td>&lt;NA&gt;</td>\n",
       "      <td>940.67</td>\n",
       "      <td>6.603358e+09</td>\n",
       "    </tr>\n",
       "  </tbody>\n",
       "</table>\n",
       "<p>3 rows × 21 columns</p>\n",
       "</div>"
      ],
      "text/plain": [
       "        Name Reference name  Iteration  Number samples  Number features (all)  \\\n",
       "0  case-2000      NC_045512          1            2000                  32489   \n",
       "0  case-2000      NC_045512          2            2000                  32489   \n",
       "0  case-2000      NC_045512          3            2000                  32489   \n",
       "\n",
       "   Number features (no unknown)  Number cores  Reference length  \\\n",
       "0                          2656            32             29903   \n",
       "0                          2656            32             29903   \n",
       "0                          2656            32             29903   \n",
       "\n",
       "   Analysis runtime  Analysis memory (max)  ...  Analysis disk uage  \\\n",
       "0            814.78           1.225314e+09  ...        4.072436e+09   \n",
       "0            818.81           1.233916e+09  ...        4.072546e+09   \n",
       "0            829.26           1.265463e+09  ...        4.071080e+09   \n",
       "\n",
       "   Index runtime  Index memory (max)  Index memory (max/process)  Index size  \\\n",
       "0         108.19        6.592557e+09                1.206456e+09  39878656.0   \n",
       "0         107.57        6.605730e+09                1.208795e+09  39890944.0   \n",
       "0         111.41        6.603358e+09                1.218068e+09  39862272.0   \n",
       "\n",
       "   Tree runtime Tree memory (max) Tree memory (max/process) Total runtime  \\\n",
       "0          <NA>              <NA>                      <NA>        922.97   \n",
       "0          <NA>              <NA>                      <NA>        926.38   \n",
       "0          <NA>              <NA>                      <NA>        940.67   \n",
       "\n",
       "     Max memory  \n",
       "0  6.592557e+09  \n",
       "0  6.605730e+09  \n",
       "0  6.603358e+09  \n",
       "\n",
       "[3 rows x 21 columns]"
      ]
     },
     "execution_count": 7,
     "metadata": {},
     "output_type": "execute_result"
    }
   ],
   "source": [
    "benchmark_df"
   ]
  },
  {
   "cell_type": "code",
   "execution_count": 8,
   "id": "535a9ccc-ab9c-4919-806f-128e1efd2389",
   "metadata": {
    "execution": {
     "iopub.execute_input": "2022-03-10T20:31:38.954710Z",
     "iopub.status.busy": "2022-03-10T20:31:38.954305Z",
     "iopub.status.idle": "2022-03-10T20:31:38.960164Z",
     "shell.execute_reply": "2022-03-10T20:31:38.959742Z"
    },
    "papermill": {
     "duration": 0.022559,
     "end_time": "2022-03-10T20:31:38.960286",
     "exception": false,
     "start_time": "2022-03-10T20:31:38.937727",
     "status": "completed"
    },
    "tags": []
   },
   "outputs": [],
   "source": [
    "benchmark_df.to_csv(benchmark_path, sep='\\t', index=False)"
   ]
  },
  {
   "cell_type": "markdown",
   "id": "6cb7673b-9f85-4c43-b2e2-93538497a196",
   "metadata": {
    "papermill": {
     "duration": 0.009727,
     "end_time": "2022-03-10T20:31:38.982899",
     "exception": false,
     "start_time": "2022-03-10T20:31:38.973172",
     "status": "completed"
    },
    "tags": []
   },
   "source": [
    "# 3. Export trees"
   ]
  },
  {
   "cell_type": "code",
   "execution_count": 9,
   "id": "5280f82c-5434-4391-8c44-b937a7c95bd5",
   "metadata": {
    "execution": {
     "iopub.execute_input": "2022-03-10T20:31:39.010321Z",
     "iopub.status.busy": "2022-03-10T20:31:39.009915Z",
     "iopub.status.idle": "2022-03-10T20:31:39.013610Z",
     "shell.execute_reply": "2022-03-10T20:31:39.014046Z"
    },
    "papermill": {
     "duration": 0.021483,
     "end_time": "2022-03-10T20:31:39.014179",
     "exception": false,
     "start_time": "2022-03-10T20:31:38.992696",
     "status": "completed"
    },
    "tags": []
   },
   "outputs": [
    {
     "name": "stdout",
     "output_type": "stream",
     "text": [
      "build_tree=False so no tree to export\n"
     ]
    }
   ],
   "source": [
    "if build_tree:\n",
    "    !gdi --project-dir {index_path} export tree {reference_name} > {output_tree}\n",
    "    print(f'Wrote tree to {output_tree}')\n",
    "else:\n",
    "    print(f'build_tree={build_tree} so no tree to export')"
   ]
  }
 ],
 "metadata": {
  "kernelspec": {
   "display_name": "Python 3 (ipykernel)",
   "language": "python",
   "name": "python3"
  },
  "language_info": {
   "codemirror_mode": {
    "name": "ipython",
    "version": 3
   },
   "file_extension": ".py",
   "mimetype": "text/x-python",
   "name": "python",
   "nbconvert_exporter": "python",
   "pygments_lexer": "ipython3",
   "version": "3.8.12"
  },
  "papermill": {
   "default_parameters": {},
   "duration": 2817.544666,
   "end_time": "2022-03-10T20:31:39.547477",
   "environment_variables": {},
   "exception": null,
   "input_path": "template-3-index-genomes.ipynb",
   "output_path": "3-index-genomes.case-2000.ipynb",
   "parameters": {
    "build_tree": false,
    "cases_dir": "cases/case-2000",
    "iterations": 3,
    "number_samples": 2000
   },
   "start_time": "2022-03-10T19:44:42.002811",
   "version": "2.3.3"
  }
 },
 "nbformat": 4,
 "nbformat_minor": 5
}