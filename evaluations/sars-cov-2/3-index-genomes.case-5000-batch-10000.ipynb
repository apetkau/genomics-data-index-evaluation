{
 "cells": [
  {
   "cell_type": "markdown",
   "id": "7d3667b4-b1f8-4347-96e3-830c25b06740",
   "metadata": {
    "papermill": {
     "duration": 0.015933,
     "end_time": "2021-10-09T20:42:59.942848",
     "exception": false,
     "start_time": "2021-10-09T20:42:59.926915",
     "status": "completed"
    },
    "tags": []
   },
   "source": [
    "# 1. Parameters"
   ]
  },
  {
   "cell_type": "code",
   "execution_count": 1,
   "id": "d4ab0749-b286-4c34-b63c-a854e4952bae",
   "metadata": {
    "execution": {
     "iopub.execute_input": "2021-10-09T20:42:59.973297Z",
     "iopub.status.busy": "2021-10-09T20:42:59.972731Z",
     "iopub.status.idle": "2021-10-09T20:42:59.977309Z",
     "shell.execute_reply": "2021-10-09T20:42:59.976787Z"
    },
    "papermill": {
     "duration": 0.025478,
     "end_time": "2021-10-09T20:42:59.977450",
     "exception": false,
     "start_time": "2021-10-09T20:42:59.951972",
     "status": "completed"
    },
    "tags": [
     "parameters"
    ]
   },
   "outputs": [],
   "source": [
    "# Defaults\n",
    "cases_dir = 'cases/unset'\n",
    "reference_file = 'references/NC_045512.gbk.gz'\n",
    "input_files_all = 'input/input-files.tsv'\n",
    "iterations = 3\n",
    "mincov = 10\n",
    "ncores = 32\n",
    "number_samples = 10\n",
    "build_tree = False\n",
    "sample_batch_size=2000"
   ]
  },
  {
   "cell_type": "code",
   "execution_count": 2,
   "id": "26fd33ac",
   "metadata": {
    "execution": {
     "iopub.execute_input": "2021-10-09T20:43:00.000233Z",
     "iopub.status.busy": "2021-10-09T20:42:59.999678Z",
     "iopub.status.idle": "2021-10-09T20:43:00.002664Z",
     "shell.execute_reply": "2021-10-09T20:43:00.002229Z"
    },
    "papermill": {
     "duration": 0.016011,
     "end_time": "2021-10-09T20:43:00.002786",
     "exception": false,
     "start_time": "2021-10-09T20:42:59.986775",
     "status": "completed"
    },
    "tags": [
     "injected-parameters"
    ]
   },
   "outputs": [],
   "source": [
    "# Parameters\n",
    "cases_dir = \"cases/case-5000-batch-10000\"\n",
    "iterations = 3\n",
    "number_samples = 5000\n",
    "sample_batch_size = 10000\n",
    "build_tree = False\n"
   ]
  },
  {
   "cell_type": "code",
   "execution_count": 3,
   "id": "ce5962e4-261c-4210-b39b-47044e28466b",
   "metadata": {
    "execution": {
     "iopub.execute_input": "2021-10-09T20:43:00.026312Z",
     "iopub.status.busy": "2021-10-09T20:43:00.025757Z",
     "iopub.status.idle": "2021-10-09T20:43:02.459551Z",
     "shell.execute_reply": "2021-10-09T20:43:02.459096Z"
    },
    "papermill": {
     "duration": 2.449677,
     "end_time": "2021-10-09T20:43:02.459668",
     "exception": false,
     "start_time": "2021-10-09T20:43:00.009991",
     "status": "completed"
    },
    "tags": []
   },
   "outputs": [],
   "source": [
    "from pathlib import Path\n",
    "from shutil import rmtree\n",
    "from os import makedirs\n",
    "import imp\n",
    "fp, pathname, description = imp.find_module('gdi_benchmark', ['../../lib'])\n",
    "gdi_benchmark = imp.load_module('gdi_benchmark', fp, pathname, description)\n",
    "\n",
    "cases_dir_path = Path(cases_dir)\n",
    "\n",
    "if cases_dir_path.exists():\n",
    "    rmtree(cases_dir_path)\n",
    "    \n",
    "if not cases_dir_path.exists():\n",
    "    makedirs(cases_dir_path)\n",
    "\n",
    "input_files_all = Path(input_files_all)\n",
    "reference_file = Path(reference_file)\n",
    "\n",
    "case_name = str(cases_dir_path.name)\n",
    "reference_name = reference_file.name.split('.')[0]\n",
    "\n",
    "cases_input = cases_dir_path / 'input-files-case.tsv'\n",
    "index_path = cases_dir_path / 'index'\n",
    "benchmark_path = cases_dir_path / 'index-info.tsv'\n",
    "output_tree = cases_dir_path / 'tree.tre'"
   ]
  },
  {
   "cell_type": "markdown",
   "id": "1673d80f-b52a-4b68-b400-355540495e15",
   "metadata": {
    "papermill": {
     "duration": 0.005472,
     "end_time": "2021-10-09T20:43:02.470831",
     "exception": false,
     "start_time": "2021-10-09T20:43:02.465359",
     "status": "completed"
    },
    "tags": []
   },
   "source": [
    "# 2. Create subset input"
   ]
  },
  {
   "cell_type": "code",
   "execution_count": 4,
   "id": "4e66adb1-3ef7-45d1-8e46-723dcb9d0c31",
   "metadata": {
    "execution": {
     "iopub.execute_input": "2021-10-09T20:43:02.487215Z",
     "iopub.status.busy": "2021-10-09T20:43:02.486551Z",
     "iopub.status.idle": "2021-10-09T20:43:02.710178Z",
     "shell.execute_reply": "2021-10-09T20:43:02.710500Z"
    },
    "papermill": {
     "duration": 0.234647,
     "end_time": "2021-10-09T20:43:02.710649",
     "exception": false,
     "start_time": "2021-10-09T20:43:02.476002",
     "status": "completed"
    },
    "tags": []
   },
   "outputs": [
    {
     "name": "stdout",
     "output_type": "stream",
     "text": [
      "Wrote 5000/100000 samples to cases/case-5000-batch-10000/input-files-case.tsv\n"
     ]
    }
   ],
   "source": [
    "import pandas as pd\n",
    "\n",
    "all_input_df = pd.read_csv(input_files_all, sep='\\t')\n",
    "all_input_total = len(all_input_df)\n",
    "\n",
    "subset_input_df = all_input_df.head(number_samples)\n",
    "subset_input_total = len(subset_input_df)\n",
    "\n",
    "subset_input_df.to_csv(cases_input, sep='\\t', index=False)\n",
    "\n",
    "print(f'Wrote {subset_input_total}/{all_input_total} samples to {cases_input}')"
   ]
  },
  {
   "cell_type": "markdown",
   "id": "f208279e-7558-47fc-9362-da29df92828a",
   "metadata": {
    "papermill": {
     "duration": 0.005811,
     "end_time": "2021-10-09T20:43:02.722630",
     "exception": false,
     "start_time": "2021-10-09T20:43:02.716819",
     "status": "completed"
    },
    "tags": []
   },
   "source": [
    "# 2. Index genomes"
   ]
  },
  {
   "cell_type": "code",
   "execution_count": 5,
   "id": "4e936f7c-2fcd-4188-b0e6-6b3ceb5cdcd2",
   "metadata": {
    "execution": {
     "iopub.execute_input": "2021-10-09T20:43:02.745543Z",
     "iopub.status.busy": "2021-10-09T20:43:02.737296Z",
     "iopub.status.idle": "2021-10-09T20:43:05.555105Z",
     "shell.execute_reply": "2021-10-09T20:43:05.556005Z"
    },
    "papermill": {
     "duration": 2.828235,
     "end_time": "2021-10-09T20:43:05.556321",
     "exception": false,
     "start_time": "2021-10-09T20:43:02.728086",
     "status": "completed"
    },
    "tags": []
   },
   "outputs": [
    {
     "name": "stdout",
     "output_type": "stream",
     "text": [
      "gdi, version 0.4.0.dev1\r\n"
     ]
    }
   ],
   "source": [
    "!gdi --version"
   ]
  },
  {
   "cell_type": "markdown",
   "id": "5409ecf8-2158-4361-9d2f-6b1a6c7c63a6",
   "metadata": {
    "papermill": {
     "duration": 0.009152,
     "end_time": "2021-10-09T20:43:05.584079",
     "exception": false,
     "start_time": "2021-10-09T20:43:05.574927",
     "status": "completed"
    },
    "tags": []
   },
   "source": [
    "## 2.1. Index reads"
   ]
  },
  {
   "cell_type": "code",
   "execution_count": 6,
   "id": "3d63e861-733e-46f2-8bce-bd1a2c7c7058",
   "metadata": {
    "execution": {
     "iopub.execute_input": "2021-10-09T20:43:05.611781Z",
     "iopub.status.busy": "2021-10-09T20:43:05.608751Z",
     "iopub.status.idle": "2021-10-09T22:28:11.134332Z",
     "shell.execute_reply": "2021-10-09T22:28:11.133117Z"
    },
    "papermill": {
     "duration": 6305.543764,
     "end_time": "2021-10-09T22:28:11.134838",
     "exception": false,
     "start_time": "2021-10-09T20:43:05.591074",
     "status": "completed"
    },
    "tags": []
   },
   "outputs": [
    {
     "name": "stdout",
     "output_type": "stream",
     "text": [
      "\n",
      "Iteration 1 of index/analysis of 5000 samples with 32 cores\n",
      "Removing any extra snakemake directories: ['snakemake-assemblies.1633811746.0889251']\n"
     ]
    },
    {
     "name": "stdout",
     "output_type": "stream",
     "text": [
      "Creating new index: [gdi init cases/case-5000-batch-10000/index]\n"
     ]
    },
    {
     "name": "stdout",
     "output_type": "stream",
     "text": [
      "Creating a new index took 2.79 seconds\n",
      "Analysis running: [gdi --project-dir cases/case-5000-batch-10000/index --ncores 32 analysis --use-conda --no-load-data --reference-file references/NC_045512.gbk.gz --kmer-size 31 --kmer-size 51 --kmer-size 71 --include-kmer --reads-mincov 10 --input-structured-genomes-file cases/case-5000-batch-10000/input-files-case.tsv]\n"
     ]
    },
    {
     "name": "stdout",
     "output_type": "stream",
     "text": [
      "Analysis took 30.97 minutes\n",
      "Index running: [gdi --project-dir cases/case-5000-batch-10000/index --ncores 32 load vcf-kmer --sample-batch-size 10000 --reference-file references/NC_045512.gbk.gz /home/CSCScience.ca/apetkau/workspace/genomics-data-index-evaluation/evaluations/sars-cov-2/snakemake-assemblies.1633812193.1709268/gdi-input.fofn]\n"
     ]
    },
    {
     "name": "stdout",
     "output_type": "stream",
     "text": [
      "Indexing took 4.18 minutes\n"
     ]
    },
    {
     "name": "stderr",
     "output_type": "stream",
     "text": [
      "A reminder to myself to look for a Python solution for directory sizes (instead of running `du`)\n"
     ]
    },
    {
     "name": "stdout",
     "output_type": "stream",
     "text": [
      "\n",
      "Iteration 2 of index/analysis of 5000 samples with 32 cores\n",
      "Removing any extra snakemake directories: ['snakemake-assemblies.1633812193.1709268']\n"
     ]
    },
    {
     "name": "stdout",
     "output_type": "stream",
     "text": [
      "Removing any existing indexes cases/case-5000-batch-10000/index\n"
     ]
    },
    {
     "name": "stdout",
     "output_type": "stream",
     "text": [
      "Creating new index: [gdi init cases/case-5000-batch-10000/index]\n"
     ]
    },
    {
     "name": "stdout",
     "output_type": "stream",
     "text": [
      "Creating a new index took 2.60 seconds\n",
      "Analysis running: [gdi --project-dir cases/case-5000-batch-10000/index --ncores 32 analysis --use-conda --no-load-data --reference-file references/NC_045512.gbk.gz --kmer-size 31 --kmer-size 51 --kmer-size 71 --include-kmer --reads-mincov 10 --input-structured-genomes-file cases/case-5000-batch-10000/input-files-case.tsv]\n"
     ]
    },
    {
     "name": "stdout",
     "output_type": "stream",
     "text": [
      "Analysis took 30.80 minutes\n",
      "Index running: [gdi --project-dir cases/case-5000-batch-10000/index --ncores 32 load vcf-kmer --sample-batch-size 10000 --reference-file references/NC_045512.gbk.gz /home/CSCScience.ca/apetkau/workspace/genomics-data-index-evaluation/evaluations/sars-cov-2/snakemake-assemblies.1633814310.3751073/gdi-input.fofn]\n"
     ]
    },
    {
     "name": "stdout",
     "output_type": "stream",
     "text": [
      "Indexing took 3.99 minutes\n"
     ]
    },
    {
     "name": "stderr",
     "output_type": "stream",
     "text": [
      "Attempting to set global database_path_translator=<genomics_data_index.storage.model.db.DatabasePathTranslator.DatabasePathTranslator object at 0x7f731b7332e0> but it is already set\n"
     ]
    },
    {
     "name": "stderr",
     "output_type": "stream",
     "text": [
      "A reminder to myself to look for a Python solution for directory sizes (instead of running `du`)\n"
     ]
    },
    {
     "name": "stdout",
     "output_type": "stream",
     "text": [
      "\n",
      "Iteration 3 of index/analysis of 5000 samples with 32 cores\n",
      "Removing any extra snakemake directories: ['snakemake-assemblies.1633814310.3751073']\n"
     ]
    },
    {
     "name": "stdout",
     "output_type": "stream",
     "text": [
      "Removing any existing indexes cases/case-5000-batch-10000/index\n"
     ]
    },
    {
     "name": "stdout",
     "output_type": "stream",
     "text": [
      "Creating new index: [gdi init cases/case-5000-batch-10000/index]\n"
     ]
    },
    {
     "name": "stdout",
     "output_type": "stream",
     "text": [
      "Creating a new index took 2.94 seconds\n",
      "Analysis running: [gdi --project-dir cases/case-5000-batch-10000/index --ncores 32 analysis --use-conda --no-load-data --reference-file references/NC_045512.gbk.gz --kmer-size 31 --kmer-size 51 --kmer-size 71 --include-kmer --reads-mincov 10 --input-structured-genomes-file cases/case-5000-batch-10000/input-files-case.tsv]\n"
     ]
    },
    {
     "name": "stdout",
     "output_type": "stream",
     "text": [
      "Analysis took 30.71 minutes\n",
      "Index running: [gdi --project-dir cases/case-5000-batch-10000/index --ncores 32 load vcf-kmer --sample-batch-size 10000 --reference-file references/NC_045512.gbk.gz /home/CSCScience.ca/apetkau/workspace/genomics-data-index-evaluation/evaluations/sars-cov-2/snakemake-assemblies.1633816406.2792711/gdi-input.fofn]\n"
     ]
    },
    {
     "name": "stdout",
     "output_type": "stream",
     "text": [
      "Indexing took 4.06 minutes\n"
     ]
    },
    {
     "name": "stderr",
     "output_type": "stream",
     "text": [
      "Attempting to set global database_path_translator=<genomics_data_index.storage.model.db.DatabasePathTranslator.DatabasePathTranslator object at 0x7f731b733910> but it is already set\n"
     ]
    },
    {
     "name": "stderr",
     "output_type": "stream",
     "text": [
      "A reminder to myself to look for a Python solution for directory sizes (instead of running `du`)\n"
     ]
    }
   ],
   "source": [
    "results_handler = gdi_benchmark.BenchmarkResultsHandler(name=case_name)\n",
    "benchmarker = gdi_benchmark.IndexBenchmarker(benchmark_results_handler=results_handler,\n",
    "                                             index_path=index_path, input_files_file=cases_input,\n",
    "                                             reference_file=reference_file, mincov=mincov,\n",
    "                                             build_tree=build_tree,\n",
    "                                             ncores=ncores,\n",
    "                                             sample_batch_size=sample_batch_size)\n",
    "\n",
    "benchmark_df = benchmarker.benchmark(iterations=iterations)"
   ]
  },
  {
   "cell_type": "code",
   "execution_count": 7,
   "id": "3bcb6da7-0164-47f2-abdd-a4c159da1e3b",
   "metadata": {
    "execution": {
     "iopub.execute_input": "2021-10-09T22:28:11.187877Z",
     "iopub.status.busy": "2021-10-09T22:28:11.186635Z",
     "iopub.status.idle": "2021-10-09T22:28:11.213931Z",
     "shell.execute_reply": "2021-10-09T22:28:11.214884Z"
    },
    "papermill": {
     "duration": 0.056632,
     "end_time": "2021-10-09T22:28:11.215161",
     "exception": false,
     "start_time": "2021-10-09T22:28:11.158529",
     "status": "completed"
    },
    "tags": []
   },
   "outputs": [
    {
     "data": {
      "text/html": [
       "<div>\n",
       "<style scoped>\n",
       "    .dataframe tbody tr th:only-of-type {\n",
       "        vertical-align: middle;\n",
       "    }\n",
       "\n",
       "    .dataframe tbody tr th {\n",
       "        vertical-align: top;\n",
       "    }\n",
       "\n",
       "    .dataframe thead th {\n",
       "        text-align: right;\n",
       "    }\n",
       "</style>\n",
       "<table border=\"1\" class=\"dataframe\">\n",
       "  <thead>\n",
       "    <tr style=\"text-align: right;\">\n",
       "      <th></th>\n",
       "      <th>Name</th>\n",
       "      <th>Iteration</th>\n",
       "      <th>Number samples</th>\n",
       "      <th>Number features (all)</th>\n",
       "      <th>Number features (no unknown)</th>\n",
       "      <th>Number cores</th>\n",
       "      <th>Reference length</th>\n",
       "      <th>Analysis runtime</th>\n",
       "      <th>Analysis memory (max)</th>\n",
       "      <th>Analysis memory (max/process)</th>\n",
       "      <th>Analysis disk uage</th>\n",
       "      <th>Index runtime</th>\n",
       "      <th>Index memory (max)</th>\n",
       "      <th>Index memory (max/process)</th>\n",
       "      <th>Index size</th>\n",
       "      <th>Tree runtime</th>\n",
       "      <th>Tree memory (max)</th>\n",
       "      <th>Tree memory (max/process)</th>\n",
       "      <th>Total runtime</th>\n",
       "      <th>Max memory</th>\n",
       "    </tr>\n",
       "  </thead>\n",
       "  <tbody>\n",
       "    <tr>\n",
       "      <th>0</th>\n",
       "      <td>case-5000-batch-10000</td>\n",
       "      <td>1</td>\n",
       "      <td>5000</td>\n",
       "      <td>35646</td>\n",
       "      <td>5743</td>\n",
       "      <td>32</td>\n",
       "      <td>29903</td>\n",
       "      <td>1857.95</td>\n",
       "      <td>1.519378e+09</td>\n",
       "      <td>537124864.0</td>\n",
       "      <td>4.495725e+09</td>\n",
       "      <td>250.85</td>\n",
       "      <td>8.375648e+09</td>\n",
       "      <td>2.995818e+09</td>\n",
       "      <td>94470144.0</td>\n",
       "      <td>&lt;NA&gt;</td>\n",
       "      <td>&lt;NA&gt;</td>\n",
       "      <td>&lt;NA&gt;</td>\n",
       "      <td>2108.80</td>\n",
       "      <td>8.375648e+09</td>\n",
       "    </tr>\n",
       "    <tr>\n",
       "      <th>0</th>\n",
       "      <td>case-5000-batch-10000</td>\n",
       "      <td>2</td>\n",
       "      <td>5000</td>\n",
       "      <td>35646</td>\n",
       "      <td>5743</td>\n",
       "      <td>32</td>\n",
       "      <td>29903</td>\n",
       "      <td>1847.59</td>\n",
       "      <td>1.572958e+09</td>\n",
       "      <td>537505792.0</td>\n",
       "      <td>4.495839e+09</td>\n",
       "      <td>239.41</td>\n",
       "      <td>8.403268e+09</td>\n",
       "      <td>2.999431e+09</td>\n",
       "      <td>94470144.0</td>\n",
       "      <td>&lt;NA&gt;</td>\n",
       "      <td>&lt;NA&gt;</td>\n",
       "      <td>&lt;NA&gt;</td>\n",
       "      <td>2087.00</td>\n",
       "      <td>8.403268e+09</td>\n",
       "    </tr>\n",
       "    <tr>\n",
       "      <th>0</th>\n",
       "      <td>case-5000-batch-10000</td>\n",
       "      <td>3</td>\n",
       "      <td>5000</td>\n",
       "      <td>35646</td>\n",
       "      <td>5743</td>\n",
       "      <td>32</td>\n",
       "      <td>29903</td>\n",
       "      <td>1842.68</td>\n",
       "      <td>1.436443e+09</td>\n",
       "      <td>537419776.0</td>\n",
       "      <td>4.495704e+09</td>\n",
       "      <td>243.65</td>\n",
       "      <td>8.349995e+09</td>\n",
       "      <td>2.991407e+09</td>\n",
       "      <td>94486528.0</td>\n",
       "      <td>&lt;NA&gt;</td>\n",
       "      <td>&lt;NA&gt;</td>\n",
       "      <td>&lt;NA&gt;</td>\n",
       "      <td>2086.33</td>\n",
       "      <td>8.349995e+09</td>\n",
       "    </tr>\n",
       "  </tbody>\n",
       "</table>\n",
       "</div>"
      ],
      "text/plain": [
       "                    Name  Iteration  Number samples  Number features (all)  \\\n",
       "0  case-5000-batch-10000          1            5000                  35646   \n",
       "0  case-5000-batch-10000          2            5000                  35646   \n",
       "0  case-5000-batch-10000          3            5000                  35646   \n",
       "\n",
       "   Number features (no unknown)  Number cores  Reference length  \\\n",
       "0                          5743            32             29903   \n",
       "0                          5743            32             29903   \n",
       "0                          5743            32             29903   \n",
       "\n",
       "   Analysis runtime  Analysis memory (max)  Analysis memory (max/process)  \\\n",
       "0           1857.95           1.519378e+09                    537124864.0   \n",
       "0           1847.59           1.572958e+09                    537505792.0   \n",
       "0           1842.68           1.436443e+09                    537419776.0   \n",
       "\n",
       "   Analysis disk uage  Index runtime  Index memory (max)  \\\n",
       "0        4.495725e+09         250.85        8.375648e+09   \n",
       "0        4.495839e+09         239.41        8.403268e+09   \n",
       "0        4.495704e+09         243.65        8.349995e+09   \n",
       "\n",
       "   Index memory (max/process)  Index size Tree runtime Tree memory (max)  \\\n",
       "0                2.995818e+09  94470144.0         <NA>              <NA>   \n",
       "0                2.999431e+09  94470144.0         <NA>              <NA>   \n",
       "0                2.991407e+09  94486528.0         <NA>              <NA>   \n",
       "\n",
       "  Tree memory (max/process)  Total runtime    Max memory  \n",
       "0                      <NA>        2108.80  8.375648e+09  \n",
       "0                      <NA>        2087.00  8.403268e+09  \n",
       "0                      <NA>        2086.33  8.349995e+09  "
      ]
     },
     "execution_count": 7,
     "metadata": {},
     "output_type": "execute_result"
    }
   ],
   "source": [
    "benchmark_df"
   ]
  },
  {
   "cell_type": "code",
   "execution_count": 8,
   "id": "535a9ccc-ab9c-4919-806f-128e1efd2389",
   "metadata": {
    "execution": {
     "iopub.execute_input": "2021-10-09T22:28:11.254316Z",
     "iopub.status.busy": "2021-10-09T22:28:11.253943Z",
     "iopub.status.idle": "2021-10-09T22:28:11.257445Z",
     "shell.execute_reply": "2021-10-09T22:28:11.257154Z"
    },
    "papermill": {
     "duration": 0.021492,
     "end_time": "2021-10-09T22:28:11.257529",
     "exception": false,
     "start_time": "2021-10-09T22:28:11.236037",
     "status": "completed"
    },
    "tags": []
   },
   "outputs": [],
   "source": [
    "benchmark_df.to_csv(benchmark_path, sep='\\t', index=False)"
   ]
  },
  {
   "cell_type": "markdown",
   "id": "6cb7673b-9f85-4c43-b2e2-93538497a196",
   "metadata": {
    "papermill": {
     "duration": 0.009565,
     "end_time": "2021-10-09T22:28:11.279240",
     "exception": false,
     "start_time": "2021-10-09T22:28:11.269675",
     "status": "completed"
    },
    "tags": []
   },
   "source": [
    "# 3. Export trees"
   ]
  },
  {
   "cell_type": "code",
   "execution_count": 9,
   "id": "5280f82c-5434-4391-8c44-b937a7c95bd5",
   "metadata": {
    "execution": {
     "iopub.execute_input": "2021-10-09T22:28:11.312605Z",
     "iopub.status.busy": "2021-10-09T22:28:11.306476Z",
     "iopub.status.idle": "2021-10-09T22:28:11.321406Z",
     "shell.execute_reply": "2021-10-09T22:28:11.320471Z"
    },
    "papermill": {
     "duration": 0.033147,
     "end_time": "2021-10-09T22:28:11.321929",
     "exception": false,
     "start_time": "2021-10-09T22:28:11.288782",
     "status": "completed"
    },
    "tags": []
   },
   "outputs": [
    {
     "name": "stdout",
     "output_type": "stream",
     "text": [
      "build_tree=False so no tree to export\n"
     ]
    }
   ],
   "source": [
    "if build_tree:\n",
    "    !gdi --project-dir {index_path} export tree {reference_name} > {output_tree}\n",
    "    print(f'Wrote tree to {output_tree}')\n",
    "else:\n",
    "    print(f'build_tree={build_tree} so no tree to export')"
   ]
  }
 ],
 "metadata": {
  "kernelspec": {
   "display_name": "Python 3 (ipykernel)",
   "language": "python",
   "name": "python3"
  },
  "language_info": {
   "codemirror_mode": {
    "name": "ipython",
    "version": 3
   },
   "file_extension": ".py",
   "mimetype": "text/x-python",
   "name": "python",
   "nbconvert_exporter": "python",
   "pygments_lexer": "ipython3",
   "version": "3.8.12"
  },
  "papermill": {
   "default_parameters": {},
   "duration": 6313.401997,
   "end_time": "2021-10-09T22:28:11.972780",
   "environment_variables": {},
   "exception": null,
   "input_path": "template-3-index-genomes.ipynb",
   "output_path": "3-index-genomes.case-5000-batch-10000.ipynb",
   "parameters": {
    "build_tree": false,
    "cases_dir": "cases/case-5000-batch-10000",
    "iterations": 3,
    "number_samples": 5000,
    "sample_batch_size": 10000
   },
   "start_time": "2021-10-09T20:42:58.570783",
   "version": "2.3.3"
  }
 },
 "nbformat": 4,
 "nbformat_minor": 5
}