{
 "cells": [
  {
   "cell_type": "markdown",
   "id": "7d3667b4-b1f8-4347-96e3-830c25b06740",
   "metadata": {
    "papermill": {
     "duration": 0.015817,
     "end_time": "2022-03-13T13:28:48.184395",
     "exception": false,
     "start_time": "2022-03-13T13:28:48.168578",
     "status": "completed"
    },
    "tags": []
   },
   "source": [
    "# 1. Parameters"
   ]
  },
  {
   "cell_type": "code",
   "execution_count": 1,
   "id": "d4ab0749-b286-4c34-b63c-a854e4952bae",
   "metadata": {
    "execution": {
     "iopub.execute_input": "2022-03-13T13:28:48.213749Z",
     "iopub.status.busy": "2022-03-13T13:28:48.213216Z",
     "iopub.status.idle": "2022-03-13T13:28:48.217082Z",
     "shell.execute_reply": "2022-03-13T13:28:48.216546Z"
    },
    "papermill": {
     "duration": 0.023952,
     "end_time": "2022-03-13T13:28:48.217207",
     "exception": false,
     "start_time": "2022-03-13T13:28:48.193255",
     "status": "completed"
    },
    "tags": [
     "parameters"
    ]
   },
   "outputs": [],
   "source": [
    "# Defaults\n",
    "cases_dir = 'cases/unset'\n",
    "reference_file = 'references/NC_045512.gbk.gz'\n",
    "input_files_all = 'input/input-files.tsv'\n",
    "iterations = 3\n",
    "mincov = 10\n",
    "ncores = 32\n",
    "number_samples = 10\n",
    "build_tree = False\n",
    "sample_batch_size=2000"
   ]
  },
  {
   "cell_type": "code",
   "execution_count": 2,
   "id": "6e6f1880",
   "metadata": {
    "execution": {
     "iopub.execute_input": "2022-03-13T13:28:48.238517Z",
     "iopub.status.busy": "2022-03-13T13:28:48.238048Z",
     "iopub.status.idle": "2022-03-13T13:28:48.240391Z",
     "shell.execute_reply": "2022-03-13T13:28:48.240756Z"
    },
    "papermill": {
     "duration": 0.016006,
     "end_time": "2022-03-13T13:28:48.240870",
     "exception": false,
     "start_time": "2022-03-13T13:28:48.224864",
     "status": "completed"
    },
    "tags": [
     "injected-parameters"
    ]
   },
   "outputs": [],
   "source": [
    "# Parameters\n",
    "cases_dir = \"cases/case-5000-batch-10000\"\n",
    "iterations = 3\n",
    "number_samples = 5000\n",
    "sample_batch_size = 10000\n",
    "build_tree = False\n"
   ]
  },
  {
   "cell_type": "code",
   "execution_count": 3,
   "id": "ce5962e4-261c-4210-b39b-47044e28466b",
   "metadata": {
    "execution": {
     "iopub.execute_input": "2022-03-13T13:28:48.264784Z",
     "iopub.status.busy": "2022-03-13T13:28:48.262560Z",
     "iopub.status.idle": "2022-03-13T13:28:50.729451Z",
     "shell.execute_reply": "2022-03-13T13:28:50.728320Z"
    },
    "papermill": {
     "duration": 2.481118,
     "end_time": "2022-03-13T13:28:50.729711",
     "exception": false,
     "start_time": "2022-03-13T13:28:48.248593",
     "status": "completed"
    },
    "tags": []
   },
   "outputs": [],
   "source": [
    "from pathlib import Path\n",
    "from shutil import rmtree\n",
    "from os import makedirs\n",
    "import imp\n",
    "fp, pathname, description = imp.find_module('gdi_benchmark', ['../../lib'])\n",
    "gdi_benchmark = imp.load_module('gdi_benchmark', fp, pathname, description)\n",
    "\n",
    "cases_dir_path = Path(cases_dir)\n",
    "\n",
    "if cases_dir_path.exists():\n",
    "    rmtree(cases_dir_path)\n",
    "    \n",
    "if not cases_dir_path.exists():\n",
    "    makedirs(cases_dir_path)\n",
    "\n",
    "input_files_all = Path(input_files_all)\n",
    "reference_file = Path(reference_file)\n",
    "\n",
    "case_name = str(cases_dir_path.name)\n",
    "reference_name = reference_file.name.split('.')[0]\n",
    "\n",
    "cases_input = cases_dir_path / 'input-files-case.tsv'\n",
    "index_path = cases_dir_path / 'index'\n",
    "benchmark_path = cases_dir_path / 'index-info.tsv'\n",
    "output_tree = cases_dir_path / 'tree.tre'"
   ]
  },
  {
   "cell_type": "markdown",
   "id": "1673d80f-b52a-4b68-b400-355540495e15",
   "metadata": {
    "papermill": {
     "duration": 0.008927,
     "end_time": "2022-03-13T13:28:50.753137",
     "exception": false,
     "start_time": "2022-03-13T13:28:50.744210",
     "status": "completed"
    },
    "tags": []
   },
   "source": [
    "# 2. Create subset input"
   ]
  },
  {
   "cell_type": "code",
   "execution_count": 4,
   "id": "4e66adb1-3ef7-45d1-8e46-723dcb9d0c31",
   "metadata": {
    "execution": {
     "iopub.execute_input": "2022-03-13T13:28:50.773823Z",
     "iopub.status.busy": "2022-03-13T13:28:50.773411Z",
     "iopub.status.idle": "2022-03-13T13:28:51.016045Z",
     "shell.execute_reply": "2022-03-13T13:28:51.016979Z"
    },
    "papermill": {
     "duration": 0.257431,
     "end_time": "2022-03-13T13:28:51.017291",
     "exception": false,
     "start_time": "2022-03-13T13:28:50.759860",
     "status": "completed"
    },
    "tags": []
   },
   "outputs": [
    {
     "name": "stdout",
     "output_type": "stream",
     "text": [
      "Wrote 5000/100000 samples to cases/case-5000-batch-10000/input-files-case.tsv\n"
     ]
    }
   ],
   "source": [
    "import pandas as pd\n",
    "\n",
    "all_input_df = pd.read_csv(input_files_all, sep='\\t')\n",
    "all_input_total = len(all_input_df)\n",
    "\n",
    "subset_input_df = all_input_df.head(number_samples)\n",
    "subset_input_total = len(subset_input_df)\n",
    "\n",
    "subset_input_df.to_csv(cases_input, sep='\\t', index=False)\n",
    "\n",
    "print(f'Wrote {subset_input_total}/{all_input_total} samples to {cases_input}')"
   ]
  },
  {
   "cell_type": "markdown",
   "id": "f208279e-7558-47fc-9362-da29df92828a",
   "metadata": {
    "papermill": {
     "duration": 0.007804,
     "end_time": "2022-03-13T13:28:51.038189",
     "exception": false,
     "start_time": "2022-03-13T13:28:51.030385",
     "status": "completed"
    },
    "tags": []
   },
   "source": [
    "# 2. Index genomes"
   ]
  },
  {
   "cell_type": "code",
   "execution_count": 5,
   "id": "4e936f7c-2fcd-4188-b0e6-6b3ceb5cdcd2",
   "metadata": {
    "execution": {
     "iopub.execute_input": "2022-03-13T13:28:51.055939Z",
     "iopub.status.busy": "2022-03-13T13:28:51.055529Z",
     "iopub.status.idle": "2022-03-13T13:28:53.939652Z",
     "shell.execute_reply": "2022-03-13T13:28:53.940622Z"
    },
    "papermill": {
     "duration": 2.896399,
     "end_time": "2022-03-13T13:28:53.940960",
     "exception": false,
     "start_time": "2022-03-13T13:28:51.044561",
     "status": "completed"
    },
    "tags": []
   },
   "outputs": [
    {
     "name": "stdout",
     "output_type": "stream",
     "text": [
      "gdi, version 0.6.0.dev2\r\n"
     ]
    }
   ],
   "source": [
    "!gdi --version"
   ]
  },
  {
   "cell_type": "markdown",
   "id": "5409ecf8-2158-4361-9d2f-6b1a6c7c63a6",
   "metadata": {
    "papermill": {
     "duration": 0.009518,
     "end_time": "2022-03-13T13:28:53.968121",
     "exception": false,
     "start_time": "2022-03-13T13:28:53.958603",
     "status": "completed"
    },
    "tags": []
   },
   "source": [
    "## 2.1. Index reads"
   ]
  },
  {
   "cell_type": "code",
   "execution_count": 6,
   "id": "3d63e861-733e-46f2-8bce-bd1a2c7c7058",
   "metadata": {
    "execution": {
     "iopub.execute_input": "2022-03-13T13:28:53.996374Z",
     "iopub.status.busy": "2022-03-13T13:28:53.993861Z",
     "iopub.status.idle": "2022-03-13T15:16:53.050501Z",
     "shell.execute_reply": "2022-03-13T15:16:53.049312Z"
    },
    "papermill": {
     "duration": 6479.075502,
     "end_time": "2022-03-13T15:16:53.050876",
     "exception": false,
     "start_time": "2022-03-13T13:28:53.975374",
     "status": "completed"
    },
    "tags": []
   },
   "outputs": [
    {
     "name": "stdout",
     "output_type": "stream",
     "text": [
      "\n",
      "Iteration 1 of index/analysis of 5000 samples with 32 cores\n",
      "Removing any extra snakemake directories: ['snakemake-assemblies.1647177193.382223']\n"
     ]
    },
    {
     "name": "stdout",
     "output_type": "stream",
     "text": [
      "Creating new index: [gdi init cases/case-5000-batch-10000/index]\n"
     ]
    },
    {
     "name": "stdout",
     "output_type": "stream",
     "text": [
      "Creating a new index took 2.67 seconds\n",
      "Analysis running: [gdi --project-dir cases/case-5000-batch-10000/index --ncores 32 analysis --use-conda --no-load-data --reference-file references/NC_045512.gbk.gz --kmer-size 31 --kmer-size 51 --kmer-size 71 --include-kmer --reads-mincov 10 --input-structured-genomes-file cases/case-5000-batch-10000/input-files-case.tsv]\n"
     ]
    },
    {
     "name": "stdout",
     "output_type": "stream",
     "text": [
      "Analysis took 31.28 minutes\n",
      "Index running: [gdi --project-dir cases/case-5000-batch-10000/index --ncores 32 load vcf-kmer --sample-batch-size 10000 --reference-file references/NC_045512.gbk.gz /home/CSCScience.ca/apetkau/workspace/genomics-data-index-evaluation/evaluations/sars-cov-2/snakemake-assemblies.1647178142.662442/gdi-input.fofn]\n"
     ]
    },
    {
     "name": "stdout",
     "output_type": "stream",
     "text": [
      "Indexing took 4.44 minutes\n"
     ]
    },
    {
     "name": "stderr",
     "output_type": "stream",
     "text": [
      "A reminder to myself to look for a Python solution for directory sizes (instead of running `du`)\n"
     ]
    },
    {
     "name": "stdout",
     "output_type": "stream",
     "text": [
      "\n",
      "Iteration 2 of index/analysis of 5000 samples with 32 cores\n",
      "Removing any extra snakemake directories: ['snakemake-assemblies.1647178142.662442']\n"
     ]
    },
    {
     "name": "stdout",
     "output_type": "stream",
     "text": [
      "Removing any existing indexes cases/case-5000-batch-10000/index\n"
     ]
    },
    {
     "name": "stdout",
     "output_type": "stream",
     "text": [
      "Creating new index: [gdi init cases/case-5000-batch-10000/index]\n"
     ]
    },
    {
     "name": "stdout",
     "output_type": "stream",
     "text": [
      "Creating a new index took 2.65 seconds\n",
      "Analysis running: [gdi --project-dir cases/case-5000-batch-10000/index --ncores 32 analysis --use-conda --no-load-data --reference-file references/NC_045512.gbk.gz --kmer-size 31 --kmer-size 51 --kmer-size 71 --include-kmer --reads-mincov 10 --input-structured-genomes-file cases/case-5000-batch-10000/input-files-case.tsv]\n"
     ]
    },
    {
     "name": "stdout",
     "output_type": "stream",
     "text": [
      "Analysis took 31.62 minutes\n",
      "Index running: [gdi --project-dir cases/case-5000-batch-10000/index --ncores 32 load vcf-kmer --sample-batch-size 10000 --reference-file references/NC_045512.gbk.gz /home/CSCScience.ca/apetkau/workspace/genomics-data-index-evaluation/evaluations/sars-cov-2/snakemake-assemblies.1647180294.5261648/gdi-input.fofn]\n"
     ]
    },
    {
     "name": "stdout",
     "output_type": "stream",
     "text": [
      "Indexing took 4.44 minutes\n"
     ]
    },
    {
     "name": "stderr",
     "output_type": "stream",
     "text": [
      "Attempting to set global database_path_translator=<genomics_data_index.storage.model.db.DatabasePathTranslator.DatabasePathTranslator object at 0x7fb32631e6a0> but it is already set\n"
     ]
    },
    {
     "name": "stderr",
     "output_type": "stream",
     "text": [
      "A reminder to myself to look for a Python solution for directory sizes (instead of running `du`)\n"
     ]
    },
    {
     "name": "stdout",
     "output_type": "stream",
     "text": [
      "\n",
      "Iteration 3 of index/analysis of 5000 samples with 32 cores\n",
      "Removing any extra snakemake directories: ['snakemake-assemblies.1647180294.5261648']\n"
     ]
    },
    {
     "name": "stdout",
     "output_type": "stream",
     "text": [
      "Removing any existing indexes cases/case-5000-batch-10000/index\n"
     ]
    },
    {
     "name": "stdout",
     "output_type": "stream",
     "text": [
      "Creating new index: [gdi init cases/case-5000-batch-10000/index]\n"
     ]
    },
    {
     "name": "stdout",
     "output_type": "stream",
     "text": [
      "Creating a new index took 2.80 seconds\n",
      "Analysis running: [gdi --project-dir cases/case-5000-batch-10000/index --ncores 32 analysis --use-conda --no-load-data --reference-file references/NC_045512.gbk.gz --kmer-size 31 --kmer-size 51 --kmer-size 71 --include-kmer --reads-mincov 10 --input-structured-genomes-file cases/case-5000-batch-10000/input-files-case.tsv]\n"
     ]
    },
    {
     "name": "stdout",
     "output_type": "stream",
     "text": [
      "Analysis took 31.28 minutes\n",
      "Index running: [gdi --project-dir cases/case-5000-batch-10000/index --ncores 32 load vcf-kmer --sample-batch-size 10000 --reference-file references/NC_045512.gbk.gz /home/CSCScience.ca/apetkau/workspace/genomics-data-index-evaluation/evaluations/sars-cov-2/snakemake-assemblies.1647182466.6203928/gdi-input.fofn]\n"
     ]
    },
    {
     "name": "stdout",
     "output_type": "stream",
     "text": [
      "Indexing took 4.53 minutes\n"
     ]
    },
    {
     "name": "stderr",
     "output_type": "stream",
     "text": [
      "Attempting to set global database_path_translator=<genomics_data_index.storage.model.db.DatabasePathTranslator.DatabasePathTranslator object at 0x7fb3262bed90> but it is already set\n"
     ]
    },
    {
     "name": "stderr",
     "output_type": "stream",
     "text": [
      "A reminder to myself to look for a Python solution for directory sizes (instead of running `du`)\n"
     ]
    }
   ],
   "source": [
    "results_handler = gdi_benchmark.BenchmarkResultsHandler(name=case_name)\n",
    "benchmarker = gdi_benchmark.IndexBenchmarker(benchmark_results_handler=results_handler,\n",
    "                                             index_path=index_path, input_files_file=cases_input,\n",
    "                                             reference_file=reference_file, mincov=mincov,\n",
    "                                             build_tree=build_tree,\n",
    "                                             ncores=ncores,\n",
    "                                             sample_batch_size=sample_batch_size)\n",
    "\n",
    "benchmark_df = benchmarker.benchmark(iterations=iterations)"
   ]
  },
  {
   "cell_type": "code",
   "execution_count": 7,
   "id": "3bcb6da7-0164-47f2-abdd-a4c159da1e3b",
   "metadata": {
    "execution": {
     "iopub.execute_input": "2022-03-13T15:16:53.101337Z",
     "iopub.status.busy": "2022-03-13T15:16:53.100131Z",
     "iopub.status.idle": "2022-03-13T15:16:53.128731Z",
     "shell.execute_reply": "2022-03-13T15:16:53.129645Z"
    },
    "papermill": {
     "duration": 0.057267,
     "end_time": "2022-03-13T15:16:53.129917",
     "exception": false,
     "start_time": "2022-03-13T15:16:53.072650",
     "status": "completed"
    },
    "tags": []
   },
   "outputs": [
    {
     "data": {
      "text/html": [
       "<div>\n",
       "<style scoped>\n",
       "    .dataframe tbody tr th:only-of-type {\n",
       "        vertical-align: middle;\n",
       "    }\n",
       "\n",
       "    .dataframe tbody tr th {\n",
       "        vertical-align: top;\n",
       "    }\n",
       "\n",
       "    .dataframe thead th {\n",
       "        text-align: right;\n",
       "    }\n",
       "</style>\n",
       "<table border=\"1\" class=\"dataframe\">\n",
       "  <thead>\n",
       "    <tr style=\"text-align: right;\">\n",
       "      <th></th>\n",
       "      <th>Name</th>\n",
       "      <th>Reference name</th>\n",
       "      <th>Iteration</th>\n",
       "      <th>Number samples</th>\n",
       "      <th>Number features (all)</th>\n",
       "      <th>Number features (no unknown)</th>\n",
       "      <th>Number cores</th>\n",
       "      <th>Reference length</th>\n",
       "      <th>Analysis runtime</th>\n",
       "      <th>Analysis memory (max)</th>\n",
       "      <th>...</th>\n",
       "      <th>Analysis disk uage</th>\n",
       "      <th>Index runtime</th>\n",
       "      <th>Index memory (max)</th>\n",
       "      <th>Index memory (max/process)</th>\n",
       "      <th>Index size</th>\n",
       "      <th>Tree runtime</th>\n",
       "      <th>Tree memory (max)</th>\n",
       "      <th>Tree memory (max/process)</th>\n",
       "      <th>Total runtime</th>\n",
       "      <th>Max memory</th>\n",
       "    </tr>\n",
       "  </thead>\n",
       "  <tbody>\n",
       "    <tr>\n",
       "      <th>0</th>\n",
       "      <td>case-5000-batch-10000</td>\n",
       "      <td>NC_045512</td>\n",
       "      <td>1</td>\n",
       "      <td>5000</td>\n",
       "      <td>35663</td>\n",
       "      <td>5760</td>\n",
       "      <td>32</td>\n",
       "      <td>29903</td>\n",
       "      <td>1876.88</td>\n",
       "      <td>1.450340e+09</td>\n",
       "      <td>...</td>\n",
       "      <td>4.659933e+09</td>\n",
       "      <td>266.29</td>\n",
       "      <td>8.373756e+09</td>\n",
       "      <td>2.992312e+09</td>\n",
       "      <td>94507008.0</td>\n",
       "      <td>&lt;NA&gt;</td>\n",
       "      <td>&lt;NA&gt;</td>\n",
       "      <td>&lt;NA&gt;</td>\n",
       "      <td>2143.17</td>\n",
       "      <td>8.373756e+09</td>\n",
       "    </tr>\n",
       "    <tr>\n",
       "      <th>0</th>\n",
       "      <td>case-5000-batch-10000</td>\n",
       "      <td>NC_045512</td>\n",
       "      <td>2</td>\n",
       "      <td>5000</td>\n",
       "      <td>35663</td>\n",
       "      <td>5760</td>\n",
       "      <td>32</td>\n",
       "      <td>29903</td>\n",
       "      <td>1896.97</td>\n",
       "      <td>1.396924e+09</td>\n",
       "      <td>...</td>\n",
       "      <td>4.660093e+09</td>\n",
       "      <td>266.34</td>\n",
       "      <td>8.364106e+09</td>\n",
       "      <td>3.001475e+09</td>\n",
       "      <td>94535680.0</td>\n",
       "      <td>&lt;NA&gt;</td>\n",
       "      <td>&lt;NA&gt;</td>\n",
       "      <td>&lt;NA&gt;</td>\n",
       "      <td>2163.31</td>\n",
       "      <td>8.364106e+09</td>\n",
       "    </tr>\n",
       "    <tr>\n",
       "      <th>0</th>\n",
       "      <td>case-5000-batch-10000</td>\n",
       "      <td>NC_045512</td>\n",
       "      <td>3</td>\n",
       "      <td>5000</td>\n",
       "      <td>35663</td>\n",
       "      <td>5760</td>\n",
       "      <td>32</td>\n",
       "      <td>29903</td>\n",
       "      <td>1876.31</td>\n",
       "      <td>1.233949e+09</td>\n",
       "      <td>...</td>\n",
       "      <td>4.660015e+09</td>\n",
       "      <td>271.60</td>\n",
       "      <td>8.382468e+09</td>\n",
       "      <td>3.005538e+09</td>\n",
       "      <td>94539776.0</td>\n",
       "      <td>&lt;NA&gt;</td>\n",
       "      <td>&lt;NA&gt;</td>\n",
       "      <td>&lt;NA&gt;</td>\n",
       "      <td>2147.91</td>\n",
       "      <td>8.382468e+09</td>\n",
       "    </tr>\n",
       "  </tbody>\n",
       "</table>\n",
       "<p>3 rows × 21 columns</p>\n",
       "</div>"
      ],
      "text/plain": [
       "                    Name Reference name  Iteration  Number samples  \\\n",
       "0  case-5000-batch-10000      NC_045512          1            5000   \n",
       "0  case-5000-batch-10000      NC_045512          2            5000   \n",
       "0  case-5000-batch-10000      NC_045512          3            5000   \n",
       "\n",
       "   Number features (all)  Number features (no unknown)  Number cores  \\\n",
       "0                  35663                          5760            32   \n",
       "0                  35663                          5760            32   \n",
       "0                  35663                          5760            32   \n",
       "\n",
       "   Reference length  Analysis runtime  Analysis memory (max)  ...  \\\n",
       "0             29903           1876.88           1.450340e+09  ...   \n",
       "0             29903           1896.97           1.396924e+09  ...   \n",
       "0             29903           1876.31           1.233949e+09  ...   \n",
       "\n",
       "   Analysis disk uage  Index runtime  Index memory (max)  \\\n",
       "0        4.659933e+09         266.29        8.373756e+09   \n",
       "0        4.660093e+09         266.34        8.364106e+09   \n",
       "0        4.660015e+09         271.60        8.382468e+09   \n",
       "\n",
       "   Index memory (max/process)  Index size  Tree runtime Tree memory (max)  \\\n",
       "0                2.992312e+09  94507008.0          <NA>              <NA>   \n",
       "0                3.001475e+09  94535680.0          <NA>              <NA>   \n",
       "0                3.005538e+09  94539776.0          <NA>              <NA>   \n",
       "\n",
       "  Tree memory (max/process) Total runtime    Max memory  \n",
       "0                      <NA>       2143.17  8.373756e+09  \n",
       "0                      <NA>       2163.31  8.364106e+09  \n",
       "0                      <NA>       2147.91  8.382468e+09  \n",
       "\n",
       "[3 rows x 21 columns]"
      ]
     },
     "execution_count": 7,
     "metadata": {},
     "output_type": "execute_result"
    }
   ],
   "source": [
    "benchmark_df"
   ]
  },
  {
   "cell_type": "code",
   "execution_count": 8,
   "id": "535a9ccc-ab9c-4919-806f-128e1efd2389",
   "metadata": {
    "execution": {
     "iopub.execute_input": "2022-03-13T15:16:53.171565Z",
     "iopub.status.busy": "2022-03-13T15:16:53.171192Z",
     "iopub.status.idle": "2022-03-13T15:16:53.177285Z",
     "shell.execute_reply": "2022-03-13T15:16:53.177618Z"
    },
    "papermill": {
     "duration": 0.024566,
     "end_time": "2022-03-13T15:16:53.177730",
     "exception": false,
     "start_time": "2022-03-13T15:16:53.153164",
     "status": "completed"
    },
    "tags": []
   },
   "outputs": [],
   "source": [
    "benchmark_df.to_csv(benchmark_path, sep='\\t', index=False)"
   ]
  },
  {
   "cell_type": "markdown",
   "id": "6cb7673b-9f85-4c43-b2e2-93538497a196",
   "metadata": {
    "papermill": {
     "duration": 0.009984,
     "end_time": "2022-03-13T15:16:53.200909",
     "exception": false,
     "start_time": "2022-03-13T15:16:53.190925",
     "status": "completed"
    },
    "tags": []
   },
   "source": [
    "# 3. Export trees"
   ]
  },
  {
   "cell_type": "code",
   "execution_count": 9,
   "id": "5280f82c-5434-4391-8c44-b937a7c95bd5",
   "metadata": {
    "execution": {
     "iopub.execute_input": "2022-03-13T15:16:53.228907Z",
     "iopub.status.busy": "2022-03-13T15:16:53.228074Z",
     "iopub.status.idle": "2022-03-13T15:16:53.232283Z",
     "shell.execute_reply": "2022-03-13T15:16:53.233086Z"
    },
    "papermill": {
     "duration": 0.022693,
     "end_time": "2022-03-13T15:16:53.233359",
     "exception": false,
     "start_time": "2022-03-13T15:16:53.210666",
     "status": "completed"
    },
    "tags": []
   },
   "outputs": [
    {
     "name": "stdout",
     "output_type": "stream",
     "text": [
      "build_tree=False so no tree to export\n"
     ]
    }
   ],
   "source": [
    "if build_tree:\n",
    "    !gdi --project-dir {index_path} export tree {reference_name} > {output_tree}\n",
    "    print(f'Wrote tree to {output_tree}')\n",
    "else:\n",
    "    print(f'build_tree={build_tree} so no tree to export')"
   ]
  }
 ],
 "metadata": {
  "kernelspec": {
   "display_name": "Python 3 (ipykernel)",
   "language": "python",
   "name": "python3"
  },
  "language_info": {
   "codemirror_mode": {
    "name": "ipython",
    "version": 3
   },
   "file_extension": ".py",
   "mimetype": "text/x-python",
   "name": "python",
   "nbconvert_exporter": "python",
   "pygments_lexer": "ipython3",
   "version": "3.8.12"
  },
  "papermill": {
   "default_parameters": {},
   "duration": 6487.050998,
   "end_time": "2022-03-13T15:16:53.887483",
   "environment_variables": {},
   "exception": null,
   "input_path": "template-3-index-genomes.ipynb",
   "output_path": "3-index-genomes.case-5000-batch-10000.ipynb",
   "parameters": {
    "build_tree": false,
    "cases_dir": "cases/case-5000-batch-10000",
    "iterations": 3,
    "number_samples": 5000,
    "sample_batch_size": 10000
   },
   "start_time": "2022-03-13T13:28:46.836485",
   "version": "2.3.3"
  }
 },
 "nbformat": 4,
 "nbformat_minor": 5
}