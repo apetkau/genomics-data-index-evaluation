{
 "cells": [
  {
   "cell_type": "markdown",
   "id": "f1bc3e40-3158-4009-8a9b-371a7d2d2efe",
   "metadata": {
    "papermill": {
     "duration": 0.01766,
     "end_time": "2022-03-12T21:40:11.012421",
     "exception": false,
     "start_time": "2022-03-12T21:40:10.994761",
     "status": "completed"
    },
    "tags": []
   },
   "source": [
    "# 1. Parameters"
   ]
  },
  {
   "cell_type": "code",
   "execution_count": 1,
   "id": "cf8880a6-5194-4ced-be67-c0610a332a31",
   "metadata": {
    "execution": {
     "iopub.execute_input": "2022-03-12T21:40:11.043318Z",
     "iopub.status.busy": "2022-03-12T21:40:11.042755Z",
     "iopub.status.idle": "2022-03-12T21:40:11.047703Z",
     "shell.execute_reply": "2022-03-12T21:40:11.046999Z"
    },
    "papermill": {
     "duration": 0.026098,
     "end_time": "2022-03-12T21:40:11.047893",
     "exception": false,
     "start_time": "2022-03-12T21:40:11.021795",
     "status": "completed"
    },
    "tags": [
     "parameters"
    ]
   },
   "outputs": [],
   "source": [
    "cases_dir = 'cases/unset'\n",
    "metadata_file = 'input/metadata-subsample-pangolin.tsv'\n",
    "build_tree = False"
   ]
  },
  {
   "cell_type": "code",
   "execution_count": 2,
   "id": "6480a024",
   "metadata": {
    "execution": {
     "iopub.execute_input": "2022-03-12T21:40:11.072875Z",
     "iopub.status.busy": "2022-03-12T21:40:11.072403Z",
     "iopub.status.idle": "2022-03-12T21:40:11.075288Z",
     "shell.execute_reply": "2022-03-12T21:40:11.075602Z"
    },
    "papermill": {
     "duration": 0.016641,
     "end_time": "2022-03-12T21:40:11.075718",
     "exception": false,
     "start_time": "2022-03-12T21:40:11.059077",
     "status": "completed"
    },
    "tags": [
     "injected-parameters"
    ]
   },
   "outputs": [],
   "source": [
    "# Parameters\n",
    "cases_dir = \"cases/case-20\"\n",
    "iterations = 3\n",
    "number_samples = 20\n",
    "build_tree = True\n"
   ]
  },
  {
   "cell_type": "code",
   "execution_count": 3,
   "id": "7e54ac3f-8dff-492e-8096-65a2ed9f5c90",
   "metadata": {
    "execution": {
     "iopub.execute_input": "2022-03-12T21:40:11.099134Z",
     "iopub.status.busy": "2022-03-12T21:40:11.098685Z",
     "iopub.status.idle": "2022-03-12T21:40:13.580716Z",
     "shell.execute_reply": "2022-03-12T21:40:13.579681Z"
    },
    "papermill": {
     "duration": 2.496363,
     "end_time": "2022-03-12T21:40:13.580968",
     "exception": false,
     "start_time": "2022-03-12T21:40:11.084605",
     "status": "completed"
    },
    "tags": []
   },
   "outputs": [],
   "source": [
    "from pathlib import Path\n",
    "import imp\n",
    "fp, pathname, description = imp.find_module('gdi_benchmark', ['../../lib'])\n",
    "gdi_benchmark = imp.load_module('gdi_benchmark', fp, pathname, description)\n",
    "\n",
    "cases_dir_path = Path(cases_dir)\n",
    "\n",
    "case_name = str(cases_dir_path.name)\n",
    "index_path = cases_dir_path / 'index'\n",
    "\n",
    "output_api_path = cases_dir_path / 'query-api.tsv'\n",
    "output_cli_path = cases_dir_path / 'query-cli.tsv'"
   ]
  },
  {
   "cell_type": "markdown",
   "id": "54537d03-809a-487c-8686-5e1791dc11de",
   "metadata": {
    "papermill": {
     "duration": 0.010096,
     "end_time": "2022-03-12T21:40:13.608650",
     "exception": false,
     "start_time": "2022-03-12T21:40:13.598554",
     "status": "completed"
    },
    "tags": []
   },
   "source": [
    "# 2. Benchmark command-line"
   ]
  },
  {
   "cell_type": "code",
   "execution_count": 4,
   "id": "9f4b5122-586c-440f-be52-0b7ab161de46",
   "metadata": {
    "execution": {
     "iopub.execute_input": "2022-03-12T21:40:13.636729Z",
     "iopub.status.busy": "2022-03-12T21:40:13.636199Z",
     "iopub.status.idle": "2022-03-12T21:40:13.639023Z",
     "shell.execute_reply": "2022-03-12T21:40:13.639406Z"
    },
    "papermill": {
     "duration": 0.023177,
     "end_time": "2022-03-12T21:40:13.639523",
     "exception": false,
     "start_time": "2022-03-12T21:40:13.616346",
     "status": "completed"
    },
    "tags": []
   },
   "outputs": [],
   "source": [
    "import pandas as pd\n",
    "import genomics_data_index.api as gdi\n",
    "\n",
    "def benchmark_cli_index(name: str, index_path: Path, build_tree: bool) -> pd.DataFrame:\n",
    "    benchmark_commands = {\n",
    "        'query hasa':               f'gdi --project-dir {index_path} --ncores 1 query \"hasa:hgvs_gn:NC_045512.2:S:p.D614G\"',\n",
    "        'query isa':                f'gdi --project-dir {index_path} --ncores 1 query \"isa:Switzerland/100108/2020\"',\n",
    "        'query --summary':          f'gdi --project-dir {index_path} --ncores 1 query \"hasa:hgvs_gn:NC_045512.2:S:p.D614G\" --summary',\n",
    "        'query --features-summary': f'gdi --project-dir {index_path} --ncores 1 query --features-summary mutations',\n",
    "        'list samples':             f'gdi --project-dir {index_path} --ncores 1 list samples',\n",
    "    }\n",
    "    \n",
    "    if build_tree:\n",
    "        benchmark_commands['query isin'] = f'gdi --project-dir {index_path} --ncores 1 query --reference-name NC_045512 \"isin_5_substitutions:Switzerland/100108/2020\"'\n",
    "    \n",
    "    db = gdi.GenomicsDataIndex.connect(index_path)\n",
    "    number_samples = db.count_samples()\n",
    "    number_features_no_unknown = db.count_mutations(reference_genome='NC_045512', include_unknown=False)\n",
    "    number_features_all = db.count_mutations(reference_genome='NC_045512', include_unknown=True)\n",
    "    iterations = 10\n",
    "    \n",
    "    benchmarker = gdi_benchmark.QueryBenchmarkHandler()\n",
    "    return benchmarker.benchmark_cli(name=name, kind_commands=benchmark_commands, number_samples=number_samples,\n",
    "                                    number_features_no_unknown=number_features_no_unknown, number_features_all=number_features_all,\n",
    "                                     iterations=iterations)"
   ]
  },
  {
   "cell_type": "code",
   "execution_count": 5,
   "id": "c339bf1b-f934-4e3a-9796-25374627e237",
   "metadata": {
    "execution": {
     "iopub.execute_input": "2022-03-12T21:40:13.660930Z",
     "iopub.status.busy": "2022-03-12T21:40:13.660523Z",
     "iopub.status.idle": "2022-03-12T21:43:07.261905Z",
     "shell.execute_reply": "2022-03-12T21:43:07.262642Z"
    },
    "papermill": {
     "duration": 173.615451,
     "end_time": "2022-03-12T21:43:07.262965",
     "exception": false,
     "start_time": "2022-03-12T21:40:13.647514",
     "status": "completed"
    },
    "tags": []
   },
   "outputs": [
    {
     "data": {
      "text/html": [
       "<div>\n",
       "<style scoped>\n",
       "    .dataframe tbody tr th:only-of-type {\n",
       "        vertical-align: middle;\n",
       "    }\n",
       "\n",
       "    .dataframe tbody tr th {\n",
       "        vertical-align: top;\n",
       "    }\n",
       "\n",
       "    .dataframe thead th {\n",
       "        text-align: right;\n",
       "    }\n",
       "</style>\n",
       "<table border=\"1\" class=\"dataframe\">\n",
       "  <thead>\n",
       "    <tr style=\"text-align: right;\">\n",
       "      <th></th>\n",
       "      <th>Name</th>\n",
       "      <th>Kind</th>\n",
       "      <th>Iteration</th>\n",
       "      <th>Number samples</th>\n",
       "      <th>Number features (no unknown)</th>\n",
       "      <th>Number features (all)</th>\n",
       "      <th>Runtime</th>\n",
       "      <th>Memory (max)</th>\n",
       "      <th>Mmemory (max/process)</th>\n",
       "    </tr>\n",
       "  </thead>\n",
       "  <tbody>\n",
       "    <tr>\n",
       "      <th>0</th>\n",
       "      <td>case-20</td>\n",
       "      <td>query hasa</td>\n",
       "      <td>1</td>\n",
       "      <td>20</td>\n",
       "      <td>61</td>\n",
       "      <td>11560</td>\n",
       "      <td>2.78</td>\n",
       "      <td>222892032.0</td>\n",
       "      <td>222892032.0</td>\n",
       "    </tr>\n",
       "    <tr>\n",
       "      <th>0</th>\n",
       "      <td>case-20</td>\n",
       "      <td>query hasa</td>\n",
       "      <td>2</td>\n",
       "      <td>20</td>\n",
       "      <td>61</td>\n",
       "      <td>11560</td>\n",
       "      <td>2.70</td>\n",
       "      <td>223297536.0</td>\n",
       "      <td>223297536.0</td>\n",
       "    </tr>\n",
       "    <tr>\n",
       "      <th>0</th>\n",
       "      <td>case-20</td>\n",
       "      <td>query hasa</td>\n",
       "      <td>3</td>\n",
       "      <td>20</td>\n",
       "      <td>61</td>\n",
       "      <td>11560</td>\n",
       "      <td>2.72</td>\n",
       "      <td>223166464.0</td>\n",
       "      <td>223166464.0</td>\n",
       "    </tr>\n",
       "  </tbody>\n",
       "</table>\n",
       "</div>"
      ],
      "text/plain": [
       "      Name        Kind  Iteration  Number samples  \\\n",
       "0  case-20  query hasa          1              20   \n",
       "0  case-20  query hasa          2              20   \n",
       "0  case-20  query hasa          3              20   \n",
       "\n",
       "   Number features (no unknown)  Number features (all)  Runtime  Memory (max)  \\\n",
       "0                            61                  11560     2.78   222892032.0   \n",
       "0                            61                  11560     2.70   223297536.0   \n",
       "0                            61                  11560     2.72   223166464.0   \n",
       "\n",
       "   Mmemory (max/process)  \n",
       "0            222892032.0  \n",
       "0            223297536.0  \n",
       "0            223166464.0  "
      ]
     },
     "execution_count": 5,
     "metadata": {},
     "output_type": "execute_result"
    }
   ],
   "source": [
    "cli_df = benchmark_cli_index(name=case_name, index_path=index_path, build_tree=build_tree)\n",
    "cli_df.head(3)"
   ]
  },
  {
   "cell_type": "code",
   "execution_count": 6,
   "id": "1b71ed98-d69a-4038-b337-3b8bbf421bf3",
   "metadata": {
    "execution": {
     "iopub.execute_input": "2022-03-12T21:43:07.289114Z",
     "iopub.status.busy": "2022-03-12T21:43:07.288181Z",
     "iopub.status.idle": "2022-03-12T21:43:07.299729Z",
     "shell.execute_reply": "2022-03-12T21:43:07.298742Z"
    },
    "papermill": {
     "duration": 0.027391,
     "end_time": "2022-03-12T21:43:07.299960",
     "exception": false,
     "start_time": "2022-03-12T21:43:07.272569",
     "status": "completed"
    },
    "tags": []
   },
   "outputs": [],
   "source": [
    "cli_df.to_csv(output_cli_path, sep='\\t', index=False)"
   ]
  },
  {
   "cell_type": "markdown",
   "id": "163cd729-a654-499a-a5b7-dc0bd78d8128",
   "metadata": {
    "papermill": {
     "duration": 0.010117,
     "end_time": "2022-03-12T21:43:07.327799",
     "exception": false,
     "start_time": "2022-03-12T21:43:07.317682",
     "status": "completed"
    },
    "tags": []
   },
   "source": [
    "# 3. Test query API"
   ]
  },
  {
   "cell_type": "markdown",
   "id": "777dbb2e-330f-4de7-b451-1ca902cc3386",
   "metadata": {
    "papermill": {
     "duration": 0.006618,
     "end_time": "2022-03-12T21:43:07.342206",
     "exception": false,
     "start_time": "2022-03-12T21:43:07.335588",
     "status": "completed"
    },
    "tags": []
   },
   "source": [
    "## 3.1. Load (example) metadata\n",
    "\n",
    "The simulated data is based off of real sample names and a real tree. So I can load up real metadata and attach it to a query (though the mutations and reference genome are all simulated)."
   ]
  },
  {
   "cell_type": "code",
   "execution_count": 7,
   "id": "19e1d02c-7bb7-44ef-a1ce-3d20dc420686",
   "metadata": {
    "execution": {
     "iopub.execute_input": "2022-03-12T21:43:07.365060Z",
     "iopub.status.busy": "2022-03-12T21:43:07.362026Z",
     "iopub.status.idle": "2022-03-12T21:43:08.300782Z",
     "shell.execute_reply": "2022-03-12T21:43:08.301719Z"
    },
    "papermill": {
     "duration": 0.95311,
     "end_time": "2022-03-12T21:43:08.302003",
     "exception": false,
     "start_time": "2022-03-12T21:43:07.348893",
     "status": "completed"
    },
    "tags": []
   },
   "outputs": [
    {
     "data": {
      "text/html": [
       "<div>\n",
       "<style scoped>\n",
       "    .dataframe tbody tr th:only-of-type {\n",
       "        vertical-align: middle;\n",
       "    }\n",
       "\n",
       "    .dataframe tbody tr th {\n",
       "        vertical-align: top;\n",
       "    }\n",
       "\n",
       "    .dataframe thead th {\n",
       "        text-align: right;\n",
       "    }\n",
       "</style>\n",
       "<table border=\"1\" class=\"dataframe\">\n",
       "  <thead>\n",
       "    <tr style=\"text-align: right;\">\n",
       "      <th></th>\n",
       "      <th>strain</th>\n",
       "      <th>virus</th>\n",
       "      <th>gisaid_epi_isl</th>\n",
       "      <th>genbank_accession</th>\n",
       "      <th>sra_accession</th>\n",
       "      <th>date</th>\n",
       "      <th>region</th>\n",
       "      <th>country</th>\n",
       "      <th>division</th>\n",
       "      <th>location</th>\n",
       "      <th>...</th>\n",
       "      <th>ambiguity_score</th>\n",
       "      <th>scorpio_call</th>\n",
       "      <th>scorpio_support</th>\n",
       "      <th>scorpio_conflict</th>\n",
       "      <th>version</th>\n",
       "      <th>pangolin_version</th>\n",
       "      <th>pangoLEARN_version</th>\n",
       "      <th>pango_version</th>\n",
       "      <th>status</th>\n",
       "      <th>note</th>\n",
       "    </tr>\n",
       "  </thead>\n",
       "  <tbody>\n",
       "    <tr>\n",
       "      <th>0</th>\n",
       "      <td>OU420663</td>\n",
       "      <td>ncov</td>\n",
       "      <td>?</td>\n",
       "      <td>OU420663</td>\n",
       "      <td>ERR5939958</td>\n",
       "      <td>2020</td>\n",
       "      <td>Europe</td>\n",
       "      <td>United Kingdom</td>\n",
       "      <td>England</td>\n",
       "      <td>NaN</td>\n",
       "      <td>...</td>\n",
       "      <td>1.000000</td>\n",
       "      <td>Alpha (B.1.1.7-like)</td>\n",
       "      <td>1.0</td>\n",
       "      <td>0.0</td>\n",
       "      <td>PLEARN-v1.2.127</td>\n",
       "      <td>3.1.20</td>\n",
       "      <td>2022-02-28</td>\n",
       "      <td>v1.2.127</td>\n",
       "      <td>passed_qc</td>\n",
       "      <td>scorpio call: Alt alleles 23; Ref alleles 0; A...</td>\n",
       "    </tr>\n",
       "    <tr>\n",
       "      <th>1</th>\n",
       "      <td>USA/NY-CUIMC-NP-3606/2020</td>\n",
       "      <td>ncov</td>\n",
       "      <td>?</td>\n",
       "      <td>MZ702266</td>\n",
       "      <td>NaN</td>\n",
       "      <td>2020-12-02</td>\n",
       "      <td>North America</td>\n",
       "      <td>USA</td>\n",
       "      <td>New York</td>\n",
       "      <td>New York City</td>\n",
       "      <td>...</td>\n",
       "      <td>0.951273</td>\n",
       "      <td>NaN</td>\n",
       "      <td>NaN</td>\n",
       "      <td>NaN</td>\n",
       "      <td>PLEARN-v1.2.127</td>\n",
       "      <td>3.1.20</td>\n",
       "      <td>2022-02-28</td>\n",
       "      <td>v1.2.127</td>\n",
       "      <td>passed_qc</td>\n",
       "      <td>NaN</td>\n",
       "    </tr>\n",
       "  </tbody>\n",
       "</table>\n",
       "<p>2 rows × 53 columns</p>\n",
       "</div>"
      ],
      "text/plain": [
       "                      strain virus gisaid_epi_isl genbank_accession  \\\n",
       "0                   OU420663  ncov              ?          OU420663   \n",
       "1  USA/NY-CUIMC-NP-3606/2020  ncov              ?          MZ702266   \n",
       "\n",
       "  sra_accession        date         region         country  division  \\\n",
       "0    ERR5939958        2020         Europe  United Kingdom   England   \n",
       "1           NaN  2020-12-02  North America             USA  New York   \n",
       "\n",
       "        location  ... ambiguity_score          scorpio_call scorpio_support  \\\n",
       "0            NaN  ...        1.000000  Alpha (B.1.1.7-like)             1.0   \n",
       "1  New York City  ...        0.951273                   NaN             NaN   \n",
       "\n",
       "  scorpio_conflict          version pangolin_version pangoLEARN_version  \\\n",
       "0              0.0  PLEARN-v1.2.127           3.1.20         2022-02-28   \n",
       "1              NaN  PLEARN-v1.2.127           3.1.20         2022-02-28   \n",
       "\n",
       "  pango_version     status                                               note  \n",
       "0      v1.2.127  passed_qc  scorpio call: Alt alleles 23; Ref alleles 0; A...  \n",
       "1      v1.2.127  passed_qc                                                NaN  \n",
       "\n",
       "[2 rows x 53 columns]"
      ]
     },
     "execution_count": 7,
     "metadata": {},
     "output_type": "execute_result"
    }
   ],
   "source": [
    "import pandas as pd\n",
    "\n",
    "metadata_df = pd.read_csv(metadata_file, sep='\\t')\n",
    "metadata_df.head(2)"
   ]
  },
  {
   "cell_type": "markdown",
   "id": "6471c107-835d-4dac-812c-951d0527982e",
   "metadata": {
    "papermill": {
     "duration": 0.009222,
     "end_time": "2022-03-12T21:43:08.327573",
     "exception": false,
     "start_time": "2022-03-12T21:43:08.318351",
     "status": "completed"
    },
    "tags": []
   },
   "source": [
    "## 3.2. Define benchmark cases"
   ]
  },
  {
   "cell_type": "code",
   "execution_count": 8,
   "id": "e347bcfb-4d0c-4fe8-b68c-00de30d924d9",
   "metadata": {
    "execution": {
     "iopub.execute_input": "2022-03-12T21:43:08.360542Z",
     "iopub.status.busy": "2022-03-12T21:43:08.359629Z",
     "iopub.status.idle": "2022-03-12T21:43:08.362796Z",
     "shell.execute_reply": "2022-03-12T21:43:08.363503Z"
    },
    "papermill": {
     "duration": 0.028871,
     "end_time": "2022-03-12T21:43:08.363729",
     "exception": false,
     "start_time": "2022-03-12T21:43:08.334858",
     "status": "completed"
    },
    "tags": []
   },
   "outputs": [],
   "source": [
    "from typing import List\n",
    "import genomics_data_index.api as gdi\n",
    "\n",
    "def benchmark_api_index(name: str, index_path: Path, build_tree: bool) -> pd.DataFrame:\n",
    "    db = gdi.GenomicsDataIndex.connect(index_path)\n",
    "    q_no_join = db.samples_query(reference_name='NC_045512', universe='mutations')\n",
    "    q_join = db.samples_query(reference_name='NC_045512', universe='mutations').join(metadata_df, sample_names_column='strain')\n",
    "\n",
    "    q = q_join.hasa('hgvs_gn:NC_045512.2:S:p.D614G')\n",
    "    r = q_join.hasa('hgvs_gn:NC_045512.2:N:p.R203K')\n",
    "    \n",
    "    number_samples = db.count_samples()\n",
    "    number_features_no_unknown = db.count_mutations(reference_genome='NC_045512', include_unknown=False)\n",
    "    number_features_all = db.count_mutations(reference_genome='NC_045512', include_unknown=True)\n",
    "    repeat = 10\n",
    "\n",
    "    benchmark_cases = {\n",
    "        'db.samples_query':      lambda: db.samples_query(reference_name='NC_045512', universe='mutations'),\n",
    "        'q.join':                lambda: q_no_join.join(metadata_df, sample_names_column='strain'),\n",
    "        'q.features_summary':    lambda: q_join.features_summary(),\n",
    "        'q.features_comparison': lambda: q_join.features_comparison(sample_categories='lineage', categories_kind='dataframe', kind='mutations', unit='proportion'),\n",
    "        'q.hasa':                lambda: q_join.hasa(\"hgvs_gn:NC_045512.2:N:p.R203K\"),\n",
    "        'q.isa':                 lambda: q_join.isa(\"Switzerland/100112/2020\"),\n",
    "        'q AND r':               lambda: q & r,\n",
    "        'q.toframe':             lambda: q_join.toframe(),\n",
    "        'q.summary':             lambda: q_join.summary(),\n",
    "    }\n",
    "    \n",
    "    if build_tree:\n",
    "        benchmark_cases['q.isin (distance)'] = lambda: q_join.isin(\"Switzerland/100108/2020\", kind='distance', distance=5, units='substitutions')\n",
    "        benchmark_cases['q.isin (mrca)'] = lambda: q_join.isin([\"Switzerland/100108/2020\", \"FR993751\"], kind='mrca')\n",
    "\n",
    "    benchmarker = gdi_benchmark.QueryBenchmarkHandler()\n",
    "    return benchmarker.benchmark_api(name=name, kind_functions=benchmark_cases,\n",
    "                                       number_samples=number_samples,\n",
    "                                       number_features_no_unknown=number_features_no_unknown,\n",
    "                                       number_features_all=number_features_all,\n",
    "                                       repeat=repeat)"
   ]
  },
  {
   "cell_type": "markdown",
   "id": "f2180ae5-7850-4680-8e9e-45872d56accb",
   "metadata": {
    "papermill": {
     "duration": 0.009272,
     "end_time": "2022-03-12T21:43:08.388489",
     "exception": false,
     "start_time": "2022-03-12T21:43:08.379217",
     "status": "completed"
    },
    "tags": []
   },
   "source": [
    "## 3.3. Benchmark reads index"
   ]
  },
  {
   "cell_type": "code",
   "execution_count": 9,
   "id": "04d3a9c7-23a6-4a04-8735-a637c5534ba8",
   "metadata": {
    "execution": {
     "iopub.execute_input": "2022-03-12T21:43:08.416004Z",
     "iopub.status.busy": "2022-03-12T21:43:08.408301Z",
     "iopub.status.idle": "2022-03-12T21:43:48.028010Z",
     "shell.execute_reply": "2022-03-12T21:43:48.028578Z"
    },
    "papermill": {
     "duration": 39.632981,
     "end_time": "2022-03-12T21:43:48.028773",
     "exception": false,
     "start_time": "2022-03-12T21:43:08.395792",
     "status": "completed"
    },
    "tags": []
   },
   "outputs": [
    {
     "name": "stderr",
     "output_type": "stream",
     "text": [
      "Attempting to set global database_path_translator=<genomics_data_index.storage.model.db.DatabasePathTranslator.DatabasePathTranslator object at 0x7f04841cde50> but it is already set\n"
     ]
    },
    {
     "data": {
      "text/html": [
       "<div>\n",
       "<style scoped>\n",
       "    .dataframe tbody tr th:only-of-type {\n",
       "        vertical-align: middle;\n",
       "    }\n",
       "\n",
       "    .dataframe tbody tr th {\n",
       "        vertical-align: top;\n",
       "    }\n",
       "\n",
       "    .dataframe thead th {\n",
       "        text-align: right;\n",
       "    }\n",
       "</style>\n",
       "<table border=\"1\" class=\"dataframe\">\n",
       "  <thead>\n",
       "    <tr style=\"text-align: right;\">\n",
       "      <th></th>\n",
       "      <th>Name</th>\n",
       "      <th>Kind</th>\n",
       "      <th>Number samples</th>\n",
       "      <th>Number features (no unknown)</th>\n",
       "      <th>Number features (all)</th>\n",
       "      <th>Number executions</th>\n",
       "      <th>Iteration</th>\n",
       "      <th>Time</th>\n",
       "    </tr>\n",
       "  </thead>\n",
       "  <tbody>\n",
       "    <tr>\n",
       "      <th>0</th>\n",
       "      <td>case-20</td>\n",
       "      <td>db.samples_query</td>\n",
       "      <td>20</td>\n",
       "      <td>61</td>\n",
       "      <td>11560</td>\n",
       "      <td>200</td>\n",
       "      <td>1</td>\n",
       "      <td>0.001115</td>\n",
       "    </tr>\n",
       "    <tr>\n",
       "      <th>1</th>\n",
       "      <td>case-20</td>\n",
       "      <td>db.samples_query</td>\n",
       "      <td>20</td>\n",
       "      <td>61</td>\n",
       "      <td>11560</td>\n",
       "      <td>200</td>\n",
       "      <td>2</td>\n",
       "      <td>0.001110</td>\n",
       "    </tr>\n",
       "    <tr>\n",
       "      <th>2</th>\n",
       "      <td>case-20</td>\n",
       "      <td>db.samples_query</td>\n",
       "      <td>20</td>\n",
       "      <td>61</td>\n",
       "      <td>11560</td>\n",
       "      <td>200</td>\n",
       "      <td>3</td>\n",
       "      <td>0.001111</td>\n",
       "    </tr>\n",
       "    <tr>\n",
       "      <th>3</th>\n",
       "      <td>case-20</td>\n",
       "      <td>db.samples_query</td>\n",
       "      <td>20</td>\n",
       "      <td>61</td>\n",
       "      <td>11560</td>\n",
       "      <td>200</td>\n",
       "      <td>4</td>\n",
       "      <td>0.001124</td>\n",
       "    </tr>\n",
       "    <tr>\n",
       "      <th>4</th>\n",
       "      <td>case-20</td>\n",
       "      <td>db.samples_query</td>\n",
       "      <td>20</td>\n",
       "      <td>61</td>\n",
       "      <td>11560</td>\n",
       "      <td>200</td>\n",
       "      <td>5</td>\n",
       "      <td>0.001108</td>\n",
       "    </tr>\n",
       "  </tbody>\n",
       "</table>\n",
       "</div>"
      ],
      "text/plain": [
       "      Name              Kind  Number samples  Number features (no unknown)  \\\n",
       "0  case-20  db.samples_query              20                            61   \n",
       "1  case-20  db.samples_query              20                            61   \n",
       "2  case-20  db.samples_query              20                            61   \n",
       "3  case-20  db.samples_query              20                            61   \n",
       "4  case-20  db.samples_query              20                            61   \n",
       "\n",
       "   Number features (all)  Number executions  Iteration      Time  \n",
       "0                  11560                200          1  0.001115  \n",
       "1                  11560                200          2  0.001110  \n",
       "2                  11560                200          3  0.001111  \n",
       "3                  11560                200          4  0.001124  \n",
       "4                  11560                200          5  0.001108  "
      ]
     },
     "execution_count": 9,
     "metadata": {},
     "output_type": "execute_result"
    }
   ],
   "source": [
    "api_df = benchmark_api_index(name=case_name, index_path=index_path, build_tree=build_tree)\n",
    "api_df.head(5)"
   ]
  },
  {
   "cell_type": "code",
   "execution_count": 10,
   "id": "09e7fb11-5c83-4983-82b9-4a54fca23b52",
   "metadata": {
    "execution": {
     "iopub.execute_input": "2022-03-12T21:43:48.058599Z",
     "iopub.status.busy": "2022-03-12T21:43:48.057654Z",
     "iopub.status.idle": "2022-03-12T21:43:48.060932Z",
     "shell.execute_reply": "2022-03-12T21:43:48.061789Z"
    },
    "papermill": {
     "duration": 0.023229,
     "end_time": "2022-03-12T21:43:48.062070",
     "exception": false,
     "start_time": "2022-03-12T21:43:48.038841",
     "status": "completed"
    },
    "tags": []
   },
   "outputs": [],
   "source": [
    "api_df.to_csv(output_api_path, sep='\\t', index=False)"
   ]
  },
  {
   "cell_type": "code",
   "execution_count": null,
   "id": "d29f35f8-2056-46f1-a506-379a0add43b9",
   "metadata": {
    "papermill": {
     "duration": 0.009984,
     "end_time": "2022-03-12T21:43:48.090136",
     "exception": false,
     "start_time": "2022-03-12T21:43:48.080152",
     "status": "completed"
    },
    "tags": []
   },
   "outputs": [],
   "source": []
  }
 ],
 "metadata": {
  "kernelspec": {
   "display_name": "Python 3 (ipykernel)",
   "language": "python",
   "name": "python3"
  },
  "language_info": {
   "codemirror_mode": {
    "name": "ipython",
    "version": 3
   },
   "file_extension": ".py",
   "mimetype": "text/x-python",
   "name": "python",
   "nbconvert_exporter": "python",
   "pygments_lexer": "ipython3",
   "version": "3.8.12"
  },
  "papermill": {
   "default_parameters": {},
   "duration": 219.074579,
   "end_time": "2022-03-12T21:43:48.712959",
   "environment_variables": {},
   "exception": null,
   "input_path": "template-4-query.ipynb",
   "output_path": "4-query.case-20.ipynb",
   "parameters": {
    "build_tree": true,
    "cases_dir": "cases/case-20",
    "iterations": 3,
    "number_samples": 20
   },
   "start_time": "2022-03-12T21:40:09.638380",
   "version": "2.3.3"
  }
 },
 "nbformat": 4,
 "nbformat_minor": 5
}