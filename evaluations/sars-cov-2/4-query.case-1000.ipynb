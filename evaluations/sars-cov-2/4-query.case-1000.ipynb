{
 "cells": [
  {
   "cell_type": "markdown",
   "id": "f1bc3e40-3158-4009-8a9b-371a7d2d2efe",
   "metadata": {
    "papermill": {
     "duration": 0.019156,
     "end_time": "2021-09-08T22:27:15.258246",
     "exception": false,
     "start_time": "2021-09-08T22:27:15.239090",
     "status": "completed"
    },
    "tags": []
   },
   "source": [
    "# 1. Parameters"
   ]
  },
  {
   "cell_type": "code",
   "execution_count": 1,
   "id": "cf8880a6-5194-4ced-be67-c0610a332a31",
   "metadata": {
    "execution": {
     "iopub.execute_input": "2021-09-08T22:27:15.289886Z",
     "iopub.status.busy": "2021-09-08T22:27:15.289303Z",
     "iopub.status.idle": "2021-09-08T22:27:15.293783Z",
     "shell.execute_reply": "2021-09-08T22:27:15.293246Z"
    },
    "papermill": {
     "duration": 0.02508,
     "end_time": "2021-09-08T22:27:15.293911",
     "exception": false,
     "start_time": "2021-09-08T22:27:15.268831",
     "status": "completed"
    },
    "tags": [
     "parameters"
    ]
   },
   "outputs": [],
   "source": [
    "cases_dir = 'cases/unset'\n",
    "metadata_file = 'input/metadata-subsample-pangolin.tsv'\n",
    "build_tree = False"
   ]
  },
  {
   "cell_type": "code",
   "execution_count": 2,
   "id": "d4ed54e6",
   "metadata": {
    "execution": {
     "iopub.execute_input": "2021-09-08T22:27:15.319161Z",
     "iopub.status.busy": "2021-09-08T22:27:15.318765Z",
     "iopub.status.idle": "2021-09-08T22:27:15.321403Z",
     "shell.execute_reply": "2021-09-08T22:27:15.321698Z"
    },
    "papermill": {
     "duration": 0.016242,
     "end_time": "2021-09-08T22:27:15.321799",
     "exception": false,
     "start_time": "2021-09-08T22:27:15.305557",
     "status": "completed"
    },
    "tags": [
     "injected-parameters"
    ]
   },
   "outputs": [],
   "source": [
    "# Parameters\n",
    "cases_dir = \"cases/case-1000\"\n",
    "iterations = 3\n",
    "number_samples = 1000\n",
    "build_tree = False\n"
   ]
  },
  {
   "cell_type": "code",
   "execution_count": 3,
   "id": "7e54ac3f-8dff-492e-8096-65a2ed9f5c90",
   "metadata": {
    "execution": {
     "iopub.execute_input": "2021-09-08T22:27:15.342222Z",
     "iopub.status.busy": "2021-09-08T22:27:15.341823Z",
     "iopub.status.idle": "2021-09-08T22:27:17.710217Z",
     "shell.execute_reply": "2021-09-08T22:27:17.710589Z"
    },
    "papermill": {
     "duration": 2.382514,
     "end_time": "2021-09-08T22:27:17.710729",
     "exception": false,
     "start_time": "2021-09-08T22:27:15.328215",
     "status": "completed"
    },
    "tags": []
   },
   "outputs": [],
   "source": [
    "from pathlib import Path\n",
    "import imp\n",
    "fp, pathname, description = imp.find_module('gdi_benchmark', ['../../lib'])\n",
    "gdi_benchmark = imp.load_module('gdi_benchmark', fp, pathname, description)\n",
    "\n",
    "cases_dir_path = Path(cases_dir)\n",
    "\n",
    "case_name = str(cases_dir_path.name)\n",
    "index_path = cases_dir_path / 'index'\n",
    "\n",
    "output_api_path = cases_dir_path / 'query-api.tsv'\n",
    "output_cli_path = cases_dir_path / 'query-cli.tsv'"
   ]
  },
  {
   "cell_type": "markdown",
   "id": "54537d03-809a-487c-8686-5e1791dc11de",
   "metadata": {
    "papermill": {
     "duration": 0.008041,
     "end_time": "2021-09-08T22:27:17.726243",
     "exception": false,
     "start_time": "2021-09-08T22:27:17.718202",
     "status": "completed"
    },
    "tags": []
   },
   "source": [
    "# 2. Benchmark command-line"
   ]
  },
  {
   "cell_type": "code",
   "execution_count": 4,
   "id": "9f4b5122-586c-440f-be52-0b7ab161de46",
   "metadata": {
    "execution": {
     "iopub.execute_input": "2021-09-08T22:27:17.745355Z",
     "iopub.status.busy": "2021-09-08T22:27:17.744917Z",
     "iopub.status.idle": "2021-09-08T22:27:17.747033Z",
     "shell.execute_reply": "2021-09-08T22:27:17.747407Z"
    },
    "papermill": {
     "duration": 0.014778,
     "end_time": "2021-09-08T22:27:17.747539",
     "exception": false,
     "start_time": "2021-09-08T22:27:17.732761",
     "status": "completed"
    },
    "tags": []
   },
   "outputs": [],
   "source": [
    "import pandas as pd\n",
    "import genomics_data_index.api as gdi\n",
    "\n",
    "def benchmark_cli_index(name: str, index_path: Path, build_tree: bool) -> pd.DataFrame:\n",
    "    benchmark_commands = {\n",
    "        'query hasa':               f'gdi --project-dir {index_path} --ncores 1 query \"hasa:hgvs_gn:NC_045512.2:S:p.D614G\"',\n",
    "        'query isa':                f'gdi --project-dir {index_path} --ncores 1 query \"isa:Switzerland/100108/2020\"',\n",
    "        'query --summary':          f'gdi --project-dir {index_path} --ncores 1 query --summarize',\n",
    "        'query --features-summary': f'gdi --project-dir {index_path} --ncores 1 query --features-summary',\n",
    "        'list samples':             f'gdi --project-dir {index_path} --ncores 1 list samples',\n",
    "    }\n",
    "    \n",
    "    if build_tree:\n",
    "        benchmark_commands['query isin'] = f'gdi --project-dir {index_path} --ncores 1 query --reference-name NC_045512 \"isin_5_substitutions:Switzerland/100108/2020\"'\n",
    "    \n",
    "    db = gdi.GenomicsDataIndex.connect(index_path)\n",
    "    number_samples = db.count_samples()\n",
    "    number_features_no_unknown = db.count_mutations(reference_genome='NC_045512', include_unknown=False)\n",
    "    number_features_all = db.count_mutations(reference_genome='NC_045512', include_unknown=True)\n",
    "    iterations = 10\n",
    "    \n",
    "    benchmarker = gdi_benchmark.QueryBenchmarkHandler()\n",
    "    return benchmarker.benchmark_cli(name=name, kind_commands=benchmark_commands, number_samples=number_samples,\n",
    "                                    number_features_no_unknown=number_features_no_unknown, number_features_all=number_features_all,\n",
    "                                     iterations=iterations)"
   ]
  },
  {
   "cell_type": "code",
   "execution_count": 5,
   "id": "c339bf1b-f934-4e3a-9796-25374627e237",
   "metadata": {
    "execution": {
     "iopub.execute_input": "2021-09-08T22:27:17.765362Z",
     "iopub.status.busy": "2021-09-08T22:27:17.764381Z",
     "iopub.status.idle": "2021-09-08T22:29:46.519570Z",
     "shell.execute_reply": "2021-09-08T22:29:46.520150Z"
    },
    "papermill": {
     "duration": 148.765193,
     "end_time": "2021-09-08T22:29:46.520351",
     "exception": false,
     "start_time": "2021-09-08T22:27:17.755158",
     "status": "completed"
    },
    "tags": []
   },
   "outputs": [
    {
     "data": {
      "text/html": [
       "<div>\n",
       "<style scoped>\n",
       "    .dataframe tbody tr th:only-of-type {\n",
       "        vertical-align: middle;\n",
       "    }\n",
       "\n",
       "    .dataframe tbody tr th {\n",
       "        vertical-align: top;\n",
       "    }\n",
       "\n",
       "    .dataframe thead th {\n",
       "        text-align: right;\n",
       "    }\n",
       "</style>\n",
       "<table border=\"1\" class=\"dataframe\">\n",
       "  <thead>\n",
       "    <tr style=\"text-align: right;\">\n",
       "      <th></th>\n",
       "      <th>Name</th>\n",
       "      <th>Kind</th>\n",
       "      <th>Iteration</th>\n",
       "      <th>Number samples</th>\n",
       "      <th>Number features (no unknown)</th>\n",
       "      <th>Number features (all)</th>\n",
       "      <th>Runtime</th>\n",
       "      <th>Memory (max)</th>\n",
       "      <th>Mmemory (max/process)</th>\n",
       "    </tr>\n",
       "  </thead>\n",
       "  <tbody>\n",
       "    <tr>\n",
       "      <th>0</th>\n",
       "      <td>case-1000</td>\n",
       "      <td>query hasa</td>\n",
       "      <td>1</td>\n",
       "      <td>1000</td>\n",
       "      <td>1830</td>\n",
       "      <td>31184</td>\n",
       "      <td>2.94</td>\n",
       "      <td>223305728.0</td>\n",
       "      <td>223305728.0</td>\n",
       "    </tr>\n",
       "    <tr>\n",
       "      <th>0</th>\n",
       "      <td>case-1000</td>\n",
       "      <td>query hasa</td>\n",
       "      <td>2</td>\n",
       "      <td>1000</td>\n",
       "      <td>1830</td>\n",
       "      <td>31184</td>\n",
       "      <td>2.99</td>\n",
       "      <td>222994432.0</td>\n",
       "      <td>222994432.0</td>\n",
       "    </tr>\n",
       "    <tr>\n",
       "      <th>0</th>\n",
       "      <td>case-1000</td>\n",
       "      <td>query hasa</td>\n",
       "      <td>3</td>\n",
       "      <td>1000</td>\n",
       "      <td>1830</td>\n",
       "      <td>31184</td>\n",
       "      <td>2.95</td>\n",
       "      <td>222838784.0</td>\n",
       "      <td>222838784.0</td>\n",
       "    </tr>\n",
       "  </tbody>\n",
       "</table>\n",
       "</div>"
      ],
      "text/plain": [
       "        Name        Kind  Iteration  Number samples  \\\n",
       "0  case-1000  query hasa          1            1000   \n",
       "0  case-1000  query hasa          2            1000   \n",
       "0  case-1000  query hasa          3            1000   \n",
       "\n",
       "   Number features (no unknown)  Number features (all)  Runtime  Memory (max)  \\\n",
       "0                          1830                  31184     2.94   223305728.0   \n",
       "0                          1830                  31184     2.99   222994432.0   \n",
       "0                          1830                  31184     2.95   222838784.0   \n",
       "\n",
       "   Mmemory (max/process)  \n",
       "0            223305728.0  \n",
       "0            222994432.0  \n",
       "0            222838784.0  "
      ]
     },
     "execution_count": 5,
     "metadata": {},
     "output_type": "execute_result"
    }
   ],
   "source": [
    "cli_df = benchmark_cli_index(name=case_name, index_path=index_path, build_tree=build_tree)\n",
    "cli_df.head(3)"
   ]
  },
  {
   "cell_type": "code",
   "execution_count": 6,
   "id": "1b71ed98-d69a-4038-b337-3b8bbf421bf3",
   "metadata": {
    "execution": {
     "iopub.execute_input": "2021-09-08T22:29:46.545768Z",
     "iopub.status.busy": "2021-09-08T22:29:46.545261Z",
     "iopub.status.idle": "2021-09-08T22:29:46.552689Z",
     "shell.execute_reply": "2021-09-08T22:29:46.552259Z"
    },
    "papermill": {
     "duration": 0.022394,
     "end_time": "2021-09-08T22:29:46.552795",
     "exception": false,
     "start_time": "2021-09-08T22:29:46.530401",
     "status": "completed"
    },
    "tags": []
   },
   "outputs": [],
   "source": [
    "cli_df.to_csv(output_cli_path, sep='\\t', index=False)"
   ]
  },
  {
   "cell_type": "markdown",
   "id": "163cd729-a654-499a-a5b7-dc0bd78d8128",
   "metadata": {
    "papermill": {
     "duration": 0.008223,
     "end_time": "2021-09-08T22:29:46.572432",
     "exception": false,
     "start_time": "2021-09-08T22:29:46.564209",
     "status": "completed"
    },
    "tags": []
   },
   "source": [
    "# 3. Test query API"
   ]
  },
  {
   "cell_type": "markdown",
   "id": "777dbb2e-330f-4de7-b451-1ca902cc3386",
   "metadata": {
    "papermill": {
     "duration": 0.007081,
     "end_time": "2021-09-08T22:29:46.586850",
     "exception": false,
     "start_time": "2021-09-08T22:29:46.579769",
     "status": "completed"
    },
    "tags": []
   },
   "source": [
    "## 3.1. Load (example) metadata\n",
    "\n",
    "The simulated data is based off of real sample names and a real tree. So I can load up real metadata and attach it to a query (though the mutations and reference genome are all simulated)."
   ]
  },
  {
   "cell_type": "code",
   "execution_count": 7,
   "id": "19e1d02c-7bb7-44ef-a1ce-3d20dc420686",
   "metadata": {
    "execution": {
     "iopub.execute_input": "2021-09-08T22:29:46.607984Z",
     "iopub.status.busy": "2021-09-08T22:29:46.607576Z",
     "iopub.status.idle": "2021-09-08T22:29:47.650218Z",
     "shell.execute_reply": "2021-09-08T22:29:47.651125Z"
    },
    "papermill": {
     "duration": 1.057387,
     "end_time": "2021-09-08T22:29:47.651422",
     "exception": false,
     "start_time": "2021-09-08T22:29:46.594035",
     "status": "completed"
    },
    "tags": []
   },
   "outputs": [
    {
     "data": {
      "text/html": [
       "<div>\n",
       "<style scoped>\n",
       "    .dataframe tbody tr th:only-of-type {\n",
       "        vertical-align: middle;\n",
       "    }\n",
       "\n",
       "    .dataframe tbody tr th {\n",
       "        vertical-align: top;\n",
       "    }\n",
       "\n",
       "    .dataframe thead th {\n",
       "        text-align: right;\n",
       "    }\n",
       "</style>\n",
       "<table border=\"1\" class=\"dataframe\">\n",
       "  <thead>\n",
       "    <tr style=\"text-align: right;\">\n",
       "      <th></th>\n",
       "      <th>strain</th>\n",
       "      <th>virus</th>\n",
       "      <th>gisaid_epi_isl</th>\n",
       "      <th>genbank_accession</th>\n",
       "      <th>sra_accession</th>\n",
       "      <th>date</th>\n",
       "      <th>region</th>\n",
       "      <th>country</th>\n",
       "      <th>division</th>\n",
       "      <th>location</th>\n",
       "      <th>...</th>\n",
       "      <th>ambiguity_score</th>\n",
       "      <th>scorpio_call</th>\n",
       "      <th>scorpio_support</th>\n",
       "      <th>scorpio_conflict</th>\n",
       "      <th>version</th>\n",
       "      <th>pangolin_version</th>\n",
       "      <th>pangoLEARN_version</th>\n",
       "      <th>pango_version</th>\n",
       "      <th>status</th>\n",
       "      <th>note</th>\n",
       "    </tr>\n",
       "  </thead>\n",
       "  <tbody>\n",
       "    <tr>\n",
       "      <th>0</th>\n",
       "      <td>OU420663</td>\n",
       "      <td>ncov</td>\n",
       "      <td>?</td>\n",
       "      <td>OU420663</td>\n",
       "      <td>ERR5939958</td>\n",
       "      <td>2020</td>\n",
       "      <td>Europe</td>\n",
       "      <td>United Kingdom</td>\n",
       "      <td>England</td>\n",
       "      <td>NaN</td>\n",
       "      <td>...</td>\n",
       "      <td>1.00000</td>\n",
       "      <td>Alpha (B.1.1.7-like)</td>\n",
       "      <td>1.0</td>\n",
       "      <td>0.0</td>\n",
       "      <td>PLEARN-v1.2.66</td>\n",
       "      <td>3.1.11</td>\n",
       "      <td>2021-08-24</td>\n",
       "      <td>v1.2.66</td>\n",
       "      <td>passed_qc</td>\n",
       "      <td>scorpio call: Alt alleles 23; Ref alleles 0; A...</td>\n",
       "    </tr>\n",
       "    <tr>\n",
       "      <th>1</th>\n",
       "      <td>USA/NY-CUIMC-NP-3606/2020</td>\n",
       "      <td>ncov</td>\n",
       "      <td>?</td>\n",
       "      <td>MZ702266</td>\n",
       "      <td>NaN</td>\n",
       "      <td>2020-12-02</td>\n",
       "      <td>North America</td>\n",
       "      <td>USA</td>\n",
       "      <td>New York</td>\n",
       "      <td>New York City</td>\n",
       "      <td>...</td>\n",
       "      <td>0.95097</td>\n",
       "      <td>NaN</td>\n",
       "      <td>NaN</td>\n",
       "      <td>NaN</td>\n",
       "      <td>PLEARN-v1.2.66</td>\n",
       "      <td>3.1.11</td>\n",
       "      <td>2021-08-24</td>\n",
       "      <td>v1.2.66</td>\n",
       "      <td>passed_qc</td>\n",
       "      <td>NaN</td>\n",
       "    </tr>\n",
       "  </tbody>\n",
       "</table>\n",
       "<p>2 rows × 53 columns</p>\n",
       "</div>"
      ],
      "text/plain": [
       "                      strain virus gisaid_epi_isl genbank_accession  \\\n",
       "0                   OU420663  ncov              ?          OU420663   \n",
       "1  USA/NY-CUIMC-NP-3606/2020  ncov              ?          MZ702266   \n",
       "\n",
       "  sra_accession        date         region         country  division  \\\n",
       "0    ERR5939958        2020         Europe  United Kingdom   England   \n",
       "1           NaN  2020-12-02  North America             USA  New York   \n",
       "\n",
       "        location  ... ambiguity_score          scorpio_call scorpio_support  \\\n",
       "0            NaN  ...         1.00000  Alpha (B.1.1.7-like)             1.0   \n",
       "1  New York City  ...         0.95097                   NaN             NaN   \n",
       "\n",
       "  scorpio_conflict         version pangolin_version pangoLEARN_version  \\\n",
       "0              0.0  PLEARN-v1.2.66           3.1.11         2021-08-24   \n",
       "1              NaN  PLEARN-v1.2.66           3.1.11         2021-08-24   \n",
       "\n",
       "  pango_version     status                                               note  \n",
       "0       v1.2.66  passed_qc  scorpio call: Alt alleles 23; Ref alleles 0; A...  \n",
       "1       v1.2.66  passed_qc                                                NaN  \n",
       "\n",
       "[2 rows x 53 columns]"
      ]
     },
     "execution_count": 7,
     "metadata": {},
     "output_type": "execute_result"
    }
   ],
   "source": [
    "import pandas as pd\n",
    "\n",
    "metadata_df = pd.read_csv(metadata_file, sep='\\t')\n",
    "metadata_df.head(2)"
   ]
  },
  {
   "cell_type": "markdown",
   "id": "6471c107-835d-4dac-812c-951d0527982e",
   "metadata": {
    "papermill": {
     "duration": 0.010193,
     "end_time": "2021-09-08T22:29:47.680103",
     "exception": false,
     "start_time": "2021-09-08T22:29:47.669910",
     "status": "completed"
    },
    "tags": []
   },
   "source": [
    "## 3.2. Define benchmark cases"
   ]
  },
  {
   "cell_type": "code",
   "execution_count": 8,
   "id": "e347bcfb-4d0c-4fe8-b68c-00de30d924d9",
   "metadata": {
    "execution": {
     "iopub.execute_input": "2021-09-08T22:29:47.718303Z",
     "iopub.status.busy": "2021-09-08T22:29:47.717492Z",
     "iopub.status.idle": "2021-09-08T22:29:47.720306Z",
     "shell.execute_reply": "2021-09-08T22:29:47.720909Z"
    },
    "papermill": {
     "duration": 0.032961,
     "end_time": "2021-09-08T22:29:47.721093",
     "exception": false,
     "start_time": "2021-09-08T22:29:47.688132",
     "status": "completed"
    },
    "tags": []
   },
   "outputs": [],
   "source": [
    "from typing import List\n",
    "import genomics_data_index.api as gdi\n",
    "\n",
    "def benchmark_api_index(name: str, index_path: Path, build_tree: bool) -> pd.DataFrame:\n",
    "    db = gdi.GenomicsDataIndex.connect(index_path)\n",
    "    q_no_join = db.samples_query(reference_name='NC_045512', universe='mutations')\n",
    "    q_join = db.samples_query(reference_name='NC_045512', universe='mutations').join(metadata_df, sample_names_column='strain')\n",
    "\n",
    "    q = q_join.hasa('hgvs_gn:NC_045512.2:S:p.D614G')\n",
    "    r = q_join.hasa('hgvs_gn:NC_045512.2:N:p.R203K')\n",
    "    \n",
    "    number_samples = db.count_samples()\n",
    "    number_features_no_unknown = db.count_mutations(reference_genome='NC_045512', include_unknown=False)\n",
    "    number_features_all = db.count_mutations(reference_genome='NC_045512', include_unknown=True)\n",
    "    repeat = 10\n",
    "\n",
    "    benchmark_cases = {\n",
    "        'db.samples_query':      lambda: db.samples_query(reference_name='NC_045512', universe='mutations'),\n",
    "        'q.join':                lambda: q_no_join.join(metadata_df, sample_names_column='strain'),\n",
    "        'q.features_summary':    lambda: q_join.features_summary(),\n",
    "        'q.features_comparison': lambda: q_join.features_comparison(sample_categories='lineage', categories_kind='dataframe', kind='mutations', unit='proportion'),\n",
    "        'q.hasa':                lambda: q_join.hasa(\"hgvs_gn:NC_045512.2:N:p.R203K\"),\n",
    "        'q.isa':                 lambda: q_join.isa(\"Switzerland/100112/2020\"),\n",
    "        'q AND r':               lambda: q & r,\n",
    "        'q.toframe':             lambda: q_join.toframe(),\n",
    "        'q.summary':             lambda: q_join.summary(),\n",
    "    }\n",
    "    \n",
    "    if build_tree:\n",
    "        benchmark_cases['q.isin (distance)'] = lambda: q_join.isin(\"Switzerland/100108/2020\", kind='distance', distance=5, units='substitutions')\n",
    "        benchmark_cases['q.isin (mrca)'] = lambda: q_join.isin([\"Switzerland/100108/2020\", \"FR993751\"], kind='mrca')\n",
    "\n",
    "    benchmarker = gdi_benchmark.QueryBenchmarkHandler()\n",
    "    return benchmarker.benchmark_api(name=name, kind_functions=benchmark_cases,\n",
    "                                       number_samples=number_samples,\n",
    "                                       number_features_no_unknown=number_features_no_unknown,\n",
    "                                       number_features_all=number_features_all,\n",
    "                                       repeat=repeat)"
   ]
  },
  {
   "cell_type": "markdown",
   "id": "f2180ae5-7850-4680-8e9e-45872d56accb",
   "metadata": {
    "papermill": {
     "duration": 0.0103,
     "end_time": "2021-09-08T22:29:47.748244",
     "exception": false,
     "start_time": "2021-09-08T22:29:47.737944",
     "status": "completed"
    },
    "tags": []
   },
   "source": [
    "## 3.3. Benchmark reads index"
   ]
  },
  {
   "cell_type": "code",
   "execution_count": 9,
   "id": "04d3a9c7-23a6-4a04-8735-a637c5534ba8",
   "metadata": {
    "execution": {
     "iopub.execute_input": "2021-09-08T22:29:47.772709Z",
     "iopub.status.busy": "2021-09-08T22:29:47.769742Z",
     "iopub.status.idle": "2021-09-08T22:30:23.831052Z",
     "shell.execute_reply": "2021-09-08T22:30:23.831649Z"
    },
    "papermill": {
     "duration": 36.075414,
     "end_time": "2021-09-08T22:30:23.831910",
     "exception": false,
     "start_time": "2021-09-08T22:29:47.756496",
     "status": "completed"
    },
    "tags": []
   },
   "outputs": [
    {
     "name": "stderr",
     "output_type": "stream",
     "text": [
      "Attempting to set global database_path_translator=<genomics_data_index.storage.model.db.DatabasePathTranslator.DatabasePathTranslator object at 0x7f5315383e20> but it is already set\n"
     ]
    },
    {
     "data": {
      "text/html": [
       "<div>\n",
       "<style scoped>\n",
       "    .dataframe tbody tr th:only-of-type {\n",
       "        vertical-align: middle;\n",
       "    }\n",
       "\n",
       "    .dataframe tbody tr th {\n",
       "        vertical-align: top;\n",
       "    }\n",
       "\n",
       "    .dataframe thead th {\n",
       "        text-align: right;\n",
       "    }\n",
       "</style>\n",
       "<table border=\"1\" class=\"dataframe\">\n",
       "  <thead>\n",
       "    <tr style=\"text-align: right;\">\n",
       "      <th></th>\n",
       "      <th>Name</th>\n",
       "      <th>Kind</th>\n",
       "      <th>Number samples</th>\n",
       "      <th>Number features (no unknown)</th>\n",
       "      <th>Number features (all)</th>\n",
       "      <th>Number executions</th>\n",
       "      <th>Iteration</th>\n",
       "      <th>Time</th>\n",
       "    </tr>\n",
       "  </thead>\n",
       "  <tbody>\n",
       "    <tr>\n",
       "      <th>0</th>\n",
       "      <td>case-1000</td>\n",
       "      <td>db.samples_query</td>\n",
       "      <td>1000</td>\n",
       "      <td>1830</td>\n",
       "      <td>31184</td>\n",
       "      <td>200</td>\n",
       "      <td>1</td>\n",
       "      <td>0.001890</td>\n",
       "    </tr>\n",
       "    <tr>\n",
       "      <th>1</th>\n",
       "      <td>case-1000</td>\n",
       "      <td>db.samples_query</td>\n",
       "      <td>1000</td>\n",
       "      <td>1830</td>\n",
       "      <td>31184</td>\n",
       "      <td>200</td>\n",
       "      <td>2</td>\n",
       "      <td>0.001886</td>\n",
       "    </tr>\n",
       "    <tr>\n",
       "      <th>2</th>\n",
       "      <td>case-1000</td>\n",
       "      <td>db.samples_query</td>\n",
       "      <td>1000</td>\n",
       "      <td>1830</td>\n",
       "      <td>31184</td>\n",
       "      <td>200</td>\n",
       "      <td>3</td>\n",
       "      <td>0.001880</td>\n",
       "    </tr>\n",
       "    <tr>\n",
       "      <th>3</th>\n",
       "      <td>case-1000</td>\n",
       "      <td>db.samples_query</td>\n",
       "      <td>1000</td>\n",
       "      <td>1830</td>\n",
       "      <td>31184</td>\n",
       "      <td>200</td>\n",
       "      <td>4</td>\n",
       "      <td>0.001860</td>\n",
       "    </tr>\n",
       "    <tr>\n",
       "      <th>4</th>\n",
       "      <td>case-1000</td>\n",
       "      <td>db.samples_query</td>\n",
       "      <td>1000</td>\n",
       "      <td>1830</td>\n",
       "      <td>31184</td>\n",
       "      <td>200</td>\n",
       "      <td>5</td>\n",
       "      <td>0.001864</td>\n",
       "    </tr>\n",
       "  </tbody>\n",
       "</table>\n",
       "</div>"
      ],
      "text/plain": [
       "        Name              Kind  Number samples  Number features (no unknown)  \\\n",
       "0  case-1000  db.samples_query            1000                          1830   \n",
       "1  case-1000  db.samples_query            1000                          1830   \n",
       "2  case-1000  db.samples_query            1000                          1830   \n",
       "3  case-1000  db.samples_query            1000                          1830   \n",
       "4  case-1000  db.samples_query            1000                          1830   \n",
       "\n",
       "   Number features (all)  Number executions  Iteration      Time  \n",
       "0                  31184                200          1  0.001890  \n",
       "1                  31184                200          2  0.001886  \n",
       "2                  31184                200          3  0.001880  \n",
       "3                  31184                200          4  0.001860  \n",
       "4                  31184                200          5  0.001864  "
      ]
     },
     "execution_count": 9,
     "metadata": {},
     "output_type": "execute_result"
    }
   ],
   "source": [
    "api_df = benchmark_api_index(name=case_name, index_path=index_path, build_tree=build_tree)\n",
    "api_df.head(5)"
   ]
  },
  {
   "cell_type": "code",
   "execution_count": 10,
   "id": "09e7fb11-5c83-4983-82b9-4a54fca23b52",
   "metadata": {
    "execution": {
     "iopub.execute_input": "2021-09-08T22:30:23.887231Z",
     "iopub.status.busy": "2021-09-08T22:30:23.886472Z",
     "iopub.status.idle": "2021-09-08T22:30:23.893745Z",
     "shell.execute_reply": "2021-09-08T22:30:23.892829Z"
    },
    "papermill": {
     "duration": 0.044384,
     "end_time": "2021-09-08T22:30:23.893997",
     "exception": false,
     "start_time": "2021-09-08T22:30:23.849613",
     "status": "completed"
    },
    "tags": []
   },
   "outputs": [],
   "source": [
    "api_df.to_csv(output_api_path, sep='\\t', index=False)"
   ]
  },
  {
   "cell_type": "code",
   "execution_count": null,
   "id": "d29f35f8-2056-46f1-a506-379a0add43b9",
   "metadata": {
    "papermill": {
     "duration": 0.031265,
     "end_time": "2021-09-08T22:30:23.945832",
     "exception": false,
     "start_time": "2021-09-08T22:30:23.914567",
     "status": "completed"
    },
    "tags": []
   },
   "outputs": [],
   "source": []
  }
 ],
 "metadata": {
  "kernelspec": {
   "display_name": "Python 3 (ipykernel)",
   "language": "python",
   "name": "python3"
  },
  "language_info": {
   "codemirror_mode": {
    "name": "ipython",
    "version": 3
   },
   "file_extension": ".py",
   "mimetype": "text/x-python",
   "name": "python",
   "nbconvert_exporter": "python",
   "pygments_lexer": "ipython3",
   "version": "3.8.10"
  },
  "papermill": {
   "default_parameters": {},
   "duration": 191.277968,
   "end_time": "2021-09-08T22:30:25.656839",
   "environment_variables": {},
   "exception": null,
   "input_path": "template-4-query.ipynb",
   "output_path": "4-query.case-1000.ipynb",
   "parameters": {
    "build_tree": false,
    "cases_dir": "cases/case-1000",
    "iterations": 3,
    "number_samples": 1000
   },
   "start_time": "2021-09-08T22:27:14.378871",
   "version": "2.3.3"
  }
 },
 "nbformat": 4,
 "nbformat_minor": 5
}