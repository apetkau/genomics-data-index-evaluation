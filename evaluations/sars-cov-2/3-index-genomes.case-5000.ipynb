{
 "cells": [
  {
   "cell_type": "markdown",
   "id": "7d3667b4-b1f8-4347-96e3-830c25b06740",
   "metadata": {
    "papermill": {
     "duration": 0.016338,
     "end_time": "2022-03-10T20:31:41.460266",
     "exception": false,
     "start_time": "2022-03-10T20:31:41.443928",
     "status": "completed"
    },
    "tags": []
   },
   "source": [
    "# 1. Parameters"
   ]
  },
  {
   "cell_type": "code",
   "execution_count": 1,
   "id": "d4ab0749-b286-4c34-b63c-a854e4952bae",
   "metadata": {
    "execution": {
     "iopub.execute_input": "2022-03-10T20:31:41.491920Z",
     "iopub.status.busy": "2022-03-10T20:31:41.485570Z",
     "iopub.status.idle": "2022-03-10T20:31:41.496274Z",
     "shell.execute_reply": "2022-03-10T20:31:41.497177Z"
    },
    "papermill": {
     "duration": 0.027722,
     "end_time": "2022-03-10T20:31:41.497609",
     "exception": false,
     "start_time": "2022-03-10T20:31:41.469887",
     "status": "completed"
    },
    "tags": [
     "parameters"
    ]
   },
   "outputs": [],
   "source": [
    "# Defaults\n",
    "cases_dir = 'cases/unset'\n",
    "reference_file = 'references/NC_045512.gbk.gz'\n",
    "input_files_all = 'input/input-files.tsv'\n",
    "iterations = 3\n",
    "mincov = 10\n",
    "ncores = 32\n",
    "number_samples = 10\n",
    "build_tree = False\n",
    "sample_batch_size=2000"
   ]
  },
  {
   "cell_type": "code",
   "execution_count": 2,
   "id": "10681525",
   "metadata": {
    "execution": {
     "iopub.execute_input": "2022-03-10T20:31:41.527928Z",
     "iopub.status.busy": "2022-03-10T20:31:41.527466Z",
     "iopub.status.idle": "2022-03-10T20:31:41.530422Z",
     "shell.execute_reply": "2022-03-10T20:31:41.530763Z"
    },
    "papermill": {
     "duration": 0.018171,
     "end_time": "2022-03-10T20:31:41.530885",
     "exception": false,
     "start_time": "2022-03-10T20:31:41.512714",
     "status": "completed"
    },
    "tags": [
     "injected-parameters"
    ]
   },
   "outputs": [],
   "source": [
    "# Parameters\n",
    "cases_dir = \"cases/case-5000\"\n",
    "iterations = 3\n",
    "number_samples = 5000\n",
    "build_tree = False\n"
   ]
  },
  {
   "cell_type": "code",
   "execution_count": 3,
   "id": "ce5962e4-261c-4210-b39b-47044e28466b",
   "metadata": {
    "execution": {
     "iopub.execute_input": "2022-03-10T20:31:41.556909Z",
     "iopub.status.busy": "2022-03-10T20:31:41.556151Z",
     "iopub.status.idle": "2022-03-10T20:31:44.278815Z",
     "shell.execute_reply": "2022-03-10T20:31:44.277865Z"
    },
    "papermill": {
     "duration": 2.740473,
     "end_time": "2022-03-10T20:31:44.279074",
     "exception": false,
     "start_time": "2022-03-10T20:31:41.538601",
     "status": "completed"
    },
    "tags": []
   },
   "outputs": [],
   "source": [
    "from pathlib import Path\n",
    "from shutil import rmtree\n",
    "from os import makedirs\n",
    "import imp\n",
    "fp, pathname, description = imp.find_module('gdi_benchmark', ['../../lib'])\n",
    "gdi_benchmark = imp.load_module('gdi_benchmark', fp, pathname, description)\n",
    "\n",
    "cases_dir_path = Path(cases_dir)\n",
    "\n",
    "if cases_dir_path.exists():\n",
    "    rmtree(cases_dir_path)\n",
    "    \n",
    "if not cases_dir_path.exists():\n",
    "    makedirs(cases_dir_path)\n",
    "\n",
    "input_files_all = Path(input_files_all)\n",
    "reference_file = Path(reference_file)\n",
    "\n",
    "case_name = str(cases_dir_path.name)\n",
    "reference_name = reference_file.name.split('.')[0]\n",
    "\n",
    "cases_input = cases_dir_path / 'input-files-case.tsv'\n",
    "index_path = cases_dir_path / 'index'\n",
    "benchmark_path = cases_dir_path / 'index-info.tsv'\n",
    "output_tree = cases_dir_path / 'tree.tre'"
   ]
  },
  {
   "cell_type": "markdown",
   "id": "1673d80f-b52a-4b68-b400-355540495e15",
   "metadata": {
    "papermill": {
     "duration": 0.009335,
     "end_time": "2022-03-10T20:31:44.303813",
     "exception": false,
     "start_time": "2022-03-10T20:31:44.294478",
     "status": "completed"
    },
    "tags": []
   },
   "source": [
    "# 2. Create subset input"
   ]
  },
  {
   "cell_type": "code",
   "execution_count": 4,
   "id": "4e66adb1-3ef7-45d1-8e46-723dcb9d0c31",
   "metadata": {
    "execution": {
     "iopub.execute_input": "2022-03-10T20:31:44.327263Z",
     "iopub.status.busy": "2022-03-10T20:31:44.326144Z",
     "iopub.status.idle": "2022-03-10T20:31:44.566408Z",
     "shell.execute_reply": "2022-03-10T20:31:44.567294Z"
    },
    "papermill": {
     "duration": 0.257103,
     "end_time": "2022-03-10T20:31:44.567579",
     "exception": false,
     "start_time": "2022-03-10T20:31:44.310476",
     "status": "completed"
    },
    "tags": []
   },
   "outputs": [
    {
     "name": "stdout",
     "output_type": "stream",
     "text": [
      "Wrote 5000/100000 samples to cases/case-5000/input-files-case.tsv\n"
     ]
    }
   ],
   "source": [
    "import pandas as pd\n",
    "\n",
    "all_input_df = pd.read_csv(input_files_all, sep='\\t')\n",
    "all_input_total = len(all_input_df)\n",
    "\n",
    "subset_input_df = all_input_df.head(number_samples)\n",
    "subset_input_total = len(subset_input_df)\n",
    "\n",
    "subset_input_df.to_csv(cases_input, sep='\\t', index=False)\n",
    "\n",
    "print(f'Wrote {subset_input_total}/{all_input_total} samples to {cases_input}')"
   ]
  },
  {
   "cell_type": "markdown",
   "id": "f208279e-7558-47fc-9362-da29df92828a",
   "metadata": {
    "papermill": {
     "duration": 0.008227,
     "end_time": "2022-03-10T20:31:44.589286",
     "exception": false,
     "start_time": "2022-03-10T20:31:44.581059",
     "status": "completed"
    },
    "tags": []
   },
   "source": [
    "# 2. Index genomes"
   ]
  },
  {
   "cell_type": "code",
   "execution_count": 5,
   "id": "4e936f7c-2fcd-4188-b0e6-6b3ceb5cdcd2",
   "metadata": {
    "execution": {
     "iopub.execute_input": "2022-03-10T20:31:44.619445Z",
     "iopub.status.busy": "2022-03-10T20:31:44.607768Z",
     "iopub.status.idle": "2022-03-10T20:31:47.409186Z",
     "shell.execute_reply": "2022-03-10T20:31:47.410051Z"
    },
    "papermill": {
     "duration": 2.814462,
     "end_time": "2022-03-10T20:31:47.410365",
     "exception": false,
     "start_time": "2022-03-10T20:31:44.595903",
     "status": "completed"
    },
    "tags": []
   },
   "outputs": [
    {
     "name": "stdout",
     "output_type": "stream",
     "text": [
      "gdi, version 0.6.0.dev2\r\n"
     ]
    }
   ],
   "source": [
    "!gdi --version"
   ]
  },
  {
   "cell_type": "markdown",
   "id": "5409ecf8-2158-4361-9d2f-6b1a6c7c63a6",
   "metadata": {
    "papermill": {
     "duration": 0.009762,
     "end_time": "2022-03-10T20:31:47.436515",
     "exception": false,
     "start_time": "2022-03-10T20:31:47.426753",
     "status": "completed"
    },
    "tags": []
   },
   "source": [
    "## 2.1. Index reads"
   ]
  },
  {
   "cell_type": "code",
   "execution_count": 6,
   "id": "3d63e861-733e-46f2-8bce-bd1a2c7c7058",
   "metadata": {
    "execution": {
     "iopub.execute_input": "2022-03-10T20:31:47.466962Z",
     "iopub.status.busy": "2022-03-10T20:31:47.462842Z",
     "iopub.status.idle": "2022-03-10T22:21:47.423047Z",
     "shell.execute_reply": "2022-03-10T22:21:47.421895Z"
    },
    "papermill": {
     "duration": 6599.979542,
     "end_time": "2022-03-10T22:21:47.423429",
     "exception": false,
     "start_time": "2022-03-10T20:31:47.443887",
     "status": "completed"
    },
    "tags": []
   },
   "outputs": [
    {
     "name": "stdout",
     "output_type": "stream",
     "text": [
      "\n",
      "Iteration 1 of index/analysis of 5000 samples with 32 cores\n",
      "Removing any extra snakemake directories: ['snakemake-assemblies.1646943360.0455632']\n"
     ]
    },
    {
     "name": "stdout",
     "output_type": "stream",
     "text": [
      "Creating new index: [gdi init cases/case-5000/index]\n"
     ]
    },
    {
     "name": "stdout",
     "output_type": "stream",
     "text": [
      "Creating a new index took 2.87 seconds\n",
      "Analysis running: [gdi --project-dir cases/case-5000/index --ncores 32 analysis --use-conda --no-load-data --reference-file references/NC_045512.gbk.gz --kmer-size 31 --kmer-size 51 --kmer-size 71 --include-kmer --reads-mincov 10 --input-structured-genomes-file cases/case-5000/input-files-case.tsv]\n"
     ]
    },
    {
     "name": "stdout",
     "output_type": "stream",
     "text": [
      "Analysis took 31.27 minutes\n",
      "Index running: [gdi --project-dir cases/case-5000/index --ncores 32 load vcf-kmer --sample-batch-size 2000 --reference-file references/NC_045512.gbk.gz /home/CSCScience.ca/apetkau/workspace/genomics-data-index-evaluation/evaluations/sars-cov-2/snakemake-assemblies.1646944316.0684147/gdi-input.fofn]\n"
     ]
    },
    {
     "name": "stdout",
     "output_type": "stream",
     "text": [
      "Indexing took 5.12 minutes\n"
     ]
    },
    {
     "name": "stderr",
     "output_type": "stream",
     "text": [
      "A reminder to myself to look for a Python solution for directory sizes (instead of running `du`)\n"
     ]
    },
    {
     "name": "stdout",
     "output_type": "stream",
     "text": [
      "\n",
      "Iteration 2 of index/analysis of 5000 samples with 32 cores\n",
      "Removing any extra snakemake directories: ['snakemake-assemblies.1646944316.0684147']\n"
     ]
    },
    {
     "name": "stdout",
     "output_type": "stream",
     "text": [
      "Removing any existing indexes cases/case-5000/index\n"
     ]
    },
    {
     "name": "stdout",
     "output_type": "stream",
     "text": [
      "Creating new index: [gdi init cases/case-5000/index]\n"
     ]
    },
    {
     "name": "stdout",
     "output_type": "stream",
     "text": [
      "Creating a new index took 2.77 seconds\n",
      "Analysis running: [gdi --project-dir cases/case-5000/index --ncores 32 analysis --use-conda --no-load-data --reference-file references/NC_045512.gbk.gz --kmer-size 31 --kmer-size 51 --kmer-size 71 --include-kmer --reads-mincov 10 --input-structured-genomes-file cases/case-5000/input-files-case.tsv]\n"
     ]
    },
    {
     "name": "stdout",
     "output_type": "stream",
     "text": [
      "Analysis took 31.40 minutes\n",
      "Index running: [gdi --project-dir cases/case-5000/index --ncores 32 load vcf-kmer --sample-batch-size 2000 --reference-file references/NC_045512.gbk.gz /home/CSCScience.ca/apetkau/workspace/genomics-data-index-evaluation/evaluations/sars-cov-2/snakemake-assemblies.1646946508.1108904/gdi-input.fofn]\n"
     ]
    },
    {
     "name": "stdout",
     "output_type": "stream",
     "text": [
      "Indexing took 5.22 minutes\n"
     ]
    },
    {
     "name": "stderr",
     "output_type": "stream",
     "text": [
      "Attempting to set global database_path_translator=<genomics_data_index.storage.model.db.DatabasePathTranslator.DatabasePathTranslator object at 0x7fa26371b190> but it is already set\n"
     ]
    },
    {
     "name": "stderr",
     "output_type": "stream",
     "text": [
      "A reminder to myself to look for a Python solution for directory sizes (instead of running `du`)\n"
     ]
    },
    {
     "name": "stdout",
     "output_type": "stream",
     "text": [
      "\n",
      "Iteration 3 of index/analysis of 5000 samples with 32 cores\n",
      "Removing any extra snakemake directories: ['snakemake-assemblies.1646946508.1108904']\n"
     ]
    },
    {
     "name": "stdout",
     "output_type": "stream",
     "text": [
      "Removing any existing indexes cases/case-5000/index\n"
     ]
    },
    {
     "name": "stdout",
     "output_type": "stream",
     "text": [
      "Creating new index: [gdi init cases/case-5000/index]\n"
     ]
    },
    {
     "name": "stdout",
     "output_type": "stream",
     "text": [
      "Creating a new index took 2.86 seconds\n",
      "Analysis running: [gdi --project-dir cases/case-5000/index --ncores 32 analysis --use-conda --no-load-data --reference-file references/NC_045512.gbk.gz --kmer-size 31 --kmer-size 51 --kmer-size 71 --include-kmer --reads-mincov 10 --input-structured-genomes-file cases/case-5000/input-files-case.tsv]\n"
     ]
    },
    {
     "name": "stdout",
     "output_type": "stream",
     "text": [
      "Analysis took 31.44 minutes\n",
      "Index running: [gdi --project-dir cases/case-5000/index --ncores 32 load vcf-kmer --sample-batch-size 2000 --reference-file references/NC_045512.gbk.gz /home/CSCScience.ca/apetkau/workspace/genomics-data-index-evaluation/evaluations/sars-cov-2/snakemake-assemblies.1646948713.2419434/gdi-input.fofn]\n"
     ]
    },
    {
     "name": "stdout",
     "output_type": "stream",
     "text": [
      "Indexing took 5.16 minutes\n"
     ]
    },
    {
     "name": "stderr",
     "output_type": "stream",
     "text": [
      "Attempting to set global database_path_translator=<genomics_data_index.storage.model.db.DatabasePathTranslator.DatabasePathTranslator object at 0x7fa2635cdd60> but it is already set\n"
     ]
    },
    {
     "name": "stderr",
     "output_type": "stream",
     "text": [
      "A reminder to myself to look for a Python solution for directory sizes (instead of running `du`)\n"
     ]
    }
   ],
   "source": [
    "results_handler = gdi_benchmark.BenchmarkResultsHandler(name=case_name)\n",
    "benchmarker = gdi_benchmark.IndexBenchmarker(benchmark_results_handler=results_handler,\n",
    "                                             index_path=index_path, input_files_file=cases_input,\n",
    "                                             reference_file=reference_file, mincov=mincov,\n",
    "                                             build_tree=build_tree,\n",
    "                                             ncores=ncores,\n",
    "                                             sample_batch_size=sample_batch_size)\n",
    "\n",
    "benchmark_df = benchmarker.benchmark(iterations=iterations)"
   ]
  },
  {
   "cell_type": "code",
   "execution_count": 7,
   "id": "3bcb6da7-0164-47f2-abdd-a4c159da1e3b",
   "metadata": {
    "execution": {
     "iopub.execute_input": "2022-03-10T22:21:47.484150Z",
     "iopub.status.busy": "2022-03-10T22:21:47.472791Z",
     "iopub.status.idle": "2022-03-10T22:21:47.496094Z",
     "shell.execute_reply": "2022-03-10T22:21:47.497049Z"
    },
    "papermill": {
     "duration": 0.053304,
     "end_time": "2022-03-10T22:21:47.497332",
     "exception": false,
     "start_time": "2022-03-10T22:21:47.444028",
     "status": "completed"
    },
    "tags": []
   },
   "outputs": [
    {
     "data": {
      "text/html": [
       "<div>\n",
       "<style scoped>\n",
       "    .dataframe tbody tr th:only-of-type {\n",
       "        vertical-align: middle;\n",
       "    }\n",
       "\n",
       "    .dataframe tbody tr th {\n",
       "        vertical-align: top;\n",
       "    }\n",
       "\n",
       "    .dataframe thead th {\n",
       "        text-align: right;\n",
       "    }\n",
       "</style>\n",
       "<table border=\"1\" class=\"dataframe\">\n",
       "  <thead>\n",
       "    <tr style=\"text-align: right;\">\n",
       "      <th></th>\n",
       "      <th>Name</th>\n",
       "      <th>Reference name</th>\n",
       "      <th>Iteration</th>\n",
       "      <th>Number samples</th>\n",
       "      <th>Number features (all)</th>\n",
       "      <th>Number features (no unknown)</th>\n",
       "      <th>Number cores</th>\n",
       "      <th>Reference length</th>\n",
       "      <th>Analysis runtime</th>\n",
       "      <th>Analysis memory (max)</th>\n",
       "      <th>...</th>\n",
       "      <th>Analysis disk uage</th>\n",
       "      <th>Index runtime</th>\n",
       "      <th>Index memory (max)</th>\n",
       "      <th>Index memory (max/process)</th>\n",
       "      <th>Index size</th>\n",
       "      <th>Tree runtime</th>\n",
       "      <th>Tree memory (max)</th>\n",
       "      <th>Tree memory (max/process)</th>\n",
       "      <th>Total runtime</th>\n",
       "      <th>Max memory</th>\n",
       "    </tr>\n",
       "  </thead>\n",
       "  <tbody>\n",
       "    <tr>\n",
       "      <th>0</th>\n",
       "      <td>case-5000</td>\n",
       "      <td>NC_045512</td>\n",
       "      <td>1</td>\n",
       "      <td>5000</td>\n",
       "      <td>35663</td>\n",
       "      <td>5760</td>\n",
       "      <td>32</td>\n",
       "      <td>29903</td>\n",
       "      <td>1875.84</td>\n",
       "      <td>1.374618e+09</td>\n",
       "      <td>...</td>\n",
       "      <td>4.657746e+09</td>\n",
       "      <td>307.33</td>\n",
       "      <td>2.553031e+10</td>\n",
       "      <td>1.692733e+09</td>\n",
       "      <td>95252480.0</td>\n",
       "      <td>&lt;NA&gt;</td>\n",
       "      <td>&lt;NA&gt;</td>\n",
       "      <td>&lt;NA&gt;</td>\n",
       "      <td>2183.17</td>\n",
       "      <td>2.553031e+10</td>\n",
       "    </tr>\n",
       "    <tr>\n",
       "      <th>0</th>\n",
       "      <td>case-5000</td>\n",
       "      <td>NC_045512</td>\n",
       "      <td>2</td>\n",
       "      <td>5000</td>\n",
       "      <td>35663</td>\n",
       "      <td>5760</td>\n",
       "      <td>32</td>\n",
       "      <td>29903</td>\n",
       "      <td>1883.58</td>\n",
       "      <td>1.604813e+09</td>\n",
       "      <td>...</td>\n",
       "      <td>4.657738e+09</td>\n",
       "      <td>312.92</td>\n",
       "      <td>2.551649e+10</td>\n",
       "      <td>1.696186e+09</td>\n",
       "      <td>95285248.0</td>\n",
       "      <td>&lt;NA&gt;</td>\n",
       "      <td>&lt;NA&gt;</td>\n",
       "      <td>&lt;NA&gt;</td>\n",
       "      <td>2196.50</td>\n",
       "      <td>2.551649e+10</td>\n",
       "    </tr>\n",
       "    <tr>\n",
       "      <th>0</th>\n",
       "      <td>case-5000</td>\n",
       "      <td>NC_045512</td>\n",
       "      <td>3</td>\n",
       "      <td>5000</td>\n",
       "      <td>35663</td>\n",
       "      <td>5760</td>\n",
       "      <td>32</td>\n",
       "      <td>29903</td>\n",
       "      <td>1886.28</td>\n",
       "      <td>1.531355e+09</td>\n",
       "      <td>...</td>\n",
       "      <td>4.657746e+09</td>\n",
       "      <td>309.37</td>\n",
       "      <td>2.509821e+10</td>\n",
       "      <td>1.683644e+09</td>\n",
       "      <td>95232000.0</td>\n",
       "      <td>&lt;NA&gt;</td>\n",
       "      <td>&lt;NA&gt;</td>\n",
       "      <td>&lt;NA&gt;</td>\n",
       "      <td>2195.65</td>\n",
       "      <td>2.509821e+10</td>\n",
       "    </tr>\n",
       "  </tbody>\n",
       "</table>\n",
       "<p>3 rows × 21 columns</p>\n",
       "</div>"
      ],
      "text/plain": [
       "        Name Reference name  Iteration  Number samples  Number features (all)  \\\n",
       "0  case-5000      NC_045512          1            5000                  35663   \n",
       "0  case-5000      NC_045512          2            5000                  35663   \n",
       "0  case-5000      NC_045512          3            5000                  35663   \n",
       "\n",
       "   Number features (no unknown)  Number cores  Reference length  \\\n",
       "0                          5760            32             29903   \n",
       "0                          5760            32             29903   \n",
       "0                          5760            32             29903   \n",
       "\n",
       "   Analysis runtime  Analysis memory (max)  ...  Analysis disk uage  \\\n",
       "0           1875.84           1.374618e+09  ...        4.657746e+09   \n",
       "0           1883.58           1.604813e+09  ...        4.657738e+09   \n",
       "0           1886.28           1.531355e+09  ...        4.657746e+09   \n",
       "\n",
       "   Index runtime  Index memory (max)  Index memory (max/process)  Index size  \\\n",
       "0         307.33        2.553031e+10                1.692733e+09  95252480.0   \n",
       "0         312.92        2.551649e+10                1.696186e+09  95285248.0   \n",
       "0         309.37        2.509821e+10                1.683644e+09  95232000.0   \n",
       "\n",
       "   Tree runtime Tree memory (max) Tree memory (max/process) Total runtime  \\\n",
       "0          <NA>              <NA>                      <NA>       2183.17   \n",
       "0          <NA>              <NA>                      <NA>       2196.50   \n",
       "0          <NA>              <NA>                      <NA>       2195.65   \n",
       "\n",
       "     Max memory  \n",
       "0  2.553031e+10  \n",
       "0  2.551649e+10  \n",
       "0  2.509821e+10  \n",
       "\n",
       "[3 rows x 21 columns]"
      ]
     },
     "execution_count": 7,
     "metadata": {},
     "output_type": "execute_result"
    }
   ],
   "source": [
    "benchmark_df"
   ]
  },
  {
   "cell_type": "code",
   "execution_count": 8,
   "id": "535a9ccc-ab9c-4919-806f-128e1efd2389",
   "metadata": {
    "execution": {
     "iopub.execute_input": "2022-03-10T22:21:47.536550Z",
     "iopub.status.busy": "2022-03-10T22:21:47.535771Z",
     "iopub.status.idle": "2022-03-10T22:21:47.539106Z",
     "shell.execute_reply": "2022-03-10T22:21:47.538473Z"
    },
    "papermill": {
     "duration": 0.020828,
     "end_time": "2022-03-10T22:21:47.539260",
     "exception": false,
     "start_time": "2022-03-10T22:21:47.518432",
     "status": "completed"
    },
    "tags": []
   },
   "outputs": [],
   "source": [
    "benchmark_df.to_csv(benchmark_path, sep='\\t', index=False)"
   ]
  },
  {
   "cell_type": "markdown",
   "id": "6cb7673b-9f85-4c43-b2e2-93538497a196",
   "metadata": {
    "papermill": {
     "duration": 0.011613,
     "end_time": "2022-03-10T22:21:47.571488",
     "exception": false,
     "start_time": "2022-03-10T22:21:47.559875",
     "status": "completed"
    },
    "tags": []
   },
   "source": [
    "# 3. Export trees"
   ]
  },
  {
   "cell_type": "code",
   "execution_count": 9,
   "id": "5280f82c-5434-4391-8c44-b937a7c95bd5",
   "metadata": {
    "execution": {
     "iopub.execute_input": "2022-03-10T22:21:47.599030Z",
     "iopub.status.busy": "2022-03-10T22:21:47.598641Z",
     "iopub.status.idle": "2022-03-10T22:21:47.603070Z",
     "shell.execute_reply": "2022-03-10T22:21:47.603932Z"
    },
    "papermill": {
     "duration": 0.022732,
     "end_time": "2022-03-10T22:21:47.604208",
     "exception": false,
     "start_time": "2022-03-10T22:21:47.581476",
     "status": "completed"
    },
    "tags": []
   },
   "outputs": [
    {
     "name": "stdout",
     "output_type": "stream",
     "text": [
      "build_tree=False so no tree to export\n"
     ]
    }
   ],
   "source": [
    "if build_tree:\n",
    "    !gdi --project-dir {index_path} export tree {reference_name} > {output_tree}\n",
    "    print(f'Wrote tree to {output_tree}')\n",
    "else:\n",
    "    print(f'build_tree={build_tree} so no tree to export')"
   ]
  }
 ],
 "metadata": {
  "kernelspec": {
   "display_name": "Python 3 (ipykernel)",
   "language": "python",
   "name": "python3"
  },
  "language_info": {
   "codemirror_mode": {
    "name": "ipython",
    "version": 3
   },
   "file_extension": ".py",
   "mimetype": "text/x-python",
   "name": "python",
   "nbconvert_exporter": "python",
   "pygments_lexer": "ipython3",
   "version": "3.8.12"
  },
  "papermill": {
   "default_parameters": {},
   "duration": 6608.171161,
   "end_time": "2022-03-10T22:21:48.259037",
   "environment_variables": {},
   "exception": null,
   "input_path": "template-3-index-genomes.ipynb",
   "output_path": "3-index-genomes.case-5000.ipynb",
   "parameters": {
    "build_tree": false,
    "cases_dir": "cases/case-5000",
    "iterations": 3,
    "number_samples": 5000
   },
   "start_time": "2022-03-10T20:31:40.087876",
   "version": "2.3.3"
  }
 },
 "nbformat": 4,
 "nbformat_minor": 5
}