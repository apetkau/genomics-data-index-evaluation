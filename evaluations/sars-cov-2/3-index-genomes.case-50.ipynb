{
 "cells": [
  {
   "cell_type": "markdown",
   "id": "7d3667b4-b1f8-4347-96e3-830c25b06740",
   "metadata": {
    "papermill": {
     "duration": 0.016002,
     "end_time": "2022-03-10T18:03:31.297129",
     "exception": false,
     "start_time": "2022-03-10T18:03:31.281127",
     "status": "completed"
    },
    "tags": []
   },
   "source": [
    "# 1. Parameters"
   ]
  },
  {
   "cell_type": "code",
   "execution_count": 1,
   "id": "d4ab0749-b286-4c34-b63c-a854e4952bae",
   "metadata": {
    "execution": {
     "iopub.execute_input": "2022-03-10T18:03:31.329531Z",
     "iopub.status.busy": "2022-03-10T18:03:31.328302Z",
     "iopub.status.idle": "2022-03-10T18:03:31.332531Z",
     "shell.execute_reply": "2022-03-10T18:03:31.333440Z"
    },
    "papermill": {
     "duration": 0.027168,
     "end_time": "2022-03-10T18:03:31.333878",
     "exception": false,
     "start_time": "2022-03-10T18:03:31.306710",
     "status": "completed"
    },
    "tags": [
     "parameters"
    ]
   },
   "outputs": [],
   "source": [
    "# Defaults\n",
    "cases_dir = 'cases/unset'\n",
    "reference_file = 'references/NC_045512.gbk.gz'\n",
    "input_files_all = 'input/input-files.tsv'\n",
    "iterations = 3\n",
    "mincov = 10\n",
    "ncores = 32\n",
    "number_samples = 10\n",
    "build_tree = False\n",
    "sample_batch_size=2000"
   ]
  },
  {
   "cell_type": "code",
   "execution_count": 2,
   "id": "b129a8bc",
   "metadata": {
    "execution": {
     "iopub.execute_input": "2022-03-10T18:03:31.362466Z",
     "iopub.status.busy": "2022-03-10T18:03:31.361930Z",
     "iopub.status.idle": "2022-03-10T18:03:31.364935Z",
     "shell.execute_reply": "2022-03-10T18:03:31.365338Z"
    },
    "papermill": {
     "duration": 0.017542,
     "end_time": "2022-03-10T18:03:31.365483",
     "exception": false,
     "start_time": "2022-03-10T18:03:31.347941",
     "status": "completed"
    },
    "tags": [
     "injected-parameters"
    ]
   },
   "outputs": [],
   "source": [
    "# Parameters\n",
    "cases_dir = \"cases/case-50\"\n",
    "iterations = 3\n",
    "number_samples = 50\n",
    "build_tree = True\n"
   ]
  },
  {
   "cell_type": "code",
   "execution_count": 3,
   "id": "ce5962e4-261c-4210-b39b-47044e28466b",
   "metadata": {
    "execution": {
     "iopub.execute_input": "2022-03-10T18:03:31.390257Z",
     "iopub.status.busy": "2022-03-10T18:03:31.389812Z",
     "iopub.status.idle": "2022-03-10T18:03:33.878932Z",
     "shell.execute_reply": "2022-03-10T18:03:33.877957Z"
    },
    "papermill": {
     "duration": 2.506621,
     "end_time": "2022-03-10T18:03:33.879193",
     "exception": false,
     "start_time": "2022-03-10T18:03:31.372572",
     "status": "completed"
    },
    "tags": []
   },
   "outputs": [],
   "source": [
    "from pathlib import Path\n",
    "from shutil import rmtree\n",
    "from os import makedirs\n",
    "import imp\n",
    "fp, pathname, description = imp.find_module('gdi_benchmark', ['../../lib'])\n",
    "gdi_benchmark = imp.load_module('gdi_benchmark', fp, pathname, description)\n",
    "\n",
    "cases_dir_path = Path(cases_dir)\n",
    "\n",
    "if cases_dir_path.exists():\n",
    "    rmtree(cases_dir_path)\n",
    "    \n",
    "if not cases_dir_path.exists():\n",
    "    makedirs(cases_dir_path)\n",
    "\n",
    "input_files_all = Path(input_files_all)\n",
    "reference_file = Path(reference_file)\n",
    "\n",
    "case_name = str(cases_dir_path.name)\n",
    "reference_name = reference_file.name.split('.')[0]\n",
    "\n",
    "cases_input = cases_dir_path / 'input-files-case.tsv'\n",
    "index_path = cases_dir_path / 'index'\n",
    "benchmark_path = cases_dir_path / 'index-info.tsv'\n",
    "output_tree = cases_dir_path / 'tree.tre'"
   ]
  },
  {
   "cell_type": "markdown",
   "id": "1673d80f-b52a-4b68-b400-355540495e15",
   "metadata": {
    "papermill": {
     "duration": 0.008684,
     "end_time": "2022-03-10T18:03:33.901825",
     "exception": false,
     "start_time": "2022-03-10T18:03:33.893141",
     "status": "completed"
    },
    "tags": []
   },
   "source": [
    "# 2. Create subset input"
   ]
  },
  {
   "cell_type": "code",
   "execution_count": 4,
   "id": "4e66adb1-3ef7-45d1-8e46-723dcb9d0c31",
   "metadata": {
    "execution": {
     "iopub.execute_input": "2022-03-10T18:03:33.922763Z",
     "iopub.status.busy": "2022-03-10T18:03:33.922325Z",
     "iopub.status.idle": "2022-03-10T18:03:34.143929Z",
     "shell.execute_reply": "2022-03-10T18:03:34.144559Z"
    },
    "papermill": {
     "duration": 0.236268,
     "end_time": "2022-03-10T18:03:34.144780",
     "exception": false,
     "start_time": "2022-03-10T18:03:33.908512",
     "status": "completed"
    },
    "tags": []
   },
   "outputs": [
    {
     "name": "stdout",
     "output_type": "stream",
     "text": [
      "Wrote 50/100000 samples to cases/case-50/input-files-case.tsv\n"
     ]
    }
   ],
   "source": [
    "import pandas as pd\n",
    "\n",
    "all_input_df = pd.read_csv(input_files_all, sep='\\t')\n",
    "all_input_total = len(all_input_df)\n",
    "\n",
    "subset_input_df = all_input_df.head(number_samples)\n",
    "subset_input_total = len(subset_input_df)\n",
    "\n",
    "subset_input_df.to_csv(cases_input, sep='\\t', index=False)\n",
    "\n",
    "print(f'Wrote {subset_input_total}/{all_input_total} samples to {cases_input}')"
   ]
  },
  {
   "cell_type": "markdown",
   "id": "f208279e-7558-47fc-9362-da29df92828a",
   "metadata": {
    "papermill": {
     "duration": 0.007721,
     "end_time": "2022-03-10T18:03:34.163181",
     "exception": false,
     "start_time": "2022-03-10T18:03:34.155460",
     "status": "completed"
    },
    "tags": []
   },
   "source": [
    "# 2. Index genomes"
   ]
  },
  {
   "cell_type": "code",
   "execution_count": 5,
   "id": "4e936f7c-2fcd-4188-b0e6-6b3ceb5cdcd2",
   "metadata": {
    "execution": {
     "iopub.execute_input": "2022-03-10T18:03:34.190084Z",
     "iopub.status.busy": "2022-03-10T18:03:34.179399Z",
     "iopub.status.idle": "2022-03-10T18:03:36.932347Z",
     "shell.execute_reply": "2022-03-10T18:03:36.933335Z"
    },
    "papermill": {
     "duration": 2.764662,
     "end_time": "2022-03-10T18:03:36.933670",
     "exception": false,
     "start_time": "2022-03-10T18:03:34.169008",
     "status": "completed"
    },
    "tags": []
   },
   "outputs": [
    {
     "name": "stdout",
     "output_type": "stream",
     "text": [
      "gdi, version 0.6.0.dev2\r\n"
     ]
    }
   ],
   "source": [
    "!gdi --version"
   ]
  },
  {
   "cell_type": "markdown",
   "id": "5409ecf8-2158-4361-9d2f-6b1a6c7c63a6",
   "metadata": {
    "papermill": {
     "duration": 0.009214,
     "end_time": "2022-03-10T18:03:36.958576",
     "exception": false,
     "start_time": "2022-03-10T18:03:36.949362",
     "status": "completed"
    },
    "tags": []
   },
   "source": [
    "## 2.1. Index reads"
   ]
  },
  {
   "cell_type": "code",
   "execution_count": 6,
   "id": "3d63e861-733e-46f2-8bce-bd1a2c7c7058",
   "metadata": {
    "execution": {
     "iopub.execute_input": "2022-03-10T18:03:36.983614Z",
     "iopub.status.busy": "2022-03-10T18:03:36.983103Z",
     "iopub.status.idle": "2022-03-10T18:26:25.141719Z",
     "shell.execute_reply": "2022-03-10T18:26:25.140606Z"
    },
    "papermill": {
     "duration": 1368.176917,
     "end_time": "2022-03-10T18:26:25.142092",
     "exception": false,
     "start_time": "2022-03-10T18:03:36.965175",
     "status": "completed"
    },
    "tags": []
   },
   "outputs": [
    {
     "name": "stdout",
     "output_type": "stream",
     "text": [
      "\n",
      "Iteration 1 of index/analysis of 50 samples with 32 cores\n",
      "Removing any extra snakemake directories: ['snakemake-assemblies.1646935117.5294967']\n"
     ]
    },
    {
     "name": "stdout",
     "output_type": "stream",
     "text": [
      "Creating new index: [gdi init cases/case-50/index]\n"
     ]
    },
    {
     "name": "stdout",
     "output_type": "stream",
     "text": [
      "Creating a new index took 2.97 seconds\n",
      "Analysis running: [gdi --project-dir cases/case-50/index --ncores 32 analysis --use-conda --no-load-data --reference-file references/NC_045512.gbk.gz --kmer-size 31 --kmer-size 51 --kmer-size 71 --include-kmer --reads-mincov 10 --input-structured-genomes-file cases/case-50/input-files-case.tsv]\n"
     ]
    },
    {
     "name": "stdout",
     "output_type": "stream",
     "text": [
      "Analysis took 2.62 minutes\n",
      "Index running: [gdi --project-dir cases/case-50/index --ncores 32 load vcf-kmer --sample-batch-size 2000 --reference-file references/NC_045512.gbk.gz /home/CSCScience.ca/apetkau/workspace/genomics-data-index-evaluation/evaluations/sars-cov-2/snakemake-assemblies.1646935424.9321752/gdi-input.fofn]\n"
     ]
    },
    {
     "name": "stdout",
     "output_type": "stream",
     "text": [
      "Indexing took 0.15 minutes\n",
      "Building tree: [gdi --project-dir cases/case-50/index --ncores 32 rebuild tree --align-type full --extra-params '--fast -m GTR+F+R4' NC_045512]\n"
     ]
    },
    {
     "name": "stdout",
     "output_type": "stream",
     "text": [
      "Building tree took 5.41 minutes\n"
     ]
    },
    {
     "name": "stderr",
     "output_type": "stream",
     "text": [
      "A reminder to myself to look for a Python solution for directory sizes (instead of running `du`)\n"
     ]
    },
    {
     "name": "stdout",
     "output_type": "stream",
     "text": [
      "\n",
      "Iteration 2 of index/analysis of 50 samples with 32 cores\n",
      "Removing any extra snakemake directories: ['snakemake-assemblies.1646935424.9321752']\n"
     ]
    },
    {
     "name": "stdout",
     "output_type": "stream",
     "text": [
      "Removing any existing indexes cases/case-50/index\n",
      "Creating new index: [gdi init cases/case-50/index]\n"
     ]
    },
    {
     "name": "stdout",
     "output_type": "stream",
     "text": [
      "Creating a new index took 2.84 seconds\n",
      "Analysis running: [gdi --project-dir cases/case-50/index --ncores 32 analysis --use-conda --no-load-data --reference-file references/NC_045512.gbk.gz --kmer-size 31 --kmer-size 51 --kmer-size 71 --include-kmer --reads-mincov 10 --input-structured-genomes-file cases/case-50/input-files-case.tsv]\n"
     ]
    },
    {
     "name": "stdout",
     "output_type": "stream",
     "text": [
      "Analysis took 2.65 minutes\n",
      "Index running: [gdi --project-dir cases/case-50/index --ncores 32 load vcf-kmer --sample-batch-size 2000 --reference-file references/NC_045512.gbk.gz /home/CSCScience.ca/apetkau/workspace/genomics-data-index-evaluation/evaluations/sars-cov-2/snakemake-assemblies.1646935921.2238815/gdi-input.fofn]\n"
     ]
    },
    {
     "name": "stdout",
     "output_type": "stream",
     "text": [
      "Indexing took 0.15 minutes\n",
      "Building tree: [gdi --project-dir cases/case-50/index --ncores 32 rebuild tree --align-type full --extra-params '--fast -m GTR+F+R4' NC_045512]\n"
     ]
    },
    {
     "name": "stdout",
     "output_type": "stream",
     "text": [
      "Building tree took 5.08 minutes\n"
     ]
    },
    {
     "name": "stderr",
     "output_type": "stream",
     "text": [
      "Attempting to set global database_path_translator=<genomics_data_index.storage.model.db.DatabasePathTranslator.DatabasePathTranslator object at 0x7f821ef23f10> but it is already set\n"
     ]
    },
    {
     "name": "stderr",
     "output_type": "stream",
     "text": [
      "A reminder to myself to look for a Python solution for directory sizes (instead of running `du`)\n"
     ]
    },
    {
     "name": "stdout",
     "output_type": "stream",
     "text": [
      "\n",
      "Iteration 3 of index/analysis of 50 samples with 32 cores\n",
      "Removing any extra snakemake directories: ['snakemake-assemblies.1646935921.2238815']\n"
     ]
    },
    {
     "name": "stdout",
     "output_type": "stream",
     "text": [
      "Removing any existing indexes cases/case-50/index\n",
      "Creating new index: [gdi init cases/case-50/index]\n"
     ]
    },
    {
     "name": "stdout",
     "output_type": "stream",
     "text": [
      "Creating a new index took 2.73 seconds\n",
      "Analysis running: [gdi --project-dir cases/case-50/index --ncores 32 analysis --use-conda --no-load-data --reference-file references/NC_045512.gbk.gz --kmer-size 31 --kmer-size 51 --kmer-size 71 --include-kmer --reads-mincov 10 --input-structured-genomes-file cases/case-50/input-files-case.tsv]\n"
     ]
    },
    {
     "name": "stdout",
     "output_type": "stream",
     "text": [
      "Analysis took 2.53 minutes\n",
      "Index running: [gdi --project-dir cases/case-50/index --ncores 32 load vcf-kmer --sample-batch-size 2000 --reference-file references/NC_045512.gbk.gz /home/CSCScience.ca/apetkau/workspace/genomics-data-index-evaluation/evaluations/sars-cov-2/snakemake-assemblies.1646936399.0579898/gdi-input.fofn]\n"
     ]
    },
    {
     "name": "stdout",
     "output_type": "stream",
     "text": [
      "Indexing took 0.15 minutes\n",
      "Building tree: [gdi --project-dir cases/case-50/index --ncores 32 rebuild tree --align-type full --extra-params '--fast -m GTR+F+R4' NC_045512]\n"
     ]
    },
    {
     "name": "stdout",
     "output_type": "stream",
     "text": [
      "Building tree took 3.79 minutes\n"
     ]
    },
    {
     "name": "stderr",
     "output_type": "stream",
     "text": [
      "Attempting to set global database_path_translator=<genomics_data_index.storage.model.db.DatabasePathTranslator.DatabasePathTranslator object at 0x7f821ef23ca0> but it is already set\n"
     ]
    },
    {
     "name": "stderr",
     "output_type": "stream",
     "text": [
      "A reminder to myself to look for a Python solution for directory sizes (instead of running `du`)\n"
     ]
    }
   ],
   "source": [
    "results_handler = gdi_benchmark.BenchmarkResultsHandler(name=case_name)\n",
    "benchmarker = gdi_benchmark.IndexBenchmarker(benchmark_results_handler=results_handler,\n",
    "                                             index_path=index_path, input_files_file=cases_input,\n",
    "                                             reference_file=reference_file, mincov=mincov,\n",
    "                                             build_tree=build_tree,\n",
    "                                             ncores=ncores,\n",
    "                                             sample_batch_size=sample_batch_size)\n",
    "\n",
    "benchmark_df = benchmarker.benchmark(iterations=iterations)"
   ]
  },
  {
   "cell_type": "code",
   "execution_count": 7,
   "id": "3bcb6da7-0164-47f2-abdd-a4c159da1e3b",
   "metadata": {
    "execution": {
     "iopub.execute_input": "2022-03-10T18:26:25.191786Z",
     "iopub.status.busy": "2022-03-10T18:26:25.191267Z",
     "iopub.status.idle": "2022-03-10T18:26:25.218667Z",
     "shell.execute_reply": "2022-03-10T18:26:25.219425Z"
    },
    "papermill": {
     "duration": 0.055219,
     "end_time": "2022-03-10T18:26:25.219658",
     "exception": false,
     "start_time": "2022-03-10T18:26:25.164439",
     "status": "completed"
    },
    "tags": []
   },
   "outputs": [
    {
     "data": {
      "text/html": [
       "<div>\n",
       "<style scoped>\n",
       "    .dataframe tbody tr th:only-of-type {\n",
       "        vertical-align: middle;\n",
       "    }\n",
       "\n",
       "    .dataframe tbody tr th {\n",
       "        vertical-align: top;\n",
       "    }\n",
       "\n",
       "    .dataframe thead th {\n",
       "        text-align: right;\n",
       "    }\n",
       "</style>\n",
       "<table border=\"1\" class=\"dataframe\">\n",
       "  <thead>\n",
       "    <tr style=\"text-align: right;\">\n",
       "      <th></th>\n",
       "      <th>Name</th>\n",
       "      <th>Reference name</th>\n",
       "      <th>Iteration</th>\n",
       "      <th>Number samples</th>\n",
       "      <th>Number features (all)</th>\n",
       "      <th>Number features (no unknown)</th>\n",
       "      <th>Number cores</th>\n",
       "      <th>Reference length</th>\n",
       "      <th>Analysis runtime</th>\n",
       "      <th>Analysis memory (max)</th>\n",
       "      <th>...</th>\n",
       "      <th>Analysis disk uage</th>\n",
       "      <th>Index runtime</th>\n",
       "      <th>Index memory (max)</th>\n",
       "      <th>Index memory (max/process)</th>\n",
       "      <th>Index size</th>\n",
       "      <th>Tree runtime</th>\n",
       "      <th>Tree memory (max)</th>\n",
       "      <th>Tree memory (max/process)</th>\n",
       "      <th>Total runtime</th>\n",
       "      <th>Max memory</th>\n",
       "    </tr>\n",
       "  </thead>\n",
       "  <tbody>\n",
       "    <tr>\n",
       "      <th>0</th>\n",
       "      <td>case-50</td>\n",
       "      <td>NC_045512</td>\n",
       "      <td>1</td>\n",
       "      <td>50</td>\n",
       "      <td>14275</td>\n",
       "      <td>162</td>\n",
       "      <td>32</td>\n",
       "      <td>29903</td>\n",
       "      <td>157.15</td>\n",
       "      <td>3.001360e+09</td>\n",
       "      <td>...</td>\n",
       "      <td>3.692294e+09</td>\n",
       "      <td>8.83</td>\n",
       "      <td>5.762060e+09</td>\n",
       "      <td>290013184.0</td>\n",
       "      <td>2830336.0</td>\n",
       "      <td>324.68</td>\n",
       "      <td>241909760.0</td>\n",
       "      <td>223068160.0</td>\n",
       "      <td>490.66</td>\n",
       "      <td>5.762060e+09</td>\n",
       "    </tr>\n",
       "    <tr>\n",
       "      <th>0</th>\n",
       "      <td>case-50</td>\n",
       "      <td>NC_045512</td>\n",
       "      <td>2</td>\n",
       "      <td>50</td>\n",
       "      <td>14275</td>\n",
       "      <td>162</td>\n",
       "      <td>32</td>\n",
       "      <td>29903</td>\n",
       "      <td>158.69</td>\n",
       "      <td>2.799186e+09</td>\n",
       "      <td>...</td>\n",
       "      <td>3.692298e+09</td>\n",
       "      <td>9.11</td>\n",
       "      <td>5.758132e+09</td>\n",
       "      <td>289828864.0</td>\n",
       "      <td>2826240.0</td>\n",
       "      <td>304.53</td>\n",
       "      <td>242122752.0</td>\n",
       "      <td>223449088.0</td>\n",
       "      <td>472.33</td>\n",
       "      <td>5.758132e+09</td>\n",
       "    </tr>\n",
       "    <tr>\n",
       "      <th>0</th>\n",
       "      <td>case-50</td>\n",
       "      <td>NC_045512</td>\n",
       "      <td>3</td>\n",
       "      <td>50</td>\n",
       "      <td>14275</td>\n",
       "      <td>162</td>\n",
       "      <td>32</td>\n",
       "      <td>29903</td>\n",
       "      <td>151.88</td>\n",
       "      <td>2.746917e+09</td>\n",
       "      <td>...</td>\n",
       "      <td>3.692294e+09</td>\n",
       "      <td>8.83</td>\n",
       "      <td>5.789590e+09</td>\n",
       "      <td>289337344.0</td>\n",
       "      <td>2826240.0</td>\n",
       "      <td>227.34</td>\n",
       "      <td>243326976.0</td>\n",
       "      <td>223334400.0</td>\n",
       "      <td>388.05</td>\n",
       "      <td>5.789590e+09</td>\n",
       "    </tr>\n",
       "  </tbody>\n",
       "</table>\n",
       "<p>3 rows × 21 columns</p>\n",
       "</div>"
      ],
      "text/plain": [
       "      Name Reference name  Iteration  Number samples  Number features (all)  \\\n",
       "0  case-50      NC_045512          1              50                  14275   \n",
       "0  case-50      NC_045512          2              50                  14275   \n",
       "0  case-50      NC_045512          3              50                  14275   \n",
       "\n",
       "   Number features (no unknown)  Number cores  Reference length  \\\n",
       "0                           162            32             29903   \n",
       "0                           162            32             29903   \n",
       "0                           162            32             29903   \n",
       "\n",
       "   Analysis runtime  Analysis memory (max)  ...  Analysis disk uage  \\\n",
       "0            157.15           3.001360e+09  ...        3.692294e+09   \n",
       "0            158.69           2.799186e+09  ...        3.692298e+09   \n",
       "0            151.88           2.746917e+09  ...        3.692294e+09   \n",
       "\n",
       "   Index runtime  Index memory (max)  Index memory (max/process)  Index size  \\\n",
       "0           8.83        5.762060e+09                 290013184.0   2830336.0   \n",
       "0           9.11        5.758132e+09                 289828864.0   2826240.0   \n",
       "0           8.83        5.789590e+09                 289337344.0   2826240.0   \n",
       "\n",
       "   Tree runtime  Tree memory (max)  Tree memory (max/process)  Total runtime  \\\n",
       "0        324.68        241909760.0                223068160.0         490.66   \n",
       "0        304.53        242122752.0                223449088.0         472.33   \n",
       "0        227.34        243326976.0                223334400.0         388.05   \n",
       "\n",
       "     Max memory  \n",
       "0  5.762060e+09  \n",
       "0  5.758132e+09  \n",
       "0  5.789590e+09  \n",
       "\n",
       "[3 rows x 21 columns]"
      ]
     },
     "execution_count": 7,
     "metadata": {},
     "output_type": "execute_result"
    }
   ],
   "source": [
    "benchmark_df"
   ]
  },
  {
   "cell_type": "code",
   "execution_count": 8,
   "id": "535a9ccc-ab9c-4919-806f-128e1efd2389",
   "metadata": {
    "execution": {
     "iopub.execute_input": "2022-03-10T18:26:25.257493Z",
     "iopub.status.busy": "2022-03-10T18:26:25.256642Z",
     "iopub.status.idle": "2022-03-10T18:26:25.260512Z",
     "shell.execute_reply": "2022-03-10T18:26:25.260171Z"
    },
    "papermill": {
     "duration": 0.021201,
     "end_time": "2022-03-10T18:26:25.260603",
     "exception": false,
     "start_time": "2022-03-10T18:26:25.239402",
     "status": "completed"
    },
    "tags": []
   },
   "outputs": [],
   "source": [
    "benchmark_df.to_csv(benchmark_path, sep='\\t', index=False)"
   ]
  },
  {
   "cell_type": "markdown",
   "id": "6cb7673b-9f85-4c43-b2e2-93538497a196",
   "metadata": {
    "papermill": {
     "duration": 0.010642,
     "end_time": "2022-03-10T18:26:25.284936",
     "exception": false,
     "start_time": "2022-03-10T18:26:25.274294",
     "status": "completed"
    },
    "tags": []
   },
   "source": [
    "# 3. Export trees"
   ]
  },
  {
   "cell_type": "code",
   "execution_count": 9,
   "id": "5280f82c-5434-4391-8c44-b937a7c95bd5",
   "metadata": {
    "execution": {
     "iopub.execute_input": "2022-03-10T18:26:25.313874Z",
     "iopub.status.busy": "2022-03-10T18:26:25.313386Z",
     "iopub.status.idle": "2022-03-10T18:26:28.189505Z",
     "shell.execute_reply": "2022-03-10T18:26:28.190468Z"
    },
    "papermill": {
     "duration": 2.895242,
     "end_time": "2022-03-10T18:26:28.190781",
     "exception": false,
     "start_time": "2022-03-10T18:26:25.295539",
     "status": "completed"
    },
    "tags": []
   },
   "outputs": [
    {
     "name": "stdout",
     "output_type": "stream",
     "text": [
      "Wrote tree to cases/case-50/tree.tre\n"
     ]
    }
   ],
   "source": [
    "if build_tree:\n",
    "    !gdi --project-dir {index_path} export tree {reference_name} > {output_tree}\n",
    "    print(f'Wrote tree to {output_tree}')\n",
    "else:\n",
    "    print(f'build_tree={build_tree} so no tree to export')"
   ]
  }
 ],
 "metadata": {
  "kernelspec": {
   "display_name": "Python 3 (ipykernel)",
   "language": "python",
   "name": "python3"
  },
  "language_info": {
   "codemirror_mode": {
    "name": "ipython",
    "version": 3
   },
   "file_extension": ".py",
   "mimetype": "text/x-python",
   "name": "python",
   "nbconvert_exporter": "python",
   "pygments_lexer": "ipython3",
   "version": "3.8.12"
  },
  "papermill": {
   "default_parameters": {},
   "duration": 1378.818426,
   "end_time": "2022-03-10T18:26:28.729097",
   "environment_variables": {},
   "exception": null,
   "input_path": "template-3-index-genomes.ipynb",
   "output_path": "3-index-genomes.case-50.ipynb",
   "parameters": {
    "build_tree": true,
    "cases_dir": "cases/case-50",
    "iterations": 3,
    "number_samples": 50
   },
   "start_time": "2022-03-10T18:03:29.910671",
   "version": "2.3.3"
  }
 },
 "nbformat": 4,
 "nbformat_minor": 5
}