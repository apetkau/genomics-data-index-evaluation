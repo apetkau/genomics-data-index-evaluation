{
 "cells": [
  {
   "cell_type": "markdown",
   "id": "7d3667b4-b1f8-4347-96e3-830c25b06740",
   "metadata": {
    "papermill": {
     "duration": 0.015744,
     "end_time": "2021-09-08T19:55:31.418409",
     "exception": false,
     "start_time": "2021-09-08T19:55:31.402665",
     "status": "completed"
    },
    "tags": []
   },
   "source": [
    "# 1. Parameters"
   ]
  },
  {
   "cell_type": "code",
   "execution_count": 1,
   "id": "d4ab0749-b286-4c34-b63c-a854e4952bae",
   "metadata": {
    "execution": {
     "iopub.execute_input": "2021-09-08T19:55:31.450048Z",
     "iopub.status.busy": "2021-09-08T19:55:31.449504Z",
     "iopub.status.idle": "2021-09-08T19:55:31.455266Z",
     "shell.execute_reply": "2021-09-08T19:55:31.456156Z"
    },
    "papermill": {
     "duration": 0.028578,
     "end_time": "2021-09-08T19:55:31.456580",
     "exception": false,
     "start_time": "2021-09-08T19:55:31.428002",
     "status": "completed"
    },
    "tags": [
     "parameters"
    ]
   },
   "outputs": [],
   "source": [
    "# Defaults\n",
    "cases_dir = 'cases/unset'\n",
    "reference_file = 'references/NC_045512.gbk.gz'\n",
    "input_files_all = 'input/input-files.tsv'\n",
    "iterations = 3\n",
    "mincov = 10\n",
    "ncores = 32\n",
    "number_samples = 10\n",
    "build_tree = False"
   ]
  },
  {
   "cell_type": "code",
   "execution_count": 2,
   "id": "8828ba01",
   "metadata": {
    "execution": {
     "iopub.execute_input": "2021-09-08T19:55:31.486751Z",
     "iopub.status.busy": "2021-09-08T19:55:31.486271Z",
     "iopub.status.idle": "2021-09-08T19:55:31.489828Z",
     "shell.execute_reply": "2021-09-08T19:55:31.489447Z"
    },
    "papermill": {
     "duration": 0.018404,
     "end_time": "2021-09-08T19:55:31.489936",
     "exception": false,
     "start_time": "2021-09-08T19:55:31.471532",
     "status": "completed"
    },
    "tags": [
     "injected-parameters"
    ]
   },
   "outputs": [],
   "source": [
    "# Parameters\n",
    "cases_dir = \"cases/case-50\"\n",
    "iterations = 3\n",
    "number_samples = 50\n",
    "build_tree = True\n"
   ]
  },
  {
   "cell_type": "code",
   "execution_count": 3,
   "id": "ce5962e4-261c-4210-b39b-47044e28466b",
   "metadata": {
    "execution": {
     "iopub.execute_input": "2021-09-08T19:55:31.517495Z",
     "iopub.status.busy": "2021-09-08T19:55:31.516989Z",
     "iopub.status.idle": "2021-09-08T19:55:33.997196Z",
     "shell.execute_reply": "2021-09-08T19:55:33.998169Z"
    },
    "papermill": {
     "duration": 2.5007,
     "end_time": "2021-09-08T19:55:33.998486",
     "exception": false,
     "start_time": "2021-09-08T19:55:31.497786",
     "status": "completed"
    },
    "tags": []
   },
   "outputs": [],
   "source": [
    "from pathlib import Path\n",
    "from shutil import rmtree\n",
    "from os import makedirs\n",
    "import imp\n",
    "fp, pathname, description = imp.find_module('gdi_benchmark', ['../../lib'])\n",
    "gdi_benchmark = imp.load_module('gdi_benchmark', fp, pathname, description)\n",
    "\n",
    "cases_dir_path = Path(cases_dir)\n",
    "\n",
    "if cases_dir_path.exists():\n",
    "    rmtree(cases_dir_path)\n",
    "    \n",
    "if not cases_dir_path.exists():\n",
    "    makedirs(cases_dir_path)\n",
    "\n",
    "input_files_all = Path(input_files_all)\n",
    "reference_file = Path(reference_file)\n",
    "\n",
    "case_name = str(cases_dir_path.name)\n",
    "reference_name = reference_file.name.split('.')[0]\n",
    "\n",
    "cases_input = cases_dir_path / 'input-files-case.tsv'\n",
    "index_path = cases_dir_path / 'index'\n",
    "benchmark_path = cases_dir_path / 'index-info.tsv'\n",
    "output_tree = cases_dir_path / 'tree.tre'"
   ]
  },
  {
   "cell_type": "markdown",
   "id": "1673d80f-b52a-4b68-b400-355540495e15",
   "metadata": {
    "papermill": {
     "duration": 0.009292,
     "end_time": "2021-09-08T19:55:34.023183",
     "exception": false,
     "start_time": "2021-09-08T19:55:34.013891",
     "status": "completed"
    },
    "tags": []
   },
   "source": [
    "# 2. Create subset input"
   ]
  },
  {
   "cell_type": "code",
   "execution_count": 4,
   "id": "4e66adb1-3ef7-45d1-8e46-723dcb9d0c31",
   "metadata": {
    "execution": {
     "iopub.execute_input": "2021-09-08T19:55:34.044574Z",
     "iopub.status.busy": "2021-09-08T19:55:34.044110Z",
     "iopub.status.idle": "2021-09-08T19:55:34.273057Z",
     "shell.execute_reply": "2021-09-08T19:55:34.273960Z"
    },
    "papermill": {
     "duration": 0.24446,
     "end_time": "2021-09-08T19:55:34.274275",
     "exception": false,
     "start_time": "2021-09-08T19:55:34.029815",
     "status": "completed"
    },
    "tags": []
   },
   "outputs": [
    {
     "name": "stdout",
     "output_type": "stream",
     "text": [
      "Wrote 50/100000 samples to cases/case-50/input-files-case.tsv\n"
     ]
    }
   ],
   "source": [
    "import pandas as pd\n",
    "\n",
    "all_input_df = pd.read_csv(input_files_all, sep='\\t')\n",
    "all_input_total = len(all_input_df)\n",
    "\n",
    "subset_input_df = all_input_df.head(number_samples)\n",
    "subset_input_total = len(subset_input_df)\n",
    "\n",
    "subset_input_df.to_csv(cases_input, sep='\\t', index=False)\n",
    "\n",
    "print(f'Wrote {subset_input_total}/{all_input_total} samples to {cases_input}')"
   ]
  },
  {
   "cell_type": "markdown",
   "id": "f208279e-7558-47fc-9362-da29df92828a",
   "metadata": {
    "papermill": {
     "duration": 0.008681,
     "end_time": "2021-09-08T19:55:34.297449",
     "exception": false,
     "start_time": "2021-09-08T19:55:34.288768",
     "status": "completed"
    },
    "tags": []
   },
   "source": [
    "# 2. Index genomes"
   ]
  },
  {
   "cell_type": "code",
   "execution_count": 5,
   "id": "4e936f7c-2fcd-4188-b0e6-6b3ceb5cdcd2",
   "metadata": {
    "execution": {
     "iopub.execute_input": "2021-09-08T19:55:34.315216Z",
     "iopub.status.busy": "2021-09-08T19:55:34.314221Z",
     "iopub.status.idle": "2021-09-08T19:55:37.130064Z",
     "shell.execute_reply": "2021-09-08T19:55:37.129017Z"
    },
    "papermill": {
     "duration": 2.82613,
     "end_time": "2021-09-08T19:55:37.130331",
     "exception": false,
     "start_time": "2021-09-08T19:55:34.304201",
     "status": "completed"
    },
    "tags": []
   },
   "outputs": [
    {
     "name": "stdout",
     "output_type": "stream",
     "text": [
      "gdi, version 0.3.0.dev12\r\n"
     ]
    }
   ],
   "source": [
    "!gdi --version"
   ]
  },
  {
   "cell_type": "markdown",
   "id": "5409ecf8-2158-4361-9d2f-6b1a6c7c63a6",
   "metadata": {
    "papermill": {
     "duration": 0.009919,
     "end_time": "2021-09-08T19:55:37.156973",
     "exception": false,
     "start_time": "2021-09-08T19:55:37.147054",
     "status": "completed"
    },
    "tags": []
   },
   "source": [
    "## 2.1. Index reads"
   ]
  },
  {
   "cell_type": "code",
   "execution_count": 6,
   "id": "3d63e861-733e-46f2-8bce-bd1a2c7c7058",
   "metadata": {
    "execution": {
     "iopub.execute_input": "2021-09-08T19:55:37.182913Z",
     "iopub.status.busy": "2021-09-08T19:55:37.178785Z",
     "iopub.status.idle": "2021-09-08T20:18:47.011674Z",
     "shell.execute_reply": "2021-09-08T20:18:47.010470Z"
    },
    "papermill": {
     "duration": 1389.847976,
     "end_time": "2021-09-08T20:18:47.012249",
     "exception": false,
     "start_time": "2021-09-08T19:55:37.164273",
     "status": "completed"
    },
    "tags": []
   },
   "outputs": [
    {
     "name": "stdout",
     "output_type": "stream",
     "text": [
      "\n",
      "Iteration 1 of index/analysis of 50 samples with 32 cores\n",
      "Removing any extra snakemake directories: ['snakemake-assemblies.1631130674.5467927']\n"
     ]
    },
    {
     "name": "stdout",
     "output_type": "stream",
     "text": [
      "Creating new index: [gdi init cases/case-50/index]\n"
     ]
    },
    {
     "name": "stdout",
     "output_type": "stream",
     "text": [
      "Creating a new index took 2.89 seconds\n",
      "Analysis running: [gdi --project-dir cases/case-50/index --ncores 32 analysis --use-conda --no-load-data --reference-file references/NC_045512.gbk.gz --kmer-size 31 --kmer-size 51 --kmer-size 71 --include-kmer --reads-mincov 10 --input-structured-genomes-file cases/case-50/input-files-case.tsv]\n"
     ]
    },
    {
     "name": "stdout",
     "output_type": "stream",
     "text": [
      "Analysis took 2.46 minutes\n",
      "Index running: [gdi --project-dir cases/case-50/index --ncores 32 load vcf-kmer --reference-file references/NC_045512.gbk.gz /home/CSCScience.ca/apetkau/workspace/genomics-data-index-evaluation/evaluations/sars-cov-2/snakemake-assemblies.1631130944.7688665/gdi-input.fofn]\n"
     ]
    },
    {
     "name": "stdout",
     "output_type": "stream",
     "text": [
      "Indexing took 0.15 minutes\n",
      "Building tree: [gdi --project-dir cases/case-50/index --ncores 32 rebuild tree --align-type full --extra-params '--fast -m GTR+F+R4' NC_045512]\n"
     ]
    },
    {
     "name": "stdout",
     "output_type": "stream",
     "text": [
      "Building tree took 5.55 minutes\n"
     ]
    },
    {
     "name": "stderr",
     "output_type": "stream",
     "text": [
      "A reminder to myself to look for a Python solution for directory sizes (instead of running `du`)\n"
     ]
    },
    {
     "name": "stdout",
     "output_type": "stream",
     "text": [
      "\n",
      "Iteration 2 of index/analysis of 50 samples with 32 cores\n",
      "Removing any extra snakemake directories: ['snakemake-assemblies.1631130944.7688665']\n"
     ]
    },
    {
     "name": "stdout",
     "output_type": "stream",
     "text": [
      "Removing any existing indexes cases/case-50/index\n",
      "Creating new index: [gdi init cases/case-50/index]\n"
     ]
    },
    {
     "name": "stdout",
     "output_type": "stream",
     "text": [
      "Creating a new index took 2.87 seconds\n",
      "Analysis running: [gdi --project-dir cases/case-50/index --ncores 32 analysis --use-conda --no-load-data --reference-file references/NC_045512.gbk.gz --kmer-size 31 --kmer-size 51 --kmer-size 71 --include-kmer --reads-mincov 10 --input-structured-genomes-file cases/case-50/input-files-case.tsv]\n"
     ]
    },
    {
     "name": "stdout",
     "output_type": "stream",
     "text": [
      "Analysis took 2.43 minutes\n",
      "Index running: [gdi --project-dir cases/case-50/index --ncores 32 load vcf-kmer --reference-file references/NC_045512.gbk.gz /home/CSCScience.ca/apetkau/workspace/genomics-data-index-evaluation/evaluations/sars-cov-2/snakemake-assemblies.1631131439.2061064/gdi-input.fofn]\n"
     ]
    },
    {
     "name": "stdout",
     "output_type": "stream",
     "text": [
      "Indexing took 0.14 minutes\n",
      "Building tree: [gdi --project-dir cases/case-50/index --ncores 32 rebuild tree --align-type full --extra-params '--fast -m GTR+F+R4' NC_045512]\n"
     ]
    },
    {
     "name": "stdout",
     "output_type": "stream",
     "text": [
      "Building tree took 5.48 minutes\n"
     ]
    },
    {
     "name": "stderr",
     "output_type": "stream",
     "text": [
      "Attempting to set global database_path_translator=<genomics_data_index.storage.model.db.DatabasePathTranslator.DatabasePathTranslator object at 0x7f837bee47c0> but it is already set\n"
     ]
    },
    {
     "name": "stderr",
     "output_type": "stream",
     "text": [
      "A reminder to myself to look for a Python solution for directory sizes (instead of running `du`)\n"
     ]
    },
    {
     "name": "stdout",
     "output_type": "stream",
     "text": [
      "\n",
      "Iteration 3 of index/analysis of 50 samples with 32 cores\n",
      "Removing any extra snakemake directories: ['snakemake-assemblies.1631131439.2061064']\n"
     ]
    },
    {
     "name": "stdout",
     "output_type": "stream",
     "text": [
      "Removing any existing indexes cases/case-50/index\n",
      "Creating new index: [gdi init cases/case-50/index]\n"
     ]
    },
    {
     "name": "stdout",
     "output_type": "stream",
     "text": [
      "Creating a new index took 2.78 seconds\n",
      "Analysis running: [gdi --project-dir cases/case-50/index --ncores 32 analysis --use-conda --no-load-data --reference-file references/NC_045512.gbk.gz --kmer-size 31 --kmer-size 51 --kmer-size 71 --include-kmer --reads-mincov 10 --input-structured-genomes-file cases/case-50/input-files-case.tsv]\n"
     ]
    },
    {
     "name": "stdout",
     "output_type": "stream",
     "text": [
      "Analysis took 2.47 minutes\n",
      "Index running: [gdi --project-dir cases/case-50/index --ncores 32 load vcf-kmer --reference-file references/NC_045512.gbk.gz /home/CSCScience.ca/apetkau/workspace/genomics-data-index-evaluation/evaluations/sars-cov-2/snakemake-assemblies.1631131927.2362926/gdi-input.fofn]\n"
     ]
    },
    {
     "name": "stdout",
     "output_type": "stream",
     "text": [
      "Indexing took 0.14 minutes\n",
      "Building tree: [gdi --project-dir cases/case-50/index --ncores 32 rebuild tree --align-type full --extra-params '--fast -m GTR+F+R4' NC_045512]\n"
     ]
    },
    {
     "name": "stdout",
     "output_type": "stream",
     "text": [
      "Building tree took 4.09 minutes\n"
     ]
    },
    {
     "name": "stderr",
     "output_type": "stream",
     "text": [
      "Attempting to set global database_path_translator=<genomics_data_index.storage.model.db.DatabasePathTranslator.DatabasePathTranslator object at 0x7f83b0aa7a60> but it is already set\n"
     ]
    },
    {
     "name": "stderr",
     "output_type": "stream",
     "text": [
      "A reminder to myself to look for a Python solution for directory sizes (instead of running `du`)\n"
     ]
    }
   ],
   "source": [
    "results_handler = gdi_benchmark.BenchmarkResultsHandler(name=case_name)\n",
    "benchmarker = gdi_benchmark.IndexBenchmarker(benchmark_results_handler=results_handler,\n",
    "                                             index_path=index_path, input_files_file=cases_input,\n",
    "                                             reference_file=reference_file, mincov=mincov,\n",
    "                                             build_tree=build_tree,\n",
    "                                             ncores=ncores)\n",
    "\n",
    "benchmark_df = benchmarker.benchmark(iterations=iterations)"
   ]
  },
  {
   "cell_type": "code",
   "execution_count": 7,
   "id": "3bcb6da7-0164-47f2-abdd-a4c159da1e3b",
   "metadata": {
    "execution": {
     "iopub.execute_input": "2021-09-08T20:18:47.074213Z",
     "iopub.status.busy": "2021-09-08T20:18:47.059172Z",
     "iopub.status.idle": "2021-09-08T20:18:47.087828Z",
     "shell.execute_reply": "2021-09-08T20:18:47.088735Z"
    },
    "papermill": {
     "duration": 0.053227,
     "end_time": "2021-09-08T20:18:47.089009",
     "exception": false,
     "start_time": "2021-09-08T20:18:47.035782",
     "status": "completed"
    },
    "tags": []
   },
   "outputs": [
    {
     "data": {
      "text/html": [
       "<div>\n",
       "<style scoped>\n",
       "    .dataframe tbody tr th:only-of-type {\n",
       "        vertical-align: middle;\n",
       "    }\n",
       "\n",
       "    .dataframe tbody tr th {\n",
       "        vertical-align: top;\n",
       "    }\n",
       "\n",
       "    .dataframe thead th {\n",
       "        text-align: right;\n",
       "    }\n",
       "</style>\n",
       "<table border=\"1\" class=\"dataframe\">\n",
       "  <thead>\n",
       "    <tr style=\"text-align: right;\">\n",
       "      <th></th>\n",
       "      <th>Name</th>\n",
       "      <th>Iteration</th>\n",
       "      <th>Number samples</th>\n",
       "      <th>Number features (all)</th>\n",
       "      <th>Number features (no unknown)</th>\n",
       "      <th>Number cores</th>\n",
       "      <th>Reference length</th>\n",
       "      <th>Analysis runtime</th>\n",
       "      <th>Analysis memory (max)</th>\n",
       "      <th>Analysis memory (max/process)</th>\n",
       "      <th>Analysis disk uage</th>\n",
       "      <th>Index runtime</th>\n",
       "      <th>Index memory (max)</th>\n",
       "      <th>Index memory (max/process)</th>\n",
       "      <th>Index size</th>\n",
       "      <th>Tree runtime</th>\n",
       "      <th>Tree memory (max)</th>\n",
       "      <th>Tree memory (max/process)</th>\n",
       "      <th>Total runtime</th>\n",
       "      <th>Max memory</th>\n",
       "    </tr>\n",
       "  </thead>\n",
       "  <tbody>\n",
       "    <tr>\n",
       "      <th>0</th>\n",
       "      <td>case-50</td>\n",
       "      <td>1</td>\n",
       "      <td>50</td>\n",
       "      <td>14275</td>\n",
       "      <td>162</td>\n",
       "      <td>32</td>\n",
       "      <td>29903</td>\n",
       "      <td>147.39</td>\n",
       "      <td>2.448384e+09</td>\n",
       "      <td>366915584.0</td>\n",
       "      <td>3.458933e+09</td>\n",
       "      <td>8.70</td>\n",
       "      <td>5.635178e+09</td>\n",
       "      <td>288653312.0</td>\n",
       "      <td>2826240.0</td>\n",
       "      <td>332.90</td>\n",
       "      <td>239005696.0</td>\n",
       "      <td>220856320.0</td>\n",
       "      <td>488.99</td>\n",
       "      <td>5.635178e+09</td>\n",
       "    </tr>\n",
       "    <tr>\n",
       "      <th>0</th>\n",
       "      <td>case-50</td>\n",
       "      <td>2</td>\n",
       "      <td>50</td>\n",
       "      <td>14275</td>\n",
       "      <td>162</td>\n",
       "      <td>32</td>\n",
       "      <td>29903</td>\n",
       "      <td>145.46</td>\n",
       "      <td>2.502709e+09</td>\n",
       "      <td>374923264.0</td>\n",
       "      <td>3.458933e+09</td>\n",
       "      <td>8.48</td>\n",
       "      <td>5.639938e+09</td>\n",
       "      <td>287199232.0</td>\n",
       "      <td>2822144.0</td>\n",
       "      <td>328.71</td>\n",
       "      <td>240881664.0</td>\n",
       "      <td>221532160.0</td>\n",
       "      <td>482.65</td>\n",
       "      <td>5.639938e+09</td>\n",
       "    </tr>\n",
       "    <tr>\n",
       "      <th>0</th>\n",
       "      <td>case-50</td>\n",
       "      <td>3</td>\n",
       "      <td>50</td>\n",
       "      <td>14275</td>\n",
       "      <td>162</td>\n",
       "      <td>32</td>\n",
       "      <td>29903</td>\n",
       "      <td>147.87</td>\n",
       "      <td>2.466849e+09</td>\n",
       "      <td>375984128.0</td>\n",
       "      <td>3.458937e+09</td>\n",
       "      <td>8.49</td>\n",
       "      <td>5.626708e+09</td>\n",
       "      <td>287027200.0</td>\n",
       "      <td>2822144.0</td>\n",
       "      <td>245.36</td>\n",
       "      <td>239251456.0</td>\n",
       "      <td>221294592.0</td>\n",
       "      <td>401.72</td>\n",
       "      <td>5.626708e+09</td>\n",
       "    </tr>\n",
       "  </tbody>\n",
       "</table>\n",
       "</div>"
      ],
      "text/plain": [
       "      Name  Iteration  Number samples  Number features (all)  \\\n",
       "0  case-50          1              50                  14275   \n",
       "0  case-50          2              50                  14275   \n",
       "0  case-50          3              50                  14275   \n",
       "\n",
       "   Number features (no unknown)  Number cores  Reference length  \\\n",
       "0                           162            32             29903   \n",
       "0                           162            32             29903   \n",
       "0                           162            32             29903   \n",
       "\n",
       "   Analysis runtime  Analysis memory (max)  Analysis memory (max/process)  \\\n",
       "0            147.39           2.448384e+09                    366915584.0   \n",
       "0            145.46           2.502709e+09                    374923264.0   \n",
       "0            147.87           2.466849e+09                    375984128.0   \n",
       "\n",
       "   Analysis disk uage  Index runtime  Index memory (max)  \\\n",
       "0        3.458933e+09           8.70        5.635178e+09   \n",
       "0        3.458933e+09           8.48        5.639938e+09   \n",
       "0        3.458937e+09           8.49        5.626708e+09   \n",
       "\n",
       "   Index memory (max/process)  Index size  Tree runtime  Tree memory (max)  \\\n",
       "0                 288653312.0   2826240.0        332.90        239005696.0   \n",
       "0                 287199232.0   2822144.0        328.71        240881664.0   \n",
       "0                 287027200.0   2822144.0        245.36        239251456.0   \n",
       "\n",
       "   Tree memory (max/process)  Total runtime    Max memory  \n",
       "0                220856320.0         488.99  5.635178e+09  \n",
       "0                221532160.0         482.65  5.639938e+09  \n",
       "0                221294592.0         401.72  5.626708e+09  "
      ]
     },
     "execution_count": 7,
     "metadata": {},
     "output_type": "execute_result"
    }
   ],
   "source": [
    "benchmark_df"
   ]
  },
  {
   "cell_type": "code",
   "execution_count": 8,
   "id": "535a9ccc-ab9c-4919-806f-128e1efd2389",
   "metadata": {
    "execution": {
     "iopub.execute_input": "2021-09-08T20:18:47.127550Z",
     "iopub.status.busy": "2021-09-08T20:18:47.125262Z",
     "iopub.status.idle": "2021-09-08T20:18:47.130995Z",
     "shell.execute_reply": "2021-09-08T20:18:47.131284Z"
    },
    "papermill": {
     "duration": 0.022836,
     "end_time": "2021-09-08T20:18:47.131383",
     "exception": false,
     "start_time": "2021-09-08T20:18:47.108547",
     "status": "completed"
    },
    "tags": []
   },
   "outputs": [],
   "source": [
    "benchmark_df.to_csv(benchmark_path, sep='\\t', index=False)"
   ]
  },
  {
   "cell_type": "markdown",
   "id": "6cb7673b-9f85-4c43-b2e2-93538497a196",
   "metadata": {
    "papermill": {
     "duration": 0.010054,
     "end_time": "2021-09-08T20:18:47.153836",
     "exception": false,
     "start_time": "2021-09-08T20:18:47.143782",
     "status": "completed"
    },
    "tags": []
   },
   "source": [
    "# 3. Export trees"
   ]
  },
  {
   "cell_type": "code",
   "execution_count": 9,
   "id": "5280f82c-5434-4391-8c44-b937a7c95bd5",
   "metadata": {
    "execution": {
     "iopub.execute_input": "2021-09-08T20:18:47.191850Z",
     "iopub.status.busy": "2021-09-08T20:18:47.181660Z",
     "iopub.status.idle": "2021-09-08T20:18:50.070489Z",
     "shell.execute_reply": "2021-09-08T20:18:50.071354Z"
    },
    "papermill": {
     "duration": 2.90795,
     "end_time": "2021-09-08T20:18:50.071694",
     "exception": false,
     "start_time": "2021-09-08T20:18:47.163744",
     "status": "completed"
    },
    "tags": []
   },
   "outputs": [
    {
     "name": "stdout",
     "output_type": "stream",
     "text": [
      "Wrote tree to cases/case-50/tree.tre\n"
     ]
    }
   ],
   "source": [
    "if build_tree:\n",
    "    !gdi --project-dir {index_path} export tree {reference_name} > {output_tree}\n",
    "    print(f'Wrote tree to {output_tree}')\n",
    "else:\n",
    "    print(f'build_tree={build_tree} so no tree to export')"
   ]
  }
 ],
 "metadata": {
  "kernelspec": {
   "display_name": "Python 3 (ipykernel)",
   "language": "python",
   "name": "python3"
  },
  "language_info": {
   "codemirror_mode": {
    "name": "ipython",
    "version": 3
   },
   "file_extension": ".py",
   "mimetype": "text/x-python",
   "name": "python",
   "nbconvert_exporter": "python",
   "pygments_lexer": "ipython3",
   "version": "3.8.10"
  },
  "papermill": {
   "default_parameters": {},
   "duration": 1400.727911,
   "end_time": "2021-09-08T20:18:51.320070",
   "environment_variables": {},
   "exception": null,
   "input_path": "template-3-index-genomes.ipynb",
   "output_path": "3-index-genomes.case-50.ipynb",
   "parameters": {
    "build_tree": true,
    "cases_dir": "cases/case-50",
    "iterations": 3,
    "number_samples": 50
   },
   "start_time": "2021-09-08T19:55:30.592159",
   "version": "2.3.3"
  }
 },
 "nbformat": 4,
 "nbformat_minor": 5
}