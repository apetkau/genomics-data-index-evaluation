{
 "cells": [
  {
   "cell_type": "markdown",
   "id": "7d3667b4-b1f8-4347-96e3-830c25b06740",
   "metadata": {
    "papermill": {
     "duration": 0.016019,
     "end_time": "2021-09-07T19:04:28.634217",
     "exception": false,
     "start_time": "2021-09-07T19:04:28.618198",
     "status": "completed"
    },
    "tags": []
   },
   "source": [
    "# 1. Parameters"
   ]
  },
  {
   "cell_type": "code",
   "execution_count": 1,
   "id": "d4ab0749-b286-4c34-b63c-a854e4952bae",
   "metadata": {
    "execution": {
     "iopub.execute_input": "2021-09-07T19:04:28.665407Z",
     "iopub.status.busy": "2021-09-07T19:04:28.664269Z",
     "iopub.status.idle": "2021-09-07T19:04:28.670467Z",
     "shell.execute_reply": "2021-09-07T19:04:28.671320Z"
    },
    "papermill": {
     "duration": 0.027968,
     "end_time": "2021-09-07T19:04:28.671774",
     "exception": false,
     "start_time": "2021-09-07T19:04:28.643806",
     "status": "completed"
    },
    "tags": [
     "parameters"
    ]
   },
   "outputs": [],
   "source": [
    "# Defaults\n",
    "cases_dir = 'cases/unset'\n",
    "reference_file = 'references/NC_045512.gbk.gz'\n",
    "input_files_all = 'input/input-files.tsv'\n",
    "iterations = 3\n",
    "mincov = 10\n",
    "ncores = 32\n",
    "number_samples = 10"
   ]
  },
  {
   "cell_type": "code",
   "execution_count": 2,
   "id": "98c6cc49",
   "metadata": {
    "execution": {
     "iopub.execute_input": "2021-09-07T19:04:28.700207Z",
     "iopub.status.busy": "2021-09-07T19:04:28.699727Z",
     "iopub.status.idle": "2021-09-07T19:04:28.702963Z",
     "shell.execute_reply": "2021-09-07T19:04:28.703439Z"
    },
    "papermill": {
     "duration": 0.018236,
     "end_time": "2021-09-07T19:04:28.703618",
     "exception": false,
     "start_time": "2021-09-07T19:04:28.685382",
     "status": "completed"
    },
    "tags": [
     "injected-parameters"
    ]
   },
   "outputs": [],
   "source": [
    "# Parameters\n",
    "cases_dir = \"cases/case-50\"\n",
    "iterations = 3\n",
    "number_samples = 50\n"
   ]
  },
  {
   "cell_type": "code",
   "execution_count": 3,
   "id": "ce5962e4-261c-4210-b39b-47044e28466b",
   "metadata": {
    "execution": {
     "iopub.execute_input": "2021-09-07T19:04:28.730239Z",
     "iopub.status.busy": "2021-09-07T19:04:28.729200Z",
     "iopub.status.idle": "2021-09-07T19:04:31.184218Z",
     "shell.execute_reply": "2021-09-07T19:04:31.183158Z"
    },
    "papermill": {
     "duration": 2.472166,
     "end_time": "2021-09-07T19:04:31.184476",
     "exception": false,
     "start_time": "2021-09-07T19:04:28.712310",
     "status": "completed"
    },
    "tags": []
   },
   "outputs": [],
   "source": [
    "from pathlib import Path\n",
    "from shutil import rmtree\n",
    "from os import makedirs\n",
    "import imp\n",
    "fp, pathname, description = imp.find_module('gdi_benchmark', ['../../lib'])\n",
    "gdi_benchmark = imp.load_module('gdi_benchmark', fp, pathname, description)\n",
    "\n",
    "cases_dir_path = Path(cases_dir)\n",
    "\n",
    "if cases_dir_path.exists():\n",
    "    rmtree(cases_dir_path)\n",
    "    \n",
    "if not cases_dir_path.exists():\n",
    "    makedirs(cases_dir_path)\n",
    "\n",
    "input_files_all = Path(input_files_all)\n",
    "reference_file = Path(reference_file)\n",
    "\n",
    "case_name = str(cases_dir_path.name)\n",
    "reference_name = reference_file.name.split('.')[0]\n",
    "\n",
    "cases_input = cases_dir_path / 'input-files-case.tsv'\n",
    "index_path = cases_dir_path / 'index'\n",
    "benchmark_path = cases_dir_path / 'index-info.tsv'\n",
    "output_tree = cases_dir_path / 'tree.tre'"
   ]
  },
  {
   "cell_type": "markdown",
   "id": "1673d80f-b52a-4b68-b400-355540495e15",
   "metadata": {
    "papermill": {
     "duration": 0.008114,
     "end_time": "2021-09-07T19:04:31.206088",
     "exception": false,
     "start_time": "2021-09-07T19:04:31.197974",
     "status": "completed"
    },
    "tags": []
   },
   "source": [
    "# 2. Create subset input"
   ]
  },
  {
   "cell_type": "code",
   "execution_count": 4,
   "id": "4e66adb1-3ef7-45d1-8e46-723dcb9d0c31",
   "metadata": {
    "execution": {
     "iopub.execute_input": "2021-09-07T19:04:31.225896Z",
     "iopub.status.busy": "2021-09-07T19:04:31.225499Z",
     "iopub.status.idle": "2021-09-07T19:04:31.266706Z",
     "shell.execute_reply": "2021-09-07T19:04:31.267617Z"
    },
    "papermill": {
     "duration": 0.05516,
     "end_time": "2021-09-07T19:04:31.267910",
     "exception": false,
     "start_time": "2021-09-07T19:04:31.212750",
     "status": "completed"
    },
    "tags": []
   },
   "outputs": [
    {
     "name": "stdout",
     "output_type": "stream",
     "text": [
      "Wrote 50/10000 samples to cases/case-50/input-files-case.tsv\n"
     ]
    }
   ],
   "source": [
    "import pandas as pd\n",
    "\n",
    "all_input_df = pd.read_csv(input_files_all, sep='\\t')\n",
    "all_input_total = len(all_input_df)\n",
    "\n",
    "subset_input_df = all_input_df.head(number_samples)\n",
    "subset_input_total = len(subset_input_df)\n",
    "\n",
    "subset_input_df.to_csv(cases_input, sep='\\t', index=False)\n",
    "\n",
    "print(f'Wrote {subset_input_total}/{all_input_total} samples to {cases_input}')"
   ]
  },
  {
   "cell_type": "markdown",
   "id": "f208279e-7558-47fc-9362-da29df92828a",
   "metadata": {
    "papermill": {
     "duration": 0.008099,
     "end_time": "2021-09-07T19:04:31.288901",
     "exception": false,
     "start_time": "2021-09-07T19:04:31.280802",
     "status": "completed"
    },
    "tags": []
   },
   "source": [
    "# 2. Index genomes"
   ]
  },
  {
   "cell_type": "code",
   "execution_count": 5,
   "id": "4e936f7c-2fcd-4188-b0e6-6b3ceb5cdcd2",
   "metadata": {
    "execution": {
     "iopub.execute_input": "2021-09-07T19:04:31.303848Z",
     "iopub.status.busy": "2021-09-07T19:04:31.303428Z",
     "iopub.status.idle": "2021-09-07T19:04:34.099704Z",
     "shell.execute_reply": "2021-09-07T19:04:34.100566Z"
    },
    "papermill": {
     "duration": 2.805627,
     "end_time": "2021-09-07T19:04:34.100902",
     "exception": false,
     "start_time": "2021-09-07T19:04:31.295275",
     "status": "completed"
    },
    "tags": []
   },
   "outputs": [
    {
     "name": "stdout",
     "output_type": "stream",
     "text": [
      "gdi, version 0.3.0.dev10\r\n"
     ]
    }
   ],
   "source": [
    "!gdi --version"
   ]
  },
  {
   "cell_type": "markdown",
   "id": "5409ecf8-2158-4361-9d2f-6b1a6c7c63a6",
   "metadata": {
    "papermill": {
     "duration": 0.009346,
     "end_time": "2021-09-07T19:04:34.125914",
     "exception": false,
     "start_time": "2021-09-07T19:04:34.116568",
     "status": "completed"
    },
    "tags": []
   },
   "source": [
    "## 2.1. Index reads"
   ]
  },
  {
   "cell_type": "code",
   "execution_count": 6,
   "id": "3d63e861-733e-46f2-8bce-bd1a2c7c7058",
   "metadata": {
    "execution": {
     "iopub.execute_input": "2021-09-07T19:04:34.152818Z",
     "iopub.status.busy": "2021-09-07T19:04:34.148974Z",
     "iopub.status.idle": "2021-09-07T19:27:33.441316Z",
     "shell.execute_reply": "2021-09-07T19:27:33.442256Z"
    },
    "papermill": {
     "duration": 1379.309747,
     "end_time": "2021-09-07T19:27:33.442801",
     "exception": false,
     "start_time": "2021-09-07T19:04:34.133054",
     "status": "completed"
    },
    "tags": []
   },
   "outputs": [
    {
     "name": "stdout",
     "output_type": "stream",
     "text": [
      "\n",
      "Iteration 1 of index/analysis of 50 samples with 32 cores\n",
      "Removing any extra snakemake directories: ['snakemake-assemblies.1631041190.2197192']\n"
     ]
    },
    {
     "name": "stdout",
     "output_type": "stream",
     "text": [
      "Creating new index: [gdi init cases/case-50/index]\n"
     ]
    },
    {
     "name": "stdout",
     "output_type": "stream",
     "text": [
      "Creating a new index took 2.60 seconds\n",
      "Analysis running: [gdi --project-dir cases/case-50/index --ncores 32 analysis --use-conda --no-load-data --reference-file references/NC_045512.gbk.gz --kmer-size 31 --kmer-size 51 --kmer-size 71 --include-kmer --reads-mincov 10 --input-structured-genomes-file cases/case-50/input-files-case.tsv]\n"
     ]
    },
    {
     "name": "stdout",
     "output_type": "stream",
     "text": [
      "Analysis took 2.42 minutes\n",
      "Index running: [gdi --project-dir cases/case-50/index --ncores 32 load vcf-kmer --reference-file references/NC_045512.gbk.gz /home/CSCScience.ca/apetkau/workspace/genomics-data-index-evaluation/evaluations/sars-cov-2/snakemake-assemblies.1631041481.4558315/gdi-input.fofn]\n"
     ]
    },
    {
     "name": "stdout",
     "output_type": "stream",
     "text": [
      "Indexing took 0.19 minutes\n",
      "Building tree: [gdi --project-dir cases/case-50/index --ncores 32 rebuild tree --align-type full --extra-params '--fast -m GTR+F+R4' NC_045512]\n"
     ]
    },
    {
     "name": "stdout",
     "output_type": "stream",
     "text": [
      "Building tree took 5.43 minutes\n"
     ]
    },
    {
     "name": "stderr",
     "output_type": "stream",
     "text": [
      "A reminder to myself to look for a Python solution for directory sizes (instead of running `du`)\n"
     ]
    },
    {
     "name": "stdout",
     "output_type": "stream",
     "text": [
      "\n",
      "Iteration 2 of index/analysis of 50 samples with 32 cores\n",
      "Removing any extra snakemake directories: ['snakemake-assemblies.1631041481.4558315']\n"
     ]
    },
    {
     "name": "stdout",
     "output_type": "stream",
     "text": [
      "Removing any existing indexes cases/case-50/index\n",
      "Creating new index: [gdi init cases/case-50/index]\n"
     ]
    },
    {
     "name": "stdout",
     "output_type": "stream",
     "text": [
      "Creating a new index took 3.04 seconds\n",
      "Analysis running: [gdi --project-dir cases/case-50/index --ncores 32 analysis --use-conda --no-load-data --reference-file references/NC_045512.gbk.gz --kmer-size 31 --kmer-size 51 --kmer-size 71 --include-kmer --reads-mincov 10 --input-structured-genomes-file cases/case-50/input-files-case.tsv]\n"
     ]
    },
    {
     "name": "stdout",
     "output_type": "stream",
     "text": [
      "Analysis took 2.46 minutes\n",
      "Index running: [gdi --project-dir cases/case-50/index --ncores 32 load vcf-kmer --reference-file references/NC_045512.gbk.gz /home/CSCScience.ca/apetkau/workspace/genomics-data-index-evaluation/evaluations/sars-cov-2/snakemake-assemblies.1631041969.5601232/gdi-input.fofn]\n"
     ]
    },
    {
     "name": "stdout",
     "output_type": "stream",
     "text": [
      "Indexing took 0.19 minutes\n",
      "Building tree: [gdi --project-dir cases/case-50/index --ncores 32 rebuild tree --align-type full --extra-params '--fast -m GTR+F+R4' NC_045512]\n"
     ]
    },
    {
     "name": "stdout",
     "output_type": "stream",
     "text": [
      "Building tree took 5.24 minutes\n"
     ]
    },
    {
     "name": "stderr",
     "output_type": "stream",
     "text": [
      "Attempting to set global database_path_translator=<genomics_data_index.storage.model.db.DatabasePathTranslator.DatabasePathTranslator object at 0x7f6d2bb73be0> but it is already set\n"
     ]
    },
    {
     "name": "stderr",
     "output_type": "stream",
     "text": [
      "A reminder to myself to look for a Python solution for directory sizes (instead of running `du`)\n"
     ]
    },
    {
     "name": "stdout",
     "output_type": "stream",
     "text": [
      "\n",
      "Iteration 3 of index/analysis of 50 samples with 32 cores\n",
      "Removing any extra snakemake directories: ['snakemake-assemblies.1631041969.5601232']\n"
     ]
    },
    {
     "name": "stdout",
     "output_type": "stream",
     "text": [
      "Removing any existing indexes cases/case-50/index\n",
      "Creating new index: [gdi init cases/case-50/index]\n"
     ]
    },
    {
     "name": "stdout",
     "output_type": "stream",
     "text": [
      "Creating a new index took 3.00 seconds\n",
      "Analysis running: [gdi --project-dir cases/case-50/index --ncores 32 analysis --use-conda --no-load-data --reference-file references/NC_045512.gbk.gz --kmer-size 31 --kmer-size 51 --kmer-size 71 --include-kmer --reads-mincov 10 --input-structured-genomes-file cases/case-50/input-files-case.tsv]\n"
     ]
    },
    {
     "name": "stdout",
     "output_type": "stream",
     "text": [
      "Analysis took 2.52 minutes\n",
      "Index running: [gdi --project-dir cases/case-50/index --ncores 32 load vcf-kmer --reference-file references/NC_045512.gbk.gz /home/CSCScience.ca/apetkau/workspace/genomics-data-index-evaluation/evaluations/sars-cov-2/snakemake-assemblies.1631042448.082973/gdi-input.fofn]\n"
     ]
    },
    {
     "name": "stdout",
     "output_type": "stream",
     "text": [
      "Indexing took 0.19 minutes\n",
      "Building tree: [gdi --project-dir cases/case-50/index --ncores 32 rebuild tree --align-type full --extra-params '--fast -m GTR+F+R4' NC_045512]\n"
     ]
    },
    {
     "name": "stdout",
     "output_type": "stream",
     "text": [
      "Building tree took 4.09 minutes\n"
     ]
    },
    {
     "name": "stderr",
     "output_type": "stream",
     "text": [
      "Attempting to set global database_path_translator=<genomics_data_index.storage.model.db.DatabasePathTranslator.DatabasePathTranslator object at 0x7f6d2b8d0610> but it is already set\n"
     ]
    },
    {
     "name": "stderr",
     "output_type": "stream",
     "text": [
      "A reminder to myself to look for a Python solution for directory sizes (instead of running `du`)\n"
     ]
    }
   ],
   "source": [
    "results_handler = gdi_benchmark.BenchmarkResultsHandler(name=case_name)\n",
    "benchmarker = gdi_benchmark.IndexBenchmarker(benchmark_results_handler=results_handler,\n",
    "                                             index_path=index_path, input_files_file=cases_input,\n",
    "                                             reference_file=reference_file, mincov=mincov, build_tree=True,\n",
    "                                             ncores=ncores)\n",
    "\n",
    "benchmark_df = benchmarker.benchmark(iterations=iterations)"
   ]
  },
  {
   "cell_type": "code",
   "execution_count": 7,
   "id": "3bcb6da7-0164-47f2-abdd-a4c159da1e3b",
   "metadata": {
    "execution": {
     "iopub.execute_input": "2021-09-07T19:27:33.505564Z",
     "iopub.status.busy": "2021-09-07T19:27:33.497861Z",
     "iopub.status.idle": "2021-09-07T19:27:33.519917Z",
     "shell.execute_reply": "2021-09-07T19:27:33.520812Z"
    },
    "papermill": {
     "duration": 0.057365,
     "end_time": "2021-09-07T19:27:33.521079",
     "exception": false,
     "start_time": "2021-09-07T19:27:33.463714",
     "status": "completed"
    },
    "tags": []
   },
   "outputs": [
    {
     "data": {
      "text/html": [
       "<div>\n",
       "<style scoped>\n",
       "    .dataframe tbody tr th:only-of-type {\n",
       "        vertical-align: middle;\n",
       "    }\n",
       "\n",
       "    .dataframe tbody tr th {\n",
       "        vertical-align: top;\n",
       "    }\n",
       "\n",
       "    .dataframe thead th {\n",
       "        text-align: right;\n",
       "    }\n",
       "</style>\n",
       "<table border=\"1\" class=\"dataframe\">\n",
       "  <thead>\n",
       "    <tr style=\"text-align: right;\">\n",
       "      <th></th>\n",
       "      <th>Name</th>\n",
       "      <th>Iteration</th>\n",
       "      <th>Number samples</th>\n",
       "      <th>Number cores</th>\n",
       "      <th>Reference length</th>\n",
       "      <th>Analysis runtime</th>\n",
       "      <th>Analysis memory (max)</th>\n",
       "      <th>Analysis memory (max/process)</th>\n",
       "      <th>Analysis disk uage</th>\n",
       "      <th>Index runtime</th>\n",
       "      <th>Index memory (max)</th>\n",
       "      <th>Index memory (max/process)</th>\n",
       "      <th>Index size</th>\n",
       "      <th>Tree runtime</th>\n",
       "      <th>Tree memory (max)</th>\n",
       "      <th>Tree memory (max/process)</th>\n",
       "      <th>Total runtime</th>\n",
       "      <th>Max memory</th>\n",
       "    </tr>\n",
       "  </thead>\n",
       "  <tbody>\n",
       "    <tr>\n",
       "      <th>0</th>\n",
       "      <td>case-50</td>\n",
       "      <td>1</td>\n",
       "      <td>50</td>\n",
       "      <td>32</td>\n",
       "      <td>29903</td>\n",
       "      <td>145.21</td>\n",
       "      <td>2.055569e+09</td>\n",
       "      <td>370876416.0</td>\n",
       "      <td>3.459293e+09</td>\n",
       "      <td>11.24</td>\n",
       "      <td>5.678387e+09</td>\n",
       "      <td>341504000.0</td>\n",
       "      <td>3911680.0</td>\n",
       "      <td>325.78</td>\n",
       "      <td>242372608.0</td>\n",
       "      <td>221904896.0</td>\n",
       "      <td>482.23</td>\n",
       "      <td>5.678387e+09</td>\n",
       "    </tr>\n",
       "    <tr>\n",
       "      <th>0</th>\n",
       "      <td>case-50</td>\n",
       "      <td>2</td>\n",
       "      <td>50</td>\n",
       "      <td>32</td>\n",
       "      <td>29903</td>\n",
       "      <td>147.30</td>\n",
       "      <td>2.864869e+09</td>\n",
       "      <td>381939712.0</td>\n",
       "      <td>3.459301e+09</td>\n",
       "      <td>11.22</td>\n",
       "      <td>5.686624e+09</td>\n",
       "      <td>335962112.0</td>\n",
       "      <td>3923968.0</td>\n",
       "      <td>314.37</td>\n",
       "      <td>243056640.0</td>\n",
       "      <td>221847552.0</td>\n",
       "      <td>472.89</td>\n",
       "      <td>5.686624e+09</td>\n",
       "    </tr>\n",
       "    <tr>\n",
       "      <th>0</th>\n",
       "      <td>case-50</td>\n",
       "      <td>3</td>\n",
       "      <td>50</td>\n",
       "      <td>32</td>\n",
       "      <td>29903</td>\n",
       "      <td>150.86</td>\n",
       "      <td>3.518030e+09</td>\n",
       "      <td>377061376.0</td>\n",
       "      <td>3.459289e+09</td>\n",
       "      <td>11.12</td>\n",
       "      <td>5.682078e+09</td>\n",
       "      <td>338706432.0</td>\n",
       "      <td>3911680.0</td>\n",
       "      <td>245.34</td>\n",
       "      <td>243191808.0</td>\n",
       "      <td>222580736.0</td>\n",
       "      <td>407.32</td>\n",
       "      <td>5.682078e+09</td>\n",
       "    </tr>\n",
       "  </tbody>\n",
       "</table>\n",
       "</div>"
      ],
      "text/plain": [
       "      Name  Iteration  Number samples  Number cores  Reference length  \\\n",
       "0  case-50          1              50            32             29903   \n",
       "0  case-50          2              50            32             29903   \n",
       "0  case-50          3              50            32             29903   \n",
       "\n",
       "   Analysis runtime  Analysis memory (max)  Analysis memory (max/process)  \\\n",
       "0            145.21           2.055569e+09                    370876416.0   \n",
       "0            147.30           2.864869e+09                    381939712.0   \n",
       "0            150.86           3.518030e+09                    377061376.0   \n",
       "\n",
       "   Analysis disk uage  Index runtime  Index memory (max)  \\\n",
       "0        3.459293e+09          11.24        5.678387e+09   \n",
       "0        3.459301e+09          11.22        5.686624e+09   \n",
       "0        3.459289e+09          11.12        5.682078e+09   \n",
       "\n",
       "   Index memory (max/process)  Index size  Tree runtime  Tree memory (max)  \\\n",
       "0                 341504000.0   3911680.0        325.78        242372608.0   \n",
       "0                 335962112.0   3923968.0        314.37        243056640.0   \n",
       "0                 338706432.0   3911680.0        245.34        243191808.0   \n",
       "\n",
       "   Tree memory (max/process)  Total runtime    Max memory  \n",
       "0                221904896.0         482.23  5.678387e+09  \n",
       "0                221847552.0         472.89  5.686624e+09  \n",
       "0                222580736.0         407.32  5.682078e+09  "
      ]
     },
     "execution_count": 7,
     "metadata": {},
     "output_type": "execute_result"
    }
   ],
   "source": [
    "benchmark_df"
   ]
  },
  {
   "cell_type": "code",
   "execution_count": 8,
   "id": "535a9ccc-ab9c-4919-806f-128e1efd2389",
   "metadata": {
    "execution": {
     "iopub.execute_input": "2021-09-07T19:27:33.564357Z",
     "iopub.status.busy": "2021-09-07T19:27:33.561314Z",
     "iopub.status.idle": "2021-09-07T19:27:33.567308Z",
     "shell.execute_reply": "2021-09-07T19:27:33.568168Z"
    },
    "papermill": {
     "duration": 0.025125,
     "end_time": "2021-09-07T19:27:33.568440",
     "exception": false,
     "start_time": "2021-09-07T19:27:33.543315",
     "status": "completed"
    },
    "tags": []
   },
   "outputs": [],
   "source": [
    "benchmark_df.to_csv(benchmark_path, sep='\\t', index=False)"
   ]
  },
  {
   "cell_type": "markdown",
   "id": "6cb7673b-9f85-4c43-b2e2-93538497a196",
   "metadata": {
    "papermill": {
     "duration": 0.011599,
     "end_time": "2021-09-07T19:27:33.603196",
     "exception": false,
     "start_time": "2021-09-07T19:27:33.591597",
     "status": "completed"
    },
    "tags": []
   },
   "source": [
    "# 3. Export trees"
   ]
  },
  {
   "cell_type": "code",
   "execution_count": 9,
   "id": "5280f82c-5434-4391-8c44-b937a7c95bd5",
   "metadata": {
    "execution": {
     "iopub.execute_input": "2021-09-07T19:27:33.639146Z",
     "iopub.status.busy": "2021-09-07T19:27:33.629599Z",
     "iopub.status.idle": "2021-09-07T19:27:36.520637Z",
     "shell.execute_reply": "2021-09-07T19:27:36.521494Z"
    },
    "papermill": {
     "duration": 2.908794,
     "end_time": "2021-09-07T19:27:36.521806",
     "exception": false,
     "start_time": "2021-09-07T19:27:33.613012",
     "status": "completed"
    },
    "tags": []
   },
   "outputs": [
    {
     "name": "stdout",
     "output_type": "stream",
     "text": [
      "Wrote tree to cases/case-50/tree.tre\n"
     ]
    }
   ],
   "source": [
    "!gdi --project-dir {index_path} export tree {reference_name} > {output_tree}\n",
    "print(f'Wrote tree to {output_tree}')"
   ]
  }
 ],
 "metadata": {
  "kernelspec": {
   "display_name": "Python 3 (ipykernel)",
   "language": "python",
   "name": "python3"
  },
  "language_info": {
   "codemirror_mode": {
    "name": "ipython",
    "version": 3
   },
   "file_extension": ".py",
   "mimetype": "text/x-python",
   "name": "python",
   "nbconvert_exporter": "python",
   "pygments_lexer": "ipython3",
   "version": "3.8.10"
  },
  "papermill": {
   "default_parameters": {},
   "duration": 1389.508087,
   "end_time": "2021-09-07T19:27:37.158981",
   "environment_variables": {},
   "exception": null,
   "input_path": "template-3-index-genomes.ipynb",
   "output_path": "3-index-genomes.case-50.ipynb",
   "parameters": {
    "cases_dir": "cases/case-50",
    "iterations": 3,
    "number_samples": 50
   },
   "start_time": "2021-09-07T19:04:27.650894",
   "version": "2.3.3"
  }
 },
 "nbformat": 4,
 "nbformat_minor": 5
}