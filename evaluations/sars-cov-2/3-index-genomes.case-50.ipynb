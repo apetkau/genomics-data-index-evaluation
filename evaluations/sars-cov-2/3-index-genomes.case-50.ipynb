{
 "cells": [
  {
   "cell_type": "markdown",
   "id": "7d3667b4-b1f8-4347-96e3-830c25b06740",
   "metadata": {
    "papermill": {
     "duration": 0.01676,
     "end_time": "2021-09-08T02:58:08.232475",
     "exception": false,
     "start_time": "2021-09-08T02:58:08.215715",
     "status": "completed"
    },
    "tags": []
   },
   "source": [
    "# 1. Parameters"
   ]
  },
  {
   "cell_type": "code",
   "execution_count": 1,
   "id": "d4ab0749-b286-4c34-b63c-a854e4952bae",
   "metadata": {
    "execution": {
     "iopub.execute_input": "2021-09-08T02:58:08.263643Z",
     "iopub.status.busy": "2021-09-08T02:58:08.263085Z",
     "iopub.status.idle": "2021-09-08T02:58:08.267558Z",
     "shell.execute_reply": "2021-09-08T02:58:08.267020Z"
    },
    "papermill": {
     "duration": 0.025058,
     "end_time": "2021-09-08T02:58:08.267688",
     "exception": false,
     "start_time": "2021-09-08T02:58:08.242630",
     "status": "completed"
    },
    "tags": [
     "parameters"
    ]
   },
   "outputs": [],
   "source": [
    "# Defaults\n",
    "cases_dir = 'cases/unset'\n",
    "reference_file = 'references/NC_045512.gbk.gz'\n",
    "input_files_all = 'input/input-files.tsv'\n",
    "iterations = 3\n",
    "mincov = 10\n",
    "ncores = 32\n",
    "number_samples = 10"
   ]
  },
  {
   "cell_type": "code",
   "execution_count": 2,
   "id": "8c112926",
   "metadata": {
    "execution": {
     "iopub.execute_input": "2021-09-08T02:58:08.287716Z",
     "iopub.status.busy": "2021-09-08T02:58:08.287313Z",
     "iopub.status.idle": "2021-09-08T02:58:08.290066Z",
     "shell.execute_reply": "2021-09-08T02:58:08.290359Z"
    },
    "papermill": {
     "duration": 0.015309,
     "end_time": "2021-09-08T02:58:08.290458",
     "exception": false,
     "start_time": "2021-09-08T02:58:08.275149",
     "status": "completed"
    },
    "tags": [
     "injected-parameters"
    ]
   },
   "outputs": [],
   "source": [
    "# Parameters\n",
    "cases_dir = \"cases/case-50\"\n",
    "iterations = 3\n",
    "number_samples = 50\n"
   ]
  },
  {
   "cell_type": "code",
   "execution_count": 3,
   "id": "ce5962e4-261c-4210-b39b-47044e28466b",
   "metadata": {
    "execution": {
     "iopub.execute_input": "2021-09-08T02:58:08.314989Z",
     "iopub.status.busy": "2021-09-08T02:58:08.314444Z",
     "iopub.status.idle": "2021-09-08T02:58:10.548744Z",
     "shell.execute_reply": "2021-09-08T02:58:10.547570Z"
    },
    "papermill": {
     "duration": 2.252202,
     "end_time": "2021-09-08T02:58:10.549006",
     "exception": false,
     "start_time": "2021-09-08T02:58:08.296804",
     "status": "completed"
    },
    "tags": []
   },
   "outputs": [],
   "source": [
    "from pathlib import Path\n",
    "from shutil import rmtree\n",
    "from os import makedirs\n",
    "import imp\n",
    "fp, pathname, description = imp.find_module('gdi_benchmark', ['../../lib'])\n",
    "gdi_benchmark = imp.load_module('gdi_benchmark', fp, pathname, description)\n",
    "\n",
    "cases_dir_path = Path(cases_dir)\n",
    "\n",
    "if cases_dir_path.exists():\n",
    "    rmtree(cases_dir_path)\n",
    "    \n",
    "if not cases_dir_path.exists():\n",
    "    makedirs(cases_dir_path)\n",
    "\n",
    "input_files_all = Path(input_files_all)\n",
    "reference_file = Path(reference_file)\n",
    "\n",
    "case_name = str(cases_dir_path.name)\n",
    "reference_name = reference_file.name.split('.')[0]\n",
    "\n",
    "cases_input = cases_dir_path / 'input-files-case.tsv'\n",
    "index_path = cases_dir_path / 'index'\n",
    "benchmark_path = cases_dir_path / 'index-info.tsv'\n",
    "output_tree = cases_dir_path / 'tree.tre'"
   ]
  },
  {
   "cell_type": "markdown",
   "id": "1673d80f-b52a-4b68-b400-355540495e15",
   "metadata": {
    "papermill": {
     "duration": 0.008043,
     "end_time": "2021-09-08T02:58:10.572930",
     "exception": false,
     "start_time": "2021-09-08T02:58:10.564887",
     "status": "completed"
    },
    "tags": []
   },
   "source": [
    "# 2. Create subset input"
   ]
  },
  {
   "cell_type": "code",
   "execution_count": 4,
   "id": "4e66adb1-3ef7-45d1-8e46-723dcb9d0c31",
   "metadata": {
    "execution": {
     "iopub.execute_input": "2021-09-08T02:58:10.594049Z",
     "iopub.status.busy": "2021-09-08T02:58:10.593623Z",
     "iopub.status.idle": "2021-09-08T02:58:10.643286Z",
     "shell.execute_reply": "2021-09-08T02:58:10.644180Z"
    },
    "papermill": {
     "duration": 0.065064,
     "end_time": "2021-09-08T02:58:10.644456",
     "exception": false,
     "start_time": "2021-09-08T02:58:10.579392",
     "status": "completed"
    },
    "tags": []
   },
   "outputs": [
    {
     "name": "stdout",
     "output_type": "stream",
     "text": [
      "Wrote 50/10000 samples to cases/case-50/input-files-case.tsv\n"
     ]
    }
   ],
   "source": [
    "import pandas as pd\n",
    "\n",
    "all_input_df = pd.read_csv(input_files_all, sep='\\t')\n",
    "all_input_total = len(all_input_df)\n",
    "\n",
    "subset_input_df = all_input_df.head(number_samples)\n",
    "subset_input_total = len(subset_input_df)\n",
    "\n",
    "subset_input_df.to_csv(cases_input, sep='\\t', index=False)\n",
    "\n",
    "print(f'Wrote {subset_input_total}/{all_input_total} samples to {cases_input}')"
   ]
  },
  {
   "cell_type": "markdown",
   "id": "f208279e-7558-47fc-9362-da29df92828a",
   "metadata": {
    "papermill": {
     "duration": 0.008787,
     "end_time": "2021-09-08T02:58:10.667126",
     "exception": false,
     "start_time": "2021-09-08T02:58:10.658339",
     "status": "completed"
    },
    "tags": []
   },
   "source": [
    "# 2. Index genomes"
   ]
  },
  {
   "cell_type": "code",
   "execution_count": 5,
   "id": "4e936f7c-2fcd-4188-b0e6-6b3ceb5cdcd2",
   "metadata": {
    "execution": {
     "iopub.execute_input": "2021-09-08T02:58:10.695979Z",
     "iopub.status.busy": "2021-09-08T02:58:10.685472Z",
     "iopub.status.idle": "2021-09-08T02:58:13.354913Z",
     "shell.execute_reply": "2021-09-08T02:58:13.353970Z"
    },
    "papermill": {
     "duration": 2.68123,
     "end_time": "2021-09-08T02:58:13.355162",
     "exception": false,
     "start_time": "2021-09-08T02:58:10.673932",
     "status": "completed"
    },
    "tags": []
   },
   "outputs": [
    {
     "name": "stdout",
     "output_type": "stream",
     "text": [
      "gdi, version 0.3.0.dev11\r\n"
     ]
    }
   ],
   "source": [
    "!gdi --version"
   ]
  },
  {
   "cell_type": "markdown",
   "id": "5409ecf8-2158-4361-9d2f-6b1a6c7c63a6",
   "metadata": {
    "papermill": {
     "duration": 0.009719,
     "end_time": "2021-09-08T02:58:13.380164",
     "exception": false,
     "start_time": "2021-09-08T02:58:13.370445",
     "status": "completed"
    },
    "tags": []
   },
   "source": [
    "## 2.1. Index reads"
   ]
  },
  {
   "cell_type": "code",
   "execution_count": 6,
   "id": "3d63e861-733e-46f2-8bce-bd1a2c7c7058",
   "metadata": {
    "execution": {
     "iopub.execute_input": "2021-09-08T02:58:13.406398Z",
     "iopub.status.busy": "2021-09-08T02:58:13.405862Z",
     "iopub.status.idle": "2021-09-08T03:19:16.117332Z",
     "shell.execute_reply": "2021-09-08T03:19:16.116213Z"
    },
    "papermill": {
     "duration": 1262.730618,
     "end_time": "2021-09-08T03:19:16.117693",
     "exception": false,
     "start_time": "2021-09-08T02:58:13.387075",
     "status": "completed"
    },
    "tags": []
   },
   "outputs": [
    {
     "name": "stdout",
     "output_type": "stream",
     "text": [
      "\n",
      "Iteration 1 of index/analysis of 50 samples with 32 cores\n",
      "Removing any extra snakemake directories: ['snakemake-assemblies.1631069614.3597667']\n"
     ]
    },
    {
     "name": "stdout",
     "output_type": "stream",
     "text": [
      "Creating new index: [gdi init cases/case-50/index]\n"
     ]
    },
    {
     "name": "stdout",
     "output_type": "stream",
     "text": [
      "Creating a new index took 2.76 seconds\n",
      "Analysis running: [gdi --project-dir cases/case-50/index --ncores 32 analysis --use-conda --no-load-data --reference-file references/NC_045512.gbk.gz --kmer-size 31 --kmer-size 51 --kmer-size 71 --include-kmer --reads-mincov 10 --input-structured-genomes-file cases/case-50/input-files-case.tsv]\n"
     ]
    },
    {
     "name": "stdout",
     "output_type": "stream",
     "text": [
      "Analysis took 2.45 minutes\n",
      "Index running: [gdi --project-dir cases/case-50/index --ncores 32 load vcf-kmer --reference-file references/NC_045512.gbk.gz /home/CSCScience.ca/apetkau/workspace/genomics-data-index-evaluation/evaluations/sars-cov-2/snakemake-assemblies.1631069901.1601515/gdi-input.fofn]\n"
     ]
    },
    {
     "name": "stdout",
     "output_type": "stream",
     "text": [
      "Indexing took 0.12 minutes\n",
      "Building tree: [gdi --project-dir cases/case-50/index --ncores 32 rebuild tree --align-type full --extra-params '--fast -m GTR+F+R4' NC_045512]\n"
     ]
    },
    {
     "name": "stdout",
     "output_type": "stream",
     "text": [
      "Building tree took 4.32 minutes\n"
     ]
    },
    {
     "name": "stderr",
     "output_type": "stream",
     "text": [
      "A reminder to myself to look for a Python solution for directory sizes (instead of running `du`)\n"
     ]
    },
    {
     "name": "stdout",
     "output_type": "stream",
     "text": [
      "\n",
      "Iteration 2 of index/analysis of 50 samples with 32 cores\n",
      "Removing any extra snakemake directories: ['snakemake-assemblies.1631069901.1601515']\n"
     ]
    },
    {
     "name": "stdout",
     "output_type": "stream",
     "text": [
      "Removing any existing indexes cases/case-50/index\n",
      "Creating new index: [gdi init cases/case-50/index]\n"
     ]
    },
    {
     "name": "stdout",
     "output_type": "stream",
     "text": [
      "Creating a new index took 2.82 seconds\n",
      "Analysis running: [gdi --project-dir cases/case-50/index --ncores 32 analysis --use-conda --no-load-data --reference-file references/NC_045512.gbk.gz --kmer-size 31 --kmer-size 51 --kmer-size 71 --include-kmer --reads-mincov 10 --input-structured-genomes-file cases/case-50/input-files-case.tsv]\n"
     ]
    },
    {
     "name": "stdout",
     "output_type": "stream",
     "text": [
      "Analysis took 2.41 minutes\n",
      "Index running: [gdi --project-dir cases/case-50/index --ncores 32 load vcf-kmer --reference-file references/NC_045512.gbk.gz /home/CSCScience.ca/apetkau/workspace/genomics-data-index-evaluation/evaluations/sars-cov-2/snakemake-assemblies.1631070320.2461889/gdi-input.fofn]\n"
     ]
    },
    {
     "name": "stdout",
     "output_type": "stream",
     "text": [
      "Indexing took 0.12 minutes\n",
      "Building tree: [gdi --project-dir cases/case-50/index --ncores 32 rebuild tree --align-type full --extra-params '--fast -m GTR+F+R4' NC_045512]\n"
     ]
    },
    {
     "name": "stdout",
     "output_type": "stream",
     "text": [
      "Building tree took 3.70 minutes\n"
     ]
    },
    {
     "name": "stderr",
     "output_type": "stream",
     "text": [
      "Attempting to set global database_path_translator=<genomics_data_index.storage.model.db.DatabasePathTranslator.DatabasePathTranslator object at 0x7efed604c070> but it is already set\n"
     ]
    },
    {
     "name": "stderr",
     "output_type": "stream",
     "text": [
      "A reminder to myself to look for a Python solution for directory sizes (instead of running `du`)\n"
     ]
    },
    {
     "name": "stdout",
     "output_type": "stream",
     "text": [
      "\n",
      "Iteration 3 of index/analysis of 50 samples with 32 cores\n",
      "Removing any extra snakemake directories: ['snakemake-assemblies.1631070320.2461889']\n"
     ]
    },
    {
     "name": "stdout",
     "output_type": "stream",
     "text": [
      "Removing any existing indexes cases/case-50/index\n",
      "Creating new index: [gdi init cases/case-50/index]\n"
     ]
    },
    {
     "name": "stdout",
     "output_type": "stream",
     "text": [
      "Creating a new index took 2.95 seconds\n",
      "Analysis running: [gdi --project-dir cases/case-50/index --ncores 32 analysis --use-conda --no-load-data --reference-file references/NC_045512.gbk.gz --kmer-size 31 --kmer-size 51 --kmer-size 71 --include-kmer --reads-mincov 10 --input-structured-genomes-file cases/case-50/input-files-case.tsv]\n"
     ]
    },
    {
     "name": "stdout",
     "output_type": "stream",
     "text": [
      "Analysis took 2.65 minutes\n",
      "Index running: [gdi --project-dir cases/case-50/index --ncores 32 load vcf-kmer --reference-file references/NC_045512.gbk.gz /home/CSCScience.ca/apetkau/workspace/genomics-data-index-evaluation/evaluations/sars-cov-2/snakemake-assemblies.1631070699.3527076/gdi-input.fofn]\n"
     ]
    },
    {
     "name": "stdout",
     "output_type": "stream",
     "text": [
      "Indexing took 0.12 minutes\n",
      "Building tree: [gdi --project-dir cases/case-50/index --ncores 32 rebuild tree --align-type full --extra-params '--fast -m GTR+F+R4' NC_045512]\n"
     ]
    },
    {
     "name": "stdout",
     "output_type": "stream",
     "text": [
      "Building tree took 4.88 minutes\n"
     ]
    },
    {
     "name": "stderr",
     "output_type": "stream",
     "text": [
      "Attempting to set global database_path_translator=<genomics_data_index.storage.model.db.DatabasePathTranslator.DatabasePathTranslator object at 0x7efec599f940> but it is already set\n"
     ]
    },
    {
     "name": "stderr",
     "output_type": "stream",
     "text": [
      "A reminder to myself to look for a Python solution for directory sizes (instead of running `du`)\n"
     ]
    }
   ],
   "source": [
    "results_handler = gdi_benchmark.BenchmarkResultsHandler(name=case_name)\n",
    "benchmarker = gdi_benchmark.IndexBenchmarker(benchmark_results_handler=results_handler,\n",
    "                                             index_path=index_path, input_files_file=cases_input,\n",
    "                                             reference_file=reference_file, mincov=mincov, build_tree=True,\n",
    "                                             ncores=ncores)\n",
    "\n",
    "benchmark_df = benchmarker.benchmark(iterations=iterations)"
   ]
  },
  {
   "cell_type": "code",
   "execution_count": 7,
   "id": "3bcb6da7-0164-47f2-abdd-a4c159da1e3b",
   "metadata": {
    "execution": {
     "iopub.execute_input": "2021-09-08T03:19:16.163833Z",
     "iopub.status.busy": "2021-09-08T03:19:16.159684Z",
     "iopub.status.idle": "2021-09-08T03:19:16.193053Z",
     "shell.execute_reply": "2021-09-08T03:19:16.193954Z"
    },
    "papermill": {
     "duration": 0.054754,
     "end_time": "2021-09-08T03:19:16.194223",
     "exception": false,
     "start_time": "2021-09-08T03:19:16.139469",
     "status": "completed"
    },
    "tags": []
   },
   "outputs": [
    {
     "data": {
      "text/html": [
       "<div>\n",
       "<style scoped>\n",
       "    .dataframe tbody tr th:only-of-type {\n",
       "        vertical-align: middle;\n",
       "    }\n",
       "\n",
       "    .dataframe tbody tr th {\n",
       "        vertical-align: top;\n",
       "    }\n",
       "\n",
       "    .dataframe thead th {\n",
       "        text-align: right;\n",
       "    }\n",
       "</style>\n",
       "<table border=\"1\" class=\"dataframe\">\n",
       "  <thead>\n",
       "    <tr style=\"text-align: right;\">\n",
       "      <th></th>\n",
       "      <th>Name</th>\n",
       "      <th>Iteration</th>\n",
       "      <th>Number samples</th>\n",
       "      <th>Number features (all)</th>\n",
       "      <th>Number features (no unknown)</th>\n",
       "      <th>Number cores</th>\n",
       "      <th>Reference length</th>\n",
       "      <th>Analysis runtime</th>\n",
       "      <th>Analysis memory (max)</th>\n",
       "      <th>Analysis memory (max/process)</th>\n",
       "      <th>Analysis disk uage</th>\n",
       "      <th>Index runtime</th>\n",
       "      <th>Index memory (max)</th>\n",
       "      <th>Index memory (max/process)</th>\n",
       "      <th>Index size</th>\n",
       "      <th>Tree runtime</th>\n",
       "      <th>Tree memory (max)</th>\n",
       "      <th>Tree memory (max/process)</th>\n",
       "      <th>Total runtime</th>\n",
       "      <th>Max memory</th>\n",
       "    </tr>\n",
       "  </thead>\n",
       "  <tbody>\n",
       "    <tr>\n",
       "      <th>0</th>\n",
       "      <td>case-50</td>\n",
       "      <td>1</td>\n",
       "      <td>50</td>\n",
       "      <td>8269</td>\n",
       "      <td>287</td>\n",
       "      <td>32</td>\n",
       "      <td>29903</td>\n",
       "      <td>146.98</td>\n",
       "      <td>2.660180e+09</td>\n",
       "      <td>378048512.0</td>\n",
       "      <td>3.458990e+09</td>\n",
       "      <td>7.27</td>\n",
       "      <td>5.637673e+09</td>\n",
       "      <td>263028736.0</td>\n",
       "      <td>2121728.0</td>\n",
       "      <td>259.28</td>\n",
       "      <td>241672192.0</td>\n",
       "      <td>222289920.0</td>\n",
       "      <td>413.53</td>\n",
       "      <td>5.637673e+09</td>\n",
       "    </tr>\n",
       "    <tr>\n",
       "      <th>0</th>\n",
       "      <td>case-50</td>\n",
       "      <td>2</td>\n",
       "      <td>50</td>\n",
       "      <td>8269</td>\n",
       "      <td>287</td>\n",
       "      <td>32</td>\n",
       "      <td>29903</td>\n",
       "      <td>144.49</td>\n",
       "      <td>2.960769e+09</td>\n",
       "      <td>378646528.0</td>\n",
       "      <td>3.458990e+09</td>\n",
       "      <td>7.22</td>\n",
       "      <td>5.635977e+09</td>\n",
       "      <td>262356992.0</td>\n",
       "      <td>2117632.0</td>\n",
       "      <td>221.81</td>\n",
       "      <td>241954816.0</td>\n",
       "      <td>222113792.0</td>\n",
       "      <td>373.52</td>\n",
       "      <td>5.635977e+09</td>\n",
       "    </tr>\n",
       "    <tr>\n",
       "      <th>0</th>\n",
       "      <td>case-50</td>\n",
       "      <td>3</td>\n",
       "      <td>50</td>\n",
       "      <td>8269</td>\n",
       "      <td>287</td>\n",
       "      <td>32</td>\n",
       "      <td>29903</td>\n",
       "      <td>159.14</td>\n",
       "      <td>2.836840e+09</td>\n",
       "      <td>379265024.0</td>\n",
       "      <td>3.458994e+09</td>\n",
       "      <td>7.20</td>\n",
       "      <td>5.653565e+09</td>\n",
       "      <td>262868992.0</td>\n",
       "      <td>2121728.0</td>\n",
       "      <td>292.42</td>\n",
       "      <td>239116288.0</td>\n",
       "      <td>222044160.0</td>\n",
       "      <td>458.76</td>\n",
       "      <td>5.653565e+09</td>\n",
       "    </tr>\n",
       "  </tbody>\n",
       "</table>\n",
       "</div>"
      ],
      "text/plain": [
       "      Name  Iteration  Number samples  Number features (all)  \\\n",
       "0  case-50          1              50                   8269   \n",
       "0  case-50          2              50                   8269   \n",
       "0  case-50          3              50                   8269   \n",
       "\n",
       "   Number features (no unknown)  Number cores  Reference length  \\\n",
       "0                           287            32             29903   \n",
       "0                           287            32             29903   \n",
       "0                           287            32             29903   \n",
       "\n",
       "   Analysis runtime  Analysis memory (max)  Analysis memory (max/process)  \\\n",
       "0            146.98           2.660180e+09                    378048512.0   \n",
       "0            144.49           2.960769e+09                    378646528.0   \n",
       "0            159.14           2.836840e+09                    379265024.0   \n",
       "\n",
       "   Analysis disk uage  Index runtime  Index memory (max)  \\\n",
       "0        3.458990e+09           7.27        5.637673e+09   \n",
       "0        3.458990e+09           7.22        5.635977e+09   \n",
       "0        3.458994e+09           7.20        5.653565e+09   \n",
       "\n",
       "   Index memory (max/process)  Index size  Tree runtime  Tree memory (max)  \\\n",
       "0                 263028736.0   2121728.0        259.28        241672192.0   \n",
       "0                 262356992.0   2117632.0        221.81        241954816.0   \n",
       "0                 262868992.0   2121728.0        292.42        239116288.0   \n",
       "\n",
       "   Tree memory (max/process)  Total runtime    Max memory  \n",
       "0                222289920.0         413.53  5.637673e+09  \n",
       "0                222113792.0         373.52  5.635977e+09  \n",
       "0                222044160.0         458.76  5.653565e+09  "
      ]
     },
     "execution_count": 7,
     "metadata": {},
     "output_type": "execute_result"
    }
   ],
   "source": [
    "benchmark_df"
   ]
  },
  {
   "cell_type": "code",
   "execution_count": 8,
   "id": "535a9ccc-ab9c-4919-806f-128e1efd2389",
   "metadata": {
    "execution": {
     "iopub.execute_input": "2021-09-08T03:19:16.230871Z",
     "iopub.status.busy": "2021-09-08T03:19:16.229416Z",
     "iopub.status.idle": "2021-09-08T03:19:16.234392Z",
     "shell.execute_reply": "2021-09-08T03:19:16.234061Z"
    },
    "papermill": {
     "duration": 0.020807,
     "end_time": "2021-09-08T03:19:16.234473",
     "exception": false,
     "start_time": "2021-09-08T03:19:16.213666",
     "status": "completed"
    },
    "tags": []
   },
   "outputs": [],
   "source": [
    "benchmark_df.to_csv(benchmark_path, sep='\\t', index=False)"
   ]
  },
  {
   "cell_type": "markdown",
   "id": "6cb7673b-9f85-4c43-b2e2-93538497a196",
   "metadata": {
    "papermill": {
     "duration": 0.009915,
     "end_time": "2021-09-08T03:19:16.254721",
     "exception": false,
     "start_time": "2021-09-08T03:19:16.244806",
     "status": "completed"
    },
    "tags": []
   },
   "source": [
    "# 3. Export trees"
   ]
  },
  {
   "cell_type": "code",
   "execution_count": 9,
   "id": "5280f82c-5434-4391-8c44-b937a7c95bd5",
   "metadata": {
    "execution": {
     "iopub.execute_input": "2021-09-08T03:19:16.280230Z",
     "iopub.status.busy": "2021-09-08T03:19:16.276888Z",
     "iopub.status.idle": "2021-09-08T03:19:19.225316Z",
     "shell.execute_reply": "2021-09-08T03:19:19.226170Z"
    },
    "papermill": {
     "duration": 2.962067,
     "end_time": "2021-09-08T03:19:19.226475",
     "exception": false,
     "start_time": "2021-09-08T03:19:16.264408",
     "status": "completed"
    },
    "tags": []
   },
   "outputs": [
    {
     "name": "stdout",
     "output_type": "stream",
     "text": [
      "Wrote tree to cases/case-50/tree.tre\n"
     ]
    }
   ],
   "source": [
    "!gdi --project-dir {index_path} export tree {reference_name} > {output_tree}\n",
    "print(f'Wrote tree to {output_tree}')"
   ]
  }
 ],
 "metadata": {
  "kernelspec": {
   "display_name": "Python 3 (ipykernel)",
   "language": "python",
   "name": "python3"
  },
  "language_info": {
   "codemirror_mode": {
    "name": "ipython",
    "version": 3
   },
   "file_extension": ".py",
   "mimetype": "text/x-python",
   "name": "python",
   "nbconvert_exporter": "python",
   "pygments_lexer": "ipython3",
   "version": "3.8.10"
  },
  "papermill": {
   "default_parameters": {},
   "duration": 1273.449207,
   "end_time": "2021-09-08T03:19:20.708676",
   "environment_variables": {},
   "exception": null,
   "input_path": "template-3-index-genomes.ipynb",
   "output_path": "3-index-genomes.case-50.ipynb",
   "parameters": {
    "cases_dir": "cases/case-50",
    "iterations": 3,
    "number_samples": 50
   },
   "start_time": "2021-09-08T02:58:07.259469",
   "version": "2.3.3"
  }
 },
 "nbformat": 4,
 "nbformat_minor": 5
}