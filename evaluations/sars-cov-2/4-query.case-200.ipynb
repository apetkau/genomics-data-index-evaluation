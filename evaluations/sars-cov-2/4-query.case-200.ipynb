{
 "cells": [
  {
   "cell_type": "markdown",
   "id": "f1bc3e40-3158-4009-8a9b-371a7d2d2efe",
   "metadata": {
    "papermill": {
     "duration": 0.009889,
     "end_time": "2021-09-08T14:37:38.655997",
     "exception": false,
     "start_time": "2021-09-08T14:37:38.646108",
     "status": "completed"
    },
    "tags": []
   },
   "source": [
    "# 1. Parameters"
   ]
  },
  {
   "cell_type": "code",
   "execution_count": 1,
   "id": "cf8880a6-5194-4ced-be67-c0610a332a31",
   "metadata": {
    "execution": {
     "iopub.execute_input": "2021-09-08T14:37:38.697664Z",
     "iopub.status.busy": "2021-09-08T14:37:38.692180Z",
     "iopub.status.idle": "2021-09-08T14:37:38.699119Z",
     "shell.execute_reply": "2021-09-08T14:37:38.699595Z"
    },
    "papermill": {
     "duration": 0.018279,
     "end_time": "2021-09-08T14:37:38.699781",
     "exception": false,
     "start_time": "2021-09-08T14:37:38.681502",
     "status": "completed"
    },
    "tags": [
     "parameters"
    ]
   },
   "outputs": [],
   "source": [
    "cases_dir = 'cases/unset'\n",
    "metadata_file = 'input/metadata-subsample-pangolin.tsv'"
   ]
  },
  {
   "cell_type": "code",
   "execution_count": 2,
   "id": "e58d035e",
   "metadata": {
    "execution": {
     "iopub.execute_input": "2021-09-08T14:37:38.748925Z",
     "iopub.status.busy": "2021-09-08T14:37:38.748009Z",
     "iopub.status.idle": "2021-09-08T14:37:38.749394Z",
     "shell.execute_reply": "2021-09-08T14:37:38.748446Z"
    },
    "papermill": {
     "duration": 0.040596,
     "end_time": "2021-09-08T14:37:38.749494",
     "exception": false,
     "start_time": "2021-09-08T14:37:38.708898",
     "status": "completed"
    },
    "tags": [
     "injected-parameters"
    ]
   },
   "outputs": [],
   "source": [
    "# Parameters\n",
    "cases_dir = \"cases/case-200\"\n",
    "iterations = 3\n",
    "number_samples = 200\n"
   ]
  },
  {
   "cell_type": "code",
   "execution_count": 3,
   "id": "7e54ac3f-8dff-492e-8096-65a2ed9f5c90",
   "metadata": {
    "execution": {
     "iopub.execute_input": "2021-09-08T14:37:38.772596Z",
     "iopub.status.busy": "2021-09-08T14:37:38.770284Z",
     "iopub.status.idle": "2021-09-08T14:37:43.120559Z",
     "shell.execute_reply": "2021-09-08T14:37:43.121019Z"
    },
    "papermill": {
     "duration": 4.361375,
     "end_time": "2021-09-08T14:37:43.121173",
     "exception": false,
     "start_time": "2021-09-08T14:37:38.759798",
     "status": "completed"
    },
    "tags": []
   },
   "outputs": [],
   "source": [
    "from pathlib import Path\n",
    "import imp\n",
    "fp, pathname, description = imp.find_module('gdi_benchmark', ['../../lib'])\n",
    "gdi_benchmark = imp.load_module('gdi_benchmark', fp, pathname, description)\n",
    "\n",
    "cases_dir_path = Path(cases_dir)\n",
    "\n",
    "case_name = str(cases_dir_path.name)\n",
    "index_path = cases_dir_path / 'index'\n",
    "\n",
    "output_api_path = cases_dir_path / 'query-api.tsv'\n",
    "output_cli_path = cases_dir_path / 'query-cli.tsv'"
   ]
  },
  {
   "cell_type": "markdown",
   "id": "54537d03-809a-487c-8686-5e1791dc11de",
   "metadata": {
    "papermill": {
     "duration": 0.025284,
     "end_time": "2021-09-08T14:37:43.156327",
     "exception": false,
     "start_time": "2021-09-08T14:37:43.131043",
     "status": "completed"
    },
    "tags": []
   },
   "source": [
    "# 2. Benchmark command-line"
   ]
  },
  {
   "cell_type": "code",
   "execution_count": 4,
   "id": "9f4b5122-586c-440f-be52-0b7ab161de46",
   "metadata": {
    "execution": {
     "iopub.execute_input": "2021-09-08T14:37:43.181654Z",
     "iopub.status.busy": "2021-09-08T14:37:43.181134Z",
     "iopub.status.idle": "2021-09-08T14:37:43.182727Z",
     "shell.execute_reply": "2021-09-08T14:37:43.183183Z"
    },
    "papermill": {
     "duration": 0.017806,
     "end_time": "2021-09-08T14:37:43.183305",
     "exception": false,
     "start_time": "2021-09-08T14:37:43.165499",
     "status": "completed"
    },
    "tags": []
   },
   "outputs": [],
   "source": [
    "import pandas as pd\n",
    "import genomics_data_index.api as gdi\n",
    "\n",
    "def benchmark_cli_index(name: str, index_path: Path) -> pd.DataFrame:\n",
    "    benchmark_commands = {\n",
    "        'query hasa':               f'gdi --project-dir {index_path} --ncores 1 query \"hasa:hgvs_gn:NC_045512.2:S:p.D614G\"',\n",
    "        'query isa':                f'gdi --project-dir {index_path} --ncores 1 query \"isa:Switzerland/100112/2020\"',\n",
    "        'query isin':               f'gdi --project-dir {index_path} --ncores 1 query --reference-name NC_045512 \"isin_5_substitutions:Switzerland/100112/2020\"',\n",
    "        'query --summary':          f'gdi --project-dir {index_path} --ncores 1 query --summarize',\n",
    "        'query --features-summary': f'gdi --project-dir {index_path} --ncores 1 query --features-summary',\n",
    "        'list samples':             f'gdi --project-dir {index_path} --ncores 1 list samples',\n",
    "    }\n",
    "    \n",
    "    db = gdi.GenomicsDataIndex.connect(index_path)\n",
    "    number_samples = db.count_samples()\n",
    "    number_features_no_unknown = db.count_mutations(reference_genome='NC_045512', include_unknown=False)\n",
    "    number_features_all = db.count_mutations(reference_genome='NC_045512', include_unknown=True)\n",
    "    iterations = 10\n",
    "    \n",
    "    benchmarker = gdi_benchmark.QueryBenchmarkHandler()\n",
    "    return benchmarker.benchmark_cli(name=name, kind_commands=benchmark_commands, number_samples=number_samples,\n",
    "                                    number_features_no_unknown=number_features_no_unknown, number_features_all=number_features_all,\n",
    "                                     iterations=iterations)"
   ]
  },
  {
   "cell_type": "code",
   "execution_count": 5,
   "id": "c339bf1b-f934-4e3a-9796-25374627e237",
   "metadata": {
    "execution": {
     "iopub.execute_input": "2021-09-08T14:37:43.220910Z",
     "iopub.status.busy": "2021-09-08T14:37:43.220420Z",
     "iopub.status.idle": "2021-09-08T14:42:21.231883Z",
     "shell.execute_reply": "2021-09-08T14:42:21.232288Z"
    },
    "papermill": {
     "duration": 278.039916,
     "end_time": "2021-09-08T14:42:21.232435",
     "exception": false,
     "start_time": "2021-09-08T14:37:43.192519",
     "status": "completed"
    },
    "tags": []
   },
   "outputs": [
    {
     "data": {
      "text/html": [
       "<div>\n",
       "<style scoped>\n",
       "    .dataframe tbody tr th:only-of-type {\n",
       "        vertical-align: middle;\n",
       "    }\n",
       "\n",
       "    .dataframe tbody tr th {\n",
       "        vertical-align: top;\n",
       "    }\n",
       "\n",
       "    .dataframe thead th {\n",
       "        text-align: right;\n",
       "    }\n",
       "</style>\n",
       "<table border=\"1\" class=\"dataframe\">\n",
       "  <thead>\n",
       "    <tr style=\"text-align: right;\">\n",
       "      <th></th>\n",
       "      <th>Name</th>\n",
       "      <th>Kind</th>\n",
       "      <th>Iteration</th>\n",
       "      <th>Number samples</th>\n",
       "      <th>Number features (no unknown)</th>\n",
       "      <th>Number features (all)</th>\n",
       "      <th>Runtime</th>\n",
       "      <th>Memory (max)</th>\n",
       "      <th>Mmemory (max/process)</th>\n",
       "    </tr>\n",
       "  </thead>\n",
       "  <tbody>\n",
       "    <tr>\n",
       "      <th>0</th>\n",
       "      <td>case-200</td>\n",
       "      <td>query hasa</td>\n",
       "      <td>1</td>\n",
       "      <td>200</td>\n",
       "      <td>549</td>\n",
       "      <td>14301</td>\n",
       "      <td>4.47</td>\n",
       "      <td>222920704.0</td>\n",
       "      <td>222920704.0</td>\n",
       "    </tr>\n",
       "    <tr>\n",
       "      <th>0</th>\n",
       "      <td>case-200</td>\n",
       "      <td>query hasa</td>\n",
       "      <td>2</td>\n",
       "      <td>200</td>\n",
       "      <td>549</td>\n",
       "      <td>14301</td>\n",
       "      <td>4.32</td>\n",
       "      <td>237862912.0</td>\n",
       "      <td>222285824.0</td>\n",
       "    </tr>\n",
       "    <tr>\n",
       "      <th>0</th>\n",
       "      <td>case-200</td>\n",
       "      <td>query hasa</td>\n",
       "      <td>3</td>\n",
       "      <td>200</td>\n",
       "      <td>549</td>\n",
       "      <td>14301</td>\n",
       "      <td>4.48</td>\n",
       "      <td>237883392.0</td>\n",
       "      <td>222404608.0</td>\n",
       "    </tr>\n",
       "  </tbody>\n",
       "</table>\n",
       "</div>"
      ],
      "text/plain": [
       "       Name        Kind  Iteration  Number samples  \\\n",
       "0  case-200  query hasa          1             200   \n",
       "0  case-200  query hasa          2             200   \n",
       "0  case-200  query hasa          3             200   \n",
       "\n",
       "   Number features (no unknown)  Number features (all)  Runtime  Memory (max)  \\\n",
       "0                           549                  14301     4.47   222920704.0   \n",
       "0                           549                  14301     4.32   237862912.0   \n",
       "0                           549                  14301     4.48   237883392.0   \n",
       "\n",
       "   Mmemory (max/process)  \n",
       "0            222920704.0  \n",
       "0            222285824.0  \n",
       "0            222404608.0  "
      ]
     },
     "execution_count": 5,
     "metadata": {},
     "output_type": "execute_result"
    }
   ],
   "source": [
    "cli_df = benchmark_cli_index(name=case_name, index_path=index_path)\n",
    "cli_df.head(3)"
   ]
  },
  {
   "cell_type": "code",
   "execution_count": 6,
   "id": "1b71ed98-d69a-4038-b337-3b8bbf421bf3",
   "metadata": {
    "execution": {
     "iopub.execute_input": "2021-09-08T14:42:21.264445Z",
     "iopub.status.busy": "2021-09-08T14:42:21.263750Z",
     "iopub.status.idle": "2021-09-08T14:42:21.265484Z",
     "shell.execute_reply": "2021-09-08T14:42:21.264990Z"
    },
    "papermill": {
     "duration": 0.022734,
     "end_time": "2021-09-08T14:42:21.265608",
     "exception": false,
     "start_time": "2021-09-08T14:42:21.242874",
     "status": "completed"
    },
    "tags": []
   },
   "outputs": [],
   "source": [
    "cli_df.to_csv(output_cli_path, sep='\\t', index=False)"
   ]
  },
  {
   "cell_type": "markdown",
   "id": "163cd729-a654-499a-a5b7-dc0bd78d8128",
   "metadata": {
    "papermill": {
     "duration": 0.009757,
     "end_time": "2021-09-08T14:42:21.286922",
     "exception": false,
     "start_time": "2021-09-08T14:42:21.277165",
     "status": "completed"
    },
    "tags": []
   },
   "source": [
    "# 3. Test query API"
   ]
  },
  {
   "cell_type": "markdown",
   "id": "777dbb2e-330f-4de7-b451-1ca902cc3386",
   "metadata": {
    "papermill": {
     "duration": 0.00978,
     "end_time": "2021-09-08T14:42:21.306515",
     "exception": false,
     "start_time": "2021-09-08T14:42:21.296735",
     "status": "completed"
    },
    "tags": []
   },
   "source": [
    "## 3.1. Load (example) metadata\n",
    "\n",
    "The simulated data is based off of real sample names and a real tree. So I can load up real metadata and attach it to a query (though the mutations and reference genome are all simulated)."
   ]
  },
  {
   "cell_type": "code",
   "execution_count": 7,
   "id": "19e1d02c-7bb7-44ef-a1ce-3d20dc420686",
   "metadata": {
    "execution": {
     "iopub.execute_input": "2021-09-08T14:42:21.337142Z",
     "iopub.status.busy": "2021-09-08T14:42:21.330521Z",
     "iopub.status.idle": "2021-09-08T14:42:21.552195Z",
     "shell.execute_reply": "2021-09-08T14:42:21.553073Z"
    },
    "papermill": {
     "duration": 0.236853,
     "end_time": "2021-09-08T14:42:21.553276",
     "exception": false,
     "start_time": "2021-09-08T14:42:21.316423",
     "status": "completed"
    },
    "tags": []
   },
   "outputs": [
    {
     "data": {
      "text/html": [
       "<div>\n",
       "<style scoped>\n",
       "    .dataframe tbody tr th:only-of-type {\n",
       "        vertical-align: middle;\n",
       "    }\n",
       "\n",
       "    .dataframe tbody tr th {\n",
       "        vertical-align: top;\n",
       "    }\n",
       "\n",
       "    .dataframe thead th {\n",
       "        text-align: right;\n",
       "    }\n",
       "</style>\n",
       "<table border=\"1\" class=\"dataframe\">\n",
       "  <thead>\n",
       "    <tr style=\"text-align: right;\">\n",
       "      <th></th>\n",
       "      <th>strain</th>\n",
       "      <th>virus</th>\n",
       "      <th>gisaid_epi_isl</th>\n",
       "      <th>genbank_accession</th>\n",
       "      <th>sra_accession</th>\n",
       "      <th>date</th>\n",
       "      <th>region</th>\n",
       "      <th>country</th>\n",
       "      <th>division</th>\n",
       "      <th>location</th>\n",
       "      <th>...</th>\n",
       "      <th>ambiguity_score</th>\n",
       "      <th>scorpio_call</th>\n",
       "      <th>scorpio_support</th>\n",
       "      <th>scorpio_conflict</th>\n",
       "      <th>version</th>\n",
       "      <th>pangolin_version</th>\n",
       "      <th>pangoLEARN_version</th>\n",
       "      <th>pango_version</th>\n",
       "      <th>status</th>\n",
       "      <th>note</th>\n",
       "    </tr>\n",
       "  </thead>\n",
       "  <tbody>\n",
       "    <tr>\n",
       "      <th>0</th>\n",
       "      <td>England/QEUH-148725F/2021</td>\n",
       "      <td>ncov</td>\n",
       "      <td>EPI_ISL_1487327</td>\n",
       "      <td>OU224813</td>\n",
       "      <td>ERR5679447</td>\n",
       "      <td>2021-03-28</td>\n",
       "      <td>Europe</td>\n",
       "      <td>United Kingdom</td>\n",
       "      <td>England</td>\n",
       "      <td>NaN</td>\n",
       "      <td>...</td>\n",
       "      <td>1.0</td>\n",
       "      <td>Alpha (B.1.1.7-like)</td>\n",
       "      <td>0.9565</td>\n",
       "      <td>0.0435</td>\n",
       "      <td>PLEARN-v1.2.66</td>\n",
       "      <td>3.1.11</td>\n",
       "      <td>2021-08-24</td>\n",
       "      <td>v1.2.66</td>\n",
       "      <td>passed_qc</td>\n",
       "      <td>scorpio call: Alt alleles 22; Ref alleles 1; A...</td>\n",
       "    </tr>\n",
       "    <tr>\n",
       "      <th>1</th>\n",
       "      <td>England/MILK-1535AC0/2021</td>\n",
       "      <td>ncov</td>\n",
       "      <td>EPI_ISL_1985652</td>\n",
       "      <td>OU266415</td>\n",
       "      <td>ERR5905912</td>\n",
       "      <td>2021-04-24</td>\n",
       "      <td>Europe</td>\n",
       "      <td>United Kingdom</td>\n",
       "      <td>England</td>\n",
       "      <td>NaN</td>\n",
       "      <td>...</td>\n",
       "      <td>1.0</td>\n",
       "      <td>B.1.1.318-like</td>\n",
       "      <td>0.8421</td>\n",
       "      <td>0.0000</td>\n",
       "      <td>PLEARN-v1.2.66</td>\n",
       "      <td>3.1.11</td>\n",
       "      <td>2021-08-24</td>\n",
       "      <td>v1.2.66</td>\n",
       "      <td>passed_qc</td>\n",
       "      <td>scorpio call: Alt alleles 16; Ref alleles 0; A...</td>\n",
       "    </tr>\n",
       "  </tbody>\n",
       "</table>\n",
       "<p>2 rows × 53 columns</p>\n",
       "</div>"
      ],
      "text/plain": [
       "                      strain virus   gisaid_epi_isl genbank_accession  \\\n",
       "0  England/QEUH-148725F/2021  ncov  EPI_ISL_1487327          OU224813   \n",
       "1  England/MILK-1535AC0/2021  ncov  EPI_ISL_1985652          OU266415   \n",
       "\n",
       "  sra_accession        date  region         country division location  ...  \\\n",
       "0    ERR5679447  2021-03-28  Europe  United Kingdom  England      NaN  ...   \n",
       "1    ERR5905912  2021-04-24  Europe  United Kingdom  England      NaN  ...   \n",
       "\n",
       "  ambiguity_score          scorpio_call scorpio_support scorpio_conflict  \\\n",
       "0             1.0  Alpha (B.1.1.7-like)          0.9565           0.0435   \n",
       "1             1.0        B.1.1.318-like          0.8421           0.0000   \n",
       "\n",
       "          version pangolin_version pangoLEARN_version pango_version  \\\n",
       "0  PLEARN-v1.2.66           3.1.11         2021-08-24       v1.2.66   \n",
       "1  PLEARN-v1.2.66           3.1.11         2021-08-24       v1.2.66   \n",
       "\n",
       "      status                                               note  \n",
       "0  passed_qc  scorpio call: Alt alleles 22; Ref alleles 1; A...  \n",
       "1  passed_qc  scorpio call: Alt alleles 16; Ref alleles 0; A...  \n",
       "\n",
       "[2 rows x 53 columns]"
      ]
     },
     "execution_count": 7,
     "metadata": {},
     "output_type": "execute_result"
    }
   ],
   "source": [
    "import pandas as pd\n",
    "\n",
    "metadata_df = pd.read_csv(metadata_file, sep='\\t')\n",
    "metadata_df.head(2)"
   ]
  },
  {
   "cell_type": "markdown",
   "id": "6471c107-835d-4dac-812c-951d0527982e",
   "metadata": {
    "papermill": {
     "duration": 0.012547,
     "end_time": "2021-09-08T14:42:21.579593",
     "exception": false,
     "start_time": "2021-09-08T14:42:21.567046",
     "status": "completed"
    },
    "tags": []
   },
   "source": [
    "## 3.2. Define benchmark cases"
   ]
  },
  {
   "cell_type": "code",
   "execution_count": 8,
   "id": "e347bcfb-4d0c-4fe8-b68c-00de30d924d9",
   "metadata": {
    "execution": {
     "iopub.execute_input": "2021-09-08T14:42:21.626567Z",
     "iopub.status.busy": "2021-09-08T14:42:21.625470Z",
     "iopub.status.idle": "2021-09-08T14:42:21.627076Z",
     "shell.execute_reply": "2021-09-08T14:42:21.625963Z"
    },
    "papermill": {
     "duration": 0.029961,
     "end_time": "2021-09-08T14:42:21.627243",
     "exception": false,
     "start_time": "2021-09-08T14:42:21.597282",
     "status": "completed"
    },
    "tags": []
   },
   "outputs": [],
   "source": [
    "from typing import List\n",
    "import genomics_data_index.api as gdi\n",
    "\n",
    "def benchmark_api_index(name: str, index_path: Path) -> pd.DataFrame:\n",
    "    db = gdi.GenomicsDataIndex.connect(index_path)\n",
    "    q_no_join = db.samples_query(reference_name='NC_045512', universe='mutations')\n",
    "    q_join = db.samples_query(reference_name='NC_045512', universe='mutations').join(metadata_df, sample_names_column='strain')\n",
    "\n",
    "    q = q_join.hasa('hgvs_gn:NC_045512.2:S:p.D614G')\n",
    "    r = q_join.hasa('hgvs_gn:NC_045512.2:N:p.R203K')\n",
    "    \n",
    "    number_samples = db.count_samples()\n",
    "    number_features_no_unknown = db.count_mutations(reference_genome='NC_045512', include_unknown=False)\n",
    "    number_features_all = db.count_mutations(reference_genome='NC_045512', include_unknown=True)\n",
    "    repeat = 10\n",
    "\n",
    "    benchmark_cases = {\n",
    "        'db.samples_query':      lambda: db.samples_query(reference_name='NC_045512', universe='mutations'),\n",
    "        'q.join':                lambda: q_no_join.join(metadata_df, sample_names_column='strain'),\n",
    "        'q.features_summary':    lambda: q_join.features_summary(),\n",
    "        'q.features_comparison': lambda: q_join.features_comparison(sample_categories='lineage', categories_kind='dataframe', kind='mutations', unit='proportion'),\n",
    "        'q.hasa':                lambda: q_join.hasa(\"hgvs_gn:NC_045512.2:N:p.R203K\"),\n",
    "        'q.isa':                 lambda: q_join.isa(\"Switzerland/100112/2020\"),\n",
    "        'q.isin (distance)':     lambda: q_join.isin(\"Switzerland/100112/2020\", kind='distance', distance=5, units='substitutions'),\n",
    "        'q.isin (mrca)':         lambda: q_join.isin([\"Switzerland/100112/2020\", \"LR880642\"], kind='mrca'),\n",
    "        'q AND r':               lambda: q & r,\n",
    "        'q.toframe':             lambda: q_join.toframe(),\n",
    "        'q.summary':             lambda: q_join.summary(),\n",
    "    }\n",
    "\n",
    "    benchmarker = gdi_benchmark.QueryBenchmarkHandler()\n",
    "    return benchmarker.benchmark_api(name=name, kind_functions=benchmark_cases,\n",
    "                                       number_samples=number_samples,\n",
    "                                       number_features_no_unknown=number_features_no_unknown,\n",
    "                                       number_features_all=number_features_all,\n",
    "                                       repeat=repeat)"
   ]
  },
  {
   "cell_type": "markdown",
   "id": "f2180ae5-7850-4680-8e9e-45872d56accb",
   "metadata": {
    "papermill": {
     "duration": 0.010504,
     "end_time": "2021-09-08T14:42:21.648480",
     "exception": false,
     "start_time": "2021-09-08T14:42:21.637976",
     "status": "completed"
    },
    "tags": []
   },
   "source": [
    "## 3.3. Benchmark reads index"
   ]
  },
  {
   "cell_type": "code",
   "execution_count": 9,
   "id": "04d3a9c7-23a6-4a04-8735-a637c5534ba8",
   "metadata": {
    "execution": {
     "iopub.execute_input": "2021-09-08T14:42:21.692781Z",
     "iopub.status.busy": "2021-09-08T14:42:21.692243Z",
     "iopub.status.idle": "2021-09-08T14:43:03.121476Z",
     "shell.execute_reply": "2021-09-08T14:43:03.121969Z"
    },
    "papermill": {
     "duration": 41.463131,
     "end_time": "2021-09-08T14:43:03.122135",
     "exception": false,
     "start_time": "2021-09-08T14:42:21.659004",
     "status": "completed"
    },
    "tags": []
   },
   "outputs": [
    {
     "name": "stderr",
     "output_type": "stream",
     "text": [
      "Attempting to set global database_path_translator=<genomics_data_index.storage.model.db.DatabasePathTranslator.DatabasePathTranslator object at 0x7f5e881a16d0> but it is already set\n"
     ]
    },
    {
     "data": {
      "text/html": [
       "<div>\n",
       "<style scoped>\n",
       "    .dataframe tbody tr th:only-of-type {\n",
       "        vertical-align: middle;\n",
       "    }\n",
       "\n",
       "    .dataframe tbody tr th {\n",
       "        vertical-align: top;\n",
       "    }\n",
       "\n",
       "    .dataframe thead th {\n",
       "        text-align: right;\n",
       "    }\n",
       "</style>\n",
       "<table border=\"1\" class=\"dataframe\">\n",
       "  <thead>\n",
       "    <tr style=\"text-align: right;\">\n",
       "      <th></th>\n",
       "      <th>Name</th>\n",
       "      <th>Kind</th>\n",
       "      <th>Number samples</th>\n",
       "      <th>Number features (no unknown)</th>\n",
       "      <th>Number features (all)</th>\n",
       "      <th>Number executions</th>\n",
       "      <th>Iteration</th>\n",
       "      <th>Time</th>\n",
       "    </tr>\n",
       "  </thead>\n",
       "  <tbody>\n",
       "    <tr>\n",
       "      <th>0</th>\n",
       "      <td>case-200</td>\n",
       "      <td>db.samples_query</td>\n",
       "      <td>200</td>\n",
       "      <td>549</td>\n",
       "      <td>14301</td>\n",
       "      <td>50</td>\n",
       "      <td>1</td>\n",
       "      <td>0.006307</td>\n",
       "    </tr>\n",
       "    <tr>\n",
       "      <th>1</th>\n",
       "      <td>case-200</td>\n",
       "      <td>db.samples_query</td>\n",
       "      <td>200</td>\n",
       "      <td>549</td>\n",
       "      <td>14301</td>\n",
       "      <td>50</td>\n",
       "      <td>2</td>\n",
       "      <td>0.006272</td>\n",
       "    </tr>\n",
       "    <tr>\n",
       "      <th>2</th>\n",
       "      <td>case-200</td>\n",
       "      <td>db.samples_query</td>\n",
       "      <td>200</td>\n",
       "      <td>549</td>\n",
       "      <td>14301</td>\n",
       "      <td>50</td>\n",
       "      <td>3</td>\n",
       "      <td>0.006261</td>\n",
       "    </tr>\n",
       "    <tr>\n",
       "      <th>3</th>\n",
       "      <td>case-200</td>\n",
       "      <td>db.samples_query</td>\n",
       "      <td>200</td>\n",
       "      <td>549</td>\n",
       "      <td>14301</td>\n",
       "      <td>50</td>\n",
       "      <td>4</td>\n",
       "      <td>0.006279</td>\n",
       "    </tr>\n",
       "    <tr>\n",
       "      <th>4</th>\n",
       "      <td>case-200</td>\n",
       "      <td>db.samples_query</td>\n",
       "      <td>200</td>\n",
       "      <td>549</td>\n",
       "      <td>14301</td>\n",
       "      <td>50</td>\n",
       "      <td>5</td>\n",
       "      <td>0.006272</td>\n",
       "    </tr>\n",
       "  </tbody>\n",
       "</table>\n",
       "</div>"
      ],
      "text/plain": [
       "       Name              Kind  Number samples  Number features (no unknown)  \\\n",
       "0  case-200  db.samples_query             200                           549   \n",
       "1  case-200  db.samples_query             200                           549   \n",
       "2  case-200  db.samples_query             200                           549   \n",
       "3  case-200  db.samples_query             200                           549   \n",
       "4  case-200  db.samples_query             200                           549   \n",
       "\n",
       "   Number features (all)  Number executions  Iteration      Time  \n",
       "0                  14301                 50          1  0.006307  \n",
       "1                  14301                 50          2  0.006272  \n",
       "2                  14301                 50          3  0.006261  \n",
       "3                  14301                 50          4  0.006279  \n",
       "4                  14301                 50          5  0.006272  "
      ]
     },
     "execution_count": 9,
     "metadata": {},
     "output_type": "execute_result"
    }
   ],
   "source": [
    "api_df = benchmark_api_index(name=case_name, index_path=index_path)\n",
    "api_df.head(5)"
   ]
  },
  {
   "cell_type": "code",
   "execution_count": 10,
   "id": "09e7fb11-5c83-4983-82b9-4a54fca23b52",
   "metadata": {
    "execution": {
     "iopub.execute_input": "2021-09-08T14:43:03.156231Z",
     "iopub.status.busy": "2021-09-08T14:43:03.155533Z",
     "iopub.status.idle": "2021-09-08T14:43:03.157324Z",
     "shell.execute_reply": "2021-09-08T14:43:03.156799Z"
    },
    "papermill": {
     "duration": 0.021103,
     "end_time": "2021-09-08T14:43:03.157451",
     "exception": false,
     "start_time": "2021-09-08T14:43:03.136348",
     "status": "completed"
    },
    "tags": []
   },
   "outputs": [],
   "source": [
    "api_df.to_csv(output_api_path, sep='\\t', index=False)"
   ]
  },
  {
   "cell_type": "code",
   "execution_count": null,
   "id": "d29f35f8-2056-46f1-a506-379a0add43b9",
   "metadata": {
    "papermill": {
     "duration": 0.011411,
     "end_time": "2021-09-08T14:43:03.182207",
     "exception": false,
     "start_time": "2021-09-08T14:43:03.170796",
     "status": "completed"
    },
    "tags": []
   },
   "outputs": [],
   "source": []
  }
 ],
 "metadata": {
  "kernelspec": {
   "display_name": "Python 3 (ipykernel)",
   "language": "python",
   "name": "python3"
  },
  "language_info": {
   "codemirror_mode": {
    "name": "ipython",
    "version": 3
   },
   "file_extension": ".py",
   "mimetype": "text/x-python",
   "name": "python",
   "nbconvert_exporter": "python",
   "pygments_lexer": "ipython3",
   "version": "3.8.10"
  },
  "papermill": {
   "default_parameters": {},
   "duration": 326.428072,
   "end_time": "2021-09-08T14:43:03.820458",
   "environment_variables": {},
   "exception": null,
   "input_path": "template-4-query.ipynb",
   "output_path": "4-query.case-200.ipynb",
   "parameters": {
    "cases_dir": "cases/case-200",
    "iterations": 3,
    "number_samples": 200
   },
   "start_time": "2021-09-08T14:37:37.392386",
   "version": "2.3.3"
  }
 },
 "nbformat": 4,
 "nbformat_minor": 5
}