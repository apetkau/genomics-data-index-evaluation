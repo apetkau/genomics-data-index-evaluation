{
 "cells": [
  {
   "cell_type": "markdown",
   "id": "7d3667b4-b1f8-4347-96e3-830c25b06740",
   "metadata": {
    "papermill": {
     "duration": 0.015311,
     "end_time": "2021-09-08T21:16:10.017925",
     "exception": false,
     "start_time": "2021-09-08T21:16:10.002614",
     "status": "completed"
    },
    "tags": []
   },
   "source": [
    "# 1. Parameters"
   ]
  },
  {
   "cell_type": "code",
   "execution_count": 1,
   "id": "d4ab0749-b286-4c34-b63c-a854e4952bae",
   "metadata": {
    "execution": {
     "iopub.execute_input": "2021-09-08T21:16:10.047550Z",
     "iopub.status.busy": "2021-09-08T21:16:10.047008Z",
     "iopub.status.idle": "2021-09-08T21:16:10.051494Z",
     "shell.execute_reply": "2021-09-08T21:16:10.050963Z"
    },
    "papermill": {
     "duration": 0.02459,
     "end_time": "2021-09-08T21:16:10.051617",
     "exception": false,
     "start_time": "2021-09-08T21:16:10.027027",
     "status": "completed"
    },
    "tags": [
     "parameters"
    ]
   },
   "outputs": [],
   "source": [
    "# Defaults\n",
    "cases_dir = 'cases/unset'\n",
    "reference_file = 'references/NC_045512.gbk.gz'\n",
    "input_files_all = 'input/input-files.tsv'\n",
    "iterations = 3\n",
    "mincov = 10\n",
    "ncores = 32\n",
    "number_samples = 10\n",
    "build_tree = False"
   ]
  },
  {
   "cell_type": "code",
   "execution_count": 2,
   "id": "0e3003fe",
   "metadata": {
    "execution": {
     "iopub.execute_input": "2021-09-08T21:16:10.073993Z",
     "iopub.status.busy": "2021-09-08T21:16:10.073526Z",
     "iopub.status.idle": "2021-09-08T21:16:10.076725Z",
     "shell.execute_reply": "2021-09-08T21:16:10.076301Z"
    },
    "papermill": {
     "duration": 0.015887,
     "end_time": "2021-09-08T21:16:10.076829",
     "exception": false,
     "start_time": "2021-09-08T21:16:10.060942",
     "status": "completed"
    },
    "tags": [
     "injected-parameters"
    ]
   },
   "outputs": [],
   "source": [
    "# Parameters\n",
    "cases_dir = \"cases/case-1000\"\n",
    "iterations = 3\n",
    "number_samples = 1000\n",
    "build_tree = False\n"
   ]
  },
  {
   "cell_type": "code",
   "execution_count": 3,
   "id": "ce5962e4-261c-4210-b39b-47044e28466b",
   "metadata": {
    "execution": {
     "iopub.execute_input": "2021-09-08T21:16:10.100984Z",
     "iopub.status.busy": "2021-09-08T21:16:10.100572Z",
     "iopub.status.idle": "2021-09-08T21:16:12.356748Z",
     "shell.execute_reply": "2021-09-08T21:16:12.355789Z"
    },
    "papermill": {
     "duration": 2.273295,
     "end_time": "2021-09-08T21:16:12.357008",
     "exception": false,
     "start_time": "2021-09-08T21:16:10.083713",
     "status": "completed"
    },
    "tags": []
   },
   "outputs": [],
   "source": [
    "from pathlib import Path\n",
    "from shutil import rmtree\n",
    "from os import makedirs\n",
    "import imp\n",
    "fp, pathname, description = imp.find_module('gdi_benchmark', ['../../lib'])\n",
    "gdi_benchmark = imp.load_module('gdi_benchmark', fp, pathname, description)\n",
    "\n",
    "cases_dir_path = Path(cases_dir)\n",
    "\n",
    "if cases_dir_path.exists():\n",
    "    rmtree(cases_dir_path)\n",
    "    \n",
    "if not cases_dir_path.exists():\n",
    "    makedirs(cases_dir_path)\n",
    "\n",
    "input_files_all = Path(input_files_all)\n",
    "reference_file = Path(reference_file)\n",
    "\n",
    "case_name = str(cases_dir_path.name)\n",
    "reference_name = reference_file.name.split('.')[0]\n",
    "\n",
    "cases_input = cases_dir_path / 'input-files-case.tsv'\n",
    "index_path = cases_dir_path / 'index'\n",
    "benchmark_path = cases_dir_path / 'index-info.tsv'\n",
    "output_tree = cases_dir_path / 'tree.tre'"
   ]
  },
  {
   "cell_type": "markdown",
   "id": "1673d80f-b52a-4b68-b400-355540495e15",
   "metadata": {
    "papermill": {
     "duration": 0.009727,
     "end_time": "2021-09-08T21:16:12.382911",
     "exception": false,
     "start_time": "2021-09-08T21:16:12.373184",
     "status": "completed"
    },
    "tags": []
   },
   "source": [
    "# 2. Create subset input"
   ]
  },
  {
   "cell_type": "code",
   "execution_count": 4,
   "id": "4e66adb1-3ef7-45d1-8e46-723dcb9d0c31",
   "metadata": {
    "execution": {
     "iopub.execute_input": "2021-09-08T21:16:12.404799Z",
     "iopub.status.busy": "2021-09-08T21:16:12.404289Z",
     "iopub.status.idle": "2021-09-08T21:16:12.630892Z",
     "shell.execute_reply": "2021-09-08T21:16:12.631818Z"
    },
    "papermill": {
     "duration": 0.24247,
     "end_time": "2021-09-08T21:16:12.632117",
     "exception": false,
     "start_time": "2021-09-08T21:16:12.389647",
     "status": "completed"
    },
    "tags": []
   },
   "outputs": [
    {
     "name": "stdout",
     "output_type": "stream",
     "text": [
      "Wrote 1000/100000 samples to cases/case-1000/input-files-case.tsv\n"
     ]
    }
   ],
   "source": [
    "import pandas as pd\n",
    "\n",
    "all_input_df = pd.read_csv(input_files_all, sep='\\t')\n",
    "all_input_total = len(all_input_df)\n",
    "\n",
    "subset_input_df = all_input_df.head(number_samples)\n",
    "subset_input_total = len(subset_input_df)\n",
    "\n",
    "subset_input_df.to_csv(cases_input, sep='\\t', index=False)\n",
    "\n",
    "print(f'Wrote {subset_input_total}/{all_input_total} samples to {cases_input}')"
   ]
  },
  {
   "cell_type": "markdown",
   "id": "f208279e-7558-47fc-9362-da29df92828a",
   "metadata": {
    "papermill": {
     "duration": 0.009283,
     "end_time": "2021-09-08T21:16:12.657095",
     "exception": false,
     "start_time": "2021-09-08T21:16:12.647812",
     "status": "completed"
    },
    "tags": []
   },
   "source": [
    "# 2. Index genomes"
   ]
  },
  {
   "cell_type": "code",
   "execution_count": 5,
   "id": "4e936f7c-2fcd-4188-b0e6-6b3ceb5cdcd2",
   "metadata": {
    "execution": {
     "iopub.execute_input": "2021-09-08T21:16:12.676291Z",
     "iopub.status.busy": "2021-09-08T21:16:12.675889Z",
     "iopub.status.idle": "2021-09-08T21:16:15.398346Z",
     "shell.execute_reply": "2021-09-08T21:16:15.397390Z"
    },
    "papermill": {
     "duration": 2.734396,
     "end_time": "2021-09-08T21:16:15.398603",
     "exception": false,
     "start_time": "2021-09-08T21:16:12.664207",
     "status": "completed"
    },
    "tags": []
   },
   "outputs": [
    {
     "name": "stdout",
     "output_type": "stream",
     "text": [
      "gdi, version 0.3.0.dev12\r\n"
     ]
    }
   ],
   "source": [
    "!gdi --version"
   ]
  },
  {
   "cell_type": "markdown",
   "id": "5409ecf8-2158-4361-9d2f-6b1a6c7c63a6",
   "metadata": {
    "papermill": {
     "duration": 0.009812,
     "end_time": "2021-09-08T21:16:15.424577",
     "exception": false,
     "start_time": "2021-09-08T21:16:15.414765",
     "status": "completed"
    },
    "tags": []
   },
   "source": [
    "## 2.1. Index reads"
   ]
  },
  {
   "cell_type": "code",
   "execution_count": 6,
   "id": "3d63e861-733e-46f2-8bce-bd1a2c7c7058",
   "metadata": {
    "execution": {
     "iopub.execute_input": "2021-09-08T21:16:15.450528Z",
     "iopub.status.busy": "2021-09-08T21:16:15.449968Z",
     "iopub.status.idle": "2021-09-08T21:40:41.844432Z",
     "shell.execute_reply": "2021-09-08T21:40:41.843106Z"
    },
    "papermill": {
     "duration": 1466.413561,
     "end_time": "2021-09-08T21:40:41.844799",
     "exception": false,
     "start_time": "2021-09-08T21:16:15.431238",
     "status": "completed"
    },
    "tags": []
   },
   "outputs": [
    {
     "name": "stdout",
     "output_type": "stream",
     "text": [
      "\n",
      "Iteration 1 of index/analysis of 1000 samples with 32 cores\n",
      "Removing any extra snakemake directories: ['snakemake-assemblies.1631134556.9469047']\n"
     ]
    },
    {
     "name": "stdout",
     "output_type": "stream",
     "text": [
      "Creating new index: [gdi init cases/case-1000/index]\n"
     ]
    },
    {
     "name": "stdout",
     "output_type": "stream",
     "text": [
      "Creating a new index took 2.76 seconds\n",
      "Analysis running: [gdi --project-dir cases/case-1000/index --ncores 32 analysis --use-conda --no-load-data --reference-file references/NC_045512.gbk.gz --kmer-size 31 --kmer-size 51 --kmer-size 71 --include-kmer --reads-mincov 10 --input-structured-genomes-file cases/case-1000/input-files-case.tsv]\n"
     ]
    },
    {
     "name": "stdout",
     "output_type": "stream",
     "text": [
      "Analysis took 7.25 minutes\n",
      "Index running: [gdi --project-dir cases/case-1000/index --ncores 32 load vcf-kmer --reference-file references/NC_045512.gbk.gz /home/CSCScience.ca/apetkau/workspace/genomics-data-index-evaluation/evaluations/sars-cov-2/snakemake-assemblies.1631135783.1756887/gdi-input.fofn]\n"
     ]
    },
    {
     "name": "stdout",
     "output_type": "stream",
     "text": [
      "Indexing took 0.99 minutes\n"
     ]
    },
    {
     "name": "stderr",
     "output_type": "stream",
     "text": [
      "A reminder to myself to look for a Python solution for directory sizes (instead of running `du`)\n"
     ]
    },
    {
     "name": "stdout",
     "output_type": "stream",
     "text": [
      "\n",
      "Iteration 2 of index/analysis of 1000 samples with 32 cores\n",
      "Removing any extra snakemake directories: ['snakemake-assemblies.1631135783.1756887']\n"
     ]
    },
    {
     "name": "stdout",
     "output_type": "stream",
     "text": [
      "Removing any existing indexes cases/case-1000/index\n",
      "Creating new index: [gdi init cases/case-1000/index]\n"
     ]
    },
    {
     "name": "stdout",
     "output_type": "stream",
     "text": [
      "Creating a new index took 2.81 seconds\n",
      "Analysis running: [gdi --project-dir cases/case-1000/index --ncores 32 analysis --use-conda --no-load-data --reference-file references/NC_045512.gbk.gz --kmer-size 31 --kmer-size 51 --kmer-size 71 --include-kmer --reads-mincov 10 --input-structured-genomes-file cases/case-1000/input-files-case.tsv]\n"
     ]
    },
    {
     "name": "stdout",
     "output_type": "stream",
     "text": [
      "Analysis took 6.95 minutes\n",
      "Index running: [gdi --project-dir cases/case-1000/index --ncores 32 load vcf-kmer --reference-file references/NC_045512.gbk.gz /home/CSCScience.ca/apetkau/workspace/genomics-data-index-evaluation/evaluations/sars-cov-2/snakemake-assemblies.1631136283.3929925/gdi-input.fofn]\n"
     ]
    },
    {
     "name": "stdout",
     "output_type": "stream",
     "text": [
      "Indexing took 0.99 minutes\n"
     ]
    },
    {
     "name": "stderr",
     "output_type": "stream",
     "text": [
      "Attempting to set global database_path_translator=<genomics_data_index.storage.model.db.DatabasePathTranslator.DatabasePathTranslator object at 0x7f9304b749a0> but it is already set\n"
     ]
    },
    {
     "name": "stderr",
     "output_type": "stream",
     "text": [
      "A reminder to myself to look for a Python solution for directory sizes (instead of running `du`)\n"
     ]
    },
    {
     "name": "stdout",
     "output_type": "stream",
     "text": [
      "\n",
      "Iteration 3 of index/analysis of 1000 samples with 32 cores\n",
      "Removing any extra snakemake directories: ['snakemake-assemblies.1631136283.3929925']\n"
     ]
    },
    {
     "name": "stdout",
     "output_type": "stream",
     "text": [
      "Removing any existing indexes cases/case-1000/index\n",
      "Creating new index: [gdi init cases/case-1000/index]\n"
     ]
    },
    {
     "name": "stdout",
     "output_type": "stream",
     "text": [
      "Creating a new index took 2.91 seconds\n",
      "Analysis running: [gdi --project-dir cases/case-1000/index --ncores 32 analysis --use-conda --no-load-data --reference-file references/NC_045512.gbk.gz --kmer-size 31 --kmer-size 51 --kmer-size 71 --include-kmer --reads-mincov 10 --input-structured-genomes-file cases/case-1000/input-files-case.tsv]\n"
     ]
    },
    {
     "name": "stdout",
     "output_type": "stream",
     "text": [
      "Analysis took 6.94 minutes\n",
      "Index running: [gdi --project-dir cases/case-1000/index --ncores 32 load vcf-kmer --reference-file references/NC_045512.gbk.gz /home/CSCScience.ca/apetkau/workspace/genomics-data-index-evaluation/evaluations/sars-cov-2/snakemake-assemblies.1631136766.0272033/gdi-input.fofn]\n"
     ]
    },
    {
     "name": "stdout",
     "output_type": "stream",
     "text": [
      "Indexing took 1.03 minutes\n"
     ]
    },
    {
     "name": "stderr",
     "output_type": "stream",
     "text": [
      "Attempting to set global database_path_translator=<genomics_data_index.storage.model.db.DatabasePathTranslator.DatabasePathTranslator object at 0x7f9304ac1f40> but it is already set\n"
     ]
    },
    {
     "name": "stderr",
     "output_type": "stream",
     "text": [
      "A reminder to myself to look for a Python solution for directory sizes (instead of running `du`)\n"
     ]
    }
   ],
   "source": [
    "results_handler = gdi_benchmark.BenchmarkResultsHandler(name=case_name)\n",
    "benchmarker = gdi_benchmark.IndexBenchmarker(benchmark_results_handler=results_handler,\n",
    "                                             index_path=index_path, input_files_file=cases_input,\n",
    "                                             reference_file=reference_file, mincov=mincov,\n",
    "                                             build_tree=build_tree,\n",
    "                                             ncores=ncores)\n",
    "\n",
    "benchmark_df = benchmarker.benchmark(iterations=iterations)"
   ]
  },
  {
   "cell_type": "code",
   "execution_count": 7,
   "id": "3bcb6da7-0164-47f2-abdd-a4c159da1e3b",
   "metadata": {
    "execution": {
     "iopub.execute_input": "2021-09-08T21:40:41.892994Z",
     "iopub.status.busy": "2021-09-08T21:40:41.892485Z",
     "iopub.status.idle": "2021-09-08T21:40:41.917774Z",
     "shell.execute_reply": "2021-09-08T21:40:41.918552Z"
    },
    "papermill": {
     "duration": 0.05103,
     "end_time": "2021-09-08T21:40:41.918823",
     "exception": false,
     "start_time": "2021-09-08T21:40:41.867793",
     "status": "completed"
    },
    "tags": []
   },
   "outputs": [
    {
     "data": {
      "text/html": [
       "<div>\n",
       "<style scoped>\n",
       "    .dataframe tbody tr th:only-of-type {\n",
       "        vertical-align: middle;\n",
       "    }\n",
       "\n",
       "    .dataframe tbody tr th {\n",
       "        vertical-align: top;\n",
       "    }\n",
       "\n",
       "    .dataframe thead th {\n",
       "        text-align: right;\n",
       "    }\n",
       "</style>\n",
       "<table border=\"1\" class=\"dataframe\">\n",
       "  <thead>\n",
       "    <tr style=\"text-align: right;\">\n",
       "      <th></th>\n",
       "      <th>Name</th>\n",
       "      <th>Iteration</th>\n",
       "      <th>Number samples</th>\n",
       "      <th>Number features (all)</th>\n",
       "      <th>Number features (no unknown)</th>\n",
       "      <th>Number cores</th>\n",
       "      <th>Reference length</th>\n",
       "      <th>Analysis runtime</th>\n",
       "      <th>Analysis memory (max)</th>\n",
       "      <th>Analysis memory (max/process)</th>\n",
       "      <th>Analysis disk uage</th>\n",
       "      <th>Index runtime</th>\n",
       "      <th>Index memory (max)</th>\n",
       "      <th>Index memory (max/process)</th>\n",
       "      <th>Index size</th>\n",
       "      <th>Tree runtime</th>\n",
       "      <th>Tree memory (max)</th>\n",
       "      <th>Tree memory (max/process)</th>\n",
       "      <th>Total runtime</th>\n",
       "      <th>Max memory</th>\n",
       "    </tr>\n",
       "  </thead>\n",
       "  <tbody>\n",
       "    <tr>\n",
       "      <th>0</th>\n",
       "      <td>case-1000</td>\n",
       "      <td>1</td>\n",
       "      <td>1000</td>\n",
       "      <td>31184</td>\n",
       "      <td>1830</td>\n",
       "      <td>32</td>\n",
       "      <td>29903</td>\n",
       "      <td>434.69</td>\n",
       "      <td>2.026217e+09</td>\n",
       "      <td>380059648.0</td>\n",
       "      <td>3.634340e+09</td>\n",
       "      <td>59.59</td>\n",
       "      <td>6.199058e+09</td>\n",
       "      <td>766939136.0</td>\n",
       "      <td>22032384.0</td>\n",
       "      <td>&lt;NA&gt;</td>\n",
       "      <td>&lt;NA&gt;</td>\n",
       "      <td>&lt;NA&gt;</td>\n",
       "      <td>494.28</td>\n",
       "      <td>6.199058e+09</td>\n",
       "    </tr>\n",
       "    <tr>\n",
       "      <th>0</th>\n",
       "      <td>case-1000</td>\n",
       "      <td>2</td>\n",
       "      <td>1000</td>\n",
       "      <td>31184</td>\n",
       "      <td>1830</td>\n",
       "      <td>32</td>\n",
       "      <td>29903</td>\n",
       "      <td>416.91</td>\n",
       "      <td>1.183445e+09</td>\n",
       "      <td>380178432.0</td>\n",
       "      <td>3.634344e+09</td>\n",
       "      <td>59.52</td>\n",
       "      <td>6.186394e+09</td>\n",
       "      <td>761868288.0</td>\n",
       "      <td>22024192.0</td>\n",
       "      <td>&lt;NA&gt;</td>\n",
       "      <td>&lt;NA&gt;</td>\n",
       "      <td>&lt;NA&gt;</td>\n",
       "      <td>476.43</td>\n",
       "      <td>6.186394e+09</td>\n",
       "    </tr>\n",
       "    <tr>\n",
       "      <th>0</th>\n",
       "      <td>case-1000</td>\n",
       "      <td>3</td>\n",
       "      <td>1000</td>\n",
       "      <td>31184</td>\n",
       "      <td>1830</td>\n",
       "      <td>32</td>\n",
       "      <td>29903</td>\n",
       "      <td>416.12</td>\n",
       "      <td>1.276625e+09</td>\n",
       "      <td>380706816.0</td>\n",
       "      <td>3.634303e+09</td>\n",
       "      <td>61.69</td>\n",
       "      <td>6.189654e+09</td>\n",
       "      <td>761020416.0</td>\n",
       "      <td>22024192.0</td>\n",
       "      <td>&lt;NA&gt;</td>\n",
       "      <td>&lt;NA&gt;</td>\n",
       "      <td>&lt;NA&gt;</td>\n",
       "      <td>477.81</td>\n",
       "      <td>6.189654e+09</td>\n",
       "    </tr>\n",
       "  </tbody>\n",
       "</table>\n",
       "</div>"
      ],
      "text/plain": [
       "        Name  Iteration  Number samples  Number features (all)  \\\n",
       "0  case-1000          1            1000                  31184   \n",
       "0  case-1000          2            1000                  31184   \n",
       "0  case-1000          3            1000                  31184   \n",
       "\n",
       "   Number features (no unknown)  Number cores  Reference length  \\\n",
       "0                          1830            32             29903   \n",
       "0                          1830            32             29903   \n",
       "0                          1830            32             29903   \n",
       "\n",
       "   Analysis runtime  Analysis memory (max)  Analysis memory (max/process)  \\\n",
       "0            434.69           2.026217e+09                    380059648.0   \n",
       "0            416.91           1.183445e+09                    380178432.0   \n",
       "0            416.12           1.276625e+09                    380706816.0   \n",
       "\n",
       "   Analysis disk uage  Index runtime  Index memory (max)  \\\n",
       "0        3.634340e+09          59.59        6.199058e+09   \n",
       "0        3.634344e+09          59.52        6.186394e+09   \n",
       "0        3.634303e+09          61.69        6.189654e+09   \n",
       "\n",
       "   Index memory (max/process)  Index size Tree runtime Tree memory (max)  \\\n",
       "0                 766939136.0  22032384.0         <NA>              <NA>   \n",
       "0                 761868288.0  22024192.0         <NA>              <NA>   \n",
       "0                 761020416.0  22024192.0         <NA>              <NA>   \n",
       "\n",
       "  Tree memory (max/process)  Total runtime    Max memory  \n",
       "0                      <NA>         494.28  6.199058e+09  \n",
       "0                      <NA>         476.43  6.186394e+09  \n",
       "0                      <NA>         477.81  6.189654e+09  "
      ]
     },
     "execution_count": 7,
     "metadata": {},
     "output_type": "execute_result"
    }
   ],
   "source": [
    "benchmark_df"
   ]
  },
  {
   "cell_type": "code",
   "execution_count": 8,
   "id": "535a9ccc-ab9c-4919-806f-128e1efd2389",
   "metadata": {
    "execution": {
     "iopub.execute_input": "2021-09-08T21:40:41.955141Z",
     "iopub.status.busy": "2021-09-08T21:40:41.954353Z",
     "iopub.status.idle": "2021-09-08T21:40:41.958582Z",
     "shell.execute_reply": "2021-09-08T21:40:41.958222Z"
    },
    "papermill": {
     "duration": 0.018742,
     "end_time": "2021-09-08T21:40:41.958678",
     "exception": false,
     "start_time": "2021-09-08T21:40:41.939936",
     "status": "completed"
    },
    "tags": []
   },
   "outputs": [],
   "source": [
    "benchmark_df.to_csv(benchmark_path, sep='\\t', index=False)"
   ]
  },
  {
   "cell_type": "markdown",
   "id": "6cb7673b-9f85-4c43-b2e2-93538497a196",
   "metadata": {
    "papermill": {
     "duration": 0.00934,
     "end_time": "2021-09-08T21:40:41.979493",
     "exception": false,
     "start_time": "2021-09-08T21:40:41.970153",
     "status": "completed"
    },
    "tags": []
   },
   "source": [
    "# 3. Export trees"
   ]
  },
  {
   "cell_type": "code",
   "execution_count": 9,
   "id": "5280f82c-5434-4391-8c44-b937a7c95bd5",
   "metadata": {
    "execution": {
     "iopub.execute_input": "2021-09-08T21:40:42.005328Z",
     "iopub.status.busy": "2021-09-08T21:40:42.004949Z",
     "iopub.status.idle": "2021-09-08T21:40:42.008733Z",
     "shell.execute_reply": "2021-09-08T21:40:42.009036Z"
    },
    "papermill": {
     "duration": 0.020384,
     "end_time": "2021-09-08T21:40:42.009130",
     "exception": false,
     "start_time": "2021-09-08T21:40:41.988746",
     "status": "completed"
    },
    "tags": []
   },
   "outputs": [
    {
     "name": "stdout",
     "output_type": "stream",
     "text": [
      "build_tree=False so no tree to export\n"
     ]
    }
   ],
   "source": [
    "if build_tree:\n",
    "    !gdi --project-dir {index_path} export tree {reference_name} > {output_tree}\n",
    "    print(f'Wrote tree to {output_tree}')\n",
    "else:\n",
    "    print(f'build_tree={build_tree} so no tree to export')"
   ]
  }
 ],
 "metadata": {
  "kernelspec": {
   "display_name": "Python 3 (ipykernel)",
   "language": "python",
   "name": "python3"
  },
  "language_info": {
   "codemirror_mode": {
    "name": "ipython",
    "version": 3
   },
   "file_extension": ".py",
   "mimetype": "text/x-python",
   "name": "python",
   "nbconvert_exporter": "python",
   "pygments_lexer": "ipython3",
   "version": "3.8.10"
  },
  "papermill": {
   "default_parameters": {},
   "duration": 1474.572523,
   "end_time": "2021-09-08T21:40:43.572892",
   "environment_variables": {},
   "exception": null,
   "input_path": "template-3-index-genomes.ipynb",
   "output_path": "3-index-genomes.case-1000.ipynb",
   "parameters": {
    "build_tree": false,
    "cases_dir": "cases/case-1000",
    "iterations": 3,
    "number_samples": 1000
   },
   "start_time": "2021-09-08T21:16:09.000369",
   "version": "2.3.3"
  }
 },
 "nbformat": 4,
 "nbformat_minor": 5
}