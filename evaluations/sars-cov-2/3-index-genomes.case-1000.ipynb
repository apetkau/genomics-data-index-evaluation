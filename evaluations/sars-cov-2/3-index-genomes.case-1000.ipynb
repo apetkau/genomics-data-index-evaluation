{
 "cells": [
  {
   "cell_type": "markdown",
   "id": "7d3667b4-b1f8-4347-96e3-830c25b06740",
   "metadata": {
    "papermill": {
     "duration": 0.015292,
     "end_time": "2022-03-10T19:19:24.294584",
     "exception": false,
     "start_time": "2022-03-10T19:19:24.279292",
     "status": "completed"
    },
    "tags": []
   },
   "source": [
    "# 1. Parameters"
   ]
  },
  {
   "cell_type": "code",
   "execution_count": 1,
   "id": "d4ab0749-b286-4c34-b63c-a854e4952bae",
   "metadata": {
    "execution": {
     "iopub.execute_input": "2022-03-10T19:19:24.324234Z",
     "iopub.status.busy": "2022-03-10T19:19:24.323685Z",
     "iopub.status.idle": "2022-03-10T19:19:24.328392Z",
     "shell.execute_reply": "2022-03-10T19:19:24.327868Z"
    },
    "papermill": {
     "duration": 0.025236,
     "end_time": "2022-03-10T19:19:24.328548",
     "exception": false,
     "start_time": "2022-03-10T19:19:24.303312",
     "status": "completed"
    },
    "tags": [
     "parameters"
    ]
   },
   "outputs": [],
   "source": [
    "# Defaults\n",
    "cases_dir = 'cases/unset'\n",
    "reference_file = 'references/NC_045512.gbk.gz'\n",
    "input_files_all = 'input/input-files.tsv'\n",
    "iterations = 3\n",
    "mincov = 10\n",
    "ncores = 32\n",
    "number_samples = 10\n",
    "build_tree = False\n",
    "sample_batch_size=2000"
   ]
  },
  {
   "cell_type": "code",
   "execution_count": 2,
   "id": "3ab6cffd",
   "metadata": {
    "execution": {
     "iopub.execute_input": "2022-03-10T19:19:24.351509Z",
     "iopub.status.busy": "2022-03-10T19:19:24.350987Z",
     "iopub.status.idle": "2022-03-10T19:19:24.353528Z",
     "shell.execute_reply": "2022-03-10T19:19:24.353926Z"
    },
    "papermill": {
     "duration": 0.015912,
     "end_time": "2022-03-10T19:19:24.354054",
     "exception": false,
     "start_time": "2022-03-10T19:19:24.338142",
     "status": "completed"
    },
    "tags": [
     "injected-parameters"
    ]
   },
   "outputs": [],
   "source": [
    "# Parameters\n",
    "cases_dir = \"cases/case-1000\"\n",
    "iterations = 3\n",
    "number_samples = 1000\n",
    "build_tree = False\n"
   ]
  },
  {
   "cell_type": "code",
   "execution_count": 3,
   "id": "ce5962e4-261c-4210-b39b-47044e28466b",
   "metadata": {
    "execution": {
     "iopub.execute_input": "2022-03-10T19:19:24.377024Z",
     "iopub.status.busy": "2022-03-10T19:19:24.374698Z",
     "iopub.status.idle": "2022-03-10T19:19:26.837796Z",
     "shell.execute_reply": "2022-03-10T19:19:26.838669Z"
    },
    "papermill": {
     "duration": 2.477962,
     "end_time": "2022-03-10T19:19:26.838982",
     "exception": false,
     "start_time": "2022-03-10T19:19:24.361020",
     "status": "completed"
    },
    "tags": []
   },
   "outputs": [],
   "source": [
    "from pathlib import Path\n",
    "from shutil import rmtree\n",
    "from os import makedirs\n",
    "import imp\n",
    "fp, pathname, description = imp.find_module('gdi_benchmark', ['../../lib'])\n",
    "gdi_benchmark = imp.load_module('gdi_benchmark', fp, pathname, description)\n",
    "\n",
    "cases_dir_path = Path(cases_dir)\n",
    "\n",
    "if cases_dir_path.exists():\n",
    "    rmtree(cases_dir_path)\n",
    "    \n",
    "if not cases_dir_path.exists():\n",
    "    makedirs(cases_dir_path)\n",
    "\n",
    "input_files_all = Path(input_files_all)\n",
    "reference_file = Path(reference_file)\n",
    "\n",
    "case_name = str(cases_dir_path.name)\n",
    "reference_name = reference_file.name.split('.')[0]\n",
    "\n",
    "cases_input = cases_dir_path / 'input-files-case.tsv'\n",
    "index_path = cases_dir_path / 'index'\n",
    "benchmark_path = cases_dir_path / 'index-info.tsv'\n",
    "output_tree = cases_dir_path / 'tree.tre'"
   ]
  },
  {
   "cell_type": "markdown",
   "id": "1673d80f-b52a-4b68-b400-355540495e15",
   "metadata": {
    "papermill": {
     "duration": 0.008846,
     "end_time": "2022-03-10T19:19:26.862256",
     "exception": false,
     "start_time": "2022-03-10T19:19:26.853410",
     "status": "completed"
    },
    "tags": []
   },
   "source": [
    "# 2. Create subset input"
   ]
  },
  {
   "cell_type": "code",
   "execution_count": 4,
   "id": "4e66adb1-3ef7-45d1-8e46-723dcb9d0c31",
   "metadata": {
    "execution": {
     "iopub.execute_input": "2022-03-10T19:19:26.883742Z",
     "iopub.status.busy": "2022-03-10T19:19:26.883324Z",
     "iopub.status.idle": "2022-03-10T19:19:27.108004Z",
     "shell.execute_reply": "2022-03-10T19:19:27.108923Z"
    },
    "papermill": {
     "duration": 0.240221,
     "end_time": "2022-03-10T19:19:27.109226",
     "exception": false,
     "start_time": "2022-03-10T19:19:26.869005",
     "status": "completed"
    },
    "tags": []
   },
   "outputs": [
    {
     "name": "stdout",
     "output_type": "stream",
     "text": [
      "Wrote 1000/100000 samples to cases/case-1000/input-files-case.tsv\n"
     ]
    }
   ],
   "source": [
    "import pandas as pd\n",
    "\n",
    "all_input_df = pd.read_csv(input_files_all, sep='\\t')\n",
    "all_input_total = len(all_input_df)\n",
    "\n",
    "subset_input_df = all_input_df.head(number_samples)\n",
    "subset_input_total = len(subset_input_df)\n",
    "\n",
    "subset_input_df.to_csv(cases_input, sep='\\t', index=False)\n",
    "\n",
    "print(f'Wrote {subset_input_total}/{all_input_total} samples to {cases_input}')"
   ]
  },
  {
   "cell_type": "markdown",
   "id": "f208279e-7558-47fc-9362-da29df92828a",
   "metadata": {
    "papermill": {
     "duration": 0.009433,
     "end_time": "2022-03-10T19:19:27.134621",
     "exception": false,
     "start_time": "2022-03-10T19:19:27.125188",
     "status": "completed"
    },
    "tags": []
   },
   "source": [
    "# 2. Index genomes"
   ]
  },
  {
   "cell_type": "code",
   "execution_count": 5,
   "id": "4e936f7c-2fcd-4188-b0e6-6b3ceb5cdcd2",
   "metadata": {
    "execution": {
     "iopub.execute_input": "2022-03-10T19:19:27.153514Z",
     "iopub.status.busy": "2022-03-10T19:19:27.153114Z",
     "iopub.status.idle": "2022-03-10T19:19:30.046497Z",
     "shell.execute_reply": "2022-03-10T19:19:30.045492Z"
    },
    "papermill": {
     "duration": 2.905115,
     "end_time": "2022-03-10T19:19:30.046764",
     "exception": false,
     "start_time": "2022-03-10T19:19:27.141649",
     "status": "completed"
    },
    "tags": []
   },
   "outputs": [
    {
     "name": "stdout",
     "output_type": "stream",
     "text": [
      "gdi, version 0.6.0.dev2\r\n"
     ]
    }
   ],
   "source": [
    "!gdi --version"
   ]
  },
  {
   "cell_type": "markdown",
   "id": "5409ecf8-2158-4361-9d2f-6b1a6c7c63a6",
   "metadata": {
    "papermill": {
     "duration": 0.009955,
     "end_time": "2022-03-10T19:19:30.073006",
     "exception": false,
     "start_time": "2022-03-10T19:19:30.063051",
     "status": "completed"
    },
    "tags": []
   },
   "source": [
    "## 2.1. Index reads"
   ]
  },
  {
   "cell_type": "code",
   "execution_count": 6,
   "id": "3d63e861-733e-46f2-8bce-bd1a2c7c7058",
   "metadata": {
    "execution": {
     "iopub.execute_input": "2022-03-10T19:19:30.098146Z",
     "iopub.status.busy": "2022-03-10T19:19:30.097590Z",
     "iopub.status.idle": "2022-03-10T19:44:40.714467Z",
     "shell.execute_reply": "2022-03-10T19:44:40.715441Z"
    },
    "papermill": {
     "duration": 1510.636393,
     "end_time": "2022-03-10T19:44:40.716099",
     "exception": false,
     "start_time": "2022-03-10T19:19:30.079706",
     "status": "completed"
    },
    "tags": []
   },
   "outputs": [
    {
     "name": "stdout",
     "output_type": "stream",
     "text": [
      "\n",
      "Iteration 1 of index/analysis of 1000 samples with 32 cores\n",
      "Removing any extra snakemake directories: ['snakemake-assemblies.1646939011.2272263']\n"
     ]
    },
    {
     "name": "stdout",
     "output_type": "stream",
     "text": [
      "Creating new index: [gdi init cases/case-1000/index]\n"
     ]
    },
    {
     "name": "stdout",
     "output_type": "stream",
     "text": [
      "Creating a new index took 2.62 seconds\n",
      "Analysis running: [gdi --project-dir cases/case-1000/index --ncores 32 analysis --use-conda --no-load-data --reference-file references/NC_045512.gbk.gz --kmer-size 31 --kmer-size 51 --kmer-size 71 --include-kmer --reads-mincov 10 --input-structured-genomes-file cases/case-1000/input-files-case.tsv]\n"
     ]
    },
    {
     "name": "stdout",
     "output_type": "stream",
     "text": [
      "Analysis took 7.63 minutes\n",
      "Index running: [gdi --project-dir cases/case-1000/index --ncores 32 load vcf-kmer --sample-batch-size 2000 --reference-file references/NC_045512.gbk.gz /home/CSCScience.ca/apetkau/workspace/genomics-data-index-evaluation/evaluations/sars-cov-2/snakemake-assemblies.1646939977.5187113/gdi-input.fofn]\n"
     ]
    },
    {
     "name": "stdout",
     "output_type": "stream",
     "text": [
      "Indexing took 0.92 minutes\n"
     ]
    },
    {
     "name": "stderr",
     "output_type": "stream",
     "text": [
      "A reminder to myself to look for a Python solution for directory sizes (instead of running `du`)\n"
     ]
    },
    {
     "name": "stdout",
     "output_type": "stream",
     "text": [
      "\n",
      "Iteration 2 of index/analysis of 1000 samples with 32 cores\n",
      "Removing any extra snakemake directories: ['snakemake-assemblies.1646939977.5187113']\n"
     ]
    },
    {
     "name": "stdout",
     "output_type": "stream",
     "text": [
      "Removing any existing indexes cases/case-1000/index\n",
      "Creating new index: [gdi init cases/case-1000/index]\n"
     ]
    },
    {
     "name": "stdout",
     "output_type": "stream",
     "text": [
      "Creating a new index took 2.77 seconds\n",
      "Analysis running: [gdi --project-dir cases/case-1000/index --ncores 32 analysis --use-conda --no-load-data --reference-file references/NC_045512.gbk.gz --kmer-size 31 --kmer-size 51 --kmer-size 71 --include-kmer --reads-mincov 10 --input-structured-genomes-file cases/case-1000/input-files-case.tsv]\n"
     ]
    },
    {
     "name": "stdout",
     "output_type": "stream",
     "text": [
      "Analysis took 7.11 minutes\n",
      "Index running: [gdi --project-dir cases/case-1000/index --ncores 32 load vcf-kmer --sample-batch-size 2000 --reference-file references/NC_045512.gbk.gz /home/CSCScience.ca/apetkau/workspace/genomics-data-index-evaluation/evaluations/sars-cov-2/snakemake-assemblies.1646940496.220687/gdi-input.fofn]\n"
     ]
    },
    {
     "name": "stdout",
     "output_type": "stream",
     "text": [
      "Indexing took 1.01 minutes\n"
     ]
    },
    {
     "name": "stderr",
     "output_type": "stream",
     "text": [
      "Attempting to set global database_path_translator=<genomics_data_index.storage.model.db.DatabasePathTranslator.DatabasePathTranslator object at 0x7f339adddd00> but it is already set\n"
     ]
    },
    {
     "name": "stderr",
     "output_type": "stream",
     "text": [
      "A reminder to myself to look for a Python solution for directory sizes (instead of running `du`)\n"
     ]
    },
    {
     "name": "stdout",
     "output_type": "stream",
     "text": [
      "\n",
      "Iteration 3 of index/analysis of 1000 samples with 32 cores\n",
      "Removing any extra snakemake directories: ['snakemake-assemblies.1646940496.220687']\n"
     ]
    },
    {
     "name": "stdout",
     "output_type": "stream",
     "text": [
      "Removing any existing indexes cases/case-1000/index\n",
      "Creating new index: [gdi init cases/case-1000/index]\n"
     ]
    },
    {
     "name": "stdout",
     "output_type": "stream",
     "text": [
      "Creating a new index took 3.15 seconds\n",
      "Analysis running: [gdi --project-dir cases/case-1000/index --ncores 32 analysis --use-conda --no-load-data --reference-file references/NC_045512.gbk.gz --kmer-size 31 --kmer-size 51 --kmer-size 71 --include-kmer --reads-mincov 10 --input-structured-genomes-file cases/case-1000/input-files-case.tsv]\n"
     ]
    },
    {
     "name": "stdout",
     "output_type": "stream",
     "text": [
      "Analysis took 7.19 minutes\n",
      "Index running: [gdi --project-dir cases/case-1000/index --ncores 32 load vcf-kmer --sample-batch-size 2000 --reference-file references/NC_045512.gbk.gz /home/CSCScience.ca/apetkau/workspace/genomics-data-index-evaluation/evaluations/sars-cov-2/snakemake-assemblies.1646940989.737094/gdi-input.fofn]\n"
     ]
    },
    {
     "name": "stdout",
     "output_type": "stream",
     "text": [
      "Indexing took 1.03 minutes\n"
     ]
    },
    {
     "name": "stderr",
     "output_type": "stream",
     "text": [
      "Attempting to set global database_path_translator=<genomics_data_index.storage.model.db.DatabasePathTranslator.DatabasePathTranslator object at 0x7f33ec512a60> but it is already set\n"
     ]
    },
    {
     "name": "stderr",
     "output_type": "stream",
     "text": [
      "A reminder to myself to look for a Python solution for directory sizes (instead of running `du`)\n"
     ]
    }
   ],
   "source": [
    "results_handler = gdi_benchmark.BenchmarkResultsHandler(name=case_name)\n",
    "benchmarker = gdi_benchmark.IndexBenchmarker(benchmark_results_handler=results_handler,\n",
    "                                             index_path=index_path, input_files_file=cases_input,\n",
    "                                             reference_file=reference_file, mincov=mincov,\n",
    "                                             build_tree=build_tree,\n",
    "                                             ncores=ncores,\n",
    "                                             sample_batch_size=sample_batch_size)\n",
    "\n",
    "benchmark_df = benchmarker.benchmark(iterations=iterations)"
   ]
  },
  {
   "cell_type": "code",
   "execution_count": 7,
   "id": "3bcb6da7-0164-47f2-abdd-a4c159da1e3b",
   "metadata": {
    "execution": {
     "iopub.execute_input": "2022-03-10T19:44:40.768392Z",
     "iopub.status.busy": "2022-03-10T19:44:40.758095Z",
     "iopub.status.idle": "2022-03-10T19:44:40.794636Z",
     "shell.execute_reply": "2022-03-10T19:44:40.795541Z"
    },
    "papermill": {
     "duration": 0.059374,
     "end_time": "2022-03-10T19:44:40.795816",
     "exception": false,
     "start_time": "2022-03-10T19:44:40.736442",
     "status": "completed"
    },
    "tags": []
   },
   "outputs": [
    {
     "data": {
      "text/html": [
       "<div>\n",
       "<style scoped>\n",
       "    .dataframe tbody tr th:only-of-type {\n",
       "        vertical-align: middle;\n",
       "    }\n",
       "\n",
       "    .dataframe tbody tr th {\n",
       "        vertical-align: top;\n",
       "    }\n",
       "\n",
       "    .dataframe thead th {\n",
       "        text-align: right;\n",
       "    }\n",
       "</style>\n",
       "<table border=\"1\" class=\"dataframe\">\n",
       "  <thead>\n",
       "    <tr style=\"text-align: right;\">\n",
       "      <th></th>\n",
       "      <th>Name</th>\n",
       "      <th>Reference name</th>\n",
       "      <th>Iteration</th>\n",
       "      <th>Number samples</th>\n",
       "      <th>Number features (all)</th>\n",
       "      <th>Number features (no unknown)</th>\n",
       "      <th>Number cores</th>\n",
       "      <th>Reference length</th>\n",
       "      <th>Analysis runtime</th>\n",
       "      <th>Analysis memory (max)</th>\n",
       "      <th>...</th>\n",
       "      <th>Analysis disk uage</th>\n",
       "      <th>Index runtime</th>\n",
       "      <th>Index memory (max)</th>\n",
       "      <th>Index memory (max/process)</th>\n",
       "      <th>Index size</th>\n",
       "      <th>Tree runtime</th>\n",
       "      <th>Tree memory (max)</th>\n",
       "      <th>Tree memory (max/process)</th>\n",
       "      <th>Total runtime</th>\n",
       "      <th>Max memory</th>\n",
       "    </tr>\n",
       "  </thead>\n",
       "  <tbody>\n",
       "    <tr>\n",
       "      <th>0</th>\n",
       "      <td>case-1000</td>\n",
       "      <td>NC_045512</td>\n",
       "      <td>1</td>\n",
       "      <td>1000</td>\n",
       "      <td>31190</td>\n",
       "      <td>1836</td>\n",
       "      <td>32</td>\n",
       "      <td>29903</td>\n",
       "      <td>457.41</td>\n",
       "      <td>1.236427e+09</td>\n",
       "      <td>...</td>\n",
       "      <td>3.877589e+09</td>\n",
       "      <td>55.13</td>\n",
       "      <td>6.211723e+09</td>\n",
       "      <td>769105920.0</td>\n",
       "      <td>22052864.0</td>\n",
       "      <td>&lt;NA&gt;</td>\n",
       "      <td>&lt;NA&gt;</td>\n",
       "      <td>&lt;NA&gt;</td>\n",
       "      <td>512.54</td>\n",
       "      <td>6.211723e+09</td>\n",
       "    </tr>\n",
       "    <tr>\n",
       "      <th>0</th>\n",
       "      <td>case-1000</td>\n",
       "      <td>NC_045512</td>\n",
       "      <td>2</td>\n",
       "      <td>1000</td>\n",
       "      <td>31190</td>\n",
       "      <td>1836</td>\n",
       "      <td>32</td>\n",
       "      <td>29903</td>\n",
       "      <td>426.29</td>\n",
       "      <td>1.278177e+09</td>\n",
       "      <td>...</td>\n",
       "      <td>3.877609e+09</td>\n",
       "      <td>60.71</td>\n",
       "      <td>6.217683e+09</td>\n",
       "      <td>769347584.0</td>\n",
       "      <td>22044672.0</td>\n",
       "      <td>&lt;NA&gt;</td>\n",
       "      <td>&lt;NA&gt;</td>\n",
       "      <td>&lt;NA&gt;</td>\n",
       "      <td>487.00</td>\n",
       "      <td>6.217683e+09</td>\n",
       "    </tr>\n",
       "    <tr>\n",
       "      <th>0</th>\n",
       "      <td>case-1000</td>\n",
       "      <td>NC_045512</td>\n",
       "      <td>3</td>\n",
       "      <td>1000</td>\n",
       "      <td>31190</td>\n",
       "      <td>1836</td>\n",
       "      <td>32</td>\n",
       "      <td>29903</td>\n",
       "      <td>431.49</td>\n",
       "      <td>1.228747e+09</td>\n",
       "      <td>...</td>\n",
       "      <td>3.877564e+09</td>\n",
       "      <td>61.52</td>\n",
       "      <td>6.216126e+09</td>\n",
       "      <td>769810432.0</td>\n",
       "      <td>22032384.0</td>\n",
       "      <td>&lt;NA&gt;</td>\n",
       "      <td>&lt;NA&gt;</td>\n",
       "      <td>&lt;NA&gt;</td>\n",
       "      <td>493.01</td>\n",
       "      <td>6.216126e+09</td>\n",
       "    </tr>\n",
       "  </tbody>\n",
       "</table>\n",
       "<p>3 rows × 21 columns</p>\n",
       "</div>"
      ],
      "text/plain": [
       "        Name Reference name  Iteration  Number samples  Number features (all)  \\\n",
       "0  case-1000      NC_045512          1            1000                  31190   \n",
       "0  case-1000      NC_045512          2            1000                  31190   \n",
       "0  case-1000      NC_045512          3            1000                  31190   \n",
       "\n",
       "   Number features (no unknown)  Number cores  Reference length  \\\n",
       "0                          1836            32             29903   \n",
       "0                          1836            32             29903   \n",
       "0                          1836            32             29903   \n",
       "\n",
       "   Analysis runtime  Analysis memory (max)  ...  Analysis disk uage  \\\n",
       "0            457.41           1.236427e+09  ...        3.877589e+09   \n",
       "0            426.29           1.278177e+09  ...        3.877609e+09   \n",
       "0            431.49           1.228747e+09  ...        3.877564e+09   \n",
       "\n",
       "   Index runtime  Index memory (max)  Index memory (max/process)  Index size  \\\n",
       "0          55.13        6.211723e+09                 769105920.0  22052864.0   \n",
       "0          60.71        6.217683e+09                 769347584.0  22044672.0   \n",
       "0          61.52        6.216126e+09                 769810432.0  22032384.0   \n",
       "\n",
       "   Tree runtime Tree memory (max) Tree memory (max/process) Total runtime  \\\n",
       "0          <NA>              <NA>                      <NA>        512.54   \n",
       "0          <NA>              <NA>                      <NA>        487.00   \n",
       "0          <NA>              <NA>                      <NA>        493.01   \n",
       "\n",
       "     Max memory  \n",
       "0  6.211723e+09  \n",
       "0  6.217683e+09  \n",
       "0  6.216126e+09  \n",
       "\n",
       "[3 rows x 21 columns]"
      ]
     },
     "execution_count": 7,
     "metadata": {},
     "output_type": "execute_result"
    }
   ],
   "source": [
    "benchmark_df"
   ]
  },
  {
   "cell_type": "code",
   "execution_count": 8,
   "id": "535a9ccc-ab9c-4919-806f-128e1efd2389",
   "metadata": {
    "execution": {
     "iopub.execute_input": "2022-03-10T19:44:40.832852Z",
     "iopub.status.busy": "2022-03-10T19:44:40.832452Z",
     "iopub.status.idle": "2022-03-10T19:44:40.839327Z",
     "shell.execute_reply": "2022-03-10T19:44:40.838428Z"
    },
    "papermill": {
     "duration": 0.023319,
     "end_time": "2022-03-10T19:44:40.839558",
     "exception": false,
     "start_time": "2022-03-10T19:44:40.816239",
     "status": "completed"
    },
    "tags": []
   },
   "outputs": [],
   "source": [
    "benchmark_df.to_csv(benchmark_path, sep='\\t', index=False)"
   ]
  },
  {
   "cell_type": "markdown",
   "id": "6cb7673b-9f85-4c43-b2e2-93538497a196",
   "metadata": {
    "papermill": {
     "duration": 0.012492,
     "end_time": "2022-03-10T19:44:40.875219",
     "exception": false,
     "start_time": "2022-03-10T19:44:40.862727",
     "status": "completed"
    },
    "tags": []
   },
   "source": [
    "# 3. Export trees"
   ]
  },
  {
   "cell_type": "code",
   "execution_count": 9,
   "id": "5280f82c-5434-4391-8c44-b937a7c95bd5",
   "metadata": {
    "execution": {
     "iopub.execute_input": "2022-03-10T19:44:40.901798Z",
     "iopub.status.busy": "2022-03-10T19:44:40.901395Z",
     "iopub.status.idle": "2022-03-10T19:44:40.906072Z",
     "shell.execute_reply": "2022-03-10T19:44:40.906973Z"
    },
    "papermill": {
     "duration": 0.022292,
     "end_time": "2022-03-10T19:44:40.907236",
     "exception": false,
     "start_time": "2022-03-10T19:44:40.884944",
     "status": "completed"
    },
    "tags": []
   },
   "outputs": [
    {
     "name": "stdout",
     "output_type": "stream",
     "text": [
      "build_tree=False so no tree to export\n"
     ]
    }
   ],
   "source": [
    "if build_tree:\n",
    "    !gdi --project-dir {index_path} export tree {reference_name} > {output_tree}\n",
    "    print(f'Wrote tree to {output_tree}')\n",
    "else:\n",
    "    print(f'build_tree={build_tree} so no tree to export')"
   ]
  }
 ],
 "metadata": {
  "kernelspec": {
   "display_name": "Python 3 (ipykernel)",
   "language": "python",
   "name": "python3"
  },
  "language_info": {
   "codemirror_mode": {
    "name": "ipython",
    "version": 3
   },
   "file_extension": ".py",
   "mimetype": "text/x-python",
   "name": "python",
   "nbconvert_exporter": "python",
   "pygments_lexer": "ipython3",
   "version": "3.8.12"
  },
  "papermill": {
   "default_parameters": {},
   "duration": 1518.544797,
   "end_time": "2022-03-10T19:44:41.446209",
   "environment_variables": {},
   "exception": null,
   "input_path": "template-3-index-genomes.ipynb",
   "output_path": "3-index-genomes.case-1000.ipynb",
   "parameters": {
    "build_tree": false,
    "cases_dir": "cases/case-1000",
    "iterations": 3,
    "number_samples": 1000
   },
   "start_time": "2022-03-10T19:19:22.901412",
   "version": "2.3.3"
  }
 },
 "nbformat": 4,
 "nbformat_minor": 5
}