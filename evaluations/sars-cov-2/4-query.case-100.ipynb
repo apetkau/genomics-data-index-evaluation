{
 "cells": [
  {
   "cell_type": "markdown",
   "id": "f1bc3e40-3158-4009-8a9b-371a7d2d2efe",
   "metadata": {
    "papermill": {
     "duration": 0.010263,
     "end_time": "2021-09-08T04:38:18.337026",
     "exception": false,
     "start_time": "2021-09-08T04:38:18.326763",
     "status": "completed"
    },
    "tags": []
   },
   "source": [
    "# 1. Parameters"
   ]
  },
  {
   "cell_type": "code",
   "execution_count": 1,
   "id": "cf8880a6-5194-4ced-be67-c0610a332a31",
   "metadata": {
    "execution": {
     "iopub.execute_input": "2021-09-08T04:38:18.365388Z",
     "iopub.status.busy": "2021-09-08T04:38:18.364793Z",
     "iopub.status.idle": "2021-09-08T04:38:18.366337Z",
     "shell.execute_reply": "2021-09-08T04:38:18.365846Z"
    },
    "papermill": {
     "duration": 0.019278,
     "end_time": "2021-09-08T04:38:18.366458",
     "exception": false,
     "start_time": "2021-09-08T04:38:18.347180",
     "status": "completed"
    },
    "tags": [
     "parameters"
    ]
   },
   "outputs": [],
   "source": [
    "cases_dir = 'cases/unset'\n",
    "metadata_file = 'input/metadata-subsample-pangolin.tsv'"
   ]
  },
  {
   "cell_type": "code",
   "execution_count": 2,
   "id": "7f026e81",
   "metadata": {
    "execution": {
     "iopub.execute_input": "2021-09-08T04:38:18.389416Z",
     "iopub.status.busy": "2021-09-08T04:38:18.388829Z",
     "iopub.status.idle": "2021-09-08T04:38:18.390296Z",
     "shell.execute_reply": "2021-09-08T04:38:18.389878Z"
    },
    "papermill": {
     "duration": 0.014417,
     "end_time": "2021-09-08T04:38:18.390398",
     "exception": false,
     "start_time": "2021-09-08T04:38:18.375981",
     "status": "completed"
    },
    "tags": [
     "injected-parameters"
    ]
   },
   "outputs": [],
   "source": [
    "# Parameters\n",
    "cases_dir = \"cases/case-100\"\n",
    "iterations = 3\n",
    "number_samples = 100\n"
   ]
  },
  {
   "cell_type": "code",
   "execution_count": 3,
   "id": "7e54ac3f-8dff-492e-8096-65a2ed9f5c90",
   "metadata": {
    "execution": {
     "iopub.execute_input": "2021-09-08T04:38:18.424434Z",
     "iopub.status.busy": "2021-09-08T04:38:18.423934Z",
     "iopub.status.idle": "2021-09-08T04:38:21.677302Z",
     "shell.execute_reply": "2021-09-08T04:38:21.677861Z"
    },
    "papermill": {
     "duration": 3.27773,
     "end_time": "2021-09-08T04:38:21.678030",
     "exception": false,
     "start_time": "2021-09-08T04:38:18.400300",
     "status": "completed"
    },
    "tags": []
   },
   "outputs": [],
   "source": [
    "from pathlib import Path\n",
    "import imp\n",
    "fp, pathname, description = imp.find_module('gdi_benchmark', ['../../lib'])\n",
    "gdi_benchmark = imp.load_module('gdi_benchmark', fp, pathname, description)\n",
    "\n",
    "cases_dir_path = Path(cases_dir)\n",
    "\n",
    "case_name = str(cases_dir_path.name)\n",
    "index_path = cases_dir_path / 'index'\n",
    "\n",
    "output_api_path = cases_dir_path / 'query-api.tsv'\n",
    "output_cli_path = cases_dir_path / 'query-cli.tsv'"
   ]
  },
  {
   "cell_type": "markdown",
   "id": "54537d03-809a-487c-8686-5e1791dc11de",
   "metadata": {
    "papermill": {
     "duration": 0.028617,
     "end_time": "2021-09-08T04:38:21.716948",
     "exception": false,
     "start_time": "2021-09-08T04:38:21.688331",
     "status": "completed"
    },
    "tags": []
   },
   "source": [
    "# 2. Benchmark command-line"
   ]
  },
  {
   "cell_type": "code",
   "execution_count": 4,
   "id": "9f4b5122-586c-440f-be52-0b7ab161de46",
   "metadata": {
    "execution": {
     "iopub.execute_input": "2021-09-08T04:38:21.742452Z",
     "iopub.status.busy": "2021-09-08T04:38:21.741942Z",
     "iopub.status.idle": "2021-09-08T04:38:21.744324Z",
     "shell.execute_reply": "2021-09-08T04:38:21.743909Z"
    },
    "papermill": {
     "duration": 0.018202,
     "end_time": "2021-09-08T04:38:21.744423",
     "exception": false,
     "start_time": "2021-09-08T04:38:21.726221",
     "status": "completed"
    },
    "tags": []
   },
   "outputs": [],
   "source": [
    "import pandas as pd\n",
    "import genomics_data_index.api as gdi\n",
    "\n",
    "def benchmark_cli_index(name: str, index_path: Path) -> pd.DataFrame:\n",
    "    benchmark_commands = {\n",
    "        'query hasa':               f'gdi --project-dir {index_path} --ncores 1 query \"hasa:hgvs_gn:NC_045512.2:S:p.D614G\"',\n",
    "        'query isa':                f'gdi --project-dir {index_path} --ncores 1 query \"isa:Switzerland/100112/2020\"',\n",
    "        'query isin':               f'gdi --project-dir {index_path} --ncores 1 query --reference-name NC_045512 \"isin_5_substitutions:Switzerland/100112/2020\"',\n",
    "        'query --summary':          f'gdi --project-dir {index_path} --ncores 1 query --summarize',\n",
    "        'query --features-summary': f'gdi --project-dir {index_path} --ncores 1 query --features-summary',\n",
    "        'list samples':             f'gdi --project-dir {index_path} --ncores 1 list samples',\n",
    "    }\n",
    "    \n",
    "    db = gdi.GenomicsDataIndex.connect(index_path)\n",
    "    number_samples = db.count_samples()\n",
    "    number_features_no_unknown = db.count_mutations(reference_genome='NC_045512', include_unknown=False)\n",
    "    number_features_all = db.count_mutations(reference_genome='NC_045512', include_unknown=True)\n",
    "    iterations = 10\n",
    "    \n",
    "    benchmarker = gdi_benchmark.QueryBenchmarkHandler()\n",
    "    return benchmarker.benchmark_cli(name=name, kind_commands=benchmark_commands, number_samples=number_samples,\n",
    "                                    number_features_no_unknown=number_features_no_unknown, number_features_all=number_features_all,\n",
    "                                     iterations=iterations)"
   ]
  },
  {
   "cell_type": "code",
   "execution_count": 5,
   "id": "c339bf1b-f934-4e3a-9796-25374627e237",
   "metadata": {
    "execution": {
     "iopub.execute_input": "2021-09-08T04:38:21.777812Z",
     "iopub.status.busy": "2021-09-08T04:38:21.777328Z",
     "iopub.status.idle": "2021-09-08T04:42:59.289161Z",
     "shell.execute_reply": "2021-09-08T04:42:59.290505Z"
    },
    "papermill": {
     "duration": 277.537077,
     "end_time": "2021-09-08T04:42:59.290700",
     "exception": false,
     "start_time": "2021-09-08T04:38:21.753623",
     "status": "completed"
    },
    "tags": []
   },
   "outputs": [
    {
     "data": {
      "text/html": [
       "<div>\n",
       "<style scoped>\n",
       "    .dataframe tbody tr th:only-of-type {\n",
       "        vertical-align: middle;\n",
       "    }\n",
       "\n",
       "    .dataframe tbody tr th {\n",
       "        vertical-align: top;\n",
       "    }\n",
       "\n",
       "    .dataframe thead th {\n",
       "        text-align: right;\n",
       "    }\n",
       "</style>\n",
       "<table border=\"1\" class=\"dataframe\">\n",
       "  <thead>\n",
       "    <tr style=\"text-align: right;\">\n",
       "      <th></th>\n",
       "      <th>Name</th>\n",
       "      <th>Kind</th>\n",
       "      <th>Iteration</th>\n",
       "      <th>Number samples</th>\n",
       "      <th>Number features (no unknown)</th>\n",
       "      <th>Number features (all)</th>\n",
       "      <th>Runtime</th>\n",
       "      <th>Memory (max)</th>\n",
       "      <th>Mmemory (max/process)</th>\n",
       "    </tr>\n",
       "  </thead>\n",
       "  <tbody>\n",
       "    <tr>\n",
       "      <th>0</th>\n",
       "      <td>case-100</td>\n",
       "      <td>query hasa</td>\n",
       "      <td>1</td>\n",
       "      <td>100</td>\n",
       "      <td>370</td>\n",
       "      <td>9536</td>\n",
       "      <td>4.31</td>\n",
       "      <td>221790208.0</td>\n",
       "      <td>221790208.0</td>\n",
       "    </tr>\n",
       "    <tr>\n",
       "      <th>0</th>\n",
       "      <td>case-100</td>\n",
       "      <td>query hasa</td>\n",
       "      <td>2</td>\n",
       "      <td>100</td>\n",
       "      <td>370</td>\n",
       "      <td>9536</td>\n",
       "      <td>3.96</td>\n",
       "      <td>238583808.0</td>\n",
       "      <td>222044160.0</td>\n",
       "    </tr>\n",
       "    <tr>\n",
       "      <th>0</th>\n",
       "      <td>case-100</td>\n",
       "      <td>query hasa</td>\n",
       "      <td>3</td>\n",
       "      <td>100</td>\n",
       "      <td>370</td>\n",
       "      <td>9536</td>\n",
       "      <td>5.03</td>\n",
       "      <td>237809664.0</td>\n",
       "      <td>221376512.0</td>\n",
       "    </tr>\n",
       "  </tbody>\n",
       "</table>\n",
       "</div>"
      ],
      "text/plain": [
       "       Name        Kind  Iteration  Number samples  \\\n",
       "0  case-100  query hasa          1             100   \n",
       "0  case-100  query hasa          2             100   \n",
       "0  case-100  query hasa          3             100   \n",
       "\n",
       "   Number features (no unknown)  Number features (all)  Runtime  Memory (max)  \\\n",
       "0                           370                   9536     4.31   221790208.0   \n",
       "0                           370                   9536     3.96   238583808.0   \n",
       "0                           370                   9536     5.03   237809664.0   \n",
       "\n",
       "   Mmemory (max/process)  \n",
       "0            221790208.0  \n",
       "0            222044160.0  \n",
       "0            221376512.0  "
      ]
     },
     "execution_count": 5,
     "metadata": {},
     "output_type": "execute_result"
    }
   ],
   "source": [
    "cli_df = benchmark_cli_index(name=case_name, index_path=index_path)\n",
    "cli_df.head(3)"
   ]
  },
  {
   "cell_type": "code",
   "execution_count": 6,
   "id": "1b71ed98-d69a-4038-b337-3b8bbf421bf3",
   "metadata": {
    "execution": {
     "iopub.execute_input": "2021-09-08T04:42:59.321947Z",
     "iopub.status.busy": "2021-09-08T04:42:59.321257Z",
     "iopub.status.idle": "2021-09-08T04:42:59.322980Z",
     "shell.execute_reply": "2021-09-08T04:42:59.322486Z"
    },
    "papermill": {
     "duration": 0.020324,
     "end_time": "2021-09-08T04:42:59.323100",
     "exception": false,
     "start_time": "2021-09-08T04:42:59.302776",
     "status": "completed"
    },
    "tags": []
   },
   "outputs": [],
   "source": [
    "cli_df.to_csv(output_cli_path, sep='\\t', index=False)"
   ]
  },
  {
   "cell_type": "markdown",
   "id": "163cd729-a654-499a-a5b7-dc0bd78d8128",
   "metadata": {
    "papermill": {
     "duration": 0.011379,
     "end_time": "2021-09-08T04:42:59.346040",
     "exception": false,
     "start_time": "2021-09-08T04:42:59.334661",
     "status": "completed"
    },
    "tags": []
   },
   "source": [
    "# 3. Test query API"
   ]
  },
  {
   "cell_type": "markdown",
   "id": "777dbb2e-330f-4de7-b451-1ca902cc3386",
   "metadata": {
    "papermill": {
     "duration": 0.009744,
     "end_time": "2021-09-08T04:42:59.365605",
     "exception": false,
     "start_time": "2021-09-08T04:42:59.355861",
     "status": "completed"
    },
    "tags": []
   },
   "source": [
    "## 3.1. Load (example) metadata\n",
    "\n",
    "The simulated data is based off of real sample names and a real tree. So I can load up real metadata and attach it to a query (though the mutations and reference genome are all simulated)."
   ]
  },
  {
   "cell_type": "code",
   "execution_count": 7,
   "id": "19e1d02c-7bb7-44ef-a1ce-3d20dc420686",
   "metadata": {
    "execution": {
     "iopub.execute_input": "2021-09-08T04:42:59.408657Z",
     "iopub.status.busy": "2021-09-08T04:42:59.408165Z",
     "iopub.status.idle": "2021-09-08T04:42:59.597072Z",
     "shell.execute_reply": "2021-09-08T04:42:59.598028Z"
    },
    "papermill": {
     "duration": 0.222828,
     "end_time": "2021-09-08T04:42:59.598241",
     "exception": false,
     "start_time": "2021-09-08T04:42:59.375413",
     "status": "completed"
    },
    "tags": []
   },
   "outputs": [
    {
     "data": {
      "text/html": [
       "<div>\n",
       "<style scoped>\n",
       "    .dataframe tbody tr th:only-of-type {\n",
       "        vertical-align: middle;\n",
       "    }\n",
       "\n",
       "    .dataframe tbody tr th {\n",
       "        vertical-align: top;\n",
       "    }\n",
       "\n",
       "    .dataframe thead th {\n",
       "        text-align: right;\n",
       "    }\n",
       "</style>\n",
       "<table border=\"1\" class=\"dataframe\">\n",
       "  <thead>\n",
       "    <tr style=\"text-align: right;\">\n",
       "      <th></th>\n",
       "      <th>strain</th>\n",
       "      <th>virus</th>\n",
       "      <th>gisaid_epi_isl</th>\n",
       "      <th>genbank_accession</th>\n",
       "      <th>sra_accession</th>\n",
       "      <th>date</th>\n",
       "      <th>region</th>\n",
       "      <th>country</th>\n",
       "      <th>division</th>\n",
       "      <th>location</th>\n",
       "      <th>...</th>\n",
       "      <th>ambiguity_score</th>\n",
       "      <th>scorpio_call</th>\n",
       "      <th>scorpio_support</th>\n",
       "      <th>scorpio_conflict</th>\n",
       "      <th>version</th>\n",
       "      <th>pangolin_version</th>\n",
       "      <th>pangoLEARN_version</th>\n",
       "      <th>pango_version</th>\n",
       "      <th>status</th>\n",
       "      <th>note</th>\n",
       "    </tr>\n",
       "  </thead>\n",
       "  <tbody>\n",
       "    <tr>\n",
       "      <th>0</th>\n",
       "      <td>England/QEUH-148725F/2021</td>\n",
       "      <td>ncov</td>\n",
       "      <td>EPI_ISL_1487327</td>\n",
       "      <td>OU224813</td>\n",
       "      <td>ERR5679447</td>\n",
       "      <td>2021-03-28</td>\n",
       "      <td>Europe</td>\n",
       "      <td>United Kingdom</td>\n",
       "      <td>England</td>\n",
       "      <td>NaN</td>\n",
       "      <td>...</td>\n",
       "      <td>1.0</td>\n",
       "      <td>Alpha (B.1.1.7-like)</td>\n",
       "      <td>0.9565</td>\n",
       "      <td>0.0435</td>\n",
       "      <td>PLEARN-v1.2.66</td>\n",
       "      <td>3.1.11</td>\n",
       "      <td>2021-08-24</td>\n",
       "      <td>v1.2.66</td>\n",
       "      <td>passed_qc</td>\n",
       "      <td>scorpio call: Alt alleles 22; Ref alleles 1; A...</td>\n",
       "    </tr>\n",
       "    <tr>\n",
       "      <th>1</th>\n",
       "      <td>England/MILK-1535AC0/2021</td>\n",
       "      <td>ncov</td>\n",
       "      <td>EPI_ISL_1985652</td>\n",
       "      <td>OU266415</td>\n",
       "      <td>ERR5905912</td>\n",
       "      <td>2021-04-24</td>\n",
       "      <td>Europe</td>\n",
       "      <td>United Kingdom</td>\n",
       "      <td>England</td>\n",
       "      <td>NaN</td>\n",
       "      <td>...</td>\n",
       "      <td>1.0</td>\n",
       "      <td>B.1.1.318-like</td>\n",
       "      <td>0.8421</td>\n",
       "      <td>0.0000</td>\n",
       "      <td>PLEARN-v1.2.66</td>\n",
       "      <td>3.1.11</td>\n",
       "      <td>2021-08-24</td>\n",
       "      <td>v1.2.66</td>\n",
       "      <td>passed_qc</td>\n",
       "      <td>scorpio call: Alt alleles 16; Ref alleles 0; A...</td>\n",
       "    </tr>\n",
       "  </tbody>\n",
       "</table>\n",
       "<p>2 rows × 53 columns</p>\n",
       "</div>"
      ],
      "text/plain": [
       "                      strain virus   gisaid_epi_isl genbank_accession  \\\n",
       "0  England/QEUH-148725F/2021  ncov  EPI_ISL_1487327          OU224813   \n",
       "1  England/MILK-1535AC0/2021  ncov  EPI_ISL_1985652          OU266415   \n",
       "\n",
       "  sra_accession        date  region         country division location  ...  \\\n",
       "0    ERR5679447  2021-03-28  Europe  United Kingdom  England      NaN  ...   \n",
       "1    ERR5905912  2021-04-24  Europe  United Kingdom  England      NaN  ...   \n",
       "\n",
       "  ambiguity_score          scorpio_call scorpio_support scorpio_conflict  \\\n",
       "0             1.0  Alpha (B.1.1.7-like)          0.9565           0.0435   \n",
       "1             1.0        B.1.1.318-like          0.8421           0.0000   \n",
       "\n",
       "          version pangolin_version pangoLEARN_version pango_version  \\\n",
       "0  PLEARN-v1.2.66           3.1.11         2021-08-24       v1.2.66   \n",
       "1  PLEARN-v1.2.66           3.1.11         2021-08-24       v1.2.66   \n",
       "\n",
       "      status                                               note  \n",
       "0  passed_qc  scorpio call: Alt alleles 22; Ref alleles 1; A...  \n",
       "1  passed_qc  scorpio call: Alt alleles 16; Ref alleles 0; A...  \n",
       "\n",
       "[2 rows x 53 columns]"
      ]
     },
     "execution_count": 7,
     "metadata": {},
     "output_type": "execute_result"
    }
   ],
   "source": [
    "import pandas as pd\n",
    "\n",
    "metadata_df = pd.read_csv(metadata_file, sep='\\t')\n",
    "metadata_df.head(2)"
   ]
  },
  {
   "cell_type": "markdown",
   "id": "6471c107-835d-4dac-812c-951d0527982e",
   "metadata": {
    "papermill": {
     "duration": 0.010636,
     "end_time": "2021-09-08T04:42:59.620390",
     "exception": false,
     "start_time": "2021-09-08T04:42:59.609754",
     "status": "completed"
    },
    "tags": []
   },
   "source": [
    "## 3.2. Define benchmark cases"
   ]
  },
  {
   "cell_type": "code",
   "execution_count": 8,
   "id": "e347bcfb-4d0c-4fe8-b68c-00de30d924d9",
   "metadata": {
    "execution": {
     "iopub.execute_input": "2021-09-08T04:42:59.661283Z",
     "iopub.status.busy": "2021-09-08T04:42:59.660664Z",
     "iopub.status.idle": "2021-09-08T04:42:59.662051Z",
     "shell.execute_reply": "2021-09-08T04:42:59.662451Z"
    },
    "papermill": {
     "duration": 0.025159,
     "end_time": "2021-09-08T04:42:59.662716",
     "exception": false,
     "start_time": "2021-09-08T04:42:59.637557",
     "status": "completed"
    },
    "tags": []
   },
   "outputs": [],
   "source": [
    "from typing import List\n",
    "import genomics_data_index.api as gdi\n",
    "\n",
    "def benchmark_api_index(name: str, index_path: Path) -> pd.DataFrame:\n",
    "    db = gdi.GenomicsDataIndex.connect(index_path)\n",
    "    q_no_join = db.samples_query(reference_name='NC_045512', universe='mutations')\n",
    "    q_join = db.samples_query(reference_name='NC_045512', universe='mutations').join(metadata_df, sample_names_column='strain')\n",
    "\n",
    "    q = q_join.hasa('hgvs_gn:NC_045512.2:S:p.D614G')\n",
    "    r = q_join.hasa('hgvs_gn:NC_045512.2:N:p.R203K')\n",
    "    \n",
    "    number_samples = db.count_samples()\n",
    "    number_features_no_unknown = db.count_mutations(reference_genome='NC_045512', include_unknown=False)\n",
    "    number_features_all = db.count_mutations(reference_genome='NC_045512', include_unknown=True)\n",
    "    repeat = 10\n",
    "\n",
    "    benchmark_cases = {\n",
    "        'db.samples_query':      lambda: db.samples_query(reference_name='NC_045512', universe='mutations'),\n",
    "        'q.join':                lambda: q_no_join.join(metadata_df, sample_names_column='strain'),\n",
    "        'q.features_summary':    lambda: q_join.features_summary(),\n",
    "        'q.features_comparison': lambda: q_join.features_comparison(sample_categories='lineage', categories_kind='dataframe', kind='mutations', unit='proportion'),\n",
    "        'q.hasa':                lambda: q_join.hasa(\"hgvs_gn:NC_045512.2:N:p.R203K\"),\n",
    "        'q.isa':                 lambda: q_join.isa(\"Switzerland/100112/2020\"),\n",
    "        'q.isin (distance)':     lambda: q_join.isin(\"Switzerland/100112/2020\", kind='distance', distance=5, units='substitutions'),\n",
    "        'q.isin (mrca)':         lambda: q_join.isin([\"Switzerland/100112/2020\", \"LR880642\"], kind='mrca'),\n",
    "        'q AND r':               lambda: q & r,\n",
    "        'q.toframe':             lambda: q_join.toframe(),\n",
    "        'q.summary':             lambda: q_join.summary(),\n",
    "    }\n",
    "\n",
    "    benchmarker = gdi_benchmark.QueryBenchmarkHandler()\n",
    "    return benchmarker.benchmark_api(name=name, kind_functions=benchmark_cases,\n",
    "                                       number_samples=number_samples,\n",
    "                                       number_features_no_unknown=number_features_no_unknown,\n",
    "                                       number_features_all=number_features_all,\n",
    "                                       repeat=repeat)"
   ]
  },
  {
   "cell_type": "markdown",
   "id": "f2180ae5-7850-4680-8e9e-45872d56accb",
   "metadata": {
    "papermill": {
     "duration": 0.010443,
     "end_time": "2021-09-08T04:42:59.683860",
     "exception": false,
     "start_time": "2021-09-08T04:42:59.673417",
     "status": "completed"
    },
    "tags": []
   },
   "source": [
    "## 3.3. Benchmark reads index"
   ]
  },
  {
   "cell_type": "code",
   "execution_count": 9,
   "id": "04d3a9c7-23a6-4a04-8735-a637c5534ba8",
   "metadata": {
    "execution": {
     "iopub.execute_input": "2021-09-08T04:42:59.711411Z",
     "iopub.status.busy": "2021-09-08T04:42:59.710869Z",
     "iopub.status.idle": "2021-09-08T04:43:38.447342Z",
     "shell.execute_reply": "2021-09-08T04:43:38.449639Z"
    },
    "papermill": {
     "duration": 38.755441,
     "end_time": "2021-09-08T04:43:38.449792",
     "exception": false,
     "start_time": "2021-09-08T04:42:59.694351",
     "status": "completed"
    },
    "tags": []
   },
   "outputs": [
    {
     "name": "stderr",
     "output_type": "stream",
     "text": [
      "Attempting to set global database_path_translator=<genomics_data_index.storage.model.db.DatabasePathTranslator.DatabasePathTranslator object at 0x7f82291deac0> but it is already set\n"
     ]
    },
    {
     "data": {
      "text/html": [
       "<div>\n",
       "<style scoped>\n",
       "    .dataframe tbody tr th:only-of-type {\n",
       "        vertical-align: middle;\n",
       "    }\n",
       "\n",
       "    .dataframe tbody tr th {\n",
       "        vertical-align: top;\n",
       "    }\n",
       "\n",
       "    .dataframe thead th {\n",
       "        text-align: right;\n",
       "    }\n",
       "</style>\n",
       "<table border=\"1\" class=\"dataframe\">\n",
       "  <thead>\n",
       "    <tr style=\"text-align: right;\">\n",
       "      <th></th>\n",
       "      <th>Name</th>\n",
       "      <th>Kind</th>\n",
       "      <th>Number samples</th>\n",
       "      <th>Number features (no unknown)</th>\n",
       "      <th>Number features (all)</th>\n",
       "      <th>Number executions</th>\n",
       "      <th>Iteration</th>\n",
       "      <th>Time</th>\n",
       "    </tr>\n",
       "  </thead>\n",
       "  <tbody>\n",
       "    <tr>\n",
       "      <th>0</th>\n",
       "      <td>case-100</td>\n",
       "      <td>db.samples_query</td>\n",
       "      <td>100</td>\n",
       "      <td>370</td>\n",
       "      <td>9536</td>\n",
       "      <td>100</td>\n",
       "      <td>1</td>\n",
       "      <td>0.003631</td>\n",
       "    </tr>\n",
       "    <tr>\n",
       "      <th>1</th>\n",
       "      <td>case-100</td>\n",
       "      <td>db.samples_query</td>\n",
       "      <td>100</td>\n",
       "      <td>370</td>\n",
       "      <td>9536</td>\n",
       "      <td>100</td>\n",
       "      <td>2</td>\n",
       "      <td>0.003623</td>\n",
       "    </tr>\n",
       "    <tr>\n",
       "      <th>2</th>\n",
       "      <td>case-100</td>\n",
       "      <td>db.samples_query</td>\n",
       "      <td>100</td>\n",
       "      <td>370</td>\n",
       "      <td>9536</td>\n",
       "      <td>100</td>\n",
       "      <td>3</td>\n",
       "      <td>0.004573</td>\n",
       "    </tr>\n",
       "    <tr>\n",
       "      <th>3</th>\n",
       "      <td>case-100</td>\n",
       "      <td>db.samples_query</td>\n",
       "      <td>100</td>\n",
       "      <td>370</td>\n",
       "      <td>9536</td>\n",
       "      <td>100</td>\n",
       "      <td>4</td>\n",
       "      <td>0.003609</td>\n",
       "    </tr>\n",
       "    <tr>\n",
       "      <th>4</th>\n",
       "      <td>case-100</td>\n",
       "      <td>db.samples_query</td>\n",
       "      <td>100</td>\n",
       "      <td>370</td>\n",
       "      <td>9536</td>\n",
       "      <td>100</td>\n",
       "      <td>5</td>\n",
       "      <td>0.003599</td>\n",
       "    </tr>\n",
       "  </tbody>\n",
       "</table>\n",
       "</div>"
      ],
      "text/plain": [
       "       Name              Kind  Number samples  Number features (no unknown)  \\\n",
       "0  case-100  db.samples_query             100                           370   \n",
       "1  case-100  db.samples_query             100                           370   \n",
       "2  case-100  db.samples_query             100                           370   \n",
       "3  case-100  db.samples_query             100                           370   \n",
       "4  case-100  db.samples_query             100                           370   \n",
       "\n",
       "   Number features (all)  Number executions  Iteration      Time  \n",
       "0                   9536                100          1  0.003631  \n",
       "1                   9536                100          2  0.003623  \n",
       "2                   9536                100          3  0.004573  \n",
       "3                   9536                100          4  0.003609  \n",
       "4                   9536                100          5  0.003599  "
      ]
     },
     "execution_count": 9,
     "metadata": {},
     "output_type": "execute_result"
    }
   ],
   "source": [
    "api_df = benchmark_api_index(name=case_name, index_path=index_path)\n",
    "api_df.head(5)"
   ]
  },
  {
   "cell_type": "code",
   "execution_count": 10,
   "id": "09e7fb11-5c83-4983-82b9-4a54fca23b52",
   "metadata": {
    "execution": {
     "iopub.execute_input": "2021-09-08T04:43:38.505363Z",
     "iopub.status.busy": "2021-09-08T04:43:38.504866Z",
     "iopub.status.idle": "2021-09-08T04:43:38.506854Z",
     "shell.execute_reply": "2021-09-08T04:43:38.507261Z"
    },
    "papermill": {
     "duration": 0.031486,
     "end_time": "2021-09-08T04:43:38.507382",
     "exception": false,
     "start_time": "2021-09-08T04:43:38.475896",
     "status": "completed"
    },
    "tags": []
   },
   "outputs": [],
   "source": [
    "api_df.to_csv(output_api_path, sep='\\t', index=False)"
   ]
  },
  {
   "cell_type": "code",
   "execution_count": null,
   "id": "d29f35f8-2056-46f1-a506-379a0add43b9",
   "metadata": {
    "papermill": {
     "duration": 0.036611,
     "end_time": "2021-09-08T04:43:38.555523",
     "exception": false,
     "start_time": "2021-09-08T04:43:38.518912",
     "status": "completed"
    },
    "tags": []
   },
   "outputs": [],
   "source": []
  }
 ],
 "metadata": {
  "kernelspec": {
   "display_name": "Python 3 (ipykernel)",
   "language": "python",
   "name": "python3"
  },
  "language_info": {
   "codemirror_mode": {
    "name": "ipython",
    "version": 3
   },
   "file_extension": ".py",
   "mimetype": "text/x-python",
   "name": "python",
   "nbconvert_exporter": "python",
   "pygments_lexer": "ipython3",
   "version": "3.8.10"
  },
  "papermill": {
   "default_parameters": {},
   "duration": 322.067129,
   "end_time": "2021-09-08T04:43:39.291961",
   "environment_variables": {},
   "exception": null,
   "input_path": "template-4-query.ipynb",
   "output_path": "4-query.case-100.ipynb",
   "parameters": {
    "cases_dir": "cases/case-100",
    "iterations": 3,
    "number_samples": 100
   },
   "start_time": "2021-09-08T04:38:17.224832",
   "version": "2.3.3"
  }
 },
 "nbformat": 4,
 "nbformat_minor": 5
}