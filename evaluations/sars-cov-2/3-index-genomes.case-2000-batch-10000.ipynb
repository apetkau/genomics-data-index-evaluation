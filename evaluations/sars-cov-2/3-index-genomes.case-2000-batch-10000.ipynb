{
 "cells": [
  {
   "cell_type": "markdown",
   "id": "7d3667b4-b1f8-4347-96e3-830c25b06740",
   "metadata": {
    "papermill": {
     "duration": 0.01784,
     "end_time": "2021-10-11T18:37:55.664545",
     "exception": false,
     "start_time": "2021-10-11T18:37:55.646705",
     "status": "completed"
    },
    "tags": []
   },
   "source": [
    "# 1. Parameters"
   ]
  },
  {
   "cell_type": "code",
   "execution_count": 1,
   "id": "d4ab0749-b286-4c34-b63c-a854e4952bae",
   "metadata": {
    "execution": {
     "iopub.execute_input": "2021-10-11T18:37:55.696746Z",
     "iopub.status.busy": "2021-10-11T18:37:55.695573Z",
     "iopub.status.idle": "2021-10-11T18:37:55.700843Z",
     "shell.execute_reply": "2021-10-11T18:37:55.699763Z"
    },
    "papermill": {
     "duration": 0.026529,
     "end_time": "2021-10-11T18:37:55.701116",
     "exception": false,
     "start_time": "2021-10-11T18:37:55.674587",
     "status": "completed"
    },
    "tags": [
     "parameters"
    ]
   },
   "outputs": [],
   "source": [
    "# Defaults\n",
    "cases_dir = 'cases/unset'\n",
    "reference_file = 'references/NC_045512.gbk.gz'\n",
    "input_files_all = 'input/input-files.tsv'\n",
    "iterations = 3\n",
    "mincov = 10\n",
    "ncores = 32\n",
    "number_samples = 10\n",
    "build_tree = False\n",
    "sample_batch_size=2000"
   ]
  },
  {
   "cell_type": "code",
   "execution_count": 2,
   "id": "f329ff95",
   "metadata": {
    "execution": {
     "iopub.execute_input": "2021-10-11T18:37:55.730835Z",
     "iopub.status.busy": "2021-10-11T18:37:55.730361Z",
     "iopub.status.idle": "2021-10-11T18:37:55.733520Z",
     "shell.execute_reply": "2021-10-11T18:37:55.733855Z"
    },
    "papermill": {
     "duration": 0.018656,
     "end_time": "2021-10-11T18:37:55.733972",
     "exception": false,
     "start_time": "2021-10-11T18:37:55.715316",
     "status": "completed"
    },
    "tags": [
     "injected-parameters"
    ]
   },
   "outputs": [],
   "source": [
    "# Parameters\n",
    "cases_dir = \"cases/case-2000-batch-10000\"\n",
    "iterations = 3\n",
    "number_samples = 2000\n",
    "sample_batch_size = 10000\n",
    "build_tree = False\n"
   ]
  },
  {
   "cell_type": "code",
   "execution_count": 3,
   "id": "ce5962e4-261c-4210-b39b-47044e28466b",
   "metadata": {
    "execution": {
     "iopub.execute_input": "2021-10-11T18:37:55.765533Z",
     "iopub.status.busy": "2021-10-11T18:37:55.764364Z",
     "iopub.status.idle": "2021-10-11T18:37:58.348517Z",
     "shell.execute_reply": "2021-10-11T18:37:58.347305Z"
    },
    "papermill": {
     "duration": 2.606886,
     "end_time": "2021-10-11T18:37:58.348915",
     "exception": false,
     "start_time": "2021-10-11T18:37:55.742029",
     "status": "completed"
    },
    "tags": []
   },
   "outputs": [],
   "source": [
    "from pathlib import Path\n",
    "from shutil import rmtree\n",
    "from os import makedirs\n",
    "import imp\n",
    "fp, pathname, description = imp.find_module('gdi_benchmark', ['../../lib'])\n",
    "gdi_benchmark = imp.load_module('gdi_benchmark', fp, pathname, description)\n",
    "\n",
    "cases_dir_path = Path(cases_dir)\n",
    "\n",
    "if cases_dir_path.exists():\n",
    "    rmtree(cases_dir_path)\n",
    "    \n",
    "if not cases_dir_path.exists():\n",
    "    makedirs(cases_dir_path)\n",
    "\n",
    "input_files_all = Path(input_files_all)\n",
    "reference_file = Path(reference_file)\n",
    "\n",
    "case_name = str(cases_dir_path.name)\n",
    "reference_name = reference_file.name.split('.')[0]\n",
    "\n",
    "cases_input = cases_dir_path / 'input-files-case.tsv'\n",
    "index_path = cases_dir_path / 'index'\n",
    "benchmark_path = cases_dir_path / 'index-info.tsv'\n",
    "output_tree = cases_dir_path / 'tree.tre'"
   ]
  },
  {
   "cell_type": "markdown",
   "id": "1673d80f-b52a-4b68-b400-355540495e15",
   "metadata": {
    "papermill": {
     "duration": 0.008614,
     "end_time": "2021-10-11T18:37:58.374920",
     "exception": false,
     "start_time": "2021-10-11T18:37:58.366306",
     "status": "completed"
    },
    "tags": []
   },
   "source": [
    "# 2. Create subset input"
   ]
  },
  {
   "cell_type": "code",
   "execution_count": 4,
   "id": "4e66adb1-3ef7-45d1-8e46-723dcb9d0c31",
   "metadata": {
    "execution": {
     "iopub.execute_input": "2021-10-11T18:37:58.396773Z",
     "iopub.status.busy": "2021-10-11T18:37:58.396369Z",
     "iopub.status.idle": "2021-10-11T18:37:58.683646Z",
     "shell.execute_reply": "2021-10-11T18:37:58.684631Z"
    },
    "papermill": {
     "duration": 0.303355,
     "end_time": "2021-10-11T18:37:58.684956",
     "exception": false,
     "start_time": "2021-10-11T18:37:58.381601",
     "status": "completed"
    },
    "tags": []
   },
   "outputs": [
    {
     "name": "stdout",
     "output_type": "stream",
     "text": [
      "Wrote 2000/100000 samples to cases/case-2000-batch-10000/input-files-case.tsv\n"
     ]
    }
   ],
   "source": [
    "import pandas as pd\n",
    "\n",
    "all_input_df = pd.read_csv(input_files_all, sep='\\t')\n",
    "all_input_total = len(all_input_df)\n",
    "\n",
    "subset_input_df = all_input_df.head(number_samples)\n",
    "subset_input_total = len(subset_input_df)\n",
    "\n",
    "subset_input_df.to_csv(cases_input, sep='\\t', index=False)\n",
    "\n",
    "print(f'Wrote {subset_input_total}/{all_input_total} samples to {cases_input}')"
   ]
  },
  {
   "cell_type": "markdown",
   "id": "f208279e-7558-47fc-9362-da29df92828a",
   "metadata": {
    "papermill": {
     "duration": 0.009623,
     "end_time": "2021-10-11T18:37:58.709229",
     "exception": false,
     "start_time": "2021-10-11T18:37:58.699606",
     "status": "completed"
    },
    "tags": []
   },
   "source": [
    "# 2. Index genomes"
   ]
  },
  {
   "cell_type": "code",
   "execution_count": 5,
   "id": "4e936f7c-2fcd-4188-b0e6-6b3ceb5cdcd2",
   "metadata": {
    "execution": {
     "iopub.execute_input": "2021-10-11T18:37:58.738956Z",
     "iopub.status.busy": "2021-10-11T18:37:58.727370Z",
     "iopub.status.idle": "2021-10-11T18:38:01.646457Z",
     "shell.execute_reply": "2021-10-11T18:38:01.647452Z"
    },
    "papermill": {
     "duration": 2.932135,
     "end_time": "2021-10-11T18:38:01.647839",
     "exception": false,
     "start_time": "2021-10-11T18:37:58.715704",
     "status": "completed"
    },
    "tags": []
   },
   "outputs": [
    {
     "name": "stdout",
     "output_type": "stream",
     "text": [
      "gdi, version 0.4.0.dev1\r\n"
     ]
    }
   ],
   "source": [
    "!gdi --version"
   ]
  },
  {
   "cell_type": "markdown",
   "id": "5409ecf8-2158-4361-9d2f-6b1a6c7c63a6",
   "metadata": {
    "papermill": {
     "duration": 0.009705,
     "end_time": "2021-10-11T18:38:01.676148",
     "exception": false,
     "start_time": "2021-10-11T18:38:01.666443",
     "status": "completed"
    },
    "tags": []
   },
   "source": [
    "## 2.1. Index reads"
   ]
  },
  {
   "cell_type": "code",
   "execution_count": 6,
   "id": "3d63e861-733e-46f2-8bce-bd1a2c7c7058",
   "metadata": {
    "execution": {
     "iopub.execute_input": "2021-10-11T18:38:01.711712Z",
     "iopub.status.busy": "2021-10-11T18:38:01.710921Z",
     "iopub.status.idle": "2021-10-11T19:24:13.082259Z",
     "shell.execute_reply": "2021-10-11T19:24:13.081147Z"
    },
    "papermill": {
     "duration": 2771.389903,
     "end_time": "2021-10-11T19:24:13.082520",
     "exception": false,
     "start_time": "2021-10-11T18:38:01.692617",
     "status": "completed"
    },
    "tags": []
   },
   "outputs": [
    {
     "name": "stdout",
     "output_type": "stream",
     "text": [
      "\n",
      "Iteration 1 of index/analysis of 2000 samples with 32 cores\n",
      "Removing any extra snakemake directories: ['snakemake-assemblies.1633971134.537193']\n"
     ]
    },
    {
     "name": "stdout",
     "output_type": "stream",
     "text": [
      "Creating new index: [gdi init cases/case-2000-batch-10000/index]\n"
     ]
    },
    {
     "name": "stdout",
     "output_type": "stream",
     "text": [
      "Creating a new index took 3.17 seconds\n",
      "Analysis running: [gdi --project-dir cases/case-2000-batch-10000/index --ncores 32 analysis --use-conda --no-load-data --reference-file references/NC_045512.gbk.gz --kmer-size 31 --kmer-size 51 --kmer-size 71 --include-kmer --reads-mincov 10 --input-structured-genomes-file cases/case-2000-batch-10000/input-files-case.tsv]\n"
     ]
    },
    {
     "name": "stdout",
     "output_type": "stream",
     "text": [
      "Analysis took 13.55 minutes\n",
      "Index running: [gdi --project-dir cases/case-2000-batch-10000/index --ncores 32 load vcf-kmer --sample-batch-size 10000 --reference-file references/NC_045512.gbk.gz /home/CSCScience.ca/apetkau/workspace/genomics-data-index-evaluation/evaluations/sars-cov-2/snakemake-assemblies.1633977493.582758/gdi-input.fofn]\n"
     ]
    },
    {
     "name": "stdout",
     "output_type": "stream",
     "text": [
      "Indexing took 1.78 minutes\n"
     ]
    },
    {
     "name": "stderr",
     "output_type": "stream",
     "text": [
      "A reminder to myself to look for a Python solution for directory sizes (instead of running `du`)\n"
     ]
    },
    {
     "name": "stdout",
     "output_type": "stream",
     "text": [
      "\n",
      "Iteration 2 of index/analysis of 2000 samples with 32 cores\n",
      "Removing any extra snakemake directories: ['snakemake-assemblies.1633977493.582758']\n"
     ]
    },
    {
     "name": "stdout",
     "output_type": "stream",
     "text": [
      "Removing any existing indexes cases/case-2000-batch-10000/index\n",
      "Creating new index: [gdi init cases/case-2000-batch-10000/index]\n"
     ]
    },
    {
     "name": "stdout",
     "output_type": "stream",
     "text": [
      "Creating a new index took 2.71 seconds\n",
      "Analysis running: [gdi --project-dir cases/case-2000-batch-10000/index --ncores 32 analysis --use-conda --no-load-data --reference-file references/NC_045512.gbk.gz --kmer-size 31 --kmer-size 51 --kmer-size 71 --include-kmer --reads-mincov 10 --input-structured-genomes-file cases/case-2000-batch-10000/input-files-case.tsv]\n"
     ]
    },
    {
     "name": "stdout",
     "output_type": "stream",
     "text": [
      "Analysis took 13.36 minutes\n",
      "Index running: [gdi --project-dir cases/case-2000-batch-10000/index --ncores 32 load vcf-kmer --sample-batch-size 10000 --reference-file references/NC_045512.gbk.gz /home/CSCScience.ca/apetkau/workspace/genomics-data-index-evaluation/evaluations/sars-cov-2/snakemake-assemblies.1633978419.8875754/gdi-input.fofn]\n"
     ]
    },
    {
     "name": "stdout",
     "output_type": "stream",
     "text": [
      "Indexing took 1.79 minutes\n"
     ]
    },
    {
     "name": "stderr",
     "output_type": "stream",
     "text": [
      "Attempting to set global database_path_translator=<genomics_data_index.storage.model.db.DatabasePathTranslator.DatabasePathTranslator object at 0x7f3134311ac0> but it is already set\n"
     ]
    },
    {
     "name": "stderr",
     "output_type": "stream",
     "text": [
      "A reminder to myself to look for a Python solution for directory sizes (instead of running `du`)\n"
     ]
    },
    {
     "name": "stdout",
     "output_type": "stream",
     "text": [
      "\n",
      "Iteration 3 of index/analysis of 2000 samples with 32 cores\n",
      "Removing any extra snakemake directories: ['snakemake-assemblies.1633978419.8875754']\n"
     ]
    },
    {
     "name": "stdout",
     "output_type": "stream",
     "text": [
      "Removing any existing indexes cases/case-2000-batch-10000/index\n",
      "Creating new index: [gdi init cases/case-2000-batch-10000/index]\n"
     ]
    },
    {
     "name": "stdout",
     "output_type": "stream",
     "text": [
      "Creating a new index took 2.60 seconds\n",
      "Analysis running: [gdi --project-dir cases/case-2000-batch-10000/index --ncores 32 analysis --use-conda --no-load-data --reference-file references/NC_045512.gbk.gz --kmer-size 31 --kmer-size 51 --kmer-size 71 --include-kmer --reads-mincov 10 --input-structured-genomes-file cases/case-2000-batch-10000/input-files-case.tsv]\n"
     ]
    },
    {
     "name": "stdout",
     "output_type": "stream",
     "text": [
      "Analysis took 13.58 minutes\n",
      "Index running: [gdi --project-dir cases/case-2000-batch-10000/index --ncores 32 load vcf-kmer --sample-batch-size 10000 --reference-file references/NC_045512.gbk.gz /home/CSCScience.ca/apetkau/workspace/genomics-data-index-evaluation/evaluations/sars-cov-2/snakemake-assemblies.1633979334.2234755/gdi-input.fofn]\n"
     ]
    },
    {
     "name": "stdout",
     "output_type": "stream",
     "text": [
      "Indexing took 1.77 minutes\n"
     ]
    },
    {
     "name": "stderr",
     "output_type": "stream",
     "text": [
      "Attempting to set global database_path_translator=<genomics_data_index.storage.model.db.DatabasePathTranslator.DatabasePathTranslator object at 0x7f30e47555e0> but it is already set\n"
     ]
    },
    {
     "name": "stderr",
     "output_type": "stream",
     "text": [
      "A reminder to myself to look for a Python solution for directory sizes (instead of running `du`)\n"
     ]
    }
   ],
   "source": [
    "results_handler = gdi_benchmark.BenchmarkResultsHandler(name=case_name)\n",
    "benchmarker = gdi_benchmark.IndexBenchmarker(benchmark_results_handler=results_handler,\n",
    "                                             index_path=index_path, input_files_file=cases_input,\n",
    "                                             reference_file=reference_file, mincov=mincov,\n",
    "                                             build_tree=build_tree,\n",
    "                                             ncores=ncores,\n",
    "                                             sample_batch_size=sample_batch_size)\n",
    "\n",
    "benchmark_df = benchmarker.benchmark(iterations=iterations)"
   ]
  },
  {
   "cell_type": "code",
   "execution_count": 7,
   "id": "3bcb6da7-0164-47f2-abdd-a4c159da1e3b",
   "metadata": {
    "execution": {
     "iopub.execute_input": "2021-10-11T19:24:13.132967Z",
     "iopub.status.busy": "2021-10-11T19:24:13.131297Z",
     "iopub.status.idle": "2021-10-11T19:24:13.158671Z",
     "shell.execute_reply": "2021-10-11T19:24:13.159574Z"
    },
    "papermill": {
     "duration": 0.054445,
     "end_time": "2021-10-11T19:24:13.159873",
     "exception": false,
     "start_time": "2021-10-11T19:24:13.105428",
     "status": "completed"
    },
    "tags": []
   },
   "outputs": [
    {
     "data": {
      "text/html": [
       "<div>\n",
       "<style scoped>\n",
       "    .dataframe tbody tr th:only-of-type {\n",
       "        vertical-align: middle;\n",
       "    }\n",
       "\n",
       "    .dataframe tbody tr th {\n",
       "        vertical-align: top;\n",
       "    }\n",
       "\n",
       "    .dataframe thead th {\n",
       "        text-align: right;\n",
       "    }\n",
       "</style>\n",
       "<table border=\"1\" class=\"dataframe\">\n",
       "  <thead>\n",
       "    <tr style=\"text-align: right;\">\n",
       "      <th></th>\n",
       "      <th>Name</th>\n",
       "      <th>Iteration</th>\n",
       "      <th>Number samples</th>\n",
       "      <th>Number features (all)</th>\n",
       "      <th>Number features (no unknown)</th>\n",
       "      <th>Number cores</th>\n",
       "      <th>Reference length</th>\n",
       "      <th>Analysis runtime</th>\n",
       "      <th>Analysis memory (max)</th>\n",
       "      <th>Analysis memory (max/process)</th>\n",
       "      <th>Analysis disk uage</th>\n",
       "      <th>Index runtime</th>\n",
       "      <th>Index memory (max)</th>\n",
       "      <th>Index memory (max/process)</th>\n",
       "      <th>Index size</th>\n",
       "      <th>Tree runtime</th>\n",
       "      <th>Tree memory (max)</th>\n",
       "      <th>Tree memory (max/process)</th>\n",
       "      <th>Total runtime</th>\n",
       "      <th>Max memory</th>\n",
       "    </tr>\n",
       "  </thead>\n",
       "  <tbody>\n",
       "    <tr>\n",
       "      <th>0</th>\n",
       "      <td>case-2000-batch-10000</td>\n",
       "      <td>1</td>\n",
       "      <td>2000</td>\n",
       "      <td>32480</td>\n",
       "      <td>2647</td>\n",
       "      <td>32</td>\n",
       "      <td>29903</td>\n",
       "      <td>812.86</td>\n",
       "      <td>1.333563e+09</td>\n",
       "      <td>378245120.0</td>\n",
       "      <td>3.940758e+09</td>\n",
       "      <td>106.79</td>\n",
       "      <td>6.563570e+09</td>\n",
       "      <td>1.210864e+09</td>\n",
       "      <td>39849984.0</td>\n",
       "      <td>&lt;NA&gt;</td>\n",
       "      <td>&lt;NA&gt;</td>\n",
       "      <td>&lt;NA&gt;</td>\n",
       "      <td>919.65</td>\n",
       "      <td>6.563570e+09</td>\n",
       "    </tr>\n",
       "    <tr>\n",
       "      <th>0</th>\n",
       "      <td>case-2000-batch-10000</td>\n",
       "      <td>2</td>\n",
       "      <td>2000</td>\n",
       "      <td>32480</td>\n",
       "      <td>2647</td>\n",
       "      <td>32</td>\n",
       "      <td>29903</td>\n",
       "      <td>801.29</td>\n",
       "      <td>1.244619e+09</td>\n",
       "      <td>379973632.0</td>\n",
       "      <td>3.940827e+09</td>\n",
       "      <td>106.99</td>\n",
       "      <td>6.574125e+09</td>\n",
       "      <td>1.211961e+09</td>\n",
       "      <td>39821312.0</td>\n",
       "      <td>&lt;NA&gt;</td>\n",
       "      <td>&lt;NA&gt;</td>\n",
       "      <td>&lt;NA&gt;</td>\n",
       "      <td>908.28</td>\n",
       "      <td>6.574125e+09</td>\n",
       "    </tr>\n",
       "    <tr>\n",
       "      <th>0</th>\n",
       "      <td>case-2000-batch-10000</td>\n",
       "      <td>3</td>\n",
       "      <td>2000</td>\n",
       "      <td>32480</td>\n",
       "      <td>2647</td>\n",
       "      <td>32</td>\n",
       "      <td>29903</td>\n",
       "      <td>814.67</td>\n",
       "      <td>1.210757e+09</td>\n",
       "      <td>372658176.0</td>\n",
       "      <td>3.940786e+09</td>\n",
       "      <td>105.97</td>\n",
       "      <td>6.566113e+09</td>\n",
       "      <td>1.219965e+09</td>\n",
       "      <td>39845888.0</td>\n",
       "      <td>&lt;NA&gt;</td>\n",
       "      <td>&lt;NA&gt;</td>\n",
       "      <td>&lt;NA&gt;</td>\n",
       "      <td>920.64</td>\n",
       "      <td>6.566113e+09</td>\n",
       "    </tr>\n",
       "  </tbody>\n",
       "</table>\n",
       "</div>"
      ],
      "text/plain": [
       "                    Name  Iteration  Number samples  Number features (all)  \\\n",
       "0  case-2000-batch-10000          1            2000                  32480   \n",
       "0  case-2000-batch-10000          2            2000                  32480   \n",
       "0  case-2000-batch-10000          3            2000                  32480   \n",
       "\n",
       "   Number features (no unknown)  Number cores  Reference length  \\\n",
       "0                          2647            32             29903   \n",
       "0                          2647            32             29903   \n",
       "0                          2647            32             29903   \n",
       "\n",
       "   Analysis runtime  Analysis memory (max)  Analysis memory (max/process)  \\\n",
       "0            812.86           1.333563e+09                    378245120.0   \n",
       "0            801.29           1.244619e+09                    379973632.0   \n",
       "0            814.67           1.210757e+09                    372658176.0   \n",
       "\n",
       "   Analysis disk uage  Index runtime  Index memory (max)  \\\n",
       "0        3.940758e+09         106.79        6.563570e+09   \n",
       "0        3.940827e+09         106.99        6.574125e+09   \n",
       "0        3.940786e+09         105.97        6.566113e+09   \n",
       "\n",
       "   Index memory (max/process)  Index size Tree runtime Tree memory (max)  \\\n",
       "0                1.210864e+09  39849984.0         <NA>              <NA>   \n",
       "0                1.211961e+09  39821312.0         <NA>              <NA>   \n",
       "0                1.219965e+09  39845888.0         <NA>              <NA>   \n",
       "\n",
       "  Tree memory (max/process)  Total runtime    Max memory  \n",
       "0                      <NA>         919.65  6.563570e+09  \n",
       "0                      <NA>         908.28  6.574125e+09  \n",
       "0                      <NA>         920.64  6.566113e+09  "
      ]
     },
     "execution_count": 7,
     "metadata": {},
     "output_type": "execute_result"
    }
   ],
   "source": [
    "benchmark_df"
   ]
  },
  {
   "cell_type": "code",
   "execution_count": 8,
   "id": "535a9ccc-ab9c-4919-806f-128e1efd2389",
   "metadata": {
    "execution": {
     "iopub.execute_input": "2021-10-11T19:24:13.197618Z",
     "iopub.status.busy": "2021-10-11T19:24:13.197139Z",
     "iopub.status.idle": "2021-10-11T19:24:13.200300Z",
     "shell.execute_reply": "2021-10-11T19:24:13.199916Z"
    },
    "papermill": {
     "duration": 0.02101,
     "end_time": "2021-10-11T19:24:13.200403",
     "exception": false,
     "start_time": "2021-10-11T19:24:13.179393",
     "status": "completed"
    },
    "tags": []
   },
   "outputs": [],
   "source": [
    "benchmark_df.to_csv(benchmark_path, sep='\\t', index=False)"
   ]
  },
  {
   "cell_type": "markdown",
   "id": "6cb7673b-9f85-4c43-b2e2-93538497a196",
   "metadata": {
    "papermill": {
     "duration": 0.009873,
     "end_time": "2021-10-11T19:24:13.221726",
     "exception": false,
     "start_time": "2021-10-11T19:24:13.211853",
     "status": "completed"
    },
    "tags": []
   },
   "source": [
    "# 3. Export trees"
   ]
  },
  {
   "cell_type": "code",
   "execution_count": 9,
   "id": "5280f82c-5434-4391-8c44-b937a7c95bd5",
   "metadata": {
    "execution": {
     "iopub.execute_input": "2021-10-11T19:24:13.248322Z",
     "iopub.status.busy": "2021-10-11T19:24:13.247845Z",
     "iopub.status.idle": "2021-10-11T19:24:13.251732Z",
     "shell.execute_reply": "2021-10-11T19:24:13.252089Z"
    },
    "papermill": {
     "duration": 0.021118,
     "end_time": "2021-10-11T19:24:13.252206",
     "exception": false,
     "start_time": "2021-10-11T19:24:13.231088",
     "status": "completed"
    },
    "tags": []
   },
   "outputs": [
    {
     "name": "stdout",
     "output_type": "stream",
     "text": [
      "build_tree=False so no tree to export\n"
     ]
    }
   ],
   "source": [
    "if build_tree:\n",
    "    !gdi --project-dir {index_path} export tree {reference_name} > {output_tree}\n",
    "    print(f'Wrote tree to {output_tree}')\n",
    "else:\n",
    "    print(f'build_tree={build_tree} so no tree to export')"
   ]
  }
 ],
 "metadata": {
  "kernelspec": {
   "display_name": "Python 3 (ipykernel)",
   "language": "python",
   "name": "python3"
  },
  "language_info": {
   "codemirror_mode": {
    "name": "ipython",
    "version": 3
   },
   "file_extension": ".py",
   "mimetype": "text/x-python",
   "name": "python",
   "nbconvert_exporter": "python",
   "pygments_lexer": "ipython3",
   "version": "3.8.12"
  },
  "papermill": {
   "default_parameters": {},
   "duration": 2779.775585,
   "end_time": "2021-10-11T19:24:13.885495",
   "environment_variables": {},
   "exception": null,
   "input_path": "template-3-index-genomes.ipynb",
   "output_path": "3-index-genomes.case-2000-batch-10000.ipynb",
   "parameters": {
    "build_tree": false,
    "cases_dir": "cases/case-2000-batch-10000",
    "iterations": 3,
    "number_samples": 2000,
    "sample_batch_size": 10000
   },
   "start_time": "2021-10-11T18:37:54.109910",
   "version": "2.3.3"
  }
 },
 "nbformat": 4,
 "nbformat_minor": 5
}