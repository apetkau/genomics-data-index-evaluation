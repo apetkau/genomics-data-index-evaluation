{
 "cells": [
  {
   "cell_type": "markdown",
   "id": "7d3667b4-b1f8-4347-96e3-830c25b06740",
   "metadata": {
    "papermill": {
     "duration": 0.016598,
     "end_time": "2021-10-11T14:26:58.630324",
     "exception": false,
     "start_time": "2021-10-11T14:26:58.613726",
     "status": "completed"
    },
    "tags": []
   },
   "source": [
    "# 1. Parameters"
   ]
  },
  {
   "cell_type": "code",
   "execution_count": 1,
   "id": "d4ab0749-b286-4c34-b63c-a854e4952bae",
   "metadata": {
    "execution": {
     "iopub.execute_input": "2021-10-11T14:26:58.663608Z",
     "iopub.status.busy": "2021-10-11T14:26:58.662427Z",
     "iopub.status.idle": "2021-10-11T14:26:58.667584Z",
     "shell.execute_reply": "2021-10-11T14:26:58.666515Z"
    },
    "papermill": {
     "duration": 0.027683,
     "end_time": "2021-10-11T14:26:58.667846",
     "exception": false,
     "start_time": "2021-10-11T14:26:58.640163",
     "status": "completed"
    },
    "tags": [
     "parameters"
    ]
   },
   "outputs": [],
   "source": [
    "# Defaults\n",
    "cases_dir = 'cases/unset'\n",
    "reference_file = 'references/NC_045512.gbk.gz'\n",
    "input_files_all = 'input/input-files.tsv'\n",
    "iterations = 3\n",
    "mincov = 10\n",
    "ncores = 32\n",
    "number_samples = 10\n",
    "build_tree = False\n",
    "sample_batch_size=2000"
   ]
  },
  {
   "cell_type": "code",
   "execution_count": 2,
   "id": "fcef04d2",
   "metadata": {
    "execution": {
     "iopub.execute_input": "2021-10-11T14:26:58.695992Z",
     "iopub.status.busy": "2021-10-11T14:26:58.695550Z",
     "iopub.status.idle": "2021-10-11T14:26:58.697768Z",
     "shell.execute_reply": "2021-10-11T14:26:58.698088Z"
    },
    "papermill": {
     "duration": 0.016709,
     "end_time": "2021-10-11T14:26:58.698192",
     "exception": false,
     "start_time": "2021-10-11T14:26:58.681483",
     "status": "completed"
    },
    "tags": [
     "injected-parameters"
    ]
   },
   "outputs": [],
   "source": [
    "# Parameters\n",
    "cases_dir = \"cases/case-10000-batch-10000\"\n",
    "iterations = 3\n",
    "number_samples = 10000\n",
    "sample_batch_size = 10000\n",
    "build_tree = False\n"
   ]
  },
  {
   "cell_type": "code",
   "execution_count": 3,
   "id": "ce5962e4-261c-4210-b39b-47044e28466b",
   "metadata": {
    "execution": {
     "iopub.execute_input": "2021-10-11T14:26:58.722330Z",
     "iopub.status.busy": "2021-10-11T14:26:58.721803Z",
     "iopub.status.idle": "2021-10-11T14:27:02.025094Z",
     "shell.execute_reply": "2021-10-11T14:27:02.024067Z"
    },
    "papermill": {
     "duration": 3.320874,
     "end_time": "2021-10-11T14:27:02.025360",
     "exception": false,
     "start_time": "2021-10-11T14:26:58.704486",
     "status": "completed"
    },
    "tags": []
   },
   "outputs": [],
   "source": [
    "from pathlib import Path\n",
    "from shutil import rmtree\n",
    "from os import makedirs\n",
    "import imp\n",
    "fp, pathname, description = imp.find_module('gdi_benchmark', ['../../lib'])\n",
    "gdi_benchmark = imp.load_module('gdi_benchmark', fp, pathname, description)\n",
    "\n",
    "cases_dir_path = Path(cases_dir)\n",
    "\n",
    "if cases_dir_path.exists():\n",
    "    rmtree(cases_dir_path)\n",
    "    \n",
    "if not cases_dir_path.exists():\n",
    "    makedirs(cases_dir_path)\n",
    "\n",
    "input_files_all = Path(input_files_all)\n",
    "reference_file = Path(reference_file)\n",
    "\n",
    "case_name = str(cases_dir_path.name)\n",
    "reference_name = reference_file.name.split('.')[0]\n",
    "\n",
    "cases_input = cases_dir_path / 'input-files-case.tsv'\n",
    "index_path = cases_dir_path / 'index'\n",
    "benchmark_path = cases_dir_path / 'index-info.tsv'\n",
    "output_tree = cases_dir_path / 'tree.tre'"
   ]
  },
  {
   "cell_type": "markdown",
   "id": "1673d80f-b52a-4b68-b400-355540495e15",
   "metadata": {
    "papermill": {
     "duration": 0.00868,
     "end_time": "2021-10-11T14:27:02.049442",
     "exception": false,
     "start_time": "2021-10-11T14:27:02.040762",
     "status": "completed"
    },
    "tags": []
   },
   "source": [
    "# 2. Create subset input"
   ]
  },
  {
   "cell_type": "code",
   "execution_count": 4,
   "id": "4e66adb1-3ef7-45d1-8e46-723dcb9d0c31",
   "metadata": {
    "execution": {
     "iopub.execute_input": "2021-10-11T14:27:02.085750Z",
     "iopub.status.busy": "2021-10-11T14:27:02.085132Z",
     "iopub.status.idle": "2021-10-11T14:27:02.398741Z",
     "shell.execute_reply": "2021-10-11T14:27:02.399646Z"
    },
    "papermill": {
     "duration": 0.343993,
     "end_time": "2021-10-11T14:27:02.399942",
     "exception": false,
     "start_time": "2021-10-11T14:27:02.055949",
     "status": "completed"
    },
    "tags": []
   },
   "outputs": [
    {
     "name": "stdout",
     "output_type": "stream",
     "text": [
      "Wrote 10000/100000 samples to cases/case-10000-batch-10000/input-files-case.tsv\n"
     ]
    }
   ],
   "source": [
    "import pandas as pd\n",
    "\n",
    "all_input_df = pd.read_csv(input_files_all, sep='\\t')\n",
    "all_input_total = len(all_input_df)\n",
    "\n",
    "subset_input_df = all_input_df.head(number_samples)\n",
    "subset_input_total = len(subset_input_df)\n",
    "\n",
    "subset_input_df.to_csv(cases_input, sep='\\t', index=False)\n",
    "\n",
    "print(f'Wrote {subset_input_total}/{all_input_total} samples to {cases_input}')"
   ]
  },
  {
   "cell_type": "markdown",
   "id": "f208279e-7558-47fc-9362-da29df92828a",
   "metadata": {
    "papermill": {
     "duration": 0.008829,
     "end_time": "2021-10-11T14:27:02.423419",
     "exception": false,
     "start_time": "2021-10-11T14:27:02.414590",
     "status": "completed"
    },
    "tags": []
   },
   "source": [
    "# 2. Index genomes"
   ]
  },
  {
   "cell_type": "code",
   "execution_count": 5,
   "id": "4e936f7c-2fcd-4188-b0e6-6b3ceb5cdcd2",
   "metadata": {
    "execution": {
     "iopub.execute_input": "2021-10-11T14:27:02.452458Z",
     "iopub.status.busy": "2021-10-11T14:27:02.441478Z",
     "iopub.status.idle": "2021-10-11T14:27:05.459300Z",
     "shell.execute_reply": "2021-10-11T14:27:05.460258Z"
    },
    "papermill": {
     "duration": 3.030332,
     "end_time": "2021-10-11T14:27:05.460553",
     "exception": false,
     "start_time": "2021-10-11T14:27:02.430221",
     "status": "completed"
    },
    "tags": []
   },
   "outputs": [
    {
     "name": "stdout",
     "output_type": "stream",
     "text": [
      "gdi, version 0.4.0.dev1\r\n"
     ]
    }
   ],
   "source": [
    "!gdi --version"
   ]
  },
  {
   "cell_type": "markdown",
   "id": "5409ecf8-2158-4361-9d2f-6b1a6c7c63a6",
   "metadata": {
    "papermill": {
     "duration": 0.009173,
     "end_time": "2021-10-11T14:27:05.485280",
     "exception": false,
     "start_time": "2021-10-11T14:27:05.476107",
     "status": "completed"
    },
    "tags": []
   },
   "source": [
    "## 2.1. Index reads"
   ]
  },
  {
   "cell_type": "code",
   "execution_count": 6,
   "id": "3d63e861-733e-46f2-8bce-bd1a2c7c7058",
   "metadata": {
    "execution": {
     "iopub.execute_input": "2021-10-11T14:27:05.509670Z",
     "iopub.status.busy": "2021-10-11T14:27:05.508344Z",
     "iopub.status.idle": "2021-10-11T18:04:22.310793Z",
     "shell.execute_reply": "2021-10-11T18:04:22.309733Z"
    },
    "papermill": {
     "duration": 13036.818628,
     "end_time": "2021-10-11T18:04:22.311077",
     "exception": false,
     "start_time": "2021-10-11T14:27:05.492449",
     "status": "completed"
    },
    "tags": []
   },
   "outputs": [
    {
     "name": "stdout",
     "output_type": "stream",
     "text": [
      "\n",
      "Iteration 1 of index/analysis of 10000 samples with 32 cores\n",
      "Removing any extra snakemake directories: ['snakemake-assemblies.1633816406.2792711']\n"
     ]
    },
    {
     "name": "stdout",
     "output_type": "stream",
     "text": [
      "Creating new index: [gdi init cases/case-10000-batch-10000/index]\n"
     ]
    },
    {
     "name": "stdout",
     "output_type": "stream",
     "text": [
      "Creating a new index took 2.82 seconds\n",
      "Analysis running: [gdi --project-dir cases/case-10000-batch-10000/index --ncores 32 analysis --use-conda --no-load-data --reference-file references/NC_045512.gbk.gz --kmer-size 31 --kmer-size 51 --kmer-size 71 --include-kmer --reads-mincov 10 --input-structured-genomes-file cases/case-10000-batch-10000/input-files-case.tsv]\n"
     ]
    },
    {
     "name": "stdout",
     "output_type": "stream",
     "text": [
      "Analysis took 64.33 minutes\n",
      "Index running: [gdi --project-dir cases/case-10000-batch-10000/index --ncores 32 load vcf-kmer --sample-batch-size 10000 --reference-file references/NC_045512.gbk.gz /home/CSCScience.ca/apetkau/workspace/genomics-data-index-evaluation/evaluations/sars-cov-2/snakemake-assemblies.1633962435.20948/gdi-input.fofn]\n"
     ]
    },
    {
     "name": "stdout",
     "output_type": "stream",
     "text": [
      "Indexing took 7.89 minutes\n"
     ]
    },
    {
     "name": "stderr",
     "output_type": "stream",
     "text": [
      "A reminder to myself to look for a Python solution for directory sizes (instead of running `du`)\n"
     ]
    },
    {
     "name": "stdout",
     "output_type": "stream",
     "text": [
      "\n",
      "Iteration 2 of index/analysis of 10000 samples with 32 cores\n",
      "Removing any extra snakemake directories: ['snakemake-assemblies.1633962435.20948']\n"
     ]
    },
    {
     "name": "stdout",
     "output_type": "stream",
     "text": [
      "Removing any existing indexes cases/case-10000-batch-10000/index\n"
     ]
    },
    {
     "name": "stdout",
     "output_type": "stream",
     "text": [
      "Creating new index: [gdi init cases/case-10000-batch-10000/index]\n"
     ]
    },
    {
     "name": "stdout",
     "output_type": "stream",
     "text": [
      "Creating a new index took 2.96 seconds\n",
      "Analysis running: [gdi --project-dir cases/case-10000-batch-10000/index --ncores 32 analysis --use-conda --no-load-data --reference-file references/NC_045512.gbk.gz --kmer-size 31 --kmer-size 51 --kmer-size 71 --include-kmer --reads-mincov 10 --input-structured-genomes-file cases/case-10000-batch-10000/input-files-case.tsv]\n"
     ]
    },
    {
     "name": "stdout",
     "output_type": "stream",
     "text": [
      "Analysis took 64.11 minutes\n",
      "Index running: [gdi --project-dir cases/case-10000-batch-10000/index --ncores 32 load vcf-kmer --sample-batch-size 10000 --reference-file references/NC_045512.gbk.gz /home/CSCScience.ca/apetkau/workspace/genomics-data-index-evaluation/evaluations/sars-cov-2/snakemake-assemblies.1633966779.8317118/gdi-input.fofn]\n"
     ]
    },
    {
     "name": "stdout",
     "output_type": "stream",
     "text": [
      "Indexing took 8.25 minutes\n"
     ]
    },
    {
     "name": "stderr",
     "output_type": "stream",
     "text": [
      "Attempting to set global database_path_translator=<genomics_data_index.storage.model.db.DatabasePathTranslator.DatabasePathTranslator object at 0x7f1550475b80> but it is already set\n"
     ]
    },
    {
     "name": "stderr",
     "output_type": "stream",
     "text": [
      "A reminder to myself to look for a Python solution for directory sizes (instead of running `du`)\n"
     ]
    },
    {
     "name": "stdout",
     "output_type": "stream",
     "text": [
      "\n",
      "Iteration 3 of index/analysis of 10000 samples with 32 cores\n",
      "Removing any extra snakemake directories: ['snakemake-assemblies.1633966779.8317118']\n"
     ]
    },
    {
     "name": "stdout",
     "output_type": "stream",
     "text": [
      "Removing any existing indexes cases/case-10000-batch-10000/index\n"
     ]
    },
    {
     "name": "stdout",
     "output_type": "stream",
     "text": [
      "Creating new index: [gdi init cases/case-10000-batch-10000/index]\n"
     ]
    },
    {
     "name": "stdout",
     "output_type": "stream",
     "text": [
      "Creating a new index took 4.49 seconds\n",
      "Analysis running: [gdi --project-dir cases/case-10000-batch-10000/index --ncores 32 analysis --use-conda --no-load-data --reference-file references/NC_045512.gbk.gz --kmer-size 31 --kmer-size 51 --kmer-size 71 --include-kmer --reads-mincov 10 --input-structured-genomes-file cases/case-10000-batch-10000/input-files-case.tsv]\n"
     ]
    },
    {
     "name": "stdout",
     "output_type": "stream",
     "text": [
      "Analysis took 64.14 minutes\n",
      "Index running: [gdi --project-dir cases/case-10000-batch-10000/index --ncores 32 load vcf-kmer --sample-batch-size 10000 --reference-file references/NC_045512.gbk.gz /home/CSCScience.ca/apetkau/workspace/genomics-data-index-evaluation/evaluations/sars-cov-2/snakemake-assemblies.1633971134.537193/gdi-input.fofn]\n"
     ]
    },
    {
     "name": "stdout",
     "output_type": "stream",
     "text": [
      "Indexing took 8.01 minutes\n"
     ]
    },
    {
     "name": "stderr",
     "output_type": "stream",
     "text": [
      "Attempting to set global database_path_translator=<genomics_data_index.storage.model.db.DatabasePathTranslator.DatabasePathTranslator object at 0x7f1572307df0> but it is already set\n"
     ]
    },
    {
     "name": "stderr",
     "output_type": "stream",
     "text": [
      "A reminder to myself to look for a Python solution for directory sizes (instead of running `du`)\n"
     ]
    }
   ],
   "source": [
    "results_handler = gdi_benchmark.BenchmarkResultsHandler(name=case_name)\n",
    "benchmarker = gdi_benchmark.IndexBenchmarker(benchmark_results_handler=results_handler,\n",
    "                                             index_path=index_path, input_files_file=cases_input,\n",
    "                                             reference_file=reference_file, mincov=mincov,\n",
    "                                             build_tree=build_tree,\n",
    "                                             ncores=ncores,\n",
    "                                             sample_batch_size=sample_batch_size)\n",
    "\n",
    "benchmark_df = benchmarker.benchmark(iterations=iterations)"
   ]
  },
  {
   "cell_type": "code",
   "execution_count": 7,
   "id": "3bcb6da7-0164-47f2-abdd-a4c159da1e3b",
   "metadata": {
    "execution": {
     "iopub.execute_input": "2021-10-11T18:04:22.361102Z",
     "iopub.status.busy": "2021-10-11T18:04:22.359960Z",
     "iopub.status.idle": "2021-10-11T18:04:22.388333Z",
     "shell.execute_reply": "2021-10-11T18:04:22.389237Z"
    },
    "papermill": {
     "duration": 0.056092,
     "end_time": "2021-10-11T18:04:22.389505",
     "exception": false,
     "start_time": "2021-10-11T18:04:22.333413",
     "status": "completed"
    },
    "tags": []
   },
   "outputs": [
    {
     "data": {
      "text/html": [
       "<div>\n",
       "<style scoped>\n",
       "    .dataframe tbody tr th:only-of-type {\n",
       "        vertical-align: middle;\n",
       "    }\n",
       "\n",
       "    .dataframe tbody tr th {\n",
       "        vertical-align: top;\n",
       "    }\n",
       "\n",
       "    .dataframe thead th {\n",
       "        text-align: right;\n",
       "    }\n",
       "</style>\n",
       "<table border=\"1\" class=\"dataframe\">\n",
       "  <thead>\n",
       "    <tr style=\"text-align: right;\">\n",
       "      <th></th>\n",
       "      <th>Name</th>\n",
       "      <th>Iteration</th>\n",
       "      <th>Number samples</th>\n",
       "      <th>Number features (all)</th>\n",
       "      <th>Number features (no unknown)</th>\n",
       "      <th>Number cores</th>\n",
       "      <th>Reference length</th>\n",
       "      <th>Analysis runtime</th>\n",
       "      <th>Analysis memory (max)</th>\n",
       "      <th>Analysis memory (max/process)</th>\n",
       "      <th>Analysis disk uage</th>\n",
       "      <th>Index runtime</th>\n",
       "      <th>Index memory (max)</th>\n",
       "      <th>Index memory (max/process)</th>\n",
       "      <th>Index size</th>\n",
       "      <th>Tree runtime</th>\n",
       "      <th>Tree memory (max)</th>\n",
       "      <th>Tree memory (max/process)</th>\n",
       "      <th>Total runtime</th>\n",
       "      <th>Max memory</th>\n",
       "    </tr>\n",
       "  </thead>\n",
       "  <tbody>\n",
       "    <tr>\n",
       "      <th>0</th>\n",
       "      <td>case-10000-batch-10000</td>\n",
       "      <td>1</td>\n",
       "      <td>10000</td>\n",
       "      <td>39068</td>\n",
       "      <td>9165</td>\n",
       "      <td>32</td>\n",
       "      <td>29903</td>\n",
       "      <td>3841.0</td>\n",
       "      <td>1.685271e+09</td>\n",
       "      <td>990605312.0</td>\n",
       "      <td>5.424976e+09</td>\n",
       "      <td>473.10</td>\n",
       "      <td>1.032918e+10</td>\n",
       "      <td>4.817654e+09</td>\n",
       "      <td>182587392.0</td>\n",
       "      <td>&lt;NA&gt;</td>\n",
       "      <td>&lt;NA&gt;</td>\n",
       "      <td>&lt;NA&gt;</td>\n",
       "      <td>4314.10</td>\n",
       "      <td>1.032918e+10</td>\n",
       "    </tr>\n",
       "    <tr>\n",
       "      <th>0</th>\n",
       "      <td>case-10000-batch-10000</td>\n",
       "      <td>2</td>\n",
       "      <td>10000</td>\n",
       "      <td>39068</td>\n",
       "      <td>9165</td>\n",
       "      <td>32</td>\n",
       "      <td>29903</td>\n",
       "      <td>3840.0</td>\n",
       "      <td>1.722049e+09</td>\n",
       "      <td>990588928.0</td>\n",
       "      <td>5.425177e+09</td>\n",
       "      <td>494.78</td>\n",
       "      <td>1.035850e+10</td>\n",
       "      <td>4.793762e+09</td>\n",
       "      <td>182489088.0</td>\n",
       "      <td>&lt;NA&gt;</td>\n",
       "      <td>&lt;NA&gt;</td>\n",
       "      <td>&lt;NA&gt;</td>\n",
       "      <td>4334.78</td>\n",
       "      <td>1.035850e+10</td>\n",
       "    </tr>\n",
       "    <tr>\n",
       "      <th>0</th>\n",
       "      <td>case-10000-batch-10000</td>\n",
       "      <td>3</td>\n",
       "      <td>10000</td>\n",
       "      <td>39068</td>\n",
       "      <td>9165</td>\n",
       "      <td>32</td>\n",
       "      <td>29903</td>\n",
       "      <td>3840.0</td>\n",
       "      <td>1.766552e+09</td>\n",
       "      <td>992370688.0</td>\n",
       "      <td>5.425033e+09</td>\n",
       "      <td>480.21</td>\n",
       "      <td>1.045553e+10</td>\n",
       "      <td>4.795781e+09</td>\n",
       "      <td>182505472.0</td>\n",
       "      <td>&lt;NA&gt;</td>\n",
       "      <td>&lt;NA&gt;</td>\n",
       "      <td>&lt;NA&gt;</td>\n",
       "      <td>4320.21</td>\n",
       "      <td>1.045553e+10</td>\n",
       "    </tr>\n",
       "  </tbody>\n",
       "</table>\n",
       "</div>"
      ],
      "text/plain": [
       "                     Name  Iteration  Number samples  Number features (all)  \\\n",
       "0  case-10000-batch-10000          1           10000                  39068   \n",
       "0  case-10000-batch-10000          2           10000                  39068   \n",
       "0  case-10000-batch-10000          3           10000                  39068   \n",
       "\n",
       "   Number features (no unknown)  Number cores  Reference length  \\\n",
       "0                          9165            32             29903   \n",
       "0                          9165            32             29903   \n",
       "0                          9165            32             29903   \n",
       "\n",
       "   Analysis runtime  Analysis memory (max)  Analysis memory (max/process)  \\\n",
       "0            3841.0           1.685271e+09                    990605312.0   \n",
       "0            3840.0           1.722049e+09                    990588928.0   \n",
       "0            3840.0           1.766552e+09                    992370688.0   \n",
       "\n",
       "   Analysis disk uage  Index runtime  Index memory (max)  \\\n",
       "0        5.424976e+09         473.10        1.032918e+10   \n",
       "0        5.425177e+09         494.78        1.035850e+10   \n",
       "0        5.425033e+09         480.21        1.045553e+10   \n",
       "\n",
       "   Index memory (max/process)   Index size Tree runtime Tree memory (max)  \\\n",
       "0                4.817654e+09  182587392.0         <NA>              <NA>   \n",
       "0                4.793762e+09  182489088.0         <NA>              <NA>   \n",
       "0                4.795781e+09  182505472.0         <NA>              <NA>   \n",
       "\n",
       "  Tree memory (max/process)  Total runtime    Max memory  \n",
       "0                      <NA>        4314.10  1.032918e+10  \n",
       "0                      <NA>        4334.78  1.035850e+10  \n",
       "0                      <NA>        4320.21  1.045553e+10  "
      ]
     },
     "execution_count": 7,
     "metadata": {},
     "output_type": "execute_result"
    }
   ],
   "source": [
    "benchmark_df"
   ]
  },
  {
   "cell_type": "code",
   "execution_count": 8,
   "id": "535a9ccc-ab9c-4919-806f-128e1efd2389",
   "metadata": {
    "execution": {
     "iopub.execute_input": "2021-10-11T18:04:22.431925Z",
     "iopub.status.busy": "2021-10-11T18:04:22.429664Z",
     "iopub.status.idle": "2021-10-11T18:04:22.435390Z",
     "shell.execute_reply": "2021-10-11T18:04:22.434912Z"
    },
    "papermill": {
     "duration": 0.023462,
     "end_time": "2021-10-11T18:04:22.435503",
     "exception": false,
     "start_time": "2021-10-11T18:04:22.412041",
     "status": "completed"
    },
    "tags": []
   },
   "outputs": [],
   "source": [
    "benchmark_df.to_csv(benchmark_path, sep='\\t', index=False)"
   ]
  },
  {
   "cell_type": "markdown",
   "id": "6cb7673b-9f85-4c43-b2e2-93538497a196",
   "metadata": {
    "papermill": {
     "duration": 0.010238,
     "end_time": "2021-10-11T18:04:22.457742",
     "exception": false,
     "start_time": "2021-10-11T18:04:22.447504",
     "status": "completed"
    },
    "tags": []
   },
   "source": [
    "# 3. Export trees"
   ]
  },
  {
   "cell_type": "code",
   "execution_count": 9,
   "id": "5280f82c-5434-4391-8c44-b937a7c95bd5",
   "metadata": {
    "execution": {
     "iopub.execute_input": "2021-10-11T18:04:22.486556Z",
     "iopub.status.busy": "2021-10-11T18:04:22.485439Z",
     "iopub.status.idle": "2021-10-11T18:04:22.489200Z",
     "shell.execute_reply": "2021-10-11T18:04:22.490093Z"
    },
    "papermill": {
     "duration": 0.022709,
     "end_time": "2021-10-11T18:04:22.490346",
     "exception": false,
     "start_time": "2021-10-11T18:04:22.467637",
     "status": "completed"
    },
    "tags": []
   },
   "outputs": [
    {
     "name": "stdout",
     "output_type": "stream",
     "text": [
      "build_tree=False so no tree to export\n"
     ]
    }
   ],
   "source": [
    "if build_tree:\n",
    "    !gdi --project-dir {index_path} export tree {reference_name} > {output_tree}\n",
    "    print(f'Wrote tree to {output_tree}')\n",
    "else:\n",
    "    print(f'build_tree={build_tree} so no tree to export')"
   ]
  }
 ],
 "metadata": {
  "kernelspec": {
   "display_name": "Python 3 (ipykernel)",
   "language": "python",
   "name": "python3"
  },
  "language_info": {
   "codemirror_mode": {
    "name": "ipython",
    "version": 3
   },
   "file_extension": ".py",
   "mimetype": "text/x-python",
   "name": "python",
   "nbconvert_exporter": "python",
   "pygments_lexer": "ipython3",
   "version": "3.8.12"
  },
  "papermill": {
   "default_parameters": {},
   "duration": 13046.066836,
   "end_time": "2021-10-11T18:04:23.150887",
   "environment_variables": {},
   "exception": null,
   "input_path": "template-3-index-genomes.ipynb",
   "output_path": "3-index-genomes.case-10000-batch-10000.ipynb",
   "parameters": {
    "build_tree": false,
    "cases_dir": "cases/case-10000-batch-10000",
    "iterations": 3,
    "number_samples": 10000,
    "sample_batch_size": 10000
   },
   "start_time": "2021-10-11T14:26:57.084051",
   "version": "2.3.3"
  }
 },
 "nbformat": 4,
 "nbformat_minor": 5
}