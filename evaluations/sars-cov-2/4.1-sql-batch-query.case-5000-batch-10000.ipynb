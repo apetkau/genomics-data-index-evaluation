{
 "cells": [
  {
   "cell_type": "markdown",
   "id": "f1bc3e40-3158-4009-8a9b-371a7d2d2efe",
   "metadata": {
    "papermill": {
     "duration": 0.019302,
     "end_time": "2022-03-14T01:47:04.560178",
     "exception": false,
     "start_time": "2022-03-14T01:47:04.540876",
     "status": "completed"
    },
    "tags": []
   },
   "source": [
    "# 1. Parameters"
   ]
  },
  {
   "cell_type": "code",
   "execution_count": 1,
   "id": "cf8880a6-5194-4ced-be67-c0610a332a31",
   "metadata": {
    "execution": {
     "iopub.execute_input": "2022-03-14T01:47:04.591336Z",
     "iopub.status.busy": "2022-03-14T01:47:04.586253Z",
     "iopub.status.idle": "2022-03-14T01:47:04.595361Z",
     "shell.execute_reply": "2022-03-14T01:47:04.595809Z"
    },
    "papermill": {
     "duration": 0.025489,
     "end_time": "2022-03-14T01:47:04.596034",
     "exception": false,
     "start_time": "2022-03-14T01:47:04.570545",
     "status": "completed"
    },
    "tags": [
     "parameters"
    ]
   },
   "outputs": [],
   "source": [
    "cases_dir = 'cases/unset'\n",
    "metadata_file = 'input/metadata-subsample-pangolin.tsv'\n",
    "build_tree = False"
   ]
  },
  {
   "cell_type": "code",
   "execution_count": 2,
   "id": "976992a7",
   "metadata": {
    "execution": {
     "iopub.execute_input": "2022-03-14T01:47:04.621863Z",
     "iopub.status.busy": "2022-03-14T01:47:04.621425Z",
     "iopub.status.idle": "2022-03-14T01:47:04.623719Z",
     "shell.execute_reply": "2022-03-14T01:47:04.624052Z"
    },
    "papermill": {
     "duration": 0.016099,
     "end_time": "2022-03-14T01:47:04.624153",
     "exception": false,
     "start_time": "2022-03-14T01:47:04.608054",
     "status": "completed"
    },
    "tags": [
     "injected-parameters"
    ]
   },
   "outputs": [],
   "source": [
    "# Parameters\n",
    "cases_dir = \"cases/case-5000-batch-10000\"\n",
    "iterations = 3\n",
    "number_samples = 5000\n",
    "sample_batch_size = 10000\n",
    "build_tree = False\n"
   ]
  },
  {
   "cell_type": "code",
   "execution_count": 3,
   "id": "7e54ac3f-8dff-492e-8096-65a2ed9f5c90",
   "metadata": {
    "execution": {
     "iopub.execute_input": "2022-03-14T01:47:04.648045Z",
     "iopub.status.busy": "2022-03-14T01:47:04.647511Z",
     "iopub.status.idle": "2022-03-14T01:47:07.060469Z",
     "shell.execute_reply": "2022-03-14T01:47:07.059488Z"
    },
    "papermill": {
     "duration": 2.428184,
     "end_time": "2022-03-14T01:47:07.060778",
     "exception": false,
     "start_time": "2022-03-14T01:47:04.632594",
     "status": "completed"
    },
    "tags": []
   },
   "outputs": [],
   "source": [
    "from pathlib import Path\n",
    "import imp\n",
    "fp, pathname, description = imp.find_module('gdi_benchmark', ['../../lib'])\n",
    "gdi_benchmark = imp.load_module('gdi_benchmark', fp, pathname, description)\n",
    "\n",
    "cases_dir_path = Path(cases_dir)\n",
    "\n",
    "case_name = str(cases_dir_path.name)\n",
    "index_path = cases_dir_path / 'index'\n",
    "\n",
    "output_api_path = cases_dir_path / 'sql-batch-query-api.tsv'\n",
    "output_cli_path = cases_dir_path / 'sql-batch-query-cli.tsv'"
   ]
  },
  {
   "cell_type": "code",
   "execution_count": 4,
   "id": "1d0622da-22b8-4550-bf9b-e11319ad76fa",
   "metadata": {
    "execution": {
     "iopub.execute_input": "2022-03-14T01:47:07.096133Z",
     "iopub.status.busy": "2022-03-14T01:47:07.095622Z",
     "iopub.status.idle": "2022-03-14T01:47:09.895115Z",
     "shell.execute_reply": "2022-03-14T01:47:09.896051Z"
    },
    "papermill": {
     "duration": 2.817489,
     "end_time": "2022-03-14T01:47:09.896400",
     "exception": false,
     "start_time": "2022-03-14T01:47:07.078911",
     "status": "completed"
    },
    "tags": []
   },
   "outputs": [
    {
     "name": "stdout",
     "output_type": "stream",
     "text": [
      "gdi, version 0.6.0.dev200\r\n"
     ]
    }
   ],
   "source": [
    "!gdi --version"
   ]
  },
  {
   "cell_type": "markdown",
   "id": "54537d03-809a-487c-8686-5e1791dc11de",
   "metadata": {
    "papermill": {
     "duration": 0.009293,
     "end_time": "2022-03-14T01:47:09.923797",
     "exception": false,
     "start_time": "2022-03-14T01:47:09.914504",
     "status": "completed"
    },
    "tags": []
   },
   "source": [
    "# 2. Benchmark command-line"
   ]
  },
  {
   "cell_type": "code",
   "execution_count": 5,
   "id": "9f4b5122-586c-440f-be52-0b7ab161de46",
   "metadata": {
    "execution": {
     "iopub.execute_input": "2022-03-14T01:47:09.952830Z",
     "iopub.status.busy": "2022-03-14T01:47:09.952238Z",
     "iopub.status.idle": "2022-03-14T01:47:09.955802Z",
     "shell.execute_reply": "2022-03-14T01:47:09.955361Z"
    },
    "papermill": {
     "duration": 0.024939,
     "end_time": "2022-03-14T01:47:09.955923",
     "exception": false,
     "start_time": "2022-03-14T01:47:09.930984",
     "status": "completed"
    },
    "tags": []
   },
   "outputs": [],
   "source": [
    "import pandas as pd\n",
    "import genomics_data_index.api as gdi\n",
    "\n",
    "def benchmark_cli_index(name: str, index_path: Path, build_tree: bool) -> pd.DataFrame:\n",
    "    benchmark_commands = {\n",
    "        'query hasa':               f'gdi --project-dir {index_path} --ncores 1 query \"hasa:hgvs_gn:NC_045512.2:S:p.D614G\"',\n",
    "        'query isa':                f'gdi --project-dir {index_path} --ncores 1 query \"isa:Switzerland/100108/2020\"',\n",
    "        'query --summary':          f'gdi --project-dir {index_path} --ncores 1 query \"hasa:hgvs_gn:NC_045512.2:S:p.D614G\" --summary',\n",
    "        'query --features-summary': f'gdi --project-dir {index_path} --ncores 1 query --features-summary mutations',\n",
    "        'list samples':             f'gdi --project-dir {index_path} --ncores 1 list samples',\n",
    "    }\n",
    "    \n",
    "    if build_tree:\n",
    "        benchmark_commands['query isin'] = f'gdi --project-dir {index_path} --ncores 1 query --reference-name NC_045512 \"isin_5_substitutions:Switzerland/100108/2020\"'\n",
    "    \n",
    "    db = gdi.GenomicsDataIndex.connect(index_path)\n",
    "    number_samples = db.count_samples()\n",
    "    number_features_no_unknown = db.count_mutations(reference_genome='NC_045512', include_unknown=False)\n",
    "    number_features_all = db.count_mutations(reference_genome='NC_045512', include_unknown=True)\n",
    "    iterations = 10\n",
    "    \n",
    "    benchmarker = gdi_benchmark.QueryBenchmarkHandler()\n",
    "    return benchmarker.benchmark_cli(name=name, kind_commands=benchmark_commands, number_samples=number_samples,\n",
    "                                    number_features_no_unknown=number_features_no_unknown, number_features_all=number_features_all,\n",
    "                                     iterations=iterations)"
   ]
  },
  {
   "cell_type": "code",
   "execution_count": 6,
   "id": "c339bf1b-f934-4e3a-9796-25374627e237",
   "metadata": {
    "execution": {
     "iopub.execute_input": "2022-03-14T01:47:09.987304Z",
     "iopub.status.busy": "2022-03-14T01:47:09.982339Z",
     "iopub.status.idle": "2022-03-14T01:49:43.283862Z",
     "shell.execute_reply": "2022-03-14T01:49:43.284238Z"
    },
    "papermill": {
     "duration": 153.316471,
     "end_time": "2022-03-14T01:49:43.284559",
     "exception": false,
     "start_time": "2022-03-14T01:47:09.968088",
     "status": "completed"
    },
    "tags": []
   },
   "outputs": [
    {
     "data": {
      "text/html": [
       "<div>\n",
       "<style scoped>\n",
       "    .dataframe tbody tr th:only-of-type {\n",
       "        vertical-align: middle;\n",
       "    }\n",
       "\n",
       "    .dataframe tbody tr th {\n",
       "        vertical-align: top;\n",
       "    }\n",
       "\n",
       "    .dataframe thead th {\n",
       "        text-align: right;\n",
       "    }\n",
       "</style>\n",
       "<table border=\"1\" class=\"dataframe\">\n",
       "  <thead>\n",
       "    <tr style=\"text-align: right;\">\n",
       "      <th></th>\n",
       "      <th>Name</th>\n",
       "      <th>Kind</th>\n",
       "      <th>Iteration</th>\n",
       "      <th>Number samples</th>\n",
       "      <th>Number features (no unknown)</th>\n",
       "      <th>Number features (all)</th>\n",
       "      <th>Runtime</th>\n",
       "      <th>Memory (max)</th>\n",
       "      <th>Mmemory (max/process)</th>\n",
       "    </tr>\n",
       "  </thead>\n",
       "  <tbody>\n",
       "    <tr>\n",
       "      <th>0</th>\n",
       "      <td>case-5000-batch-10000</td>\n",
       "      <td>query hasa</td>\n",
       "      <td>1</td>\n",
       "      <td>5000</td>\n",
       "      <td>5760</td>\n",
       "      <td>35663</td>\n",
       "      <td>2.98</td>\n",
       "      <td>231817216.0</td>\n",
       "      <td>231817216.0</td>\n",
       "    </tr>\n",
       "    <tr>\n",
       "      <th>0</th>\n",
       "      <td>case-5000-batch-10000</td>\n",
       "      <td>query hasa</td>\n",
       "      <td>2</td>\n",
       "      <td>5000</td>\n",
       "      <td>5760</td>\n",
       "      <td>35663</td>\n",
       "      <td>2.97</td>\n",
       "      <td>231424000.0</td>\n",
       "      <td>231424000.0</td>\n",
       "    </tr>\n",
       "    <tr>\n",
       "      <th>0</th>\n",
       "      <td>case-5000-batch-10000</td>\n",
       "      <td>query hasa</td>\n",
       "      <td>3</td>\n",
       "      <td>5000</td>\n",
       "      <td>5760</td>\n",
       "      <td>35663</td>\n",
       "      <td>2.96</td>\n",
       "      <td>230735872.0</td>\n",
       "      <td>230735872.0</td>\n",
       "    </tr>\n",
       "  </tbody>\n",
       "</table>\n",
       "</div>"
      ],
      "text/plain": [
       "                    Name        Kind  Iteration  Number samples  \\\n",
       "0  case-5000-batch-10000  query hasa          1            5000   \n",
       "0  case-5000-batch-10000  query hasa          2            5000   \n",
       "0  case-5000-batch-10000  query hasa          3            5000   \n",
       "\n",
       "   Number features (no unknown)  Number features (all)  Runtime  Memory (max)  \\\n",
       "0                          5760                  35663     2.98   231817216.0   \n",
       "0                          5760                  35663     2.97   231424000.0   \n",
       "0                          5760                  35663     2.96   230735872.0   \n",
       "\n",
       "   Mmemory (max/process)  \n",
       "0            231817216.0  \n",
       "0            231424000.0  \n",
       "0            230735872.0  "
      ]
     },
     "execution_count": 6,
     "metadata": {},
     "output_type": "execute_result"
    }
   ],
   "source": [
    "cli_df = benchmark_cli_index(name=case_name, index_path=index_path, build_tree=build_tree)\n",
    "cli_df.head(3)"
   ]
  },
  {
   "cell_type": "code",
   "execution_count": 7,
   "id": "1b71ed98-d69a-4038-b337-3b8bbf421bf3",
   "metadata": {
    "execution": {
     "iopub.execute_input": "2022-03-14T01:49:43.307606Z",
     "iopub.status.busy": "2022-03-14T01:49:43.307178Z",
     "iopub.status.idle": "2022-03-14T01:49:43.316870Z",
     "shell.execute_reply": "2022-03-14T01:49:43.316388Z"
    },
    "papermill": {
     "duration": 0.024807,
     "end_time": "2022-03-14T01:49:43.316990",
     "exception": false,
     "start_time": "2022-03-14T01:49:43.292183",
     "status": "completed"
    },
    "tags": []
   },
   "outputs": [],
   "source": [
    "cli_df.to_csv(output_cli_path, sep='\\t', index=False)"
   ]
  },
  {
   "cell_type": "markdown",
   "id": "163cd729-a654-499a-a5b7-dc0bd78d8128",
   "metadata": {
    "papermill": {
     "duration": 0.008376,
     "end_time": "2022-03-14T01:49:43.335577",
     "exception": false,
     "start_time": "2022-03-14T01:49:43.327201",
     "status": "completed"
    },
    "tags": []
   },
   "source": [
    "# 3. Test query API"
   ]
  },
  {
   "cell_type": "markdown",
   "id": "777dbb2e-330f-4de7-b451-1ca902cc3386",
   "metadata": {
    "papermill": {
     "duration": 0.007463,
     "end_time": "2022-03-14T01:49:43.350627",
     "exception": false,
     "start_time": "2022-03-14T01:49:43.343164",
     "status": "completed"
    },
    "tags": []
   },
   "source": [
    "## 3.1. Load (example) metadata\n",
    "\n",
    "The simulated data is based off of real sample names and a real tree. So I can load up real metadata and attach it to a query (though the mutations and reference genome are all simulated)."
   ]
  },
  {
   "cell_type": "code",
   "execution_count": 8,
   "id": "19e1d02c-7bb7-44ef-a1ce-3d20dc420686",
   "metadata": {
    "execution": {
     "iopub.execute_input": "2022-03-14T01:49:43.374483Z",
     "iopub.status.busy": "2022-03-14T01:49:43.372045Z",
     "iopub.status.idle": "2022-03-14T01:49:44.355938Z",
     "shell.execute_reply": "2022-03-14T01:49:44.356898Z"
    },
    "papermill": {
     "duration": 0.999057,
     "end_time": "2022-03-14T01:49:44.357195",
     "exception": false,
     "start_time": "2022-03-14T01:49:43.358138",
     "status": "completed"
    },
    "tags": []
   },
   "outputs": [
    {
     "data": {
      "text/html": [
       "<div>\n",
       "<style scoped>\n",
       "    .dataframe tbody tr th:only-of-type {\n",
       "        vertical-align: middle;\n",
       "    }\n",
       "\n",
       "    .dataframe tbody tr th {\n",
       "        vertical-align: top;\n",
       "    }\n",
       "\n",
       "    .dataframe thead th {\n",
       "        text-align: right;\n",
       "    }\n",
       "</style>\n",
       "<table border=\"1\" class=\"dataframe\">\n",
       "  <thead>\n",
       "    <tr style=\"text-align: right;\">\n",
       "      <th></th>\n",
       "      <th>strain</th>\n",
       "      <th>virus</th>\n",
       "      <th>gisaid_epi_isl</th>\n",
       "      <th>genbank_accession</th>\n",
       "      <th>sra_accession</th>\n",
       "      <th>date</th>\n",
       "      <th>region</th>\n",
       "      <th>country</th>\n",
       "      <th>division</th>\n",
       "      <th>location</th>\n",
       "      <th>...</th>\n",
       "      <th>ambiguity_score</th>\n",
       "      <th>scorpio_call</th>\n",
       "      <th>scorpio_support</th>\n",
       "      <th>scorpio_conflict</th>\n",
       "      <th>version</th>\n",
       "      <th>pangolin_version</th>\n",
       "      <th>pangoLEARN_version</th>\n",
       "      <th>pango_version</th>\n",
       "      <th>status</th>\n",
       "      <th>note</th>\n",
       "    </tr>\n",
       "  </thead>\n",
       "  <tbody>\n",
       "    <tr>\n",
       "      <th>0</th>\n",
       "      <td>OU420663</td>\n",
       "      <td>ncov</td>\n",
       "      <td>?</td>\n",
       "      <td>OU420663</td>\n",
       "      <td>ERR5939958</td>\n",
       "      <td>2020</td>\n",
       "      <td>Europe</td>\n",
       "      <td>United Kingdom</td>\n",
       "      <td>England</td>\n",
       "      <td>NaN</td>\n",
       "      <td>...</td>\n",
       "      <td>1.000000</td>\n",
       "      <td>Alpha (B.1.1.7-like)</td>\n",
       "      <td>1.0</td>\n",
       "      <td>0.0</td>\n",
       "      <td>PLEARN-v1.2.127</td>\n",
       "      <td>3.1.20</td>\n",
       "      <td>2022-02-28</td>\n",
       "      <td>v1.2.127</td>\n",
       "      <td>passed_qc</td>\n",
       "      <td>scorpio call: Alt alleles 23; Ref alleles 0; A...</td>\n",
       "    </tr>\n",
       "    <tr>\n",
       "      <th>1</th>\n",
       "      <td>USA/NY-CUIMC-NP-3606/2020</td>\n",
       "      <td>ncov</td>\n",
       "      <td>?</td>\n",
       "      <td>MZ702266</td>\n",
       "      <td>NaN</td>\n",
       "      <td>2020-12-02</td>\n",
       "      <td>North America</td>\n",
       "      <td>USA</td>\n",
       "      <td>New York</td>\n",
       "      <td>New York City</td>\n",
       "      <td>...</td>\n",
       "      <td>0.951273</td>\n",
       "      <td>NaN</td>\n",
       "      <td>NaN</td>\n",
       "      <td>NaN</td>\n",
       "      <td>PLEARN-v1.2.127</td>\n",
       "      <td>3.1.20</td>\n",
       "      <td>2022-02-28</td>\n",
       "      <td>v1.2.127</td>\n",
       "      <td>passed_qc</td>\n",
       "      <td>NaN</td>\n",
       "    </tr>\n",
       "  </tbody>\n",
       "</table>\n",
       "<p>2 rows × 53 columns</p>\n",
       "</div>"
      ],
      "text/plain": [
       "                      strain virus gisaid_epi_isl genbank_accession  \\\n",
       "0                   OU420663  ncov              ?          OU420663   \n",
       "1  USA/NY-CUIMC-NP-3606/2020  ncov              ?          MZ702266   \n",
       "\n",
       "  sra_accession        date         region         country  division  \\\n",
       "0    ERR5939958        2020         Europe  United Kingdom   England   \n",
       "1           NaN  2020-12-02  North America             USA  New York   \n",
       "\n",
       "        location  ... ambiguity_score          scorpio_call scorpio_support  \\\n",
       "0            NaN  ...        1.000000  Alpha (B.1.1.7-like)             1.0   \n",
       "1  New York City  ...        0.951273                   NaN             NaN   \n",
       "\n",
       "  scorpio_conflict          version pangolin_version pangoLEARN_version  \\\n",
       "0              0.0  PLEARN-v1.2.127           3.1.20         2022-02-28   \n",
       "1              NaN  PLEARN-v1.2.127           3.1.20         2022-02-28   \n",
       "\n",
       "  pango_version     status                                               note  \n",
       "0      v1.2.127  passed_qc  scorpio call: Alt alleles 23; Ref alleles 0; A...  \n",
       "1      v1.2.127  passed_qc                                                NaN  \n",
       "\n",
       "[2 rows x 53 columns]"
      ]
     },
     "execution_count": 8,
     "metadata": {},
     "output_type": "execute_result"
    }
   ],
   "source": [
    "import pandas as pd\n",
    "\n",
    "metadata_df = pd.read_csv(metadata_file, sep='\\t')\n",
    "metadata_df.head(2)"
   ]
  },
  {
   "cell_type": "markdown",
   "id": "6471c107-835d-4dac-812c-951d0527982e",
   "metadata": {
    "papermill": {
     "duration": 0.009667,
     "end_time": "2022-03-14T01:49:44.383501",
     "exception": false,
     "start_time": "2022-03-14T01:49:44.373834",
     "status": "completed"
    },
    "tags": []
   },
   "source": [
    "## 3.2. Define benchmark cases"
   ]
  },
  {
   "cell_type": "code",
   "execution_count": 9,
   "id": "e347bcfb-4d0c-4fe8-b68c-00de30d924d9",
   "metadata": {
    "execution": {
     "iopub.execute_input": "2022-03-14T01:49:44.418556Z",
     "iopub.status.busy": "2022-03-14T01:49:44.417996Z",
     "iopub.status.idle": "2022-03-14T01:49:44.420537Z",
     "shell.execute_reply": "2022-03-14T01:49:44.420936Z"
    },
    "papermill": {
     "duration": 0.029934,
     "end_time": "2022-03-14T01:49:44.421065",
     "exception": false,
     "start_time": "2022-03-14T01:49:44.391131",
     "status": "completed"
    },
    "tags": []
   },
   "outputs": [],
   "source": [
    "from typing import List\n",
    "import genomics_data_index.api as gdi\n",
    "\n",
    "def benchmark_api_index(name: str, index_path: Path, build_tree: bool) -> pd.DataFrame:\n",
    "    db = gdi.GenomicsDataIndex.connect(index_path)\n",
    "    q_no_join = db.samples_query(reference_name='NC_045512', universe='mutations')\n",
    "    q_join = db.samples_query(reference_name='NC_045512', universe='mutations').join(metadata_df, sample_names_column='strain')\n",
    "\n",
    "    q = q_join.hasa('hgvs_gn:NC_045512.2:S:p.D614G')\n",
    "    r = q_join.hasa('hgvs_gn:NC_045512.2:N:p.R203K')\n",
    "    \n",
    "    number_samples = db.count_samples()\n",
    "    number_features_no_unknown = db.count_mutations(reference_genome='NC_045512', include_unknown=False)\n",
    "    number_features_all = db.count_mutations(reference_genome='NC_045512', include_unknown=True)\n",
    "    repeat = 10\n",
    "\n",
    "    benchmark_cases = {\n",
    "        'db.samples_query':      lambda: db.samples_query(reference_name='NC_045512', universe='mutations'),\n",
    "        'q.join':                lambda: q_no_join.join(metadata_df, sample_names_column='strain'),\n",
    "        'q.features_summary':    lambda: q_join.features_summary(),\n",
    "        'q.features_comparison': lambda: q_join.features_comparison(sample_categories='lineage', categories_kind='dataframe', kind='mutations', unit='proportion'),\n",
    "        'q.hasa':                lambda: q_join.hasa(\"hgvs_gn:NC_045512.2:N:p.R203K\"),\n",
    "        'q.isa':                 lambda: q_join.isa(\"Switzerland/100112/2020\"),\n",
    "        'q AND r':               lambda: q & r,\n",
    "        'q.toframe':             lambda: q_join.toframe(),\n",
    "        'q.summary':             lambda: q_join.summary(),\n",
    "    }\n",
    "    \n",
    "    if build_tree:\n",
    "        benchmark_cases['q.isin (distance)'] = lambda: q_join.isin(\"Switzerland/100108/2020\", kind='distance', distance=5, units='substitutions')\n",
    "        benchmark_cases['q.isin (mrca)'] = lambda: q_join.isin([\"Switzerland/100108/2020\", \"FR993751\"], kind='mrca')\n",
    "\n",
    "    benchmarker = gdi_benchmark.QueryBenchmarkHandler()\n",
    "    return benchmarker.benchmark_api(name=name, kind_functions=benchmark_cases,\n",
    "                                       number_samples=number_samples,\n",
    "                                       number_features_no_unknown=number_features_no_unknown,\n",
    "                                       number_features_all=number_features_all,\n",
    "                                       repeat=repeat)"
   ]
  },
  {
   "cell_type": "markdown",
   "id": "f2180ae5-7850-4680-8e9e-45872d56accb",
   "metadata": {
    "papermill": {
     "duration": 0.009329,
     "end_time": "2022-03-14T01:49:44.443753",
     "exception": false,
     "start_time": "2022-03-14T01:49:44.434424",
     "status": "completed"
    },
    "tags": []
   },
   "source": [
    "## 3.3. Benchmark reads index"
   ]
  },
  {
   "cell_type": "code",
   "execution_count": 10,
   "id": "04d3a9c7-23a6-4a04-8735-a637c5534ba8",
   "metadata": {
    "execution": {
     "iopub.execute_input": "2022-03-14T01:49:44.474816Z",
     "iopub.status.busy": "2022-03-14T01:49:44.469054Z",
     "iopub.status.idle": "2022-03-14T01:51:36.838915Z",
     "shell.execute_reply": "2022-03-14T01:51:36.839296Z"
    },
    "papermill": {
     "duration": 112.388072,
     "end_time": "2022-03-14T01:51:36.839428",
     "exception": false,
     "start_time": "2022-03-14T01:49:44.451356",
     "status": "completed"
    },
    "tags": []
   },
   "outputs": [
    {
     "name": "stderr",
     "output_type": "stream",
     "text": [
      "Attempting to set global database_path_translator=<genomics_data_index.storage.model.db.DatabasePathTranslator.DatabasePathTranslator object at 0x7fcd8c2dedf0> but it is already set\n"
     ]
    },
    {
     "data": {
      "text/html": [
       "<div>\n",
       "<style scoped>\n",
       "    .dataframe tbody tr th:only-of-type {\n",
       "        vertical-align: middle;\n",
       "    }\n",
       "\n",
       "    .dataframe tbody tr th {\n",
       "        vertical-align: top;\n",
       "    }\n",
       "\n",
       "    .dataframe thead th {\n",
       "        text-align: right;\n",
       "    }\n",
       "</style>\n",
       "<table border=\"1\" class=\"dataframe\">\n",
       "  <thead>\n",
       "    <tr style=\"text-align: right;\">\n",
       "      <th></th>\n",
       "      <th>Name</th>\n",
       "      <th>Kind</th>\n",
       "      <th>Number samples</th>\n",
       "      <th>Number features (no unknown)</th>\n",
       "      <th>Number features (all)</th>\n",
       "      <th>Number executions</th>\n",
       "      <th>Iteration</th>\n",
       "      <th>Time</th>\n",
       "    </tr>\n",
       "  </thead>\n",
       "  <tbody>\n",
       "    <tr>\n",
       "      <th>0</th>\n",
       "      <td>case-5000-batch-10000</td>\n",
       "      <td>db.samples_query</td>\n",
       "      <td>5000</td>\n",
       "      <td>5760</td>\n",
       "      <td>35663</td>\n",
       "      <td>50</td>\n",
       "      <td>1</td>\n",
       "      <td>0.006222</td>\n",
       "    </tr>\n",
       "    <tr>\n",
       "      <th>1</th>\n",
       "      <td>case-5000-batch-10000</td>\n",
       "      <td>db.samples_query</td>\n",
       "      <td>5000</td>\n",
       "      <td>5760</td>\n",
       "      <td>35663</td>\n",
       "      <td>50</td>\n",
       "      <td>2</td>\n",
       "      <td>0.006217</td>\n",
       "    </tr>\n",
       "    <tr>\n",
       "      <th>2</th>\n",
       "      <td>case-5000-batch-10000</td>\n",
       "      <td>db.samples_query</td>\n",
       "      <td>5000</td>\n",
       "      <td>5760</td>\n",
       "      <td>35663</td>\n",
       "      <td>50</td>\n",
       "      <td>3</td>\n",
       "      <td>0.006225</td>\n",
       "    </tr>\n",
       "    <tr>\n",
       "      <th>3</th>\n",
       "      <td>case-5000-batch-10000</td>\n",
       "      <td>db.samples_query</td>\n",
       "      <td>5000</td>\n",
       "      <td>5760</td>\n",
       "      <td>35663</td>\n",
       "      <td>50</td>\n",
       "      <td>4</td>\n",
       "      <td>0.006226</td>\n",
       "    </tr>\n",
       "    <tr>\n",
       "      <th>4</th>\n",
       "      <td>case-5000-batch-10000</td>\n",
       "      <td>db.samples_query</td>\n",
       "      <td>5000</td>\n",
       "      <td>5760</td>\n",
       "      <td>35663</td>\n",
       "      <td>50</td>\n",
       "      <td>5</td>\n",
       "      <td>0.006344</td>\n",
       "    </tr>\n",
       "  </tbody>\n",
       "</table>\n",
       "</div>"
      ],
      "text/plain": [
       "                    Name              Kind  Number samples  \\\n",
       "0  case-5000-batch-10000  db.samples_query            5000   \n",
       "1  case-5000-batch-10000  db.samples_query            5000   \n",
       "2  case-5000-batch-10000  db.samples_query            5000   \n",
       "3  case-5000-batch-10000  db.samples_query            5000   \n",
       "4  case-5000-batch-10000  db.samples_query            5000   \n",
       "\n",
       "   Number features (no unknown)  Number features (all)  Number executions  \\\n",
       "0                          5760                  35663                 50   \n",
       "1                          5760                  35663                 50   \n",
       "2                          5760                  35663                 50   \n",
       "3                          5760                  35663                 50   \n",
       "4                          5760                  35663                 50   \n",
       "\n",
       "   Iteration      Time  \n",
       "0          1  0.006222  \n",
       "1          2  0.006217  \n",
       "2          3  0.006225  \n",
       "3          4  0.006226  \n",
       "4          5  0.006344  "
      ]
     },
     "execution_count": 10,
     "metadata": {},
     "output_type": "execute_result"
    }
   ],
   "source": [
    "api_df = benchmark_api_index(name=case_name, index_path=index_path, build_tree=build_tree)\n",
    "api_df.head(5)"
   ]
  },
  {
   "cell_type": "code",
   "execution_count": 11,
   "id": "09e7fb11-5c83-4983-82b9-4a54fca23b52",
   "metadata": {
    "execution": {
     "iopub.execute_input": "2022-03-14T01:51:36.868368Z",
     "iopub.status.busy": "2022-03-14T01:51:36.867977Z",
     "iopub.status.idle": "2022-03-14T01:51:36.871027Z",
     "shell.execute_reply": "2022-03-14T01:51:36.871387Z"
    },
    "papermill": {
     "duration": 0.021949,
     "end_time": "2022-03-14T01:51:36.871509",
     "exception": false,
     "start_time": "2022-03-14T01:51:36.849560",
     "status": "completed"
    },
    "tags": []
   },
   "outputs": [],
   "source": [
    "api_df.to_csv(output_api_path, sep='\\t', index=False)"
   ]
  },
  {
   "cell_type": "code",
   "execution_count": null,
   "id": "d29f35f8-2056-46f1-a506-379a0add43b9",
   "metadata": {
    "papermill": {
     "duration": 0.008655,
     "end_time": "2022-03-14T01:51:36.890490",
     "exception": false,
     "start_time": "2022-03-14T01:51:36.881835",
     "status": "completed"
    },
    "tags": []
   },
   "outputs": [],
   "source": []
  }
 ],
 "metadata": {
  "kernelspec": {
   "display_name": "Python 3 (ipykernel)",
   "language": "python",
   "name": "python3"
  },
  "language_info": {
   "codemirror_mode": {
    "name": "ipython",
    "version": 3
   },
   "file_extension": ".py",
   "mimetype": "text/x-python",
   "name": "python",
   "nbconvert_exporter": "python",
   "pygments_lexer": "ipython3",
   "version": "3.8.12"
  },
  "papermill": {
   "default_parameters": {},
   "duration": 274.330052,
   "end_time": "2022-03-14T01:51:37.511762",
   "environment_variables": {},
   "exception": null,
   "input_path": "template-4.1-sql-batch-query.ipynb",
   "output_path": "4.1-sql-batch-query.case-5000-batch-10000.ipynb",
   "parameters": {
    "build_tree": false,
    "cases_dir": "cases/case-5000-batch-10000",
    "iterations": 3,
    "number_samples": 5000,
    "sample_batch_size": 10000
   },
   "start_time": "2022-03-14T01:47:03.181710",
   "version": "2.3.3"
  }
 },
 "nbformat": 4,
 "nbformat_minor": 5
}