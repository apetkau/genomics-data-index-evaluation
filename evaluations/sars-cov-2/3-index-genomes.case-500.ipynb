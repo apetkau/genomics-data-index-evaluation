{
 "cells": [
  {
   "cell_type": "markdown",
   "id": "7d3667b4-b1f8-4347-96e3-830c25b06740",
   "metadata": {
    "papermill": {
     "duration": 0.015618,
     "end_time": "2021-09-09T18:34:08.447656",
     "exception": false,
     "start_time": "2021-09-09T18:34:08.432038",
     "status": "completed"
    },
    "tags": []
   },
   "source": [
    "# 1. Parameters"
   ]
  },
  {
   "cell_type": "code",
   "execution_count": 1,
   "id": "d4ab0749-b286-4c34-b63c-a854e4952bae",
   "metadata": {
    "execution": {
     "iopub.execute_input": "2021-09-09T18:34:08.468346Z",
     "iopub.status.busy": "2021-09-09T18:34:08.467148Z",
     "iopub.status.idle": "2021-09-09T18:34:08.480479Z",
     "shell.execute_reply": "2021-09-09T18:34:08.481317Z"
    },
    "papermill": {
     "duration": 0.024727,
     "end_time": "2021-09-09T18:34:08.481712",
     "exception": false,
     "start_time": "2021-09-09T18:34:08.456985",
     "status": "completed"
    },
    "tags": [
     "parameters"
    ]
   },
   "outputs": [],
   "source": [
    "# Defaults\n",
    "cases_dir = 'cases/unset'\n",
    "reference_file = 'references/NC_045512.gbk.gz'\n",
    "input_files_all = 'input/input-files.tsv'\n",
    "iterations = 3\n",
    "mincov = 10\n",
    "ncores = 32\n",
    "number_samples = 10\n",
    "build_tree = False"
   ]
  },
  {
   "cell_type": "code",
   "execution_count": 2,
   "id": "22468997",
   "metadata": {
    "execution": {
     "iopub.execute_input": "2021-09-09T18:34:08.511877Z",
     "iopub.status.busy": "2021-09-09T18:34:08.511392Z",
     "iopub.status.idle": "2021-09-09T18:34:08.514176Z",
     "shell.execute_reply": "2021-09-09T18:34:08.514530Z"
    },
    "papermill": {
     "duration": 0.017925,
     "end_time": "2021-09-09T18:34:08.514649",
     "exception": false,
     "start_time": "2021-09-09T18:34:08.496724",
     "status": "completed"
    },
    "tags": [
     "injected-parameters"
    ]
   },
   "outputs": [],
   "source": [
    "# Parameters\n",
    "cases_dir = \"cases/case-500\"\n",
    "iterations = 3\n",
    "number_samples = 500\n",
    "build_tree = True\n"
   ]
  },
  {
   "cell_type": "code",
   "execution_count": 3,
   "id": "ce5962e4-261c-4210-b39b-47044e28466b",
   "metadata": {
    "execution": {
     "iopub.execute_input": "2021-09-09T18:34:08.541080Z",
     "iopub.status.busy": "2021-09-09T18:34:08.540611Z",
     "iopub.status.idle": "2021-09-09T18:34:10.805860Z",
     "shell.execute_reply": "2021-09-09T18:34:10.804931Z"
    },
    "papermill": {
     "duration": 2.28317,
     "end_time": "2021-09-09T18:34:10.806110",
     "exception": false,
     "start_time": "2021-09-09T18:34:08.522940",
     "status": "completed"
    },
    "tags": []
   },
   "outputs": [],
   "source": [
    "from pathlib import Path\n",
    "from shutil import rmtree\n",
    "from os import makedirs\n",
    "import imp\n",
    "fp, pathname, description = imp.find_module('gdi_benchmark', ['../../lib'])\n",
    "gdi_benchmark = imp.load_module('gdi_benchmark', fp, pathname, description)\n",
    "\n",
    "cases_dir_path = Path(cases_dir)\n",
    "\n",
    "if cases_dir_path.exists():\n",
    "    rmtree(cases_dir_path)\n",
    "    \n",
    "if not cases_dir_path.exists():\n",
    "    makedirs(cases_dir_path)\n",
    "\n",
    "input_files_all = Path(input_files_all)\n",
    "reference_file = Path(reference_file)\n",
    "\n",
    "case_name = str(cases_dir_path.name)\n",
    "reference_name = reference_file.name.split('.')[0]\n",
    "\n",
    "cases_input = cases_dir_path / 'input-files-case.tsv'\n",
    "index_path = cases_dir_path / 'index'\n",
    "benchmark_path = cases_dir_path / 'index-info.tsv'\n",
    "output_tree = cases_dir_path / 'tree.tre'"
   ]
  },
  {
   "cell_type": "markdown",
   "id": "1673d80f-b52a-4b68-b400-355540495e15",
   "metadata": {
    "papermill": {
     "duration": 0.008774,
     "end_time": "2021-09-09T18:34:10.829556",
     "exception": false,
     "start_time": "2021-09-09T18:34:10.820782",
     "status": "completed"
    },
    "tags": []
   },
   "source": [
    "# 2. Create subset input"
   ]
  },
  {
   "cell_type": "code",
   "execution_count": 4,
   "id": "4e66adb1-3ef7-45d1-8e46-723dcb9d0c31",
   "metadata": {
    "execution": {
     "iopub.execute_input": "2021-09-09T18:34:10.850403Z",
     "iopub.status.busy": "2021-09-09T18:34:10.849991Z",
     "iopub.status.idle": "2021-09-09T18:34:11.105713Z",
     "shell.execute_reply": "2021-09-09T18:34:11.106593Z"
    },
    "papermill": {
     "duration": 0.27083,
     "end_time": "2021-09-09T18:34:11.106877",
     "exception": false,
     "start_time": "2021-09-09T18:34:10.836047",
     "status": "completed"
    },
    "tags": []
   },
   "outputs": [
    {
     "name": "stdout",
     "output_type": "stream",
     "text": [
      "Wrote 500/100000 samples to cases/case-500/input-files-case.tsv\n"
     ]
    }
   ],
   "source": [
    "import pandas as pd\n",
    "\n",
    "all_input_df = pd.read_csv(input_files_all, sep='\\t')\n",
    "all_input_total = len(all_input_df)\n",
    "\n",
    "subset_input_df = all_input_df.head(number_samples)\n",
    "subset_input_total = len(subset_input_df)\n",
    "\n",
    "subset_input_df.to_csv(cases_input, sep='\\t', index=False)\n",
    "\n",
    "print(f'Wrote {subset_input_total}/{all_input_total} samples to {cases_input}')"
   ]
  },
  {
   "cell_type": "markdown",
   "id": "f208279e-7558-47fc-9362-da29df92828a",
   "metadata": {
    "papermill": {
     "duration": 0.008312,
     "end_time": "2021-09-09T18:34:11.129211",
     "exception": false,
     "start_time": "2021-09-09T18:34:11.120899",
     "status": "completed"
    },
    "tags": []
   },
   "source": [
    "# 2. Index genomes"
   ]
  },
  {
   "cell_type": "code",
   "execution_count": 5,
   "id": "4e936f7c-2fcd-4188-b0e6-6b3ceb5cdcd2",
   "metadata": {
    "execution": {
     "iopub.execute_input": "2021-09-09T18:34:11.149553Z",
     "iopub.status.busy": "2021-09-09T18:34:11.149096Z",
     "iopub.status.idle": "2021-09-09T18:34:13.815914Z",
     "shell.execute_reply": "2021-09-09T18:34:13.816785Z"
    },
    "papermill": {
     "duration": 2.681132,
     "end_time": "2021-09-09T18:34:13.817088",
     "exception": false,
     "start_time": "2021-09-09T18:34:11.135956",
     "status": "completed"
    },
    "tags": []
   },
   "outputs": [
    {
     "name": "stdout",
     "output_type": "stream",
     "text": [
      "gdi, version 0.3.0.dev12\r\n"
     ]
    }
   ],
   "source": [
    "!gdi --version"
   ]
  },
  {
   "cell_type": "markdown",
   "id": "5409ecf8-2158-4361-9d2f-6b1a6c7c63a6",
   "metadata": {
    "papermill": {
     "duration": 0.008824,
     "end_time": "2021-09-09T18:34:13.840513",
     "exception": false,
     "start_time": "2021-09-09T18:34:13.831689",
     "status": "completed"
    },
    "tags": []
   },
   "source": [
    "## 2.1. Index reads"
   ]
  },
  {
   "cell_type": "code",
   "execution_count": 6,
   "id": "3d63e861-733e-46f2-8bce-bd1a2c7c7058",
   "metadata": {
    "execution": {
     "iopub.execute_input": "2021-09-09T18:34:13.866048Z",
     "iopub.status.busy": "2021-09-09T18:34:13.865669Z",
     "iopub.status.idle": "2021-09-10T11:15:49.312591Z",
     "shell.execute_reply": "2021-09-10T11:15:49.311538Z"
    },
    "papermill": {
     "duration": 60095.465525,
     "end_time": "2021-09-10T11:15:49.312999",
     "exception": false,
     "start_time": "2021-09-09T18:34:13.847474",
     "status": "completed"
    },
    "tags": []
   },
   "outputs": [
    {
     "name": "stdout",
     "output_type": "stream",
     "text": [
      "\n",
      "Iteration 1 of index/analysis of 500 samples with 32 cores\n",
      "Removing any extra snakemake directories: ['snakemake-assemblies.1631208292.8445542']\n"
     ]
    },
    {
     "name": "stdout",
     "output_type": "stream",
     "text": [
      "Creating new index: [gdi init cases/case-500/index]\n"
     ]
    },
    {
     "name": "stdout",
     "output_type": "stream",
     "text": [
      "Creating a new index took 2.80 seconds\n",
      "Analysis running: [gdi --project-dir cases/case-500/index --ncores 32 analysis --use-conda --no-load-data --reference-file references/NC_045512.gbk.gz --kmer-size 31 --kmer-size 51 --kmer-size 71 --include-kmer --reads-mincov 10 --input-structured-genomes-file cases/case-500/input-files-case.tsv]\n"
     ]
    },
    {
     "name": "stdout",
     "output_type": "stream",
     "text": [
      "Analysis took 4.59 minutes\n",
      "Index running: [gdi --project-dir cases/case-500/index --ncores 32 load vcf-kmer --reference-file references/NC_045512.gbk.gz /home/CSCScience.ca/apetkau/workspace/genomics-data-index-evaluation/evaluations/sars-cov-2/snakemake-assemblies.1631212461.7115388/gdi-input.fofn]\n"
     ]
    },
    {
     "name": "stdout",
     "output_type": "stream",
     "text": [
      "Indexing took 0.62 minutes\n",
      "Building tree: [gdi --project-dir cases/case-500/index --ncores 32 rebuild tree --align-type full --extra-params '--fast -m GTR+F+R4' NC_045512]\n"
     ]
    },
    {
     "name": "stdout",
     "output_type": "stream",
     "text": [
      "Building tree took 352.60 minutes\n"
     ]
    },
    {
     "name": "stderr",
     "output_type": "stream",
     "text": [
      "A reminder to myself to look for a Python solution for directory sizes (instead of running `du`)\n"
     ]
    },
    {
     "name": "stdout",
     "output_type": "stream",
     "text": [
      "\n",
      "Iteration 2 of index/analysis of 500 samples with 32 cores\n",
      "Removing any extra snakemake directories: ['snakemake-assemblies.1631212461.7115388']\n"
     ]
    },
    {
     "name": "stdout",
     "output_type": "stream",
     "text": [
      "Removing any existing indexes cases/case-500/index\n",
      "Creating new index: [gdi init cases/case-500/index]\n"
     ]
    },
    {
     "name": "stdout",
     "output_type": "stream",
     "text": [
      "Creating a new index took 2.81 seconds\n",
      "Analysis running: [gdi --project-dir cases/case-500/index --ncores 32 analysis --use-conda --no-load-data --reference-file references/NC_045512.gbk.gz --kmer-size 31 --kmer-size 51 --kmer-size 71 --include-kmer --reads-mincov 10 --input-structured-genomes-file cases/case-500/input-files-case.tsv]\n"
     ]
    },
    {
     "name": "stdout",
     "output_type": "stream",
     "text": [
      "Analysis took 4.75 minutes\n",
      "Index running: [gdi --project-dir cases/case-500/index --ncores 32 load vcf-kmer --reference-file references/NC_045512.gbk.gz /home/CSCScience.ca/apetkau/workspace/genomics-data-index-evaluation/evaluations/sars-cov-2/snakemake-assemblies.1631233935.6706007/gdi-input.fofn]\n"
     ]
    },
    {
     "name": "stdout",
     "output_type": "stream",
     "text": [
      "Indexing took 0.62 minutes\n",
      "Building tree: [gdi --project-dir cases/case-500/index --ncores 32 rebuild tree --align-type full --extra-params '--fast -m GTR+F+R4' NC_045512]\n"
     ]
    },
    {
     "name": "stdout",
     "output_type": "stream",
     "text": [
      "Building tree took 309.19 minutes\n"
     ]
    },
    {
     "name": "stderr",
     "output_type": "stream",
     "text": [
      "Attempting to set global database_path_translator=<genomics_data_index.storage.model.db.DatabasePathTranslator.DatabasePathTranslator object at 0x7f94bf8bb040> but it is already set\n"
     ]
    },
    {
     "name": "stderr",
     "output_type": "stream",
     "text": [
      "A reminder to myself to look for a Python solution for directory sizes (instead of running `du`)\n"
     ]
    },
    {
     "name": "stdout",
     "output_type": "stream",
     "text": [
      "\n",
      "Iteration 3 of index/analysis of 500 samples with 32 cores\n",
      "Removing any extra snakemake directories: ['snakemake-assemblies.1631233935.6706007']\n"
     ]
    },
    {
     "name": "stdout",
     "output_type": "stream",
     "text": [
      "Removing any existing indexes cases/case-500/index\n",
      "Creating new index: [gdi init cases/case-500/index]\n"
     ]
    },
    {
     "name": "stdout",
     "output_type": "stream",
     "text": [
      "Creating a new index took 3.21 seconds\n",
      "Analysis running: [gdi --project-dir cases/case-500/index --ncores 32 analysis --use-conda --no-load-data --reference-file references/NC_045512.gbk.gz --kmer-size 31 --kmer-size 51 --kmer-size 71 --include-kmer --reads-mincov 10 --input-structured-genomes-file cases/case-500/input-files-case.tsv]\n"
     ]
    },
    {
     "name": "stdout",
     "output_type": "stream",
     "text": [
      "Analysis took 4.80 minutes\n",
      "Index running: [gdi --project-dir cases/case-500/index --ncores 32 load vcf-kmer --reference-file references/NC_045512.gbk.gz /home/CSCScience.ca/apetkau/workspace/genomics-data-index-evaluation/evaluations/sars-cov-2/snakemake-assemblies.1631252814.328321/gdi-input.fofn]\n"
     ]
    },
    {
     "name": "stdout",
     "output_type": "stream",
     "text": [
      "Indexing took 0.61 minutes\n",
      "Building tree: [gdi --project-dir cases/case-500/index --ncores 32 rebuild tree --align-type full --extra-params '--fast -m GTR+F+R4' NC_045512]\n"
     ]
    },
    {
     "name": "stdout",
     "output_type": "stream",
     "text": [
      "Building tree took 323.54 minutes\n"
     ]
    },
    {
     "name": "stderr",
     "output_type": "stream",
     "text": [
      "Attempting to set global database_path_translator=<genomics_data_index.storage.model.db.DatabasePathTranslator.DatabasePathTranslator object at 0x7f9547d76d90> but it is already set\n"
     ]
    },
    {
     "name": "stderr",
     "output_type": "stream",
     "text": [
      "A reminder to myself to look for a Python solution for directory sizes (instead of running `du`)\n"
     ]
    }
   ],
   "source": [
    "results_handler = gdi_benchmark.BenchmarkResultsHandler(name=case_name)\n",
    "benchmarker = gdi_benchmark.IndexBenchmarker(benchmark_results_handler=results_handler,\n",
    "                                             index_path=index_path, input_files_file=cases_input,\n",
    "                                             reference_file=reference_file, mincov=mincov,\n",
    "                                             build_tree=build_tree,\n",
    "                                             ncores=ncores)\n",
    "\n",
    "benchmark_df = benchmarker.benchmark(iterations=iterations)"
   ]
  },
  {
   "cell_type": "code",
   "execution_count": 7,
   "id": "3bcb6da7-0164-47f2-abdd-a4c159da1e3b",
   "metadata": {
    "execution": {
     "iopub.execute_input": "2021-09-10T11:15:49.360937Z",
     "iopub.status.busy": "2021-09-10T11:15:49.360412Z",
     "iopub.status.idle": "2021-09-10T11:15:49.394847Z",
     "shell.execute_reply": "2021-09-10T11:15:49.395779Z"
    },
    "papermill": {
     "duration": 0.060652,
     "end_time": "2021-09-10T11:15:49.396053",
     "exception": false,
     "start_time": "2021-09-10T11:15:49.335401",
     "status": "completed"
    },
    "tags": []
   },
   "outputs": [
    {
     "data": {
      "text/html": [
       "<div>\n",
       "<style scoped>\n",
       "    .dataframe tbody tr th:only-of-type {\n",
       "        vertical-align: middle;\n",
       "    }\n",
       "\n",
       "    .dataframe tbody tr th {\n",
       "        vertical-align: top;\n",
       "    }\n",
       "\n",
       "    .dataframe thead th {\n",
       "        text-align: right;\n",
       "    }\n",
       "</style>\n",
       "<table border=\"1\" class=\"dataframe\">\n",
       "  <thead>\n",
       "    <tr style=\"text-align: right;\">\n",
       "      <th></th>\n",
       "      <th>Name</th>\n",
       "      <th>Iteration</th>\n",
       "      <th>Number samples</th>\n",
       "      <th>Number features (all)</th>\n",
       "      <th>Number features (no unknown)</th>\n",
       "      <th>Number cores</th>\n",
       "      <th>Reference length</th>\n",
       "      <th>Analysis runtime</th>\n",
       "      <th>Analysis memory (max)</th>\n",
       "      <th>Analysis memory (max/process)</th>\n",
       "      <th>Analysis disk uage</th>\n",
       "      <th>Index runtime</th>\n",
       "      <th>Index memory (max)</th>\n",
       "      <th>Index memory (max/process)</th>\n",
       "      <th>Index size</th>\n",
       "      <th>Tree runtime</th>\n",
       "      <th>Tree memory (max)</th>\n",
       "      <th>Tree memory (max/process)</th>\n",
       "      <th>Total runtime</th>\n",
       "      <th>Max memory</th>\n",
       "    </tr>\n",
       "  </thead>\n",
       "  <tbody>\n",
       "    <tr>\n",
       "      <th>0</th>\n",
       "      <td>case-500</td>\n",
       "      <td>1</td>\n",
       "      <td>500</td>\n",
       "      <td>30529</td>\n",
       "      <td>1396</td>\n",
       "      <td>32</td>\n",
       "      <td>29903</td>\n",
       "      <td>275.42</td>\n",
       "      <td>1.327899e+09</td>\n",
       "      <td>379527168.0</td>\n",
       "      <td>3.541881e+09</td>\n",
       "      <td>36.97</td>\n",
       "      <td>6.117863e+09</td>\n",
       "      <td>638693376.0</td>\n",
       "      <td>13262848.0</td>\n",
       "      <td>21123.0</td>\n",
       "      <td>888365056.0</td>\n",
       "      <td>650457088.0</td>\n",
       "      <td>21435.39</td>\n",
       "      <td>6.117863e+09</td>\n",
       "    </tr>\n",
       "    <tr>\n",
       "      <th>0</th>\n",
       "      <td>case-500</td>\n",
       "      <td>2</td>\n",
       "      <td>500</td>\n",
       "      <td>30529</td>\n",
       "      <td>1396</td>\n",
       "      <td>32</td>\n",
       "      <td>29903</td>\n",
       "      <td>284.68</td>\n",
       "      <td>1.253143e+09</td>\n",
       "      <td>371269632.0</td>\n",
       "      <td>3.541860e+09</td>\n",
       "      <td>37.00</td>\n",
       "      <td>6.019080e+09</td>\n",
       "      <td>626896896.0</td>\n",
       "      <td>13258752.0</td>\n",
       "      <td>18540.0</td>\n",
       "      <td>887410688.0</td>\n",
       "      <td>650592256.0</td>\n",
       "      <td>18861.68</td>\n",
       "      <td>6.019080e+09</td>\n",
       "    </tr>\n",
       "    <tr>\n",
       "      <th>0</th>\n",
       "      <td>case-500</td>\n",
       "      <td>3</td>\n",
       "      <td>500</td>\n",
       "      <td>30529</td>\n",
       "      <td>1396</td>\n",
       "      <td>32</td>\n",
       "      <td>29903</td>\n",
       "      <td>287.99</td>\n",
       "      <td>1.366954e+09</td>\n",
       "      <td>374501376.0</td>\n",
       "      <td>3.542491e+09</td>\n",
       "      <td>36.73</td>\n",
       "      <td>6.003589e+09</td>\n",
       "      <td>638357504.0</td>\n",
       "      <td>13262848.0</td>\n",
       "      <td>19383.0</td>\n",
       "      <td>882360320.0</td>\n",
       "      <td>644943872.0</td>\n",
       "      <td>19707.72</td>\n",
       "      <td>6.003589e+09</td>\n",
       "    </tr>\n",
       "  </tbody>\n",
       "</table>\n",
       "</div>"
      ],
      "text/plain": [
       "       Name  Iteration  Number samples  Number features (all)  \\\n",
       "0  case-500          1             500                  30529   \n",
       "0  case-500          2             500                  30529   \n",
       "0  case-500          3             500                  30529   \n",
       "\n",
       "   Number features (no unknown)  Number cores  Reference length  \\\n",
       "0                          1396            32             29903   \n",
       "0                          1396            32             29903   \n",
       "0                          1396            32             29903   \n",
       "\n",
       "   Analysis runtime  Analysis memory (max)  Analysis memory (max/process)  \\\n",
       "0            275.42           1.327899e+09                    379527168.0   \n",
       "0            284.68           1.253143e+09                    371269632.0   \n",
       "0            287.99           1.366954e+09                    374501376.0   \n",
       "\n",
       "   Analysis disk uage  Index runtime  Index memory (max)  \\\n",
       "0        3.541881e+09          36.97        6.117863e+09   \n",
       "0        3.541860e+09          37.00        6.019080e+09   \n",
       "0        3.542491e+09          36.73        6.003589e+09   \n",
       "\n",
       "   Index memory (max/process)  Index size  Tree runtime  Tree memory (max)  \\\n",
       "0                 638693376.0  13262848.0       21123.0        888365056.0   \n",
       "0                 626896896.0  13258752.0       18540.0        887410688.0   \n",
       "0                 638357504.0  13262848.0       19383.0        882360320.0   \n",
       "\n",
       "   Tree memory (max/process)  Total runtime    Max memory  \n",
       "0                650457088.0       21435.39  6.117863e+09  \n",
       "0                650592256.0       18861.68  6.019080e+09  \n",
       "0                644943872.0       19707.72  6.003589e+09  "
      ]
     },
     "execution_count": 7,
     "metadata": {},
     "output_type": "execute_result"
    }
   ],
   "source": [
    "benchmark_df"
   ]
  },
  {
   "cell_type": "code",
   "execution_count": 8,
   "id": "535a9ccc-ab9c-4919-806f-128e1efd2389",
   "metadata": {
    "execution": {
     "iopub.execute_input": "2021-09-10T11:15:49.438263Z",
     "iopub.status.busy": "2021-09-10T11:15:49.436252Z",
     "iopub.status.idle": "2021-09-10T11:15:49.442007Z",
     "shell.execute_reply": "2021-09-10T11:15:49.441574Z"
    },
    "papermill": {
     "duration": 0.023244,
     "end_time": "2021-09-10T11:15:49.442125",
     "exception": false,
     "start_time": "2021-09-10T11:15:49.418881",
     "status": "completed"
    },
    "tags": []
   },
   "outputs": [],
   "source": [
    "benchmark_df.to_csv(benchmark_path, sep='\\t', index=False)"
   ]
  },
  {
   "cell_type": "markdown",
   "id": "6cb7673b-9f85-4c43-b2e2-93538497a196",
   "metadata": {
    "papermill": {
     "duration": 0.011089,
     "end_time": "2021-09-10T11:15:49.466936",
     "exception": false,
     "start_time": "2021-09-10T11:15:49.455847",
     "status": "completed"
    },
    "tags": []
   },
   "source": [
    "# 3. Export trees"
   ]
  },
  {
   "cell_type": "code",
   "execution_count": 9,
   "id": "5280f82c-5434-4391-8c44-b937a7c95bd5",
   "metadata": {
    "execution": {
     "iopub.execute_input": "2021-09-10T11:15:49.509504Z",
     "iopub.status.busy": "2021-09-10T11:15:49.508956Z",
     "iopub.status.idle": "2021-09-10T11:15:53.491663Z",
     "shell.execute_reply": "2021-09-10T11:15:53.492518Z"
    },
    "papermill": {
     "duration": 4.015427,
     "end_time": "2021-09-10T11:15:53.492830",
     "exception": false,
     "start_time": "2021-09-10T11:15:49.477403",
     "status": "completed"
    },
    "tags": []
   },
   "outputs": [
    {
     "name": "stdout",
     "output_type": "stream",
     "text": [
      "Wrote tree to cases/case-500/tree.tre\n"
     ]
    }
   ],
   "source": [
    "if build_tree:\n",
    "    !gdi --project-dir {index_path} export tree {reference_name} > {output_tree}\n",
    "    print(f'Wrote tree to {output_tree}')\n",
    "else:\n",
    "    print(f'build_tree={build_tree} so no tree to export')"
   ]
  }
 ],
 "metadata": {
  "kernelspec": {
   "display_name": "Python 3 (ipykernel)",
   "language": "python",
   "name": "python3"
  },
  "language_info": {
   "codemirror_mode": {
    "name": "ipython",
    "version": 3
   },
   "file_extension": ".py",
   "mimetype": "text/x-python",
   "name": "python",
   "nbconvert_exporter": "python",
   "pygments_lexer": "ipython3",
   "version": "3.8.10"
  },
  "papermill": {
   "default_parameters": {},
   "duration": 60106.556842,
   "end_time": "2021-09-10T11:15:54.029118",
   "environment_variables": {},
   "exception": null,
   "input_path": "template-3-index-genomes.ipynb",
   "output_path": "3-index-genomes.case-500.ipynb",
   "parameters": {
    "build_tree": true,
    "cases_dir": "cases/case-500",
    "iterations": 3,
    "number_samples": 500
   },
   "start_time": "2021-09-09T18:34:07.472276",
   "version": "2.3.3"
  }
 },
 "nbformat": 4,
 "nbformat_minor": 5
}