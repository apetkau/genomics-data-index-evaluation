{
 "cells": [
  {
   "cell_type": "markdown",
   "id": "7d3667b4-b1f8-4347-96e3-830c25b06740",
   "metadata": {
    "papermill": {
     "duration": 0.016659,
     "end_time": "2022-03-11T12:33:26.192373",
     "exception": false,
     "start_time": "2022-03-11T12:33:26.175714",
     "status": "completed"
    },
    "tags": []
   },
   "source": [
    "# 1. Parameters"
   ]
  },
  {
   "cell_type": "code",
   "execution_count": 1,
   "id": "d4ab0749-b286-4c34-b63c-a854e4952bae",
   "metadata": {
    "execution": {
     "iopub.execute_input": "2022-03-11T12:33:26.222953Z",
     "iopub.status.busy": "2022-03-11T12:33:26.222477Z",
     "iopub.status.idle": "2022-03-11T12:33:26.227775Z",
     "shell.execute_reply": "2022-03-11T12:33:26.227159Z"
    },
    "papermill": {
     "duration": 0.025841,
     "end_time": "2022-03-11T12:33:26.227914",
     "exception": false,
     "start_time": "2022-03-11T12:33:26.202073",
     "status": "completed"
    },
    "tags": [
     "parameters"
    ]
   },
   "outputs": [],
   "source": [
    "# Defaults\n",
    "cases_dir = 'cases/unset'\n",
    "reference_file = 'references/NC_045512.gbk.gz'\n",
    "input_files_all = 'input/input-files.tsv'\n",
    "iterations = 3\n",
    "mincov = 10\n",
    "ncores = 32\n",
    "number_samples = 10\n",
    "build_tree = False\n",
    "sample_batch_size=2000"
   ]
  },
  {
   "cell_type": "code",
   "execution_count": 2,
   "id": "5f320ea3",
   "metadata": {
    "execution": {
     "iopub.execute_input": "2022-03-11T12:33:26.249610Z",
     "iopub.status.busy": "2022-03-11T12:33:26.249180Z",
     "iopub.status.idle": "2022-03-11T12:33:26.252077Z",
     "shell.execute_reply": "2022-03-11T12:33:26.252417Z"
    },
    "papermill": {
     "duration": 0.01615,
     "end_time": "2022-03-11T12:33:26.252535",
     "exception": false,
     "start_time": "2022-03-11T12:33:26.236385",
     "status": "completed"
    },
    "tags": [
     "injected-parameters"
    ]
   },
   "outputs": [],
   "source": [
    "# Parameters\n",
    "cases_dir = \"cases/case-500\"\n",
    "iterations = 3\n",
    "number_samples = 500\n",
    "build_tree = True\n"
   ]
  },
  {
   "cell_type": "code",
   "execution_count": 3,
   "id": "ce5962e4-261c-4210-b39b-47044e28466b",
   "metadata": {
    "execution": {
     "iopub.execute_input": "2022-03-11T12:33:26.277113Z",
     "iopub.status.busy": "2022-03-11T12:33:26.276551Z",
     "iopub.status.idle": "2022-03-11T12:33:28.703957Z",
     "shell.execute_reply": "2022-03-11T12:33:28.702936Z"
    },
    "papermill": {
     "duration": 2.444239,
     "end_time": "2022-03-11T12:33:28.704205",
     "exception": false,
     "start_time": "2022-03-11T12:33:26.259966",
     "status": "completed"
    },
    "tags": []
   },
   "outputs": [],
   "source": [
    "from pathlib import Path\n",
    "from shutil import rmtree\n",
    "from os import makedirs\n",
    "import imp\n",
    "fp, pathname, description = imp.find_module('gdi_benchmark', ['../../lib'])\n",
    "gdi_benchmark = imp.load_module('gdi_benchmark', fp, pathname, description)\n",
    "\n",
    "cases_dir_path = Path(cases_dir)\n",
    "\n",
    "if cases_dir_path.exists():\n",
    "    rmtree(cases_dir_path)\n",
    "    \n",
    "if not cases_dir_path.exists():\n",
    "    makedirs(cases_dir_path)\n",
    "\n",
    "input_files_all = Path(input_files_all)\n",
    "reference_file = Path(reference_file)\n",
    "\n",
    "case_name = str(cases_dir_path.name)\n",
    "reference_name = reference_file.name.split('.')[0]\n",
    "\n",
    "cases_input = cases_dir_path / 'input-files-case.tsv'\n",
    "index_path = cases_dir_path / 'index'\n",
    "benchmark_path = cases_dir_path / 'index-info.tsv'\n",
    "output_tree = cases_dir_path / 'tree.tre'"
   ]
  },
  {
   "cell_type": "markdown",
   "id": "1673d80f-b52a-4b68-b400-355540495e15",
   "metadata": {
    "papermill": {
     "duration": 0.008399,
     "end_time": "2022-03-11T12:33:28.726286",
     "exception": false,
     "start_time": "2022-03-11T12:33:28.717887",
     "status": "completed"
    },
    "tags": []
   },
   "source": [
    "# 2. Create subset input"
   ]
  },
  {
   "cell_type": "code",
   "execution_count": 4,
   "id": "4e66adb1-3ef7-45d1-8e46-723dcb9d0c31",
   "metadata": {
    "execution": {
     "iopub.execute_input": "2022-03-11T12:33:28.747053Z",
     "iopub.status.busy": "2022-03-11T12:33:28.746655Z",
     "iopub.status.idle": "2022-03-11T12:33:28.970791Z",
     "shell.execute_reply": "2022-03-11T12:33:28.971693Z"
    },
    "papermill": {
     "duration": 0.238907,
     "end_time": "2022-03-11T12:33:28.971988",
     "exception": false,
     "start_time": "2022-03-11T12:33:28.733081",
     "status": "completed"
    },
    "tags": []
   },
   "outputs": [
    {
     "name": "stdout",
     "output_type": "stream",
     "text": [
      "Wrote 500/100000 samples to cases/case-500/input-files-case.tsv\n"
     ]
    }
   ],
   "source": [
    "import pandas as pd\n",
    "\n",
    "all_input_df = pd.read_csv(input_files_all, sep='\\t')\n",
    "all_input_total = len(all_input_df)\n",
    "\n",
    "subset_input_df = all_input_df.head(number_samples)\n",
    "subset_input_total = len(subset_input_df)\n",
    "\n",
    "subset_input_df.to_csv(cases_input, sep='\\t', index=False)\n",
    "\n",
    "print(f'Wrote {subset_input_total}/{all_input_total} samples to {cases_input}')"
   ]
  },
  {
   "cell_type": "markdown",
   "id": "f208279e-7558-47fc-9362-da29df92828a",
   "metadata": {
    "papermill": {
     "duration": 0.009258,
     "end_time": "2022-03-11T12:33:28.996807",
     "exception": false,
     "start_time": "2022-03-11T12:33:28.987549",
     "status": "completed"
    },
    "tags": []
   },
   "source": [
    "# 2. Index genomes"
   ]
  },
  {
   "cell_type": "code",
   "execution_count": 5,
   "id": "4e936f7c-2fcd-4188-b0e6-6b3ceb5cdcd2",
   "metadata": {
    "execution": {
     "iopub.execute_input": "2022-03-11T12:33:29.015239Z",
     "iopub.status.busy": "2022-03-11T12:33:29.014839Z",
     "iopub.status.idle": "2022-03-11T12:33:31.826894Z",
     "shell.execute_reply": "2022-03-11T12:33:31.827845Z"
    },
    "papermill": {
     "duration": 2.824375,
     "end_time": "2022-03-11T12:33:31.828151",
     "exception": false,
     "start_time": "2022-03-11T12:33:29.003776",
     "status": "completed"
    },
    "tags": []
   },
   "outputs": [
    {
     "name": "stdout",
     "output_type": "stream",
     "text": [
      "gdi, version 0.6.0.dev2\r\n"
     ]
    }
   ],
   "source": [
    "!gdi --version"
   ]
  },
  {
   "cell_type": "markdown",
   "id": "5409ecf8-2158-4361-9d2f-6b1a6c7c63a6",
   "metadata": {
    "papermill": {
     "duration": 0.010116,
     "end_time": "2022-03-11T12:33:31.854919",
     "exception": false,
     "start_time": "2022-03-11T12:33:31.844803",
     "status": "completed"
    },
    "tags": []
   },
   "source": [
    "## 2.1. Index reads"
   ]
  },
  {
   "cell_type": "code",
   "execution_count": 6,
   "id": "3d63e861-733e-46f2-8bce-bd1a2c7c7058",
   "metadata": {
    "execution": {
     "iopub.execute_input": "2022-03-11T12:33:31.879243Z",
     "iopub.status.busy": "2022-03-11T12:33:31.878779Z",
     "iopub.status.idle": "2022-03-12T04:36:44.453105Z",
     "shell.execute_reply": "2022-03-12T04:36:44.452108Z"
    },
    "papermill": {
     "duration": 57792.591485,
     "end_time": "2022-03-12T04:36:44.453366",
     "exception": false,
     "start_time": "2022-03-11T12:33:31.861881",
     "status": "completed"
    },
    "tags": []
   },
   "outputs": [
    {
     "name": "stdout",
     "output_type": "stream",
     "text": [
      "\n",
      "Iteration 1 of index/analysis of 500 samples with 32 cores\n",
      "Removing any extra snakemake directories: ['snakemake-assemblies.1646998890.2827504']\n"
     ]
    },
    {
     "name": "stdout",
     "output_type": "stream",
     "text": [
      "Creating new index: [gdi init cases/case-500/index]\n"
     ]
    },
    {
     "name": "stdout",
     "output_type": "stream",
     "text": [
      "Creating a new index took 2.91 seconds\n",
      "Analysis running: [gdi --project-dir cases/case-500/index --ncores 32 analysis --use-conda --no-load-data --reference-file references/NC_045512.gbk.gz --kmer-size 31 --kmer-size 51 --kmer-size 71 --include-kmer --reads-mincov 10 --input-structured-genomes-file cases/case-500/input-files-case.tsv]\n"
     ]
    },
    {
     "name": "stdout",
     "output_type": "stream",
     "text": [
      "Analysis took 4.88 minutes\n",
      "Index running: [gdi --project-dir cases/case-500/index --ncores 32 load vcf-kmer --sample-batch-size 2000 --reference-file references/NC_045512.gbk.gz /home/CSCScience.ca/apetkau/workspace/genomics-data-index-evaluation/evaluations/sars-cov-2/snakemake-assemblies.1647002019.6614282/gdi-input.fofn]\n"
     ]
    },
    {
     "name": "stdout",
     "output_type": "stream",
     "text": [
      "Indexing took 0.61 minutes\n",
      "Building tree: [gdi --project-dir cases/case-500/index --ncores 32 rebuild tree --align-type full --extra-params '--fast -m GTR+F+R4' NC_045512]\n"
     ]
    },
    {
     "name": "stdout",
     "output_type": "stream",
     "text": [
      "Building tree took 311.08 minutes\n"
     ]
    },
    {
     "name": "stderr",
     "output_type": "stream",
     "text": [
      "A reminder to myself to look for a Python solution for directory sizes (instead of running `du`)\n"
     ]
    },
    {
     "name": "stdout",
     "output_type": "stream",
     "text": [
      "\n",
      "Iteration 2 of index/analysis of 500 samples with 32 cores\n",
      "Removing any extra snakemake directories: ['snakemake-assemblies.1647002019.6614282']\n"
     ]
    },
    {
     "name": "stdout",
     "output_type": "stream",
     "text": [
      "Removing any existing indexes cases/case-500/index\n",
      "Creating new index: [gdi init cases/case-500/index]\n"
     ]
    },
    {
     "name": "stdout",
     "output_type": "stream",
     "text": [
      "Creating a new index took 2.74 seconds\n",
      "Analysis running: [gdi --project-dir cases/case-500/index --ncores 32 analysis --use-conda --no-load-data --reference-file references/NC_045512.gbk.gz --kmer-size 31 --kmer-size 51 --kmer-size 71 --include-kmer --reads-mincov 10 --input-structured-genomes-file cases/case-500/input-files-case.tsv]\n"
     ]
    },
    {
     "name": "stdout",
     "output_type": "stream",
     "text": [
      "Analysis took 4.99 minutes\n",
      "Index running: [gdi --project-dir cases/case-500/index --ncores 32 load vcf-kmer --sample-batch-size 2000 --reference-file references/NC_045512.gbk.gz /home/CSCScience.ca/apetkau/workspace/genomics-data-index-evaluation/evaluations/sars-cov-2/snakemake-assemblies.1647021019.217095/gdi-input.fofn]\n"
     ]
    },
    {
     "name": "stdout",
     "output_type": "stream",
     "text": [
      "Indexing took 0.59 minutes\n",
      "Building tree: [gdi --project-dir cases/case-500/index --ncores 32 rebuild tree --align-type full --extra-params '--fast -m GTR+F+R4' NC_045512]\n"
     ]
    },
    {
     "name": "stdout",
     "output_type": "stream",
     "text": [
      "Building tree took 293.24 minutes\n"
     ]
    },
    {
     "name": "stderr",
     "output_type": "stream",
     "text": [
      "Attempting to set global database_path_translator=<genomics_data_index.storage.model.db.DatabasePathTranslator.DatabasePathTranslator object at 0x7fec60abddf0> but it is already set\n"
     ]
    },
    {
     "name": "stderr",
     "output_type": "stream",
     "text": [
      "A reminder to myself to look for a Python solution for directory sizes (instead of running `du`)\n"
     ]
    },
    {
     "name": "stdout",
     "output_type": "stream",
     "text": [
      "\n",
      "Iteration 3 of index/analysis of 500 samples with 32 cores\n",
      "Removing any extra snakemake directories: ['snakemake-assemblies.1647021019.217095']\n"
     ]
    },
    {
     "name": "stdout",
     "output_type": "stream",
     "text": [
      "Removing any existing indexes cases/case-500/index\n",
      "Creating new index: [gdi init cases/case-500/index]\n"
     ]
    },
    {
     "name": "stdout",
     "output_type": "stream",
     "text": [
      "Creating a new index took 2.58 seconds\n",
      "Analysis running: [gdi --project-dir cases/case-500/index --ncores 32 analysis --use-conda --no-load-data --reference-file references/NC_045512.gbk.gz --kmer-size 31 --kmer-size 51 --kmer-size 71 --include-kmer --reads-mincov 10 --input-structured-genomes-file cases/case-500/input-files-case.tsv]\n"
     ]
    },
    {
     "name": "stdout",
     "output_type": "stream",
     "text": [
      "Analysis took 4.89 minutes\n",
      "Index running: [gdi --project-dir cases/case-500/index --ncores 32 load vcf-kmer --sample-batch-size 2000 --reference-file references/NC_045512.gbk.gz /home/CSCScience.ca/apetkau/workspace/genomics-data-index-evaluation/evaluations/sars-cov-2/snakemake-assemblies.1647038953.3121977/gdi-input.fofn]\n"
     ]
    },
    {
     "name": "stdout",
     "output_type": "stream",
     "text": [
      "Indexing took 0.61 minutes\n",
      "Building tree: [gdi --project-dir cases/case-500/index --ncores 32 rebuild tree --align-type full --extra-params '--fast -m GTR+F+R4' NC_045512]\n"
     ]
    },
    {
     "name": "stdout",
     "output_type": "stream",
     "text": [
      "Building tree took 342.06 minutes\n"
     ]
    },
    {
     "name": "stderr",
     "output_type": "stream",
     "text": [
      "Attempting to set global database_path_translator=<genomics_data_index.storage.model.db.DatabasePathTranslator.DatabasePathTranslator object at 0x7fec60b7d3a0> but it is already set\n"
     ]
    },
    {
     "name": "stderr",
     "output_type": "stream",
     "text": [
      "A reminder to myself to look for a Python solution for directory sizes (instead of running `du`)\n"
     ]
    }
   ],
   "source": [
    "results_handler = gdi_benchmark.BenchmarkResultsHandler(name=case_name)\n",
    "benchmarker = gdi_benchmark.IndexBenchmarker(benchmark_results_handler=results_handler,\n",
    "                                             index_path=index_path, input_files_file=cases_input,\n",
    "                                             reference_file=reference_file, mincov=mincov,\n",
    "                                             build_tree=build_tree,\n",
    "                                             ncores=ncores,\n",
    "                                             sample_batch_size=sample_batch_size)\n",
    "\n",
    "benchmark_df = benchmarker.benchmark(iterations=iterations)"
   ]
  },
  {
   "cell_type": "code",
   "execution_count": 7,
   "id": "3bcb6da7-0164-47f2-abdd-a4c159da1e3b",
   "metadata": {
    "execution": {
     "iopub.execute_input": "2022-03-12T04:36:44.516606Z",
     "iopub.status.busy": "2022-03-12T04:36:44.503411Z",
     "iopub.status.idle": "2022-03-12T04:36:44.528435Z",
     "shell.execute_reply": "2022-03-12T04:36:44.529213Z"
    },
    "papermill": {
     "duration": 0.054092,
     "end_time": "2022-03-12T04:36:44.529437",
     "exception": false,
     "start_time": "2022-03-12T04:36:44.475345",
     "status": "completed"
    },
    "tags": []
   },
   "outputs": [
    {
     "data": {
      "text/html": [
       "<div>\n",
       "<style scoped>\n",
       "    .dataframe tbody tr th:only-of-type {\n",
       "        vertical-align: middle;\n",
       "    }\n",
       "\n",
       "    .dataframe tbody tr th {\n",
       "        vertical-align: top;\n",
       "    }\n",
       "\n",
       "    .dataframe thead th {\n",
       "        text-align: right;\n",
       "    }\n",
       "</style>\n",
       "<table border=\"1\" class=\"dataframe\">\n",
       "  <thead>\n",
       "    <tr style=\"text-align: right;\">\n",
       "      <th></th>\n",
       "      <th>Name</th>\n",
       "      <th>Reference name</th>\n",
       "      <th>Iteration</th>\n",
       "      <th>Number samples</th>\n",
       "      <th>Number features (all)</th>\n",
       "      <th>Number features (no unknown)</th>\n",
       "      <th>Number cores</th>\n",
       "      <th>Reference length</th>\n",
       "      <th>Analysis runtime</th>\n",
       "      <th>Analysis memory (max)</th>\n",
       "      <th>...</th>\n",
       "      <th>Analysis disk uage</th>\n",
       "      <th>Index runtime</th>\n",
       "      <th>Index memory (max)</th>\n",
       "      <th>Index memory (max/process)</th>\n",
       "      <th>Index size</th>\n",
       "      <th>Tree runtime</th>\n",
       "      <th>Tree memory (max)</th>\n",
       "      <th>Tree memory (max/process)</th>\n",
       "      <th>Total runtime</th>\n",
       "      <th>Max memory</th>\n",
       "    </tr>\n",
       "  </thead>\n",
       "  <tbody>\n",
       "    <tr>\n",
       "      <th>0</th>\n",
       "      <td>case-500</td>\n",
       "      <td>NC_045512</td>\n",
       "      <td>1</td>\n",
       "      <td>500</td>\n",
       "      <td>30534</td>\n",
       "      <td>1401</td>\n",
       "      <td>32</td>\n",
       "      <td>29903</td>\n",
       "      <td>292.66</td>\n",
       "      <td>2.424418e+09</td>\n",
       "      <td>...</td>\n",
       "      <td>3.778703e+09</td>\n",
       "      <td>36.42</td>\n",
       "      <td>6.039982e+09</td>\n",
       "      <td>646193152.0</td>\n",
       "      <td>13283328.0</td>\n",
       "      <td>18660.0</td>\n",
       "      <td>881786880.0</td>\n",
       "      <td>643002368.0</td>\n",
       "      <td>18989.08</td>\n",
       "      <td>6.039982e+09</td>\n",
       "    </tr>\n",
       "    <tr>\n",
       "      <th>0</th>\n",
       "      <td>case-500</td>\n",
       "      <td>NC_045512</td>\n",
       "      <td>2</td>\n",
       "      <td>500</td>\n",
       "      <td>30534</td>\n",
       "      <td>1401</td>\n",
       "      <td>32</td>\n",
       "      <td>29903</td>\n",
       "      <td>298.99</td>\n",
       "      <td>1.489646e+09</td>\n",
       "      <td>...</td>\n",
       "      <td>3.778687e+09</td>\n",
       "      <td>35.09</td>\n",
       "      <td>6.051709e+09</td>\n",
       "      <td>627265536.0</td>\n",
       "      <td>13291520.0</td>\n",
       "      <td>17581.0</td>\n",
       "      <td>886714368.0</td>\n",
       "      <td>648040448.0</td>\n",
       "      <td>17915.08</td>\n",
       "      <td>6.051709e+09</td>\n",
       "    </tr>\n",
       "    <tr>\n",
       "      <th>0</th>\n",
       "      <td>case-500</td>\n",
       "      <td>NC_045512</td>\n",
       "      <td>3</td>\n",
       "      <td>500</td>\n",
       "      <td>30534</td>\n",
       "      <td>1401</td>\n",
       "      <td>32</td>\n",
       "      <td>29903</td>\n",
       "      <td>293.25</td>\n",
       "      <td>2.221896e+09</td>\n",
       "      <td>...</td>\n",
       "      <td>3.778957e+09</td>\n",
       "      <td>36.23</td>\n",
       "      <td>6.048473e+09</td>\n",
       "      <td>640794624.0</td>\n",
       "      <td>13275136.0</td>\n",
       "      <td>20520.0</td>\n",
       "      <td>886841344.0</td>\n",
       "      <td>647946240.0</td>\n",
       "      <td>20849.48</td>\n",
       "      <td>6.048473e+09</td>\n",
       "    </tr>\n",
       "  </tbody>\n",
       "</table>\n",
       "<p>3 rows × 21 columns</p>\n",
       "</div>"
      ],
      "text/plain": [
       "       Name Reference name  Iteration  Number samples  Number features (all)  \\\n",
       "0  case-500      NC_045512          1             500                  30534   \n",
       "0  case-500      NC_045512          2             500                  30534   \n",
       "0  case-500      NC_045512          3             500                  30534   \n",
       "\n",
       "   Number features (no unknown)  Number cores  Reference length  \\\n",
       "0                          1401            32             29903   \n",
       "0                          1401            32             29903   \n",
       "0                          1401            32             29903   \n",
       "\n",
       "   Analysis runtime  Analysis memory (max)  ...  Analysis disk uage  \\\n",
       "0            292.66           2.424418e+09  ...        3.778703e+09   \n",
       "0            298.99           1.489646e+09  ...        3.778687e+09   \n",
       "0            293.25           2.221896e+09  ...        3.778957e+09   \n",
       "\n",
       "   Index runtime  Index memory (max)  Index memory (max/process)  Index size  \\\n",
       "0          36.42        6.039982e+09                 646193152.0  13283328.0   \n",
       "0          35.09        6.051709e+09                 627265536.0  13291520.0   \n",
       "0          36.23        6.048473e+09                 640794624.0  13275136.0   \n",
       "\n",
       "   Tree runtime  Tree memory (max)  Tree memory (max/process)  Total runtime  \\\n",
       "0       18660.0        881786880.0                643002368.0       18989.08   \n",
       "0       17581.0        886714368.0                648040448.0       17915.08   \n",
       "0       20520.0        886841344.0                647946240.0       20849.48   \n",
       "\n",
       "     Max memory  \n",
       "0  6.039982e+09  \n",
       "0  6.051709e+09  \n",
       "0  6.048473e+09  \n",
       "\n",
       "[3 rows x 21 columns]"
      ]
     },
     "execution_count": 7,
     "metadata": {},
     "output_type": "execute_result"
    }
   ],
   "source": [
    "benchmark_df"
   ]
  },
  {
   "cell_type": "code",
   "execution_count": 8,
   "id": "535a9ccc-ab9c-4919-806f-128e1efd2389",
   "metadata": {
    "execution": {
     "iopub.execute_input": "2022-03-12T04:36:44.570280Z",
     "iopub.status.busy": "2022-03-12T04:36:44.569881Z",
     "iopub.status.idle": "2022-03-12T04:36:44.573853Z",
     "shell.execute_reply": "2022-03-12T04:36:44.574197Z"
    },
    "papermill": {
     "duration": 0.022024,
     "end_time": "2022-03-12T04:36:44.574314",
     "exception": false,
     "start_time": "2022-03-12T04:36:44.552290",
     "status": "completed"
    },
    "tags": []
   },
   "outputs": [],
   "source": [
    "benchmark_df.to_csv(benchmark_path, sep='\\t', index=False)"
   ]
  },
  {
   "cell_type": "markdown",
   "id": "6cb7673b-9f85-4c43-b2e2-93538497a196",
   "metadata": {
    "papermill": {
     "duration": 0.010831,
     "end_time": "2022-03-12T04:36:44.597196",
     "exception": false,
     "start_time": "2022-03-12T04:36:44.586365",
     "status": "completed"
    },
    "tags": []
   },
   "source": [
    "# 3. Export trees"
   ]
  },
  {
   "cell_type": "code",
   "execution_count": 9,
   "id": "5280f82c-5434-4391-8c44-b937a7c95bd5",
   "metadata": {
    "execution": {
     "iopub.execute_input": "2022-03-12T04:36:44.635597Z",
     "iopub.status.busy": "2022-03-12T04:36:44.626002Z",
     "iopub.status.idle": "2022-03-12T04:36:47.483070Z",
     "shell.execute_reply": "2022-03-12T04:36:47.483925Z"
    },
    "papermill": {
     "duration": 2.876364,
     "end_time": "2022-03-12T04:36:47.484230",
     "exception": false,
     "start_time": "2022-03-12T04:36:44.607866",
     "status": "completed"
    },
    "tags": []
   },
   "outputs": [
    {
     "name": "stdout",
     "output_type": "stream",
     "text": [
      "Wrote tree to cases/case-500/tree.tre\n"
     ]
    }
   ],
   "source": [
    "if build_tree:\n",
    "    !gdi --project-dir {index_path} export tree {reference_name} > {output_tree}\n",
    "    print(f'Wrote tree to {output_tree}')\n",
    "else:\n",
    "    print(f'build_tree={build_tree} so no tree to export')"
   ]
  }
 ],
 "metadata": {
  "kernelspec": {
   "display_name": "Python 3 (ipykernel)",
   "language": "python",
   "name": "python3"
  },
  "language_info": {
   "codemirror_mode": {
    "name": "ipython",
    "version": 3
   },
   "file_extension": ".py",
   "mimetype": "text/x-python",
   "name": "python",
   "nbconvert_exporter": "python",
   "pygments_lexer": "ipython3",
   "version": "3.8.12"
  },
  "papermill": {
   "default_parameters": {},
   "duration": 57803.277234,
   "end_time": "2022-03-12T04:36:48.091671",
   "environment_variables": {},
   "exception": null,
   "input_path": "template-3-index-genomes.ipynb",
   "output_path": "3-index-genomes.case-500.ipynb",
   "parameters": {
    "build_tree": true,
    "cases_dir": "cases/case-500",
    "iterations": 3,
    "number_samples": 500
   },
   "start_time": "2022-03-11T12:33:24.814437",
   "version": "2.3.3"
  }
 },
 "nbformat": 4,
 "nbformat_minor": 5
}