{
 "cells": [
  {
   "cell_type": "markdown",
   "id": "7d3667b4-b1f8-4347-96e3-830c25b06740",
   "metadata": {
    "papermill": {
     "duration": 0.016535,
     "end_time": "2021-09-07T21:51:06.596010",
     "exception": false,
     "start_time": "2021-09-07T21:51:06.579475",
     "status": "completed"
    },
    "tags": []
   },
   "source": [
    "# 1. Parameters"
   ]
  },
  {
   "cell_type": "code",
   "execution_count": 1,
   "id": "d4ab0749-b286-4c34-b63c-a854e4952bae",
   "metadata": {
    "execution": {
     "iopub.execute_input": "2021-09-07T21:51:06.626802Z",
     "iopub.status.busy": "2021-09-07T21:51:06.626246Z",
     "iopub.status.idle": "2021-09-07T21:51:06.631919Z",
     "shell.execute_reply": "2021-09-07T21:51:06.631369Z"
    },
    "papermill": {
     "duration": 0.026191,
     "end_time": "2021-09-07T21:51:06.632044",
     "exception": false,
     "start_time": "2021-09-07T21:51:06.605853",
     "status": "completed"
    },
    "tags": [
     "parameters"
    ]
   },
   "outputs": [],
   "source": [
    "# Defaults\n",
    "cases_dir = 'cases/unset'\n",
    "reference_file = 'references/NC_045512.gbk.gz'\n",
    "input_files_all = 'input/input-files.tsv'\n",
    "iterations = 3\n",
    "mincov = 10\n",
    "ncores = 32\n",
    "number_samples = 10"
   ]
  },
  {
   "cell_type": "code",
   "execution_count": 2,
   "id": "b4f17c04",
   "metadata": {
    "execution": {
     "iopub.execute_input": "2021-09-07T21:51:06.653129Z",
     "iopub.status.busy": "2021-09-07T21:51:06.652694Z",
     "iopub.status.idle": "2021-09-07T21:51:06.656098Z",
     "shell.execute_reply": "2021-09-07T21:51:06.655636Z"
    },
    "papermill": {
     "duration": 0.015835,
     "end_time": "2021-09-07T21:51:06.656223",
     "exception": false,
     "start_time": "2021-09-07T21:51:06.640388",
     "status": "completed"
    },
    "tags": [
     "injected-parameters"
    ]
   },
   "outputs": [],
   "source": [
    "# Parameters\n",
    "cases_dir = \"cases/case-500\"\n",
    "iterations = 3\n",
    "number_samples = 500\n"
   ]
  },
  {
   "cell_type": "code",
   "execution_count": 3,
   "id": "ce5962e4-261c-4210-b39b-47044e28466b",
   "metadata": {
    "execution": {
     "iopub.execute_input": "2021-09-07T21:51:06.680996Z",
     "iopub.status.busy": "2021-09-07T21:51:06.680493Z",
     "iopub.status.idle": "2021-09-07T21:51:09.009850Z",
     "shell.execute_reply": "2021-09-07T21:51:09.010709Z"
    },
    "papermill": {
     "duration": 2.34666,
     "end_time": "2021-09-07T21:51:09.010998",
     "exception": false,
     "start_time": "2021-09-07T21:51:06.664338",
     "status": "completed"
    },
    "tags": []
   },
   "outputs": [],
   "source": [
    "from pathlib import Path\n",
    "from shutil import rmtree\n",
    "from os import makedirs\n",
    "import imp\n",
    "fp, pathname, description = imp.find_module('gdi_benchmark', ['../../lib'])\n",
    "gdi_benchmark = imp.load_module('gdi_benchmark', fp, pathname, description)\n",
    "\n",
    "cases_dir_path = Path(cases_dir)\n",
    "\n",
    "if cases_dir_path.exists():\n",
    "    rmtree(cases_dir_path)\n",
    "    \n",
    "if not cases_dir_path.exists():\n",
    "    makedirs(cases_dir_path)\n",
    "\n",
    "input_files_all = Path(input_files_all)\n",
    "reference_file = Path(reference_file)\n",
    "\n",
    "case_name = str(cases_dir_path.name)\n",
    "reference_name = reference_file.name.split('.')[0]\n",
    "\n",
    "cases_input = cases_dir_path / 'input-files-case.tsv'\n",
    "index_path = cases_dir_path / 'index'\n",
    "benchmark_path = cases_dir_path / 'index-info.tsv'\n",
    "output_tree = cases_dir_path / 'tree.tre'"
   ]
  },
  {
   "cell_type": "markdown",
   "id": "1673d80f-b52a-4b68-b400-355540495e15",
   "metadata": {
    "papermill": {
     "duration": 0.009781,
     "end_time": "2021-09-07T21:51:09.035387",
     "exception": false,
     "start_time": "2021-09-07T21:51:09.025606",
     "status": "completed"
    },
    "tags": []
   },
   "source": [
    "# 2. Create subset input"
   ]
  },
  {
   "cell_type": "code",
   "execution_count": 4,
   "id": "4e66adb1-3ef7-45d1-8e46-723dcb9d0c31",
   "metadata": {
    "execution": {
     "iopub.execute_input": "2021-09-07T21:51:09.056803Z",
     "iopub.status.busy": "2021-09-07T21:51:09.056380Z",
     "iopub.status.idle": "2021-09-07T21:51:09.099833Z",
     "shell.execute_reply": "2021-09-07T21:51:09.100707Z"
    },
    "papermill": {
     "duration": 0.058999,
     "end_time": "2021-09-07T21:51:09.100968",
     "exception": false,
     "start_time": "2021-09-07T21:51:09.041969",
     "status": "completed"
    },
    "tags": []
   },
   "outputs": [
    {
     "name": "stdout",
     "output_type": "stream",
     "text": [
      "Wrote 500/10000 samples to cases/case-500/input-files-case.tsv\n"
     ]
    }
   ],
   "source": [
    "import pandas as pd\n",
    "\n",
    "all_input_df = pd.read_csv(input_files_all, sep='\\t')\n",
    "all_input_total = len(all_input_df)\n",
    "\n",
    "subset_input_df = all_input_df.head(number_samples)\n",
    "subset_input_total = len(subset_input_df)\n",
    "\n",
    "subset_input_df.to_csv(cases_input, sep='\\t', index=False)\n",
    "\n",
    "print(f'Wrote {subset_input_total}/{all_input_total} samples to {cases_input}')"
   ]
  },
  {
   "cell_type": "markdown",
   "id": "f208279e-7558-47fc-9362-da29df92828a",
   "metadata": {
    "papermill": {
     "duration": 0.009209,
     "end_time": "2021-09-07T21:51:09.125162",
     "exception": false,
     "start_time": "2021-09-07T21:51:09.115953",
     "status": "completed"
    },
    "tags": []
   },
   "source": [
    "# 2. Index genomes"
   ]
  },
  {
   "cell_type": "code",
   "execution_count": 5,
   "id": "4e936f7c-2fcd-4188-b0e6-6b3ceb5cdcd2",
   "metadata": {
    "execution": {
     "iopub.execute_input": "2021-09-07T21:51:09.155343Z",
     "iopub.status.busy": "2021-09-07T21:51:09.154749Z",
     "iopub.status.idle": "2021-09-07T21:51:11.923112Z",
     "shell.execute_reply": "2021-09-07T21:51:11.924052Z"
    },
    "papermill": {
     "duration": 2.792118,
     "end_time": "2021-09-07T21:51:11.924318",
     "exception": false,
     "start_time": "2021-09-07T21:51:09.132200",
     "status": "completed"
    },
    "tags": []
   },
   "outputs": [
    {
     "name": "stdout",
     "output_type": "stream",
     "text": [
      "gdi, version 0.3.0.dev11\r\n"
     ]
    }
   ],
   "source": [
    "!gdi --version"
   ]
  },
  {
   "cell_type": "markdown",
   "id": "5409ecf8-2158-4361-9d2f-6b1a6c7c63a6",
   "metadata": {
    "papermill": {
     "duration": 0.008726,
     "end_time": "2021-09-07T21:51:11.947161",
     "exception": false,
     "start_time": "2021-09-07T21:51:11.938435",
     "status": "completed"
    },
    "tags": []
   },
   "source": [
    "## 2.1. Index reads"
   ]
  },
  {
   "cell_type": "code",
   "execution_count": 6,
   "id": "3d63e861-733e-46f2-8bce-bd1a2c7c7058",
   "metadata": {
    "execution": {
     "iopub.execute_input": "2021-09-07T21:51:11.972712Z",
     "iopub.status.busy": "2021-09-07T21:51:11.968902Z",
     "iopub.status.idle": "2021-09-07T22:08:17.807880Z",
     "shell.execute_reply": "2021-09-07T22:08:17.806776Z"
    },
    "papermill": {
     "duration": 1025.85396,
     "end_time": "2021-09-07T22:08:17.808237",
     "exception": false,
     "start_time": "2021-09-07T21:51:11.954277",
     "status": "completed"
    },
    "tags": []
   },
   "outputs": [
    {
     "name": "stdout",
     "output_type": "stream",
     "text": [
      "\n",
      "Iteration 1 of index/analysis of 500 samples with 32 cores\n",
      "Removing any extra snakemake directories: ['snakemake-assemblies.1631051244.0899754']\n"
     ]
    },
    {
     "name": "stdout",
     "output_type": "stream",
     "text": [
      "Creating new index: [gdi init cases/case-500/index]\n"
     ]
    },
    {
     "name": "stdout",
     "output_type": "stream",
     "text": [
      "Creating a new index took 2.77 seconds\n",
      "Analysis running: [gdi --project-dir cases/case-500/index --ncores 32 analysis --use-conda --no-load-data --reference-file references/NC_045512.gbk.gz --kmer-size 31 --kmer-size 51 --kmer-size 71 --include-kmer --reads-mincov 10 --input-structured-genomes-file cases/case-500/input-files-case.tsv]\n"
     ]
    },
    {
     "name": "stdout",
     "output_type": "stream",
     "text": [
      "Analysis took 4.52 minutes\n",
      "Index running: [gdi --project-dir cases/case-500/index --ncores 32 load vcf-kmer --reference-file references/NC_045512.gbk.gz /home/CSCScience.ca/apetkau/workspace/genomics-data-index-evaluation/evaluations/sars-cov-2/snakemake-assemblies.1631051479.8168156/gdi-input.fofn]\n"
     ]
    },
    {
     "name": "stdout",
     "output_type": "stream",
     "text": [
      "Indexing took 0.64 minutes\n",
      "Building tree: [gdi --project-dir cases/case-500/index --ncores 32 rebuild tree --align-type full --extra-params '--fast -m GTR+F+R4' NC_045512]\n"
     ]
    },
    {
     "name": "stdout",
     "output_type": "stream",
     "text": [
      "Building tree took 0.41 minutes\n"
     ]
    },
    {
     "name": "stderr",
     "output_type": "stream",
     "text": [
      "A reminder to myself to look for a Python solution for directory sizes (instead of running `du`)\n"
     ]
    },
    {
     "name": "stdout",
     "output_type": "stream",
     "text": [
      "\n",
      "Iteration 2 of index/analysis of 500 samples with 32 cores\n",
      "Removing any extra snakemake directories: ['snakemake-assemblies.1631051479.8168156']\n"
     ]
    },
    {
     "name": "stdout",
     "output_type": "stream",
     "text": [
      "Removing any existing indexes cases/case-500/index\n",
      "Creating new index: [gdi init cases/case-500/index]\n"
     ]
    },
    {
     "name": "stdout",
     "output_type": "stream",
     "text": [
      "Creating a new index took 2.78 seconds\n",
      "Analysis running: [gdi --project-dir cases/case-500/index --ncores 32 analysis --use-conda --no-load-data --reference-file references/NC_045512.gbk.gz --kmer-size 31 --kmer-size 51 --kmer-size 71 --include-kmer --reads-mincov 10 --input-structured-genomes-file cases/case-500/input-files-case.tsv]\n"
     ]
    },
    {
     "name": "stdout",
     "output_type": "stream",
     "text": [
      "Analysis took 4.45 minutes\n",
      "Index running: [gdi --project-dir cases/case-500/index --ncores 32 load vcf-kmer --reference-file references/NC_045512.gbk.gz /home/CSCScience.ca/apetkau/workspace/genomics-data-index-evaluation/evaluations/sars-cov-2/snakemake-assemblies.1631051819.3230622/gdi-input.fofn]\n"
     ]
    },
    {
     "name": "stdout",
     "output_type": "stream",
     "text": [
      "Indexing took 0.65 minutes\n",
      "Building tree: [gdi --project-dir cases/case-500/index --ncores 32 rebuild tree --align-type full --extra-params '--fast -m GTR+F+R4' NC_045512]\n"
     ]
    },
    {
     "name": "stdout",
     "output_type": "stream",
     "text": [
      "Building tree took 0.40 minutes\n"
     ]
    },
    {
     "name": "stderr",
     "output_type": "stream",
     "text": [
      "Attempting to set global database_path_translator=<genomics_data_index.storage.model.db.DatabasePathTranslator.DatabasePathTranslator object at 0x7f6501d0f280> but it is already set\n"
     ]
    },
    {
     "name": "stderr",
     "output_type": "stream",
     "text": [
      "A reminder to myself to look for a Python solution for directory sizes (instead of running `du`)\n"
     ]
    },
    {
     "name": "stdout",
     "output_type": "stream",
     "text": [
      "\n",
      "Iteration 3 of index/analysis of 500 samples with 32 cores\n",
      "Removing any extra snakemake directories: ['snakemake-assemblies.1631051819.3230622']\n"
     ]
    },
    {
     "name": "stdout",
     "output_type": "stream",
     "text": [
      "Removing any existing indexes cases/case-500/index\n",
      "Creating new index: [gdi init cases/case-500/index]\n"
     ]
    },
    {
     "name": "stdout",
     "output_type": "stream",
     "text": [
      "Creating a new index took 2.75 seconds\n",
      "Analysis running: [gdi --project-dir cases/case-500/index --ncores 32 analysis --use-conda --no-load-data --reference-file references/NC_045512.gbk.gz --kmer-size 31 --kmer-size 51 --kmer-size 71 --include-kmer --reads-mincov 10 --input-structured-genomes-file cases/case-500/input-files-case.tsv]\n"
     ]
    },
    {
     "name": "stdout",
     "output_type": "stream",
     "text": [
      "Analysis took 4.72 minutes\n",
      "Index running: [gdi --project-dir cases/case-500/index --ncores 32 load vcf-kmer --reference-file references/NC_045512.gbk.gz /home/CSCScience.ca/apetkau/workspace/genomics-data-index-evaluation/evaluations/sars-cov-2/snakemake-assemblies.1631052161.526966/gdi-input.fofn]\n"
     ]
    },
    {
     "name": "stdout",
     "output_type": "stream",
     "text": [
      "Indexing took 0.62 minutes\n",
      "Building tree: [gdi --project-dir cases/case-500/index --ncores 32 rebuild tree --align-type full --extra-params '--fast -m GTR+F+R4' NC_045512]\n"
     ]
    },
    {
     "name": "stdout",
     "output_type": "stream",
     "text": [
      "Building tree took 0.42 minutes\n"
     ]
    },
    {
     "name": "stderr",
     "output_type": "stream",
     "text": [
      "Attempting to set global database_path_translator=<genomics_data_index.storage.model.db.DatabasePathTranslator.DatabasePathTranslator object at 0x7f64b78211f0> but it is already set\n"
     ]
    },
    {
     "name": "stderr",
     "output_type": "stream",
     "text": [
      "A reminder to myself to look for a Python solution for directory sizes (instead of running `du`)\n"
     ]
    }
   ],
   "source": [
    "results_handler = gdi_benchmark.BenchmarkResultsHandler(name=case_name)\n",
    "benchmarker = gdi_benchmark.IndexBenchmarker(benchmark_results_handler=results_handler,\n",
    "                                             index_path=index_path, input_files_file=cases_input,\n",
    "                                             reference_file=reference_file, mincov=mincov, build_tree=True,\n",
    "                                             ncores=ncores)\n",
    "\n",
    "benchmark_df = benchmarker.benchmark(iterations=iterations)"
   ]
  },
  {
   "cell_type": "code",
   "execution_count": 7,
   "id": "3bcb6da7-0164-47f2-abdd-a4c159da1e3b",
   "metadata": {
    "execution": {
     "iopub.execute_input": "2021-09-07T22:08:17.870972Z",
     "iopub.status.busy": "2021-09-07T22:08:17.864048Z",
     "iopub.status.idle": "2021-09-07T22:08:17.884291Z",
     "shell.execute_reply": "2021-09-07T22:08:17.885182Z"
    },
    "papermill": {
     "duration": 0.055586,
     "end_time": "2021-09-07T22:08:17.885450",
     "exception": false,
     "start_time": "2021-09-07T22:08:17.829864",
     "status": "completed"
    },
    "tags": []
   },
   "outputs": [
    {
     "data": {
      "text/html": [
       "<div>\n",
       "<style scoped>\n",
       "    .dataframe tbody tr th:only-of-type {\n",
       "        vertical-align: middle;\n",
       "    }\n",
       "\n",
       "    .dataframe tbody tr th {\n",
       "        vertical-align: top;\n",
       "    }\n",
       "\n",
       "    .dataframe thead th {\n",
       "        text-align: right;\n",
       "    }\n",
       "</style>\n",
       "<table border=\"1\" class=\"dataframe\">\n",
       "  <thead>\n",
       "    <tr style=\"text-align: right;\">\n",
       "      <th></th>\n",
       "      <th>Name</th>\n",
       "      <th>Iteration</th>\n",
       "      <th>Number samples</th>\n",
       "      <th>Number cores</th>\n",
       "      <th>Reference length</th>\n",
       "      <th>Analysis runtime</th>\n",
       "      <th>Analysis memory (max)</th>\n",
       "      <th>Analysis memory (max/process)</th>\n",
       "      <th>Analysis disk uage</th>\n",
       "      <th>Index runtime</th>\n",
       "      <th>Index memory (max)</th>\n",
       "      <th>Index memory (max/process)</th>\n",
       "      <th>Index size</th>\n",
       "      <th>Tree runtime</th>\n",
       "      <th>Tree memory (max)</th>\n",
       "      <th>Tree memory (max/process)</th>\n",
       "      <th>Total runtime</th>\n",
       "      <th>Max memory</th>\n",
       "    </tr>\n",
       "  </thead>\n",
       "  <tbody>\n",
       "    <tr>\n",
       "      <th>0</th>\n",
       "      <td>case-500</td>\n",
       "      <td>1</td>\n",
       "      <td>500</td>\n",
       "      <td>32</td>\n",
       "      <td>29903</td>\n",
       "      <td>270.92</td>\n",
       "      <td>1.193914e+09</td>\n",
       "      <td>377585664.0</td>\n",
       "      <td>3.542258e+09</td>\n",
       "      <td>38.49</td>\n",
       "      <td>5.978259e+09</td>\n",
       "      <td>551124992.0</td>\n",
       "      <td>13217792.0</td>\n",
       "      <td>24.43</td>\n",
       "      <td>286121984.0</td>\n",
       "      <td>238194688.0</td>\n",
       "      <td>333.84</td>\n",
       "      <td>5.978259e+09</td>\n",
       "    </tr>\n",
       "    <tr>\n",
       "      <th>0</th>\n",
       "      <td>case-500</td>\n",
       "      <td>2</td>\n",
       "      <td>500</td>\n",
       "      <td>32</td>\n",
       "      <td>29903</td>\n",
       "      <td>266.85</td>\n",
       "      <td>1.284407e+09</td>\n",
       "      <td>377982976.0</td>\n",
       "      <td>3.542270e+09</td>\n",
       "      <td>38.72</td>\n",
       "      <td>6.126125e+09</td>\n",
       "      <td>559022080.0</td>\n",
       "      <td>13217792.0</td>\n",
       "      <td>23.93</td>\n",
       "      <td>285667328.0</td>\n",
       "      <td>237785088.0</td>\n",
       "      <td>329.50</td>\n",
       "      <td>6.126125e+09</td>\n",
       "    </tr>\n",
       "    <tr>\n",
       "      <th>0</th>\n",
       "      <td>case-500</td>\n",
       "      <td>3</td>\n",
       "      <td>500</td>\n",
       "      <td>32</td>\n",
       "      <td>29903</td>\n",
       "      <td>283.10</td>\n",
       "      <td>1.239056e+09</td>\n",
       "      <td>376061952.0</td>\n",
       "      <td>3.542249e+09</td>\n",
       "      <td>37.05</td>\n",
       "      <td>5.971153e+09</td>\n",
       "      <td>565698560.0</td>\n",
       "      <td>13197312.0</td>\n",
       "      <td>25.28</td>\n",
       "      <td>286334976.0</td>\n",
       "      <td>238297088.0</td>\n",
       "      <td>345.43</td>\n",
       "      <td>5.971153e+09</td>\n",
       "    </tr>\n",
       "  </tbody>\n",
       "</table>\n",
       "</div>"
      ],
      "text/plain": [
       "       Name  Iteration  Number samples  Number cores  Reference length  \\\n",
       "0  case-500          1             500            32             29903   \n",
       "0  case-500          2             500            32             29903   \n",
       "0  case-500          3             500            32             29903   \n",
       "\n",
       "   Analysis runtime  Analysis memory (max)  Analysis memory (max/process)  \\\n",
       "0            270.92           1.193914e+09                    377585664.0   \n",
       "0            266.85           1.284407e+09                    377982976.0   \n",
       "0            283.10           1.239056e+09                    376061952.0   \n",
       "\n",
       "   Analysis disk uage  Index runtime  Index memory (max)  \\\n",
       "0        3.542258e+09          38.49        5.978259e+09   \n",
       "0        3.542270e+09          38.72        6.126125e+09   \n",
       "0        3.542249e+09          37.05        5.971153e+09   \n",
       "\n",
       "   Index memory (max/process)  Index size  Tree runtime  Tree memory (max)  \\\n",
       "0                 551124992.0  13217792.0         24.43        286121984.0   \n",
       "0                 559022080.0  13217792.0         23.93        285667328.0   \n",
       "0                 565698560.0  13197312.0         25.28        286334976.0   \n",
       "\n",
       "   Tree memory (max/process)  Total runtime    Max memory  \n",
       "0                238194688.0         333.84  5.978259e+09  \n",
       "0                237785088.0         329.50  6.126125e+09  \n",
       "0                238297088.0         345.43  5.971153e+09  "
      ]
     },
     "execution_count": 7,
     "metadata": {},
     "output_type": "execute_result"
    }
   ],
   "source": [
    "benchmark_df"
   ]
  },
  {
   "cell_type": "code",
   "execution_count": 8,
   "id": "535a9ccc-ab9c-4919-806f-128e1efd2389",
   "metadata": {
    "execution": {
     "iopub.execute_input": "2021-09-07T22:08:17.926683Z",
     "iopub.status.busy": "2021-09-07T22:08:17.926291Z",
     "iopub.status.idle": "2021-09-07T22:08:17.931836Z",
     "shell.execute_reply": "2021-09-07T22:08:17.932193Z"
    },
    "papermill": {
     "duration": 0.023957,
     "end_time": "2021-09-07T22:08:17.932316",
     "exception": false,
     "start_time": "2021-09-07T22:08:17.908359",
     "status": "completed"
    },
    "tags": []
   },
   "outputs": [],
   "source": [
    "benchmark_df.to_csv(benchmark_path, sep='\\t', index=False)"
   ]
  },
  {
   "cell_type": "markdown",
   "id": "6cb7673b-9f85-4c43-b2e2-93538497a196",
   "metadata": {
    "papermill": {
     "duration": 0.010256,
     "end_time": "2021-09-07T22:08:17.955670",
     "exception": false,
     "start_time": "2021-09-07T22:08:17.945414",
     "status": "completed"
    },
    "tags": []
   },
   "source": [
    "# 3. Export trees"
   ]
  },
  {
   "cell_type": "code",
   "execution_count": 9,
   "id": "5280f82c-5434-4391-8c44-b937a7c95bd5",
   "metadata": {
    "execution": {
     "iopub.execute_input": "2021-09-07T22:08:17.992137Z",
     "iopub.status.busy": "2021-09-07T22:08:17.982112Z",
     "iopub.status.idle": "2021-09-07T22:08:20.970706Z",
     "shell.execute_reply": "2021-09-07T22:08:20.971581Z"
    },
    "papermill": {
     "duration": 3.006357,
     "end_time": "2021-09-07T22:08:20.971896",
     "exception": false,
     "start_time": "2021-09-07T22:08:17.965539",
     "status": "completed"
    },
    "tags": []
   },
   "outputs": [
    {
     "name": "stdout",
     "output_type": "stream",
     "text": [
      "\u001b[32m2021-09-07 17:08:20\u001b[0m \u001b[1;30mERROR:\u001b[0m \u001b[31mreference_genome=[<Reference(id=1, name=NC_045512, length=29903)>] does not have a tree\u001b[0m\r\n"
     ]
    },
    {
     "name": "stdout",
     "output_type": "stream",
     "text": [
      "Wrote tree to cases/case-500/tree.tre\n"
     ]
    }
   ],
   "source": [
    "!gdi --project-dir {index_path} export tree {reference_name} > {output_tree}\n",
    "print(f'Wrote tree to {output_tree}')"
   ]
  }
 ],
 "metadata": {
  "kernelspec": {
   "display_name": "Python 3 (ipykernel)",
   "language": "python",
   "name": "python3"
  },
  "language_info": {
   "codemirror_mode": {
    "name": "ipython",
    "version": 3
   },
   "file_extension": ".py",
   "mimetype": "text/x-python",
   "name": "python",
   "nbconvert_exporter": "python",
   "pygments_lexer": "ipython3",
   "version": "3.8.10"
  },
  "papermill": {
   "default_parameters": {},
   "duration": 1035.89741,
   "end_time": "2021-09-07T22:08:21.506950",
   "environment_variables": {},
   "exception": null,
   "input_path": "template-3-index-genomes.ipynb",
   "output_path": "3-index-genomes.case-500.ipynb",
   "parameters": {
    "cases_dir": "cases/case-500",
    "iterations": 3,
    "number_samples": 500
   },
   "start_time": "2021-09-07T21:51:05.609540",
   "version": "2.3.3"
  }
 },
 "nbformat": 4,
 "nbformat_minor": 5
}