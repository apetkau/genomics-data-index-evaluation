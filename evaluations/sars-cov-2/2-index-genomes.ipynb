{
 "cells": [
  {
   "cell_type": "markdown",
   "id": "84c412c6-2ae8-46ea-9cdd-ede669405331",
   "metadata": {},
   "source": [
    "# Initiate index"
   ]
  },
  {
   "cell_type": "code",
   "execution_count": 1,
   "id": "680a53e6-aeb4-48e0-976c-2842bacf8023",
   "metadata": {},
   "outputs": [
    {
     "name": "stdout",
     "output_type": "stream",
     "text": [
      "Initializing empty project in [index]\n"
     ]
    }
   ],
   "source": [
    "from pathlib import Path\n",
    "from os import mkdir\n",
    "from shutil import rmtree\n",
    "\n",
    "index_path = Path('index')\n",
    "\n",
    "if index_path.exists():\n",
    "    rmtree(index_path)\n",
    "    \n",
    "!gdi init {index_path}"
   ]
  },
  {
   "cell_type": "markdown",
   "id": "aa9e7487-55be-4dd2-b71d-2c41c8eebbc7",
   "metadata": {},
   "source": [
    "# Index batches of genomes"
   ]
  },
  {
   "cell_type": "code",
   "execution_count": 2,
   "id": "ccb7e4b2-35f5-4035-bb25-29531ca3f843",
   "metadata": {},
   "outputs": [],
   "source": [
    "import glob\n",
    "import pandas as pd\n",
    "import cmdbench\n",
    "import time\n",
    "from shutil import rmtree\n",
    "import gzip\n",
    "from Bio import SeqIO\n",
    "\n",
    "input_file = Path('input/input-files.tsv')\n",
    "ncores = 32\n",
    "reference_file = Path(\"references/NC_045512.gbk.gz\")\n",
    "\n",
    "input_df = pd.read_csv(input_file, sep='\\t')\n",
    "number_samples = len(input_df)\n",
    "sample_batch_size = 10000\n",
    "\n",
    "with gzip.open(reference_file, mode='rt') as f:\n",
    "    sequences = list(SeqIO.parse(f, 'genbank'))\n",
    "    reference_length = len(sequences[0])\n",
    "\n",
    "def get_and_validate_index_input(expected_number_samples):\n",
    "    snakemake_dirs = glob.glob('snakemake*')\n",
    "    if len(snakemake_dirs) == 1:\n",
    "        snakemake_dir = snakemake_dirs[0]\n",
    "    else:\n",
    "        raise Exception(f'Invalid number of snakemake directories: {snakemake_dirs}')\n",
    "\n",
    "    vcf_input_file = (Path(snakemake_dir) / 'gdi-input.fofn').absolute()\n",
    "\n",
    "    if not vcf_input_file.exists():\n",
    "        raise Exception(f'VCF input file {vcf_input_file} does not exist')\n",
    "        \n",
    "    vcf_df = pd.read_csv(vcf_input_file, sep='\\t')\n",
    "    actual_number_samples = len(vcf_df)\n",
    "    \n",
    "    assert expected_number_samples == actual_number_samples, f'expected={expected_number_samples} != actual={actual_number_samples}'\n",
    "    \n",
    "    return vcf_input_file"
   ]
  },
  {
   "cell_type": "markdown",
   "id": "33ea2aeb-ad19-4ecd-bba3-70110fdaa28d",
   "metadata": {},
   "source": [
    "## Do index"
   ]
  },
  {
   "cell_type": "code",
   "execution_count": 3,
   "id": "d16f128d-2059-4dcb-8a23-03f72ddd01f8",
   "metadata": {},
   "outputs": [
    {
     "name": "stdout",
     "output_type": "stream",
     "text": [
      "Removing any extra snakemake directories: ['snakemake-assemblies.1628891403.471974']\n",
      "\n",
      "***ANALYSIS of 20 samples with 32 cores***\n",
      "Running: [gdi --project-dir index --ncores 32 analysis --use-conda --no-load-data --reference-file references/NC_045512.gbk.gz --sample-batch-size 10000 --input-structured-genomes-file input/input-files.tsv]\n",
      "Analysis took 0.69 minutes\n",
      "\n",
      "***INDEX of 20 samples with 32 cores***\n",
      "Running: [gdi --project-dir index --ncores 32 load vcf --reference-file references/NC_045512.gbk.gz /home/CSCScience.ca/apetkau/workspace/genomics-data-index-evaluation/evaluations/sars-cov-2/snakemake-assemblies.1628916352.0267313/gdi-input.fofn]\n",
      "Indexing took 0.11 minutes\n"
     ]
    }
   ],
   "source": [
    "import cmdbench\n",
    "import time\n",
    "from shutil import rmtree\n",
    "\n",
    "snakemake_dirs = glob.glob('snakemake*')\n",
    "print(f'Removing any extra snakemake directories: {snakemake_dirs}')\n",
    "for d in snakemake_dirs:\n",
    "    rmtree(d)\n",
    "\n",
    "print(f'\\n***ANALYSIS of {number_samples} samples with {ncores} cores***')\n",
    "analysis_cmd = (\n",
    "    f\"gdi --project-dir {index_path} --ncores {ncores} analysis\"\n",
    "    f\" --use-conda --no-load-data --reference-file {reference_file}\" \n",
    "    f\" --sample-batch-size {sample_batch_size} --input-structured-genomes-file {input_file}\"\n",
    ")\n",
    "print(f\"Running: [{analysis_cmd}]\")\n",
    "before_time = time.time()\n",
    "benchmark_analysis = cmdbench.benchmark_command(analysis_cmd, iterations_num = 1)\n",
    "after_time = time.time()\n",
    "print(f'Analysis took {(after_time - before_time)/60:0.2f} minutes')\n",
    "fig = benchmark_analysis.get_resources_plot(width = 15, height = 10)\n",
    "fig.savefig('analysis-plot.png')\n",
    "\n",
    "print(f'\\n***INDEX of {number_samples} samples with {ncores} cores***')\n",
    "index_vcf_file = get_and_validate_index_input(expected_number_samples=number_samples)\n",
    "index_cmd = (\n",
    "    f\"gdi --project-dir {index_path} --ncores {ncores} load vcf\"\n",
    "    f\" --reference-file {reference_file} {index_vcf_file}\"\n",
    ")\n",
    "print(f\"Running: [{index_cmd}]\")\n",
    "before_time = time.time()\n",
    "benchmark_index = cmdbench.benchmark_command(index_cmd, iterations_num = 1)\n",
    "after_time = time.time()\n",
    "print(f'Indexing took {(after_time - before_time)/60:0.2f} minutes')\n",
    "fig = benchmark_index.get_resources_plot(width = 15, height = 10)\n",
    "fig.savefig('index-plot.png')"
   ]
  },
  {
   "cell_type": "markdown",
   "id": "779e49b2-d38a-47b8-841b-01758833a2cb",
   "metadata": {},
   "source": [
    "# Write benchmark results"
   ]
  },
  {
   "cell_type": "code",
   "execution_count": 4,
   "id": "d61da9f3-cdc0-4fec-bad5-03aa1008cc73",
   "metadata": {},
   "outputs": [
    {
     "name": "stderr",
     "output_type": "stream",
     "text": [
      "A reminder to myself to look for a Python solution for directory sizes (instead of running `du`)\n"
     ]
    },
    {
     "data": {
      "text/html": [
       "<div>\n",
       "<style scoped>\n",
       "    .dataframe tbody tr th:only-of-type {\n",
       "        vertical-align: middle;\n",
       "    }\n",
       "\n",
       "    .dataframe tbody tr th {\n",
       "        vertical-align: top;\n",
       "    }\n",
       "\n",
       "    .dataframe thead th {\n",
       "        text-align: right;\n",
       "    }\n",
       "</style>\n",
       "<table border=\"1\" class=\"dataframe\">\n",
       "  <thead>\n",
       "    <tr style=\"text-align: right;\">\n",
       "      <th></th>\n",
       "      <th>Number samples</th>\n",
       "      <th>Number cores</th>\n",
       "      <th>Reference length</th>\n",
       "      <th>Analysis runtime</th>\n",
       "      <th>Analysis memory (max)</th>\n",
       "      <th>Analysis memory (max/process)</th>\n",
       "      <th>Analysis disk uage</th>\n",
       "      <th>Index runtime</th>\n",
       "      <th>Index memory (max)</th>\n",
       "      <th>Index memory (max/process)</th>\n",
       "      <th>Index size</th>\n",
       "      <th>Total runtime</th>\n",
       "      <th>Max memory</th>\n",
       "    </tr>\n",
       "  </thead>\n",
       "  <tbody>\n",
       "    <tr>\n",
       "      <th>0</th>\n",
       "      <td>20</td>\n",
       "      <td>32</td>\n",
       "      <td>29903</td>\n",
       "      <td>41.33</td>\n",
       "      <td>1.832592</td>\n",
       "      <td>0.264275</td>\n",
       "      <td>0.615688</td>\n",
       "      <td>6.61</td>\n",
       "      <td>5.15641</td>\n",
       "      <td>0.254543</td>\n",
       "      <td>0.001846</td>\n",
       "      <td>47.94</td>\n",
       "      <td>5.15641</td>\n",
       "    </tr>\n",
       "  </tbody>\n",
       "</table>\n",
       "</div>"
      ],
      "text/plain": [
       "   Number samples  Number cores  Reference length  Analysis runtime  \\\n",
       "0              20            32             29903             41.33   \n",
       "\n",
       "   Analysis memory (max)  Analysis memory (max/process)  Analysis disk uage  \\\n",
       "0               1.832592                       0.264275            0.615688   \n",
       "\n",
       "   Index runtime  Index memory (max)  Index memory (max/process)  Index size  \\\n",
       "0           6.61             5.15641                    0.254543    0.001846   \n",
       "\n",
       "   Total runtime  Max memory  \n",
       "0          47.94     5.15641  "
      ]
     },
     "execution_count": 4,
     "metadata": {},
     "output_type": "execute_result"
    }
   ],
   "source": [
    "import subprocess\n",
    "import genomics_data_index.api as gdi\n",
    "\n",
    "def benchmark_to_df(number_samples, benchmark_analysis, benchmark_index,\n",
    "                    index_path: Path, analysis_path: Path,\n",
    "                    ncores: int, reference_length: int) -> pd.DataFrame:\n",
    "    analysis_data = benchmark_analysis.get_first_iteration()\n",
    "    index_data = benchmark_index.get_first_iteration()\n",
    "    \n",
    "    analysis_size = subprocess.check_output(\n",
    "        ['du', '-s', '--block-size=1', str(analysis_path)]).split()[0].decode('utf-8')\n",
    "    \n",
    "    db = gdi.GenomicsDataIndex.connect(index_path)\n",
    "    index_size = db.db_size(unit='B').set_index('Type').loc['Total']['Data Size (B)']\n",
    "    \n",
    "    df = pd.DataFrame(data={\n",
    "        'Number samples': [int(number_samples)],\n",
    "        'Number cores': [ncores],\n",
    "        'Reference length': [reference_length],\n",
    "        'Analysis runtime': [float(analysis_data['process']['execution_time'])],\n",
    "        'Analysis memory (max)': [float(analysis_data['memory']['max'])],\n",
    "        'Analysis memory (max/process)': [float(analysis_data['memory']['max_perprocess'])],\n",
    "        'Analysis disk uage': [float(analysis_size)],\n",
    "        'Index runtime': [float(index_data['process']['execution_time'])],\n",
    "        'Index memory (max)': [float(index_data['memory']['max'])],\n",
    "        'Index memory (max/process)': [float(index_data['memory']['max_perprocess'])],\n",
    "        'Index size': [index_size],\n",
    "    })\n",
    "    \n",
    "    df['Total runtime'] = df['Analysis runtime'] + df['Index runtime']\n",
    "    df['Max memory'] = df[['Analysis memory (max)', 'Index memory (max)']].max(axis='columns')\n",
    "    \n",
    "    return df\n",
    "\n",
    "benchmark_df = benchmark_to_df(number_samples=number_samples,\n",
    "                               benchmark_analysis=benchmark_analysis,\n",
    "                               benchmark_index=benchmark_index,\n",
    "                               index_path=index_path,\n",
    "                               analysis_path=index_vcf_file.parent,\n",
    "                               ncores=ncores,\n",
    "                               reference_length=reference_length)\n",
    "\n",
    "benchmark_df.to_csv('index-benchmark.tsv', sep='\\t', index=False)\n",
    "\n",
    "def convert_sizes(df: pd.DataFrame) -> pd.DataFrame:\n",
    "    size_factor = 1024**3 # GB\n",
    "    time_factor = 1 # min\n",
    "    \n",
    "    new_df = df.copy()\n",
    "    size_cols = ['Analysis memory (max)', 'Analysis memory (max/process)',\n",
    "           'Analysis disk uage', 'Index memory (max)', 'Index memory (max/process)',\n",
    "           'Index size', 'Max memory']\n",
    "    time_cols = ['Analysis runtime', 'Index runtime', 'Total runtime']\n",
    "    \n",
    "    for col in size_cols:\n",
    "        new_df[col] = df[col] / size_factor\n",
    "        \n",
    "    for col in time_cols:\n",
    "        new_df[col] = df[col] / time_factor\n",
    "        \n",
    "    return new_df\n",
    "\n",
    "convert_sizes(benchmark_df)"
   ]
  },
  {
   "cell_type": "code",
   "execution_count": null,
   "id": "957e848d-7608-461f-9866-c1e2de4398b1",
   "metadata": {},
   "outputs": [],
   "source": []
  }
 ],
 "metadata": {
  "kernelspec": {
   "display_name": "Python 3 (ipykernel)",
   "language": "python",
   "name": "python3"
  },
  "language_info": {
   "codemirror_mode": {
    "name": "ipython",
    "version": 3
   },
   "file_extension": ".py",
   "mimetype": "text/x-python",
   "name": "python",
   "nbconvert_exporter": "python",
   "pygments_lexer": "ipython3",
   "version": "3.8.10"
  }
 },
 "nbformat": 4,
 "nbformat_minor": 5
}
